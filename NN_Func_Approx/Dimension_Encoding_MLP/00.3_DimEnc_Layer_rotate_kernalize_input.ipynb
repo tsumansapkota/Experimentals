{
 "cells": [
  {
   "cell_type": "code",
   "execution_count": 1,
   "metadata": {},
   "outputs": [],
   "source": [
    "import torch\n",
    "import torch.nn as nn\n",
    "import numpy as np\n",
    "import matplotlib.pyplot as plt\n",
    "import sys, os, time\n",
    "from pathlib import Path\n",
    "from tqdm import tqdm\n",
    "\n",
    "import mylibrary.datasets as datasets\n",
    "import mylibrary.nnlib as tnn"
   ]
  },
  {
   "cell_type": "code",
   "execution_count": 2,
   "metadata": {},
   "outputs": [],
   "source": [
    "device = torch.device(\"cuda:0\")\n",
    "# device = torch.device(\"cpu\")"
   ]
  },
  {
   "cell_type": "code",
   "execution_count": 3,
   "metadata": {},
   "outputs": [],
   "source": [
    "mnist = datasets.FashionMNIST()\n",
    "train_data, train_label_, test_data, test_label_ = mnist.load()\n",
    "\n",
    "train_data = train_data / 255.\n",
    "test_data = test_data / 255."
   ]
  },
  {
   "cell_type": "code",
   "execution_count": 4,
   "metadata": {},
   "outputs": [],
   "source": [
    "input_size = 784\n",
    "output_size = 10\n",
    "\n",
    "learning_rate = 0.0001\n",
    "batch_size = 50\n",
    "\n",
    "train_label = tnn.Logits.index_to_logit(train_label_)\n",
    "train_size = len(train_label_)"
   ]
  },
  {
   "cell_type": "code",
   "execution_count": 5,
   "metadata": {},
   "outputs": [],
   "source": [
    "## converting data to pytorch format\n",
    "train_data = torch.Tensor(train_data)\n",
    "test_data = torch.Tensor(test_data)\n",
    "train_label = torch.LongTensor(train_label_)"
   ]
  },
  {
   "cell_type": "markdown",
   "metadata": {},
   "source": [
    "### Model Development"
   ]
  },
  {
   "cell_type": "code",
   "execution_count": 6,
   "metadata": {},
   "outputs": [],
   "source": [
    "### does binary like encoding but continuous sin and cos\n",
    "def generate_dimension_encoding(dim, binarize=True):\n",
    "    num_d = int(np.ceil(np.log2(dim)))\n",
    "    scale = np.arange(0, num_d, 1).reshape(1,-1)\n",
    "    scale = (1/2)**scale\n",
    "    \n",
    "    index = np.arange(0, dim, 1).reshape(-1,1)\n",
    "    mat = index*scale\n",
    "    \n",
    "    if binarize:\n",
    "        mat = mat*np.pi/2\n",
    "    sin_mat = np.sin(mat)**2\n",
    "    cos_mat = np.cos(mat)**2\n",
    "    pos_mat = np.concatenate((sin_mat, cos_mat), axis=1)\n",
    "    return torch.Tensor(pos_mat)\n",
    "\n",
    "### does exact binary encoding of position\n",
    "def generate_dimension_encoding2(dim):\n",
    "    num_d = int(np.ceil(np.log2(dim)))\n",
    "    pos_mat = np.empty((dim, num_d))\n",
    "    for i in range(dim):\n",
    "        binary = np.binary_repr(i, width=num_d)\n",
    "        pos_mat[i] = [float(a) for a in binary]\n",
    "    \n",
    "    pos_mat = np.concatenate((pos_mat, 1-pos_mat), axis=1)\n",
    "    return torch.Tensor(pos_mat)\n",
    "\n",
    "\n",
    "### does sin and cosine of position (meant to be used as addition)\n",
    "def generate_dimension_encoding3(dim, binarize=False):\n",
    "    num_d = int(np.ceil(np.log2(dim)))\n",
    "    scale = np.arange(0, num_d, 1).reshape(1,-1)\n",
    "    scale = (1/2)**scale\n",
    "    \n",
    "    index = np.arange(0, dim, 1).reshape(-1,1)\n",
    "    mat = index*scale\n",
    "    if binarize:\n",
    "        mat = mat*np.pi/2\n",
    "    sin_mat = np.sin(mat)\n",
    "    cos_mat = np.cos(mat)\n",
    "    pos_mat = np.concatenate((sin_mat, cos_mat), axis=1)\n",
    "    return torch.Tensor(pos_mat)\n",
    "\n",
    "#### as in positional encoding of attention transformer (as addition)\n",
    "def generate_dimension_encoding4(dim, binarize=False):\n",
    "    num_d = int(np.ceil(np.log2(dim)))\n",
    "    scale = np.arange(0, num_d, 1).reshape(1,-1)\n",
    "    scale = (1/10000)**(scale*2/dim)\n",
    "    \n",
    "    index = np.arange(0, dim, 1).reshape(-1,1)\n",
    "    mat = index*scale\n",
    "    if binarize:\n",
    "        mat = mat*np.pi/2\n",
    "    sin_mat = np.sin(mat)\n",
    "    cos_mat = np.cos(mat)\n",
    "    pos_mat = np.concatenate((sin_mat, cos_mat), axis=1)\n",
    "    return torch.Tensor(pos_mat)"
   ]
  },
  {
   "cell_type": "code",
   "execution_count": 7,
   "metadata": {},
   "outputs": [],
   "source": [
    "# class Layer_DimEncMLP_mul(nn.Module):\n",
    "#     def __init__(self, dim, hidden_ratio = [2], activation=nn.ReLU()):\n",
    "#         super().__init__()\n",
    "#         self.dim = dim\n",
    "        \n",
    "#         self.pos_mat = generate_dimension_encoding(dim)\n",
    "# #         self.pos_mat = torch.cat((self.pos_mat, torch.ones(dim, 1)), dim=1)\n",
    "#         mlp_inp_dim = self.pos_mat.shape[1]\n",
    "#         la_dims = [mlp_inp_dim]\n",
    "#         for hr in hidden_ratio:\n",
    "#             la_dims.append(int(hr*mlp_inp_dim))\n",
    "#         la_dims.append(1)\n",
    "        \n",
    "#         layers = []\n",
    "#         for i in range(len(la_dims)-1):\n",
    "#             _a = nn.Linear(la_dims[i], la_dims[i+1])\n",
    "#             layers += [_a, activation]\n",
    "#         layers = layers[:-1]\n",
    "#         layers[-1].weight.data *= 0.\n",
    "#         self.net = nn.Sequential(*layers)\n",
    "        \n",
    "#         self.pos_mat = nn.Parameter(self.pos_mat)\n",
    "# #         self.norm = nn.LayerNorm(dim)\n",
    "        \n",
    "#     def forward(self, x):\n",
    "# #         x = self.norm(x)\n",
    "#         num_d = self.pos_mat.shape[1]\n",
    "#         encodedX = (x.unsqueeze(dim=2)*self.pos_mat.unsqueeze(dim=0))\n",
    "#         y = self.net(encodedX.reshape(-1, num_d)).reshape(x.shape)\n",
    "#         return y\n",
    "\n",
    "\n",
    "# class Layer_DimEncMLP_cat(nn.Module):\n",
    "#     def __init__(self, dim, hidden_ratio = [2], activation=nn.ReLU()):\n",
    "#         super().__init__()\n",
    "#         self.dim = dim\n",
    "        \n",
    "#         self.pos_mat = generate_dimension_encoding(dim)\n",
    "#         mlp_inp_dim = self.pos_mat.shape[1]\n",
    "#         la_dims = [mlp_inp_dim+1]\n",
    "#         for hr in hidden_ratio:\n",
    "#             la_dims.append(int(hr*mlp_inp_dim))\n",
    "#         la_dims.append(1)\n",
    "        \n",
    "#         layers = []\n",
    "#         for i in range(len(la_dims)-1):\n",
    "#             _a = nn.Linear(la_dims[i], la_dims[i+1])\n",
    "#             layers += [_a, activation]\n",
    "#         layers = layers[:-1]\n",
    "#         self.net = nn.Sequential(*layers)\n",
    "        \n",
    "#         self.pos_mat = nn.Parameter(self.pos_mat)\n",
    "# #         self.norm = nn.LayerNorm(dim)\n",
    "        \n",
    "#     def forward(self, x):\n",
    "# #         x = self.norm(x)\n",
    "#         num_d = self.pos_mat.shape[1]\n",
    "#         encodedX = torch.cat([\\\n",
    "#                               x.unsqueeze(dim=2),\\\n",
    "#                               self.pos_mat.expand(x.shape[0], *self.pos_mat.shape)\\\n",
    "#                              ],\\\n",
    "#                              dim=2)\n",
    "#         y = self.net(encodedX.reshape(-1, num_d+1)).reshape(x.shape)\n",
    "#         return y\n",
    "    \n",
    "    \n",
    "# class Layer_DimEncMLP_add(nn.Module):\n",
    "#     def __init__(self, dim, hidden_ratio = [2], activation=nn.ReLU()):\n",
    "#         super().__init__()\n",
    "#         self.dim = dim\n",
    "        \n",
    "#         self.pos_mat = generate_dimension_encoding4(dim)\n",
    "# #         self.pos_mat = torch.cat((self.pos_mat, torch.ones(dim, 1)), dim=1)\n",
    "#         mlp_inp_dim = self.pos_mat.shape[1]\n",
    "#         la_dims = [mlp_inp_dim]\n",
    "#         for hr in hidden_ratio:\n",
    "#             la_dims.append(int(hr*mlp_inp_dim))\n",
    "#         la_dims.append(1)\n",
    "        \n",
    "#         layers = []\n",
    "#         for i in range(len(la_dims)-1):\n",
    "#             _a = nn.Linear(la_dims[i], la_dims[i+1])\n",
    "#             layers += [_a, activation]\n",
    "#         layers = layers[:-1]\n",
    "#         self.net = nn.Sequential(*layers)\n",
    "#         self.pos_mat = nn.Parameter(self.pos_mat)\n",
    "# #         self.norm = nn.LayerNorm(dim)\n",
    "        \n",
    "#     def forward(self, x):\n",
    "# #         x = self.norm(x)\n",
    "#         num_d = self.pos_mat.shape[1]\n",
    "#         encodedX = (x.unsqueeze(dim=2)+self.pos_mat.unsqueeze(dim=0))\n",
    "#         y = self.net(encodedX.reshape(-1, num_d)).reshape(x.shape)\n",
    "#         return y"
   ]
  },
  {
   "cell_type": "code",
   "execution_count": 8,
   "metadata": {},
   "outputs": [
    {
     "data": {
      "text/plain": [
       "tensor([[0., 0., 0., 1., 1., 1.],\n",
       "        [0., 0., 1., 1., 1., 0.],\n",
       "        [0., 1., 0., 1., 0., 1.],\n",
       "        [0., 1., 1., 1., 0., 0.],\n",
       "        [1., 0., 0., 0., 1., 1.],\n",
       "        [1., 0., 1., 0., 1., 0.],\n",
       "        [1., 1., 0., 0., 0., 1.],\n",
       "        [1., 1., 1., 0., 0., 0.]])"
      ]
     },
     "execution_count": 8,
     "metadata": {},
     "output_type": "execute_result"
    }
   ],
   "source": [
    "dim = 16\n",
    "pair = 2\n",
    "\n",
    "X = torch.randn(2,dim)\n",
    "if dim%pair != 0 :\n",
    "    raise ValueError(f\"Dim: {dim} should be exactly divisible by Pair: {pair}\")\n",
    "pos_mat = generate_dimension_encoding2(dim//pair)\n",
    "pos_mat"
   ]
  },
  {
   "cell_type": "code",
   "execution_count": 9,
   "metadata": {},
   "outputs": [
    {
     "data": {
      "text/plain": [
       "torch.Size([8, 6])"
      ]
     },
     "execution_count": 9,
     "metadata": {},
     "output_type": "execute_result"
    }
   ],
   "source": [
    "pos_mat.shape"
   ]
  },
  {
   "cell_type": "code",
   "execution_count": 10,
   "metadata": {},
   "outputs": [
    {
     "data": {
      "text/plain": [
       "torch.Size([2, 8, 2])"
      ]
     },
     "execution_count": 10,
     "metadata": {},
     "output_type": "execute_result"
    }
   ],
   "source": [
    "X.reshape(-1, dim//pair, pair).shape"
   ]
  },
  {
   "cell_type": "code",
   "execution_count": 11,
   "metadata": {},
   "outputs": [],
   "source": [
    "linear = nn.Linear(pair, pos_mat.shape[1])"
   ]
  },
  {
   "cell_type": "code",
   "execution_count": 12,
   "metadata": {},
   "outputs": [
    {
     "data": {
      "text/plain": [
       "torch.Size([16, 6])"
      ]
     },
     "execution_count": 12,
     "metadata": {},
     "output_type": "execute_result"
    }
   ],
   "source": [
    "x = linear(X.reshape(-1, pair))\n",
    "x.shape"
   ]
  },
  {
   "cell_type": "code",
   "execution_count": 13,
   "metadata": {},
   "outputs": [
    {
     "data": {
      "text/plain": [
       "(torch.Size([2, 8, 6]), torch.Size([1, 8, 6]))"
      ]
     },
     "execution_count": 13,
     "metadata": {},
     "output_type": "execute_result"
    }
   ],
   "source": [
    "x.reshape(-1, *pos_mat.shape).shape, pos_mat.unsqueeze(dim=0).shape"
   ]
  },
  {
   "cell_type": "code",
   "execution_count": 14,
   "metadata": {},
   "outputs": [
    {
     "data": {
      "text/plain": [
       "torch.Size([16, 6])"
      ]
     },
     "execution_count": 14,
     "metadata": {},
     "output_type": "execute_result"
    }
   ],
   "source": [
    "x_ = x.reshape(-1, *pos_mat.shape)+pos_mat.unsqueeze(dim=0)\n",
    "x_ = x_.reshape(-1, pos_mat.shape[1])\n",
    "x_.shape"
   ]
  },
  {
   "cell_type": "code",
   "execution_count": 15,
   "metadata": {},
   "outputs": [],
   "source": [
    "def construct_sequential_mlp(layer_dims, activation):\n",
    "    layers = []\n",
    "    for i in range(len(layer_dims)-1):\n",
    "        _a = nn.Linear(layer_dims[i], layer_dims[i+1])\n",
    "        layers += [_a, activation]\n",
    "    layers = layers[:-1]\n",
    "    return nn.Sequential(*layers)\n",
    "\n",
    "class DimMix_Layer_add(nn.Module):\n",
    "    \n",
    "    def __init__(self,dim, pair, out_pair=None, hidden_ratio = [2], activation=nn.ReLU()):\n",
    "        super().__init__()\n",
    "        self.dim = dim\n",
    "        self.pair = pair\n",
    "        self.out_pair = out_pair\n",
    "        if out_pair is None:\n",
    "            self.out_pair = pair\n",
    "        if dim%pair != 0 :\n",
    "            raise ValueError(f\"Dim: {dim} should be exactly divisible by Pair: {pair}\")\n",
    "\n",
    "        self.pos_mat = generate_dimension_encoding4(dim//pair)\n",
    "        self.pos_mat = nn.Parameter(self.pos_mat)\n",
    "        \n",
    "        self.linear = nn.Linear(pair, self.pos_mat.shape[1])\n",
    "        \n",
    "        inp_dim = self.pos_mat.shape[1]\n",
    "        la_dims = [inp_dim] + [int(hr*inp_dim) for hr in hidden_ratio] + [self.out_pair]\n",
    "        self.net = construct_sequential_mlp(la_dims, activation)\n",
    "        \n",
    "    def forward(self, x):\n",
    "        xs = x.shape\n",
    "        _x = self.linear(x.reshape(-1, self.pair))\n",
    "        _x = _x.reshape(-1, *self.pos_mat.shape)+self.pos_mat.unsqueeze(dim=0)\n",
    "        _x = self.net(_x.reshape(-1, self.pos_mat.shape[1]))\n",
    "        _x = _x.reshape(xs[0], -1)\n",
    "        return _x"
   ]
  },
  {
   "cell_type": "code",
   "execution_count": 16,
   "metadata": {},
   "outputs": [
    {
     "data": {
      "text/plain": [
       "torch.Size([2, 16])"
      ]
     },
     "execution_count": 16,
     "metadata": {},
     "output_type": "execute_result"
    }
   ],
   "source": [
    "DimMix_Layer_add(dim, pair)(X).shape"
   ]
  },
  {
   "cell_type": "code",
   "execution_count": 17,
   "metadata": {},
   "outputs": [
    {
     "data": {
      "text/plain": [
       "tensor([[0., 0., 0., 1., 1., 1.],\n",
       "        [0., 0., 1., 1., 1., 0.],\n",
       "        [0., 1., 0., 1., 0., 1.],\n",
       "        [0., 1., 1., 1., 0., 0.],\n",
       "        [1., 0., 0., 0., 1., 1.],\n",
       "        [1., 0., 1., 0., 1., 0.],\n",
       "        [1., 1., 0., 0., 0., 1.],\n",
       "        [1., 1., 1., 0., 0., 0.]])"
      ]
     },
     "execution_count": 17,
     "metadata": {},
     "output_type": "execute_result"
    }
   ],
   "source": [
    "dim = 16\n",
    "pair = 2\n",
    "\n",
    "X = torch.randn(2,dim)\n",
    "if dim%pair != 0 :\n",
    "    raise ValueError(f\"Dim: {dim} should be exactly divisible by Pair: {pair}\")\n",
    "pos_mat = generate_dimension_encoding2(dim//pair)\n",
    "pos_mat"
   ]
  },
  {
   "cell_type": "code",
   "execution_count": 18,
   "metadata": {},
   "outputs": [
    {
     "data": {
      "text/plain": [
       "torch.Size([8, 6])"
      ]
     },
     "execution_count": 18,
     "metadata": {},
     "output_type": "execute_result"
    }
   ],
   "source": [
    "pos_mat.shape"
   ]
  },
  {
   "cell_type": "code",
   "execution_count": 19,
   "metadata": {},
   "outputs": [
    {
     "data": {
      "text/plain": [
       "torch.Size([2, 8, 2])"
      ]
     },
     "execution_count": 19,
     "metadata": {},
     "output_type": "execute_result"
    }
   ],
   "source": [
    "X.reshape(-1, dim//pair, pair).shape"
   ]
  },
  {
   "cell_type": "code",
   "execution_count": 20,
   "metadata": {},
   "outputs": [
    {
     "data": {
      "text/plain": [
       "torch.Size([2, 8, 6])"
      ]
     },
     "execution_count": 20,
     "metadata": {},
     "output_type": "execute_result"
    }
   ],
   "source": [
    "pos_mat.expand(2, *pos_mat.shape).shape"
   ]
  },
  {
   "cell_type": "code",
   "execution_count": null,
   "metadata": {},
   "outputs": [],
   "source": []
  },
  {
   "cell_type": "code",
   "execution_count": null,
   "metadata": {},
   "outputs": [],
   "source": []
  },
  {
   "cell_type": "code",
   "execution_count": 21,
   "metadata": {},
   "outputs": [],
   "source": [
    "class DimMix_Layer_cat(nn.Module):\n",
    "    \n",
    "    def __init__(self,dim, pair, out_pair=None, hidden_ratio = [2], activation=nn.ReLU()):\n",
    "        super().__init__()\n",
    "        self.dim = dim\n",
    "        self.pair = pair\n",
    "        self.out_pair = out_pair\n",
    "        if out_pair is None:\n",
    "            self.out_pair = pair\n",
    "        if dim%pair != 0 :\n",
    "            raise ValueError(f\"Dim: {dim} should be exactly divisible by Pair: {pair}\")\n",
    "\n",
    "        self.pos_mat = generate_dimension_encoding4(dim//pair)\n",
    "        self.pos_mat = nn.Parameter(self.pos_mat)\n",
    "        \n",
    "        inp_dim = self.pos_mat.shape[1]+pair\n",
    "        la_dims = [inp_dim] + [int(hr*inp_dim) for hr in hidden_ratio] + [self.out_pair]\n",
    "        self.net = construct_sequential_mlp(la_dims, activation)\n",
    "        \n",
    "    def forward(self, x):\n",
    "        xs = x.shape\n",
    "        _x = x.reshape(-1, self.dim//self.pair, self.pair)\n",
    "        _pm = self.pos_mat.expand(xs[0], *self.pos_mat.shape)\n",
    "        _x = torch.cat([_x, _pm], dim=2)\n",
    "        _x = _x.reshape(-1, self.pos_mat.shape[1]+self.pair)\n",
    "        _x = self.net(_x).reshape(xs[0], -1)\n",
    "        return _x"
   ]
  },
  {
   "cell_type": "code",
   "execution_count": 22,
   "metadata": {},
   "outputs": [
    {
     "data": {
      "text/plain": [
       "torch.Size([2, 16])"
      ]
     },
     "execution_count": 22,
     "metadata": {},
     "output_type": "execute_result"
    }
   ],
   "source": [
    "DimMix_Layer_add(dim, pair)(X).shape"
   ]
  },
  {
   "cell_type": "code",
   "execution_count": null,
   "metadata": {},
   "outputs": [],
   "source": []
  },
  {
   "cell_type": "code",
   "execution_count": 59,
   "metadata": {},
   "outputs": [],
   "source": [
    "class MLP_0(nn.Module):\n",
    "    def __init__(self):\n",
    "        super().__init__()\n",
    "        self.l1 = nn.Linear(784, 50)\n",
    "        self.l2 = nn.LeakyReLU()\n",
    "        self.l3 = nn.Linear(50, 10)\n",
    "        \n",
    "    def forward(self, x):\n",
    "        x = self.l1(x)\n",
    "        x = self.l2(x)\n",
    "        x = self.l3(x)\n",
    "        return x\n",
    "    \n",
    "class MLP_1(nn.Module):\n",
    "    def __init__(self):\n",
    "        super().__init__()\n",
    "        self.l1 = nn.Linear(784, 300)\n",
    "        self.l3 = nn.Linear(300, 10)\n",
    "        self.l2 = DimMix_Layer_cat(300, 5, hidden_ratio=[5,5], activation=nn.ReLU())\n",
    "        \n",
    "    def forward(self, x):\n",
    "        x = self.l1(x)\n",
    "        x = self.l2(x)\n",
    "        x = self.l3(x)\n",
    "        return x\n",
    "    \n",
    "    \n",
    "class MLP_2(nn.Module):\n",
    "    def __init__(self):\n",
    "        super().__init__()\n",
    "        self.randindx = torch.randperm(784)\n",
    "        hr = [5*2,5*2]\n",
    "        self.l1 = DimMix_Layer_add(784, 8, 4, hidden_ratio=hr, activation=nn.ReLU()) #784/2*1 = 392\n",
    "        self.l2 = DimMix_Layer_add(392, 8, 2, hidden_ratio=hr, activation=nn.ReLU()) #392/4*1 = 98\n",
    "        self.l3 = DimMix_Layer_add(98, 7, 3, hidden_ratio=hr, activation=nn.ReLU()) #98/7*3 = 42\n",
    "        self.l4 = nn.Linear(42, 10)\n",
    "        \n",
    "    def forward(self, x):\n",
    "        x = x[:, self.randindx]\n",
    "        x = self.l1(x)\n",
    "        x = self.l2(x)\n",
    "        x = self.l3(x)\n",
    "        x = self.l4(x)\n",
    "        return x\n",
    "    \n",
    "class MLP_3(nn.Module):\n",
    "    def __init__(self):\n",
    "        super().__init__()\n",
    "        self.randindx = torch.randperm(784)\n",
    "        hr = [5*2,5*2]\n",
    "        self.l1 = DimMix_Layer_add(784, 8, 8, hidden_ratio=hr, activation=nn.ReLU()) #784/2*1 = 392\n",
    "        self.l2 = DimMix_Layer_add(784, 8, 8, hidden_ratio=hr, activation=nn.ReLU()) #392/4*1 = 98\n",
    "        self.l3 = DimMix_Layer_add(784, 8, 8, hidden_ratio=hr, activation=nn.ReLU()) #98/7*3 = 42\n",
    "        self.l4 = nn.Linear(784, 10)\n",
    "        \n",
    "    def forward(self, x):\n",
    "        x = x[:, self.randindx]\n",
    "        x = self.l1(x)\n",
    "        x = self.l2(x)\n",
    "        x = self.l3(x)\n",
    "        x = self.l4(x)\n",
    "        return x\n"
   ]
  },
  {
   "cell_type": "code",
   "execution_count": 60,
   "metadata": {},
   "outputs": [],
   "source": [
    "X = torch.randn(2,784)"
   ]
  },
  {
   "cell_type": "code",
   "execution_count": 65,
   "metadata": {},
   "outputs": [
    {
     "data": {
      "text/plain": [
       "torch.Size([2, 10])"
      ]
     },
     "execution_count": 65,
     "metadata": {},
     "output_type": "execute_result"
    }
   ],
   "source": [
    "MLP_3()(X).shape"
   ]
  },
  {
   "cell_type": "markdown",
   "metadata": {},
   "source": [
    "### Model Training"
   ]
  },
  {
   "cell_type": "code",
   "execution_count": 69,
   "metadata": {},
   "outputs": [
    {
     "data": {
      "text/plain": [
       "MLP_3(\n",
       "  (l1): DimMix_Layer_add(\n",
       "    (linear): Linear(in_features=8, out_features=14, bias=True)\n",
       "    (net): Sequential(\n",
       "      (0): Linear(in_features=14, out_features=140, bias=True)\n",
       "      (1): ReLU()\n",
       "      (2): Linear(in_features=140, out_features=140, bias=True)\n",
       "      (3): ReLU()\n",
       "      (4): Linear(in_features=140, out_features=8, bias=True)\n",
       "    )\n",
       "  )\n",
       "  (l2): DimMix_Layer_add(\n",
       "    (linear): Linear(in_features=8, out_features=14, bias=True)\n",
       "    (net): Sequential(\n",
       "      (0): Linear(in_features=14, out_features=140, bias=True)\n",
       "      (1): ReLU()\n",
       "      (2): Linear(in_features=140, out_features=140, bias=True)\n",
       "      (3): ReLU()\n",
       "      (4): Linear(in_features=140, out_features=8, bias=True)\n",
       "    )\n",
       "  )\n",
       "  (l3): DimMix_Layer_add(\n",
       "    (linear): Linear(in_features=8, out_features=14, bias=True)\n",
       "    (net): Sequential(\n",
       "      (0): Linear(in_features=14, out_features=140, bias=True)\n",
       "      (1): ReLU()\n",
       "      (2): Linear(in_features=140, out_features=140, bias=True)\n",
       "      (3): ReLU()\n",
       "      (4): Linear(in_features=140, out_features=8, bias=True)\n",
       "    )\n",
       "  )\n",
       "  (l4): Linear(in_features=784, out_features=10, bias=True)\n",
       ")"
      ]
     },
     "execution_count": 69,
     "metadata": {},
     "output_type": "execute_result"
    }
   ],
   "source": [
    "torch.manual_seed(0)\n",
    "model = MLP_3().to(device)\n",
    "model"
   ]
  },
  {
   "cell_type": "code",
   "execution_count": 70,
   "metadata": {},
   "outputs": [],
   "source": [
    "criterion = nn.CrossEntropyLoss()\n",
    "optimizer = torch.optim.Adam(model.parameters(), lr=learning_rate)"
   ]
  },
  {
   "cell_type": "code",
   "execution_count": 71,
   "metadata": {},
   "outputs": [
    {
     "name": "stdout",
     "output_type": "stream",
     "text": [
      "number of params:  81248\n"
     ]
    }
   ],
   "source": [
    "## MLP2: number of params:  38390 ; add\n",
    "## MLP0: number of params:  39760\n",
    "## MLP2: number of params:  27363 ; add\n",
    "\n",
    "print(\"number of params: \", sum(p.numel() for p in model.parameters()))"
   ]
  },
  {
   "cell_type": "code",
   "execution_count": 72,
   "metadata": {},
   "outputs": [
    {
     "name": "stdout",
     "output_type": "stream",
     "text": [
      "\n",
      "Epoch: 0, batch: 499, step: 500, loss: 0.7893890142440796\n",
      "\tTrain acc: 24.004%\n",
      "\tTest acc: 73.95%, correct: 7395/10000\n",
      "\n",
      "Epoch: 0, batch: 999, step: 1000, loss: 0.833024799823761\n",
      "\tTrain acc: 77.708%\n",
      "\tTest acc: 78.55%, correct: 7855/10000\n",
      "\n",
      "Epoch: 1, batch: 299, step: 1500, loss: 0.7058944702148438\n",
      "\tTrain acc: 80.07333333333332%\n",
      "\tTest acc: 79.41%, correct: 7941/10000\n",
      "\n",
      "Epoch: 1, batch: 799, step: 2000, loss: 0.5032996535301208\n",
      "\tTrain acc: 81.144%\n",
      "\tTest acc: 80.25999999999999%, correct: 8026/10000\n",
      "\n",
      "Epoch: 2, batch: 99, step: 2500, loss: 0.43061932921409607\n",
      "\tTrain acc: 82.04%\n",
      "\tTest acc: 80.82000000000001%, correct: 8082/10000\n",
      "\n",
      "Epoch: 2, batch: 599, step: 3000, loss: 0.3949611783027649\n",
      "\tTrain acc: 81.99600000000001%\n",
      "\tTest acc: 79.73%, correct: 7973/10000\n",
      "\n",
      "Epoch: 2, batch: 1099, step: 3500, loss: 0.6060765385627747\n",
      "\tTrain acc: 82.44%\n",
      "\tTest acc: 81.55%, correct: 8155/10000\n",
      "\n",
      "Epoch: 3, batch: 399, step: 4000, loss: 0.6113049983978271\n",
      "\tTrain acc: 82.53%\n",
      "\tTest acc: 82.28999999999999%, correct: 8229/10000\n",
      "\n",
      "Epoch: 3, batch: 899, step: 4500, loss: 0.5263418555259705\n",
      "\tTrain acc: 83.324%\n",
      "\tTest acc: 82.17999999999999%, correct: 8218/10000\n",
      "\n",
      "Epoch: 4, batch: 199, step: 5000, loss: 0.4502916634082794\n",
      "\tTrain acc: 83.09%\n",
      "\tTest acc: 82.52000000000001%, correct: 8252/10000\n",
      "\n",
      "Epoch: 4, batch: 699, step: 5500, loss: 0.5289270281791687\n",
      "\tTrain acc: 83.37599999999999%\n",
      "\tTest acc: 82.39%, correct: 8239/10000\n",
      "\n",
      "Epoch: 4, batch: 1199, step: 6000, loss: 0.4491667151451111\n",
      "\tTrain acc: 83.72%\n",
      "\tTest acc: 82.42%, correct: 8242/10000\n",
      "\n",
      "Epoch: 5, batch: 499, step: 6500, loss: 0.5055477619171143\n",
      "\tTrain acc: 83.536%\n",
      "\tTest acc: 81.98%, correct: 8198/10000\n",
      "\n",
      "Epoch: 5, batch: 999, step: 7000, loss: 0.7473774552345276\n",
      "\tTrain acc: 84.268%\n",
      "\tTest acc: 83.61%, correct: 8361/10000\n",
      "\n",
      "Epoch: 6, batch: 299, step: 7500, loss: 0.6084152460098267\n",
      "\tTrain acc: 84.1%\n",
      "\tTest acc: 82.99%, correct: 8299/10000\n",
      "\n",
      "Epoch: 6, batch: 799, step: 8000, loss: 0.39580607414245605\n",
      "\tTrain acc: 84.324%\n",
      "\tTest acc: 83.28999999999999%, correct: 8329/10000\n",
      "\n",
      "Epoch: 7, batch: 99, step: 8500, loss: 0.30774950981140137\n",
      "\tTrain acc: 84.7%\n",
      "\tTest acc: 83.53%, correct: 8353/10000\n",
      "\n",
      "Epoch: 7, batch: 599, step: 9000, loss: 0.3349113464355469\n",
      "\tTrain acc: 84.28%\n",
      "\tTest acc: 82.45%, correct: 8245/10000\n",
      "\n",
      "Epoch: 7, batch: 1099, step: 9500, loss: 0.5572503805160522\n",
      "\tTrain acc: 84.576%\n",
      "\tTest acc: 83.71%, correct: 8371/10000\n",
      "\n",
      "Epoch: 8, batch: 399, step: 10000, loss: 0.5499860644340515\n",
      "\tTrain acc: 84.41499999999999%\n",
      "\tTest acc: 83.88%, correct: 8388/10000\n",
      "\n",
      "Epoch: 8, batch: 899, step: 10500, loss: 0.4459276497364044\n",
      "\tTrain acc: 85.13199999999999%\n",
      "\tTest acc: 83.67%, correct: 8367/10000\n",
      "\n",
      "Epoch: 9, batch: 199, step: 11000, loss: 0.3603038489818573\n",
      "\tTrain acc: 84.77%\n",
      "\tTest acc: 83.89999999999999%, correct: 8390/10000\n",
      "\n",
      "Epoch: 9, batch: 699, step: 11500, loss: 0.5050972104072571\n",
      "\tTrain acc: 85.048%\n",
      "\tTest acc: 83.89%, correct: 8389/10000\n",
      "\n",
      "Epoch: 9, batch: 1199, step: 12000, loss: 0.41501641273498535\n",
      "\tTrain acc: 85.028%\n",
      "\tTest acc: 84.06%, correct: 8406/10000\n",
      "\n",
      "Epoch: 10, batch: 499, step: 12500, loss: 0.43338310718536377\n",
      "\tTrain acc: 85.024%\n",
      "\tTest acc: 83.45%, correct: 8345/10000\n",
      "\n",
      "Epoch: 10, batch: 999, step: 13000, loss: 0.7048542499542236\n",
      "\tTrain acc: 85.568%\n",
      "\tTest acc: 84.46000000000001%, correct: 8446/10000\n",
      "\n",
      "Epoch: 11, batch: 299, step: 13500, loss: 0.5246825814247131\n",
      "\tTrain acc: 85.26%\n",
      "\tTest acc: 84.38%, correct: 8438/10000\n",
      "\n",
      "Epoch: 11, batch: 799, step: 14000, loss: 0.4096590280532837\n",
      "\tTrain acc: 85.528%\n",
      "\tTest acc: 84.27%, correct: 8427/10000\n",
      "\n",
      "Epoch: 12, batch: 99, step: 14500, loss: 0.2777101397514343\n",
      "\tTrain acc: 85.54%\n",
      "\tTest acc: 84.58%, correct: 8458/10000\n",
      "\n",
      "Epoch: 12, batch: 599, step: 15000, loss: 0.3239056468009949\n",
      "\tTrain acc: 85.49600000000001%\n",
      "\tTest acc: 83.63000000000001%, correct: 8363/10000\n",
      "\n",
      "Epoch: 12, batch: 1099, step: 15500, loss: 0.5478678345680237\n",
      "\tTrain acc: 85.596%\n",
      "\tTest acc: 84.38%, correct: 8438/10000\n",
      "\n",
      "Epoch: 13, batch: 399, step: 16000, loss: 0.5412431359291077\n",
      "\tTrain acc: 85.34%\n",
      "\tTest acc: 84.69%, correct: 8469/10000\n",
      "\n",
      "Epoch: 13, batch: 899, step: 16500, loss: 0.4250887334346771\n",
      "\tTrain acc: 86.128%\n",
      "\tTest acc: 84.22%, correct: 8422/10000\n",
      "\n",
      "Epoch: 14, batch: 199, step: 17000, loss: 0.3193366229534149\n",
      "\tTrain acc: 85.54%\n",
      "\tTest acc: 84.58%, correct: 8458/10000\n",
      "\n",
      "Epoch: 14, batch: 699, step: 17500, loss: 0.46615278720855713\n",
      "\tTrain acc: 85.768%\n",
      "\tTest acc: 84.82%, correct: 8482/10000\n",
      "\n",
      "Epoch: 14, batch: 1199, step: 18000, loss: 0.395847886800766\n",
      "\tTrain acc: 85.676%\n",
      "\tTest acc: 84.56%, correct: 8456/10000\n",
      "\n",
      "Epoch: 15, batch: 499, step: 18500, loss: 0.4092017412185669\n",
      "\tTrain acc: 85.66%\n",
      "\tTest acc: 84.28999999999999%, correct: 8429/10000\n",
      "\n",
      "Epoch: 15, batch: 999, step: 19000, loss: 0.6734932065010071\n",
      "\tTrain acc: 86.248%\n",
      "\tTest acc: 84.98%, correct: 8498/10000\n",
      "\n",
      "Epoch: 16, batch: 299, step: 19500, loss: 0.4701397716999054\n",
      "\tTrain acc: 85.81333333333333%\n",
      "\tTest acc: 84.85000000000001%, correct: 8485/10000\n",
      "\n",
      "Epoch: 16, batch: 799, step: 20000, loss: 0.4116270840167999\n",
      "\tTrain acc: 86.144%\n",
      "\tTest acc: 84.71%, correct: 8471/10000\n",
      "\n",
      "Epoch: 17, batch: 99, step: 20500, loss: 0.2695446312427521\n",
      "\tTrain acc: 86.14%\n",
      "\tTest acc: 85.07000000000001%, correct: 8507/10000\n",
      "\n",
      "Epoch: 17, batch: 599, step: 21000, loss: 0.33139774203300476\n",
      "\tTrain acc: 85.96000000000001%\n",
      "\tTest acc: 84.49%, correct: 8449/10000\n",
      "\n",
      "Epoch: 17, batch: 1099, step: 21500, loss: 0.5443592667579651\n",
      "\tTrain acc: 86.28%\n",
      "\tTest acc: 84.75%, correct: 8475/10000\n",
      "\n",
      "Epoch: 18, batch: 399, step: 22000, loss: 0.5349351763725281\n",
      "\tTrain acc: 85.8%\n",
      "\tTest acc: 85.09%, correct: 8509/10000\n",
      "\n",
      "Epoch: 18, batch: 899, step: 22500, loss: 0.4134191870689392\n",
      "\tTrain acc: 86.64%\n",
      "\tTest acc: 84.65%, correct: 8465/10000\n",
      "\n",
      "Epoch: 19, batch: 199, step: 23000, loss: 0.2832484841346741\n",
      "\tTrain acc: 86.11%\n",
      "\tTest acc: 84.66%, correct: 8466/10000\n",
      "\n",
      "Epoch: 19, batch: 699, step: 23500, loss: 0.41897299885749817\n",
      "\tTrain acc: 86.32%\n",
      "\tTest acc: 85.22999999999999%, correct: 8523/10000\n",
      "\n",
      "Epoch: 19, batch: 1199, step: 24000, loss: 0.3919519782066345\n",
      "\tTrain acc: 86.292%\n",
      "\tTest acc: 84.85000000000001%, correct: 8485/10000\n",
      "\n",
      "Epoch: 20, batch: 499, step: 24500, loss: 0.39459991455078125\n",
      "\tTrain acc: 86.144%\n",
      "\tTest acc: 84.69%, correct: 8469/10000\n",
      "\n",
      "Epoch: 20, batch: 999, step: 25000, loss: 0.6507971882820129\n",
      "\tTrain acc: 86.696%\n",
      "\tTest acc: 85.11999999999999%, correct: 8512/10000\n",
      "\n",
      "Epoch: 21, batch: 299, step: 25500, loss: 0.4376690983772278\n",
      "\tTrain acc: 86.26%\n",
      "\tTest acc: 84.99%, correct: 8499/10000\n",
      "\n",
      "Epoch: 21, batch: 799, step: 26000, loss: 0.3992654085159302\n",
      "\tTrain acc: 86.5%\n",
      "\tTest acc: 84.78999999999999%, correct: 8479/10000\n",
      "\n",
      "Epoch: 22, batch: 99, step: 26500, loss: 0.2620485723018646\n",
      "\tTrain acc: 86.6%\n",
      "\tTest acc: 85.15%, correct: 8515/10000\n",
      "\n",
      "Epoch: 22, batch: 599, step: 27000, loss: 0.33327212929725647\n",
      "\tTrain acc: 86.328%\n",
      "\tTest acc: 84.64%, correct: 8464/10000\n",
      "\n",
      "Epoch: 22, batch: 1099, step: 27500, loss: 0.5368581414222717\n",
      "\tTrain acc: 86.668%\n",
      "\tTest acc: 84.78999999999999%, correct: 8479/10000\n",
      "\n",
      "Epoch: 23, batch: 399, step: 28000, loss: 0.524630606174469\n",
      "\tTrain acc: 86.14%\n",
      "\tTest acc: 85.17%, correct: 8517/10000\n",
      "\n",
      "Epoch: 23, batch: 899, step: 28500, loss: 0.4097233712673187\n",
      "\tTrain acc: 87.012%\n",
      "\tTest acc: 85.05%, correct: 8505/10000\n",
      "\n",
      "Epoch: 24, batch: 199, step: 29000, loss: 0.258085161447525\n",
      "\tTrain acc: 86.45%\n",
      "\tTest acc: 84.81%, correct: 8481/10000\n",
      "\n",
      "Epoch: 24, batch: 699, step: 29500, loss: 0.37022635340690613\n",
      "\tTrain acc: 86.612%\n",
      "\tTest acc: 85.3%, correct: 8530/10000\n",
      "\n",
      "Epoch: 24, batch: 1199, step: 30000, loss: 0.3828968107700348\n",
      "\tTrain acc: 86.68%\n",
      "\tTest acc: 84.93%, correct: 8493/10000\n",
      "\n",
      "Epoch: 25, batch: 499, step: 30500, loss: 0.3801972568035126\n",
      "\tTrain acc: 86.48400000000001%\n",
      "\tTest acc: 84.91%, correct: 8491/10000\n",
      "\n",
      "Epoch: 25, batch: 999, step: 31000, loss: 0.6222577095031738\n",
      "\tTrain acc: 87.036%\n",
      "\tTest acc: 85.04%, correct: 8504/10000\n",
      "\n",
      "Epoch: 26, batch: 299, step: 31500, loss: 0.4255613386631012\n",
      "\tTrain acc: 86.54666666666667%\n",
      "\tTest acc: 85.17%, correct: 8517/10000\n",
      "\n",
      "Epoch: 26, batch: 799, step: 32000, loss: 0.38620617985725403\n",
      "\tTrain acc: 86.86399999999999%\n",
      "\tTest acc: 85.11%, correct: 8511/10000\n",
      "\n",
      "Epoch: 27, batch: 99, step: 32500, loss: 0.256816029548645\n",
      "\tTrain acc: 86.86%\n",
      "\tTest acc: 85.34%, correct: 8534/10000\n",
      "\n",
      "Epoch: 27, batch: 599, step: 33000, loss: 0.33486035466194153\n",
      "\tTrain acc: 86.60799999999999%\n"
     ]
    },
    {
     "name": "stdout",
     "output_type": "stream",
     "text": [
      "\tTest acc: 84.96000000000001%, correct: 8496/10000\n",
      "\n",
      "Epoch: 27, batch: 1099, step: 33500, loss: 0.5277106761932373\n",
      "\tTrain acc: 87.116%\n",
      "\tTest acc: 84.98%, correct: 8498/10000\n",
      "\n",
      "Epoch: 28, batch: 399, step: 34000, loss: 0.5163926482200623\n",
      "\tTrain acc: 86.39%\n",
      "\tTest acc: 85.28999999999999%, correct: 8529/10000\n",
      "\n",
      "Epoch: 28, batch: 899, step: 34500, loss: 0.40564411878585815\n",
      "\tTrain acc: 87.4%\n",
      "\tTest acc: 85.11999999999999%, correct: 8512/10000\n",
      "\n",
      "Epoch: 29, batch: 199, step: 35000, loss: 0.24107331037521362\n",
      "\tTrain acc: 86.77%\n",
      "\tTest acc: 84.84%, correct: 8484/10000\n",
      "\n",
      "Epoch: 29, batch: 699, step: 35500, loss: 0.3304288983345032\n",
      "\tTrain acc: 86.91600000000001%\n",
      "\tTest acc: 85.37%, correct: 8537/10000\n",
      "\n",
      "Epoch: 29, batch: 1199, step: 36000, loss: 0.3785318434238434\n",
      "\tTrain acc: 87.056%\n",
      "\tTest acc: 85.09%, correct: 8509/10000\n",
      "\n",
      "Epoch: 30, batch: 499, step: 36500, loss: 0.372461199760437\n",
      "\tTrain acc: 86.804%\n",
      "\tTest acc: 84.91%, correct: 8491/10000\n",
      "\n",
      "Epoch: 30, batch: 999, step: 37000, loss: 0.5982545614242554\n",
      "\tTrain acc: 87.408%\n",
      "\tTest acc: 85.09%, correct: 8509/10000\n",
      "\n",
      "Epoch: 31, batch: 299, step: 37500, loss: 0.4154697060585022\n",
      "\tTrain acc: 86.96000000000001%\n",
      "\tTest acc: 85.22999999999999%, correct: 8523/10000\n",
      "\n",
      "Epoch: 31, batch: 799, step: 38000, loss: 0.3768911361694336\n",
      "\tTrain acc: 87.152%\n",
      "\tTest acc: 85.13%, correct: 8513/10000\n",
      "\n",
      "Epoch: 32, batch: 99, step: 38500, loss: 0.24986103177070618\n",
      "\tTrain acc: 87.22%\n",
      "\tTest acc: 85.24000000000001%, correct: 8524/10000\n",
      "\n",
      "Epoch: 32, batch: 599, step: 39000, loss: 0.3377574682235718\n",
      "\tTrain acc: 86.944%\n",
      "\tTest acc: 85.16%, correct: 8516/10000\n",
      "\n",
      "Epoch: 32, batch: 1099, step: 39500, loss: 0.5198638439178467\n",
      "\tTrain acc: 87.396%\n",
      "\tTest acc: 85.0%, correct: 8500/10000\n",
      "\n",
      "Epoch: 33, batch: 399, step: 40000, loss: 0.5116859674453735\n",
      "\tTrain acc: 86.695%\n",
      "\tTest acc: 85.26%, correct: 8526/10000\n",
      "\n",
      "Epoch: 33, batch: 899, step: 40500, loss: 0.3999851942062378\n",
      "\tTrain acc: 87.636%\n",
      "\tTest acc: 85.28999999999999%, correct: 8529/10000\n",
      "\n",
      "Epoch: 34, batch: 199, step: 41000, loss: 0.22706101834774017\n",
      "\tTrain acc: 87.18%\n",
      "\tTest acc: 84.78999999999999%, correct: 8479/10000\n",
      "\n",
      "Epoch: 34, batch: 699, step: 41500, loss: 0.303788423538208\n",
      "\tTrain acc: 87.19200000000001%\n",
      "\tTest acc: 85.44%, correct: 8544/10000\n",
      "\n",
      "Epoch: 34, batch: 1199, step: 42000, loss: 0.3761933445930481\n",
      "\tTrain acc: 87.212%\n",
      "\tTest acc: 85.06%, correct: 8506/10000\n",
      "\n",
      "Epoch: 35, batch: 499, step: 42500, loss: 0.3729662299156189\n",
      "\tTrain acc: 87.068%\n",
      "\tTest acc: 85.04%, correct: 8504/10000\n",
      "\n",
      "Epoch: 35, batch: 999, step: 43000, loss: 0.580889880657196\n",
      "\tTrain acc: 87.62%\n",
      "\tTest acc: 85.1%, correct: 8510/10000\n",
      "\n",
      "Epoch: 36, batch: 299, step: 43500, loss: 0.4072628319263458\n",
      "\tTrain acc: 87.14%\n",
      "\tTest acc: 85.2%, correct: 8520/10000\n",
      "\n",
      "Epoch: 36, batch: 799, step: 44000, loss: 0.375559002161026\n",
      "\tTrain acc: 87.376%\n",
      "\tTest acc: 85.11%, correct: 8511/10000\n",
      "\n",
      "Epoch: 37, batch: 99, step: 44500, loss: 0.24568045139312744\n",
      "\tTrain acc: 87.42%\n",
      "\tTest acc: 85.31%, correct: 8531/10000\n",
      "\n",
      "Epoch: 37, batch: 599, step: 45000, loss: 0.33745768666267395\n",
      "\tTrain acc: 87.092%\n",
      "\tTest acc: 85.22999999999999%, correct: 8523/10000\n",
      "\n",
      "Epoch: 37, batch: 1099, step: 45500, loss: 0.5165738463401794\n",
      "\tTrain acc: 87.532%\n",
      "\tTest acc: 85.15%, correct: 8515/10000\n",
      "\n",
      "Epoch: 38, batch: 399, step: 46000, loss: 0.5027863383293152\n",
      "\tTrain acc: 86.89%\n",
      "\tTest acc: 85.45%, correct: 8545/10000\n",
      "\n",
      "Epoch: 38, batch: 899, step: 46500, loss: 0.39429882168769836\n",
      "\tTrain acc: 87.83999999999999%\n",
      "\tTest acc: 85.26%, correct: 8526/10000\n",
      "\n",
      "Epoch: 39, batch: 199, step: 47000, loss: 0.2167087197303772\n",
      "\tTrain acc: 87.27000000000001%\n",
      "\tTest acc: 84.88%, correct: 8488/10000\n",
      "\n",
      "Epoch: 39, batch: 699, step: 47500, loss: 0.28707513213157654\n",
      "\tTrain acc: 87.348%\n",
      "\tTest acc: 85.47%, correct: 8547/10000\n",
      "\n",
      "Epoch: 39, batch: 1199, step: 48000, loss: 0.3776182234287262\n",
      "\tTrain acc: 87.376%\n",
      "\tTest acc: 85.08%, correct: 8508/10000\n",
      "\n",
      "Epoch: 40, batch: 499, step: 48500, loss: 0.3726421594619751\n",
      "\tTrain acc: 87.188%\n",
      "\tTest acc: 85.13%, correct: 8513/10000\n",
      "\n",
      "Epoch: 40, batch: 999, step: 49000, loss: 0.5614087581634521\n",
      "\tTrain acc: 87.78%\n",
      "\tTest acc: 85.17%, correct: 8517/10000\n",
      "\n",
      "Epoch: 41, batch: 299, step: 49500, loss: 0.39785516262054443\n",
      "\tTrain acc: 87.24%\n",
      "\tTest acc: 85.28999999999999%, correct: 8529/10000\n",
      "\n",
      "Epoch: 41, batch: 799, step: 50000, loss: 0.37560179829597473\n",
      "\tTrain acc: 87.58399999999999%\n",
      "\tTest acc: 85.28999999999999%, correct: 8529/10000\n",
      "\n",
      "Epoch: 42, batch: 99, step: 50500, loss: 0.24769245088100433\n",
      "\tTrain acc: 87.53999999999999%\n",
      "\tTest acc: 85.39%, correct: 8539/10000\n",
      "\n",
      "Epoch: 42, batch: 599, step: 51000, loss: 0.3390645980834961\n",
      "\tTrain acc: 87.22800000000001%\n",
      "\tTest acc: 85.24000000000001%, correct: 8524/10000\n",
      "\n",
      "Epoch: 42, batch: 1099, step: 51500, loss: 0.5143795609474182\n",
      "\tTrain acc: 87.776%\n",
      "\tTest acc: 85.27%, correct: 8527/10000\n",
      "\n",
      "Epoch: 43, batch: 399, step: 52000, loss: 0.4929369390010834\n",
      "\tTrain acc: 87.06%\n",
      "\tTest acc: 85.45%, correct: 8545/10000\n",
      "\n",
      "Epoch: 43, batch: 899, step: 52500, loss: 0.3867708444595337\n",
      "\tTrain acc: 88.02%\n",
      "\tTest acc: 85.26%, correct: 8526/10000\n",
      "\n",
      "Epoch: 44, batch: 199, step: 53000, loss: 0.20829229056835175\n",
      "\tTrain acc: 87.39%\n",
      "\tTest acc: 85.13%, correct: 8513/10000\n",
      "\n",
      "Epoch: 44, batch: 699, step: 53500, loss: 0.2702683210372925\n",
      "\tTrain acc: 87.572%\n",
      "\tTest acc: 85.42%, correct: 8542/10000\n",
      "\n",
      "Epoch: 44, batch: 1199, step: 54000, loss: 0.38160836696624756\n",
      "\tTrain acc: 87.568%\n",
      "\tTest acc: 85.03%, correct: 8503/10000\n"
     ]
    }
   ],
   "source": [
    "EPOCHS = 15*3\n",
    "steps_ = 0\n",
    "for epoch in range(EPOCHS):\n",
    "    train_acc = 0\n",
    "    train_count = 0\n",
    "    for index in range(train_size // batch_size):\n",
    "        steps_ += 1\n",
    "\n",
    "        train_x = train_data[index * batch_size:(index + 1) * batch_size].to(device)\n",
    "        train_y = train_label[index * batch_size:(index + 1) * batch_size].to(device)\n",
    "\n",
    "        yout = model(train_x)\n",
    "        loss = criterion(yout, train_y)\n",
    "        \n",
    "        optimizer.zero_grad()\n",
    "        loss.backward()\n",
    "        optimizer.step()\n",
    "        \n",
    "        outputs = tnn.Logits.logit_to_index(yout.data.cpu().numpy())\n",
    "        train_acc += (outputs == train_y.data.cpu().numpy()).sum()\n",
    "        train_count += len(outputs)\n",
    "\n",
    "        if steps_%500==0:\n",
    "            train_accuracy = train_acc/train_count\n",
    "            train_acc, train_count = 0, 0\n",
    "            \n",
    "            print(f'\\nEpoch: {epoch}, batch: {index}, step: {steps_}, loss: {float(loss)}')\n",
    "            print(f'\\tTrain acc: {train_accuracy*100}%')\n",
    "            \n",
    "            with torch.no_grad():\n",
    "                test_acc, test_count = 0, 0\n",
    "                model.eval()\n",
    "                for _ti in range(len(test_data) // batch_size):\n",
    "                    test_x = test_data[_ti * batch_size:(_ti + 1) * batch_size].to(device)\n",
    "                    test_y_ = test_label_[_ti * batch_size:(_ti + 1) * batch_size]\n",
    "                    yout = model(test_x)\n",
    "                    outputs = tnn.Logits.logit_to_index(yout.cpu().numpy())\n",
    "                    correct = (outputs == test_y_).sum()\n",
    "                    test_acc += correct\n",
    "                    test_count += len(test_x)\n",
    "                model.train()\n",
    "\n",
    "            print(f'\\tTest acc: {test_acc/test_count*100}%, correct: {test_acc}/{test_count}')"
   ]
  },
  {
   "cell_type": "code",
   "execution_count": 30,
   "metadata": {},
   "outputs": [
    {
     "data": {
      "text/plain": [
       "200"
      ]
     },
     "execution_count": 30,
     "metadata": {},
     "output_type": "execute_result"
    }
   ],
   "source": [
    "len(test_data)//batch_size"
   ]
  },
  {
   "cell_type": "code",
   "execution_count": 31,
   "metadata": {},
   "outputs": [],
   "source": [
    "## MLP2\n",
    "# Train acc: 87.96000000000001%\n",
    "# \tTest acc: 86.27%, correct: 8627/10000\n",
    "## MLP0\n",
    "# Train acc: 89.05999999999999%\n",
    "# \tTest acc: 87.3%, correct: 8730/10000"
   ]
  },
  {
   "cell_type": "markdown",
   "metadata": {},
   "source": [
    "## Visualize first activations --paired embeddings"
   ]
  },
  {
   "cell_type": "code",
   "execution_count": 32,
   "metadata": {},
   "outputs": [
    {
     "data": {
      "text/plain": [
       "torch.Size([20, 300])"
      ]
     },
     "execution_count": 32,
     "metadata": {},
     "output_type": "execute_result"
    }
   ],
   "source": [
    "### inputs from -1, 1 for every dimension in a batch\n",
    "X = torch.linspace(-1, 1, steps=20).expand(300, -1).transpose(0,1)\n",
    "X.shape"
   ]
  },
  {
   "cell_type": "code",
   "execution_count": 33,
   "metadata": {},
   "outputs": [
    {
     "ename": "RuntimeError",
     "evalue": "shape '[-1, 49, 12]' is invalid for input of size 9000",
     "output_type": "error",
     "traceback": [
      "\u001b[0;31m---------------------------------------------------------------------------\u001b[0m",
      "\u001b[0;31mRuntimeError\u001b[0m                              Traceback (most recent call last)",
      "\u001b[0;32m<ipython-input-33-5280982cad1a>\u001b[0m in \u001b[0;36m<module>\u001b[0;34m\u001b[0m\n\u001b[1;32m      1\u001b[0m \u001b[0mmodel\u001b[0m\u001b[0;34m.\u001b[0m\u001b[0meval\u001b[0m\u001b[0;34m(\u001b[0m\u001b[0;34m)\u001b[0m\u001b[0;34m\u001b[0m\u001b[0;34m\u001b[0m\u001b[0m\n\u001b[0;32m----> 2\u001b[0;31m \u001b[0mys\u001b[0m \u001b[0;34m=\u001b[0m \u001b[0mmodel\u001b[0m\u001b[0;34m.\u001b[0m\u001b[0ml2\u001b[0m\u001b[0;34m(\u001b[0m\u001b[0mX\u001b[0m\u001b[0;34m.\u001b[0m\u001b[0mto\u001b[0m\u001b[0;34m(\u001b[0m\u001b[0mdevice\u001b[0m\u001b[0;34m)\u001b[0m\u001b[0;34m)\u001b[0m\u001b[0;34m.\u001b[0m\u001b[0mdata\u001b[0m\u001b[0;34m.\u001b[0m\u001b[0mcpu\u001b[0m\u001b[0;34m(\u001b[0m\u001b[0;34m)\u001b[0m\u001b[0;34m\u001b[0m\u001b[0;34m\u001b[0m\u001b[0m\n\u001b[0m\u001b[1;32m      3\u001b[0m \u001b[0mys\u001b[0m\u001b[0;34m.\u001b[0m\u001b[0mshape\u001b[0m\u001b[0;34m\u001b[0m\u001b[0;34m\u001b[0m\u001b[0m\n",
      "\u001b[0;32m~/AllFiles/ProgramFiles/miniconda3/lib/python3.8/site-packages/torch/nn/modules/module.py\u001b[0m in \u001b[0;36m_call_impl\u001b[0;34m(self, *input, **kwargs)\u001b[0m\n\u001b[1;32m   1049\u001b[0m         if not (self._backward_hooks or self._forward_hooks or self._forward_pre_hooks or _global_backward_hooks\n\u001b[1;32m   1050\u001b[0m                 or _global_forward_hooks or _global_forward_pre_hooks):\n\u001b[0;32m-> 1051\u001b[0;31m             \u001b[0;32mreturn\u001b[0m \u001b[0mforward_call\u001b[0m\u001b[0;34m(\u001b[0m\u001b[0;34m*\u001b[0m\u001b[0minput\u001b[0m\u001b[0;34m,\u001b[0m \u001b[0;34m**\u001b[0m\u001b[0mkwargs\u001b[0m\u001b[0;34m)\u001b[0m\u001b[0;34m\u001b[0m\u001b[0;34m\u001b[0m\u001b[0m\n\u001b[0m\u001b[1;32m   1052\u001b[0m         \u001b[0;31m# Do not call functions when jit is used\u001b[0m\u001b[0;34m\u001b[0m\u001b[0;34m\u001b[0m\u001b[0;34m\u001b[0m\u001b[0m\n\u001b[1;32m   1053\u001b[0m         \u001b[0mfull_backward_hooks\u001b[0m\u001b[0;34m,\u001b[0m \u001b[0mnon_full_backward_hooks\u001b[0m \u001b[0;34m=\u001b[0m \u001b[0;34m[\u001b[0m\u001b[0;34m]\u001b[0m\u001b[0;34m,\u001b[0m \u001b[0;34m[\u001b[0m\u001b[0;34m]\u001b[0m\u001b[0;34m\u001b[0m\u001b[0;34m\u001b[0m\u001b[0m\n",
      "\u001b[0;32m<ipython-input-15-0a69688eac5c>\u001b[0m in \u001b[0;36mforward\u001b[0;34m(self, x)\u001b[0m\n\u001b[1;32m     31\u001b[0m         \u001b[0mxs\u001b[0m \u001b[0;34m=\u001b[0m \u001b[0mx\u001b[0m\u001b[0;34m.\u001b[0m\u001b[0mshape\u001b[0m\u001b[0;34m\u001b[0m\u001b[0;34m\u001b[0m\u001b[0m\n\u001b[1;32m     32\u001b[0m         \u001b[0m_x\u001b[0m \u001b[0;34m=\u001b[0m \u001b[0mself\u001b[0m\u001b[0;34m.\u001b[0m\u001b[0mlinear\u001b[0m\u001b[0;34m(\u001b[0m\u001b[0mx\u001b[0m\u001b[0;34m.\u001b[0m\u001b[0mreshape\u001b[0m\u001b[0;34m(\u001b[0m\u001b[0;34m-\u001b[0m\u001b[0;36m1\u001b[0m\u001b[0;34m,\u001b[0m \u001b[0mself\u001b[0m\u001b[0;34m.\u001b[0m\u001b[0mpair\u001b[0m\u001b[0;34m)\u001b[0m\u001b[0;34m)\u001b[0m\u001b[0;34m\u001b[0m\u001b[0;34m\u001b[0m\u001b[0m\n\u001b[0;32m---> 33\u001b[0;31m         \u001b[0m_x\u001b[0m \u001b[0;34m=\u001b[0m \u001b[0m_x\u001b[0m\u001b[0;34m.\u001b[0m\u001b[0mreshape\u001b[0m\u001b[0;34m(\u001b[0m\u001b[0;34m-\u001b[0m\u001b[0;36m1\u001b[0m\u001b[0;34m,\u001b[0m \u001b[0;34m*\u001b[0m\u001b[0mself\u001b[0m\u001b[0;34m.\u001b[0m\u001b[0mpos_mat\u001b[0m\u001b[0;34m.\u001b[0m\u001b[0mshape\u001b[0m\u001b[0;34m)\u001b[0m\u001b[0;34m+\u001b[0m\u001b[0mself\u001b[0m\u001b[0;34m.\u001b[0m\u001b[0mpos_mat\u001b[0m\u001b[0;34m.\u001b[0m\u001b[0munsqueeze\u001b[0m\u001b[0;34m(\u001b[0m\u001b[0mdim\u001b[0m\u001b[0;34m=\u001b[0m\u001b[0;36m0\u001b[0m\u001b[0;34m)\u001b[0m\u001b[0;34m\u001b[0m\u001b[0;34m\u001b[0m\u001b[0m\n\u001b[0m\u001b[1;32m     34\u001b[0m         \u001b[0m_x\u001b[0m \u001b[0;34m=\u001b[0m \u001b[0mself\u001b[0m\u001b[0;34m.\u001b[0m\u001b[0mnet\u001b[0m\u001b[0;34m(\u001b[0m\u001b[0m_x\u001b[0m\u001b[0;34m.\u001b[0m\u001b[0mreshape\u001b[0m\u001b[0;34m(\u001b[0m\u001b[0;34m-\u001b[0m\u001b[0;36m1\u001b[0m\u001b[0;34m,\u001b[0m \u001b[0mself\u001b[0m\u001b[0;34m.\u001b[0m\u001b[0mpos_mat\u001b[0m\u001b[0;34m.\u001b[0m\u001b[0mshape\u001b[0m\u001b[0;34m[\u001b[0m\u001b[0;36m1\u001b[0m\u001b[0;34m]\u001b[0m\u001b[0;34m)\u001b[0m\u001b[0;34m)\u001b[0m\u001b[0;34m\u001b[0m\u001b[0;34m\u001b[0m\u001b[0m\n\u001b[1;32m     35\u001b[0m         \u001b[0m_x\u001b[0m \u001b[0;34m=\u001b[0m \u001b[0m_x\u001b[0m\u001b[0;34m.\u001b[0m\u001b[0mreshape\u001b[0m\u001b[0;34m(\u001b[0m\u001b[0mxs\u001b[0m\u001b[0;34m[\u001b[0m\u001b[0;36m0\u001b[0m\u001b[0;34m]\u001b[0m\u001b[0;34m,\u001b[0m \u001b[0;34m-\u001b[0m\u001b[0;36m1\u001b[0m\u001b[0;34m)\u001b[0m\u001b[0;34m\u001b[0m\u001b[0;34m\u001b[0m\u001b[0m\n",
      "\u001b[0;31mRuntimeError\u001b[0m: shape '[-1, 49, 12]' is invalid for input of size 9000"
     ]
    }
   ],
   "source": [
    "model.eval()\n",
    "ys = model.l2(X.to(device)).data.cpu()\n",
    "ys.shape"
   ]
  },
  {
   "cell_type": "code",
   "execution_count": null,
   "metadata": {},
   "outputs": [],
   "source": [
    "ys[0]"
   ]
  },
  {
   "cell_type": "code",
   "execution_count": 34,
   "metadata": {},
   "outputs": [
    {
     "data": {
      "text/plain": [
       "[<matplotlib.lines.Line2D at 0x7f49c00c79d0>,\n",
       " <matplotlib.lines.Line2D at 0x7f49c00c7a00>,\n",
       " <matplotlib.lines.Line2D at 0x7f49c00c7b80>,\n",
       " <matplotlib.lines.Line2D at 0x7f49c00c7c40>,\n",
       " <matplotlib.lines.Line2D at 0x7f49c00c7d00>,\n",
       " <matplotlib.lines.Line2D at 0x7f49c00c7dc0>,\n",
       " <matplotlib.lines.Line2D at 0x7f49c00c7e80>,\n",
       " <matplotlib.lines.Line2D at 0x7f49c00c7f40>,\n",
       " <matplotlib.lines.Line2D at 0x7f49c00d7040>,\n",
       " <matplotlib.lines.Line2D at 0x7f49c00d7100>,\n",
       " <matplotlib.lines.Line2D at 0x7f49c2315dc0>,\n",
       " <matplotlib.lines.Line2D at 0x7f49c00d7250>]"
      ]
     },
     "execution_count": 34,
     "metadata": {},
     "output_type": "execute_result"
    },
    {
     "data": {
      "image/png": "[encoded data removed]",
      "text/plain": [
       "<Figure size 432x288 with 1 Axes>"
      ]
     },
     "metadata": {
      "needs_background": "light"
     },
     "output_type": "display_data"
    }
   ],
   "source": [
    "%matplotlib inline\n",
    "plt.plot(model.l2.pos_mat.cpu().data[:10])"
   ]
  },
  {
   "cell_type": "code",
   "execution_count": null,
   "metadata": {},
   "outputs": [],
   "source": [
    "num_show = 10\n",
    "for i in range(300):\n",
    "    plt.plot(X[:,i], ys[:,i])#+X[:,i])\n",
    "    if (i+1)%num_show == 0:\n",
    "#         plt.axis(\"equal\")\n",
    "        plt.show()"
   ]
  },
  {
   "cell_type": "code",
   "execution_count": null,
   "metadata": {},
   "outputs": [],
   "source": [
    "# model = MLP_1()\n",
    "# optimizer = torch.optim.Adam(model.parameters(), lr=learning_rate)\n",
    "# print(\"number of params: \", sum(p.numel() for p in model.parameters()))"
   ]
  },
  {
   "cell_type": "code",
   "execution_count": null,
   "metadata": {},
   "outputs": [],
   "source": [
    "# EPOCHS = 15\n",
    "# steps_ = 0\n",
    "# for epoch in range(EPOCHS):\n",
    "#     train_acc = 0\n",
    "#     train_count = 0\n",
    "#     for index in range(train_size // batch_size):\n",
    "#         steps_ += 1\n",
    "\n",
    "#         train_x = train_data[index * batch_size:(index + 1) * batch_size]\n",
    "#         train_y = train_label[index * batch_size:(index + 1) * batch_size]\n",
    "\n",
    "#         yout = model(train_x)\n",
    "#         loss = criterion(yout, train_y)\n",
    "        \n",
    "#         optimizer.zero_grad()\n",
    "#         loss.backward()\n",
    "#         optimizer.step()\n",
    "\n",
    "#         if steps_%500==0:\n",
    "#             print('\\nTRAIN',epoch, steps_, '-> ', float(loss))\n",
    "# #             yout = model.forward(train_data)\n",
    "# #             outputs = tnn.Logits.logit_to_index(yout)\n",
    "# #             correct = (outputs == np.array(train_label_)).sum()\n",
    "\n",
    "# #             accuracy = correct / len(train_label_) * 100.\n",
    "# #             print('EPOCH = ','accuracy = ', accuracy)\n",
    "# #             print(correct, '/', len(train_label_))\n",
    "            \n",
    "#             with torch.no_grad():\n",
    "#                 yout = model(test_data)\n",
    "#             outputs = tnn.Logits.logit_to_index(yout.cpu().numpy())\n",
    "#             correct = (outputs == np.array(test_label_)).sum()\n",
    "\n",
    "#             accuracy = correct / len(test_label_) * 100.\n",
    "#             print('   TEST  ','accuracy = ', accuracy)\n",
    "#             print(correct, '/', len(test_label_))       "
   ]
  },
  {
   "cell_type": "code",
   "execution_count": null,
   "metadata": {},
   "outputs": [],
   "source": [
    "# model.l2.pos_mat"
   ]
  },
  {
   "cell_type": "code",
   "execution_count": null,
   "metadata": {},
   "outputs": [],
   "source": [
    "np.log2(128)"
   ]
  },
  {
   "cell_type": "code",
   "execution_count": null,
   "metadata": {},
   "outputs": [],
   "source": []
  }
 ],
 "metadata": {
  "kernelspec": {
   "display_name": "Python 3",
   "language": "python",
   "name": "python3"
  },
  "language_info": {
   "codemirror_mode": {
    "name": "ipython",
    "version": 3
   },
   "file_extension": ".py",
   "mimetype": "text/x-python",
   "name": "python",
   "nbconvert_exporter": "python",
   "pygments_lexer": "ipython3",
   "version": "3.8.5"
  }
 },
 "nbformat": 4,
 "nbformat_minor": 4
}
