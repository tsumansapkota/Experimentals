{
 "cells": [
  {
   "cell_type": "code",
   "execution_count": 1,
   "metadata": {},
   "outputs": [],
   "source": [
    "import numpy as np\n",
    "import matplotlib.pyplot as plt\n",
    "%matplotlib inline\n",
    "from mpl_toolkits.mplot3d import Axes3D\n",
    "\n",
    "import torch\n",
    "import torch.nn as nn\n",
    "import torch.nn.functional as F\n",
    "import torch.optim as optim\n",
    "from torch.utils import data\n",
    "\n",
    "import random, os, pathlib, time\n",
    "from tqdm import tqdm\n",
    "from sklearn import datasets"
   ]
  },
  {
   "cell_type": "code",
   "execution_count": 2,
   "metadata": {},
   "outputs": [],
   "source": [
    "device = torch.device(\"cuda:1\")\n",
    "# device = torch.device(\"cpu\")"
   ]
  },
  {
   "cell_type": "markdown",
   "metadata": {},
   "source": [
    "## MNIST dataset"
   ]
  },
  {
   "cell_type": "code",
   "execution_count": 3,
   "metadata": {},
   "outputs": [],
   "source": [
    "import mylibrary.datasets as datasets\n",
    "import mylibrary.nnlib as tnn"
   ]
  },
  {
   "cell_type": "code",
   "execution_count": 4,
   "metadata": {},
   "outputs": [],
   "source": [
    "mnist = datasets.FashionMNIST()\n",
    "# mnist.download_mnist()\n",
    "# mnist.save_mnist()\n",
    "train_data, train_label_, test_data, test_label_ = mnist.load()\n",
    "\n",
    "train_data = train_data / 255.\n",
    "test_data = test_data / 255.\n",
    "\n",
    "# train_label = tnn.Logits.index_to_logit(train_label_)\n",
    "train_size = len(train_label_)"
   ]
  },
  {
   "cell_type": "code",
   "execution_count": 5,
   "metadata": {},
   "outputs": [],
   "source": [
    "## converting data to pytorch format\n",
    "train_data = torch.Tensor(train_data)\n",
    "test_data = torch.Tensor(test_data)\n",
    "train_label = torch.LongTensor(train_label_)\n",
    "test_label = torch.LongTensor(test_label_)"
   ]
  },
  {
   "cell_type": "code",
   "execution_count": 6,
   "metadata": {},
   "outputs": [],
   "source": [
    "input_size = 784\n",
    "output_size = 10"
   ]
  },
  {
   "cell_type": "code",
   "execution_count": 7,
   "metadata": {},
   "outputs": [],
   "source": [
    "class MNIST_Dataset(data.Dataset):\n",
    "    \n",
    "    def __init__(self, data, label):\n",
    "        self.data = data\n",
    "        self.label = label\n",
    "        \n",
    "    def __len__(self):\n",
    "        return len(self.data)\n",
    "    \n",
    "    def __getitem__(self, idx):\n",
    "        img, lbl = self.data[idx], self.label[idx]\n",
    "        return img, lbl"
   ]
  },
  {
   "cell_type": "code",
   "execution_count": 8,
   "metadata": {},
   "outputs": [],
   "source": [
    "train_dataset = MNIST_Dataset(train_data, train_label)\n",
    "test_dataset = MNIST_Dataset(test_data, test_label)"
   ]
  },
  {
   "cell_type": "code",
   "execution_count": 9,
   "metadata": {},
   "outputs": [],
   "source": [
    "batch_size = 50\n",
    "train_loader = data.DataLoader(dataset=train_dataset,\n",
    "                                    num_workers=4, \n",
    "                                    batch_size=batch_size, \n",
    "                                    shuffle=True)\n",
    "\n",
    "test_loader = data.DataLoader(dataset=test_dataset,\n",
    "                                    num_workers=4, \n",
    "                                    batch_size=batch_size, \n",
    "                                    shuffle=False)"
   ]
  },
  {
   "cell_type": "code",
   "execution_count": 223,
   "metadata": {},
   "outputs": [],
   "source": [
    "class DistanceTransform(nn.Module):\n",
    "    \n",
    "    def __init__(self, input_dim, num_centers):\n",
    "        super().__init__()\n",
    "        self.input_dim = input_dim\n",
    "        self.num_centers = num_centers\n",
    "        \n",
    "        self.centers = torch.randn(num_centers, input_dim)/3.\n",
    "        self.centers = nn.Parameter(self.centers)\n",
    "        \n",
    "    def forward(self, x):\n",
    "        x = x[:, :self.input_dim]\n",
    "        dists = torch.cdist(x, self.centers)\n",
    "        \n",
    "        ### normalize similar to UMAP\n",
    "#         dists = dists-dists.min(dim=1, keepdim=True)[0]\n",
    "#         dists = dists-dists.mean(dim=1, keepdim=True)\n",
    "        \n",
    "#         dists = dists/dists.std(dim=1, keepdim=True)\n",
    "#         dists = torch.exp(-dists)\n",
    "        \n",
    "        return dists"
   ]
  },
  {
   "cell_type": "code",
   "execution_count": 224,
   "metadata": {},
   "outputs": [],
   "source": [
    "dt = DistanceTransform(784, 784)"
   ]
  },
  {
   "cell_type": "code",
   "execution_count": 225,
   "metadata": {},
   "outputs": [],
   "source": [
    "dists = dt(torch.randn(2, 784))"
   ]
  },
  {
   "cell_type": "code",
   "execution_count": 226,
   "metadata": {},
   "outputs": [
    {
     "data": {
      "text/plain": [
       "torch.Size([2, 784])"
      ]
     },
     "execution_count": 226,
     "metadata": {},
     "output_type": "execute_result"
    }
   ],
   "source": [
    "dists.shape"
   ]
  },
  {
   "cell_type": "code",
   "execution_count": 229,
   "metadata": {},
   "outputs": [
    {
     "data": {
      "text/plain": [
       "Sequential(\n",
       "  (0): DistanceTransform()\n",
       "  (1): LayerNorm((785,), eps=1e-05, elementwise_affine=True)\n",
       "  (2): BatchNorm1d(785, eps=1e-05, momentum=0.1, affine=True, track_running_stats=True)\n",
       "  (3): Linear(in_features=785, out_features=200, bias=True)\n",
       "  (4): LeakyReLU(negative_slope=0.01)\n",
       "  (5): Linear(in_features=200, out_features=50, bias=True)\n",
       "  (6): LeakyReLU(negative_slope=0.01)\n",
       "  (7): Linear(in_features=50, out_features=10, bias=True)\n",
       ")"
      ]
     },
     "execution_count": 229,
     "metadata": {},
     "output_type": "execute_result"
    }
   ],
   "source": [
    "model = nn.Sequential(\n",
    "                DistanceTransform(784, 785),\n",
    "                nn.LayerNorm(785),\n",
    "                nn.BatchNorm1d(785),\n",
    "                nn.Linear(785, 200),\n",
    "                nn.LeakyReLU(),\n",
    "                nn.Linear(200, 50),\n",
    "                nn.LeakyReLU(),\n",
    "                nn.Linear(50, 10))\n",
    "model.to(device)"
   ]
  },
  {
   "cell_type": "code",
   "execution_count": 230,
   "metadata": {},
   "outputs": [],
   "source": [
    "optimizer = optim.Adam(list(model.parameters()), \n",
    "                            lr=0.0003, weight_decay=1e-15)\n",
    "criterion = nn.CrossEntropyLoss()"
   ]
  },
  {
   "cell_type": "code",
   "execution_count": 231,
   "metadata": {},
   "outputs": [
    {
     "name": "stderr",
     "output_type": "stream",
     "text": [
      "\r",
      "  0%|          | 0/40 [00:00<?, ?it/s]"
     ]
    },
    {
     "name": "stdout",
     "output_type": "stream",
     "text": [
      "Epoch: 0:0,  Loss:0.24978868663311005\n"
     ]
    },
    {
     "name": "stderr",
     "output_type": "stream",
     "text": [
      "\r",
      "  2%|▎         | 1/40 [00:03<02:08,  3.30s/it]"
     ]
    },
    {
     "name": "stdout",
     "output_type": "stream",
     "text": [
      "Train Acc:83.29%, Test Acc:85.53%\n",
      "\n",
      "Epoch: 1:0,  Loss:0.30435293912887573\n"
     ]
    },
    {
     "name": "stderr",
     "output_type": "stream",
     "text": [
      "\r",
      "  5%|▌         | 2/40 [00:06<02:05,  3.31s/it]"
     ]
    },
    {
     "name": "stdout",
     "output_type": "stream",
     "text": [
      "Train Acc:87.52%, Test Acc:87.02%\n",
      "\n",
      "Epoch: 2:0,  Loss:0.22936692833900452\n"
     ]
    },
    {
     "name": "stderr",
     "output_type": "stream",
     "text": [
      "\r",
      "  8%|▊         | 3/40 [00:09<02:01,  3.29s/it]"
     ]
    },
    {
     "name": "stdout",
     "output_type": "stream",
     "text": [
      "Train Acc:89.10%, Test Acc:87.18%\n",
      "\n",
      "Epoch: 3:0,  Loss:0.3606584966182709\n"
     ]
    },
    {
     "name": "stderr",
     "output_type": "stream",
     "text": [
      "\r",
      " 10%|█         | 4/40 [00:13<01:58,  3.28s/it]"
     ]
    },
    {
     "name": "stdout",
     "output_type": "stream",
     "text": [
      "Train Acc:90.15%, Test Acc:87.77%\n",
      "\n",
      "Epoch: 4:0,  Loss:0.18969422578811646\n"
     ]
    },
    {
     "name": "stderr",
     "output_type": "stream",
     "text": [
      "\r",
      " 12%|█▎        | 5/40 [00:16<01:54,  3.27s/it]"
     ]
    },
    {
     "name": "stdout",
     "output_type": "stream",
     "text": [
      "Train Acc:91.00%, Test Acc:88.06%\n",
      "\n",
      "Epoch: 5:0,  Loss:0.13177557289600372\n"
     ]
    },
    {
     "name": "stderr",
     "output_type": "stream",
     "text": [
      "\r",
      " 15%|█▌        | 6/40 [00:19<01:51,  3.29s/it]"
     ]
    },
    {
     "name": "stdout",
     "output_type": "stream",
     "text": [
      "Train Acc:91.63%, Test Acc:88.15%\n",
      "\n",
      "Epoch: 6:0,  Loss:0.16433203220367432\n"
     ]
    },
    {
     "name": "stderr",
     "output_type": "stream",
     "text": [
      "\r",
      " 18%|█▊        | 7/40 [00:23<01:48,  3.29s/it]"
     ]
    },
    {
     "name": "stdout",
     "output_type": "stream",
     "text": [
      "Train Acc:92.34%, Test Acc:88.12%\n",
      "\n",
      "Epoch: 7:0,  Loss:0.4906846284866333\n"
     ]
    },
    {
     "name": "stderr",
     "output_type": "stream",
     "text": [
      "\r",
      " 20%|██        | 8/40 [00:26<01:44,  3.27s/it]"
     ]
    },
    {
     "name": "stdout",
     "output_type": "stream",
     "text": [
      "Train Acc:92.88%, Test Acc:88.48%\n",
      "\n",
      "Epoch: 8:0,  Loss:0.038755033165216446\n"
     ]
    },
    {
     "name": "stderr",
     "output_type": "stream",
     "text": [
      "\r",
      " 22%|██▎       | 9/40 [00:29<01:41,  3.28s/it]"
     ]
    },
    {
     "name": "stdout",
     "output_type": "stream",
     "text": [
      "Train Acc:93.64%, Test Acc:88.81%\n",
      "\n",
      "Epoch: 9:0,  Loss:0.1928153932094574\n"
     ]
    },
    {
     "name": "stderr",
     "output_type": "stream",
     "text": [
      "\r",
      " 25%|██▌       | 10/40 [00:32<01:38,  3.29s/it]"
     ]
    },
    {
     "name": "stdout",
     "output_type": "stream",
     "text": [
      "Train Acc:94.06%, Test Acc:88.54%\n",
      "\n",
      "Epoch: 10:0,  Loss:0.24910444021224976\n"
     ]
    },
    {
     "name": "stderr",
     "output_type": "stream",
     "text": [
      "\r",
      " 28%|██▊       | 11/40 [00:36<01:35,  3.28s/it]"
     ]
    },
    {
     "name": "stdout",
     "output_type": "stream",
     "text": [
      "Train Acc:94.35%, Test Acc:88.62%\n",
      "\n",
      "Epoch: 11:0,  Loss:0.10010693222284317\n"
     ]
    },
    {
     "name": "stderr",
     "output_type": "stream",
     "text": [
      "\r",
      " 30%|███       | 12/40 [00:39<01:32,  3.32s/it]"
     ]
    },
    {
     "name": "stdout",
     "output_type": "stream",
     "text": [
      "Train Acc:94.87%, Test Acc:88.39%\n",
      "\n",
      "Epoch: 12:0,  Loss:0.12368734180927277\n"
     ]
    },
    {
     "name": "stderr",
     "output_type": "stream",
     "text": [
      "\r",
      " 32%|███▎      | 13/40 [00:42<01:28,  3.30s/it]"
     ]
    },
    {
     "name": "stdout",
     "output_type": "stream",
     "text": [
      "Train Acc:95.29%, Test Acc:88.50%\n",
      "\n",
      "Epoch: 13:0,  Loss:0.12453001737594604\n"
     ]
    },
    {
     "name": "stderr",
     "output_type": "stream",
     "text": [
      "\r",
      " 35%|███▌      | 14/40 [00:46<01:25,  3.30s/it]"
     ]
    },
    {
     "name": "stdout",
     "output_type": "stream",
     "text": [
      "Train Acc:95.48%, Test Acc:88.47%\n",
      "\n",
      "Epoch: 14:0,  Loss:0.08644302189350128\n"
     ]
    },
    {
     "name": "stderr",
     "output_type": "stream",
     "text": [
      "\r",
      " 38%|███▊      | 15/40 [00:49<01:22,  3.28s/it]"
     ]
    },
    {
     "name": "stdout",
     "output_type": "stream",
     "text": [
      "Train Acc:95.80%, Test Acc:88.60%\n",
      "\n",
      "Epoch: 15:0,  Loss:0.06463131308555603\n"
     ]
    },
    {
     "name": "stderr",
     "output_type": "stream",
     "text": [
      "\r",
      " 40%|████      | 16/40 [00:52<01:18,  3.29s/it]"
     ]
    },
    {
     "name": "stdout",
     "output_type": "stream",
     "text": [
      "Train Acc:96.16%, Test Acc:88.39%\n",
      "\n",
      "Epoch: 16:0,  Loss:0.09118717908859253\n"
     ]
    },
    {
     "name": "stderr",
     "output_type": "stream",
     "text": [
      "\r",
      " 42%|████▎     | 17/40 [00:55<01:15,  3.30s/it]"
     ]
    },
    {
     "name": "stdout",
     "output_type": "stream",
     "text": [
      "Train Acc:96.46%, Test Acc:88.28%\n",
      "\n",
      "Epoch: 17:0,  Loss:0.090042345225811\n"
     ]
    },
    {
     "name": "stderr",
     "output_type": "stream",
     "text": [
      "\r",
      " 45%|████▌     | 18/40 [00:59<01:13,  3.32s/it]"
     ]
    },
    {
     "name": "stdout",
     "output_type": "stream",
     "text": [
      "Train Acc:96.72%, Test Acc:88.42%\n",
      "\n",
      "Epoch: 18:0,  Loss:0.11318166553974152\n"
     ]
    },
    {
     "name": "stderr",
     "output_type": "stream",
     "text": [
      "\r",
      " 48%|████▊     | 19/40 [01:02<01:09,  3.30s/it]"
     ]
    },
    {
     "name": "stdout",
     "output_type": "stream",
     "text": [
      "Train Acc:96.80%, Test Acc:88.43%\n",
      "\n",
      "Epoch: 19:0,  Loss:0.06529870629310608\n"
     ]
    },
    {
     "name": "stderr",
     "output_type": "stream",
     "text": [
      "\r",
      " 50%|█████     | 20/40 [01:05<01:05,  3.29s/it]"
     ]
    },
    {
     "name": "stdout",
     "output_type": "stream",
     "text": [
      "Train Acc:97.07%, Test Acc:88.47%\n",
      "\n",
      "Epoch: 20:0,  Loss:0.0379304364323616\n"
     ]
    },
    {
     "name": "stderr",
     "output_type": "stream",
     "text": [
      "\r",
      " 52%|█████▎    | 21/40 [01:09<01:02,  3.29s/it]"
     ]
    },
    {
     "name": "stdout",
     "output_type": "stream",
     "text": [
      "Train Acc:97.27%, Test Acc:88.46%\n",
      "\n",
      "Epoch: 21:0,  Loss:0.12705457210540771\n"
     ]
    },
    {
     "name": "stderr",
     "output_type": "stream",
     "text": [
      "\r",
      " 55%|█████▌    | 22/40 [01:12<00:59,  3.30s/it]"
     ]
    },
    {
     "name": "stdout",
     "output_type": "stream",
     "text": [
      "Train Acc:97.35%, Test Acc:88.29%\n",
      "\n",
      "Epoch: 22:0,  Loss:0.052914828062057495\n"
     ]
    },
    {
     "name": "stderr",
     "output_type": "stream",
     "text": [
      "\r",
      " 57%|█████▊    | 23/40 [01:15<00:56,  3.31s/it]"
     ]
    },
    {
     "name": "stdout",
     "output_type": "stream",
     "text": [
      "Train Acc:97.50%, Test Acc:88.16%\n",
      "\n",
      "Epoch: 23:0,  Loss:0.046160969883203506\n"
     ]
    },
    {
     "name": "stderr",
     "output_type": "stream",
     "text": [
      "\r",
      " 60%|██████    | 24/40 [01:19<00:53,  3.32s/it]"
     ]
    },
    {
     "name": "stdout",
     "output_type": "stream",
     "text": [
      "Train Acc:97.66%, Test Acc:88.21%\n",
      "\n",
      "Epoch: 24:0,  Loss:0.0865255743265152\n"
     ]
    },
    {
     "name": "stderr",
     "output_type": "stream",
     "text": [
      "\r",
      " 62%|██████▎   | 25/40 [01:22<00:49,  3.33s/it]"
     ]
    },
    {
     "name": "stdout",
     "output_type": "stream",
     "text": [
      "Train Acc:97.75%, Test Acc:88.00%\n",
      "\n",
      "Epoch: 25:0,  Loss:0.027649106457829475\n"
     ]
    },
    {
     "name": "stderr",
     "output_type": "stream",
     "text": [
      "\r",
      " 65%|██████▌   | 26/40 [01:25<00:46,  3.34s/it]"
     ]
    },
    {
     "name": "stdout",
     "output_type": "stream",
     "text": [
      "Train Acc:97.86%, Test Acc:88.28%\n",
      "\n",
      "Epoch: 26:0,  Loss:0.06822288781404495\n"
     ]
    },
    {
     "name": "stderr",
     "output_type": "stream",
     "text": [
      "\r",
      " 68%|██████▊   | 27/40 [01:29<00:42,  3.30s/it]"
     ]
    },
    {
     "name": "stdout",
     "output_type": "stream",
     "text": [
      "Train Acc:97.95%, Test Acc:88.55%\n",
      "\n",
      "Epoch: 27:0,  Loss:0.05523933470249176\n"
     ]
    },
    {
     "name": "stderr",
     "output_type": "stream",
     "text": [
      "\r",
      " 70%|███████   | 28/40 [01:32<00:39,  3.32s/it]"
     ]
    },
    {
     "name": "stdout",
     "output_type": "stream",
     "text": [
      "Train Acc:98.00%, Test Acc:88.30%\n",
      "\n",
      "Epoch: 28:0,  Loss:0.05003310739994049\n"
     ]
    },
    {
     "name": "stderr",
     "output_type": "stream",
     "text": [
      "\r",
      " 72%|███████▎  | 29/40 [01:35<00:36,  3.28s/it]"
     ]
    },
    {
     "name": "stdout",
     "output_type": "stream",
     "text": [
      "Train Acc:98.10%, Test Acc:88.16%\n",
      "\n",
      "Epoch: 29:0,  Loss:0.017201554030179977\n"
     ]
    },
    {
     "name": "stderr",
     "output_type": "stream",
     "text": [
      "\r",
      " 75%|███████▌  | 30/40 [01:38<00:32,  3.29s/it]"
     ]
    },
    {
     "name": "stdout",
     "output_type": "stream",
     "text": [
      "Train Acc:98.15%, Test Acc:87.99%\n",
      "\n",
      "Epoch: 30:0,  Loss:0.028483379632234573\n"
     ]
    },
    {
     "name": "stderr",
     "output_type": "stream",
     "text": [
      "\r",
      " 78%|███████▊  | 31/40 [01:42<00:29,  3.30s/it]"
     ]
    },
    {
     "name": "stdout",
     "output_type": "stream",
     "text": [
      "Train Acc:98.28%, Test Acc:88.35%\n",
      "\n",
      "Epoch: 31:0,  Loss:0.008288727141916752\n"
     ]
    },
    {
     "name": "stderr",
     "output_type": "stream",
     "text": [
      "\r",
      " 80%|████████  | 32/40 [01:45<00:26,  3.29s/it]"
     ]
    },
    {
     "name": "stdout",
     "output_type": "stream",
     "text": [
      "Train Acc:98.25%, Test Acc:88.48%\n",
      "\n",
      "Epoch: 32:0,  Loss:0.0411180779337883\n"
     ]
    },
    {
     "name": "stderr",
     "output_type": "stream",
     "text": [
      "\r",
      " 82%|████████▎ | 33/40 [01:48<00:23,  3.29s/it]"
     ]
    },
    {
     "name": "stdout",
     "output_type": "stream",
     "text": [
      "Train Acc:98.39%, Test Acc:88.45%\n",
      "\n",
      "Epoch: 33:0,  Loss:0.04715420678257942\n"
     ]
    },
    {
     "name": "stderr",
     "output_type": "stream",
     "text": [
      "\r",
      " 85%|████████▌ | 34/40 [01:52<00:19,  3.28s/it]"
     ]
    },
    {
     "name": "stdout",
     "output_type": "stream",
     "text": [
      "Train Acc:98.46%, Test Acc:88.33%\n",
      "\n",
      "Epoch: 34:0,  Loss:0.00281587359495461\n"
     ]
    },
    {
     "name": "stderr",
     "output_type": "stream",
     "text": [
      "\r",
      " 88%|████████▊ | 35/40 [01:55<00:16,  3.31s/it]"
     ]
    },
    {
     "name": "stdout",
     "output_type": "stream",
     "text": [
      "Train Acc:98.37%, Test Acc:88.10%\n",
      "\n",
      "Epoch: 35:0,  Loss:0.004947187844663858\n"
     ]
    },
    {
     "name": "stderr",
     "output_type": "stream",
     "text": [
      "\r",
      " 90%|█████████ | 36/40 [01:58<00:13,  3.31s/it]"
     ]
    },
    {
     "name": "stdout",
     "output_type": "stream",
     "text": [
      "Train Acc:98.57%, Test Acc:88.37%\n",
      "\n",
      "Epoch: 36:0,  Loss:0.05673421546816826\n"
     ]
    },
    {
     "name": "stderr",
     "output_type": "stream",
     "text": [
      "\r",
      " 92%|█████████▎| 37/40 [02:02<00:09,  3.33s/it]"
     ]
    },
    {
     "name": "stdout",
     "output_type": "stream",
     "text": [
      "Train Acc:98.53%, Test Acc:88.35%\n",
      "\n",
      "Epoch: 37:0,  Loss:0.007678723894059658\n"
     ]
    },
    {
     "name": "stderr",
     "output_type": "stream",
     "text": [
      "\r",
      " 95%|█████████▌| 38/40 [02:05<00:06,  3.34s/it]"
     ]
    },
    {
     "name": "stdout",
     "output_type": "stream",
     "text": [
      "Train Acc:98.58%, Test Acc:88.01%\n",
      "\n",
      "Epoch: 38:0,  Loss:0.020839298143982887\n"
     ]
    },
    {
     "name": "stderr",
     "output_type": "stream",
     "text": [
      "\r",
      " 98%|█████████▊| 39/40 [02:08<00:03,  3.32s/it]"
     ]
    },
    {
     "name": "stdout",
     "output_type": "stream",
     "text": [
      "Train Acc:98.56%, Test Acc:88.05%\n",
      "\n",
      "Epoch: 39:0,  Loss:0.06417687237262726\n"
     ]
    },
    {
     "name": "stderr",
     "output_type": "stream",
     "text": [
      "100%|██████████| 40/40 [02:12<00:00,  3.30s/it]"
     ]
    },
    {
     "name": "stdout",
     "output_type": "stream",
     "text": [
      "Train Acc:98.72%, Test Acc:87.85%\n",
      "\n",
      "\t-> MAX Train Acc 98.71666666666667 ; Test Acc 88.81\n"
     ]
    },
    {
     "name": "stderr",
     "output_type": "stream",
     "text": [
      "\n"
     ]
    }
   ],
   "source": [
    "index = 0\n",
    "train_accs, test_accs = [], []\n",
    "model.train()\n",
    "for epoch in tqdm(list(range(40))):\n",
    "    train_acc = 0\n",
    "    train_count = 0\n",
    "    for xx, yy in train_loader:\n",
    "        xx, yy = xx.to(device), yy.to(device)\n",
    "        yout = model(xx)\n",
    "        loss = criterion(yout, yy)\n",
    "        optimizer.zero_grad()\n",
    "        loss.backward()\n",
    "        optimizer.step()\n",
    "\n",
    "        outputs = torch.argmax(yout, dim=1).data.cpu().numpy()\n",
    "        correct = (outputs == yy.data.cpu().numpy()).astype(float).sum()\n",
    "        train_acc += correct\n",
    "        train_count += len(outputs)\n",
    "\n",
    "    train_accs.append(float(train_acc)/train_count*100)\n",
    "    train_acc = 0\n",
    "    train_count = 0\n",
    "\n",
    "    print(f'Epoch: {epoch}:{index},  Loss:{float(loss)}')\n",
    "    test_count = 0\n",
    "    test_acc = 0\n",
    "    for xx, yy in test_loader:\n",
    "        xx, yy = xx.to(device), yy.to(device)\n",
    "        with torch.no_grad():\n",
    "            yout = model(xx)\n",
    "        outputs = torch.argmax(yout, dim=1).data.cpu().numpy()\n",
    "        correct = (outputs == yy.data.cpu().numpy()).astype(float).sum()\n",
    "        test_acc += correct\n",
    "        test_count += len(xx)\n",
    "    test_accs.append(float(test_acc)/test_count*100)\n",
    "    print(f'Train Acc:{train_accs[-1]:.2f}%, Test Acc:{test_accs[-1]:.2f}%')\n",
    "    print()\n",
    "\n",
    "### after each class index is finished training\n",
    "print(f'\\t-> MAX Train Acc {max(train_accs)} ; Test Acc {max(test_accs)}')"
   ]
  },
  {
   "cell_type": "code",
   "execution_count": 38,
   "metadata": {},
   "outputs": [],
   "source": [
    "# -> MAX Train Acc 87.678 ; Test Acc 85.87  ### after distance transformation\n",
    "# -> MAX Train Acc 98.1367 ; Test Acc 89.22 ### after distance normalization\n",
    "# -> MAX Train Acc 98.6317 ; Test Acc 89.36 ### after distance normalization and -ve exp\n",
    "# -> MAX Train Acc 97.255 ; Test Acc 89.01  ### normal nn"
   ]
  },
  {
   "cell_type": "code",
   "execution_count": null,
   "metadata": {},
   "outputs": [],
   "source": [
    "### with 20 input units\n",
    "# -> MAX Train Acc 90.65833333333333 ; Test Acc 87.45 ## 20 centroids\n",
    "# -> MAX Train Acc 92.34166666666667 ; Test Acc 87.54 ## 20 linear transforms"
   ]
  },
  {
   "cell_type": "code",
   "execution_count": 232,
   "metadata": {},
   "outputs": [
    {
     "data": {
      "text/plain": [
       "torch.Size([3, 785])"
      ]
     },
     "execution_count": 232,
     "metadata": {},
     "output_type": "execute_result"
    }
   ],
   "source": [
    "model.eval()\n",
    "dists = model[0](train_dataset[[0,3,7]][0].to(device))\n",
    "dists = model[1](dists)\n",
    "# model.train()\n",
    "dists.shape"
   ]
  },
  {
   "cell_type": "code",
   "execution_count": 233,
   "metadata": {},
   "outputs": [
    {
     "data": {
      "text/plain": [
       "tensor(0.0008, device='cuda:1', grad_fn=<MeanBackward0>)"
      ]
     },
     "execution_count": 233,
     "metadata": {},
     "output_type": "execute_result"
    }
   ],
   "source": [
    "dists.mean()"
   ]
  },
  {
   "cell_type": "code",
   "execution_count": 234,
   "metadata": {},
   "outputs": [
    {
     "data": {
      "text/plain": [
       "tensor(1.0572, device='cuda:1', grad_fn=<StdBackward>)"
      ]
     },
     "execution_count": 234,
     "metadata": {},
     "output_type": "execute_result"
    }
   ],
   "source": [
    "dists.std()"
   ]
  },
  {
   "cell_type": "code",
   "execution_count": 235,
   "metadata": {},
   "outputs": [
    {
     "data": {
      "text/plain": [
       "tensor([-8.6860e-01,  3.4097e-01, -1.6187e-01,  9.6959e-01, -9.6570e-01,\n",
       "         6.2050e-01,  1.7111e-01,  3.0403e+00, -9.5305e-01,  8.8145e-01,\n",
       "        -1.1537e+00,  1.3552e-01,  6.3525e-01,  6.9883e-01, -1.0596e+00,\n",
       "        -2.4921e+00, -1.0089e+00, -4.5255e-01, -7.2289e-01,  1.0228e-01,\n",
       "        -4.8652e-01,  2.3960e+00, -1.4388e+00,  2.1504e+00, -9.5531e-01,\n",
       "         1.3126e+00, -2.0585e+00, -1.5910e-01,  3.7290e-01, -9.7426e-01,\n",
       "        -1.8117e+00,  3.6739e-02,  2.8586e-02,  1.9701e+00, -1.2084e+00,\n",
       "         7.7693e-01, -2.9837e-01,  9.8698e-01,  2.2533e-01, -1.0745e+00,\n",
       "        -1.2564e+00,  9.1931e-01,  5.9039e-01, -1.2874e+00,  1.6949e+00,\n",
       "        -1.0455e-02,  9.0705e-01,  2.4478e-01, -2.4569e+00,  2.1689e-01,\n",
       "        -3.1595e-01,  3.2356e-02, -1.2181e-01,  1.0726e+00,  1.7895e+00,\n",
       "        -9.7009e-02, -2.0699e+00, -1.7203e+00,  6.5402e-02, -1.0622e+00,\n",
       "         1.2319e+00,  9.5869e-01, -4.1959e-01,  8.9291e-02,  4.0697e-01,\n",
       "         2.0842e-01,  1.6516e+00,  6.2725e-01, -3.3618e-01,  1.8761e+00,\n",
       "         9.6077e-01,  1.6983e+00, -3.0895e+00,  3.1620e-01, -3.0977e-01,\n",
       "        -1.6617e+00,  2.6170e+00,  9.8999e-01, -4.9161e-01, -3.3140e+00,\n",
       "         1.1827e+00,  1.0498e+00,  3.5694e-01, -1.6558e-02,  3.4905e-01,\n",
       "        -2.2583e+00, -2.4248e-01, -1.3620e+00,  6.1775e-02, -1.0847e+00,\n",
       "         2.2519e-01,  8.9426e-01, -5.6293e-01,  2.2488e+00,  7.6495e-01,\n",
       "         1.6025e+00, -8.3818e-01, -1.4014e+00,  2.9338e-02,  8.3892e-01,\n",
       "        -1.0061e-01, -2.8719e-01, -2.2744e-01, -9.6525e-01,  1.6505e-01,\n",
       "        -1.1150e+00,  1.2585e+00,  1.3455e-01, -6.6963e-01, -1.9205e+00,\n",
       "         5.0414e-01,  6.6471e-01, -1.3429e+00,  5.9541e-01, -7.4182e-01,\n",
       "        -1.0410e-02, -4.8530e-01, -3.9525e-01, -1.5350e+00,  8.7568e-01,\n",
       "         1.4265e+00, -2.9561e-01,  1.7491e+00,  1.6732e+00,  1.5428e-01,\n",
       "         3.6763e-01, -7.1758e-01, -2.4108e+00,  1.8585e+00,  2.5732e-01,\n",
       "        -8.8589e-01,  7.7205e-01, -6.4961e-01,  1.1579e+00, -1.5757e+00,\n",
       "        -1.8825e-01,  1.7251e+00, -1.2351e+00, -5.8080e-01,  9.8090e-01,\n",
       "        -5.6413e-01,  6.4100e-01,  1.1960e-01,  5.6753e-02,  1.0691e+00,\n",
       "        -8.2701e-01,  1.0777e+00, -2.3589e-01, -1.4702e+00,  2.0173e+00,\n",
       "         5.6410e-01,  2.9824e-01,  5.9666e-01,  2.8115e-01, -1.9850e-01,\n",
       "        -9.6880e-01,  1.2259e+00,  7.4627e-01,  1.2900e+00,  7.2921e-02,\n",
       "        -1.0027e+00,  1.4807e-01,  3.0326e-01, -3.3543e-01,  3.1992e-01,\n",
       "        -6.7351e-01,  7.1701e-01,  1.6684e-01,  1.0225e-01,  1.3942e-01,\n",
       "         3.4559e-01,  4.6121e-04, -1.2224e+00, -7.9294e-01, -1.1047e+00,\n",
       "         6.5525e-01,  3.5877e-01, -4.1713e-01, -8.2786e-01, -6.0671e-01,\n",
       "         1.5701e+00, -1.1559e-01, -3.1519e+00,  5.8775e-01,  1.4753e+00,\n",
       "        -1.1530e+00,  9.6104e-01,  6.5688e-01, -1.4522e+00,  3.8523e-02,\n",
       "         9.3313e-01, -7.1752e-01,  3.8268e-01,  2.0958e+00,  1.6279e+00,\n",
       "         9.1479e-02, -1.2817e+00,  2.0449e-01, -8.3462e-01,  2.6931e+00,\n",
       "        -1.8505e-01, -9.7611e-01,  2.0255e+00,  1.1757e+00, -1.8991e-02,\n",
       "        -1.0381e+00,  1.0417e+00, -3.4912e-01, -1.4302e+00,  6.0442e-01,\n",
       "        -3.7824e-01, -1.7858e+00, -7.6061e-01, -1.7159e+00, -3.6543e-01,\n",
       "         1.8272e-02, -6.1958e-01,  2.3408e-01, -1.5224e+00, -1.0276e+00,\n",
       "        -1.1343e+00, -1.3421e+00,  4.8911e-01, -4.5002e-01,  3.1765e-01,\n",
       "         2.6614e-01, -2.8049e-01, -1.5453e-01,  8.6273e-01,  5.5243e-01,\n",
       "        -2.1744e+00, -1.6105e-01,  4.2587e-01, -5.8651e-01,  2.7176e+00,\n",
       "         4.1083e-01,  5.0250e-01,  1.6595e+00,  4.5808e-01,  7.4866e-01,\n",
       "         4.0399e-01,  1.4181e-01,  7.9601e-01,  2.2910e-01,  4.6730e-01,\n",
       "        -4.3216e-01,  2.6726e-01, -1.4033e+00, -8.0221e-01,  7.2479e-01,\n",
       "         6.5171e-01, -9.7549e-01, -4.5663e-01, -3.2635e-01, -3.5011e-01,\n",
       "        -3.5203e-01, -1.7277e+00, -6.9979e-01,  8.8592e-01, -2.7901e-01,\n",
       "         1.2732e+00, -3.1486e+00, -7.9608e-01,  1.7451e+00, -1.1440e+00,\n",
       "        -6.6862e-01, -1.0682e-01, -9.9780e-01,  1.6124e+00,  5.8160e-02,\n",
       "         1.9629e+00, -4.5959e-01, -1.0054e+00, -6.1573e-01, -4.1006e-01,\n",
       "         4.6802e-01,  1.0343e+00,  3.5601e-01, -1.4032e+00,  1.0823e+00,\n",
       "         1.3330e+00,  7.7668e-01, -4.6448e-01, -1.0618e+00,  4.3380e-01,\n",
       "        -1.9240e-01, -6.8153e-01,  1.0332e+00,  6.6099e-01, -3.1052e-01,\n",
       "        -2.8804e-01, -1.0383e+00,  2.4532e-04,  4.1659e-01,  7.2905e-01,\n",
       "        -5.4026e-01, -4.8861e-01,  3.6449e-01,  8.5706e-02, -1.0069e+00,\n",
       "        -3.9032e-01,  5.6744e-01, -1.5071e+00, -1.7218e+00,  1.3714e-01,\n",
       "        -1.3416e-01, -3.6338e-02, -1.5332e+00,  1.4337e+00, -8.4832e-01,\n",
       "        -6.4909e-01,  1.2470e+00, -1.2950e+00,  8.5149e-01, -5.4093e-01,\n",
       "        -6.8054e-01, -5.4694e-02,  1.2832e+00,  6.7238e-01, -9.5196e-01,\n",
       "        -8.5296e-01, -3.3067e-01,  1.0462e+00, -1.3917e+00, -2.6775e-01,\n",
       "         1.3964e+00, -4.1782e-01,  1.2966e+00, -2.6189e-01, -5.4990e-01,\n",
       "        -4.5381e-01,  7.1458e-01,  7.6926e-01, -1.6748e-01, -2.1410e+00,\n",
       "         3.5207e-01,  2.9986e-01,  2.2944e+00, -1.7619e+00, -6.2850e-01,\n",
       "        -6.6445e-01,  4.3701e-01, -1.1642e+00,  2.2846e-01, -3.1139e+00,\n",
       "        -1.0321e+00,  5.3652e-01,  8.7903e-01, -1.1988e+00, -3.6104e-01,\n",
       "        -2.2316e-01, -7.4979e-01,  8.0666e-01, -2.1904e+00, -1.2807e-01,\n",
       "        -9.9583e-01, -4.3057e-01,  3.0733e+00,  1.5825e-01,  3.0108e-01,\n",
       "         7.7960e-01,  6.6855e-01, -4.6275e-01,  5.3707e-01,  1.6333e-01,\n",
       "        -6.1320e-02, -2.2632e+00, -1.4765e+00, -8.3843e-01, -6.7729e-01,\n",
       "         6.2204e-01, -6.2160e-01,  6.9576e-01, -8.4274e-01, -6.6574e-01,\n",
       "        -6.1803e-01,  1.4958e+00, -2.0774e+00,  3.1177e-01,  3.7673e-01,\n",
       "        -1.3741e+00, -5.5194e-01,  7.0342e-01, -2.6407e-01,  1.3664e-01,\n",
       "        -5.6934e-01,  7.3537e-01, -2.4755e-01,  1.2566e+00, -4.2732e-01,\n",
       "        -1.9959e+00, -3.2330e-01,  1.9191e-01,  5.4186e-01,  3.3025e-01,\n",
       "        -4.5102e-01,  3.6737e-01, -1.0690e+00,  4.1797e-01,  4.8202e-01,\n",
       "         9.9390e-01, -1.3016e+00, -1.5810e+00,  8.3279e-01, -4.9583e-01,\n",
       "        -1.2681e+00, -6.8276e-01,  1.9165e+00,  6.2033e-01, -7.5064e-01,\n",
       "         7.4693e-01, -5.3386e-02,  8.2084e-01, -2.2943e+00,  3.9250e-01,\n",
       "         9.6570e-01,  1.0626e-01, -3.7810e-01, -1.5471e-01, -3.2893e-02,\n",
       "        -8.7083e-01,  1.4717e-01, -3.6006e-02, -1.4058e+00, -7.2755e-01,\n",
       "         2.7156e-01,  1.0436e+00,  1.5454e+00, -7.1098e-01,  6.3863e-01,\n",
       "        -8.4756e-02,  3.3072e-01, -5.4900e-01,  6.0080e-02, -1.7807e+00,\n",
       "         3.5621e-01,  1.0881e+00,  6.8172e-01, -5.0591e-01, -1.8067e-02,\n",
       "        -5.6846e-01,  1.0741e-01, -3.9881e-01, -4.8201e-01, -1.4549e-01,\n",
       "        -8.0742e-01, -1.4026e+00, -1.8613e-01,  8.7300e-01, -5.3405e-01,\n",
       "         2.2823e+00,  4.6623e-01,  9.0457e-01, -2.1462e+00, -5.4672e-01,\n",
       "        -2.1706e-01,  7.6998e-02,  1.6683e-01,  7.9557e-01,  1.4626e+00,\n",
       "        -9.7136e-01, -2.0647e+00, -1.7757e+00, -3.5664e-01,  8.6626e-01,\n",
       "        -2.9269e-01, -1.5300e-01, -1.2376e+00, -4.5722e-01,  2.1473e-01,\n",
       "        -5.0591e-01, -1.5047e+00, -3.3764e-01, -4.1328e-01, -5.7858e-01,\n",
       "        -2.0405e+00,  1.7428e+00,  1.4252e-01, -2.6068e-01,  5.7730e-01,\n",
       "         3.1150e-01,  6.8079e-02,  4.1212e-01, -3.9335e-01,  5.8962e-01,\n",
       "         3.7279e-01, -1.6184e+00, -2.6951e+00, -1.7024e+00,  1.2458e+00,\n",
       "        -4.7310e-01,  2.6681e+00,  9.4376e-01,  1.6300e-01,  1.0341e+00,\n",
       "        -2.1459e-01, -3.3158e-01, -4.6033e-01,  7.9082e-01, -2.3537e-01,\n",
       "        -5.0943e-01,  6.4029e-01, -4.3605e-02,  6.5787e-01,  2.1218e+00,\n",
       "         2.1070e-01,  6.5024e-02,  7.2587e-01, -9.8976e-01,  5.4503e-01,\n",
       "         1.0138e+00,  7.5673e-01, -2.7365e-01,  1.0289e+00,  1.7205e+00,\n",
       "         1.7490e+00, -1.3618e+00, -2.2917e+00, -1.6049e+00,  1.6408e+00,\n",
       "        -2.2858e-01, -4.5894e-01,  1.6973e+00,  1.8048e+00,  7.9948e-01,\n",
       "        -1.3262e+00, -1.1983e-01, -4.9223e-01,  4.4027e-01,  4.5416e-02,\n",
       "         2.1505e+00,  3.2090e-01, -5.8207e-02,  9.5860e-02,  7.6277e-01,\n",
       "        -1.0187e-01, -6.9640e-01,  8.2774e-02, -1.9403e-01,  4.8343e-01,\n",
       "        -2.5106e-01,  1.9377e+00, -4.4860e-01,  1.1446e+00,  1.8735e-01,\n",
       "         1.6275e+00, -4.2221e-01, -2.9565e-01, -4.7401e-01, -1.3801e+00,\n",
       "         5.6807e-01, -8.7044e-01, -1.4076e+00, -6.6545e-01, -4.7561e-01,\n",
       "        -2.2015e-01,  3.9144e-01,  2.0952e+00, -7.7910e-01,  8.4242e-01,\n",
       "         8.1374e-01, -1.8421e+00, -9.9851e-01,  1.9278e-02,  1.2776e+00,\n",
       "        -1.1820e-01, -7.0898e-01, -1.1592e+00,  2.4122e+00, -3.5254e-01,\n",
       "         2.8491e-01,  2.3459e-01,  2.3229e+00, -1.0521e+00, -2.4717e-01,\n",
       "        -5.9942e-01,  1.2187e+00,  2.5591e+00,  3.4786e-01, -4.8899e-01,\n",
       "        -8.8118e-01, -6.8595e-01,  4.4267e-01, -4.7491e-01, -6.0268e-01,\n",
       "        -3.4960e-01,  8.4121e-02, -5.2239e-01, -1.0680e+00,  5.9728e-01,\n",
       "        -1.0087e+00,  8.3362e-01, -3.9292e-01,  5.7320e-01,  7.1218e-01,\n",
       "        -9.7670e-01,  2.2733e+00,  2.1087e-01,  5.4413e-01,  1.1524e-01,\n",
       "         8.7592e-01,  2.4557e+00,  4.0486e-02,  6.5996e-01,  1.5039e-01,\n",
       "        -4.9240e-01, -9.0503e-01,  1.0165e+00, -1.4899e+00,  5.6594e-01,\n",
       "         6.6975e-01,  4.7073e-01, -1.4367e+00, -2.2570e+00, -9.3344e-02,\n",
       "        -1.4025e+00, -7.1074e-02, -2.5375e+00,  2.7288e+00,  8.5174e-01,\n",
       "        -1.0504e+00,  9.8931e-01, -7.7020e-01,  1.3524e+00, -5.1793e-01,\n",
       "         1.0994e+00,  3.9758e-01,  1.2226e-01,  1.6378e+00, -1.4831e+00,\n",
       "         2.5751e-01,  2.7669e+00,  1.5921e+00, -4.9086e-03, -4.6325e-01,\n",
       "         2.2942e+00,  1.5803e-01, -1.1284e+00,  1.0057e+00,  6.7826e-01,\n",
       "        -5.6098e-01, -2.5873e-01, -4.7112e-01,  1.1172e+00,  1.0268e+00,\n",
       "         2.0214e+00,  9.0162e-01,  4.4013e-01,  5.0797e-01,  1.1176e+00,\n",
       "         2.6544e+00,  2.4547e-01,  6.2073e-01, -4.6806e-01, -1.0318e+00,\n",
       "        -1.4160e+00, -3.2688e-01, -3.1515e-01,  1.3593e-01,  1.0116e+00,\n",
       "        -4.4880e-01, -2.8112e-01, -7.6753e-01, -2.9456e-01, -1.1110e+00,\n",
       "        -4.1177e-01,  9.3927e-02,  1.0730e+00,  1.1795e+00, -6.1441e-01,\n",
       "         7.3533e-01, -1.7817e-01, -1.1853e+00,  1.1153e+00, -4.7354e-01,\n",
       "        -1.3693e+00, -1.6136e-01, -1.5744e+00,  2.2634e-02,  1.4823e+00,\n",
       "        -4.0343e-01,  1.2427e+00,  1.2762e+00,  3.0014e-01, -6.6143e-02,\n",
       "         2.7897e-01, -5.9404e-01, -1.7416e+00, -2.2615e-01,  3.2189e-01,\n",
       "         2.5246e-01, -1.3617e+00, -4.6128e-01, -9.8085e-01,  8.9169e-01,\n",
       "         8.9061e-01,  9.8810e-02, -3.5082e-01, -1.3313e+00,  3.6052e-01,\n",
       "         1.0597e+00, -2.3625e-02,  1.3586e+00, -6.9287e-01, -1.1825e+00,\n",
       "        -2.5193e+00,  3.4737e-01, -6.3271e-01,  6.4395e-01, -7.5543e-01,\n",
       "         1.7067e-01,  2.5494e+00, -8.4893e-01, -1.9332e+00, -5.3842e-01,\n",
       "         1.9030e+00,  6.5023e-01, -5.9066e-01, -6.1807e-01, -1.3216e+00,\n",
       "        -1.1024e-01, -4.5863e-01, -8.0302e-01,  3.7188e-01, -8.1584e-01,\n",
       "        -8.6988e-01, -1.0396e-02, -7.0515e-01,  4.1201e-04,  2.0355e+00,\n",
       "        -4.9276e-01,  1.2266e+00,  6.8828e-01, -1.9206e-01,  2.6671e-01,\n",
       "        -5.1493e-01,  5.2736e-01, -5.4636e-01, -1.5146e+00, -1.1267e+00,\n",
       "        -1.4895e-02,  7.0107e-01,  4.6913e-01, -2.6686e-01,  4.7801e-01,\n",
       "        -1.7376e-01,  1.6520e+00,  1.2149e+00, -1.8342e+00, -1.6935e-01,\n",
       "         6.6800e-01, -1.3058e-01,  8.1150e-02,  1.6483e-01,  1.6563e-01,\n",
       "         7.2723e-01, -1.9919e-01,  6.7299e-01,  2.6037e-02, -5.1795e-01,\n",
       "        -7.1584e-02,  1.4976e+00,  1.4867e-01,  2.7235e+00,  3.7365e-01,\n",
       "         6.5268e-01,  1.7492e+00, -7.3560e-01, -8.5440e-01,  1.3486e+00,\n",
       "         8.3816e-01, -1.4631e+00,  1.3014e+00, -6.7548e-01, -4.8502e-01,\n",
       "        -8.0613e-01,  3.4570e-01,  2.2566e+00,  8.7503e-01,  1.9256e+00,\n",
       "         7.3167e-01, -1.9115e+00, -2.8374e-01,  9.4991e-01,  9.5296e-02],\n",
       "       device='cuda:1', grad_fn=<SelectBackward>)"
      ]
     },
     "execution_count": 235,
     "metadata": {},
     "output_type": "execute_result"
    }
   ],
   "source": [
    "dists[0]"
   ]
  },
  {
   "cell_type": "markdown",
   "metadata": {},
   "source": [
    "## Generate Inverse using Gradient Descent"
   ]
  },
  {
   "cell_type": "code",
   "execution_count": 236,
   "metadata": {},
   "outputs": [],
   "source": [
    "_xx, _tt = iter(train_loader).next()"
   ]
  },
  {
   "cell_type": "code",
   "execution_count": 237,
   "metadata": {},
   "outputs": [
    {
     "data": {
      "text/plain": [
       "torch.Size([50, 785])"
      ]
     },
     "execution_count": 237,
     "metadata": {},
     "output_type": "execute_result"
    }
   ],
   "source": [
    "dsts = model[0](_xx.to(device))\n",
    "dsts.shape"
   ]
  },
  {
   "cell_type": "code",
   "execution_count": 238,
   "metadata": {},
   "outputs": [],
   "source": [
    "## random initialization\n",
    "XX = torch.autograd.Variable(torch.rand_like(_xx, device=device), requires_grad=True)"
   ]
  },
  {
   "cell_type": "code",
   "execution_count": 246,
   "metadata": {},
   "outputs": [],
   "source": [
    "xoptim = torch.optim.Adam([XX], lr=0.0001)"
   ]
  },
  {
   "cell_type": "code",
   "execution_count": 247,
   "metadata": {},
   "outputs": [
    {
     "data": {
      "text/plain": [
       "(torch.Size([50, 784]), device(type='cuda', index=1))"
      ]
     },
     "execution_count": 247,
     "metadata": {},
     "output_type": "execute_result"
    }
   ],
   "source": [
    "XX.shape, XX.device"
   ]
  },
  {
   "cell_type": "code",
   "execution_count": 250,
   "metadata": {},
   "outputs": [
    {
     "name": "stdout",
     "output_type": "stream",
     "text": [
      "Step: 0, error: 0.000000\n",
      "Step: 100, error: 0.000000\n",
      "Step: 200, error: 0.000000\n",
      "Step: 300, error: 0.000000\n",
      "Step: 400, error: 0.000000\n",
      "Step: 500, error: 0.000000\n",
      "Step: 600, error: 0.000000\n",
      "Step: 700, error: 0.000000\n",
      "Step: 800, error: 0.000000\n",
      "Step: 900, error: 0.000000\n",
      "Step: 1000, error: 0.000000\n",
      "Step: 1100, error: 0.000000\n",
      "Step: 1200, error: 0.000000\n",
      "Step: 1300, error: 0.000000\n",
      "Step: 1400, error: 0.000000\n",
      "Step: 1500, error: 0.000000\n",
      "Step: 1600, error: 0.000000\n",
      "Step: 1700, error: 0.000000\n",
      "Step: 1800, error: 0.000000\n",
      "Step: 1900, error: 0.000000\n",
      "Step: 2000, error: 0.000000\n",
      "Step: 2100, error: 0.000000\n",
      "Step: 2200, error: 0.000000\n",
      "Step: 2300, error: 0.000000\n",
      "Step: 2400, error: 0.000000\n",
      "Step: 2500, error: 0.000000\n",
      "Step: 2600, error: 0.000000\n",
      "Step: 2700, error: 0.000000\n",
      "Step: 2800, error: 0.000000\n",
      "Step: 2900, error: 0.000000\n",
      "Step: 3000, error: 0.000000\n",
      "Step: 3100, error: 0.000000\n",
      "Step: 3200, error: 0.000000\n",
      "Step: 3300, error: 0.000000\n",
      "Step: 3400, error: 0.000000\n",
      "Step: 3500, error: 0.000000\n",
      "Step: 3600, error: 0.000000\n",
      "Step: 3700, error: 0.000000\n",
      "Step: 3800, error: 0.000000\n",
      "Step: 3900, error: 0.000000\n",
      "Step: 4000, error: 0.000000\n",
      "Step: 4100, error: 0.000000\n",
      "Step: 4200, error: 0.000000\n",
      "Step: 4300, error: 0.000000\n",
      "Step: 4400, error: 0.000000\n",
      "Step: 4500, error: 0.000000\n",
      "Step: 4600, error: 0.000000\n",
      "Step: 4700, error: 0.000000\n",
      "Step: 4800, error: 0.000000\n",
      "Step: 4900, error: 0.000000\n",
      "Step: 5000, error: 0.000000\n",
      "Step: 5100, error: 0.000000\n",
      "Step: 5200, error: 0.000000\n",
      "Step: 5300, error: 0.000000\n",
      "Step: 5400, error: 0.000000\n",
      "Step: 5500, error: 0.000000\n",
      "Step: 5600, error: 0.000000\n",
      "Step: 5700, error: 0.000000\n",
      "Step: 5800, error: 0.000000\n",
      "Step: 5900, error: 0.000000\n",
      "Step: 6000, error: 0.000000\n",
      "Step: 6100, error: 0.000000\n",
      "Step: 6200, error: 0.000000\n",
      "Step: 6300, error: 0.000000\n",
      "Step: 6400, error: 0.000000\n",
      "Step: 6500, error: 0.000000\n",
      "Step: 6600, error: 0.000000\n",
      "Step: 6700, error: 0.000000\n",
      "Step: 6800, error: 0.000000\n",
      "Step: 6900, error: 0.000000\n",
      "Step: 7000, error: 0.000000\n",
      "Step: 7100, error: 0.000000\n",
      "Step: 7200, error: 0.000000\n",
      "Step: 7300, error: 0.000000\n",
      "Step: 7400, error: 0.000000\n",
      "Step: 7500, error: 0.000000\n",
      "Step: 7600, error: 0.000000\n",
      "Step: 7700, error: 0.000000\n",
      "Step: 7800, error: 0.000000\n",
      "Step: 7900, error: 0.000000\n",
      "Step: 8000, error: 0.000000\n",
      "Step: 8100, error: 0.000000\n",
      "Step: 8200, error: 0.000000\n",
      "Step: 8300, error: 0.000000\n",
      "Step: 8400, error: 0.000000\n",
      "Step: 8500, error: 0.000000\n",
      "Step: 8600, error: 0.000000\n",
      "Step: 8700, error: 0.000000\n",
      "Step: 8800, error: 0.000000\n",
      "Step: 8900, error: 0.000000\n",
      "Step: 9000, error: 0.000000\n",
      "Step: 9100, error: 0.000000\n",
      "Step: 9200, error: 0.000000\n",
      "Step: 9300, error: 0.000000\n",
      "Step: 9400, error: 0.000000\n",
      "Step: 9500, error: 0.000000\n",
      "Step: 9600, error: 0.000000\n",
      "Step: 9700, error: 0.000000\n",
      "Step: 9800, error: 0.000000\n",
      "Step: 9900, error: 0.000000\n"
     ]
    }
   ],
   "source": [
    "for i in range(10000):\n",
    "    yout = model[0](XX)\n",
    "    error = ((dsts-yout)**2).mean()\n",
    "    xoptim.zero_grad()\n",
    "    error.backward(retain_graph=True)\n",
    "    xoptim.step()\n",
    "    if i%100 == 0:\n",
    "        print(f\"Step: {i}, error: {error:.6f}\")"
   ]
  },
  {
   "cell_type": "code",
   "execution_count": 251,
   "metadata": {},
   "outputs": [
    {
     "data": {
      "text/plain": [
       "(tensor(1.9537e-07, device='cuda:1', grad_fn=<MeanBackward0>),\n",
       " tensor([[-8.1998e-09, -4.3440e-10,  5.2455e-09,  ...,  1.5763e-10,\n",
       "          -1.5969e-09, -1.2051e-10],\n",
       "         [ 6.4759e-09,  3.0963e-09, -1.9538e-09,  ..., -4.6908e-10,\n",
       "           6.7629e-11,  4.9927e-09],\n",
       "         [ 5.4258e-10,  1.4629e-09, -4.4545e-09,  ..., -1.1191e-09,\n",
       "           2.0763e-10,  4.8773e-09],\n",
       "         ...,\n",
       "         [-9.8238e-09,  5.1972e-09,  2.9897e-09,  ...,  5.5878e-09,\n",
       "          -9.2386e-10,  8.5746e-09],\n",
       "         [-8.5051e-11,  1.1054e-10,  4.9262e-10,  ...,  1.6897e-10,\n",
       "           3.0571e-10, -9.4804e-10],\n",
       "         [ 6.6547e-10,  1.6073e-09, -1.1994e-09,  ..., -9.4197e-11,\n",
       "           8.5876e-10,  1.9690e-09]], device='cuda:1'))"
      ]
     },
     "execution_count": 251,
     "metadata": {},
     "output_type": "execute_result"
    }
   ],
   "source": [
    "error, XX.grad"
   ]
  },
  {
   "cell_type": "code",
   "execution_count": 252,
   "metadata": {},
   "outputs": [],
   "source": [
    "_xx_ = XX.data.cpu().numpy()\n",
    "xx = _xx.cpu().numpy()\n",
    "i=0"
   ]
  },
  {
   "cell_type": "code",
   "execution_count": 285,
   "metadata": {},
   "outputs": [
    {
     "data": {
      "image/png": "[encoded data removed]",
      "text/plain": [
       "<Figure size 432x288 with 1 Axes>"
      ]
     },
     "metadata": {
      "needs_background": "light"
     },
     "output_type": "display_data"
    },
    {
     "data": {
      "image/png": "[encoded data removed]",
      "text/plain": [
       "<Figure size 432x288 with 1 Axes>"
      ]
     },
     "metadata": {
      "needs_background": "light"
     },
     "output_type": "display_data"
    }
   ],
   "source": [
    "plt.imshow(xx[i].reshape(28,28))\n",
    "plt.show()\n",
    "plt.imshow(_xx_[i].reshape(28,28))\n",
    "plt.show()\n",
    "i+=1"
   ]
  },
  {
   "cell_type": "code",
   "execution_count": 121,
   "metadata": {},
   "outputs": [
    {
     "data": {
      "text/plain": [
       "<matplotlib.image.AxesImage at 0x7efb8c0688b0>"
      ]
     },
     "execution_count": 121,
     "metadata": {},
     "output_type": "execute_result"
    },
    {
     "data": {
      "image/png": "[encoded data removed]",
      "text/plain": [
       "<Figure size 432x288 with 1 Axes>"
      ]
     },
     "metadata": {
      "needs_background": "light"
     },
     "output_type": "display_data"
    }
   ],
   "source": [
    "plt.imshow(_xx_[0].reshape(28,28))"
   ]
  },
  {
   "cell_type": "code",
   "execution_count": 122,
   "metadata": {},
   "outputs": [
    {
     "data": {
      "text/plain": [
       "tensor(0.0039, device='cuda:1', grad_fn=<MaxBackward1>)"
      ]
     },
     "execution_count": 122,
     "metadata": {},
     "output_type": "execute_result"
    }
   ],
   "source": [
    "diff = (dsts-yout)\n",
    "torch.abs(diff).max()"
   ]
  },
  {
   "cell_type": "code",
   "execution_count": 127,
   "metadata": {},
   "outputs": [
    {
     "data": {
      "text/plain": [
       "(array([3.587e+03, 3.578e+03, 3.130e+03, 2.960e+03, 2.633e+03, 2.431e+03,\n",
       "        2.101e+03, 1.949e+03, 1.691e+03, 1.503e+03, 1.338e+03, 1.208e+03,\n",
       "        1.104e+03, 1.052e+03, 9.530e+02, 8.480e+02, 7.950e+02, 7.130e+02,\n",
       "        6.210e+02, 5.930e+02, 4.770e+02, 4.670e+02, 3.780e+02, 3.500e+02,\n",
       "        2.870e+02, 2.820e+02, 2.180e+02, 1.720e+02, 1.610e+02, 1.550e+02,\n",
       "        1.210e+02, 1.150e+02, 1.120e+02, 8.700e+01, 7.200e+01, 7.200e+01,\n",
       "        7.900e+01, 6.100e+01, 6.600e+01, 6.200e+01, 4.200e+01, 4.400e+01,\n",
       "        5.000e+01, 3.100e+01, 4.000e+01, 2.700e+01, 3.300e+01, 3.400e+01,\n",
       "        3.600e+01, 2.300e+01, 2.400e+01, 2.400e+01, 2.000e+01, 2.500e+01,\n",
       "        1.800e+01, 2.300e+01, 1.900e+01, 8.000e+00, 1.400e+01, 1.000e+01,\n",
       "        1.200e+01, 1.200e+01, 9.000e+00, 1.300e+01, 5.000e+00, 1.400e+01,\n",
       "        4.000e+00, 6.000e+00, 4.000e+00, 7.000e+00, 1.000e+00, 4.000e+00,\n",
       "        2.000e+00, 8.000e+00, 2.000e+00, 0.000e+00, 4.000e+00, 2.000e+00,\n",
       "        2.000e+00, 3.000e+00, 3.000e+00, 0.000e+00, 3.000e+00, 0.000e+00,\n",
       "        1.000e+00, 0.000e+00, 0.000e+00, 1.000e+00, 0.000e+00, 0.000e+00,\n",
       "        0.000e+00, 0.000e+00, 0.000e+00, 0.000e+00, 0.000e+00, 0.000e+00,\n",
       "        0.000e+00, 0.000e+00, 0.000e+00, 1.000e+00]),\n",
       " array([0.00000000e+00, 3.92150869e-05, 7.84301737e-05, 1.17645264e-04,\n",
       "        1.56860347e-04, 1.96075445e-04, 2.35290529e-04, 2.74505612e-04,\n",
       "        3.13720695e-04, 3.52935778e-04, 3.92150891e-04, 4.31365974e-04,\n",
       "        4.70581057e-04, 5.09796140e-04, 5.49011223e-04, 5.88226307e-04,\n",
       "        6.27441390e-04, 6.66656473e-04, 7.05871556e-04, 7.45086698e-04,\n",
       "        7.84301781e-04, 8.23516864e-04, 8.62731948e-04, 9.01947031e-04,\n",
       "        9.41162114e-04, 9.80377197e-04, 1.01959228e-03, 1.05880736e-03,\n",
       "        1.09802245e-03, 1.13723753e-03, 1.17645261e-03, 1.21566770e-03,\n",
       "        1.25488278e-03, 1.29409786e-03, 1.33331295e-03, 1.37252803e-03,\n",
       "        1.41174311e-03, 1.45095820e-03, 1.49017340e-03, 1.52938848e-03,\n",
       "        1.56860356e-03, 1.60781865e-03, 1.64703373e-03, 1.68624881e-03,\n",
       "        1.72546390e-03, 1.76467898e-03, 1.80389406e-03, 1.84310914e-03,\n",
       "        1.88232423e-03, 1.92153931e-03, 1.96075439e-03, 1.99996959e-03,\n",
       "        2.03918456e-03, 2.07839976e-03, 2.11761473e-03, 2.15682993e-03,\n",
       "        2.19604489e-03, 2.23526009e-03, 2.27447506e-03, 2.31369026e-03,\n",
       "        2.35290523e-03, 2.39212043e-03, 2.43133539e-03, 2.47055059e-03,\n",
       "        2.50976556e-03, 2.54898076e-03, 2.58819573e-03, 2.62741093e-03,\n",
       "        2.66662589e-03, 2.70584109e-03, 2.74505606e-03, 2.78427126e-03,\n",
       "        2.82348623e-03, 2.86270143e-03, 2.90191639e-03, 2.94113159e-03,\n",
       "        2.98034679e-03, 3.01956176e-03, 3.05877696e-03, 3.09799192e-03,\n",
       "        3.13720712e-03, 3.17642209e-03, 3.21563729e-03, 3.25485226e-03,\n",
       "        3.29406746e-03, 3.33328242e-03, 3.37249762e-03, 3.41171259e-03,\n",
       "        3.45092779e-03, 3.49014276e-03, 3.52935796e-03, 3.56857292e-03,\n",
       "        3.60778812e-03, 3.64700309e-03, 3.68621829e-03, 3.72543326e-03,\n",
       "        3.76464846e-03, 3.80386342e-03, 3.84307862e-03, 3.88229359e-03,\n",
       "        3.92150879e-03], dtype=float32),\n",
       " <BarContainer object of 100 artists>)"
      ]
     },
     "execution_count": 127,
     "metadata": {},
     "output_type": "execute_result"
    },
    {
     "data": {
      "image/png": "[encoded data removed]",
      "text/plain": [
       "<Figure size 432x288 with 1 Axes>"
      ]
     },
     "metadata": {
      "needs_background": "light"
     },
     "output_type": "display_data"
    }
   ],
   "source": [
    "diffs = torch.abs(diff).data.cpu().numpy().reshape(-1)\n",
    "plt.hist(diffs, bins=100)"
   ]
  },
  {
   "cell_type": "code",
   "execution_count": 93,
   "metadata": {},
   "outputs": [
    {
     "data": {
      "text/plain": [
       "tensor(2)"
      ]
     },
     "execution_count": 93,
     "metadata": {},
     "output_type": "execute_result"
    },
    {
     "data": {
      "image/png": "[encoded data removed]",
      "text/plain": [
       "<Figure size 432x288 with 1 Axes>"
      ]
     },
     "metadata": {
      "needs_background": "light"
     },
     "output_type": "display_data"
    }
   ],
   "source": [
    "i = 8\n",
    "plt.imshow(_xx[i].reshape(28,28))\n",
    "_tt[i]"
   ]
  },
  {
   "cell_type": "code",
   "execution_count": 94,
   "metadata": {},
   "outputs": [],
   "source": [
    "xx = _xx[i:i+1,:]\n",
    "tt = _tt[i:i+1]\n",
    "\n",
    "target_class = 0\n",
    "advt = tt*0+target_class"
   ]
  },
  {
   "cell_type": "code",
   "execution_count": 95,
   "metadata": {},
   "outputs": [],
   "source": [
    "model.eval()\n",
    "\n",
    "X = torch.autograd.Variable(xx, requires_grad=True)\n",
    "yy = model(X.to(device))"
   ]
  },
  {
   "cell_type": "code",
   "execution_count": 96,
   "metadata": {},
   "outputs": [
    {
     "data": {
      "text/plain": [
       "(tensor([4]), tensor([2]), tensor([0]))"
      ]
     },
     "execution_count": 96,
     "metadata": {},
     "output_type": "execute_result"
    }
   ],
   "source": [
    "torch.argmax(yy.data.cpu(), dim=1), tt, advt"
   ]
  },
  {
   "cell_type": "code",
   "execution_count": 97,
   "metadata": {},
   "outputs": [],
   "source": [
    "loss = criterion(yy, advt.to(device))\n",
    "\n",
    "xx_grad = torch.autograd.grad(outputs=loss, inputs=X,\n",
    "#                             grad_outputs=torch.ones_like(self.Y),\n",
    "                            only_inputs=True, retain_graph=True, create_graph=True)[0]"
   ]
  },
  {
   "cell_type": "code",
   "execution_count": 98,
   "metadata": {},
   "outputs": [
    {
     "data": {
      "text/plain": [
       "<matplotlib.image.AxesImage at 0x7fca0df22e50>"
      ]
     },
     "execution_count": 98,
     "metadata": {},
     "output_type": "execute_result"
    },
    {
     "data": {
      "image/png": "[encoded data removed]",
      "text/plain": [
       "<Figure size 432x288 with 1 Axes>"
      ]
     },
     "metadata": {
      "needs_background": "light"
     },
     "output_type": "display_data"
    }
   ],
   "source": [
    "plt.imshow(xx_grad.data.cpu().reshape(28,28))"
   ]
  },
  {
   "cell_type": "code",
   "execution_count": 99,
   "metadata": {},
   "outputs": [],
   "source": [
    "signed_grad = torch.sign(xx_grad.data.cpu())\n",
    "# signed_grad = xx_grad.data.cpu()"
   ]
  },
  {
   "cell_type": "code",
   "execution_count": 100,
   "metadata": {},
   "outputs": [
    {
     "data": {
      "text/plain": [
       "<matplotlib.image.AxesImage at 0x7fca0dca3310>"
      ]
     },
     "execution_count": 100,
     "metadata": {},
     "output_type": "execute_result"
    },
    {
     "data": {
      "image/png": "[encoded data removed]",
      "text/plain": [
       "<Figure size 432x288 with 1 Axes>"
      ]
     },
     "metadata": {
      "needs_background": "light"
     },
     "output_type": "display_data"
    }
   ],
   "source": [
    "plt.imshow(signed_grad.reshape(28,28))"
   ]
  },
  {
   "cell_type": "code",
   "execution_count": 101,
   "metadata": {},
   "outputs": [],
   "source": [
    "epsilon = 0.1\n",
    "pertubation = xx - epsilon*signed_grad\n",
    "xx_adv = pertubation\n",
    "xx_adv = torch.clamp(pertubation, 0, 1)"
   ]
  },
  {
   "cell_type": "code",
   "execution_count": 102,
   "metadata": {},
   "outputs": [
    {
     "data": {
      "text/plain": [
       "<matplotlib.image.AxesImage at 0x7fca0dd07f40>"
      ]
     },
     "execution_count": 102,
     "metadata": {},
     "output_type": "execute_result"
    },
    {
     "data": {
      "image/png": "[encoded data removed]",
      "text/plain": [
       "<Figure size 432x288 with 1 Axes>"
      ]
     },
     "metadata": {
      "needs_background": "light"
     },
     "output_type": "display_data"
    }
   ],
   "source": [
    "plt.imshow(xx_adv.reshape(28,28))"
   ]
  },
  {
   "cell_type": "code",
   "execution_count": 103,
   "metadata": {},
   "outputs": [],
   "source": [
    "yy_adv = model(xx_adv.to(device))"
   ]
  },
  {
   "cell_type": "code",
   "execution_count": 104,
   "metadata": {},
   "outputs": [
    {
     "data": {
      "text/plain": [
       "tensor([8], device='cuda:1')"
      ]
     },
     "execution_count": 104,
     "metadata": {},
     "output_type": "execute_result"
    }
   ],
   "source": [
    "yy_adv.argmax(dim=1)"
   ]
  },
  {
   "cell_type": "code",
   "execution_count": 105,
   "metadata": {},
   "outputs": [
    {
     "data": {
      "text/plain": [
       "tensor([2])"
      ]
     },
     "execution_count": 105,
     "metadata": {},
     "output_type": "execute_result"
    }
   ],
   "source": [
    "tt"
   ]
  },
  {
   "cell_type": "code",
   "execution_count": null,
   "metadata": {},
   "outputs": [],
   "source": []
  }
 ],
 "metadata": {
  "kernelspec": {
   "display_name": "Python 3",
   "language": "python",
   "name": "python3"
  },
  "language_info": {
   "codemirror_mode": {
    "name": "ipython",
    "version": 3
   },
   "file_extension": ".py",
   "mimetype": "text/x-python",
   "name": "python",
   "nbconvert_exporter": "python",
   "pygments_lexer": "ipython3",
   "version": "3.7.4"
  }
 },
 "nbformat": 4,
 "nbformat_minor": 4
}
