{
 "cells": [
  {
   "cell_type": "code",
   "execution_count": 1,
   "metadata": {},
   "outputs": [],
   "source": [
    "#### https://pytorch.org/tutorials/advanced/cpp_extension.html\n",
    "\n",
    "# from torch.utils.cpp_extension import load\n",
    "# lltm_cpp = load(name=\"lltm_cpp\", sources=[\"lltm.cpp\"])"
   ]
  },
  {
   "cell_type": "code",
   "execution_count": 2,
   "metadata": {},
   "outputs": [],
   "source": [
    "# from torch.utils.cpp_extension import load"
   ]
  },
  {
   "cell_type": "code",
   "execution_count": 3,
   "metadata": {},
   "outputs": [],
   "source": [
    "# bmm2x2 = load(name='bmm2x2', sources=['bmm2x2_cuda.cpp', 'bmm2x2_cuda_kernel.cu'], verbose=True)"
   ]
  },
  {
   "cell_type": "code",
   "execution_count": 4,
   "metadata": {},
   "outputs": [],
   "source": [
    "# # Load Pytorch extension\n",
    "# module_path = os.path.dirname(__file__)\n",
    "# upfirdn2d_op = load(\n",
    "#     \"upfirdn2d_new\",\n",
    "#     sources=[\n",
    "#         os.path.join(module_path, \"upfirdn2d.cpp\"),\n",
    "#         os.path.join(module_path, \"upfirdn2d_kernel.cu\"),\n",
    "#     ],\n",
    "#     verbose=True,\n",
    "# )"
   ]
  },
  {
   "cell_type": "code",
   "execution_count": 5,
   "metadata": {},
   "outputs": [],
   "source": [
    "# bmm2x2_cuda.forward()"
   ]
  },
  {
   "cell_type": "code",
   "execution_count": 6,
   "metadata": {},
   "outputs": [],
   "source": [
    "## From : Making of Pair Weight"
   ]
  },
  {
   "cell_type": "code",
   "execution_count": 7,
   "metadata": {},
   "outputs": [],
   "source": [
    "import torch\n",
    "import torch.nn as nn\n",
    "import numpy as np\n",
    "import matplotlib.pyplot as plt"
   ]
  },
  {
   "cell_type": "code",
   "execution_count": 8,
   "metadata": {},
   "outputs": [],
   "source": [
    "device = torch.device(\"cuda:0\")"
   ]
  },
  {
   "cell_type": "code",
   "execution_count": 9,
   "metadata": {},
   "outputs": [],
   "source": [
    "class PairWeight(nn.Module):\n",
    "    def __init__(self, input_dim):\n",
    "        super().__init__()\n",
    "        assert input_dim%2 == 0, \"Input dim must be even number\"\n",
    "        self.weight = torch.eye(2).unsqueeze(0).repeat_interleave(input_dim//2, dim=0)\n",
    "        self.weight = nn.Parameter(self.weight)\n",
    "        \n",
    "    def forward(self, x):\n",
    "        bs, dim = x.shape[0], x.shape[1]\n",
    "        x = x.view(bs, -1, 2).transpose(0,1)\n",
    "        x = torch.bmm(x, self.weight)\n",
    "        x = x.transpose(1,0).reshape(bs, -1)\n",
    "        return x"
   ]
  },
  {
   "cell_type": "code",
   "execution_count": 10,
   "metadata": {},
   "outputs": [],
   "source": [
    "pairW = PairWeight(784).to(device)\n",
    "pairW_s = torch.jit.script(pairW)\n",
    "\n",
    "x = torch.randn(1000, 784).to(device)"
   ]
  },
  {
   "cell_type": "code",
   "execution_count": 11,
   "metadata": {},
   "outputs": [],
   "source": [
    "# %timeit -n 100 -r 7 pairW(x) \n",
    "# %timeit pairW(x) "
   ]
  },
  {
   "cell_type": "code",
   "execution_count": 12,
   "metadata": {},
   "outputs": [],
   "source": [
    "# %timeit -n 100 -r 7 pairW_s(x) "
   ]
  },
  {
   "cell_type": "code",
   "execution_count": 13,
   "metadata": {},
   "outputs": [],
   "source": [
    "## Implementing my custom cuda code for bmm2x2"
   ]
  },
  {
   "cell_type": "code",
   "execution_count": 14,
   "metadata": {},
   "outputs": [],
   "source": [
    "import bmm2x2_cuda"
   ]
  },
  {
   "cell_type": "code",
   "execution_count": 15,
   "metadata": {},
   "outputs": [],
   "source": [
    "class BMM2x2Function(torch.autograd.Function):\n",
    "    @staticmethod\n",
    "    def forward(ctx, inputs, weights):\n",
    "        outputs = bmm2x2_cuda.forward(inputs, weights)\n",
    "        ctx.save_for_backward(inputs, weights)\n",
    "        return outputs[0]\n",
    "\n",
    "    @staticmethod\n",
    "    def backward(ctx, grad_output):\n",
    "        inputs, weights = ctx.saved_tensors\n",
    "#         del_input, del_weights = bmm2x2_cuda.backward(\n",
    "#             grad_output.contiguous(), \n",
    "#             grad_cell.contiguous(), \n",
    "#             grad_output.contiguous())\n",
    "        del_input, del_weights = bmm2x2_cuda.backward(\n",
    "            grad_output, \n",
    "            grad_cell, \n",
    "            grad_output)\n",
    "    \n",
    "        return del_input, del_weights"
   ]
  },
  {
   "cell_type": "code",
   "execution_count": 16,
   "metadata": {},
   "outputs": [],
   "source": [
    "class PairWeight2(nn.Module):\n",
    "    def __init__(self, input_dim):\n",
    "        super().__init__()\n",
    "        assert input_dim%2 == 0, \"Input dim must be even number\"\n",
    "        self.weight = torch.eye(2).unsqueeze(0).repeat_interleave(input_dim//2, dim=0)\n",
    "        self.weight = nn.Parameter(self.weight)\n",
    "        \n",
    "    def forward(self, x):\n",
    "        bs, dim = x.shape[0], x.shape[1]\n",
    "        x = x.view(bs, -1, 2).transpose(0,1)\n",
    "        x = BMM2x2Function.apply(x.contiguous(), self.weight)\n",
    "        x = x.transpose(1,0).reshape(bs, -1)\n",
    "        return x"
   ]
  },
  {
   "cell_type": "code",
   "execution_count": 17,
   "metadata": {},
   "outputs": [],
   "source": [
    "# bmm2x2_cuda.forward(torch.randn(10, 2, 2).to(device), torch.randn(10,2,2).to(device))"
   ]
  },
  {
   "cell_type": "code",
   "execution_count": 18,
   "metadata": {},
   "outputs": [],
   "source": [
    "pairW2 = PairWeight2(784).to(device)"
   ]
  },
  {
   "cell_type": "code",
   "execution_count": 19,
   "metadata": {},
   "outputs": [],
   "source": [
    "# %timeit -n 100 -r 7 pairW2(x) \n",
    "# %timeit pairW2(x) "
   ]
  },
  {
   "cell_type": "markdown",
   "metadata": {},
   "source": [
    "## Sparse Benchmark"
   ]
  },
  {
   "cell_type": "code",
   "execution_count": 20,
   "metadata": {},
   "outputs": [],
   "source": [
    "## create sparse matrix row and col\n",
    "N = 784\n",
    "indices = []\n",
    "for i in range(0, N, 2):\n",
    "    indices.extend([(i,i), (i,i+1), (i+1,i), (i+1,i+1)])\n",
    "indices = np.array(indices)"
   ]
  },
  {
   "cell_type": "code",
   "execution_count": 21,
   "metadata": {},
   "outputs": [
    {
     "data": {
      "text/plain": [
       "(1568, 2)"
      ]
     },
     "execution_count": 21,
     "metadata": {},
     "output_type": "execute_result"
    }
   ],
   "source": [
    "indices.shape"
   ]
  },
  {
   "cell_type": "code",
   "execution_count": 22,
   "metadata": {},
   "outputs": [],
   "source": [
    "vals = torch.eye(2).unsqueeze(0).repeat_interleave(784//2, dim=0).reshape(-1)\n",
    "# vals = torch.randn(len(indices))"
   ]
  },
  {
   "cell_type": "code",
   "execution_count": 23,
   "metadata": {},
   "outputs": [],
   "source": [
    "sW = torch.sparse_coo_tensor(indices.T, vals, size=(784, 784)).to(device)"
   ]
  },
  {
   "cell_type": "code",
   "execution_count": 24,
   "metadata": {},
   "outputs": [
    {
     "data": {
      "text/plain": [
       "tensor(indices=tensor([[  0,   0,   1,  ..., 782, 783, 783],\n",
       "                       [  0,   1,   0,  ..., 783, 782, 783]]),\n",
       "       values=tensor([1., 0., 0.,  ..., 0., 0., 1.]),\n",
       "       device='cuda:0', size=(784, 784), nnz=1568, layout=torch.sparse_coo)"
      ]
     },
     "execution_count": 24,
     "metadata": {},
     "output_type": "execute_result"
    }
   ],
   "source": [
    "sW"
   ]
  },
  {
   "cell_type": "code",
   "execution_count": 25,
   "metadata": {},
   "outputs": [],
   "source": [
    "X = torch.randn(100, 784).to(device)"
   ]
  },
  {
   "cell_type": "code",
   "execution_count": 26,
   "metadata": {},
   "outputs": [],
   "source": [
    "wt, xt = sW.t(), X.t()"
   ]
  },
  {
   "cell_type": "code",
   "execution_count": 44,
   "metadata": {},
   "outputs": [
    {
     "name": "stdout",
     "output_type": "stream",
     "text": [
      "641 µs ± 18.1 µs per loop (mean ± std. dev. of 7 runs, 1000 loops each)\n"
     ]
    }
   ],
   "source": [
    "%timeit (wt@xt).t()"
   ]
  },
  {
   "cell_type": "code",
   "execution_count": 77,
   "metadata": {},
   "outputs": [],
   "source": [
    "bs, dim = X.shape[0], X.shape[1]\n",
    "x = X.view(bs, -1, 2).transpose(0,1).contiguous()\n",
    "\n",
    "w = torch.eye(2).unsqueeze(0).repeat_interleave(784//2, dim=0).contiguous()"
   ]
  },
  {
   "cell_type": "code",
   "execution_count": 78,
   "metadata": {},
   "outputs": [
    {
     "data": {
      "text/plain": [
       "torch.Size([392, 2, 2])"
      ]
     },
     "execution_count": 78,
     "metadata": {},
     "output_type": "execute_result"
    }
   ],
   "source": [
    "w.shape"
   ]
  },
  {
   "cell_type": "code",
   "execution_count": 79,
   "metadata": {},
   "outputs": [],
   "source": [
    "x = x.to(device)\n",
    "w = w.to(device)"
   ]
  },
  {
   "cell_type": "code",
   "execution_count": 80,
   "metadata": {},
   "outputs": [
    {
     "data": {
      "text/plain": [
       "(torch.Size([392, 2, 2]), torch.Size([392, 100, 2]))"
      ]
     },
     "execution_count": 80,
     "metadata": {},
     "output_type": "execute_result"
    }
   ],
   "source": [
    "w.shape, x.shape"
   ]
  },
  {
   "cell_type": "code",
   "execution_count": 90,
   "metadata": {},
   "outputs": [
    {
     "name": "stdout",
     "output_type": "stream",
     "text": [
      "146 µs ± 14.8 ns per loop (mean ± std. dev. of 7 runs, 10000 loops each)\n"
     ]
    }
   ],
   "source": [
    "%timeit BMM2x2Function.apply(x.contiguous(), w).transpose(1,0).reshape(bs, -1)"
   ]
  },
  {
   "cell_type": "code",
   "execution_count": 46,
   "metadata": {},
   "outputs": [
    {
     "name": "stdout",
     "output_type": "stream",
     "text": [
      "1.1 ms ± 594 ns per loop (mean ± std. dev. of 7 runs, 10000 loops each)\n"
     ]
    }
   ],
   "source": [
    "%timeit torch.bmm(x, w)"
   ]
  },
  {
   "cell_type": "code",
   "execution_count": 34,
   "metadata": {},
   "outputs": [],
   "source": [
    "### sparse mm -> 626 µs ± 1.35 µs per loop (mean ± std. dev. of 7 runs, 1000 loops each)\n",
    "### BMM2x2 -> 77.7 µs ± 12.4 ns per loop (mean ± std. dev. of 7 runs, 10000 loops each)\n",
    "### BMM2x2+contiguous -> 150 µs ± 9.8 ns per loop (mean ± std. dev. of 7 runs, 10000 loops each)\n",
    "### torch bmm -> 1.11 ms ± 570 ns per loop (mean ± std. dev. of 7 runs, 10000 loops each)"
   ]
  },
  {
   "cell_type": "code",
   "execution_count": 81,
   "metadata": {},
   "outputs": [
    {
     "data": {
      "text/plain": [
       "tensor([[ 1.5073,  0.7889, -0.4829,  ..., -0.6170,  1.6299,  1.2688],\n",
       "        [ 0.3308, -0.0600,  0.0109,  ..., -2.6327, -0.0934,  0.4270],\n",
       "        [-0.0868,  0.2504, -2.2972,  ...,  0.5827, -1.3525, -1.1179],\n",
       "        ...,\n",
       "        [-0.3604,  1.2213, -2.5813,  ..., -0.1434, -1.0056,  1.0076],\n",
       "        [-0.8131, -0.3502,  0.8065,  ..., -0.3307,  0.8443,  0.2059],\n",
       "        [ 0.6000, -0.2403,  0.7744,  ..., -1.9084,  0.1442,  0.6402]],\n",
       "       device='cuda:0')"
      ]
     },
     "execution_count": 81,
     "metadata": {},
     "output_type": "execute_result"
    }
   ],
   "source": [
    "ansA = (wt@xt).t()\n",
    "ansA"
   ]
  },
  {
   "cell_type": "code",
   "execution_count": 82,
   "metadata": {},
   "outputs": [
    {
     "data": {
      "text/plain": [
       "torch.Size([100, 784])"
      ]
     },
     "execution_count": 82,
     "metadata": {},
     "output_type": "execute_result"
    }
   ],
   "source": [
    "ansA.shape"
   ]
  },
  {
   "cell_type": "code",
   "execution_count": 83,
   "metadata": {},
   "outputs": [
    {
     "data": {
      "text/plain": [
       "tensor([[ 1.5073,  0.7889, -0.4829,  ..., -0.6170,  1.6299,  1.2688],\n",
       "        [ 0.3308, -0.0600,  0.0109,  ..., -2.6327, -0.0934,  0.4270],\n",
       "        [-0.0868,  0.2504, -2.2972,  ...,  0.5827, -1.3525, -1.1179],\n",
       "        ...,\n",
       "        [-0.3604,  1.2213, -2.5813,  ..., -0.1434, -1.0056,  1.0076],\n",
       "        [-0.8131, -0.3502,  0.8065,  ..., -0.3307,  0.8443,  0.2059],\n",
       "        [ 0.6000, -0.2403,  0.7744,  ..., -1.9084,  0.1442,  0.6402]],\n",
       "       device='cuda:0')"
      ]
     },
     "execution_count": 83,
     "metadata": {},
     "output_type": "execute_result"
    }
   ],
   "source": [
    "ansB = BMM2x2Function.apply(x, w).transpose(1,0).reshape(bs, -1)\n",
    "ansB"
   ]
  },
  {
   "cell_type": "code",
   "execution_count": 85,
   "metadata": {},
   "outputs": [],
   "source": [
    "# ansB[1]"
   ]
  },
  {
   "cell_type": "code",
   "execution_count": 86,
   "metadata": {},
   "outputs": [
    {
     "data": {
      "text/plain": [
       "tensor([[ 1.5073,  0.7889, -0.4829,  ..., -0.6170,  1.6299,  1.2688],\n",
       "        [ 0.3308, -0.0600,  0.0109,  ..., -2.6327, -0.0934,  0.4270],\n",
       "        [-0.0868,  0.2504, -2.2972,  ...,  0.5827, -1.3525, -1.1179],\n",
       "        ...,\n",
       "        [-0.3604,  1.2213, -2.5813,  ..., -0.1434, -1.0056,  1.0076],\n",
       "        [-0.8131, -0.3502,  0.8065,  ..., -0.3307,  0.8443,  0.2059],\n",
       "        [ 0.6000, -0.2403,  0.7744,  ..., -1.9084,  0.1442,  0.6402]],\n",
       "       device='cuda:0')"
      ]
     },
     "execution_count": 86,
     "metadata": {},
     "output_type": "execute_result"
    }
   ],
   "source": [
    "ansC = torch.bmm(x, w).transpose(1,0).reshape(bs, -1)\n",
    "ansC"
   ]
  },
  {
   "cell_type": "code",
   "execution_count": 87,
   "metadata": {},
   "outputs": [
    {
     "data": {
      "text/plain": [
       "torch.Size([100, 784])"
      ]
     },
     "execution_count": 87,
     "metadata": {},
     "output_type": "execute_result"
    }
   ],
   "source": [
    "ansC.shape"
   ]
  },
  {
   "cell_type": "code",
   "execution_count": 73,
   "metadata": {},
   "outputs": [
    {
     "data": {
      "text/plain": [
       "tensor([[[ 1.5073,  0.7889],\n",
       "         [ 0.3308, -0.0600],\n",
       "         [-0.0868,  0.2504],\n",
       "         ...,\n",
       "         [-0.3604,  1.2213],\n",
       "         [-0.8131, -0.3502],\n",
       "         [ 0.6000, -0.2403]],\n",
       "\n",
       "        [[-0.4829, -0.7721],\n",
       "         [ 0.0109, -1.4208],\n",
       "         [-2.2972, -0.0171],\n",
       "         ...,\n",
       "         [-2.5813,  2.5553],\n",
       "         [ 0.8065,  0.2904],\n",
       "         [ 0.7744, -2.4374]],\n",
       "\n",
       "        [[-0.0731,  1.9099],\n",
       "         [-0.2455, -0.1036],\n",
       "         [ 0.7706,  0.8648],\n",
       "         ...,\n",
       "         [ 1.2436,  0.5248],\n",
       "         [ 1.5319,  1.5474],\n",
       "         [-2.1175,  0.1074]],\n",
       "\n",
       "        ...,\n",
       "\n",
       "        [[ 0.3615, -1.3613],\n",
       "         [-2.2790,  0.0356],\n",
       "         [ 0.0497, -0.9031],\n",
       "         ...,\n",
       "         [ 0.5367, -0.1016],\n",
       "         [-2.5365,  1.5789],\n",
       "         [ 0.7288, -0.3986]],\n",
       "\n",
       "        [[-1.8808, -0.6170],\n",
       "         [-1.3180, -2.6327],\n",
       "         [-0.3965,  0.5827],\n",
       "         ...,\n",
       "         [ 0.0499, -0.1434],\n",
       "         [-0.0149, -0.3307],\n",
       "         [-1.2435, -1.9084]],\n",
       "\n",
       "        [[ 1.6299,  1.2688],\n",
       "         [-0.0934,  0.4270],\n",
       "         [-1.3525, -1.1179],\n",
       "         ...,\n",
       "         [-1.0056,  1.0076],\n",
       "         [ 0.8443,  0.2059],\n",
       "         [ 0.1442,  0.6402]]], device='cuda:0')"
      ]
     },
     "execution_count": 73,
     "metadata": {},
     "output_type": "execute_result"
    }
   ],
   "source": [
    "x"
   ]
  },
  {
   "cell_type": "code",
   "execution_count": 41,
   "metadata": {},
   "outputs": [],
   "source": [
    "## testing indices of Bx2x2 array\n",
    "_w = torch.arange(10*2*2).reshape(10,2,2)"
   ]
  },
  {
   "cell_type": "code",
   "execution_count": 42,
   "metadata": {},
   "outputs": [
    {
     "data": {
      "text/plain": [
       "torch.Size([10, 2, 2])"
      ]
     },
     "execution_count": 42,
     "metadata": {},
     "output_type": "execute_result"
    }
   ],
   "source": [
    "_w.shape"
   ]
  },
  {
   "cell_type": "code",
   "execution_count": 43,
   "metadata": {},
   "outputs": [
    {
     "data": {
      "text/plain": [
       "tensor([[[ 0,  1],\n",
       "         [ 2,  3]],\n",
       "\n",
       "        [[ 4,  5],\n",
       "         [ 6,  7]],\n",
       "\n",
       "        [[ 8,  9],\n",
       "         [10, 11]],\n",
       "\n",
       "        [[12, 13],\n",
       "         [14, 15]],\n",
       "\n",
       "        [[16, 17],\n",
       "         [18, 19]],\n",
       "\n",
       "        [[20, 21],\n",
       "         [22, 23]],\n",
       "\n",
       "        [[24, 25],\n",
       "         [26, 27]],\n",
       "\n",
       "        [[28, 29],\n",
       "         [30, 31]],\n",
       "\n",
       "        [[32, 33],\n",
       "         [34, 35]],\n",
       "\n",
       "        [[36, 37],\n",
       "         [38, 39]]])"
      ]
     },
     "execution_count": 43,
     "metadata": {},
     "output_type": "execute_result"
    }
   ],
   "source": [
    "_w"
   ]
  },
  {
   "cell_type": "code",
   "execution_count": 58,
   "metadata": {},
   "outputs": [
    {
     "data": {
      "text/plain": [
       "tensor([[1., 0., 0.,  ..., 0., 0., 0.],\n",
       "        [0., 1., 0.,  ..., 0., 0., 0.],\n",
       "        [0., 0., 1.,  ..., 0., 0., 0.],\n",
       "        ...,\n",
       "        [0., 0., 0.,  ..., 1., 0., 0.],\n",
       "        [0., 0., 0.,  ..., 0., 1., 0.],\n",
       "        [0., 0., 0.,  ..., 0., 0., 1.]], device='cuda:0')"
      ]
     },
     "execution_count": 58,
     "metadata": {},
     "output_type": "execute_result"
    }
   ],
   "source": [
    "_t = sW.to_dense()\n",
    "_t"
   ]
  },
  {
   "cell_type": "code",
   "execution_count": 70,
   "metadata": {},
   "outputs": [
    {
     "data": {
      "text/plain": [
       "tensor(784., device='cuda:0')"
      ]
     },
     "execution_count": 70,
     "metadata": {},
     "output_type": "execute_result"
    }
   ],
   "source": [
    "(_t == torch.eye(784).to(device)).type(torch.long).sum().sqrt()"
   ]
  },
  {
   "cell_type": "code",
   "execution_count": 63,
   "metadata": {},
   "outputs": [
    {
     "data": {
      "text/plain": [
       "tensor([[[1., 0.],\n",
       "         [0., 1.]],\n",
       "\n",
       "        [[1., 0.],\n",
       "         [0., 1.]],\n",
       "\n",
       "        [[1., 0.],\n",
       "         [0., 1.]],\n",
       "\n",
       "        ...,\n",
       "\n",
       "        [[1., 0.],\n",
       "         [0., 1.]],\n",
       "\n",
       "        [[1., 0.],\n",
       "         [0., 1.]],\n",
       "\n",
       "        [[1., 0.],\n",
       "         [0., 1.]]], device='cuda:0')"
      ]
     },
     "execution_count": 63,
     "metadata": {},
     "output_type": "execute_result"
    }
   ],
   "source": [
    "w"
   ]
  },
  {
   "cell_type": "code",
   "execution_count": null,
   "metadata": {},
   "outputs": [],
   "source": []
  }
 ],
 "metadata": {
  "kernelspec": {
   "display_name": "Python 3",
   "language": "python",
   "name": "python3"
  },
  "language_info": {
   "codemirror_mode": {
    "name": "ipython",
    "version": 3
   },
   "file_extension": ".py",
   "mimetype": "text/x-python",
   "name": "python",
   "nbconvert_exporter": "python",
   "pygments_lexer": "ipython3",
   "version": "3.7.4"
  }
 },
 "nbformat": 4,
 "nbformat_minor": 4
}
