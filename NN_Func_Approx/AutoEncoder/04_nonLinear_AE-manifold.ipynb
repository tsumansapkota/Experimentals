{
 "cells": [
  {
   "cell_type": "code",
   "execution_count": 1,
   "metadata": {},
   "outputs": [],
   "source": [
    "#Importing required Python packages \n",
    "import matplotlib.pylab as plt \n",
    "import numpy as np \n",
    "%matplotlib inline \n",
    "\n",
    "import torch\n",
    "import torch.nn.functional as F"
   ]
  },
  {
   "cell_type": "code",
   "execution_count": 2,
   "metadata": {},
   "outputs": [],
   "source": [
    "#Define a simple range of values for x and reshape so sklearn likes it.\n",
    "x = np.linspace(0,1,200)\n",
    "noise = np.random.normal(0,0.02, x.shape)\n",
    "x = x + noise\n",
    "y= (2 * np.sin(10*x) + np.cos(20 * x - 3) + 3 * np.log(10*x + 0.5) - 4)/6.\n",
    "noise = np.random.normal(0,0.1, x.shape)\n",
    "y = y + noise\n",
    "x = x - 0.5\n",
    "x = x[:, np.newaxis]\n",
    "y = y[:, np.newaxis]\n",
    "\n",
    "inp  = np.c_[x,y]"
   ]
  },
  {
   "cell_type": "code",
   "execution_count": 3,
   "metadata": {},
   "outputs": [
    {
     "data": {
      "text/plain": [
       "<matplotlib.collections.PathCollection at 0x7f35c80f3a50>"
      ]
     },
     "execution_count": 3,
     "metadata": {},
     "output_type": "execute_result"
    },
    {
     "data": {
      "image/png": "[encoded data removed]",
      "text/plain": [
       "<Figure size 432x288 with 1 Axes>"
      ]
     },
     "metadata": {
      "needs_background": "light"
     },
     "output_type": "display_data"
    }
   ],
   "source": [
    "plt.scatter(x, y)"
   ]
  },
  {
   "cell_type": "code",
   "execution_count": 33,
   "metadata": {},
   "outputs": [],
   "source": [
    "# defining network\n",
    "X = torch.from_numpy(inp).type(torch.float32)\n",
    "\n",
    "pieces = 3\n",
    "We1 = torch.empty(2,pieces, requires_grad=True)\n",
    "be1 = torch.zeros(pieces, requires_grad=True)\n",
    "We2 = torch.empty(pieces,1, requires_grad=True)\n",
    "be2 = torch.zeros(1, requires_grad=True)\n",
    "\n",
    "\n",
    "Wd1 = torch.empty(1,pieces, requires_grad=True)\n",
    "bd1 = torch.zeros(pieces, requires_grad=True)\n",
    "Wd2 = torch.empty(pieces,2, requires_grad=True)\n",
    "bd2 = torch.zeros(2, requires_grad=True)\n",
    "\n",
    "torch.nn.init.xavier_normal_(We1)\n",
    "torch.nn.init.xavier_normal_(We2)\n",
    "torch.nn.init.xavier_normal_(Wd1)\n",
    "torch.nn.init.xavier_normal_(Wd2)\n",
    "\n",
    "alpha = 0.003\n",
    "optimizer = torch.optim.Adam(params=[We1,We2,Wd1, Wd2, be1, be2, bd1, bd2], lr=alpha)"
   ]
  },
  {
   "cell_type": "code",
   "execution_count": 34,
   "metadata": {},
   "outputs": [],
   "source": [
    "act = torch.relu\n",
    "# act = torch.tanh\n",
    "\n",
    "def encode(x):\n",
    "    h = x.mm(We1) + be1\n",
    "    h = act(h)\n",
    "    h = h.mm(We2) + be2\n",
    "    return h\n",
    "\n",
    "def decode(h):\n",
    "    h_ = h.mm(Wd1) + bd1\n",
    "    h_ = act(h_)\n",
    "    h_ = h_.mm(Wd2) + bd2\n",
    "    return h_\n",
    "\n",
    "def forward(x):\n",
    "    h = encode(x)\n",
    "    h_ = decode(h)\n",
    "    return h_"
   ]
  },
  {
   "cell_type": "code",
   "execution_count": 35,
   "metadata": {},
   "outputs": [
    {
     "name": "stdout",
     "output_type": "stream",
     "text": [
      "loss =  tensor(0.1457, grad_fn=<MseLossBackward>)\n",
      "loss =  tensor(0.0389, grad_fn=<MseLossBackward>)\n",
      "loss =  tensor(0.0167, grad_fn=<MseLossBackward>)\n",
      "loss =  tensor(0.0141, grad_fn=<MseLossBackward>)\n",
      "loss =  tensor(0.0114, grad_fn=<MseLossBackward>)\n",
      "loss =  tensor(0.0108, grad_fn=<MseLossBackward>)\n",
      "loss =  tensor(0.0106, grad_fn=<MseLossBackward>)\n",
      "loss =  tensor(0.0104, grad_fn=<MseLossBackward>)\n",
      "loss =  tensor(0.0103, grad_fn=<MseLossBackward>)\n",
      "loss =  tensor(0.0101, grad_fn=<MseLossBackward>)\n",
      "loss =  tensor(0.0099, grad_fn=<MseLossBackward>)\n",
      "loss =  tensor(0.0099, grad_fn=<MseLossBackward>)\n",
      "loss =  tensor(0.0098, grad_fn=<MseLossBackward>)\n",
      "loss =  tensor(0.0098, grad_fn=<MseLossBackward>)\n",
      "loss =  tensor(0.0098, grad_fn=<MseLossBackward>)\n",
      "loss =  tensor(0.0097, grad_fn=<MseLossBackward>)\n",
      "loss =  tensor(0.0097, grad_fn=<MseLossBackward>)\n",
      "loss =  tensor(0.0097, grad_fn=<MseLossBackward>)\n",
      "loss =  tensor(0.0096, grad_fn=<MseLossBackward>)\n",
      "loss =  tensor(0.0096, grad_fn=<MseLossBackward>)\n",
      "loss =  tensor(0.0096, grad_fn=<MseLossBackward>)\n",
      "loss =  tensor(0.0096, grad_fn=<MseLossBackward>)\n",
      "loss =  tensor(0.0095, grad_fn=<MseLossBackward>)\n",
      "loss =  tensor(0.0095, grad_fn=<MseLossBackward>)\n",
      "loss =  tensor(0.0094, grad_fn=<MseLossBackward>)\n",
      "loss =  tensor(0.0092, grad_fn=<MseLossBackward>)\n",
      "loss =  tensor(0.0092, grad_fn=<MseLossBackward>)\n",
      "loss =  tensor(0.0092, grad_fn=<MseLossBackward>)\n",
      "loss =  tensor(0.0092, grad_fn=<MseLossBackward>)\n",
      "loss =  tensor(0.0092, grad_fn=<MseLossBackward>)\n",
      "loss =  tensor(0.0092, grad_fn=<MseLossBackward>)\n",
      "loss =  tensor(0.0091, grad_fn=<MseLossBackward>)\n",
      "loss =  tensor(0.0091, grad_fn=<MseLossBackward>)\n",
      "loss =  tensor(0.0091, grad_fn=<MseLossBackward>)\n",
      "loss =  tensor(0.0091, grad_fn=<MseLossBackward>)\n",
      "loss =  tensor(0.0091, grad_fn=<MseLossBackward>)\n",
      "loss =  tensor(0.0091, grad_fn=<MseLossBackward>)\n",
      "loss =  tensor(0.0091, grad_fn=<MseLossBackward>)\n",
      "loss =  tensor(0.0091, grad_fn=<MseLossBackward>)\n",
      "loss =  tensor(0.0091, grad_fn=<MseLossBackward>)\n",
      "loss =  tensor(0.0091, grad_fn=<MseLossBackward>)\n",
      "loss =  tensor(0.0091, grad_fn=<MseLossBackward>)\n",
      "loss =  tensor(0.0091, grad_fn=<MseLossBackward>)\n",
      "loss =  tensor(0.0091, grad_fn=<MseLossBackward>)\n",
      "loss =  tensor(0.0090, grad_fn=<MseLossBackward>)\n",
      "loss =  tensor(0.0090, grad_fn=<MseLossBackward>)\n",
      "loss =  tensor(0.0090, grad_fn=<MseLossBackward>)\n",
      "loss =  tensor(0.0090, grad_fn=<MseLossBackward>)\n",
      "loss =  tensor(0.0090, grad_fn=<MseLossBackward>)\n",
      "loss =  tensor(0.0090, grad_fn=<MseLossBackward>)\n",
      "loss =  tensor(0.0090, grad_fn=<MseLossBackward>)\n",
      "loss =  tensor(0.0090, grad_fn=<MseLossBackward>)\n",
      "loss =  tensor(0.0090, grad_fn=<MseLossBackward>)\n",
      "loss =  tensor(0.0090, grad_fn=<MseLossBackward>)\n",
      "loss =  tensor(0.0090, grad_fn=<MseLossBackward>)\n",
      "loss =  tensor(0.0090, grad_fn=<MseLossBackward>)\n",
      "loss =  tensor(0.0090, grad_fn=<MseLossBackward>)\n",
      "loss =  tensor(0.0090, grad_fn=<MseLossBackward>)\n",
      "loss =  tensor(0.0090, grad_fn=<MseLossBackward>)\n",
      "loss =  tensor(0.0090, grad_fn=<MseLossBackward>)\n",
      "loss =  tensor(0.0090, grad_fn=<MseLossBackward>)\n",
      "loss =  tensor(0.0090, grad_fn=<MseLossBackward>)\n",
      "loss =  tensor(0.0090, grad_fn=<MseLossBackward>)\n",
      "loss =  tensor(0.0090, grad_fn=<MseLossBackward>)\n",
      "loss =  tensor(0.0090, grad_fn=<MseLossBackward>)\n",
      "loss =  tensor(0.0090, grad_fn=<MseLossBackward>)\n",
      "loss =  tensor(0.0090, grad_fn=<MseLossBackward>)\n",
      "loss =  tensor(0.0090, grad_fn=<MseLossBackward>)\n",
      "loss =  tensor(0.0090, grad_fn=<MseLossBackward>)\n",
      "loss =  tensor(0.0090, grad_fn=<MseLossBackward>)\n",
      "loss =  tensor(0.0090, grad_fn=<MseLossBackward>)\n",
      "loss =  tensor(0.0090, grad_fn=<MseLossBackward>)\n",
      "loss =  tensor(0.0090, grad_fn=<MseLossBackward>)\n",
      "loss =  tensor(0.0090, grad_fn=<MseLossBackward>)\n",
      "loss =  tensor(0.0090, grad_fn=<MseLossBackward>)\n",
      "loss =  tensor(0.0090, grad_fn=<MseLossBackward>)\n",
      "loss =  tensor(0.0090, grad_fn=<MseLossBackward>)\n",
      "loss =  tensor(0.0090, grad_fn=<MseLossBackward>)\n",
      "loss =  tensor(0.0090, grad_fn=<MseLossBackward>)\n",
      "loss =  tensor(0.0090, grad_fn=<MseLossBackward>)\n",
      "loss =  tensor(0.0090, grad_fn=<MseLossBackward>)\n",
      "loss =  tensor(0.0090, grad_fn=<MseLossBackward>)\n",
      "loss =  tensor(0.0090, grad_fn=<MseLossBackward>)\n",
      "loss =  tensor(0.0090, grad_fn=<MseLossBackward>)\n",
      "loss =  tensor(0.0090, grad_fn=<MseLossBackward>)\n",
      "loss =  tensor(0.0090, grad_fn=<MseLossBackward>)\n",
      "loss =  tensor(0.0090, grad_fn=<MseLossBackward>)\n",
      "loss =  tensor(0.0090, grad_fn=<MseLossBackward>)\n",
      "loss =  tensor(0.0090, grad_fn=<MseLossBackward>)\n",
      "loss =  tensor(0.0090, grad_fn=<MseLossBackward>)\n",
      "loss =  tensor(0.0090, grad_fn=<MseLossBackward>)\n",
      "loss =  tensor(0.0090, grad_fn=<MseLossBackward>)\n",
      "loss =  tensor(0.0090, grad_fn=<MseLossBackward>)\n",
      "loss =  tensor(0.0090, grad_fn=<MseLossBackward>)\n",
      "loss =  tensor(0.0090, grad_fn=<MseLossBackward>)\n",
      "loss =  tensor(0.0090, grad_fn=<MseLossBackward>)\n",
      "loss =  tensor(0.0090, grad_fn=<MseLossBackward>)\n",
      "loss =  tensor(0.0090, grad_fn=<MseLossBackward>)\n",
      "loss =  tensor(0.0090, grad_fn=<MseLossBackward>)\n",
      "loss =  tensor(0.0090, grad_fn=<MseLossBackward>)\n",
      "loss =  tensor(0.0090, grad_fn=<MseLossBackward>)\n",
      "loss =  tensor(0.0090, grad_fn=<MseLossBackward>)\n",
      "loss =  tensor(0.0090, grad_fn=<MseLossBackward>)\n",
      "loss =  tensor(0.0090, grad_fn=<MseLossBackward>)\n",
      "loss =  tensor(0.0090, grad_fn=<MseLossBackward>)\n",
      "loss =  tensor(0.0090, grad_fn=<MseLossBackward>)\n",
      "loss =  tensor(0.0089, grad_fn=<MseLossBackward>)\n",
      "loss =  tensor(0.0090, grad_fn=<MseLossBackward>)\n",
      "loss =  tensor(0.0090, grad_fn=<MseLossBackward>)\n",
      "loss =  tensor(0.0090, grad_fn=<MseLossBackward>)\n",
      "loss =  tensor(0.0090, grad_fn=<MseLossBackward>)\n",
      "loss =  tensor(0.0089, grad_fn=<MseLossBackward>)\n",
      "loss =  tensor(0.0090, grad_fn=<MseLossBackward>)\n",
      "loss =  tensor(0.0090, grad_fn=<MseLossBackward>)\n",
      "loss =  tensor(0.0089, grad_fn=<MseLossBackward>)\n",
      "loss =  tensor(0.0089, grad_fn=<MseLossBackward>)\n",
      "loss =  tensor(0.0090, grad_fn=<MseLossBackward>)\n",
      "loss =  tensor(0.0090, grad_fn=<MseLossBackward>)\n",
      "loss =  tensor(0.0089, grad_fn=<MseLossBackward>)\n",
      "loss =  tensor(0.0089, grad_fn=<MseLossBackward>)\n",
      "loss =  tensor(0.0090, grad_fn=<MseLossBackward>)\n",
      "loss =  tensor(0.0089, grad_fn=<MseLossBackward>)\n",
      "loss =  tensor(0.0089, grad_fn=<MseLossBackward>)\n",
      "loss =  tensor(0.0089, grad_fn=<MseLossBackward>)\n",
      "loss =  tensor(0.0089, grad_fn=<MseLossBackward>)\n",
      "loss =  tensor(0.0089, grad_fn=<MseLossBackward>)\n",
      "loss =  tensor(0.0090, grad_fn=<MseLossBackward>)\n",
      "loss =  tensor(0.0089, grad_fn=<MseLossBackward>)\n",
      "loss =  tensor(0.0089, grad_fn=<MseLossBackward>)\n",
      "loss =  tensor(0.0089, grad_fn=<MseLossBackward>)\n",
      "loss =  tensor(0.0090, grad_fn=<MseLossBackward>)\n",
      "loss =  tensor(0.0089, grad_fn=<MseLossBackward>)\n",
      "loss =  tensor(0.0089, grad_fn=<MseLossBackward>)\n"
     ]
    },
    {
     "ename": "TclError",
     "evalue": "invalid command name \"pyimage200\"",
     "output_type": "error",
     "traceback": [
      "\u001b[0;31m---------------------------------------------------------------------------\u001b[0m",
      "\u001b[0;31mTclError\u001b[0m                                  Traceback (most recent call last)",
      "\u001b[0;32m<ipython-input-35-e639e3e4d678>\u001b[0m in \u001b[0;36m<module>\u001b[0;34m()\u001b[0m\n\u001b[1;32m     17\u001b[0m         \u001b[0mplt\u001b[0m\u001b[0;34m.\u001b[0m\u001b[0mscatter\u001b[0m\u001b[0;34m(\u001b[0m\u001b[0mx\u001b[0m\u001b[0;34m,\u001b[0m\u001b[0my\u001b[0m\u001b[0;34m)\u001b[0m\u001b[0;34m\u001b[0m\u001b[0;34m\u001b[0m\u001b[0m\n\u001b[1;32m     18\u001b[0m         \u001b[0mplt\u001b[0m\u001b[0;34m.\u001b[0m\u001b[0mscatter\u001b[0m\u001b[0;34m(\u001b[0m\u001b[0mxx\u001b[0m\u001b[0;34m.\u001b[0m\u001b[0mdata\u001b[0m\u001b[0;34m.\u001b[0m\u001b[0mnumpy\u001b[0m\u001b[0;34m(\u001b[0m\u001b[0;34m)\u001b[0m\u001b[0;34m[\u001b[0m\u001b[0;34m:\u001b[0m\u001b[0;34m,\u001b[0m\u001b[0;36m0\u001b[0m\u001b[0;34m]\u001b[0m\u001b[0;34m,\u001b[0m\u001b[0mxx\u001b[0m\u001b[0;34m.\u001b[0m\u001b[0mdata\u001b[0m\u001b[0;34m.\u001b[0m\u001b[0mnumpy\u001b[0m\u001b[0;34m(\u001b[0m\u001b[0;34m)\u001b[0m\u001b[0;34m[\u001b[0m\u001b[0;34m:\u001b[0m\u001b[0;34m,\u001b[0m\u001b[0;36m1\u001b[0m\u001b[0;34m]\u001b[0m \u001b[0;34m,\u001b[0m \u001b[0mlw\u001b[0m\u001b[0;34m=\u001b[0m\u001b[0;36m1\u001b[0m\u001b[0;34m,\u001b[0m \u001b[0mmarker\u001b[0m\u001b[0;34m=\u001b[0m\u001b[0;34m'*'\u001b[0m\u001b[0;34m,\u001b[0m \u001b[0mc\u001b[0m\u001b[0;34m=\u001b[0m\u001b[0;34m'r'\u001b[0m\u001b[0;34m)\u001b[0m\u001b[0;34m\u001b[0m\u001b[0;34m\u001b[0m\u001b[0m\n\u001b[0;32m---> 19\u001b[0;31m         \u001b[0mfig\u001b[0m\u001b[0;34m.\u001b[0m\u001b[0mcanvas\u001b[0m\u001b[0;34m.\u001b[0m\u001b[0mdraw\u001b[0m\u001b[0;34m(\u001b[0m\u001b[0;34m)\u001b[0m\u001b[0;34m\u001b[0m\u001b[0;34m\u001b[0m\u001b[0m\n\u001b[0m\u001b[1;32m     20\u001b[0m         \u001b[0mplt\u001b[0m\u001b[0;34m.\u001b[0m\u001b[0mpause\u001b[0m\u001b[0;34m(\u001b[0m\u001b[0;36m0.01\u001b[0m\u001b[0;34m)\u001b[0m\u001b[0;34m\u001b[0m\u001b[0;34m\u001b[0m\u001b[0m\n",
      "\u001b[0;32m~/Program_Files/miniconda/lib/python3.7/site-packages/matplotlib/backends/backend_tkagg.py\u001b[0m in \u001b[0;36mdraw\u001b[0;34m(self)\u001b[0m\n\u001b[1;32m      8\u001b[0m     \u001b[0;32mdef\u001b[0m \u001b[0mdraw\u001b[0m\u001b[0;34m(\u001b[0m\u001b[0mself\u001b[0m\u001b[0;34m)\u001b[0m\u001b[0;34m:\u001b[0m\u001b[0;34m\u001b[0m\u001b[0;34m\u001b[0m\u001b[0m\n\u001b[1;32m      9\u001b[0m         \u001b[0msuper\u001b[0m\u001b[0;34m(\u001b[0m\u001b[0mFigureCanvasTkAgg\u001b[0m\u001b[0;34m,\u001b[0m \u001b[0mself\u001b[0m\u001b[0;34m)\u001b[0m\u001b[0;34m.\u001b[0m\u001b[0mdraw\u001b[0m\u001b[0;34m(\u001b[0m\u001b[0;34m)\u001b[0m\u001b[0;34m\u001b[0m\u001b[0;34m\u001b[0m\u001b[0m\n\u001b[0;32m---> 10\u001b[0;31m         \u001b[0m_backend_tk\u001b[0m\u001b[0;34m.\u001b[0m\u001b[0mblit\u001b[0m\u001b[0;34m(\u001b[0m\u001b[0mself\u001b[0m\u001b[0;34m.\u001b[0m\u001b[0m_tkphoto\u001b[0m\u001b[0;34m,\u001b[0m \u001b[0mself\u001b[0m\u001b[0;34m.\u001b[0m\u001b[0mrenderer\u001b[0m\u001b[0;34m.\u001b[0m\u001b[0m_renderer\u001b[0m\u001b[0;34m,\u001b[0m \u001b[0;34m(\u001b[0m\u001b[0;36m0\u001b[0m\u001b[0;34m,\u001b[0m \u001b[0;36m1\u001b[0m\u001b[0;34m,\u001b[0m \u001b[0;36m2\u001b[0m\u001b[0;34m,\u001b[0m \u001b[0;36m3\u001b[0m\u001b[0;34m)\u001b[0m\u001b[0;34m)\u001b[0m\u001b[0;34m\u001b[0m\u001b[0;34m\u001b[0m\u001b[0m\n\u001b[0m\u001b[1;32m     11\u001b[0m         \u001b[0mself\u001b[0m\u001b[0;34m.\u001b[0m\u001b[0m_master\u001b[0m\u001b[0;34m.\u001b[0m\u001b[0mupdate_idletasks\u001b[0m\u001b[0;34m(\u001b[0m\u001b[0;34m)\u001b[0m\u001b[0;34m\u001b[0m\u001b[0;34m\u001b[0m\u001b[0m\n\u001b[1;32m     12\u001b[0m \u001b[0;34m\u001b[0m\u001b[0m\n",
      "\u001b[0;32m~/Program_Files/miniconda/lib/python3.7/site-packages/matplotlib/backends/_backend_tk.py\u001b[0m in \u001b[0;36mblit\u001b[0;34m(photoimage, aggimage, offsets, bbox)\u001b[0m\n\u001b[1;32m     78\u001b[0m         \u001b[0mbboxptr\u001b[0m \u001b[0;34m=\u001b[0m \u001b[0;34m(\u001b[0m\u001b[0mx1\u001b[0m\u001b[0;34m,\u001b[0m \u001b[0mx2\u001b[0m\u001b[0;34m,\u001b[0m \u001b[0my1\u001b[0m\u001b[0;34m,\u001b[0m \u001b[0my2\u001b[0m\u001b[0;34m)\u001b[0m\u001b[0;34m\u001b[0m\u001b[0;34m\u001b[0m\u001b[0m\n\u001b[1;32m     79\u001b[0m     \u001b[0;32melse\u001b[0m\u001b[0;34m:\u001b[0m\u001b[0;34m\u001b[0m\u001b[0;34m\u001b[0m\u001b[0m\n\u001b[0;32m---> 80\u001b[0;31m         \u001b[0mphotoimage\u001b[0m\u001b[0;34m.\u001b[0m\u001b[0mblank\u001b[0m\u001b[0;34m(\u001b[0m\u001b[0;34m)\u001b[0m\u001b[0;34m\u001b[0m\u001b[0;34m\u001b[0m\u001b[0m\n\u001b[0m\u001b[1;32m     81\u001b[0m         \u001b[0mbboxptr\u001b[0m \u001b[0;34m=\u001b[0m \u001b[0;34m(\u001b[0m\u001b[0;36m0\u001b[0m\u001b[0;34m,\u001b[0m \u001b[0mwidth\u001b[0m\u001b[0;34m,\u001b[0m \u001b[0;36m0\u001b[0m\u001b[0;34m,\u001b[0m \u001b[0mheight\u001b[0m\u001b[0;34m)\u001b[0m\u001b[0;34m\u001b[0m\u001b[0;34m\u001b[0m\u001b[0m\n\u001b[1;32m     82\u001b[0m     _tkagg.blit(\n",
      "\u001b[0;32m~/Program_Files/miniconda/lib/python3.7/tkinter/__init__.py\u001b[0m in \u001b[0;36mblank\u001b[0;34m(self)\u001b[0m\n\u001b[1;32m   3546\u001b[0m     \u001b[0;32mdef\u001b[0m \u001b[0mblank\u001b[0m\u001b[0;34m(\u001b[0m\u001b[0mself\u001b[0m\u001b[0;34m)\u001b[0m\u001b[0;34m:\u001b[0m\u001b[0;34m\u001b[0m\u001b[0;34m\u001b[0m\u001b[0m\n\u001b[1;32m   3547\u001b[0m         \u001b[0;34m\"\"\"Display a transparent image.\"\"\"\u001b[0m\u001b[0;34m\u001b[0m\u001b[0;34m\u001b[0m\u001b[0m\n\u001b[0;32m-> 3548\u001b[0;31m         \u001b[0mself\u001b[0m\u001b[0;34m.\u001b[0m\u001b[0mtk\u001b[0m\u001b[0;34m.\u001b[0m\u001b[0mcall\u001b[0m\u001b[0;34m(\u001b[0m\u001b[0mself\u001b[0m\u001b[0;34m.\u001b[0m\u001b[0mname\u001b[0m\u001b[0;34m,\u001b[0m \u001b[0;34m'blank'\u001b[0m\u001b[0;34m)\u001b[0m\u001b[0;34m\u001b[0m\u001b[0;34m\u001b[0m\u001b[0m\n\u001b[0m\u001b[1;32m   3549\u001b[0m     \u001b[0;32mdef\u001b[0m \u001b[0mcget\u001b[0m\u001b[0;34m(\u001b[0m\u001b[0mself\u001b[0m\u001b[0;34m,\u001b[0m \u001b[0moption\u001b[0m\u001b[0;34m)\u001b[0m\u001b[0;34m:\u001b[0m\u001b[0;34m\u001b[0m\u001b[0;34m\u001b[0m\u001b[0m\n\u001b[1;32m   3550\u001b[0m         \u001b[0;34m\"\"\"Return the value of OPTION.\"\"\"\u001b[0m\u001b[0;34m\u001b[0m\u001b[0;34m\u001b[0m\u001b[0m\n",
      "\u001b[0;31mTclError\u001b[0m: invalid command name \"pyimage200\""
     ]
    }
   ],
   "source": [
    "%matplotlib tk\n",
    "fig = plt.figure()\n",
    "fig.show()\n",
    "\n",
    "for i in range(100000):\n",
    "    X_ = forward(X)\n",
    "    \n",
    "    optimizer.zero_grad()\n",
    "    loss = F.mse_loss(X_, X)\n",
    "    loss.backward()\n",
    "    optimizer.step()\n",
    "    \n",
    "    if i%100 == 0:\n",
    "        print('loss = ',loss)\n",
    "        fig.clear()\n",
    "        xx = forward(X)\n",
    "        plt.scatter(x,y)\n",
    "        plt.scatter(xx.data.numpy()[:,0],xx.data.numpy()[:,1] , lw=1, marker='*', c='r')\n",
    "        fig.canvas.draw()\n",
    "        plt.pause(0.01)"
   ]
  },
  {
   "cell_type": "code",
   "execution_count": 36,
   "metadata": {},
   "outputs": [
    {
     "data": {
      "text/plain": [
       "<matplotlib.collections.PathCollection at 0x7f3584074310>"
      ]
     },
     "execution_count": 36,
     "metadata": {},
     "output_type": "execute_result"
    },
    {
     "data": {
      "image/png": "[encoded data removed]",
      "text/plain": [
       "<Figure size 432x288 with 1 Axes>"
      ]
     },
     "metadata": {
      "needs_background": "light"
     },
     "output_type": "display_data"
    }
   ],
   "source": [
    "%matplotlib inline\n",
    "xx = forward(X)\n",
    "plt.scatter(x,y)\n",
    "plt.scatter(xx.data.numpy()[:,0],xx.data.numpy()[:,1] , lw=1, marker='*', c='r')"
   ]
  },
  {
   "cell_type": "code",
   "execution_count": null,
   "metadata": {},
   "outputs": [],
   "source": [
    "# plt.axis('equal')\n",
    "plt.scatter(x, y)\n",
    "for xxo, yyo, xxPred, yyPred in zip(x, y, xx.data.numpy()[:,0],xx.data.numpy()[:,1]):\n",
    "    plt.plot([xxo,xxPred], [yyo, yyPred])\n",
    "    \n",
    "plt.scatter(xx.data.numpy()[:,0],xx.data.numpy()[:,1] , lw=1, marker='*', c='r')\n",
    "plt.show()\n",
    "# print(b_) # the relu creates zero below some value, to accomodate error, the decoding bias achieves value as below:"
   ]
  },
  {
   "cell_type": "code",
   "execution_count": null,
   "metadata": {},
   "outputs": [],
   "source": [
    "print(bd2)"
   ]
  },
  {
   "cell_type": "code",
   "execution_count": null,
   "metadata": {},
   "outputs": [],
   "source": [
    "h = encode(X)\n",
    "plt.scatter(x,y)\n",
    "plt.scatter(x,h.data.numpy() , lw=1, marker='.')"
   ]
  },
  {
   "cell_type": "code",
   "execution_count": null,
   "metadata": {},
   "outputs": [],
   "source": []
  }
 ],
 "metadata": {
  "kernelspec": {
   "display_name": "Python 3",
   "language": "python",
   "name": "python3"
  },
  "language_info": {
   "codemirror_mode": {
    "name": "ipython",
    "version": 3
   },
   "file_extension": ".py",
   "mimetype": "text/x-python",
   "name": "python",
   "nbconvert_exporter": "python",
   "pygments_lexer": "ipython3",
   "version": "3.7.4"
  }
 },
 "nbformat": 4,
 "nbformat_minor": 2
}
