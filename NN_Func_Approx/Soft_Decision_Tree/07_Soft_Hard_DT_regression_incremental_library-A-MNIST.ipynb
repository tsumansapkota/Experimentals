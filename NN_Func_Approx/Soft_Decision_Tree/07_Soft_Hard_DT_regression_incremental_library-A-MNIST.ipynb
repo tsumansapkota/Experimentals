{
 "cells": [
  {
   "cell_type": "code",
   "execution_count": 1,
   "metadata": {},
   "outputs": [],
   "source": [
    "import numpy as np\n",
    "import matplotlib.pyplot as plt\n",
    "import mylibrary.nnlib as tnn\n",
    "import mylibrary.datasets as datasets\n",
    "\n",
    "import copy"
   ]
  },
  {
   "cell_type": "markdown",
   "metadata": {},
   "source": [
    "## Loading the dataset"
   ]
  },
  {
   "cell_type": "code",
   "execution_count": 2,
   "metadata": {},
   "outputs": [],
   "source": [
    "mnist = datasets.MNIST()\n",
    "train_data, train_label_, test_data, test_label_ = mnist.load()\n",
    "\n",
    "train_data = train_data / 255.\n",
    "test_data = test_data / 255."
   ]
  },
  {
   "cell_type": "code",
   "execution_count": 3,
   "metadata": {},
   "outputs": [
    {
     "data": {
      "text/plain": [
       "<matplotlib.image.AxesImage at 0x7f5c3a3c1d90>"
      ]
     },
     "execution_count": 3,
     "metadata": {},
     "output_type": "execute_result"
    },
    {
     "data": {
      "image/png": "[encoded data removed]",
      "text/plain": [
       "<Figure size 432x288 with 1 Axes>"
      ]
     },
     "metadata": {
      "needs_background": "light"
     },
     "output_type": "display_data"
    }
   ],
   "source": [
    "plt.imshow(train_data[0].reshape(28,28), cmap='gray')"
   ]
  },
  {
   "cell_type": "markdown",
   "metadata": {},
   "source": [
    "## Making Class for Soft But Hard Decision Tree - Dynamic Building/End2End"
   ]
  },
  {
   "cell_type": "code",
   "execution_count": 28,
   "metadata": {},
   "outputs": [],
   "source": [
    "class LeafNode(object):\n",
    "    \n",
    "    def __init__(self, parent, constant=None):\n",
    "        self.parent = parent\n",
    "        self.constant = tnn.BiasLayer(self.parent.output_dim,\n",
    "                                      bias=copy.deepcopy(constant),\n",
    "                                      optimizer=self.parent.optimizer)\n",
    "        self.error = None\n",
    "        self.mask = None\n",
    "        self.m = None\n",
    "        \n",
    "    def forward(self, inputs, mask):\n",
    "        self.mask = mask\n",
    "        self.m = np.count_nonzero(mask)\n",
    "        out = np.zeros(shape=(inputs.shape[0], self.parent.output_dim))\n",
    "        return self.constant.forward(out)*self.mask\n",
    "    \n",
    "    def backward(self, del_outputs):\n",
    "        del_out = del_outputs*self.mask\n",
    "        self.constant.backward(del_out)\n",
    "\n",
    "        if self.m==0:return del_outputs\n",
    "        \n",
    "        self.error = (del_out**2).sum()/self.m\n",
    "        return del_outputs\n",
    "    \n",
    "    def update(self):\n",
    "        self.constant.update()\n",
    "        \n",
    "    def get_maximum_error_node(self):\n",
    "        return self\n",
    "    \n",
    "    def print_tree(self, depth):\n",
    "        print(f\"{'|     '*depth}Leaf:({depth})\")\n",
    "        return\n",
    "    \n",
    "class DecisionNode(object):\n",
    "    \n",
    "    def __init__(self, input_dim, output_dim, optimizer):\n",
    "        self.input_dim = input_dim\n",
    "        self.output_dim = output_dim\n",
    "        self.optimizer = optimizer\n",
    "        \n",
    "        self.node0 = None\n",
    "        self.node1 = None\n",
    "        self.linear = tnn.LinearLayer(input_dim, output_dim, optimizer=optimizer)\n",
    "        self.linear.weights *= 0\n",
    "        self.sigmoid = tnn.Sigmoid()\n",
    "        \n",
    "        self.mask = None\n",
    "        self.out0 = None\n",
    "        self.out1 = None\n",
    "        \n",
    "    def forward(self, inputs, mask=None):\n",
    "        if mask is None:mask = np.ones(shape=(inputs.shape[0], 1))\n",
    "        \n",
    "        self.mask = mask\n",
    "        \n",
    "        lout = self.linear.forward(inputs)\n",
    "        self.sigmoid.forward(lout)\n",
    "        \n",
    "        mask = (lout>0).astype(lout.dtype)\n",
    "        self.out0 = self.node0.forward(inputs, self.mask*mask)\n",
    "        self.out1 = self.node1.forward(inputs, self.mask*(1-mask))\n",
    "        \n",
    "        return self.out0 + self.out1\n",
    "    \n",
    "    def backward(self, del_outputs):\n",
    "        \n",
    "        self.node0.backward(del_outputs)\n",
    "        self.node1.backward(del_outputs)\n",
    "        \n",
    "        del_out = del_outputs.mean(axis=1, keepdims=True)*self.mask\n",
    "        self.linear.backward(self.sigmoid.backward(del_out))\n",
    "        \n",
    "        return del_outputs\n",
    "    \n",
    "    def update(self):\n",
    "        self.linear.update()\n",
    "        self.node0.update()\n",
    "        self.node1.update()\n",
    "        \n",
    "    def create_child(self, depth):\n",
    "        if depth > 1:\n",
    "            self.node0 = DecisionNode(self.input_dim, self.output_dim, self.optimizer)\n",
    "            self.node1 = DecisionNode(self.input_dim, self.output_dim, self.optimizer)\n",
    "            self.node0.create_child(depth-1)\n",
    "            self.node1.create_child(depth-1)\n",
    "        else:\n",
    "            self.node0 = LeafNode(self)\n",
    "            self.node1 = LeafNode(self)\n",
    "            \n",
    "    def get_maximum_error_node(self):\n",
    "        n0 = self.node0.get_maximum_error_node()\n",
    "        n1 = self.node1.get_maximum_error_node()\n",
    "        if n0.error > n1.error:\n",
    "            return n0\n",
    "        else:\n",
    "            return n1\n",
    "        \n",
    "    def print_tree(self, depth=0):\n",
    "        print(f\"{'|     '*depth}DN:({depth})\")\n",
    "        self.node0.print_tree(depth+1)\n",
    "        self.node1.print_tree(depth+1)"
   ]
  },
  {
   "cell_type": "code",
   "execution_count": 29,
   "metadata": {},
   "outputs": [],
   "source": [
    "def convert_leaf_to_decision_node(node):\n",
    "    parent = node.parent\n",
    "    const = copy.deepcopy(node.constant.bias)\n",
    "\n",
    "    \n",
    "    dn = DecisionNode(parent.input_dim, parent.output_dim, parent.optimizer)\n",
    "    dn.node0 = LeafNode(dn, const)\n",
    "    dn.node1 = LeafNode(dn, const)\n",
    "    if parent.node0 is node:\n",
    "        del parent.node0\n",
    "        parent.node0 = dn\n",
    "    elif parent.node1 is node:\n",
    "        del parent.node1\n",
    "        parent.node1 = dn\n",
    "    else:\n",
    "        print(parent.node0, parent.node1, node)\n",
    "        print(\"Error occoured -- Problem in Algorithm\")\n",
    "    return\n",
    "\n",
    "def add_node_to_tree(tree):\n",
    "    try:\n",
    "        node = tree.get_maximum_error_node()\n",
    "        convert_leaf_to_decision_node(node)\n",
    "    except:\n",
    "        print(\"Error occoured while converting leaf node to decision Node\")\n",
    "    return"
   ]
  },
  {
   "cell_type": "code",
   "execution_count": 30,
   "metadata": {},
   "outputs": [],
   "source": [
    "input_size = 784\n",
    "output_size = 10\n",
    "\n",
    "learning_rate = 0.0001\n",
    "batch_size = 300 #64\n",
    "EPOCHS = 10\n",
    "\n",
    "train_label = tnn.Logits.index_to_logit(train_label_)\n",
    "train_size = len(train_label)"
   ]
  },
  {
   "cell_type": "code",
   "execution_count": 59,
   "metadata": {},
   "outputs": [],
   "source": [
    "optimizer = tnn.Adam(learning_rate)\n",
    "\n",
    "# np.random.seed(27)\n",
    "tree_depth = 1\n",
    "sdt = DecisionNode(input_size, output_size, optimizer)\n",
    "sdt.create_child(tree_depth)"
   ]
  },
  {
   "cell_type": "code",
   "execution_count": 74,
   "metadata": {
    "scrolled": true
   },
   "outputs": [
    {
     "name": "stdout",
     "output_type": "stream",
     "text": [
      "\n",
      "TRAIN 0 ->  8.005781761200524\n",
      "\n",
      "TRAIN 100 ->  8.005626878001488\n",
      "EPOCH =  0 accuracy =  11.236666666666666\n",
      "6742 / 60000\n",
      "   TEST   accuracy =  11.35\n",
      "1135 / 10000\n",
      "\n",
      "TRAIN 0 ->  8.005782233744098\n",
      "\n",
      "TRAIN 100 ->  8.005626648085226\n",
      "EPOCH =  1 accuracy =  11.236666666666666\n",
      "6742 / 60000\n",
      "   TEST   accuracy =  11.35\n",
      "1135 / 10000\n",
      "\n",
      "TRAIN 0 ->  8.005782629547271\n",
      "\n",
      "TRAIN 100 ->  8.005626455305698\n",
      "EPOCH =  2 accuracy =  11.236666666666666\n",
      "6742 / 60000\n",
      "   TEST   accuracy =  11.35\n",
      "1135 / 10000\n",
      "\n",
      "TRAIN 0 ->  8.00578295976659\n",
      "\n",
      "TRAIN 100 ->  8.005626294331268\n",
      "EPOCH =  3 accuracy =  11.236666666666666\n",
      "6742 / 60000\n",
      "   TEST   accuracy =  11.35\n",
      "1135 / 10000\n",
      "\n",
      "TRAIN 0 ->  8.005783234353693\n",
      "\n",
      "TRAIN 100 ->  8.005626160382032\n",
      "EPOCH =  4 accuracy =  11.236666666666666\n",
      "6742 / 60000\n",
      "   TEST   accuracy =  11.35\n",
      "1135 / 10000\n",
      "\n",
      "TRAIN 0 ->  8.005783462044237\n",
      "\n",
      "TRAIN 100 ->  8.005626049245842\n",
      "EPOCH =  5 accuracy =  11.236666666666666\n",
      "6742 / 60000\n",
      "   TEST   accuracy =  11.35\n",
      "1135 / 10000\n",
      "\n",
      "TRAIN 0 ->  8.005783650407706\n",
      "\n",
      "TRAIN 100 ->  8.005625957261874\n",
      "EPOCH =  6 accuracy =  11.236666666666666\n",
      "6742 / 60000\n",
      "   TEST   accuracy =  11.35\n",
      "1135 / 10000\n",
      "\n",
      "TRAIN 0 ->  8.005783805934417\n",
      "\n",
      "TRAIN 100 ->  8.005625881283825\n",
      "EPOCH =  7 accuracy =  11.236666666666666\n",
      "6742 / 60000\n",
      "   TEST   accuracy =  11.35\n",
      "1135 / 10000\n",
      "\n",
      "TRAIN 0 ->  8.005783934141906\n",
      "\n",
      "TRAIN 100 ->  8.005625818632009\n",
      "EPOCH =  8 accuracy =  11.236666666666666\n",
      "6742 / 60000\n",
      "   TEST   accuracy =  11.35\n",
      "1135 / 10000\n",
      "\n",
      "TRAIN 0 ->  8.005784039688058\n",
      "\n",
      "TRAIN 100 ->  8.005625767040907\n",
      "EPOCH =  9 accuracy =  11.236666666666666\n",
      "6742 / 60000\n",
      "   TEST   accuracy =  11.35\n",
      "1135 / 10000\n"
     ]
    }
   ],
   "source": [
    "accuracy_list = []\n",
    "\n",
    "for epoch in range(EPOCHS):    \n",
    "    for index in range(train_size // batch_size):\n",
    "        \n",
    "        train_x = train_data[index * batch_size:(index + 1) * batch_size]\n",
    "        train_y = train_label[index * batch_size:(index + 1) * batch_size]\n",
    "        \n",
    "        yout = sdt.forward(train_x)\n",
    "\n",
    "        dy = tnn.SoftmaxCrossEntropy.del_loss(yout, train_y)\n",
    "        loss = tnn.SoftmaxCrossEntropy.loss(yout, train_y)\n",
    "\n",
    "        dx = sdt.backward(dy)\n",
    "\n",
    "        sdt.update()\n",
    "\n",
    "        if index % 100 == 0:\n",
    "            print('\\nTRAIN',index, '-> ', loss)\n",
    "\n",
    "    yout = sdt.forward(train_data)\n",
    "    outputs = tnn.Logits.logit_to_index(yout)\n",
    "    correct = (outputs == np.array(train_label_)).sum()\n",
    "\n",
    "    accuracy = correct / len(train_label_) * 100.\n",
    "    print('EPOCH = ',epoch,'accuracy = ', accuracy)\n",
    "    print(correct, '/', len(train_label_))\n",
    "\n",
    "    yout = sdt.forward(test_data)\n",
    "    outputs = tnn.Logits.logit_to_index(yout)\n",
    "    correct = (outputs == np.array(test_label_)).sum()\n",
    "\n",
    "    accuracy_ = correct / len(test_label_) * 100.\n",
    "    print('   TEST  ','accuracy = ', accuracy_)\n",
    "    print(correct, '/', len(test_label_))  \n",
    "    \n",
    "    accuracy_list.append((accuracy, accuracy_))"
   ]
  },
  {
   "cell_type": "code",
   "execution_count": 75,
   "metadata": {},
   "outputs": [
    {
     "name": "stdout",
     "output_type": "stream",
     "text": [
      "Error occoured while converting leaf node to decision Node\n"
     ]
    }
   ],
   "source": [
    "add_node_to_tree(sdt)"
   ]
  },
  {
   "cell_type": "code",
   "execution_count": 76,
   "metadata": {},
   "outputs": [
    {
     "name": "stdout",
     "output_type": "stream",
     "text": [
      "DN:(0)\n",
      "|     Leaf:(1)\n",
      "|     DN:(1)\n",
      "|     |     Leaf:(2)\n",
      "|     |     Leaf:(2)\n"
     ]
    }
   ],
   "source": [
    "sdt.print_tree()"
   ]
  },
  {
   "cell_type": "code",
   "execution_count": 66,
   "metadata": {},
   "outputs": [
    {
     "data": {
      "text/plain": [
       "array([0.09639114, 0.1071764 , 0.09708046, 0.09919827, 0.09512402,\n",
       "       0.08920402, 0.09627536, 0.10118588, 0.09577935, 0.09655597])"
      ]
     },
     "execution_count": 66,
     "metadata": {},
     "output_type": "execute_result"
    }
   ],
   "source": [
    "yout.max(axis=0)"
   ]
  },
  {
   "cell_type": "code",
   "execution_count": 51,
   "metadata": {},
   "outputs": [
    {
     "data": {
      "text/plain": [
       "0.09003087601802529"
      ]
     },
     "execution_count": 51,
     "metadata": {},
     "output_type": "execute_result"
    }
   ],
   "source": [
    "sdt.node0.node0.node0.error"
   ]
  },
  {
   "cell_type": "code",
   "execution_count": 52,
   "metadata": {},
   "outputs": [
    {
     "data": {
      "text/plain": [
       "0.09999999999800001"
      ]
     },
     "execution_count": 52,
     "metadata": {},
     "output_type": "execute_result"
    }
   ],
   "source": [
    "sdt.node0.node0.node1.error"
   ]
  },
  {
   "cell_type": "code",
   "execution_count": 53,
   "metadata": {},
   "outputs": [],
   "source": [
    "sdt.node0.node1.node0.error"
   ]
  },
  {
   "cell_type": "code",
   "execution_count": 54,
   "metadata": {},
   "outputs": [
    {
     "data": {
      "text/plain": [
       "0.09999999999800001"
      ]
     },
     "execution_count": 54,
     "metadata": {},
     "output_type": "execute_result"
    }
   ],
   "source": [
    "sdt.node0.node1.node1.error"
   ]
  },
  {
   "cell_type": "code",
   "execution_count": 55,
   "metadata": {},
   "outputs": [],
   "source": [
    "sdt.node1.node0.node0.error"
   ]
  },
  {
   "cell_type": "code",
   "execution_count": 56,
   "metadata": {},
   "outputs": [],
   "source": [
    "sdt.node1.node0.node1.error"
   ]
  },
  {
   "cell_type": "code",
   "execution_count": 57,
   "metadata": {},
   "outputs": [],
   "source": [
    "sdt.node1.node1.node0.error"
   ]
  },
  {
   "cell_type": "code",
   "execution_count": 58,
   "metadata": {},
   "outputs": [
    {
     "data": {
      "text/plain": [
       "0.09999999999800001"
      ]
     },
     "execution_count": 58,
     "metadata": {},
     "output_type": "execute_result"
    }
   ],
   "source": [
    "sdt.node1.node1.node1.error"
   ]
  },
  {
   "cell_type": "code",
   "execution_count": null,
   "metadata": {},
   "outputs": [],
   "source": []
  }
 ],
 "metadata": {
  "kernelspec": {
   "display_name": "Python 3",
   "language": "python",
   "name": "python3"
  },
  "language_info": {
   "codemirror_mode": {
    "name": "ipython",
    "version": 3
   },
   "file_extension": ".py",
   "mimetype": "text/x-python",
   "name": "python",
   "nbconvert_exporter": "python",
   "pygments_lexer": "ipython3",
   "version": "3.8.5"
  }
 },
 "nbformat": 4,
 "nbformat_minor": 4
}
