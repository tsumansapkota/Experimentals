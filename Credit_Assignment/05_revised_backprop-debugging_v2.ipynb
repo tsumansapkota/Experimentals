{
 "cells": [
  {
   "cell_type": "code",
   "execution_count": 1,
   "metadata": {},
   "outputs": [],
   "source": [
    "import mylibrary.nnlib as nn"
   ]
  },
  {
   "cell_type": "code",
   "execution_count": 2,
   "metadata": {},
   "outputs": [],
   "source": [
    "import numpy as np\n",
    "import matplotlib.pyplot as plt\n",
    "%matplotlib inline"
   ]
  },
  {
   "cell_type": "markdown",
   "metadata": {},
   "source": [
    "## Least squares"
   ]
  },
  {
   "cell_type": "code",
   "execution_count": 188,
   "metadata": {},
   "outputs": [],
   "source": [
    "def regression(x,y):\n",
    "    n = len(x)\n",
    "    sy = np.sum(y)\n",
    "    sx = np.sum(x)\n",
    "    sx2 = np.sum(np.square(x))\n",
    "    sxy = np.sum(x*y)\n",
    "\n",
    "    # y = mx+c\n",
    "    z = (n*sx2 - sx**2)\n",
    "    m = (n*sxy - sx*sy)/z\n",
    "    c = (sy*sx2 - sx*sxy)/z\n",
    "    return m, c\n",
    "\n",
    "def output(x, m, c):\n",
    "    return m*x+c\n",
    "\n",
    "def error(target, output):\n",
    "    return np.sqrt(np.square(target-output).mean())"
   ]
  },
  {
   "cell_type": "code",
   "execution_count": 189,
   "metadata": {},
   "outputs": [],
   "source": [
    "# #Define a simple range of values for x and reshape so sklearn likes it.\n",
    "# x = np.linspace(0,1,200)\n",
    "# noise = np.random.normal(0,0.02, x.shape)\n",
    "# x = x + noise\n",
    "# y= 2.5*x + 0.5\n",
    "# noise = np.random.normal(0,0.1, x.shape)\n",
    "# y = y + noise\n",
    "# x = x - x.mean()"
   ]
  },
  {
   "cell_type": "code",
   "execution_count": 190,
   "metadata": {},
   "outputs": [],
   "source": [
    "#Define a simple range of values for x and reshape so sklearn likes it.\n",
    "x = np.linspace(0,1,200)\n",
    "noise = np.random.normal(0,0.02, x.shape)\n",
    "x = x + noise\n",
    "y= (2 * np.sin(10*x) + np.cos(20 * x - 3) + 3 * np.log(10*x + 0.5) - 4)/6.\n",
    "noise = np.random.normal(0,0.1, x.shape)\n",
    "y = y + noise\n",
    "x = x - x.mean()"
   ]
  },
  {
   "cell_type": "code",
   "execution_count": 191,
   "metadata": {},
   "outputs": [
    {
     "data": {
      "text/plain": [
       "0.0"
      ]
     },
     "execution_count": 191,
     "metadata": {},
     "output_type": "execute_result"
    }
   ],
   "source": [
    "x.mean()"
   ]
  },
  {
   "cell_type": "code",
   "execution_count": 192,
   "metadata": {},
   "outputs": [],
   "source": [
    "n = len(x)"
   ]
  },
  {
   "cell_type": "code",
   "execution_count": 193,
   "metadata": {},
   "outputs": [
    {
     "data": {
      "text/plain": [
       "<matplotlib.collections.PathCollection at 0x7fe3fc6fde48>"
      ]
     },
     "execution_count": 193,
     "metadata": {},
     "output_type": "execute_result"
    },
    {
     "data": {
      "image/png": "[encoded data removed]",
      "text/plain": [
       "<Figure size 432x288 with 1 Axes>"
      ]
     },
     "metadata": {},
     "output_type": "display_data"
    }
   ],
   "source": [
    "%matplotlib inline\n",
    "plt.scatter(x, y, marker='.', color='g')"
   ]
  },
  {
   "cell_type": "code",
   "execution_count": 219,
   "metadata": {},
   "outputs": [
    {
     "name": "stdout",
     "output_type": "stream",
     "text": [
      "1.1548221455909486 -1.3416235888820116\n"
     ]
    }
   ],
   "source": [
    "m_ = np.random.exponential()*2\n",
    "c_ = np.random.randn()\n",
    "print(m,c_)\n",
    "mt, mr = np.copy(m_), np.copy(m_)\n",
    "ct, cr = np.copy(c_), np.copy(c_)"
   ]
  },
  {
   "cell_type": "code",
   "execution_count": 220,
   "metadata": {},
   "outputs": [
    {
     "data": {
      "text/plain": [
       "(1.1548221455909486, 0.12451078487708254)"
      ]
     },
     "execution_count": 220,
     "metadata": {},
     "output_type": "execute_result"
    }
   ],
   "source": [
    "m, c = regression(x, y)\n",
    "ytarg = m*x+c\n",
    "learning_rate = 1 #0.3\n",
    "\n",
    "m, c"
   ]
  },
  {
   "cell_type": "code",
   "execution_count": 221,
   "metadata": {},
   "outputs": [],
   "source": [
    "# mt = np.copy(m) + 2\n",
    "# ct = 10"
   ]
  },
  {
   "cell_type": "code",
   "execution_count": 222,
   "metadata": {},
   "outputs": [],
   "source": [
    "import collections"
   ]
  },
  {
   "cell_type": "code",
   "execution_count": 223,
   "metadata": {},
   "outputs": [
    {
     "name": "stdout",
     "output_type": "stream",
     "text": [
      "_______________________\n",
      "epoch trad, rev 0\n",
      "m  c 1.1548221455909486 0.12451078487708254\n",
      "mt mr 0.3112717110949692 0.3112717110949692\n",
      "ct cr -1.3416235888820116 -1.3416235888820116\n",
      "Loss 2.298101659071177 2.298101659071177\n",
      "dm   -0.07136835674202516 -0.8435504344959798\n",
      "dc   -1.4661343737590942 -1.4661343737590942\n",
      "\n",
      "\n",
      "_______________________\n",
      "epoch trad, rev 10\n",
      "m  c 1.1548221455909486 0.12451078487708254\n",
      "mt mr 0.8063262289764772 1.1548221455909489\n",
      "ct cr 0.12451078487708256 0.12451078487708256\n",
      "Loss 0.09862404283814609 0.08834884881420665\n",
      "dm   -0.02948440292718408 2.3620445861622744e-16\n",
      "dc   0.0 -4.163336342344337e-18\n",
      "\n",
      "\n",
      "_______________________\n",
      "epoch trad, rev 20\n",
      "m  c 1.1548221455909486 0.12451078487708254\n",
      "mt mr 1.0108480582922723 1.1548221455909489\n",
      "ct cr 0.12451078487708256 0.12451078487708256\n",
      "Loss 0.09010258115896846 0.08834884881420665\n",
      "dm   -0.012180888781212979 2.3620445861622744e-16\n",
      "dc   -4.440892098500626e-18 -4.163336342344337e-18\n",
      "\n",
      "\n",
      "_______________________\n",
      "epoch trad, rev 30\n",
      "m  c 1.1548221455909486 0.12451078487708254\n",
      "mt mr 1.0953421436016624 1.1548221455909489\n",
      "ct cr 0.12451078487708257 0.12451078487708256\n",
      "Loss 0.08864816940415349 0.08834884881420665\n",
      "dm   -0.005032289508005675 2.3620445861622744e-16\n",
      "dc   2.220446049250313e-18 -4.163336342344337e-18\n",
      "\n",
      "\n",
      "_______________________\n",
      "epoch trad, rev 40\n",
      "m  c 1.1548221455909486 0.12451078487708254\n",
      "mt mr 1.130249177614384 1.1548221455909489\n",
      "ct cr 0.12451078487708257 0.12451078487708256\n",
      "Loss 0.08839993575220703 0.08834884881420665\n",
      "dm   -0.0020789893206678077 2.3620445861622744e-16\n",
      "dc   -5.551115123125783e-19 -4.163336342344337e-18\n",
      "\n",
      "\n",
      "_______________________\n",
      "epoch trad, rev 50\n",
      "m  c 1.1548221455909486 0.12451078487708254\n",
      "mt mr 1.144670317497768 1.1548221455909489\n",
      "ct cr 0.12451078487708257 0.12451078487708256\n",
      "Loss 0.0883575681449908 0.08834884881420665\n",
      "dm   -0.0008588926747109464 2.3620445861622744e-16\n",
      "dc   5.551115123125783e-19 -4.163336342344337e-18\n",
      "\n",
      "\n",
      "_______________________\n",
      "epoch trad, rev 60\n",
      "m  c 1.1548221455909486 0.12451078487708254\n",
      "mt mr 1.150628121746056 1.1548221455909489\n",
      "ct cr 0.12451078487708257 0.12451078487708256\n",
      "Loss 0.08835033699753295 0.08834884881420665\n",
      "dm   -0.0003548342549615241 2.3620445861622744e-16\n",
      "dc   5.551115123125783e-19 -4.163336342344337e-18\n",
      "\n",
      "\n",
      "_______________________\n",
      "epoch trad, rev 70\n",
      "m  c 1.1548221455909486 0.12451078487708254\n",
      "mt mr 1.1530894688897602 1.1548221455909489\n",
      "ct cr 0.12451078487708257 0.12451078487708256\n",
      "Loss 0.08834910281186627 0.08834884881420665\n",
      "dm   -0.00014659264446102534 2.3620445861622744e-16\n",
      "dc   -3.608224830031759e-18 -4.163336342344337e-18\n",
      "\n",
      "\n",
      "_______________________\n",
      "epoch trad, rev 80\n",
      "m  c 1.1548221455909486 0.12451078487708254\n",
      "mt mr 1.1541063250181836 1.1548221455909489\n",
      "ct cr 0.12451078487708257 0.12451078487708256\n",
      "Loss 0.08834889216559351 0.08834884881420665\n",
      "dm   -6.056180627884183e-05 2.3620445861622744e-16\n",
      "dc   -3.0531133177191805e-18 -4.163336342344337e-18\n",
      "\n",
      "\n",
      "_______________________\n",
      "epoch trad, rev 90\n",
      "m  c 1.1548221455909486 0.12451078487708254\n",
      "mt mr 1.154526418700847 1.1548221455909489\n",
      "ct cr 0.12451078487708257 0.12451078487708256\n",
      "Loss 0.08834885621326201 0.08834884881420665\n",
      "dm   -2.5019893687316247e-05 2.3620445861622744e-16\n",
      "dc   8.326672684688674e-19 -4.163336342344337e-18\n",
      "\n",
      "\n",
      "_______________________\n",
      "epoch trad, rev 100\n",
      "m  c 1.1548221455909486 0.12451078487708254\n",
      "mt mr 1.1546999719669198 1.1548221455909489\n",
      "ct cr 0.12451078487708257 0.12451078487708256\n",
      "Loss 0.08834885007705022 0.08834884881420665\n",
      "dm   -1.0336466472652545e-05 2.3620445861622744e-16\n",
      "dc   2.498001805406602e-18 -4.163336342344337e-18\n",
      "\n",
      "\n",
      "_______________________\n",
      "epoch trad, rev 110\n",
      "m  c 1.1548221455909486 0.12451078487708254\n",
      "mt mr 1.1547716720124277 1.1548221455909489\n",
      "ct cr 0.12451078487708257 0.12451078487708256\n",
      "Loss 0.08834884902974416 0.08834884881420665\n",
      "dm   -4.2703034823082795e-06 2.3620445861622744e-16\n",
      "dc   3.608224830031759e-18 -4.163336342344337e-18\n",
      "\n",
      "\n",
      "_______________________\n",
      "epoch trad, rev 120\n",
      "m  c 1.1548221455909486 0.12451078487708254\n",
      "mt mr 1.1548012934459053 1.1548221455909489\n",
      "ct cr 0.12451078487708257 0.12451078487708256\n",
      "Loss 0.0883488488509938 0.08834884881420665\n",
      "dm   -1.7641901010645445e-06 2.3620445861622744e-16\n",
      "dc   1.3877787807814458e-18 -4.163336342344337e-18\n",
      "\n",
      "\n",
      "_______________________\n",
      "epoch trad, rev 130\n",
      "m  c 1.1548221455909486 0.12451078487708254\n",
      "mt mr 1.1548135309461058 1.1548221455909489\n",
      "ct cr 0.12451078487708257 0.12451078487708256\n",
      "Loss 0.08834884882048534 0.08834884881420665\n",
      "dm   -7.288397008685388e-07 2.3620445861622744e-16\n",
      "dc   2.7755575615628914e-19 -4.163336342344337e-18\n",
      "\n",
      "\n",
      "_______________________\n",
      "epoch trad, rev 140\n",
      "m  c 1.1548221455909486 0.12451078487708254\n",
      "mt mr 1.1548185866234844 1.1548221455909489\n",
      "ct cr 0.12451078487708256 0.12451078487708256\n",
      "Loss 0.08834884881527827 0.08834884881420665\n",
      "dm   -3.0110548135425797e-07 2.3620445861622744e-16\n",
      "dc   -8.604228440844963e-18 -4.163336342344337e-18\n",
      "\n",
      "\n",
      "_______________________\n",
      "epoch trad, rev 150\n",
      "m  c 1.1548221455909486 0.12451078487708254\n",
      "mt mr 1.154820675275034 1.1548221455909489\n",
      "ct cr 0.12451078487708257 0.12451078487708256\n",
      "Loss 0.08834884881438955 0.08834884881420665\n",
      "dm   -1.2439568094685382e-07 2.3620445861622744e-16\n",
      "dc   -6.38378239159465e-18 -4.163336342344337e-18\n",
      "\n",
      "\n",
      "_______________________\n",
      "epoch trad, rev 160\n",
      "m  c 1.1548221455909486 0.12451078487708254\n",
      "mt mr 1.1548215381594642 1.1548221455909489\n",
      "ct cr 0.12451078487708257 0.12451078487708256\n",
      "Loss 0.08834884881423787 0.08834884881420665\n",
      "dm   -5.1391576726816934e-08 2.3620445861622744e-16\n",
      "dc   -2.7755575615628914e-19 -4.163336342344337e-18\n",
      "\n",
      "\n",
      "_______________________\n",
      "epoch trad, rev 170\n",
      "m  c 1.1548221455909486 0.12451078487708254\n",
      "mt mr 1.1548218946428332 1.1548221455909489\n",
      "ct cr 0.12451078487708257 0.12451078487708256\n",
      "Loss 0.08834884881421198 0.08834884881420665\n",
      "dm   -2.123139754353631e-08 2.3620445861622744e-16\n",
      "dc   3.608224830031759e-18 -4.163336342344337e-18\n",
      "\n",
      "\n",
      "_______________________\n",
      "epoch trad, rev 180\n",
      "m  c 1.1548221455909486 0.12451078487708254\n",
      "mt mr 1.154822041916776 1.1548221455909489\n",
      "ct cr 0.12451078487708257 0.12451078487708256\n",
      "Loss 0.08834884881420756 0.08834884881420665\n",
      "dm   -8.771325376577543e-09 2.3620445861622744e-16\n",
      "dc   1.3877787807814458e-18 -4.163336342344337e-18\n",
      "\n",
      "\n",
      "_______________________\n",
      "epoch trad, rev 190\n",
      "m  c 1.1548221455909486 0.12451078487708254\n",
      "mt mr 1.1548221027600467 1.1548221455909489\n",
      "ct cr 0.12451078487708257 0.12451078487708256\n",
      "Loss 0.0883488488142068 0.08834884881420665\n",
      "dm   -3.623696892413042e-09 2.3620445861622744e-16\n",
      "dc   -2.498001805406602e-18 -4.163336342344337e-18\n"
     ]
    },
    {
     "ename": "TclError",
     "evalue": "can't invoke \"update\" command: application has been destroyed",
     "output_type": "error",
     "traceback": [
      "\u001b[0;31m---------------------------------------------------------------------------\u001b[0m",
      "\u001b[0;31mTclError\u001b[0m                                  Traceback (most recent call last)",
      "\u001b[0;32m<ipython-input-223-5eea55a2ec37>\u001b[0m in \u001b[0;36m<module>\u001b[0;34m()\u001b[0m\n\u001b[1;32m     72\u001b[0m         \u001b[0mplt\u001b[0m\u001b[0;34m.\u001b[0m\u001b[0mlegend\u001b[0m\u001b[0;34m(\u001b[0m\u001b[0;34m)\u001b[0m\u001b[0;34m\u001b[0m\u001b[0;34m\u001b[0m\u001b[0m\n\u001b[1;32m     73\u001b[0m         \u001b[0mfig\u001b[0m\u001b[0;34m.\u001b[0m\u001b[0mcanvas\u001b[0m\u001b[0;34m.\u001b[0m\u001b[0mdraw\u001b[0m\u001b[0;34m(\u001b[0m\u001b[0;34m)\u001b[0m\u001b[0;34m\u001b[0m\u001b[0;34m\u001b[0m\u001b[0m\n\u001b[0;32m---> 74\u001b[0;31m         \u001b[0mplt\u001b[0m\u001b[0;34m.\u001b[0m\u001b[0mpause\u001b[0m\u001b[0;34m(\u001b[0m\u001b[0;36m1\u001b[0m\u001b[0;34m)\u001b[0m\u001b[0;34m\u001b[0m\u001b[0;34m\u001b[0m\u001b[0m\n\u001b[0m\u001b[1;32m     75\u001b[0m         \u001b[0mprint\u001b[0m\u001b[0;34m(\u001b[0m\u001b[0;34m\"\\n\"\u001b[0m\u001b[0;34m)\u001b[0m\u001b[0;34m\u001b[0m\u001b[0;34m\u001b[0m\u001b[0m\n\u001b[1;32m     76\u001b[0m \u001b[0;34m\u001b[0m\u001b[0m\n",
      "\u001b[0;32m~/.local/lib/python3.6/site-packages/matplotlib/pyplot.py\u001b[0m in \u001b[0;36mpause\u001b[0;34m(interval)\u001b[0m\n\u001b[1;32m    294\u001b[0m             \u001b[0mcanvas\u001b[0m\u001b[0;34m.\u001b[0m\u001b[0mdraw_idle\u001b[0m\u001b[0;34m(\u001b[0m\u001b[0;34m)\u001b[0m\u001b[0;34m\u001b[0m\u001b[0;34m\u001b[0m\u001b[0m\n\u001b[1;32m    295\u001b[0m         \u001b[0mshow\u001b[0m\u001b[0;34m(\u001b[0m\u001b[0mblock\u001b[0m\u001b[0;34m=\u001b[0m\u001b[0;32mFalse\u001b[0m\u001b[0;34m)\u001b[0m\u001b[0;34m\u001b[0m\u001b[0;34m\u001b[0m\u001b[0m\n\u001b[0;32m--> 296\u001b[0;31m         \u001b[0mcanvas\u001b[0m\u001b[0;34m.\u001b[0m\u001b[0mstart_event_loop\u001b[0m\u001b[0;34m(\u001b[0m\u001b[0minterval\u001b[0m\u001b[0;34m)\u001b[0m\u001b[0;34m\u001b[0m\u001b[0;34m\u001b[0m\u001b[0m\n\u001b[0m\u001b[1;32m    297\u001b[0m     \u001b[0;32melse\u001b[0m\u001b[0;34m:\u001b[0m\u001b[0;34m\u001b[0m\u001b[0;34m\u001b[0m\u001b[0m\n\u001b[1;32m    298\u001b[0m         \u001b[0mtime\u001b[0m\u001b[0;34m.\u001b[0m\u001b[0msleep\u001b[0m\u001b[0;34m(\u001b[0m\u001b[0minterval\u001b[0m\u001b[0;34m)\u001b[0m\u001b[0;34m\u001b[0m\u001b[0;34m\u001b[0m\u001b[0m\n",
      "\u001b[0;32m~/.local/lib/python3.6/site-packages/matplotlib/backend_bases.py\u001b[0m in \u001b[0;36mstart_event_loop\u001b[0;34m(self, timeout)\u001b[0m\n\u001b[1;32m   2458\u001b[0m         \u001b[0mself\u001b[0m\u001b[0;34m.\u001b[0m\u001b[0m_looping\u001b[0m \u001b[0;34m=\u001b[0m \u001b[0;32mTrue\u001b[0m\u001b[0;34m\u001b[0m\u001b[0;34m\u001b[0m\u001b[0m\n\u001b[1;32m   2459\u001b[0m         \u001b[0;32mwhile\u001b[0m \u001b[0mself\u001b[0m\u001b[0;34m.\u001b[0m\u001b[0m_looping\u001b[0m \u001b[0;32mand\u001b[0m \u001b[0mcounter\u001b[0m \u001b[0;34m*\u001b[0m \u001b[0mtimestep\u001b[0m \u001b[0;34m<\u001b[0m \u001b[0mtimeout\u001b[0m\u001b[0;34m:\u001b[0m\u001b[0;34m\u001b[0m\u001b[0;34m\u001b[0m\u001b[0m\n\u001b[0;32m-> 2460\u001b[0;31m             \u001b[0mself\u001b[0m\u001b[0;34m.\u001b[0m\u001b[0mflush_events\u001b[0m\u001b[0;34m(\u001b[0m\u001b[0;34m)\u001b[0m\u001b[0;34m\u001b[0m\u001b[0;34m\u001b[0m\u001b[0m\n\u001b[0m\u001b[1;32m   2461\u001b[0m             \u001b[0mtime\u001b[0m\u001b[0;34m.\u001b[0m\u001b[0msleep\u001b[0m\u001b[0;34m(\u001b[0m\u001b[0mtimestep\u001b[0m\u001b[0;34m)\u001b[0m\u001b[0;34m\u001b[0m\u001b[0;34m\u001b[0m\u001b[0m\n\u001b[1;32m   2462\u001b[0m             \u001b[0mcounter\u001b[0m \u001b[0;34m+=\u001b[0m \u001b[0;36m1\u001b[0m\u001b[0;34m\u001b[0m\u001b[0;34m\u001b[0m\u001b[0m\n",
      "\u001b[0;32m~/.local/lib/python3.6/site-packages/matplotlib/backends/_backend_tk.py\u001b[0m in \u001b[0;36mflush_events\u001b[0;34m(self)\u001b[0m\n\u001b[1;32m    450\u001b[0m \u001b[0;34m\u001b[0m\u001b[0m\n\u001b[1;32m    451\u001b[0m     \u001b[0;32mdef\u001b[0m \u001b[0mflush_events\u001b[0m\u001b[0;34m(\u001b[0m\u001b[0mself\u001b[0m\u001b[0;34m)\u001b[0m\u001b[0;34m:\u001b[0m\u001b[0;34m\u001b[0m\u001b[0;34m\u001b[0m\u001b[0m\n\u001b[0;32m--> 452\u001b[0;31m         \u001b[0mself\u001b[0m\u001b[0;34m.\u001b[0m\u001b[0m_master\u001b[0m\u001b[0;34m.\u001b[0m\u001b[0mupdate\u001b[0m\u001b[0;34m(\u001b[0m\u001b[0;34m)\u001b[0m\u001b[0;34m\u001b[0m\u001b[0;34m\u001b[0m\u001b[0m\n\u001b[0m\u001b[1;32m    453\u001b[0m \u001b[0;34m\u001b[0m\u001b[0m\n\u001b[1;32m    454\u001b[0m \u001b[0;34m\u001b[0m\u001b[0m\n",
      "\u001b[0;32m~/Program_Files/miniconda3/lib/python3.6/tkinter/__init__.py\u001b[0m in \u001b[0;36mupdate\u001b[0;34m(self)\u001b[0m\n\u001b[1;32m   1175\u001b[0m     \u001b[0;32mdef\u001b[0m \u001b[0mupdate\u001b[0m\u001b[0;34m(\u001b[0m\u001b[0mself\u001b[0m\u001b[0;34m)\u001b[0m\u001b[0;34m:\u001b[0m\u001b[0;34m\u001b[0m\u001b[0;34m\u001b[0m\u001b[0m\n\u001b[1;32m   1176\u001b[0m         \u001b[0;34m\"\"\"Enter event loop until all pending events have been processed by Tcl.\"\"\"\u001b[0m\u001b[0;34m\u001b[0m\u001b[0;34m\u001b[0m\u001b[0m\n\u001b[0;32m-> 1177\u001b[0;31m         \u001b[0mself\u001b[0m\u001b[0;34m.\u001b[0m\u001b[0mtk\u001b[0m\u001b[0;34m.\u001b[0m\u001b[0mcall\u001b[0m\u001b[0;34m(\u001b[0m\u001b[0;34m'update'\u001b[0m\u001b[0;34m)\u001b[0m\u001b[0;34m\u001b[0m\u001b[0;34m\u001b[0m\u001b[0m\n\u001b[0m\u001b[1;32m   1178\u001b[0m     \u001b[0;32mdef\u001b[0m \u001b[0mupdate_idletasks\u001b[0m\u001b[0;34m(\u001b[0m\u001b[0mself\u001b[0m\u001b[0;34m)\u001b[0m\u001b[0;34m:\u001b[0m\u001b[0;34m\u001b[0m\u001b[0;34m\u001b[0m\u001b[0m\n\u001b[1;32m   1179\u001b[0m         \"\"\"Enter event loop until all idle callbacks have been called. This\n",
      "\u001b[0;31mTclError\u001b[0m: can't invoke \"update\" command: application has been destroyed"
     ]
    }
   ],
   "source": [
    "%matplotlib tk\n",
    "fig = plt.figure(figsize=(12, 5))\n",
    "ax = fig.add_subplot(1, 2, 1)\n",
    "ax1 = fig.add_subplot(1,2,2)\n",
    "\n",
    "plt.ion()\n",
    "fig.show()\n",
    "fig.canvas.draw()\n",
    "\n",
    "range_ = 500\n",
    "losscurv = collections.deque(maxlen=range_)\n",
    "dmcurv = collections.deque(maxlen=range_)\n",
    "dccurv = collections.deque(maxlen=range_)\n",
    "ccurv = collections.deque(maxlen=range_)\n",
    "mcurv = collections.deque(maxlen=range_)\n",
    "\n",
    "# x_ = x - x.mean()\n",
    "\n",
    "for step in range(1000000):\n",
    "    # traditional first\n",
    "    yt = mt*x + ct\n",
    "    dyt = yt - y\n",
    "    dct = dyt.mean()\n",
    "    dmt = x.T.dot(dyt)/n\n",
    "    dxt = dyt*mt\n",
    "    \n",
    "    yr = mr*x + cr\n",
    "#     yr = mr*x_ + cr\n",
    "#     yr = mr*x + ct\n",
    "    dyr = yr - y\n",
    "    dcr = dyr.mean()\n",
    "#     dmr = (1/x).T.dot(dyr)/n\n",
    "    dmr = x.T.dot(dyr - dcr)/(x**2).sum()\n",
    "    dxr = dyr/mr\n",
    "    \n",
    "    \n",
    "    losscurv.append((dyr**2).mean())\n",
    "    dmcurv.append(dmr)\n",
    "    dccurv.append(dcr)\n",
    "    mcurv.append(mr)\n",
    "    ccurv.append(cr)\n",
    "    \n",
    "    if step%10==0:\n",
    "        print('_______________________')\n",
    "        print(\"epoch trad, rev\", step)\n",
    "        print(\"m  c\", m, c)\n",
    "        print(\"mt mr\", mt, mr)\n",
    "        print(\"ct cr\", ct, cr)\n",
    "        print(\"Loss\", (dyt**2).mean(), (dyr**2).mean())\n",
    "        print(\"dm  \", dmt, dmr)\n",
    "        print(\"dc  \", dct, dcr)\n",
    "\n",
    "        ax.clear()\n",
    "        ax1.clear()\n",
    "        ax.scatter(x, y, marker='.', c='g', label='x,y')\n",
    "        ax.scatter(x, ytarg, marker='*', c='r', lw=1, label='x,ytarg')\n",
    "        ax.scatter(x, yt, marker='.', c='m', lw=1, label='x,yt')\n",
    "        ax.scatter(x, dxt, marker='.', c='lime', lw=1, label='x,dxr')\n",
    "        \n",
    "        ax.scatter(x, yr, marker='.', c='purple', lw=1, label='x,yr')\n",
    "        ax.scatter(x, dxr, marker='.', c='c', lw=1, label='x,dxr')\n",
    "        plt.plot(x, np.zeros_like(x), c='b', lw=1)\n",
    "        ax1.plot(losscurv, label='error')\n",
    "        ax1.plot(dmcurv, label='dm', color='r')\n",
    "        ax1.plot(dccurv, label='dc', color='orange')\n",
    "        ax1.plot(mcurv, label='m', color='m', marker='_')\n",
    "        ax1.plot(ccurv, label='c', color='y', marker='_')\n",
    "        \n",
    "        \n",
    "        \n",
    "        \n",
    "        plt.legend()\n",
    "        fig.canvas.draw()\n",
    "        plt.pause(1)\n",
    "        print(\"\\n\")\n",
    "\n",
    "\n",
    "    mt = mt - learning_rate*dmt\n",
    "    ct = ct - learning_rate*dct\n",
    "    if step == 0: # this can also be done in 2 steps, dc-1, dm-2\n",
    "        cr = cr - learning_rate*dcr\n",
    "        mr = mr - learning_rate*dmr\n",
    "    \n",
    "#     mr = mr - learning_rate*dmr\n",
    "#     cr = cr - learning_rate*dcr\n",
    "###     the revised version does not seem to require learning rate\n",
    "#     mr = mr - dmr\n",
    "#     cr = cr - dcr\n",
    "    \n",
    "\n",
    "    if (dyt**2).mean() < 0.0025:\n",
    "        print('fitted to our expectation')\n",
    "        plt.pause(10)\n",
    "        break"
   ]
  },
  {
   "cell_type": "code",
   "execution_count": 224,
   "metadata": {},
   "outputs": [
    {
     "data": {
      "text/plain": [
       "<matplotlib.legend.Legend at 0x7fe3fb6613c8>"
      ]
     },
     "execution_count": 224,
     "metadata": {},
     "output_type": "execute_result"
    },
    {
     "data": {
      "image/png": "[encoded data removed]",
      "text/plain": [
       "<Figure size 432x288 with 1 Axes>"
      ]
     },
     "metadata": {},
     "output_type": "display_data"
    }
   ],
   "source": [
    "%matplotlib inline\n",
    "plt.scatter(x, y, marker='.', c='g', label='x,y')\n",
    "plt.scatter(x, ytarg, marker='*', c='r', lw=1, label='x,ytarg')\n",
    "plt.scatter(x, yt, marker='.', c='m', lw=1, label='x,yt')\n",
    "plt.scatter(x, yr, marker='.', c='purple', lw=1, label='x,yr')\n",
    "plt.legend()"
   ]
  },
  {
   "cell_type": "code",
   "execution_count": 225,
   "metadata": {},
   "outputs": [
    {
     "data": {
      "text/plain": [
       "-4.440892098500626e-18"
      ]
     },
     "execution_count": 225,
     "metadata": {},
     "output_type": "execute_result"
    }
   ],
   "source": [
    "dxr = (1/mr)*(dyr)\n",
    "dxr.mean()"
   ]
  },
  {
   "cell_type": "code",
   "execution_count": 226,
   "metadata": {},
   "outputs": [
    {
     "name": "stdout",
     "output_type": "stream",
     "text": [
      "-3.623696892413042e-09 2.3620445861622744e-16\n",
      "-2.498001805406602e-18 -4.163336342344337e-18\n"
     ]
    }
   ],
   "source": [
    "print(dmt, dmr)\n",
    "print(dct, dcr)"
   ]
  },
  {
   "cell_type": "code",
   "execution_count": 77,
   "metadata": {},
   "outputs": [],
   "source": [
    "## Observations\n",
    "## if x is zero centered, the gradient will always remain zero if slope is right.\n",
    "## if only b is updated at first and w second, we will optimize the regression in 2 steps"
   ]
  },
  {
   "cell_type": "code",
   "execution_count": 229,
   "metadata": {},
   "outputs": [
    {
     "data": {
      "text/plain": [
       "[<matplotlib.lines.Line2D at 0x7fe3fc67f7f0>]"
      ]
     },
     "execution_count": 229,
     "metadata": {},
     "output_type": "execute_result"
    },
    {
     "data": {
      "image/png": "[encoded data removed]",
      "text/plain": [
       "<Figure size 432x288 with 1 Axes>"
      ]
     },
     "metadata": {},
     "output_type": "display_data"
    }
   ],
   "source": [
    "# checking dx\n",
    "\n",
    "yt = mt*(x - dxt) + ct\n",
    "dyt = yt - y\n",
    "dct = dyt.mean()\n",
    "\n",
    "yr = mr*(x - dxr) + cr\n",
    "dyr = yr - y\n",
    "dcr = dyr.mean()\n",
    "\n",
    "plt.scatter(x, y, marker='.', c='g', label='x,y')\n",
    "plt.scatter(x, ytarg, marker='*', c='r', lw=1, label='x,ytarg')\n",
    "\n",
    "plt.scatter(x, yt, marker='.', c='m', lw=1, label='x,yt')\n",
    "plt.scatter(x, dxt, marker='.', c='lime', lw=1, label='x,dxr')\n",
    "\n",
    "plt.scatter(x, yr, marker='.', c='purple', lw=1, label='x,yr')\n",
    "plt.scatter(x, dxr, marker='.', c='c', lw=1, label='x,dxr')\n",
    "plt.plot(x, np.zeros_like(x), c='b', lw=1)"
   ]
  },
  {
   "cell_type": "code",
   "execution_count": null,
   "metadata": {},
   "outputs": [],
   "source": []
  }
 ],
 "metadata": {
  "kernelspec": {
   "display_name": "Python 3",
   "language": "python",
   "name": "python3"
  },
  "language_info": {
   "codemirror_mode": {
    "name": "ipython",
    "version": 3
   },
   "file_extension": ".py",
   "mimetype": "text/x-python",
   "name": "python",
   "nbconvert_exporter": "python",
   "pygments_lexer": "ipython3",
   "version": "3.6.7"
  }
 },
 "nbformat": 4,
 "nbformat_minor": 2
}
