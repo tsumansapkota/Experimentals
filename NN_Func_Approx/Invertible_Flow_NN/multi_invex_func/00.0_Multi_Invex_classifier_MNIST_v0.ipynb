{
 "cells": [
  {
   "cell_type": "code",
   "execution_count": 1,
   "metadata": {},
   "outputs": [],
   "source": [
    "import numpy as np\n",
    "import matplotlib.pyplot as plt\n",
    "%matplotlib inline\n",
    "from mpl_toolkits.mplot3d import Axes3D\n",
    "\n",
    "import torch\n",
    "import torch.nn as nn\n",
    "import torch.optim as optim\n",
    "from torch.utils import data\n",
    "\n",
    "import random, os, pathlib, time\n",
    "from tqdm import tqdm\n",
    "from sklearn import datasets"
   ]
  },
  {
   "cell_type": "code",
   "execution_count": 2,
   "metadata": {},
   "outputs": [],
   "source": [
    "import nflib\n",
    "from nflib.flows import SequentialFlow, NormalizingFlow, ActNorm, AffineConstantFlow\n",
    "import nflib.coupling_flows as icf\n",
    "import nflib.inn_flow as inn\n",
    "import nflib.res_flow as irf"
   ]
  },
  {
   "cell_type": "code",
   "execution_count": 3,
   "metadata": {},
   "outputs": [],
   "source": [
    "from torch import distributions\n",
    "from torch.distributions import MultivariateNormal"
   ]
  },
  {
   "cell_type": "code",
   "execution_count": 4,
   "metadata": {},
   "outputs": [],
   "source": [
    "device = torch.device(\"cuda:0\")\n",
    "# device = torch.device(\"cpu\")"
   ]
  },
  {
   "cell_type": "markdown",
   "metadata": {},
   "source": [
    "## MNIST dataset"
   ]
  },
  {
   "cell_type": "code",
   "execution_count": 5,
   "metadata": {},
   "outputs": [],
   "source": [
    "import mylibrary.datasets as datasets\n",
    "# import mylibrary.nnlib as tnn"
   ]
  },
  {
   "cell_type": "code",
   "execution_count": 6,
   "metadata": {},
   "outputs": [],
   "source": [
    "mnist = datasets.FashionMNIST()\n",
    "# mnist.download_mnist()\n",
    "# mnist.save_mnist()\n",
    "train_data, train_label_, test_data, test_label_ = mnist.load()\n",
    "\n",
    "train_data = train_data / 255.\n",
    "test_data = test_data / 255.\n",
    "\n",
    "# train_label = tnn.Logits.index_to_logit(train_label_)\n",
    "train_size = len(train_label_)"
   ]
  },
  {
   "cell_type": "code",
   "execution_count": 7,
   "metadata": {},
   "outputs": [],
   "source": [
    "## converting data to pytorch format\n",
    "train_data = torch.Tensor(train_data)\n",
    "test_data = torch.Tensor(test_data)\n",
    "train_label = torch.LongTensor(train_label_)\n",
    "test_label = torch.LongTensor(test_label_)"
   ]
  },
  {
   "cell_type": "code",
   "execution_count": 8,
   "metadata": {},
   "outputs": [],
   "source": [
    "input_size = 784\n",
    "output_size = 10"
   ]
  },
  {
   "cell_type": "code",
   "execution_count": 9,
   "metadata": {},
   "outputs": [],
   "source": [
    "class MNIST_Dataset(data.Dataset):\n",
    "    \n",
    "    def __init__(self, data, label):\n",
    "        self.data = data\n",
    "        self.label = label\n",
    "        \n",
    "#         self.label = mask.type(torch.float32).reshape(-1,1)\n",
    "        self._shuffle_data_()\n",
    "        \n",
    "    def __len__(self):\n",
    "        return len(self.data)\n",
    "    \n",
    "    def _shuffle_data_(self):\n",
    "        randidx = random.sample(range(len(self.data)), k=len(self.data))\n",
    "        self.data = self.data[randidx]\n",
    "        self.label = self.label[randidx]\n",
    "    \n",
    "    def __getitem__(self, idx):\n",
    "        img, lbl = self.data[idx], self.label[idx]\n",
    "        return img, lbl"
   ]
  },
  {
   "cell_type": "code",
   "execution_count": 10,
   "metadata": {},
   "outputs": [],
   "source": [
    "train_dataset = MNIST_Dataset(train_data, train_label)\n",
    "test_dataset = MNIST_Dataset(test_data, test_label)"
   ]
  },
  {
   "cell_type": "code",
   "execution_count": 80,
   "metadata": {},
   "outputs": [],
   "source": [
    "class ConnectedClassifier_Softmax(nn.Module):\n",
    "    \n",
    "    def __init__(self,input_dim, num_sets, output_dim, inv_temp=1):\n",
    "        super().__init__()\n",
    "        self.input_dim = input_dim\n",
    "        self.output_dim = output_dim\n",
    "        self.num_sets = num_sets\n",
    "        self.inv_temp = nn.Parameter(torch.ones(1)*inv_temp)\n",
    "        \n",
    "        self.linear = nn.Linear(input_dim, num_sets)\n",
    "#         self.linear.bias.data *= 0\n",
    "#         self.linear.weight.data *= 0.1\n",
    "#         self.cls_weight = nn.Parameter(torch.randn(num_sets, output_dim)/output_dim)\n",
    "\n",
    "        init_val = torch.randn(num_sets, output_dim)*0.01\n",
    "        for ns in range(num_sets):\n",
    "            init_val[ns, ns%output_dim] = 10.\n",
    "        self.cls_weight = nn.Parameter(init_val)\n",
    "        \n",
    "        self.cls_confidence = None\n",
    "        \n",
    "        \n",
    "    def forward(self, x, hard=False):\n",
    "#         self.cls_weight.data = torch.abs(self.cls_weight.data/self.cls_weight.data.sum(dim=1, keepdim=True))\n",
    "        \n",
    "        x = self.linear(x)\n",
    "        if hard:\n",
    "            x = torch.softmax(x*1e5, dim=1)\n",
    "        else:\n",
    "            x = torch.softmax(x*self.inv_temp, dim=1)\n",
    "        self.cls_confidence = x\n",
    "        c = torch.softmax(self.cls_weight, dim=1)\n",
    "#         c = self.cls_weight\n",
    "        return x@c ## since both are normalized, it is also normalized"
   ]
  },
  {
   "cell_type": "code",
   "execution_count": 81,
   "metadata": {},
   "outputs": [],
   "source": [
    "# class ConnectedClassifier_SoftKMeans(nn.Module):\n",
    "    \n",
    "#     def __init__(self,input_dim, num_sets, output_dim, inv_temp=1):\n",
    "#         super().__init__()\n",
    "#         self.input_dim = input_dim\n",
    "#         self.output_dim = output_dim\n",
    "#         self.num_sets = num_sets\n",
    "#         self.inv_temp = nn.Parameter(torch.ones(1)*inv_temp)\n",
    "        \n",
    "#         self.centers = nn.Parameter(torch.rand(num_sets, input_dim)*2-1)\n",
    "        \n",
    "# #         self.cls_weight = nn.Parameter(torch.ones(num_sets, output_dim)/output_dim)\n",
    "\n",
    "#         init_val = torch.randn(num_sets, output_dim)*0.01\n",
    "#         for ns in range(num_sets):\n",
    "#             init_val[ns, ns%output_dim] = 10.\n",
    "#         self.cls_weight = nn.Parameter(init_val)\n",
    "\n",
    "#         self.cls_confidence = None\n",
    "        \n",
    "        \n",
    "#     def forward(self, x, hard=False):\n",
    "#         x = x[:, :self.input_dim]\n",
    "#         dists = torch.cdist(x, self.centers)\n",
    "#         dists = dists/np.sqrt(self.input_dim) ### correction to make diagonal of unit square 1 in nD space\n",
    "        \n",
    "#         if hard:\n",
    "#             x = torch.softmax(-dists*1e5, dim=1)\n",
    "#         else:\n",
    "#             x = torch.softmax(-dists*self.inv_temp, dim=1)\n",
    "#         self.cls_confidence = x\n",
    "#         c = torch.softmax(self.cls_weight, dim=1)\n",
    "# #         c = self.cls_weight\n",
    "#         return x@c ## since both are normalized, it is also normalized"
   ]
  },
  {
   "cell_type": "code",
   "execution_count": 82,
   "metadata": {},
   "outputs": [],
   "source": [
    "class ConnectedClassifier_SoftKMeans(nn.Module):\n",
    "    \n",
    "    def __init__(self,input_dim, num_sets, output_dim, inv_temp=1):\n",
    "        super().__init__()\n",
    "        self.input_dim = input_dim\n",
    "        self.output_dim = output_dim\n",
    "        self.num_sets = num_sets\n",
    "        self.inv_temp = nn.Parameter(torch.ones(1)*inv_temp)\n",
    "        \n",
    "        self.centers = nn.Parameter(torch.rand(num_sets, input_dim)*2-1)\n",
    "        \n",
    "#         self.cls_weight = nn.Parameter(torch.ones(num_sets, output_dim)/output_dim)\n",
    "\n",
    "        init_val = torch.randn(num_sets, output_dim)*0.01\n",
    "        for ns in range(num_sets):\n",
    "            init_val[ns, ns%output_dim] = 10.\n",
    "        self.cls_weight = nn.Parameter(init_val)\n",
    "\n",
    "        self.cls_confidence = None\n",
    "        \n",
    "        \n",
    "    def forward(self, x, hard=False):\n",
    "#         self.cls_weight.data = torch.abs(self.cls_weight.data/self.cls_weight.data.sum(dim=1, keepdim=True))\n",
    "        \n",
    "        x = x[:, :self.input_dim]\n",
    "        dists = torch.cdist(x, self.centers)\n",
    "        dists = dists/np.sqrt(self.input_dim) ### correction to make diagonal of unit square 1 in nD space\n",
    "        \n",
    "        if hard:\n",
    "            x = torch.softmax(-dists*1e5, dim=1)\n",
    "        else:\n",
    "            x = torch.softmax(-dists*self.inv_temp, dim=1)\n",
    "        self.cls_confidence = x\n",
    "        c = torch.softmax(self.cls_weight, dim=1)\n",
    "#         c = self.cls_weight\n",
    "        return x@c ## since both are normalized, it is also normalized"
   ]
  },
  {
   "cell_type": "code",
   "execution_count": 83,
   "metadata": {},
   "outputs": [],
   "source": [
    "# actf = irf.Swish\n",
    "# flows = [\n",
    "#     ActNorm(784),\n",
    "#     irf.ResidualFlow(784, [784], activation=actf),\n",
    "#     ActNorm(784),\n",
    "#     irf.ResidualFlow(784, [784], activation=actf),\n",
    "#     ActNorm(784),\n",
    "#         ]\n",
    "\n",
    "# model = SequentialFlow(flows)"
   ]
  },
  {
   "cell_type": "code",
   "execution_count": 115,
   "metadata": {},
   "outputs": [],
   "source": [
    "model = nn.Sequential(nn.Linear(784, 784, bias=False),\n",
    "                      nn.BatchNorm1d(784),\n",
    "                      nn.SELU(),\n",
    "                      nn.Linear(784, 784, bias=False),\n",
    "                      nn.BatchNorm1d(784),\n",
    "                      nn.SELU(),\n",
    "                     )"
   ]
  },
  {
   "cell_type": "code",
   "execution_count": 116,
   "metadata": {},
   "outputs": [
    {
     "data": {
      "text/plain": [
       "Sequential(\n",
       "  (0): Linear(in_features=784, out_features=784, bias=False)\n",
       "  (1): BatchNorm1d(784, eps=1e-05, momentum=0.1, affine=True, track_running_stats=True)\n",
       "  (2): SELU()\n",
       "  (3): Linear(in_features=784, out_features=784, bias=False)\n",
       "  (4): BatchNorm1d(784, eps=1e-05, momentum=0.1, affine=True, track_running_stats=True)\n",
       "  (5): SELU()\n",
       ")"
      ]
     },
     "execution_count": 116,
     "metadata": {},
     "output_type": "execute_result"
    }
   ],
   "source": [
    "model.to(device)"
   ]
  },
  {
   "cell_type": "code",
   "execution_count": 117,
   "metadata": {},
   "outputs": [
    {
     "ename": "AttributeError",
     "evalue": "'Sequential' object has no attribute 'flows'",
     "output_type": "error",
     "traceback": [
      "\u001b[0;31m---------------------------------------------------------------------------\u001b[0m",
      "\u001b[0;31mAttributeError\u001b[0m                            Traceback (most recent call last)",
      "\u001b[0;32m<ipython-input-117-e66d4065e45a>\u001b[0m in \u001b[0;36m<module>\u001b[0;34m\u001b[0m\n\u001b[0;32m----> 1\u001b[0;31m \u001b[0mlist\u001b[0m\u001b[0;34m(\u001b[0m\u001b[0mmodel\u001b[0m\u001b[0;34m.\u001b[0m\u001b[0mflows\u001b[0m\u001b[0;34m[\u001b[0m\u001b[0;36m0\u001b[0m\u001b[0;34m]\u001b[0m\u001b[0;34m.\u001b[0m\u001b[0mparameters\u001b[0m\u001b[0;34m(\u001b[0m\u001b[0;34m)\u001b[0m\u001b[0;34m)\u001b[0m\u001b[0;34m\u001b[0m\u001b[0;34m\u001b[0m\u001b[0m\n\u001b[0m",
      "\u001b[0;32m~/AllFiles/ProgramFiles/miniconda3/lib/python3.8/site-packages/torch/nn/modules/module.py\u001b[0m in \u001b[0;36m__getattr__\u001b[0;34m(self, name)\u001b[0m\n\u001b[1;32m   1128\u001b[0m             \u001b[0;32mif\u001b[0m \u001b[0mname\u001b[0m \u001b[0;32min\u001b[0m \u001b[0mmodules\u001b[0m\u001b[0;34m:\u001b[0m\u001b[0;34m\u001b[0m\u001b[0;34m\u001b[0m\u001b[0m\n\u001b[1;32m   1129\u001b[0m                 \u001b[0;32mreturn\u001b[0m \u001b[0mmodules\u001b[0m\u001b[0;34m[\u001b[0m\u001b[0mname\u001b[0m\u001b[0;34m]\u001b[0m\u001b[0;34m\u001b[0m\u001b[0;34m\u001b[0m\u001b[0m\n\u001b[0;32m-> 1130\u001b[0;31m         raise AttributeError(\"'{}' object has no attribute '{}'\".format(\n\u001b[0m\u001b[1;32m   1131\u001b[0m             type(self).__name__, name))\n\u001b[1;32m   1132\u001b[0m \u001b[0;34m\u001b[0m\u001b[0m\n",
      "\u001b[0;31mAttributeError\u001b[0m: 'Sequential' object has no attribute 'flows'"
     ]
    }
   ],
   "source": [
    "list(model.flows[0].parameters())"
   ]
  },
  {
   "cell_type": "code",
   "execution_count": null,
   "metadata": {},
   "outputs": [],
   "source": []
  },
  {
   "cell_type": "code",
   "execution_count": 118,
   "metadata": {},
   "outputs": [],
   "source": [
    "classifier = ConnectedClassifier_SoftKMeans(784, 100, 10)\n",
    "# classifier = ConnectedClassifier_Softmax(784, 100, 10)\n",
    "classifier = classifier.to(device)"
   ]
  },
  {
   "cell_type": "markdown",
   "metadata": {},
   "source": [
    "## Model Train"
   ]
  },
  {
   "cell_type": "code",
   "execution_count": 119,
   "metadata": {},
   "outputs": [],
   "source": [
    "learning_rate = 0.0003\n",
    "batch_size = 50"
   ]
  },
  {
   "cell_type": "code",
   "execution_count": 120,
   "metadata": {},
   "outputs": [],
   "source": [
    "train_loader = data.DataLoader(dataset=train_dataset, num_workers=4, batch_size=batch_size, shuffle=True)\n",
    "test_loader = data.DataLoader(dataset=test_dataset, num_workers=4, batch_size=batch_size, shuffle=False)"
   ]
  },
  {
   "cell_type": "code",
   "execution_count": 121,
   "metadata": {},
   "outputs": [
    {
     "name": "stdout",
     "output_type": "stream",
     "text": [
      "number of params:  1232448\n"
     ]
    }
   ],
   "source": [
    "# criterion = nn.NLLLoss()\n",
    "criterion = nn.CrossEntropyLoss()\n",
    "\n",
    "optimizer = optim.Adam(list(model.parameters())+list(classifier.parameters()),\n",
    "                       lr=learning_rate, weight_decay=1e-15) # todo tune WD\n",
    "# optimizer = optim.SGD(model.parameters(), lr=0.1)\n",
    "\n",
    "print(\"number of params: \", sum(p.numel() for p in model.parameters()))"
   ]
  },
  {
   "cell_type": "code",
   "execution_count": 122,
   "metadata": {},
   "outputs": [
    {
     "name": "stdout",
     "output_type": "stream",
     "text": [
      "tensor(0., device='cuda:0')\n",
      "tensor(0., device='cuda:0')\n",
      "tensor(0., device='cuda:0')\n",
      "tensor(0., device='cuda:0')\n",
      "tensor(0., device='cuda:0')\n",
      "tensor(0., device='cuda:0')\n"
     ]
    }
   ],
   "source": [
    "for p in model.parameters():\n",
    "    print(torch.isnan(p).type(torch.float32).sum())"
   ]
  },
  {
   "cell_type": "code",
   "execution_count": 123,
   "metadata": {},
   "outputs": [
    {
     "data": {
      "text/plain": [
       "tensor([[-1.4210,  0.2018, -1.2675,  ..., -1.2747, -0.7042, -0.9518],\n",
       "        [-0.5687,  0.4812, -0.9916,  ..., -0.7586, -0.0931, -1.0872],\n",
       "        [ 0.6926, -0.7393,  0.0140,  ...,  1.2545,  0.7303, -0.6991],\n",
       "        ...,\n",
       "        [ 0.3149,  1.7224, -0.9930,  ...,  2.4332,  1.4887,  1.5481],\n",
       "        [-0.8335, -0.2494, -1.1215,  ..., -0.2140, -0.9818, -0.8321],\n",
       "        [-0.9755,  0.7651,  0.7195,  ..., -1.0379, -1.1725, -1.2073]],\n",
       "       device='cuda:0', grad_fn=<EluBackward0>)"
      ]
     },
     "execution_count": 123,
     "metadata": {},
     "output_type": "execute_result"
    }
   ],
   "source": [
    "model(torch.randn(10, 784).to(device))"
   ]
  },
  {
   "cell_type": "code",
   "execution_count": 124,
   "metadata": {},
   "outputs": [
    {
     "data": {
      "text/plain": [
       "torch.Size([50, 784])"
      ]
     },
     "execution_count": 124,
     "metadata": {},
     "output_type": "execute_result"
    }
   ],
   "source": [
    "xx = iter(test_loader).next()[0]\n",
    "xx.shape"
   ]
  },
  {
   "cell_type": "code",
   "execution_count": 125,
   "metadata": {
    "scrolled": false
   },
   "outputs": [
    {
     "name": "stderr",
     "output_type": "stream",
     "text": [
      "100%|██████████| 1200/1200 [00:03<00:00, 391.66it/s]\n",
      "  0%|          | 0/200 [00:00<?, ?it/s]"
     ]
    },
    {
     "name": "stdout",
     "output_type": "stream",
     "text": [
      "Epoch: 0:0,  Loss:2.217250108718872\n"
     ]
    },
    {
     "name": "stderr",
     "output_type": "stream",
     "text": [
      "100%|██████████| 200/200 [00:00<00:00, 559.66it/s]\n",
      "  0%|          | 0/1200 [00:00<?, ?it/s]"
     ]
    },
    {
     "name": "stdout",
     "output_type": "stream",
     "text": [
      "Train Acc:81.55%, Test Acc:82.90%\n",
      "\n"
     ]
    },
    {
     "name": "stderr",
     "output_type": "stream",
     "text": [
      "100%|██████████| 1200/1200 [00:03<00:00, 398.56it/s]\n",
      "  0%|          | 0/200 [00:00<?, ?it/s]"
     ]
    },
    {
     "name": "stdout",
     "output_type": "stream",
     "text": [
      "Epoch: 1:0,  Loss:1.9976089000701904\n"
     ]
    },
    {
     "name": "stderr",
     "output_type": "stream",
     "text": [
      "100%|██████████| 200/200 [00:00<00:00, 568.69it/s]\n",
      "  0%|          | 0/1200 [00:00<?, ?it/s]"
     ]
    },
    {
     "name": "stdout",
     "output_type": "stream",
     "text": [
      "Train Acc:84.91%, Test Acc:84.49%\n",
      "\n"
     ]
    },
    {
     "name": "stderr",
     "output_type": "stream",
     "text": [
      "100%|██████████| 1200/1200 [00:03<00:00, 399.94it/s]\n",
      "  0%|          | 0/200 [00:00<?, ?it/s]"
     ]
    },
    {
     "name": "stdout",
     "output_type": "stream",
     "text": [
      "Epoch: 2:0,  Loss:1.7570583820343018\n"
     ]
    },
    {
     "name": "stderr",
     "output_type": "stream",
     "text": [
      "100%|██████████| 200/200 [00:00<00:00, 569.54it/s]\n",
      "  0%|          | 0/1200 [00:00<?, ?it/s]"
     ]
    },
    {
     "name": "stdout",
     "output_type": "stream",
     "text": [
      "Train Acc:86.35%, Test Acc:85.37%\n",
      "\n"
     ]
    },
    {
     "name": "stderr",
     "output_type": "stream",
     "text": [
      "100%|██████████| 1200/1200 [00:02<00:00, 400.41it/s]\n",
      "  0%|          | 0/200 [00:00<?, ?it/s]"
     ]
    },
    {
     "name": "stdout",
     "output_type": "stream",
     "text": [
      "Epoch: 3:0,  Loss:1.693103313446045\n"
     ]
    },
    {
     "name": "stderr",
     "output_type": "stream",
     "text": [
      "100%|██████████| 200/200 [00:00<00:00, 590.52it/s]\n",
      "  0%|          | 0/1200 [00:00<?, ?it/s]"
     ]
    },
    {
     "name": "stdout",
     "output_type": "stream",
     "text": [
      "Train Acc:87.37%, Test Acc:86.59%\n",
      "\n"
     ]
    },
    {
     "name": "stderr",
     "output_type": "stream",
     "text": [
      "100%|██████████| 1200/1200 [00:03<00:00, 395.36it/s]\n",
      "  0%|          | 0/200 [00:00<?, ?it/s]"
     ]
    },
    {
     "name": "stdout",
     "output_type": "stream",
     "text": [
      "Epoch: 4:0,  Loss:1.649895191192627\n"
     ]
    },
    {
     "name": "stderr",
     "output_type": "stream",
     "text": [
      "100%|██████████| 200/200 [00:00<00:00, 559.84it/s]\n",
      "  0%|          | 0/1200 [00:00<?, ?it/s]"
     ]
    },
    {
     "name": "stdout",
     "output_type": "stream",
     "text": [
      "Train Acc:88.16%, Test Acc:86.67%\n",
      "\n"
     ]
    },
    {
     "name": "stderr",
     "output_type": "stream",
     "text": [
      "100%|██████████| 1200/1200 [00:02<00:00, 403.36it/s]\n",
      "  0%|          | 0/200 [00:00<?, ?it/s]"
     ]
    },
    {
     "name": "stdout",
     "output_type": "stream",
     "text": [
      "Epoch: 5:0,  Loss:1.5554869174957275\n"
     ]
    },
    {
     "name": "stderr",
     "output_type": "stream",
     "text": [
      "100%|██████████| 200/200 [00:00<00:00, 547.70it/s]\n",
      "  0%|          | 0/1200 [00:00<?, ?it/s]"
     ]
    },
    {
     "name": "stdout",
     "output_type": "stream",
     "text": [
      "Train Acc:88.74%, Test Acc:87.18%\n",
      "\n"
     ]
    },
    {
     "name": "stderr",
     "output_type": "stream",
     "text": [
      "100%|██████████| 1200/1200 [00:03<00:00, 399.71it/s]\n",
      "  0%|          | 0/200 [00:00<?, ?it/s]"
     ]
    },
    {
     "name": "stdout",
     "output_type": "stream",
     "text": [
      "Epoch: 6:0,  Loss:1.5285190343856812\n"
     ]
    },
    {
     "name": "stderr",
     "output_type": "stream",
     "text": [
      "100%|██████████| 200/200 [00:00<00:00, 567.80it/s]\n",
      "  0%|          | 0/1200 [00:00<?, ?it/s]"
     ]
    },
    {
     "name": "stdout",
     "output_type": "stream",
     "text": [
      "Train Acc:89.19%, Test Acc:87.14%\n",
      "\n"
     ]
    },
    {
     "name": "stderr",
     "output_type": "stream",
     "text": [
      "100%|██████████| 1200/1200 [00:02<00:00, 400.79it/s]\n",
      "  0%|          | 0/200 [00:00<?, ?it/s]"
     ]
    },
    {
     "name": "stdout",
     "output_type": "stream",
     "text": [
      "Epoch: 7:0,  Loss:1.586421012878418\n"
     ]
    },
    {
     "name": "stderr",
     "output_type": "stream",
     "text": [
      "100%|██████████| 200/200 [00:00<00:00, 563.06it/s]\n",
      "  0%|          | 0/1200 [00:00<?, ?it/s]"
     ]
    },
    {
     "name": "stdout",
     "output_type": "stream",
     "text": [
      "Train Acc:89.48%, Test Acc:86.60%\n",
      "\n"
     ]
    },
    {
     "name": "stderr",
     "output_type": "stream",
     "text": [
      "100%|██████████| 1200/1200 [00:02<00:00, 405.45it/s]\n",
      "  0%|          | 0/200 [00:00<?, ?it/s]"
     ]
    },
    {
     "name": "stdout",
     "output_type": "stream",
     "text": [
      "Epoch: 8:0,  Loss:1.5765680074691772\n"
     ]
    },
    {
     "name": "stderr",
     "output_type": "stream",
     "text": [
      "100%|██████████| 200/200 [00:00<00:00, 580.01it/s]\n",
      "  0%|          | 0/1200 [00:00<?, ?it/s]"
     ]
    },
    {
     "name": "stdout",
     "output_type": "stream",
     "text": [
      "Train Acc:89.71%, Test Acc:87.32%\n",
      "\n"
     ]
    },
    {
     "name": "stderr",
     "output_type": "stream",
     "text": [
      "100%|██████████| 1200/1200 [00:02<00:00, 400.60it/s]\n",
      "  0%|          | 0/200 [00:00<?, ?it/s]"
     ]
    },
    {
     "name": "stdout",
     "output_type": "stream",
     "text": [
      "Epoch: 9:0,  Loss:1.5783597230911255\n"
     ]
    },
    {
     "name": "stderr",
     "output_type": "stream",
     "text": [
      "100%|██████████| 200/200 [00:00<00:00, 564.60it/s]\n",
      "  0%|          | 0/1200 [00:00<?, ?it/s]"
     ]
    },
    {
     "name": "stdout",
     "output_type": "stream",
     "text": [
      "Train Acc:89.90%, Test Acc:87.16%\n",
      "\n"
     ]
    },
    {
     "name": "stderr",
     "output_type": "stream",
     "text": [
      "100%|██████████| 1200/1200 [00:03<00:00, 398.83it/s]\n",
      "  0%|          | 0/200 [00:00<?, ?it/s]"
     ]
    },
    {
     "name": "stdout",
     "output_type": "stream",
     "text": [
      "Epoch: 10:0,  Loss:1.6235712766647339\n"
     ]
    },
    {
     "name": "stderr",
     "output_type": "stream",
     "text": [
      "100%|██████████| 200/200 [00:00<00:00, 565.36it/s]\n",
      "  0%|          | 0/1200 [00:00<?, ?it/s]"
     ]
    },
    {
     "name": "stdout",
     "output_type": "stream",
     "text": [
      "Train Acc:90.16%, Test Acc:87.64%\n",
      "\n"
     ]
    },
    {
     "name": "stderr",
     "output_type": "stream",
     "text": [
      "100%|██████████| 1200/1200 [00:02<00:00, 403.75it/s]\n",
      "  0%|          | 0/200 [00:00<?, ?it/s]"
     ]
    },
    {
     "name": "stdout",
     "output_type": "stream",
     "text": [
      "Epoch: 11:0,  Loss:1.5906027555465698\n"
     ]
    },
    {
     "name": "stderr",
     "output_type": "stream",
     "text": [
      "100%|██████████| 200/200 [00:00<00:00, 600.54it/s]\n",
      "  0%|          | 0/1200 [00:00<?, ?it/s]"
     ]
    },
    {
     "name": "stdout",
     "output_type": "stream",
     "text": [
      "Train Acc:90.53%, Test Acc:87.90%\n",
      "\n"
     ]
    },
    {
     "name": "stderr",
     "output_type": "stream",
     "text": [
      "100%|██████████| 1200/1200 [00:03<00:00, 398.89it/s]\n",
      "  0%|          | 0/200 [00:00<?, ?it/s]"
     ]
    },
    {
     "name": "stdout",
     "output_type": "stream",
     "text": [
      "Epoch: 12:0,  Loss:1.5108877420425415\n"
     ]
    },
    {
     "name": "stderr",
     "output_type": "stream",
     "text": [
      "100%|██████████| 200/200 [00:00<00:00, 566.38it/s]\n",
      "  0%|          | 0/1200 [00:00<?, ?it/s]"
     ]
    },
    {
     "name": "stdout",
     "output_type": "stream",
     "text": [
      "Train Acc:90.71%, Test Acc:87.81%\n",
      "\n"
     ]
    },
    {
     "name": "stderr",
     "output_type": "stream",
     "text": [
      "100%|██████████| 1200/1200 [00:03<00:00, 398.64it/s]\n",
      "  0%|          | 0/200 [00:00<?, ?it/s]"
     ]
    },
    {
     "name": "stdout",
     "output_type": "stream",
     "text": [
      "Epoch: 13:0,  Loss:1.5244624614715576\n"
     ]
    },
    {
     "name": "stderr",
     "output_type": "stream",
     "text": [
      "100%|██████████| 200/200 [00:00<00:00, 571.43it/s]\n",
      "  0%|          | 0/1200 [00:00<?, ?it/s]"
     ]
    },
    {
     "name": "stdout",
     "output_type": "stream",
     "text": [
      "Train Acc:90.72%, Test Acc:87.51%\n",
      "\n"
     ]
    },
    {
     "name": "stderr",
     "output_type": "stream",
     "text": [
      "100%|██████████| 1200/1200 [00:02<00:00, 403.96it/s]\n",
      "  0%|          | 0/200 [00:00<?, ?it/s]"
     ]
    },
    {
     "name": "stdout",
     "output_type": "stream",
     "text": [
      "Epoch: 14:0,  Loss:1.5436559915542603\n"
     ]
    },
    {
     "name": "stderr",
     "output_type": "stream",
     "text": [
      "100%|██████████| 200/200 [00:00<00:00, 572.53it/s]\n",
      "  0%|          | 0/1200 [00:00<?, ?it/s]"
     ]
    },
    {
     "name": "stdout",
     "output_type": "stream",
     "text": [
      "Train Acc:90.91%, Test Acc:87.65%\n",
      "\n"
     ]
    },
    {
     "name": "stderr",
     "output_type": "stream",
     "text": [
      "100%|██████████| 1200/1200 [00:03<00:00, 397.22it/s]\n",
      "  0%|          | 0/200 [00:00<?, ?it/s]"
     ]
    },
    {
     "name": "stdout",
     "output_type": "stream",
     "text": [
      "Epoch: 15:0,  Loss:1.5871174335479736\n"
     ]
    },
    {
     "name": "stderr",
     "output_type": "stream",
     "text": [
      "100%|██████████| 200/200 [00:00<00:00, 573.17it/s]\n",
      "  0%|          | 0/1200 [00:00<?, ?it/s]"
     ]
    },
    {
     "name": "stdout",
     "output_type": "stream",
     "text": [
      "Train Acc:91.12%, Test Acc:87.95%\n",
      "\n"
     ]
    },
    {
     "name": "stderr",
     "output_type": "stream",
     "text": [
      "100%|██████████| 1200/1200 [00:03<00:00, 395.43it/s]\n",
      "  0%|          | 0/200 [00:00<?, ?it/s]"
     ]
    },
    {
     "name": "stdout",
     "output_type": "stream",
     "text": [
      "Epoch: 16:0,  Loss:1.5098756551742554\n"
     ]
    },
    {
     "name": "stderr",
     "output_type": "stream",
     "text": [
      "100%|██████████| 200/200 [00:00<00:00, 568.82it/s]\n",
      "  0%|          | 0/1200 [00:00<?, ?it/s]"
     ]
    },
    {
     "name": "stdout",
     "output_type": "stream",
     "text": [
      "Train Acc:91.16%, Test Acc:87.41%\n",
      "\n"
     ]
    },
    {
     "name": "stderr",
     "output_type": "stream",
     "text": [
      "100%|██████████| 1200/1200 [00:03<00:00, 395.84it/s]\n",
      "  0%|          | 0/200 [00:00<?, ?it/s]"
     ]
    },
    {
     "name": "stdout",
     "output_type": "stream",
     "text": [
      "Epoch: 17:0,  Loss:1.5842382907867432\n"
     ]
    },
    {
     "name": "stderr",
     "output_type": "stream",
     "text": [
      "100%|██████████| 200/200 [00:00<00:00, 576.73it/s]\n",
      "  0%|          | 0/1200 [00:00<?, ?it/s]"
     ]
    },
    {
     "name": "stdout",
     "output_type": "stream",
     "text": [
      "Train Acc:91.47%, Test Acc:87.56%\n",
      "\n"
     ]
    },
    {
     "name": "stderr",
     "output_type": "stream",
     "text": [
      "100%|██████████| 1200/1200 [00:02<00:00, 403.41it/s]\n",
      "  0%|          | 0/200 [00:00<?, ?it/s]"
     ]
    },
    {
     "name": "stdout",
     "output_type": "stream",
     "text": [
      "Epoch: 18:0,  Loss:1.599894404411316\n"
     ]
    },
    {
     "name": "stderr",
     "output_type": "stream",
     "text": [
      "100%|██████████| 200/200 [00:00<00:00, 549.09it/s]\n",
      "  0%|          | 0/1200 [00:00<?, ?it/s]"
     ]
    },
    {
     "name": "stdout",
     "output_type": "stream",
     "text": [
      "Train Acc:91.45%, Test Acc:88.02%\n",
      "\n"
     ]
    },
    {
     "name": "stderr",
     "output_type": "stream",
     "text": [
      "100%|██████████| 1200/1200 [00:03<00:00, 392.72it/s]\n",
      "  0%|          | 0/200 [00:00<?, ?it/s]"
     ]
    },
    {
     "name": "stdout",
     "output_type": "stream",
     "text": [
      "Epoch: 19:0,  Loss:1.5045396089553833\n"
     ]
    },
    {
     "name": "stderr",
     "output_type": "stream",
     "text": [
      "100%|██████████| 200/200 [00:00<00:00, 597.13it/s]\n",
      "  0%|          | 0/1200 [00:00<?, ?it/s]"
     ]
    },
    {
     "name": "stdout",
     "output_type": "stream",
     "text": [
      "Train Acc:91.65%, Test Acc:88.15%\n",
      "\n"
     ]
    },
    {
     "name": "stderr",
     "output_type": "stream",
     "text": [
      "100%|██████████| 1200/1200 [00:03<00:00, 396.10it/s]\n",
      "  0%|          | 0/200 [00:00<?, ?it/s]"
     ]
    },
    {
     "name": "stdout",
     "output_type": "stream",
     "text": [
      "Epoch: 20:0,  Loss:1.5181281566619873\n"
     ]
    },
    {
     "name": "stderr",
     "output_type": "stream",
     "text": [
      "100%|██████████| 200/200 [00:00<00:00, 582.24it/s]\n",
      "  0%|          | 0/1200 [00:00<?, ?it/s]"
     ]
    },
    {
     "name": "stdout",
     "output_type": "stream",
     "text": [
      "Train Acc:91.64%, Test Acc:88.23%\n",
      "\n"
     ]
    },
    {
     "name": "stderr",
     "output_type": "stream",
     "text": [
      "100%|██████████| 1200/1200 [00:03<00:00, 396.07it/s]\n",
      "  0%|          | 0/200 [00:00<?, ?it/s]"
     ]
    },
    {
     "name": "stdout",
     "output_type": "stream",
     "text": [
      "Epoch: 21:0,  Loss:1.494056224822998\n"
     ]
    },
    {
     "name": "stderr",
     "output_type": "stream",
     "text": [
      "100%|██████████| 200/200 [00:00<00:00, 573.26it/s]\n",
      "  0%|          | 0/1200 [00:00<?, ?it/s]"
     ]
    },
    {
     "name": "stdout",
     "output_type": "stream",
     "text": [
      "Train Acc:91.96%, Test Acc:88.31%\n",
      "\n"
     ]
    },
    {
     "name": "stderr",
     "output_type": "stream",
     "text": [
      "100%|██████████| 1200/1200 [00:02<00:00, 401.55it/s]\n",
      "  0%|          | 0/200 [00:00<?, ?it/s]"
     ]
    },
    {
     "name": "stdout",
     "output_type": "stream",
     "text": [
      "Epoch: 22:0,  Loss:1.560639500617981\n"
     ]
    },
    {
     "name": "stderr",
     "output_type": "stream",
     "text": [
      "100%|██████████| 200/200 [00:00<00:00, 552.50it/s]\n",
      "  0%|          | 0/1200 [00:00<?, ?it/s]"
     ]
    },
    {
     "name": "stdout",
     "output_type": "stream",
     "text": [
      "Train Acc:91.89%, Test Acc:87.81%\n",
      "\n"
     ]
    },
    {
     "name": "stderr",
     "output_type": "stream",
     "text": [
      "100%|██████████| 1200/1200 [00:02<00:00, 401.33it/s]\n",
      "  0%|          | 0/200 [00:00<?, ?it/s]"
     ]
    },
    {
     "name": "stdout",
     "output_type": "stream",
     "text": [
      "Epoch: 23:0,  Loss:1.4787487983703613\n"
     ]
    },
    {
     "name": "stderr",
     "output_type": "stream",
     "text": [
      "100%|██████████| 200/200 [00:00<00:00, 589.75it/s]\n",
      "  0%|          | 0/1200 [00:00<?, ?it/s]"
     ]
    },
    {
     "name": "stdout",
     "output_type": "stream",
     "text": [
      "Train Acc:92.05%, Test Acc:88.47%\n",
      "\n"
     ]
    },
    {
     "name": "stderr",
     "output_type": "stream",
     "text": [
      "100%|██████████| 1200/1200 [00:03<00:00, 399.10it/s]\n",
      "  0%|          | 0/200 [00:00<?, ?it/s]"
     ]
    },
    {
     "name": "stdout",
     "output_type": "stream",
     "text": [
      "Epoch: 24:0,  Loss:1.5368199348449707\n"
     ]
    },
    {
     "name": "stderr",
     "output_type": "stream",
     "text": [
      "100%|██████████| 200/200 [00:00<00:00, 566.70it/s]\n",
      "  0%|          | 0/1200 [00:00<?, ?it/s]"
     ]
    },
    {
     "name": "stdout",
     "output_type": "stream",
     "text": [
      "Train Acc:92.14%, Test Acc:88.41%\n",
      "\n"
     ]
    },
    {
     "name": "stderr",
     "output_type": "stream",
     "text": [
      "100%|██████████| 1200/1200 [00:02<00:00, 401.43it/s]\n",
      "  0%|          | 0/200 [00:00<?, ?it/s]"
     ]
    },
    {
     "name": "stdout",
     "output_type": "stream",
     "text": [
      "Epoch: 25:0,  Loss:1.540602207183838\n"
     ]
    },
    {
     "name": "stderr",
     "output_type": "stream",
     "text": [
      "100%|██████████| 200/200 [00:00<00:00, 574.22it/s]\n",
      "  0%|          | 0/1200 [00:00<?, ?it/s]"
     ]
    },
    {
     "name": "stdout",
     "output_type": "stream",
     "text": [
      "Train Acc:92.33%, Test Acc:88.10%\n",
      "\n"
     ]
    },
    {
     "name": "stderr",
     "output_type": "stream",
     "text": [
      "100%|██████████| 1200/1200 [00:02<00:00, 412.31it/s]\n",
      "  0%|          | 0/200 [00:00<?, ?it/s]"
     ]
    },
    {
     "name": "stdout",
     "output_type": "stream",
     "text": [
      "Epoch: 26:0,  Loss:1.5456085205078125\n"
     ]
    },
    {
     "name": "stderr",
     "output_type": "stream",
     "text": [
      "100%|██████████| 200/200 [00:00<00:00, 581.84it/s]\n",
      "  0%|          | 0/1200 [00:00<?, ?it/s]"
     ]
    },
    {
     "name": "stdout",
     "output_type": "stream",
     "text": [
      "Train Acc:92.31%, Test Acc:88.21%\n",
      "\n"
     ]
    },
    {
     "name": "stderr",
     "output_type": "stream",
     "text": [
      "100%|██████████| 1200/1200 [00:02<00:00, 406.35it/s]\n",
      "  0%|          | 0/200 [00:00<?, ?it/s]"
     ]
    },
    {
     "name": "stdout",
     "output_type": "stream",
     "text": [
      "Epoch: 27:0,  Loss:1.5572260618209839\n"
     ]
    },
    {
     "name": "stderr",
     "output_type": "stream",
     "text": [
      "100%|██████████| 200/200 [00:00<00:00, 585.65it/s]\n",
      "  0%|          | 0/1200 [00:00<?, ?it/s]"
     ]
    },
    {
     "name": "stdout",
     "output_type": "stream",
     "text": [
      "Train Acc:92.45%, Test Acc:87.83%\n",
      "\n"
     ]
    },
    {
     "name": "stderr",
     "output_type": "stream",
     "text": [
      "100%|██████████| 1200/1200 [00:02<00:00, 401.59it/s]\n",
      "  0%|          | 0/200 [00:00<?, ?it/s]"
     ]
    },
    {
     "name": "stdout",
     "output_type": "stream",
     "text": [
      "Epoch: 28:0,  Loss:1.521071434020996\n"
     ]
    },
    {
     "name": "stderr",
     "output_type": "stream",
     "text": [
      "100%|██████████| 200/200 [00:00<00:00, 583.68it/s]\n",
      "  0%|          | 0/1200 [00:00<?, ?it/s]"
     ]
    },
    {
     "name": "stdout",
     "output_type": "stream",
     "text": [
      "Train Acc:92.43%, Test Acc:88.38%\n",
      "\n"
     ]
    },
    {
     "name": "stderr",
     "output_type": "stream",
     "text": [
      "100%|██████████| 1200/1200 [00:02<00:00, 400.66it/s]\n",
      "  0%|          | 0/200 [00:00<?, ?it/s]"
     ]
    },
    {
     "name": "stdout",
     "output_type": "stream",
     "text": [
      "Epoch: 29:0,  Loss:1.5693799257278442\n"
     ]
    },
    {
     "name": "stderr",
     "output_type": "stream",
     "text": [
      "100%|██████████| 200/200 [00:00<00:00, 569.24it/s]\n",
      "  0%|          | 0/1200 [00:00<?, ?it/s]"
     ]
    },
    {
     "name": "stdout",
     "output_type": "stream",
     "text": [
      "Train Acc:92.57%, Test Acc:87.80%\n",
      "\n"
     ]
    },
    {
     "name": "stderr",
     "output_type": "stream",
     "text": [
      "100%|██████████| 1200/1200 [00:02<00:00, 403.09it/s]\n",
      "  0%|          | 0/200 [00:00<?, ?it/s]"
     ]
    },
    {
     "name": "stdout",
     "output_type": "stream",
     "text": [
      "Epoch: 30:0,  Loss:1.480139970779419\n"
     ]
    },
    {
     "name": "stderr",
     "output_type": "stream",
     "text": [
      "100%|██████████| 200/200 [00:00<00:00, 563.38it/s]\n",
      "  0%|          | 0/1200 [00:00<?, ?it/s]"
     ]
    },
    {
     "name": "stdout",
     "output_type": "stream",
     "text": [
      "Train Acc:92.71%, Test Acc:88.62%\n",
      "\n"
     ]
    },
    {
     "name": "stderr",
     "output_type": "stream",
     "text": [
      "100%|██████████| 1200/1200 [00:02<00:00, 400.02it/s]\n",
      "  0%|          | 0/200 [00:00<?, ?it/s]"
     ]
    },
    {
     "name": "stdout",
     "output_type": "stream",
     "text": [
      "Epoch: 31:0,  Loss:1.4967584609985352\n"
     ]
    },
    {
     "name": "stderr",
     "output_type": "stream",
     "text": [
      "100%|██████████| 200/200 [00:00<00:00, 574.66it/s]\n",
      "  0%|          | 0/1200 [00:00<?, ?it/s]"
     ]
    },
    {
     "name": "stdout",
     "output_type": "stream",
     "text": [
      "Train Acc:92.64%, Test Acc:88.24%\n",
      "\n"
     ]
    },
    {
     "name": "stderr",
     "output_type": "stream",
     "text": [
      "100%|██████████| 1200/1200 [00:03<00:00, 396.82it/s]\n",
      "  0%|          | 0/200 [00:00<?, ?it/s]"
     ]
    },
    {
     "name": "stdout",
     "output_type": "stream",
     "text": [
      "Epoch: 32:0,  Loss:1.4894963502883911\n"
     ]
    },
    {
     "name": "stderr",
     "output_type": "stream",
     "text": [
      "100%|██████████| 200/200 [00:00<00:00, 540.88it/s]\n",
      "  0%|          | 0/1200 [00:00<?, ?it/s]"
     ]
    },
    {
     "name": "stdout",
     "output_type": "stream",
     "text": [
      "Train Acc:92.80%, Test Acc:88.64%\n",
      "\n"
     ]
    },
    {
     "name": "stderr",
     "output_type": "stream",
     "text": [
      "100%|██████████| 1200/1200 [00:02<00:00, 402.02it/s]\n",
      "  0%|          | 0/200 [00:00<?, ?it/s]"
     ]
    },
    {
     "name": "stdout",
     "output_type": "stream",
     "text": [
      "Epoch: 33:0,  Loss:1.575962781906128\n"
     ]
    },
    {
     "name": "stderr",
     "output_type": "stream",
     "text": [
      "100%|██████████| 200/200 [00:00<00:00, 563.31it/s]\n",
      "  0%|          | 0/1200 [00:00<?, ?it/s]"
     ]
    },
    {
     "name": "stdout",
     "output_type": "stream",
     "text": [
      "Train Acc:92.88%, Test Acc:88.53%\n",
      "\n"
     ]
    },
    {
     "name": "stderr",
     "output_type": "stream",
     "text": [
      "100%|██████████| 1200/1200 [00:03<00:00, 392.88it/s]\n",
      "  0%|          | 0/200 [00:00<?, ?it/s]"
     ]
    },
    {
     "name": "stdout",
     "output_type": "stream",
     "text": [
      "Epoch: 34:0,  Loss:1.6194770336151123\n"
     ]
    },
    {
     "name": "stderr",
     "output_type": "stream",
     "text": [
      "100%|██████████| 200/200 [00:00<00:00, 571.69it/s]\n",
      "  0%|          | 0/1200 [00:00<?, ?it/s]"
     ]
    },
    {
     "name": "stdout",
     "output_type": "stream",
     "text": [
      "Train Acc:92.94%, Test Acc:88.63%\n",
      "\n"
     ]
    },
    {
     "name": "stderr",
     "output_type": "stream",
     "text": [
      "100%|██████████| 1200/1200 [00:02<00:00, 408.35it/s]\n",
      "  0%|          | 0/200 [00:00<?, ?it/s]"
     ]
    },
    {
     "name": "stdout",
     "output_type": "stream",
     "text": [
      "Epoch: 35:0,  Loss:1.5123810768127441\n"
     ]
    },
    {
     "name": "stderr",
     "output_type": "stream",
     "text": [
      "100%|██████████| 200/200 [00:00<00:00, 552.51it/s]\n",
      "  0%|          | 0/1200 [00:00<?, ?it/s]"
     ]
    },
    {
     "name": "stdout",
     "output_type": "stream",
     "text": [
      "Train Acc:93.08%, Test Acc:88.62%\n",
      "\n"
     ]
    },
    {
     "name": "stderr",
     "output_type": "stream",
     "text": [
      "100%|██████████| 1200/1200 [00:02<00:00, 400.69it/s]\n",
      "  0%|          | 0/200 [00:00<?, ?it/s]"
     ]
    },
    {
     "name": "stdout",
     "output_type": "stream",
     "text": [
      "Epoch: 36:0,  Loss:1.5655328035354614\n"
     ]
    },
    {
     "name": "stderr",
     "output_type": "stream",
     "text": [
      "100%|██████████| 200/200 [00:00<00:00, 576.41it/s]\n",
      "  0%|          | 0/1200 [00:00<?, ?it/s]"
     ]
    },
    {
     "name": "stdout",
     "output_type": "stream",
     "text": [
      "Train Acc:93.13%, Test Acc:88.49%\n",
      "\n"
     ]
    },
    {
     "name": "stderr",
     "output_type": "stream",
     "text": [
      "100%|██████████| 1200/1200 [00:03<00:00, 389.35it/s]\n",
      "  0%|          | 0/200 [00:00<?, ?it/s]"
     ]
    },
    {
     "name": "stdout",
     "output_type": "stream",
     "text": [
      "Epoch: 37:0,  Loss:1.4848432540893555\n"
     ]
    },
    {
     "name": "stderr",
     "output_type": "stream",
     "text": [
      "100%|██████████| 200/200 [00:00<00:00, 563.89it/s]\n",
      "  0%|          | 0/1200 [00:00<?, ?it/s]"
     ]
    },
    {
     "name": "stdout",
     "output_type": "stream",
     "text": [
      "Train Acc:93.22%, Test Acc:88.56%\n",
      "\n"
     ]
    },
    {
     "name": "stderr",
     "output_type": "stream",
     "text": [
      "100%|██████████| 1200/1200 [00:03<00:00, 393.95it/s]\n",
      "  0%|          | 0/200 [00:00<?, ?it/s]"
     ]
    },
    {
     "name": "stdout",
     "output_type": "stream",
     "text": [
      "Epoch: 38:0,  Loss:1.50151789188385\n"
     ]
    },
    {
     "name": "stderr",
     "output_type": "stream",
     "text": [
      "100%|██████████| 200/200 [00:00<00:00, 582.14it/s]\n",
      "  0%|          | 0/1200 [00:00<?, ?it/s]"
     ]
    },
    {
     "name": "stdout",
     "output_type": "stream",
     "text": [
      "Train Acc:93.25%, Test Acc:88.74%\n",
      "\n"
     ]
    },
    {
     "name": "stderr",
     "output_type": "stream",
     "text": [
      "100%|██████████| 1200/1200 [00:03<00:00, 397.07it/s]\n",
      "  0%|          | 0/200 [00:00<?, ?it/s]"
     ]
    },
    {
     "name": "stdout",
     "output_type": "stream",
     "text": [
      "Epoch: 39:0,  Loss:1.5363467931747437\n"
     ]
    },
    {
     "name": "stderr",
     "output_type": "stream",
     "text": [
      "100%|██████████| 200/200 [00:00<00:00, 570.44it/s]\n",
      "  0%|          | 0/1200 [00:00<?, ?it/s]"
     ]
    },
    {
     "name": "stdout",
     "output_type": "stream",
     "text": [
      "Train Acc:93.27%, Test Acc:88.76%\n",
      "\n"
     ]
    },
    {
     "name": "stderr",
     "output_type": "stream",
     "text": [
      "100%|██████████| 1200/1200 [00:02<00:00, 403.69it/s]\n",
      "  0%|          | 0/200 [00:00<?, ?it/s]"
     ]
    },
    {
     "name": "stdout",
     "output_type": "stream",
     "text": [
      "Epoch: 40:0,  Loss:1.5949763059616089\n"
     ]
    },
    {
     "name": "stderr",
     "output_type": "stream",
     "text": [
      "100%|██████████| 200/200 [00:00<00:00, 545.70it/s]\n",
      "  0%|          | 0/1200 [00:00<?, ?it/s]"
     ]
    },
    {
     "name": "stdout",
     "output_type": "stream",
     "text": [
      "Train Acc:93.42%, Test Acc:88.61%\n",
      "\n"
     ]
    },
    {
     "name": "stderr",
     "output_type": "stream",
     "text": [
      "100%|██████████| 1200/1200 [00:03<00:00, 395.56it/s]\n",
      "  0%|          | 0/200 [00:00<?, ?it/s]"
     ]
    },
    {
     "name": "stdout",
     "output_type": "stream",
     "text": [
      "Epoch: 41:0,  Loss:1.5739184617996216\n"
     ]
    },
    {
     "name": "stderr",
     "output_type": "stream",
     "text": [
      "100%|██████████| 200/200 [00:00<00:00, 574.47it/s]\n",
      "  0%|          | 0/1200 [00:00<?, ?it/s]"
     ]
    },
    {
     "name": "stdout",
     "output_type": "stream",
     "text": [
      "Train Acc:93.38%, Test Acc:88.79%\n",
      "\n"
     ]
    },
    {
     "name": "stderr",
     "output_type": "stream",
     "text": [
      "100%|██████████| 1200/1200 [00:03<00:00, 398.20it/s]\n",
      "  0%|          | 0/200 [00:00<?, ?it/s]"
     ]
    },
    {
     "name": "stdout",
     "output_type": "stream",
     "text": [
      "Epoch: 42:0,  Loss:1.6237308979034424\n"
     ]
    },
    {
     "name": "stderr",
     "output_type": "stream",
     "text": [
      "100%|██████████| 200/200 [00:00<00:00, 587.96it/s]\n",
      "  0%|          | 0/1200 [00:00<?, ?it/s]"
     ]
    },
    {
     "name": "stdout",
     "output_type": "stream",
     "text": [
      "Train Acc:93.51%, Test Acc:88.97%\n",
      "\n"
     ]
    },
    {
     "name": "stderr",
     "output_type": "stream",
     "text": [
      "100%|██████████| 1200/1200 [00:02<00:00, 402.82it/s]\n",
      "  0%|          | 0/200 [00:00<?, ?it/s]"
     ]
    },
    {
     "name": "stdout",
     "output_type": "stream",
     "text": [
      "Epoch: 43:0,  Loss:1.5362839698791504\n"
     ]
    },
    {
     "name": "stderr",
     "output_type": "stream",
     "text": [
      "100%|██████████| 200/200 [00:00<00:00, 585.60it/s]\n",
      "  0%|          | 0/1200 [00:00<?, ?it/s]"
     ]
    },
    {
     "name": "stdout",
     "output_type": "stream",
     "text": [
      "Train Acc:93.63%, Test Acc:88.42%\n",
      "\n"
     ]
    },
    {
     "name": "stderr",
     "output_type": "stream",
     "text": [
      "100%|██████████| 1200/1200 [00:03<00:00, 393.13it/s]\n",
      "  0%|          | 0/200 [00:00<?, ?it/s]"
     ]
    },
    {
     "name": "stdout",
     "output_type": "stream",
     "text": [
      "Epoch: 44:0,  Loss:1.6309760808944702\n"
     ]
    },
    {
     "name": "stderr",
     "output_type": "stream",
     "text": [
      "100%|██████████| 200/200 [00:00<00:00, 573.09it/s]\n",
      "  0%|          | 0/1200 [00:00<?, ?it/s]"
     ]
    },
    {
     "name": "stdout",
     "output_type": "stream",
     "text": [
      "Train Acc:93.50%, Test Acc:88.92%\n",
      "\n"
     ]
    },
    {
     "name": "stderr",
     "output_type": "stream",
     "text": [
      "100%|██████████| 1200/1200 [00:03<00:00, 395.95it/s]\n",
      "  0%|          | 0/200 [00:00<?, ?it/s]"
     ]
    },
    {
     "name": "stdout",
     "output_type": "stream",
     "text": [
      "Epoch: 45:0,  Loss:1.5014489889144897\n"
     ]
    },
    {
     "name": "stderr",
     "output_type": "stream",
     "text": [
      "100%|██████████| 200/200 [00:00<00:00, 583.95it/s]\n",
      "  0%|          | 0/1200 [00:00<?, ?it/s]"
     ]
    },
    {
     "name": "stdout",
     "output_type": "stream",
     "text": [
      "Train Acc:93.59%, Test Acc:88.94%\n",
      "\n"
     ]
    },
    {
     "name": "stderr",
     "output_type": "stream",
     "text": [
      "100%|██████████| 1200/1200 [00:03<00:00, 397.26it/s]\n",
      "  0%|          | 0/200 [00:00<?, ?it/s]"
     ]
    },
    {
     "name": "stdout",
     "output_type": "stream",
     "text": [
      "Epoch: 46:0,  Loss:1.504794955253601\n"
     ]
    },
    {
     "name": "stderr",
     "output_type": "stream",
     "text": [
      "100%|██████████| 200/200 [00:00<00:00, 589.43it/s]\n",
      "  0%|          | 0/1200 [00:00<?, ?it/s]"
     ]
    },
    {
     "name": "stdout",
     "output_type": "stream",
     "text": [
      "Train Acc:93.81%, Test Acc:88.77%\n",
      "\n"
     ]
    },
    {
     "name": "stderr",
     "output_type": "stream",
     "text": [
      "100%|██████████| 1200/1200 [00:03<00:00, 399.04it/s]\n",
      "  0%|          | 0/200 [00:00<?, ?it/s]"
     ]
    },
    {
     "name": "stdout",
     "output_type": "stream",
     "text": [
      "Epoch: 47:0,  Loss:1.508610486984253\n"
     ]
    },
    {
     "name": "stderr",
     "output_type": "stream",
     "text": [
      "100%|██████████| 200/200 [00:00<00:00, 575.09it/s]\n",
      "  0%|          | 0/1200 [00:00<?, ?it/s]"
     ]
    },
    {
     "name": "stdout",
     "output_type": "stream",
     "text": [
      "Train Acc:93.72%, Test Acc:88.27%\n",
      "\n"
     ]
    },
    {
     "name": "stderr",
     "output_type": "stream",
     "text": [
      "100%|██████████| 1200/1200 [00:02<00:00, 404.70it/s]\n",
      "  0%|          | 0/200 [00:00<?, ?it/s]"
     ]
    },
    {
     "name": "stdout",
     "output_type": "stream",
     "text": [
      "Epoch: 48:0,  Loss:1.5181329250335693\n"
     ]
    },
    {
     "name": "stderr",
     "output_type": "stream",
     "text": [
      "100%|██████████| 200/200 [00:00<00:00, 519.42it/s]\n",
      "  0%|          | 0/1200 [00:00<?, ?it/s]"
     ]
    },
    {
     "name": "stdout",
     "output_type": "stream",
     "text": [
      "Train Acc:93.80%, Test Acc:88.83%\n",
      "\n"
     ]
    },
    {
     "name": "stderr",
     "output_type": "stream",
     "text": [
      "100%|██████████| 1200/1200 [00:03<00:00, 399.39it/s]\n",
      "  0%|          | 0/200 [00:00<?, ?it/s]"
     ]
    },
    {
     "name": "stdout",
     "output_type": "stream",
     "text": [
      "Epoch: 49:0,  Loss:1.504277229309082\n"
     ]
    },
    {
     "name": "stderr",
     "output_type": "stream",
     "text": [
      "100%|██████████| 200/200 [00:00<00:00, 572.70it/s]"
     ]
    },
    {
     "name": "stdout",
     "output_type": "stream",
     "text": [
      "Train Acc:93.92%, Test Acc:88.84%\n",
      "\n",
      "\t-> Train Acc 93.91833333333334 ; Test Acc 88.97\n"
     ]
    },
    {
     "name": "stderr",
     "output_type": "stream",
     "text": [
      "\n"
     ]
    }
   ],
   "source": [
    "losses = []\n",
    "train_accs = []\n",
    "test_accs = []\n",
    "EPOCHS = 50\n",
    "\n",
    "index = 0\n",
    "for epoch in range(EPOCHS):\n",
    "    train_acc = 0\n",
    "    train_count = 0\n",
    "    for xx, yy in tqdm(train_loader):\n",
    "        xx, yy = xx.to(device), yy.to(device)\n",
    "#     for xx, yy in tqdm(test_loader):\n",
    "\n",
    "        yout = model(xx)\n",
    "#         print(yout)\n",
    "        yout = classifier(yout)    \n",
    "#         print(yout)\n",
    "        loss = criterion(yout, yy)\n",
    "        optimizer.zero_grad()\n",
    "        loss.backward()\n",
    "        optimizer.step()\n",
    "\n",
    "        losses.append(float(loss))\n",
    "\n",
    "        outputs = torch.argmax(yout, dim=1).data.cpu().numpy()\n",
    "        correct = (outputs == yy.data.cpu().numpy()).astype(float).sum()\n",
    "        train_acc += correct\n",
    "        train_count += len(outputs)\n",
    "#         break\n",
    "\n",
    "    train_accs.append(float(train_acc)/train_count*100)\n",
    "    train_acc = 0\n",
    "    train_count = 0\n",
    "\n",
    "    print(f'Epoch: {epoch}:{index},  Loss:{float(loss)}')\n",
    "    test_count = 0\n",
    "    test_acc = 0\n",
    "    for xx, yy in tqdm(test_loader):\n",
    "        xx, yy = xx.to(device), yy.to(device)\n",
    "        with torch.no_grad():\n",
    "            yout = classifier(model(xx))    \n",
    "        outputs = torch.argmax(yout, dim=1).data.cpu().numpy()\n",
    "        correct = (outputs == yy.data.cpu().numpy()).astype(float).sum()\n",
    "        test_acc += correct\n",
    "        test_count += len(xx)\n",
    "    test_accs.append(float(test_acc)/test_count*100)\n",
    "    print(f'Train Acc:{train_accs[-1]:.2f}%, Test Acc:{test_accs[-1]:.2f}%')\n",
    "    print()\n",
    "\n",
    "### after each class index is finished training\n",
    "print(f'\\t-> Train Acc {max(train_accs)} ; Test Acc {max(test_accs)}')"
   ]
  },
  {
   "cell_type": "code",
   "execution_count": null,
   "metadata": {},
   "outputs": [],
   "source": [
    "## LinearSoftmax\t-> Train Acc 90.44 ; Test Acc 87.58\n",
    "## DistanceSoftmax\t-> Train Acc 93.91833333333334 ; Test Acc 88.97"
   ]
  },
  {
   "cell_type": "code",
   "execution_count": 126,
   "metadata": {},
   "outputs": [
    {
     "data": {
      "text/plain": [
       "tensor(1.0000, device='cuda:0', grad_fn=<SumBackward0>)"
      ]
     },
     "execution_count": 126,
     "metadata": {},
     "output_type": "execute_result"
    }
   ],
   "source": [
    "torch.softmax(classifier.cls_weight, dim=1)[0].sum()"
   ]
  },
  {
   "cell_type": "code",
   "execution_count": 76,
   "metadata": {},
   "outputs": [
    {
     "data": {
      "text/plain": [
       "tensor(-4.4816, device='cuda:0', grad_fn=<SumBackward0>)"
      ]
     },
     "execution_count": 76,
     "metadata": {},
     "output_type": "execute_result"
    }
   ],
   "source": [
    "# classifier.cls_weight[0].sum()"
   ]
  },
  {
   "cell_type": "markdown",
   "metadata": {},
   "source": [
    "### Hard test accuracy with count per classifier"
   ]
  },
  {
   "cell_type": "code",
   "execution_count": 127,
   "metadata": {},
   "outputs": [
    {
     "name": "stderr",
     "output_type": "stream",
     "text": [
      "100%|██████████| 200/200 [00:00<00:00, 552.34it/s]"
     ]
    },
    {
     "name": "stdout",
     "output_type": "stream",
     "text": [
      "Hard Test Acc:88.87%\n",
      "[203, 2, 3, 75, 291, 79, 42, 803, 29, 164, 400, 579, 40, 124, 55, 54, 0, 0, 217, 0, 23, 0, 137, 1, 6, 20, 188, 0, 226, 0, 1, 0, 18, 50, 265, 12, 412, 3, 2, 2, 282, 102, 192, 427, 0, 11, 109, 4, 184, 0, 20, 225, 5, 23, 68, 464, 113, 0, 59, 20, 42, 0, 8, 276, 0, 310, 4, 107, 22, 609, 2, 1, 169, 54, 0, 3, 39, 7, 14, 3, 49, 63, 534, 0, 9, 33, 10, 4, 98, 214, 1, 0, 21, 17, 192, 4, 26, 70, 148, 3]\n"
     ]
    },
    {
     "name": "stderr",
     "output_type": "stream",
     "text": [
      "\n"
     ]
    }
   ],
   "source": [
    "test_count = 0\n",
    "test_acc = 0\n",
    "set_count = torch.zeros(classifier.num_sets).to(device)\n",
    "for xx, yy in tqdm(test_loader):\n",
    "    xx, yy = xx.to(device), yy.to(device)\n",
    "    with torch.no_grad():\n",
    "        yout = classifier(model(xx), hard=True)\n",
    "        set_indx, count = torch.unique(torch.argmax(classifier.cls_confidence, dim=1), return_counts=True) \n",
    "        set_count[set_indx] += count\n",
    "    outputs = torch.argmax(yout, dim=1).data.cpu().numpy()\n",
    "    correct = (outputs == yy.data.cpu().numpy()).astype(float).sum()\n",
    "    test_acc += correct\n",
    "    test_count += len(xx)\n",
    "\n",
    "print(f'Hard Test Acc:{float(test_acc)/test_count*100:.2f}%')\n",
    "print(set_count.type(torch.long).tolist())"
   ]
  },
  {
   "cell_type": "markdown",
   "metadata": {},
   "source": [
    "### Hard train accuracy with count per classifier"
   ]
  },
  {
   "cell_type": "code",
   "execution_count": 128,
   "metadata": {},
   "outputs": [
    {
     "name": "stderr",
     "output_type": "stream",
     "text": [
      "100%|██████████| 1200/1200 [00:01<00:00, 745.66it/s]"
     ]
    },
    {
     "name": "stdout",
     "output_type": "stream",
     "text": [
      "Hard Train Acc:94.22%\n",
      "[1386, 9, 20, 449, 2100, 542, 218, 4756, 208, 946, 2124, 3747, 175, 742, 316, 354, 3, 0, 1400, 1, 180, 0, 788, 3, 23, 165, 1100, 0, 1282, 8, 3, 0, 68, 258, 1600, 64, 2619, 12, 4, 11, 1747, 622, 1135, 2568, 0, 66, 693, 48, 1088, 0, 164, 1278, 29, 127, 413, 2754, 719, 0, 382, 135, 220, 0, 27, 1553, 1, 1837, 28, 666, 110, 3660, 16, 5, 872, 364, 1, 31, 215, 43, 101, 34, 293, 273, 3185, 0, 62, 145, 43, 14, 565, 1227, 3, 0, 107, 139, 1044, 37, 115, 433, 859, 20]\n"
     ]
    },
    {
     "name": "stderr",
     "output_type": "stream",
     "text": [
      "\n"
     ]
    }
   ],
   "source": [
    "test_count = 0\n",
    "test_acc = 0\n",
    "set_count = torch.zeros(classifier.num_sets).to(device)\n",
    "for xx, yy in tqdm(train_loader):\n",
    "    xx, yy = xx.to(device), yy.to(device)\n",
    "    with torch.no_grad():\n",
    "        yout = classifier(model(xx), hard=True)\n",
    "        set_indx, count = torch.unique(torch.argmax(classifier.cls_confidence, dim=1), return_counts=True) \n",
    "        set_count[set_indx] += count\n",
    "    outputs = torch.argmax(yout, dim=1).data.cpu().numpy()\n",
    "    correct = (outputs == yy.data.cpu().numpy()).astype(float).sum()\n",
    "    test_acc += correct\n",
    "    test_count += len(xx)\n",
    "\n",
    "print(f'Hard Train Acc:{float(test_acc)/test_count*100:.2f}%')\n",
    "print(set_count.type(torch.long).tolist())"
   ]
  },
  {
   "cell_type": "code",
   "execution_count": 129,
   "metadata": {},
   "outputs": [
    {
     "data": {
      "text/plain": [
       "tensor(90, device='cuda:0')"
      ]
     },
     "execution_count": 129,
     "metadata": {},
     "output_type": "execute_result"
    }
   ],
   "source": [
    "#### Classifiers that enclose any data\n",
    "torch.count_nonzero(set_count)"
   ]
  },
  {
   "cell_type": "code",
   "execution_count": 130,
   "metadata": {},
   "outputs": [
    {
     "data": {
      "text/plain": [
       "tensor([0, 1, 2, 3, 4, 5, 6, 7, 8, 9, 0, 1, 2, 3, 4, 5, 6, 7, 8, 9, 0, 1, 2, 3,\n",
       "        4, 5, 6, 7, 8, 9, 0, 1, 2, 3, 4, 5, 6, 7, 8, 9, 0, 1, 2, 3, 4, 5, 6, 7,\n",
       "        8, 9, 0, 1, 2, 3, 4, 5, 6, 7, 8, 9, 0, 1, 2, 3, 4, 5, 6, 7, 8, 9, 0, 1,\n",
       "        2, 3, 4, 5, 6, 7, 8, 9, 0, 1, 2, 3, 4, 5, 6, 7, 8, 9, 0, 1, 2, 3, 4, 5,\n",
       "        6, 7, 8, 9], device='cuda:0')"
      ]
     },
     "execution_count": 130,
     "metadata": {},
     "output_type": "execute_result"
    }
   ],
   "source": [
    "#### classifier with class representation\n",
    "torch.argmax(classifier.cls_weight, dim=1)"
   ]
  },
  {
   "cell_type": "code",
   "execution_count": 131,
   "metadata": {},
   "outputs": [],
   "source": [
    "# The class labels are same as that of initialized\n",
    "# tensor([0, 1, 2, 3, 4, 5, 6, 7, 8, 9, 0, 1, 2, 3, 4, 5, 6, 7, 8, 9, 0, 1, 2, 3,\n",
    "#         4, 5, 6, 7, 8, 9, 0, 1, 2, 3, 4, 5, 6, 7, 8, 9, 0, 1, 2, 3, 4, 5, 6, 7,\n",
    "#         8, 9, 0, 1, 2, 3, 4, 5, 6, 7, 8, 9, 0, 1, 2, 3, 4, 5, 6, 7, 8, 9, 0, 1,\n",
    "#         2, 3, 4, 5, 6, 7, 8, 9, 0, 1, 2, 3, 4, 5, 6, 7, 8, 9, 0, 1, 2, 3, 4, 5,\n",
    "#         6, 7, 8, 9], device='cuda:0')"
   ]
  },
  {
   "cell_type": "code",
   "execution_count": 132,
   "metadata": {},
   "outputs": [
    {
     "data": {
      "text/plain": [
       "Parameter containing:\n",
       "tensor([[15.4343, -2.5752, -2.5682, -2.5366, -2.5784, -2.5840, -2.3904, -2.5766,\n",
       "         -2.5715, -2.5801],\n",
       "        [-2.6027, 15.3726, -2.6042, -2.5841, -2.5935, -2.6008, -2.6042, -2.6043,\n",
       "         -2.6027, -2.5945],\n",
       "        [-2.4773, -2.4911, 15.4963, -2.4824, -2.3633, -2.4851, -2.3626, -2.5023,\n",
       "         -2.4834, -2.5012],\n",
       "        [-2.5534, -2.5674, -2.5833, 15.5599, -2.5612, -2.5921, -2.5602, -2.5967,\n",
       "         -2.5961, -2.5909],\n",
       "        [-2.5420, -2.5470, -2.3712, -2.5110, 15.5261, -2.5400, -2.4244, -2.5571,\n",
       "         -2.5331, -2.5470],\n",
       "        [-2.5564, -2.5525, -2.5579, -2.5592, -2.5588, 15.4203, -2.5596, -2.5064,\n",
       "         -2.5450, -2.5383],\n",
       "        [-2.3042, -2.4408, -2.2975, -2.4075, -2.2925, -2.4537, 15.5461, -2.4535,\n",
       "         -2.4328, -2.4592],\n",
       "        [-2.6714, -2.6751, -2.6732, -2.6675, -2.6710, -2.6144, -2.6725, 15.5935,\n",
       "         -2.6630, -2.6189],\n",
       "        [-2.6257, -2.6414, -2.6287, -2.6392, -2.6213, -2.6197, -2.6252, -2.6359,\n",
       "         15.4365, -2.6230],\n",
       "        [-2.6812, -2.6798, -2.6935, -2.6794, -2.6922, -2.6615, -2.6871, -2.6375,\n",
       "         -2.6826, 15.5549],\n",
       "        [15.4885, -2.6091, -2.5999, -2.5776, -2.6122, -2.6122, -2.4205, -2.6170,\n",
       "         -2.6108, -2.6189],\n",
       "        [-2.6746, 15.5263, -2.6778, -2.6648, -2.6779, -2.6830, -2.6817, -2.6793,\n",
       "         -2.6778, -2.6788],\n",
       "        [-2.4998, -2.5224, 15.5404, -2.5097, -2.3848, -2.5196, -2.3852, -2.5203,\n",
       "         -2.5127, -2.5340],\n",
       "        [-2.5283, -2.5418, -2.5621, 15.5291, -2.5359, -2.5793, -2.5356, -2.5691,\n",
       "         -2.5560, -2.5678],\n",
       "        [-2.5286, -2.5319, -2.3825, -2.5093, 15.5039, -2.5416, -2.3985, -2.5418,\n",
       "         -2.5294, -2.5443],\n",
       "        [-2.6168, -2.6114, -2.6138, -2.6144, -2.6225, 15.4730, -2.6178, -2.5707,\n",
       "         -2.6035, -2.5916],\n",
       "        [-2.1169, -2.2766, -2.1448, -2.2284, -2.1450, -2.2840, 15.3117, -2.2971,\n",
       "         -2.2673, -2.2994],\n",
       "        [-2.5759, -2.5701, -2.5681, -2.5616, -2.5734, -2.5142, -2.5626, 15.5001,\n",
       "         -2.5630, -2.5197],\n",
       "        [-2.6404, -2.6504, -2.6426, -2.6476, -2.6436, -2.6376, -2.6420, -2.6426,\n",
       "         15.4490, -2.6438],\n",
       "        [-2.6040, -2.6043, -2.6172, -2.6087, -2.6118, -2.5941, -2.6182, -2.5537,\n",
       "         -2.6032, 15.4318],\n",
       "        [15.4015, -2.5555, -2.5463, -2.5339, -2.5694, -2.5716, -2.3732, -2.5743,\n",
       "         -2.5595, -2.5717],\n",
       "        [-2.6143, 15.4237, -2.6160, -2.6007, -2.6128, -2.6118, -2.6162, -2.6081,\n",
       "         -2.6130, -2.6192],\n",
       "        [-2.4935, -2.5151, 15.5589, -2.5055, -2.3825, -2.5174, -2.3808, -2.5185,\n",
       "         -2.5140, -2.5227],\n",
       "        [-2.4969, -2.5151, -2.5406, 15.5258, -2.5169, -2.5514, -2.5219, -2.5508,\n",
       "         -2.5411, -2.5483],\n",
       "        [-2.4849, -2.4914, -2.3516, -2.4553, 15.4236, -2.5039, -2.3710, -2.5142,\n",
       "         -2.4911, -2.5045],\n",
       "        [-2.6072, -2.5952, -2.6008, -2.6075, -2.6088, 15.4895, -2.5997, -2.5655,\n",
       "         -2.5985, -2.5793],\n",
       "        [-2.3375, -2.4730, -2.3202, -2.4338, -2.3018, -2.4706, 15.5671, -2.4730,\n",
       "         -2.4555, -2.4769],\n",
       "        [-2.5253, -2.5142, -2.5199, -2.5179, -2.5203, -2.4705, -2.5218, 15.4293,\n",
       "         -2.5040, -2.4639],\n",
       "        [-2.6464, -2.6519, -2.6484, -2.6487, -2.6505, -2.6411, -2.6401, -2.6514,\n",
       "         15.4394, -2.6486],\n",
       "        [-2.6002, -2.5991, -2.6028, -2.6005, -2.5977, -2.5755, -2.6037, -2.5493,\n",
       "         -2.5929, 15.3473],\n",
       "        [15.3482, -2.5142, -2.5068, -2.4870, -2.5221, -2.5213, -2.3285, -2.5215,\n",
       "         -2.5074, -2.5168],\n",
       "        [-2.5781, 15.3586, -2.5900, -2.5719, -2.5911, -2.5868, -2.5837, -2.5811,\n",
       "         -2.5829, -2.5885],\n",
       "        [-2.4809, -2.5012, 15.4987, -2.4969, -2.3691, -2.5044, -2.3748, -2.5115,\n",
       "         -2.5113, -2.5158],\n",
       "        [-2.5575, -2.5773, -2.6021, 15.5968, -2.5821, -2.6051, -2.5753, -2.6061,\n",
       "         -2.6068, -2.6008],\n",
       "        [-2.5592, -2.5687, -2.4038, -2.5292, 15.5171, -2.5657, -2.4402, -2.5728,\n",
       "         -2.5613, -2.5778],\n",
       "        [-2.6200, -2.6159, -2.6121, -2.6244, -2.6182, 15.4922, -2.6129, -2.5830,\n",
       "         -2.6125, -2.5943],\n",
       "        [-2.3088, -2.4653, -2.3287, -2.4368, -2.3349, -2.4733, 15.5880, -2.4871,\n",
       "         -2.4548, -2.4829],\n",
       "        [-2.6094, -2.6120, -2.6057, -2.6145, -2.6160, -2.5590, -2.6134, 15.5802,\n",
       "         -2.5975, -2.5558],\n",
       "        [-2.5582, -2.5626, -2.5574, -2.5591, -2.5628, -2.5614, -2.5524, -2.5665,\n",
       "         15.3105, -2.5538],\n",
       "        [-2.5493, -2.5397, -2.5545, -2.5344, -2.5480, -2.5133, -2.5415, -2.4881,\n",
       "         -2.5370, 15.2803],\n",
       "        [15.4826, -2.6057, -2.5956, -2.5697, -2.6028, -2.6198, -2.4412, -2.6191,\n",
       "         -2.6088, -2.6104],\n",
       "        [-2.6334, 15.4822, -2.6305, -2.6276, -2.6471, -2.6406, -2.6376, -2.6401,\n",
       "         -2.6411, -2.6402],\n",
       "        [-2.5268, -2.5397, 15.5929, -2.5376, -2.4192, -2.5514, -2.4239, -2.5503,\n",
       "         -2.5437, -2.5461],\n",
       "        [-2.5897, -2.6011, -2.6216, 15.6293, -2.5911, -2.6362, -2.6015, -2.6364,\n",
       "         -2.6353, -2.6241],\n",
       "        [-2.4518, -2.4433, -2.2852, -2.3978, 15.3489, -2.4545, -2.3120, -2.4538,\n",
       "         -2.4397, -2.4486],\n",
       "        [-2.5794, -2.5765, -2.5748, -2.5789, -2.5831, 15.4240, -2.5810, -2.5350,\n",
       "         -2.5753, -2.5601],\n",
       "        [-2.3279, -2.4619, -2.3264, -2.4282, -2.3140, -2.4655, 15.5587, -2.4626,\n",
       "         -2.4385, -2.4761],\n",
       "        [-2.6006, -2.6041, -2.6029, -2.5968, -2.6092, -2.5505, -2.6013, 15.5700,\n",
       "         -2.5990, -2.5524],\n",
       "        [-2.6059, -2.6153, -2.6125, -2.6141, -2.6182, -2.6106, -2.6067, -2.6056,\n",
       "         15.4565, -2.6129],\n",
       "        [-2.5156, -2.5168, -2.5243, -2.5202, -2.5220, -2.4999, -2.5242, -2.4604,\n",
       "         -2.5141, 15.2615],\n",
       "        [15.3741, -2.5494, -2.5370, -2.5169, -2.5545, -2.5573, -2.3619, -2.5622,\n",
       "         -2.5448, -2.5468],\n",
       "        [-2.7011, 15.5416, -2.7030, -2.6851, -2.7035, -2.7008, -2.7015, -2.7047,\n",
       "         -2.7028, -2.7105],\n",
       "        [-2.4860, -2.4972, 15.5383, -2.5061, -2.3840, -2.5109, -2.3793, -2.5160,\n",
       "         -2.5098, -2.5168],\n",
       "        [-2.5244, -2.5329, -2.5548, 15.5533, -2.5285, -2.5541, -2.5321, -2.5617,\n",
       "         -2.5624, -2.5604],\n",
       "        [-2.5563, -2.5706, -2.4107, -2.5259, 15.5366, -2.5731, -2.4419, -2.5699,\n",
       "         -2.5556, -2.5747],\n",
       "        [-2.6596, -2.6585, -2.6719, -2.6736, -2.6754, 15.5798, -2.6629, -2.6181,\n",
       "         -2.6654, -2.6526],\n",
       "        [-2.2921, -2.4635, -2.3318, -2.4226, -2.3324, -2.4674, 15.5648, -2.4757,\n",
       "         -2.4497, -2.4757],\n",
       "        [-2.5538, -2.5496, -2.5537, -2.5537, -2.5541, -2.5000, -2.5648, 15.5260,\n",
       "         -2.5447, -2.4863],\n",
       "        [-2.6377, -2.6541, -2.6502, -2.6555, -2.6545, -2.6442, -2.6425, -2.6559,\n",
       "         15.4443, -2.6492],\n",
       "        [-2.6192, -2.6106, -2.6179, -2.6154, -2.6160, -2.5989, -2.6286, -2.5690,\n",
       "         -2.6154, 15.4205],\n",
       "        [15.4181, -2.5564, -2.5362, -2.5168, -2.5589, -2.5610, -2.3598, -2.5582,\n",
       "         -2.5602, -2.5560],\n",
       "        [-2.5662, 15.3181, -2.5812, -2.5573, -2.5737, -2.5822, -2.5717, -2.5769,\n",
       "         -2.5781, -2.5765],\n",
       "        [-2.4547, -2.4721, 15.4484, -2.4725, -2.3351, -2.4781, -2.3360, -2.4834,\n",
       "         -2.4728, -2.4797],\n",
       "        [-2.5502, -2.5688, -2.5845, 15.6140, -2.5609, -2.5984, -2.5651, -2.6036,\n",
       "         -2.5994, -2.6048],\n",
       "        [-2.4552, -2.4626, -2.2950, -2.4158, 15.3781, -2.4715, -2.3334, -2.4686,\n",
       "         -2.4517, -2.4765],\n",
       "        [-2.6525, -2.6494, -2.6483, -2.6522, -2.6542, 15.5611, -2.6497, -2.6113,\n",
       "         -2.6442, -2.6249],\n",
       "        [-2.2611, -2.4146, -2.2667, -2.3751, -2.2794, -2.4247, 15.5091, -2.4264,\n",
       "         -2.3981, -2.4231],\n",
       "        [-2.6310, -2.6237, -2.6240, -2.6190, -2.6170, -2.5723, -2.6263, 15.6257,\n",
       "         -2.6107, -2.5693],\n",
       "        [-2.5952, -2.6029, -2.5991, -2.5944, -2.6020, -2.5921, -2.5921, -2.5983,\n",
       "         15.3920, -2.5960],\n",
       "        [-2.7240, -2.7241, -2.7271, -2.7252, -2.7248, -2.7088, -2.7306, -2.6819,\n",
       "         -2.7208, 15.5340],\n",
       "        [15.3032, -2.4992, -2.4918, -2.4643, -2.4998, -2.5052, -2.3060, -2.5108,\n",
       "         -2.5001, -2.5042],\n",
       "        [-2.5758, 15.3586, -2.5787, -2.5703, -2.5831, -2.5840, -2.5841, -2.5929,\n",
       "         -2.5864, -2.5784],\n",
       "        [-2.5244, -2.5371, 15.5784, -2.5332, -2.4041, -2.5487, -2.4152, -2.5423,\n",
       "         -2.5367, -2.5489],\n",
       "        [-2.5059, -2.5198, -2.5397, 15.5454, -2.5190, -2.5512, -2.5197, -2.5489,\n",
       "         -2.5447, -2.5436],\n",
       "        [-2.5037, -2.5097, -2.3394, -2.4695, 15.4324, -2.5108, -2.3769, -2.5202,\n",
       "         -2.5090, -2.5200],\n",
       "        [-2.6196, -2.6214, -2.6271, -2.6227, -2.6249, 15.4852, -2.6269, -2.5884,\n",
       "         -2.6226, -2.6071],\n",
       "        [-2.2657, -2.4302, -2.2935, -2.3837, -2.2970, -2.4364, 15.5315, -2.4318,\n",
       "         -2.4100, -2.4354],\n",
       "        [-2.6267, -2.6188, -2.6198, -2.6143, -2.6142, -2.5730, -2.6216, 15.6174,\n",
       "         -2.6114, -2.5599],\n",
       "        [-2.6215, -2.6279, -2.6268, -2.6248, -2.6305, -2.6278, -2.6186, -2.6229,\n",
       "         15.4382, -2.6239],\n",
       "        [-2.6222, -2.6132, -2.6287, -2.6140, -2.6263, -2.6013, -2.6208, -2.5687,\n",
       "         -2.6182, 15.4229],\n",
       "        [15.3775, -2.5364, -2.5279, -2.5040, -2.5509, -2.5565, -2.3465, -2.5523,\n",
       "         -2.5442, -2.5497],\n",
       "        [-2.6566, 15.4922, -2.6629, -2.6560, -2.6611, -2.6671, -2.6586, -2.6612,\n",
       "         -2.6660, -2.6678],\n",
       "        [-2.5460, -2.5574, 15.6061, -2.5525, -2.4258, -2.5658, -2.4135, -2.5756,\n",
       "         -2.5493, -2.5711],\n",
       "        [-2.4655, -2.4890, -2.5018, 15.4530, -2.4810, -2.5108, -2.4812, -2.5178,\n",
       "         -2.5151, -2.5180],\n",
       "        [-2.5158, -2.5197, -2.3566, -2.4765, 15.4869, -2.5308, -2.3838, -2.5280,\n",
       "         -2.5171, -2.5263],\n",
       "        [-2.5781, -2.5818, -2.5854, -2.5681, -2.5870, 15.4429, -2.5723, -2.5389,\n",
       "         -2.5811, -2.5467],\n",
       "        [-2.2668, -2.4299, -2.2861, -2.3904, -2.2794, -2.4291, 15.5291, -2.4399,\n",
       "         -2.4059, -2.4380],\n",
       "        [-2.6005, -2.5869, -2.5999, -2.5993, -2.5993, -2.5564, -2.6103, 15.5879,\n",
       "         -2.5954, -2.5447],\n",
       "        [-2.6101, -2.6127, -2.6163, -2.6125, -2.6114, -2.6135, -2.6054, -2.6106,\n",
       "         15.4054, -2.6125],\n",
       "        [-2.6404, -2.6374, -2.6509, -2.6419, -2.6400, -2.6197, -2.6462, -2.5899,\n",
       "         -2.6471, 15.4599],\n",
       "        [15.3334, -2.5326, -2.5283, -2.4978, -2.5398, -2.5300, -2.3416, -2.5513,\n",
       "         -2.5307, -2.5302],\n",
       "        [-2.5947, 15.3022, -2.5996, -2.5827, -2.6000, -2.6037, -2.6041, -2.6034,\n",
       "         -2.5995, -2.5994],\n",
       "        [-2.4947, -2.5193, 15.5378, -2.5052, -2.3778, -2.5234, -2.3732, -2.5185,\n",
       "         -2.5048, -2.5277],\n",
       "        [-2.5217, -2.5283, -2.5511, 15.5383, -2.5238, -2.5615, -2.5300, -2.5580,\n",
       "         -2.5563, -2.5545],\n",
       "        [-2.5796, -2.5801, -2.4211, -2.5323, 15.5148, -2.5807, -2.4533, -2.5881,\n",
       "         -2.5762, -2.5854],\n",
       "        [-2.5954, -2.5914, -2.5971, -2.6033, -2.5944, 15.4586, -2.6013, -2.5586,\n",
       "         -2.5848, -2.5718],\n",
       "        [-2.2646, -2.4253, -2.2753, -2.3802, -2.2821, -2.4380, 15.5322, -2.4372,\n",
       "         -2.4045, -2.4230],\n",
       "        [-2.6201, -2.6262, -2.6322, -2.6212, -2.6227, -2.5786, -2.6270, 15.6214,\n",
       "         -2.6192, -2.5616],\n",
       "        [-2.6236, -2.6482, -2.6304, -2.6434, -2.6370, -2.6342, -2.6248, -2.6359,\n",
       "         15.3951, -2.6401],\n",
       "        [-2.5836, -2.5829, -2.5842, -2.5819, -2.5749, -2.5615, -2.5820, -2.5237,\n",
       "         -2.5677, 15.3497]], device='cuda:0', requires_grad=True)"
      ]
     },
     "execution_count": 132,
     "metadata": {},
     "output_type": "execute_result"
    }
   ],
   "source": [
    "classifier.cls_weight"
   ]
  },
  {
   "cell_type": "code",
   "execution_count": 133,
   "metadata": {},
   "outputs": [],
   "source": [
    "# torch.unique(torch.argmax(classifier.cls_confidence, dim=1), return_counts=True)"
   ]
  },
  {
   "cell_type": "code",
   "execution_count": 134,
   "metadata": {},
   "outputs": [
    {
     "data": {
      "text/plain": [
       "Parameter containing:\n",
       "tensor([12.8763], device='cuda:0', requires_grad=True)"
      ]
     },
     "execution_count": 134,
     "metadata": {},
     "output_type": "execute_result"
    }
   ],
   "source": [
    "classifier.inv_temp"
   ]
  },
  {
   "cell_type": "code",
   "execution_count": 135,
   "metadata": {},
   "outputs": [
    {
     "data": {
      "text/plain": [
       "tensor([1.4948e-08, 1.4584e-08, 1.4847e-08, 1.4654e-08, 1.4749e-08, 1.4790e-08,\n",
       "        1.4930e-08, 1.4765e-08, 1.0000e+00, 1.4702e-08], device='cuda:0')"
      ]
     },
     "execution_count": 135,
     "metadata": {},
     "output_type": "execute_result"
    }
   ],
   "source": [
    "### example output per classifier\n",
    "yout[5]"
   ]
  },
  {
   "cell_type": "code",
   "execution_count": null,
   "metadata": {},
   "outputs": [],
   "source": [
    "asdfsdf ## to break the code"
   ]
  },
  {
   "cell_type": "markdown",
   "metadata": {},
   "source": [
    "### analyze per classifier accuracy"
   ]
  },
  {
   "cell_type": "code",
   "execution_count": 136,
   "metadata": {},
   "outputs": [
    {
     "name": "stderr",
     "output_type": "stream",
     "text": [
      "100%|██████████| 1200/1200 [00:03<00:00, 338.48it/s]"
     ]
    },
    {
     "name": "stdout",
     "output_type": "stream",
     "text": [
      "Hard Train Acc:94.20%\n",
      "[1423, 8, 24, 431, 2139, 560, 200, 4761, 222, 964, 2139, 3743, 164, 776, 304, 336, 4, 0, 1404, 4, 189, 0, 791, 0, 23, 167, 1091, 0, 1267, 11, 1, 0, 64, 286, 1590, 66, 2641, 17, 6, 8, 1686, 617, 1095, 2522, 0, 67, 696, 52, 1089, 0, 138, 1283, 15, 129, 383, 2726, 714, 2, 413, 129, 233, 0, 34, 1555, 0, 1839, 22, 674, 98, 3696, 17, 6, 858, 367, 3, 28, 222, 37, 101, 39, 299, 290, 3252, 0, 65, 145, 50, 15, 574, 1167, 3, 0, 126, 137, 1043, 45, 103, 431, 830, 16]\n"
     ]
    },
    {
     "name": "stderr",
     "output_type": "stream",
     "text": [
      "\n"
     ]
    }
   ],
   "source": [
    "test_count = 0\n",
    "test_acc = 0\n",
    "set_count = torch.zeros(classifier.num_sets).to(device)\n",
    "set_acc = torch.zeros(classifier.num_sets).to(device)\n",
    "for xx, yy in tqdm(train_loader):\n",
    "    xx, yy = xx.to(device), yy.to(device)\n",
    "    with torch.no_grad():\n",
    "        yout = classifier(model(xx), hard=True)\n",
    "        \n",
    "    cls_indx = torch.argmax(classifier.cls_confidence, dim=1)\n",
    "    set_indx, count = torch.unique(cls_indx, return_counts=True) \n",
    "    set_count[set_indx] += count\n",
    "    \n",
    "    outputs = torch.argmax(yout, dim=1).data.cpu().numpy()\n",
    "    correct = (outputs == yy.data.cpu().numpy()).astype(float)\n",
    "    \n",
    "    ### class_index has 100 possible values\n",
    "    for i, c in enumerate(correct):\n",
    "        set_acc[cls_indx[i]] += c\n",
    "    \n",
    "#     print(set_acc.sum(), set_count.sum())\n",
    "#     break\n",
    "    test_acc += correct.sum()\n",
    "    test_count += len(xx)\n",
    "\n",
    "print(f'Hard Train Acc:{float(test_acc)/test_count*100:.2f}%')\n",
    "print(set_count.type(torch.long).tolist())"
   ]
  },
  {
   "cell_type": "code",
   "execution_count": 137,
   "metadata": {},
   "outputs": [
    {
     "data": {
      "text/plain": [
       "tensor([0.9452, 0.8750, 0.9583, 0.9211, 0.9158, 0.9982, 0.8650, 0.9853, 0.9775,\n",
       "        0.9948, 0.8672, 0.9989, 0.8293, 0.8235, 0.9309, 0.9940, 0.7500,    nan,\n",
       "        0.9957, 1.0000, 0.9524,    nan, 0.9039,    nan, 0.9565, 1.0000, 0.7562,\n",
       "           nan, 0.9897, 0.9091, 1.0000,    nan, 0.7031, 0.9126, 0.9220, 0.9848,\n",
       "        0.9023, 0.9412, 1.0000, 1.0000, 0.9419, 0.9984, 0.9461, 0.9623,    nan,\n",
       "        1.0000, 0.9210, 1.0000, 0.9917,    nan, 0.9203, 0.9977, 0.8000, 0.8527,\n",
       "        0.9399, 0.9938, 0.8151, 1.0000, 0.9831, 0.9922, 0.9185,    nan, 0.5000,\n",
       "        0.9350,    nan, 0.9956, 0.9091, 0.9614, 1.0000, 0.9811, 0.9412, 1.0000,\n",
       "        0.7401, 0.9619, 0.3333, 1.0000, 0.9414, 1.0000, 0.9307, 1.0000, 0.8060,\n",
       "        0.9966, 0.8598,    nan, 0.9692, 1.0000, 0.7800, 0.9333, 1.0000, 0.9709,\n",
       "        1.0000,    nan, 0.7302, 0.9562, 0.8897, 1.0000, 0.8155, 0.9536, 0.9892,\n",
       "        1.0000], device='cuda:0')"
      ]
     },
     "execution_count": 137,
     "metadata": {},
     "output_type": "execute_result"
    }
   ],
   "source": [
    "set_acc/set_count"
   ]
  },
  {
   "cell_type": "code",
   "execution_count": 138,
   "metadata": {},
   "outputs": [
    {
     "name": "stdout",
     "output_type": "stream",
     "text": [
      "0,\t 1423,\t 0\t 94.52%\n",
      "1,\t 8,\t 1\t 87.50%\n",
      "2,\t 24,\t 2\t 95.83%\n",
      "3,\t 431,\t 3\t 92.11%\n",
      "4,\t 2139,\t 4\t 91.58%\n",
      "5,\t 560,\t 5\t 99.82%\n",
      "6,\t 200,\t 6\t 86.50%\n",
      "7,\t 4761,\t 7\t 98.53%\n",
      "8,\t 222,\t 8\t 97.75%\n",
      "9,\t 964,\t 9\t 99.48%\n",
      "10,\t 2139,\t 0\t 86.72%\n",
      "11,\t 3743,\t 1\t 99.89%\n",
      "12,\t 164,\t 2\t 82.93%\n",
      "13,\t 776,\t 3\t 82.35%\n",
      "14,\t 304,\t 4\t 93.09%\n",
      "15,\t 336,\t 5\t 99.40%\n",
      "16,\t 4,\t 6\t 75.00%\n",
      "18,\t 1404,\t 8\t 99.57%\n",
      "19,\t 4,\t 9\t 100.00%\n",
      "20,\t 189,\t 0\t 95.24%\n",
      "22,\t 791,\t 2\t 90.39%\n",
      "24,\t 23,\t 4\t 95.65%\n",
      "25,\t 167,\t 5\t 100.00%\n",
      "26,\t 1091,\t 6\t 75.62%\n",
      "28,\t 1267,\t 8\t 98.97%\n",
      "29,\t 11,\t 9\t 90.91%\n",
      "30,\t 1,\t 0\t 100.00%\n",
      "32,\t 64,\t 2\t 70.31%\n",
      "33,\t 286,\t 3\t 91.26%\n",
      "34,\t 1590,\t 4\t 92.20%\n",
      "35,\t 66,\t 5\t 98.48%\n",
      "36,\t 2641,\t 6\t 90.23%\n",
      "37,\t 17,\t 7\t 94.12%\n",
      "38,\t 6,\t 8\t 100.00%\n",
      "39,\t 8,\t 9\t 100.00%\n",
      "40,\t 1686,\t 0\t 94.19%\n",
      "41,\t 617,\t 1\t 99.84%\n",
      "42,\t 1095,\t 2\t 94.61%\n",
      "43,\t 2522,\t 3\t 96.23%\n",
      "45,\t 67,\t 5\t 100.00%\n",
      "46,\t 696,\t 6\t 92.10%\n",
      "47,\t 52,\t 7\t 100.00%\n",
      "48,\t 1089,\t 8\t 99.17%\n",
      "50,\t 138,\t 0\t 92.03%\n",
      "51,\t 1283,\t 1\t 99.77%\n",
      "52,\t 15,\t 2\t 80.00%\n",
      "53,\t 129,\t 3\t 85.27%\n",
      "54,\t 383,\t 4\t 93.99%\n",
      "55,\t 2726,\t 5\t 99.38%\n",
      "56,\t 714,\t 6\t 81.51%\n",
      "57,\t 2,\t 7\t 100.00%\n",
      "58,\t 413,\t 8\t 98.31%\n",
      "59,\t 129,\t 9\t 99.22%\n",
      "60,\t 233,\t 0\t 91.85%\n",
      "62,\t 34,\t 2\t 50.00%\n",
      "63,\t 1555,\t 3\t 93.50%\n",
      "65,\t 1839,\t 5\t 99.56%\n",
      "66,\t 22,\t 6\t 90.91%\n",
      "67,\t 674,\t 7\t 96.14%\n",
      "68,\t 98,\t 8\t 100.00%\n",
      "69,\t 3696,\t 9\t 98.11%\n",
      "70,\t 17,\t 0\t 94.12%\n",
      "71,\t 6,\t 1\t 100.00%\n",
      "72,\t 858,\t 2\t 74.01%\n",
      "73,\t 367,\t 3\t 96.19%\n",
      "74,\t 3,\t 4\t 33.33%\n",
      "75,\t 28,\t 5\t 100.00%\n",
      "76,\t 222,\t 6\t 94.14%\n",
      "77,\t 37,\t 7\t 100.00%\n",
      "78,\t 101,\t 8\t 93.07%\n",
      "79,\t 39,\t 9\t 100.00%\n",
      "80,\t 299,\t 0\t 80.60%\n",
      "81,\t 290,\t 1\t 99.66%\n",
      "82,\t 3252,\t 2\t 85.98%\n",
      "84,\t 65,\t 4\t 96.92%\n",
      "85,\t 145,\t 5\t 100.00%\n",
      "86,\t 50,\t 6\t 78.00%\n",
      "87,\t 15,\t 7\t 93.33%\n",
      "88,\t 574,\t 8\t 100.00%\n",
      "89,\t 1167,\t 9\t 97.09%\n",
      "90,\t 3,\t 0\t 100.00%\n",
      "92,\t 126,\t 2\t 73.02%\n",
      "93,\t 137,\t 3\t 95.62%\n",
      "94,\t 1043,\t 4\t 88.97%\n",
      "95,\t 45,\t 5\t 100.00%\n",
      "96,\t 103,\t 6\t 81.55%\n",
      "97,\t 431,\t 7\t 95.36%\n",
      "98,\t 830,\t 8\t 98.92%\n",
      "99,\t 16,\t 9\t 100.00%\n"
     ]
    }
   ],
   "source": [
    "for i, (cnt, acc, cls) in enumerate(zip(set_count.type(torch.long).tolist(),\n",
    "                                   (set_acc/set_count).tolist(),\n",
    "                                   torch.argmax(classifier.cls_weight, dim=1).tolist())):\n",
    "    if cnt == 0: continue\n",
    "    print(f\"{i},\\t {cnt},\\t {cls}\\t {acc*100:.2f}%\")"
   ]
  },
  {
   "cell_type": "code",
   "execution_count": null,
   "metadata": {},
   "outputs": [],
   "source": []
  }
 ],
 "metadata": {
  "kernelspec": {
   "display_name": "Python 3",
   "language": "python",
   "name": "python3"
  },
  "language_info": {
   "codemirror_mode": {
    "name": "ipython",
    "version": 3
   },
   "file_extension": ".py",
   "mimetype": "text/x-python",
   "name": "python",
   "nbconvert_exporter": "python",
   "pygments_lexer": "ipython3",
   "version": "3.8.5"
  }
 },
 "nbformat": 4,
 "nbformat_minor": 4
}
