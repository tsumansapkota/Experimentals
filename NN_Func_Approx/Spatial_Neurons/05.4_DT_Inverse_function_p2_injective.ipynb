{
 "cells": [
  {
   "cell_type": "code",
   "execution_count": 1,
   "metadata": {},
   "outputs": [],
   "source": [
    "import numpy as np\n",
    "import matplotlib.pyplot as plt\n",
    "%matplotlib inline\n",
    "from mpl_toolkits.mplot3d import Axes3D\n",
    "\n",
    "import torch\n",
    "import torch.nn as nn\n",
    "import torch.nn.functional as F\n",
    "import torch.optim as optim\n",
    "from torch.utils import data\n",
    "\n",
    "import random, os, pathlib, time\n",
    "from tqdm import tqdm\n",
    "from sklearn import datasets"
   ]
  },
  {
   "cell_type": "code",
   "execution_count": 2,
   "metadata": {},
   "outputs": [],
   "source": [
    "device = torch.device(\"cuda:0\")\n",
    "# device = torch.device(\"cpu\")"
   ]
  },
  {
   "cell_type": "markdown",
   "metadata": {},
   "source": [
    "## MNIST dataset"
   ]
  },
  {
   "cell_type": "code",
   "execution_count": 3,
   "metadata": {},
   "outputs": [],
   "source": [
    "import mylibrary.datasets as datasets\n",
    "import mylibrary.nnlib as tnn"
   ]
  },
  {
   "cell_type": "code",
   "execution_count": 4,
   "metadata": {},
   "outputs": [],
   "source": [
    "mnist = datasets.FashionMNIST()\n",
    "# mnist.download_mnist()\n",
    "# mnist.save_mnist()\n",
    "train_data, train_label_, test_data, test_label_ = mnist.load()\n",
    "\n",
    "train_data = train_data / 255.\n",
    "test_data = test_data / 255.\n",
    "\n",
    "# train_label = tnn.Logits.index_to_logit(train_label_)\n",
    "train_size = len(train_label_)"
   ]
  },
  {
   "cell_type": "code",
   "execution_count": 5,
   "metadata": {},
   "outputs": [],
   "source": [
    "## converting data to pytorch format\n",
    "train_data = torch.Tensor(train_data)\n",
    "test_data = torch.Tensor(test_data)\n",
    "train_label = torch.LongTensor(train_label_)\n",
    "test_label = torch.LongTensor(test_label_)"
   ]
  },
  {
   "cell_type": "code",
   "execution_count": 6,
   "metadata": {},
   "outputs": [],
   "source": [
    "input_size = 784\n",
    "output_size = 10"
   ]
  },
  {
   "cell_type": "code",
   "execution_count": 7,
   "metadata": {},
   "outputs": [],
   "source": [
    "class MNIST_Dataset(data.Dataset):\n",
    "    \n",
    "    def __init__(self, data, label):\n",
    "        self.data = data\n",
    "        self.label = label\n",
    "        \n",
    "    def __len__(self):\n",
    "        return len(self.data)\n",
    "    \n",
    "    def __getitem__(self, idx):\n",
    "#         print(idx)\n",
    "        img, lbl = self.data[idx], self.label[idx]\n",
    "        return img, lbl"
   ]
  },
  {
   "cell_type": "code",
   "execution_count": 8,
   "metadata": {},
   "outputs": [],
   "source": [
    "train_dataset = MNIST_Dataset(train_data, train_label)\n",
    "test_dataset = MNIST_Dataset(test_data, test_label)"
   ]
  },
  {
   "cell_type": "code",
   "execution_count": 9,
   "metadata": {},
   "outputs": [],
   "source": [
    "batch_size = 50\n",
    "train_loader = data.DataLoader(dataset=train_dataset,\n",
    "                                    num_workers=4, \n",
    "                                    batch_size=batch_size, \n",
    "                                    shuffle=True)\n",
    "\n",
    "test_loader = data.DataLoader(dataset=test_dataset,\n",
    "                                    num_workers=1, \n",
    "                                    batch_size=batch_size, \n",
    "                                    shuffle=False)"
   ]
  },
  {
   "cell_type": "code",
   "execution_count": 460,
   "metadata": {},
   "outputs": [],
   "source": [
    "class DistanceTransform(nn.Module):\n",
    "    \n",
    "    def __init__(self, input_dim, num_centers, p=2):\n",
    "        super().__init__()\n",
    "        self.input_dim = input_dim\n",
    "        self.num_centers = num_centers\n",
    "        self.p = p\n",
    "        \n",
    "        self.centers = torch.randn(num_centers, input_dim)/3.\n",
    "#         self.centers = torch.rand(num_centers, input_dim)\n",
    "        self.centers = nn.Parameter(self.centers)\n",
    "        self.inv_params = None\n",
    "    \n",
    "    def forward(self, x):\n",
    "        dists = torch.cdist(x, self.centers, p=self.p)\n",
    "        \n",
    "        ### normalize similar to UMAP\n",
    "#         dists = dists-dists.min(dim=1, keepdim=True)[0]\n",
    "#         dists = dists-dists.mean(dim=1, keepdim=True)\n",
    "#         dists = dists/dists.std(dim=1, keepdim=True)\n",
    "\n",
    "        return dists\n",
    "    \n",
    "    def set_centroid_to_data_randomly(self, data_loader):\n",
    "        indices = np.random.permutation(len(data_loader.dataset.data))[:self.centers.shape[0]]\n",
    "        self.centers.data = data_loader.dataset.data[indices].to(self.centers.device)\n",
    "        self.centers.data += torch.randn_like(self.centers)*0.01\n",
    "        pass\n",
    "    \n",
    "    def set_centroid_to_data_maxdist(self, data_loader):\n",
    "        ## sample N points\n",
    "        N = self.centers.shape[0]\n",
    "        new_center = torch.empty_like(self.centers)\n",
    "        min_dists = torch.empty(N)\n",
    "        count = 0\n",
    "        for i, (xx, _) in enumerate(tqdm(data_loader)):\n",
    "            if count < N:\n",
    "                if N-count < batch_size:\n",
    "                    #### final fillup\n",
    "                    new_center[count:count+N-count] = xx[:N-count]\n",
    "                    xx = xx[N-count:]\n",
    "                    dists = torch.cdist(new_center, new_center)+torch.eye(N)*1e5\n",
    "                    min_dists = dists.min(dim=0)[0]\n",
    "                    count = N\n",
    "\n",
    "                else:#### fill the center\n",
    "                    new_center[count:count+len(xx)] = xx\n",
    "                    count += len(xx)\n",
    "                    continue\n",
    "\n",
    "            ammd = min_dists.argmin()\n",
    "            for i, x in enumerate(xx):\n",
    "                dists = torch.norm(new_center-x, dim=1)\n",
    "                md = dists.min()\n",
    "                if md > min_dists[ammd]:\n",
    "                    min_dists[ammd] = md\n",
    "                    new_center[ammd] = x\n",
    "                    ammd = min_dists.argmin()\n",
    "        self.centers.data = new_center.to(self.centers.device)\n",
    "        pass\n",
    "        \n",
    "    \n",
    "    def set_centroid_to_data(self, data_loader):\n",
    "        new_center = self.centers.data.clone()\n",
    "        min_dists = torch.ones(self.centers.shape[0])*1e9\n",
    "\n",
    "        for xx, _ in data_loader:\n",
    "\n",
    "            dists = torch.cdist(xx, self.centers.data)\n",
    "            ### min dist of each center to the data points\n",
    "            min_d, arg_md = dists.min(dim=0)\n",
    "\n",
    "            ### dont allow same point to be assigned as closest to multiple centroid\n",
    "            occupied = []\n",
    "            for i in np.random.permutation(len(arg_md)):\n",
    "        #     for i, ind in enumerate(arg_md):\n",
    "                ind = arg_md[i]\n",
    "                if ind in occupied:\n",
    "                    min_d[i] = min_dists[i]\n",
    "                    arg_md[i] = -1\n",
    "                else:\n",
    "                    occupied.append(ind)\n",
    "\n",
    "            ### the index of centroids that have new min_dist\n",
    "            idx = torch.nonzero(min_d<min_dists).reshape(-1)\n",
    "\n",
    "            ### assign new_center to the nearest data point\n",
    "            new_center[idx] = xx[arg_md[idx]]\n",
    "            min_dists[idx] = min_d[idx]\n",
    "            \n",
    "        self.centers.data = new_center.to(self.centers.device)\n",
    "        pass\n",
    "    \n",
    "    def compute_inverse_matrix(self):\n",
    "        A = 2*(self.centers.data[1:]-self.centers.data[:-1])\n",
    "        \n",
    "        c2 = self.centers.data**2\n",
    "        Z = (c2[:-1]-c2[1:]).sum(dim=1, keepdim=True)\n",
    "        \n",
    "        invA = torch.pinverse(A)\n",
    "        \n",
    "        self.inv_params = (invA, Z)\n",
    "        \n",
    "    def inverse(self, dists):\n",
    "        assert invA is not None\n",
    "        \n",
    "        d2 = dists**2\n",
    "        D = d2[:, :-1]-d2[:, 1:]\n",
    "\n",
    "        invA, Z = self.inv_params\n",
    "        xrec = torch.matmul(invA, D.t()-Z).t()\n",
    "        return xrec"
   ]
  },
  {
   "cell_type": "code",
   "execution_count": 11,
   "metadata": {},
   "outputs": [],
   "source": [
    "class EMA(object):\n",
    "\n",
    "    def __init__(self, momentum=0.1, mu=None):\n",
    "        self.mu = mu\n",
    "        self.momentum = momentum\n",
    "\n",
    "    def __call__(self, x):\n",
    "        if self.mu is None:\n",
    "            self.mu = x\n",
    "        self.mu = self.momentum*self.mu + (1.0 - self.momentum)*x\n",
    "        return self.mu"
   ]
  },
  {
   "cell_type": "markdown",
   "metadata": {},
   "source": [
    "## Inverse function programming"
   ]
  },
  {
   "cell_type": "code",
   "execution_count": 368,
   "metadata": {},
   "outputs": [],
   "source": [
    "indices = np.random.permutation(len(test_loader.dataset.data))[:50]\n",
    "xx, yy = test_loader.dataset[indices]"
   ]
  },
  {
   "cell_type": "code",
   "execution_count": 369,
   "metadata": {},
   "outputs": [
    {
     "data": {
      "text/plain": [
       "tensor([[0., 0., 0.,  ..., 0., 0., 0.],\n",
       "        [0., 0., 0.,  ..., 0., 0., 0.],\n",
       "        [0., 0., 0.,  ..., 0., 0., 0.],\n",
       "        ...,\n",
       "        [0., 0., 0.,  ..., 0., 0., 0.],\n",
       "        [0., 0., 0.,  ..., 0., 0., 0.],\n",
       "        [0., 0., 0.,  ..., 0., 0., 0.]])"
      ]
     },
     "execution_count": 369,
     "metadata": {},
     "output_type": "execute_result"
    }
   ],
   "source": [
    "xx"
   ]
  },
  {
   "cell_type": "code",
   "execution_count": 418,
   "metadata": {},
   "outputs": [
    {
     "data": {
      "text/plain": [
       "DistanceTransform()"
      ]
     },
     "execution_count": 418,
     "metadata": {},
     "output_type": "execute_result"
    }
   ],
   "source": [
    "dt = DistanceTransform(784, 100, p=2)\n",
    "dt.set_centroid_to_data_randomly(train_loader)\n",
    "dt.centers.data += torch.randn_like(dt.centers)*0.01\n",
    "# dt.set_centroid_to_data_maxdist(train_loader)\n",
    "dt.to(device)"
   ]
  },
  {
   "cell_type": "code",
   "execution_count": 419,
   "metadata": {},
   "outputs": [],
   "source": [
    "dists = dt(xx.to(device))"
   ]
  },
  {
   "cell_type": "code",
   "execution_count": 420,
   "metadata": {},
   "outputs": [
    {
     "data": {
      "text/plain": [
       "tensor([[ 9.5916, 14.8464, 12.0628,  ..., 14.2910, 10.2527, 10.1579],\n",
       "        [10.7364, 13.2698, 13.9123,  ..., 11.5001,  7.7839, 11.9286],\n",
       "        [11.4181, 14.1490, 14.1074,  ..., 10.7497, 10.9852, 13.3369],\n",
       "        ...,\n",
       "        [ 8.9270, 14.7898, 10.8822,  ..., 16.5947, 13.2267,  7.6776],\n",
       "        [ 6.8252, 11.9767, 11.7552,  ...,  8.3982,  8.5702,  9.9942],\n",
       "        [10.9388, 14.7640, 13.7783,  ..., 11.6463,  7.0056, 13.3259]],\n",
       "       device='cuda:0', grad_fn=<ViewBackward>)"
      ]
     },
     "execution_count": 420,
     "metadata": {},
     "output_type": "execute_result"
    }
   ],
   "source": [
    "dists"
   ]
  },
  {
   "cell_type": "code",
   "execution_count": 421,
   "metadata": {},
   "outputs": [],
   "source": [
    "#### compute the inverse matrix/vector parameters\n",
    "\n",
    "A = 2*(dt.centers.data[1:]-dt.centers.data[:-1])\n",
    "d2 = dists**2\n",
    "D = d2[:, :-1]-d2[:, 1:]\n",
    "\n",
    "c2 = dt.centers.data**2\n",
    "Z = (c2[:-1]-c2[1:]).sum(dim=1, keepdim=True)"
   ]
  },
  {
   "cell_type": "code",
   "execution_count": 422,
   "metadata": {},
   "outputs": [
    {
     "data": {
      "text/plain": [
       "(torch.Size([99, 784]), torch.Size([50, 99]), torch.Size([99, 1]))"
      ]
     },
     "execution_count": 422,
     "metadata": {},
     "output_type": "execute_result"
    }
   ],
   "source": [
    "A.shape, D.shape, Z.shape"
   ]
  },
  {
   "cell_type": "code",
   "execution_count": 423,
   "metadata": {},
   "outputs": [],
   "source": [
    "# A, D, Z"
   ]
  },
  {
   "cell_type": "code",
   "execution_count": 424,
   "metadata": {},
   "outputs": [
    {
     "data": {
      "text/plain": [
       "tensor([[ 0.0095, -0.0044,  0.0062,  ...,  0.0118, -0.0093, -0.0083],\n",
       "        [ 0.0075, -0.0107, -0.0056,  ...,  0.0195,  0.0135,  0.0021],\n",
       "        [ 0.0177,  0.0097, -0.0089,  ..., -0.0375, -0.0463,  0.0087],\n",
       "        ...,\n",
       "        [-0.0009,  0.0039, -0.0035,  ...,  0.0077,  0.0319, -0.0022],\n",
       "        [ 0.0043,  0.0057, -0.0102,  ...,  0.0199,  0.0187,  0.0052],\n",
       "        [-0.0102,  0.0109, -0.0024,  ..., -0.0380,  0.0076, -0.0036]],\n",
       "       device='cuda:0', grad_fn=<TBackward>)"
      ]
     },
     "execution_count": 424,
     "metadata": {},
     "output_type": "execute_result"
    }
   ],
   "source": [
    "invA = torch.pinverse(A)\n",
    "xrec = torch.matmul(invA, D.t()-Z).t()\n",
    "xrec"
   ]
  },
  {
   "cell_type": "code",
   "execution_count": 425,
   "metadata": {},
   "outputs": [
    {
     "data": {
      "text/plain": [
       "tensor([[0., 0., 0.,  ..., 0., 0., 0.],\n",
       "        [0., 0., 0.,  ..., 0., 0., 0.],\n",
       "        [0., 0., 0.,  ..., 0., 0., 0.],\n",
       "        ...,\n",
       "        [0., 0., 0.,  ..., 0., 0., 0.],\n",
       "        [0., 0., 0.,  ..., 0., 0., 0.],\n",
       "        [0., 0., 0.,  ..., 0., 0., 0.]])"
      ]
     },
     "execution_count": 425,
     "metadata": {},
     "output_type": "execute_result"
    }
   ],
   "source": [
    "xx"
   ]
  },
  {
   "cell_type": "code",
   "execution_count": 426,
   "metadata": {},
   "outputs": [
    {
     "data": {
      "text/plain": [
       "tensor([[False, False, False,  ..., False, False, False],\n",
       "        [False, False, False,  ..., False, False, False],\n",
       "        [False, False, False,  ..., False, False, False],\n",
       "        ...,\n",
       "        [ True, False, False,  ..., False, False, False],\n",
       "        [False, False, False,  ..., False, False, False],\n",
       "        [False, False, False,  ..., False, False, False]])"
      ]
     },
     "execution_count": 426,
     "metadata": {},
     "output_type": "execute_result"
    }
   ],
   "source": [
    "iclose = torch.isclose(xrec.data.cpu(), xx, atol=1e-3)\n",
    "iclose"
   ]
  },
  {
   "cell_type": "code",
   "execution_count": 427,
   "metadata": {},
   "outputs": [
    {
     "name": "stdout",
     "output_type": "stream",
     "text": [
      "Not close tensor(38653)\n"
     ]
    }
   ],
   "source": [
    "print(\"Not close\", torch.numel(xx)-torch.count_nonzero(iclose))"
   ]
  },
  {
   "cell_type": "code",
   "execution_count": 428,
   "metadata": {},
   "outputs": [],
   "source": [
    "i=2"
   ]
  },
  {
   "cell_type": "code",
   "execution_count": 459,
   "metadata": {},
   "outputs": [
    {
     "data": {
      "image/png": "[encoded data removed]",
      "text/plain": [
       "<Figure size 432x288 with 1 Axes>"
      ]
     },
     "metadata": {
      "needs_background": "light"
     },
     "output_type": "display_data"
    },
    {
     "data": {
      "image/png": "[encoded data removed]",
      "text/plain": [
       "<Figure size 432x288 with 1 Axes>"
      ]
     },
     "metadata": {
      "needs_background": "light"
     },
     "output_type": "display_data"
    }
   ],
   "source": [
    "plt.imshow(xrec.data[i].cpu().reshape(28,28))\n",
    "plt.show()\n",
    "plt.imshow(xx.data[i].cpu().reshape(28,28))\n",
    "plt.show()\n",
    "i+=1"
   ]
  },
  {
   "cell_type": "markdown",
   "metadata": {},
   "source": [
    "#### For 2D / ND case"
   ]
  },
  {
   "cell_type": "code",
   "execution_count": 23,
   "metadata": {},
   "outputs": [],
   "source": [
    "nd = 2000\n",
    "xx = torch.rand(5, nd)*2-1"
   ]
  },
  {
   "cell_type": "code",
   "execution_count": 24,
   "metadata": {},
   "outputs": [
    {
     "data": {
      "text/plain": [
       "tensor([[-0.1988, -0.4898, -0.6683,  ..., -0.2005,  0.2330, -0.1519],\n",
       "        [ 0.3749, -0.1628,  0.9782,  ...,  0.8401,  0.8104, -0.2827],\n",
       "        [ 0.4490,  0.5505, -0.2476,  ..., -0.9750, -0.8364,  0.2310],\n",
       "        [-0.1796, -0.3950, -0.0871,  ..., -0.3676,  0.3723,  0.0281],\n",
       "        [ 0.7756,  0.0282,  0.9532,  ..., -0.9717, -0.0792, -0.1150]])"
      ]
     },
     "execution_count": 24,
     "metadata": {},
     "output_type": "execute_result"
    }
   ],
   "source": [
    "xx"
   ]
  },
  {
   "cell_type": "code",
   "execution_count": 25,
   "metadata": {},
   "outputs": [],
   "source": [
    "dt = DistanceTransform(nd, nd+1, p=2)"
   ]
  },
  {
   "cell_type": "code",
   "execution_count": 26,
   "metadata": {},
   "outputs": [],
   "source": [
    "dists = dt(xx)"
   ]
  },
  {
   "cell_type": "code",
   "execution_count": 27,
   "metadata": {},
   "outputs": [
    {
     "data": {
      "text/plain": [
       "tensor([[29.8885, 29.7697, 29.8857,  ..., 30.2374, 30.0821, 29.6521],\n",
       "        [29.4673, 28.8991, 29.5707,  ..., 29.1595, 29.4923, 29.5889],\n",
       "        [29.9323, 29.8873, 30.0217,  ..., 29.7485, 29.7305, 29.7226],\n",
       "        [29.9579, 29.9379, 30.0357,  ..., 30.3834, 29.8568, 30.3314],\n",
       "        [29.1380, 29.9084, 29.8060,  ..., 29.8752, 29.5153, 30.9829]],\n",
       "       grad_fn=<ViewBackward>)"
      ]
     },
     "execution_count": 27,
     "metadata": {},
     "output_type": "execute_result"
    }
   ],
   "source": [
    "dists"
   ]
  },
  {
   "cell_type": "code",
   "execution_count": 28,
   "metadata": {},
   "outputs": [],
   "source": [
    "#### compute the inverse matrix/vector parameters\n",
    "\n",
    "A = 2*(dt.centers.data[1:]-dt.centers.data[:-1])\n",
    "d2 = dists**2\n",
    "D = d2[:, :-1]-d2[:, 1:]\n",
    "\n",
    "c2 = dt.centers.data**2\n",
    "Z = (c2[:-1]-c2[1:]).sum(dim=1, keepdim=True)"
   ]
  },
  {
   "cell_type": "code",
   "execution_count": 29,
   "metadata": {},
   "outputs": [
    {
     "data": {
      "text/plain": [
       "(torch.Size([2000, 2000]), torch.Size([5, 2000]), torch.Size([2000, 1]))"
      ]
     },
     "execution_count": 29,
     "metadata": {},
     "output_type": "execute_result"
    }
   ],
   "source": [
    "A.shape, D.shape, Z.shape"
   ]
  },
  {
   "cell_type": "code",
   "execution_count": 30,
   "metadata": {},
   "outputs": [],
   "source": [
    "# A, D, Z"
   ]
  },
  {
   "cell_type": "code",
   "execution_count": 31,
   "metadata": {},
   "outputs": [
    {
     "data": {
      "text/plain": [
       "tensor([[-0.1990, -0.4897, -0.6685,  ..., -0.2003,  0.2331, -0.1516],\n",
       "        [ 0.3756, -0.1626,  0.9786,  ...,  0.8403,  0.8103, -0.2823],\n",
       "        [ 0.4490,  0.5508, -0.2476,  ..., -0.9744, -0.8365,  0.2312],\n",
       "        [-0.1796, -0.3949, -0.0869,  ..., -0.3672,  0.3715,  0.0283],\n",
       "        [ 0.7754,  0.0282,  0.9530,  ..., -0.9715, -0.0794, -0.1151]],\n",
       "       grad_fn=<TBackward>)"
      ]
     },
     "execution_count": 31,
     "metadata": {},
     "output_type": "execute_result"
    }
   ],
   "source": [
    "invA = torch.pinverse(A)\n",
    "xrec = torch.matmul(invA, D.t()-Z).t()\n",
    "xrec"
   ]
  },
  {
   "cell_type": "code",
   "execution_count": 32,
   "metadata": {},
   "outputs": [
    {
     "data": {
      "text/plain": [
       "tensor([[-0.1988, -0.4898, -0.6683,  ..., -0.2005,  0.2330, -0.1519],\n",
       "        [ 0.3749, -0.1628,  0.9782,  ...,  0.8401,  0.8104, -0.2827],\n",
       "        [ 0.4490,  0.5505, -0.2476,  ..., -0.9750, -0.8364,  0.2310],\n",
       "        [-0.1796, -0.3950, -0.0871,  ..., -0.3676,  0.3723,  0.0281],\n",
       "        [ 0.7756,  0.0282,  0.9532,  ..., -0.9717, -0.0792, -0.1150]])"
      ]
     },
     "execution_count": 32,
     "metadata": {},
     "output_type": "execute_result"
    }
   ],
   "source": [
    "xx"
   ]
  },
  {
   "cell_type": "code",
   "execution_count": 33,
   "metadata": {},
   "outputs": [
    {
     "data": {
      "text/plain": [
       "tensor([[True, True, True,  ..., True, True, True],\n",
       "        [True, True, True,  ..., True, True, True],\n",
       "        [True, True, True,  ..., True, True, True],\n",
       "        [True, True, True,  ..., True, True, True],\n",
       "        [True, True, True,  ..., True, True, True]])"
      ]
     },
     "execution_count": 33,
     "metadata": {},
     "output_type": "execute_result"
    }
   ],
   "source": [
    "iclose = torch.isclose(xrec.data, xx, atol=1e-3)\n",
    "iclose"
   ]
  },
  {
   "cell_type": "code",
   "execution_count": 34,
   "metadata": {},
   "outputs": [
    {
     "name": "stdout",
     "output_type": "stream",
     "text": [
      "Not close tensor(319)\n"
     ]
    }
   ],
   "source": [
    "print(\"Not close\", torch.numel(xx)-torch.count_nonzero(iclose))"
   ]
  },
  {
   "cell_type": "code",
   "execution_count": 99,
   "metadata": {},
   "outputs": [
    {
     "data": {
      "text/plain": [
       "torch.Size([2, 1])"
      ]
     },
     "execution_count": 99,
     "metadata": {},
     "output_type": "execute_result"
    }
   ],
   "source": [
    "Z.shape"
   ]
  },
  {
   "cell_type": "code",
   "execution_count": 120,
   "metadata": {},
   "outputs": [
    {
     "ename": "RuntimeError",
     "evalue": "mat1 and mat2 shapes cannot be multiplied (2x2 and 5x2)",
     "output_type": "error",
     "traceback": [
      "\u001b[0;31m---------------------------------------------------------------------------\u001b[0m",
      "\u001b[0;31mRuntimeError\u001b[0m                              Traceback (most recent call last)",
      "\u001b[0;32m<ipython-input-120-8bf0619b9c4f>\u001b[0m in \u001b[0;36m<module>\u001b[0;34m\u001b[0m\n\u001b[0;32m----> 1\u001b[0;31m \u001b[0mA\u001b[0m\u001b[0;34m@\u001b[0m\u001b[0mxx\u001b[0m\u001b[0;34m\u001b[0m\u001b[0;34m\u001b[0m\u001b[0m\n\u001b[0m",
      "\u001b[0;31mRuntimeError\u001b[0m: mat1 and mat2 shapes cannot be multiplied (2x2 and 5x2)"
     ]
    }
   ],
   "source": [
    "A@xx"
   ]
  },
  {
   "cell_type": "code",
   "execution_count": null,
   "metadata": {},
   "outputs": [],
   "source": []
  }
 ],
 "metadata": {
  "kernelspec": {
   "display_name": "Python 3",
   "language": "python",
   "name": "python3"
  },
  "language_info": {
   "codemirror_mode": {
    "name": "ipython",
    "version": 3
   },
   "file_extension": ".py",
   "mimetype": "text/x-python",
   "name": "python",
   "nbconvert_exporter": "python",
   "pygments_lexer": "ipython3",
   "version": "3.8.5"
  }
 },
 "nbformat": 4,
 "nbformat_minor": 4
}
