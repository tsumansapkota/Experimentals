{
 "cells": [
  {
   "cell_type": "code",
   "execution_count": 8,
   "id": "f7e85d1c",
   "metadata": {},
   "outputs": [],
   "source": [
    "import os, sys, json\n",
    "from tqdm import tqdm"
   ]
  },
  {
   "cell_type": "code",
   "execution_count": 9,
   "id": "3a11a1d5",
   "metadata": {},
   "outputs": [],
   "source": [
    "import numpy as np\n",
    "import matplotlib.pyplot as plt"
   ]
  },
  {
   "cell_type": "code",
   "execution_count": 10,
   "id": "0390a6ef",
   "metadata": {},
   "outputs": [],
   "source": [
    "%matplotlib inline\n",
    "# from mpl_toolkits.mplot3d import Axes3D"
   ]
  },
  {
   "cell_type": "code",
   "execution_count": 11,
   "id": "1574e87a",
   "metadata": {},
   "outputs": [],
   "source": [
    "# bench_dict = {}\n",
    "\n",
    "def load_json(filename):\n",
    "    fil = f'./models_v1/stats/{filename}.json'\n",
    "    if not os.path.exists(fil):\n",
    "        print(f\"File Not Found: {fil}\")\n",
    "        return\n",
    "    with open(fil) as f:\n",
    "        data = json.load(f)\n",
    "    return data\n",
    "\n",
    "#     bench_dict[model_name] = data\n",
    "#     return"
   ]
  },
  {
   "cell_type": "code",
   "execution_count": 13,
   "id": "799a24b6",
   "metadata": {},
   "outputs": [
    {
     "name": "stdout",
     "output_type": "stream",
     "text": [
      "dense 84.07000000000001 0.3554926159570698 84.47\n",
      "sparseLinear 83.48875000000001 0.32200300852631886 83.84\n",
      "sparseMlp 83.69875 0.30168019076499014 84.26\n"
     ]
    }
   ],
   "source": [
    "PREFIX = \"03.0_mlp_mixer_\"\n",
    "PREFIX2 = \"03.1_mlp_mixer_\"\n",
    "\n",
    "SUFFIX = \"_data\"\n",
    "\n",
    "methods = [\"dense\", \"sparseLinear\", \"sparseMlp\"]\n",
    "dataset = 'c10'\n",
    "# seeds = [147, 258, 369]\n",
    "seeds = [147, 258, 369, 741, 852, 963, 159, 357]\n",
    "\n",
    "hidden_expansion = 2\n",
    "\n",
    "bench_dict = {}\n",
    "\n",
    "for method in methods:\n",
    "    per_method_exps = []\n",
    "    for seed in seeds:\n",
    "        file_name_ = f\"{method}_l7_{dataset}_s{seed}_h{hidden_expansion}\"\n",
    "        file_name = PREFIX+file_name_+SUFFIX\n",
    "        \n",
    "        if method == \"sparseLinear\":\n",
    "            file_name = PREFIX2+file_name_+SUFFIX\n",
    "        \n",
    "        data = load_json(file_name)\n",
    "        \n",
    "        # epoch, loss, accuracy, time\n",
    "        train_stat = np.array(data[\"train_stat\"])\n",
    "        test_stat = np.array(data[\"test_stat\"])\n",
    "        \n",
    "        stat = {'train_acc':np.max(train_stat[:, 2]), \n",
    "                'test_acc':np.max(test_stat[:, 2]), \n",
    "                'params':data[\"num_params\"]}\n",
    "        per_method_exps.append(stat)\n",
    "        \n",
    "    best_seed = np.argmax([exp[\"test_acc\"] for exp in per_method_exps])\n",
    "    bench_dict[method] = per_method_exps[best_seed]\n",
    "    \n",
    "    accs = [exp[\"test_acc\"] for exp in per_method_exps]\n",
    "    print(method, np.mean(accs), np.std(accs),  np.max(accs))"
   ]
  },
  {
   "cell_type": "code",
   "execution_count": null,
   "id": "4a5c9777",
   "metadata": {},
   "outputs": [],
   "source": [
    "# ./models_v1/stats/03.0_mlp_mixer_dense_l7_c10_s147_h1_data.json"
   ]
  },
  {
   "cell_type": "code",
   "execution_count": null,
   "id": "b7c09265",
   "metadata": {},
   "outputs": [],
   "source": [
    "bench_dict"
   ]
  },
  {
   "cell_type": "markdown",
   "id": "12a273e3",
   "metadata": {},
   "source": [
    "## Final Benchmark"
   ]
  },
  {
   "cell_type": "code",
   "execution_count": null,
   "id": "eacf87e5",
   "metadata": {},
   "outputs": [],
   "source": [
    "\"\"\"\n",
    "H1:\n",
    "dense 83.83250000000001 0.4065940850528961 84.64\n",
    "sparseLinear 82.45375000000001 0.36065695265723324 83.01\n",
    "sparseMlp 82.68 0.2444381312316071 83.06\n",
    "\n",
    "\n",
    "H2:\n",
    "dense 84.07000000000001 0.3554926159570698 84.47\n",
    "sparseLinear 83.48875000000001 0.32200300852631886 83.84\n",
    "sparseMlp 83.69875 0.30168019076499014 84.26\n",
    "\n",
    "\"\"\""
   ]
  },
  {
   "cell_type": "markdown",
   "id": "c9766c96",
   "metadata": {},
   "source": [
    "## New"
   ]
  },
  {
   "cell_type": "code",
   "execution_count": null,
   "id": "c526319b",
   "metadata": {},
   "outputs": [],
   "source": [
    "\"\"\"\n",
    "### H2 -> New Method\n",
    "dense 83.89 0.37585458180879894 84.19\n",
    "sparseLinear 83.45666666666666 0.4598792111945142 83.84\n",
    "sparseMlp 83.75333333333333 0.16759740119968922 83.98\n",
    "\n",
    "### H2 -> OLD Method (debugged)\n",
    "sparseLinear 83.45666666666666 0.07318166133366749 83.56\n",
    "\n",
    "### H1\n",
    "dense 83.76333333333334 0.3318969050105132 84.06\n",
    "sparseLinear 82.59666666666665 0.41587925598129727 83.14\n",
    "sparseMlp 82.53333333333335 0.2422578974747561 82.87\n",
    "\n",
    "\"\"\""
   ]
  },
  {
   "cell_type": "markdown",
   "id": "5ccb45e1",
   "metadata": {},
   "source": [
    "### Old - Linear Bug"
   ]
  },
  {
   "cell_type": "code",
   "execution_count": 7,
   "id": "b0ba026b",
   "metadata": {},
   "outputs": [
    {
     "data": {
      "text/plain": [
       "''"
      ]
     },
     "execution_count": 7,
     "metadata": {},
     "output_type": "execute_result"
    }
   ],
   "source": [
    "## All seeds\n",
    "### H1\n",
    "\"\"\"\n",
    "dense 83.83250000000001 0.4065940850528961 84.64\n",
    "sparseLinear 82.40375 0.29406366232501185 82.82\n",
    "sparseMlp 82.68 0.2444381312316071 83.06\n",
    "\"\"\"\n",
    "### H2\n",
    "\"\"\"\n",
    "dense 84.07000000000001 0.3554926159570698 84.47\n",
    "sparseLinear 82.40125 0.3260919157231609 82.93\n",
    "sparseMlp 83.69875 0.30168019076499014 84.26\n",
    "\"\"\"\n",
    "\n",
    "\n",
    "\"\""
   ]
  },
  {
   "cell_type": "code",
   "execution_count": null,
   "id": "b024fcd5",
   "metadata": {},
   "outputs": [],
   "source": []
  }
 ],
 "metadata": {
  "kernelspec": {
   "display_name": "Python 3 (ipykernel)",
   "language": "python",
   "name": "python3"
  },
  "language_info": {
   "codemirror_mode": {
    "name": "ipython",
    "version": 3
   },
   "file_extension": ".py",
   "mimetype": "text/x-python",
   "name": "python",
   "nbconvert_exporter": "python",
   "pygments_lexer": "ipython3",
   "version": "3.9.12"
  }
 },
 "nbformat": 4,
 "nbformat_minor": 5
}
