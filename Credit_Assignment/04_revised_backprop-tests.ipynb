{
 "cells": [
  {
   "cell_type": "code",
   "execution_count": 1,
   "metadata": {},
   "outputs": [],
   "source": [
    "import mylibrary.nnlib as nn"
   ]
  },
  {
   "cell_type": "code",
   "execution_count": 2,
   "metadata": {},
   "outputs": [],
   "source": [
    "import numpy as np\n",
    "import matplotlib.pyplot as plt\n",
    "%matplotlib inline"
   ]
  },
  {
   "cell_type": "markdown",
   "metadata": {},
   "source": [
    "## Least squares"
   ]
  },
  {
   "cell_type": "code",
   "execution_count": 3,
   "metadata": {},
   "outputs": [],
   "source": [
    "def regression(x,y):\n",
    "    n = len(x)\n",
    "    sy = np.sum(y)\n",
    "    sx = np.sum(x)\n",
    "    sx2 = np.sum(np.square(x))\n",
    "    sxy = np.sum(x*y)\n",
    "\n",
    "    # y = mx+c\n",
    "    z = (n*sx2 - sx**2)\n",
    "    m = (n*sxy - sx*sy)/z\n",
    "    c = (sy*sx2 - sx*sxy)/z\n",
    "    return m, c\n",
    "\n",
    "def output(x, m, c):\n",
    "    return m*x+c\n",
    "\n",
    "def error(target, output):\n",
    "    return np.sqrt(np.square(target-output).mean())"
   ]
  },
  {
   "cell_type": "code",
   "execution_count": 4,
   "metadata": {},
   "outputs": [],
   "source": [
    "#Define a simple range of values for x and reshape so sklearn likes it.\n",
    "x = np.linspace(0,1,200)\n",
    "noise = np.random.normal(0,0.02, x.shape)\n",
    "x = x + noise\n",
    "y= 2.5*x + 5\n",
    "noise = np.random.normal(0,0.1, x.shape)\n",
    "y = y + noise\n",
    "x = x + 0.5"
   ]
  },
  {
   "cell_type": "code",
   "execution_count": 5,
   "metadata": {},
   "outputs": [],
   "source": [
    "n = len(x)"
   ]
  },
  {
   "cell_type": "code",
   "execution_count": 6,
   "metadata": {},
   "outputs": [
    {
     "data": {
      "text/plain": [
       "<matplotlib.collections.PathCollection at 0x7f8650f831d0>"
      ]
     },
     "execution_count": 6,
     "metadata": {},
     "output_type": "execute_result"
    },
    {
     "data": {
      "image/png": "[encoded data removed]",
      "text/plain": [
       "<Figure size 432x288 with 1 Axes>"
      ]
     },
     "metadata": {},
     "output_type": "display_data"
    }
   ],
   "source": [
    "plt.scatter(x, y, marker='.', color='g')"
   ]
  },
  {
   "cell_type": "code",
   "execution_count": 7,
   "metadata": {},
   "outputs": [
    {
     "data": {
      "text/plain": [
       "(2.8788738772813893, 0.3083559675548679)"
      ]
     },
     "execution_count": 7,
     "metadata": {},
     "output_type": "execute_result"
    }
   ],
   "source": [
    "m = np.random.exponential()*2\n",
    "c = np.random.randn()\n",
    "mt, mr = np.copy(m), np.copy(m)\n",
    "ct, cr = np.copy(c), np.copy(c)\n",
    "m,c"
   ]
  },
  {
   "cell_type": "code",
   "execution_count": 8,
   "metadata": {},
   "outputs": [
    {
     "data": {
      "text/plain": [
       "(2.5099223573850638, 3.7474044282727763)"
      ]
     },
     "execution_count": 8,
     "metadata": {},
     "output_type": "execute_result"
    }
   ],
   "source": [
    "m, c = regression(x, y)\n",
    "ytarg = m*x+c\n",
    "learning_rate = 0.3\n",
    "\n",
    "m, c"
   ]
  },
  {
   "cell_type": "code",
   "execution_count": 9,
   "metadata": {},
   "outputs": [
    {
     "name": "stdout",
     "output_type": "stream",
     "text": [
      "_______________________\n",
      "epoch trad, rev 0\n",
      "m  c 2.5099223573850638 3.7474044282727763\n",
      "mt mr 2.8788738772813893 2.8788738772813893\n",
      "ct cr 0.3083559675548679 0.3083559675548679\n",
      "Loss 9.447746478314377 9.447746478314377\n",
      "dm   -3.037967035718774 -3.415549522617099\n",
      "dc   -3.0702222919420374 -3.0702222919420374\n",
      "\n",
      "\n",
      "_______________________\n",
      "epoch trad, rev 1\n",
      "m  c 2.5099223573850638 3.7474044282727763\n",
      "mt mr 3.7902639879970215 3.903538734066519\n",
      "ct cr 1.2294226551374792 1.2294226551374792\n",
      "Loss 1.6814733673078772 1.4395295317420391\n",
      "dm   -1.1293415881016486 -1.3772606862614598\n",
      "dc   -1.2380751380425665 -1.124838877019407\n",
      "\n",
      "\n",
      "_______________________\n",
      "epoch trad, rev 2\n",
      "m  c 2.5099223573850638 3.7474044282727763\n",
      "mt mr 4.129066464427516 4.316716939944957\n",
      "ct cr 1.600845196550249 1.5668743182433014\n",
      "Loss 0.5104946020302354 0.42627034527154756\n",
      "dm   -0.3908113034541308 -0.5927205559085441\n",
      "dc   -0.5279652281951904 -0.3743493851531786\n",
      "\n",
      "\n",
      "_______________________\n",
      "epoch trad, rev 3\n",
      "m  c 2.5099223573850638 3.7474044282727763\n",
      "mt mr 4.246309855463755 4.49453310671752\n",
      "ct cr 1.7592347650088063 1.679179133789255\n",
      "Loss 0.32872058879831184 0.35027043749898534\n",
      "dm   -0.1053933842593647 -0.2913141479587793\n",
      "dc   -0.2523721020921553 -0.08428881580097052\n",
      "\n",
      "\n",
      "_______________________\n",
      "epoch trad, rev 4\n",
      "m  c 2.5099223573850638 3.7474044282727763\n",
      "mt mr 4.277927870741564 4.581927351105153\n",
      "ct cr 1.834946395636453 1.704465778529546\n",
      "Loss 0.2954428412859261 0.3739619573625572\n",
      "dm   0.004563843508650793 -0.17609222310328526\n",
      "dc   -0.14505319839381367 0.028362381169949772\n",
      "\n",
      "\n",
      "_______________________\n",
      "epoch trad, rev 5\n",
      "m  c 2.5099223573850638 3.7474044282727763\n",
      "mt mr 4.276558717688969 4.634755018036139\n",
      "ct cr 1.878462355154597 1.695957064178561\n",
      "Loss 0.28458263695670505 0.397193403200866\n",
      "dm   0.046580969541772224 -0.13262830476699677\n",
      "dc   -0.10290592675910283 0.07266338557279446\n",
      "\n",
      "\n",
      "_______________________\n",
      "epoch trad, rev 6\n",
      "m  c 2.5099223573850638 3.7474044282727763\n",
      "mt mr 4.262584426826438 4.674543509466238\n",
      "ct cr 1.9093341331823277 1.6741580485067227\n",
      "Loss 0.27722919275871627 0.41456715242072906\n",
      "dm   0.06229528045389752 -0.11682939553968164\n",
      "dc   -0.08600369183458362 0.0906393432081764\n",
      "\n",
      "\n",
      "_______________________\n",
      "epoch trad, rev 7\n",
      "m  c 2.5099223573850638 3.7474044282727763\n",
      "mt mr 4.243895842690268 4.709592328128142\n",
      "ct cr 1.9351352407327027 1.6469662455442697\n",
      "Loss 0.2705430155008313 0.4289910633930992\n",
      "dm   0.06783073865848739 -0.11170486347078977\n",
      "dc   -0.07888481898194265 0.09848445108653703\n",
      "\n",
      "\n",
      "_______________________\n",
      "epoch trad, rev 8\n",
      "m  c 2.5099223573850638 3.7474044282727763\n",
      "mt mr 4.223546621092722 4.743103787169379\n",
      "ct cr 1.9588006864272856 1.6174209102183086\n",
      "Loss 0.26409479527527685 0.4423526426570342\n",
      "dm   0.0694312665888181 -0.11070772806603746\n",
      "dc   -0.07556168124560589 0.10243918929799314\n",
      "\n",
      "\n",
      "_______________________\n",
      "epoch trad, rev 9\n",
      "m  c 2.5099223573850638 3.7474044282727763\n",
      "mt mr 4.202717241116076 4.77631610558919\n",
      "ct cr 1.9814691908009674 1.5866891534289107\n",
      "Loss 0.25781674612687633 0.4555069121658176\n",
      "dm   0.06951473983785249 -0.1113153773380538\n",
      "dc   -0.07371548007566663 0.10490846705748438\n",
      "\n",
      "\n",
      "_______________________\n",
      "epoch trad, rev 10\n",
      "m  c 2.5099223573850638 3.7474044282727763\n",
      "mt mr 4.181862819164721 4.8097107187906065\n",
      "ct cr 2.0035838348236674 1.5552166133116654\n",
      "Loss 0.2516953813308205 0.46881129698218693\n",
      "dm   0.06901739747505166 -0.11255595591038578\n",
      "dc   -0.07244817272341901 0.10681919433615938\n",
      "\n",
      "\n",
      "_______________________\n",
      "epoch trad, rev 11\n",
      "m  c 2.5099223573850638 3.7474044282727763\n",
      "mt mr 4.1611575999222055 4.8434775055637225\n",
      "ct cr 2.025318286640693 1.5231708550108176\n",
      "Loss 0.24572543905056338 0.4824148932918145\n",
      "dm   0.06830171550415516 -0.1140551813545954\n",
      "dc   -0.07141190555956171 0.10852875055712062\n"
     ]
    },
    {
     "ename": "TclError",
     "evalue": "can't invoke \"update\" command: application has been destroyed",
     "output_type": "error",
     "traceback": [
      "\u001b[0;31m---------------------------------------------------------------------------\u001b[0m",
      "\u001b[0;31mTclError\u001b[0m                                  Traceback (most recent call last)",
      "\u001b[0;32m<ipython-input-9-0d451894fc8d>\u001b[0m in \u001b[0;36m<module>\u001b[0;34m()\u001b[0m\n\u001b[1;32m     50\u001b[0m     \u001b[0mfig\u001b[0m\u001b[0;34m.\u001b[0m\u001b[0mcanvas\u001b[0m\u001b[0;34m.\u001b[0m\u001b[0mdraw\u001b[0m\u001b[0;34m(\u001b[0m\u001b[0;34m)\u001b[0m\u001b[0;34m\u001b[0m\u001b[0;34m\u001b[0m\u001b[0m\n\u001b[1;32m     51\u001b[0m \u001b[0;34m\u001b[0m\u001b[0m\n\u001b[0;32m---> 52\u001b[0;31m     \u001b[0mplt\u001b[0m\u001b[0;34m.\u001b[0m\u001b[0mpause\u001b[0m\u001b[0;34m(\u001b[0m\u001b[0;36m1\u001b[0m\u001b[0;34m)\u001b[0m\u001b[0;34m\u001b[0m\u001b[0;34m\u001b[0m\u001b[0m\n\u001b[0m\u001b[1;32m     53\u001b[0m \u001b[0;34m\u001b[0m\u001b[0m\n\u001b[1;32m     54\u001b[0m     \u001b[0mprint\u001b[0m\u001b[0;34m(\u001b[0m\u001b[0;34m\"\\n\"\u001b[0m\u001b[0;34m)\u001b[0m\u001b[0;34m\u001b[0m\u001b[0;34m\u001b[0m\u001b[0m\n",
      "\u001b[0;32m~/.local/lib/python3.6/site-packages/matplotlib/pyplot.py\u001b[0m in \u001b[0;36mpause\u001b[0;34m(interval)\u001b[0m\n\u001b[1;32m    294\u001b[0m             \u001b[0mcanvas\u001b[0m\u001b[0;34m.\u001b[0m\u001b[0mdraw_idle\u001b[0m\u001b[0;34m(\u001b[0m\u001b[0;34m)\u001b[0m\u001b[0;34m\u001b[0m\u001b[0;34m\u001b[0m\u001b[0m\n\u001b[1;32m    295\u001b[0m         \u001b[0mshow\u001b[0m\u001b[0;34m(\u001b[0m\u001b[0mblock\u001b[0m\u001b[0;34m=\u001b[0m\u001b[0;32mFalse\u001b[0m\u001b[0;34m)\u001b[0m\u001b[0;34m\u001b[0m\u001b[0;34m\u001b[0m\u001b[0m\n\u001b[0;32m--> 296\u001b[0;31m         \u001b[0mcanvas\u001b[0m\u001b[0;34m.\u001b[0m\u001b[0mstart_event_loop\u001b[0m\u001b[0;34m(\u001b[0m\u001b[0minterval\u001b[0m\u001b[0;34m)\u001b[0m\u001b[0;34m\u001b[0m\u001b[0;34m\u001b[0m\u001b[0m\n\u001b[0m\u001b[1;32m    297\u001b[0m     \u001b[0;32melse\u001b[0m\u001b[0;34m:\u001b[0m\u001b[0;34m\u001b[0m\u001b[0;34m\u001b[0m\u001b[0m\n\u001b[1;32m    298\u001b[0m         \u001b[0mtime\u001b[0m\u001b[0;34m.\u001b[0m\u001b[0msleep\u001b[0m\u001b[0;34m(\u001b[0m\u001b[0minterval\u001b[0m\u001b[0;34m)\u001b[0m\u001b[0;34m\u001b[0m\u001b[0;34m\u001b[0m\u001b[0m\n",
      "\u001b[0;32m~/.local/lib/python3.6/site-packages/matplotlib/backend_bases.py\u001b[0m in \u001b[0;36mstart_event_loop\u001b[0;34m(self, timeout)\u001b[0m\n\u001b[1;32m   2458\u001b[0m         \u001b[0mself\u001b[0m\u001b[0;34m.\u001b[0m\u001b[0m_looping\u001b[0m \u001b[0;34m=\u001b[0m \u001b[0;32mTrue\u001b[0m\u001b[0;34m\u001b[0m\u001b[0;34m\u001b[0m\u001b[0m\n\u001b[1;32m   2459\u001b[0m         \u001b[0;32mwhile\u001b[0m \u001b[0mself\u001b[0m\u001b[0;34m.\u001b[0m\u001b[0m_looping\u001b[0m \u001b[0;32mand\u001b[0m \u001b[0mcounter\u001b[0m \u001b[0;34m*\u001b[0m \u001b[0mtimestep\u001b[0m \u001b[0;34m<\u001b[0m \u001b[0mtimeout\u001b[0m\u001b[0;34m:\u001b[0m\u001b[0;34m\u001b[0m\u001b[0;34m\u001b[0m\u001b[0m\n\u001b[0;32m-> 2460\u001b[0;31m             \u001b[0mself\u001b[0m\u001b[0;34m.\u001b[0m\u001b[0mflush_events\u001b[0m\u001b[0;34m(\u001b[0m\u001b[0;34m)\u001b[0m\u001b[0;34m\u001b[0m\u001b[0;34m\u001b[0m\u001b[0m\n\u001b[0m\u001b[1;32m   2461\u001b[0m             \u001b[0mtime\u001b[0m\u001b[0;34m.\u001b[0m\u001b[0msleep\u001b[0m\u001b[0;34m(\u001b[0m\u001b[0mtimestep\u001b[0m\u001b[0;34m)\u001b[0m\u001b[0;34m\u001b[0m\u001b[0;34m\u001b[0m\u001b[0m\n\u001b[1;32m   2462\u001b[0m             \u001b[0mcounter\u001b[0m \u001b[0;34m+=\u001b[0m \u001b[0;36m1\u001b[0m\u001b[0;34m\u001b[0m\u001b[0;34m\u001b[0m\u001b[0m\n",
      "\u001b[0;32m~/.local/lib/python3.6/site-packages/matplotlib/backends/_backend_tk.py\u001b[0m in \u001b[0;36mflush_events\u001b[0;34m(self)\u001b[0m\n\u001b[1;32m    450\u001b[0m \u001b[0;34m\u001b[0m\u001b[0m\n\u001b[1;32m    451\u001b[0m     \u001b[0;32mdef\u001b[0m \u001b[0mflush_events\u001b[0m\u001b[0;34m(\u001b[0m\u001b[0mself\u001b[0m\u001b[0;34m)\u001b[0m\u001b[0;34m:\u001b[0m\u001b[0;34m\u001b[0m\u001b[0;34m\u001b[0m\u001b[0m\n\u001b[0;32m--> 452\u001b[0;31m         \u001b[0mself\u001b[0m\u001b[0;34m.\u001b[0m\u001b[0m_master\u001b[0m\u001b[0;34m.\u001b[0m\u001b[0mupdate\u001b[0m\u001b[0;34m(\u001b[0m\u001b[0;34m)\u001b[0m\u001b[0;34m\u001b[0m\u001b[0;34m\u001b[0m\u001b[0m\n\u001b[0m\u001b[1;32m    453\u001b[0m \u001b[0;34m\u001b[0m\u001b[0m\n\u001b[1;32m    454\u001b[0m \u001b[0;34m\u001b[0m\u001b[0m\n",
      "\u001b[0;32m~/Program_Files/miniconda3/lib/python3.6/tkinter/__init__.py\u001b[0m in \u001b[0;36mupdate\u001b[0;34m(self)\u001b[0m\n\u001b[1;32m   1175\u001b[0m     \u001b[0;32mdef\u001b[0m \u001b[0mupdate\u001b[0m\u001b[0;34m(\u001b[0m\u001b[0mself\u001b[0m\u001b[0;34m)\u001b[0m\u001b[0;34m:\u001b[0m\u001b[0;34m\u001b[0m\u001b[0;34m\u001b[0m\u001b[0m\n\u001b[1;32m   1176\u001b[0m         \u001b[0;34m\"\"\"Enter event loop until all pending events have been processed by Tcl.\"\"\"\u001b[0m\u001b[0;34m\u001b[0m\u001b[0;34m\u001b[0m\u001b[0m\n\u001b[0;32m-> 1177\u001b[0;31m         \u001b[0mself\u001b[0m\u001b[0;34m.\u001b[0m\u001b[0mtk\u001b[0m\u001b[0;34m.\u001b[0m\u001b[0mcall\u001b[0m\u001b[0;34m(\u001b[0m\u001b[0;34m'update'\u001b[0m\u001b[0;34m)\u001b[0m\u001b[0;34m\u001b[0m\u001b[0;34m\u001b[0m\u001b[0m\n\u001b[0m\u001b[1;32m   1178\u001b[0m     \u001b[0;32mdef\u001b[0m \u001b[0mupdate_idletasks\u001b[0m\u001b[0;34m(\u001b[0m\u001b[0mself\u001b[0m\u001b[0;34m)\u001b[0m\u001b[0;34m:\u001b[0m\u001b[0;34m\u001b[0m\u001b[0;34m\u001b[0m\u001b[0m\n\u001b[1;32m   1179\u001b[0m         \"\"\"Enter event loop until all idle callbacks have been called. This\n",
      "\u001b[0;31mTclError\u001b[0m: can't invoke \"update\" command: application has been destroyed"
     ]
    }
   ],
   "source": [
    "%matplotlib tk\n",
    "fig = plt.figure()\n",
    "ax = fig.add_subplot(1, 1, 1)\n",
    "\n",
    "plt.ion()\n",
    "fig.show()\n",
    "fig.canvas.draw()\n",
    "\n",
    "\n",
    "for step in range(100):\n",
    "    # traditional first\n",
    "    yt = mt*x + ct\n",
    "    dyt = yt - y\n",
    "    dct = dyt.mean()\n",
    "    dmt = x.T.dot(dyt)/n\n",
    "    \n",
    "    yr = mr*x + cr\n",
    "    dyr = yr - y\n",
    "    dcr = dyr.mean()\n",
    "    dmr = (1/x).T.dot(dyr)/n\n",
    "    \n",
    "    print('_______________________')\n",
    "    print(\"epoch trad, rev\", step)\n",
    "    print(\"m  c\", m, c)\n",
    "    print(\"mt mr\", mt, mr)\n",
    "    print(\"ct cr\", ct, cr)\n",
    "    print(\"Loss\", (dyt**2).mean(), (dyr**2).mean())\n",
    "    print(\"dm  \", dmt, dmr)\n",
    "    print(\"dc  \", dct, dcr)\n",
    "    \n",
    "    \n",
    "    mt = mt - learning_rate*dmt\n",
    "    ct = ct - learning_rate*dct\n",
    "    mr = mr - learning_rate*dmr\n",
    "    cr = cr - learning_rate*dcr\n",
    "###     the revised version does not seem to require learning rate\n",
    "#     mr = mr - dmr\n",
    "#     cr = cr - dcr\n",
    "\n",
    "    \n",
    "\n",
    "    ax.clear()\n",
    "    plt.scatter(x, y, marker='.', c='g', label='x,y')\n",
    "    plt.scatter(x, ytarg, marker='*', c='r', lw=1, label='x,ytarg')\n",
    "    plt.scatter(x, yt, marker='.', c='m', lw=1, label='x,yt')\n",
    "    plt.scatter(x, yr, marker='.', c='purple', lw=1, label='x,yr')\n",
    "#     plt.plot(x, np.zeros_like(x), c='b', lw=1)\n",
    "\n",
    "    plt.legend()\n",
    "    fig.canvas.draw()\n",
    "    \n",
    "    plt.pause(1)\n",
    "    \n",
    "    print(\"\\n\")\n",
    "    if (dyt**2).mean() < 0.0025:\n",
    "        print('fitted to our expectation')\n",
    "        plt.pause(10)\n",
    "        break"
   ]
  },
  {
   "cell_type": "code",
   "execution_count": 10,
   "metadata": {},
   "outputs": [
    {
     "data": {
      "text/plain": [
       "<matplotlib.legend.Legend at 0x7f864ea7bbe0>"
      ]
     },
     "execution_count": 10,
     "metadata": {},
     "output_type": "execute_result"
    },
    {
     "data": {
      "image/png": "[encoded data removed]",
      "text/plain": [
       "<Figure size 432x288 with 1 Axes>"
      ]
     },
     "metadata": {},
     "output_type": "display_data"
    }
   ],
   "source": [
    "%matplotlib inline\n",
    "plt.scatter(x, y, marker='.', c='g', label='x,y')\n",
    "plt.scatter(x, ytarg, marker='*', c='r', lw=1, label='x,ytarg')\n",
    "plt.scatter(x, yt, marker='.', c='m', lw=1, label='x,yt')\n",
    "plt.scatter(x, yr, marker='.', c='purple', lw=1, label='x,yr')\n",
    "plt.legend()"
   ]
  },
  {
   "cell_type": "code",
   "execution_count": 52,
   "metadata": {},
   "outputs": [
    {
     "name": "stdout",
     "output_type": "stream",
     "text": [
      "trad       rev\n"
     ]
    }
   ],
   "source": [
    "# Debugging\n",
    "print('trad       rev')"
   ]
  },
  {
   "cell_type": "code",
   "execution_count": 55,
   "metadata": {},
   "outputs": [
    {
     "name": "stdout",
     "output_type": "stream",
     "text": [
      "0.0016102826616787697 8.104628079763643e-17\n",
      "-2.525687237872054e-06 4.440892098500626e-18\n"
     ]
    }
   ],
   "source": [
    "print(dmt, dmr)\n",
    "print(dct, dcr)"
   ]
  },
  {
   "cell_type": "code",
   "execution_count": 54,
   "metadata": {},
   "outputs": [
    {
     "name": "stdout",
     "output_type": "stream",
     "text": [
      "delta y\n",
      "min -0.624957323707748 -0.6074311412986966\n",
      "max 0.7899148919240455 0.85819853213987\n",
      "mean -2.525687237872054e-06 4.440892098500626e-18\n",
      "std 0.3005932225263603 0.3024809834079397\n"
     ]
    }
   ],
   "source": [
    "t, r = dyt, dyr\n",
    "print('delta y')\n",
    "print('min',t.min(), r.min())\n",
    "print('max',t.max(), r.max())\n",
    "print('mean',t.mean(), r.mean())\n",
    "print('std',t.std(), r.std())"
   ]
  },
  {
   "cell_type": "code",
   "execution_count": 29,
   "metadata": {},
   "outputs": [
    {
     "name": "stdout",
     "output_type": "stream",
     "text": [
      "squared error\n",
      "min 1.1255359769283872e-06 5.636025819552769e-06\n",
      "max 1.1944483169820428 0.7365047192822285\n",
      "mean 0.1878990296418823 0.09149474529513978\n",
      "std 0.43347319313821475 0.30248098336116896\n"
     ]
    }
   ],
   "source": [
    "et, er = dyt**2, dyr**2\n",
    "print('squared error')\n",
    "print('min',et.min(), er.min())\n",
    "print('max',et.max(), er.max())\n",
    "print('mean',et.mean(), er.mean())\n",
    "print('std',t.std(), r.std())"
   ]
  },
  {
   "cell_type": "code",
   "execution_count": 56,
   "metadata": {},
   "outputs": [
    {
     "data": {
      "text/plain": [
       "array([-0.06508499, -0.06781433, -0.06684634, -0.0649274 , -0.06811784,\n",
       "       -0.06828364, -0.06495388, -0.06174709, -0.06393613, -0.06011415,\n",
       "       -0.06042471, -0.06018784, -0.05670567, -0.05724259, -0.05537119,\n",
       "       -0.0588654 , -0.05708255, -0.05705549, -0.0547389 , -0.0560075 ,\n",
       "       -0.05358643, -0.055201  , -0.0560618 , -0.05361213, -0.05650175,\n",
       "       -0.04738161, -0.05224138, -0.05092768, -0.0541107 , -0.04980656,\n",
       "       -0.04395611, -0.04824204, -0.04652913, -0.04728562, -0.04389452,\n",
       "       -0.04695855, -0.0393718 , -0.04118419, -0.03951263, -0.04199678,\n",
       "       -0.03811618, -0.04025349, -0.03839123, -0.03884803, -0.03826318,\n",
       "       -0.03897731, -0.04061796, -0.03232919, -0.03580051, -0.0376803 ,\n",
       "       -0.03697773, -0.03022207, -0.03564742, -0.03210531, -0.02678006,\n",
       "       -0.03011371, -0.03393446, -0.02572166, -0.02729112, -0.02792142,\n",
       "       -0.02917394, -0.03294486, -0.02528482, -0.01988932, -0.02334827,\n",
       "       -0.02741709, -0.01962705, -0.02599032, -0.02342842, -0.020375  ,\n",
       "       -0.02269053, -0.02233493, -0.0205978 , -0.01766903, -0.01478957,\n",
       "       -0.01828928, -0.01651702, -0.02016343, -0.01497874, -0.01378819,\n",
       "       -0.01010287, -0.01519909, -0.01135048, -0.00806261, -0.0096316 ,\n",
       "       -0.00807565, -0.01262621, -0.01056825, -0.00472694, -0.00778326,\n",
       "       -0.01105016, -0.00605815, -0.00264272, -0.00748346, -0.00605866,\n",
       "       -0.00491765, -0.0019425 , -0.0021669 ,  0.00244515,  0.00160787,\n",
       "        0.00281436,  0.00281913,  0.00213671,  0.00062994,  0.00712346,\n",
       "        0.00059463,  0.00475589,  0.00639462,  0.00473735,  0.00819713,\n",
       "        0.00769211,  0.00564645,  0.00754527,  0.00839922,  0.01007537,\n",
       "        0.01178386,  0.01210952,  0.01560685,  0.01734613,  0.01623637,\n",
       "        0.01833743,  0.00932043,  0.01484078,  0.01376559,  0.01606328,\n",
       "        0.01841413,  0.0183892 ,  0.01598231,  0.01691324,  0.02406479,\n",
       "        0.02024327,  0.02641948,  0.02382309,  0.02233118,  0.0248844 ,\n",
       "        0.02072965,  0.02593954,  0.02496538,  0.02381986,  0.02614264,\n",
       "        0.03001373,  0.03304689,  0.03605497,  0.03615553,  0.03146134,\n",
       "        0.03157237,  0.02987268,  0.03571402,  0.03573274,  0.03099189,\n",
       "        0.02928443,  0.03413863,  0.03411655,  0.03730101,  0.03951907,\n",
       "        0.0363068 ,  0.0397415 ,  0.04020948,  0.04165791,  0.03824003,\n",
       "        0.04275406,  0.04305916,  0.0446199 ,  0.04293625,  0.04066561,\n",
       "        0.04392744,  0.04985752,  0.04590449,  0.04751267,  0.04821642,\n",
       "        0.04483703,  0.04578495,  0.04928232,  0.04896693,  0.0510905 ,\n",
       "        0.05329742,  0.05330934,  0.05242376,  0.05194231,  0.05859996,\n",
       "        0.05829048,  0.05327659,  0.05843545,  0.05327101,  0.05458639,\n",
       "        0.05405815,  0.06184183,  0.06316816,  0.06617053,  0.0581803 ,\n",
       "        0.06356118,  0.05696258,  0.06409767,  0.06519021,  0.06255077,\n",
       "        0.06228014,  0.06724114,  0.0677222 ,  0.06816808,  0.06784246])"
      ]
     },
     "execution_count": 56,
     "metadata": {},
     "output_type": "execute_result"
    }
   ],
   "source": [
    "dyt - dyr"
   ]
  },
  {
   "cell_type": "code",
   "execution_count": 67,
   "metadata": {},
   "outputs": [
    {
     "data": {
      "text/plain": [
       "array([ 0.59122199,  0.71352514,  0.68863094,  0.63370291,  0.77697184,\n",
       "        0.78991489,  0.53699317,  0.34350218,  0.39271115,  0.06071922,\n",
       "        0.13030571,  0.15792506,  0.00712418, -0.04670769, -0.18911831,\n",
       "        0.03029134, -0.25102079, -0.01256854, -0.26295941, -0.04434352,\n",
       "       -0.27647846, -0.10770147, -0.08214007, -0.28057435, -0.13331359,\n",
       "       -0.47108617, -0.35355072, -0.38926876, -0.18209061, -0.3337984 ,\n",
       "       -0.42501648, -0.46429267, -0.62495732, -0.46441271, -0.48762172,\n",
       "       -0.48334029, -0.24554094, -0.39658846, -0.22484493, -0.23860037,\n",
       "       -0.14523144, -0.33312003, -0.17184407, -0.29487598, -0.39228769,\n",
       "       -0.14988748, -0.35079979, -0.10863182, -0.41274893, -0.39439755,\n",
       "       -0.268219  , -0.0325961 , -0.29321089, -0.01346012,  0.11806263,\n",
       "        0.09924583, -0.25776522, -0.03769409,  0.0703856 , -0.03401712,\n",
       "        0.08351349, -0.11951421,  0.35695323,  0.14306839,  0.17537823,\n",
       "        0.08652535,  0.15046066,  0.03264144,  0.24771756,  0.16646475,\n",
       "        0.14256663,  0.06539543,  0.05629218,  0.1099812 ,  0.09258483,\n",
       "        0.15440908,  0.15307408,  0.07161055,  0.13262452,  0.08306473,\n",
       "        0.12442048,  0.16314058,  0.25174777,  0.09581418,  0.16953111,\n",
       "        0.28828797, -0.08119536,  0.08073997,  0.19892247,  0.0843801 ,\n",
       "       -0.00745326,  0.2202161 ,  0.23143088,  0.15440609,  0.15564224,\n",
       "        0.18098736,  0.18230856,  0.17815934,  0.17343083,  0.25126048,\n",
       "        0.19363362,  0.1716893 ,  0.04196586,  0.09614621,  0.24319815,\n",
       "       -0.01083264,  0.13303683,  0.17235895,  0.22553382,  0.3340638 ,\n",
       "        0.20140689,  0.31041706,  0.38757618,  0.2389164 ,  0.26913903,\n",
       "        0.28335138,  0.12085272,  0.23648274,  0.28255889,  0.19603509,\n",
       "        0.14571762,  0.38020168,  0.33142006,  0.23447275, -0.01218889,\n",
       "        0.06396659,  0.17223345,  0.1164276 ,  0.2277875 , -0.21659757,\n",
       "        0.07474828, -0.19372899, -0.02506395, -0.07825513, -0.08021952,\n",
       "       -0.01024691, -0.40755543, -0.13745808, -0.09980174, -0.10322824,\n",
       "       -0.32600896, -0.4914795 , -0.37719599, -0.39428374, -0.24088955,\n",
       "       -0.19943736, -0.15167765, -0.51728099, -0.52168402, -0.29995496,\n",
       "       -0.45349852, -0.42131516, -0.19913494, -0.45409864, -0.44253444,\n",
       "       -0.57112434, -0.37496029, -0.30166127, -0.50282051, -0.52358601,\n",
       "       -0.50602499, -0.29579491, -0.29988338, -0.33851015, -0.53420021,\n",
       "       -0.43486399, -0.34465048, -0.36010752, -0.30978361, -0.02150281,\n",
       "       -0.313951  , -0.35750108, -0.07006334, -0.18062126, -0.15876294,\n",
       "        0.21781043, -0.0557413 ,  0.11259458,  0.01685317,  0.27960855,\n",
       "        0.30879788,  0.08533596,  0.30350279,  0.17794128,  0.13346819,\n",
       "        0.23884028,  0.34020228,  0.29380545,  0.49342984,  0.28490678,\n",
       "        0.45808359,  0.32008651,  0.33817818,  0.49984618,  0.21306074,\n",
       "        0.34508272,  0.57333592,  0.38288003,  0.50640924,  0.45236294])"
      ]
     },
     "execution_count": 67,
     "metadata": {},
     "output_type": "execute_result"
    }
   ],
   "source": [
    "dyt"
   ]
  },
  {
   "cell_type": "code",
   "execution_count": 68,
   "metadata": {},
   "outputs": [
    {
     "data": {
      "text/plain": [
       "array([ 0.65630697,  0.78133947,  0.75547727,  0.69863031,  0.84508968,\n",
       "        0.85819853,  0.60194704,  0.40524927,  0.45664728,  0.12083337,\n",
       "        0.19073043,  0.2181129 ,  0.06382985,  0.0105349 , -0.13374711,\n",
       "        0.08915674, -0.19393824,  0.04448695, -0.20822051,  0.01166398,\n",
       "       -0.22289203, -0.05250046, -0.02607827, -0.22696222, -0.07681185,\n",
       "       -0.42370457, -0.30130933, -0.33834108, -0.12797991, -0.28399184,\n",
       "       -0.38106037, -0.41605063, -0.57842819, -0.41712709, -0.44372719,\n",
       "       -0.43638174, -0.20616914, -0.35540427, -0.1853323 , -0.19660359,\n",
       "       -0.10711525, -0.29286654, -0.13345284, -0.25602795, -0.35402452,\n",
       "       -0.11091017, -0.31018183, -0.07630262, -0.37694842, -0.35671725,\n",
       "       -0.23124126, -0.00237403, -0.25756347,  0.01864519,  0.14484269,\n",
       "        0.12935954, -0.22383076, -0.01197243,  0.09767672, -0.00609571,\n",
       "        0.11268743, -0.08656936,  0.38223805,  0.16295771,  0.1987265 ,\n",
       "        0.11394244,  0.17008771,  0.05863176,  0.27114598,  0.18683975,\n",
       "        0.16525717,  0.08773036,  0.07688998,  0.12765024,  0.1073744 ,\n",
       "        0.17269836,  0.1695911 ,  0.09177398,  0.14760326,  0.09685291,\n",
       "        0.13452335,  0.17833967,  0.26309826,  0.10387678,  0.1791627 ,\n",
       "        0.29636362, -0.06856915,  0.09130822,  0.20364942,  0.09216336,\n",
       "        0.0035969 ,  0.22627425,  0.2340736 ,  0.16188955,  0.1617009 ,\n",
       "        0.18590501,  0.18425106,  0.18032624,  0.17098568,  0.24965262,\n",
       "        0.19081927,  0.16887017,  0.03982915,  0.09551627,  0.23607469,\n",
       "       -0.01142727,  0.12828094,  0.16596433,  0.22079647,  0.32586668,\n",
       "        0.19371478,  0.30477061,  0.38003091,  0.23051718,  0.25906366,\n",
       "        0.27156752,  0.1087432 ,  0.22087588,  0.26521276,  0.17979872,\n",
       "        0.1273802 ,  0.37088124,  0.31657928,  0.22070716, -0.02825217,\n",
       "        0.04555246,  0.15384426,  0.1004453 ,  0.21087425, -0.24066236,\n",
       "        0.05450501, -0.22014848, -0.04888703, -0.10058631, -0.10510392,\n",
       "       -0.03097656, -0.43349496, -0.16242346, -0.12362159, -0.12937088,\n",
       "       -0.35602269, -0.52452639, -0.41325096, -0.43043927, -0.27235089,\n",
       "       -0.23100972, -0.18155033, -0.55299501, -0.55741677, -0.33094685,\n",
       "       -0.48278295, -0.45545379, -0.23325149, -0.49139965, -0.48205351,\n",
       "       -0.60743114, -0.41470179, -0.34187074, -0.54447843, -0.56182604,\n",
       "       -0.54877905, -0.33885406, -0.34450328, -0.3814464 , -0.57486582,\n",
       "       -0.47879142, -0.394508  , -0.40601201, -0.35729628, -0.06971922,\n",
       "       -0.35878803, -0.40328602, -0.11934567, -0.22958819, -0.20985344,\n",
       "        0.16451301, -0.10905063,  0.06017082, -0.03508914,  0.22100858,\n",
       "        0.2505074 ,  0.03205937,  0.24506734,  0.12467027,  0.0788818 ,\n",
       "        0.18478214,  0.27836045,  0.23063728,  0.42725931,  0.22672648,\n",
       "        0.39452242,  0.26312393,  0.2740805 ,  0.43465596,  0.15050996,\n",
       "        0.28280258,  0.50609478,  0.31515783,  0.43824116,  0.38452049])"
      ]
     },
     "execution_count": 68,
     "metadata": {},
     "output_type": "execute_result"
    }
   ],
   "source": [
    "dyr"
   ]
  },
  {
   "cell_type": "markdown",
   "metadata": {},
   "source": [
    "## Works but does poor when close to minima.. WHYYY ??"
   ]
  },
  {
   "cell_type": "code",
   "execution_count": 57,
   "metadata": {},
   "outputs": [],
   "source": [
    "dmt_ = x.T.dot(dyt)/n\n",
    "dmr_ = (1/x).T.dot(dyr)/n\n",
    "dmr__ = x.T.dot(dyr)/n"
   ]
  },
  {
   "cell_type": "code",
   "execution_count": 59,
   "metadata": {},
   "outputs": [
    {
     "data": {
      "text/plain": [
       "-0.009984470628819605"
      ]
     },
     "execution_count": 59,
     "metadata": {},
     "output_type": "execute_result"
    }
   ],
   "source": [
    "dmr__"
   ]
  },
  {
   "cell_type": "code",
   "execution_count": 66,
   "metadata": {},
   "outputs": [
    {
     "data": {
      "text/plain": [
       "<matplotlib.legend.Legend at 0x7fb03a939fd0>"
      ]
     },
     "execution_count": 66,
     "metadata": {},
     "output_type": "execute_result"
    },
    {
     "data": {
      "image/png": "[encoded data removed]",
      "text/plain": [
       "<Figure size 432x288 with 1 Axes>"
      ]
     },
     "metadata": {},
     "output_type": "display_data"
    }
   ],
   "source": [
    "yr__ = (mr - 12*dmr__)*x + cr\n",
    "\n",
    "plt.scatter(x, y, marker='.', c='g', label='x,y')\n",
    "plt.scatter(x, ytarg.reshape(-1), marker='*', c='r', lw=1, label='x,ytarg')\n",
    "plt.scatter(x, yr.reshape(-1), marker='.', c='purple', lw=1, label='x,yr')\n",
    "plt.scatter(x, yr__.reshape(-1), marker='.', c='m', lw=1, label='x,yr__')\n",
    "plt.legend()"
   ]
  },
  {
   "cell_type": "code",
   "execution_count": null,
   "metadata": {},
   "outputs": [],
   "source": []
  }
 ],
 "metadata": {
  "kernelspec": {
   "display_name": "Python 3",
   "language": "python",
   "name": "python3"
  },
  "language_info": {
   "codemirror_mode": {
    "name": "ipython",
    "version": 3
   },
   "file_extension": ".py",
   "mimetype": "text/x-python",
   "name": "python",
   "nbconvert_exporter": "python",
   "pygments_lexer": "ipython3",
   "version": "3.6.7"
  }
 },
 "nbformat": 4,
 "nbformat_minor": 2
}
