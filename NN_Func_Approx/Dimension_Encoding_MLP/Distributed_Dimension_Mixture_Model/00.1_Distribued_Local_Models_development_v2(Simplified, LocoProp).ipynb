{
 "cells": [
  {
   "cell_type": "code",
   "execution_count": 13,
   "metadata": {},
   "outputs": [],
   "source": [
    "import torch\n",
    "import torch.nn as nn\n",
    "from torchvision import datasets, transforms\n",
    "\n",
    "import matplotlib\n",
    "import matplotlib.pyplot as plt\n",
    "import numpy as np\n",
    "\n",
    "import os, sys, pathlib, random, time, pickle, copy, json\n",
    "from tqdm import tqdm"
   ]
  },
  {
   "cell_type": "code",
   "execution_count": 14,
   "metadata": {},
   "outputs": [],
   "source": [
    "device = torch.device(\"cuda:0\")\n",
    "# device = torch.device(\"cpu\")"
   ]
  },
  {
   "cell_type": "code",
   "execution_count": 15,
   "metadata": {},
   "outputs": [],
   "source": [
    "SEED = 147\n",
    "# SEED = 258\n",
    "# SEED = 369\n",
    "\n",
    "torch.manual_seed(SEED)\n",
    "np.random.seed(SEED)"
   ]
  },
  {
   "cell_type": "code",
   "execution_count": 16,
   "metadata": {},
   "outputs": [],
   "source": [
    "import torch.optim as optim\n",
    "from torch.utils import data"
   ]
  },
  {
   "cell_type": "code",
   "execution_count": 17,
   "metadata": {},
   "outputs": [],
   "source": [
    "train_transform = transforms.Compose([\n",
    "            transforms.ToTensor(),\n",
    "        ])\n",
    "test_transform = transforms.Compose([\n",
    "            transforms.ToTensor(),\n",
    "        ])\n",
    "\n",
    "train_dataset = datasets.FashionMNIST(root=\"../../../../_Datasets/FMNIST/\", train=True, download=True, transform=train_transform)\n",
    "test_dataset = datasets.FashionMNIST(root=\"../../../../_Datasets/FMNIST/\", train=False, download=True, transform=test_transform)"
   ]
  },
  {
   "cell_type": "code",
   "execution_count": 18,
   "metadata": {},
   "outputs": [],
   "source": [
    "train_loader = torch.utils.data.DataLoader(dataset=train_dataset, batch_size=2000, shuffle=True, num_workers=2)\n",
    "test_loader = torch.utils.data.DataLoader(dataset=test_dataset, batch_size=2000, shuffle=False, num_workers=2)"
   ]
  },
  {
   "cell_type": "code",
   "execution_count": 19,
   "metadata": {},
   "outputs": [
    {
     "data": {
      "text/plain": [
       "torch.Size([2000, 1, 28, 28])"
      ]
     },
     "execution_count": 19,
     "metadata": {},
     "output_type": "execute_result"
    }
   ],
   "source": [
    "## demo of train loader\n",
    "xx, yy = iter(train_loader).next()\n",
    "xx.shape"
   ]
  },
  {
   "cell_type": "markdown",
   "metadata": {},
   "source": [
    "# Model"
   ]
  },
  {
   "cell_type": "code",
   "execution_count": 20,
   "metadata": {},
   "outputs": [],
   "source": [
    "class MlpBLock(nn.Module):\n",
    "    \n",
    "    def __init__(self, dims, actf=nn.ReLU):\n",
    "        super().__init__()\n",
    "        self.dims = dims\n",
    "        #### convert hidden layers ratio to list if integer is inputted\n",
    "            \n",
    "        self.mlp = []\n",
    "        ### for 1 hidden layer, we iterate 2 times\n",
    "        for h in range(len(self.dims)-1):\n",
    "            i, o = int(self.dims[h]),\\\n",
    "                    int(self.dims[h+1])\n",
    "            self.mlp.append(nn.Linear(i, o))\n",
    "#             self.mlp.append(nn.BatchNorm1d(o))\n",
    "            self.mlp.append(\n",
    "                nn.Sequential(\n",
    "#                               nn.BatchNorm1d(o),\n",
    "                              nn.Dropout(p=0.1),\n",
    "                              nn.LayerNorm(o),\n",
    "                              actf(),\n",
    "                             )\n",
    "                            )\n",
    "        self.mlp = self.mlp[:-1]\n",
    "        \n",
    "        self.mlp = nn.Sequential(*self.mlp)\n",
    "        \n",
    "    def forward(self, x):\n",
    "        return self.mlp(x)"
   ]
  },
  {
   "cell_type": "code",
   "execution_count": 21,
   "metadata": {},
   "outputs": [
    {
     "data": {
      "text/plain": [
       "MlpBLock(\n",
       "  (mlp): Sequential(\n",
       "    (0): Linear(in_features=2, out_features=3, bias=True)\n",
       "    (1): Sequential(\n",
       "      (0): Dropout(p=0.1, inplace=False)\n",
       "      (1): LayerNorm((3,), eps=1e-05, elementwise_affine=True)\n",
       "      (2): ReLU()\n",
       "    )\n",
       "    (2): Linear(in_features=3, out_features=4, bias=True)\n",
       "  )\n",
       ")"
      ]
     },
     "execution_count": 21,
     "metadata": {},
     "output_type": "execute_result"
    }
   ],
   "source": [
    "MlpBLock([2, 3,4])"
   ]
  },
  {
   "cell_type": "markdown",
   "metadata": {},
   "source": [
    "## Graph Creation Practice"
   ]
  },
  {
   "cell_type": "code",
   "execution_count": 22,
   "metadata": {},
   "outputs": [
    {
     "data": {
      "image/png": "[encoded data removed]",
      "text/plain": [
       "<Figure size 432x288 with 1 Axes>"
      ]
     },
     "metadata": {},
     "output_type": "display_data"
    }
   ],
   "source": [
    "import networkx as nx\n",
    "import matplotlib.pyplot as plt\n",
    "\n",
    "G = nx.DiGraph()\n",
    "G.add_edge(0, 1)\n",
    "G.add_edge(0, 2)\n",
    "G.add_edge(0, 3)\n",
    "G.add_edge(1, 4)\n",
    "G.add_edge(1, 5)\n",
    "G.add_edge(2, 5)\n",
    "G.add_edge(2, 6)\n",
    "G.add_edge(3, 6)\n",
    "G.add_edge(4, 7)\n",
    "G.add_edge(5, 7)\n",
    "G.add_edge(6, 7)\n",
    "G.add_edge(7, 8)\n",
    "G.add_edge(7, 9)\n",
    "G.add_edge(6, 9)\n",
    "G.add_edge(8, 10)\n",
    "G.add_edge(9, 10)\n",
    "G.add_edge(10, 11)\n",
    "\n",
    "\n",
    "# explicitly set positions\n",
    "pos = {0: (0, 1), \n",
    "       1: (1, 0), \n",
    "       2: (1, 1), \n",
    "       3: (1, 2), \n",
    "       4: (2, 0),\n",
    "       5: (2, 1),\n",
    "       6: (2.25, 2),\n",
    "       7: (3, 0.5),\n",
    "       8: (4, 0.5),\n",
    "       9: (4, 1.5),\n",
    "       10: (5, 1),\n",
    "       11: (6, 1),\n",
    "      }\n",
    "\n",
    "options = {\n",
    "    \"font_size\": 10,\n",
    "    \"node_size\": 300,\n",
    "    \"node_color\": \"white\",\n",
    "    \"edgecolors\": \"black\",\n",
    "    \"linewidths\": 2,\n",
    "    \"width\": 2,\n",
    "}\n",
    "nx.draw_networkx(G, pos, **options)\n",
    "\n",
    "# Set margins for the axes so that nodes aren't clipped\n",
    "ax = plt.gca()\n",
    "ax.margins(0.20)\n",
    "plt.axis(\"off\")\n",
    "plt.show()"
   ]
  },
  {
   "cell_type": "code",
   "execution_count": 23,
   "metadata": {},
   "outputs": [
    {
     "data": {
      "text/plain": [
       "OutEdgeView([(0, 1), (0, 2), (0, 3), (1, 4), (1, 5), (2, 5), (2, 6), (3, 6), (4, 7), (5, 7), (6, 7), (6, 9), (7, 8), (7, 9), (8, 10), (9, 10), (10, 11)])"
      ]
     },
     "execution_count": 23,
     "metadata": {},
     "output_type": "execute_result"
    }
   ],
   "source": [
    "G.edges"
   ]
  },
  {
   "cell_type": "code",
   "execution_count": 24,
   "metadata": {},
   "outputs": [
    {
     "data": {
      "text/plain": [
       "(InDegreeView({0: 0, 1: 1, 2: 1, 3: 1, 4: 1, 5: 2, 6: 2, 7: 3, 8: 1, 9: 2, 10: 2, 11: 1}),\n",
       " OutDegreeView({0: 3, 1: 2, 2: 2, 3: 1, 4: 1, 5: 1, 6: 2, 7: 2, 8: 1, 9: 1, 10: 1, 11: 0}))"
      ]
     },
     "execution_count": 24,
     "metadata": {},
     "output_type": "execute_result"
    }
   ],
   "source": [
    "G.in_degree(), G.out_degree()"
   ]
  },
  {
   "cell_type": "code",
   "execution_count": 25,
   "metadata": {},
   "outputs": [
    {
     "data": {
      "text/plain": [
       "OutEdgeView([(0, 1), (0, 2), (0, 3), (1, 4), (1, 5), (2, 5), (2, 6), (3, 6), (4, 7), (5, 7), (6, 7), (6, 9), (7, 8), (7, 9), (8, 10), (9, 10), (10, 11)])"
      ]
     },
     "execution_count": 25,
     "metadata": {},
     "output_type": "execute_result"
    }
   ],
   "source": [
    "G.out_edges"
   ]
  },
  {
   "cell_type": "code",
   "execution_count": 26,
   "metadata": {},
   "outputs": [
    {
     "data": {
      "text/plain": [
       "InEdgeView([(0, 1), (0, 2), (0, 3), (1, 4), (1, 5), (2, 5), (2, 6), (3, 6), (4, 7), (5, 7), (6, 7), (7, 8), (7, 9), (6, 9), (8, 10), (9, 10), (10, 11)])"
      ]
     },
     "execution_count": 26,
     "metadata": {},
     "output_type": "execute_result"
    }
   ],
   "source": [
    "G.in_edges"
   ]
  },
  {
   "cell_type": "markdown",
   "metadata": {},
   "source": [
    "## Block Dimension-Mixer "
   ]
  },
  {
   "cell_type": "markdown",
   "metadata": {},
   "source": [
    "1. `Local Models` are the basis for local training of models.\n",
    "2. `Local Models` have their own optimizer and communicate via low bandwidth connection.\n",
    "3. This experiment verifies if training local models reduces the number of forward and backward pass for reaching the solution.\n",
    "4. The main idea is to update local model multiple times and backproping the final gradient, rather than doing it one iteration (similar to higher order optimization ?? like 1.5-nd optimization)\n",
    "5. The optimal spectrum lies in between (Its like dynamic optimization, while doing inference with more communication between local models, far away models communicate less). There has been similar ideas otherwhere as well but not exactly. Its based on my own experiment using optimizer for find better gradient for global optimizer."
   ]
  },
  {
   "cell_type": "code",
   "execution_count": 27,
   "metadata": {},
   "outputs": [],
   "source": [
    "### temp herer\n",
    "xx = torch.randn(5, 3)\n",
    "dys = [torch.randn(5, 2), torch.randn(5,2)]"
   ]
  },
  {
   "cell_type": "code",
   "execution_count": 28,
   "metadata": {},
   "outputs": [],
   "source": [
    "import abc"
   ]
  },
  {
   "cell_type": "code",
   "execution_count": 29,
   "metadata": {},
   "outputs": [],
   "source": [
    "class DistributedNode(abc.ABC):\n",
    "#     @abc.abstractmethod\n",
    "    def set_input_nodes(self, nodes):\n",
    "        pass\n",
    "    \n",
    "#     @abc.abstractmethod\n",
    "    def set_output_nodes(self, nodes):\n",
    "        pass\n",
    "    \n",
    "#     @abc.abstractmethod\n",
    "    def forward_local(self):\n",
    "        pass\n",
    "    \n",
    "#     @abc.abstractmethod\n",
    "    def backward_local(self):\n",
    "        pass\n",
    "    \n",
    "#     @abc.abstractmethod\n",
    "    def update_local(self):\n",
    "        pass\n",
    "    \n",
    "#     @abc.abstractmethod\n",
    "#     def train_loop(self, ):\n",
    "#         pass"
   ]
  },
  {
   "cell_type": "code",
   "execution_count": 30,
   "metadata": {},
   "outputs": [],
   "source": [
    "import copy"
   ]
  },
  {
   "cell_type": "code",
   "execution_count": 31,
   "metadata": {},
   "outputs": [],
   "source": [
    "class LocalModel(DistributedNode):\n",
    "    \n",
    "    def __init__(self, model, lr=0.001, local_lr=0.1, local_updates=100):\n",
    "        self.model = model\n",
    "        self.lr = lr\n",
    "        self.optimizer = None\n",
    "#         self.optimizer = torch.optim.Adam(self.model.parameters(), lr=lr)\n",
    "        self.local_lr = local_lr\n",
    "        self.local_updates = local_updates\n",
    "        \n",
    "        self.output_dim = model.dims[-1]\n",
    "        self.split_indices = None\n",
    "        \n",
    "        ### temporary state variables\n",
    "        self.input_received = []\n",
    "        self.input_shapes = []\n",
    "        self.output_shape = None\n",
    "        self.grad_received = None\n",
    "        ######## testing target\n",
    "        self.target = None\n",
    "        \n",
    "        #### For storing local variables\n",
    "        \n",
    "    def set_split_mixing_indices(self, split_sizes=None):\n",
    "        if split_sizes is None:\n",
    "            split_sizes = [self.output_dim, ]\n",
    "        ## split sizes added must be >= to input size\n",
    "        assert self.output_dim <= np.sum(split_sizes), \"split sizes are less than input dimension\"\n",
    "        for ss in split_sizes:\n",
    "            assert self.output_dim >= ss, \"split sizes are greater than input dimension\"\n",
    "            \n",
    "        \n",
    "        ## also do not use split sizes greater than input dimension\n",
    "        \n",
    "        indices = np.arange(0, self.output_dim, 1, dtype=int)\n",
    "        indices = np.random.permutation(indices)\n",
    "        \n",
    "        ## first divide input dimension into all splits\n",
    "        split_loc = split_sizes/np.sum(split_sizes)*self.output_dim\n",
    "        split_loc = split_loc.astype(int)\n",
    "        split_loc[0] += self.output_dim-split_loc.sum()\n",
    "        \n",
    "        index = np.split(indices, np.cumsum(split_loc[:-1]))\n",
    "        ## for extra input dimensions, sample randomly from remaining node indices.\n",
    "        for i in range(len(index)):\n",
    "            idx = index[i]\n",
    "            mask = np.ones(self.output_dim, dtype=bool)\n",
    "            mask[idx] = False\n",
    "            remaining = np.arange(0, self.output_dim, 1, dtype=int)[mask]\n",
    "            num_remain = split_sizes[i] - len(idx)\n",
    "            new_idx = remaining[np.random.permutation(len(remaining))[:num_remain]]\n",
    "            new_idx = np.array(new_idx)\n",
    "            \n",
    "            all_inx = np.concatenate((idx, new_idx))\n",
    "            index[i] = torch.LongTensor(all_inx)\n",
    "            pass\n",
    "        \n",
    "        self.split_indices = index\n",
    "        pass\n",
    "        \n",
    "        \n",
    "    def forward(self, x):\n",
    "        return self.model(x)\n",
    "        \n",
    "    @torch.no_grad()\n",
    "    def forward_local(self, xs):\n",
    "        ### concat received inputs\n",
    "        self.input_shapes = [xi.shape for xi in xs]\n",
    "        xs = torch.cat(xs, dim=1)\n",
    "        \n",
    "        self.input_received = xs.data\n",
    "\n",
    "        xs = self.model(xs)\n",
    "        self.output_shape = xs.shape\n",
    "        \n",
    "        ys = []\n",
    "        for si in self.split_indices:\n",
    "            ys.append(xs[:, si])\n",
    "\n",
    "#         .split([100, 100], dim=1)\n",
    "        return ys\n",
    "    \n",
    "    def backward_local(self, dys):\n",
    "        ### concat received gradients\n",
    "        with torch.no_grad():\n",
    "            \n",
    "            grads = torch.zeros(self.output_shape).to(dys[0].device)\n",
    "            for i, si in enumerate(self.split_indices):\n",
    "                grads[:,si] += dys[i]\n",
    "\n",
    "            self.grad_received = grads\n",
    "\n",
    "        ### Set input gradients and target\n",
    "        Xs = nn.Parameter(self.input_received, requires_grad=True)\n",
    "        ys = self.model(Xs)\n",
    "        Xgrad = torch.autograd.grad(ys, Xs, self.grad_received, only_inputs=True)[0]\n",
    "        \n",
    "        split_sz = [t[-1] for t in self.input_shapes]\n",
    "        input_grads = Xgrad.split(split_sz, dim=1)\n",
    "        \n",
    "        self.target = ys.data - grads.data*10.0\n",
    "\n",
    "        ####### Train the local network\n",
    "        \n",
    "#         criterion = nn.MSELoss()\n",
    "        def criterion(y, t):\n",
    "            return (0.5*(y-t)**2).sum()\n",
    "\n",
    "        self.optimizer = torch.optim.Adam(self.model.parameters(), lr=0.001, betas=(0.9, 0.99))\n",
    "            \n",
    "        ### get model gradients different way\n",
    "        for epoch in range(100): ### Extra steps for optimizing using the same target\n",
    "            ys = self.model(self.input_received)\n",
    "            loss = criterion(ys, self.target)\n",
    "            \n",
    "            self.optimizer.zero_grad()\n",
    "            loss.backward()\n",
    "            self.optimizer.step()\n",
    "\n",
    "        return input_grads"
   ]
  },
  {
   "cell_type": "code",
   "execution_count": 32,
   "metadata": {},
   "outputs": [],
   "source": [
    "lm = LocalModel(MlpBLock([3, 5, 3]))"
   ]
  },
  {
   "cell_type": "code",
   "execution_count": 33,
   "metadata": {},
   "outputs": [
    {
     "data": {
      "text/plain": [
       "MlpBLock(\n",
       "  (mlp): Sequential(\n",
       "    (0): Linear(in_features=3, out_features=5, bias=True)\n",
       "    (1): Sequential(\n",
       "      (0): Dropout(p=0.1, inplace=False)\n",
       "      (1): LayerNorm((5,), eps=1e-05, elementwise_affine=True)\n",
       "      (2): ReLU()\n",
       "    )\n",
       "    (2): Linear(in_features=5, out_features=3, bias=True)\n",
       "  )\n",
       ")"
      ]
     },
     "execution_count": 33,
     "metadata": {},
     "output_type": "execute_result"
    }
   ],
   "source": [
    "lm.model"
   ]
  },
  {
   "cell_type": "code",
   "execution_count": 34,
   "metadata": {},
   "outputs": [],
   "source": [
    "lm.optimizer = torch.optim.SGD(lm.model.parameters(), lr=lm.lr)"
   ]
  },
  {
   "cell_type": "code",
   "execution_count": 35,
   "metadata": {},
   "outputs": [
    {
     "data": {
      "text/plain": [
       "tensor([[ 0.6218,  0.1391, -0.1038],\n",
       "        [ 0.6322,  0.0490, -0.0192],\n",
       "        [ 0.9815, -0.3491, -0.5624],\n",
       "        [ 0.4869,  0.3159,  0.0832],\n",
       "        [ 0.9514, -0.2961, -0.5664]], grad_fn=<AddmmBackward>)"
      ]
     },
     "execution_count": 35,
     "metadata": {},
     "output_type": "execute_result"
    }
   ],
   "source": [
    "# xx = torch.randn(1, 3)\n",
    "lm.forward(xx)"
   ]
  },
  {
   "cell_type": "code",
   "execution_count": 36,
   "metadata": {},
   "outputs": [],
   "source": [
    "lm.set_split_mixing_indices([2, 2])\n",
    "# lm.set_split_mixing_indices(None)"
   ]
  },
  {
   "cell_type": "code",
   "execution_count": 37,
   "metadata": {},
   "outputs": [
    {
     "data": {
      "text/plain": [
       "[tensor([1, 0]), tensor([2, 0])]"
      ]
     },
     "execution_count": 37,
     "metadata": {},
     "output_type": "execute_result"
    }
   ],
   "source": [
    "lm.split_indices"
   ]
  },
  {
   "cell_type": "code",
   "execution_count": 38,
   "metadata": {},
   "outputs": [
    {
     "data": {
      "text/plain": [
       "SGD (\n",
       "Parameter Group 0\n",
       "    dampening: 0\n",
       "    lr: 0.001\n",
       "    momentum: 0\n",
       "    nesterov: False\n",
       "    weight_decay: 0\n",
       ")"
      ]
     },
     "execution_count": 38,
     "metadata": {},
     "output_type": "execute_result"
    }
   ],
   "source": [
    "lm.optimizer"
   ]
  },
  {
   "cell_type": "code",
   "execution_count": 39,
   "metadata": {},
   "outputs": [
    {
     "data": {
      "text/plain": [
       "[tensor([[ 0.7736,  0.0546],\n",
       "         [-0.0384,  0.7111],\n",
       "         [-0.3281,  0.9417],\n",
       "         [ 0.1736,  0.5918],\n",
       "         [-0.2961,  0.9514]]), tensor([[ 0.7708,  0.0546],\n",
       "         [-0.0343,  0.7111],\n",
       "         [-0.4501,  0.9417],\n",
       "         [ 0.1132,  0.5918],\n",
       "         [-0.5664,  0.9514]])]"
      ]
     },
     "execution_count": 39,
     "metadata": {},
     "output_type": "execute_result"
    }
   ],
   "source": [
    "lm.forward_local([xx])"
   ]
  },
  {
   "cell_type": "code",
   "execution_count": 40,
   "metadata": {},
   "outputs": [
    {
     "data": {
      "text/plain": [
       "(tensor([[-0.0412,  0.0151, -0.1132],\n",
       "         [-0.0146,  0.0821, -0.1678],\n",
       "         [-0.2792, -0.0083, -0.5008],\n",
       "         [-0.2179,  0.1060, -0.3430],\n",
       "         [-0.1894,  0.4763, -0.3792]]),)"
      ]
     },
     "execution_count": 40,
     "metadata": {},
     "output_type": "execute_result"
    }
   ],
   "source": [
    "# dys = [torch.randn(2, 2), torch.randn(2,2)]\n",
    "# dys = [torch.randn(2, 3),]\n",
    "\n",
    "lm.backward_local(dys)"
   ]
  },
  {
   "cell_type": "code",
   "execution_count": 41,
   "metadata": {},
   "outputs": [
    {
     "data": {
      "text/plain": [
       "tensor([[ 0.4365,  0.9052, -1.1178],\n",
       "        [-0.6385, -0.6886, -1.2619],\n",
       "        [-1.8118, -1.1341,  0.5572],\n",
       "        [ 0.5301, -0.8454, -0.5601],\n",
       "        [-0.0254, -1.5666,  0.1754]])"
      ]
     },
     "execution_count": 41,
     "metadata": {},
     "output_type": "execute_result"
    }
   ],
   "source": [
    "lm.grad_received"
   ]
  },
  {
   "cell_type": "code",
   "execution_count": 42,
   "metadata": {},
   "outputs": [
    {
     "name": "stdout",
     "output_type": "stream",
     "text": [
      "tensor([[-23.3312,  25.9624,   5.9204],\n",
      "        [  1.9648,  -8.2210,   4.8717],\n",
      "        [  1.1793,   1.2276,  -5.7612],\n",
      "        [ 22.9163, -31.2994,  -2.0972],\n",
      "        [ -5.8766,   5.6108,  -1.9636]])\n",
      "tensor([-23.5637,   3.3544,   2.8590,  24.8063,  -4.6940])\n",
      "tensor([-21.2026,   0.2697,  -3.5235,  -2.4529,   0.0000])\n",
      "tensor([-19.2972,   1.9264,  -5.5063,   6.5356,   0.0000])\n",
      "tensor([[  8.8809,   0.2320,  -4.9734, -31.6442,   0.0000],\n",
      "        [-19.3861,  -0.3670,  -4.9184, -35.0321,   0.0000],\n",
      "        [-32.5608,  -0.2354,  -9.1424,  -3.1139,   0.0000]])\n",
      "tensor([-16.1850, -29.8577, -18.6896])\n"
     ]
    }
   ],
   "source": [
    "for p in lm.model.parameters():\n",
    "    print(p.grad)"
   ]
  },
  {
   "cell_type": "code",
   "execution_count": 43,
   "metadata": {},
   "outputs": [
    {
     "data": {
      "text/plain": [
       "Parameter containing:\n",
       "tensor([0.4337, 0.4827, 0.1345], requires_grad=True)"
      ]
     },
     "execution_count": 43,
     "metadata": {},
     "output_type": "execute_result"
    }
   ],
   "source": [
    "p"
   ]
  },
  {
   "cell_type": "code",
   "execution_count": 44,
   "metadata": {},
   "outputs": [
    {
     "data": {
      "text/plain": [
       "[Parameter containing:\n",
       " tensor([[ 0.5614, -0.3028,  0.0709],\n",
       "         [ 0.1420,  0.4275,  0.2995],\n",
       "         [ 0.0889, -0.2332, -0.4129],\n",
       "         [ 0.2047, -0.1809, -0.4406],\n",
       "         [ 0.3281,  0.6147, -0.2883]], requires_grad=True),\n",
       " Parameter containing:\n",
       " tensor([-0.1269,  0.2555, -0.3956,  0.0448, -0.5894], requires_grad=True),\n",
       " Parameter containing:\n",
       " tensor([1.1080, 0.9351, 1.0587, 0.9351, 0.9841], requires_grad=True),\n",
       " Parameter containing:\n",
       " tensor([ 0.1007, -0.0831,  0.0936, -0.0870, -0.0206], requires_grad=True),\n",
       " Parameter containing:\n",
       " tensor([[-0.2902,  0.1959,  0.1175,  0.4369,  0.0396],\n",
       "         [ 0.3997, -0.2160, -0.1230, -0.2876, -0.1232],\n",
       "         [ 0.4647,  0.1328,  0.4673, -0.2659,  0.4008]], requires_grad=True),\n",
       " Parameter containing:\n",
       " tensor([0.4337, 0.4827, 0.1345], requires_grad=True)]"
      ]
     },
     "execution_count": 44,
     "metadata": {},
     "output_type": "execute_result"
    }
   ],
   "source": [
    "lm.optimizer.param_groups[0]['params']"
   ]
  },
  {
   "cell_type": "code",
   "execution_count": 45,
   "metadata": {},
   "outputs": [
    {
     "data": {
      "text/plain": [
       "defaultdict(dict, {Parameter containing:\n",
       "             tensor([ 0.1007, -0.0831,  0.0936, -0.0870, -0.0206], requires_grad=True): {'exp_avg': tensor([-17.3473,   1.6802,  -7.6070,   7.0065,  -0.5298]),\n",
       "              'exp_avg_sq': tensor([195.9168,   2.7994,  29.5039,  69.6470,   1.6966]),\n",
       "              'step': 100},\n",
       "             Parameter containing:\n",
       "             tensor([-0.1269,  0.2555, -0.3956,  0.0448, -0.5894], requires_grad=True): {'exp_avg': tensor([-17.6780,   2.5028,   0.8006,  22.2754,  -3.5491]),\n",
       "              'exp_avg_sq': tensor([435.2649,  12.5848,  43.2766, 296.5711,  42.4553]),\n",
       "              'step': 100},\n",
       "             Parameter containing:\n",
       "             tensor([0.4337, 0.4827, 0.1345], requires_grad=True): {'exp_avg': tensor([-15.9701, -30.3408, -18.9168]),\n",
       "              'exp_avg_sq': tensor([156.8055, 621.4954, 251.0778]),\n",
       "              'step': 100},\n",
       "             Parameter containing:\n",
       "             tensor([1.1080, 0.9351, 1.0587, 0.9351, 0.9841], requires_grad=True): {'exp_avg': tensor([-18.1355,   0.3741,  -2.8339,   0.1221,  -0.2454]),\n",
       "              'exp_avg_sq': tensor([166.0176,   0.6460,   4.3168,  47.8390,   0.4131]),\n",
       "              'step': 100},\n",
       "             Parameter containing:\n",
       "             tensor([[ 0.5614, -0.3028,  0.0709],\n",
       "                     [ 0.1420,  0.4275,  0.2995],\n",
       "                     [ 0.0889, -0.2332, -0.4129],\n",
       "                     [ 0.2047, -0.1809, -0.4406],\n",
       "                     [ 0.3281,  0.6147, -0.2883]], requires_grad=True): {'exp_avg': tensor([[-14.1364,  22.6669,   0.6917],\n",
       "                      [  1.7972,  -8.9835,   5.5012],\n",
       "                      [  1.5773,  14.6298,  -8.7264],\n",
       "                      [ 18.0172, -34.0114,   2.1514],\n",
       "                      [ -3.6406,   2.0303,  -0.0872]]),\n",
       "              'exp_avg_sq': tensor([[365.2848, 454.5190,  89.4058],\n",
       "                      [ 19.8012,  58.9771,  15.4527],\n",
       "                      [ 42.1936, 186.9454, 118.7319],\n",
       "                      [258.0197, 709.1414,  14.0665],\n",
       "                      [ 25.1696,   8.1143,  57.7773]]),\n",
       "              'step': 100},\n",
       "             Parameter containing:\n",
       "             tensor([[-0.2902,  0.1959,  0.1175,  0.4369,  0.0396],\n",
       "                     [ 0.3997, -0.2160, -0.1230, -0.2876, -0.1232],\n",
       "                     [ 0.4647,  0.1328,  0.4673, -0.2659,  0.4008]], requires_grad=True): {'exp_avg': tensor([[  7.8524,   0.3744,  -5.9337, -29.2129,  -0.4286],\n",
       "                      [-14.7253,  -1.5143,  -5.6125, -36.9464,  -0.4094],\n",
       "                      [-29.8243,  -1.4343,  -8.0489,  -4.0932,  -0.6654]]),\n",
       "              'exp_avg_sq': tensor([[  38.2806,    2.0027,  120.6987,  524.3146,    5.6225],\n",
       "                      [ 154.1244,    7.1828,   49.2807, 1033.4796,    2.1706],\n",
       "                      [ 457.3016,    6.2121,   31.2600,   91.6887,    1.8150]]),\n",
       "              'step': 100}})"
      ]
     },
     "execution_count": 45,
     "metadata": {},
     "output_type": "execute_result"
    }
   ],
   "source": [
    "lm.optimizer.state"
   ]
  },
  {
   "cell_type": "code",
   "execution_count": null,
   "metadata": {},
   "outputs": [],
   "source": []
  },
  {
   "cell_type": "code",
   "execution_count": null,
   "metadata": {},
   "outputs": [],
   "source": []
  },
  {
   "cell_type": "code",
   "execution_count": 46,
   "metadata": {},
   "outputs": [],
   "source": [
    "xx = torch.randn(5, 3)\n",
    "dys = [torch.randn(5, 2), torch.randn(5,2)]"
   ]
  },
  {
   "cell_type": "code",
   "execution_count": 47,
   "metadata": {},
   "outputs": [],
   "source": [
    "# None\n",
    "# tensor([[-0.0216, -0.0131, -0.0257],\n",
    "#         [-0.0267, -0.0162, -0.0317],\n",
    "#         [ 2.6498,  1.6019,  3.1403],\n",
    "#         [-0.1429, -0.0864, -0.1694],\n",
    "#         [ 0.9580,  0.5792,  1.1354]])\n",
    "# None\n",
    "# tensor([ 0.0157,  0.0194, -1.9184,  0.1035, -0.6936])\n",
    "# None\n",
    "# tensor([[ 0.0912, -0.0091,  1.3586, -0.3357, -0.0134],\n",
    "#         [-0.2009,  0.0201, -2.9941,  0.7397,  0.0295],\n",
    "#         [-0.0647,  0.0065, -0.9643,  0.2382,  0.0095]])\n",
    "# None\n",
    "# tensor([ 2.4200, -5.3331, -1.7176])\n",
    "# ----------\n",
    "# tensor([[-0.0216, -0.0131, -0.0257],\n",
    "#         [-0.0267, -0.0162, -0.0317],\n",
    "#         [ 2.6498,  1.6019,  3.1403],\n",
    "#         [-0.1429, -0.0864, -0.1694],\n",
    "#         [ 0.9580,  0.5792,  1.1354]])\n",
    "# tensor([ 0.0157,  0.0194, -1.9184,  0.1035, -0.6936])\n",
    "# tensor([[ 0.0912, -0.0091,  1.3586, -0.3357, -0.0134],\n",
    "#         [-0.2009,  0.0201, -2.9941,  0.7397,  0.0295],\n",
    "#         [-0.0647,  0.0065, -0.9643,  0.2382,  0.0095]])\n",
    "# tensor([ 2.4200, -5.3331, -1.7176])\n",
    "# (tensor([[-0.6782,  0.9934,  0.2818]]),)"
   ]
  },
  {
   "cell_type": "code",
   "execution_count": 48,
   "metadata": {},
   "outputs": [],
   "source": [
    "class DataFeeder(DistributedNode):\n",
    "    \n",
    "    def __init__(self, input_dim, split_sizes = []):\n",
    "        super().__init__()\n",
    "        self.input_dim = input_dim\n",
    "        self.split_sizes = np.array(split_sizes, dtype=int)\n",
    "        self.split_indices = None\n",
    "\n",
    "        self.inputs = None\n",
    "        self.output_nodes = None\n",
    "        \n",
    "        ## preprocessing steps\n",
    "        self._set_split_mixing_indices_()\n",
    "        \n",
    "    def _set_split_mixing_indices_(self):\n",
    "        ## split sizes added must be >= to input size\n",
    "        assert self.input_dim <= np.sum(self.split_sizes), \"split sizes are less than input dimension\"\n",
    "        for ss in self.split_sizes:\n",
    "            assert self.input_dim >= ss, \"split sizes are greater than input dimension\"\n",
    "            \n",
    "        \n",
    "        ## also do not use split sizes greater than input dimension\n",
    "        \n",
    "        indices = np.arange(0, self.input_dim, 1, dtype=int)\n",
    "        indices = np.random.permutation(indices)\n",
    "        \n",
    "#         print(indices)\n",
    "        ## first divide input dimension into all splits\n",
    "        split_indices = self.split_sizes/np.sum(self.split_sizes)*self.input_dim\n",
    "        split_indices = split_indices.astype(int)\n",
    "        split_indices[0] += self.input_dim-split_indices.sum()\n",
    "        print(split_indices, split_indices.sum())\n",
    "        \n",
    "        index = np.split(indices, np.cumsum(split_indices[:-1]))\n",
    "#         for idx in index:\n",
    "#             print(len(idx))\n",
    "            \n",
    "        ## for extra input dimensions, sample randomly from remaining node indices.\n",
    "        for i in range(len(index)):\n",
    "            idx = index[i]\n",
    "            mask = np.ones(self.input_dim, dtype=bool)\n",
    "            mask[idx] = False\n",
    "            remaining = np.arange(0, self.input_dim, 1, dtype=int)[mask]\n",
    "            num_remain = self.split_sizes[i] - len(idx)\n",
    "            new_idx = remaining[np.random.permutation(len(remaining))[:num_remain]]\n",
    "            new_idx = np.array(new_idx)\n",
    "            \n",
    "            all_inx = np.concatenate((idx, new_idx))\n",
    "            index[i] = torch.LongTensor(all_inx)\n",
    "            \n",
    "        for idx in index:\n",
    "            print(len(idx))\n",
    "            \n",
    "        self.split_indices = index\n",
    "        pass\n",
    "\n",
    "    def set_input(self, x):\n",
    "        '''\n",
    "        x is assumed to be 2D; --> BatchSize, Dimension\n",
    "        '''\n",
    "        sz = x.shape\n",
    "        x = x.reshape(sz[0], -1)\n",
    "        self.inputs = [None for _ in range(len(self.split_indices))]\n",
    "        for i, si in enumerate(self.split_indices):\n",
    "            self.inputs[i] = x[:, si.to(x.device)]\n",
    "        return self.inputs\n",
    "    \n",
    "    def forward_local(self, x):\n",
    "        return self.set_input(x)\n",
    "    \n",
    "    def backward_local(self, ):\n",
    "        pass\n",
    "    \n",
    "    def update_local(self, ):\n",
    "        pass"
   ]
  },
  {
   "cell_type": "code",
   "execution_count": 49,
   "metadata": {},
   "outputs": [
    {
     "name": "stdout",
     "output_type": "stream",
     "text": [
      "[262 261 261] 784\n",
      "300\n",
      "300\n",
      "300\n"
     ]
    }
   ],
   "source": [
    "df = DataFeeder(784, [300, 300, 300])"
   ]
  },
  {
   "cell_type": "code",
   "execution_count": 50,
   "metadata": {},
   "outputs": [],
   "source": [
    "class GraphDimMixerModel(nn.Module):\n",
    "    \n",
    "    def __init__(self):\n",
    "        super().__init__()\n",
    "        ## defining model hardcoded\n",
    "        self.m0 = DataFeeder(784, split_sizes=[300, 300, 300])\n",
    "        \n",
    "        self.m1 = MlpBLock([300, 600, 300])\n",
    "        self.m2 = MlpBLock([300, 500, 250])\n",
    "        self.m3 = MlpBLock([300, 500, 200])\n",
    "        \n",
    "        self.m4 = MlpBLock([150, 300, 100])\n",
    "        self.m5 = MlpBLock([250, 400, 100])\n",
    "        self.m6 = MlpBLock([350, 500, 200])\n",
    "        self.m7 = MlpBLock([300, 500, 200])\n",
    "        self.m8 = MlpBLock([100, 150, 50])\n",
    "        self.m9 = MlpBLock([200, 300, 100])\n",
    "        self.m10 = MlpBLock([150, 200, 10])\n",
    "        \n",
    "    def forward(self, x):\n",
    "        x1, x2, x3 = self.m0.forward_local(x)\n",
    "        x1 = self.m1(x1).split([150, 150], dim=1)\n",
    "        x2 = self.m2(x2).split([100, 150], dim=1)\n",
    "        x3 = self.m3(x3)\n",
    "        \n",
    "        x4 = x1[0]\n",
    "        x5 = torch.cat([x1[1], x2[0]], dim=1)\n",
    "        x6 = torch.cat([x2[1], x3], dim=1)\n",
    "        x4 = self.m4(x4)\n",
    "        x5 = self.m5(x5)\n",
    "        x6 = self.m6(x6).split([100, 100], dim=1)\n",
    "        \n",
    "        x7 = torch.cat([x4, x5, x6[0]], dim=1)\n",
    "        x7 = self.m7(x7).split([100, 100], dim=1)\n",
    "#         print(x7[0].shape, x7[1].shape)\n",
    "        x8 = x7[0]\n",
    "        x8 = self.m8(x8)\n",
    "        x9 = torch.cat([x6[1], x7[1]], dim=1)\n",
    "        x9 = self.m9(x9)\n",
    "        \n",
    "        x10 = torch.cat([x9, x8], dim=1)\n",
    "        x10 = self.m10(x10)\n",
    "        return x10"
   ]
  },
  {
   "cell_type": "code",
   "execution_count": 51,
   "metadata": {},
   "outputs": [],
   "source": [
    "# model = GraphDimMixerModel().to(device)\n",
    "# model"
   ]
  },
  {
   "cell_type": "code",
   "execution_count": null,
   "metadata": {},
   "outputs": [],
   "source": []
  },
  {
   "cell_type": "code",
   "execution_count": 52,
   "metadata": {},
   "outputs": [],
   "source": [
    "class Dist_GraphDimMixerModel(nn.Module):\n",
    "    \n",
    "    def __init__(self):\n",
    "        super().__init__()\n",
    "        ## defining model hardcoded\n",
    "        self.m0 = DataFeeder(784, split_sizes=[300, 300, 300])\n",
    "        \n",
    "        self.m1 = LocalModel(MlpBLock([300, 600, 300]))\n",
    "        self.m1.set_split_mixing_indices([150, 150])\n",
    "        self.m2 = LocalModel(MlpBLock([300, 500, 250]))\n",
    "        self.m2.set_split_mixing_indices([100, 150])\n",
    "        self.m3 = LocalModel(MlpBLock([300, 500, 200]))\n",
    "        self.m3.set_split_mixing_indices(None)\n",
    "        \n",
    "        self.m4 = LocalModel(MlpBLock([150, 300, 100]))\n",
    "        self.m4.set_split_mixing_indices(None)\n",
    "        self.m5 = LocalModel(MlpBLock([250, 400, 100]))\n",
    "        self.m5.set_split_mixing_indices(None)\n",
    "        self.m6 = LocalModel(MlpBLock([350, 500, 200]))\n",
    "        self.m6.set_split_mixing_indices([100, 100])\n",
    "        self.m7 = LocalModel(MlpBLock([300, 500, 200]))\n",
    "        self.m7.set_split_mixing_indices([100, 100])\n",
    "        self.m8 = LocalModel(MlpBLock([100, 150, 50]))\n",
    "        self.m8.set_split_mixing_indices(None)\n",
    "        self.m9 = LocalModel(MlpBLock([200, 300, 100]))\n",
    "        self.m9.set_split_mixing_indices(None)\n",
    "        self.m10 = LocalModel(MlpBLock([150, 200, 10]))\n",
    "        self.m10.set_split_mixing_indices(None)\n",
    "        \n",
    "        self.model_list = [self.m1, self.m2, self.m3, self.m4, self.m5, \n",
    "                           self.m6, self.m7, self.m8, self.m9, self.m10]\n",
    "        self.module_list = nn.ModuleList([m.model for m in self.model_list])\n",
    "        \n",
    "    def set_optimizer_with_device(self, device):\n",
    "        for m in self.model_list:\n",
    "            m.model.to(device)\n",
    "            m.optimizer = torch.optim.Adam(m.model.parameters(), lr=0.0001)\n",
    "#             m.optimizer = torch.optim.SGD(m.model.parameters(), lr=0.01)\n",
    "        pass\n",
    "        \n",
    "    def forward_local(self, x):\n",
    "        x1, x2, x3 = self.m0.forward_local(x)\n",
    "        x1 = self.m1.forward_local([x1])\n",
    "        x2 = self.m2.forward_local([x2])\n",
    "        x3 = self.m3.forward_local([x3])\n",
    "        \n",
    "        x4 = self.m4.forward_local([x1[0]])\n",
    "        x5 = self.m5.forward_local([x1[1], x2[0]])\n",
    "        \n",
    "        x6 = self.m6.forward_local([x2[1], x3[0]])\n",
    "        \n",
    "        x7 = self.m7.forward_local([x4[0], x5[0], x6[0]])\n",
    "        x8 = self.m8.forward_local([x7[0]])\n",
    "        x9 = self.m9.forward_local([x6[1], x7[1]])\n",
    "        \n",
    "        x10 = self.m10.forward_local([x8[0], x9[0]])\n",
    "        return x10[0]\n",
    "    \n",
    "    def backward_local(self, dy):\n",
    "        d10 = self.m10.backward_local([dy])\n",
    "        d9 = self.m9.backward_local([d10[1]])\n",
    "        d8 = self.m8.backward_local([d10[0]])\n",
    "        d7 = self.m7.backward_local([d8[0], d9[1]])\n",
    "        d6 = self.m6.backward_local([d7[2], d9[0]])\n",
    "        d5 = self.m5.backward_local([d7[1]])\n",
    "        d4 = self.m4.backward_local([d7[0]])\n",
    "        d3 = self.m3.backward_local([d6[1]])\n",
    "        d2 = self.m2.backward_local([d5[1], d6[0]])\n",
    "        d1 = self.m1.backward_local([d4[0], d5[0]])\n",
    "        return"
   ]
  },
  {
   "cell_type": "code",
   "execution_count": 53,
   "metadata": {},
   "outputs": [
    {
     "name": "stdout",
     "output_type": "stream",
     "text": [
      "[262 261 261] 784\n",
      "300\n",
      "300\n",
      "300\n"
     ]
    }
   ],
   "source": [
    "d_dimixer = Dist_GraphDimMixerModel().to(device)"
   ]
  },
  {
   "cell_type": "code",
   "execution_count": 54,
   "metadata": {},
   "outputs": [
    {
     "data": {
      "text/plain": [
       "Dist_GraphDimMixerModel(\n",
       "  (module_list): ModuleList(\n",
       "    (0): MlpBLock(\n",
       "      (mlp): Sequential(\n",
       "        (0): Linear(in_features=300, out_features=600, bias=True)\n",
       "        (1): Sequential(\n",
       "          (0): Dropout(p=0.1, inplace=False)\n",
       "          (1): LayerNorm((600,), eps=1e-05, elementwise_affine=True)\n",
       "          (2): ReLU()\n",
       "        )\n",
       "        (2): Linear(in_features=600, out_features=300, bias=True)\n",
       "      )\n",
       "    )\n",
       "    (1): MlpBLock(\n",
       "      (mlp): Sequential(\n",
       "        (0): Linear(in_features=300, out_features=500, bias=True)\n",
       "        (1): Sequential(\n",
       "          (0): Dropout(p=0.1, inplace=False)\n",
       "          (1): LayerNorm((500,), eps=1e-05, elementwise_affine=True)\n",
       "          (2): ReLU()\n",
       "        )\n",
       "        (2): Linear(in_features=500, out_features=250, bias=True)\n",
       "      )\n",
       "    )\n",
       "    (2): MlpBLock(\n",
       "      (mlp): Sequential(\n",
       "        (0): Linear(in_features=300, out_features=500, bias=True)\n",
       "        (1): Sequential(\n",
       "          (0): Dropout(p=0.1, inplace=False)\n",
       "          (1): LayerNorm((500,), eps=1e-05, elementwise_affine=True)\n",
       "          (2): ReLU()\n",
       "        )\n",
       "        (2): Linear(in_features=500, out_features=200, bias=True)\n",
       "      )\n",
       "    )\n",
       "    (3): MlpBLock(\n",
       "      (mlp): Sequential(\n",
       "        (0): Linear(in_features=150, out_features=300, bias=True)\n",
       "        (1): Sequential(\n",
       "          (0): Dropout(p=0.1, inplace=False)\n",
       "          (1): LayerNorm((300,), eps=1e-05, elementwise_affine=True)\n",
       "          (2): ReLU()\n",
       "        )\n",
       "        (2): Linear(in_features=300, out_features=100, bias=True)\n",
       "      )\n",
       "    )\n",
       "    (4): MlpBLock(\n",
       "      (mlp): Sequential(\n",
       "        (0): Linear(in_features=250, out_features=400, bias=True)\n",
       "        (1): Sequential(\n",
       "          (0): Dropout(p=0.1, inplace=False)\n",
       "          (1): LayerNorm((400,), eps=1e-05, elementwise_affine=True)\n",
       "          (2): ReLU()\n",
       "        )\n",
       "        (2): Linear(in_features=400, out_features=100, bias=True)\n",
       "      )\n",
       "    )\n",
       "    (5): MlpBLock(\n",
       "      (mlp): Sequential(\n",
       "        (0): Linear(in_features=350, out_features=500, bias=True)\n",
       "        (1): Sequential(\n",
       "          (0): Dropout(p=0.1, inplace=False)\n",
       "          (1): LayerNorm((500,), eps=1e-05, elementwise_affine=True)\n",
       "          (2): ReLU()\n",
       "        )\n",
       "        (2): Linear(in_features=500, out_features=200, bias=True)\n",
       "      )\n",
       "    )\n",
       "    (6): MlpBLock(\n",
       "      (mlp): Sequential(\n",
       "        (0): Linear(in_features=300, out_features=500, bias=True)\n",
       "        (1): Sequential(\n",
       "          (0): Dropout(p=0.1, inplace=False)\n",
       "          (1): LayerNorm((500,), eps=1e-05, elementwise_affine=True)\n",
       "          (2): ReLU()\n",
       "        )\n",
       "        (2): Linear(in_features=500, out_features=200, bias=True)\n",
       "      )\n",
       "    )\n",
       "    (7): MlpBLock(\n",
       "      (mlp): Sequential(\n",
       "        (0): Linear(in_features=100, out_features=150, bias=True)\n",
       "        (1): Sequential(\n",
       "          (0): Dropout(p=0.1, inplace=False)\n",
       "          (1): LayerNorm((150,), eps=1e-05, elementwise_affine=True)\n",
       "          (2): ReLU()\n",
       "        )\n",
       "        (2): Linear(in_features=150, out_features=50, bias=True)\n",
       "      )\n",
       "    )\n",
       "    (8): MlpBLock(\n",
       "      (mlp): Sequential(\n",
       "        (0): Linear(in_features=200, out_features=300, bias=True)\n",
       "        (1): Sequential(\n",
       "          (0): Dropout(p=0.1, inplace=False)\n",
       "          (1): LayerNorm((300,), eps=1e-05, elementwise_affine=True)\n",
       "          (2): ReLU()\n",
       "        )\n",
       "        (2): Linear(in_features=300, out_features=100, bias=True)\n",
       "      )\n",
       "    )\n",
       "    (9): MlpBLock(\n",
       "      (mlp): Sequential(\n",
       "        (0): Linear(in_features=150, out_features=200, bias=True)\n",
       "        (1): Sequential(\n",
       "          (0): Dropout(p=0.1, inplace=False)\n",
       "          (1): LayerNorm((200,), eps=1e-05, elementwise_affine=True)\n",
       "          (2): ReLU()\n",
       "        )\n",
       "        (2): Linear(in_features=200, out_features=10, bias=True)\n",
       "      )\n",
       "    )\n",
       "  )\n",
       ")"
      ]
     },
     "execution_count": 54,
     "metadata": {},
     "output_type": "execute_result"
    }
   ],
   "source": [
    "d_dimixer"
   ]
  },
  {
   "cell_type": "code",
   "execution_count": 55,
   "metadata": {},
   "outputs": [],
   "source": [
    "d_dimixer.set_optimizer_with_device(device)"
   ]
  },
  {
   "cell_type": "code",
   "execution_count": 56,
   "metadata": {},
   "outputs": [
    {
     "data": {
      "text/plain": [
       "tensor([[-0.6655,  0.2478,  0.4260,  0.0805, -0.7247, -0.5776, -0.0017, -0.4806,\n",
       "          0.9088, -0.8325],\n",
       "        [-0.4574, -0.1568,  0.0350,  0.1428, -0.3408, -0.0166,  0.6528, -0.1370,\n",
       "          0.9818, -0.3700],\n",
       "        [-0.1164,  0.1584, -0.6405, -0.4857,  0.0346, -0.0892,  0.0524,  0.0131,\n",
       "          0.5807,  0.5327]], device='cuda:0')"
      ]
     },
     "execution_count": 56,
     "metadata": {},
     "output_type": "execute_result"
    }
   ],
   "source": [
    "d_dimixer.forward_local(torch.randn(3, 784).to(device))"
   ]
  },
  {
   "cell_type": "code",
   "execution_count": 57,
   "metadata": {},
   "outputs": [],
   "source": [
    "d_dimixer.backward_local(torch.randn(3, 10).to(device))"
   ]
  },
  {
   "cell_type": "code",
   "execution_count": 58,
   "metadata": {},
   "outputs": [],
   "source": [
    "# asdfsdf"
   ]
  },
  {
   "cell_type": "markdown",
   "metadata": {},
   "source": [
    "### Distributed local model training Code"
   ]
  },
  {
   "cell_type": "code",
   "execution_count": 59,
   "metadata": {},
   "outputs": [
    {
     "name": "stdout",
     "output_type": "stream",
     "text": [
      "[262 261 261] 784\n",
      "300\n",
      "300\n",
      "300\n"
     ]
    }
   ],
   "source": [
    "model = Dist_GraphDimMixerModel()\n",
    "model.set_optimizer_with_device(device)"
   ]
  },
  {
   "cell_type": "code",
   "execution_count": 60,
   "metadata": {},
   "outputs": [],
   "source": [
    "model_name = f'distrib_dim_mixer_fmist_s{SEED}'"
   ]
  },
  {
   "cell_type": "code",
   "execution_count": 61,
   "metadata": {},
   "outputs": [],
   "source": [
    "EPOCHS = 200\n",
    "criterion = nn.CrossEntropyLoss()"
   ]
  },
  {
   "cell_type": "code",
   "execution_count": 62,
   "metadata": {},
   "outputs": [],
   "source": [
    "STAT ={'train_stat':[], 'test_stat':[]}"
   ]
  },
  {
   "cell_type": "code",
   "execution_count": 63,
   "metadata": {},
   "outputs": [],
   "source": [
    "## Following is copied from \n",
    "### https://github.com/kuangliu/pytorch-cifar/blob/master/main.py\n",
    "\n",
    "# Training\n",
    "def train(epoch):\n",
    "    model.train()\n",
    "    train_loss = 0\n",
    "    correct = 0\n",
    "    total = 0\n",
    "    for batch_idx, (inputs, targets) in enumerate(tqdm(train_loader)):\n",
    "        inputs, targets = inputs.to(device), targets.to(device)\n",
    "        \n",
    "        with torch.no_grad():\n",
    "            outputs = model.forward_local(inputs)\n",
    "        out = torch.autograd.Variable(outputs, requires_grad=True)\n",
    "        loss = criterion(out, targets)\n",
    "        loss.backward()\n",
    "            \n",
    "        model.backward_local(out.grad)\n",
    "        \n",
    "        train_loss += loss.item()\n",
    "        _, predicted = outputs.max(1)\n",
    "        total += targets.size(0)\n",
    "        correct += predicted.eq(targets).sum().item()\n",
    "        \n",
    "    STAT['train_stat'].append((epoch, train_loss/(batch_idx+1), 100.*correct/total)) ### (Epochs, Loss, Acc)\n",
    "    print(f\"[Train] {epoch} Loss: {train_loss/(batch_idx+1):.3f} | Acc: {100.*correct/total:.3f} {correct}/{total}\")\n",
    "    return"
   ]
  },
  {
   "cell_type": "code",
   "execution_count": 64,
   "metadata": {},
   "outputs": [],
   "source": [
    "best_acc = -1\n",
    "def test(epoch):\n",
    "    global best_acc\n",
    "    model.eval()\n",
    "    test_loss = 0\n",
    "    correct = 0\n",
    "    total = 0\n",
    "    with torch.no_grad():\n",
    "        for batch_idx, (inputs, targets) in enumerate(tqdm(test_loader)):\n",
    "            inputs, targets = inputs.to(device), targets.to(device)\n",
    "            outputs = model.forward_local(inputs)\n",
    "            loss = criterion(outputs, targets)\n",
    "\n",
    "            test_loss += loss.item()\n",
    "            _, predicted = outputs.max(1)\n",
    "            total += targets.size(0)\n",
    "            correct += predicted.eq(targets).sum().item()\n",
    "            \n",
    "    STAT['test_stat'].append((epoch, test_loss/(batch_idx+1), 100.*correct/total)) ### (Epochs, Loss, Acc)\n",
    "    print(f\"[Test] {epoch} Loss: {test_loss/(batch_idx+1):.3f} | Acc: {100.*correct/total:.3f} {correct}/{total}\")\n",
    "    \n",
    "    # Save checkpoint.\n",
    "    acc = 100.*correct/total\n",
    "    if acc > best_acc:\n",
    "        print('Saving..')\n",
    "#         state = {\n",
    "#             'model': model.state_dict(),\n",
    "#             'acc': acc,\n",
    "#             'epoch': epoch\n",
    "#         }\n",
    "#         if not os.path.isdir('models'):\n",
    "#             os.mkdir('models')\n",
    "#         torch.save(state, f'./models/{model_name}.pth')\n",
    "#         best_acc = acc\n",
    "        \n",
    "    with open(f\"./output/{model_name}_data.json\", 'w') as f:\n",
    "        json.dump(STAT, f, indent=0)"
   ]
  },
  {
   "cell_type": "code",
   "execution_count": 65,
   "metadata": {},
   "outputs": [],
   "source": [
    "start_epoch = 0  # start from epoch 0 or last checkpoint epoch\n",
    "resume = False\n",
    "\n",
    "if resume:\n",
    "    # Load checkpoint.\n",
    "    print('==> Resuming from checkpoint..')\n",
    "    assert os.path.isdir('./models'), 'Error: no checkpoint directory found!'\n",
    "    checkpoint = torch.load(f'./models/{model_name}.pth')\n",
    "    model.load_state_dict(checkpoint['model'])\n",
    "    best_acc = checkpoint['acc']\n",
    "    start_epoch = checkpoint['epoch']\n",
    "    \n",
    "    STAT = checkpoint['stats']"
   ]
  },
  {
   "cell_type": "code",
   "execution_count": null,
   "metadata": {},
   "outputs": [
    {
     "name": "stderr",
     "output_type": "stream",
     "text": [
      " 77%|███████▋  | 23/30 [07:21<02:14, 19.19s/it]"
     ]
    }
   ],
   "source": [
    "### Train the whole damn thing\n",
    "\n",
    "for epoch in range(start_epoch, start_epoch+EPOCHS): ## for 200 epochs\n",
    "    train(epoch)\n",
    "    test(epoch)\n",
    "#     scheduler.step()"
   ]
  },
  {
   "cell_type": "code",
   "execution_count": null,
   "metadata": {},
   "outputs": [],
   "source": [
    "'''\n",
    "Look more into 2nd Order Optimization\n",
    "Use 2nd Order optimizaton for local blocks (in block)\n",
    "Use 1st Order for in-between blocks (out blocks)\n",
    "\n",
    "TODO: Need more understanding before experimentation\n",
    "(Why updating multiple times for same batch reduce capacity)\n",
    "(Maybe use N-Batch Size and update multiple times using (N/20) bs for 20 epochs ?? )\n",
    "\n",
    "- Why does Dropout destroy the training !! ??? \n",
    "'''"
   ]
  },
  {
   "cell_type": "code",
   "execution_count": null,
   "metadata": {},
   "outputs": [],
   "source": [
    "asdasdadasd"
   ]
  },
  {
   "cell_type": "markdown",
   "metadata": {},
   "source": [
    "## Normal Model"
   ]
  },
  {
   "cell_type": "code",
   "execution_count": null,
   "metadata": {},
   "outputs": [],
   "source": [
    "model = GraphDimMixerModel().to(device)\n",
    "model"
   ]
  },
  {
   "cell_type": "code",
   "execution_count": null,
   "metadata": {},
   "outputs": [],
   "source": [
    "print(\"number of params: \", sum(p.numel() for p in model.parameters())) "
   ]
  },
  {
   "cell_type": "markdown",
   "metadata": {},
   "source": [
    "## Training"
   ]
  },
  {
   "cell_type": "code",
   "execution_count": null,
   "metadata": {},
   "outputs": [],
   "source": [
    "model_name = f'dim_mixer_fmist_s{SEED}'"
   ]
  },
  {
   "cell_type": "code",
   "execution_count": null,
   "metadata": {},
   "outputs": [],
   "source": [
    "EPOCHS = 200\n",
    "criterion = nn.CrossEntropyLoss()\n",
    "# optimizer = torch.optim.Adam(model.parameters(), lr=0.0001)\n",
    "optimizer = torch.optim.SGD(model.parameters(), lr=0.01)\n",
    "scheduler = torch.optim.lr_scheduler.CosineAnnealingLR(optimizer, T_max=EPOCHS)"
   ]
  },
  {
   "cell_type": "code",
   "execution_count": null,
   "metadata": {},
   "outputs": [],
   "source": [
    "STAT ={'train_stat':[], 'test_stat':[]}"
   ]
  },
  {
   "cell_type": "code",
   "execution_count": null,
   "metadata": {},
   "outputs": [],
   "source": [
    "## Following is copied from \n",
    "### https://github.com/kuangliu/pytorch-cifar/blob/master/main.py\n",
    "\n",
    "# Training\n",
    "def train(epoch):\n",
    "    model.train()\n",
    "    train_loss = 0\n",
    "    correct = 0\n",
    "    total = 0\n",
    "    for batch_idx, (inputs, targets) in enumerate(tqdm(train_loader)):\n",
    "        inputs, targets = inputs.to(device), targets.to(device)\n",
    "        optimizer.zero_grad()\n",
    "        outputs = model(inputs)\n",
    "        loss = criterion(outputs, targets)\n",
    "        loss.backward()\n",
    "        optimizer.step()\n",
    "\n",
    "        train_loss += loss.item()\n",
    "        _, predicted = outputs.max(1)\n",
    "        total += targets.size(0)\n",
    "        correct += predicted.eq(targets).sum().item()\n",
    "        \n",
    "    STAT['train_stat'].append((epoch, train_loss/(batch_idx+1), 100.*correct/total)) ### (Epochs, Loss, Acc)\n",
    "    print(f\"[Train] {epoch} Loss: {train_loss/(batch_idx+1):.3f} | Acc: {100.*correct/total:.3f} {correct}/{total}\")\n",
    "    return"
   ]
  },
  {
   "cell_type": "code",
   "execution_count": null,
   "metadata": {},
   "outputs": [],
   "source": [
    "best_acc = -1\n",
    "def test(epoch):\n",
    "    global best_acc\n",
    "    model.eval()\n",
    "    test_loss = 0\n",
    "    correct = 0\n",
    "    total = 0\n",
    "    with torch.no_grad():\n",
    "        for batch_idx, (inputs, targets) in enumerate(tqdm(test_loader)):\n",
    "            inputs, targets = inputs.to(device), targets.to(device)\n",
    "            outputs = model(inputs)\n",
    "            loss = criterion(outputs, targets)\n",
    "\n",
    "            test_loss += loss.item()\n",
    "            _, predicted = outputs.max(1)\n",
    "            total += targets.size(0)\n",
    "            correct += predicted.eq(targets).sum().item()\n",
    "            \n",
    "    STAT['test_stat'].append((epoch, test_loss/(batch_idx+1), 100.*correct/total)) ### (Epochs, Loss, Acc)\n",
    "    print(f\"[Test] {epoch} Loss: {test_loss/(batch_idx+1):.3f} | Acc: {100.*correct/total:.3f} {correct}/{total}\")\n",
    "    \n",
    "    # Save checkpoint.\n",
    "    acc = 100.*correct/total\n",
    "    if acc > best_acc:\n",
    "        print('Saving..')\n",
    "        state = {\n",
    "            'model': model.state_dict(),\n",
    "            'acc': acc,\n",
    "            'epoch': epoch\n",
    "        }\n",
    "        if not os.path.isdir('models'):\n",
    "            os.mkdir('models')\n",
    "        torch.save(state, f'./models/{model_name}.pth')\n",
    "        best_acc = acc\n",
    "        \n",
    "    with open(f\"./output/{model_name}_data.json\", 'w') as f:\n",
    "        json.dump(STAT, f, indent=0)"
   ]
  },
  {
   "cell_type": "code",
   "execution_count": null,
   "metadata": {},
   "outputs": [],
   "source": [
    "start_epoch = 0  # start from epoch 0 or last checkpoint epoch\n",
    "resume = False\n",
    "\n",
    "if resume:\n",
    "    # Load checkpoint.\n",
    "    print('==> Resuming from checkpoint..')\n",
    "    assert os.path.isdir('./models'), 'Error: no checkpoint directory found!'\n",
    "    checkpoint = torch.load(f'./models/{model_name}.pth')\n",
    "    model.load_state_dict(checkpoint['model'])\n",
    "    best_acc = checkpoint['acc']\n",
    "    start_epoch = checkpoint['epoch']\n",
    "    \n",
    "    STAT = checkpoint['stats']"
   ]
  },
  {
   "cell_type": "code",
   "execution_count": null,
   "metadata": {},
   "outputs": [],
   "source": [
    "### Train the whole damn thing\n",
    "\n",
    "for epoch in range(start_epoch, start_epoch+EPOCHS): ## for 200 epochs\n",
    "    train(epoch)\n",
    "    test(epoch)\n",
    "    scheduler.step()"
   ]
  },
  {
   "cell_type": "code",
   "execution_count": null,
   "metadata": {},
   "outputs": [],
   "source": [
    "best_acc"
   ]
  },
  {
   "cell_type": "code",
   "execution_count": null,
   "metadata": {},
   "outputs": [],
   "source": [
    "checkpoint = torch.load(f'./models/{model_name}.pth')\n",
    "best_acc = checkpoint['acc']\n",
    "start_epoch = checkpoint['epoch']\n",
    "\n",
    "best_acc, start_epoch"
   ]
  },
  {
   "cell_type": "code",
   "execution_count": null,
   "metadata": {},
   "outputs": [],
   "source": [
    "model.load_state_dict(checkpoint['model'])"
   ]
  },
  {
   "cell_type": "code",
   "execution_count": null,
   "metadata": {},
   "outputs": [],
   "source": [
    "model"
   ]
  },
  {
   "cell_type": "code",
   "execution_count": null,
   "metadata": {},
   "outputs": [],
   "source": []
  },
  {
   "cell_type": "code",
   "execution_count": null,
   "metadata": {},
   "outputs": [],
   "source": [
    "STAT.keys()"
   ]
  },
  {
   "cell_type": "code",
   "execution_count": null,
   "metadata": {},
   "outputs": [],
   "source": [
    "train_stat = np.array(STAT['train_stat'])\n",
    "test_stat = np.array(STAT['test_stat'])"
   ]
  },
  {
   "cell_type": "code",
   "execution_count": null,
   "metadata": {},
   "outputs": [],
   "source": [
    "plt.plot(train_stat[:,1], label='train')\n",
    "plt.plot(test_stat[:,1], label='test')\n",
    "plt.ylabel(\"Loss\")\n",
    "plt.legend()\n",
    "plt.savefig(f\"./output/plots/{model_name}_loss.svg\")\n",
    "plt.show()"
   ]
  },
  {
   "cell_type": "code",
   "execution_count": null,
   "metadata": {},
   "outputs": [],
   "source": [
    "plt.plot(train_stat[:,2], label='train')\n",
    "plt.plot(test_stat[:,2], label='test')\n",
    "plt.ylabel(\"Accuracy\")\n",
    "plt.legend()\n",
    "plt.savefig(f\"./output/plots/{model_name}_accs.svg\")\n",
    "plt.show()"
   ]
  },
  {
   "cell_type": "code",
   "execution_count": null,
   "metadata": {},
   "outputs": [],
   "source": []
  }
 ],
 "metadata": {
  "kernelspec": {
   "display_name": "Python 3",
   "language": "python",
   "name": "python3"
  },
  "language_info": {
   "codemirror_mode": {
    "name": "ipython",
    "version": 3
   },
   "file_extension": ".py",
   "mimetype": "text/x-python",
   "name": "python",
   "nbconvert_exporter": "python",
   "pygments_lexer": "ipython3",
   "version": "3.7.4"
  }
 },
 "nbformat": 4,
 "nbformat_minor": 4
}
