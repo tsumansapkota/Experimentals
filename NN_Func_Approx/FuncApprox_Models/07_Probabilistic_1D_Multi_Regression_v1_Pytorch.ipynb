{
 "cells": [
  {
   "cell_type": "code",
   "execution_count": 5,
   "metadata": {},
   "outputs": [],
   "source": [
    "import numpy as np\n",
    "import matplotlib.pyplot as plt\n",
    "import torch\n",
    "import torch.nn as nn\n",
    "import torch.nn.functional as F\n",
    "%matplotlib inline"
   ]
  },
  {
   "cell_type": "code",
   "execution_count": 6,
   "metadata": {},
   "outputs": [
    {
     "data": {
      "text/plain": [
       "<matplotlib.collections.PathCollection at 0x7f376d992898>"
      ]
     },
     "execution_count": 6,
     "metadata": {},
     "output_type": "execute_result"
    },
    {
     "data": {
      "image/png": "[encoded data removed]",
      "text/plain": [
       "<Figure size 432x288 with 1 Axes>"
      ]
     },
     "metadata": {
      "needs_background": "light"
     },
     "output_type": "display_data"
    }
   ],
   "source": [
    "x = np.linspace(0,1,200)\n",
    "noise = np.random.normal(0,0.02, x.shape)\n",
    "x = x + noise\n",
    "y = (2 * np.sin(10*x) + np.cos(20 * x - 3) + 3 * np.log(10*x + 0.5) - 4)/6.\n",
    "noise = np.random.normal(0,0.1, x.shape)\n",
    "y = y + noise\n",
    "x = x - 0.4 #x.mean() # good practice to zero-center x in linear mapping\n",
    "xx = torch.FloatTensor(x.reshape(-1,1))\n",
    "yy = torch.FloatTensor(y.reshape(-1,1))\n",
    "plt.scatter(x, y, marker='.', color='g')"
   ]
  },
  {
   "cell_type": "code",
   "execution_count": 7,
   "metadata": {},
   "outputs": [],
   "source": [
    "## defining the model\n",
    "class ProbRegression(nn.Module):\n",
    "    \n",
    "    def __init__(self, n_hidden=2):\n",
    "        super().__init__()\n",
    "        self.fcp1 = nn.Linear(1, n_hidden)\n",
    "        self.fcr1 = nn.Linear(1, n_hidden)\n",
    "#         self.fcr2 = nn.Linear(n_hidden, 1)\n",
    "        self.softmax = nn.LogSoftmax(dim=1)\n",
    "        \n",
    "    def forward(self,x):\n",
    "        p = self.fcp1(x)\n",
    "        p = self.softmax(p)\n",
    "        r = self.fcr1(x)\n",
    "\n",
    "        ########## Use any of the following methods###########\n",
    "        \n",
    "        ## method 1 ##\n",
    "        indx = torch.argmax(p, dim=1)\n",
    "        out = r[torch.arange(x.shape[0]), indx].reshape(-1,1)\n",
    "\n",
    "        ## method 2 ##\n",
    "#         out = (p*r).sum(dim=1).reshape(-1,1)\n",
    "        \n",
    "        ## method 3 ##\n",
    "#         out = self.fcr2(p*r)\n",
    "    \n",
    "        return out\n",
    "    \n",
    "model = ProbRegression(n_hidden=20)\n",
    "optimizer = torch.optim.Adam(model.parameters(), lr=0.003)\n",
    "criterion = nn.MSELoss()"
   ]
  },
  {
   "cell_type": "code",
   "execution_count": 8,
   "metadata": {},
   "outputs": [
    {
     "name": "stdout",
     "output_type": "stream",
     "text": [
      "_______________________\n",
      "epoch 0\n",
      "Loss tensor(0.3649)\n",
      "\n",
      "_______________________\n",
      "epoch 100\n",
      "Loss tensor(0.1615)\n",
      "\n",
      "_______________________\n",
      "epoch 200\n",
      "Loss tensor(0.1008)\n",
      "\n",
      "_______________________\n",
      "epoch 300\n",
      "Loss tensor(0.0815)\n",
      "\n",
      "_______________________\n",
      "epoch 400\n",
      "Loss tensor(0.0757)\n",
      "\n",
      "_______________________\n",
      "epoch 500\n",
      "Loss tensor(0.0734)\n",
      "\n",
      "_______________________\n",
      "epoch 600\n",
      "Loss tensor(0.0722)\n",
      "\n",
      "_______________________\n",
      "epoch 700\n",
      "Loss tensor(0.0715)\n",
      "\n",
      "_______________________\n",
      "epoch 800\n",
      "Loss tensor(0.0711)\n",
      "\n",
      "_______________________\n",
      "epoch 900\n",
      "Loss tensor(0.0709)\n",
      "\n",
      "_______________________\n",
      "epoch 1000\n",
      "Loss tensor(0.0707)\n",
      "\n",
      "_______________________\n",
      "epoch 1100\n",
      "Loss tensor(0.0706)\n",
      "\n",
      "_______________________\n",
      "epoch 1200\n",
      "Loss tensor(0.0705)\n",
      "\n",
      "_______________________\n",
      "epoch 1300\n",
      "Loss tensor(0.0704)\n",
      "\n",
      "_______________________\n",
      "epoch 1400\n",
      "Loss tensor(0.0703)\n",
      "\n",
      "_______________________\n",
      "epoch 1500\n",
      "Loss tensor(0.0703)\n",
      "\n",
      "_______________________\n",
      "epoch 1600\n",
      "Loss tensor(0.0702)\n",
      "\n",
      "_______________________\n",
      "epoch 1700\n",
      "Loss tensor(0.0701)\n",
      "\n",
      "_______________________\n",
      "epoch 1800\n",
      "Loss tensor(0.0701)\n",
      "\n",
      "_______________________\n",
      "epoch 1900\n",
      "Loss tensor(0.0700)\n",
      "\n",
      "_______________________\n",
      "epoch 2000\n",
      "Loss tensor(0.0699)\n",
      "\n",
      "_______________________\n",
      "epoch 2100\n",
      "Loss tensor(0.0699)\n",
      "\n",
      "_______________________\n",
      "epoch 2200\n",
      "Loss tensor(0.0699)\n",
      "\n",
      "_______________________\n",
      "epoch 2300\n",
      "Loss tensor(0.0698)\n",
      "\n",
      "_______________________\n",
      "epoch 2400\n",
      "Loss tensor(0.0698)\n",
      "\n",
      "_______________________\n",
      "epoch 2500\n",
      "Loss tensor(0.0698)\n",
      "\n",
      "_______________________\n",
      "epoch 2600\n",
      "Loss tensor(0.0697)\n",
      "\n",
      "_______________________\n",
      "epoch 2700\n",
      "Loss tensor(0.0697)\n",
      "\n",
      "_______________________\n",
      "epoch 2800\n",
      "Loss tensor(0.0697)\n",
      "\n",
      "_______________________\n",
      "epoch 2900\n",
      "Loss tensor(0.0697)\n",
      "\n",
      "_______________________\n",
      "epoch 3000\n",
      "Loss tensor(0.0697)\n",
      "\n",
      "_______________________\n",
      "epoch 3100\n",
      "Loss tensor(0.0697)\n",
      "\n",
      "_______________________\n",
      "epoch 3200\n",
      "Loss tensor(0.0697)\n",
      "\n",
      "_______________________\n",
      "epoch 3300\n",
      "Loss tensor(0.0697)\n",
      "\n",
      "_______________________\n",
      "epoch 3400\n",
      "Loss tensor(0.0697)\n",
      "\n",
      "_______________________\n",
      "epoch 3500\n",
      "Loss tensor(0.0697)\n",
      "\n",
      "_______________________\n",
      "epoch 3600\n",
      "Loss tensor(0.0697)\n",
      "\n",
      "_______________________\n",
      "epoch 3700\n",
      "Loss tensor(0.0697)\n",
      "\n",
      "_______________________\n",
      "epoch 3800\n",
      "Loss tensor(0.0697)\n",
      "\n",
      "_______________________\n",
      "epoch 3900\n",
      "Loss tensor(0.0697)\n",
      "\n",
      "_______________________\n",
      "epoch 4000\n",
      "Loss tensor(0.0697)\n",
      "\n",
      "_______________________\n",
      "epoch 4100\n",
      "Loss tensor(0.0697)\n",
      "\n",
      "_______________________\n",
      "epoch 4200\n",
      "Loss tensor(0.0697)\n",
      "\n",
      "_______________________\n",
      "epoch 4300\n",
      "Loss tensor(0.0697)\n"
     ]
    },
    {
     "ename": "TclError",
     "evalue": "invalid command name \"pyimage30\"",
     "output_type": "error",
     "traceback": [
      "\u001b[0;31m---------------------------------------------------------------------------\u001b[0m",
      "\u001b[0;31mTclError\u001b[0m                                  Traceback (most recent call last)",
      "\u001b[0;32m<ipython-input-8-4b1536342d9f>\u001b[0m in \u001b[0;36m<module>\u001b[0;34m\u001b[0m\n\u001b[1;32m     29\u001b[0m         \u001b[0mplt\u001b[0m\u001b[0;34m.\u001b[0m\u001b[0mlegend\u001b[0m\u001b[0;34m(\u001b[0m\u001b[0;34m)\u001b[0m\u001b[0;34m\u001b[0m\u001b[0;34m\u001b[0m\u001b[0m\n\u001b[1;32m     30\u001b[0m \u001b[0;34m\u001b[0m\u001b[0m\n\u001b[0;32m---> 31\u001b[0;31m         \u001b[0mfig\u001b[0m\u001b[0;34m.\u001b[0m\u001b[0mcanvas\u001b[0m\u001b[0;34m.\u001b[0m\u001b[0mdraw\u001b[0m\u001b[0;34m(\u001b[0m\u001b[0;34m)\u001b[0m\u001b[0;34m\u001b[0m\u001b[0;34m\u001b[0m\u001b[0m\n\u001b[0m\u001b[1;32m     32\u001b[0m         \u001b[0mplt\u001b[0m\u001b[0;34m.\u001b[0m\u001b[0mpause\u001b[0m\u001b[0;34m(\u001b[0m\u001b[0;36m0.01\u001b[0m\u001b[0;34m)\u001b[0m\u001b[0;34m\u001b[0m\u001b[0;34m\u001b[0m\u001b[0m\n\u001b[1;32m     33\u001b[0m         \u001b[0mprint\u001b[0m\u001b[0;34m(\u001b[0m\u001b[0;34m)\u001b[0m\u001b[0;34m\u001b[0m\u001b[0;34m\u001b[0m\u001b[0m\n",
      "\u001b[0;32m~/Program_Files/miniconda3.7/lib/python3.7/site-packages/matplotlib/backends/backend_tkagg.py\u001b[0m in \u001b[0;36mdraw\u001b[0;34m(self)\u001b[0m\n\u001b[1;32m      8\u001b[0m     \u001b[0;32mdef\u001b[0m \u001b[0mdraw\u001b[0m\u001b[0;34m(\u001b[0m\u001b[0mself\u001b[0m\u001b[0;34m)\u001b[0m\u001b[0;34m:\u001b[0m\u001b[0;34m\u001b[0m\u001b[0;34m\u001b[0m\u001b[0m\n\u001b[1;32m      9\u001b[0m         \u001b[0msuper\u001b[0m\u001b[0;34m(\u001b[0m\u001b[0mFigureCanvasTkAgg\u001b[0m\u001b[0;34m,\u001b[0m \u001b[0mself\u001b[0m\u001b[0;34m)\u001b[0m\u001b[0;34m.\u001b[0m\u001b[0mdraw\u001b[0m\u001b[0;34m(\u001b[0m\u001b[0;34m)\u001b[0m\u001b[0;34m\u001b[0m\u001b[0;34m\u001b[0m\u001b[0m\n\u001b[0;32m---> 10\u001b[0;31m         \u001b[0m_backend_tk\u001b[0m\u001b[0;34m.\u001b[0m\u001b[0mblit\u001b[0m\u001b[0;34m(\u001b[0m\u001b[0mself\u001b[0m\u001b[0;34m.\u001b[0m\u001b[0m_tkphoto\u001b[0m\u001b[0;34m,\u001b[0m \u001b[0mself\u001b[0m\u001b[0;34m.\u001b[0m\u001b[0mrenderer\u001b[0m\u001b[0;34m.\u001b[0m\u001b[0m_renderer\u001b[0m\u001b[0;34m,\u001b[0m \u001b[0;34m(\u001b[0m\u001b[0;36m0\u001b[0m\u001b[0;34m,\u001b[0m \u001b[0;36m1\u001b[0m\u001b[0;34m,\u001b[0m \u001b[0;36m2\u001b[0m\u001b[0;34m,\u001b[0m \u001b[0;36m3\u001b[0m\u001b[0;34m)\u001b[0m\u001b[0;34m)\u001b[0m\u001b[0;34m\u001b[0m\u001b[0;34m\u001b[0m\u001b[0m\n\u001b[0m\u001b[1;32m     11\u001b[0m         \u001b[0mself\u001b[0m\u001b[0;34m.\u001b[0m\u001b[0m_master\u001b[0m\u001b[0;34m.\u001b[0m\u001b[0mupdate_idletasks\u001b[0m\u001b[0;34m(\u001b[0m\u001b[0;34m)\u001b[0m\u001b[0;34m\u001b[0m\u001b[0;34m\u001b[0m\u001b[0m\n\u001b[1;32m     12\u001b[0m \u001b[0;34m\u001b[0m\u001b[0m\n",
      "\u001b[0;32m~/Program_Files/miniconda3.7/lib/python3.7/site-packages/matplotlib/backends/_backend_tk.py\u001b[0m in \u001b[0;36mblit\u001b[0;34m(photoimage, aggimage, offsets, bbox)\u001b[0m\n\u001b[1;32m     86\u001b[0m                    math.floor(y1), math.ceil(y2))\n\u001b[1;32m     87\u001b[0m     \u001b[0;32melse\u001b[0m\u001b[0;34m:\u001b[0m\u001b[0;34m\u001b[0m\u001b[0;34m\u001b[0m\u001b[0m\n\u001b[0;32m---> 88\u001b[0;31m         \u001b[0mphotoimage\u001b[0m\u001b[0;34m.\u001b[0m\u001b[0mblank\u001b[0m\u001b[0;34m(\u001b[0m\u001b[0;34m)\u001b[0m\u001b[0;34m\u001b[0m\u001b[0;34m\u001b[0m\u001b[0m\n\u001b[0m\u001b[1;32m     89\u001b[0m         \u001b[0mbboxptr\u001b[0m \u001b[0;34m=\u001b[0m \u001b[0;34m(\u001b[0m\u001b[0;36m0\u001b[0m\u001b[0;34m,\u001b[0m \u001b[0mwidth\u001b[0m\u001b[0;34m,\u001b[0m \u001b[0;36m0\u001b[0m\u001b[0;34m,\u001b[0m \u001b[0mheight\u001b[0m\u001b[0;34m)\u001b[0m\u001b[0;34m\u001b[0m\u001b[0;34m\u001b[0m\u001b[0m\n\u001b[1;32m     90\u001b[0m     _tkagg.blit(\n",
      "\u001b[0;32m~/Program_Files/miniconda3.7/lib/python3.7/tkinter/__init__.py\u001b[0m in \u001b[0;36mblank\u001b[0;34m(self)\u001b[0m\n\u001b[1;32m   3546\u001b[0m     \u001b[0;32mdef\u001b[0m \u001b[0mblank\u001b[0m\u001b[0;34m(\u001b[0m\u001b[0mself\u001b[0m\u001b[0;34m)\u001b[0m\u001b[0;34m:\u001b[0m\u001b[0;34m\u001b[0m\u001b[0;34m\u001b[0m\u001b[0m\n\u001b[1;32m   3547\u001b[0m         \u001b[0;34m\"\"\"Display a transparent image.\"\"\"\u001b[0m\u001b[0;34m\u001b[0m\u001b[0;34m\u001b[0m\u001b[0m\n\u001b[0;32m-> 3548\u001b[0;31m         \u001b[0mself\u001b[0m\u001b[0;34m.\u001b[0m\u001b[0mtk\u001b[0m\u001b[0;34m.\u001b[0m\u001b[0mcall\u001b[0m\u001b[0;34m(\u001b[0m\u001b[0mself\u001b[0m\u001b[0;34m.\u001b[0m\u001b[0mname\u001b[0m\u001b[0;34m,\u001b[0m \u001b[0;34m'blank'\u001b[0m\u001b[0;34m)\u001b[0m\u001b[0;34m\u001b[0m\u001b[0;34m\u001b[0m\u001b[0m\n\u001b[0m\u001b[1;32m   3549\u001b[0m     \u001b[0;32mdef\u001b[0m \u001b[0mcget\u001b[0m\u001b[0;34m(\u001b[0m\u001b[0mself\u001b[0m\u001b[0;34m,\u001b[0m \u001b[0moption\u001b[0m\u001b[0;34m)\u001b[0m\u001b[0;34m:\u001b[0m\u001b[0;34m\u001b[0m\u001b[0;34m\u001b[0m\u001b[0m\n\u001b[1;32m   3550\u001b[0m         \u001b[0;34m\"\"\"Return the value of OPTION.\"\"\"\u001b[0m\u001b[0;34m\u001b[0m\u001b[0;34m\u001b[0m\u001b[0m\n",
      "\u001b[0;31mTclError\u001b[0m: invalid command name \"pyimage30\""
     ]
    },
    {
     "data": {
      "image/png": "[encoded data removed]",
      "text/plain": [
       "<Figure size 432x288 with 1 Axes>"
      ]
     },
     "metadata": {
      "needs_background": "light"
     },
     "output_type": "display_data"
    }
   ],
   "source": [
    "%matplotlib tk\n",
    "fig = plt.figure()\n",
    "ax = fig.add_subplot(1, 1, 1)\n",
    "\n",
    "plt.ion()\n",
    "fig.show()\n",
    "fig.canvas.draw()\n",
    "\n",
    "EPOCHS = 10000\n",
    "for step in range(EPOCHS):\n",
    "\n",
    "    yout = model(xx)\n",
    "#     print(yout)\n",
    "    loss = criterion(yout, yy)\n",
    "    optimizer.zero_grad()\n",
    "    loss.backward()\n",
    "    optimizer.step()\n",
    "    \n",
    "    if step % 100 == 0:\n",
    "\n",
    "        print('_______________________')\n",
    "        print(\"epoch\", step)\n",
    "        print(\"Loss\", loss.data)\n",
    "\n",
    "        ax.clear()\n",
    "        plt.scatter(x, y, marker='.', c='g', label='x,y')\n",
    "        plt.scatter(x, yout.data.numpy().reshape(-1), marker='.', c='r', lw=3, label='x,a1')\n",
    "        plt.plot(x, np.zeros_like(x), c='b', lw=2)\n",
    "        plt.legend()\n",
    "        \n",
    "        fig.canvas.draw()\n",
    "        plt.pause(0.01)\n",
    "        print()\n",
    "        if loss < 0.0025:\n",
    "            print('fitted to our expectation')\n",
    "            plt.pause(50)\n",
    "            break"
   ]
  },
  {
   "cell_type": "code",
   "execution_count": 5,
   "metadata": {},
   "outputs": [
    {
     "data": {
      "text/plain": [
       "<matplotlib.legend.Legend at 0x7f9f09915b38>"
      ]
     },
     "execution_count": 5,
     "metadata": {},
     "output_type": "execute_result"
    },
    {
     "data": {
      "image/png": "[encoded data removed]",
      "text/plain": [
       "<Figure size 432x288 with 1 Axes>"
      ]
     },
     "metadata": {
      "needs_background": "light"
     },
     "output_type": "display_data"
    }
   ],
   "source": [
    "%matplotlib inline\n",
    "plt.scatter(x, y, marker='.', c='g', label='x,y')\n",
    "plt.scatter(x, yout.data.numpy().reshape(-1), marker='.', c='r', lw=3, label='x,a1')\n",
    "plt.plot(x, np.zeros_like(x), c='b', lw=2)\n",
    "plt.legend()"
   ]
  },
  {
   "cell_type": "code",
   "execution_count": null,
   "metadata": {},
   "outputs": [],
   "source": [
    "layer1prob.output"
   ]
  }
 ],
 "metadata": {
  "kernelspec": {
   "display_name": "Python 3 (ipykernel)",
   "language": "python",
   "name": "python3"
  },
  "language_info": {
   "codemirror_mode": {
    "name": "ipython",
    "version": 3
   },
   "file_extension": ".py",
   "mimetype": "text/x-python",
   "name": "python",
   "nbconvert_exporter": "python",
   "pygments_lexer": "ipython3",
   "version": "3.7.4"
  }
 },
 "nbformat": 4,
 "nbformat_minor": 2
}
