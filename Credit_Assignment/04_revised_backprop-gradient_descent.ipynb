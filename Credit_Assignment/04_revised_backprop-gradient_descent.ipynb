{
 "cells": [
  {
   "cell_type": "code",
   "execution_count": 1,
   "metadata": {},
   "outputs": [],
   "source": [
    "import mylibrary.nnlib as nn"
   ]
  },
  {
   "cell_type": "code",
   "execution_count": 2,
   "metadata": {},
   "outputs": [],
   "source": [
    "import numpy as np\n",
    "import matplotlib.pyplot as plt\n",
    "%matplotlib inline"
   ]
  },
  {
   "cell_type": "markdown",
   "metadata": {},
   "source": [
    "## Least squares"
   ]
  },
  {
   "cell_type": "code",
   "execution_count": 3,
   "metadata": {},
   "outputs": [],
   "source": [
    "def regression(x,y):\n",
    "    n = len(x)\n",
    "    sy = np.sum(y)\n",
    "    sx = np.sum(x)\n",
    "    sx2 = np.sum(np.square(x))\n",
    "    sxy = np.sum(x*y)\n",
    "\n",
    "    # y = mx+c\n",
    "    z = (n*sx2 - sx**2)\n",
    "    m = (n*sxy - sx*sy)/z\n",
    "    c = (sy*sx2 - sx*sxy)/z\n",
    "    return m, c\n",
    "\n",
    "def output(x, m, c):\n",
    "    return m*x+c\n",
    "\n",
    "def error(target, output):\n",
    "    return np.sqrt(np.square(target-output).mean())"
   ]
  },
  {
   "cell_type": "code",
   "execution_count": 4,
   "metadata": {},
   "outputs": [],
   "source": [
    "#Define a simple range of values for x and reshape so sklearn likes it.\n",
    "x = np.linspace(0,1,200)\n",
    "noise = np.random.normal(0,0.02, x.shape)\n",
    "x = x + noise\n",
    "y= (2 * np.sin(10*x) + np.cos(20 * x - 3) + 3 * np.log(10*x + 0.5) - 4)/6.\n",
    "noise = np.random.normal(0,0.1, x.shape)\n",
    "y = y + noise\n",
    "x = x - 0.5"
   ]
  },
  {
   "cell_type": "code",
   "execution_count": 5,
   "metadata": {},
   "outputs": [],
   "source": [
    "n = len(x)"
   ]
  },
  {
   "cell_type": "code",
   "execution_count": 6,
   "metadata": {},
   "outputs": [
    {
     "data": {
      "text/plain": [
       "<matplotlib.collections.PathCollection at 0x7fb03d69d160>"
      ]
     },
     "execution_count": 6,
     "metadata": {},
     "output_type": "execute_result"
    },
    {
     "data": {
      "image/png": "[encoded data removed]",
      "text/plain": [
       "<Figure size 432x288 with 1 Axes>"
      ]
     },
     "metadata": {},
     "output_type": "display_data"
    }
   ],
   "source": [
    "plt.scatter(x, y, marker='.', color='g')"
   ]
  },
  {
   "cell_type": "code",
   "execution_count": 48,
   "metadata": {},
   "outputs": [
    {
     "data": {
      "text/plain": [
       "(2.301105522843668, -0.05001552468135016)"
      ]
     },
     "execution_count": 48,
     "metadata": {},
     "output_type": "execute_result"
    }
   ],
   "source": [
    "m = np.random.exponential()*2\n",
    "c = np.random.randn()\n",
    "mt, mr = np.copy(m), np.copy(m)\n",
    "ct, cr = np.copy(c), np.copy(c)\n",
    "m,c"
   ]
  },
  {
   "cell_type": "code",
   "execution_count": 49,
   "metadata": {},
   "outputs": [
    {
     "data": {
      "text/plain": [
       "(1.0550485117921165, 0.13889433181719985)"
      ]
     },
     "execution_count": 49,
     "metadata": {},
     "output_type": "execute_result"
    }
   ],
   "source": [
    "m, c = regression(x, y)\n",
    "ytarg = m*x+c\n",
    "learning_rate = 1\n",
    "\n",
    "m, c"
   ]
  },
  {
   "cell_type": "code",
   "execution_count": 50,
   "metadata": {},
   "outputs": [
    {
     "name": "stdout",
     "output_type": "stream",
     "text": [
      "_______________________\n",
      "epoch trad, rev 0\n",
      "m  c 1.0550485117921165 0.13889433181719985\n",
      "mt mr 2.301105522843668 2.301105522843668\n",
      "ct cr -0.05001552468135016 -0.05001552468135016\n",
      "Loss 0.2577632195097921 0.2577632195097921\n",
      "dm   0.10600487823399359 0.9904093689958793\n",
      "dc   -0.1871221345433044 -0.1871221345433044\n",
      "\n",
      "\n",
      "_______________________\n",
      "epoch trad, rev 1\n",
      "m  c 1.0550485117921165 0.13889433181719985\n",
      "mt mr 2.1951006446096746 1.3106961538477888\n",
      "ct cr 0.13710660986195422 0.13710660986195422\n",
      "Loss 0.2011759447051444 0.09590194038841579\n",
      "dm   0.0972322119587244 0.36886066029126785\n",
      "dc   -0.00015208553581523177 -0.0014209434704281064\n",
      "\n",
      "\n",
      "_______________________\n",
      "epoch trad, rev 2\n",
      "m  c 1.0550485117921165 0.13889433181719985\n",
      "mt mr 2.0978684326509502 0.941835493556521\n",
      "ct cr 0.13725869539776944 0.1385275533323823\n",
      "Loss 0.18307401127147466 0.09141931076305579\n",
      "dm   0.08893951779178749 0.0028010055999943217\n",
      "dc   -0.00013949936361978387 -0.0005292055620092362\n",
      "\n",
      "\n",
      "_______________________\n",
      "epoch trad, rev 3\n",
      "m  c 1.0550485117921165 0.13889433181719985\n",
      "mt mr 2.0089289148591627 0.9390344879565267\n",
      "ct cr 0.13739819476138923 0.13905675889439156\n",
      "Loss 0.16792814287407704 0.09147379107586047\n",
      "dm   0.08135408749187555 0.001043185583089667\n",
      "dc   -0.00012760180893421237 -4.0186116393137185e-06\n",
      "\n",
      "\n",
      "_______________________\n",
      "epoch trad, rev 4\n",
      "m  c 1.0550485117921165 0.13889433181719985\n",
      "mt mr 1.9275748273672872 0.937991302373437\n",
      "ct cr 0.13752579657032343 0.13906077750603088\n",
      "Loss 0.1552556109396237 0.09149452762036922\n",
      "dm   0.07441559967898506 7.921605567166034e-06\n",
      "dc   -0.00011671896796718429 -1.4966616725686777e-06\n",
      "\n",
      "\n",
      "_______________________\n",
      "epoch trad, rev 5\n",
      "m  c 1.0550485117921165 0.13889433181719985\n",
      "mt mr 1.8531592276883022 0.9379833807678698\n",
      "ct cr 0.13764251553829063 0.13906227416770345\n",
      "Loss 0.1446525169858076 0.09149468579482548\n",
      "dm   0.06806887823719966 2.950263549119092e-06\n",
      "dc   -0.00010676429744300719 -1.1365152696729553e-08\n",
      "\n",
      "\n",
      "_______________________\n",
      "epoch trad, rev 6\n",
      "m  c 1.0550485117921165 0.13889433181719985\n",
      "mt mr 1.7850903494511026 0.9379804305043207\n",
      "ct cr 0.13774927983573362 0.13906228553285616\n",
      "Loss 0.1357809195832558 0.09149474470770698\n",
      "dm   0.06226345288431743 2.240332357461572e-08\n",
      "dc   -9.76586360129339e-05 -4.232752481847513e-09\n",
      "\n",
      "\n",
      "_______________________\n",
      "epoch trad, rev 7\n",
      "m  c 1.0550485117921165 0.13889433181719985\n",
      "mt mr 1.7228268965667852 0.9379804081009971\n",
      "ct cr 0.13784693847174656 0.13906228976560864\n",
      "Loss 0.1283580634984394 0.09149474515507755\n",
      "dm   0.05695315782299725 8.343726363713167e-09\n",
      "dc   -8.932957380235251e-05 -3.214212229707414e-11\n",
      "\n",
      "\n",
      "_______________________\n",
      "epoch trad, rev 8\n",
      "m  c 1.0550485117921165 0.13889433181719985\n",
      "mt mr 1.665873738743788 0.9379803997572708\n",
      "ct cr 0.13793626804554893 0.13906228979775076\n",
      "Loss 0.12214736772903403 0.09149474532169294\n",
      "dm   0.05209576462194937 6.335942825952401e-11\n",
      "dc   -8.171087659528453e-05 -1.1970768820646072e-11\n",
      "\n",
      "\n",
      "_______________________\n",
      "epoch trad, rev 9\n",
      "m  c 1.0550485117921165 0.13889433181719985\n",
      "mt mr 1.6137779741218388 0.9379803996939113\n",
      "ct cr 0.1380179789221442 0.13906228980972152\n",
      "Loss 0.11695088520271767 0.09149474532295816\n",
      "dm   0.04765264640777599 2.3597128140373514e-11\n",
      "dc   -7.474195912702264e-05 -9.091172259445557e-14\n",
      "\n",
      "\n",
      "_______________________\n",
      "epoch trad, rev 10\n",
      "m  c 1.0550485117921165 0.13889433181719985\n",
      "mt mr 1.5661253277140628 0.9379803996703142\n",
      "ct cr 0.13809272088127122 0.13906228980981242\n",
      "Loss 0.11260299381519655 0.09149474532342936\n",
      "dm   0.04358847069705524 1.7917611838669245e-13\n",
      "dc   -6.836740329950075e-05 -3.386402269711652e-14\n",
      "\n",
      "\n",
      "_______________________\n",
      "epoch trad, rev 11\n",
      "m  c 1.0550485117921165 0.13889433181719985\n",
      "mt mr 1.5225368570170075 0.937980399670135\n",
      "ct cr 0.13816108828457072 0.13906228980984628\n",
      "Loss 0.10896511772845044 0.09149474532343295\n",
      "dm   0.03987091842601227 6.676881270095691e-14\n",
      "dc   -6.253651748643563e-05 -2.6201263381153693e-16\n",
      "\n",
      "\n",
      "_______________________\n",
      "epoch trad, rev 12\n",
      "m  c 1.0550485117921165 0.13889433181719985\n",
      "mt mr 1.4826659385909953 0.9379803996700683\n",
      "ct cr 0.13822362480205716 0.13906228980984653\n",
      "Loss 0.10592131068660425 0.0914947453234343\n",
      "dm   0.03647042694345138 5.406786129924512e-16\n",
      "dc   -5.720293342422522e-05 -1.1102230246251565e-16\n",
      "\n",
      "\n",
      "_______________________\n",
      "epoch trad, rev 13\n",
      "m  c 1.0550485117921165 0.13889433181719985\n",
      "mt mr 1.4461955116475438 0.9379803996700677\n",
      "ct cr 0.1382808277354814 0.13906228980984664\n",
      "Loss 0.10337456058102845 0.0914947453234343\n",
      "dm   0.03335995492318171 1.7208456881689927e-16\n",
      "dc   -5.232423748330106e-05 0.0\n",
      "\n",
      "\n",
      "_______________________\n",
      "epoch trad, rev 14\n",
      "m  c 1.0550485117921165 0.13889433181719985\n",
      "mt mr 1.412835556724362 0.9379803996700675\n",
      "ct cr 0.1383331519729647 0.13906228980984664\n",
      "Loss 0.10124369748389973 0.0914947453234343\n",
      "dm   0.030514767326477527 -5.773159728050814e-17\n",
      "dc   -4.7861633386929725e-05 4.440892098500626e-18\n",
      "\n",
      "\n",
      "_______________________\n",
      "epoch trad, rev 15\n",
      "m  c 1.0550485117921165 0.13889433181719985\n",
      "mt mr 1.3823207893978844 0.9379803996700676\n",
      "ct cr 0.13838101360635163 0.13906228980984664\n",
      "Loss 0.09946080660317934 0.0914947453234343\n",
      "dm   0.027912238704555517 8.104628079763643e-17\n",
      "dc   -4.37796336964702e-05 4.440892098500626e-18\n",
      "\n",
      "\n",
      "_______________________\n",
      "epoch trad, rev 16\n",
      "m  c 1.0550485117921165 0.13889433181719985\n",
      "mt mr 1.3544085506933288 0.9379803996700675\n",
      "ct cr 0.1384247932400481 0.13906228980984664\n",
      "Loss 0.09796906370480205 0.0914947453234343\n",
      "dm   0.02553167327689475 -5.773159728050814e-17\n",
      "dc   -4.0045777608583854e-05 4.440892098500626e-18\n",
      "\n",
      "\n",
      "_______________________\n",
      "epoch trad, rev 17\n",
      "m  c 1.0550485117921165 0.13889433181719985\n",
      "mt mr 1.3288768774164341 0.9379803996700676\n",
      "ct cr 0.1384648390176567 0.13906228980984664\n",
      "Loss 0.09672092401273075 0.0914947453234343\n",
      "dm   0.02335414035462916 8.104628079763643e-17\n",
      "dc   -3.663037282116477e-05 4.440892098500626e-18\n",
      "\n",
      "\n",
      "_______________________\n",
      "epoch trad, rev 18\n",
      "m  c 1.0550485117921165 0.13889433181719985\n",
      "mt mr 1.305522737061805 0.9379803996700675\n",
      "ct cr 0.13850146939047786 0.13906228980984664\n",
      "Loss 0.0956766068635635 0.0914947453234343\n",
      "dm   0.021362323800269672 -5.773159728050814e-17\n",
      "dc   -3.3506259414743946e-05 4.440892098500626e-18\n",
      "\n",
      "\n",
      "_______________________\n",
      "epoch trad, rev 19\n",
      "m  c 1.0550485117921165 0.13889433181719985\n",
      "mt mr 1.2841604132615354 0.9379803996700676\n",
      "ct cr 0.13853497564989262 0.13906228980984664\n",
      "Loss 0.09480282781865952 0.0914947453234343\n",
      "dm   0.019540384326632375 8.104628079763643e-17\n",
      "dc   -3.064859387177598e-05 4.440892098500626e-18\n",
      "\n",
      "\n",
      "_______________________\n",
      "epoch trad, rev 20\n",
      "m  c 1.0550485117921165 0.13889433181719985\n",
      "mt mr 1.264620028934903 0.9379803996700675\n",
      "ct cr 0.1385656242437644 0.13906228980984664\n",
      "Loss 0.09407173782370723 0.0914947453234343\n",
      "dm   0.01787383353994849 -5.773159728050814e-17\n",
      "dc   -2.8034651516599672e-05 4.440892098500626e-18\n",
      "\n",
      "\n",
      "_______________________\n",
      "epoch trad, rev 21\n",
      "m  c 1.0550485117921165 0.13889433181719985\n",
      "mt mr 1.2467461953949546 0.9379803996700676\n",
      "ct cr 0.138593658895281 0.13906228980984664\n",
      "Loss 0.09346003560466615 0.0914947453234343\n",
      "dm   0.016349418725524444 8.104628079763643e-17\n",
      "dc   -2.5643645804631633e-05 4.440892098500626e-18\n",
      "\n",
      "\n",
      "_______________________\n",
      "epoch trad, rev 22\n",
      "m  c 1.0550485117921165 0.13889433181719985\n",
      "mt mr 1.2303967766694301 0.9379803996700675\n",
      "ct cr 0.13861930254108562 0.13906228980984664\n",
      "Loss 0.09294822501039833 0.0914947453234343\n",
      "dm   0.014955017459746337 -5.773159728050814e-17\n",
      "dc   -2.3456563023911415e-05 4.440892098500626e-18\n",
      "\n",
      "\n",
      "_______________________\n",
      "epoch trad, rev 23\n",
      "m  c 1.0550485117921165 0.13889433181719985\n",
      "mt mr 1.2154417592096838 0.9379803996700676\n",
      "ct cr 0.13864275910410953 0.13906228980984664\n",
      "Loss 0.09251999363204007 0.0914947453234343\n",
      "dm   0.013679541210364566 8.104628079763643e-17\n",
      "dc   -2.145601109480033e-05 4.440892098500626e-18\n",
      "\n",
      "\n",
      "_______________________\n",
      "epoch trad, rev 24\n",
      "m  c 1.0550485117921165 0.13889433181719985\n",
      "mt mr 1.2017622179993193 0.9379803996700675\n",
      "ct cr 0.13866421511520433 0.13906228980984664\n",
      "Loss 0.09216169289449289 0.0914947453234343\n",
      "dm   0.012512847158470418 -5.773159728050814e-17\n",
      "dc   -1.9626081264787486e-05 4.440892098500626e-18\n",
      "\n",
      "\n",
      "_______________________\n",
      "epoch trad, rev 25\n",
      "m  c 1.0550485117921165 0.13889433181719985\n",
      "mt mr 1.189249370840849 0.9379803996700676\n",
      "ct cr 0.13868384119646912 0.13906228980984664\n",
      "Loss 0.09186190304952863 0.0914947453234343\n",
      "dm   0.011445657540957008 8.104628079763643e-17\n",
      "dc   -1.795222159934884e-05 4.440892098500626e-18\n"
     ]
    },
    {
     "name": "stdout",
     "output_type": "stream",
     "text": [
      "\n",
      "\n",
      "_______________________\n",
      "epoch trad, rev 26\n",
      "m  c 1.0550485117921165 0.13889433181719985\n",
      "mt mr 1.177803713299892 0.9379803996700675\n",
      "ct cr 0.13870179341806846 0.13906228980984664\n",
      "Loss 0.09161106920598439 0.0914947453234343\n",
      "dm   0.010469485872061101 -5.773159728050814e-17\n",
      "dc   -1.642112126230444e-05 4.440892098500626e-18\n",
      "\n",
      "\n",
      "_______________________\n",
      "epoch trad, rev 27\n",
      "m  c 1.0550485117921165 0.13889433181719985\n",
      "mt mr 1.1673342274278309 0.9379803996700676\n",
      "ct cr 0.13871821453933075 0.13906228980984664\n",
      "Loss 0.09140119679661486 0.0914947453234343\n",
      "dm   0.009576569457286256 8.104628079763643e-17\n",
      "dc   -1.5020604665447746e-05 4.440892098500626e-18\n",
      "\n",
      "\n",
      "_______________________\n",
      "epoch trad, rev 28\n",
      "m  c 1.0550485117921165 0.13889433181719985\n",
      "mt mr 1.1577576579705446 0.9379803996700675\n",
      "ct cr 0.13873323514399621 0.13906228980984664\n",
      "Loss 0.09122559677553232 0.0914947453234343\n",
      "dm   0.008759807663045549 -5.773159728050814e-17\n",
      "dc   -1.3739534646384221e-05 4.440892098500626e-18\n",
      "\n",
      "\n",
      "_______________________\n",
      "epoch trad, rev 29\n",
      "m  c 1.0550485117921165 0.13889433181719985\n",
      "mt mr 1.1489978503074991 0.9379803996700676\n",
      "ct cr 0.1387469746786426 0.13906228980984664\n",
      "Loss 0.0910786724251767 0.0914947453234343\n",
      "dm   0.00801270545113302 8.104628079763643e-17\n",
      "dc   -1.2567723903516014e-05 4.440892098500626e-18\n",
      "\n",
      "\n",
      "_______________________\n",
      "epoch trad, rev 30\n",
      "m  c 1.0550485117921165 0.13889433181719985\n",
      "mt mr 1.1409851448563662 0.9379803996700675\n",
      "ct cr 0.13875954240254612 0.13906228980984664\n",
      "Loss 0.09095574097793463 0.0914947453234343\n",
      "dm   0.0073293217289995835 -5.773159728050814e-17\n",
      "dc   -1.149585398490638e-05 4.440892098500626e-18\n",
      "\n",
      "\n",
      "_______________________\n",
      "epoch trad, rev 31\n",
      "m  c 1.0550485117921165 0.13889433181719985\n",
      "mt mr 1.1336558231273666 0.9379803996700676\n",
      "ct cr 0.13877103825653103 0.13906228980984664\n",
      "Loss 0.09085288436713829 0.0914947453234343\n",
      "dm   0.006704222105105512 8.104628079763643e-17\n",
      "dc   -1.051540118611971e-05 4.440892098500626e-18\n",
      "\n",
      "\n",
      "_______________________\n",
      "epoch trad, rev 32\n",
      "m  c 1.0550485117921165 0.13889433181719985\n",
      "mt mr 1.126951601022261 0.9379803996700675\n",
      "ct cr 0.13878155365771716 0.13906228980984664\n",
      "Loss 0.09076682435058551 0.0914947453234343\n",
      "dm   0.006132435673651401 -5.773159728050814e-17\n",
      "dc   -9.618568768381409e-06 4.440892098500626e-18\n",
      "\n",
      "\n",
      "_______________________\n",
      "epoch trad, rev 33\n",
      "m  c 1.0550485117921165 0.13889433181719985\n",
      "mt mr 1.1208191653486097 0.9379803996700676\n",
      "ct cr 0.13879117222648554 0.13906228980984664\n",
      "Loss 0.09069481802652209 0.0914947453234343\n",
      "dm   0.005609415485031938 8.104628079763643e-17\n",
      "dc   -8.798224957354827e-06 4.440892098500626e-18\n",
      "\n",
      "\n",
      "_______________________\n",
      "epoch trad, rev 34\n",
      "m  c 1.0550485117921165 0.13889433181719985\n",
      "mt mr 1.1152097498635778 0.9379803996700675\n",
      "ct cr 0.1387999704514429 0.13906228980984664\n",
      "Loss 0.09063457041197573 0.0914947453234343\n",
      "dm   0.0051310023876664276 -5.773159728050814e-17\n",
      "dc   -8.047846229930489e-06 4.440892098500626e-18\n",
      "\n",
      "\n",
      "_______________________\n",
      "epoch trad, rev 35\n",
      "m  c 1.0550485117921165 0.13889433181719985\n",
      "mt mr 1.1100787474759113 0.9379803996700676\n",
      "ct cr 0.13880801829767284 0.13906228980984664\n",
      "Loss 0.09058416129714118 0.0914947453234343\n",
      "dm   0.004693391953669596 8.104628079763643e-17\n",
      "dc   -7.3614654381715106e-06 4.440892098500626e-18\n",
      "\n",
      "\n",
      "_______________________\n",
      "epoch trad, rev 36\n",
      "m  c 1.0550485117921165 0.13889433181719985\n",
      "mt mr 1.1053853555222417 0.9379803996700675\n",
      "ct cr 0.138815379763111 0.13906228980984664\n",
      "Loss 0.09054198404452238 0.0914947453234343\n",
      "dm   0.0042931042253497795 -5.773159728050814e-17\n",
      "dc   -6.733624357262436e-06 4.440892098500626e-18\n",
      "\n",
      "\n",
      "_______________________\n",
      "epoch trad, rev 37\n",
      "m  c 1.0550485117921165 0.13889433181719985\n",
      "mt mr 1.101092251296892 0.9379803996700676\n",
      "ct cr 0.13882211338746828 0.13906228980984664\n",
      "Loss 0.09050669438223988 0.0914947453234343\n",
      "dm   0.003926956041952937 8.104628079763643e-17\n",
      "dc   -6.159330280821607e-06 4.440892098500626e-18\n",
      "\n",
      "\n",
      "_______________________\n",
      "epoch trad, rev 38\n",
      "m  c 1.0550485117921165 0.13889433181719985\n",
      "mt mr 1.0971652952549389 0.9379803996700675\n",
      "ct cr 0.13882827271774908 0.13906228980984664\n",
      "Loss 0.09047716755944588 0.0914947453234343\n",
      "dm   0.0035920357265899396 -5.773159728050814e-17\n",
      "dc   -5.634016318065149e-06 4.440892098500626e-18\n",
      "\n",
      "\n",
      "_______________________\n",
      "epoch trad, rev 39\n",
      "m  c 1.0550485117921165 0.13889433181719985\n",
      "mt mr 1.093573259528349 0.9379803996700676\n",
      "ct cr 0.13883390673406715 0.13906228980984664\n",
      "Loss 0.09045246249830566 0.0914947453234343\n",
      "dm   0.003285679932052874 8.104628079763643e-17\n",
      "dc   -5.1535050768197755e-06 4.440892098500626e-18\n",
      "\n",
      "\n",
      "_______________________\n",
      "epoch trad, rev 40\n",
      "m  c 1.0550485117921165 0.13889433181719985\n",
      "mt mr 1.090287579596296 0.9379803996700675\n",
      "ct cr 0.13883906023914397 0.13906228980984664\n",
      "Loss 0.0904317917999985 0.0914947453234343\n",
      "dm   0.0030054524613940176 -5.773159728050814e-17\n",
      "dc   -4.713975444418095e-06 4.440892098500626e-18\n",
      "\n",
      "\n",
      "_______________________\n",
      "epoch trad, rev 41\n",
      "m  c 1.0550485117921165 0.13889433181719985\n",
      "mt mr 1.087282127134902 0.9379803996700676\n",
      "ct cr 0.13884377421458838 0.13906228980984664\n",
      "Loss 0.09041449664877099 0.0914947453234343\n",
      "dm   0.002749124894845052 8.104628079763643e-17\n",
      "dc   -4.311932201361834e-06 4.440892098500626e-18\n",
      "\n",
      "\n",
      "_______________________\n",
      "epoch trad, rev 42\n",
      "m  c 1.0550485117921165 0.13889433181719985\n",
      "mt mr 1.084533002240057 0.9379803996700675\n",
      "ct cr 0.13884808614678973 0.13906228980984664\n",
      "Loss 0.09040002581418491 0.0914947453234343\n",
      "dm   0.002514658869018126 -5.773159728050814e-17\n",
      "dc   -3.944178226717998e-06 4.440892098500626e-18\n",
      "\n",
      "\n",
      "_______________________\n",
      "epoch trad, rev 43\n",
      "m  c 1.0550485117921165 0.13889433181719985\n",
      "mt mr 1.0820183433710389 0.9379803996700676\n",
      "ct cr 0.13885203032501645 0.13906228980984664\n",
      "Loss 0.0903879180823204 0.0914947453234343\n",
      "dm   0.0023001898674697833 8.104628079763643e-17\n",
      "dc   -3.607789074034362e-06 4.440892098500626e-18\n",
      "\n",
      "\n",
      "_______________________\n",
      "epoch trad, rev 44\n",
      "m  c 1.0550485117921165 0.13889433181719985\n",
      "mt mr 1.0797181535035691 0.9379803996700675\n",
      "ct cr 0.1388556381140905 0.13906228980984664\n",
      "Loss 0.09037778755598275 0.0914947453234343\n",
      "dm   0.0021040123937274037 -5.773159728050814e-17\n",
      "dc   -3.300089715657095e-06 4.440892098500626e-18\n",
      "\n",
      "\n",
      "_______________________\n",
      "epoch trad, rev 45\n",
      "m  c 1.0550485117921165 0.13889433181719985\n",
      "mt mr 1.0776141411098417 0.9379803996700676\n",
      "ct cr 0.13885893820380615 0.13906228980984664\n",
      "Loss 0.09036931135540062 0.0914947453234343\n",
      "dm   0.0019245664088713048 8.104628079763643e-17\n",
      "dc   -3.0186332703974194e-06 4.440892098500626e-18\n",
      "\n",
      "\n",
      "_______________________\n",
      "epoch trad, rev 46\n",
      "m  c 1.0550485117921165 0.13889433181719985\n",
      "mt mr 1.0756895747009703 0.9379803996700675\n",
      "ct cr 0.13886195683707656 0.13906228980984664\n",
      "Loss 0.09036221932741373 0.0914947453234343\n",
      "dm   0.0017604249258218385 -5.773159728050814e-17\n",
      "dc   -2.761181545420932e-06 4.440892098500626e-18\n",
      "\n",
      "\n",
      "_______________________\n",
      "epoch trad, rev 47\n",
      "m  c 1.0550485117921165 0.13889433181719985\n",
      "mt mr 1.0739291497751484 0.9379803996700676\n",
      "ct cr 0.13886471801862196 0.13906228980984664\n",
      "Loss 0.09035628543516104 0.0914947453234343\n",
      "dm   0.0016102826616787697 8.104628079763643e-17\n",
      "dc   -2.525687237872054e-06 4.440892098500626e-18\n"
     ]
    },
    {
     "ename": "TclError",
     "evalue": "can't invoke \"update\" command: application has been destroyed",
     "output_type": "error",
     "traceback": [
      "\u001b[0;31m---------------------------------------------------------------------------\u001b[0m",
      "\u001b[0;31mTclError\u001b[0m                                  Traceback (most recent call last)",
      "\u001b[0;32m<ipython-input-50-3c10e664a801>\u001b[0m in \u001b[0;36m<module>\u001b[0;34m()\u001b[0m\n\u001b[1;32m     50\u001b[0m     \u001b[0mfig\u001b[0m\u001b[0;34m.\u001b[0m\u001b[0mcanvas\u001b[0m\u001b[0;34m.\u001b[0m\u001b[0mdraw\u001b[0m\u001b[0;34m(\u001b[0m\u001b[0;34m)\u001b[0m\u001b[0;34m\u001b[0m\u001b[0;34m\u001b[0m\u001b[0m\n\u001b[1;32m     51\u001b[0m \u001b[0;34m\u001b[0m\u001b[0m\n\u001b[0;32m---> 52\u001b[0;31m     \u001b[0mplt\u001b[0m\u001b[0;34m.\u001b[0m\u001b[0mpause\u001b[0m\u001b[0;34m(\u001b[0m\u001b[0;36m1\u001b[0m\u001b[0;34m)\u001b[0m\u001b[0;34m\u001b[0m\u001b[0;34m\u001b[0m\u001b[0m\n\u001b[0m\u001b[1;32m     53\u001b[0m \u001b[0;34m\u001b[0m\u001b[0m\n\u001b[1;32m     54\u001b[0m     \u001b[0mprint\u001b[0m\u001b[0;34m(\u001b[0m\u001b[0;34m\"\\n\"\u001b[0m\u001b[0;34m)\u001b[0m\u001b[0;34m\u001b[0m\u001b[0;34m\u001b[0m\u001b[0m\n",
      "\u001b[0;32m~/.local/lib/python3.6/site-packages/matplotlib/pyplot.py\u001b[0m in \u001b[0;36mpause\u001b[0;34m(interval)\u001b[0m\n\u001b[1;32m    294\u001b[0m             \u001b[0mcanvas\u001b[0m\u001b[0;34m.\u001b[0m\u001b[0mdraw_idle\u001b[0m\u001b[0;34m(\u001b[0m\u001b[0;34m)\u001b[0m\u001b[0;34m\u001b[0m\u001b[0;34m\u001b[0m\u001b[0m\n\u001b[1;32m    295\u001b[0m         \u001b[0mshow\u001b[0m\u001b[0;34m(\u001b[0m\u001b[0mblock\u001b[0m\u001b[0;34m=\u001b[0m\u001b[0;32mFalse\u001b[0m\u001b[0;34m)\u001b[0m\u001b[0;34m\u001b[0m\u001b[0;34m\u001b[0m\u001b[0m\n\u001b[0;32m--> 296\u001b[0;31m         \u001b[0mcanvas\u001b[0m\u001b[0;34m.\u001b[0m\u001b[0mstart_event_loop\u001b[0m\u001b[0;34m(\u001b[0m\u001b[0minterval\u001b[0m\u001b[0;34m)\u001b[0m\u001b[0;34m\u001b[0m\u001b[0;34m\u001b[0m\u001b[0m\n\u001b[0m\u001b[1;32m    297\u001b[0m     \u001b[0;32melse\u001b[0m\u001b[0;34m:\u001b[0m\u001b[0;34m\u001b[0m\u001b[0;34m\u001b[0m\u001b[0m\n\u001b[1;32m    298\u001b[0m         \u001b[0mtime\u001b[0m\u001b[0;34m.\u001b[0m\u001b[0msleep\u001b[0m\u001b[0;34m(\u001b[0m\u001b[0minterval\u001b[0m\u001b[0;34m)\u001b[0m\u001b[0;34m\u001b[0m\u001b[0;34m\u001b[0m\u001b[0m\n",
      "\u001b[0;32m~/.local/lib/python3.6/site-packages/matplotlib/backend_bases.py\u001b[0m in \u001b[0;36mstart_event_loop\u001b[0;34m(self, timeout)\u001b[0m\n\u001b[1;32m   2458\u001b[0m         \u001b[0mself\u001b[0m\u001b[0;34m.\u001b[0m\u001b[0m_looping\u001b[0m \u001b[0;34m=\u001b[0m \u001b[0;32mTrue\u001b[0m\u001b[0;34m\u001b[0m\u001b[0;34m\u001b[0m\u001b[0m\n\u001b[1;32m   2459\u001b[0m         \u001b[0;32mwhile\u001b[0m \u001b[0mself\u001b[0m\u001b[0;34m.\u001b[0m\u001b[0m_looping\u001b[0m \u001b[0;32mand\u001b[0m \u001b[0mcounter\u001b[0m \u001b[0;34m*\u001b[0m \u001b[0mtimestep\u001b[0m \u001b[0;34m<\u001b[0m \u001b[0mtimeout\u001b[0m\u001b[0;34m:\u001b[0m\u001b[0;34m\u001b[0m\u001b[0;34m\u001b[0m\u001b[0m\n\u001b[0;32m-> 2460\u001b[0;31m             \u001b[0mself\u001b[0m\u001b[0;34m.\u001b[0m\u001b[0mflush_events\u001b[0m\u001b[0;34m(\u001b[0m\u001b[0;34m)\u001b[0m\u001b[0;34m\u001b[0m\u001b[0;34m\u001b[0m\u001b[0m\n\u001b[0m\u001b[1;32m   2461\u001b[0m             \u001b[0mtime\u001b[0m\u001b[0;34m.\u001b[0m\u001b[0msleep\u001b[0m\u001b[0;34m(\u001b[0m\u001b[0mtimestep\u001b[0m\u001b[0;34m)\u001b[0m\u001b[0;34m\u001b[0m\u001b[0;34m\u001b[0m\u001b[0m\n\u001b[1;32m   2462\u001b[0m             \u001b[0mcounter\u001b[0m \u001b[0;34m+=\u001b[0m \u001b[0;36m1\u001b[0m\u001b[0;34m\u001b[0m\u001b[0;34m\u001b[0m\u001b[0m\n",
      "\u001b[0;32m~/.local/lib/python3.6/site-packages/matplotlib/backends/_backend_tk.py\u001b[0m in \u001b[0;36mflush_events\u001b[0;34m(self)\u001b[0m\n\u001b[1;32m    450\u001b[0m \u001b[0;34m\u001b[0m\u001b[0m\n\u001b[1;32m    451\u001b[0m     \u001b[0;32mdef\u001b[0m \u001b[0mflush_events\u001b[0m\u001b[0;34m(\u001b[0m\u001b[0mself\u001b[0m\u001b[0;34m)\u001b[0m\u001b[0;34m:\u001b[0m\u001b[0;34m\u001b[0m\u001b[0;34m\u001b[0m\u001b[0m\n\u001b[0;32m--> 452\u001b[0;31m         \u001b[0mself\u001b[0m\u001b[0;34m.\u001b[0m\u001b[0m_master\u001b[0m\u001b[0;34m.\u001b[0m\u001b[0mupdate\u001b[0m\u001b[0;34m(\u001b[0m\u001b[0;34m)\u001b[0m\u001b[0;34m\u001b[0m\u001b[0;34m\u001b[0m\u001b[0m\n\u001b[0m\u001b[1;32m    453\u001b[0m \u001b[0;34m\u001b[0m\u001b[0m\n\u001b[1;32m    454\u001b[0m \u001b[0;34m\u001b[0m\u001b[0m\n",
      "\u001b[0;32m~/Program_Files/miniconda3/lib/python3.6/tkinter/__init__.py\u001b[0m in \u001b[0;36mupdate\u001b[0;34m(self)\u001b[0m\n\u001b[1;32m   1175\u001b[0m     \u001b[0;32mdef\u001b[0m \u001b[0mupdate\u001b[0m\u001b[0;34m(\u001b[0m\u001b[0mself\u001b[0m\u001b[0;34m)\u001b[0m\u001b[0;34m:\u001b[0m\u001b[0;34m\u001b[0m\u001b[0;34m\u001b[0m\u001b[0m\n\u001b[1;32m   1176\u001b[0m         \u001b[0;34m\"\"\"Enter event loop until all pending events have been processed by Tcl.\"\"\"\u001b[0m\u001b[0;34m\u001b[0m\u001b[0;34m\u001b[0m\u001b[0m\n\u001b[0;32m-> 1177\u001b[0;31m         \u001b[0mself\u001b[0m\u001b[0;34m.\u001b[0m\u001b[0mtk\u001b[0m\u001b[0;34m.\u001b[0m\u001b[0mcall\u001b[0m\u001b[0;34m(\u001b[0m\u001b[0;34m'update'\u001b[0m\u001b[0;34m)\u001b[0m\u001b[0;34m\u001b[0m\u001b[0;34m\u001b[0m\u001b[0m\n\u001b[0m\u001b[1;32m   1178\u001b[0m     \u001b[0;32mdef\u001b[0m \u001b[0mupdate_idletasks\u001b[0m\u001b[0;34m(\u001b[0m\u001b[0mself\u001b[0m\u001b[0;34m)\u001b[0m\u001b[0;34m:\u001b[0m\u001b[0;34m\u001b[0m\u001b[0;34m\u001b[0m\u001b[0m\n\u001b[1;32m   1179\u001b[0m         \"\"\"Enter event loop until all idle callbacks have been called. This\n",
      "\u001b[0;31mTclError\u001b[0m: can't invoke \"update\" command: application has been destroyed"
     ]
    }
   ],
   "source": [
    "%matplotlib tk\n",
    "fig = plt.figure()\n",
    "ax = fig.add_subplot(1, 1, 1)\n",
    "\n",
    "plt.ion()\n",
    "fig.show()\n",
    "fig.canvas.draw()\n",
    "\n",
    "\n",
    "for step in range(100):\n",
    "    # traditional first\n",
    "    yt = mt*x + ct\n",
    "    dyt = yt - y\n",
    "    dct = dyt.mean()\n",
    "    dmt = x.T.dot(dyt)/n\n",
    "    \n",
    "    yr = mr*x + cr\n",
    "    dyr = yr - y\n",
    "    dcr = dyr.mean()\n",
    "    dmr = (1/x).T.dot(dyr)/n\n",
    "    \n",
    "    print('_______________________')\n",
    "    print(\"epoch trad, rev\", step)\n",
    "    print(\"m  c\", m, c)\n",
    "    print(\"mt mr\", mt, mr)\n",
    "    print(\"ct cr\", ct, cr)\n",
    "    print(\"Loss\", (dyt**2).mean(), (dyr**2).mean())\n",
    "    print(\"dm  \", dmt, dmr)\n",
    "    print(\"dc  \", dct, dcr)\n",
    "    \n",
    "    \n",
    "    mt = mt - learning_rate*dmt\n",
    "    ct = ct - learning_rate*dct\n",
    "    mr = mr - learning_rate*dmr\n",
    "    cr = cr - learning_rate*dcr\n",
    "###     the revised version does not seem to require learning rate\n",
    "#     mr = mr - dmr\n",
    "#     cr = cr - dcr\n",
    "\n",
    "    \n",
    "\n",
    "    ax.clear()\n",
    "    plt.scatter(x, y, marker='.', c='g', label='x,y')\n",
    "    plt.scatter(x, ytarg, marker='*', c='r', lw=1, label='x,ytarg')\n",
    "    plt.scatter(x, yt, marker='.', c='m', lw=1, label='x,yt')\n",
    "    plt.scatter(x, yr, marker='.', c='purple', lw=1, label='x,yr')\n",
    "#     plt.plot(x, np.zeros_like(x), c='b', lw=1)\n",
    "\n",
    "    plt.legend()\n",
    "    fig.canvas.draw()\n",
    "    \n",
    "    plt.pause(1)\n",
    "    \n",
    "    print(\"\\n\")\n",
    "    if (dyt**2).mean() < 0.0025:\n",
    "        print('fitted to our expectation')\n",
    "        plt.pause(10)\n",
    "        break"
   ]
  },
  {
   "cell_type": "code",
   "execution_count": 51,
   "metadata": {},
   "outputs": [
    {
     "data": {
      "text/plain": [
       "<matplotlib.legend.Legend at 0x7fb03b18e518>"
      ]
     },
     "execution_count": 51,
     "metadata": {},
     "output_type": "execute_result"
    },
    {
     "data": {
      "image/png": "[encoded data removed]",
      "text/plain": [
       "<Figure size 432x288 with 1 Axes>"
      ]
     },
     "metadata": {},
     "output_type": "display_data"
    }
   ],
   "source": [
    "%matplotlib inline\n",
    "plt.scatter(x, y, marker='.', c='g', label='x,y')\n",
    "plt.scatter(x, ytarg, marker='*', c='r', lw=1, label='x,ytarg')\n",
    "plt.scatter(x, yt, marker='.', c='m', lw=1, label='x,yt')\n",
    "plt.scatter(x, yr, marker='.', c='purple', lw=1, label='x,yr')\n",
    "plt.legend()"
   ]
  },
  {
   "cell_type": "code",
   "execution_count": 52,
   "metadata": {},
   "outputs": [
    {
     "name": "stdout",
     "output_type": "stream",
     "text": [
      "trad       rev\n"
     ]
    }
   ],
   "source": [
    "# Debugging\n",
    "print('trad       rev')"
   ]
  },
  {
   "cell_type": "code",
   "execution_count": 55,
   "metadata": {},
   "outputs": [
    {
     "name": "stdout",
     "output_type": "stream",
     "text": [
      "0.0016102826616787697 8.104628079763643e-17\n",
      "-2.525687237872054e-06 4.440892098500626e-18\n"
     ]
    }
   ],
   "source": [
    "print(dmt, dmr)\n",
    "print(dct, dcr)"
   ]
  },
  {
   "cell_type": "code",
   "execution_count": 54,
   "metadata": {},
   "outputs": [
    {
     "name": "stdout",
     "output_type": "stream",
     "text": [
      "delta y\n",
      "min -0.624957323707748 -0.6074311412986966\n",
      "max 0.7899148919240455 0.85819853213987\n",
      "mean -2.525687237872054e-06 4.440892098500626e-18\n",
      "std 0.3005932225263603 0.3024809834079397\n"
     ]
    }
   ],
   "source": [
    "t, r = dyt, dyr\n",
    "print('delta y')\n",
    "print('min',t.min(), r.min())\n",
    "print('max',t.max(), r.max())\n",
    "print('mean',t.mean(), r.mean())\n",
    "print('std',t.std(), r.std())"
   ]
  },
  {
   "cell_type": "code",
   "execution_count": 29,
   "metadata": {},
   "outputs": [
    {
     "name": "stdout",
     "output_type": "stream",
     "text": [
      "squared error\n",
      "min 1.1255359769283872e-06 5.636025819552769e-06\n",
      "max 1.1944483169820428 0.7365047192822285\n",
      "mean 0.1878990296418823 0.09149474529513978\n",
      "std 0.43347319313821475 0.30248098336116896\n"
     ]
    }
   ],
   "source": [
    "et, er = dyt**2, dyr**2\n",
    "print('squared error')\n",
    "print('min',et.min(), er.min())\n",
    "print('max',et.max(), er.max())\n",
    "print('mean',et.mean(), er.mean())\n",
    "print('std',t.std(), r.std())"
   ]
  },
  {
   "cell_type": "code",
   "execution_count": 56,
   "metadata": {},
   "outputs": [
    {
     "data": {
      "text/plain": [
       "array([-0.06508499, -0.06781433, -0.06684634, -0.0649274 , -0.06811784,\n",
       "       -0.06828364, -0.06495388, -0.06174709, -0.06393613, -0.06011415,\n",
       "       -0.06042471, -0.06018784, -0.05670567, -0.05724259, -0.05537119,\n",
       "       -0.0588654 , -0.05708255, -0.05705549, -0.0547389 , -0.0560075 ,\n",
       "       -0.05358643, -0.055201  , -0.0560618 , -0.05361213, -0.05650175,\n",
       "       -0.04738161, -0.05224138, -0.05092768, -0.0541107 , -0.04980656,\n",
       "       -0.04395611, -0.04824204, -0.04652913, -0.04728562, -0.04389452,\n",
       "       -0.04695855, -0.0393718 , -0.04118419, -0.03951263, -0.04199678,\n",
       "       -0.03811618, -0.04025349, -0.03839123, -0.03884803, -0.03826318,\n",
       "       -0.03897731, -0.04061796, -0.03232919, -0.03580051, -0.0376803 ,\n",
       "       -0.03697773, -0.03022207, -0.03564742, -0.03210531, -0.02678006,\n",
       "       -0.03011371, -0.03393446, -0.02572166, -0.02729112, -0.02792142,\n",
       "       -0.02917394, -0.03294486, -0.02528482, -0.01988932, -0.02334827,\n",
       "       -0.02741709, -0.01962705, -0.02599032, -0.02342842, -0.020375  ,\n",
       "       -0.02269053, -0.02233493, -0.0205978 , -0.01766903, -0.01478957,\n",
       "       -0.01828928, -0.01651702, -0.02016343, -0.01497874, -0.01378819,\n",
       "       -0.01010287, -0.01519909, -0.01135048, -0.00806261, -0.0096316 ,\n",
       "       -0.00807565, -0.01262621, -0.01056825, -0.00472694, -0.00778326,\n",
       "       -0.01105016, -0.00605815, -0.00264272, -0.00748346, -0.00605866,\n",
       "       -0.00491765, -0.0019425 , -0.0021669 ,  0.00244515,  0.00160787,\n",
       "        0.00281436,  0.00281913,  0.00213671,  0.00062994,  0.00712346,\n",
       "        0.00059463,  0.00475589,  0.00639462,  0.00473735,  0.00819713,\n",
       "        0.00769211,  0.00564645,  0.00754527,  0.00839922,  0.01007537,\n",
       "        0.01178386,  0.01210952,  0.01560685,  0.01734613,  0.01623637,\n",
       "        0.01833743,  0.00932043,  0.01484078,  0.01376559,  0.01606328,\n",
       "        0.01841413,  0.0183892 ,  0.01598231,  0.01691324,  0.02406479,\n",
       "        0.02024327,  0.02641948,  0.02382309,  0.02233118,  0.0248844 ,\n",
       "        0.02072965,  0.02593954,  0.02496538,  0.02381986,  0.02614264,\n",
       "        0.03001373,  0.03304689,  0.03605497,  0.03615553,  0.03146134,\n",
       "        0.03157237,  0.02987268,  0.03571402,  0.03573274,  0.03099189,\n",
       "        0.02928443,  0.03413863,  0.03411655,  0.03730101,  0.03951907,\n",
       "        0.0363068 ,  0.0397415 ,  0.04020948,  0.04165791,  0.03824003,\n",
       "        0.04275406,  0.04305916,  0.0446199 ,  0.04293625,  0.04066561,\n",
       "        0.04392744,  0.04985752,  0.04590449,  0.04751267,  0.04821642,\n",
       "        0.04483703,  0.04578495,  0.04928232,  0.04896693,  0.0510905 ,\n",
       "        0.05329742,  0.05330934,  0.05242376,  0.05194231,  0.05859996,\n",
       "        0.05829048,  0.05327659,  0.05843545,  0.05327101,  0.05458639,\n",
       "        0.05405815,  0.06184183,  0.06316816,  0.06617053,  0.0581803 ,\n",
       "        0.06356118,  0.05696258,  0.06409767,  0.06519021,  0.06255077,\n",
       "        0.06228014,  0.06724114,  0.0677222 ,  0.06816808,  0.06784246])"
      ]
     },
     "execution_count": 56,
     "metadata": {},
     "output_type": "execute_result"
    }
   ],
   "source": [
    "dyt - dyr"
   ]
  },
  {
   "cell_type": "code",
   "execution_count": 67,
   "metadata": {},
   "outputs": [
    {
     "data": {
      "text/plain": [
       "array([ 0.59122199,  0.71352514,  0.68863094,  0.63370291,  0.77697184,\n",
       "        0.78991489,  0.53699317,  0.34350218,  0.39271115,  0.06071922,\n",
       "        0.13030571,  0.15792506,  0.00712418, -0.04670769, -0.18911831,\n",
       "        0.03029134, -0.25102079, -0.01256854, -0.26295941, -0.04434352,\n",
       "       -0.27647846, -0.10770147, -0.08214007, -0.28057435, -0.13331359,\n",
       "       -0.47108617, -0.35355072, -0.38926876, -0.18209061, -0.3337984 ,\n",
       "       -0.42501648, -0.46429267, -0.62495732, -0.46441271, -0.48762172,\n",
       "       -0.48334029, -0.24554094, -0.39658846, -0.22484493, -0.23860037,\n",
       "       -0.14523144, -0.33312003, -0.17184407, -0.29487598, -0.39228769,\n",
       "       -0.14988748, -0.35079979, -0.10863182, -0.41274893, -0.39439755,\n",
       "       -0.268219  , -0.0325961 , -0.29321089, -0.01346012,  0.11806263,\n",
       "        0.09924583, -0.25776522, -0.03769409,  0.0703856 , -0.03401712,\n",
       "        0.08351349, -0.11951421,  0.35695323,  0.14306839,  0.17537823,\n",
       "        0.08652535,  0.15046066,  0.03264144,  0.24771756,  0.16646475,\n",
       "        0.14256663,  0.06539543,  0.05629218,  0.1099812 ,  0.09258483,\n",
       "        0.15440908,  0.15307408,  0.07161055,  0.13262452,  0.08306473,\n",
       "        0.12442048,  0.16314058,  0.25174777,  0.09581418,  0.16953111,\n",
       "        0.28828797, -0.08119536,  0.08073997,  0.19892247,  0.0843801 ,\n",
       "       -0.00745326,  0.2202161 ,  0.23143088,  0.15440609,  0.15564224,\n",
       "        0.18098736,  0.18230856,  0.17815934,  0.17343083,  0.25126048,\n",
       "        0.19363362,  0.1716893 ,  0.04196586,  0.09614621,  0.24319815,\n",
       "       -0.01083264,  0.13303683,  0.17235895,  0.22553382,  0.3340638 ,\n",
       "        0.20140689,  0.31041706,  0.38757618,  0.2389164 ,  0.26913903,\n",
       "        0.28335138,  0.12085272,  0.23648274,  0.28255889,  0.19603509,\n",
       "        0.14571762,  0.38020168,  0.33142006,  0.23447275, -0.01218889,\n",
       "        0.06396659,  0.17223345,  0.1164276 ,  0.2277875 , -0.21659757,\n",
       "        0.07474828, -0.19372899, -0.02506395, -0.07825513, -0.08021952,\n",
       "       -0.01024691, -0.40755543, -0.13745808, -0.09980174, -0.10322824,\n",
       "       -0.32600896, -0.4914795 , -0.37719599, -0.39428374, -0.24088955,\n",
       "       -0.19943736, -0.15167765, -0.51728099, -0.52168402, -0.29995496,\n",
       "       -0.45349852, -0.42131516, -0.19913494, -0.45409864, -0.44253444,\n",
       "       -0.57112434, -0.37496029, -0.30166127, -0.50282051, -0.52358601,\n",
       "       -0.50602499, -0.29579491, -0.29988338, -0.33851015, -0.53420021,\n",
       "       -0.43486399, -0.34465048, -0.36010752, -0.30978361, -0.02150281,\n",
       "       -0.313951  , -0.35750108, -0.07006334, -0.18062126, -0.15876294,\n",
       "        0.21781043, -0.0557413 ,  0.11259458,  0.01685317,  0.27960855,\n",
       "        0.30879788,  0.08533596,  0.30350279,  0.17794128,  0.13346819,\n",
       "        0.23884028,  0.34020228,  0.29380545,  0.49342984,  0.28490678,\n",
       "        0.45808359,  0.32008651,  0.33817818,  0.49984618,  0.21306074,\n",
       "        0.34508272,  0.57333592,  0.38288003,  0.50640924,  0.45236294])"
      ]
     },
     "execution_count": 67,
     "metadata": {},
     "output_type": "execute_result"
    }
   ],
   "source": [
    "dyt"
   ]
  },
  {
   "cell_type": "code",
   "execution_count": 68,
   "metadata": {},
   "outputs": [
    {
     "data": {
      "text/plain": [
       "array([ 0.65630697,  0.78133947,  0.75547727,  0.69863031,  0.84508968,\n",
       "        0.85819853,  0.60194704,  0.40524927,  0.45664728,  0.12083337,\n",
       "        0.19073043,  0.2181129 ,  0.06382985,  0.0105349 , -0.13374711,\n",
       "        0.08915674, -0.19393824,  0.04448695, -0.20822051,  0.01166398,\n",
       "       -0.22289203, -0.05250046, -0.02607827, -0.22696222, -0.07681185,\n",
       "       -0.42370457, -0.30130933, -0.33834108, -0.12797991, -0.28399184,\n",
       "       -0.38106037, -0.41605063, -0.57842819, -0.41712709, -0.44372719,\n",
       "       -0.43638174, -0.20616914, -0.35540427, -0.1853323 , -0.19660359,\n",
       "       -0.10711525, -0.29286654, -0.13345284, -0.25602795, -0.35402452,\n",
       "       -0.11091017, -0.31018183, -0.07630262, -0.37694842, -0.35671725,\n",
       "       -0.23124126, -0.00237403, -0.25756347,  0.01864519,  0.14484269,\n",
       "        0.12935954, -0.22383076, -0.01197243,  0.09767672, -0.00609571,\n",
       "        0.11268743, -0.08656936,  0.38223805,  0.16295771,  0.1987265 ,\n",
       "        0.11394244,  0.17008771,  0.05863176,  0.27114598,  0.18683975,\n",
       "        0.16525717,  0.08773036,  0.07688998,  0.12765024,  0.1073744 ,\n",
       "        0.17269836,  0.1695911 ,  0.09177398,  0.14760326,  0.09685291,\n",
       "        0.13452335,  0.17833967,  0.26309826,  0.10387678,  0.1791627 ,\n",
       "        0.29636362, -0.06856915,  0.09130822,  0.20364942,  0.09216336,\n",
       "        0.0035969 ,  0.22627425,  0.2340736 ,  0.16188955,  0.1617009 ,\n",
       "        0.18590501,  0.18425106,  0.18032624,  0.17098568,  0.24965262,\n",
       "        0.19081927,  0.16887017,  0.03982915,  0.09551627,  0.23607469,\n",
       "       -0.01142727,  0.12828094,  0.16596433,  0.22079647,  0.32586668,\n",
       "        0.19371478,  0.30477061,  0.38003091,  0.23051718,  0.25906366,\n",
       "        0.27156752,  0.1087432 ,  0.22087588,  0.26521276,  0.17979872,\n",
       "        0.1273802 ,  0.37088124,  0.31657928,  0.22070716, -0.02825217,\n",
       "        0.04555246,  0.15384426,  0.1004453 ,  0.21087425, -0.24066236,\n",
       "        0.05450501, -0.22014848, -0.04888703, -0.10058631, -0.10510392,\n",
       "       -0.03097656, -0.43349496, -0.16242346, -0.12362159, -0.12937088,\n",
       "       -0.35602269, -0.52452639, -0.41325096, -0.43043927, -0.27235089,\n",
       "       -0.23100972, -0.18155033, -0.55299501, -0.55741677, -0.33094685,\n",
       "       -0.48278295, -0.45545379, -0.23325149, -0.49139965, -0.48205351,\n",
       "       -0.60743114, -0.41470179, -0.34187074, -0.54447843, -0.56182604,\n",
       "       -0.54877905, -0.33885406, -0.34450328, -0.3814464 , -0.57486582,\n",
       "       -0.47879142, -0.394508  , -0.40601201, -0.35729628, -0.06971922,\n",
       "       -0.35878803, -0.40328602, -0.11934567, -0.22958819, -0.20985344,\n",
       "        0.16451301, -0.10905063,  0.06017082, -0.03508914,  0.22100858,\n",
       "        0.2505074 ,  0.03205937,  0.24506734,  0.12467027,  0.0788818 ,\n",
       "        0.18478214,  0.27836045,  0.23063728,  0.42725931,  0.22672648,\n",
       "        0.39452242,  0.26312393,  0.2740805 ,  0.43465596,  0.15050996,\n",
       "        0.28280258,  0.50609478,  0.31515783,  0.43824116,  0.38452049])"
      ]
     },
     "execution_count": 68,
     "metadata": {},
     "output_type": "execute_result"
    }
   ],
   "source": [
    "dyr"
   ]
  },
  {
   "cell_type": "markdown",
   "metadata": {},
   "source": [
    "## Works but does poor when close to minima.. WHYYY ??"
   ]
  },
  {
   "cell_type": "code",
   "execution_count": 57,
   "metadata": {},
   "outputs": [],
   "source": [
    "dmt_ = x.T.dot(dyt)/n\n",
    "dmr_ = (1/x).T.dot(dyr)/n\n",
    "dmr__ = x.T.dot(dyr)/n"
   ]
  },
  {
   "cell_type": "code",
   "execution_count": 59,
   "metadata": {},
   "outputs": [
    {
     "data": {
      "text/plain": [
       "-0.009984470628819605"
      ]
     },
     "execution_count": 59,
     "metadata": {},
     "output_type": "execute_result"
    }
   ],
   "source": [
    "dmr__"
   ]
  },
  {
   "cell_type": "code",
   "execution_count": 66,
   "metadata": {},
   "outputs": [
    {
     "data": {
      "text/plain": [
       "<matplotlib.legend.Legend at 0x7fb03a939fd0>"
      ]
     },
     "execution_count": 66,
     "metadata": {},
     "output_type": "execute_result"
    },
    {
     "data": {
      "image/png": "[encoded data removed]",
      "text/plain": [
       "<Figure size 432x288 with 1 Axes>"
      ]
     },
     "metadata": {},
     "output_type": "display_data"
    }
   ],
   "source": [
    "yr__ = (mr - 12*dmr__)*x + cr\n",
    "\n",
    "plt.scatter(x, y, marker='.', c='g', label='x,y')\n",
    "plt.scatter(x, ytarg.reshape(-1), marker='*', c='r', lw=1, label='x,ytarg')\n",
    "plt.scatter(x, yr.reshape(-1), marker='.', c='purple', lw=1, label='x,yr')\n",
    "plt.scatter(x, yr__.reshape(-1), marker='.', c='m', lw=1, label='x,yr__')\n",
    "plt.legend()"
   ]
  },
  {
   "cell_type": "code",
   "execution_count": null,
   "metadata": {},
   "outputs": [],
   "source": []
  }
 ],
 "metadata": {
  "kernelspec": {
   "display_name": "Python 3",
   "language": "python",
   "name": "python3"
  },
  "language_info": {
   "codemirror_mode": {
    "name": "ipython",
    "version": 3
   },
   "file_extension": ".py",
   "mimetype": "text/x-python",
   "name": "python",
   "nbconvert_exporter": "python",
   "pygments_lexer": "ipython3",
   "version": "3.6.7"
  }
 },
 "nbformat": 4,
 "nbformat_minor": 2
}
