{
 "cells": [
  {
   "cell_type": "code",
   "execution_count": 1,
   "metadata": {},
   "outputs": [
    {
     "name": "stderr",
     "output_type": "stream",
     "text": [
      "c:\\users\\heythere\\appdata\\local\\programs\\python\\python35\\lib\\site-packages\\h5py\\__init__.py:36: FutureWarning: Conversion of the second argument of issubdtype from `float` to `np.floating` is deprecated. In future, it will be treated as `np.float64 == np.dtype(float).type`.\n",
      "  from ._conv import register_converters as _register_converters\n"
     ]
    }
   ],
   "source": [
    "import numpy as np\n",
    "import tensorflow as tf\n",
    "import matplotlib.pyplot as plt\n",
    "%matplotlib inline"
   ]
  },
  {
   "cell_type": "code",
   "execution_count": 2,
   "metadata": {},
   "outputs": [],
   "source": [
    "from tensorflow.examples.tutorials.mnist import input_data"
   ]
  },
  {
   "cell_type": "code",
   "execution_count": 3,
   "metadata": {},
   "outputs": [
    {
     "name": "stdout",
     "output_type": "stream",
     "text": [
      "WARNING:tensorflow:From <ipython-input-3-b22782e32495>:1: read_data_sets (from tensorflow.contrib.learn.python.learn.datasets.mnist) is deprecated and will be removed in a future version.\n",
      "Instructions for updating:\n",
      "Please use alternatives such as official/mnist/dataset.py from tensorflow/models.\n",
      "WARNING:tensorflow:From c:\\users\\heythere\\appdata\\local\\programs\\python\\python35\\lib\\site-packages\\tensorflow\\contrib\\learn\\python\\learn\\datasets\\mnist.py:260: maybe_download (from tensorflow.contrib.learn.python.learn.datasets.base) is deprecated and will be removed in a future version.\n",
      "Instructions for updating:\n",
      "Please write your own downloading logic.\n",
      "WARNING:tensorflow:From c:\\users\\heythere\\appdata\\local\\programs\\python\\python35\\lib\\site-packages\\tensorflow\\contrib\\learn\\python\\learn\\datasets\\mnist.py:262: extract_images (from tensorflow.contrib.learn.python.learn.datasets.mnist) is deprecated and will be removed in a future version.\n",
      "Instructions for updating:\n",
      "Please use tf.data to implement this functionality.\n",
      "Extracting ../../Tensorflow-Bootcamp-master/03-Convolutional-Neural-Networks/MNIST_data/train-images-idx3-ubyte.gz\n",
      "WARNING:tensorflow:From c:\\users\\heythere\\appdata\\local\\programs\\python\\python35\\lib\\site-packages\\tensorflow\\contrib\\learn\\python\\learn\\datasets\\mnist.py:267: extract_labels (from tensorflow.contrib.learn.python.learn.datasets.mnist) is deprecated and will be removed in a future version.\n",
      "Instructions for updating:\n",
      "Please use tf.data to implement this functionality.\n",
      "Extracting ../../Tensorflow-Bootcamp-master/03-Convolutional-Neural-Networks/MNIST_data/train-labels-idx1-ubyte.gz\n",
      "WARNING:tensorflow:From c:\\users\\heythere\\appdata\\local\\programs\\python\\python35\\lib\\site-packages\\tensorflow\\contrib\\learn\\python\\learn\\datasets\\mnist.py:110: dense_to_one_hot (from tensorflow.contrib.learn.python.learn.datasets.mnist) is deprecated and will be removed in a future version.\n",
      "Instructions for updating:\n",
      "Please use tf.one_hot on tensors.\n",
      "Extracting ../../Tensorflow-Bootcamp-master/03-Convolutional-Neural-Networks/MNIST_data/t10k-images-idx3-ubyte.gz\n",
      "Extracting ../../Tensorflow-Bootcamp-master/03-Convolutional-Neural-Networks/MNIST_data/t10k-labels-idx1-ubyte.gz\n",
      "WARNING:tensorflow:From c:\\users\\heythere\\appdata\\local\\programs\\python\\python35\\lib\\site-packages\\tensorflow\\contrib\\learn\\python\\learn\\datasets\\mnist.py:290: DataSet.__init__ (from tensorflow.contrib.learn.python.learn.datasets.mnist) is deprecated and will be removed in a future version.\n",
      "Instructions for updating:\n",
      "Please use alternatives such as official/mnist/dataset.py from tensorflow/models.\n"
     ]
    }
   ],
   "source": [
    "mnist = input_data.read_data_sets(\"../../Tensorflow-Bootcamp-master/03-Convolutional-Neural-Networks/MNIST_data/\",one_hot=True)"
   ]
  },
  {
   "cell_type": "code",
   "execution_count": 4,
   "metadata": {},
   "outputs": [],
   "source": [
    "tf.reset_default_graph() "
   ]
  },
  {
   "cell_type": "code",
   "execution_count": 16,
   "metadata": {},
   "outputs": [],
   "source": [
    "# DEFINE parameters\n",
    "num_inputs = 784 # 28*28\n",
    "neurons_hid1 = 392\n",
    "neurons_hid2 = 196\n",
    "neurons_hid3 = 98\n",
    "neurons_hid4 = 49\n",
    "neurons_hid5 = 25\n",
    "neurons_hid6 = 12\n",
    "neurons_hid7 = 6\n",
    "neurons_hid8 = 3\n",
    "neurons_hid9 = 2\n",
    "neurons_hid10 = 1\n",
    "\n",
    "learning_rate = 0.0003"
   ]
  },
  {
   "cell_type": "code",
   "execution_count": 17,
   "metadata": {},
   "outputs": [],
   "source": [
    "# PINV(PSEUDO-INVERSE) function\n",
    "def pinv(a, rcond=1e-15):\n",
    "    s, u, v = tf.svd(a)\n",
    "    # Ignore singular values close to zero to prevent numerical overflow\n",
    "    limit = rcond * tf.reduce_max(s)\n",
    "    non_zero = tf.greater(s, limit)\n",
    "\n",
    "    reciprocal = tf.where(non_zero, tf.reciprocal(s), tf.zeros(s.shape))\n",
    "    lhs = tf.matmul(v, tf.diag(reciprocal))\n",
    "    return tf.matmul(lhs, u, transpose_b=True)"
   ]
  },
  {
   "cell_type": "code",
   "execution_count": 18,
   "metadata": {},
   "outputs": [],
   "source": [
    "## PLACEHOLDER DEFINATION\n",
    "X = tf.placeholder(tf.float32, shape=[None, num_inputs])"
   ]
  },
  {
   "cell_type": "code",
   "execution_count": 19,
   "metadata": {},
   "outputs": [],
   "source": [
    "# TRANSPOSE OR PINV\n",
    "tie_weight = tf.transpose #pinv"
   ]
  },
  {
   "cell_type": "code",
   "execution_count": 20,
   "metadata": {},
   "outputs": [],
   "source": [
    "## WEIGHTS DEFINATION\n",
    "initializer = tf.variance_scaling_initializer()\n",
    "\n",
    "w1 = tf.Variable(initializer([num_inputs,neurons_hid1]), dtype=tf.float32)\n",
    "w1_ = tie_weight(w1)"
   ]
  },
  {
   "cell_type": "code",
   "execution_count": 21,
   "metadata": {},
   "outputs": [],
   "source": [
    "# ACTIVATION FUNCTION  [ lambda X:X  <OR>  tf.nn.relu  ]\n",
    "act_func = lambda X:X\n",
    "# act_func = tf.nn.relu"
   ]
  },
  {
   "cell_type": "code",
   "execution_count": 22,
   "metadata": {},
   "outputs": [],
   "source": [
    "# LAYER MODELING OF :NN\n",
    "hid_layer1 = act_func(tf.matmul(X, w1))\n",
    "output_layer = tf.matmul(hid_layer1, w1_)"
   ]
  },
  {
   "cell_type": "code",
   "execution_count": 23,
   "metadata": {},
   "outputs": [],
   "source": [
    "# LOSS FUNCTIONS\n",
    "loss = tf.reduce_mean(tf.square(output_layer - X))\n",
    "# loss = tf.reduce_mean(tf.abs(output_layer - X))\n",
    "# cross_entropy = tf.reduce_mean(tf.nn.softmax_cross_entropy_with_logits(labels=Y,logits=yout))"
   ]
  },
  {
   "cell_type": "code",
   "execution_count": 24,
   "metadata": {},
   "outputs": [],
   "source": [
    "# TRAINING\n",
    "optimizer = tf.train.AdamOptimizer(learning_rate)\n",
    "train = optimizer.minimize(loss, var_list=[w1])"
   ]
  },
  {
   "cell_type": "code",
   "execution_count": 25,
   "metadata": {},
   "outputs": [],
   "source": [
    "# PREPARATION\n",
    "init = tf.global_variables_initializer()\n",
    "saver = tf.train.Saver() "
   ]
  },
  {
   "cell_type": "code",
   "execution_count": 26,
   "metadata": {},
   "outputs": [
    {
     "name": "stdout",
     "output_type": "stream",
     "text": [
      "Epoch 0 Complete. Training Loss: 0.004094943404197693\n",
      "Epoch 1 Complete. Training Loss: 0.0022173693869262934\n",
      "Epoch 2 Complete. Training Loss: 0.001391905127093196\n",
      "Epoch 3 Complete. Training Loss: 0.0012328356970101595\n",
      "Epoch 4 Complete. Training Loss: 0.0008846138953231275\n",
      "Epoch 5 Complete. Training Loss: 0.0007194059435278177\n",
      "Epoch 6 Complete. Training Loss: 0.0006626365357078612\n",
      "Epoch 7 Complete. Training Loss: 0.0005227313376963139\n",
      "Epoch 8 Complete. Training Loss: 0.0004401830374263227\n",
      "Epoch 9 Complete. Training Loss: 0.0004831147089134902\n",
      "Epoch 10 Complete. Training Loss: 0.0003680758527480066\n",
      "Epoch 11 Complete. Training Loss: 0.00038962450344115496\n",
      "Epoch 12 Complete. Training Loss: 0.0003753090859390795\n",
      "Epoch 13 Complete. Training Loss: 0.00032277192804031074\n",
      "Epoch 14 Complete. Training Loss: 0.00035902406671084464\n",
      "Epoch 15 Complete. Training Loss: 0.0003324752615299076\n",
      "Epoch 16 Complete. Training Loss: 0.000350636342773214\n",
      "Epoch 17 Complete. Training Loss: 0.00028661423129960895\n",
      "Epoch 18 Complete. Training Loss: 0.0003516911237966269\n",
      "Epoch 19 Complete. Training Loss: 0.0003384447190910578\n",
      "Epoch 20 Complete. Training Loss: 0.000333617499563843\n",
      "Epoch 21 Complete. Training Loss: 0.000333557982230559\n",
      "Epoch 22 Complete. Training Loss: 0.00031073452555574477\n",
      "Epoch 23 Complete. Training Loss: 0.000248742668190971\n",
      "Epoch 24 Complete. Training Loss: 0.0003721138637047261\n",
      "Epoch 25 Complete. Training Loss: 0.0003362944407854229\n",
      "Epoch 26 Complete. Training Loss: 0.00034255682840012014\n",
      "Epoch 27 Complete. Training Loss: 0.0003226471017114818\n",
      "Epoch 28 Complete. Training Loss: 0.0002882132539525628\n",
      "Epoch 29 Complete. Training Loss: 0.00028574716998264194\n",
      "Epoch 30 Complete. Training Loss: 0.00031941311317496\n",
      "Epoch 31 Complete. Training Loss: 0.00039183630724437535\n",
      "Epoch 32 Complete. Training Loss: 0.00034389918437227607\n",
      "Epoch 33 Complete. Training Loss: 0.00035325923818163574\n",
      "Epoch 34 Complete. Training Loss: 0.00032698787981644273\n",
      "Epoch 35 Complete. Training Loss: 0.00032172491773962975\n",
      "Epoch 36 Complete. Training Loss: 0.00031995581230148673\n",
      "Epoch 37 Complete. Training Loss: 0.0003623237425927073\n",
      "Epoch 38 Complete. Training Loss: 0.00030599383171647787\n",
      "Epoch 39 Complete. Training Loss: 0.00033097012783400714\n",
      "Epoch 40 Complete. Training Loss: 0.00037381635047495365\n",
      "Epoch 41 Complete. Training Loss: 0.0003551490372046828\n",
      "Epoch 42 Complete. Training Loss: 0.0003233975439798087\n",
      "Epoch 43 Complete. Training Loss: 0.00035698196734301746\n",
      "Epoch 44 Complete. Training Loss: 0.00024376428336836398\n",
      "Keyboard Interrupted\n",
      "Finished Training the Model\n"
     ]
    }
   ],
   "source": [
    "num_epochs = 100\n",
    "batch_size = 150\n",
    "\n",
    "try:\n",
    "    with tf.Session() as sess:\n",
    "        sess.run(init)\n",
    "\n",
    "        # Epoch == Entire Training Set\n",
    "        for epoch in range(num_epochs):\n",
    "            num_batches = mnist.train.num_examples // batch_size\n",
    "\n",
    "            # 150 batch size\n",
    "            for iteration in range(num_batches):\n",
    "                X_batch, y_batch = mnist.train.next_batch(batch_size)\n",
    "                sess.run(train, feed_dict={X: X_batch})\n",
    "\n",
    "            training_loss = loss.eval(feed_dict={X: X_batch})   \n",
    "            print(\"Epoch {} Complete. Training Loss: {}\".format(epoch,training_loss))\n",
    "            saver.save(sess, \"./save/ae_1_392.ckpt\")      \n",
    "except KeyboardInterrupt:\n",
    "    print('Keyboard Interrupted')\n",
    "finally:\n",
    "    print('Finished Training the Model')"
   ]
  },
  {
   "cell_type": "code",
   "execution_count": 27,
   "metadata": {},
   "outputs": [
    {
     "name": "stdout",
     "output_type": "stream",
     "text": [
      "INFO:tensorflow:Restoring parameters from ./save/ae_1_392.ckpt\n"
     ]
    }
   ],
   "source": [
    "num_test_images = 10\n",
    "start_point = 15\n",
    "with tf.Session() as sess:\n",
    "    \n",
    "    saver.restore(sess,\"./save/ae_1_392.ckpt\")\n",
    "    \n",
    "    results,compressed = sess.run([output_layer, hid_layer1],\n",
    "                                  feed_dict={X:mnist.test.images[start_point:num_test_images+start_point]})\n",
    "    weight1 = w1.eval()"
   ]
  },
  {
   "cell_type": "code",
   "execution_count": 28,
   "metadata": {},
   "outputs": [
    {
     "data": {
      "image/png": "[encoded data removed]",
      "text/plain": [
       "<matplotlib.figure.Figure at 0x1d9df58bd30>"
      ]
     },
     "metadata": {},
     "output_type": "display_data"
    }
   ],
   "source": [
    "# ORIGINAL VS RECONSTRUCTED\n",
    "f, a = plt.subplots(2, num_test_images, figsize=(20, 4))\n",
    "for i in range(start_point,num_test_images+start_point):\n",
    "    j = i-start_point\n",
    "    a[0][j].imshow(np.reshape(mnist.test.images[i], (28, 28)))\n",
    "    a[1][j].imshow(np.reshape(results[j], (28, 28)))"
   ]
  },
  {
   "cell_type": "code",
   "execution_count": 28,
   "metadata": {},
   "outputs": [],
   "source": [
    "# np.save('./save/weights/w1.npy',weight1)\n",
    "#wt1 = np.load('./save/weights/w1.npy')"
   ]
  }
 ],
 "metadata": {
  "kernelspec": {
   "display_name": "Python 3",
   "language": "python",
   "name": "python3"
  },
  "language_info": {
   "codemirror_mode": {
    "name": "ipython",
    "version": 3
   },
   "file_extension": ".py",
   "mimetype": "text/x-python",
   "name": "python",
   "nbconvert_exporter": "python",
   "pygments_lexer": "ipython3",
   "version": "3.5.3"
  }
 },
 "nbformat": 4,
 "nbformat_minor": 2
}
