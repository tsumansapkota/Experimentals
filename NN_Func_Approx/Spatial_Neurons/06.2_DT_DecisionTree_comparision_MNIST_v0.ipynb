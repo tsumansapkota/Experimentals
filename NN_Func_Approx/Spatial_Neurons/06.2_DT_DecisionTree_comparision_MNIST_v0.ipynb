{
 "cells": [
  {
   "cell_type": "code",
   "execution_count": 29,
   "metadata": {},
   "outputs": [],
   "source": [
    "import numpy as np\n",
    "import matplotlib.pyplot as plt\n",
    "%matplotlib inline\n",
    "from mpl_toolkits.mplot3d import Axes3D\n",
    "\n",
    "import torch\n",
    "import torch.nn as nn\n",
    "import torch.nn.functional as F\n",
    "import torch.optim as optim\n",
    "from torch.utils import data\n",
    "\n",
    "import random, os, pathlib, time\n",
    "from tqdm import tqdm\n",
    "from sklearn import datasets\n",
    "\n",
    "from sklearn import tree, cluster"
   ]
  },
  {
   "cell_type": "code",
   "execution_count": 30,
   "metadata": {},
   "outputs": [],
   "source": [
    "# device = torch.device(\"cuda:0\")\n",
    "device = torch.device(\"cpu\")"
   ]
  },
  {
   "cell_type": "markdown",
   "metadata": {},
   "source": [
    "## MNIST dataset"
   ]
  },
  {
   "cell_type": "code",
   "execution_count": 31,
   "metadata": {},
   "outputs": [],
   "source": [
    "import mylibrary.datasets as datasets\n",
    "import mylibrary.nnlib as tnn"
   ]
  },
  {
   "cell_type": "code",
   "execution_count": 32,
   "metadata": {},
   "outputs": [],
   "source": [
    "mnist = datasets.FashionMNIST()\n",
    "# mnist.download_mnist()\n",
    "# mnist.save_mnist()\n",
    "train_data, train_label_, test_data, test_label_ = mnist.load()\n",
    "\n",
    "train_data = train_data / 255.\n",
    "test_data = test_data / 255.\n",
    "\n",
    "# train_label = tnn.Logits.index_to_logit(train_label_)\n",
    "train_size = len(train_label_)"
   ]
  },
  {
   "cell_type": "code",
   "execution_count": 33,
   "metadata": {},
   "outputs": [],
   "source": [
    "## converting data to pytorch format\n",
    "train_data = torch.Tensor(train_data)\n",
    "test_data = torch.Tensor(test_data)\n",
    "train_label = torch.LongTensor(train_label_).reshape(-1,1)\n",
    "test_label = torch.LongTensor(test_label_).reshape(-1,1)"
   ]
  },
  {
   "cell_type": "code",
   "execution_count": 34,
   "metadata": {},
   "outputs": [],
   "source": [
    "class DistanceTransform(nn.Module):\n",
    "    \n",
    "    def __init__(self, input_dim, num_centers, p=2):\n",
    "        super().__init__()\n",
    "        self.input_dim = input_dim\n",
    "        self.num_centers = num_centers\n",
    "        self.p = p\n",
    "        \n",
    "        self.centers = torch.randn(num_centers, input_dim)/3.\n",
    "#         self.centers = torch.rand(num_centers, input_dim)\n",
    "        self.centers = nn.Parameter(self.centers)\n",
    "        self.inv_params = None\n",
    "    \n",
    "    def forward(self, x):\n",
    "        dists = torch.cdist(x, self.centers, p=self.p)\n",
    "        \n",
    "        ### normalize similar to UMAP\n",
    "#         dists = dists-dists.min(dim=1, keepdim=True)[0]\n",
    "#         dists = dists-dists.mean(dim=1, keepdim=True)\n",
    "#         dists = dists/dists.std(dim=1, keepdim=True)\n",
    "\n",
    "        dists = torch.softmax(dists, dim=1)\n",
    "\n",
    "        return dists\n",
    "    \n",
    "    def set_centroid_to_data_randomly(self, data_loader):\n",
    "        indices = np.random.permutation(len(data_loader.dataset.data))[:self.centers.shape[0]]\n",
    "        self.centers.data = data_loader.dataset.data[indices].to(self.centers.device)\n",
    "        self.centers.data += torch.randn_like(self.centers)*0.01\n",
    "        pass\n",
    "    \n",
    "    def set_centroid_to_data_maxdist(self, data_loader):\n",
    "        ## sample N points\n",
    "        N = self.centers.shape[0]\n",
    "        new_center = torch.empty_like(self.centers)\n",
    "        min_dists = torch.empty(N)\n",
    "        count = 0\n",
    "        for i, (xx, _) in enumerate(tqdm(data_loader)):\n",
    "            if count < N:\n",
    "                if N-count < batch_size:\n",
    "                    #### final fillup\n",
    "                    new_center[count:count+N-count] = xx[:N-count]\n",
    "                    xx = xx[N-count:]\n",
    "                    dists = torch.cdist(new_center, new_center)+torch.eye(N)*1e5\n",
    "                    min_dists = dists.min(dim=0)[0]\n",
    "                    count = N\n",
    "\n",
    "                else:#### fill the center\n",
    "                    new_center[count:count+len(xx)] = xx\n",
    "                    count += len(xx)\n",
    "                    continue\n",
    "\n",
    "            ammd = min_dists.argmin()\n",
    "            for i, x in enumerate(xx):\n",
    "                dists = torch.norm(new_center-x, dim=1)\n",
    "                md = dists.min()\n",
    "                if md > min_dists[ammd]:\n",
    "                    min_dists[ammd] = md\n",
    "                    new_center[ammd] = x\n",
    "                    ammd = min_dists.argmin()\n",
    "        self.centers.data = new_center.to(self.centers.device)\n",
    "        pass\n",
    "        \n",
    "    \n",
    "    def set_centroid_to_data(self, data_loader):\n",
    "        new_center = self.centers.data.clone()\n",
    "        min_dists = torch.ones(self.centers.shape[0])*1e9\n",
    "\n",
    "        for xx, _ in data_loader:\n",
    "\n",
    "            dists = torch.cdist(xx, self.centers.data)\n",
    "            ### min dist of each center to the data points\n",
    "            min_d, arg_md = dists.min(dim=0)\n",
    "\n",
    "            ### dont allow same point to be assigned as closest to multiple centroid\n",
    "            occupied = []\n",
    "            for i in np.random.permutation(len(arg_md)):\n",
    "        #     for i, ind in enumerate(arg_md):\n",
    "                ind = arg_md[i]\n",
    "                if ind in occupied:\n",
    "                    min_d[i] = min_dists[i]\n",
    "                    arg_md[i] = -1\n",
    "                else:\n",
    "                    occupied.append(ind)\n",
    "\n",
    "            ### the index of centroids that have new min_dist\n",
    "            idx = torch.nonzero(min_d<min_dists).reshape(-1)\n",
    "\n",
    "            ### assign new_center to the nearest data point\n",
    "            new_center[idx] = xx[arg_md[idx]]\n",
    "            min_dists[idx] = min_d[idx]\n",
    "            \n",
    "        self.centers.data = new_center.to(self.centers.device)\n",
    "        pass\n",
    "    \n",
    "    def compute_inverse_matrix(self):\n",
    "#         A = 2*(self.centers.data[1:]-self.centers.data[:-1])\n",
    "        A = 2*(self.centers[1:]-self.centers[:-1])\n",
    "        \n",
    "#         c2 = self.centers.data**2\n",
    "        c2 = self.centers**2\n",
    "        Z = (c2[:-1]-c2[1:]).sum(dim=1, keepdim=True)\n",
    "        \n",
    "        invA = torch.pinverse(A)\n",
    "#         invA = A.t()\n",
    "        self.inv_params = (invA, Z)\n",
    "        \n",
    "    def inverse(self, dists):\n",
    "        assert self.inv_params is not None\n",
    "        \n",
    "        d2 = dists**2\n",
    "        D = d2[:, :-1]-d2[:, 1:]\n",
    "\n",
    "        invA, Z = self.inv_params\n",
    "        xrec = torch.matmul(invA, D.t()-Z).t()\n",
    "        return xrec"
   ]
  },
  {
   "cell_type": "code",
   "execution_count": 35,
   "metadata": {},
   "outputs": [],
   "source": [
    "class EMA(object):\n",
    "\n",
    "    def __init__(self, momentum=0.1, mu=None):\n",
    "        self.mu = mu\n",
    "        self.momentum = momentum\n",
    "\n",
    "    def __call__(self, x):\n",
    "        if self.mu is None:\n",
    "            self.mu = x\n",
    "        self.mu = self.momentum*self.mu + (1.0 - self.momentum)*x\n",
    "        return self.mu"
   ]
  },
  {
   "cell_type": "markdown",
   "metadata": {},
   "source": [
    "## Ordinary Decision Tree"
   ]
  },
  {
   "cell_type": "code",
   "execution_count": 36,
   "metadata": {},
   "outputs": [],
   "source": [
    "dtr = tree.DecisionTreeClassifier(max_depth=5)"
   ]
  },
  {
   "cell_type": "code",
   "execution_count": 37,
   "metadata": {
    "scrolled": true
   },
   "outputs": [],
   "source": [
    "dtr.fit(train_data.data.numpy(), train_label.data.numpy())\n",
    "yout = dtr.predict(train_data.data.numpy())"
   ]
  },
  {
   "cell_type": "code",
   "execution_count": 38,
   "metadata": {},
   "outputs": [
    {
     "data": {
      "text/plain": [
       "(60000,)"
      ]
     },
     "execution_count": 38,
     "metadata": {},
     "output_type": "execute_result"
    }
   ],
   "source": [
    "yout.shape"
   ]
  },
  {
   "cell_type": "code",
   "execution_count": 39,
   "metadata": {},
   "outputs": [
    {
     "name": "stdout",
     "output_type": "stream",
     "text": [
      "0.7105333333333334\n"
     ]
    }
   ],
   "source": [
    "acc = yout.reshape(-1,1)==train_label.data.numpy()\n",
    "acc = np.count_nonzero(acc)/len(acc)\n",
    "print(acc)"
   ]
  },
  {
   "cell_type": "code",
   "execution_count": 40,
   "metadata": {},
   "outputs": [],
   "source": [
    "# %matplotlib inline\n",
    "# plt.figure(figsize=(12,8))\n",
    "# tree.plot_tree(dtr)\n",
    "# plt.savefig(\"./models/tree_mnist_cls_ord.svg\")"
   ]
  },
  {
   "cell_type": "code",
   "execution_count": 41,
   "metadata": {},
   "outputs": [],
   "source": [
    "yout = dtr.predict(test_data.data.numpy())"
   ]
  },
  {
   "cell_type": "code",
   "execution_count": 42,
   "metadata": {},
   "outputs": [
    {
     "name": "stdout",
     "output_type": "stream",
     "text": [
      "0.6938\n"
     ]
    }
   ],
   "source": [
    "acc = yout.reshape(-1,1)==test_label.data.numpy()\n",
    "acc = np.count_nonzero(acc)/len(acc)\n",
    "print(acc)"
   ]
  },
  {
   "cell_type": "markdown",
   "metadata": {},
   "source": [
    "### Decision tree with distance transform"
   ]
  },
  {
   "cell_type": "code",
   "execution_count": 43,
   "metadata": {},
   "outputs": [],
   "source": [
    "dt = DistanceTransform(784, num_centers=785)\n",
    "dt.centers.data = train_data[np.random.permutation(len(train_data))[:dt.num_centers]]\n",
    "dt.centers.data += torch.randn_like(dt.centers)*0.01"
   ]
  },
  {
   "cell_type": "code",
   "execution_count": 44,
   "metadata": {},
   "outputs": [],
   "source": [
    "# ### centers using k-means\n",
    "# kmeans = cluster.KMeans(init=\"k-means++\", n_clusters=785, n_init=1, verbose=1)\n",
    "# kmeans.fit(train_data)"
   ]
  },
  {
   "cell_type": "code",
   "execution_count": 45,
   "metadata": {},
   "outputs": [],
   "source": [
    "# kmeans.cluster_centers_.shape"
   ]
  },
  {
   "cell_type": "code",
   "execution_count": 46,
   "metadata": {},
   "outputs": [],
   "source": [
    "# dt.centers.data *= 0\n",
    "# dt.centers.data += torch.Tensor(kmeans.cluster_centers_)"
   ]
  },
  {
   "cell_type": "code",
   "execution_count": 47,
   "metadata": {},
   "outputs": [
    {
     "data": {
      "text/plain": [
       "tensor([[7.8973e-06, 1.5246e-03, 2.2275e-04,  ..., 2.9124e-05, 3.3851e-03,\n",
       "         7.8630e-05],\n",
       "        [1.7634e-03, 6.4385e-04, 3.5041e-03,  ..., 2.3562e-03, 1.8775e-04,\n",
       "         7.9201e-05],\n",
       "        [1.3078e-03, 2.5113e-03, 1.5333e-05,  ..., 8.3671e-05, 3.1240e-06,\n",
       "         2.7901e-05],\n",
       "        ...,\n",
       "        [2.1806e-03, 4.9106e-04, 1.6244e-03,  ..., 1.6201e-03, 1.1216e-05,\n",
       "         2.2745e-04],\n",
       "        [1.5550e-03, 4.3281e-03, 1.5386e-05,  ..., 1.4530e-04, 4.7621e-05,\n",
       "         1.6202e-05],\n",
       "        [2.8211e-04, 2.4850e-03, 2.8136e-07,  ..., 9.5159e-06, 4.3840e-05,\n",
       "         8.2374e-06]])"
      ]
     },
     "execution_count": 47,
     "metadata": {},
     "output_type": "execute_result"
    }
   ],
   "source": [
    "xx_ = dt(train_data).data\n",
    "xx_"
   ]
  },
  {
   "cell_type": "code",
   "execution_count": 48,
   "metadata": {},
   "outputs": [
    {
     "data": {
      "text/plain": [
       "(torch.Size([60000, 785]), torch.Size([60000, 1]))"
      ]
     },
     "execution_count": 48,
     "metadata": {},
     "output_type": "execute_result"
    }
   ],
   "source": [
    "xx_.shape, train_label.shape"
   ]
  },
  {
   "cell_type": "code",
   "execution_count": 49,
   "metadata": {},
   "outputs": [],
   "source": [
    "dtr_ = tree.DecisionTreeClassifier(max_depth=5)"
   ]
  },
  {
   "cell_type": "code",
   "execution_count": null,
   "metadata": {},
   "outputs": [],
   "source": [
    "dtr_.fit(xx_.data.numpy(), train_label.data.numpy())"
   ]
  },
  {
   "cell_type": "code",
   "execution_count": 23,
   "metadata": {
    "scrolled": true
   },
   "outputs": [],
   "source": [
    "yout_ = dtr_.predict(xx_.data.numpy())"
   ]
  },
  {
   "cell_type": "code",
   "execution_count": 24,
   "metadata": {},
   "outputs": [
    {
     "data": {
      "text/plain": [
       "(60000,)"
      ]
     },
     "execution_count": 24,
     "metadata": {},
     "output_type": "execute_result"
    }
   ],
   "source": [
    "yout_.shape"
   ]
  },
  {
   "cell_type": "code",
   "execution_count": 25,
   "metadata": {},
   "outputs": [
    {
     "name": "stdout",
     "output_type": "stream",
     "text": [
      "0.6558666666666667\n"
     ]
    }
   ],
   "source": [
    "acc = yout_.reshape(-1,1)==train_label.data.numpy()\n",
    "acc = np.count_nonzero(acc)/len(acc)\n",
    "print(acc)"
   ]
  },
  {
   "cell_type": "code",
   "execution_count": 26,
   "metadata": {},
   "outputs": [],
   "source": [
    "# %matplotlib inline\n",
    "# plt.figure(figsize=(12,8))\n",
    "# tree.plot_tree(dtr)\n",
    "# plt.savefig(\"./models/tree_mnist_cls_dist.svg\")"
   ]
  },
  {
   "cell_type": "code",
   "execution_count": 27,
   "metadata": {},
   "outputs": [],
   "source": [
    "yout_ = dtr_.predict(dt(test_data).data.numpy())"
   ]
  },
  {
   "cell_type": "code",
   "execution_count": 28,
   "metadata": {},
   "outputs": [
    {
     "name": "stdout",
     "output_type": "stream",
     "text": [
      "0.6481\n"
     ]
    }
   ],
   "source": [
    "acc = yout_.reshape(-1,1)==test_label.data.numpy()\n",
    "acc = np.count_nonzero(acc)/len(acc)\n",
    "print(acc)"
   ]
  },
  {
   "cell_type": "code",
   "execution_count": null,
   "metadata": {},
   "outputs": [],
   "source": []
  }
 ],
 "metadata": {
  "kernelspec": {
   "display_name": "Python 3",
   "language": "python",
   "name": "python3"
  },
  "language_info": {
   "codemirror_mode": {
    "name": "ipython",
    "version": 3
   },
   "file_extension": ".py",
   "mimetype": "text/x-python",
   "name": "python",
   "nbconvert_exporter": "python",
   "pygments_lexer": "ipython3",
   "version": "3.7.4"
  }
 },
 "nbformat": 4,
 "nbformat_minor": 4
}
