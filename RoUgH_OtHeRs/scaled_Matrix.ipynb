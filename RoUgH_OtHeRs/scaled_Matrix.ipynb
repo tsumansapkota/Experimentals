{
 "cells": [
  {
   "cell_type": "code",
   "execution_count": 1,
   "metadata": {},
   "outputs": [],
   "source": [
    "import numpy as np"
   ]
  },
  {
   "cell_type": "code",
   "execution_count": 6,
   "metadata": {},
   "outputs": [
    {
     "data": {
      "text/plain": [
       "array([[0.83406387, 0.67184443, 0.66369834],\n",
       "       [0.51427879, 0.34995784, 0.18676119],\n",
       "       [0.44791852, 0.04967944, 0.06675561],\n",
       "       [0.93733188, 0.40386344, 0.08716619],\n",
       "       [0.08385109, 0.60988643, 0.58194698]])"
      ]
     },
     "execution_count": 6,
     "metadata": {},
     "output_type": "execute_result"
    }
   ],
   "source": [
    "X = np.random.uniform(size=(5,3))\n",
    "X"
   ]
  },
  {
   "cell_type": "code",
   "execution_count": 9,
   "metadata": {},
   "outputs": [
    {
     "data": {
      "text/plain": [
       "array([[0.37215746, 0.86433655, 0.27302384, 0.19998957],\n",
       "       [0.78845456, 0.16238793, 0.26350195, 0.30514161],\n",
       "       [0.28068873, 0.18839596, 0.99186056, 0.83214696]])"
      ]
     },
     "execution_count": 9,
     "metadata": {},
     "output_type": "execute_result"
    }
   ],
   "source": [
    "W = np.random.uniform(size=(3,4))\n",
    "W"
   ]
  },
  {
   "cell_type": "code",
   "execution_count": 10,
   "metadata": {},
   "outputs": [
    {
     "data": {
      "text/plain": [
       "array([[1.02641454, 0.9550494 , 1.06304785, 0.92410632],\n",
       "       [0.5197403 , 0.53652394, 0.417866  , 0.36504985],\n",
       "       [0.22460375, 0.40779618, 0.20159532, 0.16028877],\n",
       "       [0.69172959, 0.89217451, 0.44878947, 0.38322722],\n",
       "       [0.6754195 , 0.28115022, 0.76080986, 0.68713648]])"
      ]
     },
     "execution_count": 10,
     "metadata": {},
     "output_type": "execute_result"
    }
   ],
   "source": [
    "X@W"
   ]
  },
  {
   "cell_type": "code",
   "execution_count": 12,
   "metadata": {},
   "outputs": [
    {
     "data": {
      "text/plain": [
       "array([[1.02641454, 0.9550494 , 1.06304785, 0.92410632],\n",
       "       [0.5197403 , 0.53652394, 0.417866  , 0.36504985],\n",
       "       [0.22460375, 0.40779618, 0.20159532, 0.16028877],\n",
       "       [0.69172959, 0.89217451, 0.44878947, 0.38322722],\n",
       "       [0.6754195 , 0.28115022, 0.76080986, 0.68713648]])"
      ]
     },
     "execution_count": 12,
     "metadata": {},
     "output_type": "execute_result"
    }
   ],
   "source": [
    "(0.25*X) @ (4*W)"
   ]
  },
  {
   "cell_type": "code",
   "execution_count": null,
   "metadata": {},
   "outputs": [],
   "source": []
  }
 ],
 "metadata": {
  "kernelspec": {
   "display_name": "Python 3",
   "language": "python",
   "name": "python3"
  },
  "language_info": {
   "codemirror_mode": {
    "name": "ipython",
    "version": 3
   },
   "file_extension": ".py",
   "mimetype": "text/x-python",
   "name": "python",
   "nbconvert_exporter": "python",
   "pygments_lexer": "ipython3",
   "version": "3.6.7"
  }
 },
 "nbformat": 4,
 "nbformat_minor": 2
}
