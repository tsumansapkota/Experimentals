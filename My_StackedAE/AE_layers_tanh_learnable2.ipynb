{
 "cells": [
  {
   "cell_type": "code",
   "execution_count": 1,
   "metadata": {},
   "outputs": [
    {
     "name": "stderr",
     "output_type": "stream",
     "text": [
      "c:\\users\\heythere\\appdata\\local\\programs\\python\\python35\\lib\\site-packages\\h5py\\__init__.py:36: FutureWarning: Conversion of the second argument of issubdtype from `float` to `np.floating` is deprecated. In future, it will be treated as `np.float64 == np.dtype(float).type`.\n",
      "  from ._conv import register_converters as _register_converters\n"
     ]
    }
   ],
   "source": [
    "import numpy as np\n",
    "import tensorflow as tf\n",
    "import matplotlib.pyplot as plt\n",
    "%matplotlib inline"
   ]
  },
  {
   "cell_type": "code",
   "execution_count": 2,
   "metadata": {},
   "outputs": [],
   "source": [
    "from tensorflow.examples.tutorials.mnist import input_data"
   ]
  },
  {
   "cell_type": "code",
   "execution_count": 3,
   "metadata": {},
   "outputs": [
    {
     "name": "stdout",
     "output_type": "stream",
     "text": [
      "WARNING:tensorflow:From <ipython-input-3-b22782e32495>:1: read_data_sets (from tensorflow.contrib.learn.python.learn.datasets.mnist) is deprecated and will be removed in a future version.\n",
      "Instructions for updating:\n",
      "Please use alternatives such as official/mnist/dataset.py from tensorflow/models.\n",
      "WARNING:tensorflow:From c:\\users\\heythere\\appdata\\local\\programs\\python\\python35\\lib\\site-packages\\tensorflow\\contrib\\learn\\python\\learn\\datasets\\mnist.py:260: maybe_download (from tensorflow.contrib.learn.python.learn.datasets.base) is deprecated and will be removed in a future version.\n",
      "Instructions for updating:\n",
      "Please write your own downloading logic.\n",
      "WARNING:tensorflow:From c:\\users\\heythere\\appdata\\local\\programs\\python\\python35\\lib\\site-packages\\tensorflow\\contrib\\learn\\python\\learn\\datasets\\mnist.py:262: extract_images (from tensorflow.contrib.learn.python.learn.datasets.mnist) is deprecated and will be removed in a future version.\n",
      "Instructions for updating:\n",
      "Please use tf.data to implement this functionality.\n",
      "Extracting ../../Tensorflow-Bootcamp-master/03-Convolutional-Neural-Networks/MNIST_data/train-images-idx3-ubyte.gz\n",
      "WARNING:tensorflow:From c:\\users\\heythere\\appdata\\local\\programs\\python\\python35\\lib\\site-packages\\tensorflow\\contrib\\learn\\python\\learn\\datasets\\mnist.py:267: extract_labels (from tensorflow.contrib.learn.python.learn.datasets.mnist) is deprecated and will be removed in a future version.\n",
      "Instructions for updating:\n",
      "Please use tf.data to implement this functionality.\n",
      "Extracting ../../Tensorflow-Bootcamp-master/03-Convolutional-Neural-Networks/MNIST_data/train-labels-idx1-ubyte.gz\n",
      "WARNING:tensorflow:From c:\\users\\heythere\\appdata\\local\\programs\\python\\python35\\lib\\site-packages\\tensorflow\\contrib\\learn\\python\\learn\\datasets\\mnist.py:110: dense_to_one_hot (from tensorflow.contrib.learn.python.learn.datasets.mnist) is deprecated and will be removed in a future version.\n",
      "Instructions for updating:\n",
      "Please use tf.one_hot on tensors.\n",
      "Extracting ../../Tensorflow-Bootcamp-master/03-Convolutional-Neural-Networks/MNIST_data/t10k-images-idx3-ubyte.gz\n",
      "Extracting ../../Tensorflow-Bootcamp-master/03-Convolutional-Neural-Networks/MNIST_data/t10k-labels-idx1-ubyte.gz\n",
      "WARNING:tensorflow:From c:\\users\\heythere\\appdata\\local\\programs\\python\\python35\\lib\\site-packages\\tensorflow\\contrib\\learn\\python\\learn\\datasets\\mnist.py:290: DataSet.__init__ (from tensorflow.contrib.learn.python.learn.datasets.mnist) is deprecated and will be removed in a future version.\n",
      "Instructions for updating:\n",
      "Please use alternatives such as official/mnist/dataset.py from tensorflow/models.\n"
     ]
    }
   ],
   "source": [
    "mnist = input_data.read_data_sets(\"../../Tensorflow-Bootcamp-master/03-Convolutional-Neural-Networks/MNIST_data/\",one_hot=True)"
   ]
  },
  {
   "cell_type": "code",
   "execution_count": 4,
   "metadata": {},
   "outputs": [],
   "source": [
    "tf.reset_default_graph() "
   ]
  },
  {
   "cell_type": "code",
   "execution_count": 5,
   "metadata": {},
   "outputs": [],
   "source": [
    "# DEFINE parameters\n",
    "num_inputs = 784 # 28*28\n",
    "neurons_hid1 = 392\n",
    "neurons_hid2 = 196\n",
    "neurons_hid3 = 98\n",
    "neurons_hid4 = 49\n",
    "neurons_hid5 = 25\n",
    "neurons_hid6 = 12\n",
    "neurons_hid7 = 6\n",
    "neurons_hid8 = 3\n",
    "neurons_hid9 = 2\n",
    "neurons_hid10 = 1\n",
    "\n",
    "learning_rate = 0.001"
   ]
  },
  {
   "cell_type": "code",
   "execution_count": 6,
   "metadata": {},
   "outputs": [],
   "source": [
    "# PINV(PSEUDO-INVERSE) function\n",
    "def pinv(a, rcond=1e-15):\n",
    "    s, u, v = tf.svd(a)\n",
    "    # Ignore singular values close to zero to prevent numerical overflow\n",
    "    limit = rcond * tf.reduce_max(s)\n",
    "    non_zero = tf.greater(s, limit)\n",
    "\n",
    "    reciprocal = tf.where(non_zero, tf.reciprocal(s), tf.zeros(s.shape))\n",
    "    lhs = tf.matmul(v, tf.diag(reciprocal))\n",
    "    return tf.matmul(lhs, u, transpose_b=True)"
   ]
  },
  {
   "cell_type": "code",
   "execution_count": 7,
   "metadata": {},
   "outputs": [],
   "source": [
    "## PLACEHOLDER DEFINATION\n",
    "X = tf.placeholder(tf.float32, shape=[None, num_inputs])"
   ]
  },
  {
   "cell_type": "code",
   "execution_count": 8,
   "metadata": {},
   "outputs": [],
   "source": [
    "# TRANSPOSE OR PINV\n",
    "tie_weight = tf.transpose #pinv"
   ]
  },
  {
   "cell_type": "code",
   "execution_count": 9,
   "metadata": {},
   "outputs": [],
   "source": [
    "## WEIGHTS DEFINATION\n",
    "initializer = tf.variance_scaling_initializer()\n",
    "\n",
    "w1 = tf.Variable(initializer([num_inputs,neurons_hid1]), dtype=tf.float32)\n",
    "w1_ = tie_weight(w1)\n",
    "b1 = tf.Variable(tf.zeros([neurons_hid1]))"
   ]
  },
  {
   "cell_type": "code",
   "execution_count": 10,
   "metadata": {},
   "outputs": [],
   "source": [
    "# ACTIVATION FUNCTION  [ lambda X:X  <OR>  tf.nn.relu  ]\n",
    "# act_func = lambda X:X\n",
    "act_func = tf.nn.tanh"
   ]
  },
  {
   "cell_type": "code",
   "execution_count": 18,
   "metadata": {},
   "outputs": [],
   "source": [
    "# LAYER MODELING OF :NN\n",
    "# hid_layer1 = act_func(tf.matmul(X, w1)+b1)\n",
    "v1 = tf.Variable(tf.random_uniform([neurons_hid1], 0.5,5))\n",
    "hid_layer1 = v1*v1*act_func((tf.matmul(X, w1)+b1)/(v1*v1))\n",
    "\n",
    "output_layer = tf.matmul(hid_layer1, w1_)"
   ]
  },
  {
   "cell_type": "code",
   "execution_count": 19,
   "metadata": {},
   "outputs": [],
   "source": [
    "# LOSS FUNCTIONS\n",
    "loss = tf.reduce_mean(tf.square(output_layer - X))\n",
    "# loss = tf.reduce_mean(tf.abs(output_layer - X))\n",
    "# cross_entropy = tf.reduce_mean(tf.nn.softmax_cross_entropy_with_logits(labels=Y,logits=yout))"
   ]
  },
  {
   "cell_type": "code",
   "execution_count": 30,
   "metadata": {},
   "outputs": [],
   "source": [
    "# TRAINING\n",
    "optimizer = tf.train.AdamOptimizer(learning_rate)\n",
    "train = optimizer.minimize(loss, var_list=[w1, b1])\n",
    "\n",
    "opt2 = tf.train.GradientDescentOptimizer(learning_rate=10000)\n",
    "train2 = optimizer.minimize(loss, var_list=[v1])"
   ]
  },
  {
   "cell_type": "code",
   "execution_count": 31,
   "metadata": {},
   "outputs": [],
   "source": [
    "# PREPARATION\n",
    "init = tf.global_variables_initializer()\n",
    "saver = tf.train.Saver() "
   ]
  },
  {
   "cell_type": "code",
   "execution_count": 32,
   "metadata": {},
   "outputs": [
    {
     "name": "stdout",
     "output_type": "stream",
     "text": [
      "Epoch 0 Complete. Training Loss: 0.0015711142914369702\n",
      "v1 mean =  2.92829\n",
      "  stdev =  1.2402611 \n",
      "\n",
      "Epoch 1 Complete. Training Loss: 0.0007632229826413095\n",
      "v1 mean =  2.9780226\n",
      "  stdev =  1.2116517 \n",
      "\n",
      "Epoch 2 Complete. Training Loss: 0.0005775904282927513\n",
      "v1 mean =  3.0113614\n",
      "  stdev =  1.1936454 \n",
      "\n",
      "Epoch 3 Complete. Training Loss: 0.0004768084909301251\n",
      "v1 mean =  3.0367017\n",
      "  stdev =  1.1800871 \n",
      "\n",
      "Epoch 4 Complete. Training Loss: 0.0004460405616555363\n",
      "v1 mean =  3.0575585\n",
      "  stdev =  1.1691703 \n",
      "\n",
      "Keyboard Interrupted\n",
      "Finished Training the Model\n"
     ]
    }
   ],
   "source": [
    "num_epochs = 100\n",
    "batch_size = 150\n",
    "\n",
    "try:\n",
    "    with tf.Session() as sess:\n",
    "        sess.run(init)\n",
    "\n",
    "        # Epoch == Entire Training Set\n",
    "        for epoch in range(num_epochs):\n",
    "            num_batches = mnist.train.num_examples // batch_size\n",
    "\n",
    "            # 150 batch size\n",
    "            for iteration in range(num_batches):\n",
    "                X_batch, y_batch = mnist.train.next_batch(batch_size)\n",
    "                sess.run(train, feed_dict={X: X_batch})\n",
    "                sess.run(train2, feed_dict={X: X_batch})\n",
    "\n",
    "            training_loss = loss.eval(feed_dict={X: X_batch})   \n",
    "            print(\"Epoch {} Complete. Training Loss: {}\".format(epoch,training_loss))\n",
    "            print('v1 mean = ', np.mean(v1.eval()))\n",
    "            print('  stdev = ', np.std(v1.eval()),'\\n')\n",
    "            \n",
    "            saver.save(sess, \"./save/ae_1_tanh_learn2.ckpt\")      \n",
    "except KeyboardInterrupt:\n",
    "    print('Keyboard Interrupted')\n",
    "finally:\n",
    "    print('Finished Training the Model')"
   ]
  },
  {
   "cell_type": "code",
   "execution_count": null,
   "metadata": {},
   "outputs": [],
   "source": [
    "'''\n",
    "Problems\n",
    "- v1 is always increasing\n",
    "'''"
   ]
  },
  {
   "cell_type": "code",
   "execution_count": 40,
   "metadata": {},
   "outputs": [
    {
     "name": "stdout",
     "output_type": "stream",
     "text": [
      "INFO:tensorflow:Restoring parameters from ./save/ae_1_tanh_learn2.ckpt\n"
     ]
    }
   ],
   "source": [
    "num_test_images = 10\n",
    "start_point = 15\n",
    "with tf.Session() as sess:\n",
    "    \n",
    "    saver.restore(sess,\"./save/ae_1_tanh_learn2.ckpt\")\n",
    "    \n",
    "    results,compressed = sess.run([output_layer, hid_layer1],\n",
    "                                  feed_dict={X:mnist.test.images[start_point:num_test_images+start_point]})\n",
    "    weight1 = w1.eval()\n",
    "    biases1 = b1.eval()\n",
    "    linearity1 = v1.eval()"
   ]
  },
  {
   "cell_type": "code",
   "execution_count": 41,
   "metadata": {},
   "outputs": [
    {
     "data": {
      "image/png": "[encoded data removed]",
      "text/plain": [
       "<matplotlib.figure.Figure at 0x1d6b0cb1a58>"
      ]
     },
     "metadata": {},
     "output_type": "display_data"
    }
   ],
   "source": [
    "# ORIGINAL VS RECONSTRUCTED\n",
    "f, a = plt.subplots(2, num_test_images, figsize=(20, 4))\n",
    "for i in range(start_point,num_test_images+start_point):\n",
    "    j = i-start_point\n",
    "    a[0][j].imshow(np.reshape(mnist.test.images[i], (28, 28)))\n",
    "    a[1][j].imshow(np.reshape(results[j], (28, 28)))"
   ]
  },
  {
   "cell_type": "code",
   "execution_count": 42,
   "metadata": {},
   "outputs": [
    {
     "name": "stdout",
     "output_type": "stream",
     "text": [
      "[4.53  2.406 3.052 1.521 2.81  3.6   4.216 3.168 3.601 4.894 3.717 2.57\n",
      " 3.324 2.299 3.703 6.566 3.59  4.085 2.586 3.253 1.75  2.75  1.764 4.799\n",
      " 2.578 4.086 2.477 3.705 4.091 2.554 4.61  2.283 2.56  4.05  4.293 2.61\n",
      " 3.937 2.313 2.906 1.559 2.394 6.443 1.823 3.919 3.637 3.322 2.441 2.835\n",
      " 1.426 2.264 2.87  2.451 1.495 2.014 1.542 3.05  3.91  1.537 4.766 2.708\n",
      " 1.407 2.294 4.64  4.943 4.266 4.105 5.712 2.694 4.455 2.883 6.721 3.937\n",
      " 3.13  3.035 2.841 2.978 4.244 3.247 1.661 3.015 1.801 1.428 4.901 4.188\n",
      " 3.143 1.686 3.054 1.438 2.878 2.722 2.063 1.473 3.895 2.944 3.578 4.803\n",
      " 3.331 1.592 2.891 4.314 1.644 2.54  1.289 2.669 1.434 3.199 2.656 1.286\n",
      " 3.219 1.43  4.587 4.992 3.604 3.944 1.566 4.32  2.939 2.638 1.611 5.314\n",
      " 3.279 2.732 4.749 4.105 1.503 2.522 4.688 5.258 3.614 3.621 4.161 3.609\n",
      " 1.582 2.474 5.033 3.683 4.189 2.699 4.96  4.379 3.216 2.801 2.248 4.706\n",
      " 1.867 2.932 3.05  4.257 4.666 3.533 2.617 4.265 2.807 4.952 2.088 1.558\n",
      " 2.16  4.202 3.261 4.564 2.364 3.615 4.052 1.837 2.488 2.489 4.953 4.464\n",
      " 2.993 3.189 2.852 2.678 2.714 2.66  2.862 3.658 3.842 2.643 1.412 6.128\n",
      " 1.771 3.956 1.461 4.669 3.166 3.575 3.47  4.214 4.775 4.243 3.584 2.953\n",
      " 2.097 4.23  4.374 3.001 2.596 2.518 1.415 4.284 4.106 2.65  2.985 2.496\n",
      " 2.144 4.25  4.629 4.146 4.856 2.088 2.378 2.566 2.603 1.742 3.037 1.834\n",
      " 2.954 2.194 2.285 5.066 2.636 4.718 5.032 2.349 2.668 4.429 3.569 2.449\n",
      " 2.332 3.09  3.928 4.54  3.062 2.856 3.165 2.097 3.547 1.359 2.434 2.91\n",
      " 4.434 5.337 2.909 2.056 4.662 2.003 2.508 3.194 3.263 2.815 2.278 3.458\n",
      " 3.878 3.982 3.512 4.854 1.473 4.933 3.24  1.605 3.203 3.083 3.566 2.81\n",
      " 4.412 3.761 3.618 1.673 4.909 1.395 2.451 2.205 2.617 4.951 3.648 3.512\n",
      " 3.489 4.387 1.82  1.595 2.595 2.947 1.49  3.461 4.852 3.231 4.449 4.336\n",
      " 1.503 4.184 4.359 4.071 4.156 3.149 4.638 1.709 4.215 4.114 4.042 5.924\n",
      " 2.926 2.11  3.357 2.796 4.047 3.233 1.822 2.074 4.19  2.786 3.666 3.645\n",
      " 5.332 1.481 8.342 6.56  1.367 3.654 4.911 2.969 4.765 5.709 3.88  2.677\n",
      " 1.841 1.771 3.167 4.538 4.098 2.45  3.37  1.733 4.759 2.912 4.318 3.681\n",
      " 2.106 2.523 2.807 3.533 5.797 3.829 3.172 2.533 2.987 1.44  4.364 4.971\n",
      " 4.24  3.708 2.194 4.442 2.329 4.265 4.502 4.712 4.908 7.419 3.137 3.604\n",
      " 3.938 1.568 2.035 1.43  3.48  1.478 1.507 2.243 3.976 3.441 3.223 4.583\n",
      " 3.921 2.985 4.853 4.868 3.357 1.807 2.178 4.307 4.356 2.77  4.979 4.388\n",
      " 2.797 3.839 6.082 3.547 3.583 4.407 3.986 2.465]\n"
     ]
    }
   ],
   "source": [
    "np.set_printoptions(precision=3, suppress=True)\n",
    "print(linearity1)"
   ]
  },
  {
   "cell_type": "code",
   "execution_count": 28,
   "metadata": {},
   "outputs": [],
   "source": [
    "# np.save('./save/weights/w1.npy',weight1)\n",
    "#wt1 = np.load('./save/weights/w1.npy')"
   ]
  }
 ],
 "metadata": {
  "kernelspec": {
   "display_name": "Python 3",
   "language": "python",
   "name": "python3"
  },
  "language_info": {
   "codemirror_mode": {
    "name": "ipython",
    "version": 3
   },
   "file_extension": ".py",
   "mimetype": "text/x-python",
   "name": "python",
   "nbconvert_exporter": "python",
   "pygments_lexer": "ipython3",
   "version": "3.5.3"
  }
 },
 "nbformat": 4,
 "nbformat_minor": 2
}
