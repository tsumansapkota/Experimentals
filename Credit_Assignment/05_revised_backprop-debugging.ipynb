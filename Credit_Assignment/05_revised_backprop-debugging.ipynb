{
 "cells": [
  {
   "cell_type": "code",
   "execution_count": 1,
   "metadata": {},
   "outputs": [],
   "source": [
    "import mylibrary.nnlib as nn"
   ]
  },
  {
   "cell_type": "code",
   "execution_count": 2,
   "metadata": {},
   "outputs": [],
   "source": [
    "import numpy as np\n",
    "import matplotlib.pyplot as plt\n",
    "%matplotlib inline"
   ]
  },
  {
   "cell_type": "markdown",
   "metadata": {},
   "source": [
    "## Least squares"
   ]
  },
  {
   "cell_type": "code",
   "execution_count": 3,
   "metadata": {},
   "outputs": [],
   "source": [
    "def regression(x,y):\n",
    "    n = len(x)\n",
    "    sy = np.sum(y)\n",
    "    sx = np.sum(x)\n",
    "    sx2 = np.sum(np.square(x))\n",
    "    sxy = np.sum(x*y)\n",
    "\n",
    "    # y = mx+c\n",
    "    z = (n*sx2 - sx**2)\n",
    "    m = (n*sxy - sx*sy)/z\n",
    "    c = (sy*sx2 - sx*sxy)/z\n",
    "    return m, c\n",
    "\n",
    "def output(x, m, c):\n",
    "    return m*x+c\n",
    "\n",
    "def error(target, output):\n",
    "    return np.sqrt(np.square(target-output).mean())"
   ]
  },
  {
   "cell_type": "code",
   "execution_count": 4,
   "metadata": {},
   "outputs": [],
   "source": [
    "#Define a simple range of values for x and reshape so sklearn likes it.\n",
    "x = np.linspace(0,1,200)\n",
    "noise = np.random.normal(0,0.02, x.shape)\n",
    "x = x + noise\n",
    "y= 2.5*x + 0.5\n",
    "noise = np.random.normal(0,0.1, x.shape)\n",
    "y = y + noise\n",
    "# x = x + 0.5"
   ]
  },
  {
   "cell_type": "code",
   "execution_count": 5,
   "metadata": {},
   "outputs": [],
   "source": [
    "n = len(x)"
   ]
  },
  {
   "cell_type": "code",
   "execution_count": 6,
   "metadata": {},
   "outputs": [
    {
     "data": {
      "text/plain": [
       "<matplotlib.collections.PathCollection at 0x7f7d3fa902b0>"
      ]
     },
     "execution_count": 6,
     "metadata": {},
     "output_type": "execute_result"
    },
    {
     "data": {
      "image/png": "[encoded data removed]",
      "text/plain": [
       "<Figure size 432x288 with 1 Axes>"
      ]
     },
     "metadata": {},
     "output_type": "display_data"
    }
   ],
   "source": [
    "%matplotlib inline\n",
    "plt.scatter(x, y, marker='.', color='g')"
   ]
  },
  {
   "cell_type": "code",
   "execution_count": 35,
   "metadata": {},
   "outputs": [
    {
     "name": "stdout",
     "output_type": "stream",
     "text": [
      "1.8614864149765302 -0.6848874265641995\n"
     ]
    }
   ],
   "source": [
    "m = np.random.exponential()*2\n",
    "c = np.random.randn()\n",
    "print(m,c)\n",
    "mt, mr = np.copy(m), np.copy(m)\n",
    "ct, cr = np.copy(c), np.copy(c)"
   ]
  },
  {
   "cell_type": "code",
   "execution_count": 36,
   "metadata": {},
   "outputs": [
    {
     "data": {
      "text/plain": [
       "(2.4712336088240905, 0.5292156486019927)"
      ]
     },
     "execution_count": 36,
     "metadata": {},
     "output_type": "execute_result"
    }
   ],
   "source": [
    "m, c = regression(x, y)\n",
    "ytarg = m*x+c\n",
    "learning_rate = 0.03\n",
    "\n",
    "m, c"
   ]
  },
  {
   "cell_type": "code",
   "execution_count": 37,
   "metadata": {},
   "outputs": [],
   "source": [
    "import collections"
   ]
  },
  {
   "cell_type": "code",
   "execution_count": 38,
   "metadata": {},
   "outputs": [
    {
     "name": "stdout",
     "output_type": "stream",
     "text": [
      "_______________________\n",
      "epoch trad, rev 0\n",
      "m  c 2.4712336088240905 0.5292156486019927\n",
      "mt mr 1.8614864149765302 1.8614864149765302\n",
      "ct cr -0.6848874265641995 -0.6848874265641995\n",
      "Loss 2.348249584606385 2.348249584606385\n",
      "dm   -0.8106899065484241 8.20790969415399\n",
      "dc   -1.518763435812993 -1.518763435812993\n",
      "\n",
      "\n",
      "_______________________\n",
      "epoch trad, rev 10\n",
      "m  c 2.4712336088240905 0.5292156486019927\n",
      "mt mr 2.0669340981031508 -1.548076964695244\n",
      "ct cr -0.2997749592857101 -0.10035141015719436\n",
      "Loss 1.0868540521389354 8.341524729355218\n",
      "dm   -0.5495115586656207 17.066217372145246\n",
      "dc   -1.030998974614784 -2.63781674196484\n",
      "\n",
      "\n",
      "_______________________\n",
      "epoch trad, rev 20\n",
      "m  c 2.4712336088240905 0.5292156486019927\n",
      "mt mr 2.2061651997456373 -10.853664095334072\n",
      "ct cr -0.0383299064800325 1.037232468587877\n",
      "Loss 0.5059536705267059 52.92483935335428\n",
      "dm   -0.3722842497890753 68.9607059836749\n",
      "dc   -0.6999870618585282 -6.149772147461926\n",
      "\n",
      "\n",
      "_______________________\n",
      "epoch trad, rev 30\n",
      "m  c 2.4712336088240905 0.5292156486019927\n",
      "mt mr 2.3004643932546807 -1482.3817131359508\n",
      "ct cr 0.13919035132186494 10.302957354605436\n",
      "Loss 0.23843542696690775 723465.4965778764\n",
      "dm   -0.2520272667474198 1058360.9231598293\n",
      "dc   -0.47535018491832276 -732.1334598805995\n",
      "\n",
      "\n",
      "_______________________\n",
      "epoch trad, rev 40\n",
      "m  c 2.4712336088240905 0.5292156486019927\n",
      "mt mr 2.36427573865847 nan\n",
      "ct cr 0.2597558604809836 nan\n",
      "Loss 0.11523619433336693 nan\n",
      "dm   -0.17043105149557328 nan\n",
      "dc   -0.32290131868886995 nan\n"
     ]
    },
    {
     "name": "stderr",
     "output_type": "stream",
     "text": [
      "/home/tsuman/Program_Files/miniconda3/lib/python3.6/site-packages/ipykernel_launcher.py:31: RuntimeWarning: overflow encountered in double_scalars\n",
      "/home/tsuman/Program_Files/miniconda3/lib/python3.6/site-packages/ipykernel_launcher.py:33: RuntimeWarning: overflow encountered in square\n",
      "/home/tsuman/Program_Files/miniconda3/lib/python3.6/site-packages/numpy/core/_methods.py:75: RuntimeWarning: invalid value encountered in reduce\n",
      "  ret = umr_sum(arr, axis, dtype, out, keepdims)\n"
     ]
    },
    {
     "name": "stdout",
     "output_type": "stream",
     "text": [
      "\n",
      "\n",
      "_______________________\n",
      "epoch trad, rev 50\n",
      "m  c 2.4712336088240905 0.5292156486019927\n",
      "mt mr 2.4074011429056292 nan\n",
      "ct cr 0.34166898488061087 nan\n",
      "Loss 0.0584989083445927 nan\n",
      "dm   -0.11507043674246573 nan\n",
      "dc   -0.21944057366294215 nan\n",
      "\n",
      "\n",
      "_______________________\n",
      "epoch trad, rev 60\n",
      "m  c 2.4712336088240905 0.5292156486019927\n",
      "mt mr 2.4364922717154807 nan\n",
      "ct cr 0.39735005335980794 nan\n",
      "Loss 0.03236878046639011 nan\n",
      "dm   -0.07751350105397928 nan\n",
      "dc   -0.1492241143131351 nan\n",
      "\n",
      "\n",
      "_______________________\n",
      "epoch trad, rev 70\n",
      "m  c 2.4712336088240905 0.5292156486019927\n",
      "mt mr 2.4560629858758185 nan\n",
      "ct cr 0.435227746654832 nan\n",
      "Loss 0.020333937728233237 nan\n",
      "dm   -0.05203820630691688 nan\n",
      "dc   -0.10156790806329027 nan\n",
      "\n",
      "\n",
      "_______________________\n",
      "epoch trad, rev 80\n",
      "m  c 2.4712336088240905 0.5292156486019927\n",
      "mt mr 2.4691763974142806 nan\n",
      "ct cr 0.4610219456011427 nan\n",
      "Loss 0.014790319364007853 nan\n",
      "dm   -0.0347614864087533 nan\n",
      "dc   -0.06922158927300273 nan\n",
      "\n",
      "\n",
      "_______________________\n",
      "epoch trad, rev 90\n",
      "m  c 2.4712336088240905 0.5292156486019927\n",
      "mt mr 2.4779111173760056 nan\n",
      "ct cr 0.4786142933881961 nan\n",
      "Loss 0.012236096191958668 nan\n",
      "dm   -0.02304823234269155 nan\n",
      "dc   -0.04726493614672176 nan\n",
      "\n",
      "\n",
      "_______________________\n",
      "epoch trad, rev 100\n",
      "m  c 2.4712336088240905 0.5292156486019927\n",
      "mt mr 2.4836776593338543 nan\n",
      "ct cr 0.49063897367654 nan\n",
      "Loss 0.011058601484492924 nan\n",
      "dm   -0.01511021953903336 nan\n",
      "dc   -0.032359001511839104 nan\n",
      "\n",
      "\n",
      "_______________________\n",
      "epoch trad, rev 110\n",
      "m  c 2.4712336088240905 0.5292156486019927\n",
      "mt mr 2.4874331560738305 nan\n",
      "ct cr 0.498883622520647 nan\n",
      "Loss 0.010515166923158728 nan\n",
      "dm   -0.009733933285078017 nan\n",
      "dc   -0.022237917642276166 nan\n",
      "\n",
      "\n",
      "_______________________\n",
      "epoch trad, rev 120\n",
      "m  c 2.4712336088240905 0.5292156486019927\n",
      "mt mr 2.489827069901477 nan\n",
      "ct cr 0.5045613939173788 nan\n",
      "Loss 0.010263776503576882 nan\n",
      "dm   -0.006095866499167412 nan\n",
      "dc   -0.015364026513551877 nan\n",
      "\n",
      "\n",
      "_______________________\n",
      "epoch trad, rev 130\n",
      "m  c 2.4712336088240905 0.5292156486019927\n",
      "mt mr 2.49130007406618 nan\n",
      "ct cr 0.5084955880501484 nan\n",
      "Loss 0.010146922962017059 nan\n",
      "dm   -0.003637177713582528 nan\n",
      "dc   -0.010693845426548077 nan\n",
      "\n",
      "\n",
      "_______________________\n",
      "epoch trad, rev 140\n",
      "m  c 2.4712336088240905 0.5292156486019927\n",
      "mt mr 2.492151155323594 nan\n",
      "ct cr 0.5112449431161101 nan\n",
      "Loss 0.010092069192784976 nan\n",
      "dm   -0.001978631887667635 nan\n",
      "dc   -0.007519247365719319 nan\n",
      "\n",
      "\n",
      "_______________________\n",
      "epoch trad, rev 150\n",
      "m  c 2.4712336088240905 0.5292156486019927\n",
      "mt mr 2.4925831508315524 nan\n",
      "ct cr 0.5131886604683885 nan\n",
      "Loss 0.010065808672274803 nan\n",
      "dm   -0.0008628778230568051 nan\n",
      "dc   -0.005359683333734511 nan\n",
      "\n",
      "\n",
      "_______________________\n",
      "epoch trad, rev 160\n",
      "m  c 2.4712336088240905 0.5292156486019927\n",
      "mt mr 2.4927336502245834 nan\n",
      "ct cr 0.5145841041123473 nan\n",
      "Loss 0.01005275538476615 nan\n",
      "dm   -0.00011527665413804844 nan\n",
      "dc   -0.003889042624794314 nan\n"
     ]
    },
    {
     "name": "stderr",
     "output_type": "stream",
     "text": [
      "No handles with labels found to put in legend.\n"
     ]
    },
    {
     "ename": "TclError",
     "evalue": "this isn't a Tk application",
     "output_type": "error",
     "traceback": [
      "\u001b[0;31m---------------------------------------------------------------------------\u001b[0m",
      "\u001b[0;31mTclError\u001b[0m                                  Traceback (most recent call last)",
      "\u001b[0;32m~/.local/lib/python3.6/site-packages/matplotlib/backends/tkagg.py\u001b[0m in \u001b[0;36mblit\u001b[0;34m(photoimage, aggimage, bbox, colormode)\u001b[0m\n\u001b[1;32m     25\u001b[0m             \u001b[0;34m\"PyAggImagePhoto\"\u001b[0m\u001b[0;34m,\u001b[0m \u001b[0mphotoimage\u001b[0m\u001b[0;34m,\u001b[0m\u001b[0;34m\u001b[0m\u001b[0;34m\u001b[0m\u001b[0m\n\u001b[0;32m---> 26\u001b[0;31m             dataptr, colormode, bboxptr)\n\u001b[0m\u001b[1;32m     27\u001b[0m     \u001b[0;32mexcept\u001b[0m \u001b[0mTk\u001b[0m\u001b[0;34m.\u001b[0m\u001b[0mTclError\u001b[0m\u001b[0;34m:\u001b[0m\u001b[0;34m\u001b[0m\u001b[0;34m\u001b[0m\u001b[0m\n",
      "\u001b[0;31mTclError\u001b[0m: this isn't a Tk application",
      "\nDuring handling of the above exception, another exception occurred:\n",
      "\u001b[0;31mTclError\u001b[0m                                  Traceback (most recent call last)",
      "\u001b[0;32m<ipython-input-38-46809b771338>\u001b[0m in \u001b[0;36m<module>\u001b[0;34m()\u001b[0m\n\u001b[1;32m     64\u001b[0m \u001b[0;34m\u001b[0m\u001b[0m\n\u001b[1;32m     65\u001b[0m         \u001b[0mplt\u001b[0m\u001b[0;34m.\u001b[0m\u001b[0mlegend\u001b[0m\u001b[0;34m(\u001b[0m\u001b[0;34m)\u001b[0m\u001b[0;34m\u001b[0m\u001b[0;34m\u001b[0m\u001b[0m\n\u001b[0;32m---> 66\u001b[0;31m         \u001b[0mfig\u001b[0m\u001b[0;34m.\u001b[0m\u001b[0mcanvas\u001b[0m\u001b[0;34m.\u001b[0m\u001b[0mdraw\u001b[0m\u001b[0;34m(\u001b[0m\u001b[0;34m)\u001b[0m\u001b[0;34m\u001b[0m\u001b[0;34m\u001b[0m\u001b[0m\n\u001b[0m\u001b[1;32m     67\u001b[0m         \u001b[0mplt\u001b[0m\u001b[0;34m.\u001b[0m\u001b[0mpause\u001b[0m\u001b[0;34m(\u001b[0m\u001b[0;36m0.01\u001b[0m\u001b[0;34m)\u001b[0m\u001b[0;34m\u001b[0m\u001b[0;34m\u001b[0m\u001b[0m\n\u001b[1;32m     68\u001b[0m         \u001b[0mprint\u001b[0m\u001b[0;34m(\u001b[0m\u001b[0;34m\"\\n\"\u001b[0m\u001b[0;34m)\u001b[0m\u001b[0;34m\u001b[0m\u001b[0;34m\u001b[0m\u001b[0m\n",
      "\u001b[0;32m~/.local/lib/python3.6/site-packages/matplotlib/backends/backend_tkagg.py\u001b[0m in \u001b[0;36mdraw\u001b[0;34m(self)\u001b[0m\n\u001b[1;32m     11\u001b[0m     \u001b[0;32mdef\u001b[0m \u001b[0mdraw\u001b[0m\u001b[0;34m(\u001b[0m\u001b[0mself\u001b[0m\u001b[0;34m)\u001b[0m\u001b[0;34m:\u001b[0m\u001b[0;34m\u001b[0m\u001b[0;34m\u001b[0m\u001b[0m\n\u001b[1;32m     12\u001b[0m         \u001b[0msuper\u001b[0m\u001b[0;34m(\u001b[0m\u001b[0mFigureCanvasTkAgg\u001b[0m\u001b[0;34m,\u001b[0m \u001b[0mself\u001b[0m\u001b[0;34m)\u001b[0m\u001b[0;34m.\u001b[0m\u001b[0mdraw\u001b[0m\u001b[0;34m(\u001b[0m\u001b[0;34m)\u001b[0m\u001b[0;34m\u001b[0m\u001b[0;34m\u001b[0m\u001b[0m\n\u001b[0;32m---> 13\u001b[0;31m         \u001b[0mtkagg\u001b[0m\u001b[0;34m.\u001b[0m\u001b[0mblit\u001b[0m\u001b[0;34m(\u001b[0m\u001b[0mself\u001b[0m\u001b[0;34m.\u001b[0m\u001b[0m_tkphoto\u001b[0m\u001b[0;34m,\u001b[0m \u001b[0mself\u001b[0m\u001b[0;34m.\u001b[0m\u001b[0mrenderer\u001b[0m\u001b[0;34m.\u001b[0m\u001b[0m_renderer\u001b[0m\u001b[0;34m,\u001b[0m \u001b[0mcolormode\u001b[0m\u001b[0;34m=\u001b[0m\u001b[0;36m2\u001b[0m\u001b[0;34m)\u001b[0m\u001b[0;34m\u001b[0m\u001b[0;34m\u001b[0m\u001b[0m\n\u001b[0m\u001b[1;32m     14\u001b[0m         \u001b[0mself\u001b[0m\u001b[0;34m.\u001b[0m\u001b[0m_master\u001b[0m\u001b[0;34m.\u001b[0m\u001b[0mupdate_idletasks\u001b[0m\u001b[0;34m(\u001b[0m\u001b[0;34m)\u001b[0m\u001b[0;34m\u001b[0m\u001b[0;34m\u001b[0m\u001b[0m\n\u001b[1;32m     15\u001b[0m \u001b[0;34m\u001b[0m\u001b[0m\n",
      "\u001b[0;32m~/.local/lib/python3.6/site-packages/matplotlib/backends/tkagg.py\u001b[0m in \u001b[0;36mblit\u001b[0;34m(photoimage, aggimage, bbox, colormode)\u001b[0m\n\u001b[1;32m     32\u001b[0m             \u001b[0m_tkagg\u001b[0m\u001b[0;34m.\u001b[0m\u001b[0mtkinit\u001b[0m\u001b[0;34m(\u001b[0m\u001b[0mtk\u001b[0m\u001b[0;34m,\u001b[0m \u001b[0;36m0\u001b[0m\u001b[0;34m)\u001b[0m\u001b[0;34m\u001b[0m\u001b[0;34m\u001b[0m\u001b[0m\n\u001b[1;32m     33\u001b[0m         tk.call(\"PyAggImagePhoto\", photoimage,\n\u001b[0;32m---> 34\u001b[0;31m                 dataptr, colormode, bboxptr)\n\u001b[0m\u001b[1;32m     35\u001b[0m \u001b[0;34m\u001b[0m\u001b[0m\n\u001b[1;32m     36\u001b[0m \u001b[0;32mdef\u001b[0m \u001b[0mtest\u001b[0m\u001b[0;34m(\u001b[0m\u001b[0maggimage\u001b[0m\u001b[0;34m)\u001b[0m\u001b[0;34m:\u001b[0m\u001b[0;34m\u001b[0m\u001b[0;34m\u001b[0m\u001b[0m\n",
      "\u001b[0;31mTclError\u001b[0m: this isn't a Tk application"
     ]
    }
   ],
   "source": [
    "%matplotlib tk\n",
    "fig = plt.figure(figsize=(12, 5))\n",
    "ax = fig.add_subplot(1, 2, 1)\n",
    "ax1 = fig.add_subplot(1,2,2)\n",
    "\n",
    "plt.ion()\n",
    "fig.show()\n",
    "fig.canvas.draw()\n",
    "\n",
    "range_ = 500\n",
    "losscurv = collections.deque(maxlen=range_)\n",
    "dmcurv = collections.deque(maxlen=range_)\n",
    "dccurv = collections.deque(maxlen=range_)\n",
    "ccurv = collections.deque(maxlen=range_)\n",
    "mcurv = collections.deque(maxlen=range_)\n",
    "\n",
    "\n",
    "\n",
    "for step in range(1000000):\n",
    "    # traditional first\n",
    "    yt = mt*x + ct\n",
    "    dyt = yt - y\n",
    "    dct = dyt.mean()\n",
    "    dmt = x.T.dot(dyt)/n\n",
    "    \n",
    "    yr = mr*x + cr\n",
    "#     yr = mr*x + ct\n",
    "    dyr = yr - y\n",
    "    \n",
    "    dcr = dyr.mean()\n",
    "    dmr = (1/x).T.dot(dyr)/n\n",
    "    \n",
    "    losscurv.append((dyr**2).mean())\n",
    "    dmcurv.append(dmr)\n",
    "    dccurv.append(dcr)\n",
    "    mcurv.append(mr)\n",
    "    ccurv.append(cr)\n",
    "    \n",
    "    if step%10==0:\n",
    "        print('_______________________')\n",
    "        print(\"epoch trad, rev\", step)\n",
    "        print(\"m  c\", m, c)\n",
    "        print(\"mt mr\", mt, mr)\n",
    "        print(\"ct cr\", ct, cr)\n",
    "        print(\"Loss\", (dyt**2).mean(), (dyr**2).mean())\n",
    "        print(\"dm  \", dmt, dmr)\n",
    "        print(\"dc  \", dct, dcr)\n",
    "\n",
    "        ax.clear()\n",
    "        ax1.clear()\n",
    "        ax.scatter(x, y, marker='.', c='g', label='x,y')\n",
    "        ax.scatter(x, ytarg, marker='*', c='r', lw=1, label='x,ytarg')\n",
    "        ax.scatter(x, yt, marker='.', c='m', lw=1, label='x,yt')\n",
    "        ax.scatter(x, yr, marker='.', c='purple', lw=1, label='x,yr')\n",
    "    #     plt.plot(x, np.zeros_like(x), c='b', lw=1)\n",
    "        ax1.plot(losscurv, label='error')\n",
    "        ax1.plot(dmcurv, label='dm', color='r')\n",
    "        ax1.plot(dccurv, label='dc', color='orange')\n",
    "        ax1.plot(mcurv, label='m', color='m', marker='_')\n",
    "        ax1.plot(ccurv, label='c', color='y', marker='_')\n",
    "        \n",
    "        \n",
    "        \n",
    "        \n",
    "        plt.legend()\n",
    "        fig.canvas.draw()\n",
    "        plt.pause(0.01)\n",
    "        print(\"\\n\")\n",
    "\n",
    "\n",
    "    mt = mt - learning_rate*dmt\n",
    "    ct = ct - learning_rate*dct\n",
    "    mr = mr - learning_rate*dmr\n",
    "    cr = cr - learning_rate*dcr\n",
    "###     the revised version does not seem to require learning rate\n",
    "#     mr = mr - dmr\n",
    "#     cr = cr - dcr\n",
    "    \n",
    "\n",
    "    if (dyt**2).mean() < 0.0025:\n",
    "        print('fitted to our expectation')\n",
    "        plt.pause(10)\n",
    "        break"
   ]
  },
  {
   "cell_type": "code",
   "execution_count": null,
   "metadata": {},
   "outputs": [],
   "source": [
    "%matplotlib inline\n",
    "plt.scatter(x, y, marker='.', c='g', label='x,y')\n",
    "plt.scatter(x, ytarg, marker='*', c='r', lw=1, label='x,ytarg')\n",
    "plt.scatter(x, yt, marker='.', c='m', lw=1, label='x,yt')\n",
    "plt.scatter(x, yr, marker='.', c='purple', lw=1, label='x,yr')\n",
    "plt.legend()"
   ]
  },
  {
   "cell_type": "code",
   "execution_count": null,
   "metadata": {},
   "outputs": [],
   "source": [
    "# Debugging\n",
    "print('trad       rev')"
   ]
  },
  {
   "cell_type": "code",
   "execution_count": null,
   "metadata": {},
   "outputs": [],
   "source": [
    "print(dmt, dmr)\n",
    "print(dct, dcr)"
   ]
  },
  {
   "cell_type": "code",
   "execution_count": null,
   "metadata": {},
   "outputs": [],
   "source": [
    "t, r = dyt, dyr\n",
    "print('delta y')\n",
    "print('min',t.min(), r.min())\n",
    "print('max',t.max(), r.max())\n",
    "print('mean',t.mean(), r.mean())\n",
    "print('std',t.std(), r.std())"
   ]
  },
  {
   "cell_type": "code",
   "execution_count": null,
   "metadata": {},
   "outputs": [],
   "source": [
    "et, er = dyt**2, dyr**2\n",
    "print('squared error')\n",
    "print('min',et.min(), er.min())\n",
    "print('max',et.max(), er.max())\n",
    "print('mean',et.mean(), er.mean())\n",
    "print('std',t.std(), r.std())"
   ]
  },
  {
   "cell_type": "code",
   "execution_count": null,
   "metadata": {},
   "outputs": [],
   "source": [
    "# it is sure to work for only one point,, for vector ??"
   ]
  },
  {
   "cell_type": "code",
   "execution_count": null,
   "metadata": {},
   "outputs": [],
   "source": [
    "yr = mr*x + cr\n",
    "dyr = yr - y\n",
    "dcr = dyr.mean()\n",
    "dcr # >0 means that the y-intercept should be decreased in value, shift it below"
   ]
  },
  {
   "cell_type": "code",
   "execution_count": null,
   "metadata": {},
   "outputs": [],
   "source": [
    "dmr = (1/x).T.dot(dyr)/n"
   ]
  },
  {
   "cell_type": "code",
   "execution_count": null,
   "metadata": {},
   "outputs": [],
   "source": [
    "dmr_ = np.zeros_like(x)\n",
    "for i in range(len(x)):\n",
    "    dmr_[i]=1/x[i]*dyr[i]\n",
    "dmr_"
   ]
  },
  {
   "cell_type": "code",
   "execution_count": null,
   "metadata": {},
   "outputs": [],
   "source": [
    "dmr_.mean(), dmr"
   ]
  },
  {
   "cell_type": "code",
   "execution_count": null,
   "metadata": {},
   "outputs": [],
   "source": [
    "## The error is due to the dy(gradient) reaching to values where it "
   ]
  }
 ],
 "metadata": {
  "kernelspec": {
   "display_name": "Python 3",
   "language": "python",
   "name": "python3"
  },
  "language_info": {
   "codemirror_mode": {
    "name": "ipython",
    "version": 3
   },
   "file_extension": ".py",
   "mimetype": "text/x-python",
   "name": "python",
   "nbconvert_exporter": "python",
   "pygments_lexer": "ipython3",
   "version": "3.6.7"
  }
 },
 "nbformat": 4,
 "nbformat_minor": 2
}
