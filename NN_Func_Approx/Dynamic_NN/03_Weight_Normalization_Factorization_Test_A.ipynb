{
 "cells": [
  {
   "cell_type": "code",
   "execution_count": 1,
   "metadata": {},
   "outputs": [],
   "source": [
    "import numpy as np\n",
    "import mylibrary.nnlib as tnn\n",
    "import matplotlib.pyplot as plt\n",
    "import matplotlib\n",
    "import copy"
   ]
  },
  {
   "cell_type": "markdown",
   "metadata": {},
   "source": [
    "## Testing Properties of Matrix"
   ]
  },
  {
   "cell_type": "code",
   "execution_count": 348,
   "metadata": {},
   "outputs": [
    {
     "data": {
      "text/plain": [
       "array([[-0.64890679,  0.35084263,  0.71197384,  0.00360157,  0.52918177],\n",
       "       [ 0.13611889,  0.86856092,  0.07884713,  0.55163437,  0.37556427],\n",
       "       [-0.99890367,  0.32924324, -0.62296168,  0.79051637,  0.12051709],\n",
       "       [-0.77875821,  0.23050976,  0.53239612,  0.79761836,  0.1624288 ]])"
      ]
     },
     "execution_count": 348,
     "metadata": {},
     "output_type": "execute_result"
    }
   ],
   "source": [
    "W1 = np.random.uniform(-1,1,size=(4, 5))\n",
    "W1"
   ]
  },
  {
   "cell_type": "code",
   "execution_count": 349,
   "metadata": {},
   "outputs": [],
   "source": [
    "W1 = W1__"
   ]
  },
  {
   "cell_type": "code",
   "execution_count": 350,
   "metadata": {},
   "outputs": [
    {
     "data": {
      "text/plain": [
       "array([[1.11803399],\n",
       "       [1.11803399],\n",
       "       [1.11803399],\n",
       "       [1.11803399]])"
      ]
     },
     "execution_count": 350,
     "metadata": {},
     "output_type": "execute_result"
    }
   ],
   "source": [
    "## computing the scale and direction of input layer\n",
    "in_norm = np.linalg.norm(W1, ord=2, axis=1, keepdims=True)\n",
    "in_norm"
   ]
  },
  {
   "cell_type": "code",
   "execution_count": 351,
   "metadata": {},
   "outputs": [
    {
     "data": {
      "text/plain": [
       "array([[-0.52567148, -0.28652521,  0.27641078, -0.63268757,  0.40604965],\n",
       "       [ 0.10377203, -0.78291784, -0.2748361 , -0.25350184, -0.48628486],\n",
       "       [ 0.18982524,  0.11956181, -0.76873495,  0.36615142, -0.47397369],\n",
       "       [ 0.69055575, -0.30107796, -0.23897442, -0.44874981, -0.41713266]])"
      ]
     },
     "execution_count": 351,
     "metadata": {},
     "output_type": "execute_result"
    }
   ],
   "source": [
    "W1_ = W1/in_norm\n",
    "W1_"
   ]
  },
  {
   "cell_type": "code",
   "execution_count": 352,
   "metadata": {},
   "outputs": [
    {
     "data": {
      "text/plain": [
       "array([[1.],\n",
       "       [1.],\n",
       "       [1.],\n",
       "       [1.]])"
      ]
     },
     "execution_count": 352,
     "metadata": {},
     "output_type": "execute_result"
    }
   ],
   "source": [
    "np.linalg.norm(W1_, ord=2, axis=1, keepdims=True)"
   ]
  },
  {
   "cell_type": "code",
   "execution_count": 353,
   "metadata": {},
   "outputs": [
    {
     "data": {
      "text/plain": [
       "array([[ 1.        ,  0.05673971, -0.77064612, -0.22825229],\n",
       "       [ 0.05673971,  1.        ,  0.27503376,  0.68966268],\n",
       "       [-0.77064612,  0.27503376,  1.        ,  0.312195  ],\n",
       "       [-0.22825229,  0.68966268,  0.312195  ,  1.        ]])"
      ]
     },
     "execution_count": 353,
     "metadata": {},
     "output_type": "execute_result"
    }
   ],
   "source": [
    "W1_@W1_.T"
   ]
  },
  {
   "cell_type": "code",
   "execution_count": 355,
   "metadata": {},
   "outputs": [
    {
     "data": {
      "text/plain": [
       "array([[ 0.8       , -0.11584211, -0.48477202,  0.06589743, -0.64193701],\n",
       "       [-0.11584211,  0.8       ,  0.11601402,  0.55863846,  0.33329793],\n",
       "       [-0.48477202,  0.11601402,  0.8       , -0.27944388,  0.70992931],\n",
       "       [ 0.06589743,  0.55863846, -0.27944388,  0.8       , -0.1199864 ],\n",
       "       [-0.64193701,  0.33329793,  0.70992931, -0.1199864 ,  0.8       ]])"
      ]
     },
     "execution_count": 355,
     "metadata": {},
     "output_type": "execute_result"
    }
   ],
   "source": [
    "W1_.T@W1_"
   ]
  },
  {
   "cell_type": "code",
   "execution_count": 356,
   "metadata": {},
   "outputs": [
    {
     "data": {
      "text/plain": [
       "array([[0.89442719, 0.89442719, 0.89442719, 0.89442719, 0.89442719]])"
      ]
     },
     "execution_count": 356,
     "metadata": {},
     "output_type": "execute_result"
    }
   ],
   "source": [
    "## computing the scale and direction of output layer\n",
    "out_norm = np.linalg.norm(W1_, ord=2, axis=0, keepdims=True)\n",
    "out_norm"
   ]
  },
  {
   "cell_type": "code",
   "execution_count": 357,
   "metadata": {},
   "outputs": [
    {
     "data": {
      "text/plain": [
       "array([[-0.58771858, -0.32034492,  0.30903664, -0.70736621,  0.45397731],\n",
       "       [ 0.11602066, -0.87532875, -0.3072761 , -0.28342367, -0.543683  ],\n",
       "       [ 0.21223107,  0.13367417, -0.85947181,  0.40936974, -0.52991869],\n",
       "       [ 0.7720648 , -0.3366154 , -0.26718152, -0.50171754, -0.46636849]])"
      ]
     },
     "execution_count": 357,
     "metadata": {},
     "output_type": "execute_result"
    }
   ],
   "source": [
    "W1__ = W1_/out_norm\n",
    "W1__"
   ]
  },
  {
   "cell_type": "code",
   "execution_count": 358,
   "metadata": {},
   "outputs": [
    {
     "data": {
      "text/plain": [
       "array([[1., 1., 1., 1., 1.]])"
      ]
     },
     "execution_count": 358,
     "metadata": {},
     "output_type": "execute_result"
    }
   ],
   "source": [
    "np.linalg.norm(W1__, ord=2, axis=0, keepdims=True)"
   ]
  },
  {
   "cell_type": "code",
   "execution_count": 359,
   "metadata": {},
   "outputs": [
    {
     "data": {
      "text/plain": [
       "array([[1.11803399],\n",
       "       [1.11803399],\n",
       "       [1.11803399],\n",
       "       [1.11803399]])"
      ]
     },
     "execution_count": 359,
     "metadata": {},
     "output_type": "execute_result"
    }
   ],
   "source": [
    "np.linalg.norm(W1__, ord=2, axis=1, keepdims=True)"
   ]
  },
  {
   "cell_type": "code",
   "execution_count": 360,
   "metadata": {},
   "outputs": [
    {
     "data": {
      "text/plain": [
       "array([[ 1.25      ,  0.07092463, -0.96330765, -0.28531536],\n",
       "       [ 0.07092463,  1.25      ,  0.3437922 ,  0.86207834],\n",
       "       [-0.96330765,  0.3437922 ,  1.25      ,  0.39024375],\n",
       "       [-0.28531536,  0.86207834,  0.39024375,  1.25      ]])"
      ]
     },
     "execution_count": 360,
     "metadata": {},
     "output_type": "execute_result"
    }
   ],
   "source": [
    "W1__@W1__.T"
   ]
  },
  {
   "cell_type": "code",
   "execution_count": 361,
   "metadata": {},
   "outputs": [
    {
     "data": {
      "text/plain": [
       "array([[ 1.        , -0.14480264, -0.60596502,  0.08237179, -0.80242127],\n",
       "       [-0.14480264,  1.        ,  0.14501752,  0.69829807,  0.41662241],\n",
       "       [-0.60596502,  0.14501752,  1.        , -0.34930485,  0.88741164],\n",
       "       [ 0.08237179,  0.69829807, -0.34930485,  1.        , -0.149983  ],\n",
       "       [-0.80242127,  0.41662241,  0.88741164, -0.149983  ,  1.        ]])"
      ]
     },
     "execution_count": 361,
     "metadata": {},
     "output_type": "execute_result"
    }
   ],
   "source": [
    "W1__.T@W1__"
   ]
  },
  {
   "cell_type": "code",
   "execution_count": 187,
   "metadata": {},
   "outputs": [
    {
     "data": {
      "text/plain": [
       "0.18975394879059668"
      ]
     },
     "execution_count": 187,
     "metadata": {},
     "output_type": "execute_result"
    }
   ],
   "source": [
    "error = ((W1__@W1__.T - np.eye(4))**2).mean()\n",
    "error"
   ]
  },
  {
   "cell_type": "markdown",
   "metadata": {},
   "source": [
    "### Doing this in cycle"
   ]
  },
  {
   "cell_type": "code",
   "execution_count": 286,
   "metadata": {},
   "outputs": [
    {
     "data": {
      "text/plain": [
       "array([[-0.59840072, -0.49274165,  0.23386572, -0.66742749,  0.49934317],\n",
       "       [ 0.074215  , -0.84587528, -0.14608953, -0.16800787, -0.3757028 ],\n",
       "       [ 0.30826412,  0.29331903, -0.9278538 ,  0.55101933, -0.83150626],\n",
       "       [ 0.68345477, -0.45016191, -0.17579089, -0.41157824, -0.44599245]])"
      ]
     },
     "execution_count": 286,
     "metadata": {},
     "output_type": "execute_result"
    }
   ],
   "source": [
    "W1__ = np.random.uniform(-1,1,size=(4, 5))\n",
    "W1__"
   ]
  },
  {
   "cell_type": "code",
   "execution_count": 334,
   "metadata": {},
   "outputs": [
    {
     "name": "stdout",
     "output_type": "stream",
     "text": [
      "0.26913238985953125\n"
     ]
    }
   ],
   "source": [
    "## computing the scale and direction of input layer\n",
    "W1 = W1__\n",
    "in_norm = np.linalg.norm(W1, ord=2, axis=1, keepdims=True)\n",
    "W1_ = W1/in_norm\n",
    "out_norm = np.linalg.norm(W1_, ord=2, axis=0, keepdims=True)\n",
    "W1__ = W1_/out_norm\n",
    "error = ((W1__@W1__.T - np.eye(4))**2).mean()\n",
    "print(error)"
   ]
  },
  {
   "cell_type": "code",
   "execution_count": 246,
   "metadata": {},
   "outputs": [
    {
     "data": {
      "text/plain": [
       "array([[ 1.25      ,  0.25219834, -0.08638933, -0.6021481 ],\n",
       "       [ 0.25219834,  1.25      , -0.30613072, -0.55566266],\n",
       "       [-0.08638933, -0.30613072,  1.25      ,  0.28430473],\n",
       "       [-0.6021481 , -0.55566266,  0.28430473,  1.25      ]])"
      ]
     },
     "execution_count": 246,
     "metadata": {},
     "output_type": "execute_result"
    }
   ],
   "source": [
    "W1__@W1__.T"
   ]
  },
  {
   "cell_type": "code",
   "execution_count": 338,
   "metadata": {},
   "outputs": [
    {
     "data": {
      "text/plain": [
       "array([[ 1.        , -0.14480264, -0.60596502,  0.08237179, -0.80242127],\n",
       "       [-0.14480264,  1.        ,  0.14501752,  0.69829807,  0.41662241],\n",
       "       [-0.60596502,  0.14501752,  1.        , -0.34930485,  0.88741164],\n",
       "       [ 0.08237179,  0.69829807, -0.34930485,  1.        , -0.149983  ],\n",
       "       [-0.80242127,  0.41662241,  0.88741164, -0.149983  ,  1.        ]])"
      ]
     },
     "execution_count": 338,
     "metadata": {},
     "output_type": "execute_result"
    }
   ],
   "source": [
    "W1__.T@W1__"
   ]
  },
  {
   "cell_type": "markdown",
   "metadata": {},
   "source": [
    "## Decomposing Matrix with constraints with GradientDescent"
   ]
  },
  {
   "cell_type": "code",
   "execution_count": 343,
   "metadata": {},
   "outputs": [],
   "source": [
    "optim = tnn.Adam(0.01)\n",
    "\n",
    "sa = tnn.Multiplier(4, optimizer=optim)\n",
    "wa = tnn.WeightsLayer(4, 5, weights=copy.deepcopy(W1), optimizer=optim)\n",
    "wb = tnn.WeightsLayer(5, 4, weights=copy.deepcopy(W1.T), optimizer=optim)\n",
    "sb = tnn.Multiplier(5, optimizer=optim)\n",
    "\n",
    "I4 = np.eye(4)"
   ]
  },
  {
   "cell_type": "code",
   "execution_count": 344,
   "metadata": {},
   "outputs": [],
   "source": [
    "# sa.multiplier.T * wa.weights * sb.multiplier"
   ]
  },
  {
   "cell_type": "code",
   "execution_count": 345,
   "metadata": {},
   "outputs": [],
   "source": [
    "# wa.weights@wb.weights"
   ]
  },
  {
   "cell_type": "code",
   "execution_count": 347,
   "metadata": {},
   "outputs": [
    {
     "name": "stdout",
     "output_type": "stream",
     "text": [
      "error =  0.0 0.26913238985953136\n",
      "error =  0.005710406292605681 0.04240593015212182\n",
      "error =  0.0057337284772853185 0.04218731851083797\n",
      "error =  0.005784621510192084 0.04204663368098067\n",
      "error =  0.005817980369333476 0.04189902862889625\n"
     ]
    }
   ],
   "source": [
    "### Training to construct original matrix and Identity matrix\n",
    "\n",
    "for i in range(5000):\n",
    "    ### construt original\n",
    "    aW = sa.multiplier.T * wa.weights\n",
    "    aWb = aW * sb.multiplier\n",
    "    \n",
    "    del_aWb = aWb - W1\n",
    "    del_sb = (del_aWb * aW).mean(axis=0, keepdims=True)\n",
    "    del_aW = del_aWb * sb.multiplier\n",
    "    del_sa = (del_aW * wa.weights).T.mean(axis=0, keepdims=True)\n",
    "    del_W = (del_aW * sa.multiplier.T)\n",
    "    \n",
    "    sa.del_multiplier = del_sa\n",
    "    wa.del_weights = del_W\n",
    "    sb.del_multiplier = del_sb\n",
    "    \n",
    "    sa.update()\n",
    "#     wa.update()\n",
    "    sb.update()\n",
    "    \n",
    "    ## make the weights orthogonal\n",
    "    wb.weights = wa.weights.T\n",
    "    \n",
    "    wout = wb.forward(wa.weights)\n",
    "    dw = wout - I4\n",
    "    dwa = wb.backward(dw/dw.shape[1]) \n",
    "    wa.del_weights += dwa\n",
    "    \n",
    "    wa.update()\n",
    "    wb.update()\n",
    "    \n",
    "    if i%1000 == 0:\n",
    "        print(\"error = \", (del_aWb**2).mean(), (dw**2).mean())"
   ]
  },
  {
   "cell_type": "code",
   "execution_count": 160,
   "metadata": {},
   "outputs": [
    {
     "data": {
      "text/plain": [
       "array([[-0.88823998,  0.53799509,  0.52799776,  0.57734151, -0.83443798],\n",
       "       [-0.42375352, -0.59081607,  0.89239495,  0.98537997, -0.36498316],\n",
       "       [ 0.08197809, -0.77544794,  0.09811675, -0.61372622,  0.73443058],\n",
       "       [-0.252114  ,  0.01773399, -0.09799648, -0.9790891 , -0.22730132]])"
      ]
     },
     "execution_count": 160,
     "metadata": {},
     "output_type": "execute_result"
    }
   ],
   "source": [
    "aWb"
   ]
  },
  {
   "cell_type": "code",
   "execution_count": 161,
   "metadata": {},
   "outputs": [
    {
     "data": {
      "text/plain": [
       "array([[-0.88364862,  0.53791029,  0.53309528,  0.57871753, -0.84455432],\n",
       "       [-0.4282357 , -0.58697509,  0.89582415,  0.99010801, -0.35937232],\n",
       "       [ 0.10289835, -0.78131519,  0.09321064, -0.6122982 ,  0.72979298],\n",
       "       [-0.26047194,  0.04196478, -0.09742027, -0.97838514, -0.22416655]])"
      ]
     },
     "execution_count": 161,
     "metadata": {},
     "output_type": "execute_result"
    }
   ],
   "source": [
    "W1"
   ]
  },
  {
   "cell_type": "code",
   "execution_count": 162,
   "metadata": {},
   "outputs": [
    {
     "data": {
      "text/plain": [
       "array([[ 0.38542724,  0.24594365, -0.36763487,  0.20507751],\n",
       "       [ 0.24594365,  0.90721384,  0.12290542, -0.0998257 ],\n",
       "       [-0.36763487,  0.12290542,  0.81246148,  0.06008837],\n",
       "       [ 0.20507751, -0.0998257 ,  0.06008837,  0.94178409]])"
      ]
     },
     "execution_count": 162,
     "metadata": {},
     "output_type": "execute_result"
    }
   ],
   "source": [
    "wa.weights@wa.weights.T"
   ]
  }
 ],
 "metadata": {
  "kernelspec": {
   "display_name": "Python 3",
   "language": "python",
   "name": "python3"
  },
  "language_info": {
   "codemirror_mode": {
    "name": "ipython",
    "version": 3
   },
   "file_extension": ".py",
   "mimetype": "text/x-python",
   "name": "python",
   "nbconvert_exporter": "python",
   "pygments_lexer": "ipython3",
   "version": "3.7.4"
  }
 },
 "nbformat": 4,
 "nbformat_minor": 4
}
