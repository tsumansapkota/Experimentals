{
 "cells": [
  {
   "cell_type": "code",
   "execution_count": 2,
   "metadata": {},
   "outputs": [],
   "source": [
    "import numpy as np\n",
    "import matplotlib.pyplot as plt\n",
    "%matplotlib inline\n",
    "from DecisionTreeRegressor import *"
   ]
  },
  {
   "cell_type": "code",
   "execution_count": 3,
   "metadata": {},
   "outputs": [],
   "source": [
    "#Define a simple range of values for x and reshape so sklearn likes it.\n",
    "x = np.linspace(0,1,200)\n",
    "noise = np.random.normal(0,0.02, x.shape)\n",
    "x = x + noise\n",
    "y= (2 * np.sin(10*x) + np.cos(20 * x - 3) + 3 * np.log(10*x + 0.5) - 4)/6.\n",
    "noise = np.random.normal(0,0.1, x.shape)\n",
    "y = y + noise\n",
    "x = x - 0.5"
   ]
  },
  {
   "cell_type": "code",
   "execution_count": 4,
   "metadata": {},
   "outputs": [
    {
     "data": {
      "text/plain": [
       "<matplotlib.collections.PathCollection at 0x7f4196bb12e8>"
      ]
     },
     "execution_count": 4,
     "metadata": {},
     "output_type": "execute_result"
    },
    {
     "data": {
      "image/png": "[encoded data removed]",
      "text/plain": [
       "<Figure size 432x288 with 1 Axes>"
      ]
     },
     "metadata": {},
     "output_type": "display_data"
    }
   ],
   "source": [
    "plt.scatter(x, y)"
   ]
  },
  {
   "cell_type": "code",
   "execution_count": 8,
   "metadata": {},
   "outputs": [],
   "source": [
    "def predict_example(example, tree):\n",
    "    if isinstance(tree, Leaf):\n",
    "        return tree.output\n",
    "    \n",
    "    if tree.question.match(example):\n",
    "        return predict_example(example, tree.true_branch)\n",
    "    else:\n",
    "        return predict_example(example, tree.false_branch)"
   ]
  },
  {
   "cell_type": "code",
   "execution_count": 6,
   "metadata": {},
   "outputs": [
    {
     "data": {
      "text/html": [
       "<div>\n",
       "<style scoped>\n",
       "    .dataframe tbody tr th:only-of-type {\n",
       "        vertical-align: middle;\n",
       "    }\n",
       "\n",
       "    .dataframe tbody tr th {\n",
       "        vertical-align: top;\n",
       "    }\n",
       "\n",
       "    .dataframe thead th {\n",
       "        text-align: right;\n",
       "    }\n",
       "</style>\n",
       "<table border=\"1\" class=\"dataframe\">\n",
       "  <thead>\n",
       "    <tr style=\"text-align: right;\">\n",
       "      <th></th>\n",
       "      <th>x</th>\n",
       "      <th>y</th>\n",
       "    </tr>\n",
       "  </thead>\n",
       "  <tbody>\n",
       "    <tr>\n",
       "      <th>0</th>\n",
       "      <td>-0.494354</td>\n",
       "      <td>-1.078061</td>\n",
       "    </tr>\n",
       "    <tr>\n",
       "      <th>1</th>\n",
       "      <td>-0.496203</td>\n",
       "      <td>-1.163371</td>\n",
       "    </tr>\n",
       "    <tr>\n",
       "      <th>2</th>\n",
       "      <td>-0.445640</td>\n",
       "      <td>-0.662283</td>\n",
       "    </tr>\n",
       "    <tr>\n",
       "      <th>3</th>\n",
       "      <td>-0.497352</td>\n",
       "      <td>-1.195524</td>\n",
       "    </tr>\n",
       "    <tr>\n",
       "      <th>4</th>\n",
       "      <td>-0.458523</td>\n",
       "      <td>-0.665935</td>\n",
       "    </tr>\n",
       "  </tbody>\n",
       "</table>\n",
       "</div>"
      ],
      "text/plain": [
       "          x         y\n",
       "0 -0.494354 -1.078061\n",
       "1 -0.496203 -1.163371\n",
       "2 -0.445640 -0.662283\n",
       "3 -0.497352 -1.195524\n",
       "4 -0.458523 -0.665935"
      ]
     },
     "execution_count": 6,
     "metadata": {},
     "output_type": "execute_result"
    }
   ],
   "source": [
    "df = pd.DataFrame(data=x, columns=['x'])\n",
    "df['y'] = pd.DataFrame(data=y)\n",
    "df.head()"
   ]
  },
  {
   "cell_type": "code",
   "execution_count": 7,
   "metadata": {},
   "outputs": [
    {
     "name": "stdout",
     "output_type": "stream",
     "text": [
      "    Is x <= 0.15580043130800547?\n",
      "    --> True:\n",
      "       Is x <= -0.4258112284607219?\n",
      "       --> True:\n",
      "          Is x <= -0.4748116327639847?\n",
      "          --> True:\n",
      "             =====Predict -1.0929978561823532\n",
      "          --> False:\n",
      "             =====Predict -0.5476377811263604\n",
      "       --> False:\n",
      "          Is x <= -0.2618575308345673?\n",
      "          --> True:\n",
      "             Is x <= -0.38914096218709904?\n",
      "             --> True:\n",
      "                =====Predict -0.23545153155646265\n",
      "             --> False:\n",
      "                Is x <= -0.29286648920746394?\n",
      "                --> True:\n",
      "                   =====Predict 0.2154864784953742\n",
      "                --> False:\n",
      "                   =====Predict 0.13593953816425777\n",
      "          --> False:\n",
      "             Is x <= 0.09727149782082262?\n",
      "             --> True:\n",
      "                Is x <= -0.0844865582346167?\n",
      "                --> True:\n",
      "                   =====Predict -0.13946650276998804\n",
      "                --> False:\n",
      "                   =====Predict -0.028869388512333775\n",
      "             --> False:\n",
      "                Is x <= 0.12648999730480526?\n",
      "                --> True:\n",
      "                   =====Predict 0.08785368845113495\n",
      "                --> False:\n",
      "                   =====Predict 0.1809869815236932\n",
      "    --> False:\n",
      "       Is x <= 0.38869909316446233?\n",
      "       --> True:\n",
      "          Is x <= 0.22135019114670512?\n",
      "          --> True:\n",
      "             Is x <= 0.20087631128702632?\n",
      "             --> True:\n",
      "                =====Predict 0.44438420270756895\n",
      "             --> False:\n",
      "                =====Predict 0.5400043658170925\n",
      "          --> False:\n",
      "             Is x <= 0.3419800053204651?\n",
      "             --> True:\n",
      "                Is x <= 0.22577129210105934?\n",
      "                --> True:\n",
      "                   =====Predict 0.6435280706209174\n",
      "                --> False:\n",
      "                   =====Predict 0.87173181993089\n",
      "             --> False:\n",
      "                =====Predict 0.6233248460883416\n",
      "       --> False:\n",
      "          Is x <= 0.4536854163873698?\n",
      "          --> True:\n",
      "             Is x <= 0.4313933083036756?\n",
      "             --> True:\n",
      "                =====Predict 0.40417524041008485\n",
      "             --> False:\n",
      "                =====Predict 0.3272585098295717\n",
      "          --> False:\n",
      "             =====Predict 0.24892660784783066\n"
     ]
    }
   ],
   "source": [
    "tree = regression_tree_algorithm(df, min_samples=10, max_depth=5)\n",
    "print_tree(tree)"
   ]
  },
  {
   "cell_type": "code",
   "execution_count": 21,
   "metadata": {},
   "outputs": [
    {
     "data": {
      "image/png": "[encoded data removed]",
      "text/plain": [
       "<Figure size 432x288 with 1 Axes>"
      ]
     },
     "metadata": {},
     "output_type": "display_data"
    }
   ],
   "source": [
    "outputs = df.apply(predict_example, axis = 1, args=(tree,)).values\n",
    "targets = df.y.values\n",
    "\n",
    "# ax = fig.add_subplot(1, 1, 1)\n",
    "plt.scatter(x, targets, label='target', marker='.', c='g')\n",
    "plt.scatter(x, outputs, label='output', marker='_', c='r')\n",
    "plt.legend()\n",
    "\n",
    "plt.show()"
   ]
  },
  {
   "cell_type": "markdown",
   "metadata": {},
   "source": [
    "## using this to calculate break point"
   ]
  },
  {
   "cell_type": "code",
   "execution_count": 24,
   "metadata": {},
   "outputs": [],
   "source": [
    "import mylibrary.nnlib as tnn\n",
    "colors = ['plum', 'darkviolet', 'purple', 'indigo']"
   ]
  },
  {
   "cell_type": "code",
   "execution_count": 27,
   "metadata": {},
   "outputs": [],
   "source": [
    "x_data = x.reshape(-1,1)\n",
    "y_data = y.reshape(-1,1)"
   ]
  },
  {
   "cell_type": "code",
   "execution_count": 45,
   "metadata": {},
   "outputs": [],
   "source": [
    "optimizer = tnn.Adam()\n",
    "linear1 = tnn.LinearLayer(1, 1, optimizer=optimizer)"
   ]
  },
  {
   "cell_type": "code",
   "execution_count": 46,
   "metadata": {},
   "outputs": [
    {
     "name": "stdout",
     "output_type": "stream",
     "text": [
      "_______________________\n",
      "epoch 0\n",
      "Loss 0.1671343378063235\n",
      "Weight 1 \n",
      " [[-0.56065932]]\n",
      "Biases 1 \n",
      " [0.01]\n",
      "\n",
      "\n",
      "_______________________\n",
      "epoch 10\n",
      "Loss 0.1460575733586888\n",
      "Weight 1 \n",
      " [[-0.46093295]]\n",
      "Biases 1 \n",
      " [0.10330717]\n",
      "\n",
      "\n",
      "_______________________\n",
      "epoch 20\n",
      "Loss 0.13337755970340026\n",
      "Weight 1 \n",
      " [[-0.3624547]]\n",
      "Biases 1 \n",
      " [0.15426179]\n",
      "\n",
      "\n",
      "_______________________\n",
      "epoch 30\n",
      "Loss 0.12194969300025259\n",
      "Weight 1 \n",
      " [[-0.26615921]]\n",
      "Biases 1 \n",
      " [0.1460985]\n",
      "\n",
      "\n",
      "_______________________\n",
      "epoch 40\n",
      "Loss 0.11149443571677972\n",
      "Weight 1 \n",
      " [[-0.17273274]]\n",
      "Biases 1 \n",
      " [0.12323816]\n",
      "\n",
      "\n",
      "_______________________\n",
      "epoch 50\n",
      "Loss 0.10232771579944547\n",
      "Weight 1 \n",
      " [[-0.08262216]]\n",
      "Biases 1 \n",
      " [0.12102639]\n",
      "\n",
      "\n",
      "_______________________\n",
      "epoch 60\n",
      "Loss 0.09411946907652385\n",
      "Weight 1 \n",
      " [[0.00389954]]\n",
      "Biases 1 \n",
      " [0.12985312]\n",
      "\n",
      "\n",
      "_______________________\n",
      "epoch 70\n",
      "Loss 0.08689965695921957\n",
      "Weight 1 \n",
      " [[0.08666575]]\n",
      "Biases 1 \n",
      " [0.13104206]\n",
      "\n",
      "\n",
      "_______________________\n",
      "epoch 80\n",
      "Loss 0.08055345008880782\n",
      "Weight 1 \n",
      " [[0.16557079]]\n",
      "Biases 1 \n",
      " [0.12762737]\n",
      "\n",
      "\n",
      "_______________________\n",
      "epoch 90\n",
      "Loss 0.07502028248810495\n",
      "Weight 1 \n",
      " [[0.24054659]]\n",
      "Biases 1 \n",
      " [0.12765624]\n",
      "\n",
      "\n",
      "_______________________\n",
      "epoch 100\n",
      "Loss 0.0702226888994407\n",
      "Weight 1 \n",
      " [[0.31155186]]\n",
      "Biases 1 \n",
      " [0.12893505]\n",
      "\n",
      "\n",
      "_______________________\n",
      "epoch 110\n",
      "Loss 0.06609068203549877\n",
      "Weight 1 \n",
      " [[0.378567]]\n",
      "Biases 1 \n",
      " [0.12859679]\n",
      "\n",
      "\n",
      "_______________________\n",
      "epoch 120\n",
      "Loss 0.06255563622627731\n",
      "Weight 1 \n",
      " [[0.44159246]]\n",
      "Biases 1 \n",
      " [0.12826037]\n",
      "\n",
      "\n",
      "_______________________\n",
      "epoch 130\n",
      "Loss 0.05955208337173154\n",
      "Weight 1 \n",
      " [[0.50064887]]\n",
      "Biases 1 \n",
      " [0.1285288]\n",
      "\n",
      "\n",
      "_______________________\n",
      "epoch 140\n",
      "Loss 0.05701824473887141\n",
      "Weight 1 \n",
      " [[0.55577718]]\n",
      "Biases 1 \n",
      " [0.12854954]\n",
      "\n",
      "\n",
      "_______________________\n",
      "epoch 150\n",
      "Loss 0.054896167003688205\n",
      "Weight 1 \n",
      " [[0.60703854]]\n",
      "Biases 1 \n",
      " [0.12845923]\n",
      "\n",
      "\n",
      "_______________________\n",
      "epoch 160\n",
      "Loss 0.05313213422563178\n",
      "Weight 1 \n",
      " [[0.65451407]]\n",
      "Biases 1 \n",
      " [0.128514]\n",
      "\n",
      "\n",
      "_______________________\n",
      "epoch 170\n",
      "Loss 0.05167683282464695\n",
      "Weight 1 \n",
      " [[0.69830409]]\n",
      "Biases 1 \n",
      " [0.12852913]\n",
      "\n",
      "\n",
      "_______________________\n",
      "epoch 180\n",
      "Loss 0.05048546524052666\n",
      "Weight 1 \n",
      " [[0.73852694]]\n",
      "Biases 1 \n",
      " [0.12851384]\n",
      "\n",
      "\n",
      "_______________________\n",
      "epoch 190\n",
      "Loss 0.049517771809919245\n",
      "Weight 1 \n",
      " [[0.77531737]]\n",
      "Biases 1 \n",
      " [0.12853055]\n",
      "\n",
      "\n",
      "_______________________\n",
      "epoch 200\n",
      "Loss 0.048737960171946614\n",
      "Weight 1 \n",
      " [[0.80882461]]\n",
      "Biases 1 \n",
      " [0.12853612]\n",
      "\n",
      "\n",
      "_______________________\n",
      "epoch 210\n",
      "Loss 0.04811455634192097\n",
      "Weight 1 \n",
      " [[0.83921012]]\n",
      "Biases 1 \n",
      " [0.1285369]\n",
      "\n",
      "\n",
      "_______________________\n",
      "epoch 220\n",
      "Loss 0.04762018691640247\n"
     ]
    },
    {
     "ename": "TclError",
     "evalue": "this isn't a Tk application",
     "output_type": "error",
     "traceback": [
      "\u001b[0;31m---------------------------------------------------------------------------\u001b[0m",
      "\u001b[0;31mTclError\u001b[0m                                  Traceback (most recent call last)",
      "\u001b[0;32m~/.local/lib/python3.6/site-packages/matplotlib/backends/tkagg.py\u001b[0m in \u001b[0;36mblit\u001b[0;34m(photoimage, aggimage, bbox, colormode)\u001b[0m\n\u001b[1;32m     25\u001b[0m             \u001b[0;34m\"PyAggImagePhoto\"\u001b[0m\u001b[0;34m,\u001b[0m \u001b[0mphotoimage\u001b[0m\u001b[0;34m,\u001b[0m\u001b[0;34m\u001b[0m\u001b[0;34m\u001b[0m\u001b[0m\n\u001b[0;32m---> 26\u001b[0;31m             dataptr, colormode, bboxptr)\n\u001b[0m\u001b[1;32m     27\u001b[0m     \u001b[0;32mexcept\u001b[0m \u001b[0mTk\u001b[0m\u001b[0;34m.\u001b[0m\u001b[0mTclError\u001b[0m\u001b[0;34m:\u001b[0m\u001b[0;34m\u001b[0m\u001b[0;34m\u001b[0m\u001b[0m\n",
      "\u001b[0;31mTclError\u001b[0m: this isn't a Tk application",
      "\nDuring handling of the above exception, another exception occurred:\n",
      "\u001b[0;31mTclError\u001b[0m                                  Traceback (most recent call last)",
      "\u001b[0;32m<ipython-input-46-8ec508b044bd>\u001b[0m in \u001b[0;36m<module>\u001b[0;34m()\u001b[0m\n\u001b[1;32m     29\u001b[0m         \u001b[0mplt\u001b[0m\u001b[0;34m.\u001b[0m\u001b[0mlegend\u001b[0m\u001b[0;34m(\u001b[0m\u001b[0;34m)\u001b[0m\u001b[0;34m\u001b[0m\u001b[0;34m\u001b[0m\u001b[0m\n\u001b[1;32m     30\u001b[0m \u001b[0;34m\u001b[0m\u001b[0m\n\u001b[0;32m---> 31\u001b[0;31m         \u001b[0mfig\u001b[0m\u001b[0;34m.\u001b[0m\u001b[0mcanvas\u001b[0m\u001b[0;34m.\u001b[0m\u001b[0mdraw\u001b[0m\u001b[0;34m(\u001b[0m\u001b[0;34m)\u001b[0m\u001b[0;34m\u001b[0m\u001b[0;34m\u001b[0m\u001b[0m\n\u001b[0m\u001b[1;32m     32\u001b[0m \u001b[0;34m\u001b[0m\u001b[0m\n\u001b[1;32m     33\u001b[0m         \u001b[0mprint\u001b[0m\u001b[0;34m(\u001b[0m\u001b[0;34m\"Weight 1\"\u001b[0m\u001b[0;34m,\u001b[0m \u001b[0;34m'\\n'\u001b[0m\u001b[0;34m,\u001b[0m \u001b[0mlinear1\u001b[0m\u001b[0;34m.\u001b[0m\u001b[0mweights\u001b[0m\u001b[0;34m)\u001b[0m\u001b[0;34m\u001b[0m\u001b[0;34m\u001b[0m\u001b[0m\n",
      "\u001b[0;32m~/.local/lib/python3.6/site-packages/matplotlib/backends/backend_tkagg.py\u001b[0m in \u001b[0;36mdraw\u001b[0;34m(self)\u001b[0m\n\u001b[1;32m     11\u001b[0m     \u001b[0;32mdef\u001b[0m \u001b[0mdraw\u001b[0m\u001b[0;34m(\u001b[0m\u001b[0mself\u001b[0m\u001b[0;34m)\u001b[0m\u001b[0;34m:\u001b[0m\u001b[0;34m\u001b[0m\u001b[0;34m\u001b[0m\u001b[0m\n\u001b[1;32m     12\u001b[0m         \u001b[0msuper\u001b[0m\u001b[0;34m(\u001b[0m\u001b[0mFigureCanvasTkAgg\u001b[0m\u001b[0;34m,\u001b[0m \u001b[0mself\u001b[0m\u001b[0;34m)\u001b[0m\u001b[0;34m.\u001b[0m\u001b[0mdraw\u001b[0m\u001b[0;34m(\u001b[0m\u001b[0;34m)\u001b[0m\u001b[0;34m\u001b[0m\u001b[0;34m\u001b[0m\u001b[0m\n\u001b[0;32m---> 13\u001b[0;31m         \u001b[0mtkagg\u001b[0m\u001b[0;34m.\u001b[0m\u001b[0mblit\u001b[0m\u001b[0;34m(\u001b[0m\u001b[0mself\u001b[0m\u001b[0;34m.\u001b[0m\u001b[0m_tkphoto\u001b[0m\u001b[0;34m,\u001b[0m \u001b[0mself\u001b[0m\u001b[0;34m.\u001b[0m\u001b[0mrenderer\u001b[0m\u001b[0;34m.\u001b[0m\u001b[0m_renderer\u001b[0m\u001b[0;34m,\u001b[0m \u001b[0mcolormode\u001b[0m\u001b[0;34m=\u001b[0m\u001b[0;36m2\u001b[0m\u001b[0;34m)\u001b[0m\u001b[0;34m\u001b[0m\u001b[0;34m\u001b[0m\u001b[0m\n\u001b[0m\u001b[1;32m     14\u001b[0m         \u001b[0mself\u001b[0m\u001b[0;34m.\u001b[0m\u001b[0m_master\u001b[0m\u001b[0;34m.\u001b[0m\u001b[0mupdate_idletasks\u001b[0m\u001b[0;34m(\u001b[0m\u001b[0;34m)\u001b[0m\u001b[0;34m\u001b[0m\u001b[0;34m\u001b[0m\u001b[0m\n\u001b[1;32m     15\u001b[0m \u001b[0;34m\u001b[0m\u001b[0m\n",
      "\u001b[0;32m~/.local/lib/python3.6/site-packages/matplotlib/backends/tkagg.py\u001b[0m in \u001b[0;36mblit\u001b[0;34m(photoimage, aggimage, bbox, colormode)\u001b[0m\n\u001b[1;32m     32\u001b[0m             \u001b[0m_tkagg\u001b[0m\u001b[0;34m.\u001b[0m\u001b[0mtkinit\u001b[0m\u001b[0;34m(\u001b[0m\u001b[0mtk\u001b[0m\u001b[0;34m,\u001b[0m \u001b[0;36m0\u001b[0m\u001b[0;34m)\u001b[0m\u001b[0;34m\u001b[0m\u001b[0;34m\u001b[0m\u001b[0m\n\u001b[1;32m     33\u001b[0m         tk.call(\"PyAggImagePhoto\", photoimage,\n\u001b[0;32m---> 34\u001b[0;31m                 dataptr, colormode, bboxptr)\n\u001b[0m\u001b[1;32m     35\u001b[0m \u001b[0;34m\u001b[0m\u001b[0m\n\u001b[1;32m     36\u001b[0m \u001b[0;32mdef\u001b[0m \u001b[0mtest\u001b[0m\u001b[0;34m(\u001b[0m\u001b[0maggimage\u001b[0m\u001b[0;34m)\u001b[0m\u001b[0;34m:\u001b[0m\u001b[0;34m\u001b[0m\u001b[0;34m\u001b[0m\u001b[0m\n",
      "\u001b[0;31mTclError\u001b[0m: this isn't a Tk application"
     ]
    },
    {
     "data": {
      "image/png": "[encoded data removed]",
      "text/plain": [
       "<Figure size 432x288 with 1 Axes>"
      ]
     },
     "metadata": {},
     "output_type": "display_data"
    }
   ],
   "source": [
    "%matplotlib tk\n",
    "fig = plt.figure()\n",
    "ax = fig.add_subplot(1, 1, 1)\n",
    "\n",
    "plt.ion()\n",
    "fig.show()\n",
    "fig.canvas.draw()\n",
    "\n",
    "for step in range(10000):\n",
    "    a1 = linear1.forward(x_data)\n",
    "    loss = tnn.MseLoss.loss(a1, y_data)\n",
    "    dy = tnn.MseLoss.del_loss(a1, y_data)\n",
    "    \n",
    "    dx = linear1.backward(dy)\n",
    "    \n",
    "    linear1.update()\n",
    "    \n",
    "    if step % 10 == 0:\n",
    "\n",
    "        print('_______________________')\n",
    "        print(\"epoch\", step)\n",
    "        print(\"Loss\", loss)\n",
    "\n",
    "        ax.clear()\n",
    "        plt.scatter(x, y, marker='.', c='g', label='x,y')\n",
    "        plt.scatter(x, a1.reshape(-1), marker='.', c='r', lw=3, label='x,a1')\n",
    "        plt.scatter(x, dy.reshape(-1), marker='.', c='c', lw=1, label='x,dx')\n",
    "        plt.plot(x, np.zeros_like(x), c='b', lw=1)\n",
    "        plt.legend()\n",
    "        \n",
    "        fig.canvas.draw()\n",
    "        \n",
    "        print(\"Weight 1\", '\\n', linear1.weights)\n",
    "        print(\"Biases 1\", '\\n', linear1.bias)\n",
    "        \n",
    "        plt.pause(0.01)\n",
    "        print(\"\\n\")\n",
    "        if loss < 0.0025:\n",
    "            print('fitted to our expectation')\n",
    "            plt.pause(50)\n",
    "            break"
   ]
  },
  {
   "cell_type": "code",
   "execution_count": 47,
   "metadata": {},
   "outputs": [
    {
     "data": {
      "text/plain": [
       "<matplotlib.legend.Legend at 0x7f41945ec780>"
      ]
     },
     "execution_count": 47,
     "metadata": {},
     "output_type": "execute_result"
    },
    {
     "data": {
      "image/png": "[encoded data removed]",
      "text/plain": [
       "<Figure size 432x288 with 1 Axes>"
      ]
     },
     "metadata": {},
     "output_type": "display_data"
    }
   ],
   "source": [
    "%matplotlib inline\n",
    "\n",
    "plt.scatter(x, y, marker='.', c='g', label='x,y')\n",
    "plt.scatter(x, a1.reshape(-1), marker='.', c='r', lw=3, label='x,a1')\n",
    "plt.scatter(x, dx.reshape(-1), marker='.', c='c', lw=1, label='x,dx')\n",
    "plt.plot(x, np.zeros_like(x), c='b', lw=1)\n",
    "plt.scatter(x, dy.reshape(-1), marker='.', c='y', lw=1, label='x,dy')\n",
    "plt.legend()"
   ]
  },
  {
   "cell_type": "code",
   "execution_count": 48,
   "metadata": {},
   "outputs": [
    {
     "data": {
      "text/html": [
       "<div>\n",
       "<style scoped>\n",
       "    .dataframe tbody tr th:only-of-type {\n",
       "        vertical-align: middle;\n",
       "    }\n",
       "\n",
       "    .dataframe tbody tr th {\n",
       "        vertical-align: top;\n",
       "    }\n",
       "\n",
       "    .dataframe thead th {\n",
       "        text-align: right;\n",
       "    }\n",
       "</style>\n",
       "<table border=\"1\" class=\"dataframe\">\n",
       "  <thead>\n",
       "    <tr style=\"text-align: right;\">\n",
       "      <th></th>\n",
       "      <th>x</th>\n",
       "      <th>dy</th>\n",
       "    </tr>\n",
       "  </thead>\n",
       "  <tbody>\n",
       "    <tr>\n",
       "      <th>0</th>\n",
       "      <td>-0.494354</td>\n",
       "      <td>0.779468</td>\n",
       "    </tr>\n",
       "    <tr>\n",
       "      <th>1</th>\n",
       "      <td>-0.496203</td>\n",
       "      <td>0.863180</td>\n",
       "    </tr>\n",
       "    <tr>\n",
       "      <th>2</th>\n",
       "      <td>-0.445640</td>\n",
       "      <td>0.405780</td>\n",
       "    </tr>\n",
       "    <tr>\n",
       "      <th>3</th>\n",
       "      <td>-0.497352</td>\n",
       "      <td>0.894341</td>\n",
       "    </tr>\n",
       "    <tr>\n",
       "      <th>4</th>\n",
       "      <td>-0.458523</td>\n",
       "      <td>0.398301</td>\n",
       "    </tr>\n",
       "  </tbody>\n",
       "</table>\n",
       "</div>"
      ],
      "text/plain": [
       "          x        dy\n",
       "0 -0.494354  0.779468\n",
       "1 -0.496203  0.863180\n",
       "2 -0.445640  0.405780\n",
       "3 -0.497352  0.894341\n",
       "4 -0.458523  0.398301"
      ]
     },
     "execution_count": 48,
     "metadata": {},
     "output_type": "execute_result"
    }
   ],
   "source": [
    "dfres = pd.DataFrame(data=x, columns=['x'])\n",
    "dfres['dy'] = pd.DataFrame(data=dy.reshape(-1))\n",
    "dfres.head()"
   ]
  },
  {
   "cell_type": "code",
   "execution_count": 53,
   "metadata": {},
   "outputs": [
    {
     "name": "stdout",
     "output_type": "stream",
     "text": [
      "    Is x <= -0.4748116327639847?\n",
      "    --> True:\n",
      "       =====Predict 0.7980845081825132\n",
      "    --> False:\n",
      "       =====Predict -0.028946140388905972\n"
     ]
    }
   ],
   "source": [
    "tree = regression_tree_algorithm(dfres, min_samples=20, max_depth=1)\n",
    "print_tree(tree)"
   ]
  },
  {
   "cell_type": "code",
   "execution_count": 54,
   "metadata": {},
   "outputs": [
    {
     "data": {
      "image/png": "[encoded data removed]",
      "text/plain": [
       "<Figure size 432x288 with 1 Axes>"
      ]
     },
     "metadata": {},
     "output_type": "display_data"
    }
   ],
   "source": [
    "outputs = dfres.apply(predict_example, axis = 1, args=(tree,)).values\n",
    "targets = dfres.dy.values\n",
    "\n",
    "# ax = fig.add_subplot(1, 1, 1)\n",
    "plt.scatter(x, targets, label='target', marker='.', c='g')\n",
    "plt.scatter(x, outputs, label='output', marker='_', c='r')\n",
    "plt.legend()\n",
    "\n",
    "plt.show()"
   ]
  },
  {
   "cell_type": "code",
   "execution_count": null,
   "metadata": {},
   "outputs": [],
   "source": []
  }
 ],
 "metadata": {
  "kernelspec": {
   "display_name": "Python 3",
   "language": "python",
   "name": "python3"
  },
  "language_info": {
   "codemirror_mode": {
    "name": "ipython",
    "version": 3
   },
   "file_extension": ".py",
   "mimetype": "text/x-python",
   "name": "python",
   "nbconvert_exporter": "python",
   "pygments_lexer": "ipython3",
   "version": "3.6.7"
  }
 },
 "nbformat": 4,
 "nbformat_minor": 2
}
