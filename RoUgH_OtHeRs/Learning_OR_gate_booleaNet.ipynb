{
 "cells": [
  {
   "cell_type": "code",
   "execution_count": 1,
   "metadata": {},
   "outputs": [],
   "source": [
    "import numpy as np"
   ]
  },
  {
   "cell_type": "code",
   "execution_count": 56,
   "metadata": {},
   "outputs": [],
   "source": [
    "## OR Gate\n",
    "T = True\n",
    "F = False\n",
    "X = [[F, F],\n",
    "    [F, T],\n",
    "    [T, F],\n",
    "    [T, T]]\n",
    "Y = [F,\n",
    "    T,\n",
    "    T,\n",
    "    T]\n",
    "# X = np.array(X, dtype=np.bool)\n",
    "# Y = np.array(Y, dtype=np.bool)"
   ]
  },
  {
   "cell_type": "code",
   "execution_count": 61,
   "metadata": {},
   "outputs": [
    {
     "data": {
      "text/plain": [
       "[False, True]"
      ]
     },
     "execution_count": 61,
     "metadata": {},
     "output_type": "execute_result"
    }
   ],
   "source": [
    "## Defining boolean weights\n",
    "W = np.random.choice(a=[False, True], size=(2), p=[0.5, 0.5]).tolist()\n",
    "W"
   ]
  },
  {
   "cell_type": "code",
   "execution_count": 70,
   "metadata": {},
   "outputs": [
    {
     "name": "stdout",
     "output_type": "stream",
     "text": [
      "[False, False] @ [False, True] = [False, False]  ->  False\n",
      "[False, True] @ [False, True] = [False, True]  ->  True\n",
      "[True, False] @ [False, True] = [False, False]  ->  False\n",
      "[True, True] @ [False, True] = [False, True]  ->  True\n"
     ]
    }
   ],
   "source": [
    "## Forward Propagation (SOP -> Sum of Products)\n",
    "y = np.empty_like(Y).tolist()\n",
    "for i in range(len(X)):\n",
    "    xi = X[i]\n",
    "    ands = [xi[0] and W[0], xi[1] and W[1]]\n",
    "    y[i] = ands[0] or ands [1]\n",
    "    print(xi, \"@\", W, \"=\", ands, \" -> \",y[i])"
   ]
  },
  {
   "cell_type": "code",
   "execution_count": 73,
   "metadata": {},
   "outputs": [
    {
     "name": "stdout",
     "output_type": "stream",
     "text": [
      "targ= [False, True, True, True]\n",
      "\n",
      "outp= [False, True, False, True]\n"
     ]
    }
   ],
   "source": [
    "print(\"targ=\", Y)\n",
    "print()\n",
    "print(\"outp=\",y)"
   ]
  },
  {
   "cell_type": "code",
   "execution_count": 74,
   "metadata": {},
   "outputs": [
    {
     "data": {
      "text/plain": [
       "[True, True, False, True]"
      ]
     },
     "execution_count": 74,
     "metadata": {},
     "output_type": "execute_result"
    }
   ],
   "source": [
    "dy = [yt==yo for yt, yo in zip(Y, y)]\n",
    "dy"
   ]
  },
  {
   "cell_type": "code",
   "execution_count": null,
   "metadata": {},
   "outputs": [],
   "source": []
  }
 ],
 "metadata": {
  "kernelspec": {
   "display_name": "Python 3",
   "language": "python",
   "name": "python3"
  },
  "language_info": {
   "codemirror_mode": {
    "name": "ipython",
    "version": 3
   },
   "file_extension": ".py",
   "mimetype": "text/x-python",
   "name": "python",
   "nbconvert_exporter": "python",
   "pygments_lexer": "ipython3",
   "version": "3.7.3"
  }
 },
 "nbformat": 4,
 "nbformat_minor": 2
}
