{
 "cells": [
  {
   "cell_type": "code",
   "execution_count": 1,
   "metadata": {},
   "outputs": [],
   "source": [
    "import numpy as np\n",
    "import mylibrary.nnlib as tnn\n",
    "import matplotlib.pyplot as plt\n",
    "import copy\n",
    "\n",
    "from mpl_toolkits.mplot3d import Axes3D\n",
    "import matplotlib\n",
    "\n",
    "import torch\n",
    "import torch.nn as nn\n",
    "\n",
    "import mylibrary.datasets as datasets\n",
    "import prunelib\n",
    "from tqdm import tqdm\n",
    "import random\n",
    "\n",
    "import pickle\n",
    "import copy"
   ]
  },
  {
   "cell_type": "code",
   "execution_count": 2,
   "metadata": {},
   "outputs": [],
   "source": [
    "mnist = datasets.MNIST()\n",
    "train_data, train_label_, test_data, test_label_ = mnist.load()\n",
    "\n",
    "train_data = train_data / 255.\n",
    "test_data = test_data / 255."
   ]
  },
  {
   "cell_type": "code",
   "execution_count": 3,
   "metadata": {},
   "outputs": [],
   "source": [
    "train_label = tnn.Logits.index_to_logit(train_label_)\n",
    "train_size = len(train_label_)"
   ]
  },
  {
   "cell_type": "code",
   "execution_count": 4,
   "metadata": {},
   "outputs": [],
   "source": [
    "xx = torch.Tensor(train_data)\n",
    "test_data = torch.Tensor(test_data)\n",
    "yy = torch.LongTensor(train_label_)"
   ]
  },
  {
   "cell_type": "markdown",
   "metadata": {},
   "source": [
    "## Compare"
   ]
  },
  {
   "cell_type": "code",
   "execution_count": 5,
   "metadata": {},
   "outputs": [],
   "source": [
    "input_dim = 784\n",
    "output_dim = 10"
   ]
  },
  {
   "cell_type": "code",
   "execution_count": 6,
   "metadata": {},
   "outputs": [
    {
     "name": "stdout",
     "output_type": "stream",
     "text": [
      "Nets\n"
     ]
    }
   ],
   "source": [
    "\"\"\"\n",
    "settings:\n",
    "1,2,3 -> net = nn.Sequential(\n",
    "    nn.Linear(784, 256),\n",
    "    nn.ReLU(),\n",
    "    nn.Linear(256, 128),\n",
    "    nn.ReLU(),\n",
    "    nn.Linear(128, 64),\n",
    "    nn.ReLU(),\n",
    "    nn.Linear(64, 10),\n",
    ")\n",
    "\n",
    "4,5 -> net = nn.Sequential(\n",
    "    nn.Linear(784, 100),\n",
    "    nn.ReLU(),\n",
    "    nn.Linear(100, 100),\n",
    "    nn.ReLU(),\n",
    "    nn.Linear(100, 100),\n",
    "    nn.ReLU(),\n",
    "    nn.Linear(100, 10),\n",
    ")\n",
    "\n",
    "6, 7 -> net = nn.Sequential(\n",
    "    nn.Linear(784, 200),\n",
    "    nn.ReLU(),\n",
    "    nn.Linear(200, 100),\n",
    "    nn.ReLU(),\n",
    "    nn.Linear(100, 100),\n",
    "    nn.ReLU(),\n",
    "    nn.Linear(100, 100),\n",
    "    nn.ReLU(),\n",
    "    nn.Linear(100, 10),\n",
    ")\n",
    "8, 9 -> net = nn.Sequential(\n",
    "    nn.Linear(784, 400),\n",
    "    nn.ReLU(),\n",
    "    nn.Linear(400, 300),\n",
    "    nn.ReLU(),\n",
    "    nn.Linear(300, 200),\n",
    "    nn.ReLU(),\n",
    "    nn.Linear(200, 100),\n",
    "    nn.ReLU(),\n",
    "    nn.Linear(100, 10),\n",
    ")\n",
    "\"\"\"\n",
    "print(\"Nets\")"
   ]
  },
  {
   "cell_type": "code",
   "execution_count": 7,
   "metadata": {},
   "outputs": [],
   "source": [
    "config0 = [256, 128, 64]\n",
    "config1 = [100, 100, 100]\n",
    "config2 = [200, 100, 100, 100]\n",
    "config3 = [400, 300, 200, 100]\n",
    "config4 = [400, 400]\n",
    "config5 = [500]\n",
    "\n",
    "\n",
    "configs = [config0, config1, config2, config3, config4, config5]\n",
    "\n",
    "layer_dims = config0"
   ]
  },
  {
   "cell_type": "code",
   "execution_count": 8,
   "metadata": {},
   "outputs": [],
   "source": [
    "def get_mlp(config, batch_norm=False, final_activation=None):\n",
    "    config = [input_dim]+config\n",
    "    layers = []\n",
    "    for i in range(len(config)-1):\n",
    "        l = nn.Linear(config[i], config[i+1])\n",
    "        layers.append(l)\n",
    "        if batch_norm:\n",
    "            layers.append(nn.BatchNorm1d(config[i+1]))\n",
    "        layers.append(nn.ReLU())\n",
    "            \n",
    "    l = nn.Linear(config[-1], output_dim)\n",
    "    layers.append(l)\n",
    "    if final_activation:\n",
    "        layers.append(final_activation)\n",
    "    return nn.Sequential(*layers)"
   ]
  },
  {
   "cell_type": "code",
   "execution_count": 9,
   "metadata": {},
   "outputs": [],
   "source": [
    "def remove_batchnorm(net, layer_dims):\n",
    "    net_ = get_mlp(layer_dims)\n",
    "    count = 0\n",
    "    for name, module in list(net._modules.items()):\n",
    "        if isinstance(module, nn.BatchNorm1d):\n",
    "            count += 1\n",
    "            \n",
    "    i = 0\n",
    "    j = 0\n",
    "    print(count)\n",
    "    for _ in range(count):\n",
    "        gamma = net[i+1].weight.data\n",
    "        beta = net[i+1].bias.data\n",
    "        mean = net[i+1].running_mean\n",
    "        var = torch.sqrt(net[i+1].running_var)\n",
    "\n",
    "        w = net[i].weight.data\n",
    "        b = net[i].bias.data\n",
    "\n",
    "        newW = (gamma/var).reshape(-1, 1)*w\n",
    "        newb = beta + gamma/var*(b-mean)\n",
    "\n",
    "        net_[j].weight.data *= 0.\n",
    "        net_[j].bias.data *= 0\n",
    "\n",
    "        net_[j].weight.data += newW\n",
    "        net_[j].bias.data += newb\n",
    "\n",
    "        i = i + 3\n",
    "        j = j + 2\n",
    "        \n",
    "    net_[-1].weight.data *= 0\n",
    "    net_[-1].bias.data *= 0\n",
    "    net_[-1].weight.data += net[-1].weight.data\n",
    "    net_[-1].bias.data += net[-1].bias.data\n",
    "    \n",
    "    return  net_"
   ]
  },
  {
   "cell_type": "markdown",
   "metadata": {},
   "source": [
    "## Oracle Pruning Modified"
   ]
  },
  {
   "cell_type": "code",
   "execution_count": 10,
   "metadata": {},
   "outputs": [],
   "source": [
    "class Importance_TaylorFO_Modified_BN(prunelib.Importance):\n",
    "    \n",
    "    def __init__(self, net, criterion, config=None):\n",
    "        self.net = net\n",
    "        self.config = config\n",
    "        self.criterion = criterion\n",
    "        \n",
    "        self.activations = {}\n",
    "        self.gradients = {}\n",
    "        self.forward_hook = {}\n",
    "        self.backward_hook = {}\n",
    "        self.keys = []\n",
    "        \n",
    "        pass\n",
    "\n",
    "    def add_hook(self):\n",
    "        self.activations = {}\n",
    "        self.gradients = {}\n",
    "        self.forward_hook = {}\n",
    "        self.backward_hook = {}\n",
    "        self.keys = []\n",
    "        \n",
    "        modules = list(self.net._modules.items())\n",
    "        for name, module in modules:\n",
    "            if isinstance(module, torch.nn.BatchNorm1d):\n",
    "#             if isinstance(module, torch.nn.Linear):\n",
    "                hook = module.register_backward_hook(self.capture_gradients)\n",
    "                self.backward_hook[module] = hook\n",
    "                hook = module.register_forward_hook(self.capture_inputs)\n",
    "                self.forward_hook[module] = hook\n",
    "                \n",
    "                self.activations[module] = None\n",
    "                self.gradients[module] = None\n",
    "                self.keys.append(module)\n",
    "                \n",
    "        for name, module in reversed(modules):\n",
    "            if isinstance(module, torch.nn.Linear):\n",
    "                hook = module.register_backward_hook(self.capture_gradients)\n",
    "                self.backward_hook[module] = hook\n",
    "                hook = module.register_forward_hook(self.capture_inputs)\n",
    "                self.forward_hook[module] = hook\n",
    "                \n",
    "                self.activations[module] = None\n",
    "                self.gradients[module] = None\n",
    "                self.keys.append(module)\n",
    "                break\n",
    "                \n",
    "    def remove_hook(self):\n",
    "        for module in self.keys:\n",
    "            hook = self.forward_hook[module]\n",
    "            hook.remove()\n",
    "            hook = self.backward_hook[module]\n",
    "            hook.remove()\n",
    "    \n",
    "    def capture_inputs(self, module, inp, out):\n",
    "        self.activations[module] = out.data\n",
    "        \n",
    "    def capture_gradients(self, module, gradi, grado):\n",
    "        self.gradients[module] = grado[0]\n",
    "        \n",
    "    def gather_inputs_gradients(self, x, t):\n",
    "        self.add_hook()\n",
    "\n",
    "        self.net.zero_grad()\n",
    "        y = self.net(x)\n",
    "        error = self.criterion(y,t)\n",
    "        error.backward()\n",
    "        \n",
    "        self.remove_hook()\n",
    "        return\n",
    "    \n",
    "    \n",
    "    def compute_significance(self, x, t, config=None, normalize=True, layerwise_norm=False):\n",
    "        self.gather_inputs_gradients(x, t)\n",
    "        \n",
    "        if config is None:\n",
    "            if self.config is None:\n",
    "                raise ValueError(\"config is not known. Please specify the config.\") \n",
    "            else:\n",
    "                config = self.config\n",
    "        \n",
    "        ## compute importance score\n",
    "        importance = []\n",
    "        if config[\"grad_rescale\"]:\n",
    "            scaler = torch.norm(self.gradients[self.keys[-1]], p=2, dim=1, keepdim=True) + 1e-5\n",
    "\n",
    "        for module in self.keys[:-1]:\n",
    "            z = self.activations[module] * self.gradients[module]\n",
    "            if config[\"grad_rescale\"]:\n",
    "                z = z / scaler\n",
    "            if config[\"imp_norm\"] == \"abs\":\n",
    "                z = z.abs()\n",
    "            elif config[\"imp_norm\"] == \"sq\":\n",
    "                z = z.pow(2)\n",
    "\n",
    "            z = z.sum(dim=0).abs()\n",
    "            if not config[\"allow_linear\"]:\n",
    "                apnz = torch.sum(self.activations[module] > 0., dim=0, dtype=torch.float)\n",
    "                z = z*(1-apnz) * 4 ## tried on desmos.\n",
    "\n",
    "            if layerwise_norm:\n",
    "                z = z / torch.norm(z, p=2)\n",
    "\n",
    "            importance.append(z)\n",
    "\n",
    "        if normalize:\n",
    "            sums = 0\n",
    "            count = 0\n",
    "            for imp in importance:\n",
    "                sums += imp.sum()\n",
    "                count += len(imp)\n",
    "            divider = sums/count ## total importance is number of neurons\n",
    "            for i in range(len(importance)):\n",
    "                importance[i] = importance[i]/divider\n",
    "            \n",
    "        \n",
    "#         del self.activations[self.keys[-1]]\n",
    "        self.activations = {}\n",
    "        self.gradients = {}\n",
    "        self.forward_hook = {}\n",
    "        self.backward_hook = {}\n",
    "        \n",
    "        return importance\n",
    "    \n",
    "    def get_aponz(self, std=True):\n",
    "        if len(self.activations) < 1:\n",
    "            print(\"Activation has not been accumulated.. run compute_significance function\")\n",
    "            return\n",
    "        aponz = []\n",
    "        std = []\n",
    "        for module in self.keys[:-1]:\n",
    "            apnz = torch.sum(self.activations[module] > 0., dim=0, dtype=torch.float)\n",
    "            aponz.append(apnz)\n",
    "            if std:\n",
    "                std.append(self.activations[module].std())\n",
    "        \n",
    "        if std:\n",
    "            return aponz, std\n",
    "        return aponz\n",
    "\n",
    "        \n",
    "\n",
    "class Importance_Molchanov_BN(prunelib.Importance):\n",
    "\n",
    "    def __init__(self, net, criterion):\n",
    "        self.net = net\n",
    "        self.criterion = criterion\n",
    "        self.keys = []\n",
    "        for name, module in list(self.net._modules.items()):\n",
    "            if isinstance(module, torch.nn.BatchNorm1d):\n",
    "                self.keys.append(module)\n",
    "        \n",
    "    def compute_significance(self, x, t, normalize=True, batch_size=32):\n",
    "\n",
    "        importance = [0]*len(self.keys)\n",
    "        bstrt = list(range(0, len(x), batch_size))\n",
    "        bstop = bstrt[1:]+[len(x)]\n",
    "        for i in tqdm(range(len(bstrt))):\n",
    "            self.net.zero_grad()\n",
    "            y = self.net(x[bstrt[i]:bstop[i]])\n",
    "            error = self.criterion(y,t[bstrt[i]:bstop[i]])\n",
    "            error.backward()\n",
    "        \n",
    "            ## compute importance for each input\n",
    "            for j, module in enumerate(self.keys):\n",
    "                z = (module.weight.data*module.weight.grad +\\\n",
    "                     module.bias.data*module.bias.grad).pow(2)\n",
    "                importance[j] += z\n",
    "                \n",
    "        ## compute mean\n",
    "        for i, module in enumerate(self.keys):\n",
    "            importance[i] = importance[i]/len(bstrt) \n",
    "\n",
    "        if normalize:\n",
    "            sums = 0\n",
    "            count = 0\n",
    "            for imp in importance:\n",
    "                sums += imp.sum()\n",
    "                count += len(imp)\n",
    "            divider = sums/count ## total importance is number of neurons\n",
    "            for i in range(len(importance)):\n",
    "                importance[i] = importance[i]/divider\n",
    "            \n",
    "        return importance"
   ]
  },
  {
   "cell_type": "markdown",
   "metadata": {},
   "source": [
    "## Define pruning function"
   ]
  },
  {
   "cell_type": "code",
   "execution_count": 11,
   "metadata": {},
   "outputs": [],
   "source": [
    "class Pruner():\n",
    "    \n",
    "    def __init__(self, net, prune_mask=None):\n",
    "        self.net = net\n",
    "        self.keys = []\n",
    "        self.prune_mask = {}\n",
    "        self.forward_hook = {}\n",
    "        \n",
    "        self.activations = []\n",
    "        \n",
    "        for name, module in list(self.net._modules.items()):\n",
    "            if isinstance(module, torch.nn.Linear):\n",
    "                self.keys.append(module)\n",
    "\n",
    "        if prune_mask is not None:\n",
    "            self.add_prune_mask(prune_mask)\n",
    "        self.remove_hook()\n",
    "        \n",
    "    def add_prune_mask(self, prune_mask):\n",
    "        for module, pm in zip(self.keys[:-1], prune_mask):\n",
    "            self.prune_mask[module] = pm.type(torch.float)\n",
    "        self.prune_mask[self.keys[-1]] = torch.ones(self.keys[-1].out_features, dtype=torch.float)\n",
    "            \n",
    "        \n",
    "    def prune_neurons(self, module, inp, out):\n",
    "        mask = self.prune_mask[module]\n",
    "        output = out*mask\n",
    "        \n",
    "        self.activations.append(output)\n",
    "        return output\n",
    "        \n",
    "    def forward(self, x, prune_mask=None):\n",
    "        if prune_mask:\n",
    "            self.add_prune_mask(prune_mask)\n",
    "            if len(self.forward_hook) == 0:\n",
    "                self.add_hook()\n",
    "        \n",
    "        y = self.net(x)\n",
    "        self.remove_hook()\n",
    "        return y\n",
    "        \n",
    "        \n",
    "    def add_hook(self):\n",
    "        if len(self.forward_hook) > 0:\n",
    "            self.remove_hook()\n",
    "            \n",
    "        self.forward_hook = {}\n",
    "        for name, module in list(self.net._modules.items()):\n",
    "            if isinstance(module, torch.nn.Linear):\n",
    "                hook = module.register_forward_hook(self.prune_neurons)\n",
    "                self.forward_hook[module] = hook\n",
    "        return\n",
    "        \n",
    "    def remove_hook(self):       \n",
    "        for module in self.forward_hook.keys():\n",
    "            hook = self.forward_hook[module]\n",
    "            hook.remove()\n",
    "        self.forward_hook = {}\n",
    "        self.prune_mask = {}\n",
    "        self.activations = []\n",
    "        return"
   ]
  },
  {
   "cell_type": "code",
   "execution_count": 12,
   "metadata": {},
   "outputs": [],
   "source": [
    "##_start everything"
   ]
  },
  {
   "cell_type": "code",
   "execution_count": 13,
   "metadata": {},
   "outputs": [],
   "source": [
    "expindx = -1"
   ]
  },
  {
   "cell_type": "code",
   "execution_count": 14,
   "metadata": {},
   "outputs": [
    {
     "name": "stdout",
     "output_type": "stream",
     "text": [
      "0 Error =  2.380300760269165\n",
      "Accuracy:  0.6671333333333334\n",
      "1 Error =  1.601159691810608\n",
      "Accuracy:  0.74905\n",
      "2 Error =  1.314244031906128\n",
      "Accuracy:  0.8003166666666667\n",
      "3 Error =  1.1426172256469727\n",
      "Accuracy:  0.8363833333333334\n",
      "4 Error =  1.0185375213623047\n",
      "Accuracy:  0.86195\n",
      "5 Error =  0.9207170009613037\n",
      "Accuracy:  0.8797166666666667\n",
      "6 Error =  0.8393134474754333\n",
      "Accuracy:  0.8923333333333333\n",
      "7 Error =  0.7694326043128967\n",
      "Accuracy:  0.9017333333333334\n",
      "8 Error =  0.7081952691078186\n",
      "Accuracy:  0.9089\n",
      "9 Error =  0.6535472869873047\n",
      "Accuracy:  0.9147\n",
      "10 Error =  0.6040388941764832\n",
      "Accuracy:  0.9185166666666666\n",
      "11 Error =  0.5589151978492737\n",
      "Accuracy:  0.92235\n",
      "12 Error =  0.5178361535072327\n",
      "Accuracy:  0.9262\n",
      "13 Error =  0.4803601801395416\n",
      "Accuracy:  0.9288\n",
      "14 Error =  0.4461052119731903\n",
      "Accuracy:  0.9316\n",
      "15 Error =  0.4148976504802704\n",
      "Accuracy:  0.9346333333333333\n",
      "16 Error =  0.3866208791732788\n",
      "Accuracy:  0.93735\n",
      "17 Error =  0.36102718114852905\n",
      "Accuracy:  0.9401333333333334\n",
      "18 Error =  0.3378131687641144\n",
      "Accuracy:  0.9423833333333334\n",
      "19 Error =  0.3167118430137634\n",
      "Accuracy:  0.94465\n",
      "20 Error =  0.29756584763526917\n",
      "Accuracy:  0.9466\n",
      "21 Error =  0.2802264988422394\n",
      "Accuracy:  0.94825\n",
      "22 Error =  0.2644997537136078\n",
      "Accuracy:  0.94995\n",
      "23 Error =  0.25019243359565735\n",
      "Accuracy:  0.9514\n",
      "24 Error =  0.23708650469779968\n",
      "Accuracy:  0.9529666666666666\n",
      "25 Error =  0.22501304745674133\n",
      "Accuracy:  0.9544666666666667\n",
      "26 Error =  0.21384666860103607\n",
      "Accuracy:  0.9556833333333333\n",
      "27 Error =  0.203504741191864\n",
      "Accuracy:  0.9574166666666667\n",
      "28 Error =  0.19392162561416626\n",
      "Accuracy:  0.9589\n",
      "29 Error =  0.18501584231853485\n",
      "Accuracy:  0.96035\n",
      "30 Error =  0.17670398950576782\n",
      "Accuracy:  0.9618833333333333\n",
      "31 Error =  0.16893768310546875\n",
      "Accuracy:  0.9631833333333333\n",
      "32 Error =  0.16166889667510986\n",
      "Accuracy:  0.9645666666666667\n",
      "33 Error =  0.15485772490501404\n",
      "Accuracy:  0.96605\n",
      "34 Error =  0.1484687477350235\n",
      "Accuracy:  0.96715\n",
      "35 Error =  0.14245977997779846\n",
      "Accuracy:  0.9684333333333334\n",
      "36 Error =  0.13679172098636627\n",
      "Accuracy:  0.9695166666666667\n",
      "37 Error =  0.1314215362071991\n",
      "Accuracy:  0.9706333333333333\n",
      "38 Error =  0.12630948424339294\n",
      "Accuracy:  0.9718333333333333\n",
      "39 Error =  0.12144185602664948\n",
      "Accuracy:  0.9731666666666666\n",
      "40 Error =  0.11679863929748535\n",
      "Accuracy:  0.97415\n",
      "41 Error =  0.1123712882399559\n",
      "Accuracy:  0.97525\n",
      "42 Error =  0.10815104097127914\n",
      "Accuracy:  0.9762166666666666\n",
      "43 Error =  0.10412612557411194\n",
      "Accuracy:  0.9769666666666666\n",
      "44 Error =  0.10027831792831421\n",
      "Accuracy:  0.97785\n",
      "45 Error =  0.09659572690725327\n",
      "Accuracy:  0.97895\n",
      "46 Error =  0.09307675063610077\n",
      "Accuracy:  0.9799\n",
      "47 Error =  0.08970947563648224\n",
      "Accuracy:  0.98075\n",
      "48 Error =  0.08647529035806656\n",
      "Accuracy:  0.9814\n",
      "49 Error =  0.08336175978183746\n",
      "Accuracy:  0.9822833333333333\n",
      "50 Error =  0.08036601543426514\n",
      "Accuracy:  0.9828333333333333\n",
      "51 Error =  0.07749100029468536\n",
      "Accuracy:  0.9837\n",
      "52 Error =  0.07473434507846832\n",
      "Accuracy:  0.9844333333333334\n",
      "53 Error =  0.07208826392889023\n",
      "Accuracy:  0.9851666666666666\n",
      "54 Error =  0.06954770535230637\n",
      "Accuracy:  0.9859666666666667\n",
      "55 Error =  0.06710752844810486\n",
      "Accuracy:  0.9866166666666667\n",
      "56 Error =  0.06476320326328278\n",
      "Accuracy:  0.98705\n",
      "57 Error =  0.06251141428947449\n",
      "Accuracy:  0.9877666666666667\n",
      "58 Error =  0.06034282594919205\n",
      "Accuracy:  0.98825\n",
      "59 Error =  0.05825311318039894\n",
      "Accuracy:  0.9888833333333333\n",
      "60 Error =  0.05623699724674225\n",
      "Accuracy:  0.9895333333333334\n",
      "61 Error =  0.05428881198167801\n",
      "Accuracy:  0.9900833333333333\n",
      "62 Error =  0.05240613594651222\n",
      "Accuracy:  0.9906666666666667\n",
      "63 Error =  0.05058060213923454\n",
      "Accuracy:  0.9911\n",
      "64 Error =  0.04881313070654869\n",
      "Accuracy:  0.9915333333333334\n",
      "65 Error =  0.04710455611348152\n",
      "Accuracy:  0.99195\n",
      "66 Error =  0.04545389488339424\n",
      "Accuracy:  0.9923166666666666\n",
      "67 Error =  0.04385874420404434\n",
      "Accuracy:  0.9927666666666667\n",
      "68 Error =  0.042317796498537064\n",
      "Accuracy:  0.9932\n",
      "69 Error =  0.040829163044691086\n",
      "Accuracy:  0.9935833333333334\n",
      "70 Error =  0.039391979575157166\n",
      "Accuracy:  0.9941833333333333\n",
      "71 Error =  0.03801010921597481\n",
      "Accuracy:  0.9946166666666667\n",
      "72 Error =  0.036679960787296295\n",
      "Accuracy:  0.9949333333333333\n",
      "73 Error =  0.03539828956127167\n",
      "Accuracy:  0.9952833333333333\n",
      "74 Error =  0.03416324406862259\n",
      "Accuracy:  0.9955833333333334\n",
      "75 Error =  0.0329735204577446\n",
      "Accuracy:  0.9958833333333333\n",
      "76 Error =  0.031829532235860825\n",
      "Accuracy:  0.9961666666666666\n",
      "77 Error =  0.030728837475180626\n",
      "Accuracy:  0.9964333333333333\n",
      "78 Error =  0.029669297859072685\n",
      "Accuracy:  0.9967\n",
      "79 Error =  0.028646264225244522\n",
      "Accuracy:  0.9969\n",
      "80 Error =  0.027657445520162582\n",
      "Accuracy:  0.9971166666666667\n",
      "81 Error =  0.026703348383307457\n",
      "Accuracy:  0.9972833333333333\n",
      "82 Error =  0.025784842669963837\n",
      "Accuracy:  0.9974\n",
      "83 Error =  0.024900265038013458\n",
      "Accuracy:  0.99765\n",
      "84 Error =  0.02404691092669964\n",
      "Accuracy:  0.99785\n",
      "85 Error =  0.02322491817176342\n",
      "Accuracy:  0.998\n",
      "86 Error =  0.022434305399656296\n",
      "Accuracy:  0.9981\n",
      "87 Error =  0.02167385071516037\n",
      "Accuracy:  0.9981833333333333\n",
      "88 Error =  0.020943550392985344\n",
      "Accuracy:  0.9982666666666666\n",
      "89 Error =  0.020241836085915565\n",
      "Accuracy:  0.9983333333333333\n",
      "90 Error =  0.019568057730793953\n",
      "Accuracy:  0.9984666666666666\n",
      "91 Error =  0.018922362476587296\n",
      "Accuracy:  0.9987\n",
      "92 Error =  0.01830136589705944\n",
      "Accuracy:  0.9988166666666667\n",
      "93 Error =  0.017705852165818214\n",
      "Accuracy:  0.9988833333333333\n",
      "94 Error =  0.017134657129645348\n",
      "Accuracy:  0.9989333333333333\n",
      "95 Error =  0.01658657379448414\n",
      "Accuracy:  0.9990333333333333\n",
      "96 Error =  0.016060898080468178\n",
      "Accuracy:  0.9990833333333333\n",
      "97 Error =  0.01555684581398964\n",
      "Accuracy:  0.9992\n",
      "98 Error =  0.01507275179028511\n",
      "Accuracy:  0.9992666666666666\n",
      "99 Error =  0.014608334749937057\n",
      "Accuracy:  0.9992833333333333\n",
      "3\n",
      "Accuracy noBN:  0.9993166666666666\n",
      "taylorfo\n",
      "taylorfo_abs\n",
      "taylorfo_sq\n"
     ]
    },
    {
     "name": "stderr",
     "output_type": "stream",
     "text": [
      "  0%|          | 5/1875 [00:00<00:37, 49.21it/s]"
     ]
    },
    {
     "name": "stdout",
     "output_type": "stream",
     "text": [
      "Molchanov_group\n"
     ]
    },
    {
     "name": "stderr",
     "output_type": "stream",
     "text": [
      "100%|██████████| 1875/1875 [00:13<00:00, 137.33it/s]\n",
      "  1%|          | 14/1875 [00:00<00:14, 131.51it/s]"
     ]
    },
    {
     "name": "stdout",
     "output_type": "stream",
     "text": [
      "Molchanov_BN\n"
     ]
    },
    {
     "name": "stderr",
     "output_type": "stream",
     "text": [
      "100%|██████████| 1875/1875 [00:12<00:00, 146.79it/s]\n",
      "  0%|          | 0/80 [00:00<?, ?it/s]"
     ]
    },
    {
     "name": "stdout",
     "output_type": "stream",
     "text": [
      "taylorfo\n"
     ]
    },
    {
     "name": "stderr",
     "output_type": "stream",
     "text": [
      "100%|██████████| 80/80 [01:31<00:00,  1.14s/it]\n",
      "  0%|          | 0/80 [00:00<?, ?it/s]"
     ]
    },
    {
     "name": "stdout",
     "output_type": "stream",
     "text": [
      "taylorfo_abs\n"
     ]
    },
    {
     "name": "stderr",
     "output_type": "stream",
     "text": [
      "100%|██████████| 80/80 [01:28<00:00,  1.11s/it]\n",
      "  0%|          | 0/80 [00:00<?, ?it/s]"
     ]
    },
    {
     "name": "stdout",
     "output_type": "stream",
     "text": [
      "taylorfo_sq\n"
     ]
    },
    {
     "name": "stderr",
     "output_type": "stream",
     "text": [
      "100%|██████████| 80/80 [01:29<00:00,  1.12s/it]\n",
      "  0%|          | 0/80 [00:00<?, ?it/s]"
     ]
    },
    {
     "name": "stdout",
     "output_type": "stream",
     "text": [
      "Molchanov_group\n"
     ]
    },
    {
     "name": "stderr",
     "output_type": "stream",
     "text": [
      "100%|██████████| 80/80 [01:29<00:00,  1.12s/it]\n",
      "  0%|          | 0/80 [00:00<?, ?it/s]"
     ]
    },
    {
     "name": "stdout",
     "output_type": "stream",
     "text": [
      "Molchanov_BN\n"
     ]
    },
    {
     "name": "stderr",
     "output_type": "stream",
     "text": [
      "100%|██████████| 80/80 [01:29<00:00,  1.12s/it]\n"
     ]
    },
    {
     "name": "stdout",
     "output_type": "stream",
     "text": [
      "taylorfo\n",
      "taylorfo_abs\n",
      "taylorfo_sq\n"
     ]
    },
    {
     "name": "stderr",
     "output_type": "stream",
     "text": [
      "  2%|▏         | 39/1875 [00:00<00:04, 388.23it/s]"
     ]
    },
    {
     "name": "stdout",
     "output_type": "stream",
     "text": [
      "Molchanov_group\n"
     ]
    },
    {
     "name": "stderr",
     "output_type": "stream",
     "text": [
      "100%|██████████| 1875/1875 [00:05<00:00, 357.65it/s]\n",
      "  0%|          | 0/80 [00:00<?, ?it/s]"
     ]
    },
    {
     "name": "stdout",
     "output_type": "stream",
     "text": [
      "taylorfo\n"
     ]
    },
    {
     "name": "stderr",
     "output_type": "stream",
     "text": [
      "100%|██████████| 80/80 [00:28<00:00,  2.84it/s]\n",
      "  0%|          | 0/80 [00:00<?, ?it/s]"
     ]
    },
    {
     "name": "stdout",
     "output_type": "stream",
     "text": [
      "taylorfo_abs\n"
     ]
    },
    {
     "name": "stderr",
     "output_type": "stream",
     "text": [
      "100%|██████████| 80/80 [00:28<00:00,  2.78it/s]\n",
      "  0%|          | 0/80 [00:00<?, ?it/s]"
     ]
    },
    {
     "name": "stdout",
     "output_type": "stream",
     "text": [
      "taylorfo_sq\n"
     ]
    },
    {
     "name": "stderr",
     "output_type": "stream",
     "text": [
      "100%|██████████| 80/80 [00:29<00:00,  2.67it/s]\n",
      "  0%|          | 0/80 [00:00<?, ?it/s]"
     ]
    },
    {
     "name": "stdout",
     "output_type": "stream",
     "text": [
      "Molchanov_group\n"
     ]
    },
    {
     "name": "stderr",
     "output_type": "stream",
     "text": [
      "100%|██████████| 80/80 [00:28<00:00,  2.79it/s]\n"
     ]
    },
    {
     "name": "stdout",
     "output_type": "stream",
     "text": [
      "0 Error =  2.3606786727905273\n",
      "Accuracy:  0.6008666666666667\n",
      "1 Error =  1.728194236755371\n",
      "Accuracy:  0.7199\n",
      "2 Error =  1.4097765684127808\n",
      "Accuracy:  0.7581333333333333\n",
      "3 Error =  1.1881825923919678\n",
      "Accuracy:  0.79055\n",
      "4 Error =  1.0256785154342651\n",
      "Accuracy:  0.8250666666666666\n",
      "5 Error =  0.8987904191017151\n",
      "Accuracy:  0.8571833333333333\n",
      "6 Error =  0.7957369685173035\n",
      "Accuracy:  0.8786333333333334\n",
      "7 Error =  0.7103487253189087\n",
      "Accuracy:  0.8914666666666666\n",
      "8 Error =  0.6383370161056519\n",
      "Accuracy:  0.8992833333333333\n",
      "9 Error =  0.5763058066368103\n",
      "Accuracy:  0.9048166666666667\n",
      "10 Error =  0.5224504470825195\n",
      "Accuracy:  0.9085\n",
      "11 Error =  0.47590088844299316\n",
      "Accuracy:  0.9128\n",
      "12 Error =  0.43596014380455017\n",
      "Accuracy:  0.9158\n",
      "13 Error =  0.4017631411552429\n",
      "Accuracy:  0.91915\n",
      "14 Error =  0.372287780046463\n",
      "Accuracy:  0.9224\n",
      "15 Error =  0.3466564118862152\n",
      "Accuracy:  0.9256166666666666\n",
      "16 Error =  0.32413533329963684\n",
      "Accuracy:  0.9284333333333333\n",
      "17 Error =  0.3041439652442932\n",
      "Accuracy:  0.9312333333333334\n",
      "18 Error =  0.28626930713653564\n",
      "Accuracy:  0.9336\n",
      "19 Error =  0.27022984623908997\n",
      "Accuracy:  0.9364166666666667\n",
      "20 Error =  0.25582459568977356\n",
      "Accuracy:  0.9390666666666667\n",
      "21 Error =  0.24288344383239746\n",
      "Accuracy:  0.9411833333333334\n",
      "22 Error =  0.2312643826007843\n",
      "Accuracy:  0.94335\n",
      "23 Error =  0.22082632780075073\n",
      "Accuracy:  0.9451166666666667\n",
      "24 Error =  0.21138544380664825\n",
      "Accuracy:  0.9468333333333333\n",
      "25 Error =  0.2027670443058014\n",
      "Accuracy:  0.9484833333333333\n",
      "26 Error =  0.1948203444480896\n",
      "Accuracy:  0.9503666666666667\n",
      "27 Error =  0.18742480874061584\n",
      "Accuracy:  0.9514833333333333\n",
      "28 Error =  0.18052463233470917\n",
      "Accuracy:  0.9529333333333333\n",
      "29 Error =  0.17408967018127441\n",
      "Accuracy:  0.9546166666666667\n",
      "30 Error =  0.16808080673217773\n",
      "Accuracy:  0.9560666666666666\n",
      "31 Error =  0.1624508798122406\n",
      "Accuracy:  0.9573666666666667\n",
      "32 Error =  0.15713749825954437\n",
      "Accuracy:  0.95875\n",
      "33 Error =  0.1521092802286148\n",
      "Accuracy:  0.96025\n",
      "34 Error =  0.14731858670711517\n",
      "Accuracy:  0.9613666666666667\n",
      "35 Error =  0.14274287223815918\n",
      "Accuracy:  0.9624166666666667\n",
      "36 Error =  0.13838157057762146\n",
      "Accuracy:  0.96335\n",
      "37 Error =  0.1342209279537201\n",
      "Accuracy:  0.96455\n",
      "38 Error =  0.13025301694869995\n",
      "Accuracy:  0.9654666666666667\n",
      "39 Error =  0.12645159661769867\n",
      "Accuracy:  0.9668\n",
      "40 Error =  0.12280309200286865\n",
      "Accuracy:  0.9678166666666667\n",
      "41 Error =  0.11929883807897568\n",
      "Accuracy:  0.9686833333333333\n",
      "42 Error =  0.11591450870037079\n",
      "Accuracy:  0.9697166666666667\n",
      "43 Error =  0.11264760047197342\n",
      "Accuracy:  0.97035\n",
      "44 Error =  0.1095016747713089\n",
      "Accuracy:  0.9709666666666666\n",
      "45 Error =  0.10648304224014282\n",
      "Accuracy:  0.9719166666666667\n",
      "46 Error =  0.10358972102403641\n",
      "Accuracy:  0.9727\n",
      "47 Error =  0.10079513490200043\n",
      "Accuracy:  0.9734\n",
      "48 Error =  0.09808758646249771\n",
      "Accuracy:  0.9745333333333334\n",
      "49 Error =  0.09545820206403732\n",
      "Accuracy:  0.9753\n",
      "50 Error =  0.09290128946304321\n",
      "Accuracy:  0.976\n",
      "51 Error =  0.09042210131883621\n",
      "Accuracy:  0.9767333333333333\n",
      "52 Error =  0.08803006261587143\n",
      "Accuracy:  0.9774833333333334\n",
      "53 Error =  0.08572431653738022\n",
      "Accuracy:  0.9779166666666667\n",
      "54 Error =  0.0834970623254776\n",
      "Accuracy:  0.97835\n",
      "55 Error =  0.08133568614721298\n",
      "Accuracy:  0.9791666666666666\n",
      "56 Error =  0.0792265459895134\n",
      "Accuracy:  0.9799\n",
      "57 Error =  0.07716308534145355\n",
      "Accuracy:  0.9804833333333334\n",
      "58 Error =  0.07515163719654083\n",
      "Accuracy:  0.98125\n",
      "59 Error =  0.07319563627243042\n",
      "Accuracy:  0.9819166666666667\n",
      "60 Error =  0.07129451632499695\n",
      "Accuracy:  0.9823666666666667\n",
      "61 Error =  0.06944866478443146\n",
      "Accuracy:  0.9829666666666667\n",
      "62 Error =  0.06765424460172653\n",
      "Accuracy:  0.9835833333333334\n",
      "63 Error =  0.06590735912322998\n",
      "Accuracy:  0.98415\n",
      "64 Error =  0.06420676410198212\n",
      "Accuracy:  0.9847333333333333\n",
      "65 Error =  0.06254931539297104\n",
      "Accuracy:  0.98515\n",
      "66 Error =  0.06093483045697212\n",
      "Accuracy:  0.9855\n",
      "67 Error =  0.05936180800199509\n",
      "Accuracy:  0.986\n",
      "68 Error =  0.05782521143555641\n",
      "Accuracy:  0.9863666666666666\n",
      "69 Error =  0.05632416903972626\n",
      "Accuracy:  0.9868333333333333\n",
      "70 Error =  0.054859284311532974\n",
      "Accuracy:  0.9872666666666666\n",
      "71 Error =  0.05343068018555641\n",
      "Accuracy:  0.9878166666666667\n",
      "72 Error =  0.052033789455890656\n",
      "Accuracy:  0.9882333333333333\n",
      "73 Error =  0.05066503584384918\n",
      "Accuracy:  0.98875\n",
      "74 Error =  0.04932490363717079\n",
      "Accuracy:  0.9891\n",
      "75 Error =  0.04801518842577934\n",
      "Accuracy:  0.98955\n",
      "76 Error =  0.04673765227198601\n",
      "Accuracy:  0.98995\n",
      "77 Error =  0.04549238458275795\n",
      "Accuracy:  0.9903166666666666\n",
      "78 Error =  0.04427723214030266\n",
      "Accuracy:  0.9908\n",
      "79 Error =  0.043090492486953735\n",
      "Accuracy:  0.99125\n",
      "80 Error =  0.04193092882633209\n",
      "Accuracy:  0.9914833333333334\n",
      "81 Error =  0.040801409631967545\n",
      "Accuracy:  0.9918666666666667\n",
      "82 Error =  0.03970237448811531\n",
      "Accuracy:  0.9920166666666667\n",
      "83 Error =  0.03863196447491646\n",
      "Accuracy:  0.9924\n",
      "84 Error =  0.03758778050541878\n",
      "Accuracy:  0.9927166666666667\n",
      "85 Error =  0.03656876087188721\n",
      "Accuracy:  0.99305\n",
      "86 Error =  0.03557397797703743\n",
      "Accuracy:  0.9934166666666666\n",
      "87 Error =  0.03460429236292839\n",
      "Accuracy:  0.9936666666666667\n",
      "88 Error =  0.033657342195510864\n",
      "Accuracy:  0.994\n",
      "89 Error =  0.03273513540625572\n",
      "Accuracy:  0.9942333333333333\n",
      "90 Error =  0.03183620050549507\n",
      "Accuracy:  0.9945666666666667\n",
      "91 Error =  0.03096144087612629\n",
      "Accuracy:  0.9948166666666667\n",
      "92 Error =  0.03010847605764866\n",
      "Accuracy:  0.9952\n",
      "93 Error =  0.02927752397954464\n",
      "Accuracy:  0.9955\n",
      "94 Error =  0.02846706472337246\n",
      "Accuracy:  0.9956166666666667\n",
      "95 Error =  0.027677059173583984\n",
      "Accuracy:  0.99575\n",
      "96 Error =  0.02690640091896057\n",
      "Accuracy:  0.9958666666666667\n",
      "97 Error =  0.026156868785619736\n",
      "Accuracy:  0.9961166666666667\n",
      "98 Error =  0.025428198277950287\n",
      "Accuracy:  0.9962833333333333\n",
      "99 Error =  0.024720583111047745\n",
      "Accuracy:  0.9965333333333334\n",
      "3\n",
      "Accuracy noBN:  0.9964666666666666\n",
      "taylorfo\n",
      "taylorfo_abs\n",
      "taylorfo_sq\n"
     ]
    },
    {
     "name": "stderr",
     "output_type": "stream",
     "text": [
      "  1%|          | 20/1875 [00:00<00:09, 196.26it/s]"
     ]
    },
    {
     "name": "stdout",
     "output_type": "stream",
     "text": [
      "Molchanov_group\n"
     ]
    },
    {
     "name": "stderr",
     "output_type": "stream",
     "text": [
      "100%|██████████| 1875/1875 [00:09<00:00, 190.77it/s]\n",
      "  1%|          | 18/1875 [00:00<00:10, 172.70it/s]"
     ]
    },
    {
     "name": "stdout",
     "output_type": "stream",
     "text": [
      "Molchanov_BN\n"
     ]
    },
    {
     "name": "stderr",
     "output_type": "stream",
     "text": [
      "100%|██████████| 1875/1875 [00:10<00:00, 185.60it/s]\n",
      "  0%|          | 0/80 [00:00<?, ?it/s]"
     ]
    },
    {
     "name": "stdout",
     "output_type": "stream",
     "text": [
      "taylorfo\n"
     ]
    },
    {
     "name": "stderr",
     "output_type": "stream",
     "text": [
      "100%|██████████| 80/80 [00:57<00:00,  1.39it/s]\n",
      "  0%|          | 0/80 [00:00<?, ?it/s]"
     ]
    },
    {
     "name": "stdout",
     "output_type": "stream",
     "text": [
      "taylorfo_abs\n"
     ]
    },
    {
     "name": "stderr",
     "output_type": "stream",
     "text": [
      "100%|██████████| 80/80 [00:57<00:00,  1.39it/s]\n",
      "  0%|          | 0/80 [00:00<?, ?it/s]"
     ]
    },
    {
     "name": "stdout",
     "output_type": "stream",
     "text": [
      "taylorfo_sq\n"
     ]
    },
    {
     "name": "stderr",
     "output_type": "stream",
     "text": [
      "100%|██████████| 80/80 [00:57<00:00,  1.40it/s]\n",
      "  0%|          | 0/80 [00:00<?, ?it/s]"
     ]
    },
    {
     "name": "stdout",
     "output_type": "stream",
     "text": [
      "Molchanov_group\n"
     ]
    },
    {
     "name": "stderr",
     "output_type": "stream",
     "text": [
      "100%|██████████| 80/80 [00:57<00:00,  1.40it/s]\n",
      "  0%|          | 0/80 [00:00<?, ?it/s]"
     ]
    },
    {
     "name": "stdout",
     "output_type": "stream",
     "text": [
      "Molchanov_BN\n"
     ]
    },
    {
     "name": "stderr",
     "output_type": "stream",
     "text": [
      "100%|██████████| 80/80 [00:57<00:00,  1.39it/s]\n"
     ]
    },
    {
     "name": "stdout",
     "output_type": "stream",
     "text": [
      "taylorfo\n",
      "taylorfo_abs\n",
      "taylorfo_sq\n"
     ]
    },
    {
     "name": "stderr",
     "output_type": "stream",
     "text": [
      "  2%|▏         | 45/1875 [00:00<00:04, 446.35it/s]"
     ]
    },
    {
     "name": "stdout",
     "output_type": "stream",
     "text": [
      "Molchanov_group\n"
     ]
    },
    {
     "name": "stderr",
     "output_type": "stream",
     "text": [
      "100%|██████████| 1875/1875 [00:04<00:00, 453.96it/s]\n",
      "  1%|▏         | 1/80 [00:00<00:14,  5.34it/s]"
     ]
    },
    {
     "name": "stdout",
     "output_type": "stream",
     "text": [
      "taylorfo\n"
     ]
    },
    {
     "name": "stderr",
     "output_type": "stream",
     "text": [
      "100%|██████████| 80/80 [00:14<00:00,  5.53it/s]\n",
      "  1%|▏         | 1/80 [00:00<00:14,  5.27it/s]"
     ]
    },
    {
     "name": "stdout",
     "output_type": "stream",
     "text": [
      "taylorfo_abs\n"
     ]
    },
    {
     "name": "stderr",
     "output_type": "stream",
     "text": [
      "100%|██████████| 80/80 [00:14<00:00,  5.60it/s]\n",
      "  0%|          | 0/80 [00:00<?, ?it/s]"
     ]
    },
    {
     "name": "stdout",
     "output_type": "stream",
     "text": [
      "taylorfo_sq\n"
     ]
    },
    {
     "name": "stderr",
     "output_type": "stream",
     "text": [
      "100%|██████████| 80/80 [00:14<00:00,  5.61it/s]\n",
      "  1%|▏         | 1/80 [00:00<00:14,  5.53it/s]"
     ]
    },
    {
     "name": "stdout",
     "output_type": "stream",
     "text": [
      "Molchanov_group\n"
     ]
    },
    {
     "name": "stderr",
     "output_type": "stream",
     "text": [
      "100%|██████████| 80/80 [00:14<00:00,  5.51it/s]\n"
     ]
    },
    {
     "name": "stdout",
     "output_type": "stream",
     "text": [
      "0 Error =  2.3627002239227295\n",
      "Accuracy:  0.6007\n",
      "1 Error =  1.71243155002594\n",
      "Accuracy:  0.7745333333333333\n",
      "2 Error =  1.3677042722702026\n",
      "Accuracy:  0.8284166666666667\n",
      "3 Error =  1.1379826068878174\n",
      "Accuracy:  0.8587166666666667\n",
      "4 Error =  0.9613863825798035\n",
      "Accuracy:  0.8769666666666667\n",
      "5 Error =  0.8164313435554504\n",
      "Accuracy:  0.8906833333333334\n",
      "6 Error =  0.6992300748825073\n",
      "Accuracy:  0.9012666666666667\n",
      "7 Error =  0.6054764986038208\n",
      "Accuracy:  0.9085833333333333\n",
      "8 Error =  0.5303746461868286\n",
      "Accuracy:  0.9147166666666666\n",
      "9 Error =  0.4697955548763275\n",
      "Accuracy:  0.9200166666666667\n",
      "10 Error =  0.4201180338859558\n",
      "Accuracy:  0.9251333333333334\n",
      "11 Error =  0.37853291630744934\n",
      "Accuracy:  0.9296\n",
      "12 Error =  0.34342825412750244\n",
      "Accuracy:  0.9333166666666667\n",
      "13 Error =  0.31380459666252136\n",
      "Accuracy:  0.9369166666666666\n",
      "14 Error =  0.28865745663642883\n",
      "Accuracy:  0.9404666666666667\n",
      "15 Error =  0.26695194840431213\n",
      "Accuracy:  0.9435\n",
      "16 Error =  0.2479027807712555\n",
      "Accuracy:  0.9464333333333333\n",
      "17 Error =  0.23106564581394196\n",
      "Accuracy:  0.9489333333333333\n",
      "18 Error =  0.21626920998096466\n",
      "Accuracy:  0.9508833333333333\n",
      "19 Error =  0.20329327881336212\n",
      "Accuracy:  0.9523833333333334\n",
      "20 Error =  0.19178417325019836\n",
      "Accuracy:  0.9545\n",
      "21 Error =  0.18138402700424194\n",
      "Accuracy:  0.95665\n",
      "22 Error =  0.17185017466545105\n",
      "Accuracy:  0.9584833333333334\n",
      "23 Error =  0.16311967372894287\n",
      "Accuracy:  0.9601\n",
      "24 Error =  0.15512441098690033\n",
      "Accuracy:  0.9620166666666666\n",
      "25 Error =  0.1477518081665039\n",
      "Accuracy:  0.9636166666666667\n",
      "26 Error =  0.14088541269302368\n",
      "Accuracy:  0.9651333333333333\n",
      "27 Error =  0.1344456672668457\n",
      "Accuracy:  0.9665\n",
      "28 Error =  0.1284199208021164\n",
      "Accuracy:  0.9681666666666666\n",
      "29 Error =  0.1227780282497406\n",
      "Accuracy:  0.9691666666666666\n",
      "30 Error =  0.11746832728385925\n",
      "Accuracy:  0.9706833333333333\n",
      "31 Error =  0.11242476850748062\n",
      "Accuracy:  0.97195\n",
      "32 Error =  0.10760683566331863\n",
      "Accuracy:  0.9734666666666667\n",
      "33 Error =  0.1030193492770195\n",
      "Accuracy:  0.9744833333333334\n",
      "34 Error =  0.09868968278169632\n",
      "Accuracy:  0.9755666666666667\n",
      "35 Error =  0.09460250288248062\n",
      "Accuracy:  0.97685\n",
      "36 Error =  0.09070612490177155\n",
      "Accuracy:  0.9778666666666667\n",
      "37 Error =  0.0869407132267952\n",
      "Accuracy:  0.9787666666666667\n",
      "38 Error =  0.08331559598445892\n",
      "Accuracy:  0.9798166666666667\n",
      "39 Error =  0.07983206957578659\n",
      "Accuracy:  0.9807166666666667\n",
      "40 Error =  0.07651086151599884\n",
      "Accuracy:  0.9815833333333334\n",
      "41 Error =  0.0733332633972168\n",
      "Accuracy:  0.9825333333333334\n",
      "42 Error =  0.07029147446155548\n",
      "Accuracy:  0.98325\n",
      "43 Error =  0.06738251447677612\n",
      "Accuracy:  0.9840833333333333\n",
      "44 Error =  0.06460589915513992\n",
      "Accuracy:  0.98475\n",
      "45 Error =  0.06194543093442917\n",
      "Accuracy:  0.9856\n",
      "46 Error =  0.059392329305410385\n",
      "Accuracy:  0.9865666666666667\n",
      "47 Error =  0.05693596601486206\n",
      "Accuracy:  0.9872166666666666\n",
      "48 Error =  0.05457388982176781\n",
      "Accuracy:  0.9878666666666667\n",
      "49 Error =  0.05229901522397995\n",
      "Accuracy:  0.9884666666666667\n",
      "50 Error =  0.0501151941716671\n",
      "Accuracy:  0.9891166666666666\n",
      "51 Error =  0.04800526052713394\n",
      "Accuracy:  0.9898166666666667\n",
      "52 Error =  0.04595310613512993\n",
      "Accuracy:  0.99035\n",
      "53 Error =  0.04396988824009895\n",
      "Accuracy:  0.991\n",
      "54 Error =  0.042071595788002014\n",
      "Accuracy:  0.9914\n",
      "55 Error =  0.040255412459373474\n",
      "Accuracy:  0.99195\n",
      "56 Error =  0.038508038967847824\n",
      "Accuracy:  0.9924833333333334\n",
      "57 Error =  0.03682563081383705\n",
      "Accuracy:  0.9929833333333333\n",
      "58 Error =  0.035210683941841125\n",
      "Accuracy:  0.9936333333333334\n",
      "59 Error =  0.03366836905479431\n",
      "Accuracy:  0.9941333333333333\n",
      "60 Error =  0.03219953924417496\n",
      "Accuracy:  0.9944\n",
      "61 Error =  0.030797291547060013\n",
      "Accuracy:  0.9948\n",
      "62 Error =  0.02944657951593399\n",
      "Accuracy:  0.9950666666666667\n",
      "63 Error =  0.02815050072968006\n",
      "Accuracy:  0.9954833333333334\n",
      "64 Error =  0.026909148320555687\n",
      "Accuracy:  0.9958166666666667\n",
      "65 Error =  0.025721807032823563\n",
      "Accuracy:  0.9962\n",
      "66 Error =  0.024589749053120613\n",
      "Accuracy:  0.9964833333333334\n",
      "67 Error =  0.023511549457907677\n",
      "Accuracy:  0.9967333333333334\n",
      "68 Error =  0.02248184196650982\n",
      "Accuracy:  0.99695\n",
      "69 Error =  0.02149701677262783\n",
      "Accuracy:  0.9973\n",
      "70 Error =  0.02055635116994381\n",
      "Accuracy:  0.9974166666666666\n",
      "71 Error =  0.01965850405395031\n",
      "Accuracy:  0.9977166666666667\n",
      "72 Error =  0.01880325749516487\n",
      "Accuracy:  0.9979833333333333\n",
      "73 Error =  0.01798439584672451\n",
      "Accuracy:  0.9982166666666666\n",
      "74 Error =  0.01720290444791317\n",
      "Accuracy:  0.9983166666666666\n",
      "75 Error =  0.016458934172987938\n",
      "Accuracy:  0.9984833333333333\n",
      "76 Error =  0.015749571844935417\n",
      "Accuracy:  0.9985333333333334\n",
      "77 Error =  0.01507300604134798\n",
      "Accuracy:  0.9986166666666667\n",
      "78 Error =  0.014428486116230488\n",
      "Accuracy:  0.9988166666666667\n",
      "79 Error =  0.013815309852361679\n",
      "Accuracy:  0.9989\n",
      "80 Error =  0.013233240693807602\n",
      "Accuracy:  0.9989833333333333\n",
      "81 Error =  0.012681476771831512\n",
      "Accuracy:  0.9990333333333333\n",
      "82 Error =  0.01215843204408884\n",
      "Accuracy:  0.9991166666666667\n",
      "83 Error =  0.011662151664495468\n",
      "Accuracy:  0.9991666666666666\n",
      "84 Error =  0.01119084469974041\n",
      "Accuracy:  0.9992333333333333\n",
      "85 Error =  0.010745947249233723\n",
      "Accuracy:  0.9993166666666666\n",
      "86 Error =  0.01032405998557806\n",
      "Accuracy:  0.9993666666666666\n",
      "87 Error =  0.009923901408910751\n",
      "Accuracy:  0.9994166666666666\n",
      "88 Error =  0.009543219581246376\n",
      "Accuracy:  0.9994833333333333\n",
      "89 Error =  0.009183275513350964\n",
      "Accuracy:  0.99955\n",
      "90 Error =  0.008842655457556248\n",
      "Accuracy:  0.9996\n",
      "91 Error =  0.008520381525158882\n",
      "Accuracy:  0.9996666666666667\n",
      "92 Error =  0.008215531706809998\n",
      "Accuracy:  0.9996666666666667\n",
      "93 Error =  0.007927147671580315\n",
      "Accuracy:  0.9997\n",
      "94 Error =  0.007654279470443726\n",
      "Accuracy:  0.9997333333333334\n",
      "95 Error =  0.007395816966891289\n",
      "Accuracy:  0.99975\n",
      "96 Error =  0.0071501340717077255\n",
      "Accuracy:  0.99975\n",
      "97 Error =  0.006916963029652834\n",
      "Accuracy:  0.99975\n",
      "98 Error =  0.006695343181490898\n",
      "Accuracy:  0.99975\n",
      "99 Error =  0.0064847031608223915\n",
      "Accuracy:  0.99975\n",
      "4\n",
      "Accuracy noBN:  0.9997666666666667\n",
      "taylorfo\n",
      "taylorfo_abs\n",
      "taylorfo_sq\n"
     ]
    },
    {
     "name": "stderr",
     "output_type": "stream",
     "text": [
      "  1%|          | 13/1875 [00:00<00:14, 125.00it/s]"
     ]
    },
    {
     "name": "stdout",
     "output_type": "stream",
     "text": [
      "Molchanov_group\n"
     ]
    },
    {
     "name": "stderr",
     "output_type": "stream",
     "text": [
      "100%|██████████| 1875/1875 [00:15<00:00, 118.84it/s]\n",
      "  0%|          | 9/1875 [00:00<00:21, 88.76it/s]"
     ]
    },
    {
     "name": "stdout",
     "output_type": "stream",
     "text": [
      "Molchanov_BN\n"
     ]
    },
    {
     "name": "stderr",
     "output_type": "stream",
     "text": [
      "100%|██████████| 1875/1875 [00:15<00:00, 121.70it/s]\n",
      "  0%|          | 0/80 [00:00<?, ?it/s]"
     ]
    },
    {
     "name": "stdout",
     "output_type": "stream",
     "text": [
      "taylorfo\n"
     ]
    },
    {
     "name": "stderr",
     "output_type": "stream",
     "text": [
      "100%|██████████| 80/80 [01:33<00:00,  1.17s/it]\n",
      "  0%|          | 0/80 [00:00<?, ?it/s]"
     ]
    },
    {
     "name": "stdout",
     "output_type": "stream",
     "text": [
      "taylorfo_abs\n"
     ]
    },
    {
     "name": "stderr",
     "output_type": "stream",
     "text": [
      "100%|██████████| 80/80 [01:36<00:00,  1.21s/it]\n",
      "  0%|          | 0/80 [00:00<?, ?it/s]"
     ]
    },
    {
     "name": "stdout",
     "output_type": "stream",
     "text": [
      "taylorfo_sq\n"
     ]
    },
    {
     "name": "stderr",
     "output_type": "stream",
     "text": [
      "100%|██████████| 80/80 [01:37<00:00,  1.22s/it]\n",
      "  0%|          | 0/80 [00:00<?, ?it/s]"
     ]
    },
    {
     "name": "stdout",
     "output_type": "stream",
     "text": [
      "Molchanov_group\n"
     ]
    },
    {
     "name": "stderr",
     "output_type": "stream",
     "text": [
      "100%|██████████| 80/80 [01:37<00:00,  1.22s/it]\n",
      "  0%|          | 0/80 [00:00<?, ?it/s]"
     ]
    },
    {
     "name": "stdout",
     "output_type": "stream",
     "text": [
      "Molchanov_BN\n"
     ]
    },
    {
     "name": "stderr",
     "output_type": "stream",
     "text": [
      "100%|██████████| 80/80 [01:36<00:00,  1.20s/it]\n"
     ]
    },
    {
     "name": "stdout",
     "output_type": "stream",
     "text": [
      "taylorfo\n",
      "taylorfo_abs\n",
      "taylorfo_sq\n"
     ]
    },
    {
     "name": "stderr",
     "output_type": "stream",
     "text": [
      "  2%|▏         | 29/1875 [00:00<00:06, 284.31it/s]"
     ]
    },
    {
     "name": "stdout",
     "output_type": "stream",
     "text": [
      "Molchanov_group\n"
     ]
    },
    {
     "name": "stderr",
     "output_type": "stream",
     "text": [
      "100%|██████████| 1875/1875 [00:05<00:00, 318.33it/s]\n",
      "  0%|          | 0/80 [00:00<?, ?it/s]"
     ]
    },
    {
     "name": "stdout",
     "output_type": "stream",
     "text": [
      "taylorfo\n"
     ]
    },
    {
     "name": "stderr",
     "output_type": "stream",
     "text": [
      "100%|██████████| 80/80 [00:26<00:00,  2.96it/s]\n",
      "  0%|          | 0/80 [00:00<?, ?it/s]"
     ]
    },
    {
     "name": "stdout",
     "output_type": "stream",
     "text": [
      "taylorfo_abs\n"
     ]
    },
    {
     "name": "stderr",
     "output_type": "stream",
     "text": [
      "100%|██████████| 80/80 [00:25<00:00,  3.08it/s]\n",
      "  0%|          | 0/80 [00:00<?, ?it/s]"
     ]
    },
    {
     "name": "stdout",
     "output_type": "stream",
     "text": [
      "taylorfo_sq\n"
     ]
    },
    {
     "name": "stderr",
     "output_type": "stream",
     "text": [
      "100%|██████████| 80/80 [00:25<00:00,  3.09it/s]\n",
      "  0%|          | 0/80 [00:00<?, ?it/s]"
     ]
    },
    {
     "name": "stdout",
     "output_type": "stream",
     "text": [
      "Molchanov_group\n"
     ]
    },
    {
     "name": "stderr",
     "output_type": "stream",
     "text": [
      "100%|██████████| 80/80 [00:27<00:00,  2.91it/s]\n"
     ]
    },
    {
     "name": "stdout",
     "output_type": "stream",
     "text": [
      "0 Error =  2.3896596431732178\n",
      "Accuracy:  0.7032666666666667\n",
      "1 Error =  1.4567660093307495\n",
      "Accuracy:  0.8057333333333333\n",
      "2 Error =  1.073710322380066\n",
      "Accuracy:  0.85485\n",
      "3 Error =  0.8653827905654907\n",
      "Accuracy:  0.8863333333333333\n",
      "4 Error =  0.7226560115814209\n",
      "Accuracy:  0.9042166666666667\n",
      "5 Error =  0.6153109669685364\n",
      "Accuracy:  0.9151333333333334\n",
      "6 Error =  0.5320311784744263\n",
      "Accuracy:  0.9229333333333334\n",
      "7 Error =  0.466150164604187\n",
      "Accuracy:  0.9290666666666667\n",
      "8 Error =  0.41293221712112427\n",
      "Accuracy:  0.9339833333333334\n",
      "9 Error =  0.36885178089141846\n",
      "Accuracy:  0.93855\n",
      "10 Error =  0.3315570652484894\n",
      "Accuracy:  0.9423666666666667\n",
      "11 Error =  0.2997400164604187\n",
      "Accuracy:  0.9460666666666666\n",
      "12 Error =  0.2726232707500458\n",
      "Accuracy:  0.9491333333333334\n",
      "13 Error =  0.24941588938236237\n",
      "Accuracy:  0.9516\n",
      "14 Error =  0.22927738726139069\n",
      "Accuracy:  0.9538666666666666\n",
      "15 Error =  0.21163764595985413\n",
      "Accuracy:  0.9564833333333334\n",
      "16 Error =  0.19611820578575134\n",
      "Accuracy:  0.9586\n",
      "17 Error =  0.18238727748394012\n",
      "Accuracy:  0.9611\n",
      "18 Error =  0.17012342810630798\n",
      "Accuracy:  0.9633166666666667\n",
      "19 Error =  0.15909932553768158\n",
      "Accuracy:  0.9652333333333334\n",
      "20 Error =  0.1491299569606781\n",
      "Accuracy:  0.9670833333333333\n",
      "21 Error =  0.1400664895772934\n",
      "Accuracy:  0.9684\n",
      "22 Error =  0.1317983865737915\n",
      "Accuracy:  0.9699\n",
      "23 Error =  0.12421581149101257\n",
      "Accuracy:  0.9715333333333334\n",
      "24 Error =  0.11719432473182678\n",
      "Accuracy:  0.973\n",
      "25 Error =  0.11064266413450241\n",
      "Accuracy:  0.9745\n",
      "26 Error =  0.10453245788812637\n",
      "Accuracy:  0.97575\n",
      "27 Error =  0.09885448217391968\n",
      "Accuracy:  0.9768666666666667\n",
      "28 Error =  0.09357986599206924\n",
      "Accuracy:  0.9780666666666666\n",
      "29 Error =  0.08863578736782074\n",
      "Accuracy:  0.9787666666666667\n",
      "30 Error =  0.08397418260574341\n",
      "Accuracy:  0.9801\n",
      "31 Error =  0.07956888526678085\n",
      "Accuracy:  0.9811\n",
      "32 Error =  0.07537845522165298\n",
      "Accuracy:  0.9824166666666667\n",
      "33 Error =  0.07139833271503448\n",
      "Accuracy:  0.9836833333333334\n",
      "34 Error =  0.06764014810323715\n",
      "Accuracy:  0.9849166666666667\n",
      "35 Error =  0.06408010423183441\n",
      "Accuracy:  0.9857166666666667\n",
      "36 Error =  0.06067781522870064\n",
      "Accuracy:  0.9863333333333333\n",
      "37 Error =  0.05744372308254242\n",
      "Accuracy:  0.9871333333333333\n",
      "38 Error =  0.05437461659312248\n",
      "Accuracy:  0.9880666666666666\n",
      "39 Error =  0.05145667865872383\n",
      "Accuracy:  0.9889333333333333\n",
      "40 Error =  0.04869258776307106\n",
      "Accuracy:  0.9897666666666667\n",
      "41 Error =  0.04608221724629402\n",
      "Accuracy:  0.99055\n",
      "42 Error =  0.043601859360933304\n",
      "Accuracy:  0.9912333333333333\n",
      "43 Error =  0.0412299819290638\n",
      "Accuracy:  0.9918666666666667\n",
      "44 Error =  0.03895735740661621\n",
      "Accuracy:  0.9923666666666666\n",
      "45 Error =  0.03678807243704796\n",
      "Accuracy:  0.9931166666666666\n",
      "46 Error =  0.034729406237602234\n",
      "Accuracy:  0.9936833333333334\n",
      "47 Error =  0.032779496163129807\n",
      "Accuracy:  0.99445\n",
      "48 Error =  0.030939994379878044\n",
      "Accuracy:  0.9950166666666667\n",
      "49 Error =  0.02920852042734623\n",
      "Accuracy:  0.99575\n",
      "50 Error =  0.027567237615585327\n",
      "Accuracy:  0.9961833333333333\n",
      "51 Error =  0.026011986657977104\n",
      "Accuracy:  0.9965833333333334\n",
      "52 Error =  0.024543272331357002\n",
      "Accuracy:  0.9969\n",
      "53 Error =  0.023152131587266922\n",
      "Accuracy:  0.9972166666666666\n",
      "54 Error =  0.02183924987912178\n",
      "Accuracy:  0.9975166666666667\n",
      "55 Error =  0.020604563876986504\n",
      "Accuracy:  0.9977666666666667\n",
      "56 Error =  0.019453540444374084\n",
      "Accuracy:  0.998\n",
      "57 Error =  0.01837995834648609\n",
      "Accuracy:  0.9982666666666666\n",
      "58 Error =  0.017365556210279465\n",
      "Accuracy:  0.9984\n",
      "59 Error =  0.01641014590859413\n",
      "Accuracy:  0.99865\n",
      "60 Error =  0.015514145605266094\n",
      "Accuracy:  0.9987166666666667\n",
      "61 Error =  0.014673146419227123\n",
      "Accuracy:  0.9988333333333334\n",
      "62 Error =  0.013886883854866028\n",
      "Accuracy:  0.9989833333333333\n",
      "63 Error =  0.013149932958185673\n",
      "Accuracy:  0.9990833333333333\n",
      "64 Error =  0.012455706484615803\n",
      "Accuracy:  0.9991333333333333\n",
      "65 Error =  0.011802666820585728\n",
      "Accuracy:  0.9992166666666666\n",
      "66 Error =  0.011189201846718788\n",
      "Accuracy:  0.9993333333333333\n",
      "67 Error =  0.010614530183374882\n",
      "Accuracy:  0.99945\n",
      "68 Error =  0.01007635984569788\n",
      "Accuracy:  0.9995666666666667\n",
      "69 Error =  0.009573612362146378\n",
      "Accuracy:  0.9996166666666667\n",
      "70 Error =  0.009105297736823559\n",
      "Accuracy:  0.9996333333333334\n",
      "71 Error =  0.008670635521411896\n",
      "Accuracy:  0.9996333333333334\n",
      "72 Error =  0.008268297649919987\n",
      "Accuracy:  0.9996833333333334\n",
      "73 Error =  0.007895304821431637\n",
      "Accuracy:  0.9997333333333334\n",
      "74 Error =  0.007547521032392979\n",
      "Accuracy:  0.9997833333333334\n",
      "75 Error =  0.007222417742013931\n",
      "Accuracy:  0.9998\n",
      "76 Error =  0.006918208673596382\n",
      "Accuracy:  0.9998166666666667\n",
      "77 Error =  0.006633230950683355\n",
      "Accuracy:  0.99985\n",
      "78 Error =  0.006367657333612442\n",
      "Accuracy:  0.99985\n",
      "79 Error =  0.006120279897004366\n",
      "Accuracy:  0.99985\n",
      "80 Error =  0.005889315623790026\n",
      "Accuracy:  0.9998666666666667\n",
      "81 Error =  0.005673494655638933\n",
      "Accuracy:  0.9998666666666667\n",
      "82 Error =  0.005471007898449898\n",
      "Accuracy:  0.9998666666666667\n",
      "83 Error =  0.005280571058392525\n",
      "Accuracy:  0.9998833333333333\n",
      "84 Error =  0.0051018293015658855\n",
      "Accuracy:  0.9998833333333333\n",
      "85 Error =  0.004933793097734451\n",
      "Accuracy:  0.9999\n",
      "86 Error =  0.0047752587124705315\n",
      "Accuracy:  0.9999\n",
      "87 Error =  0.0046250768937170506\n",
      "Accuracy:  0.9999\n",
      "88 Error =  0.004482703749090433\n",
      "Accuracy:  0.9999\n",
      "89 Error =  0.004347728565335274\n",
      "Accuracy:  0.9999166666666667\n",
      "90 Error =  0.004219244699925184\n",
      "Accuracy:  0.9999333333333333\n",
      "91 Error =  0.004096748307347298\n",
      "Accuracy:  0.9999333333333333\n",
      "92 Error =  0.003979843575507402\n",
      "Accuracy:  0.9999333333333333\n",
      "93 Error =  0.0038682250306010246\n",
      "Accuracy:  0.9999333333333333\n",
      "94 Error =  0.0037615362089127302\n",
      "Accuracy:  0.9999333333333333\n",
      "95 Error =  0.0036600150633603334\n",
      "Accuracy:  0.99995\n",
      "96 Error =  0.003563137259334326\n",
      "Accuracy:  0.99995\n",
      "97 Error =  0.0034709356259554625\n",
      "Accuracy:  0.99995\n",
      "98 Error =  0.003383008297532797\n",
      "Accuracy:  0.99995\n",
      "99 Error =  0.0032992654014378786\n",
      "Accuracy:  0.99995\n",
      "4\n",
      "Accuracy noBN:  0.99995\n",
      "taylorfo\n",
      "taylorfo_abs\n",
      "taylorfo_sq\n"
     ]
    },
    {
     "name": "stderr",
     "output_type": "stream",
     "text": [
      "  0%|          | 6/1875 [00:00<00:34, 54.72it/s]"
     ]
    },
    {
     "name": "stdout",
     "output_type": "stream",
     "text": [
      "Molchanov_group\n"
     ]
    },
    {
     "name": "stderr",
     "output_type": "stream",
     "text": [
      "100%|██████████| 1875/1875 [00:27<00:00, 67.34it/s]\n",
      "  0%|          | 6/1875 [00:00<00:31, 58.90it/s]"
     ]
    },
    {
     "name": "stdout",
     "output_type": "stream",
     "text": [
      "Molchanov_BN\n"
     ]
    },
    {
     "name": "stderr",
     "output_type": "stream",
     "text": [
      "100%|██████████| 1875/1875 [00:27<00:00, 68.36it/s]\n",
      "  0%|          | 0/80 [00:00<?, ?it/s]"
     ]
    },
    {
     "name": "stdout",
     "output_type": "stream",
     "text": [
      "taylorfo\n"
     ]
    },
    {
     "name": "stderr",
     "output_type": "stream",
     "text": [
      "100%|██████████| 80/80 [03:02<00:00,  2.28s/it]\n",
      "  0%|          | 0/80 [00:00<?, ?it/s]"
     ]
    },
    {
     "name": "stdout",
     "output_type": "stream",
     "text": [
      "taylorfo_abs\n"
     ]
    },
    {
     "name": "stderr",
     "output_type": "stream",
     "text": [
      "100%|██████████| 80/80 [03:04<00:00,  2.31s/it]\n",
      "  0%|          | 0/80 [00:00<?, ?it/s]"
     ]
    },
    {
     "name": "stdout",
     "output_type": "stream",
     "text": [
      "taylorfo_sq\n"
     ]
    },
    {
     "name": "stderr",
     "output_type": "stream",
     "text": [
      "100%|██████████| 80/80 [03:02<00:00,  2.28s/it]\n",
      "  0%|          | 0/80 [00:00<?, ?it/s]"
     ]
    },
    {
     "name": "stdout",
     "output_type": "stream",
     "text": [
      "Molchanov_group\n"
     ]
    },
    {
     "name": "stderr",
     "output_type": "stream",
     "text": [
      "100%|██████████| 80/80 [03:06<00:00,  2.33s/it]\n",
      "  0%|          | 0/80 [00:00<?, ?it/s]"
     ]
    },
    {
     "name": "stdout",
     "output_type": "stream",
     "text": [
      "Molchanov_BN\n"
     ]
    },
    {
     "name": "stderr",
     "output_type": "stream",
     "text": [
      "100%|██████████| 80/80 [03:36<00:00,  2.70s/it]\n"
     ]
    },
    {
     "name": "stdout",
     "output_type": "stream",
     "text": [
      "taylorfo\n",
      "taylorfo_abs\n",
      "taylorfo_sq\n"
     ]
    },
    {
     "name": "stderr",
     "output_type": "stream",
     "text": [
      "  1%|          | 11/1875 [00:00<00:17, 106.18it/s]"
     ]
    },
    {
     "name": "stdout",
     "output_type": "stream",
     "text": [
      "Molchanov_group\n"
     ]
    },
    {
     "name": "stderr",
     "output_type": "stream",
     "text": [
      "100%|██████████| 1875/1875 [00:11<00:00, 164.58it/s]\n",
      "  0%|          | 0/80 [00:00<?, ?it/s]"
     ]
    },
    {
     "name": "stdout",
     "output_type": "stream",
     "text": [
      "taylorfo\n"
     ]
    },
    {
     "name": "stderr",
     "output_type": "stream",
     "text": [
      "100%|██████████| 80/80 [01:06<00:00,  1.20it/s]\n",
      "  0%|          | 0/80 [00:00<?, ?it/s]"
     ]
    },
    {
     "name": "stdout",
     "output_type": "stream",
     "text": [
      "taylorfo_abs\n"
     ]
    },
    {
     "name": "stderr",
     "output_type": "stream",
     "text": [
      "100%|██████████| 80/80 [01:06<00:00,  1.21it/s]\n",
      "  0%|          | 0/80 [00:00<?, ?it/s]"
     ]
    },
    {
     "name": "stdout",
     "output_type": "stream",
     "text": [
      "taylorfo_sq\n"
     ]
    },
    {
     "name": "stderr",
     "output_type": "stream",
     "text": [
      "100%|██████████| 80/80 [01:09<00:00,  1.15it/s]\n",
      "  0%|          | 0/80 [00:00<?, ?it/s]"
     ]
    },
    {
     "name": "stdout",
     "output_type": "stream",
     "text": [
      "Molchanov_group\n"
     ]
    },
    {
     "name": "stderr",
     "output_type": "stream",
     "text": [
      "100%|██████████| 80/80 [01:08<00:00,  1.17it/s]\n"
     ]
    },
    {
     "name": "stdout",
     "output_type": "stream",
     "text": [
      "0 Error =  2.4557838439941406\n",
      "Accuracy:  0.7679166666666667\n",
      "1 Error =  0.981582522392273\n",
      "Accuracy:  0.8533833333333334\n",
      "2 Error =  0.6418787837028503\n",
      "Accuracy:  0.88105\n",
      "3 Error =  0.4934737980365753\n",
      "Accuracy:  0.8954166666666666\n",
      "4 Error =  0.4059355854988098\n",
      "Accuracy:  0.9068\n",
      "5 Error =  0.34812483191490173\n",
      "Accuracy:  0.9140333333333334\n",
      "6 Error =  0.30893993377685547\n",
      "Accuracy:  0.9208833333333334\n",
      "7 Error =  0.2802768349647522\n",
      "Accuracy:  0.9260166666666667\n",
      "8 Error =  0.25746989250183105\n",
      "Accuracy:  0.93035\n",
      "9 Error =  0.23845353722572327\n",
      "Accuracy:  0.9343666666666667\n",
      "10 Error =  0.2222716212272644\n",
      "Accuracy:  0.9376833333333333\n",
      "11 Error =  0.20838865637779236\n",
      "Accuracy:  0.9413833333333333\n",
      "12 Error =  0.19638124108314514\n",
      "Accuracy:  0.9445666666666667\n",
      "13 Error =  0.18586961925029755\n",
      "Accuracy:  0.9471833333333334\n",
      "14 Error =  0.1765054315328598\n",
      "Accuracy:  0.94975\n",
      "15 Error =  0.16801811754703522\n",
      "Accuracy:  0.95185\n",
      "16 Error =  0.1602671891450882\n",
      "Accuracy:  0.9537833333333333\n",
      "17 Error =  0.1532375067472458\n",
      "Accuracy:  0.9556\n",
      "18 Error =  0.14689695835113525\n",
      "Accuracy:  0.9573166666666667\n",
      "19 Error =  0.14106932282447815\n",
      "Accuracy:  0.9591833333333334\n",
      "20 Error =  0.13554354012012482\n",
      "Accuracy:  0.9614\n",
      "21 Error =  0.13019636273384094\n",
      "Accuracy:  0.9629\n",
      "22 Error =  0.1250377595424652\n",
      "Accuracy:  0.9642166666666667\n",
      "23 Error =  0.12012318521738052\n",
      "Accuracy:  0.96575\n",
      "24 Error =  0.11547019332647324\n",
      "Accuracy:  0.96715\n",
      "25 Error =  0.1110406443476677\n",
      "Accuracy:  0.9686666666666667\n",
      "26 Error =  0.10677562654018402\n",
      "Accuracy:  0.9701833333333333\n",
      "27 Error =  0.1026635468006134\n",
      "Accuracy:  0.97135\n",
      "28 Error =  0.09873313456773758\n",
      "Accuracy:  0.9724\n",
      "29 Error =  0.0950290784239769\n",
      "Accuracy:  0.9733333333333334\n",
      "30 Error =  0.09154584258794785\n",
      "Accuracy:  0.97415\n",
      "31 Error =  0.0882267951965332\n",
      "Accuracy:  0.9751833333333333\n",
      "32 Error =  0.08502887189388275\n",
      "Accuracy:  0.9765833333333334\n",
      "33 Error =  0.08192883431911469\n",
      "Accuracy:  0.9775\n",
      "34 Error =  0.07893729209899902\n",
      "Accuracy:  0.9783833333333334\n",
      "35 Error =  0.07605747878551483\n",
      "Accuracy:  0.9793833333333334\n",
      "36 Error =  0.07328683882951736\n",
      "Accuracy:  0.9801166666666666\n",
      "37 Error =  0.07061125338077545\n",
      "Accuracy:  0.98095\n",
      "38 Error =  0.06802893429994583\n",
      "Accuracy:  0.9817666666666667\n",
      "39 Error =  0.0655394047498703\n",
      "Accuracy:  0.9824833333333334\n",
      "40 Error =  0.06313353031873703\n",
      "Accuracy:  0.9830833333333333\n",
      "41 Error =  0.06080009415745735\n",
      "Accuracy:  0.9838\n",
      "42 Error =  0.05853364244103432\n",
      "Accuracy:  0.9843666666666666\n",
      "43 Error =  0.05634259060025215\n",
      "Accuracy:  0.9851\n",
      "44 Error =  0.0542297400534153\n",
      "Accuracy:  0.98585\n",
      "45 Error =  0.05218798294663429\n",
      "Accuracy:  0.9866166666666667\n",
      "46 Error =  0.05020797997713089\n",
      "Accuracy:  0.9872333333333333\n",
      "47 Error =  0.04827888309955597\n",
      "Accuracy:  0.9877666666666667\n",
      "48 Error =  0.046401992440223694\n",
      "Accuracy:  0.9884\n",
      "49 Error =  0.044582951813936234\n",
      "Accuracy:  0.9888833333333333\n",
      "50 Error =  0.04282043129205704\n",
      "Accuracy:  0.9894833333333334\n",
      "51 Error =  0.04111054167151451\n",
      "Accuracy:  0.9900666666666667\n",
      "52 Error =  0.03945102170109749\n",
      "Accuracy:  0.9906333333333334\n",
      "53 Error =  0.037843164056539536\n",
      "Accuracy:  0.99115\n",
      "54 Error =  0.03628574311733246\n",
      "Accuracy:  0.99175\n",
      "55 Error =  0.0347779355943203\n",
      "Accuracy:  0.9923166666666666\n",
      "56 Error =  0.03331360965967178\n",
      "Accuracy:  0.9926333333333334\n",
      "57 Error =  0.03189651295542717\n",
      "Accuracy:  0.9929833333333333\n",
      "58 Error =  0.03053135983645916\n",
      "Accuracy:  0.99345\n",
      "59 Error =  0.029216188937425613\n",
      "Accuracy:  0.9940166666666667\n",
      "60 Error =  0.027943838387727737\n",
      "Accuracy:  0.99435\n",
      "61 Error =  0.026715418323874474\n",
      "Accuracy:  0.9949\n",
      "62 Error =  0.02553638629615307\n",
      "Accuracy:  0.9953\n",
      "63 Error =  0.02440338023006916\n",
      "Accuracy:  0.99565\n",
      "64 Error =  0.023312687873840332\n",
      "Accuracy:  0.9959833333333333\n",
      "65 Error =  0.02226407080888748\n",
      "Accuracy:  0.9961666666666666\n",
      "66 Error =  0.02125404216349125\n",
      "Accuracy:  0.9964166666666666\n",
      "67 Error =  0.020284416154026985\n",
      "Accuracy:  0.9966833333333334\n",
      "68 Error =  0.019353395327925682\n",
      "Accuracy:  0.9970166666666667\n",
      "69 Error =  0.01845701038837433\n",
      "Accuracy:  0.9972833333333333\n",
      "70 Error =  0.017596328631043434\n",
      "Accuracy:  0.99745\n",
      "71 Error =  0.01677282713353634\n",
      "Accuracy:  0.9975833333333334\n",
      "72 Error =  0.015986692160367966\n",
      "Accuracy:  0.99775\n",
      "73 Error =  0.015235868282616138\n",
      "Accuracy:  0.9979333333333333\n",
      "74 Error =  0.014518187381327152\n",
      "Accuracy:  0.9981166666666667\n",
      "75 Error =  0.013833875767886639\n",
      "Accuracy:  0.9983666666666666\n",
      "76 Error =  0.013182010501623154\n",
      "Accuracy:  0.9985666666666667\n",
      "77 Error =  0.01256138551980257\n",
      "Accuracy:  0.9987\n",
      "78 Error =  0.011970628052949905\n",
      "Accuracy:  0.9989166666666667\n",
      "79 Error =  0.011409338563680649\n",
      "Accuracy:  0.9991\n",
      "80 Error =  0.010876314714550972\n",
      "Accuracy:  0.9991666666666666\n",
      "81 Error =  0.010369878262281418\n",
      "Accuracy:  0.9992333333333333\n",
      "82 Error =  0.009888879023492336\n",
      "Accuracy:  0.99935\n",
      "83 Error =  0.009433606639504433\n",
      "Accuracy:  0.9993833333333333\n",
      "84 Error =  0.009002513252198696\n",
      "Accuracy:  0.9994333333333333\n",
      "85 Error =  0.008594532497227192\n",
      "Accuracy:  0.9994833333333333\n",
      "86 Error =  0.008207874372601509\n",
      "Accuracy:  0.9995666666666667\n",
      "87 Error =  0.007842693477869034\n",
      "Accuracy:  0.9996\n",
      "88 Error =  0.007498015649616718\n",
      "Accuracy:  0.9996666666666667\n",
      "89 Error =  0.007172470446676016\n",
      "Accuracy:  0.9996666666666667\n",
      "90 Error =  0.006864867173135281\n",
      "Accuracy:  0.9996833333333334\n",
      "91 Error =  0.006574283353984356\n",
      "Accuracy:  0.9997333333333334\n",
      "92 Error =  0.006299775093793869\n",
      "Accuracy:  0.9998\n",
      "93 Error =  0.006040475331246853\n",
      "Accuracy:  0.9998333333333334\n",
      "94 Error =  0.005795605946332216\n",
      "Accuracy:  0.99985\n",
      "95 Error =  0.005564217455685139\n",
      "Accuracy:  0.99985\n",
      "96 Error =  0.005345548503100872\n",
      "Accuracy:  0.9998666666666667\n",
      "97 Error =  0.005138950422406197\n",
      "Accuracy:  0.9998666666666667\n",
      "98 Error =  0.004943451378494501\n",
      "Accuracy:  0.9999166666666667\n",
      "99 Error =  0.004758503753691912\n",
      "Accuracy:  0.9999166666666667\n",
      "2\n",
      "Accuracy noBN:  0.9999166666666667\n",
      "taylorfo\n",
      "taylorfo_abs\n",
      "taylorfo_sq\n"
     ]
    },
    {
     "name": "stderr",
     "output_type": "stream",
     "text": [
      "  1%|          | 10/1875 [00:00<00:19, 94.93it/s]"
     ]
    },
    {
     "name": "stdout",
     "output_type": "stream",
     "text": [
      "Molchanov_group\n"
     ]
    },
    {
     "name": "stderr",
     "output_type": "stream",
     "text": [
      "100%|██████████| 1875/1875 [00:24<00:00, 77.85it/s]\n",
      "  0%|          | 9/1875 [00:00<00:21, 87.63it/s]"
     ]
    },
    {
     "name": "stdout",
     "output_type": "stream",
     "text": [
      "Molchanov_BN\n"
     ]
    },
    {
     "name": "stderr",
     "output_type": "stream",
     "text": [
      "100%|██████████| 1875/1875 [00:21<00:00, 87.54it/s]\n",
      "  0%|          | 0/80 [00:00<?, ?it/s]"
     ]
    },
    {
     "name": "stdout",
     "output_type": "stream",
     "text": [
      "taylorfo\n"
     ]
    },
    {
     "name": "stderr",
     "output_type": "stream",
     "text": [
      "100%|██████████| 80/80 [02:44<00:00,  2.05s/it]\n",
      "  0%|          | 0/80 [00:00<?, ?it/s]"
     ]
    },
    {
     "name": "stdout",
     "output_type": "stream",
     "text": [
      "taylorfo_abs\n"
     ]
    },
    {
     "name": "stderr",
     "output_type": "stream",
     "text": [
      "100%|██████████| 80/80 [02:35<00:00,  1.94s/it]\n",
      "  0%|          | 0/80 [00:00<?, ?it/s]"
     ]
    },
    {
     "name": "stdout",
     "output_type": "stream",
     "text": [
      "taylorfo_sq\n"
     ]
    },
    {
     "name": "stderr",
     "output_type": "stream",
     "text": [
      "100%|██████████| 80/80 [02:45<00:00,  2.07s/it]\n",
      "  0%|          | 0/80 [00:00<?, ?it/s]"
     ]
    },
    {
     "name": "stdout",
     "output_type": "stream",
     "text": [
      "Molchanov_group\n"
     ]
    },
    {
     "name": "stderr",
     "output_type": "stream",
     "text": [
      "100%|██████████| 80/80 [02:41<00:00,  2.01s/it]\n",
      "  0%|          | 0/80 [00:00<?, ?it/s]"
     ]
    },
    {
     "name": "stdout",
     "output_type": "stream",
     "text": [
      "Molchanov_BN\n"
     ]
    },
    {
     "name": "stderr",
     "output_type": "stream",
     "text": [
      "100%|██████████| 80/80 [02:45<00:00,  2.07s/it]\n"
     ]
    },
    {
     "name": "stdout",
     "output_type": "stream",
     "text": [
      "taylorfo\n",
      "taylorfo_abs\n",
      "taylorfo_sq\n"
     ]
    },
    {
     "name": "stderr",
     "output_type": "stream",
     "text": [
      "  1%|          | 21/1875 [00:00<00:08, 207.52it/s]"
     ]
    },
    {
     "name": "stdout",
     "output_type": "stream",
     "text": [
      "Molchanov_group\n"
     ]
    },
    {
     "name": "stderr",
     "output_type": "stream",
     "text": [
      "100%|██████████| 1875/1875 [00:09<00:00, 205.06it/s]\n",
      "  0%|          | 0/80 [00:00<?, ?it/s]"
     ]
    },
    {
     "name": "stdout",
     "output_type": "stream",
     "text": [
      "taylorfo\n"
     ]
    },
    {
     "name": "stderr",
     "output_type": "stream",
     "text": [
      "100%|██████████| 80/80 [01:07<00:00,  1.18it/s]\n",
      "  0%|          | 0/80 [00:00<?, ?it/s]"
     ]
    },
    {
     "name": "stdout",
     "output_type": "stream",
     "text": [
      "taylorfo_abs\n"
     ]
    },
    {
     "name": "stderr",
     "output_type": "stream",
     "text": [
      "100%|██████████| 80/80 [00:59<00:00,  1.33it/s]\n",
      "  0%|          | 0/80 [00:00<?, ?it/s]"
     ]
    },
    {
     "name": "stdout",
     "output_type": "stream",
     "text": [
      "taylorfo_sq\n"
     ]
    },
    {
     "name": "stderr",
     "output_type": "stream",
     "text": [
      "100%|██████████| 80/80 [01:05<00:00,  1.21it/s]\n",
      "  0%|          | 0/80 [00:00<?, ?it/s]"
     ]
    },
    {
     "name": "stdout",
     "output_type": "stream",
     "text": [
      "Molchanov_group\n"
     ]
    },
    {
     "name": "stderr",
     "output_type": "stream",
     "text": [
      "100%|██████████| 80/80 [01:02<00:00,  1.29it/s]\n"
     ]
    },
    {
     "name": "stdout",
     "output_type": "stream",
     "text": [
      "0 Error =  2.419769048690796\n",
      "Accuracy:  0.7290333333333333\n",
      "1 Error =  1.011606216430664\n",
      "Accuracy:  0.8187166666666666\n",
      "2 Error =  0.6862931251525879\n",
      "Accuracy:  0.8563833333333334\n",
      "3 Error =  0.5505363941192627\n",
      "Accuracy:  0.8743\n",
      "4 Error =  0.47887369990348816\n",
      "Accuracy:  0.8848333333333334\n",
      "5 Error =  0.4327890872955322\n",
      "Accuracy:  0.8924333333333333\n",
      "6 Error =  0.3978101313114166\n",
      "Accuracy:  0.8977\n",
      "7 Error =  0.3694283664226532\n",
      "Accuracy:  0.90225\n",
      "8 Error =  0.34634485840797424\n",
      "Accuracy:  0.9056666666666666\n",
      "9 Error =  0.3275698125362396\n",
      "Accuracy:  0.9091333333333333\n",
      "10 Error =  0.31199923157691956\n",
      "Accuracy:  0.91205\n",
      "11 Error =  0.29876142740249634\n",
      "Accuracy:  0.9151666666666667\n",
      "12 Error =  0.2872227430343628\n",
      "Accuracy:  0.9177\n",
      "13 Error =  0.2769559919834137\n",
      "Accuracy:  0.92005\n",
      "14 Error =  0.2676680386066437\n",
      "Accuracy:  0.9225\n",
      "15 Error =  0.259153813123703\n",
      "Accuracy:  0.9249\n",
      "16 Error =  0.251282662153244\n",
      "Accuracy:  0.9273666666666667\n",
      "17 Error =  0.2439635694026947\n",
      "Accuracy:  0.9297333333333333\n",
      "18 Error =  0.23712831735610962\n",
      "Accuracy:  0.9314333333333333\n",
      "19 Error =  0.2307257354259491\n",
      "Accuracy:  0.9334333333333333\n",
      "20 Error =  0.22472256422042847\n",
      "Accuracy:  0.93495\n",
      "21 Error =  0.21910858154296875\n",
      "Accuracy:  0.9365333333333333\n",
      "22 Error =  0.21386007964611053\n",
      "Accuracy:  0.9381666666666667\n",
      "23 Error =  0.20893582701683044\n",
      "Accuracy:  0.9397166666666666\n",
      "24 Error =  0.2042655646800995\n",
      "Accuracy:  0.9414333333333333\n",
      "25 Error =  0.19979219138622284\n",
      "Accuracy:  0.9425166666666667\n",
      "26 Error =  0.19547775387763977\n",
      "Accuracy:  0.9440166666666666\n",
      "27 Error =  0.1913307160139084\n",
      "Accuracy:  0.9454\n",
      "28 Error =  0.18737228214740753\n",
      "Accuracy:  0.9465166666666667\n",
      "29 Error =  0.18362762033939362\n",
      "Accuracy:  0.94775\n",
      "30 Error =  0.1800934374332428\n",
      "Accuracy:  0.94875\n",
      "31 Error =  0.1767350435256958\n",
      "Accuracy:  0.9495833333333333\n",
      "32 Error =  0.17350950837135315\n",
      "Accuracy:  0.9505333333333333\n",
      "33 Error =  0.17038314044475555\n",
      "Accuracy:  0.9515\n",
      "34 Error =  0.1673433929681778\n",
      "Accuracy:  0.9525666666666667\n",
      "35 Error =  0.1643884778022766\n",
      "Accuracy:  0.9535333333333333\n",
      "36 Error =  0.16152596473693848\n",
      "Accuracy:  0.95455\n",
      "37 Error =  0.15875419974327087\n",
      "Accuracy:  0.95555\n",
      "38 Error =  0.15606127679347992\n",
      "Accuracy:  0.9565166666666667\n",
      "39 Error =  0.15343615412712097\n",
      "Accuracy:  0.9573333333333334\n",
      "40 Error =  0.15087983012199402\n",
      "Accuracy:  0.9584833333333334\n",
      "41 Error =  0.14839759469032288\n",
      "Accuracy:  0.95915\n",
      "42 Error =  0.14598803222179413\n",
      "Accuracy:  0.9599333333333333\n",
      "43 Error =  0.14364370703697205\n",
      "Accuracy:  0.9606333333333333\n",
      "44 Error =  0.1413583755493164\n",
      "Accuracy:  0.9611833333333333\n",
      "45 Error =  0.13911695778369904\n",
      "Accuracy:  0.9618\n",
      "46 Error =  0.13692119717597961\n",
      "Accuracy:  0.9625333333333334\n",
      "47 Error =  0.13477258384227753\n",
      "Accuracy:  0.9629833333333333\n",
      "48 Error =  0.13267624378204346\n",
      "Accuracy:  0.9637833333333333\n",
      "49 Error =  0.13063406944274902\n",
      "Accuracy:  0.9644666666666667\n",
      "50 Error =  0.12864051759243011\n",
      "Accuracy:  0.9649833333333333\n",
      "51 Error =  0.1266876608133316\n",
      "Accuracy:  0.9656\n",
      "52 Error =  0.1247699186205864\n",
      "Accuracy:  0.9662666666666667\n",
      "53 Error =  0.12288790196180344\n",
      "Accuracy:  0.9667166666666667\n",
      "54 Error =  0.12104137241840363\n",
      "Accuracy:  0.9672166666666666\n",
      "55 Error =  0.11923123151063919\n",
      "Accuracy:  0.9677833333333333\n",
      "56 Error =  0.117457315325737\n",
      "Accuracy:  0.9684833333333334\n",
      "57 Error =  0.11571627855300903\n",
      "Accuracy:  0.96905\n",
      "58 Error =  0.11400572955608368\n",
      "Accuracy:  0.9696166666666667\n",
      "59 Error =  0.11232610791921616\n",
      "Accuracy:  0.97025\n",
      "60 Error =  0.11067422479391098\n",
      "Accuracy:  0.9708833333333333\n",
      "61 Error =  0.10905051231384277\n",
      "Accuracy:  0.9712666666666666\n",
      "62 Error =  0.10745187103748322\n",
      "Accuracy:  0.9718\n",
      "63 Error =  0.10588130354881287\n",
      "Accuracy:  0.9721666666666666\n",
      "64 Error =  0.10433627665042877\n",
      "Accuracy:  0.9728666666666667\n",
      "65 Error =  0.10281677544116974\n",
      "Accuracy:  0.9733166666666667\n",
      "66 Error =  0.10131984949111938\n",
      "Accuracy:  0.97365\n",
      "67 Error =  0.09984645992517471\n",
      "Accuracy:  0.97395\n",
      "68 Error =  0.09839607775211334\n",
      "Accuracy:  0.9743\n",
      "69 Error =  0.09696869552135468\n",
      "Accuracy:  0.9746666666666667\n",
      "70 Error =  0.09556329995393753\n",
      "Accuracy:  0.9751\n",
      "71 Error =  0.09417924284934998\n",
      "Accuracy:  0.9755333333333334\n",
      "72 Error =  0.0928158089518547\n",
      "Accuracy:  0.9759\n",
      "73 Error =  0.09147238731384277\n",
      "Accuracy:  0.9763\n",
      "74 Error =  0.09014879912137985\n",
      "Accuracy:  0.9767666666666667\n",
      "75 Error =  0.08884492516517639\n",
      "Accuracy:  0.9770833333333333\n",
      "76 Error =  0.08755986392498016\n",
      "Accuracy:  0.97725\n",
      "77 Error =  0.08629249781370163\n",
      "Accuracy:  0.97775\n",
      "78 Error =  0.08504267036914825\n",
      "Accuracy:  0.9781666666666666\n",
      "79 Error =  0.08380981534719467\n",
      "Accuracy:  0.9785166666666667\n",
      "80 Error =  0.082595095038414\n",
      "Accuracy:  0.9788\n",
      "81 Error =  0.08139591664075851\n",
      "Accuracy:  0.9791333333333333\n",
      "82 Error =  0.08021356165409088\n",
      "Accuracy:  0.9795166666666667\n",
      "83 Error =  0.07904654741287231\n",
      "Accuracy:  0.9799\n",
      "84 Error =  0.07789558917284012\n",
      "Accuracy:  0.9802\n",
      "85 Error =  0.07675949484109879\n",
      "Accuracy:  0.9806166666666667\n",
      "86 Error =  0.0756375715136528\n",
      "Accuracy:  0.9808833333333333\n",
      "87 Error =  0.07453204691410065\n",
      "Accuracy:  0.9813166666666666\n",
      "88 Error =  0.0734415128827095\n",
      "Accuracy:  0.9816\n",
      "89 Error =  0.0723651796579361\n",
      "Accuracy:  0.9818333333333333\n",
      "90 Error =  0.07130355387926102\n",
      "Accuracy:  0.9821833333333333\n",
      "91 Error =  0.07025667279958725\n",
      "Accuracy:  0.98245\n",
      "92 Error =  0.06922503560781479\n",
      "Accuracy:  0.98285\n",
      "93 Error =  0.06820707023143768\n",
      "Accuracy:  0.9831333333333333\n",
      "94 Error =  0.06720201671123505\n",
      "Accuracy:  0.9835666666666667\n",
      "95 Error =  0.06621062010526657\n",
      "Accuracy:  0.98385\n",
      "96 Error =  0.0652320608496666\n",
      "Accuracy:  0.9840666666666666\n",
      "97 Error =  0.06426636874675751\n",
      "Accuracy:  0.9843833333333334\n",
      "98 Error =  0.06331370770931244\n",
      "Accuracy:  0.9845833333333334\n",
      "99 Error =  0.062373481690883636\n",
      "Accuracy:  0.9848166666666667\n",
      "1\n",
      "Accuracy noBN:  0.9849166666666667\n",
      "taylorfo\n",
      "taylorfo_abs\n",
      "taylorfo_sq\n"
     ]
    },
    {
     "name": "stderr",
     "output_type": "stream",
     "text": [
      "  1%|          | 16/1875 [00:00<00:12, 152.75it/s]"
     ]
    },
    {
     "name": "stdout",
     "output_type": "stream",
     "text": [
      "Molchanov_group\n"
     ]
    },
    {
     "name": "stderr",
     "output_type": "stream",
     "text": [
      "100%|██████████| 1875/1875 [00:15<00:00, 117.22it/s]\n",
      "  1%|          | 11/1875 [00:00<00:17, 107.21it/s]"
     ]
    },
    {
     "name": "stdout",
     "output_type": "stream",
     "text": [
      "Molchanov_BN\n"
     ]
    },
    {
     "name": "stderr",
     "output_type": "stream",
     "text": [
      "100%|██████████| 1875/1875 [00:14<00:00, 133.52it/s]\n",
      "  0%|          | 0/80 [00:00<?, ?it/s]"
     ]
    },
    {
     "name": "stdout",
     "output_type": "stream",
     "text": [
      "taylorfo\n"
     ]
    },
    {
     "name": "stderr",
     "output_type": "stream",
     "text": [
      "100%|██████████| 80/80 [01:36<00:00,  1.21s/it]\n",
      "  0%|          | 0/80 [00:00<?, ?it/s]"
     ]
    },
    {
     "name": "stdout",
     "output_type": "stream",
     "text": [
      "taylorfo_abs\n"
     ]
    },
    {
     "name": "stderr",
     "output_type": "stream",
     "text": [
      "100%|██████████| 80/80 [01:48<00:00,  1.35s/it]\n",
      "  0%|          | 0/80 [00:00<?, ?it/s]"
     ]
    },
    {
     "name": "stdout",
     "output_type": "stream",
     "text": [
      "taylorfo_sq\n"
     ]
    },
    {
     "name": "stderr",
     "output_type": "stream",
     "text": [
      "100%|██████████| 80/80 [01:37<00:00,  1.22s/it]\n",
      "  0%|          | 0/80 [00:00<?, ?it/s]"
     ]
    },
    {
     "name": "stdout",
     "output_type": "stream",
     "text": [
      "Molchanov_group\n"
     ]
    },
    {
     "name": "stderr",
     "output_type": "stream",
     "text": [
      "100%|██████████| 80/80 [01:30<00:00,  1.13s/it]\n",
      "  0%|          | 0/80 [00:00<?, ?it/s]"
     ]
    },
    {
     "name": "stdout",
     "output_type": "stream",
     "text": [
      "Molchanov_BN\n"
     ]
    },
    {
     "name": "stderr",
     "output_type": "stream",
     "text": [
      "100%|██████████| 80/80 [01:30<00:00,  1.13s/it]\n"
     ]
    },
    {
     "name": "stdout",
     "output_type": "stream",
     "text": [
      "taylorfo\n",
      "taylorfo_abs\n",
      "taylorfo_sq\n"
     ]
    },
    {
     "name": "stderr",
     "output_type": "stream",
     "text": [
      "  2%|▏         | 31/1875 [00:00<00:06, 306.30it/s]"
     ]
    },
    {
     "name": "stdout",
     "output_type": "stream",
     "text": [
      "Molchanov_group\n"
     ]
    },
    {
     "name": "stderr",
     "output_type": "stream",
     "text": [
      "100%|██████████| 1875/1875 [00:05<00:00, 345.11it/s]\n",
      "  0%|          | 0/80 [00:00<?, ?it/s]"
     ]
    },
    {
     "name": "stdout",
     "output_type": "stream",
     "text": [
      "taylorfo\n"
     ]
    },
    {
     "name": "stderr",
     "output_type": "stream",
     "text": [
      "100%|██████████| 80/80 [00:44<00:00,  1.78it/s]\n",
      "  0%|          | 0/80 [00:00<?, ?it/s]"
     ]
    },
    {
     "name": "stdout",
     "output_type": "stream",
     "text": [
      "taylorfo_abs\n"
     ]
    },
    {
     "name": "stderr",
     "output_type": "stream",
     "text": [
      "100%|██████████| 80/80 [00:44<00:00,  1.78it/s]\n",
      "  0%|          | 0/80 [00:00<?, ?it/s]"
     ]
    },
    {
     "name": "stdout",
     "output_type": "stream",
     "text": [
      "taylorfo_sq\n"
     ]
    },
    {
     "name": "stderr",
     "output_type": "stream",
     "text": [
      "100%|██████████| 80/80 [00:44<00:00,  1.79it/s]\n",
      "  0%|          | 0/80 [00:00<?, ?it/s]"
     ]
    },
    {
     "name": "stdout",
     "output_type": "stream",
     "text": [
      "Molchanov_group\n"
     ]
    },
    {
     "name": "stderr",
     "output_type": "stream",
     "text": [
      "100%|██████████| 80/80 [00:43<00:00,  1.82it/s]\n"
     ]
    }
   ],
   "source": [
    "%matplotlib inline\n",
    "\n",
    "for configno in [0,1,2,3,4,5]:\n",
    "    expindx += 1\n",
    "    \n",
    "    ## Initialization\n",
    "    layer_dims = configs[configno]\n",
    "    net = get_mlp(layer_dims, batch_norm=True)\n",
    "    optimizer = torch.optim.Adam(net.parameters(), lr=0.003)\n",
    "    criterion = nn.CrossEntropyLoss()\n",
    "\n",
    "    ## Training\n",
    "    for epoch in range(100):\n",
    "        yout = net(xx)\n",
    "\n",
    "        loss = criterion(yout, yy)\n",
    "        optimizer.zero_grad()\n",
    "        loss.backward()\n",
    "        optimizer.step()\n",
    "\n",
    "        error = float(loss)\n",
    "        print(epoch, 'Error = ', error)\n",
    "\n",
    "        with torch.no_grad():\n",
    "            yout = net(xx)\n",
    "            out = torch.argmax(yout, axis=1)\n",
    "            acc = (out.data.numpy() == np.array(train_label_)).astype(np.float).mean()\n",
    "            print(\"Accuracy: \", acc)\n",
    "\n",
    "    ## No Batch Norm\n",
    "    net_ = remove_batchnorm(net, layer_dims)\n",
    "    yout = net_(xx)\n",
    "    out = torch.argmax(yout, axis=1)\n",
    "    acc = (out.data.numpy() == np.array(train_label_)).astype(np.float).mean()\n",
    "    print(\"Accuracy noBN: \", acc)\n",
    "\n",
    "    ### Comparison\n",
    "    methods = []\n",
    "    classes = []\n",
    "\n",
    "    ## taylor fo modified\n",
    "    methods = prunelib.taylorfo_mode_list[:3]\n",
    "    classes += [Importance_TaylorFO_Modified_BN(net, criterion, config=prunelib.taylorfo_mode_config[method]) for method in methods]\n",
    "\n",
    "\n",
    "    ## Molchanov_group, APnZ, Magnitude\n",
    "    methods += [\"Molchanov_group\", \"Molchanov_BN\"]\n",
    "    classes += [\n",
    "                prunelib.Importance_Molchanov_2019(net, criterion),\n",
    "                Importance_Molchanov_BN(net, criterion),\n",
    "                ]\n",
    "\n",
    "    ## gather all importances\n",
    "    importances = []\n",
    "    for i in range(len(methods)):\n",
    "        print(methods[i])\n",
    "        imp = classes[i].compute_significance(xx, yy)\n",
    "        importances.append(imp)\n",
    "\n",
    "\n",
    "    xs = list(range(1, 401, 5))\n",
    "    ## compute new loss and deviation\n",
    "    loss_lol = []\n",
    "    deviation_lol = []\n",
    "    accuracy_lol = []\n",
    "\n",
    "    pnet = Pruner(net)\n",
    "    yout_normal = net.forward(xx).data.cpu()\n",
    "\n",
    "    for i in range(len(methods)):\n",
    "        print(methods[i])\n",
    "\n",
    "        losses = []\n",
    "        deviations = []\n",
    "        accuracies = []\n",
    "        importance = importances[i]\n",
    "        for num in tqdm(xs):\n",
    "            pmask = prunelib.get_pruning_mask(importance, num_prune=num)\n",
    "            yout_prune = pnet.forward(xx, prune_mask=pmask).data.cpu()\n",
    "            new_err = criterion(yout_prune, yy)\n",
    "            deviation = ((yout_prune-yout_normal)**2).mean()\n",
    "            out = torch.argmax(yout_prune, axis=1)\n",
    "            acc = (out.data.numpy() == np.array(train_label_)).astype(np.float).mean()\n",
    "\n",
    "            losses.append(new_err)\n",
    "            deviations.append(deviation)\n",
    "            accuracies.append(acc)\n",
    "\n",
    "        loss_lol.append(losses)\n",
    "        deviation_lol.append(deviations)\n",
    "        accuracy_lol.append(accuracies)\n",
    "\n",
    "    ## Do by removing BN\n",
    "\n",
    "    ## backup\n",
    "    methods_ = copy.deepcopy(methods)\n",
    "\n",
    "    loss_lol_ = copy.deepcopy(loss_lol)\n",
    "    deviation_lol_ = copy.deepcopy(deviation_lol)\n",
    "    accuracy_lol_ = copy.deepcopy(accuracy_lol)\n",
    "\n",
    "    net__ = net\n",
    "    net = net_\n",
    "    net_ = net__\n",
    "    del(net__)\n",
    "\n",
    "    methods = []\n",
    "    classes = []\n",
    "\n",
    "    ## taylor fo modified\n",
    "    methods = prunelib.taylorfo_mode_list[:3]\n",
    "    classes += [prunelib.Importance_TaylorFO_Modified(net, criterion, config=prunelib.taylorfo_mode_config[method]) for method in methods]\n",
    "\n",
    "\n",
    "    ## Molchanov_group, APnZ, Magnitude\n",
    "    methods += [\"Molchanov_group\"]\n",
    "    classes += [\n",
    "                prunelib.Importance_Molchanov_2019(net, criterion),\n",
    "                ]\n",
    "\n",
    "    ## gather all importances\n",
    "    importances = []\n",
    "    for i in range(len(methods)):\n",
    "        print(methods[i])\n",
    "        imp = classes[i].compute_significance(xx, yy)\n",
    "        importances.append(imp)\n",
    "\n",
    "\n",
    "    ## compute new loss and deviation\n",
    "    loss_lol = []\n",
    "    deviation_lol = []\n",
    "    accuracy_lol = []\n",
    "\n",
    "    pnet = Pruner(net)\n",
    "    yout_normal = net.forward(xx).data.cpu()\n",
    "\n",
    "    for i in range(len(methods)):\n",
    "        print(methods[i])\n",
    "\n",
    "        losses = []\n",
    "        deviations = []\n",
    "        accuracies = []\n",
    "        importance = importances[i]\n",
    "        for num in tqdm(xs):\n",
    "            pmask = prunelib.get_pruning_mask(importance, num_prune=num)\n",
    "            yout_prune = pnet.forward(xx, prune_mask=pmask).data.cpu()\n",
    "            new_err = criterion(yout_prune, yy)\n",
    "            deviation = ((yout_prune-yout_normal)**2).mean()\n",
    "            out = torch.argmax(yout_prune, axis=1)\n",
    "            acc = (out.data.numpy() == np.array(train_label_)).astype(np.float).mean()\n",
    "\n",
    "            losses.append(new_err)\n",
    "            deviations.append(deviation)\n",
    "            accuracies.append(acc)\n",
    "\n",
    "        loss_lol.append(losses)\n",
    "        deviation_lol.append(deviations)\n",
    "        accuracy_lol.append(accuracies)\n",
    "\n",
    "\n",
    "    ########## Plotting #############\n",
    "    def get_ls(i):\n",
    "        if i<3:\n",
    "            ls = \"solid\"\n",
    "        elif i<6:\n",
    "            ls = \"dashed\"\n",
    "        elif i<9:\n",
    "            ls = \"dotted\"\n",
    "        elif i<12:\n",
    "            ls = \"dashdot\"\n",
    "        else:\n",
    "            ls = (0, (3, 5, 1, 5, 1, 5))\n",
    "        return ls\n",
    "\n",
    "\n",
    "    ### loss\n",
    "    plt.figure(figsize=(16, 8))\n",
    "    for i in range(len(methods)):\n",
    "        plt.plot(xs, loss_lol[i], label=methods[i]+\" noBN\", linestyle=get_ls(i))\n",
    "\n",
    "    for i in range(len(methods_)):\n",
    "        plt.plot(xs, loss_lol_[i], label=methods_[i]+\" BN\", linestyle=get_ls(i))\n",
    "\n",
    "    plt.legend()\n",
    "    plt.xlabel(\"Number of Neurons pruned\")\n",
    "    plt.ylabel(\"Loss\")\n",
    "    plt.savefig(f\"plt_06_MNIST_prune_BN_v1_loss_{expindx}_all.svg\")\n",
    "    plt.close()\n",
    "\n",
    "    ### deviation\n",
    "    plt.figure(figsize=(16, 8))\n",
    "    for i in range(len(methods)):\n",
    "        plt.plot(xs, deviation_lol[i], label=methods[i]+\" noBN\", linestyle=get_ls(i))\n",
    "\n",
    "    for i in range(len(methods_)):\n",
    "        plt.plot(xs, deviation_lol_[i], label=methods_[i]+\" BN\", linestyle=get_ls(i))\n",
    "\n",
    "    plt.legend()\n",
    "    plt.xlabel(\"Number of Neurons pruned\")\n",
    "    plt.ylabel(\"Squared Deviation\")\n",
    "    plt.savefig(f\"plt_06_MNIST_prune_BN_v1_deviation_{expindx}_all.svg\")\n",
    "    plt.close()\n",
    "\n",
    "    ### deviation\n",
    "    plt.figure(figsize=(16, 8))\n",
    "    for i in range(len(methods)):\n",
    "        plt.plot(xs, accuracy_lol[i], label=methods[i]+\" noBN\", linestyle=get_ls(i))\n",
    "\n",
    "    for i in range(len(methods_)):\n",
    "        plt.plot(xs, accuracy_lol_[i], label=methods_[i]+\" BN\", linestyle=get_ls(i))\n",
    "\n",
    "    plt.legend()\n",
    "    plt.xlabel(\"Number of Neurons pruned\")\n",
    "    plt.ylabel(\"Accuracy\")\n",
    "    plt.savefig(f\"plt_06_MNIST_prune_BN_v1_accuracy_{expindx}_all.svg\")\n",
    "    plt.close()"
   ]
  }
 ],
 "metadata": {
  "kernelspec": {
   "display_name": "Python 3",
   "language": "python",
   "name": "python3"
  },
  "language_info": {
   "codemirror_mode": {
    "name": "ipython",
    "version": 3
   },
   "file_extension": ".py",
   "mimetype": "text/x-python",
   "name": "python",
   "nbconvert_exporter": "python",
   "pygments_lexer": "ipython3",
   "version": "3.7.4"
  }
 },
 "nbformat": 4,
 "nbformat_minor": 4
}
