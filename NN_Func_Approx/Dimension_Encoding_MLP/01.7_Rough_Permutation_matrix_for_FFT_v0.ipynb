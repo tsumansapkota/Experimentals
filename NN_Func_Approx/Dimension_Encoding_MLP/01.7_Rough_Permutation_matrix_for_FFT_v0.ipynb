{
 "cells": [
  {
   "cell_type": "code",
   "execution_count": 1,
   "metadata": {},
   "outputs": [
    {
     "name": "stderr",
     "output_type": "stream",
     "text": [
      "/home/tsuman/All_Files/Program_Files/miniconda3/lib/python3.7/site-packages/tqdm/auto.py:22: TqdmWarning: IProgress not found. Please update jupyter and ipywidgets. See https://ipywidgets.readthedocs.io/en/stable/user_install.html\n",
      "  from .autonotebook import tqdm as notebook_tqdm\n"
     ]
    }
   ],
   "source": [
    "import torch\n",
    "import numpy as np"
   ]
  },
  {
   "cell_type": "code",
   "execution_count": 2,
   "metadata": {},
   "outputs": [],
   "source": [
    "A = torch.arange(0, 16, 1, dtype=torch.long)"
   ]
  },
  {
   "cell_type": "code",
   "execution_count": 3,
   "metadata": {},
   "outputs": [
    {
     "data": {
      "text/plain": [
       "tensor([ 0,  1,  2,  3,  4,  5,  6,  7,  8,  9, 10, 11, 12, 13, 14, 15])"
      ]
     },
     "execution_count": 3,
     "metadata": {},
     "output_type": "execute_result"
    }
   ],
   "source": [
    "A"
   ]
  },
  {
   "cell_type": "code",
   "execution_count": 4,
   "metadata": {},
   "outputs": [],
   "source": [
    "shapes = [2 for i in range(int(np.log2(len(A))))]"
   ]
  },
  {
   "cell_type": "code",
   "execution_count": 5,
   "metadata": {},
   "outputs": [
    {
     "data": {
      "text/plain": [
       "[2, 2, 2, 2]"
      ]
     },
     "execution_count": 5,
     "metadata": {},
     "output_type": "execute_result"
    }
   ],
   "source": [
    "shapes"
   ]
  },
  {
   "cell_type": "code",
   "execution_count": 6,
   "metadata": {},
   "outputs": [
    {
     "data": {
      "text/plain": [
       "tensor([[[[ 0,  1],\n",
       "          [ 2,  3]],\n",
       "\n",
       "         [[ 4,  5],\n",
       "          [ 6,  7]]],\n",
       "\n",
       "\n",
       "        [[[ 8,  9],\n",
       "          [10, 11]],\n",
       "\n",
       "         [[12, 13],\n",
       "          [14, 15]]]])"
      ]
     },
     "execution_count": 6,
     "metadata": {},
     "output_type": "execute_result"
    }
   ],
   "source": [
    "A0 = A.view(*shapes)\n",
    "A0"
   ]
  },
  {
   "cell_type": "code",
   "execution_count": 7,
   "metadata": {},
   "outputs": [],
   "source": [
    "# A1 = A0.transpose(-1, -2)\n",
    "# A1"
   ]
  },
  {
   "cell_type": "code",
   "execution_count": 8,
   "metadata": {},
   "outputs": [
    {
     "data": {
      "text/plain": [
       "tensor([[[[ 0,  2],\n",
       "          [ 1,  3]],\n",
       "\n",
       "         [[ 4,  6],\n",
       "          [ 5,  7]]],\n",
       "\n",
       "\n",
       "        [[[ 8, 10],\n",
       "          [ 9, 11]],\n",
       "\n",
       "         [[12, 14],\n",
       "          [13, 15]]]])"
      ]
     },
     "execution_count": 8,
     "metadata": {},
     "output_type": "execute_result"
    }
   ],
   "source": [
    "A1 = A0.permute(0, 1, 3, 2)\n",
    "A1"
   ]
  },
  {
   "cell_type": "code",
   "execution_count": 9,
   "metadata": {},
   "outputs": [
    {
     "data": {
      "text/plain": [
       "tensor([[[[ 0,  4],\n",
       "          [ 1,  5]],\n",
       "\n",
       "         [[ 2,  6],\n",
       "          [ 3,  7]]],\n",
       "\n",
       "\n",
       "        [[[ 8, 12],\n",
       "          [ 9, 13]],\n",
       "\n",
       "         [[10, 14],\n",
       "          [11, 15]]]])"
      ]
     },
     "execution_count": 9,
     "metadata": {},
     "output_type": "execute_result"
    }
   ],
   "source": [
    "A2 = A0.permute(0, 2, 3, 1)\n",
    "A2"
   ]
  },
  {
   "cell_type": "code",
   "execution_count": 10,
   "metadata": {},
   "outputs": [
    {
     "data": {
      "text/plain": [
       "tensor([[[[ 0,  8],\n",
       "          [ 1,  9]],\n",
       "\n",
       "         [[ 2, 10],\n",
       "          [ 3, 11]]],\n",
       "\n",
       "\n",
       "        [[[ 4, 12],\n",
       "          [ 5, 13]],\n",
       "\n",
       "         [[ 6, 14],\n",
       "          [ 7, 15]]]])"
      ]
     },
     "execution_count": 10,
     "metadata": {},
     "output_type": "execute_result"
    }
   ],
   "source": [
    "A3 = A0.permute(1, 2, 3, 0)\n",
    "A3"
   ]
  },
  {
   "cell_type": "markdown",
   "metadata": {},
   "source": [
    "### Continuous permute"
   ]
  },
  {
   "cell_type": "code",
   "execution_count": 11,
   "metadata": {},
   "outputs": [
    {
     "data": {
      "text/plain": [
       "tensor([[[[ 0,  1],\n",
       "          [ 2,  3]],\n",
       "\n",
       "         [[ 4,  5],\n",
       "          [ 6,  7]]],\n",
       "\n",
       "\n",
       "        [[[ 8,  9],\n",
       "          [10, 11]],\n",
       "\n",
       "         [[12, 13],\n",
       "          [14, 15]]]])"
      ]
     },
     "execution_count": 11,
     "metadata": {},
     "output_type": "execute_result"
    }
   ],
   "source": [
    "A0 = A.view(*shapes)\n",
    "A0"
   ]
  },
  {
   "cell_type": "code",
   "execution_count": 12,
   "metadata": {},
   "outputs": [
    {
     "data": {
      "text/plain": [
       "tensor([[[[ 0,  2],\n",
       "          [ 1,  3]],\n",
       "\n",
       "         [[ 4,  6],\n",
       "          [ 5,  7]]],\n",
       "\n",
       "\n",
       "        [[[ 8, 10],\n",
       "          [ 9, 11]],\n",
       "\n",
       "         [[12, 14],\n",
       "          [13, 15]]]])"
      ]
     },
     "execution_count": 12,
     "metadata": {},
     "output_type": "execute_result"
    }
   ],
   "source": [
    "A1 = A0.permute(0,1,3,2)\n",
    "A1"
   ]
  },
  {
   "cell_type": "code",
   "execution_count": 13,
   "metadata": {},
   "outputs": [
    {
     "data": {
      "text/plain": [
       "tensor([[[[ 0,  4],\n",
       "          [ 1,  5]],\n",
       "\n",
       "         [[ 2,  6],\n",
       "          [ 3,  7]]],\n",
       "\n",
       "\n",
       "        [[[ 8, 12],\n",
       "          [ 9, 13]],\n",
       "\n",
       "         [[10, 14],\n",
       "          [11, 15]]]])"
      ]
     },
     "execution_count": 13,
     "metadata": {},
     "output_type": "execute_result"
    }
   ],
   "source": [
    "A2 = A1.permute(0,3,2,1)\n",
    "A2"
   ]
  },
  {
   "cell_type": "code",
   "execution_count": 14,
   "metadata": {},
   "outputs": [
    {
     "data": {
      "text/plain": [
       "tensor([[[[ 0,  8],\n",
       "          [ 1,  9]],\n",
       "\n",
       "         [[ 2, 10],\n",
       "          [ 3, 11]]],\n",
       "\n",
       "\n",
       "        [[[ 4, 12],\n",
       "          [ 5, 13]],\n",
       "\n",
       "         [[ 6, 14],\n",
       "          [ 7, 15]]]])"
      ]
     },
     "execution_count": 14,
     "metadata": {},
     "output_type": "execute_result"
    }
   ],
   "source": [
    "A3 = A2.permute(3,1,2,0)\n",
    "A3"
   ]
  },
  {
   "cell_type": "markdown",
   "metadata": {},
   "source": [
    "### For BIG Dimension"
   ]
  },
  {
   "cell_type": "code",
   "execution_count": 15,
   "metadata": {},
   "outputs": [],
   "source": [
    "A = torch.arange(0, 64, 1, dtype=torch.long)"
   ]
  },
  {
   "cell_type": "code",
   "execution_count": 16,
   "metadata": {},
   "outputs": [],
   "source": [
    "shapes = [2 for i in range(int(np.log2(len(A))))]"
   ]
  },
  {
   "cell_type": "code",
   "execution_count": 17,
   "metadata": {},
   "outputs": [
    {
     "data": {
      "text/plain": [
       "tensor([[[[[[ 0,  1],\n",
       "            [ 2,  3]],\n",
       "\n",
       "           [[ 4,  5],\n",
       "            [ 6,  7]]],\n",
       "\n",
       "\n",
       "          [[[ 8,  9],\n",
       "            [10, 11]],\n",
       "\n",
       "           [[12, 13],\n",
       "            [14, 15]]]],\n",
       "\n",
       "\n",
       "\n",
       "         [[[[16, 17],\n",
       "            [18, 19]],\n",
       "\n",
       "           [[20, 21],\n",
       "            [22, 23]]],\n",
       "\n",
       "\n",
       "          [[[24, 25],\n",
       "            [26, 27]],\n",
       "\n",
       "           [[28, 29],\n",
       "            [30, 31]]]]],\n",
       "\n",
       "\n",
       "\n",
       "\n",
       "        [[[[[32, 33],\n",
       "            [34, 35]],\n",
       "\n",
       "           [[36, 37],\n",
       "            [38, 39]]],\n",
       "\n",
       "\n",
       "          [[[40, 41],\n",
       "            [42, 43]],\n",
       "\n",
       "           [[44, 45],\n",
       "            [46, 47]]]],\n",
       "\n",
       "\n",
       "\n",
       "         [[[[48, 49],\n",
       "            [50, 51]],\n",
       "\n",
       "           [[52, 53],\n",
       "            [54, 55]]],\n",
       "\n",
       "\n",
       "          [[[56, 57],\n",
       "            [58, 59]],\n",
       "\n",
       "           [[60, 61],\n",
       "            [62, 63]]]]]])"
      ]
     },
     "execution_count": 17,
     "metadata": {},
     "output_type": "execute_result"
    }
   ],
   "source": [
    "A0 = A.view(*shapes)\n",
    "A0 ## this has Even/Odd -> 0,2,4,6 / 1,3,5,7 ...\n",
    "### the structure is grouped by N/2, N/4, 2 (N/8) "
   ]
  },
  {
   "cell_type": "code",
   "execution_count": 18,
   "metadata": {},
   "outputs": [
    {
     "data": {
      "text/plain": [
       "6"
      ]
     },
     "execution_count": 18,
     "metadata": {},
     "output_type": "execute_result"
    }
   ],
   "source": [
    "len(A0.shape)"
   ]
  },
  {
   "cell_type": "markdown",
   "metadata": {},
   "source": [
    "## How to generalize the permutation"
   ]
  },
  {
   "cell_type": "code",
   "execution_count": 19,
   "metadata": {},
   "outputs": [],
   "source": [
    "A = torch.arange(0, 32, 1, dtype=torch.long)"
   ]
  },
  {
   "cell_type": "code",
   "execution_count": 20,
   "metadata": {},
   "outputs": [],
   "source": [
    "A0 = A.reshape(-1,2,1).permute(0, 2,1)"
   ]
  },
  {
   "cell_type": "code",
   "execution_count": 21,
   "metadata": {},
   "outputs": [
    {
     "data": {
      "text/plain": [
       "tensor([[[ 0,  2],\n",
       "         [ 1,  3]],\n",
       "\n",
       "        [[ 4,  6],\n",
       "         [ 5,  7]],\n",
       "\n",
       "        [[ 8, 10],\n",
       "         [ 9, 11]],\n",
       "\n",
       "        [[12, 14],\n",
       "         [13, 15]],\n",
       "\n",
       "        [[16, 18],\n",
       "         [17, 19]],\n",
       "\n",
       "        [[20, 22],\n",
       "         [21, 23]],\n",
       "\n",
       "        [[24, 26],\n",
       "         [25, 27]],\n",
       "\n",
       "        [[28, 30],\n",
       "         [29, 31]]])"
      ]
     },
     "execution_count": 21,
     "metadata": {},
     "output_type": "execute_result"
    }
   ],
   "source": [
    "A1 = A.reshape(-1,2,2).permute(0, 2,1)\n",
    "A1"
   ]
  },
  {
   "cell_type": "code",
   "execution_count": 22,
   "metadata": {},
   "outputs": [
    {
     "data": {
      "text/plain": [
       "tensor([[[ 0,  4],\n",
       "         [ 1,  5],\n",
       "         [ 2,  6],\n",
       "         [ 3,  7]],\n",
       "\n",
       "        [[ 8, 12],\n",
       "         [ 9, 13],\n",
       "         [10, 14],\n",
       "         [11, 15]],\n",
       "\n",
       "        [[16, 20],\n",
       "         [17, 21],\n",
       "         [18, 22],\n",
       "         [19, 23]],\n",
       "\n",
       "        [[24, 28],\n",
       "         [25, 29],\n",
       "         [26, 30],\n",
       "         [27, 31]]])"
      ]
     },
     "execution_count": 22,
     "metadata": {},
     "output_type": "execute_result"
    }
   ],
   "source": [
    "A2 = A.reshape(-1, 2, 4).permute(0, 2, 1) ## making pair at 3 and 1 dims\n",
    "A2"
   ]
  },
  {
   "cell_type": "code",
   "execution_count": 23,
   "metadata": {},
   "outputs": [
    {
     "data": {
      "text/plain": [
       "tensor([[[ 0,  8],\n",
       "         [ 1,  9],\n",
       "         [ 2, 10],\n",
       "         [ 3, 11],\n",
       "         [ 4, 12],\n",
       "         [ 5, 13],\n",
       "         [ 6, 14],\n",
       "         [ 7, 15]],\n",
       "\n",
       "        [[16, 24],\n",
       "         [17, 25],\n",
       "         [18, 26],\n",
       "         [19, 27],\n",
       "         [20, 28],\n",
       "         [21, 29],\n",
       "         [22, 30],\n",
       "         [23, 31]]])"
      ]
     },
     "execution_count": 23,
     "metadata": {},
     "output_type": "execute_result"
    }
   ],
   "source": [
    "A3 = A.reshape(-1, 2, 8).permute(0, 2, 1)\n",
    "A3"
   ]
  },
  {
   "cell_type": "code",
   "execution_count": 24,
   "metadata": {},
   "outputs": [
    {
     "data": {
      "text/plain": [
       "tensor([[[ 0, 16],\n",
       "         [ 1, 17],\n",
       "         [ 2, 18],\n",
       "         [ 3, 19],\n",
       "         [ 4, 20],\n",
       "         [ 5, 21],\n",
       "         [ 6, 22],\n",
       "         [ 7, 23],\n",
       "         [ 8, 24],\n",
       "         [ 9, 25],\n",
       "         [10, 26],\n",
       "         [11, 27],\n",
       "         [12, 28],\n",
       "         [13, 29],\n",
       "         [14, 30],\n",
       "         [15, 31]]])"
      ]
     },
     "execution_count": 24,
     "metadata": {},
     "output_type": "execute_result"
    }
   ],
   "source": [
    "A4 = A.reshape(-1, 2, 16).permute(0, 2, 1)\n",
    "A4"
   ]
  },
  {
   "cell_type": "code",
   "execution_count": 25,
   "metadata": {},
   "outputs": [
    {
     "ename": "RuntimeError",
     "evalue": "shape '[-1, 2, 32]' is invalid for input of size 32",
     "output_type": "error",
     "traceback": [
      "\u001b[0;31m---------------------------------------------------------------------------\u001b[0m",
      "\u001b[0;31mRuntimeError\u001b[0m                              Traceback (most recent call last)",
      "\u001b[0;32m/tmp/ipykernel_831148/4187829663.py\u001b[0m in \u001b[0;36m<module>\u001b[0;34m\u001b[0m\n\u001b[0;32m----> 1\u001b[0;31m \u001b[0mA5\u001b[0m \u001b[0;34m=\u001b[0m \u001b[0mA\u001b[0m\u001b[0;34m.\u001b[0m\u001b[0mreshape\u001b[0m\u001b[0;34m(\u001b[0m\u001b[0;34m-\u001b[0m\u001b[0;36m1\u001b[0m\u001b[0;34m,\u001b[0m \u001b[0;36m2\u001b[0m\u001b[0;34m,\u001b[0m \u001b[0;36m32\u001b[0m\u001b[0;34m)\u001b[0m\u001b[0;34m.\u001b[0m\u001b[0mpermute\u001b[0m\u001b[0;34m(\u001b[0m\u001b[0;36m0\u001b[0m\u001b[0;34m,\u001b[0m \u001b[0;36m2\u001b[0m\u001b[0;34m,\u001b[0m \u001b[0;36m1\u001b[0m\u001b[0;34m)\u001b[0m\u001b[0;34m\u001b[0m\u001b[0;34m\u001b[0m\u001b[0m\n\u001b[0m\u001b[1;32m      2\u001b[0m \u001b[0mA5\u001b[0m\u001b[0;34m\u001b[0m\u001b[0;34m\u001b[0m\u001b[0m\n",
      "\u001b[0;31mRuntimeError\u001b[0m: shape '[-1, 2, 32]' is invalid for input of size 32"
     ]
    }
   ],
   "source": [
    "A5 = A.reshape(-1, 2, 32).permute(0, 2, 1)\n",
    "A5"
   ]
  },
  {
   "cell_type": "markdown",
   "metadata": {},
   "source": [
    "## For N != power of 2"
   ]
  },
  {
   "cell_type": "code",
   "execution_count": null,
   "metadata": {},
   "outputs": [],
   "source": [
    "A = torch.arange(0, 20, 1, dtype=torch.long)"
   ]
  },
  {
   "cell_type": "code",
   "execution_count": null,
   "metadata": {},
   "outputs": [],
   "source": [
    "A"
   ]
  },
  {
   "cell_type": "code",
   "execution_count": null,
   "metadata": {},
   "outputs": [],
   "source": [
    "# shapes = [2 for i in range(int(np.log2(len(A))))]"
   ]
  },
  {
   "cell_type": "code",
   "execution_count": null,
   "metadata": {},
   "outputs": [],
   "source": [
    "s = len(A)\n",
    "s"
   ]
  },
  {
   "cell_type": "code",
   "execution_count": null,
   "metadata": {},
   "outputs": [],
   "source": []
  },
  {
   "cell_type": "code",
   "execution_count": null,
   "metadata": {},
   "outputs": [],
   "source": [
    "A1 = A.reshape(-1,2,2).permute(0, 2,1)\n",
    "A1"
   ]
  },
  {
   "cell_type": "code",
   "execution_count": null,
   "metadata": {},
   "outputs": [],
   "source": [
    "A2 = A.reshape(-1, 2, 4).permute(0, 2, 1) ## making pair at 3 and 1 dims\n",
    "A2"
   ]
  },
  {
   "cell_type": "code",
   "execution_count": null,
   "metadata": {},
   "outputs": [],
   "source": [
    "A3 = A.reshape(-1, 2, 8).permute(0, 2, 1)\n",
    "A3"
   ]
  },
  {
   "cell_type": "code",
   "execution_count": null,
   "metadata": {},
   "outputs": [],
   "source": [
    "A4 = A.reshape(-1, 2, 16).permute(0, 2, 1)\n",
    "A4"
   ]
  },
  {
   "cell_type": "code",
   "execution_count": null,
   "metadata": {},
   "outputs": [],
   "source": [
    "A5 = A.reshape(-1, 2, 32).permute(0, 2, 1)\n",
    "A5"
   ]
  },
  {
   "cell_type": "markdown",
   "metadata": {},
   "source": [
    "## Formula for permutation values "
   ]
  },
  {
   "cell_type": "code",
   "execution_count": null,
   "metadata": {},
   "outputs": [],
   "source": [
    "### Source/Inspiration : https://github.com/roguh/cuda-fft/blob/main/main.cu"
   ]
  },
  {
   "cell_type": "code",
   "execution_count": null,
   "metadata": {},
   "outputs": [],
   "source": [
    "ti = torch.arange(0, 8, 1, dtype=torch.long) ## for 16 dim, 8 threads\n",
    "ti"
   ]
  },
  {
   "cell_type": "code",
   "execution_count": null,
   "metadata": {},
   "outputs": [],
   "source": [
    "for l in range(4):\n",
    "    print(f\"layer: {l}\")\n",
    "    gap = 1 << l\n",
    "    print(f\"gap: {gap}\")\n",
    "    \n",
    "    index = ti%gap\n",
    "    print(f\"index0: {index}\")\n",
    "    \n",
    "    \n",
    "    pindex = (ti//gap)*(1<<(l+1))\n",
    "    print(f\"index1: {pindex}\")\n",
    "    \n",
    "    print()\n",
    "    print(index+pindex)\n",
    "    print(index+pindex+gap)\n",
    "    \n",
    "    print()"
   ]
  },
  {
   "cell_type": "markdown",
   "metadata": {},
   "source": [
    "## For Radix-4 FFT"
   ]
  },
  {
   "cell_type": "code",
   "execution_count": 26,
   "metadata": {},
   "outputs": [],
   "source": [
    "## FFT permutation\n",
    "\n",
    "A = torch.arange(0, 32, 1, dtype=torch.long)"
   ]
  },
  {
   "cell_type": "code",
   "execution_count": 27,
   "metadata": {},
   "outputs": [
    {
     "data": {
      "text/plain": [
       "tensor([[[ 0,  1,  2,  3]],\n",
       "\n",
       "        [[ 4,  5,  6,  7]],\n",
       "\n",
       "        [[ 8,  9, 10, 11]],\n",
       "\n",
       "        [[12, 13, 14, 15]],\n",
       "\n",
       "        [[16, 17, 18, 19]],\n",
       "\n",
       "        [[20, 21, 22, 23]],\n",
       "\n",
       "        [[24, 25, 26, 27]],\n",
       "\n",
       "        [[28, 29, 30, 31]]])"
      ]
     },
     "execution_count": 27,
     "metadata": {},
     "output_type": "execute_result"
    }
   ],
   "source": [
    "A0 = A.reshape(-1,4,1).permute(0, 2,1)\n",
    "A0"
   ]
  },
  {
   "cell_type": "code",
   "execution_count": 28,
   "metadata": {},
   "outputs": [
    {
     "data": {
      "text/plain": [
       "tensor([[[ 0,  4,  8, 12],\n",
       "         [ 1,  5,  9, 13],\n",
       "         [ 2,  6, 10, 14],\n",
       "         [ 3,  7, 11, 15]],\n",
       "\n",
       "        [[16, 20, 24, 28],\n",
       "         [17, 21, 25, 29],\n",
       "         [18, 22, 26, 30],\n",
       "         [19, 23, 27, 31]]])"
      ]
     },
     "execution_count": 28,
     "metadata": {},
     "output_type": "execute_result"
    }
   ],
   "source": [
    "A1 = A.reshape(-1,4,4).permute(0, 2,1)\n",
    "A1"
   ]
  },
  {
   "cell_type": "code",
   "execution_count": 29,
   "metadata": {},
   "outputs": [
    {
     "ename": "RuntimeError",
     "evalue": "shape '[-1, 4, 16]' is invalid for input of size 32",
     "output_type": "error",
     "traceback": [
      "\u001b[0;31m---------------------------------------------------------------------------\u001b[0m",
      "\u001b[0;31mRuntimeError\u001b[0m                              Traceback (most recent call last)",
      "\u001b[0;32m/tmp/ipykernel_831148/191840203.py\u001b[0m in \u001b[0;36m<module>\u001b[0;34m\u001b[0m\n\u001b[0;32m----> 1\u001b[0;31m \u001b[0mA2\u001b[0m \u001b[0;34m=\u001b[0m \u001b[0mA\u001b[0m\u001b[0;34m.\u001b[0m\u001b[0mreshape\u001b[0m\u001b[0;34m(\u001b[0m\u001b[0;34m-\u001b[0m\u001b[0;36m1\u001b[0m\u001b[0;34m,\u001b[0m\u001b[0;36m4\u001b[0m\u001b[0;34m,\u001b[0m\u001b[0;36m16\u001b[0m\u001b[0;34m)\u001b[0m\u001b[0;34m.\u001b[0m\u001b[0mpermute\u001b[0m\u001b[0;34m(\u001b[0m\u001b[0;36m0\u001b[0m\u001b[0;34m,\u001b[0m \u001b[0;36m2\u001b[0m\u001b[0;34m,\u001b[0m\u001b[0;36m1\u001b[0m\u001b[0;34m)\u001b[0m\u001b[0;34m\u001b[0m\u001b[0;34m\u001b[0m\u001b[0m\n\u001b[0m\u001b[1;32m      2\u001b[0m \u001b[0mA2\u001b[0m\u001b[0;34m\u001b[0m\u001b[0;34m\u001b[0m\u001b[0m\n",
      "\u001b[0;31mRuntimeError\u001b[0m: shape '[-1, 4, 16]' is invalid for input of size 32"
     ]
    }
   ],
   "source": [
    "A2 = A.reshape(-1,4,16).permute(0, 2,1)\n",
    "A2"
   ]
  },
  {
   "cell_type": "code",
   "execution_count": null,
   "metadata": {},
   "outputs": [],
   "source": []
  },
  {
   "cell_type": "code",
   "execution_count": null,
   "metadata": {},
   "outputs": [],
   "source": []
  }
 ],
 "metadata": {
  "kernelspec": {
   "display_name": "Python 3 (ipykernel)",
   "language": "python",
   "name": "python3"
  },
  "language_info": {
   "codemirror_mode": {
    "name": "ipython",
    "version": 3
   },
   "file_extension": ".py",
   "mimetype": "text/x-python",
   "name": "python",
   "nbconvert_exporter": "python",
   "pygments_lexer": "ipython3",
   "version": "3.7.13"
  }
 },
 "nbformat": 4,
 "nbformat_minor": 4
}
