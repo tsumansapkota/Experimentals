{
 "cells": [
  {
   "cell_type": "code",
   "execution_count": 24,
   "metadata": {},
   "outputs": [],
   "source": [
    "import numpy as np\n",
    "import matplotlib.pyplot as plt\n",
    "import mylibrary.neuronsimlib as tns\n",
    "import mylibrary.nnlib as tnn"
   ]
  },
  {
   "cell_type": "markdown",
   "metadata": {},
   "source": [
    "## Generate Datasets"
   ]
  },
  {
   "cell_type": "code",
   "execution_count": 25,
   "metadata": {},
   "outputs": [
    {
     "data": {
      "image/png": "[encoded data removed]",
      "text/plain": [
       "<Figure size 432x288 with 1 Axes>"
      ]
     },
     "metadata": {
      "needs_background": "light"
     },
     "output_type": "display_data"
    }
   ],
   "source": [
    "x = np.linspace(0,1,300)\n",
    "noise = np.random.normal(0,0.02, x.shape)\n",
    "x = x + noise\n",
    "x = np.sort(x)\n",
    "\n",
    "y= (2 * np.sin(10*x) + np.cos(20 * x - 3) + 3 * np.log(10*x + 0.5) - 4)/6.\n",
    "noise = np.random.normal(0,0.1, x.shape)\n",
    "y = y + noise\n",
    "\n",
    "x = x*2\n",
    "x = x - x.mean() # good practice to zero-center x in linear mapping\n",
    "xx = x.reshape(-1,1)\n",
    "yy = y.reshape(-1,1)\n",
    "\n",
    "%matplotlib inline\n",
    "plt.scatter(x, y, marker='.', color='g')\n",
    "plt.show()"
   ]
  },
  {
   "cell_type": "markdown",
   "metadata": {},
   "source": [
    "## Test Dynamic Network"
   ]
  },
  {
   "cell_type": "code",
   "execution_count": 26,
   "metadata": {},
   "outputs": [],
   "source": [
    "net = tns.NeuralNetwork(1,1)"
   ]
  },
  {
   "cell_type": "code",
   "execution_count": 27,
   "metadata": {},
   "outputs": [
    {
     "data": {
      "text/plain": [
       "(300, 1)"
      ]
     },
     "execution_count": 27,
     "metadata": {},
     "output_type": "execute_result"
    }
   ],
   "source": [
    "yout = net.forward(xx)\n",
    "yout.shape"
   ]
  },
  {
   "cell_type": "code",
   "execution_count": 28,
   "metadata": {},
   "outputs": [
    {
     "data": {
      "text/plain": [
       "[<matplotlib.lines.Line2D at 0x7fcaca3c2990>]"
      ]
     },
     "execution_count": 28,
     "metadata": {},
     "output_type": "execute_result"
    },
    {
     "data": {
      "image/png": "[encoded data removed]",
      "text/plain": [
       "<Figure size 432x288 with 1 Axes>"
      ]
     },
     "metadata": {
      "needs_background": "light"
     },
     "output_type": "display_data"
    }
   ],
   "source": [
    "%matplotlib inline\n",
    "plt.scatter(x, y, marker='.', color='g')\n",
    "plt.plot(x, yout.reshape(-1), color='r', lw=2)"
   ]
  },
  {
   "cell_type": "markdown",
   "metadata": {},
   "source": [
    "## Training Linear Regression with this network"
   ]
  },
  {
   "cell_type": "code",
   "execution_count": 29,
   "metadata": {},
   "outputs": [
    {
     "name": "stdout",
     "output_type": "stream",
     "text": [
      "_______________________\n",
      "epoch 0\n",
      "Loss 12.020084254812057\n",
      "\n",
      "_______________________\n",
      "epoch 100\n",
      "Loss 0.04690943257304283\n",
      "\n",
      "_______________________\n",
      "epoch 200\n",
      "Loss 0.03622461975070621\n",
      "\n",
      "_______________________\n",
      "epoch 300\n",
      "Loss 0.03399122033444299\n",
      "\n",
      "_______________________\n",
      "epoch 400\n",
      "Loss 0.03312720740622615\n",
      "\n",
      "_______________________\n",
      "epoch 500\n",
      "Loss 0.03273040755197843\n",
      "\n",
      "_______________________\n",
      "epoch 600\n",
      "Loss 0.03255770507216767\n",
      "\n",
      "_______________________\n",
      "epoch 700\n",
      "Loss 0.032471072589803536\n",
      "\n",
      "_______________________\n",
      "epoch 800\n",
      "Loss 0.032431456534416404\n",
      "\n",
      "_______________________\n",
      "epoch 900\n",
      "Loss 0.032411632980588294\n",
      "\n",
      "_______________________\n",
      "epoch 1000\n",
      "Loss 0.032398583812762505\n",
      "\n",
      "_______________________\n",
      "epoch 1100\n",
      "Loss 0.032390413605907206\n",
      "\n",
      "_______________________\n",
      "epoch 1200\n",
      "Loss 0.032385987500674535\n",
      "\n",
      "_______________________\n",
      "epoch 1300\n",
      "Loss 0.03238343928238969\n",
      "\n",
      "_______________________\n",
      "epoch 1400\n",
      "Loss 0.03238156332229091\n",
      "\n",
      "_______________________\n",
      "epoch 1500\n",
      "Loss 0.032380070892608685\n",
      "\n",
      "_______________________\n",
      "epoch 1600\n",
      "Loss 0.03237877647847643\n",
      "\n",
      "_______________________\n",
      "epoch 1700\n",
      "Loss 0.03237768337181658\n",
      "\n",
      "_______________________\n",
      "epoch 1800\n",
      "Loss 0.032376672879449495\n",
      "\n",
      "_______________________\n",
      "epoch 1900\n",
      "Loss 0.03237575568463868\n",
      "\n",
      "_______________________\n",
      "epoch 2000\n",
      "Loss 0.03237503751744531\n",
      "\n",
      "_______________________\n",
      "epoch 2100\n",
      "Loss 0.03237448362340303\n",
      "\n",
      "_______________________\n",
      "epoch 2200\n",
      "Loss 0.03237397635046728\n",
      "\n",
      "_______________________\n",
      "epoch 2300\n",
      "Loss 0.03237352976740664\n",
      "\n",
      "_______________________\n",
      "epoch 2400\n",
      "Loss 0.032373076385651615\n",
      "\n",
      "_______________________\n",
      "epoch 2500\n",
      "Loss 0.03237264576739713\n",
      "\n",
      "_______________________\n",
      "epoch 2600\n",
      "Loss 0.032372228838760696\n",
      "\n",
      "_______________________\n",
      "epoch 2700\n",
      "Loss 0.032371838931775\n",
      "\n",
      "_______________________\n",
      "epoch 2800\n",
      "Loss 0.032371393458854675\n",
      "\n",
      "_______________________\n",
      "epoch 2900\n",
      "Loss 0.032370914973014885\n",
      "\n",
      "_______________________\n",
      "epoch 3000\n",
      "Loss 0.03237044853391471\n",
      "\n",
      "_______________________\n",
      "epoch 3100\n",
      "Loss 0.03236999220374923\n",
      "\n",
      "_______________________\n",
      "epoch 3200\n",
      "Loss 0.03236956667605693\n",
      "\n",
      "_______________________\n",
      "epoch 3300\n",
      "Loss 0.03236914520703609\n",
      "\n",
      "_______________________\n",
      "epoch 3400\n",
      "Loss 0.032368728396757154\n",
      "\n",
      "_______________________\n",
      "epoch 3500\n",
      "Loss 0.032368328398326686\n",
      "\n",
      "_______________________\n",
      "epoch 3600\n",
      "Loss 0.03236792968197897\n",
      "\n",
      "_______________________\n",
      "epoch 3700\n",
      "Loss 0.03236754295299004\n",
      "\n",
      "_______________________\n",
      "epoch 3800\n",
      "Loss 0.032367167993322205\n",
      "\n",
      "_______________________\n",
      "epoch 3900\n",
      "Loss 0.0323667881095191\n",
      "\n",
      "_______________________\n",
      "epoch 4000\n",
      "Loss 0.03236641664080587\n",
      "\n",
      "_______________________\n",
      "epoch 4100\n",
      "Loss 0.032365248464530934\n",
      "\n",
      "_______________________\n",
      "epoch 4200\n",
      "Loss 0.032363289258650736\n",
      "\n",
      "_______________________\n",
      "epoch 4300\n",
      "Loss 0.03236156728717703\n",
      "\n",
      "_______________________\n",
      "epoch 4400\n",
      "Loss 0.032360024432266064\n",
      "\n",
      "_______________________\n",
      "epoch 4500\n",
      "Loss 0.03235861956862997\n",
      "\n",
      "_______________________\n",
      "epoch 4600\n",
      "Loss 0.032357322950056014\n",
      "\n",
      "_______________________\n",
      "epoch 4700\n",
      "Loss 0.032356115124568804\n",
      "\n",
      "_______________________\n",
      "epoch 4800\n",
      "Loss 0.0323549813038406\n",
      "\n",
      "_______________________\n",
      "epoch 4900\n",
      "Loss 0.03235390968478844\n",
      "\n",
      "_______________________\n",
      "epoch 5000\n",
      "Loss 0.032352890652374615\n",
      "\n",
      "_______________________\n",
      "epoch 5100\n",
      "Loss 0.032351916302142576\n",
      "\n",
      "_______________________\n",
      "epoch 5200\n",
      "Loss 0.03235098010848043\n",
      "\n",
      "_______________________\n",
      "epoch 5300\n",
      "Loss 0.03235007667311116\n",
      "\n",
      "_______________________\n",
      "epoch 5400\n",
      "Loss 0.032349201525424975\n",
      "\n",
      "_______________________\n",
      "epoch 5500\n",
      "Loss 0.0323483509603383\n",
      "\n",
      "_______________________\n",
      "epoch 5600\n",
      "Loss 0.03234752190521842\n",
      "\n",
      "_______________________\n",
      "epoch 5700\n",
      "Loss 0.032346711810140906\n",
      "\n",
      "_______________________\n",
      "epoch 5800\n",
      "Loss 0.03234591855721117\n",
      "\n",
      "_______________________\n",
      "epoch 5900\n",
      "Loss 0.032345140385589284\n",
      "\n",
      "_______________________\n",
      "epoch 6000\n",
      "Loss 0.032344375829494926\n"
     ]
    },
    {
     "ename": "TclError",
     "evalue": "invalid command name \"pyimage40\"",
     "output_type": "error",
     "traceback": [
      "\u001b[0;31m---------------------------------------------------------------------------\u001b[0m",
      "\u001b[0;31mTclError\u001b[0m                                  Traceback (most recent call last)",
      "\u001b[0;32m<ipython-input-29-7b30bb46a620>\u001b[0m in \u001b[0;36m<module>\u001b[0;34m()\u001b[0m\n\u001b[1;32m     43\u001b[0m \u001b[0;31m#         ax2.scatter(neurons_pos[:,0], neurons_pos[:,1])\u001b[0m\u001b[0;34m\u001b[0m\u001b[0;34m\u001b[0m\u001b[0;34m\u001b[0m\u001b[0m\n\u001b[1;32m     44\u001b[0m \u001b[0;34m\u001b[0m\u001b[0m\n\u001b[0;32m---> 45\u001b[0;31m         \u001b[0mfig\u001b[0m\u001b[0;34m.\u001b[0m\u001b[0mcanvas\u001b[0m\u001b[0;34m.\u001b[0m\u001b[0mdraw\u001b[0m\u001b[0;34m(\u001b[0m\u001b[0;34m)\u001b[0m\u001b[0;34m\u001b[0m\u001b[0;34m\u001b[0m\u001b[0m\n\u001b[0m\u001b[1;32m     46\u001b[0m         \u001b[0mplt\u001b[0m\u001b[0;34m.\u001b[0m\u001b[0mpause\u001b[0m\u001b[0;34m(\u001b[0m\u001b[0;36m0.01\u001b[0m\u001b[0;34m)\u001b[0m\u001b[0;34m\u001b[0m\u001b[0;34m\u001b[0m\u001b[0m\n\u001b[1;32m     47\u001b[0m         \u001b[0mprint\u001b[0m\u001b[0;34m(\u001b[0m\u001b[0;34m)\u001b[0m\u001b[0;34m\u001b[0m\u001b[0;34m\u001b[0m\u001b[0m\n",
      "\u001b[0;32m~/Program_Files/Python/miniconda3/lib/python3.7/site-packages/matplotlib/backends/backend_tkagg.py\u001b[0m in \u001b[0;36mdraw\u001b[0;34m(self)\u001b[0m\n\u001b[1;32m      8\u001b[0m     \u001b[0;32mdef\u001b[0m \u001b[0mdraw\u001b[0m\u001b[0;34m(\u001b[0m\u001b[0mself\u001b[0m\u001b[0;34m)\u001b[0m\u001b[0;34m:\u001b[0m\u001b[0;34m\u001b[0m\u001b[0;34m\u001b[0m\u001b[0m\n\u001b[1;32m      9\u001b[0m         \u001b[0msuper\u001b[0m\u001b[0;34m(\u001b[0m\u001b[0mFigureCanvasTkAgg\u001b[0m\u001b[0;34m,\u001b[0m \u001b[0mself\u001b[0m\u001b[0;34m)\u001b[0m\u001b[0;34m.\u001b[0m\u001b[0mdraw\u001b[0m\u001b[0;34m(\u001b[0m\u001b[0;34m)\u001b[0m\u001b[0;34m\u001b[0m\u001b[0;34m\u001b[0m\u001b[0m\n\u001b[0;32m---> 10\u001b[0;31m         \u001b[0m_backend_tk\u001b[0m\u001b[0;34m.\u001b[0m\u001b[0mblit\u001b[0m\u001b[0;34m(\u001b[0m\u001b[0mself\u001b[0m\u001b[0;34m.\u001b[0m\u001b[0m_tkphoto\u001b[0m\u001b[0;34m,\u001b[0m \u001b[0mself\u001b[0m\u001b[0;34m.\u001b[0m\u001b[0mrenderer\u001b[0m\u001b[0;34m.\u001b[0m\u001b[0m_renderer\u001b[0m\u001b[0;34m,\u001b[0m \u001b[0;34m(\u001b[0m\u001b[0;36m0\u001b[0m\u001b[0;34m,\u001b[0m \u001b[0;36m1\u001b[0m\u001b[0;34m,\u001b[0m \u001b[0;36m2\u001b[0m\u001b[0;34m,\u001b[0m \u001b[0;36m3\u001b[0m\u001b[0;34m)\u001b[0m\u001b[0;34m)\u001b[0m\u001b[0;34m\u001b[0m\u001b[0;34m\u001b[0m\u001b[0m\n\u001b[0m\u001b[1;32m     11\u001b[0m         \u001b[0mself\u001b[0m\u001b[0;34m.\u001b[0m\u001b[0m_master\u001b[0m\u001b[0;34m.\u001b[0m\u001b[0mupdate_idletasks\u001b[0m\u001b[0;34m(\u001b[0m\u001b[0;34m)\u001b[0m\u001b[0;34m\u001b[0m\u001b[0;34m\u001b[0m\u001b[0m\n\u001b[1;32m     12\u001b[0m \u001b[0;34m\u001b[0m\u001b[0m\n",
      "\u001b[0;32m~/Program_Files/Python/miniconda3/lib/python3.7/site-packages/matplotlib/backends/_backend_tk.py\u001b[0m in \u001b[0;36mblit\u001b[0;34m(photoimage, aggimage, offsets, bbox)\u001b[0m\n\u001b[1;32m     74\u001b[0m         \u001b[0mbboxptr\u001b[0m \u001b[0;34m=\u001b[0m \u001b[0;34m(\u001b[0m\u001b[0mx1\u001b[0m\u001b[0;34m,\u001b[0m \u001b[0mx2\u001b[0m\u001b[0;34m,\u001b[0m \u001b[0my1\u001b[0m\u001b[0;34m,\u001b[0m \u001b[0my2\u001b[0m\u001b[0;34m)\u001b[0m\u001b[0;34m\u001b[0m\u001b[0;34m\u001b[0m\u001b[0m\n\u001b[1;32m     75\u001b[0m     \u001b[0;32melse\u001b[0m\u001b[0;34m:\u001b[0m\u001b[0;34m\u001b[0m\u001b[0;34m\u001b[0m\u001b[0m\n\u001b[0;32m---> 76\u001b[0;31m         \u001b[0mphotoimage\u001b[0m\u001b[0;34m.\u001b[0m\u001b[0mblank\u001b[0m\u001b[0;34m(\u001b[0m\u001b[0;34m)\u001b[0m\u001b[0;34m\u001b[0m\u001b[0;34m\u001b[0m\u001b[0m\n\u001b[0m\u001b[1;32m     77\u001b[0m         \u001b[0mbboxptr\u001b[0m \u001b[0;34m=\u001b[0m \u001b[0;34m(\u001b[0m\u001b[0;36m0\u001b[0m\u001b[0;34m,\u001b[0m \u001b[0mwidth\u001b[0m\u001b[0;34m,\u001b[0m \u001b[0;36m0\u001b[0m\u001b[0;34m,\u001b[0m \u001b[0mheight\u001b[0m\u001b[0;34m)\u001b[0m\u001b[0;34m\u001b[0m\u001b[0;34m\u001b[0m\u001b[0m\n\u001b[1;32m     78\u001b[0m     _tkagg.blit(\n",
      "\u001b[0;32m~/Program_Files/Python/miniconda3/lib/python3.7/tkinter/__init__.py\u001b[0m in \u001b[0;36mblank\u001b[0;34m(self)\u001b[0m\n\u001b[1;32m   3546\u001b[0m     \u001b[0;32mdef\u001b[0m \u001b[0mblank\u001b[0m\u001b[0;34m(\u001b[0m\u001b[0mself\u001b[0m\u001b[0;34m)\u001b[0m\u001b[0;34m:\u001b[0m\u001b[0;34m\u001b[0m\u001b[0;34m\u001b[0m\u001b[0m\n\u001b[1;32m   3547\u001b[0m         \u001b[0;34m\"\"\"Display a transparent image.\"\"\"\u001b[0m\u001b[0;34m\u001b[0m\u001b[0;34m\u001b[0m\u001b[0m\n\u001b[0;32m-> 3548\u001b[0;31m         \u001b[0mself\u001b[0m\u001b[0;34m.\u001b[0m\u001b[0mtk\u001b[0m\u001b[0;34m.\u001b[0m\u001b[0mcall\u001b[0m\u001b[0;34m(\u001b[0m\u001b[0mself\u001b[0m\u001b[0;34m.\u001b[0m\u001b[0mname\u001b[0m\u001b[0;34m,\u001b[0m \u001b[0;34m'blank'\u001b[0m\u001b[0;34m)\u001b[0m\u001b[0;34m\u001b[0m\u001b[0;34m\u001b[0m\u001b[0m\n\u001b[0m\u001b[1;32m   3549\u001b[0m     \u001b[0;32mdef\u001b[0m \u001b[0mcget\u001b[0m\u001b[0;34m(\u001b[0m\u001b[0mself\u001b[0m\u001b[0;34m,\u001b[0m \u001b[0moption\u001b[0m\u001b[0;34m)\u001b[0m\u001b[0;34m:\u001b[0m\u001b[0;34m\u001b[0m\u001b[0;34m\u001b[0m\u001b[0m\n\u001b[1;32m   3550\u001b[0m         \u001b[0;34m\"\"\"Return the value of OPTION.\"\"\"\u001b[0m\u001b[0;34m\u001b[0m\u001b[0;34m\u001b[0m\u001b[0m\n",
      "\u001b[0;31mTclError\u001b[0m: invalid command name \"pyimage40\""
     ]
    }
   ],
   "source": [
    "%matplotlib tk\n",
    "fig = plt.figure(figsize=(20,6))\n",
    "ax1 = fig.add_subplot(1, 2, 1)\n",
    "ax2 = fig.add_subplot(1, 2, 2)\n",
    "fig.show()\n",
    "\n",
    "for step in range(100000):\n",
    "    \n",
    "    y_out = net.forward(xx)\n",
    "    loss = tnn.MseLoss.loss(y_out, yy)\n",
    "    \n",
    "    dy = tnn.MseLoss.del_loss(y_out, yy)\n",
    "    dx = net.backward(dy)\n",
    "    \n",
    "    net.update()\n",
    "    \n",
    "    if step % 100 == 0:\n",
    "\n",
    "        print('_______________________')\n",
    "        print(\"epoch\", step)\n",
    "        print(\"Loss\", loss)\n",
    "\n",
    "        ax1.clear()\n",
    "        ax1.scatter(x, y, marker='.', color='g', label='x,y')\n",
    "        \n",
    "        ax1.plot(x, y_out, c='r', lw=2, label='x,y_out')\n",
    "        ax1.legend()\n",
    "        \n",
    "        ax2.clear()\n",
    "        synapses = []\n",
    "        for neuron in net.inners+net.motors:\n",
    "            for i in range(len(neuron.synapses)):\n",
    "                synapse = neuron.synapses[i]\n",
    "                ax2.plot((neuron.position[0], synapse.position[0]),\n",
    "                        (neuron.position[1], synapse.position[1]),\n",
    "                        lw=neuron.weights[i]*neuron.idist[i],\n",
    "                        marker='o',\n",
    "                        color='b')\n",
    "#         neurons_pos = []\n",
    "#         for neuron in net.sensors+net.inners + net.motors:\n",
    "#             neurons_pos.append(neuron.position)\n",
    "#         neurons_pos = np.array(neurons_pos)\n",
    "#         ax2.scatter(neurons_pos[:,0], neurons_pos[:,1])\n",
    "        \n",
    "        fig.canvas.draw()\n",
    "        plt.pause(0.01)\n",
    "        print()\n",
    "        if loss < 0.0025:\n",
    "            print('fitted to our expectation')\n",
    "            plt.pause(50)\n",
    "            break"
   ]
  },
  {
   "cell_type": "code",
   "execution_count": 30,
   "metadata": {},
   "outputs": [
    {
     "data": {
      "text/plain": [
       "0.0"
      ]
     },
     "execution_count": 30,
     "metadata": {},
     "output_type": "execute_result"
    }
   ],
   "source": [
    "(net.motors[0].del_outputs*net.sensors[0].outputs).std()"
   ]
  },
  {
   "cell_type": "code",
   "execution_count": 31,
   "metadata": {},
   "outputs": [
    {
     "data": {
      "text/plain": [
       "array([ 0.44798043,  0.32548278, -0.61859319, -0.68141706])"
      ]
     },
     "execution_count": 31,
     "metadata": {},
     "output_type": "execute_result"
    }
   ],
   "source": [
    "net.motors[0].weights"
   ]
  },
  {
   "cell_type": "markdown",
   "metadata": {},
   "source": [
    "### Plot all neurons"
   ]
  },
  {
   "cell_type": "code",
   "execution_count": 32,
   "metadata": {},
   "outputs": [
    {
     "data": {
      "text/plain": [
       "array([[0.12514337, 0.49287175],\n",
       "       [0.58453944, 0.46119022],\n",
       "       [0.68474592, 0.53579908],\n",
       "       [0.70266083, 0.45287931],\n",
       "       [0.70536872, 0.52043209],\n",
       "       [0.99754171, 0.49969358]])"
      ]
     },
     "execution_count": 32,
     "metadata": {},
     "output_type": "execute_result"
    }
   ],
   "source": [
    "neurons_pos = []\n",
    "for neuron in net.sensors+net.inners + net.motors:\n",
    "    neurons_pos.append(neuron.position)\n",
    "neurons_pos = np.array(neurons_pos)\n",
    "neurons_pos"
   ]
  },
  {
   "cell_type": "code",
   "execution_count": 33,
   "metadata": {},
   "outputs": [
    {
     "data": {
      "text/plain": [
       "<matplotlib.collections.PathCollection at 0x7fcaca438f90>"
      ]
     },
     "execution_count": 33,
     "metadata": {},
     "output_type": "execute_result"
    },
    {
     "data": {
      "image/png": "[encoded data removed]",
      "text/plain": [
       "<Figure size 432x288 with 1 Axes>"
      ]
     },
     "metadata": {
      "needs_background": "light"
     },
     "output_type": "display_data"
    }
   ],
   "source": [
    "%matplotlib inline\n",
    "plt.scatter(neurons_pos[:,0], neurons_pos[:,1])"
   ]
  },
  {
   "cell_type": "code",
   "execution_count": 34,
   "metadata": {},
   "outputs": [],
   "source": [
    "# net.motors[0].del_position"
   ]
  },
  {
   "cell_type": "code",
   "execution_count": 35,
   "metadata": {},
   "outputs": [
    {
     "data": {
      "text/plain": [
       "1"
      ]
     },
     "execution_count": 35,
     "metadata": {},
     "output_type": "execute_result"
    }
   ],
   "source": [
    "net.motors[0].cpg"
   ]
  },
  {
   "cell_type": "code",
   "execution_count": 36,
   "metadata": {},
   "outputs": [
    {
     "data": {
      "text/plain": [
       "1"
      ]
     },
     "execution_count": 36,
     "metadata": {},
     "output_type": "execute_result"
    }
   ],
   "source": [
    "net.sensors[0].cpg"
   ]
  },
  {
   "cell_type": "code",
   "execution_count": null,
   "metadata": {},
   "outputs": [],
   "source": []
  }
 ],
 "metadata": {
  "kernelspec": {
   "display_name": "Python 3",
   "language": "python",
   "name": "python3"
  },
  "language_info": {
   "codemirror_mode": {
    "name": "ipython",
    "version": 3
   },
   "file_extension": ".py",
   "mimetype": "text/x-python",
   "name": "python",
   "nbconvert_exporter": "python",
   "pygments_lexer": "ipython3",
   "version": "3.7.4"
  }
 },
 "nbformat": 4,
 "nbformat_minor": 2
}
