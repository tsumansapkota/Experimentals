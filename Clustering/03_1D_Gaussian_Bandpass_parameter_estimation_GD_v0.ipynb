{
 "cells": [
  {
   "cell_type": "code",
   "execution_count": 1,
   "metadata": {},
   "outputs": [],
   "source": [
    "import numpy as np\n",
    "import matplotlib.pyplot as plt\n",
    "import matplotlib\n",
    "\n",
    "from sklearn.mixture import GaussianMixture\n",
    "from sklearn.cluster import KMeans\n",
    "from sklearn.datasets import make_circles, make_moons\n",
    "\n",
    "import scipy\n",
    "\n",
    "import torch\n",
    "import torch.nn as nn\n",
    "import math"
   ]
  },
  {
   "cell_type": "code",
   "execution_count": 2,
   "metadata": {},
   "outputs": [],
   "source": [
    "class Gaussian(nn.Module):\n",
    "    def __init__(self):\n",
    "        super().__init__()\n",
    "        \n",
    "        self.mean = nn.Parameter(torch.tensor([0], dtype=torch.float32, requires_grad=True))\n",
    "        self.var = nn.Parameter(torch.tensor([1], dtype=torch.float32, requires_grad=True))\n",
    "        \n",
    "    def forward(self, x):\n",
    "        return torch.exp(-0.5*(x-self.mean)**2/self.var) / torch.sqrt(2*self.var*np.pi)\n",
    "    \n",
    "    def NLL(self, x):\n",
    "        t1 = -1/(2*self.var)*torch.mean((x-self.mean)**2) - torch.log(self.var)/2\n",
    "        return t1"
   ]
  },
  {
   "cell_type": "code",
   "execution_count": 3,
   "metadata": {},
   "outputs": [],
   "source": [
    "# inp = torch.randn(200,1)*3-1\n",
    "inp = torch.rand(200)*5-1\n",
    "targ = torch.ones_like(inp)/len(inp) \n",
    "gaus = Gaussian()"
   ]
  },
  {
   "cell_type": "code",
   "execution_count": 4,
   "metadata": {},
   "outputs": [],
   "source": [
    "optim = torch.optim.SGD(gaus.parameters(), lr=0.5)\n",
    "criterion = nn.MSELoss()"
   ]
  },
  {
   "cell_type": "code",
   "execution_count": 5,
   "metadata": {},
   "outputs": [
    {
     "name": "stdout",
     "output_type": "stream",
     "text": [
      "NLL:  2.047778844833374\n",
      "Mean: 0.7194718718528748, Variance: 1.773889422416687\n",
      "NLL:  0.8537141680717468\n",
      "Mean: 1.4055497646331787, Variance: 1.9505282640457153\n",
      "NLL:  0.8528896570205688\n",
      "Mean: 1.4371598958969116, Variance: 1.9868594408035278\n",
      "NLL:  0.8528124094009399\n",
      "Mean: 1.438844084739685, Variance: 2.005049467086792\n",
      "NLL:  0.8527920842170715\n",
      "Mean: 1.4389382600784302, Variance: 2.01446795463562\n",
      "NLL:  0.8527865409851074\n",
      "Mean: 1.43894362449646, Variance: 2.019413471221924\n",
      "NLL:  0.8527848720550537\n",
      "Mean: 1.4389437437057495, Variance: 2.022028923034668\n",
      "NLL:  0.8527845144271851\n",
      "Mean: 1.4389437437057495, Variance: 2.0234172344207764\n",
      "NLL:  0.8527843356132507\n",
      "Mean: 1.4389437437057495, Variance: 2.024155616760254\n",
      "NLL:  0.852784276008606\n",
      "Mean: 1.4389437437057495, Variance: 2.0245490074157715\n",
      "NLL:  0.852784276008606\n",
      "Mean: 1.4389437437057495, Variance: 2.0247585773468018\n",
      "NLL:  0.852784276008606\n",
      "Mean: 1.4389437437057495, Variance: 2.0248703956604004\n",
      "NLL:  0.852784276008606\n",
      "Mean: 1.4389437437057495, Variance: 2.024930000305176\n",
      "NLL:  0.852784276008606\n",
      "Mean: 1.4389437437057495, Variance: 2.024961471557617\n",
      "NLL:  0.852784276008606\n",
      "Mean: 1.4389437437057495, Variance: 2.0249783992767334\n",
      "NLL:  0.852784276008606\n",
      "Mean: 1.4389437437057495, Variance: 2.0249874591827393\n",
      "NLL:  0.852784276008606\n",
      "Mean: 1.4389437437057495, Variance: 2.0249922275543213\n",
      "NLL:  0.852784276008606\n",
      "Mean: 1.4389437437057495, Variance: 2.0249946117401123\n",
      "NLL:  0.852784276008606\n",
      "Mean: 1.4389437437057495, Variance: 2.024995803833008\n",
      "NLL:  0.852784276008606\n",
      "Mean: 1.4389437437057495, Variance: 2.024995803833008\n",
      "NLL:  0.852784276008606\n",
      "Mean: 1.4389437437057495, Variance: 2.024995803833008\n",
      "NLL:  0.852784276008606\n",
      "Mean: 1.4389437437057495, Variance: 2.024995803833008\n",
      "NLL:  0.852784276008606\n",
      "Mean: 1.4389437437057495, Variance: 2.024995803833008\n",
      "NLL:  0.852784276008606\n",
      "Mean: 1.4389437437057495, Variance: 2.024995803833008\n",
      "NLL:  0.852784276008606\n",
      "Mean: 1.4389437437057495, Variance: 2.024995803833008\n",
      "NLL:  0.852784276008606\n",
      "Mean: 1.4389437437057495, Variance: 2.024995803833008\n",
      "NLL:  0.852784276008606\n",
      "Mean: 1.4389437437057495, Variance: 2.024995803833008\n",
      "NLL:  0.852784276008606\n",
      "Mean: 1.4389437437057495, Variance: 2.024995803833008\n",
      "NLL:  0.852784276008606\n",
      "Mean: 1.4389437437057495, Variance: 2.024995803833008\n",
      "NLL:  0.852784276008606\n",
      "Mean: 1.4389437437057495, Variance: 2.024995803833008\n",
      "NLL:  0.852784276008606\n",
      "Mean: 1.4389437437057495, Variance: 2.024995803833008\n",
      "NLL:  0.852784276008606\n",
      "Mean: 1.4389437437057495, Variance: 2.024995803833008\n",
      "NLL:  0.852784276008606\n",
      "Mean: 1.4389437437057495, Variance: 2.024995803833008\n",
      "NLL:  0.852784276008606\n",
      "Mean: 1.4389437437057495, Variance: 2.024995803833008\n",
      "NLL:  0.852784276008606\n",
      "Mean: 1.4389437437057495, Variance: 2.024995803833008\n",
      "NLL:  0.852784276008606\n",
      "Mean: 1.4389437437057495, Variance: 2.024995803833008\n",
      "NLL:  0.852784276008606\n",
      "Mean: 1.4389437437057495, Variance: 2.024995803833008\n",
      "NLL:  0.852784276008606\n",
      "Mean: 1.4389437437057495, Variance: 2.024995803833008\n",
      "NLL:  0.852784276008606\n",
      "Mean: 1.4389437437057495, Variance: 2.024995803833008\n",
      "NLL:  0.852784276008606\n",
      "Mean: 1.4389437437057495, Variance: 2.024995803833008\n",
      "NLL:  0.852784276008606\n",
      "Mean: 1.4389437437057495, Variance: 2.024995803833008\n",
      "NLL:  0.852784276008606\n",
      "Mean: 1.4389437437057495, Variance: 2.024995803833008\n",
      "NLL:  0.852784276008606\n",
      "Mean: 1.4389437437057495, Variance: 2.024995803833008\n",
      "NLL:  0.852784276008606\n",
      "Mean: 1.4389437437057495, Variance: 2.024995803833008\n",
      "NLL:  0.852784276008606\n",
      "Mean: 1.4389437437057495, Variance: 2.024995803833008\n",
      "NLL:  0.852784276008606\n",
      "Mean: 1.4389437437057495, Variance: 2.024995803833008\n",
      "NLL:  0.852784276008606\n",
      "Mean: 1.4389437437057495, Variance: 2.024995803833008\n",
      "NLL:  0.852784276008606\n",
      "Mean: 1.4389437437057495, Variance: 2.024995803833008\n",
      "NLL:  0.852784276008606\n",
      "Mean: 1.4389437437057495, Variance: 2.024995803833008\n",
      "NLL:  0.852784276008606\n",
      "Mean: 1.4389437437057495, Variance: 2.024995803833008\n",
      "NLL:  0.852784276008606\n",
      "Mean: 1.4389437437057495, Variance: 2.024995803833008\n",
      "NLL:  0.852784276008606\n",
      "Mean: 1.4389437437057495, Variance: 2.024995803833008\n",
      "NLL:  0.852784276008606\n",
      "Mean: 1.4389437437057495, Variance: 2.024995803833008\n",
      "NLL:  0.852784276008606\n",
      "Mean: 1.4389437437057495, Variance: 2.024995803833008\n",
      "NLL:  0.852784276008606\n",
      "Mean: 1.4389437437057495, Variance: 2.024995803833008\n",
      "NLL:  0.852784276008606\n",
      "Mean: 1.4389437437057495, Variance: 2.024995803833008\n",
      "NLL:  0.852784276008606\n",
      "Mean: 1.4389437437057495, Variance: 2.024995803833008\n",
      "NLL:  0.852784276008606\n",
      "Mean: 1.4389437437057495, Variance: 2.024995803833008\n",
      "NLL:  0.852784276008606\n",
      "Mean: 1.4389437437057495, Variance: 2.024995803833008\n",
      "NLL:  0.852784276008606\n",
      "Mean: 1.4389437437057495, Variance: 2.024995803833008\n",
      "NLL:  0.852784276008606\n",
      "Mean: 1.4389437437057495, Variance: 2.024995803833008\n",
      "NLL:  0.852784276008606\n",
      "Mean: 1.4389437437057495, Variance: 2.024995803833008\n",
      "NLL:  0.852784276008606\n",
      "Mean: 1.4389437437057495, Variance: 2.024995803833008\n",
      "NLL:  0.852784276008606\n",
      "Mean: 1.4389437437057495, Variance: 2.024995803833008\n",
      "NLL:  0.852784276008606\n",
      "Mean: 1.4389437437057495, Variance: 2.024995803833008\n",
      "NLL:  0.852784276008606\n",
      "Mean: 1.4389437437057495, Variance: 2.024995803833008\n",
      "NLL:  0.852784276008606\n",
      "Mean: 1.4389437437057495, Variance: 2.024995803833008\n",
      "NLL:  0.852784276008606\n",
      "Mean: 1.4389437437057495, Variance: 2.024995803833008\n",
      "NLL:  0.852784276008606\n",
      "Mean: 1.4389437437057495, Variance: 2.024995803833008\n",
      "NLL:  0.852784276008606\n",
      "Mean: 1.4389437437057495, Variance: 2.024995803833008\n",
      "NLL:  0.852784276008606\n",
      "Mean: 1.4389437437057495, Variance: 2.024995803833008\n",
      "NLL:  0.852784276008606\n",
      "Mean: 1.4389437437057495, Variance: 2.024995803833008\n",
      "NLL:  0.852784276008606\n",
      "Mean: 1.4389437437057495, Variance: 2.024995803833008\n",
      "NLL:  0.852784276008606\n",
      "Mean: 1.4389437437057495, Variance: 2.024995803833008\n",
      "NLL:  0.852784276008606\n",
      "Mean: 1.4389437437057495, Variance: 2.024995803833008\n",
      "NLL:  0.852784276008606\n",
      "Mean: 1.4389437437057495, Variance: 2.024995803833008\n",
      "NLL:  0.852784276008606\n",
      "Mean: 1.4389437437057495, Variance: 2.024995803833008\n",
      "NLL:  0.852784276008606\n",
      "Mean: 1.4389437437057495, Variance: 2.024995803833008\n",
      "NLL:  0.852784276008606\n",
      "Mean: 1.4389437437057495, Variance: 2.024995803833008\n",
      "NLL:  0.852784276008606\n",
      "Mean: 1.4389437437057495, Variance: 2.024995803833008\n",
      "NLL:  0.852784276008606\n",
      "Mean: 1.4389437437057495, Variance: 2.024995803833008\n",
      "NLL:  0.852784276008606\n",
      "Mean: 1.4389437437057495, Variance: 2.024995803833008\n",
      "NLL:  0.852784276008606\n",
      "Mean: 1.4389437437057495, Variance: 2.024995803833008\n",
      "NLL:  0.852784276008606\n",
      "Mean: 1.4389437437057495, Variance: 2.024995803833008\n",
      "NLL:  0.852784276008606\n",
      "Mean: 1.4389437437057495, Variance: 2.024995803833008\n",
      "NLL:  0.852784276008606\n",
      "Mean: 1.4389437437057495, Variance: 2.024995803833008\n",
      "NLL:  0.852784276008606\n",
      "Mean: 1.4389437437057495, Variance: 2.024995803833008\n",
      "NLL:  0.852784276008606\n",
      "Mean: 1.4389437437057495, Variance: 2.024995803833008\n",
      "NLL:  0.852784276008606\n",
      "Mean: 1.4389437437057495, Variance: 2.024995803833008\n",
      "NLL:  0.852784276008606\n",
      "Mean: 1.4389437437057495, Variance: 2.024995803833008\n",
      "NLL:  0.852784276008606\n",
      "Mean: 1.4389437437057495, Variance: 2.024995803833008\n",
      "NLL:  0.852784276008606\n",
      "Mean: 1.4389437437057495, Variance: 2.024995803833008\n",
      "NLL:  0.852784276008606\n",
      "Mean: 1.4389437437057495, Variance: 2.024995803833008\n",
      "NLL:  0.852784276008606\n",
      "Mean: 1.4389437437057495, Variance: 2.024995803833008\n",
      "NLL:  0.852784276008606\n",
      "Mean: 1.4389437437057495, Variance: 2.024995803833008\n",
      "NLL:  0.852784276008606\n",
      "Mean: 1.4389437437057495, Variance: 2.024995803833008\n",
      "NLL:  0.852784276008606\n",
      "Mean: 1.4389437437057495, Variance: 2.024995803833008\n",
      "NLL:  0.852784276008606\n",
      "Mean: 1.4389437437057495, Variance: 2.024995803833008\n",
      "NLL:  0.852784276008606\n",
      "Mean: 1.4389437437057495, Variance: 2.024995803833008\n",
      "NLL:  0.852784276008606\n",
      "Mean: 1.4389437437057495, Variance: 2.024995803833008\n"
     ]
    }
   ],
   "source": [
    "for i in range(1000):\n",
    "    NLL = -gaus.NLL(inp)\n",
    "    optim.zero_grad()\n",
    "    NLL.backward()\n",
    "    optim.step()\n",
    "    if i%10 == 0:\n",
    "        print(\"NLL: \", float(NLL))\n",
    "        print(f\"Mean: {gaus.mean.data[0]}, Variance: {gaus.var.data[0]}\")"
   ]
  },
  {
   "cell_type": "code",
   "execution_count": 6,
   "metadata": {},
   "outputs": [],
   "source": [
    "yout = gaus(inp)"
   ]
  },
  {
   "cell_type": "code",
   "execution_count": 7,
   "metadata": {},
   "outputs": [
    {
     "data": {
      "text/plain": [
       "<matplotlib.collections.PathCollection at 0x7f71ec6e5f90>"
      ]
     },
     "execution_count": 7,
     "metadata": {},
     "output_type": "execute_result"
    },
    {
     "data": {
      "image/png": "[encoded data removed]",
      "text/plain": [
       "<Figure size 432x288 with 1 Axes>"
      ]
     },
     "metadata": {
      "needs_background": "light"
     },
     "output_type": "display_data"
    }
   ],
   "source": [
    "plt.scatter(inp.data.numpy(), yout.data.numpy())"
   ]
  },
  {
   "cell_type": "code",
   "execution_count": 8,
   "metadata": {},
   "outputs": [
    {
     "name": "stdout",
     "output_type": "stream",
     "text": [
      "GD   -> Mean: 1.4389437437057495, Variance: 2.024995803833008\n",
      "Torch-> Mean: 1.4389439821243286, Variance: 2.0351738929748535\n"
     ]
    }
   ],
   "source": [
    "print(f\"GD   -> Mean: {gaus.mean.data[0]}, Variance: {gaus.var.data[0]}\")\n",
    "print(f\"Torch-> Mean: {torch.mean(inp)}, Variance: {torch.var(inp)}\")"
   ]
  },
  {
   "cell_type": "code",
   "execution_count": 9,
   "metadata": {},
   "outputs": [
    {
     "data": {
      "text/plain": [
       "tensor(37.4341, grad_fn=<SumBackward0>)"
      ]
     },
     "execution_count": 9,
     "metadata": {},
     "output_type": "execute_result"
    }
   ],
   "source": [
    "torch.sum(yout)"
   ]
  },
  {
   "cell_type": "code",
   "execution_count": 10,
   "metadata": {},
   "outputs": [],
   "source": [
    "# https://github.com/mhdadk/Maximum-Likelihood-Estimation/blob/master/mle_gaussian.ipynb"
   ]
  },
  {
   "cell_type": "markdown",
   "metadata": {},
   "source": [
    "## For Bandpass Distribution"
   ]
  },
  {
   "cell_type": "code",
   "execution_count": 11,
   "metadata": {},
   "outputs": [],
   "source": [
    "# %timeit math.gamma(1/4)"
   ]
  },
  {
   "cell_type": "code",
   "execution_count": 12,
   "metadata": {},
   "outputs": [],
   "source": [
    "# %timeit scipy.special.gamma(1/4)"
   ]
  },
  {
   "cell_type": "code",
   "execution_count": 13,
   "metadata": {},
   "outputs": [],
   "source": [
    "# v = torch.tensor([1/4])\n",
    "# math.gamma(1/4), scipy.special.gamma(1/4), float(torch.lgamma(v).exp()[0])"
   ]
  },
  {
   "cell_type": "code",
   "execution_count": 14,
   "metadata": {},
   "outputs": [],
   "source": [
    "# %timeit torch.lgamma(v).exp()"
   ]
  },
  {
   "cell_type": "code",
   "execution_count": 15,
   "metadata": {},
   "outputs": [],
   "source": [
    "# class Bandpass(nn.Module):\n",
    "#     def __init__(self):\n",
    "#         super().__init__()\n",
    "        \n",
    "#         ##mean, var, a\n",
    "#         self.params = nn.Parameter(torch.tensor([0, 1, 1], dtype=torch.float32, requires_grad=True))\n",
    "        \n",
    "#     def forward(self, x):\n",
    "#         n1 = torch.exp(-((torch.abs(x-self.params[0]))/self.params[1])**(4*self.params[2]))\n",
    "#         d1 = self.params[1]*0.25/self.params[2] * math.gamma(0.25/float(self.params[2]))\n",
    "# #         d1 = self.params[1]*0.25/self.params[2] * torch.lgamma(0.25/self.params[2]).exp()\n",
    "#         return  n1/d1\n",
    "    \n",
    "#     def NLL(self, x):\n",
    "#         t1 = torch.mean(((torch.abs(x-self.params[0]))/self.params[1])**(4*self.params[2]))\n",
    "# #         t2 = torch.log(0.25/self.params[2] * math.gamma(0.25/float(self.params[2])))\n",
    "#         t2 = torch.log(0.25/self.params[2] * math.gamma(0.25/self.params[2]))\n",
    "# #         t2 = torch.log(0.25/self.params[2] * torch.lgamma(0.25/self.params[2]).exp())\n",
    "# #         t2 = torch.log(0.25/self.params[2]) + torch.lgamma(0.25/self.params[2]+1e-4)\n",
    "#         t3 = torch.log(self.params[1])\n",
    "#         return -t1-t2-t3"
   ]
  },
  {
   "cell_type": "code",
   "execution_count": 16,
   "metadata": {},
   "outputs": [],
   "source": [
    "class Bandpass(nn.Module):\n",
    "    def __init__(self):\n",
    "        super().__init__()\n",
    "        \n",
    "        ##mean, var, a\n",
    "        self.params = nn.Parameter(torch.tensor([0, 1, 1], dtype=torch.float32, requires_grad=True))\n",
    "        \n",
    "    def forward(self, x):\n",
    "        n1 = torch.exp(-(((x-self.params[0])**2)*(self.params[1]**2))**self.params[2])\n",
    "        n2 = self.params[1]*self.params[2]\n",
    "        d1 = math.gamma(0.5/float(self.params[2]))\n",
    "#         d1 = torch.lgamma(0.5/self.params[2]).exp()\n",
    "        return  n1*n2/d1\n",
    "    \n",
    "    def NLL(self, x):\n",
    "        t1 = torch.mean((((x-self.params[0])**2)*(self.params[1]**2))**self.params[2])\n",
    "        t2 = torch.log(self.params[1]*self.params[2])\n",
    "#         t3 = torch.log(math.gamma(0.5/self.params[2]))\n",
    "#         t3 = torch.log(math.gamma(0.5/float(self.params[2])))\n",
    "        t3 = torch.lgamma(0.5/self.params[2])\n",
    "        \n",
    "        return -t1+t2-t3"
   ]
  },
  {
   "cell_type": "code",
   "execution_count": 17,
   "metadata": {},
   "outputs": [],
   "source": [
    "# inp = torch.randn(200,1)*3-1\n",
    "# inp = torch.rand(200)*5-1\n",
    "targ = torch.ones_like(inp)/len(inp)\n",
    "bpas = Bandpass()"
   ]
  },
  {
   "cell_type": "code",
   "execution_count": 18,
   "metadata": {},
   "outputs": [],
   "source": [
    "optim = torch.optim.Adam(bpas.parameters(), lr=0.03)\n",
    "# optim = torch.optim.SGD(bpas.parameters(), lr=0.5)\n",
    "criterion = nn.MSELoss()"
   ]
  },
  {
   "cell_type": "code",
   "execution_count": 19,
   "metadata": {},
   "outputs": [
    {
     "name": "stdout",
     "output_type": "stream",
     "text": [
      "NLL:  4.667922496795654\n",
      "Params: Parameter containing:\n",
      "tensor([0.0300, 0.9700, 0.9700], requires_grad=True)\n",
      "NLL:  1.8039336204528809\n",
      "Params: Parameter containing:\n",
      "tensor([1.2397, 0.5261, 0.8651], requires_grad=True)\n",
      "NLL:  1.748281717300415\n",
      "Params: Parameter containing:\n",
      "tensor([1.4300, 0.4680, 1.2076], requires_grad=True)\n",
      "NLL:  1.725970983505249\n",
      "Params: Parameter containing:\n",
      "tensor([1.4103, 0.4451, 1.4869], requires_grad=True)\n",
      "NLL:  1.71206796169281\n",
      "Params: Parameter containing:\n",
      "tensor([1.4009, 0.4335, 1.7301], requires_grad=True)\n",
      "NLL:  1.7022950649261475\n",
      "Params: Parameter containing:\n",
      "tensor([1.3961, 0.4265, 1.9498], requires_grad=True)\n",
      "NLL:  1.694909930229187\n",
      "Params: Parameter containing:\n",
      "tensor([1.3937, 0.4217, 2.1532], requires_grad=True)\n",
      "NLL:  1.6890549659729004\n",
      "Params: Parameter containing:\n",
      "tensor([1.3929, 0.4183, 2.3445], requires_grad=True)\n",
      "NLL:  1.6842516660690308\n",
      "Params: Parameter containing:\n",
      "tensor([1.3930, 0.4157, 2.5264], requires_grad=True)\n",
      "NLL:  1.680208683013916\n",
      "Params: Parameter containing:\n",
      "tensor([1.3936, 0.4136, 2.7010], requires_grad=True)\n",
      "NLL:  1.6767363548278809\n",
      "Params: Parameter containing:\n",
      "tensor([1.3947, 0.4120, 2.8696], requires_grad=True)\n",
      "NLL:  1.673706293106079\n",
      "Params: Parameter containing:\n",
      "tensor([1.3961, 0.4106, 3.0335], requires_grad=True)\n",
      "NLL:  1.6710267066955566\n",
      "Params: Parameter containing:\n",
      "tensor([1.3976, 0.4095, 3.1934], requires_grad=True)\n",
      "NLL:  1.6686302423477173\n",
      "Params: Parameter containing:\n",
      "tensor([1.3992, 0.4085, 3.3500], requires_grad=True)\n",
      "NLL:  1.6664671897888184\n",
      "Params: Parameter containing:\n",
      "tensor([1.4009, 0.4077, 3.5040], requires_grad=True)\n",
      "NLL:  1.6644988059997559\n",
      "Params: Parameter containing:\n",
      "tensor([1.4027, 0.4070, 3.6559], requires_grad=True)\n",
      "NLL:  1.6626948118209839\n",
      "Params: Parameter containing:\n",
      "tensor([1.4044, 0.4063, 3.8060], requires_grad=True)\n",
      "NLL:  1.6610312461853027\n",
      "Params: Parameter containing:\n",
      "tensor([1.4062, 0.4058, 3.9546], requires_grad=True)\n",
      "NLL:  1.6594886779785156\n",
      "Params: Parameter containing:\n",
      "tensor([1.4080, 0.4053, 4.1022], requires_grad=True)\n",
      "NLL:  1.6580513715744019\n",
      "Params: Parameter containing:\n",
      "tensor([1.4097, 0.4048, 4.2490], requires_grad=True)\n",
      "NLL:  1.6567060947418213\n",
      "Params: Parameter containing:\n",
      "tensor([1.4115, 0.4044, 4.3952], requires_grad=True)\n",
      "NLL:  1.655442476272583\n",
      "Params: Parameter containing:\n",
      "tensor([1.4132, 0.4040, 4.5410], requires_grad=True)\n",
      "NLL:  1.654250979423523\n",
      "Params: Parameter containing:\n",
      "tensor([1.4149, 0.4037, 4.6867], requires_grad=True)\n",
      "NLL:  1.6531238555908203\n",
      "Params: Parameter containing:\n",
      "tensor([1.4165, 0.4034, 4.8324], requires_grad=True)\n",
      "NLL:  1.652054786682129\n",
      "Params: Parameter containing:\n",
      "tensor([1.4182, 0.4031, 4.9783], requires_grad=True)\n",
      "NLL:  1.6510379314422607\n",
      "Params: Parameter containing:\n",
      "tensor([1.4198, 0.4029, 5.1246], requires_grad=True)\n",
      "NLL:  1.6500680446624756\n",
      "Params: Parameter containing:\n",
      "tensor([1.4213, 0.4026, 5.2713], requires_grad=True)\n",
      "NLL:  1.6491410732269287\n",
      "Params: Parameter containing:\n",
      "tensor([1.4229, 0.4024, 5.4187], requires_grad=True)\n",
      "NLL:  1.6482539176940918\n",
      "Params: Parameter containing:\n",
      "tensor([1.4244, 0.4022, 5.5668], requires_grad=True)\n",
      "NLL:  1.6474024057388306\n",
      "Params: Parameter containing:\n",
      "tensor([1.4258, 0.4020, 5.7157], requires_grad=True)\n",
      "NLL:  1.6465837955474854\n",
      "Params: Parameter containing:\n",
      "tensor([1.4273, 0.4019, 5.8657], requires_grad=True)\n",
      "NLL:  1.6457959413528442\n",
      "Params: Parameter containing:\n",
      "tensor([1.4287, 0.4017, 6.0167], requires_grad=True)\n",
      "NLL:  1.6450364589691162\n",
      "Params: Parameter containing:\n",
      "tensor([1.4301, 0.4016, 6.1690], requires_grad=True)\n",
      "NLL:  1.6443029642105103\n",
      "Params: Parameter containing:\n",
      "tensor([1.4314, 0.4014, 6.3225], requires_grad=True)\n",
      "NLL:  1.6435937881469727\n",
      "Params: Parameter containing:\n",
      "tensor([1.4327, 0.4013, 6.4774], requires_grad=True)\n",
      "NLL:  1.6429076194763184\n",
      "Params: Parameter containing:\n",
      "tensor([1.4340, 0.4012, 6.6338], requires_grad=True)\n",
      "NLL:  1.642242670059204\n",
      "Params: Parameter containing:\n",
      "tensor([1.4353, 0.4011, 6.7917], requires_grad=True)\n",
      "NLL:  1.6415975093841553\n",
      "Params: Parameter containing:\n",
      "tensor([1.4365, 0.4009, 6.9513], requires_grad=True)\n",
      "NLL:  1.6409764289855957\n",
      "Params: Parameter containing:\n",
      "tensor([1.4377, 0.4004, 7.1121], requires_grad=True)\n",
      "NLL:  1.640364408493042\n",
      "Params: Parameter containing:\n",
      "tensor([1.4389, 0.4008, 7.2752], requires_grad=True)\n",
      "NLL:  1.6397756338119507\n",
      "Params: Parameter containing:\n",
      "tensor([1.4400, 0.4009, 7.4398], requires_grad=True)\n",
      "NLL:  1.639197826385498\n",
      "Params: Parameter containing:\n",
      "tensor([1.4411, 0.4006, 7.6068], requires_grad=True)\n",
      "NLL:  1.6386387348175049\n",
      "Params: Parameter containing:\n",
      "tensor([1.4422, 0.4006, 7.7754], requires_grad=True)\n",
      "NLL:  1.6384459733963013\n",
      "Params: Parameter containing:\n",
      "tensor([1.4433, 0.3976, 7.9463], requires_grad=True)\n",
      "NLL:  1.637559175491333\n",
      "Params: Parameter containing:\n",
      "tensor([1.4443, 0.4004, 8.1194], requires_grad=True)\n",
      "NLL:  1.6370407342910767\n",
      "Params: Parameter containing:\n",
      "tensor([1.4454, 0.4004, 8.2945], requires_grad=True)\n",
      "NLL:  1.6365331411361694\n",
      "Params: Parameter containing:\n",
      "tensor([1.4464, 0.4005, 8.4725], requires_grad=True)\n",
      "NLL:  1.6360362768173218\n",
      "Params: Parameter containing:\n",
      "tensor([1.4473, 0.4002, 8.6523], requires_grad=True)\n",
      "NLL:  1.6355650424957275\n",
      "Params: Parameter containing:\n",
      "tensor([1.4483, 0.3998, 8.8347], requires_grad=True)\n",
      "NLL:  1.6350781917572021\n",
      "Params: Parameter containing:\n",
      "tensor([1.4492, 0.4001, 9.0200], requires_grad=True)\n",
      "NLL:  1.6346155405044556\n",
      "Params: Parameter containing:\n",
      "tensor([1.4501, 0.4000, 9.2074], requires_grad=True)\n",
      "NLL:  1.634338140487671\n",
      "Params: Parameter containing:\n",
      "tensor([1.4510, 0.4009, 9.3978], requires_grad=True)\n",
      "NLL:  1.6337189674377441\n",
      "Params: Parameter containing:\n",
      "tensor([1.4519, 0.3999, 9.5909], requires_grad=True)\n",
      "NLL:  1.6332848072052002\n",
      "Params: Parameter containing:\n",
      "tensor([1.4528, 0.3999, 9.7866], requires_grad=True)\n",
      "NLL:  1.6328625679016113\n",
      "Params: Parameter containing:\n",
      "tensor([1.4536, 0.4001, 9.9852], requires_grad=True)\n",
      "NLL:  1.6324487924575806\n",
      "Params: Parameter containing:\n",
      "tensor([ 1.4544,  0.4002, 10.1867], requires_grad=True)\n",
      "NLL:  1.632047414779663\n",
      "Params: Parameter containing:\n",
      "tensor([ 1.4552,  0.4003, 10.3912], requires_grad=True)\n",
      "NLL:  1.6316434144973755\n",
      "Params: Parameter containing:\n",
      "tensor([ 1.4560,  0.4000, 10.5987], requires_grad=True)\n",
      "NLL:  1.631258249282837\n",
      "Params: Parameter containing:\n",
      "tensor([ 1.4567,  0.4002, 10.8093], requires_grad=True)\n",
      "NLL:  1.6308619976043701\n",
      "Params: Parameter containing:\n",
      "tensor([ 1.4575,  0.3998, 11.0231], requires_grad=True)\n",
      "NLL:  1.6304914951324463\n",
      "Params: Parameter containing:\n",
      "tensor([ 1.4582,  0.3995, 11.2400], requires_grad=True)\n",
      "NLL:  1.6301254034042358\n",
      "Params: Parameter containing:\n",
      "tensor([ 1.4589,  0.4001, 11.4601], requires_grad=True)\n",
      "NLL:  1.629759430885315\n",
      "Params: Parameter containing:\n",
      "tensor([ 1.4596,  0.3998, 11.6837], requires_grad=True)\n",
      "NLL:  1.629402995109558\n",
      "Params: Parameter containing:\n",
      "tensor([ 1.4603,  0.3998, 11.9106], requires_grad=True)\n",
      "NLL:  1.6290702819824219\n",
      "Params: Parameter containing:\n",
      "tensor([ 1.4610,  0.3993, 12.1410], requires_grad=True)\n",
      "NLL:  1.6287212371826172\n",
      "Params: Parameter containing:\n",
      "tensor([ 1.4616,  0.3993, 12.3751], requires_grad=True)\n",
      "NLL:  1.628396987915039\n",
      "Params: Parameter containing:\n",
      "tensor([ 1.4623,  0.3991, 12.6125], requires_grad=True)\n",
      "NLL:  1.6285841464996338\n",
      "Params: Parameter containing:\n",
      "tensor([ 1.4629,  0.4019, 12.8534], requires_grad=True)\n",
      "NLL:  1.6277480125427246\n",
      "Params: Parameter containing:\n",
      "tensor([ 1.4635,  0.4002, 13.0977], requires_grad=True)\n",
      "NLL:  1.6274352073669434\n",
      "Params: Parameter containing:\n",
      "tensor([ 1.4641,  0.4000, 13.3462], requires_grad=True)\n",
      "NLL:  1.6271153688430786\n",
      "Params: Parameter containing:\n",
      "tensor([ 1.4647,  0.3995, 13.5982], requires_grad=True)\n",
      "NLL:  1.6268645524978638\n",
      "Params: Parameter containing:\n",
      "tensor([ 1.4652,  0.3987, 13.8542], requires_grad=True)\n",
      "NLL:  1.6265249252319336\n",
      "Params: Parameter containing:\n",
      "tensor([ 1.4658,  0.4001, 14.1135], requires_grad=True)\n",
      "NLL:  1.6262190341949463\n",
      "Params: Parameter containing:\n",
      "tensor([ 1.4663,  0.3996, 14.3774], requires_grad=True)\n",
      "NLL:  1.6259397268295288\n",
      "Params: Parameter containing:\n",
      "tensor([ 1.4669,  0.3989, 14.6451], requires_grad=True)\n",
      "NLL:  1.6256685256958008\n",
      "Params: Parameter containing:\n",
      "tensor([ 1.4674,  0.3991, 14.9169], requires_grad=True)\n",
      "NLL:  1.6253993511199951\n",
      "Params: Parameter containing:\n",
      "tensor([ 1.4679,  0.4001, 15.1927], requires_grad=True)\n",
      "NLL:  1.625116229057312\n",
      "Params: Parameter containing:\n",
      "tensor([ 1.4684,  0.3993, 15.4726], requires_grad=True)\n"
     ]
    },
    {
     "name": "stdout",
     "output_type": "stream",
     "text": [
      "NLL:  1.6248466968536377\n",
      "Params: Parameter containing:\n",
      "tensor([ 1.4688,  0.3997, 15.7567], requires_grad=True)\n",
      "NLL:  1.624754548072815\n",
      "Params: Parameter containing:\n",
      "tensor([ 1.4694,  0.4009, 16.0454], requires_grad=True)\n",
      "NLL:  1.6244415044784546\n",
      "Params: Parameter containing:\n",
      "tensor([ 1.4697,  0.4003, 16.3375], requires_grad=True)\n",
      "NLL:  1.6240867376327515\n",
      "Params: Parameter containing:\n",
      "tensor([ 1.4703,  0.3993, 16.6350], requires_grad=True)\n",
      "NLL:  1.6238558292388916\n",
      "Params: Parameter containing:\n",
      "tensor([ 1.4709,  0.3997, 16.9365], requires_grad=True)\n",
      "NLL:  1.6236454248428345\n",
      "Params: Parameter containing:\n",
      "tensor([ 1.4713,  0.4002, 17.2427], requires_grad=True)\n",
      "NLL:  1.6234933137893677\n",
      "Params: Parameter containing:\n",
      "tensor([ 1.4717,  0.4006, 17.5534], requires_grad=True)\n",
      "NLL:  1.6232755184173584\n",
      "Params: Parameter containing:\n",
      "tensor([ 1.4721,  0.4007, 17.8689], requires_grad=True)\n",
      "NLL:  1.622954249382019\n",
      "Params: Parameter containing:\n",
      "tensor([ 1.4725,  0.4001, 18.1886], requires_grad=True)\n",
      "NLL:  1.6227880716323853\n",
      "Params: Parameter containing:\n",
      "tensor([ 1.4729,  0.4004, 18.5137], requires_grad=True)\n",
      "NLL:  1.6225066184997559\n",
      "Params: Parameter containing:\n",
      "tensor([ 1.4733,  0.4001, 18.8436], requires_grad=True)\n",
      "NLL:  1.6222584247589111\n",
      "Params: Parameter containing:\n",
      "tensor([ 1.4737,  0.3994, 19.1778], requires_grad=True)\n",
      "NLL:  1.6220803260803223\n",
      "Params: Parameter containing:\n",
      "tensor([ 1.4741,  0.3989, 19.5180], requires_grad=True)\n",
      "NLL:  1.621842861175537\n",
      "Params: Parameter containing:\n",
      "tensor([ 1.4749,  0.3993, 19.8628], requires_grad=True)\n",
      "NLL:  1.6216669082641602\n",
      "Params: Parameter containing:\n",
      "tensor([ 1.4748,  0.3990, 20.2131], requires_grad=True)\n",
      "NLL:  1.6215393543243408\n",
      "Params: Parameter containing:\n",
      "tensor([ 1.4697,  0.3990, 20.5680], requires_grad=True)\n",
      "NLL:  1.6212918758392334\n",
      "Params: Parameter containing:\n",
      "tensor([ 1.4756,  0.4000, 20.9289], requires_grad=True)\n",
      "NLL:  1.6210980415344238\n",
      "Params: Parameter containing:\n",
      "tensor([ 1.4759,  0.3989, 21.2954], requires_grad=True)\n",
      "NLL:  1.6209275722503662\n",
      "Params: Parameter containing:\n",
      "tensor([ 1.4763,  0.4001, 21.6669], requires_grad=True)\n",
      "NLL:  1.6209971904754639\n",
      "Params: Parameter containing:\n",
      "tensor([ 1.4766,  0.3981, 22.0450], requires_grad=True)\n",
      "NLL:  1.6205511093139648\n",
      "Params: Parameter containing:\n",
      "tensor([ 1.4737,  0.3994, 22.4275], requires_grad=True)\n",
      "NLL:  1.6204590797424316\n",
      "Params: Parameter containing:\n",
      "tensor([ 1.4772,  0.3986, 22.8171], requires_grad=True)\n"
     ]
    }
   ],
   "source": [
    "for i in range(10000):\n",
    "    NLL = -bpas.NLL(inp)\n",
    "    optim.zero_grad()\n",
    "    NLL.backward()\n",
    "    if torch.any(torch.isnan(bpas.params.grad)):\n",
    "        print(\"the gradient is NAN\")\n",
    "        print(\"NLL: \", float(NLL))\n",
    "        print(f\"Params: {bpas.params}\")\n",
    "        break\n",
    "#     bpas.params.grad[2] = 0\n",
    "    optim.step()\n",
    "    if i%100 == 0:\n",
    "        print(\"NLL: \", float(NLL))\n",
    "        print(f\"Params: {bpas.params}\")\n",
    "\n",
    "\n",
    "# NLL = -bpas.NLL(inp)\n",
    "# optim.zero_grad()\n",
    "# NLL.backward()\n",
    "# optim.step()\n",
    "# print(\"NLL: \", float(NLL))\n",
    "# print(f\"Params: {bpas.params}\")\n",
    "\n",
    "# bpas.params.grad[2] = 0."
   ]
  },
  {
   "cell_type": "code",
   "execution_count": 20,
   "metadata": {},
   "outputs": [
    {
     "name": "stdout",
     "output_type": "stream",
     "text": [
      "NLL:  1.6202032566070557\n",
      "Params: Parameter containing:\n",
      "tensor([ 1.4773,  0.3992, 23.2126], requires_grad=True)\n"
     ]
    }
   ],
   "source": [
    "NLL = -bpas.NLL(inp)\n",
    "optim.zero_grad()\n",
    "NLL.backward()\n",
    "optim.step()\n",
    "print(\"NLL: \", float(NLL))\n",
    "print(f\"Params: {bpas.params}\")"
   ]
  },
  {
   "cell_type": "code",
   "execution_count": 21,
   "metadata": {},
   "outputs": [
    {
     "data": {
      "text/plain": [
       "tensor([ 0.0013,  0.1614, -0.0004])"
      ]
     },
     "execution_count": 21,
     "metadata": {},
     "output_type": "execute_result"
    }
   ],
   "source": [
    "bpas.params.grad"
   ]
  },
  {
   "cell_type": "code",
   "execution_count": 22,
   "metadata": {},
   "outputs": [],
   "source": [
    "yout = bpas(inp)"
   ]
  },
  {
   "cell_type": "code",
   "execution_count": 23,
   "metadata": {},
   "outputs": [
    {
     "data": {
      "image/png": "[encoded data removed]",
      "text/plain": [
       "<Figure size 432x288 with 1 Axes>"
      ]
     },
     "metadata": {
      "needs_background": "light"
     },
     "output_type": "display_data"
    }
   ],
   "source": [
    "plt.scatter(inp.data.numpy(), yout.data.numpy())\n",
    "plt.show()"
   ]
  },
  {
   "cell_type": "code",
   "execution_count": 24,
   "metadata": {},
   "outputs": [
    {
     "data": {
      "text/plain": [
       "tensor([0.1966, 0.2020, 0.2020, 0.2020, 0.2020, 0.2020, 0.2020, 0.2020, 0.2020,\n",
       "        0.2020, 0.1803, 0.2020, 0.2020, 0.1549, 0.2020, 0.2020, 0.2020, 0.2020,\n",
       "        0.2017, 0.2020, 0.2020, 0.2020, 0.2020, 0.2010, 0.2020, 0.1933, 0.2020,\n",
       "        0.2020, 0.2020, 0.2020, 0.1774, 0.2020, 0.2020, 0.2020, 0.1326, 0.2020,\n",
       "        0.2020, 0.2020, 0.2020, 0.2020, 0.2020, 0.2020, 0.2020, 0.2020, 0.2020,\n",
       "        0.1446, 0.1958, 0.2020, 0.2020, 0.2020, 0.2020, 0.1972, 0.2020, 0.2020,\n",
       "        0.2020, 0.2020, 0.2020, 0.2020, 0.2020, 0.2020, 0.2020, 0.2020, 0.2020,\n",
       "        0.1715, 0.2020, 0.2017, 0.2020, 0.2020, 0.2020, 0.2020, 0.2020, 0.2020,\n",
       "        0.2020, 0.2020, 0.2019, 0.2020, 0.2015, 0.2020, 0.1972, 0.2020, 0.2020,\n",
       "        0.2020, 0.2020, 0.1821, 0.2020, 0.2020, 0.2018, 0.2020, 0.2013, 0.0933,\n",
       "        0.1968, 0.2020, 0.2020, 0.2020, 0.2020, 0.2020, 0.2014, 0.2020, 0.2020,\n",
       "        0.2020, 0.2020, 0.2020, 0.2020, 0.2020, 0.2020, 0.1899, 0.2020, 0.2020,\n",
       "        0.2020, 0.2020, 0.2020, 0.2020, 0.2020, 0.2020, 0.2020, 0.2020, 0.2020,\n",
       "        0.2020, 0.2020, 0.2020, 0.2020, 0.2020, 0.0908, 0.2020, 0.2020, 0.2020,\n",
       "        0.2020, 0.2020, 0.2020, 0.2020, 0.2020, 0.2020, 0.2020, 0.2020, 0.1141,\n",
       "        0.2020, 0.2020, 0.2020, 0.2020, 0.2020, 0.2020, 0.2019, 0.2020, 0.2020,\n",
       "        0.2020, 0.2020, 0.2020, 0.2020, 0.2020, 0.2020, 0.2020, 0.2020, 0.2020,\n",
       "        0.2020, 0.2020, 0.2020, 0.1919, 0.2020, 0.2020, 0.1971, 0.2020, 0.2020,\n",
       "        0.2020, 0.2020, 0.2020, 0.2020, 0.2020, 0.2020, 0.2020, 0.2020, 0.2020,\n",
       "        0.2020, 0.2020, 0.2020, 0.2020, 0.2020, 0.2020, 0.2020, 0.2020, 0.2020,\n",
       "        0.2001, 0.2020, 0.2020, 0.2020, 0.2020, 0.2020, 0.2020, 0.2020, 0.2020,\n",
       "        0.2007, 0.2016, 0.2020, 0.2010, 0.2020, 0.2019, 0.2020, 0.1816, 0.2020,\n",
       "        0.2020, 0.2020], grad_fn=<DivBackward0>)"
      ]
     },
     "execution_count": 24,
     "metadata": {},
     "output_type": "execute_result"
    }
   ],
   "source": [
    "yout"
   ]
  },
  {
   "cell_type": "code",
   "execution_count": 25,
   "metadata": {},
   "outputs": [
    {
     "data": {
      "text/plain": [
       "tensor(39.7305, grad_fn=<SumBackward0>)"
      ]
     },
     "execution_count": 25,
     "metadata": {},
     "output_type": "execute_result"
    }
   ],
   "source": [
    "torch.sum(yout)"
   ]
  },
  {
   "cell_type": "markdown",
   "metadata": {},
   "source": [
    "### Appriximate the area under the curve"
   ]
  },
  {
   "cell_type": "code",
   "execution_count": 26,
   "metadata": {},
   "outputs": [],
   "source": [
    "mini, maxi = inp.min(), inp.max()\n",
    "diff = maxi-mini\n",
    "\n",
    "xs = torch.linspace(mini-diff, maxi+diff, steps=100000, dtype=torch.float32)"
   ]
  },
  {
   "cell_type": "code",
   "execution_count": 27,
   "metadata": {},
   "outputs": [
    {
     "data": {
      "text/plain": [
       "tensor(1.0000)"
      ]
     },
     "execution_count": 27,
     "metadata": {},
     "output_type": "execute_result"
    }
   ],
   "source": [
    "### for gaussian\n",
    "ys = gaus(xs).data\n",
    "width = xs[1:]-xs[:-1]\n",
    "height = (ys[:-1]+ys[1:])/2\n",
    "# height = ys[:-1]\n",
    "\n",
    "areas = width*height\n",
    "area = areas.sum()\n",
    "area"
   ]
  },
  {
   "cell_type": "code",
   "execution_count": 28,
   "metadata": {},
   "outputs": [
    {
     "data": {
      "text/plain": [
       "tensor(1.0000)"
      ]
     },
     "execution_count": 28,
     "metadata": {},
     "output_type": "execute_result"
    }
   ],
   "source": [
    "### for bandpass\n",
    "ys = bpas(xs).data\n",
    "width = xs[1:]-xs[:-1]\n",
    "height = (ys[:-1]+ys[1:])/2\n",
    "\n",
    "areas = width*height\n",
    "area = areas.sum()\n",
    "area"
   ]
  },
  {
   "cell_type": "code",
   "execution_count": null,
   "metadata": {},
   "outputs": [],
   "source": [
    "\n"
   ]
  }
 ],
 "metadata": {
  "kernelspec": {
   "display_name": "Python 3",
   "language": "python",
   "name": "python3"
  },
  "language_info": {
   "codemirror_mode": {
    "name": "ipython",
    "version": 3
   },
   "file_extension": ".py",
   "mimetype": "text/x-python",
   "name": "python",
   "nbconvert_exporter": "python",
   "pygments_lexer": "ipython3",
   "version": "3.7.4"
  }
 },
 "nbformat": 4,
 "nbformat_minor": 4
}
