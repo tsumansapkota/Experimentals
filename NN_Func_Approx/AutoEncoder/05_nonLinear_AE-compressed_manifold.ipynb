{
 "cells": [
  {
   "cell_type": "code",
   "execution_count": 1,
   "metadata": {},
   "outputs": [],
   "source": [
    "#Importing required Python packages \n",
    "import matplotlib.pylab as plt \n",
    "import numpy as np \n",
    "%matplotlib inline \n",
    "\n",
    "import torch\n",
    "import torch.nn.functional as F"
   ]
  },
  {
   "cell_type": "code",
   "execution_count": 2,
   "metadata": {},
   "outputs": [],
   "source": [
    "#Define a simple range of values for x and reshape so sklearn likes it.\n",
    "x = np.linspace(0,1,200)\n",
    "noise = np.random.normal(0,0.02, x.shape)\n",
    "x = x + noise\n",
    "y= (2 * np.sin(10*x) + np.cos(20 * x - 3) + 3 * np.log(10*x + 0.5) - 4)/6.\n",
    "noise = np.random.normal(0,0.1, x.shape)\n",
    "y = y + noise\n",
    "x = x - 0.5\n",
    "x = x[:, np.newaxis]\n",
    "y = y[:, np.newaxis]\n",
    "\n",
    "inp  = np.c_[x,y]"
   ]
  },
  {
   "cell_type": "code",
   "execution_count": 3,
   "metadata": {},
   "outputs": [
    {
     "data": {
      "text/plain": [
       "<matplotlib.collections.PathCollection at 0x7fd796dc23c8>"
      ]
     },
     "execution_count": 3,
     "metadata": {},
     "output_type": "execute_result"
    },
    {
     "data": {
      "image/png": "[encoded data removed]",
      "text/plain": [
       "<Figure size 432x288 with 1 Axes>"
      ]
     },
     "metadata": {
      "needs_background": "light"
     },
     "output_type": "display_data"
    }
   ],
   "source": [
    "plt.scatter(x, y)"
   ]
  },
  {
   "cell_type": "code",
   "execution_count": 4,
   "metadata": {},
   "outputs": [],
   "source": [
    "# defining network\n",
    "X = torch.from_numpy(inp).type(torch.float32)\n",
    "\n",
    "pieces = 5\n",
    "We = torch.empty(2,1, requires_grad=True)\n",
    "be = torch.zeros(1, requires_grad=True)\n",
    "Wh1 = torch.empty(1,pieces, requires_grad=True)\n",
    "Wh2 = torch.empty(pieces,1, requires_grad=True)\n",
    "bh1 = torch.zeros(pieces, requires_grad=True)\n",
    "bh2 = torch.zeros(1, requires_grad=True)\n",
    "\n",
    "Wd = torch.empty(1,2, requires_grad=True)\n",
    "bd = torch.zeros(2, requires_grad=True)\n",
    "\n",
    "torch.nn.init.xavier_normal_(We)\n",
    "torch.nn.init.xavier_normal_(Wh1)\n",
    "torch.nn.init.xavier_normal_(Wh2)\n",
    "torch.nn.init.xavier_normal_(Wd)\n",
    "\n",
    "alpha = 0.01\n",
    "optimizer = torch.optim.Adam(params=[We,Wh1,Wh2,Wd, be, bh1, bh2, bd], lr=alpha)"
   ]
  },
  {
   "cell_type": "code",
   "execution_count": 5,
   "metadata": {},
   "outputs": [],
   "source": [
    "# act = torch.relu\n",
    "act = torch.tanh\n",
    "\n",
    "def encode(x):\n",
    "    h = x.mm(We) + be #encoded\n",
    "    h = act(h.mm(Wh1) + bh1) # hidden layer\n",
    "    return h\n",
    "\n",
    "def decode(h_):\n",
    "#     h_ = h_.mm(Wh2) + bh2\n",
    "    h_ = act(h_.mm(Wh2) + bh2)\n",
    "    h_ = h_.mm(Wd) + bd\n",
    "    return h_\n",
    "\n",
    "def forward(x):\n",
    "    h = encode(x)\n",
    "    h_ = decode(h)\n",
    "    return h_"
   ]
  },
  {
   "cell_type": "code",
   "execution_count": 6,
   "metadata": {},
   "outputs": [
    {
     "name": "stdout",
     "output_type": "stream",
     "text": [
      "loss =  tensor(0.9965, grad_fn=<MseLossBackward>)\n",
      "loss =  tensor(0.1318, grad_fn=<MseLossBackward>)\n",
      "loss =  tensor(0.1021, grad_fn=<MseLossBackward>)\n",
      "loss =  tensor(0.0545, grad_fn=<MseLossBackward>)\n",
      "loss =  tensor(0.0268, grad_fn=<MseLossBackward>)\n",
      "loss =  tensor(0.0188, grad_fn=<MseLossBackward>)\n",
      "loss =  tensor(0.0166, grad_fn=<MseLossBackward>)\n",
      "loss =  tensor(0.0159, grad_fn=<MseLossBackward>)\n",
      "loss =  tensor(0.0155, grad_fn=<MseLossBackward>)\n",
      "loss =  tensor(0.0154, grad_fn=<MseLossBackward>)\n",
      "loss =  tensor(0.0153, grad_fn=<MseLossBackward>)\n",
      "loss =  tensor(0.0152, grad_fn=<MseLossBackward>)\n",
      "loss =  tensor(0.0152, grad_fn=<MseLossBackward>)\n",
      "loss =  tensor(0.0152, grad_fn=<MseLossBackward>)\n",
      "loss =  tensor(0.0151, grad_fn=<MseLossBackward>)\n",
      "loss =  tensor(0.0151, grad_fn=<MseLossBackward>)\n",
      "loss =  tensor(0.0151, grad_fn=<MseLossBackward>)\n",
      "loss =  tensor(0.0151, grad_fn=<MseLossBackward>)\n",
      "loss =  tensor(0.0151, grad_fn=<MseLossBackward>)\n",
      "loss =  tensor(0.0151, grad_fn=<MseLossBackward>)\n",
      "loss =  tensor(0.0150, grad_fn=<MseLossBackward>)\n",
      "loss =  tensor(0.0150, grad_fn=<MseLossBackward>)\n",
      "loss =  tensor(0.0150, grad_fn=<MseLossBackward>)\n",
      "loss =  tensor(0.0150, grad_fn=<MseLossBackward>)\n",
      "loss =  tensor(0.0150, grad_fn=<MseLossBackward>)\n",
      "loss =  tensor(0.0150, grad_fn=<MseLossBackward>)\n",
      "loss =  tensor(0.0150, grad_fn=<MseLossBackward>)\n",
      "loss =  tensor(0.0150, grad_fn=<MseLossBackward>)\n",
      "loss =  tensor(0.0150, grad_fn=<MseLossBackward>)\n",
      "loss =  tensor(0.0150, grad_fn=<MseLossBackward>)\n",
      "loss =  tensor(0.0150, grad_fn=<MseLossBackward>)\n",
      "loss =  tensor(0.0150, grad_fn=<MseLossBackward>)\n",
      "loss =  tensor(0.0150, grad_fn=<MseLossBackward>)\n",
      "loss =  tensor(0.0150, grad_fn=<MseLossBackward>)\n",
      "loss =  tensor(0.0150, grad_fn=<MseLossBackward>)\n",
      "loss =  tensor(0.0150, grad_fn=<MseLossBackward>)\n",
      "loss =  tensor(0.0150, grad_fn=<MseLossBackward>)\n",
      "loss =  tensor(0.0150, grad_fn=<MseLossBackward>)\n",
      "loss =  tensor(0.0149, grad_fn=<MseLossBackward>)\n",
      "loss =  tensor(0.0149, grad_fn=<MseLossBackward>)\n",
      "loss =  tensor(0.0149, grad_fn=<MseLossBackward>)\n",
      "loss =  tensor(0.0149, grad_fn=<MseLossBackward>)\n",
      "loss =  tensor(0.0149, grad_fn=<MseLossBackward>)\n",
      "loss =  tensor(0.0149, grad_fn=<MseLossBackward>)\n",
      "loss =  tensor(0.0149, grad_fn=<MseLossBackward>)\n",
      "loss =  tensor(0.0149, grad_fn=<MseLossBackward>)\n",
      "loss =  tensor(0.0149, grad_fn=<MseLossBackward>)\n",
      "loss =  tensor(0.0149, grad_fn=<MseLossBackward>)\n",
      "loss =  tensor(0.0149, grad_fn=<MseLossBackward>)\n",
      "loss =  tensor(0.0151, grad_fn=<MseLossBackward>)\n",
      "loss =  tensor(0.0149, grad_fn=<MseLossBackward>)\n",
      "loss =  tensor(0.0149, grad_fn=<MseLossBackward>)\n",
      "loss =  tensor(0.0149, grad_fn=<MseLossBackward>)\n",
      "loss =  tensor(0.0149, grad_fn=<MseLossBackward>)\n",
      "loss =  tensor(0.0149, grad_fn=<MseLossBackward>)\n",
      "loss =  tensor(0.0149, grad_fn=<MseLossBackward>)\n",
      "loss =  tensor(0.0149, grad_fn=<MseLossBackward>)\n",
      "loss =  tensor(0.0149, grad_fn=<MseLossBackward>)\n",
      "loss =  tensor(0.0149, grad_fn=<MseLossBackward>)\n",
      "loss =  tensor(0.0149, grad_fn=<MseLossBackward>)\n",
      "loss =  tensor(0.0149, grad_fn=<MseLossBackward>)\n"
     ]
    },
    {
     "ename": "TclError",
     "evalue": "invalid command name \"pyimage11\"",
     "output_type": "error",
     "traceback": [
      "\u001b[0;31m---------------------------------------------------------------------------\u001b[0m",
      "\u001b[0;31mTclError\u001b[0m                                  Traceback (most recent call last)",
      "\u001b[0;32m<ipython-input-6-877536d070f4>\u001b[0m in \u001b[0;36m<module>\u001b[0;34m\u001b[0m\n\u001b[1;32m     17\u001b[0m         \u001b[0mplt\u001b[0m\u001b[0;34m.\u001b[0m\u001b[0mscatter\u001b[0m\u001b[0;34m(\u001b[0m\u001b[0mx\u001b[0m\u001b[0;34m,\u001b[0m\u001b[0my\u001b[0m\u001b[0;34m)\u001b[0m\u001b[0;34m\u001b[0m\u001b[0;34m\u001b[0m\u001b[0m\n\u001b[1;32m     18\u001b[0m         \u001b[0mplt\u001b[0m\u001b[0;34m.\u001b[0m\u001b[0mscatter\u001b[0m\u001b[0;34m(\u001b[0m\u001b[0mxx\u001b[0m\u001b[0;34m.\u001b[0m\u001b[0mdata\u001b[0m\u001b[0;34m.\u001b[0m\u001b[0mnumpy\u001b[0m\u001b[0;34m(\u001b[0m\u001b[0;34m)\u001b[0m\u001b[0;34m[\u001b[0m\u001b[0;34m:\u001b[0m\u001b[0;34m,\u001b[0m\u001b[0;36m0\u001b[0m\u001b[0;34m]\u001b[0m\u001b[0;34m,\u001b[0m\u001b[0mxx\u001b[0m\u001b[0;34m.\u001b[0m\u001b[0mdata\u001b[0m\u001b[0;34m.\u001b[0m\u001b[0mnumpy\u001b[0m\u001b[0;34m(\u001b[0m\u001b[0;34m)\u001b[0m\u001b[0;34m[\u001b[0m\u001b[0;34m:\u001b[0m\u001b[0;34m,\u001b[0m\u001b[0;36m1\u001b[0m\u001b[0;34m]\u001b[0m \u001b[0;34m,\u001b[0m \u001b[0mlw\u001b[0m\u001b[0;34m=\u001b[0m\u001b[0;36m1\u001b[0m\u001b[0;34m,\u001b[0m \u001b[0mmarker\u001b[0m\u001b[0;34m=\u001b[0m\u001b[0;34m'*'\u001b[0m\u001b[0;34m,\u001b[0m \u001b[0mc\u001b[0m\u001b[0;34m=\u001b[0m\u001b[0;34m'r'\u001b[0m\u001b[0;34m)\u001b[0m\u001b[0;34m\u001b[0m\u001b[0;34m\u001b[0m\u001b[0m\n\u001b[0;32m---> 19\u001b[0;31m         \u001b[0mfig\u001b[0m\u001b[0;34m.\u001b[0m\u001b[0mcanvas\u001b[0m\u001b[0;34m.\u001b[0m\u001b[0mdraw\u001b[0m\u001b[0;34m(\u001b[0m\u001b[0;34m)\u001b[0m\u001b[0;34m\u001b[0m\u001b[0;34m\u001b[0m\u001b[0m\n\u001b[0m\u001b[1;32m     20\u001b[0m         \u001b[0mplt\u001b[0m\u001b[0;34m.\u001b[0m\u001b[0mpause\u001b[0m\u001b[0;34m(\u001b[0m\u001b[0;36m0.01\u001b[0m\u001b[0;34m)\u001b[0m\u001b[0;34m\u001b[0m\u001b[0;34m\u001b[0m\u001b[0m\n",
      "\u001b[0;32m~/Program_Files/miniconda3.7/lib/python3.7/site-packages/matplotlib/backends/backend_tkagg.py\u001b[0m in \u001b[0;36mdraw\u001b[0;34m(self)\u001b[0m\n\u001b[1;32m      8\u001b[0m     \u001b[0;32mdef\u001b[0m \u001b[0mdraw\u001b[0m\u001b[0;34m(\u001b[0m\u001b[0mself\u001b[0m\u001b[0;34m)\u001b[0m\u001b[0;34m:\u001b[0m\u001b[0;34m\u001b[0m\u001b[0;34m\u001b[0m\u001b[0m\n\u001b[1;32m      9\u001b[0m         \u001b[0msuper\u001b[0m\u001b[0;34m(\u001b[0m\u001b[0mFigureCanvasTkAgg\u001b[0m\u001b[0;34m,\u001b[0m \u001b[0mself\u001b[0m\u001b[0;34m)\u001b[0m\u001b[0;34m.\u001b[0m\u001b[0mdraw\u001b[0m\u001b[0;34m(\u001b[0m\u001b[0;34m)\u001b[0m\u001b[0;34m\u001b[0m\u001b[0;34m\u001b[0m\u001b[0m\n\u001b[0;32m---> 10\u001b[0;31m         \u001b[0m_backend_tk\u001b[0m\u001b[0;34m.\u001b[0m\u001b[0mblit\u001b[0m\u001b[0;34m(\u001b[0m\u001b[0mself\u001b[0m\u001b[0;34m.\u001b[0m\u001b[0m_tkphoto\u001b[0m\u001b[0;34m,\u001b[0m \u001b[0mself\u001b[0m\u001b[0;34m.\u001b[0m\u001b[0mrenderer\u001b[0m\u001b[0;34m.\u001b[0m\u001b[0m_renderer\u001b[0m\u001b[0;34m,\u001b[0m \u001b[0;34m(\u001b[0m\u001b[0;36m0\u001b[0m\u001b[0;34m,\u001b[0m \u001b[0;36m1\u001b[0m\u001b[0;34m,\u001b[0m \u001b[0;36m2\u001b[0m\u001b[0;34m,\u001b[0m \u001b[0;36m3\u001b[0m\u001b[0;34m)\u001b[0m\u001b[0;34m)\u001b[0m\u001b[0;34m\u001b[0m\u001b[0;34m\u001b[0m\u001b[0m\n\u001b[0m\u001b[1;32m     11\u001b[0m         \u001b[0mself\u001b[0m\u001b[0;34m.\u001b[0m\u001b[0m_master\u001b[0m\u001b[0;34m.\u001b[0m\u001b[0mupdate_idletasks\u001b[0m\u001b[0;34m(\u001b[0m\u001b[0;34m)\u001b[0m\u001b[0;34m\u001b[0m\u001b[0;34m\u001b[0m\u001b[0m\n\u001b[1;32m     12\u001b[0m \u001b[0;34m\u001b[0m\u001b[0m\n",
      "\u001b[0;32m~/Program_Files/miniconda3.7/lib/python3.7/site-packages/matplotlib/backends/_backend_tk.py\u001b[0m in \u001b[0;36mblit\u001b[0;34m(photoimage, aggimage, offsets, bbox)\u001b[0m\n\u001b[1;32m     86\u001b[0m                    math.floor(y1), math.ceil(y2))\n\u001b[1;32m     87\u001b[0m     \u001b[0;32melse\u001b[0m\u001b[0;34m:\u001b[0m\u001b[0;34m\u001b[0m\u001b[0;34m\u001b[0m\u001b[0m\n\u001b[0;32m---> 88\u001b[0;31m         \u001b[0mphotoimage\u001b[0m\u001b[0;34m.\u001b[0m\u001b[0mblank\u001b[0m\u001b[0;34m(\u001b[0m\u001b[0;34m)\u001b[0m\u001b[0;34m\u001b[0m\u001b[0;34m\u001b[0m\u001b[0m\n\u001b[0m\u001b[1;32m     89\u001b[0m         \u001b[0mbboxptr\u001b[0m \u001b[0;34m=\u001b[0m \u001b[0;34m(\u001b[0m\u001b[0;36m0\u001b[0m\u001b[0;34m,\u001b[0m \u001b[0mwidth\u001b[0m\u001b[0;34m,\u001b[0m \u001b[0;36m0\u001b[0m\u001b[0;34m,\u001b[0m \u001b[0mheight\u001b[0m\u001b[0;34m)\u001b[0m\u001b[0;34m\u001b[0m\u001b[0;34m\u001b[0m\u001b[0m\n\u001b[1;32m     90\u001b[0m     _tkagg.blit(\n",
      "\u001b[0;32m~/Program_Files/miniconda3.7/lib/python3.7/tkinter/__init__.py\u001b[0m in \u001b[0;36mblank\u001b[0;34m(self)\u001b[0m\n\u001b[1;32m   3546\u001b[0m     \u001b[0;32mdef\u001b[0m \u001b[0mblank\u001b[0m\u001b[0;34m(\u001b[0m\u001b[0mself\u001b[0m\u001b[0;34m)\u001b[0m\u001b[0;34m:\u001b[0m\u001b[0;34m\u001b[0m\u001b[0;34m\u001b[0m\u001b[0m\n\u001b[1;32m   3547\u001b[0m         \u001b[0;34m\"\"\"Display a transparent image.\"\"\"\u001b[0m\u001b[0;34m\u001b[0m\u001b[0;34m\u001b[0m\u001b[0m\n\u001b[0;32m-> 3548\u001b[0;31m         \u001b[0mself\u001b[0m\u001b[0;34m.\u001b[0m\u001b[0mtk\u001b[0m\u001b[0;34m.\u001b[0m\u001b[0mcall\u001b[0m\u001b[0;34m(\u001b[0m\u001b[0mself\u001b[0m\u001b[0;34m.\u001b[0m\u001b[0mname\u001b[0m\u001b[0;34m,\u001b[0m \u001b[0;34m'blank'\u001b[0m\u001b[0;34m)\u001b[0m\u001b[0;34m\u001b[0m\u001b[0;34m\u001b[0m\u001b[0m\n\u001b[0m\u001b[1;32m   3549\u001b[0m     \u001b[0;32mdef\u001b[0m \u001b[0mcget\u001b[0m\u001b[0;34m(\u001b[0m\u001b[0mself\u001b[0m\u001b[0;34m,\u001b[0m \u001b[0moption\u001b[0m\u001b[0;34m)\u001b[0m\u001b[0;34m:\u001b[0m\u001b[0;34m\u001b[0m\u001b[0;34m\u001b[0m\u001b[0m\n\u001b[1;32m   3550\u001b[0m         \u001b[0;34m\"\"\"Return the value of OPTION.\"\"\"\u001b[0m\u001b[0;34m\u001b[0m\u001b[0;34m\u001b[0m\u001b[0m\n",
      "\u001b[0;31mTclError\u001b[0m: invalid command name \"pyimage11\""
     ]
    },
    {
     "data": {
      "image/png": "[encoded data removed]",
      "text/plain": [
       "<Figure size 432x288 with 1 Axes>"
      ]
     },
     "metadata": {
      "needs_background": "light"
     },
     "output_type": "display_data"
    }
   ],
   "source": [
    "%matplotlib tk\n",
    "fig = plt.figure()\n",
    "fig.show()\n",
    "\n",
    "for i in range(100000):\n",
    "    X_ = forward(X)\n",
    "    \n",
    "    optimizer.zero_grad()\n",
    "    loss = F.mse_loss(X_, X)\n",
    "    loss.backward()\n",
    "    optimizer.step()\n",
    "    \n",
    "    if i%100 == 0:\n",
    "        print('loss = ',loss)\n",
    "        fig.clear()\n",
    "        xx = X_\n",
    "        plt.scatter(x,y)\n",
    "        plt.scatter(xx.data.numpy()[:,0],xx.data.numpy()[:,1] , lw=1, marker='*', c='r')\n",
    "        fig.canvas.draw()\n",
    "        plt.pause(0.01)"
   ]
  },
  {
   "cell_type": "code",
   "execution_count": null,
   "metadata": {},
   "outputs": [],
   "source": [
    "%matplotlib inline\n",
    "xx = forward(X)\n",
    "plt.scatter(x,y)\n",
    "plt.scatter(xx.data.numpy()[:,0],xx.data.numpy()[:,1] , lw=1, marker='.')"
   ]
  },
  {
   "cell_type": "markdown",
   "metadata": {},
   "source": [
    "## This doesnt seem to work: .:, Learning manifold of code doesnt help "
   ]
  },
  {
   "cell_type": "code",
   "execution_count": null,
   "metadata": {},
   "outputs": [],
   "source": [
    "# plt.axis('equal')\n",
    "plt.scatter(x, y)\n",
    "for xxo, yyo, xxPred, yyPred in zip(x, y, xx.data.numpy()[:,0],xx.data.numpy()[:,1]):\n",
    "    plt.plot([xxo,xxPred], [yyo, yyPred])\n",
    "    \n",
    "plt.scatter(xx.data.numpy()[:,0],xx.data.numpy()[:,1] , lw=1, marker='*', c='r')\n",
    "plt.show()"
   ]
  },
  {
   "cell_type": "code",
   "execution_count": null,
   "metadata": {},
   "outputs": [],
   "source": [
    "h = encode(X)\n",
    "plt.scatter(x,y)\n",
    "plt.plot(x,h.data.numpy() , lw=1, marker='.')"
   ]
  },
  {
   "cell_type": "code",
   "execution_count": null,
   "metadata": {},
   "outputs": [],
   "source": []
  }
 ],
 "metadata": {
  "kernelspec": {
   "display_name": "Python 3",
   "language": "python",
   "name": "python3"
  },
  "language_info": {
   "codemirror_mode": {
    "name": "ipython",
    "version": 3
   },
   "file_extension": ".py",
   "mimetype": "text/x-python",
   "name": "python",
   "nbconvert_exporter": "python",
   "pygments_lexer": "ipython3",
   "version": "3.7.3"
  }
 },
 "nbformat": 4,
 "nbformat_minor": 2
}
