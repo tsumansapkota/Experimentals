{
 "cells": [
  {
   "cell_type": "code",
   "execution_count": 1,
   "metadata": {},
   "outputs": [],
   "source": [
    "import torch\n",
    "import torch.nn as nn\n",
    "import numpy as np\n",
    "import matplotlib.pyplot as plt"
   ]
  },
  {
   "cell_type": "code",
   "execution_count": 2,
   "metadata": {},
   "outputs": [],
   "source": [
    "device = torch.device(\"cpu\")"
   ]
  },
  {
   "cell_type": "code",
   "execution_count": 3,
   "metadata": {},
   "outputs": [
    {
     "data": {
      "text/plain": [
       "tensor([[-0.4328,  1.4276, -0.1760, -0.4712, -2.0191,  0.9317, -0.6690,  1.0245],\n",
       "        [-0.0123, -0.2105,  1.0330,  1.9057,  0.5513, -0.4306,  1.1316, -1.4846],\n",
       "        [-1.2255, -0.0883, -0.8999,  0.4882,  0.6080,  1.3124, -1.5459,  0.9929],\n",
       "        [ 0.2848, -0.4424, -0.1292, -0.6310, -0.5312, -0.8484,  0.3398, -1.3651],\n",
       "        [-0.7149, -0.7609, -0.4445,  1.7718,  0.2339,  0.8045,  0.0708, -2.8123],\n",
       "        [-1.8124, -1.3133, -1.2716, -1.4437,  1.3278,  1.5659, -0.2026, -0.0375],\n",
       "        [ 1.0776,  1.8514,  0.3449,  0.6349, -0.4402, -1.4011,  0.9380,  0.5628],\n",
       "        [-0.2396,  1.1808,  0.1210,  0.6580, -0.1796,  0.4519, -0.8249, -0.2166]])"
      ]
     },
     "execution_count": 3,
     "metadata": {},
     "output_type": "execute_result"
    }
   ],
   "source": [
    "## Full rank matrix\n",
    "A = torch.randn(8, 8)\n",
    "A"
   ]
  },
  {
   "cell_type": "code",
   "execution_count": 126,
   "metadata": {},
   "outputs": [
    {
     "data": {
      "text/plain": [
       "tensor([[[ 0.1695,  1.1962],\n",
       "         [-0.0480,  1.7277]],\n",
       "\n",
       "        [[ 0.2971, -0.0095],\n",
       "         [ 0.7436,  0.1813]],\n",
       "\n",
       "        [[ 1.8542,  0.6069],\n",
       "         [-1.5079,  0.0020]],\n",
       "\n",
       "        [[-0.9866,  1.1867],\n",
       "         [ 0.0990, -1.5312]]])"
      ]
     },
     "execution_count": 126,
     "metadata": {},
     "output_type": "execute_result"
    }
   ],
   "source": [
    "### pair up (1,2), (3,4), ...\n",
    "diag0 = torch.randn(4, 2, 2)\n",
    "diag0"
   ]
  },
  {
   "cell_type": "code",
   "execution_count": 127,
   "metadata": {},
   "outputs": [
    {
     "data": {
      "text/plain": [
       "tensor([[ 0.1695,  1.1962,  0.0000,  0.0000,  0.0000,  0.0000,  0.0000,  0.0000],\n",
       "        [-0.0480,  1.7277,  0.0000,  0.0000,  0.0000,  0.0000,  0.0000,  0.0000],\n",
       "        [ 0.0000,  0.0000,  0.2971, -0.0095,  0.0000,  0.0000,  0.0000,  0.0000],\n",
       "        [ 0.0000,  0.0000,  0.7436,  0.1813,  0.0000,  0.0000,  0.0000,  0.0000],\n",
       "        [ 0.0000,  0.0000,  0.0000,  0.0000,  1.8542,  0.6069,  0.0000,  0.0000],\n",
       "        [ 0.0000,  0.0000,  0.0000,  0.0000, -1.5079,  0.0020,  0.0000,  0.0000],\n",
       "        [ 0.0000,  0.0000,  0.0000,  0.0000,  0.0000,  0.0000, -0.9866,  1.1867],\n",
       "        [ 0.0000,  0.0000,  0.0000,  0.0000,  0.0000,  0.0000,  0.0990, -1.5312]])"
      ]
     },
     "execution_count": 127,
     "metadata": {},
     "output_type": "execute_result"
    }
   ],
   "source": [
    "torch.block_diag(*diag0)"
   ]
  },
  {
   "cell_type": "code",
   "execution_count": 290,
   "metadata": {},
   "outputs": [],
   "source": [
    "### Pair up (1, 3), (2,4)\n",
    "## that means rearrange as.. 1,3,2,4 and apply block diagonal\n",
    "\n",
    "def get_pair(dim, step=1):\n",
    "    assert 2**int(np.log2(dim)) == dim , \"The dim must be power of 2\"\n",
    "    assert isinstance(step, int), \"Step must be integer\"\n",
    "    \n",
    "    blocks = (2**step)\n",
    "    range_ = dim//blocks\n",
    "#     print(range_, blocks)\n",
    "    adder_ = torch.arange(0, range_)*blocks\n",
    "#     print(adder_)\n",
    "    \n",
    "    pairs_ = torch.Tensor([0, blocks//2])\n",
    "    repeat_ = torch.arange(0, blocks//2).reshape(-1,1)\n",
    "#     print(pairs_)\n",
    "#     print(repeat_)\n",
    "    \n",
    "    block_map = (pairs_+repeat_).reshape(-1)\n",
    "#     print(block_map)\n",
    "    \n",
    "#     print(block_map+adder_.reshape(-1,1))\n",
    "    reorder_for_pair = (block_map+adder_.reshape(-1,1)).reshape(-1)\n",
    "    indx = reorder_for_pair.type(torch.long)\n",
    "    rev_indx = torch.argsort(indx)\n",
    "    \n",
    "    return indx, rev_indx"
   ]
  },
  {
   "cell_type": "code",
   "execution_count": 291,
   "metadata": {},
   "outputs": [
    {
     "data": {
      "text/plain": [
       "(tensor([0, 1, 2, 3, 4, 5, 6, 7]), tensor([0, 1, 2, 3, 4, 5, 6, 7]))"
      ]
     },
     "execution_count": 291,
     "metadata": {},
     "output_type": "execute_result"
    }
   ],
   "source": [
    "get_pair(8, 1)"
   ]
  },
  {
   "cell_type": "code",
   "execution_count": 292,
   "metadata": {},
   "outputs": [
    {
     "data": {
      "text/plain": [
       "(tensor([0, 2, 1, 3, 4, 6, 5, 7]), tensor([0, 2, 1, 3, 4, 6, 5, 7]))"
      ]
     },
     "execution_count": 292,
     "metadata": {},
     "output_type": "execute_result"
    }
   ],
   "source": [
    "get_pair(8, 2)"
   ]
  },
  {
   "cell_type": "code",
   "execution_count": 293,
   "metadata": {},
   "outputs": [
    {
     "data": {
      "text/plain": [
       "(tensor([0, 4, 1, 5, 2, 6, 3, 7]), tensor([0, 2, 4, 6, 1, 3, 5, 7]))"
      ]
     },
     "execution_count": 293,
     "metadata": {},
     "output_type": "execute_result"
    }
   ],
   "source": [
    "get_pair(8, 3)"
   ]
  },
  {
   "cell_type": "code",
   "execution_count": 207,
   "metadata": {},
   "outputs": [
    {
     "data": {
      "text/plain": [
       "tensor([[0.0000, 0.1000, 0.2000, 0.3000, 0.4000, 0.5000, 0.6000, 0.7000],\n",
       "        [1.0000, 1.1000, 1.2000, 1.3000, 1.4000, 1.5000, 1.6000, 1.7000],\n",
       "        [2.0000, 2.1000, 2.2000, 2.3000, 2.4000, 2.5000, 2.6000, 2.7000],\n",
       "        [3.0000, 3.1000, 3.2000, 3.3000, 3.4000, 3.5000, 3.6000, 3.7000],\n",
       "        [4.0000, 4.1000, 4.2000, 4.3000, 4.4000, 4.5000, 4.6000, 4.7000],\n",
       "        [5.0000, 5.1000, 5.2000, 5.3000, 5.4000, 5.5000, 5.6000, 5.7000],\n",
       "        [6.0000, 6.1000, 6.2000, 6.3000, 6.4000, 6.5000, 6.6000, 6.7000],\n",
       "        [7.0000, 7.1000, 7.2000, 7.3000, 7.4000, 7.5000, 7.6000, 7.7000]])"
      ]
     },
     "execution_count": 207,
     "metadata": {},
     "output_type": "execute_result"
    }
   ],
   "source": [
    "mat = torch.arange(8, dtype=torch.float).reshape(-1, 1) + torch.arange(8, dtype=torch.float).reshape(1, -1)*0.1\n",
    "mat"
   ]
  },
  {
   "cell_type": "code",
   "execution_count": 265,
   "metadata": {},
   "outputs": [
    {
     "data": {
      "text/plain": [
       "tensor([[-0.0757,  0.4338,  0.0000,  0.0000,  0.0000,  0.0000,  0.0000,  0.0000],\n",
       "        [ 0.3521, -0.5412,  0.0000,  0.0000,  0.0000,  0.0000,  0.0000,  0.0000],\n",
       "        [ 0.0000,  0.0000, -0.3217,  0.8534,  0.0000,  0.0000,  0.0000,  0.0000],\n",
       "        [ 0.0000,  0.0000,  1.2215, -1.2530,  0.0000,  0.0000,  0.0000,  0.0000],\n",
       "        [ 0.0000,  0.0000,  0.0000,  0.0000, -1.5971,  2.2851,  0.0000,  0.0000],\n",
       "        [ 0.0000,  0.0000,  0.0000,  0.0000,  1.4778, -0.3428,  0.0000,  0.0000],\n",
       "        [ 0.0000,  0.0000,  0.0000,  0.0000,  0.0000,  0.0000, -1.6734,  0.1554],\n",
       "        [ 0.0000,  0.0000,  0.0000,  0.0000,  0.0000,  0.0000,  0.3725, -2.3790]],\n",
       "       grad_fn=<CopySlices>)"
      ]
     },
     "execution_count": 265,
     "metadata": {},
     "output_type": "execute_result"
    }
   ],
   "source": [
    "diag0 = torch.randn(4, 2, 2)\n",
    "diag0.requires_grad=True\n",
    "bd0 = torch.block_diag(*diag0)\n",
    "bd0"
   ]
  },
  {
   "cell_type": "code",
   "execution_count": 230,
   "metadata": {},
   "outputs": [
    {
     "data": {
      "text/plain": [
       "tensor([[-0.8887,  0.0000,  0.6940,  0.0000,  0.0000,  0.0000,  0.0000,  0.0000],\n",
       "        [ 0.0000,  0.8879,  0.0000,  0.5084,  0.0000,  0.0000,  0.0000,  0.0000],\n",
       "        [ 0.0682,  0.0000,  0.4320,  0.0000,  0.0000,  0.0000,  0.0000,  0.0000],\n",
       "        [ 0.0000,  0.0855,  0.0000, -0.2696,  0.0000,  0.0000,  0.0000,  0.0000],\n",
       "        [ 0.0000,  0.0000,  0.0000,  0.0000,  1.2088,  0.0000, -0.1409,  0.0000],\n",
       "        [ 0.0000,  0.0000,  0.0000,  0.0000,  0.0000,  0.3235,  0.0000, -0.0925],\n",
       "        [ 0.0000,  0.0000,  0.0000,  0.0000,  0.8058,  0.0000,  0.4583,  0.0000],\n",
       "        [ 0.0000,  0.0000,  0.0000,  0.0000,  0.0000, -1.1498,  0.0000, -1.2522]])"
      ]
     },
     "execution_count": 230,
     "metadata": {},
     "output_type": "execute_result"
    }
   ],
   "source": [
    "diag1 = torch.randn(4, 2, 2)\n",
    "bd1 = torch.block_diag(*diag1)\n",
    "# bd1 = mat\n",
    "ind1, rind1 = get_pair(8, 2)\n",
    "bd1 = bd1[ind1]\n",
    "bd1 = bd1[:,ind1]\n",
    "bd1"
   ]
  },
  {
   "cell_type": "code",
   "execution_count": 232,
   "metadata": {},
   "outputs": [
    {
     "data": {
      "text/plain": [
       "tensor([[ 1.3188, -0.5817, -1.0299, -0.3331,  0.0000,  0.0000,  0.0000,  0.0000],\n",
       "        [ 1.9296, -3.0125, -1.5068, -1.7249,  0.0000,  0.0000,  0.0000,  0.0000],\n",
       "        [ 0.0414,  0.0884,  0.2626, -0.2788,  0.0000,  0.0000,  0.0000,  0.0000],\n",
       "        [ 0.1457, -0.2144,  0.9233,  0.6763,  0.0000,  0.0000,  0.0000,  0.0000],\n",
       "        [ 0.0000,  0.0000,  0.0000,  0.0000, -0.8262, -0.0757,  0.0963,  0.0216],\n",
       "        [ 0.0000,  0.0000,  0.0000,  0.0000,  1.2177,  0.0906, -0.1419, -0.0259],\n",
       "        [ 0.0000,  0.0000,  0.0000,  0.0000,  0.3811,  0.7722,  0.2167,  0.8410],\n",
       "        [ 0.0000,  0.0000,  0.0000,  0.0000,  0.8800, -0.2050,  0.5005, -0.2232]])"
      ]
     },
     "execution_count": 232,
     "metadata": {},
     "output_type": "execute_result"
    }
   ],
   "source": [
    "(bd0@bd1)"
   ]
  },
  {
   "cell_type": "code",
   "execution_count": 257,
   "metadata": {},
   "outputs": [
    {
     "data": {
      "text/plain": [
       "tensor([[ 0.4477, -1.3671,  0.0000,  0.0000,  0.0000,  0.0000,  0.0000,  0.0000],\n",
       "        [ 1.4485, -0.0302,  0.0000,  0.0000,  0.0000,  0.0000,  0.0000,  0.0000],\n",
       "        [ 0.0000,  0.0000,  1.5917, -0.0900,  0.0000,  0.0000,  0.0000,  0.0000],\n",
       "        [ 0.0000,  0.0000,  0.9070, -1.1521,  0.0000,  0.0000,  0.0000,  0.0000],\n",
       "        [ 0.0000,  0.0000,  0.0000,  0.0000,  1.0856, -1.8143,  0.0000,  0.0000],\n",
       "        [ 0.0000,  0.0000,  0.0000,  0.0000, -1.1753, -0.1693,  0.0000,  0.0000],\n",
       "        [ 0.0000,  0.0000,  0.0000,  0.0000,  0.0000,  0.0000,  1.8989,  0.9534],\n",
       "        [ 0.0000,  0.0000,  0.0000,  0.0000,  0.0000,  0.0000,  0.1629,  0.9740]])"
      ]
     },
     "execution_count": 257,
     "metadata": {},
     "output_type": "execute_result"
    }
   ],
   "source": [
    "diag2 = torch.randn(4, 2, 2)\n",
    "bd2 = torch.block_diag(*diag2)\n",
    "# bd2 = mat\n",
    "ind2, rind2 = get_pair(8, 3)\n",
    "# bd2 = bd2[ind2]\n",
    "# bd2 = bd2[:, ind2]\n",
    "bd2"
   ]
  },
  {
   "cell_type": "code",
   "execution_count": 262,
   "metadata": {},
   "outputs": [
    {
     "data": {
      "text/plain": [
       "(tensor([0, 4, 1, 5, 2, 6, 3, 7]), tensor([0, 2, 4, 6, 1, 3, 5, 7]))"
      ]
     },
     "execution_count": 262,
     "metadata": {},
     "output_type": "execute_result"
    }
   ],
   "source": [
    "get_pair(8, 3)"
   ]
  },
  {
   "cell_type": "code",
   "execution_count": 263,
   "metadata": {},
   "outputs": [],
   "source": [
    "torch.scatter"
   ]
  },
  {
   "cell_type": "code",
   "execution_count": 264,
   "metadata": {},
   "outputs": [
    {
     "data": {
      "text/plain": [
       "tensor([[ 0.4477, -1.3671, -1.3671,  0.0000, -1.3671,  0.0000,  0.0000,  0.0000],\n",
       "        [ 1.4485, -0.0302, -0.0302,  0.0000, -0.0302,  0.0000,  0.0000,  0.0000],\n",
       "        [ 0.0000,  0.0000,  0.0000,  0.0000,  0.0000, -0.0900, -0.0900,  0.0000],\n",
       "        [ 0.0000,  0.0000,  0.0000,  0.0000,  0.0000, -1.1521, -1.1521,  0.0000],\n",
       "        [ 0.0000,  0.0000,  0.0000,  0.0000,  0.0000, -0.0900, -0.0900,  0.0000],\n",
       "        [ 0.0000,  0.0000,  0.0000,  0.0000,  0.0000, -1.1521, -1.1521,  0.0000],\n",
       "        [ 0.0000,  0.0000,  0.0000,  0.0000,  0.0000, -1.1521, -1.1521,  0.0000],\n",
       "        [ 0.0000,  0.0000,  0.0000,  0.0000,  0.0000,  0.0000,  0.0000,  0.9740]])"
      ]
     },
     "execution_count": 264,
     "metadata": {},
     "output_type": "execute_result"
    }
   ],
   "source": [
    "bd2"
   ]
  },
  {
   "cell_type": "code",
   "execution_count": 260,
   "metadata": {},
   "outputs": [],
   "source": [
    "bd2[:,rind2] = bd2"
   ]
  },
  {
   "cell_type": "code",
   "execution_count": 199,
   "metadata": {},
   "outputs": [
    {
     "data": {
      "text/plain": [
       "(tensor([0, 4, 1, 5, 2, 6, 3, 7]), tensor([0, 2, 4, 6, 1, 3, 5, 7]))"
      ]
     },
     "execution_count": 199,
     "metadata": {},
     "output_type": "execute_result"
    }
   ],
   "source": [
    "ind2, rind2"
   ]
  },
  {
   "cell_type": "code",
   "execution_count": 185,
   "metadata": {},
   "outputs": [
    {
     "data": {
      "text/plain": [
       "tensor([[ 0.1105, -0.1467,  0.0000,  0.0000,  0.0478,  0.2200,  0.0000,  0.0000],\n",
       "        [-0.0663,  0.2073,  0.0000,  0.0000, -0.4844, -0.9049,  0.0000,  0.0000],\n",
       "        [ 0.1666,  0.1975,  0.0000,  0.0000, -0.2654, -0.2873,  0.0000,  0.0000],\n",
       "        [ 0.3107, -0.3445,  0.0000,  0.0000, -0.5522, -0.3524,  0.0000,  0.0000],\n",
       "        [ 0.0000,  0.0000, -0.6435, -2.7394,  0.0000,  0.0000, -0.3413,  2.5342],\n",
       "        [ 0.0000,  0.0000,  0.2377,  3.1177,  0.0000,  0.0000,  0.2279, -1.4367],\n",
       "        [ 0.0000,  0.0000, -0.1139,  0.8770,  0.0000,  0.0000, -0.0407,  2.9807],\n",
       "        [ 0.0000,  0.0000,  0.2386,  0.4714,  0.0000,  0.0000, -0.0431,  1.5147]])"
      ]
     },
     "execution_count": 185,
     "metadata": {},
     "output_type": "execute_result"
    }
   ],
   "source": [
    "(bd0@bd1)@bd2"
   ]
  },
  {
   "cell_type": "code",
   "execution_count": 184,
   "metadata": {},
   "outputs": [
    {
     "data": {
      "text/plain": [
       "tensor([0, 4, 1, 5, 2, 6, 3, 7])"
      ]
     },
     "execution_count": 184,
     "metadata": {},
     "output_type": "execute_result"
    }
   ],
   "source": [
    "indices"
   ]
  },
  {
   "cell_type": "code",
   "execution_count": 162,
   "metadata": {},
   "outputs": [
    {
     "data": {
      "text/plain": [
       "tensor([0, 2, 4, 6, 1, 3, 5, 7])"
      ]
     },
     "execution_count": 162,
     "metadata": {},
     "output_type": "execute_result"
    }
   ],
   "source": [
    "torch.argsort(indices) ## this is reverse index"
   ]
  },
  {
   "cell_type": "code",
   "execution_count": 350,
   "metadata": {},
   "outputs": [],
   "source": [
    "def get_pair_indices(dim, step=1):\n",
    "    assert 2**int(np.log2(dim)) == dim , \"The dim must be power of 2\"\n",
    "    assert isinstance(step, int), \"Step must be integer\"\n",
    "    \n",
    "    blocks = (2**step)\n",
    "    range_ = dim//blocks\n",
    "#     print(range_, blocks)\n",
    "    adder_ = torch.arange(0, range_)*blocks\n",
    "#     print(adder_)\n",
    "    \n",
    "    pairs_ = torch.Tensor([0, blocks//2])\n",
    "    repeat_ = torch.arange(0, blocks//2).reshape(-1,1)\n",
    "#     print(pairs_)\n",
    "#     print(repeat_)\n",
    "    \n",
    "    block_map = (pairs_+repeat_).reshape(-1)\n",
    "#     print(pairs_+repeat_)\n",
    "    \n",
    "#     print(block_map+adder_.reshape(-1,1))\n",
    "    reorder_for_pair = (block_map+adder_.reshape(-1,1)).reshape(-1)\n",
    "    indx = reorder_for_pair.type(torch.long)\n",
    "#     rev_indx = torch.argsort(indx)\n",
    "    \n",
    "#     print(indx.reshape(-1, 2))\n",
    "    \n",
    "#     return indx, rev_indx\n",
    "    indx = indx.reshape(-1, 2)\n",
    "    \n",
    "    map_idx = []\n",
    "    for idx in indx:\n",
    "        map_idx.append((idx[0], idx[0]))\n",
    "        map_idx.append((idx[0], idx[1]))        \n",
    "        map_idx.append((idx[1], idx[0]))        \n",
    "        map_idx.append((idx[1], idx[1]))        \n",
    "    map_idx = torch.LongTensor(map_idx)\n",
    "#     print(map_idx)\n",
    "    \n",
    "    return map_idx"
   ]
  },
  {
   "cell_type": "code",
   "execution_count": 341,
   "metadata": {},
   "outputs": [
    {
     "name": "stdout",
     "output_type": "stream",
     "text": [
      "tensor([0., 2.])\n",
      "tensor([[0],\n",
      "        [1]])\n",
      "tensor([[0., 2.],\n",
      "        [1., 3.]])\n",
      "tensor([[0., 2., 1., 3.],\n",
      "        [4., 6., 5., 7.]])\n",
      "tensor([[0, 2],\n",
      "        [1, 3],\n",
      "        [4, 6],\n",
      "        [5, 7]])\n",
      "tensor([[0, 0],\n",
      "        [0, 2],\n",
      "        [2, 0],\n",
      "        [2, 2],\n",
      "        [1, 1],\n",
      "        [1, 3],\n",
      "        [3, 1],\n",
      "        [3, 3],\n",
      "        [4, 4],\n",
      "        [4, 6],\n",
      "        [6, 4],\n",
      "        [6, 6],\n",
      "        [5, 5],\n",
      "        [5, 7],\n",
      "        [7, 5],\n",
      "        [7, 7]])\n"
     ]
    }
   ],
   "source": [
    "map_idx = get_pair_indices(8, 2)"
   ]
  },
  {
   "cell_type": "code",
   "execution_count": 342,
   "metadata": {},
   "outputs": [
    {
     "data": {
      "text/plain": [
       "torch.Size([16, 2])"
      ]
     },
     "execution_count": 342,
     "metadata": {},
     "output_type": "execute_result"
    }
   ],
   "source": [
    "map_idx.shape"
   ]
  },
  {
   "cell_type": "code",
   "execution_count": 343,
   "metadata": {},
   "outputs": [],
   "source": [
    "w = torch.randn(map_idx.shape[0],1)"
   ]
  },
  {
   "cell_type": "code",
   "execution_count": 344,
   "metadata": {},
   "outputs": [
    {
     "data": {
      "text/plain": [
       "tensor([[-1.7107,  0.0000,  0.3462,  0.0000,  0.0000,  0.0000,  0.0000,  0.0000],\n",
       "        [ 0.0000,  0.3085,  0.0000,  0.4741,  0.0000,  0.0000,  0.0000,  0.0000],\n",
       "        [ 0.2916,  0.0000,  0.3679,  0.0000,  0.0000,  0.0000,  0.0000,  0.0000],\n",
       "        [ 0.0000, -0.5811,  0.0000,  0.5204,  0.0000,  0.0000,  0.0000,  0.0000],\n",
       "        [ 0.0000,  0.0000,  0.0000,  0.0000,  0.2372,  0.0000, -0.6719,  0.0000],\n",
       "        [ 0.0000,  0.0000,  0.0000,  0.0000,  0.0000, -1.0452,  0.0000, -1.2915],\n",
       "        [ 0.0000,  0.0000,  0.0000,  0.0000,  0.4518,  0.0000,  0.9587,  0.0000],\n",
       "        [ 0.0000,  0.0000,  0.0000,  0.0000,  0.0000,  0.1578,  0.0000,  0.1742]])"
      ]
     },
     "execution_count": 344,
     "metadata": {},
     "output_type": "execute_result"
    }
   ],
   "source": [
    "z = torch.zeros(8,8)\n",
    "z[map_idx.split(1, dim=1)] = w\n",
    "z"
   ]
  },
  {
   "cell_type": "code",
   "execution_count": 336,
   "metadata": {},
   "outputs": [
    {
     "data": {
      "text/plain": [
       "(tensor([0, 0, 0, 0, 0, 0, 0, 1, 1, 1, 1, 1, 1, 1, 1, 2, 2, 2, 2, 2, 2, 2, 2, 3,\n",
       "         3, 3, 3, 3, 3, 3, 3, 4, 4, 4, 4, 4, 4, 4, 4, 5, 5, 5, 5, 5, 5, 5, 5, 6,\n",
       "         6, 6, 6, 6, 6, 6, 6, 7, 7, 7, 7, 7, 7, 7, 7]),\n",
       " tensor([1, 2, 3, 4, 5, 6, 7, 0, 1, 2, 3, 4, 5, 6, 7, 0, 1, 2, 3, 4, 5, 6, 7, 0,\n",
       "         1, 2, 3, 4, 5, 6, 7, 0, 1, 2, 3, 4, 5, 6, 7, 0, 1, 2, 3, 4, 5, 6, 7, 0,\n",
       "         1, 2, 3, 4, 5, 6, 7, 0, 1, 2, 3, 4, 5, 6, 7]))"
      ]
     },
     "execution_count": 336,
     "metadata": {},
     "output_type": "execute_result"
    }
   ],
   "source": [
    "torch.nonzero(mat, as_tuple=True)"
   ]
  },
  {
   "cell_type": "code",
   "execution_count": 345,
   "metadata": {},
   "outputs": [],
   "source": [
    "### create 3 matrices with the factorization and multiply to approximate given matrix"
   ]
  },
  {
   "cell_type": "code",
   "execution_count": 431,
   "metadata": {},
   "outputs": [],
   "source": [
    "A = torch.randn(8, 8)*5\n",
    "# A.abs_()"
   ]
  },
  {
   "cell_type": "code",
   "execution_count": 432,
   "metadata": {},
   "outputs": [],
   "source": [
    "w0, w1, w2 = [torch.randn(16, 1, requires_grad=True) for _ in range(3)]"
   ]
  },
  {
   "cell_type": "code",
   "execution_count": 433,
   "metadata": {},
   "outputs": [],
   "source": [
    "i0, i1, i2 = [get_pair_indices(8, i+1) for i in range(3)]"
   ]
  },
  {
   "cell_type": "code",
   "execution_count": 434,
   "metadata": {},
   "outputs": [],
   "source": [
    "# optimizer = torch.optim.Adam([w0, w1, w2], lr=0.001)\n",
    "optimizer = torch.optim.SGD([w0, w1, w2], lr=0.1)\n",
    "\n",
    "mse = nn.MSELoss()\n",
    "def mae(A, B):\n",
    "    return torch.abs(A-B).mean()"
   ]
  },
  {
   "cell_type": "code",
   "execution_count": 435,
   "metadata": {},
   "outputs": [
    {
     "name": "stdout",
     "output_type": "stream",
     "text": [
      "The MSE loss is : 25.884742736816406\n",
      "The MSE loss is : 5.331180095672607\n",
      "The MSE loss is : 5.331180095672607\n",
      "The MSE loss is : 5.331180095672607\n",
      "The MSE loss is : 5.331180095672607\n",
      "The MSE loss is : 5.331180095672607\n",
      "The MSE loss is : 5.331180095672607\n",
      "The MSE loss is : 5.331180095672607\n",
      "The MSE loss is : 5.331180095672607\n",
      "The MSE loss is : 5.331180095672607\n"
     ]
    }
   ],
   "source": [
    "### forward propagation\n",
    "for i in range(10000):\n",
    "    W0, W1, W2 = [torch.zeros(8, 8) for _ in range(3)]\n",
    "    W0[i0.split(1, dim=1)] = w0\n",
    "    W1[i1.split(1, dim=1)] = w1\n",
    "    W2[i2.split(1, dim=1)] = w2\n",
    "\n",
    "    W = (W0@W1)@W2\n",
    "    loss = mse(W,A)\n",
    "    optimizer.zero_grad()\n",
    "    loss.backward()\n",
    "    optimizer.step()\n",
    "    if i%1000 == 0:\n",
    "        print(f\"The MSE loss is : {float(mse(W,A))}\")\n",
    "#         print(f\"The MAE loss is : {float(mae(W,A))}\")"
   ]
  },
  {
   "cell_type": "code",
   "execution_count": 436,
   "metadata": {
    "scrolled": true
   },
   "outputs": [
    {
     "data": {
      "text/plain": [
       "tensor([[ 7.7474e+00, -7.2777e+00,  5.0163e+00,  3.2163e+00, -2.4806e+00,\n",
       "          2.2372e+00,  2.9761e+00, -2.4492e+00],\n",
       "        [ 6.4035e+00,  2.8651e+00,  4.1461e+00, -1.2662e+00, -2.0503e+00,\n",
       "         -8.8076e-01,  2.4599e+00,  9.6423e-01],\n",
       "        [ 1.4621e+00, -2.8083e+00, -3.6816e+00,  6.1329e+00, -4.6812e-01,\n",
       "          8.6329e-01, -2.1843e+00, -4.6703e+00],\n",
       "        [ 2.1042e+00,  1.0639e+00, -5.2987e+00, -2.3234e+00, -6.7373e-01,\n",
       "         -3.2705e-01, -3.1437e+00,  1.7693e+00],\n",
       "        [-5.0817e+00, -3.0245e+00,  7.7529e+00,  1.1138e+00, -1.0387e+00,\n",
       "         -2.2539e+00,  7.8916e+00,  2.6609e-02],\n",
       "        [-2.1521e+00, -9.1208e-01,  3.2833e+00,  3.3587e-01, -4.3990e-01,\n",
       "         -6.7969e-01,  3.3420e+00,  8.0245e-03],\n",
       "        [ 1.3431e+01,  1.1496e+00, -3.4477e-01, -2.1678e+00,  2.7454e+00,\n",
       "          8.5669e-01, -3.5093e-01, -5.1792e-02],\n",
       "        [-6.2830e+00, -7.5975e+00,  1.6128e-01,  1.4327e+01, -1.2843e+00,\n",
       "         -5.6617e+00,  1.6416e-01,  3.4229e-01]], grad_fn=<MmBackward>)"
      ]
     },
     "execution_count": 436,
     "metadata": {},
     "output_type": "execute_result"
    }
   ],
   "source": [
    "W"
   ]
  },
  {
   "cell_type": "code",
   "execution_count": 437,
   "metadata": {},
   "outputs": [
    {
     "data": {
      "text/plain": [
       "tensor([[ 8.1538, -7.7868,  1.9195,  3.4968, -4.0525,  0.8201,  5.8274, -1.8625],\n",
       "        [ 6.0330,  2.5539,  8.0274, -2.3764,  0.2304, -1.2859, -1.2168,  0.0611],\n",
       "        [ 1.7211, -0.1381, -3.5464,  6.2581,  3.4480,  4.4723, -3.0781, -5.4443],\n",
       "        [ 1.5552,  5.4676, -5.2873, -0.9995, -4.5474,  0.5965, -2.7003,  1.0306],\n",
       "        [-6.2331, -3.2357,  7.8637,  1.3368,  7.3891, -1.8760,  8.1506, -1.3125],\n",
       "        [-3.5689,  0.1516,  2.9712, -0.2827, -0.1083, -2.4201,  2.7800, -0.6187],\n",
       "        [13.0813,  3.5712,  0.5989, -2.6353,  5.0878, -3.4195,  3.6591,  2.5340],\n",
       "        [-5.6142, -7.2746,  3.2072, 14.2534, -3.2069, -6.2503,  7.7258,  0.8523]])"
      ]
     },
     "execution_count": 437,
     "metadata": {},
     "output_type": "execute_result"
    }
   ],
   "source": [
    "A"
   ]
  },
  {
   "cell_type": "code",
   "execution_count": 438,
   "metadata": {},
   "outputs": [
    {
     "data": {
      "text/plain": [
       "tensor([[-0.4065,  0.5091,  3.0967, -0.2805,  1.5719,  1.4171, -2.8513, -0.5868],\n",
       "        [ 0.3705,  0.3112, -3.8813,  1.1102, -2.2806,  0.4051,  3.6766,  0.9031],\n",
       "        [-0.2591, -2.6702, -0.1352, -0.1252, -3.9162, -3.6090,  0.8938,  0.7740],\n",
       "        [ 0.5491, -4.4037, -0.0114, -1.3239,  3.8737, -0.9236, -0.4434,  0.7387],\n",
       "        [ 1.1514,  0.2113, -0.1108, -0.2230, -8.4278, -0.3779, -0.2591,  1.3391],\n",
       "        [ 1.4168, -1.0637,  0.3121,  0.6185, -0.3316,  1.7404,  0.5621,  0.6267],\n",
       "        [ 0.3498, -2.4216, -0.9437,  0.4675, -2.3425,  4.2762, -4.0101, -2.5858],\n",
       "        [-0.6688, -0.3228, -3.0460,  0.0736,  1.9226,  0.5886, -7.5617, -0.5101]],\n",
       "       grad_fn=<SubBackward0>)"
      ]
     },
     "execution_count": 438,
     "metadata": {},
     "output_type": "execute_result"
    }
   ],
   "source": [
    "W-A"
   ]
  },
  {
   "cell_type": "markdown",
   "metadata": {},
   "source": [
    "### using double matrix"
   ]
  },
  {
   "cell_type": "code",
   "execution_count": 455,
   "metadata": {},
   "outputs": [],
   "source": [
    "A = torch.randn(8, 8)\n",
    "# A.abs_()"
   ]
  },
  {
   "cell_type": "code",
   "execution_count": 456,
   "metadata": {},
   "outputs": [],
   "source": [
    "w0, w1, w2 = [torch.randn(16, 1, requires_grad=True) for _ in range(3)]\n",
    "\n",
    "w3, w4, w5 = [torch.randn(16, 1, requires_grad=True) for _ in range(3)]"
   ]
  },
  {
   "cell_type": "code",
   "execution_count": 457,
   "metadata": {},
   "outputs": [],
   "source": [
    "i0, i1, i2 = [get_pair_indices(8, i+1) for i in range(3)]"
   ]
  },
  {
   "cell_type": "code",
   "execution_count": 458,
   "metadata": {},
   "outputs": [],
   "source": [
    "optimizer = torch.optim.Adam([w0, w1, w2], lr=0.001)\n",
    "# optimizer = torch.optim.SGD([w0, w1, w2, w3, w4, w5], lr=0.1)\n",
    "\n",
    "mse = nn.MSELoss()\n",
    "def mae(A, B):\n",
    "    return torch.abs(A-B).mean()"
   ]
  },
  {
   "cell_type": "code",
   "execution_count": 460,
   "metadata": {},
   "outputs": [
    {
     "name": "stdout",
     "output_type": "stream",
     "text": [
      "The MSE loss is : 0.354512095451355\n",
      "The MSE loss is : 0.35442817211151123\n",
      "The MSE loss is : 0.3366084098815918\n",
      "The MSE loss is : 0.3312680125236511\n",
      "The MSE loss is : 0.3312670886516571\n",
      "The MSE loss is : 0.3312670886516571\n",
      "The MSE loss is : 0.3312671482563019\n",
      "The MSE loss is : 0.33126726746559143\n",
      "The MSE loss is : 0.33126717805862427\n",
      "The MSE loss is : 0.3312671482563019\n"
     ]
    }
   ],
   "source": [
    "### forward propagation\n",
    "for i in range(10000):\n",
    "    W0, W1, W2, W3, W4, W5 = [torch.zeros(8, 8) for _ in range(6)]\n",
    "    W0[i0.split(1, dim=1)] = w0\n",
    "    W1[i1.split(1, dim=1)] = w1\n",
    "    W2[i2.split(1, dim=1)] = w2\n",
    "    \n",
    "    W3[i0.split(1, dim=1)] = w3\n",
    "    W4[i1.split(1, dim=1)] = w4\n",
    "    W5[i2.split(1, dim=1)] = w5\n",
    "\n",
    "    W = ((((W0@W1)@W2)@W3)@W4)@W5\n",
    "    loss = mse(W,A)\n",
    "    optimizer.zero_grad()\n",
    "    loss.backward()\n",
    "    optimizer.step()\n",
    "    if i%1000 == 0:\n",
    "        print(f\"The MSE loss is : {float(mse(W,A))}\")\n",
    "#         print(f\"The MAE loss is : {float(mae(W,A))}\")"
   ]
  },
  {
   "cell_type": "code",
   "execution_count": 461,
   "metadata": {
    "scrolled": true
   },
   "outputs": [
    {
     "data": {
      "text/plain": [
       "tensor([[-0.4585,  0.1179, -0.0854, -0.1305,  0.0665, -0.0224,  0.1827, -0.2260],\n",
       "        [-0.0794, -0.2044,  0.6706, -0.9132,  0.0160, -0.1102, -1.8848, -0.5498],\n",
       "        [-0.4361, -0.2286, -0.9940, -0.6881,  0.0653,  0.5506, -0.5307, -1.1167],\n",
       "        [ 1.1640, -1.0013, -1.4148, -0.1753, -0.1677, -0.0133, -0.9505, -0.2233],\n",
       "        [-0.3384,  1.5510,  1.4303,  0.3768,  0.0448, -0.0644,  0.1318,  0.4218],\n",
       "        [ 0.1250, -0.2910,  1.0406,  0.8284, -0.0269, -0.3640, -0.4468, -1.2545],\n",
       "        [ 2.0066, -0.1582, -0.6990, -0.7972, -0.2819,  0.9129, -1.5735,  1.5679],\n",
       "        [-0.1782, -0.5537, -0.1705,  0.1694,  0.0241, -0.2428,  0.1207, -0.6610]],\n",
       "       grad_fn=<MmBackward>)"
      ]
     },
     "execution_count": 461,
     "metadata": {},
     "output_type": "execute_result"
    }
   ],
   "source": [
    "W"
   ]
  },
  {
   "cell_type": "code",
   "execution_count": 462,
   "metadata": {},
   "outputs": [
    {
     "data": {
      "text/plain": [
       "tensor([[-0.6138,  1.2326, -0.2185,  1.1179, -0.8497, -0.3937, -0.4247, -0.7240],\n",
       "        [-0.1371, -0.4254,  0.7151, -1.3689, -0.0725,  0.0180, -1.7280, -0.2137],\n",
       "        [-0.3015, -0.2813, -0.9942, -0.9061, -0.9991,  0.3932, -0.0107, -1.4110],\n",
       "        [ 1.3580, -1.2162, -1.2476, -1.1149,  1.3802, -0.0763, -0.9408,  0.2300],\n",
       "        [ 0.2501,  1.6509,  0.8738,  1.8718,  0.4026, -0.1844, -0.2245,  1.1366],\n",
       "        [-0.2321, -0.4036,  1.1845,  0.5598, -0.6597, -0.4030, -0.1734, -1.3939],\n",
       "        [ 2.0134, -0.2117, -0.6994, -0.4672,  1.1502,  1.1341, -1.7988,  1.6240],\n",
       "        [-0.0178, -1.5268,  1.2774, -0.1184, -0.9108,  0.2248,  0.5637, -0.4600]])"
      ]
     },
     "execution_count": 462,
     "metadata": {},
     "output_type": "execute_result"
    }
   ],
   "source": [
    "A"
   ]
  },
  {
   "cell_type": "code",
   "execution_count": 463,
   "metadata": {},
   "outputs": [
    {
     "data": {
      "text/plain": [
       "tensor([[ 1.5521e-01, -1.1148e+00,  1.3314e-01, -1.2484e+00,  9.1620e-01,\n",
       "          3.7130e-01,  6.0740e-01,  4.9797e-01],\n",
       "        [ 5.7690e-02,  2.2091e-01, -4.4549e-02,  4.5573e-01,  8.8576e-02,\n",
       "         -1.2820e-01, -1.5676e-01, -3.3607e-01],\n",
       "        [-1.3456e-01,  5.2741e-02,  2.0671e-04,  2.1797e-01,  1.0645e+00,\n",
       "          1.5746e-01, -5.1999e-01,  2.9428e-01],\n",
       "        [-1.9399e-01,  2.1491e-01, -1.6725e-01,  9.3962e-01, -1.5479e+00,\n",
       "          6.3003e-02, -9.6475e-03, -4.5329e-01],\n",
       "        [-5.8846e-01, -9.9926e-02,  5.5659e-01, -1.4950e+00, -3.5784e-01,\n",
       "          1.2007e-01,  3.5631e-01, -7.1472e-01],\n",
       "        [ 3.5716e-01,  1.1257e-01, -1.4399e-01,  2.6857e-01,  6.3276e-01,\n",
       "          3.8957e-02, -2.7345e-01,  1.3936e-01],\n",
       "        [-6.8257e-03,  5.3530e-02,  4.2868e-04, -3.2995e-01, -1.4320e+00,\n",
       "         -2.2117e-01,  2.2531e-01, -5.6055e-02],\n",
       "        [-1.6039e-01,  9.7311e-01, -1.4479e+00,  2.8773e-01,  9.3484e-01,\n",
       "         -4.6751e-01, -4.4301e-01, -2.0103e-01]], grad_fn=<SubBackward0>)"
      ]
     },
     "execution_count": 463,
     "metadata": {},
     "output_type": "execute_result"
    }
   ],
   "source": [
    "W-A"
   ]
  },
  {
   "cell_type": "code",
   "execution_count": null,
   "metadata": {},
   "outputs": [],
   "source": []
  }
 ],
 "metadata": {
  "kernelspec": {
   "display_name": "Python 3",
   "language": "python",
   "name": "python3"
  },
  "language_info": {
   "codemirror_mode": {
    "name": "ipython",
    "version": 3
   },
   "file_extension": ".py",
   "mimetype": "text/x-python",
   "name": "python",
   "nbconvert_exporter": "python",
   "pygments_lexer": "ipython3",
   "version": "3.7.4"
  }
 },
 "nbformat": 4,
 "nbformat_minor": 4
}
