{
 "cells": [
  {
   "cell_type": "code",
   "execution_count": 1,
   "metadata": {},
   "outputs": [],
   "source": [
    "import numpy as np\n",
    "import matplotlib.pyplot as plt\n",
    "import mylibrary.nnlib as tnn\n",
    "%matplotlib inline"
   ]
  },
  {
   "cell_type": "code",
   "execution_count": 2,
   "metadata": {},
   "outputs": [
    {
     "data": {
      "text/plain": [
       "<matplotlib.collections.PathCollection at 0x7fa0c27916a0>"
      ]
     },
     "execution_count": 2,
     "metadata": {},
     "output_type": "execute_result"
    },
    {
     "data": {
      "image/png": "[encoded data removed]",
      "text/plain": [
       "<Figure size 432x288 with 1 Axes>"
      ]
     },
     "metadata": {
      "needs_background": "light"
     },
     "output_type": "display_data"
    }
   ],
   "source": [
    "x = np.linspace(0,1,200)\n",
    "noise = np.random.normal(0,0.02, x.shape)\n",
    "x = x + noise\n",
    "y = (2 * np.sin(10*x) + np.cos(20 * x - 3) + 3 * np.log(10*x + 0.5) - 4)/6.\n",
    "noise = np.random.normal(0,0.1, x.shape)\n",
    "y = y + noise\n",
    "x = x - 0.4 #x.mean() # good practice to zero-center x in linear mapping\n",
    "xx = x.reshape(-1,1)\n",
    "yy = y.reshape(-1,1)\n",
    "plt.scatter(x, y, marker='.', color='g')"
   ]
  },
  {
   "cell_type": "code",
   "execution_count": 3,
   "metadata": {},
   "outputs": [],
   "source": [
    "## defining the model\n",
    "n_hidden = 20\n",
    "optimizer = tnn.Adam(learning_rate=0.003)\n",
    "layer1prob = tnn.NonLinearLayer(1, n_hidden, activation=tnn.Softmax(), optimizer=optimizer)\n",
    "layer1reg = tnn.LinearLayer(1, n_hidden, optimizer=optimizer)"
   ]
  },
  {
   "cell_type": "code",
   "execution_count": null,
   "metadata": {},
   "outputs": [
    {
     "name": "stdout",
     "output_type": "stream",
     "text": [
      "_______________________\n",
      "epoch 0\n",
      "Loss 0.0894666313785351\n",
      "\n",
      "_______________________\n",
      "epoch 100\n",
      "Loss 0.06337172371292966\n",
      "\n",
      "_______________________\n",
      "epoch 200\n",
      "Loss 0.05311498886645971\n",
      "\n",
      "_______________________\n",
      "epoch 300\n",
      "Loss 0.04879877742139529\n",
      "\n",
      "_______________________\n",
      "epoch 400\n",
      "Loss 0.04729669518692028\n",
      "\n",
      "_______________________\n",
      "epoch 500\n",
      "Loss 0.04686510498768955\n",
      "\n",
      "_______________________\n",
      "epoch 600\n",
      "Loss 0.04675967979507184\n",
      "\n",
      "_______________________\n",
      "epoch 700\n",
      "Loss 0.04673274190436159\n",
      "\n",
      "_______________________\n",
      "epoch 800\n",
      "Loss 0.04672012935908664\n",
      "\n",
      "_______________________\n",
      "epoch 900\n",
      "Loss 0.04670923205537913\n",
      "\n",
      "_______________________\n",
      "epoch 1000\n",
      "Loss 0.04669836519122779\n",
      "\n",
      "_______________________\n",
      "epoch 1100\n",
      "Loss 0.04668747408417312\n",
      "\n",
      "_______________________\n",
      "epoch 1200\n",
      "Loss 0.04667660551633592\n",
      "\n",
      "_______________________\n",
      "epoch 1300\n",
      "Loss 0.046665769308990815\n",
      "\n",
      "_______________________\n",
      "epoch 1400\n",
      "Loss 0.046654958345557086\n",
      "\n",
      "_______________________\n",
      "epoch 1500\n",
      "Loss 0.04664416618798837\n",
      "\n",
      "_______________________\n",
      "epoch 1600\n",
      "Loss 0.046633395373439884\n",
      "\n",
      "_______________________\n",
      "epoch 1700\n",
      "Loss 0.04662266063212364\n",
      "\n",
      "_______________________\n",
      "epoch 1800\n",
      "Loss 0.04661198924259458\n",
      "\n",
      "_______________________\n",
      "epoch 1900\n",
      "Loss 0.04660141953144056\n",
      "\n",
      "_______________________\n",
      "epoch 2000\n",
      "Loss 0.04659099815751693\n",
      "\n",
      "_______________________\n",
      "epoch 2100\n",
      "Loss 0.04658077671665804\n",
      "\n",
      "_______________________\n",
      "epoch 2200\n",
      "Loss 0.04657080813338075\n",
      "\n",
      "_______________________\n",
      "epoch 2300\n",
      "Loss 0.0465611432212347\n",
      "\n",
      "_______________________\n",
      "epoch 2400\n",
      "Loss 0.04655182769599689\n",
      "\n",
      "_______________________\n",
      "epoch 2500\n",
      "Loss 0.04654289982742423\n",
      "\n",
      "_______________________\n",
      "epoch 2600\n",
      "Loss 0.04653438882498265\n",
      "\n",
      "_______________________\n",
      "epoch 2700\n",
      "Loss 0.04652631397628915\n",
      "\n",
      "_______________________\n",
      "epoch 2800\n",
      "Loss 0.04651868449626056\n",
      "\n",
      "_______________________\n",
      "epoch 2900\n",
      "Loss 0.04651150000035624\n",
      "\n",
      "_______________________\n",
      "epoch 3000\n",
      "Loss 0.046504751485751665\n",
      "\n",
      "_______________________\n",
      "epoch 3100\n",
      "Loss 0.04649842268803967\n",
      "\n",
      "_______________________\n",
      "epoch 3200\n",
      "Loss 0.04649249167614929\n",
      "\n",
      "_______________________\n",
      "epoch 3300\n",
      "Loss 0.046486932552609606\n",
      "\n"
     ]
    }
   ],
   "source": [
    "%matplotlib tk\n",
    "fig = plt.figure()\n",
    "ax = fig.add_subplot(1, 1, 1)\n",
    "\n",
    "plt.ion()\n",
    "fig.show()\n",
    "fig.canvas.draw()\n",
    "\n",
    "for step in range(100000):\n",
    "    probs = layer1prob.forward(xx)\n",
    "    regs = layer1reg.forward(xx)\n",
    "    a1 = probs*regs\n",
    "    y_out = a1.sum(axis=1, keepdims=True)\n",
    "#     print(y_out)\n",
    "#     print(probs)\n",
    "#     print(regs)\n",
    "#     break\n",
    "\n",
    "    loss = tnn.MseLoss.loss(y_out, yy)\n",
    "    dy = tnn.MseLoss.del_loss(y_out, yy)\n",
    "    \n",
    "    da1 = np.hstack([dy]*n_hidden)\n",
    "#     print(da1.shape)\n",
    "    dxp = layer1prob.backward(da1)\n",
    "    dxr = layer1reg.backward(da1)\n",
    "    dx = dxp + dxr\n",
    "    \n",
    "    layer1prob.update()\n",
    "    layer1reg.update()\n",
    "    \n",
    "    if step % 100 == 0:\n",
    "\n",
    "        print('_______________________')\n",
    "        print(\"epoch\", step)\n",
    "        print(\"Loss\", loss)\n",
    "\n",
    "        ax.clear()\n",
    "        plt.scatter(x, y, marker='.', c='g', label='x,y')\n",
    "        plt.scatter(x, y_out.reshape(-1), marker='.', c='r', lw=3, label='x,a1')\n",
    "        plt.scatter(x, dy.reshape(-1), marker='.', c='m', lw=1, label='x,dy')\n",
    "        plt.plot(x, np.zeros_like(x), c='b', lw=2)\n",
    "        plt.legend()\n",
    "        \n",
    "        fig.canvas.draw()\n",
    "        \n",
    "        plt.pause(0.01)\n",
    "        print()\n",
    "        if loss < 0.0025:\n",
    "            print('fitted to our expectation')\n",
    "            plt.pause(50)\n",
    "            break"
   ]
  },
  {
   "cell_type": "code",
   "execution_count": 9,
   "metadata": {},
   "outputs": [
    {
     "data": {
      "text/plain": [
       "<matplotlib.legend.Legend at 0x7f7638b4efd0>"
      ]
     },
     "execution_count": 9,
     "metadata": {},
     "output_type": "execute_result"
    },
    {
     "data": {
      "image/png": "[encoded data removed]",
      "text/plain": [
       "<Figure size 432x288 with 1 Axes>"
      ]
     },
     "metadata": {
      "needs_background": "light"
     },
     "output_type": "display_data"
    }
   ],
   "source": [
    "%matplotlib inline\n",
    "plt.scatter(x, y, marker='.', c='g', label='x,y')\n",
    "plt.scatter(x, y_out.reshape(-1), marker='.', c='r', lw=3, label='x,a1')\n",
    "plt.scatter(x, dy.reshape(-1), marker='.', c='m', lw=1, label='x,dy')\n",
    "plt.plot(x, np.zeros_like(x), c='b', lw=2)\n",
    "plt.legend()"
   ]
  },
  {
   "cell_type": "code",
   "execution_count": 10,
   "metadata": {},
   "outputs": [
    {
     "data": {
      "text/plain": [
       "array([[6.21960479e-07, 1.18839445e-05, 4.94658408e-01, ...,\n",
       "        5.05141058e-01, 1.12856996e-04, 3.95697497e-07],\n",
       "       [9.61611539e-07, 1.63816215e-05, 4.95031330e-01, ...,\n",
       "        5.04708279e-01, 1.41881253e-04, 6.39824523e-07],\n",
       "       [6.22834179e-07, 1.18962394e-05, 4.94659621e-01, ...,\n",
       "        5.05139676e-01, 1.12940241e-04, 3.96310559e-07],\n",
       "       ...,\n",
       "       [7.72428028e-10, 3.85446518e-11, 9.94884801e-14, ...,\n",
       "        9.34599216e-14, 3.09359061e-12, 5.01244336e-09],\n",
       "       [5.96706509e-10, 2.83922386e-11, 6.41713267e-14, ...,\n",
       "        6.02425798e-14, 2.19336942e-12, 3.94477227e-09],\n",
       "       [4.06810983e-10, 1.80367653e-11, 3.34745141e-14, ...,\n",
       "        3.13939759e-14, 1.31660100e-12, 2.76458740e-09]])"
      ]
     },
     "execution_count": 10,
     "metadata": {},
     "output_type": "execute_result"
    }
   ],
   "source": [
    "layer1prob.output"
   ]
  },
  {
   "cell_type": "code",
   "execution_count": null,
   "metadata": {},
   "outputs": [],
   "source": []
  }
 ],
 "metadata": {
  "kernelspec": {
   "display_name": "Python 3",
   "language": "python",
   "name": "python3"
  },
  "language_info": {
   "codemirror_mode": {
    "name": "ipython",
    "version": 3
   },
   "file_extension": ".py",
   "mimetype": "text/x-python",
   "name": "python",
   "nbconvert_exporter": "python",
   "pygments_lexer": "ipython3",
   "version": "3.7.3"
  }
 },
 "nbformat": 4,
 "nbformat_minor": 2
}
