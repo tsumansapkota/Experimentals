{
 "cells": [
  {
   "cell_type": "code",
   "execution_count": 1,
   "metadata": {},
   "outputs": [],
   "source": [
    "import numpy as np\n",
    "import matplotlib.pyplot as plt\n",
    "import torch\n",
    "import torch.nn as nn\n",
    "import torch.nn.functional as F\n",
    "import torch.utils.data.dataloader as dataloader\n",
    "import torch.optim as optim\n",
    "\n",
    "from torch.utils.data import TensorDataset\n",
    "from torch.autograd import Variable\n",
    "from torchvision import transforms\n",
    "from torchvision.datasets import MNIST\n",
    "\n",
    "import copy\n",
    "\n",
    "%matplotlib inline"
   ]
  },
  {
   "cell_type": "code",
   "execution_count": 2,
   "metadata": {},
   "outputs": [],
   "source": [
    "train = MNIST('../DATASETS/MNIST_pytorch/', train=True, transform=transforms.Compose([\n",
    "    transforms.ToTensor(), # ToTensor does min-max normalization. \n",
    "    ]),\n",
    "#              download=True,\n",
    "             )\n",
    "\n",
    "test = MNIST('../DATASETS/MNIST_pytorch/', train=False, transform=transforms.ToTensor(),\n",
    "#             download=True,\n",
    "            )\n",
    "\n",
    "# Create DataLoader\n",
    "dataloader_args = dict(shuffle=True, batch_size=32)\n",
    "train_loader = dataloader.DataLoader(train, **dataloader_args)\n",
    "test_loader = dataloader.DataLoader(test, **dataloader_args)"
   ]
  },
  {
   "cell_type": "code",
   "execution_count": 3,
   "metadata": {},
   "outputs": [
    {
     "name": "stdout",
     "output_type": "stream",
     "text": [
      "[Train]\n",
      " - Numpy Shape: (60000, 28, 28)\n",
      " - Tensor Shape: torch.Size([60000, 28, 28])\n",
      " - Transformed Shape: torch.Size([28, 60000, 28])\n",
      " - min: tensor(0.)\n",
      " - max: tensor(1.)\n",
      " - mean: tensor(0.1306)\n",
      " - std: tensor(0.3081)\n",
      " - var: tensor(0.0949)\n"
     ]
    }
   ],
   "source": [
    "train_data = train.data\n",
    "train_data = train.transform(train_data.numpy())\n",
    "\n",
    "print('[Train]')\n",
    "print(' - Numpy Shape:', train.data.cpu().numpy().shape)\n",
    "print(' - Tensor Shape:', train.data.size())\n",
    "print(' - Transformed Shape:', train_data.size())\n",
    "print(' - min:', torch.min(train_data))\n",
    "print(' - max:', torch.max(train_data))\n",
    "print(' - mean:', torch.mean(train_data))\n",
    "print(' - std:', torch.std(train_data))\n",
    "print(' - var:', torch.var(train_data))"
   ]
  },
  {
   "cell_type": "code",
   "execution_count": 4,
   "metadata": {},
   "outputs": [
    {
     "name": "stdout",
     "output_type": "stream",
     "text": [
      "[Test]\n",
      " - Numpy Shape: (10000, 28, 28)\n",
      " - Tensor Shape: torch.Size([10000, 28, 28])\n",
      " - Transformed Shape: torch.Size([28, 10000, 28])\n",
      " - min: tensor(0.)\n",
      " - max: tensor(1.)\n",
      " - mean: tensor(0.1325)\n",
      " - std: tensor(0.3105)\n",
      " - var: tensor(0.0964)\n"
     ]
    }
   ],
   "source": [
    "test_data = test.data\n",
    "test_data = train.transform(test_data.numpy())\n",
    "\n",
    "print('[Test]')\n",
    "print(' - Numpy Shape:', test.data.numpy().shape)\n",
    "print(' - Tensor Shape:', test.data.size())\n",
    "print(' - Transformed Shape:', test_data.size())\n",
    "print(' - min:', torch.min(test_data))\n",
    "print(' - max:', torch.max(test_data))\n",
    "print(' - mean:', torch.mean(test_data))\n",
    "print(' - std:', torch.std(test_data))\n",
    "print(' - var:', torch.var(test_data))"
   ]
  },
  {
   "cell_type": "code",
   "execution_count": 5,
   "metadata": {},
   "outputs": [],
   "source": [
    "class Model(nn.Module):\n",
    "    def __init__(self):\n",
    "        super(Model, self).__init__()\n",
    "        \n",
    "        self.fc1 = nn.Linear(784, 10)\n",
    "        self.relu = nn.ReLU(inplace=True)\n",
    "        self.fc2 = nn.Linear(10, 10)\n",
    "        self.softmax = nn.LogSoftmax(dim=1)\n",
    "        \n",
    "        \n",
    "    def forward(self, x):\n",
    "        x = x.view((-1, 784))\n",
    "        h = self.fc1(x)\n",
    "        h = F.relu(h)        \n",
    "        h = self.fc2(h)\n",
    "        out = self.softmax(h)\n",
    "#         print('i was called')\n",
    "        return out"
   ]
  },
  {
   "cell_type": "code",
   "execution_count": 6,
   "metadata": {},
   "outputs": [],
   "source": [
    "model = Model()\n",
    "optimizer = optim.Adam(model.parameters(), lr=0.001)\n",
    "criterion = nn.CrossEntropyLoss()\n",
    "lambda_ = 1e-4\n",
    "\n",
    "# for model_parm in model.parameters():\n",
    "#     print(model_parm)\n",
    "# print(model_parm.grad)"
   ]
  },
  {
   "cell_type": "code",
   "execution_count": 7,
   "metadata": {},
   "outputs": [
    {
     "name": "stdout",
     "output_type": "stream",
     "text": [
      " Train Epoch: 0 [60000/60000 (100%)]\tLoss: 0.442302\tAccuracy: 0.8912, M : 753\n",
      " Train Epoch: 1 [60000/60000 (100%)]\tLoss: 1.584072\tAccuracy: 0.8966, M : 390\n",
      " Train Epoch: 2 [60000/60000 (100%)]\tLoss: 2.994412\tAccuracy: 0.8999, M : 3045\n",
      " Train Epoch: 3 [60000/60000 (100%)]\tLoss: 0.137359\tAccuracy: 0.9044, M : 2762\n",
      " Train Epoch: 4 [60000/60000 (100%)]\tLoss: 0.577556\tAccuracy: 0.9082, M : 2682\n"
     ]
    }
   ],
   "source": [
    "# model.train()\n",
    "evaluate_x = Variable(test_loader.dataset.data.type_as(torch.FloatTensor()))\n",
    "evaluate_y = Variable(test_loader.dataset.targets)\n",
    "\n",
    "losses = []\n",
    "for epoch in range(5):\n",
    "    data_count = 0\n",
    "    max_iter = 0\n",
    "    for batch_idx, (data, target) in enumerate(train_loader):\n",
    "        # creating a copy of model for every data\n",
    "        model_temp  = copy.deepcopy(model)\n",
    "        \n",
    "        optimizer_temp = optim.Adam(model_temp.parameters(), lr=0.01)\n",
    "        for j in range(10000):\n",
    "            # Predict\n",
    "            y_pred = model_temp(data) \n",
    "            loss = criterion(y_pred, target)\n",
    "            # Backpropagation\n",
    "            optimizer_temp.zero_grad()\n",
    "            loss.backward()\n",
    "            optimizer_temp.step()\n",
    "\n",
    "            if loss.data < 1e-4:\n",
    "                break\n",
    "        \n",
    "        max_iter = max(j,max_iter)\n",
    "        \n",
    "        \n",
    "#         print(j,'->', float(loss.data), end=' ')    \n",
    "        ### combine the models\n",
    "        model.zero_grad()\n",
    "        for model_parm, modelt_parm in zip(model.parameters(), model_temp.parameters()):\n",
    "            model_parm.grad = (model_parm - modelt_parm)\n",
    "        optimizer.step()\n",
    "        \n",
    "        y_pred = model(data) \n",
    "        loss = criterion(y_pred, target)\n",
    "        losses.append(loss.data)\n",
    "        \n",
    "        \n",
    "        # Display\n",
    "        data_count += len(data)\n",
    "        if batch_idx%100 == 0 or batch_idx==len(train_loader)-1:\n",
    "            output = model(evaluate_x)\n",
    "            pred = output.max(1)[1]\n",
    "            d = pred.eq(evaluate_y)\n",
    "            accuracy = float(d.sum())/float(d.size()[0])\n",
    "            \n",
    "            print('\\r Train Epoch: {} [{}/{} ({:.0f}%)]\\tLoss: {:.6f}\\tAccuracy: {}, M : {}'.format(\n",
    "                epoch, \n",
    "                data_count, \n",
    "                len(train_loader.dataset),\n",
    "                100. * batch_idx / len(train_loader), \n",
    "                loss.data,\n",
    "                accuracy,\n",
    "                max_iter,),\n",
    "                end='')\n",
    "            \n",
    "    print()"
   ]
  },
  {
   "cell_type": "code",
   "execution_count": 69,
   "metadata": {},
   "outputs": [
    {
     "data": {
      "text/plain": [
       "(0.8085482, 0.6219231)"
      ]
     },
     "execution_count": 69,
     "metadata": {},
     "output_type": "execute_result"
    },
    {
     "data": {
      "image/png": "[encoded data removed]",
      "text/plain": [
       "<Figure size 432x288 with 1 Axes>"
      ]
     },
     "metadata": {
      "needs_background": "light"
     },
     "output_type": "display_data"
    }
   ],
   "source": [
    "plt.plot(losses)\n",
    "np.mean(losses), np.std(losses)"
   ]
  },
  {
   "cell_type": "code",
   "execution_count": 70,
   "metadata": {},
   "outputs": [],
   "source": [
    "for model_parm in model.parameters():\n",
    "        model_parm.requires_grad=False"
   ]
  },
  {
   "cell_type": "code",
   "execution_count": 71,
   "metadata": {},
   "outputs": [
    {
     "name": "stdout",
     "output_type": "stream",
     "text": [
      "Accuracy: 0.9082\n"
     ]
    }
   ],
   "source": [
    "evaluate_x = test.data.type_as(torch.FloatTensor())\n",
    "evaluate_y = test_loader.dataset.targets\n",
    "\n",
    "\n",
    "output = model(evaluate_x)\n",
    "pred = output.max(dim=1)[1]\n",
    "d = pred.eq(evaluate_y)\n",
    "accuracy = float(d.sum())/float(d.size()[0])\n",
    "\n",
    "print('Accuracy:', accuracy)"
   ]
  },
  {
   "cell_type": "code",
   "execution_count": 72,
   "metadata": {},
   "outputs": [],
   "source": [
    "a = 1"
   ]
  },
  {
   "cell_type": "code",
   "execution_count": 74,
   "metadata": {},
   "outputs": [
    {
     "name": "stdout",
     "output_type": "stream",
     "text": [
      "-2\n",
      "tensor(1.9866)\n"
     ]
    }
   ],
   "source": [
    "print(-a)\n",
    "print(losses[-a])\n",
    "a+=1"
   ]
  },
  {
   "cell_type": "markdown",
   "metadata": {},
   "source": [
    "### Using  error to predict using another network"
   ]
  },
  {
   "cell_type": "code",
   "execution_count": 75,
   "metadata": {},
   "outputs": [],
   "source": [
    "train_x = train_loader.dataset.data.type_as(torch.FloatTensor())\n",
    "train_y = train_loader.dataset.targets\n",
    "\n",
    "# with torch.no_grad():\n",
    "x = train_x.view((-1, 784))\n",
    "h = model.fc1(x)\n",
    "h = F.relu(h)        \n",
    "prev_final = model.fc2(h)\n",
    "# out = model.softmax(h)\n",
    "\n",
    "# with torch.no_grad():\n",
    "x = evaluate_x.view((-1, 784))\n",
    "h = model.fc1(x)\n",
    "h = F.relu(h)        \n",
    "prev_test_final = model.fc2(h)"
   ]
  },
  {
   "cell_type": "code",
   "execution_count": 76,
   "metadata": {},
   "outputs": [],
   "source": [
    "# logits = torch.empty(len(train_y), 10,dtype=torch.float32)\n",
    "# for i, indx in enumerate(train_y):\n",
    "#     zeros = torch.zeros(10)\n",
    "#     zeros[indx] = 1.\n",
    "#     logits[i] = zeros"
   ]
  },
  {
   "cell_type": "code",
   "execution_count": 77,
   "metadata": {},
   "outputs": [],
   "source": [
    "# with torch.no_grad():\n",
    "#     error0_y = output_train - logits"
   ]
  },
  {
   "cell_type": "code",
   "execution_count": 78,
   "metadata": {},
   "outputs": [],
   "source": [
    "class CustomMNIST(torch.utils.data.Dataset):\n",
    "\n",
    "    def __init__(self, inputs, targets, prev_final):\n",
    "        self.inputs = inputs\n",
    "        self.targets = targets\n",
    "        self.prev_final = prev_final\n",
    "\n",
    "    def __len__(self):\n",
    "        return len(self.targets)\n",
    "\n",
    "    def __getitem__(self, idx):\n",
    "        if torch.is_tensor(idx):\n",
    "            idx = idx.tolist()\n",
    "\n",
    "        return self.inputs[idx], self.targets[idx], self.prev_final[idx]"
   ]
  },
  {
   "cell_type": "code",
   "execution_count": 79,
   "metadata": {},
   "outputs": [],
   "source": [
    "error0MNIST = CustomMNIST(train_x, train_y, prev_final.data)\n",
    "dataloader_args = dict(shuffle=True, batch_size=32)\n",
    "train1_loader = dataloader.DataLoader(error0MNIST, **dataloader_args)"
   ]
  },
  {
   "cell_type": "code",
   "execution_count": 80,
   "metadata": {},
   "outputs": [],
   "source": [
    "class ModelE(nn.Module):\n",
    "    def __init__(self):\n",
    "        super(ModelE, self).__init__()\n",
    "        \n",
    "        self.fc1 = nn.Linear(784, 10)\n",
    "        self.relu = nn.ReLU(inplace=True)\n",
    "        self.fc2 = nn.Linear(10, 10)\n",
    "        self.fc2.weight.data *= 0.\n",
    "        self.softmax = nn.LogSoftmax(dim=1)\n",
    "        \n",
    "        \n",
    "    def forward(self, x, prev_final):\n",
    "        x = x.view((-1, 784))\n",
    "        h = self.fc1(x)\n",
    "        h = F.relu(h)        \n",
    "        h = self.fc2(h)\n",
    "        if prev_final is not None:\n",
    "            h = h + prev_final\n",
    "        out = self.softmax(h)\n",
    "        return out"
   ]
  },
  {
   "cell_type": "code",
   "execution_count": 86,
   "metadata": {},
   "outputs": [],
   "source": [
    "model1 = ModelE()\n",
    "optimizer1 = optim.Adam(model1.parameters(), lr=0.001)\n",
    "criterion1 = nn.CrossEntropyLoss()"
   ]
  },
  {
   "cell_type": "code",
   "execution_count": 88,
   "metadata": {},
   "outputs": [
    {
     "name": "stdout",
     "output_type": "stream",
     "text": [
      " Train Epoch: 0 [60000/60000 (100%)]\tLoss: 63.849243\tAccuracy: 0.9157, M : 30\n",
      " Train Epoch: 1 [60000/60000 (100%)]\tLoss: 55.349792\tAccuracy: 0.9137, M : 32\n",
      " Train Epoch: 2 [60000/60000 (100%)]\tLoss: 78.600342\tAccuracy: 0.9148, M : 39\n",
      " Train Epoch: 3 [60000/60000 (100%)]\tLoss: 139.707825\tAccuracy: 0.9142, M : 32\n",
      " Train Epoch: 4 [60000/60000 (100%)]\tLoss: 438.394165\tAccuracy: 0.9147, M : 32\n"
     ]
    }
   ],
   "source": [
    "losses1 = []\n",
    "for epoch in range(5):\n",
    "    data_count = 0\n",
    "    max_iter = 0\n",
    "    for batch_idx, (data, target, prev_final) in enumerate(train1_loader):\n",
    "        # creating a copy of model for every data\n",
    "        model_temp  = copy.deepcopy(model1)\n",
    "        \n",
    "        optimizer_temp = optim.Adam(model_temp.parameters(), lr=0.01)\n",
    "        for j in range(1000):\n",
    "            # Predict\n",
    "            optimizer_temp.zero_grad()\n",
    "            y_pred = model_temp(data, prev_final)\n",
    "            \n",
    "#             print(y_pred.shape, target.shape)\n",
    "            loss = criterion(y_pred, target)\n",
    "            # Backpropagation\n",
    "            loss.backward()\n",
    "            optimizer_temp.step()\n",
    "\n",
    "            if loss.data < 1e-4:\n",
    "                break\n",
    "        \n",
    "        max_iter = max(j,max_iter)\n",
    "        \n",
    "        \n",
    "        ### combine the models\n",
    "        optimizer1.zero_grad()\n",
    "        for model_parm, modelt_parm in zip(model1.parameters(), model_temp.parameters()):\n",
    "            model_parm.grad = (model_parm - modelt_parm)\n",
    "        optimizer1.step()\n",
    "        \n",
    "        y_pred = model1(data, prev_final) \n",
    "        \n",
    "        loss = criterion(y_pred, target)\n",
    "        losses1.append(loss.data)\n",
    "        \n",
    "        \n",
    "        # Display\n",
    "        data_count += len(data)\n",
    "        if batch_idx%100 == 0 or batch_idx==len(train_loader)-1:\n",
    "            output = model1(evaluate_x, prev_test_final)\n",
    "            pred = output.max(1)[1]\n",
    "            d = pred.eq(evaluate_y)\n",
    "            accuracy = float(d.sum())/float(d.size()[0])\n",
    "            \n",
    "            print('\\r Train Epoch: {} [{}/{} ({:.0f}%)]\\tLoss: {:.6f}\\tAccuracy: {}, M : {} --->'.format(\n",
    "                epoch, \n",
    "                data_count, \n",
    "                len(train_loader.dataset),\n",
    "                100. * batch_idx / len(train_loader), \n",
    "                loss.data,\n",
    "                accuracy,\n",
    "                max_iter,),\n",
    "                end='')\n",
    "            \n",
    "    print()"
   ]
  },
  {
   "cell_type": "code",
   "execution_count": 89,
   "metadata": {},
   "outputs": [
    {
     "data": {
      "text/plain": [
       "(163.18465, 147.0957)"
      ]
     },
     "execution_count": 89,
     "metadata": {},
     "output_type": "execute_result"
    },
    {
     "data": {
      "image/png": "[encoded data removed]",
      "text/plain": [
       "<Figure size 432x288 with 1 Axes>"
      ]
     },
     "metadata": {
      "needs_background": "light"
     },
     "output_type": "display_data"
    }
   ],
   "source": [
    "plt.plot(losses1)\n",
    "np.mean(losses1), np.std(losses1)"
   ]
  },
  {
   "cell_type": "code",
   "execution_count": 99,
   "metadata": {},
   "outputs": [
    {
     "data": {
      "text/plain": [
       "0.9147"
      ]
     },
     "execution_count": 99,
     "metadata": {},
     "output_type": "execute_result"
    }
   ],
   "source": [
    "output = model1(evaluate_x, prev_test_final)\n",
    "pred = output.max(1)[1]\n",
    "d = pred.eq(evaluate_y)\n",
    "accuracy = float(d.sum())/float(d.size()[0])\n",
    "accuracy"
   ]
  },
  {
   "cell_type": "code",
   "execution_count": null,
   "metadata": {},
   "outputs": [],
   "source": []
  }
 ],
 "metadata": {
  "kernelspec": {
   "display_name": "Python 3",
   "language": "python",
   "name": "python3"
  },
  "language_info": {
   "codemirror_mode": {
    "name": "ipython",
    "version": 3
   },
   "file_extension": ".py",
   "mimetype": "text/x-python",
   "name": "python",
   "nbconvert_exporter": "python",
   "pygments_lexer": "ipython3",
   "version": "3.7.4"
  }
 },
 "nbformat": 4,
 "nbformat_minor": 2
}
