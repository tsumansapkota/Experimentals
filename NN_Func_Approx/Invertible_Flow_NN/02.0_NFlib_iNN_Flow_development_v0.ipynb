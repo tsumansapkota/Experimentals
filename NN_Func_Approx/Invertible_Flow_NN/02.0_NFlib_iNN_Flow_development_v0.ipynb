{
 "cells": [
  {
   "cell_type": "code",
   "execution_count": 1,
   "metadata": {},
   "outputs": [],
   "source": [
    "import numpy as np\n",
    "import matplotlib.pyplot as plt\n",
    "%matplotlib inline\n",
    "\n",
    "import torch\n",
    "import torch.nn as nn\n",
    "import torch.optim as optim\n",
    "\n",
    "import time, os\n",
    "from tqdm import tqdm\n",
    "\n",
    "from scipy import optimize"
   ]
  },
  {
   "cell_type": "code",
   "execution_count": 2,
   "metadata": {},
   "outputs": [],
   "source": [
    "import nflib\n",
    "from nflib.flows import SequentialFlow, NormalizingFlow, ActNorm, AffineConstantFlow, LinearFlow\n",
    "from nflib.coupling_flows import AffineHalfFlow, MLP_Generator, DimensionMixer\n",
    "from nflib.res_flow import ResidualFlow, ReLU, LeakyReLU, Swish\n",
    "##### Linear units are worst, use swish type activation\n",
    "from nflib.inn_flow import iNN_Flow"
   ]
  },
  {
   "cell_type": "code",
   "execution_count": 3,
   "metadata": {},
   "outputs": [],
   "source": [
    "from torch import distributions\n",
    "from torch.distributions import MultivariateNormal, Uniform, TransformedDistribution, SigmoidTransform"
   ]
  },
  {
   "cell_type": "code",
   "execution_count": 4,
   "metadata": {},
   "outputs": [
    {
     "data": {
      "image/png": "[encoded data removed]",
      "text/plain": [
       "<Figure size 288x288 with 1 Axes>"
      ]
     },
     "metadata": {
      "needs_background": "light"
     },
     "output_type": "display_data"
    }
   ],
   "source": [
    "# Lightweight datasets\n",
    "import pickle\n",
    "from sklearn import datasets\n",
    "\n",
    "class DatasetMoons:\n",
    "    \"\"\" two half-moons \"\"\"\n",
    "    def sample(self, n):\n",
    "        moons = datasets.make_moons(n_samples=n, noise=0.05)[0].astype(np.float32)\n",
    "        return torch.from_numpy(moons)\n",
    "\n",
    "class DatasetMixture:\n",
    "    \"\"\" 4 mixture of gaussians \"\"\"\n",
    "    def sample(self, n):\n",
    "        assert n%4 == 0\n",
    "        r = np.r_[np.random.randn(n // 4, 2)*0.5 + np.array([0, -2]),\n",
    "                  np.random.randn(n // 4, 2)*0.5 + np.array([0, 0]),\n",
    "                  np.random.randn(n // 4, 2)*0.5 + np.array([2, 2]),\n",
    "                  np.random.randn(n // 4, 2)*0.5 + np.array([-2, 2])]\n",
    "        return torch.from_numpy(r.astype(np.float32))\n",
    "\n",
    "d = DatasetMoons()\n",
    "#d = DatasetMixture()\n",
    "#d = DatasetSIGGRAPH()\n",
    "\n",
    "x = d.sample(128)\n",
    "plt.figure(figsize=(4,4))\n",
    "plt.scatter(x[:,0], x[:,1], s=5, alpha=0.5)\n",
    "plt.axis('equal');"
   ]
  },
  {
   "cell_type": "code",
   "execution_count": 5,
   "metadata": {},
   "outputs": [],
   "source": [
    "prior = MultivariateNormal(torch.zeros(2), torch.eye(2))\n",
    "\n",
    "# flows = []\n",
    "# hidden_dims = [24, 24, 24]\n",
    "# generator = MLP_Generator([24,24,24])\n",
    "# for i in range(16):\n",
    "# #     a = AffineHalfFlow(dim=2, sample_dim=i%2, func_generator=generator, scale=False)\n",
    "#     a = ResidualFlow(2, hidden_dims, activation=Swish, scaler=0.97, reverse=False)\n",
    "#     b = ActNorm(2)\n",
    "#     flows += [b, a]\n",
    "\n",
    "flows = [iNN_Flow(2, [10, 10])]\n",
    "model = NormalizingFlow(flows, prior)"
   ]
  },
  {
   "cell_type": "code",
   "execution_count": 6,
   "metadata": {},
   "outputs": [
    {
     "data": {
      "text/plain": [
       "NormalizingFlow(\n",
       "  (flow): SequentialFlow(\n",
       "    (flows): ModuleList(\n",
       "      (0): iNN_Flow(\n",
       "        (resblock): ModuleList(\n",
       "          (0): Linear(in_features=2, out_features=10, bias=True)\n",
       "          (1): Swish()\n",
       "          (2): Linear(in_features=10, out_features=10, bias=True)\n",
       "          (3): Swish()\n",
       "          (4): Linear(in_features=10, out_features=2, bias=True)\n",
       "        )\n",
       "      )\n",
       "    )\n",
       "  )\n",
       ")"
      ]
     },
     "execution_count": 6,
     "metadata": {},
     "output_type": "execute_result"
    }
   ],
   "source": [
    "model"
   ]
  },
  {
   "cell_type": "code",
   "execution_count": 7,
   "metadata": {},
   "outputs": [
    {
     "data": {
      "image/png": "[encoded data removed]",
      "text/plain": [
       "<Figure size 432x288 with 1 Axes>"
      ]
     },
     "metadata": {
      "needs_background": "light"
     },
     "output_type": "display_data"
    }
   ],
   "source": [
    "x = d.sample(128)\n",
    "z, logDetJ = model.flow(x, True)\n",
    "# z = flows[0](x)\n",
    "z = z.data.detach()\n",
    "plt.scatter(z[:,0], z[:,1], s=5, alpha=0.5)\n",
    "plt.scatter(x[:,0], x[:,1], s=5, alpha=0.5)\n",
    "plt.axis('equal');"
   ]
  },
  {
   "cell_type": "code",
   "execution_count": 8,
   "metadata": {},
   "outputs": [],
   "source": [
    "# jpt text to stop execution"
   ]
  },
  {
   "cell_type": "markdown",
   "metadata": {},
   "source": [
    "## Model Train"
   ]
  },
  {
   "cell_type": "code",
   "execution_count": 9,
   "metadata": {},
   "outputs": [
    {
     "name": "stdout",
     "output_type": "stream",
     "text": [
      "number of params:  164\n"
     ]
    }
   ],
   "source": [
    "# optimizer = optim.Adam(model.parameters(), lr=0.001, weight_decay=1e-5, betas=(0.5, 0.999)) # todo tune WD\n",
    "optimizer = optim.SGD(model.parameters(), lr=0.1)\n",
    "print(\"number of params: \", sum(p.numel() for p in model.parameters()))"
   ]
  },
  {
   "cell_type": "code",
   "execution_count": 10,
   "metadata": {},
   "outputs": [],
   "source": [
    "def get_NLL(logdet, prior_log):\n",
    "    y = prior_logP + logDetJ\n",
    "    y.register_hook(clip_gradient_back)\n",
    "    return -torch.mean(y)\n",
    "\n",
    "def clip_gradient_back(grad):\n",
    "    global model\n",
    "    clipval = func_det_clipper(model.flow.flows[0].detJ)\n",
    "    clipval = torch.clamp_max(clipval, 1)\n",
    "    y = torch.minimum(torch.maximum(grad, -clipval), clipval)\n",
    "\n",
    "    print(\"Grad orig mean, std\", grad.mean(), grad.std())\n",
    "    print(\"Grad clip mean, std\", y.mean(), y.std())\n",
    "    print(model.flow.flows[0].detJ.min(), clipval.min())\n",
    "    print(model.flow.flows[0].detJ.max(), clipval.max())\n",
    "    return y\n",
    "\n",
    "def func_det_penalty(detJ):\n",
    "    return 8*(torch.minimum(detJ-0.2, torch.Tensor([0]))**2)\n",
    "\n",
    "def func_det_clipper(detJ):\n",
    "    return 8*(torch.maximum(detJ-0.2, torch.Tensor([0]))**3)"
   ]
  },
  {
   "cell_type": "code",
   "execution_count": 11,
   "metadata": {},
   "outputs": [],
   "source": [
    "class GradManager():\n",
    "    \n",
    "    def __init__(self, iNN):\n",
    "        self.iNN = iNN\n",
    "        \n",
    "    def det_penalty(self):\n",
    "        dp = func_det_penalty(self.iNN.detJ)\n",
    "        \n",
    "        ### backprop\n",
    "        dp.sum().backward(retain_graph=True)\n",
    "        for p in self.iNN.parameters():\n",
    "            if p.grad is not None:\n",
    "                p.grad_det = p.grad.detach()\n",
    "                p.grad = None\n",
    "            else:\n",
    "                p.grad_det = None\n",
    "            \n",
    "    def NLL_penalty(self, logDetJ, prior_logP):\n",
    "        y = prior_logP + logDetJ\n",
    "        y.register_hook(self.clip_gradient_back)\n",
    "        NLL = -torch.mean(y)\n",
    "        NLL.backward()\n",
    "        \n",
    "        ### analyze the gradients now.\n",
    "        for p in self.iNN.parameters():\n",
    "#             print(p.grad_det)\n",
    "            if p.grad_det is not None:\n",
    "                mask = torch.abs(p.grad_det)>1e-5\n",
    "#                 mask = ~(torch.sign(p.grad) == torch.sign(p.grad_det))\n",
    "#                 print(mask)\n",
    "                p.grad[mask] = p.grad_det[mask]\n",
    "    #             print(mask)\n",
    "\n",
    "        return float(NLL)\n",
    "    \n",
    "    def clip_gradient_back(self, grad):\n",
    "        clipval = func_det_clipper(self.iNN.detJ[:len(grad)])\n",
    "        clipval = torch.clamp_max(clipval, 0.1)\n",
    "        y = torch.minimum(torch.maximum(grad, -clipval), clipval)\n",
    "        return y"
   ]
  },
  {
   "cell_type": "code",
   "execution_count": 12,
   "metadata": {},
   "outputs": [],
   "source": [
    "gm = GradManager(model.flow.flows[0])"
   ]
  },
  {
   "cell_type": "code",
   "execution_count": 13,
   "metadata": {},
   "outputs": [
    {
     "data": {
      "text/plain": [
       "[<matplotlib.lines.Line2D at 0x7f9bf7ad29d0>]"
      ]
     },
     "execution_count": 13,
     "metadata": {},
     "output_type": "execute_result"
    },
    {
     "data": {
      "image/png": "[encoded data removed]",
      "text/plain": [
       "<Figure size 432x288 with 1 Axes>"
      ]
     },
     "metadata": {
      "needs_background": "light"
     },
     "output_type": "display_data"
    }
   ],
   "source": [
    "_x = torch.linspace(0,1, 100)\n",
    "plt.plot(_x, func_det_penalty(_x))\n",
    "plt.plot(_x, func_det_clipper(_x))"
   ]
  },
  {
   "cell_type": "code",
   "execution_count": 14,
   "metadata": {},
   "outputs": [],
   "source": [
    "# list(gm.iNN.parameters())"
   ]
  },
  {
   "cell_type": "code",
   "execution_count": 18,
   "metadata": {},
   "outputs": [
    {
     "name": "stderr",
     "output_type": "stream",
     "text": [
      "  3%|▎         | 27/1001 [00:00<00:07, 130.06it/s]"
     ]
    },
    {
     "name": "stdout",
     "output_type": "stream",
     "text": [
      "Loss: 0 1.8818095922470093\n",
      "detJ tensor(1.8446) tensor(2.5159)\n"
     ]
    },
    {
     "name": "stderr",
     "output_type": "stream",
     "text": [
      " 22%|██▏       | 218/1001 [00:01<00:05, 141.37it/s]"
     ]
    },
    {
     "name": "stdout",
     "output_type": "stream",
     "text": [
      "Loss: 200 1.8957648277282715\n",
      "detJ tensor(1.8816) tensor(2.5265)\n"
     ]
    },
    {
     "name": "stderr",
     "output_type": "stream",
     "text": [
      " 42%|████▏     | 424/1001 [00:03<00:05, 115.22it/s]"
     ]
    },
    {
     "name": "stdout",
     "output_type": "stream",
     "text": [
      "Loss: 400 1.8863086700439453\n",
      "detJ tensor(1.8938) tensor(2.5281)\n"
     ]
    },
    {
     "name": "stderr",
     "output_type": "stream",
     "text": [
      " 62%|██████▏   | 618/1001 [00:04<00:03, 121.48it/s]"
     ]
    },
    {
     "name": "stdout",
     "output_type": "stream",
     "text": [
      "Loss: 600 1.8920551538467407\n",
      "detJ tensor(1.9227) tensor(2.5361)\n"
     ]
    },
    {
     "name": "stderr",
     "output_type": "stream",
     "text": [
      " 81%|████████  | 813/1001 [00:06<00:01, 112.03it/s]"
     ]
    },
    {
     "name": "stdout",
     "output_type": "stream",
     "text": [
      "Loss: 800 1.8932907581329346\n",
      "detJ tensor(1.9321) tensor(2.5458)\n"
     ]
    },
    {
     "name": "stderr",
     "output_type": "stream",
     "text": [
      "100%|██████████| 1001/1001 [00:08<00:00, 118.87it/s]"
     ]
    },
    {
     "name": "stdout",
     "output_type": "stream",
     "text": [
      "Loss: 1000 1.9001402854919434\n",
      "detJ tensor(1.9646) tensor(2.5545)\n"
     ]
    },
    {
     "name": "stderr",
     "output_type": "stream",
     "text": [
      "\n"
     ]
    }
   ],
   "source": [
    "model.train()\n",
    "losses = []\n",
    "for k in tqdm(range(500*2+1)):\n",
    "    x = d.sample(512)\n",
    "    \n",
    "    rand = torch.rand(50, 2)*6-3\n",
    "    x = torch.cat([x, rand], dim=0)\n",
    "    \n",
    "    z, logDetJ, prior_logP = model(x, True)\n",
    "    \n",
    "    optimizer.zero_grad()\n",
    "    gm.det_penalty()\n",
    "    loss = gm.NLL_penalty(logDetJ[:512], prior_logP[:512]) # NLL with hook for gradient clip\n",
    "    optimizer.step()\n",
    "\n",
    "    if k % 200 == 0:\n",
    "        losses.append(loss)\n",
    "        print(\"Loss:\", k, losses[-1])\n",
    "#         print(\"logDetJ:\", logDetJ.data.min(), logDetJ.data.max())\n",
    "        det = model.flow.flows[0].detJ\n",
    "        print(\"detJ\", det.data.min(), det.data.max())\n",
    "        \n",
    "#     break"
   ]
  },
  {
   "cell_type": "code",
   "execution_count": 16,
   "metadata": {},
   "outputs": [
    {
     "ename": "NameError",
     "evalue": "name 'asdfsdf' is not defined",
     "output_type": "error",
     "traceback": [
      "\u001b[0;31m---------------------------------------------------------------------------\u001b[0m",
      "\u001b[0;31mNameError\u001b[0m                                 Traceback (most recent call last)",
      "\u001b[0;32m<ipython-input-16-d0b27d866193>\u001b[0m in \u001b[0;36m<module>\u001b[0;34m()\u001b[0m\n\u001b[0;32m----> 1\u001b[0;31m \u001b[0masdfsdf\u001b[0m\u001b[0;34m\u001b[0m\u001b[0;34m\u001b[0m\u001b[0m\n\u001b[0m\u001b[1;32m      2\u001b[0m \u001b[0mz\u001b[0m\u001b[0;34m.\u001b[0m\u001b[0mbackward\u001b[0m\u001b[0;34m(\u001b[0m\u001b[0mretain_graph\u001b[0m\u001b[0;34m=\u001b[0m\u001b[0;32mTrue\u001b[0m\u001b[0;34m)\u001b[0m\u001b[0;34m\u001b[0m\u001b[0;34m\u001b[0m\u001b[0m\n",
      "\u001b[0;31mNameError\u001b[0m: name 'asdfsdf' is not defined"
     ]
    }
   ],
   "source": [
    "asdfsdf\n",
    "z.backward(retain_graph=True)"
   ]
  },
  {
   "cell_type": "code",
   "execution_count": 19,
   "metadata": {
    "scrolled": false
   },
   "outputs": [
    {
     "data": {
      "text/plain": [
       "<matplotlib.collections.PathCollection at 0x7f9bf61e9a50>"
      ]
     },
     "execution_count": 19,
     "metadata": {},
     "output_type": "execute_result"
    },
    {
     "data": {
      "image/png": "[encoded data removed]",
      "text/plain": [
       "<Figure size 432x288 with 1 Axes>"
      ]
     },
     "metadata": {
      "needs_background": "light"
     },
     "output_type": "display_data"
    }
   ],
   "source": [
    "with torch.no_grad():\n",
    "    x = d.sample(200)\n",
    "    y = flows[0](x)\n",
    "plt.scatter(x[:,0], x[:,1], s=5, alpha=0.5)\n",
    "plt.scatter(y[:,0], y[:,1], s=5, alpha=0.5)   "
   ]
  },
  {
   "cell_type": "code",
   "execution_count": null,
   "metadata": {},
   "outputs": [],
   "source": [
    "g = lambda z: y - flows[0]._forward_no_logDetJ(z)\n",
    "# find_fixed_point(g, torch.zeros_like(y))\n",
    "iter_root = nflib.res_flow.broyden(g, torch.zeros_like(y), threshold=100, eps=1e-5)\n",
    "_x = iter_root[\"result\"]\n",
    "\n",
    "print(f\"Solution found in {iter_root['nstep']} steps\")\n",
    "\n",
    "plt.scatter(x[:,0], x[:,1], s=5, alpha=0.5)\n",
    "plt.scatter(_x[:,0], _x[:,1], s=5, alpha=0.5)\n",
    "plt.show()"
   ]
  },
  {
   "cell_type": "code",
   "execution_count": null,
   "metadata": {},
   "outputs": [],
   "source": [
    "# g = lambda z: y - flows[0]._forward_no_logDetJ(z)\n",
    "import warnings\n",
    "warnings.filterwarnings(action='ignore',module='sklearn')\n",
    "# from scipy.linalg import LinAlgWarning \n",
    "# warnings.filterwarnings(\"ignore\",category= LinAlgWarning, module='sklearn')\n",
    "\n",
    "def func_g(z, y):\n",
    "    z = torch.Tensor(z)\n",
    "    _x = y - flows[0]._forward_no_logDetJ(z)\n",
    "    return _x.data.numpy()\n",
    "\n",
    "\n",
    "methods = [\"hybr\", \"lm\", \"broyden1\", \"broyden2\", \"anderson\", \"linearmixing\",\n",
    "           \"diagbroyden\", \"excitingmixing\", \"krylov\", \"df-sane\"]\n",
    "\n",
    "### best methods broyden1,2, anderson(produces error message), excitingmixing(goodenough)\n",
    "### diagbroyden, krylov produced error when not invertible. \n",
    "meth = methods[2]\n",
    "print(meth)\n",
    "_x = torch.empty_like(y)\n",
    "for i in tqdm(range(len(y))):\n",
    "    out = optimize.root(func_g, torch.zeros_like(y)[i] ,args=(y[i]), method=meth)['x']\n",
    "    _x[i] = torch.Tensor(out)\n",
    "    \n",
    "plt.scatter(x[:,0], x[:,1], s=5, alpha=0.5)\n",
    "plt.scatter(_x[:,0], _x[:,1], s=5, alpha=0.5)\n",
    "plt.axis([x[:,0].min()-0.1,x[:,0].max()+0.1,x[:,1].min()-0.1,x[:,1].max()+0.1])\n",
    "plt.show()"
   ]
  },
  {
   "cell_type": "code",
   "execution_count": null,
   "metadata": {},
   "outputs": [],
   "source": [
    "plt.plot(losses)"
   ]
  },
  {
   "cell_type": "code",
   "execution_count": null,
   "metadata": {},
   "outputs": [],
   "source": [
    "model.eval()\n",
    "\n",
    "ng = 20\n",
    "xx, yy = np.linspace(-0.5, 0.5, ng), np.linspace(-3, 3, ng)\n",
    "xv, yv = np.meshgrid(xx, yy)\n",
    "xy = np.stack([xv.reshape(-1), yv.reshape(-1)], axis=-1)\n",
    "x = torch.Tensor(xy)\n",
    "z, logDetJ, prior_logP = model(x, True)\n",
    "\n",
    "print(-torch.mean(prior_logP + logDetJ))\n",
    "print(z.shape)\n",
    "\n",
    "x = x.detach().numpy()\n",
    "z = z.detach().numpy()\n",
    "p = model.prior.sample((128*2,))\n",
    "plt.figure(figsize=(20,20))\n",
    "# plt.scatter(p[:,0], p[:,1], c='g', s=5)\n",
    "plt.scatter(z[:,0], z[:,1], c='r', s=5)\n",
    "z = z.reshape(ng, ng, -1)\n",
    "for i in range(ng):\n",
    "    plt.plot(z[:, i, 0], z[:, i, 1], marker='.')\n",
    "for i in range(ng):\n",
    "    plt.plot(z[i, :, 0], z[i, :, 1], marker='.')\n",
    "    \n",
    "\n",
    "# plt.scatter(x[:,0], x[:,1], c='b', s=5)\n",
    "plt.legend(['prior', 'x->z', 'data'])\n",
    "plt.title('x -> z')\n",
    "plt.savefig(\"_temp.svg\")"
   ]
  },
  {
   "cell_type": "code",
   "execution_count": null,
   "metadata": {},
   "outputs": [],
   "source": [
    "# x = d.sample(128*5)\n",
    "# model(x, True, True)[1]"
   ]
  },
  {
   "cell_type": "code",
   "execution_count": null,
   "metadata": {},
   "outputs": [],
   "source": [
    "# logDetJ"
   ]
  },
  {
   "cell_type": "code",
   "execution_count": null,
   "metadata": {},
   "outputs": [],
   "source": [
    "model.eval()\n",
    "\n",
    "# x = d.sample(128)\n",
    "x = _x.detach().numpy()\n",
    "z = y.detach().numpy()\n",
    "p = model.prior.sample((128*2,))\n",
    "plt.figure(figsize=(7,7))\n",
    "plt.scatter(p[:,0], p[:,1], c='g', s=5)\n",
    "plt.scatter(z[:,0], z[:,1], c='r', s=5)\n",
    "plt.scatter(x[:,0], x[:,1], c='b', s=5)\n",
    "plt.legend(['prior', 'x->z', 'data'])\n",
    "plt.axis('scaled')\n",
    "plt.title('x -> z')"
   ]
  },
  {
   "cell_type": "code",
   "execution_count": null,
   "metadata": {},
   "outputs": [],
   "source": [
    "plt.figure(figsize=(7,7))\n",
    "\n",
    "z = model.prior.sample((128,))\n",
    "__x = torch.empty_like(z)\n",
    "for i in tqdm(range(len(z))):\n",
    "    out = optimize.root(func_g, torch.zeros_like(z)[i] ,args=(z[i]), method=meth)['x']\n",
    "    __x[i] = torch.Tensor(out)\n",
    "    \n",
    "z = z.detach().numpy()\n",
    "plt.subplot(122)\n",
    "plt.scatter(__x[:,0], __x[:,1], c='b', s=5, alpha=0.5)\n",
    "plt.scatter(z[:,0], z[:,1], c='r', s=5, alpha=0.5)\n",
    "plt.legend(['data', 'z->x'])\n",
    "plt.axis('scaled')\n",
    "plt.title('z -> x')\n",
    "plt.axis([z[:,0].min()-0.1,z[:,0].max()+0.1,z[:,1].min()-0.1,z[:,1].max()+0.1])"
   ]
  },
  {
   "cell_type": "code",
   "execution_count": null,
   "metadata": {},
   "outputs": [],
   "source": [
    "# Visualize the step-wise flow in the full net\n",
    "from matplotlib import collections  as mc\n",
    "\n",
    "# plot the coordinate warp\n",
    "ng = 20\n",
    "xx, yy = np.linspace(-3, 3, ng), np.linspace(-3, 3, ng)\n",
    "xv, yv = np.meshgrid(xx, yy)\n",
    "xy = np.stack([xv, yv], axis=-1)\n",
    "in_circle = np.sqrt((xy**2).sum(axis=2)) <= 3 # seems appropriate since we use radial distributions as priors\n",
    "xy = xy.reshape((ng*ng, 2))\n",
    "xy = torch.from_numpy(xy.astype(np.float32))\n",
    "\n",
    "zs, log_dets = model.inverse(xy, True, intermediate=True)\n",
    "\n",
    "backward_flow_names = [type(f).__name__ for f in model.flow.flows[::-1]]\n",
    "nz = len(zs)\n",
    "for i in range(nz - 1):\n",
    "    z0 = zs[i].detach().numpy()\n",
    "    z1 = zs[i+1].detach().numpy()\n",
    "    \n",
    "    # plot how the samples travel at this stage\n",
    "    figs, axs = plt.subplots(1, 2, figsize=(6, 3))\n",
    "    #plt.figure(figsize=(20,10))\n",
    "    axs[0].scatter(z0[:,0], z0[:, 1], c='r', s=3)\n",
    "    axs[0].scatter(z1[:,0], z1[:, 1], c='b', s=3)\n",
    "    axs[0].quiver(z0[:,0], z0[:,1], z1[:,0] - z0[:,0], z1[:,1] - z0[:,1], units='xy', scale=1, alpha=0.5)\n",
    "    axs[0].axis([-3, 3, -3, 3])\n",
    "    axs[0].set_title(\"layer %d -> %d (%s)\" % (i, i+1, backward_flow_names[i]))\n",
    "    \n",
    "    q = z1.reshape((ng, ng, 2))\n",
    "    # y coords\n",
    "    p1 = np.reshape(q[1:,:,:], (ng**2-ng,2))\n",
    "    p2 = np.reshape(q[:-1,:,:], (ng**2-ng,2))\n",
    "    inc = np.reshape(in_circle[1:,:] | in_circle[:-1,:], (ng**2-ng,))\n",
    "    p1, p2 = p1[inc], p2[inc]\n",
    "    lcy = mc.LineCollection(zip(p1, p2), linewidths=1, alpha=0.5, color='k')\n",
    "    # x coords\n",
    "    p1 = np.reshape(q[:,1:,:], (ng**2-ng,2))\n",
    "    p2 = np.reshape(q[:,:-1,:], (ng**2-ng,2))\n",
    "    inc = np.reshape(in_circle[:,1:] | in_circle[:,:-1], (ng**2-ng,))\n",
    "    p1, p2 = p1[inc], p2[inc]\n",
    "    lcx = mc.LineCollection(zip(p1, p2), linewidths=1, alpha=0.5, color='k')\n",
    "    # draw the lines\n",
    "    axs[1].add_collection(lcy)\n",
    "    axs[1].add_collection(lcx)\n",
    "    axs[1].axis([-3, 3, -3, 3])\n",
    "    axs[1].set_title(\"grid warp at the end of %d\" % (i+1,))\n",
    "    \n",
    "    # draw the data too\n",
    "    plt.scatter(x[:,0], x[:,1], c='r', s=5, alpha=0.5)"
   ]
  },
  {
   "cell_type": "code",
   "execution_count": null,
   "metadata": {},
   "outputs": [],
   "source": [
    "dir(model.flow.flows[0].resblock[0]._forward_pre_hooks[0])"
   ]
  },
  {
   "cell_type": "code",
   "execution_count": null,
   "metadata": {},
   "outputs": [],
   "source": [
    "model(x)"
   ]
  },
  {
   "cell_type": "code",
   "execution_count": null,
   "metadata": {},
   "outputs": [],
   "source": []
  }
 ],
 "metadata": {
  "kernelspec": {
   "display_name": "Python 3",
   "language": "python",
   "name": "python3"
  },
  "language_info": {
   "codemirror_mode": {
    "name": "ipython",
    "version": 3
   },
   "file_extension": ".py",
   "mimetype": "text/x-python",
   "name": "python",
   "nbconvert_exporter": "python",
   "pygments_lexer": "ipython3",
   "version": "3.7.4"
  }
 },
 "nbformat": 4,
 "nbformat_minor": 4
}
