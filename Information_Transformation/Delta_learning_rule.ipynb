{
 "cells": [
  {
   "cell_type": "code",
   "execution_count": 1,
   "metadata": {},
   "outputs": [],
   "source": [
    "import numpy as np\n",
    "import matplotlib.pyplot as plt\n",
    "%matplotlib inline"
   ]
  },
  {
   "cell_type": "code",
   "execution_count": 2,
   "metadata": {},
   "outputs": [],
   "source": [
    "T = 1.\n",
    "F = -1."
   ]
  },
  {
   "cell_type": "code",
   "execution_count": 3,
   "metadata": {},
   "outputs": [
    {
     "name": "stdout",
     "output_type": "stream",
     "text": [
      "[[ 1.  1.  1.]\n",
      " [ 1. -1.  1.]\n",
      " [-1.  1.  1.]\n",
      " [-1. -1.  1.]]\n",
      "(4, 3)\n"
     ]
    }
   ],
   "source": [
    "inputs = np.array([[T, T ,1], # X1, X2, b\n",
    "                  [T, F ,1],\n",
    "                  [F, T ,1],\n",
    "                  [F, F ,1]])\n",
    "print(inputs)\n",
    "print(inputs.shape)"
   ]
  },
  {
   "cell_type": "code",
   "execution_count": 4,
   "metadata": {},
   "outputs": [
    {
     "name": "stdout",
     "output_type": "stream",
     "text": [
      "[[ 1.]\n",
      " [-1.]\n",
      " [-1.]\n",
      " [-1.]]\n",
      "(4, 1)\n"
     ]
    }
   ],
   "source": [
    "outputs = np.array([[T],\n",
    "                   [F],\n",
    "                   [F],\n",
    "                   [F]])\n",
    "print(outputs)\n",
    "print(outputs.shape)"
   ]
  },
  {
   "cell_type": "code",
   "execution_count": 5,
   "metadata": {},
   "outputs": [],
   "source": [
    "Y = outputs\n",
    "X = inputs"
   ]
  },
  {
   "cell_type": "code",
   "execution_count": 6,
   "metadata": {},
   "outputs": [
    {
     "data": {
      "text/plain": [
       "array([[0.2],\n",
       "       [0.3],\n",
       "       [0.1]])"
      ]
     },
     "execution_count": 6,
     "metadata": {},
     "output_type": "execute_result"
    }
   ],
   "source": [
    "W = np.array([[0.2], [0.3], [0.1]])\n",
    "W"
   ]
  },
  {
   "cell_type": "code",
   "execution_count": 13,
   "metadata": {},
   "outputs": [
    {
     "data": {
      "text/plain": [
       "array([0.2, 0.3, 0.1])"
      ]
     },
     "execution_count": 13,
     "metadata": {},
     "output_type": "execute_result"
    }
   ],
   "source": [
    "# Test\n",
    "X[0] * W[:,0]"
   ]
  },
  {
   "cell_type": "code",
   "execution_count": 19,
   "metadata": {},
   "outputs": [
    {
     "data": {
      "text/plain": [
       "array([1.])"
      ]
     },
     "execution_count": 19,
     "metadata": {},
     "output_type": "execute_result"
    }
   ],
   "source": [
    "y = (X[0]*W[:,0]).sum()\n",
    "Y[0]"
   ]
  },
  {
   "cell_type": "code",
   "execution_count": 78,
   "metadata": {},
   "outputs": [
    {
     "name": "stdout",
     "output_type": "stream",
     "text": [
      "y =  0.41176463135388164\n",
      "t =  [1.]\n",
      "t-y= [0.58823537]\n",
      "W 0  =  [0.47058821]\n",
      "X00 =  1.0\n",
      "\n",
      "W 1  =  [0.44117641]\n",
      "X01 =  1.0\n",
      "\n",
      "W 2  =  [-0.49999999]\n",
      "X02 =  1.0\n",
      "\n",
      "y =  -0.4117646501548654\n",
      "t =  [-1.]\n",
      "t-y= [-0.58823535]\n",
      "W 0  =  [0.52941174]\n",
      "X10 =  1.0\n",
      "\n",
      "W 1  =  [0.49999995]\n",
      "X11 =  -1.0\n",
      "\n",
      "W 2  =  [-0.44117645]\n",
      "X12 =  1.0\n",
      "\n",
      "y =  -0.41176471145054017\n",
      "t =  [-1.]\n",
      "t-y= [-0.58823529]\n",
      "W 0  =  [0.47058821]\n",
      "X20 =  -1.0\n",
      "\n",
      "W 1  =  [0.55882348]\n",
      "X21 =  1.0\n",
      "\n",
      "W 2  =  [-0.49999998]\n",
      "X22 =  1.0\n",
      "\n",
      "y =  -1.5882352023770954\n",
      "t =  [-1.]\n",
      "t-y= [0.5882352]\n",
      "W 0  =  [0.52941174]\n",
      "X30 =  -1.0\n",
      "\n",
      "W 1  =  [0.49999995]\n",
      "X31 =  -1.0\n",
      "\n",
      "W 2  =  [-0.55882351]\n",
      "X32 =  1.0\n",
      "\n"
     ]
    }
   ],
   "source": [
    "alpha = 0.1\n",
    "for i in range(len(X)):\n",
    "    y = (X[i]*W[:,0]).sum()\n",
    "    t = Y[i]\n",
    "    delta = t - y\n",
    "    print('y = ', y)\n",
    "    print('t = ', t)\n",
    "    print('t-y=', delta)\n",
    "    for j in range(len(W)):\n",
    "        print('W',j,' = ', W[j])\n",
    "        print('X{}{} = '.format(i,j), X[i,j])\n",
    "        W[j] += alpha * delta * X[i, j]\n",
    "        print()"
   ]
  },
  {
   "cell_type": "code",
   "execution_count": 79,
   "metadata": {},
   "outputs": [
    {
     "data": {
      "text/plain": [
       "array([[ 0.41176466],\n",
       "       [-0.47058821],\n",
       "       [-0.52941178],\n",
       "       [-1.41176464]])"
      ]
     },
     "execution_count": 79,
     "metadata": {},
     "output_type": "execute_result"
    }
   ],
   "source": [
    "X.dot(W)"
   ]
  },
  {
   "cell_type": "code",
   "execution_count": 80,
   "metadata": {},
   "outputs": [
    {
     "data": {
      "text/plain": [
       "array([[ 0.47058822],\n",
       "       [ 0.44117643],\n",
       "       [-0.49999999]])"
      ]
     },
     "execution_count": 80,
     "metadata": {},
     "output_type": "execute_result"
    }
   ],
   "source": [
    "W"
   ]
  },
  {
   "cell_type": "code",
   "execution_count": 82,
   "metadata": {},
   "outputs": [],
   "source": [
    "#file:///D:/Engineering%20Books/6th%20Semester/AI/Class%20Slides-BJ/Chapter7b_Artificial_Intelligence.pdf\n",
    "#page 64"
   ]
  },
  {
   "cell_type": "code",
   "execution_count": 81,
   "metadata": {},
   "outputs": [],
   "source": [
    "# the delta rule can be made:\n",
    "# W += alpha * (t-y)\n",
    "# to\n",
    "# W -= alpha * (y-t)"
   ]
  },
  {
   "cell_type": "code",
   "execution_count": null,
   "metadata": {},
   "outputs": [],
   "source": []
  }
 ],
 "metadata": {
  "kernelspec": {
   "display_name": "Python 3",
   "language": "python",
   "name": "python3"
  },
  "language_info": {
   "codemirror_mode": {
    "name": "ipython",
    "version": 3
   },
   "file_extension": ".py",
   "mimetype": "text/x-python",
   "name": "python",
   "nbconvert_exporter": "python",
   "pygments_lexer": "ipython3",
   "version": "3.7.3"
  }
 },
 "nbformat": 4,
 "nbformat_minor": 2
}
