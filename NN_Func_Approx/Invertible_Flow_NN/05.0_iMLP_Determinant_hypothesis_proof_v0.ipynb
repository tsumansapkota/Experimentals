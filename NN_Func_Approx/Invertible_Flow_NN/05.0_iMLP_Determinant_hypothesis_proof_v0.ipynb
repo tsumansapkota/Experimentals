{
 "cells": [
  {
   "cell_type": "code",
   "execution_count": 1,
   "metadata": {},
   "outputs": [],
   "source": [
    "import numpy as np\n",
    "import matplotlib.pyplot as plt\n",
    "from mpl_toolkits.mplot3d import Axes3D\n",
    "%matplotlib inline\n",
    "\n",
    "import torch\n",
    "import torch.nn as nn\n",
    "import torch.optim as optim\n",
    "\n",
    "import time, os\n",
    "from tqdm import tqdm\n",
    "\n",
    "from scipy import optimize\n",
    "from sklearn import datasets"
   ]
  },
  {
   "cell_type": "code",
   "execution_count": 2,
   "metadata": {},
   "outputs": [],
   "source": [
    "import nflib\n",
    "from nflib.flows import SequentialFlow, NormalizingFlow, ActNorm, AffineConstantFlow\n",
    "import nflib.coupling_flows as icf\n",
    "import nflib.inn_flow as inn\n",
    "import nflib.res_flow as irf"
   ]
  },
  {
   "cell_type": "code",
   "execution_count": 3,
   "metadata": {},
   "outputs": [],
   "source": [
    "from torch import distributions\n",
    "from torch.distributions import MultivariateNormal"
   ]
  },
  {
   "cell_type": "code",
   "execution_count": 4,
   "metadata": {},
   "outputs": [],
   "source": [
    "# Lightweight datasets\n",
    "class BlobDataset():\n",
    "    \n",
    "    def __init__(self, num_points=1000, nd=3):\n",
    "        self.x, self.c = datasets.make_blobs(n_samples=num_points, n_features=nd, centers=nd+1)\n",
    "        self.x = (self.x-self.x.mean())/self.x.std()\n",
    "        self.x = self.x.astype(np.float32)\n",
    "        \n",
    "    def sample(self,n_sample=200):\n",
    "        rand_indx = np.random.permutation(len(self.x))[:n_sample]\n",
    "        return torch.from_numpy(self.x[rand_indx]), torch.from_numpy(self.c[rand_indx])\n",
    "\n",
    "\n",
    "d = BlobDataset()\n",
    "\n",
    "x, c = d.sample(128)\n",
    "%matplotlib tk\n",
    "fig = plt.figure(figsize=(6,6))\n",
    "ax = fig.gca(projection='3d')\n",
    "ax.scatter(x[:,0], x[:,1], x[:,2], marker=\".\", c=c)\n",
    "plt.show()"
   ]
  },
  {
   "cell_type": "code",
   "execution_count": 5,
   "metadata": {},
   "outputs": [],
   "source": [
    "prior = MultivariateNormal(torch.zeros(3), torch.eye(3))\n",
    "\n",
    "# actf = inn.Swish\n",
    "actf = irf.Swish\n",
    "\n",
    "flows = [\n",
    "    ActNorm(3),\n",
    "#     iMLP_Flow(3, 100, activation=actf),\n",
    "    irf.ResidualFlow(3, [100], activation=actf),\n",
    "    ActNorm(3),\n",
    "#     iMLP_Flow(3, 100, activation=actf),\n",
    "    irf.ResidualFlow(3, [100], activation=actf),\n",
    "        ]\n",
    "model = NormalizingFlow(flows, prior)"
   ]
  },
  {
   "cell_type": "code",
   "execution_count": 6,
   "metadata": {},
   "outputs": [
    {
     "data": {
      "text/plain": [
       "NormalizingFlow(\n",
       "  (flow): SequentialFlow(\n",
       "    (flows): ModuleList(\n",
       "      (0): ActNorm()\n",
       "      (1): ResidualFlow(\n",
       "        (resblock): ModuleList(\n",
       "          (0): Linear(in_features=3, out_features=100, bias=True)\n",
       "          (1): Swish()\n",
       "          (2): Linear(in_features=100, out_features=3, bias=True)\n",
       "        )\n",
       "      )\n",
       "      (2): ActNorm()\n",
       "      (3): ResidualFlow(\n",
       "        (resblock): ModuleList(\n",
       "          (0): Linear(in_features=3, out_features=100, bias=True)\n",
       "          (1): Swish()\n",
       "          (2): Linear(in_features=100, out_features=3, bias=True)\n",
       "        )\n",
       "      )\n",
       "    )\n",
       "  )\n",
       ")"
      ]
     },
     "execution_count": 6,
     "metadata": {},
     "output_type": "execute_result"
    }
   ],
   "source": [
    "model"
   ]
  },
  {
   "cell_type": "code",
   "execution_count": 7,
   "metadata": {},
   "outputs": [],
   "source": [
    "x, c = d.sample(128)\n",
    "with torch.no_grad():\n",
    "    z, logDetJ = model.flow(x, True)\n",
    "\n",
    "%matplotlib tk\n",
    "fig = plt.figure(figsize=(6,6))\n",
    "ax = fig.gca(projection='3d')\n",
    "ax.scatter(x[:,0], x[:,1], x[:,2], marker=\".\", c=c)\n",
    "ax.scatter(z[:,0], z[:,1], z[:,2], marker=\"*\", c=c)\n",
    "# plt.axis('equal')\n",
    "plt.show()"
   ]
  },
  {
   "cell_type": "code",
   "execution_count": 8,
   "metadata": {},
   "outputs": [],
   "source": [
    "# jpt text to stop execution"
   ]
  },
  {
   "cell_type": "markdown",
   "metadata": {},
   "source": [
    "## Model Train"
   ]
  },
  {
   "cell_type": "code",
   "execution_count": 9,
   "metadata": {},
   "outputs": [
    {
     "name": "stdout",
     "output_type": "stream",
     "text": [
      "number of params:  1420\n"
     ]
    }
   ],
   "source": [
    "optimizer = optim.Adam(model.parameters(), lr=0.001, weight_decay=1e-5)\n",
    "print(\"number of params: \", sum(p.numel() for p in model.parameters()))"
   ]
  },
  {
   "cell_type": "code",
   "execution_count": 10,
   "metadata": {},
   "outputs": [],
   "source": [
    "def gradient_clip_backward(model):\n",
    "    for f in model.flow.flows:\n",
    "        if isinstance(f, inn.iMLP_Flow):\n",
    "            f.clip_output_gradients()\n",
    "            \n",
    "def print_dets_minmax(model):\n",
    "    for i, f in enumerate(model.flow.flows):\n",
    "        if isinstance(f, inn.iMLP_Flow):\n",
    "            print(f\"Det {i}: {float(f._dets.min())}, {float(f._dets.max())}, penalty: {float(f.det_penalty)}\")"
   ]
  },
  {
   "cell_type": "code",
   "execution_count": 11,
   "metadata": {},
   "outputs": [
    {
     "name": "stderr",
     "output_type": "stream",
     "text": [
      "  0%|          | 8/2001 [00:00<00:27, 71.61it/s]"
     ]
    },
    {
     "name": "stdout",
     "output_type": "stream",
     "text": [
      "Loss: 0 3.588460683822632\n",
      "logDetJ: tensor(0.8729) tensor(0.9180)\n"
     ]
    },
    {
     "name": "stderr",
     "output_type": "stream",
     "text": [
      " 11%|█         | 215/2001 [00:02<00:18, 97.31it/s] "
     ]
    },
    {
     "name": "stdout",
     "output_type": "stream",
     "text": [
      "Loss: 200 2.464385509490967\n",
      "logDetJ: tensor(1.4776) tensor(1.7322)\n"
     ]
    },
    {
     "name": "stderr",
     "output_type": "stream",
     "text": [
      " 21%|██        | 412/2001 [00:04<00:18, 85.25it/s] "
     ]
    },
    {
     "name": "stdout",
     "output_type": "stream",
     "text": [
      "Loss: 400 2.3673810958862305\n",
      "logDetJ: tensor(1.6483) tensor(2.1764)\n"
     ]
    },
    {
     "name": "stderr",
     "output_type": "stream",
     "text": [
      " 31%|███       | 616/2001 [00:06<00:12, 107.44it/s]"
     ]
    },
    {
     "name": "stdout",
     "output_type": "stream",
     "text": [
      "Loss: 600 1.673309564590454\n",
      "logDetJ: tensor(1.5357) tensor(2.7120)\n"
     ]
    },
    {
     "name": "stderr",
     "output_type": "stream",
     "text": [
      " 41%|████      | 822/2001 [00:08<00:11, 105.78it/s]"
     ]
    },
    {
     "name": "stdout",
     "output_type": "stream",
     "text": [
      "Loss: 800 1.4641894102096558\n",
      "logDetJ: tensor(1.7839) tensor(3.4970)\n"
     ]
    },
    {
     "name": "stderr",
     "output_type": "stream",
     "text": [
      " 51%|█████     | 1019/2001 [00:10<00:10, 94.51it/s]"
     ]
    },
    {
     "name": "stdout",
     "output_type": "stream",
     "text": [
      "Loss: 1000 1.2677948474884033\n",
      "logDetJ: tensor(1.0949) tensor(4.0530)\n"
     ]
    },
    {
     "name": "stderr",
     "output_type": "stream",
     "text": [
      " 61%|██████    | 1215/2001 [00:12<00:07, 107.05it/s]"
     ]
    },
    {
     "name": "stdout",
     "output_type": "stream",
     "text": [
      "Loss: 1200 1.2885030508041382\n",
      "logDetJ: tensor(1.4675) tensor(4.1742)\n"
     ]
    },
    {
     "name": "stderr",
     "output_type": "stream",
     "text": [
      " 71%|███████   | 1413/2001 [00:14<00:05, 107.28it/s]"
     ]
    },
    {
     "name": "stdout",
     "output_type": "stream",
     "text": [
      "Loss: 1400 1.0687921047210693\n",
      "logDetJ: tensor(0.9293) tensor(4.1585)\n"
     ]
    },
    {
     "name": "stderr",
     "output_type": "stream",
     "text": [
      " 81%|████████  | 1622/2001 [00:16<00:03, 108.20it/s]"
     ]
    },
    {
     "name": "stdout",
     "output_type": "stream",
     "text": [
      "Loss: 1600 1.1437193155288696\n",
      "logDetJ: tensor(1.3474) tensor(4.1714)\n"
     ]
    },
    {
     "name": "stderr",
     "output_type": "stream",
     "text": [
      " 91%|█████████ | 1821/2001 [00:18<00:01, 108.15it/s]"
     ]
    },
    {
     "name": "stdout",
     "output_type": "stream",
     "text": [
      "Loss: 1800 0.9400525093078613\n",
      "logDetJ: tensor(1.0876) tensor(4.0434)\n"
     ]
    },
    {
     "name": "stderr",
     "output_type": "stream",
     "text": [
      "100%|██████████| 2001/2001 [00:20<00:00, 99.95it/s] "
     ]
    },
    {
     "name": "stdout",
     "output_type": "stream",
     "text": [
      "Loss: 2000 0.8712536692619324\n",
      "logDetJ: tensor(1.9902) tensor(4.0693)\n"
     ]
    },
    {
     "name": "stderr",
     "output_type": "stream",
     "text": [
      "\n"
     ]
    }
   ],
   "source": [
    "model.train()\n",
    "losses = []\n",
    "NUM = 300\n",
    "for k in tqdm(range(1000*2+1)):\n",
    "    optimizer.zero_grad()\n",
    "    \n",
    "    x, c = d.sample(NUM)\n",
    "#     rand = torch.rand(50, 2)*6-3\n",
    "#     x = torch.cat([x, rand], dim=0)\n",
    "    \n",
    "    z, logDetJ, prior_logP = model(x, True)\n",
    "    loss = -torch.mean(logDetJ[:NUM]+prior_logP[:NUM]) # NLL with hook for gradient clip\n",
    "    loss.backward()\n",
    "    gradient_clip_backward(model)\n",
    "    optimizer.step()\n",
    "\n",
    "    if k % 200 == 0:\n",
    "        losses.append(float(loss))\n",
    "        print(\"Loss:\", k, losses[-1])\n",
    "        print(\"logDetJ:\", logDetJ.data.min(), logDetJ.data.max())\n",
    "        print_dets_minmax(model)"
   ]
  },
  {
   "cell_type": "code",
   "execution_count": 12,
   "metadata": {},
   "outputs": [],
   "source": [
    "# print(imlp._dets.sort()[0])"
   ]
  },
  {
   "cell_type": "code",
   "execution_count": 13,
   "metadata": {},
   "outputs": [],
   "source": [
    "# for p in imlp.parameters():\n",
    "#     print(\"gD\",p.grad_det)\n",
    "#     clipval = (1-p.grad_det.data.abs())**200\n",
    "#     print(\"CV\",clipval)"
   ]
  },
  {
   "cell_type": "code",
   "execution_count": 14,
   "metadata": {},
   "outputs": [
    {
     "ename": "NameError",
     "evalue": "name 'asdfsdf' is not defined",
     "output_type": "error",
     "traceback": [
      "\u001b[0;31m---------------------------------------------------------------------------\u001b[0m",
      "\u001b[0;31mNameError\u001b[0m                                 Traceback (most recent call last)",
      "\u001b[0;32m<ipython-input-14-d0b27d866193>\u001b[0m in \u001b[0;36m<module>\u001b[0;34m()\u001b[0m\n\u001b[0;32m----> 1\u001b[0;31m \u001b[0masdfsdf\u001b[0m\u001b[0;34m\u001b[0m\u001b[0;34m\u001b[0m\u001b[0m\n\u001b[0m\u001b[1;32m      2\u001b[0m \u001b[0mz\u001b[0m\u001b[0;34m.\u001b[0m\u001b[0mbackward\u001b[0m\u001b[0;34m(\u001b[0m\u001b[0mretain_graph\u001b[0m\u001b[0;34m=\u001b[0m\u001b[0;32mTrue\u001b[0m\u001b[0;34m)\u001b[0m\u001b[0;34m\u001b[0m\u001b[0;34m\u001b[0m\u001b[0m\n",
      "\u001b[0;31mNameError\u001b[0m: name 'asdfsdf' is not defined"
     ]
    }
   ],
   "source": [
    "asdfsdf\n",
    "z.backward(retain_graph=True)"
   ]
  },
  {
   "cell_type": "code",
   "execution_count": 15,
   "metadata": {
    "scrolled": false
   },
   "outputs": [],
   "source": [
    "x, c = d.sample(128)\n",
    "with torch.no_grad():\n",
    "    y, logDetJ = model.flow(x, True)\n",
    "\n",
    "%matplotlib tk\n",
    "fig = plt.figure(figsize=(6,6))\n",
    "ax = fig.gca(projection='3d')\n",
    "ax.scatter(x[:,0], x[:,1], x[:,2], marker=\".\", c=c)\n",
    "ax.scatter(y[:,0], y[:,1], y[:,2], marker=\"*\", color='r')\n",
    "# plt.axis('equal')\n",
    "plt.show()"
   ]
  },
  {
   "cell_type": "code",
   "execution_count": 16,
   "metadata": {},
   "outputs": [
    {
     "name": "stdout",
     "output_type": "stream",
     "text": [
      "Solution found in 33 steps\n"
     ]
    }
   ],
   "source": [
    "g = lambda z: y - model.flow._forward_no_logDetJ(z)\n",
    "iter_root = nflib.inn_flow.broyden(g, torch.zeros_like(y), threshold=100, eps=1e-7)\n",
    "_x = iter_root[\"result\"]\n",
    "\n",
    "print(f\"Solution found in {iter_root['nstep']} steps\")\n",
    "\n",
    "%matplotlib tk\n",
    "fig = plt.figure(figsize=(6,6))\n",
    "ax = fig.gca(projection='3d')\n",
    "ax.scatter(x[:,0], x[:,1], x[:,2], marker=\".\", c=c)\n",
    "ax.scatter(_x[:,0], _x[:,1], _x[:,2], marker=\"*\", color='r')\n",
    "plt.show()"
   ]
  },
  {
   "cell_type": "code",
   "execution_count": 17,
   "metadata": {},
   "outputs": [
    {
     "data": {
      "text/plain": [
       "[<matplotlib.lines.Line2D at 0x7fa495ba5890>]"
      ]
     },
     "execution_count": 17,
     "metadata": {},
     "output_type": "execute_result"
    },
    {
     "data": {
      "image/png": "[encoded data removed]",
      "text/plain": [
       "<Figure size 432x288 with 1 Axes>"
      ]
     },
     "metadata": {
      "needs_background": "light"
     },
     "output_type": "display_data"
    }
   ],
   "source": [
    "%matplotlib inline\n",
    "plt.plot(losses)"
   ]
  },
  {
   "cell_type": "code",
   "execution_count": 26,
   "metadata": {},
   "outputs": [],
   "source": [
    "xx = torch.rand(10000, 3)*8-4\n",
    "with torch.no_grad():\n",
    "    zz, logDetJ = model.flow(xx, True)"
   ]
  },
  {
   "cell_type": "code",
   "execution_count": 27,
   "metadata": {},
   "outputs": [
    {
     "data": {
      "text/plain": [
       "(tensor(4.1791), tensor(-0.0820))"
      ]
     },
     "execution_count": 27,
     "metadata": {},
     "output_type": "execute_result"
    }
   ],
   "source": [
    "logDetJ.max(), logDetJ.min()"
   ]
  },
  {
   "cell_type": "code",
   "execution_count": 38,
   "metadata": {},
   "outputs": [
    {
     "data": {
      "text/plain": [
       "tensor([-0.2714, -0.4052,     nan, -0.7845,  0.3615,     nan,     nan,  0.1006,\n",
       "            nan, -0.0988])"
      ]
     },
     "execution_count": 38,
     "metadata": {},
     "output_type": "execute_result"
    }
   ],
   "source": [
    "torch.randn(10).log()"
   ]
  },
  {
   "cell_type": "code",
   "execution_count": null,
   "metadata": {},
   "outputs": [],
   "source": []
  }
 ],
 "metadata": {
  "kernelspec": {
   "display_name": "Python 3",
   "language": "python",
   "name": "python3"
  },
  "language_info": {
   "codemirror_mode": {
    "name": "ipython",
    "version": 3
   },
   "file_extension": ".py",
   "mimetype": "text/x-python",
   "name": "python",
   "nbconvert_exporter": "python",
   "pygments_lexer": "ipython3",
   "version": "3.7.4"
  }
 },
 "nbformat": 4,
 "nbformat_minor": 4
}
