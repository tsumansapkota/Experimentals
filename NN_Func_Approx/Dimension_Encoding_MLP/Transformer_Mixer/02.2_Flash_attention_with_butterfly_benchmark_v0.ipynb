{
 "cells": [
  {
   "cell_type": "code",
   "execution_count": 1,
   "id": "208f0bf9",
   "metadata": {},
   "outputs": [],
   "source": [
    "import torch\n",
    "import torch.nn as nn\n",
    "\n",
    "import matplotlib\n",
    "import matplotlib.pyplot as plt\n",
    "import numpy as np\n",
    "\n",
    "import os, sys, pathlib, random, time, pickle, copy, json\n",
    "from tqdm import tqdm"
   ]
  },
  {
   "cell_type": "code",
   "execution_count": 2,
   "id": "eddc40ea",
   "metadata": {},
   "outputs": [],
   "source": [
    "device = torch.device(\"cuda:0\")"
   ]
  },
  {
   "cell_type": "code",
   "execution_count": 3,
   "id": "a0d359b6",
   "metadata": {},
   "outputs": [],
   "source": [
    "from flash_attn import flash_attn_qkvpacked_func, flash_attn_func"
   ]
  },
  {
   "cell_type": "code",
   "execution_count": 4,
   "id": "358e4769",
   "metadata": {},
   "outputs": [
    {
     "name": "stdout",
     "output_type": "stream",
     "text": [
      "Seqlen 65536\n"
     ]
    }
   ],
   "source": [
    "#  qkv: (batch_size, seqlen, 3, nheads, headdim)\n",
    "batch_size = 64\n",
    "seqlen = 2**16\n",
    "nheads = 8\n",
    "headdim = 32\n",
    "print(\"Seqlen\", seqlen)"
   ]
  },
  {
   "cell_type": "code",
   "execution_count": 5,
   "id": "ef609cc0",
   "metadata": {},
   "outputs": [
    {
     "data": {
      "text/plain": [
       "torch.Size([64, 65536, 3, 8, 32])"
      ]
     },
     "execution_count": 5,
     "metadata": {},
     "output_type": "execute_result"
    }
   ],
   "source": [
    "qkv = torch.randn(batch_size, seqlen, 3, nheads, headdim, \n",
    "                  device=device, dtype=torch.float16).to(device)\n",
    "\n",
    "qkv.shape"
   ]
  },
  {
   "cell_type": "code",
   "execution_count": 6,
   "id": "6d2b7171",
   "metadata": {},
   "outputs": [
    {
     "name": "stdout",
     "output_type": "stream",
     "text": [
      "60.3 µs ± 14.1 µs per loop (mean ± std. dev. of 4 runs, 100 loops each)\n"
     ]
    }
   ],
   "source": [
    "%%timeit -r 4 -n 100 \n",
    "\n",
    "flash_attn_qkvpacked_func(qkv)"
   ]
  },
  {
   "cell_type": "code",
   "execution_count": 7,
   "id": "d60abcc2",
   "metadata": {},
   "outputs": [
    {
     "data": {
      "text/plain": [
       "(65536, 256)"
      ]
     },
     "execution_count": 7,
     "metadata": {},
     "output_type": "execute_result"
    }
   ],
   "source": [
    "2**16, 2**8"
   ]
  },
  {
   "cell_type": "code",
   "execution_count": 8,
   "id": "a6355e57",
   "metadata": {},
   "outputs": [
    {
     "data": {
      "text/plain": [
       "torch.Size([16384, 256, 3, 8, 32])"
      ]
     },
     "execution_count": 8,
     "metadata": {},
     "output_type": "execute_result"
    }
   ],
   "source": [
    "## Reshape to block sparse\n",
    "block_len = int(np.sqrt(seqlen))\n",
    "\n",
    "qkv_ = qkv.view(batch_size*block_len, block_len, 3, nheads, headdim)\n",
    "qkv_.shape"
   ]
  },
  {
   "cell_type": "code",
   "execution_count": 9,
   "id": "e14213b5",
   "metadata": {},
   "outputs": [
    {
     "name": "stdout",
     "output_type": "stream",
     "text": [
      "44.2 µs ± 6.01 µs per loop (mean ± std. dev. of 4 runs, 100 loops each)\n"
     ]
    }
   ],
   "source": [
    "%%timeit -r 4 -n 100 \n",
    "\n",
    "flash_attn_qkvpacked_func(qkv_)"
   ]
  },
  {
   "cell_type": "code",
   "execution_count": 11,
   "id": "e837b8f3",
   "metadata": {},
   "outputs": [],
   "source": [
    "exit(0)"
   ]
  },
  {
   "cell_type": "markdown",
   "id": "e6d2ba87",
   "metadata": {},
   "source": [
    "## Manual test"
   ]
  },
  {
   "cell_type": "code",
   "execution_count": null,
   "id": "5572abfd",
   "metadata": {},
   "outputs": [],
   "source": [
    "start = time.time()\n",
    "flash_attn_qkvpacked_func(qkv)\n",
    "start = time.time()-start\n",
    "print(start*100, \"ms\")"
   ]
  },
  {
   "cell_type": "code",
   "execution_count": null,
   "id": "712ed473",
   "metadata": {},
   "outputs": [],
   "source": [
    "start = time.time()\n",
    "flash_attn_qkvpacked_func(qkv_)\n",
    "start = time.time()-start\n",
    "print(start*100, \"ms\")"
   ]
  },
  {
   "cell_type": "code",
   "execution_count": null,
   "id": "cd039b7f",
   "metadata": {},
   "outputs": [],
   "source": []
  },
  {
   "cell_type": "code",
   "execution_count": null,
   "id": "027f4c47",
   "metadata": {},
   "outputs": [],
   "source": [
    "ms = np.mean(time_taken)*100\n",
    "print(\"Time (ms)\", ms)"
   ]
  },
  {
   "cell_type": "code",
   "execution_count": null,
   "id": "67ab4c0b",
   "metadata": {},
   "outputs": [],
   "source": [
    "time_taken = []\n",
    "for i in range(10):\n",
    "    with torch.no_grad():\n",
    "        start = time.time()\n",
    "        flash_attn_qkvpacked_func(qkv)\n",
    "        start = time.time()-start\n",
    "        time_taken.append(start)"
   ]
  },
  {
   "cell_type": "code",
   "execution_count": null,
   "id": "ec145216",
   "metadata": {},
   "outputs": [],
   "source": [
    "ms = np.mean(time_taken)*100\n",
    "print(\"Time (ms)\", ms)"
   ]
  },
  {
   "cell_type": "code",
   "execution_count": null,
   "id": "860e1158",
   "metadata": {},
   "outputs": [],
   "source": [
    "## Test on model training -> (Inconclusive results)"
   ]
  },
  {
   "cell_type": "code",
   "execution_count": null,
   "id": "2878cabd",
   "metadata": {},
   "outputs": [],
   "source": []
  }
 ],
 "metadata": {
  "kernelspec": {
   "display_name": "Python 3 (ipykernel)",
   "language": "python",
   "name": "python3"
  },
  "language_info": {
   "codemirror_mode": {
    "name": "ipython",
    "version": 3
   },
   "file_extension": ".py",
   "mimetype": "text/x-python",
   "name": "python",
   "nbconvert_exporter": "python",
   "pygments_lexer": "ipython3",
   "version": "3.9.12"
  }
 },
 "nbformat": 4,
 "nbformat_minor": 5
}
