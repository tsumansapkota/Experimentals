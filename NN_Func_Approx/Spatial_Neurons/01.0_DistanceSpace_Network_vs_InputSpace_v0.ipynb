{
 "cells": [
  {
   "cell_type": "code",
   "execution_count": 1,
   "metadata": {},
   "outputs": [],
   "source": [
    "import numpy as np\n",
    "import matplotlib.pyplot as plt\n",
    "%matplotlib inline\n",
    "from mpl_toolkits.mplot3d import Axes3D\n",
    "\n",
    "import torch\n",
    "import torch.nn as nn\n",
    "import torch.nn.functional as F\n",
    "import torch.optim as optim\n",
    "from torch.utils import data\n",
    "\n",
    "import random, os, pathlib, time\n",
    "from tqdm import tqdm\n",
    "from sklearn import datasets"
   ]
  },
  {
   "cell_type": "code",
   "execution_count": 2,
   "metadata": {},
   "outputs": [],
   "source": [
    "device = torch.device(\"cuda:1\")\n",
    "# device = torch.device(\"cpu\")"
   ]
  },
  {
   "cell_type": "markdown",
   "metadata": {},
   "source": [
    "## MNIST dataset"
   ]
  },
  {
   "cell_type": "code",
   "execution_count": 3,
   "metadata": {},
   "outputs": [],
   "source": [
    "import mylibrary.datasets as datasets\n",
    "import mylibrary.nnlib as tnn"
   ]
  },
  {
   "cell_type": "code",
   "execution_count": 4,
   "metadata": {},
   "outputs": [],
   "source": [
    "mnist = datasets.FashionMNIST()\n",
    "# mnist.download_mnist()\n",
    "# mnist.save_mnist()\n",
    "train_data, train_label_, test_data, test_label_ = mnist.load()\n",
    "\n",
    "train_data = train_data / 255.\n",
    "test_data = test_data / 255.\n",
    "\n",
    "# train_label = tnn.Logits.index_to_logit(train_label_)\n",
    "train_size = len(train_label_)"
   ]
  },
  {
   "cell_type": "code",
   "execution_count": 5,
   "metadata": {},
   "outputs": [],
   "source": [
    "## converting data to pytorch format\n",
    "train_data = torch.Tensor(train_data)\n",
    "test_data = torch.Tensor(test_data)\n",
    "train_label = torch.LongTensor(train_label_)\n",
    "test_label = torch.LongTensor(test_label_)"
   ]
  },
  {
   "cell_type": "code",
   "execution_count": 6,
   "metadata": {},
   "outputs": [],
   "source": [
    "input_size = 784\n",
    "output_size = 10"
   ]
  },
  {
   "cell_type": "code",
   "execution_count": 7,
   "metadata": {},
   "outputs": [],
   "source": [
    "class MNIST_Dataset(data.Dataset):\n",
    "    \n",
    "    def __init__(self, data, label):\n",
    "        self.data = data\n",
    "        self.label = label\n",
    "        \n",
    "    def __len__(self):\n",
    "        return len(self.data)\n",
    "    \n",
    "    def __getitem__(self, idx):\n",
    "        img, lbl = self.data[idx], self.label[idx]\n",
    "        return img, lbl"
   ]
  },
  {
   "cell_type": "code",
   "execution_count": 8,
   "metadata": {},
   "outputs": [],
   "source": [
    "train_dataset = MNIST_Dataset(train_data, train_label)\n",
    "test_dataset = MNIST_Dataset(test_data, test_label)"
   ]
  },
  {
   "cell_type": "code",
   "execution_count": 9,
   "metadata": {},
   "outputs": [],
   "source": [
    "batch_size = 50\n",
    "train_loader = data.DataLoader(dataset=train_dataset,\n",
    "                                    num_workers=4, \n",
    "                                    batch_size=batch_size, \n",
    "                                    shuffle=True)\n",
    "\n",
    "test_loader = data.DataLoader(dataset=test_dataset,\n",
    "                                    num_workers=4, \n",
    "                                    batch_size=batch_size, \n",
    "                                    shuffle=False)"
   ]
  },
  {
   "cell_type": "code",
   "execution_count": 10,
   "metadata": {},
   "outputs": [],
   "source": [
    "class DistanceTransform(nn.Module):\n",
    "    \n",
    "    def __init__(self, input_dim, num_centers):\n",
    "        super().__init__()\n",
    "        self.input_dim = input_dim\n",
    "        self.num_centers = num_centers\n",
    "        \n",
    "        self.centers = torch.randn(num_centers, input_dim)/3.\n",
    "        self.centers = nn.Parameter(self.centers)\n",
    "        \n",
    "    def forward(self, x):\n",
    "        x = x[:, :self.input_dim]\n",
    "        dists = torch.cdist(x, self.centers)\n",
    "#         print(dists.shape)\n",
    "#         dists = dists/np.sqrt(self.input_dim) ### correction to make diagonal of unit square 1 in nD space\n",
    "        return dists\n",
    "    \n",
    "    def reverse(self, x):\n",
    "        ### here x is the distance, so weighted distance is the reversed mode\n",
    "        ##### for a single input, y = mean(x_i * center_i : for i in range(num_centers))\n",
    "        pass"
   ]
  },
  {
   "cell_type": "code",
   "execution_count": 11,
   "metadata": {},
   "outputs": [],
   "source": [
    "dt = DistanceTransform(784, 784)"
   ]
  },
  {
   "cell_type": "code",
   "execution_count": 12,
   "metadata": {},
   "outputs": [
    {
     "data": {
      "text/plain": [
       "[Parameter containing:\n",
       " tensor([[ 0.0213, -0.4219,  0.1136,  ...,  0.1285,  0.0714,  0.3266],\n",
       "         [ 0.0413,  0.6386, -0.1105,  ...,  0.2163,  0.0627,  0.1087],\n",
       "         [ 0.5310, -0.1246,  0.2344,  ..., -0.0380,  0.2749, -0.1126],\n",
       "         ...,\n",
       "         [ 0.2721, -0.0692,  0.4037,  ...,  0.0917,  0.4110,  0.0136],\n",
       "         [-0.5526, -0.4452,  0.0547,  ...,  0.2828,  0.3244, -0.1131],\n",
       "         [ 0.1236, -0.2258, -0.1303,  ..., -0.0604,  0.7614,  0.1895]],\n",
       "        requires_grad=True)]"
      ]
     },
     "execution_count": 12,
     "metadata": {},
     "output_type": "execute_result"
    }
   ],
   "source": [
    "list(dt.parameters())"
   ]
  },
  {
   "cell_type": "code",
   "execution_count": 13,
   "metadata": {},
   "outputs": [
    {
     "data": {
      "text/plain": [
       "torch.Size([2, 784])"
      ]
     },
     "execution_count": 13,
     "metadata": {},
     "output_type": "execute_result"
    }
   ],
   "source": [
    "dt(torch.randn(2, 784)).shape"
   ]
  },
  {
   "cell_type": "code",
   "execution_count": 14,
   "metadata": {},
   "outputs": [
    {
     "data": {
      "text/plain": [
       "(tensor(0.3944), tensor(4.4101, grad_fn=<StdBackward>))"
      ]
     },
     "execution_count": 14,
     "metadata": {},
     "output_type": "execute_result"
    }
   ],
   "source": [
    "x=train_dataset[[3,7]][0]\n",
    "dists = dt(x)\n",
    "x.std(), dists.std()"
   ]
  },
  {
   "cell_type": "code",
   "execution_count": 15,
   "metadata": {},
   "outputs": [
    {
     "data": {
      "text/plain": [
       "(tensor(23.0945, grad_fn=<MaxBackward1>),\n",
       " tensor(12.5703, grad_fn=<MinBackward1>))"
      ]
     },
     "execution_count": 15,
     "metadata": {},
     "output_type": "execute_result"
    }
   ],
   "source": [
    "dists.max(), dists.min()"
   ]
  },
  {
   "cell_type": "code",
   "execution_count": 16,
   "metadata": {},
   "outputs": [
    {
     "data": {
      "text/plain": [
       "torch.Size([784, 784])"
      ]
     },
     "execution_count": 16,
     "metadata": {},
     "output_type": "execute_result"
    }
   ],
   "source": [
    "dt.centers.shape"
   ]
  },
  {
   "cell_type": "code",
   "execution_count": 17,
   "metadata": {},
   "outputs": [
    {
     "data": {
      "text/plain": [
       "tensor([[-0.1870, -1.4669]])"
      ]
     },
     "execution_count": 17,
     "metadata": {},
     "output_type": "execute_result"
    }
   ],
   "source": [
    "### single variable inverse\n",
    "x = torch.randn(1, 2)\n",
    "x"
   ]
  },
  {
   "cell_type": "code",
   "execution_count": 18,
   "metadata": {},
   "outputs": [
    {
     "data": {
      "text/plain": [
       "torch.Size([1, 2])"
      ]
     },
     "execution_count": 18,
     "metadata": {},
     "output_type": "execute_result"
    }
   ],
   "source": [
    "centers = torch.randn(2, 2) ## output_dim / num_centers, input_dim\n",
    "y = torch.cdist(x, centers.t())  \n",
    "y.shape"
   ]
  },
  {
   "cell_type": "code",
   "execution_count": 19,
   "metadata": {},
   "outputs": [
    {
     "data": {
      "text/plain": [
       "tensor([[2.0657, 1.6071]])"
      ]
     },
     "execution_count": 19,
     "metadata": {},
     "output_type": "execute_result"
    }
   ],
   "source": [
    "y"
   ]
  },
  {
   "cell_type": "code",
   "execution_count": 20,
   "metadata": {},
   "outputs": [
    {
     "data": {
      "text/plain": [
       "tensor([0.3948, 0.2222])"
      ]
     },
     "execution_count": 20,
     "metadata": {},
     "output_type": "execute_result"
    }
   ],
   "source": [
    "weighted_sum = 0\n",
    "weight = (1/y).sum()\n",
    "for i in range(len(centers)):\n",
    "    weighted_sum += centers[i]*(1/y[0,i])/weight\n",
    "weighted_sum"
   ]
  },
  {
   "cell_type": "code",
   "execution_count": null,
   "metadata": {},
   "outputs": [],
   "source": []
  },
  {
   "cell_type": "code",
   "execution_count": null,
   "metadata": {},
   "outputs": [],
   "source": []
  },
  {
   "cell_type": "code",
   "execution_count": 21,
   "metadata": {},
   "outputs": [],
   "source": [
    "##### test for inverse\n",
    "x = torch.randn(2, 4)"
   ]
  },
  {
   "cell_type": "code",
   "execution_count": 22,
   "metadata": {},
   "outputs": [
    {
     "data": {
      "text/plain": [
       "torch.Size([2, 4])"
      ]
     },
     "execution_count": 22,
     "metadata": {},
     "output_type": "execute_result"
    }
   ],
   "source": [
    "centers = torch.randn(4, 4) ## output_dim / num_centers, input_dim\n",
    "y = torch.cdist(x, centers)  \n",
    "y.shape"
   ]
  },
  {
   "cell_type": "code",
   "execution_count": 23,
   "metadata": {},
   "outputs": [
    {
     "data": {
      "text/plain": [
       "tensor([[2.9806, 2.5053, 3.0376, 3.8804],\n",
       "        [2.5502, 2.7443, 3.1574, 4.5314]])"
      ]
     },
     "execution_count": 23,
     "metadata": {},
     "output_type": "execute_result"
    }
   ],
   "source": [
    "y"
   ]
  },
  {
   "cell_type": "code",
   "execution_count": 24,
   "metadata": {},
   "outputs": [
    {
     "data": {
      "text/plain": [
       "torch.Size([2, 4, 4])"
      ]
     },
     "execution_count": 24,
     "metadata": {},
     "output_type": "execute_result"
    }
   ],
   "source": [
    "(y.unsqueeze(2)*centers).shape"
   ]
  },
  {
   "cell_type": "code",
   "execution_count": 25,
   "metadata": {},
   "outputs": [
    {
     "data": {
      "text/plain": [
       "torch.Size([2, 4])"
      ]
     },
     "execution_count": 25,
     "metadata": {},
     "output_type": "execute_result"
    }
   ],
   "source": [
    "z = (y.unsqueeze(2)*centers.t()).sum(dim=2)/y.sum(dim=1, keepdim=True)\n",
    "z.shape"
   ]
  },
  {
   "cell_type": "code",
   "execution_count": 26,
   "metadata": {},
   "outputs": [
    {
     "data": {
      "text/plain": [
       "tensor([[0.7494, 0.3307, 0.0929, 0.3963],\n",
       "        [0.6126, 0.3460, 0.0923, 0.4421]])"
      ]
     },
     "execution_count": 26,
     "metadata": {},
     "output_type": "execute_result"
    }
   ],
   "source": [
    "z"
   ]
  },
  {
   "cell_type": "code",
   "execution_count": 27,
   "metadata": {},
   "outputs": [
    {
     "data": {
      "text/plain": [
       "tensor([[-1.2697,  1.0953, -0.0219, -1.5452],\n",
       "        [-1.2804, -1.1382,  1.5585, -0.4854]])"
      ]
     },
     "execution_count": 27,
     "metadata": {},
     "output_type": "execute_result"
    }
   ],
   "source": [
    "x"
   ]
  },
  {
   "cell_type": "code",
   "execution_count": 443,
   "metadata": {},
   "outputs": [
    {
     "data": {
      "text/plain": [
       "Sequential(\n",
       "  (0): DistanceTransform()\n",
       "  (1): BatchNorm1d(784, eps=1e-05, momentum=0.1, affine=True, track_running_stats=True)\n",
       "  (2): Linear(in_features=784, out_features=200, bias=True)\n",
       "  (3): LeakyReLU(negative_slope=0.01)\n",
       "  (4): Linear(in_features=200, out_features=50, bias=True)\n",
       "  (5): LeakyReLU(negative_slope=0.01)\n",
       "  (6): Linear(in_features=50, out_features=10, bias=True)\n",
       ")"
      ]
     },
     "execution_count": 443,
     "metadata": {},
     "output_type": "execute_result"
    }
   ],
   "source": [
    "model = nn.Sequential(\n",
    "                DistanceTransform(784, 784),\n",
    "                nn.BatchNorm1d(784),\n",
    "                nn.Linear(784, 200),\n",
    "                nn.LeakyReLU(),\n",
    "                nn.Linear(200, 50),\n",
    "                nn.LeakyReLU(),\n",
    "                nn.Linear(50, 10))\n",
    "model.to(device)"
   ]
  },
  {
   "cell_type": "code",
   "execution_count": 444,
   "metadata": {},
   "outputs": [],
   "source": [
    "optimizer = optim.Adam(list(model.parameters()), \n",
    "                            lr=0.0003, weight_decay=1e-15)\n",
    "criterion = nn.CrossEntropyLoss()"
   ]
  },
  {
   "cell_type": "code",
   "execution_count": 711,
   "metadata": {},
   "outputs": [
    {
     "name": "stderr",
     "output_type": "stream",
     "text": [
      "\r",
      "  0%|          | 0/40 [00:00<?, ?it/s]"
     ]
    },
    {
     "name": "stdout",
     "output_type": "stream",
     "text": [
      "Epoch: 0:0,  Loss:0.21884943544864655\n"
     ]
    },
    {
     "name": "stderr",
     "output_type": "stream",
     "text": [
      "\r",
      "  2%|▎         | 1/40 [00:03<02:28,  3.80s/it]"
     ]
    },
    {
     "name": "stdout",
     "output_type": "stream",
     "text": [
      "Train Acc:87.86%, Test Acc:86.08%\n",
      "\n",
      "Epoch: 1:0,  Loss:0.35980114340782166\n"
     ]
    },
    {
     "name": "stderr",
     "output_type": "stream",
     "text": [
      "\r",
      "  5%|▌         | 2/40 [00:07<02:20,  3.70s/it]"
     ]
    },
    {
     "name": "stdout",
     "output_type": "stream",
     "text": [
      "Train Acc:87.97%, Test Acc:86.10%\n",
      "\n",
      "Epoch: 2:0,  Loss:0.6114858388900757\n"
     ]
    },
    {
     "name": "stderr",
     "output_type": "stream",
     "text": [
      "\r",
      "  8%|▊         | 3/40 [00:11<02:16,  3.69s/it]"
     ]
    },
    {
     "name": "stdout",
     "output_type": "stream",
     "text": [
      "Train Acc:88.11%, Test Acc:86.05%\n",
      "\n",
      "Epoch: 3:0,  Loss:0.3910781145095825\n"
     ]
    },
    {
     "name": "stderr",
     "output_type": "stream",
     "text": [
      "\r",
      " 10%|█         | 4/40 [00:14<02:14,  3.73s/it]"
     ]
    },
    {
     "name": "stdout",
     "output_type": "stream",
     "text": [
      "Train Acc:88.07%, Test Acc:86.17%\n",
      "\n",
      "Epoch: 4:0,  Loss:0.34272444248199463\n"
     ]
    },
    {
     "name": "stderr",
     "output_type": "stream",
     "text": [
      "\r",
      " 12%|█▎        | 5/40 [00:18<02:12,  3.78s/it]"
     ]
    },
    {
     "name": "stdout",
     "output_type": "stream",
     "text": [
      "Train Acc:88.22%, Test Acc:86.12%\n",
      "\n",
      "Epoch: 5:0,  Loss:0.4161618947982788\n"
     ]
    },
    {
     "name": "stderr",
     "output_type": "stream",
     "text": [
      "\r",
      " 15%|█▌        | 6/40 [00:22<02:07,  3.75s/it]"
     ]
    },
    {
     "name": "stdout",
     "output_type": "stream",
     "text": [
      "Train Acc:88.35%, Test Acc:85.97%\n",
      "\n",
      "Epoch: 6:0,  Loss:0.24794156849384308\n"
     ]
    },
    {
     "name": "stderr",
     "output_type": "stream",
     "text": [
      "\r",
      " 18%|█▊        | 7/40 [00:26<02:05,  3.79s/it]"
     ]
    },
    {
     "name": "stdout",
     "output_type": "stream",
     "text": [
      "Train Acc:88.46%, Test Acc:86.16%\n",
      "\n",
      "Epoch: 7:0,  Loss:0.3071301579475403\n"
     ]
    },
    {
     "name": "stderr",
     "output_type": "stream",
     "text": [
      "\r",
      " 20%|██        | 8/40 [00:30<02:01,  3.79s/it]"
     ]
    },
    {
     "name": "stdout",
     "output_type": "stream",
     "text": [
      "Train Acc:88.44%, Test Acc:86.53%\n",
      "\n",
      "Epoch: 8:0,  Loss:0.42635661363601685\n"
     ]
    },
    {
     "name": "stderr",
     "output_type": "stream",
     "text": [
      "\r",
      " 22%|██▎       | 9/40 [00:33<01:58,  3.81s/it]"
     ]
    },
    {
     "name": "stdout",
     "output_type": "stream",
     "text": [
      "Train Acc:88.52%, Test Acc:85.74%\n",
      "\n",
      "Epoch: 9:0,  Loss:0.2583214044570923\n"
     ]
    },
    {
     "name": "stderr",
     "output_type": "stream",
     "text": [
      "\r",
      " 25%|██▌       | 10/40 [00:37<01:52,  3.77s/it]"
     ]
    },
    {
     "name": "stdout",
     "output_type": "stream",
     "text": [
      "Train Acc:88.72%, Test Acc:86.31%\n",
      "\n",
      "Epoch: 10:0,  Loss:0.2158435583114624\n"
     ]
    },
    {
     "name": "stderr",
     "output_type": "stream",
     "text": [
      "\r",
      " 28%|██▊       | 11/40 [00:41<01:48,  3.73s/it]"
     ]
    },
    {
     "name": "stdout",
     "output_type": "stream",
     "text": [
      "Train Acc:88.65%, Test Acc:86.21%\n",
      "\n",
      "Epoch: 11:0,  Loss:0.1795480102300644\n"
     ]
    },
    {
     "name": "stderr",
     "output_type": "stream",
     "text": [
      "\r",
      " 30%|███       | 12/40 [00:45<01:45,  3.77s/it]"
     ]
    },
    {
     "name": "stdout",
     "output_type": "stream",
     "text": [
      "Train Acc:88.77%, Test Acc:86.62%\n",
      "\n",
      "Epoch: 12:0,  Loss:0.3396962881088257\n"
     ]
    },
    {
     "name": "stderr",
     "output_type": "stream",
     "text": [
      "\r",
      " 32%|███▎      | 13/40 [00:49<01:42,  3.80s/it]"
     ]
    },
    {
     "name": "stdout",
     "output_type": "stream",
     "text": [
      "Train Acc:88.80%, Test Acc:86.48%\n",
      "\n",
      "Epoch: 13:0,  Loss:0.2728559672832489\n"
     ]
    },
    {
     "name": "stderr",
     "output_type": "stream",
     "text": [
      "\r",
      " 35%|███▌      | 14/40 [00:52<01:39,  3.82s/it]"
     ]
    },
    {
     "name": "stdout",
     "output_type": "stream",
     "text": [
      "Train Acc:88.80%, Test Acc:86.30%\n",
      "\n",
      "Epoch: 14:0,  Loss:0.27088984847068787\n"
     ]
    },
    {
     "name": "stderr",
     "output_type": "stream",
     "text": [
      "\r",
      " 38%|███▊      | 15/40 [00:56<01:35,  3.81s/it]"
     ]
    },
    {
     "name": "stdout",
     "output_type": "stream",
     "text": [
      "Train Acc:88.93%, Test Acc:86.49%\n",
      "\n",
      "Epoch: 15:0,  Loss:0.32531920075416565\n"
     ]
    },
    {
     "name": "stderr",
     "output_type": "stream",
     "text": [
      "\r",
      " 40%|████      | 16/40 [01:00<01:31,  3.82s/it]"
     ]
    },
    {
     "name": "stdout",
     "output_type": "stream",
     "text": [
      "Train Acc:89.04%, Test Acc:86.59%\n",
      "\n",
      "Epoch: 16:0,  Loss:0.2344987839460373\n"
     ]
    },
    {
     "name": "stderr",
     "output_type": "stream",
     "text": [
      "\r",
      " 42%|████▎     | 17/40 [01:04<01:27,  3.82s/it]"
     ]
    },
    {
     "name": "stdout",
     "output_type": "stream",
     "text": [
      "Train Acc:89.16%, Test Acc:86.62%\n",
      "\n",
      "Epoch: 17:0,  Loss:0.2625880539417267\n"
     ]
    },
    {
     "name": "stderr",
     "output_type": "stream",
     "text": [
      "\r",
      " 45%|████▌     | 18/40 [01:08<01:23,  3.78s/it]"
     ]
    },
    {
     "name": "stdout",
     "output_type": "stream",
     "text": [
      "Train Acc:89.21%, Test Acc:86.29%\n",
      "\n",
      "Epoch: 18:0,  Loss:0.5659687519073486\n"
     ]
    },
    {
     "name": "stderr",
     "output_type": "stream",
     "text": [
      "\r",
      " 48%|████▊     | 19/40 [01:12<01:20,  3.84s/it]"
     ]
    },
    {
     "name": "stdout",
     "output_type": "stream",
     "text": [
      "Train Acc:89.11%, Test Acc:86.61%\n",
      "\n",
      "Epoch: 19:0,  Loss:0.29146260023117065\n"
     ]
    },
    {
     "name": "stderr",
     "output_type": "stream",
     "text": [
      "\r",
      " 50%|█████     | 20/40 [01:15<01:16,  3.85s/it]"
     ]
    },
    {
     "name": "stdout",
     "output_type": "stream",
     "text": [
      "Train Acc:89.34%, Test Acc:86.73%\n",
      "\n",
      "Epoch: 20:0,  Loss:0.4199248254299164\n"
     ]
    },
    {
     "name": "stderr",
     "output_type": "stream",
     "text": [
      "\r",
      " 52%|█████▎    | 21/40 [01:19<01:14,  3.92s/it]"
     ]
    },
    {
     "name": "stdout",
     "output_type": "stream",
     "text": [
      "Train Acc:89.25%, Test Acc:86.83%\n",
      "\n",
      "Epoch: 21:0,  Loss:0.23996968567371368\n"
     ]
    },
    {
     "name": "stderr",
     "output_type": "stream",
     "text": [
      "\r",
      " 55%|█████▌    | 22/40 [01:23<01:10,  3.91s/it]"
     ]
    },
    {
     "name": "stdout",
     "output_type": "stream",
     "text": [
      "Train Acc:89.31%, Test Acc:86.95%\n",
      "\n",
      "Epoch: 22:0,  Loss:0.4564351737499237\n"
     ]
    },
    {
     "name": "stderr",
     "output_type": "stream",
     "text": [
      "\r",
      " 57%|█████▊    | 23/40 [01:27<01:07,  3.97s/it]"
     ]
    },
    {
     "name": "stdout",
     "output_type": "stream",
     "text": [
      "Train Acc:89.35%, Test Acc:86.29%\n",
      "\n",
      "Epoch: 23:0,  Loss:0.21079587936401367\n"
     ]
    },
    {
     "name": "stderr",
     "output_type": "stream",
     "text": [
      "\r",
      " 60%|██████    | 24/40 [01:31<01:03,  3.99s/it]"
     ]
    },
    {
     "name": "stdout",
     "output_type": "stream",
     "text": [
      "Train Acc:89.46%, Test Acc:86.82%\n",
      "\n",
      "Epoch: 24:0,  Loss:0.2069498896598816\n"
     ]
    },
    {
     "name": "stderr",
     "output_type": "stream",
     "text": [
      "\r",
      " 62%|██████▎   | 25/40 [01:36<01:00,  4.02s/it]"
     ]
    },
    {
     "name": "stdout",
     "output_type": "stream",
     "text": [
      "Train Acc:89.66%, Test Acc:87.07%\n",
      "\n",
      "Epoch: 25:0,  Loss:0.2781498432159424\n"
     ]
    },
    {
     "name": "stderr",
     "output_type": "stream",
     "text": [
      "\r",
      " 65%|██████▌   | 26/40 [01:40<00:56,  4.03s/it]"
     ]
    },
    {
     "name": "stdout",
     "output_type": "stream",
     "text": [
      "Train Acc:89.68%, Test Acc:86.71%\n",
      "\n",
      "Epoch: 26:0,  Loss:0.3697288930416107\n"
     ]
    },
    {
     "name": "stderr",
     "output_type": "stream",
     "text": [
      "\r",
      " 68%|██████▊   | 27/40 [01:44<00:52,  4.02s/it]"
     ]
    },
    {
     "name": "stdout",
     "output_type": "stream",
     "text": [
      "Train Acc:89.58%, Test Acc:86.64%\n",
      "\n",
      "Epoch: 27:0,  Loss:0.21431514620780945\n"
     ]
    },
    {
     "name": "stderr",
     "output_type": "stream",
     "text": [
      "\r",
      " 70%|███████   | 28/40 [01:48<00:48,  4.05s/it]"
     ]
    },
    {
     "name": "stdout",
     "output_type": "stream",
     "text": [
      "Train Acc:89.72%, Test Acc:87.06%\n",
      "\n",
      "Epoch: 28:0,  Loss:0.2366712987422943\n"
     ]
    },
    {
     "name": "stderr",
     "output_type": "stream",
     "text": [
      "\r",
      " 72%|███████▎  | 29/40 [01:52<00:44,  4.07s/it]"
     ]
    },
    {
     "name": "stdout",
     "output_type": "stream",
     "text": [
      "Train Acc:89.83%, Test Acc:86.97%\n",
      "\n",
      "Epoch: 29:0,  Loss:0.17135675251483917\n"
     ]
    },
    {
     "name": "stderr",
     "output_type": "stream",
     "text": [
      "\r",
      " 75%|███████▌  | 30/40 [01:56<00:41,  4.12s/it]"
     ]
    },
    {
     "name": "stdout",
     "output_type": "stream",
     "text": [
      "Train Acc:89.74%, Test Acc:86.88%\n",
      "\n",
      "Epoch: 30:0,  Loss:0.5288516879081726\n"
     ]
    },
    {
     "name": "stderr",
     "output_type": "stream",
     "text": [
      "\r",
      " 78%|███████▊  | 31/40 [02:00<00:37,  4.12s/it]"
     ]
    },
    {
     "name": "stdout",
     "output_type": "stream",
     "text": [
      "Train Acc:89.90%, Test Acc:86.64%\n",
      "\n",
      "Epoch: 31:0,  Loss:0.2732090353965759\n"
     ]
    },
    {
     "name": "stderr",
     "output_type": "stream",
     "text": [
      "\r",
      " 80%|████████  | 32/40 [02:04<00:33,  4.15s/it]"
     ]
    },
    {
     "name": "stdout",
     "output_type": "stream",
     "text": [
      "Train Acc:90.09%, Test Acc:87.07%\n",
      "\n",
      "Epoch: 32:0,  Loss:0.16075606644153595\n"
     ]
    },
    {
     "name": "stderr",
     "output_type": "stream",
     "text": [
      "\r",
      " 82%|████████▎ | 33/40 [02:08<00:28,  4.12s/it]"
     ]
    },
    {
     "name": "stdout",
     "output_type": "stream",
     "text": [
      "Train Acc:90.03%, Test Acc:87.10%\n",
      "\n",
      "Epoch: 33:0,  Loss:0.15422211587429047\n"
     ]
    },
    {
     "name": "stderr",
     "output_type": "stream",
     "text": [
      "\r",
      " 85%|████████▌ | 34/40 [02:12<00:24,  4.08s/it]"
     ]
    },
    {
     "name": "stdout",
     "output_type": "stream",
     "text": [
      "Train Acc:90.14%, Test Acc:87.16%\n",
      "\n",
      "Epoch: 34:0,  Loss:0.20754583179950714\n"
     ]
    },
    {
     "name": "stderr",
     "output_type": "stream",
     "text": [
      "\r",
      " 88%|████████▊ | 35/40 [02:17<00:20,  4.10s/it]"
     ]
    },
    {
     "name": "stdout",
     "output_type": "stream",
     "text": [
      "Train Acc:90.11%, Test Acc:86.99%\n",
      "\n",
      "Epoch: 35:0,  Loss:0.26415708661079407\n"
     ]
    },
    {
     "name": "stderr",
     "output_type": "stream",
     "text": [
      "\r",
      " 90%|█████████ | 36/40 [02:20<00:16,  4.02s/it]"
     ]
    },
    {
     "name": "stdout",
     "output_type": "stream",
     "text": [
      "Train Acc:90.16%, Test Acc:87.37%\n",
      "\n",
      "Epoch: 36:0,  Loss:0.1677238792181015\n"
     ]
    },
    {
     "name": "stderr",
     "output_type": "stream",
     "text": [
      "\r",
      " 92%|█████████▎| 37/40 [02:24<00:12,  4.02s/it]"
     ]
    },
    {
     "name": "stdout",
     "output_type": "stream",
     "text": [
      "Train Acc:90.22%, Test Acc:87.03%\n",
      "\n",
      "Epoch: 37:0,  Loss:0.2715015113353729\n"
     ]
    },
    {
     "name": "stderr",
     "output_type": "stream",
     "text": [
      "\r",
      " 95%|█████████▌| 38/40 [02:28<00:08,  4.02s/it]"
     ]
    },
    {
     "name": "stdout",
     "output_type": "stream",
     "text": [
      "Train Acc:90.26%, Test Acc:87.09%\n",
      "\n",
      "Epoch: 38:0,  Loss:0.19740194082260132\n"
     ]
    },
    {
     "name": "stderr",
     "output_type": "stream",
     "text": [
      "\r",
      " 98%|█████████▊| 39/40 [02:33<00:04,  4.06s/it]"
     ]
    },
    {
     "name": "stdout",
     "output_type": "stream",
     "text": [
      "Train Acc:90.33%, Test Acc:87.16%\n",
      "\n",
      "Epoch: 39:0,  Loss:0.5171658992767334\n"
     ]
    },
    {
     "name": "stderr",
     "output_type": "stream",
     "text": [
      "100%|██████████| 40/40 [02:37<00:00,  3.93s/it]"
     ]
    },
    {
     "name": "stdout",
     "output_type": "stream",
     "text": [
      "Train Acc:90.35%, Test Acc:87.18%\n",
      "\n",
      "\t-> MAX Train Acc 90.34666666666666 ; Test Acc 87.37\n"
     ]
    },
    {
     "name": "stderr",
     "output_type": "stream",
     "text": [
      "\n"
     ]
    }
   ],
   "source": [
    "index = 0\n",
    "train_accs, test_accs = [], []\n",
    "model.train()\n",
    "for epoch in tqdm(list(range(40))):\n",
    "    train_acc = 0\n",
    "    train_count = 0\n",
    "    for xx, yy in train_loader:\n",
    "        xx, yy = xx.to(device), yy.to(device)\n",
    "        yout = model(xx)\n",
    "        loss = criterion(yout, yy)\n",
    "        optimizer.zero_grad()\n",
    "        loss.backward()\n",
    "        optimizer.step()\n",
    "\n",
    "        outputs = torch.argmax(yout, dim=1).data.cpu().numpy()\n",
    "        correct = (outputs == yy.data.cpu().numpy()).astype(float).sum()\n",
    "        train_acc += correct\n",
    "        train_count += len(outputs)\n",
    "\n",
    "    train_accs.append(float(train_acc)/train_count*100)\n",
    "    train_acc = 0\n",
    "    train_count = 0\n",
    "\n",
    "    print(f'Epoch: {epoch}:{index},  Loss:{float(loss)}')\n",
    "    test_count = 0\n",
    "    test_acc = 0\n",
    "    for xx, yy in test_loader:\n",
    "        xx, yy = xx.to(device), yy.to(device)\n",
    "        with torch.no_grad():\n",
    "            yout = model(xx)\n",
    "        outputs = torch.argmax(yout, dim=1).data.cpu().numpy()\n",
    "        correct = (outputs == yy.data.cpu().numpy()).astype(float).sum()\n",
    "        test_acc += correct\n",
    "        test_count += len(xx)\n",
    "    test_accs.append(float(test_acc)/test_count*100)\n",
    "    print(f'Train Acc:{train_accs[-1]:.2f}%, Test Acc:{test_accs[-1]:.2f}%')\n",
    "    print()\n",
    "\n",
    "### after each class index is finished training\n",
    "print(f'\\t-> MAX Train Acc {max(train_accs)} ; Test Acc {max(test_accs)}')"
   ]
  },
  {
   "cell_type": "code",
   "execution_count": 35,
   "metadata": {},
   "outputs": [],
   "source": [
    "# -> MAX Train Acc 87.678 ; Test Acc 85.87  ### after distance transformation\n",
    "# -> MAX Train Acc 97.255 ; Test Acc 89.01  ### normal nn"
   ]
  },
  {
   "cell_type": "code",
   "execution_count": 446,
   "metadata": {},
   "outputs": [
    {
     "data": {
      "text/plain": [
       "torch.Size([3, 784])"
      ]
     },
     "execution_count": 446,
     "metadata": {},
     "output_type": "execute_result"
    }
   ],
   "source": [
    "model.eval()\n",
    "dists = model[0](train_dataset[[0,3,7]][0].to(device))\n",
    "dists = model[1](dists)\n",
    "model.train()\n",
    "dists.shape"
   ]
  },
  {
   "cell_type": "code",
   "execution_count": 447,
   "metadata": {},
   "outputs": [
    {
     "data": {
      "text/plain": [
       "tensor(0.8696, device='cuda:1', grad_fn=<MeanBackward0>)"
      ]
     },
     "execution_count": 447,
     "metadata": {},
     "output_type": "execute_result"
    }
   ],
   "source": [
    "dists.mean()"
   ]
  },
  {
   "cell_type": "code",
   "execution_count": 448,
   "metadata": {},
   "outputs": [
    {
     "data": {
      "text/plain": [
       "tensor(1.4066, device='cuda:1', grad_fn=<StdBackward>)"
      ]
     },
     "execution_count": 448,
     "metadata": {},
     "output_type": "execute_result"
    }
   ],
   "source": [
    "dists.std()"
   ]
  },
  {
   "cell_type": "code",
   "execution_count": 449,
   "metadata": {},
   "outputs": [
    {
     "data": {
      "text/plain": [
       "tensor([ 1.2937,  1.2625,  0.4058,  1.3024,  0.7606,  1.1799,  0.7924,  1.0150,\n",
       "         0.6441,  1.0020,  1.1353,  0.7150,  0.4322,  0.6650,  1.2677,  1.3783,\n",
       "         1.0093,  0.7190,  1.5132,  1.2309,  1.2599,  1.3139,  0.9065,  0.7099,\n",
       "         0.4803,  0.4657,  0.4847,  1.4775,  0.7608,  0.8618,  0.3377,  1.0155,\n",
       "         1.2679,  1.2067,  0.6114,  0.5598,  0.8746,  1.5978,  1.5515,  1.4270,\n",
       "         0.8973,  0.7935,  0.4619,  1.1910,  0.6426,  1.5839,  1.2299,  0.7975,\n",
       "         1.3564,  1.1978,  1.0868,  0.5425,  1.0749,  0.8889,  0.7277,  0.5356,\n",
       "         0.5043,  0.4221,  0.6619,  0.9351,  0.6166,  0.4689,  1.0118,  0.7507,\n",
       "         1.4633,  1.3519,  0.3987,  1.0880,  0.7220,  0.6949,  1.1703,  1.1805,\n",
       "         0.5794,  1.4205,  0.1715,  0.7432,  0.5902,  1.0467,  1.1639,  1.4650,\n",
       "         1.3622,  0.8361,  1.0030,  0.7113,  0.4367,  0.7128,  1.7238,  1.4661,\n",
       "         1.2387,  0.6737,  0.5589,  1.1626,  1.1422,  1.4981,  0.8619,  1.0330,\n",
       "         0.6657,  1.4915,  0.6137,  0.9796,  1.4011,  0.8144,  1.3791,  1.2024,\n",
       "         1.1135,  1.6023,  0.4220,  0.8951,  0.8000,  1.0188,  1.1420,  0.8244,\n",
       "         1.0727,  1.2886,  0.8701,  0.7654,  0.6090,  1.1318,  0.9409,  0.7538,\n",
       "         1.1913,  1.2218,  0.4683,  1.0760,  1.0839,  1.1114,  0.4663,  0.6722,\n",
       "         0.7054,  0.8900,  1.5331,  0.6430,  0.2523,  1.4668,  0.9077,  0.6160,\n",
       "         1.3405,  0.1797,  1.4849,  1.2142,  0.3328,  1.0401,  0.7633,  0.7039,\n",
       "         0.5907,  0.5636,  1.1017,  0.9580,  0.4533,  0.5969,  1.2914,  1.3744,\n",
       "         0.9530,  0.8859,  0.6291,  1.0799,  1.5163,  0.3758,  0.9617,  0.2585,\n",
       "         1.5757,  1.0073,  0.6462,  0.6682,  1.0594,  1.7467,  1.3871,  1.1435,\n",
       "         0.6048,  0.7770,  1.2949,  0.4492,  1.1894,  0.7029,  0.5424,  1.1617,\n",
       "         0.4189,  1.5229,  1.4269,  1.0258,  1.0290,  0.5772,  0.6883,  1.4072,\n",
       "         1.1612,  0.7314,  0.8776,  1.2134,  0.2582,  0.6523,  1.7105,  1.0343,\n",
       "         0.7088,  1.1207,  1.0126,  1.3128,  1.3042,  1.4389,  0.6841,  1.1861,\n",
       "         1.2011,  1.2708,  1.2063,  0.8316,  0.5213,  1.1017,  0.7836,  1.1428,\n",
       "         0.8281,  0.7703,  1.6185,  0.4099,  1.3220,  0.9623,  1.2982,  0.7471,\n",
       "         0.7264,  0.5209,  1.1246,  0.6535,  1.3401,  1.2667,  0.8638,  0.1010,\n",
       "         0.4056,  1.5614,  0.4306,  0.5429,  0.9326,  1.3038,  0.7211,  1.4937,\n",
       "         1.3580,  0.7844,  0.6941,  0.0588,  0.6656,  1.3486,  0.9515,  0.6109,\n",
       "         1.1006,  0.3609,  0.9776,  0.5584,  1.4164,  1.4192,  1.1792,  1.3112,\n",
       "         0.3953,  0.7514,  0.5317,  0.9942,  1.2776,  0.7837,  1.0748,  1.3670,\n",
       "         1.2001,  0.9410,  0.4939,  0.5317,  1.3666,  1.6420,  0.7279,  0.8383,\n",
       "         0.3093,  1.2959,  1.1300,  0.8225,  1.2228,  1.2323,  1.0802,  0.8563,\n",
       "         0.5445,  0.7639,  0.7225,  0.6019,  0.8806,  1.0359,  1.5539,  1.5022,\n",
       "         0.7749,  0.9610,  0.5641,  0.7922,  1.2314,  0.7128,  0.7417,  0.7963,\n",
       "         1.1792,  0.7045,  1.4436,  0.1538,  0.5131,  1.4791,  1.2702,  0.4258,\n",
       "         0.5629,  0.6019,  0.7486,  0.8715,  1.0513,  1.2348,  1.6659,  0.4874,\n",
       "         0.8917,  0.6989,  1.5764,  0.8771,  1.5029,  0.9001,  1.7444,  1.5229,\n",
       "         1.2326,  1.1335,  0.7882,  1.4177,  1.3459, -0.0627,  0.5968,  0.2742,\n",
       "         1.1158,  0.7235,  0.9701,  0.4055,  0.6865,  0.8338,  0.6250,  0.7275,\n",
       "         1.3957,  1.7072,  1.5117,  1.3248,  1.3399,  1.0577,  0.6209,  0.5447,\n",
       "         1.6620,  0.7839,  0.5083,  1.6888,  0.4459,  0.8415,  1.0248,  0.7132,\n",
       "         1.0773,  1.2335,  1.1385,  0.6793,  0.8545,  1.4740,  0.4034,  1.3924,\n",
       "         0.8051,  1.3094,  0.1928,  1.0059,  0.3060,  0.7011,  0.2900,  1.2213,\n",
       "         1.2768,  1.0955,  0.6100,  1.7573,  0.6003,  0.8792,  0.6419,  1.9175,\n",
       "         1.4242,  1.5483,  1.3337,  0.8374,  0.5654,  0.5554,  0.7883,  0.8218,\n",
       "         0.9457,  1.3655,  0.4823,  1.3469,  0.6460,  1.0490,  1.2220,  1.2663,\n",
       "         1.6673,  0.5551,  1.2771,  1.6230,  0.6306,  1.2623,  1.0748,  0.9442,\n",
       "         1.2025,  1.0262,  1.3038,  0.5267,  1.3413,  0.4735,  1.1259,  1.2886,\n",
       "         1.2342,  1.4483,  1.2578,  1.5200,  0.4635,  0.5309,  0.5627,  1.0025,\n",
       "         1.2801,  1.2715,  1.3438,  0.8379,  0.7956,  0.7416,  1.1233,  1.5664,\n",
       "         1.0766,  0.9469,  0.3609,  0.9928,  0.5895,  1.2613,  0.6571,  0.4875,\n",
       "         1.2424,  0.6812,  1.3748,  1.4445,  0.6360,  0.5909,  0.8816,  1.2812,\n",
       "         0.5808,  0.6554,  1.3541,  0.5373,  0.9900,  1.0767,  0.9999,  1.3246,\n",
       "         1.4416,  0.3583,  1.7238,  1.2744,  1.4443,  0.9789,  1.4351,  1.7445,\n",
       "         1.1338,  1.1819,  0.6249,  1.3471,  0.4438,  0.5112,  0.8932,  1.2245,\n",
       "         1.4462,  1.3375,  0.5235,  0.8172,  0.8288,  0.6222,  0.5223,  1.2171,\n",
       "         0.7239,  1.3418,  1.6344,  0.7333,  0.9516,  0.8902,  1.3279,  1.3790,\n",
       "         0.5136,  1.1674,  1.3160,  0.8952,  1.8850,  0.5894,  0.6212,  0.8809,\n",
       "         0.2889,  0.4507,  1.0204,  0.6455,  0.5862,  0.9724,  0.5651,  0.8748,\n",
       "         0.9752,  1.1105,  0.9205,  1.2524,  0.6766,  1.7989,  1.1110,  0.7298,\n",
       "         0.6058,  0.7929,  1.1408,  1.0997,  1.3666,  0.8562,  0.8987,  1.2114,\n",
       "         0.6069,  0.8306,  1.3991,  1.2273,  1.3491,  1.4975,  1.0125,  1.2642,\n",
       "         1.1921,  0.9675,  1.3175,  1.2706,  0.8350,  0.2550,  1.2086,  0.6479,\n",
       "         0.9728,  0.9793,  0.5379,  1.5302,  1.5426,  1.2990,  1.4331,  0.8621,\n",
       "         1.3987,  1.1393,  1.5005,  0.6967,  0.3058,  0.5066,  0.5913,  0.9775,\n",
       "         1.1459,  0.7846,  0.8901,  0.7142,  0.8112,  1.6532,  0.3168,  1.0759,\n",
       "         1.2367,  0.7848,  0.3819,  1.3500,  1.2059,  1.3165,  1.0777,  1.5065,\n",
       "         1.3377,  0.6151,  0.6110,  1.2872,  0.5658,  1.0354,  0.9139,  1.2406,\n",
       "         1.2277,  1.4955,  1.2836,  0.9296,  0.9888,  0.2450,  0.5337,  1.0268,\n",
       "         0.8395,  0.6174,  0.6820,  0.9679,  0.2953,  0.6185,  1.3226,  0.7421,\n",
       "         0.2460,  0.6988,  0.5967,  0.9067,  1.4946,  1.1404,  0.6485,  0.9275,\n",
       "         0.5626,  1.4302,  1.9703,  1.3992,  0.8764,  1.0815,  0.6463,  1.3093,\n",
       "         1.2355,  0.8491,  1.1233,  0.4117,  1.1966,  0.7342,  0.6857,  0.9058,\n",
       "         0.6411,  0.4343,  0.7180,  0.4946,  1.1968,  0.6402,  0.8136,  0.5558,\n",
       "         1.0050,  1.0847,  1.3750,  0.6380,  1.3165,  0.6876,  1.5664,  1.3744,\n",
       "         1.4545,  0.9829,  0.7940,  1.4124,  0.6551,  0.9975,  0.8186,  0.4298,\n",
       "         1.1832,  0.9503,  1.6876,  0.9564,  1.1371,  0.9541,  1.1519,  0.8244,\n",
       "         1.2005,  0.9795,  0.7797,  0.7049,  0.5363,  1.3822,  0.4787,  0.5828,\n",
       "         0.5495,  1.8267,  0.8278,  1.2887,  1.2044,  1.4677,  0.4792,  0.7770,\n",
       "         1.3667,  0.2936,  0.7850,  0.2626,  0.5256,  1.5767,  0.9580,  1.5291,\n",
       "         1.4367,  0.8443,  0.9057,  1.0469,  1.1715,  0.4578,  2.1973,  0.5959,\n",
       "         0.8946,  0.7061,  1.4147,  1.2294,  1.2280,  1.5101,  0.7243,  1.4028,\n",
       "         0.8903,  0.6092,  0.9018,  0.9707,  0.5751,  1.3232,  0.9482,  0.7731,\n",
       "         0.5365,  0.5511,  0.6387,  1.5195,  1.7887,  2.2849,  1.2471,  1.3192,\n",
       "         1.0059,  1.3754,  0.3160,  0.9797,  0.4238,  0.8356,  0.9499,  1.2946,\n",
       "         0.4742,  0.7542,  0.6173,  0.6650,  0.8035,  1.2814,  1.0744,  1.1600,\n",
       "         1.3995,  0.8769,  0.8751,  0.9296,  0.2859,  0.5912,  1.2308,  1.2286,\n",
       "         0.6694,  1.0590,  0.6345,  0.9461,  1.0751,  1.0579,  1.9231,  0.2299,\n",
       "         0.3576,  0.8697,  0.1395,  1.1219,  1.1965,  0.4554,  0.5597,  1.7457,\n",
       "         1.3763,  1.5373,  0.4177,  1.5592,  0.7478,  1.1170,  1.1158,  1.1360,\n",
       "         1.1756,  1.1910,  1.4039,  0.3224,  0.4851,  1.0195,  0.9901,  1.3379,\n",
       "         1.6371,  0.8090,  0.6762,  0.5917,  1.5801,  0.5130,  0.6232,  1.0086,\n",
       "         1.3058,  0.4460,  0.5426,  1.5683,  0.3554,  1.2813,  0.6521,  1.0607,\n",
       "         0.6966,  1.1842,  1.3125,  0.8803,  1.0317,  1.6665,  1.5619,  1.2448,\n",
       "         1.0205,  1.2035,  1.0656,  1.6180,  1.0974,  1.8621,  0.8957,  0.8566,\n",
       "         1.4699,  0.7415,  0.8394,  1.4844,  1.0396,  1.2935,  0.7364,  1.5304],\n",
       "       device='cuda:1', grad_fn=<SelectBackward>)"
      ]
     },
     "execution_count": 449,
     "metadata": {},
     "output_type": "execute_result"
    }
   ],
   "source": [
    "dists[0]"
   ]
  },
  {
   "cell_type": "markdown",
   "metadata": {},
   "source": [
    "## Generate adversarial example"
   ]
  },
  {
   "cell_type": "code",
   "execution_count": 450,
   "metadata": {},
   "outputs": [],
   "source": [
    "_xx, _tt = iter(train_loader).next()"
   ]
  },
  {
   "cell_type": "code",
   "execution_count": 766,
   "metadata": {},
   "outputs": [
    {
     "data": {
      "text/plain": [
       "tensor(2)"
      ]
     },
     "execution_count": 766,
     "metadata": {},
     "output_type": "execute_result"
    },
    {
     "data": {
      "image/png": "[encoded data removed]",
      "text/plain": [
       "<Figure size 432x288 with 1 Axes>"
      ]
     },
     "metadata": {
      "needs_background": "light"
     },
     "output_type": "display_data"
    }
   ],
   "source": [
    "i = 30\n",
    "plt.imshow(_xx[i].reshape(28,28))\n",
    "_tt[i]"
   ]
  },
  {
   "cell_type": "code",
   "execution_count": 767,
   "metadata": {},
   "outputs": [],
   "source": [
    "xx = _xx[i:i+1,:]\n",
    "tt = _tt[i:i+1]\n",
    "\n",
    "target_class = 0\n",
    "advt = tt*0+target_class"
   ]
  },
  {
   "cell_type": "code",
   "execution_count": 768,
   "metadata": {},
   "outputs": [],
   "source": [
    "model.eval()\n",
    "\n",
    "X = torch.autograd.Variable(xx, requires_grad=True)\n",
    "yy = model(X.to(device))"
   ]
  },
  {
   "cell_type": "code",
   "execution_count": 769,
   "metadata": {},
   "outputs": [
    {
     "data": {
      "text/plain": [
       "(tensor([2]), tensor([2]), tensor([0]))"
      ]
     },
     "execution_count": 769,
     "metadata": {},
     "output_type": "execute_result"
    }
   ],
   "source": [
    "torch.argmax(yy.data.cpu(), dim=1), tt, advt"
   ]
  },
  {
   "cell_type": "code",
   "execution_count": 770,
   "metadata": {},
   "outputs": [],
   "source": [
    "loss = criterion(yy, advt.to(device))\n",
    "\n",
    "xx_grad = torch.autograd.grad(outputs=loss, inputs=X,\n",
    "#                             grad_outputs=torch.ones_like(self.Y),\n",
    "                            only_inputs=True, retain_graph=True, create_graph=True)[0]"
   ]
  },
  {
   "cell_type": "code",
   "execution_count": 771,
   "metadata": {},
   "outputs": [
    {
     "data": {
      "text/plain": [
       "<matplotlib.image.AxesImage at 0x7f4fa0eb8d60>"
      ]
     },
     "execution_count": 771,
     "metadata": {},
     "output_type": "execute_result"
    },
    {
     "data": {
      "image/png": "[encoded data removed]",
      "text/plain": [
       "<Figure size 432x288 with 1 Axes>"
      ]
     },
     "metadata": {
      "needs_background": "light"
     },
     "output_type": "display_data"
    }
   ],
   "source": [
    "plt.imshow(xx_grad.data.cpu().reshape(28,28))"
   ]
  },
  {
   "cell_type": "code",
   "execution_count": 779,
   "metadata": {},
   "outputs": [],
   "source": [
    "signed_grad = torch.sign(xx_grad.data.cpu())\n",
    "# signed_grad = xx_grad.data.cpu()"
   ]
  },
  {
   "cell_type": "code",
   "execution_count": 780,
   "metadata": {},
   "outputs": [
    {
     "data": {
      "text/plain": [
       "<matplotlib.image.AxesImage at 0x7f4fa0db83a0>"
      ]
     },
     "execution_count": 780,
     "metadata": {},
     "output_type": "execute_result"
    },
    {
     "data": {
      "image/png": "[encoded data removed]",
      "text/plain": [
       "<Figure size 432x288 with 1 Axes>"
      ]
     },
     "metadata": {
      "needs_background": "light"
     },
     "output_type": "display_data"
    }
   ],
   "source": [
    "plt.imshow(signed_grad.reshape(28,28))"
   ]
  },
  {
   "cell_type": "code",
   "execution_count": 786,
   "metadata": {},
   "outputs": [],
   "source": [
    "epsilon = 0.1\n",
    "pertubation = xx - epsilon*signed_grad\n",
    "xx_adv = pertubation\n",
    "xx_adv = torch.clamp(pertubation, 0, 1)"
   ]
  },
  {
   "cell_type": "code",
   "execution_count": 787,
   "metadata": {},
   "outputs": [
    {
     "data": {
      "text/plain": [
       "<matplotlib.image.AxesImage at 0x7f4fa0cd7fa0>"
      ]
     },
     "execution_count": 787,
     "metadata": {},
     "output_type": "execute_result"
    },
    {
     "data": {
      "image/png": "[encoded data removed]",
      "text/plain": [
       "<Figure size 432x288 with 1 Axes>"
      ]
     },
     "metadata": {
      "needs_background": "light"
     },
     "output_type": "display_data"
    }
   ],
   "source": [
    "plt.imshow(xx_adv.reshape(28,28))"
   ]
  },
  {
   "cell_type": "code",
   "execution_count": 788,
   "metadata": {},
   "outputs": [],
   "source": [
    "yy_adv = model(xx_adv.to(device))"
   ]
  },
  {
   "cell_type": "code",
   "execution_count": 789,
   "metadata": {},
   "outputs": [
    {
     "data": {
      "text/plain": [
       "tensor([6], device='cuda:1')"
      ]
     },
     "execution_count": 789,
     "metadata": {},
     "output_type": "execute_result"
    }
   ],
   "source": [
    "yy_adv.argmax(dim=1)"
   ]
  },
  {
   "cell_type": "code",
   "execution_count": 785,
   "metadata": {},
   "outputs": [
    {
     "data": {
      "text/plain": [
       "tensor([2])"
      ]
     },
     "execution_count": 785,
     "metadata": {},
     "output_type": "execute_result"
    }
   ],
   "source": [
    "tt"
   ]
  },
  {
   "cell_type": "code",
   "execution_count": null,
   "metadata": {},
   "outputs": [],
   "source": []
  }
 ],
 "metadata": {
  "kernelspec": {
   "display_name": "Python 3",
   "language": "python",
   "name": "python3"
  },
  "language_info": {
   "codemirror_mode": {
    "name": "ipython",
    "version": 3
   },
   "file_extension": ".py",
   "mimetype": "text/x-python",
   "name": "python",
   "nbconvert_exporter": "python",
   "pygments_lexer": "ipython3",
   "version": "3.8.5"
  }
 },
 "nbformat": 4,
 "nbformat_minor": 4
}
