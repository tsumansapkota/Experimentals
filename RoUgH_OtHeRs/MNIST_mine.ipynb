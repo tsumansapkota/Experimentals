{
 "cells": [
  {
   "cell_type": "code",
   "execution_count": 16,
   "metadata": {},
   "outputs": [],
   "source": [
    "import numpy as np\n",
    "import matplotlib.pyplot as plt\n",
    "import mylibrary.nnlib as tnn\n",
    "import mylibrary.splinelib as tsp\n",
    "import mylibrary.datasets as datasets\n",
    "%matplotlib inline"
   ]
  },
  {
   "cell_type": "code",
   "execution_count": 17,
   "metadata": {},
   "outputs": [],
   "source": [
    "mnist = datasets.MNIST()\n",
    "train_data, train_label_, test_data, test_label_ = mnist.load()"
   ]
  },
  {
   "cell_type": "code",
   "execution_count": 18,
   "metadata": {},
   "outputs": [
    {
     "data": {
      "text/plain": [
       "<matplotlib.image.AxesImage at 0x7fd354300b38>"
      ]
     },
     "execution_count": 18,
     "metadata": {},
     "output_type": "execute_result"
    },
    {
     "data": {
      "image/png": "[encoded data removed]",
      "text/plain": [
       "<Figure size 432x288 with 1 Axes>"
      ]
     },
     "metadata": {
      "needs_background": "light"
     },
     "output_type": "display_data"
    }
   ],
   "source": [
    "plt.imshow(train_data[0].reshape(28,28), cmap='gray')"
   ]
  },
  {
   "cell_type": "code",
   "execution_count": 19,
   "metadata": {},
   "outputs": [],
   "source": [
    "train_data = train_data / 255.\n",
    "test_data = test_data / 255.\n",
    "\n",
    "input_size = 784\n",
    "hidden_1 = 10\n",
    "output_size = 10\n",
    "\n",
    "learning_rate = 0.001\n",
    "batch_size = 64#300\n",
    "\n",
    "train_label = tnn.Logits.index_to_logit(train_label_)\n",
    "train_size = len(train_label)"
   ]
  },
  {
   "cell_type": "code",
   "execution_count": 29,
   "metadata": {},
   "outputs": [],
   "source": [
    "optimizer = tnn.Adam(learning_rate)\n",
    "layer1 = tnn.NonLinearLayer(input_size, hidden_1, activation=tnn.Relu(), optimizer=optimizer)\n",
    "layer2 = tnn.NonLinearLayer(hidden_1, output_size, optimizer=optimizer)\n",
    "layer3 = tnn.Softmax()"
   ]
  },
  {
   "cell_type": "code",
   "execution_count": 30,
   "metadata": {},
   "outputs": [
    {
     "name": "stdout",
     "output_type": "stream",
     "text": [
      "\n",
      "TRAIN 0 ->  2.629965704383898\n",
      "EPOCH =  0 accuracy =  6.995\n",
      "4197 / 60000\n",
      "   TEST   accuracy =  7.03\n",
      "703 / 10000\n",
      "\n",
      "TRAIN 100 ->  1.4336881486249484\n",
      "EPOCH =  0 accuracy =  52.583333333333336\n",
      "31550 / 60000\n",
      "   TEST   accuracy =  53.68000000000001\n",
      "5368 / 10000\n",
      "\n",
      "TRAIN 200 ->  0.7311171282338842\n",
      "EPOCH =  0 accuracy =  79.975\n",
      "47985 / 60000\n",
      "   TEST   accuracy =  80.96\n",
      "8096 / 10000\n",
      "\n",
      "TRAIN 300 ->  0.5625664828996675\n",
      "EPOCH =  0 accuracy =  84.5\n",
      "50700 / 60000\n",
      "   TEST   accuracy =  85.21\n",
      "8521 / 10000\n",
      "\n",
      "TRAIN 400 ->  0.43655538184930076\n",
      "EPOCH =  0 accuracy =  86.39666666666666\n",
      "51838 / 60000\n",
      "   TEST   accuracy =  86.87\n",
      "8687 / 10000\n",
      "\n",
      "TRAIN 500 ->  0.4274165722961154\n",
      "EPOCH =  0 accuracy =  87.31333333333333\n",
      "52388 / 60000\n",
      "   TEST   accuracy =  87.78\n",
      "8778 / 10000\n",
      "\n",
      "TRAIN 600 ->  0.307430441675361\n",
      "EPOCH =  0 accuracy =  88.28666666666666\n",
      "52972 / 60000\n",
      "   TEST   accuracy =  88.44\n",
      "8844 / 10000\n",
      "\n",
      "TRAIN 700 ->  0.45460393192862353\n",
      "EPOCH =  0 accuracy =  88.775\n",
      "53265 / 60000\n",
      "   TEST   accuracy =  88.85\n",
      "8885 / 10000\n",
      "\n",
      "TRAIN 800 ->  0.4010110340246933\n",
      "EPOCH =  0 accuracy =  88.97166666666666\n",
      "53383 / 60000\n",
      "   TEST   accuracy =  89.1\n",
      "8910 / 10000\n",
      "\n",
      "TRAIN 900 ->  0.5017531977369528\n",
      "EPOCH =  0 accuracy =  89.24666666666667\n",
      "53548 / 60000\n",
      "   TEST   accuracy =  89.32\n",
      "8932 / 10000\n",
      "\n",
      "TRAIN 0 ->  0.3752996181756324\n",
      "EPOCH =  1 accuracy =  88.97833333333334\n",
      "53387 / 60000\n",
      "   TEST   accuracy =  89.32\n",
      "8932 / 10000\n",
      "\n",
      "TRAIN 100 ->  0.41168825956082256\n",
      "EPOCH =  1 accuracy =  89.62333333333333\n",
      "53774 / 60000\n",
      "   TEST   accuracy =  89.95\n",
      "8995 / 10000\n",
      "\n",
      "TRAIN 200 ->  0.29420289920802933\n",
      "EPOCH =  1 accuracy =  89.69\n",
      "53814 / 60000\n",
      "   TEST   accuracy =  89.74\n",
      "8974 / 10000\n",
      "\n",
      "TRAIN 300 ->  0.42352416790060765\n",
      "EPOCH =  1 accuracy =  90.43166666666667\n",
      "54259 / 60000\n",
      "   TEST   accuracy =  90.46\n",
      "9046 / 10000\n",
      "\n",
      "TRAIN 400 ->  0.3448486939453208\n",
      "EPOCH =  1 accuracy =  90.49000000000001\n",
      "54294 / 60000\n",
      "   TEST   accuracy =  90.46\n",
      "9046 / 10000\n",
      "\n",
      "TRAIN 500 ->  0.33293986182432667\n",
      "EPOCH =  1 accuracy =  90.67333333333333\n",
      "54404 / 60000\n",
      "   TEST   accuracy =  90.98\n",
      "9098 / 10000\n",
      "\n",
      "TRAIN 600 ->  0.22580727583490934\n",
      "EPOCH =  1 accuracy =  90.97166666666666\n",
      "54583 / 60000\n",
      "   TEST   accuracy =  90.84\n",
      "9084 / 10000\n",
      "\n",
      "TRAIN 700 ->  0.40629357966251417\n",
      "EPOCH =  1 accuracy =  91.18333333333334\n",
      "54710 / 60000\n",
      "   TEST   accuracy =  91.28\n",
      "9128 / 10000\n",
      "\n",
      "TRAIN 800 ->  0.3120329941957449\n",
      "EPOCH =  1 accuracy =  91.14\n",
      "54684 / 60000\n",
      "   TEST   accuracy =  91.10000000000001\n",
      "9110 / 10000\n",
      "\n",
      "TRAIN 900 ->  0.4998459571224133\n",
      "EPOCH =  1 accuracy =  91.33666666666667\n",
      "54802 / 60000\n",
      "   TEST   accuracy =  91.2\n",
      "9120 / 10000\n",
      "\n",
      "TRAIN 0 ->  0.2637300269646304\n",
      "EPOCH =  2 accuracy =  90.92166666666667\n",
      "54553 / 60000\n",
      "   TEST   accuracy =  90.88000000000001\n",
      "9088 / 10000\n",
      "\n",
      "TRAIN 100 ->  0.3700269460513038\n",
      "EPOCH =  2 accuracy =  91.19\n",
      "54714 / 60000\n",
      "   TEST   accuracy =  91.29\n",
      "9129 / 10000\n",
      "\n",
      "TRAIN 200 ->  0.2525789576124917\n",
      "EPOCH =  2 accuracy =  90.795\n",
      "54477 / 60000\n",
      "   TEST   accuracy =  90.84\n",
      "9084 / 10000\n",
      "\n",
      "TRAIN 300 ->  0.36258178882940434\n",
      "EPOCH =  2 accuracy =  91.49166666666667\n",
      "54895 / 60000\n",
      "   TEST   accuracy =  91.29\n",
      "9129 / 10000\n",
      "\n",
      "TRAIN 400 ->  0.2990963413331706\n",
      "EPOCH =  2 accuracy =  91.64999999999999\n",
      "54990 / 60000\n",
      "   TEST   accuracy =  91.47\n",
      "9147 / 10000\n",
      "\n",
      "TRAIN 500 ->  0.3088098947081563\n",
      "EPOCH =  2 accuracy =  91.49666666666667\n",
      "54898 / 60000\n",
      "   TEST   accuracy =  91.59\n",
      "9159 / 10000\n",
      "\n",
      "TRAIN 600 ->  0.17310824572694264\n",
      "EPOCH =  2 accuracy =  91.67666666666666\n",
      "55006 / 60000\n",
      "   TEST   accuracy =  91.53\n",
      "9153 / 10000\n",
      "\n",
      "TRAIN 700 ->  0.34524821409758955\n",
      "EPOCH =  2 accuracy =  91.94666666666666\n",
      "55168 / 60000\n",
      "   TEST   accuracy =  91.94\n",
      "9194 / 10000\n",
      "\n",
      "TRAIN 800 ->  0.2898244957064997\n",
      "EPOCH =  2 accuracy =  91.84666666666666\n",
      "55108 / 60000\n",
      "   TEST   accuracy =  91.74\n",
      "9174 / 10000\n",
      "\n",
      "TRAIN 900 ->  0.4709567367711854\n",
      "EPOCH =  2 accuracy =  91.99333333333334\n",
      "55196 / 60000\n",
      "   TEST   accuracy =  91.85\n",
      "9185 / 10000\n",
      "\n",
      "TRAIN 0 ->  0.22160436011496898\n",
      "EPOCH =  3 accuracy =  91.57499999999999\n",
      "54945 / 60000\n",
      "   TEST   accuracy =  91.55\n",
      "9155 / 10000\n",
      "\n",
      "TRAIN 100 ->  0.330505106648449\n",
      "EPOCH =  3 accuracy =  91.795\n",
      "55077 / 60000\n",
      "   TEST   accuracy =  91.75\n",
      "9175 / 10000\n",
      "\n",
      "TRAIN 200 ->  0.24157795170996027\n",
      "EPOCH =  3 accuracy =  91.255\n",
      "54753 / 60000\n",
      "   TEST   accuracy =  91.03999999999999\n",
      "9104 / 10000\n",
      "\n",
      "TRAIN 300 ->  0.30711648326770313\n",
      "EPOCH =  3 accuracy =  92.00166666666667\n",
      "55201 / 60000\n",
      "   TEST   accuracy =  91.47\n",
      "9147 / 10000\n",
      "\n",
      "TRAIN 400 ->  0.30856309819509253\n",
      "EPOCH =  3 accuracy =  92.05666666666666\n",
      "55234 / 60000\n",
      "   TEST   accuracy =  91.75999999999999\n",
      "9176 / 10000\n",
      "\n",
      "TRAIN 500 ->  0.28811970511227936\n",
      "EPOCH =  3 accuracy =  92.01833333333333\n",
      "55211 / 60000\n",
      "   TEST   accuracy =  91.86999999999999\n",
      "9187 / 10000\n",
      "\n",
      "TRAIN 600 ->  0.17203365761138376\n",
      "EPOCH =  3 accuracy =  92.06333333333333\n",
      "55238 / 60000\n",
      "   TEST   accuracy =  91.94\n",
      "9194 / 10000\n",
      "\n",
      "TRAIN 700 ->  0.32792031354968865\n",
      "EPOCH =  3 accuracy =  92.28833333333334\n",
      "55373 / 60000\n",
      "   TEST   accuracy =  92.03\n",
      "9203 / 10000\n",
      "\n",
      "TRAIN 800 ->  0.2791661426578895\n",
      "EPOCH =  3 accuracy =  92.26666666666667\n",
      "55360 / 60000\n",
      "   TEST   accuracy =  91.84\n",
      "9184 / 10000\n",
      "\n",
      "TRAIN 900 ->  0.4615745585857691\n",
      "EPOCH =  3 accuracy =  92.325\n",
      "55395 / 60000\n",
      "   TEST   accuracy =  92.13\n",
      "9213 / 10000\n",
      "\n",
      "TRAIN 0 ->  0.1994749041027103\n",
      "EPOCH =  4 accuracy =  91.89333333333335\n",
      "55136 / 60000\n",
      "   TEST   accuracy =  91.79\n",
      "9179 / 10000\n",
      "\n",
      "TRAIN 100 ->  0.3297618903246958\n",
      "EPOCH =  4 accuracy =  92.09166666666667\n",
      "55255 / 60000\n",
      "   TEST   accuracy =  91.82000000000001\n",
      "9182 / 10000\n",
      "\n",
      "TRAIN 200 ->  0.22877008087889525\n",
      "EPOCH =  4 accuracy =  91.61166666666666\n",
      "54967 / 60000\n",
      "   TEST   accuracy =  91.39\n",
      "9139 / 10000\n",
      "\n",
      "TRAIN 300 ->  0.2769685802616116\n",
      "EPOCH =  4 accuracy =  92.30000000000001\n",
      "55380 / 60000\n",
      "   TEST   accuracy =  91.92\n",
      "9192 / 10000\n",
      "\n",
      "TRAIN 400 ->  0.3119811124182458\n",
      "EPOCH =  4 accuracy =  92.24166666666666\n",
      "55345 / 60000\n",
      "   TEST   accuracy =  91.86999999999999\n",
      "9187 / 10000\n",
      "\n",
      "TRAIN 500 ->  0.28916923277650775\n",
      "EPOCH =  4 accuracy =  92.38\n",
      "55428 / 60000\n",
      "   TEST   accuracy =  92.27\n",
      "9227 / 10000\n",
      "\n",
      "TRAIN 600 ->  0.18315686056498517\n",
      "EPOCH =  4 accuracy =  92.34666666666666\n",
      "55408 / 60000\n",
      "   TEST   accuracy =  91.95\n",
      "9195 / 10000\n",
      "\n",
      "TRAIN 700 ->  0.31426356904519526\n",
      "EPOCH =  4 accuracy =  92.51333333333334\n",
      "55508 / 60000\n",
      "   TEST   accuracy =  92.21000000000001\n",
      "9221 / 10000\n",
      "\n",
      "TRAIN 800 ->  0.2610051305164254\n",
      "EPOCH =  4 accuracy =  92.44666666666667\n",
      "55468 / 60000\n",
      "   TEST   accuracy =  92.04\n",
      "9204 / 10000\n",
      "\n",
      "TRAIN 900 ->  0.45476307613714484\n",
      "EPOCH =  4 accuracy =  92.51166666666667\n",
      "55507 / 60000\n",
      "   TEST   accuracy =  92.21000000000001\n",
      "9221 / 10000\n"
     ]
    }
   ],
   "source": [
    "accuracy_list = []\n",
    "for epoch in range(5):\n",
    "    for index in range(train_size // batch_size):\n",
    "        train_x = train_data[index * batch_size:(index + 1) * batch_size]\n",
    "        train_y = train_label[index * batch_size:(index + 1) * batch_size]\n",
    "\n",
    "        a1 = layer1.forward(train_x)\n",
    "        a2 = layer2.forward(a1)\n",
    "        yout = layer3.forward(a2)\n",
    "\n",
    "        dy = tnn.CrossEntropyLoss.del_loss(yout, train_y)\n",
    "        loss = tnn.CrossEntropyLoss.loss(yout, train_y)\n",
    "\n",
    "        da2 = layer3.backward(dy)\n",
    "        da1 = layer2.backward(da2)\n",
    "        dx = layer1.backward(da1)\n",
    "\n",
    "        layer1.update()\n",
    "        layer2.update()\n",
    "        layer3.update()\n",
    "        \n",
    "        if index % 100 == 0:\n",
    "            \n",
    "            print('\\nTRAIN',index, '-> ', loss)\n",
    "            a1 = layer1.forward(train_data)\n",
    "            a2 = layer2.forward(a1)\n",
    "            yout = layer3.forward(a2)\n",
    "            outputs = tnn.Logits.logit_to_index(yout)\n",
    "            correct = (outputs == np.array(train_label_)).sum()\n",
    "\n",
    "            accuracy = correct / len(train_label_) * 100.\n",
    "            print('EPOCH = ',epoch,'accuracy = ', accuracy)\n",
    "            print(correct, '/', len(train_label_))\n",
    "            \n",
    "            a1 = layer1.forward(test_data)\n",
    "            a2 = layer2.forward(a1)\n",
    "            yout = layer3.forward(a2)\n",
    "            outputs = tnn.Logits.logit_to_index(yout)\n",
    "            correct = (outputs == np.array(test_label_)).sum()\n",
    "\n",
    "            accuracy = correct / len(test_label_) * 100.\n",
    "            print('   TEST  ','accuracy = ', accuracy)\n",
    "            print(correct, '/', len(test_label_))            "
   ]
  },
  {
   "cell_type": "code",
   "execution_count": 31,
   "metadata": {},
   "outputs": [],
   "source": [
    "a1 = layer1.forward(train_data)\n",
    "a2 = layer2.forward(a1)\n",
    "yout = layer3.forward(a2)\n",
    "\n",
    "dy = tnn.CrossEntropyLoss.del_loss(yout, train_label)\n",
    "loss = tnn.CrossEntropyLoss.loss(yout, train_label)\n",
    "\n",
    "da2 = layer3.backward(dy)\n",
    "da1 = layer2.backward(da2)\n",
    "dx = layer1.backward(da1)"
   ]
  },
  {
   "cell_type": "code",
   "execution_count": 32,
   "metadata": {},
   "outputs": [
    {
     "data": {
      "text/plain": [
       "((60000, 10), (60000, 10))"
      ]
     },
     "execution_count": 32,
     "metadata": {},
     "output_type": "execute_result"
    }
   ],
   "source": [
    "layer2.input.shape, layer2.output.shape"
   ]
  },
  {
   "cell_type": "code",
   "execution_count": 56,
   "metadata": {},
   "outputs": [],
   "source": [
    "i=0"
   ]
  },
  {
   "cell_type": "code",
   "execution_count": 63,
   "metadata": {},
   "outputs": [
    {
     "name": "stdout",
     "output_type": "stream",
     "text": [
      "6\n"
     ]
    },
    {
     "data": {
      "image/png": "[encoded data removed]",
      "text/plain": [
       "<Figure size 432x288 with 1 Axes>"
      ]
     },
     "metadata": {
      "needs_background": "light"
     },
     "output_type": "display_data"
    }
   ],
   "source": [
    "do2 = layer2.del_weights\n",
    "plt.plot(do2)\n",
    "print(i)\n",
    "i+=1"
   ]
  },
  {
   "cell_type": "code",
   "execution_count": 68,
   "metadata": {},
   "outputs": [
    {
     "data": {
      "text/plain": [
       "array([ 4.74669564e-05,  2.03906060e-04, -1.52414316e-05, -7.61189433e-06,\n",
       "        9.57453402e-05,  1.48078199e-04,  1.11573722e-05,  6.25528951e-05,\n",
       "        1.53335287e-04,  1.12949821e-04])"
      ]
     },
     "execution_count": 68,
     "metadata": {},
     "output_type": "execute_result"
    }
   ],
   "source": [
    "layer2.del_weights.mean(axis=1)"
   ]
  },
  {
   "cell_type": "code",
   "execution_count": null,
   "metadata": {},
   "outputs": [],
   "source": []
  },
  {
   "cell_type": "code",
   "execution_count": 53,
   "metadata": {},
   "outputs": [
    {
     "name": "stdout",
     "output_type": "stream",
     "text": [
      "9\n"
     ]
    },
    {
     "data": {
      "image/png": "[encoded data removed]",
      "text/plain": [
       "<Figure size 432x288 with 1 Axes>"
      ]
     },
     "metadata": {
      "needs_background": "light"
     },
     "output_type": "display_data"
    }
   ],
   "source": [
    "a1 = layer2.input\n",
    "a2 = layer2.output\n",
    "a2_ = layer2.output - layer2.del_output\n",
    "plt.scatter(a1[:, i], a2_[:, i], marker='.')\n",
    "plt.scatter(a1[:, i], a2[:, i], marker='.')\n",
    "print(i)\n",
    "# i+=1"
   ]
  },
  {
   "cell_type": "code",
   "execution_count": 39,
   "metadata": {},
   "outputs": [
    {
     "data": {
      "text/plain": [
       "(0.14814814767250553, 4.171502566223324e-05, -0.1481481386225144)"
      ]
     },
     "execution_count": 39,
     "metadata": {},
     "output_type": "execute_result"
    }
   ],
   "source": [
    "layer2.del_output.max(), layer2.del_output.mean(), layer2.del_output.min(), "
   ]
  },
  {
   "cell_type": "code",
   "execution_count": 52,
   "metadata": {},
   "outputs": [
    {
     "name": "stdout",
     "output_type": "stream",
     "text": [
      "8\n"
     ]
    },
    {
     "data": {
      "image/png": "[encoded data removed]",
      "text/plain": [
       "<Figure size 432x288 with 1 Axes>"
      ]
     },
     "metadata": {
      "needs_background": "light"
     },
     "output_type": "display_data"
    }
   ],
   "source": [
    "a1 = layer1.input\n",
    "a2 = layer1.output\n",
    "a2_ = layer1.output - layer1.del_output\n",
    "plt.scatter(a1[:, i], a2_[:, i], marker='.')\n",
    "plt.scatter(a1[:, i], a2[:, i], marker='.')\n",
    "print(i)\n",
    "i+=1"
   ]
  },
  {
   "cell_type": "code",
   "execution_count": 45,
   "metadata": {},
   "outputs": [
    {
     "data": {
      "text/plain": [
       "1.0"
      ]
     },
     "execution_count": 45,
     "metadata": {},
     "output_type": "execute_result"
    }
   ],
   "source": [
    "layer1.input.max()"
   ]
  },
  {
   "cell_type": "code",
   "execution_count": 41,
   "metadata": {},
   "outputs": [
    {
     "data": {
      "text/plain": [
       "(0.3176605364316483, -6.623072000699156e-05, -0.3196508246601491)"
      ]
     },
     "execution_count": 41,
     "metadata": {},
     "output_type": "execute_result"
    }
   ],
   "source": [
    "layer1.del_output.max(), layer1.del_output.mean(), layer1.del_output.min(), "
   ]
  },
  {
   "cell_type": "markdown",
   "metadata": {},
   "source": [
    "## Using large number of spline units"
   ]
  },
  {
   "cell_type": "code",
   "execution_count": 13,
   "metadata": {},
   "outputs": [],
   "source": [
    "# optimizer = tnn.Adam(learning_rate)\n",
    "# layer1 = tnn.LinearLayer(input_size, hidden_1, optimizer=optimizer)\n",
    "# layer2 = spline.SplineVectorLayer(hidden_1, max_points=7)  # 2 -> Linear; 3 -> DoubleRelu\n",
    "# layer3 = tnn.NonLinearLayer(hidden_1, output_size, activation=tnn.Softmax(), optimizer=optimizer)\n",
    "\n",
    "# accuracy_list = []\n",
    "# for epoch in range(20):\n",
    "#     for index in range(train_size // batch_size):\n",
    "#         train_x = train_data[index * batch_size:(index + 1) * batch_size]\n",
    "#         train_y = train_label[index * batch_size:(index + 1) * batch_size]\n",
    "\n",
    "#         a1 = layer1.forward(train_x)\n",
    "#         a2 = layer2.forward(a1)\n",
    "#         yout = layer3.forward(a2)\n",
    "\n",
    "#         dy = tnn.CrossEntropyLoss.del_loss(yout, train_y)\n",
    "#         loss = tnn.CrossEntropyLoss.loss(yout, train_y)\n",
    "\n",
    "#         da2 = layer3.backward(dy)\n",
    "#         da1 = layer2.backward(da2)\n",
    "#         dx = layer1.backward(da1)\n",
    "\n",
    "#         layer1.update()\n",
    "#         layer2.update(learning_rate=0.1)\n",
    "#         layer3.update()\n",
    "        \n",
    "#         if index % 100 == 0:\n",
    "#             layer2._maintain_good_spline_()\n",
    "            \n",
    "#             print('\\nTRAIN',index, '-> ', loss)\n",
    "#             a1 = layer1.forward(train_data)\n",
    "#             a2 = layer2.forward(a1)\n",
    "#             yout = layer3.forward(a2)\n",
    "#             outputs = tnn.Logits.logit_to_index(yout)\n",
    "#             correct = (outputs == np.array(train_label_)).sum()\n",
    "\n",
    "#             accuracy = correct / len(train_label_) * 100.\n",
    "#             print('EPOCH = ',epoch,'accuracy = ', accuracy)\n",
    "#             print(correct, '/', len(train_label_))\n",
    "            \n",
    "#             a1 = layer1.forward(test_data)\n",
    "#             a2 = layer2.forward(a1)\n",
    "#             yout = layer3.forward(a2)\n",
    "#             outputs = tnn.Logits.logit_to_index(yout)\n",
    "#             correct = (outputs == np.array(test_label_)).sum()\n",
    "\n",
    "#             accuracy = correct / len(test_label_) * 100.\n",
    "#             print('   TEST  ','accuracy = ', accuracy)\n",
    "#             print(correct, '/', len(test_label_))            "
   ]
  },
  {
   "cell_type": "code",
   "execution_count": 14,
   "metadata": {},
   "outputs": [],
   "source": [
    "# a1 = layer1.forward(train_data)\n",
    "# a2 = layer2.forward(a1)\n",
    "# yout = layer3.forward(a2)\n",
    "\n",
    "# dy = tnn.CrossEntropyLoss.del_loss(yout, train_label)\n",
    "# loss = tnn.CrossEntropyLoss.loss(yout, train_label)\n",
    "\n",
    "# da2 = layer3.backward(dy)\n",
    "# da1 = layer2.backward(da2)\n",
    "# dx = layer1.backward(da1)"
   ]
  },
  {
   "cell_type": "code",
   "execution_count": 15,
   "metadata": {},
   "outputs": [],
   "source": [
    "# i=0\n",
    "# layer2.input.shape, layer2.output.shape"
   ]
  },
  {
   "cell_type": "code",
   "execution_count": 16,
   "metadata": {},
   "outputs": [],
   "source": [
    "# a1 = layer2.input\n",
    "# a2 = layer2.output\n",
    "# a2_ = layer2.output - layer2.del_output\n",
    "# plt.scatter(a1[:, i], a2_[:, i], marker='.')\n",
    "# plt.scatter(a1[:, i], a2[:, i], marker='.')\n",
    "# print(i)\n",
    "# i+=1"
   ]
  },
  {
   "cell_type": "code",
   "execution_count": 17,
   "metadata": {},
   "outputs": [],
   "source": [
    "# layer2.del_output.max()"
   ]
  },
  {
   "cell_type": "code",
   "execution_count": null,
   "metadata": {},
   "outputs": [],
   "source": []
  }
 ],
 "metadata": {
  "kernelspec": {
   "display_name": "Python 3",
   "language": "python",
   "name": "python3"
  },
  "language_info": {
   "codemirror_mode": {
    "name": "ipython",
    "version": 3
   },
   "file_extension": ".py",
   "mimetype": "text/x-python",
   "name": "python",
   "nbconvert_exporter": "python",
   "pygments_lexer": "ipython3",
   "version": "3.7.3"
  }
 },
 "nbformat": 4,
 "nbformat_minor": 2
}
