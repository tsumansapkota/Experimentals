{
 "cells": [
  {
   "cell_type": "code",
   "execution_count": 1,
   "metadata": {},
   "outputs": [],
   "source": [
    "import numpy as np\n",
    "import matplotlib.pyplot as plt\n",
    "import mylibrary.nnlib as tnn"
   ]
  },
  {
   "cell_type": "code",
   "execution_count": 3,
   "metadata": {},
   "outputs": [
    {
     "data": {
      "image/png": "[encoded data removed]",
      "text/plain": [
       "<Figure size 432x288 with 1 Axes>"
      ]
     },
     "metadata": {
      "needs_background": "light"
     },
     "output_type": "display_data"
    }
   ],
   "source": [
    "x = np.linspace(0,1,300)\n",
    "noise = np.random.normal(0,0.02, x.shape)\n",
    "x = x + noise\n",
    "x = np.sort(x)\n",
    "\n",
    "y= (2 * np.sin(10*x) + np.cos(20 * x - 3) + 3 * np.log(10*x + 0.5) - 4)/6.\n",
    "noise = np.random.normal(0,0.1, x.shape)\n",
    "y = y + noise\n",
    "\n",
    "x = x*2\n",
    "x = x - x.mean() # good practice to zero-center x in linear mapping\n",
    "xx = x.reshape(-1,1)\n",
    "yy = y.reshape(-1,1)\n",
    "\n",
    "%matplotlib inline\n",
    "plt.scatter(x, y, marker='.', color='g')\n",
    "plt.show()"
   ]
  },
  {
   "cell_type": "code",
   "execution_count": 161,
   "metadata": {},
   "outputs": [],
   "source": [
    "n_hidden = 1\n",
    "optimizer = tnn.Adam()\n",
    "\n",
    "net = tnn.AutoForm(new_layers=True)\n",
    "layer1 = tnn.NonLinearLayer(1, n_hidden, activation=tnn.Relu(), optimizer=optimizer)\n",
    "layer2 = tnn.LinearLayer(n_hidden, 1, optimizer=optimizer)"
   ]
  },
  {
   "cell_type": "code",
   "execution_count": 162,
   "metadata": {},
   "outputs": [
    {
     "name": "stdout",
     "output_type": "stream",
     "text": [
      "_______________________\n",
      "epoch 0\n",
      "Loss 0.2982268203547467\n",
      "\n",
      "_______________________\n",
      "epoch 100\n",
      "Loss 0.06153089398290706\n",
      "\n",
      "_______________________\n",
      "epoch 200\n",
      "Loss 0.052703774937406835\n",
      "\n",
      "_______________________\n",
      "epoch 300\n",
      "Loss 0.048165110551660346\n",
      "\n",
      "_______________________\n",
      "epoch 400\n",
      "Loss 0.04699809597558174\n",
      "\n",
      "_______________________\n",
      "epoch 500\n",
      "Loss 0.04692447332649719\n",
      "\n",
      "_______________________\n",
      "epoch 600\n",
      "Loss 0.04692438525524131\n",
      "\n",
      "_______________________\n",
      "epoch 700\n",
      "Loss 0.04692438813300527\n",
      "\n",
      "_______________________\n",
      "epoch 800\n",
      "Loss 0.04692438266445964\n",
      "\n",
      "_______________________\n",
      "epoch 900\n",
      "Loss 0.046924394174798136\n",
      "\n",
      "_______________________\n",
      "epoch 1000\n",
      "Loss 0.04692438499669971\n",
      "\n",
      "_______________________\n",
      "epoch 1100\n",
      "Loss 0.0469243927952202\n",
      "\n",
      "_______________________\n",
      "epoch 1200\n",
      "Loss 0.04692439136277965\n",
      "\n",
      "_______________________\n",
      "epoch 1300\n",
      "Loss 0.046924383908234175\n",
      "\n",
      "_______________________\n",
      "epoch 1400\n",
      "Loss 0.04692439142713959\n",
      "\n",
      "_______________________\n",
      "epoch 1500\n",
      "Loss 0.04692439212653097\n",
      "\n",
      "_______________________\n",
      "epoch 1600\n",
      "Loss 0.04692438567625958\n",
      "\n",
      "_______________________\n",
      "epoch 1700\n",
      "Loss 0.046924391943463636\n",
      "\n",
      "_______________________\n",
      "epoch 1800\n",
      "Loss 0.04692440863321726\n",
      "\n",
      "_______________________\n",
      "epoch 1900\n",
      "Loss 0.04692438678352446\n",
      "\n",
      "_______________________\n",
      "epoch 2000\n",
      "Loss 0.04692439907156477\n",
      "\n",
      "_______________________\n",
      "epoch 2100\n",
      "Loss 0.04692439771935468\n",
      "\n",
      "_______________________\n",
      "epoch 2200\n",
      "Loss 0.04692440524986838\n",
      "\n",
      "_______________________\n",
      "epoch 2300\n",
      "Loss 0.04692440883747586\n",
      "\n",
      "_______________________\n",
      "epoch 2400\n",
      "Loss 0.04692438955750055\n",
      "\n",
      "_______________________\n",
      "epoch 2500\n",
      "Loss 0.04692439324596012\n",
      "\n",
      "_______________________\n",
      "epoch 2600\n",
      "Loss 0.04692440143588698\n",
      "\n",
      "_______________________\n",
      "epoch 2700\n",
      "Loss 0.04692438670245992\n",
      "\n",
      "_______________________\n",
      "epoch 2800\n",
      "Loss 0.04692438796191839\n",
      "\n",
      "_______________________\n",
      "epoch 2900\n",
      "Loss 0.04692441279111188\n",
      "\n",
      "_______________________\n",
      "epoch 3000\n",
      "Loss 0.04692442360748756\n",
      "\n",
      "_______________________\n",
      "epoch 3100\n",
      "Loss 0.04692444807666667\n",
      "\n",
      "_______________________\n",
      "epoch 3200\n",
      "Loss 0.046924386619643335\n",
      "\n",
      "_______________________\n",
      "epoch 3300\n",
      "Loss 0.046924406645100114\n",
      "\n",
      "_______________________\n",
      "epoch 3400\n",
      "Loss 0.04692438536792667\n",
      "\n",
      "_______________________\n",
      "epoch 3500\n",
      "Loss 0.04692439154131859\n",
      "\n",
      "_______________________\n",
      "epoch 3600\n",
      "Loss 0.04692439858740432\n",
      "\n",
      "_______________________\n",
      "epoch 3700\n",
      "Loss 0.046924432778180834\n",
      "\n",
      "_______________________\n",
      "epoch 3800\n",
      "Loss 0.04692438634327471\n",
      "\n",
      "_______________________\n",
      "epoch 3900\n",
      "Loss 0.04692440960887757\n",
      "\n",
      "_______________________\n",
      "epoch 4000\n",
      "Loss 0.0469244530954055\n",
      "\n",
      "_______________________\n",
      "epoch 4100\n",
      "Loss 0.04692439560808928\n",
      "\n",
      "_______________________\n",
      "epoch 4200\n",
      "Loss 0.04692445901717214\n",
      "\n",
      "_______________________\n",
      "epoch 4300\n",
      "Loss 0.04692439248187603\n",
      "\n",
      "_______________________\n",
      "epoch 4400\n",
      "Loss 0.04692448859776545\n",
      "\n",
      "_______________________\n",
      "epoch 4500\n",
      "Loss 0.04692447138846493\n",
      "\n",
      "_______________________\n",
      "epoch 4600\n",
      "Loss 0.0469244069867672\n",
      "\n",
      "_______________________\n",
      "epoch 4700\n",
      "Loss 0.04692446629960181\n",
      "\n",
      "_______________________\n",
      "epoch 4800\n",
      "Loss 0.046924474199445815\n",
      "\n",
      "_______________________\n",
      "epoch 4900\n",
      "Loss 0.04692443268596457\n",
      "\n",
      "_______________________\n",
      "epoch 5000\n",
      "Loss 0.04692442327038437\n",
      "\n",
      "_______________________\n",
      "epoch 5100\n",
      "Loss 0.046924412867512685\n",
      "\n",
      "_______________________\n",
      "epoch 5200\n",
      "Loss 0.04692442092257333\n",
      "\n",
      "_______________________\n",
      "epoch 5300\n",
      "Loss 0.04692442987614125\n",
      "\n",
      "_______________________\n",
      "epoch 5400\n",
      "Loss 0.04692442040043468\n",
      "\n",
      "_______________________\n",
      "epoch 5500\n",
      "Loss 0.04692449331260221\n",
      "\n",
      "_______________________\n",
      "epoch 5600\n",
      "Loss 0.04692444474907749\n",
      "\n",
      "_______________________\n",
      "epoch 5700\n",
      "Loss 0.04692441874922613\n",
      "\n",
      "_______________________\n",
      "epoch 5800\n",
      "Loss 0.04692454103026101\n",
      "\n",
      "_______________________\n",
      "epoch 5900\n",
      "Loss 0.046924491644120075\n",
      "\n",
      "_______________________\n",
      "epoch 6000\n",
      "Loss 0.04692442166599436\n",
      "\n",
      "_______________________\n",
      "epoch 6100\n",
      "Loss 0.04692471041605177\n",
      "\n",
      "_______________________\n",
      "epoch 6200\n",
      "Loss 0.04692449809722779\n",
      "\n",
      "_______________________\n",
      "epoch 6300\n",
      "Loss 0.04692459842595649\n",
      "\n",
      "_______________________\n",
      "epoch 6400\n",
      "Loss 0.046924495271248236\n",
      "\n",
      "_______________________\n",
      "epoch 6500\n",
      "Loss 0.04692444910418148\n",
      "\n",
      "_______________________\n",
      "epoch 6600\n",
      "Loss 0.0469245622260323\n",
      "\n",
      "_______________________\n",
      "epoch 6700\n",
      "Loss 0.04692464510805087\n",
      "\n",
      "_______________________\n",
      "epoch 6800\n",
      "Loss 0.04692449387819109\n",
      "\n",
      "_______________________\n",
      "epoch 6900\n",
      "Loss 0.04692457544762864\n",
      "\n",
      "_______________________\n",
      "epoch 7000\n",
      "Loss 0.046924660697759024\n"
     ]
    },
    {
     "ename": "TclError",
     "evalue": "invalid command name \"pyimage613\"",
     "output_type": "error",
     "traceback": [
      "\u001b[0;31m---------------------------------------------------------------------------\u001b[0m",
      "\u001b[0;31mTclError\u001b[0m                                  Traceback (most recent call last)",
      "\u001b[0;32m<ipython-input-162-f8deea821b2d>\u001b[0m in \u001b[0;36m<module>\u001b[0;34m\u001b[0m\n\u001b[1;32m     30\u001b[0m         \u001b[0mplt\u001b[0m\u001b[0;34m.\u001b[0m\u001b[0mlegend\u001b[0m\u001b[0;34m(\u001b[0m\u001b[0;34m)\u001b[0m\u001b[0;34m\u001b[0m\u001b[0;34m\u001b[0m\u001b[0m\n\u001b[1;32m     31\u001b[0m \u001b[0;34m\u001b[0m\u001b[0m\n\u001b[0;32m---> 32\u001b[0;31m         \u001b[0mfig\u001b[0m\u001b[0;34m.\u001b[0m\u001b[0mcanvas\u001b[0m\u001b[0;34m.\u001b[0m\u001b[0mdraw\u001b[0m\u001b[0;34m(\u001b[0m\u001b[0;34m)\u001b[0m\u001b[0;34m\u001b[0m\u001b[0;34m\u001b[0m\u001b[0m\n\u001b[0m\u001b[1;32m     33\u001b[0m \u001b[0;34m\u001b[0m\u001b[0m\n\u001b[1;32m     34\u001b[0m         \u001b[0mplt\u001b[0m\u001b[0;34m.\u001b[0m\u001b[0mpause\u001b[0m\u001b[0;34m(\u001b[0m\u001b[0;36m0.01\u001b[0m\u001b[0;34m)\u001b[0m\u001b[0;34m\u001b[0m\u001b[0;34m\u001b[0m\u001b[0m\n",
      "\u001b[0;32m~/Program_Files/miniconda3.7/lib/python3.7/site-packages/matplotlib/backends/backend_tkagg.py\u001b[0m in \u001b[0;36mdraw\u001b[0;34m(self)\u001b[0m\n\u001b[1;32m      8\u001b[0m     \u001b[0;32mdef\u001b[0m \u001b[0mdraw\u001b[0m\u001b[0;34m(\u001b[0m\u001b[0mself\u001b[0m\u001b[0;34m)\u001b[0m\u001b[0;34m:\u001b[0m\u001b[0;34m\u001b[0m\u001b[0;34m\u001b[0m\u001b[0m\n\u001b[1;32m      9\u001b[0m         \u001b[0msuper\u001b[0m\u001b[0;34m(\u001b[0m\u001b[0mFigureCanvasTkAgg\u001b[0m\u001b[0;34m,\u001b[0m \u001b[0mself\u001b[0m\u001b[0;34m)\u001b[0m\u001b[0;34m.\u001b[0m\u001b[0mdraw\u001b[0m\u001b[0;34m(\u001b[0m\u001b[0;34m)\u001b[0m\u001b[0;34m\u001b[0m\u001b[0;34m\u001b[0m\u001b[0m\n\u001b[0;32m---> 10\u001b[0;31m         \u001b[0m_backend_tk\u001b[0m\u001b[0;34m.\u001b[0m\u001b[0mblit\u001b[0m\u001b[0;34m(\u001b[0m\u001b[0mself\u001b[0m\u001b[0;34m.\u001b[0m\u001b[0m_tkphoto\u001b[0m\u001b[0;34m,\u001b[0m \u001b[0mself\u001b[0m\u001b[0;34m.\u001b[0m\u001b[0mrenderer\u001b[0m\u001b[0;34m.\u001b[0m\u001b[0m_renderer\u001b[0m\u001b[0;34m,\u001b[0m \u001b[0;34m(\u001b[0m\u001b[0;36m0\u001b[0m\u001b[0;34m,\u001b[0m \u001b[0;36m1\u001b[0m\u001b[0;34m,\u001b[0m \u001b[0;36m2\u001b[0m\u001b[0;34m,\u001b[0m \u001b[0;36m3\u001b[0m\u001b[0;34m)\u001b[0m\u001b[0;34m)\u001b[0m\u001b[0;34m\u001b[0m\u001b[0;34m\u001b[0m\u001b[0m\n\u001b[0m\u001b[1;32m     11\u001b[0m         \u001b[0mself\u001b[0m\u001b[0;34m.\u001b[0m\u001b[0m_master\u001b[0m\u001b[0;34m.\u001b[0m\u001b[0mupdate_idletasks\u001b[0m\u001b[0;34m(\u001b[0m\u001b[0;34m)\u001b[0m\u001b[0;34m\u001b[0m\u001b[0;34m\u001b[0m\u001b[0m\n\u001b[1;32m     12\u001b[0m \u001b[0;34m\u001b[0m\u001b[0m\n",
      "\u001b[0;32m~/Program_Files/miniconda3.7/lib/python3.7/site-packages/matplotlib/backends/_backend_tk.py\u001b[0m in \u001b[0;36mblit\u001b[0;34m(photoimage, aggimage, offsets, bbox)\u001b[0m\n\u001b[1;32m     86\u001b[0m                    math.floor(y1), math.ceil(y2))\n\u001b[1;32m     87\u001b[0m     \u001b[0;32melse\u001b[0m\u001b[0;34m:\u001b[0m\u001b[0;34m\u001b[0m\u001b[0;34m\u001b[0m\u001b[0m\n\u001b[0;32m---> 88\u001b[0;31m         \u001b[0mphotoimage\u001b[0m\u001b[0;34m.\u001b[0m\u001b[0mblank\u001b[0m\u001b[0;34m(\u001b[0m\u001b[0;34m)\u001b[0m\u001b[0;34m\u001b[0m\u001b[0;34m\u001b[0m\u001b[0m\n\u001b[0m\u001b[1;32m     89\u001b[0m         \u001b[0mbboxptr\u001b[0m \u001b[0;34m=\u001b[0m \u001b[0;34m(\u001b[0m\u001b[0;36m0\u001b[0m\u001b[0;34m,\u001b[0m \u001b[0mwidth\u001b[0m\u001b[0;34m,\u001b[0m \u001b[0;36m0\u001b[0m\u001b[0;34m,\u001b[0m \u001b[0mheight\u001b[0m\u001b[0;34m)\u001b[0m\u001b[0;34m\u001b[0m\u001b[0;34m\u001b[0m\u001b[0m\n\u001b[1;32m     90\u001b[0m     _tkagg.blit(\n",
      "\u001b[0;32m~/Program_Files/miniconda3.7/lib/python3.7/tkinter/__init__.py\u001b[0m in \u001b[0;36mblank\u001b[0;34m(self)\u001b[0m\n\u001b[1;32m   3546\u001b[0m     \u001b[0;32mdef\u001b[0m \u001b[0mblank\u001b[0m\u001b[0;34m(\u001b[0m\u001b[0mself\u001b[0m\u001b[0;34m)\u001b[0m\u001b[0;34m:\u001b[0m\u001b[0;34m\u001b[0m\u001b[0;34m\u001b[0m\u001b[0m\n\u001b[1;32m   3547\u001b[0m         \u001b[0;34m\"\"\"Display a transparent image.\"\"\"\u001b[0m\u001b[0;34m\u001b[0m\u001b[0;34m\u001b[0m\u001b[0m\n\u001b[0;32m-> 3548\u001b[0;31m         \u001b[0mself\u001b[0m\u001b[0;34m.\u001b[0m\u001b[0mtk\u001b[0m\u001b[0;34m.\u001b[0m\u001b[0mcall\u001b[0m\u001b[0;34m(\u001b[0m\u001b[0mself\u001b[0m\u001b[0;34m.\u001b[0m\u001b[0mname\u001b[0m\u001b[0;34m,\u001b[0m \u001b[0;34m'blank'\u001b[0m\u001b[0;34m)\u001b[0m\u001b[0;34m\u001b[0m\u001b[0;34m\u001b[0m\u001b[0m\n\u001b[0m\u001b[1;32m   3549\u001b[0m     \u001b[0;32mdef\u001b[0m \u001b[0mcget\u001b[0m\u001b[0;34m(\u001b[0m\u001b[0mself\u001b[0m\u001b[0;34m,\u001b[0m \u001b[0moption\u001b[0m\u001b[0;34m)\u001b[0m\u001b[0;34m:\u001b[0m\u001b[0;34m\u001b[0m\u001b[0;34m\u001b[0m\u001b[0m\n\u001b[1;32m   3550\u001b[0m         \u001b[0;34m\"\"\"Return the value of OPTION.\"\"\"\u001b[0m\u001b[0;34m\u001b[0m\u001b[0;34m\u001b[0m\u001b[0m\n",
      "\u001b[0;31mTclError\u001b[0m: invalid command name \"pyimage613\""
     ]
    },
    {
     "data": {
      "image/png": "[encoded data removed]",
      "text/plain": [
       "<Figure size 432x288 with 1 Axes>"
      ]
     },
     "metadata": {
      "needs_background": "light"
     },
     "output_type": "display_data"
    }
   ],
   "source": [
    "%matplotlib tk\n",
    "fig = plt.figure()\n",
    "ax = fig.add_subplot(1, 1, 1)\n",
    "\n",
    "plt.ion()\n",
    "fig.show()\n",
    "fig.canvas.draw()\n",
    "\n",
    "for step in range(100000):\n",
    "    \n",
    "    y_out = net.forward(xx)\n",
    "    loss = tnn.MseLoss.loss(y_out, yy)\n",
    "    \n",
    "    dy = tnn.MseLoss.del_loss(y_out, yy)\n",
    "    dx = net.backward(dy)\n",
    "    \n",
    "    net.update()\n",
    "    \n",
    "    if step % 100 == 0:\n",
    "\n",
    "        print('_______________________')\n",
    "        print(\"epoch\", step)\n",
    "        print(\"Loss\", loss)\n",
    "\n",
    "        ax.clear()\n",
    "        plt.scatter(x, y, marker='.', color='g', label='x,y')\n",
    "        \n",
    "        plt.plot(x, y_out, c='r', lw=2, label='x,y_out')\n",
    "        plt.plot(x, np.zeros_like(x), c='y', lw=2)\n",
    "        plt.legend()\n",
    "        \n",
    "        fig.canvas.draw()\n",
    "        \n",
    "        plt.pause(0.01)\n",
    "        print()\n",
    "        if loss < 0.0025:\n",
    "            print('fitted to our expectation')\n",
    "            plt.pause(50)\n",
    "            break"
   ]
  },
  {
   "cell_type": "code",
   "execution_count": 163,
   "metadata": {},
   "outputs": [
    {
     "data": {
      "text/plain": [
       "[<matplotlib.lines.Line2D at 0x7f9f850acb38>]"
      ]
     },
     "execution_count": 163,
     "metadata": {},
     "output_type": "execute_result"
    },
    {
     "data": {
      "image/png": "[encoded data removed]",
      "text/plain": [
       "<Figure size 432x288 with 1 Axes>"
      ]
     },
     "metadata": {
      "needs_background": "light"
     },
     "output_type": "display_data"
    }
   ],
   "source": [
    "%matplotlib inline\n",
    "plt.scatter(x, y, marker='.', color='g', label='x,y')\n",
    "plt.scatter(x, dy, marker='.', color='c', label='x,dy')\n",
    "\n",
    "plt.plot(x, y_out, c='r', lw=2, label='x,y_out')\n",
    "plt.plot(x, np.zeros_like(x), c='y', lw=2)"
   ]
  },
  {
   "cell_type": "code",
   "execution_count": 164,
   "metadata": {},
   "outputs": [],
   "source": [
    "outs = []\n",
    "for i in range(n_hidden):\n",
    "    out = layer1.output[:, i]*layer2.weights[i]\n",
    "    outs.append(out)"
   ]
  },
  {
   "cell_type": "code",
   "execution_count": 165,
   "metadata": {},
   "outputs": [
    {
     "data": {
      "image/png": "[encoded data removed]",
      "text/plain": [
       "<Figure size 432x288 with 1 Axes>"
      ]
     },
     "metadata": {
      "needs_background": "light"
     },
     "output_type": "display_data"
    }
   ],
   "source": [
    "plt.scatter(x, y, marker='.', color='g', label='x,y0')\n",
    "plt.plot(x, y_out, c='r', lw=2, label='x,y_out')\n",
    "plt.plot(x, np.zeros_like(x), c='g', lw=2)\n",
    "plt.plot(x, np.zeros_like(x)+layer2.bias, c='b', lw=2)\n",
    "\n",
    "for i, out in enumerate(outs):\n",
    "    plt.plot(x, out, c='m', lw=1, label=f'x,y_{i}')"
   ]
  },
  {
   "cell_type": "markdown",
   "metadata": {},
   "source": [
    "### Adding new neurons at some point with zero output "
   ]
  },
  {
   "cell_type": "code",
   "execution_count": 176,
   "metadata": {},
   "outputs": [],
   "source": [
    "from copy import deepcopy"
   ]
  },
  {
   "cell_type": "code",
   "execution_count": 177,
   "metadata": {},
   "outputs": [],
   "source": [
    "layer1c = deepcopy(layer1)\n",
    "layer2c = deepcopy(layer2)"
   ]
  },
  {
   "cell_type": "code",
   "execution_count": 186,
   "metadata": {},
   "outputs": [
    {
     "data": {
      "text/plain": [
       "array([[0.63486367, 1.        ]])"
      ]
     },
     "execution_count": 186,
     "metadata": {},
     "output_type": "execute_result"
    }
   ],
   "source": [
    "w1 = np.hstack([layer1.weights, np.array([[1]])])\n",
    "w1"
   ]
  },
  {
   "cell_type": "code",
   "execution_count": 187,
   "metadata": {},
   "outputs": [
    {
     "data": {
      "text/plain": [
       "0.5"
      ]
     },
     "execution_count": 187,
     "metadata": {},
     "output_type": "execute_result"
    }
   ],
   "source": [
    "## the boundary of the relu at zero y=wx+b,--> b=-wx\n",
    "-(-1)*(0.5)"
   ]
  },
  {
   "cell_type": "code",
   "execution_count": 188,
   "metadata": {},
   "outputs": [
    {
     "data": {
      "text/plain": [
       "array([0.21036719, 0.5       ])"
      ]
     },
     "execution_count": 188,
     "metadata": {},
     "output_type": "execute_result"
    }
   ],
   "source": [
    "b1 = np.hstack([layer1.bias, np.array([0.5])])\n",
    "b1"
   ]
  },
  {
   "cell_type": "code",
   "execution_count": 189,
   "metadata": {},
   "outputs": [
    {
     "data": {
      "text/plain": [
       "array([[1.05771024],\n",
       "       [0.        ]])"
      ]
     },
     "execution_count": 189,
     "metadata": {},
     "output_type": "execute_result"
    }
   ],
   "source": [
    "w2 = np.vstack([layer2.weights, np.array([[0]])])\n",
    "w2"
   ]
  },
  {
   "cell_type": "code",
   "execution_count": 190,
   "metadata": {},
   "outputs": [
    {
     "data": {
      "text/plain": [
       "array([-0.153453])"
      ]
     },
     "execution_count": 190,
     "metadata": {},
     "output_type": "execute_result"
    }
   ],
   "source": [
    "b2 = deepcopy(layer2.bias)\n",
    "b2"
   ]
  },
  {
   "cell_type": "code",
   "execution_count": 191,
   "metadata": {},
   "outputs": [],
   "source": [
    "## creating new network with added neuron\n",
    "optimizer = tnn.Adam()\n",
    "\n",
    "net_ = tnn.AutoForm(new_layers=True)\n",
    "layer1_ = tnn.NonLinearLayer(1, n_hidden+1, activation=tnn.Relu(),\n",
    "                             weights=w1, bias=b1,\n",
    "                             optimizer=optimizer)\n",
    "layer2_ = tnn.LinearLayer(n_hidden+1, 1,\n",
    "                          weights=w2, bias=b2,\n",
    "                          optimizer=optimizer)"
   ]
  },
  {
   "cell_type": "code",
   "execution_count": 192,
   "metadata": {},
   "outputs": [
    {
     "data": {
      "text/plain": [
       "[<matplotlib.lines.Line2D at 0x7f9f84dd23c8>]"
      ]
     },
     "execution_count": 192,
     "metadata": {},
     "output_type": "execute_result"
    },
    {
     "data": {
      "image/png": "[encoded data removed]",
      "text/plain": [
       "<Figure size 432x288 with 1 Axes>"
      ]
     },
     "metadata": {
      "needs_background": "light"
     },
     "output_type": "display_data"
    }
   ],
   "source": [
    "%matplotlib inline\n",
    "plt.scatter(x, y, marker='.', color='g', label='x,y')\n",
    "y_out = net_.forward(xx)\n",
    "plt.plot(x, y_out, c='r', lw=2, label='x,y_out')\n",
    "plt.plot(x, np.zeros_like(x), c='y', lw=2)"
   ]
  },
  {
   "cell_type": "code",
   "execution_count": 193,
   "metadata": {},
   "outputs": [
    {
     "name": "stdout",
     "output_type": "stream",
     "text": [
      "_______________________\n",
      "epoch 0\n",
      "Loss 0.04692478811766539\n",
      "\n",
      "_______________________\n",
      "epoch 10\n",
      "Loss 0.04692749266790569\n",
      "\n",
      "_______________________\n",
      "epoch 20\n",
      "Loss 0.04693006997823719\n",
      "\n",
      "_______________________\n",
      "epoch 30\n",
      "Loss 0.0469286898835152\n",
      "\n",
      "_______________________\n",
      "epoch 40\n",
      "Loss 0.04692669125575543\n",
      "\n",
      "_______________________\n",
      "epoch 50\n",
      "Loss 0.04692168190233466\n",
      "\n",
      "_______________________\n",
      "epoch 60\n",
      "Loss 0.04689738263040916\n",
      "\n",
      "_______________________\n",
      "epoch 70\n",
      "Loss 0.04635601033809433\n",
      "\n",
      "_______________________\n",
      "epoch 80\n",
      "Loss 0.045199818389698006\n",
      "\n",
      "_______________________\n",
      "epoch 90\n",
      "Loss 0.04379009677135979\n",
      "\n",
      "_______________________\n",
      "epoch 100\n",
      "Loss 0.04284816539614459\n",
      "\n",
      "_______________________\n",
      "epoch 110\n",
      "Loss 0.042419160074391\n",
      "\n",
      "_______________________\n",
      "epoch 120\n",
      "Loss 0.04230219428340087\n",
      "\n",
      "_______________________\n",
      "epoch 130\n",
      "Loss 0.0422797147024862\n",
      "\n",
      "_______________________\n",
      "epoch 140\n",
      "Loss 0.04227858957992663\n",
      "\n",
      "_______________________\n",
      "epoch 150\n",
      "Loss 0.04227937895476367\n",
      "\n",
      "_______________________\n",
      "epoch 160\n",
      "Loss 0.04227855499529437\n",
      "\n",
      "_______________________\n",
      "epoch 170\n",
      "Loss 0.04227801460684441\n",
      "\n",
      "_______________________\n",
      "epoch 180\n",
      "Loss 0.04227777870874819\n",
      "\n",
      "_______________________\n",
      "epoch 190\n",
      "Loss 0.04227777180977003\n",
      "\n",
      "_______________________\n",
      "epoch 200\n",
      "Loss 0.0422777583695474\n",
      "\n",
      "_______________________\n",
      "epoch 210\n",
      "Loss 0.04227775280317479\n",
      "\n",
      "_______________________\n",
      "epoch 220\n",
      "Loss 0.04227776304803878\n",
      "\n",
      "_______________________\n",
      "epoch 230\n",
      "Loss 0.0422777276941062\n",
      "\n",
      "_______________________\n",
      "epoch 240\n",
      "Loss 0.04227774995146487\n",
      "\n",
      "_______________________\n",
      "epoch 250\n",
      "Loss 0.042277725096689034\n",
      "\n",
      "_______________________\n",
      "epoch 260\n",
      "Loss 0.042277730537709696\n",
      "\n",
      "_______________________\n",
      "epoch 270\n",
      "Loss 0.04227774043798674\n",
      "\n",
      "_______________________\n",
      "epoch 280\n",
      "Loss 0.04227774785371762\n",
      "\n",
      "_______________________\n",
      "epoch 290\n",
      "Loss 0.042277737608636325\n",
      "\n",
      "_______________________\n",
      "epoch 300\n",
      "Loss 0.042277737041490064\n",
      "\n",
      "_______________________\n",
      "epoch 310\n",
      "Loss 0.04227780198109136\n",
      "\n",
      "_______________________\n",
      "epoch 320\n",
      "Loss 0.04227774230968233\n",
      "\n",
      "_______________________\n",
      "epoch 330\n",
      "Loss 0.04227780588078417\n",
      "\n",
      "_______________________\n",
      "epoch 340\n",
      "Loss 0.04227773542190158\n",
      "\n",
      "_______________________\n",
      "epoch 350\n",
      "Loss 0.04227773337742707\n",
      "\n",
      "_______________________\n",
      "epoch 360\n",
      "Loss 0.042277752542788274\n",
      "\n",
      "_______________________\n",
      "epoch 370\n",
      "Loss 0.042277739178465445\n",
      "\n",
      "_______________________\n",
      "epoch 380\n",
      "Loss 0.042277743888100495\n",
      "\n",
      "_______________________\n",
      "epoch 390\n",
      "Loss 0.042277754628978766\n",
      "\n",
      "_______________________\n",
      "epoch 400\n",
      "Loss 0.042277728635433505\n",
      "\n",
      "_______________________\n",
      "epoch 410\n",
      "Loss 0.042277746293699785\n",
      "\n",
      "_______________________\n",
      "epoch 420\n",
      "Loss 0.042277739552683324\n",
      "\n",
      "_______________________\n",
      "epoch 430\n",
      "Loss 0.04227774886264195\n",
      "\n",
      "_______________________\n",
      "epoch 440\n",
      "Loss 0.042277781899232425\n",
      "\n",
      "_______________________\n",
      "epoch 450\n",
      "Loss 0.042277731278405506\n",
      "\n",
      "_______________________\n",
      "epoch 460\n",
      "Loss 0.04227774892381862\n",
      "\n",
      "_______________________\n",
      "epoch 470\n",
      "Loss 0.04227782202740463\n",
      "\n",
      "_______________________\n",
      "epoch 480\n",
      "Loss 0.04227781788168619\n"
     ]
    },
    {
     "ename": "TclError",
     "evalue": "invalid command name \"pyimage675\"",
     "output_type": "error",
     "traceback": [
      "\u001b[0;31m---------------------------------------------------------------------------\u001b[0m",
      "\u001b[0;31mTclError\u001b[0m                                  Traceback (most recent call last)",
      "\u001b[0;32m<ipython-input-193-1aeaec42c792>\u001b[0m in \u001b[0;36m<module>\u001b[0;34m\u001b[0m\n\u001b[1;32m     30\u001b[0m         \u001b[0mplt\u001b[0m\u001b[0;34m.\u001b[0m\u001b[0mlegend\u001b[0m\u001b[0;34m(\u001b[0m\u001b[0;34m)\u001b[0m\u001b[0;34m\u001b[0m\u001b[0;34m\u001b[0m\u001b[0m\n\u001b[1;32m     31\u001b[0m \u001b[0;34m\u001b[0m\u001b[0m\n\u001b[0;32m---> 32\u001b[0;31m         \u001b[0mfig\u001b[0m\u001b[0;34m.\u001b[0m\u001b[0mcanvas\u001b[0m\u001b[0;34m.\u001b[0m\u001b[0mdraw\u001b[0m\u001b[0;34m(\u001b[0m\u001b[0;34m)\u001b[0m\u001b[0;34m\u001b[0m\u001b[0;34m\u001b[0m\u001b[0m\n\u001b[0m\u001b[1;32m     33\u001b[0m \u001b[0;34m\u001b[0m\u001b[0m\n\u001b[1;32m     34\u001b[0m         \u001b[0mplt\u001b[0m\u001b[0;34m.\u001b[0m\u001b[0mpause\u001b[0m\u001b[0;34m(\u001b[0m\u001b[0;36m0.01\u001b[0m\u001b[0;34m)\u001b[0m\u001b[0;34m\u001b[0m\u001b[0;34m\u001b[0m\u001b[0m\n",
      "\u001b[0;32m~/Program_Files/miniconda3.7/lib/python3.7/site-packages/matplotlib/backends/backend_tkagg.py\u001b[0m in \u001b[0;36mdraw\u001b[0;34m(self)\u001b[0m\n\u001b[1;32m      8\u001b[0m     \u001b[0;32mdef\u001b[0m \u001b[0mdraw\u001b[0m\u001b[0;34m(\u001b[0m\u001b[0mself\u001b[0m\u001b[0;34m)\u001b[0m\u001b[0;34m:\u001b[0m\u001b[0;34m\u001b[0m\u001b[0;34m\u001b[0m\u001b[0m\n\u001b[1;32m      9\u001b[0m         \u001b[0msuper\u001b[0m\u001b[0;34m(\u001b[0m\u001b[0mFigureCanvasTkAgg\u001b[0m\u001b[0;34m,\u001b[0m \u001b[0mself\u001b[0m\u001b[0;34m)\u001b[0m\u001b[0;34m.\u001b[0m\u001b[0mdraw\u001b[0m\u001b[0;34m(\u001b[0m\u001b[0;34m)\u001b[0m\u001b[0;34m\u001b[0m\u001b[0;34m\u001b[0m\u001b[0m\n\u001b[0;32m---> 10\u001b[0;31m         \u001b[0m_backend_tk\u001b[0m\u001b[0;34m.\u001b[0m\u001b[0mblit\u001b[0m\u001b[0;34m(\u001b[0m\u001b[0mself\u001b[0m\u001b[0;34m.\u001b[0m\u001b[0m_tkphoto\u001b[0m\u001b[0;34m,\u001b[0m \u001b[0mself\u001b[0m\u001b[0;34m.\u001b[0m\u001b[0mrenderer\u001b[0m\u001b[0;34m.\u001b[0m\u001b[0m_renderer\u001b[0m\u001b[0;34m,\u001b[0m \u001b[0;34m(\u001b[0m\u001b[0;36m0\u001b[0m\u001b[0;34m,\u001b[0m \u001b[0;36m1\u001b[0m\u001b[0;34m,\u001b[0m \u001b[0;36m2\u001b[0m\u001b[0;34m,\u001b[0m \u001b[0;36m3\u001b[0m\u001b[0;34m)\u001b[0m\u001b[0;34m)\u001b[0m\u001b[0;34m\u001b[0m\u001b[0;34m\u001b[0m\u001b[0m\n\u001b[0m\u001b[1;32m     11\u001b[0m         \u001b[0mself\u001b[0m\u001b[0;34m.\u001b[0m\u001b[0m_master\u001b[0m\u001b[0;34m.\u001b[0m\u001b[0mupdate_idletasks\u001b[0m\u001b[0;34m(\u001b[0m\u001b[0;34m)\u001b[0m\u001b[0;34m\u001b[0m\u001b[0;34m\u001b[0m\u001b[0m\n\u001b[1;32m     12\u001b[0m \u001b[0;34m\u001b[0m\u001b[0m\n",
      "\u001b[0;32m~/Program_Files/miniconda3.7/lib/python3.7/site-packages/matplotlib/backends/_backend_tk.py\u001b[0m in \u001b[0;36mblit\u001b[0;34m(photoimage, aggimage, offsets, bbox)\u001b[0m\n\u001b[1;32m     86\u001b[0m                    math.floor(y1), math.ceil(y2))\n\u001b[1;32m     87\u001b[0m     \u001b[0;32melse\u001b[0m\u001b[0;34m:\u001b[0m\u001b[0;34m\u001b[0m\u001b[0;34m\u001b[0m\u001b[0m\n\u001b[0;32m---> 88\u001b[0;31m         \u001b[0mphotoimage\u001b[0m\u001b[0;34m.\u001b[0m\u001b[0mblank\u001b[0m\u001b[0;34m(\u001b[0m\u001b[0;34m)\u001b[0m\u001b[0;34m\u001b[0m\u001b[0;34m\u001b[0m\u001b[0m\n\u001b[0m\u001b[1;32m     89\u001b[0m         \u001b[0mbboxptr\u001b[0m \u001b[0;34m=\u001b[0m \u001b[0;34m(\u001b[0m\u001b[0;36m0\u001b[0m\u001b[0;34m,\u001b[0m \u001b[0mwidth\u001b[0m\u001b[0;34m,\u001b[0m \u001b[0;36m0\u001b[0m\u001b[0;34m,\u001b[0m \u001b[0mheight\u001b[0m\u001b[0;34m)\u001b[0m\u001b[0;34m\u001b[0m\u001b[0;34m\u001b[0m\u001b[0m\n\u001b[1;32m     90\u001b[0m     _tkagg.blit(\n",
      "\u001b[0;32m~/Program_Files/miniconda3.7/lib/python3.7/tkinter/__init__.py\u001b[0m in \u001b[0;36mblank\u001b[0;34m(self)\u001b[0m\n\u001b[1;32m   3546\u001b[0m     \u001b[0;32mdef\u001b[0m \u001b[0mblank\u001b[0m\u001b[0;34m(\u001b[0m\u001b[0mself\u001b[0m\u001b[0;34m)\u001b[0m\u001b[0;34m:\u001b[0m\u001b[0;34m\u001b[0m\u001b[0;34m\u001b[0m\u001b[0m\n\u001b[1;32m   3547\u001b[0m         \u001b[0;34m\"\"\"Display a transparent image.\"\"\"\u001b[0m\u001b[0;34m\u001b[0m\u001b[0;34m\u001b[0m\u001b[0m\n\u001b[0;32m-> 3548\u001b[0;31m         \u001b[0mself\u001b[0m\u001b[0;34m.\u001b[0m\u001b[0mtk\u001b[0m\u001b[0;34m.\u001b[0m\u001b[0mcall\u001b[0m\u001b[0;34m(\u001b[0m\u001b[0mself\u001b[0m\u001b[0;34m.\u001b[0m\u001b[0mname\u001b[0m\u001b[0;34m,\u001b[0m \u001b[0;34m'blank'\u001b[0m\u001b[0;34m)\u001b[0m\u001b[0;34m\u001b[0m\u001b[0;34m\u001b[0m\u001b[0m\n\u001b[0m\u001b[1;32m   3549\u001b[0m     \u001b[0;32mdef\u001b[0m \u001b[0mcget\u001b[0m\u001b[0;34m(\u001b[0m\u001b[0mself\u001b[0m\u001b[0;34m,\u001b[0m \u001b[0moption\u001b[0m\u001b[0;34m)\u001b[0m\u001b[0;34m:\u001b[0m\u001b[0;34m\u001b[0m\u001b[0;34m\u001b[0m\u001b[0m\n\u001b[1;32m   3550\u001b[0m         \u001b[0;34m\"\"\"Return the value of OPTION.\"\"\"\u001b[0m\u001b[0;34m\u001b[0m\u001b[0;34m\u001b[0m\u001b[0m\n",
      "\u001b[0;31mTclError\u001b[0m: invalid command name \"pyimage675\""
     ]
    },
    {
     "data": {
      "image/png": "[encoded data removed]",
      "text/plain": [
       "<Figure size 432x288 with 1 Axes>"
      ]
     },
     "metadata": {
      "needs_background": "light"
     },
     "output_type": "display_data"
    }
   ],
   "source": [
    "%matplotlib tk\n",
    "fig = plt.figure()\n",
    "ax = fig.add_subplot(1, 1, 1)\n",
    "\n",
    "plt.ion()\n",
    "fig.show()\n",
    "fig.canvas.draw()\n",
    "\n",
    "for step in range(100000):\n",
    "    \n",
    "    y_out = net_.forward(xx)\n",
    "    loss = tnn.MseLoss.loss(y_out, yy)\n",
    "    \n",
    "    dy = tnn.MseLoss.del_loss(y_out, yy)\n",
    "    dx = net_.backward(dy)\n",
    "    \n",
    "    net_.update()\n",
    "    \n",
    "    if step % 10 == 0:\n",
    "\n",
    "        print('_______________________')\n",
    "        print(\"epoch\", step)\n",
    "        print(\"Loss\", loss)\n",
    "\n",
    "        ax.clear()\n",
    "        plt.scatter(x, y, marker='.', color='g', label='x,y')\n",
    "        \n",
    "        plt.plot(x, y_out, c='r', lw=2, label='x,y_out')\n",
    "        plt.plot(x, np.zeros_like(x), c='y', lw=2)\n",
    "        plt.legend()\n",
    "        \n",
    "        fig.canvas.draw()\n",
    "        \n",
    "        plt.pause(0.01)\n",
    "        print()\n",
    "        if loss < 0.0025:\n",
    "            print('fitted to our expectation')\n",
    "            plt.pause(50)\n",
    "            break"
   ]
  },
  {
   "cell_type": "code",
   "execution_count": 158,
   "metadata": {},
   "outputs": [
    {
     "data": {
      "text/plain": [
       "[<matplotlib.lines.Line2D at 0x7f9f84fc7198>]"
      ]
     },
     "execution_count": 158,
     "metadata": {},
     "output_type": "execute_result"
    },
    {
     "data": {
      "image/png": "[encoded data removed]",
      "text/plain": [
       "<Figure size 432x288 with 1 Axes>"
      ]
     },
     "metadata": {
      "needs_background": "light"
     },
     "output_type": "display_data"
    }
   ],
   "source": [
    "%matplotlib inline\n",
    "plt.scatter(x, y, marker='.', color='g', label='x,y')\n",
    "plt.scatter(x, dy, marker='.', color='c', label='x,dy')\n",
    "\n",
    "plt.plot(x, y_out, c='r', lw=2, label='x,y_out')\n",
    "plt.plot(x, np.zeros_like(x), c='y', lw=2)"
   ]
  },
  {
   "cell_type": "code",
   "execution_count": 146,
   "metadata": {},
   "outputs": [],
   "source": [
    "outs = []\n",
    "for i in range(n_hidden+1):\n",
    "    out = layer1_.output[:, i]*layer2_.weights[i]\n",
    "    outs.append(out)"
   ]
  },
  {
   "cell_type": "code",
   "execution_count": 147,
   "metadata": {},
   "outputs": [
    {
     "data": {
      "image/png": "[encoded data removed]",
      "text/plain": [
       "<Figure size 432x288 with 1 Axes>"
      ]
     },
     "metadata": {
      "needs_background": "light"
     },
     "output_type": "display_data"
    }
   ],
   "source": [
    "plt.scatter(x, y, marker='.', color='g', label='x,y0')\n",
    "plt.plot(x, y_out, c='r', lw=2, label='x,y_out')\n",
    "plt.plot(x, np.zeros_like(x), c='g', lw=2)\n",
    "plt.plot(x, np.zeros_like(x)+layer2.bias, c='b', lw=2)\n",
    "\n",
    "for i, out in enumerate(outs):\n",
    "    plt.plot(x, out, c='m', lw=1, label=f'x,y_{i}')"
   ]
  },
  {
   "cell_type": "code",
   "execution_count": null,
   "metadata": {},
   "outputs": [],
   "source": []
  }
 ],
 "metadata": {
  "kernelspec": {
   "display_name": "Python 3",
   "language": "python",
   "name": "python3"
  },
  "language_info": {
   "codemirror_mode": {
    "name": "ipython",
    "version": 3
   },
   "file_extension": ".py",
   "mimetype": "text/x-python",
   "name": "python",
   "nbconvert_exporter": "python",
   "pygments_lexer": "ipython3",
   "version": "3.7.4"
  }
 },
 "nbformat": 4,
 "nbformat_minor": 2
}
