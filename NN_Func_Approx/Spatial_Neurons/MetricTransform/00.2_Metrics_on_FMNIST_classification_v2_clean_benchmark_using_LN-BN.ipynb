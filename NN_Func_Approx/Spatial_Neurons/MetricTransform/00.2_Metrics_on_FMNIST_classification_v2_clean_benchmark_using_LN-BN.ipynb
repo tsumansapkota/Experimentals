{
 "cells": [
  {
   "cell_type": "code",
   "execution_count": 1,
   "id": "f9e79740",
   "metadata": {},
   "outputs": [],
   "source": [
    "import numpy as np\n",
    "import copy\n",
    "import matplotlib\n",
    "import matplotlib.pyplot as plt\n",
    "from mpl_toolkits.mplot3d import Axes3D"
   ]
  },
  {
   "cell_type": "code",
   "execution_count": 2,
   "id": "8d2b919f",
   "metadata": {},
   "outputs": [],
   "source": [
    "import torch\n",
    "import torch.nn as nn\n",
    "import dtnnlib as dtnn\n",
    "# import resnet_cifar\n",
    "\n",
    "from torchvision import datasets, transforms as T\n",
    "from torch.utils import data"
   ]
  },
  {
   "cell_type": "code",
   "execution_count": 3,
   "id": "53af51c3",
   "metadata": {},
   "outputs": [],
   "source": [
    "from tqdm import tqdm\n",
    "import os, time, sys, random\n",
    "import json"
   ]
  },
  {
   "cell_type": "code",
   "execution_count": 4,
   "id": "1602c6d9",
   "metadata": {},
   "outputs": [],
   "source": [
    "mnist_transform = T.Compose([\n",
    "    T.ToTensor(),\n",
    "    T.Normalize(\n",
    "        mean=[0.5,],\n",
    "        std=[0.5,],\n",
    "    ),\n",
    "])\n",
    "\n",
    "train_dataset = datasets.FashionMNIST(root=\"../../../../_Datasets/\", train=True, download=True, transform=mnist_transform)\n",
    "test_dataset = datasets.FashionMNIST(root=\"../../../../_Datasets/\", train=False, download=True, transform=mnist_transform)"
   ]
  },
  {
   "cell_type": "code",
   "execution_count": 5,
   "id": "491fefdf",
   "metadata": {},
   "outputs": [],
   "source": [
    "# train_dataset.data = train_dataset.data.view(-1, 28*28)\n",
    "# test_dataset.data = test_dataset.data.view(-1, 28*28)"
   ]
  },
  {
   "cell_type": "code",
   "execution_count": 6,
   "id": "a6807321",
   "metadata": {},
   "outputs": [],
   "source": [
    "batch_size = 50\n",
    "train_loader = data.DataLoader(dataset=train_dataset, num_workers=4, batch_size=batch_size, shuffle=True)\n",
    "test_loader = data.DataLoader(dataset=test_dataset, num_workers=4, batch_size=batch_size, shuffle=False)"
   ]
  },
  {
   "cell_type": "code",
   "execution_count": null,
   "id": "893f12e1",
   "metadata": {},
   "outputs": [],
   "source": []
  },
  {
   "cell_type": "code",
   "execution_count": 7,
   "id": "fd705fdd",
   "metadata": {},
   "outputs": [],
   "source": [
    "device = torch.device(\"cuda:1\")"
   ]
  },
  {
   "cell_type": "code",
   "execution_count": 8,
   "id": "0879c929",
   "metadata": {},
   "outputs": [],
   "source": [
    "criterion = nn.CrossEntropyLoss()"
   ]
  },
  {
   "cell_type": "code",
   "execution_count": 9,
   "id": "47582925",
   "metadata": {},
   "outputs": [
    {
     "name": "stdout",
     "output_type": "stream",
     "text": [
      "torch.Size([50, 1, 28, 28]) torch.Size([50])\n"
     ]
    }
   ],
   "source": [
    "for xx, yy in train_loader:\n",
    "    xx, yy = xx.to(device), yy.to(device)\n",
    "    print(xx.shape, yy.shape)\n",
    "    break"
   ]
  },
  {
   "cell_type": "markdown",
   "id": "103909e2",
   "metadata": {},
   "source": [
    "## Any function as metric"
   ]
  },
  {
   "cell_type": "code",
   "execution_count": 10,
   "id": "9551d612",
   "metadata": {},
   "outputs": [],
   "source": [
    "class FunctionDT(nn.Module):\n",
    "    \n",
    "    def __init__(self, input_dim, num_centers, func, inv_temp=0.):\n",
    "        '''\n",
    "        func [input_dim -> 1]\n",
    "        '''\n",
    "        super().__init__()\n",
    "        self.input_dim = input_dim\n",
    "        self.num_centers = num_centers\n",
    "        self.func = func\n",
    "        \n",
    "        self.inv_temp = nn.Parameter(torch.ones(1)*inv_temp)\n",
    "        \n",
    "        self.centers = torch.randn(num_centers, input_dim)/3.\n",
    "        self.centers = nn.Parameter(self.centers)\n",
    "    \n",
    "    def forward(self, x):\n",
    "        z = x.unsqueeze(1) - self.centers.unsqueeze(0)\n",
    "        dists = self.func(z).squeeze(-1)\n",
    "        dists = -dists*torch.exp(self.inv_temp)\n",
    "        \n",
    "        ## COmment out (un-normalized)\n",
    "#         dists = dists-dists.mean(dim=1, keepdim=True)\n",
    "#         dists = dists/dists.std(dim=1, keepdim=True)\n",
    "\n",
    "        return dists"
   ]
  },
  {
   "cell_type": "code",
   "execution_count": 11,
   "id": "2e1d6fbe",
   "metadata": {},
   "outputs": [],
   "source": [
    "from classes import DistanceRegressor, ConvexNN\n",
    "from nflib.flows import SequentialFlow, ActNorm\n",
    "import nflib.res_flow as irf"
   ]
  },
  {
   "cell_type": "markdown",
   "id": "64d4fc66",
   "metadata": {},
   "source": [
    "## Merge all models into single and benchmark"
   ]
  },
  {
   "cell_type": "code",
   "execution_count": 12,
   "id": "ffba015c",
   "metadata": {},
   "outputs": [],
   "source": [
    "models_keys = [\"l_0.5\", \"l_1\", \"l_2\", \"l_20\", \"stereo\", \"linear\",]\n",
    "def get_models(h = 5, key='linear'):\n",
    "    I = 784\n",
    "    layer1 = None\n",
    "    if key == \"l_0.5\":\n",
    "        layer1 = dtnn.DistanceTransform(I, h, p=0.5, bias=False)\n",
    "    elif key == \"l_1\":\n",
    "        layer1 = dtnn.DistanceTransform(I, h, p=1, bias=False)\n",
    "    elif key == \"l_2\":\n",
    "        layer1 = dtnn.DistanceTransform(I, h, bias=False)\n",
    "    elif key == \"l_20\":\n",
    "        layer1 = dtnn.DistanceTransform(I, h, p=20, bias=False)\n",
    "    elif key == \"stereo\":\n",
    "        layer1 = dtnn.StereographicTransform(I, h, bias=False)\n",
    "    elif key == \"linear\":\n",
    "        layer1 = nn.Linear(I, h, bias=False)\n",
    "    else:\n",
    "        raise KeyError()\n",
    "        \n",
    "    net = nn.Sequential(\n",
    "        layer1,\n",
    "        nn.BatchNorm1d(h, affine=False),\n",
    "        nn.LayerNorm(h),\n",
    "        nn.ELU(),\n",
    "        nn.Linear(h, 10),\n",
    "        )\n",
    "    return net"
   ]
  },
  {
   "cell_type": "code",
   "execution_count": 13,
   "id": "14541096",
   "metadata": {},
   "outputs": [],
   "source": [
    "models_func_keys = [\"convex\", \"invex\", \"ordinary\"]\n",
    "\n",
    "def get_models_func(h = 500, func_h=500, key='ordinary'):\n",
    "#     I = 784\n",
    "    layer1 = None\n",
    "    if key == \"convex\":\n",
    "        layer1 = ConvexNN([784, func_h, 784, 1])\n",
    "    elif key == \"invex\":\n",
    "        layer1 = nn.Sequential(\n",
    "                    ActNorm(784),\n",
    "                    irf.ResidualFlow(784, [func_h], activation=irf.LeakyReLU),\n",
    "                    ActNorm(784),\n",
    "                    DistanceRegressor(784),\n",
    "                    )\n",
    "    elif key == \"ordinary\":\n",
    "        layer1 = nn.Sequential(\n",
    "                    ActNorm(784),\n",
    "                    irf.ResidualFlow(784, [func_h], activation=irf.LeakyReLU),\n",
    "                    ActNorm(784),\n",
    "#                     DistanceRegressor(784),\n",
    "                    nn.Linear(784, 1),\n",
    "                    )\n",
    "        irf.remove_spectral_norm_model(layer1)\n",
    "    else:\n",
    "        raise KeyError()\n",
    "        \n",
    "    net = nn.Sequential(\n",
    "        FunctionDT(784, h, layer1),\n",
    "        nn.BatchNorm1d(h, affine=False),\n",
    "        nn.LayerNorm(h),\n",
    "        nn.ELU(),\n",
    "        nn.Linear(h, 10),\n",
    "        )\n",
    "    return net"
   ]
  },
  {
   "cell_type": "code",
   "execution_count": 14,
   "id": "9eaa0286",
   "metadata": {},
   "outputs": [],
   "source": [
    "## Following is copied from \n",
    "### https://github.com/kuangliu/pytorch-cifar/blob/master/main.py\n",
    "\n",
    "# Training\n",
    "def train(epoch, model, optimizer):\n",
    "    model.train()\n",
    "    train_loss = 0\n",
    "    correct = 0\n",
    "    total = 0\n",
    "#     for batch_idx, (inputs, targets) in enumerate(tqdm(train_loader)):\n",
    "    for batch_idx, (inputs, targets) in enumerate(train_loader):\n",
    "        inputs, targets = inputs.to(device).view(-1, 28*28), targets.to(device)\n",
    "        optimizer.zero_grad()\n",
    "        outputs = model(inputs)\n",
    "        loss = criterion(outputs, targets)\n",
    "        loss.backward()\n",
    "        optimizer.step()\n",
    "\n",
    "        train_loss += loss.item()\n",
    "        _, predicted = outputs.max(1)\n",
    "        total += targets.size(0)\n",
    "        correct += predicted.eq(targets).sum().item()\n",
    "#     print(f\"[Train] {epoch} Loss: {train_loss/(batch_idx+1):.3f} | Acc: {100.*correct/total:.3f} {correct}/{total}\")\n",
    "    return"
   ]
  },
  {
   "cell_type": "code",
   "execution_count": 15,
   "id": "a7bd80c3",
   "metadata": {},
   "outputs": [],
   "source": [
    "best_acc = -1\n",
    "def test(epoch, model, model_name):\n",
    "    global best_acc\n",
    "    model.eval()\n",
    "    test_loss = 0\n",
    "    correct = 0\n",
    "    total = 0\n",
    "    with torch.no_grad():\n",
    "#         for batch_idx, (inputs, targets) in enumerate(tqdm(test_loader)):\n",
    "        for batch_idx, (inputs, targets) in enumerate(test_loader):\n",
    "            inputs, targets = inputs.to(device).view(-1, 28*28), targets.to(device)\n",
    "            outputs = model(inputs)\n",
    "            loss = criterion(outputs, targets)\n",
    "\n",
    "            test_loss += loss.item()\n",
    "            _, predicted = outputs.max(1)\n",
    "            total += targets.size(0)\n",
    "            correct += predicted.eq(targets).sum().item()\n",
    "            \n",
    "#     print(f\"[Test] {epoch} Loss: {test_loss/(batch_idx+1):.3f} | Acc: {100.*correct/total:.3f} {correct}/{total}\")\n",
    "    \n",
    "    # Save checkpoint.\n",
    "    acc = 100.*correct/total\n",
    "    if acc > best_acc:\n",
    "#         print('Saving..')\n",
    "        state = {\n",
    "            'model': model.state_dict(),\n",
    "            'acc': acc,\n",
    "            'epoch': epoch,\n",
    "        }\n",
    "#         if not os.path.isdir('models'):\n",
    "#             os.mkdir('models')\n",
    "#         torch.save(state, f'./models/{model_name}.pth')\n",
    "        best_acc = acc"
   ]
  },
  {
   "cell_type": "code",
   "execution_count": 16,
   "id": "e46396d7",
   "metadata": {},
   "outputs": [],
   "source": [
    "learning_rate = 0.0001\n",
    "EPOCHS = 50"
   ]
  },
  {
   "cell_type": "code",
   "execution_count": 17,
   "id": "f0feb854",
   "metadata": {},
   "outputs": [
    {
     "data": {
      "text/plain": [
       "(['l_0.5', 'l_1', 'l_2', 'l_20', 'stereo', 'linear'],\n",
       " ['convex', 'invex', 'ordinary'])"
      ]
     },
     "execution_count": 17,
     "metadata": {},
     "output_type": "execute_result"
    }
   ],
   "source": [
    "H = [5, 10, 20, 100, 500]\n",
    "\n",
    "models_keys, models_func_keys"
   ]
  },
  {
   "cell_type": "code",
   "execution_count": 18,
   "id": "f1c2b243",
   "metadata": {},
   "outputs": [],
   "source": [
    "exp_acc_vals = {}\n",
    "# # Opening JSON file\n",
    "with open(\"./outputs/00.2_exp_acc_data_v2_LN_BN.json\", 'r') as f:\n",
    "    exp_acc_vals = json.load(f)"
   ]
  },
  {
   "cell_type": "code",
   "execution_count": 19,
   "id": "2a599a22",
   "metadata": {},
   "outputs": [
    {
     "data": {
      "text/plain": [
       "{'5': {'l_0.5': [70.65, 73.7, 73.06, 73.07, 72.21, 72.71, 73.52, 74.46],\n",
       "  'l_1': [75.79, 76.54, 77.08, 76.93, 76.3, 77.42, 77.88, 77.89],\n",
       "  'l_2': [76.84, 77.78, 78.56, 77.6, 77.28, 78.75, 78.92, 76.99],\n",
       "  'l_20': [78.63, 79.43, 80.45, 79.09, 80.35, 79.59, 79.73, 77.87],\n",
       "  'stereo': [81.33, 80.91, 79.68, 81.79, 80.97, 80.32, 81.24, 80.94],\n",
       "  'linear': [81.54, 80.8, 80.96, 81.07, 81.5, 80.96, 80.86, 81.7],\n",
       "  'convex': [88.48, 88.41, 88.31, 88.25, 88.1, 88.15, 88.27, 88.36],\n",
       "  'invex': [88.96, 88.93, 88.3, 88.59, 88.59, 88.34, 88.34, 88.25],\n",
       "  'ordinary': [83.45, 84.88, 84.77, 84.47, 84.72, 83.81, 84.66, 84.06]},\n",
       " '10': {'l_0.5': [77.68, 77.86, 78.36, 78.29, 77.42, 78.23, 78.79, 77.87],\n",
       "  'l_1': [81.65, 81.45, 81.72, 81.74, 81.56, 81.77, 81.92, 81.84],\n",
       "  'l_2': [82.71, 82.92, 82.6, 82.9, 82.72, 82.89, 83.22, 82.95],\n",
       "  'l_20': [83.27, 83.17, 82.69, 83.62, 82.27, 82.91, 83.21, 82.07],\n",
       "  'stereo': [84.76, 85.25, 85.09, 85.0, 85.11, 84.66, 84.87, 84.97],\n",
       "  'linear': [84.54, 85.06, 85.07, 84.86, 84.91, 84.9, 85.28, 84.75],\n",
       "  'convex': [89.3, 89.01, 88.8, 88.8, 89.22, 88.74, 88.78, 89.01],\n",
       "  'invex': [89.37, 89.2, 89.06, 89.3, 89.33, 89.27, 89.51, 89.26],\n",
       "  'ordinary': [85.75, 85.9, 86.17, 86.06, 86.05, 85.67, 86.26, 85.43]},\n",
       " '20': {'l_0.5': [80.29, 80.1, 80.35, 79.6, 79.93, 79.95, 80.84, 80.0],\n",
       "  'l_1': [82.78, 83.2, 83.43, 82.75, 82.61, 82.86, 83.2, 82.79],\n",
       "  'l_2': [83.68, 83.97, 84.16, 83.26, 83.51, 83.68, 83.67, 83.87],\n",
       "  'l_20': [83.53, 84.09, 84.34, 84.14, 83.77, 84.22, 83.96, 83.7],\n",
       "  'stereo': [86.59, 86.2, 86.3, 86.21, 86.5, 86.09, 86.47, 86.16],\n",
       "  'linear': [86.41, 86.53, 86.25, 86.67, 86.45, 86.5, 86.49, 86.44],\n",
       "  'convex': [88.87, 88.81, 88.99, 88.91, 88.73, 88.89, 88.99, 88.99],\n",
       "  'invex': [89.42, 88.23, 88.39, 86.84, 87.68, 88.31, 87.39, 89.18],\n",
       "  'ordinary': [85.39, 87.24, 86.32, 86.36, 86.03, 85.37, 86.5, 85.87]},\n",
       " '100': {'l_0.5': [83.16, 83.22, 83.11, 83.21, 83.18, 83.14, 83.06, 83.17],\n",
       "  'l_1': [85.21, 85.25, 85.35, 85.39, 85.44, 85.52, 85.43, 85.26],\n",
       "  'l_2': [86.0, 86.21, 86.12, 86.31, 86.14, 86.21, 86.22, 86.08],\n",
       "  'l_20': [85.65, 86.02, 85.82, 85.85, 85.96, 85.66, 85.59, 85.88],\n",
       "  'stereo': [88.27, 88.37, 88.22, 88.11, 88.39, 88.43, 87.9, 88.14],\n",
       "  'linear': [88.46, 88.38, 88.29, 88.51, 88.45, 88.55, 88.46, 88.28],\n",
       "  'convex': [],\n",
       "  'invex': [87.92, 88.3, 88.18, 88.25, 88.31, 88.45, 87.64, 88.48],\n",
       "  'ordinary': [86.82, 87.19, 87.54, 87.08, 87.14, 87.05, 87.55, 86.32]},\n",
       " '500': {'l_0.5': [84.79, 84.72, 84.52, 84.7, 84.96, 84.59, 84.55, 85.13],\n",
       "  'l_1': [87.35, 86.89, 86.82, 86.94, 86.99, 87.09, 86.89, 87.21],\n",
       "  'l_2': [87.72, 87.58, 87.68, 87.74, 87.72, 87.51, 87.7, 87.71],\n",
       "  'l_20': [87.63, 87.74, 87.59, 87.44, 87.53, 87.61, 87.71, 87.79],\n",
       "  'stereo': [89.29, 89.52, 89.28, 89.25, 89.29, 89.18, 89.3, 89.45],\n",
       "  'linear': [89.73, 89.59, 89.64, 89.75, 89.8, 89.78, 89.75, 89.74],\n",
       "  'convex': [],\n",
       "  'invex': [88.67, 88.8, 89.3, 88.96, 88.93, 89.32, 89.48, 89.45],\n",
       "  'ordinary': [87.62, 87.27, 87.31, 87.92, 87.65, 87.45, 87.49, 87.29]}}"
      ]
     },
     "execution_count": 19,
     "metadata": {},
     "output_type": "execute_result"
    }
   ],
   "source": [
    "exp_acc_vals"
   ]
  },
  {
   "cell_type": "code",
   "execution_count": 20,
   "id": "69f1a5ea",
   "metadata": {},
   "outputs": [],
   "source": [
    "# ! mkdir outputs/00.2_exp_acc/"
   ]
  },
  {
   "cell_type": "code",
   "execution_count": 21,
   "id": "f9790938",
   "metadata": {},
   "outputs": [
    {
     "name": "stdout",
     "output_type": "stream",
     "text": [
      "Checking for l_0.5 ; h:5\n",
      "Results found complete\n",
      "Checking for l_1 ; h:5\n",
      "Results found complete\n",
      "Checking for l_2 ; h:5\n",
      "Results found complete\n",
      "Checking for l_20 ; h:5\n",
      "Results found complete\n",
      "Checking for stereo ; h:5\n",
      "Results found complete\n",
      "Checking for linear ; h:5\n",
      "Results found complete\n",
      "Checking for convex ; h:5\n",
      "Results found complete\n",
      "Checking for invex ; h:5\n",
      "Results found complete\n",
      "Checking for ordinary ; h:5\n",
      "Results found complete\n",
      "Checking for l_0.5 ; h:10\n",
      "Results found complete\n",
      "Checking for l_1 ; h:10\n",
      "Results found complete\n",
      "Checking for l_2 ; h:10\n",
      "Results found complete\n",
      "Checking for l_20 ; h:10\n",
      "Results found complete\n",
      "Checking for stereo ; h:10\n",
      "Results found complete\n",
      "Checking for linear ; h:10\n",
      "Results found complete\n",
      "Checking for convex ; h:10\n",
      "Results found complete\n",
      "Checking for invex ; h:10\n",
      "Results found complete\n",
      "Checking for ordinary ; h:10\n",
      "Results found complete\n",
      "Checking for l_0.5 ; h:20\n",
      "Results found complete\n",
      "Checking for l_1 ; h:20\n",
      "Results found complete\n",
      "Checking for l_2 ; h:20\n",
      "Results found complete\n",
      "Checking for l_20 ; h:20\n",
      "Results found complete\n",
      "Checking for stereo ; h:20\n",
      "Results found complete\n",
      "Checking for linear ; h:20\n",
      "Results found complete\n",
      "Checking for convex ; h:20\n",
      "Results found complete\n",
      "Checking for invex ; h:20\n",
      "Results found complete\n",
      "Checking for ordinary ; h:20\n",
      "Results found complete\n",
      "Checking for l_0.5 ; h:100\n",
      "Results found complete\n",
      "Checking for l_1 ; h:100\n",
      "Results found complete\n",
      "Checking for l_2 ; h:100\n",
      "Results found complete\n",
      "Checking for l_20 ; h:100\n",
      "Results found complete\n",
      "Checking for stereo ; h:100\n",
      "Results found complete\n",
      "Checking for linear ; h:100\n",
      "Results found complete\n",
      "Checking for convex ; h:100\n",
      "Checking for invex ; h:100\n",
      "Results found complete\n",
      "Checking for ordinary ; h:100\n",
      "Results found complete\n",
      "Checking for l_0.5 ; h:500\n",
      "Results found complete\n",
      "Checking for l_1 ; h:500\n",
      "Results found complete\n",
      "Checking for l_2 ; h:500\n",
      "Results found complete\n",
      "Checking for l_20 ; h:500\n",
      "Results found complete\n",
      "Checking for stereo ; h:500\n",
      "Results found complete\n",
      "Checking for linear ; h:500\n",
      "Results found complete\n",
      "Checking for convex ; h:500\n",
      "Checking for invex ; h:500\n",
      "Results found complete\n",
      "Checking for ordinary ; h:500\n",
      "Results found complete\n"
     ]
    },
    {
     "data": {
      "text/plain": [
       "{'5': {'l_0.5': [70.65, 73.7, 73.06, 73.07, 72.21, 72.71, 73.52, 74.46],\n",
       "  'l_1': [75.79, 76.54, 77.08, 76.93, 76.3, 77.42, 77.88, 77.89],\n",
       "  'l_2': [76.84, 77.78, 78.56, 77.6, 77.28, 78.75, 78.92, 76.99],\n",
       "  'l_20': [78.63, 79.43, 80.45, 79.09, 80.35, 79.59, 79.73, 77.87],\n",
       "  'stereo': [81.33, 80.91, 79.68, 81.79, 80.97, 80.32, 81.24, 80.94],\n",
       "  'linear': [81.54, 80.8, 80.96, 81.07, 81.5, 80.96, 80.86, 81.7],\n",
       "  'convex': [88.48, 88.41, 88.31, 88.25, 88.1, 88.15, 88.27, 88.36],\n",
       "  'invex': [88.96, 88.93, 88.3, 88.59, 88.59, 88.34, 88.34, 88.25],\n",
       "  'ordinary': [83.45, 84.88, 84.77, 84.47, 84.72, 83.81, 84.66, 84.06]},\n",
       " '10': {'l_0.5': [77.68, 77.86, 78.36, 78.29, 77.42, 78.23, 78.79, 77.87],\n",
       "  'l_1': [81.65, 81.45, 81.72, 81.74, 81.56, 81.77, 81.92, 81.84],\n",
       "  'l_2': [82.71, 82.92, 82.6, 82.9, 82.72, 82.89, 83.22, 82.95],\n",
       "  'l_20': [83.27, 83.17, 82.69, 83.62, 82.27, 82.91, 83.21, 82.07],\n",
       "  'stereo': [84.76, 85.25, 85.09, 85.0, 85.11, 84.66, 84.87, 84.97],\n",
       "  'linear': [84.54, 85.06, 85.07, 84.86, 84.91, 84.9, 85.28, 84.75],\n",
       "  'convex': [89.3, 89.01, 88.8, 88.8, 89.22, 88.74, 88.78, 89.01],\n",
       "  'invex': [89.37, 89.2, 89.06, 89.3, 89.33, 89.27, 89.51, 89.26],\n",
       "  'ordinary': [85.75, 85.9, 86.17, 86.06, 86.05, 85.67, 86.26, 85.43]},\n",
       " '20': {'l_0.5': [80.29, 80.1, 80.35, 79.6, 79.93, 79.95, 80.84, 80.0],\n",
       "  'l_1': [82.78, 83.2, 83.43, 82.75, 82.61, 82.86, 83.2, 82.79],\n",
       "  'l_2': [83.68, 83.97, 84.16, 83.26, 83.51, 83.68, 83.67, 83.87],\n",
       "  'l_20': [83.53, 84.09, 84.34, 84.14, 83.77, 84.22, 83.96, 83.7],\n",
       "  'stereo': [86.59, 86.2, 86.3, 86.21, 86.5, 86.09, 86.47, 86.16],\n",
       "  'linear': [86.41, 86.53, 86.25, 86.67, 86.45, 86.5, 86.49, 86.44],\n",
       "  'convex': [88.87, 88.81, 88.99, 88.91, 88.73, 88.89, 88.99, 88.99],\n",
       "  'invex': [89.42, 88.23, 88.39, 86.84, 87.68, 88.31, 87.39, 89.18],\n",
       "  'ordinary': [85.39, 87.24, 86.32, 86.36, 86.03, 85.37, 86.5, 85.87]},\n",
       " '100': {'l_0.5': [83.16, 83.22, 83.11, 83.21, 83.18, 83.14, 83.06, 83.17],\n",
       "  'l_1': [85.21, 85.25, 85.35, 85.39, 85.44, 85.52, 85.43, 85.26],\n",
       "  'l_2': [86.0, 86.21, 86.12, 86.31, 86.14, 86.21, 86.22, 86.08],\n",
       "  'l_20': [85.65, 86.02, 85.82, 85.85, 85.96, 85.66, 85.59, 85.88],\n",
       "  'stereo': [88.27, 88.37, 88.22, 88.11, 88.39, 88.43, 87.9, 88.14],\n",
       "  'linear': [88.46, 88.38, 88.29, 88.51, 88.45, 88.55, 88.46, 88.28],\n",
       "  'convex': [],\n",
       "  'invex': [87.92, 88.3, 88.18, 88.25, 88.31, 88.45, 87.64, 88.48],\n",
       "  'ordinary': [86.82, 87.19, 87.54, 87.08, 87.14, 87.05, 87.55, 86.32]},\n",
       " '500': {'l_0.5': [84.79, 84.72, 84.52, 84.7, 84.96, 84.59, 84.55, 85.13],\n",
       "  'l_1': [87.35, 86.89, 86.82, 86.94, 86.99, 87.09, 86.89, 87.21],\n",
       "  'l_2': [87.72, 87.58, 87.68, 87.74, 87.72, 87.51, 87.7, 87.71],\n",
       "  'l_20': [87.63, 87.74, 87.59, 87.44, 87.53, 87.61, 87.71, 87.79],\n",
       "  'stereo': [89.29, 89.52, 89.28, 89.25, 89.29, 89.18, 89.3, 89.45],\n",
       "  'linear': [89.73, 89.59, 89.64, 89.75, 89.8, 89.78, 89.75, 89.74],\n",
       "  'convex': [],\n",
       "  'invex': [88.67, 88.8, 89.3, 88.96, 88.93, 89.32, 89.48, 89.45],\n",
       "  'ordinary': [87.62, 87.27, 87.31, 87.92, 87.65, 87.45, 87.49, 87.29]}}"
      ]
     },
     "execution_count": 21,
     "metadata": {},
     "output_type": "execute_result"
    }
   ],
   "source": [
    "### Initialization\n",
    "for h in H:\n",
    "    acc_dict = {}\n",
    "    for key, func_idx in zip(models_keys+models_func_keys, [0]*len(models_keys)+[1]*len(models_func_keys)):\n",
    "        print(f\"Checking for {key} ; h:{h}\")\n",
    "        try:\n",
    "            results = exp_acc_vals[str(h)][str(key)]\n",
    "            if len(results) == 8:\n",
    "                print(\"Results found complete\")\n",
    "                acc_dict[str(key)] = results\n",
    "                continue\n",
    "        except Exception as e:\n",
    "            pass\n",
    "        acc_dict[str(key)] = []\n",
    "    exp_acc_vals[str(h)] = acc_dict\n",
    "exp_acc_vals"
   ]
  },
  {
   "cell_type": "code",
   "execution_count": 22,
   "id": "bea674cb",
   "metadata": {},
   "outputs": [
    {
     "name": "stdout",
     "output_type": "stream",
     "text": [
      "_________________________\n",
      "Experimenting for l_0.5 ; h:5\n",
      "[70.65, 73.7, 73.06, 73.07, 72.21, 72.71, 73.52, 74.46]\n",
      "Results found complete\n",
      "_________________________\n",
      "Experimenting for l_1 ; h:5\n",
      "[75.79, 76.54, 77.08, 76.93, 76.3, 77.42, 77.88, 77.89]\n",
      "Results found complete\n",
      "_________________________\n",
      "Experimenting for l_2 ; h:5\n",
      "[76.84, 77.78, 78.56, 77.6, 77.28, 78.75, 78.92, 76.99]\n",
      "Results found complete\n",
      "_________________________\n",
      "Experimenting for l_20 ; h:5\n",
      "[78.63, 79.43, 80.45, 79.09, 80.35, 79.59, 79.73, 77.87]\n",
      "Results found complete\n",
      "_________________________\n",
      "Experimenting for stereo ; h:5\n",
      "[81.33, 80.91, 79.68, 81.79, 80.97, 80.32, 81.24, 80.94]\n",
      "Results found complete\n",
      "_________________________\n",
      "Experimenting for linear ; h:5\n",
      "[81.54, 80.8, 80.96, 81.07, 81.5, 80.96, 80.86, 81.7]\n",
      "Results found complete\n",
      "_________________________\n",
      "Experimenting for convex ; h:5\n",
      "[88.48, 88.41, 88.31, 88.25, 88.1, 88.15, 88.27, 88.36]\n",
      "Results found complete\n",
      "_________________________\n",
      "Experimenting for invex ; h:5\n",
      "[88.96, 88.93, 88.3, 88.59, 88.59, 88.34, 88.34, 88.25]\n",
      "Results found complete\n",
      "_________________________\n",
      "Experimenting for ordinary ; h:5\n",
      "[83.45, 84.88, 84.77, 84.47, 84.72, 83.81, 84.66, 84.06]\n",
      "Results found complete\n",
      "_________________________\n",
      "Experimenting for l_0.5 ; h:10\n",
      "[77.68, 77.86, 78.36, 78.29, 77.42, 78.23, 78.79, 77.87]\n",
      "Results found complete\n",
      "_________________________\n",
      "Experimenting for l_1 ; h:10\n",
      "[81.65, 81.45, 81.72, 81.74, 81.56, 81.77, 81.92, 81.84]\n",
      "Results found complete\n",
      "_________________________\n",
      "Experimenting for l_2 ; h:10\n",
      "[82.71, 82.92, 82.6, 82.9, 82.72, 82.89, 83.22, 82.95]\n",
      "Results found complete\n",
      "_________________________\n",
      "Experimenting for l_20 ; h:10\n",
      "[83.27, 83.17, 82.69, 83.62, 82.27, 82.91, 83.21, 82.07]\n",
      "Results found complete\n",
      "_________________________\n",
      "Experimenting for stereo ; h:10\n",
      "[84.76, 85.25, 85.09, 85.0, 85.11, 84.66, 84.87, 84.97]\n",
      "Results found complete\n",
      "_________________________\n",
      "Experimenting for linear ; h:10\n",
      "[84.54, 85.06, 85.07, 84.86, 84.91, 84.9, 85.28, 84.75]\n",
      "Results found complete\n",
      "_________________________\n",
      "Experimenting for convex ; h:10\n",
      "[89.3, 89.01, 88.8, 88.8, 89.22, 88.74, 88.78, 89.01]\n",
      "Results found complete\n",
      "_________________________\n",
      "Experimenting for invex ; h:10\n",
      "[89.37, 89.2, 89.06, 89.3, 89.33, 89.27, 89.51, 89.26]\n",
      "Results found complete\n",
      "_________________________\n",
      "Experimenting for ordinary ; h:10\n",
      "[85.75, 85.9, 86.17, 86.06, 86.05, 85.67, 86.26, 85.43]\n",
      "Results found complete\n",
      "_________________________\n",
      "Experimenting for l_0.5 ; h:20\n",
      "[80.29, 80.1, 80.35, 79.6, 79.93, 79.95, 80.84, 80.0]\n",
      "Results found complete\n",
      "_________________________\n",
      "Experimenting for l_1 ; h:20\n",
      "[82.78, 83.2, 83.43, 82.75, 82.61, 82.86, 83.2, 82.79]\n",
      "Results found complete\n",
      "_________________________\n",
      "Experimenting for l_2 ; h:20\n",
      "[83.68, 83.97, 84.16, 83.26, 83.51, 83.68, 83.67, 83.87]\n",
      "Results found complete\n",
      "_________________________\n",
      "Experimenting for l_20 ; h:20\n",
      "[83.53, 84.09, 84.34, 84.14, 83.77, 84.22, 83.96, 83.7]\n",
      "Results found complete\n",
      "_________________________\n",
      "Experimenting for stereo ; h:20\n",
      "[86.59, 86.2, 86.3, 86.21, 86.5, 86.09, 86.47, 86.16]\n",
      "Results found complete\n",
      "_________________________\n",
      "Experimenting for linear ; h:20\n",
      "[86.41, 86.53, 86.25, 86.67, 86.45, 86.5, 86.49, 86.44]\n",
      "Results found complete\n",
      "_________________________\n",
      "Experimenting for convex ; h:20\n",
      "[88.87, 88.81, 88.99, 88.91, 88.73, 88.89, 88.99, 88.99]\n",
      "Results found complete\n",
      "_________________________\n",
      "Experimenting for invex ; h:20\n",
      "[89.42, 88.23, 88.39, 86.84, 87.68, 88.31, 87.39, 89.18]\n",
      "Results found complete\n",
      "_________________________\n",
      "Experimenting for ordinary ; h:20\n",
      "[85.39, 87.24, 86.32, 86.36, 86.03, 85.37, 86.5, 85.87]\n",
      "Results found complete\n",
      "_________________________\n",
      "Experimenting for l_0.5 ; h:100\n",
      "[83.16, 83.22, 83.11, 83.21, 83.18, 83.14, 83.06, 83.17]\n",
      "Results found complete\n",
      "_________________________\n",
      "Experimenting for l_1 ; h:100\n",
      "[85.21, 85.25, 85.35, 85.39, 85.44, 85.52, 85.43, 85.26]\n",
      "Results found complete\n",
      "_________________________\n",
      "Experimenting for l_2 ; h:100\n",
      "[86.0, 86.21, 86.12, 86.31, 86.14, 86.21, 86.22, 86.08]\n",
      "Results found complete\n",
      "_________________________\n",
      "Experimenting for l_20 ; h:100\n",
      "[85.65, 86.02, 85.82, 85.85, 85.96, 85.66, 85.59, 85.88]\n",
      "Results found complete\n",
      "_________________________\n",
      "Experimenting for stereo ; h:100\n",
      "[88.27, 88.37, 88.22, 88.11, 88.39, 88.43, 87.9, 88.14]\n",
      "Results found complete\n",
      "_________________________\n",
      "Experimenting for linear ; h:100\n",
      "[88.46, 88.38, 88.29, 88.51, 88.45, 88.55, 88.46, 88.28]\n",
      "Results found complete\n",
      "_________________________\n",
      "Experimenting for convex ; h:100\n",
      "[]\n"
     ]
    },
    {
     "name": "stderr",
     "output_type": "stream",
     "text": [
      "100%|████████████████████████████████████████████████████| 8/8 [1:38:54<00:00, 741.85s/it]\n"
     ]
    },
    {
     "name": "stdout",
     "output_type": "stream",
     "text": [
      "_________________________\n",
      "Experimenting for invex ; h:100\n",
      "[87.92, 88.3, 88.18, 88.25, 88.31, 88.45, 87.64, 88.48]\n",
      "Results found complete\n",
      "_________________________\n",
      "Experimenting for ordinary ; h:100\n",
      "[86.82, 87.19, 87.54, 87.08, 87.14, 87.05, 87.55, 86.32]\n",
      "Results found complete\n",
      "_________________________\n",
      "Experimenting for l_0.5 ; h:500\n",
      "[84.79, 84.72, 84.52, 84.7, 84.96, 84.59, 84.55, 85.13]\n",
      "Results found complete\n",
      "_________________________\n",
      "Experimenting for l_1 ; h:500\n",
      "[87.35, 86.89, 86.82, 86.94, 86.99, 87.09, 86.89, 87.21]\n",
      "Results found complete\n",
      "_________________________\n",
      "Experimenting for l_2 ; h:500\n",
      "[87.72, 87.58, 87.68, 87.74, 87.72, 87.51, 87.7, 87.71]\n",
      "Results found complete\n",
      "_________________________\n",
      "Experimenting for l_20 ; h:500\n",
      "[87.63, 87.74, 87.59, 87.44, 87.53, 87.61, 87.71, 87.79]\n",
      "Results found complete\n",
      "_________________________\n",
      "Experimenting for stereo ; h:500\n",
      "[89.29, 89.52, 89.28, 89.25, 89.29, 89.18, 89.3, 89.45]\n",
      "Results found complete\n",
      "_________________________\n",
      "Experimenting for linear ; h:500\n",
      "[89.73, 89.59, 89.64, 89.75, 89.8, 89.78, 89.75, 89.74]\n",
      "Results found complete\n",
      "_________________________\n",
      "Experimenting for convex ; h:500\n",
      "[]\n"
     ]
    },
    {
     "name": "stderr",
     "output_type": "stream",
     "text": [
      "100%|███████████████████████████████████████████████████| 8/8 [7:10:27<00:00, 3228.47s/it]"
     ]
    },
    {
     "name": "stdout",
     "output_type": "stream",
     "text": [
      "_________________________\n",
      "Experimenting for invex ; h:500\n",
      "[88.67, 88.8, 89.3, 88.96, 88.93, 89.32, 89.48, 89.45]\n",
      "Results found complete\n",
      "_________________________\n",
      "Experimenting for ordinary ; h:500\n",
      "[87.62, 87.27, 87.31, 87.92, 87.65, 87.45, 87.49, 87.29]\n",
      "Results found complete\n"
     ]
    },
    {
     "name": "stderr",
     "output_type": "stream",
     "text": [
      "\n"
     ]
    }
   ],
   "source": [
    "# data_file = \"./outputs/00.2_exp_acc_dict_v2.json\"\n",
    "SEEDS = [147, 258, 369, 741, 852, 963, 159, 357]\n",
    "\n",
    "# exp_acc_vals = {}\n",
    "for h in H:\n",
    "    acc_dict = exp_acc_vals[str(h)]\n",
    "    \n",
    "    for key, func_idx in zip(models_keys+models_func_keys, [0]*len(models_keys)+[1]*len(models_func_keys)):\n",
    "        print(\"_________________________\")\n",
    "        print(f\"Experimenting for {key} ; h:{h}\")\n",
    "        \n",
    "        try:\n",
    "            results = exp_acc_vals[str(h)][str(key)]\n",
    "            print(results)\n",
    "            if len(results) == len(SEEDS):\n",
    "                print(\"Results found complete\")\n",
    "                acc_dict[str(key)] = results\n",
    "                continue\n",
    "        except Exception as e:\n",
    "            pass\n",
    "\n",
    "        acc_dict[str(key)] = []\n",
    "        for seed in tqdm(SEEDS):\n",
    "            model_name = f\"00.2_fmnist_{key}_h{h}_s{seed}\"\n",
    "            \n",
    "            torch.manual_seed(seed)\n",
    "            np.random.seed(seed)\n",
    "            random.seed(seed)\n",
    "            train_loader = data.DataLoader(dataset=train_dataset, num_workers=4, batch_size=batch_size, shuffle=True)\n",
    "            test_loader = data.DataLoader(dataset=test_dataset, num_workers=4, batch_size=batch_size, shuffle=False)\n",
    "\n",
    "            if func_idx == 0:\n",
    "                net = get_models(h, key=key).to(device)\n",
    "            else:\n",
    "                net = get_models_func(h, key=key).to(device)\n",
    "            \n",
    "            optimizer = torch.optim.Adam(net.parameters(), lr=learning_rate)\n",
    "            scheduler = torch.optim.lr_scheduler.CosineAnnealingLR(optimizer, T_max=EPOCHS)\n",
    "            best_acc = -1\n",
    "            for epoch in range(EPOCHS):\n",
    "#             for epoch in range(1):\n",
    "                train(epoch, net, optimizer)\n",
    "                test(epoch, net, model_name)\n",
    "                scheduler.step()\n",
    "            acc_dict[str(key)] += [float(best_acc)] ## add to the list\n",
    "        \n",
    "        exp_acc_vals[str(h)] = acc_dict\n",
    "        \n",
    "        # Save it in the file.\n",
    "        with open(f\"./outputs/00.2_exp_acc_data_v2_LN_BN.json\", \"w\") as f:\n",
    "            json.dump(exp_acc_vals, f, indent=3)\n",
    "        \n",
    "        pass"
   ]
  },
  {
   "cell_type": "code",
   "execution_count": 23,
   "id": "da496a19",
   "metadata": {},
   "outputs": [
    {
     "data": {
      "text/plain": [
       "{'5': {'l_0.5': [70.65, 73.7, 73.06, 73.07, 72.21, 72.71, 73.52, 74.46],\n",
       "  'l_1': [75.79, 76.54, 77.08, 76.93, 76.3, 77.42, 77.88, 77.89],\n",
       "  'l_2': [76.84, 77.78, 78.56, 77.6, 77.28, 78.75, 78.92, 76.99],\n",
       "  'l_20': [78.63, 79.43, 80.45, 79.09, 80.35, 79.59, 79.73, 77.87],\n",
       "  'stereo': [81.33, 80.91, 79.68, 81.79, 80.97, 80.32, 81.24, 80.94],\n",
       "  'linear': [81.54, 80.8, 80.96, 81.07, 81.5, 80.96, 80.86, 81.7],\n",
       "  'convex': [88.48, 88.41, 88.31, 88.25, 88.1, 88.15, 88.27, 88.36],\n",
       "  'invex': [88.96, 88.93, 88.3, 88.59, 88.59, 88.34, 88.34, 88.25],\n",
       "  'ordinary': [83.45, 84.88, 84.77, 84.47, 84.72, 83.81, 84.66, 84.06]},\n",
       " '10': {'l_0.5': [77.68, 77.86, 78.36, 78.29, 77.42, 78.23, 78.79, 77.87],\n",
       "  'l_1': [81.65, 81.45, 81.72, 81.74, 81.56, 81.77, 81.92, 81.84],\n",
       "  'l_2': [82.71, 82.92, 82.6, 82.9, 82.72, 82.89, 83.22, 82.95],\n",
       "  'l_20': [83.27, 83.17, 82.69, 83.62, 82.27, 82.91, 83.21, 82.07],\n",
       "  'stereo': [84.76, 85.25, 85.09, 85.0, 85.11, 84.66, 84.87, 84.97],\n",
       "  'linear': [84.54, 85.06, 85.07, 84.86, 84.91, 84.9, 85.28, 84.75],\n",
       "  'convex': [89.3, 89.01, 88.8, 88.8, 89.22, 88.74, 88.78, 89.01],\n",
       "  'invex': [89.37, 89.2, 89.06, 89.3, 89.33, 89.27, 89.51, 89.26],\n",
       "  'ordinary': [85.75, 85.9, 86.17, 86.06, 86.05, 85.67, 86.26, 85.43]},\n",
       " '20': {'l_0.5': [80.29, 80.1, 80.35, 79.6, 79.93, 79.95, 80.84, 80.0],\n",
       "  'l_1': [82.78, 83.2, 83.43, 82.75, 82.61, 82.86, 83.2, 82.79],\n",
       "  'l_2': [83.68, 83.97, 84.16, 83.26, 83.51, 83.68, 83.67, 83.87],\n",
       "  'l_20': [83.53, 84.09, 84.34, 84.14, 83.77, 84.22, 83.96, 83.7],\n",
       "  'stereo': [86.59, 86.2, 86.3, 86.21, 86.5, 86.09, 86.47, 86.16],\n",
       "  'linear': [86.41, 86.53, 86.25, 86.67, 86.45, 86.5, 86.49, 86.44],\n",
       "  'convex': [88.87, 88.81, 88.99, 88.91, 88.73, 88.89, 88.99, 88.99],\n",
       "  'invex': [89.42, 88.23, 88.39, 86.84, 87.68, 88.31, 87.39, 89.18],\n",
       "  'ordinary': [85.39, 87.24, 86.32, 86.36, 86.03, 85.37, 86.5, 85.87]},\n",
       " '100': {'l_0.5': [83.16, 83.22, 83.11, 83.21, 83.18, 83.14, 83.06, 83.17],\n",
       "  'l_1': [85.21, 85.25, 85.35, 85.39, 85.44, 85.52, 85.43, 85.26],\n",
       "  'l_2': [86.0, 86.21, 86.12, 86.31, 86.14, 86.21, 86.22, 86.08],\n",
       "  'l_20': [85.65, 86.02, 85.82, 85.85, 85.96, 85.66, 85.59, 85.88],\n",
       "  'stereo': [88.27, 88.37, 88.22, 88.11, 88.39, 88.43, 87.9, 88.14],\n",
       "  'linear': [88.46, 88.38, 88.29, 88.51, 88.45, 88.55, 88.46, 88.28],\n",
       "  'convex': [88.26, 88.68, 88.22, 88.51, 88.61, 88.38, 88.75, 88.39],\n",
       "  'invex': [87.92, 88.3, 88.18, 88.25, 88.31, 88.45, 87.64, 88.48],\n",
       "  'ordinary': [86.82, 87.19, 87.54, 87.08, 87.14, 87.05, 87.55, 86.32]},\n",
       " '500': {'l_0.5': [84.79, 84.72, 84.52, 84.7, 84.96, 84.59, 84.55, 85.13],\n",
       "  'l_1': [87.35, 86.89, 86.82, 86.94, 86.99, 87.09, 86.89, 87.21],\n",
       "  'l_2': [87.72, 87.58, 87.68, 87.74, 87.72, 87.51, 87.7, 87.71],\n",
       "  'l_20': [87.63, 87.74, 87.59, 87.44, 87.53, 87.61, 87.71, 87.79],\n",
       "  'stereo': [89.29, 89.52, 89.28, 89.25, 89.29, 89.18, 89.3, 89.45],\n",
       "  'linear': [89.73, 89.59, 89.64, 89.75, 89.8, 89.78, 89.75, 89.74],\n",
       "  'convex': [88.21, 88.29, 88.49, 88.67, 88.65, 88.53, 88.55, 88.5],\n",
       "  'invex': [88.67, 88.8, 89.3, 88.96, 88.93, 89.32, 89.48, 89.45],\n",
       "  'ordinary': [87.62, 87.27, 87.31, 87.92, 87.65, 87.45, 87.49, 87.29]}}"
      ]
     },
     "execution_count": 23,
     "metadata": {},
     "output_type": "execute_result"
    }
   ],
   "source": [
    "exp_acc_vals"
   ]
  },
  {
   "cell_type": "code",
   "execution_count": 24,
   "id": "903d2506",
   "metadata": {},
   "outputs": [],
   "source": [
    "# exp_acc_vals = \\\n",
    "# {'5': {'l_0.5': 67.05,\n",
    "#   'l_1': 70.7,\n",
    "#   'l_2': 78.15,\n",
    "#   'l_inf': 79.52,\n",
    "#   'stereo': 82.19,\n",
    "#   'linear': 82.74,\n",
    "#   'convex': 79.49,\n",
    "#   'invex': 88.26,\n",
    "#   'ordinary': 83.55},\n",
    "#  '10': {'l_0.5': 72.08,\n",
    "#   'l_1': 77.91,\n",
    "#   'l_2': 82.35,\n",
    "#   'l_inf': 83.98,\n",
    "#   'stereo': 84.73,\n",
    "#   'linear': 84.89,\n",
    "#   'convex': 78.99,\n",
    "#   'invex': 88.41,\n",
    "#   'ordinary': 81.69}}"
   ]
  },
  {
   "cell_type": "code",
   "execution_count": 25,
   "id": "7ee48e9c",
   "metadata": {},
   "outputs": [],
   "source": [
    "# data_file = \"./outputs/00.2_exp_acc_dict.json\"\n",
    "# with open(data_file, \"w\") as f:\n",
    "#     json.dump(exp_acc_vals, f, indent=3)"
   ]
  },
  {
   "cell_type": "code",
   "execution_count": 26,
   "id": "cdf858b3",
   "metadata": {},
   "outputs": [],
   "source": [
    "# # Opening JSON file\n",
    "# with open(data_file, 'r') as f:\n",
    "#     exp_acc_vals = json.load(f)"
   ]
  },
  {
   "cell_type": "code",
   "execution_count": 27,
   "id": "bdd77393",
   "metadata": {},
   "outputs": [],
   "source": [
    "# exp_acc_vals"
   ]
  },
  {
   "cell_type": "code",
   "execution_count": 28,
   "id": "2eae651c",
   "metadata": {},
   "outputs": [],
   "source": [
    "# prev_vals = {'5': {'l_0.5': []},\n",
    "#  '10': {'l_0.5': [],\n",
    "#   'l_1': [],\n",
    "#   'l_2': [],\n",
    "#   'l_20': [],\n",
    "#   'stereo': [],\n",
    "#   'linear': [],\n",
    "#   'convex': [],\n",
    "#   'invex': [88.01, 87.73, 86.62, 87.5, 87.27, 87.92, 88.37, 89.68],\n",
    "#   'ordinary': []},\n",
    "#  '20': {'l_0.5': [80.29, 80.1, 80.35, 79.6, 79.93, 79.95, 80.84, 80.0],\n",
    "#   'l_1': [82.78, 83.2, 83.43, 82.75, 82.61, 82.86, 83.2, 82.79],\n",
    "#   'l_2': [83.68, 83.97, 84.16, 83.26, 83.51, 83.68, 83.67, 83.87],\n",
    "#   'l_20': [83.53, 84.09, 84.34, 84.14, 83.77, 84.22, 83.96, 83.7],\n",
    "#   'stereo': [86.59, 86.2, 86.3, 86.21, 86.5, 86.09, 86.47, 86.16],\n",
    "#   'linear': [86.41, 86.53, 86.25, 86.67, 86.45, 86.5, 86.49, 86.44],\n",
    "#   'convex': [80.18, 69.13, 79.31, 73.66, 77.92, 68.66, 70.28, 81.17],\n",
    "#   'invex': [89.42, 88.23, 88.39, 86.84, 87.68, 88.31, 87.39, 89.18],\n",
    "#   'ordinary': [85.39, 87.24, 86.32, 86.36, 86.03, 85.37, 86.5, 85.87]},\n",
    "#  '100': {'l_0.5': [83.16, 83.22, 83.11, 83.21, 83.18, 83.14, 83.06, 83.17],\n",
    "#   'l_1': [85.21, 85.25, 85.35, 85.39, 85.44, 85.52, 85.43, 85.26],\n",
    "#   'l_2': [86.0, 86.21, 86.12, 86.31, 86.14, 86.21, 86.22, 86.08],\n",
    "#   'l_20': [85.65, 86.02, 85.82, 85.85, 85.96, 85.66, 85.59, 85.88],\n",
    "#   'stereo': [88.27, 88.37, 88.22, 88.11, 88.39, 88.43, 87.9, 88.14],\n",
    "#   'linear': [88.46, 88.38, 88.29, 88.51, 88.45, 88.55, 88.46, 88.28],\n",
    "#   'convex': [72.73, 71.7, 79.13, 75.96, 72.98, 67.99, 77.88, 77.5],\n",
    "#   'invex': [87.92, 88.3, 88.18, 88.25, 88.31, 88.45, 87.64, 88.48],\n",
    "#   'ordinary': [86.82, 87.19, 87.54, 87.08, 87.14, 87.05, 87.55, 86.32]},\n",
    "#  '500': {'l_0.5': [84.79, 84.72, 84.52, 84.7, 84.96, 84.59, 84.55, 85.13],\n",
    "#   'l_1': [87.35, 86.89, 86.82, 86.94, 86.99, 87.09, 86.89, 87.21],\n",
    "#   'l_2': [87.72, 87.58, 87.68, 87.74, 87.72, 87.51, 87.7, 87.71],\n",
    "#   'l_20': [87.63, 87.74, 87.59, 87.44, 87.53, 87.61, 87.71, 87.79],\n",
    "#   'stereo': [89.29, 89.52, 89.28, 89.25, 89.29, 89.18, 89.3, 89.45]}}"
   ]
  },
  {
   "cell_type": "code",
   "execution_count": 29,
   "id": "7521ccb9",
   "metadata": {},
   "outputs": [],
   "source": [
    "# prev_vals"
   ]
  },
  {
   "cell_type": "code",
   "execution_count": 30,
   "id": "43906e49",
   "metadata": {},
   "outputs": [],
   "source": [
    "# exp_acc_vals"
   ]
  },
  {
   "cell_type": "code",
   "execution_count": 31,
   "id": "38534075",
   "metadata": {},
   "outputs": [],
   "source": [
    "# ### merge the two vals.. keep which has full set of results\n",
    "# combined_dict = {}\n",
    "# for h in H:\n",
    "#     combined_dict[str(h)] = {}\n",
    "#     for key, func_idx in zip(models_keys+models_func_keys, [0]*len(models_keys)+[1]*len(models_func_keys)):\n",
    "        \n",
    "#         try:\n",
    "#             v1 = exp_acc_vals[str(h)][str(key)]\n",
    "#         except Exception as e:\n",
    "#             v1 = []\n",
    "            \n",
    "#         try:\n",
    "#             v2 = prev_vals[str(h)][str(key)]\n",
    "#         except Exception as e:\n",
    "#             v2 = []\n",
    "            \n",
    "#         v = []\n",
    "#         if len(v1) > len(v2):\n",
    "#             v = v1\n",
    "#         else:\n",
    "#             v = v2\n",
    "            \n",
    "# #         print(h, key,\"\\n\", v1,\"\\n\", v2)\n",
    "\n",
    "#         combined_dict[str(h)][str(key)] = v\n",
    "# combined_dict"
   ]
  },
  {
   "cell_type": "code",
   "execution_count": 32,
   "id": "dd9f51ed",
   "metadata": {},
   "outputs": [],
   "source": [
    "# with open(f\"./outputs/00.2_exp_acc_data_v2_LN_BN.json\", \"w\") as f:\n",
    "#     json.dump(combined_dict, f, indent=3)"
   ]
  },
  {
   "cell_type": "code",
   "execution_count": null,
   "id": "25e7609b",
   "metadata": {},
   "outputs": [],
   "source": []
  },
  {
   "cell_type": "code",
   "execution_count": 33,
   "id": "76cf1156",
   "metadata": {},
   "outputs": [],
   "source": [
    "# import json\n",
    "# with open(\"./outputs/00.2_exp_acc_data_v2_LN_BN.json\", 'r') as f:\n",
    "#     exp_acc_vals = json.load(f)"
   ]
  },
  {
   "cell_type": "code",
   "execution_count": 34,
   "id": "41e78e10",
   "metadata": {},
   "outputs": [
    {
     "data": {
      "text/plain": [
       "{'5': {'l_0.5': [70.65, 73.7, 73.06, 73.07, 72.21, 72.71, 73.52, 74.46],\n",
       "  'l_1': [75.79, 76.54, 77.08, 76.93, 76.3, 77.42, 77.88, 77.89],\n",
       "  'l_2': [76.84, 77.78, 78.56, 77.6, 77.28, 78.75, 78.92, 76.99],\n",
       "  'l_20': [78.63, 79.43, 80.45, 79.09, 80.35, 79.59, 79.73, 77.87],\n",
       "  'stereo': [81.33, 80.91, 79.68, 81.79, 80.97, 80.32, 81.24, 80.94],\n",
       "  'linear': [81.54, 80.8, 80.96, 81.07, 81.5, 80.96, 80.86, 81.7],\n",
       "  'convex': [88.48, 88.41, 88.31, 88.25, 88.1, 88.15, 88.27, 88.36],\n",
       "  'invex': [88.96, 88.93, 88.3, 88.59, 88.59, 88.34, 88.34, 88.25],\n",
       "  'ordinary': [83.45, 84.88, 84.77, 84.47, 84.72, 83.81, 84.66, 84.06]},\n",
       " '10': {'l_0.5': [77.68, 77.86, 78.36, 78.29, 77.42, 78.23, 78.79, 77.87],\n",
       "  'l_1': [81.65, 81.45, 81.72, 81.74, 81.56, 81.77, 81.92, 81.84],\n",
       "  'l_2': [82.71, 82.92, 82.6, 82.9, 82.72, 82.89, 83.22, 82.95],\n",
       "  'l_20': [83.27, 83.17, 82.69, 83.62, 82.27, 82.91, 83.21, 82.07],\n",
       "  'stereo': [84.76, 85.25, 85.09, 85.0, 85.11, 84.66, 84.87, 84.97],\n",
       "  'linear': [84.54, 85.06, 85.07, 84.86, 84.91, 84.9, 85.28, 84.75],\n",
       "  'convex': [89.3, 89.01, 88.8, 88.8, 89.22, 88.74, 88.78, 89.01],\n",
       "  'invex': [89.37, 89.2, 89.06, 89.3, 89.33, 89.27, 89.51, 89.26],\n",
       "  'ordinary': [85.75, 85.9, 86.17, 86.06, 86.05, 85.67, 86.26, 85.43]},\n",
       " '20': {'l_0.5': [80.29, 80.1, 80.35, 79.6, 79.93, 79.95, 80.84, 80.0],\n",
       "  'l_1': [82.78, 83.2, 83.43, 82.75, 82.61, 82.86, 83.2, 82.79],\n",
       "  'l_2': [83.68, 83.97, 84.16, 83.26, 83.51, 83.68, 83.67, 83.87],\n",
       "  'l_20': [83.53, 84.09, 84.34, 84.14, 83.77, 84.22, 83.96, 83.7],\n",
       "  'stereo': [86.59, 86.2, 86.3, 86.21, 86.5, 86.09, 86.47, 86.16],\n",
       "  'linear': [86.41, 86.53, 86.25, 86.67, 86.45, 86.5, 86.49, 86.44],\n",
       "  'convex': [88.87, 88.81, 88.99, 88.91, 88.73, 88.89, 88.99, 88.99],\n",
       "  'invex': [89.42, 88.23, 88.39, 86.84, 87.68, 88.31, 87.39, 89.18],\n",
       "  'ordinary': [85.39, 87.24, 86.32, 86.36, 86.03, 85.37, 86.5, 85.87]},\n",
       " '100': {'l_0.5': [83.16, 83.22, 83.11, 83.21, 83.18, 83.14, 83.06, 83.17],\n",
       "  'l_1': [85.21, 85.25, 85.35, 85.39, 85.44, 85.52, 85.43, 85.26],\n",
       "  'l_2': [86.0, 86.21, 86.12, 86.31, 86.14, 86.21, 86.22, 86.08],\n",
       "  'l_20': [85.65, 86.02, 85.82, 85.85, 85.96, 85.66, 85.59, 85.88],\n",
       "  'stereo': [88.27, 88.37, 88.22, 88.11, 88.39, 88.43, 87.9, 88.14],\n",
       "  'linear': [88.46, 88.38, 88.29, 88.51, 88.45, 88.55, 88.46, 88.28],\n",
       "  'convex': [88.26, 88.68, 88.22, 88.51, 88.61, 88.38, 88.75, 88.39],\n",
       "  'invex': [87.92, 88.3, 88.18, 88.25, 88.31, 88.45, 87.64, 88.48],\n",
       "  'ordinary': [86.82, 87.19, 87.54, 87.08, 87.14, 87.05, 87.55, 86.32]},\n",
       " '500': {'l_0.5': [84.79, 84.72, 84.52, 84.7, 84.96, 84.59, 84.55, 85.13],\n",
       "  'l_1': [87.35, 86.89, 86.82, 86.94, 86.99, 87.09, 86.89, 87.21],\n",
       "  'l_2': [87.72, 87.58, 87.68, 87.74, 87.72, 87.51, 87.7, 87.71],\n",
       "  'l_20': [87.63, 87.74, 87.59, 87.44, 87.53, 87.61, 87.71, 87.79],\n",
       "  'stereo': [89.29, 89.52, 89.28, 89.25, 89.29, 89.18, 89.3, 89.45],\n",
       "  'linear': [89.73, 89.59, 89.64, 89.75, 89.8, 89.78, 89.75, 89.74],\n",
       "  'convex': [88.21, 88.29, 88.49, 88.67, 88.65, 88.53, 88.55, 88.5],\n",
       "  'invex': [88.67, 88.8, 89.3, 88.96, 88.93, 89.32, 89.48, 89.45],\n",
       "  'ordinary': [87.62, 87.27, 87.31, 87.92, 87.65, 87.45, 87.49, 87.29]}}"
      ]
     },
     "execution_count": 34,
     "metadata": {},
     "output_type": "execute_result"
    }
   ],
   "source": [
    "exp_acc_vals"
   ]
  },
  {
   "cell_type": "code",
   "execution_count": 36,
   "id": "aaeb784e",
   "metadata": {},
   "outputs": [
    {
     "data": {
      "text/plain": [
       "{'5': {'l_0.5': [72.92, 1.07, 74.46],\n",
       "  'l_1': [76.98, 0.7, 77.89],\n",
       "  'l_2': [77.84, 0.76, 78.92],\n",
       "  'l_20': [79.39, 0.8, 80.45],\n",
       "  'stereo': [80.9, 0.6, 81.79],\n",
       "  'linear': [81.17, 0.33, 81.7],\n",
       "  'convex': [88.29, 0.12, 88.48],\n",
       "  'invex': [88.54, 0.26, 88.96],\n",
       "  'ordinary': [84.35, 0.49, 84.88]},\n",
       " '10': {'l_0.5': [78.06, 0.41, 78.79],\n",
       "  'l_1': [81.71, 0.14, 81.92],\n",
       "  'l_2': [82.86, 0.18, 83.22],\n",
       "  'l_20': [82.9, 0.49, 83.62],\n",
       "  'stereo': [84.96, 0.18, 85.25],\n",
       "  'linear': [84.92, 0.21, 85.28],\n",
       "  'convex': [88.96, 0.2, 89.3],\n",
       "  'invex': [89.29, 0.12, 89.51],\n",
       "  'ordinary': [85.91, 0.26, 86.26]},\n",
       " '20': {'l_0.5': [80.13, 0.34, 80.84],\n",
       "  'l_1': [82.95, 0.27, 83.43],\n",
       "  'l_2': [83.72, 0.26, 84.16],\n",
       "  'l_20': [83.97, 0.26, 84.34],\n",
       "  'stereo': [86.32, 0.17, 86.59],\n",
       "  'linear': [86.47, 0.11, 86.67],\n",
       "  'convex': [88.9, 0.09, 88.99],\n",
       "  'invex': [88.18, 0.81, 89.42],\n",
       "  'ordinary': [86.14, 0.58, 87.24]},\n",
       " '100': {'l_0.5': [83.16, 0.05, 83.22],\n",
       "  'l_1': [85.36, 0.1, 85.52],\n",
       "  'l_2': [86.16, 0.09, 86.31],\n",
       "  'l_20': [85.8, 0.15, 86.02],\n",
       "  'stereo': [88.23, 0.17, 88.43],\n",
       "  'linear': [88.42, 0.09, 88.55],\n",
       "  'convex': [88.48, 0.18, 88.75],\n",
       "  'invex': [88.19, 0.26, 88.48],\n",
       "  'ordinary': [87.09, 0.37, 87.55]},\n",
       " '500': {'l_0.5': [84.74, 0.2, 85.13],\n",
       "  'l_1': [87.02, 0.17, 87.35],\n",
       "  'l_2': [87.67, 0.08, 87.74],\n",
       "  'l_20': [87.63, 0.11, 87.79],\n",
       "  'stereo': [89.32, 0.1, 89.52],\n",
       "  'linear': [89.72, 0.07, 89.8],\n",
       "  'convex': [88.49, 0.15, 88.67],\n",
       "  'invex': [89.11, 0.29, 89.48],\n",
       "  'ordinary': [87.5, 0.21, 87.92]}}"
      ]
     },
     "execution_count": 36,
     "metadata": {},
     "output_type": "execute_result"
    }
   ],
   "source": [
    "final_stats = {}\n",
    "for h in exp_acc_vals:\n",
    "    final_stats[h] = {}\n",
    "    for key in exp_acc_vals[h]:\n",
    "        data = exp_acc_vals[h][key]\n",
    "        mean = np.mean(data)\n",
    "        std = np.std(data)\n",
    "        maxm = np.max(data)\n",
    "        final_stats[h][key] = [np.round(mean, 2), np.round(std, 2), np.round(maxm, 2)]\n",
    "final_stats"
   ]
  },
  {
   "cell_type": "code",
   "execution_count": 53,
   "id": "7fd72d73",
   "metadata": {},
   "outputs": [
    {
     "data": {
      "text/plain": [
       "array([['72.92$\\\\pm$1.07 (\\\\textcolor{blue}{74.46})',\n",
       "        '78.06$\\\\pm$0.41 (\\\\textcolor{blue}{78.79})',\n",
       "        '80.13$\\\\pm$0.34 (\\\\textcolor{blue}{80.84})',\n",
       "        '83.16$\\\\pm$0.05 (\\\\textcolor{blue}{83.22})',\n",
       "        '84.74$\\\\pm$0.2 (\\\\textcolor{blue}{85.13})'],\n",
       "       ['76.98$\\\\pm$0.7 (\\\\textcolor{blue}{77.89})',\n",
       "        '81.71$\\\\pm$0.14 (\\\\textcolor{blue}{81.92})',\n",
       "        '82.95$\\\\pm$0.27 (\\\\textcolor{blue}{83.43})',\n",
       "        '85.36$\\\\pm$0.1 (\\\\textcolor{blue}{85.52})',\n",
       "        '87.02$\\\\pm$0.17 (\\\\textcolor{blue}{87.35})'],\n",
       "       ['77.84$\\\\pm$0.76 (\\\\textcolor{blue}{78.92})',\n",
       "        '82.86$\\\\pm$0.18 (\\\\textcolor{blue}{83.22})',\n",
       "        '83.72$\\\\pm$0.26 (\\\\textcolor{blue}{84.16})',\n",
       "        '86.16$\\\\pm$0.09 (\\\\textcolor{blue}{86.31})',\n",
       "        '87.67$\\\\pm$0.08 (\\\\textcolor{blue}{87.74})'],\n",
       "       ['79.39$\\\\pm$0.8 (\\\\textcolor{blue}{80.45})',\n",
       "        '82.9$\\\\pm$0.49 (\\\\textcolor{blue}{83.62})',\n",
       "        '83.97$\\\\pm$0.26 (\\\\textcolor{blue}{84.34})',\n",
       "        '85.8$\\\\pm$0.15 (\\\\textcolor{blue}{86.02})',\n",
       "        '87.63$\\\\pm$0.11 (\\\\textcolor{blue}{87.79})'],\n",
       "       ['80.9$\\\\pm$0.6 (\\\\textcolor{blue}{81.79})',\n",
       "        '84.96$\\\\pm$0.18 (\\\\textcolor{blue}{85.25})',\n",
       "        '86.32$\\\\pm$0.17 (\\\\textcolor{blue}{86.59})',\n",
       "        '88.23$\\\\pm$0.17 (\\\\textcolor{blue}{88.43})',\n",
       "        '89.32$\\\\pm$0.1 (\\\\textcolor{blue}{89.52})'],\n",
       "       ['81.17$\\\\pm$0.33 (\\\\textcolor{blue}{81.7})',\n",
       "        '84.92$\\\\pm$0.21 (\\\\textcolor{blue}{85.28})',\n",
       "        '86.47$\\\\pm$0.11 (\\\\textcolor{blue}{86.67})',\n",
       "        '88.42$\\\\pm$0.09 (\\\\textcolor{blue}{88.55})',\n",
       "        '89.72$\\\\pm$0.07 (\\\\textcolor{blue}{89.8})'],\n",
       "       ['88.29$\\\\pm$0.12 (\\\\textcolor{blue}{88.48})',\n",
       "        '88.96$\\\\pm$0.2 (\\\\textcolor{blue}{89.3})',\n",
       "        '88.9$\\\\pm$0.09 (\\\\textcolor{blue}{88.99})',\n",
       "        '88.48$\\\\pm$0.18 (\\\\textcolor{blue}{88.75})',\n",
       "        '88.49$\\\\pm$0.15 (\\\\textcolor{blue}{88.67})'],\n",
       "       ['88.54$\\\\pm$0.26 (\\\\textcolor{blue}{88.96})',\n",
       "        '89.29$\\\\pm$0.12 (\\\\textcolor{blue}{89.51})',\n",
       "        '88.18$\\\\pm$0.81 (\\\\textcolor{blue}{89.42})',\n",
       "        '88.19$\\\\pm$0.26 (\\\\textcolor{blue}{88.48})',\n",
       "        '89.11$\\\\pm$0.29 (\\\\textcolor{blue}{89.48})'],\n",
       "       ['84.35$\\\\pm$0.49 (\\\\textcolor{blue}{84.88})',\n",
       "        '85.91$\\\\pm$0.26 (\\\\textcolor{blue}{86.26})',\n",
       "        '86.14$\\\\pm$0.58 (\\\\textcolor{blue}{87.24})',\n",
       "        '87.09$\\\\pm$0.37 (\\\\textcolor{blue}{87.55})',\n",
       "        '87.5$\\\\pm$0.21 (\\\\textcolor{blue}{87.92})']], dtype=object)"
      ]
     },
     "execution_count": 53,
     "metadata": {},
     "output_type": "execute_result"
    }
   ],
   "source": [
    "# 72.92$\\pm$1.07 (\\textcolor{blue}{74.46})\n",
    "T = np.empty([9, 5], dtype=object)\n",
    "for i, h in enumerate(exp_acc_vals):\n",
    "    for j, key in enumerate(exp_acc_vals[h]):\n",
    "        data = exp_acc_vals[h][key]\n",
    "        mean = np.mean(data)\n",
    "        std = np.std(data)\n",
    "        maxm = np.max(data)\n",
    "#         print(f\"{h}-{key} : {np.round(mean, 2)}$\\pm${np.round(std, 2)}\")\n",
    "#         print(f\"{h}-{key} : {np.round(mean, 2)}$\\pm${np.round(std, 2)} (\\\\textcolor{{blue}}{{{np.round(maxm, 2)}}})\")\n",
    "        T[j, i] = f\"{np.round(mean, 2)}$\\pm${np.round(std, 2)} (\\\\textcolor{{blue}}{{{np.round(maxm, 2)}}})\"\n",
    "T"
   ]
  },
  {
   "cell_type": "code",
   "execution_count": 58,
   "id": "7c7e6799",
   "metadata": {},
   "outputs": [
    {
     "name": "stdout",
     "output_type": "stream",
     "text": [
      "72.92$\\pm$1.07 (\\textcolor{blue}{74.46}) & 78.06$\\pm$0.41 (\\textcolor{blue}{78.79}) & 80.13$\\pm$0.34 (\\textcolor{blue}{80.84}) & 83.16$\\pm$0.05 (\\textcolor{blue}{83.22}) & 84.74$\\pm$0.2 (\\textcolor{blue}{85.13}) & \n",
      "76.98$\\pm$0.7 (\\textcolor{blue}{77.89}) & 81.71$\\pm$0.14 (\\textcolor{blue}{81.92}) & 82.95$\\pm$0.27 (\\textcolor{blue}{83.43}) & 85.36$\\pm$0.1 (\\textcolor{blue}{85.52}) & 87.02$\\pm$0.17 (\\textcolor{blue}{87.35}) & \n",
      "77.84$\\pm$0.76 (\\textcolor{blue}{78.92}) & 82.86$\\pm$0.18 (\\textcolor{blue}{83.22}) & 83.72$\\pm$0.26 (\\textcolor{blue}{84.16}) & 86.16$\\pm$0.09 (\\textcolor{blue}{86.31}) & 87.67$\\pm$0.08 (\\textcolor{blue}{87.74}) & \n",
      "79.39$\\pm$0.8 (\\textcolor{blue}{80.45}) & 82.9$\\pm$0.49 (\\textcolor{blue}{83.62}) & 83.97$\\pm$0.26 (\\textcolor{blue}{84.34}) & 85.8$\\pm$0.15 (\\textcolor{blue}{86.02}) & 87.63$\\pm$0.11 (\\textcolor{blue}{87.79}) & \n",
      "80.9$\\pm$0.6 (\\textcolor{blue}{81.79}) & 84.96$\\pm$0.18 (\\textcolor{blue}{85.25}) & 86.32$\\pm$0.17 (\\textcolor{blue}{86.59}) & 88.23$\\pm$0.17 (\\textcolor{blue}{88.43}) & 89.32$\\pm$0.1 (\\textcolor{blue}{89.52}) & \n",
      "81.17$\\pm$0.33 (\\textcolor{blue}{81.7}) & 84.92$\\pm$0.21 (\\textcolor{blue}{85.28}) & 86.47$\\pm$0.11 (\\textcolor{blue}{86.67}) & 88.42$\\pm$0.09 (\\textcolor{blue}{88.55}) & 89.72$\\pm$0.07 (\\textcolor{blue}{89.8}) & \n",
      "88.29$\\pm$0.12 (\\textcolor{blue}{88.48}) & 88.96$\\pm$0.2 (\\textcolor{blue}{89.3}) & 88.9$\\pm$0.09 (\\textcolor{blue}{88.99}) & 88.48$\\pm$0.18 (\\textcolor{blue}{88.75}) & 88.49$\\pm$0.15 (\\textcolor{blue}{88.67}) & \n",
      "88.54$\\pm$0.26 (\\textcolor{blue}{88.96}) & 89.29$\\pm$0.12 (\\textcolor{blue}{89.51}) & 88.18$\\pm$0.81 (\\textcolor{blue}{89.42}) & 88.19$\\pm$0.26 (\\textcolor{blue}{88.48}) & 89.11$\\pm$0.29 (\\textcolor{blue}{89.48}) & \n",
      "84.35$\\pm$0.49 (\\textcolor{blue}{84.88}) & 85.91$\\pm$0.26 (\\textcolor{blue}{86.26}) & 86.14$\\pm$0.58 (\\textcolor{blue}{87.24}) & 87.09$\\pm$0.37 (\\textcolor{blue}{87.55}) & 87.5$\\pm$0.21 (\\textcolor{blue}{87.92}) & \n"
     ]
    }
   ],
   "source": [
    "for i in range(T.shape[0]):\n",
    "    for j in range(T.shape[1]):\n",
    "        print(T[i,j], end=\" & \")\n",
    "    print()"
   ]
  },
  {
   "cell_type": "code",
   "execution_count": 60,
   "id": "52a6e1c1",
   "metadata": {},
   "outputs": [],
   "source": [
    "import torch"
   ]
  },
  {
   "cell_type": "code",
   "execution_count": 80,
   "id": "2516a72b",
   "metadata": {},
   "outputs": [],
   "source": [
    "def inv_streo(x):\n",
    "    sqnorm = (x**2).sum(dim=1, keepdim=True) ## l2 norm squared\n",
    "    x = x*2/(sqnorm+1)\n",
    "    new_dim = (sqnorm-1)/(sqnorm+1)\n",
    "    x = torch.cat((x, new_dim), dim=1)\n",
    "    return x"
   ]
  },
  {
   "cell_type": "code",
   "execution_count": 81,
   "id": "f795959b",
   "metadata": {},
   "outputs": [
    {
     "data": {
      "text/plain": [
       "tensor([[-0.5693,  0.6854,  0.4539]])"
      ]
     },
     "execution_count": 81,
     "metadata": {},
     "output_type": "execute_result"
    }
   ],
   "source": [
    "inv_streo(torch.randn(1, 2))"
   ]
  },
  {
   "cell_type": "code",
   "execution_count": 82,
   "id": "3b09ee8b",
   "metadata": {},
   "outputs": [],
   "source": [
    "def streo(x):\n",
    "    x_ = x[:, :-1]\n",
    "    new_dim = x[:, -1:]\n",
    "    sqnorm = (1+new_dim)/(1-new_dim)\n",
    "    x_ = x_/2*(sqnorm+1)\n",
    "    return x_"
   ]
  },
  {
   "cell_type": "code",
   "execution_count": 84,
   "id": "4c5c5b2f",
   "metadata": {},
   "outputs": [
    {
     "name": "stdout",
     "output_type": "stream",
     "text": [
      "tensor([[-1.8530,  0.0267]])\n",
      "tensor([[-0.8358,  0.0120,  0.5490]])\n"
     ]
    },
    {
     "data": {
      "text/plain": [
       "tensor([[-1.8530,  0.0267]])"
      ]
     },
     "execution_count": 84,
     "metadata": {},
     "output_type": "execute_result"
    }
   ],
   "source": [
    "x = torch.randn(1,2)\n",
    "print(x)\n",
    "z = inv_streo(x)\n",
    "print(z)\n",
    "streo(z)"
   ]
  },
  {
   "cell_type": "code",
   "execution_count": null,
   "id": "4e629e8a",
   "metadata": {},
   "outputs": [],
   "source": []
  }
 ],
 "metadata": {
  "kernelspec": {
   "display_name": "Python 3 (ipykernel)",
   "language": "python",
   "name": "python3"
  },
  "language_info": {
   "codemirror_mode": {
    "name": "ipython",
    "version": 3
   },
   "file_extension": ".py",
   "mimetype": "text/x-python",
   "name": "python",
   "nbconvert_exporter": "python",
   "pygments_lexer": "ipython3",
   "version": "3.9.16"
  }
 },
 "nbformat": 4,
 "nbformat_minor": 5
}
