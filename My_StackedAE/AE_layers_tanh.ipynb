{
 "cells": [
  {
   "cell_type": "code",
   "execution_count": 1,
   "metadata": {},
   "outputs": [
    {
     "name": "stderr",
     "output_type": "stream",
     "text": [
      "c:\\users\\heythere\\appdata\\local\\programs\\python\\python35\\lib\\site-packages\\h5py\\__init__.py:36: FutureWarning: Conversion of the second argument of issubdtype from `float` to `np.floating` is deprecated. In future, it will be treated as `np.float64 == np.dtype(float).type`.\n",
      "  from ._conv import register_converters as _register_converters\n"
     ]
    }
   ],
   "source": [
    "import numpy as np\n",
    "import tensorflow as tf\n",
    "import matplotlib.pyplot as plt\n",
    "%matplotlib inline"
   ]
  },
  {
   "cell_type": "code",
   "execution_count": 2,
   "metadata": {},
   "outputs": [],
   "source": [
    "from tensorflow.examples.tutorials.mnist import input_data"
   ]
  },
  {
   "cell_type": "code",
   "execution_count": 3,
   "metadata": {},
   "outputs": [
    {
     "name": "stdout",
     "output_type": "stream",
     "text": [
      "WARNING:tensorflow:From <ipython-input-3-b22782e32495>:1: read_data_sets (from tensorflow.contrib.learn.python.learn.datasets.mnist) is deprecated and will be removed in a future version.\n",
      "Instructions for updating:\n",
      "Please use alternatives such as official/mnist/dataset.py from tensorflow/models.\n",
      "WARNING:tensorflow:From c:\\users\\heythere\\appdata\\local\\programs\\python\\python35\\lib\\site-packages\\tensorflow\\contrib\\learn\\python\\learn\\datasets\\mnist.py:260: maybe_download (from tensorflow.contrib.learn.python.learn.datasets.base) is deprecated and will be removed in a future version.\n",
      "Instructions for updating:\n",
      "Please write your own downloading logic.\n",
      "WARNING:tensorflow:From c:\\users\\heythere\\appdata\\local\\programs\\python\\python35\\lib\\site-packages\\tensorflow\\contrib\\learn\\python\\learn\\datasets\\mnist.py:262: extract_images (from tensorflow.contrib.learn.python.learn.datasets.mnist) is deprecated and will be removed in a future version.\n",
      "Instructions for updating:\n",
      "Please use tf.data to implement this functionality.\n",
      "Extracting ../../Tensorflow-Bootcamp-master/03-Convolutional-Neural-Networks/MNIST_data/train-images-idx3-ubyte.gz\n",
      "WARNING:tensorflow:From c:\\users\\heythere\\appdata\\local\\programs\\python\\python35\\lib\\site-packages\\tensorflow\\contrib\\learn\\python\\learn\\datasets\\mnist.py:267: extract_labels (from tensorflow.contrib.learn.python.learn.datasets.mnist) is deprecated and will be removed in a future version.\n",
      "Instructions for updating:\n",
      "Please use tf.data to implement this functionality.\n",
      "Extracting ../../Tensorflow-Bootcamp-master/03-Convolutional-Neural-Networks/MNIST_data/train-labels-idx1-ubyte.gz\n",
      "WARNING:tensorflow:From c:\\users\\heythere\\appdata\\local\\programs\\python\\python35\\lib\\site-packages\\tensorflow\\contrib\\learn\\python\\learn\\datasets\\mnist.py:110: dense_to_one_hot (from tensorflow.contrib.learn.python.learn.datasets.mnist) is deprecated and will be removed in a future version.\n",
      "Instructions for updating:\n",
      "Please use tf.one_hot on tensors.\n",
      "Extracting ../../Tensorflow-Bootcamp-master/03-Convolutional-Neural-Networks/MNIST_data/t10k-images-idx3-ubyte.gz\n",
      "Extracting ../../Tensorflow-Bootcamp-master/03-Convolutional-Neural-Networks/MNIST_data/t10k-labels-idx1-ubyte.gz\n",
      "WARNING:tensorflow:From c:\\users\\heythere\\appdata\\local\\programs\\python\\python35\\lib\\site-packages\\tensorflow\\contrib\\learn\\python\\learn\\datasets\\mnist.py:290: DataSet.__init__ (from tensorflow.contrib.learn.python.learn.datasets.mnist) is deprecated and will be removed in a future version.\n",
      "Instructions for updating:\n",
      "Please use alternatives such as official/mnist/dataset.py from tensorflow/models.\n"
     ]
    }
   ],
   "source": [
    "mnist = input_data.read_data_sets(\"../../Tensorflow-Bootcamp-master/03-Convolutional-Neural-Networks/MNIST_data/\",one_hot=True)"
   ]
  },
  {
   "cell_type": "code",
   "execution_count": 4,
   "metadata": {},
   "outputs": [],
   "source": [
    "tf.reset_default_graph() "
   ]
  },
  {
   "cell_type": "code",
   "execution_count": 5,
   "metadata": {},
   "outputs": [],
   "source": [
    "# DEFINE parameters\n",
    "num_inputs = 784 # 28*28\n",
    "neurons_hid1 = 392\n",
    "neurons_hid2 = 196\n",
    "neurons_hid3 = 98\n",
    "neurons_hid4 = 49\n",
    "neurons_hid5 = 25\n",
    "neurons_hid6 = 12\n",
    "neurons_hid7 = 6\n",
    "neurons_hid8 = 3\n",
    "neurons_hid9 = 2\n",
    "neurons_hid10 = 1\n",
    "\n",
    "learning_rate = 0.0003"
   ]
  },
  {
   "cell_type": "code",
   "execution_count": 6,
   "metadata": {},
   "outputs": [],
   "source": [
    "# PINV(PSEUDO-INVERSE) function\n",
    "def pinv(a, rcond=1e-15):\n",
    "    s, u, v = tf.svd(a)\n",
    "    # Ignore singular values close to zero to prevent numerical overflow\n",
    "    limit = rcond * tf.reduce_max(s)\n",
    "    non_zero = tf.greater(s, limit)\n",
    "\n",
    "    reciprocal = tf.where(non_zero, tf.reciprocal(s), tf.zeros(s.shape))\n",
    "    lhs = tf.matmul(v, tf.diag(reciprocal))\n",
    "    return tf.matmul(lhs, u, transpose_b=True)"
   ]
  },
  {
   "cell_type": "code",
   "execution_count": 7,
   "metadata": {},
   "outputs": [],
   "source": [
    "## PLACEHOLDER DEFINATION\n",
    "X = tf.placeholder(tf.float32, shape=[None, num_inputs])"
   ]
  },
  {
   "cell_type": "code",
   "execution_count": 8,
   "metadata": {},
   "outputs": [],
   "source": [
    "# TRANSPOSE OR PINV\n",
    "tie_weight = tf.transpose #pinv"
   ]
  },
  {
   "cell_type": "code",
   "execution_count": 9,
   "metadata": {},
   "outputs": [],
   "source": [
    "## WEIGHTS DEFINATION\n",
    "initializer = tf.variance_scaling_initializer()\n",
    "\n",
    "w1 = tf.Variable(initializer([num_inputs,neurons_hid1]), dtype=tf.float32)\n",
    "w1_ = tie_weight(w1)\n",
    "b1 = tf.Variable(tf.zeros([neurons_hid1]))"
   ]
  },
  {
   "cell_type": "code",
   "execution_count": 10,
   "metadata": {},
   "outputs": [],
   "source": [
    "# ACTIVATION FUNCTION  [ lambda X:X  <OR>  tf.nn.relu  ]\n",
    "# act_func = lambda X:X\n",
    "act_func = tf.nn.tanh"
   ]
  },
  {
   "cell_type": "code",
   "execution_count": 11,
   "metadata": {},
   "outputs": [],
   "source": [
    "# LAYER MODELING OF :NN\n",
    "hid_layer1 = act_func(tf.matmul(X, w1)+b1)\n",
    "output_layer = tf.matmul(hid_layer1, w1_)"
   ]
  },
  {
   "cell_type": "code",
   "execution_count": 12,
   "metadata": {},
   "outputs": [],
   "source": [
    "# LOSS FUNCTIONS\n",
    "loss = tf.reduce_mean(tf.square(output_layer - X))\n",
    "# loss = tf.reduce_mean(tf.abs(output_layer - X))\n",
    "# cross_entropy = tf.reduce_mean(tf.nn.softmax_cross_entropy_with_logits(labels=Y,logits=yout))"
   ]
  },
  {
   "cell_type": "code",
   "execution_count": 13,
   "metadata": {},
   "outputs": [],
   "source": [
    "# TRAINING\n",
    "optimizer = tf.train.AdamOptimizer(learning_rate)\n",
    "train = optimizer.minimize(loss, var_list=[w1, b1])"
   ]
  },
  {
   "cell_type": "code",
   "execution_count": 14,
   "metadata": {},
   "outputs": [],
   "source": [
    "# PREPARATION\n",
    "init = tf.global_variables_initializer()\n",
    "saver = tf.train.Saver() "
   ]
  },
  {
   "cell_type": "code",
   "execution_count": 15,
   "metadata": {},
   "outputs": [
    {
     "name": "stdout",
     "output_type": "stream",
     "text": [
      "Epoch 0 Complete. Training Loss: 0.005360935814678669\n",
      "Epoch 1 Complete. Training Loss: 0.0030584665946662426\n",
      "Epoch 2 Complete. Training Loss: 0.002417005831375718\n",
      "Epoch 3 Complete. Training Loss: 0.0019118697382509708\n",
      "Epoch 4 Complete. Training Loss: 0.001682025264017284\n",
      "Epoch 5 Complete. Training Loss: 0.001590836327522993\n",
      "Epoch 6 Complete. Training Loss: 0.001370427431538701\n",
      "Epoch 7 Complete. Training Loss: 0.001343677518889308\n",
      "Epoch 8 Complete. Training Loss: 0.001136076170951128\n",
      "Epoch 9 Complete. Training Loss: 0.0011517523089423776\n",
      "Epoch 10 Complete. Training Loss: 0.0010803021723404527\n",
      "Epoch 11 Complete. Training Loss: 0.0009061775635927916\n",
      "Epoch 12 Complete. Training Loss: 0.0008644454064778984\n",
      "Epoch 13 Complete. Training Loss: 0.0008594426908530295\n",
      "Epoch 14 Complete. Training Loss: 0.0008883327827788889\n",
      "Epoch 15 Complete. Training Loss: 0.0007543739047832787\n",
      "Epoch 16 Complete. Training Loss: 0.00080120685743168\n",
      "Epoch 17 Complete. Training Loss: 0.0008367518894374371\n",
      "Epoch 18 Complete. Training Loss: 0.0007334182155318558\n",
      "Epoch 19 Complete. Training Loss: 0.0006703719263896346\n",
      "Epoch 20 Complete. Training Loss: 0.0006909614312462509\n",
      "Epoch 21 Complete. Training Loss: 0.0006400865386240184\n",
      "Epoch 22 Complete. Training Loss: 0.0006227400153875351\n",
      "Epoch 23 Complete. Training Loss: 0.0005662113544531167\n",
      "Epoch 24 Complete. Training Loss: 0.0007111940649338067\n",
      "Epoch 25 Complete. Training Loss: 0.0006207245751284063\n",
      "Epoch 26 Complete. Training Loss: 0.0006434872630052269\n",
      "Epoch 27 Complete. Training Loss: 0.0006020357832312584\n",
      "Epoch 28 Complete. Training Loss: 0.0006463828030973673\n",
      "Epoch 29 Complete. Training Loss: 0.0005940966657362878\n",
      "Epoch 30 Complete. Training Loss: 0.0007063714438118041\n",
      "Epoch 31 Complete. Training Loss: 0.0005572363152168691\n",
      "Epoch 32 Complete. Training Loss: 0.0006337120430544019\n",
      "Epoch 33 Complete. Training Loss: 0.0005726885865442455\n",
      "Epoch 34 Complete. Training Loss: 0.0005339677445590496\n",
      "Epoch 35 Complete. Training Loss: 0.000559087609872222\n",
      "Epoch 36 Complete. Training Loss: 0.0005649275262840092\n",
      "Epoch 37 Complete. Training Loss: 0.0005350364372134209\n",
      "Epoch 38 Complete. Training Loss: 0.0005661244504153728\n",
      "Epoch 39 Complete. Training Loss: 0.0005366326658986509\n",
      "Epoch 40 Complete. Training Loss: 0.0005728336400352418\n",
      "Epoch 41 Complete. Training Loss: 0.000586804817430675\n",
      "Epoch 42 Complete. Training Loss: 0.0005100125563330948\n",
      "Epoch 43 Complete. Training Loss: 0.0004827067314181477\n",
      "Epoch 44 Complete. Training Loss: 0.000514100247528404\n",
      "Epoch 45 Complete. Training Loss: 0.0005067025194875896\n",
      "Epoch 46 Complete. Training Loss: 0.0005145876784808934\n",
      "Epoch 47 Complete. Training Loss: 0.0005858961376361549\n",
      "Epoch 48 Complete. Training Loss: 0.0005385655094869435\n",
      "Epoch 49 Complete. Training Loss: 0.00048618344590067863\n",
      "Keyboard Interrupted\n",
      "Finished Training the Model\n"
     ]
    }
   ],
   "source": [
    "num_epochs = 100\n",
    "batch_size = 150\n",
    "\n",
    "try:\n",
    "    with tf.Session() as sess:\n",
    "        sess.run(init)\n",
    "\n",
    "        # Epoch == Entire Training Set\n",
    "        for epoch in range(num_epochs):\n",
    "            num_batches = mnist.train.num_examples // batch_size\n",
    "\n",
    "            # 150 batch size\n",
    "            for iteration in range(num_batches):\n",
    "                X_batch, y_batch = mnist.train.next_batch(batch_size)\n",
    "                sess.run(train, feed_dict={X: X_batch})\n",
    "\n",
    "            training_loss = loss.eval(feed_dict={X: X_batch})   \n",
    "            print(\"Epoch {} Complete. Training Loss: {}\".format(epoch,training_loss))\n",
    "            saver.save(sess, \"./save/ae_1_392.ckpt\")      \n",
    "except KeyboardInterrupt:\n",
    "    print('Keyboard Interrupted')\n",
    "finally:\n",
    "    print('Finished Training the Model')"
   ]
  },
  {
   "cell_type": "code",
   "execution_count": 16,
   "metadata": {},
   "outputs": [
    {
     "name": "stdout",
     "output_type": "stream",
     "text": [
      "INFO:tensorflow:Restoring parameters from ./save/ae_1_392.ckpt\n"
     ]
    }
   ],
   "source": [
    "num_test_images = 10\n",
    "start_point = 15\n",
    "with tf.Session() as sess:\n",
    "    \n",
    "    saver.restore(sess,\"./save/ae_1_392.ckpt\")\n",
    "    \n",
    "    results,compressed = sess.run([output_layer, hid_layer1],\n",
    "                                  feed_dict={X:mnist.test.images[start_point:num_test_images+start_point]})\n",
    "    weight1 = w1.eval()\n",
    "    biases1 = b1.eval()"
   ]
  },
  {
   "cell_type": "code",
   "execution_count": 17,
   "metadata": {},
   "outputs": [
    {
     "data": {
      "image/png": "[encoded data removed]",
      "text/plain": [
       "<matplotlib.figure.Figure at 0x208931ab080>"
      ]
     },
     "metadata": {},
     "output_type": "display_data"
    }
   ],
   "source": [
    "# ORIGINAL VS RECONSTRUCTED\n",
    "f, a = plt.subplots(2, num_test_images, figsize=(20, 4))\n",
    "for i in range(start_point,num_test_images+start_point):\n",
    "    j = i-start_point\n",
    "    a[0][j].imshow(np.reshape(mnist.test.images[i], (28, 28)))\n",
    "    a[1][j].imshow(np.reshape(results[j], (28, 28)))"
   ]
  },
  {
   "cell_type": "code",
   "execution_count": 22,
   "metadata": {},
   "outputs": [
    {
     "name": "stdout",
     "output_type": "stream",
     "text": [
      "[-0.464 -0.35   0.4    0.596  0.34  -0.182 -0.038  0.051 -0.089 -0.239\n",
      "  0.063 -0.116  0.341  0.192 -0.131 -0.022  0.061  0.17  -0.14   0.603\n",
      " -0.035  0.175 -0.019  0.09  -0.493 -0.41   0.553  0.376  0.101 -0.276\n",
      "  0.179  0.242  0.198  0.216 -0.363 -0.267  0.137  0.568  0.032  0.203\n",
      " -0.187 -0.643 -0.607  0.547 -0.066  0.039 -0.537  0.167 -0.059 -0.103\n",
      " -0.313  0.363  0.416 -0.001  0.224 -0.566  0.006  0.575 -0.216 -0.226\n",
      " -0.564 -0.163 -0.553 -0.53  -0.467  0.551 -0.124 -0.086  0.053  0.322\n",
      " -0.274 -0.112 -0.102  0.558  0.113 -0.343  0.217  0.457 -0.193  0.306\n",
      " -0.591  0.139 -0.224 -0.162  0.594 -0.313  0.653 -0.603 -0.396  0.611\n",
      " -0.11   0.455  0.553 -0.108  0.164 -0.579  0.619  0.346 -0.226  0.055\n",
      " -0.579  0.114  0.224  0.062  0.537  0.126  0.216  0.162 -0.605 -0.598\n",
      "  0.156  0.186  0.14   0.416 -0.006 -0.04   0.564 -0.119 -0.385  0.121\n",
      "  0.126  0.207 -0.588  0.011 -0.196 -0.283  0.506 -0.228 -0.17   0.115\n",
      " -0.    -0.582 -0.607  0.518 -0.284 -0.122  0.587  0.078  0.094  0.553\n",
      " -0.373  0.119 -0.623 -0.18   0.455  0.05   0.036  0.447 -0.07   0.379\n",
      " -0.264  0.533  0.553  0.014  0.253  0.429  0.383 -0.364 -0.467  0.48\n",
      " -0.339 -0.015  0.01  -0.553  0.55  -0.412 -0.596 -0.029  0.612  0.411\n",
      "  0.394  0.186 -0.236 -0.12  -0.1   -0.316 -0.534 -0.627  0.007  0.036\n",
      " -0.103 -0.553 -0.399  0.02   0.42  -0.274  0.108 -0.51  -0.332 -0.139\n",
      "  0.187  0.169  0.025 -0.13   0.022  0.466 -0.621  0.28  -0.063  0.097\n",
      " -0.277  0.477  0.148  0.504 -0.33  -0.563  0.057  0.242  0.377  0.128\n",
      " -0.033  0.294 -0.536 -0.289 -0.264  0.082  0.266 -0.142 -0.216  0.157\n",
      "  0.517 -0.009 -0.254 -0.388 -0.466 -0.386 -0.461 -0.022 -0.621 -0.442\n",
      " -0.591  0.48   0.222 -0.043 -0.182 -0.196 -0.036  0.171  0.518  0.399\n",
      "  0.391  0.559  0.089  0.08  -0.468  0.422  0.53  -0.213 -0.513  0.146\n",
      " -0.347 -0.593 -0.181  0.449 -0.244  0.56  -0.22   0.44   0.207 -0.225\n",
      "  0.625 -0.121  0.019 -0.162 -0.494 -0.184  0.604  0.055  0.036  0.386\n",
      " -0.43   0.27  -0.005  0.515 -0.119  0.247 -0.61  -0.6   -0.648  0.041\n",
      "  0.11  -0.534  0.049  0.315  0.244  0.183  0.102 -0.122 -0.281 -0.518\n",
      " -0.233 -0.196  0.177 -0.231 -0.322  0.335  0.279  0.597 -0.267  0.545\n",
      " -0.354  0.168 -0.264 -0.036  0.333  0.499 -0.406 -0.299  0.371  0.376\n",
      " -0.099  0.3    0.064 -0.035 -0.116  0.222 -0.478  0.334 -0.585 -0.065\n",
      "  0.479 -0.283  0.174 -0.509  0.619  0.458  0.175  0.474 -0.098 -0.244\n",
      "  0.351 -0.043  0.511 -0.514  0.197 -0.088 -0.526 -0.567 -0.047 -0.347\n",
      "  0.043 -0.084  0.153  0.566 -0.077 -0.282 -0.168 -0.13   0.527 -0.037\n",
      "  0.091  0.536 -0.076  0.155 -0.19  -0.215  0.278  0.289 -0.551  0.147\n",
      " -0.327  0.393 -0.065  0.28   0.227  0.549  0.498  0.372  0.05  -0.433\n",
      "  0.007 -0.056  0.318  0.004 -0.467  0.001  0.037 -0.282 -0.229  0.108\n",
      "  0.122 -0.201 -0.505  0.472 -0.615  0.051 -0.092  0.597 -0.226 -0.184\n",
      "  0.39   0.073]\n"
     ]
    }
   ],
   "source": [
    "np.set_printoptions(precision=3, suppress=True)\n",
    "print(biases1)"
   ]
  },
  {
   "cell_type": "code",
   "execution_count": 28,
   "metadata": {},
   "outputs": [],
   "source": [
    "# np.save('./save/weights/w1.npy',weight1)\n",
    "#wt1 = np.load('./save/weights/w1.npy')"
   ]
  }
 ],
 "metadata": {
  "kernelspec": {
   "display_name": "Python 3",
   "language": "python",
   "name": "python3"
  },
  "language_info": {
   "codemirror_mode": {
    "name": "ipython",
    "version": 3
   },
   "file_extension": ".py",
   "mimetype": "text/x-python",
   "name": "python",
   "nbconvert_exporter": "python",
   "pygments_lexer": "ipython3",
   "version": "3.5.3"
  }
 },
 "nbformat": 4,
 "nbformat_minor": 2
}
