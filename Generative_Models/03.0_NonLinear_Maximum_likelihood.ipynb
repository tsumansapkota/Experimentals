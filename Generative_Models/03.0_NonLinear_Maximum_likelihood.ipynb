{
 "cells": [
  {
   "cell_type": "code",
   "execution_count": 48,
   "metadata": {},
   "outputs": [],
   "source": [
    "import numpy as np\n",
    "import matplotlib.pyplot as plt\n",
    "import matplotlib\n",
    "\n",
    "from sklearn.mixture import GaussianMixture\n",
    "from sklearn.cluster import KMeans\n",
    "from sklearn.datasets import make_circles, make_moons\n",
    "\n",
    "import scipy\n",
    "\n",
    "import torch\n",
    "import torch.nn as nn\n",
    "import math"
   ]
  },
  {
   "cell_type": "code",
   "execution_count": 49,
   "metadata": {},
   "outputs": [],
   "source": [
    "def prob_normal(x:torch.Tensor):\n",
    "    assert x.ndim > 1\n",
    "    return torch.exp(-0.5*(x**2).sum(dim=1, keepdim=True))/((2*np.pi)**(x.shape[1]/2))\n",
    "\n",
    "def prob_gaussian_1d(x, mean, std):\n",
    "    return 1/std/np.sqrt(2*np.pi)*torch.exp(-0.5*((x-mean)/std)**2)"
   ]
  },
  {
   "cell_type": "code",
   "execution_count": 50,
   "metadata": {},
   "outputs": [],
   "source": [
    "class prob_NN(nn.Module):\n",
    "    \n",
    "    def __init__(self, net):\n",
    "        super().__init__()\n",
    "        '''\n",
    "        net must be ND -> ND function ??\n",
    "        '''\n",
    "        self.net = net\n",
    "        \n",
    "    def forward(self,x):\n",
    "        x = self.net(x)\n",
    "        return prob_normal(x)"
   ]
  },
  {
   "cell_type": "code",
   "execution_count": 51,
   "metadata": {},
   "outputs": [],
   "source": [
    "inp = torch.randn(200,1)*3-1\n",
    "# inp = torch.rand(200)*5-1\n",
    "# targ = torch.ones_like(inp)/len(inp) "
   ]
  },
  {
   "cell_type": "code",
   "execution_count": 52,
   "metadata": {},
   "outputs": [
    {
     "data": {
      "text/plain": [
       "<matplotlib.collections.PathCollection at 0x7f88ecbdb350>"
      ]
     },
     "execution_count": 52,
     "metadata": {},
     "output_type": "execute_result"
    },
    {
     "data": {
      "image/png": "[encoded data removed]",
      "text/plain": [
       "<Figure size 432x288 with 1 Axes>"
      ]
     },
     "metadata": {
      "needs_background": "light"
     },
     "output_type": "display_data"
    }
   ],
   "source": [
    "%matplotlib inline\n",
    "\n",
    "targ_prob = prob_gaussian_1d(inp, -1, 3)\n",
    "plt.scatter(inp, targ_prob)"
   ]
  },
  {
   "cell_type": "code",
   "execution_count": 53,
   "metadata": {},
   "outputs": [],
   "source": [
    "net = nn.Sequential(\n",
    "    nn.Linear(1,1)\n",
    ")\n",
    "\n",
    "probNet = prob_NN(net)\n",
    "optimizer = torch.optim.Adam(probNet.parameters(), lr=0.001)\n",
    "\n",
    "# criterion = nn.NLLLoss()\n",
    "def criterion(probs):\n",
    "    return -torch.log(probs).sum()"
   ]
  },
  {
   "cell_type": "code",
   "execution_count": 54,
   "metadata": {},
   "outputs": [
    {
     "name": "stdout",
     "output_type": "stream",
     "text": [
      "Step:0, NLL:219.44705200195312\n",
      "Step:10, NLL:215.67572021484375\n",
      "Step:20, NLL:212.14898681640625\n",
      "Step:30, NLL:208.88851928710938\n",
      "Step:40, NLL:205.90196228027344\n",
      "Step:50, NLL:203.1861572265625\n",
      "Step:60, NLL:200.73098754882812\n",
      "Step:70, NLL:198.52276611328125\n",
      "Step:80, NLL:196.54611206054688\n",
      "Step:90, NLL:194.7850341796875\n",
      "Step:100, NLL:193.2234344482422\n",
      "Step:110, NLL:191.84539794921875\n",
      "Step:120, NLL:190.6354217529297\n",
      "Step:130, NLL:189.5784454345703\n",
      "Step:140, NLL:188.65994262695312\n",
      "Step:150, NLL:187.8660888671875\n",
      "Step:160, NLL:187.1837615966797\n",
      "Step:170, NLL:186.60060119628906\n",
      "Step:180, NLL:186.10501098632812\n",
      "Step:190, NLL:185.68638610839844\n",
      "Step:200, NLL:185.33480834960938\n",
      "Step:210, NLL:185.04132080078125\n",
      "Step:220, NLL:184.79782104492188\n",
      "Step:230, NLL:184.5970001220703\n",
      "Step:240, NLL:184.4324188232422\n",
      "Step:250, NLL:184.2983856201172\n",
      "Step:260, NLL:184.18988037109375\n",
      "Step:270, NLL:184.1026153564453\n",
      "Step:280, NLL:184.03285217285156\n",
      "Step:290, NLL:183.97743225097656\n",
      "Step:300, NLL:183.93370056152344\n",
      "Step:310, NLL:183.89939880371094\n",
      "Step:320, NLL:183.87265014648438\n",
      "Step:330, NLL:183.8519287109375\n",
      "Step:340, NLL:183.8359832763672\n",
      "Step:350, NLL:183.82376098632812\n",
      "Step:360, NLL:183.8144989013672\n",
      "Step:370, NLL:183.80747985839844\n",
      "Step:380, NLL:183.80223083496094\n",
      "Step:390, NLL:183.79830932617188\n",
      "Step:400, NLL:183.79539489746094\n",
      "Step:410, NLL:183.79324340820312\n",
      "Step:420, NLL:183.79168701171875\n",
      "Step:430, NLL:183.79055786132812\n",
      "Step:440, NLL:183.78973388671875\n",
      "Step:450, NLL:183.78912353515625\n",
      "Step:460, NLL:183.7886962890625\n",
      "Step:470, NLL:183.78839111328125\n",
      "Step:480, NLL:183.78817749023438\n",
      "Step:490, NLL:183.78802490234375\n",
      "Step:500, NLL:183.78793334960938\n",
      "Step:510, NLL:183.78787231445312\n",
      "Step:520, NLL:183.78781127929688\n",
      "Step:530, NLL:183.7877655029297\n",
      "Step:540, NLL:183.78775024414062\n",
      "Step:550, NLL:183.78773498535156\n",
      "Step:560, NLL:183.7877197265625\n",
      "Step:570, NLL:183.7877197265625\n",
      "Step:580, NLL:183.7877197265625\n",
      "Step:590, NLL:183.7877197265625\n",
      "Step:600, NLL:183.7877197265625\n",
      "Step:610, NLL:183.7877197265625\n",
      "Step:620, NLL:183.7877197265625\n",
      "Step:630, NLL:183.7877197265625\n",
      "Step:640, NLL:183.7877197265625\n",
      "Step:650, NLL:183.7877197265625\n",
      "Step:660, NLL:183.7877197265625\n",
      "Step:670, NLL:183.7877197265625\n",
      "Step:680, NLL:183.7877197265625\n",
      "Step:690, NLL:183.7877197265625\n",
      "Step:700, NLL:183.7877197265625\n",
      "Step:710, NLL:183.7877197265625\n",
      "Step:720, NLL:183.7877197265625\n",
      "Step:730, NLL:183.7877197265625\n",
      "Step:740, NLL:183.7877197265625\n",
      "Step:750, NLL:183.7877197265625\n",
      "Step:760, NLL:183.7877197265625\n",
      "Step:770, NLL:183.7877197265625\n",
      "Step:780, NLL:183.7877197265625\n",
      "Step:790, NLL:183.7877197265625\n",
      "Step:800, NLL:183.7877197265625\n",
      "Step:810, NLL:183.7877197265625\n",
      "Step:820, NLL:183.7877197265625\n",
      "Step:830, NLL:183.7877197265625\n",
      "Step:840, NLL:183.7877197265625\n",
      "Step:850, NLL:183.7877197265625\n",
      "Step:860, NLL:183.7877197265625\n",
      "Step:870, NLL:183.7877197265625\n",
      "Step:880, NLL:183.7877197265625\n",
      "Step:890, NLL:183.7877197265625\n",
      "Step:900, NLL:183.7877197265625\n",
      "Step:910, NLL:183.7877197265625\n",
      "Step:920, NLL:183.7877197265625\n",
      "Step:930, NLL:183.7877197265625\n",
      "Step:940, NLL:183.7877197265625\n",
      "Step:950, NLL:183.7877197265625\n",
      "Step:960, NLL:183.7877197265625\n",
      "Step:970, NLL:183.7877197265625\n",
      "Step:980, NLL:183.7877197265625\n",
      "Step:990, NLL:183.7877197265625\n"
     ]
    }
   ],
   "source": [
    "%matplotlib tk\n",
    "fig = plt.figure(figsize=(8,6))\n",
    "ax = fig.add_subplot(111)\n",
    "\n",
    "for step in range(1000):\n",
    "    prob = probNet(inp)\n",
    "    loss = criterion(prob)\n",
    "    \n",
    "    optimizer.zero_grad()\n",
    "    loss.backward()\n",
    "    optimizer.step()\n",
    "    if step%10 == 0:\n",
    "        print(f'Step:{step}, NLL:{float(loss)}')\n",
    "        \n",
    "        ax.clear()\n",
    "        ax.scatter(inp, targ_prob, marker='.', color='g')\n",
    "        ax.scatter(inp, prob.data.numpy().reshape(-1), color='r', lw=3, label='yout')\n",
    "#         ax.legend()\n",
    "#         print(\"\\n\")\n",
    "        plt.pause(0.01)"
   ]
  },
  {
   "cell_type": "code",
   "execution_count": 55,
   "metadata": {},
   "outputs": [
    {
     "data": {
      "text/plain": [
       "<matplotlib.collections.PathCollection at 0x7f88ef064590>"
      ]
     },
     "execution_count": 55,
     "metadata": {},
     "output_type": "execute_result"
    },
    {
     "data": {
      "image/png": "[encoded data removed]",
      "text/plain": [
       "<Figure size 576x432 with 1 Axes>"
      ]
     },
     "metadata": {
      "needs_background": "light"
     },
     "output_type": "display_data"
    }
   ],
   "source": [
    "%matplotlib inline\n",
    "fig = plt.figure(figsize=(8,6))\n",
    "ax = fig.add_subplot(111)\n",
    "\n",
    "ax.scatter(inp, targ_prob, marker='.', color='g')\n",
    "ax.scatter(inp, prob.data.numpy().reshape(-1), color='r', lw=3, label='yout')"
   ]
  },
  {
   "cell_type": "code",
   "execution_count": null,
   "metadata": {},
   "outputs": [],
   "source": []
  }
 ],
 "metadata": {
  "kernelspec": {
   "display_name": "Python 3",
   "language": "python",
   "name": "python3"
  },
  "language_info": {
   "codemirror_mode": {
    "name": "ipython",
    "version": 3
   },
   "file_extension": ".py",
   "mimetype": "text/x-python",
   "name": "python",
   "nbconvert_exporter": "python",
   "pygments_lexer": "ipython3",
   "version": "3.7.4"
  }
 },
 "nbformat": 4,
 "nbformat_minor": 4
}
