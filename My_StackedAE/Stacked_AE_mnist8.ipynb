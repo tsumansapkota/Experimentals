{
 "cells": [
  {
   "cell_type": "code",
   "execution_count": 16,
   "metadata": {},
   "outputs": [],
   "source": [
    "import numpy as np\n",
    "import tensorflow as tf\n",
    "import matplotlib.pyplot as plt\n",
    "%matplotlib inline"
   ]
  },
  {
   "cell_type": "code",
   "execution_count": 17,
   "metadata": {},
   "outputs": [],
   "source": [
    "from tensorflow.examples.tutorials.mnist import input_data"
   ]
  },
  {
   "cell_type": "code",
   "execution_count": 18,
   "metadata": {},
   "outputs": [
    {
     "name": "stdout",
     "output_type": "stream",
     "text": [
      "Extracting ../03-Convolutional-Neural-Networks/MNIST_data/train-images-idx3-ubyte.gz\n",
      "Extracting ../03-Convolutional-Neural-Networks/MNIST_data/train-labels-idx1-ubyte.gz\n",
      "Extracting ../03-Convolutional-Neural-Networks/MNIST_data/t10k-images-idx3-ubyte.gz\n",
      "Extracting ../03-Convolutional-Neural-Networks/MNIST_data/t10k-labels-idx1-ubyte.gz\n"
     ]
    }
   ],
   "source": [
    "mnist = input_data.read_data_sets(\"../03-Convolutional-Neural-Networks/MNIST_data/\",one_hot=True)"
   ]
  },
  {
   "cell_type": "code",
   "execution_count": 19,
   "metadata": {},
   "outputs": [],
   "source": [
    "tf.reset_default_graph() "
   ]
  },
  {
   "cell_type": "code",
   "execution_count": 20,
   "metadata": {},
   "outputs": [],
   "source": [
    "# DEFINE parameters\n",
    "num_inputs = 784 # 28*28\n",
    "neurons_hid1 = 392\n",
    "neurons_hid2 = 196\n",
    "neurons_hid3 = 98\n",
    "neurons_hid4 = 49\n",
    "neurons_hid5 = 25\n",
    "neurons_hid6 = 12\n",
    "neurons_hid7 = 6\n",
    "neurons_hid8 = 3\n",
    "neurons_hid9 = 2\n",
    "neurons_hid10 = 1\n",
    "\n",
    "learning_rate = 0.0001"
   ]
  },
  {
   "cell_type": "code",
   "execution_count": 21,
   "metadata": {},
   "outputs": [],
   "source": [
    "# PINV(PSEUDO-INVERSE) function\n",
    "def pinv(a, rcond=1e-15):\n",
    "    s, u, v = tf.svd(a)\n",
    "    # Ignore singular values close to zero to prevent numerical overflow\n",
    "    limit = rcond * tf.reduce_max(s)\n",
    "    non_zero = tf.greater(s, limit)\n",
    "\n",
    "    reciprocal = tf.where(non_zero, tf.reciprocal(s), tf.zeros(s.shape))\n",
    "    lhs = tf.matmul(v, tf.diag(reciprocal))\n",
    "    return tf.matmul(lhs, u, transpose_b=True)"
   ]
  },
  {
   "cell_type": "code",
   "execution_count": 22,
   "metadata": {},
   "outputs": [],
   "source": [
    "# TRANSPOSE OR PINV\n",
    "tie_weight = tf.transpose #pinv"
   ]
  },
  {
   "cell_type": "code",
   "execution_count": 23,
   "metadata": {},
   "outputs": [],
   "source": [
    "## PLACEHOLDER DEFINATION\n",
    "X = tf.placeholder(tf.float32, shape=[None, num_inputs])"
   ]
  },
  {
   "cell_type": "code",
   "execution_count": 24,
   "metadata": {},
   "outputs": [],
   "source": [
    "## WEIGHTS DEFINATION\n",
    "initializer = tf.variance_scaling_initializer()\n",
    "\n",
    "# w1 = tf.Variable(initializer([num_inputs, neurons_hid1]), dtype=tf.float32)\n",
    "w1 = tf.Variable(np.load('./save/weights/w1.npy'))\n",
    "w1_ = tie_weight(w1)\n",
    "\n",
    "w2 = tf.Variable(np.load('./save/weights/w2.npy'))\n",
    "w2_ = tie_weight(w2)\n",
    "\n",
    "w3 = tf.Variable(np.load('./save/weights/w3.npy'))\n",
    "w3_ = tie_weight(w3)\n",
    "\n",
    "w4 = tf.Variable(np.load('./save/weights/w4.npy'))\n",
    "w4_ = tie_weight(w4)\n",
    "\n",
    "w5 = tf.Variable(np.load('./save/weights/w5.npy'))\n",
    "w5_ = tie_weight(w5)\n",
    "\n",
    "w6 = tf.Variable(np.load('./save/weights/w6.npy'))\n",
    "w6_ = tie_weight(w6)\n",
    "\n",
    "w7 = tf.Variable(np.load('./save/weights/w7.npy'))\n",
    "w7_ = tie_weight(w7)\n",
    "\n",
    "w8 = tf.Variable(initializer([neurons_hid7, neurons_hid8]), dtype=tf.float32)\n",
    "w8_ = tie_weight(w8)"
   ]
  },
  {
   "cell_type": "code",
   "execution_count": 25,
   "metadata": {},
   "outputs": [],
   "source": [
    "# ACTIVATION FUNCTION  [ lambda X:X  <OR>  tf.nn.relu  ]\n",
    "act_func = lambda X:X #tf.nn.relu"
   ]
  },
  {
   "cell_type": "code",
   "execution_count": 26,
   "metadata": {},
   "outputs": [],
   "source": [
    "# LAYER MODELING OF :NN\n",
    "hid_layer1 = act_func(tf.matmul(X, w1))\n",
    "hid_layer2 = act_func(tf.matmul(hid_layer1, w2))\n",
    "hid_layer3 = act_func(tf.matmul(hid_layer2, w3))\n",
    "hid_layer4 = act_func(tf.matmul(hid_layer3, w4))\n",
    "hid_layer5 = act_func(tf.matmul(hid_layer4, w5))\n",
    "hid_layer6 = act_func(tf.matmul(hid_layer5, w6))\n",
    "hid_layer7 = act_func(tf.matmul(hid_layer6, w7))\n",
    "\n",
    "hid_layer8 = act_func(tf.matmul(hid_layer7, w8))\n",
    "\n",
    "hid_layer7_ = act_func(tf.matmul(hid_layer8, w8_))\n",
    "\n",
    "hid_layer6_ = act_func(tf.matmul(hid_layer7_, w7_))\n",
    "hid_layer5_ = act_func(tf.matmul(hid_layer6_, w6_))\n",
    "hid_layer4_ = act_func(tf.matmul(hid_layer5_, w5_))\n",
    "hid_layer3_ = act_func(tf.matmul(hid_layer4_, w4_))\n",
    "hid_layer2_ = act_func(tf.matmul(hid_layer3_, w3_))\n",
    "hid_layer1_ = act_func(tf.matmul(hid_layer2_,w2_))\n",
    "\n",
    "output_layer = tf.matmul(hid_layer1_, w1_)"
   ]
  },
  {
   "cell_type": "code",
   "execution_count": 27,
   "metadata": {},
   "outputs": [],
   "source": [
    "# LOSS FUNCTIONS\n",
    "loss = tf.reduce_mean(tf.square(output_layer - X))\n",
    "# loss = tf.reduce_mean(tf.abs(output_layer - X))\n",
    "# cross_entropy = tf.reduce_mean(tf.nn.softmax_cross_entropy_with_logits(labels=Y,logits=yout))"
   ]
  },
  {
   "cell_type": "code",
   "execution_count": 28,
   "metadata": {},
   "outputs": [],
   "source": [
    "# TRAINING\n",
    "optimizer = tf.train.AdamOptimizer(learning_rate)\n",
    "train = optimizer.minimize(loss, var_list=[w8])"
   ]
  },
  {
   "cell_type": "code",
   "execution_count": 29,
   "metadata": {},
   "outputs": [],
   "source": [
    "# PREPARATION\n",
    "init = tf.global_variables_initializer()\n",
    "saver = tf.train.Saver() "
   ]
  },
  {
   "cell_type": "code",
   "execution_count": 30,
   "metadata": {},
   "outputs": [
    {
     "name": "stdout",
     "output_type": "stream",
     "text": [
      "Epoch 0 Complete. Training Loss: 0.07999961823225021\n",
      "Epoch 1 Complete. Training Loss: 0.07899045199155807\n",
      "Epoch 2 Complete. Training Loss: 0.07211938500404358\n",
      "Epoch 3 Complete. Training Loss: 0.07096059620380402\n",
      "Epoch 4 Complete. Training Loss: 0.0641823410987854\n",
      "Epoch 5 Complete. Training Loss: 0.0632481500506401\n",
      "Epoch 6 Complete. Training Loss: 0.057420894503593445\n",
      "Epoch 7 Complete. Training Loss: 0.059249766170978546\n",
      "Epoch 8 Complete. Training Loss: 0.05622308701276779\n",
      "Epoch 9 Complete. Training Loss: 0.05476687103509903\n",
      "Epoch 10 Complete. Training Loss: 0.05575793236494064\n",
      "Epoch 11 Complete. Training Loss: 0.055992331355810165\n",
      "Epoch 12 Complete. Training Loss: 0.05480414256453514\n",
      "Epoch 13 Complete. Training Loss: 0.05503888055682182\n",
      "Epoch 14 Complete. Training Loss: 0.056033674627542496\n",
      "Epoch 15 Complete. Training Loss: 0.05424719676375389\n",
      "Epoch 16 Complete. Training Loss: 0.054132137447595596\n",
      "Epoch 17 Complete. Training Loss: 0.05406083166599274\n",
      "Epoch 18 Complete. Training Loss: 0.05401921644806862\n",
      "Epoch 19 Complete. Training Loss: 0.05631127953529358\n",
      "Epoch 20 Complete. Training Loss: 0.05566065013408661\n",
      "Epoch 21 Complete. Training Loss: 0.053861554712057114\n",
      "Keyboard Interrupted\n",
      "Finished Training the Model\n"
     ]
    }
   ],
   "source": [
    "num_epochs = 100\n",
    "batch_size = 150\n",
    "\n",
    "try:\n",
    "    with tf.Session() as sess:\n",
    "        sess.run(init)\n",
    "\n",
    "        # Epoch == Entire Training Set\n",
    "        for epoch in range(num_epochs):\n",
    "            num_batches = mnist.train.num_examples // batch_size\n",
    "\n",
    "            # 150 batch size\n",
    "            for iteration in range(num_batches):\n",
    "                X_batch, y_batch = mnist.train.next_batch(batch_size)\n",
    "                sess.run(train, feed_dict={X: X_batch})\n",
    "\n",
    "            training_loss = loss.eval(feed_dict={X: X_batch})   \n",
    "            print(\"Epoch {} Complete. Training Loss: {}\".format(epoch,training_loss))\n",
    "            saver.save(sess, \"./save/ae_8_3.ckpt\")      \n",
    "except KeyboardInterrupt:\n",
    "    print('Keyboard Interrupted')\n",
    "finally:\n",
    "    print('Finished Training the Model')"
   ]
  },
  {
   "cell_type": "code",
   "execution_count": 31,
   "metadata": {},
   "outputs": [
    {
     "name": "stdout",
     "output_type": "stream",
     "text": [
      "INFO:tensorflow:Restoring parameters from ./save/ae_8_3.ckpt\n"
     ]
    }
   ],
   "source": [
    "num_test_images = 10\n",
    "start_point = 15\n",
    "with tf.Session() as sess:\n",
    "    \n",
    "    saver.restore(sess,\"./save/ae_8_3.ckpt\")\n",
    "    \n",
    "    results,compressed = sess.run([output_layer, hid_layer1],\n",
    "                                  feed_dict={X:mnist.test.images[start_point:num_test_images+start_point]})\n",
    "    weight8 = w8.eval()"
   ]
  },
  {
   "cell_type": "code",
   "execution_count": 32,
   "metadata": {},
   "outputs": [
    {
     "data": {
      "image/png": "[encoded data removed]",
      "text/plain": [
       "<matplotlib.figure.Figure at 0x2b70de49b38>"
      ]
     },
     "metadata": {},
     "output_type": "display_data"
    }
   ],
   "source": [
    "# ORIGINAL VS RECONSTRUCTED\n",
    "f, a = plt.subplots(2, num_test_images, figsize=(20, 4))\n",
    "for i in range(start_point,num_test_images+start_point):\n",
    "    j = i-start_point\n",
    "    a[0][j].imshow(np.reshape(mnist.test.images[i], (28, 28)))\n",
    "    a[1][j].imshow(np.reshape(results[j], (28, 28)))"
   ]
  },
  {
   "cell_type": "code",
   "execution_count": 34,
   "metadata": {},
   "outputs": [
    {
     "name": "stdout",
     "output_type": "stream",
     "text": [
      "(6, 3)\n"
     ]
    }
   ],
   "source": [
    "print(weight8.shape)\n",
    "np.save('./save/weights/w8.npy',weight8)\n",
    "#wt1 = np.load('./save/weights/w1.npy')"
   ]
  },
  {
   "cell_type": "code",
   "execution_count": null,
   "metadata": {},
   "outputs": [],
   "source": []
  }
 ],
 "metadata": {
  "kernelspec": {
   "display_name": "Python 3",
   "language": "python",
   "name": "python3"
  },
  "language_info": {
   "codemirror_mode": {
    "name": "ipython",
    "version": 3
   },
   "file_extension": ".py",
   "mimetype": "text/x-python",
   "name": "python",
   "nbconvert_exporter": "python",
   "pygments_lexer": "ipython3",
   "version": "3.5.3"
  }
 },
 "nbformat": 4,
 "nbformat_minor": 2
}
