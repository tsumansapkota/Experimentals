{
 "cells": [
  {
   "cell_type": "code",
   "execution_count": 1,
   "metadata": {},
   "outputs": [],
   "source": [
    "import numpy as np\n",
    "import matplotlib\n",
    "import matplotlib.pyplot as plt\n",
    "%matplotlib inline\n",
    "from mpl_toolkits.mplot3d import Axes3D\n",
    "\n",
    "import torch\n",
    "import torch.nn as nn\n",
    "import torch.nn.functional as F\n",
    "import torch.optim as optim\n",
    "\n",
    "import random, os, pathlib, time\n",
    "from tqdm import tqdm\n",
    "from sklearn import datasets"
   ]
  },
  {
   "cell_type": "code",
   "execution_count": 2,
   "metadata": {},
   "outputs": [],
   "source": [
    "# device = torch.device(\"cuda:1\")\n",
    "device = torch.device(\"cpu\")"
   ]
  },
  {
   "cell_type": "markdown",
   "metadata": {},
   "source": [
    "## 1D regression dataset"
   ]
  },
  {
   "cell_type": "code",
   "execution_count": 3,
   "metadata": {},
   "outputs": [
    {
     "data": {
      "image/png": "[encoded data removed]",
      "text/plain": [
       "<Figure size 432x288 with 1 Axes>"
      ]
     },
     "metadata": {
      "needs_background": "light"
     },
     "output_type": "display_data"
    }
   ],
   "source": [
    "class Dataset2Dregression:\n",
    "    def __init__(self):\n",
    "        np.random.seed(12)\n",
    "        x = np.linspace(0,1,300)\n",
    "        noise = np.random.normal(0,0.02, x.shape)\n",
    "        x = x + noise\n",
    "        x = np.sort(x)\n",
    "\n",
    "        y= (2 * np.sin(10*x) + np.cos(20 * x - 3) + 3 * np.log(10*x + 0.5) - 4)/6.\n",
    "        noise = np.random.normal(0,0.1, x.shape)\n",
    "        y = y + noise\n",
    "\n",
    "        x = x*2\n",
    "        x = x - x.mean() # good practice to zero-center x in linear mapping\n",
    "        self.xx = torch.Tensor(x.reshape(-1,1))\n",
    "        self.yy = torch.Tensor(y.reshape(-1,1))\n",
    "        self.xy = torch.cat([self.xx, self.yy], dim=-1)\n",
    "        pass\n",
    "        \n",
    "    def sample(self, n):\n",
    "        assert n <= len(self.xx)\n",
    "        rand_idx = torch.randperm(len(self.xx))[:n]\n",
    "        \n",
    "        return self.xy[rand_idx]\n",
    "\n",
    "dataset = Dataset2Dregression()\n",
    "x, y = dataset.xy[:,0], dataset.xy[:,1]\n",
    "\n",
    "%matplotlib inline\n",
    "plt.scatter(x, y, marker='.', color='g')\n",
    "plt.show()"
   ]
  },
  {
   "cell_type": "markdown",
   "metadata": {},
   "source": [
    "### Fit x, y - data with Normalizing Flow"
   ]
  },
  {
   "cell_type": "code",
   "execution_count": 116,
   "metadata": {},
   "outputs": [],
   "source": [
    "from nflib.flows import SequentialFlow, NormalizingFlow, ActNorm\n",
    "import nflib.res_flow as irf\n",
    "import nflib\n",
    "\n",
    "import torch.distributions as D"
   ]
  },
  {
   "cell_type": "code",
   "execution_count": 87,
   "metadata": {},
   "outputs": [],
   "source": [
    "# class GaussianMixtureModel(torch.nn.Module):\n",
    "\n",
    "#     def __init__(self, n_components: int=2):\n",
    "#         super().__init__()\n",
    "#         weights = torch.ones(n_components, )\n",
    "#         means   = torch.randn(n_components, )\n",
    "#         stdevs  = torch.tensor(np.abs(np.random.randn(n_components, )))\n",
    "#         self.weights = torch.nn.Parameter(weights)\n",
    "#         self.means   = torch.nn.Parameter(means)\n",
    "#         self.stdevs  = torch.nn.Parameter(stdevs)\n",
    "        \n",
    "#     def log_prob(self, x):\n",
    "#         mix  = D.Categorical(self.weights)\n",
    "        \n",
    "# #         comp = D.Normal(self.means, self.stdevs)\n",
    "#         ### remove issue of negative std and exploding std.\n",
    "#         std_weight = 1e-4\n",
    "#         comp = D.Normal(self.means, std_weight * self.stdevs.abs())\n",
    "\n",
    "#         gmm  = D.MixtureSameFamily(mix, comp)\n",
    "#         return gmm.log_prob(x)"
   ]
  },
  {
   "cell_type": "code",
   "execution_count": 88,
   "metadata": {},
   "outputs": [],
   "source": [
    "# from gmm_ssl import SSLGaussMixture"
   ]
  },
  {
   "cell_type": "code",
   "execution_count": 89,
   "metadata": {},
   "outputs": [],
   "source": [
    "prior = MultivariateNormal(torch.zeros(2), torch.eye(2))\n",
    "# prior = GaussianMixtureModel(2)\n",
    "# prior = SSLGaussMixture(torch.zeros(15, 2))\n",
    "\n",
    "flows = []\n",
    "hidden_dims = [20,20]\n",
    "\n",
    "for i in range(3): ## N layers\n",
    "    a = irf.ResidualFlow(2, hidden_dims, activation=irf.Swish, scaler=0.97, reverse=False)\n",
    "    b = ActNorm(2)\n",
    "    flows += [b, a]\n",
    "\n",
    "model = NormalizingFlow(flows, prior)"
   ]
  },
  {
   "cell_type": "code",
   "execution_count": 90,
   "metadata": {},
   "outputs": [],
   "source": [
    "# dir(prior)"
   ]
  },
  {
   "cell_type": "code",
   "execution_count": 91,
   "metadata": {},
   "outputs": [
    {
     "data": {
      "text/plain": [
       "NormalizingFlow(\n",
       "  (flow): SequentialFlow(\n",
       "    (flows): ModuleList(\n",
       "      (0): ActNorm()\n",
       "      (1): ResidualFlow(\n",
       "        (resblock): ModuleList(\n",
       "          (0): Linear(in_features=2, out_features=20, bias=True)\n",
       "          (1): Swish()\n",
       "          (2): Linear(in_features=20, out_features=20, bias=True)\n",
       "          (3): Swish()\n",
       "          (4): Linear(in_features=20, out_features=2, bias=True)\n",
       "        )\n",
       "      )\n",
       "      (2): ActNorm()\n",
       "      (3): ResidualFlow(\n",
       "        (resblock): ModuleList(\n",
       "          (0): Linear(in_features=2, out_features=20, bias=True)\n",
       "          (1): Swish()\n",
       "          (2): Linear(in_features=20, out_features=20, bias=True)\n",
       "          (3): Swish()\n",
       "          (4): Linear(in_features=20, out_features=2, bias=True)\n",
       "        )\n",
       "      )\n",
       "      (4): ActNorm()\n",
       "      (5): ResidualFlow(\n",
       "        (resblock): ModuleList(\n",
       "          (0): Linear(in_features=2, out_features=20, bias=True)\n",
       "          (1): Swish()\n",
       "          (2): Linear(in_features=20, out_features=20, bias=True)\n",
       "          (3): Swish()\n",
       "          (4): Linear(in_features=20, out_features=2, bias=True)\n",
       "        )\n",
       "      )\n",
       "    )\n",
       "  )\n",
       ")"
      ]
     },
     "execution_count": 91,
     "metadata": {},
     "output_type": "execute_result"
    }
   ],
   "source": [
    "model"
   ]
  },
  {
   "cell_type": "markdown",
   "metadata": {},
   "source": [
    "## Model Train"
   ]
  },
  {
   "cell_type": "code",
   "execution_count": 92,
   "metadata": {},
   "outputs": [
    {
     "name": "stdout",
     "output_type": "stream",
     "text": [
      "number of params:  1584\n"
     ]
    }
   ],
   "source": [
    "optimizer = optim.Adam(model.parameters(), lr=0.001, weight_decay=0.0) # todo tune WD\n",
    "print(\"number of params: \", sum(p.numel() for p in model.parameters()))"
   ]
  },
  {
   "cell_type": "code",
   "execution_count": 93,
   "metadata": {},
   "outputs": [
    {
     "data": {
      "text/plain": [
       "(tensor([[ 1.3633,  1.7957],\n",
       "         [-1.4301, -1.8513],\n",
       "         [ 1.3062,  1.6961],\n",
       "         [ 1.2717,  2.0737],\n",
       "         [ 0.1464, -0.3793],\n",
       "         [ 1.3718,  1.3782],\n",
       "         [-0.7404, -0.0900],\n",
       "         [-0.1007, -0.4246],\n",
       "         [-0.0060, -0.4241],\n",
       "         [-1.1194,  0.3448],\n",
       "         [-0.0251, -0.2139],\n",
       "         [ 0.5466,  0.0298],\n",
       "         [-0.1706, -0.2018],\n",
       "         [ 1.7794,  0.5906],\n",
       "         [-1.2699, -0.5843],\n",
       "         [ 1.7951,  0.8502],\n",
       "         [-1.2882, -0.3272],\n",
       "         [-0.8012, -0.0822],\n",
       "         [-0.3345, -0.7952],\n",
       "         [ 0.7781,  0.7953],\n",
       "         [-1.3898, -1.1425],\n",
       "         [-0.1004, -0.3460],\n",
       "         [ 0.8131,  1.0690],\n",
       "         [ 0.4704,  0.0802],\n",
       "         [ 0.6662,  0.6918],\n",
       "         [-0.4693, -0.1515],\n",
       "         [-1.1370,  0.2668],\n",
       "         [ 0.3496, -0.1978],\n",
       "         [ 0.9823,  1.5257],\n",
       "         [-1.3143, -0.8823],\n",
       "         [-0.0338,  0.2135],\n",
       "         [-0.1141, -0.7719],\n",
       "         [-0.8149,  0.0406],\n",
       "         [-0.7234, -0.1291],\n",
       "         [ 0.2395, -0.1994],\n",
       "         [-0.3276, -0.1828],\n",
       "         [ 1.3435,  1.5169],\n",
       "         [ 1.1705,  1.6942],\n",
       "         [ 1.2084,  1.8685],\n",
       "         [-0.5117, -0.4661],\n",
       "         [-0.7829,  0.1787],\n",
       "         [-0.1316, -0.0972],\n",
       "         [-1.5311, -2.9723],\n",
       "         [-1.3338, -0.4475],\n",
       "         [-0.0589, -0.1858],\n",
       "         [ 0.0161, -0.0792],\n",
       "         [ 1.7686,  0.4085],\n",
       "         [ 1.1143,  2.1180],\n",
       "         [-0.1625, -0.6976],\n",
       "         [ 0.3738,  0.0082],\n",
       "         [-1.3814, -1.5320],\n",
       "         [ 0.8538,  1.1643],\n",
       "         [ 1.9072,  0.3649],\n",
       "         [-0.8981,  0.2084],\n",
       "         [-0.8576,  0.1453],\n",
       "         [ 1.5788,  0.7541],\n",
       "         [ 1.4821,  1.0494],\n",
       "         [ 0.2925,  0.1919],\n",
       "         [-0.2445, -0.4022],\n",
       "         [ 1.4307,  1.7172],\n",
       "         [-0.0696, -0.4680],\n",
       "         [ 0.1705, -0.1012],\n",
       "         [ 1.6831,  0.7999],\n",
       "         [-0.3037, -0.0345],\n",
       "         [ 0.5369,  0.0849],\n",
       "         [-0.7567, -0.0212],\n",
       "         [-1.4730, -2.3907],\n",
       "         [ 0.9004,  1.3310],\n",
       "         [ 1.9764,  0.3985],\n",
       "         [ 1.3627,  1.7765],\n",
       "         [ 0.1949, -0.0519],\n",
       "         [ 1.5177,  1.1105],\n",
       "         [-0.3866, -0.4562],\n",
       "         [-0.9421,  0.4279],\n",
       "         [-0.6927, -0.2275],\n",
       "         [-1.0905,  0.8176],\n",
       "         [-1.2418, -0.5770],\n",
       "         [ 1.8679,  0.5098],\n",
       "         [ 1.3504,  1.6785],\n",
       "         [ 0.5120, -0.2697],\n",
       "         [ 0.6831,  1.1032],\n",
       "         [-0.6372,  0.0253],\n",
       "         [-1.1763,  0.0406],\n",
       "         [-1.1617,  0.2190],\n",
       "         [ 0.7648,  0.9996],\n",
       "         [-0.2337, -0.5731],\n",
       "         [-0.9529,  0.5605],\n",
       "         [ 1.1154,  1.6753],\n",
       "         [ 0.1881,  0.0121],\n",
       "         [-0.5691, -0.4015],\n",
       "         [ 0.1357, -0.0697],\n",
       "         [-1.3707, -1.6408],\n",
       "         [ 0.1440, -0.0798],\n",
       "         [ 0.9078,  1.3491],\n",
       "         [ 0.6808,  0.2977],\n",
       "         [ 1.0071,  1.4620],\n",
       "         [ 1.9307,  0.6517],\n",
       "         [-1.4658, -2.3857],\n",
       "         [ 0.2846, -0.1082],\n",
       "         [-1.0125,  0.7079],\n",
       "         [-1.0250,  0.4329],\n",
       "         [-0.4933, -0.3556],\n",
       "         [ 1.7174,  0.9455],\n",
       "         [ 0.4689, -0.6832],\n",
       "         [ 0.3479, -0.3774],\n",
       "         [ 1.2109,  2.2190],\n",
       "         [ 0.9599,  1.5504],\n",
       "         [-0.3573, -0.2666],\n",
       "         [ 0.4922, -0.2117],\n",
       "         [ 0.7724,  0.4820],\n",
       "         [ 1.0285,  1.9379],\n",
       "         [-1.2359, -0.2814],\n",
       "         [ 1.6123,  1.1999],\n",
       "         [ 0.8311,  0.9859],\n",
       "         [-0.8902,  0.6259],\n",
       "         [ 1.1763,  1.9806],\n",
       "         [ 0.6042,  0.1016],\n",
       "         [ 1.0090,  1.6962],\n",
       "         [-0.1220, -0.5664],\n",
       "         [ 1.7392,  0.5457],\n",
       "         [-1.2916, -0.5632],\n",
       "         [ 0.3519, -0.5646],\n",
       "         [ 0.4628, -0.1364],\n",
       "         [-1.3987, -1.6682],\n",
       "         [-0.6229, -0.4017],\n",
       "         [ 0.6833,  0.6600],\n",
       "         [ 1.9043,  0.5544],\n",
       "         [-0.2574, -0.3498]], grad_fn=<AddBackward0>),\n",
       " tensor([1.3192, 1.4635, 1.3241, 1.3096, 1.4215, 1.3360, 1.4221, 1.4269, 1.4252,\n",
       "         1.3967, 1.4216, 1.4039, 1.4235, 1.3586, 1.4332, 1.3498, 1.4231, 1.4213,\n",
       "         1.4362, 1.3716, 1.4489, 1.4255, 1.3595, 1.4044, 1.3785, 1.4246, 1.4001,\n",
       "         1.4138, 1.3367, 1.4423, 1.4098, 1.4317, 1.4165, 1.4235, 1.4163, 1.4246,\n",
       "         1.3308, 1.3264, 1.3187, 1.4328, 1.4112, 1.4204, 1.4752, 1.4270, 1.4215,\n",
       "         1.4178, 1.3643, 1.3104, 1.4318, 1.4086, 1.4578, 1.3546, 1.3640, 1.4082,\n",
       "         1.4116, 1.3560, 1.3470, 1.4051, 1.4287, 1.3214, 1.4271, 1.4156, 1.3529,\n",
       "         1.4203, 1.4026, 1.4195, 1.4706, 1.3465, 1.3624, 1.3200, 1.4139, 1.3441,\n",
       "         1.4315, 1.3971, 1.4269, 1.3727, 1.4334, 1.3601, 1.3242, 1.4112, 1.3608,\n",
       "         1.4186, 1.4098, 1.4017, 1.3635, 1.4315, 1.3902, 1.3281, 1.4124, 1.4316,\n",
       "         1.4155, 1.4599, 1.4156, 1.3456, 1.3926, 1.3389, 1.3551, 1.4705, 1.4133,\n",
       "         1.3810, 1.3948, 1.4301, 1.3474, 1.4173, 1.4169, 1.3050, 1.3361, 1.4270,\n",
       "         1.4107, 1.3839, 1.3189, 1.4224, 1.3394, 1.3626, 1.3884, 1.3147, 1.4005,\n",
       "         1.3291, 1.4294, 1.3605, 1.4321, 1.4192, 1.4099, 1.4604, 1.4318, 1.3793,\n",
       "         1.3584, 1.4278], grad_fn=<AddBackward0>),\n",
       " tensor([-4.3794, -4.5741, -4.1294, -4.7965, -1.9205, -3.7285, -2.1160, -1.9331,\n",
       "         -1.9278, -2.5238, -1.8611, -1.9877, -1.8728, -3.5954, -2.8149, -3.8104,\n",
       "         -2.7211, -2.1622, -2.2100, -2.4569, -3.4563, -1.9028, -2.7398, -1.9517,\n",
       "         -2.2991, -1.9595, -2.5198, -1.9186, -3.4843, -3.0908, -1.8612, -2.1423,\n",
       "         -2.1707, -2.1079, -1.8864, -1.9083, -3.8910, -3.9580, -4.3137, -2.0774,\n",
       "         -2.1603, -1.8513, -7.4271, -2.8275, -1.8569, -1.8411, -3.4853, -4.7017,\n",
       "         -2.0944, -1.9078, -3.9656, -2.8802, -3.7232, -2.2629, -2.2162, -3.3685,\n",
       "         -3.4868, -1.8991, -1.9487, -4.3357, -1.9498, -1.8575, -3.5743, -1.8846,\n",
       "         -1.9856, -2.1244, -5.7805, -3.1290, -3.8703, -4.3443, -1.8582, -3.6063,\n",
       "         -2.0167, -2.3732, -2.1037, -2.7667, -2.7754, -3.7123, -4.1584, -2.0053,\n",
       "         -2.6797, -2.0412, -2.5305, -2.5366, -2.6300, -2.0294, -2.4489, -3.8632,\n",
       "         -1.8556, -2.0805, -1.8495, -4.1235, -1.8514, -3.1599, -2.1139, -3.4137,\n",
       "         -3.9140, -5.7579, -1.8842, -2.6010, -2.4568, -2.0228, -3.7596, -2.1812,\n",
       "         -1.9696, -5.0331, -3.5005, -1.9372, -1.9814, -2.2523, -4.2444, -2.6412,\n",
       "         -3.8574, -2.6692, -2.4300, -4.4910, -2.0256, -3.7854, -2.0057, -3.4992,\n",
       "         -2.8305, -2.0592, -1.9543, -4.2075, -2.1125, -2.2891, -3.8047, -1.9322],\n",
       "        grad_fn=<SumBackward1>))"
      ]
     },
     "execution_count": 93,
     "metadata": {},
     "output_type": "execute_result"
    }
   ],
   "source": [
    "x = dataset.sample(128)\n",
    "\n",
    "### Model has parameters: input(x), logDetJ=False, intermediate=False\n",
    "model(x, True, False)"
   ]
  },
  {
   "cell_type": "code",
   "execution_count": 94,
   "metadata": {},
   "outputs": [
    {
     "name": "stderr",
     "output_type": "stream",
     "text": [
      "  0%|          | 12/5001 [00:00<01:23, 59.75it/s]"
     ]
    },
    {
     "name": "stdout",
     "output_type": "stream",
     "text": [
      "0 1.486603856086731\n",
      "tensor(1.4515) tensor(1.3293)\n"
     ]
    },
    {
     "name": "stderr",
     "output_type": "stream",
     "text": [
      " 20%|██        | 1009/5001 [00:15<00:58, 68.12it/s]"
     ]
    },
    {
     "name": "stdout",
     "output_type": "stream",
     "text": [
      "1000 0.23223143815994263\n",
      "tensor(4.3251) tensor(0.6747)\n"
     ]
    },
    {
     "name": "stderr",
     "output_type": "stream",
     "text": [
      " 40%|████      | 2012/5001 [00:30<00:43, 68.83it/s]"
     ]
    },
    {
     "name": "stdout",
     "output_type": "stream",
     "text": [
      "2000 -0.0008834600448608398\n",
      "tensor(4.6928) tensor(0.4723)\n"
     ]
    },
    {
     "name": "stderr",
     "output_type": "stream",
     "text": [
      " 60%|██████    | 3006/5001 [00:46<00:36, 55.17it/s]"
     ]
    },
    {
     "name": "stdout",
     "output_type": "stream",
     "text": [
      "3000 -0.1561279445886612\n",
      "tensor(4.5484) tensor(0.5770)\n"
     ]
    },
    {
     "name": "stderr",
     "output_type": "stream",
     "text": [
      " 80%|████████  | 4009/5001 [01:01<00:14, 69.01it/s]"
     ]
    },
    {
     "name": "stdout",
     "output_type": "stream",
     "text": [
      "4000 -0.2383098304271698\n",
      "tensor(4.5344) tensor(0.9571)\n"
     ]
    },
    {
     "name": "stderr",
     "output_type": "stream",
     "text": [
      "100%|██████████| 5001/5001 [01:18<00:00, 63.92it/s]"
     ]
    },
    {
     "name": "stdout",
     "output_type": "stream",
     "text": [
      "5000 -0.2635304629802704\n",
      "tensor(4.7021) tensor(1.3879)\n"
     ]
    },
    {
     "name": "stderr",
     "output_type": "stream",
     "text": [
      "\n"
     ]
    }
   ],
   "source": [
    "model.train()\n",
    "losses = []\n",
    "for k in tqdm(range(1000*5+1)):\n",
    "    x = dataset.sample(300)\n",
    "    \n",
    "    z, logDetJ, prior_logP = model(x, True)\n",
    "    loss = -torch.mean(prior_logP + logDetJ) # NLL\n",
    "    \n",
    "    model.zero_grad()\n",
    "    loss.backward()\n",
    "    optimizer.step()\n",
    "\n",
    "    if k % 1000 == 0:\n",
    "        losses.append(loss.item())\n",
    "        print(k, losses[-1])\n",
    "        print(logDetJ.data.max(), logDetJ.data.min())"
   ]
  },
  {
   "cell_type": "code",
   "execution_count": 95,
   "metadata": {},
   "outputs": [
    {
     "name": "stdout",
     "output_type": "stream",
     "text": [
      "tensor(-0.2098, grad_fn=<NegBackward>)\n"
     ]
    },
    {
     "data": {
      "text/plain": [
       "Text(0.5, 1.0, 'z -> x')"
      ]
     },
     "execution_count": 95,
     "metadata": {},
     "output_type": "execute_result"
    },
    {
     "data": {
      "image/png": "[encoded data removed]",
      "text/plain": [
       "<Figure size 720x360 with 2 Axes>"
      ]
     },
     "metadata": {
      "needs_background": "light"
     },
     "output_type": "display_data"
    }
   ],
   "source": [
    "model.eval()\n",
    "\n",
    "x = dataset.sample(128)\n",
    "z, logDetJ, prior_logP = model(x, True)\n",
    "print(-torch.mean(prior_logP + logDetJ))\n",
    "\n",
    "x = x.detach().numpy()\n",
    "z = z.detach().numpy()\n",
    "p = model.prior.sample((128,))\n",
    "plt.figure(figsize=(10,5))\n",
    "plt.subplot(121)\n",
    "plt.scatter(p[:,0], p[:,1], c='g', s=5)\n",
    "plt.scatter(z[:,0], z[:,1], c='r', s=5)\n",
    "plt.scatter(x[:,0], x[:,1], c='b', s=5)\n",
    "plt.legend(['prior', 'x->z', 'data'])\n",
    "plt.axis('scaled')\n",
    "plt.title('x -> z')\n",
    "\n",
    "z = model.sample(128*8)\n",
    "z = z.detach().numpy()\n",
    "plt.subplot(122)\n",
    "plt.scatter(x[:,0], x[:,1], c='b', s=5, alpha=0.5)\n",
    "plt.scatter(z[:,0], z[:,1], c='r', s=5, alpha=0.5)\n",
    "plt.legend(['data', 'z->x'])\n",
    "plt.axis('scaled')\n",
    "plt.title('z -> x')"
   ]
  },
  {
   "cell_type": "markdown",
   "metadata": {},
   "source": [
    "## Fit the gaussians "
   ]
  },
  {
   "cell_type": "code",
   "execution_count": 280,
   "metadata": {},
   "outputs": [],
   "source": [
    "from sklearn.mixture import GaussianMixture"
   ]
  },
  {
   "cell_type": "code",
   "execution_count": 281,
   "metadata": {},
   "outputs": [
    {
     "data": {
      "text/plain": [
       "<matplotlib.collections.PathCollection at 0x7f76fbc012d0>"
      ]
     },
     "execution_count": 281,
     "metadata": {},
     "output_type": "execute_result"
    },
    {
     "data": {
      "image/png": "[encoded data removed]",
      "text/plain": [
       "<Figure size 432x288 with 1 Axes>"
      ]
     },
     "metadata": {
      "needs_background": "light"
     },
     "output_type": "display_data"
    }
   ],
   "source": [
    "gmm = GaussianMixture(\n",
    "    n_components=5,\n",
    "    covariance_type = 'spherical', ## Must be one of ‘spherical’, ‘tied’, ‘diag’, ‘full’\n",
    ")\n",
    "gmmc = gmm.fit_predict(dataset.xy)\n",
    "\n",
    "x, y = dataset.xy[:,0], dataset.xy[:,1]\n",
    "plt.scatter(x, y, c=gmmc, s=50, edgecolors='k', lw=0.5)"
   ]
  },
  {
   "cell_type": "code",
   "execution_count": 282,
   "metadata": {},
   "outputs": [],
   "source": [
    "def plot_results(X, Y_, means, covariances_, covariance_type, alpha=0.2, covar_scale = [0.5, 1, 2] ):\n",
    "    ax = plt.subplot(1, 1, 1)\n",
    "    \n",
    "    N = len(means)\n",
    "    for i, mean in enumerate(means):\n",
    "        \n",
    "        if covariance_type == \"full\":\n",
    "            covar = covariances_[i][:N, :N]\n",
    "        elif covariance_type == \"tied\":\n",
    "            covar = covariances_[:N, :N]\n",
    "        elif covariance_type == \"diag\":\n",
    "            covar = np.diag(covariances_[i][:N])\n",
    "        elif covariance_type == \"spherical\":\n",
    "            covar = np.eye(means.shape[1]) * covariances_[i]\n",
    "\n",
    "        \n",
    "        v, w = np.linalg.eigh(covar)\n",
    "        v = 2. * np.sqrt(2.) * np.sqrt(v)\n",
    "        u = w[0] / np.linalg.norm(w[0])\n",
    "        # as the DP will not use every component it has access to\n",
    "        # unless it needs it, we shouldn't plot the redundant\n",
    "        # components.\n",
    "        if not np.any(Y_ == i):\n",
    "            continue\n",
    "        sctp = plt.scatter(X[Y_ == i, 0], X[Y_ == i, 1], marker='.')\n",
    "\n",
    "        # Plot an ellipse to show the Gaussian component\n",
    "        angle = np.arctan(u[1] / u[0])\n",
    "        angle = 180. * angle / np.pi  # convert to degrees\n",
    "        c = sctp.get_facecolor()[0]\n",
    "    \n",
    "        for scale in covar_scale:\n",
    "            ell = matplotlib.patches.Ellipse(mean, v[0]*scale, v[1]*scale, 180. + angle, color=c)\n",
    "            ell.set_clip_box(ax.bbox)\n",
    "            ell.set_alpha(alpha/scale)\n",
    "            ax.add_artist(ell)"
   ]
  },
  {
   "cell_type": "code",
   "execution_count": 283,
   "metadata": {},
   "outputs": [
    {
     "data": {
      "image/png": "[encoded data removed]",
      "text/plain": [
       "<Figure size 360x360 with 1 Axes>"
      ]
     },
     "metadata": {
      "needs_background": "light"
     },
     "output_type": "display_data"
    }
   ],
   "source": [
    "plt.figure(figsize=(5,5))\n",
    "plot_results(dataset.xy, gmmc, gmm.means_, gmm.covariances_, gmm.covariance_type, alpha=0.25)\n",
    "plt.axis('equal');"
   ]
  },
  {
   "cell_type": "markdown",
   "metadata": {},
   "source": [
    "## Find the outputs given the inputs"
   ]
  },
  {
   "cell_type": "code",
   "execution_count": 284,
   "metadata": {},
   "outputs": [
    {
     "data": {
      "text/plain": [
       "array([0.32654636, 0.11395363, 0.21211033, 0.27770405, 0.06968563])"
      ]
     },
     "execution_count": 284,
     "metadata": {},
     "output_type": "execute_result"
    }
   ],
   "source": [
    "gmm.weights_"
   ]
  },
  {
   "cell_type": "code",
   "execution_count": 285,
   "metadata": {},
   "outputs": [],
   "source": [
    "# gmm.weights_ = np.ones_like(gmm.weights_)"
   ]
  },
  {
   "cell_type": "code",
   "execution_count": 286,
   "metadata": {},
   "outputs": [
    {
     "data": {
      "text/plain": [
       "array([[-0.52973418, -0.02729268],\n",
       "       [ 0.88978005,  0.333485  ],\n",
       "       [ 0.56288847,  0.73934431],\n",
       "       [ 0.06296472,  0.00730485],\n",
       "       [-0.93693512, -0.81272547]])"
      ]
     },
     "execution_count": 286,
     "metadata": {},
     "output_type": "execute_result"
    }
   ],
   "source": [
    "gmm.means_"
   ]
  },
  {
   "cell_type": "code",
   "execution_count": 287,
   "metadata": {},
   "outputs": [
    {
     "data": {
      "text/plain": [
       "array([0.03573561, 0.01129838, 0.02182956, 0.02381339, 0.04019227])"
      ]
     },
     "execution_count": 287,
     "metadata": {},
     "output_type": "execute_result"
    }
   ],
   "source": [
    "gmm.covariances_"
   ]
  },
  {
   "cell_type": "code",
   "execution_count": 288,
   "metadata": {},
   "outputs": [
    {
     "data": {
      "text/plain": [
       "(array([26., 45., 34., 44., 27., 32., 29., 32., 19., 12.]),\n",
       " array([6.02143176e-04, 1.81727402e-01, 3.62852661e-01, 5.43977919e-01,\n",
       "        7.25103178e-01, 9.06228437e-01, 1.08735370e+00, 1.26847895e+00,\n",
       "        1.44960421e+00, 1.63072947e+00, 1.81185473e+00]),\n",
       " <BarContainer object of 10 artists>)"
      ]
     },
     "execution_count": 288,
     "metadata": {},
     "output_type": "execute_result"
    },
    {
     "data": {
      "image/png": "[encoded data removed]",
      "text/plain": [
       "<Figure size 432x288 with 1 Axes>"
      ]
     },
     "metadata": {
      "needs_background": "light"
     },
     "output_type": "display_data"
    }
   ],
   "source": [
    "plt.hist(np.exp(gmm.score_samples(dataset.xy)))"
   ]
  },
  {
   "cell_type": "code",
   "execution_count": 289,
   "metadata": {},
   "outputs": [
    {
     "data": {
      "text/plain": [
       "(array([264.,  12.,   5.,   7.,   3.,   5.,   2.,   1.,   0.,   1.]),\n",
       " array([2.39726646e-67, 1.86633042e-01, 3.73266084e-01, 5.59899126e-01,\n",
       "        7.46532168e-01, 9.33165211e-01, 1.11979825e+00, 1.30643129e+00,\n",
       "        1.49306434e+00, 1.67969738e+00, 1.86633042e+00]),\n",
       " <BarContainer object of 10 artists>)"
      ]
     },
     "execution_count": 289,
     "metadata": {},
     "output_type": "execute_result"
    },
    {
     "data": {
      "image/png": "[encoded data removed]",
      "text/plain": [
       "<Figure size 432x288 with 1 Axes>"
      ]
     },
     "metadata": {
      "needs_background": "light"
     },
     "output_type": "display_data"
    }
   ],
   "source": [
    "plt.hist(np.exp(gmm.score_samples(torch.randn_like(dataset.xy))))"
   ]
  },
  {
   "cell_type": "markdown",
   "metadata": {},
   "source": [
    "#### Find the Y values given the differentiable function"
   ]
  },
  {
   "cell_type": "code",
   "execution_count": 466,
   "metadata": {},
   "outputs": [],
   "source": [
    "# class GaussianMixture_Spherical(torch.nn.Module):\n",
    "\n",
    "#     def __init__(self, dim, n_components: int=2):\n",
    "#         super().__init__()\n",
    "#         self.dim = dim\n",
    "#         weight = torch.ones(1, n_components)\n",
    "#         mean = torch.randn(n_components, dim)\n",
    "#         log_std = torch.zeros(1, n_components)\n",
    "        \n",
    "#         self.weight = torch.nn.Parameter(weight)\n",
    "#         self.mean = torch.nn.Parameter(mean)\n",
    "#         self.log_std = torch.nn.Parameter(log_std)\n",
    "#         pass\n",
    "    \n",
    "#     def set_parameters_from_sklearn(self, mean, covar, weight):\n",
    "#         self.mean.data = torch.Tensor(mean)\n",
    "#         self.log_std.data = torch.Tensor(np.log(covar)/2).reshape(1, -1)\n",
    "#         self.weight.data = torch.Tensor(weight).reshape(1, -1)\n",
    "#         pass\n",
    "        \n",
    "#     def forward(self, x):\n",
    "#         std = torch.exp(self.log_std)\n",
    "  \n",
    "#         ### OPTION 1: use cdist\n",
    "# #         x = torch.cdist(x, self.mean, p=2)*std\n",
    "        \n",
    "#         ### OPTION 2: use scaling the diffs\n",
    "#         z = x.unsqueeze(1) - self.mean.unsqueeze(0)\n",
    "# #         z = z / (std.unsqueeze(-1)**2)\n",
    "# #         x = torch.norm(z, p=2, dim=-1)\n",
    "#         x = torch.matmul(z.unsqueeze(-2), z.unsqueeze(-1)).squeeze(-1).squeeze(-1)\n",
    "# #         print(x.shape)\n",
    "#         print(x)\n",
    "        \n",
    "#         x = torch.exp(-0.5*x**2) * 1/(std * np.sqrt((2*np.pi)**self.dim))\n",
    "# #         x = x * self.weight\n",
    "#         return x"
   ]
  },
  {
   "cell_type": "code",
   "execution_count": 468,
   "metadata": {},
   "outputs": [],
   "source": [
    "myGMM.set_parameters_from_sklearn(gmm.means_, gmm.covariances_, gmm.weights_)"
   ]
  },
  {
   "cell_type": "code",
   "execution_count": 469,
   "metadata": {},
   "outputs": [
    {
     "name": "stdout",
     "output_type": "stream",
     "text": [
      "tensor([[ 1918.9294, 55743.6719, 15987.6895,  6193.0410,   304.9073],\n",
      "        [ 1288.3884, 47324.7891, 13257.8936,  4695.2847,   103.1140],\n",
      "        [ 1545.9100, 50495.6797, 14346.0781,  5276.1719,   179.8857],\n",
      "        ...,\n",
      "        [ 1867.2513,   248.9016,  1026.3770,  1604.6570,  2944.8740],\n",
      "        [ 1899.8517,   197.0848,   965.5260,  1656.5648,  3008.1294],\n",
      "        [ 1962.8940,  1109.0107,  1668.5978,  1730.0122,  2855.6965]],\n",
      "       grad_fn=<SqueezeBackward1>)\n"
     ]
    }
   ],
   "source": [
    "probs = myGMM(dataset.xy)"
   ]
  },
  {
   "cell_type": "code",
   "execution_count": 463,
   "metadata": {},
   "outputs": [
    {
     "data": {
      "text/plain": [
       "tensor([[0., 0., 0., 0., 0.],\n",
       "        [0., 0., 0., 0., 0.],\n",
       "        [0., 0., 0., 0., 0.],\n",
       "        ...,\n",
       "        [0., 0., 0., 0., 0.],\n",
       "        [0., 0., 0., 0., 0.],\n",
       "        [0., 0., 0., 0., 0.]], grad_fn=<DivBackward0>)"
      ]
     },
     "execution_count": 463,
     "metadata": {},
     "output_type": "execute_result"
    }
   ],
   "source": [
    "probs"
   ]
  },
  {
   "cell_type": "code",
   "execution_count": 464,
   "metadata": {},
   "outputs": [],
   "source": [
    "# probs.sum(dim=-1)"
   ]
  },
  {
   "cell_type": "code",
   "execution_count": 465,
   "metadata": {},
   "outputs": [
    {
     "data": {
      "text/plain": [
       "array([[3.10661247e-012, 4.60923346e-134, 4.21062129e-073,\n",
       "        2.91472463e-029, 1.00000000e+000],\n",
       "       [4.20760746e-009, 3.60939812e-115, 6.35341754e-062,\n",
       "        2.80757814e-023, 9.99999996e-001],\n",
       "       [1.97575646e-010, 2.80525243e-122, 2.06446015e-066,\n",
       "        1.30195131e-025, 1.00000000e+000],\n",
       "       ...,\n",
       "       [1.19703591e-014, 9.99946374e-001, 5.36017341e-005,\n",
       "        2.37675346e-008, 1.39354473e-026],\n",
       "       [4.98881157e-015, 9.99922279e-001, 7.77119214e-005,\n",
       "        9.55939600e-009, 2.91681686e-027],\n",
       "       [2.79351889e-013, 9.99993072e-001, 6.23919186e-006,\n",
       "        6.88642896e-007, 1.07808777e-023]])"
      ]
     },
     "execution_count": 465,
     "metadata": {},
     "output_type": "execute_result"
    }
   ],
   "source": [
    "gmm.predict_proba(dataset.xy)"
   ]
  },
  {
   "cell_type": "code",
   "execution_count": 446,
   "metadata": {},
   "outputs": [
    {
     "data": {
      "text/plain": [
       "array([6.02143176e-04, 3.47439112e-02, 7.42750384e-03, 1.94286948e-01,\n",
       "       2.21910207e-01, 1.96481245e-01, 2.46221933e-01, 2.73178940e-01,\n",
       "       2.74487052e-01, 2.58004818e-01, 2.64673836e-01, 2.73368077e-01,\n",
       "       2.41357866e-01, 2.19870827e-01, 1.74267729e-01, 2.09286037e-01,\n",
       "       7.31106430e-02, 9.23615722e-02, 7.31594589e-02, 1.75271981e-01,\n",
       "       8.91845227e-02, 7.97328734e-02, 1.02263671e-01, 2.81896004e-01,\n",
       "       3.78198634e-01, 2.70584333e-01, 3.34298470e-01, 2.74176514e-01,\n",
       "       2.27833064e-01, 4.15830236e-01, 2.82980905e-01, 3.23850275e-01,\n",
       "       5.53436565e-01, 5.43101309e-01, 5.72624121e-01, 6.13363833e-01,\n",
       "       5.41910066e-01, 5.87466518e-01, 5.10441189e-01, 6.77360829e-01,\n",
       "       6.79228549e-01, 5.56860608e-01, 5.46107705e-01, 4.51778014e-01,\n",
       "       4.77538277e-01, 7.88288438e-02, 5.98773402e-01, 3.88150124e-01,\n",
       "       4.67318049e-01, 1.63095704e-01, 8.17660168e-01, 1.00073608e+00,\n",
       "       2.06606407e-01, 3.38624328e-01, 5.45497551e-01, 9.40048222e-01,\n",
       "       2.37637800e-01, 4.95417309e-01, 9.90855885e-01, 9.63882681e-01,\n",
       "       1.06293863e+00, 2.78665353e-01, 9.52249532e-01, 1.28733200e+00,\n",
       "       1.14076787e+00, 5.25070236e-01, 7.39351809e-01, 1.32741162e+00,\n",
       "       1.43866805e+00, 1.33008839e+00, 1.10861155e+00, 1.40219671e+00,\n",
       "       1.44141589e+00, 1.36369841e+00, 1.44244393e+00, 1.38447544e+00,\n",
       "       1.27690665e+00, 1.37939688e+00, 1.39121026e+00, 1.36909065e+00,\n",
       "       1.37502462e+00, 1.11192070e+00, 1.25645793e+00, 8.09836081e-01,\n",
       "       1.28186401e+00, 7.25284933e-01, 1.03588851e+00, 1.25340801e+00,\n",
       "       1.18408100e+00, 6.71429303e-01, 1.00640666e+00, 5.49130549e-01,\n",
       "       8.48122456e-01, 9.59939715e-01, 6.09990195e-01, 1.03412586e+00,\n",
       "       8.39377450e-01, 8.82614669e-01, 4.85022121e-01, 5.63791944e-01,\n",
       "       6.53140588e-01, 7.76126249e-01, 7.19131169e-01, 4.18271758e-01,\n",
       "       3.05364801e-01, 2.30171310e-01, 8.18610382e-01, 7.76902973e-01,\n",
       "       7.69406562e-01, 4.39968564e-01, 7.38225939e-01, 5.92772515e-01,\n",
       "       5.34367813e-01, 3.54901026e-01, 2.10401375e-01, 6.97827534e-01,\n",
       "       6.01815319e-01, 6.07982168e-01, 2.64079951e-01, 1.46018746e-01,\n",
       "       3.25489761e-01, 7.91400725e-01, 6.94563777e-01, 5.06274732e-01,\n",
       "       6.11837184e-01, 2.68810377e-01, 4.67220730e-01, 8.76480821e-01,\n",
       "       5.86320825e-01, 8.73487086e-01, 9.23743382e-01, 9.19305911e-01,\n",
       "       6.04115789e-01, 8.08841258e-01, 1.12850556e+00, 1.16635767e+00,\n",
       "       1.23115865e+00, 1.16901064e+00, 1.32462297e+00, 9.62035105e-01,\n",
       "       1.56057698e+00, 1.10475376e+00, 1.57851962e+00, 1.54725066e+00,\n",
       "       1.63291634e+00, 9.63330303e-01, 1.68921530e+00, 1.47932858e+00,\n",
       "       1.69593906e+00, 1.70954844e+00, 1.70665002e+00, 1.72746279e+00,\n",
       "       1.74313650e+00, 1.55742789e+00, 9.17752254e-01, 1.67954784e+00,\n",
       "       1.60524119e+00, 1.81185473e+00, 1.41187949e+00, 1.52070515e+00,\n",
       "       5.70950879e-01, 1.12337216e+00, 1.64375742e+00, 1.79403801e+00,\n",
       "       1.00650979e+00, 1.80576485e+00, 1.60983127e+00, 1.25296681e+00,\n",
       "       2.82225819e-01, 1.58119042e+00, 1.54177838e+00, 1.55471090e+00,\n",
       "       1.39374116e+00, 1.50068657e+00, 1.33012217e+00, 1.48893383e+00,\n",
       "       1.15061238e+00, 1.43884356e+00, 1.40331960e+00, 1.26767787e+00,\n",
       "       1.20062461e+00, 1.28705051e+00, 1.22541603e+00, 9.32134302e-01,\n",
       "       9.95196032e-01, 6.38512358e-01, 8.33675036e-01, 9.18111856e-01,\n",
       "       3.66805157e-01, 6.18008564e-01, 4.80096075e-01, 6.41487307e-01,\n",
       "       8.76520441e-02, 5.79271078e-01, 9.70090312e-02, 5.42796263e-02,\n",
       "       9.79723771e-02, 6.36732804e-02, 2.33946639e-01, 1.89224819e-01,\n",
       "       1.47989249e-01, 2.42047309e-01, 9.44675571e-02, 4.53973441e-02,\n",
       "       8.12004788e-02, 1.73405860e-01, 1.20282628e-01, 4.31755310e-01,\n",
       "       3.28180789e-01, 2.46138252e-01, 7.04911011e-01, 9.25382050e-01,\n",
       "       7.45272056e-01, 7.57868337e-01, 5.42492635e-01, 1.00499446e+00,\n",
       "       1.19071001e+00, 1.09081847e+00, 1.18002926e+00, 1.24454945e+00,\n",
       "       3.52827188e-01, 1.19674505e+00, 1.31134293e+00, 1.23702178e+00,\n",
       "       1.27068659e+00, 7.48773510e-01, 7.34230746e-01, 9.78382171e-01,\n",
       "       4.84189351e-01, 1.12596390e+00, 5.68985823e-01, 1.47154589e+00,\n",
       "       3.58286881e-01, 1.29063400e+00, 2.38847090e-01, 1.44382522e+00,\n",
       "       6.81605844e-01, 6.92423143e-01, 7.09559618e-01, 9.83512599e-01,\n",
       "       1.85517457e-01, 7.02937850e-01, 1.37793770e+00, 1.23525805e+00,\n",
       "       3.90609056e-01, 1.31239202e+00, 2.17394556e-01, 1.19299696e+00,\n",
       "       1.03568223e+00, 6.84262782e-01, 1.15256705e+00, 2.60171701e-01,\n",
       "       1.08063417e+00, 8.96276586e-01, 1.03831228e+00, 8.89360054e-01,\n",
       "       8.51015711e-01, 9.56888720e-01, 3.80190084e-01, 7.67611190e-01,\n",
       "       7.22487824e-01, 7.05648730e-01, 3.79377916e-01, 3.75674634e-01,\n",
       "       4.37395095e-01, 3.65184018e-01, 3.60970843e-01, 6.38121210e-01,\n",
       "       9.70891711e-01, 3.99373603e-01, 7.32434093e-01, 3.03857988e-01,\n",
       "       3.49533525e-01, 1.36644930e+00, 1.52591101e+00, 5.72071535e-01,\n",
       "       9.62026570e-01, 1.22415205e+00, 3.65220598e-01, 1.54391528e+00,\n",
       "       1.58004542e+00, 6.93268809e-01, 1.40633310e+00, 1.51353907e+00,\n",
       "       1.59273233e+00, 9.56255460e-01, 1.32804694e+00, 7.16953076e-01,\n",
       "       1.32972341e+00, 9.94022007e-01, 6.72841642e-01, 6.71170087e-01,\n",
       "       4.76753503e-01, 4.39182842e-01, 1.02307973e+00, 1.09400838e+00,\n",
       "       7.93937182e-01, 3.93456731e-01, 5.27272958e-01, 3.05263289e-03])"
      ]
     },
     "execution_count": 446,
     "metadata": {},
     "output_type": "execute_result"
    }
   ],
   "source": [
    "np.exp(gmm.score_samples(dataset.xy))"
   ]
  },
  {
   "cell_type": "code",
   "execution_count": 386,
   "metadata": {},
   "outputs": [
    {
     "data": {
      "text/plain": [
       "tensor([0.0000e+00, 1.0749e-11, 0.0000e+00, 0.0000e+00, 0.0000e+00, 0.0000e+00,\n",
       "        0.0000e+00, 0.0000e+00, 2.7015e-16, 0.0000e+00, 0.0000e+00, 0.0000e+00,\n",
       "        3.2951e-25, 0.0000e+00, 0.0000e+00, 0.0000e+00, 0.0000e+00, 0.0000e+00,\n",
       "        0.0000e+00, 0.0000e+00, 0.0000e+00, 0.0000e+00, 0.0000e+00, 0.0000e+00,\n",
       "        0.0000e+00, 0.0000e+00, 0.0000e+00, 1.9433e-41, 0.0000e+00, 6.4880e-43],\n",
       "       grad_fn=<SumBackward1>)"
      ]
     },
     "execution_count": 386,
     "metadata": {},
     "output_type": "execute_result"
    }
   ],
   "source": [
    "myGMM(torch.randn(30, 2)).sum(dim=-1)"
   ]
  },
  {
   "cell_type": "markdown",
   "metadata": {},
   "source": [
    "## GMM Torch"
   ]
  },
  {
   "cell_type": "code",
   "execution_count": 19,
   "metadata": {},
   "outputs": [],
   "source": [
    "from gmm_torch import GaussianMixture"
   ]
  },
  {
   "cell_type": "code",
   "execution_count": 20,
   "metadata": {},
   "outputs": [],
   "source": [
    "gmmt = GaussianMixture(5, 2, covariance_type=\"full\")"
   ]
  },
  {
   "cell_type": "code",
   "execution_count": 21,
   "metadata": {},
   "outputs": [],
   "source": [
    "gmmt.fit(dataset.xy, n_iter=1000)"
   ]
  },
  {
   "cell_type": "code",
   "execution_count": 22,
   "metadata": {},
   "outputs": [
    {
     "data": {
      "text/plain": [
       "tensor(1.4198)"
      ]
     },
     "execution_count": 22,
     "metadata": {},
     "output_type": "execute_result"
    }
   ],
   "source": [
    "torch.exp(gmmt.score_samples(dataset.xy)).mean()"
   ]
  },
  {
   "cell_type": "code",
   "execution_count": 23,
   "metadata": {},
   "outputs": [
    {
     "data": {
      "text/plain": [
       "tensor([-3.3327e+00, -5.9994e-01, -2.1634e+00,  2.6540e-01,  2.1547e-01,\n",
       "         3.3787e-01,  5.3734e-01, -1.9432e-02,  1.9816e-01,  5.9224e-01,\n",
       "         6.2367e-01,  3.2779e-01,  9.3052e-01,  9.5428e-01,  1.0456e+00,\n",
       "         8.1434e-01, -1.5215e-01,  9.6173e-01,  6.1088e-01,  2.2907e-01,\n",
       "         1.0754e+00,  9.7972e-01,  1.1457e+00, -1.2470e+00, -3.8954e+00,\n",
       "         9.9655e-01,  8.8397e-01,  1.0393e+00,  9.2152e-01,  3.5807e-01,\n",
       "         9.4825e-01,  1.2884e-01,  6.4653e-01,  7.5449e-01,  7.8329e-01,\n",
       "         6.8720e-01,  3.6420e-01,  5.7604e-01,  3.8963e-01,  1.0987e-01,\n",
       "        -1.5374e-01, -5.9612e-02, -7.2928e-01, -4.9995e-01, -7.1924e-01,\n",
       "        -2.7034e-01, -9.5403e-01, -2.3823e-01,  2.0117e-01, -8.8056e-01,\n",
       "         5.5943e-02, -4.1917e-01, -9.0791e-01, -1.9506e-01,  4.3807e-01,\n",
       "         5.7314e-01, -1.1898e+00,  2.3411e-01,  8.0389e-01,  8.3211e-01,\n",
       "         8.3882e-01, -1.4640e+00,  8.7244e-01,  7.2714e-01,  9.2830e-01,\n",
       "        -5.6590e-01,  2.9462e-01,  9.7070e-01,  6.4600e-01,  1.0241e+00,\n",
       "         8.5882e-01,  1.0854e+00,  1.0206e+00,  1.0953e+00,  9.9326e-01,\n",
       "         5.0729e-01,  4.1644e-02,  6.4433e-01,  8.2048e-01,  1.0538e+00,\n",
       "         1.0735e+00,  4.6772e-01,  4.6179e-01, -1.7921e-01,  6.2792e-01,\n",
       "        -2.0019e-01,  7.6247e-01,  7.2393e-01,  6.4483e-01,  1.1737e-01,\n",
       "         8.6037e-01, -3.1475e-01,  7.1080e-01,  7.6478e-01,  3.6161e-01,\n",
       "        -3.2053e-01,  6.0100e-01,  5.0425e-01,  2.6199e-01,  4.7343e-01,\n",
       "         4.2733e-01,  1.4470e-01,  2.0319e-01,  1.9865e-01, -1.1427e-01,\n",
       "        -4.8282e-01, -1.2878e+00, -7.9198e-02, -2.6917e-01,  3.6428e-02,\n",
       "        -8.7541e-01,  2.8395e-01,  2.6237e-01, -2.0505e-01, -1.0440e+00,\n",
       "         5.0611e-01,  5.9533e-01,  6.2165e-01, -6.9660e-01, -1.7913e+00,\n",
       "        -2.9345e-01,  3.8056e-01, -1.1183e+00,  4.2366e-01,  6.5003e-01,\n",
       "        -7.3419e-01,  2.4310e-01,  7.2228e-01,  5.4707e-01,  8.0405e-01,\n",
       "        -2.9744e-01,  8.7859e-01,  4.1835e-01, -1.1988e+00,  4.3515e-01,\n",
       "         7.6115e-01,  6.7567e-01,  9.2877e-01,  2.7161e-01,  3.7090e-01,\n",
       "         8.7330e-01,  5.7101e-01,  8.9140e-01,  3.7710e-01,  9.1013e-01,\n",
       "        -1.5300e+00,  8.7035e-01,  8.1926e-01,  6.9352e-01,  7.4704e-01,\n",
       "         6.8534e-01,  8.3752e-01,  8.6675e-01,  1.0441e-01, -3.1212e-01,\n",
       "         3.6077e-01,  7.5426e-01,  7.5290e-01,  2.5041e-01, -1.2089e-01,\n",
       "        -1.2373e+00, -3.3008e-01,  4.2072e-01,  4.4688e-01, -4.5057e-01,\n",
       "         4.8596e-01,  1.2559e-01, -4.5863e-02, -2.0299e+00,  2.6849e-01,\n",
       "         4.0820e-01,  4.3144e-01,  1.9090e-02,  2.6437e-01,  2.9446e-01,\n",
       "         5.1533e-01,  5.1224e-02,  4.7005e-01,  5.3733e-01,  5.1535e-01,\n",
       "         2.2564e-01,  5.9261e-01,  5.8911e-01,  5.6503e-01,  5.7332e-01,\n",
       "        -2.1571e+00,  5.8796e-01, -5.4518e-01,  4.8710e-01,  4.4724e-01,\n",
       "         4.3899e-01, -4.5167e-02,  1.7480e-02, -1.9443e-01,  4.0405e-01,\n",
       "         2.0320e-01, -2.7000e+00,  4.4136e-01,  4.2821e-01, -3.5234e-01,\n",
       "        -7.3402e-02, -1.0921e+00,  3.6212e-01,  8.1241e-01, -3.5552e-01,\n",
       "         6.9465e-01,  8.3576e-01,  3.3668e-01,  7.6314e-01,  3.1043e-01,\n",
       "         6.8559e-01,  5.9006e-02,  6.8575e-01,  6.8265e-01,  2.0912e-01,\n",
       "         5.7100e-01,  4.9602e-01, -2.0492e-01,  5.2972e-01,  5.3843e-01,\n",
       "        -1.6944e+00,  2.9602e-01,  4.6679e-01,  2.6722e-01,  3.5546e-01,\n",
       "        -1.4532e-01, -1.3879e-01,  1.3671e-01, -4.1848e-01,  2.8471e-01,\n",
       "         3.4473e-01, -5.8449e-01,  1.9797e-01, -1.4193e-01, -2.8880e-02,\n",
       "        -4.8428e-01,  2.0726e-01,  1.8212e-01,  6.7768e-02,  1.5224e-01,\n",
       "        -6.1710e-01, -1.1881e-01,  2.3850e-01,  3.7408e-01, -1.2003e+00,\n",
       "         4.3491e-01, -1.9809e+00,  4.6448e-01, -1.0451e-01, -6.1686e-01,\n",
       "         5.9288e-01, -3.8762e+00,  4.4593e-01,  4.6854e-01,  3.8424e-01,\n",
       "        -9.7300e-02, -2.2914e-01,  7.3144e-01,  1.0884e-01, -4.6397e-01,\n",
       "         7.8368e-01,  8.0379e-01,  7.5937e-02,  7.2094e-01,  8.9436e-01,\n",
       "         8.9012e-01,  9.1844e-01,  3.4637e-01, -7.3284e-01,  9.1042e-01,\n",
       "         7.9504e-01,  6.2494e-01,  4.3191e-01,  6.3879e-01,  4.4337e-01,\n",
       "         4.1535e-01,  6.2124e-01, -1.4732e-01, -3.0249e-01,  6.6342e-01,\n",
       "         5.0867e-01, -7.9657e-01,  3.3904e-01,  5.6344e-01,  5.2278e-01,\n",
       "        -1.7197e-01,  2.2963e-01, -2.2636e-01,  3.6932e-01,  2.1305e-01,\n",
       "         4.8767e-02,  4.8557e-02, -8.2245e-02, -9.0262e-02, -2.0528e-04,\n",
       "        -6.7276e-01, -2.8960e+00, -3.7635e-01, -7.0879e-01, -1.3469e+00])"
      ]
     },
     "execution_count": 23,
     "metadata": {},
     "output_type": "execute_result"
    }
   ],
   "source": [
    "gmmt.score_samples(dataset.xy)"
   ]
  },
  {
   "cell_type": "code",
   "execution_count": 24,
   "metadata": {},
   "outputs": [
    {
     "data": {
      "text/plain": [
       "tensor(0.1315)"
      ]
     },
     "execution_count": 24,
     "metadata": {},
     "output_type": "execute_result"
    }
   ],
   "source": [
    "torch.exp(gmmt.score_samples(torch.randn_like(dataset.xy))).mean()"
   ]
  },
  {
   "cell_type": "code",
   "execution_count": 25,
   "metadata": {},
   "outputs": [],
   "source": [
    "# gmm.predict_proba(dataset.xy)"
   ]
  },
  {
   "cell_type": "markdown",
   "metadata": {},
   "source": [
    "### Optimize for best Y given the X"
   ]
  },
  {
   "cell_type": "code",
   "execution_count": 36,
   "metadata": {},
   "outputs": [],
   "source": [
    "x = dataset.xy[:,:1]\n",
    "# y = torch.autograd.Variable(torch.zeros_like(x), requires_grad=True)\n",
    "y = torch.autograd.Variable(torch.randn_like(x)*0.3, requires_grad=True)"
   ]
  },
  {
   "cell_type": "code",
   "execution_count": 37,
   "metadata": {},
   "outputs": [
    {
     "data": {
      "text/plain": [
       "True"
      ]
     },
     "execution_count": 37,
     "metadata": {},
     "output_type": "execute_result"
    }
   ],
   "source": [
    "xy = torch.cat([x, y], dim=-1)\n",
    "xy.requires_grad"
   ]
  },
  {
   "cell_type": "code",
   "execution_count": 38,
   "metadata": {},
   "outputs": [],
   "source": [
    "optimizer = optim.Adam([y], lr=0.001)"
   ]
  },
  {
   "cell_type": "code",
   "execution_count": 44,
   "metadata": {},
   "outputs": [
    {
     "name": "stdout",
     "output_type": "stream",
     "text": [
      "Step: 0, E: -1.526675\n",
      "Step: 100, E: -1.526675\n",
      "Step: 200, E: -1.526675\n",
      "Step: 300, E: -1.526675\n",
      "Step: 400, E: -1.530996\n",
      "Step: 500, E: -1.531901\n",
      "Step: 600, E: -1.531901\n",
      "Step: 700, E: -1.531901\n",
      "Step: 800, E: -1.531901\n",
      "Step: 900, E: -1.531901\n"
     ]
    }
   ],
   "source": [
    "%matplotlib tk\n",
    "fig = plt.figure()\n",
    "ax = fig.add_subplot(111)\n",
    "\n",
    "for i in range(1000):\n",
    "    xy = torch.cat([x, y], dim=-1)\n",
    "    error = -torch.exp(gmmt.score_samples(xy)).mean()\n",
    "    optimizer.zero_grad()\n",
    "    error.backward(retain_graph=True)\n",
    "    optimizer.step()\n",
    "    \n",
    "    if i%100 == 0:\n",
    "        print(f\"Step: {i}, E: {error:.6f}\")\n",
    "        \n",
    "        ax.clear()\n",
    "        ax.scatter(x, y.data, marker='.', color='r')\n",
    "        ax.scatter(dataset.xy[:,0], dataset.xy[:,1], marker='.', color='g')\n",
    "\n",
    "        fig.canvas.draw()\n",
    "        plt.pause(0.01)\n",
    "plt.close()"
   ]
  },
  {
   "cell_type": "code",
   "execution_count": 45,
   "metadata": {},
   "outputs": [
    {
     "data": {
      "text/plain": [
       "tensor([[ 1.7104e-14],\n",
       "        [-4.4994e-12],\n",
       "        [-1.2715e-13],\n",
       "        [ 1.4688e-13],\n",
       "        [-1.7864e-11],\n",
       "        [-4.7668e-08],\n",
       "        [-2.7671e-11],\n",
       "        [-1.5582e-13],\n",
       "        [ 4.8530e-11],\n",
       "        [ 1.5032e-13],\n",
       "        [ 4.2210e-08],\n",
       "        [ 1.6084e-08],\n",
       "        [ 1.6163e-08],\n",
       "        [-4.3536e-10],\n",
       "        [ 1.2559e-08],\n",
       "        [ 4.6030e-25],\n",
       "        [ 8.3788e-25],\n",
       "        [-3.1710e-08],\n",
       "        [-2.8736e-10],\n",
       "        [ 1.6842e-23],\n",
       "        [-4.9258e-10],\n",
       "        [ 8.8673e-09],\n",
       "        [-1.3269e-08],\n",
       "        [ 2.3283e-10],\n",
       "        [ 2.8294e-10],\n",
       "        [-1.0502e-08],\n",
       "        [ 7.9529e-09],\n",
       "        [-4.4793e-09],\n",
       "        [-1.3139e-08],\n",
       "        [-9.2350e-09],\n",
       "        [ 2.3799e-12],\n",
       "        [ 1.1111e-08],\n",
       "        [-4.3378e-09],\n",
       "        [ 1.9914e-08],\n",
       "        [ 7.5588e-10],\n",
       "        [-7.2648e-09],\n",
       "        [-5.5744e-05],\n",
       "        [ 1.5862e-08],\n",
       "        [-3.4915e-08],\n",
       "        [ 8.7645e-09],\n",
       "        [ 1.6248e-08],\n",
       "        [-3.3182e-12],\n",
       "        [ 1.1514e-12],\n",
       "        [ 4.5868e-09],\n",
       "        [ 1.5485e-08],\n",
       "        [-7.4943e-12],\n",
       "        [ 1.8725e-09],\n",
       "        [-2.1405e-08],\n",
       "        [-4.9948e-09],\n",
       "        [ 2.6490e-09],\n",
       "        [-8.8676e-12],\n",
       "        [-1.2051e-09],\n",
       "        [ 3.3986e-09],\n",
       "        [ 3.8388e-09],\n",
       "        [ 2.1373e-11],\n",
       "        [ 1.1823e-10],\n",
       "        [ 2.5466e-11],\n",
       "        [-5.3440e-09],\n",
       "        [ 4.7987e-09],\n",
       "        [ 8.0840e-09],\n",
       "        [ 2.0133e-09],\n",
       "        [ 7.1452e-10],\n",
       "        [-7.4835e-09],\n",
       "        [-1.1116e-09],\n",
       "        [ 3.5973e-09],\n",
       "        [-4.3838e-10],\n",
       "        [-1.1096e-10],\n",
       "        [ 1.2751e-09],\n",
       "        [-3.1851e-09],\n",
       "        [ 2.4957e-09],\n",
       "        [ 2.7430e-09],\n",
       "        [-8.7311e-10],\n",
       "        [-2.4447e-09],\n",
       "        [ 6.1118e-10],\n",
       "        [-7.5670e-10],\n",
       "        [-8.7311e-10],\n",
       "        [ 0.0000e+00],\n",
       "        [ 2.3283e-10],\n",
       "        [-9.0222e-10],\n",
       "        [ 1.1642e-10],\n",
       "        [-1.1642e-10],\n",
       "        [ 3.0268e-09],\n",
       "        [-1.0710e-08],\n",
       "        [ 1.1642e-09],\n",
       "        [-2.5611e-09],\n",
       "        [-3.7253e-09],\n",
       "        [-4.6566e-10],\n",
       "        [-9.3132e-10],\n",
       "        [-2.7940e-09],\n",
       "        [ 0.0000e+00],\n",
       "        [ 4.0967e-18],\n",
       "        [ 2.3283e-10],\n",
       "        [ 4.6566e-09],\n",
       "        [-1.2922e-08],\n",
       "        [ 7.5670e-10],\n",
       "        [ 8.4983e-09],\n",
       "        [ 3.8417e-09],\n",
       "        [ 2.5611e-09],\n",
       "        [ 4.1910e-09],\n",
       "        [ 9.3132e-10],\n",
       "        [-5.1223e-09],\n",
       "        [ 4.1910e-09],\n",
       "        [-9.3132e-10],\n",
       "        [-4.6566e-10],\n",
       "        [-3.2596e-09],\n",
       "        [-4.6566e-10],\n",
       "        [-9.3132e-10],\n",
       "        [-5.1223e-09],\n",
       "        [ 6.4280e-06],\n",
       "        [-1.3970e-09],\n",
       "        [ 2.3283e-10],\n",
       "        [ 8.1491e-10],\n",
       "        [-1.2806e-09],\n",
       "        [-1.1059e-09],\n",
       "        [-2.0955e-09],\n",
       "        [ 1.0841e-09],\n",
       "        [-1.3260e-09],\n",
       "        [ 8.4737e-16],\n",
       "        [-3.2633e-09],\n",
       "        [ 3.7126e-09],\n",
       "        [ 3.6380e-11],\n",
       "        [ 2.9158e-09],\n",
       "        [ 3.0786e-10],\n",
       "        [-1.5330e-09],\n",
       "        [-4.9226e-11],\n",
       "        [ 4.1541e-10],\n",
       "        [-2.1652e-09],\n",
       "        [ 3.4366e-09],\n",
       "        [-2.2678e-09],\n",
       "        [-4.9994e-09],\n",
       "        [-6.9764e-09],\n",
       "        [-2.6310e-09],\n",
       "        [-2.8458e-10],\n",
       "        [ 6.5577e-10],\n",
       "        [ 1.6057e-09],\n",
       "        [-4.0736e-09],\n",
       "        [ 1.8242e-09],\n",
       "        [-6.7150e-10],\n",
       "        [-3.1491e-10],\n",
       "        [ 1.1555e-09],\n",
       "        [ 1.2570e-09],\n",
       "        [ 1.4693e-09],\n",
       "        [ 9.5535e-10],\n",
       "        [-4.1675e-10],\n",
       "        [ 3.2087e-10],\n",
       "        [ 1.2917e-09],\n",
       "        [ 5.8051e-12],\n",
       "        [-2.8126e-10],\n",
       "        [-4.6174e-10],\n",
       "        [ 1.5721e-09],\n",
       "        [-6.7129e-10],\n",
       "        [ 2.5404e-10],\n",
       "        [ 8.0189e-10],\n",
       "        [ 5.1668e-10],\n",
       "        [ 8.0428e-10],\n",
       "        [-4.1314e-10],\n",
       "        [ 1.2126e-09],\n",
       "        [-2.2919e-10],\n",
       "        [ 2.4556e-09],\n",
       "        [-3.3106e-10],\n",
       "        [ 3.0559e-10],\n",
       "        [ 2.9104e-11],\n",
       "        [ 1.8626e-09],\n",
       "        [ 2.6193e-09],\n",
       "        [ 1.5716e-09],\n",
       "        [ 1.7462e-09],\n",
       "        [-1.1642e-10],\n",
       "        [-4.6566e-10],\n",
       "        [ 9.3132e-10],\n",
       "        [ 4.6566e-10],\n",
       "        [ 1.0710e-08],\n",
       "        [ 1.3970e-09],\n",
       "        [-9.3132e-10],\n",
       "        [ 4.6566e-10],\n",
       "        [ 0.0000e+00],\n",
       "        [ 9.1735e-08],\n",
       "        [-1.8626e-09],\n",
       "        [ 1.2107e-08],\n",
       "        [ 1.8626e-09],\n",
       "        [ 5.8208e-10],\n",
       "        [ 5.8208e-11],\n",
       "        [-7.5088e-09],\n",
       "        [-6.0536e-09],\n",
       "        [-1.8626e-09],\n",
       "        [-9.3132e-10],\n",
       "        [ 5.1223e-09],\n",
       "        [ 1.8626e-09],\n",
       "        [-1.3970e-09],\n",
       "        [ 8.3819e-09],\n",
       "        [ 3.0268e-09],\n",
       "        [-7.6834e-09],\n",
       "        [-2.7940e-09],\n",
       "        [ 9.3132e-10],\n",
       "        [ 4.6566e-09],\n",
       "        [ 7.1013e-09],\n",
       "        [ 4.2492e-09],\n",
       "        [-1.4028e-08],\n",
       "        [ 1.0186e-08],\n",
       "        [-8.2655e-09],\n",
       "        [-1.1132e-09],\n",
       "        [ 5.5443e-09],\n",
       "        [ 3.2596e-09],\n",
       "        [-2.2483e-09],\n",
       "        [ 2.7721e-09],\n",
       "        [ 1.1642e-10],\n",
       "        [-1.7462e-10],\n",
       "        [ 7.2760e-11],\n",
       "        [ 3.8199e-11],\n",
       "        [ 9.6406e-11],\n",
       "        [ 3.7261e-11],\n",
       "        [ 1.0938e-08],\n",
       "        [ 7.7023e-12],\n",
       "        [-1.4509e-10],\n",
       "        [-2.5531e-10],\n",
       "        [-5.4396e-11],\n",
       "        [-1.3676e-19],\n",
       "        [ 6.2241e-12],\n",
       "        [ 6.2497e-10],\n",
       "        [ 8.5592e-11],\n",
       "        [ 3.5744e-12],\n",
       "        [-3.6489e-09],\n",
       "        [ 8.2787e-11],\n",
       "        [ 2.9902e-11],\n",
       "        [-6.2983e-12],\n",
       "        [-2.2770e-11],\n",
       "        [ 1.9791e-09],\n",
       "        [-1.6493e-12],\n",
       "        [-1.5811e-12],\n",
       "        [ 4.8731e-13],\n",
       "        [ 1.4212e-11],\n",
       "        [-2.3644e-11],\n",
       "        [-2.2560e-11],\n",
       "        [ 2.1808e-11],\n",
       "        [-1.8021e-11],\n",
       "        [ 5.3124e-13],\n",
       "        [-7.3862e-13],\n",
       "        [-1.2906e-17],\n",
       "        [-1.0160e-12],\n",
       "        [-4.8053e-12],\n",
       "        [-1.0814e-12],\n",
       "        [ 4.4238e-09],\n",
       "        [ 1.5969e-13],\n",
       "        [ 7.5706e-09],\n",
       "        [-2.5793e-09],\n",
       "        [-2.3404e-13],\n",
       "        [ 1.4473e-12],\n",
       "        [-1.4566e-12],\n",
       "        [-1.8705e-12],\n",
       "        [ 3.4284e-13],\n",
       "        [-2.3803e-13],\n",
       "        [-3.2685e-13],\n",
       "        [ 2.8422e-13],\n",
       "        [-7.6739e-13],\n",
       "        [-1.3289e-08],\n",
       "        [-1.1475e-09],\n",
       "        [-3.3948e-13],\n",
       "        [ 1.3062e-08],\n",
       "        [-5.0785e-16],\n",
       "        [ 1.1250e-08],\n",
       "        [ 1.5009e-08],\n",
       "        [-1.1035e-08],\n",
       "        [ 5.8529e-09],\n",
       "        [-5.4143e-13],\n",
       "        [ 6.6772e-09],\n",
       "        [-4.7264e-09],\n",
       "        [-2.5206e-08],\n",
       "        [-2.1751e-08],\n",
       "        [ 1.3766e-08],\n",
       "        [-1.0796e-08],\n",
       "        [-1.5351e-08],\n",
       "        [ 4.0585e-09],\n",
       "        [-3.6487e-11],\n",
       "        [-5.3363e-09],\n",
       "        [-8.4111e-12],\n",
       "        [-1.1730e-08],\n",
       "        [ 1.2961e-08],\n",
       "        [-2.2443e-14],\n",
       "        [-5.0082e-09],\n",
       "        [-1.6681e-11],\n",
       "        [ 4.8491e-09],\n",
       "        [ 1.4704e-08],\n",
       "        [-6.8644e-09],\n",
       "        [-1.3938e-08],\n",
       "        [-4.5828e-09],\n",
       "        [-2.0125e-09],\n",
       "        [-2.5377e-09],\n",
       "        [-2.5690e-09],\n",
       "        [-2.7318e-09],\n",
       "        [-1.5535e-08],\n",
       "        [-3.4687e-10],\n",
       "        [-4.0620e-09],\n",
       "        [-3.3477e-10],\n",
       "        [ 1.8267e-08],\n",
       "        [ 7.1531e-09],\n",
       "        [-2.9946e-10],\n",
       "        [-2.1849e-10],\n",
       "        [-9.5722e-10],\n",
       "        [-8.7930e-10],\n",
       "        [ 7.3869e-09],\n",
       "        [ 1.5091e-09]])"
      ]
     },
     "execution_count": 45,
     "metadata": {},
     "output_type": "execute_result"
    }
   ],
   "source": [
    "y.grad"
   ]
  },
  {
   "cell_type": "code",
   "execution_count": 46,
   "metadata": {},
   "outputs": [],
   "source": [
    "# %matplotlib inline\n",
    "# plt.scatter(x, y, marker='.', color='g')\n",
    "# plt.scatter(x, YY.data, marker='.', color='r')\n",
    "# plt.show()"
   ]
  }
 ],
 "metadata": {
  "kernelspec": {
   "display_name": "Python 3",
   "language": "python",
   "name": "python3"
  },
  "language_info": {
   "codemirror_mode": {
    "name": "ipython",
    "version": 3
   },
   "file_extension": ".py",
   "mimetype": "text/x-python",
   "name": "python",
   "nbconvert_exporter": "python",
   "pygments_lexer": "ipython3",
   "version": "3.7.4"
  }
 },
 "nbformat": 4,
 "nbformat_minor": 4
}
