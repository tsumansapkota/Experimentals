{
 "cells": [
  {
   "cell_type": "code",
   "execution_count": 1,
   "metadata": {},
   "outputs": [],
   "source": [
    "import numpy as np\n",
    "import copy\n",
    "import matplotlib\n",
    "import matplotlib.pyplot as plt\n",
    "# from mpl_toolkits.mplot3d import Axes3D"
   ]
  },
  {
   "cell_type": "code",
   "execution_count": 2,
   "metadata": {},
   "outputs": [],
   "source": [
    "import torch\n",
    "import torch.nn as nn\n",
    "import torch.nn.functional as F\n",
    "\n",
    "from torchvision import datasets, transforms as T\n",
    "from torch.utils import data"
   ]
  },
  {
   "cell_type": "code",
   "execution_count": 3,
   "metadata": {},
   "outputs": [],
   "source": [
    "from tqdm import tqdm\n",
    "import os, time, sys\n",
    "import json"
   ]
  },
  {
   "cell_type": "code",
   "execution_count": 4,
   "metadata": {},
   "outputs": [],
   "source": [
    "import dtnnlib as dtnn\n",
    "# import resnet_cifar"
   ]
  },
  {
   "cell_type": "code",
   "execution_count": 5,
   "metadata": {},
   "outputs": [],
   "source": [
    "mnist_transform = T.Compose([\n",
    "    T.ToTensor(),\n",
    "    T.Normalize(\n",
    "        mean=0.5,\n",
    "        std=0.5,\n",
    "    ),\n",
    "])\n",
    "\n",
    "# train_dataset = datasets.FashionMNIST(root=\"../../../_Datasets/\", train=True, download=True, transform=mnist_transform)\n",
    "# test_dataset = datasets.FashionMNIST(root=\"../../../_Datasets/\", train=False, download=True, transform=mnist_transform)\n",
    "train_dataset = datasets.MNIST(root=\"../../../_Datasets/\", train=True, download=True, transform=mnist_transform)\n",
    "test_dataset = datasets.MNIST(root=\"../../../_Datasets/\", train=False, download=True, transform=mnist_transform)"
   ]
  },
  {
   "cell_type": "code",
   "execution_count": 6,
   "metadata": {},
   "outputs": [
    {
     "data": {
      "text/plain": [
       "torch.Size([60000, 28, 28])"
      ]
     },
     "execution_count": 6,
     "metadata": {},
     "output_type": "execute_result"
    }
   ],
   "source": [
    "train_dataset.data.shape"
   ]
  },
  {
   "cell_type": "code",
   "execution_count": 7,
   "metadata": {},
   "outputs": [],
   "source": [
    "batch_size = 50\n",
    "train_loader = data.DataLoader(dataset=train_dataset, num_workers=4, batch_size=batch_size, shuffle=True)\n",
    "test_loader = data.DataLoader(dataset=test_dataset, num_workers=4, batch_size=batch_size, shuffle=False)"
   ]
  },
  {
   "cell_type": "code",
   "execution_count": 8,
   "metadata": {},
   "outputs": [],
   "source": [
    "device = torch.device(\"cpu\")"
   ]
  },
  {
   "cell_type": "code",
   "execution_count": 9,
   "metadata": {},
   "outputs": [
    {
     "name": "stdout",
     "output_type": "stream",
     "text": [
      "torch.Size([50, 1, 28, 28])\n",
      "torch.Size([50, 784]) torch.Size([50])\n"
     ]
    }
   ],
   "source": [
    "for xx, yy in train_loader:\n",
    "    print(xx.shape)\n",
    "    xx, yy = xx.view(-1,28*28).to(device), yy.to(device)\n",
    "    print(xx.shape, yy.shape)\n",
    "    break"
   ]
  },
  {
   "cell_type": "markdown",
   "metadata": {},
   "source": [
    "## Train Test method"
   ]
  },
  {
   "cell_type": "code",
   "execution_count": 10,
   "metadata": {},
   "outputs": [],
   "source": [
    "criterion = nn.CrossEntropyLoss()"
   ]
  },
  {
   "cell_type": "code",
   "execution_count": 11,
   "metadata": {},
   "outputs": [],
   "source": [
    "## Following is copied from \n",
    "### https://github.com/kuangliu/pytorch-cifar/blob/master/main.py\n",
    "\n",
    "# Training\n",
    "def train(epoch, model, optimizer):\n",
    "    model.train()\n",
    "    train_loss = 0\n",
    "    correct = 0\n",
    "    total = 0\n",
    "    for batch_idx, (inputs, targets) in enumerate(tqdm(train_loader)):\n",
    "        inputs, targets = inputs.to(device).view(-1, 28*28), targets.to(device)\n",
    "        \n",
    "        ### Train with random image and \"10\" as class\n",
    "#         inputs = torch.cat([inputs, torch.rand(batch_size//10, 28*28, dtype=inputs.dtype).to(device)*2-1], dim=0)\n",
    "#         targets = torch.cat([targets, torch.ones(batch_size//10, dtype=targets.dtype).to(device)*10], dim=0)\n",
    "        \n",
    "        optimizer.zero_grad()\n",
    "        outputs = model(inputs)\n",
    "        loss = criterion(outputs, targets)\n",
    "        loss.backward()\n",
    "        optimizer.step()\n",
    "\n",
    "        train_loss += loss.item()\n",
    "        _, predicted = outputs.max(1)\n",
    "        total += targets.size(0)\n",
    "        correct += predicted.eq(targets).sum().item()\n",
    "    print(f\"[Train] {epoch} Loss: {train_loss/(batch_idx+1):.3f} | Acc: {100.*correct/total:.3f} {correct}/{total}\")\n",
    "    return"
   ]
  },
  {
   "cell_type": "code",
   "execution_count": 12,
   "metadata": {},
   "outputs": [],
   "source": [
    "best_acc = -1\n",
    "def test(epoch, model, model_name, save=False):\n",
    "    global best_acc\n",
    "    model.eval()\n",
    "    test_loss = 0\n",
    "    correct = 0\n",
    "    total = 0\n",
    "    with torch.no_grad():\n",
    "        for batch_idx, (inputs, targets) in enumerate(tqdm(test_loader)):\n",
    "            inputs, targets = inputs.to(device).view(-1, 28*28), targets.to(device)\n",
    "            outputs = model(inputs)\n",
    "            loss = criterion(outputs, targets)\n",
    "\n",
    "            test_loss += loss.item()\n",
    "            _, predicted = outputs.max(1)\n",
    "            total += targets.size(0)\n",
    "            correct += predicted.eq(targets).sum().item()\n",
    "            \n",
    "    print(f\"[Test] {epoch} Loss: {test_loss/(batch_idx+1):.3f} | Acc: {100.*correct/total:.3f} {correct}/{total}\")\n",
    "    \n",
    "    # Save checkpoint.\n",
    "    acc = 100.*correct/total\n",
    "    if acc > best_acc:\n",
    "        print('Saving..')\n",
    "        state = {\n",
    "            'model': model.state_dict(),\n",
    "            'acc': acc,\n",
    "            'epoch': epoch,\n",
    "        }\n",
    "        if save:\n",
    "            if not os.path.isdir('models'):\n",
    "                os.mkdir('models')\n",
    "            torch.save(state, f'./models/{model_name}.pth')\n",
    "        best_acc = acc"
   ]
  },
  {
   "cell_type": "markdown",
   "metadata": {},
   "source": [
    "## Models"
   ]
  },
  {
   "cell_type": "code",
   "execution_count": 13,
   "metadata": {},
   "outputs": [],
   "source": [
    "class DistanceTransform_Epsilon(dtnn.DistanceTransformBase):\n",
    "    \n",
    "    def __init__(self, input_dim, num_centers, p=2, bias=False, epsilon=0.1):\n",
    "        super().__init__(input_dim, num_centers, p=2)\n",
    "        \n",
    "        nc = num_centers\n",
    "        if epsilon is not None:\n",
    "            nc += 1\n",
    "        self.scaler = nn.Parameter(torch.log(torch.ones(1, 1)*1))\n",
    "#         self.scaler = nn.Parameter(torch.log(torch.ones(1, nc)*1))\n",
    "        self.bias = nn.Parameter(torch.ones(1, nc)*0) if bias else None\n",
    "        self.epsilon = epsilon\n",
    "        \n",
    "    def forward(self, x):\n",
    "        dists = super().forward(x)\n",
    "        \n",
    "        if self.epsilon is not None:\n",
    "            dists = torch.cat([dists, torch.ones(len(x), 1, dtype=x.dtype)*self.epsilon], dim=1)\n",
    "        \n",
    "        ### normalize similar to UMAP\n",
    "        dists = dists/torch.sqrt(dists.var(dim=1, keepdim=True)+1e-9)\n",
    "        \n",
    "        ## scale the dists\n",
    "#         dists = torch.exp(-dists.abs()+self.scaler)\n",
    "        dists = 1-dists*torch.exp(self.scaler)\n",
    "    \n",
    "        if self.bias is not None: dists = dists+self.bias\n",
    "        return dists"
   ]
  },
  {
   "cell_type": "code",
   "execution_count": 14,
   "metadata": {},
   "outputs": [],
   "source": [
    "class LocalMLP_epsilonsoftmax(nn.Module):\n",
    "    \n",
    "    def __init__(self, input_dim, hidden_dim, output_dim, epsilon=1.0):\n",
    "        super().__init__()\n",
    "        \n",
    "        self.input_dim = input_dim\n",
    "        self.hidden_dim = hidden_dim\n",
    "        self.new_hidden_dim = 0\n",
    "        self.output_dim = output_dim\n",
    "        \n",
    "        self.layer0 = DistanceTransform_Epsilon(self.input_dim, self.hidden_dim, bias=True, epsilon=epsilon)\n",
    "        hdim = self.hidden_dim\n",
    "        if epsilon is not None:\n",
    "            hdim += 1\n",
    "            \n",
    "        self.scale_shift = dtnn.ScaleShift(hdim, scaler_init=3, shifter_init=0, scaler_const=True, shifter_const=True)\n",
    "        self.softmax = nn.Softmax(dim=-1)\n",
    "#         self.softmax = F.gumbel_softmax\n",
    "\n",
    "#         self.activ = dtnn.OneActiv(hdim, mode='exp_1.6', beta_init=np.log(2))\n",
    "        self.activ = dtnn.OneActiv(hdim, mode='relu', beta_init=np.log(1.2))\n",
    "#         self.activ = nn.ReLU()\n",
    "\n",
    "        self.layer1 = nn.Linear(hdim, self.output_dim)\n",
    "    \n",
    "        self.temp_maximum = None\n",
    "        \n",
    "    def forward(self, x):\n",
    "        xo = self.layer0(x)\n",
    "        ## dropout here creates 0 actv (is relatively high), hence serves as noise --> does not work for high values\n",
    "#         xo = F.dropout(xo, p=0.001, training=self.training)\n",
    "        xo = self.scale_shift(xo)\n",
    "        xo = self.softmax(xo)\n",
    "        self.temp_maximum = xo.data\n",
    "        \n",
    "        ## drouout here is suitable for activation function (the probabilities do not add upto 1)\n",
    "#         xo = F.dropout(xo, p=0.1, training=self.training)\n",
    "        \n",
    "        ### This feature is useful when the softmax has uniform and low probability\n",
    "#         xo = xo/xo.max(dim=1, keepdim=True)[0].detach() ## produces poor decision boundary \n",
    "        \n",
    "#         rejected = torch.count_nonzero(xo.argmax(dim=1) == self.hidden_dim) \n",
    "        xo = self.activ(xo)\n",
    "        xo = self.layer1(xo)\n",
    "        return xo"
   ]
  },
  {
   "cell_type": "code",
   "execution_count": 15,
   "metadata": {},
   "outputs": [
    {
     "data": {
      "text/plain": [
       "LocalMLP_epsilonsoftmax(\n",
       "  (layer0): DistanceTransform_Epsilon()\n",
       "  (scale_shift): ScaleShift()\n",
       "  (softmax): Softmax(dim=-1)\n",
       "  (activ): OneActiv()\n",
       "  (layer1): Linear(in_features=101, out_features=11, bias=True)\n",
       ")"
      ]
     },
     "execution_count": 15,
     "metadata": {},
     "output_type": "execute_result"
    }
   ],
   "source": [
    "H = 100\n",
    "\n",
    "model = LocalMLP_epsilonsoftmax(784, H, 11, epsilon=9.0)\n",
    "model_name = \"epsilonSM_MLP_ep9\"\n",
    "\n",
    "# model = LocalMLP_epsilonsoftmax(784, H, 11, epsilon=None)\n",
    "# model_name = \"epsilonSM_MLP_epNone\"\n",
    "\n",
    "model"
   ]
  },
  {
   "cell_type": "code",
   "execution_count": 16,
   "metadata": {},
   "outputs": [
    {
     "data": {
      "text/plain": [
       "torch.Size([50, 11])"
      ]
     },
     "execution_count": 16,
     "metadata": {},
     "output_type": "execute_result"
    }
   ],
   "source": [
    "model(xx).shape"
   ]
  },
  {
   "cell_type": "code",
   "execution_count": 17,
   "metadata": {},
   "outputs": [
    {
     "data": {
      "text/plain": [
       "True"
      ]
     },
     "execution_count": 17,
     "metadata": {},
     "output_type": "execute_result"
    }
   ],
   "source": [
    "model.training"
   ]
  },
  {
   "cell_type": "code",
   "execution_count": 18,
   "metadata": {},
   "outputs": [
    {
     "data": {
      "text/plain": [
       "(torch.Size([100, 784]), torch.Size([100]))"
      ]
     },
     "execution_count": 18,
     "metadata": {},
     "output_type": "execute_result"
    }
   ],
   "source": [
    "idx = torch.randperm(len(train_loader.dataset))[:H]\n",
    "source, target = train_dataset.data[idx].reshape(-1, 784), train_dataset.targets[idx]\n",
    "source.shape, target.shape"
   ]
  },
  {
   "cell_type": "code",
   "execution_count": 19,
   "metadata": {},
   "outputs": [],
   "source": [
    "model.layer0.centers.data = source.type(torch.float32)/128-1"
   ]
  },
  {
   "cell_type": "code",
   "execution_count": 20,
   "metadata": {},
   "outputs": [
    {
     "data": {
      "text/plain": [
       "torch.Size([101, 11])"
      ]
     },
     "execution_count": 20,
     "metadata": {},
     "output_type": "execute_result"
    }
   ],
   "source": [
    "targets = torch.zeros(len(target), 11)\n",
    "for i, t in enumerate(target):\n",
    "    targets[i, t] = 1.\n",
    "    targets[i,-1] = 0.05\n",
    "\n",
    "if model.layer0.epsilon is not None:\n",
    "    e = torch.zeros(1, 11)\n",
    "    e[0,-1] = 1.\n",
    "    targets = torch.cat([targets, e], dim=0)\n",
    "\n",
    "targets.shape\n",
    "# targets[-1]"
   ]
  },
  {
   "cell_type": "code",
   "execution_count": 21,
   "metadata": {},
   "outputs": [],
   "source": [
    "model.layer1.weight.data = targets.t()#.to(device)"
   ]
  },
  {
   "cell_type": "code",
   "execution_count": 22,
   "metadata": {},
   "outputs": [
    {
     "name": "stdout",
     "output_type": "stream",
     "text": [
      "torch.Size([50, 101])\n",
      "tensor([1.5739e-06, 2.2190e-06, 9.0653e-06, 2.4668e-05, 8.0358e-03, 2.0359e-03,\n",
      "        2.7931e-05, 5.6393e-05, 6.1231e-04, 1.5053e-03, 4.3746e-05, 1.0767e-04,\n",
      "        6.1066e-04, 9.8150e-05, 5.1573e-06, 1.0070e-03, 2.1627e-06, 5.9363e-05,\n",
      "        3.7299e-05, 1.5933e-03, 1.0251e-06, 1.6904e-04, 2.3683e-04, 4.2808e-04,\n",
      "        6.1560e-05, 2.9480e-07, 3.2767e-05, 3.1424e-04, 1.1855e-05, 1.2512e-04,\n",
      "        8.6492e-04, 2.2078e-06, 1.2403e-05, 6.8912e-07, 4.1832e-05, 1.8241e-06,\n",
      "        7.2580e-05, 1.2302e-04, 6.2159e-04, 8.9107e-04, 1.0351e-04, 3.9141e-06,\n",
      "        6.4024e-04, 1.2550e-04, 8.9008e-05, 9.1594e-07, 6.6941e-04, 3.5072e-04,\n",
      "        7.9431e-04, 4.6513e-04, 5.4937e-05, 2.4424e-05, 1.8169e-03, 6.4663e-04,\n",
      "        2.6295e-04, 2.9387e-04, 5.0713e-04, 1.6177e-04, 1.5706e-05, 5.1372e-04,\n",
      "        4.6675e-03, 8.9550e-05, 5.8316e-07, 1.6971e-05, 4.2809e-06, 1.4887e-04,\n",
      "        9.4602e-07, 7.7095e-06, 3.6033e-06, 9.9900e-04, 9.5710e-04, 3.7018e-05,\n",
      "        2.8365e-06, 7.4911e-04, 9.5780e-05, 1.3302e-04, 8.3756e-05, 1.8926e-05,\n",
      "        2.1314e-03, 5.8323e-05, 1.0725e-04, 1.5207e-04, 2.0782e-04, 2.9991e-04,\n",
      "        1.1428e-06, 1.5941e-04, 7.9720e-06, 7.4051e-04, 2.7958e-06, 3.3890e-03,\n",
      "        5.4339e-04, 1.0248e-06, 2.2893e-04, 4.8486e-06, 1.1418e-04, 4.1945e-05,\n",
      "        1.3212e-03, 6.9299e-04, 1.7300e-03, 1.5914e-04, 9.5246e-01]) \n",
      "  tensor([4.1448e-06, 1.0678e-05, 3.7402e-05, 1.0216e-04, 4.7683e-02, 1.4375e-02,\n",
      "        1.2668e-04, 2.8195e-04, 1.8951e-03, 5.6488e-03, 1.0364e-04, 3.9851e-04,\n",
      "        3.1815e-03, 3.5514e-04, 1.4370e-05, 3.3106e-03, 5.7152e-06, 1.3802e-04,\n",
      "        1.4035e-04, 1.0815e-02, 2.6029e-06, 3.8223e-04, 8.6387e-04, 2.4931e-03,\n",
      "        1.6263e-04, 6.6691e-07, 1.8372e-04, 1.9265e-03, 3.3175e-05, 2.8608e-04,\n",
      "        4.6333e-03, 9.3807e-06, 3.6006e-05, 1.9965e-06, 1.3075e-04, 3.7943e-06,\n",
      "        2.2139e-04, 4.8426e-04, 2.9159e-03, 6.0710e-03, 4.7584e-04, 8.2507e-06,\n",
      "        2.2424e-03, 5.5067e-04, 3.2203e-04, 1.6985e-06, 3.8330e-03, 1.2622e-03,\n",
      "        4.2367e-03, 2.2573e-03, 1.9523e-04, 4.5326e-05, 1.1282e-02, 2.0764e-03,\n",
      "        1.2119e-03, 1.4922e-03, 1.6028e-03, 4.9994e-04, 6.9561e-05, 2.0460e-03,\n",
      "        3.2706e-02, 4.8282e-04, 1.1512e-06, 3.6301e-05, 1.0042e-05, 4.3290e-04,\n",
      "        2.1637e-06, 1.9800e-05, 1.3635e-05, 3.6062e-03, 3.8163e-03, 1.8933e-04,\n",
      "        8.3216e-06, 4.9635e-03, 4.9246e-04, 4.7827e-04, 5.8675e-04, 7.1562e-05,\n",
      "        8.7244e-03, 2.4038e-04, 5.0383e-04, 9.4660e-04, 5.5655e-04, 1.9230e-03,\n",
      "        3.7650e-06, 4.3010e-04, 2.2524e-05, 3.8746e-03, 6.3118e-06, 1.5650e-02,\n",
      "        3.8012e-03, 2.8047e-06, 8.0433e-04, 2.2811e-05, 5.3873e-04, 2.1417e-04,\n",
      "        7.7737e-03, 3.2626e-03, 7.4172e-03, 4.8011e-04, 1.0394e-01])\n",
      "tensor([1.0017e-10, 1.3724e-11, 1.9086e-10, 9.2440e-10, 6.3026e-10, 2.7184e-10,\n",
      "        3.3203e-10, 2.1216e-09, 5.9424e-10, 1.8203e-10, 6.9226e-10, 3.6315e-10,\n",
      "        6.4838e-10, 4.3716e-10, 9.8448e-11, 7.9016e-11, 4.5894e-10, 3.5672e-10,\n",
      "        1.2010e-09, 3.0427e-10, 3.0048e-11, 3.1904e-09, 4.2206e-10, 5.9034e-10,\n",
      "        5.3488e-10, 3.7639e-12, 4.3800e-10, 1.0524e-09, 3.3724e-11, 1.2605e-10,\n",
      "        9.3789e-10, 1.7289e-12, 2.5865e-09, 1.1471e-10, 1.8073e-10, 1.7458e-10,\n",
      "        3.3193e-10, 2.7022e-09, 4.4000e-09, 1.4762e-10, 3.6706e-09, 3.0575e-11,\n",
      "        1.4361e-10, 3.3924e-10, 2.6353e-09, 5.3963e-11, 4.7844e-10, 9.7346e-10,\n",
      "        1.4138e-10, 1.2981e-10, 7.1894e-10, 1.6665e-09, 1.8184e-10, 2.3859e-09,\n",
      "        2.9202e-11, 1.6126e-10, 4.2189e-10, 2.0107e-09, 1.7742e-10, 2.4676e-10,\n",
      "        8.2976e-10, 3.6132e-10, 7.2626e-12, 6.8300e-10, 7.0944e-10, 1.0270e-09,\n",
      "        6.7588e-12, 2.4122e-10, 5.6751e-10, 7.1869e-10, 1.0571e-09, 1.5047e-10,\n",
      "        4.3134e-11, 1.4330e-09, 8.0950e-10, 4.6355e-10, 3.8055e-11, 1.1836e-09,\n",
      "        1.6812e-10, 2.6148e-10, 7.0777e-10, 1.4539e-10, 3.6652e-10, 2.0610e-10,\n",
      "        2.7162e-11, 1.3813e-09, 1.6890e-10, 1.2239e-10, 4.1400e-10, 5.9280e-10,\n",
      "        6.4066e-11, 1.4117e-10, 4.3802e-10, 3.7987e-10, 2.3117e-10, 1.7402e-11,\n",
      "        5.8435e-10, 1.3590e-09, 5.2422e-10, 1.4148e-10, 4.6615e-01]) \n",
      "  tensor([2.6320e-05, 7.4810e-05, 2.6371e-04, 6.9959e-04, 3.3619e-01, 1.0165e-01,\n",
      "        8.8473e-04, 1.9460e-03, 9.6954e-03, 3.6780e-02, 5.4142e-04, 2.3784e-03,\n",
      "        2.2500e-02, 2.3927e-03, 7.6820e-05, 1.8036e-02, 2.9692e-05, 6.0701e-04,\n",
      "        9.2660e-04, 7.6513e-02, 1.4445e-05, 1.9602e-03, 5.8608e-03, 1.7640e-02,\n",
      "        8.6993e-04, 3.1135e-06, 1.2994e-03, 1.3641e-02, 2.1543e-04, 1.5506e-03,\n",
      "        3.2328e-02, 6.5984e-05, 1.6900e-04, 1.2493e-05, 6.1495e-04, 2.0900e-05,\n",
      "        1.1738e-03, 3.2731e-03, 2.0571e-02, 4.2957e-02, 3.3186e-03, 3.4447e-05,\n",
      "        1.1927e-02, 3.8175e-03, 2.2079e-03, 8.9246e-06, 2.7057e-02, 6.4883e-03,\n",
      "        2.7891e-02, 1.5797e-02, 1.3091e-03, 1.8557e-04, 7.9912e-02, 1.1797e-02,\n",
      "        8.2285e-03, 1.0562e-02, 7.3436e-03, 2.7607e-03, 3.6414e-04, 1.2300e-02,\n",
      "        2.3130e-01, 3.3334e-03, 6.7539e-06, 1.7992e-04, 5.5601e-05, 2.2638e-03,\n",
      "        1.0301e-05, 1.0952e-04, 9.4965e-05, 2.2122e-02, 2.3791e-02, 1.3312e-03,\n",
      "        5.6259e-05, 3.5134e-02, 3.4731e-03, 2.5481e-03, 4.1497e-03, 5.0233e-04,\n",
      "        5.6686e-02, 1.6212e-03, 3.2428e-03, 6.7000e-03, 3.3021e-03, 1.3580e-02,\n",
      "        2.2557e-05, 1.8752e-03, 1.2790e-04, 2.7352e-02, 3.1599e-05, 8.5677e-02,\n",
      "        2.6883e-02, 1.1315e-05, 4.8862e-03, 1.6067e-04, 3.7181e-03, 1.4440e-03,\n",
      "        5.5059e-02, 2.2608e-02, 5.0127e-02, 2.4950e-03, 1.0000e+00])\n"
     ]
    }
   ],
   "source": [
    "def forward_intermediate(self, x):\n",
    "    xo = self.layer0(x)\n",
    "    xo = self.scale_shift(xo)\n",
    "    xo = self.softmax(xo).data\n",
    "    print(xo.shape)\n",
    "    print(xo.mean(dim=0), \"\\n \", xo.std(dim=0))\n",
    "    print(xo.min(dim=0)[0], \"\\n \", xo.max(dim=0)[0])\n",
    "\n",
    "forward_intermediate(model, xx)"
   ]
  },
  {
   "cell_type": "code",
   "execution_count": 23,
   "metadata": {},
   "outputs": [
    {
     "name": "stderr",
     "output_type": "stream",
     "text": [
      "100%|██████████| 200/200 [00:01<00:00, 163.87it/s]"
     ]
    },
    {
     "name": "stdout",
     "output_type": "stream",
     "text": [
      "[Test] -1 Loss: 2.470 | Acc: 9.140 914/10000\n",
      "Saving..\n"
     ]
    },
    {
     "name": "stderr",
     "output_type": "stream",
     "text": [
      "\n"
     ]
    }
   ],
   "source": [
    "test(-1, model, model_name=\"\", save=False)"
   ]
  },
  {
   "cell_type": "markdown",
   "metadata": {},
   "source": [
    "## Model Training"
   ]
  },
  {
   "cell_type": "code",
   "execution_count": 24,
   "metadata": {},
   "outputs": [],
   "source": [
    "learning_rate = 0.01\n",
    "\"\"\"\n",
    "Use Small LR for centers and larger for rest (center deviated too much)\n",
    "\"\"\"\n",
    "\n",
    "EPOCHS = 15"
   ]
  },
  {
   "cell_type": "code",
   "execution_count": 25,
   "metadata": {},
   "outputs": [],
   "source": [
    "### https://stackoverflow.com/questions/51801648/how-to-apply-layer-wise-learning-rate-in-pytorch\n",
    "p1, p2 = [], []\n",
    "for p in model.named_parameters():\n",
    "    if p[0] == \"layer0.centers\":\n",
    "        p1.append(p[1])\n",
    "    else:\n",
    "        p2.append(p[1])\n",
    "\n",
    "params = [\n",
    "    {\"params\": p1, \"lr\": 3e-4}, ## default - to change little from data point\n",
    "#     {\"params\": p1},\n",
    "    {\"params\": p2},\n",
    "]"
   ]
  },
  {
   "cell_type": "code",
   "execution_count": 26,
   "metadata": {},
   "outputs": [
    {
     "name": "stderr",
     "output_type": "stream",
     "text": [
      "100%|██████████| 1200/1200 [00:12<00:00, 96.22it/s]\n"
     ]
    },
    {
     "name": "stdout",
     "output_type": "stream",
     "text": [
      "[Train] 0 Loss: 0.842 | Acc: 74.532 44719/60000\n"
     ]
    },
    {
     "name": "stderr",
     "output_type": "stream",
     "text": [
      "100%|██████████| 200/200 [00:02<00:00, 90.95it/s] \n"
     ]
    },
    {
     "name": "stdout",
     "output_type": "stream",
     "text": [
      "[Test] 0 Loss: 0.555 | Acc: 82.020 8202/10000\n",
      "Saving..\n"
     ]
    },
    {
     "name": "stderr",
     "output_type": "stream",
     "text": [
      "100%|██████████| 1200/1200 [00:13<00:00, 87.48it/s]\n"
     ]
    },
    {
     "name": "stdout",
     "output_type": "stream",
     "text": [
      "[Train] 1 Loss: 0.503 | Acc: 83.655 50193/60000\n"
     ]
    },
    {
     "name": "stderr",
     "output_type": "stream",
     "text": [
      "100%|██████████| 200/200 [00:02<00:00, 85.01it/s]\n"
     ]
    },
    {
     "name": "stdout",
     "output_type": "stream",
     "text": [
      "[Test] 1 Loss: 0.516 | Acc: 82.610 8261/10000\n",
      "Saving..\n"
     ]
    },
    {
     "name": "stderr",
     "output_type": "stream",
     "text": [
      "100%|██████████| 1200/1200 [00:14<00:00, 85.08it/s] \n"
     ]
    },
    {
     "name": "stdout",
     "output_type": "stream",
     "text": [
      "[Train] 2 Loss: 0.431 | Acc: 85.943 51566/60000\n"
     ]
    },
    {
     "name": "stderr",
     "output_type": "stream",
     "text": [
      "100%|██████████| 200/200 [00:01<00:00, 114.00it/s]\n"
     ]
    },
    {
     "name": "stdout",
     "output_type": "stream",
     "text": [
      "[Test] 2 Loss: 0.401 | Acc: 87.360 8736/10000\n",
      "Saving..\n"
     ]
    },
    {
     "name": "stderr",
     "output_type": "stream",
     "text": [
      "100%|██████████| 1200/1200 [00:16<00:00, 72.67it/s]\n"
     ]
    },
    {
     "name": "stdout",
     "output_type": "stream",
     "text": [
      "[Train] 3 Loss: 0.385 | Acc: 87.612 52567/60000\n"
     ]
    },
    {
     "name": "stderr",
     "output_type": "stream",
     "text": [
      "100%|██████████| 200/200 [00:02<00:00, 91.68it/s] \n"
     ]
    },
    {
     "name": "stdout",
     "output_type": "stream",
     "text": [
      "[Test] 3 Loss: 0.365 | Acc: 88.340 8834/10000\n",
      "Saving..\n"
     ]
    },
    {
     "name": "stderr",
     "output_type": "stream",
     "text": [
      "100%|██████████| 1200/1200 [00:22<00:00, 52.52it/s] \n"
     ]
    },
    {
     "name": "stdout",
     "output_type": "stream",
     "text": [
      "[Train] 4 Loss: 0.351 | Acc: 88.825 53295/60000\n"
     ]
    },
    {
     "name": "stderr",
     "output_type": "stream",
     "text": [
      "100%|██████████| 200/200 [00:01<00:00, 111.84it/s]\n"
     ]
    },
    {
     "name": "stdout",
     "output_type": "stream",
     "text": [
      "[Test] 4 Loss: 0.345 | Acc: 89.140 8914/10000\n",
      "Saving..\n"
     ]
    },
    {
     "name": "stderr",
     "output_type": "stream",
     "text": [
      "100%|██████████| 1200/1200 [00:13<00:00, 91.57it/s] \n"
     ]
    },
    {
     "name": "stdout",
     "output_type": "stream",
     "text": [
      "[Train] 5 Loss: 0.322 | Acc: 89.840 53904/60000\n"
     ]
    },
    {
     "name": "stderr",
     "output_type": "stream",
     "text": [
      "100%|██████████| 200/200 [00:01<00:00, 122.42it/s]\n"
     ]
    },
    {
     "name": "stdout",
     "output_type": "stream",
     "text": [
      "[Test] 5 Loss: 0.318 | Acc: 89.970 8997/10000\n",
      "Saving..\n"
     ]
    },
    {
     "name": "stderr",
     "output_type": "stream",
     "text": [
      "100%|██████████| 1200/1200 [00:12<00:00, 93.18it/s] \n"
     ]
    },
    {
     "name": "stdout",
     "output_type": "stream",
     "text": [
      "[Train] 6 Loss: 0.302 | Acc: 90.552 54331/60000\n"
     ]
    },
    {
     "name": "stderr",
     "output_type": "stream",
     "text": [
      "100%|██████████| 200/200 [00:01<00:00, 120.28it/s]\n"
     ]
    },
    {
     "name": "stdout",
     "output_type": "stream",
     "text": [
      "[Test] 6 Loss: 0.299 | Acc: 90.700 9070/10000\n",
      "Saving..\n"
     ]
    },
    {
     "name": "stderr",
     "output_type": "stream",
     "text": [
      "100%|██████████| 1200/1200 [00:11<00:00, 101.93it/s]\n"
     ]
    },
    {
     "name": "stdout",
     "output_type": "stream",
     "text": [
      "[Train] 7 Loss: 0.287 | Acc: 91.060 54636/60000\n"
     ]
    },
    {
     "name": "stderr",
     "output_type": "stream",
     "text": [
      "100%|██████████| 200/200 [00:01<00:00, 138.94it/s]\n"
     ]
    },
    {
     "name": "stdout",
     "output_type": "stream",
     "text": [
      "[Test] 7 Loss: 0.303 | Acc: 90.950 9095/10000\n",
      "Saving..\n"
     ]
    },
    {
     "name": "stderr",
     "output_type": "stream",
     "text": [
      "100%|██████████| 1200/1200 [00:10<00:00, 115.71it/s]\n"
     ]
    },
    {
     "name": "stdout",
     "output_type": "stream",
     "text": [
      "[Train] 8 Loss: 0.274 | Acc: 91.503 54902/60000\n"
     ]
    },
    {
     "name": "stderr",
     "output_type": "stream",
     "text": [
      "100%|██████████| 200/200 [00:01<00:00, 145.20it/s]\n"
     ]
    },
    {
     "name": "stdout",
     "output_type": "stream",
     "text": [
      "[Test] 8 Loss: 0.279 | Acc: 91.210 9121/10000\n",
      "Saving..\n"
     ]
    },
    {
     "name": "stderr",
     "output_type": "stream",
     "text": [
      "100%|██████████| 1200/1200 [00:10<00:00, 111.53it/s]\n"
     ]
    },
    {
     "name": "stdout",
     "output_type": "stream",
     "text": [
      "[Train] 9 Loss: 0.265 | Acc: 91.733 55040/60000\n"
     ]
    },
    {
     "name": "stderr",
     "output_type": "stream",
     "text": [
      "100%|██████████| 200/200 [00:01<00:00, 146.26it/s]\n"
     ]
    },
    {
     "name": "stdout",
     "output_type": "stream",
     "text": [
      "[Test] 9 Loss: 0.269 | Acc: 91.760 9176/10000\n",
      "Saving..\n"
     ]
    },
    {
     "name": "stderr",
     "output_type": "stream",
     "text": [
      "100%|██████████| 1200/1200 [00:10<00:00, 109.17it/s]\n"
     ]
    },
    {
     "name": "stdout",
     "output_type": "stream",
     "text": [
      "[Train] 10 Loss: 0.256 | Acc: 92.033 55220/60000\n"
     ]
    },
    {
     "name": "stderr",
     "output_type": "stream",
     "text": [
      "100%|██████████| 200/200 [00:01<00:00, 107.84it/s]\n"
     ]
    },
    {
     "name": "stdout",
     "output_type": "stream",
     "text": [
      "[Test] 10 Loss: 0.262 | Acc: 91.800 9180/10000\n",
      "Saving..\n"
     ]
    },
    {
     "name": "stderr",
     "output_type": "stream",
     "text": [
      "100%|██████████| 1200/1200 [00:11<00:00, 106.16it/s]\n"
     ]
    },
    {
     "name": "stdout",
     "output_type": "stream",
     "text": [
      "[Train] 11 Loss: 0.251 | Acc: 92.278 55367/60000\n"
     ]
    },
    {
     "name": "stderr",
     "output_type": "stream",
     "text": [
      "100%|██████████| 200/200 [00:01<00:00, 127.62it/s]\n"
     ]
    },
    {
     "name": "stdout",
     "output_type": "stream",
     "text": [
      "[Test] 11 Loss: 0.256 | Acc: 91.920 9192/10000\n",
      "Saving..\n"
     ]
    },
    {
     "name": "stderr",
     "output_type": "stream",
     "text": [
      "100%|██████████| 1200/1200 [00:12<00:00, 96.82it/s] \n"
     ]
    },
    {
     "name": "stdout",
     "output_type": "stream",
     "text": [
      "[Train] 12 Loss: 0.246 | Acc: 92.387 55432/60000\n"
     ]
    },
    {
     "name": "stderr",
     "output_type": "stream",
     "text": [
      "100%|██████████| 200/200 [00:01<00:00, 141.73it/s]\n"
     ]
    },
    {
     "name": "stdout",
     "output_type": "stream",
     "text": [
      "[Test] 12 Loss: 0.254 | Acc: 92.040 9204/10000\n",
      "Saving..\n"
     ]
    },
    {
     "name": "stderr",
     "output_type": "stream",
     "text": [
      "100%|██████████| 1200/1200 [00:10<00:00, 111.75it/s]\n"
     ]
    },
    {
     "name": "stdout",
     "output_type": "stream",
     "text": [
      "[Train] 13 Loss: 0.244 | Acc: 92.520 55512/60000\n"
     ]
    },
    {
     "name": "stderr",
     "output_type": "stream",
     "text": [
      "100%|██████████| 200/200 [00:01<00:00, 134.73it/s]\n"
     ]
    },
    {
     "name": "stdout",
     "output_type": "stream",
     "text": [
      "[Test] 13 Loss: 0.252 | Acc: 92.020 9202/10000\n"
     ]
    },
    {
     "name": "stderr",
     "output_type": "stream",
     "text": [
      "100%|██████████| 1200/1200 [00:11<00:00, 108.06it/s]\n"
     ]
    },
    {
     "name": "stdout",
     "output_type": "stream",
     "text": [
      "[Train] 14 Loss: 0.242 | Acc: 92.522 55513/60000\n"
     ]
    },
    {
     "name": "stderr",
     "output_type": "stream",
     "text": [
      "100%|██████████| 200/200 [00:01<00:00, 141.92it/s]"
     ]
    },
    {
     "name": "stdout",
     "output_type": "stream",
     "text": [
      "[Test] 14 Loss: 0.251 | Acc: 92.020 9202/10000\n"
     ]
    },
    {
     "name": "stderr",
     "output_type": "stream",
     "text": [
      "\n"
     ]
    }
   ],
   "source": [
    "# optimizer = torch.optim.Adam(model.parameters(), lr=learning_rate)\n",
    "\n",
    "optimizer = torch.optim.Adam(params, lr=learning_rate)\n",
    "scheduler = torch.optim.lr_scheduler.CosineAnnealingLR(optimizer, T_max=EPOCHS)\n",
    "\n",
    "best_acc = -1\n",
    "for epoch in range(EPOCHS):\n",
    "    train(epoch, model, optimizer)\n",
    "    test(epoch, model, model_name, save=False)\n",
    "    scheduler.step()"
   ]
  },
  {
   "cell_type": "code",
   "execution_count": 27,
   "metadata": {},
   "outputs": [
    {
     "data": {
      "image/png": "[encoded data removed]",
      "text/plain": [
       "<Figure size 720x720 with 25 Axes>"
      ]
     },
     "metadata": {
      "needs_background": "light"
     },
     "output_type": "display_data"
    }
   ],
   "source": [
    "_, axs = plt.subplots(5, 5, figsize=(10, 10))\n",
    "axs = axs.flatten()\n",
    "\n",
    "c = model.layer0.centers.data.cpu().numpy().reshape(-1, 28,28)\n",
    "imgs = c[:len(axs)]\n",
    "\n",
    "for img, ax in zip(imgs, axs):\n",
    "    ax.imshow(img)\n",
    "    ax.set_axis_off()\n",
    "\n",
    "plt.show()"
   ]
  },
  {
   "cell_type": "markdown",
   "metadata": {},
   "source": [
    "#### Test for random image sample"
   ]
  },
  {
   "cell_type": "code",
   "execution_count": 28,
   "metadata": {},
   "outputs": [],
   "source": [
    "with torch.no_grad():\n",
    "    inputs = torch.rand(10, 28*28).to(device)*2-1\n",
    "    xo = model.layer0(inputs)\n",
    "    xo = model.scale_shift(xo)\n",
    "    xo = model.softmax(xo).data"
   ]
  },
  {
   "cell_type": "code",
   "execution_count": 29,
   "metadata": {},
   "outputs": [
    {
     "data": {
      "text/plain": [
       "torch.return_types.max(values=tensor([0.9891, 0.9883, 0.9884, 0.9877, 0.9896, 0.9873, 0.9908, 0.9833, 0.9923,\n",
       "        0.9869]), indices=tensor([100, 100, 100, 100, 100, 100, 100, 100, 100, 100]))"
      ]
     },
     "execution_count": 29,
     "metadata": {},
     "output_type": "execute_result"
    }
   ],
   "source": [
    "# xo.argmax(dim=1)\n",
    "xo.max(dim=1)"
   ]
  },
  {
   "cell_type": "code",
   "execution_count": 30,
   "metadata": {},
   "outputs": [
    {
     "data": {
      "text/plain": [
       "<matplotlib.image.AxesImage at 0x7f36d0ac5bd0>"
      ]
     },
     "execution_count": 30,
     "metadata": {},
     "output_type": "execute_result"
    },
    {
     "data": {
      "image/png": "[encoded data removed]",
      "text/plain": [
       "<Figure size 432x288 with 1 Axes>"
      ]
     },
     "metadata": {
      "needs_background": "light"
     },
     "output_type": "display_data"
    }
   ],
   "source": [
    "j=0\n",
    "plt.imshow(inputs[j].reshape(28,28))"
   ]
  },
  {
   "cell_type": "code",
   "execution_count": 31,
   "metadata": {},
   "outputs": [
    {
     "data": {
      "text/plain": [
       "tensor([100,   0,  35,  76,  79,   3,  51,  41,  90,  62,  93,   2,   7,  19,\n",
       "         68,  48,  14,  59,   1,  27,  91,  75,  39,  21,  26,  10,  34,  85,\n",
       "         86,  37,  81,  82,  30,  11,  98,  36,  46,  89,  38,  15,   9,  63,\n",
       "         12,  42,  56,  74,  72,  13,  31,  53,   8,  71,  88,  17,   5,  83,\n",
       "         66,  33,  77,  50,  45,   6,  16,  95,  43,  58,  40,  60,  18,  94,\n",
       "          4,  29,  61,  28,  73,  57,  52,  80,  23,  87,  99,  20,  69,  32,\n",
       "         97,  84,  55,  96,  47,  44,  54,  24,  78,  92,  64,  22,  67,  65,\n",
       "         70,  25,  49])"
      ]
     },
     "execution_count": 31,
     "metadata": {},
     "output_type": "execute_result"
    }
   ],
   "source": [
    "i = -1\n",
    "nearest = torch.argsort(xo[j], descending=True)\n",
    "nearest"
   ]
  },
  {
   "cell_type": "code",
   "execution_count": 32,
   "metadata": {},
   "outputs": [
    {
     "data": {
      "text/plain": [
       "torch.Size([10, 101])"
      ]
     },
     "execution_count": 32,
     "metadata": {},
     "output_type": "execute_result"
    }
   ],
   "source": [
    "xo.shape"
   ]
  },
  {
   "cell_type": "code",
   "execution_count": 33,
   "metadata": {},
   "outputs": [
    {
     "name": "stdout",
     "output_type": "stream",
     "text": [
      "prob: tensor(0.9891)\n"
     ]
    }
   ],
   "source": [
    "i+=1\n",
    "print(\"prob:\", xo[0][nearest[i]])\n",
    "try:\n",
    "    plt.imshow(model.layer0.centers.data[nearest[i]].reshape(28,28))\n",
    "except:\n",
    "    pass"
   ]
  },
  {
   "cell_type": "code",
   "execution_count": 34,
   "metadata": {},
   "outputs": [],
   "source": [
    "with torch.no_grad():\n",
    "    xo_ = model.activ(xo)\n",
    "    xo_ = model.layer1(xo_).data"
   ]
  },
  {
   "cell_type": "code",
   "execution_count": 35,
   "metadata": {},
   "outputs": [
    {
     "data": {
      "text/plain": [
       "tensor([8, 8, 8, 8, 8, 8, 8, 8, 8, 8])"
      ]
     },
     "execution_count": 35,
     "metadata": {},
     "output_type": "execute_result"
    }
   ],
   "source": [
    "xo_.argmax(dim=1)"
   ]
  },
  {
   "cell_type": "code",
   "execution_count": 36,
   "metadata": {},
   "outputs": [],
   "source": [
    "#  model.layer1.weight[1], model.layer1.weight[10]"
   ]
  },
  {
   "cell_type": "code",
   "execution_count": 37,
   "metadata": {},
   "outputs": [
    {
     "data": {
      "text/plain": [
       "tensor([[1.0118, 1.0024, 1.0024, 1.0019, 1.0293, 1.0299, 1.3137, 0.9940, 1.0822,\n",
       "         1.0032, 0.9961, 0.9845, 1.0055, 1.0203, 0.9992, 0.9991, 1.2925, 1.0120,\n",
       "         1.2534, 1.0055, 1.2691, 1.0009, 1.1665, 1.1518, 1.1395, 1.2449, 1.0030,\n",
       "         1.0003, 1.0053, 1.0659, 1.0042, 0.9731, 1.0993, 1.0403, 1.0011, 1.0045,\n",
       "         0.9979, 0.9993, 1.0134, 1.0055, 1.0312, 0.9988, 0.9996, 1.1636, 1.0628,\n",
       "         1.1243, 0.9999, 1.2514, 1.0026, 1.0231, 1.0175, 1.0021, 1.0496, 1.0408,\n",
       "         1.0176, 1.0481, 1.0003, 1.1605, 1.3302, 1.0006, 1.0659, 1.3023, 1.0045,\n",
       "         1.0076, 1.1962, 1.2423, 1.0130, 1.0512, 0.9738, 1.0400, 1.0578, 1.0398,\n",
       "         1.0097, 1.0755, 1.0287, 0.9987, 0.9976, 1.0768, 1.0057, 1.0150, 1.2109,\n",
       "         1.0106, 1.0007, 1.0700, 1.0521, 0.9982, 1.0042, 1.0144, 1.0168, 1.0066,\n",
       "         1.0005, 1.0017, 1.1313, 1.0007, 1.0888, 1.1736, 1.0167, 1.0140, 1.0006,\n",
       "         1.4677, 0.9970]], grad_fn=<ExpBackward>)"
      ]
     },
     "execution_count": 37,
     "metadata": {},
     "output_type": "execute_result"
    }
   ],
   "source": [
    "## scaling of softmax activation\n",
    "torch.exp(model.activ.beta)"
   ]
  },
  {
   "cell_type": "code",
   "execution_count": 38,
   "metadata": {},
   "outputs": [
    {
     "data": {
      "text/plain": [
       "(-1.889351, 1.7032309)"
      ]
     },
     "execution_count": 38,
     "metadata": {},
     "output_type": "execute_result"
    }
   ],
   "source": [
    "imgs.min(), imgs.max()"
   ]
  },
  {
   "cell_type": "code",
   "execution_count": 39,
   "metadata": {},
   "outputs": [
    {
     "data": {
      "text/plain": [
       "tensor([-0.0069, -0.2045, -0.0481, -0.1688, -0.0592, -0.1050,  0.7883, -0.2865,\n",
       "        -0.1673, -0.1406, -2.8189])"
      ]
     },
     "execution_count": 39,
     "metadata": {},
     "output_type": "execute_result"
    }
   ],
   "source": [
    "model.layer1.weight.data[:,5]"
   ]
  },
  {
   "cell_type": "markdown",
   "metadata": {},
   "source": [
    "## Adverserial Test"
   ]
  },
  {
   "cell_type": "code",
   "execution_count": 40,
   "metadata": {},
   "outputs": [],
   "source": [
    "import foolbox as fb\n",
    "import foolbox.attacks as fa"
   ]
  },
  {
   "cell_type": "code",
   "execution_count": 41,
   "metadata": {},
   "outputs": [],
   "source": [
    "fmodel = fb.PyTorchModel(model.eval(), bounds=(-1, 1), device=device)\n",
    "\n",
    "# attack = fa.LinfPGD()\n",
    "attack = fa.FGSM()\n",
    "# epsilons = [0.0, 0.001, 0.01, 0.03, 0.1, 0.3, 0.5, 1.0]"
   ]
  },
  {
   "cell_type": "code",
   "execution_count": 51,
   "metadata": {},
   "outputs": [
    {
     "name": "stderr",
     "output_type": "stream",
     "text": [
      "100%|██████████| 200/200 [00:02<00:00, 88.36it/s] \n"
     ]
    }
   ],
   "source": [
    "count = 0\n",
    "failed = 0\n",
    "rejected = 0\n",
    "x_rejected = 0\n",
    "for i, (xx, yy) in enumerate(tqdm(test_loader)):\n",
    "    xx = xx.reshape(-1, 28*28)\n",
    "    \n",
    "    yout = model(xx)\n",
    "    reject_out = yout.argmax(dim=1) == 10\n",
    "    reject_hid = model.temp_maximum.max(dim=1)[1] == model.hidden_dim\n",
    "    reject = torch.bitwise_or(reject_out, reject_hid)\n",
    "    x_rejected += int(reject.type(torch.float32).sum())\n",
    "    \n",
    "    _, advs, success = attack(fmodel, xx, yy, epsilons=0.5)   \n",
    "    yout = model(advs)\n",
    "    reject_out = yout.argmax(dim=1) == 10\n",
    "    reject_hid = model.temp_maximum.max(dim=1)[1] == model.hidden_dim\n",
    "    reject = torch.bitwise_or(reject_out, reject_hid)\n",
    "#     reject = reject_out\n",
    "    rejected += int(reject.type(torch.float32).sum())\n",
    "    \n",
    "    fail = torch.bitwise_and(success, ~reject).type(torch.float32).sum()\n",
    "#     fail = success.type(torch.float32).sum()\n",
    "    failed += int(fail)    \n",
    "    count += len(xx)\n",
    "\n",
    "#     break"
   ]
  },
  {
   "cell_type": "code",
   "execution_count": 52,
   "metadata": {},
   "outputs": [],
   "source": [
    "# success"
   ]
  },
  {
   "cell_type": "code",
   "execution_count": 53,
   "metadata": {},
   "outputs": [
    {
     "data": {
      "text/plain": [
       "(10000, 4079, 5156, 634)"
      ]
     },
     "execution_count": 53,
     "metadata": {},
     "output_type": "execute_result"
    }
   ],
   "source": [
    "count, failed, rejected, x_rejected"
   ]
  },
  {
   "cell_type": "code",
   "execution_count": 54,
   "metadata": {},
   "outputs": [
    {
     "data": {
      "text/plain": [
       "0.4713"
      ]
     },
     "execution_count": 54,
     "metadata": {},
     "output_type": "execute_result"
    }
   ],
   "source": [
    "(failed+x_rejected)/count"
   ]
  },
  {
   "cell_type": "code",
   "execution_count": 46,
   "metadata": {},
   "outputs": [],
   "source": [
    "# model.temp_maximum.max(dim=1)[1]"
   ]
  },
  {
   "cell_type": "code",
   "execution_count": 47,
   "metadata": {},
   "outputs": [],
   "source": [
    "# yout.argmax(dim=1)"
   ]
  },
  {
   "cell_type": "code",
   "execution_count": 50,
   "metadata": {},
   "outputs": [],
   "source": [
    "model.layer0.epsilon = 5.0"
   ]
  },
  {
   "cell_type": "code",
   "execution_count": 49,
   "metadata": {},
   "outputs": [
    {
     "data": {
      "text/plain": [
       "'\\n- epsilon can be changed to reject more and more inputs (including adverserial)\\n- Create Epsilon_hull and find how much test data lie inside\\n- Related works: https://arxiv.org/pdf/2010.09119.pdf (this uses different subnetwork for classification and uncertainity estimation)\\n\\n\\n- Changing centers away from data-samples reduces rejections!\\n'"
      ]
     },
     "execution_count": 49,
     "metadata": {},
     "output_type": "execute_result"
    }
   ],
   "source": [
    "\"\"\"\n",
    "- epsilon can be changed to reject more and more inputs (including adverserial)\n",
    "- Create Epsilon_hull and find how much test data lie inside\n",
    "- Related works: https://arxiv.org/pdf/2010.09119.pdf (this uses different subnetwork for classification and uncertainity estimation)\n",
    "\n",
    "\n",
    "- Changing centers away from data-samples reduces rejections!\n",
    "\"\"\""
   ]
  }
 ],
 "metadata": {
  "kernelspec": {
   "display_name": "Python 3",
   "language": "python",
   "name": "python3"
  },
  "language_info": {
   "codemirror_mode": {
    "name": "ipython",
    "version": 3
   },
   "file_extension": ".py",
   "mimetype": "text/x-python",
   "name": "python",
   "nbconvert_exporter": "python",
   "pygments_lexer": "ipython3",
   "version": "3.7.4"
  }
 },
 "nbformat": 4,
 "nbformat_minor": 4
}
