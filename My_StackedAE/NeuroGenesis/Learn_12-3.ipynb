{
 "cells": [
  {
   "cell_type": "code",
   "execution_count": 1,
   "metadata": {},
   "outputs": [
    {
     "name": "stderr",
     "output_type": "stream",
     "text": [
      "c:\\users\\heythere\\appdata\\local\\programs\\python\\python35\\lib\\site-packages\\h5py\\__init__.py:36: FutureWarning: Conversion of the second argument of issubdtype from `float` to `np.floating` is deprecated. In future, it will be treated as `np.float64 == np.dtype(float).type`.\n",
      "  from ._conv import register_converters as _register_converters\n"
     ]
    }
   ],
   "source": [
    "import numpy as np\n",
    "import tensorflow as tf\n",
    "import matplotlib.pyplot as plt\n",
    "%matplotlib inline\n",
    "from tensorflow.examples.tutorials.mnist import input_data"
   ]
  },
  {
   "cell_type": "code",
   "execution_count": 2,
   "metadata": {},
   "outputs": [
    {
     "name": "stdout",
     "output_type": "stream",
     "text": [
      "WARNING:tensorflow:From <ipython-input-2-b22782e32495>:1: read_data_sets (from tensorflow.contrib.learn.python.learn.datasets.mnist) is deprecated and will be removed in a future version.\n",
      "Instructions for updating:\n",
      "Please use alternatives such as official/mnist/dataset.py from tensorflow/models.\n",
      "WARNING:tensorflow:From c:\\users\\heythere\\appdata\\local\\programs\\python\\python35\\lib\\site-packages\\tensorflow\\contrib\\learn\\python\\learn\\datasets\\mnist.py:260: maybe_download (from tensorflow.contrib.learn.python.learn.datasets.base) is deprecated and will be removed in a future version.\n",
      "Instructions for updating:\n",
      "Please write your own downloading logic.\n",
      "WARNING:tensorflow:From c:\\users\\heythere\\appdata\\local\\programs\\python\\python35\\lib\\site-packages\\tensorflow\\contrib\\learn\\python\\learn\\datasets\\mnist.py:262: extract_images (from tensorflow.contrib.learn.python.learn.datasets.mnist) is deprecated and will be removed in a future version.\n",
      "Instructions for updating:\n",
      "Please use tf.data to implement this functionality.\n",
      "Extracting ../../Tensorflow-Bootcamp-master/03-Convolutional-Neural-Networks/MNIST_data/train-images-idx3-ubyte.gz\n",
      "WARNING:tensorflow:From c:\\users\\heythere\\appdata\\local\\programs\\python\\python35\\lib\\site-packages\\tensorflow\\contrib\\learn\\python\\learn\\datasets\\mnist.py:267: extract_labels (from tensorflow.contrib.learn.python.learn.datasets.mnist) is deprecated and will be removed in a future version.\n",
      "Instructions for updating:\n",
      "Please use tf.data to implement this functionality.\n",
      "Extracting ../../Tensorflow-Bootcamp-master/03-Convolutional-Neural-Networks/MNIST_data/train-labels-idx1-ubyte.gz\n",
      "WARNING:tensorflow:From c:\\users\\heythere\\appdata\\local\\programs\\python\\python35\\lib\\site-packages\\tensorflow\\contrib\\learn\\python\\learn\\datasets\\mnist.py:110: dense_to_one_hot (from tensorflow.contrib.learn.python.learn.datasets.mnist) is deprecated and will be removed in a future version.\n",
      "Instructions for updating:\n",
      "Please use tf.one_hot on tensors.\n",
      "Extracting ../../Tensorflow-Bootcamp-master/03-Convolutional-Neural-Networks/MNIST_data/t10k-images-idx3-ubyte.gz\n",
      "Extracting ../../Tensorflow-Bootcamp-master/03-Convolutional-Neural-Networks/MNIST_data/t10k-labels-idx1-ubyte.gz\n",
      "WARNING:tensorflow:From c:\\users\\heythere\\appdata\\local\\programs\\python\\python35\\lib\\site-packages\\tensorflow\\contrib\\learn\\python\\learn\\datasets\\mnist.py:290: DataSet.__init__ (from tensorflow.contrib.learn.python.learn.datasets.mnist) is deprecated and will be removed in a future version.\n",
      "Instructions for updating:\n",
      "Please use alternatives such as official/mnist/dataset.py from tensorflow/models.\n"
     ]
    }
   ],
   "source": [
    "mnist = input_data.read_data_sets(\"../../Tensorflow-Bootcamp-master/03-Convolutional-Neural-Networks/MNIST_data/\",one_hot=True)"
   ]
  },
  {
   "cell_type": "code",
   "execution_count": 3,
   "metadata": {},
   "outputs": [],
   "source": [
    "tf.reset_default_graph() "
   ]
  },
  {
   "cell_type": "code",
   "execution_count": 4,
   "metadata": {},
   "outputs": [],
   "source": [
    "# DEFINE parameters\n",
    "num_label = 10\n",
    "label_hid1 = 5\n",
    "label_hid2 = 3\n",
    "label_hid3 = 2\n",
    "label_hid4 = 1\n",
    "\n",
    "num_image = 784 # 28*28\n",
    "image_hid1 = 392\n",
    "image_hid2 = 196\n",
    "image_hid3 = 98\n",
    "image_hid4 = 49\n",
    "image_hid5 = 25\n",
    "image_hid6 = 12\n",
    "image_hid7 = 6\n",
    "image_hid8 = 3\n",
    "image_hid9 = 2\n",
    "image_hid10 = 1"
   ]
  },
  {
   "cell_type": "code",
   "execution_count": 5,
   "metadata": {},
   "outputs": [],
   "source": [
    "tie_weight = tf.transpose\n",
    "act_func = lambda X:X\n",
    "initializer = tf.variance_scaling_initializer()"
   ]
  },
  {
   "cell_type": "code",
   "execution_count": 6,
   "metadata": {},
   "outputs": [],
   "source": [
    "## PLACEHOLDER DEFINATION\n",
    "X = tf.placeholder(tf.float32, shape=[None, num_image])\n",
    "Y = tf.placeholder(tf.float32, shape=[None, num_label])"
   ]
  },
  {
   "cell_type": "markdown",
   "metadata": {},
   "source": [
    "## Loading Encoded Model"
   ]
  },
  {
   "cell_type": "code",
   "execution_count": 7,
   "metadata": {},
   "outputs": [],
   "source": [
    "## IMAGE COMPRESSION\n",
    "wi1 = tf.Variable(np.load('../save/weights/w1.npy'))\n",
    "wi2 = tf.Variable(np.load('../save/weights/w2.npy'))\n",
    "wi3 = tf.Variable(np.load('../save/weights/w3.npy'))\n",
    "wi4 = tf.Variable(np.load('../save/weights/w4.npy'))\n",
    "wi5 = tf.Variable(np.load('../save/weights/w5.npy'))\n",
    "wi6 = tf.Variable(np.load('../save/weights/w6.npy'))\n",
    "wi7 = tf.Variable(np.load('../save/weights/w7.npy'))\n",
    "wi8 = tf.Variable(np.load('../save/weights/w8.npy'))\n",
    "wi9 = tf.Variable(np.load('../save/weights/w9.npy'))\n",
    "wi10 = tf.Variable(np.load('../save/weights/w10.npy'))"
   ]
  },
  {
   "cell_type": "code",
   "execution_count": 8,
   "metadata": {},
   "outputs": [],
   "source": [
    "img_layer1 = act_func(tf.matmul(X, wi1))\n",
    "img_layer2 = act_func(tf.matmul(img_layer1, wi2))\n",
    "img_layer3 = act_func(tf.matmul(img_layer2, wi3))\n",
    "img_layer4 = act_func(tf.matmul(img_layer3, wi4))\n",
    "img_layer5 = act_func(tf.matmul(img_layer4, wi5))\n",
    "img_layer6 = act_func(tf.matmul(img_layer5, wi6))\n",
    "img_layer7 = act_func(tf.matmul(img_layer6, wi7))\n",
    "img_layer8 = act_func(tf.matmul(img_layer7, wi8))\n",
    "img_layer9 = act_func(tf.matmul(img_layer8, wi9))\n",
    "img_layer10 = act_func(tf.matmul(img_layer9, wi10))"
   ]
  },
  {
   "cell_type": "code",
   "execution_count": 9,
   "metadata": {},
   "outputs": [],
   "source": [
    "## LABEL DECOMPRESSION\n",
    "wl1 = tf.Variable(np.load('../save/weights/lw1.npy'))\n",
    "wl2 = tf.Variable(np.load('../save/weights/lw2.npy'))\n",
    "wl3 = tf.Variable(np.load('../save/weights/lw3.npy'))\n",
    "wl4 = tf.Variable(np.load('../save/weights/lw4.npy'))"
   ]
  },
  {
   "cell_type": "code",
   "execution_count": 10,
   "metadata": {},
   "outputs": [],
   "source": [
    "lbl_layer1 = act_func(tf.matmul(Y, wl1))\n",
    "lbl_layer2 = act_func(tf.matmul(lbl_layer1, wl2))\n",
    "lbl_layer3 = act_func(tf.matmul(lbl_layer2, wl3))\n",
    "lbl_layer4 = act_func(tf.matmul(lbl_layer3, wl4))"
   ]
  },
  {
   "cell_type": "markdown",
   "metadata": {},
   "source": [
    "## Setting up learning Model"
   ]
  },
  {
   "cell_type": "code",
   "execution_count": 40,
   "metadata": {},
   "outputs": [],
   "source": [
    "# Learning Parameters AKA neurogenesis\n",
    "# w11 = tf.Variable(initializer([image_hid10, label_hid4]), dtype=tf.float32)\n",
    "\n",
    "w63 = tf.constant(np.load('../save/weights/ngw6-3.npy'))\n",
    "\n",
    "w123 = tf.Variable(initializer([image_hid6, label_hid2]), dtype=tf.float32)\n",
    "# w123 = tf.Variable(tf.matmul(wi7,w63))"
   ]
  },
  {
   "cell_type": "code",
   "execution_count": 41,
   "metadata": {},
   "outputs": [],
   "source": [
    "inpt = img_layer6\n",
    "output = tf.matmul(inpt,w123)\n",
    "yval = lbl_layer2"
   ]
  },
  {
   "cell_type": "code",
   "execution_count": 42,
   "metadata": {},
   "outputs": [
    {
     "data": {
      "text/plain": [
       "<tf.Tensor 'MatMul_23:0' shape=(?, 3) dtype=float32>"
      ]
     },
     "execution_count": 42,
     "metadata": {},
     "output_type": "execute_result"
    }
   ],
   "source": [
    "output"
   ]
  },
  {
   "cell_type": "markdown",
   "metadata": {},
   "source": [
    "## Create Encode-Decode Model"
   ]
  },
  {
   "cell_type": "code",
   "execution_count": 43,
   "metadata": {},
   "outputs": [],
   "source": [
    "# out_layer1 = tf.matmul(output,tf.transpose(wl4))\n",
    "# out_layer2 = tf.matmul(output,tf.transpose(wl3))\n",
    "out_layer3 = tf.matmul(output,tf.transpose(wl2))\n",
    "out_layer4 = tf.matmul(out_layer3,tf.transpose(wl1))"
   ]
  },
  {
   "cell_type": "code",
   "execution_count": 44,
   "metadata": {},
   "outputs": [],
   "source": [
    "# LOSS FUNCTIONS\n",
    "loss = tf.reduce_mean(tf.square(output - yval))\n",
    "# loss = tf.reduce_mean(tf.abs(output_layer - X))\n",
    "# cross_entropy = tf.reduce_mean(tf.nn.softmax_cross_entropy_with_logits(labels=Y,logits=yout))"
   ]
  },
  {
   "cell_type": "code",
   "execution_count": 45,
   "metadata": {},
   "outputs": [],
   "source": [
    "# TRAINING\n",
    "learning_rate = 0.0003\n",
    "optimizer = tf.train.AdamOptimizer(learning_rate)\n",
    "train = optimizer.minimize(loss, var_list=[w123])"
   ]
  },
  {
   "cell_type": "code",
   "execution_count": 46,
   "metadata": {},
   "outputs": [],
   "source": [
    "# PREPARATION\n",
    "init = tf.global_variables_initializer()\n",
    "saver = tf.train.Saver() "
   ]
  },
  {
   "cell_type": "code",
   "execution_count": 48,
   "metadata": {},
   "outputs": [
    {
     "name": "stdout",
     "output_type": "stream",
     "text": [
      "Epoch 0 Complete. Training Loss: 10.760180473327637\n",
      "TEST ACCURACY: \n",
      "0.0841\n",
      "\n",
      "Epoch 1 Complete. Training Loss: 9.95341968536377\n",
      "TEST ACCURACY: \n",
      "0.0941\n",
      "\n",
      "Epoch 2 Complete. Training Loss: 9.521223068237305\n",
      "TEST ACCURACY: \n",
      "0.1272\n",
      "\n",
      "Epoch 3 Complete. Training Loss: 9.736207962036133\n",
      "TEST ACCURACY: \n",
      "0.1587\n",
      "\n",
      "Epoch 4 Complete. Training Loss: 8.89070987701416\n",
      "TEST ACCURACY: \n",
      "0.1832\n",
      "\n",
      "Epoch 5 Complete. Training Loss: 8.670479774475098\n",
      "TEST ACCURACY: \n",
      "0.203\n",
      "\n",
      "Epoch 6 Complete. Training Loss: 8.355196952819824\n",
      "TEST ACCURACY: \n",
      "0.2224\n",
      "\n",
      "Epoch 7 Complete. Training Loss: 8.123069763183594\n",
      "TEST ACCURACY: \n",
      "0.2442\n",
      "\n",
      "Epoch 8 Complete. Training Loss: 7.86646842956543\n",
      "TEST ACCURACY: \n",
      "0.264\n",
      "\n",
      "Epoch 9 Complete. Training Loss: 7.459892749786377\n",
      "TEST ACCURACY: \n",
      "0.2822\n",
      "\n",
      "Epoch 10 Complete. Training Loss: 7.7217116355896\n",
      "TEST ACCURACY: \n",
      "0.2974\n",
      "\n",
      "Epoch 11 Complete. Training Loss: 7.689284801483154\n",
      "TEST ACCURACY: \n",
      "0.3168\n",
      "\n",
      "Epoch 12 Complete. Training Loss: 7.338794708251953\n",
      "TEST ACCURACY: \n",
      "0.3372\n",
      "\n",
      "Epoch 13 Complete. Training Loss: 7.541171073913574\n",
      "TEST ACCURACY: \n",
      "0.3506\n",
      "\n",
      "Epoch 14 Complete. Training Loss: 7.003305912017822\n",
      "TEST ACCURACY: \n",
      "0.3629\n",
      "\n",
      "Epoch 15 Complete. Training Loss: 6.819519519805908\n",
      "TEST ACCURACY: \n",
      "0.3717\n",
      "\n",
      "Epoch 16 Complete. Training Loss: 6.945455551147461\n",
      "TEST ACCURACY: \n",
      "0.3799\n",
      "\n",
      "Epoch 17 Complete. Training Loss: 6.719667911529541\n",
      "TEST ACCURACY: \n",
      "0.3829\n",
      "\n",
      "Epoch 18 Complete. Training Loss: 6.698600769042969\n",
      "TEST ACCURACY: \n",
      "0.3887\n",
      "\n",
      "Epoch 19 Complete. Training Loss: 6.694767951965332\n",
      "TEST ACCURACY: \n",
      "0.3936\n",
      "\n",
      "Epoch 20 Complete. Training Loss: 6.53195333480835\n",
      "TEST ACCURACY: \n",
      "0.4014\n",
      "\n",
      "Epoch 21 Complete. Training Loss: 6.5103044509887695\n",
      "TEST ACCURACY: \n",
      "0.4058\n",
      "\n",
      "Epoch 22 Complete. Training Loss: 6.748995780944824\n",
      "TEST ACCURACY: \n",
      "0.4114\n",
      "\n",
      "Epoch 23 Complete. Training Loss: 6.505212783813477\n",
      "TEST ACCURACY: \n",
      "0.4124\n",
      "\n",
      "Epoch 24 Complete. Training Loss: 6.770400047302246\n",
      "TEST ACCURACY: \n",
      "0.4172\n",
      "\n",
      "Epoch 25 Complete. Training Loss: 6.666454792022705\n",
      "TEST ACCURACY: \n",
      "0.4183\n",
      "\n",
      "Epoch 26 Complete. Training Loss: 6.497800350189209\n",
      "TEST ACCURACY: \n",
      "0.422\n",
      "\n",
      "Epoch 27 Complete. Training Loss: 6.499795913696289\n",
      "TEST ACCURACY: \n",
      "0.4259\n",
      "\n",
      "Epoch 28 Complete. Training Loss: 6.591427326202393\n",
      "TEST ACCURACY: \n",
      "0.4276\n",
      "\n",
      "Epoch 29 Complete. Training Loss: 6.3500261306762695\n",
      "TEST ACCURACY: \n",
      "0.4294\n",
      "\n",
      "Epoch 30 Complete. Training Loss: 6.43638801574707\n",
      "TEST ACCURACY: \n",
      "0.4323\n",
      "\n",
      "Epoch 31 Complete. Training Loss: 6.856842517852783\n",
      "TEST ACCURACY: \n",
      "0.432\n",
      "\n",
      "Epoch 32 Complete. Training Loss: 6.433906078338623\n",
      "TEST ACCURACY: \n",
      "0.435\n",
      "\n",
      "Epoch 33 Complete. Training Loss: 6.444762229919434\n",
      "TEST ACCURACY: \n",
      "0.4344\n",
      "\n",
      "Epoch 34 Complete. Training Loss: 6.562866687774658\n",
      "TEST ACCURACY: \n",
      "0.4338\n",
      "\n",
      "Epoch 35 Complete. Training Loss: 6.731145858764648\n",
      "TEST ACCURACY: \n",
      "0.4356\n",
      "\n",
      "Epoch 36 Complete. Training Loss: 6.232120037078857\n",
      "TEST ACCURACY: \n",
      "0.4365\n",
      "\n",
      "Epoch 37 Complete. Training Loss: 6.351663589477539\n",
      "TEST ACCURACY: \n",
      "0.437\n",
      "\n",
      "Epoch 38 Complete. Training Loss: 6.522223472595215\n",
      "TEST ACCURACY: \n",
      "0.4367\n",
      "\n",
      "Epoch 39 Complete. Training Loss: 6.443079471588135\n",
      "TEST ACCURACY: \n",
      "0.437\n",
      "\n",
      "Epoch 40 Complete. Training Loss: 6.868353366851807\n",
      "TEST ACCURACY: \n",
      "0.4379\n",
      "\n",
      "Epoch 41 Complete. Training Loss: 6.486462593078613\n",
      "TEST ACCURACY: \n",
      "0.4384\n",
      "\n",
      "Epoch 42 Complete. Training Loss: 6.381422996520996\n",
      "TEST ACCURACY: \n",
      "0.4383\n",
      "\n",
      "Epoch 43 Complete. Training Loss: 6.348968505859375\n",
      "TEST ACCURACY: \n",
      "0.4389\n",
      "\n",
      "Epoch 44 Complete. Training Loss: 6.472776889801025\n",
      "TEST ACCURACY: \n",
      "0.4392\n",
      "\n",
      "Epoch 45 Complete. Training Loss: 6.494410991668701\n",
      "TEST ACCURACY: \n",
      "0.4401\n",
      "\n",
      "Epoch 46 Complete. Training Loss: 6.5976972579956055\n",
      "TEST ACCURACY: \n",
      "0.4411\n",
      "\n",
      "Epoch 47 Complete. Training Loss: 6.114753246307373\n",
      "TEST ACCURACY: \n",
      "0.4394\n",
      "\n",
      "Epoch 48 Complete. Training Loss: 6.678403377532959\n",
      "TEST ACCURACY: \n",
      "0.4415\n",
      "\n",
      "Epoch 49 Complete. Training Loss: 6.725919246673584\n",
      "TEST ACCURACY: \n",
      "0.4398\n",
      "\n",
      "Epoch 50 Complete. Training Loss: 6.137008190155029\n",
      "TEST ACCURACY: \n",
      "0.4383\n",
      "\n",
      "Epoch 51 Complete. Training Loss: 6.402254581451416\n",
      "TEST ACCURACY: \n",
      "0.4408\n",
      "\n",
      "Epoch 52 Complete. Training Loss: 6.410501956939697\n",
      "TEST ACCURACY: \n",
      "0.4405\n",
      "\n",
      "Epoch 53 Complete. Training Loss: 6.517278671264648\n",
      "TEST ACCURACY: \n",
      "0.4392\n",
      "\n",
      "Epoch 54 Complete. Training Loss: 6.297844886779785\n",
      "TEST ACCURACY: \n",
      "0.4394\n",
      "\n",
      "Epoch 55 Complete. Training Loss: 6.216485023498535\n",
      "TEST ACCURACY: \n",
      "0.4397\n",
      "\n",
      "Epoch 56 Complete. Training Loss: 6.46962833404541\n",
      "TEST ACCURACY: \n",
      "0.4408\n",
      "\n",
      "Epoch 57 Complete. Training Loss: 6.287257671356201\n",
      "TEST ACCURACY: \n",
      "0.441\n",
      "\n",
      "Epoch 58 Complete. Training Loss: 6.391743183135986\n",
      "TEST ACCURACY: \n",
      "0.4405\n",
      "\n",
      "Epoch 59 Complete. Training Loss: 6.770600318908691\n",
      "TEST ACCURACY: \n",
      "0.4413\n",
      "\n",
      "Epoch 60 Complete. Training Loss: 6.377127647399902\n",
      "TEST ACCURACY: \n",
      "0.4406\n",
      "\n",
      "Epoch 61 Complete. Training Loss: 6.260918617248535\n",
      "TEST ACCURACY: \n",
      "0.441\n",
      "\n",
      "Epoch 62 Complete. Training Loss: 6.265630722045898\n",
      "TEST ACCURACY: \n",
      "0.4411\n",
      "\n",
      "Epoch 63 Complete. Training Loss: 6.378948211669922\n",
      "TEST ACCURACY: \n",
      "0.4417\n",
      "\n",
      "Epoch 64 Complete. Training Loss: 6.103171348571777\n",
      "TEST ACCURACY: \n",
      "0.4415\n",
      "\n",
      "Epoch 65 Complete. Training Loss: 5.930258274078369\n",
      "TEST ACCURACY: \n",
      "0.441\n",
      "\n",
      "Epoch 66 Complete. Training Loss: 6.210114479064941\n",
      "TEST ACCURACY: \n",
      "0.4417\n",
      "\n",
      "Epoch 67 Complete. Training Loss: 6.302249908447266\n",
      "TEST ACCURACY: \n",
      "Keyboard Interrupted\n",
      "Finished Training the Model\n"
     ]
    }
   ],
   "source": [
    "num_epochs = 100\n",
    "batch_size = 450\n",
    "\n",
    "try:\n",
    "    with tf.Session() as sess:\n",
    "        sess.run(init)\n",
    "\n",
    "        # Epoch == Entire Training Set\n",
    "        for epoch in range(num_epochs):\n",
    "            num_batches = mnist.train.num_examples // batch_size\n",
    "\n",
    "            # 150 batch size\n",
    "            for iteration in range(num_batches):\n",
    "                X_batch, y_batch = mnist.train.next_batch(batch_size)\n",
    "                sess.run(train, feed_dict={X: X_batch, Y: y_batch})\n",
    "\n",
    "            training_loss = loss.eval(feed_dict={X: X_batch, Y: y_batch})   \n",
    "            print(\"Epoch {} Complete. Training Loss: {}\".format(epoch,training_loss))\n",
    "            saver.save(sess, \"../save/neuro_12-3.ckpt\")\n",
    "            \n",
    "            matches = tf.equal(tf.argmax(out_layer4, 1), tf.argmax(Y,1))\n",
    "            acc = tf.reduce_mean(tf.cast(matches, tf.float32))\n",
    "\n",
    "            print('TEST ACCURACY: ')\n",
    "            print (sess.run(acc, feed_dict={X:mnist.test.images, Y:mnist.test.labels}))\n",
    "            print()\n",
    "    \n",
    "except KeyboardInterrupt:\n",
    "    print('Keyboard Interrupted')\n",
    "finally:\n",
    "    print('Finished Training the Model')"
   ]
  },
  {
   "cell_type": "code",
   "execution_count": 49,
   "metadata": {},
   "outputs": [
    {
     "name": "stdout",
     "output_type": "stream",
     "text": [
      "INFO:tensorflow:Restoring parameters from ../save/neuro_12-3.ckpt\n",
      "TRAIN ACCURACY: \n",
      "0.4311091\n",
      "TEST ACCURACY: \n",
      "0.4396\n",
      "\n",
      "\n"
     ]
    }
   ],
   "source": [
    "num_test_labels = 10\n",
    "start_point = 15\n",
    "with tf.Session() as sess:\n",
    "#     sess.run(init)\n",
    "    saver.restore(sess,\"../save/neuro_12-3.ckpt\")\n",
    "    \n",
    "    weight= w123.eval()\n",
    "    \n",
    "    matches = tf.equal(tf.argmax(out_layer4, 1), tf.argmax(Y,1))\n",
    "    acc = tf.reduce_mean(tf.cast(matches, tf.float32))\n",
    "    \n",
    "    print('TRAIN ACCURACY: ')\n",
    "    print (sess.run(acc, feed_dict={X:mnist.train.images, Y:mnist.train.labels}))\n",
    "\n",
    "    print('TEST ACCURACY: ')\n",
    "    print (sess.run(acc, feed_dict={X:mnist.test.images, Y:mnist.test.labels}))\n",
    "    print('\\n')"
   ]
  },
  {
   "cell_type": "code",
   "execution_count": 203,
   "metadata": {},
   "outputs": [
    {
     "data": {
      "text/plain": [
       "'\\ntraining from previous\\n\\nTRAIN ACCURACY: \\n0.2897818\\nTEST ACCURACY: \\n0.3015\\n\\ntraining individually\\n\\nTRAIN ACCURACY: \\n0.28234544\\nTEST ACCURACY: \\n0.2928\\n\\n\\nwithout training\\n\\nTRAIN ACCURACY: \\n0.1942909\\nTEST ACCURACY: \\n0.201\\n'"
      ]
     },
     "execution_count": 203,
     "metadata": {},
     "output_type": "execute_result"
    }
   ],
   "source": [
    "'''\n",
    "training from previous\n",
    "\n",
    "TRAIN ACCURACY: \n",
    "0.43056363\n",
    "TEST ACCURACY: \n",
    "0.4384\n",
    "\n",
    "training individually\n",
    "\n",
    "TRAIN ACCURACY: \n",
    "0.4311091\n",
    "TEST ACCURACY: \n",
    "0.4396\n",
    "\n",
    "\n",
    "without training\n",
    "\n",
    "TRAIN ACCURACY: \n",
    "0.2897818\n",
    "TEST ACCURACY: \n",
    "0.3015\n",
    "'''"
   ]
  },
  {
   "cell_type": "code",
   "execution_count": 204,
   "metadata": {},
   "outputs": [
    {
     "data": {
      "text/plain": [
       "array([[-0.49467096,  0.00711154, -0.05962576],\n",
       "       [ 0.02446536, -0.09640595,  0.00109969],\n",
       "       [ 0.06061416, -0.67002356,  0.14892067],\n",
       "       [-0.80082935, -0.28167418, -0.6794569 ],\n",
       "       [ 0.23381503, -0.595274  ,  0.17571352],\n",
       "       [-0.18492433,  0.04384812, -0.24284588]], dtype=float32)"
      ]
     },
     "execution_count": 204,
     "metadata": {},
     "output_type": "execute_result"
    }
   ],
   "source": [
    "weight"
   ]
  },
  {
   "cell_type": "code",
   "execution_count": 205,
   "metadata": {},
   "outputs": [
    {
     "name": "stdout",
     "output_type": "stream",
     "text": [
      "[[-0.08728178  0.08770096 -0.06964457]\n",
      " [-0.14929977  0.1660394  -0.1005696 ]\n",
      " [ 0.34475893 -0.3366989   0.2863478 ]\n",
      " [-0.5960531   0.04331887 -1.1192211 ]\n",
      " [-0.02069826 -0.19160683 -0.26256895]\n",
      " [-0.2285434   0.01580529 -0.43007237]]\n"
     ]
    }
   ],
   "source": [
    "with tf.Session() as sess:\n",
    "    sess.run(init)\n",
    "    print(w63.eval())"
   ]
  },
  {
   "cell_type": "code",
   "execution_count": 206,
   "metadata": {},
   "outputs": [
    {
     "name": "stdout",
     "output_type": "stream",
     "text": [
      "(6, 3)\n"
     ]
    }
   ],
   "source": [
    "print(weight.shape)\n",
    "np.save('../save/weights/ngw6-3.npy',weight)"
   ]
  },
  {
   "cell_type": "code",
   "execution_count": null,
   "metadata": {},
   "outputs": [],
   "source": []
  }
 ],
 "metadata": {
  "kernelspec": {
   "display_name": "Python 3",
   "language": "python",
   "name": "python3"
  },
  "language_info": {
   "codemirror_mode": {
    "name": "ipython",
    "version": 3
   },
   "file_extension": ".py",
   "mimetype": "text/x-python",
   "name": "python",
   "nbconvert_exporter": "python",
   "pygments_lexer": "ipython3",
   "version": "3.5.3"
  }
 },
 "nbformat": 4,
 "nbformat_minor": 2
}
