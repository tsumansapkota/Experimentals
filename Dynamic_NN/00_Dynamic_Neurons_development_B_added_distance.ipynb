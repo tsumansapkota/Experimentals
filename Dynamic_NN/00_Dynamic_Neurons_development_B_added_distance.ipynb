{
 "cells": [
  {
   "cell_type": "code",
   "execution_count": 1,
   "metadata": {},
   "outputs": [],
   "source": [
    "import numpy as np\n",
    "import matplotlib.pyplot as plt\n",
    "import mylibrary.neuronsimlib as tns\n",
    "import mylibrary.nnlib as tnn"
   ]
  },
  {
   "cell_type": "markdown",
   "metadata": {},
   "source": [
    "## Generate Datasets"
   ]
  },
  {
   "cell_type": "code",
   "execution_count": 2,
   "metadata": {},
   "outputs": [
    {
     "data": {
      "image/png": "[encoded data removed]",
      "text/plain": [
       "<Figure size 432x288 with 1 Axes>"
      ]
     },
     "metadata": {
      "needs_background": "light"
     },
     "output_type": "display_data"
    }
   ],
   "source": [
    "x = np.linspace(0,1,300)\n",
    "noise = np.random.normal(0,0.02, x.shape)\n",
    "x = x + noise\n",
    "x = np.sort(x)\n",
    "\n",
    "y= (2 * np.sin(10*x) + np.cos(20 * x - 3) + 3 * np.log(10*x + 0.5) - 4)/6.\n",
    "noise = np.random.normal(0,0.1, x.shape)\n",
    "y = y + noise\n",
    "\n",
    "x = x*2\n",
    "x = x - x.mean() # good practice to zero-center x in linear mapping\n",
    "xx = x.reshape(-1,1)\n",
    "yy = y.reshape(-1,1)\n",
    "\n",
    "%matplotlib inline\n",
    "plt.scatter(x, y, marker='.', color='g')\n",
    "plt.show()"
   ]
  },
  {
   "cell_type": "markdown",
   "metadata": {},
   "source": [
    "## Test Dynamic Network"
   ]
  },
  {
   "cell_type": "code",
   "execution_count": 9,
   "metadata": {},
   "outputs": [],
   "source": [
    "net = tns.NeuralNetwork(1,1)"
   ]
  },
  {
   "cell_type": "code",
   "execution_count": 10,
   "metadata": {},
   "outputs": [
    {
     "data": {
      "text/plain": [
       "(300, 1)"
      ]
     },
     "execution_count": 10,
     "metadata": {},
     "output_type": "execute_result"
    }
   ],
   "source": [
    "yout = net.forward(xx)\n",
    "yout.shape"
   ]
  },
  {
   "cell_type": "code",
   "execution_count": 11,
   "metadata": {},
   "outputs": [
    {
     "data": {
      "text/plain": [
       "[<matplotlib.lines.Line2D at 0x7f8df25362b0>]"
      ]
     },
     "execution_count": 11,
     "metadata": {},
     "output_type": "execute_result"
    },
    {
     "data": {
      "image/png": "[encoded data removed]",
      "text/plain": [
       "<Figure size 432x288 with 1 Axes>"
      ]
     },
     "metadata": {
      "needs_background": "light"
     },
     "output_type": "display_data"
    }
   ],
   "source": [
    "%matplotlib inline\n",
    "plt.scatter(x, y, marker='.', color='g')\n",
    "plt.plot(x, yout.reshape(-1), color='r', lw=2)"
   ]
  },
  {
   "cell_type": "markdown",
   "metadata": {},
   "source": [
    "## Training Linear Regression with this network"
   ]
  },
  {
   "cell_type": "code",
   "execution_count": 12,
   "metadata": {},
   "outputs": [
    {
     "name": "stdout",
     "output_type": "stream",
     "text": [
      "_______________________\n",
      "epoch 0\n",
      "Loss 0.1788997681854442\n",
      "\n",
      "_______________________\n",
      "epoch 100\n",
      "Loss 0.10762317373997987\n",
      "\n",
      "_______________________\n",
      "epoch 200\n",
      "Loss 0.07480220974881661\n",
      "\n",
      "_______________________\n",
      "epoch 300\n",
      "Loss 0.058647732203901924\n",
      "\n",
      "_______________________\n",
      "epoch 400\n",
      "Loss 0.05054342840948137\n",
      "\n",
      "_______________________\n",
      "epoch 500\n",
      "Loss 0.046456647860547345\n",
      "\n",
      "_______________________\n",
      "epoch 600\n",
      "Loss 0.044392954993801595\n",
      "\n",
      "_______________________\n",
      "epoch 700\n",
      "Loss 0.04335047514660406\n",
      "\n",
      "_______________________\n",
      "epoch 800\n",
      "Loss 0.042823812620076764\n",
      "\n",
      "_______________________\n",
      "epoch 900\n",
      "Loss 0.04255773500084312\n",
      "\n",
      "_______________________\n",
      "epoch 1000\n",
      "Loss 0.042423307774444356\n",
      "\n",
      "_______________________\n",
      "epoch 1100\n",
      "Loss 0.04235539258503882\n",
      "\n",
      "_______________________\n",
      "epoch 1200\n",
      "Loss 0.0423210805242336\n",
      "\n",
      "_______________________\n",
      "epoch 1300\n",
      "Loss 0.042303745408527146\n",
      "\n",
      "_______________________\n",
      "epoch 1400\n",
      "Loss 0.04229498737302452\n",
      "\n",
      "_______________________\n",
      "epoch 1500\n",
      "Loss 0.04229056264417638\n",
      "\n",
      "_______________________\n",
      "epoch 1600\n",
      "Loss 0.04228832718561721\n",
      "\n",
      "_______________________\n",
      "epoch 1700\n",
      "Loss 0.042287197788733355\n",
      "\n",
      "_______________________\n",
      "epoch 1800\n",
      "Loss 0.04228662719559209\n",
      "\n",
      "_______________________\n",
      "epoch 1900\n",
      "Loss 0.042286338920905366\n",
      "\n",
      "_______________________\n",
      "epoch 2000\n",
      "Loss 0.042286193278960174\n",
      "\n",
      "_______________________\n",
      "epoch 2100\n",
      "Loss 0.04228611969783364\n",
      "\n",
      "_______________________\n",
      "epoch 2200\n",
      "Loss 0.04228608252322592\n",
      "\n",
      "_______________________\n",
      "epoch 2300\n",
      "Loss 0.04228606374189536\n",
      "\n",
      "_______________________\n",
      "epoch 2400\n",
      "Loss 0.04228605425320405\n",
      "\n",
      "_______________________\n",
      "epoch 2500\n",
      "Loss 0.04228604945933376\n",
      "\n",
      "_______________________\n",
      "epoch 2600\n",
      "Loss 0.04228604703737779\n",
      "\n",
      "_______________________\n",
      "epoch 2700\n",
      "Loss 0.04228604581375881\n",
      "\n",
      "_______________________\n",
      "epoch 2800\n",
      "Loss 0.04228604519556285\n",
      "\n",
      "_______________________\n",
      "epoch 2900\n",
      "Loss 0.0422860448832383\n",
      "\n",
      "_______________________\n",
      "epoch 3000\n",
      "Loss 0.04228604472544589\n",
      "\n",
      "_______________________\n",
      "epoch 3100\n",
      "Loss 0.04228604464572612\n",
      "\n",
      "_______________________\n",
      "epoch 3200\n",
      "Loss 0.04228604460545014\n",
      "\n",
      "_______________________\n",
      "epoch 3300\n",
      "Loss 0.04228604458510195\n",
      "\n",
      "_______________________\n",
      "epoch 3400\n",
      "Loss 0.04228604457482166\n",
      "\n",
      "_______________________\n",
      "epoch 3500\n",
      "Loss 0.04228604456962784\n",
      "\n",
      "_______________________\n",
      "epoch 3600\n",
      "Loss 0.04228604456700383\n",
      "\n",
      "_______________________\n",
      "epoch 3700\n",
      "Loss 0.04228604456567813\n",
      "\n",
      "_______________________\n",
      "epoch 3800\n",
      "Loss 0.042286044565008354\n",
      "\n",
      "_______________________\n",
      "epoch 3900\n",
      "Loss 0.04228604456466997\n",
      "\n",
      "_______________________\n",
      "epoch 4000\n",
      "Loss 0.04228604456449902\n",
      "\n",
      "_______________________\n",
      "epoch 4100\n",
      "Loss 0.04228604456441265\n",
      "\n",
      "_______________________\n",
      "epoch 4200\n",
      "Loss 0.04228604456436901\n",
      "\n",
      "_______________________\n",
      "epoch 4300\n",
      "Loss 0.042286044564346974\n",
      "\n",
      "_______________________\n",
      "epoch 4400\n",
      "Loss 0.04228604456433582\n",
      "\n",
      "_______________________\n",
      "epoch 4500\n",
      "Loss 0.042286044564330195\n",
      "\n",
      "_______________________\n",
      "epoch 4600\n",
      "Loss 0.04228604456432736\n",
      "\n",
      "_______________________\n",
      "epoch 4700\n",
      "Loss 0.04228604456432592\n",
      "\n",
      "_______________________\n",
      "epoch 4800\n",
      "Loss 0.042286044564325206\n",
      "\n",
      "_______________________\n",
      "epoch 4900\n",
      "Loss 0.04228604456432483\n",
      "\n",
      "_______________________\n",
      "epoch 5000\n",
      "Loss 0.04228604456432464\n",
      "\n",
      "_______________________\n",
      "epoch 5100\n",
      "Loss 0.04228604456432455\n",
      "\n",
      "_______________________\n",
      "epoch 5200\n",
      "Loss 0.0422860445643245\n",
      "\n",
      "_______________________\n",
      "epoch 5300\n",
      "Loss 0.04228604456432448\n",
      "\n",
      "_______________________\n",
      "epoch 5400\n",
      "Loss 0.04228604456432447\n",
      "\n",
      "_______________________\n",
      "epoch 5500\n",
      "Loss 0.042286044564324464\n",
      "\n",
      "_______________________\n",
      "epoch 5600\n",
      "Loss 0.042286044564324464\n",
      "\n",
      "_______________________\n",
      "epoch 5700\n",
      "Loss 0.04228604456432445\n",
      "\n",
      "_______________________\n",
      "epoch 5800\n",
      "Loss 0.04228604456432446\n",
      "\n",
      "_______________________\n",
      "epoch 5900\n",
      "Loss 0.042286044564324464\n",
      "\n",
      "_______________________\n",
      "epoch 6000\n",
      "Loss 0.04228604456432445\n",
      "\n",
      "_______________________\n",
      "epoch 6100\n",
      "Loss 0.04228604456432445\n",
      "\n",
      "_______________________\n",
      "epoch 6200\n",
      "Loss 0.04228604456432446\n",
      "\n",
      "_______________________\n",
      "epoch 6300\n",
      "Loss 0.04228604456432445\n",
      "\n",
      "_______________________\n",
      "epoch 6400\n",
      "Loss 0.04228604456432445\n",
      "\n",
      "_______________________\n",
      "epoch 6500\n",
      "Loss 0.04228604456432445\n",
      "\n",
      "_______________________\n",
      "epoch 6600\n",
      "Loss 0.04228604456432444\n",
      "\n",
      "_______________________\n",
      "epoch 6700\n",
      "Loss 0.04228604456432445\n"
     ]
    },
    {
     "ename": "TclError",
     "evalue": "invalid command name \"pyimage40\"",
     "output_type": "error",
     "traceback": [
      "\u001b[0;31m---------------------------------------------------------------------------\u001b[0m",
      "\u001b[0;31mTclError\u001b[0m                                  Traceback (most recent call last)",
      "\u001b[0;32m<ipython-input-12-4ddd94196054>\u001b[0m in \u001b[0;36m<module>\u001b[0;34m()\u001b[0m\n\u001b[1;32m     43\u001b[0m \u001b[0;31m#         ax2.scatter(neurons_pos[:,0], neurons_pos[:,1])\u001b[0m\u001b[0;34m\u001b[0m\u001b[0;34m\u001b[0m\u001b[0;34m\u001b[0m\u001b[0m\n\u001b[1;32m     44\u001b[0m \u001b[0;34m\u001b[0m\u001b[0m\n\u001b[0;32m---> 45\u001b[0;31m         \u001b[0mfig\u001b[0m\u001b[0;34m.\u001b[0m\u001b[0mcanvas\u001b[0m\u001b[0;34m.\u001b[0m\u001b[0mdraw\u001b[0m\u001b[0;34m(\u001b[0m\u001b[0;34m)\u001b[0m\u001b[0;34m\u001b[0m\u001b[0;34m\u001b[0m\u001b[0m\n\u001b[0m\u001b[1;32m     46\u001b[0m         \u001b[0mplt\u001b[0m\u001b[0;34m.\u001b[0m\u001b[0mpause\u001b[0m\u001b[0;34m(\u001b[0m\u001b[0;36m0.01\u001b[0m\u001b[0;34m)\u001b[0m\u001b[0;34m\u001b[0m\u001b[0;34m\u001b[0m\u001b[0m\n\u001b[1;32m     47\u001b[0m         \u001b[0mprint\u001b[0m\u001b[0;34m(\u001b[0m\u001b[0;34m)\u001b[0m\u001b[0;34m\u001b[0m\u001b[0;34m\u001b[0m\u001b[0m\n",
      "\u001b[0;32m~/Program_Files/miniconda3.7/lib/python3.7/site-packages/matplotlib/backends/backend_tkagg.py\u001b[0m in \u001b[0;36mdraw\u001b[0;34m(self)\u001b[0m\n\u001b[1;32m      8\u001b[0m     \u001b[0;32mdef\u001b[0m \u001b[0mdraw\u001b[0m\u001b[0;34m(\u001b[0m\u001b[0mself\u001b[0m\u001b[0;34m)\u001b[0m\u001b[0;34m:\u001b[0m\u001b[0;34m\u001b[0m\u001b[0;34m\u001b[0m\u001b[0m\n\u001b[1;32m      9\u001b[0m         \u001b[0msuper\u001b[0m\u001b[0;34m(\u001b[0m\u001b[0mFigureCanvasTkAgg\u001b[0m\u001b[0;34m,\u001b[0m \u001b[0mself\u001b[0m\u001b[0;34m)\u001b[0m\u001b[0;34m.\u001b[0m\u001b[0mdraw\u001b[0m\u001b[0;34m(\u001b[0m\u001b[0;34m)\u001b[0m\u001b[0;34m\u001b[0m\u001b[0;34m\u001b[0m\u001b[0m\n\u001b[0;32m---> 10\u001b[0;31m         \u001b[0m_backend_tk\u001b[0m\u001b[0;34m.\u001b[0m\u001b[0mblit\u001b[0m\u001b[0;34m(\u001b[0m\u001b[0mself\u001b[0m\u001b[0;34m.\u001b[0m\u001b[0m_tkphoto\u001b[0m\u001b[0;34m,\u001b[0m \u001b[0mself\u001b[0m\u001b[0;34m.\u001b[0m\u001b[0mrenderer\u001b[0m\u001b[0;34m.\u001b[0m\u001b[0m_renderer\u001b[0m\u001b[0;34m,\u001b[0m \u001b[0;34m(\u001b[0m\u001b[0;36m0\u001b[0m\u001b[0;34m,\u001b[0m \u001b[0;36m1\u001b[0m\u001b[0;34m,\u001b[0m \u001b[0;36m2\u001b[0m\u001b[0;34m,\u001b[0m \u001b[0;36m3\u001b[0m\u001b[0;34m)\u001b[0m\u001b[0;34m)\u001b[0m\u001b[0;34m\u001b[0m\u001b[0;34m\u001b[0m\u001b[0m\n\u001b[0m\u001b[1;32m     11\u001b[0m         \u001b[0mself\u001b[0m\u001b[0;34m.\u001b[0m\u001b[0m_master\u001b[0m\u001b[0;34m.\u001b[0m\u001b[0mupdate_idletasks\u001b[0m\u001b[0;34m(\u001b[0m\u001b[0;34m)\u001b[0m\u001b[0;34m\u001b[0m\u001b[0;34m\u001b[0m\u001b[0m\n\u001b[1;32m     12\u001b[0m \u001b[0;34m\u001b[0m\u001b[0m\n",
      "\u001b[0;32m~/Program_Files/miniconda3.7/lib/python3.7/site-packages/matplotlib/backends/_backend_tk.py\u001b[0m in \u001b[0;36mblit\u001b[0;34m(photoimage, aggimage, offsets, bbox)\u001b[0m\n\u001b[1;32m     86\u001b[0m                    math.floor(y1), math.ceil(y2))\n\u001b[1;32m     87\u001b[0m     \u001b[0;32melse\u001b[0m\u001b[0;34m:\u001b[0m\u001b[0;34m\u001b[0m\u001b[0;34m\u001b[0m\u001b[0m\n\u001b[0;32m---> 88\u001b[0;31m         \u001b[0mphotoimage\u001b[0m\u001b[0;34m.\u001b[0m\u001b[0mblank\u001b[0m\u001b[0;34m(\u001b[0m\u001b[0;34m)\u001b[0m\u001b[0;34m\u001b[0m\u001b[0;34m\u001b[0m\u001b[0m\n\u001b[0m\u001b[1;32m     89\u001b[0m         \u001b[0mbboxptr\u001b[0m \u001b[0;34m=\u001b[0m \u001b[0;34m(\u001b[0m\u001b[0;36m0\u001b[0m\u001b[0;34m,\u001b[0m \u001b[0mwidth\u001b[0m\u001b[0;34m,\u001b[0m \u001b[0;36m0\u001b[0m\u001b[0;34m,\u001b[0m \u001b[0mheight\u001b[0m\u001b[0;34m)\u001b[0m\u001b[0;34m\u001b[0m\u001b[0;34m\u001b[0m\u001b[0m\n\u001b[1;32m     90\u001b[0m     _tkagg.blit(\n",
      "\u001b[0;32m~/Program_Files/miniconda3.7/lib/python3.7/tkinter/__init__.py\u001b[0m in \u001b[0;36mblank\u001b[0;34m(self)\u001b[0m\n\u001b[1;32m   3546\u001b[0m     \u001b[0;32mdef\u001b[0m \u001b[0mblank\u001b[0m\u001b[0;34m(\u001b[0m\u001b[0mself\u001b[0m\u001b[0;34m)\u001b[0m\u001b[0;34m:\u001b[0m\u001b[0;34m\u001b[0m\u001b[0;34m\u001b[0m\u001b[0m\n\u001b[1;32m   3547\u001b[0m         \u001b[0;34m\"\"\"Display a transparent image.\"\"\"\u001b[0m\u001b[0;34m\u001b[0m\u001b[0;34m\u001b[0m\u001b[0m\n\u001b[0;32m-> 3548\u001b[0;31m         \u001b[0mself\u001b[0m\u001b[0;34m.\u001b[0m\u001b[0mtk\u001b[0m\u001b[0;34m.\u001b[0m\u001b[0mcall\u001b[0m\u001b[0;34m(\u001b[0m\u001b[0mself\u001b[0m\u001b[0;34m.\u001b[0m\u001b[0mname\u001b[0m\u001b[0;34m,\u001b[0m \u001b[0;34m'blank'\u001b[0m\u001b[0;34m)\u001b[0m\u001b[0;34m\u001b[0m\u001b[0;34m\u001b[0m\u001b[0m\n\u001b[0m\u001b[1;32m   3549\u001b[0m     \u001b[0;32mdef\u001b[0m \u001b[0mcget\u001b[0m\u001b[0;34m(\u001b[0m\u001b[0mself\u001b[0m\u001b[0;34m,\u001b[0m \u001b[0moption\u001b[0m\u001b[0;34m)\u001b[0m\u001b[0;34m:\u001b[0m\u001b[0;34m\u001b[0m\u001b[0;34m\u001b[0m\u001b[0m\n\u001b[1;32m   3550\u001b[0m         \u001b[0;34m\"\"\"Return the value of OPTION.\"\"\"\u001b[0m\u001b[0;34m\u001b[0m\u001b[0;34m\u001b[0m\u001b[0m\n",
      "\u001b[0;31mTclError\u001b[0m: invalid command name \"pyimage40\""
     ]
    }
   ],
   "source": [
    "%matplotlib tk\n",
    "fig = plt.figure(figsize=(20,6))\n",
    "ax1 = fig.add_subplot(1, 2, 1)\n",
    "ax2 = fig.add_subplot(1, 2, 2)\n",
    "fig.show()\n",
    "\n",
    "for step in range(100000):\n",
    "    \n",
    "    y_out = net.forward(xx)\n",
    "    loss = tnn.MseLoss.loss(y_out, yy)\n",
    "    \n",
    "    dy = tnn.MseLoss.del_loss(y_out, yy)\n",
    "    dx = net.backward(dy)\n",
    "    \n",
    "    net.update()\n",
    "    \n",
    "    if step % 100 == 0:\n",
    "\n",
    "        print('_______________________')\n",
    "        print(\"epoch\", step)\n",
    "        print(\"Loss\", loss)\n",
    "\n",
    "        ax1.clear()\n",
    "        ax1.scatter(x, y, marker='.', color='g', label='x,y')\n",
    "        \n",
    "        ax1.plot(x, y_out, c='r', lw=2, label='x,y_out')\n",
    "        ax1.legend()\n",
    "        \n",
    "        ax2.clear()\n",
    "        synapses = []\n",
    "        for neuron in net.inners+net.motors:\n",
    "            for i in range(len(neuron.synapses)):\n",
    "                synapse = neuron.synapses[i]\n",
    "                ax2.plot((neuron.position[0], synapse.position[0]),\n",
    "                        (neuron.position[1], synapse.position[1]),\n",
    "                        lw=neuron.weights[i],\n",
    "                        marker='o',\n",
    "                        color='b')\n",
    "#         neurons_pos = []\n",
    "#         for neuron in net.sensors+net.inners + net.motors:\n",
    "#             neurons_pos.append(neuron.position)\n",
    "#         neurons_pos = np.array(neurons_pos)\n",
    "#         ax2.scatter(neurons_pos[:,0], neurons_pos[:,1])\n",
    "        \n",
    "        fig.canvas.draw()\n",
    "        plt.pause(0.01)\n",
    "        print()\n",
    "        if loss < 0.0025:\n",
    "            print('fitted to our expectation')\n",
    "            plt.pause(50)\n",
    "            break"
   ]
  },
  {
   "cell_type": "code",
   "execution_count": null,
   "metadata": {},
   "outputs": [],
   "source": [
    "(net.motors[0].del_outputs*net.sensors[0].outputs).std()"
   ]
  },
  {
   "cell_type": "code",
   "execution_count": null,
   "metadata": {},
   "outputs": [],
   "source": [
    "net.motors[0].weights"
   ]
  },
  {
   "cell_type": "markdown",
   "metadata": {},
   "source": [
    "### Plot all neurons"
   ]
  },
  {
   "cell_type": "code",
   "execution_count": null,
   "metadata": {},
   "outputs": [],
   "source": [
    "neurons_pos = []\n",
    "for neuron in net.sensors+net.inners + net.motors:\n",
    "    neurons_pos.append(neuron.position)\n",
    "neurons_pos = np.array(neurons_pos)\n",
    "neurons_pos"
   ]
  },
  {
   "cell_type": "code",
   "execution_count": null,
   "metadata": {},
   "outputs": [],
   "source": [
    "%matplotlib inline\n",
    "plt.scatter(neurons_pos[:,0], neurons_pos[:,1])"
   ]
  },
  {
   "cell_type": "code",
   "execution_count": null,
   "metadata": {},
   "outputs": [],
   "source": [
    "# net.motors[0].del_position"
   ]
  },
  {
   "cell_type": "code",
   "execution_count": null,
   "metadata": {},
   "outputs": [],
   "source": []
  }
 ],
 "metadata": {
  "kernelspec": {
   "display_name": "Python 3",
   "language": "python",
   "name": "python3"
  },
  "language_info": {
   "codemirror_mode": {
    "name": "ipython",
    "version": 3
   },
   "file_extension": ".py",
   "mimetype": "text/x-python",
   "name": "python",
   "nbconvert_exporter": "python",
   "pygments_lexer": "ipython3",
   "version": "3.7.3"
  }
 },
 "nbformat": 4,
 "nbformat_minor": 2
}
