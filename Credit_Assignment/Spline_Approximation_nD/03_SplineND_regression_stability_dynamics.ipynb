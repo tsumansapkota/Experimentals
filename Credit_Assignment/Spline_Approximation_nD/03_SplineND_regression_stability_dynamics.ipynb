{
 "cells": [
  {
   "cell_type": "code",
   "execution_count": 32,
   "metadata": {},
   "outputs": [],
   "source": [
    "import numpy as np\n",
    "import matplotlib.pyplot as plt\n",
    "import matplotlib\n",
    "from mpl_toolkits.mplot3d import Axes3D\n",
    "\n",
    "import mylibrary.splinelib_nd as tsn\n",
    "\n",
    "matplotlib.rcParams['figure.figsize'] = (12, 8)"
   ]
  },
  {
   "cell_type": "code",
   "execution_count": 33,
   "metadata": {},
   "outputs": [],
   "source": [
    "def initialize3Dplot(X1, X2, Y):\n",
    "    matplotlib.rcParams['figure.figsize'] = (8, 6)    \n",
    "    fig = plt.figure()\n",
    "    ax = fig.gca(projection='3d')\n",
    "    ax.scatter(X1, X2, Y)\n",
    "    ax.set_xlabel('X1')\n",
    "    ax.set_ylabel('X2')\n",
    "    ax.set_zlabel('Y')\n",
    "    return ax"
   ]
  },
  {
   "cell_type": "code",
   "execution_count": 34,
   "metadata": {},
   "outputs": [],
   "source": [
    "color_list = ['tab:blue', 'tab:orange', 'tab:green', 'tab:red', 'tab:purple',\n",
    "              'tab:brown', 'tab:pink', 'tab:gray', 'tab:olive', 'tab:cyan',\n",
    "              'b', 'g', 'r', 'c', 'm', 'y', 'k', 'w'\n",
    "             ]\n",
    "#########################################################        \n",
    "\n",
    "def plot_triangle(array, c):\n",
    "    '''\n",
    "    Array must be shape = (3,2)\n",
    "    '''\n",
    "#     X1, X2 = self.X[node.indices][:,0], self.X[node.indices][:,1]\n",
    "    px1 = np.append(array[:,0], array[:1,0])\n",
    "    px2 = np.append(array[:,1], array[:1,1])\n",
    "    plt.plot(px1, px2, lw=2, c=c)    \n",
    "\n",
    "def plot_piece2D_v0(self:tsn.SplineND):\n",
    "    depth = 0\n",
    "    node_list = [self.root]\n",
    "    matplotlib.rcParams['figure.figsize'] = (12, 10)    \n",
    "    while(len(node_list) >0 ):\n",
    "        node = node_list.pop()\n",
    "        X = self.X[node.indices]\n",
    "        plot_triangle(X, color_list[depth])\n",
    "        depth+=1\n",
    "        \n",
    "        if node.is_branch:\n",
    "            for spn in node.splitNodes:\n",
    "                node_list.append(spn)\n",
    "        continue\n",
    "    return\n",
    "#########################################################        \n",
    "def plot_tristar(corners, pointx, pointy, line_color):\n",
    "    for corner in corners:\n",
    "#         plt.plot(corner[0], corner[1], point[0], point[1], color=color)\n",
    "        plt.plot([corner[0], pointx[0]], [corner[1], pointx[1]], color=line_color)\n",
    "    plt.scatter([pointx[0]], [pointx[1]], c=pointy)\n",
    "        \n",
    "        \n",
    "def plot_piece2D_v1(self:tsn.SplineND):\n",
    "    depth = 0\n",
    "    matplotlib.rcParams['figure.figsize'] = (12, 10)\n",
    "    \n",
    "    X_ = self.X[self.root.indices]\n",
    "    Y_ = self.Y[self.root.indices]\n",
    "    plot_triangle(X_, c='r')\n",
    "    plt.scatter(X_[:,0], X_[:,1], c=Y_.reshape(-1))\n",
    "        \n",
    "    node_list = [self.root]\n",
    "    while(len(node_list) >0 ):\n",
    "        node = node_list.pop()\n",
    "        if not node.is_branch: continue\n",
    "            \n",
    "        corners = self.X[node.indices]\n",
    "        pointx = self.X[node.split_index]\n",
    "        pointy = self.Y[node.split_index]\n",
    "        plot_tristar(corners, pointx, pointy, color_list[depth])\n",
    "        \n",
    "        depth+=1\n",
    "        if node.is_branch:\n",
    "            for spn in node.splitNodes:\n",
    "                node_list.append(spn)\n",
    "        continue\n",
    "    return"
   ]
  },
  {
   "cell_type": "code",
   "execution_count": 65,
   "metadata": {},
   "outputs": [],
   "source": [
    "num_points = 50\n",
    "X1 = np.linspace(-2.5, 2.5, num_points)\n",
    "X2 = np.linspace(-2, 4, num_points)\n",
    "X1, X2 = np.meshgrid(X1, X2)\n",
    "X1 = X1.reshape(-1)\n",
    "X2 = X2.reshape(-1)\n",
    "Y = np.sin(np.sqrt(X1**2 + X2**2))*2-1.\n",
    "\n",
    "XX = np.c_[X1, X2]\n",
    "YY = Y.reshape(-1,1)"
   ]
  },
  {
   "cell_type": "code",
   "execution_count": 66,
   "metadata": {},
   "outputs": [],
   "source": [
    "%matplotlib tk\n",
    "fig = initialize3Dplot(X1, X2, Y)\n",
    "plt.show()"
   ]
  },
  {
   "cell_type": "code",
   "execution_count": 67,
   "metadata": {},
   "outputs": [],
   "source": [
    "# %matplotlib inline\n",
    "# plt.scatter(X1, X2, c=Y)"
   ]
  },
  {
   "cell_type": "markdown",
   "metadata": {},
   "source": [
    "### For 3D data"
   ]
  },
  {
   "cell_type": "code",
   "execution_count": 68,
   "metadata": {},
   "outputs": [],
   "source": [
    "piece2D = tsn.SplineND(2)"
   ]
  },
  {
   "cell_type": "code",
   "execution_count": 69,
   "metadata": {},
   "outputs": [],
   "source": [
    "piece2D.make_root_global_coverage2(XX)\n",
    "# piece2D.Y = np.array([1,-1,-3])"
   ]
  },
  {
   "cell_type": "code",
   "execution_count": 70,
   "metadata": {},
   "outputs": [],
   "source": [
    "# %matplotlib inline\n",
    "# plt.scatter(X1, X2, c=Y)\n",
    "# px1 = np.append(piece2D.X[:,0], piece2D.X[:1,0])\n",
    "# px2 = np.append(piece2D.X[:,1], piece2D.X[:1,1])\n",
    "\n",
    "# plt.plot(px1, px2, lw=1, c='r')"
   ]
  },
  {
   "cell_type": "code",
   "execution_count": 96,
   "metadata": {
    "scrolled": false
   },
   "outputs": [
    {
     "data": {
      "image/png": "[encoded data removed]",
      "text/plain": [
       "<Figure size 432x288 with 1 Axes>"
      ]
     },
     "metadata": {
      "needs_background": "light"
     },
     "output_type": "display_data"
    }
   ],
   "source": [
    "%matplotlib inline\n",
    "plt.scatter(X1, X2, c=Y)\n",
    "plot_piece2D_v1(piece2D)\n",
    "plt.show()"
   ]
  },
  {
   "cell_type": "code",
   "execution_count": 88,
   "metadata": {
    "scrolled": true
   },
   "outputs": [
    {
     "name": "stdout",
     "output_type": "stream",
     "text": [
      "0 Error =  0.9058394274163929\n",
      "^^^^^^^^^^^^^^^^^^^^^^^^^^^^^^^^^\n",
      "10 Error =  0.8674027811451153\n",
      "^^^^^^^^^^^^^^^^^^^^^^^^^^^^^^^^^\n",
      "20 Error =  0.8374540749420821\n"
     ]
    },
    {
     "ename": "TclError",
     "evalue": "invalid command name \"pyimage233\"",
     "output_type": "error",
     "traceback": [
      "\u001b[0;31m---------------------------------------------------------------------------\u001b[0m",
      "\u001b[0;31mTclError\u001b[0m                                  Traceback (most recent call last)",
      "\u001b[0;32m<ipython-input-88-baf7632098b1>\u001b[0m in \u001b[0;36m<module>\u001b[0;34m\u001b[0m\n\u001b[1;32m     32\u001b[0m         \u001b[0max\u001b[0m\u001b[0;34m.\u001b[0m\u001b[0mset_zlabel\u001b[0m\u001b[0;34m(\u001b[0m\u001b[0;34m'Y'\u001b[0m\u001b[0;34m)\u001b[0m\u001b[0;34m\u001b[0m\u001b[0;34m\u001b[0m\u001b[0m\n\u001b[1;32m     33\u001b[0m \u001b[0;34m\u001b[0m\u001b[0m\n\u001b[0;32m---> 34\u001b[0;31m         \u001b[0mfig\u001b[0m\u001b[0;34m.\u001b[0m\u001b[0mcanvas\u001b[0m\u001b[0;34m.\u001b[0m\u001b[0mdraw\u001b[0m\u001b[0;34m(\u001b[0m\u001b[0;34m)\u001b[0m\u001b[0;34m\u001b[0m\u001b[0;34m\u001b[0m\u001b[0m\n\u001b[0m\u001b[1;32m     35\u001b[0m         \u001b[0mplt\u001b[0m\u001b[0;34m.\u001b[0m\u001b[0mpause\u001b[0m\u001b[0;34m(\u001b[0m\u001b[0;36m0.01\u001b[0m\u001b[0;34m)\u001b[0m\u001b[0;34m\u001b[0m\u001b[0;34m\u001b[0m\u001b[0m\n\u001b[1;32m     36\u001b[0m         \u001b[0mprint\u001b[0m\u001b[0;34m(\u001b[0m\u001b[0;34m'^^^^^^^^^^^^^^^^^^^^^^^^^^^^^^^^^'\u001b[0m\u001b[0;34m)\u001b[0m\u001b[0;34m\u001b[0m\u001b[0;34m\u001b[0m\u001b[0m\n",
      "\u001b[0;32m~/Program_Files/miniconda3.7/lib/python3.7/site-packages/matplotlib/backends/backend_tkagg.py\u001b[0m in \u001b[0;36mdraw\u001b[0;34m(self)\u001b[0m\n\u001b[1;32m      8\u001b[0m     \u001b[0;32mdef\u001b[0m \u001b[0mdraw\u001b[0m\u001b[0;34m(\u001b[0m\u001b[0mself\u001b[0m\u001b[0;34m)\u001b[0m\u001b[0;34m:\u001b[0m\u001b[0;34m\u001b[0m\u001b[0;34m\u001b[0m\u001b[0m\n\u001b[1;32m      9\u001b[0m         \u001b[0msuper\u001b[0m\u001b[0;34m(\u001b[0m\u001b[0mFigureCanvasTkAgg\u001b[0m\u001b[0;34m,\u001b[0m \u001b[0mself\u001b[0m\u001b[0;34m)\u001b[0m\u001b[0;34m.\u001b[0m\u001b[0mdraw\u001b[0m\u001b[0;34m(\u001b[0m\u001b[0;34m)\u001b[0m\u001b[0;34m\u001b[0m\u001b[0;34m\u001b[0m\u001b[0m\n\u001b[0;32m---> 10\u001b[0;31m         \u001b[0m_backend_tk\u001b[0m\u001b[0;34m.\u001b[0m\u001b[0mblit\u001b[0m\u001b[0;34m(\u001b[0m\u001b[0mself\u001b[0m\u001b[0;34m.\u001b[0m\u001b[0m_tkphoto\u001b[0m\u001b[0;34m,\u001b[0m \u001b[0mself\u001b[0m\u001b[0;34m.\u001b[0m\u001b[0mrenderer\u001b[0m\u001b[0;34m.\u001b[0m\u001b[0m_renderer\u001b[0m\u001b[0;34m,\u001b[0m \u001b[0;34m(\u001b[0m\u001b[0;36m0\u001b[0m\u001b[0;34m,\u001b[0m \u001b[0;36m1\u001b[0m\u001b[0;34m,\u001b[0m \u001b[0;36m2\u001b[0m\u001b[0;34m,\u001b[0m \u001b[0;36m3\u001b[0m\u001b[0;34m)\u001b[0m\u001b[0;34m)\u001b[0m\u001b[0;34m\u001b[0m\u001b[0;34m\u001b[0m\u001b[0m\n\u001b[0m\u001b[1;32m     11\u001b[0m         \u001b[0mself\u001b[0m\u001b[0;34m.\u001b[0m\u001b[0m_master\u001b[0m\u001b[0;34m.\u001b[0m\u001b[0mupdate_idletasks\u001b[0m\u001b[0;34m(\u001b[0m\u001b[0;34m)\u001b[0m\u001b[0;34m\u001b[0m\u001b[0;34m\u001b[0m\u001b[0m\n\u001b[1;32m     12\u001b[0m \u001b[0;34m\u001b[0m\u001b[0m\n",
      "\u001b[0;32m~/Program_Files/miniconda3.7/lib/python3.7/site-packages/matplotlib/backends/_backend_tk.py\u001b[0m in \u001b[0;36mblit\u001b[0;34m(photoimage, aggimage, offsets, bbox)\u001b[0m\n\u001b[1;32m     86\u001b[0m                    math.floor(y1), math.ceil(y2))\n\u001b[1;32m     87\u001b[0m     \u001b[0;32melse\u001b[0m\u001b[0;34m:\u001b[0m\u001b[0;34m\u001b[0m\u001b[0;34m\u001b[0m\u001b[0m\n\u001b[0;32m---> 88\u001b[0;31m         \u001b[0mphotoimage\u001b[0m\u001b[0;34m.\u001b[0m\u001b[0mblank\u001b[0m\u001b[0;34m(\u001b[0m\u001b[0;34m)\u001b[0m\u001b[0;34m\u001b[0m\u001b[0;34m\u001b[0m\u001b[0m\n\u001b[0m\u001b[1;32m     89\u001b[0m         \u001b[0mbboxptr\u001b[0m \u001b[0;34m=\u001b[0m \u001b[0;34m(\u001b[0m\u001b[0;36m0\u001b[0m\u001b[0;34m,\u001b[0m \u001b[0mwidth\u001b[0m\u001b[0;34m,\u001b[0m \u001b[0;36m0\u001b[0m\u001b[0;34m,\u001b[0m \u001b[0mheight\u001b[0m\u001b[0;34m)\u001b[0m\u001b[0;34m\u001b[0m\u001b[0;34m\u001b[0m\u001b[0m\n\u001b[1;32m     90\u001b[0m     _tkagg.blit(\n",
      "\u001b[0;32m~/Program_Files/miniconda3.7/lib/python3.7/tkinter/__init__.py\u001b[0m in \u001b[0;36mblank\u001b[0;34m(self)\u001b[0m\n\u001b[1;32m   3546\u001b[0m     \u001b[0;32mdef\u001b[0m \u001b[0mblank\u001b[0m\u001b[0;34m(\u001b[0m\u001b[0mself\u001b[0m\u001b[0;34m)\u001b[0m\u001b[0;34m:\u001b[0m\u001b[0;34m\u001b[0m\u001b[0;34m\u001b[0m\u001b[0m\n\u001b[1;32m   3547\u001b[0m         \u001b[0;34m\"\"\"Display a transparent image.\"\"\"\u001b[0m\u001b[0;34m\u001b[0m\u001b[0;34m\u001b[0m\u001b[0m\n\u001b[0;32m-> 3548\u001b[0;31m         \u001b[0mself\u001b[0m\u001b[0;34m.\u001b[0m\u001b[0mtk\u001b[0m\u001b[0;34m.\u001b[0m\u001b[0mcall\u001b[0m\u001b[0;34m(\u001b[0m\u001b[0mself\u001b[0m\u001b[0;34m.\u001b[0m\u001b[0mname\u001b[0m\u001b[0;34m,\u001b[0m \u001b[0;34m'blank'\u001b[0m\u001b[0;34m)\u001b[0m\u001b[0;34m\u001b[0m\u001b[0;34m\u001b[0m\u001b[0m\n\u001b[0m\u001b[1;32m   3549\u001b[0m     \u001b[0;32mdef\u001b[0m \u001b[0mcget\u001b[0m\u001b[0;34m(\u001b[0m\u001b[0mself\u001b[0m\u001b[0;34m,\u001b[0m \u001b[0moption\u001b[0m\u001b[0;34m)\u001b[0m\u001b[0;34m:\u001b[0m\u001b[0;34m\u001b[0m\u001b[0;34m\u001b[0m\u001b[0m\n\u001b[1;32m   3550\u001b[0m         \u001b[0;34m\"\"\"Return the value of OPTION.\"\"\"\u001b[0m\u001b[0;34m\u001b[0m\u001b[0;34m\u001b[0m\u001b[0m\n",
      "\u001b[0;31mTclError\u001b[0m: invalid command name \"pyimage233\""
     ]
    }
   ],
   "source": [
    "%matplotlib tk\n",
    "fig = plt.figure()\n",
    "ax = fig.gca(projection='3d')\n",
    "perror = 9999999.\n",
    "for epoch in range(100000):\n",
    "    yout = piece2D.forward(XX)\n",
    "    dy = yout - YY\n",
    "    dx = piece2D.backward(dy)\n",
    "    \n",
    "    piece2D.update(0.3)\n",
    "    \n",
    "#     if epoch%100 == 0 and epoch !=0:\n",
    "#         piece2D.make_root_global_coverage2()\n",
    "#         piece2D.add_new_point()\n",
    "\n",
    "    if epoch%10 == 0:\n",
    "        error = (dy**2).mean()\n",
    "        print(epoch, 'Error = ', error)\n",
    "        if error > perror :\n",
    "            print('???????\\n^^^^^^^')\n",
    "            break\n",
    "        perror = error\n",
    "        \n",
    "        ax.clear()\n",
    "        \n",
    "        ax.scatter(X1, X2, Y)\n",
    "        ax.scatter(X1, X2, yout.reshape(-1), color='r', marker='.')\n",
    "#         ax.scatter(piece2D.X[:,0], piece2D.X[:,1], piece2D.Y, lw=5, c='r')\n",
    "        \n",
    "        ax.set_xlabel('X1')\n",
    "        ax.set_ylabel('X2')\n",
    "        ax.set_zlabel('Y')\n",
    "        \n",
    "        fig.canvas.draw()\n",
    "        plt.pause(0.01)\n",
    "        print('^^^^^^^^^^^^^^^^^^^^^^^^^^^^^^^^^')\n",
    "        if error < 0.00025:\n",
    "            print('fitted to our expectation')\n",
    "            break"
   ]
  },
  {
   "cell_type": "code",
   "execution_count": 91,
   "metadata": {},
   "outputs": [
    {
     "name": "stdout",
     "output_type": "stream",
     "text": [
      "--- 3.2703188942953596\n",
      "--- 2.8475994426584292\n",
      "--- 2.6993211346710377\n",
      "3.2703188942953596\n",
      "--- 3.2703188942953596\n",
      "--- 3.113931974609053\n",
      "--- 2.9656536666216615\n",
      "3.2703188942953596\n",
      "--- 3.2703188942953596\n",
      "--- 3.0016029755100453\n",
      "--- 2.8603592380816005\n",
      "--- 2.5667650269896427\n",
      "3.0016029755100453\n",
      "--- 3.0016029755100453\n",
      "--- 3.2430572151540256\n",
      "3.2703188942953596\n"
     ]
    },
    {
     "data": {
      "text/plain": [
       "(3.2703188942953596, [0, 1, 5])"
      ]
     },
     "execution_count": 91,
     "metadata": {},
     "output_type": "execute_result"
    }
   ],
   "source": [
    "err, node = piece2D.root.get_maximum_error_node()\n",
    "err, node.indices"
   ]
  },
  {
   "cell_type": "code",
   "execution_count": 95,
   "metadata": {},
   "outputs": [
    {
     "name": "stdout",
     "output_type": "stream",
     "text": [
      "--- 3.030952520070669\n",
      "--- 2.478060347587034\n",
      "--- 2.3297820395996425\n",
      "3.030952520070669\n",
      "--- 3.030952520070669\n",
      "--- 2.8475994426584292\n",
      "--- 2.6993211346710377\n",
      "3.030952520070669\n",
      "--- 3.030952520070669\n",
      "--- 2.5367533598067586\n",
      "--- 2.4005935487028394\n",
      "--- 1.9657556001824372\n",
      "2.5367533598067586\n",
      "--- 2.5367533598067586\n",
      "--- 2.9656536666216615\n",
      "3.030952520070669\n",
      "--- 3.030952520070669\n",
      "--- 3.0016029755100453\n",
      "--- 2.8603592380816005\n",
      "--- 2.5667650269896427\n",
      "3.0016029755100453\n",
      "--- 3.0016029755100453\n",
      "--- 2.6293568147158615\n",
      "--- 2.4881130772874167\n",
      "--- 2.3427971741828504\n",
      "2.6293568147158615\n",
      "--- 2.6293568147158615\n",
      "3.030952520070669\n"
     ]
    },
    {
     "ename": "ValueError",
     "evalue": "all the input arrays must have same number of dimensions",
     "output_type": "error",
     "traceback": [
      "\u001b[0;31m---------------------------------------------------------------------------\u001b[0m",
      "\u001b[0;31mValueError\u001b[0m                                Traceback (most recent call last)",
      "\u001b[0;32m<ipython-input-95-6b0954e13038>\u001b[0m in \u001b[0;36m<module>\u001b[0;34m\u001b[0m\n\u001b[0;32m----> 1\u001b[0;31m \u001b[0mpiece2D\u001b[0m\u001b[0;34m.\u001b[0m\u001b[0madd_new_point\u001b[0m\u001b[0;34m(\u001b[0m\u001b[0;34m)\u001b[0m\u001b[0;34m\u001b[0m\u001b[0;34m\u001b[0m\u001b[0m\n\u001b[0m",
      "\u001b[0;32m/media/tsuman/98D2644AD2642EA6/Neural_Network/Notebooks/Experimentals/Credit_Assignment/Spline_Approximation_nD/mylibrary/splinelib_nd.py\u001b[0m in \u001b[0;36madd_new_point\u001b[0;34m(self)\u001b[0m\n\u001b[1;32m    330\u001b[0m     \u001b[0;32mdef\u001b[0m \u001b[0madd_new_point\u001b[0m\u001b[0;34m(\u001b[0m\u001b[0mself\u001b[0m\u001b[0;34m)\u001b[0m\u001b[0;34m:\u001b[0m\u001b[0;34m\u001b[0m\u001b[0;34m\u001b[0m\u001b[0m\n\u001b[1;32m    331\u001b[0m         \u001b[0merr\u001b[0m\u001b[0;34m,\u001b[0m \u001b[0mnode\u001b[0m \u001b[0;34m=\u001b[0m \u001b[0mself\u001b[0m\u001b[0;34m.\u001b[0m\u001b[0mroot\u001b[0m\u001b[0;34m.\u001b[0m\u001b[0mget_maximum_error_node\u001b[0m\u001b[0;34m(\u001b[0m\u001b[0;34m)\u001b[0m\u001b[0;34m\u001b[0m\u001b[0;34m\u001b[0m\u001b[0m\n\u001b[0;32m--> 332\u001b[0;31m         \u001b[0mnode\u001b[0m\u001b[0;34m.\u001b[0m\u001b[0mbreak_region\u001b[0m\u001b[0;34m(\u001b[0m\u001b[0;34m)\u001b[0m\u001b[0;34m\u001b[0m\u001b[0;34m\u001b[0m\u001b[0m\n\u001b[0m\u001b[1;32m    333\u001b[0m         \u001b[0;32mreturn\u001b[0m\u001b[0;34m\u001b[0m\u001b[0;34m\u001b[0m\u001b[0m\n\u001b[1;32m    334\u001b[0m \u001b[0;34m\u001b[0m\u001b[0m\n",
      "\u001b[0;32m/media/tsuman/98D2644AD2642EA6/Neural_Network/Notebooks/Experimentals/Credit_Assignment/Spline_Approximation_nD/mylibrary/splinelib_nd.py\u001b[0m in \u001b[0;36mbreak_region\u001b[0;34m(self)\u001b[0m\n\u001b[1;32m    169\u001b[0m             \u001b[0mself\u001b[0m\u001b[0;34m.\u001b[0m\u001b[0msplit_index\u001b[0m \u001b[0;34m=\u001b[0m \u001b[0mlen\u001b[0m\u001b[0;34m(\u001b[0m\u001b[0mself\u001b[0m\u001b[0;34m.\u001b[0m\u001b[0mSND\u001b[0m\u001b[0;34m.\u001b[0m\u001b[0mX\u001b[0m\u001b[0;34m)\u001b[0m\u001b[0;34m\u001b[0m\u001b[0;34m\u001b[0m\u001b[0m\n\u001b[1;32m    170\u001b[0m \u001b[0;34m\u001b[0m\u001b[0m\n\u001b[0;32m--> 171\u001b[0;31m             \u001b[0mself\u001b[0m\u001b[0;34m.\u001b[0m\u001b[0mSND\u001b[0m\u001b[0;34m.\u001b[0m\u001b[0mX\u001b[0m \u001b[0;34m=\u001b[0m \u001b[0mnp\u001b[0m\u001b[0;34m.\u001b[0m\u001b[0mappend\u001b[0m\u001b[0;34m(\u001b[0m\u001b[0mself\u001b[0m\u001b[0;34m.\u001b[0m\u001b[0mSND\u001b[0m\u001b[0;34m.\u001b[0m\u001b[0mX\u001b[0m\u001b[0;34m,\u001b[0m \u001b[0mnewX\u001b[0m\u001b[0;34m,\u001b[0m \u001b[0maxis\u001b[0m\u001b[0;34m=\u001b[0m\u001b[0;36m0\u001b[0m\u001b[0;34m)\u001b[0m\u001b[0;34m\u001b[0m\u001b[0;34m\u001b[0m\u001b[0m\n\u001b[0m\u001b[1;32m    172\u001b[0m             \u001b[0mself\u001b[0m\u001b[0;34m.\u001b[0m\u001b[0mSND\u001b[0m\u001b[0;34m.\u001b[0m\u001b[0mY\u001b[0m \u001b[0;34m=\u001b[0m \u001b[0mnp\u001b[0m\u001b[0;34m.\u001b[0m\u001b[0mappend\u001b[0m\u001b[0;34m(\u001b[0m\u001b[0mself\u001b[0m\u001b[0;34m.\u001b[0m\u001b[0mSND\u001b[0m\u001b[0;34m.\u001b[0m\u001b[0mY\u001b[0m\u001b[0;34m,\u001b[0m \u001b[0mnewY\u001b[0m\u001b[0;34m,\u001b[0m \u001b[0maxis\u001b[0m\u001b[0;34m=\u001b[0m\u001b[0;36m0\u001b[0m\u001b[0;34m)\u001b[0m\u001b[0;34m\u001b[0m\u001b[0;34m\u001b[0m\u001b[0m\n\u001b[1;32m    173\u001b[0m \u001b[0;34m\u001b[0m\u001b[0m\n",
      "\u001b[0;32m~/Program_Files/miniconda3.7/lib/python3.7/site-packages/numpy/lib/function_base.py\u001b[0m in \u001b[0;36mappend\u001b[0;34m(arr, values, axis)\u001b[0m\n\u001b[1;32m   4692\u001b[0m         \u001b[0mvalues\u001b[0m \u001b[0;34m=\u001b[0m \u001b[0mravel\u001b[0m\u001b[0;34m(\u001b[0m\u001b[0mvalues\u001b[0m\u001b[0;34m)\u001b[0m\u001b[0;34m\u001b[0m\u001b[0;34m\u001b[0m\u001b[0m\n\u001b[1;32m   4693\u001b[0m         \u001b[0maxis\u001b[0m \u001b[0;34m=\u001b[0m \u001b[0marr\u001b[0m\u001b[0;34m.\u001b[0m\u001b[0mndim\u001b[0m\u001b[0;34m-\u001b[0m\u001b[0;36m1\u001b[0m\u001b[0;34m\u001b[0m\u001b[0;34m\u001b[0m\u001b[0m\n\u001b[0;32m-> 4694\u001b[0;31m     \u001b[0;32mreturn\u001b[0m \u001b[0mconcatenate\u001b[0m\u001b[0;34m(\u001b[0m\u001b[0;34m(\u001b[0m\u001b[0marr\u001b[0m\u001b[0;34m,\u001b[0m \u001b[0mvalues\u001b[0m\u001b[0;34m)\u001b[0m\u001b[0;34m,\u001b[0m \u001b[0maxis\u001b[0m\u001b[0;34m=\u001b[0m\u001b[0maxis\u001b[0m\u001b[0;34m)\u001b[0m\u001b[0;34m\u001b[0m\u001b[0;34m\u001b[0m\u001b[0m\n\u001b[0m\u001b[1;32m   4695\u001b[0m \u001b[0;34m\u001b[0m\u001b[0m\n\u001b[1;32m   4696\u001b[0m \u001b[0;34m\u001b[0m\u001b[0m\n",
      "\u001b[0;31mValueError\u001b[0m: all the input arrays must have same number of dimensions"
     ]
    }
   ],
   "source": [
    "piece2D.add_new_point()"
   ]
  },
  {
   "cell_type": "code",
   "execution_count": null,
   "metadata": {},
   "outputs": [],
   "source": [
    "%matplotlib tk\n",
    "fig = plt.figure()\n",
    "ax = fig.gca(projection='3d')\n",
    "ax.scatter(X1, X2, Y)\n",
    "ax.scatter(X1, X2, yout.reshape(-1), color='r', marker='.')\n",
    "ax.set_xlabel('X1')\n",
    "ax.set_ylabel('X2')\n",
    "ax.set_zlabel('Y')\n",
    "plt.show()"
   ]
  },
  {
   "cell_type": "code",
   "execution_count": null,
   "metadata": {},
   "outputs": [],
   "source": [
    "%matplotlib inline\n",
    "fig = plt.figure()\n",
    "ax = fig.gca(projection='3d')\n",
    "ax.scatter(X1, X2, Y)\n",
    "ax.scatter(X1, X2, yout.reshape(-1), color='r', marker='.')\n",
    "ax.set_xlabel('X1')\n",
    "ax.set_ylabel('X2')\n",
    "ax.set_zlabel('Y')\n",
    "plt.show()"
   ]
  },
  {
   "cell_type": "code",
   "execution_count": null,
   "metadata": {},
   "outputs": [],
   "source": []
  },
  {
   "cell_type": "code",
   "execution_count": 43,
   "metadata": {},
   "outputs": [
    {
     "data": {
      "text/plain": [
       "<matplotlib.collections.PathCollection at 0x7fcdc44605f8>"
      ]
     },
     "execution_count": 43,
     "metadata": {},
     "output_type": "execute_result"
    },
    {
     "data": {
      "image/png": "[encoded data removed]",
      "text/plain": [
       "<Figure size 432x288 with 1 Axes>"
      ]
     },
     "metadata": {
      "needs_background": "light"
     },
     "output_type": "display_data"
    }
   ],
   "source": [
    "x = np.linspace(0,2,300)\n",
    "noise = np.random.normal(0,0.02, x.shape)\n",
    "x = x + noise\n",
    "y= (2 * np.sin(10*x) + np.cos(20 * x - 3) + 3 * np.log(10*x + 0.5) - 4)/6.\n",
    "noise = np.random.normal(0,0.1, x.shape)\n",
    "y = y + noise\n",
    "x = (x - 0.5)*1.5 #x.mean() # good practice to zero-center x in linear mapping\n",
    "xx = x.reshape(-1,1)\n",
    "yy = y.reshape(-1,1)\n",
    "%matplotlib inline\n",
    "plt.scatter(x, y, marker='.', color='g')"
   ]
  },
  {
   "cell_type": "code",
   "execution_count": 51,
   "metadata": {},
   "outputs": [],
   "source": [
    "piece = tsn.SplineND(1)\n",
    "piece.make_root_global_coverage2(xx)"
   ]
  },
  {
   "cell_type": "code",
   "execution_count": 52,
   "metadata": {},
   "outputs": [
    {
     "data": {
      "text/plain": [
       "<matplotlib.collections.PathCollection at 0x7fcdb3647cf8>"
      ]
     },
     "execution_count": 52,
     "metadata": {},
     "output_type": "execute_result"
    },
    {
     "data": {
      "image/png": "[encoded data removed]",
      "text/plain": [
       "<Figure size 432x288 with 1 Axes>"
      ]
     },
     "metadata": {
      "needs_background": "light"
     },
     "output_type": "display_data"
    }
   ],
   "source": [
    "%matplotlib inline\n",
    "plt.scatter(x, y, marker='.', color='g')\n",
    "plt.scatter(piece.X, piece.Y)"
   ]
  },
  {
   "cell_type": "code",
   "execution_count": 53,
   "metadata": {
    "scrolled": true
   },
   "outputs": [
    {
     "name": "stdout",
     "output_type": "stream",
     "text": [
      "_______________________\n",
      "Steps 0\n",
      "Error 0.2607111570686604\n",
      "\n",
      "\n",
      "_______________________\n",
      "Steps 10\n",
      "Error 0.15114396351419812\n",
      "\n",
      "\n",
      "_______________________\n",
      "Steps 20\n",
      "Error 0.11431492905078457\n",
      "\n",
      "\n",
      "_______________________\n",
      "Steps 30\n",
      "Error 0.10087130200790284\n",
      "\n",
      "\n",
      "_______________________\n",
      "Steps 40\n",
      "Error 0.09078333489731262\n",
      "\n",
      "\n",
      "_______________________\n",
      "Steps 50\n",
      "Error 0.08827211595545811\n",
      "\n",
      "\n",
      "_______________________\n",
      "Steps 60\n",
      "Error 0.0871407687932213\n",
      "\n",
      "\n",
      "_______________________\n",
      "Steps 70\n",
      "Error 0.08663950065511229\n",
      "\n",
      "\n",
      "_______________________\n",
      "Steps 80\n",
      "Error 0.08643341254704548\n",
      "\n",
      "\n",
      "_______________________\n",
      "Steps 90\n",
      "Error 0.08637718358158156\n",
      "\n",
      "\n",
      "--- 1.4971416084349907\n",
      "--- 1.098253945570954\n",
      "1.4971416084349907\n",
      "_______________________\n",
      "Steps 100\n",
      "Error 0.08640029253193918\n",
      "\n",
      "\n",
      "_______________________\n",
      "Steps 110\n",
      "Error 0.08604529275176193\n",
      "\n",
      "\n",
      "_______________________\n",
      "Steps 120\n",
      "Error 0.08594550625670422\n",
      "\n",
      "\n",
      "_______________________\n",
      "Steps 130\n",
      "Error 0.08596974176323045\n",
      "\n",
      "\n",
      "_______________________\n",
      "Steps 140\n",
      "Error 0.08605307783566907\n",
      "\n",
      "\n",
      "_______________________\n",
      "Steps 150\n",
      "Error 0.08617954560022714\n",
      "\n",
      "\n",
      "_______________________\n",
      "Steps 160\n",
      "Error 0.08632995981067837\n",
      "\n",
      "\n",
      "_______________________\n",
      "Steps 170\n",
      "Error 0.0864814934751953\n",
      "\n",
      "\n",
      "_______________________\n",
      "Steps 180\n",
      "Error 0.08662702333151893\n",
      "\n",
      "\n",
      "_______________________\n",
      "Steps 190\n",
      "Error 0.0867525019237463\n",
      "\n",
      "\n",
      "--- 1.4012661019607306\n",
      "--- 1.1622122582882848\n",
      "1.4012661019607306\n",
      "--- 1.4012661019607306\n",
      "--- 1.080979302828044\n",
      "1.4012661019607306\n",
      "_______________________\n",
      "Steps 200\n",
      "Error 0.0868592640972753\n",
      "\n",
      "\n",
      "_______________________\n",
      "Steps 210\n",
      "Error 0.08585027715815831\n",
      "\n",
      "\n",
      "_______________________\n",
      "Steps 220\n",
      "Error 0.08077260087956238\n",
      "\n",
      "\n",
      "_______________________\n",
      "Steps 230\n",
      "Error 0.08023739982370325\n",
      "\n",
      "\n",
      "_______________________\n",
      "Steps 240\n",
      "Error 0.07993854406034447\n",
      "\n",
      "\n",
      "_______________________\n",
      "Steps 250\n",
      "Error 0.07980953830756704\n",
      "\n",
      "\n",
      "_______________________\n",
      "Steps 260\n",
      "Error 0.0798636922446796\n",
      "\n",
      "\n",
      "_______________________\n",
      "Steps 270\n",
      "Error 0.07995059639396425\n",
      "\n",
      "\n",
      "_______________________\n",
      "Steps 280\n",
      "Error 0.08010796978331475\n",
      "\n",
      "\n",
      "_______________________\n",
      "Steps 290\n",
      "Error 0.08031208790428374\n",
      "\n",
      "\n",
      "--- 1.4393008026634269\n",
      "--- 1.1209249018279672\n",
      "1.4393008026634269\n",
      "--- 1.4393008026634269\n",
      "--- 1.165766524726478\n",
      "1.4393008026634269\n",
      "--- 1.4393008026634269\n",
      "--- 1.0845599652918585\n",
      "1.4393008026634269\n",
      "_______________________\n",
      "Steps 300\n",
      "Error 0.08054448472887354\n",
      "\n",
      "\n",
      "_______________________\n",
      "Steps 310\n",
      "Error 0.07939151752386482\n",
      "\n",
      "\n",
      "_______________________\n",
      "Steps 320\n",
      "Error 0.07927357274963381\n",
      "\n",
      "\n",
      "_______________________\n",
      "Steps 330\n",
      "Error 0.07923134423104071\n",
      "\n",
      "\n",
      "_______________________\n",
      "Steps 340\n",
      "Error 0.07929772125559119\n",
      "\n",
      "\n",
      "_______________________\n",
      "Steps 350\n",
      "Error 0.07947040482990264\n",
      "\n",
      "\n",
      "_______________________\n",
      "Steps 360\n",
      "Error 0.07962883532919603\n",
      "\n",
      "\n",
      "_______________________\n",
      "Steps 370\n",
      "Error 0.07990672943611515\n",
      "\n",
      "\n",
      "_______________________\n",
      "Steps 380\n",
      "Error 0.08060015987032595\n",
      "\n",
      "\n",
      "_______________________\n",
      "Steps 390\n",
      "Error 0.08195416131639152\n",
      "\n",
      "\n",
      "--- 1.3463021000839415\n",
      "--- 1.0629411305429513\n",
      "1.3463021000839415\n",
      "--- 1.3463021000839415\n",
      "--- 1.11071883560866\n",
      "1.3463021000839415\n",
      "--- 1.3463021000839415\n",
      "--- 1.1557911323983263\n",
      "1.3463021000839415\n",
      "--- 1.3463021000839415\n",
      "--- 1.0748429032500182\n",
      "1.3463021000839415\n",
      "_______________________\n",
      "Steps 400\n",
      "Error 0.08355460772854255\n",
      "\n",
      "\n",
      "_______________________\n",
      "Steps 410\n",
      "Error nan\n",
      "\n",
      "\n",
      "_______________________\n",
      "Steps 420\n",
      "Error nan\n",
      "\n",
      "\n",
      "_______________________\n",
      "Steps 430\n",
      "Error nan\n",
      "\n",
      "\n",
      "_______________________\n",
      "Steps 440\n",
      "Error nan\n"
     ]
    },
    {
     "ename": "TclError",
     "evalue": "invalid command name \"pyimage156\"",
     "output_type": "error",
     "traceback": [
      "\u001b[0;31m---------------------------------------------------------------------------\u001b[0m",
      "\u001b[0;31mTclError\u001b[0m                                  Traceback (most recent call last)",
      "\u001b[0;32m<ipython-input-53-13965f4309b6>\u001b[0m in \u001b[0;36m<module>\u001b[0;34m\u001b[0m\n\u001b[1;32m     35\u001b[0m \u001b[0;34m\u001b[0m\u001b[0m\n\u001b[1;32m     36\u001b[0m \u001b[0;34m\u001b[0m\u001b[0m\n\u001b[0;32m---> 37\u001b[0;31m         \u001b[0mfig\u001b[0m\u001b[0;34m.\u001b[0m\u001b[0mcanvas\u001b[0m\u001b[0;34m.\u001b[0m\u001b[0mdraw\u001b[0m\u001b[0;34m(\u001b[0m\u001b[0;34m)\u001b[0m\u001b[0;34m\u001b[0m\u001b[0;34m\u001b[0m\u001b[0m\n\u001b[0m\u001b[1;32m     38\u001b[0m         \u001b[0mplt\u001b[0m\u001b[0;34m.\u001b[0m\u001b[0mpause\u001b[0m\u001b[0;34m(\u001b[0m\u001b[0;36m0.01\u001b[0m\u001b[0;34m)\u001b[0m\u001b[0;34m\u001b[0m\u001b[0;34m\u001b[0m\u001b[0m\n\u001b[1;32m     39\u001b[0m         \u001b[0mprint\u001b[0m\u001b[0;34m(\u001b[0m\u001b[0;34m\"\\n\"\u001b[0m\u001b[0;34m)\u001b[0m\u001b[0;34m\u001b[0m\u001b[0;34m\u001b[0m\u001b[0m\n",
      "\u001b[0;32m~/Program_Files/miniconda3.7/lib/python3.7/site-packages/matplotlib/backends/backend_tkagg.py\u001b[0m in \u001b[0;36mdraw\u001b[0;34m(self)\u001b[0m\n\u001b[1;32m      8\u001b[0m     \u001b[0;32mdef\u001b[0m \u001b[0mdraw\u001b[0m\u001b[0;34m(\u001b[0m\u001b[0mself\u001b[0m\u001b[0;34m)\u001b[0m\u001b[0;34m:\u001b[0m\u001b[0;34m\u001b[0m\u001b[0;34m\u001b[0m\u001b[0m\n\u001b[1;32m      9\u001b[0m         \u001b[0msuper\u001b[0m\u001b[0;34m(\u001b[0m\u001b[0mFigureCanvasTkAgg\u001b[0m\u001b[0;34m,\u001b[0m \u001b[0mself\u001b[0m\u001b[0;34m)\u001b[0m\u001b[0;34m.\u001b[0m\u001b[0mdraw\u001b[0m\u001b[0;34m(\u001b[0m\u001b[0;34m)\u001b[0m\u001b[0;34m\u001b[0m\u001b[0;34m\u001b[0m\u001b[0m\n\u001b[0;32m---> 10\u001b[0;31m         \u001b[0m_backend_tk\u001b[0m\u001b[0;34m.\u001b[0m\u001b[0mblit\u001b[0m\u001b[0;34m(\u001b[0m\u001b[0mself\u001b[0m\u001b[0;34m.\u001b[0m\u001b[0m_tkphoto\u001b[0m\u001b[0;34m,\u001b[0m \u001b[0mself\u001b[0m\u001b[0;34m.\u001b[0m\u001b[0mrenderer\u001b[0m\u001b[0;34m.\u001b[0m\u001b[0m_renderer\u001b[0m\u001b[0;34m,\u001b[0m \u001b[0;34m(\u001b[0m\u001b[0;36m0\u001b[0m\u001b[0;34m,\u001b[0m \u001b[0;36m1\u001b[0m\u001b[0;34m,\u001b[0m \u001b[0;36m2\u001b[0m\u001b[0;34m,\u001b[0m \u001b[0;36m3\u001b[0m\u001b[0;34m)\u001b[0m\u001b[0;34m)\u001b[0m\u001b[0;34m\u001b[0m\u001b[0;34m\u001b[0m\u001b[0m\n\u001b[0m\u001b[1;32m     11\u001b[0m         \u001b[0mself\u001b[0m\u001b[0;34m.\u001b[0m\u001b[0m_master\u001b[0m\u001b[0;34m.\u001b[0m\u001b[0mupdate_idletasks\u001b[0m\u001b[0;34m(\u001b[0m\u001b[0;34m)\u001b[0m\u001b[0;34m\u001b[0m\u001b[0;34m\u001b[0m\u001b[0m\n\u001b[1;32m     12\u001b[0m \u001b[0;34m\u001b[0m\u001b[0m\n",
      "\u001b[0;32m~/Program_Files/miniconda3.7/lib/python3.7/site-packages/matplotlib/backends/_backend_tk.py\u001b[0m in \u001b[0;36mblit\u001b[0;34m(photoimage, aggimage, offsets, bbox)\u001b[0m\n\u001b[1;32m     86\u001b[0m                    math.floor(y1), math.ceil(y2))\n\u001b[1;32m     87\u001b[0m     \u001b[0;32melse\u001b[0m\u001b[0;34m:\u001b[0m\u001b[0;34m\u001b[0m\u001b[0;34m\u001b[0m\u001b[0m\n\u001b[0;32m---> 88\u001b[0;31m         \u001b[0mphotoimage\u001b[0m\u001b[0;34m.\u001b[0m\u001b[0mblank\u001b[0m\u001b[0;34m(\u001b[0m\u001b[0;34m)\u001b[0m\u001b[0;34m\u001b[0m\u001b[0;34m\u001b[0m\u001b[0m\n\u001b[0m\u001b[1;32m     89\u001b[0m         \u001b[0mbboxptr\u001b[0m \u001b[0;34m=\u001b[0m \u001b[0;34m(\u001b[0m\u001b[0;36m0\u001b[0m\u001b[0;34m,\u001b[0m \u001b[0mwidth\u001b[0m\u001b[0;34m,\u001b[0m \u001b[0;36m0\u001b[0m\u001b[0;34m,\u001b[0m \u001b[0mheight\u001b[0m\u001b[0;34m)\u001b[0m\u001b[0;34m\u001b[0m\u001b[0;34m\u001b[0m\u001b[0m\n\u001b[1;32m     90\u001b[0m     _tkagg.blit(\n",
      "\u001b[0;32m~/Program_Files/miniconda3.7/lib/python3.7/tkinter/__init__.py\u001b[0m in \u001b[0;36mblank\u001b[0;34m(self)\u001b[0m\n\u001b[1;32m   3546\u001b[0m     \u001b[0;32mdef\u001b[0m \u001b[0mblank\u001b[0m\u001b[0;34m(\u001b[0m\u001b[0mself\u001b[0m\u001b[0;34m)\u001b[0m\u001b[0;34m:\u001b[0m\u001b[0;34m\u001b[0m\u001b[0;34m\u001b[0m\u001b[0m\n\u001b[1;32m   3547\u001b[0m         \u001b[0;34m\"\"\"Display a transparent image.\"\"\"\u001b[0m\u001b[0;34m\u001b[0m\u001b[0;34m\u001b[0m\u001b[0m\n\u001b[0;32m-> 3548\u001b[0;31m         \u001b[0mself\u001b[0m\u001b[0;34m.\u001b[0m\u001b[0mtk\u001b[0m\u001b[0;34m.\u001b[0m\u001b[0mcall\u001b[0m\u001b[0;34m(\u001b[0m\u001b[0mself\u001b[0m\u001b[0;34m.\u001b[0m\u001b[0mname\u001b[0m\u001b[0;34m,\u001b[0m \u001b[0;34m'blank'\u001b[0m\u001b[0;34m)\u001b[0m\u001b[0;34m\u001b[0m\u001b[0;34m\u001b[0m\u001b[0m\n\u001b[0m\u001b[1;32m   3549\u001b[0m     \u001b[0;32mdef\u001b[0m \u001b[0mcget\u001b[0m\u001b[0;34m(\u001b[0m\u001b[0mself\u001b[0m\u001b[0;34m,\u001b[0m \u001b[0moption\u001b[0m\u001b[0;34m)\u001b[0m\u001b[0;34m:\u001b[0m\u001b[0;34m\u001b[0m\u001b[0;34m\u001b[0m\u001b[0m\n\u001b[1;32m   3550\u001b[0m         \u001b[0;34m\"\"\"Return the value of OPTION.\"\"\"\u001b[0m\u001b[0;34m\u001b[0m\u001b[0;34m\u001b[0m\u001b[0m\n",
      "\u001b[0;31mTclError\u001b[0m: invalid command name \"pyimage156\""
     ]
    }
   ],
   "source": [
    "%matplotlib tk\n",
    "fig = plt.figure()\n",
    "ax = fig.add_subplot(1, 1, 1)\n",
    "plt.ion()\n",
    "fig.show()\n",
    "fig.canvas.draw()\n",
    "\n",
    "for step in range(100000):\n",
    "\n",
    "    Y = piece.forward(xx)\n",
    "    \n",
    "    dy = Y-yy\n",
    "    dx = piece.backward(dy)\n",
    "    piece.update(0.3)\n",
    "    \n",
    "    if step % 100 == 0:\n",
    "#         piece.make_root_global_coverage2()\n",
    "        piece.add_new_point()\n",
    "\n",
    "        \n",
    "    if step % 10 == 0:            \n",
    "        error = (dy**2).mean()\n",
    "        print('_______________________')\n",
    "        print(\"Steps\", step)\n",
    "        print(\"Error\", error)\n",
    "        \n",
    "        ax.clear()\n",
    "        plt.scatter(x, y, marker='.', color='g')\n",
    "        plt.scatter(x, dy, marker='.', color='m')\n",
    "        \n",
    "        plt.scatter(x, Y.reshape(-1), marker='.', color='r')        \n",
    "        plt.plot(piece.X, piece.Y, marker='.', color='r', lw=2)\n",
    "        \n",
    "        plt.scatter(x, dx, marker='.', color='c')\n",
    "        \n",
    "        \n",
    "        fig.canvas.draw()\n",
    "        plt.pause(0.01)\n",
    "        print(\"\\n\")\n",
    "        if error < 0.00025:\n",
    "            print('fitted to our expectation')\n",
    "            plt.pause(50)\n",
    "            break"
   ]
  },
  {
   "cell_type": "code",
   "execution_count": null,
   "metadata": {},
   "outputs": [],
   "source": [
    "# piece.add_new_point()\n",
    "# spiece.X.shape"
   ]
  },
  {
   "cell_type": "code",
   "execution_count": null,
   "metadata": {},
   "outputs": [],
   "source": [
    "# err, node = piece.root.get_maximum_error_node()\n",
    "# print(err, node.indices)"
   ]
  },
  {
   "cell_type": "code",
   "execution_count": null,
   "metadata": {},
   "outputs": [],
   "source": [
    "# piece.root.break_region()\n",
    "# print(piece.root.splitNodes[0].indices)\n",
    "# print(piece.del_Y.shape)"
   ]
  },
  {
   "cell_type": "code",
   "execution_count": null,
   "metadata": {},
   "outputs": [],
   "source": [
    "%matplotlib inline\n",
    "plt.scatter(x, y, marker='.', color='g')\n",
    "# plt.scatter(x, Y.reshape(-1), marker='.', color='m')\n",
    "plt.plot(piece.X, piece.Y, marker='.', color='r')"
   ]
  },
  {
   "cell_type": "code",
   "execution_count": null,
   "metadata": {},
   "outputs": [],
   "source": [
    "# piece.make_root_global_coverage(xx) ## this caused the function to change \n",
    "# plt.scatter(x, y, marker='.', color='g')\n",
    "# plt.plot(piece.X, piece.Y, marker='.', color='r')"
   ]
  },
  {
   "cell_type": "code",
   "execution_count": null,
   "metadata": {},
   "outputs": [],
   "source": []
  }
 ],
 "metadata": {
  "kernelspec": {
   "display_name": "Python 3",
   "language": "python",
   "name": "python3"
  },
  "language_info": {
   "codemirror_mode": {
    "name": "ipython",
    "version": 3
   },
   "file_extension": ".py",
   "mimetype": "text/x-python",
   "name": "python",
   "nbconvert_exporter": "python",
   "pygments_lexer": "ipython3",
   "version": "3.7.3"
  }
 },
 "nbformat": 4,
 "nbformat_minor": 2
}
