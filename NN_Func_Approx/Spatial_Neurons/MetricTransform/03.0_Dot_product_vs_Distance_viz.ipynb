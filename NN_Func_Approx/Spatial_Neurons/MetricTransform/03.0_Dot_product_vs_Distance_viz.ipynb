{
 "cells": [
  {
   "cell_type": "code",
   "execution_count": 1,
   "metadata": {},
   "outputs": [],
   "source": [
    "import numpy as np\n",
    "import copy\n",
    "import matplotlib\n",
    "import matplotlib.pyplot as plt\n",
    "from mpl_toolkits.mplot3d import Axes3D"
   ]
  },
  {
   "cell_type": "code",
   "execution_count": 2,
   "metadata": {},
   "outputs": [],
   "source": [
    "import torch\n",
    "import torch.nn as nn\n",
    "import dtnnlib as dtnn\n",
    "# import resnet_cifar"
   ]
  },
  {
   "cell_type": "code",
   "execution_count": 4,
   "metadata": {},
   "outputs": [],
   "source": [
    "import scipy.stats as st"
   ]
  },
  {
   "cell_type": "markdown",
   "metadata": {},
   "source": [
    "## Image Dot Product"
   ]
  },
  {
   "cell_type": "code",
   "execution_count": 62,
   "metadata": {},
   "outputs": [],
   "source": [
    "W = np.ones((5,5))"
   ]
  },
  {
   "cell_type": "code",
   "execution_count": 63,
   "metadata": {},
   "outputs": [],
   "source": [
    "def gkern(kernlen=21, nsig=3):\n",
    "    \"\"\"Returns a 2D Gaussian kernel.\"\"\"\n",
    "\n",
    "    x = np.linspace(-nsig, nsig, kernlen+1)\n",
    "    kern1d = np.diff(st.norm.cdf(x))\n",
    "    kern2d = np.outer(kern1d, kern1d)\n",
    "    return kern2d/kern2d.sum()"
   ]
  },
  {
   "cell_type": "code",
   "execution_count": 64,
   "metadata": {},
   "outputs": [],
   "source": [
    "G = gkern(5, 2.5)\n",
    "G = G/G.max()"
   ]
  },
  {
   "cell_type": "code",
   "execution_count": 65,
   "metadata": {},
   "outputs": [
    {
     "data": {
      "text/plain": [
       "array([[0.02504279, 0.09989847, 0.15824913, 0.09989847, 0.02504279],\n",
       "       [0.09989847, 0.39850617, 0.63127345, 0.39850617, 0.09989847],\n",
       "       [0.15824913, 0.63127345, 1.        , 0.63127345, 0.15824913],\n",
       "       [0.09989847, 0.39850617, 0.63127345, 0.39850617, 0.09989847],\n",
       "       [0.02504279, 0.09989847, 0.15824913, 0.09989847, 0.02504279]])"
      ]
     },
     "execution_count": 65,
     "metadata": {},
     "output_type": "execute_result"
    }
   ],
   "source": [
    "G"
   ]
  },
  {
   "cell_type": "code",
   "execution_count": 66,
   "metadata": {},
   "outputs": [
    {
     "data": {
      "image/png": "[encoded data removed]",
      "text/plain": [
       "<Figure size 432x288 with 1 Axes>"
      ]
     },
     "metadata": {
      "needs_background": "light"
     },
     "output_type": "display_data"
    },
    {
     "data": {
      "image/png": "[encoded data removed]",
      "text/plain": [
       "<Figure size 432x288 with 1 Axes>"
      ]
     },
     "metadata": {
      "needs_background": "light"
     },
     "output_type": "display_data"
    }
   ],
   "source": [
    "plt.imshow(G, vmin=0, vmax=1)\n",
    "plt.show()\n",
    "plt.imshow(W, vmin=0, vmax=1)\n",
    "plt.show()"
   ]
  },
  {
   "cell_type": "code",
   "execution_count": 67,
   "metadata": {},
   "outputs": [],
   "source": [
    "alphas = np.linspace(0, 1, num=10)"
   ]
  },
  {
   "cell_type": "markdown",
   "metadata": {},
   "source": [
    "## For dot products"
   ]
  },
  {
   "cell_type": "code",
   "execution_count": 99,
   "metadata": {},
   "outputs": [],
   "source": [
    "### From zeros to G\n",
    "dot_prods0 = []\n",
    "for alpha in alphas:\n",
    "    A = alpha*G #+ (1-alpha)*W\n",
    "    dp = (A*G).sum() ### calculating the dot product\n",
    "#     dp = dp/np.linalg.norm(A)\n",
    "    dot_prods0.append(dp)"
   ]
  },
  {
   "cell_type": "code",
   "execution_count": 100,
   "metadata": {},
   "outputs": [
    {
     "data": {
      "text/plain": [
       "[0.0,\n",
       " 0.37908563424140523,\n",
       " 0.7581712684828105,\n",
       " 1.1372569027242156,\n",
       " 1.516342536965621,\n",
       " 1.8954281712070262,\n",
       " 2.2745138054484313,\n",
       " 2.6535994396898364,\n",
       " 3.032685073931242,\n",
       " 3.4117707081726465]"
      ]
     },
     "execution_count": 100,
     "metadata": {},
     "output_type": "execute_result"
    }
   ],
   "source": [
    "dot_prods0"
   ]
  },
  {
   "cell_type": "code",
   "execution_count": 101,
   "metadata": {},
   "outputs": [],
   "source": [
    "### From G to ones\n",
    "dot_prods1 = []\n",
    "for alpha in alphas:\n",
    "    A = alpha*W + (1-alpha)*G\n",
    "    dp = (A*G).sum() ### calculating the dot product    \n",
    "#     dp = dp/np.linalg.norm(A)\n",
    "    dot_prods1.append(dp)"
   ]
  },
  {
   "cell_type": "code",
   "execution_count": 102,
   "metadata": {},
   "outputs": [
    {
     "data": {
      "text/plain": [
       "[3.4117707081726465,\n",
       " 3.771737735440785,\n",
       " 4.131704762708924,\n",
       " 4.491671789977063,\n",
       " 4.851638817245202,\n",
       " 5.21160584451334,\n",
       " 5.571572871781479,\n",
       " 5.931539899049617,\n",
       " 6.291506926317756,\n",
       " 6.651473953585895]"
      ]
     },
     "execution_count": 102,
     "metadata": {},
     "output_type": "execute_result"
    }
   ],
   "source": [
    "dot_prods1"
   ]
  },
  {
   "cell_type": "code",
   "execution_count": 103,
   "metadata": {},
   "outputs": [
    {
     "data": {
      "text/plain": [
       "[<matplotlib.lines.Line2D at 0x7fdf5ea8cc90>]"
      ]
     },
     "execution_count": 103,
     "metadata": {},
     "output_type": "execute_result"
    },
    {
     "data": {
      "image/png": "[encoded data removed]",
      "text/plain": [
       "<Figure size 432x288 with 1 Axes>"
      ]
     },
     "metadata": {
      "needs_background": "light"
     },
     "output_type": "display_data"
    }
   ],
   "source": [
    "plt.plot(alphas, dot_prods0, marker='.')\n",
    "plt.plot(alphas+1, dot_prods1, marker='.')"
   ]
  },
  {
   "cell_type": "markdown",
   "metadata": {},
   "source": [
    "## For euclidean distance"
   ]
  },
  {
   "cell_type": "code",
   "execution_count": 104,
   "metadata": {},
   "outputs": [],
   "source": [
    "### From zeros to G\n",
    "dists0 = []\n",
    "for alpha in alphas:\n",
    "    A = alpha*G #+ (1-alpha)*W\n",
    "    d = np.linalg.norm((A-G).reshape(-1), ord=2)  ### calculating the euclidean_distance\n",
    "    dists0.append(d)\n",
    "\n",
    "### From G to ones\n",
    "dists1 = []\n",
    "for alpha in alphas:\n",
    "    A = alpha*W + (1-alpha)*G\n",
    "    d = np.linalg.norm((A-G).reshape(-1), ord=2)  ### calculating the euclidean_distance\n",
    "    dists1.append(d)"
   ]
  },
  {
   "cell_type": "code",
   "execution_count": 105,
   "metadata": {},
   "outputs": [
    {
     "data": {
      "text/plain": [
       "[<matplotlib.lines.Line2D at 0x7fdf5ea224d0>]"
      ]
     },
     "execution_count": 105,
     "metadata": {},
     "output_type": "execute_result"
    },
    {
     "data": {
      "image/png": "[encoded data removed]",
      "text/plain": [
       "<Figure size 432x288 with 1 Axes>"
      ]
     },
     "metadata": {
      "needs_background": "light"
     },
     "output_type": "display_data"
    }
   ],
   "source": [
    "plt.plot(alphas, dists0, marker='o')\n",
    "plt.plot(alphas+1, dists1, marker='o')"
   ]
  },
  {
   "cell_type": "markdown",
   "metadata": {},
   "source": [
    "## For angle / cos(theta)"
   ]
  },
  {
   "cell_type": "code",
   "execution_count": 124,
   "metadata": {},
   "outputs": [
    {
     "name": "stderr",
     "output_type": "stream",
     "text": [
      "/home/tsuman/Program_Files/Python/miniconda3/lib/python3.7/site-packages/ipykernel_launcher.py:6: RuntimeWarning: invalid value encountered in double_scalars\n",
      "  \n"
     ]
    }
   ],
   "source": [
    "### From zeros to G\n",
    "dists0 = []\n",
    "for alpha in alphas:\n",
    "    A = alpha*G #+ (1-alpha)*W\n",
    "    u, v = A.reshape(-1), G.reshape(-1)\n",
    "    d = np.dot(u,v)/(np.linalg.norm(u)*np.linalg.norm(v)) ## calculating cosine angle\n",
    "#     d = np.dot(u,v)/np.linalg.norm(u)/np.linalg.norm(v) ## calculating cosine angle\n",
    "    d = np.clip(d, -1, 1)\n",
    "    dists0.append(d)\n",
    "\n",
    "### From G to ones\n",
    "dists1 = []\n",
    "for alpha in alphas:\n",
    "    A = alpha*W + (1-alpha)*G\n",
    "    u, v = A.reshape(-1), G.reshape(-1)\n",
    "    d = np.dot(u,v)/(np.linalg.norm(u)*np.linalg.norm(v)+1e-15) ## calculating cosine angle\n",
    "    d = np.clip(d, -1, 1)\n",
    "    dists1.append(d)"
   ]
  },
  {
   "cell_type": "code",
   "execution_count": 125,
   "metadata": {},
   "outputs": [
    {
     "data": {
      "text/plain": [
       "[<matplotlib.lines.Line2D at 0x7fdf5e475f50>]"
      ]
     },
     "execution_count": 125,
     "metadata": {},
     "output_type": "execute_result"
    },
    {
     "data": {
      "image/png": "[encoded data removed]",
      "text/plain": [
       "<Figure size 432x288 with 1 Axes>"
      ]
     },
     "metadata": {
      "needs_background": "light"
     },
     "output_type": "display_data"
    }
   ],
   "source": [
    "plt.plot(alphas, dists0, marker='o')\n",
    "plt.plot(alphas+1, dists1, marker='o')"
   ]
  },
  {
   "cell_type": "markdown",
   "metadata": {},
   "source": [
    "## For 2D vector, compare dot product to distance"
   ]
  },
  {
   "cell_type": "code",
   "execution_count": 126,
   "metadata": {},
   "outputs": [],
   "source": [
    "a = np.array([1, 0.1])\n",
    "b = np.array([\n",
    "    [1.1, 0.2],\n",
    "    [1.1, 0.9]\n",
    "])"
   ]
  },
  {
   "cell_type": "code",
   "execution_count": 130,
   "metadata": {},
   "outputs": [
    {
     "data": {
      "text/plain": [
       "array([1.12, 1.19])"
      ]
     },
     "execution_count": 130,
     "metadata": {},
     "output_type": "execute_result"
    }
   ],
   "source": [
    "a@b.T"
   ]
  },
  {
   "cell_type": "code",
   "execution_count": 132,
   "metadata": {},
   "outputs": [
    {
     "data": {
      "text/plain": [
       "array([ 2.1, -0.9])"
      ]
     },
     "execution_count": 132,
     "metadata": {},
     "output_type": "execute_result"
    }
   ],
   "source": [
    "### slope of a:\n",
    "# _m = a[1]/a[0]\n",
    "### slope of perpendicular line\n",
    "# _tm = -1/_m\n",
    "_tm = -a[0]/a[1]\n",
    "### equation of line passing through point(a) and slope _tm\n",
    "x = np.array([0.8, 1.1])\n",
    "_y = _tm*(x-a[0])+a[1]\n",
    "_y"
   ]
  },
  {
   "cell_type": "code",
   "execution_count": 139,
   "metadata": {},
   "outputs": [
    {
     "data": {
      "image/png": "[encoded data removed]",
      "text/plain": [
       "<Figure size 432x288 with 1 Axes>"
      ]
     },
     "metadata": {
      "needs_background": "light"
     },
     "output_type": "display_data"
    }
   ],
   "source": [
    "plt.arrow(0, 0, a[0], a[1], width=0.01, facecolor='r')\n",
    "plt.arrow(0, 0, b[0,0], b[0,1], width=0.01, facecolor='b')\n",
    "plt.arrow(0, 0, b[1,0], b[1,1], width=0.01, facecolor='g')\n",
    "\n",
    "plt.plot(x, _y)\n",
    "\n",
    "plt.axis('equal')\n",
    "# plt.xlim(-0.1, 1.4)\n",
    "plt.ylim(-0.1, 1.0)\n",
    "\n",
    "plt.show()"
   ]
  },
  {
   "cell_type": "code",
   "execution_count": null,
   "metadata": {},
   "outputs": [],
   "source": [
    "-1/"
   ]
  }
 ],
 "metadata": {
  "kernelspec": {
   "display_name": "Python 3",
   "language": "python",
   "name": "python3"
  },
  "language_info": {
   "codemirror_mode": {
    "name": "ipython",
    "version": 3
   },
   "file_extension": ".py",
   "mimetype": "text/x-python",
   "name": "python",
   "nbconvert_exporter": "python",
   "pygments_lexer": "ipython3",
   "version": "3.7.4"
  }
 },
 "nbformat": 4,
 "nbformat_minor": 4
}
