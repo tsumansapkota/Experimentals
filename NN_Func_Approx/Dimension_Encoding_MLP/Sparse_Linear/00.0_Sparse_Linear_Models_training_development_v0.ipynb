{
 "cells": [
  {
   "cell_type": "code",
   "execution_count": 25,
   "id": "6877e507",
   "metadata": {},
   "outputs": [],
   "source": [
    "import torch\n",
    "import torch.nn as nn\n",
    "import numpy as np\n",
    "import matplotlib.pyplot as plt"
   ]
  },
  {
   "cell_type": "code",
   "execution_count": 26,
   "id": "95c359ed",
   "metadata": {},
   "outputs": [],
   "source": [
    "from tqdm import tqdm\n",
    "import random, sys, os"
   ]
  },
  {
   "cell_type": "code",
   "execution_count": 27,
   "id": "3ffd120c",
   "metadata": {},
   "outputs": [],
   "source": [
    "import sparse_linear_lib as sll"
   ]
  },
  {
   "cell_type": "code",
   "execution_count": 28,
   "id": "e9acdcfe",
   "metadata": {},
   "outputs": [],
   "source": [
    "device = torch.device(\"cuda:0\")"
   ]
  },
  {
   "cell_type": "markdown",
   "id": "f46fe710",
   "metadata": {},
   "source": [
    "## Pair Linear approximation"
   ]
  },
  {
   "cell_type": "code",
   "execution_count": 29,
   "id": "e5e6388e",
   "metadata": {},
   "outputs": [],
   "source": [
    "N = 256\n",
    "seeds = [147, 258, 369, 321, 654, 987, 741, 852, 963, 159]\n",
    "SEED = seeds[0]"
   ]
  },
  {
   "cell_type": "code",
   "execution_count": 30,
   "id": "127eb599",
   "metadata": {},
   "outputs": [],
   "source": [
    "torch.manual_seed(SEED)\n",
    "## A is a target matrix\n",
    "# A = torch.randn(N, N).to(device)\n",
    "A = torch.rand(N, N).to(device)*2-1 "
   ]
  },
  {
   "cell_type": "code",
   "execution_count": 31,
   "id": "16233785",
   "metadata": {},
   "outputs": [],
   "source": [
    "X = torch.eye(N).to(device)"
   ]
  },
  {
   "cell_type": "code",
   "execution_count": 32,
   "id": "3ec6a3d3",
   "metadata": {},
   "outputs": [],
   "source": [
    "model = sll.PairLinear_MixerBlock(N, N).to(device)"
   ]
  },
  {
   "cell_type": "code",
   "execution_count": 33,
   "id": "cd90103c",
   "metadata": {},
   "outputs": [
    {
     "data": {
      "text/plain": [
       "tensor([[1., 0., 0.,  ..., 0., 0., 0.],\n",
       "        [0., 1., 0.,  ..., 0., 0., 0.],\n",
       "        [0., 0., 1.,  ..., 0., 0., 0.],\n",
       "        ...,\n",
       "        [0., 0., 0.,  ..., 1., 0., 0.],\n",
       "        [0., 0., 0.,  ..., 0., 1., 0.],\n",
       "        [0., 0., 0.,  ..., 0., 0., 1.]], device='cuda:0',\n",
       "       grad_fn=<ViewBackward0>)"
      ]
     },
     "execution_count": 33,
     "metadata": {},
     "output_type": "execute_result"
    }
   ],
   "source": [
    "model(X)"
   ]
  },
  {
   "cell_type": "code",
   "execution_count": 34,
   "id": "0e93af7a",
   "metadata": {},
   "outputs": [],
   "source": [
    "optimizer = torch.optim.Adam(model.parameters(), lr=0.001)\n",
    "# optimizer = torch.optim.SGD(model.parameters(), lr=0.1)\n",
    "\n",
    "mse = nn.MSELoss()\n",
    "def mae(A, B):\n",
    "    return torch.abs(A-B).mean()\n",
    "\n",
    "criterion = mse\n",
    "# criterion = mae"
   ]
  },
  {
   "cell_type": "code",
   "execution_count": 12,
   "id": "38d7e855",
   "metadata": {},
   "outputs": [
    {
     "name": "stdout",
     "output_type": "stream",
     "text": [
      "The MSE loss is : 0.33718395233154297\n",
      "The MSE loss is : 0.31270721554756165\n"
     ]
    },
    {
     "ename": "KeyboardInterrupt",
     "evalue": "",
     "output_type": "error",
     "traceback": [
      "\u001b[0;31m---------------------------------------------------------------------------\u001b[0m",
      "\u001b[0;31mKeyboardInterrupt\u001b[0m                         Traceback (most recent call last)",
      "Input \u001b[0;32mIn [12]\u001b[0m, in \u001b[0;36m<cell line: 2>\u001b[0;34m()\u001b[0m\n\u001b[1;32m      4\u001b[0m loss \u001b[38;5;241m=\u001b[39m criterion(out, A)\n\u001b[1;32m      5\u001b[0m optimizer\u001b[38;5;241m.\u001b[39mzero_grad()\n\u001b[0;32m----> 6\u001b[0m \u001b[43mloss\u001b[49m\u001b[38;5;241;43m.\u001b[39;49m\u001b[43mbackward\u001b[49m\u001b[43m(\u001b[49m\u001b[43m)\u001b[49m\n\u001b[1;32m      7\u001b[0m optimizer\u001b[38;5;241m.\u001b[39mstep()\n\u001b[1;32m      8\u001b[0m \u001b[38;5;28;01mif\u001b[39;00m i\u001b[38;5;241m%\u001b[39m\u001b[38;5;241m1000\u001b[39m \u001b[38;5;241m==\u001b[39m \u001b[38;5;241m0\u001b[39m:\n",
      "File \u001b[0;32m~/All_Files/Program_Files/miniconda/lib/python3.9/site-packages/torch/_tensor.py:363\u001b[0m, in \u001b[0;36mTensor.backward\u001b[0;34m(self, gradient, retain_graph, create_graph, inputs)\u001b[0m\n\u001b[1;32m    354\u001b[0m \u001b[38;5;28;01mif\u001b[39;00m has_torch_function_unary(\u001b[38;5;28mself\u001b[39m):\n\u001b[1;32m    355\u001b[0m     \u001b[38;5;28;01mreturn\u001b[39;00m handle_torch_function(\n\u001b[1;32m    356\u001b[0m         Tensor\u001b[38;5;241m.\u001b[39mbackward,\n\u001b[1;32m    357\u001b[0m         (\u001b[38;5;28mself\u001b[39m,),\n\u001b[0;32m   (...)\u001b[0m\n\u001b[1;32m    361\u001b[0m         create_graph\u001b[38;5;241m=\u001b[39mcreate_graph,\n\u001b[1;32m    362\u001b[0m         inputs\u001b[38;5;241m=\u001b[39minputs)\n\u001b[0;32m--> 363\u001b[0m \u001b[43mtorch\u001b[49m\u001b[38;5;241;43m.\u001b[39;49m\u001b[43mautograd\u001b[49m\u001b[38;5;241;43m.\u001b[39;49m\u001b[43mbackward\u001b[49m\u001b[43m(\u001b[49m\u001b[38;5;28;43mself\u001b[39;49m\u001b[43m,\u001b[49m\u001b[43m \u001b[49m\u001b[43mgradient\u001b[49m\u001b[43m,\u001b[49m\u001b[43m \u001b[49m\u001b[43mretain_graph\u001b[49m\u001b[43m,\u001b[49m\u001b[43m \u001b[49m\u001b[43mcreate_graph\u001b[49m\u001b[43m,\u001b[49m\u001b[43m \u001b[49m\u001b[43minputs\u001b[49m\u001b[38;5;241;43m=\u001b[39;49m\u001b[43minputs\u001b[49m\u001b[43m)\u001b[49m\n",
      "File \u001b[0;32m~/All_Files/Program_Files/miniconda/lib/python3.9/site-packages/torch/autograd/__init__.py:173\u001b[0m, in \u001b[0;36mbackward\u001b[0;34m(tensors, grad_tensors, retain_graph, create_graph, grad_variables, inputs)\u001b[0m\n\u001b[1;32m    168\u001b[0m     retain_graph \u001b[38;5;241m=\u001b[39m create_graph\n\u001b[1;32m    170\u001b[0m \u001b[38;5;66;03m# The reason we repeat same the comment below is that\u001b[39;00m\n\u001b[1;32m    171\u001b[0m \u001b[38;5;66;03m# some Python versions print out the first line of a multi-line function\u001b[39;00m\n\u001b[1;32m    172\u001b[0m \u001b[38;5;66;03m# calls in the traceback and some print out the last line\u001b[39;00m\n\u001b[0;32m--> 173\u001b[0m \u001b[43mVariable\u001b[49m\u001b[38;5;241;43m.\u001b[39;49m\u001b[43m_execution_engine\u001b[49m\u001b[38;5;241;43m.\u001b[39;49m\u001b[43mrun_backward\u001b[49m\u001b[43m(\u001b[49m\u001b[43m  \u001b[49m\u001b[38;5;66;43;03m# Calls into the C++ engine to run the backward pass\u001b[39;49;00m\n\u001b[1;32m    174\u001b[0m \u001b[43m    \u001b[49m\u001b[43mtensors\u001b[49m\u001b[43m,\u001b[49m\u001b[43m \u001b[49m\u001b[43mgrad_tensors_\u001b[49m\u001b[43m,\u001b[49m\u001b[43m \u001b[49m\u001b[43mretain_graph\u001b[49m\u001b[43m,\u001b[49m\u001b[43m \u001b[49m\u001b[43mcreate_graph\u001b[49m\u001b[43m,\u001b[49m\u001b[43m \u001b[49m\u001b[43minputs\u001b[49m\u001b[43m,\u001b[49m\n\u001b[1;32m    175\u001b[0m \u001b[43m    \u001b[49m\u001b[43mallow_unreachable\u001b[49m\u001b[38;5;241;43m=\u001b[39;49m\u001b[38;5;28;43;01mTrue\u001b[39;49;00m\u001b[43m,\u001b[49m\u001b[43m \u001b[49m\u001b[43maccumulate_grad\u001b[49m\u001b[38;5;241;43m=\u001b[39;49m\u001b[38;5;28;43;01mTrue\u001b[39;49;00m\u001b[43m)\u001b[49m\n",
      "\u001b[0;31mKeyboardInterrupt\u001b[0m: "
     ]
    }
   ],
   "source": [
    "### forward propagation\n",
    "for i in range(20000):\n",
    "    out = model.forward(X)\n",
    "    loss = criterion(out, A)\n",
    "    optimizer.zero_grad()\n",
    "    loss.backward()\n",
    "    optimizer.step()\n",
    "    if i%1000 == 0:\n",
    "        print(f\"The MSE loss is : {float(mse(out,A))}\")\n",
    "#         print(f\"The MAE loss is : {float(mae(out,A))}\")\n",
    "#         diff = (out.data-A).abs()        \n",
    "#         plt.hist(diff.cpu().numpy().reshape(-1), bins=100)\n",
    "#         plt.show()"
   ]
  },
  {
   "cell_type": "code",
   "execution_count": null,
   "id": "bf43f17d",
   "metadata": {},
   "outputs": [],
   "source": [
    "torch.det(A)"
   ]
  },
  {
   "cell_type": "code",
   "execution_count": null,
   "id": "66cb86d7",
   "metadata": {},
   "outputs": [],
   "source": [
    "torch.det(out.data)"
   ]
  },
  {
   "cell_type": "code",
   "execution_count": null,
   "id": "0f109789",
   "metadata": {},
   "outputs": [],
   "source": [
    "diff = (out.data-A).abs()"
   ]
  },
  {
   "cell_type": "code",
   "execution_count": null,
   "id": "731ac488",
   "metadata": {},
   "outputs": [],
   "source": [
    "diff.min(), diff.max()"
   ]
  },
  {
   "cell_type": "code",
   "execution_count": null,
   "id": "7d1eba67",
   "metadata": {},
   "outputs": [],
   "source": [
    "diff.mean(), diff.std()"
   ]
  },
  {
   "cell_type": "code",
   "execution_count": null,
   "id": "d0bc6902",
   "metadata": {},
   "outputs": [],
   "source": [
    "plt.hist(diff.cpu().numpy().reshape(-1), bins=100)\n",
    "plt.show()"
   ]
  },
  {
   "cell_type": "markdown",
   "id": "0d2454c7",
   "metadata": {},
   "source": [
    "## Approximation using SVD / Eigen"
   ]
  },
  {
   "cell_type": "code",
   "execution_count": null,
   "id": "5ae46847",
   "metadata": {},
   "outputs": [],
   "source": [
    "U, S, V = torch.svd(A)"
   ]
  },
  {
   "cell_type": "code",
   "execution_count": null,
   "id": "0746896d",
   "metadata": {},
   "outputs": [],
   "source": [
    "# _m = int(np.ceil(np.sqrt(N)))\n",
    "_m = N // 2\n",
    "_m"
   ]
  },
  {
   "cell_type": "code",
   "execution_count": null,
   "id": "5bb2da6f",
   "metadata": {},
   "outputs": [],
   "source": [
    "n_params = sum(p.numel() for p in model.parameters())\n",
    "_m = int(np.ceil(n_params/(U.shape[0]*2)))\n",
    "_m"
   ]
  },
  {
   "cell_type": "code",
   "execution_count": null,
   "id": "8c58cb29",
   "metadata": {},
   "outputs": [],
   "source": [
    "_S = S.clone()\n",
    "_S[_m:] *= 0\n",
    "_S"
   ]
  },
  {
   "cell_type": "code",
   "execution_count": null,
   "id": "30b546b7",
   "metadata": {},
   "outputs": [],
   "source": [
    "out = torch.mm(torch.mm(U, torch.diag(_S)), V.t())\n",
    "mse(out, A)"
   ]
  },
  {
   "cell_type": "code",
   "execution_count": null,
   "id": "92c505e4",
   "metadata": {},
   "outputs": [],
   "source": [
    "diff = (out.data-A).abs()        \n",
    "plt.hist(diff.cpu().numpy().reshape(-1), bins=100)\n",
    "plt.show()"
   ]
  },
  {
   "cell_type": "code",
   "execution_count": null,
   "id": "78597d1d",
   "metadata": {},
   "outputs": [],
   "source": [
    "diff.min(), diff.max()"
   ]
  },
  {
   "cell_type": "code",
   "execution_count": null,
   "id": "0472ea78",
   "metadata": {},
   "outputs": [],
   "source": [
    "diff.mean(), diff.std()"
   ]
  },
  {
   "cell_type": "code",
   "execution_count": null,
   "id": "f6ddfbb0",
   "metadata": {},
   "outputs": [],
   "source": []
  },
  {
   "cell_type": "code",
   "execution_count": null,
   "id": "5eca974d",
   "metadata": {},
   "outputs": [],
   "source": [
    "U.shape[0]*_m*2"
   ]
  },
  {
   "cell_type": "code",
   "execution_count": null,
   "id": "44823047",
   "metadata": {},
   "outputs": [],
   "source": [
    "torch.numel(A)"
   ]
  },
  {
   "cell_type": "code",
   "execution_count": null,
   "id": "fc16733b",
   "metadata": {},
   "outputs": [],
   "source": [
    "## for 2x2 linear\n",
    "print(\"number of params: \", sum(p.numel() for p in model.parameters()))"
   ]
  },
  {
   "cell_type": "markdown",
   "id": "88a9bafa",
   "metadata": {},
   "source": [
    "## Approximating Low Rank"
   ]
  },
  {
   "cell_type": "code",
   "execution_count": null,
   "id": "8380369f",
   "metadata": {},
   "outputs": [],
   "source": [
    "model = nn.Sequential(nn.Linear(N, _m, bias=False), nn.Linear(_m, N, bias=False)).to(device)\n",
    "# model = nn.Linear(N, N, bias=False).to(device) ## it can easily approximate to ~ 0 error"
   ]
  },
  {
   "cell_type": "code",
   "execution_count": null,
   "id": "462a3d8b",
   "metadata": {},
   "outputs": [],
   "source": [
    "model(X)"
   ]
  },
  {
   "cell_type": "code",
   "execution_count": null,
   "id": "8a2d9c6a",
   "metadata": {},
   "outputs": [],
   "source": [
    "print(\"number of params: \", sum(p.numel() for p in model.parameters()))"
   ]
  },
  {
   "cell_type": "code",
   "execution_count": null,
   "id": "eaaa0b6a",
   "metadata": {},
   "outputs": [],
   "source": [
    "optimizer = torch.optim.Adam(model.parameters(), lr=0.001)\n",
    "# optimizer = torch.optim.SGD(model.parameters(), lr=0.1)"
   ]
  },
  {
   "cell_type": "code",
   "execution_count": null,
   "id": "d3274a87",
   "metadata": {},
   "outputs": [],
   "source": [
    "### forward propagation\n",
    "for i in range(20000):\n",
    "    out = model.forward(X)\n",
    "    loss = criterion(out, A)\n",
    "    optimizer.zero_grad()\n",
    "    loss.backward()\n",
    "    optimizer.step()\n",
    "    if i%1000 == 0:\n",
    "        print(f\"The MSE loss is : {float(mse(out,A))}\")\n",
    "#         print(f\"The MAE loss is : {float(mae(out,A))}\")\n",
    "#         diff = (out.data-A).abs()        \n",
    "#         plt.hist(diff.cpu().numpy().reshape(-1), bins=100)\n",
    "#         plt.show()"
   ]
  },
  {
   "cell_type": "code",
   "execution_count": null,
   "id": "1c18ad45",
   "metadata": {},
   "outputs": [],
   "source": [
    "torch.det(A)"
   ]
  },
  {
   "cell_type": "code",
   "execution_count": null,
   "id": "348d1cca",
   "metadata": {},
   "outputs": [],
   "source": [
    "torch.det(out.data)"
   ]
  },
  {
   "cell_type": "code",
   "execution_count": null,
   "id": "3e9e5add",
   "metadata": {},
   "outputs": [],
   "source": [
    "diff = (out.data-A).abs()"
   ]
  },
  {
   "cell_type": "code",
   "execution_count": null,
   "id": "64d608ad",
   "metadata": {},
   "outputs": [],
   "source": [
    "diff.min(), diff.max()"
   ]
  },
  {
   "cell_type": "code",
   "execution_count": null,
   "id": "f0097179",
   "metadata": {},
   "outputs": [],
   "source": [
    "diff.mean(), diff.std()"
   ]
  },
  {
   "cell_type": "code",
   "execution_count": null,
   "id": "faf7230b",
   "metadata": {},
   "outputs": [],
   "source": [
    "plt.hist(diff.cpu().numpy().reshape(-1), bins=100)\n",
    "plt.show()"
   ]
  },
  {
   "cell_type": "markdown",
   "id": "17f609ae",
   "metadata": {},
   "source": [
    "### Testing Factorized Addition of 2x2 Factorization"
   ]
  },
  {
   "cell_type": "code",
   "execution_count": null,
   "id": "026b2da8",
   "metadata": {},
   "outputs": [],
   "source": [
    "class Add_PairLinears(nn.Module):\n",
    "    \n",
    "    def __init__(self, input_dim, num_adds):\n",
    "        super().__init__()\n",
    "        self.pair_mixers = []\n",
    "        self.perm_indices = []\n",
    "        for i in range(num_adds):\n",
    "            m = sll.PairLinear_MixerBlock(input_dim, input_dim)\n",
    "            self.pair_mixers.append(m)\n",
    "            if i > 0:\n",
    "                rm = torch.randperm(input_dim)\n",
    "                self.perm_indices.append(rm)\n",
    "                \n",
    "        self.pair_mixers = nn.ModuleList(self.pair_mixers)\n",
    "        \n",
    "    def forward(self, x):\n",
    "        y = torch.zeros_like(x)\n",
    "        for i, m in enumerate(self.pair_mixers):\n",
    "            if i > 0:\n",
    "                _x = x[:, self.perm_indices[i-1]]\n",
    "            else:\n",
    "                _x = x\n",
    "                \n",
    "            y += m(_x)\n",
    "        return y"
   ]
  },
  {
   "cell_type": "code",
   "execution_count": null,
   "id": "50d30ea9",
   "metadata": {},
   "outputs": [],
   "source": [
    "model = Add_PairLinears(N, 4).to(device)"
   ]
  },
  {
   "cell_type": "code",
   "execution_count": null,
   "id": "5d6dd591",
   "metadata": {},
   "outputs": [],
   "source": [
    "model"
   ]
  },
  {
   "cell_type": "code",
   "execution_count": null,
   "id": "46cf9849",
   "metadata": {},
   "outputs": [],
   "source": [
    "model(X)"
   ]
  },
  {
   "cell_type": "code",
   "execution_count": null,
   "id": "2c17d58c",
   "metadata": {},
   "outputs": [],
   "source": [
    "optimizer = torch.optim.Adam(model.parameters(), lr=0.01)\n",
    "# optimizer = torch.optim.SGD(model.parameters(), lr=0.1)"
   ]
  },
  {
   "cell_type": "code",
   "execution_count": null,
   "id": "ab82ac97",
   "metadata": {},
   "outputs": [],
   "source": [
    "### forward propagation\n",
    "for i in range(20000):\n",
    "    out = model.forward(X)\n",
    "    loss = criterion(out, A)\n",
    "    optimizer.zero_grad()\n",
    "    loss.backward()\n",
    "    optimizer.step()\n",
    "    if i%1000 == 0:\n",
    "        print(f\"The MSE loss is : {float(mse(out,A))}\")\n",
    "#         print(f\"The MAE loss is : {float(mae(out,A))}\")\n",
    "#         diff = (out.data-A).abs()        \n",
    "#         plt.hist(diff.cpu().numpy().reshape(-1), bins=100)\n",
    "#         plt.show()"
   ]
  },
  {
   "cell_type": "code",
   "execution_count": null,
   "id": "1d30063f",
   "metadata": {},
   "outputs": [],
   "source": [
    "'''\n",
    "The MSE loss is : 0.32291921973228455\n",
    "'''"
   ]
  },
  {
   "cell_type": "code",
   "execution_count": null,
   "id": "b55842c8",
   "metadata": {},
   "outputs": [],
   "source": [
    "torch.det(A)"
   ]
  },
  {
   "cell_type": "code",
   "execution_count": null,
   "id": "6744b140",
   "metadata": {},
   "outputs": [],
   "source": [
    "torch.det(out.data)"
   ]
  },
  {
   "cell_type": "code",
   "execution_count": null,
   "id": "5457543f",
   "metadata": {},
   "outputs": [],
   "source": [
    "diff = (out.data-A).abs()"
   ]
  },
  {
   "cell_type": "code",
   "execution_count": null,
   "id": "785ef425",
   "metadata": {},
   "outputs": [],
   "source": [
    "diff.min(), diff.max()"
   ]
  },
  {
   "cell_type": "code",
   "execution_count": null,
   "id": "8047ac0e",
   "metadata": {},
   "outputs": [],
   "source": [
    "diff.mean(), diff.std()"
   ]
  },
  {
   "cell_type": "code",
   "execution_count": null,
   "id": "7e154ae3",
   "metadata": {},
   "outputs": [],
   "source": [
    "plt.hist(diff.cpu().numpy().reshape(-1), bins=100)\n",
    "plt.show()"
   ]
  },
  {
   "cell_type": "code",
   "execution_count": null,
   "id": "9d298cc7",
   "metadata": {},
   "outputs": [],
   "source": []
  },
  {
   "cell_type": "markdown",
   "id": "12c21e62",
   "metadata": {},
   "source": [
    "### Testing Factorized Stacking of 2x2 Factorization"
   ]
  },
  {
   "cell_type": "code",
   "execution_count": null,
   "id": "87717a48",
   "metadata": {},
   "outputs": [],
   "source": [
    "class Stack_PairLinears(nn.Module):\n",
    "    \n",
    "    def __init__(self, input_dim, num_adds):\n",
    "        super().__init__()\n",
    "        self.pair_mixers = []\n",
    "        self.perm_indices = []\n",
    "        for i in range(num_adds):\n",
    "            m = sll.PairLinear_MixerBlock(input_dim, input_dim)\n",
    "            self.pair_mixers.append(m)\n",
    "            if i > 0:\n",
    "                rm = torch.randperm(input_dim)\n",
    "                self.perm_indices.append(rm)\n",
    "                \n",
    "        self.pair_mixers = nn.ModuleList(self.pair_mixers)\n",
    "        \n",
    "    def forward(self, x):\n",
    "        for i, m in enumerate(self.pair_mixers):\n",
    "            if i == 0:\n",
    "                x = m(x)\n",
    "            else:\n",
    "                x = m(x[:, self.perm_indices[i-1]])\n",
    "        return x"
   ]
  },
  {
   "cell_type": "code",
   "execution_count": null,
   "id": "0b15e977",
   "metadata": {},
   "outputs": [],
   "source": [
    "model = Add_PairLinears(N, 4).to(device)"
   ]
  },
  {
   "cell_type": "code",
   "execution_count": null,
   "id": "2c378164",
   "metadata": {},
   "outputs": [],
   "source": [
    "model"
   ]
  },
  {
   "cell_type": "code",
   "execution_count": null,
   "id": "bf56d47c",
   "metadata": {},
   "outputs": [],
   "source": [
    "model(X)"
   ]
  },
  {
   "cell_type": "code",
   "execution_count": null,
   "id": "49716924",
   "metadata": {},
   "outputs": [],
   "source": [
    "optimizer = torch.optim.Adam(model.parameters(), lr=0.01)\n",
    "# optimizer = torch.optim.SGD(model.parameters(), lr=0.1)"
   ]
  },
  {
   "cell_type": "code",
   "execution_count": null,
   "id": "36d802e1",
   "metadata": {},
   "outputs": [],
   "source": [
    "### forward propagation\n",
    "for i in range(20000):\n",
    "    out = model.forward(X)\n",
    "    loss = criterion(out, A)\n",
    "    optimizer.zero_grad()\n",
    "    loss.backward()\n",
    "    optimizer.step()\n",
    "    if i%1000 == 0:\n",
    "        print(f\"The MSE loss is : {float(mse(out,A))}\")\n",
    "#         print(f\"The MAE loss is : {float(mae(out,A))}\")\n",
    "#         diff = (out.data-A).abs()        \n",
    "#         plt.hist(diff.cpu().numpy().reshape(-1), bins=100)\n",
    "#         plt.show()"
   ]
  },
  {
   "cell_type": "code",
   "execution_count": null,
   "id": "2dd90295",
   "metadata": {},
   "outputs": [],
   "source": [
    "'''\n",
    "The MSE loss is : 0.32291921973228455 --> For plain 2x2\n",
    "The MSE loss is : 0.2933475971221924 --> For 4 parallel added 2x2\n",
    "'''"
   ]
  },
  {
   "cell_type": "code",
   "execution_count": null,
   "id": "7c722aa1",
   "metadata": {},
   "outputs": [],
   "source": [
    "torch.det(A)"
   ]
  },
  {
   "cell_type": "code",
   "execution_count": null,
   "id": "825fbbf3",
   "metadata": {},
   "outputs": [],
   "source": [
    "torch.det(out.data)"
   ]
  },
  {
   "cell_type": "code",
   "execution_count": null,
   "id": "90e3cb83",
   "metadata": {},
   "outputs": [],
   "source": [
    "diff = (out.data-A).abs()"
   ]
  },
  {
   "cell_type": "code",
   "execution_count": null,
   "id": "7b909b5b",
   "metadata": {},
   "outputs": [],
   "source": [
    "diff.min(), diff.max()"
   ]
  },
  {
   "cell_type": "code",
   "execution_count": null,
   "id": "871d65f1",
   "metadata": {},
   "outputs": [],
   "source": [
    "diff.mean(), diff.std()"
   ]
  },
  {
   "cell_type": "code",
   "execution_count": null,
   "id": "ff646143",
   "metadata": {},
   "outputs": [],
   "source": [
    "plt.hist(diff.cpu().numpy().reshape(-1), bins=100)\n",
    "plt.show()"
   ]
  },
  {
   "cell_type": "markdown",
   "id": "16e5195b",
   "metadata": {},
   "source": [
    "### Testing Factorized Multiplication of 2x2 Factorization\n",
    "\n",
    "It does not seem to work.. removing the codes"
   ]
  },
  {
   "cell_type": "code",
   "execution_count": null,
   "id": "78dfc370",
   "metadata": {},
   "outputs": [],
   "source": [
    "'''\n",
    "The MSE loss is : 0.32291921973228455 --> For plain 2x2\n",
    "The MSE loss is : 0.2933475971221924 --> For 4 parallel added 2x2\n",
    "The MSE loss is : 0.293201208114624 --> For 4 serial composed 2x2\n",
    "  --> For 4 parallel multiplied 2x2\n",
    "'''\n",
    "print()"
   ]
  },
  {
   "cell_type": "markdown",
   "id": "6240f177",
   "metadata": {},
   "source": [
    "## Creating mxm blocks rather than 2x2"
   ]
  },
  {
   "cell_type": "code",
   "execution_count": 13,
   "id": "dc24bcde",
   "metadata": {},
   "outputs": [],
   "source": [
    "## choice for m\n",
    "## 1. m = sqrt(N)\n",
    "## 2. m = log2(N)"
   ]
  },
  {
   "cell_type": "code",
   "execution_count": 35,
   "id": "b625f4eb",
   "metadata": {},
   "outputs": [],
   "source": [
    "## FFT permutation\n",
    "\n",
    "A = torch.arange(0, 64, 1, dtype=torch.long)"
   ]
  },
  {
   "cell_type": "code",
   "execution_count": 36,
   "id": "7f235bf6",
   "metadata": {},
   "outputs": [
    {
     "data": {
      "text/plain": [
       "tensor([[[ 0,  1,  2,  3]],\n",
       "\n",
       "        [[ 4,  5,  6,  7]],\n",
       "\n",
       "        [[ 8,  9, 10, 11]],\n",
       "\n",
       "        [[12, 13, 14, 15]],\n",
       "\n",
       "        [[16, 17, 18, 19]],\n",
       "\n",
       "        [[20, 21, 22, 23]],\n",
       "\n",
       "        [[24, 25, 26, 27]],\n",
       "\n",
       "        [[28, 29, 30, 31]],\n",
       "\n",
       "        [[32, 33, 34, 35]],\n",
       "\n",
       "        [[36, 37, 38, 39]],\n",
       "\n",
       "        [[40, 41, 42, 43]],\n",
       "\n",
       "        [[44, 45, 46, 47]],\n",
       "\n",
       "        [[48, 49, 50, 51]],\n",
       "\n",
       "        [[52, 53, 54, 55]],\n",
       "\n",
       "        [[56, 57, 58, 59]],\n",
       "\n",
       "        [[60, 61, 62, 63]]])"
      ]
     },
     "execution_count": 36,
     "metadata": {},
     "output_type": "execute_result"
    }
   ],
   "source": [
    "A0 = A.reshape(-1,4,1).permute(0, 2,1)\n",
    "A0"
   ]
  },
  {
   "cell_type": "code",
   "execution_count": 37,
   "id": "d642a25a",
   "metadata": {},
   "outputs": [
    {
     "data": {
      "text/plain": [
       "tensor([[[ 0,  4,  8, 12],\n",
       "         [ 1,  5,  9, 13],\n",
       "         [ 2,  6, 10, 14],\n",
       "         [ 3,  7, 11, 15]],\n",
       "\n",
       "        [[16, 20, 24, 28],\n",
       "         [17, 21, 25, 29],\n",
       "         [18, 22, 26, 30],\n",
       "         [19, 23, 27, 31]],\n",
       "\n",
       "        [[32, 36, 40, 44],\n",
       "         [33, 37, 41, 45],\n",
       "         [34, 38, 42, 46],\n",
       "         [35, 39, 43, 47]],\n",
       "\n",
       "        [[48, 52, 56, 60],\n",
       "         [49, 53, 57, 61],\n",
       "         [50, 54, 58, 62],\n",
       "         [51, 55, 59, 63]]])"
      ]
     },
     "execution_count": 37,
     "metadata": {},
     "output_type": "execute_result"
    }
   ],
   "source": [
    "A1 = A.reshape(-1,4,4).permute(0, 2,1)\n",
    "A1"
   ]
  },
  {
   "cell_type": "code",
   "execution_count": 38,
   "id": "cc647a09",
   "metadata": {},
   "outputs": [
    {
     "data": {
      "text/plain": [
       "tensor([[[ 0, 16, 32, 48],\n",
       "         [ 1, 17, 33, 49],\n",
       "         [ 2, 18, 34, 50],\n",
       "         [ 3, 19, 35, 51],\n",
       "         [ 4, 20, 36, 52],\n",
       "         [ 5, 21, 37, 53],\n",
       "         [ 6, 22, 38, 54],\n",
       "         [ 7, 23, 39, 55],\n",
       "         [ 8, 24, 40, 56],\n",
       "         [ 9, 25, 41, 57],\n",
       "         [10, 26, 42, 58],\n",
       "         [11, 27, 43, 59],\n",
       "         [12, 28, 44, 60],\n",
       "         [13, 29, 45, 61],\n",
       "         [14, 30, 46, 62],\n",
       "         [15, 31, 47, 63]]])"
      ]
     },
     "execution_count": 38,
     "metadata": {},
     "output_type": "execute_result"
    }
   ],
   "source": [
    "A2 = A.reshape(-1,4,16).permute(0, 2,1)\n",
    "A2"
   ]
  },
  {
   "cell_type": "code",
   "execution_count": 49,
   "id": "92cb5d17",
   "metadata": {},
   "outputs": [],
   "source": [
    "class BlockWeight(nn.Module):\n",
    "    def __init__(self, input_dim, block_dim):\n",
    "        super().__init__()\n",
    "        self.block_dim = block_dim\n",
    "        \n",
    "        assert input_dim%block_dim == 0, \"Input dim must be even number\"\n",
    "        self.weight = torch.eye(block_dim).unsqueeze(0).repeat_interleave(input_dim//block_dim, dim=0)\n",
    "        self.weight = nn.Parameter(self.weight)\n",
    "        \n",
    "    def forward(self, x):\n",
    "        bs, dim = x.shape[0], x.shape[1]\n",
    "        print(x.shape, self.weight.shape)\n",
    "        x = x.view(bs, -1, self.block_dim).transpose(0,1)\n",
    "        print(x.shape)\n",
    "        x = torch.bmm(x, self.weight)\n",
    "        x = x.transpose(1,0).reshape(bs, -1)\n",
    "        return x"
   ]
  },
  {
   "cell_type": "code",
   "execution_count": 50,
   "id": "f49d874d",
   "metadata": {},
   "outputs": [],
   "source": [
    "class BlockLinear_MixerBlock(nn.Module):\n",
    "    \n",
    "    def __init__(self, input_dim, block_dim):\n",
    "        super().__init__()\n",
    "        \n",
    "        assert input_dim%block_dim == 0, \"Input dim must be even number\"\n",
    "        self.input_dim = input_dim\n",
    "        \n",
    "        def log_base(a, base):\n",
    "            return np.log(a) / np.log(base)\n",
    "        \n",
    "        num_layers = int(np.ceil(log_base(input_dim, base=block_dim)))\n",
    "            \n",
    "        self.facto_nets = []\n",
    "        for i in range(num_layers):\n",
    "            net = BlockWeight(self.input_dim, block_dim)\n",
    "            self.facto_nets.append(net)\n",
    "            \n",
    "        self.facto_nets = nn.ModuleList(self.facto_nets)\n",
    "            \n",
    "    def forward(self, x):\n",
    "        bs = x.shape[0]\n",
    "        y = x\n",
    "        for i, fn in enumerate(self.facto_nets):\n",
    "            y = y.view(-1,4,4**i).permute(0, 2, 1).contiguous().view(bs, -1)\n",
    "            y = fn(y)\n",
    "            y = y.view(-1,4**i,4).permute(0, 2, 1).contiguous()\n",
    "\n",
    "        y = y.view(bs, -1)\n",
    "        return y"
   ]
  },
  {
   "cell_type": "code",
   "execution_count": 55,
   "id": "3a00253c",
   "metadata": {},
   "outputs": [
    {
     "data": {
      "text/plain": [
       "BlockLinear_MixerBlock(\n",
       "  (facto_nets): ModuleList(\n",
       "    (0): BlockWeight()\n",
       "    (1): BlockWeight()\n",
       "    (2): BlockWeight()\n",
       "    (3): BlockWeight()\n",
       "  )\n",
       ")"
      ]
     },
     "execution_count": 55,
     "metadata": {},
     "output_type": "execute_result"
    }
   ],
   "source": [
    "model = BlockLinear_MixerBlock(N, 4).to(device)\n",
    "model"
   ]
  },
  {
   "cell_type": "code",
   "execution_count": 56,
   "id": "67eac3ba",
   "metadata": {},
   "outputs": [
    {
     "name": "stdout",
     "output_type": "stream",
     "text": [
      "torch.Size([256, 256]) torch.Size([64, 4, 4])\n",
      "torch.Size([64, 256, 4])\n",
      "torch.Size([256, 256]) torch.Size([64, 4, 4])\n",
      "torch.Size([64, 256, 4])\n",
      "torch.Size([256, 256]) torch.Size([64, 4, 4])\n",
      "torch.Size([64, 256, 4])\n",
      "torch.Size([256, 256]) torch.Size([64, 4, 4])\n",
      "torch.Size([64, 256, 4])\n"
     ]
    },
    {
     "data": {
      "text/plain": [
       "tensor([[1., 0., 0.,  ..., 0., 0., 0.],\n",
       "        [0., 1., 0.,  ..., 0., 0., 0.],\n",
       "        [0., 0., 1.,  ..., 0., 0., 0.],\n",
       "        ...,\n",
       "        [0., 0., 0.,  ..., 1., 0., 0.],\n",
       "        [0., 0., 0.,  ..., 0., 1., 0.],\n",
       "        [0., 0., 0.,  ..., 0., 0., 1.]], device='cuda:0',\n",
       "       grad_fn=<ViewBackward0>)"
      ]
     },
     "execution_count": 56,
     "metadata": {},
     "output_type": "execute_result"
    }
   ],
   "source": [
    "model(X)"
   ]
  },
  {
   "cell_type": "code",
   "execution_count": null,
   "id": "703d5072",
   "metadata": {},
   "outputs": [],
   "source": []
  }
 ],
 "metadata": {
  "kernelspec": {
   "display_name": "Python 3",
   "language": "python",
   "name": "python3"
  },
  "language_info": {
   "codemirror_mode": {
    "name": "ipython",
    "version": 3
   },
   "file_extension": ".py",
   "mimetype": "text/x-python",
   "name": "python",
   "nbconvert_exporter": "python",
   "pygments_lexer": "ipython3",
   "version": "3.9.7"
  }
 },
 "nbformat": 4,
 "nbformat_minor": 5
}
