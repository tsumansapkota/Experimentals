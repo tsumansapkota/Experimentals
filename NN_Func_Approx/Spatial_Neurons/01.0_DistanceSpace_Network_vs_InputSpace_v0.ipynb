{
 "cells": [
  {
   "cell_type": "code",
   "execution_count": 1,
   "metadata": {},
   "outputs": [],
   "source": [
    "import numpy as np\n",
    "import matplotlib.pyplot as plt\n",
    "%matplotlib inline\n",
    "from mpl_toolkits.mplot3d import Axes3D\n",
    "\n",
    "import torch\n",
    "import torch.nn as nn\n",
    "import torch.nn.functional as F\n",
    "import torch.optim as optim\n",
    "from torch.utils import data\n",
    "\n",
    "import random, os, pathlib, time\n",
    "from tqdm import tqdm\n",
    "from sklearn import datasets"
   ]
  },
  {
   "cell_type": "code",
   "execution_count": 2,
   "metadata": {},
   "outputs": [],
   "source": [
    "device = torch.device(\"cuda:1\")\n",
    "# device = torch.device(\"cpu\")"
   ]
  },
  {
   "cell_type": "markdown",
   "metadata": {},
   "source": [
    "## MNIST dataset"
   ]
  },
  {
   "cell_type": "code",
   "execution_count": 3,
   "metadata": {},
   "outputs": [],
   "source": [
    "import mylibrary.datasets as datasets\n",
    "import mylibrary.nnlib as tnn"
   ]
  },
  {
   "cell_type": "code",
   "execution_count": 4,
   "metadata": {},
   "outputs": [],
   "source": [
    "mnist = datasets.FashionMNIST()\n",
    "# mnist.download_mnist()\n",
    "# mnist.save_mnist()\n",
    "train_data, train_label_, test_data, test_label_ = mnist.load()\n",
    "\n",
    "train_data = train_data / 255.\n",
    "test_data = test_data / 255.\n",
    "\n",
    "# train_label = tnn.Logits.index_to_logit(train_label_)\n",
    "train_size = len(train_label_)"
   ]
  },
  {
   "cell_type": "code",
   "execution_count": 5,
   "metadata": {},
   "outputs": [],
   "source": [
    "## converting data to pytorch format\n",
    "train_data = torch.Tensor(train_data)\n",
    "test_data = torch.Tensor(test_data)\n",
    "train_label = torch.LongTensor(train_label_)\n",
    "test_label = torch.LongTensor(test_label_)"
   ]
  },
  {
   "cell_type": "code",
   "execution_count": 6,
   "metadata": {},
   "outputs": [],
   "source": [
    "input_size = 784\n",
    "output_size = 10"
   ]
  },
  {
   "cell_type": "code",
   "execution_count": 7,
   "metadata": {},
   "outputs": [],
   "source": [
    "class MNIST_Dataset(data.Dataset):\n",
    "    \n",
    "    def __init__(self, data, label):\n",
    "        self.data = data\n",
    "        self.label = label\n",
    "        \n",
    "    def __len__(self):\n",
    "        return len(self.data)\n",
    "    \n",
    "    def __getitem__(self, idx):\n",
    "        img, lbl = self.data[idx], self.label[idx]\n",
    "        return img, lbl"
   ]
  },
  {
   "cell_type": "code",
   "execution_count": 8,
   "metadata": {},
   "outputs": [],
   "source": [
    "train_dataset = MNIST_Dataset(train_data, train_label)\n",
    "test_dataset = MNIST_Dataset(test_data, test_label)"
   ]
  },
  {
   "cell_type": "code",
   "execution_count": 9,
   "metadata": {},
   "outputs": [],
   "source": [
    "batch_size = 50\n",
    "train_loader = data.DataLoader(dataset=train_dataset,\n",
    "                                    num_workers=4, \n",
    "                                    batch_size=batch_size, \n",
    "                                    shuffle=True)\n",
    "\n",
    "test_loader = data.DataLoader(dataset=test_dataset,\n",
    "                                    num_workers=4, \n",
    "                                    batch_size=batch_size, \n",
    "                                    shuffle=False)"
   ]
  },
  {
   "cell_type": "code",
   "execution_count": 14,
   "metadata": {},
   "outputs": [],
   "source": [
    "class DistanceTransform(nn.Module):\n",
    "    \n",
    "    def __init__(self, input_dim, num_centers):\n",
    "        super().__init__()\n",
    "        self.input_dim = input_dim\n",
    "        self.num_centers = num_centers\n",
    "        \n",
    "        self.centers = torch.randn(num_centers, input_dim)/3.\n",
    "        self.centers = nn.Parameter(self.centers)\n",
    "        \n",
    "    def forward(self, x):\n",
    "        x = x[:, :self.input_dim]\n",
    "        dists = torch.cdist(x, self.centers)\n",
    "#         print(dists.shape)\n",
    "#         dists = dists/np.sqrt(self.input_dim) ### correction to make diagonal of unit square 1 in nD space\n",
    "        return dists\n",
    "    \n",
    "    def reverse(self, x):\n",
    "        ### here x is the distance, so weighted distance is the reversed mode\n",
    "        ##### for a single input, y = mean(x_i * center_i : for i in range(num_centers))\n",
    "        pass"
   ]
  },
  {
   "cell_type": "code",
   "execution_count": 15,
   "metadata": {},
   "outputs": [],
   "source": [
    "dt = DistanceTransform(784, 784)"
   ]
  },
  {
   "cell_type": "code",
   "execution_count": 16,
   "metadata": {},
   "outputs": [
    {
     "data": {
      "text/plain": [
       "[Parameter containing:\n",
       " tensor([[ 0.0809, -0.5722,  0.0215,  ...,  0.5122,  0.1792, -0.5046],\n",
       "         [ 0.2112,  0.9331, -0.3379,  ..., -0.0551,  0.0880,  0.4146],\n",
       "         [ 0.0876,  0.1773, -0.4028,  ..., -0.4853, -0.1762, -0.2653],\n",
       "         ...,\n",
       "         [ 0.1757, -0.2568,  0.1863,  ...,  0.0192, -0.1767,  0.1164],\n",
       "         [ 0.4840, -0.2985,  0.1743,  ..., -0.0716,  0.1156, -0.0039],\n",
       "         [-0.7521, -0.0627,  0.1564,  ..., -0.0910, -0.0911, -0.3136]],\n",
       "        requires_grad=True)]"
      ]
     },
     "execution_count": 16,
     "metadata": {},
     "output_type": "execute_result"
    }
   ],
   "source": [
    "list(dt.parameters())"
   ]
  },
  {
   "cell_type": "code",
   "execution_count": 17,
   "metadata": {},
   "outputs": [
    {
     "data": {
      "text/plain": [
       "torch.Size([2, 784])"
      ]
     },
     "execution_count": 17,
     "metadata": {},
     "output_type": "execute_result"
    }
   ],
   "source": [
    "dt(torch.randn(2, 784)).shape"
   ]
  },
  {
   "cell_type": "code",
   "execution_count": 18,
   "metadata": {},
   "outputs": [
    {
     "data": {
      "text/plain": [
       "(tensor(0.3944), tensor(4.4122, grad_fn=<StdBackward0>))"
      ]
     },
     "execution_count": 18,
     "metadata": {},
     "output_type": "execute_result"
    }
   ],
   "source": [
    "x=train_dataset[[3,7]][0]\n",
    "dists = dt(x)\n",
    "x.std(), dists.std()"
   ]
  },
  {
   "cell_type": "code",
   "execution_count": 19,
   "metadata": {},
   "outputs": [
    {
     "data": {
      "text/plain": [
       "(tensor(23.2282, grad_fn=<MaxBackward1>),\n",
       " tensor(12.3328, grad_fn=<MinBackward1>))"
      ]
     },
     "execution_count": 19,
     "metadata": {},
     "output_type": "execute_result"
    }
   ],
   "source": [
    "dists.max(), dists.min()"
   ]
  },
  {
   "cell_type": "code",
   "execution_count": 20,
   "metadata": {},
   "outputs": [
    {
     "data": {
      "text/plain": [
       "torch.Size([784, 784])"
      ]
     },
     "execution_count": 20,
     "metadata": {},
     "output_type": "execute_result"
    }
   ],
   "source": [
    "dt.centers.shape"
   ]
  },
  {
   "cell_type": "code",
   "execution_count": 21,
   "metadata": {},
   "outputs": [
    {
     "data": {
      "text/plain": [
       "tensor([[ 0.3183, -1.5020]])"
      ]
     },
     "execution_count": 21,
     "metadata": {},
     "output_type": "execute_result"
    }
   ],
   "source": [
    "### single variable inverse\n",
    "x = torch.randn(1, 2)\n",
    "x"
   ]
  },
  {
   "cell_type": "code",
   "execution_count": 22,
   "metadata": {},
   "outputs": [
    {
     "data": {
      "text/plain": [
       "torch.Size([1, 2])"
      ]
     },
     "execution_count": 22,
     "metadata": {},
     "output_type": "execute_result"
    }
   ],
   "source": [
    "centers = torch.randn(2, 2) ## output_dim / num_centers, input_dim\n",
    "y = torch.cdist(x, centers.t())  \n",
    "y.shape"
   ]
  },
  {
   "cell_type": "code",
   "execution_count": 23,
   "metadata": {},
   "outputs": [
    {
     "data": {
      "text/plain": [
       "tensor([[0.3355, 2.3012]])"
      ]
     },
     "execution_count": 23,
     "metadata": {},
     "output_type": "execute_result"
    }
   ],
   "source": [
    "y"
   ]
  },
  {
   "cell_type": "code",
   "execution_count": 24,
   "metadata": {},
   "outputs": [
    {
     "data": {
      "text/plain": [
       "tensor([-0.2091, -1.1646])"
      ]
     },
     "execution_count": 24,
     "metadata": {},
     "output_type": "execute_result"
    }
   ],
   "source": [
    "weighted_sum = 0\n",
    "weight = (1/y).sum()\n",
    "for i in range(len(centers)):\n",
    "    weighted_sum += centers[i]*(1/y[0,i])/weight\n",
    "weighted_sum"
   ]
  },
  {
   "cell_type": "code",
   "execution_count": null,
   "metadata": {},
   "outputs": [],
   "source": []
  },
  {
   "cell_type": "code",
   "execution_count": null,
   "metadata": {},
   "outputs": [],
   "source": []
  },
  {
   "cell_type": "code",
   "execution_count": 21,
   "metadata": {},
   "outputs": [],
   "source": [
    "##### test for inverse\n",
    "x = torch.randn(2, 4)"
   ]
  },
  {
   "cell_type": "code",
   "execution_count": 22,
   "metadata": {},
   "outputs": [
    {
     "data": {
      "text/plain": [
       "torch.Size([2, 4])"
      ]
     },
     "execution_count": 22,
     "metadata": {},
     "output_type": "execute_result"
    }
   ],
   "source": [
    "centers = torch.randn(4, 4) ## output_dim / num_centers, input_dim\n",
    "y = torch.cdist(x, centers)  \n",
    "y.shape"
   ]
  },
  {
   "cell_type": "code",
   "execution_count": 23,
   "metadata": {},
   "outputs": [
    {
     "data": {
      "text/plain": [
       "tensor([[3.2547, 2.3560, 3.5674, 2.1832],\n",
       "        [1.8720, 2.1646, 1.7646, 1.8540]])"
      ]
     },
     "execution_count": 23,
     "metadata": {},
     "output_type": "execute_result"
    }
   ],
   "source": [
    "y"
   ]
  },
  {
   "cell_type": "code",
   "execution_count": 24,
   "metadata": {},
   "outputs": [
    {
     "data": {
      "text/plain": [
       "torch.Size([2, 4, 4])"
      ]
     },
     "execution_count": 24,
     "metadata": {},
     "output_type": "execute_result"
    }
   ],
   "source": [
    "(y.unsqueeze(2)*centers).shape"
   ]
  },
  {
   "cell_type": "code",
   "execution_count": 25,
   "metadata": {},
   "outputs": [
    {
     "data": {
      "text/plain": [
       "torch.Size([2, 4])"
      ]
     },
     "execution_count": 25,
     "metadata": {},
     "output_type": "execute_result"
    }
   ],
   "source": [
    "z = (y.unsqueeze(2)*centers.t()).sum(dim=2)/y.sum(dim=1, keepdim=True)\n",
    "z.shape"
   ]
  },
  {
   "cell_type": "code",
   "execution_count": 26,
   "metadata": {},
   "outputs": [
    {
     "data": {
      "text/plain": [
       "tensor([[-0.8764,  0.2324, -0.2695,  0.4836],\n",
       "        [-0.7481,  0.3169, -0.1978,  0.6095]])"
      ]
     },
     "execution_count": 26,
     "metadata": {},
     "output_type": "execute_result"
    }
   ],
   "source": [
    "z"
   ]
  },
  {
   "cell_type": "code",
   "execution_count": 27,
   "metadata": {},
   "outputs": [
    {
     "data": {
      "text/plain": [
       "tensor([[ 1.9518,  0.0419,  0.0577,  0.8557],\n",
       "        [-0.5095,  0.8375, -0.1642, -0.9393]])"
      ]
     },
     "execution_count": 27,
     "metadata": {},
     "output_type": "execute_result"
    }
   ],
   "source": [
    "x"
   ]
  },
  {
   "cell_type": "code",
   "execution_count": 40,
   "metadata": {},
   "outputs": [
    {
     "data": {
      "text/plain": [
       "Sequential(\n",
       "  (0): BatchNorm1d(784, eps=1e-05, momentum=0.1, affine=True, track_running_stats=True)\n",
       "  (1): Linear(in_features=784, out_features=200, bias=True)\n",
       "  (2): LeakyReLU(negative_slope=0.01)\n",
       "  (3): Linear(in_features=200, out_features=50, bias=True)\n",
       "  (4): LeakyReLU(negative_slope=0.01)\n",
       "  (5): Linear(in_features=50, out_features=10, bias=True)\n",
       ")"
      ]
     },
     "execution_count": 40,
     "metadata": {},
     "output_type": "execute_result"
    }
   ],
   "source": [
    "model = nn.Sequential(\n",
    "#                 DistanceTransform(784, 784),\n",
    "                nn.BatchNorm1d(784),\n",
    "                nn.Linear(784, 200),\n",
    "                nn.LeakyReLU(),\n",
    "                nn.Linear(200, 50),\n",
    "                nn.LeakyReLU(),\n",
    "                nn.Linear(50, 10))\n",
    "model.to(device)"
   ]
  },
  {
   "cell_type": "code",
   "execution_count": 41,
   "metadata": {},
   "outputs": [],
   "source": [
    "optimizer = optim.Adam(list(model.parameters()), \n",
    "                            lr=0.0003, weight_decay=1e-15)\n",
    "criterion = nn.CrossEntropyLoss()"
   ]
  },
  {
   "cell_type": "code",
   "execution_count": 42,
   "metadata": {},
   "outputs": [
    {
     "name": "stderr",
     "output_type": "stream",
     "text": [
      "\r",
      "  0%|          | 0/40 [00:00<?, ?it/s]"
     ]
    },
    {
     "name": "stdout",
     "output_type": "stream",
     "text": [
      "Epoch: 0:0,  Loss:0.29208049178123474\n"
     ]
    },
    {
     "name": "stderr",
     "output_type": "stream",
     "text": [
      "\r",
      "  2%|▎         | 1/40 [00:03<02:16,  3.49s/it]"
     ]
    },
    {
     "name": "stdout",
     "output_type": "stream",
     "text": [
      "Train Acc:81.78%, Test Acc:85.08%\n",
      "\n",
      "Epoch: 1:0,  Loss:0.3728877902030945\n"
     ]
    },
    {
     "name": "stderr",
     "output_type": "stream",
     "text": [
      "\r",
      "  5%|▌         | 2/40 [00:06<02:12,  3.50s/it]"
     ]
    },
    {
     "name": "stdout",
     "output_type": "stream",
     "text": [
      "Train Acc:86.54%, Test Acc:85.89%\n",
      "\n",
      "Epoch: 2:0,  Loss:0.317286878824234\n"
     ]
    },
    {
     "name": "stderr",
     "output_type": "stream",
     "text": [
      "\r",
      "  8%|▊         | 3/40 [00:10<02:03,  3.35s/it]"
     ]
    },
    {
     "name": "stdout",
     "output_type": "stream",
     "text": [
      "Train Acc:87.80%, Test Acc:86.55%\n",
      "\n",
      "Epoch: 3:0,  Loss:0.3154541254043579\n"
     ]
    },
    {
     "name": "stderr",
     "output_type": "stream",
     "text": [
      "\r",
      " 10%|█         | 4/40 [00:13<02:01,  3.36s/it]"
     ]
    },
    {
     "name": "stdout",
     "output_type": "stream",
     "text": [
      "Train Acc:88.73%, Test Acc:87.24%\n",
      "\n",
      "Epoch: 4:0,  Loss:0.22585216164588928\n"
     ]
    },
    {
     "name": "stderr",
     "output_type": "stream",
     "text": [
      "\r",
      " 12%|█▎        | 5/40 [00:16<01:56,  3.34s/it]"
     ]
    },
    {
     "name": "stdout",
     "output_type": "stream",
     "text": [
      "Train Acc:89.39%, Test Acc:87.06%\n",
      "\n",
      "Epoch: 5:0,  Loss:0.312459260225296\n"
     ]
    },
    {
     "name": "stderr",
     "output_type": "stream",
     "text": [
      "\r",
      " 15%|█▌        | 6/40 [00:19<01:51,  3.27s/it]"
     ]
    },
    {
     "name": "stdout",
     "output_type": "stream",
     "text": [
      "Train Acc:89.87%, Test Acc:87.18%\n",
      "\n",
      "Epoch: 6:0,  Loss:0.2763053774833679\n"
     ]
    },
    {
     "name": "stderr",
     "output_type": "stream",
     "text": [
      "\r",
      " 18%|█▊        | 7/40 [00:23<01:49,  3.31s/it]"
     ]
    },
    {
     "name": "stdout",
     "output_type": "stream",
     "text": [
      "Train Acc:90.62%, Test Acc:87.69%\n",
      "\n",
      "Epoch: 7:0,  Loss:0.3330936133861542\n"
     ]
    },
    {
     "name": "stderr",
     "output_type": "stream",
     "text": [
      "\r",
      " 20%|██        | 8/40 [00:26<01:47,  3.35s/it]"
     ]
    },
    {
     "name": "stdout",
     "output_type": "stream",
     "text": [
      "Train Acc:90.98%, Test Acc:88.02%\n",
      "\n",
      "Epoch: 8:0,  Loss:0.331051230430603\n"
     ]
    },
    {
     "name": "stderr",
     "output_type": "stream",
     "text": [
      "\r",
      " 22%|██▎       | 9/40 [00:30<01:43,  3.34s/it]"
     ]
    },
    {
     "name": "stdout",
     "output_type": "stream",
     "text": [
      "Train Acc:91.36%, Test Acc:87.94%\n",
      "\n",
      "Epoch: 9:0,  Loss:0.225890651345253\n"
     ]
    },
    {
     "name": "stderr",
     "output_type": "stream",
     "text": [
      "\r",
      " 25%|██▌       | 10/40 [00:33<01:41,  3.38s/it]"
     ]
    },
    {
     "name": "stdout",
     "output_type": "stream",
     "text": [
      "Train Acc:91.66%, Test Acc:88.47%\n",
      "\n",
      "Epoch: 10:0,  Loss:0.06453756988048553\n"
     ]
    },
    {
     "name": "stderr",
     "output_type": "stream",
     "text": [
      "\r",
      " 28%|██▊       | 11/40 [00:36<01:36,  3.32s/it]"
     ]
    },
    {
     "name": "stdout",
     "output_type": "stream",
     "text": [
      "Train Acc:92.14%, Test Acc:88.32%\n",
      "\n",
      "Epoch: 11:0,  Loss:0.10818453133106232\n"
     ]
    },
    {
     "name": "stderr",
     "output_type": "stream",
     "text": [
      "\r",
      " 30%|███       | 12/40 [00:40<01:33,  3.36s/it]"
     ]
    },
    {
     "name": "stdout",
     "output_type": "stream",
     "text": [
      "Train Acc:92.47%, Test Acc:88.67%\n",
      "\n",
      "Epoch: 12:0,  Loss:0.17215467989444733\n"
     ]
    },
    {
     "name": "stderr",
     "output_type": "stream",
     "text": [
      "\r",
      " 32%|███▎      | 13/40 [00:43<01:30,  3.34s/it]"
     ]
    },
    {
     "name": "stdout",
     "output_type": "stream",
     "text": [
      "Train Acc:92.91%, Test Acc:88.78%\n",
      "\n",
      "Epoch: 13:0,  Loss:0.10279855132102966\n"
     ]
    },
    {
     "name": "stderr",
     "output_type": "stream",
     "text": [
      "\r",
      " 35%|███▌      | 14/40 [00:46<01:27,  3.36s/it]"
     ]
    },
    {
     "name": "stdout",
     "output_type": "stream",
     "text": [
      "Train Acc:93.15%, Test Acc:88.82%\n",
      "\n",
      "Epoch: 14:0,  Loss:0.15734629333019257\n"
     ]
    },
    {
     "name": "stderr",
     "output_type": "stream",
     "text": [
      "\r",
      " 38%|███▊      | 15/40 [00:50<01:22,  3.31s/it]"
     ]
    },
    {
     "name": "stdout",
     "output_type": "stream",
     "text": [
      "Train Acc:93.42%, Test Acc:88.47%\n",
      "\n",
      "Epoch: 15:0,  Loss:0.33542683720588684\n"
     ]
    },
    {
     "name": "stderr",
     "output_type": "stream",
     "text": [
      "\r",
      " 40%|████      | 16/40 [00:53<01:20,  3.37s/it]"
     ]
    },
    {
     "name": "stdout",
     "output_type": "stream",
     "text": [
      "Train Acc:93.52%, Test Acc:88.51%\n",
      "\n",
      "Epoch: 16:0,  Loss:0.2011193335056305\n"
     ]
    },
    {
     "name": "stderr",
     "output_type": "stream",
     "text": [
      "\r",
      " 42%|████▎     | 17/40 [00:57<01:17,  3.37s/it]"
     ]
    },
    {
     "name": "stdout",
     "output_type": "stream",
     "text": [
      "Train Acc:93.90%, Test Acc:88.61%\n",
      "\n",
      "Epoch: 17:0,  Loss:0.15027286112308502\n"
     ]
    },
    {
     "name": "stderr",
     "output_type": "stream",
     "text": [
      "\r",
      " 45%|████▌     | 18/40 [01:00<01:13,  3.34s/it]"
     ]
    },
    {
     "name": "stdout",
     "output_type": "stream",
     "text": [
      "Train Acc:94.08%, Test Acc:88.23%\n",
      "\n",
      "Epoch: 18:0,  Loss:0.09197285771369934\n"
     ]
    },
    {
     "name": "stderr",
     "output_type": "stream",
     "text": [
      "\r",
      " 48%|████▊     | 19/40 [01:03<01:10,  3.34s/it]"
     ]
    },
    {
     "name": "stdout",
     "output_type": "stream",
     "text": [
      "Train Acc:94.40%, Test Acc:88.56%\n",
      "\n",
      "Epoch: 19:0,  Loss:0.17155756056308746\n"
     ]
    },
    {
     "name": "stderr",
     "output_type": "stream",
     "text": [
      "\r",
      " 50%|█████     | 20/40 [01:07<01:07,  3.39s/it]"
     ]
    },
    {
     "name": "stdout",
     "output_type": "stream",
     "text": [
      "Train Acc:94.50%, Test Acc:88.68%\n",
      "\n",
      "Epoch: 20:0,  Loss:0.10575899481773376\n"
     ]
    },
    {
     "name": "stderr",
     "output_type": "stream",
     "text": [
      "\r",
      " 52%|█████▎    | 21/40 [01:10<01:04,  3.41s/it]"
     ]
    },
    {
     "name": "stdout",
     "output_type": "stream",
     "text": [
      "Train Acc:94.73%, Test Acc:88.83%\n",
      "\n",
      "Epoch: 21:0,  Loss:0.15065334737300873\n"
     ]
    },
    {
     "name": "stderr",
     "output_type": "stream",
     "text": [
      "\r",
      " 55%|█████▌    | 22/40 [01:14<01:01,  3.43s/it]"
     ]
    },
    {
     "name": "stdout",
     "output_type": "stream",
     "text": [
      "Train Acc:94.99%, Test Acc:88.25%\n",
      "\n",
      "Epoch: 22:0,  Loss:0.0940486490726471\n"
     ]
    },
    {
     "name": "stderr",
     "output_type": "stream",
     "text": [
      "\r",
      " 57%|█████▊    | 23/40 [01:17<00:58,  3.45s/it]"
     ]
    },
    {
     "name": "stdout",
     "output_type": "stream",
     "text": [
      "Train Acc:95.09%, Test Acc:87.93%\n",
      "\n",
      "Epoch: 23:0,  Loss:0.10237213969230652\n"
     ]
    },
    {
     "name": "stderr",
     "output_type": "stream",
     "text": [
      "\r",
      " 60%|██████    | 24/40 [01:20<00:54,  3.42s/it]"
     ]
    },
    {
     "name": "stdout",
     "output_type": "stream",
     "text": [
      "Train Acc:95.28%, Test Acc:88.75%\n",
      "\n",
      "Epoch: 24:0,  Loss:0.1218610480427742\n"
     ]
    },
    {
     "name": "stderr",
     "output_type": "stream",
     "text": [
      "\r",
      " 62%|██████▎   | 25/40 [01:24<00:50,  3.37s/it]"
     ]
    },
    {
     "name": "stdout",
     "output_type": "stream",
     "text": [
      "Train Acc:95.47%, Test Acc:88.12%\n",
      "\n",
      "Epoch: 25:0,  Loss:0.067459836602211\n"
     ]
    },
    {
     "name": "stderr",
     "output_type": "stream",
     "text": [
      "\r",
      " 65%|██████▌   | 26/40 [01:27<00:46,  3.31s/it]"
     ]
    },
    {
     "name": "stdout",
     "output_type": "stream",
     "text": [
      "Train Acc:95.71%, Test Acc:88.18%\n",
      "\n",
      "Epoch: 26:0,  Loss:0.06179826706647873\n"
     ]
    },
    {
     "name": "stderr",
     "output_type": "stream",
     "text": [
      "\r",
      " 68%|██████▊   | 27/40 [01:30<00:42,  3.31s/it]"
     ]
    },
    {
     "name": "stdout",
     "output_type": "stream",
     "text": [
      "Train Acc:95.85%, Test Acc:88.80%\n",
      "\n",
      "Epoch: 27:0,  Loss:0.11750123649835587\n"
     ]
    },
    {
     "name": "stderr",
     "output_type": "stream",
     "text": [
      "\r",
      " 70%|███████   | 28/40 [01:33<00:39,  3.32s/it]"
     ]
    },
    {
     "name": "stdout",
     "output_type": "stream",
     "text": [
      "Train Acc:95.99%, Test Acc:88.14%\n",
      "\n",
      "Epoch: 28:0,  Loss:0.13930989801883698\n"
     ]
    },
    {
     "name": "stderr",
     "output_type": "stream",
     "text": [
      "\r",
      " 72%|███████▎  | 29/40 [01:37<00:35,  3.25s/it]"
     ]
    },
    {
     "name": "stdout",
     "output_type": "stream",
     "text": [
      "Train Acc:96.10%, Test Acc:88.80%\n",
      "\n",
      "Epoch: 29:0,  Loss:0.13838665187358856\n"
     ]
    },
    {
     "name": "stderr",
     "output_type": "stream",
     "text": [
      "\r",
      " 75%|███████▌  | 30/40 [01:40<00:32,  3.27s/it]"
     ]
    },
    {
     "name": "stdout",
     "output_type": "stream",
     "text": [
      "Train Acc:96.16%, Test Acc:88.12%\n",
      "\n",
      "Epoch: 30:0,  Loss:0.13982413709163666\n"
     ]
    },
    {
     "name": "stderr",
     "output_type": "stream",
     "text": [
      "\r",
      " 78%|███████▊  | 31/40 [01:43<00:28,  3.21s/it]"
     ]
    },
    {
     "name": "stdout",
     "output_type": "stream",
     "text": [
      "Train Acc:96.21%, Test Acc:88.66%\n",
      "\n",
      "Epoch: 31:0,  Loss:0.032835010439157486\n"
     ]
    },
    {
     "name": "stderr",
     "output_type": "stream",
     "text": [
      "\r",
      " 80%|████████  | 32/40 [01:46<00:25,  3.21s/it]"
     ]
    },
    {
     "name": "stdout",
     "output_type": "stream",
     "text": [
      "Train Acc:96.33%, Test Acc:88.13%\n",
      "\n",
      "Epoch: 32:0,  Loss:0.01711474172770977\n"
     ]
    },
    {
     "name": "stderr",
     "output_type": "stream",
     "text": [
      "\r",
      " 82%|████████▎ | 33/40 [01:49<00:22,  3.23s/it]"
     ]
    },
    {
     "name": "stdout",
     "output_type": "stream",
     "text": [
      "Train Acc:96.61%, Test Acc:89.01%\n",
      "\n",
      "Epoch: 33:0,  Loss:0.10650651156902313\n"
     ]
    },
    {
     "name": "stderr",
     "output_type": "stream",
     "text": [
      "\r",
      " 85%|████████▌ | 34/40 [01:53<00:19,  3.32s/it]"
     ]
    },
    {
     "name": "stdout",
     "output_type": "stream",
     "text": [
      "Train Acc:96.63%, Test Acc:88.54%\n",
      "\n",
      "Epoch: 34:0,  Loss:0.09793972223997116\n"
     ]
    },
    {
     "name": "stderr",
     "output_type": "stream",
     "text": [
      "\r",
      " 88%|████████▊ | 35/40 [01:56<00:16,  3.29s/it]"
     ]
    },
    {
     "name": "stdout",
     "output_type": "stream",
     "text": [
      "Train Acc:96.73%, Test Acc:88.60%\n",
      "\n",
      "Epoch: 35:0,  Loss:0.08458631485700607\n"
     ]
    },
    {
     "name": "stderr",
     "output_type": "stream",
     "text": [
      "\r",
      " 90%|█████████ | 36/40 [01:59<00:13,  3.27s/it]"
     ]
    },
    {
     "name": "stdout",
     "output_type": "stream",
     "text": [
      "Train Acc:96.71%, Test Acc:88.67%\n",
      "\n",
      "Epoch: 36:0,  Loss:0.03837250545620918\n"
     ]
    },
    {
     "name": "stderr",
     "output_type": "stream",
     "text": [
      "\r",
      " 92%|█████████▎| 37/40 [02:03<00:09,  3.27s/it]"
     ]
    },
    {
     "name": "stdout",
     "output_type": "stream",
     "text": [
      "Train Acc:96.81%, Test Acc:87.97%\n",
      "\n",
      "Epoch: 37:0,  Loss:0.05911695584654808\n"
     ]
    },
    {
     "name": "stderr",
     "output_type": "stream",
     "text": [
      "\r",
      " 95%|█████████▌| 38/40 [02:06<00:06,  3.30s/it]"
     ]
    },
    {
     "name": "stdout",
     "output_type": "stream",
     "text": [
      "Train Acc:97.09%, Test Acc:88.74%\n",
      "\n",
      "Epoch: 38:0,  Loss:0.09802291542291641\n"
     ]
    },
    {
     "name": "stderr",
     "output_type": "stream",
     "text": [
      "\r",
      " 98%|█████████▊| 39/40 [02:10<00:03,  3.37s/it]"
     ]
    },
    {
     "name": "stdout",
     "output_type": "stream",
     "text": [
      "Train Acc:97.07%, Test Acc:88.63%\n",
      "\n",
      "Epoch: 39:0,  Loss:0.10097994655370712\n"
     ]
    },
    {
     "name": "stderr",
     "output_type": "stream",
     "text": [
      "100%|██████████| 40/40 [02:13<00:00,  3.33s/it]"
     ]
    },
    {
     "name": "stdout",
     "output_type": "stream",
     "text": [
      "Train Acc:97.25%, Test Acc:88.52%\n",
      "\n",
      "\t-> MAX Train Acc 97.255 ; Test Acc 89.01\n"
     ]
    },
    {
     "name": "stderr",
     "output_type": "stream",
     "text": [
      "\n"
     ]
    }
   ],
   "source": [
    "index = 0\n",
    "train_accs, test_accs = [], []\n",
    "for epoch in tqdm(list(range(40))):\n",
    "    train_acc = 0\n",
    "    train_count = 0\n",
    "    for xx, yy in train_loader:\n",
    "        xx, yy = xx.to(device), yy.to(device)\n",
    "        yout = model(xx)\n",
    "        loss = criterion(yout, yy)\n",
    "        optimizer.zero_grad()\n",
    "        loss.backward()\n",
    "        optimizer.step()\n",
    "\n",
    "        outputs = torch.argmax(yout, dim=1).data.cpu().numpy()\n",
    "        correct = (outputs == yy.data.cpu().numpy()).astype(float).sum()\n",
    "        train_acc += correct\n",
    "        train_count += len(outputs)\n",
    "\n",
    "    train_accs.append(float(train_acc)/train_count*100)\n",
    "    train_acc = 0\n",
    "    train_count = 0\n",
    "\n",
    "    print(f'Epoch: {epoch}:{index},  Loss:{float(loss)}')\n",
    "    test_count = 0\n",
    "    test_acc = 0\n",
    "    for xx, yy in test_loader:\n",
    "        xx, yy = xx.to(device), yy.to(device)\n",
    "        with torch.no_grad():\n",
    "            yout = model(xx)\n",
    "        outputs = torch.argmax(yout, dim=1).data.cpu().numpy()\n",
    "        correct = (outputs == yy.data.cpu().numpy()).astype(float).sum()\n",
    "        test_acc += correct\n",
    "        test_count += len(xx)\n",
    "    test_accs.append(float(test_acc)/test_count*100)\n",
    "    print(f'Train Acc:{train_accs[-1]:.2f}%, Test Acc:{test_accs[-1]:.2f}%')\n",
    "    print()\n",
    "\n",
    "### after each class index is finished training\n",
    "print(f'\\t-> MAX Train Acc {max(train_accs)} ; Test Acc {max(test_accs)}')"
   ]
  },
  {
   "cell_type": "code",
   "execution_count": 35,
   "metadata": {},
   "outputs": [],
   "source": [
    "# -> MAX Train Acc 87.678 ; Test Acc 85.87  ### after distance transformation\n",
    "# -> MAX Train Acc 97.255 ; Test Acc 89.01  ### normal nn"
   ]
  },
  {
   "cell_type": "code",
   "execution_count": 36,
   "metadata": {},
   "outputs": [
    {
     "data": {
      "text/plain": [
       "torch.Size([3, 784])"
      ]
     },
     "execution_count": 36,
     "metadata": {},
     "output_type": "execute_result"
    }
   ],
   "source": [
    "model.eval()\n",
    "dists = model[0](train_dataset[[0,3,7]][0].to(device))\n",
    "dists = model[1](dists)\n",
    "model.train()\n",
    "dists.shape"
   ]
  },
  {
   "cell_type": "code",
   "execution_count": 37,
   "metadata": {},
   "outputs": [
    {
     "data": {
      "text/plain": [
       "tensor(0.8673, device='cuda:1', grad_fn=<MeanBackward0>)"
      ]
     },
     "execution_count": 37,
     "metadata": {},
     "output_type": "execute_result"
    }
   ],
   "source": [
    "dists.mean()"
   ]
  },
  {
   "cell_type": "code",
   "execution_count": 38,
   "metadata": {},
   "outputs": [
    {
     "data": {
      "text/plain": [
       "tensor(1.3996, device='cuda:1', grad_fn=<StdBackward>)"
      ]
     },
     "execution_count": 38,
     "metadata": {},
     "output_type": "execute_result"
    }
   ],
   "source": [
    "dists.std()"
   ]
  },
  {
   "cell_type": "code",
   "execution_count": 39,
   "metadata": {},
   "outputs": [
    {
     "data": {
      "text/plain": [
       "tensor([0.6848, 1.3316, 0.7227, 0.5346, 1.1709, 1.3659, 0.5240, 0.4794, 0.7535,\n",
       "        1.0121, 1.1492, 0.5022, 0.9565, 1.4633, 0.6267, 1.2688, 0.4046, 1.2330,\n",
       "        1.0712, 0.6266, 0.6519, 0.6877, 1.1010, 0.4282, 0.6463, 1.4526, 0.8620,\n",
       "        0.5370, 0.5170, 0.8810, 0.4652, 0.6724, 0.5919, 0.9145, 0.7398, 1.3985,\n",
       "        0.8407, 0.4311, 0.6553, 1.4876, 1.3120, 1.3471, 0.9884, 0.6859, 0.6714,\n",
       "        1.5286, 1.1423, 0.7222, 0.8848, 1.4915, 0.5261, 0.6724, 0.7562, 1.3607,\n",
       "        0.2688, 1.8160, 1.1118, 0.5817, 0.8911, 1.5470, 0.9284, 1.4022, 0.3211,\n",
       "        0.7805, 0.3566, 0.7487, 1.1619, 1.1347, 1.3580, 1.0779, 0.9561, 0.7349,\n",
       "        0.1853, 1.3280, 0.5563, 1.0959, 1.1058, 1.5512, 1.2634, 1.0623, 0.9049,\n",
       "        1.0813, 0.6733, 0.6099, 0.7811, 2.0137, 0.5007, 0.4348, 1.4182, 0.7736,\n",
       "        0.9781, 0.8759, 0.6814, 0.3576, 1.0184, 0.2800, 1.4223, 0.8915, 0.6941,\n",
       "        1.1333, 0.8379, 1.8258, 0.5853, 1.0714, 0.9740, 0.9794, 1.4452, 1.2711,\n",
       "        1.6786, 1.4298, 1.2954, 1.1850, 0.8012, 0.9068, 1.0109, 0.6821, 0.6388,\n",
       "        0.8684, 0.4468, 1.2181, 0.8979, 1.4508, 0.7847, 1.8381, 1.0253, 0.8148,\n",
       "        0.3567, 0.8386, 0.5875, 0.7833, 1.3014, 1.3456, 0.7970, 1.7566, 1.1001,\n",
       "        0.6265, 1.0220, 0.7828, 1.0534, 1.1490, 0.7297, 0.9298, 0.7297, 1.3377,\n",
       "        1.4188, 0.7425, 1.0145, 0.8387, 0.4024, 0.9300, 0.2508, 0.7590, 0.9172,\n",
       "        0.8116, 1.2490, 1.1914, 0.5594, 1.4276, 0.7304, 0.4021, 1.3288, 0.7005,\n",
       "        1.3564, 0.3429, 0.8112, 0.5827, 0.7900, 0.5554, 0.5501, 0.8284, 0.5138,\n",
       "        0.9559, 0.4525, 0.7339, 1.2446, 0.7147, 1.0420, 1.2111, 1.4022, 1.5092,\n",
       "        0.6526, 1.2279, 0.6572, 1.0847, 0.8001, 0.7287, 0.7589, 0.7465, 1.8106,\n",
       "        1.2710, 0.6855, 0.9973, 0.7224, 1.2057, 0.5059, 1.7369, 1.2295, 0.7448,\n",
       "        1.4722, 1.2647, 0.4099, 1.3804, 1.3350, 0.8961, 1.2168, 0.2750, 0.7422,\n",
       "        0.8944, 0.9557, 1.1807, 0.6196, 1.4954, 1.3025, 0.7042, 1.3069, 1.3098,\n",
       "        1.5017, 0.8783, 0.9677, 1.1863, 0.2703, 0.8369, 0.4264, 1.2755, 0.8478,\n",
       "        1.2682, 0.7347, 0.3569, 1.5632, 0.9951, 0.3750, 0.8187, 0.1924, 1.5716,\n",
       "        1.3026, 0.6455, 0.4955, 0.8726, 1.4990, 1.0540, 0.6906, 0.4364, 1.0362,\n",
       "        0.5303, 1.4688, 1.0984, 1.1493, 1.2079, 1.0577, 1.1194, 0.4902, 0.6442,\n",
       "        1.0035, 0.4463, 1.9862, 0.9231, 0.8134, 1.3908, 1.3949, 0.9423, 0.4669,\n",
       "        0.7438, 1.4290, 0.9372, 0.8832, 0.7501, 1.7196, 0.4502, 0.3325, 0.8480,\n",
       "        1.1075, 0.3594, 1.5887, 1.2807, 0.9697, 1.4602, 0.4749, 0.4792, 1.0567,\n",
       "        0.8856, 0.5849, 1.7943, 0.9549, 1.0263, 1.1334, 0.7678, 1.7276, 1.0179,\n",
       "        1.3419, 1.3940, 0.9833, 1.3987, 1.4224, 1.2079, 0.5913, 1.5835, 1.0711,\n",
       "        1.0487, 0.7531, 1.0140, 0.6172, 0.1973, 0.7378, 0.9065, 1.4097, 0.6260,\n",
       "        0.5435, 0.5732, 1.8098, 0.5346, 1.2504, 1.1330, 0.3780, 1.1692, 0.7349,\n",
       "        0.7690, 1.3071, 1.2500, 0.8898, 1.3830, 1.1405, 1.0759, 0.9297, 1.3330,\n",
       "        1.1489, 1.5161, 1.3053, 1.4575, 1.4319, 0.5871, 0.8390, 1.3279, 1.1284,\n",
       "        1.3260, 0.8777, 0.5395, 0.7046, 1.0296, 1.0610, 0.6799, 0.4998, 0.7283,\n",
       "        0.6912, 1.3802, 1.4390, 0.6120, 1.2698, 0.5947, 0.3189, 1.0540, 1.2311,\n",
       "        0.8030, 0.6947, 0.3176, 1.2881, 0.5434, 0.6473, 0.9633, 0.7991, 0.9271,\n",
       "        0.8794, 1.4711, 0.9700, 0.7178, 0.3029, 1.0188, 1.0877, 1.5787, 1.2702,\n",
       "        0.4750, 0.5204, 1.5698, 1.1750, 0.5888, 1.0998, 1.4348, 0.7642, 0.2373,\n",
       "        1.7317, 1.3840, 1.4866, 1.4093, 0.8449, 1.1529, 1.1815, 1.5135, 1.2124,\n",
       "        1.3217, 0.6981, 1.3290, 0.3459, 0.6820, 0.9291, 0.7589, 1.1616, 0.6595,\n",
       "        1.1701, 1.1811, 0.5890, 1.1809, 0.7917, 0.8252, 1.4273, 0.5598, 1.5540,\n",
       "        1.1837, 1.3066, 0.2491, 0.5803, 1.2909, 1.4372, 0.8345, 0.5282, 1.6023,\n",
       "        0.8214, 1.4557, 0.9521, 0.8874, 1.1670, 0.8514, 0.8438, 0.4909, 0.3683,\n",
       "        0.9586, 0.7469, 0.7017, 1.1360, 0.9407, 1.1032, 1.1855, 0.9583, 0.9792,\n",
       "        1.2171, 0.9631, 1.0008, 1.2301, 0.8521, 0.8645, 1.2553, 0.5422, 0.7289,\n",
       "        0.7732, 1.0477, 1.4444, 1.4840, 0.7206, 1.4614, 1.0844, 0.2869, 0.8986,\n",
       "        0.5877, 1.1342, 1.2794, 1.1620, 0.5643, 1.3698, 1.2981, 1.3012, 1.5692,\n",
       "        0.9671, 1.2013, 1.2878, 0.5720, 0.8486, 1.1622, 0.5880, 1.0569, 0.8075,\n",
       "        1.1590, 0.4982, 0.8487, 0.8744, 1.5451, 0.9647, 1.5763, 0.8000, 0.5772,\n",
       "        0.9227, 0.3072, 1.1488, 1.3786, 1.4399, 0.8041, 0.2250, 1.1359, 1.0842,\n",
       "        1.4102, 0.9256, 1.1415, 0.5621, 0.3527, 1.3842, 0.7622, 0.7987, 1.5898,\n",
       "        1.4181, 0.6313, 1.4083, 1.0578, 0.9351, 0.7926, 1.3693, 0.9854, 1.2360,\n",
       "        1.2590, 1.0770, 1.3866, 1.0325, 0.8807, 1.2803, 1.0254, 0.6295, 1.3940,\n",
       "        0.9004, 0.7803, 0.4746, 0.8399, 0.8384, 1.3818, 1.1566, 0.7344, 1.0511,\n",
       "        1.4788, 0.9410, 0.3777, 1.1544, 1.3565, 1.1192, 0.9390, 1.3333, 0.3257,\n",
       "        0.9760, 1.1527, 0.3990, 1.3506, 1.4092, 1.5492, 1.3108, 0.8287, 0.9208,\n",
       "        1.0706, 1.0471, 1.7235, 0.7079, 0.9366, 0.8185, 1.2928, 0.8337, 0.9088,\n",
       "        0.8127, 0.3093, 1.5913, 0.4910, 0.2375, 0.8439, 0.4925, 0.5361, 0.7249,\n",
       "        0.6195, 0.9104, 0.9031, 0.6145, 0.5320, 1.3289, 0.7023, 1.3202, 0.6890,\n",
       "        1.2376, 0.5979, 1.6119, 0.6757, 1.1931, 1.2941, 1.2757, 1.4468, 0.9756,\n",
       "        0.9080, 0.8010, 1.4247, 0.5916, 0.5305, 1.2993, 1.2267, 1.0559, 0.5614,\n",
       "        1.2287, 0.4383, 0.6302, 1.3183, 0.3496, 0.9660, 0.8433, 1.0303, 1.0804,\n",
       "        0.3007, 1.3399, 1.4520, 0.4246, 1.3885, 0.7235, 1.4514, 0.2743, 0.1275,\n",
       "        0.4836, 1.2594, 1.5548, 0.9276, 1.1876, 1.4449, 1.5609, 0.7180, 0.4347,\n",
       "        0.9152, 0.9667, 0.9608, 0.9525, 0.8651, 1.5963, 1.1624, 1.0284, 1.2426,\n",
       "        1.0410, 1.5833, 1.1270, 0.9557, 1.2249, 0.6619, 1.2931, 1.0536, 0.8885,\n",
       "        1.1328, 1.1347, 1.3135, 1.5777, 0.5226, 1.0666, 1.5480, 0.7753, 0.9486,\n",
       "        0.8055, 1.2113, 1.5742, 0.6090, 1.3579, 1.1540, 0.5257, 0.3374, 0.5423,\n",
       "        0.9000, 1.1964, 0.6136, 1.4369, 0.9368, 1.3436, 0.4783, 0.6785, 1.7557,\n",
       "        1.2271, 1.0877, 1.8009, 0.3943, 0.6697, 1.1768, 1.2082, 0.8184, 0.8256,\n",
       "        0.7226, 0.7334, 1.4551, 1.2991, 1.2713, 0.4819, 1.0234, 1.7627, 1.6163,\n",
       "        1.3096, 0.0705, 0.2917, 1.0815, 0.6253, 1.0906, 0.5035, 1.0859, 0.4807,\n",
       "        1.3293, 0.7154, 0.5792, 1.3906, 1.6010, 0.3083, 1.1115, 0.9415, 1.1275,\n",
       "        0.6591, 0.7918, 0.9260, 0.0767, 0.6005, 0.4722, 0.4040, 0.6793, 1.0664,\n",
       "        1.5271, 0.4244, 0.5980, 0.8689, 1.4001, 0.2490, 1.3125, 0.4135, 0.8753,\n",
       "        1.1616, 0.9326, 0.7534, 0.4975, 0.8335, 1.4153, 0.8663, 0.7498, 0.6277,\n",
       "        0.8048, 0.6389, 1.0414, 0.9575, 0.5341, 1.2166, 0.9906, 1.4065, 0.6674,\n",
       "        0.8224, 1.1079, 0.2923, 0.4498, 1.0358, 1.3204, 0.9451, 0.5203, 0.5202,\n",
       "        1.0740, 0.6289, 1.3003, 1.2311, 1.2393, 1.0309, 1.2513, 1.1432, 1.6585,\n",
       "        0.4885, 1.1774, 0.6553, 0.5607, 1.4634, 1.0855, 0.7063, 0.8321, 0.4146,\n",
       "        0.4839, 1.2680, 1.3715, 0.7082, 0.5355, 0.5831, 0.7776, 1.6861, 0.4251,\n",
       "        1.1473, 0.8304, 0.4703, 1.3584, 0.5554, 1.0348, 0.1906, 1.1871, 1.3382,\n",
       "        0.4893, 1.0823, 0.7498, 1.1582, 1.5909, 0.6052, 0.9619, 0.8740, 1.2079,\n",
       "        1.5522], device='cuda:1', grad_fn=<SelectBackward>)"
      ]
     },
     "execution_count": 39,
     "metadata": {},
     "output_type": "execute_result"
    }
   ],
   "source": [
    "dists[0]"
   ]
  },
  {
   "cell_type": "code",
   "execution_count": null,
   "metadata": {},
   "outputs": [],
   "source": []
  }
 ],
 "metadata": {
  "kernelspec": {
   "display_name": "Python 3",
   "language": "python",
   "name": "python3"
  },
  "language_info": {
   "codemirror_mode": {
    "name": "ipython",
    "version": 3
   },
   "file_extension": ".py",
   "mimetype": "text/x-python",
   "name": "python",
   "nbconvert_exporter": "python",
   "pygments_lexer": "ipython3",
   "version": "3.7.4"
  }
 },
 "nbformat": 4,
 "nbformat_minor": 4
}
