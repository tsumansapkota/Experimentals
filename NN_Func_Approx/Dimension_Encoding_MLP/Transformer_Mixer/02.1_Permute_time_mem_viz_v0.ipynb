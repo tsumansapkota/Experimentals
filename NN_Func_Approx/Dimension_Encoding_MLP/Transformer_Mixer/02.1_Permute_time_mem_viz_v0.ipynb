{
 "cells": [
  {
   "cell_type": "code",
   "execution_count": 1,
   "metadata": {},
   "outputs": [],
   "source": [
    "import numpy as np\n",
    "import json\n",
    "import matplotlib.pyplot as plt\n",
    "import matplotlib\n",
    "%matplotlib inline"
   ]
  },
  {
   "cell_type": "code",
   "execution_count": 2,
   "metadata": {},
   "outputs": [],
   "source": [
    "with open(\"./output/bench_mem_retest_data_3090_v5_(1by1)_compile_nHeads8-i64-BS8.json\", \"r\") as f:\n",
    "    data = json.load(f)"
   ]
  },
  {
   "cell_type": "code",
   "execution_count": 3,
   "metadata": {},
   "outputs": [
    {
     "data": {
      "text/plain": [
       "['01.3_ViT_train_cifar10_patch1_l2_exp64_att_mlp_s147',\n",
       " '01.3_ViT_train_cifar10_patch1_l2_exp64_sAtt_mlp_s147',\n",
       " '01.3_ViT_train_cifar10_patch1_l2_exp256_att_mlp_s147',\n",
       " '01.3_ViT_train_cifar10_patch1_l2_exp256_sAtt_mlp_s147',\n",
       " '01.3_ViT_train_cifar10_patch1_l2_exp512_att_mlp_s147',\n",
       " '01.3_ViT_train_cifar10_patch1_l2_exp512_sAtt_mlp_s147',\n",
       " '01.3_ViT_train_cifar10_patch1_l2_exp1024_att_mlp_s147',\n",
       " '01.3_ViT_train_cifar10_patch1_l2_exp1024_sAtt_mlp_s147',\n",
       " '01.3_ViT_train_cifar10_patch2_l2_exp64_att_mlp_s147',\n",
       " '01.3_ViT_train_cifar10_patch2_l2_exp64_sAtt_mlp_s147',\n",
       " '01.3_ViT_train_cifar10_patch2_l2_exp256_att_mlp_s147',\n",
       " '01.3_ViT_train_cifar10_patch2_l2_exp256_sAtt_mlp_s147',\n",
       " '01.3_ViT_train_cifar10_patch2_l2_exp512_att_mlp_s147',\n",
       " '01.3_ViT_train_cifar10_patch2_l2_exp512_sAtt_mlp_s147',\n",
       " '01.3_ViT_train_cifar10_patch2_l2_exp1024_att_mlp_s147',\n",
       " '01.3_ViT_train_cifar10_patch2_l2_exp1024_sAtt_mlp_s147',\n",
       " '01.3_ViT_train_cifar10_patch4_l2_exp64_att_mlp_s147',\n",
       " '01.3_ViT_train_cifar10_patch4_l2_exp64_sAtt_mlp_s147',\n",
       " '01.3_ViT_train_cifar10_patch4_l2_exp256_att_mlp_s147',\n",
       " '01.3_ViT_train_cifar10_patch4_l2_exp256_sAtt_mlp_s147',\n",
       " '01.3_ViT_train_cifar10_patch4_l2_exp512_att_mlp_s147',\n",
       " '01.3_ViT_train_cifar10_patch4_l2_exp512_sAtt_mlp_s147',\n",
       " '01.3_ViT_train_cifar10_patch4_l2_exp1024_att_mlp_s147',\n",
       " '01.3_ViT_train_cifar10_patch4_l2_exp1024_sAtt_mlp_s147']"
      ]
     },
     "execution_count": 3,
     "metadata": {},
     "output_type": "execute_result"
    }
   ],
   "source": [
    "list(data.keys())"
   ]
  },
  {
   "cell_type": "code",
   "execution_count": 4,
   "metadata": {},
   "outputs": [],
   "source": [
    "keys512 = [[],[]]\n",
    "for k in data.keys():\n",
    "    splits = k.split('_')\n",
    "    patch_size = int(splits[4][5:])\n",
    "    \n",
    "    if \"512\" in splits[6]:\n",
    "        if splits[7] == \"sAtt\":\n",
    "            keys512[0].append(k)\n",
    "        else:\n",
    "            keys512[1].append(k)\n",
    "            \n",
    "#     print(patch_size)"
   ]
  },
  {
   "cell_type": "code",
   "execution_count": 5,
   "metadata": {},
   "outputs": [
    {
     "data": {
      "text/plain": [
       "[['01.3_ViT_train_cifar10_patch1_l2_exp512_sAtt_mlp_s147',\n",
       "  '01.3_ViT_train_cifar10_patch2_l2_exp512_sAtt_mlp_s147',\n",
       "  '01.3_ViT_train_cifar10_patch4_l2_exp512_sAtt_mlp_s147'],\n",
       " ['01.3_ViT_train_cifar10_patch1_l2_exp512_att_mlp_s147',\n",
       "  '01.3_ViT_train_cifar10_patch2_l2_exp512_att_mlp_s147',\n",
       "  '01.3_ViT_train_cifar10_patch4_l2_exp512_att_mlp_s147']]"
      ]
     },
     "execution_count": 5,
     "metadata": {},
     "output_type": "execute_result"
    }
   ],
   "source": [
    "keys512"
   ]
  },
  {
   "cell_type": "code",
   "execution_count": 6,
   "metadata": {},
   "outputs": [
    {
     "name": "stdout",
     "output_type": "stream",
     "text": [
      "{'memory': 3536, 'time_train': {'mean': 0.19172719955444337, 'std': 0.8874782974110779, 'min': 0.06409311294555664, 'max': 6.404074192047119}, 'time_test': {'mean': 0.04053709030151367, 'std': 0.13878368607262148, 'min': 0.01782989501953125, 'max': 1.0120160579681396}, 'param': 25179146}\n"
     ]
    }
   ],
   "source": [
    "print(data[keys512[0][0]])"
   ]
  },
  {
   "cell_type": "code",
   "execution_count": 7,
   "metadata": {},
   "outputs": [
    {
     "name": "stdout",
     "output_type": "stream",
     "text": [
      "[0.06409311294555664, 0.023854732513427734, 0.012134075164794922] [3536, 1690, 1138] [25179146, 9455114, 5541386]\n",
      "[0.24598217010498047, 0.030625581741333008, 0.011056661605834961] [22356, 2582, 1222] [25179146, 9455114, 5541386]\n"
     ]
    },
    {
     "data": {
      "image/png": "[encoded data removed]",
      "text/plain": [
       "<Figure size 756x432 with 1 Axes>"
      ]
     },
     "metadata": {
      "needs_background": "light"
     },
     "output_type": "display_data"
    }
   ],
   "source": [
    "plt.figure(figsize=(10.5, 6))\n",
    "\n",
    "xs, ys, zs = [], [], [] \n",
    "for satt in keys512[0]:\n",
    "#     print(data[satt])\n",
    "    d = data[satt]\n",
    "#     print(d['memory'])\n",
    "#     print(d['time_train']['min'])   \n",
    "    mem, tim, parm = d['memory'], d['time_train']['min'], d['param']\n",
    "    plt.scatter(tim, mem, label=\"A\", marker='*', s=100)\n",
    "    xs+=[tim]\n",
    "    ys+=[mem]    \n",
    "    zs+=[parm]    \n",
    "    \n",
    "plt.plot(xs, ys)\n",
    "\n",
    "print(xs, ys, zs)\n",
    "\n",
    "xs, ys, zs = [], [], [] \n",
    "for satt in keys512[1]:\n",
    "#     print(data[satt])\n",
    "    d = data[satt]\n",
    "#     print(d['memory'])\n",
    "#     print(d['time_train']['min'])   \n",
    "    mem, tim, parm = d['memory'], d['time_train']['min'], d['param']\n",
    "    plt.scatter(tim, mem, label=\"B\", marker='*', s=100)\n",
    "    xs+=[tim]\n",
    "    ys+=[mem]    \n",
    "    zs+=[parm]    \n",
    "    \n",
    "plt.plot(xs, ys)\n",
    "\n",
    "print(xs, ys, zs)"
   ]
  },
  {
   "cell_type": "code",
   "execution_count": 8,
   "metadata": {},
   "outputs": [
    {
     "data": {
      "text/plain": [
       "[['01.3_ViT_train_cifar10_patch1_l2_exp512_sAtt_mlp_s147',\n",
       "  '01.3_ViT_train_cifar10_patch2_l2_exp512_sAtt_mlp_s147',\n",
       "  '01.3_ViT_train_cifar10_patch4_l2_exp512_sAtt_mlp_s147'],\n",
       " ['01.3_ViT_train_cifar10_patch1_l2_exp512_att_mlp_s147',\n",
       "  '01.3_ViT_train_cifar10_patch2_l2_exp512_att_mlp_s147',\n",
       "  '01.3_ViT_train_cifar10_patch4_l2_exp512_att_mlp_s147']]"
      ]
     },
     "execution_count": 8,
     "metadata": {},
     "output_type": "execute_result"
    }
   ],
   "source": [
    "keys512"
   ]
  },
  {
   "cell_type": "code",
   "execution_count": null,
   "metadata": {},
   "outputs": [],
   "source": []
  }
 ],
 "metadata": {
  "kernelspec": {
   "display_name": "Python 3",
   "language": "python",
   "name": "python3"
  },
  "language_info": {
   "codemirror_mode": {
    "name": "ipython",
    "version": 3
   },
   "file_extension": ".py",
   "mimetype": "text/x-python",
   "name": "python",
   "nbconvert_exporter": "python",
   "pygments_lexer": "ipython3",
   "version": "3.7.4"
  }
 },
 "nbformat": 4,
 "nbformat_minor": 4
}
