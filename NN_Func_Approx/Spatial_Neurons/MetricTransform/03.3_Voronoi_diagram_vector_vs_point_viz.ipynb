{
 "cells": [
  {
   "cell_type": "code",
   "execution_count": 1,
   "metadata": {},
   "outputs": [],
   "source": [
    "import numpy as np\n",
    "import torch\n",
    "import torch.nn as nn\n",
    "import torch.nn.functional as F"
   ]
  },
  {
   "cell_type": "code",
   "execution_count": 2,
   "metadata": {},
   "outputs": [],
   "source": [
    "import matplotlib\n",
    "# matplotlib.use(\"TkAgg\")\n",
    "# %matplotlib tk\n",
    "%matplotlib inline\n",
    "import matplotlib.pyplot as plt"
   ]
  },
  {
   "cell_type": "code",
   "execution_count": 3,
   "metadata": {},
   "outputs": [],
   "source": [
    "import dtnnlib as dtnn"
   ]
  },
  {
   "cell_type": "code",
   "execution_count": 4,
   "metadata": {},
   "outputs": [],
   "source": [
    "# device = torch.device(\"cuda:0\")\n",
    "device = torch.device(\"cpu\")"
   ]
  },
  {
   "cell_type": "code",
   "execution_count": 5,
   "metadata": {},
   "outputs": [],
   "source": [
    "num_points = 1000\n",
    "X1 = np.linspace(-1.5, 1.5, num_points)\n",
    "X2 = np.linspace(-1.5, 1.5, num_points)\n",
    "X1, X2 = np.meshgrid(X1, X2)\n",
    "\n",
    "XX = torch.Tensor(np.c_[X1.reshape(-1), X2.reshape(-1)]).to(device)"
   ]
  },
  {
   "cell_type": "code",
   "execution_count": 6,
   "metadata": {},
   "outputs": [
    {
     "data": {
      "text/plain": [
       "<torch._C.Generator at 0x7ff862570e10>"
      ]
     },
     "execution_count": 6,
     "metadata": {},
     "output_type": "execute_result"
    }
   ],
   "source": [
    "torch.manual_seed(741) # 147"
   ]
  },
  {
   "cell_type": "markdown",
   "metadata": {},
   "source": [
    "## Distance Voronoi"
   ]
  },
  {
   "cell_type": "code",
   "execution_count": 7,
   "metadata": {},
   "outputs": [],
   "source": [
    "class DistanceVoronoi(nn.Module):\n",
    "    \n",
    "    def __init__(self, h, bias=False):\n",
    "        super().__init__()\n",
    "        self.dt = dtnn.DistanceTransformBase(2, h)\n",
    "        self.dt.centers.data = torch.rand(self.dt.centers.shape)*2-1\n",
    "        self.bias = None\n",
    "        if bias:\n",
    "            self._init_bias_()\n",
    "        \n",
    "    def _init_bias_(self):\n",
    "        self.bias = torch.randn(self.dt.centers.shape[0])*0.2\n",
    "        \n",
    "    def forward(self, x):\n",
    "        dists = self.dt(x)\n",
    "        if self.bias is not None:\n",
    "            dists = dists + self.bias\n",
    "#         class_probs = torch.argmin(dists, dim=1)\n",
    "        return torch.argmin(dists, dim=1)\n",
    "\n",
    "    def set_centroid(self, index, value):\n",
    "        self.dt.centers[index] = torch.Tensor(value, dtype=self.dt.centers.dtype)\n",
    "        pass"
   ]
  },
  {
   "cell_type": "code",
   "execution_count": 8,
   "metadata": {},
   "outputs": [
    {
     "data": {
      "text/plain": [
       "(tensor([0, 1, 2, 3, 4, 5, 6, 7, 8, 9]),\n",
       " tensor([ 32460, 100061,  63062, 122938, 154754, 226610,  37542,  12138,  45966,\n",
       "         204469]))"
      ]
     },
     "execution_count": 8,
     "metadata": {},
     "output_type": "execute_result"
    }
   ],
   "source": [
    "out = DistanceVoronoi(10)(XX)\n",
    "torch.unique(out, return_counts=True)"
   ]
  },
  {
   "cell_type": "code",
   "execution_count": 9,
   "metadata": {},
   "outputs": [
    {
     "data": {
      "text/plain": [
       "torch.Size([1000000])"
      ]
     },
     "execution_count": 9,
     "metadata": {},
     "output_type": "execute_result"
    }
   ],
   "source": [
    "out.shape"
   ]
  },
  {
   "cell_type": "code",
   "execution_count": 10,
   "metadata": {},
   "outputs": [],
   "source": [
    "regions = 10\n",
    "voronoi = DistanceVoronoi(regions)\n",
    "cls = voronoi(XX)"
   ]
  },
  {
   "cell_type": "code",
   "execution_count": 11,
   "metadata": {},
   "outputs": [],
   "source": [
    "# plt.figure(figsize=(6, 6))\n",
    "# cf = plt.contourf(X1, X2, cls.data.cpu().numpy().reshape(X1.shape),\n",
    "#              alpha=1.0, antialiased=True, levels=regions+1, cmap='tab20')\n",
    "# plt.scatter(*voronoi.dt.centers.data.cpu().t(), marker='+', color='gray', ec=\"k\")\n",
    "\n",
    "### Color marker same as centroids\n",
    "# plt.scatter(embeddings[:,0], embeddings[:, 1], c=ilabels, s=2, cmap='tab10')\n",
    "\n",
    "# cbar = plt.colorbar(ticks=range(10), #label='classes', \n",
    "#                     boundaries=np.arange(11)-0.5)\n",
    "# cbar.set_ticks(np.arange(10))\n",
    "# cbar.set_ticklabels(list(range(10)))\n",
    "\n",
    "# plt.gca().set_prop_cycle(None)\n",
    "\n",
    "# print(cents.shape)\n",
    "### plot vectors "
   ]
  },
  {
   "cell_type": "code",
   "execution_count": 12,
   "metadata": {},
   "outputs": [
    {
     "data": {
      "text/plain": [
       "<matplotlib.image.AxesImage at 0x7ff85fb9ac10>"
      ]
     },
     "execution_count": 12,
     "metadata": {},
     "output_type": "execute_result"
    },
    {
     "data": {
      "image/png": "[encoded data removed]",
      "text/plain": [
       "<Figure size 432x432 with 1 Axes>"
      ]
     },
     "metadata": {
      "needs_background": "light"
     },
     "output_type": "display_data"
    }
   ],
   "source": [
    "plt.figure(figsize=(6, 6))\n",
    "\n",
    "cents = voronoi.dt.centers.data.cpu()\n",
    "cent_label = np.arange(0, regions, step=1)\n",
    "\n",
    "plt.scatter(*cents.t(), c=cent_label, s=100, cmap='tab10', ec='k')\n",
    "    \n",
    "# plt.gca().set_prop_cycle(None)\n",
    "plt.imshow(cls.data.cpu().numpy().reshape(X1.shape), interpolation='nearest',\n",
    "           extent=(-1.5, 1.5, -1.5, 1.5),\n",
    "           alpha=0.6, cmap='tab10',\n",
    "           aspect='auto', origin='lower')"
   ]
  },
  {
   "cell_type": "code",
   "execution_count": 13,
   "metadata": {},
   "outputs": [
    {
     "data": {
      "text/plain": [
       "tensor([0, 0, 0,  ..., 5, 5, 5])"
      ]
     },
     "execution_count": 13,
     "metadata": {},
     "output_type": "execute_result"
    }
   ],
   "source": [
    "cls"
   ]
  },
  {
   "cell_type": "code",
   "execution_count": 14,
   "metadata": {},
   "outputs": [
    {
     "data": {
      "text/plain": [
       "Parameter containing:\n",
       "tensor([[-0.2701,  0.1099],\n",
       "        [ 0.8048, -0.4893],\n",
       "        [-0.1230,  0.7958],\n",
       "        [ 0.5813,  0.5574],\n",
       "        [ 0.5833,  0.2777],\n",
       "        [ 0.7914,  0.9242],\n",
       "        [-0.4334,  0.5568],\n",
       "        [ 0.5516,  0.9586],\n",
       "        [ 0.5201, -0.5431],\n",
       "        [ 0.1190,  0.7776]], requires_grad=True)"
      ]
     },
     "execution_count": 14,
     "metadata": {},
     "output_type": "execute_result"
    }
   ],
   "source": [
    "voronoi.dt.centers"
   ]
  },
  {
   "cell_type": "markdown",
   "metadata": {},
   "source": [
    "#### With output scale/bias"
   ]
  },
  {
   "cell_type": "code",
   "execution_count": 15,
   "metadata": {},
   "outputs": [
    {
     "data": {
      "text/plain": [
       "<matplotlib.image.AxesImage at 0x7ff85e860dd0>"
      ]
     },
     "execution_count": 15,
     "metadata": {},
     "output_type": "execute_result"
    },
    {
     "data": {
      "image/png": "[encoded data removed]",
      "text/plain": [
       "<Figure size 432x432 with 1 Axes>"
      ]
     },
     "metadata": {
      "needs_background": "light"
     },
     "output_type": "display_data"
    }
   ],
   "source": [
    "regions = 10\n",
    "# voronoi = DistanceVoronoi(regions, bias=True)\n",
    "voronoi._init_bias_()\n",
    "cls = voronoi(XX)\n",
    "\n",
    "cents = voronoi.dt.centers.data.cpu()\n",
    "cent_label = np.arange(0, regions, step=1)\n",
    "\n",
    "plt.figure(figsize=(6, 6))\n",
    "plt.scatter(*cents.t(), c=cent_label, s=100, cmap='tab10', ec='k')\n",
    "# plt.gca().set_prop_cycle(None)\n",
    "plt.imshow(cls.data.cpu().numpy().reshape(X1.shape), interpolation='nearest',\n",
    "           extent=(-1.5, 1.5, -1.5, 1.5),\n",
    "           alpha=0.6, cmap='tab10',\n",
    "           aspect='auto', origin='lower')"
   ]
  },
  {
   "cell_type": "markdown",
   "metadata": {},
   "source": [
    "#### With weights shift"
   ]
  },
  {
   "cell_type": "code",
   "execution_count": 16,
   "metadata": {},
   "outputs": [
    {
     "data": {
      "text/plain": [
       "<matplotlib.image.AxesImage at 0x7ff85e8ef890>"
      ]
     },
     "execution_count": 16,
     "metadata": {},
     "output_type": "execute_result"
    },
    {
     "data": {
      "image/png": "[encoded data removed]",
      "text/plain": [
       "<Figure size 432x432 with 1 Axes>"
      ]
     },
     "metadata": {
      "needs_background": "light"
     },
     "output_type": "display_data"
    }
   ],
   "source": [
    "regions = 10\n",
    "voronoi.dt.centers.data -= 0.5\n",
    "cls = voronoi(XX)\n",
    "\n",
    "cents = voronoi.dt.centers.data.cpu()\n",
    "cent_label = np.arange(0, regions, step=1)\n",
    "\n",
    "plt.figure(figsize=(6, 6))\n",
    "plt.scatter(*cents.t(), c=cent_label, s=100, cmap='tab10', ec='k')\n",
    "# plt.gca().set_prop_cycle(None)\n",
    "plt.imshow(cls.data.cpu().numpy().reshape(X1.shape), interpolation='nearest',\n",
    "           extent=(-1.5, 1.5, -1.5, 1.5),\n",
    "           alpha=0.6, cmap='tab10',\n",
    "           aspect='auto', origin='lower')"
   ]
  },
  {
   "cell_type": "markdown",
   "metadata": {},
   "source": [
    "## Linear Voronoi"
   ]
  },
  {
   "cell_type": "code",
   "execution_count": 17,
   "metadata": {},
   "outputs": [],
   "source": [
    "class LinearVoronoi(nn.Module):\n",
    "    \n",
    "    def __init__(self, h, bias=False):\n",
    "        super().__init__()\n",
    "        self.lin = nn.Linear(2, h, bias=False)\n",
    "        self.lin.weight.data = torch.rand(self.lin.weight.shape)*2-1\n",
    "#         self.lin.weight.data /= torch.norm(self.lin.weight.data, dim=1, keepdim=True)\n",
    "        self.bias = None\n",
    "        if bias:\n",
    "            self._init_bias_()\n",
    "        \n",
    "    def _init_bias_(self):\n",
    "        self.bias = torch.randn(self.lin.weight.shape[0])*0.2\n",
    "        \n",
    "    def forward(self, x):\n",
    "        dists = self.lin(x)\n",
    "        if self.bias is not None:\n",
    "            dists = dists + self.bias\n",
    "#         class_probs = torch.argmax(dists, dim=1)\n",
    "        return torch.argmax(dists, dim=1)\n",
    "\n",
    "    def set_centroid(self, index, value):\n",
    "        self.lin.weight[index] = torch.Tensor(value, dtype=self.lin.weight.dtype)\n",
    "        pass"
   ]
  },
  {
   "cell_type": "code",
   "execution_count": 18,
   "metadata": {},
   "outputs": [],
   "source": [
    "regions = 10\n",
    "voronoi = LinearVoronoi(regions)\n",
    "cls = voronoi(XX)"
   ]
  },
  {
   "cell_type": "code",
   "execution_count": 19,
   "metadata": {},
   "outputs": [
    {
     "data": {
      "text/plain": [
       "(tensor([1, 2, 4, 6, 8]), tensor([104352, 336393, 361785, 160992,  36478]))"
      ]
     },
     "execution_count": 19,
     "metadata": {},
     "output_type": "execute_result"
    }
   ],
   "source": [
    "torch.unique(cls, return_counts=True)"
   ]
  },
  {
   "cell_type": "code",
   "execution_count": 20,
   "metadata": {},
   "outputs": [],
   "source": [
    "# plt.figure(figsize=(6, 6))\n",
    "# cf = plt.contourf(X1, X2, cls.data.cpu().numpy().reshape(X1.shape),\n",
    "#              alpha=1.0, antialiased=True, levels=regions+1, cmap='tab20')\n",
    "\n",
    "# plt.scatter(*voronoi.lin.weight.data.cpu().t(), marker='+', color='gray', ec=\"white\")\n",
    "\n",
    "# ### plot vectors "
   ]
  },
  {
   "cell_type": "code",
   "execution_count": 21,
   "metadata": {},
   "outputs": [
    {
     "data": {
      "text/plain": [
       "<matplotlib.image.AxesImage at 0x7ff85e776e90>"
      ]
     },
     "execution_count": 21,
     "metadata": {},
     "output_type": "execute_result"
    },
    {
     "data": {
      "image/png": "[encoded data removed]",
      "text/plain": [
       "<Figure size 432x432 with 1 Axes>"
      ]
     },
     "metadata": {
      "needs_background": "light"
     },
     "output_type": "display_data"
    }
   ],
   "source": [
    "%matplotlib inline\n",
    "\n",
    "plt.figure(figsize=(6, 6))\n",
    "\n",
    "cls = voronoi(XX)\n",
    "cents = voronoi.lin.weight.data.cpu()\n",
    "cent_label = np.arange(0, regions, step=1)\n",
    "\n",
    "plt.scatter(*cents.t(), c=cent_label, s=100, cmap='tab10', ec='k')\n",
    "    \n",
    "plt.gca().set_prop_cycle(None)\n",
    "plt.imshow(cls.data.cpu().numpy().reshape(X1.shape), interpolation='nearest',\n",
    "           extent=(-1.5, 1.5, -1.5, 1.5),\n",
    "           alpha=0.6, cmap='tab10',\n",
    "           aspect='auto', origin='lower')"
   ]
  },
  {
   "cell_type": "code",
   "execution_count": 22,
   "metadata": {},
   "outputs": [
    {
     "data": {
      "text/plain": [
       "tensor([[ 0.5595, -0.6397],\n",
       "        [-0.4201, -0.2026],\n",
       "        [-0.9336,  0.9990],\n",
       "        [-0.5005,  0.1535],\n",
       "        [ 0.7819, -0.9265],\n",
       "        [-0.0363, -0.2251],\n",
       "        [ 0.0332,  0.7439],\n",
       "        [-0.6200,  0.5929],\n",
       "        [ 0.2231, -0.6772],\n",
       "        [-0.4743,  0.4989]])"
      ]
     },
     "execution_count": 22,
     "metadata": {},
     "output_type": "execute_result"
    }
   ],
   "source": [
    "voronoi.lin.weight.data"
   ]
  },
  {
   "cell_type": "markdown",
   "metadata": {},
   "source": [
    "#### With output scale/bias"
   ]
  },
  {
   "cell_type": "code",
   "execution_count": 23,
   "metadata": {},
   "outputs": [
    {
     "data": {
      "text/plain": [
       "<matplotlib.image.AxesImage at 0x7ff85e6f5650>"
      ]
     },
     "execution_count": 23,
     "metadata": {},
     "output_type": "execute_result"
    },
    {
     "data": {
      "image/png": "[encoded data removed]",
      "text/plain": [
       "<Figure size 432x432 with 1 Axes>"
      ]
     },
     "metadata": {
      "needs_background": "light"
     },
     "output_type": "display_data"
    }
   ],
   "source": [
    "regions = 10\n",
    "# voronoi = LinearVoronoi(regions, bias=True)\n",
    "voronoi._init_bias_()\n",
    "cls = voronoi(XX)\n",
    "\n",
    "cents = voronoi.lin.weight.data.cpu()\n",
    "cent_label = np.arange(0, regions, step=1)\n",
    "\n",
    "plt.figure(figsize=(6, 6))\n",
    "plt.scatter(*cents.t(), c=cent_label, s=100, cmap='tab10', ec='k')\n",
    "    \n",
    "plt.gca().set_prop_cycle(None)\n",
    "plt.imshow(cls.data.cpu().numpy().reshape(X1.shape), interpolation='nearest',\n",
    "           extent=(-1.5, 1.5, -1.5, 1.5),\n",
    "           alpha=0.6, cmap='tab10',\n",
    "           aspect='auto', origin='lower')"
   ]
  },
  {
   "cell_type": "markdown",
   "metadata": {},
   "source": [
    "#### With weights shift"
   ]
  },
  {
   "cell_type": "code",
   "execution_count": 24,
   "metadata": {},
   "outputs": [],
   "source": [
    "voronoi.lin.weight.data -= 0.5"
   ]
  },
  {
   "cell_type": "code",
   "execution_count": 25,
   "metadata": {},
   "outputs": [
    {
     "data": {
      "text/plain": [
       "<matplotlib.image.AxesImage at 0x7ff85e617650>"
      ]
     },
     "execution_count": 25,
     "metadata": {},
     "output_type": "execute_result"
    },
    {
     "data": {
      "image/png": "[encoded data removed]",
      "text/plain": [
       "<Figure size 432x432 with 1 Axes>"
      ]
     },
     "metadata": {
      "needs_background": "light"
     },
     "output_type": "display_data"
    }
   ],
   "source": [
    "plt.figure(figsize=(6, 6))\n",
    "\n",
    "cls = voronoi(XX)\n",
    "cents = voronoi.lin.weight.data.cpu()\n",
    "cent_label = np.arange(0, regions, step=1)\n",
    "\n",
    "plt.scatter(*cents.t(), c=cent_label, s=100, cmap='tab10', ec='k')\n",
    "    \n",
    "plt.gca().set_prop_cycle(None)\n",
    "plt.imshow(cls.data.cpu().numpy().reshape(X1.shape), interpolation='nearest',\n",
    "           extent=(-1.5, 1.5, -1.5, 1.5),\n",
    "           alpha=0.6, cmap='tab10',\n",
    "           aspect='auto', origin='lower')"
   ]
  },
  {
   "cell_type": "code",
   "execution_count": null,
   "metadata": {},
   "outputs": [],
   "source": []
  }
 ],
 "metadata": {
  "kernelspec": {
   "display_name": "Python 3",
   "language": "python",
   "name": "python3"
  },
  "language_info": {
   "codemirror_mode": {
    "name": "ipython",
    "version": 3
   },
   "file_extension": ".py",
   "mimetype": "text/x-python",
   "name": "python",
   "nbconvert_exporter": "python",
   "pygments_lexer": "ipython3",
   "version": "3.7.4"
  }
 },
 "nbformat": 4,
 "nbformat_minor": 4
}
