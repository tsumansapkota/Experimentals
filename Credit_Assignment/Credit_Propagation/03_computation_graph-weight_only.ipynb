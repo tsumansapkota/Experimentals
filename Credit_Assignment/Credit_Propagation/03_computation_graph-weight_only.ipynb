{
 "cells": [
  {
   "cell_type": "code",
   "execution_count": 1,
   "metadata": {},
   "outputs": [],
   "source": [
    "import numpy as np\n",
    "import matplotlib.pyplot as plt\n",
    "import mylibrary.nnlib as nn"
   ]
  },
  {
   "cell_type": "code",
   "execution_count": 2,
   "metadata": {},
   "outputs": [],
   "source": [
    "x = [2, 3, 4, 5]\n",
    "t = [3, 4, 6, 7]\n",
    "W = 0\n",
    "# b = 0"
   ]
  },
  {
   "cell_type": "code",
   "execution_count": 3,
   "metadata": {},
   "outputs": [
    {
     "data": {
      "text/plain": [
       "<matplotlib.collections.PathCollection at 0x7fc48a529a20>"
      ]
     },
     "execution_count": 3,
     "metadata": {},
     "output_type": "execute_result"
    },
    {
     "data": {
      "image/png": "[encoded data removed]",
      "text/plain": [
       "<Figure size 432x288 with 1 Axes>"
      ]
     },
     "metadata": {},
     "output_type": "display_data"
    }
   ],
   "source": [
    "plt.scatter(x,t)"
   ]
  },
  {
   "cell_type": "code",
   "execution_count": 4,
   "metadata": {},
   "outputs": [
    {
     "data": {
      "text/plain": [
       "<matplotlib.collections.PathCollection at 0x7fc48a453630>"
      ]
     },
     "execution_count": 4,
     "metadata": {},
     "output_type": "execute_result"
    },
    {
     "data": {
      "image/png": "[encoded data removed]",
      "text/plain": [
       "<Figure size 432x288 with 1 Axes>"
      ]
     },
     "metadata": {},
     "output_type": "display_data"
    }
   ],
   "source": [
    "y = []\n",
    "for x_ in x:\n",
    "    y.append(W*x_)\n",
    "\n",
    "plt.scatter(x, t)\n",
    "plt.scatter(x, y)"
   ]
  },
  {
   "cell_type": "code",
   "execution_count": 5,
   "metadata": {},
   "outputs": [
    {
     "name": "stdout",
     "output_type": "stream",
     "text": [
      "E, dy  [3, 4, 6, 7] [-3, -4, -6, -7]\n"
     ]
    }
   ],
   "source": [
    "E = []\n",
    "dy = []\n",
    "for t_, y_ in zip(t, y):\n",
    "    err = t_-y_\n",
    "    E.append(err)\n",
    "    dy.append(-1*err)\n",
    "print('E, dy ',E, dy)"
   ]
  },
  {
   "cell_type": "code",
   "execution_count": 6,
   "metadata": {},
   "outputs": [
    {
     "data": {
      "text/plain": [
       "[-1.5, -1.3333333333333333, -1.5, -1.4]"
      ]
     },
     "execution_count": 6,
     "metadata": {},
     "output_type": "execute_result"
    }
   ],
   "source": [
    "# gradient using blaming i.e dW = dy/x\n",
    "dW = []\n",
    "for dy_, x_ in zip(dy, x):\n",
    "    dW.append(dy_/x_)\n",
    "dW"
   ]
  },
  {
   "cell_type": "code",
   "execution_count": 7,
   "metadata": {},
   "outputs": [
    {
     "name": "stdout",
     "output_type": "stream",
     "text": [
      "1.4333333333333331\n"
     ]
    }
   ],
   "source": [
    "delW = np.mean(dW)\n",
    "W = W - delW\n",
    "print(W)"
   ]
  },
  {
   "cell_type": "code",
   "execution_count": 8,
   "metadata": {},
   "outputs": [
    {
     "name": "stdout",
     "output_type": "stream",
     "text": [
      "E  [0.13333333333333375, -0.29999999999999893, 0.2666666666666675, -0.16666666666666607]\n"
     ]
    }
   ],
   "source": [
    "y = []\n",
    "for x_ in x:\n",
    "    y.append(W*x_)\n",
    "E = []\n",
    "dy = []\n",
    "for t_, y_ in zip(t, y):\n",
    "    err = t_-y_\n",
    "    E.append(err)\n",
    "    dy.append(-1*err)\n",
    "print('E ',E)"
   ]
  },
  {
   "cell_type": "markdown",
   "metadata": {},
   "source": [
    "#### Repeat Above 3 teps to do gradient descent and find minimum"
   ]
  },
  {
   "cell_type": "markdown",
   "metadata": {},
   "source": [
    "## Optimim for 2 points solution should be as follows:"
   ]
  },
  {
   "cell_type": "code",
   "execution_count": 9,
   "metadata": {},
   "outputs": [],
   "source": [
    "def slope_regression(x,y):\n",
    "    n = len(x)\n",
    "    sxy = 0\n",
    "    sx2 = 0\n",
    "    for x_, y_ in zip(x,y):\n",
    "        sxy += x_*y_\n",
    "        sx2 += x_**2\n",
    "    W = sxy/sx2\n",
    "    return W\n",
    "    \n",
    "def output(x, W):\n",
    "    y = []\n",
    "    for x_ in x:\n",
    "        y.append(W*x_)\n",
    "    return y"
   ]
  },
  {
   "cell_type": "code",
   "execution_count": 10,
   "metadata": {},
   "outputs": [
    {
     "name": "stdout",
     "output_type": "stream",
     "text": [
      "targeted W 1.4333333333333331\n",
      "computed W 1.4333333333333331\n"
     ]
    }
   ],
   "source": [
    "Wt = slope_regression(x, y)\n",
    "print('targeted W',Wt)\n",
    "print('computed W',W)"
   ]
  },
  {
   "cell_type": "markdown",
   "metadata": {},
   "source": [
    "# Congrats, done for only one parameter and multiple input data"
   ]
  },
  {
   "cell_type": "code",
   "execution_count": 12,
   "metadata": {},
   "outputs": [
    {
     "data": {
      "text/plain": [
       "1.4333333333333331"
      ]
     },
     "execution_count": 12,
     "metadata": {},
     "output_type": "execute_result"
    }
   ],
   "source": [
    "# simply taking all required slopes and averaging..\n",
    "Wrough = []\n",
    "for x_, y_ in zip(x,y):\n",
    "    Wrough.append(y_/x_)\n",
    "np.mean(Wrough)"
   ]
  },
  {
   "cell_type": "code",
   "execution_count": null,
   "metadata": {},
   "outputs": [],
   "source": [
    "# still works.. LOL, what should the bias be then ??"
   ]
  }
 ],
 "metadata": {
  "kernelspec": {
   "display_name": "Python 3",
   "language": "python",
   "name": "python3"
  },
  "language_info": {
   "codemirror_mode": {
    "name": "ipython",
    "version": 3
   },
   "file_extension": ".py",
   "mimetype": "text/x-python",
   "name": "python",
   "nbconvert_exporter": "python",
   "pygments_lexer": "ipython3",
   "version": "3.7.3"
  }
 },
 "nbformat": 4,
 "nbformat_minor": 2
}
