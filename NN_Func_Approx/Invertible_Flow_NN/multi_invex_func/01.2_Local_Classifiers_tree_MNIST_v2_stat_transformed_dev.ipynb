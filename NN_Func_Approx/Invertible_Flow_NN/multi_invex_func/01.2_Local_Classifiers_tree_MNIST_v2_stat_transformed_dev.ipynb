{
 "cells": [
  {
   "cell_type": "code",
   "execution_count": 1,
   "metadata": {},
   "outputs": [],
   "source": [
    "import numpy as np\n",
    "import matplotlib.pyplot as plt\n",
    "%matplotlib inline\n",
    "from mpl_toolkits.mplot3d import Axes3D\n",
    "\n",
    "import torch\n",
    "import torch.nn as nn\n",
    "import torch.nn.functional as F\n",
    "import torch.optim as optim\n",
    "from torch.utils import data\n",
    "\n",
    "import random, os, pathlib, time\n",
    "from tqdm import tqdm\n",
    "from sklearn import datasets"
   ]
  },
  {
   "cell_type": "code",
   "execution_count": 67,
   "metadata": {},
   "outputs": [],
   "source": [
    "import nflib\n",
    "from nflib.flows import SequentialFlow, NormalizingFlow, ActNorm, AffineConstantFlow, LinearFlow\n",
    "import nflib.coupling_flows as icf\n",
    "import nflib.inn_flow as inn\n",
    "import nflib.res_flow as irf"
   ]
  },
  {
   "cell_type": "code",
   "execution_count": 3,
   "metadata": {},
   "outputs": [],
   "source": [
    "from torch import distributions\n",
    "from torch.distributions import MultivariateNormal"
   ]
  },
  {
   "cell_type": "code",
   "execution_count": 4,
   "metadata": {},
   "outputs": [],
   "source": [
    "device = torch.device(\"cuda:1\")\n",
    "# device = torch.device(\"cpu\")"
   ]
  },
  {
   "cell_type": "markdown",
   "metadata": {},
   "source": [
    "## MNIST dataset"
   ]
  },
  {
   "cell_type": "code",
   "execution_count": 5,
   "metadata": {},
   "outputs": [],
   "source": [
    "import mylibrary.datasets as datasets\n",
    "import mylibrary.nnlib as tnn"
   ]
  },
  {
   "cell_type": "code",
   "execution_count": 6,
   "metadata": {},
   "outputs": [],
   "source": [
    "mnist = datasets.FashionMNIST()\n",
    "# mnist.download_mnist()\n",
    "# mnist.save_mnist()\n",
    "train_data, train_label_, test_data, test_label_ = mnist.load()\n",
    "\n",
    "train_data = train_data / 255.\n",
    "test_data = test_data / 255.\n",
    "\n",
    "# train_label = tnn.Logits.index_to_logit(train_label_)\n",
    "train_size = len(train_label_)"
   ]
  },
  {
   "cell_type": "code",
   "execution_count": 7,
   "metadata": {},
   "outputs": [],
   "source": [
    "## converting data to pytorch format\n",
    "train_data = torch.Tensor(train_data)\n",
    "test_data = torch.Tensor(test_data)\n",
    "train_label = torch.LongTensor(train_label_)\n",
    "test_label = torch.LongTensor(test_label_)"
   ]
  },
  {
   "cell_type": "code",
   "execution_count": 8,
   "metadata": {},
   "outputs": [],
   "source": [
    "input_size = 784\n",
    "output_size = 10"
   ]
  },
  {
   "cell_type": "code",
   "execution_count": 9,
   "metadata": {},
   "outputs": [],
   "source": [
    "class MNIST_Dataset(data.Dataset):\n",
    "    \n",
    "    def __init__(self, data, label):\n",
    "        self.data = data\n",
    "        self.label = label\n",
    "        \n",
    "#         self.label = mask.type(torch.float32).reshape(-1,1)\n",
    "#         self._shuffle_data_()\n",
    "        \n",
    "    def __len__(self):\n",
    "        return len(self.data)\n",
    "    \n",
    "#     def _shuffle_data_(self):\n",
    "#         randidx = random.sample(range(len(self.data)), k=len(self.data))\n",
    "# #         self.data = self.data[randidx]\n",
    "# #         self.label = self.label[randidx]\n",
    "    \n",
    "    def __getitem__(self, idx):\n",
    "        img, lbl = self.data[idx], self.label[idx]\n",
    "        return img, lbl"
   ]
  },
  {
   "cell_type": "code",
   "execution_count": 10,
   "metadata": {},
   "outputs": [],
   "source": [
    "class Subset_Dataset(data.Dataset):\n",
    "    \n",
    "    def __init__(self, dataset, index):\n",
    "        self.dataset = dataset\n",
    "        self.index = index\n",
    "        \n",
    "    def __len__(self):\n",
    "        return len(self.index)\n",
    "    \n",
    "    def __getitem__(self, idx):\n",
    "        idx = self.index[idx]\n",
    "        img, lbl = self.dataset[idx]\n",
    "        return img, lbl"
   ]
  },
  {
   "cell_type": "code",
   "execution_count": 11,
   "metadata": {},
   "outputs": [],
   "source": [
    "## The classifiers store all the data in INDEX FORM"
   ]
  },
  {
   "cell_type": "code",
   "execution_count": 12,
   "metadata": {},
   "outputs": [],
   "source": [
    "train_dataset = MNIST_Dataset(train_data, train_label)\n",
    "test_dataset = MNIST_Dataset(test_data, test_label)"
   ]
  },
  {
   "cell_type": "code",
   "execution_count": 13,
   "metadata": {},
   "outputs": [
    {
     "data": {
      "text/plain": [
       "(tensor([[0., 0., 0.,  ..., 0., 0., 0.],\n",
       "         [0., 0., 0.,  ..., 0., 0., 0.],\n",
       "         [0., 0., 0.,  ..., 0., 0., 0.]]),\n",
       " tensor([9, 0, 0]))"
      ]
     },
     "execution_count": 13,
     "metadata": {},
     "output_type": "execute_result"
    }
   ],
   "source": [
    "train_dataset[[0,1,2]]"
   ]
  },
  {
   "cell_type": "code",
   "execution_count": 14,
   "metadata": {},
   "outputs": [],
   "source": [
    "class ConnectedClassifier_SoftKMeans(nn.Module):\n",
    "    \n",
    "    def __init__(self,input_dim, num_sets, output_dim, inv_temp=1):\n",
    "        super().__init__()\n",
    "        self.input_dim = input_dim\n",
    "        self.output_dim = output_dim\n",
    "        self.num_sets = num_sets\n",
    "        self.inv_temp = nn.Parameter(torch.ones(1)*inv_temp)\n",
    "        \n",
    "        self.centers = nn.Parameter(torch.rand(num_sets, input_dim)*2-1)\n",
    "        \n",
    "#         self.cls_weight = nn.Parameter(torch.ones(num_sets, output_dim)/output_dim)\n",
    "        init_val = torch.randn(num_sets, output_dim)*0.01\n",
    "        for ns in range(num_sets):\n",
    "            init_val[ns, ns%output_dim] = 2.\n",
    "#             init_val[ns, 0] = 2. ### initialize same class in all clusters\n",
    "\n",
    "        self.cls_weight = nn.Parameter(init_val)\n",
    "\n",
    "        self.cls_confidence = None\n",
    "        \n",
    "        \n",
    "    def forward(self, x, hard=False):\n",
    "        self.cls_weight.data = torch.abs(self.cls_weight.data)/self.cls_weight.data.sum(dim=1, keepdim=True)\n",
    "        \n",
    "        x = x[:, :self.input_dim]\n",
    "        dists = torch.cdist(x, self.centers)\n",
    "        dists = dists/np.sqrt(self.input_dim) ### correction to make diagonal of unit square 1 in nD space\n",
    "        \n",
    "        if hard:\n",
    "            x = torch.softmax(-dists*1e5, dim=1)\n",
    "        else:\n",
    "            x = torch.softmax(-dists*self.inv_temp, dim=1)\n",
    "        self.cls_confidence = x\n",
    "#         c = torch.softmax(self.cls_weight, dim=1)\n",
    "        c = self.cls_weight\n",
    "        return x@c ## since both are normalized, it is also normalized"
   ]
  },
  {
   "cell_type": "code",
   "execution_count": 15,
   "metadata": {},
   "outputs": [],
   "source": [
    "class ClassifierTree:\n",
    "    \n",
    "    def __init__(self, train_data, test_data, device):\n",
    "        self.root = LocalClassifier(device)\n",
    "        self.root.create_network_0(784, [784], 10, 10)\n",
    "        \n",
    "        self.train_data = train_data\n",
    "        self.test_data = test_data\n",
    "        self.device = device\n",
    "        pass\n",
    "    \n",
    "    def display_stats(self):\n",
    "        indexing = \"0\"\n",
    "        self.root.display_stats(indexing)\n",
    "        acc, tot = self.root.get_correct_train()\n",
    "        train_acc = acc/tot\n",
    "        acc, tot = self.root.get_correct_test()\n",
    "        test_acc = acc/tot\n",
    "        print(f\"Final Accuracy is Train: {train_acc :.5f} Test: {test_acc :.5f}\")\n",
    "            \n",
    "    def get_parent_node(self, index_list:list):\n",
    "        parent = self.root\n",
    "        index_list = index_list[1:]\n",
    "        for idx in index_list[:-1]:\n",
    "            parent = parent.children[idx]\n",
    "        return parent\n",
    "    \n",
    "    def get_node(self, index_list:list):\n",
    "        parent = self.root\n",
    "        index_list = index_list[1:]\n",
    "        for idx in index_list[:-1]:\n",
    "            parent = parent.children[idx]\n",
    "        child = parent.children[index_list[-1]]\n",
    "        return child\n",
    "    \n",
    "    \n",
    "    def get_all_child_index(self):\n",
    "        child_list = []\n",
    "        self.root.get_all_index([0], child_list)\n",
    "        return child_list"
   ]
  },
  {
   "cell_type": "code",
   "execution_count": 68,
   "metadata": {},
   "outputs": [],
   "source": [
    "class LeafNode:\n",
    "    def __init__(self):\n",
    "        self.pred = None\n",
    "        self.classes = None\n",
    "        self.num_correct = None\n",
    "        self.train_indices = None\n",
    "        self.test_indices = None\n",
    "        self.test_correct = None\n",
    "        \n",
    "    def display_stats(self, indexing):\n",
    "        print(f\"[{indexing}] : Train -> {self.num_correct/len(self.train_indices) :.4f}\", end=\" \")\n",
    "        \n",
    "        if len(self.test_indices)>0:\n",
    "            test_acc = self.test_correct/len(self.test_indices)\n",
    "        else:\n",
    "            test_acc = -1\n",
    "        print(f\"Test -> {test_acc :.4f}, NUM: {len(self.train_indices)}, classes: {self.pred}:{self.classes}\")\n",
    "\n",
    "    def get_correct_train(self):\n",
    "        return self.num_correct, len(self.train_indices)\n",
    "    \n",
    "    def get_correct_test(self):\n",
    "        return self.test_correct, len(self.test_indices)\n",
    "    \n",
    "    def get_all_index(self, indexing, indx_lst):\n",
    "        indx_lst.append(indexing)\n",
    "                \n",
    "        \n",
    "    \n",
    "\n",
    "class LocalClassifier:\n",
    "    \n",
    "    def __init__(self, device):\n",
    "        self.model = None\n",
    "        self.classifier = None\n",
    "        self.device = device\n",
    "        \n",
    "        ### for training purposes\n",
    "        self.train_loader = None\n",
    "        self.test_loader = None\n",
    "        self.optimizer = None\n",
    "        self.frozen = False\n",
    "        self.criterion = None\n",
    "        \n",
    "        ### after freazing the model, record stats\n",
    "        self.children = []\n",
    "    \n",
    "    def create_network_0(self, input_dim, hidden_dims:list, output_dims, num_classifiers):\n",
    "        actf = irf.Swish\n",
    "        flows = []\n",
    "        flows.append(ActNorm(input_dim))\n",
    "#         for i in range(len(hidden_dims)):\n",
    "#             if isinstance(hidden_dims[i], list):\n",
    "#                 hdi = hidden_dims[i]\n",
    "#             else:\n",
    "#                 hdi = [hidden_dims[i]]\n",
    "#             flows.append(irf.ResidualFlow(input_dim, hdi, activation=actf))\n",
    "# #             flows.append(ActNorm(input_dim))\n",
    "\n",
    "        flows.append(LinearFlow(784))\n",
    "        \n",
    "        invertible = SequentialFlow(flows)\n",
    "        self.model = invertible.to(device)\n",
    "        \n",
    "        classifier = ConnectedClassifier_SoftKMeans(784, num_classifiers, output_dims)\n",
    "        self.classifier = classifier.to(device)\n",
    "        \n",
    "    def create_train_loader_1(self, train_dataset, index, batch_size):\n",
    "        dataset = Subset_Dataset(train_dataset, index)\n",
    "        print(f\"Train Dataset Num: {len(index)}\")\n",
    "        self.train_loader = data.DataLoader(dataset=dataset,\n",
    "                                            num_workers=4, \n",
    "                                            batch_size=batch_size, \n",
    "                                            shuffle=True)\n",
    "    \n",
    "    def create_test_loader_2(self, test_dataset, index, batch_size):\n",
    "        dataset = Subset_Dataset(test_dataset, index)\n",
    "        print(f\"Test Dataset Num: {len(index)}\")\n",
    "        self.test_loader = data.DataLoader(dataset=dataset,\n",
    "                                            num_workers=4, \n",
    "                                            batch_size=batch_size, \n",
    "                                            shuffle=False)\n",
    "        \n",
    "    def create_optimizer_3(self, lr):\n",
    "        self.optimizer = optim.Adam(list(self.model.parameters())+list(self.classifier.parameters()), \n",
    "                                    lr=lr, weight_decay=1e-15)\n",
    "        self.criterion = nn.CrossEntropyLoss()\n",
    "        \n",
    "        \n",
    "    def train_classifier_4(self, epochs, ):\n",
    "        if self.frozen:\n",
    "            raise ValueError(\"This classifier is frozen. Training it might cause errors in childern classifiers\")\n",
    "            \n",
    "    ############# TRAINING FUNCTIONALITY BELOW ####################    \n",
    "\n",
    "        index = 0\n",
    "        train_accs, test_accs = [], []\n",
    "        for epoch in tqdm(list(range(epochs))):\n",
    "            train_acc = 0\n",
    "            train_count = 0\n",
    "            for xx, yy in self.train_loader:\n",
    "                xx, yy = xx.to(device), yy.to(device)\n",
    "#                 print(xx)\n",
    "                yout = self.model(xx)\n",
    "#                 print(yout, torch.count_nonzero(torch.isnan(yout)))\n",
    "                yout = self.classifier(yout)    \n",
    "#                 print(yout, torch.count_nonzero(torch.isnan(yout)))\n",
    "                loss = self.criterion(yout, yy)\n",
    "#                 print(loss)\n",
    "                self.optimizer.zero_grad()\n",
    "                loss.backward()\n",
    "                self.optimizer.step()\n",
    "#                 losses.append(float(loss))\n",
    "\n",
    "                outputs = torch.argmax(yout, dim=1).data.cpu().numpy()\n",
    "                correct = (outputs == yy.data.cpu().numpy()).astype(float).sum()\n",
    "                train_acc += correct\n",
    "                train_count += len(outputs)\n",
    "\n",
    "            train_accs.append(float(train_acc)/train_count*100)\n",
    "            train_acc = 0\n",
    "            train_count = 0\n",
    "\n",
    "            print(f'Epoch: {epoch}:{index},  Loss:{float(loss)}')\n",
    "            test_count = 0\n",
    "            test_acc = 0\n",
    "            for xx, yy in self.test_loader:\n",
    "                xx, yy = xx.to(device), yy.to(device)\n",
    "                with torch.no_grad():\n",
    "                    yout = self.classifier(self.model(xx))    \n",
    "                outputs = torch.argmax(yout, dim=1).data.cpu().numpy()\n",
    "                correct = (outputs == yy.data.cpu().numpy()).astype(float).sum()\n",
    "                test_acc += correct\n",
    "                test_count += len(xx)\n",
    "            test_accs.append(float(test_acc)/test_count*100)\n",
    "            print(f'Train Acc:{train_accs[-1]:.2f}%, Test Acc:{test_accs[-1]:.2f}%')\n",
    "            print()\n",
    "\n",
    "        ### after each class index is finished training\n",
    "        print(f'\\t-> MAX Train Acc {max(train_accs)} ; Test Acc {max(test_accs)}')\n",
    "        \n",
    "        \n",
    "    def freeze_and_compute_stats_5(self, MIN_POINTS):\n",
    "        assert MIN_POINTS > 0\n",
    "        if self.frozen:\n",
    "            raise ValueError(\"This classifier is frozen. The stat has already been calculated\")\n",
    "            \n",
    "        self.frozen = True\n",
    "        \n",
    "        ### delete optimizer, frees memory\n",
    "        del self.optimizer\n",
    "        ### take classifier to eval mode\n",
    "        self.model.eval()\n",
    "        self.classifier.eval()\n",
    "        \n",
    "        with torch.no_grad():\n",
    "            #### remove classifier with no data or few data.\n",
    "\n",
    "            set_count = torch.zeros(self.classifier.num_sets).to(device)\n",
    "            for xx, yy in self.train_loader:\n",
    "                xx, yy = xx.to(device), yy.to(device)\n",
    "                with torch.no_grad():\n",
    "                    yout = self.classifier(self.model(xx), hard=True)\n",
    "\n",
    "                cls_indx = torch.argmax(self.classifier.cls_confidence, dim=1)\n",
    "                set_indx, count = torch.unique(cls_indx, return_counts=True) \n",
    "                set_count[set_indx] += count\n",
    "\n",
    "            #### find only the classifier having some data\n",
    "            classifier_index = []\n",
    "            classifier_count = []\n",
    "\n",
    "            for i, cnt in enumerate(set_count.type(torch.long).tolist()):\n",
    "    #             if cnt == 0: continue\n",
    "                if cnt < MIN_POINTS: continue\n",
    "\n",
    "                classifier_index.append(i)\n",
    "                classifier_count.append(int(cnt))\n",
    "\n",
    "            #### remove the classifier representing no data\n",
    "            #### OR representing data less than given N\n",
    "            print(f\"Keeping only N={len(classifier_index)}/{len(self.classifier.centers)} classifiers.\")\n",
    "            self.classifier.centers.data = self.classifier.centers.data[classifier_index]\n",
    "            self.classifier.cls_weight.data = self.classifier.cls_weight.data[classifier_index]\n",
    "            ### removed\n",
    "\n",
    "            ###### compute stats now, from pruned tree.\n",
    "            def get_Cs_Os_Ts_Zs(data_loader):\n",
    "                Cs = [] ## winning classifier\n",
    "                Os = [] ## output of winning classifier\n",
    "                Ts = [] ## target class\n",
    "                Zs = []\n",
    "\n",
    "                for xx, yy in data_loader:\n",
    "                    Ts.append(yy)\n",
    "                    xx, yy = xx.to(device), yy.to(device)\n",
    "                    with torch.no_grad():\n",
    "                        zz = self.model(xx)\n",
    "                        Zs.append(zz.data.cpu())\n",
    "                        yout = self.classifier(zz, hard=True)\n",
    "                        Os.append(torch.argmax(yout, dim=1).data.cpu())\n",
    "\n",
    "                    cls_indx = torch.argmax(self.classifier.cls_confidence, dim=1)\n",
    "                    Cs.append(cls_indx)\n",
    "\n",
    "                Cs = torch.cat(Cs, dim=0)\n",
    "                Ts = torch.cat(Ts, dim=0)\n",
    "                Os = torch.cat(Os, dim=0)\n",
    "                Zs = torch.cat(Zs, dim=0)\n",
    "                return Cs, Ts, Os, Zs\n",
    "\n",
    "\n",
    "            unshuffled_data = data.DataLoader(dataset=self.train_loader.dataset,\n",
    "                                                num_workers=4, \n",
    "                                                batch_size=self.train_loader.batch_size, \n",
    "                                                shuffle=False)\n",
    "            Cs, Ts, Os, Zs = get_Cs_Os_Ts_Zs(unshuffled_data)\n",
    "            _Cs, _Ts, _, _Zs = get_Cs_Os_Ts_Zs(self.test_loader)\n",
    "\n",
    "            print(\"Hard inference on the data !\")\n",
    "            self.children = []\n",
    "            acc = 0\n",
    "            for cls_idx in range(len(self.classifier.centers)):\n",
    "                data_idx = torch.nonzero(Cs == cls_idx)\n",
    "                Ti = Ts[data_idx]\n",
    "\n",
    "                ### get prediction according to data\n",
    "                cls, count = torch.unique(Ti, return_counts=True, sorted=True)\n",
    "                pred = cls[torch.argmax(count)]\n",
    "                p = (Ti==pred).type(torch.float32).sum()\n",
    "                acc += p\n",
    "\n",
    "                child = LeafNode()\n",
    "                child.pred = int(pred)\n",
    "                child.classes = cls.tolist()\n",
    "                child.num_correct = int(p)\n",
    "                child.train_indices = data_idx.cpu().reshape(-1)\n",
    "                \n",
    "                test_idx = torch.nonzero(_Cs == cls_idx)\n",
    "                test_p = (_Ts[test_idx]==pred).type(torch.float32).sum()\n",
    "                child.test_indices = test_idx.cpu().reshape(-1)\n",
    "                child.test_correct = int(test_p)\n",
    "\n",
    "                self.children.append(child)\n",
    "\n",
    "                print(f\"idx: {cls_idx}\\tout: {int(pred)} \\t acc: {p/len(Ti)*100 :.3f} \\tclasses:{cls.tolist()}\")\n",
    "\n",
    "            print(f\"Accuracy: {float(acc)/len(Ts)}\")\n",
    "        return Zs, Ts, _Zs, _Ts\n",
    "        \n",
    "        \n",
    "    def display_stats(self, indexing):\n",
    "        for i, c in enumerate(self.children):\n",
    "            c.display_stats(indexing+f\", {i}\")\n",
    "            \n",
    "    def get_all_index(self, indexing:list, indx_lst):\n",
    "        for i, c in enumerate(self.children):\n",
    "            c.get_all_index(indexing+[i], indx_lst)\n",
    "        pass\n",
    "\n",
    "    def get_correct_train(self):\n",
    "        a, b = 0, 0\n",
    "        for i, c in enumerate(self.children):\n",
    "            _a, _b = c.get_correct_train()\n",
    "            a+= _a\n",
    "            b+= _b\n",
    "        return a, b\n",
    "    \n",
    "    def get_correct_test(self):\n",
    "        a, b = 0, 0\n",
    "        for i, c in enumerate(self.children):\n",
    "            _a, _b = c.get_correct_test()\n",
    "            a+= _a\n",
    "            b+= _b\n",
    "        return a, b\n",
    "        \n",
    "    def inference_forward(self, x):\n",
    "        with torch.no_grad():\n",
    "            zz = self.model(x)\n",
    "            yout = self.classifier(zz, hard=True)\n",
    "            return torch.argmax(classifier.cls_confidence, dim=1)"
   ]
  },
  {
   "cell_type": "code",
   "execution_count": 69,
   "metadata": {},
   "outputs": [],
   "source": [
    "tree = ClassifierTree(train_dataset, test_dataset, device)"
   ]
  },
  {
   "cell_type": "code",
   "execution_count": 70,
   "metadata": {},
   "outputs": [],
   "source": [
    "tree.root.create_network_0(784, [784], 10, 10)"
   ]
  },
  {
   "cell_type": "code",
   "execution_count": 71,
   "metadata": {},
   "outputs": [
    {
     "name": "stdout",
     "output_type": "stream",
     "text": [
      "Train Dataset Num: 60000\n"
     ]
    }
   ],
   "source": [
    "tree.root.create_train_loader_1(train_dataset, \n",
    "                                torch.arange(0, len(train_dataset), dtype=torch.long), \n",
    "                                50)"
   ]
  },
  {
   "cell_type": "code",
   "execution_count": 72,
   "metadata": {},
   "outputs": [
    {
     "name": "stdout",
     "output_type": "stream",
     "text": [
      "Test Dataset Num: 10000\n"
     ]
    }
   ],
   "source": [
    "tree.root.create_test_loader_2(test_dataset, \n",
    "                               torch.arange(0, len(test_dataset), dtype=torch.long), \n",
    "                               50)"
   ]
  },
  {
   "cell_type": "code",
   "execution_count": 73,
   "metadata": {},
   "outputs": [],
   "source": [
    "tree.root.create_optimizer_3(lr=0.0003)"
   ]
  },
  {
   "cell_type": "code",
   "execution_count": 74,
   "metadata": {},
   "outputs": [],
   "source": [
    "# list(tree.root.classifier.parameters())"
   ]
  },
  {
   "cell_type": "code",
   "execution_count": 75,
   "metadata": {},
   "outputs": [],
   "source": [
    "# tree.root.model(torch.randn(10, 784).to(device))"
   ]
  },
  {
   "cell_type": "code",
   "execution_count": 76,
   "metadata": {},
   "outputs": [
    {
     "name": "stderr",
     "output_type": "stream",
     "text": [
      "\r",
      "  0%|          | 0/50 [00:00<?, ?it/s]"
     ]
    },
    {
     "name": "stdout",
     "output_type": "stream",
     "text": [
      "Epoch: 0:0,  Loss:2.1633331775665283\n"
     ]
    },
    {
     "name": "stderr",
     "output_type": "stream",
     "text": [
      "\r",
      "  2%|▏         | 1/50 [00:04<03:20,  4.09s/it]"
     ]
    },
    {
     "name": "stdout",
     "output_type": "stream",
     "text": [
      "Train Acc:75.05%, Test Acc:77.10%\n",
      "\n",
      "Epoch: 1:0,  Loss:1.9679445028305054\n"
     ]
    },
    {
     "name": "stderr",
     "output_type": "stream",
     "text": [
      "\r",
      "  4%|▍         | 2/50 [00:08<03:20,  4.17s/it]"
     ]
    },
    {
     "name": "stdout",
     "output_type": "stream",
     "text": [
      "Train Acc:77.76%, Test Acc:77.57%\n",
      "\n",
      "Epoch: 2:0,  Loss:1.831032395362854\n"
     ]
    },
    {
     "name": "stderr",
     "output_type": "stream",
     "text": [
      "\r",
      "  6%|▌         | 3/50 [00:12<03:08,  4.01s/it]"
     ]
    },
    {
     "name": "stdout",
     "output_type": "stream",
     "text": [
      "Train Acc:78.70%, Test Acc:79.19%\n",
      "\n",
      "Epoch: 3:0,  Loss:1.707427978515625\n"
     ]
    },
    {
     "name": "stderr",
     "output_type": "stream",
     "text": [
      "\r",
      "  8%|▊         | 4/50 [00:16<03:18,  4.32s/it]"
     ]
    },
    {
     "name": "stdout",
     "output_type": "stream",
     "text": [
      "Train Acc:80.55%, Test Acc:80.43%\n",
      "\n",
      "Epoch: 4:0,  Loss:1.7532199621200562\n"
     ]
    },
    {
     "name": "stderr",
     "output_type": "stream",
     "text": [
      "\r",
      " 10%|█         | 5/50 [00:21<03:14,  4.32s/it]"
     ]
    },
    {
     "name": "stdout",
     "output_type": "stream",
     "text": [
      "Train Acc:81.98%, Test Acc:81.49%\n",
      "\n",
      "Epoch: 5:0,  Loss:1.6719948053359985\n"
     ]
    },
    {
     "name": "stderr",
     "output_type": "stream",
     "text": [
      "\r",
      " 12%|█▏        | 6/50 [00:25<03:09,  4.31s/it]"
     ]
    },
    {
     "name": "stdout",
     "output_type": "stream",
     "text": [
      "Train Acc:82.98%, Test Acc:82.18%\n",
      "\n",
      "Epoch: 6:0,  Loss:1.755442500114441\n"
     ]
    },
    {
     "name": "stderr",
     "output_type": "stream",
     "text": [
      "\r",
      " 14%|█▍        | 7/50 [00:29<03:02,  4.23s/it]"
     ]
    },
    {
     "name": "stdout",
     "output_type": "stream",
     "text": [
      "Train Acc:83.81%, Test Acc:82.48%\n",
      "\n",
      "Epoch: 7:0,  Loss:1.7257475852966309\n"
     ]
    },
    {
     "name": "stderr",
     "output_type": "stream",
     "text": [
      "\r",
      " 16%|█▌        | 8/50 [00:33<02:55,  4.17s/it]"
     ]
    },
    {
     "name": "stdout",
     "output_type": "stream",
     "text": [
      "Train Acc:84.29%, Test Acc:83.02%\n",
      "\n",
      "Epoch: 8:0,  Loss:1.6630616188049316\n"
     ]
    },
    {
     "name": "stderr",
     "output_type": "stream",
     "text": [
      "\r",
      " 18%|█▊        | 9/50 [00:37<02:52,  4.20s/it]"
     ]
    },
    {
     "name": "stdout",
     "output_type": "stream",
     "text": [
      "Train Acc:84.69%, Test Acc:83.13%\n",
      "\n",
      "Epoch: 9:0,  Loss:1.726763129234314\n"
     ]
    },
    {
     "name": "stderr",
     "output_type": "stream",
     "text": [
      "\r",
      " 20%|██        | 10/50 [00:42<02:50,  4.26s/it]"
     ]
    },
    {
     "name": "stdout",
     "output_type": "stream",
     "text": [
      "Train Acc:85.06%, Test Acc:83.50%\n",
      "\n",
      "Epoch: 10:0,  Loss:1.6640738248825073\n"
     ]
    },
    {
     "name": "stderr",
     "output_type": "stream",
     "text": [
      "\r",
      " 22%|██▏       | 11/50 [00:46<02:48,  4.31s/it]"
     ]
    },
    {
     "name": "stdout",
     "output_type": "stream",
     "text": [
      "Train Acc:85.37%, Test Acc:83.67%\n",
      "\n",
      "Epoch: 11:0,  Loss:1.6596163511276245\n"
     ]
    },
    {
     "name": "stderr",
     "output_type": "stream",
     "text": [
      "\r",
      " 24%|██▍       | 12/50 [00:50<02:39,  4.19s/it]"
     ]
    },
    {
     "name": "stdout",
     "output_type": "stream",
     "text": [
      "Train Acc:85.70%, Test Acc:84.09%\n",
      "\n"
     ]
    },
    {
     "name": "stderr",
     "output_type": "stream",
     "text": [
      " 24%|██▍       | 12/50 [00:52<02:45,  4.35s/it]\n"
     ]
    },
    {
     "ename": "KeyboardInterrupt",
     "evalue": "",
     "output_type": "error",
     "traceback": [
      "\u001b[0;31m---------------------------------------------------------------------------\u001b[0m",
      "\u001b[0;31mKeyboardInterrupt\u001b[0m                         Traceback (most recent call last)",
      "\u001b[0;32m<ipython-input-76-0c6e3360ea93>\u001b[0m in \u001b[0;36m<module>\u001b[0;34m\u001b[0m\n\u001b[0;32m----> 1\u001b[0;31m \u001b[0mtree\u001b[0m\u001b[0;34m.\u001b[0m\u001b[0mroot\u001b[0m\u001b[0;34m.\u001b[0m\u001b[0mtrain_classifier_4\u001b[0m\u001b[0;34m(\u001b[0m\u001b[0;36m50\u001b[0m\u001b[0;34m)\u001b[0m\u001b[0;34m\u001b[0m\u001b[0;34m\u001b[0m\u001b[0m\n\u001b[0m",
      "\u001b[0;32m<ipython-input-68-9e6a7841eecf>\u001b[0m in \u001b[0;36mtrain_classifier_4\u001b[0;34m(self, epochs)\u001b[0m\n\u001b[1;32m    110\u001b[0m                 \u001b[0mself\u001b[0m\u001b[0;34m.\u001b[0m\u001b[0moptimizer\u001b[0m\u001b[0;34m.\u001b[0m\u001b[0mzero_grad\u001b[0m\u001b[0;34m(\u001b[0m\u001b[0;34m)\u001b[0m\u001b[0;34m\u001b[0m\u001b[0;34m\u001b[0m\u001b[0m\n\u001b[1;32m    111\u001b[0m                 \u001b[0mloss\u001b[0m\u001b[0;34m.\u001b[0m\u001b[0mbackward\u001b[0m\u001b[0;34m(\u001b[0m\u001b[0;34m)\u001b[0m\u001b[0;34m\u001b[0m\u001b[0;34m\u001b[0m\u001b[0m\n\u001b[0;32m--> 112\u001b[0;31m                 \u001b[0mself\u001b[0m\u001b[0;34m.\u001b[0m\u001b[0moptimizer\u001b[0m\u001b[0;34m.\u001b[0m\u001b[0mstep\u001b[0m\u001b[0;34m(\u001b[0m\u001b[0;34m)\u001b[0m\u001b[0;34m\u001b[0m\u001b[0;34m\u001b[0m\u001b[0m\n\u001b[0m\u001b[1;32m    113\u001b[0m \u001b[0;31m#                 losses.append(float(loss))\u001b[0m\u001b[0;34m\u001b[0m\u001b[0;34m\u001b[0m\u001b[0;34m\u001b[0m\u001b[0m\n\u001b[1;32m    114\u001b[0m \u001b[0;34m\u001b[0m\u001b[0m\n",
      "\u001b[0;32m~/AllFiles/ProgramFiles/miniconda3/lib/python3.8/site-packages/torch/optim/optimizer.py\u001b[0m in \u001b[0;36mwrapper\u001b[0;34m(*args, **kwargs)\u001b[0m\n\u001b[1;32m     86\u001b[0m                 \u001b[0mprofile_name\u001b[0m \u001b[0;34m=\u001b[0m \u001b[0;34m\"Optimizer.step#{}.step\"\u001b[0m\u001b[0;34m.\u001b[0m\u001b[0mformat\u001b[0m\u001b[0;34m(\u001b[0m\u001b[0mobj\u001b[0m\u001b[0;34m.\u001b[0m\u001b[0m__class__\u001b[0m\u001b[0;34m.\u001b[0m\u001b[0m__name__\u001b[0m\u001b[0;34m)\u001b[0m\u001b[0;34m\u001b[0m\u001b[0;34m\u001b[0m\u001b[0m\n\u001b[1;32m     87\u001b[0m                 \u001b[0;32mwith\u001b[0m \u001b[0mtorch\u001b[0m\u001b[0;34m.\u001b[0m\u001b[0mautograd\u001b[0m\u001b[0;34m.\u001b[0m\u001b[0mprofiler\u001b[0m\u001b[0;34m.\u001b[0m\u001b[0mrecord_function\u001b[0m\u001b[0;34m(\u001b[0m\u001b[0mprofile_name\u001b[0m\u001b[0;34m)\u001b[0m\u001b[0;34m:\u001b[0m\u001b[0;34m\u001b[0m\u001b[0;34m\u001b[0m\u001b[0m\n\u001b[0;32m---> 88\u001b[0;31m                     \u001b[0;32mreturn\u001b[0m \u001b[0mfunc\u001b[0m\u001b[0;34m(\u001b[0m\u001b[0;34m*\u001b[0m\u001b[0margs\u001b[0m\u001b[0;34m,\u001b[0m \u001b[0;34m**\u001b[0m\u001b[0mkwargs\u001b[0m\u001b[0;34m)\u001b[0m\u001b[0;34m\u001b[0m\u001b[0;34m\u001b[0m\u001b[0m\n\u001b[0m\u001b[1;32m     89\u001b[0m             \u001b[0;32mreturn\u001b[0m \u001b[0mwrapper\u001b[0m\u001b[0;34m\u001b[0m\u001b[0;34m\u001b[0m\u001b[0m\n\u001b[1;32m     90\u001b[0m \u001b[0;34m\u001b[0m\u001b[0m\n",
      "\u001b[0;32m~/AllFiles/ProgramFiles/miniconda3/lib/python3.8/site-packages/torch/autograd/grad_mode.py\u001b[0m in \u001b[0;36mdecorate_context\u001b[0;34m(*args, **kwargs)\u001b[0m\n\u001b[1;32m     26\u001b[0m         \u001b[0;32mdef\u001b[0m \u001b[0mdecorate_context\u001b[0m\u001b[0;34m(\u001b[0m\u001b[0;34m*\u001b[0m\u001b[0margs\u001b[0m\u001b[0;34m,\u001b[0m \u001b[0;34m**\u001b[0m\u001b[0mkwargs\u001b[0m\u001b[0;34m)\u001b[0m\u001b[0;34m:\u001b[0m\u001b[0;34m\u001b[0m\u001b[0;34m\u001b[0m\u001b[0m\n\u001b[1;32m     27\u001b[0m             \u001b[0;32mwith\u001b[0m \u001b[0mself\u001b[0m\u001b[0;34m.\u001b[0m\u001b[0m__class__\u001b[0m\u001b[0;34m(\u001b[0m\u001b[0;34m)\u001b[0m\u001b[0;34m:\u001b[0m\u001b[0;34m\u001b[0m\u001b[0;34m\u001b[0m\u001b[0m\n\u001b[0;32m---> 28\u001b[0;31m                 \u001b[0;32mreturn\u001b[0m \u001b[0mfunc\u001b[0m\u001b[0;34m(\u001b[0m\u001b[0;34m*\u001b[0m\u001b[0margs\u001b[0m\u001b[0;34m,\u001b[0m \u001b[0;34m**\u001b[0m\u001b[0mkwargs\u001b[0m\u001b[0;34m)\u001b[0m\u001b[0;34m\u001b[0m\u001b[0;34m\u001b[0m\u001b[0m\n\u001b[0m\u001b[1;32m     29\u001b[0m         \u001b[0;32mreturn\u001b[0m \u001b[0mcast\u001b[0m\u001b[0;34m(\u001b[0m\u001b[0mF\u001b[0m\u001b[0;34m,\u001b[0m \u001b[0mdecorate_context\u001b[0m\u001b[0;34m)\u001b[0m\u001b[0;34m\u001b[0m\u001b[0;34m\u001b[0m\u001b[0m\n\u001b[1;32m     30\u001b[0m \u001b[0;34m\u001b[0m\u001b[0m\n",
      "\u001b[0;32m~/AllFiles/ProgramFiles/miniconda3/lib/python3.8/site-packages/torch/optim/adam.py\u001b[0m in \u001b[0;36mstep\u001b[0;34m(self, closure)\u001b[0m\n\u001b[1;32m    105\u001b[0m                     \u001b[0mstate_steps\u001b[0m\u001b[0;34m.\u001b[0m\u001b[0mappend\u001b[0m\u001b[0;34m(\u001b[0m\u001b[0mstate\u001b[0m\u001b[0;34m[\u001b[0m\u001b[0;34m'step'\u001b[0m\u001b[0;34m]\u001b[0m\u001b[0;34m)\u001b[0m\u001b[0;34m\u001b[0m\u001b[0;34m\u001b[0m\u001b[0m\n\u001b[1;32m    106\u001b[0m \u001b[0;34m\u001b[0m\u001b[0m\n\u001b[0;32m--> 107\u001b[0;31m             F.adam(params_with_grad,\n\u001b[0m\u001b[1;32m    108\u001b[0m                    \u001b[0mgrads\u001b[0m\u001b[0;34m,\u001b[0m\u001b[0;34m\u001b[0m\u001b[0;34m\u001b[0m\u001b[0m\n\u001b[1;32m    109\u001b[0m                    \u001b[0mexp_avgs\u001b[0m\u001b[0;34m,\u001b[0m\u001b[0;34m\u001b[0m\u001b[0;34m\u001b[0m\u001b[0m\n",
      "\u001b[0;32m~/AllFiles/ProgramFiles/miniconda3/lib/python3.8/site-packages/torch/optim/_functional.py\u001b[0m in \u001b[0;36madam\u001b[0;34m(params, grads, exp_avgs, exp_avg_sqs, max_exp_avg_sqs, state_steps, amsgrad, beta1, beta2, lr, weight_decay, eps)\u001b[0m\n\u001b[1;32m     81\u001b[0m \u001b[0;34m\u001b[0m\u001b[0m\n\u001b[1;32m     82\u001b[0m         \u001b[0;32mif\u001b[0m \u001b[0mweight_decay\u001b[0m \u001b[0;34m!=\u001b[0m \u001b[0;36m0\u001b[0m\u001b[0;34m:\u001b[0m\u001b[0;34m\u001b[0m\u001b[0;34m\u001b[0m\u001b[0m\n\u001b[0;32m---> 83\u001b[0;31m             \u001b[0mgrad\u001b[0m \u001b[0;34m=\u001b[0m \u001b[0mgrad\u001b[0m\u001b[0;34m.\u001b[0m\u001b[0madd\u001b[0m\u001b[0;34m(\u001b[0m\u001b[0mparam\u001b[0m\u001b[0;34m,\u001b[0m \u001b[0malpha\u001b[0m\u001b[0;34m=\u001b[0m\u001b[0mweight_decay\u001b[0m\u001b[0;34m)\u001b[0m\u001b[0;34m\u001b[0m\u001b[0;34m\u001b[0m\u001b[0m\n\u001b[0m\u001b[1;32m     84\u001b[0m \u001b[0;34m\u001b[0m\u001b[0m\n\u001b[1;32m     85\u001b[0m         \u001b[0;31m# Decay the first and second moment running average coefficient\u001b[0m\u001b[0;34m\u001b[0m\u001b[0;34m\u001b[0m\u001b[0;34m\u001b[0m\u001b[0m\n",
      "\u001b[0;31mKeyboardInterrupt\u001b[0m: "
     ]
    }
   ],
   "source": [
    "tree.root.train_classifier_4(50)"
   ]
  },
  {
   "cell_type": "code",
   "execution_count": 25,
   "metadata": {},
   "outputs": [],
   "source": [
    "# asdfsdfasdf"
   ]
  },
  {
   "cell_type": "code",
   "execution_count": 26,
   "metadata": {},
   "outputs": [],
   "source": [
    "# torch.isinf(tree.root.model.flows[0].s)"
   ]
  },
  {
   "cell_type": "code",
   "execution_count": 77,
   "metadata": {},
   "outputs": [
    {
     "name": "stdout",
     "output_type": "stream",
     "text": [
      "Keeping only N=10/10 classifiers.\n",
      "Hard inference on the data !\n",
      "idx: 0\tout: 0 \t acc: 72.257 \tclasses:[0, 1, 2, 3, 4, 5, 6, 8, 9]\n",
      "idx: 1\tout: 1 \t acc: 98.248 \tclasses:[0, 1, 2, 3, 4, 5, 6, 8, 9]\n",
      "idx: 2\tout: 2 \t acc: 78.526 \tclasses:[0, 1, 2, 3, 4, 6, 8]\n",
      "idx: 3\tout: 3 \t acc: 85.478 \tclasses:[0, 1, 2, 3, 4, 5, 6, 8]\n",
      "idx: 4\tout: 4 \t acc: 74.881 \tclasses:[0, 1, 2, 3, 4, 5, 6, 8]\n",
      "idx: 5\tout: 5 \t acc: 95.888 \tclasses:[0, 2, 3, 4, 5, 6, 7, 8, 9]\n",
      "idx: 6\tout: 6 \t acc: 75.793 \tclasses:[0, 1, 2, 3, 4, 5, 6, 8]\n",
      "idx: 7\tout: 7 \t acc: 91.563 \tclasses:[1, 2, 4, 5, 6, 7, 8, 9]\n",
      "idx: 8\tout: 8 \t acc: 93.291 \tclasses:[0, 1, 2, 3, 4, 5, 6, 7, 8, 9]\n",
      "idx: 9\tout: 9 \t acc: 94.946 \tclasses:[1, 3, 4, 5, 6, 7, 8, 9]\n",
      "Accuracy: 0.8605833333333334\n"
     ]
    }
   ],
   "source": [
    "nX, nT, _nX, _nT = tree.root.freeze_and_compute_stats_5(MIN_POINTS=5)"
   ]
  },
  {
   "cell_type": "code",
   "execution_count": 78,
   "metadata": {},
   "outputs": [
    {
     "name": "stdout",
     "output_type": "stream",
     "text": [
      "[0, 0] : Train -> 0.7226 Test -> 0.7159, NUM: 7465, classes: 0:[0, 1, 2, 3, 4, 5, 6, 8, 9]\n",
      "[0, 1] : Train -> 0.9825 Test -> 0.9766, NUM: 5937, classes: 1:[0, 1, 2, 3, 4, 5, 6, 8, 9]\n",
      "[0, 2] : Train -> 0.7853 Test -> 0.7396, NUM: 5821, classes: 2:[0, 1, 2, 3, 4, 6, 8]\n",
      "[0, 3] : Train -> 0.8548 Test -> 0.8208, NUM: 6418, classes: 3:[0, 1, 2, 3, 4, 5, 6, 8]\n",
      "[0, 4] : Train -> 0.7488 Test -> 0.7210, NUM: 6517, classes: 4:[0, 1, 2, 3, 4, 5, 6, 8]\n",
      "[0, 5] : Train -> 0.9589 Test -> 0.9512, NUM: 5763, classes: 5:[0, 2, 3, 4, 5, 6, 7, 8, 9]\n",
      "[0, 6] : Train -> 0.7579 Test -> 0.7282, NUM: 3689, classes: 6:[0, 1, 2, 3, 4, 5, 6, 8]\n",
      "[0, 7] : Train -> 0.9156 Test -> 0.8910, NUM: 6199, classes: 7:[1, 2, 4, 5, 6, 7, 8, 9]\n",
      "[0, 8] : Train -> 0.9329 Test -> 0.9171, NUM: 6156, classes: 8:[0, 1, 2, 3, 4, 5, 6, 7, 8, 9]\n",
      "[0, 9] : Train -> 0.9495 Test -> 0.9374, NUM: 6035, classes: 9:[1, 3, 4, 5, 6, 7, 8, 9]\n",
      "Final Accuracy is Train: 0.86058 Test: 0.84020\n"
     ]
    }
   ],
   "source": [
    "tree.display_stats()"
   ]
  },
  {
   "cell_type": "code",
   "execution_count": 79,
   "metadata": {},
   "outputs": [],
   "source": [
    "node = tree.get_node([0, 0])"
   ]
  },
  {
   "cell_type": "code",
   "execution_count": 80,
   "metadata": {},
   "outputs": [
    {
     "data": {
      "text/plain": [
       "7465"
      ]
     },
     "execution_count": 80,
     "metadata": {},
     "output_type": "execute_result"
    }
   ],
   "source": [
    "len(node.train_indices)"
   ]
  },
  {
   "cell_type": "code",
   "execution_count": 81,
   "metadata": {},
   "outputs": [
    {
     "data": {
      "text/plain": [
       "[[0, 0],\n",
       " [0, 1],\n",
       " [0, 2],\n",
       " [0, 3],\n",
       " [0, 4],\n",
       " [0, 5],\n",
       " [0, 6],\n",
       " [0, 7],\n",
       " [0, 8],\n",
       " [0, 9]]"
      ]
     },
     "execution_count": 81,
     "metadata": {},
     "output_type": "execute_result"
    }
   ],
   "source": [
    "tree.get_all_child_index()"
   ]
  },
  {
   "cell_type": "code",
   "execution_count": 82,
   "metadata": {},
   "outputs": [],
   "source": [
    "_train_data = train_data.clone()\n",
    "_test_data = test_data.clone()"
   ]
  },
  {
   "cell_type": "markdown",
   "metadata": {},
   "source": [
    "## Distance based analysis of transformed X"
   ]
  },
  {
   "cell_type": "code",
   "execution_count": 83,
   "metadata": {},
   "outputs": [],
   "source": [
    "indx = [0,0]\n",
    "parent = tree.get_parent_node(indx)\n",
    "node = tree.get_node(indx)"
   ]
  },
  {
   "cell_type": "code",
   "execution_count": 84,
   "metadata": {},
   "outputs": [],
   "source": [
    "_train_data[node.train_indices] = nX[node.train_indices]\n",
    "_test_data[node.test_indices] = _nX[node.test_indices]"
   ]
  },
  {
   "cell_type": "code",
   "execution_count": 85,
   "metadata": {},
   "outputs": [],
   "source": [
    "Zi = nX[node.train_indices]\n",
    "Ti = nT[node.train_indices]"
   ]
  },
  {
   "cell_type": "code",
   "execution_count": 86,
   "metadata": {},
   "outputs": [],
   "source": [
    "center = parent.classifier.centers[indx[-1]].data"
   ]
  },
  {
   "cell_type": "code",
   "execution_count": 87,
   "metadata": {},
   "outputs": [
    {
     "data": {
      "text/plain": [
       "<matplotlib.collections.PathCollection at 0x7f22687aedc0>"
      ]
     },
     "execution_count": 87,
     "metadata": {},
     "output_type": "execute_result"
    },
    {
     "data": {
      "image/png": "[encoded data removed]",
      "text/plain": [
       "<Figure size 432x288 with 1 Axes>"
      ]
     },
     "metadata": {
      "needs_background": "light"
     },
     "output_type": "display_data"
    }
   ],
   "source": [
    "## distance from the center and corresponding class\n",
    "dists = torch.norm(Zi-center.cpu().data.unsqueeze(0), dim=1)/np.sqrt(784)\n",
    "plt.scatter(Ti, dists, c=Ti)"
   ]
  },
  {
   "cell_type": "code",
   "execution_count": 88,
   "metadata": {},
   "outputs": [
    {
     "name": "stdout",
     "output_type": "stream",
     "text": [
      "class: 0, mean: 4.797850131988525, std:2.7120096683502197\n",
      "class: 1, mean: 3.8066654205322266, std:1.7161931991577148\n",
      "class: 2, mean: 5.126330375671387, std:2.364932060241699\n",
      "class: 3, mean: 3.373481035232544, std:1.2473589181900024\n",
      "class: 4, mean: 3.3251302242279053, std:1.4837702512741089\n",
      "class: 5, mean: 2.465946674346924, std:0.33860406279563904\n",
      "class: 6, mean: 4.635166168212891, std:3.059600353240967\n",
      "class: 8, mean: 8.750611305236816, std:7.507153511047363\n",
      "class: 9, mean: 3.1764893531799316, std:1.2779593467712402\n"
     ]
    }
   ],
   "source": [
    "### mean, std dist of each class\n",
    "for i in range(10):\n",
    "    _ind = torch.nonzero(Ti==i)\n",
    "    if len(_ind) < 1: continue\n",
    "    _dat = dists[_ind]\n",
    "    print(f\"class: {i}, mean: {_dat.mean()}, std:{_dat.std()}\")"
   ]
  },
  {
   "cell_type": "code",
   "execution_count": null,
   "metadata": {},
   "outputs": [],
   "source": []
  },
  {
   "cell_type": "code",
   "execution_count": 39,
   "metadata": {},
   "outputs": [
    {
     "ename": "NameError",
     "evalue": "name 'asdfsadf' is not defined",
     "output_type": "error",
     "traceback": [
      "\u001b[0;31m---------------------------------------------------------------------------\u001b[0m",
      "\u001b[0;31mNameError\u001b[0m                                 Traceback (most recent call last)",
      "\u001b[0;32m<ipython-input-39-b4d6b660fffb>\u001b[0m in \u001b[0;36m<module>\u001b[0;34m\u001b[0m\n\u001b[0;32m----> 1\u001b[0;31m \u001b[0masdfsadf\u001b[0m\u001b[0;34m\u001b[0m\u001b[0;34m\u001b[0m\u001b[0m\n\u001b[0m",
      "\u001b[0;31mNameError\u001b[0m: name 'asdfsadf' is not defined"
     ]
    }
   ],
   "source": [
    "asdfsadf"
   ]
  },
  {
   "cell_type": "markdown",
   "metadata": {},
   "source": [
    "### Select a node and train a new classifier: from transformed data"
   ]
  },
  {
   "cell_type": "code",
   "execution_count": 150,
   "metadata": {},
   "outputs": [
    {
     "name": "stdout",
     "output_type": "stream",
     "text": [
      "Max incorrect: 932, [0, 3], train for: 233\n"
     ]
    }
   ],
   "source": [
    "### make selecting index automatic\n",
    "###### for all child index analyse how much incorrect training examples are present\n",
    "\n",
    "### 1. train the cild with maximum incorrect ones.\n",
    "### 2. train the network for at least 30,000 steps:\n",
    "###     for a 5K dataset with 50 batch size, 100 steps in one epoch, so train for 300 epochs\n",
    "\n",
    "MIN_POINTS = 10\n",
    "batch_size = 50\n",
    "\n",
    "max_incorrect = 0\n",
    "max_inc_node = None\n",
    "train_epoch = None\n",
    "for ci in tree.get_all_child_index():\n",
    "    node = tree.get_node(ci)\n",
    "    num_data = len(node.train_indices)\n",
    "    if num_data < MIN_POINTS: continue\n",
    "        \n",
    "    incorrect = num_data - node.num_correct\n",
    "    if incorrect > max_incorrect:\n",
    "        max_incorrect = incorrect\n",
    "        max_inc_node = ci\n",
    "        steps_in_epoch = max(num_data/batch_size, 1)\n",
    "        train_epoch = int(30000/steps_in_epoch)\n",
    "        \n",
    "print(f\"Max incorrect: {max_incorrect}, {max_inc_node}, train for: {train_epoch}\")"
   ]
  },
  {
   "cell_type": "code",
   "execution_count": 151,
   "metadata": {},
   "outputs": [],
   "source": [
    "###### for a given index of classifier make it \n",
    "# indx = [0, 0]\n",
    "indx = max_inc_node\n",
    "parent = tree.get_parent_node(indx)\n",
    "node = tree.get_node(indx)"
   ]
  },
  {
   "cell_type": "code",
   "execution_count": 152,
   "metadata": {},
   "outputs": [
    {
     "data": {
      "text/plain": [
       "(3, [0, 1, 2, 3, 4, 5, 6, 8])"
      ]
     },
     "execution_count": 152,
     "metadata": {},
     "output_type": "execute_result"
    }
   ],
   "source": [
    "# node.train_indices, node.test_indices\n",
    "node.pred, node.classes"
   ]
  },
  {
   "cell_type": "code",
   "execution_count": 153,
   "metadata": {},
   "outputs": [],
   "source": [
    "alt_node = LocalClassifier(device)"
   ]
  },
  {
   "cell_type": "code",
   "execution_count": 154,
   "metadata": {},
   "outputs": [],
   "source": [
    "# train_dataset.data = _train_data\n",
    "# test_dataset.data = _test_data\n",
    "# train_dataset.data = train_data\n",
    "# test_dataset.data = test_data"
   ]
  },
  {
   "cell_type": "code",
   "execution_count": 155,
   "metadata": {},
   "outputs": [
    {
     "name": "stdout",
     "output_type": "stream",
     "text": [
      "Train Dataset Num: 6418\n",
      "Test Dataset Num: 1077\n"
     ]
    }
   ],
   "source": [
    "### make classifier with only available classes\n",
    "avl_cls = node.classes\n",
    "num_cls = len(node.classes)\n",
    "output_dim = 10\n",
    "num_sets = num_cls*2\n",
    "init_val = torch.abs(torch.randn(num_sets, output_dim)*0.01)\n",
    "for ns in range(num_sets):\n",
    "    init_val[ns, avl_cls[ns%num_cls]] = 2.\n",
    "\n",
    "alt_node.create_network_0(784, [1], output_dim, num_sets)\n",
    "alt_node.classifier.cls_weight.data = init_val.to(device)\n",
    "\n",
    "alt_node.create_train_loader_1(train_dataset, node.train_indices, batch_size=50)\n",
    "alt_node.create_test_loader_2(test_dataset, node.test_indices, batch_size=50)\n",
    "alt_node.create_optimizer_3(lr=0.0003)"
   ]
  },
  {
   "cell_type": "code",
   "execution_count": 156,
   "metadata": {},
   "outputs": [
    {
     "name": "stdout",
     "output_type": "stream",
     "text": [
      "[] : Train -> 0.8548 Test -> 0.8208, NUM: 6418, classes: 3:[0, 1, 2, 3, 4, 5, 6, 8]\n"
     ]
    }
   ],
   "source": [
    "node.display_stats(\"\")"
   ]
  },
  {
   "cell_type": "code",
   "execution_count": 157,
   "metadata": {
    "scrolled": true
   },
   "outputs": [
    {
     "name": "stderr",
     "output_type": "stream",
     "text": [
      "\r",
      "  0%|          | 0/100 [00:00<?, ?it/s]"
     ]
    },
    {
     "name": "stdout",
     "output_type": "stream",
     "text": [
      "Epoch: 0:0,  Loss:2.2072973251342773\n"
     ]
    },
    {
     "name": "stderr",
     "output_type": "stream",
     "text": [
      "\r",
      "  1%|          | 1/100 [00:01<01:44,  1.06s/it]"
     ]
    },
    {
     "name": "stdout",
     "output_type": "stream",
     "text": [
      "Train Acc:78.16%, Test Acc:82.17%\n",
      "\n",
      "Epoch: 1:0,  Loss:2.1804540157318115\n"
     ]
    },
    {
     "name": "stderr",
     "output_type": "stream",
     "text": [
      "\r",
      "  2%|▏         | 2/100 [00:02<01:49,  1.12s/it]"
     ]
    },
    {
     "name": "stdout",
     "output_type": "stream",
     "text": [
      "Train Acc:85.40%, Test Acc:82.08%\n",
      "\n",
      "Epoch: 2:0,  Loss:2.1238515377044678\n"
     ]
    },
    {
     "name": "stderr",
     "output_type": "stream",
     "text": [
      "\r",
      "  3%|▎         | 3/100 [00:03<01:46,  1.10s/it]"
     ]
    },
    {
     "name": "stdout",
     "output_type": "stream",
     "text": [
      "Train Acc:85.48%, Test Acc:82.08%\n",
      "\n",
      "Epoch: 3:0,  Loss:2.1011385917663574\n"
     ]
    },
    {
     "name": "stderr",
     "output_type": "stream",
     "text": [
      "\r",
      "  4%|▍         | 4/100 [00:04<01:50,  1.15s/it]"
     ]
    },
    {
     "name": "stdout",
     "output_type": "stream",
     "text": [
      "Train Acc:85.48%, Test Acc:82.08%\n",
      "\n",
      "Epoch: 4:0,  Loss:2.0497467517852783\n"
     ]
    },
    {
     "name": "stderr",
     "output_type": "stream",
     "text": [
      "\r",
      "  5%|▌         | 5/100 [00:05<01:45,  1.11s/it]"
     ]
    },
    {
     "name": "stdout",
     "output_type": "stream",
     "text": [
      "Train Acc:85.48%, Test Acc:82.08%\n",
      "\n",
      "Epoch: 5:0,  Loss:1.9891499280929565\n"
     ]
    },
    {
     "name": "stderr",
     "output_type": "stream",
     "text": [
      "\r",
      "  6%|▌         | 6/100 [00:06<01:41,  1.08s/it]"
     ]
    },
    {
     "name": "stdout",
     "output_type": "stream",
     "text": [
      "Train Acc:85.48%, Test Acc:82.08%\n",
      "\n",
      "Epoch: 6:0,  Loss:1.971926212310791\n"
     ]
    },
    {
     "name": "stderr",
     "output_type": "stream",
     "text": [
      "\r",
      "  7%|▋         | 7/100 [00:07<01:43,  1.11s/it]"
     ]
    },
    {
     "name": "stdout",
     "output_type": "stream",
     "text": [
      "Train Acc:85.48%, Test Acc:82.08%\n",
      "\n",
      "Epoch: 7:0,  Loss:1.9344907999038696\n"
     ]
    },
    {
     "name": "stderr",
     "output_type": "stream",
     "text": [
      "\r",
      "  8%|▊         | 8/100 [00:08<01:42,  1.12s/it]"
     ]
    },
    {
     "name": "stdout",
     "output_type": "stream",
     "text": [
      "Train Acc:85.48%, Test Acc:82.08%\n",
      "\n",
      "Epoch: 8:0,  Loss:1.8976527452468872\n"
     ]
    },
    {
     "name": "stderr",
     "output_type": "stream",
     "text": [
      "\r",
      "  9%|▉         | 9/100 [00:09<01:40,  1.11s/it]"
     ]
    },
    {
     "name": "stdout",
     "output_type": "stream",
     "text": [
      "Train Acc:85.48%, Test Acc:82.08%\n",
      "\n",
      "Epoch: 9:0,  Loss:1.79519522190094\n"
     ]
    },
    {
     "name": "stderr",
     "output_type": "stream",
     "text": [
      "\r",
      " 10%|█         | 10/100 [00:11<01:38,  1.09s/it]"
     ]
    },
    {
     "name": "stdout",
     "output_type": "stream",
     "text": [
      "Train Acc:85.48%, Test Acc:82.08%\n",
      "\n",
      "Epoch: 10:0,  Loss:1.978177547454834\n"
     ]
    },
    {
     "name": "stderr",
     "output_type": "stream",
     "text": [
      "\r",
      " 11%|█         | 11/100 [00:12<01:42,  1.15s/it]"
     ]
    },
    {
     "name": "stdout",
     "output_type": "stream",
     "text": [
      "Train Acc:85.48%, Test Acc:82.08%\n",
      "\n",
      "Epoch: 11:0,  Loss:1.8416037559509277\n"
     ]
    },
    {
     "name": "stderr",
     "output_type": "stream",
     "text": [
      "\r",
      " 12%|█▏        | 12/100 [00:13<01:42,  1.17s/it]"
     ]
    },
    {
     "name": "stdout",
     "output_type": "stream",
     "text": [
      "Train Acc:85.48%, Test Acc:82.08%\n",
      "\n",
      "Epoch: 12:0,  Loss:1.8594474792480469\n"
     ]
    },
    {
     "name": "stderr",
     "output_type": "stream",
     "text": [
      "\r",
      " 13%|█▎        | 13/100 [00:14<01:45,  1.21s/it]"
     ]
    },
    {
     "name": "stdout",
     "output_type": "stream",
     "text": [
      "Train Acc:85.48%, Test Acc:82.08%\n",
      "\n",
      "Epoch: 13:0,  Loss:1.797974944114685\n"
     ]
    },
    {
     "name": "stderr",
     "output_type": "stream",
     "text": [
      "\r",
      " 14%|█▍        | 14/100 [00:16<01:43,  1.21s/it]"
     ]
    },
    {
     "name": "stdout",
     "output_type": "stream",
     "text": [
      "Train Acc:85.48%, Test Acc:82.08%\n",
      "\n",
      "Epoch: 14:0,  Loss:1.7340868711471558\n"
     ]
    },
    {
     "name": "stderr",
     "output_type": "stream",
     "text": [
      "\r",
      " 15%|█▌        | 15/100 [00:17<01:41,  1.19s/it]"
     ]
    },
    {
     "name": "stdout",
     "output_type": "stream",
     "text": [
      "Train Acc:85.48%, Test Acc:82.08%\n",
      "\n",
      "Epoch: 15:0,  Loss:1.6722246408462524\n"
     ]
    },
    {
     "name": "stderr",
     "output_type": "stream",
     "text": [
      "\r",
      " 16%|█▌        | 16/100 [00:18<01:37,  1.16s/it]"
     ]
    },
    {
     "name": "stdout",
     "output_type": "stream",
     "text": [
      "Train Acc:85.48%, Test Acc:82.08%\n",
      "\n",
      "Epoch: 16:0,  Loss:1.6082801818847656\n"
     ]
    },
    {
     "name": "stderr",
     "output_type": "stream",
     "text": [
      "\r",
      " 17%|█▋        | 17/100 [00:19<01:32,  1.12s/it]"
     ]
    },
    {
     "name": "stdout",
     "output_type": "stream",
     "text": [
      "Train Acc:85.48%, Test Acc:82.08%\n",
      "\n",
      "Epoch: 17:0,  Loss:1.5955730676651\n"
     ]
    },
    {
     "name": "stderr",
     "output_type": "stream",
     "text": [
      "\r",
      " 18%|█▊        | 18/100 [00:20<01:32,  1.13s/it]"
     ]
    },
    {
     "name": "stdout",
     "output_type": "stream",
     "text": [
      "Train Acc:85.48%, Test Acc:82.08%\n",
      "\n",
      "Epoch: 18:0,  Loss:1.7337344884872437\n"
     ]
    },
    {
     "name": "stderr",
     "output_type": "stream",
     "text": [
      "\r",
      " 19%|█▉        | 19/100 [00:21<01:35,  1.17s/it]"
     ]
    },
    {
     "name": "stdout",
     "output_type": "stream",
     "text": [
      "Train Acc:85.48%, Test Acc:82.08%\n",
      "\n",
      "Epoch: 19:0,  Loss:1.6257038116455078\n"
     ]
    },
    {
     "name": "stderr",
     "output_type": "stream",
     "text": [
      "\r",
      " 20%|██        | 20/100 [00:23<01:36,  1.21s/it]"
     ]
    },
    {
     "name": "stdout",
     "output_type": "stream",
     "text": [
      "Train Acc:85.48%, Test Acc:82.08%\n",
      "\n",
      "Epoch: 20:0,  Loss:1.617297649383545\n"
     ]
    },
    {
     "name": "stderr",
     "output_type": "stream",
     "text": [
      "\r",
      " 21%|██        | 21/100 [00:24<01:33,  1.18s/it]"
     ]
    },
    {
     "name": "stdout",
     "output_type": "stream",
     "text": [
      "Train Acc:85.48%, Test Acc:82.08%\n",
      "\n",
      "Epoch: 21:0,  Loss:1.5082011222839355\n"
     ]
    },
    {
     "name": "stderr",
     "output_type": "stream",
     "text": [
      "\r",
      " 22%|██▏       | 22/100 [00:25<01:36,  1.23s/it]"
     ]
    },
    {
     "name": "stdout",
     "output_type": "stream",
     "text": [
      "Train Acc:85.48%, Test Acc:82.08%\n",
      "\n",
      "Epoch: 22:0,  Loss:1.7112672328948975\n"
     ]
    },
    {
     "name": "stderr",
     "output_type": "stream",
     "text": [
      "\r",
      " 23%|██▎       | 23/100 [00:26<01:32,  1.21s/it]"
     ]
    },
    {
     "name": "stdout",
     "output_type": "stream",
     "text": [
      "Train Acc:85.48%, Test Acc:82.08%\n",
      "\n",
      "Epoch: 23:0,  Loss:1.7615470886230469\n"
     ]
    },
    {
     "name": "stderr",
     "output_type": "stream",
     "text": [
      "\r",
      " 24%|██▍       | 24/100 [00:27<01:30,  1.19s/it]"
     ]
    },
    {
     "name": "stdout",
     "output_type": "stream",
     "text": [
      "Train Acc:85.48%, Test Acc:82.08%\n",
      "\n",
      "Epoch: 24:0,  Loss:1.5979491472244263\n"
     ]
    },
    {
     "name": "stderr",
     "output_type": "stream",
     "text": [
      "\r",
      " 25%|██▌       | 25/100 [00:28<01:28,  1.18s/it]"
     ]
    },
    {
     "name": "stdout",
     "output_type": "stream",
     "text": [
      "Train Acc:85.48%, Test Acc:82.08%\n",
      "\n",
      "Epoch: 25:0,  Loss:1.5958564281463623\n"
     ]
    },
    {
     "name": "stderr",
     "output_type": "stream",
     "text": [
      "\r",
      " 26%|██▌       | 26/100 [00:30<01:29,  1.21s/it]"
     ]
    },
    {
     "name": "stdout",
     "output_type": "stream",
     "text": [
      "Train Acc:85.48%, Test Acc:82.08%\n",
      "\n",
      "Epoch: 26:0,  Loss:1.6457549333572388\n"
     ]
    },
    {
     "name": "stderr",
     "output_type": "stream",
     "text": [
      "\r",
      " 27%|██▋       | 27/100 [00:31<01:26,  1.19s/it]"
     ]
    },
    {
     "name": "stdout",
     "output_type": "stream",
     "text": [
      "Train Acc:85.48%, Test Acc:82.08%\n",
      "\n",
      "Epoch: 27:0,  Loss:1.6985371112823486\n"
     ]
    },
    {
     "name": "stderr",
     "output_type": "stream",
     "text": [
      "\r",
      " 28%|██▊       | 28/100 [00:32<01:28,  1.22s/it]"
     ]
    },
    {
     "name": "stdout",
     "output_type": "stream",
     "text": [
      "Train Acc:85.48%, Test Acc:82.08%\n",
      "\n",
      "Epoch: 28:0,  Loss:1.5876357555389404\n"
     ]
    },
    {
     "name": "stderr",
     "output_type": "stream",
     "text": [
      "\r",
      " 29%|██▉       | 29/100 [00:33<01:25,  1.20s/it]"
     ]
    },
    {
     "name": "stdout",
     "output_type": "stream",
     "text": [
      "Train Acc:85.48%, Test Acc:82.08%\n",
      "\n",
      "Epoch: 29:0,  Loss:1.532726764678955\n"
     ]
    },
    {
     "name": "stderr",
     "output_type": "stream",
     "text": [
      "\r",
      " 30%|███       | 30/100 [00:35<01:25,  1.22s/it]"
     ]
    },
    {
     "name": "stdout",
     "output_type": "stream",
     "text": [
      "Train Acc:85.48%, Test Acc:82.08%\n",
      "\n",
      "Epoch: 30:0,  Loss:1.4759160280227661\n"
     ]
    },
    {
     "name": "stderr",
     "output_type": "stream",
     "text": [
      "\r",
      " 31%|███       | 31/100 [00:36<01:22,  1.19s/it]"
     ]
    },
    {
     "name": "stdout",
     "output_type": "stream",
     "text": [
      "Train Acc:85.48%, Test Acc:82.08%\n",
      "\n",
      "Epoch: 31:0,  Loss:1.693036437034607\n"
     ]
    },
    {
     "name": "stderr",
     "output_type": "stream",
     "text": [
      "\r",
      " 32%|███▏      | 32/100 [00:37<01:23,  1.23s/it]"
     ]
    },
    {
     "name": "stdout",
     "output_type": "stream",
     "text": [
      "Train Acc:85.48%, Test Acc:82.08%\n",
      "\n",
      "Epoch: 32:0,  Loss:1.636364459991455\n"
     ]
    },
    {
     "name": "stderr",
     "output_type": "stream",
     "text": [
      "\r",
      " 33%|███▎      | 33/100 [00:38<01:20,  1.20s/it]"
     ]
    },
    {
     "name": "stdout",
     "output_type": "stream",
     "text": [
      "Train Acc:85.48%, Test Acc:82.08%\n",
      "\n",
      "Epoch: 33:0,  Loss:1.636491298675537\n"
     ]
    },
    {
     "name": "stderr",
     "output_type": "stream",
     "text": [
      "\r",
      " 34%|███▍      | 34/100 [00:39<01:17,  1.18s/it]"
     ]
    },
    {
     "name": "stdout",
     "output_type": "stream",
     "text": [
      "Train Acc:85.48%, Test Acc:82.08%\n",
      "\n",
      "Epoch: 34:0,  Loss:1.4698474407196045\n"
     ]
    },
    {
     "name": "stderr",
     "output_type": "stream",
     "text": [
      "\r",
      " 35%|███▌      | 35/100 [00:40<01:15,  1.17s/it]"
     ]
    },
    {
     "name": "stdout",
     "output_type": "stream",
     "text": [
      "Train Acc:85.48%, Test Acc:82.08%\n",
      "\n",
      "Epoch: 35:0,  Loss:1.5251288414001465\n"
     ]
    },
    {
     "name": "stderr",
     "output_type": "stream",
     "text": [
      "\r",
      " 36%|███▌      | 36/100 [00:42<01:16,  1.19s/it]"
     ]
    },
    {
     "name": "stdout",
     "output_type": "stream",
     "text": [
      "Train Acc:85.48%, Test Acc:82.08%\n",
      "\n",
      "Epoch: 36:0,  Loss:1.7432829141616821\n"
     ]
    },
    {
     "name": "stderr",
     "output_type": "stream",
     "text": [
      "\r",
      " 37%|███▋      | 37/100 [00:43<01:13,  1.17s/it]"
     ]
    },
    {
     "name": "stdout",
     "output_type": "stream",
     "text": [
      "Train Acc:85.48%, Test Acc:82.08%\n",
      "\n",
      "Epoch: 37:0,  Loss:1.5786186456680298\n"
     ]
    },
    {
     "name": "stderr",
     "output_type": "stream",
     "text": [
      "\r",
      " 38%|███▊      | 38/100 [00:44<01:09,  1.12s/it]"
     ]
    },
    {
     "name": "stdout",
     "output_type": "stream",
     "text": [
      "Train Acc:85.48%, Test Acc:82.08%\n",
      "\n",
      "Epoch: 38:0,  Loss:1.5768290758132935\n"
     ]
    },
    {
     "name": "stderr",
     "output_type": "stream",
     "text": [
      "\r",
      " 39%|███▉      | 39/100 [00:45<01:05,  1.08s/it]"
     ]
    },
    {
     "name": "stdout",
     "output_type": "stream",
     "text": [
      "Train Acc:85.48%, Test Acc:82.08%\n",
      "\n",
      "Epoch: 39:0,  Loss:1.4671484231948853\n"
     ]
    },
    {
     "name": "stderr",
     "output_type": "stream",
     "text": [
      "\r",
      " 40%|████      | 40/100 [00:46<01:05,  1.09s/it]"
     ]
    },
    {
     "name": "stdout",
     "output_type": "stream",
     "text": [
      "Train Acc:85.48%, Test Acc:82.08%\n",
      "\n",
      "Epoch: 40:0,  Loss:1.465681791305542\n"
     ]
    },
    {
     "name": "stderr",
     "output_type": "stream",
     "text": [
      "\r",
      " 41%|████      | 41/100 [00:47<01:05,  1.11s/it]"
     ]
    },
    {
     "name": "stdout",
     "output_type": "stream",
     "text": [
      "Train Acc:85.48%, Test Acc:82.08%\n",
      "\n",
      "Epoch: 41:0,  Loss:1.4664075374603271\n"
     ]
    },
    {
     "name": "stderr",
     "output_type": "stream",
     "text": [
      "\r",
      " 42%|████▏     | 42/100 [00:48<01:05,  1.13s/it]"
     ]
    },
    {
     "name": "stdout",
     "output_type": "stream",
     "text": [
      "Train Acc:85.48%, Test Acc:82.08%\n",
      "\n",
      "Epoch: 42:0,  Loss:1.74089777469635\n"
     ]
    },
    {
     "name": "stderr",
     "output_type": "stream",
     "text": [
      "\r",
      " 43%|████▎     | 43/100 [00:49<01:05,  1.15s/it]"
     ]
    },
    {
     "name": "stdout",
     "output_type": "stream",
     "text": [
      "Train Acc:85.48%, Test Acc:82.08%\n",
      "\n",
      "Epoch: 43:0,  Loss:1.6312183141708374\n"
     ]
    },
    {
     "name": "stderr",
     "output_type": "stream",
     "text": [
      "\r",
      " 44%|████▍     | 44/100 [00:51<01:05,  1.17s/it]"
     ]
    },
    {
     "name": "stdout",
     "output_type": "stream",
     "text": [
      "Train Acc:85.48%, Test Acc:82.08%\n",
      "\n",
      "Epoch: 44:0,  Loss:1.629732370376587\n"
     ]
    },
    {
     "name": "stderr",
     "output_type": "stream",
     "text": [
      "\r",
      " 45%|████▌     | 45/100 [00:52<01:02,  1.13s/it]"
     ]
    },
    {
     "name": "stdout",
     "output_type": "stream",
     "text": [
      "Train Acc:85.48%, Test Acc:82.08%\n",
      "\n",
      "Epoch: 45:0,  Loss:1.575219988822937\n"
     ]
    },
    {
     "name": "stderr",
     "output_type": "stream",
     "text": [
      "\r",
      " 46%|████▌     | 46/100 [00:53<01:01,  1.15s/it]"
     ]
    },
    {
     "name": "stdout",
     "output_type": "stream",
     "text": [
      "Train Acc:85.48%, Test Acc:82.08%\n",
      "\n",
      "Epoch: 46:0,  Loss:1.6291648149490356\n"
     ]
    },
    {
     "name": "stderr",
     "output_type": "stream",
     "text": [
      "\r",
      " 47%|████▋     | 47/100 [00:54<01:00,  1.15s/it]"
     ]
    },
    {
     "name": "stdout",
     "output_type": "stream",
     "text": [
      "Train Acc:85.48%, Test Acc:82.08%\n",
      "\n",
      "Epoch: 47:0,  Loss:1.4639569520950317\n"
     ]
    },
    {
     "name": "stderr",
     "output_type": "stream",
     "text": [
      "\r",
      " 48%|████▊     | 48/100 [00:55<00:56,  1.09s/it]"
     ]
    },
    {
     "name": "stdout",
     "output_type": "stream",
     "text": [
      "Train Acc:85.48%, Test Acc:82.08%\n",
      "\n",
      "Epoch: 48:0,  Loss:1.7396860122680664\n"
     ]
    },
    {
     "name": "stderr",
     "output_type": "stream",
     "text": [
      "\r",
      " 49%|████▉     | 49/100 [00:56<00:53,  1.05s/it]"
     ]
    },
    {
     "name": "stdout",
     "output_type": "stream",
     "text": [
      "Train Acc:85.48%, Test Acc:82.08%\n",
      "\n",
      "Epoch: 49:0,  Loss:1.6296080350875854\n"
     ]
    },
    {
     "name": "stderr",
     "output_type": "stream",
     "text": [
      "\r",
      " 50%|█████     | 50/100 [00:57<00:53,  1.07s/it]"
     ]
    },
    {
     "name": "stdout",
     "output_type": "stream",
     "text": [
      "Train Acc:85.48%, Test Acc:82.08%\n",
      "\n",
      "Epoch: 50:0,  Loss:1.683949589729309\n"
     ]
    },
    {
     "name": "stderr",
     "output_type": "stream",
     "text": [
      "\r",
      " 51%|█████     | 51/100 [00:58<00:52,  1.08s/it]"
     ]
    },
    {
     "name": "stdout",
     "output_type": "stream",
     "text": [
      "Train Acc:85.48%, Test Acc:82.08%\n",
      "\n",
      "Epoch: 51:0,  Loss:1.6847593784332275\n"
     ]
    },
    {
     "name": "stderr",
     "output_type": "stream",
     "text": [
      "\r",
      " 52%|█████▏    | 52/100 [00:59<00:52,  1.08s/it]"
     ]
    },
    {
     "name": "stdout",
     "output_type": "stream",
     "text": [
      "Train Acc:85.48%, Test Acc:82.08%\n",
      "\n",
      "Epoch: 52:0,  Loss:1.6837226152420044\n"
     ]
    },
    {
     "name": "stderr",
     "output_type": "stream",
     "text": [
      "\r",
      " 53%|█████▎    | 53/100 [01:00<00:51,  1.10s/it]"
     ]
    },
    {
     "name": "stdout",
     "output_type": "stream",
     "text": [
      "Train Acc:85.48%, Test Acc:82.08%\n",
      "\n",
      "Epoch: 53:0,  Loss:1.5735931396484375\n"
     ]
    },
    {
     "name": "stderr",
     "output_type": "stream",
     "text": [
      "\r",
      " 54%|█████▍    | 54/100 [01:01<00:49,  1.07s/it]"
     ]
    },
    {
     "name": "stdout",
     "output_type": "stream",
     "text": [
      "Train Acc:85.48%, Test Acc:82.08%\n",
      "\n",
      "Epoch: 54:0,  Loss:1.5725270509719849\n"
     ]
    },
    {
     "name": "stderr",
     "output_type": "stream",
     "text": [
      "\r",
      " 55%|█████▌    | 55/100 [01:03<00:51,  1.15s/it]"
     ]
    },
    {
     "name": "stdout",
     "output_type": "stream",
     "text": [
      "Train Acc:85.48%, Test Acc:82.08%\n",
      "\n",
      "Epoch: 55:0,  Loss:1.6844286918640137\n"
     ]
    },
    {
     "name": "stderr",
     "output_type": "stream",
     "text": [
      "\r",
      " 56%|█████▌    | 56/100 [01:04<00:50,  1.16s/it]"
     ]
    },
    {
     "name": "stdout",
     "output_type": "stream",
     "text": [
      "Train Acc:85.48%, Test Acc:82.08%\n",
      "\n",
      "Epoch: 56:0,  Loss:1.6832658052444458\n"
     ]
    },
    {
     "name": "stderr",
     "output_type": "stream",
     "text": [
      "\r",
      " 57%|█████▋    | 57/100 [01:05<00:49,  1.15s/it]"
     ]
    },
    {
     "name": "stdout",
     "output_type": "stream",
     "text": [
      "Train Acc:85.48%, Test Acc:82.08%\n",
      "\n",
      "Epoch: 57:0,  Loss:1.628657579421997\n"
     ]
    },
    {
     "name": "stderr",
     "output_type": "stream",
     "text": [
      "\r",
      " 58%|█████▊    | 58/100 [01:06<00:47,  1.13s/it]"
     ]
    },
    {
     "name": "stdout",
     "output_type": "stream",
     "text": [
      "Train Acc:85.48%, Test Acc:82.08%\n",
      "\n",
      "Epoch: 58:0,  Loss:1.627667784690857\n"
     ]
    },
    {
     "name": "stderr",
     "output_type": "stream",
     "text": [
      "\r",
      " 59%|█████▉    | 59/100 [01:07<00:47,  1.16s/it]"
     ]
    },
    {
     "name": "stdout",
     "output_type": "stream",
     "text": [
      "Train Acc:85.48%, Test Acc:82.08%\n",
      "\n",
      "Epoch: 59:0,  Loss:1.4621129035949707\n"
     ]
    },
    {
     "name": "stderr",
     "output_type": "stream",
     "text": [
      "\r",
      " 60%|██████    | 60/100 [01:09<00:46,  1.17s/it]"
     ]
    },
    {
     "name": "stdout",
     "output_type": "stream",
     "text": [
      "Train Acc:85.48%, Test Acc:82.08%\n",
      "\n",
      "Epoch: 60:0,  Loss:1.6758320331573486\n"
     ]
    },
    {
     "name": "stderr",
     "output_type": "stream",
     "text": [
      "\r",
      " 61%|██████    | 61/100 [01:10<00:44,  1.13s/it]"
     ]
    },
    {
     "name": "stdout",
     "output_type": "stream",
     "text": [
      "Train Acc:85.48%, Test Acc:82.08%\n",
      "\n",
      "Epoch: 61:0,  Loss:1.5730013847351074\n"
     ]
    },
    {
     "name": "stderr",
     "output_type": "stream",
     "text": [
      "\r",
      " 62%|██████▏   | 62/100 [01:11<00:42,  1.11s/it]"
     ]
    },
    {
     "name": "stdout",
     "output_type": "stream",
     "text": [
      "Train Acc:85.48%, Test Acc:82.08%\n",
      "\n",
      "Epoch: 62:0,  Loss:1.6272857189178467\n"
     ]
    },
    {
     "name": "stderr",
     "output_type": "stream",
     "text": [
      "\r",
      " 63%|██████▎   | 63/100 [01:12<00:44,  1.20s/it]"
     ]
    },
    {
     "name": "stdout",
     "output_type": "stream",
     "text": [
      "Train Acc:85.48%, Test Acc:82.08%\n",
      "\n",
      "Epoch: 63:0,  Loss:1.563101053237915\n"
     ]
    },
    {
     "name": "stderr",
     "output_type": "stream",
     "text": [
      "\r",
      " 64%|██████▍   | 64/100 [01:13<00:42,  1.18s/it]"
     ]
    },
    {
     "name": "stdout",
     "output_type": "stream",
     "text": [
      "Train Acc:85.48%, Test Acc:82.08%\n",
      "\n",
      "Epoch: 64:0,  Loss:1.5161347389221191\n"
     ]
    },
    {
     "name": "stderr",
     "output_type": "stream",
     "text": [
      "\r",
      " 65%|██████▌   | 65/100 [01:14<00:39,  1.14s/it]"
     ]
    },
    {
     "name": "stdout",
     "output_type": "stream",
     "text": [
      "Train Acc:85.48%, Test Acc:82.08%\n",
      "\n",
      "Epoch: 65:0,  Loss:1.6818959712982178\n"
     ]
    },
    {
     "name": "stderr",
     "output_type": "stream",
     "text": [
      "\r",
      " 66%|██████▌   | 66/100 [01:15<00:39,  1.17s/it]"
     ]
    },
    {
     "name": "stdout",
     "output_type": "stream",
     "text": [
      "Train Acc:85.48%, Test Acc:82.08%\n",
      "\n",
      "Epoch: 66:0,  Loss:1.5716595649719238\n"
     ]
    },
    {
     "name": "stderr",
     "output_type": "stream",
     "text": [
      "\r",
      " 67%|██████▋   | 67/100 [01:17<00:38,  1.18s/it]"
     ]
    },
    {
     "name": "stdout",
     "output_type": "stream",
     "text": [
      "Train Acc:85.48%, Test Acc:82.08%\n",
      "\n",
      "Epoch: 67:0,  Loss:1.5726457834243774\n"
     ]
    },
    {
     "name": "stderr",
     "output_type": "stream",
     "text": [
      "\r",
      " 68%|██████▊   | 68/100 [01:18<00:36,  1.15s/it]"
     ]
    },
    {
     "name": "stdout",
     "output_type": "stream",
     "text": [
      "Train Acc:85.48%, Test Acc:82.08%\n",
      "\n",
      "Epoch: 68:0,  Loss:1.627184510231018\n"
     ]
    },
    {
     "name": "stderr",
     "output_type": "stream",
     "text": [
      "\r",
      " 69%|██████▉   | 69/100 [01:19<00:36,  1.16s/it]"
     ]
    },
    {
     "name": "stdout",
     "output_type": "stream",
     "text": [
      "Train Acc:85.48%, Test Acc:82.08%\n",
      "\n",
      "Epoch: 69:0,  Loss:1.461625099182129\n"
     ]
    },
    {
     "name": "stderr",
     "output_type": "stream",
     "text": [
      "\r",
      " 70%|███████   | 70/100 [01:20<00:35,  1.20s/it]"
     ]
    },
    {
     "name": "stdout",
     "output_type": "stream",
     "text": [
      "Train Acc:85.48%, Test Acc:82.08%\n",
      "\n",
      "Epoch: 70:0,  Loss:1.6152710914611816\n"
     ]
    },
    {
     "name": "stderr",
     "output_type": "stream",
     "text": [
      "\r",
      " 71%|███████   | 71/100 [01:21<00:33,  1.15s/it]"
     ]
    },
    {
     "name": "stdout",
     "output_type": "stream",
     "text": [
      "Train Acc:85.48%, Test Acc:82.08%\n",
      "\n",
      "Epoch: 71:0,  Loss:1.6281547546386719\n"
     ]
    },
    {
     "name": "stderr",
     "output_type": "stream",
     "text": [
      "\r",
      " 72%|███████▏  | 72/100 [01:22<00:31,  1.14s/it]"
     ]
    },
    {
     "name": "stdout",
     "output_type": "stream",
     "text": [
      "Train Acc:85.48%, Test Acc:82.08%\n",
      "\n",
      "Epoch: 72:0,  Loss:1.7257905006408691\n"
     ]
    },
    {
     "name": "stderr",
     "output_type": "stream",
     "text": [
      "\r",
      " 73%|███████▎  | 73/100 [01:24<00:30,  1.15s/it]"
     ]
    },
    {
     "name": "stdout",
     "output_type": "stream",
     "text": [
      "Train Acc:85.48%, Test Acc:82.08%\n",
      "\n",
      "Epoch: 73:0,  Loss:1.5171875953674316\n"
     ]
    },
    {
     "name": "stderr",
     "output_type": "stream",
     "text": [
      "\r",
      " 74%|███████▍  | 74/100 [01:25<00:29,  1.13s/it]"
     ]
    },
    {
     "name": "stdout",
     "output_type": "stream",
     "text": [
      "Train Acc:85.48%, Test Acc:82.08%\n",
      "\n",
      "Epoch: 74:0,  Loss:1.460201621055603\n"
     ]
    },
    {
     "name": "stderr",
     "output_type": "stream",
     "text": [
      "\r",
      " 75%|███████▌  | 75/100 [01:26<00:27,  1.09s/it]"
     ]
    },
    {
     "name": "stdout",
     "output_type": "stream",
     "text": [
      "Train Acc:85.48%, Test Acc:82.08%\n",
      "\n",
      "Epoch: 75:0,  Loss:1.7392497062683105\n"
     ]
    },
    {
     "name": "stderr",
     "output_type": "stream",
     "text": [
      "\r",
      " 76%|███████▌  | 76/100 [01:27<00:25,  1.08s/it]"
     ]
    },
    {
     "name": "stdout",
     "output_type": "stream",
     "text": [
      "Train Acc:85.48%, Test Acc:82.08%\n",
      "\n",
      "Epoch: 76:0,  Loss:1.6826952695846558\n"
     ]
    },
    {
     "name": "stderr",
     "output_type": "stream",
     "text": [
      "\r",
      " 77%|███████▋  | 77/100 [01:28<00:25,  1.11s/it]"
     ]
    },
    {
     "name": "stdout",
     "output_type": "stream",
     "text": [
      "Train Acc:85.48%, Test Acc:82.08%\n",
      "\n",
      "Epoch: 77:0,  Loss:1.6835989952087402\n"
     ]
    },
    {
     "name": "stderr",
     "output_type": "stream",
     "text": [
      "\r",
      " 78%|███████▊  | 78/100 [01:29<00:26,  1.18s/it]"
     ]
    },
    {
     "name": "stdout",
     "output_type": "stream",
     "text": [
      "Train Acc:85.48%, Test Acc:82.08%\n",
      "\n",
      "Epoch: 78:0,  Loss:1.557637095451355\n"
     ]
    },
    {
     "name": "stderr",
     "output_type": "stream",
     "text": [
      "\r",
      " 79%|███████▉  | 79/100 [01:30<00:24,  1.15s/it]"
     ]
    },
    {
     "name": "stdout",
     "output_type": "stream",
     "text": [
      "Train Acc:85.48%, Test Acc:82.08%\n",
      "\n",
      "Epoch: 79:0,  Loss:1.7389330863952637\n"
     ]
    },
    {
     "name": "stderr",
     "output_type": "stream",
     "text": [
      "\r",
      " 80%|████████  | 80/100 [01:31<00:23,  1.15s/it]"
     ]
    },
    {
     "name": "stdout",
     "output_type": "stream",
     "text": [
      "Train Acc:85.48%, Test Acc:82.08%\n",
      "\n",
      "Epoch: 80:0,  Loss:1.571500539779663\n"
     ]
    },
    {
     "name": "stderr",
     "output_type": "stream",
     "text": [
      "\r",
      " 81%|████████  | 81/100 [01:33<00:21,  1.14s/it]"
     ]
    },
    {
     "name": "stdout",
     "output_type": "stream",
     "text": [
      "Train Acc:85.48%, Test Acc:82.08%\n",
      "\n",
      "Epoch: 81:0,  Loss:1.7249678373336792\n"
     ]
    },
    {
     "name": "stderr",
     "output_type": "stream",
     "text": [
      "\r",
      " 82%|████████▏ | 82/100 [01:34<00:20,  1.11s/it]"
     ]
    },
    {
     "name": "stdout",
     "output_type": "stream",
     "text": [
      "Train Acc:85.48%, Test Acc:82.08%\n",
      "\n",
      "Epoch: 82:0,  Loss:1.7382850646972656\n"
     ]
    },
    {
     "name": "stderr",
     "output_type": "stream",
     "text": [
      "\r",
      " 83%|████████▎ | 83/100 [01:35<00:18,  1.12s/it]"
     ]
    },
    {
     "name": "stdout",
     "output_type": "stream",
     "text": [
      "Train Acc:85.48%, Test Acc:82.08%\n",
      "\n",
      "Epoch: 83:0,  Loss:1.6084660291671753\n"
     ]
    },
    {
     "name": "stderr",
     "output_type": "stream",
     "text": [
      "\r",
      " 84%|████████▍ | 84/100 [01:36<00:17,  1.11s/it]"
     ]
    },
    {
     "name": "stdout",
     "output_type": "stream",
     "text": [
      "Train Acc:85.48%, Test Acc:82.08%\n",
      "\n",
      "Epoch: 84:0,  Loss:1.5713273286819458\n"
     ]
    },
    {
     "name": "stderr",
     "output_type": "stream",
     "text": [
      "\r",
      " 85%|████████▌ | 85/100 [01:37<00:17,  1.15s/it]"
     ]
    },
    {
     "name": "stdout",
     "output_type": "stream",
     "text": [
      "Train Acc:85.48%, Test Acc:82.08%\n",
      "\n",
      "Epoch: 85:0,  Loss:1.5166637897491455\n"
     ]
    },
    {
     "name": "stderr",
     "output_type": "stream",
     "text": [
      "\r",
      " 86%|████████▌ | 86/100 [01:38<00:16,  1.15s/it]"
     ]
    },
    {
     "name": "stdout",
     "output_type": "stream",
     "text": [
      "Train Acc:85.48%, Test Acc:82.08%\n",
      "\n",
      "Epoch: 86:0,  Loss:1.459993600845337\n"
     ]
    },
    {
     "name": "stderr",
     "output_type": "stream",
     "text": [
      "\r",
      " 87%|████████▋ | 87/100 [01:39<00:14,  1.12s/it]"
     ]
    },
    {
     "name": "stdout",
     "output_type": "stream",
     "text": [
      "Train Acc:85.48%, Test Acc:82.08%\n",
      "\n",
      "Epoch: 87:0,  Loss:1.6254762411117554\n"
     ]
    },
    {
     "name": "stderr",
     "output_type": "stream",
     "text": [
      "\r",
      " 88%|████████▊ | 88/100 [01:41<00:14,  1.17s/it]"
     ]
    },
    {
     "name": "stdout",
     "output_type": "stream",
     "text": [
      "Train Acc:85.48%, Test Acc:82.08%\n",
      "\n",
      "Epoch: 88:0,  Loss:1.4599605798721313\n"
     ]
    },
    {
     "name": "stderr",
     "output_type": "stream",
     "text": [
      "\r",
      " 89%|████████▉ | 89/100 [01:42<00:13,  1.18s/it]"
     ]
    },
    {
     "name": "stdout",
     "output_type": "stream",
     "text": [
      "Train Acc:85.48%, Test Acc:82.08%\n",
      "\n",
      "Epoch: 89:0,  Loss:1.5167685747146606\n"
     ]
    },
    {
     "name": "stderr",
     "output_type": "stream",
     "text": [
      "\r",
      " 90%|█████████ | 90/100 [01:43<00:12,  1.20s/it]"
     ]
    },
    {
     "name": "stdout",
     "output_type": "stream",
     "text": [
      "Train Acc:85.48%, Test Acc:82.08%\n",
      "\n",
      "Epoch: 90:0,  Loss:1.4600739479064941\n"
     ]
    },
    {
     "name": "stderr",
     "output_type": "stream",
     "text": [
      "\r",
      " 91%|█████████ | 91/100 [01:44<00:10,  1.19s/it]"
     ]
    },
    {
     "name": "stdout",
     "output_type": "stream",
     "text": [
      "Train Acc:85.59%, Test Acc:81.99%\n",
      "\n",
      "Epoch: 91:0,  Loss:1.6277401447296143\n"
     ]
    },
    {
     "name": "stderr",
     "output_type": "stream",
     "text": [
      "\r",
      " 92%|█████████▏| 92/100 [01:45<00:09,  1.18s/it]"
     ]
    },
    {
     "name": "stdout",
     "output_type": "stream",
     "text": [
      "Train Acc:85.65%, Test Acc:81.99%\n",
      "\n",
      "Epoch: 92:0,  Loss:1.5156452655792236\n"
     ]
    },
    {
     "name": "stderr",
     "output_type": "stream",
     "text": [
      "\r",
      " 93%|█████████▎| 93/100 [01:47<00:08,  1.17s/it]"
     ]
    },
    {
     "name": "stdout",
     "output_type": "stream",
     "text": [
      "Train Acc:85.84%, Test Acc:82.08%\n",
      "\n",
      "Epoch: 93:0,  Loss:1.6275800466537476\n"
     ]
    },
    {
     "name": "stderr",
     "output_type": "stream",
     "text": [
      "\r",
      " 94%|█████████▍| 94/100 [01:48<00:06,  1.16s/it]"
     ]
    },
    {
     "name": "stdout",
     "output_type": "stream",
     "text": [
      "Train Acc:85.96%, Test Acc:82.36%\n",
      "\n",
      "Epoch: 94:0,  Loss:1.5155667066574097\n"
     ]
    },
    {
     "name": "stderr",
     "output_type": "stream",
     "text": [
      "\r",
      " 95%|█████████▌| 95/100 [01:49<00:05,  1.17s/it]"
     ]
    },
    {
     "name": "stdout",
     "output_type": "stream",
     "text": [
      "Train Acc:86.02%, Test Acc:82.36%\n",
      "\n",
      "Epoch: 95:0,  Loss:1.7388880252838135\n"
     ]
    },
    {
     "name": "stderr",
     "output_type": "stream",
     "text": [
      "\r",
      " 96%|█████████▌| 96/100 [01:50<00:04,  1.25s/it]"
     ]
    },
    {
     "name": "stdout",
     "output_type": "stream",
     "text": [
      "Train Acc:85.99%, Test Acc:82.17%\n",
      "\n",
      "Epoch: 96:0,  Loss:1.5710333585739136\n"
     ]
    },
    {
     "name": "stderr",
     "output_type": "stream",
     "text": [
      "\r",
      " 97%|█████████▋| 97/100 [01:51<00:03,  1.18s/it]"
     ]
    },
    {
     "name": "stdout",
     "output_type": "stream",
     "text": [
      "Train Acc:86.09%, Test Acc:82.27%\n",
      "\n",
      "Epoch: 97:0,  Loss:1.6833056211471558\n"
     ]
    },
    {
     "name": "stderr",
     "output_type": "stream",
     "text": [
      "\r",
      " 98%|█████████▊| 98/100 [01:52<00:02,  1.17s/it]"
     ]
    },
    {
     "name": "stdout",
     "output_type": "stream",
     "text": [
      "Train Acc:86.12%, Test Acc:82.27%\n",
      "\n",
      "Epoch: 98:0,  Loss:1.5772260427474976\n"
     ]
    },
    {
     "name": "stderr",
     "output_type": "stream",
     "text": [
      "\r",
      " 99%|█████████▉| 99/100 [01:54<00:01,  1.17s/it]"
     ]
    },
    {
     "name": "stdout",
     "output_type": "stream",
     "text": [
      "Train Acc:86.16%, Test Acc:82.08%\n",
      "\n",
      "Epoch: 99:0,  Loss:1.5165534019470215\n"
     ]
    },
    {
     "name": "stderr",
     "output_type": "stream",
     "text": [
      "100%|██████████| 100/100 [01:55<00:00,  1.15s/it]"
     ]
    },
    {
     "name": "stdout",
     "output_type": "stream",
     "text": [
      "Train Acc:86.18%, Test Acc:82.27%\n",
      "\n",
      "\t-> MAX Train Acc 86.17949516983484 ; Test Acc 82.35840297121634\n"
     ]
    },
    {
     "name": "stderr",
     "output_type": "stream",
     "text": [
      "\n"
     ]
    }
   ],
   "source": [
    "alt_node.train_classifier_4(100)"
   ]
  },
  {
   "cell_type": "code",
   "execution_count": 146,
   "metadata": {
    "scrolled": true
   },
   "outputs": [
    {
     "name": "stdout",
     "output_type": "stream",
     "text": [
      "Keeping only N=13/18 classifiers.\n",
      "Hard inference on the data !\n",
      "idx: 0\tout: 1 \t acc: 82.759 \tclasses:[1, 3, 6, 8]\n",
      "idx: 1\tout: 3 \t acc: 86.818 \tclasses:[0, 1, 2, 3, 4, 6, 8]\n",
      "idx: 2\tout: 4 \t acc: 82.253 \tclasses:[0, 2, 3, 4, 6, 8]\n",
      "idx: 3\tout: 5 \t acc: 98.408 \tclasses:[3, 4, 5, 7, 9]\n",
      "idx: 4\tout: 6 \t acc: 86.709 \tclasses:[0, 1, 2, 3, 4, 6, 8]\n",
      "idx: 5\tout: 8 \t acc: 97.849 \tclasses:[0, 5, 6, 8]\n",
      "idx: 6\tout: 9 \t acc: 96.693 \tclasses:[5, 6, 7, 8, 9]\n",
      "idx: 7\tout: 0 \t acc: 80.000 \tclasses:[0, 1, 2, 3, 4, 6, 8]\n",
      "idx: 8\tout: 1 \t acc: 99.384 \tclasses:[1, 2, 3, 8]\n",
      "idx: 9\tout: 2 \t acc: 82.575 \tclasses:[0, 2, 3, 4, 6]\n",
      "idx: 10\tout: 3 \t acc: 95.400 \tclasses:[0, 1, 2, 3, 4, 6]\n",
      "idx: 11\tout: 7 \t acc: 98.300 \tclasses:[5, 7, 9]\n",
      "idx: 12\tout: 8 \t acc: 92.560 \tclasses:[0, 2, 3, 5, 6, 7, 8, 9]\n",
      "Accuracy: 0.911376292760541\n"
     ]
    },
    {
     "data": {
      "text/plain": [
       "(tensor([[  4.7960,  -5.5771,  -2.7656,  ...,   1.9072,  -3.5556,  -7.1005],\n",
       "         [  1.3617,   4.4848,  -4.9356,  ...,  -2.4108,   3.9407,   6.0892],\n",
       "         [ -0.2870,   0.8663,  -1.0293,  ...,  -2.4732,   1.0299,   1.0621],\n",
       "         ...,\n",
       "         [ 30.9270,  -3.8843, -10.9497,  ..., -20.4506,  -5.4742, -20.3903],\n",
       "         [ -2.1501,  -2.5783,  -3.9929,  ...,   0.5605,   1.0461,   0.4362],\n",
       "         [  5.4957,   3.6400,   2.6034,  ...,   2.8570,   4.7977,  -6.9150]]),\n",
       " tensor([9, 0, 0,  ..., 8, 4, 3]),\n",
       " tensor([[-0.5905, -2.1529, -0.9238,  ..., -1.4238, -0.9629,  0.3813],\n",
       "         [ 4.5488,  2.8270, -6.9544,  ..., -1.4724, -4.5993,  2.3274],\n",
       "         [ 4.2065, -6.0886,  4.5688,  ..., -9.1891, -4.7958, -4.2356],\n",
       "         ...,\n",
       "         [ 8.5736, -2.1897,  7.4272,  ..., -5.6298, -7.0694, -7.9919],\n",
       "         [ 5.6363,  3.5565,  2.4963,  ...,  1.7766,  1.4932, -5.7108],\n",
       "         [-1.4226,  1.6827, -4.4564,  ...,  2.1967, -0.7798,  1.6088]]),\n",
       " tensor([9, 2, 1,  ..., 1, 3, 4]))"
      ]
     },
     "execution_count": 146,
     "metadata": {},
     "output_type": "execute_result"
    }
   ],
   "source": [
    "alt_node.freeze_and_compute_stats_5(MIN_POINTS)"
   ]
  },
  {
   "cell_type": "code",
   "execution_count": 147,
   "metadata": {},
   "outputs": [
    {
     "name": "stdout",
     "output_type": "stream",
     "text": [
      "[, 0] : Train -> 0.8276 Test -> 0.6000, NUM: 29, classes: 1:[1, 3, 6, 8]\n",
      "[, 1] : Train -> 0.8682 Test -> 0.6667, NUM: 220, classes: 3:[0, 1, 2, 3, 4, 6, 8]\n",
      "[, 2] : Train -> 0.8225 Test -> 0.7833, NUM: 648, classes: 4:[0, 2, 3, 4, 6, 8]\n",
      "[, 3] : Train -> 0.9841 Test -> 0.9121, NUM: 628, classes: 5:[3, 4, 5, 7, 9]\n",
      "[, 4] : Train -> 0.8671 Test -> 0.6310, NUM: 474, classes: 6:[0, 1, 2, 3, 4, 6, 8]\n",
      "[, 5] : Train -> 0.9785 Test -> 0.9697, NUM: 279, classes: 8:[0, 5, 6, 8]\n",
      "[, 6] : Train -> 0.9669 Test -> 0.9684, NUM: 635, classes: 9:[5, 6, 7, 8, 9]\n",
      "[, 7] : Train -> 0.8000 Test -> 0.7603, NUM: 690, classes: 0:[0, 1, 2, 3, 4, 6, 8]\n",
      "[, 8] : Train -> 0.9938 Test -> 0.9612, NUM: 649, classes: 1:[1, 2, 3, 8]\n",
      "[, 9] : Train -> 0.8257 Test -> 0.7438, NUM: 637, classes: 2:[0, 2, 3, 4, 6]\n",
      "[, 10] : Train -> 0.9540 Test -> 0.9206, NUM: 413, classes: 3:[0, 1, 2, 3, 4, 6]\n",
      "[, 11] : Train -> 0.9830 Test -> 0.8812, NUM: 647, classes: 7:[5, 7, 9]\n",
      "[, 12] : Train -> 0.9256 Test -> 0.8750, NUM: 336, classes: 8:[0, 2, 3, 5, 6, 7, 8, 9]\n"
     ]
    }
   ],
   "source": [
    "alt_node.display_stats(\"\")"
   ]
  },
  {
   "cell_type": "code",
   "execution_count": 148,
   "metadata": {},
   "outputs": [],
   "source": [
    "### replace the leaf node with Local Classifier Node\n",
    "parent.children[indx[-1]] = alt_node"
   ]
  },
  {
   "cell_type": "code",
   "execution_count": 149,
   "metadata": {},
   "outputs": [
    {
     "name": "stdout",
     "output_type": "stream",
     "text": [
      "[0, 0, 0, 0] : Train -> 0.8276 Test -> 0.6000, NUM: 29, classes: 1:[1, 3, 6, 8]\n",
      "[0, 0, 0, 1] : Train -> 0.8682 Test -> 0.6667, NUM: 220, classes: 3:[0, 1, 2, 3, 4, 6, 8]\n",
      "[0, 0, 0, 2] : Train -> 0.8225 Test -> 0.7833, NUM: 648, classes: 4:[0, 2, 3, 4, 6, 8]\n",
      "[0, 0, 0, 3] : Train -> 0.9841 Test -> 0.9121, NUM: 628, classes: 5:[3, 4, 5, 7, 9]\n",
      "[0, 0, 0, 4] : Train -> 0.8671 Test -> 0.6310, NUM: 474, classes: 6:[0, 1, 2, 3, 4, 6, 8]\n",
      "[0, 0, 0, 5] : Train -> 0.9785 Test -> 0.9697, NUM: 279, classes: 8:[0, 5, 6, 8]\n",
      "[0, 0, 0, 6] : Train -> 0.9669 Test -> 0.9684, NUM: 635, classes: 9:[5, 6, 7, 8, 9]\n",
      "[0, 0, 0, 7] : Train -> 0.8000 Test -> 0.7603, NUM: 690, classes: 0:[0, 1, 2, 3, 4, 6, 8]\n",
      "[0, 0, 0, 8] : Train -> 0.9938 Test -> 0.9612, NUM: 649, classes: 1:[1, 2, 3, 8]\n",
      "[0, 0, 0, 9] : Train -> 0.8257 Test -> 0.7438, NUM: 637, classes: 2:[0, 2, 3, 4, 6]\n",
      "[0, 0, 0, 10] : Train -> 0.9540 Test -> 0.9206, NUM: 413, classes: 3:[0, 1, 2, 3, 4, 6]\n",
      "[0, 0, 0, 11] : Train -> 0.9830 Test -> 0.8812, NUM: 647, classes: 7:[5, 7, 9]\n",
      "[0, 0, 0, 12] : Train -> 0.9256 Test -> 0.8750, NUM: 336, classes: 8:[0, 2, 3, 5, 6, 7, 8, 9]\n",
      "[0, 0, 1] : Train -> 0.7640 Test -> 0.7778, NUM: 89, classes: 6:[0, 1, 2, 4, 6, 8]\n",
      "[0, 0, 2] : Train -> 0.4286 Test -> 0.0000, NUM: 14, classes: 6:[0, 2, 3, 6]\n",
      "[0, 0, 3] : Train -> 0.8824 Test -> 0.5000, NUM: 17, classes: 6:[0, 6, 8]\n",
      "[0, 0, 4] : Train -> 0.7388 Test -> 0.6042, NUM: 291, classes: 6:[0, 1, 2, 3, 4, 6, 8]\n",
      "[0, 0, 5] : Train -> 0.5294 Test -> 0.3333, NUM: 17, classes: 6:[0, 1, 2, 6]\n",
      "[0, 0, 6] : Train -> 0.7580 Test -> 0.5098, NUM: 281, classes: 6:[0, 1, 2, 3, 4, 6, 8]\n",
      "[0, 0, 7] : Train -> 0.4706 Test -> 0.5455, NUM: 34, classes: 6:[0, 3, 6, 8]\n",
      "[0, 0, 8] : Train -> 0.7727 Test -> 0.6522, NUM: 330, classes: 6:[0, 1, 2, 3, 6, 8]\n",
      "[0, 0, 9] : Train -> 0.7103 Test -> 0.8000, NUM: 107, classes: 6:[0, 2, 3, 4, 6, 8, 9]\n",
      "[0, 1] : Train -> 0.9825 Test -> 0.9766, NUM: 5937, classes: 1:[0, 1, 2, 3, 4, 5, 6, 8, 9]\n",
      "[0, 2, 0] : Train -> 0.8551 Test -> 0.7796, NUM: 5313, classes: 2:[0, 1, 2, 3, 4, 6, 8]\n",
      "[0, 2, 1] : Train -> 0.8088 Test -> 0.6667, NUM: 68, classes: 6:[2, 3, 4, 6, 8]\n",
      "[0, 2, 2] : Train -> 0.8386 Test -> 0.5467, NUM: 440, classes: 6:[0, 2, 3, 4, 6, 8]\n",
      "[0, 3] : Train -> 0.8548 Test -> 0.8208, NUM: 6418, classes: 3:[0, 1, 2, 3, 4, 5, 6, 8]\n",
      "[0, 4, 0] : Train -> 0.9528 Test -> 0.6757, NUM: 212, classes: 2:[1, 2, 3, 4, 6]\n",
      "[0, 4, 1, 0] : Train -> 0.9706 Test -> 0.4000, NUM: 34, classes: 6:[0, 6]\n",
      "[0, 4, 1, 1] : Train -> 0.9358 Test -> 0.8400, NUM: 467, classes: 3:[0, 1, 2, 3, 4, 6]\n",
      "[0, 4, 1, 2] : Train -> 0.5066 Test -> 0.4947, NUM: 1214, classes: 7:[1, 4, 5, 7, 9]\n",
      "[0, 4, 1, 3] : Train -> 0.9329 Test -> 0.5747, NUM: 462, classes: 6:[0, 2, 3, 4, 5, 6, 8]\n",
      "[0, 4, 1, 4] : Train -> 0.9767 Test -> 0.8000, NUM: 43, classes: 8:[4, 8]\n",
      "[0, 4, 1, 5] : Train -> 0.8790 Test -> 0.7727, NUM: 628, classes: 0:[0, 1, 2, 3, 4, 6]\n",
      "[0, 4, 1, 6] : Train -> 0.9809 Test -> 0.9369, NUM: 679, classes: 1:[0, 1, 2, 3, 4, 6, 8]\n",
      "[0, 4, 1, 7] : Train -> 0.9112 Test -> 0.7280, NUM: 597, classes: 2:[0, 2, 3, 4, 6]\n",
      "[0, 4, 1, 8] : Train -> 0.9670 Test -> 0.6522, NUM: 182, classes: 3:[1, 2, 3, 4, 6]\n",
      "[0, 4, 1, 9] : Train -> 0.8600 Test -> 0.8034, NUM: 650, classes: 4:[0, 2, 3, 4, 6]\n",
      "[0, 4, 1, 10] : Train -> 0.9665 Test -> 0.8980, NUM: 627, classes: 9:[5, 6, 7, 8, 9]\n",
      "[0, 4, 1, 11] : Train -> 0.9727 Test -> 0.9195, NUM: 586, classes: 8:[0, 2, 3, 5, 6, 7, 8]\n",
      "[0, 4, 2] : Train -> 0.7794 Test -> 0.4348, NUM: 136, classes: 6:[0, 2, 3, 4, 6, 8]\n",
      "[0, 5] : Train -> 0.9589 Test -> 0.9512, NUM: 5763, classes: 5:[0, 2, 3, 4, 5, 6, 7, 8, 9]\n",
      "[0, 6] : Train -> 0.7579 Test -> 0.7282, NUM: 3689, classes: 6:[0, 1, 2, 3, 4, 5, 6, 8]\n",
      "[0, 7] : Train -> 0.9156 Test -> 0.8910, NUM: 6199, classes: 7:[1, 2, 4, 5, 6, 7, 8, 9]\n",
      "[0, 8] : Train -> 0.9329 Test -> 0.9171, NUM: 6156, classes: 8:[0, 1, 2, 3, 4, 5, 6, 7, 8, 9]\n",
      "[0, 9] : Train -> 0.9495 Test -> 0.9374, NUM: 6035, classes: 9:[1, 3, 4, 5, 6, 7, 8, 9]\n",
      "Final Accuracy is Train: 0.89828 Test: 0.85390\n"
     ]
    }
   ],
   "source": [
    "#### After modification status\n",
    "tree.display_stats()"
   ]
  },
  {
   "cell_type": "code",
   "execution_count": null,
   "metadata": {},
   "outputs": [],
   "source": []
  },
  {
   "cell_type": "code",
   "execution_count": null,
   "metadata": {},
   "outputs": [],
   "source": []
  },
  {
   "cell_type": "code",
   "execution_count": null,
   "metadata": {},
   "outputs": [],
   "source": []
  },
  {
   "cell_type": "code",
   "execution_count": null,
   "metadata": {},
   "outputs": [],
   "source": [
    "[0, 0, 0, 0] : pred -> 0.9799, NUM: 546, classes: [0, 2, 4, 6]\n",
    "[0, 0, 0, 1] : pred -> 0.9983, NUM: 606, classes: [1, 2]\n",
    "[0, 0, 0, 2] : pred -> 0.9831, NUM: 592, classes: [0, 2, 4, 6]\n",
    "[0, 0, 0, 3] : pred -> 0.9788, NUM: 565, classes: [0, 1, 2, 3, 4, 6, 8]\n",
    "[0, 0, 0, 4] : pred -> 0.9744, NUM: 586, classes: [1, 2, 3, 4, 6]\n",
    "[0, 0, 0, 5] : pred -> 1.0000, NUM: 589, classes: [5]\n",
    "[0, 0, 0, 6] : pred -> 0.9898, NUM: 588, classes: [0, 1, 2, 4, 6]\n",
    "[0, 0, 0, 7] : pred -> 0.9877, NUM: 568, classes: [5, 7, 9]\n",
    "[0, 0, 0, 8] : pred -> 0.9966, NUM: 592, classes: [0, 8]\n",
    "[0, 0, 0, 9] : pred -> 0.9947, NUM: 565, classes: [5, 7, 9]\n",
    "[0, 0, 1, 0] : pred -> 0.9571, NUM: 163, classes: [0, 6]\n",
    "[0, 0, 1, 1] : pred -> 1.0000, NUM: 149, classes: [1]\n",
    "[0, 0, 1, 2] : pred -> 0.9940, NUM: 168, classes: [2, 4]\n",
    "[0, 0, 1, 3] : pred -> 0.9939, NUM: 164, classes: [3, 6]\n",
    "[0, 0, 1, 4] : pred -> 0.9827, NUM: 173, classes: [2, 4, 6]\n",
    "[0, 0, 1, 5] : pred -> 1.0000, NUM: 167, classes: [5]\n",
    "[0, 0, 1, 6] : pred -> 1.0000, NUM: 143, classes: [6]\n",
    "[0, 0, 1, 7] : pred -> 0.9934, NUM: 151, classes: [7, 8]\n",
    "[0, 0, 1, 8] : pred -> 0.9864, NUM: 147, classes: [0, 6, 8]\n",
    "[0, 0, 1, 9] : pred -> 0.9831, NUM: 177, classes: [7, 9]\n",
    "[0, 1] : pred -> 0.9888, NUM: 5898, classes: [0, 1, 2, 3, 4, 6, 8, 9]\n",
    "[0, 2, 0, 0] : pred -> 0.9571, NUM: 466, classes: [0, 1, 2, 4, 6, 8]\n",
    "[0, 2, 0, 1] : pred -> 1.0000, NUM: 476, classes: [1]\n",
    "[0, 2, 0, 2] : pred -> 0.9876, NUM: 483, classes: [2, 3, 4, 6]\n",
    "[0, 2, 0, 3] : pred -> 0.9912, NUM: 457, classes: [0, 3, 4, 6]\n",
    "[0, 2, 0, 4] : pred -> 0.9790, NUM: 477, classes: [2, 3, 4, 6]\n",
    "[0, 2, 0, 5] : pred -> 1.0000, NUM: 451, classes: [5]\n",
    "[0, 2, 0, 6] : pred -> 0.9956, NUM: 456, classes: [2, 4, 6]\n",
    "[0, 2, 0, 7] : pred -> 0.9886, NUM: 440, classes: [5, 7, 8, 9]\n",
    "[0, 2, 0, 8] : pred -> 0.9883, NUM: 426, classes: [0, 6, 8]\n",
    "[0, 2, 0, 9] : pred -> 0.9918, NUM: 490, classes: [5, 7, 9]\n",
    "[0, 2, 1] : pred -> 0.8632, NUM: 541, classes: [0, 1, 3, 4, 5, 6]\n",
    "[0, 2, 2] : pred -> 0.8750, NUM: 8, classes: [0, 4]\n",
    "[0, 2, 3] : pred -> 0.8986, NUM: 138, classes: [0, 1, 3, 4, 6, 8]\n",
    "[0, 2, 4] : pred -> 0.8000, NUM: 5, classes: [0, 4]\n",
    "[0, 3, 0] : pred -> 0.9524, NUM: 210, classes: [0, 1, 2, 6, 8]\n",
    "[0, 3, 1] : pred -> 1.0000, NUM: 7, classes: [2]\n",
    "[0, 3, 2] : pred -> 0.9417, NUM: 5988, classes: [0, 1, 2, 3, 4, 5, 6, 8]\n",
    "[0, 3, 3, 0] : pred -> 0.9672, NUM: 61, classes: [0, 6]\n",
    "[0, 3, 3, 1] : pred -> 1.0000, NUM: 56, classes: [1]\n",
    "[0, 3, 3, 2] : pred -> 1.0000, NUM: 43, classes: [2]\n",
    "[0, 3, 3, 3] : pred -> 0.9583, NUM: 48, classes: [3, 4, 6]\n",
    "[0, 3, 3, 4] : pred -> 0.9811, NUM: 53, classes: [2, 4]\n",
    "[0, 3, 3, 5] : pred -> 1.0000, NUM: 44, classes: [5]\n",
    "[0, 3, 3, 6] : pred -> 0.9796, NUM: 49, classes: [0, 6]\n",
    "[0, 3, 3, 7] : pred -> 1.0000, NUM: 53, classes: [7]\n",
    "[0, 3, 3, 8] : pred -> 1.0000, NUM: 48, classes: [8]\n",
    "[0, 3, 3, 9] : pred -> 1.0000, NUM: 53, classes: [9]\n",
    "[0, 4, 0, 0] : pred -> 1.0000, NUM: 103, classes: [0]\n",
    "[0, 4, 0, 1] : pred -> 1.0000, NUM: 117, classes: [1]\n",
    "[0, 4, 0, 2] : pred -> 0.9910, NUM: 111, classes: [2, 6]\n",
    "[0, 4, 0, 3] : pred -> 1.0000, NUM: 112, classes: [3]\n",
    "[0, 4, 0, 4] : pred -> 1.0000, NUM: 117, classes: [4]\n",
    "[0, 4, 0, 5] : pred -> 1.0000, NUM: 110, classes: [5]\n",
    "[0, 4, 0, 6] : pred -> 1.0000, NUM: 119, classes: [6]\n",
    "[0, 4, 0, 7] : pred -> 0.9831, NUM: 118, classes: [5, 7, 9]\n",
    "[0, 4, 0, 8] : pred -> 1.0000, NUM: 103, classes: [8]\n",
    "[0, 4, 0, 9] : pred -> 1.0000, NUM: 124, classes: [9]\n",
    "[0, 4, 1, 0] : pred -> 0.9752, NUM: 483, classes: [0, 2, 6]\n",
    "[0, 4, 1, 1] : pred -> 0.9981, NUM: 520, classes: [1, 3]\n",
    "[0, 4, 1, 2] : pred -> 0.9693, NUM: 521, classes: [0, 2, 4, 6, 8]\n",
    "[0, 4, 1, 3] : pred -> 0.9838, NUM: 493, classes: [1, 2, 3, 4, 6]\n",
    "[0, 4, 1, 4] : pred -> 0.9745, NUM: 510, classes: [0, 2, 3, 4, 6]\n",
    "[0, 4, 1, 5] : pred -> 1.0000, NUM: 497, classes: [5]\n",
    "[0, 4, 1, 6] : pred -> 0.9917, NUM: 482, classes: [0, 2, 3, 4, 6]\n",
    "[0, 4, 1, 7] : pred -> 0.9874, NUM: 476, classes: [5, 7, 9]\n",
    "[0, 4, 1, 8] : pred -> 0.9939, NUM: 493, classes: [0, 6, 8]\n",
    "[0, 4, 1, 9] : pred -> 0.9941, NUM: 511, classes: [7, 9]\n",
    "[0, 5] : pred -> 0.9624, NUM: 5902, classes: [0, 1, 2, 3, 4, 5, 7, 8, 9]\n",
    "[0, 6, 0] : pred -> 0.9314, NUM: 452, classes: [0, 1, 2, 3, 4, 8]\n",
    "[0, 6, 1, 0] : pred -> 0.9726, NUM: 401, classes: [0, 2, 6]\n",
    "[0, 6, 1, 1] : pred -> 1.0000, NUM: 403, classes: [1]\n",
    "[0, 6, 1, 2] : pred -> 0.9851, NUM: 404, classes: [1, 2, 3, 4, 6]\n",
    "[0, 6, 1, 3] : pred -> 0.9814, NUM: 376, classes: [1, 2, 3, 4, 6]\n",
    "[0, 6, 1, 4] : pred -> 0.9754, NUM: 407, classes: [2, 3, 4, 6]\n",
    "[0, 6, 1, 5] : pred -> 1.0000, NUM: 396, classes: [5]\n",
    "[0, 6, 1, 6] : pred -> 0.9897, NUM: 388, classes: [2, 4, 6, 8]\n",
    "[0, 6, 1, 7] : pred -> 0.9923, NUM: 391, classes: [5, 7, 8, 9]\n",
    "[0, 6, 1, 8] : pred -> 0.9972, NUM: 362, classes: [7, 8]\n",
    "[0, 6, 1, 9] : pred -> 0.9910, NUM: 444, classes: [5, 7, 9]\n",
    "[0, 6, 2] : pred -> 1.0000, NUM: 11, classes: [8]\n",
    "[0, 7, 0] : pred -> 1.0000, NUM: 100, classes: [5]\n",
    "[0, 7, 1] : pred -> 0.9763, NUM: 5877, classes: [5, 7, 8, 9]\n",
    "[0, 7, 2] : pred -> 0.7500, NUM: 8, classes: [6, 8]\n",
    "[0, 7, 3] : pred -> 0.9838, NUM: 308, classes: [5, 9]\n",
    "[0, 8] : pred -> 0.9482, NUM: 6123, classes: [0, 1, 2, 3, 4, 5, 6, 7, 8, 9]\n",
    "[0, 9] : pred -> 0.9605, NUM: 5803, classes: [0, 1, 4, 5, 6, 7, 8, 9]\n",
    "Final Accuracy is : 0.97130"
   ]
  }
 ],
 "metadata": {
  "kernelspec": {
   "display_name": "Python 3",
   "language": "python",
   "name": "python3"
  },
  "language_info": {
   "codemirror_mode": {
    "name": "ipython",
    "version": 3
   },
   "file_extension": ".py",
   "mimetype": "text/x-python",
   "name": "python",
   "nbconvert_exporter": "python",
   "pygments_lexer": "ipython3",
   "version": "3.8.5"
  }
 },
 "nbformat": 4,
 "nbformat_minor": 4
}
