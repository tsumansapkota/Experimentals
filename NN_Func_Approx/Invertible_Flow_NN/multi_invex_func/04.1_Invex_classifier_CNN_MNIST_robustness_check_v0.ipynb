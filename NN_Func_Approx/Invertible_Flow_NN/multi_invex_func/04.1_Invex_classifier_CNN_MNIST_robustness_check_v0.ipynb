{
 "cells": [
  {
   "cell_type": "code",
   "execution_count": 1,
   "metadata": {},
   "outputs": [],
   "source": [
    "import numpy as np\n",
    "import matplotlib.pyplot as plt\n",
    "%matplotlib inline\n",
    "from mpl_toolkits.mplot3d import Axes3D\n",
    "\n",
    "import torch\n",
    "import torch.nn as nn\n",
    "import torch.optim as optim\n",
    "from torch.utils import data\n",
    "\n",
    "import random, os, pathlib, time\n",
    "from tqdm import tqdm\n",
    "from sklearn import datasets"
   ]
  },
  {
   "cell_type": "code",
   "execution_count": 2,
   "metadata": {},
   "outputs": [],
   "source": [
    "import nflib\n",
    "from nflib.flows import SequentialFlow, NormalizingFlow, ActNorm, ActNorm2D, AffineConstantFlow\n",
    "import nflib.coupling_flows as icf\n",
    "import nflib.inn_flow as inn\n",
    "import nflib.res_flow as irf"
   ]
  },
  {
   "cell_type": "code",
   "execution_count": 3,
   "metadata": {},
   "outputs": [],
   "source": [
    "from torch import distributions\n",
    "from torch.distributions import MultivariateNormal"
   ]
  },
  {
   "cell_type": "code",
   "execution_count": 4,
   "metadata": {},
   "outputs": [],
   "source": [
    "device = torch.device(\"cuda:0\")\n",
    "# device = torch.device(\"cpu\")"
   ]
  },
  {
   "cell_type": "markdown",
   "metadata": {},
   "source": [
    "## MNIST dataset"
   ]
  },
  {
   "cell_type": "code",
   "execution_count": 5,
   "metadata": {},
   "outputs": [],
   "source": [
    "import mylibrary.datasets as datasets\n",
    "# import mylibrary.nnlib as tnn"
   ]
  },
  {
   "cell_type": "code",
   "execution_count": 6,
   "metadata": {},
   "outputs": [],
   "source": [
    "mnist = datasets.FashionMNIST()\n",
    "# mnist.download_mnist()\n",
    "# mnist.save_mnist()\n",
    "train_data, train_label_, test_data, test_label_ = mnist.load()\n",
    "\n",
    "train_data = train_data / 255.\n",
    "test_data = test_data / 255.\n",
    "\n",
    "# train_label = tnn.Logits.index_to_logit(train_label_)\n",
    "train_size = len(train_label_)"
   ]
  },
  {
   "cell_type": "code",
   "execution_count": 7,
   "metadata": {},
   "outputs": [],
   "source": [
    "## converting data to pytorch format\n",
    "train_data = torch.Tensor(train_data)\n",
    "test_data = torch.Tensor(test_data)\n",
    "train_label = torch.LongTensor(train_label_)\n",
    "test_label = torch.LongTensor(test_label_)"
   ]
  },
  {
   "cell_type": "code",
   "execution_count": 8,
   "metadata": {},
   "outputs": [],
   "source": [
    "input_size = 784\n",
    "output_size = 10"
   ]
  },
  {
   "cell_type": "code",
   "execution_count": 9,
   "metadata": {},
   "outputs": [],
   "source": [
    "class MNIST_Dataset(data.Dataset):\n",
    "    \n",
    "    def __init__(self, data, label):\n",
    "        self.data = data.reshape(-1, 1, 28, 28)\n",
    "        self.label = label\n",
    "        \n",
    "#         self.label = mask.type(torch.float32).reshape(-1,1)\n",
    "        self._shuffle_data_()\n",
    "        \n",
    "    def __len__(self):\n",
    "        return len(self.data)\n",
    "    \n",
    "    def _shuffle_data_(self):\n",
    "        randidx = random.sample(range(len(self.data)), k=len(self.data))\n",
    "        self.data = self.data[randidx]\n",
    "        self.label = self.label[randidx]\n",
    "    \n",
    "    def __getitem__(self, idx):\n",
    "        img, lbl = self.data[idx], self.label[idx]\n",
    "        return img, lbl"
   ]
  },
  {
   "cell_type": "code",
   "execution_count": 10,
   "metadata": {},
   "outputs": [],
   "source": [
    "train_dataset = MNIST_Dataset(train_data, train_label)\n",
    "test_dataset = MNIST_Dataset(test_data, test_label)"
   ]
  },
  {
   "cell_type": "code",
   "execution_count": 11,
   "metadata": {},
   "outputs": [],
   "source": [
    "class ConnectedClassifier_Linear(nn.Module):\n",
    "    \n",
    "    def __init__(self,input_dim, num_sets, output_dim, inv_temp=1):\n",
    "        super().__init__()\n",
    "        self.input_dim = input_dim\n",
    "        self.output_dim = output_dim\n",
    "        self.num_sets = num_sets\n",
    "        self.inv_temp = nn.Parameter(torch.ones(1)*inv_temp)\n",
    "        \n",
    "        self.linear = nn.Linear(input_dim, num_sets)\n",
    "#         self.linear.bias.data *= 0\n",
    "#         self.linear.weight.data *= 0.1\n",
    "#         self.cls_weight = nn.Parameter(torch.randn(num_sets, output_dim)/output_dim)\n",
    "\n",
    "        init_val = torch.randn(num_sets, output_dim)*0.01\n",
    "        for ns in range(num_sets):\n",
    "            init_val[ns, ns%output_dim] = 0.1\n",
    "        self.cls_weight = nn.Parameter(init_val)\n",
    "        \n",
    "        self.cls_confidence = None\n",
    "        \n",
    "        \n",
    "    def forward(self, x, hard=False):\n",
    "#         self.cls_weight.data = torch.abs(self.cls_weight.data/self.cls_weight.data.sum(dim=1, keepdim=True))\n",
    "        \n",
    "        x = self.linear(x)\n",
    "        if hard:\n",
    "            x = torch.softmax(x*1e5, dim=1)\n",
    "        else:\n",
    "            x = torch.softmax(x*self.inv_temp, dim=1)\n",
    "        self.cls_confidence = x\n",
    "        c = torch.softmax(self.cls_weight, dim=1)\n",
    "#         c = self.cls_weight\n",
    "        return x@c ## since both are normalized, it is also normalized"
   ]
  },
  {
   "cell_type": "code",
   "execution_count": 14,
   "metadata": {},
   "outputs": [],
   "source": [
    "class ConnectedClassifier_SoftKMeans(nn.Module):\n",
    "    \n",
    "    def __init__(self,input_dim, num_sets, output_dim, inv_temp=1):\n",
    "        super().__init__()\n",
    "        self.input_dim = input_dim\n",
    "        self.output_dim = output_dim\n",
    "        self.num_sets = num_sets\n",
    "        self.inv_temp = nn.Parameter(torch.ones(1)*inv_temp)\n",
    "        \n",
    "        self.centers = nn.Parameter(torch.rand(num_sets, input_dim)*2-1)\n",
    "        \n",
    "#         self.cls_weight = nn.Parameter(torch.ones(num_sets, output_dim)/output_dim)\n",
    "\n",
    "        init_val = torch.randn(num_sets, output_dim)*0.01\n",
    "        for ns in range(num_sets):\n",
    "            init_val[ns, ns%output_dim] = 0.1\n",
    "        self.cls_weight = nn.Parameter(init_val)\n",
    "\n",
    "        self.cls_confidence = None\n",
    "        \n",
    "        \n",
    "    def forward(self, x, hard=False):\n",
    "#         self.cls_weight.data = torch.abs(self.cls_weight.data/self.cls_weight.data.sum(dim=1, keepdim=True))\n",
    "        \n",
    "        x = x[:, :self.input_dim]\n",
    "        dists = torch.cdist(x, self.centers)\n",
    "        dists = dists/np.sqrt(self.input_dim) ### correction to make diagonal of unit square 1 in nD space\n",
    "        \n",
    "        if hard:\n",
    "            x = torch.softmax(-dists*1e5, dim=1)\n",
    "        else:\n",
    "            x = torch.softmax(-dists*self.inv_temp, dim=1)\n",
    "        self.cls_confidence = x\n",
    "        c = torch.softmax(self.cls_weight, dim=1)\n",
    "#         c = self.cls_weight\n",
    "        return x@c ## since both are normalized, it is also normalized\n",
    "#         return torch.softmax(x@self.cls_weight, dim=1)"
   ]
  },
  {
   "cell_type": "code",
   "execution_count": 15,
   "metadata": {},
   "outputs": [],
   "source": [
    "# actf = irf.Swish\n",
    "# flows = [\n",
    "#     ActNorm(784),\n",
    "#     irf.ResidualFlow(784, [784], activation=actf),\n",
    "#     ActNorm(784),\n",
    "#     irf.ResidualFlow(784, [784], activation=actf),\n",
    "#     ActNorm(784),\n",
    "#         ]\n",
    "\n",
    "# model = SequentialFlow(flows)"
   ]
  },
  {
   "cell_type": "code",
   "execution_count": 16,
   "metadata": {},
   "outputs": [],
   "source": [
    "actf = irf.Swish\n",
    "flows = [\n",
    "    ActNorm2D(1),\n",
    "    irf.ConvResidualFlow(1, [16], activation=actf),\n",
    "    irf.InvertiblePooling(2),\n",
    "    ActNorm2D(4),\n",
    "    irf.ConvResidualFlow(4, [64], activation=actf),\n",
    "    irf.InvertiblePooling(2),\n",
    "    ActNorm2D(16),\n",
    "    irf.ConvResidualFlow(16, [64, 64], activation=actf),\n",
    "    irf.Flatten(img_size=(16, 7, 7))\n",
    "        ]\n",
    "\n",
    "model = SequentialFlow(flows)"
   ]
  },
  {
   "cell_type": "code",
   "execution_count": 17,
   "metadata": {},
   "outputs": [],
   "source": [
    "# model = nn.Sequential(nn.Linear(784, 784, bias=False),\n",
    "#                       nn.BatchNorm1d(784),\n",
    "#                       nn.SELU(),\n",
    "#                       nn.Linear(784, 784, bias=False),\n",
    "#                       nn.BatchNorm1d(784),\n",
    "#                       nn.SELU(),\n",
    "#                      )"
   ]
  },
  {
   "cell_type": "code",
   "execution_count": 18,
   "metadata": {},
   "outputs": [],
   "source": [
    "# model(torch.randn(3, 1, 28, 28)).shape"
   ]
  },
  {
   "cell_type": "code",
   "execution_count": 19,
   "metadata": {},
   "outputs": [
    {
     "data": {
      "text/plain": [
       "SequentialFlow(\n",
       "  (flows): ModuleList(\n",
       "    (0): ActNorm2D()\n",
       "    (1): ConvResidualFlow(\n",
       "      (resblock): ModuleList(\n",
       "        (0): Conv2d(1, 16, kernel_size=(3, 3), stride=(1, 1), padding=(1, 1))\n",
       "        (1): Swish()\n",
       "        (2): Conv2d(16, 1, kernel_size=(3, 3), stride=(1, 1), padding=(1, 1))\n",
       "      )\n",
       "    )\n",
       "    (2): InvertiblePooling()\n",
       "    (3): ActNorm2D()\n",
       "    (4): ConvResidualFlow(\n",
       "      (resblock): ModuleList(\n",
       "        (0): Conv2d(4, 64, kernel_size=(3, 3), stride=(1, 1), padding=(1, 1))\n",
       "        (1): Swish()\n",
       "        (2): Conv2d(64, 4, kernel_size=(3, 3), stride=(1, 1), padding=(1, 1))\n",
       "      )\n",
       "    )\n",
       "    (5): InvertiblePooling()\n",
       "    (6): ActNorm2D()\n",
       "    (7): ConvResidualFlow(\n",
       "      (resblock): ModuleList(\n",
       "        (0): Conv2d(16, 64, kernel_size=(3, 3), stride=(1, 1), padding=(1, 1))\n",
       "        (1): Swish()\n",
       "        (2): Conv2d(64, 64, kernel_size=(3, 3), stride=(1, 1), padding=(1, 1))\n",
       "        (3): Swish()\n",
       "        (4): Conv2d(64, 16, kernel_size=(3, 3), stride=(1, 1), padding=(1, 1))\n",
       "      )\n",
       "    )\n",
       "    (8): Flatten()\n",
       "  )\n",
       ")"
      ]
     },
     "execution_count": 19,
     "metadata": {},
     "output_type": "execute_result"
    }
   ],
   "source": [
    "model.to(device)"
   ]
  },
  {
   "cell_type": "code",
   "execution_count": 20,
   "metadata": {},
   "outputs": [],
   "source": [
    "classifier = ConnectedClassifier_SoftKMeans(784, 100, 10)\n",
    "# classifier = ConnectedClassifier_Softmax(784, 100, 10)\n",
    "classifier = classifier.to(device)"
   ]
  },
  {
   "cell_type": "markdown",
   "metadata": {},
   "source": [
    "## Model Train"
   ]
  },
  {
   "cell_type": "code",
   "execution_count": 21,
   "metadata": {},
   "outputs": [],
   "source": [
    "learning_rate = 0.0003\n",
    "batch_size = 50"
   ]
  },
  {
   "cell_type": "code",
   "execution_count": 22,
   "metadata": {},
   "outputs": [],
   "source": [
    "train_loader = data.DataLoader(dataset=train_dataset, num_workers=4, batch_size=batch_size, shuffle=True)\n",
    "test_loader = data.DataLoader(dataset=test_dataset, num_workers=4, batch_size=batch_size, shuffle=False)"
   ]
  },
  {
   "cell_type": "code",
   "execution_count": 23,
   "metadata": {},
   "outputs": [
    {
     "name": "stdout",
     "output_type": "stream",
     "text": [
      "number of params:  60467\n"
     ]
    }
   ],
   "source": [
    "# criterion = nn.NLLLoss()\n",
    "criterion = nn.CrossEntropyLoss()\n",
    "\n",
    "optimizer = optim.Adam(list(model.parameters())+list(classifier.parameters()), lr=learning_rate)\n",
    "# optimizer = optim.SGD(model.parameters(), lr=0.1)\n",
    "\n",
    "print(\"number of params: \", sum(p.numel() for p in model.parameters()))"
   ]
  },
  {
   "cell_type": "code",
   "execution_count": 24,
   "metadata": {},
   "outputs": [],
   "source": [
    "# for p in model.parameters():\n",
    "#     print(torch.isnan(p).type(torch.float32).sum())"
   ]
  },
  {
   "cell_type": "code",
   "execution_count": 25,
   "metadata": {},
   "outputs": [],
   "source": [
    "# model(torch.randn(10, 784).to(device)).shape"
   ]
  },
  {
   "cell_type": "code",
   "execution_count": 26,
   "metadata": {},
   "outputs": [
    {
     "data": {
      "text/plain": [
       "torch.Size([50, 1, 28, 28])"
      ]
     },
     "execution_count": 26,
     "metadata": {},
     "output_type": "execute_result"
    }
   ],
   "source": [
    "xx = iter(test_loader).next()[0]\n",
    "xx.shape"
   ]
  },
  {
   "cell_type": "code",
   "execution_count": null,
   "metadata": {},
   "outputs": [],
   "source": [
    "losses = []\n",
    "train_accs = []\n",
    "test_accs = []\n",
    "EPOCHS = 25#50"
   ]
  },
  {
   "cell_type": "code",
   "execution_count": 32,
   "metadata": {
    "scrolled": false
   },
   "outputs": [
    {
     "name": "stderr",
     "output_type": "stream",
     "text": [
      "100%|██████████| 1200/1200 [00:10<00:00, 115.38it/s]\n",
      "  0%|          | 0/200 [00:00<?, ?it/s]"
     ]
    },
    {
     "name": "stdout",
     "output_type": "stream",
     "text": [
      "Epoch: 0:0,  Loss:1.53165602684021\n"
     ]
    },
    {
     "name": "stderr",
     "output_type": "stream",
     "text": [
      "100%|██████████| 200/200 [00:00<00:00, 211.79it/s]\n",
      "  0%|          | 0/1200 [00:00<?, ?it/s]"
     ]
    },
    {
     "name": "stdout",
     "output_type": "stream",
     "text": [
      "Train Acc:91.03%, Test Acc:89.73%\n",
      "\n"
     ]
    },
    {
     "name": "stderr",
     "output_type": "stream",
     "text": [
      "100%|██████████| 1200/1200 [00:10<00:00, 114.80it/s]\n",
      "  0%|          | 0/200 [00:00<?, ?it/s]"
     ]
    },
    {
     "name": "stdout",
     "output_type": "stream",
     "text": [
      "Epoch: 1:0,  Loss:1.6364747285842896\n"
     ]
    },
    {
     "name": "stderr",
     "output_type": "stream",
     "text": [
      "100%|██████████| 200/200 [00:00<00:00, 217.83it/s]\n",
      "  0%|          | 0/1200 [00:00<?, ?it/s]"
     ]
    },
    {
     "name": "stdout",
     "output_type": "stream",
     "text": [
      "Train Acc:91.23%, Test Acc:90.10%\n",
      "\n"
     ]
    },
    {
     "name": "stderr",
     "output_type": "stream",
     "text": [
      "100%|██████████| 1200/1200 [00:10<00:00, 113.94it/s]\n",
      "  0%|          | 0/200 [00:00<?, ?it/s]"
     ]
    },
    {
     "name": "stdout",
     "output_type": "stream",
     "text": [
      "Epoch: 2:0,  Loss:1.534263253211975\n"
     ]
    },
    {
     "name": "stderr",
     "output_type": "stream",
     "text": [
      "100%|██████████| 200/200 [00:00<00:00, 213.55it/s]\n",
      "  0%|          | 0/1200 [00:00<?, ?it/s]"
     ]
    },
    {
     "name": "stdout",
     "output_type": "stream",
     "text": [
      "Train Acc:91.38%, Test Acc:90.68%\n",
      "\n"
     ]
    },
    {
     "name": "stderr",
     "output_type": "stream",
     "text": [
      "100%|██████████| 1200/1200 [00:10<00:00, 115.83it/s]\n",
      "  0%|          | 0/200 [00:00<?, ?it/s]"
     ]
    },
    {
     "name": "stdout",
     "output_type": "stream",
     "text": [
      "Epoch: 3:0,  Loss:1.4832963943481445\n"
     ]
    },
    {
     "name": "stderr",
     "output_type": "stream",
     "text": [
      "100%|██████████| 200/200 [00:00<00:00, 212.19it/s]\n",
      "  0%|          | 0/1200 [00:00<?, ?it/s]"
     ]
    },
    {
     "name": "stdout",
     "output_type": "stream",
     "text": [
      "Train Acc:91.53%, Test Acc:90.54%\n",
      "\n"
     ]
    },
    {
     "name": "stderr",
     "output_type": "stream",
     "text": [
      "100%|██████████| 1200/1200 [00:10<00:00, 115.20it/s]\n",
      "  0%|          | 0/200 [00:00<?, ?it/s]"
     ]
    },
    {
     "name": "stdout",
     "output_type": "stream",
     "text": [
      "Epoch: 4:0,  Loss:1.520614504814148\n"
     ]
    },
    {
     "name": "stderr",
     "output_type": "stream",
     "text": [
      "100%|██████████| 200/200 [00:00<00:00, 219.74it/s]\n",
      "  0%|          | 0/1200 [00:00<?, ?it/s]"
     ]
    },
    {
     "name": "stdout",
     "output_type": "stream",
     "text": [
      "Train Acc:91.78%, Test Acc:90.09%\n",
      "\n"
     ]
    },
    {
     "name": "stderr",
     "output_type": "stream",
     "text": [
      "100%|██████████| 1200/1200 [00:10<00:00, 114.73it/s]\n",
      "  0%|          | 0/200 [00:00<?, ?it/s]"
     ]
    },
    {
     "name": "stdout",
     "output_type": "stream",
     "text": [
      "Epoch: 5:0,  Loss:1.5068755149841309\n"
     ]
    },
    {
     "name": "stderr",
     "output_type": "stream",
     "text": [
      "100%|██████████| 200/200 [00:00<00:00, 208.82it/s]\n",
      "  0%|          | 0/1200 [00:00<?, ?it/s]"
     ]
    },
    {
     "name": "stdout",
     "output_type": "stream",
     "text": [
      "Train Acc:91.96%, Test Acc:89.90%\n",
      "\n"
     ]
    },
    {
     "name": "stderr",
     "output_type": "stream",
     "text": [
      "100%|██████████| 1200/1200 [00:10<00:00, 115.01it/s]\n",
      "  0%|          | 0/200 [00:00<?, ?it/s]"
     ]
    },
    {
     "name": "stdout",
     "output_type": "stream",
     "text": [
      "Epoch: 6:0,  Loss:1.5330020189285278\n"
     ]
    },
    {
     "name": "stderr",
     "output_type": "stream",
     "text": [
      "100%|██████████| 200/200 [00:00<00:00, 219.89it/s]\n",
      "  0%|          | 0/1200 [00:00<?, ?it/s]"
     ]
    },
    {
     "name": "stdout",
     "output_type": "stream",
     "text": [
      "Train Acc:92.04%, Test Acc:90.57%\n",
      "\n"
     ]
    },
    {
     "name": "stderr",
     "output_type": "stream",
     "text": [
      "100%|██████████| 1200/1200 [00:10<00:00, 114.71it/s]\n",
      "  0%|          | 0/200 [00:00<?, ?it/s]"
     ]
    },
    {
     "name": "stdout",
     "output_type": "stream",
     "text": [
      "Epoch: 7:0,  Loss:1.5708603858947754\n"
     ]
    },
    {
     "name": "stderr",
     "output_type": "stream",
     "text": [
      "100%|██████████| 200/200 [00:00<00:00, 213.74it/s]\n",
      "  0%|          | 0/1200 [00:00<?, ?it/s]"
     ]
    },
    {
     "name": "stdout",
     "output_type": "stream",
     "text": [
      "Train Acc:92.30%, Test Acc:90.89%\n",
      "\n"
     ]
    },
    {
     "name": "stderr",
     "output_type": "stream",
     "text": [
      "100%|██████████| 1200/1200 [00:10<00:00, 115.21it/s]\n",
      "  0%|          | 0/200 [00:00<?, ?it/s]"
     ]
    },
    {
     "name": "stdout",
     "output_type": "stream",
     "text": [
      "Epoch: 8:0,  Loss:1.5336700677871704\n"
     ]
    },
    {
     "name": "stderr",
     "output_type": "stream",
     "text": [
      "100%|██████████| 200/200 [00:00<00:00, 218.77it/s]\n",
      "  0%|          | 0/1200 [00:00<?, ?it/s]"
     ]
    },
    {
     "name": "stdout",
     "output_type": "stream",
     "text": [
      "Train Acc:92.46%, Test Acc:90.97%\n",
      "\n"
     ]
    },
    {
     "name": "stderr",
     "output_type": "stream",
     "text": [
      "100%|██████████| 1200/1200 [00:10<00:00, 115.84it/s]\n",
      "  0%|          | 0/200 [00:00<?, ?it/s]"
     ]
    },
    {
     "name": "stdout",
     "output_type": "stream",
     "text": [
      "Epoch: 9:0,  Loss:1.500799298286438\n"
     ]
    },
    {
     "name": "stderr",
     "output_type": "stream",
     "text": [
      "100%|██████████| 200/200 [00:00<00:00, 222.62it/s]\n",
      "  0%|          | 0/1200 [00:00<?, ?it/s]"
     ]
    },
    {
     "name": "stdout",
     "output_type": "stream",
     "text": [
      "Train Acc:92.57%, Test Acc:90.46%\n",
      "\n"
     ]
    },
    {
     "name": "stderr",
     "output_type": "stream",
     "text": [
      "100%|██████████| 1200/1200 [00:10<00:00, 114.71it/s]\n",
      "  0%|          | 0/200 [00:00<?, ?it/s]"
     ]
    },
    {
     "name": "stdout",
     "output_type": "stream",
     "text": [
      "Epoch: 10:0,  Loss:1.5137207508087158\n"
     ]
    },
    {
     "name": "stderr",
     "output_type": "stream",
     "text": [
      "100%|██████████| 200/200 [00:00<00:00, 214.28it/s]\n",
      "  0%|          | 0/1200 [00:00<?, ?it/s]"
     ]
    },
    {
     "name": "stdout",
     "output_type": "stream",
     "text": [
      "Train Acc:92.64%, Test Acc:91.27%\n",
      "\n"
     ]
    },
    {
     "name": "stderr",
     "output_type": "stream",
     "text": [
      "100%|██████████| 1200/1200 [00:10<00:00, 115.26it/s]\n",
      "  0%|          | 0/200 [00:00<?, ?it/s]"
     ]
    },
    {
     "name": "stdout",
     "output_type": "stream",
     "text": [
      "Epoch: 11:0,  Loss:1.5717833042144775\n"
     ]
    },
    {
     "name": "stderr",
     "output_type": "stream",
     "text": [
      "100%|██████████| 200/200 [00:00<00:00, 215.82it/s]\n",
      "  0%|          | 0/1200 [00:00<?, ?it/s]"
     ]
    },
    {
     "name": "stdout",
     "output_type": "stream",
     "text": [
      "Train Acc:92.82%, Test Acc:91.14%\n",
      "\n"
     ]
    },
    {
     "name": "stderr",
     "output_type": "stream",
     "text": [
      "100%|██████████| 1200/1200 [00:10<00:00, 115.04it/s]\n",
      "  0%|          | 0/200 [00:00<?, ?it/s]"
     ]
    },
    {
     "name": "stdout",
     "output_type": "stream",
     "text": [
      "Epoch: 12:0,  Loss:1.5638437271118164\n"
     ]
    },
    {
     "name": "stderr",
     "output_type": "stream",
     "text": [
      "100%|██████████| 200/200 [00:00<00:00, 212.51it/s]\n",
      "  0%|          | 0/1200 [00:00<?, ?it/s]"
     ]
    },
    {
     "name": "stdout",
     "output_type": "stream",
     "text": [
      "Train Acc:92.81%, Test Acc:91.42%\n",
      "\n"
     ]
    },
    {
     "name": "stderr",
     "output_type": "stream",
     "text": [
      "100%|██████████| 1200/1200 [00:10<00:00, 115.42it/s]\n",
      "  0%|          | 0/200 [00:00<?, ?it/s]"
     ]
    },
    {
     "name": "stdout",
     "output_type": "stream",
     "text": [
      "Epoch: 13:0,  Loss:1.53912353515625\n"
     ]
    },
    {
     "name": "stderr",
     "output_type": "stream",
     "text": [
      "100%|██████████| 200/200 [00:00<00:00, 212.86it/s]\n",
      "  0%|          | 0/1200 [00:00<?, ?it/s]"
     ]
    },
    {
     "name": "stdout",
     "output_type": "stream",
     "text": [
      "Train Acc:93.05%, Test Acc:91.34%\n",
      "\n"
     ]
    },
    {
     "name": "stderr",
     "output_type": "stream",
     "text": [
      "100%|██████████| 1200/1200 [00:10<00:00, 115.44it/s]\n",
      "  0%|          | 0/200 [00:00<?, ?it/s]"
     ]
    },
    {
     "name": "stdout",
     "output_type": "stream",
     "text": [
      "Epoch: 14:0,  Loss:1.5035462379455566\n"
     ]
    },
    {
     "name": "stderr",
     "output_type": "stream",
     "text": [
      "100%|██████████| 200/200 [00:00<00:00, 215.36it/s]\n",
      "  0%|          | 0/1200 [00:00<?, ?it/s]"
     ]
    },
    {
     "name": "stdout",
     "output_type": "stream",
     "text": [
      "Train Acc:93.13%, Test Acc:91.00%\n",
      "\n"
     ]
    },
    {
     "name": "stderr",
     "output_type": "stream",
     "text": [
      "100%|██████████| 1200/1200 [00:10<00:00, 115.71it/s]\n",
      "  0%|          | 0/200 [00:00<?, ?it/s]"
     ]
    },
    {
     "name": "stdout",
     "output_type": "stream",
     "text": [
      "Epoch: 15:0,  Loss:1.534260869026184\n"
     ]
    },
    {
     "name": "stderr",
     "output_type": "stream",
     "text": [
      "100%|██████████| 200/200 [00:00<00:00, 218.05it/s]\n",
      "  0%|          | 0/1200 [00:00<?, ?it/s]"
     ]
    },
    {
     "name": "stdout",
     "output_type": "stream",
     "text": [
      "Train Acc:93.20%, Test Acc:90.84%\n",
      "\n"
     ]
    },
    {
     "name": "stderr",
     "output_type": "stream",
     "text": [
      "100%|██████████| 1200/1200 [00:10<00:00, 114.04it/s]\n",
      "  0%|          | 0/200 [00:00<?, ?it/s]"
     ]
    },
    {
     "name": "stdout",
     "output_type": "stream",
     "text": [
      "Epoch: 16:0,  Loss:1.5043203830718994\n"
     ]
    },
    {
     "name": "stderr",
     "output_type": "stream",
     "text": [
      "100%|██████████| 200/200 [00:00<00:00, 214.18it/s]\n",
      "  0%|          | 0/1200 [00:00<?, ?it/s]"
     ]
    },
    {
     "name": "stdout",
     "output_type": "stream",
     "text": [
      "Train Acc:93.39%, Test Acc:91.33%\n",
      "\n"
     ]
    },
    {
     "name": "stderr",
     "output_type": "stream",
     "text": [
      "100%|██████████| 1200/1200 [00:10<00:00, 114.99it/s]\n",
      "  0%|          | 0/200 [00:00<?, ?it/s]"
     ]
    },
    {
     "name": "stdout",
     "output_type": "stream",
     "text": [
      "Epoch: 17:0,  Loss:1.5347204208374023\n"
     ]
    },
    {
     "name": "stderr",
     "output_type": "stream",
     "text": [
      "100%|██████████| 200/200 [00:00<00:00, 214.59it/s]\n",
      "  0%|          | 0/1200 [00:00<?, ?it/s]"
     ]
    },
    {
     "name": "stdout",
     "output_type": "stream",
     "text": [
      "Train Acc:93.51%, Test Acc:91.04%\n",
      "\n"
     ]
    },
    {
     "name": "stderr",
     "output_type": "stream",
     "text": [
      "100%|██████████| 1200/1200 [00:10<00:00, 115.07it/s]\n",
      "  0%|          | 0/200 [00:00<?, ?it/s]"
     ]
    },
    {
     "name": "stdout",
     "output_type": "stream",
     "text": [
      "Epoch: 18:0,  Loss:1.549207329750061\n"
     ]
    },
    {
     "name": "stderr",
     "output_type": "stream",
     "text": [
      "100%|██████████| 200/200 [00:00<00:00, 211.56it/s]\n",
      "  0%|          | 0/1200 [00:00<?, ?it/s]"
     ]
    },
    {
     "name": "stdout",
     "output_type": "stream",
     "text": [
      "Train Acc:93.63%, Test Acc:91.26%\n",
      "\n"
     ]
    },
    {
     "name": "stderr",
     "output_type": "stream",
     "text": [
      "100%|██████████| 1200/1200 [00:10<00:00, 114.08it/s]\n",
      "  0%|          | 0/200 [00:00<?, ?it/s]"
     ]
    },
    {
     "name": "stdout",
     "output_type": "stream",
     "text": [
      "Epoch: 19:0,  Loss:1.5237406492233276\n"
     ]
    },
    {
     "name": "stderr",
     "output_type": "stream",
     "text": [
      "100%|██████████| 200/200 [00:00<00:00, 215.38it/s]\n",
      "  0%|          | 0/1200 [00:00<?, ?it/s]"
     ]
    },
    {
     "name": "stdout",
     "output_type": "stream",
     "text": [
      "Train Acc:93.62%, Test Acc:91.17%\n",
      "\n"
     ]
    },
    {
     "name": "stderr",
     "output_type": "stream",
     "text": [
      "100%|██████████| 1200/1200 [00:10<00:00, 115.63it/s]\n",
      "  0%|          | 0/200 [00:00<?, ?it/s]"
     ]
    },
    {
     "name": "stdout",
     "output_type": "stream",
     "text": [
      "Epoch: 20:0,  Loss:1.4921729564666748\n"
     ]
    },
    {
     "name": "stderr",
     "output_type": "stream",
     "text": [
      "100%|██████████| 200/200 [00:00<00:00, 216.83it/s]\n",
      "  0%|          | 0/1200 [00:00<?, ?it/s]"
     ]
    },
    {
     "name": "stdout",
     "output_type": "stream",
     "text": [
      "Train Acc:93.80%, Test Acc:91.66%\n",
      "\n"
     ]
    },
    {
     "name": "stderr",
     "output_type": "stream",
     "text": [
      "100%|██████████| 1200/1200 [00:10<00:00, 113.55it/s]\n",
      "  0%|          | 0/200 [00:00<?, ?it/s]"
     ]
    },
    {
     "name": "stdout",
     "output_type": "stream",
     "text": [
      "Epoch: 21:0,  Loss:1.50653874874115\n"
     ]
    },
    {
     "name": "stderr",
     "output_type": "stream",
     "text": [
      "100%|██████████| 200/200 [00:00<00:00, 211.75it/s]\n",
      "  0%|          | 0/1200 [00:00<?, ?it/s]"
     ]
    },
    {
     "name": "stdout",
     "output_type": "stream",
     "text": [
      "Train Acc:93.88%, Test Acc:91.47%\n",
      "\n"
     ]
    },
    {
     "name": "stderr",
     "output_type": "stream",
     "text": [
      "100%|██████████| 1200/1200 [00:10<00:00, 115.56it/s]\n",
      "  0%|          | 0/200 [00:00<?, ?it/s]"
     ]
    },
    {
     "name": "stdout",
     "output_type": "stream",
     "text": [
      "Epoch: 22:0,  Loss:1.5300838947296143\n"
     ]
    },
    {
     "name": "stderr",
     "output_type": "stream",
     "text": [
      "100%|██████████| 200/200 [00:00<00:00, 215.08it/s]\n",
      "  0%|          | 0/1200 [00:00<?, ?it/s]"
     ]
    },
    {
     "name": "stdout",
     "output_type": "stream",
     "text": [
      "Train Acc:93.94%, Test Acc:91.29%\n",
      "\n"
     ]
    },
    {
     "name": "stderr",
     "output_type": "stream",
     "text": [
      "100%|██████████| 1200/1200 [00:10<00:00, 115.18it/s]\n",
      "  0%|          | 0/200 [00:00<?, ?it/s]"
     ]
    },
    {
     "name": "stdout",
     "output_type": "stream",
     "text": [
      "Epoch: 23:0,  Loss:1.5101372003555298\n"
     ]
    },
    {
     "name": "stderr",
     "output_type": "stream",
     "text": [
      "100%|██████████| 200/200 [00:00<00:00, 216.15it/s]\n",
      "  0%|          | 0/1200 [00:00<?, ?it/s]"
     ]
    },
    {
     "name": "stdout",
     "output_type": "stream",
     "text": [
      "Train Acc:94.09%, Test Acc:91.64%\n",
      "\n"
     ]
    },
    {
     "name": "stderr",
     "output_type": "stream",
     "text": [
      "100%|██████████| 1200/1200 [00:10<00:00, 115.33it/s]\n",
      "  0%|          | 0/200 [00:00<?, ?it/s]"
     ]
    },
    {
     "name": "stdout",
     "output_type": "stream",
     "text": [
      "Epoch: 24:0,  Loss:1.4920262098312378\n"
     ]
    },
    {
     "name": "stderr",
     "output_type": "stream",
     "text": [
      "100%|██████████| 200/200 [00:00<00:00, 216.05it/s]"
     ]
    },
    {
     "name": "stdout",
     "output_type": "stream",
     "text": [
      "Train Acc:94.12%, Test Acc:91.63%\n",
      "\n",
      "\t-> Train Acc 94.12166666666667 ; Test Acc 91.66\n"
     ]
    },
    {
     "name": "stderr",
     "output_type": "stream",
     "text": [
      "\n"
     ]
    }
   ],
   "source": [
    "index = 0\n",
    "for epoch in range(EPOCHS):\n",
    "    train_acc = 0\n",
    "    train_count = 0\n",
    "    for xx, yy in tqdm(train_loader):\n",
    "        xx, yy = xx.to(device), yy.to(device)\n",
    "#     for xx, yy in tqdm(test_loader):\n",
    "\n",
    "        yout = model(xx)\n",
    "#         print(yout)\n",
    "        yout = classifier(yout)    \n",
    "#         print(yout)\n",
    "        loss = criterion(yout, yy)\n",
    "        optimizer.zero_grad()\n",
    "        loss.backward()\n",
    "        optimizer.step()\n",
    "\n",
    "        losses.append(float(loss))\n",
    "\n",
    "        outputs = torch.argmax(yout, dim=1).data.cpu().numpy()\n",
    "        correct = (outputs == yy.data.cpu().numpy()).astype(float).sum()\n",
    "        train_acc += correct\n",
    "        train_count += len(outputs)\n",
    "#         break\n",
    "\n",
    "    train_accs.append(float(train_acc)/train_count*100)\n",
    "    train_acc = 0\n",
    "    train_count = 0\n",
    "\n",
    "    print(f'Epoch: {epoch}:{index},  Loss:{float(loss)}')\n",
    "    test_count = 0\n",
    "    test_acc = 0\n",
    "    for xx, yy in tqdm(test_loader):\n",
    "        xx, yy = xx.to(device), yy.to(device)\n",
    "        with torch.no_grad():\n",
    "            yout = classifier(model(xx))    \n",
    "        outputs = torch.argmax(yout, dim=1).data.cpu().numpy()\n",
    "        correct = (outputs == yy.data.cpu().numpy()).astype(float).sum()\n",
    "        test_acc += correct\n",
    "        test_count += len(xx)\n",
    "    test_accs.append(float(test_acc)/test_count*100)\n",
    "    print(f'Train Acc:{train_accs[-1]:.2f}%, Test Acc:{test_accs[-1]:.2f}%')\n",
    "    print()\n",
    "\n",
    "### after each class index is finished training\n",
    "print(f'\\t-> Train Acc {max(train_accs)} ; Test Acc {max(test_accs)}')"
   ]
  },
  {
   "cell_type": "code",
   "execution_count": 33,
   "metadata": {},
   "outputs": [
    {
     "data": {
      "text/plain": [
       "Parameter containing:\n",
       "tensor([17.4657], device='cuda:0', requires_grad=True)"
      ]
     },
     "execution_count": 33,
     "metadata": {},
     "output_type": "execute_result"
    }
   ],
   "source": [
    "classifier.inv_temp"
   ]
  },
  {
   "cell_type": "markdown",
   "metadata": {},
   "source": [
    "### Hard test accuracy with count per classifier"
   ]
  },
  {
   "cell_type": "code",
   "execution_count": 34,
   "metadata": {},
   "outputs": [
    {
     "name": "stderr",
     "output_type": "stream",
     "text": [
      "100%|██████████| 200/200 [00:00<00:00, 211.18it/s]"
     ]
    },
    {
     "name": "stdout",
     "output_type": "stream",
     "text": [
      "Hard Test Acc:91.64%\n",
      "[0, 19, 69, 0, 0, 0, 930, 0, 0, 0, 0, 965, 0, 10, 0, 0, 0, 0, 0, 0, 0, 0, 903, 0, 0, 0, 0, 1034, 22, 0, 3, 0, 6, 0, 0, 0, 5, 0, 0, 941, 0, 0, 22, 0, 700, 1, 0, 0, 0, 0, 0, 0, 0, 0, 236, 0, 0, 0, 0, 0, 12, 0, 0, 92, 31, 2, 0, 0, 0, 0, 949, 0, 0, 0, 0, 1007, 0, 0, 0, 0, 42, 0, 0, 905, 0, 0, 78, 0, 945, 23, 0, 0, 0, 0, 0, 0, 9, 0, 39, 0]\n"
     ]
    },
    {
     "name": "stderr",
     "output_type": "stream",
     "text": [
      "\n"
     ]
    }
   ],
   "source": [
    "test_count = 0\n",
    "test_acc = 0\n",
    "set_count = torch.zeros(classifier.num_sets).to(device)\n",
    "for xx, yy in tqdm(test_loader):\n",
    "    xx, yy = xx.to(device), yy.to(device)\n",
    "    with torch.no_grad():\n",
    "        yout = classifier(model(xx), hard=True)\n",
    "        set_indx, count = torch.unique(torch.argmax(classifier.cls_confidence, dim=1), return_counts=True) \n",
    "        set_count[set_indx] += count\n",
    "    outputs = torch.argmax(yout, dim=1).data.cpu().numpy()\n",
    "    correct = (outputs == yy.data.cpu().numpy()).astype(float).sum()\n",
    "    test_acc += correct\n",
    "    test_count += len(xx)\n",
    "\n",
    "print(f'Hard Test Acc:{float(test_acc)/test_count*100:.2f}%')\n",
    "print(set_count.type(torch.long).tolist())"
   ]
  },
  {
   "cell_type": "markdown",
   "metadata": {},
   "source": [
    "### Hard train accuracy with count per classifier"
   ]
  },
  {
   "cell_type": "code",
   "execution_count": 35,
   "metadata": {},
   "outputs": [
    {
     "name": "stderr",
     "output_type": "stream",
     "text": [
      "100%|██████████| 1200/1200 [00:04<00:00, 246.07it/s]"
     ]
    },
    {
     "name": "stdout",
     "output_type": "stream",
     "text": [
      "Hard Train Acc:94.52%\n",
      "[0, 127, 413, 0, 0, 0, 5391, 0, 0, 0, 0, 5835, 0, 68, 0, 0, 0, 0, 0, 0, 7, 0, 5506, 0, 0, 1, 1, 6138, 126, 0, 7, 0, 11, 0, 0, 0, 41, 0, 0, 5715, 3, 0, 147, 0, 4089, 2, 0, 0, 0, 1, 0, 3, 0, 7, 1610, 0, 0, 0, 0, 0, 83, 0, 0, 543, 227, 6, 0, 0, 4, 0, 5752, 0, 0, 10, 0, 5986, 0, 0, 2, 0, 278, 0, 0, 5409, 0, 0, 397, 0, 5731, 156, 0, 0, 0, 0, 0, 0, 39, 0, 128, 0]\n"
     ]
    },
    {
     "name": "stderr",
     "output_type": "stream",
     "text": [
      "\n"
     ]
    }
   ],
   "source": [
    "test_count = 0\n",
    "test_acc = 0\n",
    "set_count = torch.zeros(classifier.num_sets).to(device)\n",
    "for xx, yy in tqdm(train_loader):\n",
    "    xx, yy = xx.to(device), yy.to(device)\n",
    "    with torch.no_grad():\n",
    "        yout = classifier(model(xx), hard=True)\n",
    "        set_indx, count = torch.unique(torch.argmax(classifier.cls_confidence, dim=1), return_counts=True) \n",
    "        set_count[set_indx] += count\n",
    "    outputs = torch.argmax(yout, dim=1).data.cpu().numpy()\n",
    "    correct = (outputs == yy.data.cpu().numpy()).astype(float).sum()\n",
    "    test_acc += correct\n",
    "    test_count += len(xx)\n",
    "\n",
    "print(f'Hard Train Acc:{float(test_acc)/test_count*100:.2f}%')\n",
    "print(set_count.type(torch.long).tolist())"
   ]
  },
  {
   "cell_type": "code",
   "execution_count": 36,
   "metadata": {},
   "outputs": [
    {
     "data": {
      "text/plain": [
       "tensor(39, device='cuda:0')"
      ]
     },
     "execution_count": 36,
     "metadata": {},
     "output_type": "execute_result"
    }
   ],
   "source": [
    "#### Classifiers that enclose any data\n",
    "torch.count_nonzero(set_count)"
   ]
  },
  {
   "cell_type": "code",
   "execution_count": 37,
   "metadata": {},
   "outputs": [
    {
     "data": {
      "text/plain": [
       "tensor([0, 1, 2, 3, 4, 5, 6, 7, 8, 9, 0, 1, 6, 3, 6, 5, 6, 5, 8, 9, 0, 1, 2, 3,\n",
       "        4, 5, 6, 7, 8, 9, 0, 3, 2, 3, 6, 5, 6, 5, 6, 9, 0, 1, 2, 0, 4, 5, 6, 5,\n",
       "        8, 9, 6, 1, 2, 3, 4, 5, 6, 5, 8, 9, 0, 1, 6, 3, 4, 5, 6, 7, 8, 9, 0, 1,\n",
       "        6, 3, 4, 5, 6, 7, 8, 9, 0, 1, 6, 3, 4, 8, 6, 5, 8, 9, 0, 3, 6, 6, 6, 5,\n",
       "        6, 5, 8, 9], device='cuda:0')"
      ]
     },
     "execution_count": 37,
     "metadata": {},
     "output_type": "execute_result"
    }
   ],
   "source": [
    "#### classifier with class representation\n",
    "torch.argmax(classifier.cls_weight, dim=1)"
   ]
  },
  {
   "cell_type": "code",
   "execution_count": 38,
   "metadata": {},
   "outputs": [],
   "source": [
    "# The class labels are same as that of initialized\n",
    "# tensor([0, 1, 2, 3, 4, 5, 6, 7, 8, 9, 0, 1, 2, 3, 4, 5, 6, 7, 8, 9, 0, 1, 2, 3,\n",
    "#         4, 5, 6, 7, 8, 9, 0, 1, 2, 3, 4, 5, 6, 7, 8, 9, 0, 1, 2, 3, 4, 5, 6, 7,\n",
    "#         8, 9, 0, 1, 2, 3, 4, 5, 6, 7, 8, 9, 0, 1, 2, 3, 4, 5, 6, 7, 8, 9, 0, 1,\n",
    "#         2, 3, 4, 5, 6, 7, 8, 9, 0, 1, 2, 3, 4, 5, 6, 7, 8, 9, 0, 1, 2, 3, 4, 5,\n",
    "#         6, 7, 8, 9], device='cuda:0')"
   ]
  },
  {
   "cell_type": "code",
   "execution_count": 39,
   "metadata": {},
   "outputs": [
    {
     "data": {
      "text/plain": [
       "Parameter containing:\n",
       "tensor([[ 4.5707e+00, -6.1187e+00, -5.9843e+00, -5.7596e+00, -6.2395e+00,\n",
       "         -6.7145e+00, -1.3000e+00, -6.7182e+00, -6.4216e+00, -6.7123e+00],\n",
       "        [-4.5537e+00,  5.8321e+00, -5.2303e+00, -3.1670e+00, -5.1807e+00,\n",
       "         -5.5590e+00, -4.8234e+00, -5.5957e+00, -5.5326e+00, -5.5693e+00],\n",
       "        [-7.3217e+00, -7.5306e+00,  1.0043e+01, -7.4558e+00, -6.1344e+00,\n",
       "         -7.6038e+00, -6.0353e+00, -7.6112e+00, -7.5306e+00, -7.6020e+00],\n",
       "        [ 1.0200e+00, -1.3880e+00, -2.0284e+00,  1.8134e+00, -2.2929e+00,\n",
       "         -2.9024e+00,  7.4698e-01, -3.0175e+00, -2.5613e+00, -2.9651e+00],\n",
       "        [-5.7246e+00, -5.9981e+00, -4.0205e+00, -5.7197e+00,  7.6831e+00,\n",
       "         -6.1818e+00, -3.5888e+00, -6.1914e+00, -6.0481e+00, -6.1877e+00],\n",
       "        [-1.2317e+00, -1.5968e+00, -1.6302e+00, -1.3119e+00, -1.7657e+00,\n",
       "          2.0491e+00, -5.8906e-01, -7.8146e-01, -2.0993e-01,  2.7617e-01],\n",
       "        [-8.5499e+00, -8.8448e+00, -6.4159e+00, -8.7495e+00, -6.4786e+00,\n",
       "         -8.9407e+00,  9.6940e+00, -8.9443e+00, -8.8040e+00, -8.9196e+00],\n",
       "        [-4.0801e+00, -4.0755e+00, -4.1017e+00, -4.0634e+00, -4.1162e+00,\n",
       "         -2.0693e+00, -4.0556e+00,  5.4177e+00, -3.3212e+00, -2.5267e+00],\n",
       "        [-2.4492e+00, -3.1477e+00, -2.5818e+00, -2.9381e+00, -2.6826e+00,\n",
       "         -3.0153e+00, -1.7204e+00, -3.1320e+00,  4.0345e+00, -3.0490e+00],\n",
       "        [-3.3131e+00, -3.2927e+00, -3.3487e+00, -3.1737e+00, -3.4176e+00,\n",
       "         -1.0898e+00, -3.1378e+00, -1.5319e+00, -2.4338e+00,  3.8486e+00],\n",
       "        [ 3.1164e+00, -2.5780e+00, -3.2331e+00, -1.8038e+00, -3.4858e+00,\n",
       "         -3.8424e+00,  2.0348e-01, -3.9227e+00, -3.5095e+00, -3.8871e+00],\n",
       "        [-8.2437e+00,  1.0009e+01, -8.5663e+00, -7.6471e+00, -8.5216e+00,\n",
       "         -8.6081e+00, -8.4956e+00, -8.6126e+00, -8.6210e+00, -8.6237e+00],\n",
       "        [-2.4923e+00, -3.5686e+00, -1.3631e+00, -3.2411e+00, -2.3736e+00,\n",
       "         -3.8769e+00,  5.0364e+00, -3.9230e+00, -3.5216e+00, -3.8300e+00],\n",
       "        [-5.9506e+00, -5.4294e+00, -6.5125e+00,  9.0998e+00, -6.4075e+00,\n",
       "         -6.6997e+00, -6.2526e+00, -6.6995e+00, -6.6719e+00, -6.6919e+00],\n",
       "        [-3.3360e+00, -3.9111e+00, -1.2469e+00, -3.6034e+00,  1.1539e+00,\n",
       "         -4.3341e+00,  2.6064e+00, -4.3620e+00, -3.9219e+00, -4.3334e+00],\n",
       "        [-2.2166e+00, -2.3872e+00, -2.4256e+00, -2.3085e+00, -2.6136e+00,\n",
       "          3.2307e+00, -1.9576e+00, -8.1717e-01, -1.1892e+00, -5.9962e-01],\n",
       "        [-1.2619e+00, -5.1474e+00, -4.3684e+00, -4.1333e+00, -4.7064e+00,\n",
       "         -5.6515e+00,  5.0285e+00, -5.7154e+00, -5.3409e+00, -5.6738e+00],\n",
       "        [-1.3666e+00, -1.5077e+00, -1.4903e+00, -1.4109e+00, -1.7172e+00,\n",
       "          1.5744e+00, -4.4781e-01,  6.6156e-01,  6.5198e-02,  1.8646e-01],\n",
       "        [-4.6507e+00, -5.0032e+00, -4.8651e+00, -4.9653e+00, -4.9083e+00,\n",
       "         -4.4404e+00, -4.4445e+00, -4.5120e+00,  6.4729e+00, -4.5031e+00],\n",
       "        [-3.7399e+00, -3.7617e+00, -3.8177e+00, -3.6226e+00, -3.8431e+00,\n",
       "         -1.6377e+00, -3.6863e+00, -1.9066e+00, -2.9497e+00,  4.4230e+00],\n",
       "        [ 3.9994e+00, -3.4390e+00, -4.2823e+00, -2.7831e+00, -4.4873e+00,\n",
       "         -4.9189e+00, -9.6535e-01, -4.9968e+00, -4.5892e+00, -4.9641e+00],\n",
       "        [-9.6474e-01,  2.4185e+00, -2.0218e+00,  6.8518e-01, -2.0993e+00,\n",
       "         -2.6429e+00, -5.1445e-01, -2.7900e+00, -2.4024e+00, -2.7168e+00],\n",
       "        [-8.1983e+00, -8.3586e+00,  1.0264e+01, -8.2976e+00, -7.0124e+00,\n",
       "         -8.4360e+00, -7.0966e+00, -8.4411e+00, -8.3924e+00, -8.4440e+00],\n",
       "        [-1.0583e+00, -8.9794e-01, -2.3575e+00,  3.3219e+00, -2.2433e+00,\n",
       "         -2.7814e+00, -8.6003e-01, -2.8882e+00, -2.4547e+00, -2.7990e+00],\n",
       "        [-3.2980e+00, -3.8837e+00, -1.1722e+00, -3.5161e+00,  2.5843e+00,\n",
       "         -4.2537e+00,  1.2667e+00, -4.2703e+00, -3.8419e+00, -4.2339e+00],\n",
       "        [-4.3265e+00, -4.3619e+00, -4.4287e+00, -4.3738e+00, -4.4376e+00,\n",
       "          5.1391e+00, -4.3171e+00, -2.7312e+00, -3.6243e+00, -2.4308e+00],\n",
       "        [-5.2482e+00, -6.0487e+00, -3.6041e+00, -5.8182e+00, -3.9776e+00,\n",
       "         -6.2323e+00,  7.2250e+00, -6.2444e+00, -6.0642e+00, -6.2501e+00],\n",
       "        [-8.6364e+00, -8.6236e+00, -8.6265e+00, -8.6281e+00, -8.6334e+00,\n",
       "         -7.4519e+00, -8.6323e+00,  1.0248e+01, -8.1274e+00, -7.7542e+00],\n",
       "        [-6.4694e+00, -6.6102e+00, -6.4935e+00, -6.6050e+00, -6.5336e+00,\n",
       "         -6.1915e+00, -6.3659e+00, -6.2287e+00,  8.7950e+00, -6.2183e+00],\n",
       "        [-2.4636e+00, -2.5053e+00, -2.5898e+00, -2.3346e+00, -2.7030e+00,\n",
       "         -4.0415e-01, -2.0352e+00, -1.3368e+00, -1.4984e+00,  3.3936e+00],\n",
       "        [ 7.8370e+00, -6.7898e+00, -6.9992e+00, -6.4754e+00, -7.0554e+00,\n",
       "         -7.3802e+00, -4.1544e+00, -7.3859e+00, -7.3022e+00, -7.3702e+00],\n",
       "        [-5.6546e-01,  9.2232e-01, -1.6211e+00,  1.9089e+00, -1.5204e+00,\n",
       "         -2.3677e+00,  1.4306e-01, -2.5024e+00, -2.0061e+00, -2.3824e+00],\n",
       "        [-7.2340e+00, -7.4908e+00,  1.0016e+01, -7.3920e+00, -6.0799e+00,\n",
       "         -7.6153e+00, -5.9701e+00, -7.6149e+00, -7.5409e+00, -7.6010e+00],\n",
       "        [-1.9397e+00, -7.9414e-01, -3.0473e+00,  3.6691e+00, -2.9521e+00,\n",
       "         -3.2570e+00, -1.9463e+00, -3.3556e+00, -3.1387e+00, -3.2412e+00],\n",
       "        [-3.3130e+00, -4.4562e+00, -2.3015e+00, -4.1995e+00, -2.6973e+00,\n",
       "         -4.7714e+00,  5.7656e+00, -4.8098e+00, -4.5157e+00, -4.7603e+00],\n",
       "        [-9.6277e-01, -1.4561e+00, -1.4467e+00, -1.3699e+00, -1.7055e+00,\n",
       "          1.6643e+00, -1.6614e-01, -8.7053e-01,  3.5438e-01, -2.7218e-01],\n",
       "        [-6.4391e+00, -7.1019e+00, -3.0261e+00, -6.8915e+00, -4.7655e+00,\n",
       "         -7.1902e+00,  6.7424e+00, -7.2095e+00, -6.9920e+00, -7.1985e+00],\n",
       "        [-1.1396e+00, -1.5651e+00, -1.5161e+00, -1.3035e+00, -1.7984e+00,\n",
       "          1.7386e+00, -3.1248e-01,  9.1610e-02,  1.4942e-01, -1.6569e-01],\n",
       "        [-1.5516e+00, -3.0910e+00, -8.9167e-01, -2.5237e+00, -1.6224e+00,\n",
       "         -3.3390e+00,  3.8758e+00, -3.4063e+00, -1.7004e+00, -3.3246e+00],\n",
       "        [-8.6573e+00, -8.6374e+00, -8.6496e+00, -8.6510e+00, -8.6562e+00,\n",
       "         -7.6871e+00, -8.6511e+00, -7.7087e+00, -8.2246e+00,  9.9508e+00],\n",
       "        [ 5.6815e+00, -7.1303e+00, -6.8853e+00, -6.7187e+00, -7.0864e+00,\n",
       "         -7.5635e+00, -2.3688e+00, -7.5727e+00, -7.3433e+00, -7.5705e+00],\n",
       "        [-2.6978e+00,  4.2444e+00, -3.3417e+00, -1.4005e+00, -3.3463e+00,\n",
       "         -3.5309e+00, -2.8166e+00, -3.6548e+00, -3.5234e+00, -3.6295e+00],\n",
       "        [-7.2941e+00, -7.4878e+00,  9.9662e+00, -7.4190e+00, -6.0170e+00,\n",
       "         -7.5522e+00, -5.9410e+00, -7.5514e+00, -7.4663e+00, -7.5467e+00],\n",
       "        [ 1.4084e+00, -9.7054e-01, -2.0864e+00,  1.1678e+00, -2.2705e+00,\n",
       "         -2.9911e+00,  1.2844e+00, -3.1370e+00, -2.7358e+00, -3.0415e+00],\n",
       "        [-8.2623e+00, -8.4151e+00, -6.7696e+00, -8.3461e+00,  1.0507e+01,\n",
       "         -8.5317e+00, -6.9564e+00, -8.5530e+00, -8.4968e+00, -8.5548e+00],\n",
       "        [-6.6449e+00, -6.6315e+00, -6.6734e+00, -6.6422e+00, -6.6763e+00,\n",
       "          9.1042e+00, -6.6654e+00, -5.4106e+00, -6.1998e+00, -5.4546e+00],\n",
       "        [-2.5874e+00, -5.3123e+00, -3.9277e+00, -4.5324e+00, -4.0886e+00,\n",
       "         -5.6333e+00,  6.4526e+00, -5.6769e+00, -5.3562e+00, -5.6481e+00],\n",
       "        [-9.6587e-01, -1.2918e+00, -1.3284e+00, -1.3123e+00, -1.6583e+00,\n",
       "          1.3777e+00, -1.1363e-01, -1.0533e-01,  3.9511e-01, -6.5987e-02],\n",
       "        [-1.8989e+00, -2.3699e+00, -2.2311e+00, -2.3345e+00, -2.5233e+00,\n",
       "         -1.3343e+00, -1.1499e+00, -1.9276e+00,  3.2228e+00, -1.8056e+00],\n",
       "        [-4.0172e+00, -3.9735e+00, -4.0284e+00, -3.8865e+00, -4.0586e+00,\n",
       "         -1.7806e+00, -3.9186e+00, -2.2277e+00, -3.0449e+00,  4.4338e+00],\n",
       "        [ 1.4139e+00, -5.0058e+00, -4.2183e+00, -4.4409e+00, -4.8172e+00,\n",
       "         -5.5251e+00,  1.9330e+00, -5.5695e+00, -5.1180e+00, -5.5329e+00],\n",
       "        [-4.0263e+00,  5.3938e+00, -4.7925e+00, -2.4930e+00, -4.7021e+00,\n",
       "         -5.1613e+00, -4.2911e+00, -5.1954e+00, -5.1050e+00, -5.1856e+00],\n",
       "        [-4.8283e+00, -5.2414e+00,  3.7397e+00, -5.1764e+00, -2.9538e+00,\n",
       "         -5.3533e+00,  1.7134e-01, -5.3751e+00, -5.0181e+00, -5.3574e+00],\n",
       "        [-6.4345e+00, -5.8735e+00, -6.9961e+00,  9.6677e+00, -6.8525e+00,\n",
       "         -7.1375e+00, -6.7876e+00, -7.1348e+00, -7.1123e+00, -7.1380e+00],\n",
       "        [-7.5865e+00, -7.7737e+00, -6.2218e+00, -7.5952e+00,  1.0181e+01,\n",
       "         -7.9342e+00, -6.2943e+00, -7.9348e+00, -7.8599e+00, -7.9230e+00],\n",
       "        [-2.2106e+00, -2.3171e+00, -2.4068e+00, -2.2215e+00, -2.5724e+00,\n",
       "          3.2778e+00, -1.9439e+00, -1.1076e+00, -1.3056e+00, -3.2596e-01],\n",
       "        [-3.6293e+00, -5.1682e+00, -2.5980e+00, -4.5589e+00, -3.6988e+00,\n",
       "         -5.3987e+00,  6.3159e+00, -5.4400e+00, -5.1479e+00, -5.4100e+00],\n",
       "        [-1.3083e+00, -1.6998e+00, -1.5903e+00, -1.4616e+00, -1.7854e+00,\n",
       "          1.7698e+00, -5.9967e-01,  2.5943e-01,  1.1581e-01,  5.5181e-02],\n",
       "        [-1.1585e+00, -2.1987e+00, -9.0148e-01, -1.9108e+00, -1.1847e+00,\n",
       "         -2.3351e+00,  1.2861e+00, -2.5568e+00,  1.5737e+00, -2.3704e+00],\n",
       "        [-2.0739e+00, -1.9771e+00, -2.1101e+00, -1.8434e+00, -2.3247e+00,\n",
       "         -1.4696e-01, -1.6227e+00, -1.2841e+00, -1.3072e+00,  3.2334e+00],\n",
       "        [ 8.9873e+00, -6.9917e+00, -7.0957e+00, -6.7190e+00, -7.1197e+00,\n",
       "         -7.4806e+00, -5.0489e+00, -7.4896e+00, -7.4414e+00, -7.4839e+00],\n",
       "        [-1.8615e+00,  3.2092e+00, -2.5845e+00,  4.2669e-03, -2.5731e+00,\n",
       "         -2.9677e+00, -1.7642e+00, -3.0691e+00, -2.8055e+00, -2.9611e+00],\n",
       "        [-4.1637e+00, -4.7307e+00, -1.5172e-01, -4.5283e+00, -2.6949e+00,\n",
       "         -4.9819e+00,  3.9227e+00, -5.0088e+00, -4.6900e+00, -4.9811e+00],\n",
       "        [-7.2698e+00, -6.7175e+00, -7.7235e+00,  1.0359e+01, -7.6118e+00,\n",
       "         -7.7804e+00, -7.5838e+00, -7.7947e+00, -7.7748e+00, -7.8062e+00],\n",
       "        [-7.5774e+00, -7.7516e+00, -6.1599e+00, -7.5711e+00,  1.0092e+01,\n",
       "         -7.8149e+00, -6.2308e+00, -7.8314e+00, -7.7453e+00, -7.8131e+00],\n",
       "        [-6.0723e+00, -6.0762e+00, -6.0741e+00, -6.0734e+00, -6.0822e+00,\n",
       "          8.2032e+00, -6.0589e+00, -4.7351e+00, -5.5499e+00, -4.7620e+00],\n",
       "        [-4.2518e+00, -5.1544e+00, -1.7107e+00, -4.8117e+00, -2.9885e+00,\n",
       "         -5.3312e+00,  5.5187e+00, -5.3541e+00, -5.0536e+00, -5.3156e+00],\n",
       "        [-2.7603e+00, -2.9763e+00, -2.9126e+00, -2.8864e+00, -2.9840e+00,\n",
       "         -5.9664e-01, -2.6896e+00,  3.8606e+00, -1.7772e+00, -1.0697e+00],\n",
       "        [-5.7329e+00, -5.9469e+00, -5.7916e+00, -5.9231e+00, -5.8451e+00,\n",
       "         -5.4020e+00, -5.5397e+00, -5.4282e+00,  7.8734e+00, -5.4232e+00],\n",
       "        [-2.9575e+00, -3.0427e+00, -3.1021e+00, -2.8074e+00, -3.1528e+00,\n",
       "         -8.8598e-01, -2.7435e+00, -1.2894e+00, -1.9465e+00,  3.6049e+00],\n",
       "        [ 1.0116e+01, -8.1063e+00, -8.3028e+00, -7.9531e+00, -8.2795e+00,\n",
       "         -8.5337e+00, -7.6428e+00, -8.5479e+00, -8.5029e+00, -8.5337e+00],\n",
       "        [-2.3426e+00,  3.8276e+00, -3.0188e+00, -6.1022e-01, -2.9721e+00,\n",
       "         -3.4239e+00, -2.2522e+00, -3.5336e+00, -3.3589e+00, -3.5006e+00],\n",
       "        [-4.0029e+00, -4.6939e+00, -8.4048e-01, -4.5018e+00, -2.6664e+00,\n",
       "         -5.0059e+00,  4.5161e+00, -5.0135e+00, -4.6375e+00, -5.0026e+00],\n",
       "        [-4.5903e+00, -3.6399e+00, -5.4144e+00,  6.4992e+00, -5.3455e+00,\n",
       "         -5.7156e+00, -4.5956e+00, -5.7335e+00, -5.6307e+00, -5.7108e+00],\n",
       "        [-3.9726e+00, -4.3812e+00, -1.7170e+00, -4.0615e+00,  3.7988e+00,\n",
       "         -4.6482e+00,  1.2212e-01, -4.6457e+00, -4.3072e+00, -4.6112e+00],\n",
       "        [-8.6443e+00, -8.6376e+00, -8.6560e+00, -8.6452e+00, -8.6543e+00,\n",
       "          9.9738e+00, -8.6469e+00, -7.6899e+00, -8.2117e+00, -7.6991e+00],\n",
       "        [-2.3696e+00, -4.0098e+00, -2.1633e+00, -3.5889e+00, -2.6109e+00,\n",
       "         -4.1549e+00,  5.5572e+00, -4.1858e+00, -3.7129e+00, -4.1634e+00],\n",
       "        [-2.4079e+00, -2.5399e+00, -2.6388e+00, -2.5104e+00, -2.6820e+00,\n",
       "          6.7635e-02, -2.2053e+00,  3.2833e+00, -1.3135e+00, -8.0523e-01],\n",
       "        [-6.0514e+00, -6.2624e+00, -6.1028e+00, -6.2290e+00, -6.1372e+00,\n",
       "         -5.7929e+00, -5.9006e+00, -5.8086e+00,  8.3488e+00, -5.8098e+00],\n",
       "        [-1.6739e+00, -2.0079e+00, -2.0573e+00, -1.7531e+00, -2.2522e+00,\n",
       "          1.0737e+00, -1.1229e+00, -8.2991e-01, -7.1658e-01,  2.1912e+00],\n",
       "        [ 6.5439e+00, -7.4379e+00, -7.4796e+00, -7.0741e+00, -7.5825e+00,\n",
       "         -7.9129e+00, -3.1843e+00, -7.9262e+00, -7.7131e+00, -7.9050e+00],\n",
       "        [-2.9918e+00,  4.3217e+00, -3.7608e+00, -1.3432e+00, -3.7239e+00,\n",
       "         -4.2023e+00, -3.1463e+00, -4.2682e+00, -4.1235e+00, -4.2239e+00],\n",
       "        [-4.8070e+00, -5.5289e+00, -7.1567e-01, -5.2817e+00, -3.4571e+00,\n",
       "         -5.7343e+00,  4.4630e+00, -5.7418e+00, -5.3799e+00, -5.7406e+00],\n",
       "        [-7.6965e+00, -7.3845e+00, -8.2870e+00,  1.0272e+01, -8.1861e+00,\n",
       "         -8.4076e+00, -8.1404e+00, -8.4200e+00, -8.3980e+00, -8.4143e+00],\n",
       "        [-4.7632e+00, -5.0411e+00, -2.1706e+00, -4.8398e+00,  4.1059e+00,\n",
       "         -5.1667e+00, -1.6817e-01, -5.1655e+00, -4.7997e+00, -5.1458e+00],\n",
       "        [-1.1301e+00, -1.3247e+00, -1.1323e+00, -1.2115e+00, -1.5138e+00,\n",
       "          8.5518e-01,  8.7997e-02, -9.3560e-01,  1.0249e+00,  3.3091e-01],\n",
       "        [-6.8756e+00, -7.7088e+00, -5.1754e+00, -7.4877e+00, -5.5438e+00,\n",
       "         -7.8489e+00,  8.7615e+00, -7.8440e+00, -7.6955e+00, -7.8465e+00],\n",
       "        [-1.5227e+00, -1.8086e+00, -1.7281e+00, -1.7921e+00, -1.9534e+00,\n",
       "          2.0468e+00, -1.0113e+00,  5.5383e-01, -3.9514e-01, -9.2367e-02],\n",
       "        [-8.5585e+00, -8.5805e+00, -8.5286e+00, -8.5807e+00, -8.5315e+00,\n",
       "         -8.2463e+00, -8.5239e+00, -8.2507e+00,  1.0077e+01, -8.2573e+00],\n",
       "        [-6.9475e+00, -6.9498e+00, -6.9305e+00, -6.9470e+00, -6.9307e+00,\n",
       "         -5.8744e+00, -6.9305e+00, -6.0168e+00, -6.4566e+00,  9.3341e+00],\n",
       "        [ 5.5753e+00, -7.0258e+00, -6.7339e+00, -6.6310e+00, -6.9760e+00,\n",
       "         -7.4907e+00, -2.2458e+00, -7.4931e+00, -7.2565e+00, -7.4801e+00],\n",
       "        [-6.1065e-01,  1.3592e+00, -2.0735e+00,  1.7995e+00, -2.0878e+00,\n",
       "         -2.8568e+00, -2.6342e-01, -2.9931e+00, -2.5902e+00, -2.8870e+00],\n",
       "        [-3.8104e+00, -4.4761e+00,  1.7475e+00, -4.3476e+00, -2.5104e+00,\n",
       "         -4.7060e+00,  2.0488e+00, -4.7318e+00, -4.3309e+00, -4.6877e+00],\n",
       "        [ 1.0138e+00, -1.1829e+00, -2.0058e+00,  1.2716e+00, -2.1326e+00,\n",
       "         -2.7668e+00,  1.4852e+00, -2.8853e+00, -2.1785e+00, -2.7996e+00],\n",
       "        [-1.6233e+00, -2.7369e+00, -3.2043e-01, -2.1329e+00, -1.0581e+00,\n",
       "         -2.7774e+00,  3.4728e+00, -2.9385e+00, -9.5284e-01, -2.8932e+00],\n",
       "        [-5.4585e+00, -5.4550e+00, -5.4646e+00, -5.4700e+00, -5.4847e+00,\n",
       "          7.2763e+00, -5.4426e+00, -4.2721e+00, -4.8431e+00, -4.1827e+00],\n",
       "        [-5.0304e+00, -6.6668e+00, -4.4275e+00, -6.2335e+00, -4.8496e+00,\n",
       "         -6.9064e+00,  7.8655e+00, -6.9340e+00, -6.7045e+00, -6.9297e+00],\n",
       "        [-1.7317e+00, -1.9006e+00, -2.0037e+00, -1.8336e+00, -2.0928e+00,\n",
       "          2.0615e+00, -1.2047e+00,  9.7077e-01, -4.2168e-01, -2.7168e-01],\n",
       "        [-6.5016e+00, -6.6701e+00, -6.5059e+00, -6.6534e+00, -6.5451e+00,\n",
       "         -6.3344e+00, -6.3826e+00, -6.3717e+00,  8.9295e+00, -6.3579e+00],\n",
       "        [-2.2540e+00, -2.3137e+00, -2.4513e+00, -2.2062e+00, -2.5424e+00,\n",
       "          4.2335e-03, -1.9280e+00, -1.2122e+00, -1.3603e+00,  3.0969e+00]],\n",
       "       device='cuda:0', requires_grad=True)"
      ]
     },
     "execution_count": 39,
     "metadata": {},
     "output_type": "execute_result"
    }
   ],
   "source": [
    "classifier.cls_weight"
   ]
  },
  {
   "cell_type": "code",
   "execution_count": 40,
   "metadata": {},
   "outputs": [],
   "source": [
    "# torch.unique(torch.argmax(classifier.cls_confidence, dim=1), return_counts=True)"
   ]
  },
  {
   "cell_type": "code",
   "execution_count": 41,
   "metadata": {},
   "outputs": [
    {
     "data": {
      "text/plain": [
       "Parameter containing:\n",
       "tensor([17.4657], device='cuda:0', requires_grad=True)"
      ]
     },
     "execution_count": 41,
     "metadata": {},
     "output_type": "execute_result"
    }
   ],
   "source": [
    "classifier.inv_temp"
   ]
  },
  {
   "cell_type": "code",
   "execution_count": 42,
   "metadata": {},
   "outputs": [
    {
     "data": {
      "text/plain": [
       "tensor([1.5721e-08, 2.1479e-08, 8.7105e-09, 1.0000e+00, 9.6352e-09, 7.7206e-09,\n",
       "        1.0086e-08, 7.6261e-09, 7.7955e-09, 7.6698e-09], device='cuda:0')"
      ]
     },
     "execution_count": 42,
     "metadata": {},
     "output_type": "execute_result"
    }
   ],
   "source": [
    "### example output per classifier\n",
    "yout[5]"
   ]
  },
  {
   "cell_type": "code",
   "execution_count": 43,
   "metadata": {},
   "outputs": [
    {
     "ename": "NameError",
     "evalue": "name 'asdfsdf' is not defined",
     "output_type": "error",
     "traceback": [
      "\u001b[0;31m---------------------------------------------------------------------------\u001b[0m",
      "\u001b[0;31mNameError\u001b[0m                                 Traceback (most recent call last)",
      "\u001b[0;32m<ipython-input-43-80a679df1217>\u001b[0m in \u001b[0;36m<module>\u001b[0;34m\u001b[0m\n\u001b[0;32m----> 1\u001b[0;31m \u001b[0masdfsdf\u001b[0m \u001b[0;31m## to break the code\u001b[0m\u001b[0;34m\u001b[0m\u001b[0;34m\u001b[0m\u001b[0m\n\u001b[0m",
      "\u001b[0;31mNameError\u001b[0m: name 'asdfsdf' is not defined"
     ]
    }
   ],
   "source": [
    "asdfsdf ## to break the code"
   ]
  },
  {
   "cell_type": "markdown",
   "metadata": {},
   "source": [
    "### analyze per classifier accuracy"
   ]
  },
  {
   "cell_type": "code",
   "execution_count": 44,
   "metadata": {},
   "outputs": [
    {
     "name": "stderr",
     "output_type": "stream",
     "text": [
      "100%|██████████| 1200/1200 [00:06<00:00, 176.71it/s]"
     ]
    },
    {
     "name": "stdout",
     "output_type": "stream",
     "text": [
      "Hard Train Acc:94.52%\n",
      "[0, 127, 413, 0, 0, 0, 5391, 0, 0, 0, 0, 5835, 0, 68, 0, 0, 0, 0, 0, 0, 7, 0, 5506, 0, 0, 1, 1, 6138, 126, 0, 7, 0, 11, 0, 0, 0, 41, 0, 0, 5715, 3, 0, 147, 0, 4089, 2, 0, 0, 0, 1, 0, 3, 0, 7, 1610, 0, 0, 0, 0, 0, 83, 0, 0, 543, 227, 6, 0, 0, 4, 0, 5752, 0, 0, 10, 0, 5986, 0, 0, 2, 0, 278, 0, 0, 5409, 0, 0, 397, 0, 5731, 156, 0, 0, 0, 0, 0, 0, 39, 0, 128, 0]\n"
     ]
    },
    {
     "name": "stderr",
     "output_type": "stream",
     "text": [
      "\n"
     ]
    }
   ],
   "source": [
    "test_count = 0\n",
    "test_acc = 0\n",
    "set_count = torch.zeros(classifier.num_sets).to(device)\n",
    "set_acc = torch.zeros(classifier.num_sets).to(device)\n",
    "for xx, yy in tqdm(train_loader):\n",
    "    xx, yy = xx.to(device), yy.to(device)\n",
    "    with torch.no_grad():\n",
    "        yout = classifier(model(xx), hard=True)\n",
    "        \n",
    "    cls_indx = torch.argmax(classifier.cls_confidence, dim=1)\n",
    "    set_indx, count = torch.unique(cls_indx, return_counts=True) \n",
    "    set_count[set_indx] += count\n",
    "    \n",
    "    outputs = torch.argmax(yout, dim=1).data.cpu().numpy()\n",
    "    correct = (outputs == yy.data.cpu().numpy()).astype(float)\n",
    "    \n",
    "    ### class_index has 100 possible values\n",
    "    for i, c in enumerate(correct):\n",
    "        set_acc[cls_indx[i]] += c\n",
    "    \n",
    "#     print(set_acc.sum(), set_count.sum())\n",
    "#     break\n",
    "    test_acc += correct.sum()\n",
    "    test_count += len(xx)\n",
    "\n",
    "print(f'Hard Train Acc:{float(test_acc)/test_count*100:.2f}%')\n",
    "print(set_count.type(torch.long).tolist())"
   ]
  },
  {
   "cell_type": "code",
   "execution_count": 45,
   "metadata": {},
   "outputs": [
    {
     "data": {
      "text/plain": [
       "tensor([   nan, 0.9370, 0.8741,    nan,    nan,    nan, 0.8611,    nan,    nan,\n",
       "           nan,    nan, 0.9962,    nan, 0.8382,    nan,    nan,    nan,    nan,\n",
       "           nan,    nan, 1.0000,    nan, 0.9130,    nan,    nan, 1.0000, 1.0000,\n",
       "        0.9653, 0.9444,    nan, 1.0000,    nan, 0.7273,    nan,    nan,    nan,\n",
       "        0.9024,    nan,    nan, 0.9890, 1.0000,    nan, 0.8367,    nan, 0.9359,\n",
       "        1.0000,    nan,    nan,    nan, 1.0000,    nan, 1.0000,    nan, 0.8571,\n",
       "        0.8522,    nan,    nan,    nan,    nan,    nan, 0.8072,    nan,    nan,\n",
       "        0.9503, 0.9163, 1.0000,    nan,    nan, 1.0000,    nan, 0.9080,    nan,\n",
       "           nan, 0.9000,    nan, 0.9932,    nan,    nan, 0.5000,    nan, 0.7914,\n",
       "           nan,    nan, 0.9440,    nan,    nan, 0.7456,    nan, 0.9949, 0.9936,\n",
       "           nan,    nan,    nan,    nan,    nan,    nan, 0.7436,    nan, 0.8750,\n",
       "           nan], device='cuda:0')"
      ]
     },
     "execution_count": 45,
     "metadata": {},
     "output_type": "execute_result"
    }
   ],
   "source": [
    "set_acc/set_count"
   ]
  },
  {
   "cell_type": "code",
   "execution_count": 46,
   "metadata": {},
   "outputs": [
    {
     "name": "stdout",
     "output_type": "stream",
     "text": [
      "1,\t 127,\t 1\t 93.70%\n",
      "2,\t 413,\t 2\t 87.41%\n",
      "6,\t 5391,\t 6\t 86.11%\n",
      "11,\t 5835,\t 1\t 99.62%\n",
      "13,\t 68,\t 3\t 83.82%\n",
      "20,\t 7,\t 0\t 100.00%\n",
      "22,\t 5506,\t 2\t 91.30%\n",
      "25,\t 1,\t 5\t 100.00%\n",
      "26,\t 1,\t 6\t 100.00%\n",
      "27,\t 6138,\t 7\t 96.53%\n",
      "28,\t 126,\t 8\t 94.44%\n",
      "30,\t 7,\t 0\t 100.00%\n",
      "32,\t 11,\t 2\t 72.73%\n",
      "36,\t 41,\t 6\t 90.24%\n",
      "39,\t 5715,\t 9\t 98.90%\n",
      "40,\t 3,\t 0\t 100.00%\n",
      "42,\t 147,\t 2\t 83.67%\n",
      "44,\t 4089,\t 4\t 93.59%\n",
      "45,\t 2,\t 5\t 100.00%\n",
      "49,\t 1,\t 9\t 100.00%\n",
      "51,\t 3,\t 1\t 100.00%\n",
      "53,\t 7,\t 3\t 85.71%\n",
      "54,\t 1610,\t 4\t 85.22%\n",
      "60,\t 83,\t 0\t 80.72%\n",
      "63,\t 543,\t 3\t 95.03%\n",
      "64,\t 227,\t 4\t 91.63%\n",
      "65,\t 6,\t 5\t 100.00%\n",
      "68,\t 4,\t 8\t 100.00%\n",
      "70,\t 5752,\t 0\t 90.80%\n",
      "73,\t 10,\t 3\t 90.00%\n",
      "75,\t 5986,\t 5\t 99.32%\n",
      "78,\t 2,\t 8\t 50.00%\n",
      "80,\t 278,\t 0\t 79.14%\n",
      "83,\t 5409,\t 3\t 94.40%\n",
      "86,\t 397,\t 6\t 74.56%\n",
      "88,\t 5731,\t 8\t 99.49%\n",
      "89,\t 156,\t 9\t 99.36%\n",
      "96,\t 39,\t 6\t 74.36%\n",
      "98,\t 128,\t 8\t 87.50%\n"
     ]
    }
   ],
   "source": [
    "for i, (cnt, acc, cls) in enumerate(zip(set_count.type(torch.long).tolist(),\n",
    "                                   (set_acc/set_count).tolist(),\n",
    "                                   torch.argmax(classifier.cls_weight, dim=1).tolist())):\n",
    "    if cnt == 0: continue\n",
    "    print(f\"{i},\\t {cnt},\\t {cls}\\t {acc*100:.2f}%\")"
   ]
  },
  {
   "cell_type": "markdown",
   "metadata": {},
   "source": [
    "### Benchmark - Robustness"
   ]
  },
  {
   "cell_type": "code",
   "execution_count": 50,
   "metadata": {},
   "outputs": [],
   "source": [
    "import foolbox as fb\n",
    "import foolbox.attacks as fa"
   ]
  },
  {
   "cell_type": "code",
   "execution_count": 59,
   "metadata": {},
   "outputs": [],
   "source": [
    "epsilons = [0.001, 0.01, 0.03, 0.1, 0.3, 0.5, 1.0]\n",
    "# epsilons = [0.0005, 0.001, 0.0015, 0.002, 0.003, 0.005, 0.01, 0.02, 0.03, 0.1, 0.3, 0.5, 1.0,]"
   ]
  },
  {
   "cell_type": "markdown",
   "metadata": {},
   "source": [
    "#### Benchmark on full dataset"
   ]
  },
  {
   "cell_type": "code",
   "execution_count": 60,
   "metadata": {},
   "outputs": [],
   "source": [
    "attacks = [\n",
    "    fa.FGSM(),\n",
    "    fa.LinfPGD(),\n",
    "    fa.LinfBasicIterativeAttack(),\n",
    "#     fa.LinfAdditiveUniformNoiseAttack(),\n",
    "#     fa.LinfDeepFoolAttack(),\n",
    "]\n",
    "atk_names = [\n",
    "    \"FGSM\", \n",
    "    \"LinfPGD\", \n",
    "    \"LinfBasicIterativeAttack\", \n",
    "#     \"LinfAdditiveUniformNoiseAttack\", \n",
    "#     \"LinfDeepFoolAttack\",\n",
    "]"
   ]
  },
  {
   "cell_type": "code",
   "execution_count": 61,
   "metadata": {},
   "outputs": [],
   "source": [
    "def get_attack_success(model, attack, dataloader):\n",
    "    fmodel = fb.PyTorchModel(model.eval(), bounds=(-1, 1))   \n",
    "    success_per_eps = []\n",
    "\n",
    "    for eps in epsilons:\n",
    "        count = 0\n",
    "        total = 0\n",
    "        print(f\"Running one epoch attack for eps: {eps}\")\n",
    "        for i, (images, labels) in enumerate(tqdm(dataloader)):\n",
    "            images, labels = images.to(device), labels.to(device)\n",
    "            _, _, success = attack(fmodel, images, labels, epsilons=[eps])\n",
    "            count += int(torch.count_nonzero(success))\n",
    "            total += torch.numel(success)\n",
    "#             break\n",
    "        success_per_eps.append(count/total)\n",
    "    return success_per_eps"
   ]
  },
  {
   "cell_type": "code",
   "execution_count": 62,
   "metadata": {},
   "outputs": [],
   "source": [
    "# get_attack_success(model, attacks[0], test_loader)"
   ]
  },
  {
   "cell_type": "markdown",
   "metadata": {},
   "source": [
    "### Compute the robustness"
   ]
  },
  {
   "cell_type": "code",
   "execution_count": 63,
   "metadata": {},
   "outputs": [
    {
     "name": "stderr",
     "output_type": "stream",
     "text": [
      "\r",
      "  0%|          | 0/200 [00:00<?, ?it/s]"
     ]
    },
    {
     "name": "stdout",
     "output_type": "stream",
     "text": [
      "Attacking on model using FGSM\n",
      "Running one epoch attack for eps: 0.001\n"
     ]
    },
    {
     "name": "stderr",
     "output_type": "stream",
     "text": [
      "100%|██████████| 200/200 [00:01<00:00, 117.17it/s]\n",
      "  0%|          | 0/200 [00:00<?, ?it/s]"
     ]
    },
    {
     "name": "stdout",
     "output_type": "stream",
     "text": [
      "Running one epoch attack for eps: 0.01\n"
     ]
    },
    {
     "name": "stderr",
     "output_type": "stream",
     "text": [
      "100%|██████████| 200/200 [00:01<00:00, 117.00it/s]\n",
      "  0%|          | 0/200 [00:00<?, ?it/s]"
     ]
    },
    {
     "name": "stdout",
     "output_type": "stream",
     "text": [
      "Running one epoch attack for eps: 0.03\n"
     ]
    },
    {
     "name": "stderr",
     "output_type": "stream",
     "text": [
      "100%|██████████| 200/200 [00:01<00:00, 117.42it/s]\n",
      "  0%|          | 0/200 [00:00<?, ?it/s]"
     ]
    },
    {
     "name": "stdout",
     "output_type": "stream",
     "text": [
      "Running one epoch attack for eps: 0.1\n"
     ]
    },
    {
     "name": "stderr",
     "output_type": "stream",
     "text": [
      "100%|██████████| 200/200 [00:01<00:00, 117.23it/s]\n",
      "  0%|          | 0/200 [00:00<?, ?it/s]"
     ]
    },
    {
     "name": "stdout",
     "output_type": "stream",
     "text": [
      "Running one epoch attack for eps: 0.3\n"
     ]
    },
    {
     "name": "stderr",
     "output_type": "stream",
     "text": [
      "100%|██████████| 200/200 [00:01<00:00, 116.27it/s]\n",
      "  0%|          | 0/200 [00:00<?, ?it/s]"
     ]
    },
    {
     "name": "stdout",
     "output_type": "stream",
     "text": [
      "Running one epoch attack for eps: 0.5\n"
     ]
    },
    {
     "name": "stderr",
     "output_type": "stream",
     "text": [
      "100%|██████████| 200/200 [00:01<00:00, 116.64it/s]\n",
      "  0%|          | 0/200 [00:00<?, ?it/s]"
     ]
    },
    {
     "name": "stdout",
     "output_type": "stream",
     "text": [
      "Running one epoch attack for eps: 1.0\n"
     ]
    },
    {
     "name": "stderr",
     "output_type": "stream",
     "text": [
      "100%|██████████| 200/200 [00:01<00:00, 115.87it/s]\n",
      "  0%|          | 0/200 [00:00<?, ?it/s]"
     ]
    },
    {
     "name": "stdout",
     "output_type": "stream",
     "text": [
      "Success rate is : [0.9988, 1.0, 1.0, 1.0, 1.0, 1.0, 1.0]\n",
      "Attacking on model using LinfPGD\n",
      "Running one epoch attack for eps: 0.001\n"
     ]
    },
    {
     "name": "stderr",
     "output_type": "stream",
     "text": [
      "100%|██████████| 200/200 [00:49<00:00,  4.08it/s]\n",
      "  0%|          | 0/200 [00:00<?, ?it/s]"
     ]
    },
    {
     "name": "stdout",
     "output_type": "stream",
     "text": [
      "Running one epoch attack for eps: 0.01\n"
     ]
    },
    {
     "name": "stderr",
     "output_type": "stream",
     "text": [
      "100%|██████████| 200/200 [00:49<00:00,  4.07it/s]\n",
      "  0%|          | 0/200 [00:00<?, ?it/s]"
     ]
    },
    {
     "name": "stdout",
     "output_type": "stream",
     "text": [
      "Running one epoch attack for eps: 0.03\n"
     ]
    },
    {
     "name": "stderr",
     "output_type": "stream",
     "text": [
      "100%|██████████| 200/200 [00:49<00:00,  4.07it/s]\n",
      "  0%|          | 0/200 [00:00<?, ?it/s]"
     ]
    },
    {
     "name": "stdout",
     "output_type": "stream",
     "text": [
      "Running one epoch attack for eps: 0.1\n"
     ]
    },
    {
     "name": "stderr",
     "output_type": "stream",
     "text": [
      "100%|██████████| 200/200 [00:49<00:00,  4.07it/s]\n",
      "  0%|          | 0/200 [00:00<?, ?it/s]"
     ]
    },
    {
     "name": "stdout",
     "output_type": "stream",
     "text": [
      "Running one epoch attack for eps: 0.3\n"
     ]
    },
    {
     "name": "stderr",
     "output_type": "stream",
     "text": [
      "100%|██████████| 200/200 [00:49<00:00,  4.07it/s]\n",
      "  0%|          | 0/200 [00:00<?, ?it/s]"
     ]
    },
    {
     "name": "stdout",
     "output_type": "stream",
     "text": [
      "Running one epoch attack for eps: 0.5\n"
     ]
    },
    {
     "name": "stderr",
     "output_type": "stream",
     "text": [
      "100%|██████████| 200/200 [00:49<00:00,  4.07it/s]\n",
      "  0%|          | 0/200 [00:00<?, ?it/s]"
     ]
    },
    {
     "name": "stdout",
     "output_type": "stream",
     "text": [
      "Running one epoch attack for eps: 1.0\n"
     ]
    },
    {
     "name": "stderr",
     "output_type": "stream",
     "text": [
      "100%|██████████| 200/200 [00:49<00:00,  4.07it/s]\n",
      "  0%|          | 0/200 [00:00<?, ?it/s]"
     ]
    },
    {
     "name": "stdout",
     "output_type": "stream",
     "text": [
      "Success rate is : [0.9987, 1.0, 1.0, 1.0, 1.0, 1.0, 1.0]\n",
      "Attacking on model using LinfBasicIterativeAttack\n",
      "Running one epoch attack for eps: 0.001\n"
     ]
    },
    {
     "name": "stderr",
     "output_type": "stream",
     "text": [
      "100%|██████████| 200/200 [00:12<00:00, 16.18it/s]\n",
      "  0%|          | 0/200 [00:00<?, ?it/s]"
     ]
    },
    {
     "name": "stdout",
     "output_type": "stream",
     "text": [
      "Running one epoch attack for eps: 0.01\n"
     ]
    },
    {
     "name": "stderr",
     "output_type": "stream",
     "text": [
      "100%|██████████| 200/200 [00:12<00:00, 16.20it/s]\n",
      "  0%|          | 0/200 [00:00<?, ?it/s]"
     ]
    },
    {
     "name": "stdout",
     "output_type": "stream",
     "text": [
      "Running one epoch attack for eps: 0.03\n"
     ]
    },
    {
     "name": "stderr",
     "output_type": "stream",
     "text": [
      "100%|██████████| 200/200 [00:12<00:00, 16.20it/s]\n",
      "  0%|          | 0/200 [00:00<?, ?it/s]"
     ]
    },
    {
     "name": "stdout",
     "output_type": "stream",
     "text": [
      "Running one epoch attack for eps: 0.1\n"
     ]
    },
    {
     "name": "stderr",
     "output_type": "stream",
     "text": [
      "100%|██████████| 200/200 [00:12<00:00, 16.20it/s]\n",
      "  0%|          | 0/200 [00:00<?, ?it/s]"
     ]
    },
    {
     "name": "stdout",
     "output_type": "stream",
     "text": [
      "Running one epoch attack for eps: 0.3\n"
     ]
    },
    {
     "name": "stderr",
     "output_type": "stream",
     "text": [
      "100%|██████████| 200/200 [00:12<00:00, 16.22it/s]\n",
      "  0%|          | 0/200 [00:00<?, ?it/s]"
     ]
    },
    {
     "name": "stdout",
     "output_type": "stream",
     "text": [
      "Running one epoch attack for eps: 0.5\n"
     ]
    },
    {
     "name": "stderr",
     "output_type": "stream",
     "text": [
      "100%|██████████| 200/200 [00:12<00:00, 16.22it/s]\n",
      "  0%|          | 0/200 [00:00<?, ?it/s]"
     ]
    },
    {
     "name": "stdout",
     "output_type": "stream",
     "text": [
      "Running one epoch attack for eps: 1.0\n"
     ]
    },
    {
     "name": "stderr",
     "output_type": "stream",
     "text": [
      "100%|██████████| 200/200 [00:12<00:00, 16.20it/s]"
     ]
    },
    {
     "name": "stdout",
     "output_type": "stream",
     "text": [
      "Success rate is : [0.9988, 1.0, 1.0, 1.0, 1.0, 1.0, 1.0]\n"
     ]
    },
    {
     "name": "stderr",
     "output_type": "stream",
     "text": [
      "\n"
     ]
    }
   ],
   "source": [
    "outputs = {}\n",
    "\n",
    "model.eval()\n",
    "### load model and compute attack_success\n",
    "for j in range(len(attacks)):\n",
    "    attack = attacks[j]\n",
    "    atname = atk_names[j]\n",
    "\n",
    "    print(f\"Attacking on model using {atname}\")\n",
    "    succ_eps = get_attack_success(model, attack, test_loader)\n",
    "    outputs[atname] = succ_eps\n",
    "    print(f\"Success rate is : {succ_eps}\")"
   ]
  },
  {
   "cell_type": "code",
   "execution_count": null,
   "metadata": {},
   "outputs": [],
   "source": []
  }
 ],
 "metadata": {
  "kernelspec": {
   "display_name": "Python 3",
   "language": "python",
   "name": "python3"
  },
  "language_info": {
   "codemirror_mode": {
    "name": "ipython",
    "version": 3
   },
   "file_extension": ".py",
   "mimetype": "text/x-python",
   "name": "python",
   "nbconvert_exporter": "python",
   "pygments_lexer": "ipython3",
   "version": "3.8.5"
  }
 },
 "nbformat": 4,
 "nbformat_minor": 4
}
