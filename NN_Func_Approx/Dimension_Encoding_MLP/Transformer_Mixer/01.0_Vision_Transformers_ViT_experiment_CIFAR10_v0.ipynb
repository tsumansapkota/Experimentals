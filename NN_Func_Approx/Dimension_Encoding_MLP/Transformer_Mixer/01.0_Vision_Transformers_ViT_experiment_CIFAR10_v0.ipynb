{
 "cells": [
  {
   "cell_type": "code",
   "execution_count": 2,
   "id": "6287145e",
   "metadata": {},
   "outputs": [],
   "source": [
    "import torch\n",
    "import torch.nn as nn\n",
    "from torchvision import datasets, transforms\n",
    "\n",
    "import matplotlib\n",
    "import matplotlib.pyplot as plt\n",
    "import numpy as np\n",
    "\n",
    "import os, sys, pathlib, random, time, pickle, copy, json\n",
    "from tqdm import tqdm"
   ]
  },
  {
   "cell_type": "code",
   "execution_count": 3,
   "id": "49924ba9",
   "metadata": {},
   "outputs": [],
   "source": [
    "device = torch.device(\"cuda:0\")\n",
    "# device = torch.device(\"cpu\")"
   ]
  },
  {
   "cell_type": "code",
   "execution_count": 4,
   "id": "7f4b8961",
   "metadata": {},
   "outputs": [],
   "source": [
    "# SEED = 147\n",
    "# SEED = 258\n",
    "SEED = 369\n",
    "\n",
    "torch.manual_seed(SEED)\n",
    "np.random.seed(SEED)"
   ]
  },
  {
   "cell_type": "code",
   "execution_count": 5,
   "id": "0173cd89",
   "metadata": {},
   "outputs": [],
   "source": [
    "import torch.optim as optim\n",
    "from torch.utils import data"
   ]
  },
  {
   "cell_type": "code",
   "execution_count": 6,
   "id": "cf9f67dd",
   "metadata": {},
   "outputs": [
    {
     "name": "stdout",
     "output_type": "stream",
     "text": [
      "Files already downloaded and verified\n",
      "Files already downloaded and verified\n"
     ]
    }
   ],
   "source": [
    "cifar_train = transforms.Compose([\n",
    "    transforms.RandomCrop(size=32, padding=4),\n",
    "    transforms.RandomHorizontalFlip(),\n",
    "    transforms.ToTensor(),\n",
    "    transforms.Normalize(\n",
    "        mean=[0.4914, 0.4822, 0.4465], # mean=[0.5071, 0.4865, 0.4409] for cifar100\n",
    "        std=[0.2023, 0.1994, 0.2010], # std=[0.2009, 0.1984, 0.2023] for cifar100\n",
    "    ),\n",
    "])\n",
    "\n",
    "cifar_test = transforms.Compose([\n",
    "    transforms.ToTensor(),\n",
    "    transforms.Normalize(\n",
    "        mean=[0.4914, 0.4822, 0.4465], # mean=[0.5071, 0.4865, 0.4409] for cifar100\n",
    "        std=[0.2023, 0.1994, 0.2010], # std=[0.2009, 0.1984, 0.2023] for cifar100\n",
    "    ),\n",
    "])\n",
    "\n",
    "train_dataset = datasets.CIFAR10(root=\"../../../../../_Datasets/cifar10/\", train=True, download=True, transform=cifar_train)\n",
    "test_dataset = datasets.CIFAR10(root=\"../../../../../_Datasets/cifar10/\", train=False, download=True, transform=cifar_test)"
   ]
  },
  {
   "cell_type": "code",
   "execution_count": 7,
   "id": "dbdc0585",
   "metadata": {},
   "outputs": [],
   "source": [
    "train_loader = torch.utils.data.DataLoader(dataset=train_dataset, batch_size=32, shuffle=True, num_workers=2)\n",
    "test_loader = torch.utils.data.DataLoader(dataset=test_dataset, batch_size=32, shuffle=False, num_workers=2)"
   ]
  },
  {
   "cell_type": "code",
   "execution_count": 8,
   "id": "45072db4",
   "metadata": {},
   "outputs": [
    {
     "data": {
      "text/plain": [
       "torch.Size([32, 3, 32, 32])"
      ]
     },
     "execution_count": 8,
     "metadata": {},
     "output_type": "execute_result"
    }
   ],
   "source": [
    "## demo of train loader\n",
    "xx, yy = iter(train_loader).next()\n",
    "xx.shape"
   ]
  },
  {
   "cell_type": "markdown",
   "id": "e0d2e11b",
   "metadata": {},
   "source": [
    "# Model"
   ]
  },
  {
   "cell_type": "code",
   "execution_count": 9,
   "id": "881006fb",
   "metadata": {},
   "outputs": [],
   "source": [
    "class MlpBLock(nn.Module):\n",
    "    \n",
    "    def __init__(self, input_dim, hidden_layers_ratio=[2], actf=nn.GELU):\n",
    "        super().__init__()\n",
    "        self.input_dim = input_dim\n",
    "        #### convert hidden layers ratio to list if integer is inputted\n",
    "        if isinstance(hidden_layers_ratio, int):\n",
    "            hidden_layers_ratio = [hidden_layers_ratio]\n",
    "            \n",
    "        self.hlr = [1]+hidden_layers_ratio+[1]\n",
    "        \n",
    "        self.mlp = []\n",
    "        ### for 1 hidden layer, we iterate 2 times\n",
    "        for h in range(len(self.hlr)-1):\n",
    "            i, o = int(self.hlr[h]*self.input_dim),\\\n",
    "                    int(self.hlr[h+1]*self.input_dim)\n",
    "            self.mlp.append(nn.Linear(i, o))\n",
    "            self.mlp.append(actf())\n",
    "        self.mlp = self.mlp[:-1]\n",
    "        \n",
    "        self.mlp = nn.Sequential(*self.mlp)\n",
    "        \n",
    "    def forward(self, x):\n",
    "        return self.mlp(x)"
   ]
  },
  {
   "cell_type": "code",
   "execution_count": 10,
   "id": "a7ca0a6f",
   "metadata": {},
   "outputs": [
    {
     "data": {
      "text/plain": [
       "MlpBLock(\n",
       "  (mlp): Sequential(\n",
       "    (0): Linear(in_features=2, out_features=6, bias=True)\n",
       "    (1): GELU()\n",
       "    (2): Linear(in_features=6, out_features=8, bias=True)\n",
       "    (3): GELU()\n",
       "    (4): Linear(in_features=8, out_features=2, bias=True)\n",
       "  )\n",
       ")"
      ]
     },
     "execution_count": 10,
     "metadata": {},
     "output_type": "execute_result"
    }
   ],
   "source": [
    "MlpBLock(2, [3,4])"
   ]
  },
  {
   "cell_type": "markdown",
   "id": "7e503ab2",
   "metadata": {},
   "source": [
    "## ViT"
   ]
  },
  {
   "cell_type": "code",
   "execution_count": 11,
   "id": "c904f562",
   "metadata": {},
   "outputs": [],
   "source": [
    "class SelfAttention(nn.Module):\n",
    "    def __init__(self, embed_size, heads):\n",
    "        super(SelfAttention, self).__init__()\n",
    "        self.embed_size = embed_size\n",
    "        self.heads = heads\n",
    "        self.head_dim = embed_size // heads\n",
    "\n",
    "        assert (\n",
    "            self.head_dim * heads == embed_size\n",
    "        ), \"Embedding size needs to be divisible by heads\"\n",
    "\n",
    "        self.values = nn.Linear(embed_size, embed_size)\n",
    "        self.keys = nn.Linear(embed_size, embed_size)\n",
    "        self.queries = nn.Linear(embed_size, embed_size)\n",
    "        self.fc_out = nn.Linear(embed_size, embed_size)\n",
    "\n",
    "    def forward(self, values, keys, query, mask):\n",
    "        # Get number of training examples\n",
    "        N = query.shape[0]\n",
    "\n",
    "        value_len, key_len, query_len = values.shape[1], keys.shape[1], query.shape[1]\n",
    "\n",
    "        values = self.values(values)  # (N, value_len, embed_size)\n",
    "        keys = self.keys(keys)  # (N, key_len, embed_size)\n",
    "        queries = self.queries(query)  # (N, query_len, embed_size)\n",
    "\n",
    "        # Split the embedding into self.heads different pieces\n",
    "        values = values.reshape(N, value_len, self.heads, self.head_dim)\n",
    "        keys = keys.reshape(N, key_len, self.heads, self.head_dim)\n",
    "        queries = queries.reshape(N, query_len, self.heads, self.head_dim)\n",
    "\n",
    "        # Einsum does matrix mult. for query*keys for each training example\n",
    "        # with every other training example, don't be confused by einsum\n",
    "        # it's just how I like doing matrix multiplication & bmm\n",
    "\n",
    "        energy = torch.einsum(\"nqhd,nkhd->nhqk\", [queries, keys])\n",
    "        # queries shape: (N, query_len, heads, heads_dim),\n",
    "        # keys shape: (N, key_len, heads, heads_dim)\n",
    "        # energy: (N, heads, query_len, key_len)\n",
    "\n",
    "        # Mask padded indices so their weights become 0\n",
    "        if mask is not None:\n",
    "            energy = energy.masked_fill(mask == 0, float(\"-1e20\"))\n",
    "\n",
    "        # Normalize energy values similarly to seq2seq + attention\n",
    "        # so that they sum to 1. Also divide by scaling factor for\n",
    "        # better stability\n",
    "        attention = torch.softmax(energy / (self.embed_size ** (1 / 2)), dim=3)\n",
    "        # attention shape: (N, heads, query_len, key_len)\n",
    "\n",
    "        out = torch.einsum(\"nhql,nlhd->nqhd\", [attention, values]).reshape(\n",
    "            N, query_len, self.heads * self.head_dim\n",
    "        )\n",
    "        # attention shape: (N, heads, query_len, key_len)\n",
    "        # values shape: (N, value_len, heads, heads_dim)\n",
    "        # out after matrix multiply: (N, query_len, heads, head_dim), then\n",
    "        # we reshape and flatten the last two dimensions.\n",
    "\n",
    "        out = self.fc_out(out)\n",
    "        # Linear layer doesn't modify the shape, final shape will be\n",
    "        # (N, query_len, embed_size)\n",
    "\n",
    "        return out"
   ]
  },
  {
   "cell_type": "code",
   "execution_count": 12,
   "id": "d0f54130",
   "metadata": {},
   "outputs": [],
   "source": [
    "class TransformerBlock(nn.Module):\n",
    "    def __init__(self, embed_size, heads, dropout, forward_expansion, actf=nn.GELU):\n",
    "        super(TransformerBlock, self).__init__()\n",
    "        \n",
    "        self.attention = SelfAttention(embed_size, heads)\n",
    "        self.norm1 = nn.LayerNorm(embed_size)\n",
    "        self.norm2 = nn.LayerNorm(embed_size)\n",
    "\n",
    "        self.feed_forward = nn.Sequential(\n",
    "            nn.Linear(embed_size, int(forward_expansion * embed_size)),\n",
    "            actf(),\n",
    "            nn.Linear(int(forward_expansion * embed_size), embed_size),\n",
    "        )\n",
    "\n",
    "        self.dropout = nn.Dropout(dropout)\n",
    "\n",
    "    def forward(self, query):\n",
    "        attention = self.attention(query, query, query, None)\n",
    "\n",
    "        # Add skip connection, run through normalization and finally dropout\n",
    "        x = self.dropout(self.norm1(attention + query))\n",
    "        forward = self.feed_forward(x)\n",
    "        out = self.dropout(self.norm2(forward + x))\n",
    "        return out"
   ]
  },
  {
   "cell_type": "code",
   "execution_count": 13,
   "id": "7bd88674",
   "metadata": {},
   "outputs": [],
   "source": [
    "class PositionalEncoding(nn.Module):\n",
    "\n",
    "    def __init__(self, d_model: int, dropout: float = 0.1, max_len: int = 5000):\n",
    "        super().__init__()\n",
    "        self.dropout = nn.Dropout(p=dropout)\n",
    "\n",
    "        position = torch.arange(max_len).unsqueeze(1)\n",
    "        div_term = torch.exp(torch.arange(0, d_model, 2) * (-np.log(10000.0) / d_model))\n",
    "        pe = torch.zeros(max_len, 1, d_model)\n",
    "        pe[:, 0, 0::2] = torch.sin(position * div_term)\n",
    "        pe[:, 0, 1::2] = torch.cos(position * div_term)\n",
    "        self.register_buffer('pe', pe)\n",
    "\n",
    "    def forward(self, x):\n",
    "        \"\"\"\n",
    "        Args:\n",
    "            x: Tensor, shape [seq_len, batch_size, embedding_dim]\n",
    "        \"\"\"\n",
    "        x = x + self.pe[:x.size(0)]\n",
    "        return self.dropout(x)"
   ]
  },
  {
   "cell_type": "code",
   "execution_count": 14,
   "id": "5f3cd362",
   "metadata": {},
   "outputs": [],
   "source": [
    "def get_factors(n):\n",
    "    facts = []\n",
    "    for i in range(2, n+1):\n",
    "        if n%i == 0:\n",
    "            facts.append(i)\n",
    "    return facts\n"
   ]
  },
  {
   "cell_type": "code",
   "execution_count": 15,
   "id": "b45f6816",
   "metadata": {},
   "outputs": [],
   "source": [
    "class ViT_Classifier(nn.Module):\n",
    "    \n",
    "    def __init__(self, image_dim:tuple, patch_size:tuple, hidden_expansion:float, num_blocks:int, num_classes:int):\n",
    "        super().__init__()\n",
    "        \n",
    "        self.img_dim = image_dim ### must contain (C, H, W) or (H, W)\n",
    "        \n",
    "        ### find patch dim\n",
    "        d0 = int(image_dim[-2]/patch_size[0])\n",
    "        d1 = int(image_dim[-1]/patch_size[1])\n",
    "        assert d0*patch_size[0]==image_dim[-2], \"Image must be divisible into patch size\"\n",
    "        assert d1*patch_size[1]==image_dim[-1], \"Image must be divisible into patch size\"\n",
    "#         self.d0, self.d1 = d0, d1 ### number of patches in each axis\n",
    "        __patch_size = patch_size[0]*patch_size[1]*image_dim[0] ## number of channels in each patch\n",
    "    \n",
    "        ### find channel dim\n",
    "        channel_size = d0*d1 ## number of patches\n",
    "        \n",
    "        ### after the number of channels are changed\n",
    "        init_dim = __patch_size\n",
    "        final_dim = int(__patch_size*hidden_expansion/2)*2\n",
    "        self.unfold = nn.Unfold(kernel_size=patch_size, stride=patch_size)\n",
    "        #### rescale the patches (patch wise image non preserving transform, unlike bilinear interpolation)\n",
    "        self.channel_change = nn.Linear(init_dim, final_dim)\n",
    "        print(f\"ViT Mixer : Channes per patch -> Initial:{init_dim} Final:{final_dim}\")\n",
    "        \n",
    "        \n",
    "        self.channel_dim = final_dim\n",
    "        self.patch_dim = channel_size\n",
    "        \n",
    "        self.transformer_blocks = []\n",
    "        \n",
    "        f = get_factors(self.channel_dim)\n",
    "        print(f)\n",
    "        fi = np.abs(np.array(f) - np.sqrt(self.channel_dim)).argmin()\n",
    "        \n",
    "        _n_heads = f[fi]\n",
    "        \n",
    "        print(self.channel_dim, _n_heads)\n",
    "        for i in range(num_blocks):\n",
    "            L = TransformerBlock(self.channel_dim, _n_heads, 0, 2)\n",
    "            self.transformer_blocks.append(L)\n",
    "        self.transformer_blocks = nn.Sequential(*self.transformer_blocks)\n",
    "        \n",
    "        self.linear = nn.Linear(self.patch_dim*self.channel_dim, num_classes)\n",
    "        self.positional_encoding = PositionalEncoding(self.channel_dim, dropout=0)\n",
    "        \n",
    "        \n",
    "    def forward(self, x):\n",
    "        bs = x.shape[0]\n",
    "        x = self.unfold(x).swapaxes(-1, -2)\n",
    "        x = self.channel_change(x)\n",
    "#         x = self.positional_encoding(x)\n",
    "        x = self.transformer_blocks(x)\n",
    "        x = self.linear(x.view(bs, -1))\n",
    "        return x"
   ]
  },
  {
   "cell_type": "code",
   "execution_count": 16,
   "id": "297726a9",
   "metadata": {},
   "outputs": [
    {
     "name": "stdout",
     "output_type": "stream",
     "text": [
      "ViT Mixer : Channes per patch -> Initial:48 Final:114\n",
      "[2, 3, 6, 19, 38, 57, 114]\n",
      "114 6\n"
     ]
    }
   ],
   "source": [
    "vit_mixer = ViT_Classifier((3, 32, 32), patch_size=[4, 4], hidden_expansion=2.4, num_blocks=1, num_classes=10)"
   ]
  },
  {
   "cell_type": "code",
   "execution_count": 17,
   "id": "0c009dec",
   "metadata": {},
   "outputs": [
    {
     "data": {
      "text/plain": [
       "ViT_Classifier(\n",
       "  (unfold): Unfold(kernel_size=[4, 4], dilation=1, padding=0, stride=[4, 4])\n",
       "  (channel_change): Linear(in_features=48, out_features=114, bias=True)\n",
       "  (transformer_blocks): Sequential(\n",
       "    (0): TransformerBlock(\n",
       "      (attention): SelfAttention(\n",
       "        (values): Linear(in_features=114, out_features=114, bias=True)\n",
       "        (keys): Linear(in_features=114, out_features=114, bias=True)\n",
       "        (queries): Linear(in_features=114, out_features=114, bias=True)\n",
       "        (fc_out): Linear(in_features=114, out_features=114, bias=True)\n",
       "      )\n",
       "      (norm1): LayerNorm((114,), eps=1e-05, elementwise_affine=True)\n",
       "      (norm2): LayerNorm((114,), eps=1e-05, elementwise_affine=True)\n",
       "      (feed_forward): Sequential(\n",
       "        (0): Linear(in_features=114, out_features=228, bias=True)\n",
       "        (1): GELU()\n",
       "        (2): Linear(in_features=228, out_features=114, bias=True)\n",
       "      )\n",
       "      (dropout): Dropout(p=0, inplace=False)\n",
       "    )\n",
       "  )\n",
       "  (linear): Linear(in_features=7296, out_features=10, bias=True)\n",
       "  (positional_encoding): PositionalEncoding(\n",
       "    (dropout): Dropout(p=0, inplace=False)\n",
       "  )\n",
       ")"
      ]
     },
     "execution_count": 17,
     "metadata": {},
     "output_type": "execute_result"
    }
   ],
   "source": [
    "vit_mixer"
   ]
  },
  {
   "cell_type": "code",
   "execution_count": 18,
   "id": "70b3d019",
   "metadata": {},
   "outputs": [
    {
     "data": {
      "text/plain": [
       "torch.Size([1, 10])"
      ]
     },
     "execution_count": 18,
     "metadata": {},
     "output_type": "execute_result"
    }
   ],
   "source": [
    "vit_mixer(torch.randn(1, 3, 32, 32)).shape"
   ]
  },
  {
   "cell_type": "markdown",
   "id": "bfbefc39",
   "metadata": {},
   "source": [
    "#### Final Model"
   ]
  },
  {
   "cell_type": "code",
   "execution_count": 19,
   "id": "31be60c9",
   "metadata": {},
   "outputs": [
    {
     "name": "stdout",
     "output_type": "stream",
     "text": [
      "ViT Mixer : Channes per patch -> Initial:48 Final:114\n",
      "[2, 3, 6, 19, 38, 57, 114]\n",
      "114 6\n"
     ]
    }
   ],
   "source": [
    "torch.manual_seed(SEED)\n",
    "model = ViT_Classifier((3, 32, 32), patch_size=[4, 4], hidden_expansion=2.4, num_blocks=10, num_classes=10)\n",
    "model = model.to(device)"
   ]
  },
  {
   "cell_type": "code",
   "execution_count": 20,
   "id": "e411715d",
   "metadata": {},
   "outputs": [
    {
     "data": {
      "text/plain": [
       "ViT_Classifier(\n",
       "  (unfold): Unfold(kernel_size=[4, 4], dilation=1, padding=0, stride=[4, 4])\n",
       "  (channel_change): Linear(in_features=48, out_features=114, bias=True)\n",
       "  (transformer_blocks): Sequential(\n",
       "    (0): TransformerBlock(\n",
       "      (attention): SelfAttention(\n",
       "        (values): Linear(in_features=114, out_features=114, bias=True)\n",
       "        (keys): Linear(in_features=114, out_features=114, bias=True)\n",
       "        (queries): Linear(in_features=114, out_features=114, bias=True)\n",
       "        (fc_out): Linear(in_features=114, out_features=114, bias=True)\n",
       "      )\n",
       "      (norm1): LayerNorm((114,), eps=1e-05, elementwise_affine=True)\n",
       "      (norm2): LayerNorm((114,), eps=1e-05, elementwise_affine=True)\n",
       "      (feed_forward): Sequential(\n",
       "        (0): Linear(in_features=114, out_features=228, bias=True)\n",
       "        (1): GELU()\n",
       "        (2): Linear(in_features=228, out_features=114, bias=True)\n",
       "      )\n",
       "      (dropout): Dropout(p=0, inplace=False)\n",
       "    )\n",
       "    (1): TransformerBlock(\n",
       "      (attention): SelfAttention(\n",
       "        (values): Linear(in_features=114, out_features=114, bias=True)\n",
       "        (keys): Linear(in_features=114, out_features=114, bias=True)\n",
       "        (queries): Linear(in_features=114, out_features=114, bias=True)\n",
       "        (fc_out): Linear(in_features=114, out_features=114, bias=True)\n",
       "      )\n",
       "      (norm1): LayerNorm((114,), eps=1e-05, elementwise_affine=True)\n",
       "      (norm2): LayerNorm((114,), eps=1e-05, elementwise_affine=True)\n",
       "      (feed_forward): Sequential(\n",
       "        (0): Linear(in_features=114, out_features=228, bias=True)\n",
       "        (1): GELU()\n",
       "        (2): Linear(in_features=228, out_features=114, bias=True)\n",
       "      )\n",
       "      (dropout): Dropout(p=0, inplace=False)\n",
       "    )\n",
       "    (2): TransformerBlock(\n",
       "      (attention): SelfAttention(\n",
       "        (values): Linear(in_features=114, out_features=114, bias=True)\n",
       "        (keys): Linear(in_features=114, out_features=114, bias=True)\n",
       "        (queries): Linear(in_features=114, out_features=114, bias=True)\n",
       "        (fc_out): Linear(in_features=114, out_features=114, bias=True)\n",
       "      )\n",
       "      (norm1): LayerNorm((114,), eps=1e-05, elementwise_affine=True)\n",
       "      (norm2): LayerNorm((114,), eps=1e-05, elementwise_affine=True)\n",
       "      (feed_forward): Sequential(\n",
       "        (0): Linear(in_features=114, out_features=228, bias=True)\n",
       "        (1): GELU()\n",
       "        (2): Linear(in_features=228, out_features=114, bias=True)\n",
       "      )\n",
       "      (dropout): Dropout(p=0, inplace=False)\n",
       "    )\n",
       "    (3): TransformerBlock(\n",
       "      (attention): SelfAttention(\n",
       "        (values): Linear(in_features=114, out_features=114, bias=True)\n",
       "        (keys): Linear(in_features=114, out_features=114, bias=True)\n",
       "        (queries): Linear(in_features=114, out_features=114, bias=True)\n",
       "        (fc_out): Linear(in_features=114, out_features=114, bias=True)\n",
       "      )\n",
       "      (norm1): LayerNorm((114,), eps=1e-05, elementwise_affine=True)\n",
       "      (norm2): LayerNorm((114,), eps=1e-05, elementwise_affine=True)\n",
       "      (feed_forward): Sequential(\n",
       "        (0): Linear(in_features=114, out_features=228, bias=True)\n",
       "        (1): GELU()\n",
       "        (2): Linear(in_features=228, out_features=114, bias=True)\n",
       "      )\n",
       "      (dropout): Dropout(p=0, inplace=False)\n",
       "    )\n",
       "    (4): TransformerBlock(\n",
       "      (attention): SelfAttention(\n",
       "        (values): Linear(in_features=114, out_features=114, bias=True)\n",
       "        (keys): Linear(in_features=114, out_features=114, bias=True)\n",
       "        (queries): Linear(in_features=114, out_features=114, bias=True)\n",
       "        (fc_out): Linear(in_features=114, out_features=114, bias=True)\n",
       "      )\n",
       "      (norm1): LayerNorm((114,), eps=1e-05, elementwise_affine=True)\n",
       "      (norm2): LayerNorm((114,), eps=1e-05, elementwise_affine=True)\n",
       "      (feed_forward): Sequential(\n",
       "        (0): Linear(in_features=114, out_features=228, bias=True)\n",
       "        (1): GELU()\n",
       "        (2): Linear(in_features=228, out_features=114, bias=True)\n",
       "      )\n",
       "      (dropout): Dropout(p=0, inplace=False)\n",
       "    )\n",
       "    (5): TransformerBlock(\n",
       "      (attention): SelfAttention(\n",
       "        (values): Linear(in_features=114, out_features=114, bias=True)\n",
       "        (keys): Linear(in_features=114, out_features=114, bias=True)\n",
       "        (queries): Linear(in_features=114, out_features=114, bias=True)\n",
       "        (fc_out): Linear(in_features=114, out_features=114, bias=True)\n",
       "      )\n",
       "      (norm1): LayerNorm((114,), eps=1e-05, elementwise_affine=True)\n",
       "      (norm2): LayerNorm((114,), eps=1e-05, elementwise_affine=True)\n",
       "      (feed_forward): Sequential(\n",
       "        (0): Linear(in_features=114, out_features=228, bias=True)\n",
       "        (1): GELU()\n",
       "        (2): Linear(in_features=228, out_features=114, bias=True)\n",
       "      )\n",
       "      (dropout): Dropout(p=0, inplace=False)\n",
       "    )\n",
       "    (6): TransformerBlock(\n",
       "      (attention): SelfAttention(\n",
       "        (values): Linear(in_features=114, out_features=114, bias=True)\n",
       "        (keys): Linear(in_features=114, out_features=114, bias=True)\n",
       "        (queries): Linear(in_features=114, out_features=114, bias=True)\n",
       "        (fc_out): Linear(in_features=114, out_features=114, bias=True)\n",
       "      )\n",
       "      (norm1): LayerNorm((114,), eps=1e-05, elementwise_affine=True)\n",
       "      (norm2): LayerNorm((114,), eps=1e-05, elementwise_affine=True)\n",
       "      (feed_forward): Sequential(\n",
       "        (0): Linear(in_features=114, out_features=228, bias=True)\n",
       "        (1): GELU()\n",
       "        (2): Linear(in_features=228, out_features=114, bias=True)\n",
       "      )\n",
       "      (dropout): Dropout(p=0, inplace=False)\n",
       "    )\n",
       "    (7): TransformerBlock(\n",
       "      (attention): SelfAttention(\n",
       "        (values): Linear(in_features=114, out_features=114, bias=True)\n",
       "        (keys): Linear(in_features=114, out_features=114, bias=True)\n",
       "        (queries): Linear(in_features=114, out_features=114, bias=True)\n",
       "        (fc_out): Linear(in_features=114, out_features=114, bias=True)\n",
       "      )\n",
       "      (norm1): LayerNorm((114,), eps=1e-05, elementwise_affine=True)\n",
       "      (norm2): LayerNorm((114,), eps=1e-05, elementwise_affine=True)\n",
       "      (feed_forward): Sequential(\n",
       "        (0): Linear(in_features=114, out_features=228, bias=True)\n",
       "        (1): GELU()\n",
       "        (2): Linear(in_features=228, out_features=114, bias=True)\n",
       "      )\n",
       "      (dropout): Dropout(p=0, inplace=False)\n",
       "    )\n",
       "    (8): TransformerBlock(\n",
       "      (attention): SelfAttention(\n",
       "        (values): Linear(in_features=114, out_features=114, bias=True)\n",
       "        (keys): Linear(in_features=114, out_features=114, bias=True)\n",
       "        (queries): Linear(in_features=114, out_features=114, bias=True)\n",
       "        (fc_out): Linear(in_features=114, out_features=114, bias=True)\n",
       "      )\n",
       "      (norm1): LayerNorm((114,), eps=1e-05, elementwise_affine=True)\n",
       "      (norm2): LayerNorm((114,), eps=1e-05, elementwise_affine=True)\n",
       "      (feed_forward): Sequential(\n",
       "        (0): Linear(in_features=114, out_features=228, bias=True)\n",
       "        (1): GELU()\n",
       "        (2): Linear(in_features=228, out_features=114, bias=True)\n",
       "      )\n",
       "      (dropout): Dropout(p=0, inplace=False)\n",
       "    )\n",
       "    (9): TransformerBlock(\n",
       "      (attention): SelfAttention(\n",
       "        (values): Linear(in_features=114, out_features=114, bias=True)\n",
       "        (keys): Linear(in_features=114, out_features=114, bias=True)\n",
       "        (queries): Linear(in_features=114, out_features=114, bias=True)\n",
       "        (fc_out): Linear(in_features=114, out_features=114, bias=True)\n",
       "      )\n",
       "      (norm1): LayerNorm((114,), eps=1e-05, elementwise_affine=True)\n",
       "      (norm2): LayerNorm((114,), eps=1e-05, elementwise_affine=True)\n",
       "      (feed_forward): Sequential(\n",
       "        (0): Linear(in_features=114, out_features=228, bias=True)\n",
       "        (1): GELU()\n",
       "        (2): Linear(in_features=228, out_features=114, bias=True)\n",
       "      )\n",
       "      (dropout): Dropout(p=0, inplace=False)\n",
       "    )\n",
       "  )\n",
       "  (linear): Linear(in_features=7296, out_features=10, bias=True)\n",
       "  (positional_encoding): PositionalEncoding(\n",
       "    (dropout): Dropout(p=0, inplace=False)\n",
       "  )\n",
       ")"
      ]
     },
     "execution_count": 20,
     "metadata": {},
     "output_type": "execute_result"
    }
   ],
   "source": [
    "model"
   ]
  },
  {
   "cell_type": "code",
   "execution_count": 21,
   "id": "196fe4cf",
   "metadata": {},
   "outputs": [
    {
     "name": "stdout",
     "output_type": "stream",
     "text": [
      "number of params:  1130776\n"
     ]
    }
   ],
   "source": [
    "print(\"number of params: \", sum(p.numel() for p in model.parameters())) \n",
    "## Patch ||  1137220\n",
    "## Mixer ||  1141703"
   ]
  },
  {
   "cell_type": "markdown",
   "id": "d59b49dd",
   "metadata": {},
   "source": [
    "## Training"
   ]
  },
  {
   "cell_type": "code",
   "execution_count": 22,
   "id": "e5cd35f5",
   "metadata": {},
   "outputs": [],
   "source": [
    "model_name = f'vit_mixer_c10_s{SEED}'\n",
    "# model_name = f'vit_pe_mixer_c10_s{SEED}'"
   ]
  },
  {
   "cell_type": "code",
   "execution_count": 97,
   "id": "66447d12",
   "metadata": {},
   "outputs": [],
   "source": [
    "EPOCHS = 200\n",
    "criterion = nn.CrossEntropyLoss()\n",
    "optimizer = torch.optim.Adam(model.parameters(), lr=0.0001)\n",
    "scheduler = torch.optim.lr_scheduler.CosineAnnealingLR(optimizer, T_max=EPOCHS)"
   ]
  },
  {
   "cell_type": "code",
   "execution_count": 98,
   "id": "13f63463",
   "metadata": {},
   "outputs": [],
   "source": [
    "STAT ={'train_stat':[], 'test_stat':[]}"
   ]
  },
  {
   "cell_type": "code",
   "execution_count": 99,
   "id": "f4d9af8f",
   "metadata": {},
   "outputs": [],
   "source": [
    "## Following is copied from \n",
    "### https://github.com/kuangliu/pytorch-cifar/blob/master/main.py\n",
    "\n",
    "# Training\n",
    "def train(epoch):\n",
    "    model.train()\n",
    "    train_loss = 0\n",
    "    correct = 0\n",
    "    total = 0\n",
    "    for batch_idx, (inputs, targets) in enumerate(tqdm(train_loader)):\n",
    "        inputs, targets = inputs.to(device), targets.to(device)\n",
    "        optimizer.zero_grad()\n",
    "        outputs = model(inputs)\n",
    "        loss = criterion(outputs, targets)\n",
    "        loss.backward()\n",
    "        optimizer.step()\n",
    "\n",
    "        train_loss += loss.item()\n",
    "        _, predicted = outputs.max(1)\n",
    "        total += targets.size(0)\n",
    "        correct += predicted.eq(targets).sum().item()\n",
    "        \n",
    "    STAT['train_stat'].append((epoch, train_loss/(batch_idx+1), 100.*correct/total)) ### (Epochs, Loss, Acc)\n",
    "    print(f\"[Train] {epoch} Loss: {train_loss/(batch_idx+1):.3f} | Acc: {100.*correct/total:.3f} {correct}/{total}\")\n",
    "    return"
   ]
  },
  {
   "cell_type": "code",
   "execution_count": 100,
   "id": "32895df8",
   "metadata": {},
   "outputs": [],
   "source": [
    "best_acc = -1\n",
    "def test(epoch):\n",
    "    global best_acc\n",
    "    model.eval()\n",
    "    test_loss = 0\n",
    "    correct = 0\n",
    "    total = 0\n",
    "    with torch.no_grad():\n",
    "        for batch_idx, (inputs, targets) in enumerate(tqdm(test_loader)):\n",
    "            inputs, targets = inputs.to(device), targets.to(device)\n",
    "            outputs = model(inputs)\n",
    "            loss = criterion(outputs, targets)\n",
    "\n",
    "            test_loss += loss.item()\n",
    "            _, predicted = outputs.max(1)\n",
    "            total += targets.size(0)\n",
    "            correct += predicted.eq(targets).sum().item()\n",
    "            \n",
    "    STAT['test_stat'].append((epoch, test_loss/(batch_idx+1), 100.*correct/total)) ### (Epochs, Loss, Acc)\n",
    "    print(f\"[Test] {epoch} Loss: {test_loss/(batch_idx+1):.3f} | Acc: {100.*correct/total:.3f} {correct}/{total}\")\n",
    "    \n",
    "    # Save checkpoint.\n",
    "    acc = 100.*correct/total\n",
    "    if acc > best_acc:\n",
    "        print('Saving..')\n",
    "        state = {\n",
    "            'model': model.state_dict(),\n",
    "            'acc': acc,\n",
    "            'epoch': epoch\n",
    "        }\n",
    "        if not os.path.isdir('models'):\n",
    "            os.mkdir('models')\n",
    "        torch.save(state, f'./models/{model_name}.pth')\n",
    "        best_acc = acc\n",
    "        \n",
    "    with open(f\"./output/{model_name}_data.json\", 'w') as f:\n",
    "        json.dump(STAT, f, indent=0)"
   ]
  },
  {
   "cell_type": "code",
   "execution_count": 101,
   "id": "888d57ff",
   "metadata": {},
   "outputs": [],
   "source": [
    "start_epoch = 0  # start from epoch 0 or last checkpoint epoch\n",
    "resume = False\n",
    "\n",
    "if resume:\n",
    "    # Load checkpoint.\n",
    "    print('==> Resuming from checkpoint..')\n",
    "    assert os.path.isdir('./models'), 'Error: no checkpoint directory found!'\n",
    "    checkpoint = torch.load(f'./models/{model_name}.pth')\n",
    "    model.load_state_dict(checkpoint['model'])\n",
    "    best_acc = checkpoint['acc']\n",
    "    start_epoch = checkpoint['epoch']"
   ]
  },
  {
   "cell_type": "code",
   "execution_count": 102,
   "id": "a14a607d",
   "metadata": {},
   "outputs": [
    {
     "name": "stderr",
     "output_type": "stream",
     "text": [
      "100%|█████████████████████████████████████████████████| 1563/1563 [00:33<00:00, 47.13it/s]\n"
     ]
    },
    {
     "name": "stdout",
     "output_type": "stream",
     "text": [
      "[Train] 0 Loss: 1.743 | Acc: 36.854 18427/50000\n"
     ]
    },
    {
     "name": "stderr",
     "output_type": "stream",
     "text": [
      "100%|██████████████████████████████████████████████████| 313/313 [00:02<00:00, 129.39it/s]\n"
     ]
    },
    {
     "name": "stdout",
     "output_type": "stream",
     "text": [
      "[Test] 0 Loss: 1.426 | Acc: 49.030 4903/10000\n",
      "Saving..\n"
     ]
    },
    {
     "name": "stderr",
     "output_type": "stream",
     "text": [
      "100%|█████████████████████████████████████████████████| 1563/1563 [00:33<00:00, 47.26it/s]\n"
     ]
    },
    {
     "name": "stdout",
     "output_type": "stream",
     "text": [
      "[Train] 1 Loss: 1.437 | Acc: 48.316 24158/50000\n"
     ]
    },
    {
     "name": "stderr",
     "output_type": "stream",
     "text": [
      "100%|██████████████████████████████████████████████████| 313/313 [00:02<00:00, 132.26it/s]\n"
     ]
    },
    {
     "name": "stdout",
     "output_type": "stream",
     "text": [
      "[Test] 1 Loss: 1.283 | Acc: 54.150 5415/10000\n",
      "Saving..\n"
     ]
    },
    {
     "name": "stderr",
     "output_type": "stream",
     "text": [
      "100%|█████████████████████████████████████████████████| 1563/1563 [00:33<00:00, 46.61it/s]\n"
     ]
    },
    {
     "name": "stdout",
     "output_type": "stream",
     "text": [
      "[Train] 2 Loss: 1.301 | Acc: 53.048 26524/50000\n"
     ]
    },
    {
     "name": "stderr",
     "output_type": "stream",
     "text": [
      "100%|██████████████████████████████████████████████████| 313/313 [00:02<00:00, 130.78it/s]\n"
     ]
    },
    {
     "name": "stdout",
     "output_type": "stream",
     "text": [
      "[Test] 2 Loss: 1.175 | Acc: 58.030 5803/10000\n",
      "Saving..\n"
     ]
    },
    {
     "name": "stderr",
     "output_type": "stream",
     "text": [
      "100%|█████████████████████████████████████████████████| 1563/1563 [00:32<00:00, 48.10it/s]\n"
     ]
    },
    {
     "name": "stdout",
     "output_type": "stream",
     "text": [
      "[Train] 3 Loss: 1.191 | Acc: 57.356 28678/50000\n"
     ]
    },
    {
     "name": "stderr",
     "output_type": "stream",
     "text": [
      "100%|██████████████████████████████████████████████████| 313/313 [00:02<00:00, 132.93it/s]\n"
     ]
    },
    {
     "name": "stdout",
     "output_type": "stream",
     "text": [
      "[Test] 3 Loss: 1.104 | Acc: 61.100 6110/10000\n",
      "Saving..\n"
     ]
    },
    {
     "name": "stderr",
     "output_type": "stream",
     "text": [
      "100%|█████████████████████████████████████████████████| 1563/1563 [00:32<00:00, 48.19it/s]\n"
     ]
    },
    {
     "name": "stdout",
     "output_type": "stream",
     "text": [
      "[Train] 4 Loss: 1.102 | Acc: 60.796 30398/50000\n"
     ]
    },
    {
     "name": "stderr",
     "output_type": "stream",
     "text": [
      "100%|██████████████████████████████████████████████████| 313/313 [00:02<00:00, 132.43it/s]\n"
     ]
    },
    {
     "name": "stdout",
     "output_type": "stream",
     "text": [
      "[Test] 4 Loss: 1.005 | Acc: 64.500 6450/10000\n",
      "Saving..\n"
     ]
    },
    {
     "name": "stderr",
     "output_type": "stream",
     "text": [
      "100%|█████████████████████████████████████████████████| 1563/1563 [00:32<00:00, 48.30it/s]\n"
     ]
    },
    {
     "name": "stdout",
     "output_type": "stream",
     "text": [
      "[Train] 5 Loss: 1.041 | Acc: 62.980 31490/50000\n"
     ]
    },
    {
     "name": "stderr",
     "output_type": "stream",
     "text": [
      "100%|██████████████████████████████████████████████████| 313/313 [00:02<00:00, 132.01it/s]\n"
     ]
    },
    {
     "name": "stdout",
     "output_type": "stream",
     "text": [
      "[Test] 5 Loss: 0.977 | Acc: 65.340 6534/10000\n",
      "Saving..\n"
     ]
    },
    {
     "name": "stderr",
     "output_type": "stream",
     "text": [
      "100%|█████████████████████████████████████████████████| 1563/1563 [00:32<00:00, 48.50it/s]\n"
     ]
    },
    {
     "name": "stdout",
     "output_type": "stream",
     "text": [
      "[Train] 6 Loss: 0.997 | Acc: 64.548 32274/50000\n"
     ]
    },
    {
     "name": "stderr",
     "output_type": "stream",
     "text": [
      "100%|██████████████████████████████████████████████████| 313/313 [00:02<00:00, 131.77it/s]\n"
     ]
    },
    {
     "name": "stdout",
     "output_type": "stream",
     "text": [
      "[Test] 6 Loss: 0.950 | Acc: 66.290 6629/10000\n",
      "Saving..\n"
     ]
    },
    {
     "name": "stderr",
     "output_type": "stream",
     "text": [
      "100%|█████████████████████████████████████████████████| 1563/1563 [00:32<00:00, 47.39it/s]\n"
     ]
    },
    {
     "name": "stdout",
     "output_type": "stream",
     "text": [
      "[Train] 7 Loss: 0.951 | Acc: 66.292 33146/50000\n"
     ]
    },
    {
     "name": "stderr",
     "output_type": "stream",
     "text": [
      "100%|██████████████████████████████████████████████████| 313/313 [00:02<00:00, 131.82it/s]\n"
     ]
    },
    {
     "name": "stdout",
     "output_type": "stream",
     "text": [
      "[Test] 7 Loss: 0.918 | Acc: 68.320 6832/10000\n",
      "Saving..\n"
     ]
    },
    {
     "name": "stderr",
     "output_type": "stream",
     "text": [
      "100%|█████████████████████████████████████████████████| 1563/1563 [00:32<00:00, 47.46it/s]\n"
     ]
    },
    {
     "name": "stdout",
     "output_type": "stream",
     "text": [
      "[Train] 8 Loss: 0.915 | Acc: 67.584 33792/50000\n"
     ]
    },
    {
     "name": "stderr",
     "output_type": "stream",
     "text": [
      "100%|██████████████████████████████████████████████████| 313/313 [00:02<00:00, 131.51it/s]\n"
     ]
    },
    {
     "name": "stdout",
     "output_type": "stream",
     "text": [
      "[Test] 8 Loss: 0.885 | Acc: 68.940 6894/10000\n",
      "Saving..\n"
     ]
    },
    {
     "name": "stderr",
     "output_type": "stream",
     "text": [
      "100%|█████████████████████████████████████████████████| 1563/1563 [00:32<00:00, 48.34it/s]\n"
     ]
    },
    {
     "name": "stdout",
     "output_type": "stream",
     "text": [
      "[Train] 9 Loss: 0.879 | Acc: 68.942 34471/50000\n"
     ]
    },
    {
     "name": "stderr",
     "output_type": "stream",
     "text": [
      "100%|██████████████████████████████████████████████████| 313/313 [00:02<00:00, 129.97it/s]\n"
     ]
    },
    {
     "name": "stdout",
     "output_type": "stream",
     "text": [
      "[Test] 9 Loss: 0.837 | Acc: 70.890 7089/10000\n",
      "Saving..\n"
     ]
    },
    {
     "name": "stderr",
     "output_type": "stream",
     "text": [
      "100%|█████████████████████████████████████████████████| 1563/1563 [00:32<00:00, 47.67it/s]\n"
     ]
    },
    {
     "name": "stdout",
     "output_type": "stream",
     "text": [
      "[Train] 10 Loss: 0.844 | Acc: 70.022 35011/50000\n"
     ]
    },
    {
     "name": "stderr",
     "output_type": "stream",
     "text": [
      "100%|██████████████████████████████████████████████████| 313/313 [00:02<00:00, 128.54it/s]\n"
     ]
    },
    {
     "name": "stdout",
     "output_type": "stream",
     "text": [
      "[Test] 10 Loss: 0.838 | Acc: 71.660 7166/10000\n",
      "Saving..\n"
     ]
    },
    {
     "name": "stderr",
     "output_type": "stream",
     "text": [
      "100%|█████████████████████████████████████████████████| 1563/1563 [00:32<00:00, 48.13it/s]\n"
     ]
    },
    {
     "name": "stdout",
     "output_type": "stream",
     "text": [
      "[Train] 11 Loss: 0.812 | Acc: 71.232 35616/50000\n"
     ]
    },
    {
     "name": "stderr",
     "output_type": "stream",
     "text": [
      "100%|██████████████████████████████████████████████████| 313/313 [00:02<00:00, 131.52it/s]\n"
     ]
    },
    {
     "name": "stdout",
     "output_type": "stream",
     "text": [
      "[Test] 11 Loss: 0.807 | Acc: 72.480 7248/10000\n",
      "Saving..\n"
     ]
    },
    {
     "name": "stderr",
     "output_type": "stream",
     "text": [
      "100%|█████████████████████████████████████████████████| 1563/1563 [00:32<00:00, 48.28it/s]\n"
     ]
    },
    {
     "name": "stdout",
     "output_type": "stream",
     "text": [
      "[Train] 12 Loss: 0.783 | Acc: 72.152 36076/50000\n"
     ]
    },
    {
     "name": "stderr",
     "output_type": "stream",
     "text": [
      "100%|██████████████████████████████████████████████████| 313/313 [00:02<00:00, 132.26it/s]\n"
     ]
    },
    {
     "name": "stdout",
     "output_type": "stream",
     "text": [
      "[Test] 12 Loss: 0.783 | Acc: 73.480 7348/10000\n",
      "Saving..\n"
     ]
    },
    {
     "name": "stderr",
     "output_type": "stream",
     "text": [
      "100%|█████████████████████████████████████████████████| 1563/1563 [00:32<00:00, 48.56it/s]\n"
     ]
    },
    {
     "name": "stdout",
     "output_type": "stream",
     "text": [
      "[Train] 13 Loss: 0.760 | Acc: 72.936 36468/50000\n"
     ]
    },
    {
     "name": "stderr",
     "output_type": "stream",
     "text": [
      "100%|██████████████████████████████████████████████████| 313/313 [00:02<00:00, 132.09it/s]\n"
     ]
    },
    {
     "name": "stdout",
     "output_type": "stream",
     "text": [
      "[Test] 13 Loss: 0.742 | Acc: 74.060 7406/10000\n",
      "Saving..\n"
     ]
    },
    {
     "name": "stderr",
     "output_type": "stream",
     "text": [
      "100%|█████████████████████████████████████████████████| 1563/1563 [00:32<00:00, 48.31it/s]\n"
     ]
    },
    {
     "name": "stdout",
     "output_type": "stream",
     "text": [
      "[Train] 14 Loss: 0.733 | Acc: 73.970 36985/50000\n"
     ]
    },
    {
     "name": "stderr",
     "output_type": "stream",
     "text": [
      "100%|██████████████████████████████████████████████████| 313/313 [00:02<00:00, 131.56it/s]\n"
     ]
    },
    {
     "name": "stdout",
     "output_type": "stream",
     "text": [
      "[Test] 14 Loss: 0.739 | Acc: 74.350 7435/10000\n",
      "Saving..\n"
     ]
    },
    {
     "name": "stderr",
     "output_type": "stream",
     "text": [
      "100%|█████████████████████████████████████████████████| 1563/1563 [00:32<00:00, 48.19it/s]\n"
     ]
    },
    {
     "name": "stdout",
     "output_type": "stream",
     "text": [
      "[Train] 15 Loss: 0.717 | Acc: 74.404 37202/50000\n"
     ]
    },
    {
     "name": "stderr",
     "output_type": "stream",
     "text": [
      "100%|██████████████████████████████████████████████████| 313/313 [00:02<00:00, 132.14it/s]\n"
     ]
    },
    {
     "name": "stdout",
     "output_type": "stream",
     "text": [
      "[Test] 15 Loss: 0.779 | Acc: 73.780 7378/10000\n"
     ]
    },
    {
     "name": "stderr",
     "output_type": "stream",
     "text": [
      "100%|█████████████████████████████████████████████████| 1563/1563 [00:32<00:00, 48.28it/s]\n"
     ]
    },
    {
     "name": "stdout",
     "output_type": "stream",
     "text": [
      "[Train] 16 Loss: 0.700 | Acc: 75.112 37556/50000\n"
     ]
    },
    {
     "name": "stderr",
     "output_type": "stream",
     "text": [
      "100%|██████████████████████████████████████████████████| 313/313 [00:02<00:00, 130.68it/s]\n"
     ]
    },
    {
     "name": "stdout",
     "output_type": "stream",
     "text": [
      "[Test] 16 Loss: 0.708 | Acc: 75.480 7548/10000\n",
      "Saving..\n"
     ]
    },
    {
     "name": "stderr",
     "output_type": "stream",
     "text": [
      "100%|█████████████████████████████████████████████████| 1563/1563 [00:36<00:00, 42.94it/s]\n"
     ]
    },
    {
     "name": "stdout",
     "output_type": "stream",
     "text": [
      "[Train] 17 Loss: 0.678 | Acc: 75.902 37951/50000\n"
     ]
    },
    {
     "name": "stderr",
     "output_type": "stream",
     "text": [
      "100%|██████████████████████████████████████████████████| 313/313 [00:02<00:00, 127.14it/s]\n"
     ]
    },
    {
     "name": "stdout",
     "output_type": "stream",
     "text": [
      "[Test] 17 Loss: 0.723 | Acc: 75.230 7523/10000\n"
     ]
    },
    {
     "name": "stderr",
     "output_type": "stream",
     "text": [
      "100%|█████████████████████████████████████████████████| 1563/1563 [00:35<00:00, 43.51it/s]\n"
     ]
    },
    {
     "name": "stdout",
     "output_type": "stream",
     "text": [
      "[Train] 18 Loss: 0.665 | Acc: 76.554 38277/50000\n"
     ]
    },
    {
     "name": "stderr",
     "output_type": "stream",
     "text": [
      "100%|██████████████████████████████████████████████████| 313/313 [00:02<00:00, 126.62it/s]\n"
     ]
    },
    {
     "name": "stdout",
     "output_type": "stream",
     "text": [
      "[Test] 18 Loss: 0.703 | Acc: 75.700 7570/10000\n",
      "Saving..\n"
     ]
    },
    {
     "name": "stderr",
     "output_type": "stream",
     "text": [
      "100%|█████████████████████████████████████████████████| 1563/1563 [00:36<00:00, 42.87it/s]\n"
     ]
    },
    {
     "name": "stdout",
     "output_type": "stream",
     "text": [
      "[Train] 19 Loss: 0.647 | Acc: 76.936 38468/50000\n"
     ]
    },
    {
     "name": "stderr",
     "output_type": "stream",
     "text": [
      "100%|██████████████████████████████████████████████████| 313/313 [00:02<00:00, 108.34it/s]\n"
     ]
    },
    {
     "name": "stdout",
     "output_type": "stream",
     "text": [
      "[Test] 19 Loss: 0.681 | Acc: 76.330 7633/10000\n",
      "Saving..\n"
     ]
    },
    {
     "name": "stderr",
     "output_type": "stream",
     "text": [
      "100%|█████████████████████████████████████████████████| 1563/1563 [00:36<00:00, 42.92it/s]\n"
     ]
    },
    {
     "name": "stdout",
     "output_type": "stream",
     "text": [
      "[Train] 20 Loss: 0.633 | Acc: 77.824 38912/50000\n"
     ]
    },
    {
     "name": "stderr",
     "output_type": "stream",
     "text": [
      "100%|██████████████████████████████████████████████████| 313/313 [00:02<00:00, 127.25it/s]\n"
     ]
    },
    {
     "name": "stdout",
     "output_type": "stream",
     "text": [
      "[Test] 20 Loss: 0.687 | Acc: 76.620 7662/10000\n",
      "Saving..\n"
     ]
    },
    {
     "name": "stderr",
     "output_type": "stream",
     "text": [
      "100%|█████████████████████████████████████████████████| 1563/1563 [00:36<00:00, 43.06it/s]\n"
     ]
    },
    {
     "name": "stdout",
     "output_type": "stream",
     "text": [
      "[Train] 21 Loss: 0.617 | Acc: 78.062 39031/50000\n"
     ]
    },
    {
     "name": "stderr",
     "output_type": "stream",
     "text": [
      "100%|██████████████████████████████████████████████████| 313/313 [00:02<00:00, 131.40it/s]\n"
     ]
    },
    {
     "name": "stdout",
     "output_type": "stream",
     "text": [
      "[Test] 21 Loss: 0.675 | Acc: 77.010 7701/10000\n",
      "Saving..\n"
     ]
    },
    {
     "name": "stderr",
     "output_type": "stream",
     "text": [
      "100%|█████████████████████████████████████████████████| 1563/1563 [00:36<00:00, 42.96it/s]\n"
     ]
    },
    {
     "name": "stdout",
     "output_type": "stream",
     "text": [
      "[Train] 22 Loss: 0.604 | Acc: 78.662 39331/50000\n"
     ]
    },
    {
     "name": "stderr",
     "output_type": "stream",
     "text": [
      "100%|██████████████████████████████████████████████████| 313/313 [00:02<00:00, 128.27it/s]\n"
     ]
    },
    {
     "name": "stdout",
     "output_type": "stream",
     "text": [
      "[Test] 22 Loss: 0.661 | Acc: 77.400 7740/10000\n",
      "Saving..\n"
     ]
    },
    {
     "name": "stderr",
     "output_type": "stream",
     "text": [
      "100%|█████████████████████████████████████████████████| 1563/1563 [00:33<00:00, 46.61it/s]\n"
     ]
    },
    {
     "name": "stdout",
     "output_type": "stream",
     "text": [
      "[Train] 23 Loss: 0.591 | Acc: 79.022 39511/50000\n"
     ]
    },
    {
     "name": "stderr",
     "output_type": "stream",
     "text": [
      "100%|██████████████████████████████████████████████████| 313/313 [00:02<00:00, 131.85it/s]\n"
     ]
    },
    {
     "name": "stdout",
     "output_type": "stream",
     "text": [
      "[Test] 23 Loss: 0.662 | Acc: 77.330 7733/10000\n"
     ]
    },
    {
     "name": "stderr",
     "output_type": "stream",
     "text": [
      "100%|█████████████████████████████████████████████████| 1563/1563 [00:32<00:00, 48.08it/s]\n"
     ]
    },
    {
     "name": "stdout",
     "output_type": "stream",
     "text": [
      "[Train] 24 Loss: 0.583 | Acc: 79.352 39676/50000\n"
     ]
    },
    {
     "name": "stderr",
     "output_type": "stream",
     "text": [
      "100%|██████████████████████████████████████████████████| 313/313 [00:02<00:00, 132.01it/s]\n"
     ]
    },
    {
     "name": "stdout",
     "output_type": "stream",
     "text": [
      "[Test] 24 Loss: 0.667 | Acc: 77.090 7709/10000\n"
     ]
    },
    {
     "name": "stderr",
     "output_type": "stream",
     "text": [
      "100%|█████████████████████████████████████████████████| 1563/1563 [00:32<00:00, 48.73it/s]\n"
     ]
    },
    {
     "name": "stdout",
     "output_type": "stream",
     "text": [
      "[Train] 25 Loss: 0.571 | Acc: 79.896 39948/50000\n"
     ]
    },
    {
     "name": "stderr",
     "output_type": "stream",
     "text": [
      "100%|██████████████████████████████████████████████████| 313/313 [00:02<00:00, 131.97it/s]\n"
     ]
    },
    {
     "name": "stdout",
     "output_type": "stream",
     "text": [
      "[Test] 25 Loss: 0.665 | Acc: 77.390 7739/10000\n"
     ]
    },
    {
     "name": "stderr",
     "output_type": "stream",
     "text": [
      "100%|█████████████████████████████████████████████████| 1563/1563 [00:32<00:00, 48.38it/s]\n"
     ]
    },
    {
     "name": "stdout",
     "output_type": "stream",
     "text": [
      "[Train] 26 Loss: 0.563 | Acc: 80.002 40001/50000\n"
     ]
    },
    {
     "name": "stderr",
     "output_type": "stream",
     "text": [
      "100%|██████████████████████████████████████████████████| 313/313 [00:02<00:00, 132.82it/s]\n"
     ]
    },
    {
     "name": "stdout",
     "output_type": "stream",
     "text": [
      "[Test] 26 Loss: 0.652 | Acc: 77.450 7745/10000\n",
      "Saving..\n"
     ]
    },
    {
     "name": "stderr",
     "output_type": "stream",
     "text": [
      "100%|█████████████████████████████████████████████████| 1563/1563 [00:32<00:00, 48.47it/s]\n"
     ]
    },
    {
     "name": "stdout",
     "output_type": "stream",
     "text": [
      "[Train] 27 Loss: 0.547 | Acc: 80.650 40325/50000\n"
     ]
    },
    {
     "name": "stderr",
     "output_type": "stream",
     "text": [
      "100%|██████████████████████████████████████████████████| 313/313 [00:02<00:00, 132.31it/s]\n"
     ]
    },
    {
     "name": "stdout",
     "output_type": "stream",
     "text": [
      "[Test] 27 Loss: 0.649 | Acc: 77.930 7793/10000\n",
      "Saving..\n"
     ]
    },
    {
     "name": "stderr",
     "output_type": "stream",
     "text": [
      "100%|█████████████████████████████████████████████████| 1563/1563 [00:32<00:00, 47.78it/s]\n"
     ]
    },
    {
     "name": "stdout",
     "output_type": "stream",
     "text": [
      "[Train] 28 Loss: 0.538 | Acc: 80.804 40402/50000\n"
     ]
    },
    {
     "name": "stderr",
     "output_type": "stream",
     "text": [
      "100%|██████████████████████████████████████████████████| 313/313 [00:02<00:00, 132.71it/s]\n"
     ]
    },
    {
     "name": "stdout",
     "output_type": "stream",
     "text": [
      "[Test] 28 Loss: 0.625 | Acc: 79.220 7922/10000\n",
      "Saving..\n"
     ]
    },
    {
     "name": "stderr",
     "output_type": "stream",
     "text": [
      "100%|█████████████████████████████████████████████████| 1563/1563 [00:32<00:00, 47.74it/s]\n"
     ]
    },
    {
     "name": "stdout",
     "output_type": "stream",
     "text": [
      "[Train] 29 Loss: 0.528 | Acc: 81.290 40645/50000\n"
     ]
    },
    {
     "name": "stderr",
     "output_type": "stream",
     "text": [
      "100%|██████████████████████████████████████████████████| 313/313 [00:02<00:00, 133.01it/s]\n"
     ]
    },
    {
     "name": "stdout",
     "output_type": "stream",
     "text": [
      "[Test] 29 Loss: 0.635 | Acc: 78.920 7892/10000\n"
     ]
    },
    {
     "name": "stderr",
     "output_type": "stream",
     "text": [
      "100%|█████████████████████████████████████████████████| 1563/1563 [00:32<00:00, 48.20it/s]\n"
     ]
    },
    {
     "name": "stdout",
     "output_type": "stream",
     "text": [
      "[Train] 30 Loss: 0.519 | Acc: 81.498 40749/50000\n"
     ]
    },
    {
     "name": "stderr",
     "output_type": "stream",
     "text": [
      "100%|██████████████████████████████████████████████████| 313/313 [00:02<00:00, 132.57it/s]\n"
     ]
    },
    {
     "name": "stdout",
     "output_type": "stream",
     "text": [
      "[Test] 30 Loss: 0.637 | Acc: 78.670 7867/10000\n"
     ]
    },
    {
     "name": "stderr",
     "output_type": "stream",
     "text": [
      "100%|█████████████████████████████████████████████████| 1563/1563 [00:32<00:00, 48.80it/s]\n"
     ]
    },
    {
     "name": "stdout",
     "output_type": "stream",
     "text": [
      "[Train] 31 Loss: 0.503 | Acc: 81.884 40942/50000\n"
     ]
    },
    {
     "name": "stderr",
     "output_type": "stream",
     "text": [
      "100%|██████████████████████████████████████████████████| 313/313 [00:02<00:00, 131.87it/s]\n"
     ]
    },
    {
     "name": "stdout",
     "output_type": "stream",
     "text": [
      "[Test] 31 Loss: 0.637 | Acc: 78.490 7849/10000\n"
     ]
    },
    {
     "name": "stderr",
     "output_type": "stream",
     "text": [
      "100%|█████████████████████████████████████████████████| 1563/1563 [00:32<00:00, 48.53it/s]\n"
     ]
    },
    {
     "name": "stdout",
     "output_type": "stream",
     "text": [
      "[Train] 32 Loss: 0.496 | Acc: 82.450 41225/50000\n"
     ]
    },
    {
     "name": "stderr",
     "output_type": "stream",
     "text": [
      "100%|██████████████████████████████████████████████████| 313/313 [00:02<00:00, 131.55it/s]\n"
     ]
    },
    {
     "name": "stdout",
     "output_type": "stream",
     "text": [
      "[Test] 32 Loss: 0.679 | Acc: 77.670 7767/10000\n"
     ]
    },
    {
     "name": "stderr",
     "output_type": "stream",
     "text": [
      "100%|█████████████████████████████████████████████████| 1563/1563 [00:32<00:00, 48.22it/s]\n"
     ]
    },
    {
     "name": "stdout",
     "output_type": "stream",
     "text": [
      "[Train] 33 Loss: 0.491 | Acc: 82.652 41326/50000\n"
     ]
    },
    {
     "name": "stderr",
     "output_type": "stream",
     "text": [
      "100%|██████████████████████████████████████████████████| 313/313 [00:02<00:00, 132.12it/s]\n"
     ]
    },
    {
     "name": "stdout",
     "output_type": "stream",
     "text": [
      "[Test] 33 Loss: 0.636 | Acc: 79.280 7928/10000\n",
      "Saving..\n"
     ]
    },
    {
     "name": "stderr",
     "output_type": "stream",
     "text": [
      "100%|█████████████████████████████████████████████████| 1563/1563 [00:32<00:00, 48.38it/s]\n"
     ]
    },
    {
     "name": "stdout",
     "output_type": "stream",
     "text": [
      "[Train] 34 Loss: 0.479 | Acc: 82.940 41470/50000\n"
     ]
    },
    {
     "name": "stderr",
     "output_type": "stream",
     "text": [
      "100%|██████████████████████████████████████████████████| 313/313 [00:02<00:00, 133.08it/s]\n"
     ]
    },
    {
     "name": "stdout",
     "output_type": "stream",
     "text": [
      "[Test] 34 Loss: 0.626 | Acc: 79.520 7952/10000\n",
      "Saving..\n"
     ]
    },
    {
     "name": "stderr",
     "output_type": "stream",
     "text": [
      "100%|█████████████████████████████████████████████████| 1563/1563 [00:32<00:00, 48.62it/s]\n"
     ]
    },
    {
     "name": "stdout",
     "output_type": "stream",
     "text": [
      "[Train] 35 Loss: 0.466 | Acc: 83.480 41740/50000\n"
     ]
    },
    {
     "name": "stderr",
     "output_type": "stream",
     "text": [
      "100%|██████████████████████████████████████████████████| 313/313 [00:02<00:00, 131.81it/s]\n"
     ]
    },
    {
     "name": "stdout",
     "output_type": "stream",
     "text": [
      "[Test] 35 Loss: 0.634 | Acc: 79.530 7953/10000\n",
      "Saving..\n"
     ]
    },
    {
     "name": "stderr",
     "output_type": "stream",
     "text": [
      "100%|█████████████████████████████████████████████████| 1563/1563 [00:32<00:00, 48.26it/s]\n"
     ]
    },
    {
     "name": "stdout",
     "output_type": "stream",
     "text": [
      "[Train] 36 Loss: 0.460 | Acc: 83.820 41910/50000\n"
     ]
    },
    {
     "name": "stderr",
     "output_type": "stream",
     "text": [
      "100%|██████████████████████████████████████████████████| 313/313 [00:02<00:00, 131.90it/s]\n"
     ]
    },
    {
     "name": "stdout",
     "output_type": "stream",
     "text": [
      "[Test] 36 Loss: 0.649 | Acc: 79.100 7910/10000\n"
     ]
    },
    {
     "name": "stderr",
     "output_type": "stream",
     "text": [
      "100%|█████████████████████████████████████████████████| 1563/1563 [00:32<00:00, 47.76it/s]\n"
     ]
    },
    {
     "name": "stdout",
     "output_type": "stream",
     "text": [
      "[Train] 37 Loss: 0.453 | Acc: 83.808 41904/50000\n"
     ]
    },
    {
     "name": "stderr",
     "output_type": "stream",
     "text": [
      "100%|██████████████████████████████████████████████████| 313/313 [00:02<00:00, 132.14it/s]\n"
     ]
    },
    {
     "name": "stdout",
     "output_type": "stream",
     "text": [
      "[Test] 37 Loss: 0.633 | Acc: 79.290 7929/10000\n"
     ]
    },
    {
     "name": "stderr",
     "output_type": "stream",
     "text": [
      "100%|█████████████████████████████████████████████████| 1563/1563 [00:32<00:00, 48.42it/s]\n"
     ]
    },
    {
     "name": "stdout",
     "output_type": "stream",
     "text": [
      "[Train] 38 Loss: 0.448 | Acc: 84.062 42031/50000\n"
     ]
    },
    {
     "name": "stderr",
     "output_type": "stream",
     "text": [
      "100%|██████████████████████████████████████████████████| 313/313 [00:02<00:00, 131.82it/s]\n"
     ]
    },
    {
     "name": "stdout",
     "output_type": "stream",
     "text": [
      "[Test] 38 Loss: 0.621 | Acc: 79.920 7992/10000\n",
      "Saving..\n"
     ]
    },
    {
     "name": "stderr",
     "output_type": "stream",
     "text": [
      "100%|█████████████████████████████████████████████████| 1563/1563 [00:32<00:00, 48.02it/s]\n"
     ]
    },
    {
     "name": "stdout",
     "output_type": "stream",
     "text": [
      "[Train] 39 Loss: 0.439 | Acc: 84.276 42138/50000\n"
     ]
    },
    {
     "name": "stderr",
     "output_type": "stream",
     "text": [
      "100%|██████████████████████████████████████████████████| 313/313 [00:02<00:00, 132.18it/s]\n"
     ]
    },
    {
     "name": "stdout",
     "output_type": "stream",
     "text": [
      "[Test] 39 Loss: 0.621 | Acc: 79.750 7975/10000\n"
     ]
    },
    {
     "name": "stderr",
     "output_type": "stream",
     "text": [
      "100%|█████████████████████████████████████████████████| 1563/1563 [00:32<00:00, 48.24it/s]\n"
     ]
    },
    {
     "name": "stdout",
     "output_type": "stream",
     "text": [
      "[Train] 40 Loss: 0.423 | Acc: 84.798 42399/50000\n"
     ]
    },
    {
     "name": "stderr",
     "output_type": "stream",
     "text": [
      "100%|██████████████████████████████████████████████████| 313/313 [00:02<00:00, 133.29it/s]\n"
     ]
    },
    {
     "name": "stdout",
     "output_type": "stream",
     "text": [
      "[Test] 40 Loss: 0.647 | Acc: 79.820 7982/10000\n"
     ]
    },
    {
     "name": "stderr",
     "output_type": "stream",
     "text": [
      "100%|█████████████████████████████████████████████████| 1563/1563 [00:32<00:00, 48.62it/s]\n"
     ]
    },
    {
     "name": "stdout",
     "output_type": "stream",
     "text": [
      "[Train] 41 Loss: 0.420 | Acc: 85.048 42524/50000\n"
     ]
    },
    {
     "name": "stderr",
     "output_type": "stream",
     "text": [
      "100%|██████████████████████████████████████████████████| 313/313 [00:02<00:00, 131.86it/s]\n"
     ]
    },
    {
     "name": "stdout",
     "output_type": "stream",
     "text": [
      "[Test] 41 Loss: 0.619 | Acc: 79.650 7965/10000\n"
     ]
    },
    {
     "name": "stderr",
     "output_type": "stream",
     "text": [
      "100%|█████████████████████████████████████████████████| 1563/1563 [00:32<00:00, 47.55it/s]\n"
     ]
    },
    {
     "name": "stdout",
     "output_type": "stream",
     "text": [
      "[Train] 42 Loss: 0.412 | Acc: 85.212 42606/50000\n"
     ]
    },
    {
     "name": "stderr",
     "output_type": "stream",
     "text": [
      "100%|██████████████████████████████████████████████████| 313/313 [00:02<00:00, 131.98it/s]\n"
     ]
    },
    {
     "name": "stdout",
     "output_type": "stream",
     "text": [
      "[Test] 42 Loss: 0.636 | Acc: 79.530 7953/10000\n"
     ]
    },
    {
     "name": "stderr",
     "output_type": "stream",
     "text": [
      "100%|█████████████████████████████████████████████████| 1563/1563 [00:32<00:00, 47.90it/s]\n"
     ]
    },
    {
     "name": "stdout",
     "output_type": "stream",
     "text": [
      "[Train] 43 Loss: 0.406 | Acc: 85.480 42740/50000\n"
     ]
    },
    {
     "name": "stderr",
     "output_type": "stream",
     "text": [
      "100%|██████████████████████████████████████████████████| 313/313 [00:02<00:00, 131.40it/s]\n"
     ]
    },
    {
     "name": "stdout",
     "output_type": "stream",
     "text": [
      "[Test] 43 Loss: 0.618 | Acc: 79.970 7997/10000\n",
      "Saving..\n"
     ]
    },
    {
     "name": "stderr",
     "output_type": "stream",
     "text": [
      "100%|█████████████████████████████████████████████████| 1563/1563 [00:32<00:00, 48.43it/s]\n"
     ]
    },
    {
     "name": "stdout",
     "output_type": "stream",
     "text": [
      "[Train] 44 Loss: 0.397 | Acc: 85.906 42953/50000\n"
     ]
    },
    {
     "name": "stderr",
     "output_type": "stream",
     "text": [
      "100%|██████████████████████████████████████████████████| 313/313 [00:02<00:00, 131.62it/s]\n"
     ]
    },
    {
     "name": "stdout",
     "output_type": "stream",
     "text": [
      "[Test] 44 Loss: 0.618 | Acc: 80.120 8012/10000\n",
      "Saving..\n"
     ]
    },
    {
     "name": "stderr",
     "output_type": "stream",
     "text": [
      "100%|█████████████████████████████████████████████████| 1563/1563 [00:32<00:00, 48.35it/s]\n"
     ]
    },
    {
     "name": "stdout",
     "output_type": "stream",
     "text": [
      "[Train] 45 Loss: 0.389 | Acc: 85.970 42985/50000\n"
     ]
    },
    {
     "name": "stderr",
     "output_type": "stream",
     "text": [
      "100%|██████████████████████████████████████████████████| 313/313 [00:02<00:00, 132.76it/s]\n"
     ]
    },
    {
     "name": "stdout",
     "output_type": "stream",
     "text": [
      "[Test] 45 Loss: 0.642 | Acc: 80.060 8006/10000\n"
     ]
    },
    {
     "name": "stderr",
     "output_type": "stream",
     "text": [
      "100%|█████████████████████████████████████████████████| 1563/1563 [00:32<00:00, 48.81it/s]\n"
     ]
    },
    {
     "name": "stdout",
     "output_type": "stream",
     "text": [
      "[Train] 46 Loss: 0.382 | Acc: 86.312 43156/50000\n"
     ]
    },
    {
     "name": "stderr",
     "output_type": "stream",
     "text": [
      "100%|██████████████████████████████████████████████████| 313/313 [00:02<00:00, 131.87it/s]\n"
     ]
    },
    {
     "name": "stdout",
     "output_type": "stream",
     "text": [
      "[Test] 46 Loss: 0.642 | Acc: 79.890 7989/10000\n"
     ]
    },
    {
     "name": "stderr",
     "output_type": "stream",
     "text": [
      "100%|█████████████████████████████████████████████████| 1563/1563 [00:32<00:00, 48.43it/s]\n"
     ]
    },
    {
     "name": "stdout",
     "output_type": "stream",
     "text": [
      "[Train] 47 Loss: 0.374 | Acc: 86.636 43318/50000\n"
     ]
    },
    {
     "name": "stderr",
     "output_type": "stream",
     "text": [
      "100%|██████████████████████████████████████████████████| 313/313 [00:02<00:00, 132.11it/s]\n"
     ]
    },
    {
     "name": "stdout",
     "output_type": "stream",
     "text": [
      "[Test] 47 Loss: 0.644 | Acc: 80.220 8022/10000\n",
      "Saving..\n"
     ]
    },
    {
     "name": "stderr",
     "output_type": "stream",
     "text": [
      "100%|█████████████████████████████████████████████████| 1563/1563 [00:32<00:00, 48.54it/s]\n"
     ]
    },
    {
     "name": "stdout",
     "output_type": "stream",
     "text": [
      "[Train] 48 Loss: 0.367 | Acc: 86.884 43442/50000\n"
     ]
    },
    {
     "name": "stderr",
     "output_type": "stream",
     "text": [
      "100%|██████████████████████████████████████████████████| 313/313 [00:02<00:00, 132.36it/s]\n"
     ]
    },
    {
     "name": "stdout",
     "output_type": "stream",
     "text": [
      "[Test] 48 Loss: 0.625 | Acc: 80.250 8025/10000\n",
      "Saving..\n"
     ]
    },
    {
     "name": "stderr",
     "output_type": "stream",
     "text": [
      "100%|█████████████████████████████████████████████████| 1563/1563 [00:32<00:00, 47.61it/s]\n"
     ]
    },
    {
     "name": "stdout",
     "output_type": "stream",
     "text": [
      "[Train] 49 Loss: 0.358 | Acc: 87.116 43558/50000\n"
     ]
    },
    {
     "name": "stderr",
     "output_type": "stream",
     "text": [
      "100%|██████████████████████████████████████████████████| 313/313 [00:02<00:00, 132.21it/s]\n"
     ]
    },
    {
     "name": "stdout",
     "output_type": "stream",
     "text": [
      "[Test] 49 Loss: 0.647 | Acc: 79.520 7952/10000\n"
     ]
    },
    {
     "name": "stderr",
     "output_type": "stream",
     "text": [
      "100%|█████████████████████████████████████████████████| 1563/1563 [00:32<00:00, 48.27it/s]\n"
     ]
    },
    {
     "name": "stdout",
     "output_type": "stream",
     "text": [
      "[Train] 50 Loss: 0.352 | Acc: 87.368 43684/50000\n"
     ]
    },
    {
     "name": "stderr",
     "output_type": "stream",
     "text": [
      "100%|██████████████████████████████████████████████████| 313/313 [00:02<00:00, 132.21it/s]\n"
     ]
    },
    {
     "name": "stdout",
     "output_type": "stream",
     "text": [
      "[Test] 50 Loss: 0.639 | Acc: 80.210 8021/10000\n"
     ]
    },
    {
     "name": "stderr",
     "output_type": "stream",
     "text": [
      "100%|█████████████████████████████████████████████████| 1563/1563 [00:32<00:00, 48.50it/s]\n"
     ]
    },
    {
     "name": "stdout",
     "output_type": "stream",
     "text": [
      "[Train] 51 Loss: 0.342 | Acc: 87.640 43820/50000\n"
     ]
    },
    {
     "name": "stderr",
     "output_type": "stream",
     "text": [
      "100%|██████████████████████████████████████████████████| 313/313 [00:02<00:00, 131.76it/s]\n"
     ]
    },
    {
     "name": "stdout",
     "output_type": "stream",
     "text": [
      "[Test] 51 Loss: 0.650 | Acc: 80.520 8052/10000\n",
      "Saving..\n"
     ]
    },
    {
     "name": "stderr",
     "output_type": "stream",
     "text": [
      "100%|█████████████████████████████████████████████████| 1563/1563 [00:32<00:00, 47.85it/s]\n"
     ]
    },
    {
     "name": "stdout",
     "output_type": "stream",
     "text": [
      "[Train] 52 Loss: 0.338 | Acc: 87.818 43909/50000\n"
     ]
    },
    {
     "name": "stderr",
     "output_type": "stream",
     "text": [
      "100%|██████████████████████████████████████████████████| 313/313 [00:02<00:00, 131.66it/s]\n"
     ]
    },
    {
     "name": "stdout",
     "output_type": "stream",
     "text": [
      "[Test] 52 Loss: 0.659 | Acc: 79.910 7991/10000\n"
     ]
    },
    {
     "name": "stderr",
     "output_type": "stream",
     "text": [
      "100%|█████████████████████████████████████████████████| 1563/1563 [00:32<00:00, 48.04it/s]\n"
     ]
    },
    {
     "name": "stdout",
     "output_type": "stream",
     "text": [
      "[Train] 53 Loss: 0.331 | Acc: 88.086 44043/50000\n"
     ]
    },
    {
     "name": "stderr",
     "output_type": "stream",
     "text": [
      "100%|██████████████████████████████████████████████████| 313/313 [00:02<00:00, 132.08it/s]\n"
     ]
    },
    {
     "name": "stdout",
     "output_type": "stream",
     "text": [
      "[Test] 53 Loss: 0.677 | Acc: 80.030 8003/10000\n"
     ]
    },
    {
     "name": "stderr",
     "output_type": "stream",
     "text": [
      "100%|█████████████████████████████████████████████████| 1563/1563 [00:32<00:00, 48.26it/s]\n"
     ]
    },
    {
     "name": "stdout",
     "output_type": "stream",
     "text": [
      "[Train] 54 Loss: 0.325 | Acc: 88.206 44103/50000\n"
     ]
    },
    {
     "name": "stderr",
     "output_type": "stream",
     "text": [
      "100%|██████████████████████████████████████████████████| 313/313 [00:02<00:00, 132.16it/s]\n"
     ]
    },
    {
     "name": "stdout",
     "output_type": "stream",
     "text": [
      "[Test] 54 Loss: 0.667 | Acc: 80.400 8040/10000\n"
     ]
    },
    {
     "name": "stderr",
     "output_type": "stream",
     "text": [
      "100%|█████████████████████████████████████████████████| 1563/1563 [00:32<00:00, 48.25it/s]\n"
     ]
    },
    {
     "name": "stdout",
     "output_type": "stream",
     "text": [
      "[Train] 55 Loss: 0.316 | Acc: 88.680 44340/50000\n"
     ]
    },
    {
     "name": "stderr",
     "output_type": "stream",
     "text": [
      "100%|██████████████████████████████████████████████████| 313/313 [00:02<00:00, 132.22it/s]\n"
     ]
    },
    {
     "name": "stdout",
     "output_type": "stream",
     "text": [
      "[Test] 55 Loss: 0.658 | Acc: 80.320 8032/10000\n"
     ]
    },
    {
     "name": "stderr",
     "output_type": "stream",
     "text": [
      "100%|█████████████████████████████████████████████████| 1563/1563 [00:32<00:00, 47.63it/s]\n"
     ]
    },
    {
     "name": "stdout",
     "output_type": "stream",
     "text": [
      "[Train] 56 Loss: 0.313 | Acc: 88.698 44349/50000\n"
     ]
    },
    {
     "name": "stderr",
     "output_type": "stream",
     "text": [
      "100%|██████████████████████████████████████████████████| 313/313 [00:02<00:00, 131.02it/s]\n"
     ]
    },
    {
     "name": "stdout",
     "output_type": "stream",
     "text": [
      "[Test] 56 Loss: 0.661 | Acc: 80.550 8055/10000\n",
      "Saving..\n"
     ]
    },
    {
     "name": "stderr",
     "output_type": "stream",
     "text": [
      "100%|█████████████████████████████████████████████████| 1563/1563 [00:32<00:00, 47.86it/s]\n"
     ]
    },
    {
     "name": "stdout",
     "output_type": "stream",
     "text": [
      "[Train] 57 Loss: 0.310 | Acc: 88.756 44378/50000\n"
     ]
    },
    {
     "name": "stderr",
     "output_type": "stream",
     "text": [
      "100%|██████████████████████████████████████████████████| 313/313 [00:02<00:00, 131.91it/s]\n"
     ]
    },
    {
     "name": "stdout",
     "output_type": "stream",
     "text": [
      "[Test] 57 Loss: 0.665 | Acc: 80.460 8046/10000\n"
     ]
    },
    {
     "name": "stderr",
     "output_type": "stream",
     "text": [
      "100%|█████████████████████████████████████████████████| 1563/1563 [00:32<00:00, 47.65it/s]\n"
     ]
    },
    {
     "name": "stdout",
     "output_type": "stream",
     "text": [
      "[Train] 58 Loss: 0.298 | Acc: 89.314 44657/50000\n"
     ]
    },
    {
     "name": "stderr",
     "output_type": "stream",
     "text": [
      "100%|██████████████████████████████████████████████████| 313/313 [00:02<00:00, 131.71it/s]\n"
     ]
    },
    {
     "name": "stdout",
     "output_type": "stream",
     "text": [
      "[Test] 58 Loss: 0.673 | Acc: 80.330 8033/10000\n"
     ]
    },
    {
     "name": "stderr",
     "output_type": "stream",
     "text": [
      "100%|█████████████████████████████████████████████████| 1563/1563 [00:32<00:00, 47.84it/s]\n"
     ]
    },
    {
     "name": "stdout",
     "output_type": "stream",
     "text": [
      "[Train] 59 Loss: 0.290 | Acc: 89.662 44831/50000\n"
     ]
    },
    {
     "name": "stderr",
     "output_type": "stream",
     "text": [
      "100%|██████████████████████████████████████████████████| 313/313 [00:02<00:00, 132.65it/s]\n"
     ]
    },
    {
     "name": "stdout",
     "output_type": "stream",
     "text": [
      "[Test] 59 Loss: 0.690 | Acc: 80.160 8016/10000\n"
     ]
    },
    {
     "name": "stderr",
     "output_type": "stream",
     "text": [
      "100%|█████████████████████████████████████████████████| 1563/1563 [00:32<00:00, 48.06it/s]\n"
     ]
    },
    {
     "name": "stdout",
     "output_type": "stream",
     "text": [
      "[Train] 60 Loss: 0.288 | Acc: 89.744 44872/50000\n"
     ]
    },
    {
     "name": "stderr",
     "output_type": "stream",
     "text": [
      "100%|██████████████████████████████████████████████████| 313/313 [00:02<00:00, 131.84it/s]\n"
     ]
    },
    {
     "name": "stdout",
     "output_type": "stream",
     "text": [
      "[Test] 60 Loss: 0.666 | Acc: 80.470 8047/10000\n"
     ]
    },
    {
     "name": "stderr",
     "output_type": "stream",
     "text": [
      "100%|█████████████████████████████████████████████████| 1563/1563 [00:32<00:00, 48.13it/s]\n"
     ]
    },
    {
     "name": "stdout",
     "output_type": "stream",
     "text": [
      "[Train] 61 Loss: 0.280 | Acc: 89.968 44984/50000\n"
     ]
    },
    {
     "name": "stderr",
     "output_type": "stream",
     "text": [
      "100%|██████████████████████████████████████████████████| 313/313 [00:02<00:00, 132.10it/s]\n"
     ]
    },
    {
     "name": "stdout",
     "output_type": "stream",
     "text": [
      "[Test] 61 Loss: 0.689 | Acc: 80.270 8027/10000\n"
     ]
    },
    {
     "name": "stderr",
     "output_type": "stream",
     "text": [
      "100%|█████████████████████████████████████████████████| 1563/1563 [00:32<00:00, 48.73it/s]\n"
     ]
    },
    {
     "name": "stdout",
     "output_type": "stream",
     "text": [
      "[Train] 62 Loss: 0.276 | Acc: 89.956 44978/50000\n"
     ]
    },
    {
     "name": "stderr",
     "output_type": "stream",
     "text": [
      "100%|██████████████████████████████████████████████████| 313/313 [00:02<00:00, 132.98it/s]\n"
     ]
    },
    {
     "name": "stdout",
     "output_type": "stream",
     "text": [
      "[Test] 62 Loss: 0.714 | Acc: 79.870 7987/10000\n"
     ]
    },
    {
     "name": "stderr",
     "output_type": "stream",
     "text": [
      "100%|█████████████████████████████████████████████████| 1563/1563 [00:32<00:00, 48.03it/s]\n"
     ]
    },
    {
     "name": "stdout",
     "output_type": "stream",
     "text": [
      "[Train] 63 Loss: 0.268 | Acc: 90.256 45128/50000\n"
     ]
    },
    {
     "name": "stderr",
     "output_type": "stream",
     "text": [
      "100%|██████████████████████████████████████████████████| 313/313 [00:02<00:00, 132.17it/s]\n"
     ]
    },
    {
     "name": "stdout",
     "output_type": "stream",
     "text": [
      "[Test] 63 Loss: 0.718 | Acc: 79.800 7980/10000\n"
     ]
    },
    {
     "name": "stderr",
     "output_type": "stream",
     "text": [
      "100%|█████████████████████████████████████████████████| 1563/1563 [00:32<00:00, 48.29it/s]\n"
     ]
    },
    {
     "name": "stdout",
     "output_type": "stream",
     "text": [
      "[Train] 64 Loss: 0.259 | Acc: 90.612 45306/50000\n"
     ]
    },
    {
     "name": "stderr",
     "output_type": "stream",
     "text": [
      "100%|██████████████████████████████████████████████████| 313/313 [00:02<00:00, 132.60it/s]\n"
     ]
    },
    {
     "name": "stdout",
     "output_type": "stream",
     "text": [
      "[Test] 64 Loss: 0.699 | Acc: 80.340 8034/10000\n"
     ]
    },
    {
     "name": "stderr",
     "output_type": "stream",
     "text": [
      "100%|█████████████████████████████████████████████████| 1563/1563 [00:32<00:00, 47.77it/s]\n"
     ]
    },
    {
     "name": "stdout",
     "output_type": "stream",
     "text": [
      "[Train] 65 Loss: 0.255 | Acc: 90.804 45402/50000\n"
     ]
    },
    {
     "name": "stderr",
     "output_type": "stream",
     "text": [
      "100%|██████████████████████████████████████████████████| 313/313 [00:02<00:00, 132.28it/s]\n"
     ]
    },
    {
     "name": "stdout",
     "output_type": "stream",
     "text": [
      "[Test] 65 Loss: 0.708 | Acc: 80.110 8011/10000\n"
     ]
    },
    {
     "name": "stderr",
     "output_type": "stream",
     "text": [
      "100%|█████████████████████████████████████████████████| 1563/1563 [00:32<00:00, 48.72it/s]\n"
     ]
    },
    {
     "name": "stdout",
     "output_type": "stream",
     "text": [
      "[Train] 66 Loss: 0.253 | Acc: 90.962 45481/50000\n"
     ]
    },
    {
     "name": "stderr",
     "output_type": "stream",
     "text": [
      "100%|██████████████████████████████████████████████████| 313/313 [00:02<00:00, 132.36it/s]\n"
     ]
    },
    {
     "name": "stdout",
     "output_type": "stream",
     "text": [
      "[Test] 66 Loss: 0.709 | Acc: 80.770 8077/10000\n",
      "Saving..\n"
     ]
    },
    {
     "name": "stderr",
     "output_type": "stream",
     "text": [
      "100%|█████████████████████████████████████████████████| 1563/1563 [00:32<00:00, 48.56it/s]\n"
     ]
    },
    {
     "name": "stdout",
     "output_type": "stream",
     "text": [
      "[Train] 67 Loss: 0.248 | Acc: 90.976 45488/50000\n"
     ]
    },
    {
     "name": "stderr",
     "output_type": "stream",
     "text": [
      "100%|██████████████████████████████████████████████████| 313/313 [00:02<00:00, 132.47it/s]\n"
     ]
    },
    {
     "name": "stdout",
     "output_type": "stream",
     "text": [
      "[Test] 67 Loss: 0.741 | Acc: 79.760 7976/10000\n"
     ]
    },
    {
     "name": "stderr",
     "output_type": "stream",
     "text": [
      "100%|█████████████████████████████████████████████████| 1563/1563 [00:32<00:00, 48.53it/s]\n"
     ]
    },
    {
     "name": "stdout",
     "output_type": "stream",
     "text": [
      "[Train] 68 Loss: 0.242 | Acc: 91.138 45569/50000\n"
     ]
    },
    {
     "name": "stderr",
     "output_type": "stream",
     "text": [
      "100%|██████████████████████████████████████████████████| 313/313 [00:02<00:00, 132.19it/s]\n"
     ]
    },
    {
     "name": "stdout",
     "output_type": "stream",
     "text": [
      "[Test] 68 Loss: 0.728 | Acc: 79.960 7996/10000\n"
     ]
    },
    {
     "name": "stderr",
     "output_type": "stream",
     "text": [
      "100%|█████████████████████████████████████████████████| 1563/1563 [00:32<00:00, 48.34it/s]\n"
     ]
    },
    {
     "name": "stdout",
     "output_type": "stream",
     "text": [
      "[Train] 69 Loss: 0.233 | Acc: 91.396 45698/50000\n"
     ]
    },
    {
     "name": "stderr",
     "output_type": "stream",
     "text": [
      "100%|██████████████████████████████████████████████████| 313/313 [00:02<00:00, 132.76it/s]\n"
     ]
    },
    {
     "name": "stdout",
     "output_type": "stream",
     "text": [
      "[Test] 69 Loss: 0.750 | Acc: 79.550 7955/10000\n"
     ]
    },
    {
     "name": "stderr",
     "output_type": "stream",
     "text": [
      "100%|█████████████████████████████████████████████████| 1563/1563 [00:32<00:00, 48.36it/s]\n"
     ]
    },
    {
     "name": "stdout",
     "output_type": "stream",
     "text": [
      "[Train] 70 Loss: 0.233 | Acc: 91.448 45724/50000\n"
     ]
    },
    {
     "name": "stderr",
     "output_type": "stream",
     "text": [
      "100%|██████████████████████████████████████████████████| 313/313 [00:02<00:00, 131.74it/s]\n"
     ]
    },
    {
     "name": "stdout",
     "output_type": "stream",
     "text": [
      "[Test] 70 Loss: 0.761 | Acc: 79.960 7996/10000\n"
     ]
    },
    {
     "name": "stderr",
     "output_type": "stream",
     "text": [
      "100%|█████████████████████████████████████████████████| 1563/1563 [00:32<00:00, 48.24it/s]\n"
     ]
    },
    {
     "name": "stdout",
     "output_type": "stream",
     "text": [
      "[Train] 71 Loss: 0.227 | Acc: 91.898 45949/50000\n"
     ]
    },
    {
     "name": "stderr",
     "output_type": "stream",
     "text": [
      "100%|██████████████████████████████████████████████████| 313/313 [00:02<00:00, 132.35it/s]\n"
     ]
    },
    {
     "name": "stdout",
     "output_type": "stream",
     "text": [
      "[Test] 71 Loss: 0.754 | Acc: 80.120 8012/10000\n"
     ]
    },
    {
     "name": "stderr",
     "output_type": "stream",
     "text": [
      "100%|█████████████████████████████████████████████████| 1563/1563 [00:32<00:00, 48.37it/s]\n"
     ]
    },
    {
     "name": "stdout",
     "output_type": "stream",
     "text": [
      "[Train] 72 Loss: 0.220 | Acc: 92.064 46032/50000\n"
     ]
    },
    {
     "name": "stderr",
     "output_type": "stream",
     "text": [
      "100%|██████████████████████████████████████████████████| 313/313 [00:02<00:00, 132.78it/s]\n"
     ]
    },
    {
     "name": "stdout",
     "output_type": "stream",
     "text": [
      "[Test] 72 Loss: 0.784 | Acc: 79.830 7983/10000\n"
     ]
    },
    {
     "name": "stderr",
     "output_type": "stream",
     "text": [
      "100%|█████████████████████████████████████████████████| 1563/1563 [00:32<00:00, 48.61it/s]\n"
     ]
    },
    {
     "name": "stdout",
     "output_type": "stream",
     "text": [
      "[Train] 73 Loss: 0.212 | Acc: 92.138 46069/50000\n"
     ]
    },
    {
     "name": "stderr",
     "output_type": "stream",
     "text": [
      "100%|██████████████████████████████████████████████████| 313/313 [00:02<00:00, 132.19it/s]\n"
     ]
    },
    {
     "name": "stdout",
     "output_type": "stream",
     "text": [
      "[Test] 73 Loss: 0.785 | Acc: 79.620 7962/10000\n"
     ]
    },
    {
     "name": "stderr",
     "output_type": "stream",
     "text": [
      "100%|█████████████████████████████████████████████████| 1563/1563 [00:32<00:00, 48.27it/s]\n"
     ]
    },
    {
     "name": "stdout",
     "output_type": "stream",
     "text": [
      "[Train] 74 Loss: 0.214 | Acc: 92.308 46154/50000\n"
     ]
    },
    {
     "name": "stderr",
     "output_type": "stream",
     "text": [
      "100%|██████████████████████████████████████████████████| 313/313 [00:02<00:00, 132.18it/s]\n"
     ]
    },
    {
     "name": "stdout",
     "output_type": "stream",
     "text": [
      "[Test] 74 Loss: 0.755 | Acc: 80.090 8009/10000\n"
     ]
    },
    {
     "name": "stderr",
     "output_type": "stream",
     "text": [
      "100%|█████████████████████████████████████████████████| 1563/1563 [00:32<00:00, 48.28it/s]\n"
     ]
    },
    {
     "name": "stdout",
     "output_type": "stream",
     "text": [
      "[Train] 75 Loss: 0.209 | Acc: 92.440 46220/50000\n"
     ]
    },
    {
     "name": "stderr",
     "output_type": "stream",
     "text": [
      "100%|██████████████████████████████████████████████████| 313/313 [00:02<00:00, 132.03it/s]\n"
     ]
    },
    {
     "name": "stdout",
     "output_type": "stream",
     "text": [
      "[Test] 75 Loss: 0.761 | Acc: 79.530 7953/10000\n"
     ]
    },
    {
     "name": "stderr",
     "output_type": "stream",
     "text": [
      "100%|█████████████████████████████████████████████████| 1563/1563 [00:32<00:00, 47.82it/s]\n"
     ]
    },
    {
     "name": "stdout",
     "output_type": "stream",
     "text": [
      "[Train] 76 Loss: 0.204 | Acc: 92.580 46290/50000\n"
     ]
    },
    {
     "name": "stderr",
     "output_type": "stream",
     "text": [
      "100%|██████████████████████████████████████████████████| 313/313 [00:02<00:00, 132.12it/s]\n"
     ]
    },
    {
     "name": "stdout",
     "output_type": "stream",
     "text": [
      "[Test] 76 Loss: 0.799 | Acc: 79.780 7978/10000\n"
     ]
    },
    {
     "name": "stderr",
     "output_type": "stream",
     "text": [
      "100%|█████████████████████████████████████████████████| 1563/1563 [00:32<00:00, 47.99it/s]\n"
     ]
    },
    {
     "name": "stdout",
     "output_type": "stream",
     "text": [
      "[Train] 77 Loss: 0.195 | Acc: 92.914 46457/50000\n"
     ]
    },
    {
     "name": "stderr",
     "output_type": "stream",
     "text": [
      "100%|██████████████████████████████████████████████████| 313/313 [00:02<00:00, 132.19it/s]\n"
     ]
    },
    {
     "name": "stdout",
     "output_type": "stream",
     "text": [
      "[Test] 77 Loss: 0.810 | Acc: 79.790 7979/10000\n"
     ]
    },
    {
     "name": "stderr",
     "output_type": "stream",
     "text": [
      "100%|█████████████████████████████████████████████████| 1563/1563 [00:32<00:00, 48.17it/s]\n"
     ]
    },
    {
     "name": "stdout",
     "output_type": "stream",
     "text": [
      "[Train] 78 Loss: 0.195 | Acc: 93.010 46505/50000\n"
     ]
    },
    {
     "name": "stderr",
     "output_type": "stream",
     "text": [
      "100%|██████████████████████████████████████████████████| 313/313 [00:02<00:00, 132.42it/s]\n"
     ]
    },
    {
     "name": "stdout",
     "output_type": "stream",
     "text": [
      "[Test] 78 Loss: 0.783 | Acc: 80.000 8000/10000\n"
     ]
    },
    {
     "name": "stderr",
     "output_type": "stream",
     "text": [
      "100%|█████████████████████████████████████████████████| 1563/1563 [00:32<00:00, 48.50it/s]\n"
     ]
    },
    {
     "name": "stdout",
     "output_type": "stream",
     "text": [
      "[Train] 79 Loss: 0.190 | Acc: 93.026 46513/50000\n"
     ]
    },
    {
     "name": "stderr",
     "output_type": "stream",
     "text": [
      "100%|██████████████████████████████████████████████████| 313/313 [00:02<00:00, 132.15it/s]\n"
     ]
    },
    {
     "name": "stdout",
     "output_type": "stream",
     "text": [
      "[Test] 79 Loss: 0.806 | Acc: 79.630 7963/10000\n"
     ]
    },
    {
     "name": "stderr",
     "output_type": "stream",
     "text": [
      "100%|█████████████████████████████████████████████████| 1563/1563 [00:32<00:00, 48.38it/s]\n"
     ]
    },
    {
     "name": "stdout",
     "output_type": "stream",
     "text": [
      "[Train] 80 Loss: 0.186 | Acc: 93.242 46621/50000\n"
     ]
    },
    {
     "name": "stderr",
     "output_type": "stream",
     "text": [
      "100%|██████████████████████████████████████████████████| 313/313 [00:02<00:00, 133.40it/s]\n"
     ]
    },
    {
     "name": "stdout",
     "output_type": "stream",
     "text": [
      "[Test] 80 Loss: 0.801 | Acc: 79.930 7993/10000\n"
     ]
    },
    {
     "name": "stderr",
     "output_type": "stream",
     "text": [
      "100%|█████████████████████████████████████████████████| 1563/1563 [00:32<00:00, 48.34it/s]\n"
     ]
    },
    {
     "name": "stdout",
     "output_type": "stream",
     "text": [
      "[Train] 81 Loss: 0.179 | Acc: 93.428 46714/50000\n"
     ]
    },
    {
     "name": "stderr",
     "output_type": "stream",
     "text": [
      "100%|██████████████████████████████████████████████████| 313/313 [00:02<00:00, 131.56it/s]\n"
     ]
    },
    {
     "name": "stdout",
     "output_type": "stream",
     "text": [
      "[Test] 81 Loss: 0.824 | Acc: 80.060 8006/10000\n"
     ]
    },
    {
     "name": "stderr",
     "output_type": "stream",
     "text": [
      "100%|█████████████████████████████████████████████████| 1563/1563 [00:32<00:00, 48.20it/s]\n"
     ]
    },
    {
     "name": "stdout",
     "output_type": "stream",
     "text": [
      "[Train] 82 Loss: 0.175 | Acc: 93.736 46868/50000\n"
     ]
    },
    {
     "name": "stderr",
     "output_type": "stream",
     "text": [
      "100%|██████████████████████████████████████████████████| 313/313 [00:02<00:00, 132.42it/s]\n"
     ]
    },
    {
     "name": "stdout",
     "output_type": "stream",
     "text": [
      "[Test] 82 Loss: 0.840 | Acc: 79.470 7947/10000\n"
     ]
    },
    {
     "name": "stderr",
     "output_type": "stream",
     "text": [
      "100%|█████████████████████████████████████████████████| 1563/1563 [00:32<00:00, 48.10it/s]\n"
     ]
    },
    {
     "name": "stdout",
     "output_type": "stream",
     "text": [
      "[Train] 83 Loss: 0.172 | Acc: 93.680 46840/50000\n"
     ]
    },
    {
     "name": "stderr",
     "output_type": "stream",
     "text": [
      "100%|██████████████████████████████████████████████████| 313/313 [00:02<00:00, 132.81it/s]\n"
     ]
    },
    {
     "name": "stdout",
     "output_type": "stream",
     "text": [
      "[Test] 83 Loss: 0.824 | Acc: 80.170 8017/10000\n"
     ]
    },
    {
     "name": "stderr",
     "output_type": "stream",
     "text": [
      "100%|█████████████████████████████████████████████████| 1563/1563 [00:32<00:00, 48.38it/s]\n"
     ]
    },
    {
     "name": "stdout",
     "output_type": "stream",
     "text": [
      "[Train] 84 Loss: 0.172 | Acc: 93.730 46865/50000\n"
     ]
    },
    {
     "name": "stderr",
     "output_type": "stream",
     "text": [
      "100%|██████████████████████████████████████████████████| 313/313 [00:02<00:00, 133.41it/s]\n"
     ]
    },
    {
     "name": "stdout",
     "output_type": "stream",
     "text": [
      "[Test] 84 Loss: 0.823 | Acc: 79.700 7970/10000\n"
     ]
    },
    {
     "name": "stderr",
     "output_type": "stream",
     "text": [
      "100%|█████████████████████████████████████████████████| 1563/1563 [00:32<00:00, 48.73it/s]\n"
     ]
    },
    {
     "name": "stdout",
     "output_type": "stream",
     "text": [
      "[Train] 85 Loss: 0.167 | Acc: 93.716 46858/50000\n"
     ]
    },
    {
     "name": "stderr",
     "output_type": "stream",
     "text": [
      "100%|██████████████████████████████████████████████████| 313/313 [00:02<00:00, 131.76it/s]\n"
     ]
    },
    {
     "name": "stdout",
     "output_type": "stream",
     "text": [
      "[Test] 85 Loss: 0.847 | Acc: 80.030 8003/10000\n"
     ]
    },
    {
     "name": "stderr",
     "output_type": "stream",
     "text": [
      "100%|█████████████████████████████████████████████████| 1563/1563 [00:32<00:00, 48.32it/s]\n"
     ]
    },
    {
     "name": "stdout",
     "output_type": "stream",
     "text": [
      "[Train] 86 Loss: 0.161 | Acc: 94.164 47082/50000\n"
     ]
    },
    {
     "name": "stderr",
     "output_type": "stream",
     "text": [
      "100%|██████████████████████████████████████████████████| 313/313 [00:02<00:00, 131.79it/s]\n"
     ]
    },
    {
     "name": "stdout",
     "output_type": "stream",
     "text": [
      "[Test] 86 Loss: 0.845 | Acc: 80.380 8038/10000\n"
     ]
    },
    {
     "name": "stderr",
     "output_type": "stream",
     "text": [
      "100%|█████████████████████████████████████████████████| 1563/1563 [00:32<00:00, 48.56it/s]\n"
     ]
    },
    {
     "name": "stdout",
     "output_type": "stream",
     "text": [
      "[Train] 87 Loss: 0.155 | Acc: 94.412 47206/50000\n"
     ]
    },
    {
     "name": "stderr",
     "output_type": "stream",
     "text": [
      "100%|██████████████████████████████████████████████████| 313/313 [00:02<00:00, 132.20it/s]\n"
     ]
    },
    {
     "name": "stdout",
     "output_type": "stream",
     "text": [
      "[Test] 87 Loss: 0.860 | Acc: 79.850 7985/10000\n"
     ]
    },
    {
     "name": "stderr",
     "output_type": "stream",
     "text": [
      "100%|█████████████████████████████████████████████████| 1563/1563 [00:32<00:00, 48.77it/s]\n"
     ]
    },
    {
     "name": "stdout",
     "output_type": "stream",
     "text": [
      "[Train] 88 Loss: 0.153 | Acc: 94.442 47221/50000\n"
     ]
    },
    {
     "name": "stderr",
     "output_type": "stream",
     "text": [
      "100%|██████████████████████████████████████████████████| 313/313 [00:02<00:00, 133.21it/s]\n"
     ]
    },
    {
     "name": "stdout",
     "output_type": "stream",
     "text": [
      "[Test] 88 Loss: 0.887 | Acc: 79.930 7993/10000\n"
     ]
    },
    {
     "name": "stderr",
     "output_type": "stream",
     "text": [
      "100%|█████████████████████████████████████████████████| 1563/1563 [00:32<00:00, 48.65it/s]\n"
     ]
    },
    {
     "name": "stdout",
     "output_type": "stream",
     "text": [
      "[Train] 89 Loss: 0.147 | Acc: 94.704 47352/50000\n"
     ]
    },
    {
     "name": "stderr",
     "output_type": "stream",
     "text": [
      "100%|██████████████████████████████████████████████████| 313/313 [00:02<00:00, 132.92it/s]\n"
     ]
    },
    {
     "name": "stdout",
     "output_type": "stream",
     "text": [
      "[Test] 89 Loss: 0.873 | Acc: 79.780 7978/10000\n"
     ]
    },
    {
     "name": "stderr",
     "output_type": "stream",
     "text": [
      "100%|█████████████████████████████████████████████████| 1563/1563 [00:32<00:00, 48.62it/s]\n"
     ]
    },
    {
     "name": "stdout",
     "output_type": "stream",
     "text": [
      "[Train] 90 Loss: 0.149 | Acc: 94.646 47323/50000\n"
     ]
    },
    {
     "name": "stderr",
     "output_type": "stream",
     "text": [
      "100%|██████████████████████████████████████████████████| 313/313 [00:02<00:00, 132.79it/s]\n"
     ]
    },
    {
     "name": "stdout",
     "output_type": "stream",
     "text": [
      "[Test] 90 Loss: 0.882 | Acc: 80.030 8003/10000\n"
     ]
    },
    {
     "name": "stderr",
     "output_type": "stream",
     "text": [
      "100%|█████████████████████████████████████████████████| 1563/1563 [00:32<00:00, 48.05it/s]\n"
     ]
    },
    {
     "name": "stdout",
     "output_type": "stream",
     "text": [
      "[Train] 91 Loss: 0.143 | Acc: 94.906 47453/50000\n"
     ]
    },
    {
     "name": "stderr",
     "output_type": "stream",
     "text": [
      "100%|██████████████████████████████████████████████████| 313/313 [00:02<00:00, 131.96it/s]\n"
     ]
    },
    {
     "name": "stdout",
     "output_type": "stream",
     "text": [
      "[Test] 91 Loss: 0.887 | Acc: 79.620 7962/10000\n"
     ]
    },
    {
     "name": "stderr",
     "output_type": "stream",
     "text": [
      "100%|█████████████████████████████████████████████████| 1563/1563 [00:32<00:00, 48.52it/s]\n"
     ]
    },
    {
     "name": "stdout",
     "output_type": "stream",
     "text": [
      "[Train] 92 Loss: 0.143 | Acc: 94.856 47428/50000\n"
     ]
    },
    {
     "name": "stderr",
     "output_type": "stream",
     "text": [
      "100%|██████████████████████████████████████████████████| 313/313 [00:02<00:00, 133.40it/s]\n"
     ]
    },
    {
     "name": "stdout",
     "output_type": "stream",
     "text": [
      "[Test] 92 Loss: 0.884 | Acc: 79.760 7976/10000\n"
     ]
    },
    {
     "name": "stderr",
     "output_type": "stream",
     "text": [
      "100%|█████████████████████████████████████████████████| 1563/1563 [00:32<00:00, 48.25it/s]\n"
     ]
    },
    {
     "name": "stdout",
     "output_type": "stream",
     "text": [
      "[Train] 93 Loss: 0.138 | Acc: 95.016 47508/50000\n"
     ]
    },
    {
     "name": "stderr",
     "output_type": "stream",
     "text": [
      "100%|██████████████████████████████████████████████████| 313/313 [00:02<00:00, 133.17it/s]\n"
     ]
    },
    {
     "name": "stdout",
     "output_type": "stream",
     "text": [
      "[Test] 93 Loss: 0.895 | Acc: 80.270 8027/10000\n"
     ]
    },
    {
     "name": "stderr",
     "output_type": "stream",
     "text": [
      "100%|█████████████████████████████████████████████████| 1563/1563 [00:32<00:00, 48.47it/s]\n"
     ]
    },
    {
     "name": "stdout",
     "output_type": "stream",
     "text": [
      "[Train] 94 Loss: 0.133 | Acc: 95.270 47635/50000\n"
     ]
    },
    {
     "name": "stderr",
     "output_type": "stream",
     "text": [
      "100%|██████████████████████████████████████████████████| 313/313 [00:02<00:00, 132.28it/s]\n"
     ]
    },
    {
     "name": "stdout",
     "output_type": "stream",
     "text": [
      "[Test] 94 Loss: 0.882 | Acc: 80.170 8017/10000\n"
     ]
    },
    {
     "name": "stderr",
     "output_type": "stream",
     "text": [
      "100%|█████████████████████████████████████████████████| 1563/1563 [00:32<00:00, 48.65it/s]\n"
     ]
    },
    {
     "name": "stdout",
     "output_type": "stream",
     "text": [
      "[Train] 95 Loss: 0.135 | Acc: 95.266 47633/50000\n"
     ]
    },
    {
     "name": "stderr",
     "output_type": "stream",
     "text": [
      "100%|██████████████████████████████████████████████████| 313/313 [00:02<00:00, 133.21it/s]\n"
     ]
    },
    {
     "name": "stdout",
     "output_type": "stream",
     "text": [
      "[Test] 95 Loss: 0.939 | Acc: 79.630 7963/10000\n"
     ]
    },
    {
     "name": "stderr",
     "output_type": "stream",
     "text": [
      "100%|█████████████████████████████████████████████████| 1563/1563 [00:32<00:00, 48.63it/s]\n"
     ]
    },
    {
     "name": "stdout",
     "output_type": "stream",
     "text": [
      "[Train] 96 Loss: 0.128 | Acc: 95.344 47672/50000\n"
     ]
    },
    {
     "name": "stderr",
     "output_type": "stream",
     "text": [
      "100%|██████████████████████████████████████████████████| 313/313 [00:02<00:00, 133.23it/s]\n"
     ]
    },
    {
     "name": "stdout",
     "output_type": "stream",
     "text": [
      "[Test] 96 Loss: 0.947 | Acc: 79.780 7978/10000\n"
     ]
    },
    {
     "name": "stderr",
     "output_type": "stream",
     "text": [
      "100%|█████████████████████████████████████████████████| 1563/1563 [00:32<00:00, 48.77it/s]\n"
     ]
    },
    {
     "name": "stdout",
     "output_type": "stream",
     "text": [
      "[Train] 101 Loss: 0.112 | Acc: 95.856 47928/50000\n"
     ]
    },
    {
     "name": "stderr",
     "output_type": "stream",
     "text": [
      "100%|██████████████████████████████████████████████████| 313/313 [00:02<00:00, 131.27it/s]\n"
     ]
    },
    {
     "name": "stdout",
     "output_type": "stream",
     "text": [
      "[Test] 101 Loss: 0.974 | Acc: 79.680 7968/10000\n"
     ]
    },
    {
     "name": "stderr",
     "output_type": "stream",
     "text": [
      "100%|█████████████████████████████████████████████████| 1563/1563 [00:33<00:00, 47.24it/s]\n"
     ]
    },
    {
     "name": "stdout",
     "output_type": "stream",
     "text": [
      "[Train] 102 Loss: 0.110 | Acc: 96.094 48047/50000\n"
     ]
    },
    {
     "name": "stderr",
     "output_type": "stream",
     "text": [
      "100%|██████████████████████████████████████████████████| 313/313 [00:02<00:00, 131.99it/s]\n"
     ]
    },
    {
     "name": "stdout",
     "output_type": "stream",
     "text": [
      "[Test] 102 Loss: 0.985 | Acc: 79.870 7987/10000\n"
     ]
    },
    {
     "name": "stderr",
     "output_type": "stream",
     "text": [
      "100%|█████████████████████████████████████████████████| 1563/1563 [00:32<00:00, 47.94it/s]\n"
     ]
    },
    {
     "name": "stdout",
     "output_type": "stream",
     "text": [
      "[Train] 103 Loss: 0.110 | Acc: 96.150 48075/50000\n"
     ]
    },
    {
     "name": "stderr",
     "output_type": "stream",
     "text": [
      "100%|██████████████████████████████████████████████████| 313/313 [00:02<00:00, 131.64it/s]\n"
     ]
    },
    {
     "name": "stdout",
     "output_type": "stream",
     "text": [
      "[Test] 103 Loss: 0.990 | Acc: 79.730 7973/10000\n"
     ]
    },
    {
     "name": "stderr",
     "output_type": "stream",
     "text": [
      "100%|█████████████████████████████████████████████████| 1563/1563 [00:32<00:00, 47.53it/s]\n"
     ]
    },
    {
     "name": "stdout",
     "output_type": "stream",
     "text": [
      "[Train] 104 Loss: 0.109 | Acc: 96.100 48050/50000\n"
     ]
    },
    {
     "name": "stderr",
     "output_type": "stream",
     "text": [
      "100%|██████████████████████████████████████████████████| 313/313 [00:02<00:00, 131.91it/s]\n"
     ]
    },
    {
     "name": "stdout",
     "output_type": "stream",
     "text": [
      "[Test] 104 Loss: 1.000 | Acc: 79.870 7987/10000\n"
     ]
    },
    {
     "name": "stderr",
     "output_type": "stream",
     "text": [
      "100%|█████████████████████████████████████████████████| 1563/1563 [00:32<00:00, 48.18it/s]\n"
     ]
    },
    {
     "name": "stdout",
     "output_type": "stream",
     "text": [
      "[Train] 105 Loss: 0.106 | Acc: 96.166 48083/50000\n"
     ]
    },
    {
     "name": "stderr",
     "output_type": "stream",
     "text": [
      "100%|██████████████████████████████████████████████████| 313/313 [00:02<00:00, 131.88it/s]\n"
     ]
    },
    {
     "name": "stdout",
     "output_type": "stream",
     "text": [
      "[Test] 105 Loss: 0.984 | Acc: 79.880 7988/10000\n"
     ]
    },
    {
     "name": "stderr",
     "output_type": "stream",
     "text": [
      "100%|█████████████████████████████████████████████████| 1563/1563 [00:32<00:00, 48.50it/s]\n"
     ]
    },
    {
     "name": "stdout",
     "output_type": "stream",
     "text": [
      "[Train] 106 Loss: 0.102 | Acc: 96.394 48197/50000\n"
     ]
    },
    {
     "name": "stderr",
     "output_type": "stream",
     "text": [
      "100%|██████████████████████████████████████████████████| 313/313 [00:02<00:00, 132.59it/s]\n"
     ]
    },
    {
     "name": "stdout",
     "output_type": "stream",
     "text": [
      "[Test] 106 Loss: 1.004 | Acc: 79.860 7986/10000\n"
     ]
    },
    {
     "name": "stderr",
     "output_type": "stream",
     "text": [
      "100%|█████████████████████████████████████████████████| 1563/1563 [00:32<00:00, 48.29it/s]\n"
     ]
    },
    {
     "name": "stdout",
     "output_type": "stream",
     "text": [
      "[Train] 107 Loss: 0.099 | Acc: 96.490 48245/50000\n"
     ]
    },
    {
     "name": "stderr",
     "output_type": "stream",
     "text": [
      "100%|██████████████████████████████████████████████████| 313/313 [00:02<00:00, 131.53it/s]\n"
     ]
    },
    {
     "name": "stdout",
     "output_type": "stream",
     "text": [
      "[Test] 107 Loss: 0.981 | Acc: 80.110 8011/10000\n"
     ]
    },
    {
     "name": "stderr",
     "output_type": "stream",
     "text": [
      "100%|█████████████████████████████████████████████████| 1563/1563 [00:32<00:00, 48.02it/s]\n"
     ]
    },
    {
     "name": "stdout",
     "output_type": "stream",
     "text": [
      "[Train] 108 Loss: 0.100 | Acc: 96.474 48237/50000\n"
     ]
    },
    {
     "name": "stderr",
     "output_type": "stream",
     "text": [
      "100%|██████████████████████████████████████████████████| 313/313 [00:02<00:00, 131.90it/s]\n"
     ]
    },
    {
     "name": "stdout",
     "output_type": "stream",
     "text": [
      "[Test] 108 Loss: 1.004 | Acc: 80.140 8014/10000\n"
     ]
    },
    {
     "name": "stderr",
     "output_type": "stream",
     "text": [
      " 91%|████████████████████████████████████████████▌    | 1421/1563 [00:29<00:02, 48.76it/s]IOPub message rate exceeded.\n",
      "The notebook server will temporarily stop sending output\n",
      "to the client in order to avoid crashing it.\n",
      "To change this limit, set the config variable\n",
      "`--NotebookApp.iopub_msg_rate_limit`.\n",
      "\n",
      "Current values:\n",
      "NotebookApp.iopub_msg_rate_limit=1000.0 (msgs/sec)\n",
      "NotebookApp.rate_limit_window=3.0 (secs)\n",
      "\n",
      "100%|█████████████████████████████████████████████████| 1563/1563 [00:32<00:00, 47.85it/s]\n"
     ]
    },
    {
     "name": "stdout",
     "output_type": "stream",
     "text": [
      "[Train] 155 Loss: 0.030 | Acc: 98.988 49494/50000\n"
     ]
    },
    {
     "name": "stderr",
     "output_type": "stream",
     "text": [
      "100%|██████████████████████████████████████████████████| 313/313 [00:02<00:00, 131.95it/s]\n"
     ]
    },
    {
     "name": "stdout",
     "output_type": "stream",
     "text": [
      "[Test] 155 Loss: 1.265 | Acc: 80.430 8043/10000\n"
     ]
    },
    {
     "name": "stderr",
     "output_type": "stream",
     "text": [
      "100%|█████████████████████████████████████████████████| 1563/1563 [00:32<00:00, 48.18it/s]\n"
     ]
    },
    {
     "name": "stdout",
     "output_type": "stream",
     "text": [
      "[Train] 156 Loss: 0.030 | Acc: 98.974 49487/50000\n"
     ]
    },
    {
     "name": "stderr",
     "output_type": "stream",
     "text": [
      "100%|██████████████████████████████████████████████████| 313/313 [00:02<00:00, 133.18it/s]\n"
     ]
    },
    {
     "name": "stdout",
     "output_type": "stream",
     "text": [
      "[Test] 156 Loss: 1.258 | Acc: 80.260 8026/10000\n"
     ]
    },
    {
     "name": "stderr",
     "output_type": "stream",
     "text": [
      "100%|█████████████████████████████████████████████████| 1563/1563 [00:32<00:00, 48.52it/s]\n"
     ]
    },
    {
     "name": "stdout",
     "output_type": "stream",
     "text": [
      "[Train] 157 Loss: 0.029 | Acc: 99.050 49525/50000\n"
     ]
    },
    {
     "name": "stderr",
     "output_type": "stream",
     "text": [
      "100%|██████████████████████████████████████████████████| 313/313 [00:02<00:00, 132.35it/s]\n"
     ]
    },
    {
     "name": "stdout",
     "output_type": "stream",
     "text": [
      "[Test] 157 Loss: 1.246 | Acc: 80.280 8028/10000\n"
     ]
    },
    {
     "name": "stderr",
     "output_type": "stream",
     "text": [
      "100%|█████████████████████████████████████████████████| 1563/1563 [00:32<00:00, 48.07it/s]\n"
     ]
    },
    {
     "name": "stdout",
     "output_type": "stream",
     "text": [
      "[Train] 158 Loss: 0.030 | Acc: 98.982 49491/50000\n"
     ]
    },
    {
     "name": "stderr",
     "output_type": "stream",
     "text": [
      "100%|██████████████████████████████████████████████████| 313/313 [00:02<00:00, 133.25it/s]\n"
     ]
    },
    {
     "name": "stdout",
     "output_type": "stream",
     "text": [
      "[Test] 158 Loss: 1.253 | Acc: 80.180 8018/10000\n"
     ]
    },
    {
     "name": "stderr",
     "output_type": "stream",
     "text": [
      "100%|█████████████████████████████████████████████████| 1563/1563 [00:32<00:00, 48.18it/s]\n"
     ]
    },
    {
     "name": "stdout",
     "output_type": "stream",
     "text": [
      "[Train] 159 Loss: 0.029 | Acc: 99.048 49524/50000\n"
     ]
    },
    {
     "name": "stderr",
     "output_type": "stream",
     "text": [
      "100%|██████████████████████████████████████████████████| 313/313 [00:02<00:00, 131.93it/s]\n"
     ]
    },
    {
     "name": "stdout",
     "output_type": "stream",
     "text": [
      "[Test] 159 Loss: 1.259 | Acc: 79.960 7996/10000\n"
     ]
    },
    {
     "name": "stderr",
     "output_type": "stream",
     "text": [
      "100%|█████████████████████████████████████████████████| 1563/1563 [00:32<00:00, 48.08it/s]\n"
     ]
    },
    {
     "name": "stdout",
     "output_type": "stream",
     "text": [
      "[Train] 160 Loss: 0.028 | Acc: 99.104 49552/50000\n"
     ]
    },
    {
     "name": "stderr",
     "output_type": "stream",
     "text": [
      "100%|██████████████████████████████████████████████████| 313/313 [00:02<00:00, 131.83it/s]\n"
     ]
    },
    {
     "name": "stdout",
     "output_type": "stream",
     "text": [
      "[Test] 160 Loss: 1.271 | Acc: 80.260 8026/10000\n"
     ]
    },
    {
     "name": "stderr",
     "output_type": "stream",
     "text": [
      "100%|█████████████████████████████████████████████████| 1563/1563 [00:32<00:00, 47.73it/s]\n"
     ]
    },
    {
     "name": "stdout",
     "output_type": "stream",
     "text": [
      "[Train] 161 Loss: 0.029 | Acc: 99.048 49524/50000\n"
     ]
    },
    {
     "name": "stderr",
     "output_type": "stream",
     "text": [
      "100%|██████████████████████████████████████████████████| 313/313 [00:02<00:00, 132.66it/s]\n"
     ]
    },
    {
     "name": "stdout",
     "output_type": "stream",
     "text": [
      "[Test] 161 Loss: 1.272 | Acc: 80.090 8009/10000\n"
     ]
    },
    {
     "name": "stderr",
     "output_type": "stream",
     "text": [
      "100%|█████████████████████████████████████████████████| 1563/1563 [00:32<00:00, 48.31it/s]\n"
     ]
    },
    {
     "name": "stdout",
     "output_type": "stream",
     "text": [
      "[Train] 162 Loss: 0.028 | Acc: 99.074 49537/50000\n"
     ]
    },
    {
     "name": "stderr",
     "output_type": "stream",
     "text": [
      "100%|██████████████████████████████████████████████████| 313/313 [00:02<00:00, 132.93it/s]\n"
     ]
    },
    {
     "name": "stdout",
     "output_type": "stream",
     "text": [
      "[Test] 162 Loss: 1.284 | Acc: 80.160 8016/10000\n"
     ]
    },
    {
     "name": "stderr",
     "output_type": "stream",
     "text": [
      "100%|█████████████████████████████████████████████████| 1563/1563 [00:32<00:00, 48.15it/s]\n"
     ]
    },
    {
     "name": "stdout",
     "output_type": "stream",
     "text": [
      "[Train] 163 Loss: 0.027 | Acc: 99.120 49560/50000\n"
     ]
    },
    {
     "name": "stderr",
     "output_type": "stream",
     "text": [
      "100%|██████████████████████████████████████████████████| 313/313 [00:02<00:00, 132.28it/s]\n"
     ]
    },
    {
     "name": "stdout",
     "output_type": "stream",
     "text": [
      "[Test] 163 Loss: 1.288 | Acc: 79.980 7998/10000\n"
     ]
    },
    {
     "name": "stderr",
     "output_type": "stream",
     "text": [
      " 36%|█████████████████▉                                | 561/1563 [00:11<00:20, 48.97it/s]IOPub message rate exceeded.\n",
      "The notebook server will temporarily stop sending output\n",
      "to the client in order to avoid crashing it.\n",
      "To change this limit, set the config variable\n",
      "`--NotebookApp.iopub_msg_rate_limit`.\n",
      "\n",
      "Current values:\n",
      "NotebookApp.iopub_msg_rate_limit=1000.0 (msgs/sec)\n",
      "NotebookApp.rate_limit_window=3.0 (secs)\n",
      "\n"
     ]
    }
   ],
   "source": [
    "### Train the whole damn thing\n",
    "\n",
    "for epoch in range(start_epoch, start_epoch+EPOCHS): ## for 200 epochs\n",
    "    train(epoch)\n",
    "    test(epoch)\n",
    "    scheduler.step()"
   ]
  },
  {
   "cell_type": "code",
   "execution_count": 103,
   "id": "7846a79f",
   "metadata": {},
   "outputs": [
    {
     "data": {
      "text/plain": [
       "80.77"
      ]
     },
     "execution_count": 103,
     "metadata": {},
     "output_type": "execute_result"
    }
   ],
   "source": [
    "best_acc"
   ]
  },
  {
   "cell_type": "code",
   "execution_count": 23,
   "id": "f7803b1d",
   "metadata": {},
   "outputs": [
    {
     "data": {
      "text/plain": [
       "(82.57, 134)"
      ]
     },
     "execution_count": 23,
     "metadata": {},
     "output_type": "execute_result"
    }
   ],
   "source": [
    "checkpoint = torch.load(f'./models/{model_name}.pth')\n",
    "best_acc = checkpoint['acc']\n",
    "start_epoch = checkpoint['epoch']\n",
    "\n",
    "best_acc, start_epoch"
   ]
  },
  {
   "cell_type": "code",
   "execution_count": 26,
   "id": "d0c6a6aa",
   "metadata": {},
   "outputs": [],
   "source": [
    "# model.load_state_dict(checkpoint['model'])"
   ]
  },
  {
   "cell_type": "code",
   "execution_count": 27,
   "id": "c55759f1",
   "metadata": {},
   "outputs": [
    {
     "data": {
      "text/plain": [
       "ViT_Classifier(\n",
       "  (unfold): Unfold(kernel_size=[4, 4], dilation=1, padding=0, stride=[4, 4])\n",
       "  (channel_change): Linear(in_features=48, out_features=114, bias=True)\n",
       "  (transformer_blocks): Sequential(\n",
       "    (0): TransformerBlock(\n",
       "      (attention): SelfAttention(\n",
       "        (values): Linear(in_features=114, out_features=114, bias=True)\n",
       "        (keys): Linear(in_features=114, out_features=114, bias=True)\n",
       "        (queries): Linear(in_features=114, out_features=114, bias=True)\n",
       "        (fc_out): Linear(in_features=114, out_features=114, bias=True)\n",
       "      )\n",
       "      (norm1): LayerNorm((114,), eps=1e-05, elementwise_affine=True)\n",
       "      (norm2): LayerNorm((114,), eps=1e-05, elementwise_affine=True)\n",
       "      (feed_forward): Sequential(\n",
       "        (0): Linear(in_features=114, out_features=228, bias=True)\n",
       "        (1): GELU()\n",
       "        (2): Linear(in_features=228, out_features=114, bias=True)\n",
       "      )\n",
       "      (dropout): Dropout(p=0, inplace=False)\n",
       "    )\n",
       "    (1): TransformerBlock(\n",
       "      (attention): SelfAttention(\n",
       "        (values): Linear(in_features=114, out_features=114, bias=True)\n",
       "        (keys): Linear(in_features=114, out_features=114, bias=True)\n",
       "        (queries): Linear(in_features=114, out_features=114, bias=True)\n",
       "        (fc_out): Linear(in_features=114, out_features=114, bias=True)\n",
       "      )\n",
       "      (norm1): LayerNorm((114,), eps=1e-05, elementwise_affine=True)\n",
       "      (norm2): LayerNorm((114,), eps=1e-05, elementwise_affine=True)\n",
       "      (feed_forward): Sequential(\n",
       "        (0): Linear(in_features=114, out_features=228, bias=True)\n",
       "        (1): GELU()\n",
       "        (2): Linear(in_features=228, out_features=114, bias=True)\n",
       "      )\n",
       "      (dropout): Dropout(p=0, inplace=False)\n",
       "    )\n",
       "    (2): TransformerBlock(\n",
       "      (attention): SelfAttention(\n",
       "        (values): Linear(in_features=114, out_features=114, bias=True)\n",
       "        (keys): Linear(in_features=114, out_features=114, bias=True)\n",
       "        (queries): Linear(in_features=114, out_features=114, bias=True)\n",
       "        (fc_out): Linear(in_features=114, out_features=114, bias=True)\n",
       "      )\n",
       "      (norm1): LayerNorm((114,), eps=1e-05, elementwise_affine=True)\n",
       "      (norm2): LayerNorm((114,), eps=1e-05, elementwise_affine=True)\n",
       "      (feed_forward): Sequential(\n",
       "        (0): Linear(in_features=114, out_features=228, bias=True)\n",
       "        (1): GELU()\n",
       "        (2): Linear(in_features=228, out_features=114, bias=True)\n",
       "      )\n",
       "      (dropout): Dropout(p=0, inplace=False)\n",
       "    )\n",
       "    (3): TransformerBlock(\n",
       "      (attention): SelfAttention(\n",
       "        (values): Linear(in_features=114, out_features=114, bias=True)\n",
       "        (keys): Linear(in_features=114, out_features=114, bias=True)\n",
       "        (queries): Linear(in_features=114, out_features=114, bias=True)\n",
       "        (fc_out): Linear(in_features=114, out_features=114, bias=True)\n",
       "      )\n",
       "      (norm1): LayerNorm((114,), eps=1e-05, elementwise_affine=True)\n",
       "      (norm2): LayerNorm((114,), eps=1e-05, elementwise_affine=True)\n",
       "      (feed_forward): Sequential(\n",
       "        (0): Linear(in_features=114, out_features=228, bias=True)\n",
       "        (1): GELU()\n",
       "        (2): Linear(in_features=228, out_features=114, bias=True)\n",
       "      )\n",
       "      (dropout): Dropout(p=0, inplace=False)\n",
       "    )\n",
       "    (4): TransformerBlock(\n",
       "      (attention): SelfAttention(\n",
       "        (values): Linear(in_features=114, out_features=114, bias=True)\n",
       "        (keys): Linear(in_features=114, out_features=114, bias=True)\n",
       "        (queries): Linear(in_features=114, out_features=114, bias=True)\n",
       "        (fc_out): Linear(in_features=114, out_features=114, bias=True)\n",
       "      )\n",
       "      (norm1): LayerNorm((114,), eps=1e-05, elementwise_affine=True)\n",
       "      (norm2): LayerNorm((114,), eps=1e-05, elementwise_affine=True)\n",
       "      (feed_forward): Sequential(\n",
       "        (0): Linear(in_features=114, out_features=228, bias=True)\n",
       "        (1): GELU()\n",
       "        (2): Linear(in_features=228, out_features=114, bias=True)\n",
       "      )\n",
       "      (dropout): Dropout(p=0, inplace=False)\n",
       "    )\n",
       "    (5): TransformerBlock(\n",
       "      (attention): SelfAttention(\n",
       "        (values): Linear(in_features=114, out_features=114, bias=True)\n",
       "        (keys): Linear(in_features=114, out_features=114, bias=True)\n",
       "        (queries): Linear(in_features=114, out_features=114, bias=True)\n",
       "        (fc_out): Linear(in_features=114, out_features=114, bias=True)\n",
       "      )\n",
       "      (norm1): LayerNorm((114,), eps=1e-05, elementwise_affine=True)\n",
       "      (norm2): LayerNorm((114,), eps=1e-05, elementwise_affine=True)\n",
       "      (feed_forward): Sequential(\n",
       "        (0): Linear(in_features=114, out_features=228, bias=True)\n",
       "        (1): GELU()\n",
       "        (2): Linear(in_features=228, out_features=114, bias=True)\n",
       "      )\n",
       "      (dropout): Dropout(p=0, inplace=False)\n",
       "    )\n",
       "    (6): TransformerBlock(\n",
       "      (attention): SelfAttention(\n",
       "        (values): Linear(in_features=114, out_features=114, bias=True)\n",
       "        (keys): Linear(in_features=114, out_features=114, bias=True)\n",
       "        (queries): Linear(in_features=114, out_features=114, bias=True)\n",
       "        (fc_out): Linear(in_features=114, out_features=114, bias=True)\n",
       "      )\n",
       "      (norm1): LayerNorm((114,), eps=1e-05, elementwise_affine=True)\n",
       "      (norm2): LayerNorm((114,), eps=1e-05, elementwise_affine=True)\n",
       "      (feed_forward): Sequential(\n",
       "        (0): Linear(in_features=114, out_features=228, bias=True)\n",
       "        (1): GELU()\n",
       "        (2): Linear(in_features=228, out_features=114, bias=True)\n",
       "      )\n",
       "      (dropout): Dropout(p=0, inplace=False)\n",
       "    )\n",
       "    (7): TransformerBlock(\n",
       "      (attention): SelfAttention(\n",
       "        (values): Linear(in_features=114, out_features=114, bias=True)\n",
       "        (keys): Linear(in_features=114, out_features=114, bias=True)\n",
       "        (queries): Linear(in_features=114, out_features=114, bias=True)\n",
       "        (fc_out): Linear(in_features=114, out_features=114, bias=True)\n",
       "      )\n",
       "      (norm1): LayerNorm((114,), eps=1e-05, elementwise_affine=True)\n",
       "      (norm2): LayerNorm((114,), eps=1e-05, elementwise_affine=True)\n",
       "      (feed_forward): Sequential(\n",
       "        (0): Linear(in_features=114, out_features=228, bias=True)\n",
       "        (1): GELU()\n",
       "        (2): Linear(in_features=228, out_features=114, bias=True)\n",
       "      )\n",
       "      (dropout): Dropout(p=0, inplace=False)\n",
       "    )\n",
       "    (8): TransformerBlock(\n",
       "      (attention): SelfAttention(\n",
       "        (values): Linear(in_features=114, out_features=114, bias=True)\n",
       "        (keys): Linear(in_features=114, out_features=114, bias=True)\n",
       "        (queries): Linear(in_features=114, out_features=114, bias=True)\n",
       "        (fc_out): Linear(in_features=114, out_features=114, bias=True)\n",
       "      )\n",
       "      (norm1): LayerNorm((114,), eps=1e-05, elementwise_affine=True)\n",
       "      (norm2): LayerNorm((114,), eps=1e-05, elementwise_affine=True)\n",
       "      (feed_forward): Sequential(\n",
       "        (0): Linear(in_features=114, out_features=228, bias=True)\n",
       "        (1): GELU()\n",
       "        (2): Linear(in_features=228, out_features=114, bias=True)\n",
       "      )\n",
       "      (dropout): Dropout(p=0, inplace=False)\n",
       "    )\n",
       "    (9): TransformerBlock(\n",
       "      (attention): SelfAttention(\n",
       "        (values): Linear(in_features=114, out_features=114, bias=True)\n",
       "        (keys): Linear(in_features=114, out_features=114, bias=True)\n",
       "        (queries): Linear(in_features=114, out_features=114, bias=True)\n",
       "        (fc_out): Linear(in_features=114, out_features=114, bias=True)\n",
       "      )\n",
       "      (norm1): LayerNorm((114,), eps=1e-05, elementwise_affine=True)\n",
       "      (norm2): LayerNorm((114,), eps=1e-05, elementwise_affine=True)\n",
       "      (feed_forward): Sequential(\n",
       "        (0): Linear(in_features=114, out_features=228, bias=True)\n",
       "        (1): GELU()\n",
       "        (2): Linear(in_features=228, out_features=114, bias=True)\n",
       "      )\n",
       "      (dropout): Dropout(p=0, inplace=False)\n",
       "    )\n",
       "  )\n",
       "  (linear): Linear(in_features=7296, out_features=10, bias=True)\n",
       "  (positional_encoding): PositionalEncoding(\n",
       "    (dropout): Dropout(p=0, inplace=False)\n",
       "  )\n",
       ")"
      ]
     },
     "execution_count": 27,
     "metadata": {},
     "output_type": "execute_result"
    }
   ],
   "source": [
    "model"
   ]
  },
  {
   "cell_type": "code",
   "execution_count": 30,
   "id": "a9bf1676",
   "metadata": {},
   "outputs": [],
   "source": [
    "with open(f\"./output/{model_name}_data.json\", 'r') as f:\n",
    "    STAT = json.load(f)"
   ]
  },
  {
   "cell_type": "code",
   "execution_count": 31,
   "id": "13a339d0",
   "metadata": {},
   "outputs": [
    {
     "data": {
      "text/plain": [
       "{'train_stat': [[0, 1.642148034243117, 40.504],\n",
       "  [1, 1.3360155291917304, 52.064],\n",
       "  [2, 1.1738207881563532, 57.928],\n",
       "  [3, 1.0729801917182888, 61.644],\n",
       "  [4, 1.005956947593756, 64.344],\n",
       "  [5, 0.9521961719922659, 66.352],\n",
       "  [6, 0.9087982806195377, 67.856],\n",
       "  [7, 0.8690093296960768, 69.41],\n",
       "  [8, 0.8345030750114034, 70.37],\n",
       "  [9, 0.8016621635193559, 71.708],\n",
       "  [10, 0.7780294911417531, 72.384],\n",
       "  [11, 0.7444572585634291, 73.708],\n",
       "  [12, 0.7320323090330577, 74.372],\n",
       "  [13, 0.7082787046276905, 74.866],\n",
       "  [14, 0.6877045415661233, 75.868],\n",
       "  [15, 0.6745444877419957, 76.356],\n",
       "  [16, 0.6557341940362562, 76.69],\n",
       "  [17, 0.6341310231848093, 77.694],\n",
       "  [18, 0.6230318365345685, 77.974],\n",
       "  [19, 0.611191966264048, 78.308],\n",
       "  [20, 0.5931708391515094, 78.836],\n",
       "  [21, 0.5810686818926439, 79.548],\n",
       "  [22, 0.5682845912010945, 79.882],\n",
       "  [23, 0.5576858631289318, 80.13],\n",
       "  [24, 0.5451882216824375, 80.708],\n",
       "  [25, 0.5356791370565588, 80.94],\n",
       "  [26, 0.5244821695776529, 81.208],\n",
       "  [27, 0.5157746530578293, 81.772],\n",
       "  [28, 0.5013259598176142, 82.154],\n",
       "  [29, 0.48737811232825845, 82.65],\n",
       "  [30, 0.4783150998593063, 82.906],\n",
       "  [31, 0.47531845801469996, 83.446],\n",
       "  [32, 0.45965312233508127, 83.646],\n",
       "  [33, 0.4553797600060339, 83.748],\n",
       "  [34, 0.44638474645022774, 84.134],\n",
       "  [35, 0.43996713356718525, 84.232],\n",
       "  [36, 0.4301698127390861, 84.644],\n",
       "  [37, 0.42133803481637705, 85.04],\n",
       "  [38, 0.4119434307400264, 85.294],\n",
       "  [39, 0.41075307299559954, 85.518],\n",
       "  [40, 0.39464351288159155, 86.034],\n",
       "  [41, 0.3876117556567422, 86.32],\n",
       "  [42, 0.37928219407472713, 86.404],\n",
       "  [43, 0.37377232507643454, 86.596],\n",
       "  [44, 0.36682848697403114, 86.832],\n",
       "  [45, 0.36025857546927453, 87.008],\n",
       "  [46, 0.35190264609900335, 87.39],\n",
       "  [47, 0.34575743611928217, 87.68],\n",
       "  [48, 0.3398906068396126, 87.732],\n",
       "  [49, 0.3346470707428051, 87.872],\n",
       "  [50, 0.321959285576776, 88.55],\n",
       "  [51, 0.32154018246233274, 88.338],\n",
       "  [52, 0.3103970530647272, 88.826],\n",
       "  [53, 0.30869248202898836, 88.982],\n",
       "  [54, 0.2989703543264936, 89.37],\n",
       "  [55, 0.2938362819119401, 89.514],\n",
       "  [56, 0.28471850888876293, 89.72],\n",
       "  [57, 0.28500877338046265, 89.676],\n",
       "  [58, 0.27391670936490964, 90.16],\n",
       "  [59, 0.2681195081884348, 90.366],\n",
       "  [60, 0.2667728835980212, 90.358],\n",
       "  [61, 0.25826467135807907, 90.798],\n",
       "  [62, 0.2528262051336005, 90.808],\n",
       "  [63, 0.250722469099376, 90.956],\n",
       "  [64, 0.24360978830264915, 91.248],\n",
       "  [65, 0.23710581843317585, 91.432],\n",
       "  [66, 0.2289721120496877, 91.756],\n",
       "  [67, 0.22864531840049374, 91.698],\n",
       "  [68, 0.22516130722024771, 92.028],\n",
       "  [69, 0.2179911638564184, 92.048],\n",
       "  [70, 0.21573448729101313, 92.13],\n",
       "  [71, 0.20968794419894368, 92.33],\n",
       "  [72, 0.20520591554461345, 92.73],\n",
       "  [73, 0.1995003868683324, 92.802],\n",
       "  [74, 0.19733204859680117, 92.92],\n",
       "  [75, 0.19182469463065238, 93.114],\n",
       "  [76, 0.18818217539839252, 93.078],\n",
       "  [77, 0.18278090402475597, 93.288],\n",
       "  [78, 0.17692270698425047, 93.598],\n",
       "  [79, 0.1747515145242357, 93.614],\n",
       "  [80, 0.17064352975103597, 93.856],\n",
       "  [81, 0.16617191042655738, 93.942],\n",
       "  [82, 0.16262207194621736, 94.04],\n",
       "  [83, 0.1594737833085746, 94.274],\n",
       "  [84, 0.15380618668945478, 94.484],\n",
       "  [85, 0.1507106219306326, 94.55],\n",
       "  [86, 0.14614285409995142, 94.794],\n",
       "  [87, 0.14551123495136822, 94.674],\n",
       "  [88, 0.14437930932002152, 94.854],\n",
       "  [89, 0.1377237450035905, 94.966],\n",
       "  [90, 0.13405693324684373, 95.196],\n",
       "  [91, 0.13455594485561273, 95.054],\n",
       "  [92, 0.12618184210202268, 95.34],\n",
       "  [93, 0.1269682359563512, 95.416],\n",
       "  [94, 0.12429910799683866, 95.484],\n",
       "  [95, 0.12309787354073937, 95.506],\n",
       "  [96, 0.11969118250411193, 95.6],\n",
       "  [97, 0.11472567423769367, 95.886],\n",
       "  [98, 0.11328755346602347, 95.84],\n",
       "  [99, 0.10794731755133168, 96.07],\n",
       "  [100, 0.10646330548425921, 96.144],\n",
       "  [101, 0.10515859645421326, 96.216],\n",
       "  [102, 0.10501606894525331, 96.232],\n",
       "  [103, 0.10091976169213743, 96.374],\n",
       "  [104, 0.09915734242000787, 96.4],\n",
       "  [105, 0.09256443556692208, 96.672],\n",
       "  [106, 0.09365196524374723, 96.56],\n",
       "  [107, 0.09175404747030433, 96.68],\n",
       "  [108, 0.09047117526657875, 96.766],\n",
       "  [109, 0.08865352781395346, 96.756],\n",
       "  [110, 0.08630178610198987, 96.936],\n",
       "  [111, 0.08266786454873779, 97.088],\n",
       "  [112, 0.07702243338097411, 97.2],\n",
       "  [113, 0.07773945772427808, 97.2],\n",
       "  [114, 0.08053089229906037, 97.108],\n",
       "  [115, 0.0752444969334801, 97.26],\n",
       "  [116, 0.0702913068926858, 97.416],\n",
       "  [117, 0.07089356924910682, 97.474],\n",
       "  [118, 0.06740678823705713, 97.564],\n",
       "  [119, 0.06947307925564383, 97.494],\n",
       "  [120, 0.06665312292165125, 97.598],\n",
       "  [121, 0.06800640245553366, 97.6],\n",
       "  [122, 0.06270854002467648, 97.766],\n",
       "  [123, 0.06098624588045758, 97.812],\n",
       "  [124, 0.05984289801985822, 97.896],\n",
       "  [125, 0.05719347559550946, 97.948],\n",
       "  [126, 0.05707978469055082, 97.932],\n",
       "  [127, 0.056109431804969946, 97.99],\n",
       "  [128, 0.053825586699429, 98.098],\n",
       "  [129, 0.05118996672712443, 98.164],\n",
       "  [130, 0.04999646581509401, 98.136],\n",
       "  [131, 0.05095417407186826, 98.204],\n",
       "  [132, 0.04713147844444729, 98.372],\n",
       "  [133, 0.045899890684494384, 98.464],\n",
       "  [134, 0.048695702429794395, 98.304],\n",
       "  [135, 0.04591984907213583, 98.38],\n",
       "  [136, 0.044072245659323925, 98.466],\n",
       "  [137, 0.04078350425884068, 98.54],\n",
       "  [138, 0.04151788291304851, 98.556],\n",
       "  [139, 0.039889010529280226, 98.668],\n",
       "  [140, 0.041384411440113594, 98.582],\n",
       "  [141, 0.041147952969685035, 98.558],\n",
       "  [142, 0.038587738907997576, 98.636],\n",
       "  [143, 0.03809752298580239, 98.62],\n",
       "  [144, 0.03842421357781133, 98.698],\n",
       "  [145, 0.033643053002198636, 98.836],\n",
       "  [146, 0.033822207194788, 98.856],\n",
       "  [147, 0.03422796061659552, 98.848],\n",
       "  [148, 0.03141881858996504, 98.934],\n",
       "  [149, 0.03254208382185485, 98.928],\n",
       "  [150, 0.03039940404378355, 98.952],\n",
       "  [151, 0.030396064442408662, 98.992],\n",
       "  [152, 0.029315986443635048, 98.974],\n",
       "  [153, 0.029454065026843952, 98.97],\n",
       "  [154, 0.030041045698165056, 98.968],\n",
       "  [155, 0.028512272426329126, 99.038],\n",
       "  [156, 0.025648512350582568, 99.112],\n",
       "  [157, 0.026416303567325484, 99.1],\n",
       "  [158, 0.02563677001989927, 99.138],\n",
       "  [159, 0.025418289750259546, 99.156],\n",
       "  [160, 0.024664359285188342, 99.178],\n",
       "  [161, 0.023414269960476835, 99.238],\n",
       "  [162, 0.02407154905521637, 99.202],\n",
       "  [163, 0.02490216165600998, 99.176],\n",
       "  [164, 0.023576223562831764, 99.208],\n",
       "  [165, 0.022337543276317807, 99.304],\n",
       "  [166, 0.021605868663918174, 99.31],\n",
       "  [167, 0.023093925347478787, 99.288],\n",
       "  [168, 0.02022030028152377, 99.358],\n",
       "  [169, 0.019477627965706113, 99.378],\n",
       "  [170, 0.01806920179018258, 99.394],\n",
       "  [171, 0.019419507355387635, 99.402],\n",
       "  [172, 0.019731945374470126, 99.394],\n",
       "  [173, 0.019630955773733562, 99.39],\n",
       "  [174, 0.020412231078652015, 99.312],\n",
       "  [175, 0.019585230065384658, 99.344],\n",
       "  [176, 0.01720218460310883, 99.458],\n",
       "  [177, 0.018316101548037377, 99.426],\n",
       "  [178, 0.018661760216802027, 99.428],\n",
       "  [179, 0.017547106067625814, 99.462],\n",
       "  [180, 0.016819267977380713, 99.51],\n",
       "  [181, 0.01720747646574549, 99.45],\n",
       "  [182, 0.01683817517012879, 99.462],\n",
       "  [183, 0.017487391276904258, 99.458],\n",
       "  [184, 0.015475854549688766, 99.52],\n",
       "  [185, 0.0166627996062399, 99.5],\n",
       "  [186, 0.016347254573147108, 99.518],\n",
       "  [187, 0.016300422700333675, 99.488],\n",
       "  [188, 0.01599583098716384, 99.506],\n",
       "  [189, 0.016618107595656458, 99.474],\n",
       "  [190, 0.015454124496971049, 99.544],\n",
       "  [191, 0.015635687244772593, 99.556],\n",
       "  [192, 0.015336820476441946, 99.54],\n",
       "  [193, 0.014946809271401709, 99.564],\n",
       "  [194, 0.015731975510971913, 99.52],\n",
       "  [195, 0.015788700170372382, 99.522],\n",
       "  [196, 0.016039065431864875, 99.508],\n",
       "  [197, 0.015188056087461451, 99.516],\n",
       "  [198, 0.015213458461343272, 99.54],\n",
       "  [199, 0.015278750481073562, 99.54]],\n",
       " 'test_stat': [[0, 1.3282359971786841, 52.5],\n",
       "  [1, 1.1450002844722127, 59.35],\n",
       "  [2, 1.0672263933446842, 62.73],\n",
       "  [3, 0.9413381263661308, 67.02],\n",
       "  [4, 0.9587459846045643, 66.39],\n",
       "  [5, 0.8960182630596831, 69.11],\n",
       "  [6, 0.86935132084944, 69.78],\n",
       "  [7, 0.8075392439532966, 71.71],\n",
       "  [8, 0.8138989748094029, 72.02],\n",
       "  [9, 0.7875523792859465, 72.54],\n",
       "  [10, 0.7417607823499857, 73.85],\n",
       "  [11, 0.7385056124518092, 74.34],\n",
       "  [12, 0.7195348482543287, 74.46],\n",
       "  [13, 0.7156282451967843, 75.01],\n",
       "  [14, 0.6837693752762609, 75.97],\n",
       "  [15, 0.726037870771207, 74.72],\n",
       "  [16, 0.6861364812896655, 76.36],\n",
       "  [17, 0.667642401811033, 76.84],\n",
       "  [18, 0.6540549381758077, 77.33],\n",
       "  [19, 0.6584204692429247, 77.42],\n",
       "  [20, 0.7061211007376449, 76.21],\n",
       "  [21, 0.6431309232791773, 78.37],\n",
       "  [22, 0.5988447049650522, 79.29],\n",
       "  [23, 0.617618915943292, 79.07],\n",
       "  [24, 0.6184279705864933, 78.98],\n",
       "  [25, 0.5961725901776609, 80.14],\n",
       "  [26, 0.5960013951642064, 79.56],\n",
       "  [27, 0.6031672480864266, 79.65],\n",
       "  [28, 0.5865709400786379, 79.86],\n",
       "  [29, 0.6038487209393956, 79.64],\n",
       "  [30, 0.6377162717687436, 78.85],\n",
       "  [31, 0.5942476189936312, 79.95],\n",
       "  [32, 0.6097720238252189, 79.93],\n",
       "  [33, 0.6105793292958516, 79.37],\n",
       "  [34, 0.5869719935491824, 79.99],\n",
       "  [35, 0.5790463659329156, 80.47],\n",
       "  [36, 0.5978319067448473, 80.42],\n",
       "  [37, 0.5936173264877483, 80.56],\n",
       "  [38, 0.6014601374967411, 80.29],\n",
       "  [39, 0.611629070517735, 80.0],\n",
       "  [40, 0.5670625697404813, 81.26],\n",
       "  [41, 0.5883030851904195, 81.66],\n",
       "  [42, 0.5845928169763126, 81.15],\n",
       "  [43, 0.6104758356135493, 80.71],\n",
       "  [44, 0.603046334922885, 81.1],\n",
       "  [45, 0.5892554253530198, 81.15],\n",
       "  [46, 0.6204180777453767, 80.61],\n",
       "  [47, 0.6108100960810725, 80.96],\n",
       "  [48, 0.6031062501116683, 81.13],\n",
       "  [49, 0.6080605645244495, 81.24],\n",
       "  [50, 0.5879374474477463, 81.49],\n",
       "  [51, 0.6121755067151956, 81.37],\n",
       "  [52, 0.613234852925657, 81.07],\n",
       "  [53, 0.6252484154015684, 80.65],\n",
       "  [54, 0.6149980446305899, 81.59],\n",
       "  [55, 0.6286759032799413, 81.62],\n",
       "  [56, 0.6196484252477226, 81.6],\n",
       "  [57, 0.6356492584791428, 81.35],\n",
       "  [58, 0.6468353919185008, 81.12],\n",
       "  [59, 0.6251339174497622, 82.0],\n",
       "  [60, 0.6348383806574459, 81.45],\n",
       "  [61, 0.6136624485301895, 82.23],\n",
       "  [62, 0.64695811426392, 81.31],\n",
       "  [63, 0.6627035528992693, 81.32],\n",
       "  [64, 0.6684785775673656, 80.76],\n",
       "  [65, 0.6704116767873398, 81.15],\n",
       "  [66, 0.709305856936275, 81.29],\n",
       "  [67, 0.6886087997367207, 81.09],\n",
       "  [68, 0.6731971178096704, 81.49],\n",
       "  [69, 0.6781898835739388, 81.58],\n",
       "  [70, 0.6802951323148161, 81.4],\n",
       "  [71, 0.6830227012022997, 81.36],\n",
       "  [72, 0.7649876030441671, 80.36],\n",
       "  [73, 0.7065086305236664, 81.84],\n",
       "  [74, 0.6814144173750101, 81.5],\n",
       "  [75, 0.6817514717864533, 81.96],\n",
       "  [76, 0.692224146697087, 82.06],\n",
       "  [77, 0.7309043632623867, 81.48],\n",
       "  [78, 0.725787782773804, 81.26],\n",
       "  [79, 0.722916945862694, 81.85],\n",
       "  [80, 0.7614920437097931, 81.49],\n",
       "  [81, 0.7505152401642297, 81.89],\n",
       "  [82, 0.7441024810504228, 81.7],\n",
       "  [83, 0.7408308930956898, 81.82],\n",
       "  [84, 0.733839293352712, 82.06],\n",
       "  [85, 0.7616960054959733, 81.49],\n",
       "  [86, 0.784443248051424, 81.57],\n",
       "  [87, 0.7791091879954735, 81.46],\n",
       "  [88, 0.7809935773547274, 81.47],\n",
       "  [89, 0.7952897790283822, 81.84],\n",
       "  [90, 0.7957836905845438, 82.01],\n",
       "  [91, 0.7920691397624274, 81.6],\n",
       "  [92, 0.8067934517138682, 81.71],\n",
       "  [93, 0.8072536926442823, 81.77],\n",
       "  [94, 0.8390781180784345, 81.76],\n",
       "  [95, 0.8351775408267214, 81.51],\n",
       "  [96, 0.8503090486930202, 80.89],\n",
       "  [97, 0.801468097982696, 82.06],\n",
       "  [98, 0.8172328176494604, 81.74],\n",
       "  [99, 0.8410578043030473, 81.47],\n",
       "  [100, 0.840852586415629, 81.5],\n",
       "  [101, 0.8732139233725901, 81.6],\n",
       "  [102, 0.8327953187754741, 81.82],\n",
       "  [103, 0.8693994564084581, 81.55],\n",
       "  [104, 0.8614578910481435, 81.59],\n",
       "  [105, 0.869313571399774, 82.01],\n",
       "  [106, 0.8639630976909647, 82.01],\n",
       "  [107, 0.8993530501239597, 81.35],\n",
       "  [108, 0.9074227911310074, 81.32],\n",
       "  [109, 0.8633849490374422, 81.79],\n",
       "  [110, 0.909008250771144, 81.47],\n",
       "  [111, 0.8816503079744954, 81.83],\n",
       "  [112, 0.8948956028150674, 82.01],\n",
       "  [113, 0.9108162612651294, 81.8],\n",
       "  [114, 0.9202412438278381, 82.03],\n",
       "  [115, 0.9018887477560927, 82.21],\n",
       "  [116, 0.9349525454469001, 81.84],\n",
       "  [117, 0.9422396854899181, 81.91],\n",
       "  [118, 0.9735268352987667, 81.09],\n",
       "  [119, 0.9442737956349843, 82.29],\n",
       "  [120, 0.9536529588765992, 81.67],\n",
       "  [121, 0.9638313566105434, 81.78],\n",
       "  [122, 0.9564213756317148, 82.02],\n",
       "  [123, 0.945671385374313, 81.95],\n",
       "  [124, 0.9618997102775894, 81.63],\n",
       "  [125, 0.9752427581400155, 81.75],\n",
       "  [126, 0.9824265134029876, 82.03],\n",
       "  [127, 1.001598673982742, 81.69],\n",
       "  [128, 1.0096006411523484, 81.68],\n",
       "  [129, 0.9734087367408192, 82.07],\n",
       "  [130, 1.0173364788198624, 82.02],\n",
       "  [131, 0.9959329009151306, 81.8],\n",
       "  [132, 1.0121952966569712, 81.6],\n",
       "  [133, 1.0171101465345191, 82.04],\n",
       "  [134, 1.0025138425322386, 82.57],\n",
       "  [135, 1.0069813616454792, 82.12],\n",
       "  [136, 1.0263278915430791, 82.23],\n",
       "  [137, 1.0336056822262252, 81.96],\n",
       "  [138, 1.0276223384915069, 82.33],\n",
       "  [139, 1.0525600674291389, 81.6],\n",
       "  [140, 1.0254956079890933, 81.75],\n",
       "  [141, 1.0441452636838722, 81.98],\n",
       "  [142, 1.0463309710779891, 82.09],\n",
       "  [143, 1.0351474982814286, 82.06],\n",
       "  [144, 1.0420805178820707, 81.92],\n",
       "  [145, 1.0603537405736911, 81.87],\n",
       "  [146, 1.080210589348508, 81.79],\n",
       "  [147, 1.054332172908722, 81.92],\n",
       "  [148, 1.0754211689717472, 81.75],\n",
       "  [149, 1.077177084780063, 82.16],\n",
       "  [150, 1.0750753856933535, 82.12],\n",
       "  [151, 1.0828573709240736, 81.84],\n",
       "  [152, 1.0795580635722073, 82.07],\n",
       "  [153, 1.1021759180358042, 82.15],\n",
       "  [154, 1.092783453079839, 81.88],\n",
       "  [155, 1.0994479679666198, 81.87],\n",
       "  [156, 1.1127512428564386, 81.73],\n",
       "  [157, 1.1121025081640614, 81.91],\n",
       "  [158, 1.1232549370930027, 81.74],\n",
       "  [159, 1.1132779417160792, 81.92],\n",
       "  [160, 1.1141243291477236, 81.9],\n",
       "  [161, 1.1094338216911108, 81.98],\n",
       "  [162, 1.1154907335060091, 82.03],\n",
       "  [163, 1.1179989069795455, 81.84],\n",
       "  [164, 1.1330834686779938, 81.89],\n",
       "  [165, 1.1274449206150758, 82.01],\n",
       "  [166, 1.1316580852380576, 81.97],\n",
       "  [167, 1.1290682243367733, 81.94],\n",
       "  [168, 1.1337272551136848, 81.85],\n",
       "  [169, 1.13004190496172, 81.89],\n",
       "  [170, 1.1384817231148958, 82.04],\n",
       "  [171, 1.134852983866827, 81.98],\n",
       "  [172, 1.1361552154579864, 82.07],\n",
       "  [173, 1.1406594459384014, 82.04],\n",
       "  [174, 1.1365044364533103, 81.97],\n",
       "  [175, 1.133344759575475, 82.21],\n",
       "  [176, 1.1469619678684508, 82.02],\n",
       "  [177, 1.142510416015935, 82.17],\n",
       "  [178, 1.1560978842333864, 82.07],\n",
       "  [179, 1.1524905607389946, 82.07],\n",
       "  [180, 1.1541988410698338, 82.2],\n",
       "  [181, 1.1541675402404972, 82.32],\n",
       "  [182, 1.158346219851186, 82.1],\n",
       "  [183, 1.1560341894340973, 82.14],\n",
       "  [184, 1.1584018446719304, 82.14],\n",
       "  [185, 1.1549302215298143, 82.17],\n",
       "  [186, 1.1597011032195899, 82.05],\n",
       "  [187, 1.157068043209303, 82.1],\n",
       "  [188, 1.1576861105264185, 82.09],\n",
       "  [189, 1.1586182269330223, 82.12],\n",
       "  [190, 1.1589286442810354, 82.09],\n",
       "  [191, 1.1590882885141875, 82.16],\n",
       "  [192, 1.15775636819224, 82.09],\n",
       "  [193, 1.159135679634044, 82.14],\n",
       "  [194, 1.1584075669558664, 82.13],\n",
       "  [195, 1.1586458705865537, 82.15],\n",
       "  [196, 1.158560872077942, 82.17],\n",
       "  [197, 1.1585433122258597, 82.16],\n",
       "  [198, 1.1585198679147437, 82.18],\n",
       "  [199, 1.1585271488458584, 82.17]]}"
      ]
     },
     "execution_count": 31,
     "metadata": {},
     "output_type": "execute_result"
    }
   ],
   "source": [
    "STAT"
   ]
  },
  {
   "cell_type": "code",
   "execution_count": 32,
   "id": "430a42c4",
   "metadata": {},
   "outputs": [],
   "source": [
    "train_stat = np.array(STAT['train_stat'])\n",
    "test_stat = np.array(STAT['test_stat'])"
   ]
  },
  {
   "cell_type": "code",
   "execution_count": 34,
   "id": "0b73748b",
   "metadata": {},
   "outputs": [],
   "source": [
    "# !mkdir ./output/plots"
   ]
  },
  {
   "cell_type": "code",
   "execution_count": 35,
   "id": "19cc212d",
   "metadata": {},
   "outputs": [
    {
     "data": {
      "image/png": "[encoded data removed]",
      "text/plain": [
       "<Figure size 432x288 with 1 Axes>"
      ]
     },
     "metadata": {
      "needs_background": "light"
     },
     "output_type": "display_data"
    }
   ],
   "source": [
    "plt.plot(train_stat[:,1], label='train')\n",
    "plt.plot(test_stat[:,1], label='test')\n",
    "plt.ylabel(\"Loss\")\n",
    "plt.legend()\n",
    "plt.savefig(f\"./output/plots/{model_name}_loss.svg\")\n",
    "plt.show()"
   ]
  },
  {
   "cell_type": "code",
   "execution_count": 36,
   "id": "88bee5fe",
   "metadata": {},
   "outputs": [
    {
     "data": {
      "image/png": "[encoded data removed]",
      "text/plain": [
       "<Figure size 432x288 with 1 Axes>"
      ]
     },
     "metadata": {
      "needs_background": "light"
     },
     "output_type": "display_data"
    }
   ],
   "source": [
    "plt.plot(train_stat[:,2], label='train')\n",
    "plt.plot(test_stat[:,2], label='test')\n",
    "plt.ylabel(\"Accuracy\")\n",
    "plt.legend()\n",
    "plt.savefig(f\"./output/plots/{model_name}_accs.svg\")\n",
    "plt.show()"
   ]
  },
  {
   "cell_type": "code",
   "execution_count": null,
   "id": "3a77b859",
   "metadata": {},
   "outputs": [],
   "source": []
  },
  {
   "cell_type": "code",
   "execution_count": null,
   "id": "e0d174ba",
   "metadata": {},
   "outputs": [],
   "source": []
  }
 ],
 "metadata": {
  "kernelspec": {
   "display_name": "Python 3",
   "language": "python",
   "name": "python3"
  },
  "language_info": {
   "codemirror_mode": {
    "name": "ipython",
    "version": 3
   },
   "file_extension": ".py",
   "mimetype": "text/x-python",
   "name": "python",
   "nbconvert_exporter": "python",
   "pygments_lexer": "ipython3",
   "version": "3.9.7"
  }
 },
 "nbformat": 4,
 "nbformat_minor": 5
}
