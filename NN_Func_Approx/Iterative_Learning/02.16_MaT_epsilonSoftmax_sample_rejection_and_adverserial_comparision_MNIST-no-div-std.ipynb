{
 "cells": [
  {
   "cell_type": "code",
   "execution_count": 2,
   "metadata": {},
   "outputs": [],
   "source": [
    "import numpy as np\n",
    "import copy\n",
    "import matplotlib\n",
    "import matplotlib.pyplot as plt\n",
    "# from mpl_toolkits.mplot3d import Axes3D"
   ]
  },
  {
   "cell_type": "code",
   "execution_count": 3,
   "metadata": {},
   "outputs": [],
   "source": [
    "import torch\n",
    "import torch.nn as nn\n",
    "import torch.nn.functional as F\n",
    "\n",
    "from torchvision import datasets, transforms as T\n",
    "from torch.utils import data"
   ]
  },
  {
   "cell_type": "code",
   "execution_count": 4,
   "metadata": {},
   "outputs": [],
   "source": [
    "from tqdm import tqdm\n",
    "import os, time, sys\n",
    "import json"
   ]
  },
  {
   "cell_type": "code",
   "execution_count": 5,
   "metadata": {},
   "outputs": [],
   "source": [
    "import dtnnlib as dtnn\n",
    "# import resnet_cifar"
   ]
  },
  {
   "cell_type": "code",
   "execution_count": 6,
   "metadata": {},
   "outputs": [],
   "source": [
    "mnist_transform = T.Compose([\n",
    "    T.ToTensor(),\n",
    "    T.Normalize(\n",
    "        mean=0.5,\n",
    "        std=0.5,\n",
    "    ),\n",
    "])\n",
    "\n",
    "# train_dataset = datasets.FashionMNIST(root=\"../../../_Datasets/\", train=True, download=True, transform=mnist_transform)\n",
    "# test_dataset = datasets.FashionMNIST(root=\"../../../_Datasets/\", train=False, download=True, transform=mnist_transform)\n",
    "train_dataset = datasets.MNIST(root=\"../../../_Datasets/\", train=True, download=True, transform=mnist_transform)\n",
    "test_dataset = datasets.MNIST(root=\"../../../_Datasets/\", train=False, download=True, transform=mnist_transform)"
   ]
  },
  {
   "cell_type": "code",
   "execution_count": 7,
   "metadata": {},
   "outputs": [
    {
     "data": {
      "text/plain": [
       "torch.Size([60000, 28, 28])"
      ]
     },
     "execution_count": 7,
     "metadata": {},
     "output_type": "execute_result"
    }
   ],
   "source": [
    "train_dataset.data.shape"
   ]
  },
  {
   "cell_type": "code",
   "execution_count": 8,
   "metadata": {},
   "outputs": [],
   "source": [
    "batch_size = 50\n",
    "train_loader = data.DataLoader(dataset=train_dataset, num_workers=4, batch_size=batch_size, shuffle=True)\n",
    "test_loader = data.DataLoader(dataset=test_dataset, num_workers=4, batch_size=batch_size, shuffle=False)"
   ]
  },
  {
   "cell_type": "code",
   "execution_count": 9,
   "metadata": {},
   "outputs": [],
   "source": [
    "device = torch.device(\"cpu\")"
   ]
  },
  {
   "cell_type": "code",
   "execution_count": 10,
   "metadata": {},
   "outputs": [
    {
     "name": "stdout",
     "output_type": "stream",
     "text": [
      "torch.Size([50, 1, 28, 28])\n",
      "torch.Size([50, 784]) torch.Size([50])\n"
     ]
    }
   ],
   "source": [
    "for xx, yy in train_loader:\n",
    "    print(xx.shape)\n",
    "    xx, yy = xx.view(-1,28*28).to(device), yy.to(device)\n",
    "    print(xx.shape, yy.shape)\n",
    "    break"
   ]
  },
  {
   "cell_type": "markdown",
   "metadata": {},
   "source": [
    "## Train Test method"
   ]
  },
  {
   "cell_type": "code",
   "execution_count": 11,
   "metadata": {},
   "outputs": [],
   "source": [
    "criterion = nn.CrossEntropyLoss()"
   ]
  },
  {
   "cell_type": "code",
   "execution_count": 12,
   "metadata": {},
   "outputs": [],
   "source": [
    "## Following is copied from \n",
    "### https://github.com/kuangliu/pytorch-cifar/blob/master/main.py\n",
    "\n",
    "# Training\n",
    "def train(epoch, model, optimizer):\n",
    "    model.train()\n",
    "    train_loss = 0\n",
    "    correct = 0\n",
    "    total = 0\n",
    "    for batch_idx, (inputs, targets) in enumerate(tqdm(train_loader)):\n",
    "        inputs, targets = inputs.to(device).view(-1, 28*28), targets.to(device)\n",
    "        \n",
    "        ### Train with random image and \"10\" as class\n",
    "#         inputs = torch.cat([inputs, torch.rand(batch_size//10, 28*28, dtype=inputs.dtype).to(device)*2-1], dim=0)\n",
    "#         targets = torch.cat([targets, torch.ones(batch_size//10, dtype=targets.dtype).to(device)*10], dim=0)\n",
    "        \n",
    "        optimizer.zero_grad()\n",
    "        outputs = model(inputs)\n",
    "        loss = criterion(outputs, targets)\n",
    "        loss.backward()\n",
    "        optimizer.step()\n",
    "\n",
    "        train_loss += loss.item()\n",
    "        _, predicted = outputs.max(1)\n",
    "        total += targets.size(0)\n",
    "        correct += predicted.eq(targets).sum().item()\n",
    "    print(f\"[Train] {epoch} Loss: {train_loss/(batch_idx+1):.3f} | Acc: {100.*correct/total:.3f} {correct}/{total}\")\n",
    "    return"
   ]
  },
  {
   "cell_type": "code",
   "execution_count": 13,
   "metadata": {},
   "outputs": [],
   "source": [
    "best_acc = -1\n",
    "def test(epoch, model, model_name, save=False):\n",
    "    global best_acc\n",
    "    model.eval()\n",
    "    test_loss = 0\n",
    "    correct = 0\n",
    "    total = 0\n",
    "    with torch.no_grad():\n",
    "        for batch_idx, (inputs, targets) in enumerate(tqdm(test_loader)):\n",
    "            inputs, targets = inputs.to(device).view(-1, 28*28), targets.to(device)\n",
    "            outputs = model(inputs)\n",
    "            loss = criterion(outputs, targets)\n",
    "\n",
    "            test_loss += loss.item()\n",
    "            _, predicted = outputs.max(1)\n",
    "            total += targets.size(0)\n",
    "            correct += predicted.eq(targets).sum().item()\n",
    "            \n",
    "    print(f\"[Test] {epoch} Loss: {test_loss/(batch_idx+1):.3f} | Acc: {100.*correct/total:.3f} {correct}/{total}\")\n",
    "    \n",
    "    # Save checkpoint.\n",
    "    acc = 100.*correct/total\n",
    "    if acc > best_acc:\n",
    "        print('Saving..')\n",
    "        state = {\n",
    "            'model': model.state_dict(),\n",
    "            'acc': acc,\n",
    "            'epoch': epoch,\n",
    "        }\n",
    "        if save:\n",
    "            if not os.path.isdir('models'):\n",
    "                os.mkdir('models')\n",
    "            torch.save(state, f'./models/{model_name}.pth')\n",
    "        best_acc = acc"
   ]
  },
  {
   "cell_type": "markdown",
   "metadata": {},
   "source": [
    "## Models"
   ]
  },
  {
   "cell_type": "code",
   "execution_count": 184,
   "metadata": {},
   "outputs": [],
   "source": [
    "class DistanceTransform_Epsilon(dtnn.DistanceTransformBase):\n",
    "    \n",
    "    def __init__(self, input_dim, num_centers, p=2, bias=False, epsilon=0.1):\n",
    "        super().__init__(input_dim, num_centers, p=2)\n",
    "        \n",
    "        nc = num_centers\n",
    "        if epsilon is not None:\n",
    "            nc += 1\n",
    "        self.scaler = nn.Parameter(torch.log(torch.ones(1, 1)*1))\n",
    "#         self.scaler = nn.Parameter(torch.log(torch.ones(1, nc)*1))\n",
    "        self.bias = nn.Parameter(torch.ones(1, nc)*0) if bias else None\n",
    "        self.epsilon = epsilon\n",
    "        \n",
    "    def forward(self, x):\n",
    "        dists = super().forward(x)\n",
    "        \n",
    "        if self.epsilon is not None:\n",
    "            dists = torch.cat([dists, torch.ones(len(x), 1, dtype=x.dtype)*self.epsilon], dim=1)\n",
    "        \n",
    "        ### normalize similar to UMAP\n",
    "#         dists = dists/torch.sqrt(dists.var(dim=1, keepdim=True)+1e-9)\n",
    "        \n",
    "    \n",
    "        #### for norm\n",
    "#         dists = torch.exp(-dists) ### solves degenerate cases of centers != maxima & also needed for norm\n",
    "#         dists = -dists + dists.max(dim=1, keepdim=True)[0] ## replacement for e^{-d} -> making similarity (and also better)\n",
    "        dists = dists/(torch.norm(dists, dim=1, keepdim=True)/(dists.shape[-1]**0.5)+1e-9)\n",
    "        \n",
    "        ## scale the dists\n",
    "#         dists = torch.exp(-dists.abs()+self.scaler)\n",
    "#         dists = 1-dists*torch.exp(self.scaler) ## use with simple or /std\n",
    "        dists = dists*torch.exp(self.scaler) ## use with norm\n",
    "    \n",
    "        if self.bias is not None: dists = dists+self.bias\n",
    "        return dists"
   ]
  },
  {
   "cell_type": "code",
   "execution_count": 185,
   "metadata": {},
   "outputs": [],
   "source": [
    "class LocalMLP_epsilonsoftmax(nn.Module):\n",
    "    \n",
    "    def __init__(self, input_dim, hidden_dim, output_dim, epsilon=1.0):\n",
    "        super().__init__()\n",
    "        \n",
    "        self.input_dim = input_dim\n",
    "        self.hidden_dim = hidden_dim\n",
    "        self.new_hidden_dim = 0\n",
    "        self.output_dim = output_dim\n",
    "        \n",
    "        self.layer0 = DistanceTransform_Epsilon(self.input_dim, self.hidden_dim, bias=True, epsilon=epsilon)\n",
    "        hdim = self.hidden_dim\n",
    "        if epsilon is not None:\n",
    "            hdim += 1\n",
    "            \n",
    "        self.scale_shift = dtnn.ScaleShift(hdim, scaler_init=3, shifter_init=0, scaler_const=True, shifter_const=True)\n",
    "#         self.scale_shift = dtnn.ScaleShift(hdim, scaler_init=10, shifter_init=0, scaler_const=True, shifter_const=True)\n",
    "        self.softmax = nn.Softmax(dim=-1)\n",
    "#         self.softmax = F.gumbel_softmax\n",
    "\n",
    "#         self.activ = dtnn.OneActiv(hdim, mode='exp_1.6', beta_init=np.log(2))\n",
    "        self.activ = dtnn.OneActiv(hdim, mode='relu', beta_init=np.log(1.2))\n",
    "#         self.activ = nn.ReLU()\n",
    "\n",
    "        self.layer1 = nn.Linear(hdim, self.output_dim)\n",
    "    \n",
    "        self.temp_maximum = None\n",
    "        \n",
    "    def forward(self, x):\n",
    "        xo = self.layer0(x)\n",
    "        ## dropout here creates 0 actv (is relatively high), hence serves as noise --> does not work for high values\n",
    "#         xo = F.dropout(xo, p=0.001, training=self.training)\n",
    "        xo = self.scale_shift(xo)\n",
    "        xo = self.softmax(xo)\n",
    "        self.temp_maximum = xo.data\n",
    "        \n",
    "        ## drouout here is suitable for activation function (the probabilities do not add upto 1)\n",
    "#         xo = F.dropout(xo, p=0.1, training=self.training)\n",
    "        \n",
    "        ### This feature is useful when the softmax has uniform and low probability\n",
    "#         xo = xo/xo.max(dim=1, keepdim=True)[0].detach() ## produces poor decision boundary \n",
    "        \n",
    "#         rejected = torch.count_nonzero(xo.argmax(dim=1) == self.hidden_dim) \n",
    "        xo = self.activ(xo)\n",
    "        xo = self.layer1(xo)\n",
    "        return xo"
   ]
  },
  {
   "cell_type": "code",
   "execution_count": 186,
   "metadata": {},
   "outputs": [
    {
     "data": {
      "text/plain": [
       "LocalMLP_epsilonsoftmax(\n",
       "  (layer0): DistanceTransform_Epsilon()\n",
       "  (scale_shift): ScaleShift()\n",
       "  (softmax): Softmax(dim=-1)\n",
       "  (activ): OneActiv()\n",
       "  (layer1): Linear(in_features=101, out_features=11, bias=True)\n",
       ")"
      ]
     },
     "execution_count": 186,
     "metadata": {},
     "output_type": "execute_result"
    }
   ],
   "source": [
    "H = 100\n",
    "\n",
    "model = LocalMLP_epsilonsoftmax(784, H, 11, epsilon=9.0) ## epsilon=9.0 used for std and no-std\n",
    "# model = LocalMLP_epsilonsoftmax(784, H, 11, epsilon=20.0) ## epsilon=9.0 used for std and no-std\n",
    "model_name = \"epsilonSM_MLP_ep9_nostd\" \n",
    "\n",
    "# model = LocalMLP_epsilonsoftmax(784, H, 11, epsilon=None)\n",
    "# model_name = \"epsilonSM_MLP_epNone\"\n",
    "\n",
    "model"
   ]
  },
  {
   "cell_type": "code",
   "execution_count": 187,
   "metadata": {},
   "outputs": [
    {
     "data": {
      "text/plain": [
       "torch.Size([50, 11])"
      ]
     },
     "execution_count": 187,
     "metadata": {},
     "output_type": "execute_result"
    }
   ],
   "source": [
    "model(xx).shape"
   ]
  },
  {
   "cell_type": "code",
   "execution_count": 188,
   "metadata": {},
   "outputs": [
    {
     "data": {
      "text/plain": [
       "True"
      ]
     },
     "execution_count": 188,
     "metadata": {},
     "output_type": "execute_result"
    }
   ],
   "source": [
    "model.training"
   ]
  },
  {
   "cell_type": "code",
   "execution_count": 189,
   "metadata": {},
   "outputs": [
    {
     "data": {
      "text/plain": [
       "(torch.Size([100, 784]), torch.Size([100]))"
      ]
     },
     "execution_count": 189,
     "metadata": {},
     "output_type": "execute_result"
    }
   ],
   "source": [
    "idx = torch.randperm(len(train_loader.dataset))[:H]\n",
    "source, target = train_dataset.data[idx].reshape(-1, 784), train_dataset.targets[idx]\n",
    "source.shape, target.shape"
   ]
  },
  {
   "cell_type": "code",
   "execution_count": 190,
   "metadata": {},
   "outputs": [],
   "source": [
    "# model.layer0.centers.data = source.type(torch.float32)/128-1 ## initialization\n",
    "\n",
    "model.layer0.centers.data = source.type(torch.float32)/128-1 #\\\n",
    "#                 + torch.rand_like(model.layer0.centers.data)-0.5 ## initialization\n",
    "\n",
    "# model.layer0.centers.data /= torch.max(model.layer0.centers.data) ## initialization"
   ]
  },
  {
   "cell_type": "code",
   "execution_count": 191,
   "metadata": {},
   "outputs": [
    {
     "data": {
      "text/plain": [
       "torch.Size([101, 11])"
      ]
     },
     "execution_count": 191,
     "metadata": {},
     "output_type": "execute_result"
    }
   ],
   "source": [
    "targets = torch.zeros(len(target), 11)\n",
    "for i, t in enumerate(target):\n",
    "    targets[i, t] = 1.\n",
    "    targets[i,-1] = 0.05\n",
    "\n",
    "if model.layer0.epsilon is not None:\n",
    "    e = torch.zeros(1, 11)\n",
    "    e[0,-1] = 1.\n",
    "    targets = torch.cat([targets, e], dim=0)\n",
    "\n",
    "targets.shape\n",
    "# targets[-1]"
   ]
  },
  {
   "cell_type": "code",
   "execution_count": 192,
   "metadata": {},
   "outputs": [],
   "source": [
    "model.layer1.weight.data = targets.t()#.to(device) ## initialization"
   ]
  },
  {
   "cell_type": "code",
   "execution_count": 193,
   "metadata": {},
   "outputs": [
    {
     "name": "stdout",
     "output_type": "stream",
     "text": [
      "torch.Size([50, 101])\n",
      "tensor([0.0111, 0.0113, 0.0118, 0.0102, 0.0070, 0.0083, 0.0108, 0.0118, 0.0091,\n",
      "        0.0096, 0.0088, 0.0148, 0.0120, 0.0107, 0.0085, 0.0115, 0.0131, 0.0105,\n",
      "        0.0053, 0.0065, 0.0099, 0.0122, 0.0073, 0.0084, 0.0129, 0.0070, 0.0116,\n",
      "        0.0069, 0.0113, 0.0090, 0.0113, 0.0120, 0.0094, 0.0094, 0.0080, 0.0112,\n",
      "        0.0102, 0.0085, 0.0095, 0.0104, 0.0087, 0.0092, 0.0095, 0.0061, 0.0098,\n",
      "        0.0072, 0.0113, 0.0084, 0.0111, 0.0120, 0.0059, 0.0112, 0.0129, 0.0071,\n",
      "        0.0058, 0.0095, 0.0066, 0.0111, 0.0105, 0.0135, 0.0119, 0.0066, 0.0059,\n",
      "        0.0103, 0.0122, 0.0100, 0.0116, 0.0093, 0.0059, 0.0087, 0.0059, 0.0069,\n",
      "        0.0097, 0.0073, 0.0074, 0.0127, 0.0086, 0.0051, 0.0082, 0.0076, 0.0076,\n",
      "        0.0075, 0.0095, 0.0135, 0.0116, 0.0108, 0.0107, 0.0072, 0.0082, 0.0102,\n",
      "        0.0086, 0.0125, 0.0096, 0.0081, 0.0124, 0.0094, 0.0078, 0.0107, 0.0089,\n",
      "        0.0103, 0.0465]) \n",
      "  tensor([0.0042, 0.0031, 0.0073, 0.0045, 0.0041, 0.0024, 0.0027, 0.0026, 0.0019,\n",
      "        0.0031, 0.0032, 0.0144, 0.0053, 0.0039, 0.0027, 0.0037, 0.0046, 0.0020,\n",
      "        0.0031, 0.0027, 0.0033, 0.0046, 0.0029, 0.0026, 0.0039, 0.0016, 0.0022,\n",
      "        0.0061, 0.0026, 0.0025, 0.0019, 0.0038, 0.0052, 0.0018, 0.0025, 0.0018,\n",
      "        0.0020, 0.0022, 0.0035, 0.0058, 0.0016, 0.0030, 0.0043, 0.0020, 0.0026,\n",
      "        0.0017, 0.0037, 0.0021, 0.0033, 0.0038, 0.0042, 0.0019, 0.0066, 0.0020,\n",
      "        0.0016, 0.0043, 0.0013, 0.0028, 0.0033, 0.0068, 0.0025, 0.0019, 0.0040,\n",
      "        0.0042, 0.0035, 0.0049, 0.0063, 0.0033, 0.0013, 0.0011, 0.0031, 0.0028,\n",
      "        0.0019, 0.0030, 0.0034, 0.0096, 0.0026, 0.0013, 0.0023, 0.0021, 0.0034,\n",
      "        0.0017, 0.0025, 0.0077, 0.0048, 0.0022, 0.0038, 0.0024, 0.0020, 0.0031,\n",
      "        0.0028, 0.0038, 0.0035, 0.0027, 0.0034, 0.0026, 0.0061, 0.0028, 0.0043,\n",
      "        0.0025, 0.0062])\n",
      "tensor([0.0070, 0.0064, 0.0057, 0.0060, 0.0038, 0.0054, 0.0072, 0.0069, 0.0060,\n",
      "        0.0058, 0.0051, 0.0067, 0.0068, 0.0070, 0.0049, 0.0065, 0.0073, 0.0079,\n",
      "        0.0025, 0.0034, 0.0051, 0.0068, 0.0039, 0.0050, 0.0075, 0.0046, 0.0081,\n",
      "        0.0027, 0.0068, 0.0058, 0.0078, 0.0072, 0.0042, 0.0065, 0.0054, 0.0072,\n",
      "        0.0075, 0.0053, 0.0060, 0.0060, 0.0065, 0.0048, 0.0057, 0.0031, 0.0061,\n",
      "        0.0045, 0.0073, 0.0048, 0.0071, 0.0080, 0.0026, 0.0074, 0.0072, 0.0048,\n",
      "        0.0038, 0.0058, 0.0041, 0.0077, 0.0062, 0.0076, 0.0077, 0.0043, 0.0029,\n",
      "        0.0067, 0.0075, 0.0042, 0.0058, 0.0053, 0.0041, 0.0065, 0.0032, 0.0032,\n",
      "        0.0059, 0.0037, 0.0043, 0.0065, 0.0050, 0.0028, 0.0047, 0.0041, 0.0036,\n",
      "        0.0043, 0.0063, 0.0071, 0.0069, 0.0073, 0.0065, 0.0043, 0.0050, 0.0060,\n",
      "        0.0053, 0.0074, 0.0059, 0.0052, 0.0076, 0.0067, 0.0035, 0.0053, 0.0052,\n",
      "        0.0073, 0.0362]) \n",
      "  tensor([0.0299, 0.0226, 0.0413, 0.0309, 0.0306, 0.0176, 0.0227, 0.0215, 0.0162,\n",
      "        0.0178, 0.0206, 0.0697, 0.0363, 0.0231, 0.0173, 0.0283, 0.0350, 0.0163,\n",
      "        0.0164, 0.0165, 0.0193, 0.0245, 0.0173, 0.0172, 0.0264, 0.0120, 0.0187,\n",
      "        0.0318, 0.0171, 0.0198, 0.0161, 0.0321, 0.0282, 0.0135, 0.0219, 0.0145,\n",
      "        0.0155, 0.0144, 0.0231, 0.0408, 0.0133, 0.0175, 0.0263, 0.0131, 0.0185,\n",
      "        0.0122, 0.0298, 0.0148, 0.0256, 0.0229, 0.0223, 0.0160, 0.0411, 0.0133,\n",
      "        0.0104, 0.0270, 0.0094, 0.0209, 0.0232, 0.0490, 0.0205, 0.0118, 0.0259,\n",
      "        0.0319, 0.0209, 0.0274, 0.0314, 0.0199, 0.0108, 0.0128, 0.0204, 0.0136,\n",
      "        0.0164, 0.0208, 0.0271, 0.0521, 0.0166, 0.0091, 0.0144, 0.0153, 0.0157,\n",
      "        0.0112, 0.0191, 0.0434, 0.0355, 0.0192, 0.0302, 0.0198, 0.0139, 0.0224,\n",
      "        0.0163, 0.0268, 0.0237, 0.0152, 0.0216, 0.0223, 0.0292, 0.0177, 0.0295,\n",
      "        0.0190, 0.0613])\n"
     ]
    }
   ],
   "source": [
    "def forward_intermediate(self, x):\n",
    "    xo = self.layer0(x)\n",
    "    xo = self.scale_shift(xo)\n",
    "    xo = self.softmax(xo).data\n",
    "    print(xo.shape)\n",
    "    print(xo.mean(dim=0), \"\\n \", xo.std(dim=0))\n",
    "    print(xo.min(dim=0)[0], \"\\n \", xo.max(dim=0)[0])\n",
    "\n",
    "forward_intermediate(model, xx)"
   ]
  },
  {
   "cell_type": "code",
   "execution_count": 194,
   "metadata": {},
   "outputs": [
    {
     "name": "stderr",
     "output_type": "stream",
     "text": [
      "100%|██████████████████████████████████████████████████| 200/200 [00:01<00:00, 153.59it/s]"
     ]
    },
    {
     "name": "stdout",
     "output_type": "stream",
     "text": [
      "[Test] -1 Loss: 2.395 | Acc: 11.350 1135/10000\n"
     ]
    },
    {
     "name": "stderr",
     "output_type": "stream",
     "text": [
      "\n"
     ]
    }
   ],
   "source": [
    "test(-1, model, model_name=\"\", save=False)"
   ]
  },
  {
   "cell_type": "markdown",
   "metadata": {},
   "source": [
    "## Model Training"
   ]
  },
  {
   "cell_type": "code",
   "execution_count": 195,
   "metadata": {},
   "outputs": [],
   "source": [
    "learning_rate = 0.01\n",
    "\"\"\"\n",
    "Use Small LR for centers and larger for rest (center deviated too much)\n",
    "\"\"\"\n",
    "\n",
    "EPOCHS = 15"
   ]
  },
  {
   "cell_type": "code",
   "execution_count": 196,
   "metadata": {},
   "outputs": [],
   "source": [
    "### https://stackoverflow.com/questions/51801648/how-to-apply-layer-wise-learning-rate-in-pytorch\n",
    "p1, p2 = [], []\n",
    "for p in model.named_parameters():\n",
    "    if p[0] == \"layer0.centers\":\n",
    "        p1.append(p[1])\n",
    "    else:\n",
    "        p2.append(p[1])\n",
    "\n",
    "params = [\n",
    "    {\"params\": p1, \"lr\": learning_rate*3e-2}, ## default - to change little from data point\n",
    "#     {\"params\": p1},\n",
    "    {\"params\": p2},\n",
    "]"
   ]
  },
  {
   "cell_type": "code",
   "execution_count": 197,
   "metadata": {},
   "outputs": [
    {
     "name": "stderr",
     "output_type": "stream",
     "text": [
      "100%|████████████████████████████████████████████████| 1200/1200 [00:10<00:00, 119.17it/s]\n"
     ]
    },
    {
     "name": "stdout",
     "output_type": "stream",
     "text": [
      "[Train] 0 Loss: 2.314 | Acc: 10.913 6548/60000\n"
     ]
    },
    {
     "name": "stderr",
     "output_type": "stream",
     "text": [
      "100%|██████████████████████████████████████████████████| 200/200 [00:01<00:00, 145.40it/s]\n"
     ]
    },
    {
     "name": "stdout",
     "output_type": "stream",
     "text": [
      "[Test] 0 Loss: 2.304 | Acc: 11.350 1135/10000\n",
      "Saving..\n"
     ]
    },
    {
     "name": "stderr",
     "output_type": "stream",
     "text": [
      "  4%|█▉                                                 | 47/1200 [00:00<00:13, 84.82it/s]\n"
     ]
    },
    {
     "ename": "KeyboardInterrupt",
     "evalue": "",
     "output_type": "error",
     "traceback": [
      "\u001b[0;31m---------------------------------------------------------------------------\u001b[0m",
      "\u001b[0;31mKeyboardInterrupt\u001b[0m                         Traceback (most recent call last)",
      "\u001b[0;32m/tmp/ipykernel_7249/2186478118.py\u001b[0m in \u001b[0;36m<module>\u001b[0;34m\u001b[0m\n\u001b[1;32m      6\u001b[0m \u001b[0mbest_acc\u001b[0m \u001b[0;34m=\u001b[0m \u001b[0;34m-\u001b[0m\u001b[0;36m1\u001b[0m\u001b[0;34m\u001b[0m\u001b[0;34m\u001b[0m\u001b[0m\n\u001b[1;32m      7\u001b[0m \u001b[0;32mfor\u001b[0m \u001b[0mepoch\u001b[0m \u001b[0;32min\u001b[0m \u001b[0mrange\u001b[0m\u001b[0;34m(\u001b[0m\u001b[0mEPOCHS\u001b[0m\u001b[0;34m)\u001b[0m\u001b[0;34m:\u001b[0m\u001b[0;34m\u001b[0m\u001b[0;34m\u001b[0m\u001b[0m\n\u001b[0;32m----> 8\u001b[0;31m     \u001b[0mtrain\u001b[0m\u001b[0;34m(\u001b[0m\u001b[0mepoch\u001b[0m\u001b[0;34m,\u001b[0m \u001b[0mmodel\u001b[0m\u001b[0;34m,\u001b[0m \u001b[0moptimizer\u001b[0m\u001b[0;34m)\u001b[0m\u001b[0;34m\u001b[0m\u001b[0;34m\u001b[0m\u001b[0m\n\u001b[0m\u001b[1;32m      9\u001b[0m     \u001b[0mtest\u001b[0m\u001b[0;34m(\u001b[0m\u001b[0mepoch\u001b[0m\u001b[0;34m,\u001b[0m \u001b[0mmodel\u001b[0m\u001b[0;34m,\u001b[0m \u001b[0mmodel_name\u001b[0m\u001b[0;34m,\u001b[0m \u001b[0msave\u001b[0m\u001b[0;34m=\u001b[0m\u001b[0;32mFalse\u001b[0m\u001b[0;34m)\u001b[0m\u001b[0;34m\u001b[0m\u001b[0;34m\u001b[0m\u001b[0m\n\u001b[1;32m     10\u001b[0m     \u001b[0mscheduler\u001b[0m\u001b[0;34m.\u001b[0m\u001b[0mstep\u001b[0m\u001b[0;34m(\u001b[0m\u001b[0;34m)\u001b[0m\u001b[0;34m\u001b[0m\u001b[0;34m\u001b[0m\u001b[0m\n",
      "\u001b[0;32m/tmp/ipykernel_7249/143816365.py\u001b[0m in \u001b[0;36mtrain\u001b[0;34m(epoch, model, optimizer)\u001b[0m\n\u001b[1;32m     16\u001b[0m \u001b[0;34m\u001b[0m\u001b[0m\n\u001b[1;32m     17\u001b[0m         \u001b[0moptimizer\u001b[0m\u001b[0;34m.\u001b[0m\u001b[0mzero_grad\u001b[0m\u001b[0;34m(\u001b[0m\u001b[0;34m)\u001b[0m\u001b[0;34m\u001b[0m\u001b[0;34m\u001b[0m\u001b[0m\n\u001b[0;32m---> 18\u001b[0;31m         \u001b[0moutputs\u001b[0m \u001b[0;34m=\u001b[0m \u001b[0mmodel\u001b[0m\u001b[0;34m(\u001b[0m\u001b[0minputs\u001b[0m\u001b[0;34m)\u001b[0m\u001b[0;34m\u001b[0m\u001b[0;34m\u001b[0m\u001b[0m\n\u001b[0m\u001b[1;32m     19\u001b[0m         \u001b[0mloss\u001b[0m \u001b[0;34m=\u001b[0m \u001b[0mcriterion\u001b[0m\u001b[0;34m(\u001b[0m\u001b[0moutputs\u001b[0m\u001b[0;34m,\u001b[0m \u001b[0mtargets\u001b[0m\u001b[0;34m)\u001b[0m\u001b[0;34m\u001b[0m\u001b[0;34m\u001b[0m\u001b[0m\n\u001b[1;32m     20\u001b[0m         \u001b[0mloss\u001b[0m\u001b[0;34m.\u001b[0m\u001b[0mbackward\u001b[0m\u001b[0;34m(\u001b[0m\u001b[0;34m)\u001b[0m\u001b[0;34m\u001b[0m\u001b[0;34m\u001b[0m\u001b[0m\n",
      "\u001b[0;32m~/Program_Files/Python/miniconda3/lib/python3.7/site-packages/torch/nn/modules/module.py\u001b[0m in \u001b[0;36m_call_impl\u001b[0;34m(self, *input, **kwargs)\u001b[0m\n\u001b[1;32m    887\u001b[0m             \u001b[0mresult\u001b[0m \u001b[0;34m=\u001b[0m \u001b[0mself\u001b[0m\u001b[0;34m.\u001b[0m\u001b[0m_slow_forward\u001b[0m\u001b[0;34m(\u001b[0m\u001b[0;34m*\u001b[0m\u001b[0minput\u001b[0m\u001b[0;34m,\u001b[0m \u001b[0;34m**\u001b[0m\u001b[0mkwargs\u001b[0m\u001b[0;34m)\u001b[0m\u001b[0;34m\u001b[0m\u001b[0;34m\u001b[0m\u001b[0m\n\u001b[1;32m    888\u001b[0m         \u001b[0;32melse\u001b[0m\u001b[0;34m:\u001b[0m\u001b[0;34m\u001b[0m\u001b[0;34m\u001b[0m\u001b[0m\n\u001b[0;32m--> 889\u001b[0;31m             \u001b[0mresult\u001b[0m \u001b[0;34m=\u001b[0m \u001b[0mself\u001b[0m\u001b[0;34m.\u001b[0m\u001b[0mforward\u001b[0m\u001b[0;34m(\u001b[0m\u001b[0;34m*\u001b[0m\u001b[0minput\u001b[0m\u001b[0;34m,\u001b[0m \u001b[0;34m**\u001b[0m\u001b[0mkwargs\u001b[0m\u001b[0;34m)\u001b[0m\u001b[0;34m\u001b[0m\u001b[0;34m\u001b[0m\u001b[0m\n\u001b[0m\u001b[1;32m    890\u001b[0m         for hook in itertools.chain(\n\u001b[1;32m    891\u001b[0m                 \u001b[0m_global_forward_hooks\u001b[0m\u001b[0;34m.\u001b[0m\u001b[0mvalues\u001b[0m\u001b[0;34m(\u001b[0m\u001b[0;34m)\u001b[0m\u001b[0;34m,\u001b[0m\u001b[0;34m\u001b[0m\u001b[0;34m\u001b[0m\u001b[0m\n",
      "\u001b[0;32m/tmp/ipykernel_7249/3160378969.py\u001b[0m in \u001b[0;36mforward\u001b[0;34m(self, x)\u001b[0m\n\u001b[1;32m     31\u001b[0m         \u001b[0;31m## dropout here creates 0 actv (is relatively high), hence serves as noise --> does not work for high values\u001b[0m\u001b[0;34m\u001b[0m\u001b[0;34m\u001b[0m\u001b[0;34m\u001b[0m\u001b[0m\n\u001b[1;32m     32\u001b[0m \u001b[0;31m#         xo = F.dropout(xo, p=0.001, training=self.training)\u001b[0m\u001b[0;34m\u001b[0m\u001b[0;34m\u001b[0m\u001b[0;34m\u001b[0m\u001b[0m\n\u001b[0;32m---> 33\u001b[0;31m         \u001b[0mxo\u001b[0m \u001b[0;34m=\u001b[0m \u001b[0mself\u001b[0m\u001b[0;34m.\u001b[0m\u001b[0mscale_shift\u001b[0m\u001b[0;34m(\u001b[0m\u001b[0mxo\u001b[0m\u001b[0;34m)\u001b[0m\u001b[0;34m\u001b[0m\u001b[0;34m\u001b[0m\u001b[0m\n\u001b[0m\u001b[1;32m     34\u001b[0m         \u001b[0mxo\u001b[0m \u001b[0;34m=\u001b[0m \u001b[0mself\u001b[0m\u001b[0;34m.\u001b[0m\u001b[0msoftmax\u001b[0m\u001b[0;34m(\u001b[0m\u001b[0mxo\u001b[0m\u001b[0;34m)\u001b[0m\u001b[0;34m\u001b[0m\u001b[0;34m\u001b[0m\u001b[0m\n\u001b[1;32m     35\u001b[0m         \u001b[0mself\u001b[0m\u001b[0;34m.\u001b[0m\u001b[0mtemp_maximum\u001b[0m \u001b[0;34m=\u001b[0m \u001b[0mxo\u001b[0m\u001b[0;34m.\u001b[0m\u001b[0mdata\u001b[0m\u001b[0;34m\u001b[0m\u001b[0;34m\u001b[0m\u001b[0m\n",
      "\u001b[0;32m~/Program_Files/Python/miniconda3/lib/python3.7/site-packages/torch/nn/modules/module.py\u001b[0m in \u001b[0;36m_call_impl\u001b[0;34m(self, *input, **kwargs)\u001b[0m\n\u001b[1;32m    887\u001b[0m             \u001b[0mresult\u001b[0m \u001b[0;34m=\u001b[0m \u001b[0mself\u001b[0m\u001b[0;34m.\u001b[0m\u001b[0m_slow_forward\u001b[0m\u001b[0;34m(\u001b[0m\u001b[0;34m*\u001b[0m\u001b[0minput\u001b[0m\u001b[0;34m,\u001b[0m \u001b[0;34m**\u001b[0m\u001b[0mkwargs\u001b[0m\u001b[0;34m)\u001b[0m\u001b[0;34m\u001b[0m\u001b[0;34m\u001b[0m\u001b[0m\n\u001b[1;32m    888\u001b[0m         \u001b[0;32melse\u001b[0m\u001b[0;34m:\u001b[0m\u001b[0;34m\u001b[0m\u001b[0;34m\u001b[0m\u001b[0m\n\u001b[0;32m--> 889\u001b[0;31m             \u001b[0mresult\u001b[0m \u001b[0;34m=\u001b[0m \u001b[0mself\u001b[0m\u001b[0;34m.\u001b[0m\u001b[0mforward\u001b[0m\u001b[0;34m(\u001b[0m\u001b[0;34m*\u001b[0m\u001b[0minput\u001b[0m\u001b[0;34m,\u001b[0m \u001b[0;34m**\u001b[0m\u001b[0mkwargs\u001b[0m\u001b[0;34m)\u001b[0m\u001b[0;34m\u001b[0m\u001b[0;34m\u001b[0m\u001b[0m\n\u001b[0m\u001b[1;32m    890\u001b[0m         for hook in itertools.chain(\n\u001b[1;32m    891\u001b[0m                 \u001b[0m_global_forward_hooks\u001b[0m\u001b[0;34m.\u001b[0m\u001b[0mvalues\u001b[0m\u001b[0;34m(\u001b[0m\u001b[0;34m)\u001b[0m\u001b[0;34m,\u001b[0m\u001b[0;34m\u001b[0m\u001b[0;34m\u001b[0m\u001b[0m\n",
      "\u001b[0;32m~/Artificial_Intelligence/Notebooks/Experimentals/NN_Func_Approx/Iterative_Learning/dtnnlib.py\u001b[0m in \u001b[0;36mforward\u001b[0;34m(self, x)\u001b[0m\n\u001b[1;32m     68\u001b[0m \u001b[0;34m\u001b[0m\u001b[0m\n\u001b[1;32m     69\u001b[0m     \u001b[0;32mdef\u001b[0m \u001b[0mforward\u001b[0m\u001b[0;34m(\u001b[0m\u001b[0mself\u001b[0m\u001b[0;34m,\u001b[0m \u001b[0mx\u001b[0m\u001b[0;34m)\u001b[0m\u001b[0;34m:\u001b[0m\u001b[0;34m\u001b[0m\u001b[0;34m\u001b[0m\u001b[0m\n\u001b[0;32m---> 70\u001b[0;31m         \u001b[0;32mreturn\u001b[0m \u001b[0mx\u001b[0m\u001b[0;34m*\u001b[0m\u001b[0mself\u001b[0m\u001b[0;34m.\u001b[0m\u001b[0mscaler\u001b[0m\u001b[0;34m+\u001b[0m\u001b[0mself\u001b[0m\u001b[0;34m.\u001b[0m\u001b[0mshifter\u001b[0m\u001b[0;34m\u001b[0m\u001b[0;34m\u001b[0m\u001b[0m\n\u001b[0m\u001b[1;32m     71\u001b[0m \u001b[0;34m\u001b[0m\u001b[0m\n\u001b[1;32m     72\u001b[0m \u001b[0;34m\u001b[0m\u001b[0m\n",
      "\u001b[0;31mKeyboardInterrupt\u001b[0m: "
     ]
    }
   ],
   "source": [
    "# optimizer = torch.optim.Adam(model.parameters(), lr=learning_rate)\n",
    "\n",
    "optimizer = torch.optim.Adam(params, lr=learning_rate)\n",
    "scheduler = torch.optim.lr_scheduler.CosineAnnealingLR(optimizer, T_max=EPOCHS)\n",
    "\n",
    "best_acc = -1\n",
    "for epoch in range(EPOCHS):\n",
    "    train(epoch, model, optimizer)\n",
    "    test(epoch, model, model_name, save=False)\n",
    "    scheduler.step()"
   ]
  },
  {
   "cell_type": "code",
   "execution_count": 109,
   "metadata": {},
   "outputs": [
    {
     "data": {
      "image/png": "[encoded data removed]",
      "text/plain": [
       "<Figure size 1000x1000 with 25 Axes>"
      ]
     },
     "metadata": {},
     "output_type": "display_data"
    }
   ],
   "source": [
    "_, axs = plt.subplots(5, 5, figsize=(10, 10))\n",
    "axs = axs.flatten()\n",
    "\n",
    "c = model.layer0.centers.data.cpu().numpy().reshape(-1, 28,28)\n",
    "imgs = c[:len(axs)]\n",
    "\n",
    "for img, ax in zip(imgs, axs):\n",
    "    ax.imshow(img)\n",
    "    ax.set_axis_off()\n",
    "\n",
    "plt.show()"
   ]
  },
  {
   "cell_type": "markdown",
   "metadata": {},
   "source": [
    "#### Test for random image sample"
   ]
  },
  {
   "cell_type": "code",
   "execution_count": 110,
   "metadata": {},
   "outputs": [],
   "source": [
    "with torch.no_grad():\n",
    "    inputs = torch.rand(10, 28*28).to(device)*2-1\n",
    "    xo = model.layer0(inputs)\n",
    "    xo = model.scale_shift(xo)\n",
    "    xo = model.softmax(xo).data"
   ]
  },
  {
   "cell_type": "code",
   "execution_count": 111,
   "metadata": {},
   "outputs": [
    {
     "data": {
      "text/plain": [
       "torch.return_types.max(\n",
       "values=tensor([0.9998, 0.9999, 0.9999, 0.9999, 1.0000, 1.0000, 1.0000, 1.0000, 1.0000,\n",
       "        0.9998]),\n",
       "indices=tensor([100, 100, 100, 100, 100, 100, 100, 100, 100, 100]))"
      ]
     },
     "execution_count": 111,
     "metadata": {},
     "output_type": "execute_result"
    }
   ],
   "source": [
    "# xo.argmax(dim=1)\n",
    "xo.max(dim=1)"
   ]
  },
  {
   "cell_type": "code",
   "execution_count": 112,
   "metadata": {},
   "outputs": [
    {
     "data": {
      "text/plain": [
       "<matplotlib.image.AxesImage at 0x7f9750b15d10>"
      ]
     },
     "execution_count": 112,
     "metadata": {},
     "output_type": "execute_result"
    },
    {
     "data": {
      "image/png": "[encoded data removed]",
      "text/plain": [
       "<Figure size 640x480 with 1 Axes>"
      ]
     },
     "metadata": {},
     "output_type": "display_data"
    }
   ],
   "source": [
    "j=0\n",
    "plt.imshow(inputs[j].reshape(28,28))"
   ]
  },
  {
   "cell_type": "code",
   "execution_count": 113,
   "metadata": {},
   "outputs": [
    {
     "data": {
      "text/plain": [
       "tensor([100,  98,  15,  23,  35,  82,  90,  49,   0,  93,  64,  51,   4,  41,\n",
       "         78,  58,  19,  88,  59,   1,  61,  25,   5,  12,  45,   7,  72,  80,\n",
       "         75,  97,  22,  87,  28,  27,  30,  33,  11,   3,  92,  67,  21,  85,\n",
       "         68,  66,  13,  71,  34,  46,   8,  37,  62,  99,  18,  20,  94,  42,\n",
       "         40,  52,  26,  73,  83,  84,  91,  56,  16,  96,  48,   9,  39,  74,\n",
       "         50,  57,  76,  17,  38,   6,  89,  54,  69,  77,  14,  79,  24,  53,\n",
       "         81,  44,  55,  86,  29,  10,  95,  60,  65,  36,  63,  32,  43,   2,\n",
       "         70,  47,  31])"
      ]
     },
     "execution_count": 113,
     "metadata": {},
     "output_type": "execute_result"
    }
   ],
   "source": [
    "i = -1\n",
    "nearest = torch.argsort(xo[j], descending=True)\n",
    "nearest"
   ]
  },
  {
   "cell_type": "code",
   "execution_count": 114,
   "metadata": {},
   "outputs": [
    {
     "data": {
      "text/plain": [
       "torch.Size([10, 101])"
      ]
     },
     "execution_count": 114,
     "metadata": {},
     "output_type": "execute_result"
    }
   ],
   "source": [
    "xo.shape"
   ]
  },
  {
   "cell_type": "code",
   "execution_count": 115,
   "metadata": {},
   "outputs": [
    {
     "name": "stdout",
     "output_type": "stream",
     "text": [
      "prob: tensor(0.9998)\n"
     ]
    }
   ],
   "source": [
    "i+=1\n",
    "print(\"prob:\", xo[0][nearest[i]])\n",
    "try:\n",
    "    plt.imshow(model.layer0.centers.data[nearest[i]].reshape(28,28))\n",
    "except:\n",
    "    pass"
   ]
  },
  {
   "cell_type": "code",
   "execution_count": 116,
   "metadata": {},
   "outputs": [],
   "source": [
    "with torch.no_grad():\n",
    "    xo_ = model.activ(xo)\n",
    "    xo_ = model.layer1(xo_).data"
   ]
  },
  {
   "cell_type": "code",
   "execution_count": 117,
   "metadata": {},
   "outputs": [
    {
     "data": {
      "text/plain": [
       "tensor([4, 4, 4, 4, 4, 4, 4, 4, 4, 4])"
      ]
     },
     "execution_count": 117,
     "metadata": {},
     "output_type": "execute_result"
    }
   ],
   "source": [
    "xo_.argmax(dim=1)"
   ]
  },
  {
   "cell_type": "code",
   "execution_count": 118,
   "metadata": {},
   "outputs": [],
   "source": [
    "#  model.layer1.weight[1], model.layer1.weight[10]"
   ]
  },
  {
   "cell_type": "code",
   "execution_count": 119,
   "metadata": {},
   "outputs": [
    {
     "data": {
      "text/plain": [
       "tensor([[0.9961, 1.0022, 1.3025, 0.9947, 0.9957, 0.9960, 1.0336, 0.9992, 0.9937,\n",
       "         1.0081, 1.0460, 0.9828, 0.9948, 1.0018, 1.0440, 0.9947, 1.0023, 1.0336,\n",
       "         0.9992, 0.9826, 0.9853, 1.0571, 0.9948, 0.9982, 1.0246, 1.0025, 1.0608,\n",
       "         0.9934, 0.9991, 1.1514, 0.9984, 1.0105, 1.0384, 0.9932, 0.9943, 0.9987,\n",
       "         1.0132, 0.9993, 1.0464, 1.0040, 1.0026, 0.9895, 0.9889, 1.0321, 1.0306,\n",
       "         1.0070, 1.0014, 1.0084, 0.9992, 0.9966, 0.9903, 1.0024, 1.0004, 1.0476,\n",
       "         1.0957, 1.0414, 0.9881, 1.1632, 0.9858, 1.0183, 1.0327, 0.9985, 1.0079,\n",
       "         1.0633, 1.0011, 0.9829, 0.9965, 0.9956, 0.9972, 1.0174, 1.0538, 1.0007,\n",
       "         1.0039, 0.9931, 1.0058, 0.9904, 1.2736, 1.0094, 1.0013, 1.0939, 0.9962,\n",
       "         1.1535, 0.9986, 0.9981, 1.0090, 1.0081, 1.0144, 1.0069, 1.0062, 1.0514,\n",
       "         0.9967, 1.0026, 0.9984, 1.0047, 1.1378, 1.0728, 0.9933, 0.9864, 0.9980,\n",
       "         0.9895, 1.0025]], grad_fn=<ExpBackward>)"
      ]
     },
     "execution_count": 119,
     "metadata": {},
     "output_type": "execute_result"
    }
   ],
   "source": [
    "## scaling of softmax activation\n",
    "torch.exp(model.activ.beta)"
   ]
  },
  {
   "cell_type": "code",
   "execution_count": 120,
   "metadata": {},
   "outputs": [
    {
     "data": {
      "text/plain": [
       "(-1.5683028, 1.4303712)"
      ]
     },
     "execution_count": 120,
     "metadata": {},
     "output_type": "execute_result"
    }
   ],
   "source": [
    "imgs.min(), imgs.max()"
   ]
  },
  {
   "cell_type": "code",
   "execution_count": 121,
   "metadata": {},
   "outputs": [
    {
     "data": {
      "text/plain": [
       "tensor([ 5.4754, -4.6243, -1.1677, -5.1153, -3.3043, -4.5984,  0.1756, -3.9587,\n",
       "        -1.3592, -4.3568, -3.8641])"
      ]
     },
     "execution_count": 121,
     "metadata": {},
     "output_type": "execute_result"
    }
   ],
   "source": [
    "model.layer1.weight.data[:,5]"
   ]
  },
  {
   "cell_type": "markdown",
   "metadata": {},
   "source": [
    "## Adverserial Test"
   ]
  },
  {
   "cell_type": "code",
   "execution_count": 122,
   "metadata": {},
   "outputs": [],
   "source": [
    "import foolbox as fb\n",
    "import foolbox.attacks as fa"
   ]
  },
  {
   "cell_type": "code",
   "execution_count": 137,
   "metadata": {},
   "outputs": [],
   "source": [
    "# fmodel = fb.PyTorchModel(model.eval(), bounds=(-1, 1), device=device)\n",
    "fmodel = fb.PyTorchModel(model.eval(), bounds=(-10, 10), device=device)\n",
    "\n",
    "\n",
    "# attack = fa.LinfPGD()\n",
    "# attack = fa.L2AdamPGD()\n",
    "attack = fa.FGSM()\n",
    "# epsilons = [0.0, 0.001, 0.01, 0.03, 0.1, 0.3, 0.5, 1.0]"
   ]
  },
  {
   "cell_type": "code",
   "execution_count": 138,
   "metadata": {},
   "outputs": [
    {
     "name": "stderr",
     "output_type": "stream",
     "text": [
      "100%|███████████████████████████████████████████████████| 200/200 [00:02<00:00, 95.88it/s]\n"
     ]
    }
   ],
   "source": [
    "count = 0\n",
    "failed = 0\n",
    "rejected = 0\n",
    "x_rejected = 0\n",
    "for i, (xx, yy) in enumerate(tqdm(test_loader)):\n",
    "    xx = xx.reshape(-1, 28*28)\n",
    "    \n",
    "    yout = model(xx)\n",
    "    reject_out = yout.argmax(dim=1) == 10\n",
    "    reject_hid = model.temp_maximum.max(dim=1)[1] == model.hidden_dim\n",
    "    reject = torch.bitwise_or(reject_out, reject_hid)\n",
    "    x_rejected += int(reject.type(torch.float32).sum())\n",
    "    \n",
    "    _, advs, success = attack(fmodel, xx, yy, epsilons=0.5)   \n",
    "    yout = model(advs)\n",
    "    reject_out = yout.argmax(dim=1) == 10\n",
    "    reject_hid = model.temp_maximum.max(dim=1)[1] == model.hidden_dim\n",
    "    reject = torch.bitwise_or(reject_out, reject_hid)\n",
    "#     reject = reject_out\n",
    "    rejected += int(reject.type(torch.float32).sum())\n",
    "    \n",
    "    fail = torch.bitwise_and(success, ~reject).type(torch.float32).sum()\n",
    "#     fail = success.type(torch.float32).sum()\n",
    "    failed += int(fail)    \n",
    "    count += len(xx)\n",
    "\n",
    "#     break"
   ]
  },
  {
   "cell_type": "code",
   "execution_count": 139,
   "metadata": {},
   "outputs": [],
   "source": [
    "# success"
   ]
  },
  {
   "cell_type": "code",
   "execution_count": 140,
   "metadata": {},
   "outputs": [
    {
     "data": {
      "text/plain": [
       "(10000, 3646, 5680, 449)"
      ]
     },
     "execution_count": 140,
     "metadata": {},
     "output_type": "execute_result"
    }
   ],
   "source": [
    "count, failed, rejected, x_rejected"
   ]
  },
  {
   "cell_type": "code",
   "execution_count": 141,
   "metadata": {},
   "outputs": [
    {
     "data": {
      "text/plain": [
       "0.4095"
      ]
     },
     "execution_count": 141,
     "metadata": {},
     "output_type": "execute_result"
    }
   ],
   "source": [
    "(failed+x_rejected)/count"
   ]
  },
  {
   "cell_type": "code",
   "execution_count": 1119,
   "metadata": {},
   "outputs": [],
   "source": [
    "# model.temp_maximum.max(dim=1)[1]"
   ]
  },
  {
   "cell_type": "code",
   "execution_count": 1120,
   "metadata": {},
   "outputs": [],
   "source": [
    "# yout.argmax(dim=1)"
   ]
  },
  {
   "cell_type": "code",
   "execution_count": 136,
   "metadata": {},
   "outputs": [],
   "source": [
    "model.layer0.epsilon = 15.\n",
    "# model.layer0.epsilon = -1.5"
   ]
  },
  {
   "cell_type": "code",
   "execution_count": 1122,
   "metadata": {},
   "outputs": [
    {
     "name": "stdout",
     "output_type": "stream",
     "text": [
      "\n"
     ]
    }
   ],
   "source": [
    "\"\"\"\n",
    "- not using \\std on dists causes the centers to move very little from initialization (even with large lr)... \n",
    "        and have better adverserial rejection\n",
    "- norm does not seem to work like std (poor optimization)\n",
    "- not clipping adverserial examples [0-1] causes less attack success.. (maximum of +-1.5 with FSGM)\n",
    "\"\"\"\n",
    "print()"
   ]
  },
  {
   "cell_type": "code",
   "execution_count": 1123,
   "metadata": {},
   "outputs": [
    {
     "data": {
      "text/plain": [
       "tensor([[-0.5000, -1.5000, -1.5000,  ..., -0.5000, -1.5000, -0.5000],\n",
       "        [-0.5000, -0.5000, -0.5000,  ..., -1.5000, -0.5000, -1.5000],\n",
       "        [-0.5000, -1.5000, -1.5000,  ..., -1.5000, -0.5000, -1.5000],\n",
       "        ...,\n",
       "        [-1.0104, -0.9939, -1.0037,  ..., -0.9833, -1.0090, -0.9833],\n",
       "        [-0.5000, -0.5000, -1.5000,  ..., -0.5000, -1.5000, -1.5000],\n",
       "        [-0.5000, -1.5000, -0.5000,  ..., -0.5000, -0.5000, -0.5000]])"
      ]
     },
     "execution_count": 1123,
     "metadata": {},
     "output_type": "execute_result"
    }
   ],
   "source": [
    "advs"
   ]
  },
  {
   "cell_type": "code",
   "execution_count": 1124,
   "metadata": {},
   "outputs": [
    {
     "data": {
      "text/plain": [
       "tensor(1.5000)"
      ]
     },
     "execution_count": 1124,
     "metadata": {},
     "output_type": "execute_result"
    }
   ],
   "source": [
    "advs.max()"
   ]
  },
  {
   "cell_type": "code",
   "execution_count": null,
   "metadata": {},
   "outputs": [],
   "source": []
  }
 ],
 "metadata": {
  "kernelspec": {
   "display_name": "Python 3 (ipykernel)",
   "language": "python",
   "name": "python3"
  },
  "language_info": {
   "codemirror_mode": {
    "name": "ipython",
    "version": 3
   },
   "file_extension": ".py",
   "mimetype": "text/x-python",
   "name": "python",
   "nbconvert_exporter": "python",
   "pygments_lexer": "ipython3",
   "version": "3.7.4"
  }
 },
 "nbformat": 4,
 "nbformat_minor": 4
}
