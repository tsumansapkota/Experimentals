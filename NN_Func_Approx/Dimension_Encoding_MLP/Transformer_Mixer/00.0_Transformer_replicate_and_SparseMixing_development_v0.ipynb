{
 "cells": [
  {
   "cell_type": "code",
   "execution_count": 1,
   "metadata": {},
   "outputs": [],
   "source": [
    "import torch\n",
    "import torch.nn as nn\n",
    "from torchvision import datasets, transforms\n",
    "\n",
    "import matplotlib\n",
    "import matplotlib.pyplot as plt\n",
    "import numpy as np\n",
    "\n",
    "import os, sys, pathlib, random, time, pickle, copy\n",
    "from tqdm import tqdm"
   ]
  },
  {
   "cell_type": "code",
   "execution_count": 2,
   "metadata": {},
   "outputs": [],
   "source": [
    "device = torch.device(\"cuda:0\")"
   ]
  },
  {
   "cell_type": "markdown",
   "metadata": {},
   "source": [
    "## Code copied from\n",
    "### https://www.youtube.com/watch?v=U0s0f995w14\n",
    "### https://github.com/aladdinpersson/Machine-Learning-Collection/blob/master/ML/Pytorch/more_advanced/transformer_from_scratch/transformer_from_scratch.py\n",
    "### modifying code from there"
   ]
  },
  {
   "cell_type": "code",
   "execution_count": 3,
   "metadata": {},
   "outputs": [],
   "source": [
    "class SelfAttention(nn.Module):\n",
    "    def __init__(self, embed_size, heads):\n",
    "        super(SelfAttention, self).__init__()\n",
    "        self.embed_size = embed_size\n",
    "        self.heads = heads\n",
    "        self.head_dim = embed_size // heads\n",
    "\n",
    "        assert (\n",
    "            self.head_dim * heads == embed_size\n",
    "        ), \"Embedding size needs to be divisible by heads\"\n",
    "\n",
    "        self.values = nn.Linear(embed_size, embed_size)\n",
    "        self.keys = nn.Linear(embed_size, embed_size)\n",
    "        self.queries = nn.Linear(embed_size, embed_size)\n",
    "        self.fc_out = nn.Linear(embed_size, embed_size)\n",
    "\n",
    "    def forward(self, values, keys, query, mask):\n",
    "        # Get number of training examples\n",
    "        N = query.shape[0]\n",
    "\n",
    "        value_len, key_len, query_len = values.shape[1], keys.shape[1], query.shape[1]\n",
    "\n",
    "        values = self.values(values)  # (N, value_len, embed_size)\n",
    "        keys = self.keys(keys)  # (N, key_len, embed_size)\n",
    "        queries = self.queries(query)  # (N, query_len, embed_size)\n",
    "\n",
    "        # Split the embedding into self.heads different pieces\n",
    "        values = values.reshape(N, value_len, self.heads, self.head_dim)\n",
    "        keys = keys.reshape(N, key_len, self.heads, self.head_dim)\n",
    "        queries = queries.reshape(N, query_len, self.heads, self.head_dim)\n",
    "\n",
    "        # Einsum does matrix mult. for query*keys for each training example\n",
    "        # with every other training example, don't be confused by einsum\n",
    "        # it's just how I like doing matrix multiplication & bmm\n",
    "\n",
    "        energy = torch.einsum(\"nqhd,nkhd->nhqk\", [queries, keys])\n",
    "        # queries shape: (N, query_len, heads, heads_dim),\n",
    "        # keys shape: (N, key_len, heads, heads_dim)\n",
    "        # energy: (N, heads, query_len, key_len)\n",
    "\n",
    "        # Mask padded indices so their weights become 0\n",
    "        if mask is not None:\n",
    "            energy = energy.masked_fill(mask == 0, float(\"-1e20\"))\n",
    "\n",
    "        # Normalize energy values similarly to seq2seq + attention\n",
    "        # so that they sum to 1. Also divide by scaling factor for\n",
    "        # better stability\n",
    "        attention = torch.softmax(energy / (self.embed_size ** (1 / 2)), dim=3)\n",
    "        # attention shape: (N, heads, query_len, key_len)\n",
    "\n",
    "        out = torch.einsum(\"nhql,nlhd->nqhd\", [attention, values]).reshape(\n",
    "            N, query_len, self.heads * self.head_dim\n",
    "        )\n",
    "        # attention shape: (N, heads, query_len, key_len)\n",
    "        # values shape: (N, value_len, heads, heads_dim)\n",
    "        # out after matrix multiply: (N, query_len, heads, head_dim), then\n",
    "        # we reshape and flatten the last two dimensions.\n",
    "\n",
    "        out = self.fc_out(out)\n",
    "        # Linear layer doesn't modify the shape, final shape will be\n",
    "        # (N, query_len, embed_size)\n",
    "\n",
    "        return out"
   ]
  },
  {
   "cell_type": "code",
   "execution_count": 4,
   "metadata": {},
   "outputs": [],
   "source": [
    "sa = SelfAttention(64, 8)"
   ]
  },
  {
   "cell_type": "code",
   "execution_count": 5,
   "metadata": {},
   "outputs": [
    {
     "data": {
      "text/plain": [
       "torch.Size([1, 128, 64])"
      ]
     },
     "execution_count": 5,
     "metadata": {},
     "output_type": "execute_result"
    }
   ],
   "source": [
    "## (N, value_len, embed_size)\n",
    "x = torch.randn(1, 128, 64)\n",
    "sa(x, x, x, None).shape"
   ]
  },
  {
   "cell_type": "markdown",
   "metadata": {},
   "source": [
    "## Self Attention in Block"
   ]
  },
  {
   "cell_type": "markdown",
   "metadata": {},
   "source": [
    "1. The k,q,v transform matrices are -> shared for each token; hence having multiple such layers might increase params\n",
    "2. The final linear transform matrix is also shared; mixing partial indirectly increases parameters for multiple mixing\n",
    "3. We want to have smaller sequence and mix them using block attention matrix."
   ]
  },
  {
   "cell_type": "code",
   "execution_count": 52,
   "metadata": {},
   "outputs": [],
   "source": [
    "class SelfAttention_Sparse(nn.Module):\n",
    "    def __init__(self, embed_size, heads):\n",
    "        super().__init__()\n",
    "        self.embed_size = embed_size\n",
    "        self.heads = heads\n",
    "        self.head_dim = embed_size // heads\n",
    "\n",
    "        assert (\n",
    "            self.head_dim * heads == embed_size\n",
    "        ), \"Embedding size needs to be divisible by heads\"\n",
    "\n",
    "        self.values = nn.Linear(embed_size, embed_size)\n",
    "        self.keys = nn.Linear(embed_size, embed_size)\n",
    "        self.queries = nn.Linear(embed_size, embed_size)\n",
    "        self.fc_out = nn.Linear(embed_size, embed_size)\n",
    "\n",
    "    def forward(self, values, keys, query, mask, block_size):\n",
    "        # Get number of training examples\n",
    "        N = query.shape[0]\n",
    "        \n",
    "        value_len, key_len, query_len = values.shape[1], keys.shape[1], query.shape[1]\n",
    "\n",
    "        values = self.values(values)  # (N, value_len, embed_size)\n",
    "        keys = self.keys(keys)  # (N, key_len, embed_size)\n",
    "        queries = self.queries(query)  # (N, query_len, embed_size)\n",
    "\n",
    "        # Split the embedding into self.heads different pieces\n",
    "        values = values.reshape(N, value_len//block_size, block_size, self.heads, self.head_dim)\n",
    "        keys = keys.reshape(N, key_len//block_size, block_size, self.heads, self.head_dim)\n",
    "        queries = queries.reshape(N, query_len//block_size, block_size, self.heads, self.head_dim)\n",
    "\n",
    "        # Einsum does matrix mult. for query*keys for each training example\n",
    "        # with every other training example, don't be confused by einsum\n",
    "        # it's just how I like doing matrix multiplication & bmm\n",
    "\n",
    "        energy = torch.einsum(\"n aq h d , n ak h d -> n h a qk\", [queries, keys])\n",
    "        # queries shape: (N, n_query_blocks, block_query_len, heads, heads_dim),\n",
    "        # keys shape: (N, n_key_blocks, block_key_len, heads, heads_dim)\n",
    "        # energy: (N, heads, n_query_blocks, block_query_len, block_key_len)\n",
    "\n",
    "        # Mask padded indices so their weights become 0\n",
    "        if mask is not None:\n",
    "            energy = energy.masked_fill(mask == 0, float(\"-1e20\"))\n",
    "\n",
    "        # Normalize energy values similarly to seq2seq + attention\n",
    "        # so that they sum to 1. Also divide by scaling factor for\n",
    "        # better stability\n",
    "        attention = torch.softmax(energy / (self.embed_size ** (1 / 2)), dim=-1)\n",
    "        # attention shape: (N, heads, num_blocks, query_len, key_len)\n",
    "\n",
    "        out = torch.einsum(\"n h a q k , n a k hd -> n a q hd\", [attention, values]).reshape(\n",
    "            N, query_len, self.heads * self.head_dim\n",
    "        )\n",
    "        # attention shape: (N, heads, num_blocks, query_len, key_len)\n",
    "        # values shape: (N, num_blocks, block_value_len, heads, heads_dim)\n",
    "        # out after matrix multiply: (N, num_blocks, block_query_len, heads, head_dim), then\n",
    "        # we reshape and flatten the (1,2)dimensions as well as (3,4) dimensions.\n",
    "\n",
    "        out = self.fc_out(out)\n",
    "        # Linear layer doesn't modify the shape, final shape will be\n",
    "        # (N, query_len, embed_size)\n",
    "        return out"
   ]
  },
  {
   "cell_type": "markdown",
   "metadata": {},
   "source": [
    "## Development"
   ]
  },
  {
   "cell_type": "code",
   "execution_count": 9,
   "metadata": {},
   "outputs": [],
   "source": [
    "###(N, query_len, heads, heads_dim)\n",
    "# N, seq_len, heads, heads_dim = (1, 32, 2, 4)\n",
    "N, seq_len, heads, heads_dim = (1, 512, 2, 4)\n",
    "\n",
    "k = torch.randn(N, seq_len, heads, heads_dim)\n",
    "q = torch.randn(N, seq_len, heads, heads_dim)\n",
    "v = torch.randn(N, seq_len, heads, heads_dim)"
   ]
  },
  {
   "cell_type": "code",
   "execution_count": 10,
   "metadata": {},
   "outputs": [],
   "source": [
    "k, q, v = k.to(device), q.to(device), v.to(device)"
   ]
  },
  {
   "cell_type": "code",
   "execution_count": 11,
   "metadata": {},
   "outputs": [
    {
     "data": {
      "text/plain": [
       "torch.Size([1, 2, 512, 512])"
      ]
     },
     "execution_count": 11,
     "metadata": {},
     "output_type": "execute_result"
    }
   ],
   "source": [
    "kq = torch.einsum(\"nqhd,nkhd->nhqk\", [k, q])\n",
    "kq.shape"
   ]
  },
  {
   "cell_type": "code",
   "execution_count": 12,
   "metadata": {},
   "outputs": [],
   "source": [
    "att = torch.softmax(kq / ((heads*heads_dim) ** (1 / 2)), dim=-1)"
   ]
  },
  {
   "cell_type": "code",
   "execution_count": 13,
   "metadata": {},
   "outputs": [],
   "source": [
    "out = torch.einsum(\"nhql,nlhd->nqhd\", [att, v])"
   ]
  },
  {
   "cell_type": "code",
   "execution_count": 14,
   "metadata": {},
   "outputs": [
    {
     "data": {
      "text/plain": [
       "torch.Size([1, 512, 2, 4])"
      ]
     },
     "execution_count": 14,
     "metadata": {},
     "output_type": "execute_result"
    }
   ],
   "source": [
    "out.shape"
   ]
  },
  {
   "cell_type": "code",
   "execution_count": 15,
   "metadata": {},
   "outputs": [
    {
     "name": "stdout",
     "output_type": "stream",
     "text": [
      "\n"
     ]
    }
   ],
   "source": [
    "# These are valid shapes for partial mixing\n",
    "'''\n",
    "{2: [2],\n",
    " 4: [2, 4],\n",
    " 8: [2, 8],\n",
    " 16: [2, 4, 16],\n",
    " 32: [2, 32],\n",
    " 64: [2, 4, 8, 64],\n",
    " 128: [2, 128],\n",
    " 256: [2, 4, 16, 256],\n",
    " 512: [2, 8, 512],\n",
    " 1024: [2, 4, 32, 1024],\n",
    " 2048: [2, 2048],\n",
    " 4096: [2, 4, 8, 16, 64, 4096]}\n",
    " '''\n",
    "print()"
   ]
  },
  {
   "cell_type": "code",
   "execution_count": 16,
   "metadata": {},
   "outputs": [],
   "source": [
    "block_size = 32 #8\n",
    "k_ = k.clone().reshape(k.shape[0], k.shape[1]//block_size, block_size, k.shape[2], k.shape[3]).contiguous()\n",
    "q_ = q.clone().reshape(q.shape[0], q.shape[1]//block_size, block_size, q.shape[2], q.shape[3]).contiguous()\n",
    "v_ = v.clone().reshape(v.shape[0], v.shape[1]//block_size, block_size, v.shape[2], v.shape[3]).contiguous()"
   ]
  },
  {
   "cell_type": "code",
   "execution_count": 222,
   "metadata": {},
   "outputs": [
    {
     "data": {
      "text/plain": [
       "1024"
      ]
     },
     "execution_count": 222,
     "metadata": {},
     "output_type": "execute_result"
    }
   ],
   "source": [
    "32*32"
   ]
  },
  {
   "cell_type": "code",
   "execution_count": 17,
   "metadata": {},
   "outputs": [
    {
     "data": {
      "text/plain": [
       "torch.Size([1, 16, 32, 2, 4])"
      ]
     },
     "execution_count": 17,
     "metadata": {},
     "output_type": "execute_result"
    }
   ],
   "source": [
    "###(N, num_blocks, query_block_len, heads, heads_dim)\n",
    "k_.shape"
   ]
  },
  {
   "cell_type": "code",
   "execution_count": 18,
   "metadata": {},
   "outputs": [
    {
     "data": {
      "text/plain": [
       "torch.Size([1, 2, 16, 32, 32])"
      ]
     },
     "execution_count": 18,
     "metadata": {},
     "output_type": "execute_result"
    }
   ],
   "source": [
    "### using partial attention\n",
    "kq_ = torch.einsum(\"n aq h d , n ak h d -> n h a qk\", [k_, q_])\n",
    "kq_.shape"
   ]
  },
  {
   "cell_type": "code",
   "execution_count": 19,
   "metadata": {},
   "outputs": [],
   "source": [
    "## kq_ = torch.Size([1, 2, 4, 8, 8])\n",
    "## batch size, num_heads, num_attention_blocks, (att0 , att1)"
   ]
  },
  {
   "cell_type": "code",
   "execution_count": 20,
   "metadata": {},
   "outputs": [],
   "source": [
    "att_ = torch.softmax(kq_ / (8 ** (1 / 2)), dim=-1) ## attention over a block only"
   ]
  },
  {
   "cell_type": "code",
   "execution_count": 21,
   "metadata": {},
   "outputs": [
    {
     "data": {
      "text/plain": [
       "torch.Size([1, 2, 16, 32, 32])"
      ]
     },
     "execution_count": 21,
     "metadata": {},
     "output_type": "execute_result"
    }
   ],
   "source": [
    "att_.shape"
   ]
  },
  {
   "cell_type": "code",
   "execution_count": 22,
   "metadata": {},
   "outputs": [],
   "source": [
    "out_ = torch.einsum(\"n h a q k , n a k hd -> n a q hd\", [att_, v_])"
   ]
  },
  {
   "cell_type": "code",
   "execution_count": 23,
   "metadata": {},
   "outputs": [
    {
     "data": {
      "text/plain": [
       "torch.Size([1, 16, 32, 2, 4])"
      ]
     },
     "execution_count": 23,
     "metadata": {},
     "output_type": "execute_result"
    }
   ],
   "source": [
    "out_.shape"
   ]
  },
  {
   "cell_type": "code",
   "execution_count": 24,
   "metadata": {},
   "outputs": [
    {
     "data": {
      "text/plain": [
       "torch.Size([1, 512, 8])"
      ]
     },
     "execution_count": 24,
     "metadata": {},
     "output_type": "execute_result"
    }
   ],
   "source": [
    "out_f_ = out_.reshape(out_.shape[0], out_.shape[1]*out_.shape[2], out_.shape[3]*out_.shape[4])\n",
    "out_f_.shape"
   ]
  },
  {
   "cell_type": "code",
   "execution_count": 25,
   "metadata": {},
   "outputs": [],
   "source": [
    "# out_f_"
   ]
  },
  {
   "cell_type": "markdown",
   "metadata": {},
   "source": [
    "### computing time"
   ]
  },
  {
   "cell_type": "code",
   "execution_count": 26,
   "metadata": {},
   "outputs": [],
   "source": [
    "def attention_func():\n",
    "    kq = torch.einsum(\"nqhd,nkhd->nhqk\", [k, q])\n",
    "    att = torch.softmax(kq / (8 ** (1 / 2)), dim=-1)\n",
    "    out = torch.einsum(\"nhql,nlhd->nqhd\", [att, v])\n",
    "\n",
    "def partial_attention_func():\n",
    "    kq_ = torch.einsum(\"n aq h d , n ak h d -> n h a qk\", [k_, q_])\n",
    "    att_ = torch.softmax(kq_ / (8 ** (1 / 2)), dim=-1)\n",
    "    out_ = torch.einsum(\"n h a q k , n a k hd -> n a q hd\", [att_, v_])"
   ]
  },
  {
   "cell_type": "code",
   "execution_count": 27,
   "metadata": {},
   "outputs": [
    {
     "name": "stdout",
     "output_type": "stream",
     "text": [
      "1.18 ms ± 237 ns per loop (mean ± std. dev. of 7 runs, 1000 loops each)\n"
     ]
    }
   ],
   "source": [
    "%timeit attention_func()"
   ]
  },
  {
   "cell_type": "code",
   "execution_count": 28,
   "metadata": {},
   "outputs": [
    {
     "name": "stdout",
     "output_type": "stream",
     "text": [
      "252 µs ± 123 µs per loop (mean ± std. dev. of 7 runs, 100 loops each)\n"
     ]
    }
   ],
   "source": [
    "%timeit partial_attention_func()"
   ]
  },
  {
   "cell_type": "code",
   "execution_count": null,
   "metadata": {},
   "outputs": [],
   "source": []
  },
  {
   "cell_type": "markdown",
   "metadata": {},
   "source": [
    "### Implement Full Transformer"
   ]
  },
  {
   "cell_type": "code",
   "execution_count": 53,
   "metadata": {},
   "outputs": [],
   "source": [
    "class TransformerBlock(nn.Module):\n",
    "    def __init__(self, embed_size, heads, dropout, forward_expansion, actf=nn.GELU):\n",
    "        super(TransformerBlock, self).__init__()\n",
    "        \n",
    "        self.attention = SelfAttention(embed_size, heads)\n",
    "        self.norm1 = nn.LayerNorm(embed_size)\n",
    "        self.norm2 = nn.LayerNorm(embed_size)\n",
    "\n",
    "        self.feed_forward = nn.Sequential(\n",
    "            nn.Linear(embed_size, forward_expansion * embed_size),\n",
    "            actf(),\n",
    "            nn.Linear(forward_expansion * embed_size, embed_size),\n",
    "        )\n",
    "\n",
    "        self.dropout = nn.Dropout(dropout)\n",
    "\n",
    "    def forward(self, value, key, query, mask):\n",
    "        attention = self.attention(value, key, query, mask)\n",
    "\n",
    "        # Add skip connection, run through normalization and finally dropout\n",
    "        x = self.dropout(self.norm1(attention + query))\n",
    "        forward = self.feed_forward(x)\n",
    "        out = self.dropout(self.norm2(forward + x))\n",
    "        return out"
   ]
  },
  {
   "cell_type": "code",
   "execution_count": 60,
   "metadata": {},
   "outputs": [],
   "source": [
    "## (N, value_len, embed_size)\n",
    "x = torch.randn(1, 128, 64)\n",
    "\n",
    "b = TransformerBlock(64, 8, 0, 2)"
   ]
  },
  {
   "cell_type": "code",
   "execution_count": 61,
   "metadata": {},
   "outputs": [
    {
     "data": {
      "text/plain": [
       "torch.Size([1, 128, 64])"
      ]
     },
     "execution_count": 61,
     "metadata": {},
     "output_type": "execute_result"
    }
   ],
   "source": [
    "b(x, x, x, None).shape"
   ]
  },
  {
   "cell_type": "markdown",
   "metadata": {},
   "source": [
    "## Sparse Block"
   ]
  },
  {
   "cell_type": "code",
   "execution_count": 327,
   "metadata": {},
   "outputs": [],
   "source": [
    "class Sparse_TransformerBlock(nn.Module):\n",
    "    def __init__(self, embed_size, heads, dropout, forward_expansion, actf=nn.GELU):\n",
    "        super().__init__()\n",
    "        \n",
    "        self.attention = SelfAttention_Sparse(embed_size, heads)\n",
    "            \n",
    "        self.norm1 = nn.LayerNorm(embed_size)\n",
    "\n",
    "        self.feed_forward = nn.Sequential(\n",
    "            nn.Linear(embed_size, forward_expansion * embed_size),\n",
    "            actf(),\n",
    "            nn.Linear(forward_expansion * embed_size, embed_size),\n",
    "        )\n",
    "        self.norm2 = nn.LayerNorm(embed_size)\n",
    "        self.dropout = nn.Dropout(dropout)\n",
    "\n",
    "    def forward(self, value, key, query, mask, block_size):\n",
    "        attention = self.attention(value, key, query, mask, block_size)\n",
    "\n",
    "        # Add skip connection, run through normalization and finally dropout\n",
    "        x = self.dropout(self.norm1(attention + query))\n",
    "        forward = self.feed_forward(x)\n",
    "        out = self.dropout(self.norm2(forward + x))\n",
    "        return out"
   ]
  },
  {
   "cell_type": "code",
   "execution_count": 328,
   "metadata": {},
   "outputs": [],
   "source": [
    "# class Mixer_TransformerBlock_Encoder(nn.Module):\n",
    "#     def __init__(self, seq_length, block_size, embed_size, heads, dropout, forward_expansion, actf=nn.GELU):\n",
    "#         super().__init__()\n",
    "#         assert 2**int(np.log2(block_size)) == block_size, 'Block size must be power of 2'\n",
    "#         assert 2**int(np.log2(seq_length)) == seq_length, 'Sequence length must be power of 2'\n",
    "#         assert seq_length%block_size == 0, 'Sequence length must be divisible exactly by block_size'\n",
    "        \n",
    "#         self.block_size = block_size\n",
    "#         self.seq_len = seq_length\n",
    "        \n",
    "#         def log_base(a, base):\n",
    "#             return np.log(a) / np.log(base)\n",
    "        \n",
    "#         num_layers = int(np.ceil(log_base(seq_length, base=block_size)))\n",
    "#         self.sparse_transformers = []\n",
    "#         for i in range(num_layers):\n",
    "#             tr = Sparse_TransformerBlock(embed_size, heads, dropout, forward_expansion, actf)\n",
    "#             self.sparse_transformers.append(tr)\n",
    "#         self.sparse_transformers = nn.ModuleList(self.sparse_transformers)\n",
    "        \n",
    "\n",
    "#     def forward(self, x, mask):\n",
    "#         N, seq_len, d_model = x.shape\n",
    "#         ### (N, seq_len, d_model) of the input x\n",
    "        \n",
    "#         assert seq_len == self.seq_len, 'The sequence length of given input does not match this model'\n",
    "            \n",
    "#         for i, fn in enumerate(self.sparse_transformers):\n",
    "# #             x = x.view(N, -1, self.block_size, self.block_size**i, d_model).permute(0, 1, 3, 2, 4).contiguous().view(N, seq_len, d_model)\n",
    "# #             x = fn(x, x, x, mask, self.block_size)\n",
    "# #             x = x.view(N, -1, self.block_size**i, self.block_size, d_model).permute(0, 1, 3, 2, 4).contiguous()\n",
    "\n",
    "#             x = x.view(N, -1, self.block_size, self.block_size**i, d_model).transpose(2, 3).contiguous().view(N, seq_len, d_model)\n",
    "#             x = fn(x, x, x, mask, self.block_size)\n",
    "#             x = x.view(N, -1, self.block_size**i, self.block_size, d_model).transpose(2, 3).contiguous()\n",
    "\n",
    "#         x = x.view(N, seq_len, -1)\n",
    "#         return x"
   ]
  },
  {
   "cell_type": "code",
   "execution_count": 329,
   "metadata": {},
   "outputs": [],
   "source": [
    "class Mixer_TransformerBlock_Encoder(nn.Module):\n",
    "    def __init__(self, seq_length, block_size, embed_size, heads, dropout, forward_expansion, actf=nn.GELU):\n",
    "        super().__init__()\n",
    "        assert 2**int(np.log2(block_size)) == block_size, 'Block size must be power of 2'\n",
    "        assert 2**int(np.log2(seq_length)) == seq_length, 'Sequence length must be power of 2'\n",
    "        assert seq_length%block_size == 0, 'Sequence length must be divisible exactly by block_size'\n",
    "        \n",
    "        self.block_size = block_size\n",
    "        self.seq_len = seq_length\n",
    "        \n",
    "        def log_base(a, base):\n",
    "            return np.log(a) / np.log(base)\n",
    "        \n",
    "        num_layers = int(np.ceil(log_base(seq_length, base=block_size)))\n",
    "        self.sparse_transformers = []\n",
    "        self.gaps = []\n",
    "        for i in range(num_layers):            \n",
    "            tr = Sparse_TransformerBlock(embed_size, heads, dropout, forward_expansion, actf)\n",
    "            self.sparse_transformers.append(tr)\n",
    "            ### find which permutation gives valid shape\n",
    "            gap = self.block_size**i\n",
    "            if gap*self.block_size <= self.seq_len:\n",
    "                self.gaps.append(gap)\n",
    "            else:\n",
    "                self.gaps.append(int(np.ceil(self.seq_len/self.block_size)))\n",
    "#                 break\n",
    "            \n",
    "        self.sparse_transformers = nn.ModuleList(self.sparse_transformers)\n",
    "        \n",
    "\n",
    "    def forward(self, x, mask):\n",
    "        N, seq_len, d_model = x.shape\n",
    "        ### (N, seq_len, d_model) of the input x\n",
    "        \n",
    "        assert seq_len == self.seq_len, 'The sequence length of given input does not match this model'\n",
    "            \n",
    "        for i, fn in enumerate(self.sparse_transformers):\n",
    "            gap = self.gaps[i]\n",
    "#             print(i, gap)\n",
    "            x = x.view(N, -1, self.block_size, gap, d_model).transpose(2, 3).contiguous().view(N, seq_len, d_model)\n",
    "            x = fn(x, x, x, mask, self.block_size)\n",
    "            x = x.view(N, -1, gap, self.block_size, d_model).transpose(2, 3).contiguous()\n",
    "\n",
    "        x = x.view(N, seq_len, -1)\n",
    "        return x"
   ]
  },
  {
   "cell_type": "code",
   "execution_count": 360,
   "metadata": {},
   "outputs": [],
   "source": [
    "S, B = 256, 16 \n",
    "x = torch.randn(1, S, 64)"
   ]
  },
  {
   "cell_type": "code",
   "execution_count": 361,
   "metadata": {},
   "outputs": [],
   "source": [
    "b = Mixer_TransformerBlock_Encoder(seq_length=S, block_size=B, \n",
    "                                   embed_size=64, heads=8, dropout=0, \n",
    "                                   forward_expansion=2)"
   ]
  },
  {
   "cell_type": "code",
   "execution_count": 362,
   "metadata": {},
   "outputs": [
    {
     "data": {
      "text/plain": [
       "torch.Size([1, 256, 64])"
      ]
     },
     "execution_count": 362,
     "metadata": {},
     "output_type": "execute_result"
    }
   ],
   "source": [
    "b(x, None).shape"
   ]
  },
  {
   "cell_type": "code",
   "execution_count": 363,
   "metadata": {
    "scrolled": true
   },
   "outputs": [
    {
     "data": {
      "text/plain": [
       "Mixer_TransformerBlock_Encoder(\n",
       "  (sparse_transformers): ModuleList(\n",
       "    (0): Sparse_TransformerBlock(\n",
       "      (attention): SelfAttention_Sparse(\n",
       "        (values): Linear(in_features=64, out_features=64, bias=True)\n",
       "        (keys): Linear(in_features=64, out_features=64, bias=True)\n",
       "        (queries): Linear(in_features=64, out_features=64, bias=True)\n",
       "        (fc_out): Linear(in_features=64, out_features=64, bias=True)\n",
       "      )\n",
       "      (norm1): LayerNorm((64,), eps=1e-05, elementwise_affine=True)\n",
       "      (feed_forward): Sequential(\n",
       "        (0): Linear(in_features=64, out_features=128, bias=True)\n",
       "        (1): GELU()\n",
       "        (2): Linear(in_features=128, out_features=64, bias=True)\n",
       "      )\n",
       "      (norm2): LayerNorm((64,), eps=1e-05, elementwise_affine=True)\n",
       "      (dropout): Dropout(p=0, inplace=False)\n",
       "    )\n",
       "    (1): Sparse_TransformerBlock(\n",
       "      (attention): SelfAttention_Sparse(\n",
       "        (values): Linear(in_features=64, out_features=64, bias=True)\n",
       "        (keys): Linear(in_features=64, out_features=64, bias=True)\n",
       "        (queries): Linear(in_features=64, out_features=64, bias=True)\n",
       "        (fc_out): Linear(in_features=64, out_features=64, bias=True)\n",
       "      )\n",
       "      (norm1): LayerNorm((64,), eps=1e-05, elementwise_affine=True)\n",
       "      (feed_forward): Sequential(\n",
       "        (0): Linear(in_features=64, out_features=128, bias=True)\n",
       "        (1): GELU()\n",
       "        (2): Linear(in_features=128, out_features=64, bias=True)\n",
       "      )\n",
       "      (norm2): LayerNorm((64,), eps=1e-05, elementwise_affine=True)\n",
       "      (dropout): Dropout(p=0, inplace=False)\n",
       "    )\n",
       "  )\n",
       ")"
      ]
     },
     "execution_count": 363,
     "metadata": {},
     "output_type": "execute_result"
    }
   ],
   "source": [
    "b"
   ]
  },
  {
   "cell_type": "code",
   "execution_count": 342,
   "metadata": {},
   "outputs": [
    {
     "data": {
      "text/plain": [
       "1.5999999999999999"
      ]
     },
     "execution_count": 342,
     "metadata": {},
     "output_type": "execute_result"
    }
   ],
   "source": [
    "log_base(256, 32)"
   ]
  },
  {
   "cell_type": "code",
   "execution_count": 344,
   "metadata": {},
   "outputs": [
    {
     "data": {
      "text/plain": [
       "tensor([[ 0,  0,  0,  0,  0],\n",
       "        [ 1,  1,  1,  1,  1],\n",
       "        [ 2,  2,  2,  2,  2],\n",
       "        [ 3,  3,  3,  3,  3],\n",
       "        [ 4,  4,  4,  4,  4],\n",
       "        [ 5,  5,  5,  5,  5],\n",
       "        [ 6,  6,  6,  6,  6],\n",
       "        [ 7,  7,  7,  7,  7],\n",
       "        [ 8,  8,  8,  8,  8],\n",
       "        [ 9,  9,  9,  9,  9],\n",
       "        [10, 10, 10, 10, 10],\n",
       "        [11, 11, 11, 11, 11],\n",
       "        [12, 12, 12, 12, 12],\n",
       "        [13, 13, 13, 13, 13],\n",
       "        [14, 14, 14, 14, 14],\n",
       "        [15, 15, 15, 15, 15],\n",
       "        [16, 16, 16, 16, 16],\n",
       "        [17, 17, 17, 17, 17],\n",
       "        [18, 18, 18, 18, 18],\n",
       "        [19, 19, 19, 19, 19],\n",
       "        [20, 20, 20, 20, 20],\n",
       "        [21, 21, 21, 21, 21],\n",
       "        [22, 22, 22, 22, 22],\n",
       "        [23, 23, 23, 23, 23],\n",
       "        [24, 24, 24, 24, 24],\n",
       "        [25, 25, 25, 25, 25],\n",
       "        [26, 26, 26, 26, 26],\n",
       "        [27, 27, 27, 27, 27],\n",
       "        [28, 28, 28, 28, 28],\n",
       "        [29, 29, 29, 29, 29],\n",
       "        [30, 30, 30, 30, 30],\n",
       "        [31, 31, 31, 31, 31]])"
      ]
     },
     "execution_count": 344,
     "metadata": {},
     "output_type": "execute_result"
    }
   ],
   "source": [
    "a = torch.arange(32).reshape(-1, 1)\n",
    "a = a.repeat_interleave(5, dim=1)\n",
    "a"
   ]
  },
  {
   "cell_type": "code",
   "execution_count": 345,
   "metadata": {},
   "outputs": [
    {
     "data": {
      "text/plain": [
       "tensor([[[[ 0,  0,  0,  0,  0],\n",
       "          [ 1,  1,  1,  1,  1],\n",
       "          [ 2,  2,  2,  2,  2],\n",
       "          [ 3,  3,  3,  3,  3]]],\n",
       "\n",
       "\n",
       "        [[[ 4,  4,  4,  4,  4],\n",
       "          [ 5,  5,  5,  5,  5],\n",
       "          [ 6,  6,  6,  6,  6],\n",
       "          [ 7,  7,  7,  7,  7]]],\n",
       "\n",
       "\n",
       "        [[[ 8,  8,  8,  8,  8],\n",
       "          [ 9,  9,  9,  9,  9],\n",
       "          [10, 10, 10, 10, 10],\n",
       "          [11, 11, 11, 11, 11]]],\n",
       "\n",
       "\n",
       "        [[[12, 12, 12, 12, 12],\n",
       "          [13, 13, 13, 13, 13],\n",
       "          [14, 14, 14, 14, 14],\n",
       "          [15, 15, 15, 15, 15]]],\n",
       "\n",
       "\n",
       "        [[[16, 16, 16, 16, 16],\n",
       "          [17, 17, 17, 17, 17],\n",
       "          [18, 18, 18, 18, 18],\n",
       "          [19, 19, 19, 19, 19]]],\n",
       "\n",
       "\n",
       "        [[[20, 20, 20, 20, 20],\n",
       "          [21, 21, 21, 21, 21],\n",
       "          [22, 22, 22, 22, 22],\n",
       "          [23, 23, 23, 23, 23]]],\n",
       "\n",
       "\n",
       "        [[[24, 24, 24, 24, 24],\n",
       "          [25, 25, 25, 25, 25],\n",
       "          [26, 26, 26, 26, 26],\n",
       "          [27, 27, 27, 27, 27]]],\n",
       "\n",
       "\n",
       "        [[[28, 28, 28, 28, 28],\n",
       "          [29, 29, 29, 29, 29],\n",
       "          [30, 30, 30, 30, 30],\n",
       "          [31, 31, 31, 31, 31]]]])"
      ]
     },
     "execution_count": 345,
     "metadata": {},
     "output_type": "execute_result"
    }
   ],
   "source": [
    "a.view(-1, 4, 1, 5).permute(0, 2, 1, 3)"
   ]
  },
  {
   "cell_type": "code",
   "execution_count": 346,
   "metadata": {},
   "outputs": [
    {
     "data": {
      "text/plain": [
       "tensor([[[[ 0,  0,  0,  0,  0],\n",
       "          [ 8,  8,  8,  8,  8],\n",
       "          [16, 16, 16, 16, 16],\n",
       "          [24, 24, 24, 24, 24]],\n",
       "\n",
       "         [[ 1,  1,  1,  1,  1],\n",
       "          [ 9,  9,  9,  9,  9],\n",
       "          [17, 17, 17, 17, 17],\n",
       "          [25, 25, 25, 25, 25]],\n",
       "\n",
       "         [[ 2,  2,  2,  2,  2],\n",
       "          [10, 10, 10, 10, 10],\n",
       "          [18, 18, 18, 18, 18],\n",
       "          [26, 26, 26, 26, 26]],\n",
       "\n",
       "         [[ 3,  3,  3,  3,  3],\n",
       "          [11, 11, 11, 11, 11],\n",
       "          [19, 19, 19, 19, 19],\n",
       "          [27, 27, 27, 27, 27]],\n",
       "\n",
       "         [[ 4,  4,  4,  4,  4],\n",
       "          [12, 12, 12, 12, 12],\n",
       "          [20, 20, 20, 20, 20],\n",
       "          [28, 28, 28, 28, 28]],\n",
       "\n",
       "         [[ 5,  5,  5,  5,  5],\n",
       "          [13, 13, 13, 13, 13],\n",
       "          [21, 21, 21, 21, 21],\n",
       "          [29, 29, 29, 29, 29]],\n",
       "\n",
       "         [[ 6,  6,  6,  6,  6],\n",
       "          [14, 14, 14, 14, 14],\n",
       "          [22, 22, 22, 22, 22],\n",
       "          [30, 30, 30, 30, 30]],\n",
       "\n",
       "         [[ 7,  7,  7,  7,  7],\n",
       "          [15, 15, 15, 15, 15],\n",
       "          [23, 23, 23, 23, 23],\n",
       "          [31, 31, 31, 31, 31]]]])"
      ]
     },
     "execution_count": 346,
     "metadata": {},
     "output_type": "execute_result"
    }
   ],
   "source": [
    "a.view(-1, 4, 8, 5).permute(0, 2, 1, 3)"
   ]
  },
  {
   "cell_type": "code",
   "execution_count": 347,
   "metadata": {},
   "outputs": [
    {
     "data": {
      "text/plain": [
       "2.5"
      ]
     },
     "execution_count": 347,
     "metadata": {},
     "output_type": "execute_result"
    }
   ],
   "source": [
    "log_base(32, 4)"
   ]
  },
  {
   "cell_type": "markdown",
   "metadata": {},
   "source": [
    "### Higher level blocks"
   ]
  },
  {
   "cell_type": "code",
   "execution_count": 146,
   "metadata": {},
   "outputs": [],
   "source": [
    "class Encoder(nn.Module):\n",
    "    def __init__(\n",
    "        self,\n",
    "        src_vocab_size,\n",
    "        embed_size,\n",
    "        num_layers,\n",
    "        heads,\n",
    "        device,\n",
    "        forward_expansion,\n",
    "        dropout,\n",
    "        max_length,\n",
    "    ):\n",
    "\n",
    "        super(Encoder, self).__init__()\n",
    "        self.embed_size = embed_size\n",
    "        self.device = device\n",
    "        self.word_embedding = nn.Embedding(src_vocab_size, embed_size)\n",
    "        self.position_embedding = nn.Embedding(max_length, embed_size)\n",
    "\n",
    "        self.layers = nn.ModuleList(\n",
    "            [\n",
    "                TransformerBlock(\n",
    "                    embed_size,\n",
    "                    heads,\n",
    "                    dropout=dropout,\n",
    "                    forward_expansion=forward_expansion,\n",
    "                )\n",
    "                for _ in range(num_layers)\n",
    "            ]\n",
    "        )\n",
    "\n",
    "        self.dropout = nn.Dropout(dropout)\n",
    "\n",
    "    def forward(self, x, mask):\n",
    "        N, seq_length = x.shape\n",
    "        positions = torch.arange(0, seq_length).expand(N, seq_length).to(self.device)\n",
    "        out = self.dropout(\n",
    "            (self.word_embedding(x) + self.position_embedding(positions))\n",
    "        )\n",
    "\n",
    "        # In the Encoder the query, key, value are all the same, it's in the\n",
    "        # decoder this will change. This might look a bit odd in this case.\n",
    "        for layer in self.layers:\n",
    "            out = layer(out, out, out, mask)\n",
    "\n",
    "        return out"
   ]
  },
  {
   "cell_type": "code",
   "execution_count": null,
   "metadata": {},
   "outputs": [],
   "source": [
    "class DecoderBlock(nn.Module):\n",
    "    def __init__(self, embed_size, heads, forward_expansion, dropout, device):\n",
    "        super(DecoderBlock, self).__init__()\n",
    "        self.norm = nn.LayerNorm(embed_size)\n",
    "        self.attention = SelfAttention(embed_size, heads=heads)\n",
    "        self.transformer_block = TransformerBlock(\n",
    "            embed_size, heads, dropout, forward_expansion\n",
    "        )\n",
    "        self.dropout = nn.Dropout(dropout)\n",
    "\n",
    "    def forward(self, x, value, key, src_mask, trg_mask):\n",
    "        attention = self.attention(x, x, x, trg_mask)\n",
    "        query = self.dropout(self.norm(attention + x))\n",
    "        out = self.transformer_block(value, key, query, src_mask)\n",
    "        return out"
   ]
  },
  {
   "cell_type": "code",
   "execution_count": null,
   "metadata": {},
   "outputs": [],
   "source": [
    "class Decoder(nn.Module):\n",
    "    def __init__(\n",
    "        self,\n",
    "        trg_vocab_size,\n",
    "        embed_size,\n",
    "        num_layers,\n",
    "        heads,\n",
    "        forward_expansion,\n",
    "        dropout,\n",
    "        device,\n",
    "        max_length,\n",
    "    ):\n",
    "        super(Decoder, self).__init__()\n",
    "        self.device = device\n",
    "        self.word_embedding = nn.Embedding(trg_vocab_size, embed_size)\n",
    "        self.position_embedding = nn.Embedding(max_length, embed_size)\n",
    "\n",
    "        self.layers = nn.ModuleList(\n",
    "            [\n",
    "                DecoderBlock(embed_size, heads, forward_expansion, dropout, device)\n",
    "                for _ in range(num_layers)\n",
    "            ]\n",
    "        )\n",
    "        self.fc_out = nn.Linear(embed_size, trg_vocab_size)\n",
    "        self.dropout = nn.Dropout(dropout)\n",
    "\n",
    "    def forward(self, x, enc_out, src_mask, trg_mask):\n",
    "        N, seq_length = x.shape\n",
    "        positions = torch.arange(0, seq_length).expand(N, seq_length).to(self.device)\n",
    "        x = self.dropout((self.word_embedding(x) + self.position_embedding(positions)))\n",
    "\n",
    "        for layer in self.layers:\n",
    "            x = layer(x, enc_out, enc_out, src_mask, trg_mask)\n",
    "\n",
    "        out = self.fc_out(x)\n",
    "        return out"
   ]
  }
 ],
 "metadata": {
  "kernelspec": {
   "display_name": "Python 3",
   "language": "python",
   "name": "python3"
  },
  "language_info": {
   "codemirror_mode": {
    "name": "ipython",
    "version": 3
   },
   "file_extension": ".py",
   "mimetype": "text/x-python",
   "name": "python",
   "nbconvert_exporter": "python",
   "pygments_lexer": "ipython3",
   "version": "3.7.4"
  }
 },
 "nbformat": 4,
 "nbformat_minor": 5
}
