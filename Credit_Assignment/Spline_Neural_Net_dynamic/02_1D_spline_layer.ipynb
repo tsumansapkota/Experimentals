{
 "cells": [
  {
   "cell_type": "code",
   "execution_count": 11,
   "metadata": {},
   "outputs": [],
   "source": [
    "import numpy as np\n",
    "import matplotlib.pyplot as plt\n",
    "import mylibrary.nnlib as tnn\n",
    "import mylibrary.datasets as datasets"
   ]
  },
  {
   "cell_type": "code",
   "execution_count": 12,
   "metadata": {},
   "outputs": [
    {
     "data": {
      "text/plain": [
       "<matplotlib.collections.PathCollection at 0x7f7bb4d71f60>"
      ]
     },
     "execution_count": 12,
     "metadata": {},
     "output_type": "execute_result"
    },
    {
     "data": {
      "image/png": "[encoded data removed]",
      "text/plain": [
       "<Figure size 432x288 with 1 Axes>"
      ]
     },
     "metadata": {
      "needs_background": "light"
     },
     "output_type": "display_data"
    }
   ],
   "source": [
    "%matplotlib inline\n",
    "x = np.linspace(0,1,400)\n",
    "noise = np.random.normal(0,0.02, x.shape)\n",
    "x = x + noise\n",
    "y= (2 * np.sin(10*x) + np.cos(20 * x - 3) + 3 * np.log(10*x + 0.5) - 4)/6.\n",
    "noise = np.random.normal(0,0.1, x.shape)\n",
    "y = y + noise\n",
    "x = x - 0.4 #x.mean() # good practice to zero-center x in linear mapping\n",
    "xx = x.reshape(-1,1)\n",
    "yy = y.reshape(-1,1)\n",
    "plt.scatter(x, y, marker='.', color='g')"
   ]
  },
  {
   "cell_type": "code",
   "execution_count": 13,
   "metadata": {},
   "outputs": [],
   "source": [
    "import mylibrary.splinelib as spline"
   ]
  },
  {
   "cell_type": "code",
   "execution_count": 14,
   "metadata": {},
   "outputs": [],
   "source": [
    "hidden_1 = 2\n",
    "# optimizer = tnn.Adam(learning_rate=0.003)\n",
    "optimizer = tnn.SGD(learning_rate=0.1)\n",
    "layer1 = tnn.LinearLayer(1, hidden_1, optimizer=optimizer)\n",
    "# layer2 = tnn.DoubleReluLayer(hidden_1, optimizer=optimizer)\n",
    "layer2 = spline.SplineVectorLayer(hidden_1, max_points=4)  # 2 -> Linear; 3 -> DoubleRelu\n",
    "layer3 = tnn.LinearLayer(hidden_1, 1, optimizer=optimizer)"
   ]
  },
  {
   "cell_type": "code",
   "execution_count": 15,
   "metadata": {},
   "outputs": [
    {
     "name": "stdout",
     "output_type": "stream",
     "text": [
      "_______________________\n",
      "epoch 0\n",
      "Loss 0.12137906229773003\n",
      "\n",
      "_______________________\n",
      "epoch 100\n",
      "Loss 0.037158857133689\n",
      "\n",
      "_______________________\n",
      "epoch 200\n",
      "Loss 0.03300710703130756\n",
      "\n",
      "_______________________\n",
      "epoch 300\n",
      "Loss 0.029762114699765516\n",
      "\n",
      "_______________________\n",
      "epoch 400\n",
      "Loss 0.026917541303504988\n",
      "\n",
      "_______________________\n",
      "epoch 500\n",
      "Loss 0.024404758400151244\n",
      "\n",
      "_______________________\n",
      "epoch 600\n",
      "Loss 0.021597594574107978\n",
      "\n",
      "_______________________\n",
      "epoch 700\n",
      "Loss 0.01834787421291189\n",
      "\n",
      "_______________________\n",
      "epoch 800\n",
      "Loss 0.013233551994941702\n",
      "\n",
      "_______________________\n",
      "epoch 900\n",
      "Loss 0.007515786553928407\n",
      "\n",
      "_______________________\n",
      "epoch 1000\n",
      "Loss 0.006007530304230932\n",
      "\n",
      "_______________________\n",
      "epoch 1100\n",
      "Loss 0.005573665124588418\n",
      "\n",
      "_______________________\n",
      "epoch 1200\n",
      "Loss 0.005564051527026873\n",
      "\n",
      "_______________________\n",
      "epoch 1300\n",
      "Loss 0.00556312046320755\n",
      "\n",
      "_______________________\n",
      "epoch 1400\n",
      "Loss 0.005562495162255505\n",
      "\n",
      "_______________________\n",
      "epoch 1500\n",
      "Loss 0.005562021229733601\n",
      "\n",
      "_______________________\n",
      "epoch 1600\n",
      "Loss 0.005561669268086012\n",
      "\n",
      "_______________________\n",
      "epoch 1700\n",
      "Loss 0.005561437366976187\n",
      "\n",
      "_______________________\n",
      "epoch 1800\n",
      "Loss 0.005561291077971852\n",
      "\n",
      "_______________________\n",
      "epoch 1900\n",
      "Loss 0.005561202976674367\n",
      "\n",
      "_______________________\n",
      "epoch 2000\n",
      "Loss 0.005561147912417506\n",
      "\n",
      "_______________________\n",
      "epoch 2100\n",
      "Loss 0.005561117074235638\n",
      "\n",
      "_______________________\n",
      "epoch 2200\n",
      "Loss 0.0055611022922570745\n",
      "\n",
      "_______________________\n",
      "epoch 2300\n",
      "Loss 0.005561080437511445\n",
      "\n",
      "_______________________\n",
      "epoch 2400\n",
      "Loss 0.005561077777465045\n",
      "\n",
      "_______________________\n",
      "epoch 2500\n",
      "Loss 0.005561067290691382\n",
      "\n",
      "_______________________\n",
      "epoch 2600\n",
      "Loss 0.0055610525375865485\n",
      "\n",
      "_______________________\n",
      "epoch 2700\n",
      "Loss 0.0055610603261580125\n",
      "\n",
      "_______________________\n",
      "epoch 2800\n",
      "Loss 0.0055610475601650085\n",
      "\n",
      "_______________________\n",
      "epoch 2900\n",
      "Loss 0.005561058074589415\n",
      "\n",
      "_______________________\n",
      "epoch 3000\n",
      "Loss 0.0055610440800377995\n",
      "\n",
      "_______________________\n",
      "epoch 3100\n",
      "Loss 0.005561044215209596\n",
      "\n",
      "_______________________\n",
      "epoch 3200\n",
      "Loss 0.0055610815461728256\n",
      "\n",
      "_______________________\n",
      "epoch 3300\n",
      "Loss 0.005561056906423592\n",
      "\n",
      "_______________________\n",
      "epoch 3400\n",
      "Loss 0.005561090169279897\n",
      "\n",
      "_______________________\n",
      "epoch 3500\n",
      "Loss 0.005561081125427074\n",
      "\n",
      "_______________________\n",
      "epoch 3600\n",
      "Loss 0.005561045636106526\n",
      "\n",
      "_______________________\n",
      "epoch 3700\n",
      "Loss 0.0055610843142112594\n",
      "\n",
      "_______________________\n",
      "epoch 3800\n",
      "Loss 0.0055610456204782934\n",
      "\n",
      "_______________________\n",
      "epoch 3900\n",
      "Loss 0.005561077594073938\n",
      "\n",
      "_______________________\n",
      "epoch 4000\n",
      "Loss 0.005561083278679101\n",
      "\n",
      "_______________________\n",
      "epoch 4100\n",
      "Loss 0.005561052879339932\n",
      "\n",
      "_______________________\n",
      "epoch 4200\n",
      "Loss 0.005561041523185515\n",
      "\n",
      "_______________________\n",
      "epoch 4300\n",
      "Loss 0.005561040262572938\n",
      "\n",
      "_______________________\n",
      "epoch 4400\n",
      "Loss 0.005561045090094669\n"
     ]
    },
    {
     "ename": "TclError",
     "evalue": "invalid command name \"pyimage92\"",
     "output_type": "error",
     "traceback": [
      "\u001b[0;31m---------------------------------------------------------------------------\u001b[0m",
      "\u001b[0;31mTclError\u001b[0m                                  Traceback (most recent call last)",
      "\u001b[0;32m<ipython-input-15-7281cb2f2409>\u001b[0m in \u001b[0;36m<module>\u001b[0;34m\u001b[0m\n\u001b[1;32m     37\u001b[0m         \u001b[0mplt\u001b[0m\u001b[0;34m.\u001b[0m\u001b[0mlegend\u001b[0m\u001b[0;34m(\u001b[0m\u001b[0;34m)\u001b[0m\u001b[0;34m\u001b[0m\u001b[0;34m\u001b[0m\u001b[0m\n\u001b[1;32m     38\u001b[0m \u001b[0;34m\u001b[0m\u001b[0m\n\u001b[0;32m---> 39\u001b[0;31m         \u001b[0mfig\u001b[0m\u001b[0;34m.\u001b[0m\u001b[0mcanvas\u001b[0m\u001b[0;34m.\u001b[0m\u001b[0mdraw\u001b[0m\u001b[0;34m(\u001b[0m\u001b[0;34m)\u001b[0m\u001b[0;34m\u001b[0m\u001b[0;34m\u001b[0m\u001b[0m\n\u001b[0m\u001b[1;32m     40\u001b[0m \u001b[0;34m\u001b[0m\u001b[0m\n\u001b[1;32m     41\u001b[0m         \u001b[0mplt\u001b[0m\u001b[0;34m.\u001b[0m\u001b[0mpause\u001b[0m\u001b[0;34m(\u001b[0m\u001b[0;36m0.01\u001b[0m\u001b[0;34m)\u001b[0m\u001b[0;34m\u001b[0m\u001b[0;34m\u001b[0m\u001b[0m\n",
      "\u001b[0;32m~/Program_Files/miniconda3.7/lib/python3.7/site-packages/matplotlib/backends/backend_tkagg.py\u001b[0m in \u001b[0;36mdraw\u001b[0;34m(self)\u001b[0m\n\u001b[1;32m      8\u001b[0m     \u001b[0;32mdef\u001b[0m \u001b[0mdraw\u001b[0m\u001b[0;34m(\u001b[0m\u001b[0mself\u001b[0m\u001b[0;34m)\u001b[0m\u001b[0;34m:\u001b[0m\u001b[0;34m\u001b[0m\u001b[0;34m\u001b[0m\u001b[0m\n\u001b[1;32m      9\u001b[0m         \u001b[0msuper\u001b[0m\u001b[0;34m(\u001b[0m\u001b[0mFigureCanvasTkAgg\u001b[0m\u001b[0;34m,\u001b[0m \u001b[0mself\u001b[0m\u001b[0;34m)\u001b[0m\u001b[0;34m.\u001b[0m\u001b[0mdraw\u001b[0m\u001b[0;34m(\u001b[0m\u001b[0;34m)\u001b[0m\u001b[0;34m\u001b[0m\u001b[0;34m\u001b[0m\u001b[0m\n\u001b[0;32m---> 10\u001b[0;31m         \u001b[0m_backend_tk\u001b[0m\u001b[0;34m.\u001b[0m\u001b[0mblit\u001b[0m\u001b[0;34m(\u001b[0m\u001b[0mself\u001b[0m\u001b[0;34m.\u001b[0m\u001b[0m_tkphoto\u001b[0m\u001b[0;34m,\u001b[0m \u001b[0mself\u001b[0m\u001b[0;34m.\u001b[0m\u001b[0mrenderer\u001b[0m\u001b[0;34m.\u001b[0m\u001b[0m_renderer\u001b[0m\u001b[0;34m,\u001b[0m \u001b[0;34m(\u001b[0m\u001b[0;36m0\u001b[0m\u001b[0;34m,\u001b[0m \u001b[0;36m1\u001b[0m\u001b[0;34m,\u001b[0m \u001b[0;36m2\u001b[0m\u001b[0;34m,\u001b[0m \u001b[0;36m3\u001b[0m\u001b[0;34m)\u001b[0m\u001b[0;34m)\u001b[0m\u001b[0;34m\u001b[0m\u001b[0;34m\u001b[0m\u001b[0m\n\u001b[0m\u001b[1;32m     11\u001b[0m         \u001b[0mself\u001b[0m\u001b[0;34m.\u001b[0m\u001b[0m_master\u001b[0m\u001b[0;34m.\u001b[0m\u001b[0mupdate_idletasks\u001b[0m\u001b[0;34m(\u001b[0m\u001b[0;34m)\u001b[0m\u001b[0;34m\u001b[0m\u001b[0;34m\u001b[0m\u001b[0m\n\u001b[1;32m     12\u001b[0m \u001b[0;34m\u001b[0m\u001b[0m\n",
      "\u001b[0;32m~/Program_Files/miniconda3.7/lib/python3.7/site-packages/matplotlib/backends/_backend_tk.py\u001b[0m in \u001b[0;36mblit\u001b[0;34m(photoimage, aggimage, offsets, bbox)\u001b[0m\n\u001b[1;32m     86\u001b[0m                    math.floor(y1), math.ceil(y2))\n\u001b[1;32m     87\u001b[0m     \u001b[0;32melse\u001b[0m\u001b[0;34m:\u001b[0m\u001b[0;34m\u001b[0m\u001b[0;34m\u001b[0m\u001b[0m\n\u001b[0;32m---> 88\u001b[0;31m         \u001b[0mphotoimage\u001b[0m\u001b[0;34m.\u001b[0m\u001b[0mblank\u001b[0m\u001b[0;34m(\u001b[0m\u001b[0;34m)\u001b[0m\u001b[0;34m\u001b[0m\u001b[0;34m\u001b[0m\u001b[0m\n\u001b[0m\u001b[1;32m     89\u001b[0m         \u001b[0mbboxptr\u001b[0m \u001b[0;34m=\u001b[0m \u001b[0;34m(\u001b[0m\u001b[0;36m0\u001b[0m\u001b[0;34m,\u001b[0m \u001b[0mwidth\u001b[0m\u001b[0;34m,\u001b[0m \u001b[0;36m0\u001b[0m\u001b[0;34m,\u001b[0m \u001b[0mheight\u001b[0m\u001b[0;34m)\u001b[0m\u001b[0;34m\u001b[0m\u001b[0;34m\u001b[0m\u001b[0m\n\u001b[1;32m     90\u001b[0m     _tkagg.blit(\n",
      "\u001b[0;32m~/Program_Files/miniconda3.7/lib/python3.7/tkinter/__init__.py\u001b[0m in \u001b[0;36mblank\u001b[0;34m(self)\u001b[0m\n\u001b[1;32m   3546\u001b[0m     \u001b[0;32mdef\u001b[0m \u001b[0mblank\u001b[0m\u001b[0;34m(\u001b[0m\u001b[0mself\u001b[0m\u001b[0;34m)\u001b[0m\u001b[0;34m:\u001b[0m\u001b[0;34m\u001b[0m\u001b[0;34m\u001b[0m\u001b[0m\n\u001b[1;32m   3547\u001b[0m         \u001b[0;34m\"\"\"Display a transparent image.\"\"\"\u001b[0m\u001b[0;34m\u001b[0m\u001b[0;34m\u001b[0m\u001b[0m\n\u001b[0;32m-> 3548\u001b[0;31m         \u001b[0mself\u001b[0m\u001b[0;34m.\u001b[0m\u001b[0mtk\u001b[0m\u001b[0;34m.\u001b[0m\u001b[0mcall\u001b[0m\u001b[0;34m(\u001b[0m\u001b[0mself\u001b[0m\u001b[0;34m.\u001b[0m\u001b[0mname\u001b[0m\u001b[0;34m,\u001b[0m \u001b[0;34m'blank'\u001b[0m\u001b[0;34m)\u001b[0m\u001b[0;34m\u001b[0m\u001b[0;34m\u001b[0m\u001b[0m\n\u001b[0m\u001b[1;32m   3549\u001b[0m     \u001b[0;32mdef\u001b[0m \u001b[0mcget\u001b[0m\u001b[0;34m(\u001b[0m\u001b[0mself\u001b[0m\u001b[0;34m,\u001b[0m \u001b[0moption\u001b[0m\u001b[0;34m)\u001b[0m\u001b[0;34m:\u001b[0m\u001b[0;34m\u001b[0m\u001b[0;34m\u001b[0m\u001b[0m\n\u001b[1;32m   3550\u001b[0m         \u001b[0;34m\"\"\"Return the value of OPTION.\"\"\"\u001b[0m\u001b[0;34m\u001b[0m\u001b[0;34m\u001b[0m\u001b[0m\n",
      "\u001b[0;31mTclError\u001b[0m: invalid command name \"pyimage92\""
     ]
    }
   ],
   "source": [
    "%matplotlib tk\n",
    "fig = plt.figure()\n",
    "ax = fig.add_subplot(1, 1, 1)\n",
    "plt.ion()\n",
    "fig.show()\n",
    "fig.canvas.draw()\n",
    "\n",
    "for step in range(10000):\n",
    "    a1 = layer1.forward(xx)\n",
    "    a2 = layer2.forward(a1)\n",
    "    yout = layer3.forward(a2)\n",
    "    \n",
    "    loss = tnn.MseLoss.loss(yout, yy)\n",
    "    dy = tnn.MseLoss.del_loss(yout, yy)\n",
    "    \n",
    "    da2 = layer3.backward(dy)\n",
    "    da1 = layer2.backward(da2)\n",
    "    dx = layer1.backward(da1)\n",
    "\n",
    "    layer1.update()\n",
    "    layer2.update()\n",
    "    layer3.update()\n",
    "    \n",
    "    if step % 100 == 0:\n",
    "        layer2._maintain_good_spline_()\n",
    "        \n",
    "        print('_______________________')\n",
    "        print(\"epoch\", step)\n",
    "        print(\"Loss\", loss)\n",
    "\n",
    "        ax.clear()\n",
    "        plt.scatter(x, y, marker='.', c='g', label='x,y')\n",
    "        plt.scatter(x, yout.reshape(-1), marker='.', c='r', lw=3, label='x,a1')\n",
    "        plt.scatter(x, dx.reshape(-1), marker='*', c='c', lw=1, label='x,dx')\n",
    "        plt.scatter(x, dy.reshape(-1), marker='.', c='m', lw=1, label='x,dy')\n",
    "        plt.plot(x, np.zeros_like(x), c='b', lw=2)\n",
    "        plt.legend()\n",
    "        \n",
    "        fig.canvas.draw()\n",
    "        \n",
    "        plt.pause(0.01)\n",
    "        print()\n",
    "        if loss < 0.0025:\n",
    "            print('fitted to our expectation')\n",
    "            plt.pause(50)\n",
    "            break"
   ]
  },
  {
   "cell_type": "code",
   "execution_count": 18,
   "metadata": {},
   "outputs": [
    {
     "data": {
      "text/plain": [
       "[<matplotlib.lines.Line2D at 0x7f7bb48df588>]"
      ]
     },
     "execution_count": 18,
     "metadata": {},
     "output_type": "execute_result"
    },
    {
     "data": {
      "image/png": "[encoded data removed]",
      "text/plain": [
       "<Figure size 432x288 with 1 Axes>"
      ]
     },
     "metadata": {
      "needs_background": "light"
     },
     "output_type": "display_data"
    }
   ],
   "source": [
    "%matplotlib inline\n",
    "plt.scatter(x, y, marker='.', c='g', label='x,y')\n",
    "plt.scatter(x, yout.reshape(-1), marker='.', c='r', lw=3, label='x,a1')\n",
    "# plt.scatter(x, dx.reshape(-1), marker='*', c='c', lw=1, label='x,dx')\n",
    "plt.scatter(x, dy.reshape(-1), marker='.', c='m', lw=1, label='x,dy')\n",
    "plt.plot(x, np.zeros_like(x), c='b', lw=2)"
   ]
  },
  {
   "cell_type": "code",
   "execution_count": 19,
   "metadata": {},
   "outputs": [
    {
     "data": {
      "text/plain": [
       "(400, 2)"
      ]
     },
     "execution_count": 19,
     "metadata": {},
     "output_type": "execute_result"
    }
   ],
   "source": [
    "i=-1\n",
    "layer3.input.shape"
   ]
  },
  {
   "cell_type": "code",
   "execution_count": 21,
   "metadata": {},
   "outputs": [
    {
     "data": {
      "text/plain": [
       "(-1.7178784459811746e-05, 0.007858019677470452)"
      ]
     },
     "execution_count": 21,
     "metadata": {},
     "output_type": "execute_result"
    },
    {
     "data": {
      "image/png": "[encoded data removed]",
      "text/plain": [
       "<Figure size 432x288 with 1 Axes>"
      ]
     },
     "metadata": {
      "needs_background": "light"
     },
     "output_type": "display_data"
    }
   ],
   "source": [
    "i+=1\n",
    "a1 = layer2.input\n",
    "a2 = layer3.input\n",
    "da2 = layer2.del_output\n",
    "a2_ = a2 - da2\n",
    "plt.scatter(a1[:, i], a2_[:, i], marker='.')\n",
    "plt.scatter(a1[:, i], a2[:, i], marker='.')\n",
    "plt.plot(layer2.spline_list[i].X,  layer2.spline_list[i].Y, marker='o')\n",
    "da2[:,i].mean(), da2[:,i].var()"
   ]
  },
  {
   "cell_type": "code",
   "execution_count": 20,
   "metadata": {},
   "outputs": [
    {
     "data": {
      "text/plain": [
       "array([-0.01616245, -0.01828838])"
      ]
     },
     "execution_count": 20,
     "metadata": {},
     "output_type": "execute_result"
    }
   ],
   "source": [
    "da2.mean(axis=0)"
   ]
  },
  {
   "cell_type": "code",
   "execution_count": 21,
   "metadata": {},
   "outputs": [
    {
     "data": {
      "text/plain": [
       "array([0.28754388, 0.32536615])"
      ]
     },
     "execution_count": 21,
     "metadata": {},
     "output_type": "execute_result"
    }
   ],
   "source": [
    "da2.std(axis=0)"
   ]
  },
  {
   "cell_type": "code",
   "execution_count": 23,
   "metadata": {},
   "outputs": [],
   "source": [
    "layer2._increase_pieces_()"
   ]
  },
  {
   "cell_type": "code",
   "execution_count": null,
   "metadata": {},
   "outputs": [],
   "source": []
  }
 ],
 "metadata": {
  "kernelspec": {
   "display_name": "Python 3",
   "language": "python",
   "name": "python3"
  },
  "language_info": {
   "codemirror_mode": {
    "name": "ipython",
    "version": 3
   },
   "file_extension": ".py",
   "mimetype": "text/x-python",
   "name": "python",
   "nbconvert_exporter": "python",
   "pygments_lexer": "ipython3",
   "version": "3.7.3"
  }
 },
 "nbformat": 4,
 "nbformat_minor": 2
}
