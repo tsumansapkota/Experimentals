{
 "cells": [
  {
   "cell_type": "code",
   "execution_count": 1,
   "metadata": {},
   "outputs": [],
   "source": [
    "import numpy as np\n",
    "import copy\n",
    "import matplotlib\n",
    "import matplotlib.pyplot as plt\n",
    "# from mpl_toolkits.mplot3d import Axes3D"
   ]
  },
  {
   "cell_type": "code",
   "execution_count": 2,
   "metadata": {},
   "outputs": [],
   "source": [
    "import torch\n",
    "import torch.nn as nn\n",
    "import torch.nn.functional as F\n",
    "\n",
    "from torchvision import datasets, transforms as T\n",
    "from torch.utils import data"
   ]
  },
  {
   "cell_type": "code",
   "execution_count": 3,
   "metadata": {},
   "outputs": [],
   "source": [
    "from tqdm import tqdm\n",
    "import os, time, sys\n",
    "import json"
   ]
  },
  {
   "cell_type": "code",
   "execution_count": 4,
   "metadata": {},
   "outputs": [],
   "source": [
    "import dtnnlib as dtnn\n",
    "# import resnet_cifar"
   ]
  },
  {
   "cell_type": "code",
   "execution_count": 5,
   "metadata": {},
   "outputs": [],
   "source": [
    "mnist_transform = T.Compose([\n",
    "    T.ToTensor(),\n",
    "    T.Normalize(\n",
    "        mean=0.5,\n",
    "        std=0.5,\n",
    "    ),\n",
    "])\n",
    "\n",
    "train_dataset = datasets.FashionMNIST(root=\"../../../_Datasets/\", train=True, download=True, transform=mnist_transform)\n",
    "test_dataset = datasets.FashionMNIST(root=\"../../../_Datasets/\", train=False, download=True, transform=mnist_transform)\n",
    "# train_dataset = datasets.MNIST(root=\"../../../_Datasets/\", train=True, download=True, transform=mnist_transform)\n",
    "# test_dataset = datasets.MNIST(root=\"../../../_Datasets/\", train=False, download=True, transform=mnist_transform)"
   ]
  },
  {
   "cell_type": "code",
   "execution_count": 6,
   "metadata": {},
   "outputs": [
    {
     "data": {
      "text/plain": [
       "torch.Size([60000, 28, 28])"
      ]
     },
     "execution_count": 6,
     "metadata": {},
     "output_type": "execute_result"
    }
   ],
   "source": [
    "train_dataset.data.shape"
   ]
  },
  {
   "cell_type": "code",
   "execution_count": 7,
   "metadata": {},
   "outputs": [],
   "source": [
    "batch_size = 50\n",
    "train_loader = data.DataLoader(dataset=train_dataset, num_workers=4, batch_size=batch_size, shuffle=True)\n",
    "test_loader = data.DataLoader(dataset=test_dataset, num_workers=4, batch_size=batch_size, shuffle=False)"
   ]
  },
  {
   "cell_type": "code",
   "execution_count": 8,
   "metadata": {},
   "outputs": [],
   "source": [
    "device = torch.device(\"cpu\")"
   ]
  },
  {
   "cell_type": "code",
   "execution_count": 9,
   "metadata": {},
   "outputs": [
    {
     "name": "stdout",
     "output_type": "stream",
     "text": [
      "torch.Size([50, 1, 28, 28])\n",
      "torch.Size([50, 784]) torch.Size([50])\n"
     ]
    }
   ],
   "source": [
    "for xx, yy in train_loader:\n",
    "    print(xx.shape)\n",
    "    xx, yy = xx.view(-1,28*28).to(device), yy.to(device)\n",
    "    print(xx.shape, yy.shape)\n",
    "    break"
   ]
  },
  {
   "cell_type": "markdown",
   "metadata": {},
   "source": [
    "## Train Test method"
   ]
  },
  {
   "cell_type": "code",
   "execution_count": 10,
   "metadata": {},
   "outputs": [],
   "source": [
    "criterion = nn.CrossEntropyLoss()"
   ]
  },
  {
   "cell_type": "code",
   "execution_count": 11,
   "metadata": {},
   "outputs": [],
   "source": [
    "## Following is copied from \n",
    "### https://github.com/kuangliu/pytorch-cifar/blob/master/main.py\n",
    "\n",
    "# Training\n",
    "def train(epoch, model, optimizer):\n",
    "    model.train()\n",
    "    train_loss = 0\n",
    "    correct = 0\n",
    "    total = 0\n",
    "    for batch_idx, (inputs, targets) in enumerate(tqdm(train_loader)):\n",
    "        inputs, targets = inputs.to(device).view(-1, 28*28), targets.to(device)\n",
    "        \n",
    "        ### Train with random image and \"10\" as class\n",
    "#         inputs = torch.cat([inputs, torch.rand(batch_size//10, 28*28, dtype=inputs.dtype).to(device)*2-1], dim=0)\n",
    "#         targets = torch.cat([targets, torch.ones(batch_size//10, dtype=targets.dtype).to(device)*10], dim=0)\n",
    "        \n",
    "        optimizer.zero_grad()\n",
    "        outputs = model(inputs)\n",
    "        loss = criterion(outputs, targets)\n",
    "        loss.backward()\n",
    "        optimizer.step()\n",
    "\n",
    "        train_loss += loss.item()\n",
    "        _, predicted = outputs.max(1)\n",
    "        total += targets.size(0)\n",
    "        correct += predicted.eq(targets).sum().item()\n",
    "    print(f\"[Train] {epoch} Loss: {train_loss/(batch_idx+1):.3f} | Acc: {100.*correct/total:.3f} {correct}/{total}\")\n",
    "    return"
   ]
  },
  {
   "cell_type": "code",
   "execution_count": 12,
   "metadata": {},
   "outputs": [],
   "source": [
    "best_acc = -1\n",
    "def test(epoch, model, model_name, save=False):\n",
    "    global best_acc\n",
    "    model.eval()\n",
    "    test_loss = 0\n",
    "    correct = 0\n",
    "    total = 0\n",
    "    with torch.no_grad():\n",
    "        for batch_idx, (inputs, targets) in enumerate(tqdm(test_loader)):\n",
    "            inputs, targets = inputs.to(device).view(-1, 28*28), targets.to(device)\n",
    "            outputs = model(inputs)\n",
    "            loss = criterion(outputs, targets)\n",
    "\n",
    "            test_loss += loss.item()\n",
    "            _, predicted = outputs.max(1)\n",
    "            total += targets.size(0)\n",
    "            correct += predicted.eq(targets).sum().item()\n",
    "            \n",
    "    print(f\"[Test] {epoch} Loss: {test_loss/(batch_idx+1):.3f} | Acc: {100.*correct/total:.3f} {correct}/{total}\")\n",
    "    \n",
    "    # Save checkpoint.\n",
    "    acc = 100.*correct/total\n",
    "    if acc > best_acc:\n",
    "        print('Saving..')\n",
    "        state = {\n",
    "            'model': model.state_dict(),\n",
    "            'acc': acc,\n",
    "            'epoch': epoch,\n",
    "        }\n",
    "        if save:\n",
    "            if not os.path.isdir('models'):\n",
    "                os.mkdir('models')\n",
    "            torch.save(state, f'./models/{model_name}.pth')\n",
    "        best_acc = acc"
   ]
  },
  {
   "cell_type": "markdown",
   "metadata": {},
   "source": [
    "## Models"
   ]
  },
  {
   "cell_type": "code",
   "execution_count": 13,
   "metadata": {},
   "outputs": [],
   "source": [
    "class DistanceTransform_Epsilon(dtnn.DistanceTransformBase):\n",
    "    \n",
    "    def __init__(self, input_dim, num_centers, p=2, bias=False, epsilon=0.1):\n",
    "        super().__init__(input_dim, num_centers, p=2)\n",
    "        \n",
    "        nc = num_centers\n",
    "        if epsilon is not None:\n",
    "            nc += 1\n",
    "        self.scaler = nn.Parameter(torch.log(torch.ones(1, 1)*1))\n",
    "#         self.scaler = nn.Parameter(torch.log(torch.ones(1, nc)*1))\n",
    "        self.bias = nn.Parameter(torch.ones(1, nc)*0) if bias else None\n",
    "        self.epsilon = epsilon\n",
    "        \n",
    "    def forward(self, x):\n",
    "        dists = super().forward(x)\n",
    "        \n",
    "        if self.epsilon is not None:\n",
    "            dists = torch.cat([dists, torch.ones(len(x), 1, dtype=x.dtype)*self.epsilon], dim=1)\n",
    "        \n",
    "        ### normalize similar to UMAP\n",
    "#         dists = dists/torch.sqrt(dists.var(dim=1, keepdim=True)+1e-9)\n",
    "        \n",
    "    \n",
    "        #### for norm\n",
    "#         dists = torch.exp(-dists) ### solves degenerate cases of centers != maxima & also needed for norm\n",
    "#         dists = -dists + dists.max(dim=1, keepdim=True)[0] ## replacement for e^{-d} -> making similarity (and also better)\n",
    "#         dists = dists/(torch.norm(dists, dim=1, keepdim=True)/(dists.shape[-1]**0.5)+1e-9)\n",
    "        \n",
    "        ## scale the dists\n",
    "#         dists = torch.exp(-dists.abs()+self.scaler)\n",
    "        dists = 1-dists*torch.exp(self.scaler) ## use with simple or /std\n",
    "#         dists = dists*torch.exp(self.scaler) ## use with norm\n",
    "    \n",
    "        if self.bias is not None: dists = dists+self.bias\n",
    "        return dists"
   ]
  },
  {
   "cell_type": "code",
   "execution_count": 69,
   "metadata": {},
   "outputs": [],
   "source": [
    "class LocalMLP_epsilonsoftmax(nn.Module):\n",
    "    \n",
    "    def __init__(self, input_dim, hidden_dim, output_dim, epsilon=1.0):\n",
    "        super().__init__()\n",
    "        \n",
    "        self.input_dim = input_dim\n",
    "        self.hidden_dim = hidden_dim\n",
    "        self.new_hidden_dim = 0\n",
    "        self.output_dim = output_dim\n",
    "        \n",
    "        self.layer0 = DistanceTransform_Epsilon(self.input_dim, self.hidden_dim, bias=True, epsilon=epsilon)\n",
    "        hdim = self.hidden_dim\n",
    "        if epsilon is not None:\n",
    "            hdim += 1\n",
    "            \n",
    "#         self.scale_shift = dtnn.ScaleShift(hdim, scaler_init=3, shifter_init=0, scaler_const=True, shifter_const=True)\n",
    "        self.scale_shift = dtnn.ScaleShift(hdim, scaler_init=10, shifter_init=0, scaler_const=True, shifter_const=True)\n",
    "        self.softmax = nn.Softmax(dim=-1)\n",
    "#         self.softmax = F.gumbel_softmax\n",
    "\n",
    "#         self.activ = dtnn.OneActiv(hdim, mode='exp_1.6', beta_init=np.log(2))\n",
    "        self.activ = dtnn.OneActiv(hdim, mode='relu', beta_init=np.log(1.2))\n",
    "#         self.activ = nn.ReLU()\n",
    "\n",
    "        self.layer1 = nn.Linear(hdim, self.output_dim)\n",
    "    \n",
    "        self.temp_maximum = None\n",
    "        \n",
    "    def forward(self, x):\n",
    "        xo = self.layer0(x)\n",
    "        ## dropout here creates 0 actv (is relatively high), hence serves as noise --> does not work for high values\n",
    "#         xo = F.dropout(xo, p=0.001, training=self.training)\n",
    "        xo = self.scale_shift(xo)\n",
    "        xo = self.softmax(xo)\n",
    "        self.temp_maximum = xo.data\n",
    "        \n",
    "        ## drouout here is suitable for activation function (the probabilities do not add upto 1)\n",
    "#         xo = F.dropout(xo, p=0.1, training=self.training)\n",
    "        \n",
    "        ### This feature is useful when the softmax has uniform and low probability\n",
    "#         xo = xo/xo.max(dim=1, keepdim=True)[0].detach() ## produces poor decision boundary \n",
    "        \n",
    "#         rejected = torch.count_nonzero(xo.argmax(dim=1) == self.hidden_dim) \n",
    "        xo = self.activ(xo)\n",
    "        xo = self.layer1(xo)\n",
    "        return xo"
   ]
  },
  {
   "cell_type": "code",
   "execution_count": 70,
   "metadata": {},
   "outputs": [
    {
     "data": {
      "text/plain": [
       "LocalMLP_epsilonsoftmax(\n",
       "  (layer0): DistanceTransform_Epsilon()\n",
       "  (scale_shift): ScaleShift()\n",
       "  (softmax): Softmax(dim=-1)\n",
       "  (activ): OneActiv()\n",
       "  (layer1): Linear(in_features=101, out_features=11, bias=True)\n",
       ")"
      ]
     },
     "execution_count": 70,
     "metadata": {},
     "output_type": "execute_result"
    }
   ],
   "source": [
    "H = 100\n",
    "\n",
    "model = LocalMLP_epsilonsoftmax(784, H, 11, epsilon=9.0) ## epsilon=9.0 used for std and no-std\n",
    "# model = LocalMLP_epsilonsoftmax(784, H, 11, epsilon=20.0) ## epsilon=9.0 used for std and no-std\n",
    "model_name = \"epsilonSM_MLP_ep9_nostd\" \n",
    "\n",
    "# model = LocalMLP_epsilonsoftmax(784, H, 11, epsilon=None)\n",
    "# model_name = \"epsilonSM_MLP_epNone\"\n",
    "\n",
    "model"
   ]
  },
  {
   "cell_type": "code",
   "execution_count": 71,
   "metadata": {},
   "outputs": [
    {
     "data": {
      "text/plain": [
       "torch.Size([50, 11])"
      ]
     },
     "execution_count": 71,
     "metadata": {},
     "output_type": "execute_result"
    }
   ],
   "source": [
    "model(xx).shape"
   ]
  },
  {
   "cell_type": "code",
   "execution_count": 72,
   "metadata": {},
   "outputs": [
    {
     "data": {
      "text/plain": [
       "True"
      ]
     },
     "execution_count": 72,
     "metadata": {},
     "output_type": "execute_result"
    }
   ],
   "source": [
    "model.training"
   ]
  },
  {
   "cell_type": "code",
   "execution_count": 73,
   "metadata": {},
   "outputs": [
    {
     "data": {
      "text/plain": [
       "(torch.Size([100, 784]), torch.Size([100]))"
      ]
     },
     "execution_count": 73,
     "metadata": {},
     "output_type": "execute_result"
    }
   ],
   "source": [
    "idx = torch.randperm(len(train_loader.dataset))[:H]\n",
    "source, target = train_dataset.data[idx].reshape(-1, 784), train_dataset.targets[idx]\n",
    "source.shape, target.shape"
   ]
  },
  {
   "cell_type": "code",
   "execution_count": 74,
   "metadata": {},
   "outputs": [],
   "source": [
    "# model.layer0.centers.data = source.type(torch.float32)/128-1 ## initialization\n",
    "\n",
    "model.layer0.centers.data = source.type(torch.float32)/128-1 #\\\n",
    "#                 + torch.rand_like(model.layer0.centers.data)-0.5 ## initialization\n",
    "\n",
    "# model.layer0.centers.data /= torch.max(model.layer0.centers.data) ## initialization"
   ]
  },
  {
   "cell_type": "code",
   "execution_count": 75,
   "metadata": {},
   "outputs": [
    {
     "data": {
      "text/plain": [
       "torch.Size([101, 11])"
      ]
     },
     "execution_count": 75,
     "metadata": {},
     "output_type": "execute_result"
    }
   ],
   "source": [
    "targets = torch.zeros(len(target), 11)\n",
    "for i, t in enumerate(target):\n",
    "    targets[i, t] = 1.\n",
    "    targets[i,-1] = 0.05\n",
    "\n",
    "if model.layer0.epsilon is not None:\n",
    "    e = torch.zeros(1, 11)\n",
    "    e[0,-1] = 1.\n",
    "    targets = torch.cat([targets, e], dim=0)\n",
    "\n",
    "targets.shape\n",
    "# targets[-1]"
   ]
  },
  {
   "cell_type": "code",
   "execution_count": 76,
   "metadata": {},
   "outputs": [],
   "source": [
    "model.layer1.weight.data = targets.t()#.to(device) ## initialization"
   ]
  },
  {
   "cell_type": "code",
   "execution_count": 77,
   "metadata": {},
   "outputs": [
    {
     "name": "stdout",
     "output_type": "stream",
     "text": [
      "torch.Size([50, 101])\n",
      "tensor([2.0003e-02, 9.0329e-08, 1.0737e-25, 3.5730e-22, 9.8248e-13, 6.4765e-22,\n",
      "        2.9594e-15, 6.6533e-19, 2.1265e-21, 4.1390e-14, 1.9405e-02, 2.8438e-32,\n",
      "        1.4964e-38, 1.4986e-02, 7.8062e-17, 3.0255e-15, 1.5092e-32, 1.5505e-34,\n",
      "        1.0143e-04, 1.2547e-04, 2.1124e-12, 1.9679e-17, 6.3721e-27, 8.6165e-09,\n",
      "        8.2241e-03, 1.9960e-02, 1.9359e-06, 1.8233e-24, 7.8874e-16, 3.0577e-24,\n",
      "        4.3524e-17, 9.7820e-07, 4.0103e-13, 4.6523e-26, 6.9247e-15, 4.1747e-19,\n",
      "        6.4075e-26, 3.9995e-02, 5.5740e-40, 3.9879e-02, 5.2650e-20, 5.0323e-09,\n",
      "        0.0000e+00, 1.5318e-28, 3.2575e-06, 9.7783e-07, 1.4331e-29, 4.1997e-10,\n",
      "        3.0626e-11, 1.6059e-26, 1.0770e-02, 3.0533e-32, 3.3236e-30, 2.1132e-27,\n",
      "        2.2475e-05, 1.0896e-19, 6.8359e-28, 0.0000e+00, 3.7229e-05, 8.7185e-10,\n",
      "        4.3419e-31, 2.0515e-26, 6.0380e-21, 3.1740e-02, 5.5147e-07, 2.4048e-16,\n",
      "        9.3999e-17, 7.9715e-17, 9.4016e-09, 2.6168e-26, 1.0169e-08, 7.6459e-17,\n",
      "        4.7207e-20, 1.7127e-02, 1.5818e-14, 2.9757e-23, 4.8103e-22, 8.7177e-23,\n",
      "        3.9578e-30, 6.6985e-30, 9.5173e-39, 4.0785e-18, 3.4246e-29, 5.4902e-15,\n",
      "        3.9712e-29, 4.6619e-16, 2.0000e-02, 2.3312e-14, 3.7857e-13, 1.5957e-12,\n",
      "        2.3403e-17, 3.1357e-13, 5.7873e-15, 7.8788e-16, 2.4313e-13, 2.1366e-37,\n",
      "        8.7594e-15, 1.5507e-17, 2.3153e-04, 2.0860e-34, 7.5738e-01]) \n",
      "  tensor([1.4142e-01, 6.3808e-07, 7.5922e-25, 2.4264e-21, 5.7092e-12, 4.5737e-21,\n",
      "        2.0926e-14, 4.7046e-18, 1.5037e-20, 2.8681e-13, 1.3722e-01, 1.8778e-31,\n",
      "        1.0581e-37, 1.0597e-01, 5.5185e-16, 1.4800e-14, 6.7607e-32, 1.0961e-33,\n",
      "        7.1719e-04, 8.8552e-04, 1.4723e-11, 1.3915e-16, 4.5045e-26, 5.4544e-08,\n",
      "        5.8153e-02, 1.4114e-01, 1.3689e-05, 1.2892e-23, 4.7172e-15, 2.1621e-23,\n",
      "        3.0301e-16, 6.5554e-06, 2.8352e-12, 3.2895e-25, 4.8965e-14, 2.9519e-18,\n",
      "        4.5308e-25, 1.9793e-01, 3.9410e-39, 1.9734e-01, 3.7229e-19, 3.5584e-08,\n",
      "        0.0000e+00, 1.0750e-27, 2.3034e-05, 4.9866e-06, 1.0102e-28, 2.9696e-09,\n",
      "        2.1656e-10, 8.1572e-26, 7.6157e-02, 2.0082e-31, 2.3501e-29, 1.3843e-26,\n",
      "        1.5702e-04, 7.6956e-19, 4.8337e-27, 0.0000e+00, 2.6325e-04, 5.7181e-09,\n",
      "        3.0700e-30, 1.4449e-25, 2.8480e-20, 1.6252e-01, 3.8995e-06, 1.7005e-15,\n",
      "        5.9828e-16, 5.6367e-16, 6.6480e-08, 1.8504e-25, 7.1900e-08, 5.4056e-16,\n",
      "        3.3380e-19, 1.2111e-01, 9.2213e-14, 2.1041e-22, 3.3095e-21, 5.2049e-22,\n",
      "        2.7986e-29, 4.7363e-29, 6.7298e-38, 2.8840e-17, 2.3020e-28, 3.8816e-14,\n",
      "        2.3663e-28, 3.2927e-15, 1.4142e-01, 1.6442e-13, 2.6764e-12, 1.1283e-11,\n",
      "        1.4808e-16, 2.2173e-12, 3.6084e-14, 5.5712e-15, 1.7192e-12, 1.3874e-36,\n",
      "        6.1938e-14, 1.0965e-16, 1.6371e-03, 1.4750e-33, 4.1845e-01])\n",
      "tensor([0.0000e+00, 0.0000e+00, 0.0000e+00, 0.0000e+00, 0.0000e+00, 0.0000e+00,\n",
      "        0.0000e+00, 0.0000e+00, 0.0000e+00, 0.0000e+00, 0.0000e+00, 0.0000e+00,\n",
      "        0.0000e+00, 0.0000e+00, 0.0000e+00, 0.0000e+00, 0.0000e+00, 0.0000e+00,\n",
      "        0.0000e+00, 0.0000e+00, 0.0000e+00, 0.0000e+00, 0.0000e+00, 0.0000e+00,\n",
      "        0.0000e+00, 0.0000e+00, 0.0000e+00, 0.0000e+00, 0.0000e+00, 0.0000e+00,\n",
      "        0.0000e+00, 0.0000e+00, 0.0000e+00, 0.0000e+00, 0.0000e+00, 0.0000e+00,\n",
      "        0.0000e+00, 0.0000e+00, 0.0000e+00, 0.0000e+00, 0.0000e+00, 0.0000e+00,\n",
      "        0.0000e+00, 0.0000e+00, 0.0000e+00, 0.0000e+00, 0.0000e+00, 0.0000e+00,\n",
      "        0.0000e+00, 0.0000e+00, 0.0000e+00, 0.0000e+00, 0.0000e+00, 0.0000e+00,\n",
      "        0.0000e+00, 0.0000e+00, 0.0000e+00, 0.0000e+00, 0.0000e+00, 0.0000e+00,\n",
      "        0.0000e+00, 0.0000e+00, 0.0000e+00, 0.0000e+00, 0.0000e+00, 0.0000e+00,\n",
      "        0.0000e+00, 0.0000e+00, 0.0000e+00, 0.0000e+00, 0.0000e+00, 0.0000e+00,\n",
      "        0.0000e+00, 0.0000e+00, 0.0000e+00, 0.0000e+00, 0.0000e+00, 0.0000e+00,\n",
      "        0.0000e+00, 0.0000e+00, 0.0000e+00, 0.0000e+00, 0.0000e+00, 0.0000e+00,\n",
      "        0.0000e+00, 0.0000e+00, 0.0000e+00, 0.0000e+00, 0.0000e+00, 0.0000e+00,\n",
      "        0.0000e+00, 0.0000e+00, 0.0000e+00, 0.0000e+00, 0.0000e+00, 0.0000e+00,\n",
      "        0.0000e+00, 0.0000e+00, 0.0000e+00, 0.0000e+00, 1.0652e-15]) \n",
      "  tensor([1.0000e+00, 4.5120e-06, 5.3685e-24, 1.7157e-20, 3.9481e-11, 3.2342e-20,\n",
      "        1.4797e-13, 3.3266e-17, 1.0633e-19, 2.0285e-12, 9.7027e-01, 1.3263e-30,\n",
      "        7.4820e-37, 7.4929e-01, 3.9022e-15, 8.7636e-14, 3.5264e-31, 7.7509e-33,\n",
      "        5.0713e-03, 6.2618e-03, 1.0413e-10, 9.8396e-16, 3.1852e-25, 3.8376e-07,\n",
      "        4.1120e-01, 9.9799e-01, 9.6794e-05, 9.1163e-23, 3.2830e-14, 1.5288e-22,\n",
      "        2.1430e-15, 4.6339e-05, 2.0048e-11, 2.3260e-24, 3.4623e-13, 2.0873e-17,\n",
      "        3.2038e-24, 1.0000e+00, 2.7867e-38, 9.9889e-01, 2.6325e-18, 2.5162e-07,\n",
      "        0.0000e+00, 7.6024e-27, 1.6288e-04, 3.3343e-05, 7.1435e-28, 2.0998e-08,\n",
      "        1.5313e-09, 5.4783e-25, 5.3851e-01, 1.4199e-30, 1.6618e-28, 9.7721e-26,\n",
      "        1.1105e-03, 5.4417e-18, 3.4179e-26, 0.0000e+00, 1.8614e-03, 4.0370e-08,\n",
      "        2.1708e-29, 1.0218e-24, 1.5568e-19, 9.9999e-01, 2.7573e-05, 1.2024e-14,\n",
      "        4.2123e-15, 3.9858e-15, 4.7008e-07, 1.3084e-24, 5.0841e-07, 3.8223e-15,\n",
      "        2.3604e-18, 8.5637e-01, 6.3670e-13, 1.4878e-21, 2.3406e-20, 3.6398e-21,\n",
      "        1.9789e-28, 3.3491e-28, 4.7587e-37, 2.0393e-16, 1.6280e-27, 2.7447e-13,\n",
      "        1.6451e-27, 2.3283e-14, 1.0000e+00, 1.1627e-12, 1.8925e-11, 7.9784e-11,\n",
      "        1.0418e-15, 1.5679e-11, 2.5408e-13, 3.9394e-14, 1.2157e-11, 9.7937e-36,\n",
      "        4.3797e-13, 7.7534e-16, 1.1576e-02, 1.0429e-32, 1.0000e+00])\n"
     ]
    }
   ],
   "source": [
    "def forward_intermediate(self, x):\n",
    "    xo = self.layer0(x)\n",
    "    xo = self.scale_shift(xo)\n",
    "    xo = self.softmax(xo).data\n",
    "    print(xo.shape)\n",
    "    print(xo.mean(dim=0), \"\\n \", xo.std(dim=0))\n",
    "    print(xo.min(dim=0)[0], \"\\n \", xo.max(dim=0)[0])\n",
    "\n",
    "forward_intermediate(model, xx)"
   ]
  },
  {
   "cell_type": "code",
   "execution_count": 78,
   "metadata": {},
   "outputs": [
    {
     "name": "stderr",
     "output_type": "stream",
     "text": [
      "100%|██████████████████████████████████████████████████| 200/200 [00:01<00:00, 136.67it/s]"
     ]
    },
    {
     "name": "stdout",
     "output_type": "stream",
     "text": [
      "[Test] -1 Loss: 2.422 | Acc: 12.350 1235/10000\n"
     ]
    },
    {
     "name": "stderr",
     "output_type": "stream",
     "text": [
      "\n"
     ]
    }
   ],
   "source": [
    "test(-1, model, model_name=\"\", save=False)"
   ]
  },
  {
   "cell_type": "markdown",
   "metadata": {},
   "source": [
    "## Model Training"
   ]
  },
  {
   "cell_type": "code",
   "execution_count": 79,
   "metadata": {},
   "outputs": [],
   "source": [
    "learning_rate = 0.03\n",
    "\"\"\"\n",
    "Use Small LR for centers and larger for rest (center deviated too much)\n",
    "\"\"\"\n",
    "\n",
    "EPOCHS = 5"
   ]
  },
  {
   "cell_type": "code",
   "execution_count": 80,
   "metadata": {},
   "outputs": [],
   "source": [
    "### https://stackoverflow.com/questions/51801648/how-to-apply-layer-wise-learning-rate-in-pytorch\n",
    "p1, p2 = [], []\n",
    "for p in model.named_parameters():\n",
    "    if p[0] == \"layer0.centers\":\n",
    "        p1.append(p[1])\n",
    "    else:\n",
    "        p2.append(p[1])\n",
    "\n",
    "params = [\n",
    "    {\"params\": p1, \"lr\": learning_rate*3e-2}, ## default - to change little from data point\n",
    "#     {\"params\": p1},\n",
    "    {\"params\": p2},\n",
    "]"
   ]
  },
  {
   "cell_type": "code",
   "execution_count": 81,
   "metadata": {},
   "outputs": [
    {
     "name": "stderr",
     "output_type": "stream",
     "text": [
      "100%|████████████████████████████████████████████████| 1200/1200 [00:10<00:00, 112.31it/s]\n"
     ]
    },
    {
     "name": "stdout",
     "output_type": "stream",
     "text": [
      "[Train] 0 Loss: 0.777 | Acc: 72.078 43247/60000\n"
     ]
    },
    {
     "name": "stderr",
     "output_type": "stream",
     "text": [
      "100%|██████████████████████████████████████████████████| 200/200 [00:01<00:00, 133.33it/s]\n"
     ]
    },
    {
     "name": "stdout",
     "output_type": "stream",
     "text": [
      "[Test] 0 Loss: 0.654 | Acc: 75.520 7552/10000\n",
      "Saving..\n"
     ]
    },
    {
     "name": "stderr",
     "output_type": "stream",
     "text": [
      "100%|████████████████████████████████████████████████| 1200/1200 [00:09<00:00, 123.77it/s]\n"
     ]
    },
    {
     "name": "stdout",
     "output_type": "stream",
     "text": [
      "[Train] 1 Loss: 0.613 | Acc: 77.353 46412/60000\n"
     ]
    },
    {
     "name": "stderr",
     "output_type": "stream",
     "text": [
      "100%|██████████████████████████████████████████████████| 200/200 [00:01<00:00, 154.95it/s]\n"
     ]
    },
    {
     "name": "stdout",
     "output_type": "stream",
     "text": [
      "[Test] 1 Loss: 0.612 | Acc: 78.060 7806/10000\n",
      "Saving..\n"
     ]
    },
    {
     "name": "stderr",
     "output_type": "stream",
     "text": [
      "100%|████████████████████████████████████████████████| 1200/1200 [00:10<00:00, 111.46it/s]\n"
     ]
    },
    {
     "name": "stdout",
     "output_type": "stream",
     "text": [
      "[Train] 2 Loss: 0.560 | Acc: 79.583 47750/60000\n"
     ]
    },
    {
     "name": "stderr",
     "output_type": "stream",
     "text": [
      "100%|██████████████████████████████████████████████████| 200/200 [00:01<00:00, 144.82it/s]\n"
     ]
    },
    {
     "name": "stdout",
     "output_type": "stream",
     "text": [
      "[Test] 2 Loss: 0.580 | Acc: 78.800 7880/10000\n",
      "Saving..\n"
     ]
    },
    {
     "name": "stderr",
     "output_type": "stream",
     "text": [
      "100%|████████████████████████████████████████████████| 1200/1200 [00:10<00:00, 115.83it/s]\n"
     ]
    },
    {
     "name": "stdout",
     "output_type": "stream",
     "text": [
      "[Train] 3 Loss: 0.517 | Acc: 80.757 48454/60000\n"
     ]
    },
    {
     "name": "stderr",
     "output_type": "stream",
     "text": [
      "100%|██████████████████████████████████████████████████| 200/200 [00:01<00:00, 142.36it/s]\n"
     ]
    },
    {
     "name": "stdout",
     "output_type": "stream",
     "text": [
      "[Test] 3 Loss: 0.533 | Acc: 80.120 8012/10000\n",
      "Saving..\n"
     ]
    },
    {
     "name": "stderr",
     "output_type": "stream",
     "text": [
      "100%|████████████████████████████████████████████████| 1200/1200 [00:10<00:00, 118.09it/s]\n"
     ]
    },
    {
     "name": "stdout",
     "output_type": "stream",
     "text": [
      "[Train] 4 Loss: 0.490 | Acc: 81.493 48896/60000\n"
     ]
    },
    {
     "name": "stderr",
     "output_type": "stream",
     "text": [
      "100%|██████████████████████████████████████████████████| 200/200 [00:01<00:00, 127.09it/s]"
     ]
    },
    {
     "name": "stdout",
     "output_type": "stream",
     "text": [
      "[Test] 4 Loss: 0.519 | Acc: 80.300 8030/10000\n",
      "Saving..\n"
     ]
    },
    {
     "name": "stderr",
     "output_type": "stream",
     "text": [
      "\n"
     ]
    }
   ],
   "source": [
    "# optimizer = torch.optim.Adam(model.parameters(), lr=learning_rate)\n",
    "\n",
    "optimizer = torch.optim.Adam(params, lr=learning_rate)\n",
    "scheduler = torch.optim.lr_scheduler.CosineAnnealingLR(optimizer, T_max=EPOCHS)\n",
    "\n",
    "best_acc = -1\n",
    "for epoch in range(EPOCHS):\n",
    "    train(epoch, model, optimizer)\n",
    "    test(epoch, model, model_name, save=False)\n",
    "    scheduler.step()"
   ]
  },
  {
   "cell_type": "code",
   "execution_count": 82,
   "metadata": {},
   "outputs": [
    {
     "data": {
      "image/png": "[encoded data removed]",
      "text/plain": [
       "<Figure size 1000x1000 with 25 Axes>"
      ]
     },
     "metadata": {},
     "output_type": "display_data"
    }
   ],
   "source": [
    "_, axs = plt.subplots(5, 5, figsize=(10, 10))\n",
    "axs = axs.flatten()\n",
    "\n",
    "c = model.layer0.centers.data.cpu().numpy().reshape(-1, 28,28)\n",
    "imgs = c[:len(axs)]\n",
    "\n",
    "for img, ax in zip(imgs, axs):\n",
    "    ax.imshow(img)\n",
    "    ax.set_axis_off()\n",
    "\n",
    "plt.show()"
   ]
  },
  {
   "cell_type": "markdown",
   "metadata": {},
   "source": [
    "#### Test for random image sample"
   ]
  },
  {
   "cell_type": "code",
   "execution_count": 83,
   "metadata": {},
   "outputs": [],
   "source": [
    "with torch.no_grad():\n",
    "    inputs = torch.rand(10, 28*28).to(device)*2-1\n",
    "    xo = model.layer0(inputs)\n",
    "    xo = model.scale_shift(xo)\n",
    "    xo = model.softmax(xo).data"
   ]
  },
  {
   "cell_type": "code",
   "execution_count": 84,
   "metadata": {},
   "outputs": [
    {
     "data": {
      "text/plain": [
       "torch.return_types.max(\n",
       "values=tensor([0.8713, 0.7988, 0.8372, 0.8490, 0.8329, 0.9013, 0.8317, 0.7992, 0.8992,\n",
       "        0.8490]),\n",
       "indices=tensor([12, 12, 12, 12, 12, 12, 12, 12, 12, 12]))"
      ]
     },
     "execution_count": 84,
     "metadata": {},
     "output_type": "execute_result"
    }
   ],
   "source": [
    "# xo.argmax(dim=1)\n",
    "xo.max(dim=1)"
   ]
  },
  {
   "cell_type": "code",
   "execution_count": 85,
   "metadata": {},
   "outputs": [
    {
     "data": {
      "text/plain": [
       "<matplotlib.image.AxesImage at 0x7f729d1c0d90>"
      ]
     },
     "execution_count": 85,
     "metadata": {},
     "output_type": "execute_result"
    },
    {
     "data": {
      "image/png": "[encoded data removed]",
      "text/plain": [
       "<Figure size 640x480 with 1 Axes>"
      ]
     },
     "metadata": {},
     "output_type": "display_data"
    }
   ],
   "source": [
    "j=0\n",
    "plt.imshow(inputs[j].reshape(28,28))"
   ]
  },
  {
   "cell_type": "code",
   "execution_count": 86,
   "metadata": {},
   "outputs": [
    {
     "data": {
      "text/plain": [
       "tensor([ 12,  49,  75,  79,  78,  55,  50,  11,  99,  52,  90,  42,  43,  33,\n",
       "         19,  70,  63,  23,  59,  97,  68,  17,  14,  65,  76,  18,  69,   1,\n",
       "         37,  21,  34,   7,  44,  62,  86,  15,  92, 100,  61,  20,  13,  40,\n",
       "         67,  16,  72,  94,  88,  28,  27,  22,  35,   3,   2,  83,  51,  71,\n",
       "         89,  81,  29,  54,  73,   6,  56,  66,  82,  80,   9,  30,  64,  46,\n",
       "         93,  24,  41,   0,  60,  36,  95,  39,   4,  74,  45,  84,  87,  38,\n",
       "          5,  77,  53,  10,  25,   8,  98,  31,  57,  47,  91,  58,  96,  32,\n",
       "         26,  48,  85])"
      ]
     },
     "execution_count": 86,
     "metadata": {},
     "output_type": "execute_result"
    }
   ],
   "source": [
    "i = -1\n",
    "nearest = torch.argsort(xo[j], descending=True)\n",
    "nearest"
   ]
  },
  {
   "cell_type": "code",
   "execution_count": 87,
   "metadata": {},
   "outputs": [
    {
     "data": {
      "text/plain": [
       "torch.Size([10, 101])"
      ]
     },
     "execution_count": 87,
     "metadata": {},
     "output_type": "execute_result"
    }
   ],
   "source": [
    "xo.shape"
   ]
  },
  {
   "cell_type": "code",
   "execution_count": 88,
   "metadata": {},
   "outputs": [
    {
     "name": "stdout",
     "output_type": "stream",
     "text": [
      "prob: tensor(0.8713)\n"
     ]
    },
    {
     "data": {
      "image/png": "[encoded data removed]",
      "text/plain": [
       "<Figure size 640x480 with 1 Axes>"
      ]
     },
     "metadata": {},
     "output_type": "display_data"
    }
   ],
   "source": [
    "i+=1\n",
    "print(\"prob:\", xo[0][nearest[i]])\n",
    "try:\n",
    "    plt.imshow(model.layer0.centers.data[nearest[i]].reshape(28,28))\n",
    "except:\n",
    "    pass"
   ]
  },
  {
   "cell_type": "code",
   "execution_count": 89,
   "metadata": {},
   "outputs": [],
   "source": [
    "with torch.no_grad():\n",
    "    xo_ = model.activ(xo)\n",
    "    xo_ = model.layer1(xo_).data"
   ]
  },
  {
   "cell_type": "code",
   "execution_count": 90,
   "metadata": {},
   "outputs": [
    {
     "data": {
      "text/plain": [
       "tensor([8, 8, 8, 8, 8, 8, 8, 8, 8, 8])"
      ]
     },
     "execution_count": 90,
     "metadata": {},
     "output_type": "execute_result"
    }
   ],
   "source": [
    "xo_.argmax(dim=1)"
   ]
  },
  {
   "cell_type": "code",
   "execution_count": 91,
   "metadata": {},
   "outputs": [],
   "source": [
    "#  model.layer1.weight[1], model.layer1.weight[10]"
   ]
  },
  {
   "cell_type": "code",
   "execution_count": 92,
   "metadata": {},
   "outputs": [
    {
     "data": {
      "text/plain": [
       "tensor([[1.1241, 1.0119, 1.9450, 1.1579, 1.0188, 1.7765, 1.3227, 1.0078, 1.0879,\n",
       "         1.4334, 1.0293, 0.9827, 1.0271, 0.9983, 1.0042, 2.1408, 1.3198, 1.0189,\n",
       "         1.0135, 1.0142, 1.9570, 1.0606, 1.4478, 1.0031, 1.0450, 1.8707, 2.1296,\n",
       "         1.1418, 1.1471, 1.1908, 0.9609, 1.4076, 1.0340, 0.9910, 0.9680, 0.9704,\n",
       "         1.3003, 1.0028, 1.8305, 1.1896, 1.0765, 1.6413, 0.9702, 1.0035, 1.0140,\n",
       "         1.0662, 1.1118, 1.3644, 1.1338, 1.0625, 1.0060, 2.0683, 1.0099, 1.1419,\n",
       "         1.0769, 1.0190, 1.3671, 1.9457, 1.2847, 1.0072, 1.1798, 2.4013, 1.6528,\n",
       "         1.0013, 1.1408, 0.9909, 1.0086, 1.4583, 0.9842, 1.5988, 1.0011, 1.0272,\n",
       "         1.0135, 1.1740, 1.3596, 1.0078, 0.9813, 1.3964, 0.9755, 1.0516, 1.6637,\n",
       "         1.0945, 1.6805, 1.2745, 1.1708, 2.3161, 1.0410, 1.1406, 1.7569, 1.0267,\n",
       "         0.9693, 1.3486, 0.9923, 1.3528, 1.0102, 1.3063, 1.2903, 1.0135, 1.0814,\n",
       "         1.0169, 1.1570]], grad_fn=<ExpBackward>)"
      ]
     },
     "execution_count": 92,
     "metadata": {},
     "output_type": "execute_result"
    }
   ],
   "source": [
    "## scaling of softmax activation\n",
    "torch.exp(model.activ.beta)"
   ]
  },
  {
   "cell_type": "code",
   "execution_count": 93,
   "metadata": {},
   "outputs": [
    {
     "data": {
      "text/plain": [
       "(-1.3888541, 1.2159096)"
      ]
     },
     "execution_count": 93,
     "metadata": {},
     "output_type": "execute_result"
    }
   ],
   "source": [
    "imgs.min(), imgs.max()"
   ]
  },
  {
   "cell_type": "code",
   "execution_count": 94,
   "metadata": {},
   "outputs": [
    {
     "data": {
      "text/plain": [
       "tensor([-1.6275, -1.5066, -1.4746, -1.7882, -1.5471, -0.9373, -1.5725, -1.5986,\n",
       "        -1.7378,  2.5583, -0.4472])"
      ]
     },
     "execution_count": 94,
     "metadata": {},
     "output_type": "execute_result"
    }
   ],
   "source": [
    "model.layer1.weight.data[:,5]"
   ]
  },
  {
   "cell_type": "markdown",
   "metadata": {},
   "source": [
    "## Adverserial Test"
   ]
  },
  {
   "cell_type": "code",
   "execution_count": 95,
   "metadata": {},
   "outputs": [],
   "source": [
    "import foolbox as fb\n",
    "import foolbox.attacks as fa"
   ]
  },
  {
   "cell_type": "code",
   "execution_count": 143,
   "metadata": {},
   "outputs": [],
   "source": [
    "fmodel = fb.PyTorchModel(model.eval(), bounds=(-1, 1), device=device)\n",
    "# fmodel = fb.PyTorchModel(model.eval(), bounds=(-10, 10), device=device)\n",
    "\n",
    "\n",
    "# attack = fa.LinfPGD()\n",
    "# attack = fa.L2AdamPGD()\n",
    "attack = fa.FGSM()\n",
    "# epsilons = [0.0, 0.001, 0.01, 0.03, 0.1, 0.3, 0.5, 1.0]"
   ]
  },
  {
   "cell_type": "code",
   "execution_count": 144,
   "metadata": {},
   "outputs": [
    {
     "name": "stderr",
     "output_type": "stream",
     "text": [
      "100%|███████████████████████████████████████████████████| 200/200 [00:02<00:00, 96.50it/s]\n"
     ]
    }
   ],
   "source": [
    "count = 0\n",
    "failed = 0\n",
    "rejected = 0\n",
    "x_rejected = 0\n",
    "for i, (xx, yy) in enumerate(tqdm(test_loader)):\n",
    "    xx = xx.reshape(-1, 28*28)\n",
    "    \n",
    "    yout = model(xx)\n",
    "    reject_out = yout.argmax(dim=1) == 10\n",
    "    reject_hid = model.temp_maximum.max(dim=1)[1] == model.hidden_dim\n",
    "    reject = torch.bitwise_or(reject_out, reject_hid)\n",
    "    x_rejected += int(reject.type(torch.float32).sum())\n",
    "    \n",
    "    _, advs, success = attack(fmodel, xx, yy, epsilons=0.5)   \n",
    "    yout = model(advs)\n",
    "    reject_out = yout.argmax(dim=1) == 10\n",
    "    reject_hid = model.temp_maximum.max(dim=1)[1] == model.hidden_dim\n",
    "    reject = torch.bitwise_or(reject_out, reject_hid)\n",
    "#     reject = reject_out\n",
    "    rejected += int(reject.type(torch.float32).sum())\n",
    "    \n",
    "    fail = torch.bitwise_and(success, ~reject).type(torch.float32).sum()\n",
    "#     fail = success.type(torch.float32).sum()\n",
    "    failed += int(fail)    \n",
    "    count += len(xx)\n",
    "\n",
    "#     break"
   ]
  },
  {
   "cell_type": "code",
   "execution_count": 145,
   "metadata": {},
   "outputs": [
    {
     "data": {
      "text/plain": [
       "-7.0"
      ]
     },
     "execution_count": 145,
     "metadata": {},
     "output_type": "execute_result"
    }
   ],
   "source": [
    "# success\n",
    "model.layer0.epsilon"
   ]
  },
  {
   "cell_type": "code",
   "execution_count": 146,
   "metadata": {},
   "outputs": [
    {
     "data": {
      "text/plain": [
       "(10000, 4839, 4420, 1556)"
      ]
     },
     "execution_count": 146,
     "metadata": {},
     "output_type": "execute_result"
    }
   ],
   "source": [
    "count, failed, rejected, x_rejected"
   ]
  },
  {
   "cell_type": "code",
   "execution_count": 147,
   "metadata": {},
   "outputs": [
    {
     "data": {
      "text/plain": [
       "0.6395"
      ]
     },
     "execution_count": 147,
     "metadata": {},
     "output_type": "execute_result"
    }
   ],
   "source": [
    "(failed+x_rejected)/count"
   ]
  },
  {
   "cell_type": "code",
   "execution_count": 128,
   "metadata": {},
   "outputs": [],
   "source": [
    "# model.temp_maximum.max(dim=1)[1]"
   ]
  },
  {
   "cell_type": "code",
   "execution_count": 129,
   "metadata": {},
   "outputs": [],
   "source": [
    "# yout.argmax(dim=1)"
   ]
  },
  {
   "cell_type": "code",
   "execution_count": 142,
   "metadata": {},
   "outputs": [],
   "source": [
    "model.layer0.epsilon = -7.0\n",
    "# model.layer0.epsilon = -1.5"
   ]
  },
  {
   "cell_type": "code",
   "execution_count": 49,
   "metadata": {},
   "outputs": [
    {
     "name": "stdout",
     "output_type": "stream",
     "text": [
      "\n"
     ]
    }
   ],
   "source": [
    "\"\"\"\n",
    "- not using \\std on dists causes the centers to move very little from initialization (even with large lr)... \n",
    "        and have better adverserial rejection\n",
    "- norm does not seem to work like std (poor optimization)\n",
    "- not clipping adverserial examples [0-1] causes less attack success.. (maximum of +-1.5 with FSGM)\n",
    "\"\"\"\n",
    "print()"
   ]
  },
  {
   "cell_type": "code",
   "execution_count": 50,
   "metadata": {},
   "outputs": [
    {
     "data": {
      "text/plain": [
       "tensor([[-1.0000, -1.0000, -1.0000,  ..., -0.5000, -0.5000, -1.0000],\n",
       "        [-0.5000, -1.0000, -1.0000,  ..., -0.5000, -0.5000, -0.5000],\n",
       "        [-1.0000, -0.5000, -1.0000,  ..., -0.4686, -1.0000, -1.0000],\n",
       "        ...,\n",
       "        [-0.5000, -0.5000, -1.0000,  ..., -1.0000, -1.0000, -1.0000],\n",
       "        [-0.5000, -0.5000, -0.5000,  ..., -1.0000, -1.0000, -0.5000],\n",
       "        [-1.0000, -1.0000, -0.5000,  ..., -1.0000, -1.0000, -0.5000]])"
      ]
     },
     "execution_count": 50,
     "metadata": {},
     "output_type": "execute_result"
    }
   ],
   "source": [
    "advs"
   ]
  },
  {
   "cell_type": "code",
   "execution_count": 51,
   "metadata": {},
   "outputs": [
    {
     "data": {
      "text/plain": [
       "tensor(1.)"
      ]
     },
     "execution_count": 51,
     "metadata": {},
     "output_type": "execute_result"
    }
   ],
   "source": [
    "advs.max()"
   ]
  },
  {
   "cell_type": "code",
   "execution_count": null,
   "metadata": {},
   "outputs": [],
   "source": []
  }
 ],
 "metadata": {
  "kernelspec": {
   "display_name": "Python 3 (ipykernel)",
   "language": "python",
   "name": "python3"
  },
  "language_info": {
   "codemirror_mode": {
    "name": "ipython",
    "version": 3
   },
   "file_extension": ".py",
   "mimetype": "text/x-python",
   "name": "python",
   "nbconvert_exporter": "python",
   "pygments_lexer": "ipython3",
   "version": "3.7.4"
  }
 },
 "nbformat": 4,
 "nbformat_minor": 4
}
