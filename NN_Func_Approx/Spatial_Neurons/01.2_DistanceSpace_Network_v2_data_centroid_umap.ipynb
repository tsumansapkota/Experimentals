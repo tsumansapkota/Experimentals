{
 "cells": [
  {
   "cell_type": "code",
   "execution_count": 1,
   "metadata": {},
   "outputs": [],
   "source": [
    "import numpy as np\n",
    "import matplotlib.pyplot as plt\n",
    "%matplotlib inline\n",
    "from mpl_toolkits.mplot3d import Axes3D\n",
    "\n",
    "import torch\n",
    "import torch.nn as nn\n",
    "import torch.nn.functional as F\n",
    "import torch.optim as optim\n",
    "from torch.utils import data\n",
    "\n",
    "import random, os, pathlib, time\n",
    "from tqdm import tqdm\n",
    "from sklearn import datasets"
   ]
  },
  {
   "cell_type": "code",
   "execution_count": 2,
   "metadata": {},
   "outputs": [],
   "source": [
    "# device = torch.device(\"cuda:0\")\n",
    "device = torch.device(\"cpu\")"
   ]
  },
  {
   "cell_type": "markdown",
   "metadata": {},
   "source": [
    "## MNIST dataset"
   ]
  },
  {
   "cell_type": "code",
   "execution_count": 3,
   "metadata": {},
   "outputs": [],
   "source": [
    "import mylibrary.datasets as datasets\n",
    "import mylibrary.nnlib as tnn"
   ]
  },
  {
   "cell_type": "code",
   "execution_count": 4,
   "metadata": {},
   "outputs": [],
   "source": [
    "mnist = datasets.FashionMNIST()\n",
    "# mnist.download_mnist()\n",
    "# mnist.save_mnist()\n",
    "train_data, train_label_, test_data, test_label_ = mnist.load()\n",
    "\n",
    "train_data = train_data / 255.\n",
    "test_data = test_data / 255.\n",
    "\n",
    "# train_label = tnn.Logits.index_to_logit(train_label_)\n",
    "train_size = len(train_label_)"
   ]
  },
  {
   "cell_type": "code",
   "execution_count": 5,
   "metadata": {},
   "outputs": [],
   "source": [
    "## converting data to pytorch format\n",
    "train_data = torch.Tensor(train_data)\n",
    "test_data = torch.Tensor(test_data)\n",
    "train_label = torch.LongTensor(train_label_)\n",
    "test_label = torch.LongTensor(test_label_)"
   ]
  },
  {
   "cell_type": "code",
   "execution_count": 6,
   "metadata": {},
   "outputs": [],
   "source": [
    "input_size = 784\n",
    "output_size = 10"
   ]
  },
  {
   "cell_type": "code",
   "execution_count": 7,
   "metadata": {},
   "outputs": [],
   "source": [
    "class MNIST_Dataset(data.Dataset):\n",
    "    \n",
    "    def __init__(self, data, label):\n",
    "        self.data = data\n",
    "        self.label = label\n",
    "        \n",
    "    def __len__(self):\n",
    "        return len(self.data)\n",
    "    \n",
    "    def __getitem__(self, idx):\n",
    "#         print(idx)\n",
    "        img, lbl = self.data[idx], self.label[idx]\n",
    "        return img, lbl"
   ]
  },
  {
   "cell_type": "code",
   "execution_count": 8,
   "metadata": {},
   "outputs": [],
   "source": [
    "train_dataset = MNIST_Dataset(train_data, train_label)\n",
    "test_dataset = MNIST_Dataset(test_data, test_label)"
   ]
  },
  {
   "cell_type": "code",
   "execution_count": 9,
   "metadata": {},
   "outputs": [],
   "source": [
    "batch_size = 50\n",
    "train_loader = data.DataLoader(dataset=train_dataset,\n",
    "                                    num_workers=4, \n",
    "                                    batch_size=batch_size, \n",
    "                                    shuffle=True)\n",
    "\n",
    "test_loader = data.DataLoader(dataset=test_dataset,\n",
    "                                    num_workers=1, \n",
    "                                    batch_size=batch_size, \n",
    "                                    shuffle=False)"
   ]
  },
  {
   "cell_type": "code",
   "execution_count": 644,
   "metadata": {},
   "outputs": [],
   "source": [
    "class DistanceTransform(nn.Module):\n",
    "    \n",
    "    def __init__(self, input_dim, num_centers):\n",
    "        super().__init__()\n",
    "        self.input_dim = input_dim\n",
    "        self.num_centers = num_centers\n",
    "        \n",
    "#         self.centers = torch.randn(num_centers, input_dim)/3.\n",
    "        self.centers = torch.rand(num_centers, input_dim)\n",
    "        self.centers = nn.Parameter(self.centers)\n",
    "        self.scaler = nn.Parameter(torch.Tensor([1.0]))\n",
    "        \n",
    "    def forward(self, x):\n",
    "        x = x[:, :self.input_dim]\n",
    "        dists = torch.cdist(x, self.centers)\n",
    "        \n",
    "        ### normalize similar to UMAP\n",
    "        dists = dists-dists.min(dim=1, keepdim=True)[0]\n",
    "#         dists = dists-dists.mean(dim=1, keepdim=True)\n",
    "        \n",
    "        dists = dists/dists.std(dim=1, keepdim=True)\n",
    "        dists = torch.exp(-dists*self.scaler)\n",
    "        \n",
    "        return dists\n",
    "    \n",
    "    def set_centroid_to_data_randomly(self, data_loader):\n",
    "        indices = np.random.permutation(len(data_loader.dataset.data))[:self.centers.shape[0]]\n",
    "        self.centers.data = data_loader.dataset.data[indices].to(self.centers.device)\n",
    "        pass\n",
    "    \n",
    "    def set_centroid_to_data_maxdist(self, data_loader):\n",
    "        ## sample N points\n",
    "        N = self.centers.shape[0]\n",
    "        new_center = torch.empty_like(self.centers)\n",
    "        min_dists = torch.empty(N)\n",
    "        count = 0\n",
    "        for i, (xx, _) in enumerate(tqdm(data_loader)):\n",
    "            if count < N:\n",
    "                if N-count < batch_size:\n",
    "                    #### final fillup\n",
    "                    new_center[count:count+N-count] = xx[:N-count]\n",
    "                    xx = xx[N-count:]\n",
    "                    dists = torch.cdist(new_center, new_center)+torch.eye(N)*1e5\n",
    "                    min_dists = dists.min(dim=0)[0]\n",
    "                    count = N\n",
    "\n",
    "                else:#### fill the center\n",
    "                    new_center[count:count+len(xx)] = xx\n",
    "                    count += len(xx)\n",
    "                    continue\n",
    "\n",
    "            ammd = min_dists.argmin()\n",
    "            for i, x in enumerate(xx):\n",
    "                dists = torch.norm(new_center-x, dim=1)\n",
    "                md = dists.min()\n",
    "                if md > min_dists[ammd]:\n",
    "                    min_dists[ammd] = md\n",
    "                    new_center[ammd] = x\n",
    "                    ammd = min_dists.argmin()\n",
    "        self.centers.data = new_center.to(self.centers.device)\n",
    "        pass\n",
    "        \n",
    "    \n",
    "    def set_centroid_to_data(self, data_loader):\n",
    "        new_center = self.centers.data.clone()\n",
    "        min_dists = torch.ones(self.centers.shape[0])*1e9\n",
    "\n",
    "        for xx, _ in data_loader:\n",
    "\n",
    "            dists = torch.cdist(xx, self.centers.data)\n",
    "            ### min dist of each center to the data points\n",
    "            min_d, arg_md = dists.min(dim=0)\n",
    "\n",
    "            ### dont allow same point to be assigned as closest to multiple centroid\n",
    "            occupied = []\n",
    "            for i in np.random.permutation(len(arg_md)):\n",
    "        #     for i, ind in enumerate(arg_md):\n",
    "                ind = arg_md[i]\n",
    "                if ind in occupied:\n",
    "                    min_d[i] = min_dists[i]\n",
    "                    arg_md[i] = -1\n",
    "                else:\n",
    "                    occupied.append(ind)\n",
    "\n",
    "            ### the index of centroids that have new min_dist\n",
    "            idx = torch.nonzero(min_d<min_dists).reshape(-1)\n",
    "\n",
    "            ### assign new_center to the nearest data point\n",
    "            new_center[idx] = xx[arg_md[idx]]\n",
    "            min_dists[idx] = min_d[idx]\n",
    "            \n",
    "        self.centers.data = new_center.to(self.centers.device)\n",
    "        pass"
   ]
  },
  {
   "cell_type": "code",
   "execution_count": 637,
   "metadata": {},
   "outputs": [],
   "source": [
    "dt = DistanceTransform(784, 20)"
   ]
  },
  {
   "cell_type": "code",
   "execution_count": 638,
   "metadata": {},
   "outputs": [],
   "source": [
    "dists = dt(torch.randn(2, 784))"
   ]
  },
  {
   "cell_type": "code",
   "execution_count": 484,
   "metadata": {},
   "outputs": [
    {
     "data": {
      "text/plain": [
       "torch.Size([2, 20])"
      ]
     },
     "execution_count": 484,
     "metadata": {},
     "output_type": "execute_result"
    }
   ],
   "source": [
    "dists.shape"
   ]
  },
  {
   "cell_type": "code",
   "execution_count": 92,
   "metadata": {},
   "outputs": [],
   "source": [
    "dt.set_centroid_to_data_randomly(train_loader)"
   ]
  },
  {
   "cell_type": "code",
   "execution_count": 93,
   "metadata": {},
   "outputs": [
    {
     "name": "stderr",
     "output_type": "stream",
     "text": [
      "100%|██████████| 1200/1200 [00:04<00:00, 250.32it/s]\n"
     ]
    }
   ],
   "source": [
    "dt.set_centroid_to_data(train_loader)"
   ]
  },
  {
   "cell_type": "code",
   "execution_count": 73,
   "metadata": {},
   "outputs": [
    {
     "data": {
      "text/plain": [
       "<matplotlib.image.AxesImage at 0x7fd0551ccc10>"
      ]
     },
     "execution_count": 73,
     "metadata": {},
     "output_type": "execute_result"
    },
    {
     "data": {
      "image/png": "[encoded data removed]",
      "text/plain": [
       "<Figure size 432x288 with 1 Axes>"
      ]
     },
     "metadata": {
      "needs_background": "light"
     },
     "output_type": "display_data"
    }
   ],
   "source": [
    "# plt.imshow(dt.centers.data[5].reshape(28,28))"
   ]
  },
  {
   "cell_type": "code",
   "execution_count": null,
   "metadata": {},
   "outputs": [],
   "source": []
  },
  {
   "cell_type": "code",
   "execution_count": 26,
   "metadata": {},
   "outputs": [],
   "source": [
    "new_center = dt.centers.data.clone()\n",
    "min_dists = torch.ones(dt.centers.shape[0])*1e9\n",
    "\n",
    "xd_idx = torch.ones(dt.centers.shape[0], dtype=torch.long)*-1"
   ]
  },
  {
   "cell_type": "code",
   "execution_count": 27,
   "metadata": {},
   "outputs": [
    {
     "data": {
      "text/plain": [
       "torch.Size([20, 784])"
      ]
     },
     "execution_count": 27,
     "metadata": {},
     "output_type": "execute_result"
    }
   ],
   "source": [
    "new_center.shape"
   ]
  },
  {
   "cell_type": "code",
   "execution_count": 28,
   "metadata": {},
   "outputs": [
    {
     "name": "stderr",
     "output_type": "stream",
     "text": [
      "100%|██████████| 200/200 [00:00<00:00, 850.80it/s]\n"
     ]
    }
   ],
   "source": [
    "########################\n",
    "ii = -1\n",
    "# for xx, _ in tqdm(test_loader):\n",
    "for jj in tqdm(range(len(test_dataset)//batch_size)):\n",
    "    xind = jj*batch_size+torch.arange(batch_size, dtype=torch.long)\n",
    "#     print(xind)\n",
    "    xx = test_dataset.data[xind]\n",
    "    ii+=1\n",
    "    dists = torch.cdist(xx, dt.centers.data)\n",
    "    \n",
    "    ### min dist of each center to the data points\n",
    "    min_d, arg_md = dists.min(dim=0)\n",
    "#     break\n",
    "    \n",
    "    ### dont allow same point to be assigned as closest to multiple centroid\n",
    "    occupied = []\n",
    "    for i in np.random.permutation(len(arg_md)):\n",
    "#     for i, ind in enumerate(arg_md):\n",
    "        ind = arg_md[i]\n",
    "        if ind in occupied:\n",
    "            min_d[i] = min_dists[i]\n",
    "            arg_md[i] = -1\n",
    "        else:\n",
    "            occupied.append(ind)\n",
    "\n",
    "    ### the index of centroids that have new min_dist\n",
    "    idx = torch.nonzero(min_d<min_dists).reshape(-1)\n",
    "    \n",
    "    ### assign new_center to the nearest data point\n",
    "    new_center[idx] = xx[arg_md[idx]]\n",
    "    min_dists[idx] = min_d[idx]\n",
    "    \n",
    "#     indices = ii*batch_size + torch.arange(len(xx), dtype=torch.long)\n",
    "    xd_idx[idx] = indices[idx]\n",
    "    \n",
    "#     print(indices[idx])\n",
    "#     print(xind[idx])\n",
    "#     print(idx)\n",
    "    \n",
    "#     for i in range(len(idx)):\n",
    "#         i0 = idx[i]\n",
    "#         i1 = xind[i]\n",
    "#         plt.imshow(xx[i0].reshape(28,28), cmap='gray')\n",
    "#         plt.show()\n",
    "#         plt.imshow(test_dataset.data[i1].reshape(28,28), cmap='gray')\n",
    "#         plt.show()\n",
    "        \n",
    "#     if ii == 5:\n",
    "#         break\n",
    "# #     break"
   ]
  },
  {
   "cell_type": "code",
   "execution_count": 419,
   "metadata": {},
   "outputs": [],
   "source": [
    "### Initialize such that the input points are maximum distance with each other"
   ]
  },
  {
   "cell_type": "code",
   "execution_count": 485,
   "metadata": {},
   "outputs": [
    {
     "data": {
      "text/plain": [
       "torch.Size([20, 784])"
      ]
     },
     "execution_count": 485,
     "metadata": {},
     "output_type": "execute_result"
    }
   ],
   "source": [
    "dt.centers.shape"
   ]
  },
  {
   "cell_type": "code",
   "execution_count": 633,
   "metadata": {},
   "outputs": [
    {
     "name": "stderr",
     "output_type": "stream",
     "text": [
      "  1%|          | 13/1200 [00:00<00:30, 39.48it/s]"
     ]
    },
    {
     "name": "stdout",
     "output_type": "stream",
     "text": [
      "4 tensor(5.5759) tensor(4.1559)\n",
      "5 tensor(5.7867) tensor(4.5437)\n",
      "6 tensor(5.9819) tensor(4.8363)\n",
      "7 tensor(6.1298) tensor(5.0773)\n",
      "8 tensor(6.3282) tensor(5.3152)\n",
      "9 tensor(6.3695) tensor(5.4360)\n",
      "10 tensor(6.4976) tensor(5.6185)\n",
      "11 tensor(6.6505) tensor(5.7175)\n",
      "12 tensor(6.7657) tensor(5.8093)\n"
     ]
    },
    {
     "name": "stderr",
     "output_type": "stream",
     "text": [
      "\r",
      "  1%|▏         | 17/1200 [00:00<00:32, 35.93it/s]"
     ]
    },
    {
     "name": "stdout",
     "output_type": "stream",
     "text": [
      "13 tensor(6.8048) tensor(5.8976)\n",
      "14 tensor(6.8407) tensor(5.9626)\n",
      "15 tensor(6.8966) tensor(6.0312)\n",
      "16 tensor(6.9889) tensor(6.1033)\n",
      "17 tensor(7.0340) tensor(6.1665)\n",
      "18 tensor(7.0742) tensor(6.1999)\n",
      "19 tensor(7.1078) tensor(6.2545)\n"
     ]
    },
    {
     "name": "stderr",
     "output_type": "stream",
     "text": [
      "  2%|▏         | 24/1200 [00:00<00:42, 27.56it/s]"
     ]
    },
    {
     "name": "stdout",
     "output_type": "stream",
     "text": [
      "20 tensor(7.1301) tensor(6.3041)\n",
      "21 tensor(7.1476) tensor(6.4322)\n",
      "22 tensor(7.2042) tensor(6.4700)\n",
      "23 tensor(7.2258) tensor(6.4974)\n",
      "24 tensor(7.2493) tensor(6.5300)\n",
      "25 tensor(7.2733) tensor(6.5710)\n",
      "26 tensor(7.3359) tensor(6.6363)\n"
     ]
    },
    {
     "name": "stderr",
     "output_type": "stream",
     "text": [
      "  3%|▎         | 31/1200 [00:01<00:42, 27.74it/s]"
     ]
    },
    {
     "name": "stdout",
     "output_type": "stream",
     "text": [
      "27 tensor(7.4292) tensor(6.6755)\n",
      "28 tensor(7.4396) tensor(6.7121)\n",
      "29 tensor(7.4642) tensor(6.7667)\n",
      "30 tensor(7.4999) tensor(6.7949)\n",
      "31 tensor(7.5509) tensor(6.8159)\n"
     ]
    },
    {
     "name": "stderr",
     "output_type": "stream",
     "text": [
      "  3%|▎         | 38/1200 [00:01<01:02, 18.69it/s]"
     ]
    },
    {
     "name": "stdout",
     "output_type": "stream",
     "text": [
      "32 tensor(7.5654) tensor(6.8375)\n",
      "33 tensor(7.5802) tensor(6.8518)\n",
      "34 tensor(7.6339) tensor(6.9067)\n",
      "35 tensor(7.6382) tensor(6.9309)\n",
      "36 tensor(7.6357) tensor(6.9710)\n",
      "37 tensor(7.6743) tensor(7.0155)\n"
     ]
    },
    {
     "name": "stderr",
     "output_type": "stream",
     "text": [
      "  4%|▍         | 45/1200 [00:01<00:58, 19.87it/s]"
     ]
    },
    {
     "name": "stdout",
     "output_type": "stream",
     "text": [
      "38 tensor(7.6798) tensor(7.0282)\n",
      "39 tensor(7.6938) tensor(7.0688)\n",
      "40 tensor(7.6950) tensor(7.0843)\n",
      "41 tensor(7.7138) tensor(7.1024)\n",
      "42 tensor(7.7577) tensor(7.1260)\n",
      "43 tensor(7.7751) tensor(7.1617)\n",
      "44 tensor(7.8233) tensor(7.1745)\n",
      "45 tensor(7.8261) tensor(7.1958)\n"
     ]
    },
    {
     "name": "stderr",
     "output_type": "stream",
     "text": [
      "  4%|▍         | 52/1200 [00:02<00:47, 24.26it/s]"
     ]
    },
    {
     "name": "stdout",
     "output_type": "stream",
     "text": [
      "46 tensor(7.8609) tensor(7.2314)\n",
      "47 tensor(7.8568) tensor(7.2464)\n",
      "48 tensor(7.8627) tensor(7.2471)\n",
      "49 tensor(7.8750) tensor(7.2949)\n",
      "50 tensor(7.8965) tensor(7.2949)\n",
      "51 tensor(7.9499) tensor(7.3151)\n",
      "52 tensor(7.9508) tensor(7.3463)\n",
      "53 tensor(7.9978) tensor(7.3662)\n"
     ]
    },
    {
     "name": "stderr",
     "output_type": "stream",
     "text": [
      "  5%|▍         | 59/1200 [00:02<00:41, 27.53it/s]"
     ]
    },
    {
     "name": "stdout",
     "output_type": "stream",
     "text": [
      "54 tensor(8.0256) tensor(7.4089)\n",
      "55 tensor(8.0533) tensor(7.4207)\n",
      "56 tensor(8.0680) tensor(7.4290)\n",
      "57 tensor(8.0917) tensor(7.4487)\n",
      "58 tensor(8.0843) tensor(7.4587)\n",
      "59 tensor(8.1331) tensor(7.4789)\n",
      "60 tensor(8.1423) tensor(7.4789)\n",
      "61 tensor(8.1579) tensor(7.4941)\n"
     ]
    },
    {
     "name": "stderr",
     "output_type": "stream",
     "text": [
      "  6%|▌         | 66/1200 [00:02<00:46, 24.15it/s]"
     ]
    },
    {
     "name": "stdout",
     "output_type": "stream",
     "text": [
      "62 tensor(8.1732) tensor(7.5055)\n",
      "63 tensor(8.1905) tensor(7.5130)\n",
      "64 tensor(8.1905) tensor(7.5130)\n",
      "65 tensor(8.2073) tensor(7.5277)\n",
      "66 tensor(8.2373) tensor(7.5506)\n",
      "67 tensor(8.2449) tensor(7.5650)\n",
      "68 tensor(8.2719) tensor(7.5991)\n"
     ]
    },
    {
     "name": "stderr",
     "output_type": "stream",
     "text": [
      "  6%|▌         | 74/1200 [00:03<00:40, 27.87it/s]"
     ]
    },
    {
     "name": "stdout",
     "output_type": "stream",
     "text": [
      "69 tensor(8.2984) tensor(7.6149)\n",
      "70 tensor(8.2860) tensor(7.6295)\n",
      "71 tensor(8.2864) tensor(7.6386)\n",
      "72 tensor(8.2905) tensor(7.6591)\n",
      "73 tensor(8.3090) tensor(7.6948)\n",
      "74 tensor(8.3078) tensor(7.6901)\n",
      "75 tensor(8.3155) tensor(7.6901)\n"
     ]
    },
    {
     "name": "stderr",
     "output_type": "stream",
     "text": [
      "  7%|▋         | 81/1200 [00:03<00:37, 29.86it/s]"
     ]
    },
    {
     "name": "stdout",
     "output_type": "stream",
     "text": [
      "76 tensor(8.3349) tensor(7.7129)\n",
      "77 tensor(8.3557) tensor(7.7265)\n",
      "78 tensor(8.3551) tensor(7.7402)\n",
      "79 tensor(8.3544) tensor(7.7402)\n",
      "80 tensor(8.3768) tensor(7.7438)\n",
      "81 tensor(8.3667) tensor(7.7438)\n",
      "82 tensor(8.3810) tensor(7.7755)\n"
     ]
    },
    {
     "name": "stderr",
     "output_type": "stream",
     "text": [
      "  8%|▊         | 90/1200 [00:03<00:38, 29.20it/s]"
     ]
    },
    {
     "name": "stdout",
     "output_type": "stream",
     "text": [
      "83 tensor(8.3927) tensor(7.8054)\n",
      "84 tensor(8.3936) tensor(7.8150)\n",
      "85 tensor(8.3882) tensor(7.8190)\n",
      "86 tensor(8.4206) tensor(7.8405)\n",
      "87 tensor(8.4479) tensor(7.8564)\n",
      "88 tensor(8.4490) tensor(7.8575)\n",
      "89 tensor(8.4723) tensor(7.8660)\n",
      "90 tensor(8.4929) tensor(7.8847)\n",
      "91 tensor(8.5099) tensor(7.8939)\n"
     ]
    },
    {
     "name": "stderr",
     "output_type": "stream",
     "text": [
      "  8%|▊         | 99/1200 [00:03<00:32, 33.44it/s]"
     ]
    },
    {
     "name": "stdout",
     "output_type": "stream",
     "text": [
      "92 tensor(8.5203) tensor(7.9206)\n",
      "93 tensor(8.5209) tensor(7.9206)\n",
      "94 tensor(8.5264) tensor(7.9206)\n",
      "95 tensor(8.5264) tensor(7.9206)\n",
      "96 tensor(8.5389) tensor(7.9323)\n",
      "97 tensor(8.5405) tensor(7.9340)\n",
      "98 tensor(8.5596) tensor(7.9438)\n",
      "99 tensor(8.5568) tensor(7.9566)\n"
     ]
    },
    {
     "name": "stderr",
     "output_type": "stream",
     "text": [
      "\r",
      "  9%|▊         | 103/1200 [00:03<00:33, 32.89it/s]"
     ]
    },
    {
     "name": "stdout",
     "output_type": "stream",
     "text": [
      "100 tensor(8.5628) tensor(7.9566)\n",
      "101 tensor(8.5726) tensor(7.9569)\n",
      "102 tensor(8.5941) tensor(7.9833)\n",
      "103 tensor(8.5961) tensor(7.9871)\n",
      "104 tensor(8.6012) tensor(8.0061)\n"
     ]
    },
    {
     "name": "stderr",
     "output_type": "stream",
     "text": [
      "\r",
      "  9%|▉         | 107/1200 [00:04<01:06, 16.40it/s]"
     ]
    },
    {
     "name": "stdout",
     "output_type": "stream",
     "text": [
      "105 tensor(8.6026) tensor(8.0071)\n",
      "106 tensor(8.6003) tensor(8.0297)\n",
      "107 tensor(8.6158) tensor(8.0317)\n",
      "108 tensor(8.6226) tensor(8.0353)\n"
     ]
    },
    {
     "name": "stderr",
     "output_type": "stream",
     "text": [
      "  9%|▉         | 113/1200 [00:04<01:02, 17.52it/s]"
     ]
    },
    {
     "name": "stdout",
     "output_type": "stream",
     "text": [
      "109 tensor(8.6241) tensor(8.0472)\n",
      "110 tensor(8.6340) tensor(8.0555)\n",
      "111 tensor(8.6312) tensor(8.0573)\n",
      "112 tensor(8.6432) tensor(8.0666)\n",
      "113 tensor(8.6424) tensor(8.0824)\n",
      "114 tensor(8.6359) tensor(8.0943)\n",
      "115 tensor(8.6306) tensor(8.0943)\n"
     ]
    },
    {
     "name": "stderr",
     "output_type": "stream",
     "text": [
      " 10%|█         | 122/1200 [00:05<00:45, 23.63it/s]"
     ]
    },
    {
     "name": "stdout",
     "output_type": "stream",
     "text": [
      "116 tensor(8.6274) tensor(8.0943)\n",
      "117 tensor(8.6334) tensor(8.1065)\n",
      "118 tensor(8.6471) tensor(8.1112)\n",
      "119 tensor(8.6510) tensor(8.1112)\n",
      "120 tensor(8.6706) tensor(8.1195)\n",
      "121 tensor(8.6829) tensor(8.1268)\n",
      "122 tensor(8.6967) tensor(8.1400)\n",
      "123 tensor(8.7215) tensor(8.1459)\n"
     ]
    },
    {
     "name": "stderr",
     "output_type": "stream",
     "text": [
      "\r",
      " 10%|█         | 125/1200 [00:05<00:55, 19.41it/s]"
     ]
    },
    {
     "name": "stdout",
     "output_type": "stream",
     "text": [
      "124 tensor(8.7248) tensor(8.1521)\n",
      "125 tensor(8.7378) tensor(8.1552)\n",
      "126 tensor(8.7563) tensor(8.1742)\n"
     ]
    },
    {
     "name": "stderr",
     "output_type": "stream",
     "text": [
      " 11%|█         | 131/1200 [00:05<01:03, 16.95it/s]"
     ]
    },
    {
     "name": "stdout",
     "output_type": "stream",
     "text": [
      "127 tensor(8.7541) tensor(8.1756)\n",
      "128 tensor(8.7513) tensor(8.1958)\n",
      "129 tensor(8.7608) tensor(8.1958)\n",
      "130 tensor(8.7608) tensor(8.1958)\n"
     ]
    },
    {
     "name": "stderr",
     "output_type": "stream",
     "text": [
      " 12%|█▏        | 140/1200 [00:06<00:41, 25.33it/s]"
     ]
    },
    {
     "name": "stdout",
     "output_type": "stream",
     "text": [
      "131 tensor(8.7670) tensor(8.1995)\n",
      "132 tensor(8.7629) tensor(8.2012)\n",
      "133 tensor(8.7992) tensor(8.2154)\n",
      "134 tensor(8.8140) tensor(8.2267)\n",
      "135 tensor(8.8131) tensor(8.2267)\n",
      "136 tensor(8.8205) tensor(8.2373)\n",
      "137 tensor(8.8180) tensor(8.2403)\n",
      "138 tensor(8.8286) tensor(8.2515)\n",
      "139 tensor(8.8181) tensor(8.2583)\n"
     ]
    },
    {
     "name": "stderr",
     "output_type": "stream",
     "text": [
      " 12%|█▏        | 146/1200 [00:06<00:41, 25.66it/s]"
     ]
    },
    {
     "name": "stdout",
     "output_type": "stream",
     "text": [
      "140 tensor(8.8297) tensor(8.2637)\n",
      "141 tensor(8.8525) tensor(8.2696)\n",
      "142 tensor(8.8796) tensor(8.2883)\n",
      "143 tensor(8.8752) tensor(8.2883)\n",
      "144 tensor(8.8686) tensor(8.2883)\n",
      "145 tensor(8.8772) tensor(8.2976)\n"
     ]
    },
    {
     "name": "stderr",
     "output_type": "stream",
     "text": [
      "\r",
      " 12%|█▏        | 149/1200 [00:06<00:39, 26.60it/s]"
     ]
    },
    {
     "name": "stdout",
     "output_type": "stream",
     "text": [
      "146 tensor(8.8616) tensor(8.2994)\n",
      "147 tensor(8.8639) tensor(8.3006)\n",
      "148 tensor(8.8722) tensor(8.3120)\n",
      "149 tensor(8.8700) tensor(8.3120)\n"
     ]
    },
    {
     "name": "stderr",
     "output_type": "stream",
     "text": [
      " 13%|█▎        | 157/1200 [00:06<00:40, 25.63it/s]"
     ]
    },
    {
     "name": "stdout",
     "output_type": "stream",
     "text": [
      "150 tensor(8.8700) tensor(8.3120)\n",
      "151 tensor(8.8874) tensor(8.3250)\n",
      "152 tensor(8.8858) tensor(8.3458)\n",
      "153 tensor(8.8887) tensor(8.3602)\n",
      "154 tensor(8.8942) tensor(8.3602)\n",
      "155 tensor(8.9006) tensor(8.3624)\n",
      "156 tensor(8.9006) tensor(8.3624)\n",
      "157 tensor(8.9016) tensor(8.3624)\n"
     ]
    },
    {
     "name": "stderr",
     "output_type": "stream",
     "text": [
      "\r",
      " 13%|█▎        | 160/1200 [00:06<00:39, 26.34it/s]"
     ]
    },
    {
     "name": "stdout",
     "output_type": "stream",
     "text": [
      "158 tensor(8.9098) tensor(8.3631)\n",
      "159 tensor(8.9262) tensor(8.3673)\n"
     ]
    },
    {
     "name": "stderr",
     "output_type": "stream",
     "text": [
      "\r",
      " 14%|█▎        | 163/1200 [00:07<00:51, 20.32it/s]"
     ]
    },
    {
     "name": "stdout",
     "output_type": "stream",
     "text": [
      "160 tensor(8.9418) tensor(8.3754)\n",
      "161 tensor(8.9449) tensor(8.3754)\n",
      "162 tensor(8.9448) tensor(8.4003)\n"
     ]
    },
    {
     "name": "stderr",
     "output_type": "stream",
     "text": [
      " 14%|█▍        | 170/1200 [00:07<01:01, 16.68it/s]"
     ]
    },
    {
     "name": "stdout",
     "output_type": "stream",
     "text": [
      "163 tensor(8.9598) tensor(8.4053)\n",
      "164 tensor(8.9535) tensor(8.4053)\n",
      "165 tensor(8.9511) tensor(8.4053)\n",
      "166 tensor(8.9568) tensor(8.4186)\n",
      "167 tensor(8.9451) tensor(8.4186)\n",
      "168 tensor(8.9530) tensor(8.4286)\n",
      "169 tensor(8.9523) tensor(8.4333)\n"
     ]
    },
    {
     "name": "stderr",
     "output_type": "stream",
     "text": [
      " 15%|█▍        | 177/1200 [00:07<00:49, 20.49it/s]"
     ]
    },
    {
     "name": "stdout",
     "output_type": "stream",
     "text": [
      "170 tensor(8.9599) tensor(8.4333)\n",
      "171 tensor(8.9639) tensor(8.4454)\n",
      "172 tensor(8.9648) tensor(8.4526)\n",
      "173 tensor(8.9615) tensor(8.4526)\n",
      "174 tensor(8.9857) tensor(8.4576)\n",
      "175 tensor(9.0097) tensor(8.4755)\n",
      "176 tensor(9.0100) tensor(8.4873)\n",
      "177 tensor(9.0143) tensor(8.4923)\n"
     ]
    },
    {
     "name": "stderr",
     "output_type": "stream",
     "text": [
      "\r",
      " 15%|█▌        | 180/1200 [00:08<00:53, 19.17it/s]"
     ]
    },
    {
     "name": "stdout",
     "output_type": "stream",
     "text": [
      "178 tensor(9.0198) tensor(8.4923)\n",
      "179 tensor(9.0361) tensor(8.5030)\n",
      "180 tensor(9.0393) tensor(8.5030)\n"
     ]
    },
    {
     "name": "stderr",
     "output_type": "stream",
     "text": [
      " 16%|█▌        | 187/1200 [00:08<00:43, 23.45it/s]"
     ]
    },
    {
     "name": "stdout",
     "output_type": "stream",
     "text": [
      "181 tensor(9.0401) tensor(8.5059)\n",
      "182 tensor(9.0401) tensor(8.5059)\n",
      "183 tensor(9.0401) tensor(8.5130)\n",
      "184 tensor(9.0318) tensor(8.5130)\n",
      "185 tensor(9.0255) tensor(8.5268)\n",
      "186 tensor(9.0198) tensor(8.5268)\n"
     ]
    },
    {
     "name": "stderr",
     "output_type": "stream",
     "text": [
      " 16%|█▌        | 194/1200 [00:08<00:41, 24.16it/s]"
     ]
    },
    {
     "name": "stdout",
     "output_type": "stream",
     "text": [
      "187 tensor(9.0165) tensor(8.5268)\n",
      "188 tensor(9.0165) tensor(8.5268)\n",
      "189 tensor(9.0224) tensor(8.5268)\n",
      "190 tensor(9.0272) tensor(8.5331)\n",
      "191 tensor(9.0340) tensor(8.5367)\n",
      "192 tensor(9.0480) tensor(8.5400)\n",
      "193 tensor(9.0577) tensor(8.5584)\n",
      "194 tensor(9.0675) tensor(8.5584)\n"
     ]
    },
    {
     "name": "stderr",
     "output_type": "stream",
     "text": [
      "\r",
      " 16%|█▋        | 197/1200 [00:08<00:47, 21.17it/s]"
     ]
    },
    {
     "name": "stdout",
     "output_type": "stream",
     "text": [
      "195 tensor(9.0675) tensor(8.5584)\n",
      "196 tensor(9.0700) tensor(8.5584)\n",
      "197 tensor(9.0700) tensor(8.5584)\n",
      "198 tensor(9.0767) tensor(8.5627)\n",
      "199 tensor(9.0873) tensor(8.5740)\n"
     ]
    },
    {
     "name": "stderr",
     "output_type": "stream",
     "text": [
      " 17%|█▋        | 205/1200 [00:09<00:36, 27.50it/s]"
     ]
    },
    {
     "name": "stdout",
     "output_type": "stream",
     "text": [
      "200 tensor(9.0880) tensor(8.5740)\n",
      "201 tensor(9.0912) tensor(8.5740)\n",
      "202 tensor(9.0912) tensor(8.5740)\n",
      "203 tensor(9.0966) tensor(8.5763)\n",
      "204 tensor(9.0966) tensor(8.5763)\n"
     ]
    },
    {
     "name": "stderr",
     "output_type": "stream",
     "text": [
      " 18%|█▊        | 213/1200 [00:09<00:38, 25.57it/s]"
     ]
    },
    {
     "name": "stdout",
     "output_type": "stream",
     "text": [
      "205 tensor(9.1093) tensor(8.5955)\n",
      "206 tensor(9.1130) tensor(8.5955)\n",
      "207 tensor(9.1197) tensor(8.5958)\n",
      "208 tensor(9.1245) tensor(8.5958)\n",
      "209 tensor(9.1300) tensor(8.5959)\n",
      "210 tensor(9.1113) tensor(8.6082)\n",
      "211 tensor(9.1130) tensor(8.6163)\n",
      "212 tensor(9.1130) tensor(8.6163)\n"
     ]
    },
    {
     "name": "stderr",
     "output_type": "stream",
     "text": [
      " 18%|█▊        | 220/1200 [00:09<00:39, 25.00it/s]"
     ]
    },
    {
     "name": "stdout",
     "output_type": "stream",
     "text": [
      "213 tensor(9.1130) tensor(8.6163)\n",
      "214 tensor(9.1156) tensor(8.6163)\n",
      "215 tensor(9.1301) tensor(8.6231)\n",
      "216 tensor(9.1280) tensor(8.6231)\n",
      "217 tensor(9.1436) tensor(8.6348)\n",
      "218 tensor(9.1332) tensor(8.6348)\n",
      "219 tensor(9.1332) tensor(8.6348)\n"
     ]
    },
    {
     "name": "stderr",
     "output_type": "stream",
     "text": [
      "\r",
      " 19%|█▊        | 223/1200 [00:09<00:45, 21.44it/s]"
     ]
    },
    {
     "name": "stdout",
     "output_type": "stream",
     "text": [
      "220 tensor(9.1307) tensor(8.6348)\n",
      "221 tensor(9.1382) tensor(8.6348)\n",
      "222 tensor(9.1549) tensor(8.6434)\n",
      "223 tensor(9.1534) tensor(8.6434)\n"
     ]
    },
    {
     "name": "stderr",
     "output_type": "stream",
     "text": [
      "\r",
      " 19%|█▉        | 226/1200 [00:10<00:42, 23.18it/s]"
     ]
    },
    {
     "name": "stdout",
     "output_type": "stream",
     "text": [
      "224 tensor(9.1610) tensor(8.6555)\n",
      "225 tensor(9.1610) tensor(8.6555)\n",
      "226 tensor(9.1675) tensor(8.6555)\n",
      "227 tensor(9.1615) tensor(8.6632)\n",
      "228 tensor(9.1628) tensor(8.6632)\n",
      "229 tensor(9.1711) tensor(8.6823)\n"
     ]
    },
    {
     "name": "stderr",
     "output_type": "stream",
     "text": [
      " 20%|█▉        | 234/1200 [00:10<00:55, 17.26it/s]"
     ]
    },
    {
     "name": "stdout",
     "output_type": "stream",
     "text": [
      "230 tensor(9.1711) tensor(8.6823)\n",
      "231 tensor(9.1655) tensor(8.6823)\n",
      "232 tensor(9.1654) tensor(8.6823)\n",
      "233 tensor(9.1654) tensor(8.6823)\n",
      "234 tensor(9.1601) tensor(8.6823)\n",
      "235 "
     ]
    },
    {
     "name": "stderr",
     "output_type": "stream",
     "text": [
      "\r",
      " 20%|█▉        | 238/1200 [00:10<00:47, 20.44it/s]"
     ]
    },
    {
     "name": "stdout",
     "output_type": "stream",
     "text": [
      "tensor(9.1601) tensor(8.6823)\n",
      "236 tensor(9.1619) tensor(8.6823)\n",
      "237 tensor(9.1652) tensor(8.6823)\n",
      "238 tensor(9.1823) tensor(8.7001)\n",
      "239 tensor(9.1823) tensor(8.7001)\n",
      "240 tensor(9.1786) tensor(8.7001)\n"
     ]
    },
    {
     "name": "stderr",
     "output_type": "stream",
     "text": [
      " 20%|██        | 245/1200 [00:11<00:43, 22.12it/s]"
     ]
    },
    {
     "name": "stdout",
     "output_type": "stream",
     "text": [
      "241 tensor(9.1822) tensor(8.7001)\n",
      "242 tensor(9.1836) tensor(8.7001)\n",
      "243 tensor(9.1842) tensor(8.7009)\n",
      "244 tensor(9.1938) tensor(8.7037)\n",
      "245 tensor(9.1907) tensor(8.7037)\n",
      "246 tensor(9.2124) tensor(8.7124)\n",
      "247 tensor(9.2230) tensor(8.7124)\n"
     ]
    },
    {
     "name": "stderr",
     "output_type": "stream",
     "text": [
      " 21%|██        | 252/1200 [00:11<00:36, 25.68it/s]"
     ]
    },
    {
     "name": "stdout",
     "output_type": "stream",
     "text": [
      "248 tensor(9.2202) tensor(8.7188)\n",
      "249 tensor(9.2340) tensor(8.7194)\n",
      "250 tensor(9.2325) tensor(8.7282)\n",
      "251 tensor(9.2325) tensor(8.7282)\n",
      "252 tensor(9.2414) tensor(8.7407)\n",
      "253 tensor(9.2414) tensor(8.7407)\n"
     ]
    },
    {
     "name": "stderr",
     "output_type": "stream",
     "text": [
      " 22%|██▏       | 259/1200 [00:11<00:34, 27.21it/s]"
     ]
    },
    {
     "name": "stdout",
     "output_type": "stream",
     "text": [
      "254 tensor(9.2481) tensor(8.7407)\n",
      "255 tensor(9.2655) tensor(8.7407)\n",
      "256 tensor(9.2655) tensor(8.7407)\n",
      "257 tensor(9.2655) tensor(8.7407)\n",
      "258 tensor(9.2727) tensor(8.7407)\n",
      "259 tensor(9.2770) tensor(8.7504)\n",
      "260 tensor(9.2878) tensor(8.7533)\n",
      "261 tensor(9.2852) tensor(8.7533)\n"
     ]
    },
    {
     "name": "stderr",
     "output_type": "stream",
     "text": [
      " 22%|██▏       | 267/1200 [00:11<00:33, 27.58it/s]"
     ]
    },
    {
     "name": "stdout",
     "output_type": "stream",
     "text": [
      "262 tensor(9.2852) tensor(8.7533)\n",
      "263 tensor(9.2900) tensor(8.7533)\n",
      "264 tensor(9.3001) tensor(8.7636)\n",
      "265 tensor(9.3001) tensor(8.7636)\n",
      "266 tensor(9.2985) tensor(8.7636)\n",
      "267 tensor(9.2985) tensor(8.7655)\n"
     ]
    },
    {
     "name": "stderr",
     "output_type": "stream",
     "text": [
      "\r",
      " 22%|██▎       | 270/1200 [00:11<00:33, 27.77it/s]"
     ]
    },
    {
     "name": "stdout",
     "output_type": "stream",
     "text": [
      "268 tensor(9.3060) tensor(8.7655)\n",
      "269 tensor(9.3077) tensor(8.7655)\n",
      "270 tensor(9.3077) tensor(8.7655)\n"
     ]
    },
    {
     "name": "stderr",
     "output_type": "stream",
     "text": [
      " 23%|██▎       | 277/1200 [00:12<00:40, 22.80it/s]"
     ]
    },
    {
     "name": "stdout",
     "output_type": "stream",
     "text": [
      "271 tensor(9.3078) tensor(8.7673)\n",
      "272 tensor(9.3078) tensor(8.7673)\n",
      "273 tensor(9.3078) tensor(8.7673)\n",
      "274 tensor(9.3117) tensor(8.7673)\n",
      "275 tensor(9.3245) tensor(8.7719)\n",
      "276 tensor(9.3395) tensor(8.7748)\n",
      "277 tensor(9.3371) tensor(8.7748)\n"
     ]
    },
    {
     "name": "stderr",
     "output_type": "stream",
     "text": [
      "\r",
      " 23%|██▎       | 280/1200 [00:12<00:39, 23.11it/s]"
     ]
    },
    {
     "name": "stdout",
     "output_type": "stream",
     "text": [
      "278 tensor(9.3424) tensor(8.7799)\n",
      "279 tensor(9.3393) tensor(8.7904)\n",
      "280 tensor(9.3390) tensor(8.7904)\n"
     ]
    },
    {
     "name": "stderr",
     "output_type": "stream",
     "text": [
      " 24%|██▍       | 287/1200 [00:12<00:40, 22.71it/s]"
     ]
    },
    {
     "name": "stdout",
     "output_type": "stream",
     "text": [
      "281 tensor(9.3376) tensor(8.7904)\n",
      "282 tensor(9.3421) tensor(8.7951)\n",
      "283 tensor(9.3421) tensor(8.7951)\n",
      "284 tensor(9.3421) tensor(8.7951)\n",
      "285 tensor(9.3427) tensor(8.7989)\n",
      "286 tensor(9.3499) tensor(8.7989)\n",
      "287 tensor(9.3499) tensor(8.7989)\n",
      "288 tensor(9.3510) tensor(8.8095)\n"
     ]
    },
    {
     "name": "stderr",
     "output_type": "stream",
     "text": [
      " 24%|██▍       | 293/1200 [00:13<00:39, 22.95it/s]"
     ]
    },
    {
     "name": "stdout",
     "output_type": "stream",
     "text": [
      "289 tensor(9.3618) tensor(8.8126)\n",
      "290 tensor(9.3640) tensor(8.8194)\n",
      "291 tensor(9.3590) tensor(8.8258)\n",
      "292 tensor(9.3590) tensor(8.8258)\n",
      "293 tensor(9.3590) tensor(8.8258)\n"
     ]
    },
    {
     "name": "stderr",
     "output_type": "stream",
     "text": [
      "\r",
      " 25%|██▍       | 296/1200 [00:13<00:37, 23.96it/s]"
     ]
    },
    {
     "name": "stdout",
     "output_type": "stream",
     "text": [
      "294 tensor(9.3616) tensor(8.8258)\n",
      "295 tensor(9.3616) tensor(8.8258)\n"
     ]
    },
    {
     "name": "stderr",
     "output_type": "stream",
     "text": [
      " 25%|██▌       | 303/1200 [00:13<00:44, 20.21it/s]"
     ]
    },
    {
     "name": "stdout",
     "output_type": "stream",
     "text": [
      "296 tensor(9.3616) tensor(8.8258)\n",
      "297 tensor(9.3616) tensor(8.8258)\n",
      "298 tensor(9.3592) tensor(8.8439)\n",
      "299 tensor(9.3691) tensor(8.8451)\n",
      "300 tensor(9.3691) tensor(8.8451)\n",
      "301 tensor(9.3665) tensor(8.8451)\n",
      "302 tensor(9.3624) tensor(8.8451)\n"
     ]
    },
    {
     "name": "stderr",
     "output_type": "stream",
     "text": [
      " 26%|██▌       | 310/1200 [00:13<00:43, 20.54it/s]"
     ]
    },
    {
     "name": "stdout",
     "output_type": "stream",
     "text": [
      "303 tensor(9.3596) tensor(8.8451)\n",
      "304 tensor(9.3596) tensor(8.8451)\n",
      "305 tensor(9.3471) tensor(8.8467)\n",
      "306 tensor(9.3538) tensor(8.8471)\n",
      "307 tensor(9.3618) tensor(8.8615)\n",
      "308 tensor(9.3621) tensor(8.8615)\n",
      "309 tensor(9.3621) tensor(8.8615)\n",
      "310 tensor(9.3478) tensor(8.8615)\n"
     ]
    },
    {
     "name": "stderr",
     "output_type": "stream",
     "text": [
      " 26%|██▋       | 318/1200 [00:14<00:32, 27.27it/s]"
     ]
    },
    {
     "name": "stdout",
     "output_type": "stream",
     "text": [
      "311 tensor(9.3491) tensor(8.8615)\n",
      "312 tensor(9.3559) tensor(8.8704)\n",
      "313 tensor(9.3559) tensor(8.8704)\n",
      "314 tensor(9.3559) tensor(8.8704)\n",
      "315 tensor(9.3559) tensor(8.8704)\n",
      "316 tensor(9.3622) tensor(8.8789)\n",
      "317 tensor(9.3625) tensor(8.8789)\n",
      "318 tensor(9.3567) tensor(8.8789)\n"
     ]
    },
    {
     "name": "stderr",
     "output_type": "stream",
     "text": [
      " 27%|██▋       | 325/1200 [00:14<00:33, 26.06it/s]"
     ]
    },
    {
     "name": "stdout",
     "output_type": "stream",
     "text": [
      "319 tensor(9.3691) tensor(8.8832)\n",
      "320 tensor(9.3764) tensor(8.8871)\n",
      "321 tensor(9.3764) tensor(8.8871)\n",
      "322 tensor(9.3764) tensor(8.8871)\n",
      "323 tensor(9.3764) tensor(8.8871)\n",
      "324 tensor(9.3764) tensor(8.8871)\n"
     ]
    },
    {
     "name": "stderr",
     "output_type": "stream",
     "text": [
      "\r",
      " 27%|██▋       | 329/1200 [00:14<00:30, 28.14it/s]"
     ]
    },
    {
     "name": "stdout",
     "output_type": "stream",
     "text": [
      "325 tensor(9.3775) tensor(8.8911)\n",
      "326 tensor(9.3771) tensor(8.8911)\n",
      "327 tensor(9.3711) tensor(8.8911)\n",
      "328 tensor(9.3688) tensor(8.8911)\n",
      "329 tensor(9.3664) tensor(8.8963)\n",
      "330 tensor(9.3702) tensor(8.8963)\n",
      "331 tensor(9.3674) tensor(8.8963)\n"
     ]
    },
    {
     "name": "stderr",
     "output_type": "stream",
     "text": [
      " 28%|██▊       | 336/1200 [00:14<00:36, 23.85it/s]"
     ]
    },
    {
     "name": "stdout",
     "output_type": "stream",
     "text": [
      "332 tensor(9.3750) tensor(8.8994)\n",
      "333 tensor(9.3750) tensor(8.8994)\n",
      "334 tensor(9.3750) tensor(8.8994)\n",
      "335 tensor(9.3750) tensor(8.8994)\n",
      "336 tensor(9.3804) tensor(8.8994)\n",
      "337 tensor(9.3804) tensor(8.8994)\n",
      "338 tensor(9.3805) tensor(8.9008)\n"
     ]
    },
    {
     "name": "stderr",
     "output_type": "stream",
     "text": [
      " 29%|██▊       | 343/1200 [00:15<00:38, 22.08it/s]"
     ]
    },
    {
     "name": "stdout",
     "output_type": "stream",
     "text": [
      "339 tensor(9.3805) tensor(8.9008)\n",
      "340 tensor(9.3863) tensor(8.9011)\n",
      "341 tensor(9.3945) tensor(8.9156)\n",
      "342 tensor(9.3952) tensor(8.9197)\n",
      "343 tensor(9.3995) tensor(8.9222)\n"
     ]
    },
    {
     "name": "stderr",
     "output_type": "stream",
     "text": [
      "\r",
      " 29%|██▉       | 347/1200 [00:15<00:33, 25.22it/s]"
     ]
    },
    {
     "name": "stdout",
     "output_type": "stream",
     "text": [
      "344 tensor(9.3995) tensor(8.9222)\n",
      "345 tensor(9.3972) tensor(8.9222)\n",
      "346 tensor(9.3972) tensor(8.9222)\n"
     ]
    },
    {
     "name": "stderr",
     "output_type": "stream",
     "text": [
      " 30%|██▉       | 354/1200 [00:15<00:35, 23.87it/s]"
     ]
    },
    {
     "name": "stdout",
     "output_type": "stream",
     "text": [
      "347 tensor(9.3972) tensor(8.9222)\n",
      "348 tensor(9.3972) tensor(8.9222)\n",
      "349 tensor(9.3995) tensor(8.9222)\n",
      "350 tensor(9.3995) tensor(8.9222)\n",
      "351 tensor(9.4058) tensor(8.9222)\n",
      "352 tensor(9.4058) tensor(8.9222)\n",
      "353 tensor(9.4090) tensor(8.9222)\n",
      "354 tensor(9.4090) tensor(8.9222)\n"
     ]
    },
    {
     "name": "stderr",
     "output_type": "stream",
     "text": [
      "\r",
      " 30%|██▉       | 357/1200 [00:15<00:39, 21.11it/s]"
     ]
    },
    {
     "name": "stdout",
     "output_type": "stream",
     "text": [
      "355 tensor(9.4110) tensor(8.9227)\n",
      "356 tensor(9.4224) tensor(8.9255)\n",
      "357 tensor(9.4243) tensor(8.9269)\n"
     ]
    },
    {
     "name": "stderr",
     "output_type": "stream",
     "text": [
      "\r",
      " 30%|███       | 360/1200 [00:16<00:39, 21.46it/s]"
     ]
    },
    {
     "name": "stdout",
     "output_type": "stream",
     "text": [
      "358 tensor(9.4243) tensor(8.9269)\n",
      "359 tensor(9.4307) tensor(8.9340)\n",
      "360 tensor(9.4307) tensor(8.9340)\n"
     ]
    },
    {
     "name": "stderr",
     "output_type": "stream",
     "text": [
      " 31%|███       | 367/1200 [00:16<00:47, 17.62it/s]"
     ]
    },
    {
     "name": "stdout",
     "output_type": "stream",
     "text": [
      "361 tensor(9.4307) tensor(8.9340)\n",
      "362 tensor(9.4307) tensor(8.9340)\n",
      "363 tensor(9.4307) tensor(8.9340)\n",
      "364 tensor(9.4377) tensor(8.9340)\n",
      "365 tensor(9.4374) tensor(8.9340)\n",
      "366 tensor(9.4411) tensor(8.9427)\n",
      "367 tensor(9.4411) tensor(8.9427)\n",
      "368 tensor(9.4489) tensor(8.9427)\n"
     ]
    },
    {
     "name": "stderr",
     "output_type": "stream",
     "text": [
      "\r",
      " 31%|███       | 371/1200 [00:16<00:43, 19.01it/s]"
     ]
    },
    {
     "name": "stdout",
     "output_type": "stream",
     "text": [
      "369 tensor(9.4559) tensor(8.9459)\n",
      "370 tensor(9.4496) tensor(8.9459)\n",
      "371 tensor(9.4474) tensor(8.9471)\n",
      "372 tensor(9.4474) tensor(8.9471)\n"
     ]
    },
    {
     "name": "stderr",
     "output_type": "stream",
     "text": [
      " 32%|███▏      | 379/1200 [00:17<00:33, 24.23it/s]"
     ]
    },
    {
     "name": "stdout",
     "output_type": "stream",
     "text": [
      "373 tensor(9.4459) tensor(8.9471)\n",
      "374 tensor(9.4475) tensor(8.9587)\n",
      "375 tensor(9.4407) tensor(8.9587)\n",
      "376 tensor(9.4417) tensor(8.9587)\n",
      "377 tensor(9.4417) tensor(8.9587)\n",
      "378 tensor(9.4417) tensor(8.9587)\n",
      "379 tensor(9.4430) tensor(8.9587)\n"
     ]
    },
    {
     "name": "stderr",
     "output_type": "stream",
     "text": [
      " 32%|███▏      | 386/1200 [00:17<00:32, 25.09it/s]"
     ]
    },
    {
     "name": "stdout",
     "output_type": "stream",
     "text": [
      "380 tensor(9.4595) tensor(8.9653)\n",
      "381 tensor(9.4606) tensor(8.9656)\n",
      "382 tensor(9.4646) tensor(8.9752)\n",
      "383 tensor(9.4690) tensor(8.9752)\n",
      "384 tensor(9.4656) tensor(8.9943)\n",
      "385 tensor(9.4765) tensor(8.9943)\n",
      "386 tensor(9.4765) tensor(8.9943)\n",
      "387 tensor(9.4765) tensor(8.9943)\n"
     ]
    },
    {
     "name": "stderr",
     "output_type": "stream",
     "text": [
      "\r",
      " 32%|███▎      | 390/1200 [00:17<00:36, 22.35it/s]"
     ]
    },
    {
     "name": "stdout",
     "output_type": "stream",
     "text": [
      "388 tensor(9.4804) tensor(8.9943)\n",
      "389 tensor(9.4786) tensor(8.9943)\n",
      "390 tensor(9.4786) tensor(8.9943)\n",
      "391 tensor(9.4786) tensor(8.9943)\n"
     ]
    },
    {
     "name": "stderr",
     "output_type": "stream",
     "text": [
      "\r",
      " 33%|███▎      | 394/1200 [00:17<00:32, 24.83it/s]"
     ]
    },
    {
     "name": "stdout",
     "output_type": "stream",
     "text": [
      "392 tensor(9.4800) tensor(8.9975)\n",
      "393 tensor(9.4828) tensor(9.0044)\n",
      "394 tensor(9.4828) tensor(9.0044)\n",
      "395 tensor(9.4885) tensor(9.0069)\n",
      "396 tensor(9.4967) tensor(9.0165)\n",
      "397 tensor(9.4967) tensor(9.0165)\n"
     ]
    },
    {
     "name": "stderr",
     "output_type": "stream",
     "text": [
      " 34%|███▎      | 402/1200 [00:17<00:31, 25.10it/s]"
     ]
    },
    {
     "name": "stdout",
     "output_type": "stream",
     "text": [
      "398 tensor(9.5004) tensor(9.0165)\n",
      "399 tensor(9.5004) tensor(9.0165)\n",
      "400 tensor(9.5057) tensor(9.0199)\n",
      "401 tensor(9.5080) tensor(9.0199)\n",
      "402 tensor(9.5074) tensor(9.0223)\n",
      "403 tensor(9.5159) tensor(9.0266)\n"
     ]
    },
    {
     "name": "stderr",
     "output_type": "stream",
     "text": [
      "\r",
      " 34%|███▍      | 406/1200 [00:18<00:29, 27.02it/s]"
     ]
    },
    {
     "name": "stdout",
     "output_type": "stream",
     "text": [
      "404 tensor(9.5243) tensor(9.0266)\n",
      "405 tensor(9.5243) tensor(9.0266)\n",
      "406 tensor(9.5314) tensor(9.0642)\n",
      "407 tensor(9.5268) tensor(9.0642)\n",
      "408 tensor(9.5268) tensor(9.0642)\n"
     ]
    },
    {
     "name": "stderr",
     "output_type": "stream",
     "text": [
      " 34%|███▍      | 414/1200 [00:18<00:30, 25.65it/s]"
     ]
    },
    {
     "name": "stdout",
     "output_type": "stream",
     "text": [
      "409 tensor(9.5177) tensor(9.0501)\n",
      "410 tensor(9.5177) tensor(9.0501)\n",
      "411 tensor(9.5185) tensor(9.0642)\n",
      "412 tensor(9.5185) tensor(9.0642)\n",
      "413 tensor(9.5240) tensor(9.0642)\n",
      "414 tensor(9.5240) tensor(9.0642)\n",
      "415 tensor(9.5370) tensor(9.0697)\n",
      "416 tensor(9.5313) tensor(9.0697)\n"
     ]
    },
    {
     "name": "stderr",
     "output_type": "stream",
     "text": [
      " 35%|███▌      | 421/1200 [00:18<00:34, 22.86it/s]"
     ]
    },
    {
     "name": "stdout",
     "output_type": "stream",
     "text": [
      "417 tensor(9.5281) tensor(9.0753)\n",
      "418 tensor(9.5281) tensor(9.0753)\n",
      "419 tensor(9.5281) tensor(9.0753)\n",
      "420 tensor(9.5320) tensor(9.0753)\n"
     ]
    },
    {
     "name": "stderr",
     "output_type": "stream",
     "text": [
      " 36%|███▌      | 429/1200 [00:18<00:27, 28.06it/s]"
     ]
    },
    {
     "name": "stdout",
     "output_type": "stream",
     "text": [
      "421 tensor(9.5316) tensor(9.0761)\n",
      "422 tensor(9.5326) tensor(9.0771)\n",
      "423 tensor(9.5326) tensor(9.0771)\n",
      "424 tensor(9.5435) tensor(9.0838)\n",
      "425 tensor(9.5435) tensor(9.0838)\n",
      "426 tensor(9.5401) tensor(9.0838)\n",
      "427 tensor(9.5401) tensor(9.0838)\n",
      "428 tensor(9.5478) tensor(9.0882)\n",
      "429 tensor(9.5507) tensor(9.0882)\n",
      "430 tensor(9.5507) tensor(9.0882)\n",
      "431 tensor(9.5517) tensor(9.0897)\n"
     ]
    },
    {
     "name": "stderr",
     "output_type": "stream",
     "text": [
      " 36%|███▋      | 436/1200 [00:19<00:41, 18.50it/s]"
     ]
    },
    {
     "name": "stdout",
     "output_type": "stream",
     "text": [
      "432 tensor(9.5517) tensor(9.0897)\n",
      "433 tensor(9.5586) tensor(9.0910)\n",
      "434 tensor(9.5680) tensor(9.1036)\n",
      "435 tensor(9.5818) tensor(9.1036)\n"
     ]
    },
    {
     "name": "stderr",
     "output_type": "stream",
     "text": [
      " 37%|███▋      | 443/1200 [00:19<00:31, 23.85it/s]"
     ]
    },
    {
     "name": "stdout",
     "output_type": "stream",
     "text": [
      "436 tensor(9.5818) tensor(9.1036)\n",
      "437 tensor(9.5818) tensor(9.1036)\n",
      "438 tensor(9.5830) tensor(9.1114)\n",
      "439 tensor(9.5830) tensor(9.1114)\n",
      "440 tensor(9.5801) tensor(9.1239)\n",
      "441 tensor(9.5740) tensor(9.1239)\n",
      "442 tensor(9.5740) tensor(9.1239)\n",
      "443 tensor(9.5766) tensor(9.1239)\n"
     ]
    },
    {
     "name": "stderr",
     "output_type": "stream",
     "text": [
      "\r",
      " 37%|███▋      | 446/1200 [00:19<00:35, 21.22it/s]"
     ]
    },
    {
     "name": "stdout",
     "output_type": "stream",
     "text": [
      "444 tensor(9.5726) tensor(9.1239)\n",
      "445 tensor(9.5753) tensor(9.1244)\n",
      "446 tensor(9.5682) tensor(9.1338)\n",
      "447 tensor(9.5651) tensor(9.1338)\n",
      "448 tensor(9.5638) tensor(9.1338)\n"
     ]
    },
    {
     "name": "stderr",
     "output_type": "stream",
     "text": [
      " 38%|███▊      | 453/1200 [00:20<00:33, 22.60it/s]"
     ]
    },
    {
     "name": "stdout",
     "output_type": "stream",
     "text": [
      "449 tensor(9.5638) tensor(9.1338)\n",
      "450 tensor(9.5638) tensor(9.1338)\n",
      "451 tensor(9.5638) tensor(9.1338)\n",
      "452 tensor(9.5638) tensor(9.1338)\n"
     ]
    },
    {
     "name": "stderr",
     "output_type": "stream",
     "text": [
      " 38%|███▊      | 461/1200 [00:20<00:25, 29.05it/s]"
     ]
    },
    {
     "name": "stdout",
     "output_type": "stream",
     "text": [
      "453 tensor(9.5638) tensor(9.1338)\n",
      "454 tensor(9.5734) tensor(9.1356)\n",
      "455 tensor(9.5695) tensor(9.1356)\n",
      "456 tensor(9.5695) tensor(9.1356)\n",
      "457 tensor(9.5754) tensor(9.1381)\n",
      "458 tensor(9.5745) tensor(9.1420)\n",
      "459 tensor(9.5804) tensor(9.1521)\n",
      "460 tensor(9.5804) tensor(9.1521)\n"
     ]
    },
    {
     "name": "stderr",
     "output_type": "stream",
     "text": [
      "\r",
      " 39%|███▉      | 465/1200 [00:20<00:31, 23.64it/s]"
     ]
    },
    {
     "name": "stdout",
     "output_type": "stream",
     "text": [
      "461 tensor(9.5838) tensor(9.1521)\n",
      "462 tensor(9.5838) tensor(9.1521)\n",
      "463 tensor(9.5838) tensor(9.1521)\n",
      "464 tensor(9.5908) tensor(9.1536)\n"
     ]
    },
    {
     "name": "stderr",
     "output_type": "stream",
     "text": [
      " 39%|███▉      | 473/1200 [00:20<00:25, 28.88it/s]"
     ]
    },
    {
     "name": "stdout",
     "output_type": "stream",
     "text": [
      "465 tensor(9.5943) tensor(9.1536)\n",
      "466 tensor(9.5978) tensor(9.1569)\n",
      "467 tensor(9.6141) tensor(9.1655)\n",
      "468 tensor(9.6252) tensor(9.1785)\n",
      "469 tensor(9.6252) tensor(9.1785)\n",
      "470 tensor(9.6252) tensor(9.1785)\n",
      "471 tensor(9.6252) tensor(9.1785)\n",
      "472 tensor(9.6253) tensor(9.1785)\n"
     ]
    },
    {
     "name": "stderr",
     "output_type": "stream",
     "text": [
      " 40%|████      | 481/1200 [00:21<00:22, 31.42it/s]"
     ]
    },
    {
     "name": "stdout",
     "output_type": "stream",
     "text": [
      "473 tensor(9.6224) tensor(9.1785)\n",
      "474 tensor(9.6224) tensor(9.1785)\n",
      "475 tensor(9.6224) tensor(9.1785)\n",
      "476 tensor(9.6278) tensor(9.1823)\n",
      "477 tensor(9.6305) tensor(9.1854)\n",
      "478 tensor(9.6371) tensor(9.1901)\n",
      "479 tensor(9.6371) tensor(9.1901)\n",
      "480 tensor(9.6371) tensor(9.1901)\n"
     ]
    },
    {
     "name": "stderr",
     "output_type": "stream",
     "text": [
      "\r",
      " 40%|████      | 485/1200 [00:21<00:24, 28.86it/s]"
     ]
    },
    {
     "name": "stdout",
     "output_type": "stream",
     "text": [
      "481 tensor(9.6353) tensor(9.1978)\n",
      "482 tensor(9.6353) tensor(9.1978)\n",
      "483 tensor(9.6354) tensor(9.1978)\n",
      "484 tensor(9.6354) tensor(9.1978)\n",
      "485 tensor(9.6354) tensor(9.1978)\n",
      "486 tensor(9.6347) tensor(9.1978)\n"
     ]
    },
    {
     "name": "stderr",
     "output_type": "stream",
     "text": [
      " 41%|████      | 494/1200 [00:21<00:21, 32.18it/s]"
     ]
    },
    {
     "name": "stdout",
     "output_type": "stream",
     "text": [
      "487 tensor(9.6351) tensor(9.1978)\n",
      "488 tensor(9.6427) tensor(9.2028)\n",
      "489 tensor(9.6440) tensor(9.2028)\n",
      "490 tensor(9.6440) tensor(9.2028)\n",
      "491 tensor(9.6512) tensor(9.2028)\n",
      "492 tensor(9.6512) tensor(9.2028)\n",
      "493 tensor(9.6553) tensor(9.2067)\n",
      "494 tensor(9.6553) tensor(9.2067)\n",
      "495 tensor(9.6542) tensor(9.2067)\n"
     ]
    },
    {
     "name": "stderr",
     "output_type": "stream",
     "text": [
      "\r",
      " 42%|████▏     | 498/1200 [00:21<00:21, 31.99it/s]"
     ]
    },
    {
     "name": "stdout",
     "output_type": "stream",
     "text": [
      "496 tensor(9.6542) tensor(9.2067)\n",
      "497 tensor(9.6557) tensor(9.2067)\n",
      "498 tensor(9.6557) tensor(9.2067)\n",
      "499 tensor(9.6650) tensor(9.2084)\n",
      "500 tensor(9.6735) tensor(9.2239)\n"
     ]
    },
    {
     "name": "stderr",
     "output_type": "stream",
     "text": [
      " 42%|████▏     | 506/1200 [00:22<00:26, 26.05it/s]"
     ]
    },
    {
     "name": "stdout",
     "output_type": "stream",
     "text": [
      "501 tensor(9.6754) tensor(9.2239)\n",
      "502 tensor(9.6754) tensor(9.2239)\n",
      "503 tensor(9.6694) tensor(9.2239)\n",
      "504 tensor(9.6694) tensor(9.2239)\n",
      "505 tensor(9.6694) tensor(9.2239)\n",
      "506 tensor(9.6675) tensor(9.2239)\n",
      "507 tensor(9.6628) tensor(9.2239)\n",
      "508 tensor(9.6628) tensor(9.2239)\n"
     ]
    },
    {
     "name": "stderr",
     "output_type": "stream",
     "text": [
      " 43%|████▎     | 513/1200 [00:22<00:34, 19.82it/s]"
     ]
    },
    {
     "name": "stdout",
     "output_type": "stream",
     "text": [
      "509 tensor(9.6628) tensor(9.2239)\n",
      "510 tensor(9.6628) tensor(9.2239)\n",
      "511 tensor(9.6628) tensor(9.2239)\n",
      "512 tensor(9.6627) tensor(9.2239)\n",
      "513 tensor(9.6709) tensor(9.2245)\n",
      "514 tensor(9.6709) tensor(9.2245)\n"
     ]
    },
    {
     "name": "stderr",
     "output_type": "stream",
     "text": [
      " 43%|████▎     | 519/1200 [00:22<00:32, 20.81it/s]"
     ]
    },
    {
     "name": "stdout",
     "output_type": "stream",
     "text": [
      "515 tensor(9.6636) tensor(9.2245)\n",
      "516 tensor(9.6629) tensor(9.2295)\n",
      "517 tensor(9.6616) tensor(9.2336)\n",
      "518 tensor(9.6608) tensor(9.2336)\n",
      "519 tensor(9.6650) tensor(9.2352)\n",
      "520 tensor(9.6650) tensor(9.2352)\n"
     ]
    },
    {
     "name": "stderr",
     "output_type": "stream",
     "text": [
      " 44%|████▍     | 526/1200 [00:23<00:25, 26.23it/s]"
     ]
    },
    {
     "name": "stdout",
     "output_type": "stream",
     "text": [
      "521 tensor(9.6650) tensor(9.2352)\n",
      "522 tensor(9.6811) tensor(9.2355)\n",
      "523 tensor(9.6811) tensor(9.2355)\n",
      "524 tensor(9.6891) tensor(9.2380)\n",
      "525 tensor(9.6885) tensor(9.2473)\n",
      "526 tensor(9.6942) tensor(9.2473)\n"
     ]
    },
    {
     "name": "stderr",
     "output_type": "stream",
     "text": [
      " 44%|████▍     | 534/1200 [00:23<00:24, 27.23it/s]"
     ]
    },
    {
     "name": "stdout",
     "output_type": "stream",
     "text": [
      "527 tensor(9.7030) tensor(9.2473)\n",
      "528 tensor(9.7030) tensor(9.2473)\n",
      "529 tensor(9.7030) tensor(9.2473)\n",
      "530 tensor(9.7126) tensor(9.2516)\n",
      "531 tensor(9.7091) tensor(9.2516)\n",
      "532 tensor(9.7091) tensor(9.2516)\n",
      "533 tensor(9.7091) tensor(9.2516)\n",
      "534 tensor(9.7150) tensor(9.2516)\n",
      "535 tensor(9.7046) tensor(9.2550)\n"
     ]
    },
    {
     "name": "stderr",
     "output_type": "stream",
     "text": [
      "\r",
      " 45%|████▍     | 538/1200 [00:23<00:23, 28.39it/s]"
     ]
    },
    {
     "name": "stdout",
     "output_type": "stream",
     "text": [
      "536 tensor(9.7046) tensor(9.2550)\n",
      "537 tensor(9.7046) tensor(9.2550)\n",
      "538 tensor(9.7046) tensor(9.2550)\n",
      "539 tensor(9.7046) tensor(9.2550)\n",
      "540 tensor(9.7039) tensor(9.2550)\n"
     ]
    },
    {
     "name": "stderr",
     "output_type": "stream",
     "text": [
      " 46%|████▌     | 546/1200 [00:23<00:23, 27.58it/s]"
     ]
    },
    {
     "name": "stdout",
     "output_type": "stream",
     "text": [
      "541 tensor(9.7039) tensor(9.2550)\n",
      "542 tensor(9.7016) tensor(9.2699)\n",
      "543 tensor(9.7016) tensor(9.2699)\n",
      "544 tensor(9.7016) tensor(9.2699)\n",
      "545 tensor(9.7063) tensor(9.2699)\n",
      "546 tensor(9.7063) tensor(9.2699)\n",
      "547 tensor(9.7164) tensor(9.2715)\n",
      "548 tensor(9.7238) tensor(9.2920)\n",
      "549 tensor(9.7238) tensor(9.2920)\n"
     ]
    },
    {
     "name": "stderr",
     "output_type": "stream",
     "text": [
      " 46%|████▋     | 555/1200 [00:24<00:20, 31.11it/s]"
     ]
    },
    {
     "name": "stdout",
     "output_type": "stream",
     "text": [
      "550 tensor(9.7238) tensor(9.2920)\n",
      "551 tensor(9.7238) tensor(9.2920)\n",
      "552 tensor(9.7238) tensor(9.2920)\n",
      "553 tensor(9.7238) tensor(9.2920)\n",
      "554 tensor(9.7189) tensor(9.2920)\n"
     ]
    },
    {
     "name": "stderr",
     "output_type": "stream",
     "text": [
      " 47%|████▋     | 563/1200 [00:24<00:20, 30.73it/s]"
     ]
    },
    {
     "name": "stdout",
     "output_type": "stream",
     "text": [
      "555 tensor(9.7209) tensor(9.2920)\n",
      "556 tensor(9.7171) tensor(9.2920)\n",
      "557 tensor(9.7265) tensor(9.2922)\n",
      "558 tensor(9.7299) tensor(9.2922)\n",
      "559 tensor(9.7291) tensor(9.2941)\n",
      "560 tensor(9.7328) tensor(9.2941)\n",
      "561 tensor(9.7333) tensor(9.3003)\n",
      "562 tensor(9.7358) tensor(9.3003)\n",
      "563 tensor(9.7375) tensor(9.3003)\n"
     ]
    },
    {
     "name": "stderr",
     "output_type": "stream",
     "text": [
      " 48%|████▊     | 572/1200 [00:24<00:18, 34.56it/s]"
     ]
    },
    {
     "name": "stdout",
     "output_type": "stream",
     "text": [
      "564 tensor(9.7375) tensor(9.3003)\n",
      "565 tensor(9.7404) tensor(9.3017)\n",
      "566 tensor(9.7404) tensor(9.3017)\n",
      "567 tensor(9.7404) tensor(9.3017)\n",
      "568 tensor(9.7404) tensor(9.3017)\n",
      "569 tensor(9.7404) tensor(9.3017)\n",
      "570 tensor(9.7503) tensor(9.3029)\n",
      "571 tensor(9.7503) tensor(9.3029)\n"
     ]
    },
    {
     "name": "stderr",
     "output_type": "stream",
     "text": [
      "\r",
      " 48%|████▊     | 576/1200 [00:24<00:18, 33.86it/s]"
     ]
    },
    {
     "name": "stdout",
     "output_type": "stream",
     "text": [
      "572 tensor(9.7503) tensor(9.3029)\n",
      "573 tensor(9.7447) tensor(9.3029)\n",
      "574 tensor(9.7447) tensor(9.3029)\n",
      "575 tensor(9.7436) tensor(9.3095)\n",
      "576 tensor(9.7413) tensor(9.3095)\n",
      "577 tensor(9.7386) tensor(9.3120)\n",
      "578 tensor(9.7386) tensor(9.3120)\n",
      "579 tensor(9.7386) tensor(9.3120)\n",
      "580 tensor(9.7380) "
     ]
    },
    {
     "name": "stderr",
     "output_type": "stream",
     "text": [
      " 49%|████▉     | 585/1200 [00:24<00:17, 35.61it/s]"
     ]
    },
    {
     "name": "stdout",
     "output_type": "stream",
     "text": [
      "tensor(9.3129)\n",
      "581 tensor(9.7502) tensor(9.3137)\n",
      "582 tensor(9.7502) tensor(9.3137)\n",
      "583 tensor(9.7577) tensor(9.3201)\n",
      "584 tensor(9.7541) tensor(9.3201)\n",
      "585 tensor(9.7560) tensor(9.3282)\n",
      "586 tensor(9.7560) tensor(9.3282)\n"
     ]
    },
    {
     "name": "stderr",
     "output_type": "stream",
     "text": [
      "\r",
      " 49%|████▉     | 589/1200 [00:25<00:34, 17.71it/s]"
     ]
    },
    {
     "name": "stdout",
     "output_type": "stream",
     "text": [
      "587 tensor(9.7635) tensor(9.3282)\n",
      "588 tensor(9.7641) tensor(9.3282)\n",
      "589 tensor(9.7641) tensor(9.3282)\n"
     ]
    },
    {
     "name": "stderr",
     "output_type": "stream",
     "text": [
      " 50%|████▉     | 596/1200 [00:25<00:30, 20.03it/s]"
     ]
    },
    {
     "name": "stdout",
     "output_type": "stream",
     "text": [
      "590 tensor(9.7729) tensor(9.3321)\n",
      "591 tensor(9.7720) tensor(9.3321)\n",
      "592 tensor(9.7664) tensor(9.3321)\n",
      "593 tensor(9.7664) tensor(9.3321)\n",
      "594 tensor(9.7725) tensor(9.3394)\n",
      "595 tensor(9.7680) tensor(9.3410)\n",
      "596 tensor(9.7760) tensor(9.3460)\n",
      "597 tensor(9.7760) tensor(9.3460)\n"
     ]
    },
    {
     "name": "stderr",
     "output_type": "stream",
     "text": [
      "\r",
      " 50%|████▉     | 599/1200 [00:25<00:27, 21.73it/s]"
     ]
    },
    {
     "name": "stdout",
     "output_type": "stream",
     "text": [
      "598 tensor(9.7760) tensor(9.3460)\n",
      "599 tensor(9.7778) tensor(9.3545)\n",
      "600 tensor(9.7789) tensor(9.3545)\n"
     ]
    },
    {
     "name": "stderr",
     "output_type": "stream",
     "text": [
      " 50%|█████     | 606/1200 [00:26<00:26, 22.70it/s]"
     ]
    },
    {
     "name": "stdout",
     "output_type": "stream",
     "text": [
      "601 tensor(9.7849) tensor(9.3545)\n",
      "602 tensor(9.7859) tensor(9.3545)\n",
      "603 tensor(9.7859) tensor(9.3545)\n",
      "604 tensor(9.7908) tensor(9.3545)\n",
      "605 tensor(9.7908) tensor(9.3545)\n",
      "606 tensor(9.7890) tensor(9.3545)\n",
      "607 tensor(9.7851) tensor(9.3675)\n",
      "608 tensor(9.7851) tensor(9.3675)\n"
     ]
    },
    {
     "name": "stderr",
     "output_type": "stream",
     "text": [
      "\r",
      " 51%|█████     | 610/1200 [00:26<00:23, 25.41it/s]"
     ]
    },
    {
     "name": "stdout",
     "output_type": "stream",
     "text": [
      "609 tensor(9.7851) tensor(9.3675)\n",
      "610 tensor(9.7921) tensor(9.3675)\n",
      "611 tensor(9.7921) tensor(9.3675)\n"
     ]
    },
    {
     "name": "stderr",
     "output_type": "stream",
     "text": [
      " 51%|█████▏    | 617/1200 [00:26<00:24, 23.90it/s]"
     ]
    },
    {
     "name": "stdout",
     "output_type": "stream",
     "text": [
      "612 tensor(9.7921) tensor(9.3675)\n",
      "613 tensor(9.7921) tensor(9.3675)\n",
      "614 tensor(9.7959) tensor(9.3799)\n",
      "615 tensor(9.7980) tensor(9.3799)\n",
      "616 tensor(9.7980) tensor(9.3799)\n",
      "617 tensor(9.7990) tensor(9.3799)\n",
      "618 tensor(9.7990) tensor(9.3799)\n",
      "619 tensor(9.7990) tensor(9.3799)\n"
     ]
    },
    {
     "name": "stderr",
     "output_type": "stream",
     "text": [
      " 52%|█████▏    | 624/1200 [00:26<00:24, 23.10it/s]"
     ]
    },
    {
     "name": "stdout",
     "output_type": "stream",
     "text": [
      "620 tensor(9.7990) tensor(9.3799)\n",
      "621 tensor(9.7957) tensor(9.3819)\n",
      "622 tensor(9.7957) tensor(9.3819)\n",
      "623 tensor(9.7957) tensor(9.3819)\n"
     ]
    },
    {
     "name": "stderr",
     "output_type": "stream",
     "text": [
      " 53%|█████▎    | 631/1200 [00:27<00:20, 28.08it/s]"
     ]
    },
    {
     "name": "stdout",
     "output_type": "stream",
     "text": [
      "624 tensor(9.8018) tensor(9.3874)\n",
      "625 tensor(9.8018) tensor(9.3874)\n",
      "626 tensor(9.8082) tensor(9.3874)\n",
      "627 tensor(9.8082) tensor(9.3874)\n",
      "628 tensor(9.8157) tensor(9.3886)\n",
      "629 tensor(9.8169) tensor(9.3892)\n",
      "630 tensor(9.8169) tensor(9.3892)\n"
     ]
    },
    {
     "name": "stderr",
     "output_type": "stream",
     "text": [
      " 53%|█████▎    | 639/1200 [00:27<00:17, 31.63it/s]"
     ]
    },
    {
     "name": "stdout",
     "output_type": "stream",
     "text": [
      "631 tensor(9.8153) tensor(9.3948)\n",
      "632 tensor(9.8221) tensor(9.3972)\n",
      "633 tensor(9.8221) tensor(9.3972)\n",
      "634 tensor(9.8221) tensor(9.3972)\n",
      "635 tensor(9.8245) tensor(9.3972)\n",
      "636 tensor(9.8245) tensor(9.3972)\n",
      "637 tensor(9.8245) tensor(9.3972)\n",
      "638 tensor(9.8258) tensor(9.4005)\n"
     ]
    },
    {
     "name": "stderr",
     "output_type": "stream",
     "text": [
      " 54%|█████▍    | 647/1200 [00:27<00:16, 34.12it/s]"
     ]
    },
    {
     "name": "stdout",
     "output_type": "stream",
     "text": [
      "639 tensor(9.8302) tensor(9.4032)\n",
      "640 tensor(9.8280) tensor(9.4033)\n",
      "641 tensor(9.8309) tensor(9.4067)\n",
      "642 tensor(9.8309) tensor(9.4067)\n",
      "643 tensor(9.8309) tensor(9.4067)\n",
      "644 tensor(9.8309) tensor(9.4067)\n",
      "645 tensor(9.8309) tensor(9.4067)\n",
      "646 tensor(9.8285) tensor(9.4067)\n"
     ]
    },
    {
     "name": "stderr",
     "output_type": "stream",
     "text": [
      " 55%|█████▍    | 655/1200 [00:27<00:15, 34.92it/s]"
     ]
    },
    {
     "name": "stdout",
     "output_type": "stream",
     "text": [
      "647 tensor(9.8342) tensor(9.4126)\n",
      "648 tensor(9.8342) tensor(9.4126)\n",
      "649 tensor(9.8252) tensor(9.4126)\n",
      "650 tensor(9.8252) tensor(9.4126)\n",
      "651 tensor(9.8252) tensor(9.4126)\n",
      "652 tensor(9.8252) tensor(9.4126)\n",
      "653 tensor(9.8175) tensor(9.4126)\n",
      "654 tensor(9.8235) tensor(9.4126)\n"
     ]
    },
    {
     "name": "stderr",
     "output_type": "stream",
     "text": [
      " 55%|█████▌    | 663/1200 [00:28<00:14, 36.29it/s]"
     ]
    },
    {
     "name": "stdout",
     "output_type": "stream",
     "text": [
      "655 tensor(9.8235) tensor(9.4126)\n",
      "656 tensor(9.8227) tensor(9.4180)\n",
      "657 tensor(9.8305) tensor(9.4180)\n",
      "658 tensor(9.8353) tensor(9.4233)\n",
      "659 tensor(9.8353) tensor(9.4233)\n",
      "660 tensor(9.8333) tensor(9.4233)\n",
      "661 tensor(9.8552) tensor(9.4289)\n",
      "662 tensor(9.8552) tensor(9.4289)\n",
      "663 tensor(9.8552) tensor(9.4289)\n",
      "664 tensor(9.8552) tensor(9.4289)\n"
     ]
    },
    {
     "name": "stderr",
     "output_type": "stream",
     "text": [
      " 56%|█████▌    | 671/1200 [00:28<00:22, 23.47it/s]"
     ]
    },
    {
     "name": "stdout",
     "output_type": "stream",
     "text": [
      "665 tensor(9.8552) tensor(9.4289)\n",
      "666 tensor(9.8552) tensor(9.4289)\n",
      "667 tensor(9.8539) tensor(9.4289)\n",
      "668 tensor(9.8539) tensor(9.4289)\n",
      "669 tensor(9.8539) tensor(9.4289)\n",
      "670 tensor(9.8539) tensor(9.4289)\n",
      "671 tensor(9.8623) tensor(9.4295)\n",
      "672 tensor(9.8623) tensor(9.4295)\n",
      "673 tensor(9.8623) tensor(9.4295)\n"
     ]
    },
    {
     "name": "stderr",
     "output_type": "stream",
     "text": [
      " 57%|█████▋    | 679/1200 [00:28<00:18, 28.91it/s]"
     ]
    },
    {
     "name": "stdout",
     "output_type": "stream",
     "text": [
      "674 tensor(9.8623) tensor(9.4295)\n",
      "675 tensor(9.8628) tensor(9.4323)\n",
      "676 tensor(9.8628) tensor(9.4323)\n",
      "677 tensor(9.8724) tensor(9.4323)\n",
      "678 tensor(9.8724) tensor(9.4323)\n",
      "679 tensor(9.8724) tensor(9.4323)\n",
      "680 tensor(9.8750) tensor(9.4342)\n",
      "681 tensor(9.8725) tensor(9.4342)\n"
     ]
    },
    {
     "name": "stderr",
     "output_type": "stream",
     "text": [
      " 57%|█████▋    | 687/1200 [00:28<00:15, 32.24it/s]"
     ]
    },
    {
     "name": "stdout",
     "output_type": "stream",
     "text": [
      "682 tensor(9.8710) tensor(9.4393)\n",
      "683 tensor(9.8710) tensor(9.4393)\n",
      "684 tensor(9.8700) tensor(9.4393)\n",
      "685 tensor(9.8728) tensor(9.4393)\n",
      "686 tensor(9.8724) tensor(9.4398)\n",
      "687 tensor(9.8724) tensor(9.4398)\n",
      "688 tensor(9.8737) tensor(9.4437)\n",
      "689 tensor(9.8737) tensor(9.4437)\n",
      "690 "
     ]
    },
    {
     "name": "stderr",
     "output_type": "stream",
     "text": [
      " 58%|█████▊    | 696/1200 [00:29<00:14, 35.41it/s]"
     ]
    },
    {
     "name": "stdout",
     "output_type": "stream",
     "text": [
      "tensor(9.8737) tensor(9.4437)\n",
      "691 tensor(9.8852) tensor(9.4437)\n",
      "692 tensor(9.8852) tensor(9.4437)\n",
      "693 tensor(9.8852) tensor(9.4437)\n",
      "694 tensor(9.8839) tensor(9.4437)\n",
      "695 tensor(9.8907) tensor(9.4451)\n",
      "696 tensor(9.8907) tensor(9.4451)\n",
      "697 tensor(9.8960) "
     ]
    },
    {
     "name": "stderr",
     "output_type": "stream",
     "text": [
      " 59%|█████▉    | 705/1200 [00:29<00:13, 36.95it/s]"
     ]
    },
    {
     "name": "stdout",
     "output_type": "stream",
     "text": [
      "tensor(9.4451)\n",
      "698 tensor(9.8960) tensor(9.4451)\n",
      "699 tensor(9.8944) tensor(9.4499)\n",
      "700 tensor(9.9065) tensor(9.4563)\n",
      "701 tensor(9.9065) tensor(9.4563)\n",
      "702 tensor(9.9065) tensor(9.4563)\n",
      "703 tensor(9.9065) tensor(9.4563)\n",
      "704 tensor(9.9065) tensor(9.4563)\n"
     ]
    },
    {
     "name": "stderr",
     "output_type": "stream",
     "text": [
      "\r",
      " 59%|█████▉    | 709/1200 [00:29<00:13, 35.83it/s]"
     ]
    },
    {
     "name": "stdout",
     "output_type": "stream",
     "text": [
      "705 tensor(9.9063) tensor(9.4563)\n",
      "706 tensor(9.9063) tensor(9.4563)\n",
      "707 tensor(9.9104) tensor(9.4611)\n",
      "708 tensor(9.9104) tensor(9.4611)\n",
      "709 tensor(9.9121) tensor(9.4611)\n",
      "710 tensor(9.9188) tensor(9.4738)\n",
      "711 tensor(9.9152) tensor(9.4738)\n",
      "712 "
     ]
    },
    {
     "name": "stderr",
     "output_type": "stream",
     "text": [
      " 60%|█████▉    | 718/1200 [00:29<00:12, 37.37it/s]"
     ]
    },
    {
     "name": "stdout",
     "output_type": "stream",
     "text": [
      "tensor(9.9152) tensor(9.4738)\n",
      "713 tensor(9.9152) tensor(9.4738)\n",
      "714 tensor(9.9122) tensor(9.4738)\n",
      "715 tensor(9.9168) tensor(9.4738)\n",
      "716 tensor(9.9168) tensor(9.4738)\n",
      "717 tensor(9.9168) tensor(9.4738)\n",
      "718 tensor(9.9200) tensor(9.4738)\n",
      "719 tensor(9.9200) tensor(9.4738)\n",
      "720 tensor(9.9221) tensor(9.4745)\n"
     ]
    },
    {
     "name": "stderr",
     "output_type": "stream",
     "text": [
      " 60%|██████    | 726/1200 [00:30<00:12, 36.90it/s]"
     ]
    },
    {
     "name": "stdout",
     "output_type": "stream",
     "text": [
      "721 tensor(9.9221) tensor(9.4745)\n",
      "722 tensor(9.9283) tensor(9.4765)\n",
      "723 tensor(9.9283) tensor(9.4765)\n",
      "724 tensor(9.9283) tensor(9.4765)\n",
      "725 tensor(9.9216) tensor(9.4765)\n",
      "726 tensor(9.9216) tensor(9.4765)\n",
      "727 tensor(9.9317) tensor(9.4765)\n",
      "728 tensor(9.9317) tensor(9.4765)\n",
      "729 tensor(9.9317) tensor(9.4765)\n"
     ]
    },
    {
     "name": "stderr",
     "output_type": "stream",
     "text": [
      " 61%|██████▏   | 735/1200 [00:30<00:12, 36.87it/s]"
     ]
    },
    {
     "name": "stdout",
     "output_type": "stream",
     "text": [
      "730 tensor(9.9399) tensor(9.4827)\n",
      "731 tensor(9.9399) tensor(9.4827)\n",
      "732 tensor(9.9395) tensor(9.4827)\n",
      "733 tensor(9.9381) tensor(9.4827)\n",
      "734 tensor(9.9381) tensor(9.4827)\n",
      "735 tensor(9.9381) tensor(9.4827)\n",
      "736 tensor(9.9381) tensor(9.4827)\n",
      "737 tensor(9.9381) tensor(9.4827)\n"
     ]
    },
    {
     "name": "stderr",
     "output_type": "stream",
     "text": [
      " 62%|██████▏   | 743/1200 [00:30<00:12, 37.05it/s]"
     ]
    },
    {
     "name": "stdout",
     "output_type": "stream",
     "text": [
      "738 tensor(9.9416) tensor(9.4827)\n",
      "739 tensor(9.9421) tensor(9.4983)\n",
      "740 tensor(9.9421) tensor(9.4983)\n",
      "741 tensor(9.9421) tensor(9.4983)\n",
      "742 tensor(9.9421) tensor(9.4983)\n",
      "743 tensor(9.9452) tensor(9.4983)\n",
      "744 tensor(9.9475) tensor(9.5010)\n",
      "745 tensor(9.9501) tensor(9.5027)\n",
      "746 tensor(9.9581)"
     ]
    },
    {
     "name": "stderr",
     "output_type": "stream",
     "text": [
      " 63%|██████▎   | 753/1200 [00:30<00:11, 38.74it/s]"
     ]
    },
    {
     "name": "stdout",
     "output_type": "stream",
     "text": [
      " tensor(9.5060)\n",
      "747 tensor(9.9581) tensor(9.5060)\n",
      "748 tensor(9.9581) tensor(9.5060)\n",
      "749 tensor(9.9581) tensor(9.5060)\n",
      "750 tensor(9.9610) tensor(9.5060)\n",
      "751 tensor(9.9610) tensor(9.5060)\n",
      "752 tensor(9.9635) tensor(9.5060)\n",
      "753 tensor(9.9635) tensor(9.5060)\n"
     ]
    },
    {
     "name": "stderr",
     "output_type": "stream",
     "text": [
      " 63%|██████▎   | 761/1200 [00:30<00:11, 37.19it/s]"
     ]
    },
    {
     "name": "stdout",
     "output_type": "stream",
     "text": [
      "754 tensor(9.9635) tensor(9.5060)\n",
      "755 tensor(9.9729) tensor(9.5075)\n",
      "756 tensor(9.9729) tensor(9.5075)\n",
      "757 tensor(9.9821) tensor(9.5124)\n",
      "758 tensor(9.9821) tensor(9.5124)\n",
      "759 tensor(9.9821) tensor(9.5124)\n",
      "760 tensor(9.9939) tensor(9.5131)\n",
      "761 tensor(10.0022) tensor(9.5132)\n"
     ]
    },
    {
     "name": "stderr",
     "output_type": "stream",
     "text": [
      "\r",
      " 64%|██████▍   | 765/1200 [00:31<00:12, 35.96it/s]"
     ]
    },
    {
     "name": "stdout",
     "output_type": "stream",
     "text": [
      "762 tensor(10.0022) tensor(9.5132)\n",
      "763 tensor(10.0022) tensor(9.5132)\n",
      "764 tensor(10.0022) tensor(9.5132)\n",
      "765 tensor(10.0004) tensor(9.5157)\n",
      "766 tensor(10.0054) tensor(9.5173)\n"
     ]
    },
    {
     "name": "stderr",
     "output_type": "stream",
     "text": [
      " 64%|██████▍   | 773/1200 [00:31<00:16, 26.01it/s]"
     ]
    },
    {
     "name": "stdout",
     "output_type": "stream",
     "text": [
      "767 tensor(10.0054) tensor(9.5173)\n",
      "768 tensor(10.0042) tensor(9.5173)\n",
      "769 tensor(10.0042) tensor(9.5173)\n",
      "770 tensor(10.0118) tensor(9.5223)\n",
      "771 tensor(10.0118) tensor(9.5223)\n",
      "772 tensor(10.0158) tensor(9.5223)\n",
      "773 tensor(10.0158) tensor(9.5223)\n",
      "774 tensor(10.0158) tensor(9.5223)\n"
     ]
    },
    {
     "name": "stderr",
     "output_type": "stream",
     "text": [
      " 65%|██████▌   | 781/1200 [00:31<00:13, 30.43it/s]"
     ]
    },
    {
     "name": "stdout",
     "output_type": "stream",
     "text": [
      "775 tensor(10.0158) tensor(9.5223)\n",
      "776 tensor(10.0203) tensor(9.5223)\n",
      "777 tensor(10.0268) tensor(9.5342)\n",
      "778 tensor(10.0265) tensor(9.5342)\n",
      "779 tensor(10.0265) tensor(9.5342)\n",
      "780 tensor(10.0265) tensor(9.5342)\n",
      "781 tensor(10.0282) tensor(9.5342)\n",
      "782 tensor(10.0282) tensor(9.5342)\n"
     ]
    },
    {
     "name": "stderr",
     "output_type": "stream",
     "text": [
      " 66%|██████▌   | 789/1200 [00:31<00:12, 33.35it/s]"
     ]
    },
    {
     "name": "stdout",
     "output_type": "stream",
     "text": [
      "783 tensor(10.0282) tensor(9.5342)\n",
      "784 tensor(10.0282) tensor(9.5342)\n",
      "785 tensor(10.0282) tensor(9.5342)\n",
      "786 tensor(10.0256) tensor(9.5342)\n",
      "787 tensor(10.0287) tensor(9.5342)\n",
      "788 tensor(10.0287) tensor(9.5342)\n",
      "789 tensor(10.0269) tensor(9.5342)\n",
      "790 tensor(10.0269) tensor(9.5342)\n"
     ]
    },
    {
     "name": "stderr",
     "output_type": "stream",
     "text": [
      "\r",
      " 66%|██████▌   | 793/1200 [00:32<00:14, 28.39it/s]"
     ]
    },
    {
     "name": "stdout",
     "output_type": "stream",
     "text": [
      "791 tensor(10.0290) tensor(9.5400)\n",
      "792 tensor(10.0308) tensor(9.5400)\n",
      "793 tensor(10.0308) tensor(9.5400)\n",
      "794 tensor(10.0304) tensor(9.5400)\n",
      "795 tensor(10.0304) tensor(9.5400)\n",
      "796 tensor(10.0304) tensor(9.5400)\n"
     ]
    },
    {
     "name": "stderr",
     "output_type": "stream",
     "text": [
      " 67%|██████▋   | 802/1200 [00:32<00:12, 32.01it/s]"
     ]
    },
    {
     "name": "stdout",
     "output_type": "stream",
     "text": [
      "797 tensor(10.0327) tensor(9.5400)\n",
      "798 tensor(10.0327) tensor(9.5400)\n",
      "799 tensor(10.0363) tensor(9.5442)\n",
      "800 tensor(10.0363) tensor(9.5442)\n",
      "801 tensor(10.0363) tensor(9.5442)\n",
      "802 tensor(10.0363) tensor(9.5442)\n",
      "803 tensor(10.0363) tensor(9.5442)\n",
      "804 tensor(10.0363) tensor(9.5442)\n"
     ]
    },
    {
     "name": "stderr",
     "output_type": "stream",
     "text": [
      " 68%|██████▊   | 811/1200 [00:32<00:11, 35.18it/s]"
     ]
    },
    {
     "name": "stdout",
     "output_type": "stream",
     "text": [
      "805 tensor(10.0302) tensor(9.5442)\n",
      "806 tensor(10.0302) tensor(9.5442)\n",
      "807 tensor(10.0302) tensor(9.5442)\n",
      "808 tensor(10.0302) tensor(9.5442)\n",
      "809 tensor(10.0302) tensor(9.5442)\n",
      "810 tensor(10.0302) tensor(9.5442)\n",
      "811 tensor(10.0302) tensor(9.5442)\n",
      "812 tensor(10.0374) tensor(9.5582)\n",
      "813 tensor(10.0374) "
     ]
    },
    {
     "name": "stderr",
     "output_type": "stream",
     "text": [
      " 68%|██████▊   | 820/1200 [00:32<00:10, 36.81it/s]"
     ]
    },
    {
     "name": "stdout",
     "output_type": "stream",
     "text": [
      "tensor(9.5582)\n",
      "814 tensor(10.0374) tensor(9.5582)\n",
      "815 tensor(10.0374) tensor(9.5582)\n",
      "816 tensor(10.0374) tensor(9.5582)\n",
      "817 tensor(10.0374) tensor(9.5582)\n",
      "818 tensor(10.0493) tensor(9.5582)\n",
      "819 tensor(10.0493) tensor(9.5582)\n",
      "820 tensor(10.0493) tensor(9.5582)\n"
     ]
    },
    {
     "name": "stderr",
     "output_type": "stream",
     "text": [
      " 69%|██████▉   | 829/1200 [00:33<00:10, 36.95it/s]"
     ]
    },
    {
     "name": "stdout",
     "output_type": "stream",
     "text": [
      "821 tensor(10.0648) tensor(9.5627)\n",
      "822 tensor(10.0648) tensor(9.5627)\n",
      "823 tensor(10.0648) tensor(9.5627)\n",
      "824 tensor(10.0648) tensor(9.5627)\n",
      "825 tensor(10.0648) tensor(9.5627)\n",
      "826 tensor(10.0648) tensor(9.5627)\n",
      "827 tensor(10.0646) tensor(9.5678)\n",
      "828 tensor(10.0644) tensor(9.5678)\n",
      "829 tensor(10.0617) tensor(9.5678)\n"
     ]
    },
    {
     "name": "stderr",
     "output_type": "stream",
     "text": [
      " 70%|██████▉   | 837/1200 [00:33<00:09, 36.39it/s]"
     ]
    },
    {
     "name": "stdout",
     "output_type": "stream",
     "text": [
      "830 tensor(10.0609) tensor(9.5678)\n",
      "831 tensor(10.0609) tensor(9.5678)\n",
      "832 tensor(10.0537) tensor(9.5681)\n",
      "833 tensor(10.0634) tensor(9.5708)\n",
      "834 tensor(10.0634) tensor(9.5708)\n",
      "835 tensor(10.0634) tensor(9.5708)\n",
      "836 tensor(10.0634) tensor(9.5708)\n",
      "837 tensor(10.0734) tensor(9.5746)\n"
     ]
    },
    {
     "name": "stderr",
     "output_type": "stream",
     "text": [
      " 70%|███████   | 846/1200 [00:33<00:09, 37.37it/s]"
     ]
    },
    {
     "name": "stdout",
     "output_type": "stream",
     "text": [
      "838 tensor(10.0734) tensor(9.5746)\n",
      "839 tensor(10.0773) tensor(9.5844)\n",
      "840 tensor(10.0773) tensor(9.5844)\n",
      "841 tensor(10.0763) tensor(9.5844)\n",
      "842 tensor(10.0763) tensor(9.5844)\n",
      "843 tensor(10.0763) tensor(9.5844)\n",
      "844 tensor(10.0782) tensor(9.5844)\n",
      "845 tensor(10.0782) tensor(9.5844)\n",
      "846 tensor(10.0830) tensor(9.5870)\n"
     ]
    },
    {
     "name": "stderr",
     "output_type": "stream",
     "text": [
      " 71%|███████   | 854/1200 [00:33<00:09, 36.89it/s]"
     ]
    },
    {
     "name": "stdout",
     "output_type": "stream",
     "text": [
      "847 tensor(10.0830) tensor(9.5870)\n",
      "848 tensor(10.0830) tensor(9.5870)\n",
      "849 tensor(10.0830) tensor(9.5870)\n",
      "850 tensor(10.0830) tensor(9.5870)\n",
      "851 tensor(10.0873) tensor(9.5915)\n",
      "852 tensor(10.0873) tensor(9.5915)\n",
      "853 tensor(10.0986) tensor(9.5966)\n",
      "854 tensor(10.0986) tensor(9.5966)\n",
      "855"
     ]
    },
    {
     "name": "stderr",
     "output_type": "stream",
     "text": [
      " 72%|███████▏  | 862/1200 [00:34<00:09, 36.98it/s]"
     ]
    },
    {
     "name": "stdout",
     "output_type": "stream",
     "text": [
      " tensor(10.0986) tensor(9.5966)\n",
      "856 tensor(10.0950) tensor(9.6104)\n",
      "857 tensor(10.0950) tensor(9.6104)\n",
      "858 tensor(10.0950) tensor(9.6104)\n",
      "859 tensor(10.0950) tensor(9.6104)\n",
      "860 tensor(10.0908) tensor(9.6104)\n",
      "861 tensor(10.0908) tensor(9.6104)\n",
      "862 tensor(10.0908) tensor(9.6104)\n",
      "863 tensor(10.0976) tensor(9.6151)\n",
      "864 tensor(10.0976) tensor(9.6151)\n"
     ]
    },
    {
     "name": "stderr",
     "output_type": "stream",
     "text": [
      " 72%|███████▎  | 870/1200 [00:34<00:17, 19.12it/s]"
     ]
    },
    {
     "name": "stdout",
     "output_type": "stream",
     "text": [
      "865 tensor(10.1042) tensor(9.6151)\n",
      "866 tensor(10.1049) tensor(9.6375)\n",
      "867 tensor(10.1049) tensor(9.6375)\n",
      "868 tensor(10.1017) tensor(9.6375)\n",
      "869 tensor(10.1017) tensor(9.6375)\n",
      "870 tensor(10.1017) tensor(9.6375)\n",
      "871 tensor(10.1017) tensor(9.6375)\n",
      "872 tensor(10.1017) tensor(9.6375)\n",
      "873 "
     ]
    },
    {
     "name": "stderr",
     "output_type": "stream",
     "text": [
      " 73%|███████▎  | 878/1200 [00:34<00:12, 24.92it/s]"
     ]
    },
    {
     "name": "stdout",
     "output_type": "stream",
     "text": [
      "tensor(10.1016) tensor(9.6375)\n",
      "874 tensor(10.1016) tensor(9.6375)\n",
      "875 tensor(10.1016) tensor(9.6375)\n",
      "876 tensor(10.0965) tensor(9.6375)\n",
      "877 tensor(10.0965) tensor(9.6375)\n",
      "878 tensor(10.0965) tensor(9.6375)\n",
      "879 tensor(10.0965) tensor(9.6375)\n"
     ]
    },
    {
     "name": "stderr",
     "output_type": "stream",
     "text": [
      " 74%|███████▍  | 886/1200 [00:35<00:10, 29.60it/s]"
     ]
    },
    {
     "name": "stdout",
     "output_type": "stream",
     "text": [
      "880 tensor(10.0965) tensor(9.6375)\n",
      "881 tensor(10.0965) tensor(9.6375)\n",
      "882 tensor(10.1081) tensor(9.6375)\n",
      "883 tensor(10.1081) tensor(9.6375)\n",
      "884 tensor(10.1096) tensor(9.6375)\n",
      "885 tensor(10.1096) tensor(9.6375)\n",
      "886 tensor(10.1096) tensor(9.6375)\n",
      "887 tensor(10.1096) tensor(9.6375)\n"
     ]
    },
    {
     "name": "stderr",
     "output_type": "stream",
     "text": [
      " 75%|███████▍  | 895/1200 [00:35<00:08, 33.96it/s]"
     ]
    },
    {
     "name": "stdout",
     "output_type": "stream",
     "text": [
      "888 tensor(10.1096) tensor(9.6375)\n",
      "889 tensor(10.1062) tensor(9.6375)\n",
      "890 tensor(10.1062) tensor(9.6375)\n",
      "891 tensor(10.1062) tensor(9.6375)\n",
      "892 tensor(10.1062) tensor(9.6375)\n",
      "893 tensor(10.1062) tensor(9.6375)\n",
      "894 tensor(10.1062) tensor(9.6375)\n",
      "895 tensor(10.1062) tensor(9.6375)\n",
      "896 "
     ]
    },
    {
     "name": "stderr",
     "output_type": "stream",
     "text": [
      "\r",
      " 75%|███████▍  | 899/1200 [00:35<00:08, 33.78it/s]"
     ]
    },
    {
     "name": "stdout",
     "output_type": "stream",
     "text": [
      "tensor(10.1166) tensor(9.6530)\n",
      "897 tensor(10.1244) tensor(9.6530)\n",
      "898 tensor(10.1244) tensor(9.6530)\n"
     ]
    },
    {
     "name": "stderr",
     "output_type": "stream",
     "text": [
      " 76%|███████▌  | 906/1200 [00:35<00:12, 24.24it/s]"
     ]
    },
    {
     "name": "stdout",
     "output_type": "stream",
     "text": [
      "899 tensor(10.1343) tensor(9.6530)\n",
      "900 tensor(10.1426) tensor(9.6547)\n",
      "901 tensor(10.1426) tensor(9.6547)\n",
      "902 tensor(10.1426) tensor(9.6547)\n",
      "903 tensor(10.1437) tensor(9.6564)\n",
      "904 tensor(10.1437) tensor(9.6564)\n",
      "905 tensor(10.1423) tensor(9.6564)\n",
      "906 tensor(10.1423) tensor(9.6564)\n"
     ]
    },
    {
     "name": "stderr",
     "output_type": "stream",
     "text": [
      "\r",
      " 76%|███████▌  | 909/1200 [00:36<00:16, 17.80it/s]"
     ]
    },
    {
     "name": "stdout",
     "output_type": "stream",
     "text": [
      "907 tensor(10.1446) tensor(9.6564)\n",
      "908 tensor(10.1462) tensor(9.6564)\n",
      "909 tensor(10.1462) tensor(9.6564)\n",
      "910 tensor(10.1462) tensor(9.6564)\n",
      "911 tensor(10.1462) tensor(9.6564)\n"
     ]
    },
    {
     "name": "stderr",
     "output_type": "stream",
     "text": [
      " 76%|███████▋  | 917/1200 [00:36<00:13, 20.29it/s]"
     ]
    },
    {
     "name": "stdout",
     "output_type": "stream",
     "text": [
      "912 tensor(10.1462) tensor(9.6564)\n",
      "913 tensor(10.1462) tensor(9.6564)\n",
      "914 tensor(10.1462) tensor(9.6564)\n",
      "915 tensor(10.1462) tensor(9.6564)\n",
      "916 tensor(10.1462) tensor(9.6564)\n",
      "917 tensor(10.1462) tensor(9.6564)\n",
      "918 tensor(10.1462) tensor(9.6564)\n"
     ]
    },
    {
     "name": "stderr",
     "output_type": "stream",
     "text": [
      " 77%|███████▋  | 924/1200 [00:36<00:12, 21.68it/s]"
     ]
    },
    {
     "name": "stdout",
     "output_type": "stream",
     "text": [
      "919 tensor(10.1433) tensor(9.6695)\n",
      "920 tensor(10.1511) tensor(9.6695)\n",
      "921 tensor(10.1511) tensor(9.6695)\n",
      "922 tensor(10.1511) tensor(9.6695)\n",
      "923 tensor(10.1511) tensor(9.6695)\n",
      "924 tensor(10.1511) tensor(9.6695)\n",
      "925 tensor(10.1509) tensor(9.6692)\n"
     ]
    },
    {
     "name": "stderr",
     "output_type": "stream",
     "text": [
      "\r",
      " 77%|███████▋  | 927/1200 [00:37<00:13, 19.84it/s]"
     ]
    },
    {
     "name": "stdout",
     "output_type": "stream",
     "text": [
      "926 tensor(10.1525) tensor(9.6692)\n"
     ]
    },
    {
     "name": "stderr",
     "output_type": "stream",
     "text": [
      " 78%|███████▊  | 933/1200 [00:37<00:16, 16.18it/s]"
     ]
    },
    {
     "name": "stdout",
     "output_type": "stream",
     "text": [
      "927 tensor(10.1525) tensor(9.6692)\n",
      "928 tensor(10.1525) tensor(9.6692)\n",
      "929 tensor(10.1525) tensor(9.6692)\n",
      "930 tensor(10.1525) tensor(9.6692)\n",
      "931 tensor(10.1566) tensor(9.6692)\n",
      "932 tensor(10.1566) tensor(9.6692)\n"
     ]
    },
    {
     "name": "stderr",
     "output_type": "stream",
     "text": [
      " 78%|███████▊  | 940/1200 [00:37<00:12, 20.68it/s]"
     ]
    },
    {
     "name": "stdout",
     "output_type": "stream",
     "text": [
      "933 tensor(10.1566) tensor(9.6692)\n",
      "934 tensor(10.1538) tensor(9.6692)\n",
      "935 tensor(10.1562) tensor(9.6692)\n",
      "936 tensor(10.1574) tensor(9.6695)\n",
      "937 tensor(10.1574) tensor(9.6695)\n",
      "938 tensor(10.1604) tensor(9.6739)\n",
      "939 tensor(10.1619) tensor(9.6739)\n"
     ]
    },
    {
     "name": "stderr",
     "output_type": "stream",
     "text": [
      "\r",
      " 79%|███████▊  | 943/1200 [00:38<00:13, 19.64it/s]"
     ]
    },
    {
     "name": "stdout",
     "output_type": "stream",
     "text": [
      "940 tensor(10.1619) tensor(9.6739)\n",
      "941 tensor(10.1619) tensor(9.6739)\n",
      "942 tensor(10.1619) tensor(9.6739)\n",
      "943 tensor(10.1619) tensor(9.6739)\n",
      "944 tensor(10.1619)"
     ]
    },
    {
     "name": "stderr",
     "output_type": "stream",
     "text": [
      "\r",
      " 79%|███████▉  | 946/1200 [00:38<00:11, 21.54it/s]"
     ]
    },
    {
     "name": "stdout",
     "output_type": "stream",
     "text": [
      " tensor(9.6739)\n",
      "945 tensor(10.1619) tensor(9.6739)\n",
      "946 tensor(10.1706) tensor(9.6829)\n",
      "947 tensor(10.1706) tensor(9.6829)\n",
      "948 tensor(10.1739) tensor(9.6853)\n",
      "949 tensor(10.1739) "
     ]
    },
    {
     "name": "stderr",
     "output_type": "stream",
     "text": [
      " 79%|███████▉  | 953/1200 [00:38<00:11, 22.33it/s]"
     ]
    },
    {
     "name": "stdout",
     "output_type": "stream",
     "text": [
      "tensor(9.6853)\n",
      "950 tensor(10.1739) tensor(9.6853)\n",
      "951 tensor(10.1811) tensor(9.6903)\n",
      "952 tensor(10.1824) tensor(9.6903)\n",
      "953 tensor(10.1785) tensor(9.6903)\n",
      "954 tensor(10.1785) tensor(9.6903)\n"
     ]
    },
    {
     "name": "stderr",
     "output_type": "stream",
     "text": [
      " 80%|████████  | 960/1200 [00:38<00:10, 23.02it/s]"
     ]
    },
    {
     "name": "stdout",
     "output_type": "stream",
     "text": [
      "955 tensor(10.1813) tensor(9.6903)\n",
      "956 tensor(10.1863) tensor(9.6971)\n",
      "957 tensor(10.1863) tensor(9.6971)\n",
      "958 tensor(10.1863) tensor(9.6971)\n",
      "959 tensor(10.1863) tensor(9.6971)\n"
     ]
    },
    {
     "name": "stderr",
     "output_type": "stream",
     "text": [
      "\r",
      " 80%|████████  | 963/1200 [00:38<00:09, 24.52it/s]"
     ]
    },
    {
     "name": "stdout",
     "output_type": "stream",
     "text": [
      "960 tensor(10.1863) tensor(9.6971)\n",
      "961 tensor(10.1884) tensor(9.6971)\n",
      "962 tensor(10.1884) tensor(9.6971)\n",
      "963 tensor(10.1884) tensor(9.6971)\n"
     ]
    },
    {
     "name": "stderr",
     "output_type": "stream",
     "text": [
      " 81%|████████  | 969/1200 [00:39<00:10, 22.12it/s]"
     ]
    },
    {
     "name": "stdout",
     "output_type": "stream",
     "text": [
      "964 tensor(10.1884) tensor(9.6971)\n",
      "965 tensor(10.1884) tensor(9.6971)\n",
      "966 tensor(10.1884) tensor(9.6971)\n",
      "967 tensor(10.1900) tensor(9.6971)\n",
      "968 tensor(10.1912) tensor(9.6971)\n",
      "969 tensor(10.1970) tensor(9.6971)\n",
      "970 tensor(10.1885) tensor(9.6971)\n"
     ]
    },
    {
     "name": "stderr",
     "output_type": "stream",
     "text": [
      " 81%|████████▏ | 976/1200 [00:39<00:08, 27.67it/s]"
     ]
    },
    {
     "name": "stdout",
     "output_type": "stream",
     "text": [
      "971 tensor(10.1885) tensor(9.6971)\n",
      "972 tensor(10.1885) tensor(9.6971)\n",
      "973 tensor(10.1885) tensor(9.6971)\n",
      "974 tensor(10.1885) tensor(9.6971)\n",
      "975 tensor(10.1885) tensor(9.6971)\n",
      "976 tensor(10.1885) tensor(9.6971)\n",
      "977 tensor(10.1885) tensor(9.6971)\n",
      "978 tensor(10.1885) tensor(9.6971)\n"
     ]
    },
    {
     "name": "stderr",
     "output_type": "stream",
     "text": [
      " 82%|████████▏ | 984/1200 [00:39<00:06, 31.41it/s]"
     ]
    },
    {
     "name": "stdout",
     "output_type": "stream",
     "text": [
      "979 tensor(10.1885) tensor(9.6971)\n",
      "980 tensor(10.1885) tensor(9.6971)\n",
      "981 tensor(10.1960) tensor(9.6992)\n",
      "982 tensor(10.1960) tensor(9.6992)\n",
      "983 tensor(10.2078) tensor(9.6992)\n",
      "984 tensor(10.2078) tensor(9.6992)\n",
      "985 tensor(10.2078) tensor(9.6992)\n"
     ]
    },
    {
     "name": "stderr",
     "output_type": "stream",
     "text": [
      " 83%|████████▎ | 992/1200 [00:39<00:06, 32.78it/s]"
     ]
    },
    {
     "name": "stdout",
     "output_type": "stream",
     "text": [
      "986 tensor(10.2069) tensor(9.6992)\n",
      "987 tensor(10.2069) tensor(9.6992)\n",
      "988 tensor(10.2069) tensor(9.6992)\n",
      "989 tensor(10.2102) tensor(9.7018)\n",
      "990 tensor(10.2102) tensor(9.7018)\n",
      "991 tensor(10.2102) tensor(9.7018)\n",
      "992 tensor(10.2102) tensor(9.7018)\n",
      "993 tensor(10.2102) tensor(9.7018)\n"
     ]
    },
    {
     "name": "stderr",
     "output_type": "stream",
     "text": [
      "\r",
      " 83%|████████▎ | 996/1200 [00:40<00:06, 32.87it/s]"
     ]
    },
    {
     "name": "stdout",
     "output_type": "stream",
     "text": [
      "994 tensor(10.2102) tensor(9.7018)\n",
      "995 tensor(10.2102) tensor(9.7018)\n",
      "996 tensor(10.2102) tensor(9.7018)\n",
      "997 tensor(10.2169) tensor(9.7043)\n",
      "998 tensor(10.2190) tensor(9.7043)\n"
     ]
    },
    {
     "name": "stderr",
     "output_type": "stream",
     "text": [
      " 84%|████████▎ | 1004/1200 [00:40<00:08, 22.51it/s]"
     ]
    },
    {
     "name": "stdout",
     "output_type": "stream",
     "text": [
      "999 tensor(10.2223) tensor(9.7043)\n",
      "1000 tensor(10.2223) tensor(9.7043)\n",
      "1001 tensor(10.2223) tensor(9.7043)\n",
      "1002 tensor(10.2302) tensor(9.7229)\n",
      "1003 tensor(10.2268) tensor(9.7229)\n",
      "1004 tensor(10.2237) tensor(9.7229)\n",
      "1005 tensor(10.2237) tensor(9.7229)\n",
      "1006 tensor(10.2237) tensor(9.7229)\n"
     ]
    },
    {
     "name": "stderr",
     "output_type": "stream",
     "text": [
      " 84%|████████▍ | 1011/1200 [00:40<00:08, 21.84it/s]"
     ]
    },
    {
     "name": "stdout",
     "output_type": "stream",
     "text": [
      "1007 tensor(10.2237) tensor(9.7229)\n",
      "1008 tensor(10.2249) tensor(9.7229)\n",
      "1009 tensor(10.2249) tensor(9.7229)\n",
      "1010 tensor(10.2249) tensor(9.7229)\n"
     ]
    },
    {
     "name": "stderr",
     "output_type": "stream",
     "text": [
      " 85%|████████▍ | 1017/1200 [00:41<00:07, 23.30it/s]"
     ]
    },
    {
     "name": "stdout",
     "output_type": "stream",
     "text": [
      "1011 tensor(10.2289) tensor(9.7229)\n",
      "1012 tensor(10.2289) tensor(9.7229)\n",
      "1013 tensor(10.2289) tensor(9.7229)\n",
      "1014 tensor(10.2289) tensor(9.7229)\n",
      "1015 tensor(10.2304) tensor(9.7229)\n",
      "1016 tensor(10.2304) tensor(9.7229)\n"
     ]
    },
    {
     "name": "stderr",
     "output_type": "stream",
     "text": [
      " 85%|████████▌ | 1024/1200 [00:41<00:06, 27.20it/s]"
     ]
    },
    {
     "name": "stdout",
     "output_type": "stream",
     "text": [
      "1017 tensor(10.2359) tensor(9.7229)\n",
      "1018 tensor(10.2359) tensor(9.7229)\n",
      "1019 tensor(10.2349) tensor(9.7237)\n",
      "1020 tensor(10.2368) tensor(9.7350)\n",
      "1021 tensor(10.2368) tensor(9.7350)\n",
      "1022 tensor(10.2368) tensor(9.7350)\n",
      "1023 tensor(10.2368) tensor(9.7350)\n",
      "1024 tensor(10.2368)"
     ]
    },
    {
     "name": "stderr",
     "output_type": "stream",
     "text": [
      " 86%|████████▌ | 1030/1200 [00:41<00:06, 27.36it/s]"
     ]
    },
    {
     "name": "stdout",
     "output_type": "stream",
     "text": [
      " tensor(9.7350)\n",
      "1025 tensor(10.2368) tensor(9.7350)\n",
      "1026 tensor(10.2368) tensor(9.7350)\n",
      "1027 tensor(10.2368) tensor(9.7350)\n",
      "1028 tensor(10.2368) tensor(9.7350)\n",
      "1029 tensor(10.2368) tensor(9.7350)\n"
     ]
    },
    {
     "name": "stderr",
     "output_type": "stream",
     "text": [
      " 86%|████████▋ | 1037/1200 [00:41<00:05, 27.79it/s]"
     ]
    },
    {
     "name": "stdout",
     "output_type": "stream",
     "text": [
      "1030 tensor(10.2368) tensor(9.7350)\n",
      "1031 tensor(10.2368) tensor(9.7350)\n",
      "1032 tensor(10.2368) tensor(9.7350)\n",
      "1033 tensor(10.2368) tensor(9.7350)\n",
      "1034 tensor(10.2368) tensor(9.7350)\n",
      "1035 tensor(10.2368) tensor(9.7350)\n",
      "1036 tensor(10.2368) tensor(9.7350)\n"
     ]
    },
    {
     "name": "stderr",
     "output_type": "stream",
     "text": [
      " 87%|████████▋ | 1045/1200 [00:42<00:04, 32.08it/s]"
     ]
    },
    {
     "name": "stdout",
     "output_type": "stream",
     "text": [
      "1037 tensor(10.2368) tensor(9.7350)\n",
      "1038 tensor(10.2368) tensor(9.7350)\n",
      "1039 tensor(10.2295) tensor(9.7350)\n",
      "1040 tensor(10.2357) tensor(9.7350)\n",
      "1041 tensor(10.2355) tensor(9.7350)\n",
      "1042 tensor(10.2355) tensor(9.7350)\n",
      "1043 tensor(10.2355) tensor(9.7350)\n",
      "1044 tensor(10.2355) tensor(9.7350)\n"
     ]
    },
    {
     "name": "stderr",
     "output_type": "stream",
     "text": [
      " 88%|████████▊ | 1053/1200 [00:42<00:04, 33.82it/s]"
     ]
    },
    {
     "name": "stdout",
     "output_type": "stream",
     "text": [
      "1045 tensor(10.2355) tensor(9.7350)\n",
      "1046 tensor(10.2355) tensor(9.7350)\n",
      "1047 tensor(10.2355) tensor(9.7350)\n",
      "1048 tensor(10.2355) tensor(9.7350)\n",
      "1049 tensor(10.2370) tensor(9.7350)\n",
      "1050 tensor(10.2370) tensor(9.7350)\n",
      "1051 tensor(10.2370) tensor(9.7350)\n",
      "1052 tensor(10.2402) tensor(9.7383)\n"
     ]
    },
    {
     "name": "stderr",
     "output_type": "stream",
     "text": [
      " 88%|████████▊ | 1061/1200 [00:42<00:04, 34.17it/s]"
     ]
    },
    {
     "name": "stdout",
     "output_type": "stream",
     "text": [
      "1053 tensor(10.2402) tensor(9.7383)\n",
      "1054 tensor(10.2328) tensor(9.7383)\n",
      "1055 tensor(10.2328) tensor(9.7383)\n",
      "1056 tensor(10.2328) tensor(9.7383)\n",
      "1057 tensor(10.2328) tensor(9.7383)\n",
      "1058 tensor(10.2328) tensor(9.7383)\n",
      "1059 tensor(10.2328) tensor(9.7383)\n",
      "1060 tensor(10.2328) tensor(9.7383)\n"
     ]
    },
    {
     "name": "stderr",
     "output_type": "stream",
     "text": [
      " 89%|████████▉ | 1069/1200 [00:42<00:03, 34.48it/s]"
     ]
    },
    {
     "name": "stdout",
     "output_type": "stream",
     "text": [
      "1061 tensor(10.2333) tensor(9.7383)\n",
      "1062 tensor(10.2438) tensor(9.7453)\n",
      "1063 tensor(10.2463) tensor(9.7453)\n",
      "1064 tensor(10.2463) tensor(9.7453)\n",
      "1065 tensor(10.2493) tensor(9.7453)\n",
      "1066 tensor(10.2493) tensor(9.7453)\n",
      "1067 tensor(10.2529) tensor(9.7549)\n",
      "1068 tensor(10.2529) tensor(9.7549)\n"
     ]
    },
    {
     "name": "stderr",
     "output_type": "stream",
     "text": [
      " 90%|████████▉ | 1077/1200 [00:42<00:03, 35.48it/s]"
     ]
    },
    {
     "name": "stdout",
     "output_type": "stream",
     "text": [
      "1069 tensor(10.2529) tensor(9.7549)\n",
      "1070 tensor(10.2529) tensor(9.7549)\n",
      "1071 tensor(10.2529) tensor(9.7549)\n",
      "1072 tensor(10.2529) tensor(9.7549)\n",
      "1073 tensor(10.2510) tensor(9.7549)\n",
      "1074 tensor(10.2510) tensor(9.7549)\n",
      "1075 tensor(10.2510) tensor(9.7549)\n",
      "1076 tensor(10.2522) tensor(9.7549)\n"
     ]
    },
    {
     "name": "stderr",
     "output_type": "stream",
     "text": [
      "\r",
      " 90%|█████████ | 1081/1200 [00:43<00:03, 35.13it/s]"
     ]
    },
    {
     "name": "stdout",
     "output_type": "stream",
     "text": [
      "1077 tensor(10.2522) tensor(9.7549)\n",
      "1078 tensor(10.2522) tensor(9.7549)\n",
      "1079 tensor(10.2579) tensor(9.7634)\n",
      "1080 tensor(10.2579) tensor(9.7634)\n",
      "1081 tensor(10.2579) tensor(9.7634)\n",
      "1082 tensor(10.2579) tensor(9.7634)\n",
      "1083 tensor(10.2579) tensor(9.7634)\n",
      "1084 tensor(10.2536) tensor(9.7634)\n"
     ]
    },
    {
     "name": "stderr",
     "output_type": "stream",
     "text": [
      "\r",
      " 90%|█████████ | 1086/1200 [00:43<00:03, 28.91it/s]"
     ]
    },
    {
     "name": "stdout",
     "output_type": "stream",
     "text": [
      "1085 tensor(10.2514) tensor(9.7634)\n",
      "1086 tensor(10.2476) tensor(9.7642)\n",
      "1087 tensor(10.2476) tensor(9.7642)\n",
      "1088 tensor(10.2476) tensor(9.7642)\n"
     ]
    },
    {
     "name": "stderr",
     "output_type": "stream",
     "text": [
      " 91%|█████████ | 1094/1200 [00:43<00:03, 27.24it/s]"
     ]
    },
    {
     "name": "stdout",
     "output_type": "stream",
     "text": [
      "1089 tensor(10.2464) tensor(9.7642)\n",
      "1090 tensor(10.2483) tensor(9.7770)\n",
      "1091 tensor(10.2483) tensor(9.7770)\n",
      "1092 tensor(10.2483) tensor(9.7770)\n",
      "1093 tensor(10.2483) tensor(9.7770)\n",
      "1094 tensor(10.2483) tensor(9.7770)\n",
      "1095 tensor(10.2483) tensor(9.7770)\n",
      "1096 tensor(10.2435) tensor(9.7770)\n",
      "1097 "
     ]
    },
    {
     "name": "stderr",
     "output_type": "stream",
     "text": [
      " 92%|█████████▏| 1102/1200 [00:43<00:03, 30.81it/s]"
     ]
    },
    {
     "name": "stdout",
     "output_type": "stream",
     "text": [
      "tensor(10.2435) tensor(9.7770)\n",
      "1098 tensor(10.2435) tensor(9.7770)\n",
      "1099 tensor(10.2395) tensor(9.7770)\n",
      "1100 tensor(10.2395) tensor(9.7770)\n",
      "1101 tensor(10.2395) tensor(9.7770)\n",
      "1102 tensor(10.2374) tensor(9.7770)\n",
      "1103 tensor(10.2374) tensor(9.7770)\n",
      "1104 "
     ]
    },
    {
     "name": "stderr",
     "output_type": "stream",
     "text": [
      "\r",
      " 92%|█████████▏| 1106/1200 [00:43<00:03, 28.04it/s]"
     ]
    },
    {
     "name": "stdout",
     "output_type": "stream",
     "text": [
      "tensor(10.2405) tensor(9.7770)\n",
      "1105 tensor(10.2405) tensor(9.7770)\n",
      "1106 tensor(10.2405) tensor(9.7770)\n",
      "1107 tensor(10.2405) tensor(9.7770)\n"
     ]
    },
    {
     "name": "stderr",
     "output_type": "stream",
     "text": [
      " 93%|█████████▎| 1114/1200 [00:44<00:02, 29.04it/s]"
     ]
    },
    {
     "name": "stdout",
     "output_type": "stream",
     "text": [
      "1108 tensor(10.2405) tensor(9.7770)\n",
      "1109 tensor(10.2405) tensor(9.7770)\n",
      "1110 tensor(10.2405) tensor(9.7770)\n",
      "1111 tensor(10.2415) tensor(9.7770)\n",
      "1112 tensor(10.2415) tensor(9.7770)\n",
      "1113 tensor(10.2415) tensor(9.7770)\n",
      "1114 tensor(10.2429) tensor(9.7770)\n",
      "1115 tensor(10.2429) tensor(9.7770)\n"
     ]
    },
    {
     "name": "stderr",
     "output_type": "stream",
     "text": [
      " 94%|█████████▎| 1122/1200 [00:44<00:02, 32.01it/s]"
     ]
    },
    {
     "name": "stdout",
     "output_type": "stream",
     "text": [
      "1116 tensor(10.2429) tensor(9.7770)\n",
      "1117 tensor(10.2429) tensor(9.7770)\n",
      "1118 tensor(10.2461) tensor(9.7770)\n",
      "1119 tensor(10.2461) tensor(9.7770)\n",
      "1120 tensor(10.2461) tensor(9.7770)\n",
      "1121 tensor(10.2458) tensor(9.7780)\n",
      "1122 tensor(10.2455) tensor(9.7780)\n",
      "1123 tensor(10.2465) tensor(9.7885)\n"
     ]
    },
    {
     "name": "stderr",
     "output_type": "stream",
     "text": [
      " 94%|█████████▍| 1130/1200 [00:44<00:02, 34.08it/s]"
     ]
    },
    {
     "name": "stdout",
     "output_type": "stream",
     "text": [
      "1124 tensor(10.2465) tensor(9.7885)\n",
      "1125 tensor(10.2477) tensor(9.7917)\n",
      "1126 tensor(10.2477) tensor(9.7917)\n",
      "1127 tensor(10.2475) tensor(9.7917)\n",
      "1128 tensor(10.2475) tensor(9.7917)\n",
      "1129 tensor(10.2475) tensor(9.7917)\n",
      "1130 tensor(10.2475) tensor(9.7917)\n",
      "1131 tensor(10.2475) tensor(9.7917)\n"
     ]
    },
    {
     "name": "stderr",
     "output_type": "stream",
     "text": [
      " 95%|█████████▍| 1139/1200 [00:44<00:01, 35.65it/s]"
     ]
    },
    {
     "name": "stdout",
     "output_type": "stream",
     "text": [
      "1132 tensor(10.2475) tensor(9.7917)\n",
      "1133 tensor(10.2475) tensor(9.7917)\n",
      "1134 tensor(10.2475) tensor(9.7917)\n",
      "1135 tensor(10.2513) tensor(9.7933)\n",
      "1136 tensor(10.2501) tensor(9.7970)\n",
      "1137 tensor(10.2501) tensor(9.7970)\n",
      "1138 tensor(10.2473) tensor(9.7970)\n",
      "1139 tensor(10.2473) tensor(9.7970)\n",
      "1140 tensor(10.2436) tensor(9.7970)\n"
     ]
    },
    {
     "name": "stderr",
     "output_type": "stream",
     "text": [
      " 96%|█████████▌| 1148/1200 [00:45<00:01, 36.08it/s]"
     ]
    },
    {
     "name": "stdout",
     "output_type": "stream",
     "text": [
      "1141 tensor(10.2436) tensor(9.7970)\n",
      "1142 tensor(10.2448) tensor(9.8007)\n",
      "1143 tensor(10.2448) tensor(9.8007)\n",
      "1144 tensor(10.2448) tensor(9.8007)\n",
      "1145 tensor(10.2436) tensor(9.8007)\n",
      "1146 tensor(10.2436) tensor(9.8007)\n",
      "1147 tensor(10.2436) tensor(9.8007)\n",
      "1148 tensor(10.2477) tensor(9.8023)\n"
     ]
    },
    {
     "name": "stderr",
     "output_type": "stream",
     "text": [
      " 96%|█████████▋| 1156/1200 [00:45<00:01, 35.03it/s]"
     ]
    },
    {
     "name": "stdout",
     "output_type": "stream",
     "text": [
      "1149 tensor(10.2477) tensor(9.8023)\n",
      "1150 tensor(10.2477) tensor(9.8023)\n",
      "1151 tensor(10.2477) tensor(9.8023)\n",
      "1152 tensor(10.2477) tensor(9.8023)\n",
      "1153 tensor(10.2477) tensor(9.8023)\n",
      "1154 tensor(10.2477) tensor(9.8023)\n",
      "1155 tensor(10.2477) tensor(9.8095)\n"
     ]
    },
    {
     "name": "stderr",
     "output_type": "stream",
     "text": [
      "\r",
      " 97%|█████████▋| 1160/1200 [00:45<00:01, 34.04it/s]"
     ]
    },
    {
     "name": "stdout",
     "output_type": "stream",
     "text": [
      "1156 tensor(10.2477) tensor(9.8095)\n",
      "1157 tensor(10.2470) tensor(9.8095)\n",
      "1158 tensor(10.2468) tensor(9.8095)\n",
      "1159 tensor(10.2468) tensor(9.8095)\n",
      "1160 tensor(10.2468) tensor(9.8095)\n",
      "1161 tensor(10.2452) tensor(9.8125)\n",
      "1162 tensor(10.2452) tensor(9.8125)\n",
      "1163 tensor(10.2452) tensor(9.8125)\n"
     ]
    },
    {
     "name": "stderr",
     "output_type": "stream",
     "text": [
      " 97%|█████████▋| 1169/1200 [00:45<00:00, 35.08it/s]"
     ]
    },
    {
     "name": "stdout",
     "output_type": "stream",
     "text": [
      "1164 tensor(10.2435) tensor(9.8125)\n",
      "1165 tensor(10.2435) tensor(9.8125)\n",
      "1166 tensor(10.2435) tensor(9.8125)\n",
      "1167 tensor(10.2592) tensor(9.8131)\n",
      "1168 tensor(10.2592) tensor(9.8131)\n",
      "1169 tensor(10.2606) tensor(9.8347)\n",
      "1170 tensor(10.2606) tensor(9.8347)\n",
      "1171 tensor(10.2606) tensor(9.8347)\n"
     ]
    },
    {
     "name": "stderr",
     "output_type": "stream",
     "text": [
      " 98%|█████████▊| 1177/1200 [00:46<00:00, 35.42it/s]"
     ]
    },
    {
     "name": "stdout",
     "output_type": "stream",
     "text": [
      "1172 tensor(10.2641) tensor(9.8347)\n",
      "1173 tensor(10.2641) tensor(9.8347)\n",
      "1174 tensor(10.2641) tensor(9.8347)\n",
      "1175 tensor(10.2641) tensor(9.8347)\n",
      "1176 tensor(10.2641) tensor(9.8347)\n",
      "1177 tensor(10.2655) tensor(9.8347)\n",
      "1178 tensor(10.2608) tensor(9.8347)\n",
      "1179 tensor(10.2681) tensor(9.8347)\n"
     ]
    },
    {
     "name": "stderr",
     "output_type": "stream",
     "text": [
      "\r",
      " 98%|█████████▊| 1181/1200 [00:46<00:00, 22.91it/s]"
     ]
    },
    {
     "name": "stdout",
     "output_type": "stream",
     "text": [
      "1180 tensor(10.2681) tensor(9.8347)\n",
      "1181 tensor(10.2681) tensor(9.8347)\n",
      "1182 tensor(10.2681) tensor(9.8347)\n"
     ]
    },
    {
     "name": "stderr",
     "output_type": "stream",
     "text": [
      " 99%|█████████▉| 1188/1200 [00:46<00:00, 22.46it/s]"
     ]
    },
    {
     "name": "stdout",
     "output_type": "stream",
     "text": [
      "1183 tensor(10.2681) tensor(9.8347)\n",
      "1184 tensor(10.2681) tensor(9.8347)\n",
      "1185 tensor(10.2681) tensor(9.8347)\n",
      "1186 tensor(10.2725) tensor(9.8356)\n",
      "1187 tensor(10.2725) tensor(9.8356)\n",
      "1188 tensor(10.2725) tensor(9.8356)\n"
     ]
    },
    {
     "name": "stderr",
     "output_type": "stream",
     "text": [
      "100%|█████████▉| 1195/1200 [00:47<00:00, 22.65it/s]"
     ]
    },
    {
     "name": "stdout",
     "output_type": "stream",
     "text": [
      "1189 tensor(10.2725) tensor(9.8356)\n",
      "1190 tensor(10.2725) tensor(9.8356)\n",
      "1191 tensor(10.2665) tensor(9.8356)\n",
      "1192 tensor(10.2665) tensor(9.8356)\n",
      "1193 tensor(10.2665) tensor(9.8356)\n",
      "1194 tensor(10.2670) tensor(9.8356)\n"
     ]
    },
    {
     "name": "stderr",
     "output_type": "stream",
     "text": [
      "\r",
      "100%|█████████▉| 1198/1200 [00:47<00:00, 18.66it/s]"
     ]
    },
    {
     "name": "stdout",
     "output_type": "stream",
     "text": [
      "1195 tensor(10.2670) tensor(9.8356)\n",
      "1196 tensor(10.2679) tensor(9.8373)\n",
      "1197 tensor(10.2679) tensor(9.8373)\n"
     ]
    },
    {
     "name": "stderr",
     "output_type": "stream",
     "text": [
      "\r",
      "100%|██████████| 1200/1200 [00:47<00:00, 25.29it/s]"
     ]
    },
    {
     "name": "stdout",
     "output_type": "stream",
     "text": [
      "1198 tensor(10.2644) tensor(9.8404)\n",
      "1199 tensor(10.2661) tensor(9.8412)\n"
     ]
    },
    {
     "name": "stderr",
     "output_type": "stream",
     "text": [
      "\n"
     ]
    }
   ],
   "source": [
    "## sample N points\n",
    "N = 220\n",
    "new_center = torch.empty(N, 784)\n",
    "min_dists = torch.empty(N)\n",
    "count = 0\n",
    "for i, (xx, _) in enumerate(tqdm(train_loader)):\n",
    "    if count < N:\n",
    "        if N-count < batch_size:\n",
    "            #### final fillup\n",
    "            new_center[count:count+N-count] = xx[:N-count]\n",
    "            xx = xx[N-count:]\n",
    "            dists = torch.cdist(new_center, new_center)+torch.eye(N)*1e5\n",
    "            min_dists = dists.min(dim=0)[0]\n",
    "            count = N\n",
    "            \n",
    "            ## sort the centers according to min_dist\n",
    "#             indx = min_dists.argsort()\n",
    "#             min_dists = min_dists[indx]\n",
    "#             new_center = new_center[indx]\n",
    "\n",
    "        else:#### fill the center\n",
    "            new_center[count:count+len(xx)] = xx\n",
    "            count += len(xx)\n",
    "            continue\n",
    "            \n",
    "#     print(min_dists)\n",
    "    \n",
    "    ammd = min_dists.argmin()\n",
    "    for j, x in enumerate(xx):\n",
    "        dists = torch.norm(new_center-x, dim=1)\n",
    "        md = dists.min()\n",
    "#         md = dists.mean()\n",
    "#         md = dists.topk(N//4, largest=False)[0].mean()\n",
    "        if md > min_dists[ammd]:\n",
    "            min_dists[ammd] = md\n",
    "            new_center[ammd] = x\n",
    "            ammd = min_dists.argmin()\n",
    "#             print(min_dists)\n",
    "#         if dists.min() > min_dists.min():\n",
    "\n",
    "#         break\n",
    "            \n",
    "#     dists = torch.cdist(xx, new_center)\n",
    "#     mdist = dists.min(dim=1)[0]\n",
    "#     for i, md in enumerate(mdist):\n",
    "#         print(i, md)\n",
    "#         if md > min_dists[0]:\n",
    "            \n",
    "#         break\n",
    "#     print(i, min_dists.mean(), min_dists.min())\n",
    "    dists = torch.cdist(new_center, new_center)+torch.eye(N)*1e5\n",
    "    dists = dists.min(dim=0)[0]\n",
    "    print(i, dists.mean(), dists.min())\n",
    "    \n",
    "#     break"
   ]
  },
  {
   "cell_type": "code",
   "execution_count": 630,
   "metadata": {},
   "outputs": [
    {
     "data": {
      "text/plain": [
       "tensor([11.9003, 10.0495,  9.9414, 10.9587,  9.8511, 10.2652, 10.6681,  9.8583,\n",
       "        10.6462,  9.8951, 10.7554, 10.0685, 10.7041, 10.0209,  9.8221, 10.0878,\n",
       "        10.0632, 10.4457, 10.1832, 10.2270, 10.3102, 10.0381, 10.3218, 10.1055,\n",
       "        10.7406,  9.9760, 10.1280, 10.0424, 10.4834, 10.0122, 10.0027, 10.3080,\n",
       "        10.3610, 10.9916, 11.3051, 10.3672, 10.0495,  9.9414, 10.9566, 10.0122,\n",
       "        10.0458, 10.0498, 10.4727, 10.1033, 10.3394,  9.9719, 10.3310, 10.3111,\n",
       "        10.3998, 10.0419, 10.7721, 10.1215, 11.5104, 10.2927, 10.4376, 10.0868,\n",
       "         9.9553, 10.1106, 10.2577, 10.1658, 10.0498, 11.0212, 10.3377, 10.0395,\n",
       "        10.0199, 10.1161,  9.8989, 10.2544, 10.3617,  9.9833, 11.5394,  9.9873,\n",
       "        10.5984, 10.0703, 10.0395, 10.1014,  9.9755, 10.3120, 10.9868,  9.9083,\n",
       "        10.2737, 10.0832, 10.0868, 10.6801, 10.7687, 10.3672, 10.7109, 10.5665,\n",
       "        10.3910,  9.9758, 10.7207, 10.2405, 10.4533, 10.0134, 10.1658, 10.2289,\n",
       "        10.1458, 10.0064,  9.8658,  9.9755, 10.4463,  9.9157, 10.0735, 10.0064,\n",
       "        10.6603,  9.9922, 10.6183, 10.1401, 10.5964, 10.1103,  9.9126, 10.3915,\n",
       "        10.0735, 10.6136, 10.0074,  9.9234, 10.4351,  9.8125, 10.3393, 10.2480,\n",
       "        10.0418, 10.0179, 10.4308, 10.0581, 10.1107, 10.1033, 10.2069,  9.8139,\n",
       "        10.2577, 10.1068, 11.4285, 10.3552,  9.9719, 10.1187,  9.9083, 10.2304,\n",
       "         9.9531, 10.3813, 11.1067,  9.9669, 10.2544, 10.0397,  9.9553, 10.7523,\n",
       "        10.6681, 11.0529, 10.5722,  9.8485,  9.9758, 11.2011, 10.1215, 10.2745,\n",
       "        10.7523,  9.9323, 10.0504, 10.3432, 10.6428, 10.6780, 10.4554, 10.3085,\n",
       "         9.8485, 10.4014,  9.8221, 10.7690,  9.8807, 10.0381,  9.8558,  9.9808,\n",
       "        10.0194, 10.0418, 10.1630, 10.0273,  9.8125, 10.3218, 10.1814, 10.3206,\n",
       "         9.8139,  9.8138, 12.1755, 11.5683, 10.1276, 10.0023, 10.9387,  9.9840,\n",
       "        10.0295, 11.1258,  9.9840,  9.9273,  9.9669, 10.0442,  9.9760,  9.9365,\n",
       "        10.3152, 10.3552, 10.0419, 10.3540, 10.1314, 10.1736, 10.0209, 10.3400,\n",
       "        11.3090,  9.9273, 10.0685,  9.9126, 10.2084,  9.8231, 10.1276, 10.2513,\n",
       "        11.0053,  9.8658,  9.8583, 10.5915, 10.1178,  9.9661, 10.1275, 11.1193,\n",
       "         9.8951, 10.5655,  9.9053,  9.8138])"
      ]
     },
     "execution_count": 630,
     "metadata": {},
     "output_type": "execute_result"
    }
   ],
   "source": [
    "dists = torch.cdist(new_center, new_center)+torch.eye(N)*1e5\n",
    "dists.min(dim=0)[0]"
   ]
  },
  {
   "cell_type": "code",
   "execution_count": 601,
   "metadata": {},
   "outputs": [
    {
     "data": {
      "text/plain": [
       "tensor([21.9921, 21.7883, 22.0075, 21.8052, 21.9743, 21.8013, 21.9720, 21.8740,\n",
       "        21.8969, 21.8040, 22.0057, 21.8062, 22.0626, 21.9186, 21.8491, 21.8861,\n",
       "        22.3220, 21.8165, 21.8491, 21.8735, 21.8313, 22.3726, 21.7992, 21.7914,\n",
       "        21.8257, 21.8711, 21.9774, 21.7954, 21.8366, 21.8927, 21.9861, 22.0646,\n",
       "        21.8314, 21.9209, 21.9330, 22.1647, 21.7910, 21.8473, 21.8563, 21.9671,\n",
       "        21.8717, 21.8062, 21.8003, 21.8524, 21.8027, 21.9661, 22.1104, 21.8779,\n",
       "        21.9212, 21.8005, 21.9975, 22.2101, 21.8304, 21.8106, 21.8328, 21.8202,\n",
       "        21.9466, 21.9311, 21.7897, 21.8358, 22.0886, 22.0481, 21.9955, 21.7951,\n",
       "        21.9476, 21.7986, 21.8512, 21.8192, 21.9512, 21.9049, 22.4561, 21.8451,\n",
       "        21.8569, 21.8359, 21.8577, 21.9001, 21.8234, 22.0090, 22.0711, 21.8685,\n",
       "        21.9783, 21.8754, 21.8019, 21.8216, 21.7901, 21.8864, 21.9441, 21.9344,\n",
       "        21.9084, 21.8858, 21.8081, 22.0326, 21.8209, 21.8926, 22.3814, 22.3253,\n",
       "        21.7993, 22.0956, 21.8764, 21.8147, 21.8247, 21.8212, 21.9049, 21.8414,\n",
       "        21.9703, 21.9029, 21.8441, 22.3431, 21.9184, 21.8362, 21.9142, 21.8033,\n",
       "        21.9427, 21.8246, 21.8028, 21.8780, 21.8674, 21.9112, 21.8440, 21.8877,\n",
       "        21.9793, 22.0239, 21.9121, 21.9741, 21.8841, 21.8755, 21.9144, 21.8379,\n",
       "        21.9609, 22.1216, 21.9889, 21.9169, 22.1206, 22.1129, 22.1909, 21.9390,\n",
       "        21.9583, 21.9025, 21.8514, 21.8020, 21.9956, 22.1468, 21.9807, 22.1966,\n",
       "        21.7975, 21.8352, 21.8657, 21.9152, 21.8752, 21.9955, 21.9464, 21.9386,\n",
       "        21.9940, 22.1867, 21.9266, 21.9349, 21.8342, 21.8279, 21.7940, 21.9381,\n",
       "        21.8599, 22.0333, 22.1706, 22.0478, 22.0973, 21.9542, 22.0957, 21.9640,\n",
       "        21.8823, 21.8648, 21.8436, 21.9162, 21.9143, 22.1097, 21.8112, 21.8011,\n",
       "        21.9927, 21.7928, 21.7894, 21.8526, 21.8949, 22.0827, 21.8922, 21.8189,\n",
       "        22.1253, 21.9654, 21.9493, 21.9737, 22.4358, 21.9375, 21.8235, 21.7981,\n",
       "        21.8566, 21.9566, 22.0335, 21.8625, 21.8347, 21.7987, 22.0415, 21.8030,\n",
       "        21.7975, 21.7975, 22.0423, 21.8119, 22.0380, 21.9706, 21.8768, 21.8678,\n",
       "        21.9474, 21.9846, 21.9215, 21.9140, 21.9193, 22.1177, 21.8027, 21.9095,\n",
       "        21.8237, 21.8625, 21.9819, 22.1508])"
      ]
     },
     "execution_count": 601,
     "metadata": {},
     "output_type": "execute_result"
    }
   ],
   "source": [
    "min_dists"
   ]
  },
  {
   "cell_type": "code",
   "execution_count": 602,
   "metadata": {},
   "outputs": [],
   "source": [
    "i=-1"
   ]
  },
  {
   "cell_type": "code",
   "execution_count": 626,
   "metadata": {},
   "outputs": [
    {
     "name": "stdout",
     "output_type": "stream",
     "text": [
      "23\n"
     ]
    },
    {
     "data": {
      "image/png": "[encoded data removed]",
      "text/plain": [
       "<Figure size 432x288 with 1 Axes>"
      ]
     },
     "metadata": {
      "needs_background": "light"
     },
     "output_type": "display_data"
    }
   ],
   "source": [
    "i += 1\n",
    "print(i)\n",
    "plt.imshow(new_center[i].reshape(28,28), cmap='gray')\n",
    "plt.show()"
   ]
  },
  {
   "cell_type": "code",
   "execution_count": 244,
   "metadata": {},
   "outputs": [
    {
     "data": {
      "text/plain": [
       "tensor(0)"
      ]
     },
     "execution_count": 244,
     "metadata": {},
     "output_type": "execute_result"
    }
   ],
   "source": [
    "### check if two centroids are the same (data point)\n",
    "torch.count_nonzero(torch.cdist(dt.centers.data, dt.centers.data) == 0) - 20"
   ]
  },
  {
   "cell_type": "code",
   "execution_count": null,
   "metadata": {},
   "outputs": [],
   "source": [
    "#######################33"
   ]
  },
  {
   "cell_type": "code",
   "execution_count": 697,
   "metadata": {},
   "outputs": [
    {
     "data": {
      "text/plain": [
       "Sequential(\n",
       "  (0): DistanceTransform()\n",
       "  (1): Linear(in_features=785, out_features=200, bias=True)\n",
       "  (2): BatchNorm1d(200, eps=1e-05, momentum=0.1, affine=True, track_running_stats=True)\n",
       "  (3): LeakyReLU(negative_slope=0.01)\n",
       "  (4): Linear(in_features=200, out_features=50, bias=True)\n",
       "  (5): BatchNorm1d(50, eps=1e-05, momentum=0.1, affine=True, track_running_stats=True)\n",
       "  (6): LeakyReLU(negative_slope=0.01)\n",
       "  (7): Linear(in_features=50, out_features=10, bias=True)\n",
       ")"
      ]
     },
     "execution_count": 697,
     "metadata": {},
     "output_type": "execute_result"
    }
   ],
   "source": [
    "model = nn.Sequential(\n",
    "                DistanceTransform(784, 785),\n",
    "#                 nn.LayerNorm(785),\n",
    "                nn.Linear(785, 200),\n",
    "                nn.BatchNorm1d(200),\n",
    "                nn.LeakyReLU(),\n",
    "                nn.Linear(200, 50),\n",
    "                nn.BatchNorm1d(50),\n",
    "                nn.LeakyReLU(),\n",
    "                nn.Linear(50, 10))\n",
    "model.to(device)"
   ]
  },
  {
   "cell_type": "code",
   "execution_count": 698,
   "metadata": {},
   "outputs": [
    {
     "name": "stderr",
     "output_type": "stream",
     "text": [
      "100%|██████████| 1200/1200 [01:31<00:00, 13.06it/s]\n"
     ]
    }
   ],
   "source": [
    "# model[0].centers.requires_grad=False\n",
    "# model[0].set_centroid_to_data_randomly(train_loader) ## this worked best for preserving locality\n",
    "model[0].set_centroid_to_data_maxdist(train_loader)"
   ]
  },
  {
   "cell_type": "code",
   "execution_count": 699,
   "metadata": {},
   "outputs": [
    {
     "data": {
      "text/plain": [
       "tensor([ 8.8612,  8.5540,  8.4128,  9.4768,  9.5310,  8.9553,  8.3608,  9.2763,\n",
       "         8.9870,  8.6764,  8.8316,  8.8937,  8.6198,  8.4706,  9.0861,  8.9229,\n",
       "         8.4630,  8.4926,  8.9940,  8.7014,  8.4011,  9.8184,  8.5877,  8.6205,\n",
       "         8.6561,  8.5815,  8.9213,  9.1166,  8.8288,  8.3679,  8.9834,  9.0604,\n",
       "         8.8601,  9.1250,  8.6364,  9.3513,  9.4518,  9.0821,  9.5021,  9.5351,\n",
       "         8.8865,  8.5513,  8.4511,  9.8828,  8.9452,  8.4804,  9.0626,  8.4301,\n",
       "         8.7621,  8.4590,  8.5756, 10.2608,  9.3030,  8.4000,  8.3575,  9.2908,\n",
       "        10.5155,  8.7909,  9.3329,  8.8889,  8.5403,  8.9416,  8.3568, 10.1273,\n",
       "         8.5974,  8.5613,  9.5437,  9.0511,  8.4645,  8.4487,  8.5891,  9.3362,\n",
       "         8.3846,  8.9739,  8.5601,  8.5198,  8.4852,  9.1017,  8.5626,  9.3372,\n",
       "         8.5448,  9.1214,  8.8195,  8.5430, 10.5689,  8.8341,  9.7418,  9.0179,\n",
       "         8.3575,  9.4985,  8.3740,  8.6607, 10.6289,  8.5253,  8.4989,  8.4071,\n",
       "         8.4014,  8.7339,  8.7561,  8.5040,  8.7700,  8.3917,  8.3738,  8.3612,\n",
       "         8.7014,  8.8502,  8.9471,  8.4250,  8.7775,  8.4194,  8.8272,  8.7157,\n",
       "         9.1698,  9.2302,  9.0033,  9.0337,  8.9177,  8.9330,  8.8908,  9.1038,\n",
       "         8.3884,  8.4836,  8.8468,  8.9645,  8.3787,  8.6245,  8.5694,  9.7187,\n",
       "         9.0725,  8.3837,  8.3570,  8.4907,  8.5802,  9.4687,  9.1597,  8.5171,\n",
       "         8.9746,  9.9496,  8.8123,  8.4700,  9.7330,  8.4502,  9.1712,  8.8313,\n",
       "         9.0935,  8.8195,  8.5703,  8.7273,  8.3951,  8.5848,  8.7097,  8.6472,\n",
       "         8.3816,  8.6897,  8.4549,  9.0942,  8.5847,  9.1203,  9.2066,  8.4509,\n",
       "         9.9409,  8.3577,  8.7594,  8.8729,  9.5062,  8.4051,  8.5088,  8.4030,\n",
       "         8.7207,  8.6607,  9.2170,  9.3158,  8.7525,  8.7422,  8.5540,  9.6022,\n",
       "         8.3504,  8.8888,  8.5092,  8.8829,  8.4128,  8.3559,  8.9122,  8.5974,\n",
       "         8.4502,  8.4597,  8.4000,  9.3711,  8.5601,  8.7317,  9.3206,  9.3128,\n",
       "         9.8208,  8.4852, 10.0070,  9.2227,  9.1394,  8.4897,  8.4507,  9.2607,\n",
       "         8.4271,  8.6293,  9.9253,  8.7316,  9.0446,  9.2442,  8.9900,  8.6633,\n",
       "         8.4597,  9.2074,  8.4047,  8.4030,  8.9383,  9.4398,  8.6159,  8.4386,\n",
       "         9.9665,  8.4660,  8.6746,  9.0391, 10.5130,  8.8605,  8.7173,  9.7483,\n",
       "         8.6364,  8.3612,  8.5270,  8.5394,  8.4660,  8.8592,  9.7968,  9.0929,\n",
       "         9.1932,  8.5012,  8.5756,  8.7330,  8.6361,  8.6990,  9.7194, 10.1323,\n",
       "         8.4051,  9.0350,  8.8527,  8.5315,  8.8314,  8.5163,  8.8677,  8.8649,\n",
       "         8.9136,  8.4938,  8.5684,  9.3422,  9.4690,  8.5394,  8.6071,  8.7655,\n",
       "         8.4765,  8.4855,  8.8111,  8.6361,  8.4487,  8.7374,  8.5948,  8.3526,\n",
       "         8.6071,  8.5830,  8.6820,  8.6762,  8.8143, 10.2389,  8.8143,  8.4392,\n",
       "         9.0714,  8.8889,  8.4926,  8.6467,  8.6833,  9.1482,  9.0247,  9.1739,\n",
       "         8.5626,  8.7809,  8.5844, 10.3998,  8.6578,  8.3551,  9.2537,  9.5186,\n",
       "         8.7028,  8.3740,  8.9383,  8.8386,  8.8605,  9.2362,  9.5307,  8.3526,\n",
       "         8.5877,  8.5921,  9.2664,  8.4491,  8.7176,  9.4790,  8.3616,  8.6557,\n",
       "         8.6585,  8.3679,  9.2899,  8.4124,  8.7836,  8.7061,  8.5792,  8.3787,\n",
       "         9.1145,  8.6242,  8.8895,  9.4089,  8.6674,  8.4511,  8.7706,  8.7936,\n",
       "         8.7173,  8.4706,  8.6929,  9.0829,  8.8160,  8.3774,  8.7298,  8.4700,\n",
       "         8.4126,  9.2960,  9.1067,  8.4630,  8.4556,  8.3612, 10.5467,  8.4765,\n",
       "         9.0550,  8.5942,  9.0760,  9.3019,  9.1816,  9.3029, 10.1344,  8.5303,\n",
       "         9.2693,  8.3850,  8.4936,  8.4585,  9.0648,  9.0571,  8.6875,  8.7157,\n",
       "         9.9690,  8.8531, 10.0603,  8.5743,  8.4283,  8.6819,  8.8076,  8.3746,\n",
       "        10.3193,  8.6246,  8.9455,  8.6297,  8.6864,  8.4126,  9.4060,  8.4958,\n",
       "         8.7220,  8.4936,  9.7692,  9.3419,  8.5302,  9.9810,  8.6835,  8.5681,\n",
       "         8.3891,  9.1205,  8.4444,  9.2303,  9.3115,  9.1701,  8.6297,  8.6985,\n",
       "         8.8100,  8.9253,  8.3917,  8.9370,  8.5844,  9.1896,  9.8532,  8.6357,\n",
       "         9.4053,  8.4011,  8.6746,  8.6025,  8.9419,  8.6836,  8.3608,  8.8286,\n",
       "         8.6379,  8.8059,  9.3624,  8.5212,  8.6354,  9.2456,  8.4348,  8.5028,\n",
       "         8.8597,  9.1978,  9.6082,  8.5986,  9.2619,  9.2201,  8.6578,  9.7770,\n",
       "         9.1166,  8.5007,  8.4372,  9.1654,  8.6765,  9.3931,  8.9752,  8.5163,\n",
       "         8.7777,  8.3612,  8.5860,  8.4873,  8.4484,  9.0515, 10.4041,  8.5916,\n",
       "         8.4000,  8.7281,  8.6791,  8.8796,  9.4397,  8.8198,  9.1409,  8.3577,\n",
       "         8.6997,  8.7947,  8.5700,  8.6233,  9.7468,  9.2656,  8.4897,  8.5028,\n",
       "         8.4509,  8.8625,  9.3580,  8.5732,  8.7059,  9.7598, 10.0644,  8.7511,\n",
       "         9.1389,  8.5613,  9.3722,  8.6330,  8.9976,  9.2664,  9.7070,  8.8054,\n",
       "         9.2410,  9.0503,  8.6074,  8.7610,  8.5509,  8.5422,  8.3734,  9.3359,\n",
       "         8.9613,  8.5727,  8.6477,  8.5270,  8.8341,  8.5647,  8.8978,  8.9206,\n",
       "         8.9910,  8.4493,  9.6167,  8.4616,  8.8255,  8.8792,  8.4365,  9.2567,\n",
       "         8.9730,  9.5677,  9.0128,  8.5099,  9.6533,  8.4319,  9.1128,  8.9922,\n",
       "         9.0376,  8.8105, 10.2121,  9.2297,  9.3019,  8.7568,  8.5727,  8.8539,\n",
       "         8.7271,  8.8834,  8.7076,  9.4320,  8.7337,  8.4223,  8.4047,  8.3816,\n",
       "         9.3253,  8.9195,  8.4319,  9.0174,  8.4392,  8.9747,  8.3658,  9.4563,\n",
       "         8.4216,  8.5101,  8.4942,  8.3738,  8.9217,  8.4124,  9.2831,  8.4527,\n",
       "         9.2429,  8.9505,  9.2426,  9.0279,  9.6262, 10.6593,  8.7157,  8.5836,\n",
       "         8.6598,  8.8787,  8.7775,  8.4403,  8.8190,  9.3417,  8.3850,  8.8012,\n",
       "         9.1060,  8.5483,  9.0643,  8.8677,  9.1922,  8.6579,  8.6091,  8.6791,\n",
       "         8.5765,  8.7053,  8.9596,  8.8291,  8.4081,  8.5101,  8.4855,  8.7290,\n",
       "         8.7053,  8.7534,  9.0261,  8.5791,  8.6534,  8.7059, 10.3120,  9.4708,\n",
       "         8.5092,  8.3663,  8.8552,  9.1042,  8.5362,  8.3551, 10.3699,  8.8750,\n",
       "         9.4302,  9.1239,  9.6814,  9.1270,  9.5292,  9.1482,  8.6326,  9.0709,\n",
       "         8.9844,  8.4556,  9.4159,  9.8488,  9.0171,  8.4645,  8.8461,  8.8483,\n",
       "         8.6025,  8.6674,  8.5309,  8.4491,  9.2031,  8.4527,  8.3658,  8.4194,\n",
       "         9.0307,  8.6412,  9.3513,  9.2693,  8.6904,  8.4372,  8.8135,  8.8119,\n",
       "         8.3504,  8.6077,  8.3746,  8.7154,  8.5383,  9.0551,  8.5860, 10.0676,\n",
       "         8.4710,  8.6191,  8.5353,  8.5700,  8.4366,  9.1777,  9.0648,  8.5732,\n",
       "         8.4250,  9.1235,  8.9836,  8.7755,  8.6216,  8.5823,  8.5393,  8.3846,\n",
       "         9.4809,  8.6297,  8.8288, 10.1337,  8.5256,  8.8257,  8.5383,  8.6024,\n",
       "         9.5839,  9.5224,  8.5905,  8.4736,  8.5274, 10.3211,  8.7804,  9.7809,\n",
       "         8.8934,  8.8997,  8.8796,  8.8464,  8.6826,  8.3616,  8.8446,  8.7838,\n",
       "         9.0854,  9.0136,  8.9605,  9.4146,  8.6433,  8.9645,  8.5839,  8.6253,\n",
       "         8.4541,  8.4223,  8.9147,  8.4624,  8.4549,  8.9180,  9.6518,  8.6546,\n",
       "         8.6287,  9.0197,  8.4444,  8.7338,  9.2957,  9.3698,  8.5099,  8.6835,\n",
       "         8.8190,  8.7182,  9.2352,  8.5847,  8.7097,  8.7803,  8.5905,  8.9757,\n",
       "         8.4216,  8.4624,  8.7963,  9.5367,  8.6586,  9.5282,  8.5431,  8.8265,\n",
       "         8.4014,  8.6477,  9.1470,  8.8902,  8.4907,  9.7336,  8.6438,  8.3774,\n",
       "         9.6729,  8.7299,  8.3559,  8.4452,  8.4271,  8.4386,  8.3608, 10.0427,\n",
       "         9.2637,  8.9724,  8.6104,  8.4301,  8.3734,  8.3570,  8.4958,  8.9635,\n",
       "         8.3568,  8.8917,  9.2709,  8.7836,  8.8599, 10.0351,  8.3663, 10.2291,\n",
       "         9.0247,  9.2516,  8.4438,  9.6084,  8.7316,  8.9451,  9.3868,  8.5814,\n",
       "         8.5246,  9.2655,  8.4000,  8.4519,  8.4460,  8.5246,  8.4719,  9.0748,\n",
       "         8.9264,  9.1417,  9.6895,  9.7304,  9.2468,  8.3884,  8.5012,  9.0547,\n",
       "         8.5988,  8.8539,  8.5804,  8.6638,  8.3837,  8.8676,  9.1284,  8.7608,\n",
       "        10.0310,  9.4535,  8.5703,  8.9148,  9.3273, 10.3102,  8.6561,  8.6826,\n",
       "         8.4438,  8.6279,  8.8227,  8.5669,  9.1834,  8.4344, 10.2432,  8.6191,\n",
       "         8.7939,  8.6897,  8.8291,  8.5779,  8.8991,  8.8901,  8.6824,  9.1867,\n",
       "         8.8195])"
      ]
     },
     "execution_count": 699,
     "metadata": {},
     "output_type": "execute_result"
    }
   ],
   "source": [
    "new_center = model[0].centers.data\n",
    "dists = torch.cdist(new_center, new_center)+torch.eye(new_center.shape[0])*1e5\n",
    "dists.min(dim=0)[0]"
   ]
  },
  {
   "cell_type": "code",
   "execution_count": 700,
   "metadata": {},
   "outputs": [],
   "source": [
    "optimizer = optim.Adam(list(model.parameters()), \n",
    "                            lr=0.0003, weight_decay=1e-15)\n",
    "criterion = nn.CrossEntropyLoss()"
   ]
  },
  {
   "cell_type": "code",
   "execution_count": 701,
   "metadata": {},
   "outputs": [
    {
     "name": "stderr",
     "output_type": "stream",
     "text": [
      "\r",
      "  0%|          | 0/40 [00:00<?, ?it/s]"
     ]
    },
    {
     "name": "stdout",
     "output_type": "stream",
     "text": [
      "Epoch: 0:0,  Loss:0.4909895062446594\n"
     ]
    },
    {
     "name": "stderr",
     "output_type": "stream",
     "text": [
      "\r",
      "  2%|▎         | 1/40 [00:34<22:14, 34.21s/it]"
     ]
    },
    {
     "name": "stdout",
     "output_type": "stream",
     "text": [
      "Train Acc:80.23%, Test Acc:83.53%\n",
      "\n",
      "Epoch: 1:0,  Loss:0.5007116198539734\n"
     ]
    },
    {
     "name": "stderr",
     "output_type": "stream",
     "text": [
      "\r",
      "  5%|▌         | 2/40 [01:17<25:01, 39.51s/it]"
     ]
    },
    {
     "name": "stdout",
     "output_type": "stream",
     "text": [
      "Train Acc:85.27%, Test Acc:84.91%\n",
      "\n",
      "Epoch: 2:0,  Loss:0.40888503193855286\n"
     ]
    },
    {
     "name": "stderr",
     "output_type": "stream",
     "text": [
      "\r",
      "  8%|▊         | 3/40 [01:53<23:21, 37.87s/it]"
     ]
    },
    {
     "name": "stdout",
     "output_type": "stream",
     "text": [
      "Train Acc:86.64%, Test Acc:85.94%\n",
      "\n",
      "Epoch: 3:0,  Loss:0.31447920203208923\n"
     ]
    },
    {
     "name": "stderr",
     "output_type": "stream",
     "text": [
      "\r",
      " 10%|█         | 4/40 [02:30<22:30, 37.53s/it]"
     ]
    },
    {
     "name": "stdout",
     "output_type": "stream",
     "text": [
      "Train Acc:87.82%, Test Acc:86.21%\n",
      "\n",
      "Epoch: 4:0,  Loss:0.33561772108078003\n"
     ]
    },
    {
     "name": "stderr",
     "output_type": "stream",
     "text": [
      "\r",
      " 12%|█▎        | 5/40 [03:05<21:26, 36.76s/it]"
     ]
    },
    {
     "name": "stdout",
     "output_type": "stream",
     "text": [
      "Train Acc:88.54%, Test Acc:86.55%\n",
      "\n",
      "Epoch: 5:0,  Loss:0.3545219302177429\n"
     ]
    },
    {
     "name": "stderr",
     "output_type": "stream",
     "text": [
      "\r",
      " 15%|█▌        | 6/40 [03:42<20:45, 36.65s/it]"
     ]
    },
    {
     "name": "stdout",
     "output_type": "stream",
     "text": [
      "Train Acc:89.05%, Test Acc:87.20%\n",
      "\n",
      "Epoch: 6:0,  Loss:0.17725025117397308\n"
     ]
    },
    {
     "name": "stderr",
     "output_type": "stream",
     "text": [
      "\r",
      " 18%|█▊        | 7/40 [04:17<19:49, 36.05s/it]"
     ]
    },
    {
     "name": "stdout",
     "output_type": "stream",
     "text": [
      "Train Acc:89.74%, Test Acc:87.18%\n",
      "\n",
      "Epoch: 7:0,  Loss:0.37626099586486816\n"
     ]
    },
    {
     "name": "stderr",
     "output_type": "stream",
     "text": [
      "\r",
      " 20%|██        | 8/40 [05:03<21:04, 39.50s/it]"
     ]
    },
    {
     "name": "stdout",
     "output_type": "stream",
     "text": [
      "Train Acc:90.16%, Test Acc:87.29%\n",
      "\n",
      "Epoch: 8:0,  Loss:0.3917292356491089\n"
     ]
    },
    {
     "name": "stderr",
     "output_type": "stream",
     "text": [
      "\r",
      " 22%|██▎       | 9/40 [05:40<19:52, 38.48s/it]"
     ]
    },
    {
     "name": "stdout",
     "output_type": "stream",
     "text": [
      "Train Acc:90.67%, Test Acc:87.48%\n",
      "\n",
      "Epoch: 9:0,  Loss:0.18258072435855865\n"
     ]
    },
    {
     "name": "stderr",
     "output_type": "stream",
     "text": [
      "\r",
      " 25%|██▌       | 10/40 [06:18<19:16, 38.55s/it]"
     ]
    },
    {
     "name": "stdout",
     "output_type": "stream",
     "text": [
      "Train Acc:90.88%, Test Acc:87.60%\n",
      "\n",
      "Epoch: 10:0,  Loss:0.1379319429397583\n"
     ]
    },
    {
     "name": "stderr",
     "output_type": "stream",
     "text": [
      "\r",
      " 28%|██▊       | 11/40 [07:03<19:29, 40.34s/it]"
     ]
    },
    {
     "name": "stdout",
     "output_type": "stream",
     "text": [
      "Train Acc:91.41%, Test Acc:88.06%\n",
      "\n",
      "Epoch: 11:0,  Loss:0.1728106141090393\n"
     ]
    },
    {
     "name": "stderr",
     "output_type": "stream",
     "text": [
      "\r",
      " 30%|███       | 12/40 [07:40<18:21, 39.35s/it]"
     ]
    },
    {
     "name": "stdout",
     "output_type": "stream",
     "text": [
      "Train Acc:91.89%, Test Acc:88.09%\n",
      "\n",
      "Epoch: 12:0,  Loss:0.1571287214756012\n"
     ]
    },
    {
     "name": "stderr",
     "output_type": "stream",
     "text": [
      "\r",
      " 32%|███▎      | 13/40 [08:23<18:12, 40.47s/it]"
     ]
    },
    {
     "name": "stdout",
     "output_type": "stream",
     "text": [
      "Train Acc:92.03%, Test Acc:88.07%\n",
      "\n",
      "Epoch: 13:0,  Loss:0.2603271007537842\n"
     ]
    },
    {
     "name": "stderr",
     "output_type": "stream",
     "text": [
      "\r",
      " 35%|███▌      | 14/40 [08:58<16:52, 38.94s/it]"
     ]
    },
    {
     "name": "stdout",
     "output_type": "stream",
     "text": [
      "Train Acc:92.35%, Test Acc:88.03%\n",
      "\n",
      "Epoch: 14:0,  Loss:0.0980091392993927\n"
     ]
    },
    {
     "name": "stderr",
     "output_type": "stream",
     "text": [
      "\r",
      " 38%|███▊      | 15/40 [09:34<15:48, 37.95s/it]"
     ]
    },
    {
     "name": "stdout",
     "output_type": "stream",
     "text": [
      "Train Acc:92.73%, Test Acc:88.05%\n",
      "\n",
      "Epoch: 15:0,  Loss:0.22770167887210846\n"
     ]
    },
    {
     "name": "stderr",
     "output_type": "stream",
     "text": [
      "\r",
      " 40%|████      | 16/40 [10:11<15:05, 37.74s/it]"
     ]
    },
    {
     "name": "stdout",
     "output_type": "stream",
     "text": [
      "Train Acc:93.06%, Test Acc:88.00%\n",
      "\n",
      "Epoch: 16:0,  Loss:0.07938431948423386\n"
     ]
    },
    {
     "name": "stderr",
     "output_type": "stream",
     "text": [
      "\r",
      " 42%|████▎     | 17/40 [10:52<14:48, 38.61s/it]"
     ]
    },
    {
     "name": "stdout",
     "output_type": "stream",
     "text": [
      "Train Acc:93.38%, Test Acc:88.27%\n",
      "\n",
      "Epoch: 17:0,  Loss:0.12158767879009247\n"
     ]
    },
    {
     "name": "stderr",
     "output_type": "stream",
     "text": [
      "\r",
      " 45%|████▌     | 18/40 [11:33<14:24, 39.30s/it]"
     ]
    },
    {
     "name": "stdout",
     "output_type": "stream",
     "text": [
      "Train Acc:93.67%, Test Acc:88.06%\n",
      "\n",
      "Epoch: 18:0,  Loss:0.20041412115097046\n"
     ]
    },
    {
     "name": "stderr",
     "output_type": "stream",
     "text": [
      "\r",
      " 48%|████▊     | 19/40 [12:20<14:32, 41.56s/it]"
     ]
    },
    {
     "name": "stdout",
     "output_type": "stream",
     "text": [
      "Train Acc:93.85%, Test Acc:87.46%\n",
      "\n",
      "Epoch: 19:0,  Loss:0.1563386768102646\n"
     ]
    },
    {
     "name": "stderr",
     "output_type": "stream",
     "text": [
      "\r",
      " 50%|█████     | 20/40 [13:05<14:17, 42.86s/it]"
     ]
    },
    {
     "name": "stdout",
     "output_type": "stream",
     "text": [
      "Train Acc:94.04%, Test Acc:88.04%\n",
      "\n",
      "Epoch: 20:0,  Loss:0.3969346284866333\n"
     ]
    },
    {
     "name": "stderr",
     "output_type": "stream",
     "text": [
      "\r",
      " 52%|█████▎    | 21/40 [14:29<17:26, 55.09s/it]"
     ]
    },
    {
     "name": "stdout",
     "output_type": "stream",
     "text": [
      "Train Acc:94.42%, Test Acc:87.96%\n",
      "\n",
      "Epoch: 21:0,  Loss:0.13629059493541718\n"
     ]
    },
    {
     "name": "stderr",
     "output_type": "stream",
     "text": [
      "\r",
      " 55%|█████▌    | 22/40 [15:10<15:17, 50.96s/it]"
     ]
    },
    {
     "name": "stdout",
     "output_type": "stream",
     "text": [
      "Train Acc:94.62%, Test Acc:87.78%\n",
      "\n",
      "Epoch: 22:0,  Loss:0.04736635833978653\n"
     ]
    },
    {
     "name": "stderr",
     "output_type": "stream",
     "text": [
      "\r",
      " 57%|█████▊    | 23/40 [15:46<13:09, 46.43s/it]"
     ]
    },
    {
     "name": "stdout",
     "output_type": "stream",
     "text": [
      "Train Acc:94.73%, Test Acc:88.06%\n",
      "\n",
      "Epoch: 23:0,  Loss:0.04576302692294121\n"
     ]
    },
    {
     "name": "stderr",
     "output_type": "stream",
     "text": [
      "\r",
      " 60%|██████    | 24/40 [16:24<11:38, 43.68s/it]"
     ]
    },
    {
     "name": "stdout",
     "output_type": "stream",
     "text": [
      "Train Acc:95.05%, Test Acc:88.02%\n",
      "\n",
      "Epoch: 24:0,  Loss:0.20399881899356842\n"
     ]
    },
    {
     "name": "stderr",
     "output_type": "stream",
     "text": [
      "\r",
      " 62%|██████▎   | 25/40 [17:14<11:25, 45.70s/it]"
     ]
    },
    {
     "name": "stdout",
     "output_type": "stream",
     "text": [
      "Train Acc:95.24%, Test Acc:88.05%\n",
      "\n",
      "Epoch: 25:0,  Loss:0.16007471084594727\n"
     ]
    },
    {
     "name": "stderr",
     "output_type": "stream",
     "text": [
      "\r",
      " 65%|██████▌   | 26/40 [17:53<10:10, 43.58s/it]"
     ]
    },
    {
     "name": "stdout",
     "output_type": "stream",
     "text": [
      "Train Acc:95.47%, Test Acc:88.13%\n",
      "\n",
      "Epoch: 26:0,  Loss:0.09060615301132202\n"
     ]
    },
    {
     "name": "stderr",
     "output_type": "stream",
     "text": [
      "\r",
      " 68%|██████▊   | 27/40 [18:33<09:14, 42.66s/it]"
     ]
    },
    {
     "name": "stdout",
     "output_type": "stream",
     "text": [
      "Train Acc:95.67%, Test Acc:88.10%\n",
      "\n",
      "Epoch: 27:0,  Loss:0.11192476004362106\n"
     ]
    },
    {
     "name": "stderr",
     "output_type": "stream",
     "text": [
      "\r",
      " 70%|███████   | 28/40 [19:11<08:14, 41.25s/it]"
     ]
    },
    {
     "name": "stdout",
     "output_type": "stream",
     "text": [
      "Train Acc:95.91%, Test Acc:87.94%\n",
      "\n",
      "Epoch: 28:0,  Loss:0.18105722963809967\n"
     ]
    },
    {
     "name": "stderr",
     "output_type": "stream",
     "text": [
      "\r",
      " 72%|███████▎  | 29/40 [20:06<08:17, 45.24s/it]"
     ]
    },
    {
     "name": "stdout",
     "output_type": "stream",
     "text": [
      "Train Acc:96.15%, Test Acc:88.12%\n",
      "\n",
      "Epoch: 29:0,  Loss:0.06307318806648254\n"
     ]
    },
    {
     "name": "stderr",
     "output_type": "stream",
     "text": [
      "\r",
      " 75%|███████▌  | 30/40 [20:52<07:36, 45.64s/it]"
     ]
    },
    {
     "name": "stdout",
     "output_type": "stream",
     "text": [
      "Train Acc:96.30%, Test Acc:87.91%\n",
      "\n",
      "Epoch: 30:0,  Loss:0.08738002181053162\n"
     ]
    },
    {
     "name": "stderr",
     "output_type": "stream",
     "text": [
      "\r",
      " 78%|███████▊  | 31/40 [21:29<06:26, 42.95s/it]"
     ]
    },
    {
     "name": "stdout",
     "output_type": "stream",
     "text": [
      "Train Acc:96.50%, Test Acc:88.17%\n",
      "\n"
     ]
    },
    {
     "name": "stderr",
     "output_type": "stream",
     "text": [
      " 78%|███████▊  | 31/40 [21:32<06:15, 41.70s/it]\n"
     ]
    },
    {
     "ename": "KeyboardInterrupt",
     "evalue": "",
     "output_type": "error",
     "traceback": [
      "\u001b[0;31m---------------------------------------------------------------------------\u001b[0m",
      "\u001b[0;31mKeyboardInterrupt\u001b[0m                         Traceback (most recent call last)",
      "\u001b[0;32m<ipython-input-701-fe1aa47f9ec7>\u001b[0m in \u001b[0;36m<module>\u001b[0;34m()\u001b[0m\n\u001b[1;32m     11\u001b[0m         \u001b[0moptimizer\u001b[0m\u001b[0;34m.\u001b[0m\u001b[0mzero_grad\u001b[0m\u001b[0;34m(\u001b[0m\u001b[0;34m)\u001b[0m\u001b[0;34m\u001b[0m\u001b[0;34m\u001b[0m\u001b[0m\n\u001b[1;32m     12\u001b[0m         \u001b[0mloss\u001b[0m\u001b[0;34m.\u001b[0m\u001b[0mbackward\u001b[0m\u001b[0;34m(\u001b[0m\u001b[0;34m)\u001b[0m\u001b[0;34m\u001b[0m\u001b[0;34m\u001b[0m\u001b[0m\n\u001b[0;32m---> 13\u001b[0;31m         \u001b[0moptimizer\u001b[0m\u001b[0;34m.\u001b[0m\u001b[0mstep\u001b[0m\u001b[0;34m(\u001b[0m\u001b[0;34m)\u001b[0m\u001b[0;34m\u001b[0m\u001b[0;34m\u001b[0m\u001b[0m\n\u001b[0m\u001b[1;32m     14\u001b[0m \u001b[0;34m\u001b[0m\u001b[0m\n\u001b[1;32m     15\u001b[0m         \u001b[0moutputs\u001b[0m \u001b[0;34m=\u001b[0m \u001b[0mtorch\u001b[0m\u001b[0;34m.\u001b[0m\u001b[0margmax\u001b[0m\u001b[0;34m(\u001b[0m\u001b[0myout\u001b[0m\u001b[0;34m,\u001b[0m \u001b[0mdim\u001b[0m\u001b[0;34m=\u001b[0m\u001b[0;36m1\u001b[0m\u001b[0;34m)\u001b[0m\u001b[0;34m.\u001b[0m\u001b[0mdata\u001b[0m\u001b[0;34m.\u001b[0m\u001b[0mcpu\u001b[0m\u001b[0;34m(\u001b[0m\u001b[0;34m)\u001b[0m\u001b[0;34m.\u001b[0m\u001b[0mnumpy\u001b[0m\u001b[0;34m(\u001b[0m\u001b[0;34m)\u001b[0m\u001b[0;34m\u001b[0m\u001b[0;34m\u001b[0m\u001b[0m\n",
      "\u001b[0;32m~/Program_Files/Python/miniconda3/lib/python3.7/site-packages/torch/autograd/grad_mode.py\u001b[0m in \u001b[0;36mdecorate_context\u001b[0;34m(*args, **kwargs)\u001b[0m\n\u001b[1;32m     24\u001b[0m         \u001b[0;32mdef\u001b[0m \u001b[0mdecorate_context\u001b[0m\u001b[0;34m(\u001b[0m\u001b[0;34m*\u001b[0m\u001b[0margs\u001b[0m\u001b[0;34m,\u001b[0m \u001b[0;34m**\u001b[0m\u001b[0mkwargs\u001b[0m\u001b[0;34m)\u001b[0m\u001b[0;34m:\u001b[0m\u001b[0;34m\u001b[0m\u001b[0;34m\u001b[0m\u001b[0m\n\u001b[1;32m     25\u001b[0m             \u001b[0;32mwith\u001b[0m \u001b[0mself\u001b[0m\u001b[0;34m.\u001b[0m\u001b[0m__class__\u001b[0m\u001b[0;34m(\u001b[0m\u001b[0;34m)\u001b[0m\u001b[0;34m:\u001b[0m\u001b[0;34m\u001b[0m\u001b[0;34m\u001b[0m\u001b[0m\n\u001b[0;32m---> 26\u001b[0;31m                 \u001b[0;32mreturn\u001b[0m \u001b[0mfunc\u001b[0m\u001b[0;34m(\u001b[0m\u001b[0;34m*\u001b[0m\u001b[0margs\u001b[0m\u001b[0;34m,\u001b[0m \u001b[0;34m**\u001b[0m\u001b[0mkwargs\u001b[0m\u001b[0;34m)\u001b[0m\u001b[0;34m\u001b[0m\u001b[0;34m\u001b[0m\u001b[0m\n\u001b[0m\u001b[1;32m     27\u001b[0m         \u001b[0;32mreturn\u001b[0m \u001b[0mcast\u001b[0m\u001b[0;34m(\u001b[0m\u001b[0mF\u001b[0m\u001b[0;34m,\u001b[0m \u001b[0mdecorate_context\u001b[0m\u001b[0;34m)\u001b[0m\u001b[0;34m\u001b[0m\u001b[0;34m\u001b[0m\u001b[0m\n\u001b[1;32m     28\u001b[0m \u001b[0;34m\u001b[0m\u001b[0m\n",
      "\u001b[0;32m~/Program_Files/Python/miniconda3/lib/python3.7/site-packages/torch/optim/adam.py\u001b[0m in \u001b[0;36mstep\u001b[0;34m(self, closure)\u001b[0m\n\u001b[1;32m     80\u001b[0m                     \u001b[0;32mif\u001b[0m \u001b[0mp\u001b[0m\u001b[0;34m.\u001b[0m\u001b[0mgrad\u001b[0m\u001b[0;34m.\u001b[0m\u001b[0mis_sparse\u001b[0m\u001b[0;34m:\u001b[0m\u001b[0;34m\u001b[0m\u001b[0;34m\u001b[0m\u001b[0m\n\u001b[1;32m     81\u001b[0m                         \u001b[0;32mraise\u001b[0m \u001b[0mRuntimeError\u001b[0m\u001b[0;34m(\u001b[0m\u001b[0;34m'Adam does not support sparse gradients, please consider SparseAdam instead'\u001b[0m\u001b[0;34m)\u001b[0m\u001b[0;34m\u001b[0m\u001b[0;34m\u001b[0m\u001b[0m\n\u001b[0;32m---> 82\u001b[0;31m                     \u001b[0mgrads\u001b[0m\u001b[0;34m.\u001b[0m\u001b[0mappend\u001b[0m\u001b[0;34m(\u001b[0m\u001b[0mp\u001b[0m\u001b[0;34m.\u001b[0m\u001b[0mgrad\u001b[0m\u001b[0;34m)\u001b[0m\u001b[0;34m\u001b[0m\u001b[0;34m\u001b[0m\u001b[0m\n\u001b[0m\u001b[1;32m     83\u001b[0m \u001b[0;34m\u001b[0m\u001b[0m\n\u001b[1;32m     84\u001b[0m                     \u001b[0mstate\u001b[0m \u001b[0;34m=\u001b[0m \u001b[0mself\u001b[0m\u001b[0;34m.\u001b[0m\u001b[0mstate\u001b[0m\u001b[0;34m[\u001b[0m\u001b[0mp\u001b[0m\u001b[0;34m]\u001b[0m\u001b[0;34m\u001b[0m\u001b[0;34m\u001b[0m\u001b[0m\n",
      "\u001b[0;32m~/Program_Files/Python/miniconda3/lib/python3.7/site-packages/torch/tensor.py\u001b[0m in \u001b[0;36mgrad\u001b[0;34m(self)\u001b[0m\n\u001b[1;32m    941\u001b[0m         \u001b[0mrelevant_args\u001b[0m \u001b[0;34m=\u001b[0m \u001b[0;34m(\u001b[0m\u001b[0mself\u001b[0m\u001b[0;34m,\u001b[0m\u001b[0;34m)\u001b[0m\u001b[0;34m\u001b[0m\u001b[0;34m\u001b[0m\u001b[0m\n\u001b[1;32m    942\u001b[0m         \u001b[0;32mfrom\u001b[0m \u001b[0mtorch\u001b[0m\u001b[0;34m.\u001b[0m\u001b[0moverrides\u001b[0m \u001b[0;32mimport\u001b[0m \u001b[0mhas_torch_function\u001b[0m\u001b[0;34m,\u001b[0m \u001b[0mhandle_torch_function\u001b[0m\u001b[0;34m\u001b[0m\u001b[0;34m\u001b[0m\u001b[0m\n\u001b[0;32m--> 943\u001b[0;31m         \u001b[0;32mif\u001b[0m \u001b[0mtype\u001b[0m\u001b[0;34m(\u001b[0m\u001b[0mself\u001b[0m\u001b[0;34m)\u001b[0m \u001b[0;32mis\u001b[0m \u001b[0;32mnot\u001b[0m \u001b[0mTensor\u001b[0m \u001b[0;32mand\u001b[0m \u001b[0mhas_torch_function\u001b[0m\u001b[0;34m(\u001b[0m\u001b[0mrelevant_args\u001b[0m\u001b[0;34m)\u001b[0m\u001b[0;34m:\u001b[0m\u001b[0;34m\u001b[0m\u001b[0;34m\u001b[0m\u001b[0m\n\u001b[0m\u001b[1;32m    944\u001b[0m             \u001b[0;31m# TODO mypy doesn't support @property, see: https://github.com/python/mypy/issues/6185\u001b[0m\u001b[0;34m\u001b[0m\u001b[0;34m\u001b[0m\u001b[0;34m\u001b[0m\u001b[0m\n\u001b[1;32m    945\u001b[0m             \u001b[0;32mreturn\u001b[0m \u001b[0mhandle_torch_function\u001b[0m\u001b[0;34m(\u001b[0m\u001b[0mTensor\u001b[0m\u001b[0;34m.\u001b[0m\u001b[0mgrad\u001b[0m\u001b[0;34m.\u001b[0m\u001b[0m__get__\u001b[0m\u001b[0;34m,\u001b[0m \u001b[0mrelevant_args\u001b[0m\u001b[0;34m,\u001b[0m \u001b[0mself\u001b[0m\u001b[0;34m)\u001b[0m  \u001b[0;31m# type: ignore[attr-defined]\u001b[0m\u001b[0;34m\u001b[0m\u001b[0;34m\u001b[0m\u001b[0m\n",
      "\u001b[0;32m~/Program_Files/Python/miniconda3/lib/python3.7/site-packages/torch/overrides.py\u001b[0m in \u001b[0;36mhas_torch_function\u001b[0;34m(relevant_args)\u001b[0m\n\u001b[1;32m   1085\u001b[0m         \u001b[0mgetattr\u001b[0m\u001b[0;34m(\u001b[0m\u001b[0ma\u001b[0m\u001b[0;34m,\u001b[0m \u001b[0;34m'__torch_function__'\u001b[0m\u001b[0;34m,\u001b[0m \u001b[0m_disabled_torch_function_impl\u001b[0m\u001b[0;34m)\u001b[0m\u001b[0;34m\u001b[0m\u001b[0;34m\u001b[0m\u001b[0m\n\u001b[1;32m   1086\u001b[0m         \u001b[0;32mis\u001b[0m \u001b[0;32mnot\u001b[0m \u001b[0m_disabled_torch_function_impl\u001b[0m\u001b[0;34m\u001b[0m\u001b[0;34m\u001b[0m\u001b[0m\n\u001b[0;32m-> 1087\u001b[0;31m         \u001b[0;32mfor\u001b[0m \u001b[0ma\u001b[0m \u001b[0;32min\u001b[0m \u001b[0mrelevant_args\u001b[0m\u001b[0;34m\u001b[0m\u001b[0;34m\u001b[0m\u001b[0m\n\u001b[0m\u001b[1;32m   1088\u001b[0m     )\n\u001b[1;32m   1089\u001b[0m \u001b[0;34m\u001b[0m\u001b[0m\n",
      "\u001b[0;32m~/Program_Files/Python/miniconda3/lib/python3.7/site-packages/torch/overrides.py\u001b[0m in \u001b[0;36m<genexpr>\u001b[0;34m(.0)\u001b[0m\n\u001b[1;32m   1085\u001b[0m         \u001b[0mgetattr\u001b[0m\u001b[0;34m(\u001b[0m\u001b[0ma\u001b[0m\u001b[0;34m,\u001b[0m \u001b[0;34m'__torch_function__'\u001b[0m\u001b[0;34m,\u001b[0m \u001b[0m_disabled_torch_function_impl\u001b[0m\u001b[0;34m)\u001b[0m\u001b[0;34m\u001b[0m\u001b[0;34m\u001b[0m\u001b[0m\n\u001b[1;32m   1086\u001b[0m         \u001b[0;32mis\u001b[0m \u001b[0;32mnot\u001b[0m \u001b[0m_disabled_torch_function_impl\u001b[0m\u001b[0;34m\u001b[0m\u001b[0;34m\u001b[0m\u001b[0m\n\u001b[0;32m-> 1087\u001b[0;31m         \u001b[0;32mfor\u001b[0m \u001b[0ma\u001b[0m \u001b[0;32min\u001b[0m \u001b[0mrelevant_args\u001b[0m\u001b[0;34m\u001b[0m\u001b[0;34m\u001b[0m\u001b[0m\n\u001b[0m\u001b[1;32m   1088\u001b[0m     )\n\u001b[1;32m   1089\u001b[0m \u001b[0;34m\u001b[0m\u001b[0m\n",
      "\u001b[0;31mKeyboardInterrupt\u001b[0m: "
     ]
    }
   ],
   "source": [
    "index = 0\n",
    "train_accs, test_accs = [], []\n",
    "model.train()\n",
    "for epoch in tqdm(list(range(40))):\n",
    "    train_acc = 0\n",
    "    train_count = 0\n",
    "    for xx, yy in train_loader:\n",
    "        xx, yy = xx.to(device), yy.to(device)\n",
    "        yout = model(xx)\n",
    "        loss = criterion(yout, yy)\n",
    "        optimizer.zero_grad()\n",
    "        loss.backward()\n",
    "        optimizer.step()\n",
    "\n",
    "        outputs = torch.argmax(yout, dim=1).data.cpu().numpy()\n",
    "        correct = (outputs == yy.data.cpu().numpy()).astype(float).sum()\n",
    "        train_acc += correct\n",
    "        train_count += len(outputs)\n",
    "\n",
    "    train_accs.append(float(train_acc)/train_count*100)\n",
    "    train_acc = 0\n",
    "    train_count = 0\n",
    "    \n",
    "#     if epoch%5 == 0:\n",
    "#         print(f\"Shifting the centroids to the nearest data point\")\n",
    "#         model[0].set_centroid_to_data(train_loader)\n",
    "\n",
    "    print(f'Epoch: {epoch}:{index},  Loss:{float(loss)}')\n",
    "    test_count = 0\n",
    "    test_acc = 0\n",
    "    for xx, yy in test_loader:\n",
    "        xx, yy = xx.to(device), yy.to(device)\n",
    "        with torch.no_grad():\n",
    "            yout = model(xx)\n",
    "        outputs = torch.argmax(yout, dim=1).data.cpu().numpy()\n",
    "        correct = (outputs == yy.data.cpu().numpy()).astype(float).sum()\n",
    "        test_acc += correct\n",
    "        test_count += len(xx)\n",
    "    test_accs.append(float(test_acc)/test_count*100)\n",
    "    print(f'Train Acc:{train_accs[-1]:.2f}%, Test Acc:{test_accs[-1]:.2f}%')\n",
    "    print()\n",
    "\n",
    "### after each class index is finished training\n",
    "print(f'\\t-> MAX Train Acc {max(train_accs)} ; Test Acc {max(test_accs)}')"
   ]
  },
  {
   "cell_type": "code",
   "execution_count": 702,
   "metadata": {},
   "outputs": [],
   "source": [
    "# torch.save(model.state_dict(), \"./temp_01_2_model_nov26.pth\")\n",
    "torch.save(model.state_dict(), \"./temp_01_2_model_nov26_v3.pth\")\n",
    "\n",
    "# model.load_state_dict(torch.load(\"./temp_01_2_model_nov26.pth\", map_location=device))"
   ]
  },
  {
   "cell_type": "code",
   "execution_count": 116,
   "metadata": {},
   "outputs": [],
   "source": [
    "# -> MAX Train Acc 87.678 ; Test Acc 85.87  ### after distance transformation\n",
    "# -> MAX Train Acc 98.1367 ; Test Acc 89.22 ### after distance normalization\n",
    "# -> MAX Train Acc 98.6317 ; Test Acc 89.36 ### after distance normalization and -ve exp\n",
    "# -> MAX Train Acc 97.255 ; Test Acc 89.01  ### normal nn"
   ]
  },
  {
   "cell_type": "code",
   "execution_count": null,
   "metadata": {},
   "outputs": [],
   "source": [
    "### with 20 input units\n",
    "-> MAX Train Acc 90.65833333333333 ; Test Acc 87.45 ## 20 centroids\n",
    "-> MAX Train Acc 92.34166666666667 ; Test Acc 87.54 ## 20 linear transforms"
   ]
  },
  {
   "cell_type": "code",
   "execution_count": 914,
   "metadata": {},
   "outputs": [
    {
     "data": {
      "text/plain": [
       "torch.Size([50, 785])"
      ]
     },
     "execution_count": 914,
     "metadata": {},
     "output_type": "execute_result"
    }
   ],
   "source": [
    "model.eval()\n",
    "xx = train_dataset[np.random.randint(0, len(train_dataset), 50)][0].to(device)\n",
    "dists = model[0](xx)\n",
    "# dists = model[1](dists)\n",
    "model.train()\n",
    "dists.shape"
   ]
  },
  {
   "cell_type": "code",
   "execution_count": 915,
   "metadata": {},
   "outputs": [
    {
     "data": {
      "text/plain": [
       "tensor(0.0097, grad_fn=<MeanBackward0>)"
      ]
     },
     "execution_count": 915,
     "metadata": {},
     "output_type": "execute_result"
    }
   ],
   "source": [
    "dists.mean()"
   ]
  },
  {
   "cell_type": "code",
   "execution_count": 916,
   "metadata": {},
   "outputs": [
    {
     "data": {
      "text/plain": [
       "tensor(0.0535, grad_fn=<StdBackward0>)"
      ]
     },
     "execution_count": 916,
     "metadata": {},
     "output_type": "execute_result"
    }
   ],
   "source": [
    "dists.std()"
   ]
  },
  {
   "cell_type": "code",
   "execution_count": 917,
   "metadata": {},
   "outputs": [
    {
     "data": {
      "text/plain": [
       "Parameter containing:\n",
       "tensor([2.0417], requires_grad=True)"
      ]
     },
     "execution_count": 917,
     "metadata": {},
     "output_type": "execute_result"
    }
   ],
   "source": [
    "model[0].scaler"
   ]
  },
  {
   "cell_type": "markdown",
   "metadata": {},
   "source": [
    "## UMAP - from library"
   ]
  },
  {
   "cell_type": "code",
   "execution_count": 918,
   "metadata": {},
   "outputs": [],
   "source": [
    "import umap"
   ]
  },
  {
   "cell_type": "code",
   "execution_count": 936,
   "metadata": {},
   "outputs": [],
   "source": [
    "embed = umap.UMAP(n_neighbors=784, n_components=2, min_dist=0.1, spread=1)\n",
    "# embed = umap.UMAP(n_neighbors=784, n_components=2, min_dist=0.1, spread=1,\n",
    "# #                   target_metric='euclidean',\n",
    "#                   target_metric='categorical',\n",
    "#                   target_weight=0.1\n",
    "#                  )"
   ]
  },
  {
   "cell_type": "code",
   "execution_count": 937,
   "metadata": {},
   "outputs": [
    {
     "data": {
      "text/plain": [
       "(tensor([0, 1, 2, 3, 4, 5, 6, 7, 8, 9]),\n",
       " tensor([ 83,  22, 106,  49,  60, 140, 134,  22, 122,  47]))"
      ]
     },
     "execution_count": 937,
     "metadata": {},
     "output_type": "execute_result"
    }
   ],
   "source": [
    "center_lbl = model(model[0].centers.data)\n",
    "output_cent = torch.softmax(center_lbl, dim=1).argmax(dim=1).data.cpu().numpy()\n",
    "# output_cent = center_lbl.data.cpu().numpy()\n",
    "\n",
    "torch.unique(torch.softmax(center_lbl, dim=1).argmax(dim=1), return_counts=True)"
   ]
  },
  {
   "cell_type": "code",
   "execution_count": 938,
   "metadata": {},
   "outputs": [],
   "source": [
    "centers = model[0].centers.data.cpu().numpy()\n",
    "\n",
    "embedding = embed.fit_transform(centers)\n",
    "# embedding = embed.fit_transform(centers, output_cent)"
   ]
  },
  {
   "cell_type": "code",
   "execution_count": 939,
   "metadata": {},
   "outputs": [],
   "source": [
    "i = 0"
   ]
  },
  {
   "cell_type": "code",
   "execution_count": 957,
   "metadata": {},
   "outputs": [
    {
     "name": "stdout",
     "output_type": "stream",
     "text": [
      "14/50\n"
     ]
    },
    {
     "data": {
      "text/plain": [
       "<matplotlib.collections.PathCollection at 0x7fcfc9ec4390>"
      ]
     },
     "execution_count": 957,
     "metadata": {},
     "output_type": "execute_result"
    },
    {
     "data": {
      "image/png": "[encoded data removed]",
      "text/plain": [
       "<Figure size 576x576 with 1 Axes>"
      ]
     },
     "metadata": {
      "needs_background": "light"
     },
     "output_type": "display_data"
    }
   ],
   "source": [
    "activ = dists.data.cpu().numpy()[i]\n",
    "# activ = activ - activ.min()\n",
    "# activ = torch.exp(-activ)\n",
    "i += 1\n",
    "print(f\"{i}/{len(dists)}\")\n",
    "plt.figure(figsize=(8,8))\n",
    "plt.scatter(embedding[:,0], embedding[:, 1], c=output_cent, s=np.maximum(activ*80, 0.5), cmap=\"tab10\")"
   ]
  },
  {
   "cell_type": "code",
   "execution_count": 958,
   "metadata": {},
   "outputs": [
    {
     "data": {
      "text/plain": [
       "<matplotlib.image.AxesImage at 0x7fcfc9de89d0>"
      ]
     },
     "execution_count": 958,
     "metadata": {},
     "output_type": "execute_result"
    },
    {
     "data": {
      "image/png": "[encoded data removed]",
      "text/plain": [
       "<Figure size 432x288 with 1 Axes>"
      ]
     },
     "metadata": {
      "needs_background": "light"
     },
     "output_type": "display_data"
    }
   ],
   "source": [
    "plt.imshow(xx.cpu()[i].reshape(28,28))"
   ]
  },
  {
   "cell_type": "markdown",
   "metadata": {},
   "source": [
    "## TSNE"
   ]
  },
  {
   "cell_type": "code",
   "execution_count": 374,
   "metadata": {},
   "outputs": [],
   "source": [
    "from sklearn.manifold import TSNE"
   ]
  },
  {
   "cell_type": "code",
   "execution_count": 375,
   "metadata": {},
   "outputs": [],
   "source": [
    "tsne = TSNE(n_components=2)\n",
    "embt = tsne.fit_transform(centers)"
   ]
  },
  {
   "cell_type": "code",
   "execution_count": 376,
   "metadata": {},
   "outputs": [
    {
     "data": {
      "text/plain": [
       "array([[  1.4580057,  30.924614 ],\n",
       "       [-10.764568 , -36.318943 ],\n",
       "       [-23.901247 ,  16.020674 ],\n",
       "       ...,\n",
       "       [ 28.645653 ,  27.828188 ],\n",
       "       [ -1.4484131,  12.8225   ],\n",
       "       [  0.8708845,  16.56753  ]], dtype=float32)"
      ]
     },
     "execution_count": 376,
     "metadata": {},
     "output_type": "execute_result"
    }
   ],
   "source": [
    "embt"
   ]
  },
  {
   "cell_type": "code",
   "execution_count": 430,
   "metadata": {},
   "outputs": [],
   "source": [
    "i = 0"
   ]
  },
  {
   "cell_type": "code",
   "execution_count": 431,
   "metadata": {},
   "outputs": [
    {
     "name": "stdout",
     "output_type": "stream",
     "text": [
      "0/50\n"
     ]
    },
    {
     "data": {
      "text/plain": [
       "<matplotlib.collections.PathCollection at 0x7fd08d1cd050>"
      ]
     },
     "execution_count": 431,
     "metadata": {},
     "output_type": "execute_result"
    },
    {
     "data": {
      "image/png": "[encoded data removed]",
      "text/plain": [
       "<Figure size 432x288 with 1 Axes>"
      ]
     },
     "metadata": {
      "needs_background": "light"
     },
     "output_type": "display_data"
    }
   ],
   "source": [
    "activ = dists.data.cpu()[i]\n",
    "# activ = activ - activ.min()\n",
    "# activ = torch.exp(-activ)\n",
    "print(f\"{i}/{len(dists)}\")\n",
    "i += 1\n",
    "# plt.scatter(embt[:,0], embt[:, 1], c=activ, marker=\".\")\n",
    "plt.scatter(embedding[:,0], embedding[:, 1], c=activ, s=np.maximum(activ*50, 0.5))#, cmap=\"Greys\")"
   ]
  },
  {
   "cell_type": "markdown",
   "metadata": {},
   "source": [
    "### Centroid Visualization"
   ]
  },
  {
   "cell_type": "code",
   "execution_count": null,
   "metadata": {},
   "outputs": [],
   "source": []
  }
 ],
 "metadata": {
  "kernelspec": {
   "display_name": "Python 3",
   "language": "python",
   "name": "python3"
  },
  "language_info": {
   "codemirror_mode": {
    "name": "ipython",
    "version": 3
   },
   "file_extension": ".py",
   "mimetype": "text/x-python",
   "name": "python",
   "nbconvert_exporter": "python",
   "pygments_lexer": "ipython3",
   "version": "3.7.4"
  }
 },
 "nbformat": 4,
 "nbformat_minor": 4
}
