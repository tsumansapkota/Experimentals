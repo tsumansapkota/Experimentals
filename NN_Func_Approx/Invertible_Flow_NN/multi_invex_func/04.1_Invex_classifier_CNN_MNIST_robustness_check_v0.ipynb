{
 "cells": [
  {
   "cell_type": "code",
   "execution_count": 1,
   "metadata": {},
   "outputs": [],
   "source": [
    "import numpy as np\n",
    "import matplotlib.pyplot as plt\n",
    "%matplotlib inline\n",
    "from mpl_toolkits.mplot3d import Axes3D\n",
    "\n",
    "import torch\n",
    "import torch.nn as nn\n",
    "import torch.optim as optim\n",
    "from torch.utils import data\n",
    "\n",
    "import random, os, pathlib, time\n",
    "from tqdm import tqdm\n",
    "from sklearn import datasets"
   ]
  },
  {
   "cell_type": "code",
   "execution_count": 2,
   "metadata": {},
   "outputs": [],
   "source": [
    "import nflib\n",
    "from nflib.flows import SequentialFlow, NormalizingFlow, ActNorm, ActNorm2D, AffineConstantFlow\n",
    "import nflib.coupling_flows as icf\n",
    "import nflib.inn_flow as inn\n",
    "import nflib.res_flow as irf"
   ]
  },
  {
   "cell_type": "code",
   "execution_count": 3,
   "metadata": {},
   "outputs": [],
   "source": [
    "from torch import distributions\n",
    "from torch.distributions import MultivariateNormal"
   ]
  },
  {
   "cell_type": "code",
   "execution_count": 4,
   "metadata": {},
   "outputs": [],
   "source": [
    "device = torch.device(\"cuda:1\")\n",
    "# device = torch.device(\"cpu\")"
   ]
  },
  {
   "cell_type": "markdown",
   "metadata": {},
   "source": [
    "## MNIST dataset"
   ]
  },
  {
   "cell_type": "code",
   "execution_count": 5,
   "metadata": {},
   "outputs": [],
   "source": [
    "import mylibrary.datasets as datasets\n",
    "# import mylibrary.nnlib as tnn"
   ]
  },
  {
   "cell_type": "code",
   "execution_count": 6,
   "metadata": {},
   "outputs": [],
   "source": [
    "mnist = datasets.FashionMNIST()\n",
    "# mnist.download_mnist()\n",
    "# mnist.save_mnist()\n",
    "train_data, train_label_, test_data, test_label_ = mnist.load()\n",
    "\n",
    "train_data = train_data / 255.\n",
    "test_data = test_data / 255.\n",
    "\n",
    "# train_label = tnn.Logits.index_to_logit(train_label_)\n",
    "train_size = len(train_label_)"
   ]
  },
  {
   "cell_type": "code",
   "execution_count": 7,
   "metadata": {},
   "outputs": [],
   "source": [
    "## converting data to pytorch format\n",
    "train_data = torch.Tensor(train_data)\n",
    "test_data = torch.Tensor(test_data)\n",
    "train_label = torch.LongTensor(train_label_)\n",
    "test_label = torch.LongTensor(test_label_)"
   ]
  },
  {
   "cell_type": "code",
   "execution_count": 8,
   "metadata": {},
   "outputs": [],
   "source": [
    "input_size = 784\n",
    "output_size = 10"
   ]
  },
  {
   "cell_type": "code",
   "execution_count": 9,
   "metadata": {},
   "outputs": [],
   "source": [
    "class MNIST_Dataset(data.Dataset):\n",
    "    \n",
    "    def __init__(self, data, label):\n",
    "        self.data = data.reshape(-1, 1, 28, 28)\n",
    "        self.label = label\n",
    "        \n",
    "#         self.label = mask.type(torch.float32).reshape(-1,1)\n",
    "        self._shuffle_data_()\n",
    "        \n",
    "    def __len__(self):\n",
    "        return len(self.data)\n",
    "    \n",
    "    def _shuffle_data_(self):\n",
    "        randidx = random.sample(range(len(self.data)), k=len(self.data))\n",
    "        self.data = self.data[randidx]\n",
    "        self.label = self.label[randidx]\n",
    "    \n",
    "    def __getitem__(self, idx):\n",
    "        img, lbl = self.data[idx], self.label[idx]\n",
    "        return img, lbl"
   ]
  },
  {
   "cell_type": "code",
   "execution_count": 10,
   "metadata": {},
   "outputs": [],
   "source": [
    "train_dataset = MNIST_Dataset(train_data, train_label)\n",
    "test_dataset = MNIST_Dataset(test_data, test_label)"
   ]
  },
  {
   "cell_type": "code",
   "execution_count": 11,
   "metadata": {},
   "outputs": [],
   "source": [
    "class ConnectedClassifier_Linear(nn.Module):\n",
    "    \n",
    "    def __init__(self,input_dim, num_sets, output_dim, inv_temp=1):\n",
    "        super().__init__()\n",
    "        self.input_dim = input_dim\n",
    "        self.output_dim = output_dim\n",
    "        self.num_sets = num_sets\n",
    "        self.inv_temp = nn.Parameter(torch.ones(1)*inv_temp)\n",
    "        \n",
    "        self.linear = nn.Linear(input_dim, num_sets)\n",
    "#         self.linear.bias.data *= 0\n",
    "#         self.linear.weight.data *= 0.1\n",
    "#         self.cls_weight = nn.Parameter(torch.randn(num_sets, output_dim)/output_dim)\n",
    "\n",
    "        init_val = torch.randn(num_sets, output_dim)*0.01\n",
    "        for ns in range(num_sets):\n",
    "            init_val[ns, ns%output_dim] = 0.1\n",
    "        self.cls_weight = nn.Parameter(init_val)\n",
    "        \n",
    "        self.cls_confidence = None\n",
    "        \n",
    "        \n",
    "    def forward(self, x, hard=False):\n",
    "#         self.cls_weight.data = torch.abs(self.cls_weight.data/self.cls_weight.data.sum(dim=1, keepdim=True))\n",
    "        \n",
    "        x = self.linear(x)\n",
    "        if hard:\n",
    "            x = torch.softmax(x*1e5, dim=1)\n",
    "        else:\n",
    "            x = torch.softmax(x*self.inv_temp, dim=1)\n",
    "        self.cls_confidence = x\n",
    "        c = torch.softmax(self.cls_weight, dim=1)\n",
    "#         c = self.cls_weight\n",
    "        return x@c ## since both are normalized, it is also normalized"
   ]
  },
  {
   "cell_type": "code",
   "execution_count": 12,
   "metadata": {},
   "outputs": [],
   "source": [
    "class ConnectedClassifier_SoftKMeans(nn.Module):\n",
    "    \n",
    "    def __init__(self,input_dim, num_sets, output_dim, inv_temp=1):\n",
    "        super().__init__()\n",
    "        self.input_dim = input_dim\n",
    "        self.output_dim = output_dim\n",
    "        self.num_sets = num_sets\n",
    "        self.inv_temp = nn.Parameter(torch.ones(1)*inv_temp)\n",
    "        \n",
    "        self.centers = nn.Parameter(torch.rand(num_sets, input_dim)*2-1)\n",
    "        \n",
    "#         self.cls_weight = nn.Parameter(torch.ones(num_sets, output_dim)/output_dim)\n",
    "\n",
    "        init_val = torch.randn(num_sets, output_dim)*0.01\n",
    "        for ns in range(num_sets):\n",
    "            init_val[ns, ns%output_dim] = 0.1\n",
    "        self.cls_weight = nn.Parameter(init_val)\n",
    "\n",
    "        self.cls_confidence = None\n",
    "        \n",
    "        \n",
    "    def forward(self, x, hard=False):\n",
    "#         self.cls_weight.data = torch.abs(self.cls_weight.data/self.cls_weight.data.sum(dim=1, keepdim=True))\n",
    "        \n",
    "        x = x[:, :self.input_dim]\n",
    "        dists = torch.cdist(x, self.centers)\n",
    "        dists = dists/np.sqrt(self.input_dim) ### correction to make diagonal of unit square 1 in nD space\n",
    "        \n",
    "        if hard:\n",
    "            x = torch.softmax(-dists*1e5, dim=1)\n",
    "        else:\n",
    "            x = torch.softmax(-dists*self.inv_temp, dim=1)\n",
    "        self.cls_confidence = x\n",
    "        c = torch.softmax(self.cls_weight, dim=1)\n",
    "#         c = self.cls_weight\n",
    "        return x@c ## since both are normalized, it is also normalized\n",
    "#         return torch.softmax(x@self.cls_weight, dim=1)"
   ]
  },
  {
   "cell_type": "code",
   "execution_count": 13,
   "metadata": {},
   "outputs": [],
   "source": [
    "# actf = irf.Swish\n",
    "# flows = [\n",
    "#     ActNorm(784),\n",
    "#     irf.ResidualFlow(784, [784], activation=actf),\n",
    "#     ActNorm(784),\n",
    "#     irf.ResidualFlow(784, [784], activation=actf),\n",
    "#     ActNorm(784),\n",
    "#         ]\n",
    "\n",
    "# model = SequentialFlow(flows)"
   ]
  },
  {
   "cell_type": "code",
   "execution_count": 14,
   "metadata": {},
   "outputs": [],
   "source": [
    "actf = irf.Swish\n",
    "flows = [\n",
    "    ActNorm2D(1),\n",
    "    irf.ConvResidualFlow(1, [16], activation=actf),\n",
    "    irf.InvertiblePooling(2),\n",
    "    ActNorm2D(4),\n",
    "    irf.ConvResidualFlow(4, [64], activation=actf),\n",
    "    irf.InvertiblePooling(2),\n",
    "    ActNorm2D(16),\n",
    "    irf.ConvResidualFlow(16, [64, 64], activation=actf),\n",
    "    irf.Flatten(img_size=(16, 7, 7))\n",
    "        ]\n",
    "\n",
    "model = SequentialFlow(flows)"
   ]
  },
  {
   "cell_type": "code",
   "execution_count": 15,
   "metadata": {},
   "outputs": [],
   "source": [
    "# model = nn.Sequential(nn.Linear(784, 784, bias=False),\n",
    "#                       nn.BatchNorm1d(784),\n",
    "#                       nn.SELU(),\n",
    "#                       nn.Linear(784, 784, bias=False),\n",
    "#                       nn.BatchNorm1d(784),\n",
    "#                       nn.SELU(),\n",
    "#                      )"
   ]
  },
  {
   "cell_type": "code",
   "execution_count": 16,
   "metadata": {},
   "outputs": [],
   "source": [
    "# model(torch.randn(3, 1, 28, 28)).shape"
   ]
  },
  {
   "cell_type": "code",
   "execution_count": 17,
   "metadata": {},
   "outputs": [
    {
     "data": {
      "text/plain": [
       "SequentialFlow(\n",
       "  (flows): ModuleList(\n",
       "    (0): ActNorm2D()\n",
       "    (1): ConvResidualFlow(\n",
       "      (resblock): ModuleList(\n",
       "        (0): Conv2d(1, 16, kernel_size=(3, 3), stride=(1, 1), padding=(1, 1))\n",
       "        (1): Swish()\n",
       "        (2): Conv2d(16, 1, kernel_size=(3, 3), stride=(1, 1), padding=(1, 1))\n",
       "      )\n",
       "    )\n",
       "    (2): InvertiblePooling()\n",
       "    (3): ActNorm2D()\n",
       "    (4): ConvResidualFlow(\n",
       "      (resblock): ModuleList(\n",
       "        (0): Conv2d(4, 64, kernel_size=(3, 3), stride=(1, 1), padding=(1, 1))\n",
       "        (1): Swish()\n",
       "        (2): Conv2d(64, 4, kernel_size=(3, 3), stride=(1, 1), padding=(1, 1))\n",
       "      )\n",
       "    )\n",
       "    (5): InvertiblePooling()\n",
       "    (6): ActNorm2D()\n",
       "    (7): ConvResidualFlow(\n",
       "      (resblock): ModuleList(\n",
       "        (0): Conv2d(16, 64, kernel_size=(3, 3), stride=(1, 1), padding=(1, 1))\n",
       "        (1): Swish()\n",
       "        (2): Conv2d(64, 64, kernel_size=(3, 3), stride=(1, 1), padding=(1, 1))\n",
       "        (3): Swish()\n",
       "        (4): Conv2d(64, 16, kernel_size=(3, 3), stride=(1, 1), padding=(1, 1))\n",
       "      )\n",
       "    )\n",
       "    (8): Flatten()\n",
       "  )\n",
       ")"
      ]
     },
     "execution_count": 17,
     "metadata": {},
     "output_type": "execute_result"
    }
   ],
   "source": [
    "model.to(device)"
   ]
  },
  {
   "cell_type": "code",
   "execution_count": 18,
   "metadata": {},
   "outputs": [],
   "source": [
    "classifier = ConnectedClassifier_SoftKMeans(784, 100, 10)\n",
    "# classifier = ConnectedClassifier_Softmax(784, 100, 10)\n",
    "classifier = classifier.to(device)"
   ]
  },
  {
   "cell_type": "markdown",
   "metadata": {},
   "source": [
    "## Model Train"
   ]
  },
  {
   "cell_type": "code",
   "execution_count": 19,
   "metadata": {},
   "outputs": [],
   "source": [
    "learning_rate = 0.0003\n",
    "batch_size = 50"
   ]
  },
  {
   "cell_type": "code",
   "execution_count": 20,
   "metadata": {},
   "outputs": [],
   "source": [
    "train_loader = data.DataLoader(dataset=train_dataset, num_workers=4, batch_size=batch_size, shuffle=True)\n",
    "test_loader = data.DataLoader(dataset=test_dataset, num_workers=4, batch_size=batch_size, shuffle=False)"
   ]
  },
  {
   "cell_type": "code",
   "execution_count": 21,
   "metadata": {},
   "outputs": [
    {
     "name": "stdout",
     "output_type": "stream",
     "text": [
      "number of params:  60467\n"
     ]
    }
   ],
   "source": [
    "# criterion = nn.NLLLoss()\n",
    "criterion = nn.CrossEntropyLoss()\n",
    "\n",
    "optimizer = optim.Adam(list(model.parameters())+list(classifier.parameters()), lr=learning_rate)\n",
    "# optimizer = optim.SGD(model.parameters(), lr=0.1)\n",
    "\n",
    "print(\"number of params: \", sum(p.numel() for p in model.parameters()))"
   ]
  },
  {
   "cell_type": "code",
   "execution_count": 22,
   "metadata": {},
   "outputs": [],
   "source": [
    "# for p in model.parameters():\n",
    "#     print(torch.isnan(p).type(torch.float32).sum())"
   ]
  },
  {
   "cell_type": "code",
   "execution_count": 23,
   "metadata": {},
   "outputs": [],
   "source": [
    "# model(torch.randn(10, 784).to(device)).shape"
   ]
  },
  {
   "cell_type": "code",
   "execution_count": 24,
   "metadata": {},
   "outputs": [
    {
     "data": {
      "text/plain": [
       "torch.Size([50, 1, 28, 28])"
      ]
     },
     "execution_count": 24,
     "metadata": {},
     "output_type": "execute_result"
    }
   ],
   "source": [
    "xx = iter(test_loader).next()[0]\n",
    "xx.shape"
   ]
  },
  {
   "cell_type": "code",
   "execution_count": 26,
   "metadata": {},
   "outputs": [],
   "source": [
    "losses = []\n",
    "train_accs = []\n",
    "test_accs = []\n",
    "EPOCHS = 50"
   ]
  },
  {
   "cell_type": "code",
   "execution_count": 27,
   "metadata": {
    "scrolled": false
   },
   "outputs": [
    {
     "name": "stderr",
     "output_type": "stream",
     "text": [
      "100%|██████████| 1200/1200 [00:12<00:00, 99.27it/s] \n",
      "  0%|          | 0/200 [00:00<?, ?it/s]"
     ]
    },
    {
     "name": "stdout",
     "output_type": "stream",
     "text": [
      "Epoch: 0:0,  Loss:2.2965710163116455\n"
     ]
    },
    {
     "name": "stderr",
     "output_type": "stream",
     "text": [
      "100%|██████████| 200/200 [00:00<00:00, 222.92it/s]\n",
      "  0%|          | 0/1200 [00:00<?, ?it/s]"
     ]
    },
    {
     "name": "stdout",
     "output_type": "stream",
     "text": [
      "Train Acc:22.62%, Test Acc:35.84%\n",
      "\n"
     ]
    },
    {
     "name": "stderr",
     "output_type": "stream",
     "text": [
      "100%|██████████| 1200/1200 [00:10<00:00, 110.00it/s]\n",
      "  0%|          | 0/200 [00:00<?, ?it/s]"
     ]
    },
    {
     "name": "stdout",
     "output_type": "stream",
     "text": [
      "Epoch: 1:0,  Loss:2.2472329139709473\n"
     ]
    },
    {
     "name": "stderr",
     "output_type": "stream",
     "text": [
      "100%|██████████| 200/200 [00:00<00:00, 208.36it/s]\n",
      "  0%|          | 0/1200 [00:00<?, ?it/s]"
     ]
    },
    {
     "name": "stdout",
     "output_type": "stream",
     "text": [
      "Train Acc:32.99%, Test Acc:31.31%\n",
      "\n"
     ]
    },
    {
     "name": "stderr",
     "output_type": "stream",
     "text": [
      "100%|██████████| 1200/1200 [00:10<00:00, 109.46it/s]\n",
      "  0%|          | 0/200 [00:00<?, ?it/s]"
     ]
    },
    {
     "name": "stdout",
     "output_type": "stream",
     "text": [
      "Epoch: 2:0,  Loss:2.1716580390930176\n"
     ]
    },
    {
     "name": "stderr",
     "output_type": "stream",
     "text": [
      "100%|██████████| 200/200 [00:00<00:00, 209.41it/s]\n",
      "  0%|          | 0/1200 [00:00<?, ?it/s]"
     ]
    },
    {
     "name": "stdout",
     "output_type": "stream",
     "text": [
      "Train Acc:40.92%, Test Acc:47.55%\n",
      "\n"
     ]
    },
    {
     "name": "stderr",
     "output_type": "stream",
     "text": [
      "100%|██████████| 1200/1200 [00:10<00:00, 109.87it/s]\n",
      "  0%|          | 0/200 [00:00<?, ?it/s]"
     ]
    },
    {
     "name": "stdout",
     "output_type": "stream",
     "text": [
      "Epoch: 3:0,  Loss:2.082125186920166\n"
     ]
    },
    {
     "name": "stderr",
     "output_type": "stream",
     "text": [
      "100%|██████████| 200/200 [00:00<00:00, 208.14it/s]\n",
      "  0%|          | 0/1200 [00:00<?, ?it/s]"
     ]
    },
    {
     "name": "stdout",
     "output_type": "stream",
     "text": [
      "Train Acc:55.36%, Test Acc:62.44%\n",
      "\n"
     ]
    },
    {
     "name": "stderr",
     "output_type": "stream",
     "text": [
      "100%|██████████| 1200/1200 [00:10<00:00, 109.99it/s]\n",
      "  0%|          | 0/200 [00:00<?, ?it/s]"
     ]
    },
    {
     "name": "stdout",
     "output_type": "stream",
     "text": [
      "Epoch: 4:0,  Loss:1.9444466829299927\n"
     ]
    },
    {
     "name": "stderr",
     "output_type": "stream",
     "text": [
      "100%|██████████| 200/200 [00:00<00:00, 209.52it/s]\n",
      "  0%|          | 0/1200 [00:00<?, ?it/s]"
     ]
    },
    {
     "name": "stdout",
     "output_type": "stream",
     "text": [
      "Train Acc:67.30%, Test Acc:71.46%\n",
      "\n"
     ]
    },
    {
     "name": "stderr",
     "output_type": "stream",
     "text": [
      "100%|██████████| 1200/1200 [00:10<00:00, 110.02it/s]\n",
      "  0%|          | 0/200 [00:00<?, ?it/s]"
     ]
    },
    {
     "name": "stdout",
     "output_type": "stream",
     "text": [
      "Epoch: 5:0,  Loss:1.7906897068023682\n"
     ]
    },
    {
     "name": "stderr",
     "output_type": "stream",
     "text": [
      "100%|██████████| 200/200 [00:00<00:00, 204.11it/s]\n",
      "  0%|          | 0/1200 [00:00<?, ?it/s]"
     ]
    },
    {
     "name": "stdout",
     "output_type": "stream",
     "text": [
      "Train Acc:77.04%, Test Acc:78.55%\n",
      "\n"
     ]
    },
    {
     "name": "stderr",
     "output_type": "stream",
     "text": [
      "100%|██████████| 1200/1200 [00:10<00:00, 109.88it/s]\n",
      "  0%|          | 0/200 [00:00<?, ?it/s]"
     ]
    },
    {
     "name": "stdout",
     "output_type": "stream",
     "text": [
      "Epoch: 6:0,  Loss:1.7427773475646973\n"
     ]
    },
    {
     "name": "stderr",
     "output_type": "stream",
     "text": [
      "100%|██████████| 200/200 [00:00<00:00, 205.85it/s]\n",
      "  0%|          | 0/1200 [00:00<?, ?it/s]"
     ]
    },
    {
     "name": "stdout",
     "output_type": "stream",
     "text": [
      "Train Acc:80.02%, Test Acc:79.83%\n",
      "\n"
     ]
    },
    {
     "name": "stderr",
     "output_type": "stream",
     "text": [
      "100%|██████████| 1200/1200 [00:10<00:00, 110.11it/s]\n",
      "  0%|          | 0/200 [00:00<?, ?it/s]"
     ]
    },
    {
     "name": "stdout",
     "output_type": "stream",
     "text": [
      "Epoch: 7:0,  Loss:1.7181074619293213\n"
     ]
    },
    {
     "name": "stderr",
     "output_type": "stream",
     "text": [
      "100%|██████████| 200/200 [00:00<00:00, 205.95it/s]\n",
      "  0%|          | 0/1200 [00:00<?, ?it/s]"
     ]
    },
    {
     "name": "stdout",
     "output_type": "stream",
     "text": [
      "Train Acc:81.14%, Test Acc:80.78%\n",
      "\n"
     ]
    },
    {
     "name": "stderr",
     "output_type": "stream",
     "text": [
      "100%|██████████| 1200/1200 [00:10<00:00, 110.17it/s]\n",
      "  0%|          | 0/200 [00:00<?, ?it/s]"
     ]
    },
    {
     "name": "stdout",
     "output_type": "stream",
     "text": [
      "Epoch: 8:0,  Loss:1.6762293577194214\n"
     ]
    },
    {
     "name": "stderr",
     "output_type": "stream",
     "text": [
      "100%|██████████| 200/200 [00:00<00:00, 203.93it/s]\n",
      "  0%|          | 0/1200 [00:00<?, ?it/s]"
     ]
    },
    {
     "name": "stdout",
     "output_type": "stream",
     "text": [
      "Train Acc:81.71%, Test Acc:81.22%\n",
      "\n"
     ]
    },
    {
     "name": "stderr",
     "output_type": "stream",
     "text": [
      "100%|██████████| 1200/1200 [00:10<00:00, 110.13it/s]\n",
      "  0%|          | 0/200 [00:00<?, ?it/s]"
     ]
    },
    {
     "name": "stdout",
     "output_type": "stream",
     "text": [
      "Epoch: 9:0,  Loss:1.748274326324463\n"
     ]
    },
    {
     "name": "stderr",
     "output_type": "stream",
     "text": [
      "100%|██████████| 200/200 [00:00<00:00, 212.85it/s]\n",
      "  0%|          | 0/1200 [00:00<?, ?it/s]"
     ]
    },
    {
     "name": "stdout",
     "output_type": "stream",
     "text": [
      "Train Acc:82.28%, Test Acc:81.61%\n",
      "\n"
     ]
    },
    {
     "name": "stderr",
     "output_type": "stream",
     "text": [
      "100%|██████████| 1200/1200 [00:10<00:00, 109.60it/s]\n",
      "  0%|          | 0/200 [00:00<?, ?it/s]"
     ]
    },
    {
     "name": "stdout",
     "output_type": "stream",
     "text": [
      "Epoch: 10:0,  Loss:1.611384391784668\n"
     ]
    },
    {
     "name": "stderr",
     "output_type": "stream",
     "text": [
      "100%|██████████| 200/200 [00:00<00:00, 207.50it/s]\n",
      "  0%|          | 0/1200 [00:00<?, ?it/s]"
     ]
    },
    {
     "name": "stdout",
     "output_type": "stream",
     "text": [
      "Train Acc:82.74%, Test Acc:82.53%\n",
      "\n"
     ]
    },
    {
     "name": "stderr",
     "output_type": "stream",
     "text": [
      "100%|██████████| 1200/1200 [00:10<00:00, 109.93it/s]\n",
      "  0%|          | 0/200 [00:00<?, ?it/s]"
     ]
    },
    {
     "name": "stdout",
     "output_type": "stream",
     "text": [
      "Epoch: 11:0,  Loss:1.6488560438156128\n"
     ]
    },
    {
     "name": "stderr",
     "output_type": "stream",
     "text": [
      "100%|██████████| 200/200 [00:00<00:00, 208.45it/s]\n",
      "  0%|          | 0/1200 [00:00<?, ?it/s]"
     ]
    },
    {
     "name": "stdout",
     "output_type": "stream",
     "text": [
      "Train Acc:83.18%, Test Acc:82.71%\n",
      "\n"
     ]
    },
    {
     "name": "stderr",
     "output_type": "stream",
     "text": [
      "100%|██████████| 1200/1200 [00:10<00:00, 109.95it/s]\n",
      "  0%|          | 0/200 [00:00<?, ?it/s]"
     ]
    },
    {
     "name": "stdout",
     "output_type": "stream",
     "text": [
      "Epoch: 12:0,  Loss:1.6494359970092773\n"
     ]
    },
    {
     "name": "stderr",
     "output_type": "stream",
     "text": [
      "100%|██████████| 200/200 [00:00<00:00, 211.04it/s]\n",
      "  0%|          | 0/1200 [00:00<?, ?it/s]"
     ]
    },
    {
     "name": "stdout",
     "output_type": "stream",
     "text": [
      "Train Acc:85.09%, Test Acc:85.27%\n",
      "\n"
     ]
    },
    {
     "name": "stderr",
     "output_type": "stream",
     "text": [
      "100%|██████████| 1200/1200 [00:10<00:00, 109.83it/s]\n",
      "  0%|          | 0/200 [00:00<?, ?it/s]"
     ]
    },
    {
     "name": "stdout",
     "output_type": "stream",
     "text": [
      "Epoch: 13:0,  Loss:1.6051931381225586\n"
     ]
    },
    {
     "name": "stderr",
     "output_type": "stream",
     "text": [
      "100%|██████████| 200/200 [00:00<00:00, 204.05it/s]\n",
      "  0%|          | 0/1200 [00:00<?, ?it/s]"
     ]
    },
    {
     "name": "stdout",
     "output_type": "stream",
     "text": [
      "Train Acc:86.27%, Test Acc:86.00%\n",
      "\n"
     ]
    },
    {
     "name": "stderr",
     "output_type": "stream",
     "text": [
      "100%|██████████| 1200/1200 [00:10<00:00, 109.31it/s]\n",
      "  0%|          | 0/200 [00:00<?, ?it/s]"
     ]
    },
    {
     "name": "stdout",
     "output_type": "stream",
     "text": [
      "Epoch: 14:0,  Loss:1.595191478729248\n"
     ]
    },
    {
     "name": "stderr",
     "output_type": "stream",
     "text": [
      "100%|██████████| 200/200 [00:00<00:00, 206.73it/s]\n",
      "  0%|          | 0/1200 [00:00<?, ?it/s]"
     ]
    },
    {
     "name": "stdout",
     "output_type": "stream",
     "text": [
      "Train Acc:86.88%, Test Acc:86.54%\n",
      "\n"
     ]
    },
    {
     "name": "stderr",
     "output_type": "stream",
     "text": [
      "100%|██████████| 1200/1200 [00:10<00:00, 109.85it/s]\n",
      "  0%|          | 0/200 [00:00<?, ?it/s]"
     ]
    },
    {
     "name": "stdout",
     "output_type": "stream",
     "text": [
      "Epoch: 15:0,  Loss:1.5706875324249268\n"
     ]
    },
    {
     "name": "stderr",
     "output_type": "stream",
     "text": [
      "100%|██████████| 200/200 [00:00<00:00, 212.47it/s]\n",
      "  0%|          | 0/1200 [00:00<?, ?it/s]"
     ]
    },
    {
     "name": "stdout",
     "output_type": "stream",
     "text": [
      "Train Acc:87.27%, Test Acc:86.38%\n",
      "\n"
     ]
    },
    {
     "name": "stderr",
     "output_type": "stream",
     "text": [
      "100%|██████████| 1200/1200 [00:10<00:00, 109.39it/s]\n",
      "  0%|          | 0/200 [00:00<?, ?it/s]"
     ]
    },
    {
     "name": "stdout",
     "output_type": "stream",
     "text": [
      "Epoch: 16:0,  Loss:1.6784493923187256\n"
     ]
    },
    {
     "name": "stderr",
     "output_type": "stream",
     "text": [
      "100%|██████████| 200/200 [00:00<00:00, 201.77it/s]\n",
      "  0%|          | 0/1200 [00:00<?, ?it/s]"
     ]
    },
    {
     "name": "stdout",
     "output_type": "stream",
     "text": [
      "Train Acc:87.54%, Test Acc:86.83%\n",
      "\n"
     ]
    },
    {
     "name": "stderr",
     "output_type": "stream",
     "text": [
      "100%|██████████| 1200/1200 [00:10<00:00, 109.76it/s]\n",
      "  0%|          | 0/200 [00:00<?, ?it/s]"
     ]
    },
    {
     "name": "stdout",
     "output_type": "stream",
     "text": [
      "Epoch: 17:0,  Loss:1.5549932718276978\n"
     ]
    },
    {
     "name": "stderr",
     "output_type": "stream",
     "text": [
      "100%|██████████| 200/200 [00:00<00:00, 202.23it/s]\n",
      "  0%|          | 0/1200 [00:00<?, ?it/s]"
     ]
    },
    {
     "name": "stdout",
     "output_type": "stream",
     "text": [
      "Train Acc:88.06%, Test Acc:87.81%\n",
      "\n"
     ]
    },
    {
     "name": "stderr",
     "output_type": "stream",
     "text": [
      "100%|██████████| 1200/1200 [00:10<00:00, 109.93it/s]\n",
      "  0%|          | 0/200 [00:00<?, ?it/s]"
     ]
    },
    {
     "name": "stdout",
     "output_type": "stream",
     "text": [
      "Epoch: 18:0,  Loss:1.5489935874938965\n"
     ]
    },
    {
     "name": "stderr",
     "output_type": "stream",
     "text": [
      "100%|██████████| 200/200 [00:00<00:00, 207.71it/s]\n",
      "  0%|          | 0/1200 [00:00<?, ?it/s]"
     ]
    },
    {
     "name": "stdout",
     "output_type": "stream",
     "text": [
      "Train Acc:88.48%, Test Acc:88.27%\n",
      "\n"
     ]
    },
    {
     "name": "stderr",
     "output_type": "stream",
     "text": [
      "100%|██████████| 1200/1200 [00:10<00:00, 109.66it/s]\n",
      "  0%|          | 0/200 [00:00<?, ?it/s]"
     ]
    },
    {
     "name": "stdout",
     "output_type": "stream",
     "text": [
      "Epoch: 19:0,  Loss:1.5223302841186523\n"
     ]
    },
    {
     "name": "stderr",
     "output_type": "stream",
     "text": [
      "100%|██████████| 200/200 [00:00<00:00, 208.31it/s]\n",
      "  0%|          | 0/1200 [00:00<?, ?it/s]"
     ]
    },
    {
     "name": "stdout",
     "output_type": "stream",
     "text": [
      "Train Acc:88.95%, Test Acc:88.60%\n",
      "\n"
     ]
    },
    {
     "name": "stderr",
     "output_type": "stream",
     "text": [
      "100%|██████████| 1200/1200 [00:10<00:00, 109.85it/s]\n",
      "  0%|          | 0/200 [00:00<?, ?it/s]"
     ]
    },
    {
     "name": "stdout",
     "output_type": "stream",
     "text": [
      "Epoch: 20:0,  Loss:1.6003624200820923\n"
     ]
    },
    {
     "name": "stderr",
     "output_type": "stream",
     "text": [
      "100%|██████████| 200/200 [00:00<00:00, 209.67it/s]\n",
      "  0%|          | 0/1200 [00:00<?, ?it/s]"
     ]
    },
    {
     "name": "stdout",
     "output_type": "stream",
     "text": [
      "Train Acc:89.59%, Test Acc:88.97%\n",
      "\n"
     ]
    },
    {
     "name": "stderr",
     "output_type": "stream",
     "text": [
      "100%|██████████| 1200/1200 [00:10<00:00, 109.70it/s]\n",
      "  0%|          | 0/200 [00:00<?, ?it/s]"
     ]
    },
    {
     "name": "stdout",
     "output_type": "stream",
     "text": [
      "Epoch: 21:0,  Loss:1.5831204652786255\n"
     ]
    },
    {
     "name": "stderr",
     "output_type": "stream",
     "text": [
      "100%|██████████| 200/200 [00:00<00:00, 206.52it/s]\n",
      "  0%|          | 0/1200 [00:00<?, ?it/s]"
     ]
    },
    {
     "name": "stdout",
     "output_type": "stream",
     "text": [
      "Train Acc:89.98%, Test Acc:89.59%\n",
      "\n"
     ]
    },
    {
     "name": "stderr",
     "output_type": "stream",
     "text": [
      "100%|██████████| 1200/1200 [00:10<00:00, 109.58it/s]\n",
      "  0%|          | 0/200 [00:00<?, ?it/s]"
     ]
    },
    {
     "name": "stdout",
     "output_type": "stream",
     "text": [
      "Epoch: 22:0,  Loss:1.5807907581329346\n"
     ]
    },
    {
     "name": "stderr",
     "output_type": "stream",
     "text": [
      "100%|██████████| 200/200 [00:00<00:00, 214.78it/s]\n",
      "  0%|          | 0/1200 [00:00<?, ?it/s]"
     ]
    },
    {
     "name": "stdout",
     "output_type": "stream",
     "text": [
      "Train Acc:90.16%, Test Acc:89.02%\n",
      "\n"
     ]
    },
    {
     "name": "stderr",
     "output_type": "stream",
     "text": [
      "100%|██████████| 1200/1200 [00:10<00:00, 110.10it/s]\n",
      "  0%|          | 0/200 [00:00<?, ?it/s]"
     ]
    },
    {
     "name": "stdout",
     "output_type": "stream",
     "text": [
      "Epoch: 23:0,  Loss:1.5413240194320679\n"
     ]
    },
    {
     "name": "stderr",
     "output_type": "stream",
     "text": [
      "100%|██████████| 200/200 [00:00<00:00, 205.87it/s]\n",
      "  0%|          | 0/1200 [00:00<?, ?it/s]"
     ]
    },
    {
     "name": "stdout",
     "output_type": "stream",
     "text": [
      "Train Acc:90.45%, Test Acc:89.77%\n",
      "\n"
     ]
    },
    {
     "name": "stderr",
     "output_type": "stream",
     "text": [
      "100%|██████████| 1200/1200 [00:10<00:00, 109.95it/s]\n",
      "  0%|          | 0/200 [00:00<?, ?it/s]"
     ]
    },
    {
     "name": "stdout",
     "output_type": "stream",
     "text": [
      "Epoch: 24:0,  Loss:1.5877796411514282\n"
     ]
    },
    {
     "name": "stderr",
     "output_type": "stream",
     "text": [
      "100%|██████████| 200/200 [00:00<00:00, 207.82it/s]\n",
      "  0%|          | 0/1200 [00:00<?, ?it/s]"
     ]
    },
    {
     "name": "stdout",
     "output_type": "stream",
     "text": [
      "Train Acc:90.66%, Test Acc:89.63%\n",
      "\n"
     ]
    },
    {
     "name": "stderr",
     "output_type": "stream",
     "text": [
      "100%|██████████| 1200/1200 [00:11<00:00, 109.02it/s]\n",
      "  0%|          | 0/200 [00:00<?, ?it/s]"
     ]
    },
    {
     "name": "stdout",
     "output_type": "stream",
     "text": [
      "Epoch: 25:0,  Loss:1.5305677652359009\n"
     ]
    },
    {
     "name": "stderr",
     "output_type": "stream",
     "text": [
      "100%|██████████| 200/200 [00:00<00:00, 207.22it/s]\n",
      "  0%|          | 0/1200 [00:00<?, ?it/s]"
     ]
    },
    {
     "name": "stdout",
     "output_type": "stream",
     "text": [
      "Train Acc:90.86%, Test Acc:89.26%\n",
      "\n"
     ]
    },
    {
     "name": "stderr",
     "output_type": "stream",
     "text": [
      "100%|██████████| 1200/1200 [00:10<00:00, 109.80it/s]\n",
      "  0%|          | 0/200 [00:00<?, ?it/s]"
     ]
    },
    {
     "name": "stdout",
     "output_type": "stream",
     "text": [
      "Epoch: 26:0,  Loss:1.5596085786819458\n"
     ]
    },
    {
     "name": "stderr",
     "output_type": "stream",
     "text": [
      "100%|██████████| 200/200 [00:00<00:00, 204.66it/s]\n",
      "  0%|          | 0/1200 [00:00<?, ?it/s]"
     ]
    },
    {
     "name": "stdout",
     "output_type": "stream",
     "text": [
      "Train Acc:90.94%, Test Acc:89.92%\n",
      "\n"
     ]
    },
    {
     "name": "stderr",
     "output_type": "stream",
     "text": [
      "100%|██████████| 1200/1200 [00:10<00:00, 109.62it/s]\n",
      "  0%|          | 0/200 [00:00<?, ?it/s]"
     ]
    },
    {
     "name": "stdout",
     "output_type": "stream",
     "text": [
      "Epoch: 27:0,  Loss:1.5271220207214355\n"
     ]
    },
    {
     "name": "stderr",
     "output_type": "stream",
     "text": [
      "100%|██████████| 200/200 [00:01<00:00, 193.11it/s]\n",
      "  0%|          | 0/1200 [00:00<?, ?it/s]"
     ]
    },
    {
     "name": "stdout",
     "output_type": "stream",
     "text": [
      "Train Acc:91.25%, Test Acc:90.36%\n",
      "\n"
     ]
    },
    {
     "name": "stderr",
     "output_type": "stream",
     "text": [
      "100%|██████████| 1200/1200 [00:10<00:00, 110.09it/s]\n",
      "  0%|          | 0/200 [00:00<?, ?it/s]"
     ]
    },
    {
     "name": "stdout",
     "output_type": "stream",
     "text": [
      "Epoch: 28:0,  Loss:1.550388216972351\n"
     ]
    },
    {
     "name": "stderr",
     "output_type": "stream",
     "text": [
      "100%|██████████| 200/200 [00:00<00:00, 209.18it/s]\n",
      "  0%|          | 0/1200 [00:00<?, ?it/s]"
     ]
    },
    {
     "name": "stdout",
     "output_type": "stream",
     "text": [
      "Train Acc:91.40%, Test Acc:90.46%\n",
      "\n"
     ]
    },
    {
     "name": "stderr",
     "output_type": "stream",
     "text": [
      "100%|██████████| 1200/1200 [00:10<00:00, 110.22it/s]\n",
      "  0%|          | 0/200 [00:00<?, ?it/s]"
     ]
    },
    {
     "name": "stdout",
     "output_type": "stream",
     "text": [
      "Epoch: 29:0,  Loss:1.5624693632125854\n"
     ]
    },
    {
     "name": "stderr",
     "output_type": "stream",
     "text": [
      "100%|██████████| 200/200 [00:00<00:00, 206.94it/s]\n",
      "  0%|          | 0/1200 [00:00<?, ?it/s]"
     ]
    },
    {
     "name": "stdout",
     "output_type": "stream",
     "text": [
      "Train Acc:91.59%, Test Acc:90.57%\n",
      "\n"
     ]
    },
    {
     "name": "stderr",
     "output_type": "stream",
     "text": [
      "100%|██████████| 1200/1200 [00:10<00:00, 109.65it/s]\n",
      "  0%|          | 0/200 [00:00<?, ?it/s]"
     ]
    },
    {
     "name": "stdout",
     "output_type": "stream",
     "text": [
      "Epoch: 30:0,  Loss:1.4967538118362427\n"
     ]
    },
    {
     "name": "stderr",
     "output_type": "stream",
     "text": [
      "100%|██████████| 200/200 [00:00<00:00, 208.42it/s]\n",
      "  0%|          | 0/1200 [00:00<?, ?it/s]"
     ]
    },
    {
     "name": "stdout",
     "output_type": "stream",
     "text": [
      "Train Acc:91.71%, Test Acc:90.43%\n",
      "\n"
     ]
    },
    {
     "name": "stderr",
     "output_type": "stream",
     "text": [
      "100%|██████████| 1200/1200 [00:10<00:00, 109.86it/s]\n",
      "  0%|          | 0/200 [00:00<?, ?it/s]"
     ]
    },
    {
     "name": "stdout",
     "output_type": "stream",
     "text": [
      "Epoch: 31:0,  Loss:1.6004054546356201\n"
     ]
    },
    {
     "name": "stderr",
     "output_type": "stream",
     "text": [
      "100%|██████████| 200/200 [00:00<00:00, 202.28it/s]\n",
      "  0%|          | 0/1200 [00:00<?, ?it/s]"
     ]
    },
    {
     "name": "stdout",
     "output_type": "stream",
     "text": [
      "Train Acc:91.87%, Test Acc:90.41%\n",
      "\n"
     ]
    },
    {
     "name": "stderr",
     "output_type": "stream",
     "text": [
      "100%|██████████| 1200/1200 [00:10<00:00, 109.51it/s]\n",
      "  0%|          | 0/200 [00:00<?, ?it/s]"
     ]
    },
    {
     "name": "stdout",
     "output_type": "stream",
     "text": [
      "Epoch: 32:0,  Loss:1.582597255706787\n"
     ]
    },
    {
     "name": "stderr",
     "output_type": "stream",
     "text": [
      "100%|██████████| 200/200 [00:01<00:00, 198.31it/s]\n",
      "  0%|          | 0/1200 [00:00<?, ?it/s]"
     ]
    },
    {
     "name": "stdout",
     "output_type": "stream",
     "text": [
      "Train Acc:91.97%, Test Acc:90.15%\n",
      "\n"
     ]
    },
    {
     "name": "stderr",
     "output_type": "stream",
     "text": [
      "100%|██████████| 1200/1200 [00:10<00:00, 109.34it/s]\n",
      "  0%|          | 0/200 [00:00<?, ?it/s]"
     ]
    },
    {
     "name": "stdout",
     "output_type": "stream",
     "text": [
      "Epoch: 33:0,  Loss:1.5071167945861816\n"
     ]
    },
    {
     "name": "stderr",
     "output_type": "stream",
     "text": [
      "100%|██████████| 200/200 [00:00<00:00, 202.82it/s]\n",
      "  0%|          | 0/1200 [00:00<?, ?it/s]"
     ]
    },
    {
     "name": "stdout",
     "output_type": "stream",
     "text": [
      "Train Acc:92.14%, Test Acc:90.85%\n",
      "\n"
     ]
    },
    {
     "name": "stderr",
     "output_type": "stream",
     "text": [
      "100%|██████████| 1200/1200 [00:10<00:00, 109.92it/s]\n",
      "  0%|          | 0/200 [00:00<?, ?it/s]"
     ]
    },
    {
     "name": "stdout",
     "output_type": "stream",
     "text": [
      "Epoch: 34:0,  Loss:1.5001825094223022\n"
     ]
    },
    {
     "name": "stderr",
     "output_type": "stream",
     "text": [
      "100%|██████████| 200/200 [00:00<00:00, 209.40it/s]\n",
      "  0%|          | 0/1200 [00:00<?, ?it/s]"
     ]
    },
    {
     "name": "stdout",
     "output_type": "stream",
     "text": [
      "Train Acc:92.21%, Test Acc:90.19%\n",
      "\n"
     ]
    },
    {
     "name": "stderr",
     "output_type": "stream",
     "text": [
      "100%|██████████| 1200/1200 [00:10<00:00, 109.80it/s]\n",
      "  0%|          | 0/200 [00:00<?, ?it/s]"
     ]
    },
    {
     "name": "stdout",
     "output_type": "stream",
     "text": [
      "Epoch: 35:0,  Loss:1.537244439125061\n"
     ]
    },
    {
     "name": "stderr",
     "output_type": "stream",
     "text": [
      "100%|██████████| 200/200 [00:00<00:00, 201.67it/s]\n",
      "  0%|          | 0/1200 [00:00<?, ?it/s]"
     ]
    },
    {
     "name": "stdout",
     "output_type": "stream",
     "text": [
      "Train Acc:92.42%, Test Acc:91.20%\n",
      "\n"
     ]
    },
    {
     "name": "stderr",
     "output_type": "stream",
     "text": [
      "100%|██████████| 1200/1200 [00:10<00:00, 109.65it/s]\n",
      "  0%|          | 0/200 [00:00<?, ?it/s]"
     ]
    },
    {
     "name": "stdout",
     "output_type": "stream",
     "text": [
      "Epoch: 36:0,  Loss:1.5314174890518188\n"
     ]
    },
    {
     "name": "stderr",
     "output_type": "stream",
     "text": [
      "100%|██████████| 200/200 [00:00<00:00, 211.60it/s]\n",
      "  0%|          | 0/1200 [00:00<?, ?it/s]"
     ]
    },
    {
     "name": "stdout",
     "output_type": "stream",
     "text": [
      "Train Acc:92.49%, Test Acc:90.97%\n",
      "\n"
     ]
    },
    {
     "name": "stderr",
     "output_type": "stream",
     "text": [
      "100%|██████████| 1200/1200 [00:10<00:00, 109.99it/s]\n",
      "  0%|          | 0/200 [00:00<?, ?it/s]"
     ]
    },
    {
     "name": "stdout",
     "output_type": "stream",
     "text": [
      "Epoch: 37:0,  Loss:1.5352544784545898\n"
     ]
    },
    {
     "name": "stderr",
     "output_type": "stream",
     "text": [
      "100%|██████████| 200/200 [00:01<00:00, 198.37it/s]\n",
      "  0%|          | 0/1200 [00:00<?, ?it/s]"
     ]
    },
    {
     "name": "stdout",
     "output_type": "stream",
     "text": [
      "Train Acc:92.73%, Test Acc:91.21%\n",
      "\n"
     ]
    },
    {
     "name": "stderr",
     "output_type": "stream",
     "text": [
      "100%|██████████| 1200/1200 [00:10<00:00, 111.45it/s]\n",
      "  0%|          | 0/200 [00:00<?, ?it/s]"
     ]
    },
    {
     "name": "stdout",
     "output_type": "stream",
     "text": [
      "Epoch: 38:0,  Loss:1.5279300212860107\n"
     ]
    },
    {
     "name": "stderr",
     "output_type": "stream",
     "text": [
      "100%|██████████| 200/200 [00:00<00:00, 219.58it/s]\n",
      "  0%|          | 0/1200 [00:00<?, ?it/s]"
     ]
    },
    {
     "name": "stdout",
     "output_type": "stream",
     "text": [
      "Train Acc:92.70%, Test Acc:91.23%\n",
      "\n"
     ]
    },
    {
     "name": "stderr",
     "output_type": "stream",
     "text": [
      "100%|██████████| 1200/1200 [00:10<00:00, 114.27it/s]\n",
      "  0%|          | 0/200 [00:00<?, ?it/s]"
     ]
    },
    {
     "name": "stdout",
     "output_type": "stream",
     "text": [
      "Epoch: 39:0,  Loss:1.4634608030319214\n"
     ]
    },
    {
     "name": "stderr",
     "output_type": "stream",
     "text": [
      "100%|██████████| 200/200 [00:00<00:00, 220.70it/s]\n",
      "  0%|          | 0/1200 [00:00<?, ?it/s]"
     ]
    },
    {
     "name": "stdout",
     "output_type": "stream",
     "text": [
      "Train Acc:92.85%, Test Acc:91.14%\n",
      "\n"
     ]
    },
    {
     "name": "stderr",
     "output_type": "stream",
     "text": [
      "100%|██████████| 1200/1200 [00:10<00:00, 114.86it/s]\n",
      "  0%|          | 0/200 [00:00<?, ?it/s]"
     ]
    },
    {
     "name": "stdout",
     "output_type": "stream",
     "text": [
      "Epoch: 40:0,  Loss:1.5826213359832764\n"
     ]
    },
    {
     "name": "stderr",
     "output_type": "stream",
     "text": [
      "100%|██████████| 200/200 [00:00<00:00, 218.49it/s]\n",
      "  0%|          | 0/1200 [00:00<?, ?it/s]"
     ]
    },
    {
     "name": "stdout",
     "output_type": "stream",
     "text": [
      "Train Acc:93.03%, Test Acc:91.17%\n",
      "\n"
     ]
    },
    {
     "name": "stderr",
     "output_type": "stream",
     "text": [
      "100%|██████████| 1200/1200 [00:10<00:00, 112.42it/s]\n",
      "  0%|          | 0/200 [00:00<?, ?it/s]"
     ]
    },
    {
     "name": "stdout",
     "output_type": "stream",
     "text": [
      "Epoch: 41:0,  Loss:1.526139259338379\n"
     ]
    },
    {
     "name": "stderr",
     "output_type": "stream",
     "text": [
      "100%|██████████| 200/200 [00:00<00:00, 218.94it/s]\n",
      "  0%|          | 0/1200 [00:00<?, ?it/s]"
     ]
    },
    {
     "name": "stdout",
     "output_type": "stream",
     "text": [
      "Train Acc:93.18%, Test Acc:91.51%\n",
      "\n"
     ]
    },
    {
     "name": "stderr",
     "output_type": "stream",
     "text": [
      "100%|██████████| 1200/1200 [00:10<00:00, 113.53it/s]\n",
      "  0%|          | 0/200 [00:00<?, ?it/s]"
     ]
    },
    {
     "name": "stdout",
     "output_type": "stream",
     "text": [
      "Epoch: 42:0,  Loss:1.5915091037750244\n"
     ]
    },
    {
     "name": "stderr",
     "output_type": "stream",
     "text": [
      "100%|██████████| 200/200 [00:00<00:00, 216.31it/s]\n",
      "  0%|          | 0/1200 [00:00<?, ?it/s]"
     ]
    },
    {
     "name": "stdout",
     "output_type": "stream",
     "text": [
      "Train Acc:93.29%, Test Acc:91.64%\n",
      "\n"
     ]
    },
    {
     "name": "stderr",
     "output_type": "stream",
     "text": [
      "100%|██████████| 1200/1200 [00:10<00:00, 114.47it/s]\n",
      "  0%|          | 0/200 [00:00<?, ?it/s]"
     ]
    },
    {
     "name": "stdout",
     "output_type": "stream",
     "text": [
      "Epoch: 43:0,  Loss:1.5755573511123657\n"
     ]
    },
    {
     "name": "stderr",
     "output_type": "stream",
     "text": [
      "100%|██████████| 200/200 [00:00<00:00, 215.48it/s]\n",
      "  0%|          | 0/1200 [00:00<?, ?it/s]"
     ]
    },
    {
     "name": "stdout",
     "output_type": "stream",
     "text": [
      "Train Acc:93.34%, Test Acc:91.14%\n",
      "\n"
     ]
    },
    {
     "name": "stderr",
     "output_type": "stream",
     "text": [
      "100%|██████████| 1200/1200 [00:10<00:00, 113.77it/s]\n",
      "  0%|          | 0/200 [00:00<?, ?it/s]"
     ]
    },
    {
     "name": "stdout",
     "output_type": "stream",
     "text": [
      "Epoch: 44:0,  Loss:1.53287672996521\n"
     ]
    },
    {
     "name": "stderr",
     "output_type": "stream",
     "text": [
      "100%|██████████| 200/200 [00:00<00:00, 221.28it/s]\n",
      "  0%|          | 0/1200 [00:00<?, ?it/s]"
     ]
    },
    {
     "name": "stdout",
     "output_type": "stream",
     "text": [
      "Train Acc:93.41%, Test Acc:91.40%\n",
      "\n"
     ]
    },
    {
     "name": "stderr",
     "output_type": "stream",
     "text": [
      "100%|██████████| 1200/1200 [00:10<00:00, 113.66it/s]\n",
      "  0%|          | 0/200 [00:00<?, ?it/s]"
     ]
    },
    {
     "name": "stdout",
     "output_type": "stream",
     "text": [
      "Epoch: 45:0,  Loss:1.546945333480835\n"
     ]
    },
    {
     "name": "stderr",
     "output_type": "stream",
     "text": [
      "100%|██████████| 200/200 [00:00<00:00, 221.24it/s]\n",
      "  0%|          | 0/1200 [00:00<?, ?it/s]"
     ]
    },
    {
     "name": "stdout",
     "output_type": "stream",
     "text": [
      "Train Acc:93.59%, Test Acc:91.75%\n",
      "\n"
     ]
    },
    {
     "name": "stderr",
     "output_type": "stream",
     "text": [
      "100%|██████████| 1200/1200 [00:10<00:00, 114.01it/s]\n",
      "  0%|          | 0/200 [00:00<?, ?it/s]"
     ]
    },
    {
     "name": "stdout",
     "output_type": "stream",
     "text": [
      "Epoch: 46:0,  Loss:1.5353235006332397\n"
     ]
    },
    {
     "name": "stderr",
     "output_type": "stream",
     "text": [
      "100%|██████████| 200/200 [00:00<00:00, 218.91it/s]\n",
      "  0%|          | 0/1200 [00:00<?, ?it/s]"
     ]
    },
    {
     "name": "stdout",
     "output_type": "stream",
     "text": [
      "Train Acc:93.69%, Test Acc:91.16%\n",
      "\n"
     ]
    },
    {
     "name": "stderr",
     "output_type": "stream",
     "text": [
      "100%|██████████| 1200/1200 [00:10<00:00, 112.69it/s]\n",
      "  0%|          | 0/200 [00:00<?, ?it/s]"
     ]
    },
    {
     "name": "stdout",
     "output_type": "stream",
     "text": [
      "Epoch: 47:0,  Loss:1.573116421699524\n"
     ]
    },
    {
     "name": "stderr",
     "output_type": "stream",
     "text": [
      "100%|██████████| 200/200 [00:00<00:00, 224.68it/s]\n",
      "  0%|          | 0/1200 [00:00<?, ?it/s]"
     ]
    },
    {
     "name": "stdout",
     "output_type": "stream",
     "text": [
      "Train Acc:93.88%, Test Acc:91.46%\n",
      "\n"
     ]
    },
    {
     "name": "stderr",
     "output_type": "stream",
     "text": [
      "100%|██████████| 1200/1200 [00:10<00:00, 113.29it/s]\n",
      "  0%|          | 0/200 [00:00<?, ?it/s]"
     ]
    },
    {
     "name": "stdout",
     "output_type": "stream",
     "text": [
      "Epoch: 48:0,  Loss:1.5196865797042847\n"
     ]
    },
    {
     "name": "stderr",
     "output_type": "stream",
     "text": [
      "100%|██████████| 200/200 [00:00<00:00, 214.36it/s]\n",
      "  0%|          | 0/1200 [00:00<?, ?it/s]"
     ]
    },
    {
     "name": "stdout",
     "output_type": "stream",
     "text": [
      "Train Acc:93.88%, Test Acc:91.47%\n",
      "\n"
     ]
    },
    {
     "name": "stderr",
     "output_type": "stream",
     "text": [
      "100%|██████████| 1200/1200 [00:10<00:00, 112.80it/s]\n",
      "  0%|          | 0/200 [00:00<?, ?it/s]"
     ]
    },
    {
     "name": "stdout",
     "output_type": "stream",
     "text": [
      "Epoch: 49:0,  Loss:1.509291410446167\n"
     ]
    },
    {
     "name": "stderr",
     "output_type": "stream",
     "text": [
      "100%|██████████| 200/200 [00:00<00:00, 218.67it/s]"
     ]
    },
    {
     "name": "stdout",
     "output_type": "stream",
     "text": [
      "Train Acc:93.91%, Test Acc:91.69%\n",
      "\n",
      "\t-> Train Acc 93.91166666666668 ; Test Acc 91.75\n"
     ]
    },
    {
     "name": "stderr",
     "output_type": "stream",
     "text": [
      "\n"
     ]
    }
   ],
   "source": [
    "index = 0\n",
    "for epoch in range(EPOCHS):\n",
    "    train_acc = 0\n",
    "    train_count = 0\n",
    "    for xx, yy in tqdm(train_loader):\n",
    "        xx, yy = xx.to(device), yy.to(device)\n",
    "#     for xx, yy in tqdm(test_loader):\n",
    "\n",
    "        yout = model(xx)\n",
    "#         print(yout)\n",
    "        yout = classifier(yout)    \n",
    "#         print(yout)\n",
    "        loss = criterion(yout, yy)\n",
    "        optimizer.zero_grad()\n",
    "        loss.backward()\n",
    "        optimizer.step()\n",
    "\n",
    "        losses.append(float(loss))\n",
    "\n",
    "        outputs = torch.argmax(yout, dim=1).data.cpu().numpy()\n",
    "        correct = (outputs == yy.data.cpu().numpy()).astype(float).sum()\n",
    "        train_acc += correct\n",
    "        train_count += len(outputs)\n",
    "#         break\n",
    "\n",
    "    train_accs.append(float(train_acc)/train_count*100)\n",
    "    train_acc = 0\n",
    "    train_count = 0\n",
    "\n",
    "    print(f'Epoch: {epoch}:{index},  Loss:{float(loss)}')\n",
    "    test_count = 0\n",
    "    test_acc = 0\n",
    "    for xx, yy in tqdm(test_loader):\n",
    "        xx, yy = xx.to(device), yy.to(device)\n",
    "        with torch.no_grad():\n",
    "            yout = classifier(model(xx))    \n",
    "        outputs = torch.argmax(yout, dim=1).data.cpu().numpy()\n",
    "        correct = (outputs == yy.data.cpu().numpy()).astype(float).sum()\n",
    "        test_acc += correct\n",
    "        test_count += len(xx)\n",
    "    test_accs.append(float(test_acc)/test_count*100)\n",
    "    print(f'Train Acc:{train_accs[-1]:.2f}%, Test Acc:{test_accs[-1]:.2f}%')\n",
    "    print()\n",
    "\n",
    "### after each class index is finished training\n",
    "print(f'\\t-> Train Acc {max(train_accs)} ; Test Acc {max(test_accs)}')"
   ]
  },
  {
   "cell_type": "code",
   "execution_count": 28,
   "metadata": {},
   "outputs": [
    {
     "data": {
      "text/plain": [
       "Parameter containing:\n",
       "tensor([16.7558], device='cuda:1', requires_grad=True)"
      ]
     },
     "execution_count": 28,
     "metadata": {},
     "output_type": "execute_result"
    }
   ],
   "source": [
    "classifier.inv_temp"
   ]
  },
  {
   "cell_type": "markdown",
   "metadata": {},
   "source": [
    "### Hard test accuracy with count per classifier"
   ]
  },
  {
   "cell_type": "code",
   "execution_count": 29,
   "metadata": {},
   "outputs": [
    {
     "name": "stderr",
     "output_type": "stream",
     "text": [
      "100%|██████████| 200/200 [00:00<00:00, 219.00it/s]"
     ]
    },
    {
     "name": "stdout",
     "output_type": "stream",
     "text": [
      "Hard Test Acc:91.72%\n",
      "[1010, 963, 1022, 945, 0, 965, 0, 0, 0, 0, 0, 0, 0, 10, 0, 12, 4, 0, 0, 0, 20, 0, 0, 0, 0, 0, 897, 1041, 954, 982, 0, 0, 0, 59, 942, 0, 0, 0, 12, 0, 18, 0, 0, 0, 0, 0, 0, 0, 6, 0, 1, 0, 0, 0, 0, 1, 0, 0, 0, 1, 0, 0, 0, 0, 0, 3, 0, 0, 38, 0, 0, 0, 36, 0, 0, 0, 0, 0, 0, 0, 0, 19, 0, 0, 0, 0, 30, 0, 0, 0, 0, 0, 0, 0, 9, 0, 0, 0, 0, 0]\n"
     ]
    },
    {
     "name": "stderr",
     "output_type": "stream",
     "text": [
      "\n"
     ]
    }
   ],
   "source": [
    "test_count = 0\n",
    "test_acc = 0\n",
    "set_count = torch.zeros(classifier.num_sets).to(device)\n",
    "for xx, yy in tqdm(test_loader):\n",
    "    xx, yy = xx.to(device), yy.to(device)\n",
    "    with torch.no_grad():\n",
    "        yout = classifier(model(xx), hard=True)\n",
    "        set_indx, count = torch.unique(torch.argmax(classifier.cls_confidence, dim=1), return_counts=True) \n",
    "        set_count[set_indx] += count\n",
    "    outputs = torch.argmax(yout, dim=1).data.cpu().numpy()\n",
    "    correct = (outputs == yy.data.cpu().numpy()).astype(float).sum()\n",
    "    test_acc += correct\n",
    "    test_count += len(xx)\n",
    "\n",
    "print(f'Hard Test Acc:{float(test_acc)/test_count*100:.2f}%')\n",
    "print(set_count.type(torch.long).tolist())"
   ]
  },
  {
   "cell_type": "markdown",
   "metadata": {},
   "source": [
    "### Hard train accuracy with count per classifier"
   ]
  },
  {
   "cell_type": "code",
   "execution_count": 30,
   "metadata": {},
   "outputs": [
    {
     "name": "stderr",
     "output_type": "stream",
     "text": [
      "100%|██████████| 1200/1200 [00:05<00:00, 233.51it/s]"
     ]
    },
    {
     "name": "stdout",
     "output_type": "stream",
     "text": [
      "Hard Train Acc:94.45%\n",
      "[6032, 5834, 6053, 5754, 0, 5814, 0, 0, 0, 1, 0, 0, 0, 59, 0, 65, 27, 0, 0, 0, 124, 0, 0, 4, 0, 0, 5477, 6150, 5696, 5926, 0, 0, 4, 293, 5722, 0, 0, 0, 52, 0, 85, 0, 0, 0, 0, 0, 0, 0, 33, 0, 10, 2, 2, 0, 0, 9, 0, 0, 0, 22, 0, 0, 1, 0, 0, 12, 0, 0, 211, 0, 0, 0, 199, 0, 1, 0, 0, 0, 1, 0, 1, 117, 0, 0, 0, 0, 166, 0, 0, 0, 0, 0, 0, 0, 39, 1, 1, 0, 0, 0]\n"
     ]
    },
    {
     "name": "stderr",
     "output_type": "stream",
     "text": [
      "\n"
     ]
    }
   ],
   "source": [
    "test_count = 0\n",
    "test_acc = 0\n",
    "set_count = torch.zeros(classifier.num_sets).to(device)\n",
    "for xx, yy in tqdm(train_loader):\n",
    "    xx, yy = xx.to(device), yy.to(device)\n",
    "    with torch.no_grad():\n",
    "        yout = classifier(model(xx), hard=True)\n",
    "        set_indx, count = torch.unique(torch.argmax(classifier.cls_confidence, dim=1), return_counts=True) \n",
    "        set_count[set_indx] += count\n",
    "    outputs = torch.argmax(yout, dim=1).data.cpu().numpy()\n",
    "    correct = (outputs == yy.data.cpu().numpy()).astype(float).sum()\n",
    "    test_acc += correct\n",
    "    test_count += len(xx)\n",
    "\n",
    "print(f'Hard Train Acc:{float(test_acc)/test_count*100:.2f}%')\n",
    "print(set_count.type(torch.long).tolist())"
   ]
  },
  {
   "cell_type": "code",
   "execution_count": 31,
   "metadata": {},
   "outputs": [
    {
     "data": {
      "text/plain": [
       "tensor(38, device='cuda:1')"
      ]
     },
     "execution_count": 31,
     "metadata": {},
     "output_type": "execute_result"
    }
   ],
   "source": [
    "#### Classifiers that enclose any data\n",
    "torch.count_nonzero(set_count)"
   ]
  },
  {
   "cell_type": "code",
   "execution_count": 32,
   "metadata": {},
   "outputs": [
    {
     "data": {
      "text/plain": [
       "tensor([0, 1, 2, 3, 4, 5, 6, 5, 8, 9, 6, 3, 6, 3, 4, 5, 6, 7, 8, 9, 0, 3, 6, 3,\n",
       "        6, 5, 6, 7, 8, 9, 0, 3, 6, 3, 4, 5, 6, 5, 8, 9, 0, 1, 6, 3, 6, 5, 6, 5,\n",
       "        8, 5, 0, 1, 2, 3, 6, 5, 6, 7, 8, 9, 0, 1, 2, 3, 4, 5, 6, 5, 8, 9, 0, 1,\n",
       "        2, 6, 4, 5, 6, 5, 8, 9, 0, 1, 6, 3, 6, 5, 6, 5, 8, 9, 0, 1, 6, 3, 4, 5,\n",
       "        6, 5, 8, 9], device='cuda:1')"
      ]
     },
     "execution_count": 32,
     "metadata": {},
     "output_type": "execute_result"
    }
   ],
   "source": [
    "#### classifier with class representation\n",
    "torch.argmax(classifier.cls_weight, dim=1)"
   ]
  },
  {
   "cell_type": "code",
   "execution_count": 33,
   "metadata": {},
   "outputs": [],
   "source": [
    "# The class labels are same as that of initialized\n",
    "# tensor([0, 1, 2, 3, 4, 5, 6, 7, 8, 9, 0, 1, 2, 3, 4, 5, 6, 7, 8, 9, 0, 1, 2, 3,\n",
    "#         4, 5, 6, 7, 8, 9, 0, 1, 2, 3, 4, 5, 6, 7, 8, 9, 0, 1, 2, 3, 4, 5, 6, 7,\n",
    "#         8, 9, 0, 1, 2, 3, 4, 5, 6, 7, 8, 9, 0, 1, 2, 3, 4, 5, 6, 7, 8, 9, 0, 1,\n",
    "#         2, 3, 4, 5, 6, 7, 8, 9, 0, 1, 2, 3, 4, 5, 6, 7, 8, 9, 0, 1, 2, 3, 4, 5,\n",
    "#         6, 7, 8, 9], device='cuda:0')"
   ]
  },
  {
   "cell_type": "code",
   "execution_count": 34,
   "metadata": {},
   "outputs": [
    {
     "data": {
      "text/plain": [
       "Parameter containing:\n",
       "tensor([[ 9.9651, -8.3586, -8.0780, -8.1773, -8.0812, -8.5657, -7.4315, -8.5668,\n",
       "         -8.5246, -8.5689],\n",
       "        [-8.4009,  9.9437, -8.5594, -7.6172, -8.5123, -8.5249, -8.4975, -8.5251,\n",
       "         -8.5438, -8.5429],\n",
       "        [-8.1342, -8.5138, 10.2070, -8.4267, -7.0783, -8.5771, -7.0886, -8.5765,\n",
       "         -8.5024, -8.5772],\n",
       "        [-8.1059, -7.3575, -8.3937, 10.0796, -8.3084, -8.4469, -8.2969, -8.4449,\n",
       "         -8.4572, -8.4559],\n",
       "        [-2.6310, -3.4729, -0.8183, -3.0468,  1.9774, -3.7064,  1.8816, -3.7827,\n",
       "         -3.3317, -3.7476],\n",
       "        [-8.5420, -8.5369, -8.5448, -8.5381, -8.5461,  9.9999, -8.5429, -7.5907,\n",
       "         -8.1362, -7.6427],\n",
       "        [-1.7174, -4.6637, -2.9627, -4.1755, -3.7274, -5.0109,  5.3939, -5.0871,\n",
       "         -4.7791, -5.0709],\n",
       "        [-1.7704, -1.9785, -2.0841, -1.7862, -2.1846,  2.6268, -1.5301, -0.0152,\n",
       "         -0.7611, -0.4236],\n",
       "        [-3.9767, -4.2292, -4.1630, -4.1689, -4.2116, -3.6602, -3.8590, -3.7507,\n",
       "          5.6222, -3.7014],\n",
       "        [-4.7057, -4.6626, -4.7133, -4.5600, -4.7180, -2.5372, -4.6411, -2.8915,\n",
       "         -3.8590,  5.0835],\n",
       "        [ 1.3040, -0.9428, -1.6577, -0.2490, -1.8840, -0.6541,  1.3099, -1.9803,\n",
       "          0.1392, -1.5858],\n",
       "        [-1.8529,  0.6863, -2.3323,  2.4771, -2.1040, -2.6825, -1.4666, -2.9915,\n",
       "         -2.5968, -2.8592],\n",
       "        [-3.4661, -4.9272, -2.0199, -4.6053, -3.4675, -5.1253,  5.7193, -5.1473,\n",
       "         -4.9394, -5.1374],\n",
       "        [-6.3954, -5.4805, -6.7238,  9.0201, -6.5585, -6.8573, -6.5127, -6.8613,\n",
       "         -6.8225, -6.8608],\n",
       "        [-4.1947, -4.8604, -2.3480, -4.2863,  5.2023, -5.0947, -1.5119, -5.1001,\n",
       "         -4.9223, -5.1001],\n",
       "        [-6.8588, -6.8695, -6.8733, -6.8526, -6.8675,  9.2856, -6.8681, -5.7304,\n",
       "         -6.3797, -5.7610],\n",
       "        [-5.0927, -6.1445, -3.6102, -5.8942, -4.3136, -6.2518,  7.2039, -6.2635,\n",
       "         -6.1122, -6.2686],\n",
       "        [-3.0561, -3.0809, -3.1446, -3.0141, -3.1769, -0.6971, -2.9111,  4.1908,\n",
       "         -2.1163, -1.5085],\n",
       "        [-5.5577, -5.6953, -5.6357, -5.6864, -5.6748, -5.2573, -5.5020, -5.2694,\n",
       "          7.6738, -5.2624],\n",
       "        [-2.7288, -2.7736, -2.8261, -2.6229, -2.8522, -0.4807, -2.4887, -1.3576,\n",
       "         -1.7105,  3.5463],\n",
       "        [ 6.6697, -7.2332, -6.8277, -6.9437, -6.9485, -7.4955, -3.1875, -7.4967,\n",
       "         -7.3431, -7.4979],\n",
       "        [-2.2813, -0.3762, -2.8694,  3.2543, -2.6648, -3.4602, -1.9168, -3.5762,\n",
       "         -3.2011, -3.5255],\n",
       "        [-1.6060, -3.3714, -1.2897, -2.9752, -2.3746, -3.6177,  4.7342, -3.7087,\n",
       "         -3.2871, -3.6971],\n",
       "        [-3.3507, -3.1836, -4.5063,  5.4251, -4.2836, -5.0495, -3.4411, -5.0760,\n",
       "         -4.8623, -5.0833],\n",
       "        [-1.9431, -2.9438, -1.0522, -2.6948, -1.0426, -3.3359,  4.4209, -3.4037,\n",
       "         -3.0561, -3.3554],\n",
       "        [-3.6735, -3.7478, -3.7340, -3.7181, -3.7663,  5.1132, -3.6469, -2.4082,\n",
       "         -3.0107, -2.2089],\n",
       "        [-8.3485, -8.9290, -6.1187, -8.7862, -6.8917, -9.0006,  9.6401, -9.0170,\n",
       "         -8.9362, -8.9930],\n",
       "        [-8.5978, -8.5713, -8.5989, -8.5771, -8.6043, -7.3579, -8.5974, 10.2530,\n",
       "         -8.2008, -7.5876],\n",
       "        [-8.4689, -8.5196, -8.4254, -8.5014, -8.4450, -8.3144, -8.4224, -8.3209,\n",
       "         10.0116, -8.3142],\n",
       "        [-8.6283, -8.6239, -8.6301, -8.6263, -8.6287, -7.6508, -8.6240, -7.6160,\n",
       "         -8.2149,  9.9250],\n",
       "        [ 2.9731, -3.0220, -3.2388, -2.4590, -3.4327, -3.7584,  0.2912, -3.8870,\n",
       "         -3.3833, -3.8695],\n",
       "        [-2.2136, -0.5093, -2.7518,  3.3477, -2.5675, -3.2252, -1.8186, -3.4756,\n",
       "         -3.0261, -3.3558],\n",
       "        [-3.6289, -4.8508, -0.9207, -4.6603, -2.4786, -5.1070,  4.5454, -5.1490,\n",
       "         -4.7188, -5.1230],\n",
       "        [-7.2533, -6.4810, -7.5202,  9.9393, -7.3949, -7.6036, -7.4092, -7.6238,\n",
       "         -7.6072, -7.6328],\n",
       "        [-8.3215, -8.6591, -6.8447, -8.5529, 10.4270, -8.7047, -7.0825, -8.7140,\n",
       "         -8.6196, -8.6927],\n",
       "        [-1.9591, -2.2084, -2.1766, -1.9945, -2.2331,  3.2301, -1.6977, -1.0595,\n",
       "         -1.0365, -0.4983],\n",
       "        [-3.8150, -5.3562, -3.0596, -5.0420, -3.9003, -5.5928,  6.6237, -5.6228,\n",
       "         -5.3866, -5.5925],\n",
       "        [-2.1853, -2.2886, -2.3196, -2.1957, -2.4186,  2.8347, -1.7714,  0.1577,\n",
       "         -1.1091, -0.8991],\n",
       "        [-6.3853, -6.4738, -6.4357, -6.4723, -6.4539, -6.1379, -6.3489, -6.1545,\n",
       "          8.6763, -6.1317],\n",
       "        [-1.9623, -1.9766, -2.0847, -1.7752, -2.1561,  1.3411, -1.3563, -0.9614,\n",
       "         -0.8700,  2.0035],\n",
       "        [ 8.2574, -6.9497, -6.7319, -6.7253, -6.7997, -7.2106, -4.5471, -7.2227,\n",
       "         -7.1521, -7.2214],\n",
       "        [-4.4688,  5.0964, -4.6478, -2.2059, -4.5634, -4.8827, -4.3942, -4.9558,\n",
       "         -4.8117, -4.9290],\n",
       "        [-2.7785, -3.8947, -1.2787, -3.5552, -2.2569, -4.1781,  4.9836, -4.2028,\n",
       "         -3.9455, -4.1768],\n",
       "        [-0.3399,  0.1809, -1.5083,  2.0828, -1.5236, -1.2434, -0.1057, -1.9015,\n",
       "         -1.2572, -1.5387],\n",
       "        [-2.3682, -3.7378, -1.7335, -3.4445, -1.6996, -4.0711,  5.1316, -4.1110,\n",
       "         -3.8123, -4.0713],\n",
       "        [-4.8084, -4.8376, -4.8080, -4.8169, -4.8387,  6.5461, -4.7925, -3.6458,\n",
       "         -4.2199, -3.4347],\n",
       "        [-3.7040, -5.0450, -2.8807, -4.6828, -3.2786, -5.2255,  6.3304, -5.2640,\n",
       "         -4.9968, -5.2397],\n",
       "        [-1.8121, -2.0194, -2.1262, -1.9113, -2.2570,  1.9744, -1.3512,  1.2866,\n",
       "         -0.8316, -0.4803],\n",
       "        [-6.5012, -6.5829, -6.5084, -6.5837, -6.5471, -6.2432, -6.4376, -6.2671,\n",
       "          8.8070, -6.2449],\n",
       "        [-1.3132, -1.6303, -1.7467, -1.2940, -1.9320,  1.7287, -0.6937, -0.7890,\n",
       "         -0.1955,  1.0843],\n",
       "        [ 6.1280, -6.2057, -6.2756, -5.9002, -6.3306, -6.6604, -2.7435, -6.6804,\n",
       "         -6.4777, -6.6684],\n",
       "        [-4.8960,  5.5970, -5.1955, -2.7247, -5.0442, -5.3907, -4.9441, -5.4419,\n",
       "         -5.3312, -5.4180],\n",
       "        [-5.7239, -6.3026,  7.6375, -6.1931, -4.6029, -6.4061, -3.4951, -6.4261,\n",
       "         -6.2649, -6.4055],\n",
       "        [-0.7553, -1.2749, -2.3767,  3.2289, -2.2600, -3.0048, -0.8915, -3.1183,\n",
       "         -2.7405, -3.0611],\n",
       "        [-2.3501, -3.2754, -0.9185, -2.9666, -0.1329, -3.6433,  3.7341, -3.6742,\n",
       "         -3.3083, -3.6367],\n",
       "        [-6.4115, -6.4190, -6.4141, -6.4123, -6.4238,  8.8857, -6.4108, -5.3481,\n",
       "         -5.9398, -5.3927],\n",
       "        [-0.8979, -3.9065, -2.7154, -3.1933, -3.1761, -4.2940,  4.7402, -4.4047,\n",
       "         -4.1090, -4.3529],\n",
       "        [-2.3508, -2.4500, -2.5309, -2.2620, -2.6341,  0.8456, -2.0582,  2.7612,\n",
       "         -1.1623, -0.7554],\n",
       "        [-4.0161, -4.2778, -4.1965, -4.2226, -4.2455, -3.7193, -3.8490, -3.8050,\n",
       "          5.4815, -3.7738],\n",
       "        [-5.8685, -5.8581, -5.8886, -5.8160, -5.8919, -4.1325, -5.8762, -4.3893,\n",
       "         -5.3173,  6.9389],\n",
       "        [ 5.6633, -6.3615, -6.0464, -6.0682, -6.1878, -6.7206, -2.2530, -6.7482,\n",
       "         -6.5371, -6.7178],\n",
       "        [-2.9474,  3.4650, -3.1252, -0.2795, -3.0663, -3.4072, -2.6734, -3.5532,\n",
       "         -3.1960, -3.4295],\n",
       "        [-5.8700, -6.3855,  8.0074, -6.2553, -4.7700, -6.4637, -3.9024, -6.4753,\n",
       "         -6.3646, -6.4676],\n",
       "        [-1.6728, -1.4578, -2.9195,  3.6404, -2.7475, -3.4768, -1.5821, -3.5770,\n",
       "         -3.2357, -3.5654],\n",
       "        [-4.3032, -4.9365, -2.0658, -4.5477,  4.8073, -5.1048, -1.0344, -5.1091,\n",
       "         -4.8892, -5.0831],\n",
       "        [-6.5452, -6.5585, -6.5688, -6.5531, -6.5622,  9.0885, -6.5578, -5.5146,\n",
       "         -6.1008, -5.5564],\n",
       "        [-2.6768, -4.1449, -1.9807, -3.7653, -2.6611, -4.2040,  5.6191, -4.2677,\n",
       "         -3.9483, -4.2498],\n",
       "        [-1.4925, -1.8476, -1.9032, -1.5512, -2.0308,  1.8809, -0.8981,  0.3479,\n",
       "         -0.3372,  0.4150],\n",
       "        [-6.5774, -6.6925, -6.5733, -6.6871, -6.6108, -6.5355, -6.4919, -6.5409,\n",
       "          8.8254, -6.5343],\n",
       "        [-1.3327, -1.7087, -1.6698, -1.4031, -1.8420,  1.3172, -0.5489, -0.8476,\n",
       "         -0.1800,  1.5237],\n",
       "        [ 2.6485, -3.5993, -3.3086, -3.1586, -3.5696, -3.9896,  0.5097, -4.1157,\n",
       "         -3.6478, -4.0802],\n",
       "        [-2.4597,  1.7733, -2.6821,  1.6108, -2.5439, -3.1571, -1.9933, -3.3493,\n",
       "         -2.8910, -3.2618],\n",
       "        [-6.9616, -7.3893,  9.8539, -7.2791, -6.0488, -7.4891, -5.7927, -7.4819,\n",
       "         -7.4155, -7.4889],\n",
       "        [ 1.5714, -2.9114, -2.6447, -1.9371, -3.0412, -3.7031,  1.7889, -3.8038,\n",
       "         -3.2076, -3.7602],\n",
       "        [-5.8114, -6.2007, -4.1916, -5.9048,  7.9068, -6.3133, -3.9984, -6.3220,\n",
       "         -6.2121, -6.3275],\n",
       "        [-3.4434, -3.4575, -3.5296, -3.4605, -3.5547,  4.8453, -3.4439, -2.0947,\n",
       "         -2.8613, -1.9983],\n",
       "        [ 0.7306, -5.5461, -4.8615, -4.8796, -5.2254, -6.0847,  2.6495, -6.1339,\n",
       "         -5.7361, -6.1247],\n",
       "        [-1.9263, -1.9963, -2.0961, -1.9210, -2.2508,  2.3415, -1.5831,  0.7082,\n",
       "         -0.8584, -0.1127],\n",
       "        [-4.5356, -4.7541, -4.6979, -4.7102, -4.7286, -4.4644, -4.4432, -4.5215,\n",
       "          6.2327, -4.5042],\n",
       "        [-3.3944, -3.3647, -3.4424, -3.1822, -3.4501, -1.2872, -3.2577, -1.7650,\n",
       "         -2.4319,  4.2040],\n",
       "        [ 6.4484, -6.7835, -6.3953, -6.4742, -6.4933, -7.0178, -2.9343, -7.0305,\n",
       "         -6.8477, -7.0293],\n",
       "        [-5.6105,  6.3202, -5.8203, -3.5473, -5.6646, -6.0343, -5.5535, -6.0530,\n",
       "         -5.9553, -6.0501],\n",
       "        [-1.7589, -3.1218, -0.8697, -2.7626, -1.5820, -2.9989,  4.0564, -3.1691,\n",
       "         -1.8321, -3.0973],\n",
       "        [-1.8702, -1.5014, -2.8500,  3.7200, -2.7748, -3.4686, -1.6898, -3.5852,\n",
       "         -3.3174, -3.4987],\n",
       "        [-2.7781, -3.4709, -1.1137, -3.2697, -0.7955, -3.6983,  4.1655, -3.7583,\n",
       "         -3.3384, -3.7261],\n",
       "        [-1.3846, -1.8769, -1.9295, -1.7464, -1.9853,  2.7272, -1.3643, -1.1494,\n",
       "         -0.3823, -0.7372],\n",
       "        [-6.3200, -7.2781, -4.4280, -7.0439, -5.4060, -7.3708,  8.1941, -7.3830,\n",
       "         -7.2304, -7.3538],\n",
       "        [-2.3002, -2.5060, -2.4658, -2.2576, -2.5904,  2.2651, -1.9066,  1.2891,\n",
       "         -1.2270, -0.8212],\n",
       "        [-5.1611, -5.4485, -5.2724, -5.4147, -5.3238, -5.2011, -5.0761, -5.2463,\n",
       "          7.2486, -5.2152],\n",
       "        [-2.7842, -2.6851, -2.8085, -2.6395, -2.8374, -0.5036, -2.4948, -1.3557,\n",
       "         -1.8340,  3.4156],\n",
       "        [ 1.8634, -0.8752, -1.9639,  0.9192, -2.1784, -2.4730,  0.8681, -2.7556,\n",
       "         -2.1654, -2.6453],\n",
       "        [-1.3215,  1.5527, -1.7390,  1.4237, -1.7786, -1.8177, -0.9609, -2.2505,\n",
       "         -1.6423, -2.0283],\n",
       "        [-3.1549, -4.1584, -1.2003, -3.9078, -2.5707, -4.3960,  4.9091, -4.4364,\n",
       "         -4.1784, -4.4281],\n",
       "        [-0.8911, -0.5283, -2.0353,  2.9592, -2.0025, -2.6151, -0.7715, -2.7828,\n",
       "         -2.4320, -2.6800],\n",
       "        [-6.6757, -7.0261, -5.3353, -6.5627,  8.9911, -7.1382, -5.1715, -7.1254,\n",
       "         -7.0407, -7.1338],\n",
       "        [-5.6466, -5.6605, -5.6657, -5.6495, -5.6813,  7.7653, -5.6679, -4.3511,\n",
       "         -5.1547, -4.4116],\n",
       "        [-3.2005, -5.3135, -3.0877, -4.8653, -4.0010, -5.5139,  6.5573, -5.5481,\n",
       "         -5.3294, -5.5357],\n",
       "        [-1.9235, -2.0121, -2.1673, -1.8482, -2.3063,  2.0068, -1.4590,  1.0834,\n",
       "         -0.8030,  0.0351],\n",
       "        [-2.2027, -2.8458, -2.3709, -2.7385, -2.4941, -2.6120, -1.7001, -2.8417,\n",
       "          3.9197, -2.7359],\n",
       "        [-3.5846, -3.5531, -3.6119, -3.4052, -3.6170, -1.5275, -3.4299, -2.1101,\n",
       "         -2.7409,  4.3107]], device='cuda:1', requires_grad=True)"
      ]
     },
     "execution_count": 34,
     "metadata": {},
     "output_type": "execute_result"
    }
   ],
   "source": [
    "classifier.cls_weight"
   ]
  },
  {
   "cell_type": "code",
   "execution_count": 35,
   "metadata": {},
   "outputs": [],
   "source": [
    "# torch.unique(torch.argmax(classifier.cls_confidence, dim=1), return_counts=True)"
   ]
  },
  {
   "cell_type": "code",
   "execution_count": 36,
   "metadata": {},
   "outputs": [
    {
     "data": {
      "text/plain": [
       "Parameter containing:\n",
       "tensor([16.7558], device='cuda:1', requires_grad=True)"
      ]
     },
     "execution_count": 36,
     "metadata": {},
     "output_type": "execute_result"
    }
   ],
   "source": [
    "classifier.inv_temp"
   ]
  },
  {
   "cell_type": "code",
   "execution_count": 37,
   "metadata": {},
   "outputs": [
    {
     "data": {
      "text/plain": [
       "tensor([1.5403e-08, 8.6201e-09, 1.4322e-07, 9.9440e-09, 6.6119e-08, 8.0251e-09,\n",
       "        1.0000e+00, 7.8943e-09, 8.5586e-09, 8.0861e-09], device='cuda:1')"
      ]
     },
     "execution_count": 37,
     "metadata": {},
     "output_type": "execute_result"
    }
   ],
   "source": [
    "### example output per classifier\n",
    "yout[5]"
   ]
  },
  {
   "cell_type": "code",
   "execution_count": 43,
   "metadata": {},
   "outputs": [
    {
     "ename": "NameError",
     "evalue": "name 'asdfsdf' is not defined",
     "output_type": "error",
     "traceback": [
      "\u001b[0;31m---------------------------------------------------------------------------\u001b[0m",
      "\u001b[0;31mNameError\u001b[0m                                 Traceback (most recent call last)",
      "\u001b[0;32m<ipython-input-43-80a679df1217>\u001b[0m in \u001b[0;36m<module>\u001b[0;34m\u001b[0m\n\u001b[0;32m----> 1\u001b[0;31m \u001b[0masdfsdf\u001b[0m \u001b[0;31m## to break the code\u001b[0m\u001b[0;34m\u001b[0m\u001b[0;34m\u001b[0m\u001b[0m\n\u001b[0m",
      "\u001b[0;31mNameError\u001b[0m: name 'asdfsdf' is not defined"
     ]
    }
   ],
   "source": [
    "asdfsdf ## to break the code"
   ]
  },
  {
   "cell_type": "markdown",
   "metadata": {},
   "source": [
    "### analyze per classifier accuracy"
   ]
  },
  {
   "cell_type": "code",
   "execution_count": 44,
   "metadata": {},
   "outputs": [
    {
     "name": "stderr",
     "output_type": "stream",
     "text": [
      "100%|██████████| 1200/1200 [00:06<00:00, 176.71it/s]"
     ]
    },
    {
     "name": "stdout",
     "output_type": "stream",
     "text": [
      "Hard Train Acc:94.52%\n",
      "[0, 127, 413, 0, 0, 0, 5391, 0, 0, 0, 0, 5835, 0, 68, 0, 0, 0, 0, 0, 0, 7, 0, 5506, 0, 0, 1, 1, 6138, 126, 0, 7, 0, 11, 0, 0, 0, 41, 0, 0, 5715, 3, 0, 147, 0, 4089, 2, 0, 0, 0, 1, 0, 3, 0, 7, 1610, 0, 0, 0, 0, 0, 83, 0, 0, 543, 227, 6, 0, 0, 4, 0, 5752, 0, 0, 10, 0, 5986, 0, 0, 2, 0, 278, 0, 0, 5409, 0, 0, 397, 0, 5731, 156, 0, 0, 0, 0, 0, 0, 39, 0, 128, 0]\n"
     ]
    },
    {
     "name": "stderr",
     "output_type": "stream",
     "text": [
      "\n"
     ]
    }
   ],
   "source": [
    "test_count = 0\n",
    "test_acc = 0\n",
    "set_count = torch.zeros(classifier.num_sets).to(device)\n",
    "set_acc = torch.zeros(classifier.num_sets).to(device)\n",
    "for xx, yy in tqdm(train_loader):\n",
    "    xx, yy = xx.to(device), yy.to(device)\n",
    "    with torch.no_grad():\n",
    "        yout = classifier(model(xx), hard=True)\n",
    "        \n",
    "    cls_indx = torch.argmax(classifier.cls_confidence, dim=1)\n",
    "    set_indx, count = torch.unique(cls_indx, return_counts=True) \n",
    "    set_count[set_indx] += count\n",
    "    \n",
    "    outputs = torch.argmax(yout, dim=1).data.cpu().numpy()\n",
    "    correct = (outputs == yy.data.cpu().numpy()).astype(float)\n",
    "    \n",
    "    ### class_index has 100 possible values\n",
    "    for i, c in enumerate(correct):\n",
    "        set_acc[cls_indx[i]] += c\n",
    "    \n",
    "#     print(set_acc.sum(), set_count.sum())\n",
    "#     break\n",
    "    test_acc += correct.sum()\n",
    "    test_count += len(xx)\n",
    "\n",
    "print(f'Hard Train Acc:{float(test_acc)/test_count*100:.2f}%')\n",
    "print(set_count.type(torch.long).tolist())"
   ]
  },
  {
   "cell_type": "code",
   "execution_count": 45,
   "metadata": {},
   "outputs": [
    {
     "data": {
      "text/plain": [
       "tensor([   nan, 0.9370, 0.8741,    nan,    nan,    nan, 0.8611,    nan,    nan,\n",
       "           nan,    nan, 0.9962,    nan, 0.8382,    nan,    nan,    nan,    nan,\n",
       "           nan,    nan, 1.0000,    nan, 0.9130,    nan,    nan, 1.0000, 1.0000,\n",
       "        0.9653, 0.9444,    nan, 1.0000,    nan, 0.7273,    nan,    nan,    nan,\n",
       "        0.9024,    nan,    nan, 0.9890, 1.0000,    nan, 0.8367,    nan, 0.9359,\n",
       "        1.0000,    nan,    nan,    nan, 1.0000,    nan, 1.0000,    nan, 0.8571,\n",
       "        0.8522,    nan,    nan,    nan,    nan,    nan, 0.8072,    nan,    nan,\n",
       "        0.9503, 0.9163, 1.0000,    nan,    nan, 1.0000,    nan, 0.9080,    nan,\n",
       "           nan, 0.9000,    nan, 0.9932,    nan,    nan, 0.5000,    nan, 0.7914,\n",
       "           nan,    nan, 0.9440,    nan,    nan, 0.7456,    nan, 0.9949, 0.9936,\n",
       "           nan,    nan,    nan,    nan,    nan,    nan, 0.7436,    nan, 0.8750,\n",
       "           nan], device='cuda:0')"
      ]
     },
     "execution_count": 45,
     "metadata": {},
     "output_type": "execute_result"
    }
   ],
   "source": [
    "set_acc/set_count"
   ]
  },
  {
   "cell_type": "code",
   "execution_count": 46,
   "metadata": {},
   "outputs": [
    {
     "name": "stdout",
     "output_type": "stream",
     "text": [
      "1,\t 127,\t 1\t 93.70%\n",
      "2,\t 413,\t 2\t 87.41%\n",
      "6,\t 5391,\t 6\t 86.11%\n",
      "11,\t 5835,\t 1\t 99.62%\n",
      "13,\t 68,\t 3\t 83.82%\n",
      "20,\t 7,\t 0\t 100.00%\n",
      "22,\t 5506,\t 2\t 91.30%\n",
      "25,\t 1,\t 5\t 100.00%\n",
      "26,\t 1,\t 6\t 100.00%\n",
      "27,\t 6138,\t 7\t 96.53%\n",
      "28,\t 126,\t 8\t 94.44%\n",
      "30,\t 7,\t 0\t 100.00%\n",
      "32,\t 11,\t 2\t 72.73%\n",
      "36,\t 41,\t 6\t 90.24%\n",
      "39,\t 5715,\t 9\t 98.90%\n",
      "40,\t 3,\t 0\t 100.00%\n",
      "42,\t 147,\t 2\t 83.67%\n",
      "44,\t 4089,\t 4\t 93.59%\n",
      "45,\t 2,\t 5\t 100.00%\n",
      "49,\t 1,\t 9\t 100.00%\n",
      "51,\t 3,\t 1\t 100.00%\n",
      "53,\t 7,\t 3\t 85.71%\n",
      "54,\t 1610,\t 4\t 85.22%\n",
      "60,\t 83,\t 0\t 80.72%\n",
      "63,\t 543,\t 3\t 95.03%\n",
      "64,\t 227,\t 4\t 91.63%\n",
      "65,\t 6,\t 5\t 100.00%\n",
      "68,\t 4,\t 8\t 100.00%\n",
      "70,\t 5752,\t 0\t 90.80%\n",
      "73,\t 10,\t 3\t 90.00%\n",
      "75,\t 5986,\t 5\t 99.32%\n",
      "78,\t 2,\t 8\t 50.00%\n",
      "80,\t 278,\t 0\t 79.14%\n",
      "83,\t 5409,\t 3\t 94.40%\n",
      "86,\t 397,\t 6\t 74.56%\n",
      "88,\t 5731,\t 8\t 99.49%\n",
      "89,\t 156,\t 9\t 99.36%\n",
      "96,\t 39,\t 6\t 74.36%\n",
      "98,\t 128,\t 8\t 87.50%\n"
     ]
    }
   ],
   "source": [
    "for i, (cnt, acc, cls) in enumerate(zip(set_count.type(torch.long).tolist(),\n",
    "                                   (set_acc/set_count).tolist(),\n",
    "                                   torch.argmax(classifier.cls_weight, dim=1).tolist())):\n",
    "    if cnt == 0: continue\n",
    "    print(f\"{i},\\t {cnt},\\t {cls}\\t {acc*100:.2f}%\")"
   ]
  },
  {
   "cell_type": "markdown",
   "metadata": {},
   "source": [
    "### Benchmark - Robustness"
   ]
  },
  {
   "cell_type": "code",
   "execution_count": 50,
   "metadata": {},
   "outputs": [],
   "source": [
    "import foolbox as fb\n",
    "import foolbox.attacks as fa"
   ]
  },
  {
   "cell_type": "code",
   "execution_count": 59,
   "metadata": {},
   "outputs": [],
   "source": [
    "epsilons = [0.001, 0.01, 0.03, 0.1, 0.3, 0.5, 1.0]\n",
    "# epsilons = [0.0005, 0.001, 0.0015, 0.002, 0.003, 0.005, 0.01, 0.02, 0.03, 0.1, 0.3, 0.5, 1.0,]"
   ]
  },
  {
   "cell_type": "markdown",
   "metadata": {},
   "source": [
    "#### Benchmark on full dataset"
   ]
  },
  {
   "cell_type": "code",
   "execution_count": 60,
   "metadata": {},
   "outputs": [],
   "source": [
    "attacks = [\n",
    "    fa.FGSM(),\n",
    "    fa.LinfPGD(),\n",
    "    fa.LinfBasicIterativeAttack(),\n",
    "#     fa.LinfAdditiveUniformNoiseAttack(),\n",
    "#     fa.LinfDeepFoolAttack(),\n",
    "]\n",
    "atk_names = [\n",
    "    \"FGSM\", \n",
    "    \"LinfPGD\", \n",
    "    \"LinfBasicIterativeAttack\", \n",
    "#     \"LinfAdditiveUniformNoiseAttack\", \n",
    "#     \"LinfDeepFoolAttack\",\n",
    "]"
   ]
  },
  {
   "cell_type": "code",
   "execution_count": 61,
   "metadata": {},
   "outputs": [],
   "source": [
    "def get_attack_success(model, attack, dataloader):\n",
    "    fmodel = fb.PyTorchModel(model.eval(), bounds=(-1, 1))   \n",
    "    success_per_eps = []\n",
    "\n",
    "    for eps in epsilons:\n",
    "        count = 0\n",
    "        total = 0\n",
    "        print(f\"Running one epoch attack for eps: {eps}\")\n",
    "        for i, (images, labels) in enumerate(tqdm(dataloader)):\n",
    "            images, labels = images.to(device), labels.to(device)\n",
    "            _, _, success = attack(fmodel, images, labels, epsilons=[eps])\n",
    "            count += int(torch.count_nonzero(success))\n",
    "            total += torch.numel(success)\n",
    "#             break\n",
    "        success_per_eps.append(count/total)\n",
    "    return success_per_eps"
   ]
  },
  {
   "cell_type": "code",
   "execution_count": 62,
   "metadata": {},
   "outputs": [],
   "source": [
    "# get_attack_success(model, attacks[0], test_loader)"
   ]
  },
  {
   "cell_type": "markdown",
   "metadata": {},
   "source": [
    "### Compute the robustness"
   ]
  },
  {
   "cell_type": "code",
   "execution_count": 63,
   "metadata": {},
   "outputs": [
    {
     "name": "stderr",
     "output_type": "stream",
     "text": [
      "\r",
      "  0%|          | 0/200 [00:00<?, ?it/s]"
     ]
    },
    {
     "name": "stdout",
     "output_type": "stream",
     "text": [
      "Attacking on model using FGSM\n",
      "Running one epoch attack for eps: 0.001\n"
     ]
    },
    {
     "name": "stderr",
     "output_type": "stream",
     "text": [
      "100%|██████████| 200/200 [00:01<00:00, 117.17it/s]\n",
      "  0%|          | 0/200 [00:00<?, ?it/s]"
     ]
    },
    {
     "name": "stdout",
     "output_type": "stream",
     "text": [
      "Running one epoch attack for eps: 0.01\n"
     ]
    },
    {
     "name": "stderr",
     "output_type": "stream",
     "text": [
      "100%|██████████| 200/200 [00:01<00:00, 117.00it/s]\n",
      "  0%|          | 0/200 [00:00<?, ?it/s]"
     ]
    },
    {
     "name": "stdout",
     "output_type": "stream",
     "text": [
      "Running one epoch attack for eps: 0.03\n"
     ]
    },
    {
     "name": "stderr",
     "output_type": "stream",
     "text": [
      "100%|██████████| 200/200 [00:01<00:00, 117.42it/s]\n",
      "  0%|          | 0/200 [00:00<?, ?it/s]"
     ]
    },
    {
     "name": "stdout",
     "output_type": "stream",
     "text": [
      "Running one epoch attack for eps: 0.1\n"
     ]
    },
    {
     "name": "stderr",
     "output_type": "stream",
     "text": [
      "100%|██████████| 200/200 [00:01<00:00, 117.23it/s]\n",
      "  0%|          | 0/200 [00:00<?, ?it/s]"
     ]
    },
    {
     "name": "stdout",
     "output_type": "stream",
     "text": [
      "Running one epoch attack for eps: 0.3\n"
     ]
    },
    {
     "name": "stderr",
     "output_type": "stream",
     "text": [
      "100%|██████████| 200/200 [00:01<00:00, 116.27it/s]\n",
      "  0%|          | 0/200 [00:00<?, ?it/s]"
     ]
    },
    {
     "name": "stdout",
     "output_type": "stream",
     "text": [
      "Running one epoch attack for eps: 0.5\n"
     ]
    },
    {
     "name": "stderr",
     "output_type": "stream",
     "text": [
      "100%|██████████| 200/200 [00:01<00:00, 116.64it/s]\n",
      "  0%|          | 0/200 [00:00<?, ?it/s]"
     ]
    },
    {
     "name": "stdout",
     "output_type": "stream",
     "text": [
      "Running one epoch attack for eps: 1.0\n"
     ]
    },
    {
     "name": "stderr",
     "output_type": "stream",
     "text": [
      "100%|██████████| 200/200 [00:01<00:00, 115.87it/s]\n",
      "  0%|          | 0/200 [00:00<?, ?it/s]"
     ]
    },
    {
     "name": "stdout",
     "output_type": "stream",
     "text": [
      "Success rate is : [0.9988, 1.0, 1.0, 1.0, 1.0, 1.0, 1.0]\n",
      "Attacking on model using LinfPGD\n",
      "Running one epoch attack for eps: 0.001\n"
     ]
    },
    {
     "name": "stderr",
     "output_type": "stream",
     "text": [
      "100%|██████████| 200/200 [00:49<00:00,  4.08it/s]\n",
      "  0%|          | 0/200 [00:00<?, ?it/s]"
     ]
    },
    {
     "name": "stdout",
     "output_type": "stream",
     "text": [
      "Running one epoch attack for eps: 0.01\n"
     ]
    },
    {
     "name": "stderr",
     "output_type": "stream",
     "text": [
      "100%|██████████| 200/200 [00:49<00:00,  4.07it/s]\n",
      "  0%|          | 0/200 [00:00<?, ?it/s]"
     ]
    },
    {
     "name": "stdout",
     "output_type": "stream",
     "text": [
      "Running one epoch attack for eps: 0.03\n"
     ]
    },
    {
     "name": "stderr",
     "output_type": "stream",
     "text": [
      "100%|██████████| 200/200 [00:49<00:00,  4.07it/s]\n",
      "  0%|          | 0/200 [00:00<?, ?it/s]"
     ]
    },
    {
     "name": "stdout",
     "output_type": "stream",
     "text": [
      "Running one epoch attack for eps: 0.1\n"
     ]
    },
    {
     "name": "stderr",
     "output_type": "stream",
     "text": [
      "100%|██████████| 200/200 [00:49<00:00,  4.07it/s]\n",
      "  0%|          | 0/200 [00:00<?, ?it/s]"
     ]
    },
    {
     "name": "stdout",
     "output_type": "stream",
     "text": [
      "Running one epoch attack for eps: 0.3\n"
     ]
    },
    {
     "name": "stderr",
     "output_type": "stream",
     "text": [
      "100%|██████████| 200/200 [00:49<00:00,  4.07it/s]\n",
      "  0%|          | 0/200 [00:00<?, ?it/s]"
     ]
    },
    {
     "name": "stdout",
     "output_type": "stream",
     "text": [
      "Running one epoch attack for eps: 0.5\n"
     ]
    },
    {
     "name": "stderr",
     "output_type": "stream",
     "text": [
      "100%|██████████| 200/200 [00:49<00:00,  4.07it/s]\n",
      "  0%|          | 0/200 [00:00<?, ?it/s]"
     ]
    },
    {
     "name": "stdout",
     "output_type": "stream",
     "text": [
      "Running one epoch attack for eps: 1.0\n"
     ]
    },
    {
     "name": "stderr",
     "output_type": "stream",
     "text": [
      "100%|██████████| 200/200 [00:49<00:00,  4.07it/s]\n",
      "  0%|          | 0/200 [00:00<?, ?it/s]"
     ]
    },
    {
     "name": "stdout",
     "output_type": "stream",
     "text": [
      "Success rate is : [0.9987, 1.0, 1.0, 1.0, 1.0, 1.0, 1.0]\n",
      "Attacking on model using LinfBasicIterativeAttack\n",
      "Running one epoch attack for eps: 0.001\n"
     ]
    },
    {
     "name": "stderr",
     "output_type": "stream",
     "text": [
      "100%|██████████| 200/200 [00:12<00:00, 16.18it/s]\n",
      "  0%|          | 0/200 [00:00<?, ?it/s]"
     ]
    },
    {
     "name": "stdout",
     "output_type": "stream",
     "text": [
      "Running one epoch attack for eps: 0.01\n"
     ]
    },
    {
     "name": "stderr",
     "output_type": "stream",
     "text": [
      "100%|██████████| 200/200 [00:12<00:00, 16.20it/s]\n",
      "  0%|          | 0/200 [00:00<?, ?it/s]"
     ]
    },
    {
     "name": "stdout",
     "output_type": "stream",
     "text": [
      "Running one epoch attack for eps: 0.03\n"
     ]
    },
    {
     "name": "stderr",
     "output_type": "stream",
     "text": [
      "100%|██████████| 200/200 [00:12<00:00, 16.20it/s]\n",
      "  0%|          | 0/200 [00:00<?, ?it/s]"
     ]
    },
    {
     "name": "stdout",
     "output_type": "stream",
     "text": [
      "Running one epoch attack for eps: 0.1\n"
     ]
    },
    {
     "name": "stderr",
     "output_type": "stream",
     "text": [
      "100%|██████████| 200/200 [00:12<00:00, 16.20it/s]\n",
      "  0%|          | 0/200 [00:00<?, ?it/s]"
     ]
    },
    {
     "name": "stdout",
     "output_type": "stream",
     "text": [
      "Running one epoch attack for eps: 0.3\n"
     ]
    },
    {
     "name": "stderr",
     "output_type": "stream",
     "text": [
      "100%|██████████| 200/200 [00:12<00:00, 16.22it/s]\n",
      "  0%|          | 0/200 [00:00<?, ?it/s]"
     ]
    },
    {
     "name": "stdout",
     "output_type": "stream",
     "text": [
      "Running one epoch attack for eps: 0.5\n"
     ]
    },
    {
     "name": "stderr",
     "output_type": "stream",
     "text": [
      "100%|██████████| 200/200 [00:12<00:00, 16.22it/s]\n",
      "  0%|          | 0/200 [00:00<?, ?it/s]"
     ]
    },
    {
     "name": "stdout",
     "output_type": "stream",
     "text": [
      "Running one epoch attack for eps: 1.0\n"
     ]
    },
    {
     "name": "stderr",
     "output_type": "stream",
     "text": [
      "100%|██████████| 200/200 [00:12<00:00, 16.20it/s]"
     ]
    },
    {
     "name": "stdout",
     "output_type": "stream",
     "text": [
      "Success rate is : [0.9988, 1.0, 1.0, 1.0, 1.0, 1.0, 1.0]\n"
     ]
    },
    {
     "name": "stderr",
     "output_type": "stream",
     "text": [
      "\n"
     ]
    }
   ],
   "source": [
    "outputs = {}\n",
    "\n",
    "model.eval()\n",
    "### load model and compute attack_success\n",
    "for j in range(len(attacks)):\n",
    "    attack = attacks[j]\n",
    "    atname = atk_names[j]\n",
    "\n",
    "    print(f\"Attacking on model using {atname}\")\n",
    "    succ_eps = get_attack_success(model, attack, test_loader)\n",
    "    outputs[atname] = succ_eps\n",
    "    print(f\"Success rate is : {succ_eps}\")"
   ]
  },
  {
   "cell_type": "code",
   "execution_count": null,
   "metadata": {},
   "outputs": [],
   "source": []
  }
 ],
 "metadata": {
  "kernelspec": {
   "display_name": "Python 3",
   "language": "python",
   "name": "python3"
  },
  "language_info": {
   "codemirror_mode": {
    "name": "ipython",
    "version": 3
   },
   "file_extension": ".py",
   "mimetype": "text/x-python",
   "name": "python",
   "nbconvert_exporter": "python",
   "pygments_lexer": "ipython3",
   "version": "3.8.5"
  }
 },
 "nbformat": 4,
 "nbformat_minor": 4
}
