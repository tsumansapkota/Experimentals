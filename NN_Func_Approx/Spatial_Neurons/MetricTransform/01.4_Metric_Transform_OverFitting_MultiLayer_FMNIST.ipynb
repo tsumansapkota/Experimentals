{
 "cells": [
  {
   "cell_type": "code",
   "execution_count": 1,
   "metadata": {},
   "outputs": [],
   "source": [
    "import numpy as np\n",
    "import matplotlib.pyplot as plt\n",
    "import matplotlib\n",
    "%matplotlib inline\n",
    "# from mpl_toolkits.mplot3d import Axes3D\n",
    "\n",
    "import torch\n",
    "import torch.nn as nn\n",
    "import torch.nn.functional as F\n",
    "import torch.optim as optim\n",
    "from torch.utils import data\n",
    "from torchvision import datasets, transforms as T\n",
    "\n",
    "import random, os, pathlib, time\n",
    "from tqdm import tqdm\n",
    "# from sklearn import datasets"
   ]
  },
  {
   "cell_type": "code",
   "execution_count": 2,
   "metadata": {},
   "outputs": [],
   "source": [
    "# device = torch.device(\"cuda:0\")\n",
    "device = torch.device(\"cpu\")"
   ]
  },
  {
   "cell_type": "code",
   "execution_count": 3,
   "metadata": {},
   "outputs": [],
   "source": [
    "from tqdm import tqdm\n",
    "import os, time, sys\n",
    "import json"
   ]
  },
  {
   "cell_type": "code",
   "execution_count": 4,
   "metadata": {},
   "outputs": [],
   "source": [
    "import dtnnlib as dtnn"
   ]
  },
  {
   "cell_type": "code",
   "execution_count": 5,
   "metadata": {},
   "outputs": [],
   "source": [
    "mnist_transform = T.Compose([\n",
    "    T.ToTensor(),\n",
    "    T.Normalize(\n",
    "        mean=[0.5,],\n",
    "        std=[0.5,],\n",
    "    ),\n",
    "])\n",
    "\n",
    "train_dataset = datasets.FashionMNIST(root=\"../../../../_Datasets/\", train=True, download=True, transform=mnist_transform)\n",
    "test_dataset = datasets.FashionMNIST(root=\"../../../../_Datasets/\", train=False, download=True, transform=mnist_transform)\n",
    "\n",
    "# train_dataset = datasets.MNIST(root=\"../../../../_Datasets/\", train=True, download=True, transform=mnist_transform)\n",
    "# test_dataset = datasets.MNIST(root=\"../../../../_Datasets/\", train=False, download=True, transform=mnist_transform)"
   ]
  },
  {
   "cell_type": "code",
   "execution_count": 6,
   "metadata": {},
   "outputs": [],
   "source": [
    "batch_size = 50\n",
    "train_loader = data.DataLoader(dataset=train_dataset, num_workers=4, batch_size=batch_size, shuffle=True)\n",
    "test_loader = data.DataLoader(dataset=test_dataset, num_workers=4, batch_size=batch_size, shuffle=False)"
   ]
  },
  {
   "cell_type": "code",
   "execution_count": 7,
   "metadata": {},
   "outputs": [
    {
     "name": "stdout",
     "output_type": "stream",
     "text": [
      "torch.Size([50, 1, 28, 28]) torch.Size([50])\n"
     ]
    }
   ],
   "source": [
    "for xx, yy in train_loader:\n",
    "    xx, yy = xx.to(device), yy.to(device)\n",
    "    print(xx.shape, yy.shape)\n",
    "    break"
   ]
  },
  {
   "cell_type": "markdown",
   "metadata": {},
   "source": [
    "### Single Layer overfitting"
   ]
  },
  {
   "cell_type": "code",
   "execution_count": 8,
   "metadata": {},
   "outputs": [],
   "source": [
    "h1 = 200\n",
    "model = nn.Sequential(\n",
    "            dtnn.DistanceTransform_MinExp(784, h1),\n",
    "#             dtnn.DistanceTransform_Exp(784, h1),\n",
    "#             nn.BatchNorm1d(h1),\n",
    "#             nn.LeakyReLU(),\n",
    "            nn.Linear(h1, 10))"
   ]
  },
  {
   "cell_type": "code",
   "execution_count": 9,
   "metadata": {},
   "outputs": [
    {
     "data": {
      "text/plain": [
       "Sequential(\n",
       "  (0): DistanceTransform_MinExp()\n",
       "  (1): Linear(in_features=200, out_features=10, bias=True)\n",
       ")"
      ]
     },
     "execution_count": 9,
     "metadata": {},
     "output_type": "execute_result"
    }
   ],
   "source": [
    "model.to(device)"
   ]
  },
  {
   "cell_type": "code",
   "execution_count": 10,
   "metadata": {},
   "outputs": [],
   "source": [
    "# model[0].set_centroid_to_data_maxdist(train_loader)\n",
    "# model[0].set_centroid_to_data(train_loader)\n",
    "# model[0].set_centroid_to_data_randomly(train_loader)"
   ]
  },
  {
   "cell_type": "markdown",
   "metadata": {},
   "source": [
    "## Randomly"
   ]
  },
  {
   "cell_type": "code",
   "execution_count": 11,
   "metadata": {},
   "outputs": [],
   "source": [
    "N = model[0].centers.shape[0]\n",
    "new_center = []\n",
    "new_labels = []\n",
    "count = 0\n",
    "for i, (xx, yy) in enumerate(train_loader):\n",
    "    xx = xx.reshape(-1, model[0].input_dim).to(model[0].centers.device)\n",
    "    if count+xx.shape[0] < N:\n",
    "        new_center.append(xx)\n",
    "        new_labels.append(yy)\n",
    "        count += xx.shape[0]\n",
    "    elif count >= N:\n",
    "        break\n",
    "    else:\n",
    "        new_center.append(xx[:N-count])\n",
    "        new_labels.append(yy[:N-count])\n",
    "        count = N\n",
    "        break\n",
    "        \n",
    "new_center = torch.cat(new_center, dim=0)\n",
    "new_labels = torch.cat(new_labels, dim=0)"
   ]
  },
  {
   "cell_type": "markdown",
   "metadata": {},
   "source": [
    "## Maxdist"
   ]
  },
  {
   "cell_type": "code",
   "execution_count": 12,
   "metadata": {},
   "outputs": [],
   "source": [
    "# epoch = 0.2"
   ]
  },
  {
   "cell_type": "code",
   "execution_count": 13,
   "metadata": {},
   "outputs": [],
   "source": [
    "# N = model[0].centers.shape[0]\n",
    "# new_center = torch.empty_like(model[0].centers)\n",
    "# new_labels = torch.empty(model[0].num_centers, dtype=torch.long)\n",
    "\n",
    "# min_dists = torch.empty(N)\n",
    "# count = 0\n",
    "# steps = int(epoch*len(train_loader))\n",
    "# for i, (xx, yy) in enumerate(tqdm(train_loader)):\n",
    "#     if i > steps: break\n",
    "\n",
    "#     xx = xx.reshape(-1, model[0].input_dim).to(model[0].centers.device)\n",
    "#     if count < N:\n",
    "#         if N-count < train_loader.batch_size:\n",
    "#             #### final fillup\n",
    "#             new_center[count:count+N-count] = xx[:N-count]\n",
    "#             xx = xx[N-count:]\n",
    "#             yy = yy[N-count:]\n",
    "#             dists = torch.cdist(new_center, new_center)+torch.eye(N).to(model[0].centers.device)*1e5\n",
    "#             min_dists = dists.min(dim=0)[0]\n",
    "#             count = N\n",
    "\n",
    "#         else:#### fill the center\n",
    "#             new_center[count:count+len(xx)] = xx\n",
    "#             new_labels[count:count+len(xx)] = yy\n",
    "#             count += len(xx)\n",
    "#             continue\n",
    "\n",
    "#     ammd = min_dists.argmin()\n",
    "#     for i, x in enumerate(xx):\n",
    "#         dists = torch.norm(new_center-x, dim=1)\n",
    "#         md = dists.min()\n",
    "#         if md > min_dists[ammd]:\n",
    "#             min_dists[ammd] = md\n",
    "#             new_center[ammd] = x\n",
    "#             new_labels[ammd] = yy[i]\n",
    "#             ammd = min_dists.argmin()\n",
    "            \n",
    "# # self.centers.data = new_center.to(self.centers.device)"
   ]
  },
  {
   "cell_type": "code",
   "execution_count": 14,
   "metadata": {},
   "outputs": [
    {
     "data": {
      "text/plain": [
       "(torch.Size([200, 784]), torch.Size([200]))"
      ]
     },
     "execution_count": 14,
     "metadata": {},
     "output_type": "execute_result"
    }
   ],
   "source": [
    "new_center.shape, new_labels.shape"
   ]
  },
  {
   "cell_type": "markdown",
   "metadata": {},
   "source": [
    "## Set data as parameters\n"
   ]
  },
  {
   "cell_type": "code",
   "execution_count": 15,
   "metadata": {},
   "outputs": [],
   "source": [
    "weights = torch.zeros(len(new_labels), 10)\n",
    "for i in range(len(new_labels)):\n",
    "    weights[i, new_labels[i]] = 1.\n",
    "# weights"
   ]
  },
  {
   "cell_type": "code",
   "execution_count": 16,
   "metadata": {},
   "outputs": [
    {
     "data": {
      "text/plain": [
       "torch.Size([200, 10])"
      ]
     },
     "execution_count": 16,
     "metadata": {},
     "output_type": "execute_result"
    }
   ],
   "source": [
    "weights.shape"
   ]
  },
  {
   "cell_type": "code",
   "execution_count": 17,
   "metadata": {},
   "outputs": [],
   "source": [
    "model[0].centers.data = new_center.to(model[0].centers.device)\n",
    "model[-1].weight.data = weights.t().to(model[-1].weight.data)"
   ]
  },
  {
   "cell_type": "code",
   "execution_count": 18,
   "metadata": {},
   "outputs": [],
   "source": [
    "best_acc = -1\n",
    "def test(epoch, model):\n",
    "    global best_acc\n",
    "    model.eval()\n",
    "    test_loss = 0\n",
    "    correct = 0\n",
    "    total = 0\n",
    "    with torch.no_grad():\n",
    "#         for batch_idx, (inputs, targets) in enumerate(tqdm(test_loader)):\n",
    "        for batch_idx, (inputs, targets) in enumerate(test_loader):\n",
    "            inputs, targets = inputs.to(device).view(-1, 28*28), targets.to(device)\n",
    "            outputs = model(inputs)\n",
    "            loss = criterion(outputs, targets)\n",
    "\n",
    "            test_loss += loss.item()\n",
    "            _, predicted = outputs.max(1)\n",
    "            total += targets.size(0)\n",
    "            correct += predicted.eq(targets).sum().item()\n",
    "            \n",
    "    print(f\"[Test] {epoch} Loss: {test_loss/(batch_idx+1):.3f} | Acc: {100.*correct/total:.3f} {correct}/{total}\")\n",
    "    \n",
    "    acc = 100.*correct/total\n",
    "    return acc"
   ]
  },
  {
   "cell_type": "code",
   "execution_count": 19,
   "metadata": {},
   "outputs": [
    {
     "data": {
      "text/plain": [
       "Sequential(\n",
       "  (0): DistanceTransform_MinExp()\n",
       "  (1): Linear(in_features=200, out_features=10, bias=True)\n",
       ")"
      ]
     },
     "execution_count": 19,
     "metadata": {},
     "output_type": "execute_result"
    }
   ],
   "source": [
    "model.eval()"
   ]
  },
  {
   "cell_type": "code",
   "execution_count": 20,
   "metadata": {},
   "outputs": [],
   "source": [
    "criterion = nn.CrossEntropyLoss()"
   ]
  },
  {
   "cell_type": "code",
   "execution_count": 21,
   "metadata": {},
   "outputs": [
    {
     "name": "stdout",
     "output_type": "stream",
     "text": [
      "[Test] 0 Loss: 1.215 | Acc: 66.930 6693/10000\n"
     ]
    },
    {
     "data": {
      "text/plain": [
       "66.93"
      ]
     },
     "execution_count": 21,
     "metadata": {},
     "output_type": "execute_result"
    }
   ],
   "source": [
    "test_acc = test(0, model)\n",
    "test_acc"
   ]
  },
  {
   "cell_type": "markdown",
   "metadata": {},
   "source": [
    "# Test MultiLayer data init"
   ]
  },
  {
   "cell_type": "code",
   "execution_count": 22,
   "metadata": {},
   "outputs": [],
   "source": [
    "h2 = 100\n",
    "model = nn.Sequential(\n",
    "            dtnn.DistanceTransform_MinExp(784, h1),\n",
    "            dtnn.DistanceTransform_MinExp(h1, h2),\n",
    "            nn.Linear(h2, 10))"
   ]
  },
  {
   "cell_type": "code",
   "execution_count": 23,
   "metadata": {},
   "outputs": [
    {
     "data": {
      "text/plain": [
       "Sequential(\n",
       "  (0): DistanceTransform_MinExp()\n",
       "  (1): DistanceTransform_MinExp()\n",
       "  (2): Linear(in_features=100, out_features=10, bias=True)\n",
       ")"
      ]
     },
     "execution_count": 23,
     "metadata": {},
     "output_type": "execute_result"
    }
   ],
   "source": [
    "model.eval()"
   ]
  },
  {
   "cell_type": "markdown",
   "metadata": {},
   "source": [
    "### Randomly select samples"
   ]
  },
  {
   "cell_type": "code",
   "execution_count": 24,
   "metadata": {},
   "outputs": [],
   "source": [
    "N = h2\n",
    "new_center2 = []\n",
    "new_labels2 = []\n",
    "count = 0\n",
    "for i, (xx, yy) in enumerate(train_loader):\n",
    "    xx = xx.reshape(-1, model[0].input_dim).to(model[0].centers.device)\n",
    "    if count+xx.shape[0] < N:\n",
    "        new_center2.append(xx)\n",
    "        new_labels2.append(yy)\n",
    "        count += xx.shape[0]\n",
    "    elif count >= N:\n",
    "        break\n",
    "    else:\n",
    "        new_center2.append(xx[:N-count])\n",
    "        new_labels2.append(yy[:N-count])\n",
    "        count = N\n",
    "        break\n",
    "        \n",
    "new_center2 = torch.cat(new_center2, dim=0)\n",
    "new_labels2 = torch.cat(new_labels2, dim=0)"
   ]
  },
  {
   "cell_type": "code",
   "execution_count": 25,
   "metadata": {},
   "outputs": [
    {
     "data": {
      "text/plain": [
       "(torch.Size([200, 784]), torch.Size([100, 784]))"
      ]
     },
     "execution_count": 25,
     "metadata": {},
     "output_type": "execute_result"
    }
   ],
   "source": [
    "new_center.shape, new_center2.shape"
   ]
  },
  {
   "cell_type": "code",
   "execution_count": 26,
   "metadata": {},
   "outputs": [],
   "source": [
    "# if len(new_center) < h2:\n",
    "#     raise Exception(\"The function below does not support increasing hidden units ..\")"
   ]
  },
  {
   "cell_type": "markdown",
   "metadata": {},
   "source": [
    "#### Layer 1"
   ]
  },
  {
   "cell_type": "code",
   "execution_count": 27,
   "metadata": {},
   "outputs": [],
   "source": [
    "model[0].centers.data = new_center.to(model[0].centers.device)"
   ]
  },
  {
   "cell_type": "markdown",
   "metadata": {},
   "source": [
    "#### Layer 2"
   ]
  },
  {
   "cell_type": "code",
   "execution_count": 28,
   "metadata": {},
   "outputs": [
    {
     "data": {
      "text/plain": [
       "torch.Size([200, 200])"
      ]
     },
     "execution_count": 28,
     "metadata": {},
     "output_type": "execute_result"
    }
   ],
   "source": [
    "xx_ = model[0].centers.data\n",
    "yy_ = new_labels\n",
    "if h2>h1:\n",
    "    xx_ = torch.cat([new_center, new_center2[:h2-h1]], dim=0)\n",
    "    yy_ = torch.cat([new_labels, new_labels2[:h2-h1]], dim=0)\n",
    "\n",
    "a1 = model[0](xx_)\n",
    "a1.shape"
   ]
  },
  {
   "cell_type": "code",
   "execution_count": 29,
   "metadata": {},
   "outputs": [
    {
     "data": {
      "text/plain": [
       "torch.Size([100, 200])"
      ]
     },
     "execution_count": 29,
     "metadata": {},
     "output_type": "execute_result"
    }
   ],
   "source": [
    "model[1].centers.shape"
   ]
  },
  {
   "cell_type": "code",
   "execution_count": 30,
   "metadata": {},
   "outputs": [],
   "source": [
    "model[1].centers.data = a1.data[:h2].clone()"
   ]
  },
  {
   "cell_type": "markdown",
   "metadata": {},
   "source": [
    "#### Layer 3 (Final layer)"
   ]
  },
  {
   "cell_type": "code",
   "execution_count": 31,
   "metadata": {},
   "outputs": [],
   "source": [
    "weights = torch.zeros(h2, 10)\n",
    "for i in range(h2): ## not all activations(of centers) fit into neurons in layer 2\n",
    "    weights[i, yy_[i]] = 1.\n",
    "# weights"
   ]
  },
  {
   "cell_type": "code",
   "execution_count": 32,
   "metadata": {},
   "outputs": [
    {
     "data": {
      "text/plain": [
       "torch.Size([100, 10])"
      ]
     },
     "execution_count": 32,
     "metadata": {},
     "output_type": "execute_result"
    }
   ],
   "source": [
    "weights.shape"
   ]
  },
  {
   "cell_type": "code",
   "execution_count": 33,
   "metadata": {},
   "outputs": [
    {
     "data": {
      "text/plain": [
       "torch.Size([10, 100])"
      ]
     },
     "execution_count": 33,
     "metadata": {},
     "output_type": "execute_result"
    }
   ],
   "source": [
    "model[-1].weight.shape"
   ]
  },
  {
   "cell_type": "code",
   "execution_count": 34,
   "metadata": {},
   "outputs": [],
   "source": [
    "model[-1].weight.data = weights.t().to(model[-1].weight.data)"
   ]
  },
  {
   "cell_type": "code",
   "execution_count": 35,
   "metadata": {},
   "outputs": [
    {
     "data": {
      "text/plain": [
       "torch.Size([50, 10])"
      ]
     },
     "execution_count": 35,
     "metadata": {},
     "output_type": "execute_result"
    }
   ],
   "source": [
    "model(xx).shape"
   ]
  },
  {
   "cell_type": "markdown",
   "metadata": {},
   "source": [
    "#### Test performance"
   ]
  },
  {
   "cell_type": "code",
   "execution_count": 36,
   "metadata": {},
   "outputs": [
    {
     "name": "stdout",
     "output_type": "stream",
     "text": [
      "[Test] 0 Loss: 1.817 | Acc: 59.800 5980/10000\n"
     ]
    },
    {
     "data": {
      "text/plain": [
       "59.8"
      ]
     },
     "execution_count": 36,
     "metadata": {},
     "output_type": "execute_result"
    }
   ],
   "source": [
    "test_acc2 = test(0, model)\n",
    "test_acc2"
   ]
  },
  {
   "cell_type": "code",
   "execution_count": 37,
   "metadata": {},
   "outputs": [
    {
     "data": {
      "text/plain": [
       "torch.Size([100, 200])"
      ]
     },
     "execution_count": 37,
     "metadata": {},
     "output_type": "execute_result"
    }
   ],
   "source": [
    "model[1].centers.shape"
   ]
  },
  {
   "cell_type": "markdown",
   "metadata": {},
   "source": [
    "## Initialize second layer with different sets of samples"
   ]
  },
  {
   "cell_type": "code",
   "execution_count": 38,
   "metadata": {},
   "outputs": [],
   "source": [
    "# N = h2\n",
    "# new_center2 = []\n",
    "# new_labels2 = []\n",
    "# count = 0\n",
    "# for i, (xx, yy) in enumerate(train_loader):\n",
    "#     xx = xx.reshape(-1, model[0].input_dim).to(model[0].centers.device)\n",
    "#     if count+xx.shape[0] < N:\n",
    "#         new_center2.append(xx)\n",
    "#         new_labels2.append(yy)\n",
    "#         count += xx.shape[0]\n",
    "#     elif count >= N:\n",
    "#         break\n",
    "#     else:\n",
    "#         new_center2.append(xx[:N-count])\n",
    "#         new_labels2.append(yy[:N-count])\n",
    "#         count = N\n",
    "#         break\n",
    "        \n",
    "# new_center2 = torch.cat(new_center2, dim=0)\n",
    "# new_labels2 = torch.cat(new_labels2, dim=0)"
   ]
  },
  {
   "cell_type": "code",
   "execution_count": 39,
   "metadata": {},
   "outputs": [
    {
     "data": {
      "text/plain": [
       "torch.Size([100, 784])"
      ]
     },
     "execution_count": 39,
     "metadata": {},
     "output_type": "execute_result"
    }
   ],
   "source": [
    "new_center2.shape"
   ]
  },
  {
   "cell_type": "markdown",
   "metadata": {},
   "source": [
    "#### Layer 1"
   ]
  },
  {
   "cell_type": "code",
   "execution_count": 40,
   "metadata": {},
   "outputs": [],
   "source": [
    "model[0].centers.data = new_center.to(model[0].centers.device)"
   ]
  },
  {
   "cell_type": "code",
   "execution_count": 41,
   "metadata": {},
   "outputs": [
    {
     "data": {
      "text/plain": [
       "torch.Size([100, 200])"
      ]
     },
     "execution_count": 41,
     "metadata": {},
     "output_type": "execute_result"
    }
   ],
   "source": [
    "a1 = model[0](new_center2)\n",
    "a1.shape"
   ]
  },
  {
   "cell_type": "markdown",
   "metadata": {},
   "source": [
    "#### Layer 2"
   ]
  },
  {
   "cell_type": "code",
   "execution_count": 42,
   "metadata": {},
   "outputs": [
    {
     "data": {
      "text/plain": [
       "torch.Size([100, 200])"
      ]
     },
     "execution_count": 42,
     "metadata": {},
     "output_type": "execute_result"
    }
   ],
   "source": [
    "model[1].centers.shape"
   ]
  },
  {
   "cell_type": "code",
   "execution_count": 43,
   "metadata": {},
   "outputs": [],
   "source": [
    "model[1].centers.data = a1.data[:h2].clone()"
   ]
  },
  {
   "cell_type": "markdown",
   "metadata": {},
   "source": [
    "#### Layer 3 (Final layer)"
   ]
  },
  {
   "cell_type": "code",
   "execution_count": 44,
   "metadata": {},
   "outputs": [],
   "source": [
    "weights = torch.zeros(h2, 10)\n",
    "for i in range(h2): ## not all activations(of centers) fit into neurons in layer 2\n",
    "    weights[i, new_labels2[i]] = 1.\n",
    "# weights"
   ]
  },
  {
   "cell_type": "code",
   "execution_count": 45,
   "metadata": {},
   "outputs": [],
   "source": [
    "model[-1].weight.data = weights.t().to(model[-1].weight.data)"
   ]
  },
  {
   "cell_type": "markdown",
   "metadata": {},
   "source": [
    "#### Test performance"
   ]
  },
  {
   "cell_type": "code",
   "execution_count": 46,
   "metadata": {},
   "outputs": [
    {
     "name": "stdout",
     "output_type": "stream",
     "text": [
      "[Test] 0 Loss: 1.582 | Acc: 61.030 6103/10000\n"
     ]
    },
    {
     "data": {
      "text/plain": [
       "61.03"
      ]
     },
     "execution_count": 46,
     "metadata": {},
     "output_type": "execute_result"
    }
   ],
   "source": [
    "test_acc3 = test(0, model)\n",
    "test_acc3"
   ]
  },
  {
   "cell_type": "code",
   "execution_count": null,
   "metadata": {},
   "outputs": [],
   "source": []
  },
  {
   "cell_type": "code",
   "execution_count": 47,
   "metadata": {},
   "outputs": [
    {
     "data": {
      "text/plain": [
       "(66.93, 59.8, 61.03)"
      ]
     },
     "execution_count": 47,
     "metadata": {},
     "output_type": "execute_result"
    }
   ],
   "source": [
    "test_acc, test_acc2, test_acc3"
   ]
  },
  {
   "cell_type": "markdown",
   "metadata": {},
   "source": [
    "## Benchmark with stats"
   ]
  },
  {
   "cell_type": "code",
   "execution_count": 48,
   "metadata": {},
   "outputs": [],
   "source": [
    "# HIDDEN_UNITS = [10, 50, 200, 1000, 5000, 20000]\n",
    "\n",
    "# seed = 2023\n",
    "# np.random.seed(seed)\n",
    "# SEEDS = np.random.randint(0, high=9999, size=20)\n",
    "# SEEDS"
   ]
  },
  {
   "cell_type": "code",
   "execution_count": 49,
   "metadata": {},
   "outputs": [],
   "source": [
    "# test_accuracy = {h:[] for h in HIDDEN_UNITS}\n",
    "# test_accuracy"
   ]
  },
  {
   "cell_type": "code",
   "execution_count": 50,
   "metadata": {},
   "outputs": [],
   "source": [
    "# def get_centers_and_labels(data_loader, N):\n",
    "#     new_center = []\n",
    "#     new_labels = []\n",
    "#     count = 0\n",
    "#     for i, (xx, yy) in enumerate(data_loader):\n",
    "#         xx = xx.reshape(-1, model[0].input_dim).to(model[0].centers.device)\n",
    "#         if count+xx.shape[0] < N:\n",
    "#             new_center.append(xx)\n",
    "#             new_labels.append(yy)\n",
    "#             count += xx.shape[0]\n",
    "#         elif count >= N:\n",
    "#             break\n",
    "#         else:\n",
    "#             new_center.append(xx[:N-count])\n",
    "#             new_labels.append(yy[:N-count])\n",
    "#             count = N\n",
    "#             break\n",
    "\n",
    "#     new_center = torch.cat(new_center, dim=0)\n",
    "#     new_labels = torch.cat(new_labels, dim=0)\n",
    "#     return new_center, new_labels"
   ]
  },
  {
   "cell_type": "code",
   "execution_count": 51,
   "metadata": {
    "scrolled": true
   },
   "outputs": [],
   "source": [
    "# batch_size = 50\n",
    "# for h in HIDDEN_UNITS:\n",
    "#     print(f\"Experiment for Hidden units: {h}\")\n",
    "#     for seed in tqdm(SEEDS):\n",
    "#         seed = int(seed)\n",
    "#         torch.manual_seed(seed)\n",
    "#         np.random.seed(seed)\n",
    "#         random.seed(seed)\n",
    "        \n",
    "#         train_loader = data.DataLoader(dataset=train_dataset, num_workers=4, batch_size=batch_size, shuffle=True)\n",
    "#         test_loader = data.DataLoader(dataset=test_dataset, num_workers=4, batch_size=batch_size, shuffle=False)\n",
    "        \n",
    "#         model = nn.Sequential(\n",
    "#                     dtnn.DistanceTransform_MinExp(784, h),\n",
    "#                     nn.LeakyReLU(),\n",
    "#                     nn.Linear(h, 10)).to(device)\n",
    "        \n",
    "#         new_center, new_labels = get_centers_and_labels(train_loader, h)\n",
    "#         weights = torch.zeros(len(new_labels), 10)\n",
    "#         for i in range(len(new_labels)):\n",
    "#             weights[i, new_labels[i]] = 1.\n",
    "            \n",
    "#         model[0].centers.data = new_center.to(model[0].centers.device)\n",
    "#         model[-1].weight.data = weights.t().to(model[-1].weight.data)\n",
    "#         model.eval()\n",
    "        \n",
    "#         test_acc = test(0, model)\n",
    "#         test_accuracy[h].append(test_acc)"
   ]
  },
  {
   "cell_type": "code",
   "execution_count": 52,
   "metadata": {},
   "outputs": [],
   "source": [
    "# print(f\"H \\tMean \\t\\tSTD \\tMAX\")\n",
    "# for k, v in test_accuracy.items():\n",
    "# #     print(k, v)\n",
    "#     print(f\"{k} \\t{np.mean(v):.4f} \\t{np.std(v):.4f} \\t{np.max(v)}\")"
   ]
  },
  {
   "cell_type": "code",
   "execution_count": null,
   "metadata": {},
   "outputs": [],
   "source": [
    "## Simplified init for "
   ]
  }
 ],
 "metadata": {
  "kernelspec": {
   "display_name": "Python 3",
   "language": "python",
   "name": "python3"
  },
  "language_info": {
   "codemirror_mode": {
    "name": "ipython",
    "version": 3
   },
   "file_extension": ".py",
   "mimetype": "text/x-python",
   "name": "python",
   "nbconvert_exporter": "python",
   "pygments_lexer": "ipython3",
   "version": "3.7.4"
  }
 },
 "nbformat": 4,
 "nbformat_minor": 5
}
