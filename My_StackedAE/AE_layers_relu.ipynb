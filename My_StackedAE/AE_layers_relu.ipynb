{
 "cells": [
  {
   "cell_type": "code",
   "execution_count": 2,
   "metadata": {},
   "outputs": [
    {
     "name": "stderr",
     "output_type": "stream",
     "text": [
      "c:\\users\\heythere\\appdata\\local\\programs\\python\\python35\\lib\\site-packages\\h5py\\__init__.py:36: FutureWarning: Conversion of the second argument of issubdtype from `float` to `np.floating` is deprecated. In future, it will be treated as `np.float64 == np.dtype(float).type`.\n",
      "  from ._conv import register_converters as _register_converters\n"
     ]
    }
   ],
   "source": [
    "import numpy as np\n",
    "import tensorflow as tf\n",
    "import matplotlib.pyplot as plt\n",
    "%matplotlib inline"
   ]
  },
  {
   "cell_type": "code",
   "execution_count": 3,
   "metadata": {},
   "outputs": [],
   "source": [
    "from tensorflow.examples.tutorials.mnist import input_data"
   ]
  },
  {
   "cell_type": "code",
   "execution_count": 4,
   "metadata": {},
   "outputs": [
    {
     "name": "stdout",
     "output_type": "stream",
     "text": [
      "WARNING:tensorflow:From <ipython-input-4-b22782e32495>:1: read_data_sets (from tensorflow.contrib.learn.python.learn.datasets.mnist) is deprecated and will be removed in a future version.\n",
      "Instructions for updating:\n",
      "Please use alternatives such as official/mnist/dataset.py from tensorflow/models.\n",
      "WARNING:tensorflow:From c:\\users\\heythere\\appdata\\local\\programs\\python\\python35\\lib\\site-packages\\tensorflow\\contrib\\learn\\python\\learn\\datasets\\mnist.py:260: maybe_download (from tensorflow.contrib.learn.python.learn.datasets.base) is deprecated and will be removed in a future version.\n",
      "Instructions for updating:\n",
      "Please write your own downloading logic.\n",
      "WARNING:tensorflow:From c:\\users\\heythere\\appdata\\local\\programs\\python\\python35\\lib\\site-packages\\tensorflow\\contrib\\learn\\python\\learn\\datasets\\mnist.py:262: extract_images (from tensorflow.contrib.learn.python.learn.datasets.mnist) is deprecated and will be removed in a future version.\n",
      "Instructions for updating:\n",
      "Please use tf.data to implement this functionality.\n",
      "Extracting ../../Tensorflow-Bootcamp-master/03-Convolutional-Neural-Networks/MNIST_data/train-images-idx3-ubyte.gz\n",
      "WARNING:tensorflow:From c:\\users\\heythere\\appdata\\local\\programs\\python\\python35\\lib\\site-packages\\tensorflow\\contrib\\learn\\python\\learn\\datasets\\mnist.py:267: extract_labels (from tensorflow.contrib.learn.python.learn.datasets.mnist) is deprecated and will be removed in a future version.\n",
      "Instructions for updating:\n",
      "Please use tf.data to implement this functionality.\n",
      "Extracting ../../Tensorflow-Bootcamp-master/03-Convolutional-Neural-Networks/MNIST_data/train-labels-idx1-ubyte.gz\n",
      "WARNING:tensorflow:From c:\\users\\heythere\\appdata\\local\\programs\\python\\python35\\lib\\site-packages\\tensorflow\\contrib\\learn\\python\\learn\\datasets\\mnist.py:110: dense_to_one_hot (from tensorflow.contrib.learn.python.learn.datasets.mnist) is deprecated and will be removed in a future version.\n",
      "Instructions for updating:\n",
      "Please use tf.one_hot on tensors.\n",
      "Extracting ../../Tensorflow-Bootcamp-master/03-Convolutional-Neural-Networks/MNIST_data/t10k-images-idx3-ubyte.gz\n",
      "Extracting ../../Tensorflow-Bootcamp-master/03-Convolutional-Neural-Networks/MNIST_data/t10k-labels-idx1-ubyte.gz\n",
      "WARNING:tensorflow:From c:\\users\\heythere\\appdata\\local\\programs\\python\\python35\\lib\\site-packages\\tensorflow\\contrib\\learn\\python\\learn\\datasets\\mnist.py:290: DataSet.__init__ (from tensorflow.contrib.learn.python.learn.datasets.mnist) is deprecated and will be removed in a future version.\n",
      "Instructions for updating:\n",
      "Please use alternatives such as official/mnist/dataset.py from tensorflow/models.\n"
     ]
    }
   ],
   "source": [
    "mnist = input_data.read_data_sets(\"../../Tensorflow-Bootcamp-master/03-Convolutional-Neural-Networks/MNIST_data/\",one_hot=True)"
   ]
  },
  {
   "cell_type": "code",
   "execution_count": 5,
   "metadata": {},
   "outputs": [],
   "source": [
    "tf.reset_default_graph() "
   ]
  },
  {
   "cell_type": "code",
   "execution_count": 6,
   "metadata": {},
   "outputs": [],
   "source": [
    "# DEFINE parameters\n",
    "num_inputs = 784 # 28*28\n",
    "neurons_hid1 = 392\n",
    "neurons_hid2 = 196\n",
    "neurons_hid3 = 98\n",
    "neurons_hid4 = 49\n",
    "neurons_hid5 = 25\n",
    "neurons_hid6 = 12\n",
    "neurons_hid7 = 6\n",
    "neurons_hid8 = 3\n",
    "neurons_hid9 = 2\n",
    "neurons_hid10 = 1\n",
    "\n",
    "learning_rate = 0.0003"
   ]
  },
  {
   "cell_type": "code",
   "execution_count": 7,
   "metadata": {},
   "outputs": [],
   "source": [
    "# PINV(PSEUDO-INVERSE) function\n",
    "def pinv(a, rcond=1e-15):\n",
    "    s, u, v = tf.svd(a)\n",
    "    # Ignore singular values close to zero to prevent numerical overflow\n",
    "    limit = rcond * tf.reduce_max(s)\n",
    "    non_zero = tf.greater(s, limit)\n",
    "\n",
    "    reciprocal = tf.where(non_zero, tf.reciprocal(s), tf.zeros(s.shape))\n",
    "    lhs = tf.matmul(v, tf.diag(reciprocal))\n",
    "    return tf.matmul(lhs, u, transpose_b=True)"
   ]
  },
  {
   "cell_type": "code",
   "execution_count": 8,
   "metadata": {},
   "outputs": [],
   "source": [
    "## PLACEHOLDER DEFINATION\n",
    "X = tf.placeholder(tf.float32, shape=[None, num_inputs])"
   ]
  },
  {
   "cell_type": "code",
   "execution_count": 9,
   "metadata": {},
   "outputs": [],
   "source": [
    "# TRANSPOSE OR PINV\n",
    "tie_weight = tf.transpose #pinv"
   ]
  },
  {
   "cell_type": "code",
   "execution_count": 10,
   "metadata": {},
   "outputs": [],
   "source": [
    "## WEIGHTS DEFINATION\n",
    "initializer = tf.variance_scaling_initializer()\n",
    "\n",
    "w1 = tf.Variable(initializer([num_inputs,neurons_hid1]), dtype=tf.float32)\n",
    "w1_ = tie_weight(w1)\n",
    "b1 = tf.Variable(tf.zeros([neurons_hid1]))"
   ]
  },
  {
   "cell_type": "code",
   "execution_count": 11,
   "metadata": {},
   "outputs": [],
   "source": [
    "# ACTIVATION FUNCTION  [ lambda X:X  <OR>  tf.nn.relu  ]\n",
    "# act_func = lambda X:X\n",
    "act_func = tf.nn.relu"
   ]
  },
  {
   "cell_type": "code",
   "execution_count": 12,
   "metadata": {},
   "outputs": [],
   "source": [
    "# LAYER MODELING OF :NN\n",
    "hid_layer1 = act_func(tf.matmul(X, w1)+b1)\n",
    "output_layer = tf.matmul(hid_layer1, w1_)"
   ]
  },
  {
   "cell_type": "code",
   "execution_count": 13,
   "metadata": {},
   "outputs": [],
   "source": [
    "# LOSS FUNCTIONS\n",
    "loss = tf.reduce_mean(tf.square(output_layer - X))\n",
    "# loss = tf.reduce_mean(tf.abs(output_layer - X))\n",
    "# cross_entropy = tf.reduce_mean(tf.nn.softmax_cross_entropy_with_logits(labels=Y,logits=yout))"
   ]
  },
  {
   "cell_type": "code",
   "execution_count": 15,
   "metadata": {},
   "outputs": [],
   "source": [
    "# TRAINING\n",
    "optimizer = tf.train.AdamOptimizer(learning_rate)\n",
    "train = optimizer.minimize(loss, var_list=[w1, b1])"
   ]
  },
  {
   "cell_type": "code",
   "execution_count": 16,
   "metadata": {},
   "outputs": [],
   "source": [
    "# PREPARATION\n",
    "init = tf.global_variables_initializer()\n",
    "saver = tf.train.Saver() "
   ]
  },
  {
   "cell_type": "code",
   "execution_count": 21,
   "metadata": {},
   "outputs": [
    {
     "name": "stdout",
     "output_type": "stream",
     "text": [
      "Epoch 0 Complete. Training Loss: 0.00703484145924449\n",
      "Epoch 1 Complete. Training Loss: 0.004859248176217079\n",
      "Epoch 2 Complete. Training Loss: 0.003829709952697158\n",
      "Epoch 3 Complete. Training Loss: 0.0030158180743455887\n",
      "Epoch 4 Complete. Training Loss: 0.0024550354573875666\n",
      "Epoch 5 Complete. Training Loss: 0.0018937268760055304\n",
      "Epoch 6 Complete. Training Loss: 0.0015294362092390656\n",
      "Epoch 7 Complete. Training Loss: 0.0011094494257122278\n",
      "Epoch 8 Complete. Training Loss: 0.0010642961133271456\n",
      "Epoch 9 Complete. Training Loss: 0.0007657624664716423\n",
      "Epoch 10 Complete. Training Loss: 0.0007014225120656192\n",
      "Epoch 11 Complete. Training Loss: 0.0005767383845523\n",
      "Epoch 12 Complete. Training Loss: 0.0005265063373371959\n",
      "Epoch 13 Complete. Training Loss: 0.0005269250250421464\n",
      "Epoch 14 Complete. Training Loss: 0.0005042410339228809\n",
      "Epoch 15 Complete. Training Loss: 0.000530115095898509\n",
      "Epoch 16 Complete. Training Loss: 0.0004512513696681708\n",
      "Epoch 17 Complete. Training Loss: 0.0003965772921219468\n",
      "Epoch 18 Complete. Training Loss: 0.0004081111983396113\n",
      "Epoch 19 Complete. Training Loss: 0.00039077221299521625\n",
      "Epoch 20 Complete. Training Loss: 0.0003462180320639163\n",
      "Epoch 21 Complete. Training Loss: 0.00048752399743534625\n",
      "Epoch 22 Complete. Training Loss: 0.00037301660631783307\n",
      "Epoch 23 Complete. Training Loss: 0.00047977021313272417\n",
      "Epoch 24 Complete. Training Loss: 0.00040811728104017675\n",
      "Epoch 25 Complete. Training Loss: 0.00040474411798641086\n",
      "Epoch 26 Complete. Training Loss: 0.00039209178066812456\n",
      "Epoch 27 Complete. Training Loss: 0.0003877569979522377\n",
      "Epoch 28 Complete. Training Loss: 0.0003604619996622205\n",
      "Epoch 29 Complete. Training Loss: 0.0003634764871094376\n",
      "Epoch 30 Complete. Training Loss: 0.00032582704443484545\n",
      "Epoch 31 Complete. Training Loss: 0.00043162648216821253\n",
      "Epoch 32 Complete. Training Loss: 0.0003457491984590888\n",
      "Epoch 33 Complete. Training Loss: 0.00036866110167466104\n",
      "Epoch 34 Complete. Training Loss: 0.000406051694881171\n",
      "Epoch 35 Complete. Training Loss: 0.0003354418440721929\n",
      "Epoch 36 Complete. Training Loss: 0.0004121609090361744\n",
      "Epoch 37 Complete. Training Loss: 0.0003653374151326716\n",
      "Epoch 38 Complete. Training Loss: 0.0003730749886017293\n",
      "Epoch 39 Complete. Training Loss: 0.00040297501254826784\n",
      "Epoch 40 Complete. Training Loss: 0.0003405192110221833\n",
      "Epoch 41 Complete. Training Loss: 0.00034935749135911465\n",
      "Epoch 42 Complete. Training Loss: 0.00036788263241760433\n",
      "Epoch 43 Complete. Training Loss: 0.0003620031347963959\n",
      "Epoch 44 Complete. Training Loss: 0.0003337607195135206\n",
      "Epoch 45 Complete. Training Loss: 0.0003476278798189014\n",
      "Epoch 46 Complete. Training Loss: 0.00030341456294991076\n",
      "Epoch 47 Complete. Training Loss: 0.00038506893906742334\n",
      "Epoch 48 Complete. Training Loss: 0.0004084220854565501\n",
      "Epoch 49 Complete. Training Loss: 0.00036791290040127933\n",
      "Epoch 50 Complete. Training Loss: 0.00031645101262256503\n",
      "Epoch 51 Complete. Training Loss: 0.00035924871917814016\n",
      "Keyboard Interrupted\n",
      "Finished Training the Model\n"
     ]
    }
   ],
   "source": [
    "num_epochs = 100\n",
    "batch_size = 150\n",
    "\n",
    "try:\n",
    "    with tf.Session() as sess:\n",
    "        sess.run(init)\n",
    "\n",
    "        # Epoch == Entire Training Set\n",
    "        for epoch in range(num_epochs):\n",
    "            num_batches = mnist.train.num_examples // batch_size\n",
    "\n",
    "            # 150 batch size\n",
    "            for iteration in range(num_batches):\n",
    "                X_batch, y_batch = mnist.train.next_batch(batch_size)\n",
    "                sess.run(train, feed_dict={X: X_batch})\n",
    "\n",
    "            training_loss = loss.eval(feed_dict={X: X_batch})   \n",
    "            print(\"Epoch {} Complete. Training Loss: {}\".format(epoch,training_loss))\n",
    "            saver.save(sess, \"./save/ae_1_relu.ckpt\")      \n",
    "except KeyboardInterrupt:\n",
    "    print('Keyboard Interrupted')\n",
    "finally:\n",
    "    print('Finished Training the Model')"
   ]
  },
  {
   "cell_type": "code",
   "execution_count": 22,
   "metadata": {},
   "outputs": [
    {
     "name": "stdout",
     "output_type": "stream",
     "text": [
      "INFO:tensorflow:Restoring parameters from ./save/ae_1_relu.ckpt\n"
     ]
    }
   ],
   "source": [
    "num_test_images = 10\n",
    "start_point = 15\n",
    "with tf.Session() as sess:\n",
    "    \n",
    "    saver.restore(sess,\"./save/ae_1_relu.ckpt\")\n",
    "    \n",
    "    results,compressed = sess.run([output_layer, hid_layer1],\n",
    "                                  feed_dict={X:mnist.test.images[start_point:num_test_images+start_point]})\n",
    "    weight1 = w1.eval()\n",
    "    biases1 = b1.eval()"
   ]
  },
  {
   "cell_type": "code",
   "execution_count": 23,
   "metadata": {},
   "outputs": [
    {
     "data": {
      "image/png": "[encoded data removed]",
      "text/plain": [
       "<matplotlib.figure.Figure at 0x20c844ce940>"
      ]
     },
     "metadata": {},
     "output_type": "display_data"
    }
   ],
   "source": [
    "# ORIGINAL VS RECONSTRUCTED\n",
    "f, a = plt.subplots(2, num_test_images, figsize=(20, 4))\n",
    "for i in range(start_point,num_test_images+start_point):\n",
    "    j = i-start_point\n",
    "    a[0][j].imshow(np.reshape(mnist.test.images[i], (28, 28)))\n",
    "    a[1][j].imshow(np.reshape(results[j], (28, 28)))"
   ]
  },
  {
   "cell_type": "code",
   "execution_count": 25,
   "metadata": {},
   "outputs": [
    {
     "name": "stdout",
     "output_type": "stream",
     "text": [
      "[ 0.813  0.863  0.729  0.226  0.574  0.244  0.759  0.815  0.732  0.202\n",
      "  0.824  0.746  0.552  0.133  0.959  0.118  0.949  0.867  0.754  0.592\n",
      "  0.464  1.007  0.83   0.281  0.569  0.135  0.988  0.483  0.178  0.963\n",
      "  0.346  0.451  0.394  0.365  0.516  0.993  1.011  0.401  0.069  0.506\n",
      "  0.8    0.528  0.305  0.188  0.808  0.143  0.312  0.501  0.672  0.652\n",
      "  0.046  0.899  1.041  0.718  0.429  0.502  0.747  0.799  1.058  0.806\n",
      "  0.344  0.191  0.835  0.738  0.636  0.334  0.091  0.497  0.374  0.716\n",
      "  0.486  0.84   0.106  0.205  0.366  1.024  0.883  0.858  0.738  1.011\n",
      "  0.131  0.935  0.72   1.03   0.784  0.975  0.947  0.835  0.858  0.127\n",
      "  0.192  0.906  0.945  0.614  0.566  0.163  1.037  0.1    0.547  0.617\n",
      "  0.752 -0.005  0.825  0.912  0.396  0.174  0.745  0.84   0.281  0.77\n",
      "  0.05   0.224  0.681  0.689  0.129  0.115  0.418  0.514  0.147  0.999\n",
      "  0.954  0.883  0.938  0.073  0.827  0.916  0.546  0.007  0.221  0.878\n",
      "  0.385  0.722  0.89   0.497  0.276  0.487  0.129  0.827  0.597  0.967\n",
      "  0.152  0.82   0.884  0.825  0.807  0.636  0.439  0.975  0.519  0.306\n",
      "  0.823  0.91   0.775  0.733  0.656  0.616  0.807  0.31   0.517  0.764\n",
      "  0.557  0.302  0.392  0.032  0.61   0.295  0.184  0.686  0.584  0.78\n",
      "  0.518  0.681  0.991  0.22   0.253  0.86   0.414  0.903  0.266  0.938\n",
      "  0.924  0.061  0.801  0.47   0.355 -0.092  1.01   0.959  0.787  0.405\n",
      "  0.934  0.642  0.858  0.744  0.38   1.008  0.92   0.165  0.953  0.932\n",
      "  0.934  0.711  0.916  0.948  1.056  0.725  0.14   0.17   0.839  0.714\n",
      "  0.56   0.383  0.266  0.963  0.699  0.826  0.534  0.042  0.802  0.073\n",
      "  0.523  0.52   0.261  0.083  1.003  0.908  0.729  0.925  0.763  0.973\n",
      "  0.371  0.913  0.242  0.428  0.267  0.892  0.133  0.946  0.423  0.258\n",
      "  0.551  0.776  0.227  0.778  0.953  0.477  0.228  0.421  0.384  0.013\n",
      "  0.582  0.868  0.09   0.96   0.234  0.494  0.573  0.59   0.939  0.903\n",
      "  0.234  0.359  0.954  0.814  0.859  0.939  0.37   0.304  0.087  0.289\n",
      "  0.198  0.034  0.942  0.205  0.52   0.95   0.779  0.437  0.864  0.407\n",
      "  0.24   0.377  0.875  0.928  0.554  0.01   0.247  0.972  0.735  0.826\n",
      "  0.552  0.676  0.973  0.085  0.558  0.993  0.53   0.814  0.56   0.589\n",
      "  0.197  0.359  1.     0.858  0.591  0.489  0.622  0.898  0.664  0.133\n",
      "  0.505  0.729  0.487  1.004  0.299  0.321  0.84   0.808  0.945  0.971\n",
      "  0.013  1.013  0.578  0.274  1.04   0.189  0.006  0.753 -0.099  0.787\n",
      "  0.521  0.757  0.977  0.466  0.973  0.319  1.03   0.167  0.51   0.774\n",
      "  0.884  1.083  0.404  0.919  0.505 -0.008  0.696  0.421  0.32   0.936\n",
      "  0.682  0.79   0.624  1.048  1.105  0.861  0.897  0.126  1.098  0.292\n",
      "  0.366  0.665  0.049  0.465  0.726  0.39   0.564  0.925  0.832  0.802\n",
      "  0.534  0.422  0.229  0.009  0.796  0.24   1.045  0.166  0.476  1.038\n",
      "  0.604  0.648  0.985  1.05   1.055  0.694  0.903  0.677  0.961  0.772\n",
      "  0.812  0.315]\n"
     ]
    }
   ],
   "source": [
    "np.set_printoptions(precision=3, suppress=True)\n",
    "print(biases1)"
   ]
  },
  {
   "cell_type": "code",
   "execution_count": 28,
   "metadata": {},
   "outputs": [],
   "source": [
    "# np.save('./save/weights/w1.npy',weight1)\n",
    "#wt1 = np.load('./save/weights/w1.npy')"
   ]
  }
 ],
 "metadata": {
  "kernelspec": {
   "display_name": "Python 3",
   "language": "python",
   "name": "python3"
  },
  "language_info": {
   "codemirror_mode": {
    "name": "ipython",
    "version": 3
   },
   "file_extension": ".py",
   "mimetype": "text/x-python",
   "name": "python",
   "nbconvert_exporter": "python",
   "pygments_lexer": "ipython3",
   "version": "3.5.3"
  }
 },
 "nbformat": 4,
 "nbformat_minor": 2
}
