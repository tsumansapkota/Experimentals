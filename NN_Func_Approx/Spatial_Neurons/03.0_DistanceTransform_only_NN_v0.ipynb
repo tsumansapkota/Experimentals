{
 "cells": [
  {
   "cell_type": "code",
   "execution_count": 1,
   "metadata": {},
   "outputs": [],
   "source": [
    "import numpy as np\n",
    "import matplotlib.pyplot as plt\n",
    "%matplotlib inline\n",
    "from mpl_toolkits.mplot3d import Axes3D\n",
    "\n",
    "import torch\n",
    "import torch.nn as nn\n",
    "import torch.nn.functional as F\n",
    "import torch.optim as optim\n",
    "from torch.utils import data\n",
    "\n",
    "import random, os, pathlib, time\n",
    "from tqdm import tqdm\n",
    "from sklearn import datasets"
   ]
  },
  {
   "cell_type": "code",
   "execution_count": 2,
   "metadata": {},
   "outputs": [],
   "source": [
    "# device = torch.device(\"cuda:0\")\n",
    "device = torch.device(\"cpu\")"
   ]
  },
  {
   "cell_type": "markdown",
   "metadata": {},
   "source": [
    "## MNIST dataset"
   ]
  },
  {
   "cell_type": "code",
   "execution_count": 3,
   "metadata": {},
   "outputs": [],
   "source": [
    "import mylibrary.datasets as datasets\n",
    "import mylibrary.nnlib as tnn"
   ]
  },
  {
   "cell_type": "code",
   "execution_count": 4,
   "metadata": {},
   "outputs": [],
   "source": [
    "mnist = datasets.FashionMNIST()\n",
    "# mnist.download_mnist()\n",
    "# mnist.save_mnist()\n",
    "train_data, train_label_, test_data, test_label_ = mnist.load()\n",
    "\n",
    "train_data = train_data / 255.\n",
    "test_data = test_data / 255.\n",
    "\n",
    "# train_label = tnn.Logits.index_to_logit(train_label_)\n",
    "train_size = len(train_label_)"
   ]
  },
  {
   "cell_type": "code",
   "execution_count": 5,
   "metadata": {},
   "outputs": [],
   "source": [
    "## converting data to pytorch format\n",
    "train_data = torch.Tensor(train_data)\n",
    "test_data = torch.Tensor(test_data)\n",
    "train_label = torch.LongTensor(train_label_)\n",
    "test_label = torch.LongTensor(test_label_)"
   ]
  },
  {
   "cell_type": "code",
   "execution_count": 6,
   "metadata": {},
   "outputs": [],
   "source": [
    "input_size = 784\n",
    "output_size = 10"
   ]
  },
  {
   "cell_type": "code",
   "execution_count": 7,
   "metadata": {},
   "outputs": [],
   "source": [
    "class MNIST_Dataset(data.Dataset):\n",
    "    \n",
    "    def __init__(self, data, label):\n",
    "        self.data = data\n",
    "        self.label = label\n",
    "        \n",
    "    def __len__(self):\n",
    "        return len(self.data)\n",
    "    \n",
    "    def __getitem__(self, idx):\n",
    "#         print(idx)\n",
    "        img, lbl = self.data[idx], self.label[idx]\n",
    "        return img, lbl"
   ]
  },
  {
   "cell_type": "code",
   "execution_count": 8,
   "metadata": {},
   "outputs": [],
   "source": [
    "train_dataset = MNIST_Dataset(train_data, train_label)\n",
    "test_dataset = MNIST_Dataset(test_data, test_label)"
   ]
  },
  {
   "cell_type": "code",
   "execution_count": 9,
   "metadata": {},
   "outputs": [],
   "source": [
    "batch_size = 50\n",
    "train_loader = data.DataLoader(dataset=train_dataset,\n",
    "                                    num_workers=4, \n",
    "                                    batch_size=batch_size, \n",
    "                                    shuffle=True)\n",
    "\n",
    "test_loader = data.DataLoader(dataset=test_dataset,\n",
    "                                    num_workers=1, \n",
    "                                    batch_size=batch_size, \n",
    "                                    shuffle=False)"
   ]
  },
  {
   "cell_type": "code",
   "execution_count": 191,
   "metadata": {},
   "outputs": [],
   "source": [
    "class DistanceTransform(nn.Module):\n",
    "    \n",
    "    def __init__(self, input_dim, num_centers):\n",
    "        super().__init__()\n",
    "        self.input_dim = input_dim\n",
    "        self.num_centers = num_centers\n",
    "        \n",
    "#         self.centers = torch.randn(num_centers, input_dim)/3.\n",
    "        self.centers = torch.rand(num_centers, input_dim)\n",
    "        self.centers = nn.Parameter(self.centers)\n",
    "        self.scaler = nn.Parameter(torch.Tensor([1.0]))\n",
    "#         self.layernorm = nn.LayerNorm(num_centers)\n",
    "        \n",
    "    def forward(self, x):\n",
    "        x = x[:, :self.input_dim]\n",
    "        dists = torch.cdist(x, self.centers)\n",
    "        \n",
    "        ### normalize similar to UMAP\n",
    "        dists = dists-dists.min(dim=1, keepdim=True)[0]\n",
    "#         dists = dists-dists.mean(dim=1, keepdim=True)\n",
    "        dists = dists/dists.std(dim=1, keepdim=True)\n",
    "\n",
    "#         dists = self.layernorm(dists)\n",
    "\n",
    "#         dists = torch.exp(-dists*self.scaler)\n",
    "#         dists = torch.softmax(-dists*self.scaler, dim=1)\n",
    "        \n",
    "        return dists\n",
    "    \n",
    "    def set_centroid_to_data_randomly(self, data_loader):\n",
    "        indices = np.random.permutation(len(data_loader.dataset.data))[:self.centers.shape[0]]\n",
    "        self.centers.data = data_loader.dataset.data[indices].to(self.centers.device)\n",
    "        pass\n",
    "    \n",
    "    def set_centroid_to_data_maxdist(self, data_loader):\n",
    "        ## sample N points\n",
    "        N = self.centers.shape[0]\n",
    "        new_center = torch.empty_like(self.centers)\n",
    "        min_dists = torch.empty(N)\n",
    "        count = 0\n",
    "        for i, (xx, _) in enumerate(tqdm(data_loader)):\n",
    "            if count < N:\n",
    "                if N-count < batch_size:\n",
    "                    #### final fillup\n",
    "                    new_center[count:count+N-count] = xx[:N-count]\n",
    "                    xx = xx[N-count:]\n",
    "                    dists = torch.cdist(new_center, new_center)+torch.eye(N)*1e5\n",
    "                    min_dists = dists.min(dim=0)[0]\n",
    "                    count = N\n",
    "\n",
    "                else:#### fill the center\n",
    "                    new_center[count:count+len(xx)] = xx\n",
    "                    count += len(xx)\n",
    "                    continue\n",
    "\n",
    "            ammd = min_dists.argmin()\n",
    "            for i, x in enumerate(xx):\n",
    "                dists = torch.norm(new_center-x, dim=1)\n",
    "                md = dists.min()\n",
    "                if md > min_dists[ammd]:\n",
    "                    min_dists[ammd] = md\n",
    "                    new_center[ammd] = x\n",
    "                    ammd = min_dists.argmin()\n",
    "        self.centers.data = new_center.to(self.centers.device)\n",
    "        pass\n",
    "        \n",
    "    \n",
    "    def set_centroid_to_data(self, data_loader):\n",
    "        new_center = self.centers.data.clone()\n",
    "        min_dists = torch.ones(self.centers.shape[0])*1e9\n",
    "\n",
    "        for xx, _ in data_loader:\n",
    "\n",
    "            dists = torch.cdist(xx, self.centers.data)\n",
    "            ### min dist of each center to the data points\n",
    "            min_d, arg_md = dists.min(dim=0)\n",
    "\n",
    "            ### dont allow same point to be assigned as closest to multiple centroid\n",
    "            occupied = []\n",
    "            for i in np.random.permutation(len(arg_md)):\n",
    "        #     for i, ind in enumerate(arg_md):\n",
    "                ind = arg_md[i]\n",
    "                if ind in occupied:\n",
    "                    min_d[i] = min_dists[i]\n",
    "                    arg_md[i] = -1\n",
    "                else:\n",
    "                    occupied.append(ind)\n",
    "\n",
    "            ### the index of centroids that have new min_dist\n",
    "            idx = torch.nonzero(min_d<min_dists).reshape(-1)\n",
    "\n",
    "            ### assign new_center to the nearest data point\n",
    "            new_center[idx] = xx[arg_md[idx]]\n",
    "            min_dists[idx] = min_d[idx]\n",
    "            \n",
    "        self.centers.data = new_center.to(self.centers.device)\n",
    "        pass"
   ]
  },
  {
   "cell_type": "code",
   "execution_count": 192,
   "metadata": {},
   "outputs": [],
   "source": [
    "dt = DistanceTransform(784, 20)"
   ]
  },
  {
   "cell_type": "code",
   "execution_count": 193,
   "metadata": {},
   "outputs": [],
   "source": [
    "dists = dt(torch.randn(2, 784))"
   ]
  },
  {
   "cell_type": "code",
   "execution_count": 194,
   "metadata": {},
   "outputs": [
    {
     "data": {
      "text/plain": [
       "torch.Size([2, 20])"
      ]
     },
     "execution_count": 194,
     "metadata": {},
     "output_type": "execute_result"
    }
   ],
   "source": [
    "dists.shape"
   ]
  },
  {
   "cell_type": "code",
   "execution_count": 195,
   "metadata": {},
   "outputs": [],
   "source": [
    "dt.set_centroid_to_data_randomly(train_loader)"
   ]
  },
  {
   "cell_type": "code",
   "execution_count": 196,
   "metadata": {},
   "outputs": [],
   "source": [
    "# dt.set_centroid_to_data(train_loader)"
   ]
  },
  {
   "cell_type": "code",
   "execution_count": 197,
   "metadata": {},
   "outputs": [],
   "source": [
    "### distance vs matrix multiplication time"
   ]
  },
  {
   "cell_type": "code",
   "execution_count": 198,
   "metadata": {},
   "outputs": [],
   "source": [
    "N = 784\n",
    "M = 784\n",
    "A = torch.randn(N, M)"
   ]
  },
  {
   "cell_type": "code",
   "execution_count": 199,
   "metadata": {},
   "outputs": [
    {
     "data": {
      "text/plain": [
       "tensor([[0.0000e+00, 4.1089e+01, 4.0059e+01,  ..., 3.9491e+01, 4.0451e+01,\n",
       "         3.9239e+01],\n",
       "        [4.1089e+01, 0.0000e+00, 4.0618e+01,  ..., 4.0096e+01, 3.9938e+01,\n",
       "         3.9485e+01],\n",
       "        [4.0059e+01, 4.0618e+01, 0.0000e+00,  ..., 4.1031e+01, 4.0741e+01,\n",
       "         3.8763e+01],\n",
       "        ...,\n",
       "        [3.9491e+01, 4.0096e+01, 4.1031e+01,  ..., 1.1049e-02, 3.8735e+01,\n",
       "         3.7855e+01],\n",
       "        [4.0451e+01, 3.9938e+01, 4.0741e+01,  ..., 3.8735e+01, 1.1049e-02,\n",
       "         3.9317e+01],\n",
       "        [3.9239e+01, 3.9485e+01, 3.8763e+01,  ..., 3.7855e+01, 3.9317e+01,\n",
       "         0.0000e+00]])"
      ]
     },
     "execution_count": 199,
     "metadata": {},
     "output_type": "execute_result"
    }
   ],
   "source": [
    "torch.cdist(data, data)"
   ]
  },
  {
   "cell_type": "code",
   "execution_count": 200,
   "metadata": {},
   "outputs": [
    {
     "name": "stdout",
     "output_type": "stream",
     "text": [
      "14.6 ms ± 4.51 ms per loop (mean ± std. dev. of 7 runs, 100 loops each)\n"
     ]
    }
   ],
   "source": [
    "# %timeit torch.cdist(data, data)"
   ]
  },
  {
   "cell_type": "code",
   "execution_count": 201,
   "metadata": {},
   "outputs": [
    {
     "name": "stdout",
     "output_type": "stream",
     "text": [
      "8.71 ms ± 666 µs per loop (mean ± std. dev. of 7 runs, 100 loops each)\n"
     ]
    }
   ],
   "source": [
    "# %timeit torch.matmul(data, data)"
   ]
  },
  {
   "cell_type": "code",
   "execution_count": 202,
   "metadata": {},
   "outputs": [],
   "source": [
    "#######################"
   ]
  },
  {
   "cell_type": "code",
   "execution_count": 208,
   "metadata": {},
   "outputs": [
    {
     "data": {
      "text/plain": [
       "Sequential(\n",
       "  (0): DistanceTransform()\n",
       "  (1): BatchNorm1d(785, eps=1e-05, momentum=0.1, affine=True, track_running_stats=True)\n",
       "  (2): LeakyReLU(negative_slope=0.01)\n",
       "  (3): DistanceTransform()\n",
       "  (4): BatchNorm1d(200, eps=1e-05, momentum=0.1, affine=True, track_running_stats=True)\n",
       "  (5): LeakyReLU(negative_slope=0.01)\n",
       "  (6): DistanceTransform()\n",
       "  (7): BatchNorm1d(50, eps=1e-05, momentum=0.1, affine=True, track_running_stats=True)\n",
       "  (8): LeakyReLU(negative_slope=0.01)\n",
       "  (9): DistanceTransform()\n",
       "  (10): BatchNorm1d(10, eps=1e-05, momentum=0.1, affine=True, track_running_stats=True)\n",
       ")"
      ]
     },
     "execution_count": 208,
     "metadata": {},
     "output_type": "execute_result"
    }
   ],
   "source": [
    "model = nn.Sequential(\n",
    "                DistanceTransform(784, 785),\n",
    "                nn.BatchNorm1d(785),\n",
    "                nn.LeakyReLU(),\n",
    "                DistanceTransform(785, 200),\n",
    "                nn.BatchNorm1d(200),\n",
    "                nn.LeakyReLU(),\n",
    "                DistanceTransform(200, 50),\n",
    "                nn.BatchNorm1d(50),\n",
    "                nn.LeakyReLU(),\n",
    "                DistanceTransform(50, 10),\n",
    "                nn.BatchNorm1d(10)\n",
    "            )\n",
    "model.to(device)"
   ]
  },
  {
   "cell_type": "code",
   "execution_count": 209,
   "metadata": {},
   "outputs": [],
   "source": [
    "# model[0].centers.requires_grad=False\n",
    "# model[0].set_centroid_to_data_randomly(train_loader) ## this worked best for preserving locality\n",
    "# model[0].set_centroid_to_data_maxdist(train_loader)"
   ]
  },
  {
   "cell_type": "code",
   "execution_count": 210,
   "metadata": {},
   "outputs": [
    {
     "data": {
      "text/plain": [
       "(tensor([0, 1, 2, 3, 4, 5, 6, 7, 8, 9]),\n",
       " tensor([ 56,  85,  86,  72,  71, 100,  69, 103,  77,  66]))"
      ]
     },
     "execution_count": 210,
     "metadata": {},
     "output_type": "execute_result"
    }
   ],
   "source": [
    "center_lbl = model(model[0].centers.data)\n",
    "output_cent = torch.softmax(center_lbl, dim=1).argmax(dim=1).data.cpu()\n",
    "torch.unique(output_cent, return_counts=True)"
   ]
  },
  {
   "cell_type": "code",
   "execution_count": 211,
   "metadata": {},
   "outputs": [],
   "source": [
    "optimizer = optim.Adam(list(model.parameters()), \n",
    "                            lr=0.0003, weight_decay=1e-15)\n",
    "criterion = nn.CrossEntropyLoss()"
   ]
  },
  {
   "cell_type": "code",
   "execution_count": 212,
   "metadata": {},
   "outputs": [
    {
     "name": "stderr",
     "output_type": "stream",
     "text": [
      "\r",
      "  0%|          | 0/40 [00:00<?, ?it/s]"
     ]
    },
    {
     "name": "stdout",
     "output_type": "stream",
     "text": [
      "Epoch: 0:0,  Loss:0.74932461977005\n"
     ]
    },
    {
     "name": "stderr",
     "output_type": "stream",
     "text": [
      "\r",
      "  2%|▎         | 1/40 [01:16<49:36, 76.32s/it]"
     ]
    },
    {
     "name": "stdout",
     "output_type": "stream",
     "text": [
      "Train Acc:74.18%, Test Acc:82.54%\n",
      "\n",
      "Epoch: 1:0,  Loss:0.47134920954704285\n"
     ]
    },
    {
     "name": "stderr",
     "output_type": "stream",
     "text": [
      "\r",
      "  5%|▌         | 2/40 [02:13<41:19, 65.24s/it]"
     ]
    },
    {
     "name": "stdout",
     "output_type": "stream",
     "text": [
      "Train Acc:82.52%, Test Acc:84.89%\n",
      "\n",
      "Epoch: 2:0,  Loss:0.5505233407020569\n"
     ]
    },
    {
     "name": "stderr",
     "output_type": "stream",
     "text": [
      "\r",
      "  8%|▊         | 3/40 [03:32<44:02, 71.42s/it]"
     ]
    },
    {
     "name": "stdout",
     "output_type": "stream",
     "text": [
      "Train Acc:84.37%, Test Acc:85.57%\n",
      "\n",
      "Epoch: 3:0,  Loss:0.3759661614894867\n"
     ]
    },
    {
     "name": "stderr",
     "output_type": "stream",
     "text": [
      "\r",
      " 10%|█         | 4/40 [04:30<39:37, 66.03s/it]"
     ]
    },
    {
     "name": "stdout",
     "output_type": "stream",
     "text": [
      "Train Acc:85.82%, Test Acc:86.64%\n",
      "\n",
      "Epoch: 4:0,  Loss:0.38026049733161926\n"
     ]
    },
    {
     "name": "stderr",
     "output_type": "stream",
     "text": [
      "\r",
      " 12%|█▎        | 5/40 [05:14<33:54, 58.12s/it]"
     ]
    },
    {
     "name": "stdout",
     "output_type": "stream",
     "text": [
      "Train Acc:86.61%, Test Acc:87.01%\n",
      "\n",
      "Epoch: 5:0,  Loss:0.4230002164840698\n"
     ]
    },
    {
     "name": "stderr",
     "output_type": "stream",
     "text": [
      "\r",
      " 15%|█▌        | 6/40 [05:56<29:46, 52.54s/it]"
     ]
    },
    {
     "name": "stdout",
     "output_type": "stream",
     "text": [
      "Train Acc:87.18%, Test Acc:87.19%\n",
      "\n",
      "Epoch: 6:0,  Loss:0.4185982942581177\n"
     ]
    },
    {
     "name": "stderr",
     "output_type": "stream",
     "text": [
      "\r",
      " 18%|█▊        | 7/40 [06:36<26:44, 48.61s/it]"
     ]
    },
    {
     "name": "stdout",
     "output_type": "stream",
     "text": [
      "Train Acc:87.84%, Test Acc:87.42%\n",
      "\n",
      "Epoch: 7:0,  Loss:0.30227741599082947\n"
     ]
    },
    {
     "name": "stderr",
     "output_type": "stream",
     "text": [
      "\r",
      " 20%|██        | 8/40 [07:35<27:43, 51.98s/it]"
     ]
    },
    {
     "name": "stdout",
     "output_type": "stream",
     "text": [
      "Train Acc:88.52%, Test Acc:87.43%\n",
      "\n",
      "Epoch: 8:0,  Loss:0.2148171365261078\n"
     ]
    },
    {
     "name": "stderr",
     "output_type": "stream",
     "text": [
      "\r",
      " 22%|██▎       | 9/40 [08:16<24:57, 48.32s/it]"
     ]
    },
    {
     "name": "stdout",
     "output_type": "stream",
     "text": [
      "Train Acc:89.02%, Test Acc:87.80%\n",
      "\n",
      "Epoch: 9:0,  Loss:0.28423935174942017\n"
     ]
    },
    {
     "name": "stderr",
     "output_type": "stream",
     "text": [
      "\r",
      " 25%|██▌       | 10/40 [09:05<24:21, 48.73s/it]"
     ]
    },
    {
     "name": "stdout",
     "output_type": "stream",
     "text": [
      "Train Acc:89.52%, Test Acc:88.04%\n",
      "\n",
      "Epoch: 10:0,  Loss:0.30327168107032776\n"
     ]
    },
    {
     "name": "stderr",
     "output_type": "stream",
     "text": [
      "\r",
      " 28%|██▊       | 11/40 [09:56<23:52, 49.41s/it]"
     ]
    },
    {
     "name": "stdout",
     "output_type": "stream",
     "text": [
      "Train Acc:90.06%, Test Acc:88.30%\n",
      "\n",
      "Epoch: 11:0,  Loss:0.4256718158721924\n"
     ]
    },
    {
     "name": "stderr",
     "output_type": "stream",
     "text": [
      "\r",
      " 30%|███       | 12/40 [11:04<25:35, 54.85s/it]"
     ]
    },
    {
     "name": "stdout",
     "output_type": "stream",
     "text": [
      "Train Acc:90.35%, Test Acc:88.34%\n",
      "\n",
      "Epoch: 12:0,  Loss:0.2587803900241852\n"
     ]
    },
    {
     "name": "stderr",
     "output_type": "stream",
     "text": [
      "\r",
      " 32%|███▎      | 13/40 [11:48<23:17, 51.74s/it]"
     ]
    },
    {
     "name": "stdout",
     "output_type": "stream",
     "text": [
      "Train Acc:90.76%, Test Acc:88.39%\n",
      "\n",
      "Epoch: 13:0,  Loss:0.2891448736190796\n"
     ]
    },
    {
     "name": "stderr",
     "output_type": "stream",
     "text": [
      "\r",
      " 35%|███▌      | 14/40 [12:35<21:50, 50.41s/it]"
     ]
    },
    {
     "name": "stdout",
     "output_type": "stream",
     "text": [
      "Train Acc:91.32%, Test Acc:88.48%\n",
      "\n",
      "Epoch: 14:0,  Loss:0.32807496190071106\n"
     ]
    },
    {
     "name": "stderr",
     "output_type": "stream",
     "text": [
      "\r",
      " 38%|███▊      | 15/40 [13:19<20:05, 48.24s/it]"
     ]
    },
    {
     "name": "stdout",
     "output_type": "stream",
     "text": [
      "Train Acc:91.42%, Test Acc:88.47%\n",
      "\n",
      "Epoch: 15:0,  Loss:0.3048734962940216\n"
     ]
    },
    {
     "name": "stderr",
     "output_type": "stream",
     "text": [
      "\r",
      " 40%|████      | 16/40 [14:02<18:42, 46.79s/it]"
     ]
    },
    {
     "name": "stdout",
     "output_type": "stream",
     "text": [
      "Train Acc:91.88%, Test Acc:88.08%\n",
      "\n",
      "Epoch: 16:0,  Loss:0.1748654693365097\n"
     ]
    },
    {
     "name": "stderr",
     "output_type": "stream",
     "text": [
      "\r",
      " 42%|████▎     | 17/40 [14:46<17:32, 45.78s/it]"
     ]
    },
    {
     "name": "stdout",
     "output_type": "stream",
     "text": [
      "Train Acc:92.37%, Test Acc:88.58%\n",
      "\n",
      "Epoch: 17:0,  Loss:0.14756596088409424\n"
     ]
    },
    {
     "name": "stderr",
     "output_type": "stream",
     "text": [
      "\r",
      " 45%|████▌     | 18/40 [15:30<16:41, 45.52s/it]"
     ]
    },
    {
     "name": "stdout",
     "output_type": "stream",
     "text": [
      "Train Acc:92.61%, Test Acc:88.68%\n",
      "\n",
      "Epoch: 18:0,  Loss:0.09920892864465714\n"
     ]
    },
    {
     "name": "stderr",
     "output_type": "stream",
     "text": [
      "\r",
      " 48%|████▊     | 19/40 [16:42<18:38, 53.28s/it]"
     ]
    },
    {
     "name": "stdout",
     "output_type": "stream",
     "text": [
      "Train Acc:92.92%, Test Acc:88.70%\n",
      "\n",
      "Epoch: 19:0,  Loss:0.2741920053958893\n"
     ]
    },
    {
     "name": "stderr",
     "output_type": "stream",
     "text": [
      "\r",
      " 50%|█████     | 20/40 [17:38<18:00, 54.04s/it]"
     ]
    },
    {
     "name": "stdout",
     "output_type": "stream",
     "text": [
      "Train Acc:93.08%, Test Acc:88.55%\n",
      "\n",
      "Epoch: 20:0,  Loss:0.2995374798774719\n"
     ]
    },
    {
     "name": "stderr",
     "output_type": "stream",
     "text": [
      "\r",
      " 52%|█████▎    | 21/40 [18:54<19:15, 60.84s/it]"
     ]
    },
    {
     "name": "stdout",
     "output_type": "stream",
     "text": [
      "Train Acc:93.46%, Test Acc:88.33%\n",
      "\n",
      "Epoch: 21:0,  Loss:0.11350921541452408\n"
     ]
    },
    {
     "name": "stderr",
     "output_type": "stream",
     "text": [
      "\r",
      " 55%|█████▌    | 22/40 [20:05<19:10, 63.93s/it]"
     ]
    },
    {
     "name": "stdout",
     "output_type": "stream",
     "text": [
      "Train Acc:93.88%, Test Acc:88.85%\n",
      "\n",
      "Epoch: 22:0,  Loss:0.18377938866615295\n"
     ]
    },
    {
     "name": "stderr",
     "output_type": "stream",
     "text": [
      "\r",
      " 57%|█████▊    | 23/40 [21:18<18:51, 66.55s/it]"
     ]
    },
    {
     "name": "stdout",
     "output_type": "stream",
     "text": [
      "Train Acc:93.82%, Test Acc:88.88%\n",
      "\n",
      "Epoch: 23:0,  Loss:0.06999945640563965\n"
     ]
    },
    {
     "name": "stderr",
     "output_type": "stream",
     "text": [
      "\r",
      " 60%|██████    | 24/40 [22:27<17:54, 67.15s/it]"
     ]
    },
    {
     "name": "stdout",
     "output_type": "stream",
     "text": [
      "Train Acc:94.20%, Test Acc:88.55%\n",
      "\n",
      "Epoch: 24:0,  Loss:0.1003730297088623\n"
     ]
    },
    {
     "name": "stderr",
     "output_type": "stream",
     "text": [
      "\r",
      " 62%|██████▎   | 25/40 [23:39<17:12, 68.84s/it]"
     ]
    },
    {
     "name": "stdout",
     "output_type": "stream",
     "text": [
      "Train Acc:94.36%, Test Acc:88.74%\n",
      "\n",
      "Epoch: 25:0,  Loss:0.07631047070026398\n"
     ]
    },
    {
     "name": "stderr",
     "output_type": "stream",
     "text": [
      "\r",
      " 65%|██████▌   | 26/40 [24:46<15:55, 68.25s/it]"
     ]
    },
    {
     "name": "stdout",
     "output_type": "stream",
     "text": [
      "Train Acc:94.79%, Test Acc:88.52%\n",
      "\n",
      "Epoch: 26:0,  Loss:0.15167157351970673\n"
     ]
    },
    {
     "name": "stderr",
     "output_type": "stream",
     "text": [
      "\r",
      " 68%|██████▊   | 27/40 [25:56<14:52, 68.67s/it]"
     ]
    },
    {
     "name": "stdout",
     "output_type": "stream",
     "text": [
      "Train Acc:94.66%, Test Acc:88.25%\n",
      "\n",
      "Epoch: 27:0,  Loss:0.09042808413505554\n"
     ]
    },
    {
     "name": "stderr",
     "output_type": "stream",
     "text": [
      "\r",
      " 70%|███████   | 28/40 [27:04<13:41, 68.44s/it]"
     ]
    },
    {
     "name": "stdout",
     "output_type": "stream",
     "text": [
      "Train Acc:94.96%, Test Acc:88.59%\n",
      "\n",
      "Epoch: 28:0,  Loss:0.2250058799982071\n"
     ]
    },
    {
     "name": "stderr",
     "output_type": "stream",
     "text": [
      "\r",
      " 72%|███████▎  | 29/40 [28:16<12:45, 69.58s/it]"
     ]
    },
    {
     "name": "stdout",
     "output_type": "stream",
     "text": [
      "Train Acc:95.11%, Test Acc:88.91%\n",
      "\n",
      "Epoch: 29:0,  Loss:0.19811053574085236\n"
     ]
    },
    {
     "name": "stderr",
     "output_type": "stream",
     "text": [
      "\r",
      " 75%|███████▌  | 30/40 [29:23<11:27, 68.78s/it]"
     ]
    },
    {
     "name": "stdout",
     "output_type": "stream",
     "text": [
      "Train Acc:95.16%, Test Acc:88.48%\n",
      "\n",
      "Epoch: 30:0,  Loss:0.08220035582780838\n"
     ]
    },
    {
     "name": "stderr",
     "output_type": "stream",
     "text": [
      "\r",
      " 78%|███████▊  | 31/40 [30:34<10:24, 69.42s/it]"
     ]
    },
    {
     "name": "stdout",
     "output_type": "stream",
     "text": [
      "Train Acc:95.38%, Test Acc:88.33%\n",
      "\n",
      "Epoch: 31:0,  Loss:0.2943872809410095\n"
     ]
    },
    {
     "name": "stderr",
     "output_type": "stream",
     "text": [
      "\r",
      " 80%|████████  | 32/40 [31:45<09:19, 69.97s/it]"
     ]
    },
    {
     "name": "stdout",
     "output_type": "stream",
     "text": [
      "Train Acc:95.58%, Test Acc:88.61%\n",
      "\n",
      "Epoch: 32:0,  Loss:0.11965968459844589\n"
     ]
    },
    {
     "name": "stderr",
     "output_type": "stream",
     "text": [
      "\r",
      " 82%|████████▎ | 33/40 [32:52<08:03, 69.09s/it]"
     ]
    },
    {
     "name": "stdout",
     "output_type": "stream",
     "text": [
      "Train Acc:95.74%, Test Acc:88.69%\n",
      "\n",
      "Epoch: 33:0,  Loss:0.05170389637351036\n"
     ]
    },
    {
     "name": "stderr",
     "output_type": "stream",
     "text": [
      "\r",
      " 85%|████████▌ | 34/40 [33:45<06:24, 64.10s/it]"
     ]
    },
    {
     "name": "stdout",
     "output_type": "stream",
     "text": [
      "Train Acc:95.81%, Test Acc:88.71%\n",
      "\n",
      "Epoch: 34:0,  Loss:0.09556663781404495\n"
     ]
    },
    {
     "name": "stderr",
     "output_type": "stream",
     "text": [
      "\r",
      " 88%|████████▊ | 35/40 [34:37<05:02, 60.54s/it]"
     ]
    },
    {
     "name": "stdout",
     "output_type": "stream",
     "text": [
      "Train Acc:96.03%, Test Acc:88.82%\n",
      "\n",
      "Epoch: 35:0,  Loss:0.059252262115478516\n"
     ]
    },
    {
     "name": "stderr",
     "output_type": "stream",
     "text": [
      "\r",
      " 90%|█████████ | 36/40 [35:34<03:57, 59.41s/it]"
     ]
    },
    {
     "name": "stdout",
     "output_type": "stream",
     "text": [
      "Train Acc:96.14%, Test Acc:88.32%\n",
      "\n",
      "Epoch: 36:0,  Loss:0.252322793006897\n"
     ]
    },
    {
     "name": "stderr",
     "output_type": "stream",
     "text": [
      "\r",
      " 92%|█████████▎| 37/40 [36:37<03:01, 60.59s/it]"
     ]
    },
    {
     "name": "stdout",
     "output_type": "stream",
     "text": [
      "Train Acc:96.16%, Test Acc:89.00%\n",
      "\n",
      "Epoch: 37:0,  Loss:0.11021409183740616\n"
     ]
    },
    {
     "name": "stderr",
     "output_type": "stream",
     "text": [
      "\r",
      " 95%|█████████▌| 38/40 [37:42<02:04, 62.03s/it]"
     ]
    },
    {
     "name": "stdout",
     "output_type": "stream",
     "text": [
      "Train Acc:96.25%, Test Acc:88.87%\n",
      "\n",
      "Epoch: 38:0,  Loss:0.11890698224306107\n"
     ]
    },
    {
     "name": "stderr",
     "output_type": "stream",
     "text": [
      "\r",
      " 98%|█████████▊| 39/40 [38:46<01:02, 62.55s/it]"
     ]
    },
    {
     "name": "stdout",
     "output_type": "stream",
     "text": [
      "Train Acc:96.37%, Test Acc:89.06%\n",
      "\n",
      "Epoch: 39:0,  Loss:0.08252234756946564\n"
     ]
    },
    {
     "name": "stderr",
     "output_type": "stream",
     "text": [
      "100%|██████████| 40/40 [39:49<00:00, 59.75s/it]"
     ]
    },
    {
     "name": "stdout",
     "output_type": "stream",
     "text": [
      "Train Acc:96.57%, Test Acc:88.68%\n",
      "\n",
      "\t-> MAX Train Acc 96.57 ; Test Acc 89.05999999999999\n"
     ]
    },
    {
     "name": "stderr",
     "output_type": "stream",
     "text": [
      "\n"
     ]
    }
   ],
   "source": [
    "index = 0\n",
    "train_accs, test_accs = [], []\n",
    "for epoch in tqdm(list(range(40))):\n",
    "    model.train()\n",
    "    train_acc = 0\n",
    "    train_count = 0\n",
    "    for xx, yy in train_loader:\n",
    "        xx, yy = xx.to(device), yy.to(device)\n",
    "        yout = model(xx)\n",
    "        loss = criterion(yout, yy)\n",
    "        optimizer.zero_grad()\n",
    "        loss.backward()\n",
    "        optimizer.step()\n",
    "\n",
    "        outputs = torch.argmax(yout, dim=1).data.cpu().numpy()\n",
    "        correct = (outputs == yy.data.cpu().numpy()).astype(float).sum()\n",
    "        train_acc += correct\n",
    "        train_count += len(outputs)\n",
    "\n",
    "    train_accs.append(float(train_acc)/train_count*100)\n",
    "    train_acc = 0\n",
    "    train_count = 0\n",
    "    \n",
    "#     if epoch%5 == 0:\n",
    "#         print(f\"Shifting the centroids to the nearest data point\")\n",
    "#         model[0].set_centroid_to_data(train_loader)\n",
    "\n",
    "    print(f'Epoch: {epoch}:{index},  Loss:{float(loss)}')\n",
    "    test_count = 0\n",
    "    test_acc = 0\n",
    "    model.eval()\n",
    "    for xx, yy in test_loader:\n",
    "        xx, yy = xx.to(device), yy.to(device)\n",
    "        with torch.no_grad():\n",
    "            yout = model(xx)\n",
    "        outputs = torch.argmax(yout, dim=1).data.cpu().numpy()\n",
    "        correct = (outputs == yy.data.cpu().numpy()).astype(float).sum()\n",
    "        test_acc += correct\n",
    "        test_count += len(xx)\n",
    "    test_accs.append(float(test_acc)/test_count*100)\n",
    "    print(f'Train Acc:{train_accs[-1]:.2f}%, Test Acc:{test_accs[-1]:.2f}%')\n",
    "    print()\n",
    "\n",
    "### after each class index is finished training\n",
    "print(f'\\t-> MAX Train Acc {max(train_accs)} ; Test Acc {max(test_accs)}')"
   ]
  },
  {
   "cell_type": "code",
   "execution_count": 190,
   "metadata": {},
   "outputs": [
    {
     "name": "stdout",
     "output_type": "stream",
     "text": [
      "\t-> MAX Train Acc 96.785 ; Test Acc 89.18\n"
     ]
    }
   ],
   "source": [
    "print(f'\\t-> MAX Train Acc {max(train_accs)} ; Test Acc {max(test_accs)}')"
   ]
  },
  {
   "cell_type": "code",
   "execution_count": 119,
   "metadata": {},
   "outputs": [],
   "source": [
    "# torch.save(model.state_dict(), \"./temp_01_2_model_nov26.pth\")\n",
    "torch.save(model.state_dict(), \"./temp_03_1_model_nov26_v0.pth\")\n",
    "\n",
    "# model.load_state_dict(torch.load(\"./temp_01_2_model_nov26.pth\", map_location=device))"
   ]
  },
  {
   "cell_type": "code",
   "execution_count": 213,
   "metadata": {},
   "outputs": [
    {
     "data": {
      "text/plain": [
       "torch.Size([50, 785])"
      ]
     },
     "execution_count": 213,
     "metadata": {},
     "output_type": "execute_result"
    }
   ],
   "source": [
    "model.eval()\n",
    "xx = train_dataset[np.random.randint(0, len(train_dataset), 50)][0].to(device)\n",
    "dists = model[0](xx)\n",
    "# dists = model[1](dists)\n",
    "model.train()\n",
    "dists.shape"
   ]
  },
  {
   "cell_type": "code",
   "execution_count": 214,
   "metadata": {},
   "outputs": [
    {
     "data": {
      "text/plain": [
       "(tensor(3.5557, grad_fn=<MeanBackward0>),\n",
       " tensor(1.0201, grad_fn=<StdBackward0>),\n",
       " torch.return_types.max(values=tensor([6.7112, 5.5499, 6.3170, 5.8182, 6.3306, 5.8378, 5.8608, 5.9684, 5.9537,\n",
       "        5.8157, 6.0797, 6.5277, 5.6916, 6.0367, 6.0768, 6.2349, 5.8488, 5.9572,\n",
       "        5.9595, 6.3411, 5.9015, 6.3018, 6.4121, 6.3000, 6.1324, 6.2472, 6.0858,\n",
       "        6.3723, 6.7114, 5.7186, 5.7301, 6.4065, 6.0267, 5.8675, 5.9568, 6.0620,\n",
       "        6.1567, 6.4980, 5.8517, 6.0794, 6.0774, 5.8350, 6.2789, 6.3009, 6.0523,\n",
       "        6.2202, 5.6946, 6.2313, 6.2099, 6.0226], grad_fn=<MaxBackward0>), ...))"
      ]
     },
     "execution_count": 214,
     "metadata": {},
     "output_type": "execute_result"
    }
   ],
   "source": [
    "dists.mean(), dists.std(), dists.max(dim=1)"
   ]
  },
  {
   "cell_type": "code",
   "execution_count": 215,
   "metadata": {},
   "outputs": [
    {
     "data": {
      "text/plain": [
       "Parameter containing:\n",
       "tensor([1.], requires_grad=True)"
      ]
     },
     "execution_count": 215,
     "metadata": {},
     "output_type": "execute_result"
    }
   ],
   "source": [
    "model[0].scaler"
   ]
  },
  {
   "cell_type": "markdown",
   "metadata": {},
   "source": [
    "## UMAP - from library"
   ]
  },
  {
   "cell_type": "code",
   "execution_count": 216,
   "metadata": {},
   "outputs": [],
   "source": [
    "import umap"
   ]
  },
  {
   "cell_type": "code",
   "execution_count": 217,
   "metadata": {},
   "outputs": [],
   "source": [
    "embed = umap.UMAP(n_neighbors=784, n_components=2, min_dist=0.1, spread=1)\n",
    "# embed = umap.UMAP(n_neighbors=784, n_components=2, min_dist=0.1, spread=1,\n",
    "# #                   target_metric='euclidean',\n",
    "#                   target_metric='categorical',\n",
    "#                   target_weight=0.1\n",
    "#                  )"
   ]
  },
  {
   "cell_type": "code",
   "execution_count": 218,
   "metadata": {},
   "outputs": [
    {
     "data": {
      "text/plain": [
       "(tensor([0, 1, 2, 3, 4, 5, 6, 7, 8, 9]),\n",
       " tensor([76, 85, 72, 97, 63, 83, 79, 57, 90, 83]))"
      ]
     },
     "execution_count": 218,
     "metadata": {},
     "output_type": "execute_result"
    }
   ],
   "source": [
    "center_lbl = model(model[0].centers.data)\n",
    "output_cent = torch.softmax(center_lbl, dim=1).argmax(dim=1).data.cpu()\n",
    "# output_cent = center_lbl.data.cpu().numpy()\n",
    "\n",
    "torch.unique(output_cent, return_counts=True)"
   ]
  },
  {
   "cell_type": "code",
   "execution_count": 219,
   "metadata": {},
   "outputs": [],
   "source": [
    "centers = model[0].centers.data.cpu().numpy()\n",
    "\n",
    "embedding = embed.fit_transform(centers)\n",
    "# embedding = embed.fit_transform(centers, output_cent)"
   ]
  },
  {
   "cell_type": "code",
   "execution_count": 220,
   "metadata": {},
   "outputs": [],
   "source": [
    "i = 0"
   ]
  },
  {
   "cell_type": "code",
   "execution_count": 221,
   "metadata": {},
   "outputs": [
    {
     "data": {
      "text/plain": [
       "tensor(0.0411)"
      ]
     },
     "execution_count": 221,
     "metadata": {},
     "output_type": "execute_result"
    }
   ],
   "source": [
    "activ.max()"
   ]
  },
  {
   "cell_type": "code",
   "execution_count": 266,
   "metadata": {},
   "outputs": [
    {
     "name": "stdout",
     "output_type": "stream",
     "text": [
      "42/50\n"
     ]
    },
    {
     "data": {
      "text/plain": [
       "<matplotlib.collections.PathCollection at 0x7f0f7d714f50>"
      ]
     },
     "execution_count": 266,
     "metadata": {},
     "output_type": "execute_result"
    },
    {
     "data": {
      "image/png": "[encoded data removed]",
      "text/plain": [
       "<Figure size 576x576 with 1 Axes>"
      ]
     },
     "metadata": {
      "needs_background": "light"
     },
     "output_type": "display_data"
    }
   ],
   "source": [
    "activ = dists.data.cpu()[i]\n",
    "activ = activ - activ.min()\n",
    "activ = torch.exp(-activ)\n",
    "\n",
    "i += 1\n",
    "print(f\"{i}/{len(dists)}\")\n",
    "plt.figure(figsize=(8,8))\n",
    "plt.scatter(embedding[:,0], embedding[:, 1], c=output_cent, s=np.maximum(activ*50, 0.5), cmap=\"tab10\")"
   ]
  },
  {
   "cell_type": "code",
   "execution_count": 958,
   "metadata": {},
   "outputs": [
    {
     "data": {
      "text/plain": [
       "<matplotlib.image.AxesImage at 0x7fcfc9de89d0>"
      ]
     },
     "execution_count": 958,
     "metadata": {},
     "output_type": "execute_result"
    },
    {
     "data": {
      "image/png": "[encoded data removed]",
      "text/plain": [
       "<Figure size 432x288 with 1 Axes>"
      ]
     },
     "metadata": {
      "needs_background": "light"
     },
     "output_type": "display_data"
    }
   ],
   "source": [
    "plt.imshow(xx.cpu()[i].reshape(28,28))"
   ]
  },
  {
   "cell_type": "markdown",
   "metadata": {},
   "source": [
    "## TSNE"
   ]
  },
  {
   "cell_type": "code",
   "execution_count": 173,
   "metadata": {},
   "outputs": [],
   "source": [
    "from sklearn.manifold import TSNE"
   ]
  },
  {
   "cell_type": "code",
   "execution_count": 174,
   "metadata": {},
   "outputs": [],
   "source": [
    "tsne = TSNE(n_components=2)\n",
    "embt = tsne.fit_transform(centers)"
   ]
  },
  {
   "cell_type": "code",
   "execution_count": 175,
   "metadata": {},
   "outputs": [
    {
     "data": {
      "text/plain": [
       "array([[-0.5517291 , -1.0944433 ],\n",
       "       [ 3.3717325 , -0.56145626],\n",
       "       [ 0.6929321 , -1.2497946 ],\n",
       "       ...,\n",
       "       [ 0.15066037,  1.6854407 ],\n",
       "       [ 3.8948274 ,  1.1707855 ],\n",
       "       [ 3.5280528 , -0.13315178]], dtype=float32)"
      ]
     },
     "execution_count": 175,
     "metadata": {},
     "output_type": "execute_result"
    }
   ],
   "source": [
    "embt"
   ]
  },
  {
   "cell_type": "code",
   "execution_count": 176,
   "metadata": {},
   "outputs": [],
   "source": [
    "i = 0"
   ]
  },
  {
   "cell_type": "code",
   "execution_count": 182,
   "metadata": {},
   "outputs": [
    {
     "name": "stdout",
     "output_type": "stream",
     "text": [
      "5/50\n"
     ]
    },
    {
     "data": {
      "text/plain": [
       "<matplotlib.collections.PathCollection at 0x7f100d85e590>"
      ]
     },
     "execution_count": 182,
     "metadata": {},
     "output_type": "execute_result"
    },
    {
     "data": {
      "image/png": "[encoded data removed]",
      "text/plain": [
       "<Figure size 432x288 with 1 Axes>"
      ]
     },
     "metadata": {
      "needs_background": "light"
     },
     "output_type": "display_data"
    }
   ],
   "source": [
    "activ = dists.data.cpu()[i]\n",
    "# activ = activ - activ.min()\n",
    "# activ = torch.exp(-activ)\n",
    "print(f\"{i}/{len(dists)}\")\n",
    "i += 1\n",
    "# plt.scatter(embt[:,0], embt[:, 1], c=activ, marker=\".\")\n",
    "plt.scatter(embedding[:,0], embedding[:, 1], c=activ, s=np.maximum(activ*50, 0.5))#, cmap=\"Greys\")"
   ]
  },
  {
   "cell_type": "markdown",
   "metadata": {},
   "source": [
    "### Centroid Visualization"
   ]
  },
  {
   "cell_type": "code",
   "execution_count": null,
   "metadata": {},
   "outputs": [],
   "source": []
  }
 ],
 "metadata": {
  "kernelspec": {
   "display_name": "Python 3",
   "language": "python",
   "name": "python3"
  },
  "language_info": {
   "codemirror_mode": {
    "name": "ipython",
    "version": 3
   },
   "file_extension": ".py",
   "mimetype": "text/x-python",
   "name": "python",
   "nbconvert_exporter": "python",
   "pygments_lexer": "ipython3",
   "version": "3.7.4"
  }
 },
 "nbformat": 4,
 "nbformat_minor": 4
}
