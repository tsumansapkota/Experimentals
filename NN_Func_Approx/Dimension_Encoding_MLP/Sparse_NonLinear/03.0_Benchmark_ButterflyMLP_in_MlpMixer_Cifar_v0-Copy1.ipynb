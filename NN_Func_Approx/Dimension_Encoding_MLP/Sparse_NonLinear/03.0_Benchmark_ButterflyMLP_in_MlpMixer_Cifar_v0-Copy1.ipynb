{
 "cells": [
  {
   "cell_type": "code",
   "execution_count": 1,
   "metadata": {},
   "outputs": [],
   "source": [
    "import torch\n",
    "import torch.nn as nn\n",
    "from torchvision import datasets, transforms\n",
    "\n",
    "import matplotlib\n",
    "import matplotlib.pyplot as plt\n",
    "import numpy as np\n",
    "\n",
    "import os, sys, pathlib, random, time, pickle, copy, json\n",
    "from tqdm import tqdm"
   ]
  },
  {
   "cell_type": "code",
   "execution_count": 2,
   "metadata": {},
   "outputs": [],
   "source": [
    "device = torch.device(\"cuda:1\")\n",
    "# device = torch.device(\"cpu\")"
   ]
  },
  {
   "cell_type": "code",
   "execution_count": 3,
   "metadata": {},
   "outputs": [
    {
     "data": {
      "text/plain": [
       "'NVIDIA TITAN Xp'"
      ]
     },
     "execution_count": 3,
     "metadata": {},
     "output_type": "execute_result"
    }
   ],
   "source": [
    "torch.cuda.get_device_name(1)"
   ]
  },
  {
   "cell_type": "code",
   "execution_count": 4,
   "metadata": {},
   "outputs": [],
   "source": [
    "# SEED = 147\n",
    "# SEED = 258\n",
    "SEED = 369\n",
    "\n",
    "torch.manual_seed(SEED)\n",
    "np.random.seed(SEED)"
   ]
  },
  {
   "cell_type": "code",
   "execution_count": 5,
   "metadata": {},
   "outputs": [],
   "source": [
    "import torch.optim as optim\n",
    "from torch.utils import data"
   ]
  },
  {
   "cell_type": "code",
   "execution_count": 6,
   "metadata": {},
   "outputs": [
    {
     "name": "stdout",
     "output_type": "stream",
     "text": [
      "Files already downloaded and verified\n",
      "Files already downloaded and verified\n"
     ]
    }
   ],
   "source": [
    "cifar_train = transforms.Compose([\n",
    "    transforms.RandomCrop(size=32, padding=4),\n",
    "    transforms.RandomHorizontalFlip(),\n",
    "    transforms.ToTensor(),\n",
    "    transforms.Normalize(\n",
    "        mean=[0.4914, 0.4822, 0.4465], # mean=[0.5071, 0.4865, 0.4409] for cifar100\n",
    "        std=[0.2023, 0.1994, 0.2010], # std=[0.2009, 0.1984, 0.2023] for cifar100\n",
    "    ),\n",
    "])\n",
    "\n",
    "cifar_test = transforms.Compose([\n",
    "    transforms.ToTensor(),\n",
    "    transforms.Normalize(\n",
    "        mean=[0.4914, 0.4822, 0.4465], # mean=[0.5071, 0.4865, 0.4409] for cifar100\n",
    "        std=[0.2023, 0.1994, 0.2010], # std=[0.2009, 0.1984, 0.2023] for cifar100\n",
    "    ),\n",
    "])\n",
    "\n",
    "train_dataset = datasets.CIFAR10(root=\"../../../../../_Datasets/cifar10/\", train=True, download=True, transform=cifar_train)\n",
    "test_dataset = datasets.CIFAR10(root=\"../../../../../_Datasets/cifar10/\", train=False, download=True, transform=cifar_test)"
   ]
  },
  {
   "cell_type": "code",
   "execution_count": 7,
   "metadata": {},
   "outputs": [],
   "source": [
    "train_loader = torch.utils.data.DataLoader(dataset=train_dataset, batch_size=32, shuffle=True, num_workers=2)\n",
    "test_loader = torch.utils.data.DataLoader(dataset=test_dataset, batch_size=32, shuffle=False, num_workers=2)"
   ]
  },
  {
   "cell_type": "code",
   "execution_count": 8,
   "metadata": {},
   "outputs": [],
   "source": [
    "# cifar_train = transforms.Compose([\n",
    "#     transforms.RandomCrop(size=32, padding=4),\n",
    "#     transforms.RandomHorizontalFlip(),\n",
    "#     transforms.ToTensor(),\n",
    "#     transforms.Normalize(\n",
    "#         mean=[0.5071, 0.4865, 0.4409],\n",
    "#         std=[0.2009, 0.1984, 0.2023],\n",
    "#     ),\n",
    "# ])\n",
    "\n",
    "# cifar_test = transforms.Compose([\n",
    "#     transforms.ToTensor(),\n",
    "#     transforms.Normalize(\n",
    "#         mean=[0.5071, 0.4865, 0.4409],\n",
    "#         std=[0.2009, 0.1984, 0.2023],\n",
    "#     ),\n",
    "# ])\n",
    "\n",
    "# train_dataset = datasets.CIFAR100(root=\"../../../../../_Datasets/cifar100/\", train=True, download=True, transform=cifar_train)\n",
    "# test_dataset = datasets.CIFAR100(root=\"../../../../../_Datasets/cifar100/\", train=False, download=True, transform=cifar_test)"
   ]
  },
  {
   "cell_type": "code",
   "execution_count": 9,
   "metadata": {},
   "outputs": [],
   "source": [
    "# train_loader = torch.utils.data.DataLoader(dataset=train_dataset, batch_size=128, shuffle=True, num_workers=2)\n",
    "# test_loader = torch.utils.data.DataLoader(dataset=test_dataset, batch_size=128, shuffle=False, num_workers=2)"
   ]
  },
  {
   "cell_type": "markdown",
   "metadata": {},
   "source": [
    "# Model"
   ]
  },
  {
   "cell_type": "code",
   "execution_count": 10,
   "metadata": {},
   "outputs": [],
   "source": [
    "class MlpBLock(nn.Module):\n",
    "    \n",
    "    def __init__(self, input_dim, hidden_layers_ratio=[2], actf=nn.GELU):\n",
    "        super().__init__()\n",
    "        self.input_dim = input_dim\n",
    "        #### convert hidden layers ratio to list if integer is inputted\n",
    "        if isinstance(hidden_layers_ratio, int):\n",
    "            hidden_layers_ratio = [hidden_layers_ratio]\n",
    "            \n",
    "        self.hlr = [1]+hidden_layers_ratio+[1]\n",
    "        \n",
    "        self.mlp = []\n",
    "        ### for 1 hidden layer, we iterate 2 times\n",
    "        for h in range(len(self.hlr)-1):\n",
    "            i, o = int(self.hlr[h]*self.input_dim),\\\n",
    "                    int(self.hlr[h+1]*self.input_dim)\n",
    "            self.mlp.append(nn.Linear(i, o))\n",
    "            self.mlp.append(actf())\n",
    "        self.mlp = self.mlp[:-1]\n",
    "        \n",
    "        self.mlp = nn.Sequential(*self.mlp)\n",
    "        \n",
    "    def forward(self, x):\n",
    "        return self.mlp(x)"
   ]
  },
  {
   "cell_type": "code",
   "execution_count": 11,
   "metadata": {},
   "outputs": [
    {
     "data": {
      "text/plain": [
       "MlpBLock(\n",
       "  (mlp): Sequential(\n",
       "    (0): Linear(in_features=2, out_features=6, bias=True)\n",
       "    (1): GELU(approximate='none')\n",
       "    (2): Linear(in_features=6, out_features=8, bias=True)\n",
       "    (3): GELU(approximate='none')\n",
       "    (4): Linear(in_features=8, out_features=2, bias=True)\n",
       "  )\n",
       ")"
      ]
     },
     "execution_count": 11,
     "metadata": {},
     "output_type": "execute_result"
    }
   ],
   "source": [
    "MlpBLock(2, [3,4])"
   ]
  },
  {
   "cell_type": "code",
   "execution_count": 12,
   "metadata": {},
   "outputs": [],
   "source": [
    "import sparse_nonlinear_lib_minimal as snl"
   ]
  },
  {
   "cell_type": "code",
   "execution_count": 13,
   "metadata": {},
   "outputs": [
    {
     "data": {
      "text/plain": [
       "BlockMLP_MixerBlock(\n",
       "  (facto_nets): ModuleList(\n",
       "    (0-1): 2 x BlockMLP(\n",
       "      (mlp): Sequential(\n",
       "        (0): BlockLinear: [16, 16, 16]\n",
       "        (1): ELU(alpha=1.0)\n",
       "        (2): BlockLinear: [16, 16, 16]\n",
       "      )\n",
       "    )\n",
       "  )\n",
       ")"
      ]
     },
     "execution_count": 13,
     "metadata": {},
     "output_type": "execute_result"
    }
   ],
   "source": [
    "snl.BlockMLP_MixerBlock(256, 16, hidden_layers_ratio=[1])"
   ]
  },
  {
   "cell_type": "code",
   "execution_count": 14,
   "metadata": {},
   "outputs": [
    {
     "data": {
      "text/plain": [
       "torch.Size([1, 256])"
      ]
     },
     "execution_count": 14,
     "metadata": {},
     "output_type": "execute_result"
    }
   ],
   "source": [
    "snl.BlockMLP_MixerBlock(256, 16, hidden_layers_ratio=[1])(torch.randn(1, 256)).shape"
   ]
  },
  {
   "cell_type": "code",
   "execution_count": 15,
   "metadata": {},
   "outputs": [
    {
     "data": {
      "text/plain": [
       "BlockLinear_MixerBlock(\n",
       "  (facto_nets): ModuleList(\n",
       "    (0-1): 2 x BlockWeight: [16, 16, 16]\n",
       "  )\n",
       ")"
      ]
     },
     "execution_count": 15,
     "metadata": {},
     "output_type": "execute_result"
    }
   ],
   "source": [
    "snl.BlockLinear_MixerBlock(256, 16)"
   ]
  },
  {
   "cell_type": "code",
   "execution_count": 16,
   "metadata": {},
   "outputs": [
    {
     "data": {
      "text/plain": [
       "torch.Size([1, 256])"
      ]
     },
     "execution_count": 16,
     "metadata": {},
     "output_type": "execute_result"
    }
   ],
   "source": [
    "snl.BlockLinear_MixerBlock(256, 16)(torch.randn(1, 256)).shape"
   ]
  },
  {
   "cell_type": "code",
   "execution_count": 17,
   "metadata": {},
   "outputs": [],
   "source": [
    "class SparseResMlp(nn.Module):\n",
    "    \n",
    "    def __init__(self, input_dim, block_dim, hidden_expansion=2, actf=nn.GELU):\n",
    "        super().__init__()\n",
    "        self.input_dim = input_dim\n",
    "        self.hex = hidden_expansion\n",
    "            \n",
    "        self.layers1s = [snl.BlockLinear_MixerBlock(input_dim, block_dim, bias=True) for _ in range(hidden_expansion)]\n",
    "        self.layers2s = [snl.BlockLinear_MixerBlock(input_dim, block_dim, bias=False) for _ in range(hidden_expansion)]\n",
    "        \n",
    "        self.bias = nn.Parameter(torch.zeros(1, input_dim))\n",
    "        \n",
    "        self.layers1s = nn.ModuleList(self.layers1s)\n",
    "        self.actf = actf()\n",
    "        self.layers2s = nn.ModuleList(self.layers2s)\n",
    "        \n",
    "    def forward(self, x):\n",
    "        y = 0\n",
    "        for i in range(self.hex):\n",
    "            h = self.layers1s[i](x)\n",
    "            h = self.actf(h)\n",
    "            h = self.layers2s[i](h)\n",
    "            y += h#*(1/self.hex)\n",
    "        return y + self.bias"
   ]
  },
  {
   "cell_type": "code",
   "execution_count": 18,
   "metadata": {},
   "outputs": [
    {
     "data": {
      "text/plain": [
       "SparseResMlp(\n",
       "  (layers1s): ModuleList(\n",
       "    (0-1): 2 x BlockLinear_MixerBlock(\n",
       "      (facto_nets): ModuleList(\n",
       "        (0-1): 2 x BlockWeight: [16, 16, 16]\n",
       "      )\n",
       "    )\n",
       "  )\n",
       "  (actf): GELU(approximate='none')\n",
       "  (layers2s): ModuleList(\n",
       "    (0-1): 2 x BlockLinear_MixerBlock(\n",
       "      (facto_nets): ModuleList(\n",
       "        (0-1): 2 x BlockWeight: [16, 16, 16]\n",
       "      )\n",
       "    )\n",
       "  )\n",
       ")"
      ]
     },
     "execution_count": 18,
     "metadata": {},
     "output_type": "execute_result"
    }
   ],
   "source": [
    "model = SparseResMlp(256, 16)\n",
    "# model.layers1s[0].bias\n",
    "model"
   ]
  },
  {
   "cell_type": "code",
   "execution_count": 19,
   "metadata": {},
   "outputs": [
    {
     "data": {
      "text/plain": [
       "torch.Size([1, 256])"
      ]
     },
     "execution_count": 19,
     "metadata": {},
     "output_type": "execute_result"
    }
   ],
   "source": [
    "SparseResMlp(256, 16)(torch.randn(1, 256)).shape"
   ]
  },
  {
   "cell_type": "code",
   "execution_count": 20,
   "metadata": {},
   "outputs": [],
   "source": [
    "# asdasd"
   ]
  },
  {
   "cell_type": "markdown",
   "metadata": {},
   "source": [
    "### Block MLP - without res"
   ]
  },
  {
   "cell_type": "code",
   "execution_count": 21,
   "metadata": {},
   "outputs": [],
   "source": [
    "class BlockMLP(nn.Module):\n",
    "    def __init__(self, input_dim, layer_dims, actf=nn.GELU):\n",
    "        super().__init__()\n",
    "        self.block_dim = layer_dims[0]\n",
    "        \n",
    "        assert input_dim%self.block_dim == 0, \"Input dim must be even number\"\n",
    "        ### Create a block MLP\n",
    "        self.mlp = []\n",
    "        n_blocks = input_dim//layer_dims[0]\n",
    "        for i in range(len(layer_dims)-1):\n",
    "            l = snl.BlockLinear(n_blocks, layer_dims[i], layer_dims[i+1])\n",
    "            a = actf()\n",
    "            self.mlp.append(l)\n",
    "            self.mlp.append(a)\n",
    "        self.mlp = self.mlp[:-1]\n",
    "        self.mlp = nn.Sequential(*self.mlp)\n",
    "        \n",
    "    def forward(self, x):\n",
    "        bs, dim = x.shape[0], x.shape[1]\n",
    "        x = x.view(bs, -1, self.block_dim).transpose(0,1)\n",
    "        x = self.mlp(x)\n",
    "        x = x.transpose(1,0).reshape(bs, -1)\n",
    "        return x\n",
    "    \n",
    "############################################################################\n",
    "############################################################################\n",
    "\n",
    "class BlockMLP_MixerBlock(nn.Module):\n",
    "    \n",
    "    def __init__(self, input_dim, block_dim, hidden_layers_ratio=[2], actf=nn.GELU):\n",
    "        super().__init__()\n",
    "        \n",
    "        assert input_dim%block_dim == 0, \"Input dim must be even number\"\n",
    "        self.input_dim = input_dim\n",
    "        self.block_dim = block_dim\n",
    "        \n",
    "        def log_base(a, base):\n",
    "            return np.log(a) / np.log(base)\n",
    "        \n",
    "        num_layers = int(np.ceil(log_base(input_dim, base=block_dim)))\n",
    "        hidden_layers_ratio = [1] + hidden_layers_ratio + [1]\n",
    "        \n",
    "        block_layer_dims = [int(a*block_dim) for a in hidden_layers_ratio]\n",
    "        self.facto_nets = []\n",
    "        for i in range(num_layers):\n",
    "            net = BlockMLP(self.input_dim, block_layer_dims, actf)\n",
    "            self.facto_nets.append(net)\n",
    "            \n",
    "        self.facto_nets = nn.ModuleList(self.facto_nets)\n",
    "            \n",
    "    def forward(self, x):\n",
    "        bs = x.shape[0]\n",
    "        y = x\n",
    "        for i, fn in enumerate(self.facto_nets):\n",
    "            y = y.view(-1, self.block_dim, self.block_dim**i).permute(0, 2, 1).contiguous().view(bs, -1)\n",
    "            y = fn(y)\n",
    "            y = y.view(-1, self.block_dim**i, self.block_dim).permute(0, 2, 1).contiguous()\n",
    "\n",
    "        y = y.view(bs, -1)\n",
    "        return y"
   ]
  },
  {
   "cell_type": "markdown",
   "metadata": {},
   "source": [
    "## MLP-Mixer "
   ]
  },
  {
   "cell_type": "code",
   "execution_count": 22,
   "metadata": {},
   "outputs": [],
   "source": [
    "class MixerBlock(nn.Module):\n",
    "    \n",
    "    def __init__(self, patch_dim, channel_dim, patch_mixing=\"dense\", channel_mixing=\"dense\"):\n",
    "        super().__init__()\n",
    "        \n",
    "        self.valid_functions = [\"dense\", \"sparse_linear\", \"sparse_mlp\"]\n",
    "        assert patch_mixing in self.valid_functions\n",
    "        assert channel_mixing in self.valid_functions\n",
    "        \n",
    "        self.patch_dim = patch_dim\n",
    "        self.channel_dim = channel_dim\n",
    "        \n",
    "        self.ln0 = nn.LayerNorm(channel_dim)\n",
    "        self.mlp_patch = self.get_mlp(patch_dim, patch_mixing)    \n",
    "        \n",
    "        self.ln1 = nn.LayerNorm(channel_dim)\n",
    "        self.mlp_channel = self.get_mlp(channel_dim, channel_mixing)\n",
    "    \n",
    "    def get_mlp(self, dim, mixing_function, actf=nn.GELU):\n",
    "        block_dim = int(np.sqrt(dim))\n",
    "        assert block_dim**2 == dim, \"Sparsifying dimension must be a square number\"\n",
    "        \n",
    "        HIDDEN_EXPANSION = 1 #2\n",
    "        if mixing_function == self.valid_functions[0]:\n",
    "            mlp = MlpBLock(dim, [HIDDEN_EXPANSION], actf)\n",
    "        elif mixing_function == self.valid_functions[1]:\n",
    "            mlp = SparseResMlp(dim, block_dim, HIDDEN_EXPANSION, actf)\n",
    "        elif mixing_function == self.valid_functions[2]:\n",
    "            mlp = BlockMLP_MixerBlock(dim, block_dim, [HIDDEN_EXPANSION], actf)\n",
    "        return mlp\n",
    "    \n",
    "    def forward(self, x):\n",
    "        ## x has shape-> N, nP, nC/hidden_dims; C=Channel, P=Patch\n",
    "        \n",
    "        ######## !!!! Can use same mixer on shape of -> N, C, P;\n",
    "        \n",
    "        #### mix per patch\n",
    "        y = self.ln0(x) ### per channel layer normalization ?? \n",
    "        y = torch.swapaxes(y, -1, -2).contiguous()\n",
    "        \n",
    "        y = y.view(-1, self.patch_dim)\n",
    "        y = self.mlp_patch(y)\n",
    "        y = y.view(-1, self.channel_dim, self.patch_dim)\n",
    "        \n",
    "        y = torch.swapaxes(y, -1, -2)\n",
    "        x = x+y\n",
    "        \n",
    "        #### mix per channel \n",
    "        y = self.ln1(x)\n",
    "        y = y.view(-1, self.channel_dim)\n",
    "        y = self.mlp_channel(y)\n",
    "        y = y.view(-1, self.patch_dim, self.channel_dim)\n",
    "        \n",
    "        x = x+y\n",
    "        return x"
   ]
  },
  {
   "cell_type": "code",
   "execution_count": 23,
   "metadata": {},
   "outputs": [],
   "source": [
    "# class MixerBlock(nn.Module):\n",
    "    \n",
    "#     def __init__(self, patch_dim, channel_dim):\n",
    "#         super().__init__()\n",
    "        \n",
    "#         self.ln0 = nn.LayerNorm(channel_dim)\n",
    "#         self.mlp_patch = MlpBLock(patch_dim, [2])\n",
    "#         self.ln1 = nn.LayerNorm(channel_dim)\n",
    "#         self.mlp_channel = MlpBLock(channel_dim, [2])\n",
    "    \n",
    "#     def forward(self, x):\n",
    "#         ## x has shape-> N, nP, nC/hidden_dims; C=Channel, P=Patch\n",
    "        \n",
    "#         ######## !!!! Can use same mixer on shape of -> N, C, P;\n",
    "        \n",
    "#         #### mix per patch\n",
    "#         y = self.ln0(x) ### per channel layer normalization ?? \n",
    "#         y = torch.swapaxes(y, -1, -2)\n",
    "#         y = self.mlp_patch(y)\n",
    "#         y = torch.swapaxes(y, -1, -2)\n",
    "#         x = x+y\n",
    "        \n",
    "#         #### mix per channel \n",
    "#         y = self.ln1(x)\n",
    "#         y = self.mlp_channel(y)\n",
    "#         x = x+y\n",
    "#         return x"
   ]
  },
  {
   "cell_type": "code",
   "execution_count": 24,
   "metadata": {},
   "outputs": [
    {
     "data": {
      "text/plain": [
       "MixerBlock(\n",
       "  (ln0): LayerNorm((256,), eps=1e-05, elementwise_affine=True)\n",
       "  (mlp_patch): SparseResMlp(\n",
       "    (layers1s): ModuleList(\n",
       "      (0): BlockLinear_MixerBlock(\n",
       "        (facto_nets): ModuleList(\n",
       "          (0-1): 2 x BlockWeight: [4, 4, 4]\n",
       "        )\n",
       "      )\n",
       "    )\n",
       "    (actf): GELU(approximate='none')\n",
       "    (layers2s): ModuleList(\n",
       "      (0): BlockLinear_MixerBlock(\n",
       "        (facto_nets): ModuleList(\n",
       "          (0-1): 2 x BlockWeight: [4, 4, 4]\n",
       "        )\n",
       "      )\n",
       "    )\n",
       "  )\n",
       "  (ln1): LayerNorm((256,), eps=1e-05, elementwise_affine=True)\n",
       "  (mlp_channel): BlockMLP_MixerBlock(\n",
       "    (facto_nets): ModuleList(\n",
       "      (0-1): 2 x BlockMLP(\n",
       "        (mlp): Sequential(\n",
       "          (0): BlockLinear: [16, 16, 16]\n",
       "          (1): GELU(approximate='none')\n",
       "          (2): BlockLinear: [16, 16, 16]\n",
       "        )\n",
       "      )\n",
       "    )\n",
       "  )\n",
       ")"
      ]
     },
     "execution_count": 24,
     "metadata": {},
     "output_type": "execute_result"
    }
   ],
   "source": [
    "model = MixerBlock(2*2*4, 16*16, channel_mixing=\"sparse_mlp\", patch_mixing=\"sparse_linear\")\n",
    "# model = MixerBlock(2*2*4, 16*16)\n",
    "model"
   ]
  },
  {
   "cell_type": "code",
   "execution_count": 25,
   "metadata": {},
   "outputs": [
    {
     "data": {
      "text/plain": [
       "torch.Size([1, 16, 256])"
      ]
     },
     "execution_count": 25,
     "metadata": {},
     "output_type": "execute_result"
    }
   ],
   "source": [
    "model(torch.randn(1, 2*2*4, 16*16)).shape"
   ]
  },
  {
   "cell_type": "code",
   "execution_count": null,
   "metadata": {},
   "outputs": [],
   "source": []
  },
  {
   "cell_type": "code",
   "execution_count": 26,
   "metadata": {},
   "outputs": [],
   "source": [
    "class MlpMixer(nn.Module):\n",
    "    \n",
    "    def __init__(self, image_dim:tuple, patch_size:tuple, hidden_expansion:float, num_blocks:int, num_classes:int,\n",
    "                patch_mixing:str, channel_mixing:str):\n",
    "        super().__init__()\n",
    "        \n",
    "        self.img_dim = image_dim ### must contain (C, H, W) or (H, W)\n",
    "        self.scaler = nn.UpsamplingBilinear2d(size=(self.img_dim[-2], self.img_dim[-1]))\n",
    "        \n",
    "        ### find patch dim\n",
    "        d0 = int(image_dim[-2]/patch_size[0])\n",
    "        d1 = int(image_dim[-1]/patch_size[1])\n",
    "        assert d0*patch_size[0]==image_dim[-2], \"Image must be divisible into patch size\"\n",
    "        assert d1*patch_size[1]==image_dim[-1], \"Image must be divisible into patch size\"\n",
    "#         self.d0, self.d1 = d0, d1 ### number of patches in each axis\n",
    "        __patch_size = patch_size[0]*patch_size[1]*image_dim[0] ## number of channels in each patch\n",
    "    \n",
    "        ### find channel dim\n",
    "        channel_size = d0*d1 ## number of patches\n",
    "        \n",
    "        ### after the number of channels are changed\n",
    "        init_dim = __patch_size\n",
    "#         final_dim = int(patch_size[0]*patch_size[1]*hidden_expansion)\n",
    "        final_dim = int(init_dim*hidden_expansion)\n",
    "\n",
    "        self.unfold = nn.Unfold(kernel_size=patch_size, stride=patch_size)\n",
    "        #### rescale the patches (patch wise image non preserving transform, unlike bilinear interpolation)\n",
    "        self.channel_change = nn.Linear(init_dim, final_dim)\n",
    "        print(f\"MLP Mixer : Channes per patch -> Initial:{init_dim} Final:{final_dim}\")\n",
    "        \n",
    "        \n",
    "        self.channel_dim = final_dim\n",
    "        self.patch_dim = channel_size\n",
    "        \n",
    "        self.mixer_blocks = []\n",
    "        for i in range(num_blocks):\n",
    "            self.mixer_blocks.append(MixerBlock(self.patch_dim, self.channel_dim, patch_mixing, channel_mixing))\n",
    "        self.mixer_blocks = nn.Sequential(*self.mixer_blocks)\n",
    "        \n",
    "        self.linear = nn.Linear(self.patch_dim*self.channel_dim, num_classes)\n",
    "        \n",
    "        \n",
    "    def forward(self, x):\n",
    "        bs = x.shape[0]\n",
    "        x = self.scaler(x)\n",
    "        x = self.unfold(x).swapaxes(-1, -2)\n",
    "        x = self.channel_change(x)\n",
    "        x = self.mixer_blocks(x)\n",
    "        x = self.linear(x.view(bs, -1))\n",
    "        return x"
   ]
  },
  {
   "cell_type": "code",
   "execution_count": 27,
   "metadata": {},
   "outputs": [
    {
     "name": "stdout",
     "output_type": "stream",
     "text": [
      "MLP Mixer : Channes per patch -> Initial:48 Final:121\n"
     ]
    },
    {
     "data": {
      "text/plain": [
       "MlpMixer(\n",
       "  (scaler): UpsamplingBilinear2d(size=(32, 32), mode='bilinear')\n",
       "  (unfold): Unfold(kernel_size=(4, 4), dilation=1, padding=0, stride=(4, 4))\n",
       "  (channel_change): Linear(in_features=48, out_features=121, bias=True)\n",
       "  (mixer_blocks): Sequential(\n",
       "    (0): MixerBlock(\n",
       "      (ln0): LayerNorm((121,), eps=1e-05, elementwise_affine=True)\n",
       "      (mlp_patch): SparseResMlp(\n",
       "        (layers1s): ModuleList(\n",
       "          (0): BlockLinear_MixerBlock(\n",
       "            (facto_nets): ModuleList(\n",
       "              (0-1): 2 x BlockWeight: [8, 8, 8]\n",
       "            )\n",
       "          )\n",
       "        )\n",
       "        (actf): GELU(approximate='none')\n",
       "        (layers2s): ModuleList(\n",
       "          (0): BlockLinear_MixerBlock(\n",
       "            (facto_nets): ModuleList(\n",
       "              (0-1): 2 x BlockWeight: [8, 8, 8]\n",
       "            )\n",
       "          )\n",
       "        )\n",
       "      )\n",
       "      (ln1): LayerNorm((121,), eps=1e-05, elementwise_affine=True)\n",
       "      (mlp_channel): SparseResMlp(\n",
       "        (layers1s): ModuleList(\n",
       "          (0): BlockLinear_MixerBlock(\n",
       "            (facto_nets): ModuleList(\n",
       "              (0-1): 2 x BlockWeight: [11, 11, 11]\n",
       "            )\n",
       "          )\n",
       "        )\n",
       "        (actf): GELU(approximate='none')\n",
       "        (layers2s): ModuleList(\n",
       "          (0): BlockLinear_MixerBlock(\n",
       "            (facto_nets): ModuleList(\n",
       "              (0-1): 2 x BlockWeight: [11, 11, 11]\n",
       "            )\n",
       "          )\n",
       "        )\n",
       "      )\n",
       "    )\n",
       "  )\n",
       "  (linear): Linear(in_features=7744, out_features=10, bias=True)\n",
       ")"
      ]
     },
     "execution_count": 27,
     "metadata": {},
     "output_type": "execute_result"
    }
   ],
   "source": [
    "mixer = MlpMixer((3, 32, 32), (4, 4), hidden_expansion=2.53, num_blocks=1, num_classes=10, patch_mixing=\"sparse_linear\", channel_mixing=\"sparse_linear\")\n",
    "mixer"
   ]
  },
  {
   "cell_type": "code",
   "execution_count": 28,
   "metadata": {},
   "outputs": [
    {
     "name": "stdout",
     "output_type": "stream",
     "text": [
      "number of params:  91605\n"
     ]
    }
   ],
   "source": [
    "print(\"number of params: \", sum(p.numel() for p in mixer.parameters())) "
   ]
  },
  {
   "cell_type": "code",
   "execution_count": 29,
   "metadata": {},
   "outputs": [
    {
     "data": {
      "text/plain": [
       "tensor([[-0.0875,  0.2247,  0.3493, -0.6245,  0.5838, -0.0184, -0.7723, -0.1112,\n",
       "          0.0543, -0.2550]], grad_fn=<AddmmBackward0>)"
      ]
     },
     "execution_count": 29,
     "metadata": {},
     "output_type": "execute_result"
    }
   ],
   "source": [
    "mixer(torch.randn(1, 3, 32, 32))"
   ]
  },
  {
   "cell_type": "markdown",
   "metadata": {},
   "source": [
    "#### Final Model"
   ]
  },
  {
   "cell_type": "code",
   "execution_count": 30,
   "metadata": {},
   "outputs": [
    {
     "name": "stdout",
     "output_type": "stream",
     "text": [
      "MLP Mixer : Channes per patch -> Initial:48 Final:144\n"
     ]
    }
   ],
   "source": [
    "model = MlpMixer((3, 4*9, 4*9), (4, 4), hidden_expansion=3.0, num_blocks=10, num_classes=10,\n",
    "                patch_mixing=\"sparse_linear\", channel_mixing=\"sparse_linear\")\n",
    "#                 patch_mixing=\"sparse_mlp\", channel_mixing=\"sparse_mlp\")\n",
    "#                 patch_mixing=\"dense\", channel_mixing=\"dense\")\n",
    "                 \n",
    "\n",
    "model = model.to(device)"
   ]
  },
  {
   "cell_type": "code",
   "execution_count": 31,
   "metadata": {},
   "outputs": [
    {
     "data": {
      "text/plain": [
       "MlpMixer(\n",
       "  (scaler): UpsamplingBilinear2d(size=(36, 36), mode='bilinear')\n",
       "  (unfold): Unfold(kernel_size=(4, 4), dilation=1, padding=0, stride=(4, 4))\n",
       "  (channel_change): Linear(in_features=48, out_features=144, bias=True)\n",
       "  (mixer_blocks): Sequential(\n",
       "    (0): MixerBlock(\n",
       "      (ln0): LayerNorm((144,), eps=1e-05, elementwise_affine=True)\n",
       "      (mlp_patch): SparseResMlp(\n",
       "        (layers1s): ModuleList(\n",
       "          (0): BlockLinear_MixerBlock(\n",
       "            (facto_nets): ModuleList(\n",
       "              (0-1): 2 x BlockWeight: [9, 9, 9]\n",
       "            )\n",
       "          )\n",
       "        )\n",
       "        (actf): GELU(approximate='none')\n",
       "        (layers2s): ModuleList(\n",
       "          (0): BlockLinear_MixerBlock(\n",
       "            (facto_nets): ModuleList(\n",
       "              (0-1): 2 x BlockWeight: [9, 9, 9]\n",
       "            )\n",
       "          )\n",
       "        )\n",
       "      )\n",
       "      (ln1): LayerNorm((144,), eps=1e-05, elementwise_affine=True)\n",
       "      (mlp_channel): SparseResMlp(\n",
       "        (layers1s): ModuleList(\n",
       "          (0): BlockLinear_MixerBlock(\n",
       "            (facto_nets): ModuleList(\n",
       "              (0-1): 2 x BlockWeight: [12, 12, 12]\n",
       "            )\n",
       "          )\n",
       "        )\n",
       "        (actf): GELU(approximate='none')\n",
       "        (layers2s): ModuleList(\n",
       "          (0): BlockLinear_MixerBlock(\n",
       "            (facto_nets): ModuleList(\n",
       "              (0-1): 2 x BlockWeight: [12, 12, 12]\n",
       "            )\n",
       "          )\n",
       "        )\n",
       "      )\n",
       "    )\n",
       "    (1): MixerBlock(\n",
       "      (ln0): LayerNorm((144,), eps=1e-05, elementwise_affine=True)\n",
       "      (mlp_patch): SparseResMlp(\n",
       "        (layers1s): ModuleList(\n",
       "          (0): BlockLinear_MixerBlock(\n",
       "            (facto_nets): ModuleList(\n",
       "              (0-1): 2 x BlockWeight: [9, 9, 9]\n",
       "            )\n",
       "          )\n",
       "        )\n",
       "        (actf): GELU(approximate='none')\n",
       "        (layers2s): ModuleList(\n",
       "          (0): BlockLinear_MixerBlock(\n",
       "            (facto_nets): ModuleList(\n",
       "              (0-1): 2 x BlockWeight: [9, 9, 9]\n",
       "            )\n",
       "          )\n",
       "        )\n",
       "      )\n",
       "      (ln1): LayerNorm((144,), eps=1e-05, elementwise_affine=True)\n",
       "      (mlp_channel): SparseResMlp(\n",
       "        (layers1s): ModuleList(\n",
       "          (0): BlockLinear_MixerBlock(\n",
       "            (facto_nets): ModuleList(\n",
       "              (0-1): 2 x BlockWeight: [12, 12, 12]\n",
       "            )\n",
       "          )\n",
       "        )\n",
       "        (actf): GELU(approximate='none')\n",
       "        (layers2s): ModuleList(\n",
       "          (0): BlockLinear_MixerBlock(\n",
       "            (facto_nets): ModuleList(\n",
       "              (0-1): 2 x BlockWeight: [12, 12, 12]\n",
       "            )\n",
       "          )\n",
       "        )\n",
       "      )\n",
       "    )\n",
       "    (2): MixerBlock(\n",
       "      (ln0): LayerNorm((144,), eps=1e-05, elementwise_affine=True)\n",
       "      (mlp_patch): SparseResMlp(\n",
       "        (layers1s): ModuleList(\n",
       "          (0): BlockLinear_MixerBlock(\n",
       "            (facto_nets): ModuleList(\n",
       "              (0-1): 2 x BlockWeight: [9, 9, 9]\n",
       "            )\n",
       "          )\n",
       "        )\n",
       "        (actf): GELU(approximate='none')\n",
       "        (layers2s): ModuleList(\n",
       "          (0): BlockLinear_MixerBlock(\n",
       "            (facto_nets): ModuleList(\n",
       "              (0-1): 2 x BlockWeight: [9, 9, 9]\n",
       "            )\n",
       "          )\n",
       "        )\n",
       "      )\n",
       "      (ln1): LayerNorm((144,), eps=1e-05, elementwise_affine=True)\n",
       "      (mlp_channel): SparseResMlp(\n",
       "        (layers1s): ModuleList(\n",
       "          (0): BlockLinear_MixerBlock(\n",
       "            (facto_nets): ModuleList(\n",
       "              (0-1): 2 x BlockWeight: [12, 12, 12]\n",
       "            )\n",
       "          )\n",
       "        )\n",
       "        (actf): GELU(approximate='none')\n",
       "        (layers2s): ModuleList(\n",
       "          (0): BlockLinear_MixerBlock(\n",
       "            (facto_nets): ModuleList(\n",
       "              (0-1): 2 x BlockWeight: [12, 12, 12]\n",
       "            )\n",
       "          )\n",
       "        )\n",
       "      )\n",
       "    )\n",
       "    (3): MixerBlock(\n",
       "      (ln0): LayerNorm((144,), eps=1e-05, elementwise_affine=True)\n",
       "      (mlp_patch): SparseResMlp(\n",
       "        (layers1s): ModuleList(\n",
       "          (0): BlockLinear_MixerBlock(\n",
       "            (facto_nets): ModuleList(\n",
       "              (0-1): 2 x BlockWeight: [9, 9, 9]\n",
       "            )\n",
       "          )\n",
       "        )\n",
       "        (actf): GELU(approximate='none')\n",
       "        (layers2s): ModuleList(\n",
       "          (0): BlockLinear_MixerBlock(\n",
       "            (facto_nets): ModuleList(\n",
       "              (0-1): 2 x BlockWeight: [9, 9, 9]\n",
       "            )\n",
       "          )\n",
       "        )\n",
       "      )\n",
       "      (ln1): LayerNorm((144,), eps=1e-05, elementwise_affine=True)\n",
       "      (mlp_channel): SparseResMlp(\n",
       "        (layers1s): ModuleList(\n",
       "          (0): BlockLinear_MixerBlock(\n",
       "            (facto_nets): ModuleList(\n",
       "              (0-1): 2 x BlockWeight: [12, 12, 12]\n",
       "            )\n",
       "          )\n",
       "        )\n",
       "        (actf): GELU(approximate='none')\n",
       "        (layers2s): ModuleList(\n",
       "          (0): BlockLinear_MixerBlock(\n",
       "            (facto_nets): ModuleList(\n",
       "              (0-1): 2 x BlockWeight: [12, 12, 12]\n",
       "            )\n",
       "          )\n",
       "        )\n",
       "      )\n",
       "    )\n",
       "    (4): MixerBlock(\n",
       "      (ln0): LayerNorm((144,), eps=1e-05, elementwise_affine=True)\n",
       "      (mlp_patch): SparseResMlp(\n",
       "        (layers1s): ModuleList(\n",
       "          (0): BlockLinear_MixerBlock(\n",
       "            (facto_nets): ModuleList(\n",
       "              (0-1): 2 x BlockWeight: [9, 9, 9]\n",
       "            )\n",
       "          )\n",
       "        )\n",
       "        (actf): GELU(approximate='none')\n",
       "        (layers2s): ModuleList(\n",
       "          (0): BlockLinear_MixerBlock(\n",
       "            (facto_nets): ModuleList(\n",
       "              (0-1): 2 x BlockWeight: [9, 9, 9]\n",
       "            )\n",
       "          )\n",
       "        )\n",
       "      )\n",
       "      (ln1): LayerNorm((144,), eps=1e-05, elementwise_affine=True)\n",
       "      (mlp_channel): SparseResMlp(\n",
       "        (layers1s): ModuleList(\n",
       "          (0): BlockLinear_MixerBlock(\n",
       "            (facto_nets): ModuleList(\n",
       "              (0-1): 2 x BlockWeight: [12, 12, 12]\n",
       "            )\n",
       "          )\n",
       "        )\n",
       "        (actf): GELU(approximate='none')\n",
       "        (layers2s): ModuleList(\n",
       "          (0): BlockLinear_MixerBlock(\n",
       "            (facto_nets): ModuleList(\n",
       "              (0-1): 2 x BlockWeight: [12, 12, 12]\n",
       "            )\n",
       "          )\n",
       "        )\n",
       "      )\n",
       "    )\n",
       "    (5): MixerBlock(\n",
       "      (ln0): LayerNorm((144,), eps=1e-05, elementwise_affine=True)\n",
       "      (mlp_patch): SparseResMlp(\n",
       "        (layers1s): ModuleList(\n",
       "          (0): BlockLinear_MixerBlock(\n",
       "            (facto_nets): ModuleList(\n",
       "              (0-1): 2 x BlockWeight: [9, 9, 9]\n",
       "            )\n",
       "          )\n",
       "        )\n",
       "        (actf): GELU(approximate='none')\n",
       "        (layers2s): ModuleList(\n",
       "          (0): BlockLinear_MixerBlock(\n",
       "            (facto_nets): ModuleList(\n",
       "              (0-1): 2 x BlockWeight: [9, 9, 9]\n",
       "            )\n",
       "          )\n",
       "        )\n",
       "      )\n",
       "      (ln1): LayerNorm((144,), eps=1e-05, elementwise_affine=True)\n",
       "      (mlp_channel): SparseResMlp(\n",
       "        (layers1s): ModuleList(\n",
       "          (0): BlockLinear_MixerBlock(\n",
       "            (facto_nets): ModuleList(\n",
       "              (0-1): 2 x BlockWeight: [12, 12, 12]\n",
       "            )\n",
       "          )\n",
       "        )\n",
       "        (actf): GELU(approximate='none')\n",
       "        (layers2s): ModuleList(\n",
       "          (0): BlockLinear_MixerBlock(\n",
       "            (facto_nets): ModuleList(\n",
       "              (0-1): 2 x BlockWeight: [12, 12, 12]\n",
       "            )\n",
       "          )\n",
       "        )\n",
       "      )\n",
       "    )\n",
       "    (6): MixerBlock(\n",
       "      (ln0): LayerNorm((144,), eps=1e-05, elementwise_affine=True)\n",
       "      (mlp_patch): SparseResMlp(\n",
       "        (layers1s): ModuleList(\n",
       "          (0): BlockLinear_MixerBlock(\n",
       "            (facto_nets): ModuleList(\n",
       "              (0-1): 2 x BlockWeight: [9, 9, 9]\n",
       "            )\n",
       "          )\n",
       "        )\n",
       "        (actf): GELU(approximate='none')\n",
       "        (layers2s): ModuleList(\n",
       "          (0): BlockLinear_MixerBlock(\n",
       "            (facto_nets): ModuleList(\n",
       "              (0-1): 2 x BlockWeight: [9, 9, 9]\n",
       "            )\n",
       "          )\n",
       "        )\n",
       "      )\n",
       "      (ln1): LayerNorm((144,), eps=1e-05, elementwise_affine=True)\n",
       "      (mlp_channel): SparseResMlp(\n",
       "        (layers1s): ModuleList(\n",
       "          (0): BlockLinear_MixerBlock(\n",
       "            (facto_nets): ModuleList(\n",
       "              (0-1): 2 x BlockWeight: [12, 12, 12]\n",
       "            )\n",
       "          )\n",
       "        )\n",
       "        (actf): GELU(approximate='none')\n",
       "        (layers2s): ModuleList(\n",
       "          (0): BlockLinear_MixerBlock(\n",
       "            (facto_nets): ModuleList(\n",
       "              (0-1): 2 x BlockWeight: [12, 12, 12]\n",
       "            )\n",
       "          )\n",
       "        )\n",
       "      )\n",
       "    )\n",
       "    (7): MixerBlock(\n",
       "      (ln0): LayerNorm((144,), eps=1e-05, elementwise_affine=True)\n",
       "      (mlp_patch): SparseResMlp(\n",
       "        (layers1s): ModuleList(\n",
       "          (0): BlockLinear_MixerBlock(\n",
       "            (facto_nets): ModuleList(\n",
       "              (0-1): 2 x BlockWeight: [9, 9, 9]\n",
       "            )\n",
       "          )\n",
       "        )\n",
       "        (actf): GELU(approximate='none')\n",
       "        (layers2s): ModuleList(\n",
       "          (0): BlockLinear_MixerBlock(\n",
       "            (facto_nets): ModuleList(\n",
       "              (0-1): 2 x BlockWeight: [9, 9, 9]\n",
       "            )\n",
       "          )\n",
       "        )\n",
       "      )\n",
       "      (ln1): LayerNorm((144,), eps=1e-05, elementwise_affine=True)\n",
       "      (mlp_channel): SparseResMlp(\n",
       "        (layers1s): ModuleList(\n",
       "          (0): BlockLinear_MixerBlock(\n",
       "            (facto_nets): ModuleList(\n",
       "              (0-1): 2 x BlockWeight: [12, 12, 12]\n",
       "            )\n",
       "          )\n",
       "        )\n",
       "        (actf): GELU(approximate='none')\n",
       "        (layers2s): ModuleList(\n",
       "          (0): BlockLinear_MixerBlock(\n",
       "            (facto_nets): ModuleList(\n",
       "              (0-1): 2 x BlockWeight: [12, 12, 12]\n",
       "            )\n",
       "          )\n",
       "        )\n",
       "      )\n",
       "    )\n",
       "    (8): MixerBlock(\n",
       "      (ln0): LayerNorm((144,), eps=1e-05, elementwise_affine=True)\n",
       "      (mlp_patch): SparseResMlp(\n",
       "        (layers1s): ModuleList(\n",
       "          (0): BlockLinear_MixerBlock(\n",
       "            (facto_nets): ModuleList(\n",
       "              (0-1): 2 x BlockWeight: [9, 9, 9]\n",
       "            )\n",
       "          )\n",
       "        )\n",
       "        (actf): GELU(approximate='none')\n",
       "        (layers2s): ModuleList(\n",
       "          (0): BlockLinear_MixerBlock(\n",
       "            (facto_nets): ModuleList(\n",
       "              (0-1): 2 x BlockWeight: [9, 9, 9]\n",
       "            )\n",
       "          )\n",
       "        )\n",
       "      )\n",
       "      (ln1): LayerNorm((144,), eps=1e-05, elementwise_affine=True)\n",
       "      (mlp_channel): SparseResMlp(\n",
       "        (layers1s): ModuleList(\n",
       "          (0): BlockLinear_MixerBlock(\n",
       "            (facto_nets): ModuleList(\n",
       "              (0-1): 2 x BlockWeight: [12, 12, 12]\n",
       "            )\n",
       "          )\n",
       "        )\n",
       "        (actf): GELU(approximate='none')\n",
       "        (layers2s): ModuleList(\n",
       "          (0): BlockLinear_MixerBlock(\n",
       "            (facto_nets): ModuleList(\n",
       "              (0-1): 2 x BlockWeight: [12, 12, 12]\n",
       "            )\n",
       "          )\n",
       "        )\n",
       "      )\n",
       "    )\n",
       "    (9): MixerBlock(\n",
       "      (ln0): LayerNorm((144,), eps=1e-05, elementwise_affine=True)\n",
       "      (mlp_patch): SparseResMlp(\n",
       "        (layers1s): ModuleList(\n",
       "          (0): BlockLinear_MixerBlock(\n",
       "            (facto_nets): ModuleList(\n",
       "              (0-1): 2 x BlockWeight: [9, 9, 9]\n",
       "            )\n",
       "          )\n",
       "        )\n",
       "        (actf): GELU(approximate='none')\n",
       "        (layers2s): ModuleList(\n",
       "          (0): BlockLinear_MixerBlock(\n",
       "            (facto_nets): ModuleList(\n",
       "              (0-1): 2 x BlockWeight: [9, 9, 9]\n",
       "            )\n",
       "          )\n",
       "        )\n",
       "      )\n",
       "      (ln1): LayerNorm((144,), eps=1e-05, elementwise_affine=True)\n",
       "      (mlp_channel): SparseResMlp(\n",
       "        (layers1s): ModuleList(\n",
       "          (0): BlockLinear_MixerBlock(\n",
       "            (facto_nets): ModuleList(\n",
       "              (0-1): 2 x BlockWeight: [12, 12, 12]\n",
       "            )\n",
       "          )\n",
       "        )\n",
       "        (actf): GELU(approximate='none')\n",
       "        (layers2s): ModuleList(\n",
       "          (0): BlockLinear_MixerBlock(\n",
       "            (facto_nets): ModuleList(\n",
       "              (0-1): 2 x BlockWeight: [12, 12, 12]\n",
       "            )\n",
       "          )\n",
       "        )\n",
       "      )\n",
       "    )\n",
       "  )\n",
       "  (linear): Linear(in_features=11664, out_features=10, bias=True)\n",
       ")"
      ]
     },
     "execution_count": 31,
     "metadata": {},
     "output_type": "execute_result"
    }
   ],
   "source": [
    "model"
   ]
  },
  {
   "cell_type": "code",
   "execution_count": 32,
   "metadata": {},
   "outputs": [
    {
     "name": "stdout",
     "output_type": "stream",
     "text": [
      "number of params:  108540\n"
     ]
    }
   ],
   "source": [
    "# print(\"number of params: \", sum(p.numel() for p in model.parameters())) \n",
    "print(\"number of params: \", sum(p.numel() for p in model.mixer_blocks.parameters())) \n",
    "\n",
    "### Dense: 1,104,390\n",
    "### Sparse MLP: 215820\n",
    "### Sparse Linear: 209,070"
   ]
  },
  {
   "cell_type": "code",
   "execution_count": 33,
   "metadata": {},
   "outputs": [
    {
     "data": {
      "text/plain": [
       "torch.Size([1, 10])"
      ]
     },
     "execution_count": 33,
     "metadata": {},
     "output_type": "execute_result"
    }
   ],
   "source": [
    "model(torch.randn(1, 3, 32, 32).to(device)).shape"
   ]
  },
  {
   "cell_type": "code",
   "execution_count": 34,
   "metadata": {},
   "outputs": [],
   "source": [
    "# asdasd"
   ]
  },
  {
   "cell_type": "markdown",
   "metadata": {},
   "source": [
    "## Training"
   ]
  },
  {
   "cell_type": "code",
   "execution_count": 35,
   "metadata": {},
   "outputs": [],
   "source": [
    "# model_name = f'mlp_mixer_sparse-mlp_c10_s{SEED}'"
   ]
  },
  {
   "cell_type": "code",
   "execution_count": 36,
   "metadata": {},
   "outputs": [],
   "source": [
    "# EPOCHS = 200\n",
    "# criterion = nn.CrossEntropyLoss()\n",
    "# optimizer = torch.optim.Adam(model.parameters(), lr=0.001)\n",
    "# scheduler = torch.optim.lr_scheduler.CosineAnnealingLR(optimizer, T_max=EPOCHS)"
   ]
  },
  {
   "cell_type": "code",
   "execution_count": 37,
   "metadata": {},
   "outputs": [],
   "source": [
    "STAT ={'train_stat':[], 'test_stat':[]}"
   ]
  },
  {
   "cell_type": "code",
   "execution_count": 38,
   "metadata": {},
   "outputs": [],
   "source": [
    "## Following is copied from \n",
    "### https://github.com/kuangliu/pytorch-cifar/blob/master/main.py\n",
    "\n",
    "# Training\n",
    "def train(epoch):\n",
    "    model.train()\n",
    "    train_loss = 0\n",
    "    correct = 0\n",
    "    total = 0\n",
    "    for batch_idx, (inputs, targets) in enumerate(tqdm(train_loader)):\n",
    "        inputs, targets = inputs.to(device), targets.to(device)\n",
    "        optimizer.zero_grad()\n",
    "        outputs = model(inputs)\n",
    "        loss = criterion(outputs, targets)\n",
    "        loss.backward()\n",
    "        optimizer.step()\n",
    "\n",
    "        train_loss += loss.item()\n",
    "        _, predicted = outputs.max(1)\n",
    "        total += targets.size(0)\n",
    "        correct += predicted.eq(targets).sum().item()\n",
    "        \n",
    "    STAT['train_stat'].append((epoch, train_loss/(batch_idx+1), 100.*correct/total)) ### (Epochs, Loss, Acc)\n",
    "    print(f\"[Train] {epoch} Loss: {train_loss/(batch_idx+1):.3f} | Acc: {100.*correct/total:.3f} {correct}/{total}\")\n",
    "    return"
   ]
  },
  {
   "cell_type": "code",
   "execution_count": 39,
   "metadata": {},
   "outputs": [],
   "source": [
    "best_acc = -1\n",
    "def test(epoch):\n",
    "    global best_acc\n",
    "    model.eval()\n",
    "    test_loss = 0\n",
    "    correct = 0\n",
    "    total = 0\n",
    "    time_taken = []\n",
    "    with torch.no_grad():\n",
    "        for batch_idx, (inputs, targets) in enumerate(tqdm(test_loader)):\n",
    "            inputs, targets = inputs.to(device), targets.to(device)\n",
    "\n",
    "            start = time.time()\n",
    "\n",
    "            outputs = model(inputs)\n",
    "\n",
    "            start = time.time()-start\n",
    "            time_taken.append(start)\n",
    "\n",
    "            loss = criterion(outputs, targets)\n",
    "\n",
    "            test_loss += loss.item()\n",
    "            _, predicted = outputs.max(1)\n",
    "            total += targets.size(0)\n",
    "            correct += predicted.eq(targets).sum().item()\n",
    "\n",
    "    STAT['test_stat'].append((epoch, test_loss/(batch_idx+1), 100.*correct/total, np.mean(time_taken))) ### (Epochs, Loss, Acc, time)\n",
    "    print(f\"[Test] {epoch} Loss: {test_loss/(batch_idx+1):.3f} | Acc: {100.*correct/total:.3f} {correct}/{total}\")\n",
    "    \n",
    "    # Save checkpoint.\n",
    "    acc = 100.*correct/total\n",
    "    if acc > best_acc:\n",
    "        print('Saving..')\n",
    "        state = {\n",
    "            'model': model.state_dict(),\n",
    "            'acc': acc,\n",
    "            'epoch': epoch\n",
    "        }\n",
    "        if not os.path.isdir('models'):\n",
    "            os.mkdir('models')\n",
    "        torch.save(state, f'./models_v1/{model_name}.pth')\n",
    "        best_acc = acc\n",
    "        \n",
    "    with open(f\"./models_v1/stats/{model_name}_data.json\", 'w') as f:\n",
    "        json.dump(STAT, f, indent=0)"
   ]
  },
  {
   "cell_type": "code",
   "execution_count": 40,
   "metadata": {},
   "outputs": [],
   "source": [
    "# start_epoch = 0  # start from epoch 0 or last checkpoint epoch\n",
    "# resume = False\n",
    "\n",
    "# if resume:\n",
    "#     # Load checkpoint.\n",
    "#     print('==> Resuming from checkpoint..')\n",
    "#     assert os.path.isdir('./models'), 'Error: no checkpoint directory found!'\n",
    "#     checkpoint = torch.load(f'./models/{model_name}.pth')\n",
    "#     model.load_state_dict(checkpoint['model'])\n",
    "#     best_acc = checkpoint['acc']\n",
    "#     start_epoch = checkpoint['epoch']"
   ]
  },
  {
   "cell_type": "code",
   "execution_count": 41,
   "metadata": {},
   "outputs": [],
   "source": [
    "# ### Train the whole damn thing\n",
    "\n",
    "# for epoch in range(start_epoch, start_epoch+EPOCHS): ## for 200 epochs\n",
    "#     train(epoch)\n",
    "#     test(epoch)\n",
    "#     scheduler.step()"
   ]
  },
  {
   "cell_type": "code",
   "execution_count": null,
   "metadata": {},
   "outputs": [],
   "source": []
  },
  {
   "cell_type": "code",
   "execution_count": 42,
   "metadata": {},
   "outputs": [],
   "source": [
    "# best_acc"
   ]
  },
  {
   "cell_type": "code",
   "execution_count": 43,
   "metadata": {},
   "outputs": [],
   "source": [
    "# checkpoint = torch.load(f'./models/{model_name}.pth')\n",
    "# best_acc = checkpoint['acc']\n",
    "# start_epoch = checkpoint['epoch']\n",
    "\n",
    "# best_acc, start_epoch"
   ]
  },
  {
   "cell_type": "code",
   "execution_count": 44,
   "metadata": {},
   "outputs": [],
   "source": [
    "# model.load_state_dict(checkpoint['model'])"
   ]
  },
  {
   "cell_type": "code",
   "execution_count": 45,
   "metadata": {},
   "outputs": [],
   "source": [
    "# model"
   ]
  },
  {
   "cell_type": "code",
   "execution_count": null,
   "metadata": {},
   "outputs": [],
   "source": []
  },
  {
   "cell_type": "code",
   "execution_count": 46,
   "metadata": {},
   "outputs": [],
   "source": [
    "# STAT"
   ]
  },
  {
   "cell_type": "code",
   "execution_count": 47,
   "metadata": {},
   "outputs": [],
   "source": [
    "# train_stat = np.array(STAT['train_stat'])\n",
    "# test_stat = np.array(STAT['test_stat'])"
   ]
  },
  {
   "cell_type": "code",
   "execution_count": 48,
   "metadata": {},
   "outputs": [],
   "source": [
    "# plt.plot(train_stat[:,1], label='train')\n",
    "# plt.plot(test_stat[:,1], label='test')\n",
    "# plt.ylabel(\"Loss\")\n",
    "# plt.legend()\n",
    "# plt.savefig(f\"./output/plots/{model_name}_loss.svg\")\n",
    "# plt.show()"
   ]
  },
  {
   "cell_type": "code",
   "execution_count": 49,
   "metadata": {},
   "outputs": [],
   "source": [
    "# plt.plot(train_stat[:,2], label='train')\n",
    "# plt.plot(test_stat[:,2], label='test')\n",
    "# plt.ylabel(\"Accuracy\")\n",
    "# plt.legend()\n",
    "# plt.savefig(f\"./output/plots/{model_name}_accs.svg\")\n",
    "# plt.show()"
   ]
  },
  {
   "cell_type": "markdown",
   "metadata": {},
   "source": [
    "## Benchmark Training"
   ]
  },
  {
   "cell_type": "code",
   "execution_count": 50,
   "metadata": {},
   "outputs": [],
   "source": [
    "def get_data_loaders(seed, ds):\n",
    "    BS = 64\n",
    "    if ds == 'c100': BS = 128\n",
    "    torch.manual_seed(seed)\n",
    "    train_loader = torch.utils.data.DataLoader(dataset=train_dataset, batch_size=BS, shuffle=True, num_workers=2)\n",
    "    test_loader = torch.utils.data.DataLoader(dataset=test_dataset, batch_size=BS, shuffle=False, num_workers=2)\n",
    "    return train_loader, test_loader"
   ]
  },
  {
   "cell_type": "code",
   "execution_count": 51,
   "metadata": {},
   "outputs": [],
   "source": [
    "# ! mkdir models_v1/\n",
    "# ! mkdir models_v1/stats"
   ]
  },
  {
   "cell_type": "code",
   "execution_count": 52,
   "metadata": {},
   "outputs": [],
   "source": [
    "def benchmark():\n",
    "    global model, optimizer, train_loader, test_loader, model_name, criterion, STAT, best_acc\n",
    "    EPOCHS = 200\n",
    "    criterion = nn.CrossEntropyLoss()\n",
    "    lr = 0.001\n",
    "#     DS = 'c100'\n",
    "    DS = 'c10'\n",
    "    for SEED in [147, 258, 369]:\n",
    "#     for SEED in [741, 852, 963, 159, 357]:\n",
    "        for num_layers in [7]: ##[7, 10]\n",
    "#             for i in range(3): ## 3 models training\n",
    "            for i in [1]:\n",
    "\n",
    "                print(\"Experiment index:\", i)\n",
    "                train_loader, test_loader = get_data_loaders(SEED, DS)\n",
    "                torch.manual_seed(SEED)\n",
    "                num_cls = 10\n",
    "                if DS=='c100': num_cls = 100\n",
    "                ### FOR ORIGINAL MIXER\n",
    "                if i == 0:\n",
    "                    model = MlpMixer((3, 32, 32), (4, 4), hidden_expansion=2.53, num_blocks=num_layers, \n",
    "                                     num_classes=num_cls, patch_mixing=\"dense\", channel_mixing=\"dense\")\n",
    "                    model_name = f'mlp_mixer_dense_l{num_layers}_{DS}_s{SEED}'\n",
    "                elif i == 1:\n",
    "                    model = MlpMixer((3, 32, 32), (4, 4), hidden_expansion=2.53, num_blocks=num_layers, \n",
    "                                     num_classes=num_cls, patch_mixing=\"sparse_linear\", channel_mixing=\"sparse_linear\")\n",
    "                    model_name = f'mlp_mixer_sparseLinear_l{num_layers}_{DS}_s{SEED}'\n",
    "                elif i == 2:\n",
    "                    model = MlpMixer((3, 32, 32), (4, 4), hidden_expansion=2.53, num_blocks=num_layers, \n",
    "                                     num_classes=num_cls, patch_mixing=\"sparse_mlp\", channel_mixing=\"sparse_mlp\")\n",
    "                    model_name = f'mlp_mixer_sparseMlp_l{num_layers}_{DS}_s{SEED}'\n",
    "                else:\n",
    "                    print(\"JPT........!!!!\")\n",
    "                    continue\n",
    "                    \n",
    "                model = model.to(device)\n",
    "#                 model = torch.compile(model)\n",
    "                optimizer = torch.optim.Adam(model.parameters(), lr=lr)\n",
    "                scheduler = torch.optim.lr_scheduler.CosineAnnealingLR(optimizer, T_max=EPOCHS)\n",
    "\n",
    "                num_params = sum(p.numel() for p in model.parameters())\n",
    "\n",
    "                model_name = \"03.0_\" + model_name + \"_h1\"\n",
    "                print(f\"EXPERIMENTING FOR : {model_name} | params: {num_params}  .......\\n.......\")\n",
    "                \n",
    "#                 continue\n",
    "                STAT ={'train_stat':[], 'test_stat':[], 'num_params':num_params}\n",
    "                best_acc = -1\n",
    "                for epoch in range(0, EPOCHS): ## for 200 epochs\n",
    "                    train(epoch)\n",
    "                    test(epoch)\n",
    "                    scheduler.step()\n",
    "                print(f\"Training finished\\n\")\n",
    "                pass\n",
    "            pass\n",
    "        pass\n",
    "    return 0           "
   ]
  },
  {
   "cell_type": "code",
   "execution_count": 53,
   "metadata": {},
   "outputs": [],
   "source": [
    "## warning - Consider setting `torch.set_float32_matmul_precision('high')` for better performance.\n",
    "torch.set_float32_matmul_precision('high')"
   ]
  },
  {
   "cell_type": "code",
   "execution_count": null,
   "metadata": {},
   "outputs": [
    {
     "name": "stdout",
     "output_type": "stream",
     "text": [
      "Experiment index: 1\n",
      "MLP Mixer : Channes per patch -> Initial:48 Final:121\n",
      "EXPERIMENTING FOR : 03.0_mlp_mixer_sparseLinear_l7_c10_s147_h1 | params: 140961  .......\n",
      ".......\n"
     ]
    },
    {
     "name": "stderr",
     "output_type": "stream",
     "text": [
      "100%|███████████████████████████████████████████████████| 782/782 [00:30<00:00, 25.86it/s]\n"
     ]
    },
    {
     "name": "stdout",
     "output_type": "stream",
     "text": [
      "[Train] 0 Loss: 1.791 | Acc: 36.290 18145/50000\n"
     ]
    },
    {
     "name": "stderr",
     "output_type": "stream",
     "text": [
      "100%|██████████████████████████████████████████████████| 157/157 [00:01<00:00, 111.68it/s]\n"
     ]
    },
    {
     "name": "stdout",
     "output_type": "stream",
     "text": [
      "[Test] 0 Loss: 1.458 | Acc: 47.790 4779/10000\n",
      "Saving..\n"
     ]
    },
    {
     "name": "stderr",
     "output_type": "stream",
     "text": [
      "100%|███████████████████████████████████████████████████| 782/782 [00:30<00:00, 25.85it/s]\n"
     ]
    },
    {
     "name": "stdout",
     "output_type": "stream",
     "text": [
      "[Train] 1 Loss: 1.445 | Acc: 48.208 24104/50000\n"
     ]
    },
    {
     "name": "stderr",
     "output_type": "stream",
     "text": [
      "100%|██████████████████████████████████████████████████| 157/157 [00:01<00:00, 115.61it/s]\n"
     ]
    },
    {
     "name": "stdout",
     "output_type": "stream",
     "text": [
      "[Test] 1 Loss: 1.240 | Acc: 55.740 5574/10000\n",
      "Saving..\n"
     ]
    },
    {
     "name": "stderr",
     "output_type": "stream",
     "text": [
      "100%|███████████████████████████████████████████████████| 782/782 [00:30<00:00, 25.65it/s]\n"
     ]
    },
    {
     "name": "stdout",
     "output_type": "stream",
     "text": [
      "[Train] 2 Loss: 1.289 | Acc: 54.078 27039/50000\n"
     ]
    },
    {
     "name": "stderr",
     "output_type": "stream",
     "text": [
      "100%|██████████████████████████████████████████████████| 157/157 [00:01<00:00, 115.83it/s]\n"
     ]
    },
    {
     "name": "stdout",
     "output_type": "stream",
     "text": [
      "[Test] 2 Loss: 1.127 | Acc: 60.630 6063/10000\n",
      "Saving..\n"
     ]
    },
    {
     "name": "stderr",
     "output_type": "stream",
     "text": [
      "100%|███████████████████████████████████████████████████| 782/782 [00:30<00:00, 25.70it/s]\n"
     ]
    },
    {
     "name": "stdout",
     "output_type": "stream",
     "text": [
      "[Train] 3 Loss: 1.194 | Acc: 57.748 28874/50000\n"
     ]
    },
    {
     "name": "stderr",
     "output_type": "stream",
     "text": [
      "100%|██████████████████████████████████████████████████| 157/157 [00:01<00:00, 112.52it/s]\n"
     ]
    },
    {
     "name": "stdout",
     "output_type": "stream",
     "text": [
      "[Test] 3 Loss: 1.070 | Acc: 62.370 6237/10000\n",
      "Saving..\n"
     ]
    },
    {
     "name": "stderr",
     "output_type": "stream",
     "text": [
      "100%|███████████████████████████████████████████████████| 782/782 [00:30<00:00, 25.59it/s]\n"
     ]
    },
    {
     "name": "stdout",
     "output_type": "stream",
     "text": [
      "[Train] 4 Loss: 1.144 | Acc: 59.620 29810/50000\n"
     ]
    },
    {
     "name": "stderr",
     "output_type": "stream",
     "text": [
      "100%|██████████████████████████████████████████████████| 157/157 [00:01<00:00, 111.54it/s]\n"
     ]
    },
    {
     "name": "stdout",
     "output_type": "stream",
     "text": [
      "[Test] 4 Loss: 1.044 | Acc: 63.140 6314/10000\n",
      "Saving..\n"
     ]
    },
    {
     "name": "stderr",
     "output_type": "stream",
     "text": [
      "100%|███████████████████████████████████████████████████| 782/782 [00:30<00:00, 25.61it/s]\n"
     ]
    },
    {
     "name": "stdout",
     "output_type": "stream",
     "text": [
      "[Train] 5 Loss: 1.096 | Acc: 61.514 30757/50000\n"
     ]
    },
    {
     "name": "stderr",
     "output_type": "stream",
     "text": [
      "100%|██████████████████████████████████████████████████| 157/157 [00:01<00:00, 111.60it/s]\n"
     ]
    },
    {
     "name": "stdout",
     "output_type": "stream",
     "text": [
      "[Test] 5 Loss: 0.980 | Acc: 65.460 6546/10000\n",
      "Saving..\n"
     ]
    },
    {
     "name": "stderr",
     "output_type": "stream",
     "text": [
      "100%|███████████████████████████████████████████████████| 782/782 [00:30<00:00, 25.59it/s]\n"
     ]
    },
    {
     "name": "stdout",
     "output_type": "stream",
     "text": [
      "[Train] 6 Loss: 1.066 | Acc: 62.500 31250/50000\n"
     ]
    },
    {
     "name": "stderr",
     "output_type": "stream",
     "text": [
      "100%|██████████████████████████████████████████████████| 157/157 [00:01<00:00, 109.30it/s]\n"
     ]
    },
    {
     "name": "stdout",
     "output_type": "stream",
     "text": [
      "[Test] 6 Loss: 0.960 | Acc: 66.010 6601/10000\n",
      "Saving..\n"
     ]
    },
    {
     "name": "stderr",
     "output_type": "stream",
     "text": [
      "100%|███████████████████████████████████████████████████| 782/782 [00:30<00:00, 25.61it/s]\n"
     ]
    },
    {
     "name": "stdout",
     "output_type": "stream",
     "text": [
      "[Train] 7 Loss: 1.038 | Acc: 63.696 31848/50000\n"
     ]
    },
    {
     "name": "stderr",
     "output_type": "stream",
     "text": [
      "100%|██████████████████████████████████████████████████| 157/157 [00:01<00:00, 114.35it/s]\n"
     ]
    },
    {
     "name": "stdout",
     "output_type": "stream",
     "text": [
      "[Test] 7 Loss: 0.933 | Acc: 67.580 6758/10000\n",
      "Saving..\n"
     ]
    },
    {
     "name": "stderr",
     "output_type": "stream",
     "text": [
      "100%|███████████████████████████████████████████████████| 782/782 [00:30<00:00, 25.56it/s]\n"
     ]
    },
    {
     "name": "stdout",
     "output_type": "stream",
     "text": [
      "[Train] 8 Loss: 1.014 | Acc: 64.522 32261/50000\n"
     ]
    },
    {
     "name": "stderr",
     "output_type": "stream",
     "text": [
      "100%|██████████████████████████████████████████████████| 157/157 [00:01<00:00, 113.08it/s]\n"
     ]
    },
    {
     "name": "stdout",
     "output_type": "stream",
     "text": [
      "[Test] 8 Loss: 0.937 | Acc: 67.660 6766/10000\n",
      "Saving..\n"
     ]
    },
    {
     "name": "stderr",
     "output_type": "stream",
     "text": [
      "100%|███████████████████████████████████████████████████| 782/782 [00:30<00:00, 25.68it/s]\n"
     ]
    },
    {
     "name": "stdout",
     "output_type": "stream",
     "text": [
      "[Train] 9 Loss: 0.997 | Acc: 65.034 32517/50000\n"
     ]
    },
    {
     "name": "stderr",
     "output_type": "stream",
     "text": [
      "100%|██████████████████████████████████████████████████| 157/157 [00:01<00:00, 111.74it/s]\n"
     ]
    },
    {
     "name": "stdout",
     "output_type": "stream",
     "text": [
      "[Test] 9 Loss: 0.895 | Acc: 68.950 6895/10000\n",
      "Saving..\n"
     ]
    },
    {
     "name": "stderr",
     "output_type": "stream",
     "text": [
      "100%|███████████████████████████████████████████████████| 782/782 [00:30<00:00, 25.56it/s]\n"
     ]
    },
    {
     "name": "stdout",
     "output_type": "stream",
     "text": [
      "[Train] 10 Loss: 0.975 | Acc: 65.900 32950/50000\n"
     ]
    },
    {
     "name": "stderr",
     "output_type": "stream",
     "text": [
      "100%|██████████████████████████████████████████████████| 157/157 [00:01<00:00, 111.09it/s]\n"
     ]
    },
    {
     "name": "stdout",
     "output_type": "stream",
     "text": [
      "[Test] 10 Loss: 0.886 | Acc: 69.190 6919/10000\n",
      "Saving..\n"
     ]
    },
    {
     "name": "stderr",
     "output_type": "stream",
     "text": [
      "100%|███████████████████████████████████████████████████| 782/782 [00:30<00:00, 25.58it/s]\n"
     ]
    },
    {
     "name": "stdout",
     "output_type": "stream",
     "text": [
      "[Train] 11 Loss: 0.958 | Acc: 66.760 33380/50000\n"
     ]
    },
    {
     "name": "stderr",
     "output_type": "stream",
     "text": [
      "100%|██████████████████████████████████████████████████| 157/157 [00:01<00:00, 109.73it/s]\n"
     ]
    },
    {
     "name": "stdout",
     "output_type": "stream",
     "text": [
      "[Test] 11 Loss: 0.885 | Acc: 68.680 6868/10000\n"
     ]
    },
    {
     "name": "stderr",
     "output_type": "stream",
     "text": [
      "100%|███████████████████████████████████████████████████| 782/782 [00:30<00:00, 25.61it/s]\n"
     ]
    },
    {
     "name": "stdout",
     "output_type": "stream",
     "text": [
      "[Train] 12 Loss: 0.932 | Acc: 67.460 33730/50000\n"
     ]
    },
    {
     "name": "stderr",
     "output_type": "stream",
     "text": [
      "100%|██████████████████████████████████████████████████| 157/157 [00:01<00:00, 109.87it/s]\n"
     ]
    },
    {
     "name": "stdout",
     "output_type": "stream",
     "text": [
      "[Test] 12 Loss: 0.842 | Acc: 70.930 7093/10000\n",
      "Saving..\n"
     ]
    },
    {
     "name": "stderr",
     "output_type": "stream",
     "text": [
      "100%|███████████████████████████████████████████████████| 782/782 [00:30<00:00, 25.49it/s]\n"
     ]
    },
    {
     "name": "stdout",
     "output_type": "stream",
     "text": [
      "[Train] 13 Loss: 0.923 | Acc: 67.846 33923/50000\n"
     ]
    },
    {
     "name": "stderr",
     "output_type": "stream",
     "text": [
      "100%|██████████████████████████████████████████████████| 157/157 [00:01<00:00, 111.33it/s]\n"
     ]
    },
    {
     "name": "stdout",
     "output_type": "stream",
     "text": [
      "[Test] 13 Loss: 0.849 | Acc: 70.420 7042/10000\n"
     ]
    },
    {
     "name": "stderr",
     "output_type": "stream",
     "text": [
      "100%|███████████████████████████████████████████████████| 782/782 [00:30<00:00, 25.47it/s]\n"
     ]
    },
    {
     "name": "stdout",
     "output_type": "stream",
     "text": [
      "[Train] 14 Loss: 0.909 | Acc: 68.390 34195/50000\n"
     ]
    },
    {
     "name": "stderr",
     "output_type": "stream",
     "text": [
      "100%|██████████████████████████████████████████████████| 157/157 [00:01<00:00, 111.90it/s]\n"
     ]
    },
    {
     "name": "stdout",
     "output_type": "stream",
     "text": [
      "[Test] 14 Loss: 0.814 | Acc: 72.010 7201/10000\n",
      "Saving..\n"
     ]
    },
    {
     "name": "stderr",
     "output_type": "stream",
     "text": [
      "100%|███████████████████████████████████████████████████| 782/782 [00:31<00:00, 25.00it/s]\n"
     ]
    },
    {
     "name": "stdout",
     "output_type": "stream",
     "text": [
      "[Train] 15 Loss: 0.889 | Acc: 69.022 34511/50000\n"
     ]
    },
    {
     "name": "stderr",
     "output_type": "stream",
     "text": [
      "100%|██████████████████████████████████████████████████| 157/157 [00:01<00:00, 110.67it/s]\n"
     ]
    },
    {
     "name": "stdout",
     "output_type": "stream",
     "text": [
      "[Test] 15 Loss: 0.794 | Acc: 72.100 7210/10000\n",
      "Saving..\n"
     ]
    },
    {
     "name": "stderr",
     "output_type": "stream",
     "text": [
      "100%|███████████████████████████████████████████████████| 782/782 [00:30<00:00, 25.29it/s]\n"
     ]
    },
    {
     "name": "stdout",
     "output_type": "stream",
     "text": [
      "[Train] 16 Loss: 0.879 | Acc: 69.212 34606/50000\n"
     ]
    },
    {
     "name": "stderr",
     "output_type": "stream",
     "text": [
      "100%|██████████████████████████████████████████████████| 157/157 [00:01<00:00, 112.50it/s]\n"
     ]
    },
    {
     "name": "stdout",
     "output_type": "stream",
     "text": [
      "[Test] 16 Loss: 0.815 | Acc: 71.720 7172/10000\n"
     ]
    },
    {
     "name": "stderr",
     "output_type": "stream",
     "text": [
      "100%|███████████████████████████████████████████████████| 782/782 [00:31<00:00, 24.71it/s]\n"
     ]
    },
    {
     "name": "stdout",
     "output_type": "stream",
     "text": [
      "[Train] 17 Loss: 0.865 | Acc: 69.804 34902/50000\n"
     ]
    },
    {
     "name": "stderr",
     "output_type": "stream",
     "text": [
      "100%|██████████████████████████████████████████████████| 157/157 [00:01<00:00, 114.70it/s]\n"
     ]
    },
    {
     "name": "stdout",
     "output_type": "stream",
     "text": [
      "[Test] 17 Loss: 0.793 | Acc: 72.520 7252/10000\n",
      "Saving..\n"
     ]
    },
    {
     "name": "stderr",
     "output_type": "stream",
     "text": [
      "100%|███████████████████████████████████████████████████| 782/782 [00:30<00:00, 25.49it/s]\n"
     ]
    },
    {
     "name": "stdout",
     "output_type": "stream",
     "text": [
      "[Train] 18 Loss: 0.854 | Acc: 70.322 35161/50000\n"
     ]
    },
    {
     "name": "stderr",
     "output_type": "stream",
     "text": [
      "100%|██████████████████████████████████████████████████| 157/157 [00:01<00:00, 112.21it/s]\n"
     ]
    },
    {
     "name": "stdout",
     "output_type": "stream",
     "text": [
      "[Test] 18 Loss: 0.796 | Acc: 72.770 7277/10000\n",
      "Saving..\n"
     ]
    },
    {
     "name": "stderr",
     "output_type": "stream",
     "text": [
      "100%|███████████████████████████████████████████████████| 782/782 [00:30<00:00, 25.41it/s]\n"
     ]
    },
    {
     "name": "stdout",
     "output_type": "stream",
     "text": [
      "[Train] 19 Loss: 0.849 | Acc: 70.748 35374/50000\n"
     ]
    },
    {
     "name": "stderr",
     "output_type": "stream",
     "text": [
      "100%|██████████████████████████████████████████████████| 157/157 [00:01<00:00, 113.17it/s]\n"
     ]
    },
    {
     "name": "stdout",
     "output_type": "stream",
     "text": [
      "[Test] 19 Loss: 0.797 | Acc: 72.170 7217/10000\n"
     ]
    },
    {
     "name": "stderr",
     "output_type": "stream",
     "text": [
      "100%|███████████████████████████████████████████████████| 782/782 [00:36<00:00, 21.44it/s]\n"
     ]
    },
    {
     "name": "stdout",
     "output_type": "stream",
     "text": [
      "[Train] 20 Loss: 0.839 | Acc: 71.038 35519/50000\n"
     ]
    },
    {
     "name": "stderr",
     "output_type": "stream",
     "text": [
      "100%|██████████████████████████████████████████████████| 157/157 [00:01<00:00, 111.83it/s]\n"
     ]
    },
    {
     "name": "stdout",
     "output_type": "stream",
     "text": [
      "[Test] 20 Loss: 0.798 | Acc: 72.160 7216/10000\n"
     ]
    },
    {
     "name": "stderr",
     "output_type": "stream",
     "text": [
      "100%|███████████████████████████████████████████████████| 782/782 [00:30<00:00, 25.41it/s]\n"
     ]
    },
    {
     "name": "stdout",
     "output_type": "stream",
     "text": [
      "[Train] 21 Loss: 0.833 | Acc: 71.080 35540/50000\n"
     ]
    },
    {
     "name": "stderr",
     "output_type": "stream",
     "text": [
      "100%|██████████████████████████████████████████████████| 157/157 [00:01<00:00, 109.67it/s]\n"
     ]
    },
    {
     "name": "stdout",
     "output_type": "stream",
     "text": [
      "[Test] 21 Loss: 0.758 | Acc: 73.970 7397/10000\n",
      "Saving..\n"
     ]
    },
    {
     "name": "stderr",
     "output_type": "stream",
     "text": [
      "100%|███████████████████████████████████████████████████| 782/782 [00:30<00:00, 25.45it/s]\n"
     ]
    },
    {
     "name": "stdout",
     "output_type": "stream",
     "text": [
      "[Train] 22 Loss: 0.816 | Acc: 71.694 35847/50000\n"
     ]
    },
    {
     "name": "stderr",
     "output_type": "stream",
     "text": [
      "100%|██████████████████████████████████████████████████| 157/157 [00:01<00:00, 111.74it/s]\n"
     ]
    },
    {
     "name": "stdout",
     "output_type": "stream",
     "text": [
      "[Test] 22 Loss: 0.779 | Acc: 72.630 7263/10000\n"
     ]
    },
    {
     "name": "stderr",
     "output_type": "stream",
     "text": [
      "100%|███████████████████████████████████████████████████| 782/782 [00:32<00:00, 24.07it/s]\n"
     ]
    },
    {
     "name": "stdout",
     "output_type": "stream",
     "text": [
      "[Train] 23 Loss: 0.814 | Acc: 71.940 35970/50000\n"
     ]
    },
    {
     "name": "stderr",
     "output_type": "stream",
     "text": [
      "100%|███████████████████████████████████████████████████| 157/157 [00:01<00:00, 93.04it/s]\n"
     ]
    },
    {
     "name": "stdout",
     "output_type": "stream",
     "text": [
      "[Test] 23 Loss: 0.761 | Acc: 73.690 7369/10000\n"
     ]
    },
    {
     "name": "stderr",
     "output_type": "stream",
     "text": [
      "100%|███████████████████████████████████████████████████| 782/782 [00:32<00:00, 24.20it/s]\n"
     ]
    },
    {
     "name": "stdout",
     "output_type": "stream",
     "text": [
      "[Train] 24 Loss: 0.809 | Acc: 71.964 35982/50000\n"
     ]
    },
    {
     "name": "stderr",
     "output_type": "stream",
     "text": [
      "100%|██████████████████████████████████████████████████| 157/157 [00:01<00:00, 112.63it/s]\n"
     ]
    },
    {
     "name": "stdout",
     "output_type": "stream",
     "text": [
      "[Test] 24 Loss: 0.754 | Acc: 73.970 7397/10000\n"
     ]
    },
    {
     "name": "stderr",
     "output_type": "stream",
     "text": [
      "100%|███████████████████████████████████████████████████| 782/782 [00:30<00:00, 25.52it/s]\n"
     ]
    },
    {
     "name": "stdout",
     "output_type": "stream",
     "text": [
      "[Train] 25 Loss: 0.796 | Acc: 72.270 36135/50000\n"
     ]
    },
    {
     "name": "stderr",
     "output_type": "stream",
     "text": [
      "100%|██████████████████████████████████████████████████| 157/157 [00:01<00:00, 105.44it/s]\n"
     ]
    },
    {
     "name": "stdout",
     "output_type": "stream",
     "text": [
      "[Test] 25 Loss: 0.774 | Acc: 73.360 7336/10000\n"
     ]
    },
    {
     "name": "stderr",
     "output_type": "stream",
     "text": [
      "100%|███████████████████████████████████████████████████| 782/782 [00:30<00:00, 25.43it/s]\n"
     ]
    },
    {
     "name": "stdout",
     "output_type": "stream",
     "text": [
      "[Train] 26 Loss: 0.792 | Acc: 72.574 36287/50000\n"
     ]
    },
    {
     "name": "stderr",
     "output_type": "stream",
     "text": [
      "100%|██████████████████████████████████████████████████| 157/157 [00:01<00:00, 107.98it/s]\n"
     ]
    },
    {
     "name": "stdout",
     "output_type": "stream",
     "text": [
      "[Test] 26 Loss: 0.762 | Acc: 73.820 7382/10000\n"
     ]
    },
    {
     "name": "stderr",
     "output_type": "stream",
     "text": [
      "100%|███████████████████████████████████████████████████| 782/782 [00:30<00:00, 25.46it/s]\n"
     ]
    },
    {
     "name": "stdout",
     "output_type": "stream",
     "text": [
      "[Train] 27 Loss: 0.787 | Acc: 72.770 36385/50000\n"
     ]
    },
    {
     "name": "stderr",
     "output_type": "stream",
     "text": [
      "100%|██████████████████████████████████████████████████| 157/157 [00:01<00:00, 114.39it/s]\n"
     ]
    },
    {
     "name": "stdout",
     "output_type": "stream",
     "text": [
      "[Test] 27 Loss: 0.748 | Acc: 74.320 7432/10000\n",
      "Saving..\n"
     ]
    },
    {
     "name": "stderr",
     "output_type": "stream",
     "text": [
      "100%|███████████████████████████████████████████████████| 782/782 [00:32<00:00, 24.10it/s]\n"
     ]
    },
    {
     "name": "stdout",
     "output_type": "stream",
     "text": [
      "[Train] 28 Loss: 0.778 | Acc: 72.904 36452/50000\n"
     ]
    },
    {
     "name": "stderr",
     "output_type": "stream",
     "text": [
      "100%|██████████████████████████████████████████████████| 157/157 [00:01<00:00, 110.16it/s]\n"
     ]
    },
    {
     "name": "stdout",
     "output_type": "stream",
     "text": [
      "[Test] 28 Loss: 0.750 | Acc: 74.680 7468/10000\n",
      "Saving..\n"
     ]
    },
    {
     "name": "stderr",
     "output_type": "stream",
     "text": [
      "100%|███████████████████████████████████████████████████| 782/782 [00:32<00:00, 24.09it/s]\n"
     ]
    },
    {
     "name": "stdout",
     "output_type": "stream",
     "text": [
      "[Train] 29 Loss: 0.774 | Acc: 73.126 36563/50000\n"
     ]
    },
    {
     "name": "stderr",
     "output_type": "stream",
     "text": [
      "100%|███████████████████████████████████████████████████| 157/157 [00:01<00:00, 87.13it/s]\n"
     ]
    },
    {
     "name": "stdout",
     "output_type": "stream",
     "text": [
      "[Test] 29 Loss: 0.748 | Acc: 74.110 7411/10000\n"
     ]
    },
    {
     "name": "stderr",
     "output_type": "stream",
     "text": [
      "100%|███████████████████████████████████████████████████| 782/782 [00:32<00:00, 24.05it/s]\n"
     ]
    },
    {
     "name": "stdout",
     "output_type": "stream",
     "text": [
      "[Train] 30 Loss: 0.759 | Acc: 73.630 36815/50000\n"
     ]
    },
    {
     "name": "stderr",
     "output_type": "stream",
     "text": [
      "100%|██████████████████████████████████████████████████| 157/157 [00:01<00:00, 112.18it/s]\n"
     ]
    },
    {
     "name": "stdout",
     "output_type": "stream",
     "text": [
      "[Test] 30 Loss: 0.757 | Acc: 73.950 7395/10000\n"
     ]
    },
    {
     "name": "stderr",
     "output_type": "stream",
     "text": [
      "100%|███████████████████████████████████████████████████| 782/782 [00:32<00:00, 24.42it/s]\n"
     ]
    },
    {
     "name": "stdout",
     "output_type": "stream",
     "text": [
      "[Train] 31 Loss: 0.761 | Acc: 73.740 36870/50000\n"
     ]
    },
    {
     "name": "stderr",
     "output_type": "stream",
     "text": [
      "100%|██████████████████████████████████████████████████| 157/157 [00:01<00:00, 110.87it/s]\n"
     ]
    },
    {
     "name": "stdout",
     "output_type": "stream",
     "text": [
      "[Test] 31 Loss: 0.726 | Acc: 74.480 7448/10000\n"
     ]
    },
    {
     "name": "stderr",
     "output_type": "stream",
     "text": [
      "100%|███████████████████████████████████████████████████| 782/782 [00:31<00:00, 24.48it/s]\n"
     ]
    },
    {
     "name": "stdout",
     "output_type": "stream",
     "text": [
      "[Train] 32 Loss: 0.755 | Acc: 73.594 36797/50000\n"
     ]
    },
    {
     "name": "stderr",
     "output_type": "stream",
     "text": [
      "100%|███████████████████████████████████████████████████| 157/157 [00:01<00:00, 92.80it/s]\n"
     ]
    },
    {
     "name": "stdout",
     "output_type": "stream",
     "text": [
      "[Test] 32 Loss: 0.708 | Acc: 75.420 7542/10000\n",
      "Saving..\n"
     ]
    },
    {
     "name": "stderr",
     "output_type": "stream",
     "text": [
      "100%|███████████████████████████████████████████████████| 782/782 [00:35<00:00, 21.83it/s]\n"
     ]
    },
    {
     "name": "stdout",
     "output_type": "stream",
     "text": [
      "[Train] 33 Loss: 0.748 | Acc: 74.064 37032/50000\n"
     ]
    },
    {
     "name": "stderr",
     "output_type": "stream",
     "text": [
      "100%|███████████████████████████████████████████████████| 157/157 [00:01<00:00, 88.83it/s]\n"
     ]
    },
    {
     "name": "stdout",
     "output_type": "stream",
     "text": [
      "[Test] 33 Loss: 0.724 | Acc: 75.160 7516/10000\n"
     ]
    },
    {
     "name": "stderr",
     "output_type": "stream",
     "text": [
      "100%|███████████████████████████████████████████████████| 782/782 [00:31<00:00, 25.10it/s]\n"
     ]
    },
    {
     "name": "stdout",
     "output_type": "stream",
     "text": [
      "[Train] 34 Loss: 0.748 | Acc: 74.018 37009/50000\n"
     ]
    },
    {
     "name": "stderr",
     "output_type": "stream",
     "text": [
      "100%|██████████████████████████████████████████████████| 157/157 [00:01<00:00, 112.58it/s]\n"
     ]
    },
    {
     "name": "stdout",
     "output_type": "stream",
     "text": [
      "[Test] 34 Loss: 0.731 | Acc: 75.160 7516/10000\n"
     ]
    },
    {
     "name": "stderr",
     "output_type": "stream",
     "text": [
      "100%|███████████████████████████████████████████████████| 782/782 [00:30<00:00, 25.51it/s]\n"
     ]
    },
    {
     "name": "stdout",
     "output_type": "stream",
     "text": [
      "[Train] 35 Loss: 0.737 | Acc: 74.458 37229/50000\n"
     ]
    },
    {
     "name": "stderr",
     "output_type": "stream",
     "text": [
      "100%|██████████████████████████████████████████████████| 157/157 [00:01<00:00, 111.02it/s]\n"
     ]
    },
    {
     "name": "stdout",
     "output_type": "stream",
     "text": [
      "[Test] 35 Loss: 0.728 | Acc: 75.140 7514/10000\n"
     ]
    },
    {
     "name": "stderr",
     "output_type": "stream",
     "text": [
      "100%|███████████████████████████████████████████████████| 782/782 [00:30<00:00, 25.58it/s]\n"
     ]
    },
    {
     "name": "stdout",
     "output_type": "stream",
     "text": [
      "[Train] 36 Loss: 0.732 | Acc: 74.548 37274/50000\n"
     ]
    },
    {
     "name": "stderr",
     "output_type": "stream",
     "text": [
      "100%|██████████████████████████████████████████████████| 157/157 [00:01<00:00, 109.83it/s]\n"
     ]
    },
    {
     "name": "stdout",
     "output_type": "stream",
     "text": [
      "[Test] 36 Loss: 0.722 | Acc: 75.210 7521/10000\n"
     ]
    },
    {
     "name": "stderr",
     "output_type": "stream",
     "text": [
      "100%|███████████████████████████████████████████████████| 782/782 [00:30<00:00, 25.54it/s]\n"
     ]
    },
    {
     "name": "stdout",
     "output_type": "stream",
     "text": [
      "[Train] 37 Loss: 0.728 | Acc: 74.718 37359/50000\n"
     ]
    },
    {
     "name": "stderr",
     "output_type": "stream",
     "text": [
      "100%|██████████████████████████████████████████████████| 157/157 [00:01<00:00, 111.90it/s]\n"
     ]
    },
    {
     "name": "stdout",
     "output_type": "stream",
     "text": [
      "[Test] 37 Loss: 0.728 | Acc: 74.880 7488/10000\n"
     ]
    },
    {
     "name": "stderr",
     "output_type": "stream",
     "text": [
      "100%|███████████████████████████████████████████████████| 782/782 [00:30<00:00, 25.56it/s]\n"
     ]
    },
    {
     "name": "stdout",
     "output_type": "stream",
     "text": [
      "[Train] 38 Loss: 0.730 | Acc: 74.702 37351/50000\n"
     ]
    },
    {
     "name": "stderr",
     "output_type": "stream",
     "text": [
      "100%|██████████████████████████████████████████████████| 157/157 [00:01<00:00, 111.18it/s]\n"
     ]
    },
    {
     "name": "stdout",
     "output_type": "stream",
     "text": [
      "[Test] 38 Loss: 0.717 | Acc: 75.610 7561/10000\n",
      "Saving..\n"
     ]
    },
    {
     "name": "stderr",
     "output_type": "stream",
     "text": [
      "100%|███████████████████████████████████████████████████| 782/782 [00:30<00:00, 25.38it/s]\n"
     ]
    },
    {
     "name": "stdout",
     "output_type": "stream",
     "text": [
      "[Train] 39 Loss: 0.716 | Acc: 75.130 37565/50000\n"
     ]
    },
    {
     "name": "stderr",
     "output_type": "stream",
     "text": [
      "100%|██████████████████████████████████████████████████| 157/157 [00:01<00:00, 111.29it/s]\n"
     ]
    },
    {
     "name": "stdout",
     "output_type": "stream",
     "text": [
      "[Test] 39 Loss: 0.707 | Acc: 75.920 7592/10000\n",
      "Saving..\n"
     ]
    },
    {
     "name": "stderr",
     "output_type": "stream",
     "text": [
      "100%|███████████████████████████████████████████████████| 782/782 [00:30<00:00, 25.49it/s]\n"
     ]
    },
    {
     "name": "stdout",
     "output_type": "stream",
     "text": [
      "[Train] 40 Loss: 0.719 | Acc: 75.042 37521/50000\n"
     ]
    },
    {
     "name": "stderr",
     "output_type": "stream",
     "text": [
      "100%|██████████████████████████████████████████████████| 157/157 [00:01<00:00, 112.52it/s]\n"
     ]
    },
    {
     "name": "stdout",
     "output_type": "stream",
     "text": [
      "[Test] 40 Loss: 0.705 | Acc: 75.620 7562/10000\n"
     ]
    },
    {
     "name": "stderr",
     "output_type": "stream",
     "text": [
      "100%|███████████████████████████████████████████████████| 782/782 [00:30<00:00, 25.55it/s]\n"
     ]
    },
    {
     "name": "stdout",
     "output_type": "stream",
     "text": [
      "[Train] 41 Loss: 0.712 | Acc: 75.324 37662/50000\n"
     ]
    },
    {
     "name": "stderr",
     "output_type": "stream",
     "text": [
      "100%|██████████████████████████████████████████████████| 157/157 [00:01<00:00, 111.46it/s]\n"
     ]
    },
    {
     "name": "stdout",
     "output_type": "stream",
     "text": [
      "[Test] 41 Loss: 0.697 | Acc: 76.210 7621/10000\n",
      "Saving..\n"
     ]
    },
    {
     "name": "stderr",
     "output_type": "stream",
     "text": [
      "100%|███████████████████████████████████████████████████| 782/782 [00:30<00:00, 25.49it/s]\n"
     ]
    },
    {
     "name": "stdout",
     "output_type": "stream",
     "text": [
      "[Train] 42 Loss: 0.711 | Acc: 75.454 37727/50000\n"
     ]
    },
    {
     "name": "stderr",
     "output_type": "stream",
     "text": [
      "100%|██████████████████████████████████████████████████| 157/157 [00:01<00:00, 110.74it/s]\n"
     ]
    },
    {
     "name": "stdout",
     "output_type": "stream",
     "text": [
      "[Test] 42 Loss: 0.697 | Acc: 76.670 7667/10000\n",
      "Saving..\n"
     ]
    },
    {
     "name": "stderr",
     "output_type": "stream",
     "text": [
      "100%|███████████████████████████████████████████████████| 782/782 [00:30<00:00, 25.55it/s]\n"
     ]
    },
    {
     "name": "stdout",
     "output_type": "stream",
     "text": [
      "[Train] 43 Loss: 0.709 | Acc: 75.388 37694/50000\n"
     ]
    },
    {
     "name": "stderr",
     "output_type": "stream",
     "text": [
      "100%|██████████████████████████████████████████████████| 157/157 [00:01<00:00, 112.67it/s]\n"
     ]
    },
    {
     "name": "stdout",
     "output_type": "stream",
     "text": [
      "[Test] 43 Loss: 0.704 | Acc: 76.040 7604/10000\n"
     ]
    },
    {
     "name": "stderr",
     "output_type": "stream",
     "text": [
      "100%|███████████████████████████████████████████████████| 782/782 [00:30<00:00, 25.54it/s]\n"
     ]
    },
    {
     "name": "stdout",
     "output_type": "stream",
     "text": [
      "[Train] 44 Loss: 0.701 | Acc: 75.624 37812/50000\n"
     ]
    },
    {
     "name": "stderr",
     "output_type": "stream",
     "text": [
      "100%|██████████████████████████████████████████████████| 157/157 [00:01<00:00, 113.93it/s]\n"
     ]
    },
    {
     "name": "stdout",
     "output_type": "stream",
     "text": [
      "[Test] 44 Loss: 0.722 | Acc: 75.340 7534/10000\n"
     ]
    },
    {
     "name": "stderr",
     "output_type": "stream",
     "text": [
      "100%|███████████████████████████████████████████████████| 782/782 [00:30<00:00, 25.49it/s]\n"
     ]
    },
    {
     "name": "stdout",
     "output_type": "stream",
     "text": [
      "[Train] 45 Loss: 0.700 | Acc: 75.714 37857/50000\n"
     ]
    },
    {
     "name": "stderr",
     "output_type": "stream",
     "text": [
      "100%|██████████████████████████████████████████████████| 157/157 [00:01<00:00, 112.58it/s]\n"
     ]
    },
    {
     "name": "stdout",
     "output_type": "stream",
     "text": [
      "[Test] 45 Loss: 0.710 | Acc: 76.020 7602/10000\n"
     ]
    },
    {
     "name": "stderr",
     "output_type": "stream",
     "text": [
      "100%|███████████████████████████████████████████████████| 782/782 [00:30<00:00, 25.43it/s]\n"
     ]
    },
    {
     "name": "stdout",
     "output_type": "stream",
     "text": [
      "[Train] 46 Loss: 0.687 | Acc: 75.972 37986/50000\n"
     ]
    },
    {
     "name": "stderr",
     "output_type": "stream",
     "text": [
      "100%|██████████████████████████████████████████████████| 157/157 [00:01<00:00, 109.85it/s]\n"
     ]
    },
    {
     "name": "stdout",
     "output_type": "stream",
     "text": [
      "[Test] 46 Loss: 0.687 | Acc: 76.500 7650/10000\n"
     ]
    },
    {
     "name": "stderr",
     "output_type": "stream",
     "text": [
      "100%|███████████████████████████████████████████████████| 782/782 [00:30<00:00, 25.56it/s]\n"
     ]
    },
    {
     "name": "stdout",
     "output_type": "stream",
     "text": [
      "[Train] 47 Loss: 0.687 | Acc: 76.142 38071/50000\n"
     ]
    },
    {
     "name": "stderr",
     "output_type": "stream",
     "text": [
      "100%|██████████████████████████████████████████████████| 157/157 [00:01<00:00, 112.06it/s]\n"
     ]
    },
    {
     "name": "stdout",
     "output_type": "stream",
     "text": [
      "[Test] 47 Loss: 0.686 | Acc: 76.670 7667/10000\n"
     ]
    },
    {
     "name": "stderr",
     "output_type": "stream",
     "text": [
      "100%|███████████████████████████████████████████████████| 782/782 [00:30<00:00, 25.57it/s]\n"
     ]
    },
    {
     "name": "stdout",
     "output_type": "stream",
     "text": [
      "[Train] 48 Loss: 0.679 | Acc: 76.164 38082/50000\n"
     ]
    },
    {
     "name": "stderr",
     "output_type": "stream",
     "text": [
      "100%|██████████████████████████████████████████████████| 157/157 [00:01<00:00, 112.18it/s]\n"
     ]
    },
    {
     "name": "stdout",
     "output_type": "stream",
     "text": [
      "[Test] 48 Loss: 0.674 | Acc: 77.160 7716/10000\n",
      "Saving..\n"
     ]
    },
    {
     "name": "stderr",
     "output_type": "stream",
     "text": [
      "100%|███████████████████████████████████████████████████| 782/782 [00:30<00:00, 25.51it/s]\n"
     ]
    },
    {
     "name": "stdout",
     "output_type": "stream",
     "text": [
      "[Train] 49 Loss: 0.678 | Acc: 76.484 38242/50000\n"
     ]
    },
    {
     "name": "stderr",
     "output_type": "stream",
     "text": [
      "100%|██████████████████████████████████████████████████| 157/157 [00:01<00:00, 113.55it/s]\n"
     ]
    },
    {
     "name": "stdout",
     "output_type": "stream",
     "text": [
      "[Test] 49 Loss: 0.688 | Acc: 76.320 7632/10000\n"
     ]
    },
    {
     "name": "stderr",
     "output_type": "stream",
     "text": [
      "100%|███████████████████████████████████████████████████| 782/782 [00:30<00:00, 25.53it/s]\n"
     ]
    },
    {
     "name": "stdout",
     "output_type": "stream",
     "text": [
      "[Train] 50 Loss: 0.677 | Acc: 76.586 38293/50000\n"
     ]
    },
    {
     "name": "stderr",
     "output_type": "stream",
     "text": [
      "  1%|▎                                                    | 1/157 [00:00<00:16,  9.74it/s]"
     ]
    }
   ],
   "source": [
    "benchmark()"
   ]
  },
  {
   "cell_type": "markdown",
   "metadata": {},
   "source": [
    "## Flops"
   ]
  },
  {
   "cell_type": "code",
   "execution_count": null,
   "metadata": {},
   "outputs": [],
   "source": [
    "from ptflops import get_model_complexity_info\n",
    "\n",
    "SEED = -1\n",
    "for num_cls in [10]:\n",
    "    DS = f\"c{num_cls}\"\n",
    "    for num_layers in [7]:\n",
    "        for i in range(3):\n",
    "            if i == 0:\n",
    "                model = MlpMixer((3, 32, 32), (4, 4), hidden_expansion=2.53, num_blocks=num_layers, \n",
    "                                 num_classes=num_cls, patch_mixing=\"dense\", channel_mixing=\"dense\")\n",
    "                model_name = f'mlp_mixer_dense_l{num_layers}_{DS}_s{SEED}'\n",
    "            elif i == 1:\n",
    "                model = MlpMixer((3, 32, 32), (4, 4), hidden_expansion=2.53, num_blocks=num_layers, \n",
    "                                 num_classes=num_cls, patch_mixing=\"sparse_linear\", channel_mixing=\"sparse_linear\")\n",
    "                model_name = f'mlp_mixer_sparseLinear_l{num_layers}_{DS}_s{SEED}'\n",
    "            elif i == 2:\n",
    "                model = MlpMixer((3, 32, 32), (4, 4), hidden_expansion=2.53, num_blocks=num_layers, \n",
    "                                 num_classes=num_cls, patch_mixing=\"sparse_mlp\", channel_mixing=\"sparse_mlp\")\n",
    "                model_name = f'mlp_mixer_sparseMlp_l{num_layers}_{DS}_s{SEED}'\n",
    "            else:\n",
    "                print(\"JPT........!!!!\")\n",
    "                continue\n",
    "\n",
    "            macs, params = get_model_complexity_info(model, (3, 32, 32), as_strings=True, ignore_modules=['channel_change'],\n",
    "                                           print_per_layer_stat=False, verbose=False)\n",
    "            \n",
    "            print(model_name)\n",
    "#             print(model)\n",
    "            print('{:<30}  {:<8}'.format('Computational complexity: ', macs))\n",
    "            print('{:<30}  {:<8}'.format('Number of parameters: ', params))\n",
    "            print('')\n",
    "            pass\n",
    "        pass\n",
    "    pass\n",
    "pass"
   ]
  },
  {
   "cell_type": "code",
   "execution_count": null,
   "metadata": {},
   "outputs": [],
   "source": []
  },
  {
   "cell_type": "code",
   "execution_count": null,
   "metadata": {},
   "outputs": [],
   "source": [
    "\"\"\"\n",
    "The initialization on three methods are different.\n",
    "Try to remove that gap.\n",
    "\n",
    "1) Initializing everything to kaiming_uniform_ similar to nn.Linear\n",
    "    - Might have better initialization (unclear how pytorch handles init for with with block-sparse)\n",
    "\"\"\""
   ]
  },
  {
   "cell_type": "code",
   "execution_count": null,
   "metadata": {},
   "outputs": [],
   "source": [
    "# !nvidia-smi"
   ]
  },
  {
   "cell_type": "code",
   "execution_count": null,
   "metadata": {},
   "outputs": [],
   "source": [
    "# !pip list"
   ]
  },
  {
   "cell_type": "code",
   "execution_count": null,
   "metadata": {},
   "outputs": [],
   "source": [
    "exit(0)"
   ]
  },
  {
   "cell_type": "code",
   "execution_count": null,
   "metadata": {},
   "outputs": [],
   "source": []
  }
 ],
 "metadata": {
  "kernelspec": {
   "display_name": "Python 3 (ipykernel)",
   "language": "python",
   "name": "python3"
  },
  "language_info": {
   "codemirror_mode": {
    "name": "ipython",
    "version": 3
   },
   "file_extension": ".py",
   "mimetype": "text/x-python",
   "name": "python",
   "nbconvert_exporter": "python",
   "pygments_lexer": "ipython3",
   "version": "3.9.12"
  }
 },
 "nbformat": 4,
 "nbformat_minor": 4
}
