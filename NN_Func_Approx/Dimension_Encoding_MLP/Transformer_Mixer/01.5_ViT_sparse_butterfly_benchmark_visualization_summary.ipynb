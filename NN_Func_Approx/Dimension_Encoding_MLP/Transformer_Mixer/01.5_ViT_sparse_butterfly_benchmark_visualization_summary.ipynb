{
 "cells": [
  {
   "cell_type": "code",
   "execution_count": 18,
   "id": "47a16c36",
   "metadata": {},
   "outputs": [],
   "source": [
    "import numpy as np\n",
    "import json\n",
    "import os, sys, pathlib\n",
    "import matplotlib\n",
    "import matplotlib.pyplot as plt"
   ]
  },
  {
   "cell_type": "code",
   "execution_count": 19,
   "id": "2b4cbc4b",
   "metadata": {},
   "outputs": [
    {
     "data": {
      "text/plain": [
       "PosixPath('output/benchmark')"
      ]
     },
     "execution_count": 19,
     "metadata": {},
     "output_type": "execute_result"
    }
   ],
   "source": [
    "bench_path = pathlib.Path(\"./output/benchmark/\")\n",
    "bench_path"
   ]
  },
  {
   "cell_type": "code",
   "execution_count": 20,
   "id": "107f519a",
   "metadata": {},
   "outputs": [],
   "source": [
    "experiments = list(bench_path.glob(\"*.json\"))"
   ]
  },
  {
   "cell_type": "code",
   "execution_count": 27,
   "id": "7434d13d",
   "metadata": {},
   "outputs": [
    {
     "data": {
      "text/plain": [
       "[PosixPath('output/benchmark/01.3_ViT_nPE_cifar100_patch2_l4_att_mlp_s147_data.json'),\n",
       " PosixPath('output/benchmark/01.3_ViT_nPE_cifar100_patch8_l4_sAtt_mlp_s147_data.json'),\n",
       " PosixPath('output/benchmark/01.3_ViT_nPE_cifar100_patch4_l4_sAtt_mlp_s147_data.json'),\n",
       " PosixPath('output/benchmark/01.3_ViT_nPE_cifar100_patch2_l4_sAtt_mlp_s147_rand_data.json'),\n",
       " PosixPath('output/benchmark/01.3_ViT_nPE_cifar100_patch2_l4_sAtt_mlp_s147_data.json'),\n",
       " PosixPath('output/benchmark/01.3_ViT_nPE_cifar100_patch4_l8_att_mlp_s147_data.json'),\n",
       " PosixPath('output/benchmark/01.3_ViT_nPE_cifar100_patch1_l4_sAtt_mlp_s147_data.json'),\n",
       " PosixPath('output/benchmark/01.3_ViT_nPE_cifar100_patch8_l4_att_mlp_s147_data.json'),\n",
       " PosixPath('output/benchmark/01.3_ViT_nPE_cifar100_patch4_l4_sAtt_mlp_s147_rand_data.json'),\n",
       " PosixPath('output/benchmark/01.3_ViT_nPE_cifar100_patch4_l4_att_mlp_s147_data.json')]"
      ]
     },
     "execution_count": 27,
     "metadata": {},
     "output_type": "execute_result"
    }
   ],
   "source": [
    "c10_exp = []\n",
    "for exp in experiments:\n",
    "#     print(exp.name)\n",
    "    if '_nPE_cifar100_' in exp.name and not 'sMlp' in exp.name:\n",
    "        c10_exp.append(exp)\n",
    "c10_exp"
   ]
  },
  {
   "cell_type": "code",
   "execution_count": 28,
   "id": "4785adf7",
   "metadata": {},
   "outputs": [],
   "source": [
    "import pandas as pd"
   ]
  },
  {
   "cell_type": "code",
   "execution_count": 29,
   "id": "f6e143e7",
   "metadata": {},
   "outputs": [
    {
     "data": {
      "text/html": [
       "<div>\n",
       "<style scoped>\n",
       "    .dataframe tbody tr th:only-of-type {\n",
       "        vertical-align: middle;\n",
       "    }\n",
       "\n",
       "    .dataframe tbody tr th {\n",
       "        vertical-align: top;\n",
       "    }\n",
       "\n",
       "    .dataframe thead th {\n",
       "        text-align: right;\n",
       "    }\n",
       "</style>\n",
       "<table border=\"1\" class=\"dataframe\">\n",
       "  <thead>\n",
       "    <tr style=\"text-align: right;\">\n",
       "      <th></th>\n",
       "      <th>ps</th>\n",
       "      <th>la</th>\n",
       "      <th>sAtt</th>\n",
       "      <th>acc</th>\n",
       "      <th>mem</th>\n",
       "      <th>time</th>\n",
       "      <th>params</th>\n",
       "    </tr>\n",
       "  </thead>\n",
       "  <tbody>\n",
       "    <tr>\n",
       "      <th>0</th>\n",
       "      <td>2</td>\n",
       "      <td>4</td>\n",
       "      <td>False</td>\n",
       "      <td>49.64</td>\n",
       "      <td>976</td>\n",
       "      <td>12.911382</td>\n",
       "      <td>1773220</td>\n",
       "    </tr>\n",
       "    <tr>\n",
       "      <th>1</th>\n",
       "      <td>2</td>\n",
       "      <td>4</td>\n",
       "      <td>True</td>\n",
       "      <td>48.30</td>\n",
       "      <td>-1</td>\n",
       "      <td>-1.000000</td>\n",
       "      <td>1773220</td>\n",
       "    </tr>\n",
       "    <tr>\n",
       "      <th>2</th>\n",
       "      <td>4</td>\n",
       "      <td>8</td>\n",
       "      <td>False</td>\n",
       "      <td>29.18</td>\n",
       "      <td>-1</td>\n",
       "      <td>-1.000000</td>\n",
       "      <td>1885412</td>\n",
       "    </tr>\n",
       "    <tr>\n",
       "      <th>4</th>\n",
       "      <td>4</td>\n",
       "      <td>4</td>\n",
       "      <td>True</td>\n",
       "      <td>53.63</td>\n",
       "      <td>-1</td>\n",
       "      <td>-1.000000</td>\n",
       "      <td>1355492</td>\n",
       "    </tr>\n",
       "    <tr>\n",
       "      <th>5</th>\n",
       "      <td>4</td>\n",
       "      <td>4</td>\n",
       "      <td>False</td>\n",
       "      <td>53.20</td>\n",
       "      <td>478</td>\n",
       "      <td>10.480094</td>\n",
       "      <td>1355492</td>\n",
       "    </tr>\n",
       "    <tr>\n",
       "      <th>3</th>\n",
       "      <td>8</td>\n",
       "      <td>4</td>\n",
       "      <td>False</td>\n",
       "      <td>51.21</td>\n",
       "      <td>-1</td>\n",
       "      <td>-1.000000</td>\n",
       "      <td>2567524</td>\n",
       "    </tr>\n",
       "  </tbody>\n",
       "</table>\n",
       "</div>"
      ],
      "text/plain": [
       "   ps  la   sAtt    acc  mem       time   params\n",
       "0   2   4  False  49.64  976  12.911382  1773220\n",
       "1   2   4   True  48.30   -1  -1.000000  1773220\n",
       "2   4   8  False  29.18   -1  -1.000000  1885412\n",
       "4   4   4   True  53.63   -1  -1.000000  1355492\n",
       "5   4   4  False  53.20  478  10.480094  1355492\n",
       "3   8   4  False  51.21   -1  -1.000000  2567524"
      ]
     },
     "execution_count": 29,
     "metadata": {},
     "output_type": "execute_result"
    }
   ],
   "source": [
    "exp_dict = {'ps':[], 'la':[], 'sAtt':[], 'acc':[], 'mem':[], 'time':[], 'params':[]}\n",
    "for file in c10_exp:\n",
    "    ## filter out name from filename\n",
    "    fn = file.name\n",
    "    splits = fn.split('_')\n",
    "    ps = int(splits[4][5:])\n",
    "    la = int(splits[5][1:])\n",
    "    sAtt = (splits[6] == 'sAtt')\n",
    "    \n",
    "    #############################\n",
    "    ## Remove this to ignore random tokens experiments and use normal experiment\n",
    "    if sAtt:\n",
    "        if not (fn.endswith('_rand_data.json')):\n",
    "            continue\n",
    "    #############################\n",
    "    \n",
    "    with open(file, 'r') as f:\n",
    "        data = json.load(f)\n",
    "        \n",
    "    best_acc = np.array(data['test_stat'])[:, 2].max()\n",
    "    params = data['params']\n",
    "    \n",
    "#     print(ps, la, sAtt,  best_acc)\n",
    "    exp_dict['ps'].append(ps)\n",
    "    exp_dict['la'].append(la)    \n",
    "    exp_dict['sAtt'].append(sAtt)\n",
    "    exp_dict['acc'].append(best_acc)\n",
    "    exp_dict['params'].append(params)\n",
    "    \n",
    "    ### search for benchmark memory and time in a table\n",
    "    with open(\"./output/benchmark_memory_data.json\", 'r') as f:\n",
    "        data2 = json.load(f)\n",
    "        \n",
    "    mem, time = -1, -1\n",
    "    try:\n",
    "        data2 = data2[fn[:-10]]\n",
    "        mem = data2['memory']\n",
    "        time = data2['time_train']*1000\n",
    "    except:\n",
    "        pass\n",
    "    exp_dict['mem'].append(mem)\n",
    "    exp_dict['time'].append(time)\n",
    "    \n",
    "exp_df = pd.DataFrame(exp_dict)\n",
    "exp_df.sort_values('ps', axis=0)"
   ]
  },
  {
   "cell_type": "code",
   "execution_count": 12,
   "id": "c97d60bd",
   "metadata": {},
   "outputs": [
    {
     "ename": "NameError",
     "evalue": "name 'filename' is not defined",
     "output_type": "error",
     "traceback": [
      "\u001b[0;31m---------------------------------------------------------------------------\u001b[0m",
      "\u001b[0;31mNameError\u001b[0m                                 Traceback (most recent call last)",
      "\u001b[0;32m/tmp/ipykernel_210423/1727624765.py\u001b[0m in \u001b[0;36m<module>\u001b[0;34m\u001b[0m\n\u001b[0;32m----> 1\u001b[0;31m \u001b[0;32mwith\u001b[0m \u001b[0mopen\u001b[0m\u001b[0;34m(\u001b[0m\u001b[0mfilename\u001b[0m\u001b[0;34m,\u001b[0m \u001b[0;34m'r'\u001b[0m\u001b[0;34m)\u001b[0m \u001b[0;32mas\u001b[0m \u001b[0mf\u001b[0m\u001b[0;34m:\u001b[0m\u001b[0;34m\u001b[0m\u001b[0;34m\u001b[0m\u001b[0m\n\u001b[0m\u001b[1;32m      2\u001b[0m     \u001b[0mfile_data\u001b[0m \u001b[0;34m=\u001b[0m \u001b[0mjson\u001b[0m\u001b[0;34m.\u001b[0m\u001b[0mload\u001b[0m\u001b[0;34m(\u001b[0m\u001b[0mf\u001b[0m\u001b[0;34m)\u001b[0m\u001b[0;34m\u001b[0m\u001b[0;34m\u001b[0m\u001b[0m\n",
      "\u001b[0;31mNameError\u001b[0m: name 'filename' is not defined"
     ]
    }
   ],
   "source": [
    "# with open(filename, 'r') as f:\n",
    "#     file_data = json.load(f)"
   ]
  },
  {
   "cell_type": "code",
   "execution_count": null,
   "id": "6020ea7f",
   "metadata": {},
   "outputs": [],
   "source": []
  }
 ],
 "metadata": {
  "kernelspec": {
   "display_name": "Python 3",
   "language": "python",
   "name": "python3"
  },
  "language_info": {
   "codemirror_mode": {
    "name": "ipython",
    "version": 3
   },
   "file_extension": ".py",
   "mimetype": "text/x-python",
   "name": "python",
   "nbconvert_exporter": "python",
   "pygments_lexer": "ipython3",
   "version": "3.9.7"
  }
 },
 "nbformat": 4,
 "nbformat_minor": 5
}
