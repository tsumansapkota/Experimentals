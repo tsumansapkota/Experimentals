{
 "cells": [
  {
   "cell_type": "code",
   "execution_count": 1,
   "metadata": {},
   "outputs": [],
   "source": [
    "import numpy as np\n",
    "import matplotlib.pyplot as plt\n",
    "import copy\n",
    "\n",
    "import mylibrary.nnlib as tnn\n",
    "import mylibrary.dynamicnnlib as tdnn\n",
    "import mylibrary.datasets as datasets\n",
    "\n",
    "from mpl_toolkits.mplot3d import Axes3D\n",
    "import matplotlib\n",
    "\n",
    "from types import MethodType"
   ]
  },
  {
   "cell_type": "markdown",
   "metadata": {},
   "source": [
    "## Loading the dataset"
   ]
  },
  {
   "cell_type": "code",
   "execution_count": 2,
   "metadata": {},
   "outputs": [],
   "source": [
    "mnist = datasets.MNIST()\n",
    "train_data, train_label_, test_data, test_label_ = mnist.load()\n",
    "\n",
    "train_data = train_data / 255.\n",
    "test_data = test_data / 255."
   ]
  },
  {
   "cell_type": "code",
   "execution_count": 3,
   "metadata": {},
   "outputs": [
    {
     "data": {
      "text/plain": [
       "<matplotlib.image.AxesImage at 0x7fac6a788b50>"
      ]
     },
     "execution_count": 3,
     "metadata": {},
     "output_type": "execute_result"
    },
    {
     "data": {
      "image/png": "[encoded data removed]",
      "text/plain": [
       "<Figure size 432x288 with 1 Axes>"
      ]
     },
     "metadata": {
      "needs_background": "light"
     },
     "output_type": "display_data"
    }
   ],
   "source": [
    "plt.imshow(train_data[0].reshape(28,28), cmap='gray')"
   ]
  },
  {
   "cell_type": "code",
   "execution_count": 13,
   "metadata": {},
   "outputs": [],
   "source": [
    "input_size = 784\n",
    "output_size = 10\n",
    "\n",
    "learning_rate = 0.0001\n",
    "batch_size = 300\n",
    "EPOCHS = 10\n",
    "\n",
    "train_label = tnn.Logits.index_to_logit(train_label_)\n",
    "train_size = len(train_label)"
   ]
  },
  {
   "cell_type": "code",
   "execution_count": 14,
   "metadata": {},
   "outputs": [],
   "source": [
    "# 784 ==46 ==35 ==25 ==10 ->\n",
    "#   \\  / \\  / \\  / \\  /\n",
    "#    20   16    8   13"
   ]
  },
  {
   "cell_type": "markdown",
   "metadata": {},
   "source": [
    "### Initial Network"
   ]
  },
  {
   "cell_type": "code",
   "execution_count": 15,
   "metadata": {},
   "outputs": [],
   "source": [
    "optimizer = tnn.Adam(learning_rate)\n",
    "dynet = tdnn.DynamicNN_Relu([784, 46, 35, 25, 10], [20, 16, 8, 13], optimizer)"
   ]
  },
  {
   "cell_type": "code",
   "execution_count": 16,
   "metadata": {},
   "outputs": [],
   "source": [
    "total_new_neurons = 0"
   ]
  },
  {
   "cell_type": "code",
   "execution_count": 17,
   "metadata": {},
   "outputs": [
    {
     "data": {
      "text/plain": [
       "784 ==46 ==35 ==25 ==10 ->\n",
       "  \\  / \\  / \\  / \\  /\n",
       "   20   16    8   13 "
      ]
     },
     "execution_count": 17,
     "metadata": {},
     "output_type": "execute_result"
    }
   ],
   "source": [
    "dynet"
   ]
  },
  {
   "cell_type": "code",
   "execution_count": 18,
   "metadata": {},
   "outputs": [
    {
     "data": {
      "text/plain": [
       "200"
      ]
     },
     "execution_count": 18,
     "metadata": {},
     "output_type": "execute_result"
    }
   ],
   "source": [
    "train_size // batch_size"
   ]
  },
  {
   "cell_type": "markdown",
   "metadata": {},
   "source": [
    "### Further Training/Adjustment"
   ]
  },
  {
   "cell_type": "code",
   "execution_count": 19,
   "metadata": {},
   "outputs": [],
   "source": [
    "accuracy_list = []"
   ]
  },
  {
   "cell_type": "code",
   "execution_count": 24,
   "metadata": {},
   "outputs": [],
   "source": [
    "learning_rate = 0.0001\n",
    "batch_size = 300\n",
    "EPOCHS = 10"
   ]
  },
  {
   "cell_type": "code",
   "execution_count": 30,
   "metadata": {
    "scrolled": true
   },
   "outputs": [
    {
     "name": "stdout",
     "output_type": "stream",
     "text": [
      "\n",
      "TRAIN 0 ->  7.180997883678639\n",
      "\n",
      "TRAIN 100 ->  7.176957404433365\n",
      "EPOCH =  0 accuracy =  99.555\n",
      "59733 / 60000\n",
      "   TEST   accuracy =  96.84\n",
      "9684 / 10000\n",
      "\n",
      "TRAIN 0 ->  7.180750286371261\n",
      "\n",
      "TRAIN 100 ->  7.176316249310127\n",
      "EPOCH =  1 accuracy =  99.55833333333334\n",
      "59735 / 60000\n",
      "   TEST   accuracy =  96.82\n",
      "9682 / 10000\n",
      "\n",
      "TRAIN 0 ->  7.18038250305292\n",
      "\n",
      "TRAIN 100 ->  7.176344208231257\n",
      "EPOCH =  2 accuracy =  99.565\n",
      "59739 / 60000\n",
      "   TEST   accuracy =  96.81\n",
      "9681 / 10000\n",
      "\n",
      "TRAIN 0 ->  7.179919300966923\n",
      "\n",
      "TRAIN 100 ->  7.175699059529747\n",
      "EPOCH =  3 accuracy =  99.58500000000001\n",
      "59751 / 60000\n",
      "   TEST   accuracy =  96.77\n",
      "9677 / 10000\n",
      "\n",
      "TRAIN 0 ->  7.179708269275322\n",
      "\n",
      "TRAIN 100 ->  7.175287823013749\n",
      "EPOCH =  4 accuracy =  99.595\n",
      "59757 / 60000\n",
      "   TEST   accuracy =  96.73\n",
      "9673 / 10000\n",
      "\n",
      "TRAIN 0 ->  7.179106386332761\n",
      "\n",
      "TRAIN 100 ->  7.175168073307826\n",
      "EPOCH =  5 accuracy =  99.61666666666666\n",
      "59770 / 60000\n",
      "   TEST   accuracy =  96.75\n",
      "9675 / 10000\n",
      "\n",
      "TRAIN 0 ->  7.178950067904061\n",
      "\n",
      "TRAIN 100 ->  7.1746622765014\n",
      "EPOCH =  6 accuracy =  99.63666666666666\n",
      "59782 / 60000\n",
      "   TEST   accuracy =  96.74000000000001\n",
      "9674 / 10000\n",
      "\n",
      "TRAIN 0 ->  7.17838617431412\n",
      "\n",
      "TRAIN 100 ->  7.174246104585271\n",
      "EPOCH =  7 accuracy =  99.64333333333333\n",
      "59786 / 60000\n",
      "   TEST   accuracy =  96.77\n",
      "9677 / 10000\n",
      "\n",
      "TRAIN 0 ->  7.1781828633156755\n",
      "\n",
      "TRAIN 100 ->  7.1737919513027615\n",
      "EPOCH =  8 accuracy =  99.63499999999999\n",
      "59781 / 60000\n",
      "   TEST   accuracy =  96.78999999999999\n",
      "9679 / 10000\n",
      "\n",
      "TRAIN 0 ->  7.177891460958681\n",
      "\n",
      "TRAIN 100 ->  7.173618869475525\n",
      "EPOCH =  9 accuracy =  99.645\n",
      "59787 / 60000\n",
      "   TEST   accuracy =  96.81\n",
      "9681 / 10000\n"
     ]
    }
   ],
   "source": [
    "for epoch in range(EPOCHS):\n",
    "    \n",
    "    for index in range(train_size // batch_size):\n",
    "        \n",
    "        train_x = train_data[index * batch_size:(index + 1) * batch_size]\n",
    "        train_y = train_label[index * batch_size:(index + 1) * batch_size]\n",
    "        \n",
    "        yout = dynet.forward(train_x)\n",
    "\n",
    "        dy = tnn.SoftmaxCrossEntropy.del_loss(yout, train_y)\n",
    "        loss = tnn.SoftmaxCrossEntropy.loss(yout, train_y)\n",
    "\n",
    "        dx = dynet.backward(dy)\n",
    "\n",
    "        dynet.update()\n",
    "\n",
    "        if index % 100 == 0:\n",
    "            print('\\nTRAIN',index, '-> ', loss)\n",
    "\n",
    "    yout = dynet.forward(train_data)\n",
    "    outputs = tnn.Logits.logit_to_index(yout)\n",
    "    correct = (outputs == np.array(train_label_)).sum()\n",
    "\n",
    "    accuracy = correct / len(train_label_) * 100.\n",
    "    print('EPOCH = ',epoch,'accuracy = ', accuracy)\n",
    "    print(correct, '/', len(train_label_))\n",
    "\n",
    "    yout = dynet.forward(test_data)\n",
    "    outputs = tnn.Logits.logit_to_index(yout)\n",
    "    correct = (outputs == np.array(test_label_)).sum()\n",
    "\n",
    "    accuracy_ = correct / len(test_label_) * 100.\n",
    "    print('   TEST  ','accuracy = ', accuracy_)\n",
    "    print(correct, '/', len(test_label_))  \n",
    "    \n",
    "    accuracy_list.append((accuracy, accuracy_))"
   ]
  },
  {
   "cell_type": "code",
   "execution_count": 343,
   "metadata": {},
   "outputs": [
    {
     "data": {
      "text/plain": [
       "[<matplotlib.lines.Line2D at 0x7f560fab5ed0>]"
      ]
     },
     "execution_count": 343,
     "metadata": {},
     "output_type": "execute_result"
    },
    {
     "data": {
      "image/png": "[encoded data removed]",
      "text/plain": [
       "<Figure size 432x288 with 1 Axes>"
      ]
     },
     "metadata": {
      "needs_background": "light"
     },
     "output_type": "display_data"
    }
   ],
   "source": [
    "accuracies = np.array(accuracy_list)\n",
    "plt.plot(accuracies[:,0], label='train')\n",
    "plt.plot(accuracies[:,1], label='test')"
   ]
  },
  {
   "cell_type": "code",
   "execution_count": 344,
   "metadata": {},
   "outputs": [],
   "source": [
    "dynet_backup = copy.deepcopy(dynet)\n",
    "# dynet = copy.deepcopy(dynet_backup)"
   ]
  },
  {
   "cell_type": "code",
   "execution_count": 345,
   "metadata": {},
   "outputs": [
    {
     "data": {
      "text/plain": [
       "784 ==43 ==33 ==24 ==10 ->\n",
       "  \\  / \\  / \\  / \\  /\n",
       "   20   15    5   15 "
      ]
     },
     "execution_count": 345,
     "metadata": {},
     "output_type": "execute_result"
    }
   ],
   "source": [
    "dynet"
   ]
  },
  {
   "cell_type": "markdown",
   "metadata": {},
   "source": [
    "## Add Neurons to all possible layers"
   ]
  },
  {
   "cell_type": "code",
   "execution_count": 359,
   "metadata": {},
   "outputs": [
    {
     "data": {
      "text/plain": [
       "7"
      ]
     },
     "execution_count": 359,
     "metadata": {},
     "output_type": "execute_result"
    }
   ],
   "source": [
    "neurons_added = dynet.add_neurons_to_all_possible_layers()\n",
    "total_new_neurons += neurons_added\n",
    "neurons_added"
   ]
  },
  {
   "cell_type": "code",
   "execution_count": 360,
   "metadata": {},
   "outputs": [
    {
     "data": {
      "text/plain": [
       "784 ==48 ==38 ==29 ==10 ->\n",
       "  \\  / \\  / \\  / \\  /\n",
       "   25   20   10   20 "
      ]
     },
     "execution_count": 360,
     "metadata": {},
     "output_type": "execute_result"
    }
   ],
   "source": [
    "dynet"
   ]
  },
  {
   "cell_type": "markdown",
   "metadata": {},
   "source": [
    "## Remove/Decay Shortcut connection (Residual Layer becomes new Layer)"
   ]
  },
  {
   "cell_type": "code",
   "execution_count": 199,
   "metadata": {},
   "outputs": [],
   "source": [
    "dynet.start_decaying_removable_shortcut_connections(decay_steps=1980)"
   ]
  },
  {
   "cell_type": "code",
   "execution_count": 200,
   "metadata": {},
   "outputs": [
    {
     "data": {
      "text/plain": [
       "[2]"
      ]
     },
     "execution_count": 200,
     "metadata": {},
     "output_type": "execute_result"
    }
   ],
   "source": [
    "dynet.removable_layers"
   ]
  },
  {
   "cell_type": "code",
   "execution_count": 310,
   "metadata": {},
   "outputs": [
    {
     "data": {
      "text/plain": [
       "784 ==46 ==35 ==25 ==10 ->\n",
       "  \\  / \\  / \\  / \\  /\n",
       "   20   16    8   13 "
      ]
     },
     "execution_count": 310,
     "metadata": {},
     "output_type": "execute_result"
    }
   ],
   "source": [
    "dynet"
   ]
  },
  {
   "cell_type": "markdown",
   "metadata": {},
   "source": [
    "## Compute Neuron Significance and decay less significant ones"
   ]
  },
  {
   "cell_type": "code",
   "execution_count": 31,
   "metadata": {},
   "outputs": [],
   "source": [
    "dynet.compute_neuron_significance(train_data, batch_size)"
   ]
  },
  {
   "cell_type": "code",
   "execution_count": 32,
   "metadata": {},
   "outputs": [
    {
     "data": {
      "text/plain": [
       "[array([[1.59010686, 0.84518143, 0.7815572 , 1.51364593, 0.56692154,\n",
       "         1.73426696, 1.34777921, 0.60254196, 0.53865982, 0.99683737,\n",
       "         0.98908701, 1.32206854, 0.52474916, 0.55352705, 0.42355015,\n",
       "         0.85126633, 0.4959575 , 1.73119043, 1.66113711, 0.57454457,\n",
       "         0.86649235, 1.44045478, 1.69671659, 1.65124627, 0.7059663 ,\n",
       "         0.21877082, 1.27204074, 0.73269164, 1.68030587, 0.37960678,\n",
       "         0.82484117, 1.30543535, 1.69105804, 0.59165071, 0.04550381,\n",
       "         1.13400987, 0.7863213 , 1.50764892, 0.78361287, 0.17360064,\n",
       "         1.74263752, 1.20948544, 0.86377333, 0.32084568, 0.40256848,\n",
       "         0.5638634 ]]),\n",
       " array([[0.49964511, 0.57175466, 1.17437726, 0.28536267, 0.78093964,\n",
       "         1.32114842, 0.88191509, 0.3643933 , 1.85312025, 0.14629385,\n",
       "         0.77083084, 0.49881668, 0.03398817, 1.18616958, 0.51115404,\n",
       "         2.20219318, 1.38121162, 0.11007189, 0.48590952, 0.77704441,\n",
       "         1.07519125, 0.10546596, 1.72185206, 2.39017834, 0.42540814,\n",
       "         1.41917453, 0.44995486, 1.02036578, 0.64047666, 1.46161797,\n",
       "         0.05654752, 0.92034465, 0.61199614, 0.69104087, 0.92042132]]),\n",
       " array([[2.57266079, 0.83634325, 0.32080892, 1.04592001, 4.70342118,\n",
       "         0.21372053, 1.24616375, 1.65643232, 1.05335391, 2.16690751,\n",
       "         0.09479495, 1.74484671, 0.34473127, 0.55323978, 0.33559341,\n",
       "         0.11812617, 2.26762822, 0.39627062, 2.12340121, 0.67006213,\n",
       "         1.63373009, 1.74657091, 2.02984399, 0.46318068, 1.99226646]])]"
      ]
     },
     "execution_count": 32,
     "metadata": {},
     "output_type": "execute_result"
    }
   ],
   "source": [
    "dynet.significance"
   ]
  },
  {
   "cell_type": "code",
   "execution_count": 33,
   "metadata": {},
   "outputs": [
    {
     "data": {
      "text/plain": [
       "[array([[9.00000000e+09, 7.15473936e-02, 1.93130875e+00, 5.36297610e-01,\n",
       "         9.24596684e-02, 1.59246810e+00, 4.34896928e-01, 1.59124731e-01,\n",
       "         3.03766582e-01, 3.56009287e-01, 7.03952112e-01, 2.64693249e-01,\n",
       "         6.43351027e-01, 2.15645601e-01, 8.80288747e-02, 2.09067956e-01,\n",
       "         4.50815307e-01, 4.66207385e-01, 2.96694395e-01, 5.27159115e-02]]),\n",
       " array([[9.00000000e+09, 1.38113350e-01, 3.16188767e-01, 3.59471070e-01,\n",
       "         2.75345675e-01, 2.39701969e-02, 2.87509457e-01, 2.75939153e-01,\n",
       "         7.78260602e-01, 4.35618936e-02, 4.52955459e-01, 1.21990112e-01,\n",
       "         3.50373473e-02, 4.52744757e-02, 1.99683405e-01, 2.89534132e-01]]),\n",
       " array([[9.00000000e+09, 7.97511851e-01, 1.64806306e-01, 1.01767018e-01,\n",
       "         8.08043604e-01, 1.97611941e-01, 4.38259729e-02, 1.08128976e-01]]),\n",
       " array([[9.00000000e+09, 4.13825261e-01, 9.85861217e-01, 2.30733270e-01,\n",
       "         2.01483845e+00, 1.32686209e+00, 1.22312844e+00, 1.64757304e+00,\n",
       "         7.43126007e-03, 1.85510604e+00, 1.15067509e+00, 1.77742658e+00,\n",
       "         1.13450075e+00]])]"
      ]
     },
     "execution_count": 33,
     "metadata": {},
     "output_type": "execute_result"
    }
   ],
   "source": [
    "dynet.significance_res"
   ]
  },
  {
   "cell_type": "code",
   "execution_count": 349,
   "metadata": {},
   "outputs": [
    {
     "data": {
      "text/plain": [
       "0"
      ]
     },
     "execution_count": 349,
     "metadata": {},
     "output_type": "execute_result"
    }
   ],
   "source": [
    "total_new_neurons"
   ]
  },
  {
   "cell_type": "code",
   "execution_count": 350,
   "metadata": {},
   "outputs": [
    {
     "data": {
      "text/plain": [
       "40"
      ]
     },
     "execution_count": 350,
     "metadata": {},
     "output_type": "execute_result"
    }
   ],
   "source": [
    "# num_neurons_remove = total_new_neurons//2\n",
    "num_neurons_remove = 40\n",
    "num_neurons_remove"
   ]
  },
  {
   "cell_type": "code",
   "execution_count": 351,
   "metadata": {},
   "outputs": [],
   "source": [
    "dynet.start_decaying_less_significant_neurons(num_neurons_remove, 0.05, steps=1980)"
   ]
  },
  {
   "cell_type": "code",
   "execution_count": 352,
   "metadata": {
    "scrolled": true
   },
   "outputs": [
    {
     "data": {
      "text/plain": [
       "({}, {})"
      ]
     },
     "execution_count": 352,
     "metadata": {},
     "output_type": "execute_result"
    }
   ],
   "source": [
    "dynet.decay, dynet.decay_res"
   ]
  },
  {
   "cell_type": "code",
   "execution_count": 353,
   "metadata": {},
   "outputs": [
    {
     "data": {
      "text/plain": [
       "784 ==43 ==33 ==24 ==10 ->\n",
       "  \\  / \\  / \\  / \\  /\n",
       "   20   15    5   15 "
      ]
     },
     "execution_count": 353,
     "metadata": {},
     "output_type": "execute_result"
    }
   ],
   "source": [
    "dynet"
   ]
  },
  {
   "cell_type": "code",
   "execution_count": 340,
   "metadata": {},
   "outputs": [],
   "source": [
    "total_new_neurons = 0"
   ]
  },
  {
   "cell_type": "code",
   "execution_count": 40,
   "metadata": {},
   "outputs": [],
   "source": [
    "def print_decay_weights(self):\n",
    "    for li, neurons in self.decay.items():\n",
    "        print('Outgoing straight weight')\n",
    "        print(self.layers[li+1].weights[neurons])\n",
    "        print('Outgoing residual weight')\n",
    "        print(self.residuals_0[li+1].weights[neurons])\n",
    "    for rli, neurons in self.decay_res.items():\n",
    "        print('Outgoing residual weight -RES')\n",
    "        print(self.residuals_1[rli].weights[neurons])"
   ]
  },
  {
   "cell_type": "code",
   "execution_count": 47,
   "metadata": {},
   "outputs": [
    {
     "name": "stdout",
     "output_type": "stream",
     "text": [
      "Outgoing straight weight\n",
      "[[0. 0. 0. 0.]]\n",
      "Outgoing residual weight\n",
      "[[0. 0. 0.]]\n",
      "Outgoing straight weight\n",
      "[[0.]]\n",
      "Outgoing residual weight\n",
      "[[0. 0. 0.]]\n",
      "Outgoing residual weight -RES\n",
      "[[0. 0. 0. 0.]]\n",
      "Outgoing residual weight -RES\n",
      "[[0.]]\n"
     ]
    }
   ],
   "source": [
    "print_decay_weights(dynet)"
   ]
  },
  {
   "cell_type": "code",
   "execution_count": 42,
   "metadata": {},
   "outputs": [
    {
     "data": {
      "text/plain": [
       "{0: array([[-0., -0.,  0.,  0.]]), 1: array([[0.]])}"
      ]
     },
     "execution_count": 42,
     "metadata": {},
     "output_type": "execute_result"
    }
   ],
   "source": [
    "dynet.neuron_decay_rate"
   ]
  },
  {
   "cell_type": "code",
   "execution_count": 43,
   "metadata": {},
   "outputs": [
    {
     "data": {
      "text/plain": [
       "{0: array([[-1.73693302e-04,  1.30460290e-05,  5.82157570e-04]]),\n",
       " 1: array([[-2.91732021e-04, -3.32112014e-04, -1.27568576e-05]])}"
      ]
     },
     "execution_count": 43,
     "metadata": {},
     "output_type": "execute_result"
    }
   ],
   "source": [
    "dynet.neuron_decay_rate2"
   ]
  },
  {
   "cell_type": "code",
   "execution_count": 44,
   "metadata": {},
   "outputs": [
    {
     "data": {
      "text/plain": [
       "{1: array([[-0.00023233, -0.        ,  0.00045947, -0.00011376]]),\n",
       " 2: array([[0.000156]])}"
      ]
     },
     "execution_count": 44,
     "metadata": {},
     "output_type": "execute_result"
    }
   ],
   "source": [
    "dynet.neuron_res_decay_rate"
   ]
  },
  {
   "cell_type": "code",
   "execution_count": 45,
   "metadata": {},
   "outputs": [
    {
     "name": "stdout",
     "output_type": "stream",
     "text": [
      "Outgoing straight weight\n",
      "[[-0. -0.  0.  0.]]\n",
      "Outgoing residual weight\n",
      "[[-0.17367593  0.01304472  0.58209936]]\n",
      "Outgoing straight weight\n",
      "[[0.]]\n",
      "Outgoing residual weight\n",
      "[[-0.29170285 -0.33207881 -0.01275558]]\n",
      "Outgoing residual weight -RES\n",
      "[[-0.23230191 -0.          0.45942709 -0.11375325]]\n",
      "Outgoing residual weight -RES\n",
      "[[0.15598491]]\n"
     ]
    }
   ],
   "source": [
    "print_decay_weights(dynet)"
   ]
  },
  {
   "cell_type": "code",
   "execution_count": null,
   "metadata": {},
   "outputs": [],
   "source": [
    "'''\n",
    "STATS\n",
    "\n",
    "### Dynamic learning architecture  (1)\n",
    "784 ==46 ==35 ==25 ==10 ->\n",
    "  \\  / \\  / \\  / \\  /\n",
    "   20   16    8   13 \n",
    "#####57803 parameters... original LeNet had 60K parameters\n",
    "\n",
    "TRAIN 100 ->  7.17585516607335\n",
    "EPOCH =  9 accuracy =  99.66666666666667\n",
    "59800 / 60000\n",
    "   TEST   accuracy =  97.11999999999999\n",
    "9712 / 10000\n",
    "\n",
    "#########Same model trained from scratch\n",
    "TRAIN 100 ->  7.173618869475525\n",
    "EPOCH =  9 accuracy =  99.645\n",
    "59787 / 60000\n",
    "   TEST   accuracy =  96.81\n",
    "9681 / 10000\n",
    "\n",
    "\n",
    "### Dynamic learning architecture  (2)\n",
    "784 ==43 ==33 ==24 ==10 ->\n",
    "  \\  / \\  / \\  / \\  /\n",
    "   20   15    5   15\n",
    "   \n",
    "TRAIN 100 ->  7.16729636305383\n",
    "EPOCH =  9 accuracy =  99.945\n",
    "59967 / 60000\n",
    "   TEST   accuracy =  96.84\n",
    "9684 / 10000\n",
    "\n",
    "'''"
   ]
  },
  {
   "cell_type": "code",
   "execution_count": 299,
   "metadata": {},
   "outputs": [],
   "source": [
    "# dynet_backup_1 = copy.deepcopy(dynet)\n",
    "# dynet = copy.deepcopy(dynet_backup)"
   ]
  },
  {
   "cell_type": "code",
   "execution_count": 354,
   "metadata": {},
   "outputs": [],
   "source": [
    "# dynet_backup_2 = copy.deepcopy(dynet)\n",
    "# dynet = copy.deepcopy(dynet_backup)"
   ]
  },
  {
   "cell_type": "code",
   "execution_count": null,
   "metadata": {},
   "outputs": [],
   "source": []
  }
 ],
 "metadata": {
  "kernelspec": {
   "display_name": "Python 3",
   "language": "python",
   "name": "python3"
  },
  "language_info": {
   "codemirror_mode": {
    "name": "ipython",
    "version": 3
   },
   "file_extension": ".py",
   "mimetype": "text/x-python",
   "name": "python",
   "nbconvert_exporter": "python",
   "pygments_lexer": "ipython3",
   "version": "3.7.4"
  }
 },
 "nbformat": 4,
 "nbformat_minor": 4
}
