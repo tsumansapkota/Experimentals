{
 "cells": [
  {
   "cell_type": "code",
   "execution_count": 1,
   "metadata": {},
   "outputs": [],
   "source": [
    "import numpy as np\n",
    "import matplotlib.pyplot as plt\n",
    "import torch\n",
    "import torch.nn as nn\n",
    "import torch.nn.functional as F\n",
    "import torch.utils.data.dataloader as dataloader\n",
    "import torch.optim as optim\n",
    "\n",
    "from torch.utils.data import TensorDataset\n",
    "from torch.autograd import Variable\n",
    "\n",
    "import PIL as PILLOW\n",
    "from torchvision import transforms\n",
    "from torchvision.datasets import MNIST\n",
    "\n",
    "import copy\n",
    "\n",
    "%matplotlib inline"
   ]
  },
  {
   "cell_type": "code",
   "execution_count": 2,
   "metadata": {},
   "outputs": [],
   "source": [
    "train = MNIST('../DATASETS/MNIST_pytorch/', train=True, transform=transforms.Compose([\n",
    "    transforms.ToTensor(), # ToTensor does min-max normalization. \n",
    "    ]),\n",
    "#              download=True,\n",
    "             )\n",
    "\n",
    "test = MNIST('../DATASETS/MNIST_pytorch/', train=False, transform=transforms.ToTensor(),\n",
    "#             download=True,\n",
    "            )\n",
    "# Create DataLoader\n",
    "dataloader_args = dict(shuffle=True, batch_size=32)\n",
    "train_loader = dataloader.DataLoader(train, **dataloader_args)\n",
    "test_loader = dataloader.DataLoader(test, **dataloader_args)"
   ]
  },
  {
   "cell_type": "code",
   "execution_count": 3,
   "metadata": {},
   "outputs": [
    {
     "name": "stdout",
     "output_type": "stream",
     "text": [
      "[Train]\n",
      " - Numpy Shape: (60000, 28, 28)\n",
      " - Tensor Shape: torch.Size([60000, 28, 28])\n",
      " - Transformed Shape: torch.Size([28, 60000, 28])\n",
      " - min: tensor(0.)\n",
      " - max: tensor(1.)\n",
      " - mean: tensor(0.1306)\n",
      " - std: tensor(0.3081)\n",
      " - var: tensor(0.0949)\n"
     ]
    }
   ],
   "source": [
    "train_data = train.data\n",
    "train_data = train.transform(train_data.numpy())\n",
    "\n",
    "print('[Train]')\n",
    "print(' - Numpy Shape:', train.data.cpu().numpy().shape)\n",
    "print(' - Tensor Shape:', train.data.size())\n",
    "print(' - Transformed Shape:', train_data.size())\n",
    "print(' - min:', torch.min(train_data))\n",
    "print(' - max:', torch.max(train_data))\n",
    "print(' - mean:', torch.mean(train_data))\n",
    "print(' - std:', torch.std(train_data))\n",
    "print(' - var:', torch.var(train_data))"
   ]
  },
  {
   "cell_type": "code",
   "execution_count": 4,
   "metadata": {},
   "outputs": [
    {
     "name": "stdout",
     "output_type": "stream",
     "text": [
      "[Test]\n",
      " - Numpy Shape: (10000, 28, 28)\n",
      " - Tensor Shape: torch.Size([10000, 28, 28])\n",
      " - Transformed Shape: torch.Size([28, 10000, 28])\n",
      " - min: tensor(0.)\n",
      " - max: tensor(1.)\n",
      " - mean: tensor(0.1325)\n",
      " - std: tensor(0.3105)\n",
      " - var: tensor(0.0964)\n"
     ]
    }
   ],
   "source": [
    "test_data = test.data\n",
    "test_data = train.transform(test_data.numpy())\n",
    "\n",
    "print('[Test]')\n",
    "print(' - Numpy Shape:', test.data.numpy().shape)\n",
    "print(' - Tensor Shape:', test.data.size())\n",
    "print(' - Transformed Shape:', test_data.size())\n",
    "print(' - min:', torch.min(test_data))\n",
    "print(' - max:', torch.max(test_data))\n",
    "print(' - mean:', torch.mean(test_data))\n",
    "print(' - std:', torch.std(test_data))\n",
    "print(' - var:', torch.var(test_data))"
   ]
  },
  {
   "cell_type": "markdown",
   "metadata": {},
   "source": [
    "## Normalized Network"
   ]
  },
  {
   "cell_type": "code",
   "execution_count": 21,
   "metadata": {},
   "outputs": [],
   "source": [
    "class Model(nn.Module):\n",
    "    def __init__(self):\n",
    "        super(Model, self).__init__()\n",
    "        \n",
    "        self.fc1 = nn.Linear(784, 100)\n",
    "        self.relu = nn.ReLU(inplace=True)\n",
    "        self.fc2 = nn.Linear(100, 20)\n",
    "        self.fc3 = nn.Linear(20, 10)\n",
    "        self.scaler = torch.ones(1, 10, requires_grad=True)\n",
    "        self.softmax = nn.LogSoftmax(dim=1)\n",
    "        \n",
    "        \n",
    "    def forward(self, x):\n",
    "        for layer in [self.fc1, self.fc2, self.fc3]:\n",
    "            layer.weight.data /= torch.norm(layer.weight.data, dim=0)\n",
    "        \n",
    "        x = x.view((-1, 784))\n",
    "        h = self.fc1(x)\n",
    "        h = self.relu(h)        \n",
    "        h = self.fc2(h)\n",
    "        h = self.relu(h)\n",
    "        h = self.fc3(h)\n",
    "        h = h*self.scaler\n",
    "        out = self.softmax(h)\n",
    "        return out"
   ]
  },
  {
   "cell_type": "code",
   "execution_count": 22,
   "metadata": {},
   "outputs": [],
   "source": [
    "model = Model()\n",
    "optimizer = optim.Adam(model.parameters(), lr=0.001)\n",
    "criterion = nn.CrossEntropyLoss()"
   ]
  },
  {
   "cell_type": "code",
   "execution_count": 23,
   "metadata": {},
   "outputs": [
    {
     "name": "stdout",
     "output_type": "stream",
     "text": [
      " Train Epoch: 0 [60000/60000 (100%)]\tLoss: 0.174188\tAccuracy: 0.9525\n",
      " Train Epoch: 1 [60000/60000 (100%)]\tLoss: 0.022945\tAccuracy: 0.9658\n",
      " Train Epoch: 2 [60000/60000 (100%)]\tLoss: 0.055203\tAccuracy: 0.9689\n",
      " Train Epoch: 3 [60000/60000 (100%)]\tLoss: 0.034965\tAccuracy: 0.9707\n",
      " Train Epoch: 4 [60000/60000 (100%)]\tLoss: 0.006296\tAccuracy: 0.9727\n"
     ]
    }
   ],
   "source": [
    "# model.train()\n",
    "evaluate_x = Variable(test_loader.dataset.data.type_as(torch.FloatTensor()))\n",
    "evaluate_y = Variable(test_loader.dataset.targets)\n",
    "\n",
    "losses = []\n",
    "EPOCHS = 5\n",
    "for epoch in range(EPOCHS):\n",
    "    data_count = 0\n",
    "    for batch_idx, (data, target) in enumerate(train_loader):\n",
    "        # Init\n",
    "        optimizer.zero_grad()\n",
    "\n",
    "        # Predict\n",
    "        y_pred = model(data) \n",
    "\n",
    "        # Calculate loss\n",
    "        loss = criterion(y_pred, target)\n",
    "        losses.append(loss.data)\n",
    "        \n",
    "        # Backpropagation\n",
    "        loss.backward()\n",
    "        optimizer.step()\n",
    "        \n",
    "        \n",
    "        # Display\n",
    "        data_count += len(data)\n",
    "        if batch_idx%100 == 0 or batch_idx==len(train_loader)-1:\n",
    "            output = model(evaluate_x)\n",
    "            pred = output.max(1)[1]\n",
    "            d = pred.eq(evaluate_y)\n",
    "            accuracy = float(d.sum())/float(d.size()[0])\n",
    "            \n",
    "            print('\\r Train Epoch: {} [{}/{} ({:.0f}%)]\\tLoss: {:.6f}\\tAccuracy: {}'.format(\n",
    "                epoch, \n",
    "                data_count, \n",
    "                len(train_loader.dataset),\n",
    "                100. * batch_idx / len(train_loader), \n",
    "                loss.data,\n",
    "                accuracy,),\n",
    "                end='')\n",
    "            \n",
    "    print()"
   ]
  },
  {
   "cell_type": "code",
   "execution_count": 32,
   "metadata": {
    "scrolled": true
   },
   "outputs": [
    {
     "data": {
      "text/plain": [
       "(0.13572569, 0.18912715)"
      ]
     },
     "execution_count": 32,
     "metadata": {},
     "output_type": "execute_result"
    },
    {
     "data": {
      "image/png": "[encoded data removed]",
      "text/plain": [
       "<Figure size 432x288 with 1 Axes>"
      ]
     },
     "metadata": {
      "needs_background": "light"
     },
     "output_type": "display_data"
    }
   ],
   "source": [
    "plt.plot(losses)\n",
    "plt.ylim(0,2)\n",
    "np.mean(losses), np.std(losses)"
   ]
  },
  {
   "cell_type": "code",
   "execution_count": 25,
   "metadata": {},
   "outputs": [],
   "source": [
    "# model_copy = copy.deepcopy(model)\n",
    "# model = model_copy"
   ]
  },
  {
   "cell_type": "code",
   "execution_count": 26,
   "metadata": {},
   "outputs": [],
   "source": [
    "for model_parm in model.parameters():\n",
    "        model_parm.requires_grad=False"
   ]
  },
  {
   "cell_type": "code",
   "execution_count": 27,
   "metadata": {},
   "outputs": [
    {
     "name": "stdout",
     "output_type": "stream",
     "text": [
      "Accuracy: 0.9727\n"
     ]
    }
   ],
   "source": [
    "[]evaluate_x = test.data.type_as(torch.FloatTensor())\n",
    "evaluate_y = test_loader.dataset.targets\n",
    "\n",
    "\n",
    "output = model(evaluate_x)\n",
    "pred = output.max(dim=1)[1]\n",
    "d = pred.eq(evaluate_y)\n",
    "accuracy = float(d.sum())/float(d.size()[0])\n",
    "\n",
    "print('Accuracy:', accuracy)"
   ]
  },
  {
   "cell_type": "markdown",
   "metadata": {},
   "source": [
    "## Testing with un-normalized network"
   ]
  },
  {
   "cell_type": "code",
   "execution_count": 28,
   "metadata": {},
   "outputs": [],
   "source": [
    "class Model1(nn.Module):\n",
    "    def __init__(self):\n",
    "        super(Model1, self).__init__()\n",
    "        \n",
    "        self.fc1 = nn.Linear(784, 100)\n",
    "        self.relu = nn.ReLU(inplace=True)\n",
    "        self.fc2 = nn.Linear(100, 20)\n",
    "        self.fc3 = nn.Linear(20, 10)\n",
    "        self.softmax = nn.LogSoftmax(dim=1)\n",
    "        \n",
    "        \n",
    "    def forward(self, x):\n",
    "#         for layer in [self.fc1, self.fc2, self.fc3]:\n",
    "#             layer.weight.data /= torch.norm(layer.weight.data, dim=0)\n",
    "        \n",
    "        x = x.view((-1, 784))\n",
    "        h = self.fc1(x)\n",
    "        h = self.relu(h)        \n",
    "        h = self.fc2(h)\n",
    "        h = self.relu(h)\n",
    "        h = self.fc3(h)\n",
    "        out = self.softmax(h)\n",
    "        return out"
   ]
  },
  {
   "cell_type": "code",
   "execution_count": 29,
   "metadata": {},
   "outputs": [],
   "source": [
    "model1 = Model1()\n",
    "optimizer1 = optim.Adam(model1.parameters(), lr=0.001)\n",
    "criterion1 = nn.CrossEntropyLoss()"
   ]
  },
  {
   "cell_type": "code",
   "execution_count": 30,
   "metadata": {},
   "outputs": [
    {
     "name": "stdout",
     "output_type": "stream",
     "text": [
      " Train Epoch: 0 [60000/60000 (100%)]\tLoss: 0.185567\tAccuracy: 0.9467  \n",
      " Train Epoch: 1 [60000/60000 (100%)]\tLoss: 0.117592\tAccuracy: 0.9603  \n",
      " Train Epoch: 2 [60000/60000 (100%)]\tLoss: 0.234222\tAccuracy: 0.97   \n",
      " Train Epoch: 3 [60000/60000 (100%)]\tLoss: 0.420092\tAccuracy: 0.9692  \n",
      " Train Epoch: 4 [60000/60000 (100%)]\tLoss: 0.036307\tAccuracy: 0.9715  \n"
     ]
    }
   ],
   "source": [
    "losses1 = []\n",
    "EPOCHS = 5\n",
    "for epoch in range(EPOCHS):\n",
    "    data_count = 0\n",
    "    for batch_idx, (data, target) in enumerate(train_loader):\n",
    "\n",
    "        y_pred = model1(data) \n",
    "        loss = criterion1(y_pred, target)\n",
    "        losses1.append(loss.data)\n",
    "        \n",
    "        # Backpropagation\n",
    "        optimizer1.zero_grad()\n",
    "        loss.backward()\n",
    "        optimizer1.step()\n",
    "        \n",
    "        # Display\n",
    "        data_count += len(data)\n",
    "        if batch_idx%100 == 0 or batch_idx==len(train_loader)-1:\n",
    "            output = model1(evaluate_x)\n",
    "            pred = output.max(1)[1]\n",
    "            d = pred.eq(evaluate_y)\n",
    "            accuracy = float(d.sum())/float(d.size()[0])\n",
    "            \n",
    "            print('\\r Train Epoch: {} [{}/{} ({:.0f}%)]\\tLoss: {:.6f}\\tAccuracy: {}  '.format(\n",
    "                epoch, \n",
    "                data_count, \n",
    "                len(train_loader.dataset),\n",
    "                100. * batch_idx / len(train_loader), \n",
    "                loss.data,\n",
    "                accuracy,),\n",
    "                end='')\n",
    "            \n",
    "    print()"
   ]
  },
  {
   "cell_type": "code",
   "execution_count": 33,
   "metadata": {},
   "outputs": [
    {
     "data": {
      "text/plain": [
       "(0.15151781, 0.19681089)"
      ]
     },
     "execution_count": 33,
     "metadata": {},
     "output_type": "execute_result"
    },
    {
     "data": {
      "image/png": "[encoded data removed]",
      "text/plain": [
       "<Figure size 432x288 with 1 Axes>"
      ]
     },
     "metadata": {
      "needs_background": "light"
     },
     "output_type": "display_data"
    }
   ],
   "source": [
    "plt.plot(losses1)\n",
    "plt.ylim(0,2)\n",
    "np.mean(losses1), np.std(losses1)"
   ]
  },
  {
   "cell_type": "code",
   "execution_count": 34,
   "metadata": {},
   "outputs": [
    {
     "data": {
      "text/plain": [
       "0.9715"
      ]
     },
     "execution_count": 34,
     "metadata": {},
     "output_type": "execute_result"
    }
   ],
   "source": [
    "output = model1(evaluate_x)\n",
    "pred = output.max(1)[1]\n",
    "d = pred.eq(evaluate_y)\n",
    "accuracy = float(d.sum())/float(d.size()[0])\n",
    "accuracy"
   ]
  },
  {
   "cell_type": "code",
   "execution_count": null,
   "metadata": {},
   "outputs": [],
   "source": []
  }
 ],
 "metadata": {
  "kernelspec": {
   "display_name": "Python 3",
   "language": "python",
   "name": "python3"
  },
  "language_info": {
   "codemirror_mode": {
    "name": "ipython",
    "version": 3
   },
   "file_extension": ".py",
   "mimetype": "text/x-python",
   "name": "python",
   "nbconvert_exporter": "python",
   "pygments_lexer": "ipython3",
   "version": "3.7.4"
  }
 },
 "nbformat": 4,
 "nbformat_minor": 2
}
