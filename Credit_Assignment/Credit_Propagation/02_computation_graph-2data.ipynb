{
 "cells": [
  {
   "cell_type": "code",
   "execution_count": 1,
   "metadata": {},
   "outputs": [],
   "source": [
    "import numpy as np\n",
    "import matplotlib.pyplot as plt\n",
    "import mylibrary.nnlib as nn"
   ]
  },
  {
   "cell_type": "code",
   "execution_count": 53,
   "metadata": {},
   "outputs": [],
   "source": [
    "x = [2, 3]\n",
    "t = [3, 4]\n",
    "W = 0\n",
    "# b = 0"
   ]
  },
  {
   "cell_type": "code",
   "execution_count": 54,
   "metadata": {},
   "outputs": [
    {
     "data": {
      "text/plain": [
       "<matplotlib.collections.PathCollection at 0x7f5d2c22ceb8>"
      ]
     },
     "execution_count": 54,
     "metadata": {},
     "output_type": "execute_result"
    },
    {
     "data": {
      "image/png": "[encoded data removed]",
      "text/plain": [
       "<Figure size 432x288 with 1 Axes>"
      ]
     },
     "metadata": {},
     "output_type": "display_data"
    }
   ],
   "source": [
    "plt.scatter(x,t)"
   ]
  },
  {
   "cell_type": "code",
   "execution_count": 55,
   "metadata": {},
   "outputs": [
    {
     "data": {
      "text/plain": [
       "<matplotlib.collections.PathCollection at 0x7f5d2c5a95c0>"
      ]
     },
     "execution_count": 55,
     "metadata": {},
     "output_type": "execute_result"
    },
    {
     "data": {
      "image/png": "[encoded data removed]",
      "text/plain": [
       "<Figure size 432x288 with 1 Axes>"
      ]
     },
     "metadata": {},
     "output_type": "display_data"
    }
   ],
   "source": [
    "y = []\n",
    "for x_ in x:\n",
    "    y.append(W*x_)\n",
    "\n",
    "plt.scatter(x, t)\n",
    "plt.scatter(x, y)"
   ]
  },
  {
   "cell_type": "code",
   "execution_count": 56,
   "metadata": {},
   "outputs": [
    {
     "name": "stdout",
     "output_type": "stream",
     "text": [
      "E, dy  [3, 4] [-3, -4]\n"
     ]
    }
   ],
   "source": [
    "E = []\n",
    "dy = []\n",
    "for t_, y_ in zip(t, y):\n",
    "    err = t_-y_\n",
    "    E.append(err)\n",
    "    dy.append(-1*err)\n",
    "print('E, dy ',E, dy)"
   ]
  },
  {
   "cell_type": "code",
   "execution_count": 63,
   "metadata": {},
   "outputs": [
    {
     "data": {
      "text/plain": [
       "[-0.08333333333333348, 0.08333333333333333]"
      ]
     },
     "execution_count": 63,
     "metadata": {},
     "output_type": "execute_result"
    }
   ],
   "source": [
    "# gradient using blaming i.e dW = dy/x\n",
    "dW = []\n",
    "for dy_, x_ in zip(dy, x):\n",
    "    dW.append(dy_/x_)\n",
    "dW"
   ]
  },
  {
   "cell_type": "code",
   "execution_count": 64,
   "metadata": {},
   "outputs": [
    {
     "name": "stdout",
     "output_type": "stream",
     "text": [
      "1.4166666666666665\n"
     ]
    }
   ],
   "source": [
    "delW = np.mean(dW)\n",
    "W = W - delW\n",
    "print(W)"
   ]
  },
  {
   "cell_type": "code",
   "execution_count": 65,
   "metadata": {},
   "outputs": [
    {
     "name": "stdout",
     "output_type": "stream",
     "text": [
      "E  [0.16666666666666696, -0.25]\n"
     ]
    }
   ],
   "source": [
    "y = []\n",
    "for x_ in x:\n",
    "    y.append(W*x_)\n",
    "E = []\n",
    "dy = []\n",
    "for t_, y_ in zip(t, y):\n",
    "    err = t_-y_\n",
    "    E.append(err)\n",
    "    dy.append(-1*err)\n",
    "print('E ',E)"
   ]
  },
  {
   "cell_type": "markdown",
   "metadata": {},
   "source": [
    "#### Repeat Above 3 teps to do gradient descent and find minimum"
   ]
  },
  {
   "cell_type": "markdown",
   "metadata": {},
   "source": [
    "## Optimim for 2 points solution should be as follows:"
   ]
  },
  {
   "cell_type": "code",
   "execution_count": 68,
   "metadata": {},
   "outputs": [],
   "source": [
    "def slope_regression(x,y):\n",
    "    n = len(x)\n",
    "    sxy = 0\n",
    "    sx2 = 0\n",
    "    for x_, y_ in zip(x,y):\n",
    "        sxy += x_*y_\n",
    "        sx2 += x_**2\n",
    "    W = sxy/sx2\n",
    "    return W\n",
    "    \n",
    "def output(x, W):\n",
    "    y = []\n",
    "    for x_ in x:\n",
    "        y.append(W*x_)\n",
    "    return y"
   ]
  },
  {
   "cell_type": "code",
   "execution_count": 72,
   "metadata": {},
   "outputs": [
    {
     "name": "stdout",
     "output_type": "stream",
     "text": [
      "target 1.4166666666666665\n",
      "output 1.4166666666666665\n"
     ]
    }
   ],
   "source": [
    "Wt = slope_regression(x, y)\n",
    "print('targeted W',Wt)\n",
    "print('computed W',W)"
   ]
  },
  {
   "cell_type": "markdown",
   "metadata": {},
   "source": [
    "# Congrats, done for only one parameter and 2 input data"
   ]
  },
  {
   "cell_type": "code",
   "execution_count": null,
   "metadata": {},
   "outputs": [],
   "source": []
  }
 ],
 "metadata": {
  "kernelspec": {
   "display_name": "Python 3",
   "language": "python",
   "name": "python3"
  },
  "language_info": {
   "codemirror_mode": {
    "name": "ipython",
    "version": 3
   },
   "file_extension": ".py",
   "mimetype": "text/x-python",
   "name": "python",
   "nbconvert_exporter": "python",
   "pygments_lexer": "ipython3",
   "version": "3.6.7"
  }
 },
 "nbformat": 4,
 "nbformat_minor": 2
}
