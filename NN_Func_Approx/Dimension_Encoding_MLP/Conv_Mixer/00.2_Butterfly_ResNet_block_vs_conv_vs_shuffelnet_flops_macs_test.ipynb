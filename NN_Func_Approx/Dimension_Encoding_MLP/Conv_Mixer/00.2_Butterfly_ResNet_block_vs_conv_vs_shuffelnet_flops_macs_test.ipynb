{
 "cells": [
  {
   "cell_type": "code",
   "execution_count": 1,
   "id": "a1d5b452",
   "metadata": {},
   "outputs": [],
   "source": [
    "import numpy as np\n",
    "import copy\n",
    "import matplotlib\n",
    "import matplotlib.pyplot as plt\n",
    "from mpl_toolkits.mplot3d import Axes3D"
   ]
  },
  {
   "cell_type": "code",
   "execution_count": 2,
   "id": "4efdacb4",
   "metadata": {},
   "outputs": [],
   "source": [
    "import torch\n",
    "import torch.nn as nn\n",
    "\n",
    "from torchvision import datasets, transforms as T\n",
    "from torch.utils import data"
   ]
  },
  {
   "cell_type": "code",
   "execution_count": 3,
   "id": "8122207a",
   "metadata": {},
   "outputs": [],
   "source": [
    "from tqdm import tqdm\n",
    "import os, time, sys"
   ]
  },
  {
   "cell_type": "code",
   "execution_count": 4,
   "id": "e01cfcb3",
   "metadata": {},
   "outputs": [],
   "source": [
    "import resnet_mixer\n",
    "import resblock_mixer\n",
    "\n",
    "import shufflenet\n",
    "import shufflenetv2"
   ]
  },
  {
   "cell_type": "markdown",
   "id": "203e32fe",
   "metadata": {},
   "source": [
    "## Computing the MACs"
   ]
  },
  {
   "cell_type": "code",
   "execution_count": null,
   "id": "b7199c93",
   "metadata": {},
   "outputs": [],
   "source": [
    "from ptflops import get_model_complexity_info\n",
    "\n",
    "for i in range(99):\n",
    "    if i==0:\n",
    "        ## hard core ignore\n",
    "        model = resnet_mixer.cifar_resnet20(mixer=False)\n",
    "    elif i == 1:\n",
    "        ### FOR ORIGINAL MIXER V1\n",
    "        model = resnet_mixer.cifar_resnet20(mixer=True)\n",
    "    elif i == 2:\n",
    "        model = resnet_mixer.cifar_resnet20(mixer=True, planes=32, G=[8, 8, 16])\n",
    "    elif i == 3:\n",
    "        model = resblock_mixer.CifarResNet(resblock_mixer.BasicBlock, [3, 3, 3], num_classes=10, group_sizes=[4, 8, 8])\n",
    "    elif i == 4:\n",
    "        model = resblock_mixer.CifarResNet(resblock_mixer.BasicBlock, [4, 4, 4], num_classes=10, planes=16, group_sizes=[4, 8, 8])\n",
    "    elif i == 5:\n",
    "        model = resblock_mixer.CifarResNet(resblock_mixer.BasicBlock, [2, 2, 2], num_classes=10, planes=32, group_sizes=[8, 8, 16])\n",
    "    elif i == 6:\n",
    "        model = resnet_mixer.CifarResNet(resnet_mixer.BasicBlock,\n",
    "                                         [4, 4, 4], num_classes=10, planes=16, mixer=False)\n",
    "    elif i == 7:\n",
    "        model = shufflenet.shufflenet()\n",
    "    elif i == 8:\n",
    "        model = shufflenetv2.shufflenetv2()\n",
    "    else: break\n",
    "\n",
    "    print(\"MODEL INDEX: \", i)\n",
    "\n",
    "    macs, params = get_model_complexity_info(model, (3, 32, 32), as_strings=True,\n",
    "                                   print_per_layer_stat=False, verbose=False)\n",
    "\n",
    "    print('{:<30}  {:<8}'.format('Computational complexity: ', macs))\n",
    "    print('{:<30}  {:<8}'.format('Number of parameters: ', params))\n",
    "    print('')"
   ]
  },
  {
   "cell_type": "code",
   "execution_count": 19,
   "id": "bf32f6cb",
   "metadata": {},
   "outputs": [],
   "source": [
    "macs, params = get_model_complexity_info(model, (3, 32, 32), as_strings=False,\n",
    "                                   print_per_layer_stat=False, verbose=False)"
   ]
  },
  {
   "cell_type": "code",
   "execution_count": 20,
   "id": "3bb8d5da",
   "metadata": {},
   "outputs": [
    {
     "data": {
      "text/plain": [
       "55734922.0"
      ]
     },
     "execution_count": 20,
     "metadata": {},
     "output_type": "execute_result"
    }
   ],
   "source": [
    "macs"
   ]
  },
  {
   "cell_type": "code",
   "execution_count": null,
   "id": "51539b8f",
   "metadata": {},
   "outputs": [],
   "source": []
  }
 ],
 "metadata": {
  "kernelspec": {
   "display_name": "Python 3 (ipykernel)",
   "language": "python",
   "name": "python3"
  },
  "language_info": {
   "codemirror_mode": {
    "name": "ipython",
    "version": 3
   },
   "file_extension": ".py",
   "mimetype": "text/x-python",
   "name": "python",
   "nbconvert_exporter": "python",
   "pygments_lexer": "ipython3",
   "version": "3.9.16"
  }
 },
 "nbformat": 4,
 "nbformat_minor": 5
}
