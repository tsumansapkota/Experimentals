{
 "cells": [
  {
   "cell_type": "code",
   "execution_count": 1,
   "metadata": {},
   "outputs": [
    {
     "name": "stderr",
     "output_type": "stream",
     "text": [
      "c:\\users\\heythere\\appdata\\local\\programs\\python\\python35\\lib\\site-packages\\h5py\\__init__.py:36: FutureWarning: Conversion of the second argument of issubdtype from `float` to `np.floating` is deprecated. In future, it will be treated as `np.float64 == np.dtype(float).type`.\n",
      "  from ._conv import register_converters as _register_converters\n"
     ]
    }
   ],
   "source": [
    "import numpy as np\n",
    "import tensorflow as tf\n",
    "import matplotlib.pyplot as plt\n",
    "%matplotlib inline"
   ]
  },
  {
   "cell_type": "code",
   "execution_count": 2,
   "metadata": {},
   "outputs": [],
   "source": [
    "from tensorflow.examples.tutorials.mnist import input_data"
   ]
  },
  {
   "cell_type": "code",
   "execution_count": 3,
   "metadata": {},
   "outputs": [
    {
     "name": "stdout",
     "output_type": "stream",
     "text": [
      "WARNING:tensorflow:From <ipython-input-3-b22782e32495>:1: read_data_sets (from tensorflow.contrib.learn.python.learn.datasets.mnist) is deprecated and will be removed in a future version.\n",
      "Instructions for updating:\n",
      "Please use alternatives such as official/mnist/dataset.py from tensorflow/models.\n",
      "WARNING:tensorflow:From c:\\users\\heythere\\appdata\\local\\programs\\python\\python35\\lib\\site-packages\\tensorflow\\contrib\\learn\\python\\learn\\datasets\\mnist.py:260: maybe_download (from tensorflow.contrib.learn.python.learn.datasets.base) is deprecated and will be removed in a future version.\n",
      "Instructions for updating:\n",
      "Please write your own downloading logic.\n",
      "WARNING:tensorflow:From c:\\users\\heythere\\appdata\\local\\programs\\python\\python35\\lib\\site-packages\\tensorflow\\contrib\\learn\\python\\learn\\datasets\\mnist.py:262: extract_images (from tensorflow.contrib.learn.python.learn.datasets.mnist) is deprecated and will be removed in a future version.\n",
      "Instructions for updating:\n",
      "Please use tf.data to implement this functionality.\n",
      "Extracting ../../Tensorflow-Bootcamp-master/03-Convolutional-Neural-Networks/MNIST_data/train-images-idx3-ubyte.gz\n",
      "WARNING:tensorflow:From c:\\users\\heythere\\appdata\\local\\programs\\python\\python35\\lib\\site-packages\\tensorflow\\contrib\\learn\\python\\learn\\datasets\\mnist.py:267: extract_labels (from tensorflow.contrib.learn.python.learn.datasets.mnist) is deprecated and will be removed in a future version.\n",
      "Instructions for updating:\n",
      "Please use tf.data to implement this functionality.\n",
      "Extracting ../../Tensorflow-Bootcamp-master/03-Convolutional-Neural-Networks/MNIST_data/train-labels-idx1-ubyte.gz\n",
      "WARNING:tensorflow:From c:\\users\\heythere\\appdata\\local\\programs\\python\\python35\\lib\\site-packages\\tensorflow\\contrib\\learn\\python\\learn\\datasets\\mnist.py:110: dense_to_one_hot (from tensorflow.contrib.learn.python.learn.datasets.mnist) is deprecated and will be removed in a future version.\n",
      "Instructions for updating:\n",
      "Please use tf.one_hot on tensors.\n",
      "Extracting ../../Tensorflow-Bootcamp-master/03-Convolutional-Neural-Networks/MNIST_data/t10k-images-idx3-ubyte.gz\n",
      "Extracting ../../Tensorflow-Bootcamp-master/03-Convolutional-Neural-Networks/MNIST_data/t10k-labels-idx1-ubyte.gz\n",
      "WARNING:tensorflow:From c:\\users\\heythere\\appdata\\local\\programs\\python\\python35\\lib\\site-packages\\tensorflow\\contrib\\learn\\python\\learn\\datasets\\mnist.py:290: DataSet.__init__ (from tensorflow.contrib.learn.python.learn.datasets.mnist) is deprecated and will be removed in a future version.\n",
      "Instructions for updating:\n",
      "Please use alternatives such as official/mnist/dataset.py from tensorflow/models.\n"
     ]
    }
   ],
   "source": [
    "mnist = input_data.read_data_sets(\"../../Tensorflow-Bootcamp-master/03-Convolutional-Neural-Networks/MNIST_data/\",one_hot=True)"
   ]
  },
  {
   "cell_type": "code",
   "execution_count": 4,
   "metadata": {},
   "outputs": [],
   "source": [
    "tf.reset_default_graph() "
   ]
  },
  {
   "cell_type": "code",
   "execution_count": 5,
   "metadata": {},
   "outputs": [],
   "source": [
    "# DEFINE parameters\n",
    "num_inputs = 784 # 28*28\n",
    "neurons_hid1 = 392\n",
    "neurons_hid2 = 196\n",
    "neurons_hid3 = 98\n",
    "neurons_hid4 = 49\n",
    "neurons_hid5 = 25\n",
    "neurons_hid6 = 12\n",
    "neurons_hid7 = 6\n",
    "neurons_hid8 = 3\n",
    "neurons_hid9 = 2\n",
    "neurons_hid10 = 1\n",
    "\n",
    "learning_rate = 0.0003"
   ]
  },
  {
   "cell_type": "code",
   "execution_count": 6,
   "metadata": {},
   "outputs": [],
   "source": [
    "# PINV(PSEUDO-INVERSE) function\n",
    "def pinv(a, rcond=1e-15):\n",
    "    s, u, v = tf.svd(a)\n",
    "    # Ignore singular values close to zero to prevent numerical overflow\n",
    "    limit = rcond * tf.reduce_max(s)\n",
    "    non_zero = tf.greater(s, limit)\n",
    "\n",
    "    reciprocal = tf.where(non_zero, tf.reciprocal(s), tf.zeros(s.shape))\n",
    "    lhs = tf.matmul(v, tf.diag(reciprocal))\n",
    "    return tf.matmul(lhs, u, transpose_b=True)"
   ]
  },
  {
   "cell_type": "code",
   "execution_count": 7,
   "metadata": {},
   "outputs": [],
   "source": [
    "## PLACEHOLDER DEFINATION\n",
    "X = tf.placeholder(tf.float32, shape=[None, num_inputs])"
   ]
  },
  {
   "cell_type": "code",
   "execution_count": 8,
   "metadata": {},
   "outputs": [],
   "source": [
    "# TRANSPOSE OR PINV\n",
    "tie_weight = tf.transpose #pinv"
   ]
  },
  {
   "cell_type": "code",
   "execution_count": 9,
   "metadata": {},
   "outputs": [],
   "source": [
    "## WEIGHTS DEFINATION\n",
    "initializer = tf.variance_scaling_initializer()\n",
    "\n",
    "w1 = tf.Variable(initializer([num_inputs,neurons_hid1]), dtype=tf.float32)\n",
    "w1_ = tie_weight(w1)\n",
    "b1 = tf.Variable(tf.zeros([neurons_hid1]))"
   ]
  },
  {
   "cell_type": "code",
   "execution_count": 10,
   "metadata": {},
   "outputs": [],
   "source": [
    "# ACTIVATION FUNCTION  [ lambda X:X  <OR>  tf.nn.relu  ]\n",
    "# act_func = lambda X:X\n",
    "act_func = tf.nn.tanh"
   ]
  },
  {
   "cell_type": "code",
   "execution_count": 11,
   "metadata": {},
   "outputs": [],
   "source": [
    "# LAYER MODELING OF :NN\n",
    "# hid_layer1 = act_func(tf.matmul(X, w1)+b1)\n",
    "v1 = tf.Variable(tf.random_uniform([neurons_hid1], 0.5,5))\n",
    "hid_layer1 = v1*act_func((tf.matmul(X, w1)+b1)/v1)\n",
    "\n",
    "output_layer = tf.matmul(hid_layer1, w1_)"
   ]
  },
  {
   "cell_type": "code",
   "execution_count": 12,
   "metadata": {},
   "outputs": [],
   "source": [
    "# LOSS FUNCTIONS\n",
    "loss = tf.reduce_mean(tf.square(output_layer - X))\n",
    "# loss = tf.reduce_mean(tf.abs(output_layer - X))\n",
    "# cross_entropy = tf.reduce_mean(tf.nn.softmax_cross_entropy_with_logits(labels=Y,logits=yout))"
   ]
  },
  {
   "cell_type": "code",
   "execution_count": 22,
   "metadata": {},
   "outputs": [],
   "source": [
    "# TRAINING\n",
    "optimizer = tf.train.AdamOptimizer(learning_rate)\n",
    "train = optimizer.minimize(loss, var_list=[w1, b1])\n",
    "\n",
    "opt2 = tf.train.AdamOptimizer(learning_rate=1)\n",
    "train2 = optimizer.minimize(loss, var_list=[v1])"
   ]
  },
  {
   "cell_type": "code",
   "execution_count": 23,
   "metadata": {},
   "outputs": [],
   "source": [
    "# PREPARATION\n",
    "init = tf.global_variables_initializer()\n",
    "saver = tf.train.Saver() "
   ]
  },
  {
   "cell_type": "code",
   "execution_count": 24,
   "metadata": {},
   "outputs": [
    {
     "name": "stdout",
     "output_type": "stream",
     "text": [
      "Epoch 0 Complete. Training Loss: 0.003502441802993417\n",
      "v1 mean =  2.6201813\n",
      "  stdev =  1.278082 \n",
      "\n",
      "Epoch 1 Complete. Training Loss: 0.001893024891614914\n",
      "v1 mean =  2.6881857\n",
      "  stdev =  1.283928 \n",
      "\n",
      "Epoch 2 Complete. Training Loss: 0.0014452629256993532\n",
      "v1 mean =  2.7480338\n",
      "  stdev =  1.2952725 \n",
      "\n",
      "Keyboard Interrupted\n",
      "Finished Training the Model\n"
     ]
    }
   ],
   "source": [
    "num_epochs = 100\n",
    "batch_size = 150\n",
    "\n",
    "try:\n",
    "    with tf.Session() as sess:\n",
    "        sess.run(init)\n",
    "\n",
    "        # Epoch == Entire Training Set\n",
    "        for epoch in range(num_epochs):\n",
    "            num_batches = mnist.train.num_examples // batch_size\n",
    "\n",
    "            # 150 batch size\n",
    "            for iteration in range(num_batches):\n",
    "                X_batch, y_batch = mnist.train.next_batch(batch_size)\n",
    "                sess.run(train, feed_dict={X: X_batch})\n",
    "                sess.run(train2, feed_dict={X: X_batch})\n",
    "\n",
    "            training_loss = loss.eval(feed_dict={X: X_batch})   \n",
    "            print(\"Epoch {} Complete. Training Loss: {}\".format(epoch,training_loss))\n",
    "            print('v1 mean = ', np.mean(v1.eval()))\n",
    "            print('  stdev = ', np.std(v1.eval()),'\\n')\n",
    "            \n",
    "            saver.save(sess, \"./save/ae_1_tanh_learn.ckpt\")      \n",
    "except KeyboardInterrupt:\n",
    "    print('Keyboard Interrupted')\n",
    "finally:\n",
    "    print('Finished Training the Model')"
   ]
  },
  {
   "cell_type": "code",
   "execution_count": 21,
   "metadata": {},
   "outputs": [
    {
     "name": "stdout",
     "output_type": "stream",
     "text": [
      "INFO:tensorflow:Restoring parameters from ./save/ae_1_tanh_learn.ckpt\n"
     ]
    }
   ],
   "source": [
    "num_test_images = 10\n",
    "start_point = 15\n",
    "with tf.Session() as sess:\n",
    "    \n",
    "    saver.restore(sess,\"./save/ae_1_tanh_learn.ckpt\")\n",
    "    \n",
    "    results,compressed = sess.run([output_layer, hid_layer1],\n",
    "                                  feed_dict={X:mnist.test.images[start_point:num_test_images+start_point]})\n",
    "    weight1 = w1.eval()\n",
    "    biases1 = b1.eval()\n",
    "    linearity1 = v1.eval()"
   ]
  },
  {
   "cell_type": "code",
   "execution_count": 22,
   "metadata": {},
   "outputs": [
    {
     "data": {
      "image/png": "[encoded data removed]",
      "text/plain": [
       "<matplotlib.figure.Figure at 0x1e9a2850b00>"
      ]
     },
     "metadata": {},
     "output_type": "display_data"
    }
   ],
   "source": [
    "# ORIGINAL VS RECONSTRUCTED\n",
    "f, a = plt.subplots(2, num_test_images, figsize=(20, 4))\n",
    "for i in range(start_point,num_test_images+start_point):\n",
    "    j = i-start_point\n",
    "    a[0][j].imshow(np.reshape(mnist.test.images[i], (28, 28)))\n",
    "    a[1][j].imshow(np.reshape(results[j], (28, 28)))"
   ]
  },
  {
   "cell_type": "code",
   "execution_count": 25,
   "metadata": {},
   "outputs": [
    {
     "name": "stdout",
     "output_type": "stream",
     "text": [
      "[4.539 4.496 5.115 2.49  4.371 2.972 3.291 3.62  2.142 2.169 6.122 2.723\n",
      " 5.743 5.221 5.106 2.757 4.082 4.098 2.813 5.658 2.492 3.888 3.88  5.683\n",
      " 1.284 5.619 5.541 5.115 1.871 3.715 3.643 1.964 5.74  4.442 1.479 5.113\n",
      " 5.669 3.662 2.025 4.264 3.545 3.068 5.086 5.78  2.435 5.204 4.81  5.729\n",
      " 3.454 2.503 2.755 5.711 2.5   5.244 1.723 2.378 3.205 4.305 1.835 1.19\n",
      " 4.359 2.587 3.864 5.949 1.714 3.859 3.952 5.497 2.242 3.161 5.141 2.984\n",
      " 5.745 1.091 4.259 4.714 1.188 3.224 5.283 3.907 3.463 1.27  5.211 1.512\n",
      " 3.531 4.735 2.538 4.228 2.17  2.892 3.844 1.824 2.858 1.273 4.674 4.307\n",
      " 3.081 2.097 5.116 2.744 6.364 2.204 1.142 4.352 5.676 4.065 4.052 5.734\n",
      " 4.669 2.123 1.074 3.199 1.712 2.917 5.304 5.606 0.972 1.831 4.94  6.118\n",
      " 4.383 5.401 4.367 6.036 5.972 6.039 1.946 1.212 4.019 3.137 1.276 5.758\n",
      " 5.092 1.286 3.055 4.743 6.485 2.313 2.207 2.797 4.019 2.49  2.53  4.52\n",
      " 4.599 1.697 3.424 3.912 6.145 4.111 6.412 5.179 4.113 5.575 1.286 4.908\n",
      " 3.962 4.133 5.577 3.73  3.636 5.461 4.154 4.209 4.96  4.142 1.861 2.207\n",
      " 1.025 2.747 4.446 1.536 1.31  3.499 4.399 3.429 3.999 4.443 1.367 5.056\n",
      " 4.916 5.453 5.262 1.648 3.584 1.484 5.895 4.092 4.861 5.337 4.465 4.8\n",
      " 5.628 5.656 1.429 1.208 1.282 5.155 5.853 4.929 3.496 5.859 1.459 3.022\n",
      " 3.949 1.512 5.844 5.751 1.034 4.334 2.402 5.534 4.478 5.499 5.443 5.547\n",
      " 4.689 4.158 5.663 5.349 3.813 6.582 4.044 3.344 5.043 5.317 2.217 3.969\n",
      " 2.872 4.859 5.857 3.667 6.058 4.51  2.214 2.266 3.5   3.406 6.148 5.497\n",
      " 2.661 2.79  5.256 4.257 5.346 1.232 2.278 2.851 3.646 5.122 6.108 2.614\n",
      " 2.679 6.06  1.707 5.238 3.918 1.029 5.655 2.446 4.644 5.508 5.512 1.511\n",
      " 5.855 2.51  3.469 5.239 3.935 3.343 2.925 4.142 1.81  1.855 1.638 1.804\n",
      " 4.239 5.14  4.774 5.821 3.33  2.405 3.204 6.109 5.634 2.596 2.384 3.647\n",
      " 3.217 4.557 1.1   2.75  4.291 3.876 4.485 5.531 4.999 4.76  5.988 3.096\n",
      " 4.205 3.549 6.27  2.296 2.547 6.303 3.297 1.888 1.209 4.411 4.775 4.793\n",
      " 3.355 3.32  1.77  3.174 3.321 4.138 2.484 2.68  5.563 5.836 2.724 6.143\n",
      " 1.302 5.665 3.116 1.39  5.529 4.459 3.268 4.387 2.132 4.069 4.882 6.369\n",
      " 5.208 3.307 4.824 3.054 5.243 6.464 4.297 2.33  4.365 4.886 6.062 4.871\n",
      " 1.173 4.735 4.477 4.91  5.876 2.549 1.52  3.987 4.174 4.181 4.709 1.158\n",
      " 3.135 4.076 4.946 2.767 2.548 5.292 2.167 3.169 1.105 2.468 3.895 2.394\n",
      " 4.79  3.271 3.879 3.554 3.743 3.847 1.169 4.126 2.563 2.913 3.205 4.921\n",
      " 2.753 3.525 4.265 2.331 1.813 5.54  2.423 5.378]\n"
     ]
    }
   ],
   "source": [
    "np.set_printoptions(precision=3, suppress=True)\n",
    "print(linearity1)"
   ]
  },
  {
   "cell_type": "code",
   "execution_count": 28,
   "metadata": {},
   "outputs": [],
   "source": [
    "# np.save('./save/weights/w1.npy',weight1)\n",
    "#wt1 = np.load('./save/weights/w1.npy')"
   ]
  }
 ],
 "metadata": {
  "kernelspec": {
   "display_name": "Python 3",
   "language": "python",
   "name": "python3"
  },
  "language_info": {
   "codemirror_mode": {
    "name": "ipython",
    "version": 3
   },
   "file_extension": ".py",
   "mimetype": "text/x-python",
   "name": "python",
   "nbconvert_exporter": "python",
   "pygments_lexer": "ipython3",
   "version": "3.5.3"
  }
 },
 "nbformat": 4,
 "nbformat_minor": 2
}
