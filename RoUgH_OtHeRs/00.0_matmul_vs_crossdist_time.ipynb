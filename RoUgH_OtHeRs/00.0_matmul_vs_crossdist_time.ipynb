{
 "cells": [
  {
   "cell_type": "code",
   "execution_count": 16,
   "id": "e82e84b5",
   "metadata": {},
   "outputs": [],
   "source": [
    "import torch"
   ]
  },
  {
   "cell_type": "code",
   "execution_count": 37,
   "id": "6452df6b",
   "metadata": {},
   "outputs": [],
   "source": [
    "B, M = 20, 1000\n",
    "a = torch.randn(B, M)\n",
    "b = torch.randn(M, M)"
   ]
  },
  {
   "cell_type": "code",
   "execution_count": 38,
   "id": "c997ec8b",
   "metadata": {},
   "outputs": [
    {
     "name": "stdout",
     "output_type": "stream",
     "text": [
      "62 µs ± 5.79 µs per loop (mean ± std. dev. of 7 runs, 10,000 loops each)\n"
     ]
    }
   ],
   "source": [
    "%timeit torch.matmul(a, b)"
   ]
  },
  {
   "cell_type": "code",
   "execution_count": 39,
   "id": "a2c86311",
   "metadata": {},
   "outputs": [
    {
     "name": "stdout",
     "output_type": "stream",
     "text": [
      "295 µs ± 3.89 µs per loop (mean ± std. dev. of 7 runs, 1,000 loops each)\n"
     ]
    }
   ],
   "source": [
    "%timeit torch.cdist(a, b, p=2)"
   ]
  },
  {
   "cell_type": "code",
   "execution_count": 40,
   "id": "d5070a7c",
   "metadata": {},
   "outputs": [
    {
     "name": "stdout",
     "output_type": "stream",
     "text": [
      "2.23 ms ± 2.56 µs per loop (mean ± std. dev. of 7 runs, 100 loops each)\n"
     ]
    }
   ],
   "source": [
    "%timeit torch.cdist(a, b, p=1)"
   ]
  },
  {
   "cell_type": "code",
   "execution_count": 41,
   "id": "56ff18cf",
   "metadata": {},
   "outputs": [],
   "source": [
    "device = torch.device('cuda:0')\n",
    "c = a.to(device)\n",
    "d = b.to(device)"
   ]
  },
  {
   "cell_type": "code",
   "execution_count": 42,
   "id": "cd4d6fab",
   "metadata": {},
   "outputs": [
    {
     "name": "stdout",
     "output_type": "stream",
     "text": [
      "24.8 µs ± 67.6 ns per loop (mean ± std. dev. of 7 runs, 10,000 loops each)\n"
     ]
    }
   ],
   "source": [
    "%timeit torch.matmul(c, d)"
   ]
  },
  {
   "cell_type": "code",
   "execution_count": 43,
   "id": "025e17e7",
   "metadata": {},
   "outputs": [
    {
     "name": "stdout",
     "output_type": "stream",
     "text": [
      "129 µs ± 21.2 ns per loop (mean ± std. dev. of 7 runs, 10,000 loops each)\n"
     ]
    }
   ],
   "source": [
    "%timeit torch.cdist(c, d, p=2)"
   ]
  },
  {
   "cell_type": "code",
   "execution_count": 44,
   "id": "dacc4b7b",
   "metadata": {
    "scrolled": true
   },
   "outputs": [
    {
     "name": "stdout",
     "output_type": "stream",
     "text": [
      "394 µs ± 933 ns per loop (mean ± std. dev. of 7 runs, 10,000 loops each)\n"
     ]
    }
   ],
   "source": [
    "%timeit torch.cdist(c, d, p=1)"
   ]
  },
  {
   "cell_type": "markdown",
   "id": "2ff23bde",
   "metadata": {},
   "source": [
    "## Test multiplication vs addition time"
   ]
  },
  {
   "cell_type": "code",
   "execution_count": 45,
   "id": "8715c90d",
   "metadata": {},
   "outputs": [],
   "source": [
    "x = torch.randn(10000)\n",
    "y = torch.randn(10000)"
   ]
  },
  {
   "cell_type": "code",
   "execution_count": 46,
   "id": "17f1c57e",
   "metadata": {},
   "outputs": [
    {
     "name": "stdout",
     "output_type": "stream",
     "text": [
      "2.68 µs ± 10.5 ns per loop (mean ± std. dev. of 7 runs, 100,000 loops each)\n"
     ]
    }
   ],
   "source": [
    "%timeit x*y"
   ]
  },
  {
   "cell_type": "code",
   "execution_count": 47,
   "id": "a271905a",
   "metadata": {},
   "outputs": [
    {
     "name": "stdout",
     "output_type": "stream",
     "text": [
      "2.74 µs ± 5.88 ns per loop (mean ± std. dev. of 7 runs, 100,000 loops each)\n"
     ]
    }
   ],
   "source": [
    "%timeit x+y"
   ]
  },
  {
   "cell_type": "code",
   "execution_count": 58,
   "id": "6dae01df",
   "metadata": {},
   "outputs": [],
   "source": [
    "x_ = x.to(device).type(torch.int32)\n",
    "y_ = y.to(device).type(torch.int32)"
   ]
  },
  {
   "cell_type": "code",
   "execution_count": 59,
   "id": "c162b398",
   "metadata": {},
   "outputs": [
    {
     "name": "stdout",
     "output_type": "stream",
     "text": [
      "4.02 µs ± 9.6 ns per loop (mean ± std. dev. of 7 runs, 100,000 loops each)\n"
     ]
    }
   ],
   "source": [
    "%timeit x_*y_"
   ]
  },
  {
   "cell_type": "code",
   "execution_count": 60,
   "id": "5c698604",
   "metadata": {},
   "outputs": [
    {
     "name": "stdout",
     "output_type": "stream",
     "text": [
      "4.05 µs ± 8.52 ns per loop (mean ± std. dev. of 7 runs, 100,000 loops each)\n"
     ]
    }
   ],
   "source": [
    "%timeit x_+y_"
   ]
  },
  {
   "cell_type": "code",
   "execution_count": null,
   "id": "d23a37a5",
   "metadata": {},
   "outputs": [],
   "source": []
  }
 ],
 "metadata": {
  "kernelspec": {
   "display_name": "Python 3",
   "language": "python",
   "name": "python3"
  },
  "language_info": {
   "codemirror_mode": {
    "name": "ipython",
    "version": 3
   },
   "file_extension": ".py",
   "mimetype": "text/x-python",
   "name": "python",
   "nbconvert_exporter": "python",
   "pygments_lexer": "ipython3",
   "version": "3.9.7"
  }
 },
 "nbformat": 4,
 "nbformat_minor": 5
}
