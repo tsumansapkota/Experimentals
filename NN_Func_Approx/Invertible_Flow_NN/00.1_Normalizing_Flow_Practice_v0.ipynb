{
 "cells": [
  {
   "cell_type": "code",
   "execution_count": 1,
   "metadata": {},
   "outputs": [],
   "source": [
    "import numpy as np\n",
    "import matplotlib\n",
    "import matplotlib.pyplot as plt\n",
    "\n",
    "import torch\n",
    "import torch.nn as nn\n",
    "import torch.nn.functional as F\n",
    "from torch import distributions\n",
    "\n",
    "from sklearn import datasets"
   ]
  },
  {
   "cell_type": "code",
   "execution_count": 2,
   "metadata": {},
   "outputs": [],
   "source": [
    "import nflib as tnf\n",
    "\n",
    "%load_ext autoreload\n",
    "%autoreload 2"
   ]
  },
  {
   "cell_type": "code",
   "execution_count": 3,
   "metadata": {},
   "outputs": [
    {
     "data": {
      "text/plain": [
       "<matplotlib.collections.PathCollection at 0x7f1fb73e8490>"
      ]
     },
     "execution_count": 3,
     "metadata": {},
     "output_type": "execute_result"
    },
    {
     "data": {
      "image/png": "[encoded data removed]",
      "text/plain": [
       "<Figure size 432x288 with 1 Axes>"
      ]
     },
     "metadata": {
      "needs_background": "light"
     },
     "output_type": "display_data"
    }
   ],
   "source": [
    "%matplotlib inline\n",
    "X, _ =datasets.make_moons(n_samples=300, noise=0.05)\n",
    "xx = torch.Tensor(X)\n",
    "plt.scatter(X[:,0], X[:,1], marker='.')"
   ]
  },
  {
   "cell_type": "code",
   "execution_count": 4,
   "metadata": {},
   "outputs": [],
   "source": [
    "dist = distributions.MultivariateNormal(torch.zeros(2), torch.eye(2))"
   ]
  },
  {
   "cell_type": "code",
   "execution_count": 5,
   "metadata": {},
   "outputs": [],
   "source": [
    "# dist = distributions.TransformedDistribution(\n",
    "#     distributions.Uniform(torch.zeros(2), torch.ones(2)),\n",
    "#     distributions.SigmoidTransform().inv)"
   ]
  },
  {
   "cell_type": "code",
   "execution_count": 6,
   "metadata": {},
   "outputs": [],
   "source": [
    "# layers = [\n",
    "#     tnf.LinearFlow(2),\n",
    "#     tnf.PReluFLow(2),\n",
    "# #     tnf.ActNorm1d(2),\n",
    "#     tnf.LinearFlow(2),\n",
    "#     tnf.PReluFLow(2),\n",
    "# #     tnf.ActNorm1d(2),\n",
    "#     tnf.LinearFlow(2),\n",
    "#     tnf.PReluFLow(2),\n",
    "# #     tnf.ActNorm1d(2),\n",
    "#     tnf.LinearFlow(2),\n",
    "# ]\n",
    "# nfnet = tnf.SequentialFlow(layers)"
   ]
  },
  {
   "cell_type": "code",
   "execution_count": 7,
   "metadata": {},
   "outputs": [],
   "source": [
    "# nfnet = tnf.ResidualMLP(2, [20,20,20])"
   ]
  },
  {
   "cell_type": "code",
   "execution_count": 8,
   "metadata": {},
   "outputs": [],
   "source": [
    "mlpg = tnf.coupling_flows.MLP_Generator([25,25,25])\n",
    "# dimx = tnf.coupling_flows.DimensionMixer(2)\n",
    "\n",
    "layers = []\n",
    "for i in range(8):\n",
    "    _a = tnf.CouplingFlow(2, func_generator=mlpg, dim_sample=i%2)\n",
    "    _b = tnf.ActNorm1d(2)\n",
    "    layers += [_a,]\n",
    "layers.append(tnf.LinearFlow(2))\n",
    "    \n",
    "nfnet = tnf.SequentialFlow(layers)"
   ]
  },
  {
   "cell_type": "code",
   "execution_count": 9,
   "metadata": {},
   "outputs": [],
   "source": [
    "optimizer = torch.optim.Adam(nfnet.parameters(), lr=0.0001, weight_decay=1e-5)"
   ]
  },
  {
   "cell_type": "code",
   "execution_count": 10,
   "metadata": {},
   "outputs": [],
   "source": [
    "# i = 1\n",
    "# layers[i](xx, True)"
   ]
  },
  {
   "cell_type": "code",
   "execution_count": 11,
   "metadata": {},
   "outputs": [
    {
     "data": {
      "text/plain": [
       "130"
      ]
     },
     "execution_count": 11,
     "metadata": {},
     "output_type": "execute_result"
    }
   ],
   "source": [
    "len(list(nfnet.parameters()))"
   ]
  },
  {
   "cell_type": "code",
   "execution_count": 12,
   "metadata": {},
   "outputs": [],
   "source": [
    "# x0_, x1_ = torch.meshgrid(\n",
    "#     torch.linspace(X[:,0].min(), X[:,0].max(), 20),\n",
    "#     torch.linspace(X[:,1].min(), X[:,1].max(), 20),\n",
    "# )\n",
    "# x_ = torch.stack([x0_.reshape(-1), x1_.reshape(-1)], dim=1)\n",
    "# x_.shape"
   ]
  },
  {
   "cell_type": "code",
   "execution_count": 13,
   "metadata": {},
   "outputs": [
    {
     "name": "stdout",
     "output_type": "stream",
     "text": [
      "Step: 0; NLL: 501.46533203125\n",
      "Step: 10; NLL: 450.5113525390625\n",
      "Step: 20; NLL: 443.13446044921875\n",
      "Step: 30; NLL: 404.5933837890625\n",
      "Step: 40; NLL: 387.13787841796875\n",
      "Step: 50; NLL: 391.0438537597656\n",
      "Step: 60; NLL: 370.3091125488281\n",
      "Step: 70; NLL: 357.06005859375\n",
      "Step: 80; NLL: 340.435791015625\n",
      "Step: 90; NLL: 336.5542297363281\n",
      "Step: 100; NLL: 318.5002136230469\n",
      "Step: 110; NLL: 301.5050964355469\n",
      "Step: 120; NLL: 285.02471923828125\n",
      "Step: 130; NLL: 303.37664794921875\n",
      "Step: 140; NLL: 297.388427734375\n",
      "Step: 150; NLL: 277.9504089355469\n",
      "Step: 160; NLL: 274.03857421875\n",
      "Step: 170; NLL: 273.90643310546875\n",
      "Step: 180; NLL: 274.25030517578125\n",
      "Step: 190; NLL: 264.284912109375\n",
      "Step: 200; NLL: 274.19976806640625\n",
      "Step: 210; NLL: 258.35919189453125\n",
      "Step: 220; NLL: 267.0691223144531\n",
      "Step: 230; NLL: 265.2342529296875\n",
      "Step: 240; NLL: 263.2582092285156\n",
      "Step: 250; NLL: 273.3049011230469\n",
      "Step: 260; NLL: 268.44696044921875\n",
      "Step: 270; NLL: 258.65362548828125\n",
      "Step: 280; NLL: 263.2728271484375\n",
      "Step: 290; NLL: 256.79339599609375\n",
      "Step: 300; NLL: 264.003662109375\n",
      "Step: 310; NLL: 263.5071716308594\n",
      "Step: 320; NLL: 267.3956604003906\n",
      "Step: 330; NLL: 258.9626159667969\n",
      "Step: 340; NLL: 260.604248046875\n",
      "Step: 350; NLL: 264.20751953125\n",
      "Step: 360; NLL: 248.53079223632812\n",
      "Step: 370; NLL: 254.8603057861328\n",
      "Step: 380; NLL: 254.9872283935547\n",
      "Step: 390; NLL: 261.4471740722656\n",
      "Step: 400; NLL: 258.2850341796875\n",
      "Step: 410; NLL: 243.74307250976562\n",
      "Step: 420; NLL: 251.45947265625\n",
      "Step: 430; NLL: 251.47120666503906\n",
      "Step: 440; NLL: 262.940185546875\n",
      "Step: 450; NLL: 251.9591827392578\n",
      "Step: 460; NLL: 247.6934051513672\n",
      "Step: 470; NLL: 251.2980194091797\n",
      "Step: 480; NLL: 248.92515563964844\n",
      "Step: 490; NLL: 239.9103546142578\n",
      "Step: 500; NLL: 244.38047790527344\n",
      "Step: 510; NLL: 246.73037719726562\n",
      "Step: 520; NLL: 251.83155822753906\n",
      "Step: 530; NLL: 240.6351318359375\n",
      "Step: 540; NLL: 250.44015502929688\n",
      "Step: 550; NLL: 244.15814208984375\n",
      "Step: 560; NLL: 240.38653564453125\n"
     ]
    },
    {
     "ename": "TclError",
     "evalue": "invalid command name \"pyimage14\"",
     "output_type": "error",
     "traceback": [
      "\u001b[0;31m---------------------------------------------------------------------------\u001b[0m",
      "\u001b[0;31mTclError\u001b[0m                                  Traceback (most recent call last)",
      "\u001b[0;32m<ipython-input-13-1e9a637942cf>\u001b[0m in \u001b[0;36m<module>\u001b[0;34m()\u001b[0m\n\u001b[1;32m     28\u001b[0m             \u001b[0max\u001b[0m\u001b[0;34m.\u001b[0m\u001b[0mscatter\u001b[0m\u001b[0;34m(\u001b[0m\u001b[0mx_\u001b[0m\u001b[0;34m[\u001b[0m\u001b[0;34m:\u001b[0m\u001b[0;34m,\u001b[0m\u001b[0;36m0\u001b[0m\u001b[0;34m]\u001b[0m\u001b[0;34m,\u001b[0m \u001b[0mx_\u001b[0m\u001b[0;34m[\u001b[0m\u001b[0;34m:\u001b[0m\u001b[0;34m,\u001b[0m\u001b[0;36m1\u001b[0m\u001b[0;34m]\u001b[0m\u001b[0;34m,\u001b[0m \u001b[0mmarker\u001b[0m\u001b[0;34m=\u001b[0m\u001b[0;34m'.'\u001b[0m\u001b[0;34m,\u001b[0m \u001b[0mc\u001b[0m\u001b[0;34m=\u001b[0m\u001b[0;34m'r'\u001b[0m\u001b[0;34m)\u001b[0m\u001b[0;34m\u001b[0m\u001b[0;34m\u001b[0m\u001b[0m\n\u001b[1;32m     29\u001b[0m \u001b[0;34m\u001b[0m\u001b[0m\n\u001b[0;32m---> 30\u001b[0;31m         \u001b[0mfig\u001b[0m\u001b[0;34m.\u001b[0m\u001b[0mcanvas\u001b[0m\u001b[0;34m.\u001b[0m\u001b[0mdraw\u001b[0m\u001b[0;34m(\u001b[0m\u001b[0;34m)\u001b[0m\u001b[0;34m\u001b[0m\u001b[0;34m\u001b[0m\u001b[0m\n\u001b[0m\u001b[1;32m     31\u001b[0m         \u001b[0mplt\u001b[0m\u001b[0;34m.\u001b[0m\u001b[0mpause\u001b[0m\u001b[0;34m(\u001b[0m\u001b[0;36m0.01\u001b[0m\u001b[0;34m)\u001b[0m\u001b[0;34m\u001b[0m\u001b[0;34m\u001b[0m\u001b[0m\n",
      "\u001b[0;32m~/Program_Files/Python/miniconda3/lib/python3.7/site-packages/matplotlib/backends/backend_tkagg.py\u001b[0m in \u001b[0;36mdraw\u001b[0;34m(self)\u001b[0m\n\u001b[1;32m      8\u001b[0m     \u001b[0;32mdef\u001b[0m \u001b[0mdraw\u001b[0m\u001b[0;34m(\u001b[0m\u001b[0mself\u001b[0m\u001b[0;34m)\u001b[0m\u001b[0;34m:\u001b[0m\u001b[0;34m\u001b[0m\u001b[0;34m\u001b[0m\u001b[0m\n\u001b[1;32m      9\u001b[0m         \u001b[0msuper\u001b[0m\u001b[0;34m(\u001b[0m\u001b[0mFigureCanvasTkAgg\u001b[0m\u001b[0;34m,\u001b[0m \u001b[0mself\u001b[0m\u001b[0;34m)\u001b[0m\u001b[0;34m.\u001b[0m\u001b[0mdraw\u001b[0m\u001b[0;34m(\u001b[0m\u001b[0;34m)\u001b[0m\u001b[0;34m\u001b[0m\u001b[0;34m\u001b[0m\u001b[0m\n\u001b[0;32m---> 10\u001b[0;31m         \u001b[0m_backend_tk\u001b[0m\u001b[0;34m.\u001b[0m\u001b[0mblit\u001b[0m\u001b[0;34m(\u001b[0m\u001b[0mself\u001b[0m\u001b[0;34m.\u001b[0m\u001b[0m_tkphoto\u001b[0m\u001b[0;34m,\u001b[0m \u001b[0mself\u001b[0m\u001b[0;34m.\u001b[0m\u001b[0mrenderer\u001b[0m\u001b[0;34m.\u001b[0m\u001b[0m_renderer\u001b[0m\u001b[0;34m,\u001b[0m \u001b[0;34m(\u001b[0m\u001b[0;36m0\u001b[0m\u001b[0;34m,\u001b[0m \u001b[0;36m1\u001b[0m\u001b[0;34m,\u001b[0m \u001b[0;36m2\u001b[0m\u001b[0;34m,\u001b[0m \u001b[0;36m3\u001b[0m\u001b[0;34m)\u001b[0m\u001b[0;34m)\u001b[0m\u001b[0;34m\u001b[0m\u001b[0;34m\u001b[0m\u001b[0m\n\u001b[0m\u001b[1;32m     11\u001b[0m         \u001b[0mself\u001b[0m\u001b[0;34m.\u001b[0m\u001b[0m_master\u001b[0m\u001b[0;34m.\u001b[0m\u001b[0mupdate_idletasks\u001b[0m\u001b[0;34m(\u001b[0m\u001b[0;34m)\u001b[0m\u001b[0;34m\u001b[0m\u001b[0;34m\u001b[0m\u001b[0m\n\u001b[1;32m     12\u001b[0m \u001b[0;34m\u001b[0m\u001b[0m\n",
      "\u001b[0;32m~/Program_Files/Python/miniconda3/lib/python3.7/site-packages/matplotlib/backends/_backend_tk.py\u001b[0m in \u001b[0;36mblit\u001b[0;34m(photoimage, aggimage, offsets, bbox)\u001b[0m\n\u001b[1;32m     74\u001b[0m         \u001b[0mbboxptr\u001b[0m \u001b[0;34m=\u001b[0m \u001b[0;34m(\u001b[0m\u001b[0mx1\u001b[0m\u001b[0;34m,\u001b[0m \u001b[0mx2\u001b[0m\u001b[0;34m,\u001b[0m \u001b[0my1\u001b[0m\u001b[0;34m,\u001b[0m \u001b[0my2\u001b[0m\u001b[0;34m)\u001b[0m\u001b[0;34m\u001b[0m\u001b[0;34m\u001b[0m\u001b[0m\n\u001b[1;32m     75\u001b[0m     \u001b[0;32melse\u001b[0m\u001b[0;34m:\u001b[0m\u001b[0;34m\u001b[0m\u001b[0;34m\u001b[0m\u001b[0m\n\u001b[0;32m---> 76\u001b[0;31m         \u001b[0mphotoimage\u001b[0m\u001b[0;34m.\u001b[0m\u001b[0mblank\u001b[0m\u001b[0;34m(\u001b[0m\u001b[0;34m)\u001b[0m\u001b[0;34m\u001b[0m\u001b[0;34m\u001b[0m\u001b[0m\n\u001b[0m\u001b[1;32m     77\u001b[0m         \u001b[0mbboxptr\u001b[0m \u001b[0;34m=\u001b[0m \u001b[0;34m(\u001b[0m\u001b[0;36m0\u001b[0m\u001b[0;34m,\u001b[0m \u001b[0mwidth\u001b[0m\u001b[0;34m,\u001b[0m \u001b[0;36m0\u001b[0m\u001b[0;34m,\u001b[0m \u001b[0mheight\u001b[0m\u001b[0;34m)\u001b[0m\u001b[0;34m\u001b[0m\u001b[0;34m\u001b[0m\u001b[0m\n\u001b[1;32m     78\u001b[0m     _tkagg.blit(\n",
      "\u001b[0;32m~/Program_Files/Python/miniconda3/lib/python3.7/tkinter/__init__.py\u001b[0m in \u001b[0;36mblank\u001b[0;34m(self)\u001b[0m\n\u001b[1;32m   3546\u001b[0m     \u001b[0;32mdef\u001b[0m \u001b[0mblank\u001b[0m\u001b[0;34m(\u001b[0m\u001b[0mself\u001b[0m\u001b[0;34m)\u001b[0m\u001b[0;34m:\u001b[0m\u001b[0;34m\u001b[0m\u001b[0;34m\u001b[0m\u001b[0m\n\u001b[1;32m   3547\u001b[0m         \u001b[0;34m\"\"\"Display a transparent image.\"\"\"\u001b[0m\u001b[0;34m\u001b[0m\u001b[0;34m\u001b[0m\u001b[0m\n\u001b[0;32m-> 3548\u001b[0;31m         \u001b[0mself\u001b[0m\u001b[0;34m.\u001b[0m\u001b[0mtk\u001b[0m\u001b[0;34m.\u001b[0m\u001b[0mcall\u001b[0m\u001b[0;34m(\u001b[0m\u001b[0mself\u001b[0m\u001b[0;34m.\u001b[0m\u001b[0mname\u001b[0m\u001b[0;34m,\u001b[0m \u001b[0;34m'blank'\u001b[0m\u001b[0;34m)\u001b[0m\u001b[0;34m\u001b[0m\u001b[0;34m\u001b[0m\u001b[0m\n\u001b[0m\u001b[1;32m   3549\u001b[0m     \u001b[0;32mdef\u001b[0m \u001b[0mcget\u001b[0m\u001b[0;34m(\u001b[0m\u001b[0mself\u001b[0m\u001b[0;34m,\u001b[0m \u001b[0moption\u001b[0m\u001b[0;34m)\u001b[0m\u001b[0;34m:\u001b[0m\u001b[0;34m\u001b[0m\u001b[0;34m\u001b[0m\u001b[0m\n\u001b[1;32m   3550\u001b[0m         \u001b[0;34m\"\"\"Return the value of OPTION.\"\"\"\u001b[0m\u001b[0;34m\u001b[0m\u001b[0;34m\u001b[0m\u001b[0m\n",
      "\u001b[0;31mTclError\u001b[0m: invalid command name \"pyimage14\""
     ]
    }
   ],
   "source": [
    "STEPS = 1000\n",
    "\n",
    "%matplotlib tk\n",
    "fig = plt.figure()\n",
    "ax = fig.add_subplot(111)\n",
    "for step in range(STEPS):\n",
    "    X, _ =datasets.make_moons(n_samples=300, noise=0.05)\n",
    "    xx = torch.Tensor(X)\n",
    "    xx_ = xx[np.random.randint(0, len(xx), 150)]\n",
    "    yy, logdetJ = nfnet(xx_, True)\n",
    "    logprob = dist.log_prob(yy).view(yy.shape[0], -1).sum(dim=1)   \n",
    "    NLL = -(logprob + logdetJ).sum()    \n",
    "    \n",
    "    optimizer.zero_grad()\n",
    "    NLL.backward()\n",
    "    optimizer.step()\n",
    "    \n",
    "    if step%10 == 0:\n",
    "        print(f\"Step: {step}; NLL: {float(NLL)}\")\n",
    "        \n",
    "        ax.clear()\n",
    "        ax.scatter(xx_[:,0], xx_[:,1], marker='o', c=logprob.data)\n",
    "        ax.scatter(yy.data[:,0], yy.data[:,1], marker='o', color='b')\n",
    "        with torch.no_grad():\n",
    "            z = dist.sample((150*8,))\n",
    "            x_ = nfnet.inverse(z, False)\n",
    "#             p_ = torch.exp(dist.log_prob(y_).sum(dim=1))\n",
    "            ax.scatter(x_[:,0], x_[:,1], marker='.', c='r')\n",
    "\n",
    "        fig.canvas.draw()\n",
    "        plt.pause(0.01)"
   ]
  },
  {
   "cell_type": "code",
   "execution_count": null,
   "metadata": {},
   "outputs": [],
   "source": []
  },
  {
   "cell_type": "code",
   "execution_count": null,
   "metadata": {},
   "outputs": [],
   "source": [
    "# STEPS = 1000\n",
    "\n",
    "# %matplotlib tk\n",
    "# fig = plt.figure()\n",
    "# ax = fig.add_subplot(111)\n",
    "# for step in range(STEPS):\n",
    "#     xx_ = xx[np.random.randint(0, len(xx), 150)]\n",
    "#     yy, logdetJ = nfnet(xx_, True)\n",
    "#     logprob = dist.log_prob(yy).sum(dim=1)   \n",
    "#     NLL = -(logprob + logdetJ).sum()    \n",
    "    \n",
    "#     optimizer.zero_grad()\n",
    "#     NLL.backward()\n",
    "#     optimizer.step()\n",
    "    \n",
    "#     if step%10 == 0:\n",
    "#         print(f\"Step: {step}; NLL: {float(NLL)}\")\n",
    "        \n",
    "#         ax.clear()\n",
    "#         ax.scatter(xx_[:,0], xx_[:,1], marker='o', c=logprob.data)\n",
    "        \n",
    "#         with torch.no_grad():\n",
    "#             y_ = nfnet(x_, False)\n",
    "#             p_ = torch.exp(dist.log_prob(y_).sum(dim=1))\n",
    "#             ax.scatter(x_[:,0], x_[:,1], marker='.', c=p_)\n",
    "\n",
    "#         fig.canvas.draw()\n",
    "#         plt.pause(0.01)"
   ]
  },
  {
   "cell_type": "code",
   "execution_count": null,
   "metadata": {},
   "outputs": [],
   "source": [
    "asdfsdf aesdfsda "
   ]
  },
  {
   "cell_type": "code",
   "execution_count": null,
   "metadata": {},
   "outputs": [],
   "source": [
    "torch.eye(2).expand(5,2,2)"
   ]
  },
  {
   "cell_type": "code",
   "execution_count": null,
   "metadata": {},
   "outputs": [],
   "source": [
    "linear = nn.Linear(3,3)\n",
    "nn.utils.spectral_norm(linear)"
   ]
  },
  {
   "cell_type": "code",
   "execution_count": null,
   "metadata": {},
   "outputs": [],
   "source": [
    "linear(torch.randn(1,3))"
   ]
  },
  {
   "cell_type": "code",
   "execution_count": null,
   "metadata": {},
   "outputs": [],
   "source": [
    "linear.weight"
   ]
  },
  {
   "cell_type": "code",
   "execution_count": null,
   "metadata": {},
   "outputs": [],
   "source": [
    "linear.weight_orig"
   ]
  },
  {
   "cell_type": "code",
   "execution_count": null,
   "metadata": {},
   "outputs": [],
   "source": [
    "linear.weight"
   ]
  },
  {
   "cell_type": "code",
   "execution_count": null,
   "metadata": {},
   "outputs": [],
   "source": [
    "linear.weight_orig"
   ]
  },
  {
   "cell_type": "code",
   "execution_count": null,
   "metadata": {},
   "outputs": [],
   "source": [
    "W = torch.randn(2,3)"
   ]
  },
  {
   "cell_type": "code",
   "execution_count": null,
   "metadata": {},
   "outputs": [],
   "source": [
    "# x_ = torch.randn(3,2,2)\n",
    "x_ = torch.eye(2).expand(3,2,2)"
   ]
  },
  {
   "cell_type": "code",
   "execution_count": null,
   "metadata": {},
   "outputs": [],
   "source": [
    "x_, W"
   ]
  },
  {
   "cell_type": "code",
   "execution_count": null,
   "metadata": {},
   "outputs": [],
   "source": [
    "z_ = x_@W\n",
    "z_.shape"
   ]
  },
  {
   "cell_type": "code",
   "execution_count": null,
   "metadata": {},
   "outputs": [],
   "source": [
    "mask = (torch.randn(3,3)>0).type(W.dtype)"
   ]
  },
  {
   "cell_type": "code",
   "execution_count": null,
   "metadata": {},
   "outputs": [],
   "source": [
    "mask"
   ]
  },
  {
   "cell_type": "code",
   "execution_count": null,
   "metadata": {},
   "outputs": [],
   "source": [
    "z_"
   ]
  },
  {
   "cell_type": "code",
   "execution_count": null,
   "metadata": {},
   "outputs": [],
   "source": [
    "y_ = z_*mask.unsqueeze(dim=2)\n",
    "y_.shape"
   ]
  },
  {
   "cell_type": "code",
   "execution_count": null,
   "metadata": {},
   "outputs": [],
   "source": [
    "y_ = z_*mask.unsqueeze(dim=1)\n",
    "# mask.unsqueeze(dim=1).shape\n",
    "y_.shape"
   ]
  },
  {
   "cell_type": "code",
   "execution_count": null,
   "metadata": {},
   "outputs": [],
   "source": [
    "y_[0]"
   ]
  },
  {
   "cell_type": "code",
   "execution_count": null,
   "metadata": {},
   "outputs": [],
   "source": [
    "mask"
   ]
  },
  {
   "cell_type": "code",
   "execution_count": null,
   "metadata": {},
   "outputs": [],
   "source": [
    "W"
   ]
  },
  {
   "cell_type": "code",
   "execution_count": null,
   "metadata": {},
   "outputs": [],
   "source": [
    "a = torch.randn(4)\n",
    "torch.argsort(a)"
   ]
  },
  {
   "cell_type": "code",
   "execution_count": null,
   "metadata": {},
   "outputs": [],
   "source": [
    "a = torch.randn(3,5)\n",
    "a[:,torch.argsort(a[0])[:2]]"
   ]
  },
  {
   "cell_type": "code",
   "execution_count": null,
   "metadata": {},
   "outputs": [],
   "source": []
  }
 ],
 "metadata": {
  "kernelspec": {
   "display_name": "Python 3",
   "language": "python",
   "name": "python3"
  },
  "language_info": {
   "codemirror_mode": {
    "name": "ipython",
    "version": 3
   },
   "file_extension": ".py",
   "mimetype": "text/x-python",
   "name": "python",
   "nbconvert_exporter": "python",
   "pygments_lexer": "ipython3",
   "version": "3.7.4"
  }
 },
 "nbformat": 4,
 "nbformat_minor": 4
}
