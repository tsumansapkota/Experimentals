{
 "cells": [
  {
   "cell_type": "code",
   "execution_count": 25,
   "metadata": {},
   "outputs": [],
   "source": [
    "import numpy as np\n",
    "import matplotlib.pyplot as plt\n",
    "%matplotlib inline\n",
    "\n",
    "import torch\n",
    "import torch.nn.functional as F"
   ]
  },
  {
   "cell_type": "code",
   "execution_count": 62,
   "metadata": {},
   "outputs": [
    {
     "data": {
      "text/plain": [
       "<matplotlib.collections.PathCollection at 0x7fe170fd5a90>"
      ]
     },
     "execution_count": 62,
     "metadata": {},
     "output_type": "execute_result"
    },
    {
     "data": {
      "image/png": "[encoded data removed]",
      "text/plain": [
       "<Figure size 432x288 with 1 Axes>"
      ]
     },
     "metadata": {},
     "output_type": "display_data"
    }
   ],
   "source": [
    "#Define a simple range of values for x and reshape so sklearn likes it.\n",
    "x = np.linspace(0,1,200)\n",
    "noise = np.random.normal(0,0.02, x.shape)\n",
    "x = x + noise\n",
    "y= (2 * np.sin(10*x) + np.cos(20 * x - 3) + 3 * np.log(10*x + 0.5) - 4)/6.\n",
    "noise = np.random.normal(0,0.1, x.shape)\n",
    "y = y + noise\n",
    "plt.scatter(x,y)"
   ]
  },
  {
   "cell_type": "code",
   "execution_count": 63,
   "metadata": {},
   "outputs": [
    {
     "data": {
      "text/plain": [
       "array([[-0.00991055, -1.40717325],\n",
       "       [ 0.02737668, -0.74771907],\n",
       "       [ 0.01946878, -0.97129452],\n",
       "       [ 0.00867568, -0.98125158],\n",
       "       [ 0.01324897, -1.05391649],\n",
       "       [ 0.03946103, -0.68774666],\n",
       "       [ 0.02080322, -0.89450953],\n",
       "       [ 0.05426569, -0.5534236 ],\n",
       "       [ 0.05967149, -0.57483046],\n",
       "       [ 0.02080375, -1.02704539],\n",
       "       [ 0.05583059, -0.39860016],\n",
       "       [ 0.04307968, -0.64114538],\n",
       "       [ 0.06049863, -0.35422355],\n",
       "       [ 0.07217035, -0.35962643],\n",
       "       [ 0.0768061 , -0.35293655],\n",
       "       [ 0.06784316, -0.56049492],\n",
       "       [ 0.11668318,  0.02686964],\n",
       "       [ 0.06009222, -0.38800095],\n",
       "       [ 0.09807187, -0.02989822],\n",
       "       [ 0.10133256, -0.04920258],\n",
       "       [ 0.08500236, -0.4798983 ],\n",
       "       [ 0.06060032, -0.43510772],\n",
       "       [ 0.14291708,  0.1832349 ],\n",
       "       [ 0.085059  , -0.37348452],\n",
       "       [ 0.10922761, -0.1524558 ],\n",
       "       [ 0.10235045, -0.03712246],\n",
       "       [ 0.13290411,  0.09266915],\n",
       "       [ 0.15795253,  0.16789766],\n",
       "       [ 0.14688357,  0.28755952],\n",
       "       [ 0.14730842,  0.08858169],\n",
       "       [ 0.14084911, -0.02233037],\n",
       "       [ 0.15185472,  0.08584099],\n",
       "       [ 0.18429982,  0.24372594],\n",
       "       [ 0.15773252,  0.21253405],\n",
       "       [ 0.19830561,  0.14004718],\n",
       "       [ 0.17759231,  0.32141235],\n",
       "       [ 0.17996131,  0.11769663],\n",
       "       [ 0.18731836,  0.29081276],\n",
       "       [ 0.19401494,  0.02514749],\n",
       "       [ 0.1952332 ,  0.11117415],\n",
       "       [ 0.18123149,  0.07000531],\n",
       "       [ 0.19955429,  0.07607392],\n",
       "       [ 0.18369079,  0.23873576],\n",
       "       [ 0.19145467,  0.12396023],\n",
       "       [ 0.24924176,  0.07748102],\n",
       "       [ 0.19356106,  0.08938736],\n",
       "       [ 0.25337236, -0.11517819],\n",
       "       [ 0.248656  , -0.10886312],\n",
       "       [ 0.24553072, -0.0718622 ],\n",
       "       [ 0.27067784, -0.11023487],\n",
       "       [ 0.22788336,  0.1127318 ],\n",
       "       [ 0.26002051, -0.03832289],\n",
       "       [ 0.27051068,  0.14550661],\n",
       "       [ 0.26547326,  0.05021172],\n",
       "       [ 0.2604705 , -0.13378472],\n",
       "       [ 0.27911279, -0.22221862],\n",
       "       [ 0.29586992, -0.09775972],\n",
       "       [ 0.27083085, -0.02160487],\n",
       "       [ 0.31498618, -0.21775038],\n",
       "       [ 0.32865443, -0.17837892],\n",
       "       [ 0.27883466, -0.10596332],\n",
       "       [ 0.31975268, -0.11709207],\n",
       "       [ 0.28672405, -0.05752151],\n",
       "       [ 0.33842678, -0.19270751],\n",
       "       [ 0.32036844, -0.03372792],\n",
       "       [ 0.31445458, -0.19503135],\n",
       "       [ 0.31885531, -0.10680432],\n",
       "       [ 0.30263509, -0.08350511],\n",
       "       [ 0.33531507, -0.179933  ],\n",
       "       [ 0.30883744, -0.28359809],\n",
       "       [ 0.37902033, -0.13696993],\n",
       "       [ 0.37702333, -0.17542856],\n",
       "       [ 0.3413014 , -0.18541115],\n",
       "       [ 0.37592532, -0.07738442],\n",
       "       [ 0.36665477, -0.29982794],\n",
       "       [ 0.37677991, -0.18925067],\n",
       "       [ 0.40210717, -0.08877583],\n",
       "       [ 0.37073461,  0.07290532],\n",
       "       [ 0.36883756, -0.23406318],\n",
       "       [ 0.37525089, -0.14906932],\n",
       "       [ 0.38282079,  0.03750673],\n",
       "       [ 0.35714329, -0.25963535],\n",
       "       [ 0.40354404, -0.1079124 ],\n",
       "       [ 0.41534267, -0.1487906 ],\n",
       "       [ 0.42066696,  0.05186361],\n",
       "       [ 0.42226146, -0.09579298],\n",
       "       [ 0.43930583,  0.0660054 ],\n",
       "       [ 0.3943118 , -0.00769393],\n",
       "       [ 0.4430086 , -0.11394049],\n",
       "       [ 0.41738208, -0.06914484],\n",
       "       [ 0.45458893,  0.08520718],\n",
       "       [ 0.47817752, -0.06883837],\n",
       "       [ 0.45657478,  0.11190635],\n",
       "       [ 0.49400455, -0.07852694],\n",
       "       [ 0.44463956, -0.17605736],\n",
       "       [ 0.48227356,  0.01872117],\n",
       "       [ 0.48030669,  0.00478381],\n",
       "       [ 0.44453674,  0.09180332],\n",
       "       [ 0.50514402, -0.10226267],\n",
       "       [ 0.47574526, -0.02330596],\n",
       "       [ 0.49105863, -0.04586798],\n",
       "       [ 0.49120481, -0.18727015],\n",
       "       [ 0.49398175,  0.00705662],\n",
       "       [ 0.52697145,  0.09086806],\n",
       "       [ 0.48612462, -0.07339861],\n",
       "       [ 0.54362964,  0.03148435],\n",
       "       [ 0.51698486, -0.00644743],\n",
       "       [ 0.53044133,  0.09805607],\n",
       "       [ 0.53955557, -0.1297314 ],\n",
       "       [ 0.53707106, -0.04605945],\n",
       "       [ 0.55860794, -0.04044151],\n",
       "       [ 0.56401925,  0.12871162],\n",
       "       [ 0.58460742,  0.07607606],\n",
       "       [ 0.56180992, -0.06118504],\n",
       "       [ 0.55617406, -0.21961514],\n",
       "       [ 0.54454706, -0.13140388],\n",
       "       [ 0.56186865,  0.05157734],\n",
       "       [ 0.55789185,  0.23695774],\n",
       "       [ 0.58708528,  0.16135244],\n",
       "       [ 0.58730493, -0.0328896 ],\n",
       "       [ 0.63592455,  0.02905201],\n",
       "       [ 0.60848772,  0.03738567],\n",
       "       [ 0.61156314,  0.0124663 ],\n",
       "       [ 0.58479609, -0.06531183],\n",
       "       [ 0.62719526,  0.12509809],\n",
       "       [ 0.62948129,  0.09082075],\n",
       "       [ 0.65217913,  0.18422601],\n",
       "       [ 0.62579687,  0.04890484],\n",
       "       [ 0.64984463,  0.19390679],\n",
       "       [ 0.68268954,  0.38925622],\n",
       "       [ 0.62859779,  0.12096419],\n",
       "       [ 0.6492606 , -0.1027679 ],\n",
       "       [ 0.68933924,  0.45365234],\n",
       "       [ 0.66758789,  0.21675093],\n",
       "       [ 0.66596993,  0.33258347],\n",
       "       [ 0.67764709,  0.464111  ],\n",
       "       [ 0.70457365,  0.52358866],\n",
       "       [ 0.68751232,  0.4096353 ],\n",
       "       [ 0.68120272,  0.34463525],\n",
       "       [ 0.70487473,  0.59800497],\n",
       "       [ 0.67495355,  0.201145  ],\n",
       "       [ 0.7033787 ,  0.48928915],\n",
       "       [ 0.72566965,  0.62023217],\n",
       "       [ 0.71655441,  0.61349164],\n",
       "       [ 0.70596346,  0.49690281],\n",
       "       [ 0.72517985,  0.81656302],\n",
       "       [ 0.73923666,  0.71237238],\n",
       "       [ 0.73864484,  0.80391694],\n",
       "       [ 0.74453286,  0.85485413],\n",
       "       [ 0.74454005,  0.87965658],\n",
       "       [ 0.74757977,  0.78271776],\n",
       "       [ 0.76997581,  1.00634325],\n",
       "       [ 0.76410211,  0.77421796],\n",
       "       [ 0.72701805,  0.75046008],\n",
       "       [ 0.77636764,  0.97803761],\n",
       "       [ 0.79988034,  0.93746393],\n",
       "       [ 0.80534624,  0.89336717],\n",
       "       [ 0.78352841,  0.88925262],\n",
       "       [ 0.81074477,  0.80198343],\n",
       "       [ 0.836458  ,  0.7064372 ],\n",
       "       [ 0.8008256 ,  0.69643366],\n",
       "       [ 0.81018598,  0.96857805],\n",
       "       [ 0.81332106,  0.97103679],\n",
       "       [ 0.84438966,  0.56457138],\n",
       "       [ 0.82986116,  1.00280911],\n",
       "       [ 0.85751069,  0.85109088],\n",
       "       [ 0.82200064,  0.91853305],\n",
       "       [ 0.87020713,  0.7717694 ],\n",
       "       [ 0.87190069,  0.58177617],\n",
       "       [ 0.84704389,  0.74042276],\n",
       "       [ 0.85424908,  0.79968203],\n",
       "       [ 0.80805037,  0.92027159],\n",
       "       [ 0.87500607,  0.52434996],\n",
       "       [ 0.89415162,  0.38179903],\n",
       "       [ 0.87401411,  0.60072783],\n",
       "       [ 0.86805234,  0.79727131],\n",
       "       [ 0.818387  ,  0.82665351],\n",
       "       [ 0.86025566,  0.57995149],\n",
       "       [ 0.94530362,  0.20564962],\n",
       "       [ 0.87448975,  0.6013647 ],\n",
       "       [ 0.89951808,  0.47107361],\n",
       "       [ 0.94133235,  0.41250817],\n",
       "       [ 0.91085424,  0.52729036],\n",
       "       [ 0.91936097,  0.39015798],\n",
       "       [ 0.92410312,  0.53169803],\n",
       "       [ 0.96583598,  0.17800242],\n",
       "       [ 1.0094153 ,  0.31049159],\n",
       "       [ 0.92362931,  0.42706716],\n",
       "       [ 0.95474063,  0.34854273],\n",
       "       [ 0.95012305,  0.22106316],\n",
       "       [ 0.96063905,  0.48548877],\n",
       "       [ 0.95205721,  0.37532693],\n",
       "       [ 0.99282236,  0.36292079],\n",
       "       [ 0.94048624,  0.39394636],\n",
       "       [ 0.98643063,  0.4483987 ],\n",
       "       [ 0.94309411,  0.12359361],\n",
       "       [ 0.98693162,  0.44433872],\n",
       "       [ 0.98623612,  0.13002504],\n",
       "       [ 0.94749687,  0.34132677],\n",
       "       [ 0.99426496,  0.28049636]])"
      ]
     },
     "execution_count": 63,
     "metadata": {},
     "output_type": "execute_result"
    }
   ],
   "source": [
    "inp  = np.c_[x,y]\n",
    "inp"
   ]
  },
  {
   "cell_type": "code",
   "execution_count": 106,
   "metadata": {},
   "outputs": [
    {
     "data": {
      "text/plain": [
       "(tensor([[0.0748],\n",
       "         [0.8558]], requires_grad=True),\n",
       " '\\n',\n",
       " tensor([0.], requires_grad=True))"
      ]
     },
     "execution_count": 106,
     "metadata": {},
     "output_type": "execute_result"
    }
   ],
   "source": [
    "X = torch.from_numpy(inp).type(torch.float32)\n",
    "X_ = torch.cat((X, torch.ones(X.shape[0], 1)), dim=1)\n",
    "\n",
    "W = torch.empty(2,1, requires_grad=True)\n",
    "b = torch.zeros(1, requires_grad=True)\n",
    "torch.nn.init.uniform_(W)\n",
    "\n",
    "alpha = 0.01\n",
    "optimizer = torch.optim.SGD(params=[W, b], lr=alpha)\n",
    "W, '\\n', b"
   ]
  },
  {
   "cell_type": "code",
   "execution_count": 166,
   "metadata": {},
   "outputs": [
    {
     "name": "stdout",
     "output_type": "stream",
     "text": [
      "loss =  tensor(0.0474, grad_fn=<MseLossBackward>)\n",
      "loss =  tensor(0.0474, grad_fn=<MseLossBackward>)\n",
      "loss =  tensor(0.0474, grad_fn=<MseLossBackward>)\n",
      "loss =  tensor(0.0474, grad_fn=<MseLossBackward>)\n",
      "loss =  tensor(0.0474, grad_fn=<MseLossBackward>)\n",
      "loss =  tensor(0.0474, grad_fn=<MseLossBackward>)\n",
      "loss =  tensor(0.0474, grad_fn=<MseLossBackward>)\n",
      "loss =  tensor(0.0474, grad_fn=<MseLossBackward>)\n",
      "loss =  tensor(0.0474, grad_fn=<MseLossBackward>)\n",
      "loss =  tensor(0.0474, grad_fn=<MseLossBackward>)\n"
     ]
    }
   ],
   "source": [
    "for i in range(1000):\n",
    "#     X = X.view((-1,2))\n",
    "    h = X.mm(W) + b\n",
    "#     W_ = torch.from_numpy(np.linalg.pinv(W.data.numpy()))\n",
    "    W_ = W.t()\n",
    "    X_ = h.mm(W_)\n",
    "    \n",
    "    optimizer.zero_grad()\n",
    "    loss = F.mse_loss(X_, X)\n",
    "    loss.backward()\n",
    "    optimizer.step()\n",
    "    \n",
    "    if i%100 == 0:\n",
    "        print('loss = ',loss)\n",
    "    "
   ]
  },
  {
   "cell_type": "code",
   "execution_count": 167,
   "metadata": {},
   "outputs": [
    {
     "data": {
      "text/plain": [
       "tensor([[0.8326],\n",
       "        [0.5539]], requires_grad=True)"
      ]
     },
     "execution_count": 167,
     "metadata": {},
     "output_type": "execute_result"
    }
   ],
   "source": [
    "W"
   ]
  },
  {
   "cell_type": "code",
   "execution_count": 168,
   "metadata": {},
   "outputs": [
    {
     "data": {
      "text/plain": [
       "tensor([7.4985e-07], requires_grad=True)"
      ]
     },
     "execution_count": 168,
     "metadata": {},
     "output_type": "execute_result"
    }
   ],
   "source": [
    "b"
   ]
  },
  {
   "cell_type": "code",
   "execution_count": 169,
   "metadata": {},
   "outputs": [
    {
     "data": {
      "text/plain": [
       "<matplotlib.collections.PathCollection at 0x7fe169fc9048>"
      ]
     },
     "execution_count": 169,
     "metadata": {},
     "output_type": "execute_result"
    },
    {
     "data": {
      "image/png": "[encoded data removed]",
      "text/plain": [
       "<Figure size 432x288 with 1 Axes>"
      ]
     },
     "metadata": {},
     "output_type": "display_data"
    }
   ],
   "source": [
    "plt.scatter(x, h.data.numpy())"
   ]
  },
  {
   "cell_type": "code",
   "execution_count": 170,
   "metadata": {},
   "outputs": [
    {
     "data": {
      "text/plain": [
       "tensor([1.5030], grad_fn=<DivBackward0>)"
      ]
     },
     "execution_count": 170,
     "metadata": {},
     "output_type": "execute_result"
    }
   ],
   "source": [
    "WW = W[0]/W[1]\n",
    "WW"
   ]
  },
  {
   "cell_type": "code",
   "execution_count": 171,
   "metadata": {},
   "outputs": [
    {
     "data": {
      "text/plain": [
       "tensor([1.3537e-06], grad_fn=<DivBackward0>)"
      ]
     },
     "execution_count": 171,
     "metadata": {},
     "output_type": "execute_result"
    }
   ],
   "source": [
    "bb = b/W[1]\n",
    "bb"
   ]
  },
  {
   "cell_type": "code",
   "execution_count": 172,
   "metadata": {},
   "outputs": [
    {
     "data": {
      "text/plain": [
       "<matplotlib.collections.PathCollection at 0x7fe169f5aa20>"
      ]
     },
     "execution_count": 172,
     "metadata": {},
     "output_type": "execute_result"
    },
    {
     "data": {
      "image/png": "[encoded data removed]",
      "text/plain": [
       "<Figure size 432x288 with 1 Axes>"
      ]
     },
     "metadata": {},
     "output_type": "display_data"
    }
   ],
   "source": [
    "# plt.plot((X.mm(W)+bb).data.numpy())  # same\n",
    "plt.scatter(x,h.data.numpy())"
   ]
  },
  {
   "cell_type": "code",
   "execution_count": 173,
   "metadata": {},
   "outputs": [
    {
     "data": {
      "text/plain": [
       "<matplotlib.collections.PathCollection at 0x7fe16a0a7be0>"
      ]
     },
     "execution_count": 173,
     "metadata": {},
     "output_type": "execute_result"
    },
    {
     "data": {
      "image/png": "[encoded data removed]",
      "text/plain": [
       "<Figure size 432x288 with 1 Axes>"
      ]
     },
     "metadata": {},
     "output_type": "display_data"
    }
   ],
   "source": [
    "yy=WW.data.numpy()*x + bb.data.numpy()\n",
    "# yy\n",
    "plt.scatter(x,y)\n",
    "plt.scatter(x,yy)"
   ]
  },
  {
   "cell_type": "code",
   "execution_count": 174,
   "metadata": {},
   "outputs": [
    {
     "name": "stdout",
     "output_type": "stream",
     "text": [
      "components tensor([[0.6931, 0.4612],\n",
      "        [0.4612, 0.3068]], grad_fn=<MmBackward>)\n"
     ]
    },
    {
     "data": {
      "image/png": "[encoded data removed]",
      "text/plain": [
       "<Figure size 432x288 with 1 Axes>"
      ]
     },
     "metadata": {},
     "output_type": "display_data"
    }
   ],
   "source": [
    "xxx = h.mm(W_)\n",
    "plt.scatter(x,y)\n",
    "plt.plot(xxx.data.numpy()[:,0],xxx.data.numpy()[:,1] )\n",
    "print('components', W.mm(W.t()))"
   ]
  },
  {
   "cell_type": "code",
   "execution_count": 177,
   "metadata": {},
   "outputs": [
    {
     "name": "stdout",
     "output_type": "stream",
     "text": [
      "[[-0.51794801 -0.8554121 ]]\n"
     ]
    }
   ],
   "source": [
    "from sklearn.decomposition import PCA\n",
    "pca = PCA(n_components=1)\n",
    "principalComponents = pca.fit_transform(inp)\n",
    "# plt.plot(principalComponents)\n",
    "print(pca.components_)"
   ]
  },
  {
   "cell_type": "code",
   "execution_count": 178,
   "metadata": {},
   "outputs": [
    {
     "data": {
      "text/plain": [
       "[<matplotlib.lines.Line2D at 0x7fe169e34a58>]"
      ]
     },
     "execution_count": 178,
     "metadata": {},
     "output_type": "execute_result"
    },
    {
     "data": {
      "image/png": "[encoded data removed]",
      "text/plain": [
       "<Figure size 432x288 with 1 Axes>"
      ]
     },
     "metadata": {},
     "output_type": "display_data"
    }
   ],
   "source": [
    "line = pca.inverse_transform(principalComponents)\n",
    "# plt.plot(line)\n",
    "plt.scatter(x,y)\n",
    "plt.plot(line[:, 0], line[:,1])"
   ]
  },
  {
   "cell_type": "code",
   "execution_count": null,
   "metadata": {},
   "outputs": [],
   "source": []
  }
 ],
 "metadata": {
  "kernelspec": {
   "display_name": "Python 3",
   "language": "python",
   "name": "python3"
  },
  "language_info": {
   "codemirror_mode": {
    "name": "ipython",
    "version": 3
   },
   "file_extension": ".py",
   "mimetype": "text/x-python",
   "name": "python",
   "nbconvert_exporter": "python",
   "pygments_lexer": "ipython3",
   "version": "3.6.7"
  }
 },
 "nbformat": 4,
 "nbformat_minor": 2
}
