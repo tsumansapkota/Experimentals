{
 "cells": [
  {
   "cell_type": "code",
   "execution_count": 1,
   "metadata": {},
   "outputs": [
    {
     "name": "stderr",
     "output_type": "stream",
     "text": [
      "/home/tsuman/Program_Files/miniconda3/lib/python3.6/site-packages/h5py/__init__.py:36: FutureWarning: Conversion of the second argument of issubdtype from `float` to `np.floating` is deprecated. In future, it will be treated as `np.float64 == np.dtype(float).type`.\n",
      "  from ._conv import register_converters as _register_converters\n"
     ]
    }
   ],
   "source": [
    "import numpy as np\n",
    "import tensorflow as tf\n",
    "import matplotlib.pyplot as plt\n",
    "%matplotlib inline"
   ]
  },
  {
   "cell_type": "code",
   "execution_count": 2,
   "metadata": {},
   "outputs": [],
   "source": [
    "from tensorflow.examples.tutorials.mnist import input_data"
   ]
  },
  {
   "cell_type": "code",
   "execution_count": 3,
   "metadata": {},
   "outputs": [
    {
     "name": "stdout",
     "output_type": "stream",
     "text": [
      "WARNING:tensorflow:From <ipython-input-3-b22782e32495>:1: read_data_sets (from tensorflow.contrib.learn.python.learn.datasets.mnist) is deprecated and will be removed in a future version.\n",
      "Instructions for updating:\n",
      "Please use alternatives such as official/mnist/dataset.py from tensorflow/models.\n",
      "WARNING:tensorflow:From /home/tsuman/Program_Files/miniconda3/lib/python3.6/site-packages/tensorflow/contrib/learn/python/learn/datasets/mnist.py:260: maybe_download (from tensorflow.contrib.learn.python.learn.datasets.base) is deprecated and will be removed in a future version.\n",
      "Instructions for updating:\n",
      "Please write your own downloading logic.\n",
      "WARNING:tensorflow:From /home/tsuman/Program_Files/miniconda3/lib/python3.6/site-packages/tensorflow/contrib/learn/python/learn/datasets/mnist.py:262: extract_images (from tensorflow.contrib.learn.python.learn.datasets.mnist) is deprecated and will be removed in a future version.\n",
      "Instructions for updating:\n",
      "Please use tf.data to implement this functionality.\n",
      "Extracting ../../Tensorflow-Bootcamp-master/03-Convolutional-Neural-Networks/MNIST_data/train-images-idx3-ubyte.gz\n",
      "WARNING:tensorflow:From /home/tsuman/Program_Files/miniconda3/lib/python3.6/site-packages/tensorflow/contrib/learn/python/learn/datasets/mnist.py:267: extract_labels (from tensorflow.contrib.learn.python.learn.datasets.mnist) is deprecated and will be removed in a future version.\n",
      "Instructions for updating:\n",
      "Please use tf.data to implement this functionality.\n",
      "Extracting ../../Tensorflow-Bootcamp-master/03-Convolutional-Neural-Networks/MNIST_data/train-labels-idx1-ubyte.gz\n",
      "WARNING:tensorflow:From /home/tsuman/Program_Files/miniconda3/lib/python3.6/site-packages/tensorflow/contrib/learn/python/learn/datasets/mnist.py:110: dense_to_one_hot (from tensorflow.contrib.learn.python.learn.datasets.mnist) is deprecated and will be removed in a future version.\n",
      "Instructions for updating:\n",
      "Please use tf.one_hot on tensors.\n",
      "Extracting ../../Tensorflow-Bootcamp-master/03-Convolutional-Neural-Networks/MNIST_data/t10k-images-idx3-ubyte.gz\n",
      "Extracting ../../Tensorflow-Bootcamp-master/03-Convolutional-Neural-Networks/MNIST_data/t10k-labels-idx1-ubyte.gz\n",
      "WARNING:tensorflow:From /home/tsuman/Program_Files/miniconda3/lib/python3.6/site-packages/tensorflow/contrib/learn/python/learn/datasets/mnist.py:290: DataSet.__init__ (from tensorflow.contrib.learn.python.learn.datasets.mnist) is deprecated and will be removed in a future version.\n",
      "Instructions for updating:\n",
      "Please use alternatives such as official/mnist/dataset.py from tensorflow/models.\n"
     ]
    }
   ],
   "source": [
    "mnist = input_data.read_data_sets(\"../../Tensorflow-Bootcamp-master/03-Convolutional-Neural-Networks/MNIST_data/\",one_hot=True)"
   ]
  },
  {
   "cell_type": "code",
   "execution_count": 4,
   "metadata": {},
   "outputs": [],
   "source": [
    "tf.reset_default_graph() "
   ]
  },
  {
   "cell_type": "code",
   "execution_count": 5,
   "metadata": {},
   "outputs": [],
   "source": [
    "# DEFINE parameters\n",
    "num_inputs = 10\n",
    "neurons_hid1 = 5\n",
    "neurons_hid2 = 3\n",
    "neurons_hid3 = 1\n",
    "\n",
    "learning_rate = 0.003"
   ]
  },
  {
   "cell_type": "code",
   "execution_count": 6,
   "metadata": {},
   "outputs": [],
   "source": [
    "# PINV(PSEUDO-INVERSE) function\n",
    "def pinv(a, rcond=1e-15):\n",
    "    s, u, v = tf.svd(a)\n",
    "    # Ignore singular values close to zero to prevent numerical overflow\n",
    "    limit = rcond * tf.reduce_max(s)\n",
    "    non_zero = tf.greater(s, limit)\n",
    "\n",
    "    reciprocal = tf.where(non_zero, tf.reciprocal(s), tf.zeros(s.shape))\n",
    "    lhs = tf.matmul(v, tf.diag(reciprocal))\n",
    "    return tf.matmul(lhs, u, transpose_b=True)"
   ]
  },
  {
   "cell_type": "code",
   "execution_count": 7,
   "metadata": {},
   "outputs": [],
   "source": [
    "# TRANSPOSE OR PINV\n",
    "tie_weight = tf.transpose #pinv"
   ]
  },
  {
   "cell_type": "code",
   "execution_count": 8,
   "metadata": {},
   "outputs": [],
   "source": [
    "## PLACEHOLDER DEFINATION\n",
    "X = tf.placeholder(tf.float32, shape=[None, num_inputs])"
   ]
  },
  {
   "cell_type": "code",
   "execution_count": 9,
   "metadata": {},
   "outputs": [],
   "source": [
    "## WEIGHTS DEFINATION\n",
    "initializer = tf.variance_scaling_initializer()\n",
    "\n",
    "w1 = tf.Variable(initializer([num_inputs, neurons_hid1]), dtype=tf.float32)\n",
    "w1_ = tie_weight(w1)"
   ]
  },
  {
   "cell_type": "code",
   "execution_count": 10,
   "metadata": {},
   "outputs": [
    {
     "data": {
      "text/plain": [
       "\"\\n## WEIGHTS DEFINATION\\ninitializer = tf.variance_scaling_initializer()\\n\\nw1 = tf.Variable(initializer([num_inputs, neurons_hid1]), dtype=tf.float32)\\n# w1 = tf.Variable(np.load('./save/weights/lw1.npy'))\\nw1_ = tie_weight(w1)\\n\\nw2 = tf.Variable(initializer([neurons_hid1, neurons_hid2]), dtype=tf.float32)\\nw2_ = tie_weight(w2)\\n\\n# LAYER MODELING OF :NN\\nhid_layer1 = act_func(tf.matmul(X, w1))\\n\\n# hid_layer2 = act_func(tf.matmul(hid_layer1, w2))\\n\\n# hid_layer1_= act_func(tf.matmul(hid_layer2, w2_))\\noutput_layer = (tf.matmul(hid_layer1, w1_))\\n\""
      ]
     },
     "execution_count": 10,
     "metadata": {},
     "output_type": "execute_result"
    }
   ],
   "source": [
    "'''\n",
    "## WEIGHTS DEFINATION\n",
    "initializer = tf.variance_scaling_initializer()\n",
    "\n",
    "w1 = tf.Variable(initializer([num_inputs, neurons_hid1]), dtype=tf.float32)\n",
    "# w1 = tf.Variable(np.load('./save/weights/lw1.npy'))\n",
    "w1_ = tie_weight(w1)\n",
    "\n",
    "w2 = tf.Variable(initializer([neurons_hid1, neurons_hid2]), dtype=tf.float32)\n",
    "w2_ = tie_weight(w2)\n",
    "\n",
    "# LAYER MODELING OF :NN\n",
    "hid_layer1 = act_func(tf.matmul(X, w1))\n",
    "\n",
    "# hid_layer2 = act_func(tf.matmul(hid_layer1, w2))\n",
    "\n",
    "# hid_layer1_= act_func(tf.matmul(hid_layer2, w2_))\n",
    "output_layer = (tf.matmul(hid_layer1, w1_))\n",
    "'''"
   ]
  },
  {
   "cell_type": "code",
   "execution_count": 28,
   "metadata": {},
   "outputs": [],
   "source": [
    "# ACTIVATION FUNCTION  [ lambda X:X  <OR>  tf.nn.relu  ]\n",
    "act_func = lambda X:X #tf.nn.relu"
   ]
  },
  {
   "cell_type": "code",
   "execution_count": 29,
   "metadata": {},
   "outputs": [],
   "source": [
    "# LAYER MODELING OF :NN\n",
    "hid_layer1 = act_func(tf.matmul(X, w1))\n",
    "output_layer = tf.nn.softmax(tf.matmul(hid_layer1, w1_))"
   ]
  },
  {
   "cell_type": "code",
   "execution_count": 30,
   "metadata": {},
   "outputs": [],
   "source": [
    "# LOSS FUNCTIONS\n",
    "# loss = tf.reduce_mean(tf.square(output_layer - X))\n",
    "# loss = tf.reduce_mean(tf.abs(output_layer - X))\n",
    "loss = tf.reduce_mean(tf.nn.softmax_cross_entropy_with_logits(labels=X,logits=output_layer))"
   ]
  },
  {
   "cell_type": "code",
   "execution_count": 31,
   "metadata": {},
   "outputs": [],
   "source": [
    "# TRAINING\n",
    "optimizer = tf.train.AdamOptimizer(learning_rate)\n",
    "train = optimizer.minimize(loss, var_list=[w1])"
   ]
  },
  {
   "cell_type": "code",
   "execution_count": 32,
   "metadata": {},
   "outputs": [],
   "source": [
    "# PREPARATION\n",
    "init = tf.global_variables_initializer()\n",
    "saver = tf.train.Saver() "
   ]
  },
  {
   "cell_type": "code",
   "execution_count": 33,
   "metadata": {},
   "outputs": [
    {
     "name": "stdout",
     "output_type": "stream",
     "text": [
      "Epoch 0 Complete. Training Loss: 1.4862391948699951\n",
      "Epoch 1 Complete. Training Loss: 1.4661521911621094\n",
      "Epoch 2 Complete. Training Loss: 1.463252067565918\n",
      "Epoch 3 Complete. Training Loss: 1.4623050689697266\n",
      "Epoch 4 Complete. Training Loss: 1.4618703126907349\n",
      "Epoch 5 Complete. Training Loss: 1.4616217613220215\n",
      "Epoch 6 Complete. Training Loss: 1.4614803791046143\n",
      "Epoch 7 Complete. Training Loss: 1.4613920450210571\n",
      "Epoch 8 Complete. Training Loss: 1.4613291025161743\n",
      "Epoch 9 Complete. Training Loss: 1.461286187171936\n",
      "Epoch 10 Complete. Training Loss: 1.4612547159194946\n",
      "Epoch 11 Complete. Training Loss: 1.4612308740615845\n",
      "Epoch 12 Complete. Training Loss: 1.461213231086731\n",
      "Epoch 13 Complete. Training Loss: 1.4611997604370117\n",
      "Epoch 14 Complete. Training Loss: 1.4611907005310059\n",
      "Epoch 15 Complete. Training Loss: 1.461181402206421\n",
      "Epoch 16 Complete. Training Loss: 1.4611760377883911\n",
      "Epoch 17 Complete. Training Loss: 1.4611706733703613\n",
      "Epoch 18 Complete. Training Loss: 1.461166501045227\n",
      "Epoch 19 Complete. Training Loss: 1.4611632823944092\n",
      "Epoch 20 Complete. Training Loss: 1.4611608982086182\n",
      "Epoch 21 Complete. Training Loss: 1.4611588716506958\n",
      "Epoch 22 Complete. Training Loss: 1.461157202720642\n",
      "Epoch 23 Complete. Training Loss: 1.4611557722091675\n",
      "Epoch 24 Complete. Training Loss: 1.4611549377441406\n",
      "Epoch 25 Complete. Training Loss: 1.4611539840698242\n",
      "Epoch 26 Complete. Training Loss: 1.461153268814087\n",
      "Epoch 27 Complete. Training Loss: 1.4611526727676392\n",
      "Epoch 28 Complete. Training Loss: 1.4611523151397705\n",
      "Epoch 29 Complete. Training Loss: 1.4611518383026123\n",
      "Epoch 30 Complete. Training Loss: 1.4611514806747437\n",
      "Epoch 31 Complete. Training Loss: 1.461151361465454\n",
      "Epoch 32 Complete. Training Loss: 1.461151123046875\n",
      "Epoch 33 Complete. Training Loss: 1.461150884628296\n",
      "Epoch 34 Complete. Training Loss: 1.461150884628296\n",
      "Epoch 35 Complete. Training Loss: 1.4611507654190063\n",
      "Epoch 36 Complete. Training Loss: 1.4611506462097168\n",
      "Epoch 37 Complete. Training Loss: 1.4611506462097168\n",
      "Epoch 38 Complete. Training Loss: 1.4611506462097168\n",
      "Epoch 39 Complete. Training Loss: 1.4611506462097168\n",
      "Epoch 40 Complete. Training Loss: 1.4611504077911377\n",
      "Epoch 41 Complete. Training Loss: 1.4611504077911377\n",
      "Epoch 42 Complete. Training Loss: 1.4611504077911377\n",
      "Epoch 43 Complete. Training Loss: 1.4611504077911377\n",
      "Epoch 44 Complete. Training Loss: 1.4611504077911377\n",
      "Epoch 45 Complete. Training Loss: 1.4611504077911377\n",
      "Epoch 46 Complete. Training Loss: 1.4611501693725586\n",
      "Epoch 47 Complete. Training Loss: 1.4611501693725586\n",
      "Epoch 48 Complete. Training Loss: 1.461150050163269\n",
      "Epoch 49 Complete. Training Loss: 1.461150050163269\n",
      "Epoch 50 Complete. Training Loss: 1.461150050163269\n",
      "Epoch 51 Complete. Training Loss: 1.461150050163269\n",
      "Epoch 52 Complete. Training Loss: 1.461150050163269\n",
      "Epoch 53 Complete. Training Loss: 1.461150050163269\n",
      "Epoch 54 Complete. Training Loss: 1.461150050163269\n",
      "Epoch 55 Complete. Training Loss: 1.461150050163269\n",
      "Epoch 56 Complete. Training Loss: 1.461150050163269\n",
      "Epoch 57 Complete. Training Loss: 1.461150050163269\n",
      "Epoch 58 Complete. Training Loss: 1.461150050163269\n",
      "Epoch 59 Complete. Training Loss: 1.461150050163269\n",
      "Epoch 60 Complete. Training Loss: 1.461150050163269\n",
      "Epoch 61 Complete. Training Loss: 1.461150050163269\n",
      "Epoch 62 Complete. Training Loss: 1.461150050163269\n",
      "Epoch 63 Complete. Training Loss: 1.461150050163269\n",
      "Epoch 64 Complete. Training Loss: 1.461150050163269\n",
      "Epoch 65 Complete. Training Loss: 1.461150050163269\n",
      "Epoch 66 Complete. Training Loss: 1.461150050163269\n",
      "Epoch 67 Complete. Training Loss: 1.461150050163269\n",
      "Epoch 68 Complete. Training Loss: 1.461150050163269\n",
      "Epoch 69 Complete. Training Loss: 1.461150050163269\n",
      "Epoch 70 Complete. Training Loss: 1.461150050163269\n",
      "Epoch 71 Complete. Training Loss: 1.461150050163269\n",
      "Epoch 72 Complete. Training Loss: 1.461150050163269\n",
      "Epoch 73 Complete. Training Loss: 1.461150050163269\n",
      "Epoch 74 Complete. Training Loss: 1.461150050163269\n",
      "Epoch 75 Complete. Training Loss: 1.461150050163269\n",
      "Epoch 76 Complete. Training Loss: 1.461150050163269\n",
      "Epoch 77 Complete. Training Loss: 1.461150050163269\n",
      "Epoch 78 Complete. Training Loss: 1.461150050163269\n",
      "Epoch 79 Complete. Training Loss: 1.461150050163269\n",
      "Epoch 80 Complete. Training Loss: 1.461150050163269\n",
      "Epoch 81 Complete. Training Loss: 1.461150050163269\n",
      "Epoch 82 Complete. Training Loss: 1.461150050163269\n",
      "Epoch 83 Complete. Training Loss: 1.461150050163269\n",
      "Epoch 84 Complete. Training Loss: 1.461150050163269\n",
      "Epoch 85 Complete. Training Loss: 1.461150050163269\n",
      "Epoch 86 Complete. Training Loss: 1.461150050163269\n",
      "Epoch 87 Complete. Training Loss: 1.461150050163269\n",
      "Epoch 88 Complete. Training Loss: 1.461150050163269\n",
      "Epoch 89 Complete. Training Loss: 1.461150050163269\n",
      "Epoch 90 Complete. Training Loss: 1.461150050163269\n",
      "Epoch 91 Complete. Training Loss: 1.461150050163269\n",
      "Epoch 92 Complete. Training Loss: 1.461150050163269\n",
      "Epoch 93 Complete. Training Loss: 1.461150050163269\n",
      "Epoch 94 Complete. Training Loss: 1.461150050163269\n",
      "Epoch 95 Complete. Training Loss: 1.461150050163269\n",
      "Epoch 96 Complete. Training Loss: 1.461150050163269\n",
      "Epoch 97 Complete. Training Loss: 1.461150050163269\n",
      "Epoch 98 Complete. Training Loss: 1.461150050163269\n",
      "Epoch 99 Complete. Training Loss: 1.461150050163269\n",
      "Finished Training the Model\n"
     ]
    }
   ],
   "source": [
    "num_epochs = 100\n",
    "batch_size = 150\n",
    "\n",
    "try:\n",
    "    with tf.Session() as sess:\n",
    "        sess.run(init)\n",
    "\n",
    "        # Epoch == Entire Training Set\n",
    "        for epoch in range(num_epochs):\n",
    "            num_batches = mnist.train.num_examples // batch_size\n",
    "\n",
    "            # 150 batch size\n",
    "            for iteration in range(num_batches):\n",
    "                X_batch, y_batch = mnist.train.next_batch(batch_size)\n",
    "                sess.run(train, feed_dict={X: y_batch})\n",
    "\n",
    "            training_loss = loss.eval(feed_dict={X: y_batch})   \n",
    "            print(\"Epoch {} Complete. Training Loss: {}\".format(epoch,training_loss))\n",
    "            saver.save(sess, \"./save/label_ae_3.ckpt\")\n",
    "            \n",
    "            \n",
    "            \n",
    "except KeyboardInterrupt:\n",
    "    print('Keyboard Interrupted')\n",
    "finally:\n",
    "    print('Finished Training the Model')"
   ]
  },
  {
   "cell_type": "code",
   "execution_count": 34,
   "metadata": {},
   "outputs": [
    {
     "name": "stdout",
     "output_type": "stream",
     "text": [
      "INFO:tensorflow:Restoring parameters from ./save/label_ae_3.ckpt\n"
     ]
    }
   ],
   "source": [
    "num_test_labels = 10\n",
    "start_point = 15\n",
    "with tf.Session() as sess:\n",
    "    \n",
    "    saver.restore(sess,\"./save/label_ae_3.ckpt\")\n",
    "    \n",
    "    results,compressed = sess.run([output_layer, hid_layer1],\n",
    "                                  feed_dict={X:mnist.test.labels[start_point:num_test_labels+start_point]})\n",
    "    weight1 = w1.eval()"
   ]
  },
  {
   "cell_type": "code",
   "execution_count": 35,
   "metadata": {},
   "outputs": [
    {
     "data": {
      "text/plain": [
       "(10, 10)"
      ]
     },
     "execution_count": 35,
     "metadata": {},
     "output_type": "execute_result"
    }
   ],
   "source": [
    "results.shape"
   ]
  },
  {
   "cell_type": "code",
   "execution_count": 36,
   "metadata": {},
   "outputs": [
    {
     "name": "stdout",
     "output_type": "stream",
     "text": [
      "[0. 0. 0. 0. 0. 1. 0. 0. 0. 0.]\n",
      "[0. 0. 0. 0. 0. 1. 0. 0. 0. 0.]\n",
      "[0. 0. 0. 0. 0. 0. 0. 0. 0. 1.]\n",
      "[0. 0. 0. 0. 0. 0. 0. 0. 0. 1.]\n",
      "[0. 0. 0. 0. 0. 0. 0. 1. 0. 0.]\n",
      "[0. 0. 0. 0. 0. 0. 0. 1. 0. 0.]\n",
      "[0. 0. 0. 1. 0. 0. 0. 0. 0. 0.]\n",
      "[0. 0. 0. 1. 0. 0. 0. 0. 0. 0.]\n",
      "[0. 0. 0. 0. 1. 0. 0. 0. 0. 0.]\n",
      "[0. 0. 0. 0. 1. 0. 0. 0. 0. 0.]\n",
      "[0. 0. 0. 0. 0. 0. 0. 0. 0. 1.]\n",
      "[0. 0. 0. 0. 0. 0. 0. 0. 0. 1.]\n",
      "[0. 0. 0. 0. 0. 0. 1. 0. 0. 0.]\n",
      "[0. 0. 0. 0. 0. 0. 1. 0. 0. 0.]\n",
      "[0. 0. 0. 0. 0. 0. 1. 0. 0. 0.]\n",
      "[0. 0. 0. 0. 0. 0. 1. 0. 0. 0.]\n",
      "[0. 0. 0. 0. 0. 1. 0. 0. 0. 0.]\n",
      "[0. 0. 0. 0. 0. 1. 0. 0. 0. 0.]\n",
      "[0. 0. 0. 0. 1. 0. 0. 0. 0. 0.]\n",
      "[0. 0. 0. 0. 1. 0. 0. 0. 0. 0.]\n"
     ]
    },
    {
     "data": {
      "image/png": "[encoded data removed]",
      "text/plain": [
       "<Figure size 1440x288 with 20 Axes>"
      ]
     },
     "metadata": {},
     "output_type": "display_data"
    }
   ],
   "source": [
    "# ORIGINAL VS RECONSTRUCTED\n",
    "f, a = plt.subplots(2, num_test_labels, figsize=(20, 4))\n",
    "for i in range(start_point,num_test_labels+start_point):\n",
    "    j = i-start_point\n",
    "    a[0][j].imshow(np.reshape(mnist.test.labels[i], (10, 1)))\n",
    "    a[1][j].imshow(np.reshape(results[j], (10, 1)))\n",
    "    print(mnist.test.labels[i])\n",
    "    np.set_printoptions(precision=4, suppress=True)\n",
    "    print(results[j])"
   ]
  },
  {
   "cell_type": "code",
   "execution_count": 38,
   "metadata": {},
   "outputs": [
    {
     "data": {
      "text/plain": [
       "array([[ 0.6009, -2.3916, -0.7849,  2.6548,  2.2748],\n",
       "       [ 2.2848,  1.2325,  1.6521,  2.5497, -1.7147],\n",
       "       [-0.597 ,  2.3952,  0.7842, -2.6543, -2.2742],\n",
       "       [-2.2769, -1.2249, -1.6487, -2.5467,  1.7102],\n",
       "       [ 2.5635, -1.9363,  1.7633, -2.1952,  0.4541],\n",
       "       [ 0.9431, -1.7221, -2.7217, -0.1498, -2.829 ],\n",
       "       [-2.5615,  1.942 , -1.7637,  2.195 , -0.4556],\n",
       "       [ 2.3994,  2.2183, -2.264 , -0.6344,  1.6576],\n",
       "       [-2.3946, -2.2115,  2.2628,  0.6323, -1.6581],\n",
       "       [-0.9423,  1.733 ,  2.7275,  0.1485,  2.8345]], dtype=float32)"
      ]
     },
     "execution_count": 38,
     "metadata": {},
     "output_type": "execute_result"
    }
   ],
   "source": [
    "weight1"
   ]
  },
  {
   "cell_type": "code",
   "execution_count": 39,
   "metadata": {},
   "outputs": [
    {
     "name": "stdout",
     "output_type": "stream",
     "text": [
      "(10, 5)\n"
     ]
    }
   ],
   "source": [
    "print(weight1.shape)\n",
    "np.save('./save/weights/lw1.npy',weight1)\n",
    "#wt1 = np.load('./save/weights/w1.npy')"
   ]
  },
  {
   "cell_type": "code",
   "execution_count": null,
   "metadata": {},
   "outputs": [],
   "source": []
  }
 ],
 "metadata": {
  "kernelspec": {
   "display_name": "Python 3",
   "language": "python",
   "name": "python3"
  },
  "language_info": {
   "codemirror_mode": {
    "name": "ipython",
    "version": 3
   },
   "file_extension": ".py",
   "mimetype": "text/x-python",
   "name": "python",
   "nbconvert_exporter": "python",
   "pygments_lexer": "ipython3",
   "version": "3.6.4"
  }
 },
 "nbformat": 4,
 "nbformat_minor": 2
}
