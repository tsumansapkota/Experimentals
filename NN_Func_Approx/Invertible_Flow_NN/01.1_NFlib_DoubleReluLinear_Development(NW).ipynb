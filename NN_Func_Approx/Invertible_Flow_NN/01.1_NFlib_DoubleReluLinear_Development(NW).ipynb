{
 "cells": [
  {
   "cell_type": "code",
   "execution_count": 1,
   "metadata": {},
   "outputs": [],
   "source": [
    "import numpy as np\n",
    "import matplotlib.pyplot as plt\n",
    "%matplotlib inline\n",
    "\n",
    "import torch\n",
    "import torch.nn as nn\n",
    "import torch.optim as optim"
   ]
  },
  {
   "cell_type": "code",
   "execution_count": 2,
   "metadata": {},
   "outputs": [],
   "source": [
    "from nflib.flows import SequentialFlow, NormalizingFlow, ActNorm, AffineConstantFlow, LinearFlow\n",
    "from nflib.coupling_flows import AffineHalfFlow, MLP_Generator, DimensionMixer\n",
    "from nflib.doublerelu_flow import DoubleReluLinearFlow"
   ]
  },
  {
   "cell_type": "code",
   "execution_count": 3,
   "metadata": {},
   "outputs": [],
   "source": [
    "from torch import distributions\n",
    "from torch.distributions import MultivariateNormal, Uniform, TransformedDistribution, SigmoidTransform"
   ]
  },
  {
   "cell_type": "code",
   "execution_count": 4,
   "metadata": {},
   "outputs": [
    {
     "data": {
      "image/png": "[encoded data removed]",
      "text/plain": [
       "<Figure size 288x288 with 1 Axes>"
      ]
     },
     "metadata": {
      "needs_background": "light"
     },
     "output_type": "display_data"
    }
   ],
   "source": [
    "# Lightweight datasets\n",
    "import pickle\n",
    "from sklearn import datasets\n",
    "\n",
    "class DatasetMoons:\n",
    "    \"\"\" two half-moons \"\"\"\n",
    "    def sample(self, n):\n",
    "        moons = datasets.make_moons(n_samples=n, noise=0.05)[0].astype(np.float32)\n",
    "        return torch.from_numpy(moons)\n",
    "\n",
    "class DatasetMixture:\n",
    "    \"\"\" 4 mixture of gaussians \"\"\"\n",
    "    def sample(self, n):\n",
    "        assert n%4 == 0\n",
    "        r = np.r_[np.random.randn(n // 4, 2)*0.5 + np.array([0, -2]),\n",
    "                  np.random.randn(n // 4, 2)*0.5 + np.array([0, 0]),\n",
    "                  np.random.randn(n // 4, 2)*0.5 + np.array([2, 2]),\n",
    "                  np.random.randn(n // 4, 2)*0.5 + np.array([-2, 2])]\n",
    "        return torch.from_numpy(r.astype(np.float32))\n",
    "\n",
    "d = DatasetMoons()\n",
    "#d = DatasetMixture()\n",
    "#d = DatasetSIGGRAPH()\n",
    "\n",
    "x = d.sample(128)\n",
    "plt.figure(figsize=(4,4))\n",
    "plt.scatter(x[:,0], x[:,1], s=5, alpha=0.5)\n",
    "plt.axis('equal');"
   ]
  },
  {
   "cell_type": "code",
   "execution_count": 5,
   "metadata": {},
   "outputs": [],
   "source": [
    "prior = MultivariateNormal(torch.zeros(2), torch.eye(2))\n",
    "\n",
    "flows = [\n",
    "#     LinearFlow(2, identity_init=False),\n",
    "    *[DoubleReluLinearFlow(2, identity_init=False) for _ in range(1)],\n",
    "]\n",
    "\n",
    "model = NormalizingFlow(flows, prior)"
   ]
  },
  {
   "cell_type": "code",
   "execution_count": 6,
   "metadata": {},
   "outputs": [
    {
     "data": {
      "text/plain": [
       "NormalizingFlow(\n",
       "  (flow): SequentialFlow(\n",
       "    (flows): ModuleList(\n",
       "      (0): DoubleReluLinearFlow()\n",
       "    )\n",
       "  )\n",
       ")"
      ]
     },
     "execution_count": 6,
     "metadata": {},
     "output_type": "execute_result"
    }
   ],
   "source": [
    "model"
   ]
  },
  {
   "cell_type": "code",
   "execution_count": 7,
   "metadata": {},
   "outputs": [
    {
     "data": {
      "image/png": "[encoded data removed]",
      "text/plain": [
       "<Figure size 432x288 with 1 Axes>"
      ]
     },
     "metadata": {
      "needs_background": "light"
     },
     "output_type": "display_data"
    }
   ],
   "source": [
    "x = d.sample(128)\n",
    "z = model.flow(x, False)\n",
    "z = z.data.detach()\n",
    "plt.scatter(z[:,0], z[:,1], s=5, alpha=0.5)\n",
    "plt.scatter(x[:,0], x[:,1], s=5, alpha=0.5)\n",
    "plt.axis('equal');"
   ]
  },
  {
   "cell_type": "code",
   "execution_count": 8,
   "metadata": {},
   "outputs": [
    {
     "data": {
      "text/plain": [
       "tensor([-5.2212,     nan, -5.2212,     nan,     nan,     nan,     nan, -5.2212,\n",
       "        -5.2212,     nan, -5.2212,     nan,     nan,     nan,     nan,     nan,\n",
       "        -5.2212,     nan,     nan,     nan, -5.2212, -5.2212,     nan,     nan,\n",
       "        -5.2212,     nan,     nan,     nan,     nan,     nan,     nan,     nan,\n",
       "            nan, -5.2212,     nan, -5.2212, -5.2212,     nan,     nan,     nan,\n",
       "            nan,     nan,     nan,     nan,     nan,     nan,     nan,     nan,\n",
       "            nan,     nan,     nan,     nan,     nan,     nan,     nan, -5.2212,\n",
       "        -5.2212,     nan,     nan,     nan,     nan,     nan,     nan,     nan,\n",
       "            nan, -5.2212, -5.2212,     nan,     nan,     nan,     nan, -5.2212,\n",
       "            nan, -5.2212, -5.2212,     nan, -5.2212,     nan,     nan,     nan,\n",
       "            nan,     nan, -5.2212,     nan, -5.2212,     nan, -5.2212,     nan,\n",
       "        -5.2212,     nan,     nan,     nan,     nan,     nan, -5.2212,     nan,\n",
       "            nan,     nan,     nan,     nan,     nan,     nan,     nan,     nan,\n",
       "            nan,     nan,     nan,     nan,     nan,     nan,     nan, -5.2212,\n",
       "        -5.2212,     nan, -5.2212,     nan,     nan,     nan,     nan,     nan,\n",
       "            nan, -5.2212, -5.2212,     nan, -5.2212, -5.2212,     nan, -5.2212],\n",
       "       grad_fn=<AddBackward0>)"
      ]
     },
     "execution_count": 8,
     "metadata": {},
     "output_type": "execute_result"
    }
   ],
   "source": [
    "model.flow(x, True)[1]"
   ]
  },
  {
   "cell_type": "code",
   "execution_count": 9,
   "metadata": {},
   "outputs": [
    {
     "data": {
      "text/plain": [
       "tensor([[0.0193, 0.0828],\n",
       "        [0.2811, 0.4790],\n",
       "        [0.1769, 0.2822],\n",
       "        [0.2084, 0.1766]])"
      ]
     },
     "execution_count": 9,
     "metadata": {},
     "output_type": "execute_result"
    }
   ],
   "source": [
    "model.flow.flows[0].weight.data"
   ]
  },
  {
   "cell_type": "code",
   "execution_count": 44,
   "metadata": {},
   "outputs": [
    {
     "data": {
      "text/plain": [
       "tensor(0.2701)"
      ]
     },
     "execution_count": 44,
     "metadata": {},
     "output_type": "execute_result"
    }
   ],
   "source": [
    "torch.det(torch.randn(4,4).abs())"
   ]
  },
  {
   "cell_type": "code",
   "execution_count": 10,
   "metadata": {},
   "outputs": [
    {
     "ename": "NameError",
     "evalue": "name 'adasd' is not defined",
     "output_type": "error",
     "traceback": [
      "\u001b[0;31m---------------------------------------------------------------------------\u001b[0m",
      "\u001b[0;31mNameError\u001b[0m                                 Traceback (most recent call last)",
      "\u001b[0;32m<ipython-input-10-478466adb0d3>\u001b[0m in \u001b[0;36m<module>\u001b[0;34m()\u001b[0m\n\u001b[0;32m----> 1\u001b[0;31m \u001b[0madasd\u001b[0m\u001b[0;34m\u001b[0m\u001b[0;34m\u001b[0m\u001b[0m\n\u001b[0m",
      "\u001b[0;31mNameError\u001b[0m: name 'adasd' is not defined"
     ]
    }
   ],
   "source": [
    "adasd"
   ]
  },
  {
   "cell_type": "code",
   "execution_count": null,
   "metadata": {},
   "outputs": [],
   "source": [
    "# model.flow.flows[0].bias"
   ]
  },
  {
   "cell_type": "code",
   "execution_count": null,
   "metadata": {},
   "outputs": [],
   "source": [
    "optimizer = optim.Adam(model.parameters(), lr=0.0003, weight_decay=1e-5) # todo tune WD\n",
    "print(\"number of params: \", sum(p.numel() for p in model.parameters()))"
   ]
  },
  {
   "cell_type": "code",
   "execution_count": null,
   "metadata": {},
   "outputs": [],
   "source": [
    "model.train()\n",
    "for k in range(1000*1+1):\n",
    "    x = d.sample(128)\n",
    "    \n",
    "    z, logDetJ, prior_logP = model(x, True)\n",
    "    loss = -torch.mean(prior_logP + logDetJ) # NLL\n",
    "\n",
    "    model.zero_grad()\n",
    "    loss.backward()\n",
    "    optimizer.step()\n",
    "\n",
    "    if k % 100 == 0:\n",
    "        print(k, loss.item())"
   ]
  },
  {
   "cell_type": "code",
   "execution_count": null,
   "metadata": {},
   "outputs": [],
   "source": [
    "model.eval()\n",
    "\n",
    "x = d.sample(128)\n",
    "z, logDetJ, prior_logP = model(x, True)\n",
    "\n",
    "x = x.detach().numpy()\n",
    "z = z.detach().numpy()\n",
    "p = model.prior.sample((128,))\n",
    "plt.figure(figsize=(10,5))\n",
    "plt.subplot(121)\n",
    "plt.scatter(p[:,0], p[:,1], c='g', s=5)\n",
    "plt.scatter(z[:,0], z[:,1], c='r', s=5)\n",
    "plt.scatter(x[:,0], x[:,1], c='b', s=5)\n",
    "plt.legend(['prior', 'x->z', 'data'])\n",
    "plt.axis('scaled')\n",
    "plt.title('x -> z')\n",
    "\n",
    "z = model.sample(128*8)\n",
    "z = z.detach().numpy()\n",
    "plt.subplot(122)\n",
    "plt.scatter(x[:,0], x[:,1], c='b', s=5, alpha=0.5)\n",
    "plt.scatter(z[:,0], z[:,1], c='r', s=5, alpha=0.5)\n",
    "plt.legend(['data', 'z->x'])\n",
    "plt.axis('scaled')\n",
    "plt.title('z -> x')"
   ]
  },
  {
   "cell_type": "code",
   "execution_count": null,
   "metadata": {},
   "outputs": [],
   "source": [
    "# Visualize the step-wise flow in the full net\n",
    "from matplotlib import collections  as mc\n",
    "\n",
    "# plot the coordinate warp\n",
    "ng = 20\n",
    "xx, yy = np.linspace(-3, 3, ng), np.linspace(-3, 3, ng)\n",
    "xv, yv = np.meshgrid(xx, yy)\n",
    "xy = np.stack([xv, yv], axis=-1)\n",
    "in_circle = np.sqrt((xy**2).sum(axis=2)) <= 3 # seems appropriate since we use radial distributions as priors\n",
    "xy = xy.reshape((ng*ng, 2))\n",
    "xy = torch.from_numpy(xy.astype(np.float32))\n",
    "\n",
    "zs, log_det = model.inverse(xy, True, intermediate=True)\n",
    "\n",
    "backward_flow_names = [type(f).__name__ for f in model.flow.flows[::-1]]\n",
    "nz = len(zs)\n",
    "for i in range(nz - 1):\n",
    "    z0 = zs[i].detach().numpy()\n",
    "    z1 = zs[i+1].detach().numpy()\n",
    "    \n",
    "    # plot how the samples travel at this stage\n",
    "    figs, axs = plt.subplots(1, 2, figsize=(6, 3))\n",
    "    #plt.figure(figsize=(20,10))\n",
    "    axs[0].scatter(z0[:,0], z0[:, 1], c='r', s=3)\n",
    "    axs[0].scatter(z1[:,0], z1[:, 1], c='b', s=3)\n",
    "    axs[0].quiver(z0[:,0], z0[:,1], z1[:,0] - z0[:,0], z1[:,1] - z0[:,1], units='xy', scale=1, alpha=0.5)\n",
    "    axs[0].axis([-3, 3, -3, 3])\n",
    "    axs[0].set_title(\"layer %d -> %d (%s)\" % (i, i+1, backward_flow_names[i]))\n",
    "    \n",
    "    q = z1.reshape((ng, ng, 2))\n",
    "    # y coords\n",
    "    p1 = np.reshape(q[1:,:,:], (ng**2-ng,2))\n",
    "    p2 = np.reshape(q[:-1,:,:], (ng**2-ng,2))\n",
    "    inc = np.reshape(in_circle[1:,:] | in_circle[:-1,:], (ng**2-ng,))\n",
    "    p1, p2 = p1[inc], p2[inc]\n",
    "    lcy = mc.LineCollection(zip(p1, p2), linewidths=1, alpha=0.5, color='k')\n",
    "    # x coords\n",
    "    p1 = np.reshape(q[:,1:,:], (ng**2-ng,2))\n",
    "    p2 = np.reshape(q[:,:-1,:], (ng**2-ng,2))\n",
    "    inc = np.reshape(in_circle[:,1:] | in_circle[:,:-1], (ng**2-ng,))\n",
    "    p1, p2 = p1[inc], p2[inc]\n",
    "    lcx = mc.LineCollection(zip(p1, p2), linewidths=1, alpha=0.5, color='k')\n",
    "    # draw the lines\n",
    "    axs[1].add_collection(lcy)\n",
    "    axs[1].add_collection(lcx)\n",
    "    axs[1].axis([-3, 3, -3, 3])\n",
    "    axs[1].set_title(\"grid warp at the end of %d\" % (i+1,))\n",
    "    \n",
    "    # draw the data too\n",
    "    plt.scatter(x[:,0], x[:,1], c='r', s=5, alpha=0.5)"
   ]
  },
  {
   "cell_type": "code",
   "execution_count": null,
   "metadata": {},
   "outputs": [],
   "source": []
  }
 ],
 "metadata": {
  "kernelspec": {
   "display_name": "Python 3",
   "language": "python",
   "name": "python3"
  },
  "language_info": {
   "codemirror_mode": {
    "name": "ipython",
    "version": 3
   },
   "file_extension": ".py",
   "mimetype": "text/x-python",
   "name": "python",
   "nbconvert_exporter": "python",
   "pygments_lexer": "ipython3",
   "version": "3.7.4"
  }
 },
 "nbformat": 4,
 "nbformat_minor": 4
}
