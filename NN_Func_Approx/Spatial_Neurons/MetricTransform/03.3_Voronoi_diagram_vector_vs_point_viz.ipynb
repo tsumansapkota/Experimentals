{
 "cells": [
  {
   "cell_type": "code",
   "execution_count": 406,
   "metadata": {},
   "outputs": [],
   "source": [
    "import numpy as np\n",
    "import torch\n",
    "import torch.nn as nn\n",
    "import torch.nn.functional as F"
   ]
  },
  {
   "cell_type": "code",
   "execution_count": 407,
   "metadata": {},
   "outputs": [],
   "source": [
    "import matplotlib\n",
    "# matplotlib.use(\"TkAgg\")\n",
    "# %matplotlib tk\n",
    "%matplotlib inline\n",
    "import matplotlib.pyplot as plt"
   ]
  },
  {
   "cell_type": "code",
   "execution_count": 408,
   "metadata": {},
   "outputs": [],
   "source": [
    "import dtnnlib as dtnn"
   ]
  },
  {
   "cell_type": "code",
   "execution_count": 409,
   "metadata": {},
   "outputs": [],
   "source": [
    "# device = torch.device(\"cuda:0\")\n",
    "device = torch.device(\"cpu\")"
   ]
  },
  {
   "cell_type": "code",
   "execution_count": 410,
   "metadata": {},
   "outputs": [],
   "source": [
    "num_points = 400\n",
    "X1 = np.linspace(-1.5, 1.5, num_points)\n",
    "X2 = np.linspace(-1.5, 1.5, num_points)\n",
    "X1, X2 = np.meshgrid(X1, X2)\n",
    "\n",
    "XX = torch.Tensor(np.c_[X1.reshape(-1), X2.reshape(-1)]).to(device)"
   ]
  },
  {
   "cell_type": "code",
   "execution_count": 411,
   "metadata": {},
   "outputs": [],
   "source": [
    "class DistanceVoronoi(nn.Module):\n",
    "    \n",
    "    def __init__(self, h):\n",
    "        super().__init__()\n",
    "        self.dt = dtnn.DistanceTransformBase(2, h)\n",
    "        \n",
    "    def forward(self, x):\n",
    "        dists = self.dt(x)\n",
    "#         class_probs = torch.argmin(dists, dim=1)\n",
    "        return torch.argmin(dists, dim=1)\n",
    "\n",
    "    def set_centroid(self, index, value):\n",
    "        self.dt.centers[i] = torch.Tensor(value, dtype=self.dt.centers.dtype)\n",
    "        pass"
   ]
  },
  {
   "cell_type": "code",
   "execution_count": 412,
   "metadata": {},
   "outputs": [
    {
     "data": {
      "text/plain": [
       "(tensor([0, 1, 2, 3, 4, 5, 6, 7, 8, 9]),\n",
       " tensor([17141,  3382, 37664,  1827, 12594,  2760, 13748,  3194, 48783, 18907]))"
      ]
     },
     "execution_count": 412,
     "metadata": {},
     "output_type": "execute_result"
    }
   ],
   "source": [
    "out = DistanceVoronoi(10)(XX)\n",
    "torch.unique(out, return_counts=True)"
   ]
  },
  {
   "cell_type": "code",
   "execution_count": 413,
   "metadata": {},
   "outputs": [
    {
     "data": {
      "text/plain": [
       "torch.Size([160000])"
      ]
     },
     "execution_count": 413,
     "metadata": {},
     "output_type": "execute_result"
    }
   ],
   "source": [
    "out.shape"
   ]
  },
  {
   "cell_type": "code",
   "execution_count": 414,
   "metadata": {},
   "outputs": [],
   "source": [
    "regions = 10\n",
    "voronoi = DistanceVoronoi(regions)\n",
    "cls = voronoi(XX)"
   ]
  },
  {
   "cell_type": "code",
   "execution_count": 415,
   "metadata": {},
   "outputs": [
    {
     "name": "stdout",
     "output_type": "stream",
     "text": [
      "torch.Size([10, 2])\n"
     ]
    }
   ],
   "source": [
    "# plt.figure(figsize=(6, 6))\n",
    "# cf = plt.contourf(X1, X2, cls.data.cpu().numpy().reshape(X1.shape),\n",
    "#              alpha=1.0, antialiased=True, levels=regions+1, cmap='tab20')\n",
    "# plt.scatter(*voronoi.dt.centers.data.cpu().t(), marker='+', color='gray', ec=\"k\")\n",
    "\n",
    "### Color marker same as centroids\n",
    "# plt.scatter(embeddings[:,0], embeddings[:, 1], c=ilabels, s=2, cmap='tab10')\n",
    "\n",
    "# cbar = plt.colorbar(ticks=range(10), #label='classes', \n",
    "#                     boundaries=np.arange(11)-0.5)\n",
    "# cbar.set_ticks(np.arange(10))\n",
    "# cbar.set_ticklabels(list(range(10)))\n",
    "\n",
    "# plt.gca().set_prop_cycle(None)\n",
    "\n",
    "print(cents.shape)\n",
    "### plot vectors "
   ]
  },
  {
   "cell_type": "code",
   "execution_count": 416,
   "metadata": {},
   "outputs": [
    {
     "data": {
      "text/plain": [
       "<matplotlib.image.AxesImage at 0x7f75c751f190>"
      ]
     },
     "execution_count": 416,
     "metadata": {},
     "output_type": "execute_result"
    },
    {
     "data": {
      "image/png": "[encoded data removed]",
      "text/plain": [
       "<Figure size 432x432 with 1 Axes>"
      ]
     },
     "metadata": {
      "needs_background": "light"
     },
     "output_type": "display_data"
    }
   ],
   "source": [
    "plt.figure(figsize=(6, 6))\n",
    "\n",
    "cents = voronoi.dt.centers.data.cpu()\n",
    "cent_label = np.arange(0, regions, step=1)\n",
    "\n",
    "plt.scatter(*cents.t(), c=cent_label, s=100, cmap='tab20', ec='k')\n",
    "    \n",
    "# plt.gca().set_prop_cycle(None)\n",
    "plt.imshow(cls.data.cpu().numpy().reshape(X1.shape), interpolation='nearest',\n",
    "           extent=(-1.5, 1.5, -1.5, 1.5),\n",
    "           alpha=0.5, cmap='tab20',\n",
    "           aspect='auto', origin='lower')"
   ]
  },
  {
   "cell_type": "code",
   "execution_count": 417,
   "metadata": {},
   "outputs": [
    {
     "data": {
      "text/plain": [
       "tensor([0, 0, 0,  ..., 7, 7, 7])"
      ]
     },
     "execution_count": 417,
     "metadata": {},
     "output_type": "execute_result"
    }
   ],
   "source": [
    "cls"
   ]
  },
  {
   "cell_type": "code",
   "execution_count": 418,
   "metadata": {},
   "outputs": [
    {
     "data": {
      "text/plain": [
       "Parameter containing:\n",
       "tensor([[-1.0625,  0.0779],\n",
       "        [ 0.1456, -0.0344],\n",
       "        [-0.1532,  0.1310],\n",
       "        [ 0.0780,  0.1261],\n",
       "        [ 0.0904, -0.3359],\n",
       "        [ 0.7097, -0.1303],\n",
       "        [-0.1219,  0.1099],\n",
       "        [ 0.3504,  0.7268],\n",
       "        [-0.3659,  0.1413],\n",
       "        [ 0.2275, -0.3437]], requires_grad=True)"
      ]
     },
     "execution_count": 418,
     "metadata": {},
     "output_type": "execute_result"
    }
   ],
   "source": [
    "voronoi.dt.centers"
   ]
  },
  {
   "cell_type": "code",
   "execution_count": 419,
   "metadata": {},
   "outputs": [],
   "source": [
    "class LinearVoronoi(nn.Module):\n",
    "    \n",
    "    def __init__(self, h):\n",
    "        super().__init__()\n",
    "        self.lin = nn.Linear(2, h, bias=False)\n",
    "#         self.lin.weight.data /= torch.norm(self.lin.weight.data, dim=1, keepdim=True)\n",
    "        \n",
    "    def forward(self, x):\n",
    "        dists = self.lin(x)\n",
    "#         class_probs = torch.argmax(dists, dim=1)\n",
    "        return torch.argmax(dists, dim=1)\n",
    "\n",
    "    def set_centroid(self, index, value):\n",
    "        self.dt.centers[i] = torch.Tensor(value, dtype=self.dt.centers.dtype)\n",
    "        pass"
   ]
  },
  {
   "cell_type": "code",
   "execution_count": 420,
   "metadata": {},
   "outputs": [],
   "source": [
    "regions = 10\n",
    "voronoi = LinearVoronoi(regions)\n",
    "cls = voronoi(XX)"
   ]
  },
  {
   "cell_type": "code",
   "execution_count": 421,
   "metadata": {},
   "outputs": [
    {
     "data": {
      "text/plain": [
       "(tensor([0, 2, 5, 7, 8, 9]),\n",
       " tensor([45444, 34018,  1503, 17850, 45506, 15679]))"
      ]
     },
     "execution_count": 421,
     "metadata": {},
     "output_type": "execute_result"
    }
   ],
   "source": [
    "torch.unique(cls, return_counts=True)"
   ]
  },
  {
   "cell_type": "code",
   "execution_count": 422,
   "metadata": {},
   "outputs": [],
   "source": [
    "# plt.figure(figsize=(6, 6))\n",
    "# cf = plt.contourf(X1, X2, cls.data.cpu().numpy().reshape(X1.shape),\n",
    "#              alpha=1.0, antialiased=True, levels=regions+1, cmap='tab20')\n",
    "\n",
    "# plt.scatter(*voronoi.lin.weight.data.cpu().t(), marker='+', color='gray', ec=\"white\")\n",
    "\n",
    "# ### plot vectors "
   ]
  },
  {
   "cell_type": "code",
   "execution_count": 423,
   "metadata": {},
   "outputs": [
    {
     "data": {
      "text/plain": [
       "<matplotlib.image.AxesImage at 0x7f75c75164d0>"
      ]
     },
     "execution_count": 423,
     "metadata": {},
     "output_type": "execute_result"
    },
    {
     "data": {
      "image/png": "[encoded data removed]",
      "text/plain": [
       "<Figure size 432x432 with 1 Axes>"
      ]
     },
     "metadata": {
      "needs_background": "light"
     },
     "output_type": "display_data"
    }
   ],
   "source": [
    "%matplotlib inline\n",
    "\n",
    "plt.figure(figsize=(6, 6))\n",
    "\n",
    "cls = voronoi(XX)\n",
    "cents = voronoi.lin.weight.data.cpu()\n",
    "cent_label = np.arange(0, regions, step=1)\n",
    "\n",
    "plt.scatter(*cents.t(), c=cent_label, s=100, cmap='tab10', ec='k')\n",
    "    \n",
    "plt.gca().set_prop_cycle(None)\n",
    "plt.imshow(cls.data.cpu().numpy().reshape(X1.shape), interpolation='nearest',\n",
    "           extent=(-1.5, 1.5, -1.5, 1.5),\n",
    "           alpha=0.5, cmap='tab10',\n",
    "           aspect='auto', origin='lower')"
   ]
  },
  {
   "cell_type": "code",
   "execution_count": 424,
   "metadata": {},
   "outputs": [
    {
     "data": {
      "text/plain": [
       "tensor([[-0.5145,  0.4933],\n",
       "        [ 0.1126, -0.3067],\n",
       "        [ 0.3077,  0.6738],\n",
       "        [-0.1249, -0.1733],\n",
       "        [ 0.0871, -0.4999],\n",
       "        [ 0.3647, -0.1362],\n",
       "        [ 0.2751, -0.2098],\n",
       "        [ 0.2663, -0.4255],\n",
       "        [ 0.0275, -0.6087],\n",
       "        [ 0.4877,  0.3271]])"
      ]
     },
     "execution_count": 424,
     "metadata": {},
     "output_type": "execute_result"
    }
   ],
   "source": [
    "voronoi.lin.weight.data"
   ]
  },
  {
   "cell_type": "markdown",
   "metadata": {},
   "source": [
    "## After shifting the centers"
   ]
  },
  {
   "cell_type": "code",
   "execution_count": 425,
   "metadata": {},
   "outputs": [],
   "source": [
    "voronoi.lin.weight.data -= 0.5"
   ]
  },
  {
   "cell_type": "code",
   "execution_count": 426,
   "metadata": {},
   "outputs": [
    {
     "data": {
      "text/plain": [
       "<matplotlib.image.AxesImage at 0x7f75c740ae10>"
      ]
     },
     "execution_count": 426,
     "metadata": {},
     "output_type": "execute_result"
    },
    {
     "data": {
      "image/png": "[encoded data removed]",
      "text/plain": [
       "<Figure size 432x432 with 1 Axes>"
      ]
     },
     "metadata": {
      "needs_background": "light"
     },
     "output_type": "display_data"
    }
   ],
   "source": [
    "plt.figure(figsize=(6, 6))\n",
    "\n",
    "cls = voronoi(XX)\n",
    "cents = voronoi.lin.weight.data.cpu()\n",
    "cent_label = np.arange(0, regions, step=1)\n",
    "\n",
    "plt.scatter(*cents.t(), c=cent_label, s=100, cmap='tab10', ec='k')\n",
    "    \n",
    "plt.gca().set_prop_cycle(None)\n",
    "plt.imshow(cls.data.cpu().numpy().reshape(X1.shape), interpolation='nearest',\n",
    "           extent=(-1.5, 1.5, -1.5, 1.5),\n",
    "           alpha=0.5, cmap='tab10',\n",
    "           aspect='auto', origin='lower')"
   ]
  },
  {
   "cell_type": "code",
   "execution_count": null,
   "metadata": {},
   "outputs": [],
   "source": []
  },
  {
   "cell_type": "code",
   "execution_count": null,
   "metadata": {},
   "outputs": [],
   "source": []
  }
 ],
 "metadata": {
  "kernelspec": {
   "display_name": "Python 3",
   "language": "python",
   "name": "python3"
  },
  "language_info": {
   "codemirror_mode": {
    "name": "ipython",
    "version": 3
   },
   "file_extension": ".py",
   "mimetype": "text/x-python",
   "name": "python",
   "nbconvert_exporter": "python",
   "pygments_lexer": "ipython3",
   "version": "3.7.4"
  }
 },
 "nbformat": 4,
 "nbformat_minor": 4
}
