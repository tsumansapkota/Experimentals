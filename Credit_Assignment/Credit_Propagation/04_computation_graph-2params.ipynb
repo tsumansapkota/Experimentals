{
 "cells": [
  {
   "cell_type": "code",
   "execution_count": 1,
   "metadata": {},
   "outputs": [],
   "source": [
    "import numpy as np\n",
    "import matplotlib.pyplot as plt\n",
    "import mylibrary.nnlib as nn"
   ]
  },
  {
   "cell_type": "code",
   "execution_count": 44,
   "metadata": {},
   "outputs": [],
   "source": [
    "x = [2, 3, 4, 5]\n",
    "t = [3, 4, 6, 7]\n",
    "W = 0.5\n",
    "b = 3.\n",
    "W_ = W"
   ]
  },
  {
   "cell_type": "markdown",
   "metadata": {},
   "source": [
    "### using bias, but keeping it constant"
   ]
  },
  {
   "cell_type": "code",
   "execution_count": 45,
   "metadata": {},
   "outputs": [
    {
     "data": {
      "text/plain": [
       "<matplotlib.collections.PathCollection at 0x7fd2400bdd30>"
      ]
     },
     "execution_count": 45,
     "metadata": {},
     "output_type": "execute_result"
    },
    {
     "data": {
      "image/png": "[encoded data removed]",
      "text/plain": [
       "<Figure size 432x288 with 1 Axes>"
      ]
     },
     "metadata": {},
     "output_type": "display_data"
    }
   ],
   "source": [
    "plt.scatter(x,t)"
   ]
  },
  {
   "cell_type": "code",
   "execution_count": 46,
   "metadata": {},
   "outputs": [
    {
     "data": {
      "text/plain": [
       "<matplotlib.collections.PathCollection at 0x7fd24009f588>"
      ]
     },
     "execution_count": 46,
     "metadata": {},
     "output_type": "execute_result"
    },
    {
     "data": {
      "image/png": "[encoded data removed]",
      "text/plain": [
       "<Figure size 432x288 with 1 Axes>"
      ]
     },
     "metadata": {},
     "output_type": "display_data"
    }
   ],
   "source": [
    "y = []\n",
    "for x_ in x:\n",
    "    y.append(W*x_ + b)\n",
    "\n",
    "plt.scatter(x, t)\n",
    "plt.scatter(x, y)"
   ]
  },
  {
   "cell_type": "code",
   "execution_count": 47,
   "metadata": {},
   "outputs": [
    {
     "name": "stdout",
     "output_type": "stream",
     "text": [
      "E, dy  [-1.0, -0.5, 1.0, 1.5] [1.0, 0.5, -1.0, -1.5]\n"
     ]
    }
   ],
   "source": [
    "E = []\n",
    "dy = []\n",
    "for t_, y_ in zip(t, y):\n",
    "    err = t_-y_\n",
    "    E.append(err)\n",
    "    dy.append(-1*err)\n",
    "print('E, dy ',E, dy)"
   ]
  },
  {
   "cell_type": "code",
   "execution_count": 48,
   "metadata": {},
   "outputs": [
    {
     "data": {
      "text/plain": [
       "[0.5, 0.16666666666666666, -0.25, -0.3]"
      ]
     },
     "execution_count": 48,
     "metadata": {},
     "output_type": "execute_result"
    }
   ],
   "source": [
    "# gradient using blaming i.e dW = dy/x\n",
    "dW = []\n",
    "for dy_, x_ in zip(dy, x):\n",
    "    dW.append(dy_/x_)\n",
    "dW"
   ]
  },
  {
   "cell_type": "code",
   "execution_count": 49,
   "metadata": {},
   "outputs": [
    {
     "name": "stdout",
     "output_type": "stream",
     "text": [
      "0.4708333333333333 0.02916666666666666\n"
     ]
    }
   ],
   "source": [
    "delW = np.mean(dW)\n",
    "W = W - delW\n",
    "print(W, delW)"
   ]
  },
  {
   "cell_type": "code",
   "execution_count": 50,
   "metadata": {},
   "outputs": [
    {
     "name": "stdout",
     "output_type": "stream",
     "text": [
      "E  [-0.9416666666666664, -0.41249999999999964, 1.1166666666666671, 1.645833333333334]\n"
     ]
    }
   ],
   "source": [
    "y = []\n",
    "for x_ in x:\n",
    "    y.append(W*x_ + b)\n",
    "E = []\n",
    "dy = []\n",
    "for t_, y_ in zip(t, y):\n",
    "    err = t_-y_\n",
    "    E.append(err)\n",
    "    dy.append(-1*err)\n",
    "print('E ',E)"
   ]
  },
  {
   "cell_type": "markdown",
   "metadata": {},
   "source": [
    "#### Repeat Above 3 teps to do gradient descent and find minimum"
   ]
  },
  {
   "cell_type": "markdown",
   "metadata": {},
   "source": [
    "## Optimim for 2 points solution should be as follows:"
   ]
  },
  {
   "cell_type": "code",
   "execution_count": 68,
   "metadata": {},
   "outputs": [],
   "source": [
    "def slope_regression(x,y, b):\n",
    "    n = len(x)\n",
    "    sxy = 0\n",
    "    sx2 = 0\n",
    "    sx = 0\n",
    "    for x_, y_ in zip(x,y):\n",
    "        sxy += x_*y_\n",
    "        sx2 += x_**2\n",
    "        sx += x_\n",
    "    W = (sxy - b*sx)/sx2\n",
    "    return W\n",
    "    \n",
    "def output(x, W, b):\n",
    "    y = []\n",
    "    for x_ in x:\n",
    "        y.append(W*x_ + b)\n",
    "    return y"
   ]
  },
  {
   "cell_type": "code",
   "execution_count": 70,
   "metadata": {},
   "outputs": [
    {
     "name": "stdout",
     "output_type": "stream",
     "text": [
      "targeted W 0.470833333333333\n",
      "computed W 0.4708333333333333\n",
      "targeted delW -0.9259259259259259\n",
      "computed delW 0.02916666666666666 [0.5, 0.16666666666666666, -0.25, -0.3]\n"
     ]
    }
   ],
   "source": [
    "Wt = slope_regression(x, y, b)\n",
    "print('targeted W',Wt)\n",
    "print('computed W',W)\n",
    "\n",
    "y_ = []\n",
    "dy_ = []\n",
    "for x_ in x:\n",
    "    y_.append(W_*x_ + b)\n",
    "for t_, y__ in zip(t, y_):\n",
    "    err = t_-y__\n",
    "    dy_.append(-1*err)\n",
    "delW_ = slope_regression(x, dy_, b)\n",
    "print('targeted delW', delW_)\n",
    "print('computed delW', delW, dW)"
   ]
  },
  {
   "cell_type": "markdown",
   "metadata": {},
   "source": [
    "### Using bias as parameter"
   ]
  },
  {
   "cell_type": "code",
   "execution_count": 11,
   "metadata": {},
   "outputs": [
    {
     "data": {
      "text/plain": [
       "<matplotlib.collections.PathCollection at 0x7fd24023fd68>"
      ]
     },
     "execution_count": 11,
     "metadata": {},
     "output_type": "execute_result"
    },
    {
     "data": {
      "image/png": "[encoded data removed]",
      "text/plain": [
       "<Figure size 432x288 with 1 Axes>"
      ]
     },
     "metadata": {},
     "output_type": "display_data"
    }
   ],
   "source": [
    "W = 0\n",
    "b = 5\n",
    "y = []\n",
    "for x_ in x:\n",
    "    y.append(W*x_ + b)\n",
    "\n",
    "plt.scatter(x, t)\n",
    "plt.scatter(x, y)"
   ]
  },
  {
   "cell_type": "code",
   "execution_count": 12,
   "metadata": {},
   "outputs": [
    {
     "name": "stdout",
     "output_type": "stream",
     "text": [
      "E, dy  [-2, -1, 1, 2] [2, 1, -1, -2]\n"
     ]
    }
   ],
   "source": [
    "E = []\n",
    "dy = []\n",
    "for t_, y_ in zip(t, y):\n",
    "    err = t_-y_\n",
    "    E.append(err)\n",
    "    dy.append(-1*err)\n",
    "print('E, dy ',E, dy)"
   ]
  },
  {
   "cell_type": "code",
   "execution_count": 13,
   "metadata": {},
   "outputs": [
    {
     "data": {
      "text/plain": [
       "([1.0, 0.3333333333333333, -0.25, -0.4], [2, 1, -1, -2])"
      ]
     },
     "execution_count": 13,
     "metadata": {},
     "output_type": "execute_result"
    }
   ],
   "source": [
    "# gradient using blaming i.e dW = dy/x\n",
    "dW = []\n",
    "db = []\n",
    "for dy_, x_ in zip(dy, x):\n",
    "    dW.append(dy_/x_)\n",
    "    db.append(dy_)\n",
    "dW, db"
   ]
  },
  {
   "cell_type": "code",
   "execution_count": 14,
   "metadata": {},
   "outputs": [
    {
     "name": "stdout",
     "output_type": "stream",
     "text": [
      "-0.1708333333333333 5.0\n"
     ]
    }
   ],
   "source": [
    "delW = np.mean(dW)\n",
    "delb = np.mean(db)\n",
    "\n",
    "W = W - delW\n",
    "b = b - delb\n",
    "print(W, b)"
   ]
  },
  {
   "cell_type": "code",
   "execution_count": null,
   "metadata": {},
   "outputs": [],
   "source": []
  }
 ],
 "metadata": {
  "kernelspec": {
   "display_name": "Python 3",
   "language": "python",
   "name": "python3"
  },
  "language_info": {
   "codemirror_mode": {
    "name": "ipython",
    "version": 3
   },
   "file_extension": ".py",
   "mimetype": "text/x-python",
   "name": "python",
   "nbconvert_exporter": "python",
   "pygments_lexer": "ipython3",
   "version": "3.6.7"
  }
 },
 "nbformat": 4,
 "nbformat_minor": 2
}
