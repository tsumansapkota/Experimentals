{
 "cells": [
  {
   "cell_type": "code",
   "execution_count": 1,
   "metadata": {},
   "outputs": [],
   "source": [
    "import numpy as np\n",
    "import matplotlib.pyplot as plt\n",
    "import torch\n",
    "import torch.nn as nn\n",
    "import torch.nn.functional as F\n",
    "import torch.utils.data.dataloader as dataloader\n",
    "import torch.optim as optim\n",
    "\n",
    "from torch.utils.data import TensorDataset\n",
    "from torch.autograd import Variable\n",
    "from torchvision import transforms\n",
    "from torchvision.datasets import MNIST\n",
    "\n",
    "import copy\n",
    "\n",
    "%matplotlib inline"
   ]
  },
  {
   "cell_type": "code",
   "execution_count": 2,
   "metadata": {},
   "outputs": [],
   "source": [
    "train = MNIST('../DATASETS/MNIST_pytorch/', train=True, transform=transforms.Compose([\n",
    "    transforms.ToTensor(), # ToTensor does min-max normalization. \n",
    "    ]),\n",
    "#              download=True,\n",
    "             )\n",
    "\n",
    "test = MNIST('../DATASETS/MNIST_pytorch/', train=False, transform=transforms.ToTensor(),\n",
    "#             download=True,\n",
    "            )\n",
    "# Create DataLoader\n",
    "dataloader_args = dict(shuffle=True, batch_size=32)\n",
    "train_loader = dataloader.DataLoader(train, **dataloader_args)\n",
    "test_loader = dataloader.DataLoader(test, **dataloader_args)"
   ]
  },
  {
   "cell_type": "code",
   "execution_count": 3,
   "metadata": {},
   "outputs": [
    {
     "name": "stdout",
     "output_type": "stream",
     "text": [
      "[Train]\n",
      " - Numpy Shape: (60000, 28, 28)\n",
      " - Tensor Shape: torch.Size([60000, 28, 28])\n",
      " - Transformed Shape: torch.Size([28, 60000, 28])\n",
      " - min: tensor(0.)\n",
      " - max: tensor(1.)\n",
      " - mean: tensor(0.1306)\n",
      " - std: tensor(0.3081)\n",
      " - var: tensor(0.0949)\n"
     ]
    }
   ],
   "source": [
    "train_data = train.data\n",
    "train_data = train.transform(train_data.numpy())\n",
    "\n",
    "print('[Train]')\n",
    "print(' - Numpy Shape:', train.data.cpu().numpy().shape)\n",
    "print(' - Tensor Shape:', train.data.size())\n",
    "print(' - Transformed Shape:', train_data.size())\n",
    "print(' - min:', torch.min(train_data))\n",
    "print(' - max:', torch.max(train_data))\n",
    "print(' - mean:', torch.mean(train_data))\n",
    "print(' - std:', torch.std(train_data))\n",
    "print(' - var:', torch.var(train_data))"
   ]
  },
  {
   "cell_type": "code",
   "execution_count": 4,
   "metadata": {},
   "outputs": [
    {
     "name": "stdout",
     "output_type": "stream",
     "text": [
      "[Test]\n",
      " - Numpy Shape: (10000, 28, 28)\n",
      " - Tensor Shape: torch.Size([10000, 28, 28])\n",
      " - Transformed Shape: torch.Size([28, 10000, 28])\n",
      " - min: tensor(0.)\n",
      " - max: tensor(1.)\n",
      " - mean: tensor(0.1325)\n",
      " - std: tensor(0.3105)\n",
      " - var: tensor(0.0964)\n"
     ]
    }
   ],
   "source": [
    "test_data = test.data\n",
    "test_data = train.transform(test_data.numpy())\n",
    "\n",
    "print('[Test]')\n",
    "print(' - Numpy Shape:', test.data.numpy().shape)\n",
    "print(' - Tensor Shape:', test.data.size())\n",
    "print(' - Transformed Shape:', test_data.size())\n",
    "print(' - min:', torch.min(test_data))\n",
    "print(' - max:', torch.max(test_data))\n",
    "print(' - mean:', torch.mean(test_data))\n",
    "print(' - std:', torch.std(test_data))\n",
    "print(' - var:', torch.var(test_data))"
   ]
  },
  {
   "cell_type": "code",
   "execution_count": 5,
   "metadata": {},
   "outputs": [],
   "source": [
    "class Model(nn.Module):\n",
    "    def __init__(self):\n",
    "        super(Model, self).__init__()\n",
    "        \n",
    "        self.fc1 = nn.Linear(784, 100)\n",
    "        self.relu = nn.ReLU(inplace=True)\n",
    "        self.fc2 = nn.Linear(100, 20)\n",
    "        self.fc3 = nn.Linear(20, 10)\n",
    "        self.softmax = nn.LogSoftmax(dim=1)\n",
    "        \n",
    "        \n",
    "    def forward(self, x):\n",
    "        x = x.view((-1, 784))\n",
    "        h = self.fc1(x)\n",
    "        h = self.relu(h)        \n",
    "        h = self.fc2(h)\n",
    "        h = self.relu(h)\n",
    "        h = self.fc3(h)\n",
    "        out = self.softmax(h)\n",
    "        return out"
   ]
  },
  {
   "cell_type": "code",
   "execution_count": 6,
   "metadata": {},
   "outputs": [],
   "source": [
    "model = Model()\n",
    "optimizer = optim.Adam(model.parameters(), lr=0.001)\n",
    "criterion = nn.CrossEntropyLoss()"
   ]
  },
  {
   "cell_type": "code",
   "execution_count": 7,
   "metadata": {},
   "outputs": [
    {
     "name": "stdout",
     "output_type": "stream",
     "text": [
      " Train Epoch: 0 [60000/60000 (100%)]\tLoss: 0.169420\tAccuracy: 0.942\n",
      " Train Epoch: 1 [60000/60000 (100%)]\tLoss: 0.107905\tAccuracy: 0.9603\n",
      " Train Epoch: 2 [60000/60000 (100%)]\tLoss: 0.054797\tAccuracy: 0.9675\n",
      " Train Epoch: 3 [60000/60000 (100%)]\tLoss: 0.029075\tAccuracy: 0.9666\n",
      " Train Epoch: 4 [60000/60000 (100%)]\tLoss: 0.009886\tAccuracy: 0.9712\n"
     ]
    }
   ],
   "source": [
    "# model.train()\n",
    "evaluate_x = Variable(test_loader.dataset.data.type_as(torch.FloatTensor()))\n",
    "evaluate_y = Variable(test_loader.dataset.targets)\n",
    "\n",
    "losses = []\n",
    "EPOCHS = 5\n",
    "for epoch in range(EPOCHS):\n",
    "    data_count = 0\n",
    "    for batch_idx, (data, target) in enumerate(train_loader):\n",
    "        # Init\n",
    "        optimizer.zero_grad()\n",
    "\n",
    "        # Predict\n",
    "        y_pred = model(data) \n",
    "\n",
    "        # Calculate loss\n",
    "        loss = criterion(y_pred, target)\n",
    "        losses.append(loss.data)\n",
    "        \n",
    "        # Backpropagation\n",
    "        loss.backward()\n",
    "        optimizer.step()\n",
    "        \n",
    "        \n",
    "        # Display\n",
    "        data_count += len(data)\n",
    "        if batch_idx%100 == 0 or batch_idx==len(train_loader)-1:\n",
    "            output = model(evaluate_x)\n",
    "            pred = output.max(1)[1]\n",
    "            d = pred.eq(evaluate_y)\n",
    "            accuracy = float(d.sum())/float(d.size()[0])\n",
    "            \n",
    "            print('\\r Train Epoch: {} [{}/{} ({:.0f}%)]\\tLoss: {:.6f}\\tAccuracy: {}'.format(\n",
    "                epoch, \n",
    "                data_count, \n",
    "                len(train_loader.dataset),\n",
    "                100. * batch_idx / len(train_loader), \n",
    "                loss.data,\n",
    "                accuracy,),\n",
    "                end='')\n",
    "            \n",
    "    print()"
   ]
  },
  {
   "cell_type": "code",
   "execution_count": 8,
   "metadata": {},
   "outputs": [
    {
     "data": {
      "text/plain": [
       "(0.14995678, 0.19119939)"
      ]
     },
     "execution_count": 8,
     "metadata": {},
     "output_type": "execute_result"
    },
    {
     "data": {
      "image/png": "[encoded data removed]",
      "text/plain": [
       "<Figure size 432x288 with 1 Axes>"
      ]
     },
     "metadata": {
      "needs_background": "light"
     },
     "output_type": "display_data"
    }
   ],
   "source": [
    "plt.plot(losses)\n",
    "np.mean(losses), np.std(losses)"
   ]
  },
  {
   "cell_type": "code",
   "execution_count": 48,
   "metadata": {},
   "outputs": [],
   "source": [
    "# model_copy = copy.deepcopy(model)\n",
    "# model = model_copy"
   ]
  },
  {
   "cell_type": "code",
   "execution_count": 49,
   "metadata": {},
   "outputs": [],
   "source": [
    "for model_parm in model.parameters():\n",
    "        model_parm.requires_grad=False"
   ]
  },
  {
   "cell_type": "code",
   "execution_count": 50,
   "metadata": {},
   "outputs": [
    {
     "name": "stdout",
     "output_type": "stream",
     "text": [
      "Accuracy: 0.9712\n"
     ]
    }
   ],
   "source": [
    "evaluate_x = test.data.type_as(torch.FloatTensor())\n",
    "evaluate_y = test_loader.dataset.targets\n",
    "\n",
    "\n",
    "output = model(evaluate_x)\n",
    "pred = output.max(dim=1)[1]\n",
    "d = pred.eq(evaluate_y)\n",
    "accuracy = float(d.sum())/float(d.size()[0])\n",
    "\n",
    "print('Accuracy:', accuracy)"
   ]
  },
  {
   "cell_type": "code",
   "execution_count": 51,
   "metadata": {},
   "outputs": [],
   "source": [
    "a = 1"
   ]
  },
  {
   "cell_type": "code",
   "execution_count": 52,
   "metadata": {},
   "outputs": [
    {
     "name": "stdout",
     "output_type": "stream",
     "text": [
      "-1\n",
      "tensor(0.0099)\n"
     ]
    }
   ],
   "source": [
    "print(-a)\n",
    "print(losses[-a])\n",
    "a+=1"
   ]
  },
  {
   "cell_type": "markdown",
   "metadata": {},
   "source": [
    "### Using  error to predict using another network"
   ]
  },
  {
   "cell_type": "code",
   "execution_count": 53,
   "metadata": {},
   "outputs": [],
   "source": [
    "class Model_xx_l2(nn.Module):\n",
    "    def __init__(self, model):\n",
    "        super(Model_xx_l2, self).__init__()\n",
    "        \n",
    "        self.model = model\n",
    "        self.fc1 = nn.Linear(784, 100)\n",
    "        self.relu = nn.ReLU(inplace=True)\n",
    "        self.fc2 = nn.Linear(100, 20)\n",
    "        self.fc2.weight.data *= 0.\n",
    "        \n",
    "        \n",
    "        \n",
    "        \n",
    "    def forward(self, x):\n",
    "        x = x.view((-1, 784))\n",
    "        ### using previously trained model\n",
    "        h = self.model.fc1(x)\n",
    "        h = self.model.relu(h)        \n",
    "        h = self.model.fc2(h)\n",
    "        ### using this model\n",
    "        h0 = self.fc1(x)\n",
    "        h0 = self.relu(h0)\n",
    "        h0 = self.fc2(h0)\n",
    "        \n",
    "        h = h + h0\n",
    "        h = self.model.relu(h)\n",
    "        h = self.model.fc3(h)\n",
    "        out = self.model.softmax(h)\n",
    "        return out"
   ]
  },
  {
   "cell_type": "code",
   "execution_count": 54,
   "metadata": {},
   "outputs": [],
   "source": [
    "# for parms in model1.parameters():\n",
    "#     print(parms)"
   ]
  },
  {
   "cell_type": "code",
   "execution_count": 55,
   "metadata": {},
   "outputs": [],
   "source": [
    "model1 = Model_xx_l2(model)\n",
    "optimizer1 = optim.Adam(model1.parameters(), lr=0.001)\n",
    "criterion1 = nn.CrossEntropyLoss()"
   ]
  },
  {
   "cell_type": "code",
   "execution_count": 56,
   "metadata": {},
   "outputs": [
    {
     "name": "stdout",
     "output_type": "stream",
     "text": [
      " Train Epoch: 0 [60000/60000 (100%)]\tLoss: 0.039008\tAccuracy: 0.9747 --->\n",
      " Train Epoch: 1 [60000/60000 (100%)]\tLoss: 0.021026\tAccuracy: 0.9746 --->\n",
      " Train Epoch: 2 [60000/60000 (100%)]\tLoss: 0.025112\tAccuracy: 0.9761 --->\n",
      " Train Epoch: 3 [60000/60000 (100%)]\tLoss: 0.032056\tAccuracy: 0.9772 --->\n",
      " Train Epoch: 4 [60000/60000 (100%)]\tLoss: 0.006314\tAccuracy: 0.9779 --->\n"
     ]
    }
   ],
   "source": [
    "losses1 = []\n",
    "EPOCHS = 5\n",
    "for epoch in range(EPOCHS):\n",
    "    data_count = 0\n",
    "    for batch_idx, (data, target) in enumerate(train_loader):\n",
    "\n",
    "        y_pred = model1(data) \n",
    "        loss = criterion1(y_pred, target)\n",
    "        losses1.append(loss.data)\n",
    "        \n",
    "        # Backpropagation\n",
    "        optimizer1.zero_grad()\n",
    "        loss.backward()\n",
    "        optimizer1.step()\n",
    "        \n",
    "        # Display\n",
    "        data_count += len(data)\n",
    "        if batch_idx%100 == 0 or batch_idx==len(train_loader)-1:\n",
    "            output = model1(evaluate_x)\n",
    "            pred = output.max(1)[1]\n",
    "            d = pred.eq(evaluate_y)\n",
    "            accuracy = float(d.sum())/float(d.size()[0])\n",
    "            \n",
    "            print('\\r Train Epoch: {} [{}/{} ({:.0f}%)]\\tLoss: {:.6f}\\tAccuracy: {} --->'.format(\n",
    "                epoch, \n",
    "                data_count, \n",
    "                len(train_loader.dataset),\n",
    "                100. * batch_idx / len(train_loader), \n",
    "                loss.data,\n",
    "                accuracy,),\n",
    "                end='')\n",
    "            \n",
    "    print()"
   ]
  },
  {
   "cell_type": "code",
   "execution_count": 57,
   "metadata": {},
   "outputs": [
    {
     "data": {
      "text/plain": [
       "(0.03419218, 0.042901162)"
      ]
     },
     "execution_count": 57,
     "metadata": {},
     "output_type": "execute_result"
    },
    {
     "data": {
      "image/png": "[encoded data removed]",
      "text/plain": [
       "<Figure size 432x288 with 1 Axes>"
      ]
     },
     "metadata": {
      "needs_background": "light"
     },
     "output_type": "display_data"
    }
   ],
   "source": [
    "plt.plot(losses1)\n",
    "np.mean(losses1), np.std(losses1)"
   ]
  },
  {
   "cell_type": "code",
   "execution_count": 58,
   "metadata": {},
   "outputs": [
    {
     "data": {
      "text/plain": [
       "0.9779"
      ]
     },
     "execution_count": 58,
     "metadata": {},
     "output_type": "execute_result"
    }
   ],
   "source": [
    "output = model1(evaluate_x)\n",
    "pred = output.max(1)[1]\n",
    "d = pred.eq(evaluate_y)\n",
    "accuracy = float(d.sum())/float(d.size()[0])\n",
    "accuracy"
   ]
  },
  {
   "cell_type": "code",
   "execution_count": null,
   "metadata": {},
   "outputs": [],
   "source": []
  },
  {
   "cell_type": "code",
   "execution_count": null,
   "metadata": {},
   "outputs": [],
   "source": []
  },
  {
   "cell_type": "code",
   "execution_count": 66,
   "metadata": {},
   "outputs": [],
   "source": [
    "# class Model_l1_l3(nn.Module):\n",
    "#     def __init__(self):\n",
    "#         super(Model_l1_l3, self).__init__()\n",
    "        \n",
    "#         self.fc1 = nn.Linear(100, 20)\n",
    "#         self.relu = nn.ReLU(inplace=True)\n",
    "#         self.fc2 = nn.Linear(20, 10)\n",
    "#         self.fc2.weight.data *= 0.\n",
    "        \n",
    "        \n",
    "        \n",
    "        \n",
    "#     def forward(self, x, model):\n",
    "#         x = x.view((-1, 784))\n",
    "#         ### using previously trained model\n",
    "#         h = model.fc1(x)\n",
    "#         h = model.relu(h)\n",
    "#         ### using this model\n",
    "#         h0 = self.fc1(h)\n",
    "#         h0 = self.relu(h0)\n",
    "#         h0 = self.fc2(h0)\n",
    "        \n",
    "#         h = model.fc2(h)\n",
    "#         h = model.relu(h)\n",
    "#         h = model.fc3(h)\n",
    "        \n",
    "#         h = h + h0\n",
    "#         out = model.softmax(h)\n",
    "#         return out"
   ]
  },
  {
   "cell_type": "code",
   "execution_count": 67,
   "metadata": {},
   "outputs": [],
   "source": [
    "# model2 = Model_l1_l3()\n",
    "# optimizer2 = optim.Adam(model2.parameters(), lr=0.001)\n",
    "# criterion2 = nn.CrossEntropyLoss()"
   ]
  },
  {
   "cell_type": "code",
   "execution_count": 59,
   "metadata": {},
   "outputs": [],
   "source": [
    "# losses2 = []\n",
    "# EPOCHS = 5\n",
    "# for epoch in range(EPOCHS):\n",
    "#     data_count = 0\n",
    "#     for batch_idx, (data, target) in enumerate(train_loader):\n",
    "\n",
    "#         y_pred = model2(data, model) \n",
    "#         loss = criterion2(y_pred, target)\n",
    "#         losses2.append(loss.data)\n",
    "        \n",
    "#         # Backpropagation\n",
    "#         optimizer2.zero_grad()\n",
    "#         loss.backward()\n",
    "#         optimizer2.step()\n",
    "        \n",
    "#         # Display\n",
    "#         data_count += len(data)\n",
    "#         if batch_idx%100 == 0 or batch_idx==len(train_loader)-1:\n",
    "#             output = model2(evaluate_x, model)\n",
    "#             pred = output.max(1)[1]\n",
    "#             d = pred.eq(evaluate_y)\n",
    "#             accuracy = float(d.sum())/float(d.size()[0])\n",
    "            \n",
    "#             print('\\r Train Epoch: {} [{}/{} ({:.0f}%)]\\tLoss: {:.6f}\\tAccuracy: {} --->'.format(\n",
    "#                 epoch, \n",
    "#                 data_count, \n",
    "#                 len(train_loader.dataset),\n",
    "#                 100. * batch_idx / len(train_loader), \n",
    "#                 loss.data,\n",
    "#                 accuracy,),\n",
    "#                 end='')\n",
    "            \n",
    "#     print()"
   ]
  },
  {
   "cell_type": "code",
   "execution_count": 60,
   "metadata": {},
   "outputs": [],
   "source": [
    "# plt.plot(losses2)\n",
    "# np.mean(losses2), np.std(losses2)"
   ]
  },
  {
   "cell_type": "code",
   "execution_count": 61,
   "metadata": {},
   "outputs": [],
   "source": [
    "# output = model2(evaluate_x, model)\n",
    "# pred = output.max(1)[1]\n",
    "# d = pred.eq(evaluate_y)\n",
    "# accuracy = float(d.sum())/float(d.size()[0])\n",
    "# accuracy"
   ]
  },
  {
   "cell_type": "code",
   "execution_count": null,
   "metadata": {},
   "outputs": [],
   "source": []
  }
 ],
 "metadata": {
  "kernelspec": {
   "display_name": "Python 3",
   "language": "python",
   "name": "python3"
  },
  "language_info": {
   "codemirror_mode": {
    "name": "ipython",
    "version": 3
   },
   "file_extension": ".py",
   "mimetype": "text/x-python",
   "name": "python",
   "nbconvert_exporter": "python",
   "pygments_lexer": "ipython3",
   "version": "3.7.4"
  }
 },
 "nbformat": 4,
 "nbformat_minor": 2
}
