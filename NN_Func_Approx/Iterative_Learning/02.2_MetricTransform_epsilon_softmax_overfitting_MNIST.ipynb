{
 "cells": [
  {
   "cell_type": "code",
   "execution_count": 1,
   "metadata": {},
   "outputs": [],
   "source": [
    "import numpy as np\n",
    "import copy\n",
    "import matplotlib\n",
    "import matplotlib.pyplot as plt\n",
    "# from mpl_toolkits.mplot3d import Axes3D"
   ]
  },
  {
   "cell_type": "code",
   "execution_count": 2,
   "metadata": {},
   "outputs": [],
   "source": [
    "import torch\n",
    "import torch.nn as nn\n",
    "import torch.nn.functional as F\n",
    "\n",
    "from torchvision import datasets, transforms as T\n",
    "from torch.utils import data"
   ]
  },
  {
   "cell_type": "code",
   "execution_count": 3,
   "metadata": {},
   "outputs": [],
   "source": [
    "from tqdm import tqdm\n",
    "import os, time, sys\n",
    "import json"
   ]
  },
  {
   "cell_type": "code",
   "execution_count": 4,
   "metadata": {},
   "outputs": [],
   "source": [
    "import dtnnlib as dtnn\n",
    "# import resnet_cifar"
   ]
  },
  {
   "cell_type": "code",
   "execution_count": 5,
   "metadata": {},
   "outputs": [],
   "source": [
    "mnist_transform = T.Compose([\n",
    "    T.ToTensor(),\n",
    "    T.Normalize(\n",
    "        mean=0.5,\n",
    "        std=0.5,\n",
    "    ),\n",
    "])\n",
    "\n",
    "# train_dataset = datasets.FashionMNIST(root=\"../../../_Datasets/\", train=True, download=True, transform=mnist_transform)\n",
    "# test_dataset = datasets.FashionMNIST(root=\"../../../_Datasets/\", train=False, download=True, transform=mnist_transform)\n",
    "train_dataset = datasets.MNIST(root=\"../../../_Datasets/\", train=True, download=True, transform=mnist_transform)\n",
    "test_dataset = datasets.MNIST(root=\"../../../_Datasets/\", train=False, download=True, transform=mnist_transform)"
   ]
  },
  {
   "cell_type": "code",
   "execution_count": 6,
   "metadata": {},
   "outputs": [
    {
     "data": {
      "text/plain": [
       "torch.Size([60000, 28, 28])"
      ]
     },
     "execution_count": 6,
     "metadata": {},
     "output_type": "execute_result"
    }
   ],
   "source": [
    "# train_dataset.data = train_dataset.data.view(-1, 28*28)\n",
    "# test_dataset.data = test_dataset.data.view(-1, 28*28)\n",
    "train_dataset.data.shape"
   ]
  },
  {
   "cell_type": "code",
   "execution_count": 7,
   "metadata": {},
   "outputs": [],
   "source": [
    "batch_size = 50\n",
    "train_loader = data.DataLoader(dataset=train_dataset, num_workers=4, batch_size=batch_size, shuffle=True)\n",
    "test_loader = data.DataLoader(dataset=test_dataset, num_workers=4, batch_size=batch_size, shuffle=False)"
   ]
  },
  {
   "cell_type": "code",
   "execution_count": null,
   "metadata": {},
   "outputs": [],
   "source": []
  },
  {
   "cell_type": "code",
   "execution_count": 8,
   "metadata": {},
   "outputs": [],
   "source": [
    "device = torch.device(\"cpu\")"
   ]
  },
  {
   "cell_type": "code",
   "execution_count": 9,
   "metadata": {},
   "outputs": [],
   "source": [
    "criterion = nn.CrossEntropyLoss()"
   ]
  },
  {
   "cell_type": "code",
   "execution_count": 10,
   "metadata": {},
   "outputs": [
    {
     "name": "stdout",
     "output_type": "stream",
     "text": [
      "torch.Size([50, 1, 28, 28])\n",
      "torch.Size([50, 784]) torch.Size([50])\n"
     ]
    }
   ],
   "source": [
    "for xx, yy in train_loader:\n",
    "    print(xx.shape)\n",
    "    xx, yy = xx.view(-1,28*28).to(device), yy.to(device)\n",
    "    print(xx.shape, yy.shape)\n",
    "    break"
   ]
  },
  {
   "cell_type": "code",
   "execution_count": 11,
   "metadata": {},
   "outputs": [],
   "source": [
    "class LocalMLPsoftmax(nn.Module):\n",
    "    \n",
    "    def __init__(self, input_dim, hidden_dim, output_dim):\n",
    "        super().__init__()\n",
    "        \n",
    "        self.input_dim = input_dim\n",
    "        self.hidden_dim = hidden_dim\n",
    "        self.new_hidden_dim = 0\n",
    "        self.output_dim = output_dim\n",
    "        \n",
    "#         self.layer0 = dtnn.iStereographicLinearTransform(self.input_dim, self.hidden_dim)\n",
    "#         self.layer0 = dtnn.DistanceTransform_MinExp(self.input_dim, self.hidden_dim, bias=True)\n",
    "#         self.layer0 = dtnn.DistanceTransform(self.input_dim, self.hidden_dim, bias=True)\n",
    "#         self.layer0 = dtnn.DistanceTransform_Gaussian(self.input_dim, self.hidden_dim, bias=True)\n",
    "        self.layer0 = dtnn.DistanceTransform_Simple(self.input_dim, self.hidden_dim, bias=True)\n",
    "        self.scale_shift = dtnn.ScaleShift(self.hidden_dim, scaler_init=3, shifter_init=0, scaler_const=True, shifter_const=True)\n",
    "        self.softmax = nn.Softmax(dim=-1)\n",
    "#         self.softmax = nn.LogSoftmax(dim=-1)\n",
    "#         self.activ = dtnn.OneActiv(self.hidden_dim, mode='relu')\n",
    "        self.activ = nn.ReLU()\n",
    "#         self.activ = dtnn.OneActiv(self.hidden_dim, mode='exp_1.6')\n",
    "        self.layer1 = nn.Linear(self.hidden_dim, self.output_dim)\n",
    "    \n",
    "        self.temp_maximum = None\n",
    "        \n",
    "    def forward(self, x):\n",
    "        xo = self.layer0(x)\n",
    "        xo = self.scale_shift(xo)\n",
    "        xo = self.softmax(xo)\n",
    "        self.temp_maximum = xo.data\n",
    "        xo = self.activ(xo)\n",
    "        xo = self.layer1(xo)\n",
    "        return xo"
   ]
  },
  {
   "cell_type": "markdown",
   "metadata": {},
   "source": [
    "## epsilon-Softmax neurons"
   ]
  },
  {
   "cell_type": "code",
   "execution_count": 12,
   "metadata": {},
   "outputs": [],
   "source": [
    "class EpsilonSoftmax(nn.Module):\n",
    "    '''\n",
    "    Assuming the minimum distance is below epsilon.\n",
    "    '''\n",
    "    def __init__(self, dim=-1, epsilon:float=0.1, maxima_above_epsilon:bool=True):\n",
    "        super().__init__()\n",
    "        self.dim= dim\n",
    "        self.epsilon = epsilon\n",
    "        self.sign = 1\n",
    "        if not maxima_above_epsilon:\n",
    "            self.sign = -1\n",
    "            \n",
    "    def forward(self, x):\n",
    "        ## x shape=[batch_size, dimensions]\n",
    "        bs, _ = x.shape\n",
    "#         return torch.log_softmax(\n",
    "        return torch.softmax(\n",
    "            torch.cat([self.sign*x, torch.ones(bs, 1, device=x.device)*self.epsilon], dim=self.dim), \n",
    "            dim=self.dim)#[:, :-1]"
   ]
  },
  {
   "cell_type": "code",
   "execution_count": 13,
   "metadata": {},
   "outputs": [],
   "source": [
    "class LocalMLP_epsilonsoftmax(nn.Module):\n",
    "    \n",
    "    def __init__(self, input_dim, hidden_dim, output_dim, epsilon=0.1):\n",
    "        super().__init__()\n",
    "        \n",
    "        self.input_dim = input_dim\n",
    "        self.hidden_dim = hidden_dim\n",
    "        self.new_hidden_dim = 0\n",
    "        self.output_dim = output_dim\n",
    "        \n",
    "#         self.layer0 = dtnn.iStereographicLinearTransform(self.input_dim, self.hidden_dim)\n",
    "#         self.layer0 = dtnn.DistanceTransform_MinExp(self.input_dim, self.hidden_dim, bias=True)\n",
    "#         self.layer0 = dtnn.DistanceTransform(self.input_dim, self.hidden_dim, bias=True)\n",
    "#         self.layer0 = dtnn.DistanceTransform_Gaussian(self.input_dim, self.hidden_dim, bias=True)\n",
    "        self.layer0 = dtnn.DistanceTransform_Simple(self.input_dim, self.hidden_dim, bias=True)\n",
    "        self.bn = nn.BatchNorm1d(self.hidden_dim, affine=False)\n",
    "        self.scale_shift = dtnn.ScaleShift(self.hidden_dim, scaler_init=10, shifter_init=0, scaler_const=True, shifter_const=True)\n",
    "        self.softmax = EpsilonSoftmax(dim=-1, epsilon=epsilon)\n",
    "        self.activ = dtnn.OneActiv(self.hidden_dim+1, mode='relu')\n",
    "#         self.activ = dtnn.OneActiv(self.hidden_dim+1, mode='exp_1.6')\n",
    "        self.layer1 = nn.Linear(self.hidden_dim+1, self.output_dim)\n",
    "        \n",
    "    def forward(self, x):\n",
    "        xo = self.layer0(x)\n",
    "        xo = self.bn(xo)\n",
    "        xo = self.scale_shift(xo)\n",
    "        xo = self.softmax(xo)\n",
    "        xo = self.activ(xo)\n",
    "        xo = self.layer1(xo)\n",
    "        return xo"
   ]
  },
  {
   "cell_type": "code",
   "execution_count": 14,
   "metadata": {},
   "outputs": [
    {
     "data": {
      "text/plain": [
       "torch.Size([50, 784])"
      ]
     },
     "execution_count": 14,
     "metadata": {},
     "output_type": "execute_result"
    }
   ],
   "source": [
    "xx.shape"
   ]
  },
  {
   "cell_type": "code",
   "execution_count": 15,
   "metadata": {},
   "outputs": [
    {
     "data": {
      "text/plain": [
       "torch.Size([50, 10])"
      ]
     },
     "execution_count": 15,
     "metadata": {},
     "output_type": "execute_result"
    }
   ],
   "source": [
    "H = 100\n",
    "model = LocalMLP_epsilonsoftmax(784, H, 10, epsilon=0.3)\n",
    "model(xx).shape"
   ]
  },
  {
   "cell_type": "code",
   "execution_count": 16,
   "metadata": {},
   "outputs": [],
   "source": [
    "## Following is copied from \n",
    "### https://github.com/kuangliu/pytorch-cifar/blob/master/main.py\n",
    "\n",
    "# Training\n",
    "def train(epoch, model, optimizer):\n",
    "    model.train()\n",
    "    train_loss = 0\n",
    "    correct = 0\n",
    "    total = 0\n",
    "    for batch_idx, (inputs, targets) in enumerate(tqdm(train_loader)):\n",
    "        inputs, targets = inputs.to(device).view(-1, 28*28), targets.to(device)\n",
    "        optimizer.zero_grad()\n",
    "        outputs = model(inputs)\n",
    "        loss = criterion(outputs, targets)\n",
    "        loss.backward()\n",
    "        optimizer.step()\n",
    "\n",
    "        train_loss += loss.item()\n",
    "        _, predicted = outputs.max(1)\n",
    "        total += targets.size(0)\n",
    "        correct += predicted.eq(targets).sum().item()\n",
    "    print(f\"[Train] {epoch} Loss: {train_loss/(batch_idx+1):.3f} | Acc: {100.*correct/total:.3f} {correct}/{total}\")\n",
    "    return"
   ]
  },
  {
   "cell_type": "code",
   "execution_count": 17,
   "metadata": {},
   "outputs": [],
   "source": [
    "best_acc = -1\n",
    "def test(epoch, model, model_name):\n",
    "    global best_acc\n",
    "    model.eval()\n",
    "    test_loss = 0\n",
    "    correct = 0\n",
    "    total = 0\n",
    "    with torch.no_grad():\n",
    "        for batch_idx, (inputs, targets) in enumerate(tqdm(test_loader)):\n",
    "            inputs, targets = inputs.to(device).view(-1, 28*28), targets.to(device)\n",
    "            outputs = model(inputs)\n",
    "            loss = criterion(outputs, targets)\n",
    "\n",
    "            test_loss += loss.item()\n",
    "            _, predicted = outputs.max(1)\n",
    "            total += targets.size(0)\n",
    "            correct += predicted.eq(targets).sum().item()\n",
    "            \n",
    "    print(f\"[Test] {epoch} Loss: {test_loss/(batch_idx+1):.3f} | Acc: {100.*correct/total:.3f} {correct}/{total}\")\n",
    "    \n",
    "    # Save checkpoint.\n",
    "    acc = 100.*correct/total\n",
    "    if acc > best_acc:\n",
    "        print('Saving..')\n",
    "#         state = {\n",
    "#             'model': model.state_dict(),\n",
    "#             'acc': acc,\n",
    "#             'epoch': epoch,\n",
    "#         }\n",
    "#         if not os.path.isdir('models'):\n",
    "#             os.mkdir('models')\n",
    "#         torch.save(state, f'./models/{model_name}.pth')\n",
    "        best_acc = acc"
   ]
  },
  {
   "cell_type": "code",
   "execution_count": 19,
   "metadata": {},
   "outputs": [
    {
     "data": {
      "text/plain": [
       "LocalMLP_epsilonsoftmax(\n",
       "  (layer0): DistanceTransform_Gaussian()\n",
       "  (bn): BatchNorm1d(100, eps=1e-05, momentum=0.1, affine=False, track_running_stats=True)\n",
       "  (scale_shift): ScaleShift()\n",
       "  (softmax): EpsilonSoftmax()\n",
       "  (activ): OneActiv()\n",
       "  (layer1): Linear(in_features=101, out_features=10, bias=True)\n",
       ")"
      ]
     },
     "execution_count": 19,
     "metadata": {},
     "output_type": "execute_result"
    }
   ],
   "source": [
    "model = LocalMLP_epsilonsoftmax(784, H, 10, epsilon=-200.0).to(device)\n",
    "# model = LocalMLPsoftmax(784, H, 10).to(device)\n",
    "\n",
    "model_name = f\"LocalMLP_h{H}\"\n",
    "model"
   ]
  },
  {
   "cell_type": "code",
   "execution_count": 20,
   "metadata": {},
   "outputs": [
    {
     "data": {
      "text/plain": [
       "(torch.Size([100, 784]), torch.Size([100]))"
      ]
     },
     "execution_count": 20,
     "metadata": {},
     "output_type": "execute_result"
    }
   ],
   "source": [
    "idx = torch.randperm(len(train_loader.dataset))[:H]\n",
    "source, target = train_dataset.data[idx].reshape(-1, 784), train_dataset.targets[idx]\n",
    "source.shape, target.shape"
   ]
  },
  {
   "cell_type": "code",
   "execution_count": 21,
   "metadata": {},
   "outputs": [
    {
     "data": {
      "text/plain": [
       "tensor([[0, 0, 0,  ..., 0, 0, 0],\n",
       "        [0, 0, 0,  ..., 0, 0, 0],\n",
       "        [0, 0, 0,  ..., 0, 0, 0],\n",
       "        ...,\n",
       "        [0, 0, 0,  ..., 0, 0, 0],\n",
       "        [0, 0, 0,  ..., 0, 0, 0],\n",
       "        [0, 0, 0,  ..., 0, 0, 0]], dtype=torch.uint8)"
      ]
     },
     "execution_count": 21,
     "metadata": {},
     "output_type": "execute_result"
    }
   ],
   "source": [
    "source"
   ]
  },
  {
   "cell_type": "code",
   "execution_count": 22,
   "metadata": {},
   "outputs": [],
   "source": [
    "model.layer0.centers.data = source.type(torch.float32)/128-1"
   ]
  },
  {
   "cell_type": "code",
   "execution_count": 23,
   "metadata": {},
   "outputs": [
    {
     "data": {
      "text/plain": [
       "torch.Size([101, 10])"
      ]
     },
     "execution_count": 23,
     "metadata": {},
     "output_type": "execute_result"
    }
   ],
   "source": [
    "targets = torch.zeros(len(target), 10)\n",
    "for i, t in enumerate(target):\n",
    "    targets[i, t] = 1.\n",
    "\n",
    "targets = torch.cat([targets, torch.randn(1, 10)], dim=0)\n",
    "targets.shape"
   ]
  },
  {
   "cell_type": "code",
   "execution_count": 24,
   "metadata": {},
   "outputs": [],
   "source": [
    "model.layer1.weight.data = targets.t()#.to(device)"
   ]
  },
  {
   "cell_type": "code",
   "execution_count": 25,
   "metadata": {},
   "outputs": [
    {
     "name": "stdout",
     "output_type": "stream",
     "text": [
      "torch.Size([50, 100])\n",
      "tensor([0.0052, 0.0206, 0.0468, 0.0038, 0.0024, 0.0035, 0.0372, 0.0085, 0.0232,\n",
      "        0.0183, 0.0038, 0.0031, 0.0168, 0.0015, 0.0195, 0.0005, 0.0054, 0.0007,\n",
      "        0.0204, 0.0030, 0.0103, 0.0078, 0.0085, 0.0205, 0.0172, 0.0014, 0.0355,\n",
      "        0.0062, 0.0105, 0.0163, 0.0371, 0.0035, 0.0126, 0.0051, 0.0018, 0.0035,\n",
      "        0.0129, 0.0019, 0.0089, 0.0121, 0.0272, 0.0050, 0.0091, 0.0509, 0.0048,\n",
      "        0.0249, 0.0028, 0.0026, 0.0046, 0.0021, 0.0040, 0.0003, 0.0004, 0.0012,\n",
      "        0.0183, 0.0088, 0.0025, 0.0002, 0.0121, 0.0010, 0.0118, 0.0029, 0.0111,\n",
      "        0.0035, 0.0014, 0.0017, 0.0073, 0.0068, 0.0023, 0.0037, 0.0220, 0.0401,\n",
      "        0.0018, 0.0002, 0.0064, 0.0005, 0.0138, 0.0039, 0.0281, 0.0059, 0.0078,\n",
      "        0.0011, 0.0061, 0.0075, 0.0209, 0.0099, 0.0320, 0.0019, 0.0030, 0.0236,\n",
      "        0.0153, 0.0199, 0.0007, 0.0004, 0.0027, 0.0017, 0.0031, 0.0012, 0.0045,\n",
      "        0.0005]) \n",
      "  tensor([0.0238, 0.0861, 0.1863, 0.0206, 0.0075, 0.0125, 0.1620, 0.0428, 0.1409,\n",
      "        0.0794, 0.0207, 0.0097, 0.0762, 0.0042, 0.0890, 0.0016, 0.0204, 0.0018,\n",
      "        0.1403, 0.0101, 0.0461, 0.0468, 0.0532, 0.1405, 0.1102, 0.0053, 0.1519,\n",
      "        0.0236, 0.0572, 0.0717, 0.1808, 0.0154, 0.0814, 0.0203, 0.0079, 0.0137,\n",
      "        0.0630, 0.0081, 0.0454, 0.0680, 0.1050, 0.0221, 0.0409, 0.2020, 0.0244,\n",
      "        0.1227, 0.0141, 0.0116, 0.0165, 0.0136, 0.0172, 0.0009, 0.0009, 0.0028,\n",
      "        0.1205, 0.0445, 0.0104, 0.0005, 0.0783, 0.0032, 0.0618, 0.0133, 0.0471,\n",
      "        0.0177, 0.0038, 0.0060, 0.0393, 0.0314, 0.0095, 0.0118, 0.0918, 0.1928,\n",
      "        0.0055, 0.0004, 0.0222, 0.0013, 0.0680, 0.0220, 0.1361, 0.0346, 0.0285,\n",
      "        0.0048, 0.0420, 0.0306, 0.1289, 0.0431, 0.1627, 0.0064, 0.0108, 0.1127,\n",
      "        0.0855, 0.1354, 0.0020, 0.0009, 0.0140, 0.0052, 0.0115, 0.0041, 0.0166,\n",
      "        0.0021])\n",
      "tensor([1.0723e-12, 4.9411e-11, 4.4755e-11, 9.8764e-11, 6.2813e-13, 2.3762e-12,\n",
      "        5.6010e-11, 2.2636e-12, 8.7565e-12, 3.2574e-12, 5.6806e-11, 5.0173e-13,\n",
      "        3.8910e-11, 5.1239e-12, 5.6277e-11, 6.1303e-08, 1.4808e-13, 1.5688e-09,\n",
      "        4.5792e-12, 2.2860e-11, 4.3254e-13, 5.2758e-12, 8.9421e-14, 3.1692e-09,\n",
      "        1.5636e-11, 3.3326e-12, 4.3747e-13, 1.3398e-12, 1.1841e-13, 1.3034e-11,\n",
      "        1.1832e-10, 4.9527e-13, 8.2712e-11, 2.2503e-12, 3.5067e-11, 6.7234e-14,\n",
      "        9.9055e-11, 5.8414e-12, 1.4574e-10, 5.3605e-13, 3.1890e-11, 2.9346e-13,\n",
      "        2.0119e-11, 2.2210e-12, 1.4847e-13, 3.2528e-12, 3.7767e-10, 4.3773e-10,\n",
      "        2.2013e-13, 3.2060e-09, 9.4986e-12, 4.3405e-08, 3.1811e-08, 3.2377e-12,\n",
      "        1.4354e-11, 2.4691e-11, 1.8778e-09, 5.4286e-09, 7.4662e-10, 1.5053e-12,\n",
      "        4.8750e-11, 5.7965e-13, 8.0128e-14, 2.0612e-11, 9.6386e-11, 3.6751e-11,\n",
      "        1.5512e-12, 6.7537e-14, 5.5905e-12, 2.2176e-12, 8.8736e-13, 1.8227e-10,\n",
      "        1.1642e-13, 1.8142e-09, 3.8712e-13, 1.7419e-10, 2.8815e-13, 1.5406e-11,\n",
      "        9.8955e-12, 1.5479e-10, 1.0197e-12, 1.4288e-11, 1.5184e-08, 3.8123e-13,\n",
      "        2.3714e-12, 1.5107e-13, 9.3794e-09, 3.1028e-10, 4.5940e-12, 6.5972e-12,\n",
      "        7.8832e-12, 4.1606e-11, 3.1326e-11, 9.6282e-11, 3.8082e-11, 7.5604e-11,\n",
      "        2.1405e-12, 8.5038e-13, 2.5882e-13, 1.8464e-09]) \n",
      "  tensor([0.1641, 0.4824, 0.9984, 0.1453, 0.0468, 0.0700, 0.9484, 0.2976, 0.9945,\n",
      "        0.4268, 0.1442, 0.0550, 0.4056, 0.0203, 0.5308, 0.0105, 0.1288, 0.0090,\n",
      "        0.9927, 0.0638, 0.2438, 0.3316, 0.3772, 0.9937, 0.7786, 0.0322, 0.9515,\n",
      "        0.1483, 0.4014, 0.4702, 0.9997, 0.1073, 0.5756, 0.1165, 0.0550, 0.0915,\n",
      "        0.4280, 0.0506, 0.2957, 0.4735, 0.4548, 0.1305, 0.2613, 0.9972, 0.1718,\n",
      "        0.8331, 0.0980, 0.0765, 0.1074, 0.0960, 0.1192, 0.0060, 0.0051, 0.0126,\n",
      "        0.8532, 0.3106, 0.0699, 0.0032, 0.5540, 0.0165, 0.4144, 0.0922, 0.2480,\n",
      "        0.1228, 0.0162, 0.0390, 0.2773, 0.2191, 0.0588, 0.0670, 0.5768, 0.9818,\n",
      "        0.0282, 0.0022, 0.1309, 0.0060, 0.4102, 0.1551, 0.8412, 0.2440, 0.1454,\n",
      "        0.0316, 0.2969, 0.1653, 0.9108, 0.2399, 0.9933, 0.0378, 0.0592, 0.5706,\n",
      "        0.6016, 0.9584, 0.0135, 0.0040, 0.0991, 0.0300, 0.0672, 0.0263, 0.0904,\n",
      "        0.0145])\n"
     ]
    }
   ],
   "source": [
    "def forward_intermediate(self, x):\n",
    "    xo = self.layer0(x)\n",
    "    xo = self.bn(xo)\n",
    "    xo = self.scale_shift(xo)\n",
    "    xo = F.softmax(xo, dim=-1).data\n",
    "#     xo = F.log_softmax(xo, dim=-1).data\n",
    "#     xo = self.activ(xo)\n",
    "#     xo = self.layer1(xo)\n",
    "#     return xo\n",
    "    print(xo.shape)\n",
    "    print(xo.mean(dim=0), \"\\n \", xo.std(dim=0))\n",
    "    print(xo.min(dim=0)[0], \"\\n \", xo.max(dim=0)[0])\n",
    "\n",
    "forward_intermediate(model, xx)"
   ]
  },
  {
   "cell_type": "code",
   "execution_count": null,
   "metadata": {},
   "outputs": [],
   "source": []
  },
  {
   "cell_type": "code",
   "execution_count": 26,
   "metadata": {},
   "outputs": [
    {
     "name": "stderr",
     "output_type": "stream",
     "text": [
      "100%|██████████| 200/200 [00:01<00:00, 168.14it/s]"
     ]
    },
    {
     "name": "stdout",
     "output_type": "stream",
     "text": [
      "[Test] -1 Loss: 1.733 | Acc: 72.960 7296/10000\n",
      "Saving..\n"
     ]
    },
    {
     "name": "stderr",
     "output_type": "stream",
     "text": [
      "\n"
     ]
    }
   ],
   "source": [
    "test(-1, model, model_name)"
   ]
  },
  {
   "cell_type": "code",
   "execution_count": 27,
   "metadata": {},
   "outputs": [],
   "source": [
    "# asdasd"
   ]
  },
  {
   "cell_type": "code",
   "execution_count": 18,
   "metadata": {},
   "outputs": [],
   "source": [
    "learning_rate = 0.0001\n",
    "EPOCHS = 10"
   ]
  },
  {
   "cell_type": "code",
   "execution_count": 28,
   "metadata": {},
   "outputs": [
    {
     "name": "stderr",
     "output_type": "stream",
     "text": [
      "100%|██████████| 1200/1200 [00:09<00:00, 131.40it/s]\n"
     ]
    },
    {
     "name": "stdout",
     "output_type": "stream",
     "text": [
      "[Train] 0 Loss: 1.696 | Acc: 77.198 46319/60000\n"
     ]
    },
    {
     "name": "stderr",
     "output_type": "stream",
     "text": [
      "100%|██████████| 200/200 [00:01<00:00, 168.67it/s]\n"
     ]
    },
    {
     "name": "stdout",
     "output_type": "stream",
     "text": [
      "[Test] 0 Loss: 1.604 | Acc: 79.810 7981/10000\n",
      "Saving..\n"
     ]
    },
    {
     "name": "stderr",
     "output_type": "stream",
     "text": [
      "100%|██████████| 1200/1200 [00:09<00:00, 130.79it/s]\n"
     ]
    },
    {
     "name": "stdout",
     "output_type": "stream",
     "text": [
      "[Train] 1 Loss: 1.574 | Acc: 79.207 47524/60000\n"
     ]
    },
    {
     "name": "stderr",
     "output_type": "stream",
     "text": [
      "100%|██████████| 200/200 [00:01<00:00, 149.16it/s]\n"
     ]
    },
    {
     "name": "stdout",
     "output_type": "stream",
     "text": [
      "[Test] 1 Loss: 1.493 | Acc: 81.890 8189/10000\n",
      "Saving..\n"
     ]
    },
    {
     "name": "stderr",
     "output_type": "stream",
     "text": [
      "100%|██████████| 1200/1200 [00:10<00:00, 109.80it/s]\n"
     ]
    },
    {
     "name": "stdout",
     "output_type": "stream",
     "text": [
      "[Train] 2 Loss: 1.472 | Acc: 80.722 48433/60000\n"
     ]
    },
    {
     "name": "stderr",
     "output_type": "stream",
     "text": [
      "100%|██████████| 200/200 [00:01<00:00, 145.95it/s]\n"
     ]
    },
    {
     "name": "stdout",
     "output_type": "stream",
     "text": [
      "[Test] 2 Loss: 1.400 | Acc: 82.990 8299/10000\n",
      "Saving..\n"
     ]
    },
    {
     "name": "stderr",
     "output_type": "stream",
     "text": [
      "100%|██████████| 1200/1200 [00:10<00:00, 110.56it/s]\n"
     ]
    },
    {
     "name": "stdout",
     "output_type": "stream",
     "text": [
      "[Train] 3 Loss: 1.388 | Acc: 81.850 49110/60000\n"
     ]
    },
    {
     "name": "stderr",
     "output_type": "stream",
     "text": [
      "100%|██████████| 200/200 [00:01<00:00, 148.10it/s]\n"
     ]
    },
    {
     "name": "stdout",
     "output_type": "stream",
     "text": [
      "[Test] 3 Loss: 1.326 | Acc: 83.960 8396/10000\n",
      "Saving..\n"
     ]
    },
    {
     "name": "stderr",
     "output_type": "stream",
     "text": [
      "100%|██████████| 1200/1200 [00:11<00:00, 101.96it/s]\n"
     ]
    },
    {
     "name": "stdout",
     "output_type": "stream",
     "text": [
      "[Train] 4 Loss: 1.322 | Acc: 82.692 49615/60000\n"
     ]
    },
    {
     "name": "stderr",
     "output_type": "stream",
     "text": [
      "100%|██████████| 200/200 [00:01<00:00, 133.32it/s]\n"
     ]
    },
    {
     "name": "stdout",
     "output_type": "stream",
     "text": [
      "[Test] 4 Loss: 1.266 | Acc: 84.860 8486/10000\n",
      "Saving..\n"
     ]
    },
    {
     "name": "stderr",
     "output_type": "stream",
     "text": [
      "100%|██████████| 1200/1200 [00:10<00:00, 109.42it/s]\n"
     ]
    },
    {
     "name": "stdout",
     "output_type": "stream",
     "text": [
      "[Train] 5 Loss: 1.271 | Acc: 83.340 50004/60000\n"
     ]
    },
    {
     "name": "stderr",
     "output_type": "stream",
     "text": [
      "100%|██████████| 200/200 [00:01<00:00, 142.12it/s]\n"
     ]
    },
    {
     "name": "stdout",
     "output_type": "stream",
     "text": [
      "[Test] 5 Loss: 1.224 | Acc: 85.120 8512/10000\n",
      "Saving..\n"
     ]
    },
    {
     "name": "stderr",
     "output_type": "stream",
     "text": [
      "100%|██████████| 1200/1200 [00:11<00:00, 108.71it/s]\n"
     ]
    },
    {
     "name": "stdout",
     "output_type": "stream",
     "text": [
      "[Train] 6 Loss: 1.235 | Acc: 83.800 50280/60000\n"
     ]
    },
    {
     "name": "stderr",
     "output_type": "stream",
     "text": [
      "100%|██████████| 200/200 [00:01<00:00, 122.55it/s]\n"
     ]
    },
    {
     "name": "stdout",
     "output_type": "stream",
     "text": [
      "[Test] 6 Loss: 1.195 | Acc: 85.360 8536/10000\n",
      "Saving..\n"
     ]
    },
    {
     "name": "stderr",
     "output_type": "stream",
     "text": [
      "100%|██████████| 1200/1200 [00:10<00:00, 111.14it/s]\n"
     ]
    },
    {
     "name": "stdout",
     "output_type": "stream",
     "text": [
      "[Train] 7 Loss: 1.212 | Acc: 84.077 50446/60000\n"
     ]
    },
    {
     "name": "stderr",
     "output_type": "stream",
     "text": [
      "100%|██████████| 200/200 [00:01<00:00, 139.29it/s]\n"
     ]
    },
    {
     "name": "stdout",
     "output_type": "stream",
     "text": [
      "[Test] 7 Loss: 1.178 | Acc: 85.720 8572/10000\n",
      "Saving..\n"
     ]
    },
    {
     "name": "stderr",
     "output_type": "stream",
     "text": [
      "100%|██████████| 1200/1200 [00:11<00:00, 108.60it/s]\n"
     ]
    },
    {
     "name": "stdout",
     "output_type": "stream",
     "text": [
      "[Train] 8 Loss: 1.199 | Acc: 84.308 50585/60000\n"
     ]
    },
    {
     "name": "stderr",
     "output_type": "stream",
     "text": [
      "100%|██████████| 200/200 [00:01<00:00, 136.35it/s]\n"
     ]
    },
    {
     "name": "stdout",
     "output_type": "stream",
     "text": [
      "[Test] 8 Loss: 1.168 | Acc: 85.500 8550/10000\n"
     ]
    },
    {
     "name": "stderr",
     "output_type": "stream",
     "text": [
      "100%|██████████| 1200/1200 [00:10<00:00, 110.97it/s]\n"
     ]
    },
    {
     "name": "stdout",
     "output_type": "stream",
     "text": [
      "[Train] 9 Loss: 1.195 | Acc: 84.273 50564/60000\n"
     ]
    },
    {
     "name": "stderr",
     "output_type": "stream",
     "text": [
      "100%|██████████| 200/200 [00:01<00:00, 140.30it/s]"
     ]
    },
    {
     "name": "stdout",
     "output_type": "stream",
     "text": [
      "[Test] 9 Loss: 1.165 | Acc: 85.870 8587/10000\n",
      "Saving..\n"
     ]
    },
    {
     "name": "stderr",
     "output_type": "stream",
     "text": [
      "\n"
     ]
    }
   ],
   "source": [
    "# optimizer = torch.optim.Adam(model.parameters(), lr=learning_rate)\n",
    "# scheduler = torch.optim.lr_scheduler.CosineAnnealingLR(optimizer, T_max=EPOCHS)\n",
    "\n",
    "# best_acc = -1\n",
    "# for epoch in range(EPOCHS):\n",
    "#     train(epoch, model, optimizer)\n",
    "#     test(epoch, model, model_name)\n",
    "#     scheduler.step()"
   ]
  },
  {
   "cell_type": "code",
   "execution_count": 29,
   "metadata": {},
   "outputs": [
    {
     "data": {
      "text/plain": [
       "85.87"
      ]
     },
     "execution_count": 29,
     "metadata": {},
     "output_type": "execute_result"
    }
   ],
   "source": [
    "# float(best_acc)"
   ]
  },
  {
   "cell_type": "code",
   "execution_count": 30,
   "metadata": {},
   "outputs": [],
   "source": [
    "# model.layer0.centers.shape"
   ]
  },
  {
   "cell_type": "code",
   "execution_count": 31,
   "metadata": {
    "scrolled": false
   },
   "outputs": [
    {
     "data": {
      "image/png": "[encoded data removed]",
      "text/plain": [
       "<Figure size 720x720 with 25 Axes>"
      ]
     },
     "metadata": {
      "needs_background": "light"
     },
     "output_type": "display_data"
    }
   ],
   "source": [
    "_, axs = plt.subplots(5, 5, figsize=(10, 10))\n",
    "axs = axs.flatten()\n",
    "\n",
    "c = model.layer0.centers.data.cpu().numpy().reshape(-1, 28,28)\n",
    "imgs = c[:len(axs)]\n",
    "\n",
    "for img, ax in zip(imgs, axs):\n",
    "    ax.imshow(img)\n",
    "    ax.set_axis_off()\n",
    "\n",
    "plt.show()"
   ]
  },
  {
   "cell_type": "markdown",
   "metadata": {},
   "source": [
    "### Train with \n",
    "*02.4_MetricTransf_epsilon_..*"
   ]
  },
  {
   "cell_type": "code",
   "execution_count": 691,
   "metadata": {},
   "outputs": [],
   "source": [
    "class DistanceTransform_MinExp_epsilon(dtnn.DistanceTransformBase):\n",
    "    \n",
    "    def __init__(self, input_dim, num_centers, p=2, bias=False, epsilon=0.1):\n",
    "        super().__init__(input_dim, num_centers, p=2)\n",
    "        \n",
    "        self.scaler = nn.Parameter(torch.log(torch.ones(1, num_centers+1)*3/3))\n",
    "        self.bias = nn.Parameter(torch.ones(1, num_centers+1)*0) if bias else None\n",
    "        self.epsilon = epsilon\n",
    "        \n",
    "    def forward(self, x):\n",
    "        dists = super().forward(x)\n",
    "        \n",
    "        dists = torch.cat([dists, torch.ones(len(x), 1, dtype=x.dtype)*self.epsilon], dim=1)\n",
    "        \n",
    "        ### normalize similar to UMAP\n",
    "#         dists = dists-dists.min(dim=1, keepdim=True)[0]\n",
    "        dists = dists/torch.sqrt(dists.var(dim=1, keepdim=True)+1e-9)\n",
    "        \n",
    "        ## scale the dists\n",
    "#         dists = torch.exp(-(dists.abs())+self.scaler)\n",
    "        dists = (1-dists)*torch.exp(self.scaler)\n",
    "    \n",
    "        if self.bias is not None: dists = dists+self.bias\n",
    "        return dists"
   ]
  },
  {
   "cell_type": "code",
   "execution_count": 702,
   "metadata": {},
   "outputs": [],
   "source": [
    "class LocalMLP_epsilonsoftmax(nn.Module):\n",
    "    \n",
    "    def __init__(self, input_dim, hidden_dim, output_dim, epsilon=1.0):\n",
    "        super().__init__()\n",
    "        \n",
    "        self.input_dim = input_dim\n",
    "        self.hidden_dim = hidden_dim\n",
    "        self.new_hidden_dim = 0\n",
    "        self.output_dim = output_dim\n",
    "        \n",
    "        self.layer0 = DistanceTransform_MinExp_epsilon(self.input_dim, self.hidden_dim, bias=True, epsilon=epsilon)\n",
    "        self.scale_shift = dtnn.ScaleShift(self.hidden_dim+1, scaler_init=3, shifter_init=0, scaler_const=True, shifter_const=True)\n",
    "        self.softmax = nn.Softmax(dim=-1)\n",
    "        self.activ = dtnn.OneActiv(self.hidden_dim+1, mode='relu')\n",
    "#         self.activ = nn.ReLU()\n",
    "        self.layer1 = nn.Linear(self.hidden_dim+1, self.output_dim)\n",
    "        \n",
    "    def forward(self, x):\n",
    "        xo = self.layer0(x)\n",
    "        xo = self.scale_shift(xo)\n",
    "        xo = self.softmax(xo)\n",
    "#         print(torch.count_nonzero(xo.max(dim=1)[1] == 100))\n",
    "        xo = self.activ(xo)\n",
    "        xo = self.layer1(xo)\n",
    "        return xo"
   ]
  },
  {
   "cell_type": "code",
   "execution_count": 703,
   "metadata": {},
   "outputs": [],
   "source": [
    "learning_rate = 0.0001\n",
    "EPOCHS = 10"
   ]
  },
  {
   "cell_type": "code",
   "execution_count": 704,
   "metadata": {},
   "outputs": [
    {
     "data": {
      "text/plain": [
       "LocalMLP_epsilonsoftmax(\n",
       "  (layer0): DistanceTransform_MinExp_epsilon()\n",
       "  (scale_shift): ScaleShift()\n",
       "  (softmax): Softmax(dim=-1)\n",
       "  (activ): OneActiv()\n",
       "  (layer1): Linear(in_features=101, out_features=10, bias=True)\n",
       ")"
      ]
     },
     "execution_count": 704,
     "metadata": {},
     "output_type": "execute_result"
    }
   ],
   "source": [
    "model = LocalMLP_epsilonsoftmax(784, H, 10, epsilon=15.0).to(device)\n",
    "model_name = f\"LocalMLP_h{H}\"\n",
    "model"
   ]
  },
  {
   "cell_type": "code",
   "execution_count": 705,
   "metadata": {},
   "outputs": [
    {
     "data": {
      "text/plain": [
       "(torch.Size([100, 784]), torch.Size([100]))"
      ]
     },
     "execution_count": 705,
     "metadata": {},
     "output_type": "execute_result"
    }
   ],
   "source": [
    "idx = torch.randperm(len(train_loader.dataset))[:H]\n",
    "source, target = train_dataset.data[idx].reshape(-1, 784), train_dataset.targets[idx]\n",
    "source.shape, target.shape"
   ]
  },
  {
   "cell_type": "code",
   "execution_count": 706,
   "metadata": {},
   "outputs": [],
   "source": [
    "model.layer0.centers.data = source.type(torch.float32)/128-1"
   ]
  },
  {
   "cell_type": "code",
   "execution_count": 707,
   "metadata": {},
   "outputs": [
    {
     "data": {
      "text/plain": [
       "torch.Size([101, 10])"
      ]
     },
     "execution_count": 707,
     "metadata": {},
     "output_type": "execute_result"
    }
   ],
   "source": [
    "targets = torch.zeros(len(target), 10)\n",
    "for i, t in enumerate(target):\n",
    "    targets[i, t] = 1.\n",
    "\n",
    "targets = torch.cat([targets, torch.randn(1, 10)*0.01], dim=0)\n",
    "targets.shape"
   ]
  },
  {
   "cell_type": "code",
   "execution_count": 708,
   "metadata": {},
   "outputs": [],
   "source": [
    "model.layer1.weight.data = targets.t()#.to(device)"
   ]
  },
  {
   "cell_type": "code",
   "execution_count": 709,
   "metadata": {},
   "outputs": [],
   "source": [
    "for xx, yy in train_loader:\n",
    "    xx = xx.reshape(-1, 784).to(device)\n",
    "    break"
   ]
  },
  {
   "cell_type": "code",
   "execution_count": 710,
   "metadata": {},
   "outputs": [
    {
     "name": "stdout",
     "output_type": "stream",
     "text": [
      "torch.Size([50, 101])\n",
      "tensor([3.0828e-04, 1.0315e-04, 1.9598e-02, 2.8497e-03, 7.5522e-04, 1.3802e-05,\n",
      "        8.2067e-03, 3.8816e-04, 1.5159e-02, 4.4253e-03, 9.6721e-06, 8.5352e-04,\n",
      "        6.9254e-03, 3.2233e-03, 2.2461e-03, 7.3933e-03, 1.4320e-02, 1.2146e-03,\n",
      "        2.9648e-04, 7.3128e-03, 1.6947e-03, 1.1643e-03, 6.0676e-03, 1.8469e-02,\n",
      "        1.2571e-04, 6.1014e-05, 2.2287e-02, 5.4061e-02, 1.8182e-02, 7.1293e-03,\n",
      "        7.7420e-04, 2.4213e-03, 1.8466e-02, 1.3724e-02, 1.3693e-02, 6.9511e-03,\n",
      "        4.3537e-03, 1.1512e-02, 4.2084e-02, 3.9829e-03, 5.2675e-02, 2.0816e-02,\n",
      "        1.6910e-02, 1.5158e-03, 1.0018e-04, 3.3636e-03, 3.5017e-04, 1.7953e-04,\n",
      "        1.7119e-02, 2.9513e-04, 2.3657e-03, 1.3444e-03, 8.2252e-04, 1.8268e-02,\n",
      "        1.5495e-02, 1.9749e-02, 1.0425e-02, 2.8093e-03, 1.2968e-04, 2.0654e-02,\n",
      "        1.1911e-03, 6.1357e-04, 1.6437e-04, 1.2177e-03, 1.8867e-02, 8.7881e-03,\n",
      "        1.0305e-04, 1.0298e-03, 8.5993e-03, 1.2732e-03, 1.3346e-03, 1.6961e-02,\n",
      "        4.2811e-05, 7.5269e-06, 8.3103e-03, 1.8693e-03, 1.7038e-02, 3.0871e-05,\n",
      "        1.9780e-02, 1.9801e-02, 2.0011e-03, 5.6992e-04, 2.8101e-02, 4.1390e-04,\n",
      "        3.0298e-02, 2.8151e-03, 1.0016e-02, 3.7245e-02, 4.2296e-04, 8.0629e-04,\n",
      "        2.2691e-05, 1.7150e-04, 1.5683e-04, 6.5994e-05, 9.2809e-04, 7.1247e-04,\n",
      "        1.8193e-02, 3.8128e-03, 1.6098e-03, 4.9884e-03, 1.8144e-01]) \n",
      "  tensor([1.1406e-03, 2.5740e-04, 1.3780e-01, 1.9393e-02, 3.1764e-03, 3.4036e-05,\n",
      "        5.7774e-02, 8.3062e-04, 9.5316e-02, 2.1088e-02, 1.9704e-05, 4.5991e-03,\n",
      "        1.4893e-02, 2.0599e-02, 7.2350e-03, 2.4349e-02, 9.3237e-02, 3.3367e-03,\n",
      "        5.1719e-04, 2.0429e-02, 9.2347e-03, 4.3814e-03, 1.6964e-02, 5.1004e-02,\n",
      "        4.2297e-04, 2.6580e-04, 1.0376e-01, 1.7317e-01, 1.1819e-01, 3.8086e-02,\n",
      "        4.4705e-03, 1.3125e-02, 1.2221e-01, 4.7322e-02, 5.8083e-02, 2.4320e-02,\n",
      "        2.0545e-02, 3.5517e-02, 1.9709e-01, 8.7312e-03, 1.9926e-01, 1.0204e-01,\n",
      "        8.0796e-02, 3.8192e-03, 3.2091e-04, 1.2343e-02, 9.9599e-04, 9.6002e-04,\n",
      "        4.3402e-02, 1.4282e-03, 1.5005e-02, 4.6071e-03, 2.2673e-03, 7.1764e-02,\n",
      "        8.4833e-02, 1.2794e-01, 5.4038e-02, 1.8490e-02, 5.1160e-04, 1.4050e-01,\n",
      "        2.8162e-03, 2.2227e-03, 8.9549e-04, 4.6547e-03, 5.4093e-02, 2.2534e-02,\n",
      "        5.4787e-04, 3.8322e-03, 5.7302e-02, 4.4638e-03, 3.9830e-03, 5.3297e-02,\n",
      "        1.5800e-04, 2.9810e-05, 4.0632e-02, 9.7585e-03, 7.9222e-02, 7.1465e-05,\n",
      "        1.3544e-01, 9.4621e-02, 6.5482e-03, 1.5989e-03, 1.5030e-01, 2.4360e-03,\n",
      "        1.0754e-01, 4.8125e-03, 6.9527e-02, 1.2130e-01, 1.1771e-03, 1.8965e-03,\n",
      "        1.1710e-04, 6.1515e-04, 6.2965e-04, 1.2768e-04, 6.5321e-03, 4.7731e-03,\n",
      "        1.1429e-01, 2.5609e-02, 9.2766e-03, 1.3317e-02, 2.8353e-01])\n",
      "tensor([3.5985e-09, 1.7905e-08, 1.8954e-07, 2.2554e-08, 6.4029e-08, 7.7801e-08,\n",
      "        6.4569e-09, 6.6556e-08, 5.4799e-09, 2.6303e-07, 6.0450e-09, 2.5253e-07,\n",
      "        4.9882e-07, 1.2346e-08, 2.9154e-08, 5.6722e-07, 8.2086e-08, 2.4607e-08,\n",
      "        1.0795e-07, 2.1745e-07, 2.6837e-07, 1.9691e-07, 1.1577e-06, 4.7859e-07,\n",
      "        2.1256e-08, 2.2153e-08, 6.8017e-07, 1.3260e-07, 2.5055e-07, 5.8687e-08,\n",
      "        6.4047e-08, 7.5046e-08, 1.1761e-07, 4.0147e-07, 6.3935e-08, 1.1633e-07,\n",
      "        4.1692e-08, 9.5468e-07, 1.9599e-08, 3.8706e-08, 2.5069e-07, 2.5453e-08,\n",
      "        8.7605e-08, 1.5423e-06, 8.5219e-08, 3.1059e-07, 1.2390e-07, 2.2795e-08,\n",
      "        7.9062e-07, 9.0800e-08, 4.9329e-09, 1.9039e-07, 7.5521e-08, 2.2403e-07,\n",
      "        3.3740e-07, 1.0726e-07, 9.6918e-07, 7.3697e-08, 3.3271e-08, 4.6395e-07,\n",
      "        6.8942e-07, 9.5968e-09, 1.3123e-08, 2.1834e-07, 1.9131e-06, 1.2920e-06,\n",
      "        7.0364e-09, 6.1536e-08, 3.6281e-08, 1.9010e-07, 1.9777e-08, 2.0251e-07,\n",
      "        6.9048e-09, 3.2846e-09, 2.9333e-09, 1.1227e-07, 4.7062e-08, 1.5648e-08,\n",
      "        9.3840e-09, 4.7159e-08, 3.7396e-07, 9.0080e-07, 7.8513e-09, 5.0083e-08,\n",
      "        5.2260e-07, 5.0588e-07, 2.9048e-08, 6.3264e-07, 1.7870e-07, 9.1656e-08,\n",
      "        3.6605e-10, 1.8532e-08, 2.3045e-08, 1.4014e-08, 3.0084e-09, 1.0500e-07,\n",
      "        3.3062e-08, 3.4495e-08, 8.3493e-09, 2.7275e-07, 3.0401e-04]) \n",
      "  tensor([7.7117e-03, 1.5527e-03, 9.7447e-01, 1.3720e-01, 2.1285e-02, 1.8603e-04,\n",
      "        4.0856e-01, 4.6233e-03, 6.7006e-01, 1.4815e-01, 7.7987e-05, 3.2649e-02,\n",
      "        5.4477e-02, 1.4559e-01, 4.2715e-02, 1.5275e-01, 6.6012e-01, 1.8682e-02,\n",
      "        1.9242e-03, 1.0131e-01, 6.5312e-02, 2.8071e-02, 1.0576e-01, 3.2671e-01,\n",
      "        2.5550e-03, 1.8568e-03, 7.2796e-01, 9.0363e-01, 8.3689e-01, 2.6650e-01,\n",
      "        3.1660e-02, 9.2750e-02, 8.6373e-01, 2.9326e-01, 3.2203e-01, 1.5351e-01,\n",
      "        1.4435e-01, 2.2469e-01, 9.9723e-01, 4.5312e-02, 9.7523e-01, 7.0984e-01,\n",
      "        4.0952e-01, 2.4417e-02, 2.2128e-03, 8.4169e-02, 5.2308e-03, 6.8156e-03,\n",
      "        2.1288e-01, 9.5777e-03, 1.0573e-01, 3.2074e-02, 1.2078e-02, 4.4867e-01,\n",
      "        5.9585e-01, 9.0589e-01, 3.7509e-01, 1.3076e-01, 3.1923e-03, 9.9411e-01,\n",
      "        1.6660e-02, 1.1819e-02, 6.2254e-03, 3.2155e-02, 3.3780e-01, 1.2469e-01,\n",
      "        3.6995e-03, 2.0303e-02, 4.0528e-01, 2.8741e-02, 2.3270e-02, 2.9799e-01,\n",
      "        1.0739e-03, 2.0434e-04, 2.1563e-01, 6.8758e-02, 5.1923e-01, 4.0654e-04,\n",
      "        9.5822e-01, 6.2761e-01, 3.6435e-02, 1.0532e-02, 9.8508e-01, 1.7251e-02,\n",
      "        6.8712e-01, 2.0951e-02, 4.9179e-01, 7.3694e-01, 7.9894e-03, 1.2387e-02,\n",
      "        7.9395e-04, 3.8638e-03, 4.2488e-03, 6.3816e-04, 4.6193e-02, 3.3781e-02,\n",
      "        8.0861e-01, 1.8126e-01, 6.5586e-02, 7.4171e-02, 9.5304e-01])\n"
     ]
    }
   ],
   "source": [
    "def forward_intermediate(self, x):\n",
    "    xo = self.layer0(x)\n",
    "    xo = self.scale_shift(xo)\n",
    "    xo = self.softmax(xo).data\n",
    "    print(xo.shape)\n",
    "    print(xo.mean(dim=0), \"\\n \", xo.std(dim=0))\n",
    "    print(xo.min(dim=0)[0], \"\\n \", xo.max(dim=0)[0])\n",
    "\n",
    "forward_intermediate(model, xx)"
   ]
  },
  {
   "cell_type": "code",
   "execution_count": 711,
   "metadata": {},
   "outputs": [
    {
     "name": "stderr",
     "output_type": "stream",
     "text": [
      "100%|██████████| 200/200 [00:01<00:00, 156.54it/s]"
     ]
    },
    {
     "name": "stdout",
     "output_type": "stream",
     "text": [
      "[Test] -1 Loss: 1.891 | Acc: 67.990 6799/10000\n"
     ]
    },
    {
     "name": "stderr",
     "output_type": "stream",
     "text": [
      "\n"
     ]
    }
   ],
   "source": [
    "test(-1, model, model_name)"
   ]
  },
  {
   "cell_type": "code",
   "execution_count": 712,
   "metadata": {},
   "outputs": [
    {
     "data": {
      "text/plain": [
       "tensor([[-1., -1., -1.,  ..., -1., -1., -1.],\n",
       "        [-1., -1., -1.,  ..., -1., -1., -1.],\n",
       "        [-1., -1., -1.,  ..., -1., -1., -1.],\n",
       "        ...,\n",
       "        [-1., -1., -1.,  ..., -1., -1., -1.],\n",
       "        [-1., -1., -1.,  ..., -1., -1., -1.],\n",
       "        [-1., -1., -1.,  ..., -1., -1., -1.]])"
      ]
     },
     "execution_count": 712,
     "metadata": {},
     "output_type": "execute_result"
    }
   ],
   "source": [
    "xx"
   ]
  },
  {
   "cell_type": "code",
   "execution_count": 713,
   "metadata": {},
   "outputs": [],
   "source": [
    "# asdasd"
   ]
  },
  {
   "cell_type": "code",
   "execution_count": 714,
   "metadata": {
    "scrolled": true
   },
   "outputs": [
    {
     "name": "stderr",
     "output_type": "stream",
     "text": [
      "100%|██████████| 1200/1200 [00:09<00:00, 126.92it/s]\n"
     ]
    },
    {
     "name": "stdout",
     "output_type": "stream",
     "text": [
      "[Train] 0 Loss: 1.768 | Acc: 74.942 44965/60000\n"
     ]
    },
    {
     "name": "stderr",
     "output_type": "stream",
     "text": [
      "100%|██████████| 200/200 [00:01<00:00, 156.14it/s]\n"
     ]
    },
    {
     "name": "stdout",
     "output_type": "stream",
     "text": [
      "[Test] 0 Loss: 1.646 | Acc: 79.850 7985/10000\n",
      "Saving..\n"
     ]
    },
    {
     "name": "stderr",
     "output_type": "stream",
     "text": [
      "100%|██████████| 1200/1200 [00:09<00:00, 127.12it/s]\n"
     ]
    },
    {
     "name": "stdout",
     "output_type": "stream",
     "text": [
      "[Train] 1 Loss: 1.578 | Acc: 80.620 48372/60000\n"
     ]
    },
    {
     "name": "stderr",
     "output_type": "stream",
     "text": [
      "100%|██████████| 200/200 [00:01<00:00, 123.99it/s]\n"
     ]
    },
    {
     "name": "stdout",
     "output_type": "stream",
     "text": [
      "[Test] 1 Loss: 1.500 | Acc: 82.740 8274/10000\n",
      "Saving..\n"
     ]
    },
    {
     "name": "stderr",
     "output_type": "stream",
     "text": [
      "100%|██████████| 1200/1200 [00:10<00:00, 114.00it/s]\n"
     ]
    },
    {
     "name": "stdout",
     "output_type": "stream",
     "text": [
      "[Train] 2 Loss: 1.458 | Acc: 82.927 49756/60000\n"
     ]
    },
    {
     "name": "stderr",
     "output_type": "stream",
     "text": [
      "100%|██████████| 200/200 [00:01<00:00, 128.40it/s]\n"
     ]
    },
    {
     "name": "stdout",
     "output_type": "stream",
     "text": [
      "[Test] 2 Loss: 1.394 | Acc: 84.300 8430/10000\n",
      "Saving..\n"
     ]
    },
    {
     "name": "stderr",
     "output_type": "stream",
     "text": [
      "100%|██████████| 1200/1200 [00:10<00:00, 114.65it/s]\n"
     ]
    },
    {
     "name": "stdout",
     "output_type": "stream",
     "text": [
      "[Train] 3 Loss: 1.363 | Acc: 84.195 50517/60000\n"
     ]
    },
    {
     "name": "stderr",
     "output_type": "stream",
     "text": [
      "100%|██████████| 200/200 [00:01<00:00, 133.03it/s]\n"
     ]
    },
    {
     "name": "stdout",
     "output_type": "stream",
     "text": [
      "[Test] 3 Loss: 1.309 | Acc: 85.390 8539/10000\n",
      "Saving..\n"
     ]
    },
    {
     "name": "stderr",
     "output_type": "stream",
     "text": [
      "100%|██████████| 1200/1200 [00:09<00:00, 120.27it/s]\n"
     ]
    },
    {
     "name": "stdout",
     "output_type": "stream",
     "text": [
      "[Train] 4 Loss: 1.287 | Acc: 85.020 51012/60000\n"
     ]
    },
    {
     "name": "stderr",
     "output_type": "stream",
     "text": [
      "100%|██████████| 200/200 [00:01<00:00, 132.07it/s]\n"
     ]
    },
    {
     "name": "stdout",
     "output_type": "stream",
     "text": [
      "[Test] 4 Loss: 1.242 | Acc: 86.140 8614/10000\n",
      "Saving..\n"
     ]
    },
    {
     "name": "stderr",
     "output_type": "stream",
     "text": [
      "100%|██████████| 1200/1200 [00:10<00:00, 109.46it/s]\n"
     ]
    },
    {
     "name": "stdout",
     "output_type": "stream",
     "text": [
      "[Train] 5 Loss: 1.229 | Acc: 85.678 51407/60000\n"
     ]
    },
    {
     "name": "stderr",
     "output_type": "stream",
     "text": [
      "100%|██████████| 200/200 [00:01<00:00, 119.99it/s]\n"
     ]
    },
    {
     "name": "stdout",
     "output_type": "stream",
     "text": [
      "[Test] 5 Loss: 1.193 | Acc: 86.650 8665/10000\n",
      "Saving..\n"
     ]
    },
    {
     "name": "stderr",
     "output_type": "stream",
     "text": [
      "100%|██████████| 1200/1200 [00:11<00:00, 101.34it/s]\n"
     ]
    },
    {
     "name": "stdout",
     "output_type": "stream",
     "text": [
      "[Train] 6 Loss: 1.187 | Acc: 86.082 51649/60000\n"
     ]
    },
    {
     "name": "stderr",
     "output_type": "stream",
     "text": [
      "100%|██████████| 200/200 [00:01<00:00, 121.53it/s]\n"
     ]
    },
    {
     "name": "stdout",
     "output_type": "stream",
     "text": [
      "[Test] 6 Loss: 1.160 | Acc: 86.990 8699/10000\n",
      "Saving..\n"
     ]
    },
    {
     "name": "stderr",
     "output_type": "stream",
     "text": [
      "100%|██████████| 1200/1200 [00:11<00:00, 100.95it/s]\n"
     ]
    },
    {
     "name": "stdout",
     "output_type": "stream",
     "text": [
      "[Train] 7 Loss: 1.161 | Acc: 86.335 51801/60000\n"
     ]
    },
    {
     "name": "stderr",
     "output_type": "stream",
     "text": [
      "100%|██████████| 200/200 [00:01<00:00, 127.87it/s]\n"
     ]
    },
    {
     "name": "stdout",
     "output_type": "stream",
     "text": [
      "[Test] 7 Loss: 1.140 | Acc: 87.130 8713/10000\n",
      "Saving..\n"
     ]
    },
    {
     "name": "stderr",
     "output_type": "stream",
     "text": [
      "100%|██████████| 1200/1200 [00:10<00:00, 109.47it/s]\n"
     ]
    },
    {
     "name": "stdout",
     "output_type": "stream",
     "text": [
      "[Train] 8 Loss: 1.147 | Acc: 86.467 51880/60000\n"
     ]
    },
    {
     "name": "stderr",
     "output_type": "stream",
     "text": [
      "100%|██████████| 200/200 [00:01<00:00, 101.26it/s]\n"
     ]
    },
    {
     "name": "stdout",
     "output_type": "stream",
     "text": [
      "[Test] 8 Loss: 1.131 | Acc: 87.220 8722/10000\n",
      "Saving..\n"
     ]
    },
    {
     "name": "stderr",
     "output_type": "stream",
     "text": [
      "100%|██████████| 1200/1200 [00:20<00:00, 58.75it/s]\n"
     ]
    },
    {
     "name": "stdout",
     "output_type": "stream",
     "text": [
      "[Train] 9 Loss: 1.141 | Acc: 86.512 51907/60000\n"
     ]
    },
    {
     "name": "stderr",
     "output_type": "stream",
     "text": [
      "100%|██████████| 200/200 [00:02<00:00, 76.75it/s]"
     ]
    },
    {
     "name": "stdout",
     "output_type": "stream",
     "text": [
      "[Test] 9 Loss: 1.129 | Acc: 87.230 8723/10000\n",
      "Saving..\n"
     ]
    },
    {
     "name": "stderr",
     "output_type": "stream",
     "text": [
      "\n"
     ]
    }
   ],
   "source": [
    "optimizer = torch.optim.Adam(model.parameters(), lr=learning_rate)\n",
    "scheduler = torch.optim.lr_scheduler.CosineAnnealingLR(optimizer, T_max=EPOCHS)\n",
    "\n",
    "best_acc = -1\n",
    "for epoch in range(EPOCHS):\n",
    "    train(epoch, model, optimizer)\n",
    "    test(epoch, model, model_name)\n",
    "    scheduler.step()"
   ]
  },
  {
   "cell_type": "code",
   "execution_count": 519,
   "metadata": {},
   "outputs": [
    {
     "data": {
      "text/plain": [
       "78.5"
      ]
     },
     "execution_count": 519,
     "metadata": {},
     "output_type": "execute_result"
    }
   ],
   "source": [
    "float(best_acc)"
   ]
  },
  {
   "cell_type": "code",
   "execution_count": null,
   "metadata": {},
   "outputs": [],
   "source": []
  },
  {
   "cell_type": "code",
   "execution_count": 520,
   "metadata": {},
   "outputs": [],
   "source": [
    "# model.layer0.centers.shape"
   ]
  },
  {
   "cell_type": "code",
   "execution_count": 521,
   "metadata": {},
   "outputs": [
    {
     "data": {
      "image/png": "[encoded data removed]",
      "text/plain": [
       "<Figure size 720x720 with 25 Axes>"
      ]
     },
     "metadata": {
      "needs_background": "light"
     },
     "output_type": "display_data"
    }
   ],
   "source": [
    "_, axs = plt.subplots(5, 5, figsize=(10, 10))\n",
    "axs = axs.flatten()\n",
    "\n",
    "c = model.layer0.centers.data.cpu().numpy().reshape(-1, 28,28)\n",
    "imgs = c[:len(axs)]\n",
    "\n",
    "for img, ax in zip(imgs, axs):\n",
    "    ax.imshow(img)\n",
    "    ax.set_axis_off()\n",
    "\n",
    "plt.show()"
   ]
  },
  {
   "cell_type": "markdown",
   "metadata": {},
   "source": [
    "## Analyze the confidence of neurons along with epsilon"
   ]
  },
  {
   "cell_type": "code",
   "execution_count": 522,
   "metadata": {},
   "outputs": [
    {
     "name": "stderr",
     "output_type": "stream",
     "text": [
      "  0%|          | 0/200 [00:00<?, ?it/s]\n"
     ]
    }
   ],
   "source": [
    "with torch.no_grad():\n",
    "    for batch_idx, (inputs, targets) in enumerate(tqdm(test_loader)):\n",
    "        inputs, targets = inputs.to(device).view(-1, 28*28), targets.to(device)\n",
    "        xo = model.layer0(inputs)\n",
    "        xo = model.scale_shift(xo)\n",
    "        xo = model.softmax(xo).data\n",
    "        break"
   ]
  },
  {
   "cell_type": "code",
   "execution_count": 523,
   "metadata": {},
   "outputs": [
    {
     "data": {
      "text/plain": [
       "tensor([ 47,  37,  77,  96,  72,  11,  23,  59,   4,  48,  79,  78,   6,  40,\n",
       "          9,   1, 100,  52,  36,  27,  76,   5,  68,  18,  67,  38,  41,  82,\n",
       "         61,  56,  46,  86,  53,   7,  63,  19,  43,  71,  91,  20,  84,  57,\n",
       "         60,  65,  75,  12,  90,  73,  98,  14,  55,  97,  66,  17,  42,  58,\n",
       "          0,  92,  94,  62,   2,  54,  28,  88,  35,  31,  87,  29,  50,  32,\n",
       "         30,  24,  70,  25,  99,  26,  89,  69,  33,  16,  10,  80,  85,  64,\n",
       "         21,  74,  45,  93,  81,  44,  34,  15,  95,  22,  51,  13,   3,  49,\n",
       "         39,   8,  83])"
      ]
     },
     "execution_count": 523,
     "metadata": {},
     "output_type": "execute_result"
    }
   ],
   "source": [
    "j = 5\n",
    "nearest = torch.argsort(xo[j], descending=True)\n",
    "nearest"
   ]
  },
  {
   "cell_type": "code",
   "execution_count": 524,
   "metadata": {},
   "outputs": [
    {
     "data": {
      "text/plain": [
       "<matplotlib.image.AxesImage at 0x7f48f0e01710>"
      ]
     },
     "execution_count": 524,
     "metadata": {},
     "output_type": "execute_result"
    },
    {
     "data": {
      "image/png": "[encoded data removed]",
      "text/plain": [
       "<Figure size 432x288 with 1 Axes>"
      ]
     },
     "metadata": {
      "needs_background": "light"
     },
     "output_type": "display_data"
    }
   ],
   "source": [
    "i = -1\n",
    "plt.imshow(inputs[j].reshape(28,28))"
   ]
  },
  {
   "cell_type": "code",
   "execution_count": 525,
   "metadata": {},
   "outputs": [
    {
     "data": {
      "text/plain": [
       "<matplotlib.image.AxesImage at 0x7f48fc2e2090>"
      ]
     },
     "execution_count": 525,
     "metadata": {},
     "output_type": "execute_result"
    },
    {
     "data": {
      "image/png": "[encoded data removed]",
      "text/plain": [
       "<Figure size 432x288 with 1 Axes>"
      ]
     },
     "metadata": {
      "needs_background": "light"
     },
     "output_type": "display_data"
    }
   ],
   "source": [
    "### Run iteratively\n",
    "i+=1\n",
    "plt.imshow(model.layer0.centers.data[nearest[i]].reshape(28,28))"
   ]
  },
  {
   "cell_type": "code",
   "execution_count": 526,
   "metadata": {},
   "outputs": [
    {
     "data": {
      "text/plain": [
       "torch.Size([100, 784])"
      ]
     },
     "execution_count": 526,
     "metadata": {},
     "output_type": "execute_result"
    }
   ],
   "source": [
    "model.layer0.centers.shape"
   ]
  },
  {
   "cell_type": "code",
   "execution_count": 527,
   "metadata": {},
   "outputs": [],
   "source": [
    "## For centers, the actv\n",
    "inputs = model.layer0.centers.data.clone()\n",
    "with torch.no_grad():\n",
    "    xo = model.layer0(inputs)\n",
    "#     xo = model.scale_shift(xo)\n",
    "#     xo = model.softmax(xo).data"
   ]
  },
  {
   "cell_type": "code",
   "execution_count": 528,
   "metadata": {},
   "outputs": [
    {
     "data": {
      "text/plain": [
       "tensor([[ 1.0000, -5.4692, -5.3691,  ..., -5.8581, -6.7721, -3.9607],\n",
       "        [-4.6042,  1.0000, -4.0295,  ..., -4.3883, -5.0202, -3.2974],\n",
       "        [-4.9775, -4.4489,  1.0000,  ..., -4.8170, -5.9625, -3.6557],\n",
       "        ...,\n",
       "        [-6.3867, -5.9159, -6.5118,  ..., -6.2934, -6.7571, -4.3266],\n",
       "        [-5.3164, -4.7287, -4.7085,  ...,  1.0000, -5.5406, -3.5689],\n",
       "        [-7.4039, -6.5144, -7.0216,  ..., -6.6789,  1.0000, -4.3640]])"
      ]
     },
     "execution_count": 528,
     "metadata": {},
     "output_type": "execute_result"
    }
   ],
   "source": [
    "# plt.imshow(xo)\n",
    "xo"
   ]
  },
  {
   "cell_type": "markdown",
   "metadata": {},
   "source": [
    "#### Test for random image sample"
   ]
  },
  {
   "cell_type": "code",
   "execution_count": 529,
   "metadata": {},
   "outputs": [],
   "source": [
    "with torch.no_grad():\n",
    "    inputs = torch.rand(10, 28*28).to(device)*2-1\n",
    "#     inputs = torch.randn(10, 28*28).to(device)*0.7\n",
    "    xo = model.layer0(inputs)\n",
    "#     xo = model.scale_shift(xo)\n",
    "#     xo = model.softmax(xo).data"
   ]
  },
  {
   "cell_type": "code",
   "execution_count": 530,
   "metadata": {},
   "outputs": [
    {
     "data": {
      "text/plain": [
       "torch.return_types.max(values=tensor([-7.7624, -8.1835, -7.6889, -8.0997, -7.5991, -8.2283, -8.0031, -8.5863,\n",
       "        -7.8681, -8.0488]), indices=tensor([100, 100, 100, 100, 100, 100, 100, 100, 100, 100]))"
      ]
     },
     "execution_count": 530,
     "metadata": {},
     "output_type": "execute_result"
    }
   ],
   "source": [
    "# xo.argmax(dim=1)\n",
    "xo.max(dim=1)"
   ]
  },
  {
   "cell_type": "code",
   "execution_count": 531,
   "metadata": {},
   "outputs": [
    {
     "data": {
      "text/plain": [
       "<matplotlib.image.AxesImage at 0x7f48cabdafd0>"
      ]
     },
     "execution_count": 531,
     "metadata": {},
     "output_type": "execute_result"
    },
    {
     "data": {
      "image/png": "[encoded data removed]",
      "text/plain": [
       "<Figure size 432x288 with 1 Axes>"
      ]
     },
     "metadata": {
      "needs_background": "light"
     },
     "output_type": "display_data"
    }
   ],
   "source": [
    "j=0\n",
    "plt.imshow(inputs[j].reshape(28,28))"
   ]
  },
  {
   "cell_type": "code",
   "execution_count": 532,
   "metadata": {},
   "outputs": [
    {
     "data": {
      "text/plain": [
       "tensor([100,  99,  81,  25,  64,  70,  58,   0,  87,  84,  45,  94,   8,  10,\n",
       "         62,  57,  18,   2,  44,  95,  16,  54,  82,  63,  31,  46,  17,  66,\n",
       "         24,  53,  73,  56,  22,  43,  33,   3,  88,  12,  51,  76,  49,  13,\n",
       "         39,  14,  79,  27,  71,   7,  80,  35,  68,  36,  93,  28,  20,  92,\n",
       "         75,  74,  50,  19,  67,  30,  97,  98,  90,  61,  69,  89,  85,  26,\n",
       "          1,   5,  21,  83,  34,  32,  15,  38,  42,  60,  91,  86,  52,  11,\n",
       "         29,  55,  48,  23,  40,  65,   4,   6,  47,  41,  96,  72,  78,  77,\n",
       "         37,  59,   9])"
      ]
     },
     "execution_count": 532,
     "metadata": {},
     "output_type": "execute_result"
    }
   ],
   "source": [
    "i = -1\n",
    "nearest = torch.argsort(xo[0], descending=True)\n",
    "nearest"
   ]
  },
  {
   "cell_type": "code",
   "execution_count": 534,
   "metadata": {},
   "outputs": [
    {
     "data": {
      "text/plain": [
       "tensor(-17.2060)"
      ]
     },
     "execution_count": 534,
     "metadata": {},
     "output_type": "execute_result"
    },
    {
     "data": {
      "image/png": "[encoded data removed]",
      "text/plain": [
       "<Figure size 432x288 with 1 Axes>"
      ]
     },
     "metadata": {
      "needs_background": "light"
     },
     "output_type": "display_data"
    }
   ],
   "source": [
    "i+=1\n",
    "plt.imshow(model.layer0.centers.data[nearest[i]].reshape(28,28))\n",
    "xo[0][nearest[i]]"
   ]
  },
  {
   "cell_type": "markdown",
   "metadata": {},
   "source": [
    "### Test with Adverserial Example"
   ]
  },
  {
   "cell_type": "code",
   "execution_count": 535,
   "metadata": {},
   "outputs": [
    {
     "name": "stdout",
     "output_type": "stream",
     "text": [
      "tensor([4]) tensor([7])\n"
     ]
    }
   ],
   "source": [
    "for xx, yy in test_loader:\n",
    "    idx = np.random.randint(len(xx))\n",
    "    xx = xx[idx].reshape(1, 784).to(device)\n",
    "    yy = yy[idx].reshape(1,)\n",
    "\n",
    "target_class = 7\n",
    "advt = yy*0+target_class\n",
    "print(yy, advt)"
   ]
  },
  {
   "cell_type": "code",
   "execution_count": 536,
   "metadata": {},
   "outputs": [
    {
     "name": "stdout",
     "output_type": "stream",
     "text": [
      "tensor(0)\n"
     ]
    }
   ],
   "source": [
    "model.eval()\n",
    "\n",
    "X = torch.autograd.Variable(xx, requires_grad=True)\n",
    "yout = model(X)"
   ]
  },
  {
   "cell_type": "code",
   "execution_count": 537,
   "metadata": {},
   "outputs": [
    {
     "data": {
      "text/plain": [
       "torch.Size([1, 10])"
      ]
     },
     "execution_count": 537,
     "metadata": {},
     "output_type": "execute_result"
    }
   ],
   "source": [
    "yout.shape"
   ]
  },
  {
   "cell_type": "code",
   "execution_count": 538,
   "metadata": {},
   "outputs": [
    {
     "data": {
      "text/plain": [
       "(tensor([4]), tensor([4]), tensor([7]))"
      ]
     },
     "execution_count": 538,
     "metadata": {},
     "output_type": "execute_result"
    }
   ],
   "source": [
    "torch.argmax(yout.data.cpu(), dim=1), yy, advt"
   ]
  },
  {
   "cell_type": "code",
   "execution_count": 539,
   "metadata": {},
   "outputs": [],
   "source": [
    "loss = criterion(yout, advt.to(device))\n",
    "\n",
    "xx_grad = torch.autograd.grad(outputs=loss, inputs=X,\n",
    "                            only_inputs=True, retain_graph=True, create_graph=True)[0].data"
   ]
  },
  {
   "cell_type": "code",
   "execution_count": 540,
   "metadata": {},
   "outputs": [
    {
     "data": {
      "text/plain": [
       "(tensor(-0.0087), tensor(0.0062))"
      ]
     },
     "execution_count": 540,
     "metadata": {},
     "output_type": "execute_result"
    }
   ],
   "source": [
    "xx_grad.min(), xx_grad.max()"
   ]
  },
  {
   "cell_type": "code",
   "execution_count": 541,
   "metadata": {},
   "outputs": [
    {
     "data": {
      "image/png": "[encoded data removed]",
      "text/plain": [
       "<Figure size 432x288 with 1 Axes>"
      ]
     },
     "metadata": {
      "needs_background": "light"
     },
     "output_type": "display_data"
    },
    {
     "data": {
      "image/png": "[encoded data removed]",
      "text/plain": [
       "<Figure size 432x288 with 1 Axes>"
      ]
     },
     "metadata": {
      "needs_background": "light"
     },
     "output_type": "display_data"
    }
   ],
   "source": [
    "plt.imshow(xx.data.cpu().reshape(28,28))\n",
    "plt.xlabel(\"image\")\n",
    "plt.show()\n",
    "plt.imshow(xx_grad.data.cpu().reshape(28,28))\n",
    "plt.xlabel(\"adverserial_grad\")\n",
    "plt.show()"
   ]
  },
  {
   "cell_type": "code",
   "execution_count": 542,
   "metadata": {},
   "outputs": [
    {
     "data": {
      "text/plain": [
       "<matplotlib.image.AxesImage at 0x7f48f0c8c5d0>"
      ]
     },
     "execution_count": 542,
     "metadata": {},
     "output_type": "execute_result"
    },
    {
     "data": {
      "image/png": "[encoded data removed]",
      "text/plain": [
       "<Figure size 432x288 with 1 Axes>"
      ]
     },
     "metadata": {
      "needs_background": "light"
     },
     "output_type": "display_data"
    }
   ],
   "source": [
    "signed_grad = torch.sign(xx_grad.data.cpu())\n",
    "plt.imshow(signed_grad.reshape(28,28))"
   ]
  },
  {
   "cell_type": "code",
   "execution_count": 543,
   "metadata": {},
   "outputs": [
    {
     "data": {
      "text/plain": [
       "tensor(18.9336)"
      ]
     },
     "execution_count": 543,
     "metadata": {},
     "output_type": "execute_result"
    }
   ],
   "source": [
    "1/xx_grad.data.norm()"
   ]
  },
  {
   "cell_type": "code",
   "execution_count": 544,
   "metadata": {},
   "outputs": [],
   "source": [
    "epsilon = 1.0 #0.5\n",
    "pertubation = xx - epsilon*signed_grad\n",
    "\n",
    "# epsilon = 1/xx_grad.data.norm()*3\n",
    "# pertubation = xx - epsilon*xx_grad.data\n",
    "\n",
    "xx_adv = pertubation\n",
    "xx_adv = torch.clamp(pertubation, -1, 1)"
   ]
  },
  {
   "cell_type": "code",
   "execution_count": 545,
   "metadata": {},
   "outputs": [
    {
     "data": {
      "text/plain": [
       "(tensor(-1.), tensor(1.))"
      ]
     },
     "execution_count": 545,
     "metadata": {},
     "output_type": "execute_result"
    },
    {
     "data": {
      "image/png": "[encoded data removed]",
      "text/plain": [
       "<Figure size 432x288 with 1 Axes>"
      ]
     },
     "metadata": {
      "needs_background": "light"
     },
     "output_type": "display_data"
    }
   ],
   "source": [
    "plt.imshow(xx_adv.reshape(28,28))\n",
    "xx_adv.min(), xx_adv.max()"
   ]
  },
  {
   "cell_type": "code",
   "execution_count": 546,
   "metadata": {},
   "outputs": [
    {
     "name": "stdout",
     "output_type": "stream",
     "text": [
      "tensor(1)\n"
     ]
    },
    {
     "data": {
      "text/plain": [
       "(tensor([3]), tensor([4]), tensor([4]), tensor([7]))"
      ]
     },
     "execution_count": 546,
     "metadata": {},
     "output_type": "execute_result"
    }
   ],
   "source": [
    "yy_adv = model(xx_adv.to(device))\n",
    "yy_adv.argmax(dim=1), torch.argmax(yout.data, dim=1), yy, advt"
   ]
  },
  {
   "cell_type": "code",
   "execution_count": 547,
   "metadata": {},
   "outputs": [
    {
     "data": {
      "text/plain": [
       "tensor([100,   5,  79,  78,   1,  38,  96,  91,  46,  72,   7,  27,  37,  52,\n",
       "          9,  66,  88,  47,  59,  42,  40,  77,  92,  65,  90,   2,  28,  73,\n",
       "         89,   4,  32,  64,  23,  48,  86,  61,  11,  97,  18,  41,  67,  85,\n",
       "         17,  19,  16,  84,  76,  54,  50,  12,  36,  56,  71,  68,  26,  35,\n",
       "          6,   0,  53,  21,  75,  43,  57,  94,  98,  62,  60,  29,  20,  82,\n",
       "         31,  81,  63,  14,  13,  45,  34,  55,  30,  80,  69,  93,  24,  15,\n",
       "         70,  44,  25,  95,  58,  99,  33,  10,  87,  39,  74,  49,   3,  51,\n",
       "         22,  83,   8])"
      ]
     },
     "execution_count": 547,
     "metadata": {},
     "output_type": "execute_result"
    }
   ],
   "source": [
    "with torch.no_grad():\n",
    "    inputs = xx_adv.to(device).view(-1, 28*28)\n",
    "#     inputs = xx.to(device).view(-1, 28*28)\n",
    "\n",
    "    xo = model.layer0(inputs)\n",
    "    xo = model.scale_shift(xo)\n",
    "    xo = model.softmax(xo).data\n",
    "        \n",
    "nearest = torch.argsort(xo[0], descending=True)\n",
    "nearest"
   ]
  },
  {
   "cell_type": "code",
   "execution_count": 548,
   "metadata": {},
   "outputs": [],
   "source": [
    "i = -1"
   ]
  },
  {
   "cell_type": "code",
   "execution_count": 551,
   "metadata": {},
   "outputs": [
    {
     "data": {
      "text/plain": [
       "<matplotlib.image.AxesImage at 0x7f48fc0d2390>"
      ]
     },
     "execution_count": 551,
     "metadata": {},
     "output_type": "execute_result"
    },
    {
     "data": {
      "image/png": "[encoded data removed]",
      "text/plain": [
       "<Figure size 432x288 with 1 Axes>"
      ]
     },
     "metadata": {
      "needs_background": "light"
     },
     "output_type": "display_data"
    }
   ],
   "source": [
    "### Run iteratively\n",
    "i+=1\n",
    "plt.imshow(model.layer0.centers.data[nearest[i]].reshape(28,28))"
   ]
  },
  {
   "cell_type": "markdown",
   "metadata": {},
   "source": [
    "### Compare Adverserial Examples with Linear-Transform and DT without epsilon softmax.\n",
    "#### Benchmark"
   ]
  },
  {
   "cell_type": "code",
   "execution_count": 552,
   "metadata": {},
   "outputs": [],
   "source": [
    "import foolbox as fb\n",
    "import foolbox.attacks as fa"
   ]
  },
  {
   "cell_type": "markdown",
   "metadata": {},
   "source": [
    "#### epsilon-Softmax"
   ]
  },
  {
   "cell_type": "code",
   "execution_count": 670,
   "metadata": {},
   "outputs": [],
   "source": [
    "model.layer0.epsilon = 15."
   ]
  },
  {
   "cell_type": "code",
   "execution_count": 671,
   "metadata": {},
   "outputs": [],
   "source": [
    "fmodel = fb.PyTorchModel(model.eval(), bounds=(-1, 1), device=device)\n",
    "\n",
    "# attack = fa.LinfPGD()\n",
    "attack = fa.FGSM()\n",
    "epsilons = [0.0, 0.001, 0.01, 0.03, 0.1, 0.3, 0.5, 1.0]\n",
    "# epsilons = [0.5]"
   ]
  },
  {
   "cell_type": "code",
   "execution_count": 672,
   "metadata": {},
   "outputs": [
    {
     "data": {
      "text/plain": [
       "device(type='cpu')"
      ]
     },
     "execution_count": 672,
     "metadata": {},
     "output_type": "execute_result"
    }
   ],
   "source": [
    "fmodel.device"
   ]
  },
  {
   "cell_type": "code",
   "execution_count": 673,
   "metadata": {},
   "outputs": [],
   "source": [
    "images, labels = [], []\n",
    "for i, (xx, yy) in enumerate(test_loader):\n",
    "    images.append(xx.reshape(-1, 28*28))\n",
    "    labels.append(yy)\n",
    "    if i*batch_size > 500: break\n",
    "    \n",
    "images, labels = torch.cat(images), torch.cat(labels)\n",
    "images, labels = images.to(device), labels.to(device)"
   ]
  },
  {
   "cell_type": "code",
   "execution_count": 674,
   "metadata": {},
   "outputs": [
    {
     "data": {
      "text/plain": [
       "600"
      ]
     },
     "execution_count": 674,
     "metadata": {},
     "output_type": "execute_result"
    }
   ],
   "source": [
    "len(images)"
   ]
  },
  {
   "cell_type": "code",
   "execution_count": 675,
   "metadata": {},
   "outputs": [],
   "source": [
    "_, advs, success = attack(fmodel, images, labels, epsilons=epsilons)"
   ]
  },
  {
   "cell_type": "code",
   "execution_count": 591,
   "metadata": {},
   "outputs": [
    {
     "data": {
      "text/plain": [
       "0.98"
      ]
     },
     "execution_count": 591,
     "metadata": {},
     "output_type": "execute_result"
    }
   ],
   "source": [
    "588/600"
   ]
  },
  {
   "cell_type": "code",
   "execution_count": 563,
   "metadata": {},
   "outputs": [
    {
     "data": {
      "text/plain": [
       "torch.Size([1, 600])"
      ]
     },
     "execution_count": 563,
     "metadata": {},
     "output_type": "execute_result"
    }
   ],
   "source": [
    "success.shape"
   ]
  },
  {
   "cell_type": "code",
   "execution_count": 676,
   "metadata": {},
   "outputs": [
    {
     "name": "stdout",
     "output_type": "stream",
     "text": [
      "Eps: 0.0 ;\t success: 0.082 \n",
      "Eps: 0.001 ;\t success: 0.083 \n",
      "Eps: 0.01 ;\t success: 0.105 \n",
      "Eps: 0.03 ;\t success: 0.172 \n",
      "Eps: 0.1 ;\t success: 0.572 \n",
      "Eps: 0.3 ;\t success: 0.993 \n",
      "Eps: 0.5 ;\t success: 1.000 \n",
      "Eps: 1.0 ;\t success: 1.000 \n"
     ]
    }
   ],
   "source": [
    "for i, eps in enumerate(epsilons):\n",
    "    s = torch.count_nonzero(success[i])/torch.numel(success[i])\n",
    "    print(f\"Eps: {eps} ;\\t success: {s:.3f} \")"
   ]
  },
  {
   "cell_type": "code",
   "execution_count": null,
   "metadata": {},
   "outputs": [],
   "source": [
    "\"\"\"\n",
    "Changing epsilon on model changes rejection ratio..\n",
    "\"\"\""
   ]
  },
  {
   "cell_type": "markdown",
   "metadata": {},
   "source": [
    "#### Softmax"
   ]
  },
  {
   "cell_type": "code",
   "execution_count": 665,
   "metadata": {},
   "outputs": [],
   "source": [
    "class LocalMLPsoftmax(nn.Module):\n",
    "    \n",
    "    def __init__(self, input_dim, hidden_dim, output_dim):\n",
    "        super().__init__()\n",
    "        \n",
    "        self.input_dim = input_dim\n",
    "        self.hidden_dim = hidden_dim\n",
    "        self.new_hidden_dim = 0\n",
    "        self.output_dim = output_dim\n",
    "        \n",
    "        self.layer0 = dtnn.DistanceTransform(self.input_dim, self.hidden_dim, bias=True)\n",
    "#         self.layer0 = dtnn.DistanceTransform_MinExp(self.input_dim, self.hidden_dim, bias=True)\n",
    "#         self.layer0 = nn.Linear(self.input_dim, self.hidden_dim, bias=True)\n",
    "        \n",
    "#         self.scale_shift = dtnn.ScaleShift(self.hidden_dim, scaler_init=3, shifter_init=0, scaler_const=True, shifter_const=True)\n",
    "#         self.softmax = nn.Softmax(dim=-1)\n",
    "#         self.softmax = nn.LogSoftmax(dim=-1)\n",
    "#         self.activ = dtnn.OneActiv(self.hidden_dim, mode='relu')\n",
    "#         self.activ = dtnn.OneActiv(self.hidden_dim, mode='exp_1.6')\n",
    "        self.activ = nn.ReLU()\n",
    "        self.layer1 = nn.Linear(self.hidden_dim, self.output_dim)\n",
    "        \n",
    "    def forward(self, x):\n",
    "        xo = self.layer0(x)\n",
    "#         xo = self.scale_shift(xo)\n",
    "#         xo = self.softmax(xo)\n",
    "        xo = self.activ(xo)\n",
    "        xo = self.layer1(xo)\n",
    "        return xo"
   ]
  },
  {
   "cell_type": "code",
   "execution_count": 666,
   "metadata": {},
   "outputs": [
    {
     "data": {
      "text/plain": [
       "LocalMLPsoftmax(\n",
       "  (layer0): DistanceTransform()\n",
       "  (activ): ReLU()\n",
       "  (layer1): Linear(in_features=100, out_features=10, bias=True)\n",
       ")"
      ]
     },
     "execution_count": 666,
     "metadata": {},
     "output_type": "execute_result"
    }
   ],
   "source": [
    "model = LocalMLPsoftmax(784, H, 10).to(device)\n",
    "model_name = f\"LocalMLP_h{H}\"\n",
    "model"
   ]
  },
  {
   "cell_type": "code",
   "execution_count": 594,
   "metadata": {},
   "outputs": [
    {
     "data": {
      "text/plain": [
       "(torch.Size([100, 784]), torch.Size([100]))"
      ]
     },
     "execution_count": 594,
     "metadata": {},
     "output_type": "execute_result"
    }
   ],
   "source": [
    "idx = torch.randperm(len(train_loader.dataset))[:H]\n",
    "source, target = train_dataset.data[idx].reshape(-1, 784), train_dataset.targets[idx]\n",
    "source.shape, target.shape"
   ]
  },
  {
   "cell_type": "code",
   "execution_count": 595,
   "metadata": {},
   "outputs": [
    {
     "ename": "AttributeError",
     "evalue": "'Linear' object has no attribute 'centers'",
     "output_type": "error",
     "traceback": [
      "\u001b[0;31m---------------------------------------------------------------------------\u001b[0m",
      "\u001b[0;31mAttributeError\u001b[0m                            Traceback (most recent call last)",
      "\u001b[0;32m<ipython-input-595-f85a12ebc01c>\u001b[0m in \u001b[0;36m<module>\u001b[0;34m()\u001b[0m\n\u001b[0;32m----> 1\u001b[0;31m \u001b[0mmodel\u001b[0m\u001b[0;34m.\u001b[0m\u001b[0mlayer0\u001b[0m\u001b[0;34m.\u001b[0m\u001b[0mcenters\u001b[0m\u001b[0;34m.\u001b[0m\u001b[0mdata\u001b[0m \u001b[0;34m=\u001b[0m \u001b[0msource\u001b[0m\u001b[0;34m.\u001b[0m\u001b[0mtype\u001b[0m\u001b[0;34m(\u001b[0m\u001b[0mtorch\u001b[0m\u001b[0;34m.\u001b[0m\u001b[0mfloat32\u001b[0m\u001b[0;34m)\u001b[0m\u001b[0;34m/\u001b[0m\u001b[0;36m128\u001b[0m\u001b[0;34m-\u001b[0m\u001b[0;36m1\u001b[0m\u001b[0;34m\u001b[0m\u001b[0;34m\u001b[0m\u001b[0m\n\u001b[0m\u001b[1;32m      2\u001b[0m \u001b[0;31m# model.layer0.weight.data = source.type(torch.float32)/128-1\u001b[0m\u001b[0;34m\u001b[0m\u001b[0;34m\u001b[0m\u001b[0;34m\u001b[0m\u001b[0m\n",
      "\u001b[0;32m~/Program_Files/Python/miniconda3/lib/python3.7/site-packages/torch/nn/modules/module.py\u001b[0m in \u001b[0;36m__getattr__\u001b[0;34m(self, name)\u001b[0m\n\u001b[1;32m    946\u001b[0m                 \u001b[0;32mreturn\u001b[0m \u001b[0mmodules\u001b[0m\u001b[0;34m[\u001b[0m\u001b[0mname\u001b[0m\u001b[0;34m]\u001b[0m\u001b[0;34m\u001b[0m\u001b[0;34m\u001b[0m\u001b[0m\n\u001b[1;32m    947\u001b[0m         raise AttributeError(\"'{}' object has no attribute '{}'\".format(\n\u001b[0;32m--> 948\u001b[0;31m             type(self).__name__, name))\n\u001b[0m\u001b[1;32m    949\u001b[0m \u001b[0;34m\u001b[0m\u001b[0m\n\u001b[1;32m    950\u001b[0m     \u001b[0;32mdef\u001b[0m \u001b[0m__setattr__\u001b[0m\u001b[0;34m(\u001b[0m\u001b[0mself\u001b[0m\u001b[0;34m,\u001b[0m \u001b[0mname\u001b[0m\u001b[0;34m:\u001b[0m \u001b[0mstr\u001b[0m\u001b[0;34m,\u001b[0m \u001b[0mvalue\u001b[0m\u001b[0;34m:\u001b[0m \u001b[0mUnion\u001b[0m\u001b[0;34m[\u001b[0m\u001b[0mTensor\u001b[0m\u001b[0;34m,\u001b[0m \u001b[0;34m'Module'\u001b[0m\u001b[0;34m]\u001b[0m\u001b[0;34m)\u001b[0m \u001b[0;34m->\u001b[0m \u001b[0;32mNone\u001b[0m\u001b[0;34m:\u001b[0m\u001b[0;34m\u001b[0m\u001b[0;34m\u001b[0m\u001b[0m\n",
      "\u001b[0;31mAttributeError\u001b[0m: 'Linear' object has no attribute 'centers'"
     ]
    }
   ],
   "source": [
    "model.layer0.centers.data = source.type(torch.float32)/128-1\n",
    "# model.layer0.weight.data = source.type(torch.float32)/128-1"
   ]
  },
  {
   "cell_type": "code",
   "execution_count": 441,
   "metadata": {},
   "outputs": [
    {
     "data": {
      "text/plain": [
       "torch.Size([100, 10])"
      ]
     },
     "execution_count": 441,
     "metadata": {},
     "output_type": "execute_result"
    }
   ],
   "source": [
    "targets = torch.zeros(len(target), 10)\n",
    "for i, t in enumerate(target):\n",
    "    targets[i, t] = 1.\n",
    "\n",
    "targets.shape"
   ]
  },
  {
   "cell_type": "code",
   "execution_count": 442,
   "metadata": {},
   "outputs": [],
   "source": [
    "model.layer1.weight.data = targets.t()#.to(device)"
   ]
  },
  {
   "cell_type": "code",
   "execution_count": 667,
   "metadata": {},
   "outputs": [
    {
     "name": "stderr",
     "output_type": "stream",
     "text": [
      "100%|██████████| 200/200 [00:01<00:00, 156.30it/s]"
     ]
    },
    {
     "name": "stdout",
     "output_type": "stream",
     "text": [
      "[Test] -1 Loss: 2.367 | Acc: 12.380 1238/10000\n"
     ]
    },
    {
     "name": "stderr",
     "output_type": "stream",
     "text": [
      "\n"
     ]
    }
   ],
   "source": [
    "test(-1, model, model_name)"
   ]
  },
  {
   "cell_type": "code",
   "execution_count": 668,
   "metadata": {
    "scrolled": true
   },
   "outputs": [
    {
     "name": "stderr",
     "output_type": "stream",
     "text": [
      "100%|██████████| 1200/1200 [00:08<00:00, 141.69it/s]\n"
     ]
    },
    {
     "name": "stdout",
     "output_type": "stream",
     "text": [
      "[Train] 0 Loss: 1.349 | Acc: 67.098 40259/60000\n"
     ]
    },
    {
     "name": "stderr",
     "output_type": "stream",
     "text": [
      "100%|██████████| 200/200 [00:01<00:00, 152.09it/s]\n"
     ]
    },
    {
     "name": "stdout",
     "output_type": "stream",
     "text": [
      "[Test] 0 Loss: 0.738 | Acc: 84.860 8486/10000\n",
      "Saving..\n"
     ]
    },
    {
     "name": "stderr",
     "output_type": "stream",
     "text": [
      "100%|██████████| 1200/1200 [00:08<00:00, 142.20it/s]\n"
     ]
    },
    {
     "name": "stdout",
     "output_type": "stream",
     "text": [
      "[Train] 1 Loss: 0.597 | Acc: 86.288 51773/60000\n"
     ]
    },
    {
     "name": "stderr",
     "output_type": "stream",
     "text": [
      "100%|██████████| 200/200 [00:01<00:00, 138.83it/s]\n"
     ]
    },
    {
     "name": "stdout",
     "output_type": "stream",
     "text": [
      "[Test] 1 Loss: 0.471 | Acc: 88.710 8871/10000\n",
      "Saving..\n"
     ]
    },
    {
     "name": "stderr",
     "output_type": "stream",
     "text": [
      "100%|██████████| 1200/1200 [00:09<00:00, 126.27it/s]\n"
     ]
    },
    {
     "name": "stdout",
     "output_type": "stream",
     "text": [
      "[Train] 2 Loss: 0.434 | Acc: 88.898 53339/60000\n"
     ]
    },
    {
     "name": "stderr",
     "output_type": "stream",
     "text": [
      "100%|██████████| 200/200 [00:01<00:00, 138.98it/s]\n"
     ]
    },
    {
     "name": "stdout",
     "output_type": "stream",
     "text": [
      "[Test] 2 Loss: 0.377 | Acc: 90.160 9016/10000\n",
      "Saving..\n"
     ]
    },
    {
     "name": "stderr",
     "output_type": "stream",
     "text": [
      "100%|██████████| 1200/1200 [00:09<00:00, 124.21it/s]\n"
     ]
    },
    {
     "name": "stdout",
     "output_type": "stream",
     "text": [
      "[Train] 3 Loss: 0.366 | Acc: 90.145 54087/60000\n"
     ]
    },
    {
     "name": "stderr",
     "output_type": "stream",
     "text": [
      "100%|██████████| 200/200 [00:01<00:00, 134.68it/s]\n"
     ]
    },
    {
     "name": "stdout",
     "output_type": "stream",
     "text": [
      "[Test] 3 Loss: 0.330 | Acc: 91.140 9114/10000\n",
      "Saving..\n"
     ]
    },
    {
     "name": "stderr",
     "output_type": "stream",
     "text": [
      "100%|██████████| 1200/1200 [00:09<00:00, 127.12it/s]\n"
     ]
    },
    {
     "name": "stdout",
     "output_type": "stream",
     "text": [
      "[Train] 4 Loss: 0.328 | Acc: 90.890 54534/60000\n"
     ]
    },
    {
     "name": "stderr",
     "output_type": "stream",
     "text": [
      "100%|██████████| 200/200 [00:01<00:00, 128.78it/s]\n"
     ]
    },
    {
     "name": "stdout",
     "output_type": "stream",
     "text": [
      "[Test] 4 Loss: 0.305 | Acc: 91.410 9141/10000\n",
      "Saving..\n"
     ]
    },
    {
     "name": "stderr",
     "output_type": "stream",
     "text": [
      "100%|██████████| 1200/1200 [00:09<00:00, 123.73it/s]\n"
     ]
    },
    {
     "name": "stdout",
     "output_type": "stream",
     "text": [
      "[Train] 5 Loss: 0.306 | Acc: 91.350 54810/60000\n"
     ]
    },
    {
     "name": "stderr",
     "output_type": "stream",
     "text": [
      "100%|██████████| 200/200 [00:01<00:00, 147.94it/s]\n"
     ]
    },
    {
     "name": "stdout",
     "output_type": "stream",
     "text": [
      "[Test] 5 Loss: 0.288 | Acc: 91.980 9198/10000\n",
      "Saving..\n"
     ]
    },
    {
     "name": "stderr",
     "output_type": "stream",
     "text": [
      "100%|██████████| 1200/1200 [00:09<00:00, 123.00it/s]\n"
     ]
    },
    {
     "name": "stdout",
     "output_type": "stream",
     "text": [
      "[Train] 6 Loss: 0.292 | Acc: 91.712 55027/60000\n"
     ]
    },
    {
     "name": "stderr",
     "output_type": "stream",
     "text": [
      "100%|██████████| 200/200 [00:01<00:00, 129.90it/s]\n"
     ]
    },
    {
     "name": "stdout",
     "output_type": "stream",
     "text": [
      "[Test] 6 Loss: 0.279 | Acc: 92.070 9207/10000\n",
      "Saving..\n"
     ]
    },
    {
     "name": "stderr",
     "output_type": "stream",
     "text": [
      "100%|██████████| 1200/1200 [00:09<00:00, 123.76it/s]\n"
     ]
    },
    {
     "name": "stdout",
     "output_type": "stream",
     "text": [
      "[Train] 7 Loss: 0.283 | Acc: 91.967 55180/60000\n"
     ]
    },
    {
     "name": "stderr",
     "output_type": "stream",
     "text": [
      "100%|██████████| 200/200 [00:01<00:00, 147.52it/s]\n"
     ]
    },
    {
     "name": "stdout",
     "output_type": "stream",
     "text": [
      "[Test] 7 Loss: 0.274 | Acc: 92.320 9232/10000\n",
      "Saving..\n"
     ]
    },
    {
     "name": "stderr",
     "output_type": "stream",
     "text": [
      "100%|██████████| 1200/1200 [00:09<00:00, 122.94it/s]\n"
     ]
    },
    {
     "name": "stdout",
     "output_type": "stream",
     "text": [
      "[Train] 8 Loss: 0.279 | Acc: 92.040 55224/60000\n"
     ]
    },
    {
     "name": "stderr",
     "output_type": "stream",
     "text": [
      "100%|██████████| 200/200 [00:01<00:00, 103.96it/s]\n"
     ]
    },
    {
     "name": "stdout",
     "output_type": "stream",
     "text": [
      "[Test] 8 Loss: 0.271 | Acc: 92.230 9223/10000\n"
     ]
    },
    {
     "name": "stderr",
     "output_type": "stream",
     "text": [
      "100%|██████████| 1200/1200 [00:11<00:00, 108.68it/s]\n"
     ]
    },
    {
     "name": "stdout",
     "output_type": "stream",
     "text": [
      "[Train] 9 Loss: 0.277 | Acc: 92.118 55271/60000\n"
     ]
    },
    {
     "name": "stderr",
     "output_type": "stream",
     "text": [
      "100%|██████████| 200/200 [00:01<00:00, 128.53it/s]"
     ]
    },
    {
     "name": "stdout",
     "output_type": "stream",
     "text": [
      "[Test] 9 Loss: 0.270 | Acc: 92.290 9229/10000\n"
     ]
    },
    {
     "name": "stderr",
     "output_type": "stream",
     "text": [
      "\n"
     ]
    }
   ],
   "source": [
    "optimizer = torch.optim.Adam(model.parameters(), lr=learning_rate)\n",
    "scheduler = torch.optim.lr_scheduler.CosineAnnealingLR(optimizer, T_max=EPOCHS)\n",
    "\n",
    "best_acc = -1\n",
    "for epoch in range(EPOCHS):\n",
    "    train(epoch, model, optimizer)\n",
    "    test(epoch, model, model_name)\n",
    "    scheduler.step()"
   ]
  },
  {
   "cell_type": "code",
   "execution_count": 669,
   "metadata": {},
   "outputs": [
    {
     "data": {
      "text/plain": [
       "92.32"
      ]
     },
     "execution_count": 669,
     "metadata": {},
     "output_type": "execute_result"
    }
   ],
   "source": [
    "float(best_acc)"
   ]
  },
  {
   "cell_type": "code",
   "execution_count": 446,
   "metadata": {},
   "outputs": [],
   "source": [
    "fmodel = fb.PyTorchModel(model.eval(), bounds=(-1, 1), device=device)\n",
    "\n",
    "# attack = fa.LinfPGD()\n",
    "attack = fa.FGSM()\n",
    "epsilons = [0.0, 0.001, 0.01, 0.03, 0.1, 0.3, 0.5, 1.0]"
   ]
  },
  {
   "cell_type": "code",
   "execution_count": 447,
   "metadata": {},
   "outputs": [],
   "source": [
    "images, labels = [], []\n",
    "for i, (xx, yy) in enumerate(test_loader):\n",
    "    images.append(xx.reshape(-1, 28*28))\n",
    "    labels.append(yy)\n",
    "    if i*batch_size > 500: break\n",
    "    \n",
    "images, labels = torch.cat(images), torch.cat(labels)\n",
    "images, labels = images.to(device), labels.to(device)"
   ]
  },
  {
   "cell_type": "code",
   "execution_count": 448,
   "metadata": {},
   "outputs": [],
   "source": [
    "attack_criteria = fb.criteria.Misclassification(labels)\n",
    "# attack_criteria"
   ]
  },
  {
   "cell_type": "code",
   "execution_count": 449,
   "metadata": {},
   "outputs": [],
   "source": [
    "# _, advs, success = attack(fmodel, images, attack_criteria, epsilons=epsilons)\n",
    "_, advs, success = attack(fmodel, images, labels, epsilons=epsilons)"
   ]
  },
  {
   "cell_type": "code",
   "execution_count": 450,
   "metadata": {},
   "outputs": [
    {
     "name": "stdout",
     "output_type": "stream",
     "text": [
      "Eps: 0.0 ;\t success: 0.235 \n",
      "Eps: 0.001 ;\t success: 0.235 \n",
      "Eps: 0.01 ;\t success: 0.250 \n",
      "Eps: 0.03 ;\t success: 0.267 \n",
      "Eps: 0.1 ;\t success: 0.328 \n",
      "Eps: 0.3 ;\t success: 0.460 \n",
      "Eps: 0.5 ;\t success: 0.552 \n",
      "Eps: 1.0 ;\t success: 0.673 \n"
     ]
    }
   ],
   "source": [
    "for i, eps in enumerate(epsilons):\n",
    "    s = torch.count_nonzero(success[i])/torch.numel(success[i])\n",
    "    print(f\"Eps: {eps} ;\\t success: {s:.3f} \")"
   ]
  },
  {
   "cell_type": "markdown",
   "metadata": {},
   "source": [
    "## TODO"
   ]
  },
  {
   "cell_type": "code",
   "execution_count": null,
   "metadata": {},
   "outputs": [],
   "source": [
    "\"\"\"\n",
    "Create MLP with feature to reject examples (maybe with 11th class for uncertainity)\n",
    "\"\"\""
   ]
  }
 ],
 "metadata": {
  "kernelspec": {
   "display_name": "Python 3",
   "language": "python",
   "name": "python3"
  },
  "language_info": {
   "codemirror_mode": {
    "name": "ipython",
    "version": 3
   },
   "file_extension": ".py",
   "mimetype": "text/x-python",
   "name": "python",
   "nbconvert_exporter": "python",
   "pygments_lexer": "ipython3",
   "version": "3.7.4"
  }
 },
 "nbformat": 4,
 "nbformat_minor": 4
}
