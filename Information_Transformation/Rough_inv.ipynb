{
 "cells": [
  {
   "cell_type": "code",
   "execution_count": 1,
   "metadata": {},
   "outputs": [],
   "source": [
    "import numpy as np"
   ]
  },
  {
   "cell_type": "code",
   "execution_count": 41,
   "metadata": {},
   "outputs": [
    {
     "data": {
      "text/plain": [
       "array([[0.93862551, 0.70637641, 0.16633586, 0.81597629],\n",
       "       [0.11113873, 0.31982113, 0.52954243, 0.9054108 ],\n",
       "       [0.65002935, 0.1174469 , 0.89341827, 0.9119995 ],\n",
       "       [0.40529841, 0.84286776, 0.96988641, 0.29894686],\n",
       "       [0.05240202, 0.62809359, 0.88229915, 0.41078752],\n",
       "       [0.36862339, 0.64862595, 0.20058682, 0.49542143]])"
      ]
     },
     "execution_count": 41,
     "metadata": {},
     "output_type": "execute_result"
    }
   ],
   "source": [
    "# mat = np.random.rand(4,6) # the inverse is perfectly decodable\n",
    "mat = np.random.rand(6,4) # the inverse is with least distance\n",
    "mat"
   ]
  },
  {
   "cell_type": "code",
   "execution_count": 42,
   "metadata": {},
   "outputs": [
    {
     "data": {
      "text/plain": [
       "array([[ 0.66829711, -1.0484237 ,  0.72239123,  0.36137648, -0.56556384,\n",
       "        -0.26358709],\n",
       "       [ 0.25215032,  0.13317226, -0.96076323,  0.30837521,  0.36522991,\n",
       "         0.62103009],\n",
       "       [-0.46057901, -0.26462185,  0.60938722,  0.51846035,  0.29058857,\n",
       "        -0.43338872],\n",
       "       [ 0.06138981,  1.10374182,  0.00951926, -0.72089424,  0.04506426,\n",
       "         0.28033361]])"
      ]
     },
     "execution_count": 42,
     "metadata": {},
     "output_type": "execute_result"
    }
   ],
   "source": [
    "imat = np.linalg.pinv(mat)\n",
    "imat"
   ]
  },
  {
   "cell_type": "code",
   "execution_count": 43,
   "metadata": {},
   "outputs": [
    {
     "data": {
      "text/plain": [
       "array([[ 1.00000000e+00, -5.61120278e-16, -3.50305864e-16,\n",
       "        -7.49523968e-16],\n",
       "       [-1.15118489e-16,  1.00000000e+00, -1.27094211e-16,\n",
       "         2.64825321e-16],\n",
       "       [ 1.44233994e-16, -1.06880365e-16,  1.00000000e+00,\n",
       "        -4.28604602e-16],\n",
       "       [-1.60767590e-16,  4.29690380e-16,  5.23264890e-16,\n",
       "         1.00000000e+00]])"
      ]
     },
     "execution_count": 43,
     "metadata": {},
     "output_type": "execute_result"
    }
   ],
   "source": [
    "np.matmul(imat, mat)"
   ]
  },
  {
   "cell_type": "code",
   "execution_count": 44,
   "metadata": {},
   "outputs": [
    {
     "data": {
      "text/plain": [
       "array([[ 0.77887558, -0.03339644,  0.10852479,  0.0550321 , -0.18775618,\n",
       "         0.34792894],\n",
       "       [-0.03339644,  0.78528209,  0.10432848, -0.23937084,  0.24863285,\n",
       "         0.19364318],\n",
       "       [ 0.10852479,  0.10432848,  0.90985607,  0.07686979, -0.02402225,\n",
       "        -0.22993457],\n",
       "       [ 0.0550321 , -0.23937084,  0.07686979,  0.69372341,  0.37392812,\n",
       "         0.08008184],\n",
       "       [-0.18775618,  0.24863285, -0.02402225,  0.37392812,  0.47465976,\n",
       "         0.10903158],\n",
       "       [ 0.34792894,  0.19364318, -0.22993457,  0.08008184,  0.10903158,\n",
       "         0.35760308]])"
      ]
     },
     "execution_count": 44,
     "metadata": {},
     "output_type": "execute_result"
    }
   ],
   "source": [
    "np.matmul(mat, imat)"
   ]
  },
  {
   "cell_type": "code",
   "execution_count": 45,
   "metadata": {},
   "outputs": [
    {
     "name": "stdout",
     "output_type": "stream",
     "text": [
      "[[0.93862551 0.70637641 0.16633586 0.81597629]\n",
      " [0.11113873 0.31982113 0.52954243 0.9054108 ]\n",
      " [0.65002935 0.1174469  0.89341827 0.9119995 ]\n",
      " [0.40529841 0.84286776 0.96988641 0.29894686]\n",
      " [0.05240202 0.62809359 0.88229915 0.41078752]\n",
      " [0.36862339 0.64862595 0.20058682 0.49542143]]\n",
      "[[ 0.00000000e+00 -2.22044605e-16 -8.32667268e-16 -6.66133815e-16]\n",
      " [ 4.16333634e-17 -6.66133815e-16 -1.11022302e-15 -8.88178420e-16]\n",
      " [-1.11022302e-16 -3.46944695e-16 -8.88178420e-16 -3.33066907e-16]\n",
      " [ 5.55111512e-17 -2.22044605e-16 -5.55111512e-16 -1.11022302e-16]\n",
      " [ 9.71445147e-17 -1.11022302e-16 -5.55111512e-16 -2.22044605e-16]\n",
      " [ 6.10622664e-16  2.22044605e-16 -2.77555756e-17  1.66533454e-16]]\n"
     ]
    }
   ],
   "source": [
    "iimat = np.linalg.pinv(imat)\n",
    "print(iimat)\n",
    "print(iimat - mat)"
   ]
  },
  {
   "cell_type": "code",
   "execution_count": 46,
   "metadata": {},
   "outputs": [
    {
     "data": {
      "text/plain": [
       "array([[0.94578446, 0.7155785 , 0.17661912, 0.82680705],\n",
       "       [0.11628541, 0.32643045, 0.53693004, 0.91319075],\n",
       "       [0.65627518, 0.12555134, 0.90245343, 0.92152778],\n",
       "       [0.41199374, 0.85149013, 0.97951726, 0.30909304],\n",
       "       [0.05741956, 0.63457893, 0.88953635, 0.41841572],\n",
       "       [0.37212224, 0.65323968, 0.20570979, 0.50083559]])"
      ]
     },
     "execution_count": 46,
     "metadata": {},
     "output_type": "execute_result"
    }
   ],
   "source": [
    "imat -=0.001\n",
    "np.linalg.pinv(imat) # should be ~= iimat"
   ]
  },
  {
   "cell_type": "code",
   "execution_count": 47,
   "metadata": {},
   "outputs": [
    {
     "data": {
      "text/plain": [
       "array([[ 0.99747388, -0.00326323, -0.00364207, -0.00383854],\n",
       "       [-0.00252612,  0.99673677, -0.00364207, -0.00383854],\n",
       "       [-0.00252612, -0.00326323,  0.99635793, -0.00383854],\n",
       "       [-0.00252612, -0.00326323, -0.00364207,  0.99616146]])"
      ]
     },
     "execution_count": 47,
     "metadata": {},
     "output_type": "execute_result"
    }
   ],
   "source": [
    "np.matmul(imat, mat)"
   ]
  },
  {
   "cell_type": "code",
   "execution_count": 48,
   "metadata": {},
   "outputs": [],
   "source": [
    "# Recovering imat \n",
    "imat = np.linalg.pinv(mat)"
   ]
  },
  {
   "cell_type": "markdown",
   "metadata": {},
   "source": [
    "# operations"
   ]
  },
  {
   "cell_type": "code",
   "execution_count": 49,
   "metadata": {},
   "outputs": [
    {
     "data": {
      "text/plain": [
       "array([[0.86170299, 0.66140278, 0.11406622, 0.09665644, 0.38180483,\n",
       "        0.38174651],\n",
       "       [0.58082057, 0.6151876 , 0.27620403, 0.99580576, 0.29471536,\n",
       "        0.06554319],\n",
       "       [0.43876831, 0.32089557, 0.71345569, 0.99640196, 0.07091968,\n",
       "        0.23961731]])"
      ]
     },
     "execution_count": 49,
     "metadata": {},
     "output_type": "execute_result"
    }
   ],
   "source": [
    "# X = np.random.rand(3,4)\n",
    "X = np.random.rand(3,6)\n",
    "X"
   ]
  },
  {
   "cell_type": "code",
   "execution_count": 50,
   "metadata": {},
   "outputs": [
    {
     "data": {
      "text/plain": [
       "array([[1.156373  , 1.40250243, 1.10266695, 1.78085996],\n",
       "       [1.23628782, 1.70642166, 1.90813764, 1.73406115],\n",
       "       [1.40715521, 1.53615922, 1.95735824, 1.7449538 ]])"
      ]
     },
     "execution_count": 50,
     "metadata": {},
     "output_type": "execute_result"
    }
   ],
   "source": [
    "Y = np.matmul(X, mat)\n",
    "Y"
   ]
  },
  {
   "cell_type": "code",
   "execution_count": 51,
   "metadata": {},
   "outputs": [
    {
     "data": {
      "text/plain": [
       "array([[0.72790358, 0.6482254 , 0.17678456, 0.13826039, 0.25890864,\n",
       "        0.58754271],\n",
       "       [0.48408789, 0.34011547, 0.43291795, 0.7122025 , 0.55666373,\n",
       "        0.39302   ],\n",
       "       [0.53334506, 0.13729764, 0.75003104, 0.73911172, 0.41263619,\n",
       "        0.22396538]])"
      ]
     },
     "execution_count": 51,
     "metadata": {},
     "output_type": "execute_result"
    }
   ],
   "source": [
    "Xp = np.matmul(Y,imat)\n",
    "Xp"
   ]
  },
  {
   "cell_type": "code",
   "execution_count": 52,
   "metadata": {},
   "outputs": [
    {
     "data": {
      "text/plain": [
       "array([[ 0.13379942,  0.01317738, -0.06271834, -0.04160395,  0.12289619,\n",
       "        -0.2057962 ],\n",
       "       [ 0.09673268,  0.27507214, -0.15671391,  0.28360326, -0.26194837,\n",
       "        -0.32747681],\n",
       "       [-0.09457675,  0.18359793, -0.03657534,  0.25729024, -0.34171651,\n",
       "         0.01565193]])"
      ]
     },
     "execution_count": 52,
     "metadata": {},
     "output_type": "execute_result"
    }
   ],
   "source": [
    "X - Xp"
   ]
  },
  {
   "cell_type": "code",
   "execution_count": 53,
   "metadata": {},
   "outputs": [
    {
     "data": {
      "text/plain": [
       "array([[ 0.06689971,  0.00658869, -0.03135917, -0.02080198,  0.06144809,\n",
       "        -0.1028981 ],\n",
       "       [ 0.04836634,  0.13753607, -0.07835696,  0.14180163, -0.13097418,\n",
       "        -0.16373841],\n",
       "       [-0.04728837,  0.09179896, -0.01828767,  0.12864512, -0.17085826,\n",
       "         0.00782597]])"
      ]
     },
     "execution_count": 53,
     "metadata": {},
     "output_type": "execute_result"
    }
   ],
   "source": [
    "# do midpoint give better result ?\n",
    "# the error is reduced by factor of 2 when the new input is the midpoint of the previous input and reconstructed input\n",
    "# the error is zero if the input is the recreated input, the compressed representation support only limited value \n",
    "#   for total reconstruction\n",
    "Xnew = (X + Xp)/2\n",
    "Ynew = X.dot(mat)\n",
    "Xpnew = Ynew.dot(imat)\n",
    "Xnew - Xpnew"
   ]
  },
  {
   "cell_type": "code",
   "execution_count": 40,
   "metadata": {},
   "outputs": [
    {
     "name": "stdout",
     "output_type": "stream",
     "text": [
      "[[-0.03957998  0.83546378  0.45235587 -0.89054755]\n",
      " [-0.0076792   0.37671032 -2.29633944  2.63158405]\n",
      " [ 1.71935288 -0.2010852   0.01575532 -1.45565687]\n",
      " [-1.35489886  0.01651394  0.28466886  1.35220683]\n",
      " [-0.75702935  0.32955884  0.32784858  0.61414043]\n",
      " [ 0.7537922  -0.58781043  0.54185774 -0.65260528]]\n",
      "[[ 0.79732196 -0.06182593  0.13753238 -0.09978682  0.28579981 -0.21730879]\n",
      " [-0.06182593  0.97788999  0.07272425  0.00702309  0.06762833 -0.08880869]\n",
      " [ 0.13753238  0.07272425  0.61536876 -0.2869441  -0.00882455  0.36065397]\n",
      " [-0.09978682  0.00702309 -0.2869441   0.51908439  0.36608085  0.15256786]\n",
      " [ 0.28579981  0.06762833 -0.00882455  0.36608085  0.47935765  0.1709553 ]\n",
      " [-0.21730879 -0.08880869  0.36065397  0.15256786  0.1709553   0.61097726]]\n"
     ]
    }
   ],
   "source": [
    "# way of producing pseudoinverse of a matrix ()\n",
    "# A.T.dot(A)).inv()\n",
    "inversemat = np.matmul(mat.T, np.linalg.inv(mat.dot(mat.T))) # not working\n",
    "print(inversemat)\n",
    "print(np.matmul(inversemat, mat))"
   ]
  },
  {
   "cell_type": "code",
   "execution_count": null,
   "metadata": {},
   "outputs": [],
   "source": []
  },
  {
   "cell_type": "code",
   "execution_count": null,
   "metadata": {},
   "outputs": [],
   "source": []
  },
  {
   "cell_type": "code",
   "execution_count": 3,
   "metadata": {},
   "outputs": [
    {
     "data": {
      "text/plain": [
       "array([[1],\n",
       "       [1]])"
      ]
     },
     "execution_count": 3,
     "metadata": {},
     "output_type": "execute_result"
    }
   ],
   "source": [
    "aa = np.array([[1],[1]])\n",
    "aa"
   ]
  },
  {
   "cell_type": "code",
   "execution_count": 4,
   "metadata": {},
   "outputs": [
    {
     "data": {
      "text/plain": [
       "array([[0.5, 0.5]])"
      ]
     },
     "execution_count": 4,
     "metadata": {},
     "output_type": "execute_result"
    }
   ],
   "source": [
    "np.linalg.pinv(aa)"
   ]
  },
  {
   "cell_type": "code",
   "execution_count": 5,
   "metadata": {},
   "outputs": [
    {
     "data": {
      "text/plain": [
       "array([[ 0.5],\n",
       "       [-0.5]])"
      ]
     },
     "execution_count": 5,
     "metadata": {},
     "output_type": "execute_result"
    }
   ],
   "source": [
    "bb = np.array([[0.5],[-0.5]])\n",
    "bb"
   ]
  },
  {
   "cell_type": "code",
   "execution_count": 7,
   "metadata": {},
   "outputs": [
    {
     "data": {
      "text/plain": [
       "array([[ 1., -1.]])"
      ]
     },
     "execution_count": 7,
     "metadata": {},
     "output_type": "execute_result"
    }
   ],
   "source": [
    "np.linalg.pinv(bb)"
   ]
  },
  {
   "cell_type": "code",
   "execution_count": null,
   "metadata": {},
   "outputs": [],
   "source": []
  }
 ],
 "metadata": {
  "kernelspec": {
   "display_name": "Python 3",
   "language": "python",
   "name": "python3"
  },
  "language_info": {
   "codemirror_mode": {
    "name": "ipython",
    "version": 3
   },
   "file_extension": ".py",
   "mimetype": "text/x-python",
   "name": "python",
   "nbconvert_exporter": "python",
   "pygments_lexer": "ipython3",
   "version": "3.5.3"
  }
 },
 "nbformat": 4,
 "nbformat_minor": 2
}
