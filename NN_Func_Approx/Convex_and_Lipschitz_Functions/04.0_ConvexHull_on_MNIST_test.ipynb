{
 "cells": [
  {
   "cell_type": "code",
   "execution_count": 1,
   "metadata": {},
   "outputs": [],
   "source": [
    "import umap\n",
    "import numpy as np\n",
    "import matplotlib.pyplot as plt\n",
    "import matplotlib\n",
    "%matplotlib inline\n",
    "# from mpl_toolkits.mplot3d import Axes3D\n",
    "\n",
    "import torch\n",
    "import torch.nn.functional as F\n",
    "\n",
    "import torch.nn as nn\n",
    "import torch.optim as optim\n",
    "\n",
    "from torch.utils import data\n",
    "from torchvision import datasets, transforms as T\n",
    "\n",
    "import random, os, time, json, sys\n",
    "from tqdm import tqdm\n",
    "# from sklearn import datasets"
   ]
  },
  {
   "cell_type": "code",
   "execution_count": 2,
   "metadata": {},
   "outputs": [],
   "source": [
    "# device = torch.device(\"cuda:0\")\n",
    "device = torch.device(\"cpu\")"
   ]
  },
  {
   "cell_type": "code",
   "execution_count": 3,
   "metadata": {},
   "outputs": [],
   "source": [
    "mnist_transform = T.Compose([\n",
    "    T.ToTensor(),\n",
    "#     T.Normalize(\n",
    "#         mean=[0.5,],\n",
    "#         std=[0.5,],\n",
    "#     ),\n",
    "])\n",
    "\n",
    "train_dataset = datasets.FashionMNIST(root=\"../../../_Datasets/\", train=True, download=True, transform=mnist_transform)\n",
    "test_dataset = datasets.FashionMNIST(root=\"../../../_Datasets/\", train=False, download=True, transform=mnist_transform)"
   ]
  },
  {
   "cell_type": "code",
   "execution_count": 4,
   "metadata": {},
   "outputs": [],
   "source": [
    "# train = train_dataset.data.reshape(-1, 28*28)\n",
    "# test = test_dataset.data.reshape(-1, 28*28)"
   ]
  },
  {
   "cell_type": "code",
   "execution_count": 5,
   "metadata": {},
   "outputs": [],
   "source": [
    "train_loader = data.DataLoader(train_dataset, num_workers=4, batch_size=1000)\n",
    "test_loader = data.DataLoader(test_dataset, num_workers=4, batch_size=1000)"
   ]
  },
  {
   "cell_type": "code",
   "execution_count": 6,
   "metadata": {},
   "outputs": [],
   "source": [
    "from scipy.spatial import Delaunay, ConvexHull"
   ]
  },
  {
   "cell_type": "code",
   "execution_count": 7,
   "metadata": {},
   "outputs": [
    {
     "name": "stdout",
     "output_type": "stream",
     "text": [
      "torch.Size([1000, 784]) torch.Size([1000])\n"
     ]
    }
   ],
   "source": [
    "for xx, yy in train_loader:\n",
    "    xx = xx.view(-1, 28*28)\n",
    "    print(xx.shape, yy.shape)\n",
    "    break"
   ]
  },
  {
   "cell_type": "code",
   "execution_count": 8,
   "metadata": {},
   "outputs": [],
   "source": [
    "N, D = 1000, 5\n",
    "xx = torch.randn(N, D)"
   ]
  },
  {
   "cell_type": "code",
   "execution_count": 9,
   "metadata": {},
   "outputs": [],
   "source": [
    "train_hull = Delaunay(xx, incremental=True)"
   ]
  },
  {
   "cell_type": "code",
   "execution_count": 10,
   "metadata": {},
   "outputs": [
    {
     "data": {
      "text/plain": [
       "(1000,)"
      ]
     },
     "execution_count": 10,
     "metadata": {},
     "output_type": "execute_result"
    }
   ],
   "source": [
    "train_hull.find_simplex(torch.randn(N, D)).shape"
   ]
  },
  {
   "cell_type": "code",
   "execution_count": 11,
   "metadata": {},
   "outputs": [],
   "source": [
    "train_hull.add_points(torch.randn(N, D))"
   ]
  },
  {
   "cell_type": "markdown",
   "metadata": {},
   "source": [
    "## Find PCA of MNIST"
   ]
  },
  {
   "cell_type": "code",
   "execution_count": 12,
   "metadata": {},
   "outputs": [],
   "source": [
    "# train_dataset.data.to(torch.float32)/255*2-1"
   ]
  },
  {
   "cell_type": "code",
   "execution_count": 13,
   "metadata": {},
   "outputs": [],
   "source": [
    "from sklearn.decomposition import PCA"
   ]
  },
  {
   "cell_type": "code",
   "execution_count": 14,
   "metadata": {},
   "outputs": [
    {
     "data": {
      "text/plain": [
       "PCA(n_components=6)"
      ]
     },
     "execution_count": 14,
     "metadata": {},
     "output_type": "execute_result"
    }
   ],
   "source": [
    "pca = PCA(n_components=6)\n",
    "pca.fit(train_dataset.data.reshape(-1, 784).to(torch.float32)/255*2-1)\n",
    "pca"
   ]
  },
  {
   "cell_type": "code",
   "execution_count": 12,
   "metadata": {},
   "outputs": [],
   "source": [
    "## select samples uniformly\n",
    "def get_uniform_samples(dataset, num_samples):\n",
    "    samples = []\n",
    "    num_per_class = num_samples//10 ## 100*10\n",
    "    for i in range(10):\n",
    "        cls_idx = torch.nonzero(dataset.targets == i)\n",
    "        cls_idx = torch.randperm(len(cls_idx))[:num_per_class]\n",
    "        samples += [dataset.data[cls_idx]]\n",
    "    samples = torch.cat(samples, dim=0)\n",
    "    samples = samples.reshape(-1, 784).to(torch.float32)/255*2-1\n",
    "    return samples"
   ]
  },
  {
   "cell_type": "code",
   "execution_count": 13,
   "metadata": {},
   "outputs": [
    {
     "data": {
      "text/plain": [
       "torch.Size([1000, 784])"
      ]
     },
     "execution_count": 13,
     "metadata": {},
     "output_type": "execute_result"
    }
   ],
   "source": [
    "xx = get_uniform_samples(train_dataset, num_samples=1000)\n",
    "xx.shape"
   ]
  },
  {
   "cell_type": "code",
   "execution_count": 14,
   "metadata": {},
   "outputs": [],
   "source": [
    "test_xx = get_uniform_samples(test_dataset, num_samples=1000)"
   ]
  },
  {
   "cell_type": "code",
   "execution_count": 15,
   "metadata": {},
   "outputs": [
    {
     "ename": "NameError",
     "evalue": "name 'pca' is not defined",
     "output_type": "error",
     "traceback": [
      "\u001b[0;31m---------------------------------------------------------------------------\u001b[0m",
      "\u001b[0;31mNameError\u001b[0m                                 Traceback (most recent call last)",
      "\u001b[0;32m<ipython-input-15-042595675916>\u001b[0m in \u001b[0;36m<module>\u001b[0;34m()\u001b[0m\n\u001b[0;32m----> 1\u001b[0;31m \u001b[0mpca\u001b[0m\u001b[0;34m.\u001b[0m\u001b[0mtransform\u001b[0m\u001b[0;34m(\u001b[0m\u001b[0mtest_xx\u001b[0m\u001b[0;34m)\u001b[0m\u001b[0;34m.\u001b[0m\u001b[0mshape\u001b[0m\u001b[0;34m\u001b[0m\u001b[0;34m\u001b[0m\u001b[0m\n\u001b[0m",
      "\u001b[0;31mNameError\u001b[0m: name 'pca' is not defined"
     ]
    }
   ],
   "source": [
    "pca.transform(test_xx).shape"
   ]
  },
  {
   "cell_type": "code",
   "execution_count": 19,
   "metadata": {},
   "outputs": [
    {
     "data": {
      "text/plain": [
       "0.532"
      ]
     },
     "execution_count": 19,
     "metadata": {},
     "output_type": "execute_result"
    }
   ],
   "source": [
    "train_hull = Delaunay(pca.transform(xx))\n",
    "inside = (train_hull.find_simplex(pca.transform(test_xx)) >= 0)\n",
    "\n",
    "frac = inside.astype(float).mean()\n",
    "frac"
   ]
  },
  {
   "cell_type": "markdown",
   "metadata": {},
   "source": [
    "## Do this in Loop"
   ]
  },
  {
   "cell_type": "code",
   "execution_count": 20,
   "metadata": {},
   "outputs": [
    {
     "name": "stdout",
     "output_type": "stream",
     "text": [
      "N=1000, dim=2, inside_frac: 0.994\n",
      "N=1000, dim=3, inside_frac: 0.932\n",
      "N=1000, dim=4, inside_frac: 0.829\n",
      "N=1000, dim=5, inside_frac: 0.753\n",
      "N=1000, dim=6, inside_frac: 0.525\n"
     ]
    }
   ],
   "source": [
    "# N, D = 1000, 6\n",
    "N = 1000\n",
    "# for D in range(2,7+1):\n",
    "for D in range(2,6+1):\n",
    "    pca = PCA(n_components=D)\n",
    "    xdata = train_dataset.data.reshape(-1, 784).to(torch.float32)/255*2-1\n",
    "    pca.fit(xdata)\n",
    "\n",
    "    ## Testing for TEST dataset inside convex hull of TRAIN dataset\n",
    "    xx = get_uniform_samples(train_dataset, num_samples=N)\n",
    "    test_xx = get_uniform_samples(test_dataset, num_samples=N)\n",
    "\n",
    "    ## Testing for TRAIN dataset inside convex hull of TEST dataset\n",
    "#     xx = get_uniform_samples(test_dataset, num_samples=N)\n",
    "#     test_xx = get_uniform_samples(train_dataset, num_samples=N)\n",
    "\n",
    "    train_hull = Delaunay(pca.transform(xx))\n",
    "    inside = (train_hull.find_simplex(pca.transform(test_xx)) >= 0)\n",
    "\n",
    "    frac = inside.astype(float).mean()\n",
    "    \n",
    "    print(f\"N={N}, dim={D}, inside_frac: {frac}\")"
   ]
  },
  {
   "cell_type": "code",
   "execution_count": null,
   "metadata": {},
   "outputs": [],
   "source": [
    "## Outputs\n",
    "\"\"\"\n",
    "Using PCA\n",
    "N=1000, dim=2, inside_frac: 0.988\n",
    "N=1000, dim=3, inside_frac: 0.952\n",
    "N=1000, dim=4, inside_frac: 0.847\n",
    "N=1000, dim=5, inside_frac: 0.678\n",
    "N=1000, dim=6, inside_frac: 0.554\n",
    "N=1000, dim=7, inside_frac: 0.357\n",
    "\n",
    "```On Test/Train Reversed\n",
    "N=1000, dim=2, inside_frac: 0.954\n",
    "N=1000, dim=3, inside_frac: 0.927\n",
    "N=1000, dim=4, inside_frac: 0.745\n",
    "N=1000, dim=5, inside_frac: 0.638\n",
    "N=1000, dim=6, inside_frac: 0.495\n",
    "N=1000, dim=7, inside_frac: 0.348\n",
    "\n",
    "Using Random Linear Transform\n",
    "N=1000, dim=2, inside_frac: 0.989\n",
    "N=1000, dim=3, inside_frac: 0.979\n",
    "N=1000, dim=4, inside_frac: 0.902\n",
    "N=1000, dim=5, inside_frac: 0.841\n",
    "N=1000, dim=6, inside_frac: 0.795\n",
    "N=1000, dim=7, inside_frac: 0.632\n",
    "\n",
    "Using Dist Tranf Base\n",
    "N=1000, dim=2, inside_frac: 0.987\n",
    "N=1000, dim=3, inside_frac: 0.958\n",
    "N=1000, dim=4, inside_frac: 0.888\n",
    "N=1000, dim=5, inside_frac: 0.766\n",
    "N=1000, dim=6, inside_frac: 0.714\n",
    "N=1000, dim=7, inside_frac: 0.516\n",
    "\n",
    "```Initialized With Data\n",
    "N=1000, dim=2, inside_frac: 0.986\n",
    "N=1000, dim=3, inside_frac: 0.951\n",
    "N=1000, dim=4, inside_frac: 0.939\n",
    "N=1000, dim=5, inside_frac: 0.778\n",
    "N=1000, dim=6, inside_frac: 0.792\n",
    "N=1000, dim=7, inside_frac: 0.61\n",
    "\n",
    "DT min exp with Data\n",
    "\n",
    "\n",
    "\"\"\"\n",
    "\n",
    "print()"
   ]
  },
  {
   "cell_type": "code",
   "execution_count": null,
   "metadata": {},
   "outputs": [],
   "source": []
  },
  {
   "cell_type": "code",
   "execution_count": 16,
   "metadata": {},
   "outputs": [],
   "source": [
    "sys.path.append(\"../Spatial_Neurons/\")\n",
    "import dtnnlib as dtnn"
   ]
  },
  {
   "cell_type": "code",
   "execution_count": 17,
   "metadata": {},
   "outputs": [
    {
     "name": "stdout",
     "output_type": "stream",
     "text": [
      "N=1000, dim=2, inside_frac: 0.982\n",
      "N=1000, dim=3, inside_frac: 0.944\n",
      "N=1000, dim=4, inside_frac: 0.918\n",
      "N=1000, dim=5, inside_frac: 0.774\n",
      "N=1000, dim=6, inside_frac: 0.719\n"
     ]
    }
   ],
   "source": [
    "# N, D = 1000, 6\n",
    "N = 1000\n",
    "# for D in range(2,7+1):\n",
    "for D in range(2,6+1):\n",
    "#     func = nn.Linear(784, D)\n",
    "#     func = nn.Sequential(\n",
    "#                 nn.Linear(784, 790),\n",
    "#                 nn.Linear(790, D)\n",
    "#             )\n",
    "    \n",
    "    ## center init funcs\n",
    "#     func = dtnn.DistanceTransformBase(784, D)\n",
    "#     func = dtnn.DistanceTransform_MinExp(784, D)\n",
    "#     func.centers.data = get_uniform_samples(train_dataset, 10)[torch.randperm(10)[:D]]\n",
    "    func = dtnn.StereographicTransform(784, D)\n",
    "\n",
    "\n",
    "    ## Testing for TEST dataset inside convex hull of TRAIN dataset\n",
    "    xx = get_uniform_samples(train_dataset, num_samples=N)\n",
    "    test_xx = get_uniform_samples(test_dataset, num_samples=N)\n",
    "\n",
    "    ## Testing for TRAIN dataset inside convex hull of TEST dataset\n",
    "#     xx = get_uniform_samples(train_dataset, num_samples=N)\n",
    "#     test_xx = get_uniform_samples(test_dataset, num_samples=N)\n",
    "    \n",
    "    xx = func(xx).data\n",
    "    test_xx = func(test_xx).data\n",
    "    train_hull = Delaunay(xx)\n",
    "    inside = (train_hull.find_simplex(test_xx) >= 0)\n",
    "\n",
    "    frac = inside.astype(float).mean()\n",
    "    \n",
    "    print(f\"N={N}, dim={D}, inside_frac: {frac}\")"
   ]
  },
  {
   "cell_type": "code",
   "execution_count": null,
   "metadata": {},
   "outputs": [],
   "source": [
    "asdsad"
   ]
  },
  {
   "cell_type": "markdown",
   "metadata": {},
   "source": [
    "## After performing kNN scaling of activations"
   ]
  },
  {
   "cell_type": "code",
   "execution_count": 23,
   "metadata": {},
   "outputs": [],
   "source": [
    "def get_sigma(dists, k=50, epoch=700, lr=0.03):\n",
    "    dists = torch.topk(dists, k=k,dim=1)[0]\n",
    "    sigma = nn.Parameter(torch.std(dists.data, dim=1, keepdim=True)*0.2)\n",
    "    optim = torch.optim.Adam([sigma], lr=lr)\n",
    "    target = torch.log2(torch.ones_like(sigma)*k).to(dists.device)\n",
    "#     print(sigma, target)\n",
    "    for i in range(epoch):\n",
    "        delta = torch.sum(torch.exp(-dists/sigma), dim=1, keepdim=True)\n",
    "#         print(sigma.data, delta.data)\n",
    "        delta = delta-target\n",
    "\n",
    "        optim.zero_grad()\n",
    "        error = (delta**2).sum()\n",
    "        error.backward()\n",
    "        optim.step()\n",
    "#     print(sigma, delta)\n",
    "    return sigma.data"
   ]
  },
  {
   "cell_type": "code",
   "execution_count": 24,
   "metadata": {},
   "outputs": [
    {
     "data": {
      "text/plain": [
       "torch.Size([790, 784])"
      ]
     },
     "execution_count": 24,
     "metadata": {},
     "output_type": "execute_result"
    }
   ],
   "source": [
    "selected_points = get_uniform_samples(train_dataset, num_samples=790)\n",
    "selected_points.shape"
   ]
  },
  {
   "cell_type": "code",
   "execution_count": 25,
   "metadata": {},
   "outputs": [],
   "source": [
    "transform = dtnn.DistanceTransformBase(28*28, len(selected_points))\n",
    "transform.centers.data = selected_points"
   ]
  },
  {
   "cell_type": "code",
   "execution_count": 26,
   "metadata": {},
   "outputs": [],
   "source": [
    "# transform = nn.Linear(28*28, len(selected_points))\n",
    "# transform.weight.data = selected_points"
   ]
  },
  {
   "cell_type": "code",
   "execution_count": 27,
   "metadata": {},
   "outputs": [],
   "source": [
    "xx = get_uniform_samples(train_dataset, 1000)"
   ]
  },
  {
   "cell_type": "code",
   "execution_count": 28,
   "metadata": {},
   "outputs": [
    {
     "data": {
      "text/plain": [
       "torch.Size([1000, 790])"
      ]
     },
     "execution_count": 28,
     "metadata": {},
     "output_type": "execute_result"
    }
   ],
   "source": [
    "with torch.no_grad():\n",
    "    dists = transform(xx)\n",
    "dists.shape"
   ]
  },
  {
   "cell_type": "code",
   "execution_count": 29,
   "metadata": {},
   "outputs": [],
   "source": [
    "dists = dists-dists.min(dim=1, keepdim=True)[0]\n",
    "##### dists = torch.topk(dists, k=50,dim=1)[0]\n",
    "\n",
    "sigma = get_sigma(dists, k=784)\n",
    "topk_dists = torch.exp(-dists/sigma)\n",
    "# topk_dists = dists"
   ]
  },
  {
   "cell_type": "code",
   "execution_count": 30,
   "metadata": {},
   "outputs": [
    {
     "data": {
      "text/plain": [
       "torch.Size([1000, 790])"
      ]
     },
     "execution_count": 30,
     "metadata": {},
     "output_type": "execute_result"
    }
   ],
   "source": [
    "topk_dists.shape"
   ]
  },
  {
   "cell_type": "code",
   "execution_count": 31,
   "metadata": {},
   "outputs": [
    {
     "data": {
      "text/plain": [
       "torch.Size([1000, 5])"
      ]
     },
     "execution_count": 31,
     "metadata": {},
     "output_type": "execute_result"
    }
   ],
   "source": [
    "D = 5\n",
    "linear_proj = nn.Linear(len(selected_points), D)\n",
    "with torch.no_grad():\n",
    "    lowdim_dist = linear_proj(topk_dists)\n",
    "lowdim_dist.shape"
   ]
  },
  {
   "cell_type": "code",
   "execution_count": 32,
   "metadata": {},
   "outputs": [],
   "source": [
    "train_hull = Delaunay(lowdim_dist.data)"
   ]
  },
  {
   "cell_type": "code",
   "execution_count": 33,
   "metadata": {},
   "outputs": [
    {
     "data": {
      "text/plain": [
       "(5, 0.822)"
      ]
     },
     "execution_count": 33,
     "metadata": {},
     "output_type": "execute_result"
    }
   ],
   "source": [
    "test_xx = get_uniform_samples(test_dataset, num_samples=N)\n",
    "with torch.no_grad():\n",
    "    _dists = transform(test_xx)\n",
    "_dists = _dists-_dists.min(dim=1, keepdim=True)[0]\n",
    "\n",
    "_sigma = get_sigma(_dists, k=784)\n",
    "_topk_dists = torch.exp(-_dists/_sigma)    \n",
    "# _topk_dists = _dists\n",
    "\n",
    "with torch.no_grad():\n",
    "    _lowdim_dist = linear_proj(_topk_dists)\n",
    "    \n",
    "### Check if inside hull\n",
    "inside = (train_hull.find_simplex(_lowdim_dist) >= 0)\n",
    "frac = inside.astype(float).mean()\n",
    "D, frac"
   ]
  },
  {
   "cell_type": "code",
   "execution_count": 34,
   "metadata": {},
   "outputs": [],
   "source": [
    "### Using UMAP embedding"
   ]
  },
  {
   "cell_type": "code",
   "execution_count": 35,
   "metadata": {},
   "outputs": [],
   "source": [
    "embed = umap.UMAP(n_neighbors=50, n_components=2, min_dist=0.1, spread=1)\n",
    "embedding = embed.fit_transform(xx)"
   ]
  },
  {
   "cell_type": "code",
   "execution_count": 36,
   "metadata": {},
   "outputs": [
    {
     "data": {
      "text/plain": [
       "((1000, 2), torch.Size([1000, 5]))"
      ]
     },
     "execution_count": 36,
     "metadata": {},
     "output_type": "execute_result"
    }
   ],
   "source": [
    "embedding.shape, lowdim_dist.shape"
   ]
  },
  {
   "cell_type": "code",
   "execution_count": 37,
   "metadata": {},
   "outputs": [],
   "source": [
    "embedding_test = embed.transform(test_xx)"
   ]
  },
  {
   "cell_type": "code",
   "execution_count": 38,
   "metadata": {},
   "outputs": [
    {
     "data": {
      "text/plain": [
       "(1000, 7)"
      ]
     },
     "execution_count": 38,
     "metadata": {},
     "output_type": "execute_result"
    }
   ],
   "source": [
    "np.concatenate([embedding, lowdim_dist], axis=-1).shape"
   ]
  },
  {
   "cell_type": "code",
   "execution_count": 39,
   "metadata": {},
   "outputs": [
    {
     "data": {
      "text/plain": [
       "(1000, 7)"
      ]
     },
     "execution_count": 39,
     "metadata": {},
     "output_type": "execute_result"
    }
   ],
   "source": [
    "np.concatenate([embedding_test, _lowdim_dist], axis=-1).shape"
   ]
  },
  {
   "cell_type": "code",
   "execution_count": 40,
   "metadata": {},
   "outputs": [
    {
     "data": {
      "text/plain": [
       "0.459"
      ]
     },
     "execution_count": 40,
     "metadata": {},
     "output_type": "execute_result"
    }
   ],
   "source": [
    "# train_hull = Delaunay(embedding)\n",
    "# inside = (train_hull.find_simplex(embedding_test) >= 0)\n",
    "\n",
    "train_hull = Delaunay(np.concatenate([embedding, lowdim_dist], axis=-1))\n",
    "inside = (train_hull.find_simplex(np.concatenate([embedding_test, _lowdim_dist], axis=-1)) >= 0)\n",
    "\n",
    "frac = inside.astype(float).mean()\n",
    "frac"
   ]
  },
  {
   "cell_type": "code",
   "execution_count": null,
   "metadata": {},
   "outputs": [],
   "source": []
  },
  {
   "cell_type": "code",
   "execution_count": null,
   "metadata": {},
   "outputs": [],
   "source": []
  },
  {
   "cell_type": "code",
   "execution_count": 41,
   "metadata": {},
   "outputs": [],
   "source": [
    "# def is_in_convex_hull_batch(new_samples: np.array, \n",
    "#                             hull_samples: np.array) -> np.array:\n",
    "#   \"\"\"\n",
    "#   Returns a vector of size new_samples.shape[0] (the number of new samples),\n",
    "#   with a boolean indicating whether or not the sample lies in the convex hull.\n",
    "#   \"\"\"\n",
    "#   assert new_samples.shape[1] == hull_samples.shape[1],  \\\n",
    "#   \"Dimensions of new sample and convex hull samples should be the same, \"\n",
    "#   \"but are %d and %d\" % (new_samples.shape[1], samples.shape[1])\n",
    "#   if not isinstance(hull_samples, Delaunay):\n",
    "#     hull = Delaunay(hull_samples)\n",
    "#   return hull.find_simplex(new_samples) >= 0"
   ]
  },
  {
   "cell_type": "code",
   "execution_count": 42,
   "metadata": {},
   "outputs": [
    {
     "data": {
      "text/plain": [
       "(tensor(-1.), tensor(1.))"
      ]
     },
     "execution_count": 42,
     "metadata": {},
     "output_type": "execute_result"
    }
   ],
   "source": [
    "xx.min(), xx.max()"
   ]
  },
  {
   "cell_type": "code",
   "execution_count": 43,
   "metadata": {},
   "outputs": [
    {
     "data": {
      "text/plain": [
       "(torch.Size([60000, 28, 28]), torch.Size([60000]))"
      ]
     },
     "execution_count": 43,
     "metadata": {},
     "output_type": "execute_result"
    }
   ],
   "source": [
    "train_dataset.data.shape, train_dataset.targets.shape"
   ]
  },
  {
   "cell_type": "code",
   "execution_count": null,
   "metadata": {},
   "outputs": [],
   "source": []
  },
  {
   "cell_type": "code",
   "execution_count": 11,
   "metadata": {},
   "outputs": [],
   "source": [
    "embed = umap.UMAP(n_neighbors=50, n_components=2, min_dist=0.1, spread=1)\n",
    "# embed = umap.UMAP(n_neighbors=784, n_components=2, min_dist=0.1, spread=1,\n",
    "# #                   target_metric='euclidean',\n",
    "#                   target_metric='categorical',\n",
    "#                   target_weight=0.1\n",
    "#                  )"
   ]
  },
  {
   "cell_type": "code",
   "execution_count": 12,
   "metadata": {},
   "outputs": [],
   "source": [
    "selected_points = test_dataset.data.reshape(-1, 28*28).type(torch.float32)/255\n",
    "embedding = embed.fit_transform(selected_points)\n",
    "# embedding = embed.fit_transform(centers, output_cent)"
   ]
  },
  {
   "cell_type": "code",
   "execution_count": 13,
   "metadata": {},
   "outputs": [
    {
     "name": "stdout",
     "output_type": "stream",
     "text": [
      "torch.Size([50, 784]) torch.Size([50])\n"
     ]
    }
   ],
   "source": [
    "for xx, yy in train_loader:\n",
    "    xx = xx.reshape(-1, 28*28)\n",
    "    print(xx.shape, yy.shape)\n",
    "    break"
   ]
  },
  {
   "cell_type": "code",
   "execution_count": 14,
   "metadata": {},
   "outputs": [
    {
     "data": {
      "text/plain": [
       "tensor(1.)"
      ]
     },
     "execution_count": 14,
     "metadata": {},
     "output_type": "execute_result"
    }
   ],
   "source": [
    "xx.max()"
   ]
  },
  {
   "cell_type": "code",
   "execution_count": 15,
   "metadata": {},
   "outputs": [],
   "source": [
    "xtransf = embed.transform(xx.numpy().reshape(-1, 28*28))"
   ]
  },
  {
   "cell_type": "code",
   "execution_count": 16,
   "metadata": {},
   "outputs": [
    {
     "data": {
      "text/plain": [
       "tensor(1.)"
      ]
     },
     "execution_count": 16,
     "metadata": {},
     "output_type": "execute_result"
    }
   ],
   "source": [
    "xx.max()"
   ]
  },
  {
   "cell_type": "code",
   "execution_count": 18,
   "metadata": {},
   "outputs": [],
   "source": [
    "# sigma = get_sigma(dists)"
   ]
  },
  {
   "cell_type": "code",
   "execution_count": 19,
   "metadata": {},
   "outputs": [
    {
     "name": "stdout",
     "output_type": "stream",
     "text": [
      "mkdir: cannot create directory ‘outputs/03.4_visualize’: File exists\r\n"
     ]
    }
   ],
   "source": [
    "!mkdir outputs/03.4_visualize"
   ]
  },
  {
   "cell_type": "markdown",
   "metadata": {},
   "source": [
    "## Get scale to top-k points"
   ]
  },
  {
   "cell_type": "code",
   "execution_count": 28,
   "metadata": {},
   "outputs": [
    {
     "data": {
      "text/plain": [
       "(tensor(1.), tensor(4.3349e-26))"
      ]
     },
     "execution_count": 28,
     "metadata": {},
     "output_type": "execute_result"
    }
   ],
   "source": [
    "topk_dists.max(), topk_dists.min()"
   ]
  },
  {
   "cell_type": "code",
   "execution_count": 29,
   "metadata": {},
   "outputs": [],
   "source": [
    "i = -1"
   ]
  },
  {
   "cell_type": "code",
   "execution_count": 39,
   "metadata": {},
   "outputs": [
    {
     "name": "stdout",
     "output_type": "stream",
     "text": [
      "index:9/50\n"
     ]
    },
    {
     "data": {
      "image/png": "[encoded data removed]",
      "text/plain": [
       "<Figure size 1000x800 with 2 Axes>"
      ]
     },
     "metadata": {},
     "output_type": "display_data"
    }
   ],
   "source": [
    "i += 1\n",
    "activ = topk_dists[i].data.cpu().numpy()\n",
    "\n",
    "print(f\"index:{i}/{len(dists)}\")\n",
    "fig = plt.figure(figsize=(10,8))\n",
    "\n",
    "plt.scatter(embedding[:,0], embedding[:, 1], c=test_dataset.targets, s=np.maximum(activ*80, 0.001), cmap=\"tab10\")\n",
    "#     plt.scatter(embedding[:,0], embedding[:, 1], c=output_cent, s=np.maximum(activ*80, 0.0), cmap=\"tab10\")\n",
    "\n",
    "plt.tick_params(left = False, right = False , labelleft = False ,\n",
    "                labelbottom = False, bottom = False)\n",
    "\n",
    "cbar = plt.colorbar(ticks=range(10), #label='classes', \n",
    "                    boundaries=np.arange(11)-0.5)\n",
    "cbar.set_ticks(np.arange(10))\n",
    "cbar.set_ticklabels(list(range(10)))\n",
    "\n",
    "ins = plt.gca().inset_axes([0.4,0.75,0.2,0.2])\n",
    "ins.imshow(xx[i].numpy().reshape(28, 28), cmap='gray_r')\n",
    "ins.tick_params(left = False, right = False , labelleft = False ,\n",
    "                labelbottom = False, bottom = False)\n",
    "\n",
    "plt.scatter(xtransf[i,0], xtransf[i,1], marker='x', color='k', s=100)\n",
    "\n",
    "plt.text(.84, .97, f'T={int(yy[i])}', ha='left', va='top', transform=fig.axes[0].transAxes, fontsize=\"large\")\n",
    "plt.show()"
   ]
  },
  {
   "cell_type": "code",
   "execution_count": null,
   "metadata": {},
   "outputs": [],
   "source": []
  }
 ],
 "metadata": {
  "kernelspec": {
   "display_name": "Python 3",
   "language": "python",
   "name": "python3"
  },
  "language_info": {
   "codemirror_mode": {
    "name": "ipython",
    "version": 3
   },
   "file_extension": ".py",
   "mimetype": "text/x-python",
   "name": "python",
   "nbconvert_exporter": "python",
   "pygments_lexer": "ipython3",
   "version": "3.7.4"
  }
 },
 "nbformat": 4,
 "nbformat_minor": 4
}
