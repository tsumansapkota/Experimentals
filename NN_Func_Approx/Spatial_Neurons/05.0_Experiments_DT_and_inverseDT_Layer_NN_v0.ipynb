{
 "cells": [
  {
   "cell_type": "code",
   "execution_count": 14,
   "metadata": {},
   "outputs": [],
   "source": [
    "import numpy as np\n",
    "import matplotlib.pyplot as plt\n",
    "%matplotlib inline\n",
    "from mpl_toolkits.mplot3d import Axes3D\n",
    "\n",
    "import torch\n",
    "import torch.nn as nn\n",
    "import torch.nn.functional as F\n",
    "import torch.optim as optim\n",
    "from torch.utils import data\n",
    "\n",
    "import random, os, pathlib, time\n",
    "from tqdm import tqdm\n",
    "from sklearn import datasets"
   ]
  },
  {
   "cell_type": "code",
   "execution_count": 15,
   "metadata": {},
   "outputs": [],
   "source": [
    "device = torch.device(\"cuda:0\")\n",
    "# device = torch.device(\"cpu\")"
   ]
  },
  {
   "cell_type": "markdown",
   "metadata": {},
   "source": [
    "## MNIST dataset"
   ]
  },
  {
   "cell_type": "code",
   "execution_count": 16,
   "metadata": {},
   "outputs": [],
   "source": [
    "import mylibrary.datasets as datasets\n",
    "import mylibrary.nnlib as tnn"
   ]
  },
  {
   "cell_type": "code",
   "execution_count": 17,
   "metadata": {},
   "outputs": [],
   "source": [
    "mnist = datasets.FashionMNIST()\n",
    "# mnist.download_mnist()\n",
    "# mnist.save_mnist()\n",
    "train_data, train_label_, test_data, test_label_ = mnist.load()\n",
    "\n",
    "train_data = train_data / 255.\n",
    "test_data = test_data / 255.\n",
    "\n",
    "# train_label = tnn.Logits.index_to_logit(train_label_)\n",
    "train_size = len(train_label_)"
   ]
  },
  {
   "cell_type": "code",
   "execution_count": 18,
   "metadata": {},
   "outputs": [],
   "source": [
    "## converting data to pytorch format\n",
    "train_data = torch.Tensor(train_data)\n",
    "test_data = torch.Tensor(test_data)\n",
    "train_label = torch.LongTensor(train_label_)\n",
    "test_label = torch.LongTensor(test_label_)"
   ]
  },
  {
   "cell_type": "code",
   "execution_count": 19,
   "metadata": {},
   "outputs": [],
   "source": [
    "input_size = 784\n",
    "output_size = 10"
   ]
  },
  {
   "cell_type": "code",
   "execution_count": 20,
   "metadata": {},
   "outputs": [],
   "source": [
    "class MNIST_Dataset(data.Dataset):\n",
    "    \n",
    "    def __init__(self, data, label):\n",
    "        self.data = data\n",
    "        self.label = label\n",
    "        \n",
    "    def __len__(self):\n",
    "        return len(self.data)\n",
    "    \n",
    "    def __getitem__(self, idx):\n",
    "#         print(idx)\n",
    "        img, lbl = self.data[idx], self.label[idx]\n",
    "        return img, lbl"
   ]
  },
  {
   "cell_type": "code",
   "execution_count": 21,
   "metadata": {},
   "outputs": [],
   "source": [
    "train_dataset = MNIST_Dataset(train_data, train_label)\n",
    "test_dataset = MNIST_Dataset(test_data, test_label)"
   ]
  },
  {
   "cell_type": "code",
   "execution_count": 22,
   "metadata": {},
   "outputs": [],
   "source": [
    "batch_size = 50\n",
    "train_loader = data.DataLoader(dataset=train_dataset,\n",
    "                                    num_workers=4, \n",
    "                                    batch_size=batch_size, \n",
    "                                    shuffle=True)\n",
    "\n",
    "test_loader = data.DataLoader(dataset=test_dataset,\n",
    "                                    num_workers=1, \n",
    "                                    batch_size=batch_size, \n",
    "                                    shuffle=False)"
   ]
  },
  {
   "cell_type": "code",
   "execution_count": 253,
   "metadata": {},
   "outputs": [],
   "source": [
    "class DistanceTransform(nn.Module):\n",
    "    \n",
    "    def __init__(self, input_dim, num_centers, p=2):\n",
    "        super().__init__()\n",
    "        self.input_dim = input_dim\n",
    "        self.num_centers = num_centers\n",
    "        self.p = p\n",
    "        \n",
    "        self.centers = torch.randn(num_centers, input_dim)/3.\n",
    "#         self.centers = torch.rand(num_centers, input_dim)\n",
    "        self.centers = nn.Parameter(self.centers)\n",
    "    \n",
    "    def forward(self, x):\n",
    "        dists = torch.cdist(x, self.centers, p=self.p)\n",
    "        \n",
    "        ### normalize similar to UMAP\n",
    "#         dists = dists-dists.min(dim=1, keepdim=True)[0]\n",
    "#         dists = dists-dists.mean(dim=1, keepdim=True)\n",
    "#         dists = dists/dists.std(dim=1, keepdim=True)\n",
    "\n",
    "        return dists\n",
    "    \n",
    "    def set_centroid_to_data_randomly(self, data_loader):\n",
    "        indices = np.random.permutation(len(data_loader.dataset.data))[:self.centers.shape[0]]\n",
    "        self.centers.data = data_loader.dataset.data[indices].to(self.centers.device)\n",
    "        pass\n",
    "    \n",
    "    def set_centroid_to_data_maxdist(self, data_loader):\n",
    "        ## sample N points\n",
    "        N = self.centers.shape[0]\n",
    "        new_center = torch.empty_like(self.centers)\n",
    "        min_dists = torch.empty(N)\n",
    "        count = 0\n",
    "        for i, (xx, _) in enumerate(tqdm(data_loader)):\n",
    "            if count < N:\n",
    "                if N-count < batch_size:\n",
    "                    #### final fillup\n",
    "                    new_center[count:count+N-count] = xx[:N-count]\n",
    "                    xx = xx[N-count:]\n",
    "                    dists = torch.cdist(new_center, new_center)+torch.eye(N)*1e5\n",
    "                    min_dists = dists.min(dim=0)[0]\n",
    "                    count = N\n",
    "\n",
    "                else:#### fill the center\n",
    "                    new_center[count:count+len(xx)] = xx\n",
    "                    count += len(xx)\n",
    "                    continue\n",
    "\n",
    "            ammd = min_dists.argmin()\n",
    "            for i, x in enumerate(xx):\n",
    "                dists = torch.norm(new_center-x, dim=1)\n",
    "                md = dists.min()\n",
    "                if md > min_dists[ammd]:\n",
    "                    min_dists[ammd] = md\n",
    "                    new_center[ammd] = x\n",
    "                    ammd = min_dists.argmin()\n",
    "        self.centers.data = new_center.to(self.centers.device)\n",
    "        pass\n",
    "        \n",
    "    \n",
    "    def set_centroid_to_data(self, data_loader):\n",
    "        new_center = self.centers.data.clone()\n",
    "        min_dists = torch.ones(self.centers.shape[0])*1e9\n",
    "\n",
    "        for xx, _ in data_loader:\n",
    "\n",
    "            dists = torch.cdist(xx, self.centers.data)\n",
    "            ### min dist of each center to the data points\n",
    "            min_d, arg_md = dists.min(dim=0)\n",
    "\n",
    "            ### dont allow same point to be assigned as closest to multiple centroid\n",
    "            occupied = []\n",
    "            for i in np.random.permutation(len(arg_md)):\n",
    "        #     for i, ind in enumerate(arg_md):\n",
    "                ind = arg_md[i]\n",
    "                if ind in occupied:\n",
    "                    min_d[i] = min_dists[i]\n",
    "                    arg_md[i] = -1\n",
    "                else:\n",
    "                    occupied.append(ind)\n",
    "\n",
    "            ### the index of centroids that have new min_dist\n",
    "            idx = torch.nonzero(min_d<min_dists).reshape(-1)\n",
    "\n",
    "            ### assign new_center to the nearest data point\n",
    "            new_center[idx] = xx[arg_md[idx]]\n",
    "            min_dists[idx] = min_d[idx]\n",
    "            \n",
    "        self.centers.data = new_center.to(self.centers.device)\n",
    "        pass"
   ]
  },
  {
   "cell_type": "code",
   "execution_count": 400,
   "metadata": {},
   "outputs": [],
   "source": [
    "### shift normalized dists towards 0 for sparse activation with exponential\n",
    "class DistanceTransform_Exp(DistanceTransform):\n",
    "    \n",
    "    def __init__(self, input_dim, num_centers, p=2, bias=False, eps=1e-5):\n",
    "        super().__init__(input_dim, num_centers, p=2)\n",
    "        \n",
    "        self.scaler = nn.Parameter(torch.ones(1, num_centers)*3/3)\n",
    "#         self.bias = nn.Parameter(torch.ones(1, num_centers)*-0.1) if bias else None\n",
    "        self.bias = nn.Parameter(torch.ones(1, num_centers)*0) if bias else None\n",
    "        self.eps = eps\n",
    "        \n",
    "    def forward(self, x):\n",
    "        dists = super().forward(x)\n",
    "        \n",
    "        ### normalize similar to UMAP\n",
    "#         dists = dists-dists.min(dim=1, keepdim=True)[0]\n",
    "        dists = dists-dists.mean(dim=1, keepdim=True)\n",
    "        dists = dists/torch.sqrt(dists.var(dim=1, keepdim=True)+self.eps)\n",
    "#         a = ((-dists-2)*self.scaler).data.cpu().numpy()\n",
    "#         print(a.mean(), a.std(), a.min(), a.max())\n",
    "        dists = torch.exp((-dists-2)*self.scaler)\n",
    "#         dists = torch.softmax((-dists-3)*self.scaler, dim=1)\n",
    "        if self.bias is not None: dists = dists+self.bias\n",
    "        return dists"
   ]
  },
  {
   "cell_type": "code",
   "execution_count": 687,
   "metadata": {},
   "outputs": [],
   "source": [
    "### shift normalized dists towards 0 for sparse activation with exponential\n",
    "class DistanceTransform_MinExp(DistanceTransform):\n",
    "    \n",
    "    def __init__(self, input_dim, num_centers, p=2, bias=False, eps=1e-5):\n",
    "        super().__init__(input_dim, num_centers, p=2)\n",
    "        \n",
    "        self.scaler = nn.Parameter(torch.ones(1, num_centers)*6/3)\n",
    "        self.scaler.requires_grad = False\n",
    "#         self.bias = nn.Parameter(torch.ones(1, num_centers)*-0.1) if bias else None\n",
    "        self.bias = nn.Parameter(torch.ones(1, num_centers)*0) if bias else None\n",
    "        self.eps = eps\n",
    "        \n",
    "    def forward(self, x):\n",
    "        dists = super().forward(x)\n",
    "        \n",
    "        ### normalize similar to UMAP\n",
    "        dists = dists-dists.min(dim=1, keepdim=True)[0]\n",
    "#         dists = dists-dists.mean(dim=1, keepdim=True)\n",
    "        dists = dists/torch.sqrt(dists.var(dim=1, keepdim=True)+self.eps)\n",
    "\n",
    "        dists = torch.exp(-dists*self.scaler)\n",
    "#         dists = torch.softmax(-dists*self.scaler, dim=1)\n",
    "        if self.bias is not None: dists = dists+self.bias\n",
    "        return dists"
   ]
  },
  {
   "cell_type": "code",
   "execution_count": 688,
   "metadata": {},
   "outputs": [],
   "source": [
    "# dt = DistanceTransform(784, 20)\n",
    "dt = DistanceTransform_Exp(784, 20)\n",
    "# dt = DistanceTransform_MinExp(784, 20)"
   ]
  },
  {
   "cell_type": "code",
   "execution_count": 689,
   "metadata": {},
   "outputs": [],
   "source": [
    "dists = dt(torch.randn(2, 784))"
   ]
  },
  {
   "cell_type": "code",
   "execution_count": 690,
   "metadata": {},
   "outputs": [
    {
     "data": {
      "text/plain": [
       "torch.Size([2, 20])"
      ]
     },
     "execution_count": 690,
     "metadata": {},
     "output_type": "execute_result"
    }
   ],
   "source": [
    "dists.shape"
   ]
  },
  {
   "cell_type": "code",
   "execution_count": 691,
   "metadata": {},
   "outputs": [
    {
     "data": {
      "text/plain": [
       "tensor([[0.1859, 0.0220, 0.1711, 0.2191, 0.0910, 1.0389, 0.1123, 0.0904, 0.0287,\n",
       "         0.6401, 0.0426, 0.0698, 0.1426, 0.0760, 0.3553, 0.1315, 0.1283, 0.5974,\n",
       "         0.2096, 0.0650],\n",
       "        [0.2351, 0.2969, 0.0297, 0.2467, 0.1092, 0.2005, 0.0567, 0.3328, 0.0413,\n",
       "         0.0509, 0.3716, 0.0511, 0.0225, 0.1329, 0.7416, 0.2086, 0.2699, 0.5212,\n",
       "         0.1337, 0.0580]])"
      ]
     },
     "execution_count": 691,
     "metadata": {},
     "output_type": "execute_result"
    }
   ],
   "source": [
    "dists.data"
   ]
  },
  {
   "cell_type": "code",
   "execution_count": 692,
   "metadata": {},
   "outputs": [
    {
     "data": {
      "text/plain": [
       "(tensor([1.0389, 0.7416]), tensor([0.0220, 0.0225]))"
      ]
     },
     "execution_count": 692,
     "metadata": {},
     "output_type": "execute_result"
    }
   ],
   "source": [
    "dists.data.max(dim=1)[0], dists.data.min(dim=1)[0]"
   ]
  },
  {
   "cell_type": "code",
   "execution_count": 693,
   "metadata": {},
   "outputs": [],
   "source": [
    "dt.set_centroid_to_data_randomly(train_loader)"
   ]
  },
  {
   "cell_type": "code",
   "execution_count": 694,
   "metadata": {},
   "outputs": [],
   "source": [
    "# dt.set_centroid_to_data(train_loader)"
   ]
  },
  {
   "cell_type": "code",
   "execution_count": 695,
   "metadata": {},
   "outputs": [],
   "source": [
    "class DTinverseDT(nn.Module):\n",
    "    \n",
    "    def __init__(self, dt):\n",
    "        super().__init__()\n",
    "        self.dt = dt\n",
    "        \n",
    "    def forward(self, x):\n",
    "        dists = self.dt(x)\n",
    "        dists = dists-dists.min(dim=1, keepdim=True)[0]\n",
    "        \n",
    "        scaler = torch.softmax(dists, dim=1)\n",
    "        output = torch.matmul(scaler, self.dt.centers)\n",
    "        return output"
   ]
  },
  {
   "cell_type": "code",
   "execution_count": 696,
   "metadata": {},
   "outputs": [],
   "source": [
    "dtidt = DTinverseDT(DistanceTransform(784, 20))"
   ]
  },
  {
   "cell_type": "code",
   "execution_count": 697,
   "metadata": {},
   "outputs": [],
   "source": [
    "dtidt.dt.set_centroid_to_data_randomly(train_loader)"
   ]
  },
  {
   "cell_type": "code",
   "execution_count": 698,
   "metadata": {},
   "outputs": [
    {
     "data": {
      "text/plain": [
       "torch.Size([2, 784])"
      ]
     },
     "execution_count": 698,
     "metadata": {},
     "output_type": "execute_result"
    }
   ],
   "source": [
    "dtidt(torch.randn(2, 784)).shape"
   ]
  },
  {
   "cell_type": "code",
   "execution_count": 699,
   "metadata": {},
   "outputs": [],
   "source": [
    "xx, yy = train_dataset[[0,1]]\n",
    "yy = dtidt(xx)"
   ]
  },
  {
   "cell_type": "code",
   "execution_count": 700,
   "metadata": {},
   "outputs": [
    {
     "data": {
      "text/plain": [
       "<matplotlib.image.AxesImage at 0x7fbb9f610160>"
      ]
     },
     "execution_count": 700,
     "metadata": {},
     "output_type": "execute_result"
    },
    {
     "data": {
      "image/png": "[encoded data removed]",
      "text/plain": [
       "<Figure size 432x288 with 1 Axes>"
      ]
     },
     "metadata": {
      "needs_background": "light"
     },
     "output_type": "display_data"
    }
   ],
   "source": [
    "plt.imshow(yy.data[0].reshape(28, 28))"
   ]
  },
  {
   "cell_type": "markdown",
   "metadata": {},
   "source": [
    "## Distance Attention Layer"
   ]
  },
  {
   "cell_type": "code",
   "execution_count": 701,
   "metadata": {},
   "outputs": [],
   "source": [
    "class DistanceAttention(nn.Module):\n",
    "    \n",
    "    def __init__(self, input_dim, output_dim, p=2):\n",
    "        super().__init__()\n",
    "        self.dt = DistanceTransform_Exp(input_dim, output_dim, p=2)\n",
    "        self.linear = nn.Linear(input_dim, output_dim)\n",
    "        \n",
    "    def forward(self, x):\n",
    "        scaler = self.dt(x)\n",
    "        output = self.linear(x)\n",
    "        return output*scaler"
   ]
  },
  {
   "cell_type": "code",
   "execution_count": 702,
   "metadata": {},
   "outputs": [
    {
     "data": {
      "text/plain": [
       "DistanceAttention(\n",
       "  (dt): DistanceTransform_Exp()\n",
       "  (linear): Linear(in_features=784, out_features=20, bias=True)\n",
       ")"
      ]
     },
     "execution_count": 702,
     "metadata": {},
     "output_type": "execute_result"
    }
   ],
   "source": [
    "da = DistanceAttention(784, 20)\n",
    "da.to(device)"
   ]
  },
  {
   "cell_type": "code",
   "execution_count": 703,
   "metadata": {},
   "outputs": [
    {
     "data": {
      "text/plain": [
       "tensor([[-3.9796e-01, -1.3134e-02,  4.0913e-02, -1.8343e-02, -3.7873e-03,\n",
       "          1.2622e-01,  3.8082e-02,  9.5710e-01, -1.5502e-01,  1.7526e-02,\n",
       "         -6.8423e-02,  4.3531e-02,  1.2362e-01,  2.6628e-02,  6.3377e-02,\n",
       "         -9.3400e-03, -7.6672e-02, -3.3488e-02, -2.2948e-02,  1.8914e-01],\n",
       "        [-4.1774e-02, -9.5750e-02,  1.0433e-02, -7.3843e-02, -9.4855e-03,\n",
       "         -1.0590e-01, -2.8735e-02,  1.3591e-02,  5.9072e-01, -3.5581e-03,\n",
       "         -9.4183e-04,  8.9716e-03,  1.8776e-02, -1.2945e-02, -3.3502e-01,\n",
       "          2.0291e-02,  1.6767e-02, -2.2080e-02, -3.7227e-02, -1.3115e-02]],\n",
       "       device='cuda:0', grad_fn=<MulBackward0>)"
      ]
     },
     "execution_count": 703,
     "metadata": {},
     "output_type": "execute_result"
    }
   ],
   "source": [
    "out = da(torch.randn(2, 784).to(device))\n",
    "out"
   ]
  },
  {
   "cell_type": "code",
   "execution_count": 704,
   "metadata": {},
   "outputs": [
    {
     "data": {
      "text/plain": [
       "torch.Size([2, 20])"
      ]
     },
     "execution_count": 704,
     "metadata": {},
     "output_type": "execute_result"
    }
   ],
   "source": [
    "out.shape"
   ]
  },
  {
   "cell_type": "code",
   "execution_count": 705,
   "metadata": {},
   "outputs": [],
   "source": [
    "#######################"
   ]
  },
  {
   "cell_type": "code",
   "execution_count": 706,
   "metadata": {},
   "outputs": [],
   "source": [
    "# model = nn.Sequential(\n",
    "#                 DTinverseDT(DistanceTransform(784, 785)),\n",
    "#                 nn.LayerNorm(784),\n",
    "#                 nn.LeakyReLU(),\n",
    "#                 DistanceTransform(784, 785),\n",
    "#                 nn.LayerNorm(785),\n",
    "#                 nn.LeakyReLU(),\n",
    "#                 DTinverseDT(DistanceTransform(785, 200)),\n",
    "#                 nn.LayerNorm(785),\n",
    "#                 nn.LeakyReLU(),\n",
    "#                 DistanceTransform(785, 200),\n",
    "#                 nn.LayerNorm(200),\n",
    "#                 nn.LeakyReLU(),\n",
    "#                 DTinverseDT(DistanceTransform(200, 50)),\n",
    "#                 nn.LayerNorm(200),\n",
    "#                 nn.LeakyReLU(),\n",
    "#                 DistanceTransform(200, 50),\n",
    "#                 nn.LayerNorm(50),\n",
    "#                 nn.LeakyReLU(),\n",
    "#                 DTinverseDT(DistanceTransform(50, 10)),\n",
    "#                 nn.LayerNorm(50),\n",
    "#                 nn.LeakyReLU(),\n",
    "#                 DistanceTransform(50, 10),\n",
    "#                 nn.LayerNorm(10),\n",
    "#             )\n",
    "# model.to(device)"
   ]
  },
  {
   "cell_type": "code",
   "execution_count": 708,
   "metadata": {},
   "outputs": [
    {
     "data": {
      "text/plain": [
       "Sequential(\n",
       "  (0): DistanceTransform_MinExp()\n",
       "  (1): BatchNorm1d(785, eps=1e-05, momentum=0.1, affine=True, track_running_stats=True)\n",
       "  (2): LeakyReLU(negative_slope=0.01)\n",
       "  (3): DistanceTransform_MinExp()\n",
       "  (4): BatchNorm1d(200, eps=1e-05, momentum=0.1, affine=True, track_running_stats=True)\n",
       "  (5): LeakyReLU(negative_slope=0.01)\n",
       "  (6): DistanceTransform_MinExp()\n",
       "  (7): BatchNorm1d(50, eps=1e-05, momentum=0.1, affine=True, track_running_stats=True)\n",
       "  (8): LeakyReLU(negative_slope=0.01)\n",
       "  (9): DistanceTransform_MinExp()\n",
       "  (10): BatchNorm1d(10, eps=1e-05, momentum=0.1, affine=True, track_running_stats=True)\n",
       ")"
      ]
     },
     "execution_count": 708,
     "metadata": {},
     "output_type": "execute_result"
    }
   ],
   "source": [
    "model = nn.Sequential(\n",
    "                DistanceTransform_MinExp(784, 785),\n",
    "                nn.BatchNorm1d(785),\n",
    "                nn.LeakyReLU(),\n",
    "                DistanceTransform_MinExp(785, 200),\n",
    "#                 nn.Linear(785, 200),\n",
    "                nn.BatchNorm1d(200),\n",
    "                nn.LeakyReLU(),\n",
    "                DistanceTransform_MinExp(200, 50),\n",
    "#                 nn.Linear(200, 50),\n",
    "                nn.BatchNorm1d(50),\n",
    "                nn.LeakyReLU(),\n",
    "                DistanceTransform_MinExp(50, 10),\n",
    "#                 nn.Linear(50, 10),\n",
    "                nn.BatchNorm1d(10)\n",
    "            )\n",
    "model.to(device)"
   ]
  },
  {
   "cell_type": "code",
   "execution_count": 709,
   "metadata": {},
   "outputs": [],
   "source": [
    "# model[0].dt.set_centroid_to_data_randomly(train_loader) ## this worked best for preserving locality\n",
    "model[0].set_centroid_to_data_randomly(train_loader) ## this worked best for preserving locality\n",
    "\n",
    "# model[0].set_centroid_to_data_maxdist(train_loader)"
   ]
  },
  {
   "cell_type": "code",
   "execution_count": 710,
   "metadata": {},
   "outputs": [],
   "source": [
    "# model[0].centers.requires_grad=False\n",
    "# model[0].set_centroid_to_data_randomly(train_loader) ## this worked best for preserving locality\n",
    "# model[0].set_centroid_to_data_maxdist(train_loader)"
   ]
  },
  {
   "cell_type": "code",
   "execution_count": 711,
   "metadata": {},
   "outputs": [],
   "source": [
    "# center_lbl = model(model[0].centers.data)\n",
    "# output_cent = torch.softmax(center_lbl, dim=1).argmax(dim=1).data.cpu()\n",
    "# torch.unique(output_cent, return_counts=True)"
   ]
  },
  {
   "cell_type": "code",
   "execution_count": 712,
   "metadata": {},
   "outputs": [],
   "source": [
    "# model = nn.Sequential(\n",
    "#                 nn.Linear(784, 785),\n",
    "#                 nn.BatchNorm1d(785),\n",
    "#                 nn.LeakyReLU(),\n",
    "#                 nn.Linear(785, 200),\n",
    "#                 nn.BatchNorm1d(200),\n",
    "#                 nn.LeakyReLU(),\n",
    "#                 nn.Linear(200, 50),\n",
    "#                 nn.BatchNorm1d(50),\n",
    "#                 nn.LeakyReLU(),\n",
    "#                 nn.Linear(50, 10),\n",
    "#                 nn.BatchNorm1d(10)\n",
    "#             )\n",
    "# model.to(device)"
   ]
  },
  {
   "cell_type": "code",
   "execution_count": 713,
   "metadata": {},
   "outputs": [],
   "source": [
    "# model[0].weight.data = dt.centers.data.clone().to(device)/85.0"
   ]
  },
  {
   "cell_type": "code",
   "execution_count": 714,
   "metadata": {},
   "outputs": [],
   "source": [
    "optimizer = optim.Adam(list(model.parameters()), \n",
    "                            lr=0.001)\n",
    "criterion = nn.CrossEntropyLoss()"
   ]
  },
  {
   "cell_type": "code",
   "execution_count": 715,
   "metadata": {},
   "outputs": [
    {
     "name": "stderr",
     "output_type": "stream",
     "text": [
      "\r",
      "  0%|          | 0/40 [00:00<?, ?it/s]"
     ]
    },
    {
     "name": "stdout",
     "output_type": "stream",
     "text": [
      "Epoch: 0:0,  Loss:0.8331224918365479\n"
     ]
    },
    {
     "name": "stderr",
     "output_type": "stream",
     "text": [
      "\r",
      "  2%|▎         | 1/40 [00:04<03:13,  4.95s/it]"
     ]
    },
    {
     "name": "stdout",
     "output_type": "stream",
     "text": [
      "Train Acc:62.96%, Test Acc:72.05%\n",
      "\n",
      "Epoch: 1:0,  Loss:0.7256414294242859\n"
     ]
    },
    {
     "name": "stderr",
     "output_type": "stream",
     "text": [
      "\r",
      "  5%|▌         | 2/40 [00:09<03:07,  4.95s/it]"
     ]
    },
    {
     "name": "stdout",
     "output_type": "stream",
     "text": [
      "Train Acc:76.05%, Test Acc:77.82%\n",
      "\n",
      "Epoch: 2:0,  Loss:0.7158241868019104\n"
     ]
    },
    {
     "name": "stderr",
     "output_type": "stream",
     "text": [
      "\r",
      "  8%|▊         | 3/40 [00:14<03:04,  4.97s/it]"
     ]
    },
    {
     "name": "stdout",
     "output_type": "stream",
     "text": [
      "Train Acc:79.52%, Test Acc:80.75%\n",
      "\n",
      "Epoch: 3:0,  Loss:0.32514649629592896\n"
     ]
    },
    {
     "name": "stderr",
     "output_type": "stream",
     "text": [
      "\r",
      " 10%|█         | 4/40 [00:19<03:00,  5.00s/it]"
     ]
    },
    {
     "name": "stdout",
     "output_type": "stream",
     "text": [
      "Train Acc:81.78%, Test Acc:83.31%\n",
      "\n",
      "Epoch: 4:0,  Loss:0.5912052392959595\n"
     ]
    },
    {
     "name": "stderr",
     "output_type": "stream",
     "text": [
      "\r",
      " 12%|█▎        | 5/40 [00:25<02:56,  5.03s/it]"
     ]
    },
    {
     "name": "stdout",
     "output_type": "stream",
     "text": [
      "Train Acc:83.41%, Test Acc:82.98%\n",
      "\n",
      "Epoch: 5:0,  Loss:0.42264240980148315\n"
     ]
    },
    {
     "name": "stderr",
     "output_type": "stream",
     "text": [
      "\r",
      " 15%|█▌        | 6/40 [00:30<02:51,  5.03s/it]"
     ]
    },
    {
     "name": "stdout",
     "output_type": "stream",
     "text": [
      "Train Acc:84.23%, Test Acc:84.74%\n",
      "\n",
      "Epoch: 6:0,  Loss:0.2840682864189148\n"
     ]
    },
    {
     "name": "stderr",
     "output_type": "stream",
     "text": [
      "\r",
      " 18%|█▊        | 7/40 [00:35<02:46,  5.05s/it]"
     ]
    },
    {
     "name": "stdout",
     "output_type": "stream",
     "text": [
      "Train Acc:85.34%, Test Acc:85.85%\n",
      "\n",
      "Epoch: 7:0,  Loss:0.24780601263046265\n"
     ]
    },
    {
     "name": "stderr",
     "output_type": "stream",
     "text": [
      "\r",
      " 20%|██        | 8/40 [00:40<02:40,  5.02s/it]"
     ]
    },
    {
     "name": "stdout",
     "output_type": "stream",
     "text": [
      "Train Acc:86.24%, Test Acc:85.77%\n",
      "\n",
      "Epoch: 8:0,  Loss:0.3607395887374878\n"
     ]
    },
    {
     "name": "stderr",
     "output_type": "stream",
     "text": [
      "\r",
      " 22%|██▎       | 9/40 [00:45<02:35,  5.02s/it]"
     ]
    },
    {
     "name": "stdout",
     "output_type": "stream",
     "text": [
      "Train Acc:86.69%, Test Acc:86.16%\n",
      "\n",
      "Epoch: 9:0,  Loss:0.4975593686103821\n"
     ]
    },
    {
     "name": "stderr",
     "output_type": "stream",
     "text": [
      "\r",
      " 25%|██▌       | 10/40 [00:50<02:30,  5.03s/it]"
     ]
    },
    {
     "name": "stdout",
     "output_type": "stream",
     "text": [
      "Train Acc:87.29%, Test Acc:86.23%\n",
      "\n",
      "Epoch: 10:0,  Loss:0.23656034469604492\n"
     ]
    },
    {
     "name": "stderr",
     "output_type": "stream",
     "text": [
      "\r",
      " 28%|██▊       | 11/40 [00:55<02:25,  5.02s/it]"
     ]
    },
    {
     "name": "stdout",
     "output_type": "stream",
     "text": [
      "Train Acc:87.83%, Test Acc:87.08%\n",
      "\n",
      "Epoch: 11:0,  Loss:0.46793514490127563\n"
     ]
    },
    {
     "name": "stderr",
     "output_type": "stream",
     "text": [
      "\r",
      " 30%|███       | 12/40 [01:00<02:19,  4.99s/it]"
     ]
    },
    {
     "name": "stdout",
     "output_type": "stream",
     "text": [
      "Train Acc:88.24%, Test Acc:86.47%\n",
      "\n",
      "Epoch: 12:0,  Loss:0.41420361399650574\n"
     ]
    },
    {
     "name": "stderr",
     "output_type": "stream",
     "text": [
      "\r",
      " 32%|███▎      | 13/40 [01:05<02:15,  5.01s/it]"
     ]
    },
    {
     "name": "stdout",
     "output_type": "stream",
     "text": [
      "Train Acc:89.01%, Test Acc:87.15%\n",
      "\n",
      "Epoch: 13:0,  Loss:0.43364235758781433\n"
     ]
    },
    {
     "name": "stderr",
     "output_type": "stream",
     "text": [
      "\r",
      " 35%|███▌      | 14/40 [01:10<02:10,  5.04s/it]"
     ]
    },
    {
     "name": "stdout",
     "output_type": "stream",
     "text": [
      "Train Acc:89.43%, Test Acc:86.87%\n",
      "\n",
      "Epoch: 14:0,  Loss:0.2409338802099228\n"
     ]
    },
    {
     "name": "stderr",
     "output_type": "stream",
     "text": [
      "\r",
      " 38%|███▊      | 15/40 [01:15<02:05,  5.03s/it]"
     ]
    },
    {
     "name": "stdout",
     "output_type": "stream",
     "text": [
      "Train Acc:89.72%, Test Acc:87.20%\n",
      "\n",
      "Epoch: 15:0,  Loss:0.4403461515903473\n"
     ]
    },
    {
     "name": "stderr",
     "output_type": "stream",
     "text": [
      "\r",
      " 40%|████      | 16/40 [01:20<02:00,  5.04s/it]"
     ]
    },
    {
     "name": "stdout",
     "output_type": "stream",
     "text": [
      "Train Acc:90.28%, Test Acc:87.21%\n",
      "\n",
      "Epoch: 16:0,  Loss:0.1545201539993286\n"
     ]
    },
    {
     "name": "stderr",
     "output_type": "stream",
     "text": [
      "\r",
      " 42%|████▎     | 17/40 [01:25<01:55,  5.01s/it]"
     ]
    },
    {
     "name": "stdout",
     "output_type": "stream",
     "text": [
      "Train Acc:90.44%, Test Acc:87.71%\n",
      "\n",
      "Epoch: 17:0,  Loss:0.15578842163085938\n"
     ]
    },
    {
     "name": "stderr",
     "output_type": "stream",
     "text": [
      "\r",
      " 45%|████▌     | 18/40 [01:30<01:50,  5.05s/it]"
     ]
    },
    {
     "name": "stdout",
     "output_type": "stream",
     "text": [
      "Train Acc:90.89%, Test Acc:87.54%\n",
      "\n",
      "Epoch: 18:0,  Loss:0.1550576239824295\n"
     ]
    },
    {
     "name": "stderr",
     "output_type": "stream",
     "text": [
      "\r",
      " 48%|████▊     | 19/40 [01:35<01:46,  5.07s/it]"
     ]
    },
    {
     "name": "stdout",
     "output_type": "stream",
     "text": [
      "Train Acc:91.28%, Test Acc:86.91%\n",
      "\n",
      "Epoch: 19:0,  Loss:0.5010692477226257\n"
     ]
    },
    {
     "name": "stderr",
     "output_type": "stream",
     "text": [
      "\r",
      " 50%|█████     | 20/40 [01:40<01:40,  5.05s/it]"
     ]
    },
    {
     "name": "stdout",
     "output_type": "stream",
     "text": [
      "Train Acc:91.61%, Test Acc:88.09%\n",
      "\n",
      "Epoch: 20:0,  Loss:0.1935373842716217\n"
     ]
    },
    {
     "name": "stderr",
     "output_type": "stream",
     "text": [
      "\r",
      " 52%|█████▎    | 21/40 [01:45<01:35,  5.04s/it]"
     ]
    },
    {
     "name": "stdout",
     "output_type": "stream",
     "text": [
      "Train Acc:91.98%, Test Acc:87.37%\n",
      "\n",
      "Epoch: 21:0,  Loss:0.2513056695461273\n"
     ]
    },
    {
     "name": "stderr",
     "output_type": "stream",
     "text": [
      "\r",
      " 55%|█████▌    | 22/40 [01:50<01:30,  5.02s/it]"
     ]
    },
    {
     "name": "stdout",
     "output_type": "stream",
     "text": [
      "Train Acc:92.19%, Test Acc:87.65%\n",
      "\n",
      "Epoch: 22:0,  Loss:0.09598489105701447\n"
     ]
    },
    {
     "name": "stderr",
     "output_type": "stream",
     "text": [
      "\r",
      " 57%|█████▊    | 23/40 [01:55<01:25,  5.02s/it]"
     ]
    },
    {
     "name": "stdout",
     "output_type": "stream",
     "text": [
      "Train Acc:92.63%, Test Acc:86.79%\n",
      "\n",
      "Epoch: 23:0,  Loss:0.13698408007621765\n"
     ]
    },
    {
     "name": "stderr",
     "output_type": "stream",
     "text": [
      "\r",
      " 60%|██████    | 24/40 [02:00<01:20,  5.03s/it]"
     ]
    },
    {
     "name": "stdout",
     "output_type": "stream",
     "text": [
      "Train Acc:92.71%, Test Acc:87.84%\n",
      "\n",
      "Epoch: 24:0,  Loss:0.2205962985754013\n"
     ]
    },
    {
     "name": "stderr",
     "output_type": "stream",
     "text": [
      "\r",
      " 62%|██████▎   | 25/40 [02:05<01:15,  5.03s/it]"
     ]
    },
    {
     "name": "stdout",
     "output_type": "stream",
     "text": [
      "Train Acc:93.11%, Test Acc:87.59%\n",
      "\n",
      "Epoch: 25:0,  Loss:0.08355405926704407\n"
     ]
    },
    {
     "name": "stderr",
     "output_type": "stream",
     "text": [
      "\r",
      " 65%|██████▌   | 26/40 [02:10<01:10,  5.04s/it]"
     ]
    },
    {
     "name": "stdout",
     "output_type": "stream",
     "text": [
      "Train Acc:93.38%, Test Acc:87.28%\n",
      "\n",
      "Epoch: 26:0,  Loss:0.2693406343460083\n"
     ]
    },
    {
     "name": "stderr",
     "output_type": "stream",
     "text": [
      "\r",
      " 68%|██████▊   | 27/40 [02:15<01:05,  5.03s/it]"
     ]
    },
    {
     "name": "stdout",
     "output_type": "stream",
     "text": [
      "Train Acc:93.59%, Test Acc:87.34%\n",
      "\n",
      "Epoch: 27:0,  Loss:0.13629983365535736\n"
     ]
    },
    {
     "name": "stderr",
     "output_type": "stream",
     "text": [
      "\r",
      " 70%|███████   | 28/40 [02:20<01:00,  5.04s/it]"
     ]
    },
    {
     "name": "stdout",
     "output_type": "stream",
     "text": [
      "Train Acc:93.82%, Test Acc:87.43%\n",
      "\n",
      "Epoch: 28:0,  Loss:0.21935947239398956\n"
     ]
    },
    {
     "name": "stderr",
     "output_type": "stream",
     "text": [
      "\r",
      " 72%|███████▎  | 29/40 [02:25<00:55,  5.06s/it]"
     ]
    },
    {
     "name": "stdout",
     "output_type": "stream",
     "text": [
      "Train Acc:93.91%, Test Acc:86.97%\n",
      "\n",
      "Epoch: 29:0,  Loss:0.13928838074207306\n"
     ]
    },
    {
     "name": "stderr",
     "output_type": "stream",
     "text": [
      "\r",
      " 75%|███████▌  | 30/40 [02:30<00:50,  5.07s/it]"
     ]
    },
    {
     "name": "stdout",
     "output_type": "stream",
     "text": [
      "Train Acc:94.12%, Test Acc:87.64%\n",
      "\n",
      "Epoch: 30:0,  Loss:0.22074101865291595\n"
     ]
    },
    {
     "name": "stderr",
     "output_type": "stream",
     "text": [
      "\r",
      " 78%|███████▊  | 31/40 [02:35<00:45,  5.07s/it]"
     ]
    },
    {
     "name": "stdout",
     "output_type": "stream",
     "text": [
      "Train Acc:94.29%, Test Acc:87.51%\n",
      "\n",
      "Epoch: 31:0,  Loss:0.1932622492313385\n"
     ]
    },
    {
     "name": "stderr",
     "output_type": "stream",
     "text": [
      "\r",
      " 80%|████████  | 32/40 [02:41<00:40,  5.05s/it]"
     ]
    },
    {
     "name": "stdout",
     "output_type": "stream",
     "text": [
      "Train Acc:94.56%, Test Acc:87.40%\n",
      "\n",
      "Epoch: 32:0,  Loss:0.2066844403743744\n"
     ]
    },
    {
     "name": "stderr",
     "output_type": "stream",
     "text": [
      "\r",
      " 82%|████████▎ | 33/40 [02:46<00:35,  5.04s/it]"
     ]
    },
    {
     "name": "stdout",
     "output_type": "stream",
     "text": [
      "Train Acc:94.77%, Test Acc:87.61%\n",
      "\n",
      "Epoch: 33:0,  Loss:0.10144387185573578\n"
     ]
    },
    {
     "name": "stderr",
     "output_type": "stream",
     "text": [
      "\r",
      " 85%|████████▌ | 34/40 [02:51<00:30,  5.05s/it]"
     ]
    },
    {
     "name": "stdout",
     "output_type": "stream",
     "text": [
      "Train Acc:94.90%, Test Acc:87.54%\n",
      "\n",
      "Epoch: 34:0,  Loss:0.2508998513221741\n"
     ]
    },
    {
     "name": "stderr",
     "output_type": "stream",
     "text": [
      "\r",
      " 88%|████████▊ | 35/40 [02:56<00:25,  5.06s/it]"
     ]
    },
    {
     "name": "stdout",
     "output_type": "stream",
     "text": [
      "Train Acc:95.08%, Test Acc:87.40%\n",
      "\n",
      "Epoch: 35:0,  Loss:0.24001771211624146\n"
     ]
    },
    {
     "name": "stderr",
     "output_type": "stream",
     "text": [
      "\r",
      " 90%|█████████ | 36/40 [03:01<00:20,  5.07s/it]"
     ]
    },
    {
     "name": "stdout",
     "output_type": "stream",
     "text": [
      "Train Acc:95.17%, Test Acc:87.10%\n",
      "\n",
      "Epoch: 36:0,  Loss:0.358097642660141\n"
     ]
    },
    {
     "name": "stderr",
     "output_type": "stream",
     "text": [
      "\r",
      " 92%|█████████▎| 37/40 [03:06<00:15,  5.04s/it]"
     ]
    },
    {
     "name": "stdout",
     "output_type": "stream",
     "text": [
      "Train Acc:95.41%, Test Acc:87.45%\n",
      "\n",
      "Epoch: 37:0,  Loss:0.136013463139534\n"
     ]
    },
    {
     "name": "stderr",
     "output_type": "stream",
     "text": [
      "\r",
      " 95%|█████████▌| 38/40 [03:11<00:10,  5.03s/it]"
     ]
    },
    {
     "name": "stdout",
     "output_type": "stream",
     "text": [
      "Train Acc:95.38%, Test Acc:87.64%\n",
      "\n",
      "Epoch: 38:0,  Loss:0.15074491500854492\n"
     ]
    },
    {
     "name": "stderr",
     "output_type": "stream",
     "text": [
      "\r",
      " 98%|█████████▊| 39/40 [03:16<00:05,  5.04s/it]"
     ]
    },
    {
     "name": "stdout",
     "output_type": "stream",
     "text": [
      "Train Acc:95.76%, Test Acc:87.19%\n",
      "\n",
      "Epoch: 39:0,  Loss:0.06488163024187088\n"
     ]
    },
    {
     "name": "stderr",
     "output_type": "stream",
     "text": [
      "100%|██████████| 40/40 [03:21<00:00,  5.03s/it]"
     ]
    },
    {
     "name": "stdout",
     "output_type": "stream",
     "text": [
      "Train Acc:95.68%, Test Acc:87.92%\n",
      "\n",
      "\t-> MAX Train Acc 95.75833333333334 ; Test Acc 88.09\n"
     ]
    },
    {
     "name": "stderr",
     "output_type": "stream",
     "text": [
      "\n"
     ]
    }
   ],
   "source": [
    "index = 0\n",
    "train_accs, test_accs = [], []\n",
    "for epoch in tqdm(list(range(40))):\n",
    "    model.train()\n",
    "    train_acc = 0\n",
    "    train_count = 0\n",
    "    for xx, yy in train_loader:\n",
    "        xx, yy = xx.to(device), yy.to(device)\n",
    "        yout = model(xx)\n",
    "        loss = criterion(yout, yy)\n",
    "        optimizer.zero_grad()\n",
    "        loss.backward()\n",
    "        optimizer.step()\n",
    "\n",
    "        outputs = torch.argmax(yout, dim=1).data.cpu().numpy()\n",
    "        correct = (outputs == yy.data.cpu().numpy()).astype(float).sum()\n",
    "        train_acc += correct\n",
    "        train_count += len(outputs)\n",
    "\n",
    "    train_accs.append(float(train_acc)/train_count*100)\n",
    "    train_acc = 0\n",
    "    train_count = 0\n",
    "    \n",
    "    print(f'Epoch: {epoch}:{index},  Loss:{float(loss)}')\n",
    "    test_count = 0\n",
    "    test_acc = 0\n",
    "    model.eval()\n",
    "    for xx, yy in test_loader:\n",
    "        xx, yy = xx.to(device), yy.to(device)\n",
    "        with torch.no_grad():\n",
    "            yout = model(xx)\n",
    "        outputs = torch.argmax(yout, dim=1).data.cpu().numpy()\n",
    "        correct = (outputs == yy.data.cpu().numpy()).astype(float).sum()\n",
    "        test_acc += correct\n",
    "        test_count += len(xx)\n",
    "    test_accs.append(float(test_acc)/test_count*100)\n",
    "    print(f'Train Acc:{train_accs[-1]:.2f}%, Test Acc:{test_accs[-1]:.2f}%')\n",
    "    print()\n",
    "\n",
    "### after each class index is finished training\n",
    "print(f'\\t-> MAX Train Acc {max(train_accs)} ; Test Acc {max(test_accs)}')"
   ]
  },
  {
   "cell_type": "code",
   "execution_count": null,
   "metadata": {},
   "outputs": [],
   "source": [
    "# model[0].s.shape, model[0].t.shape"
   ]
  },
  {
   "cell_type": "code",
   "execution_count": 640,
   "metadata": {},
   "outputs": [
    {
     "name": "stdout",
     "output_type": "stream",
     "text": [
      "\t-> MAX Train Acc 97.95666666666666 ; Test Acc 88.05\n"
     ]
    }
   ],
   "source": [
    "print(f'\\t-> MAX Train Acc {max(train_accs)} ; Test Acc {max(test_accs)}')"
   ]
  },
  {
   "cell_type": "code",
   "execution_count": 30,
   "metadata": {},
   "outputs": [],
   "source": [
    "torch.save(model.state_dict(), \"./models/temp_03_1_model_dec1_v0.pth\")\n",
    "\n",
    "# model.load_state_dict(torch.load(\"./temp_01_2_model_nov26.pth\", map_location=device))"
   ]
  },
  {
   "cell_type": "code",
   "execution_count": 716,
   "metadata": {},
   "outputs": [
    {
     "data": {
      "text/plain": [
       "torch.Size([50, 785])"
      ]
     },
     "execution_count": 716,
     "metadata": {},
     "output_type": "execute_result"
    }
   ],
   "source": [
    "model.eval()\n",
    "xx = train_dataset[np.random.randint(0, len(train_dataset), 50)][0].to(device)\n",
    "dists = model[0](xx)\n",
    "# dists = model[0].dt(xx)\n",
    "# dists = xx@model[0].weight.data.t()\n",
    "\n",
    "# dists = model[1](dists)\n",
    "model.train()\n",
    "dists.shape"
   ]
  },
  {
   "cell_type": "code",
   "execution_count": 717,
   "metadata": {},
   "outputs": [],
   "source": [
    "# xx[0], model[0].weight.data[0]"
   ]
  },
  {
   "cell_type": "code",
   "execution_count": 718,
   "metadata": {},
   "outputs": [
    {
     "data": {
      "text/plain": [
       "(tensor(0.0256, device='cuda:0', grad_fn=<MeanBackward0>),\n",
       " tensor(0.0872, device='cuda:0', grad_fn=<StdBackward>),\n",
       " torch.return_types.max(\n",
       " values=tensor([1., 1., 1., 1., 1., 1., 1., 1., 1., 1., 1., 1., 1., 1., 1., 1., 1., 1.,\n",
       "         1., 1., 1., 1., 1., 1., 1., 1., 1., 1., 1., 1., 1., 1., 1., 1., 1., 1.,\n",
       "         1., 1., 1., 1., 1., 1., 1., 1., 1., 1., 1., 1., 1., 1.],\n",
       "        device='cuda:0', grad_fn=<MaxBackward0>),\n",
       " indices=tensor([163, 428, 481,  91, 471, 762, 641,   3, 151, 568, 210, 562, 180,  22,\n",
       "         556, 676, 247, 309, 531, 151, 674, 401, 314, 580, 312, 180, 706, 218,\n",
       "         470, 237, 320, 428, 217,   6, 381,  70, 481,  22, 526,  76, 108, 279,\n",
       "         632, 237, 247, 547, 763, 341, 428, 149], device='cuda:0')))"
      ]
     },
     "execution_count": 718,
     "metadata": {},
     "output_type": "execute_result"
    }
   ],
   "source": [
    "dists.mean(), dists.std(), dists.max(dim=1)"
   ]
  },
  {
   "cell_type": "code",
   "execution_count": 719,
   "metadata": {},
   "outputs": [],
   "source": [
    "# model[0].scaler"
   ]
  },
  {
   "cell_type": "markdown",
   "metadata": {},
   "source": [
    "## UMAP - from library"
   ]
  },
  {
   "cell_type": "code",
   "execution_count": 720,
   "metadata": {},
   "outputs": [],
   "source": [
    "import umap"
   ]
  },
  {
   "cell_type": "code",
   "execution_count": 721,
   "metadata": {},
   "outputs": [],
   "source": [
    "embed = umap.UMAP(n_neighbors=784, n_components=2, min_dist=0.1, spread=1, metric=\"euclidean\")\n",
    "# embed = umap.UMAP(n_neighbors=784, n_components=2, min_dist=0.1, spread=1,\n",
    "# #                   target_metric='euclidean',\n",
    "#                   target_metric='categorical',\n",
    "#                   target_weight=0.1\n",
    "#                  )"
   ]
  },
  {
   "cell_type": "code",
   "execution_count": 722,
   "metadata": {},
   "outputs": [
    {
     "data": {
      "text/plain": [
       "(tensor([0, 1, 2, 3, 4, 5, 6, 7, 8, 9]),\n",
       " tensor([100,  30,  98,  80,  99,  54, 122,  55,  87,  60]))"
      ]
     },
     "execution_count": 722,
     "metadata": {},
     "output_type": "execute_result"
    }
   ],
   "source": [
    "center_lbl = model(model[0].centers.data)\n",
    "# center_lbl = model(model[0].dt.centers.data)\n",
    "# center_lbl = model(model[0].weight.data)\n",
    "# output_cent = torch.softmax(center_lbl, dim=1).argmax(dim=1).data.cpu()\n",
    "output_cent = center_lbl.argmax(dim=1).data.cpu()\n",
    "\n",
    "# output_cent = center_lbl.data.cpu().numpy()\n",
    "\n",
    "torch.unique(output_cent, return_counts=True)"
   ]
  },
  {
   "cell_type": "code",
   "execution_count": 723,
   "metadata": {},
   "outputs": [],
   "source": [
    "# centers = model[0].dt.centers.data.cpu().numpy()\n",
    "centers = model[0].centers.data.cpu().numpy()\n",
    "# centers = model[0].weight.data.cpu().numpy()\n",
    "\n",
    "embedding = embed.fit_transform(centers)\n",
    "# embedding = embed.fit_transform(centers, output_cent)"
   ]
  },
  {
   "cell_type": "code",
   "execution_count": 724,
   "metadata": {},
   "outputs": [
    {
     "data": {
      "text/plain": [
       "torch.Size([50, 785])"
      ]
     },
     "execution_count": 724,
     "metadata": {},
     "output_type": "execute_result"
    }
   ],
   "source": [
    "dists.shape"
   ]
  },
  {
   "cell_type": "code",
   "execution_count": 725,
   "metadata": {},
   "outputs": [],
   "source": [
    "i = 0"
   ]
  },
  {
   "cell_type": "code",
   "execution_count": 764,
   "metadata": {},
   "outputs": [
    {
     "name": "stdout",
     "output_type": "stream",
     "text": [
      "39/50, sum: 17.443687438964844\n"
     ]
    },
    {
     "data": {
      "text/plain": [
       "<matplotlib.collections.PathCollection at 0x7fbdc4582520>"
      ]
     },
     "execution_count": 764,
     "metadata": {},
     "output_type": "execute_result"
    },
    {
     "data": {
      "image/png": "[encoded data removed]",
      "text/plain": [
       "<Figure size 576x576 with 1 Axes>"
      ]
     },
     "metadata": {
      "needs_background": "light"
     },
     "output_type": "display_data"
    }
   ],
   "source": [
    "activ = dists.data.cpu()[i]\n",
    "# activ = activ - activ.min()\n",
    "# activ = torch.exp(activ)\n",
    "# activ = np.maximum(activ*5, 0.0)\n",
    "\n",
    "i += 1\n",
    "print(f\"{i}/{len(dists)}, sum: {activ.sum()}\")\n",
    "plt.figure(figsize=(8,8))\n",
    "plt.scatter(embedding[:,0], embedding[:, 1], c=output_cent, s=np.maximum(activ*50, 0.5), cmap=\"tab10\")\n",
    "# activ = np.maximum(activ*5, 0.0)\n",
    "# plt.scatter(embedding[:,0], embedding[:, 1], c=output_cent, s=activ, cmap=\"tab10\")"
   ]
  },
  {
   "cell_type": "code",
   "execution_count": 611,
   "metadata": {},
   "outputs": [
    {
     "data": {
      "text/plain": [
       "(tensor(0.0537), tensor(1.1403e-06), tensor(1.), tensor(0.1184))"
      ]
     },
     "execution_count": 611,
     "metadata": {},
     "output_type": "execute_result"
    }
   ],
   "source": [
    "aa = dists.data.cpu()[i]\n",
    "aa.mean(), aa.min(), aa.max(), aa.std()"
   ]
  },
  {
   "cell_type": "code",
   "execution_count": 612,
   "metadata": {},
   "outputs": [],
   "source": [
    "j = 0"
   ]
  },
  {
   "cell_type": "code",
   "execution_count": 631,
   "metadata": {},
   "outputs": [
    {
     "data": {
      "image/png": "[encoded data removed]",
      "text/plain": [
       "<Figure size 432x288 with 1 Axes>"
      ]
     },
     "metadata": {
      "needs_background": "light"
     },
     "output_type": "display_data"
    }
   ],
   "source": [
    "# plt.imshow(xx.cpu()[j].reshape(28,28))\n",
    "plt.imshow(centers[j].reshape(28,28))\n",
    "j += 1"
   ]
  },
  {
   "cell_type": "code",
   "execution_count": null,
   "metadata": {},
   "outputs": [],
   "source": []
  }
 ],
 "metadata": {
  "kernelspec": {
   "display_name": "Python 3",
   "language": "python",
   "name": "python3"
  },
  "language_info": {
   "codemirror_mode": {
    "name": "ipython",
    "version": 3
   },
   "file_extension": ".py",
   "mimetype": "text/x-python",
   "name": "python",
   "nbconvert_exporter": "python",
   "pygments_lexer": "ipython3",
   "version": "3.9.7"
  }
 },
 "nbformat": 4,
 "nbformat_minor": 4
}
