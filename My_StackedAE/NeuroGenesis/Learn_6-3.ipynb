{
 "cells": [
  {
   "cell_type": "code",
   "execution_count": null,
   "metadata": {},
   "outputs": [
    {
     "name": "stderr",
     "output_type": "stream",
     "text": [
      "c:\\users\\heythere\\appdata\\local\\programs\\python\\python35\\lib\\site-packages\\h5py\\__init__.py:36: FutureWarning: Conversion of the second argument of issubdtype from `float` to `np.floating` is deprecated. In future, it will be treated as `np.float64 == np.dtype(float).type`.\n",
      "  from ._conv import register_converters as _register_converters\n"
     ]
    }
   ],
   "source": [
    "import numpy as np\n",
    "import tensorflow as tf\n",
    "import matplotlib.pyplot as plt\n",
    "%matplotlib inline\n",
    "from tensorflow.examples.tutorials.mnist import input_data"
   ]
  },
  {
   "cell_type": "code",
   "execution_count": null,
   "metadata": {},
   "outputs": [],
   "source": [
    "mnist = input_data.read_data_sets(\"../../Tensorflow-Bootcamp-master/03-Convolutional-Neural-Networks/MNIST_data/\",one_hot=True)"
   ]
  },
  {
   "cell_type": "code",
   "execution_count": null,
   "metadata": {},
   "outputs": [],
   "source": [
    "tf.reset_default_graph() "
   ]
  },
  {
   "cell_type": "code",
   "execution_count": null,
   "metadata": {},
   "outputs": [],
   "source": [
    "# DEFINE parameters\n",
    "num_label = 10\n",
    "label_hid1 = 5\n",
    "label_hid2 = 3\n",
    "label_hid3 = 2\n",
    "label_hid4 = 1\n",
    "\n",
    "num_image = 784 # 28*28\n",
    "image_hid1 = 392\n",
    "image_hid2 = 196\n",
    "image_hid3 = 98\n",
    "image_hid4 = 49\n",
    "image_hid5 = 25\n",
    "image_hid6 = 12\n",
    "image_hid7 = 6\n",
    "image_hid8 = 3\n",
    "image_hid9 = 2\n",
    "image_hid10 = 1"
   ]
  },
  {
   "cell_type": "code",
   "execution_count": null,
   "metadata": {},
   "outputs": [],
   "source": [
    "tie_weight = tf.transpose\n",
    "act_func = lambda X:X\n",
    "initializer = tf.variance_scaling_initializer()"
   ]
  },
  {
   "cell_type": "code",
   "execution_count": null,
   "metadata": {},
   "outputs": [],
   "source": [
    "## PLACEHOLDER DEFINATION\n",
    "X = tf.placeholder(tf.float32, shape=[None, num_image])\n",
    "Y = tf.placeholder(tf.float32, shape=[None, num_label])"
   ]
  },
  {
   "cell_type": "markdown",
   "metadata": {},
   "source": [
    "## Loading Encoded Model"
   ]
  },
  {
   "cell_type": "code",
   "execution_count": null,
   "metadata": {},
   "outputs": [],
   "source": [
    "## IMAGE COMPRESSION\n",
    "wi1 = tf.Variable(np.load('../save/weights/w1.npy'))\n",
    "wi2 = tf.Variable(np.load('../save/weights/w2.npy'))\n",
    "wi3 = tf.Variable(np.load('../save/weights/w3.npy'))\n",
    "wi4 = tf.Variable(np.load('../save/weights/w4.npy'))\n",
    "wi5 = tf.Variable(np.load('../save/weights/w5.npy'))\n",
    "wi6 = tf.Variable(np.load('../save/weights/w6.npy'))\n",
    "wi7 = tf.Variable(np.load('../save/weights/w7.npy'))\n",
    "wi8 = tf.Variable(np.load('../save/weights/w8.npy'))\n",
    "wi9 = tf.Variable(np.load('../save/weights/w9.npy'))\n",
    "wi10 = tf.Variable(np.load('../save/weights/w10.npy'))"
   ]
  },
  {
   "cell_type": "code",
   "execution_count": null,
   "metadata": {},
   "outputs": [],
   "source": [
    "img_layer1 = act_func(tf.matmul(X, wi1))\n",
    "img_layer2 = act_func(tf.matmul(img_layer1, wi2))\n",
    "img_layer3 = act_func(tf.matmul(img_layer2, wi3))\n",
    "img_layer4 = act_func(tf.matmul(img_layer3, wi4))\n",
    "img_layer5 = act_func(tf.matmul(img_layer4, wi5))\n",
    "img_layer6 = act_func(tf.matmul(img_layer5, wi6))\n",
    "img_layer7 = act_func(tf.matmul(img_layer6, wi7))\n",
    "img_layer8 = act_func(tf.matmul(img_layer7, wi8))\n",
    "img_layer9 = act_func(tf.matmul(img_layer8, wi9))\n",
    "img_layer10 = act_func(tf.matmul(img_layer9, wi10))"
   ]
  },
  {
   "cell_type": "code",
   "execution_count": null,
   "metadata": {},
   "outputs": [],
   "source": [
    "## LABEL DECOMPRESSION\n",
    "wl1 = tf.Variable(np.load('../save/weights/lw1.npy'))\n",
    "wl2 = tf.Variable(np.load('../save/weights/lw2.npy'))\n",
    "wl3 = tf.Variable(np.load('../save/weights/lw3.npy'))\n",
    "wl4 = tf.Variable(np.load('../save/weights/lw4.npy'))"
   ]
  },
  {
   "cell_type": "code",
   "execution_count": null,
   "metadata": {},
   "outputs": [],
   "source": [
    "lbl_layer1 = act_func(tf.matmul(Y, wl1))\n",
    "lbl_layer2 = act_func(tf.matmul(lbl_layer1, wl2))\n",
    "lbl_layer3 = act_func(tf.matmul(lbl_layer2, wl3))\n",
    "lbl_layer4 = act_func(tf.matmul(lbl_layer3, wl4))"
   ]
  },
  {
   "cell_type": "markdown",
   "metadata": {},
   "source": [
    "## Setting up learning Model"
   ]
  },
  {
   "cell_type": "code",
   "execution_count": 185,
   "metadata": {},
   "outputs": [],
   "source": [
    "# Learning Parameters AKA neurogenesis\n",
    "# w11 = tf.Variable(initializer([image_hid10, label_hid4]), dtype=tf.float32)\n",
    "\n",
    "w62 = tf.constant(np.load('../save/weights/ngw6-2.npy'))\n",
    "\n",
    "w63 = tf.Variable(initializer([image_hid7, label_hid2]), dtype=tf.float32)\n",
    "w63 = tf.Variable(tf.matmul(w62, tf.transpose(wl3)))"
   ]
  },
  {
   "cell_type": "code",
   "execution_count": 187,
   "metadata": {},
   "outputs": [],
   "source": [
    "inpt = img_layer7\n",
    "output = tf.matmul(inpt,w63)\n",
    "yval = lbl_layer2"
   ]
  },
  {
   "cell_type": "code",
   "execution_count": 188,
   "metadata": {},
   "outputs": [
    {
     "data": {
      "text/plain": [
       "<tf.Tensor 'transpose_7:0' shape=(2, 3) dtype=float32>"
      ]
     },
     "execution_count": 188,
     "metadata": {},
     "output_type": "execute_result"
    }
   ],
   "source": [
    "tf.transpose(wl3)"
   ]
  },
  {
   "cell_type": "markdown",
   "metadata": {},
   "source": [
    "## Create Encode-Decode Model"
   ]
  },
  {
   "cell_type": "code",
   "execution_count": 189,
   "metadata": {},
   "outputs": [],
   "source": [
    "# out_layer1 = tf.matmul(output,tf.transpose(wl4))\n",
    "# out_layer2 = tf.matmul(output,tf.transpose(wl3))\n",
    "out_layer3 = tf.matmul(output,tf.transpose(wl2))\n",
    "out_layer4 = tf.matmul(out_layer3,tf.transpose(wl1))"
   ]
  },
  {
   "cell_type": "code",
   "execution_count": 190,
   "metadata": {},
   "outputs": [],
   "source": [
    "# LOSS FUNCTIONS\n",
    "loss = tf.reduce_mean(tf.square(output - yval))\n",
    "# loss = tf.reduce_mean(tf.abs(output_layer - X))\n",
    "# cross_entropy = tf.reduce_mean(tf.nn.softmax_cross_entropy_with_logits(labels=Y,logits=yout))"
   ]
  },
  {
   "cell_type": "code",
   "execution_count": 191,
   "metadata": {},
   "outputs": [],
   "source": [
    "# TRAINING\n",
    "learning_rate = 0.0001\n",
    "optimizer = tf.train.AdamOptimizer(learning_rate)\n",
    "train = optimizer.minimize(loss, var_list=[w63])"
   ]
  },
  {
   "cell_type": "code",
   "execution_count": 192,
   "metadata": {},
   "outputs": [],
   "source": [
    "# PREPARATION\n",
    "init = tf.global_variables_initializer()\n",
    "saver = tf.train.Saver() "
   ]
  },
  {
   "cell_type": "code",
   "execution_count": 199,
   "metadata": {},
   "outputs": [
    {
     "name": "stdout",
     "output_type": "stream",
     "text": [
      "Epoch 0 Complete. Training Loss: 9.785619735717773\n",
      "TEST ACCURACY: \n",
      "0.2076\n",
      "\n",
      "Epoch 1 Complete. Training Loss: 9.626299858093262\n",
      "TEST ACCURACY: \n",
      "0.216\n",
      "\n",
      "Epoch 2 Complete. Training Loss: 9.500679969787598\n",
      "TEST ACCURACY: \n",
      "0.221\n",
      "\n",
      "Epoch 3 Complete. Training Loss: 9.575742721557617\n",
      "TEST ACCURACY: \n",
      "0.228\n",
      "\n",
      "Epoch 4 Complete. Training Loss: 9.3663911819458\n",
      "TEST ACCURACY: \n",
      "0.2338\n",
      "\n",
      "Epoch 5 Complete. Training Loss: 9.618182182312012\n",
      "TEST ACCURACY: \n",
      "0.2393\n",
      "\n",
      "Epoch 6 Complete. Training Loss: 9.282049179077148\n",
      "TEST ACCURACY: \n",
      "0.2416\n",
      "\n",
      "Epoch 7 Complete. Training Loss: 9.302321434020996\n",
      "TEST ACCURACY: \n",
      "0.2441\n",
      "\n",
      "Epoch 8 Complete. Training Loss: 9.29590129852295\n",
      "TEST ACCURACY: \n",
      "0.2479\n",
      "\n",
      "Epoch 9 Complete. Training Loss: 9.013239860534668\n",
      "TEST ACCURACY: \n",
      "0.2509\n",
      "\n",
      "Epoch 10 Complete. Training Loss: 9.256378173828125\n",
      "TEST ACCURACY: \n",
      "0.2542\n",
      "\n",
      "Epoch 11 Complete. Training Loss: 9.025491714477539\n",
      "TEST ACCURACY: \n",
      "0.2571\n",
      "\n",
      "Epoch 12 Complete. Training Loss: 9.259920120239258\n",
      "TEST ACCURACY: \n",
      "0.26\n",
      "\n",
      "Epoch 13 Complete. Training Loss: 8.875328063964844\n",
      "TEST ACCURACY: \n",
      "0.262\n",
      "\n",
      "Epoch 14 Complete. Training Loss: 9.043641090393066\n",
      "TEST ACCURACY: \n",
      "0.2646\n",
      "\n",
      "Epoch 15 Complete. Training Loss: 8.69278335571289\n",
      "TEST ACCURACY: \n",
      "0.2668\n",
      "\n",
      "Epoch 16 Complete. Training Loss: 9.098197937011719\n",
      "TEST ACCURACY: \n",
      "0.2687\n",
      "\n",
      "Epoch 17 Complete. Training Loss: 9.05332088470459\n",
      "TEST ACCURACY: \n",
      "0.2705\n",
      "\n",
      "Epoch 18 Complete. Training Loss: 8.788379669189453\n",
      "TEST ACCURACY: \n",
      "0.2728\n",
      "\n",
      "Epoch 19 Complete. Training Loss: 9.012492179870605\n",
      "TEST ACCURACY: \n",
      "0.275\n",
      "\n",
      "Epoch 20 Complete. Training Loss: 8.674059867858887\n",
      "TEST ACCURACY: \n",
      "0.2763\n",
      "\n",
      "Epoch 21 Complete. Training Loss: 8.826743125915527\n",
      "TEST ACCURACY: \n",
      "0.2779\n",
      "\n",
      "Epoch 22 Complete. Training Loss: 8.642440795898438\n",
      "TEST ACCURACY: \n",
      "0.2801\n",
      "\n",
      "Epoch 23 Complete. Training Loss: 8.607033729553223\n",
      "TEST ACCURACY: \n",
      "0.2803\n",
      "\n",
      "Epoch 24 Complete. Training Loss: 8.792996406555176\n",
      "TEST ACCURACY: \n",
      "0.2826\n",
      "\n",
      "Epoch 25 Complete. Training Loss: 8.620173454284668\n",
      "TEST ACCURACY: \n",
      "0.2837\n",
      "\n",
      "Epoch 26 Complete. Training Loss: 8.44558334350586\n",
      "TEST ACCURACY: \n",
      "0.2838\n",
      "\n",
      "Epoch 27 Complete. Training Loss: 8.847709655761719\n",
      "TEST ACCURACY: \n",
      "0.2839\n",
      "\n",
      "Epoch 28 Complete. Training Loss: 8.652788162231445\n",
      "TEST ACCURACY: \n",
      "0.2836\n",
      "\n",
      "Epoch 29 Complete. Training Loss: 8.446346282958984\n",
      "TEST ACCURACY: \n",
      "0.2848\n",
      "\n",
      "Epoch 30 Complete. Training Loss: 8.625086784362793\n",
      "TEST ACCURACY: \n",
      "0.2859\n",
      "\n",
      "Epoch 31 Complete. Training Loss: 8.66291618347168\n",
      "TEST ACCURACY: \n",
      "0.2868\n",
      "\n",
      "Epoch 32 Complete. Training Loss: 8.346948623657227\n",
      "TEST ACCURACY: \n",
      "0.2871\n",
      "\n",
      "Epoch 33 Complete. Training Loss: 8.548815727233887\n",
      "TEST ACCURACY: \n",
      "0.2874\n",
      "\n",
      "Epoch 34 Complete. Training Loss: 8.467506408691406\n",
      "TEST ACCURACY: \n",
      "0.2872\n",
      "\n",
      "Epoch 35 Complete. Training Loss: 8.48309326171875\n",
      "TEST ACCURACY: \n",
      "0.2879\n",
      "\n",
      "Epoch 36 Complete. Training Loss: 8.60208511352539\n",
      "TEST ACCURACY: \n",
      "0.2876\n",
      "\n",
      "Epoch 37 Complete. Training Loss: 8.426131248474121\n",
      "TEST ACCURACY: \n",
      "0.2881\n",
      "\n",
      "Epoch 38 Complete. Training Loss: 8.417035102844238\n",
      "TEST ACCURACY: \n",
      "0.2881\n",
      "\n",
      "Epoch 39 Complete. Training Loss: 8.364665031433105\n",
      "TEST ACCURACY: \n",
      "0.2889\n",
      "\n",
      "Epoch 40 Complete. Training Loss: 8.241061210632324\n",
      "TEST ACCURACY: \n",
      "0.2896\n",
      "\n",
      "Epoch 41 Complete. Training Loss: 8.410249710083008\n",
      "TEST ACCURACY: \n",
      "0.2902\n",
      "\n",
      "Epoch 42 Complete. Training Loss: 8.341960906982422\n",
      "TEST ACCURACY: \n",
      "0.2896\n",
      "\n",
      "Epoch 43 Complete. Training Loss: 8.114115715026855\n",
      "TEST ACCURACY: \n",
      "0.2902\n",
      "\n",
      "Epoch 44 Complete. Training Loss: 8.509384155273438\n",
      "TEST ACCURACY: \n",
      "0.2905\n",
      "\n",
      "Epoch 45 Complete. Training Loss: 8.108753204345703\n",
      "TEST ACCURACY: \n",
      "0.2901\n",
      "\n",
      "Epoch 46 Complete. Training Loss: 8.256109237670898\n",
      "TEST ACCURACY: \n",
      "0.2904\n",
      "\n",
      "Epoch 47 Complete. Training Loss: 8.116268157958984\n",
      "TEST ACCURACY: \n",
      "0.2913\n",
      "\n",
      "Epoch 48 Complete. Training Loss: 8.388115882873535\n",
      "TEST ACCURACY: \n",
      "0.2916\n",
      "\n",
      "Epoch 49 Complete. Training Loss: 8.045875549316406\n",
      "TEST ACCURACY: \n",
      "0.2926\n",
      "\n",
      "Epoch 50 Complete. Training Loss: 8.046671867370605\n",
      "TEST ACCURACY: \n",
      "0.2929\n",
      "\n",
      "Epoch 51 Complete. Training Loss: 8.093545913696289\n",
      "TEST ACCURACY: \n",
      "0.2927\n",
      "\n",
      "Epoch 52 Complete. Training Loss: 7.985939025878906\n",
      "TEST ACCURACY: \n",
      "0.294\n",
      "\n",
      "Epoch 53 Complete. Training Loss: 8.159167289733887\n",
      "TEST ACCURACY: \n",
      "0.2945\n",
      "\n",
      "Epoch 54 Complete. Training Loss: 8.368644714355469\n",
      "TEST ACCURACY: \n",
      "0.2954\n",
      "\n",
      "Epoch 55 Complete. Training Loss: 8.271249771118164\n",
      "TEST ACCURACY: \n",
      "0.2951\n",
      "\n",
      "Epoch 56 Complete. Training Loss: 8.185632705688477\n",
      "TEST ACCURACY: \n",
      "0.2951\n",
      "\n",
      "Epoch 57 Complete. Training Loss: 8.144598007202148\n",
      "TEST ACCURACY: \n",
      "0.2961\n",
      "\n",
      "Epoch 58 Complete. Training Loss: 7.8459367752075195\n",
      "TEST ACCURACY: \n",
      "0.2963\n",
      "\n",
      "Epoch 59 Complete. Training Loss: 8.047743797302246\n",
      "TEST ACCURACY: \n",
      "0.2964\n",
      "\n",
      "Epoch 60 Complete. Training Loss: 8.286316871643066\n",
      "TEST ACCURACY: \n",
      "0.2979\n",
      "\n",
      "Epoch 61 Complete. Training Loss: 7.989659309387207\n",
      "TEST ACCURACY: \n",
      "0.2976\n",
      "\n",
      "Epoch 62 Complete. Training Loss: 8.204998970031738\n",
      "TEST ACCURACY: \n",
      "0.2979\n",
      "\n",
      "Epoch 63 Complete. Training Loss: 8.054291725158691\n",
      "TEST ACCURACY: \n",
      "0.298\n",
      "\n",
      "Epoch 64 Complete. Training Loss: 7.887996196746826\n",
      "TEST ACCURACY: \n",
      "0.2989\n",
      "\n",
      "Epoch 65 Complete. Training Loss: 7.852589130401611\n",
      "TEST ACCURACY: \n",
      "0.2991\n",
      "\n",
      "Epoch 66 Complete. Training Loss: 7.9089508056640625\n",
      "TEST ACCURACY: \n",
      "0.2989\n",
      "\n",
      "Epoch 67 Complete. Training Loss: 7.7138543128967285\n",
      "TEST ACCURACY: \n",
      "0.2991\n",
      "\n",
      "Epoch 68 Complete. Training Loss: 7.812351226806641\n",
      "TEST ACCURACY: \n",
      "0.2993\n",
      "\n",
      "Epoch 69 Complete. Training Loss: 7.959208011627197\n",
      "TEST ACCURACY: \n",
      "0.3002\n",
      "\n",
      "Epoch 70 Complete. Training Loss: 7.864622592926025\n",
      "TEST ACCURACY: \n",
      "0.3002\n",
      "\n",
      "Epoch 71 Complete. Training Loss: 7.962758541107178\n",
      "TEST ACCURACY: \n",
      "0.3005\n",
      "\n",
      "Epoch 72 Complete. Training Loss: 7.889674663543701\n",
      "TEST ACCURACY: \n",
      "0.3\n",
      "\n",
      "Epoch 73 Complete. Training Loss: 7.794403076171875\n",
      "TEST ACCURACY: \n",
      "0.3006\n",
      "\n",
      "Epoch 74 Complete. Training Loss: 7.835182189941406\n",
      "TEST ACCURACY: \n",
      "0.3001\n",
      "\n",
      "Epoch 75 Complete. Training Loss: 7.990370750427246\n",
      "TEST ACCURACY: \n",
      "0.3005\n",
      "\n",
      "Epoch 76 Complete. Training Loss: 7.9678826332092285\n",
      "TEST ACCURACY: \n",
      "0.299\n",
      "\n",
      "Epoch 77 Complete. Training Loss: 7.762421131134033\n",
      "TEST ACCURACY: \n",
      "0.2992\n",
      "\n",
      "Epoch 78 Complete. Training Loss: 7.948176383972168\n",
      "TEST ACCURACY: \n",
      "0.2989\n",
      "\n",
      "Epoch 79 Complete. Training Loss: 7.812866687774658\n",
      "TEST ACCURACY: \n",
      "0.2991\n",
      "\n",
      "Epoch 80 Complete. Training Loss: 7.880372047424316\n",
      "TEST ACCURACY: \n",
      "0.2995\n",
      "\n",
      "Epoch 81 Complete. Training Loss: 7.761973857879639\n",
      "TEST ACCURACY: \n",
      "0.2995\n",
      "\n",
      "Epoch 82 Complete. Training Loss: 7.682540416717529\n",
      "TEST ACCURACY: \n",
      "0.2998\n",
      "\n",
      "Epoch 83 Complete. Training Loss: 7.834423065185547\n",
      "TEST ACCURACY: \n",
      "0.3\n",
      "\n",
      "Epoch 84 Complete. Training Loss: 7.782350540161133\n",
      "TEST ACCURACY: \n",
      "0.2993\n",
      "\n",
      "Epoch 85 Complete. Training Loss: 8.008880615234375\n",
      "TEST ACCURACY: \n",
      "0.299\n",
      "\n",
      "Epoch 86 Complete. Training Loss: 7.796498775482178\n",
      "TEST ACCURACY: \n",
      "0.3001\n",
      "\n",
      "Epoch 87 Complete. Training Loss: 7.616423606872559\n",
      "TEST ACCURACY: \n",
      "0.3003\n",
      "\n",
      "Epoch 88 Complete. Training Loss: 7.752604961395264\n",
      "TEST ACCURACY: Keyboard Interrupted\n",
      "Finished Training the Model\n"
     ]
    }
   ],
   "source": [
    "num_epochs = 100\n",
    "batch_size = 950\n",
    "\n",
    "try:\n",
    "    with tf.Session() as sess:\n",
    "        sess.run(init)\n",
    "\n",
    "        # Epoch == Entire Training Set\n",
    "        for epoch in range(num_epochs):\n",
    "            num_batches = mnist.train.num_examples // batch_size\n",
    "\n",
    "            # 150 batch size\n",
    "            for iteration in range(num_batches):\n",
    "                X_batch, y_batch = mnist.train.next_batch(batch_size)\n",
    "                sess.run(train, feed_dict={X: X_batch, Y: y_batch})\n",
    "\n",
    "            training_loss = loss.eval(feed_dict={X: X_batch, Y: y_batch})   \n",
    "            print(\"Epoch {} Complete. Training Loss: {}\".format(epoch,training_loss))\n",
    "            saver.save(sess, \"../save/neuro_6-3.ckpt\")\n",
    "            \n",
    "            matches = tf.equal(tf.argmax(out_layer4, 1), tf.argmax(Y,1))\n",
    "            acc = tf.reduce_mean(tf.cast(matches, tf.float32))\n",
    "\n",
    "            print('TEST ACCURACY: ')\n",
    "            print (sess.run(acc, feed_dict={X:mnist.test.images, Y:mnist.test.labels}))\n",
    "            print()\n",
    "    \n",
    "except KeyboardInterrupt:\n",
    "    print('Keyboard Interrupted')\n",
    "finally:\n",
    "    print('Finished Training the Model')"
   ]
  },
  {
   "cell_type": "code",
   "execution_count": 202,
   "metadata": {},
   "outputs": [
    {
     "name": "stdout",
     "output_type": "stream",
     "text": [
      "INFO:tensorflow:Restoring parameters from ../save/neuro_6-3.ckpt\n",
      "TRAIN ACCURACY: \n",
      "0.2897818\n",
      "TEST ACCURACY: \n",
      "0.3015\n",
      "\n",
      "\n"
     ]
    }
   ],
   "source": [
    "num_test_labels = 10\n",
    "start_point = 15\n",
    "with tf.Session() as sess:\n",
    "#     sess.run(init)\n",
    "    saver.restore(sess,\"../save/neuro_6-3.ckpt\")\n",
    "    \n",
    "    weight= w63.eval()\n",
    "    \n",
    "    matches = tf.equal(tf.argmax(out_layer4, 1), tf.argmax(Y,1))\n",
    "    acc = tf.reduce_mean(tf.cast(matches, tf.float32))\n",
    "    \n",
    "    print('TRAIN ACCURACY: ')\n",
    "    print (sess.run(acc, feed_dict={X:mnist.train.images, Y:mnist.train.labels}))\n",
    "\n",
    "    print('TEST ACCURACY: ')\n",
    "    print (sess.run(acc, feed_dict={X:mnist.test.images, Y:mnist.test.labels}))\n",
    "    print('\\n')"
   ]
  },
  {
   "cell_type": "code",
   "execution_count": 203,
   "metadata": {},
   "outputs": [
    {
     "data": {
      "text/plain": [
       "'\\ntraining from previous\\n\\nTRAIN ACCURACY: \\n0.2897818\\nTEST ACCURACY: \\n0.3015\\n\\ntraining individually\\n\\nTRAIN ACCURACY: \\n0.28234544\\nTEST ACCURACY: \\n0.2928\\n\\n\\nwithout training\\n\\nTRAIN ACCURACY: \\n0.1942909\\nTEST ACCURACY: \\n0.201\\n'"
      ]
     },
     "execution_count": 203,
     "metadata": {},
     "output_type": "execute_result"
    }
   ],
   "source": [
    "'''\n",
    "training from previous\n",
    "\n",
    "TRAIN ACCURACY: \n",
    "0.2897818\n",
    "TEST ACCURACY: \n",
    "0.3015\n",
    "\n",
    "training individually\n",
    "\n",
    "TRAIN ACCURACY: \n",
    "0.28234544\n",
    "TEST ACCURACY: \n",
    "0.2928\n",
    "\n",
    "\n",
    "without training\n",
    "\n",
    "TRAIN ACCURACY: \n",
    "0.1942909\n",
    "TEST ACCURACY: \n",
    "0.201\n",
    "'''"
   ]
  },
  {
   "cell_type": "code",
   "execution_count": 204,
   "metadata": {},
   "outputs": [
    {
     "data": {
      "text/plain": [
       "array([[-0.49467096,  0.00711154, -0.05962576],\n",
       "       [ 0.02446536, -0.09640595,  0.00109969],\n",
       "       [ 0.06061416, -0.67002356,  0.14892067],\n",
       "       [-0.80082935, -0.28167418, -0.6794569 ],\n",
       "       [ 0.23381503, -0.595274  ,  0.17571352],\n",
       "       [-0.18492433,  0.04384812, -0.24284588]], dtype=float32)"
      ]
     },
     "execution_count": 204,
     "metadata": {},
     "output_type": "execute_result"
    }
   ],
   "source": [
    "weight"
   ]
  },
  {
   "cell_type": "code",
   "execution_count": 205,
   "metadata": {},
   "outputs": [
    {
     "name": "stdout",
     "output_type": "stream",
     "text": [
      "[[-0.08728178  0.08770096 -0.06964457]\n",
      " [-0.14929977  0.1660394  -0.1005696 ]\n",
      " [ 0.34475893 -0.3366989   0.2863478 ]\n",
      " [-0.5960531   0.04331887 -1.1192211 ]\n",
      " [-0.02069826 -0.19160683 -0.26256895]\n",
      " [-0.2285434   0.01580529 -0.43007237]]\n"
     ]
    }
   ],
   "source": [
    "with tf.Session() as sess:\n",
    "    sess.run(init)\n",
    "    print(w63.eval())"
   ]
  },
  {
   "cell_type": "code",
   "execution_count": 206,
   "metadata": {},
   "outputs": [
    {
     "name": "stdout",
     "output_type": "stream",
     "text": [
      "(6, 3)\n"
     ]
    }
   ],
   "source": [
    "print(weight.shape)\n",
    "np.save('../save/weights/ngw6-3.npy',weight)"
   ]
  },
  {
   "cell_type": "code",
   "execution_count": null,
   "metadata": {},
   "outputs": [],
   "source": []
  }
 ],
 "metadata": {
  "kernelspec": {
   "display_name": "Python 3",
   "language": "python",
   "name": "python3"
  },
  "language_info": {
   "codemirror_mode": {
    "name": "ipython",
    "version": 3
   },
   "file_extension": ".py",
   "mimetype": "text/x-python",
   "name": "python",
   "nbconvert_exporter": "python",
   "pygments_lexer": "ipython3",
   "version": "3.5.3"
  }
 },
 "nbformat": 4,
 "nbformat_minor": 2
}
