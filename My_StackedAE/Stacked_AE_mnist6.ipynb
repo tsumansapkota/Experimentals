{
 "cells": [
  {
   "cell_type": "code",
   "execution_count": 1,
   "metadata": {},
   "outputs": [
    {
     "name": "stderr",
     "output_type": "stream",
     "text": [
      "c:\\users\\heythere\\appdata\\local\\programs\\python\\python35\\lib\\site-packages\\h5py\\__init__.py:36: FutureWarning: Conversion of the second argument of issubdtype from `float` to `np.floating` is deprecated. In future, it will be treated as `np.float64 == np.dtype(float).type`.\n",
      "  from ._conv import register_converters as _register_converters\n"
     ]
    }
   ],
   "source": [
    "import numpy as np\n",
    "import tensorflow as tf\n",
    "import matplotlib.pyplot as plt\n",
    "%matplotlib inline"
   ]
  },
  {
   "cell_type": "code",
   "execution_count": 2,
   "metadata": {},
   "outputs": [],
   "source": [
    "from tensorflow.examples.tutorials.mnist import input_data"
   ]
  },
  {
   "cell_type": "code",
   "execution_count": 3,
   "metadata": {},
   "outputs": [
    {
     "name": "stdout",
     "output_type": "stream",
     "text": [
      "WARNING:tensorflow:From <ipython-input-3-188b088e0975>:1: read_data_sets (from tensorflow.contrib.learn.python.learn.datasets.mnist) is deprecated and will be removed in a future version.\n",
      "Instructions for updating:\n",
      "Please use alternatives such as official/mnist/dataset.py from tensorflow/models.\n",
      "WARNING:tensorflow:From c:\\users\\heythere\\appdata\\local\\programs\\python\\python35\\lib\\site-packages\\tensorflow\\contrib\\learn\\python\\learn\\datasets\\mnist.py:260: maybe_download (from tensorflow.contrib.learn.python.learn.datasets.base) is deprecated and will be removed in a future version.\n",
      "Instructions for updating:\n",
      "Please write your own downloading logic.\n",
      "WARNING:tensorflow:From c:\\users\\heythere\\appdata\\local\\programs\\python\\python35\\lib\\site-packages\\tensorflow\\contrib\\learn\\python\\learn\\datasets\\mnist.py:262: extract_images (from tensorflow.contrib.learn.python.learn.datasets.mnist) is deprecated and will be removed in a future version.\n",
      "Instructions for updating:\n",
      "Please use tf.data to implement this functionality.\n",
      "Extracting ../03-Convolutional-Neural-Networks/MNIST_data/train-images-idx3-ubyte.gz\n",
      "WARNING:tensorflow:From c:\\users\\heythere\\appdata\\local\\programs\\python\\python35\\lib\\site-packages\\tensorflow\\contrib\\learn\\python\\learn\\datasets\\mnist.py:267: extract_labels (from tensorflow.contrib.learn.python.learn.datasets.mnist) is deprecated and will be removed in a future version.\n",
      "Instructions for updating:\n",
      "Please use tf.data to implement this functionality.\n",
      "Extracting ../03-Convolutional-Neural-Networks/MNIST_data/train-labels-idx1-ubyte.gz\n",
      "WARNING:tensorflow:From c:\\users\\heythere\\appdata\\local\\programs\\python\\python35\\lib\\site-packages\\tensorflow\\contrib\\learn\\python\\learn\\datasets\\mnist.py:110: dense_to_one_hot (from tensorflow.contrib.learn.python.learn.datasets.mnist) is deprecated and will be removed in a future version.\n",
      "Instructions for updating:\n",
      "Please use tf.one_hot on tensors.\n",
      "Extracting ../03-Convolutional-Neural-Networks/MNIST_data/t10k-images-idx3-ubyte.gz\n",
      "Extracting ../03-Convolutional-Neural-Networks/MNIST_data/t10k-labels-idx1-ubyte.gz\n",
      "WARNING:tensorflow:From c:\\users\\heythere\\appdata\\local\\programs\\python\\python35\\lib\\site-packages\\tensorflow\\contrib\\learn\\python\\learn\\datasets\\mnist.py:290: DataSet.__init__ (from tensorflow.contrib.learn.python.learn.datasets.mnist) is deprecated and will be removed in a future version.\n",
      "Instructions for updating:\n",
      "Please use alternatives such as official/mnist/dataset.py from tensorflow/models.\n"
     ]
    }
   ],
   "source": [
    "mnist = input_data.read_data_sets(\"../03-Convolutional-Neural-Networks/MNIST_data/\",one_hot=True)"
   ]
  },
  {
   "cell_type": "code",
   "execution_count": 4,
   "metadata": {},
   "outputs": [],
   "source": [
    "tf.reset_default_graph() "
   ]
  },
  {
   "cell_type": "code",
   "execution_count": 31,
   "metadata": {},
   "outputs": [],
   "source": [
    "# DEFINE parameters\n",
    "num_inputs = 784 # 28*28\n",
    "neurons_hid1 = 392\n",
    "neurons_hid2 = 196\n",
    "neurons_hid3 = 98\n",
    "neurons_hid4 = 49\n",
    "neurons_hid5 = 25\n",
    "neurons_hid6 = 12\n",
    "neurons_hid7 = 6\n",
    "neurons_hid8 = 3\n",
    "neurons_hid9 = 2\n",
    "neurons_hid10 = 1\n",
    "\n",
    "learning_rate = 0.00003"
   ]
  },
  {
   "cell_type": "code",
   "execution_count": 32,
   "metadata": {},
   "outputs": [],
   "source": [
    "# PINV(PSEUDO-INVERSE) function\n",
    "def pinv(a, rcond=1e-15):\n",
    "    s, u, v = tf.svd(a)\n",
    "    # Ignore singular values close to zero to prevent numerical overflow\n",
    "    limit = rcond * tf.reduce_max(s)\n",
    "    non_zero = tf.greater(s, limit)\n",
    "\n",
    "    reciprocal = tf.where(non_zero, tf.reciprocal(s), tf.zeros(s.shape))\n",
    "    lhs = tf.matmul(v, tf.diag(reciprocal))\n",
    "    return tf.matmul(lhs, u, transpose_b=True)"
   ]
  },
  {
   "cell_type": "code",
   "execution_count": 33,
   "metadata": {},
   "outputs": [],
   "source": [
    "# TRANSPOSE OR PINV\n",
    "tie_weight = tf.transpose #pinv"
   ]
  },
  {
   "cell_type": "code",
   "execution_count": 34,
   "metadata": {},
   "outputs": [],
   "source": [
    "## PLACEHOLDER DEFINATION\n",
    "X = tf.placeholder(tf.float32, shape=[None, num_inputs], name='Input')"
   ]
  },
  {
   "cell_type": "code",
   "execution_count": 35,
   "metadata": {},
   "outputs": [],
   "source": [
    "## WEIGHTS DEFINATION\n",
    "initializer = tf.variance_scaling_initializer()\n",
    "\n",
    "# w1 = tf.Variable(initializer([num_inputs, neurons_hid1]), dtype=tf.float32)\n",
    "w1 = tf.Variable(np.load('./save/weights/w1.npy'), name='w1')\n",
    "w1_ = tie_weight(w1)\n",
    "\n",
    "w2 = tf.Variable(np.load('./save/weights/w2.npy'), name='w2')\n",
    "w2_ = tie_weight(w2)\n",
    "\n",
    "w3 = tf.Variable(np.load('./save/weights/w3.npy'), name='w3')\n",
    "w3_ = tie_weight(w3)\n",
    "\n",
    "w4 = tf.Variable(np.load('./save/weights/w4.npy'), name='w4')\n",
    "w4_ = tie_weight(w4)\n",
    "\n",
    "w5 = tf.Variable(np.load('./save/weights/w5.npy'), name='w5')\n",
    "w5_ = tie_weight(w5)\n",
    "\n",
    "w6 = tf.Variable(initializer([neurons_hid5, neurons_hid6]), dtype=tf.float32, name='w6')\n",
    "# w6 = tf.Variable(tf.random_normal([neurons_hid5, neurons_hid6]), dtype=tf.float32)\n",
    "w6_ = tie_weight(w6)"
   ]
  },
  {
   "cell_type": "code",
   "execution_count": 36,
   "metadata": {},
   "outputs": [],
   "source": [
    "# ACTIVATION FUNCTION  [ lambda X:X  <OR>  tf.nn.relu  ]\n",
    "act_func = lambda X:X #tf.nn.relu"
   ]
  },
  {
   "cell_type": "code",
   "execution_count": 37,
   "metadata": {},
   "outputs": [],
   "source": [
    "# LAYER MODELING OF :NN\n",
    "hid_layer1 = act_func(tf.matmul(X, w1))\n",
    "hid_layer2 = act_func(tf.matmul(hid_layer1, w2))\n",
    "hid_layer3 = act_func(tf.matmul(hid_layer2, w3))\n",
    "hid_layer4 = act_func(tf.matmul(hid_layer3, w4))\n",
    "hid_layer5 = act_func(tf.matmul(hid_layer4, w5))\n",
    "\n",
    "hid_layer6 = act_func(tf.matmul(hid_layer5, w6))\n",
    "\n",
    "hid_layer5_ = act_func(tf.matmul(hid_layer6, w6_))\n",
    "hid_layer4_ = act_func(tf.matmul(hid_layer5_, w5_))\n",
    "hid_layer3_ = act_func(tf.matmul(hid_layer4_, w4_))\n",
    "hid_layer2_ = act_func(tf.matmul(hid_layer3_, w3_))\n",
    "hid_layer1_ = act_func(tf.matmul(hid_layer2_,w2_))\n",
    "\n",
    "output_layer = tf.matmul(hid_layer1_, w1_)"
   ]
  },
  {
   "cell_type": "code",
   "execution_count": 38,
   "metadata": {},
   "outputs": [],
   "source": [
    "# LOSS FUNCTIONS\n",
    "loss = tf.reduce_mean(tf.square(output_layer - X))\n",
    "# loss = tf.reduce_mean(tf.abs(output_layer - X))\n",
    "# cross_entropy = tf.reduce_mean(tf.nn.softmax_cross_entropy_with_logits(labels=Y,logits=yout))"
   ]
  },
  {
   "cell_type": "code",
   "execution_count": 39,
   "metadata": {},
   "outputs": [],
   "source": [
    "# TRAINING\n",
    "optimizer = tf.train.AdamOptimizer(learning_rate)\n",
    "train = optimizer.minimize(loss, var_list=[w6])"
   ]
  },
  {
   "cell_type": "code",
   "execution_count": 40,
   "metadata": {},
   "outputs": [],
   "source": [
    "# PREPARATION\n",
    "init = tf.global_variables_initializer()\n",
    "saver = tf.train.Saver() "
   ]
  },
  {
   "cell_type": "code",
   "execution_count": 41,
   "metadata": {},
   "outputs": [
    {
     "name": "stdout",
     "output_type": "stream",
     "text": [
      "Epoch 0 Complete. Training Loss: 0.07817573100328445\n",
      "Epoch 1 Complete. Training Loss: 0.06629449874162674\n",
      "Epoch 2 Complete. Training Loss: 0.05923726037144661\n",
      "Epoch 3 Complete. Training Loss: 0.056846849620342255\n",
      "Epoch 4 Complete. Training Loss: 0.05217885226011276\n",
      "Epoch 5 Complete. Training Loss: 0.05085437744855881\n",
      "Epoch 6 Complete. Training Loss: 0.047362882643938065\n",
      "Epoch 7 Complete. Training Loss: 0.045945871621370316\n",
      "Epoch 8 Complete. Training Loss: 0.04651407152414322\n",
      "Epoch 9 Complete. Training Loss: 0.04239897057414055\n",
      "Epoch 10 Complete. Training Loss: 0.04360341653227806\n",
      "Epoch 11 Complete. Training Loss: 0.04209251329302788\n",
      "Epoch 12 Complete. Training Loss: 0.04279381036758423\n",
      "Epoch 13 Complete. Training Loss: 0.040832437574863434\n",
      "Epoch 14 Complete. Training Loss: 0.04147791489958763\n",
      "Epoch 15 Complete. Training Loss: 0.03795814514160156\n",
      "Epoch 16 Complete. Training Loss: 0.03869856521487236\n",
      "Epoch 17 Complete. Training Loss: 0.03792550042271614\n",
      "Epoch 18 Complete. Training Loss: 0.03827671706676483\n",
      "Epoch 19 Complete. Training Loss: 0.036057233810424805\n",
      "Epoch 20 Complete. Training Loss: 0.03622668236494064\n",
      "Epoch 21 Complete. Training Loss: 0.03517935797572136\n",
      "Epoch 22 Complete. Training Loss: 0.03704927861690521\n",
      "Epoch 23 Complete. Training Loss: 0.03711654618382454\n",
      "Epoch 24 Complete. Training Loss: 0.03688466548919678\n",
      "Epoch 25 Complete. Training Loss: 0.03484342619776726\n",
      "Epoch 26 Complete. Training Loss: 0.035979919135570526\n",
      "Epoch 27 Complete. Training Loss: 0.03470846638083458\n",
      "Epoch 28 Complete. Training Loss: 0.03275182843208313\n",
      "Epoch 29 Complete. Training Loss: 0.03566548228263855\n",
      "Epoch 30 Complete. Training Loss: 0.03431294485926628\n",
      "Epoch 31 Complete. Training Loss: 0.03555649146437645\n",
      "Epoch 32 Complete. Training Loss: 0.03420537710189819\n",
      "Epoch 33 Complete. Training Loss: 0.03478806093335152\n",
      "Epoch 34 Complete. Training Loss: 0.034378983080387115\n",
      "Epoch 35 Complete. Training Loss: 0.03520659729838371\n",
      "Epoch 36 Complete. Training Loss: 0.03350069001317024\n",
      "Epoch 37 Complete. Training Loss: 0.03524050861597061\n",
      "Epoch 38 Complete. Training Loss: 0.03300265595316887\n",
      "Epoch 39 Complete. Training Loss: 0.035186395049095154\n",
      "Epoch 40 Complete. Training Loss: 0.03368109092116356\n",
      "Epoch 41 Complete. Training Loss: 0.032367512583732605\n",
      "Keyboard Interrupted\n",
      "Finished Training the Model\n"
     ]
    }
   ],
   "source": [
    "num_epochs = 100\n",
    "batch_size = 150\n",
    "\n",
    "try:\n",
    "    with tf.Session() as sess:\n",
    "        sess.run(init)\n",
    "\n",
    "        # Epoch == Entire Training Set\n",
    "        for epoch in range(num_epochs):\n",
    "            num_batches = mnist.train.num_examples // batch_size\n",
    "\n",
    "            # 150 batch size\n",
    "            for iteration in range(num_batches):\n",
    "                X_batch, y_batch = mnist.train.next_batch(batch_size)\n",
    "                sess.run(train, feed_dict={X: X_batch})\n",
    "\n",
    "            training_loss = loss.eval(feed_dict={X: X_batch})   \n",
    "            print(\"Epoch {} Complete. Training Loss: {}\".format(epoch,training_loss))\n",
    "            saver.save(sess, \"./save/ae_6_12.ckpt\")      \n",
    "except KeyboardInterrupt:\n",
    "    print('Keyboard Interrupted')\n",
    "finally:\n",
    "    print('Finished Training the Model')"
   ]
  },
  {
   "cell_type": "code",
   "execution_count": 42,
   "metadata": {},
   "outputs": [
    {
     "name": "stdout",
     "output_type": "stream",
     "text": [
      "INFO:tensorflow:Restoring parameters from ./save/ae_6_12.ckpt\n"
     ]
    }
   ],
   "source": [
    "num_test_images = 10\n",
    "start_point = 15\n",
    "with tf.Session() as sess:\n",
    "    \n",
    "    saver.restore(sess,\"./save/ae_6_12.ckpt\")\n",
    "    \n",
    "    results,compressed = sess.run([output_layer, hid_layer1],\n",
    "                                  feed_dict={X:mnist.test.images[start_point:num_test_images+start_point]})\n",
    "    weight6 = w6.eval()"
   ]
  },
  {
   "cell_type": "code",
   "execution_count": 43,
   "metadata": {},
   "outputs": [
    {
     "data": {
      "image/png": "[encoded data removed]",
      "text/plain": [
       "<matplotlib.figure.Figure at 0x2241c66b588>"
      ]
     },
     "metadata": {},
     "output_type": "display_data"
    }
   ],
   "source": [
    "# ORIGINAL VS RECONSTRUCTED\n",
    "f, a = plt.subplots(2, num_test_images, figsize=(20, 4))\n",
    "for i in range(start_point,num_test_images+start_point):\n",
    "    j = i-start_point\n",
    "    a[0][j].imshow(np.reshape(mnist.test.images[i], (28, 28)))\n",
    "    a[1][j].imshow(np.reshape(results[j], (28, 28)))"
   ]
  },
  {
   "cell_type": "code",
   "execution_count": 44,
   "metadata": {},
   "outputs": [
    {
     "name": "stdout",
     "output_type": "stream",
     "text": [
      "(25, 12)\n"
     ]
    }
   ],
   "source": [
    "print(weight6.shape)\n",
    "np.save('./save/weights/w6.npy',weight6)\n",
    "#wt1 = np.load('./save/weights/w1.npy')"
   ]
  },
  {
   "cell_type": "code",
   "execution_count": null,
   "metadata": {},
   "outputs": [],
   "source": []
  }
 ],
 "metadata": {
  "kernelspec": {
   "display_name": "Python 3",
   "language": "python",
   "name": "python3"
  },
  "language_info": {
   "codemirror_mode": {
    "name": "ipython",
    "version": 3
   },
   "file_extension": ".py",
   "mimetype": "text/x-python",
   "name": "python",
   "nbconvert_exporter": "python",
   "pygments_lexer": "ipython3",
   "version": "3.5.3"
  }
 },
 "nbformat": 4,
 "nbformat_minor": 2
}
