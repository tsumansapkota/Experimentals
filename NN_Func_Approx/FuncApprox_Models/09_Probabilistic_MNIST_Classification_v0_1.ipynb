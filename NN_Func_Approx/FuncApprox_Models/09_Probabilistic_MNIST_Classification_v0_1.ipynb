{
 "cells": [
  {
   "cell_type": "code",
   "execution_count": 5,
   "metadata": {},
   "outputs": [],
   "source": [
    "import numpy as np\n",
    "import matplotlib.pyplot as plt\n",
    "import torch\n",
    "import torch.nn as nn\n",
    "import torch.nn.functional as F\n",
    "\n",
    "import torch.utils.data.dataloader as dataloader\n",
    "from torch.utils.data import TensorDataset\n",
    "from torch.autograd import Variable\n",
    "from torchvision import transforms\n",
    "from torchvision.datasets import MNIST\n",
    "%matplotlib inline"
   ]
  },
  {
   "cell_type": "code",
   "execution_count": 6,
   "metadata": {},
   "outputs": [],
   "source": [
    "train = MNIST('../../DATASETS/MNIST_pytorch/', train=True, transform=transforms.Compose([\n",
    "    transforms.ToTensor(), # ToTensor does min-max normalization. \n",
    "    ]),\n",
    "#              download=True,\n",
    "             )\n",
    "\n",
    "test = MNIST('../../DATASETS/MNIST_pytorch/', train=False, transform=transforms.ToTensor(),\n",
    "#             download=True,\n",
    "            )\n",
    "\n",
    "# Create DataLoader\n",
    "dataloader_args = dict(shuffle=True, batch_size=64)\n",
    "train_loader = dataloader.DataLoader(train, **dataloader_args)\n",
    "test_loader = dataloader.DataLoader(test, **dataloader_args)"
   ]
  },
  {
   "cell_type": "code",
   "execution_count": 7,
   "metadata": {},
   "outputs": [
    {
     "name": "stdout",
     "output_type": "stream",
     "text": [
      "[Train]\n",
      " - Numpy Shape: (60000, 28, 28)\n",
      " - Tensor Shape: torch.Size([60000, 28, 28])\n",
      " - Transformed Shape: torch.Size([28, 60000, 28])\n",
      " - min: tensor(0.)\n",
      " - max: tensor(1.)\n",
      " - mean: tensor(0.1306)\n",
      " - std: tensor(0.3081)\n",
      " - var: tensor(0.0949)\n"
     ]
    }
   ],
   "source": [
    "train_data = train.data\n",
    "train_data = train.transform(train_data.numpy())\n",
    "\n",
    "print('[Train]')\n",
    "print(' - Numpy Shape:', train.data.cpu().numpy().shape)\n",
    "print(' - Tensor Shape:', train.data.size())\n",
    "print(' - Transformed Shape:', train_data.size())\n",
    "print(' - min:', torch.min(train_data))\n",
    "print(' - max:', torch.max(train_data))\n",
    "print(' - mean:', torch.mean(train_data))\n",
    "print(' - std:', torch.std(train_data))\n",
    "print(' - var:', torch.var(train_data))"
   ]
  },
  {
   "cell_type": "code",
   "execution_count": 8,
   "metadata": {},
   "outputs": [
    {
     "name": "stdout",
     "output_type": "stream",
     "text": [
      "[Test]\n",
      " - Numpy Shape: (10000, 28, 28)\n",
      " - Tensor Shape: torch.Size([10000, 28, 28])\n",
      " - Transformed Shape: torch.Size([28, 10000, 28])\n",
      " - min: tensor(0.)\n",
      " - max: tensor(1.)\n",
      " - mean: tensor(0.1325)\n",
      " - std: tensor(0.3105)\n",
      " - var: tensor(0.0964)\n"
     ]
    }
   ],
   "source": [
    "test_data = test.data\n",
    "test_data = train.transform(test_data.numpy())\n",
    "\n",
    "print('[Test]')\n",
    "print(' - Numpy Shape:', test.data.numpy().shape)\n",
    "print(' - Tensor Shape:', test.data.size())\n",
    "print(' - Transformed Shape:', test_data.size())\n",
    "print(' - min:', torch.min(test_data))\n",
    "print(' - max:', torch.max(test_data))\n",
    "print(' - mean:', torch.mean(test_data))\n",
    "print(' - std:', torch.std(test_data))\n",
    "print(' - var:', torch.var(test_data))"
   ]
  },
  {
   "cell_type": "code",
   "execution_count": 38,
   "metadata": {},
   "outputs": [],
   "source": [
    "## creating a probabilistic layer module\n",
    "class ProbLayer(nn.Module):\n",
    "    def __init__(self, in_features, out_features, n_probs=2, activation=None):\n",
    "        super().__init__()\n",
    "        self.in_features = in_features\n",
    "        self.out_features = out_features\n",
    "        self.n_probs = n_probs\n",
    "        \n",
    "        self.fcp = nn.Linear(in_features, n_probs*out_features)\n",
    "#         self.fcr = nn.Sequential(nn.Linear(in_features, n_probs*out_features),\n",
    "#                                  nn.ReLU())\n",
    "        self.fcr = nn.Linear(in_features, n_probs*out_features)\n",
    "        if activation is None:\n",
    "            self.actf = lambda x:torch.exp(- x**2)\n",
    "        else:\n",
    "            self.actf = activation\n",
    "        \n",
    "    def forward(self,x):\n",
    "        p = self.actf(self.fcp(x))\n",
    "        r = self.fcr(x)\n",
    "        \n",
    "        out = (p*r).reshape(-1,self.out_features, self.n_probs)\n",
    "        out = out.sum(dim=-1)\n",
    "        return out"
   ]
  },
  {
   "cell_type": "code",
   "execution_count": 62,
   "metadata": {},
   "outputs": [],
   "source": [
    "class Model(nn.Module):\n",
    "    def __init__(self):\n",
    "        super(Model, self).__init__()\n",
    "        \n",
    "        self.pl1 = ProbLayer(784, 10, 5, activation=nn.Tanh())\n",
    "#         self.pl1 = nn.Linear(784, 10)\n",
    "#         self.relu = nn.ReLU(inplace=True)\n",
    "#         self.fc2 = nn.Linear(10, 10)\n",
    "        self.softmax = nn.LogSoftmax(dim=1)\n",
    "        \n",
    "        \n",
    "    def forward(self, x):\n",
    "        x = x.view((-1, 784))\n",
    "        h = self.pl1(x)\n",
    "#         h = F.relu(h)        \n",
    "#         h = self.fc2(h)\n",
    "        out = self.softmax(h)\n",
    "        return out\n",
    "    \n",
    "class Model1(nn.Module):\n",
    "    def __init__(self):\n",
    "        super(Model1, self).__init__()\n",
    "        \n",
    "        self.fc1 = nn.Linear(784, 10)\n",
    "        self.relu = nn.ReLU(inplace=True)\n",
    "        self.fc2 = nn.Linear(10, 10)\n",
    "        self.softmax = nn.LogSoftmax(dim=1)\n",
    "        \n",
    "        \n",
    "    def forward(self, x):\n",
    "        x = x.view((-1, 784))\n",
    "        h = self.fc1(x)\n",
    "        h = F.relu(h)        \n",
    "        h = self.fc2(h)\n",
    "        out = self.softmax(h)\n",
    "        return out\n",
    "    \n",
    "model = Model()\n",
    "optimizer = torch.optim.Adam(model.parameters(), lr=0.0001)\n",
    "criterion = nn.CrossEntropyLoss()"
   ]
  },
  {
   "cell_type": "code",
   "execution_count": 63,
   "metadata": {},
   "outputs": [
    {
     "name": "stdout",
     "output_type": "stream",
     "text": [
      " Train Epoch: 0 [60000/60000 (100%)]\tLoss: 0.515496\tAccuracy: 0.8781\n",
      " Train Epoch: 1 [60000/60000 (100%)]\tLoss: 0.173548\tAccuracy: 0.8999\n",
      " Train Epoch: 2 [60000/60000 (100%)]\tLoss: 0.617321\tAccuracy: 0.8973\n",
      " Train Epoch: 3 [60000/60000 (100%)]\tLoss: 0.251730\tAccuracy: 0.9029\n",
      " Train Epoch: 4 [60000/60000 (100%)]\tLoss: 0.035273\tAccuracy: 0.9033\n"
     ]
    }
   ],
   "source": [
    "# model.train()\n",
    "evaluate_x = Variable(test_loader.dataset.data.type_as(torch.FloatTensor()))\n",
    "evaluate_y = Variable(test_loader.dataset.targets)\n",
    "\n",
    "losses = []\n",
    "for epoch in range(5):\n",
    "    data_count = 0\n",
    "    for batch_idx, (data, target) in enumerate(train_loader):\n",
    "        # Init\n",
    "        optimizer.zero_grad()\n",
    "\n",
    "        # Predict\n",
    "        y_pred = model(data) \n",
    "\n",
    "        # Calculate loss\n",
    "        loss = criterion(y_pred, target)\n",
    "        losses.append(loss.data)\n",
    "        \n",
    "        # Backpropagation\n",
    "        loss.backward()\n",
    "        optimizer.step()\n",
    "        \n",
    "        \n",
    "        # Display\n",
    "        data_count += len(data)\n",
    "        if batch_idx%100 == 0 or batch_idx==len(train_loader)-1:\n",
    "            output = model(evaluate_x)\n",
    "            pred = output.max(1)[1]\n",
    "            d = pred.eq(evaluate_y)\n",
    "            accuracy = float(d.sum())/float(d.size()[0])\n",
    "            \n",
    "            print('\\r Train Epoch: {} [{}/{} ({:.0f}%)]\\tLoss: {:.6f}\\tAccuracy: {}'.format(\n",
    "                epoch, \n",
    "                data_count, \n",
    "                len(train_loader.dataset),\n",
    "                100. * batch_idx / len(train_loader), \n",
    "                loss.data,\n",
    "                accuracy,),\n",
    "                end='')\n",
    "            \n",
    "    print()"
   ]
  },
  {
   "cell_type": "code",
   "execution_count": 61,
   "metadata": {},
   "outputs": [
    {
     "data": {
      "text/plain": [
       "[<matplotlib.lines.Line2D at 0x7f091bda72e8>]"
      ]
     },
     "execution_count": 61,
     "metadata": {},
     "output_type": "execute_result"
    },
    {
     "data": {
      "image/png": "[encoded data removed]",
      "text/plain": [
       "<Figure size 432x288 with 1 Axes>"
      ]
     },
     "metadata": {
      "needs_background": "light"
     },
     "output_type": "display_data"
    }
   ],
   "source": [
    "plt.plot(losses)"
   ]
  },
  {
   "cell_type": "code",
   "execution_count": null,
   "metadata": {},
   "outputs": [],
   "source": []
  }
 ],
 "metadata": {
  "kernelspec": {
   "display_name": "Python 3",
   "language": "python",
   "name": "python3"
  },
  "language_info": {
   "codemirror_mode": {
    "name": "ipython",
    "version": 3
   },
   "file_extension": ".py",
   "mimetype": "text/x-python",
   "name": "python",
   "nbconvert_exporter": "python",
   "pygments_lexer": "ipython3",
   "version": "3.7.3"
  }
 },
 "nbformat": 4,
 "nbformat_minor": 2
}
