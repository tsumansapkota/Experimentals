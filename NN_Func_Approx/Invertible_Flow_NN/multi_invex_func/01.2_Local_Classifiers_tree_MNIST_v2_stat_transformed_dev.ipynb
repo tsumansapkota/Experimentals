{
 "cells": [
  {
   "cell_type": "code",
   "execution_count": 38,
   "metadata": {},
   "outputs": [],
   "source": [
    "import numpy as np\n",
    "import matplotlib.pyplot as plt\n",
    "%matplotlib inline\n",
    "from mpl_toolkits.mplot3d import Axes3D\n",
    "\n",
    "import torch\n",
    "import torch.nn as nn\n",
    "import torch.nn.functional as F\n",
    "import torch.optim as optim\n",
    "from torch.utils import data\n",
    "\n",
    "import random, os, pathlib, time\n",
    "from tqdm import tqdm\n",
    "from sklearn import datasets"
   ]
  },
  {
   "cell_type": "code",
   "execution_count": 39,
   "metadata": {},
   "outputs": [],
   "source": [
    "import nflib\n",
    "from nflib.flows import SequentialFlow, NormalizingFlow, ActNorm, AffineConstantFlow, LinearFlow\n",
    "import nflib.coupling_flows as icf\n",
    "import nflib.inn_flow as inn\n",
    "import nflib.res_flow as irf"
   ]
  },
  {
   "cell_type": "code",
   "execution_count": 40,
   "metadata": {},
   "outputs": [],
   "source": [
    "from torch import distributions\n",
    "from torch.distributions import MultivariateNormal"
   ]
  },
  {
   "cell_type": "code",
   "execution_count": 41,
   "metadata": {},
   "outputs": [],
   "source": [
    "device = torch.device(\"cuda:1\")\n",
    "# device = torch.device(\"cpu\")"
   ]
  },
  {
   "cell_type": "markdown",
   "metadata": {},
   "source": [
    "## MNIST dataset"
   ]
  },
  {
   "cell_type": "code",
   "execution_count": 42,
   "metadata": {},
   "outputs": [],
   "source": [
    "import mylibrary.datasets as datasets\n",
    "import mylibrary.nnlib as tnn"
   ]
  },
  {
   "cell_type": "code",
   "execution_count": 43,
   "metadata": {},
   "outputs": [],
   "source": [
    "mnist = datasets.FashionMNIST()\n",
    "# mnist.download_mnist()\n",
    "# mnist.save_mnist()\n",
    "train_data, train_label_, test_data, test_label_ = mnist.load()\n",
    "\n",
    "train_data = train_data / 255.\n",
    "test_data = test_data / 255.\n",
    "\n",
    "# train_label = tnn.Logits.index_to_logit(train_label_)\n",
    "train_size = len(train_label_)"
   ]
  },
  {
   "cell_type": "code",
   "execution_count": 44,
   "metadata": {},
   "outputs": [],
   "source": [
    "## converting data to pytorch format\n",
    "train_data = torch.Tensor(train_data)\n",
    "test_data = torch.Tensor(test_data)\n",
    "train_label = torch.LongTensor(train_label_)\n",
    "test_label = torch.LongTensor(test_label_)"
   ]
  },
  {
   "cell_type": "code",
   "execution_count": 45,
   "metadata": {},
   "outputs": [],
   "source": [
    "input_size = 784\n",
    "output_size = 10"
   ]
  },
  {
   "cell_type": "code",
   "execution_count": 46,
   "metadata": {},
   "outputs": [],
   "source": [
    "class MNIST_Dataset(data.Dataset):\n",
    "    \n",
    "    def __init__(self, data, label):\n",
    "        self.data = data\n",
    "        self.label = label\n",
    "        \n",
    "#         self.label = mask.type(torch.float32).reshape(-1,1)\n",
    "#         self._shuffle_data_()\n",
    "        \n",
    "    def __len__(self):\n",
    "        return len(self.data)\n",
    "    \n",
    "#     def _shuffle_data_(self):\n",
    "#         randidx = random.sample(range(len(self.data)), k=len(self.data))\n",
    "# #         self.data = self.data[randidx]\n",
    "# #         self.label = self.label[randidx]\n",
    "    \n",
    "    def __getitem__(self, idx):\n",
    "        img, lbl = self.data[idx], self.label[idx]\n",
    "        return img, lbl"
   ]
  },
  {
   "cell_type": "code",
   "execution_count": 47,
   "metadata": {},
   "outputs": [],
   "source": [
    "class Subset_Dataset(data.Dataset):\n",
    "    \n",
    "    def __init__(self, dataset, index):\n",
    "        self.dataset = dataset\n",
    "        self.index = index\n",
    "        \n",
    "    def __len__(self):\n",
    "        return len(self.index)\n",
    "    \n",
    "    def __getitem__(self, idx):\n",
    "        idx = self.index[idx]\n",
    "        img, lbl = self.dataset[idx]\n",
    "        return img, lbl"
   ]
  },
  {
   "cell_type": "code",
   "execution_count": 48,
   "metadata": {},
   "outputs": [],
   "source": [
    "## The classifiers store all the data in INDEX FORM"
   ]
  },
  {
   "cell_type": "code",
   "execution_count": 49,
   "metadata": {},
   "outputs": [],
   "source": [
    "train_dataset = MNIST_Dataset(train_data, train_label)\n",
    "test_dataset = MNIST_Dataset(test_data, test_label)"
   ]
  },
  {
   "cell_type": "code",
   "execution_count": 50,
   "metadata": {},
   "outputs": [
    {
     "data": {
      "text/plain": [
       "(tensor([[0., 0., 0.,  ..., 0., 0., 0.],\n",
       "         [0., 0., 0.,  ..., 0., 0., 0.],\n",
       "         [0., 0., 0.,  ..., 0., 0., 0.]]),\n",
       " tensor([9, 0, 0]))"
      ]
     },
     "execution_count": 50,
     "metadata": {},
     "output_type": "execute_result"
    }
   ],
   "source": [
    "train_dataset[[0,1,2]]"
   ]
  },
  {
   "cell_type": "code",
   "execution_count": 51,
   "metadata": {},
   "outputs": [],
   "source": [
    "class ConnectedClassifier_SoftKMeans(nn.Module):\n",
    "    \n",
    "    def __init__(self,input_dim, num_sets, output_dim, inv_temp=1):\n",
    "        super().__init__()\n",
    "        self.input_dim = input_dim\n",
    "        self.output_dim = output_dim\n",
    "        self.num_sets = num_sets\n",
    "        self.inv_temp = nn.Parameter(torch.ones(1)*inv_temp)\n",
    "        \n",
    "        self.centers = nn.Parameter(torch.rand(num_sets, input_dim)*2-1)\n",
    "        \n",
    "#         self.cls_weight = nn.Parameter(torch.ones(num_sets, output_dim)/output_dim)\n",
    "        init_val = torch.randn(num_sets, output_dim)*0.01\n",
    "        for ns in range(num_sets):\n",
    "            init_val[ns, ns%output_dim] = 2.\n",
    "#             init_val[ns, 0] = 2. ### initialize same class in all clusters\n",
    "\n",
    "        self.cls_weight = nn.Parameter(init_val)\n",
    "\n",
    "        self.cls_confidence = None\n",
    "        \n",
    "        \n",
    "    def forward(self, x, hard=False):\n",
    "        self.cls_weight.data = torch.abs(self.cls_weight.data)/self.cls_weight.data.sum(dim=1, keepdim=True)\n",
    "        \n",
    "        x = x[:, :self.input_dim]\n",
    "        dists = torch.cdist(x, self.centers, p=1)\n",
    "        dists = dists/np.sqrt(self.input_dim) ### correction to make diagonal of unit square 1 in nD space\n",
    "        \n",
    "        if hard:\n",
    "            x = torch.softmax(-dists*1e5, dim=1)\n",
    "#             x = self._normalize_negative_dist_(-dists*1e5, dim=1)\n",
    "#             x = self._normalize_inverse_dist_(dists*1e5, dim=1)\n",
    "        else:\n",
    "            x = torch.softmax(-dists*self.inv_temp, dim=1)\n",
    "#             x = self._normalize_negative_dist_(-dists*self.inv_temp, dim=1)\n",
    "#             x = self._normalize_inverse_dist_(dists*self.inv_temp, dim=1)\n",
    "        self.cls_confidence = x\n",
    "#         c = torch.softmax(self.cls_weight, dim=1)\n",
    "        c = self.cls_weight\n",
    "        return x@c ## since both are normalized, it is also normalized\n",
    "    \n",
    "    def _normalize_negative_dist_(self, neg_dists, dim=1):\n",
    "        #### just normalize\n",
    "        neg_dists = torch.exp(neg_dists)\n",
    "        return neg_dists/torch.sum(neg_dists, dim=dim, keepdim=True) \n",
    "\n",
    "    def _normalize_inverse_dist_(self, dists, dim=1):\n",
    "        #### inverse the distances and normalize\n",
    "        inv_dist = torch.clamp(1/dists, 1e-7, 1e7)\n",
    "        weight = inv_dist/inv_dist.sum(dim=dim, keepdim=True)\n",
    "        return weight"
   ]
  },
  {
   "cell_type": "code",
   "execution_count": 52,
   "metadata": {},
   "outputs": [],
   "source": [
    "# torch.clamp(torch.Tensor([1])/0, -10, 10)"
   ]
  },
  {
   "cell_type": "code",
   "execution_count": 53,
   "metadata": {},
   "outputs": [],
   "source": [
    "class ClassifierTree:\n",
    "    \n",
    "    def __init__(self, train_data, test_data, device):\n",
    "        self.root = LocalClassifier(device)\n",
    "        self.root.create_network_0(784, [784], 10, 10)\n",
    "        \n",
    "        self.train_data = train_data\n",
    "        self.test_data = test_data\n",
    "        self.device = device\n",
    "        pass\n",
    "    \n",
    "    def display_stats(self):\n",
    "        indexing = \"0\"\n",
    "        self.root.display_stats(indexing)\n",
    "        acc, tot = self.root.get_correct_train()\n",
    "        train_acc = acc/tot\n",
    "        acc, tot = self.root.get_correct_test()\n",
    "        test_acc = acc/tot\n",
    "        print(f\"Final Accuracy is Train: {train_acc :.5f} Test: {test_acc :.5f}\")\n",
    "            \n",
    "    def get_parent_node(self, index_list:list):\n",
    "        parent = self.root\n",
    "        index_list = index_list[1:]\n",
    "        for idx in index_list[:-1]:\n",
    "            parent = parent.children[idx]\n",
    "        return parent\n",
    "    \n",
    "    def get_node(self, index_list:list):\n",
    "        parent = self.root\n",
    "        index_list = index_list[1:]\n",
    "        for idx in index_list[:-1]:\n",
    "            parent = parent.children[idx]\n",
    "        child = parent.children[index_list[-1]]\n",
    "        return child\n",
    "    \n",
    "    \n",
    "    def get_all_child_index(self):\n",
    "        child_list = []\n",
    "        self.root.get_all_index([0], child_list)\n",
    "        return child_list"
   ]
  },
  {
   "cell_type": "code",
   "execution_count": 54,
   "metadata": {},
   "outputs": [],
   "source": [
    "class LeafNode:\n",
    "    def __init__(self):\n",
    "        self.pred = None\n",
    "        self.classes = None\n",
    "        self.num_correct = None\n",
    "        self.train_indices = None\n",
    "        self.test_indices = None\n",
    "        self.test_correct = None\n",
    "        \n",
    "    def display_stats(self, indexing):\n",
    "        print(f\"[{indexing}] : Train -> {self.num_correct/len(self.train_indices) :.4f}\", end=\" \")\n",
    "        \n",
    "        if len(self.test_indices)>0:\n",
    "            test_acc = self.test_correct/len(self.test_indices)\n",
    "        else:\n",
    "            test_acc = -1\n",
    "        print(f\"Test -> {test_acc :.4f}, NUM: {len(self.train_indices)}, classes: {self.pred}:{self.classes}\")\n",
    "\n",
    "    def get_correct_train(self):\n",
    "        return self.num_correct, len(self.train_indices)\n",
    "    \n",
    "    def get_correct_test(self):\n",
    "        return self.test_correct, len(self.test_indices)\n",
    "    \n",
    "    def get_all_index(self, indexing, indx_lst):\n",
    "        indx_lst.append(indexing)\n",
    "                \n",
    "        \n",
    "    \n",
    "\n",
    "class LocalClassifier:\n",
    "    \n",
    "    def __init__(self, device):\n",
    "        self.model = None\n",
    "        self.classifier = None\n",
    "        self.device = device\n",
    "        \n",
    "        ### for training purposes\n",
    "        self.train_loader = None\n",
    "        self.test_loader = None\n",
    "        self.optimizer = None\n",
    "        self.frozen = False\n",
    "        self.criterion = None\n",
    "        \n",
    "        ### after freazing the model, record stats\n",
    "        self.children = []\n",
    "    \n",
    "    def create_network_0(self, input_dim, hidden_dims:list, output_dims, num_classifiers):\n",
    "        actf = irf.Swish\n",
    "        flows = []\n",
    "        flows.append(ActNorm(input_dim))\n",
    "#         for i in range(len(hidden_dims)):\n",
    "#             if isinstance(hidden_dims[i], list):\n",
    "#                 hdi = hidden_dims[i]\n",
    "#             else:\n",
    "#                 hdi = [hidden_dims[i]]\n",
    "#             flows.append(irf.ResidualFlow(input_dim, hdi, activation=actf))\n",
    "# #             flows.append(ActNorm(input_dim))\n",
    "\n",
    "        flows.append(LinearFlow(784))\n",
    "        \n",
    "        invertible = SequentialFlow(flows)\n",
    "        self.model = invertible.to(device)\n",
    "        \n",
    "        classifier = ConnectedClassifier_SoftKMeans(784, num_classifiers, output_dims)\n",
    "        self.classifier = classifier.to(device)\n",
    "        \n",
    "    def create_train_loader_1(self, train_dataset, index, batch_size):\n",
    "        dataset = Subset_Dataset(train_dataset, index)\n",
    "        print(f\"Train Dataset Num: {len(index)}\")\n",
    "        self.train_loader = data.DataLoader(dataset=dataset,\n",
    "                                            num_workers=4, \n",
    "                                            batch_size=batch_size, \n",
    "                                            shuffle=True)\n",
    "    \n",
    "    def create_test_loader_2(self, test_dataset, index, batch_size):\n",
    "        dataset = Subset_Dataset(test_dataset, index)\n",
    "        print(f\"Test Dataset Num: {len(index)}\")\n",
    "        self.test_loader = data.DataLoader(dataset=dataset,\n",
    "                                            num_workers=4, \n",
    "                                            batch_size=batch_size, \n",
    "                                            shuffle=False)\n",
    "        \n",
    "    def create_optimizer_3(self, lr):\n",
    "        self.optimizer = optim.Adam(list(self.model.parameters())+list(self.classifier.parameters()), \n",
    "                                    lr=lr, weight_decay=1e-15)\n",
    "        self.criterion = nn.CrossEntropyLoss()\n",
    "        \n",
    "        \n",
    "    def train_classifier_4(self, epochs, ):\n",
    "        if self.frozen:\n",
    "            raise ValueError(\"This classifier is frozen. Training it might cause errors in childern classifiers\")\n",
    "            \n",
    "    ############# TRAINING FUNCTIONALITY BELOW ####################    \n",
    "\n",
    "        index = 0\n",
    "        train_accs, test_accs = [], []\n",
    "        for epoch in tqdm(list(range(epochs))):\n",
    "            train_acc = 0\n",
    "            train_count = 0\n",
    "            for xx, yy in self.train_loader:\n",
    "                xx, yy = xx.to(device), yy.to(device)\n",
    "#                 print(xx)\n",
    "                yout = self.model(xx)\n",
    "#                 print(yout, torch.count_nonzero(torch.isnan(yout)))\n",
    "                yout = self.classifier(yout)    \n",
    "#                 print(yout, torch.count_nonzero(torch.isnan(yout)))\n",
    "                loss = self.criterion(yout, yy)\n",
    "#                 print(loss)\n",
    "                self.optimizer.zero_grad()\n",
    "                loss.backward()\n",
    "                self.optimizer.step()\n",
    "#                 losses.append(float(loss))\n",
    "\n",
    "                outputs = torch.argmax(yout, dim=1).data.cpu().numpy()\n",
    "                correct = (outputs == yy.data.cpu().numpy()).astype(float).sum()\n",
    "                train_acc += correct\n",
    "                train_count += len(outputs)\n",
    "\n",
    "            train_accs.append(float(train_acc)/train_count*100)\n",
    "            train_acc = 0\n",
    "            train_count = 0\n",
    "\n",
    "            print(f'Epoch: {epoch}:{index},  Loss:{float(loss)}')\n",
    "            test_count = 0\n",
    "            test_acc = 0\n",
    "            for xx, yy in self.test_loader:\n",
    "                xx, yy = xx.to(device), yy.to(device)\n",
    "                with torch.no_grad():\n",
    "                    yout = self.classifier(self.model(xx))    \n",
    "                outputs = torch.argmax(yout, dim=1).data.cpu().numpy()\n",
    "                correct = (outputs == yy.data.cpu().numpy()).astype(float).sum()\n",
    "                test_acc += correct\n",
    "                test_count += len(xx)\n",
    "            test_accs.append(float(test_acc)/test_count*100)\n",
    "            print(f'Train Acc:{train_accs[-1]:.2f}%, Test Acc:{test_accs[-1]:.2f}%')\n",
    "            print()\n",
    "\n",
    "        ### after each class index is finished training\n",
    "        print(f'\\t-> MAX Train Acc {max(train_accs)} ; Test Acc {max(test_accs)}')\n",
    "        \n",
    "        \n",
    "    def freeze_and_compute_stats_5(self, MIN_POINTS):\n",
    "        assert MIN_POINTS > 0\n",
    "        if self.frozen:\n",
    "            raise ValueError(\"This classifier is frozen. The stat has already been calculated\")\n",
    "            \n",
    "        self.frozen = True\n",
    "        \n",
    "        ### delete optimizer, frees memory\n",
    "        del self.optimizer\n",
    "        ### take classifier to eval mode\n",
    "        self.model.eval()\n",
    "        self.classifier.eval()\n",
    "        \n",
    "        with torch.no_grad():\n",
    "            #### remove classifier with no data or few data.\n",
    "\n",
    "            set_count = torch.zeros(self.classifier.num_sets).to(device)\n",
    "            for xx, yy in self.train_loader:\n",
    "                xx, yy = xx.to(device), yy.to(device)\n",
    "                with torch.no_grad():\n",
    "                    yout = self.classifier(self.model(xx), hard=True)\n",
    "\n",
    "                cls_indx = torch.argmax(self.classifier.cls_confidence, dim=1)\n",
    "                set_indx, count = torch.unique(cls_indx, return_counts=True) \n",
    "                set_count[set_indx] += count\n",
    "\n",
    "            #### find only the classifier having some data\n",
    "            classifier_index = []\n",
    "            classifier_count = []\n",
    "\n",
    "            for i, cnt in enumerate(set_count.type(torch.long).tolist()):\n",
    "    #             if cnt == 0: continue\n",
    "                if cnt < MIN_POINTS: continue\n",
    "\n",
    "                classifier_index.append(i)\n",
    "                classifier_count.append(int(cnt))\n",
    "\n",
    "            #### remove the classifier representing no data\n",
    "            #### OR representing data less than given N\n",
    "            print(f\"Keeping only N={len(classifier_index)}/{len(self.classifier.centers)} classifiers.\")\n",
    "            self.classifier.centers.data = self.classifier.centers.data[classifier_index]\n",
    "            self.classifier.cls_weight.data = self.classifier.cls_weight.data[classifier_index]\n",
    "            ### removed\n",
    "\n",
    "            ###### compute stats now, from pruned tree.\n",
    "            def get_Cs_Os_Ts_Zs(data_loader):\n",
    "                Cs = [] ## winning classifier\n",
    "                Os = [] ## output of winning classifier\n",
    "                Ts = [] ## target class\n",
    "                Zs = []\n",
    "\n",
    "                for xx, yy in data_loader:\n",
    "                    Ts.append(yy)\n",
    "                    xx, yy = xx.to(device), yy.to(device)\n",
    "                    with torch.no_grad():\n",
    "                        zz = self.model(xx)\n",
    "                        Zs.append(zz.data.cpu())\n",
    "                        yout = self.classifier(zz, hard=True)\n",
    "                        Os.append(torch.argmax(yout, dim=1).data.cpu())\n",
    "\n",
    "                    cls_indx = torch.argmax(self.classifier.cls_confidence, dim=1)\n",
    "                    Cs.append(cls_indx)\n",
    "\n",
    "                Cs = torch.cat(Cs, dim=0)\n",
    "                Ts = torch.cat(Ts, dim=0)\n",
    "                Os = torch.cat(Os, dim=0)\n",
    "                Zs = torch.cat(Zs, dim=0)\n",
    "                return Cs, Ts, Os, Zs\n",
    "\n",
    "\n",
    "            unshuffled_data = data.DataLoader(dataset=self.train_loader.dataset,\n",
    "                                                num_workers=4, \n",
    "                                                batch_size=self.train_loader.batch_size, \n",
    "                                                shuffle=False)\n",
    "            Cs, Ts, Os, Zs = get_Cs_Os_Ts_Zs(unshuffled_data)\n",
    "            _Cs, _Ts, _, _Zs = get_Cs_Os_Ts_Zs(self.test_loader)\n",
    "\n",
    "            print(\"Hard inference on the data !\")\n",
    "            self.children = []\n",
    "            acc = 0\n",
    "            for cls_idx in range(len(self.classifier.centers)):\n",
    "                data_idx = torch.nonzero(Cs == cls_idx)\n",
    "                Ti = Ts[data_idx]\n",
    "\n",
    "                ### get prediction according to data\n",
    "                cls, count = torch.unique(Ti, return_counts=True, sorted=True)\n",
    "                pred = cls[torch.argmax(count)]\n",
    "                p = (Ti==pred).type(torch.float32).sum()\n",
    "                acc += p\n",
    "\n",
    "                child = LeafNode()\n",
    "                child.pred = int(pred)\n",
    "                child.classes = cls.tolist()\n",
    "                child.num_correct = int(p)\n",
    "                child.train_indices = data_idx.cpu().reshape(-1)\n",
    "                \n",
    "                test_idx = torch.nonzero(_Cs == cls_idx)\n",
    "                test_p = (_Ts[test_idx]==pred).type(torch.float32).sum()\n",
    "                child.test_indices = test_idx.cpu().reshape(-1)\n",
    "                child.test_correct = int(test_p)\n",
    "\n",
    "                self.children.append(child)\n",
    "\n",
    "                print(f\"idx: {cls_idx}\\tout: {int(pred)} \\t acc: {p/len(Ti)*100 :.3f} \\tclasses:{cls.tolist()}\")\n",
    "\n",
    "            print(f\"Accuracy: {float(acc)/len(Ts)}\")\n",
    "        return Zs, Ts, _Zs, _Ts\n",
    "        \n",
    "        \n",
    "    def display_stats(self, indexing):\n",
    "        for i, c in enumerate(self.children):\n",
    "            c.display_stats(indexing+f\", {i}\")\n",
    "            \n",
    "    def get_all_index(self, indexing:list, indx_lst):\n",
    "        for i, c in enumerate(self.children):\n",
    "            c.get_all_index(indexing+[i], indx_lst)\n",
    "        pass\n",
    "\n",
    "    def get_correct_train(self):\n",
    "        a, b = 0, 0\n",
    "        for i, c in enumerate(self.children):\n",
    "            _a, _b = c.get_correct_train()\n",
    "            a+= _a\n",
    "            b+= _b\n",
    "        return a, b\n",
    "    \n",
    "    def get_correct_test(self):\n",
    "        a, b = 0, 0\n",
    "        for i, c in enumerate(self.children):\n",
    "            _a, _b = c.get_correct_test()\n",
    "            a+= _a\n",
    "            b+= _b\n",
    "        return a, b\n",
    "        \n",
    "    def inference_forward(self, x):\n",
    "        with torch.no_grad():\n",
    "            zz = self.model(x)\n",
    "            yout = self.classifier(zz, hard=True)\n",
    "            return torch.argmax(classifier.cls_confidence, dim=1)"
   ]
  },
  {
   "cell_type": "code",
   "execution_count": 55,
   "metadata": {},
   "outputs": [],
   "source": [
    "tree = ClassifierTree(train_dataset, test_dataset, device)"
   ]
  },
  {
   "cell_type": "code",
   "execution_count": 56,
   "metadata": {},
   "outputs": [],
   "source": [
    "tree.root.create_network_0(784, [784], 10, 10)"
   ]
  },
  {
   "cell_type": "code",
   "execution_count": 57,
   "metadata": {},
   "outputs": [
    {
     "name": "stdout",
     "output_type": "stream",
     "text": [
      "Train Dataset Num: 60000\n"
     ]
    }
   ],
   "source": [
    "tree.root.create_train_loader_1(train_dataset, \n",
    "                                torch.arange(0, len(train_dataset), dtype=torch.long), \n",
    "                                50)"
   ]
  },
  {
   "cell_type": "code",
   "execution_count": 58,
   "metadata": {},
   "outputs": [
    {
     "name": "stdout",
     "output_type": "stream",
     "text": [
      "Test Dataset Num: 10000\n"
     ]
    }
   ],
   "source": [
    "tree.root.create_test_loader_2(test_dataset, \n",
    "                               torch.arange(0, len(test_dataset), dtype=torch.long), \n",
    "                               50)"
   ]
  },
  {
   "cell_type": "code",
   "execution_count": 59,
   "metadata": {},
   "outputs": [],
   "source": [
    "tree.root.create_optimizer_3(lr=0.0003)"
   ]
  },
  {
   "cell_type": "code",
   "execution_count": 60,
   "metadata": {},
   "outputs": [],
   "source": [
    "# list(tree.root.classifier.parameters())"
   ]
  },
  {
   "cell_type": "code",
   "execution_count": 61,
   "metadata": {},
   "outputs": [],
   "source": [
    "# tree.root.model(torch.randn(10, 784).to(device))"
   ]
  },
  {
   "cell_type": "code",
   "execution_count": 62,
   "metadata": {},
   "outputs": [
    {
     "name": "stderr",
     "output_type": "stream",
     "text": [
      "\r",
      "  0%|          | 0/30 [00:00<?, ?it/s]"
     ]
    },
    {
     "name": "stdout",
     "output_type": "stream",
     "text": [
      "Epoch: 0:0,  Loss:1.6281981468200684\n"
     ]
    },
    {
     "name": "stderr",
     "output_type": "stream",
     "text": [
      "\r",
      "  3%|▎         | 1/30 [00:02<01:17,  2.68s/it]"
     ]
    },
    {
     "name": "stdout",
     "output_type": "stream",
     "text": [
      "Train Acc:83.21%, Test Acc:84.80%\n",
      "\n",
      "Epoch: 1:0,  Loss:1.5919349193572998\n"
     ]
    },
    {
     "name": "stderr",
     "output_type": "stream",
     "text": [
      "\r",
      "  7%|▋         | 2/30 [00:05<01:15,  2.68s/it]"
     ]
    },
    {
     "name": "stdout",
     "output_type": "stream",
     "text": [
      "Train Acc:86.91%, Test Acc:85.62%\n",
      "\n",
      "Epoch: 2:0,  Loss:1.5994397401809692\n"
     ]
    },
    {
     "name": "stderr",
     "output_type": "stream",
     "text": [
      "\r",
      " 10%|█         | 3/30 [00:08<01:12,  2.68s/it]"
     ]
    },
    {
     "name": "stdout",
     "output_type": "stream",
     "text": [
      "Train Acc:87.98%, Test Acc:85.78%\n",
      "\n",
      "Epoch: 3:0,  Loss:1.6932319402694702\n"
     ]
    },
    {
     "name": "stderr",
     "output_type": "stream",
     "text": [
      "\r",
      " 13%|█▎        | 4/30 [00:10<01:09,  2.67s/it]"
     ]
    },
    {
     "name": "stdout",
     "output_type": "stream",
     "text": [
      "Train Acc:88.81%, Test Acc:86.60%\n",
      "\n",
      "Epoch: 4:0,  Loss:1.574293613433838\n"
     ]
    },
    {
     "name": "stderr",
     "output_type": "stream",
     "text": [
      "\r",
      " 17%|█▋        | 5/30 [00:13<01:06,  2.65s/it]"
     ]
    },
    {
     "name": "stdout",
     "output_type": "stream",
     "text": [
      "Train Acc:89.32%, Test Acc:86.60%\n",
      "\n",
      "Epoch: 5:0,  Loss:1.6384066343307495\n"
     ]
    },
    {
     "name": "stderr",
     "output_type": "stream",
     "text": [
      "\r",
      " 20%|██        | 6/30 [00:15<01:03,  2.66s/it]"
     ]
    },
    {
     "name": "stdout",
     "output_type": "stream",
     "text": [
      "Train Acc:89.97%, Test Acc:87.22%\n",
      "\n",
      "Epoch: 6:0,  Loss:1.6159193515777588\n"
     ]
    },
    {
     "name": "stderr",
     "output_type": "stream",
     "text": [
      "\r",
      " 23%|██▎       | 7/30 [00:18<01:01,  2.67s/it]"
     ]
    },
    {
     "name": "stdout",
     "output_type": "stream",
     "text": [
      "Train Acc:90.42%, Test Acc:87.44%\n",
      "\n",
      "Epoch: 7:0,  Loss:1.5327304601669312\n"
     ]
    },
    {
     "name": "stderr",
     "output_type": "stream",
     "text": [
      "\r",
      " 27%|██▋       | 8/30 [00:21<00:59,  2.69s/it]"
     ]
    },
    {
     "name": "stdout",
     "output_type": "stream",
     "text": [
      "Train Acc:90.91%, Test Acc:87.10%\n",
      "\n",
      "Epoch: 8:0,  Loss:1.5932506322860718\n"
     ]
    },
    {
     "name": "stderr",
     "output_type": "stream",
     "text": [
      "\r",
      " 30%|███       | 9/30 [00:24<00:56,  2.67s/it]"
     ]
    },
    {
     "name": "stdout",
     "output_type": "stream",
     "text": [
      "Train Acc:91.31%, Test Acc:87.65%\n",
      "\n",
      "Epoch: 9:0,  Loss:1.5675780773162842\n"
     ]
    },
    {
     "name": "stderr",
     "output_type": "stream",
     "text": [
      "\r",
      " 33%|███▎      | 10/30 [00:26<00:53,  2.67s/it]"
     ]
    },
    {
     "name": "stdout",
     "output_type": "stream",
     "text": [
      "Train Acc:91.52%, Test Acc:87.57%\n",
      "\n",
      "Epoch: 10:0,  Loss:1.5709599256515503\n"
     ]
    },
    {
     "name": "stderr",
     "output_type": "stream",
     "text": [
      "\r",
      " 37%|███▋      | 11/30 [00:29<00:50,  2.67s/it]"
     ]
    },
    {
     "name": "stdout",
     "output_type": "stream",
     "text": [
      "Train Acc:91.91%, Test Acc:87.91%\n",
      "\n",
      "Epoch: 11:0,  Loss:1.6376208066940308\n"
     ]
    },
    {
     "name": "stderr",
     "output_type": "stream",
     "text": [
      "\r",
      " 40%|████      | 12/30 [00:32<00:47,  2.67s/it]"
     ]
    },
    {
     "name": "stdout",
     "output_type": "stream",
     "text": [
      "Train Acc:92.04%, Test Acc:87.76%\n",
      "\n",
      "Epoch: 12:0,  Loss:1.5779662132263184\n"
     ]
    },
    {
     "name": "stderr",
     "output_type": "stream",
     "text": [
      "\r",
      " 43%|████▎     | 13/30 [00:34<00:45,  2.68s/it]"
     ]
    },
    {
     "name": "stdout",
     "output_type": "stream",
     "text": [
      "Train Acc:92.31%, Test Acc:88.21%\n",
      "\n",
      "Epoch: 13:0,  Loss:1.5978606939315796\n"
     ]
    },
    {
     "name": "stderr",
     "output_type": "stream",
     "text": [
      "\r",
      " 47%|████▋     | 14/30 [00:37<00:42,  2.68s/it]"
     ]
    },
    {
     "name": "stdout",
     "output_type": "stream",
     "text": [
      "Train Acc:92.63%, Test Acc:88.13%\n",
      "\n",
      "Epoch: 14:0,  Loss:1.4955466985702515\n"
     ]
    },
    {
     "name": "stderr",
     "output_type": "stream",
     "text": [
      "\r",
      " 50%|█████     | 15/30 [00:40<00:40,  2.67s/it]"
     ]
    },
    {
     "name": "stdout",
     "output_type": "stream",
     "text": [
      "Train Acc:92.71%, Test Acc:87.92%\n",
      "\n",
      "Epoch: 15:0,  Loss:1.5890904664993286\n"
     ]
    },
    {
     "name": "stderr",
     "output_type": "stream",
     "text": [
      "\r",
      " 53%|█████▎    | 16/30 [00:42<00:37,  2.67s/it]"
     ]
    },
    {
     "name": "stdout",
     "output_type": "stream",
     "text": [
      "Train Acc:92.91%, Test Acc:88.00%\n",
      "\n",
      "Epoch: 16:0,  Loss:1.5102380514144897\n"
     ]
    },
    {
     "name": "stderr",
     "output_type": "stream",
     "text": [
      "\r",
      " 57%|█████▋    | 17/30 [00:45<00:34,  2.69s/it]"
     ]
    },
    {
     "name": "stdout",
     "output_type": "stream",
     "text": [
      "Train Acc:93.07%, Test Acc:88.23%\n",
      "\n",
      "Epoch: 17:0,  Loss:1.518369197845459\n"
     ]
    },
    {
     "name": "stderr",
     "output_type": "stream",
     "text": [
      "\r",
      " 60%|██████    | 18/30 [00:48<00:32,  2.70s/it]"
     ]
    },
    {
     "name": "stdout",
     "output_type": "stream",
     "text": [
      "Train Acc:93.12%, Test Acc:88.06%\n",
      "\n",
      "Epoch: 18:0,  Loss:1.5521773099899292\n"
     ]
    },
    {
     "name": "stderr",
     "output_type": "stream",
     "text": [
      "\r",
      " 63%|██████▎   | 19/30 [00:50<00:29,  2.70s/it]"
     ]
    },
    {
     "name": "stdout",
     "output_type": "stream",
     "text": [
      "Train Acc:93.29%, Test Acc:88.20%\n",
      "\n",
      "Epoch: 19:0,  Loss:1.4967044591903687\n"
     ]
    },
    {
     "name": "stderr",
     "output_type": "stream",
     "text": [
      "\r",
      " 67%|██████▋   | 20/30 [00:53<00:26,  2.68s/it]"
     ]
    },
    {
     "name": "stdout",
     "output_type": "stream",
     "text": [
      "Train Acc:93.46%, Test Acc:87.72%\n",
      "\n",
      "Epoch: 20:0,  Loss:1.5355665683746338\n"
     ]
    },
    {
     "name": "stderr",
     "output_type": "stream",
     "text": [
      "\r",
      " 70%|███████   | 21/30 [00:56<00:24,  2.68s/it]"
     ]
    },
    {
     "name": "stdout",
     "output_type": "stream",
     "text": [
      "Train Acc:93.55%, Test Acc:88.04%\n",
      "\n",
      "Epoch: 21:0,  Loss:1.5410256385803223\n"
     ]
    },
    {
     "name": "stderr",
     "output_type": "stream",
     "text": [
      "\r",
      " 73%|███████▎  | 22/30 [00:58<00:21,  2.69s/it]"
     ]
    },
    {
     "name": "stdout",
     "output_type": "stream",
     "text": [
      "Train Acc:93.54%, Test Acc:88.11%\n",
      "\n",
      "Epoch: 22:0,  Loss:1.5675630569458008\n"
     ]
    },
    {
     "name": "stderr",
     "output_type": "stream",
     "text": [
      "\r",
      " 77%|███████▋  | 23/30 [01:01<00:18,  2.69s/it]"
     ]
    },
    {
     "name": "stdout",
     "output_type": "stream",
     "text": [
      "Train Acc:93.66%, Test Acc:88.14%\n",
      "\n",
      "Epoch: 23:0,  Loss:1.5476497411727905\n"
     ]
    },
    {
     "name": "stderr",
     "output_type": "stream",
     "text": [
      "\r",
      " 80%|████████  | 24/30 [01:04<00:15,  2.66s/it]"
     ]
    },
    {
     "name": "stdout",
     "output_type": "stream",
     "text": [
      "Train Acc:93.82%, Test Acc:87.96%\n",
      "\n",
      "Epoch: 24:0,  Loss:1.5002377033233643\n"
     ]
    },
    {
     "name": "stderr",
     "output_type": "stream",
     "text": [
      "\r",
      " 83%|████████▎ | 25/30 [01:06<00:13,  2.67s/it]"
     ]
    },
    {
     "name": "stdout",
     "output_type": "stream",
     "text": [
      "Train Acc:93.88%, Test Acc:88.09%\n",
      "\n",
      "Epoch: 25:0,  Loss:1.5040040016174316\n"
     ]
    },
    {
     "name": "stderr",
     "output_type": "stream",
     "text": [
      "\r",
      " 87%|████████▋ | 26/30 [01:09<00:10,  2.68s/it]"
     ]
    },
    {
     "name": "stdout",
     "output_type": "stream",
     "text": [
      "Train Acc:93.95%, Test Acc:88.44%\n",
      "\n",
      "Epoch: 26:0,  Loss:1.5122250318527222\n"
     ]
    },
    {
     "name": "stderr",
     "output_type": "stream",
     "text": [
      "\r",
      " 90%|█████████ | 27/30 [01:12<00:08,  2.68s/it]"
     ]
    },
    {
     "name": "stdout",
     "output_type": "stream",
     "text": [
      "Train Acc:94.06%, Test Acc:88.39%\n",
      "\n",
      "Epoch: 27:0,  Loss:1.5112838745117188\n"
     ]
    },
    {
     "name": "stderr",
     "output_type": "stream",
     "text": [
      "\r",
      " 93%|█████████▎| 28/30 [01:15<00:05,  2.70s/it]"
     ]
    },
    {
     "name": "stdout",
     "output_type": "stream",
     "text": [
      "Train Acc:94.11%, Test Acc:88.19%\n",
      "\n",
      "Epoch: 28:0,  Loss:1.5558323860168457\n"
     ]
    },
    {
     "name": "stderr",
     "output_type": "stream",
     "text": [
      "\r",
      " 97%|█████████▋| 29/30 [01:17<00:02,  2.71s/it]"
     ]
    },
    {
     "name": "stdout",
     "output_type": "stream",
     "text": [
      "Train Acc:94.19%, Test Acc:88.10%\n",
      "\n",
      "Epoch: 29:0,  Loss:1.464711308479309\n"
     ]
    },
    {
     "name": "stderr",
     "output_type": "stream",
     "text": [
      "100%|██████████| 30/30 [01:20<00:00,  2.68s/it]"
     ]
    },
    {
     "name": "stdout",
     "output_type": "stream",
     "text": [
      "Train Acc:94.28%, Test Acc:88.10%\n",
      "\n",
      "\t-> MAX Train Acc 94.27666666666667 ; Test Acc 88.44\n"
     ]
    },
    {
     "name": "stderr",
     "output_type": "stream",
     "text": [
      "\n"
     ]
    }
   ],
   "source": [
    "tree.root.train_classifier_4(30)"
   ]
  },
  {
   "cell_type": "code",
   "execution_count": 25,
   "metadata": {},
   "outputs": [],
   "source": [
    "# asdfsdfasdf"
   ]
  },
  {
   "cell_type": "code",
   "execution_count": 26,
   "metadata": {},
   "outputs": [],
   "source": [
    "# torch.isinf(tree.root.model.flows[0].s)"
   ]
  },
  {
   "cell_type": "code",
   "execution_count": 63,
   "metadata": {},
   "outputs": [
    {
     "name": "stdout",
     "output_type": "stream",
     "text": [
      "Keeping only N=10/10 classifiers.\n",
      "Hard inference on the data !\n",
      "idx: 0\tout: 0 \t acc: 89.610 \tclasses:[0, 1, 2, 3, 4, 5, 6, 8]\n",
      "idx: 1\tout: 1 \t acc: 99.194 \tclasses:[0, 1, 2, 3, 4, 6, 7, 8, 9]\n",
      "idx: 2\tout: 2 \t acc: 89.094 \tclasses:[0, 1, 2, 3, 4, 6, 8]\n",
      "idx: 3\tout: 3 \t acc: 93.656 \tclasses:[0, 1, 2, 3, 4, 5, 6, 8]\n",
      "idx: 4\tout: 4 \t acc: 89.734 \tclasses:[0, 1, 2, 3, 4, 6, 8]\n",
      "idx: 5\tout: 5 \t acc: 98.917 \tclasses:[0, 2, 5, 6, 7, 8, 9]\n",
      "idx: 6\tout: 6 \t acc: 88.376 \tclasses:[0, 1, 2, 3, 4, 5, 6, 8]\n",
      "idx: 7\tout: 7 \t acc: 98.156 \tclasses:[2, 4, 5, 6, 7, 8, 9]\n",
      "idx: 8\tout: 8 \t acc: 97.322 \tclasses:[0, 1, 2, 3, 4, 5, 6, 7, 8, 9]\n",
      "idx: 9\tout: 9 \t acc: 98.326 \tclasses:[0, 3, 5, 6, 7, 8, 9]\n",
      "Accuracy: 0.9426\n"
     ]
    }
   ],
   "source": [
    "nX, nT, _nX, _nT = tree.root.freeze_and_compute_stats_5(MIN_POINTS=5)"
   ]
  },
  {
   "cell_type": "code",
   "execution_count": 64,
   "metadata": {},
   "outputs": [
    {
     "name": "stdout",
     "output_type": "stream",
     "text": [
      "[0, 0] : Train -> 0.8961 Test -> 0.8057, NUM: 6179, classes: 0:[0, 1, 2, 3, 4, 5, 6, 8]\n",
      "[0, 1] : Train -> 0.9919 Test -> 0.9807, NUM: 5955, classes: 1:[0, 1, 2, 3, 4, 6, 7, 8, 9]\n",
      "[0, 2] : Train -> 0.8909 Test -> 0.7963, NUM: 6079, classes: 2:[0, 1, 2, 3, 4, 6, 8]\n",
      "[0, 3] : Train -> 0.9366 Test -> 0.8762, NUM: 6148, classes: 3:[0, 1, 2, 3, 4, 5, 6, 8]\n",
      "[0, 4] : Train -> 0.8973 Test -> 0.7981, NUM: 6166, classes: 4:[0, 1, 2, 3, 4, 6, 8]\n",
      "[0, 5] : Train -> 0.9892 Test -> 0.9539, NUM: 6003, classes: 5:[0, 2, 5, 6, 7, 8, 9]\n",
      "[0, 6] : Train -> 0.8838 Test -> 0.7232, NUM: 5420, classes: 6:[0, 1, 2, 3, 4, 5, 6, 8]\n",
      "[0, 7] : Train -> 0.9816 Test -> 0.9526, NUM: 5966, classes: 7:[2, 4, 5, 6, 7, 8, 9]\n",
      "[0, 8] : Train -> 0.9732 Test -> 0.9613, NUM: 6049, classes: 8:[0, 1, 2, 3, 4, 5, 6, 7, 8, 9]\n",
      "[0, 9] : Train -> 0.9833 Test -> 0.9507, NUM: 6035, classes: 9:[0, 3, 5, 6, 7, 8, 9]\n",
      "Final Accuracy is Train: 0.94260 Test: 0.88100\n"
     ]
    }
   ],
   "source": [
    "tree.display_stats()"
   ]
  },
  {
   "cell_type": "code",
   "execution_count": 65,
   "metadata": {},
   "outputs": [],
   "source": [
    "node = tree.get_node([0, 0])"
   ]
  },
  {
   "cell_type": "code",
   "execution_count": 66,
   "metadata": {},
   "outputs": [
    {
     "data": {
      "text/plain": [
       "6179"
      ]
     },
     "execution_count": 66,
     "metadata": {},
     "output_type": "execute_result"
    }
   ],
   "source": [
    "len(node.train_indices)"
   ]
  },
  {
   "cell_type": "code",
   "execution_count": 67,
   "metadata": {},
   "outputs": [
    {
     "data": {
      "text/plain": [
       "[[0, 0],\n",
       " [0, 1],\n",
       " [0, 2],\n",
       " [0, 3],\n",
       " [0, 4],\n",
       " [0, 5],\n",
       " [0, 6],\n",
       " [0, 7],\n",
       " [0, 8],\n",
       " [0, 9]]"
      ]
     },
     "execution_count": 67,
     "metadata": {},
     "output_type": "execute_result"
    }
   ],
   "source": [
    "tree.get_all_child_index()"
   ]
  },
  {
   "cell_type": "code",
   "execution_count": 68,
   "metadata": {},
   "outputs": [],
   "source": [
    "_train_data = train_data.clone()\n",
    "_test_data = test_data.clone()"
   ]
  },
  {
   "cell_type": "markdown",
   "metadata": {},
   "source": [
    "## Distance based analysis of transformed X"
   ]
  },
  {
   "cell_type": "code",
   "execution_count": 69,
   "metadata": {},
   "outputs": [],
   "source": [
    "indx = [0,0]\n",
    "parent = tree.get_parent_node(indx)\n",
    "node = tree.get_node(indx)"
   ]
  },
  {
   "cell_type": "code",
   "execution_count": 70,
   "metadata": {},
   "outputs": [],
   "source": [
    "_train_data[node.train_indices] = nX[node.train_indices]\n",
    "_test_data[node.test_indices] = _nX[node.test_indices]"
   ]
  },
  {
   "cell_type": "code",
   "execution_count": 71,
   "metadata": {},
   "outputs": [],
   "source": [
    "Zi = nX[node.train_indices]\n",
    "Ti = nT[node.train_indices]"
   ]
  },
  {
   "cell_type": "code",
   "execution_count": 72,
   "metadata": {},
   "outputs": [],
   "source": [
    "center = parent.classifier.centers[indx[-1]].data"
   ]
  },
  {
   "cell_type": "code",
   "execution_count": 74,
   "metadata": {},
   "outputs": [
    {
     "data": {
      "text/plain": [
       "<matplotlib.collections.PathCollection at 0x7f0a70dba6a0>"
      ]
     },
     "execution_count": 74,
     "metadata": {},
     "output_type": "execute_result"
    },
    {
     "data": {
      "image/png": "[encoded data removed]",
      "text/plain": [
       "<Figure size 432x288 with 1 Axes>"
      ]
     },
     "metadata": {
      "needs_background": "light"
     },
     "output_type": "display_data"
    }
   ],
   "source": [
    "## distance from the center and corresponding class\n",
    "dists = torch.norm(Zi-center.cpu().data.unsqueeze(0), p=1, dim=1)/784 #np.sqrt(784)\n",
    "plt.scatter(Ti, dists, c=Ti)"
   ]
  },
  {
   "cell_type": "code",
   "execution_count": 75,
   "metadata": {},
   "outputs": [
    {
     "name": "stdout",
     "output_type": "stream",
     "text": [
      "class: 0, mean: 6.541017532348633, std:4.818256855010986\n",
      "class: 1, mean: 6.79149055480957, std:5.782317161560059\n",
      "class: 2, mean: 7.118994235992432, std:2.8029868602752686\n",
      "class: 3, mean: 5.909376621246338, std:2.3564529418945312\n",
      "class: 4, mean: 5.745668888092041, std:0.4199015200138092\n",
      "class: 5, mean: 6.190677165985107, std:nan\n",
      "class: 6, mean: 8.154555320739746, std:8.35658073425293\n",
      "class: 8, mean: 27.100351333618164, std:25.710935592651367\n"
     ]
    }
   ],
   "source": [
    "### mean, std dist of each class\n",
    "for i in range(10):\n",
    "    _ind = torch.nonzero(Ti==i)\n",
    "    if len(_ind) < 1: continue\n",
    "    _dat = dists[_ind]\n",
    "    print(f\"class: {i}, mean: {_dat.mean()}, std:{_dat.std()}\")"
   ]
  },
  {
   "cell_type": "code",
   "execution_count": null,
   "metadata": {},
   "outputs": [],
   "source": []
  },
  {
   "cell_type": "code",
   "execution_count": 39,
   "metadata": {},
   "outputs": [
    {
     "ename": "NameError",
     "evalue": "name 'asdfsadf' is not defined",
     "output_type": "error",
     "traceback": [
      "\u001b[0;31m---------------------------------------------------------------------------\u001b[0m",
      "\u001b[0;31mNameError\u001b[0m                                 Traceback (most recent call last)",
      "\u001b[0;32m<ipython-input-39-b4d6b660fffb>\u001b[0m in \u001b[0;36m<module>\u001b[0;34m\u001b[0m\n\u001b[0;32m----> 1\u001b[0;31m \u001b[0masdfsadf\u001b[0m\u001b[0;34m\u001b[0m\u001b[0;34m\u001b[0m\u001b[0m\n\u001b[0m",
      "\u001b[0;31mNameError\u001b[0m: name 'asdfsadf' is not defined"
     ]
    }
   ],
   "source": [
    "asdfsadf"
   ]
  },
  {
   "cell_type": "markdown",
   "metadata": {},
   "source": [
    "### Select a node and train a new classifier: from transformed data"
   ]
  },
  {
   "cell_type": "code",
   "execution_count": 76,
   "metadata": {},
   "outputs": [
    {
     "name": "stdout",
     "output_type": "stream",
     "text": [
      "Max incorrect: 663, [0, 2], train for: 246\n"
     ]
    }
   ],
   "source": [
    "### make selecting index automatic\n",
    "###### for all child index analyse how much incorrect training examples are present\n",
    "\n",
    "### 1. train the cild with maximum incorrect ones.\n",
    "### 2. train the network for at least 30,000 steps:\n",
    "###     for a 5K dataset with 50 batch size, 100 steps in one epoch, so train for 300 epochs\n",
    "\n",
    "MIN_POINTS = 10\n",
    "batch_size = 50\n",
    "\n",
    "max_incorrect = 0\n",
    "max_inc_node = None\n",
    "train_epoch = None\n",
    "for ci in tree.get_all_child_index():\n",
    "    node = tree.get_node(ci)\n",
    "    num_data = len(node.train_indices)\n",
    "    if num_data < MIN_POINTS: continue\n",
    "        \n",
    "    incorrect = num_data - node.num_correct\n",
    "    if incorrect > max_incorrect:\n",
    "        max_incorrect = incorrect\n",
    "        max_inc_node = ci\n",
    "        steps_in_epoch = max(num_data/batch_size, 1)\n",
    "        train_epoch = int(30000/steps_in_epoch)\n",
    "        \n",
    "print(f\"Max incorrect: {max_incorrect}, {max_inc_node}, train for: {train_epoch}\")"
   ]
  },
  {
   "cell_type": "code",
   "execution_count": 77,
   "metadata": {},
   "outputs": [],
   "source": [
    "###### for a given index of classifier make it \n",
    "# indx = [0, 0]\n",
    "indx = max_inc_node\n",
    "parent = tree.get_parent_node(indx)\n",
    "node = tree.get_node(indx)"
   ]
  },
  {
   "cell_type": "code",
   "execution_count": 78,
   "metadata": {},
   "outputs": [
    {
     "data": {
      "text/plain": [
       "(2, [0, 1, 2, 3, 4, 6, 8])"
      ]
     },
     "execution_count": 78,
     "metadata": {},
     "output_type": "execute_result"
    }
   ],
   "source": [
    "# node.train_indices, node.test_indices\n",
    "node.pred, node.classes"
   ]
  },
  {
   "cell_type": "code",
   "execution_count": 79,
   "metadata": {},
   "outputs": [],
   "source": [
    "alt_node = LocalClassifier(device)"
   ]
  },
  {
   "cell_type": "code",
   "execution_count": 80,
   "metadata": {},
   "outputs": [],
   "source": [
    "# train_dataset.data = _train_data\n",
    "# test_dataset.data = _test_data\n",
    "# train_dataset.data = train_data\n",
    "# test_dataset.data = test_data"
   ]
  },
  {
   "cell_type": "code",
   "execution_count": 81,
   "metadata": {},
   "outputs": [
    {
     "name": "stdout",
     "output_type": "stream",
     "text": [
      "Train Dataset Num: 6079\n",
      "Test Dataset Num: 1036\n"
     ]
    }
   ],
   "source": [
    "### make classifier with only available classes\n",
    "avl_cls = node.classes\n",
    "num_cls = len(node.classes)\n",
    "output_dim = 10\n",
    "num_sets = num_cls*2\n",
    "init_val = torch.abs(torch.randn(num_sets, output_dim)*0.01)\n",
    "for ns in range(num_sets):\n",
    "    init_val[ns, avl_cls[ns%num_cls]] = 2.\n",
    "\n",
    "alt_node.create_network_0(784, [1], output_dim, num_sets)\n",
    "alt_node.classifier.cls_weight.data = init_val.to(device)\n",
    "\n",
    "alt_node.create_train_loader_1(train_dataset, node.train_indices, batch_size=50)\n",
    "alt_node.create_test_loader_2(test_dataset, node.test_indices, batch_size=50)\n",
    "alt_node.create_optimizer_3(lr=0.0003)"
   ]
  },
  {
   "cell_type": "code",
   "execution_count": 82,
   "metadata": {},
   "outputs": [
    {
     "name": "stdout",
     "output_type": "stream",
     "text": [
      "[] : Train -> 0.8909 Test -> 0.7963, NUM: 6079, classes: 2:[0, 1, 2, 3, 4, 6, 8]\n"
     ]
    }
   ],
   "source": [
    "node.display_stats(\"\")"
   ]
  },
  {
   "cell_type": "code",
   "execution_count": 83,
   "metadata": {
    "scrolled": true
   },
   "outputs": [
    {
     "name": "stderr",
     "output_type": "stream",
     "text": [
      "\r",
      "  0%|          | 0/100 [00:00<?, ?it/s]"
     ]
    },
    {
     "name": "stdout",
     "output_type": "stream",
     "text": [
      "Epoch: 0:0,  Loss:1.5298504829406738\n"
     ]
    },
    {
     "name": "stderr",
     "output_type": "stream",
     "text": [
      "\r",
      "  1%|          | 1/100 [00:00<00:45,  2.17it/s]"
     ]
    },
    {
     "name": "stdout",
     "output_type": "stream",
     "text": [
      "Train Acc:87.04%, Test Acc:79.63%\n",
      "\n",
      "Epoch: 1:0,  Loss:1.5298537015914917\n"
     ]
    },
    {
     "name": "stderr",
     "output_type": "stream",
     "text": [
      "\r",
      "  2%|▏         | 2/100 [00:00<00:45,  2.15it/s]"
     ]
    },
    {
     "name": "stdout",
     "output_type": "stream",
     "text": [
      "Train Acc:89.11%, Test Acc:79.63%\n",
      "\n",
      "Epoch: 2:0,  Loss:1.5642292499542236\n"
     ]
    },
    {
     "name": "stderr",
     "output_type": "stream",
     "text": [
      "\r",
      "  3%|▎         | 3/100 [00:01<00:45,  2.14it/s]"
     ]
    },
    {
     "name": "stdout",
     "output_type": "stream",
     "text": [
      "Train Acc:89.16%, Test Acc:79.63%\n",
      "\n",
      "Epoch: 3:0,  Loss:1.529465675354004\n"
     ]
    },
    {
     "name": "stderr",
     "output_type": "stream",
     "text": [
      "\r",
      "  4%|▍         | 4/100 [00:01<00:44,  2.15it/s]"
     ]
    },
    {
     "name": "stdout",
     "output_type": "stream",
     "text": [
      "Train Acc:89.27%, Test Acc:79.63%\n",
      "\n",
      "Epoch: 4:0,  Loss:1.59866464138031\n"
     ]
    },
    {
     "name": "stderr",
     "output_type": "stream",
     "text": [
      "\r",
      "  5%|▌         | 5/100 [00:02<00:44,  2.14it/s]"
     ]
    },
    {
     "name": "stdout",
     "output_type": "stream",
     "text": [
      "Train Acc:89.31%, Test Acc:79.63%\n",
      "\n",
      "Epoch: 5:0,  Loss:1.4945975542068481\n"
     ]
    },
    {
     "name": "stderr",
     "output_type": "stream",
     "text": [
      "\r",
      "  6%|▌         | 6/100 [00:02<00:44,  2.13it/s]"
     ]
    },
    {
     "name": "stdout",
     "output_type": "stream",
     "text": [
      "Train Acc:89.36%, Test Acc:79.63%\n",
      "\n",
      "Epoch: 6:0,  Loss:1.631954312324524\n"
     ]
    },
    {
     "name": "stderr",
     "output_type": "stream",
     "text": [
      "\r",
      "  7%|▋         | 7/100 [00:03<00:43,  2.14it/s]"
     ]
    },
    {
     "name": "stdout",
     "output_type": "stream",
     "text": [
      "Train Acc:89.34%, Test Acc:79.63%\n",
      "\n",
      "Epoch: 7:0,  Loss:1.4945437908172607\n"
     ]
    },
    {
     "name": "stderr",
     "output_type": "stream",
     "text": [
      "\r",
      "  8%|▊         | 8/100 [00:03<00:43,  2.14it/s]"
     ]
    },
    {
     "name": "stdout",
     "output_type": "stream",
     "text": [
      "Train Acc:89.41%, Test Acc:79.63%\n",
      "\n",
      "Epoch: 8:0,  Loss:1.5640060901641846\n"
     ]
    },
    {
     "name": "stderr",
     "output_type": "stream",
     "text": [
      "\r",
      "  9%|▉         | 9/100 [00:04<00:42,  2.13it/s]"
     ]
    },
    {
     "name": "stdout",
     "output_type": "stream",
     "text": [
      "Train Acc:89.47%, Test Acc:79.63%\n",
      "\n",
      "Epoch: 9:0,  Loss:1.5995876789093018\n"
     ]
    },
    {
     "name": "stderr",
     "output_type": "stream",
     "text": [
      "\r",
      " 10%|█         | 10/100 [00:04<00:42,  2.13it/s]"
     ]
    },
    {
     "name": "stdout",
     "output_type": "stream",
     "text": [
      "Train Acc:89.54%, Test Acc:79.63%\n",
      "\n",
      "Epoch: 10:0,  Loss:1.4946309328079224\n"
     ]
    },
    {
     "name": "stderr",
     "output_type": "stream",
     "text": [
      "\r",
      " 11%|█         | 11/100 [00:05<00:41,  2.13it/s]"
     ]
    },
    {
     "name": "stdout",
     "output_type": "stream",
     "text": [
      "Train Acc:89.64%, Test Acc:79.63%\n",
      "\n",
      "Epoch: 11:0,  Loss:1.5699102878570557\n"
     ]
    },
    {
     "name": "stderr",
     "output_type": "stream",
     "text": [
      "\r",
      " 12%|█▏        | 12/100 [00:05<00:41,  2.14it/s]"
     ]
    },
    {
     "name": "stdout",
     "output_type": "stream",
     "text": [
      "Train Acc:89.72%, Test Acc:79.63%\n",
      "\n",
      "Epoch: 12:0,  Loss:1.495468258857727\n"
     ]
    },
    {
     "name": "stderr",
     "output_type": "stream",
     "text": [
      "\r",
      " 13%|█▎        | 13/100 [00:06<00:40,  2.15it/s]"
     ]
    },
    {
     "name": "stdout",
     "output_type": "stream",
     "text": [
      "Train Acc:89.75%, Test Acc:79.73%\n",
      "\n",
      "Epoch: 13:0,  Loss:1.5993950366973877\n"
     ]
    },
    {
     "name": "stderr",
     "output_type": "stream",
     "text": [
      "\r",
      " 14%|█▍        | 14/100 [00:06<00:39,  2.16it/s]"
     ]
    },
    {
     "name": "stdout",
     "output_type": "stream",
     "text": [
      "Train Acc:89.82%, Test Acc:79.63%\n",
      "\n",
      "Epoch: 14:0,  Loss:1.5617035627365112\n"
     ]
    },
    {
     "name": "stderr",
     "output_type": "stream",
     "text": [
      "\r",
      " 15%|█▌        | 15/100 [00:06<00:39,  2.17it/s]"
     ]
    },
    {
     "name": "stdout",
     "output_type": "stream",
     "text": [
      "Train Acc:89.82%, Test Acc:79.73%\n",
      "\n",
      "Epoch: 15:0,  Loss:1.5635322332382202\n"
     ]
    },
    {
     "name": "stderr",
     "output_type": "stream",
     "text": [
      "\r",
      " 16%|█▌        | 16/100 [00:07<00:38,  2.18it/s]"
     ]
    },
    {
     "name": "stdout",
     "output_type": "stream",
     "text": [
      "Train Acc:89.88%, Test Acc:79.73%\n",
      "\n",
      "Epoch: 16:0,  Loss:1.632506012916565\n"
     ]
    },
    {
     "name": "stderr",
     "output_type": "stream",
     "text": [
      "\r",
      " 17%|█▋        | 17/100 [00:07<00:38,  2.18it/s]"
     ]
    },
    {
     "name": "stdout",
     "output_type": "stream",
     "text": [
      "Train Acc:89.92%, Test Acc:79.73%\n",
      "\n",
      "Epoch: 17:0,  Loss:1.4954824447631836\n"
     ]
    },
    {
     "name": "stderr",
     "output_type": "stream",
     "text": [
      "\r",
      " 18%|█▊        | 18/100 [00:08<00:37,  2.17it/s]"
     ]
    },
    {
     "name": "stdout",
     "output_type": "stream",
     "text": [
      "Train Acc:89.93%, Test Acc:79.73%\n",
      "\n",
      "Epoch: 18:0,  Loss:1.5981481075286865\n"
     ]
    },
    {
     "name": "stderr",
     "output_type": "stream",
     "text": [
      "\r",
      " 19%|█▉        | 19/100 [00:08<00:37,  2.17it/s]"
     ]
    },
    {
     "name": "stdout",
     "output_type": "stream",
     "text": [
      "Train Acc:89.95%, Test Acc:79.73%\n",
      "\n",
      "Epoch: 19:0,  Loss:1.4597315788269043\n"
     ]
    },
    {
     "name": "stderr",
     "output_type": "stream",
     "text": [
      "\r",
      " 20%|██        | 20/100 [00:09<00:36,  2.17it/s]"
     ]
    },
    {
     "name": "stdout",
     "output_type": "stream",
     "text": [
      "Train Acc:90.01%, Test Acc:79.73%\n",
      "\n",
      "Epoch: 20:0,  Loss:1.5287957191467285\n"
     ]
    },
    {
     "name": "stderr",
     "output_type": "stream",
     "text": [
      "\r",
      " 21%|██        | 21/100 [00:09<00:36,  2.17it/s]"
     ]
    },
    {
     "name": "stdout",
     "output_type": "stream",
     "text": [
      "Train Acc:90.00%, Test Acc:79.73%\n",
      "\n",
      "Epoch: 21:0,  Loss:1.5288063287734985\n"
     ]
    },
    {
     "name": "stderr",
     "output_type": "stream",
     "text": [
      "\r",
      " 22%|██▏       | 22/100 [00:10<00:35,  2.17it/s]"
     ]
    },
    {
     "name": "stdout",
     "output_type": "stream",
     "text": [
      "Train Acc:90.05%, Test Acc:79.63%\n",
      "\n",
      "Epoch: 22:0,  Loss:1.4943509101867676\n"
     ]
    },
    {
     "name": "stderr",
     "output_type": "stream",
     "text": [
      "\r",
      " 23%|██▎       | 23/100 [00:10<00:35,  2.16it/s]"
     ]
    },
    {
     "name": "stdout",
     "output_type": "stream",
     "text": [
      "Train Acc:90.06%, Test Acc:79.73%\n",
      "\n",
      "Epoch: 23:0,  Loss:1.563367486000061\n"
     ]
    },
    {
     "name": "stderr",
     "output_type": "stream",
     "text": [
      "\r",
      " 24%|██▍       | 24/100 [00:11<00:35,  2.15it/s]"
     ]
    },
    {
     "name": "stdout",
     "output_type": "stream",
     "text": [
      "Train Acc:90.08%, Test Acc:79.83%\n",
      "\n",
      "Epoch: 24:0,  Loss:1.4942941665649414\n"
     ]
    },
    {
     "name": "stderr",
     "output_type": "stream",
     "text": [
      "\r",
      " 25%|██▌       | 25/100 [00:11<00:34,  2.15it/s]"
     ]
    },
    {
     "name": "stdout",
     "output_type": "stream",
     "text": [
      "Train Acc:90.13%, Test Acc:79.63%\n",
      "\n",
      "Epoch: 25:0,  Loss:1.598175048828125\n"
     ]
    },
    {
     "name": "stderr",
     "output_type": "stream",
     "text": [
      "\r",
      " 26%|██▌       | 26/100 [00:12<00:34,  2.15it/s]"
     ]
    },
    {
     "name": "stdout",
     "output_type": "stream",
     "text": [
      "Train Acc:90.15%, Test Acc:79.83%\n",
      "\n",
      "Epoch: 26:0,  Loss:1.598057746887207\n"
     ]
    },
    {
     "name": "stderr",
     "output_type": "stream",
     "text": [
      "\r",
      " 27%|██▋       | 27/100 [00:12<00:33,  2.16it/s]"
     ]
    },
    {
     "name": "stdout",
     "output_type": "stream",
     "text": [
      "Train Acc:90.15%, Test Acc:79.73%\n",
      "\n",
      "Epoch: 27:0,  Loss:1.5635957717895508\n"
     ]
    },
    {
     "name": "stderr",
     "output_type": "stream",
     "text": [
      "\r",
      " 28%|██▊       | 28/100 [00:13<00:33,  2.14it/s]"
     ]
    },
    {
     "name": "stdout",
     "output_type": "stream",
     "text": [
      "Train Acc:90.16%, Test Acc:79.63%\n",
      "\n",
      "Epoch: 28:0,  Loss:1.459950566291809\n"
     ]
    },
    {
     "name": "stderr",
     "output_type": "stream",
     "text": [
      "\r",
      " 29%|██▉       | 29/100 [00:13<00:33,  2.13it/s]"
     ]
    },
    {
     "name": "stdout",
     "output_type": "stream",
     "text": [
      "Train Acc:90.18%, Test Acc:79.73%\n",
      "\n",
      "Epoch: 29:0,  Loss:1.5981717109680176\n"
     ]
    },
    {
     "name": "stderr",
     "output_type": "stream",
     "text": [
      "\r",
      " 30%|███       | 30/100 [00:13<00:33,  2.10it/s]"
     ]
    },
    {
     "name": "stdout",
     "output_type": "stream",
     "text": [
      "Train Acc:90.21%, Test Acc:79.73%\n",
      "\n",
      "Epoch: 30:0,  Loss:1.6030070781707764\n"
     ]
    },
    {
     "name": "stderr",
     "output_type": "stream",
     "text": [
      "\r",
      " 31%|███       | 31/100 [00:14<00:32,  2.10it/s]"
     ]
    },
    {
     "name": "stdout",
     "output_type": "stream",
     "text": [
      "Train Acc:90.25%, Test Acc:79.83%\n",
      "\n",
      "Epoch: 31:0,  Loss:1.5686981678009033\n"
     ]
    },
    {
     "name": "stderr",
     "output_type": "stream",
     "text": [
      "\r",
      " 32%|███▏      | 32/100 [00:14<00:32,  2.12it/s]"
     ]
    },
    {
     "name": "stdout",
     "output_type": "stream",
     "text": [
      "Train Acc:90.28%, Test Acc:79.83%\n",
      "\n",
      "Epoch: 32:0,  Loss:1.538856029510498\n"
     ]
    },
    {
     "name": "stderr",
     "output_type": "stream",
     "text": [
      "\r",
      " 33%|███▎      | 33/100 [00:15<00:31,  2.11it/s]"
     ]
    },
    {
     "name": "stdout",
     "output_type": "stream",
     "text": [
      "Train Acc:90.34%, Test Acc:79.83%\n",
      "\n",
      "Epoch: 33:0,  Loss:1.564042329788208\n"
     ]
    },
    {
     "name": "stderr",
     "output_type": "stream",
     "text": [
      "\r",
      " 34%|███▍      | 34/100 [00:15<00:30,  2.13it/s]"
     ]
    },
    {
     "name": "stdout",
     "output_type": "stream",
     "text": [
      "Train Acc:90.43%, Test Acc:80.02%\n",
      "\n",
      "Epoch: 34:0,  Loss:1.4948999881744385\n"
     ]
    },
    {
     "name": "stderr",
     "output_type": "stream",
     "text": [
      "\r",
      " 35%|███▌      | 35/100 [00:16<00:30,  2.14it/s]"
     ]
    },
    {
     "name": "stdout",
     "output_type": "stream",
     "text": [
      "Train Acc:90.46%, Test Acc:79.63%\n",
      "\n",
      "Epoch: 35:0,  Loss:1.5635790824890137\n"
     ]
    },
    {
     "name": "stderr",
     "output_type": "stream",
     "text": [
      "\r",
      " 36%|███▌      | 36/100 [00:16<00:29,  2.14it/s]"
     ]
    },
    {
     "name": "stdout",
     "output_type": "stream",
     "text": [
      "Train Acc:90.46%, Test Acc:79.73%\n",
      "\n",
      "Epoch: 36:0,  Loss:1.5983357429504395\n"
     ]
    },
    {
     "name": "stderr",
     "output_type": "stream",
     "text": [
      "\r",
      " 37%|███▋      | 37/100 [00:17<00:29,  2.15it/s]"
     ]
    },
    {
     "name": "stdout",
     "output_type": "stream",
     "text": [
      "Train Acc:90.51%, Test Acc:79.83%\n",
      "\n",
      "Epoch: 37:0,  Loss:1.5981898307800293\n"
     ]
    },
    {
     "name": "stderr",
     "output_type": "stream",
     "text": [
      "\r",
      " 38%|███▊      | 38/100 [00:17<00:28,  2.15it/s]"
     ]
    },
    {
     "name": "stdout",
     "output_type": "stream",
     "text": [
      "Train Acc:90.52%, Test Acc:79.73%\n",
      "\n",
      "Epoch: 38:0,  Loss:1.5303162336349487\n"
     ]
    },
    {
     "name": "stderr",
     "output_type": "stream",
     "text": [
      "\r",
      " 39%|███▉      | 39/100 [00:18<00:28,  2.16it/s]"
     ]
    },
    {
     "name": "stdout",
     "output_type": "stream",
     "text": [
      "Train Acc:90.57%, Test Acc:79.92%\n",
      "\n",
      "Epoch: 39:0,  Loss:1.5303115844726562\n"
     ]
    },
    {
     "name": "stderr",
     "output_type": "stream",
     "text": [
      "\r",
      " 40%|████      | 40/100 [00:18<00:27,  2.17it/s]"
     ]
    },
    {
     "name": "stdout",
     "output_type": "stream",
     "text": [
      "Train Acc:90.62%, Test Acc:79.83%\n",
      "\n",
      "Epoch: 40:0,  Loss:1.6325057744979858\n"
     ]
    },
    {
     "name": "stderr",
     "output_type": "stream",
     "text": [
      "\r",
      " 41%|████      | 41/100 [00:19<00:27,  2.15it/s]"
     ]
    },
    {
     "name": "stdout",
     "output_type": "stream",
     "text": [
      "Train Acc:90.66%, Test Acc:79.73%\n",
      "\n",
      "Epoch: 41:0,  Loss:1.4951022863388062\n"
     ]
    },
    {
     "name": "stderr",
     "output_type": "stream",
     "text": [
      "\r",
      " 42%|████▏     | 42/100 [00:19<00:26,  2.17it/s]"
     ]
    },
    {
     "name": "stdout",
     "output_type": "stream",
     "text": [
      "Train Acc:90.77%, Test Acc:79.73%\n",
      "\n",
      "Epoch: 42:0,  Loss:1.529067039489746\n"
     ]
    },
    {
     "name": "stderr",
     "output_type": "stream",
     "text": [
      "\r",
      " 43%|████▎     | 43/100 [00:20<00:26,  2.16it/s]"
     ]
    },
    {
     "name": "stdout",
     "output_type": "stream",
     "text": [
      "Train Acc:90.77%, Test Acc:79.63%\n",
      "\n",
      "Epoch: 43:0,  Loss:1.494343638420105\n"
     ]
    },
    {
     "name": "stderr",
     "output_type": "stream",
     "text": [
      "\r",
      " 44%|████▍     | 44/100 [00:20<00:26,  2.15it/s]"
     ]
    },
    {
     "name": "stdout",
     "output_type": "stream",
     "text": [
      "Train Acc:90.80%, Test Acc:79.83%\n",
      "\n",
      "Epoch: 44:0,  Loss:1.5979444980621338\n"
     ]
    },
    {
     "name": "stderr",
     "output_type": "stream",
     "text": [
      "\r",
      " 45%|████▌     | 45/100 [00:20<00:25,  2.14it/s]"
     ]
    },
    {
     "name": "stdout",
     "output_type": "stream",
     "text": [
      "Train Acc:90.84%, Test Acc:79.92%\n",
      "\n",
      "Epoch: 45:0,  Loss:1.5608885288238525\n"
     ]
    },
    {
     "name": "stderr",
     "output_type": "stream",
     "text": [
      "\r",
      " 46%|████▌     | 46/100 [00:21<00:25,  2.15it/s]"
     ]
    },
    {
     "name": "stdout",
     "output_type": "stream",
     "text": [
      "Train Acc:90.92%, Test Acc:79.63%\n",
      "\n",
      "Epoch: 46:0,  Loss:1.5980616807937622\n"
     ]
    },
    {
     "name": "stderr",
     "output_type": "stream",
     "text": [
      "\r",
      " 47%|████▋     | 47/100 [00:21<00:24,  2.15it/s]"
     ]
    },
    {
     "name": "stdout",
     "output_type": "stream",
     "text": [
      "Train Acc:90.94%, Test Acc:79.73%\n",
      "\n",
      "Epoch: 47:0,  Loss:1.5292729139328003\n"
     ]
    },
    {
     "name": "stderr",
     "output_type": "stream",
     "text": [
      "\r",
      " 48%|████▊     | 48/100 [00:22<00:24,  2.15it/s]"
     ]
    },
    {
     "name": "stdout",
     "output_type": "stream",
     "text": [
      "Train Acc:90.97%, Test Acc:79.63%\n",
      "\n",
      "Epoch: 48:0,  Loss:1.529570460319519\n"
     ]
    },
    {
     "name": "stderr",
     "output_type": "stream",
     "text": [
      "\r",
      " 49%|████▉     | 49/100 [00:22<00:23,  2.15it/s]"
     ]
    },
    {
     "name": "stdout",
     "output_type": "stream",
     "text": [
      "Train Acc:90.95%, Test Acc:79.73%\n",
      "\n",
      "Epoch: 49:0,  Loss:1.5289233922958374\n"
     ]
    },
    {
     "name": "stderr",
     "output_type": "stream",
     "text": [
      "\r",
      " 50%|█████     | 50/100 [00:23<00:23,  2.15it/s]"
     ]
    },
    {
     "name": "stdout",
     "output_type": "stream",
     "text": [
      "Train Acc:90.99%, Test Acc:79.63%\n",
      "\n",
      "Epoch: 50:0,  Loss:1.494339108467102\n"
     ]
    },
    {
     "name": "stderr",
     "output_type": "stream",
     "text": [
      "\r",
      " 51%|█████     | 51/100 [00:23<00:22,  2.15it/s]"
     ]
    },
    {
     "name": "stdout",
     "output_type": "stream",
     "text": [
      "Train Acc:91.00%, Test Acc:79.63%\n",
      "\n",
      "Epoch: 51:0,  Loss:1.4942917823791504\n"
     ]
    },
    {
     "name": "stderr",
     "output_type": "stream",
     "text": [
      "\r",
      " 52%|█████▏    | 52/100 [00:24<00:22,  2.15it/s]"
     ]
    },
    {
     "name": "stdout",
     "output_type": "stream",
     "text": [
      "Train Acc:91.00%, Test Acc:79.54%\n",
      "\n",
      "Epoch: 52:0,  Loss:1.529418706893921\n"
     ]
    },
    {
     "name": "stderr",
     "output_type": "stream",
     "text": [
      "\r",
      " 53%|█████▎    | 53/100 [00:24<00:22,  2.14it/s]"
     ]
    },
    {
     "name": "stdout",
     "output_type": "stream",
     "text": [
      "Train Acc:91.05%, Test Acc:79.54%\n",
      "\n",
      "Epoch: 53:0,  Loss:1.5272467136383057\n"
     ]
    },
    {
     "name": "stderr",
     "output_type": "stream",
     "text": [
      "\r",
      " 54%|█████▍    | 54/100 [00:25<00:21,  2.14it/s]"
     ]
    },
    {
     "name": "stdout",
     "output_type": "stream",
     "text": [
      "Train Acc:91.08%, Test Acc:79.73%\n",
      "\n",
      "Epoch: 54:0,  Loss:1.5364103317260742\n"
     ]
    },
    {
     "name": "stderr",
     "output_type": "stream",
     "text": [
      "\r",
      " 55%|█████▌    | 55/100 [00:25<00:21,  2.13it/s]"
     ]
    },
    {
     "name": "stdout",
     "output_type": "stream",
     "text": [
      "Train Acc:91.13%, Test Acc:79.54%\n",
      "\n",
      "Epoch: 55:0,  Loss:1.5284416675567627\n"
     ]
    },
    {
     "name": "stderr",
     "output_type": "stream",
     "text": [
      "\r",
      " 56%|█████▌    | 56/100 [00:26<00:20,  2.13it/s]"
     ]
    },
    {
     "name": "stdout",
     "output_type": "stream",
     "text": [
      "Train Acc:91.18%, Test Acc:79.73%\n",
      "\n",
      "Epoch: 56:0,  Loss:1.5289238691329956\n"
     ]
    },
    {
     "name": "stderr",
     "output_type": "stream",
     "text": [
      "\r",
      " 57%|█████▋    | 57/100 [00:26<00:20,  2.14it/s]"
     ]
    },
    {
     "name": "stdout",
     "output_type": "stream",
     "text": [
      "Train Acc:91.22%, Test Acc:79.54%\n",
      "\n",
      "Epoch: 57:0,  Loss:1.5286961793899536\n"
     ]
    },
    {
     "name": "stderr",
     "output_type": "stream",
     "text": [
      "\r",
      " 58%|█████▊    | 58/100 [00:27<00:19,  2.14it/s]"
     ]
    },
    {
     "name": "stdout",
     "output_type": "stream",
     "text": [
      "Train Acc:91.27%, Test Acc:79.83%\n",
      "\n",
      "Epoch: 58:0,  Loss:1.4943811893463135\n"
     ]
    },
    {
     "name": "stderr",
     "output_type": "stream",
     "text": [
      "\r",
      " 59%|█████▉    | 59/100 [00:27<00:19,  2.13it/s]"
     ]
    },
    {
     "name": "stdout",
     "output_type": "stream",
     "text": [
      "Train Acc:91.20%, Test Acc:79.63%\n",
      "\n",
      "Epoch: 59:0,  Loss:1.49566650390625\n"
     ]
    },
    {
     "name": "stderr",
     "output_type": "stream",
     "text": [
      "\r",
      " 60%|██████    | 60/100 [00:27<00:18,  2.12it/s]"
     ]
    },
    {
     "name": "stdout",
     "output_type": "stream",
     "text": [
      "Train Acc:91.20%, Test Acc:79.44%\n",
      "\n",
      "Epoch: 60:0,  Loss:1.4604198932647705\n"
     ]
    },
    {
     "name": "stderr",
     "output_type": "stream",
     "text": [
      "\r",
      " 61%|██████    | 61/100 [00:28<00:18,  2.08it/s]"
     ]
    },
    {
     "name": "stdout",
     "output_type": "stream",
     "text": [
      "Train Acc:91.30%, Test Acc:79.83%\n",
      "\n",
      "Epoch: 61:0,  Loss:1.5678465366363525\n"
     ]
    },
    {
     "name": "stderr",
     "output_type": "stream",
     "text": [
      "\r",
      " 62%|██████▏   | 62/100 [00:28<00:18,  2.08it/s]"
     ]
    },
    {
     "name": "stdout",
     "output_type": "stream",
     "text": [
      "Train Acc:91.31%, Test Acc:79.54%\n",
      "\n",
      "Epoch: 62:0,  Loss:1.5292766094207764\n"
     ]
    },
    {
     "name": "stderr",
     "output_type": "stream",
     "text": [
      "\r",
      " 63%|██████▎   | 63/100 [00:29<00:17,  2.12it/s]"
     ]
    },
    {
     "name": "stdout",
     "output_type": "stream",
     "text": [
      "Train Acc:91.33%, Test Acc:79.73%\n",
      "\n",
      "Epoch: 63:0,  Loss:1.598141074180603\n"
     ]
    },
    {
     "name": "stderr",
     "output_type": "stream",
     "text": [
      "\r",
      " 64%|██████▍   | 64/100 [00:29<00:16,  2.13it/s]"
     ]
    },
    {
     "name": "stdout",
     "output_type": "stream",
     "text": [
      "Train Acc:91.35%, Test Acc:79.83%\n",
      "\n",
      "Epoch: 64:0,  Loss:1.5994025468826294\n"
     ]
    },
    {
     "name": "stderr",
     "output_type": "stream",
     "text": [
      "\r",
      " 65%|██████▌   | 65/100 [00:30<00:16,  2.14it/s]"
     ]
    },
    {
     "name": "stdout",
     "output_type": "stream",
     "text": [
      "Train Acc:91.45%, Test Acc:79.63%\n",
      "\n",
      "Epoch: 65:0,  Loss:1.565717339515686\n"
     ]
    },
    {
     "name": "stderr",
     "output_type": "stream",
     "text": [
      "\r",
      " 66%|██████▌   | 66/100 [00:30<00:15,  2.15it/s]"
     ]
    },
    {
     "name": "stdout",
     "output_type": "stream",
     "text": [
      "Train Acc:91.46%, Test Acc:79.54%\n",
      "\n",
      "Epoch: 66:0,  Loss:1.5745000839233398\n"
     ]
    },
    {
     "name": "stderr",
     "output_type": "stream",
     "text": [
      "\r",
      " 67%|██████▋   | 67/100 [00:31<00:15,  2.16it/s]"
     ]
    },
    {
     "name": "stdout",
     "output_type": "stream",
     "text": [
      "Train Acc:91.54%, Test Acc:79.25%\n",
      "\n",
      "Epoch: 67:0,  Loss:1.5983601808547974\n"
     ]
    },
    {
     "name": "stderr",
     "output_type": "stream",
     "text": [
      "\r",
      " 68%|██████▊   | 68/100 [00:31<00:14,  2.14it/s]"
     ]
    },
    {
     "name": "stdout",
     "output_type": "stream",
     "text": [
      "Train Acc:91.59%, Test Acc:79.34%\n",
      "\n",
      "Epoch: 68:0,  Loss:1.5636452436447144\n"
     ]
    },
    {
     "name": "stderr",
     "output_type": "stream",
     "text": [
      "\r",
      " 69%|██████▉   | 69/100 [00:32<00:14,  2.12it/s]"
     ]
    },
    {
     "name": "stdout",
     "output_type": "stream",
     "text": [
      "Train Acc:91.73%, Test Acc:79.83%\n",
      "\n",
      "Epoch: 69:0,  Loss:1.6670317649841309\n"
     ]
    },
    {
     "name": "stderr",
     "output_type": "stream",
     "text": [
      "\r",
      " 70%|███████   | 70/100 [00:32<00:14,  2.13it/s]"
     ]
    },
    {
     "name": "stdout",
     "output_type": "stream",
     "text": [
      "Train Acc:91.76%, Test Acc:79.63%\n",
      "\n",
      "Epoch: 70:0,  Loss:1.6096718311309814\n"
     ]
    },
    {
     "name": "stderr",
     "output_type": "stream",
     "text": [
      "\r",
      " 71%|███████   | 71/100 [00:33<00:13,  2.13it/s]"
     ]
    },
    {
     "name": "stdout",
     "output_type": "stream",
     "text": [
      "Train Acc:91.77%, Test Acc:79.73%\n",
      "\n",
      "Epoch: 71:0,  Loss:1.5289146900177002\n"
     ]
    },
    {
     "name": "stderr",
     "output_type": "stream",
     "text": [
      "\r",
      " 72%|███████▏  | 72/100 [00:33<00:13,  2.14it/s]"
     ]
    },
    {
     "name": "stdout",
     "output_type": "stream",
     "text": [
      "Train Acc:91.86%, Test Acc:79.54%\n",
      "\n",
      "Epoch: 72:0,  Loss:1.5280241966247559\n"
     ]
    },
    {
     "name": "stderr",
     "output_type": "stream",
     "text": [
      "\r",
      " 73%|███████▎  | 73/100 [00:34<00:12,  2.15it/s]"
     ]
    },
    {
     "name": "stdout",
     "output_type": "stream",
     "text": [
      "Train Acc:91.87%, Test Acc:79.83%\n",
      "\n",
      "Epoch: 73:0,  Loss:1.5288535356521606\n"
     ]
    },
    {
     "name": "stderr",
     "output_type": "stream",
     "text": [
      "\r",
      " 74%|███████▍  | 74/100 [00:34<00:12,  2.16it/s]"
     ]
    },
    {
     "name": "stdout",
     "output_type": "stream",
     "text": [
      "Train Acc:91.97%, Test Acc:79.73%\n",
      "\n",
      "Epoch: 74:0,  Loss:1.4797977209091187\n"
     ]
    },
    {
     "name": "stderr",
     "output_type": "stream",
     "text": [
      "\r",
      " 75%|███████▌  | 75/100 [00:35<00:11,  2.14it/s]"
     ]
    },
    {
     "name": "stdout",
     "output_type": "stream",
     "text": [
      "Train Acc:91.96%, Test Acc:79.83%\n",
      "\n",
      "Epoch: 75:0,  Loss:1.5298309326171875\n"
     ]
    },
    {
     "name": "stderr",
     "output_type": "stream",
     "text": [
      "\r",
      " 76%|███████▌  | 76/100 [00:35<00:11,  2.13it/s]"
     ]
    },
    {
     "name": "stdout",
     "output_type": "stream",
     "text": [
      "Train Acc:91.99%, Test Acc:79.73%\n",
      "\n",
      "Epoch: 76:0,  Loss:1.6670016050338745\n"
     ]
    },
    {
     "name": "stderr",
     "output_type": "stream",
     "text": [
      "\r",
      " 77%|███████▋  | 77/100 [00:35<00:10,  2.14it/s]"
     ]
    },
    {
     "name": "stdout",
     "output_type": "stream",
     "text": [
      "Train Acc:92.01%, Test Acc:79.83%\n",
      "\n",
      "Epoch: 77:0,  Loss:1.4982527494430542\n"
     ]
    },
    {
     "name": "stderr",
     "output_type": "stream",
     "text": [
      "\r",
      " 78%|███████▊  | 78/100 [00:36<00:10,  2.11it/s]"
     ]
    },
    {
     "name": "stdout",
     "output_type": "stream",
     "text": [
      "Train Acc:91.99%, Test Acc:79.83%\n",
      "\n",
      "Epoch: 78:0,  Loss:1.5298947095870972\n"
     ]
    },
    {
     "name": "stderr",
     "output_type": "stream",
     "text": [
      "\r",
      " 79%|███████▉  | 79/100 [00:36<00:09,  2.12it/s]"
     ]
    },
    {
     "name": "stdout",
     "output_type": "stream",
     "text": [
      "Train Acc:92.02%, Test Acc:79.92%\n",
      "\n",
      "Epoch: 79:0,  Loss:1.4974453449249268\n"
     ]
    },
    {
     "name": "stderr",
     "output_type": "stream",
     "text": [
      "\r",
      " 80%|████████  | 80/100 [00:37<00:09,  2.15it/s]"
     ]
    },
    {
     "name": "stdout",
     "output_type": "stream",
     "text": [
      "Train Acc:92.09%, Test Acc:79.73%\n",
      "\n",
      "Epoch: 80:0,  Loss:1.5635071992874146\n"
     ]
    },
    {
     "name": "stderr",
     "output_type": "stream",
     "text": [
      "\r",
      " 81%|████████  | 81/100 [00:37<00:08,  2.14it/s]"
     ]
    },
    {
     "name": "stdout",
     "output_type": "stream",
     "text": [
      "Train Acc:92.10%, Test Acc:79.54%\n",
      "\n",
      "Epoch: 81:0,  Loss:1.5290496349334717\n"
     ]
    },
    {
     "name": "stderr",
     "output_type": "stream",
     "text": [
      "\r",
      " 82%|████████▏ | 82/100 [00:38<00:08,  2.16it/s]"
     ]
    },
    {
     "name": "stdout",
     "output_type": "stream",
     "text": [
      "Train Acc:92.14%, Test Acc:79.73%\n",
      "\n",
      "Epoch: 82:0,  Loss:1.4597971439361572\n"
     ]
    },
    {
     "name": "stderr",
     "output_type": "stream",
     "text": [
      "\r",
      " 83%|████████▎ | 83/100 [00:38<00:07,  2.17it/s]"
     ]
    },
    {
     "name": "stdout",
     "output_type": "stream",
     "text": [
      "Train Acc:92.14%, Test Acc:79.83%\n",
      "\n",
      "Epoch: 83:0,  Loss:1.564349889755249\n"
     ]
    },
    {
     "name": "stderr",
     "output_type": "stream",
     "text": [
      "\r",
      " 84%|████████▍ | 84/100 [00:39<00:07,  2.15it/s]"
     ]
    },
    {
     "name": "stdout",
     "output_type": "stream",
     "text": [
      "Train Acc:92.14%, Test Acc:79.73%\n",
      "\n",
      "Epoch: 84:0,  Loss:1.5254312753677368\n"
     ]
    },
    {
     "name": "stderr",
     "output_type": "stream",
     "text": [
      "\r",
      " 85%|████████▌ | 85/100 [00:39<00:07,  2.13it/s]"
     ]
    },
    {
     "name": "stdout",
     "output_type": "stream",
     "text": [
      "Train Acc:92.17%, Test Acc:79.83%\n",
      "\n",
      "Epoch: 85:0,  Loss:1.5974905490875244\n"
     ]
    },
    {
     "name": "stderr",
     "output_type": "stream",
     "text": [
      "\r",
      " 86%|████████▌ | 86/100 [00:40<00:06,  2.15it/s]"
     ]
    },
    {
     "name": "stdout",
     "output_type": "stream",
     "text": [
      "Train Acc:92.15%, Test Acc:79.73%\n",
      "\n",
      "Epoch: 86:0,  Loss:1.5981483459472656\n"
     ]
    },
    {
     "name": "stderr",
     "output_type": "stream",
     "text": [
      "\r",
      " 87%|████████▋ | 87/100 [00:40<00:06,  2.16it/s]"
     ]
    },
    {
     "name": "stdout",
     "output_type": "stream",
     "text": [
      "Train Acc:92.19%, Test Acc:80.02%\n",
      "\n",
      "Epoch: 87:0,  Loss:1.494152307510376\n"
     ]
    },
    {
     "name": "stderr",
     "output_type": "stream",
     "text": [
      "\r",
      " 88%|████████▊ | 88/100 [00:41<00:05,  2.18it/s]"
     ]
    },
    {
     "name": "stdout",
     "output_type": "stream",
     "text": [
      "Train Acc:92.20%, Test Acc:79.83%\n",
      "\n",
      "Epoch: 88:0,  Loss:1.5633926391601562\n"
     ]
    },
    {
     "name": "stderr",
     "output_type": "stream",
     "text": [
      "\r",
      " 89%|████████▉ | 89/100 [00:41<00:05,  2.18it/s]"
     ]
    },
    {
     "name": "stdout",
     "output_type": "stream",
     "text": [
      "Train Acc:92.22%, Test Acc:79.92%\n",
      "\n",
      "Epoch: 89:0,  Loss:1.5635005235671997\n"
     ]
    },
    {
     "name": "stderr",
     "output_type": "stream",
     "text": [
      "\r",
      " 90%|█████████ | 90/100 [00:41<00:04,  2.18it/s]"
     ]
    },
    {
     "name": "stdout",
     "output_type": "stream",
     "text": [
      "Train Acc:92.20%, Test Acc:79.83%\n",
      "\n",
      "Epoch: 90:0,  Loss:1.4948830604553223\n"
     ]
    },
    {
     "name": "stderr",
     "output_type": "stream",
     "text": [
      "\r",
      " 91%|█████████ | 91/100 [00:42<00:04,  2.18it/s]"
     ]
    },
    {
     "name": "stdout",
     "output_type": "stream",
     "text": [
      "Train Acc:92.24%, Test Acc:79.63%\n",
      "\n",
      "Epoch: 91:0,  Loss:1.5545822381973267\n"
     ]
    },
    {
     "name": "stderr",
     "output_type": "stream",
     "text": [
      "\r",
      " 92%|█████████▏| 92/100 [00:42<00:03,  2.19it/s]"
     ]
    },
    {
     "name": "stdout",
     "output_type": "stream",
     "text": [
      "Train Acc:92.24%, Test Acc:79.73%\n",
      "\n",
      "Epoch: 92:0,  Loss:1.5635292530059814\n"
     ]
    },
    {
     "name": "stderr",
     "output_type": "stream",
     "text": [
      "\r",
      " 93%|█████████▎| 93/100 [00:43<00:03,  2.17it/s]"
     ]
    },
    {
     "name": "stdout",
     "output_type": "stream",
     "text": [
      "Train Acc:92.25%, Test Acc:79.83%\n",
      "\n",
      "Epoch: 93:0,  Loss:1.598975419998169\n"
     ]
    },
    {
     "name": "stderr",
     "output_type": "stream",
     "text": [
      "\r",
      " 94%|█████████▍| 94/100 [00:43<00:02,  2.16it/s]"
     ]
    },
    {
     "name": "stdout",
     "output_type": "stream",
     "text": [
      "Train Acc:92.27%, Test Acc:79.73%\n",
      "\n",
      "Epoch: 94:0,  Loss:1.5023702383041382\n"
     ]
    },
    {
     "name": "stderr",
     "output_type": "stream",
     "text": [
      "\r",
      " 95%|█████████▌| 95/100 [00:44<00:02,  2.17it/s]"
     ]
    },
    {
     "name": "stdout",
     "output_type": "stream",
     "text": [
      "Train Acc:92.25%, Test Acc:79.73%\n",
      "\n",
      "Epoch: 95:0,  Loss:1.4597516059875488\n"
     ]
    },
    {
     "name": "stderr",
     "output_type": "stream",
     "text": [
      "\r",
      " 96%|█████████▌| 96/100 [00:44<00:01,  2.17it/s]"
     ]
    },
    {
     "name": "stdout",
     "output_type": "stream",
     "text": [
      "Train Acc:92.25%, Test Acc:79.73%\n",
      "\n",
      "Epoch: 96:0,  Loss:1.4598597288131714\n"
     ]
    },
    {
     "name": "stderr",
     "output_type": "stream",
     "text": [
      "\r",
      " 97%|█████████▋| 97/100 [00:45<00:01,  2.18it/s]"
     ]
    },
    {
     "name": "stdout",
     "output_type": "stream",
     "text": [
      "Train Acc:92.28%, Test Acc:79.83%\n",
      "\n",
      "Epoch: 97:0,  Loss:1.494232416152954\n"
     ]
    },
    {
     "name": "stderr",
     "output_type": "stream",
     "text": [
      "\r",
      " 98%|█████████▊| 98/100 [00:45<00:00,  2.16it/s]"
     ]
    },
    {
     "name": "stdout",
     "output_type": "stream",
     "text": [
      "Train Acc:92.28%, Test Acc:79.73%\n",
      "\n",
      "Epoch: 98:0,  Loss:1.494183897972107\n"
     ]
    },
    {
     "name": "stderr",
     "output_type": "stream",
     "text": [
      "\r",
      " 99%|█████████▉| 99/100 [00:46<00:00,  2.16it/s]"
     ]
    },
    {
     "name": "stdout",
     "output_type": "stream",
     "text": [
      "Train Acc:92.33%, Test Acc:80.02%\n",
      "\n",
      "Epoch: 99:0,  Loss:1.5290873050689697\n"
     ]
    },
    {
     "name": "stderr",
     "output_type": "stream",
     "text": [
      "100%|██████████| 100/100 [00:46<00:00,  2.15it/s]"
     ]
    },
    {
     "name": "stdout",
     "output_type": "stream",
     "text": [
      "Train Acc:92.37%, Test Acc:79.92%\n",
      "\n",
      "\t-> MAX Train Acc 92.36716565224543 ; Test Acc 80.01930501930502\n"
     ]
    },
    {
     "name": "stderr",
     "output_type": "stream",
     "text": [
      "\n"
     ]
    }
   ],
   "source": [
    "alt_node.train_classifier_4(100)"
   ]
  },
  {
   "cell_type": "code",
   "execution_count": 84,
   "metadata": {
    "scrolled": true
   },
   "outputs": [
    {
     "name": "stdout",
     "output_type": "stream",
     "text": [
      "Keeping only N=4/14 classifiers.\n",
      "Hard inference on the data !\n",
      "idx: 0\tout: 2 \t acc: 92.019 \tclasses:[0, 1, 2, 3, 4, 6, 8]\n",
      "idx: 1\tout: 6 \t acc: 93.878 \tclasses:[0, 4, 6, 8]\n",
      "idx: 2\tout: 0 \t acc: 86.667 \tclasses:[0, 3, 4, 6]\n",
      "idx: 3\tout: 2 \t acc: 91.980 \tclasses:[0, 1, 2, 3, 4, 6, 8]\n",
      "Accuracy: 0.920052640236881\n"
     ]
    },
    {
     "data": {
      "text/plain": [
       "(tensor([[ 0.1455,  1.1762, -0.9857,  ..., -0.5976, -0.2704,  0.3858],\n",
       "         [ 7.3320,  3.8501, -7.7102,  ..., 11.8963,  2.4691, -8.7942],\n",
       "         [-1.1445,  0.8117, -1.4311,  ..., -1.1228,  2.7821, -4.9286],\n",
       "         ...,\n",
       "         [ 6.2710,  1.5569, -4.3877,  ..., -0.3042,  2.7452, -6.0711],\n",
       "         [ 2.4955, -6.9326, -1.0975,  ...,  3.4430,  2.0959, -0.2941],\n",
       "         [-4.2744,  0.9332,  7.0768,  ..., -4.5668, -2.9037, 10.1637]]),\n",
       " tensor([2, 2, 4,  ..., 2, 2, 2]),\n",
       " tensor([[ 2.7482,  1.1513, -7.5349,  ...,  1.8878,  4.4675, -7.0985],\n",
       "         [ 0.7950,  4.5225,  8.4374,  ...,  5.3626, -5.5476, 12.9715],\n",
       "         [ 2.8353,  5.1329,  2.7650,  ..., -0.5748, -1.0710,  5.3496],\n",
       "         ...,\n",
       "         [ 3.2668, -0.4225,  2.4017,  ...,  0.9488, -2.7204,  0.7515],\n",
       "         [-1.8208,  1.0841,  5.7970,  ..., -1.3937, -6.2373, 10.9855],\n",
       "         [-2.7888,  3.7916,  5.9134,  ..., -5.4413, -1.2250,  9.2357]]),\n",
       " tensor([2, 2, 4,  ..., 6, 2, 4]))"
      ]
     },
     "execution_count": 84,
     "metadata": {},
     "output_type": "execute_result"
    }
   ],
   "source": [
    "alt_node.freeze_and_compute_stats_5(MIN_POINTS)"
   ]
  },
  {
   "cell_type": "code",
   "execution_count": 85,
   "metadata": {},
   "outputs": [
    {
     "name": "stdout",
     "output_type": "stream",
     "text": [
      "[, 0] : Train -> 0.9202 Test -> 0.7970, NUM: 2957, classes: 2:[0, 1, 2, 3, 4, 6, 8]\n",
      "[, 1] : Train -> 0.9388 Test -> 0.5000, NUM: 147, classes: 6:[0, 4, 6, 8]\n",
      "[, 2] : Train -> 0.8667 Test -> 0.2857, NUM: 45, classes: 0:[0, 3, 4, 6]\n",
      "[, 3] : Train -> 0.9198 Test -> 0.8180, NUM: 2930, classes: 2:[0, 1, 2, 3, 4, 6, 8]\n"
     ]
    }
   ],
   "source": [
    "alt_node.display_stats(\"\")"
   ]
  },
  {
   "cell_type": "code",
   "execution_count": 148,
   "metadata": {},
   "outputs": [],
   "source": [
    "### replace the leaf node with Local Classifier Node\n",
    "parent.children[indx[-1]] = alt_node"
   ]
  },
  {
   "cell_type": "code",
   "execution_count": 149,
   "metadata": {},
   "outputs": [
    {
     "name": "stdout",
     "output_type": "stream",
     "text": [
      "[0, 0, 0, 0] : Train -> 0.8276 Test -> 0.6000, NUM: 29, classes: 1:[1, 3, 6, 8]\n",
      "[0, 0, 0, 1] : Train -> 0.8682 Test -> 0.6667, NUM: 220, classes: 3:[0, 1, 2, 3, 4, 6, 8]\n",
      "[0, 0, 0, 2] : Train -> 0.8225 Test -> 0.7833, NUM: 648, classes: 4:[0, 2, 3, 4, 6, 8]\n",
      "[0, 0, 0, 3] : Train -> 0.9841 Test -> 0.9121, NUM: 628, classes: 5:[3, 4, 5, 7, 9]\n",
      "[0, 0, 0, 4] : Train -> 0.8671 Test -> 0.6310, NUM: 474, classes: 6:[0, 1, 2, 3, 4, 6, 8]\n",
      "[0, 0, 0, 5] : Train -> 0.9785 Test -> 0.9697, NUM: 279, classes: 8:[0, 5, 6, 8]\n",
      "[0, 0, 0, 6] : Train -> 0.9669 Test -> 0.9684, NUM: 635, classes: 9:[5, 6, 7, 8, 9]\n",
      "[0, 0, 0, 7] : Train -> 0.8000 Test -> 0.7603, NUM: 690, classes: 0:[0, 1, 2, 3, 4, 6, 8]\n",
      "[0, 0, 0, 8] : Train -> 0.9938 Test -> 0.9612, NUM: 649, classes: 1:[1, 2, 3, 8]\n",
      "[0, 0, 0, 9] : Train -> 0.8257 Test -> 0.7438, NUM: 637, classes: 2:[0, 2, 3, 4, 6]\n",
      "[0, 0, 0, 10] : Train -> 0.9540 Test -> 0.9206, NUM: 413, classes: 3:[0, 1, 2, 3, 4, 6]\n",
      "[0, 0, 0, 11] : Train -> 0.9830 Test -> 0.8812, NUM: 647, classes: 7:[5, 7, 9]\n",
      "[0, 0, 0, 12] : Train -> 0.9256 Test -> 0.8750, NUM: 336, classes: 8:[0, 2, 3, 5, 6, 7, 8, 9]\n",
      "[0, 0, 1] : Train -> 0.7640 Test -> 0.7778, NUM: 89, classes: 6:[0, 1, 2, 4, 6, 8]\n",
      "[0, 0, 2] : Train -> 0.4286 Test -> 0.0000, NUM: 14, classes: 6:[0, 2, 3, 6]\n",
      "[0, 0, 3] : Train -> 0.8824 Test -> 0.5000, NUM: 17, classes: 6:[0, 6, 8]\n",
      "[0, 0, 4] : Train -> 0.7388 Test -> 0.6042, NUM: 291, classes: 6:[0, 1, 2, 3, 4, 6, 8]\n",
      "[0, 0, 5] : Train -> 0.5294 Test -> 0.3333, NUM: 17, classes: 6:[0, 1, 2, 6]\n",
      "[0, 0, 6] : Train -> 0.7580 Test -> 0.5098, NUM: 281, classes: 6:[0, 1, 2, 3, 4, 6, 8]\n",
      "[0, 0, 7] : Train -> 0.4706 Test -> 0.5455, NUM: 34, classes: 6:[0, 3, 6, 8]\n",
      "[0, 0, 8] : Train -> 0.7727 Test -> 0.6522, NUM: 330, classes: 6:[0, 1, 2, 3, 6, 8]\n",
      "[0, 0, 9] : Train -> 0.7103 Test -> 0.8000, NUM: 107, classes: 6:[0, 2, 3, 4, 6, 8, 9]\n",
      "[0, 1] : Train -> 0.9825 Test -> 0.9766, NUM: 5937, classes: 1:[0, 1, 2, 3, 4, 5, 6, 8, 9]\n",
      "[0, 2, 0] : Train -> 0.8551 Test -> 0.7796, NUM: 5313, classes: 2:[0, 1, 2, 3, 4, 6, 8]\n",
      "[0, 2, 1] : Train -> 0.8088 Test -> 0.6667, NUM: 68, classes: 6:[2, 3, 4, 6, 8]\n",
      "[0, 2, 2] : Train -> 0.8386 Test -> 0.5467, NUM: 440, classes: 6:[0, 2, 3, 4, 6, 8]\n",
      "[0, 3] : Train -> 0.8548 Test -> 0.8208, NUM: 6418, classes: 3:[0, 1, 2, 3, 4, 5, 6, 8]\n",
      "[0, 4, 0] : Train -> 0.9528 Test -> 0.6757, NUM: 212, classes: 2:[1, 2, 3, 4, 6]\n",
      "[0, 4, 1, 0] : Train -> 0.9706 Test -> 0.4000, NUM: 34, classes: 6:[0, 6]\n",
      "[0, 4, 1, 1] : Train -> 0.9358 Test -> 0.8400, NUM: 467, classes: 3:[0, 1, 2, 3, 4, 6]\n",
      "[0, 4, 1, 2] : Train -> 0.5066 Test -> 0.4947, NUM: 1214, classes: 7:[1, 4, 5, 7, 9]\n",
      "[0, 4, 1, 3] : Train -> 0.9329 Test -> 0.5747, NUM: 462, classes: 6:[0, 2, 3, 4, 5, 6, 8]\n",
      "[0, 4, 1, 4] : Train -> 0.9767 Test -> 0.8000, NUM: 43, classes: 8:[4, 8]\n",
      "[0, 4, 1, 5] : Train -> 0.8790 Test -> 0.7727, NUM: 628, classes: 0:[0, 1, 2, 3, 4, 6]\n",
      "[0, 4, 1, 6] : Train -> 0.9809 Test -> 0.9369, NUM: 679, classes: 1:[0, 1, 2, 3, 4, 6, 8]\n",
      "[0, 4, 1, 7] : Train -> 0.9112 Test -> 0.7280, NUM: 597, classes: 2:[0, 2, 3, 4, 6]\n",
      "[0, 4, 1, 8] : Train -> 0.9670 Test -> 0.6522, NUM: 182, classes: 3:[1, 2, 3, 4, 6]\n",
      "[0, 4, 1, 9] : Train -> 0.8600 Test -> 0.8034, NUM: 650, classes: 4:[0, 2, 3, 4, 6]\n",
      "[0, 4, 1, 10] : Train -> 0.9665 Test -> 0.8980, NUM: 627, classes: 9:[5, 6, 7, 8, 9]\n",
      "[0, 4, 1, 11] : Train -> 0.9727 Test -> 0.9195, NUM: 586, classes: 8:[0, 2, 3, 5, 6, 7, 8]\n",
      "[0, 4, 2] : Train -> 0.7794 Test -> 0.4348, NUM: 136, classes: 6:[0, 2, 3, 4, 6, 8]\n",
      "[0, 5] : Train -> 0.9589 Test -> 0.9512, NUM: 5763, classes: 5:[0, 2, 3, 4, 5, 6, 7, 8, 9]\n",
      "[0, 6] : Train -> 0.7579 Test -> 0.7282, NUM: 3689, classes: 6:[0, 1, 2, 3, 4, 5, 6, 8]\n",
      "[0, 7] : Train -> 0.9156 Test -> 0.8910, NUM: 6199, classes: 7:[1, 2, 4, 5, 6, 7, 8, 9]\n",
      "[0, 8] : Train -> 0.9329 Test -> 0.9171, NUM: 6156, classes: 8:[0, 1, 2, 3, 4, 5, 6, 7, 8, 9]\n",
      "[0, 9] : Train -> 0.9495 Test -> 0.9374, NUM: 6035, classes: 9:[1, 3, 4, 5, 6, 7, 8, 9]\n",
      "Final Accuracy is Train: 0.89828 Test: 0.85390\n"
     ]
    }
   ],
   "source": [
    "#### After modification status\n",
    "tree.display_stats()"
   ]
  },
  {
   "cell_type": "code",
   "execution_count": null,
   "metadata": {},
   "outputs": [],
   "source": []
  },
  {
   "cell_type": "code",
   "execution_count": null,
   "metadata": {},
   "outputs": [],
   "source": []
  },
  {
   "cell_type": "code",
   "execution_count": null,
   "metadata": {},
   "outputs": [],
   "source": []
  },
  {
   "cell_type": "code",
   "execution_count": null,
   "metadata": {},
   "outputs": [],
   "source": [
    "[0, 0, 0, 0] : pred -> 0.9799, NUM: 546, classes: [0, 2, 4, 6]\n",
    "[0, 0, 0, 1] : pred -> 0.9983, NUM: 606, classes: [1, 2]\n",
    "[0, 0, 0, 2] : pred -> 0.9831, NUM: 592, classes: [0, 2, 4, 6]\n",
    "[0, 0, 0, 3] : pred -> 0.9788, NUM: 565, classes: [0, 1, 2, 3, 4, 6, 8]\n",
    "[0, 0, 0, 4] : pred -> 0.9744, NUM: 586, classes: [1, 2, 3, 4, 6]\n",
    "[0, 0, 0, 5] : pred -> 1.0000, NUM: 589, classes: [5]\n",
    "[0, 0, 0, 6] : pred -> 0.9898, NUM: 588, classes: [0, 1, 2, 4, 6]\n",
    "[0, 0, 0, 7] : pred -> 0.9877, NUM: 568, classes: [5, 7, 9]\n",
    "[0, 0, 0, 8] : pred -> 0.9966, NUM: 592, classes: [0, 8]\n",
    "[0, 0, 0, 9] : pred -> 0.9947, NUM: 565, classes: [5, 7, 9]\n",
    "[0, 0, 1, 0] : pred -> 0.9571, NUM: 163, classes: [0, 6]\n",
    "[0, 0, 1, 1] : pred -> 1.0000, NUM: 149, classes: [1]\n",
    "[0, 0, 1, 2] : pred -> 0.9940, NUM: 168, classes: [2, 4]\n",
    "[0, 0, 1, 3] : pred -> 0.9939, NUM: 164, classes: [3, 6]\n",
    "[0, 0, 1, 4] : pred -> 0.9827, NUM: 173, classes: [2, 4, 6]\n",
    "[0, 0, 1, 5] : pred -> 1.0000, NUM: 167, classes: [5]\n",
    "[0, 0, 1, 6] : pred -> 1.0000, NUM: 143, classes: [6]\n",
    "[0, 0, 1, 7] : pred -> 0.9934, NUM: 151, classes: [7, 8]\n",
    "[0, 0, 1, 8] : pred -> 0.9864, NUM: 147, classes: [0, 6, 8]\n",
    "[0, 0, 1, 9] : pred -> 0.9831, NUM: 177, classes: [7, 9]\n",
    "[0, 1] : pred -> 0.9888, NUM: 5898, classes: [0, 1, 2, 3, 4, 6, 8, 9]\n",
    "[0, 2, 0, 0] : pred -> 0.9571, NUM: 466, classes: [0, 1, 2, 4, 6, 8]\n",
    "[0, 2, 0, 1] : pred -> 1.0000, NUM: 476, classes: [1]\n",
    "[0, 2, 0, 2] : pred -> 0.9876, NUM: 483, classes: [2, 3, 4, 6]\n",
    "[0, 2, 0, 3] : pred -> 0.9912, NUM: 457, classes: [0, 3, 4, 6]\n",
    "[0, 2, 0, 4] : pred -> 0.9790, NUM: 477, classes: [2, 3, 4, 6]\n",
    "[0, 2, 0, 5] : pred -> 1.0000, NUM: 451, classes: [5]\n",
    "[0, 2, 0, 6] : pred -> 0.9956, NUM: 456, classes: [2, 4, 6]\n",
    "[0, 2, 0, 7] : pred -> 0.9886, NUM: 440, classes: [5, 7, 8, 9]\n",
    "[0, 2, 0, 8] : pred -> 0.9883, NUM: 426, classes: [0, 6, 8]\n",
    "[0, 2, 0, 9] : pred -> 0.9918, NUM: 490, classes: [5, 7, 9]\n",
    "[0, 2, 1] : pred -> 0.8632, NUM: 541, classes: [0, 1, 3, 4, 5, 6]\n",
    "[0, 2, 2] : pred -> 0.8750, NUM: 8, classes: [0, 4]\n",
    "[0, 2, 3] : pred -> 0.8986, NUM: 138, classes: [0, 1, 3, 4, 6, 8]\n",
    "[0, 2, 4] : pred -> 0.8000, NUM: 5, classes: [0, 4]\n",
    "[0, 3, 0] : pred -> 0.9524, NUM: 210, classes: [0, 1, 2, 6, 8]\n",
    "[0, 3, 1] : pred -> 1.0000, NUM: 7, classes: [2]\n",
    "[0, 3, 2] : pred -> 0.9417, NUM: 5988, classes: [0, 1, 2, 3, 4, 5, 6, 8]\n",
    "[0, 3, 3, 0] : pred -> 0.9672, NUM: 61, classes: [0, 6]\n",
    "[0, 3, 3, 1] : pred -> 1.0000, NUM: 56, classes: [1]\n",
    "[0, 3, 3, 2] : pred -> 1.0000, NUM: 43, classes: [2]\n",
    "[0, 3, 3, 3] : pred -> 0.9583, NUM: 48, classes: [3, 4, 6]\n",
    "[0, 3, 3, 4] : pred -> 0.9811, NUM: 53, classes: [2, 4]\n",
    "[0, 3, 3, 5] : pred -> 1.0000, NUM: 44, classes: [5]\n",
    "[0, 3, 3, 6] : pred -> 0.9796, NUM: 49, classes: [0, 6]\n",
    "[0, 3, 3, 7] : pred -> 1.0000, NUM: 53, classes: [7]\n",
    "[0, 3, 3, 8] : pred -> 1.0000, NUM: 48, classes: [8]\n",
    "[0, 3, 3, 9] : pred -> 1.0000, NUM: 53, classes: [9]\n",
    "[0, 4, 0, 0] : pred -> 1.0000, NUM: 103, classes: [0]\n",
    "[0, 4, 0, 1] : pred -> 1.0000, NUM: 117, classes: [1]\n",
    "[0, 4, 0, 2] : pred -> 0.9910, NUM: 111, classes: [2, 6]\n",
    "[0, 4, 0, 3] : pred -> 1.0000, NUM: 112, classes: [3]\n",
    "[0, 4, 0, 4] : pred -> 1.0000, NUM: 117, classes: [4]\n",
    "[0, 4, 0, 5] : pred -> 1.0000, NUM: 110, classes: [5]\n",
    "[0, 4, 0, 6] : pred -> 1.0000, NUM: 119, classes: [6]\n",
    "[0, 4, 0, 7] : pred -> 0.9831, NUM: 118, classes: [5, 7, 9]\n",
    "[0, 4, 0, 8] : pred -> 1.0000, NUM: 103, classes: [8]\n",
    "[0, 4, 0, 9] : pred -> 1.0000, NUM: 124, classes: [9]\n",
    "[0, 4, 1, 0] : pred -> 0.9752, NUM: 483, classes: [0, 2, 6]\n",
    "[0, 4, 1, 1] : pred -> 0.9981, NUM: 520, classes: [1, 3]\n",
    "[0, 4, 1, 2] : pred -> 0.9693, NUM: 521, classes: [0, 2, 4, 6, 8]\n",
    "[0, 4, 1, 3] : pred -> 0.9838, NUM: 493, classes: [1, 2, 3, 4, 6]\n",
    "[0, 4, 1, 4] : pred -> 0.9745, NUM: 510, classes: [0, 2, 3, 4, 6]\n",
    "[0, 4, 1, 5] : pred -> 1.0000, NUM: 497, classes: [5]\n",
    "[0, 4, 1, 6] : pred -> 0.9917, NUM: 482, classes: [0, 2, 3, 4, 6]\n",
    "[0, 4, 1, 7] : pred -> 0.9874, NUM: 476, classes: [5, 7, 9]\n",
    "[0, 4, 1, 8] : pred -> 0.9939, NUM: 493, classes: [0, 6, 8]\n",
    "[0, 4, 1, 9] : pred -> 0.9941, NUM: 511, classes: [7, 9]\n",
    "[0, 5] : pred -> 0.9624, NUM: 5902, classes: [0, 1, 2, 3, 4, 5, 7, 8, 9]\n",
    "[0, 6, 0] : pred -> 0.9314, NUM: 452, classes: [0, 1, 2, 3, 4, 8]\n",
    "[0, 6, 1, 0] : pred -> 0.9726, NUM: 401, classes: [0, 2, 6]\n",
    "[0, 6, 1, 1] : pred -> 1.0000, NUM: 403, classes: [1]\n",
    "[0, 6, 1, 2] : pred -> 0.9851, NUM: 404, classes: [1, 2, 3, 4, 6]\n",
    "[0, 6, 1, 3] : pred -> 0.9814, NUM: 376, classes: [1, 2, 3, 4, 6]\n",
    "[0, 6, 1, 4] : pred -> 0.9754, NUM: 407, classes: [2, 3, 4, 6]\n",
    "[0, 6, 1, 5] : pred -> 1.0000, NUM: 396, classes: [5]\n",
    "[0, 6, 1, 6] : pred -> 0.9897, NUM: 388, classes: [2, 4, 6, 8]\n",
    "[0, 6, 1, 7] : pred -> 0.9923, NUM: 391, classes: [5, 7, 8, 9]\n",
    "[0, 6, 1, 8] : pred -> 0.9972, NUM: 362, classes: [7, 8]\n",
    "[0, 6, 1, 9] : pred -> 0.9910, NUM: 444, classes: [5, 7, 9]\n",
    "[0, 6, 2] : pred -> 1.0000, NUM: 11, classes: [8]\n",
    "[0, 7, 0] : pred -> 1.0000, NUM: 100, classes: [5]\n",
    "[0, 7, 1] : pred -> 0.9763, NUM: 5877, classes: [5, 7, 8, 9]\n",
    "[0, 7, 2] : pred -> 0.7500, NUM: 8, classes: [6, 8]\n",
    "[0, 7, 3] : pred -> 0.9838, NUM: 308, classes: [5, 9]\n",
    "[0, 8] : pred -> 0.9482, NUM: 6123, classes: [0, 1, 2, 3, 4, 5, 6, 7, 8, 9]\n",
    "[0, 9] : pred -> 0.9605, NUM: 5803, classes: [0, 1, 4, 5, 6, 7, 8, 9]\n",
    "Final Accuracy is : 0.97130"
   ]
  }
 ],
 "metadata": {
  "kernelspec": {
   "display_name": "Python 3",
   "language": "python",
   "name": "python3"
  },
  "language_info": {
   "codemirror_mode": {
    "name": "ipython",
    "version": 3
   },
   "file_extension": ".py",
   "mimetype": "text/x-python",
   "name": "python",
   "nbconvert_exporter": "python",
   "pygments_lexer": "ipython3",
   "version": "3.8.5"
  }
 },
 "nbformat": 4,
 "nbformat_minor": 4
}
