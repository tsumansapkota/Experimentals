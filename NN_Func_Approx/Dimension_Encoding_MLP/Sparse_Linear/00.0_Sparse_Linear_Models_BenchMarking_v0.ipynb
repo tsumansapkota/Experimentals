{
 "cells": [
  {
   "cell_type": "code",
   "execution_count": 1,
   "id": "4619b33d",
   "metadata": {},
   "outputs": [],
   "source": [
    "import torch\n",
    "import torch.nn as nn\n",
    "import numpy as np\n",
    "import matplotlib.pyplot as plt"
   ]
  },
  {
   "cell_type": "code",
   "execution_count": 2,
   "id": "708c3871",
   "metadata": {},
   "outputs": [],
   "source": [
    "from tqdm import tqdm\n",
    "import random, sys, os"
   ]
  },
  {
   "cell_type": "code",
   "execution_count": 3,
   "id": "5de471a4",
   "metadata": {},
   "outputs": [],
   "source": [
    "import sparse_linear_lib as sll"
   ]
  },
  {
   "cell_type": "code",
   "execution_count": 4,
   "id": "9d3db567",
   "metadata": {},
   "outputs": [],
   "source": [
    "device = torch.device(\"cuda:0\")"
   ]
  },
  {
   "cell_type": "code",
   "execution_count": 5,
   "id": "7ca13372",
   "metadata": {},
   "outputs": [],
   "source": [
    "import pandas as pd"
   ]
  },
  {
   "cell_type": "markdown",
   "id": "6db9beaf",
   "metadata": {},
   "source": [
    "## Pair Linear approximation"
   ]
  },
  {
   "cell_type": "code",
   "execution_count": 6,
   "id": "8370636e",
   "metadata": {},
   "outputs": [],
   "source": [
    "# Ns = [16, 64, 256, 1024, 4096, 16384]\n",
    "# seeds = [147, 258, 369, 321, 654, 987, 741, 852, 963, 159, 357, 951 753]"
   ]
  },
  {
   "cell_type": "code",
   "execution_count": 7,
   "id": "c71fe142",
   "metadata": {},
   "outputs": [],
   "source": [
    "Ns = [16, 64]\n",
    "seeds = [147, 258]"
   ]
  },
  {
   "cell_type": "code",
   "execution_count": 8,
   "id": "ecd90042",
   "metadata": {},
   "outputs": [],
   "source": [
    "mse = nn.MSELoss()"
   ]
  },
  {
   "cell_type": "code",
   "execution_count": 25,
   "id": "5f3aa018",
   "metadata": {},
   "outputs": [],
   "source": [
    "TRAIN_STEPS = 2000#20000\n",
    "def train_model(model, optimizer, X, A):\n",
    "    for i in range(TRAIN_STEPS):\n",
    "        out = model(X)\n",
    "        loss = mse(out, A)\n",
    "        optimizer.zero_grad()\n",
    "        loss.backward()\n",
    "        optimizer.step()\n",
    "        if i%1000 == 0:\n",
    "            print(f\"The MSE loss is : {float(mse(out,A))}\")"
   ]
  },
  {
   "cell_type": "code",
   "execution_count": 32,
   "id": "18d0c642",
   "metadata": {},
   "outputs": [],
   "source": [
    "def get_svd_output(A, n_comp):\n",
    "    U, S, V = torch.svd(A)\n",
    "\n",
    "    S[n_comp:] *= 0\n",
    "\n",
    "    out = torch.mm(torch.mm(U, torch.diag(S)), V.t())\n",
    "    return out"
   ]
  },
  {
   "cell_type": "code",
   "execution_count": 33,
   "id": "39009cdc",
   "metadata": {},
   "outputs": [],
   "source": [
    "def save_stats(df, out, A, method, seed, nparam, filename):\n",
    "    diff = (out.data-A).abs()\n",
    "    \n",
    "    mean, std = float(diff.mean()), float(diff.std())\n",
    "    err = float(mse(out, A))\n",
    "\n",
    "    df = df.append({\"method\":method, \"seed\":seed, \"mse\":err,\n",
    "                    \"mean\":mean, \"std\":std, \"params\":nparam}, \n",
    "                   ignore_index=True)\n",
    "    df_ = df.copy()\n",
    "    df.to_csv(f\"./outputs/{file_name}.csv\")\n",
    "    return df_"
   ]
  },
  {
   "cell_type": "code",
   "execution_count": 34,
   "id": "995873d2",
   "metadata": {},
   "outputs": [
    {
     "data": {
      "text/html": [
       "<div>\n",
       "<style scoped>\n",
       "    .dataframe tbody tr th:only-of-type {\n",
       "        vertical-align: middle;\n",
       "    }\n",
       "\n",
       "    .dataframe tbody tr th {\n",
       "        vertical-align: top;\n",
       "    }\n",
       "\n",
       "    .dataframe thead th {\n",
       "        text-align: right;\n",
       "    }\n",
       "</style>\n",
       "<table border=\"1\" class=\"dataframe\">\n",
       "  <thead>\n",
       "    <tr style=\"text-align: right;\">\n",
       "      <th></th>\n",
       "      <th>mse</th>\n",
       "      <th>mean</th>\n",
       "      <th>std</th>\n",
       "    </tr>\n",
       "  </thead>\n",
       "  <tbody>\n",
       "  </tbody>\n",
       "</table>\n",
       "</div>"
      ],
      "text/plain": [
       "Empty DataFrame\n",
       "Columns: [mse, mean, std]\n",
       "Index: []"
      ]
     },
     "execution_count": 34,
     "metadata": {},
     "output_type": "execute_result"
    }
   ],
   "source": [
    "df = pd.DataFrame(columns=['mse', 'mean', 'std'])\n",
    "df"
   ]
  },
  {
   "cell_type": "code",
   "execution_count": null,
   "id": "4f440bbf",
   "metadata": {},
   "outputs": [],
   "source": []
  },
  {
   "cell_type": "code",
   "execution_count": 35,
   "id": "c8b1ce6a",
   "metadata": {},
   "outputs": [],
   "source": [
    "# df.append({\"mse\":1.0, \"mean\":2.0, \"std\":4.0}, ignore_index=True)"
   ]
  },
  {
   "cell_type": "code",
   "execution_count": 30,
   "id": "4a04f5d7",
   "metadata": {},
   "outputs": [
    {
     "name": "stdout",
     "output_type": "stream",
     "text": [
      "\n",
      "Experiment N=16 SEED=147\n",
      "The MSE loss is : 0.4491165280342102\n",
      "The MSE loss is : 0.20023737847805023\n"
     ]
    },
    {
     "name": "stderr",
     "output_type": "stream",
     "text": [
      "/tmp/ipykernel_323516/1437771055.py:7: FutureWarning: The frame.append method is deprecated and will be removed from pandas in a future version. Use pandas.concat instead.\n",
      "  df = df.append({\"method\":method, \"seed\":seed, \"mse\":err,\n",
      "/tmp/ipykernel_323516/1437771055.py:7: FutureWarning: The frame.append method is deprecated and will be removed from pandas in a future version. Use pandas.concat instead.\n",
      "  df = df.append({\"method\":method, \"seed\":seed, \"mse\":err,\n"
     ]
    },
    {
     "name": "stdout",
     "output_type": "stream",
     "text": [
      "\n",
      "Experiment N=16 SEED=258\n",
      "The MSE loss is : 0.34958234429359436\n",
      "The MSE loss is : 0.17535558342933655\n"
     ]
    },
    {
     "name": "stderr",
     "output_type": "stream",
     "text": [
      "/tmp/ipykernel_323516/1437771055.py:7: FutureWarning: The frame.append method is deprecated and will be removed from pandas in a future version. Use pandas.concat instead.\n",
      "  df = df.append({\"method\":method, \"seed\":seed, \"mse\":err,\n",
      "/tmp/ipykernel_323516/1437771055.py:7: FutureWarning: The frame.append method is deprecated and will be removed from pandas in a future version. Use pandas.concat instead.\n",
      "  df = df.append({\"method\":method, \"seed\":seed, \"mse\":err,\n"
     ]
    },
    {
     "name": "stdout",
     "output_type": "stream",
     "text": [
      "\n",
      "Experiment N=64 SEED=147\n",
      "The MSE loss is : 0.35664060711860657\n",
      "The MSE loss is : 0.26728907227516174\n"
     ]
    },
    {
     "name": "stderr",
     "output_type": "stream",
     "text": [
      "/tmp/ipykernel_323516/1437771055.py:7: FutureWarning: The frame.append method is deprecated and will be removed from pandas in a future version. Use pandas.concat instead.\n",
      "  df = df.append({\"method\":method, \"seed\":seed, \"mse\":err,\n",
      "/tmp/ipykernel_323516/1437771055.py:7: FutureWarning: The frame.append method is deprecated and will be removed from pandas in a future version. Use pandas.concat instead.\n",
      "  df = df.append({\"method\":method, \"seed\":seed, \"mse\":err,\n"
     ]
    },
    {
     "name": "stdout",
     "output_type": "stream",
     "text": [
      "\n",
      "Experiment N=64 SEED=258\n",
      "The MSE loss is : 0.34387272596359253\n",
      "The MSE loss is : 0.2611415982246399\n"
     ]
    },
    {
     "name": "stderr",
     "output_type": "stream",
     "text": [
      "/tmp/ipykernel_323516/1437771055.py:7: FutureWarning: The frame.append method is deprecated and will be removed from pandas in a future version. Use pandas.concat instead.\n",
      "  df = df.append({\"method\":method, \"seed\":seed, \"mse\":err,\n",
      "/tmp/ipykernel_323516/1437771055.py:7: FutureWarning: The frame.append method is deprecated and will be removed from pandas in a future version. Use pandas.concat instead.\n",
      "  df = df.append({\"method\":method, \"seed\":seed, \"mse\":err,\n"
     ]
    }
   ],
   "source": [
    "for N in Ns:\n",
    "    X = torch.eye(N).to(device)\n",
    "    \n",
    "    df = pd.DataFrame(columns=['method', 'seed', 'mse', 'mean', 'std', 'params'])\n",
    "    file_name = f'record_err_{N}'\n",
    "        \n",
    "    for SEED in seeds:\n",
    "        print()\n",
    "        print(f\"Experiment N={N} SEED={SEED}\")\n",
    "        \n",
    "        torch.manual_seed(SEED)\n",
    "        A = torch.rand(N, N).to(device)*2-1\n",
    "        ### For each method compute the stats\n",
    "        \n",
    "        #####################################################\n",
    "        ##### First 2x2 factorization\n",
    "        model = sll.PairLinear_MixerBlock(N, N).to(device)        \n",
    "        optimizer = torch.optim.Adam(model.parameters(), lr=0.003)\n",
    "        \n",
    "        #### Train model\n",
    "        train_model(model, optimizer, X, A)\n",
    "        out = model(X)\n",
    "        _n_params = sum(p.numel() for p in model.parameters())\n",
    "        df = save_stats(df, out, A, 'pair', SEED, _n_params, file_name)\n",
    "        #####################################################\n",
    "        del model, optimizer\n",
    "        \n",
    "        \n",
    "        #####################################################\n",
    "#         U, S, V = torch.svd(A)\n",
    "#         _m = int(np.ceil(_n_params/(U.shape[0]*2)))\n",
    "        \n",
    "#         _S = S#.clone()\n",
    "#         _S[_m:] *= 0\n",
    "        \n",
    "#         out = torch.mm(torch.mm(U, torch.diag(_S)), V.t())\n",
    "        _m = int(np.ceil(_n_params/(U.shape[0]*2)))\n",
    "        out = get_svd_output(A, _m)\n",
    "\n",
    "        n_params = U.shape[0]*_m*2\n",
    "        df = save_stats(df, out, A, 'lowR', SEED, n_params, file_name)\n",
    "        #####################################################\n",
    "        del U, S, V, _S\n",
    "        \n",
    "        #####################################################\n",
    "        _m = N // 2\n",
    "        out = get_svd_output(A, _m)\n",
    "\n",
    "        n_params = U.shape[0]*_m*2\n",
    "        df = save_stats(df, out, A, 'lowR', SEED, n_params, file_name)\n",
    "        #####################################################\n",
    "        del U, S, V, _S\n",
    "        \n",
    "        "
   ]
  },
  {
   "cell_type": "code",
   "execution_count": 31,
   "id": "5c4a67f2",
   "metadata": {},
   "outputs": [],
   "source": [
    "torch.manual_seed(SEED)\n",
    "## A is a target matrix\n",
    "# A = torch.randn(N, N).to(device)\n",
    "A = torch.rand(N, N).to(device)*2-1 "
   ]
  },
  {
   "cell_type": "code",
   "execution_count": 394,
   "id": "4a2f198e",
   "metadata": {},
   "outputs": [],
   "source": [
    "X = torch.eye(N).to(device)"
   ]
  },
  {
   "cell_type": "code",
   "execution_count": 395,
   "id": "0465029e",
   "metadata": {},
   "outputs": [],
   "source": [
    "model = sll.PairLinear_MixerBlock(N, N).to(device)"
   ]
  },
  {
   "cell_type": "code",
   "execution_count": 396,
   "id": "46cf5a6f",
   "metadata": {},
   "outputs": [
    {
     "data": {
      "text/plain": [
       "tensor([[1., 0., 0.,  ..., 0., 0., 0.],\n",
       "        [0., 1., 0.,  ..., 0., 0., 0.],\n",
       "        [0., 0., 1.,  ..., 0., 0., 0.],\n",
       "        ...,\n",
       "        [0., 0., 0.,  ..., 1., 0., 0.],\n",
       "        [0., 0., 0.,  ..., 0., 1., 0.],\n",
       "        [0., 0., 0.,  ..., 0., 0., 1.]], device='cuda:0',\n",
       "       grad_fn=<ViewBackward0>)"
      ]
     },
     "execution_count": 396,
     "metadata": {},
     "output_type": "execute_result"
    }
   ],
   "source": [
    "model(X)"
   ]
  },
  {
   "cell_type": "code",
   "execution_count": 397,
   "id": "5e90c273",
   "metadata": {},
   "outputs": [],
   "source": [
    "\n",
    "# optimizer = torch.optim.SGD(model.parameters(), lr=0.1)\n",
    "\n",
    "mse = nn.MSELoss()\n",
    "def mae(A, B):\n",
    "    return torch.abs(A-B).mean()\n",
    "\n",
    "criterion = mse\n",
    "# criterion = mae"
   ]
  },
  {
   "cell_type": "code",
   "execution_count": 398,
   "id": "eeb29ede",
   "metadata": {},
   "outputs": [
    {
     "name": "stdout",
     "output_type": "stream",
     "text": [
      "The MSE loss is : 0.3339892029762268\n",
      "The MSE loss is : 0.3258676826953888\n",
      "The MSE loss is : 0.32435426115989685\n",
      "The MSE loss is : 0.32379475235939026\n",
      "The MSE loss is : 0.32352203130722046\n",
      "The MSE loss is : 0.3233267366886139\n",
      "The MSE loss is : 0.3232240378856659\n",
      "The MSE loss is : 0.32311922311782837\n",
      "The MSE loss is : 0.3230302929878235\n",
      "The MSE loss is : 0.3229886293411255\n",
      "The MSE loss is : 0.32296428084373474\n",
      "The MSE loss is : 0.32294341921806335\n",
      "The MSE loss is : 0.3229249119758606\n",
      "The MSE loss is : 0.32291942834854126\n",
      "The MSE loss is : 0.32291924953460693\n",
      "The MSE loss is : 0.32291921973228455\n",
      "The MSE loss is : 0.32291924953460693\n",
      "The MSE loss is : 0.32291924953460693\n",
      "The MSE loss is : 0.32291921973228455\n",
      "The MSE loss is : 0.32291921973228455\n"
     ]
    }
   ],
   "source": [
    "### forward propagation\n",
    "for i in range(20000):\n",
    "    out = model.forward(X)\n",
    "    loss = criterion(out, A)\n",
    "    optimizer.zero_grad()\n",
    "    loss.backward()\n",
    "    optimizer.step()\n",
    "    if i%1000 == 0:\n",
    "        print(f\"The MSE loss is : {float(mse(out,A))}\")\n",
    "#         print(f\"The MAE loss is : {float(mae(out,A))}\")\n",
    "#         diff = (out.data-A).abs()        \n",
    "#         plt.hist(diff.cpu().numpy().reshape(-1), bins=100)\n",
    "#         plt.show()"
   ]
  },
  {
   "cell_type": "code",
   "execution_count": 399,
   "id": "49c6da19",
   "metadata": {},
   "outputs": [
    {
     "data": {
      "text/plain": [
       "tensor(-inf, device='cuda:0')"
      ]
     },
     "execution_count": 399,
     "metadata": {},
     "output_type": "execute_result"
    }
   ],
   "source": [
    "torch.det(A)"
   ]
  },
  {
   "cell_type": "code",
   "execution_count": 400,
   "id": "efce967f",
   "metadata": {},
   "outputs": [
    {
     "data": {
      "text/plain": [
       "tensor(-0., device='cuda:0')"
      ]
     },
     "execution_count": 400,
     "metadata": {},
     "output_type": "execute_result"
    }
   ],
   "source": [
    "torch.det(out.data)"
   ]
  },
  {
   "cell_type": "code",
   "execution_count": 401,
   "id": "2347f395",
   "metadata": {},
   "outputs": [],
   "source": [
    "diff = (out.data-A).abs()"
   ]
  },
  {
   "cell_type": "code",
   "execution_count": 402,
   "id": "80ce8149",
   "metadata": {},
   "outputs": [
    {
     "data": {
      "text/plain": [
       "(tensor(2.8480e-06, device='cuda:0'), tensor(1.4972, device='cuda:0'))"
      ]
     },
     "execution_count": 402,
     "metadata": {},
     "output_type": "execute_result"
    }
   ],
   "source": [
    "diff.min(), diff.max()"
   ]
  },
  {
   "cell_type": "code",
   "execution_count": 403,
   "id": "6809a190",
   "metadata": {},
   "outputs": [
    {
     "data": {
      "text/plain": [
       "(tensor(0.4896, device='cuda:0'), tensor(0.2885, device='cuda:0'))"
      ]
     },
     "execution_count": 403,
     "metadata": {},
     "output_type": "execute_result"
    }
   ],
   "source": [
    "diff.mean(), diff.std()"
   ]
  },
  {
   "cell_type": "code",
   "execution_count": 404,
   "id": "040496e7",
   "metadata": {},
   "outputs": [
    {
     "data": {
      "image/png": "[encoded data removed]",
      "text/plain": [
       "<Figure size 432x288 with 1 Axes>"
      ]
     },
     "metadata": {
      "needs_background": "light"
     },
     "output_type": "display_data"
    }
   ],
   "source": [
    "plt.hist(diff.cpu().numpy().reshape(-1), bins=100)\n",
    "plt.show()"
   ]
  },
  {
   "cell_type": "markdown",
   "id": "b41b8e49",
   "metadata": {},
   "source": [
    "## Approximation using SVD / Eigen"
   ]
  },
  {
   "cell_type": "code",
   "execution_count": 405,
   "id": "f561e276",
   "metadata": {},
   "outputs": [],
   "source": [
    "U, S, V = torch.svd(A)"
   ]
  },
  {
   "cell_type": "code",
   "execution_count": 406,
   "id": "a50b9cc6",
   "metadata": {},
   "outputs": [
    {
     "data": {
      "text/plain": [
       "32"
      ]
     },
     "execution_count": 406,
     "metadata": {},
     "output_type": "execute_result"
    }
   ],
   "source": [
    "_m = int(np.ceil(np.sqrt(N)))\n",
    "# _m = N // 2\n",
    "_m"
   ]
  },
  {
   "cell_type": "code",
   "execution_count": 407,
   "id": "53056492",
   "metadata": {},
   "outputs": [
    {
     "data": {
      "text/plain": [
       "10"
      ]
     },
     "execution_count": 407,
     "metadata": {},
     "output_type": "execute_result"
    }
   ],
   "source": [
    "n_params = sum(p.numel() for p in model.parameters())\n",
    "_m = int(np.ceil(n_params/(U.shape[0]*2)))\n",
    "_m"
   ]
  },
  {
   "cell_type": "code",
   "execution_count": 408,
   "id": "a7206987",
   "metadata": {},
   "outputs": [
    {
     "data": {
      "text/plain": [
       "tensor([36.7376, 36.5132, 36.2850,  ...,  0.0000,  0.0000,  0.0000],\n",
       "       device='cuda:0')"
      ]
     },
     "execution_count": 408,
     "metadata": {},
     "output_type": "execute_result"
    }
   ],
   "source": [
    "_S = S.clone()\n",
    "_S[_m:] *= 0\n",
    "_S"
   ]
  },
  {
   "cell_type": "code",
   "execution_count": 409,
   "id": "8f6738c7",
   "metadata": {},
   "outputs": [
    {
     "data": {
      "text/plain": [
       "tensor(0.3207, device='cuda:0')"
      ]
     },
     "execution_count": 409,
     "metadata": {},
     "output_type": "execute_result"
    }
   ],
   "source": [
    "out = torch.mm(torch.mm(U, torch.diag(_S)), V.t())\n",
    "mse(out, A)"
   ]
  },
  {
   "cell_type": "code",
   "execution_count": 410,
   "id": "5a8d682b",
   "metadata": {},
   "outputs": [
    {
     "data": {
      "image/png": "[encoded data removed]",
      "text/plain": [
       "<Figure size 432x288 with 1 Axes>"
      ]
     },
     "metadata": {
      "needs_background": "light"
     },
     "output_type": "display_data"
    }
   ],
   "source": [
    "diff = (out.data-A).abs()        \n",
    "plt.hist(diff.cpu().numpy().reshape(-1), bins=100)\n",
    "plt.show()"
   ]
  },
  {
   "cell_type": "code",
   "execution_count": 411,
   "id": "a7377196",
   "metadata": {},
   "outputs": [
    {
     "data": {
      "text/plain": [
       "(tensor(2.1327e-07, device='cuda:0'), tensor(1.4762, device='cuda:0'))"
      ]
     },
     "execution_count": 411,
     "metadata": {},
     "output_type": "execute_result"
    }
   ],
   "source": [
    "diff.min(), diff.max()"
   ]
  },
  {
   "cell_type": "code",
   "execution_count": 412,
   "id": "165f8220",
   "metadata": {},
   "outputs": [
    {
     "data": {
      "text/plain": [
       "(tensor(0.4874, device='cuda:0'), tensor(0.2884, device='cuda:0'))"
      ]
     },
     "execution_count": 412,
     "metadata": {},
     "output_type": "execute_result"
    }
   ],
   "source": [
    "diff.mean(), diff.std()"
   ]
  },
  {
   "cell_type": "code",
   "execution_count": null,
   "id": "b952726c",
   "metadata": {},
   "outputs": [],
   "source": []
  },
  {
   "cell_type": "code",
   "execution_count": 413,
   "id": "977564ad",
   "metadata": {},
   "outputs": [
    {
     "data": {
      "text/plain": [
       "20480"
      ]
     },
     "execution_count": 413,
     "metadata": {},
     "output_type": "execute_result"
    }
   ],
   "source": [
    "U.shape[0]*_m*2"
   ]
  },
  {
   "cell_type": "code",
   "execution_count": 414,
   "id": "180a4b3e",
   "metadata": {},
   "outputs": [
    {
     "data": {
      "text/plain": [
       "1048576"
      ]
     },
     "execution_count": 414,
     "metadata": {},
     "output_type": "execute_result"
    }
   ],
   "source": [
    "torch.numel(A)"
   ]
  },
  {
   "cell_type": "code",
   "execution_count": 415,
   "id": "d0d9d605",
   "metadata": {},
   "outputs": [
    {
     "name": "stdout",
     "output_type": "stream",
     "text": [
      "number of params:  20480\n"
     ]
    }
   ],
   "source": [
    "## for 2x2 linear\n",
    "print(\"number of params: \", sum(p.numel() for p in model.parameters()))"
   ]
  },
  {
   "cell_type": "markdown",
   "id": "05ea3f6a",
   "metadata": {},
   "source": [
    "## Approximating Low Rank"
   ]
  },
  {
   "cell_type": "code",
   "execution_count": 419,
   "id": "7dbdf810",
   "metadata": {},
   "outputs": [],
   "source": [
    "model = nn.Sequential(nn.Linear(N, _m, bias=False), nn.Linear(_m, N, bias=False)).to(device)\n",
    "# model = nn.Linear(N, N, bias=False).to(device) ## it can easily approximate to ~ 0 error"
   ]
  },
  {
   "cell_type": "code",
   "execution_count": 420,
   "id": "f220acdb",
   "metadata": {},
   "outputs": [
    {
     "data": {
      "text/plain": [
       "tensor([[ 0.0060, -0.0139,  0.0148,  ...,  0.0164, -0.0290, -0.0076],\n",
       "        [ 0.0224, -0.0002,  0.0012,  ...,  0.0221, -0.0045, -0.0245],\n",
       "        [-0.0305, -0.0125, -0.0123,  ..., -0.0017,  0.0268,  0.0146],\n",
       "        ...,\n",
       "        [-0.0305,  0.0119,  0.0181,  ..., -0.0130,  0.0020, -0.0273],\n",
       "        [-0.0144, -0.0310,  0.0182,  ...,  0.0251,  0.0013,  0.0205],\n",
       "        [-0.0222,  0.0281, -0.0102,  ..., -0.0309, -0.0098,  0.0156]],\n",
       "       device='cuda:0', grad_fn=<MmBackward0>)"
      ]
     },
     "execution_count": 420,
     "metadata": {},
     "output_type": "execute_result"
    }
   ],
   "source": [
    "model(X)"
   ]
  },
  {
   "cell_type": "code",
   "execution_count": 421,
   "id": "b5bfa387",
   "metadata": {},
   "outputs": [
    {
     "name": "stdout",
     "output_type": "stream",
     "text": [
      "number of params:  1048576\n"
     ]
    }
   ],
   "source": [
    "print(\"number of params: \", sum(p.numel() for p in model.parameters()))"
   ]
  },
  {
   "cell_type": "code",
   "execution_count": 422,
   "id": "e9635297",
   "metadata": {},
   "outputs": [],
   "source": [
    "optimizer = torch.optim.Adam(model.parameters(), lr=0.001)\n",
    "# optimizer = torch.optim.SGD(model.parameters(), lr=0.1)"
   ]
  },
  {
   "cell_type": "code",
   "execution_count": 423,
   "id": "2a8cd244",
   "metadata": {},
   "outputs": [
    {
     "name": "stdout",
     "output_type": "stream",
     "text": [
      "The MSE loss is : 0.33337754011154175\n",
      "The MSE loss is : 0.009387862868607044\n",
      "The MSE loss is : 3.0878494726493955e-05\n",
      "The MSE loss is : 2.4046762359120066e-09\n",
      "The MSE loss is : 2.4860326471032312e-12\n",
      "The MSE loss is : 9.726195543402483e-13\n",
      "The MSE loss is : 3.9987571630664687e-13\n",
      "The MSE loss is : 1.7556336701259057e-13\n",
      "The MSE loss is : 8.433788471198453e-14\n",
      "The MSE loss is : 4.5332203838172394e-14\n",
      "The MSE loss is : 2.7468353519478558e-14\n",
      "The MSE loss is : 1.9301187303153236e-14\n",
      "The MSE loss is : 1.5746212046383566e-14\n",
      "The MSE loss is : 1.2125027612258817e-14\n",
      "The MSE loss is : 8.11351345538034e-15\n",
      "The MSE loss is : 8.11351345538034e-15\n",
      "The MSE loss is : 8.11351345538034e-15\n",
      "The MSE loss is : 8.11351345538034e-15\n",
      "The MSE loss is : 8.11351345538034e-15\n",
      "The MSE loss is : 8.11351345538034e-15\n"
     ]
    }
   ],
   "source": [
    "### forward propagation\n",
    "for i in range(20000):\n",
    "    out = model.forward(X)\n",
    "    loss = criterion(out, A)\n",
    "    optimizer.zero_grad()\n",
    "    loss.backward()\n",
    "    optimizer.step()\n",
    "    if i%1000 == 0:\n",
    "        print(f\"The MSE loss is : {float(mse(out,A))}\")\n",
    "#         print(f\"The MAE loss is : {float(mae(out,A))}\")\n",
    "#         diff = (out.data-A).abs()        \n",
    "#         plt.hist(diff.cpu().numpy().reshape(-1), bins=100)\n",
    "#         plt.show()"
   ]
  },
  {
   "cell_type": "code",
   "execution_count": 386,
   "id": "dd3325ed",
   "metadata": {},
   "outputs": [
    {
     "data": {
      "text/plain": [
       "tensor(4.5065e+28, device='cuda:0')"
      ]
     },
     "execution_count": 386,
     "metadata": {},
     "output_type": "execute_result"
    }
   ],
   "source": [
    "torch.det(A)"
   ]
  },
  {
   "cell_type": "code",
   "execution_count": 387,
   "id": "902e8ca8",
   "metadata": {},
   "outputs": [
    {
     "data": {
      "text/plain": [
       "tensor(0., device='cuda:0')"
      ]
     },
     "execution_count": 387,
     "metadata": {},
     "output_type": "execute_result"
    }
   ],
   "source": [
    "torch.det(out.data)"
   ]
  },
  {
   "cell_type": "code",
   "execution_count": 388,
   "id": "332e3f1d",
   "metadata": {},
   "outputs": [],
   "source": [
    "diff = (out.data-A).abs()"
   ]
  },
  {
   "cell_type": "code",
   "execution_count": 389,
   "id": "8445ce56",
   "metadata": {},
   "outputs": [
    {
     "data": {
      "text/plain": [
       "(tensor(0.0005, device='cuda:0'), tensor(1.3825, device='cuda:0'))"
      ]
     },
     "execution_count": 389,
     "metadata": {},
     "output_type": "execute_result"
    }
   ],
   "source": [
    "diff.min(), diff.max()"
   ]
  },
  {
   "cell_type": "code",
   "execution_count": 390,
   "id": "3e2f1902",
   "metadata": {},
   "outputs": [
    {
     "data": {
      "text/plain": [
       "(tensor(0.4049, device='cuda:0'), tensor(0.2730, device='cuda:0'))"
      ]
     },
     "execution_count": 390,
     "metadata": {},
     "output_type": "execute_result"
    }
   ],
   "source": [
    "diff.mean(), diff.std()"
   ]
  },
  {
   "cell_type": "code",
   "execution_count": 391,
   "id": "93007d9d",
   "metadata": {},
   "outputs": [
    {
     "data": {
      "image/png": "[encoded data removed]",
      "text/plain": [
       "<Figure size 432x288 with 1 Axes>"
      ]
     },
     "metadata": {
      "needs_background": "light"
     },
     "output_type": "display_data"
    }
   ],
   "source": [
    "plt.hist(diff.cpu().numpy().reshape(-1), bins=100)\n",
    "plt.show()"
   ]
  },
  {
   "cell_type": "markdown",
   "id": "8303ce4a",
   "metadata": {},
   "source": [
    "### Testing Factorized Addition of 2x2 Factorization"
   ]
  },
  {
   "cell_type": "code",
   "execution_count": 437,
   "id": "39eeeca2",
   "metadata": {},
   "outputs": [],
   "source": [
    "class Add_PairLinears(nn.Module):\n",
    "    \n",
    "    def __init__(self, input_dim, num_adds):\n",
    "        super().__init__()\n",
    "        self.pair_mixers = []\n",
    "        self.perm_indices = []\n",
    "        for i in range(num_adds):\n",
    "            m = sll.PairLinear_MixerBlock(input_dim, input_dim)\n",
    "            self.pair_mixers.append(m)\n",
    "            if i > 0:\n",
    "                rm = torch.randperm(input_dim)\n",
    "                self.perm_indices.append(rm)\n",
    "                \n",
    "        self.pair_mixers = nn.ModuleList(self.pair_mixers)\n",
    "        \n",
    "    def forward(self, x):\n",
    "        y = torch.zeros_like(x)\n",
    "        for i, m in enumerate(self.pair_mixers):\n",
    "            if i > 0:\n",
    "                _x = x[:, self.perm_indices[i-1]]\n",
    "            else:\n",
    "                _x = x\n",
    "                \n",
    "            y += m(_x)\n",
    "        return y"
   ]
  },
  {
   "cell_type": "code",
   "execution_count": 450,
   "id": "b0de79a4",
   "metadata": {},
   "outputs": [],
   "source": [
    "model = Add_PairLinears(N, 4).to(device)"
   ]
  },
  {
   "cell_type": "code",
   "execution_count": 451,
   "id": "1a6f37b2",
   "metadata": {},
   "outputs": [
    {
     "data": {
      "text/plain": [
       "Add_PairLinears(\n",
       "  (pair_mixers): ModuleList(\n",
       "    (0): PairLinear_MixerBlock(\n",
       "      (selector): Identity()\n",
       "      (pairwise_mixing): ModuleList(\n",
       "        (0): PairLinear: [1024 -> 1024]\n",
       "        (1): PairLinear: [1024 -> 1024]\n",
       "        (2): PairLinear: [1024 -> 1024]\n",
       "        (3): PairLinear: [1024 -> 1024]\n",
       "        (4): PairLinear: [1024 -> 1024]\n",
       "        (5): PairLinear: [1024 -> 1024]\n",
       "        (6): PairLinear: [1024 -> 1024]\n",
       "        (7): PairLinear: [1024 -> 1024]\n",
       "        (8): PairLinear: [1024 -> 1024]\n",
       "        (9): PairLinear: [1024 -> 1024]\n",
       "      )\n",
       "      (reducer): Identity()\n",
       "    )\n",
       "    (1): PairLinear_MixerBlock(\n",
       "      (selector): Identity()\n",
       "      (pairwise_mixing): ModuleList(\n",
       "        (0): PairLinear: [1024 -> 1024]\n",
       "        (1): PairLinear: [1024 -> 1024]\n",
       "        (2): PairLinear: [1024 -> 1024]\n",
       "        (3): PairLinear: [1024 -> 1024]\n",
       "        (4): PairLinear: [1024 -> 1024]\n",
       "        (5): PairLinear: [1024 -> 1024]\n",
       "        (6): PairLinear: [1024 -> 1024]\n",
       "        (7): PairLinear: [1024 -> 1024]\n",
       "        (8): PairLinear: [1024 -> 1024]\n",
       "        (9): PairLinear: [1024 -> 1024]\n",
       "      )\n",
       "      (reducer): Identity()\n",
       "    )\n",
       "    (2): PairLinear_MixerBlock(\n",
       "      (selector): Identity()\n",
       "      (pairwise_mixing): ModuleList(\n",
       "        (0): PairLinear: [1024 -> 1024]\n",
       "        (1): PairLinear: [1024 -> 1024]\n",
       "        (2): PairLinear: [1024 -> 1024]\n",
       "        (3): PairLinear: [1024 -> 1024]\n",
       "        (4): PairLinear: [1024 -> 1024]\n",
       "        (5): PairLinear: [1024 -> 1024]\n",
       "        (6): PairLinear: [1024 -> 1024]\n",
       "        (7): PairLinear: [1024 -> 1024]\n",
       "        (8): PairLinear: [1024 -> 1024]\n",
       "        (9): PairLinear: [1024 -> 1024]\n",
       "      )\n",
       "      (reducer): Identity()\n",
       "    )\n",
       "    (3): PairLinear_MixerBlock(\n",
       "      (selector): Identity()\n",
       "      (pairwise_mixing): ModuleList(\n",
       "        (0): PairLinear: [1024 -> 1024]\n",
       "        (1): PairLinear: [1024 -> 1024]\n",
       "        (2): PairLinear: [1024 -> 1024]\n",
       "        (3): PairLinear: [1024 -> 1024]\n",
       "        (4): PairLinear: [1024 -> 1024]\n",
       "        (5): PairLinear: [1024 -> 1024]\n",
       "        (6): PairLinear: [1024 -> 1024]\n",
       "        (7): PairLinear: [1024 -> 1024]\n",
       "        (8): PairLinear: [1024 -> 1024]\n",
       "        (9): PairLinear: [1024 -> 1024]\n",
       "      )\n",
       "      (reducer): Identity()\n",
       "    )\n",
       "  )\n",
       ")"
      ]
     },
     "execution_count": 451,
     "metadata": {},
     "output_type": "execute_result"
    }
   ],
   "source": [
    "model"
   ]
  },
  {
   "cell_type": "code",
   "execution_count": 452,
   "id": "80650e3d",
   "metadata": {},
   "outputs": [
    {
     "data": {
      "text/plain": [
       "tensor([[1., 0., 0.,  ..., 0., 0., 0.],\n",
       "        [0., 1., 0.,  ..., 0., 0., 0.],\n",
       "        [0., 0., 1.,  ..., 0., 0., 0.],\n",
       "        ...,\n",
       "        [0., 0., 0.,  ..., 1., 0., 0.],\n",
       "        [0., 0., 0.,  ..., 0., 1., 0.],\n",
       "        [0., 0., 0.,  ..., 0., 0., 1.]], device='cuda:0',\n",
       "       grad_fn=<AddBackward0>)"
      ]
     },
     "execution_count": 452,
     "metadata": {},
     "output_type": "execute_result"
    }
   ],
   "source": [
    "model(X)"
   ]
  },
  {
   "cell_type": "code",
   "execution_count": 453,
   "id": "18432b93",
   "metadata": {},
   "outputs": [],
   "source": [
    "optimizer = torch.optim.Adam(model.parameters(), lr=0.01)\n",
    "# optimizer = torch.optim.SGD(model.parameters(), lr=0.1)"
   ]
  },
  {
   "cell_type": "code",
   "execution_count": 454,
   "id": "d2854ade",
   "metadata": {},
   "outputs": [
    {
     "name": "stdout",
     "output_type": "stream",
     "text": [
      "The MSE loss is : 0.3367670178413391\n",
      "The MSE loss is : 0.2947320342063904\n",
      "The MSE loss is : 0.29385197162628174\n",
      "The MSE loss is : 0.2934921085834503\n",
      "The MSE loss is : 0.29342126846313477\n",
      "The MSE loss is : 0.29336464405059814\n",
      "The MSE loss is : 0.2933483421802521\n",
      "The MSE loss is : 0.2933477759361267\n",
      "The MSE loss is : 0.29334765672683716\n",
      "The MSE loss is : 0.29334771633148193\n",
      "The MSE loss is : 0.2933478355407715\n",
      "The MSE loss is : 0.2933480143547058\n",
      "The MSE loss is : 0.29334762692451477\n",
      "The MSE loss is : 0.29334771633148193\n",
      "The MSE loss is : 0.2933477759361267\n",
      "The MSE loss is : 0.29334786534309387\n",
      "The MSE loss is : 0.29334756731987\n",
      "The MSE loss is : 0.29334765672683716\n",
      "The MSE loss is : 0.29334843158721924\n",
      "The MSE loss is : 0.2933475971221924\n"
     ]
    }
   ],
   "source": [
    "### forward propagation\n",
    "for i in range(20000):\n",
    "    out = model.forward(X)\n",
    "    loss = criterion(out, A)\n",
    "    optimizer.zero_grad()\n",
    "    loss.backward()\n",
    "    optimizer.step()\n",
    "    if i%1000 == 0:\n",
    "        print(f\"The MSE loss is : {float(mse(out,A))}\")\n",
    "#         print(f\"The MAE loss is : {float(mae(out,A))}\")\n",
    "#         diff = (out.data-A).abs()        \n",
    "#         plt.hist(diff.cpu().numpy().reshape(-1), bins=100)\n",
    "#         plt.show()"
   ]
  },
  {
   "cell_type": "code",
   "execution_count": 455,
   "id": "87b78e59",
   "metadata": {},
   "outputs": [
    {
     "data": {
      "text/plain": [
       "'\\nThe MSE loss is : 0.3339892029762268\\nThe MSE loss is : 0.3258676826953888\\nThe MSE loss is : 0.32435426115989685\\nThe MSE loss is : 0.32379475235939026\\nThe MSE loss is : 0.32352203130722046\\nThe MSE loss is : 0.3233267366886139\\nThe MSE loss is : 0.3232240378856659\\nThe MSE loss is : 0.32311922311782837\\nThe MSE loss is : 0.3230302929878235\\nThe MSE loss is : 0.3229886293411255\\nThe MSE loss is : 0.32296428084373474\\nThe MSE loss is : 0.32294341921806335\\nThe MSE loss is : 0.3229249119758606\\nThe MSE loss is : 0.32291942834854126\\nThe MSE loss is : 0.32291924953460693\\nThe MSE loss is : 0.32291921973228455\\nThe MSE loss is : 0.32291924953460693\\nThe MSE loss is : 0.32291924953460693\\nThe MSE loss is : 0.32291921973228455\\nThe MSE loss is : 0.32291921973228455\\n'"
      ]
     },
     "execution_count": 455,
     "metadata": {},
     "output_type": "execute_result"
    }
   ],
   "source": [
    "'''\n",
    "The MSE loss is : 0.32291921973228455\n",
    "'''"
   ]
  },
  {
   "cell_type": "code",
   "execution_count": 456,
   "id": "4a8ef631",
   "metadata": {},
   "outputs": [
    {
     "data": {
      "text/plain": [
       "tensor(-inf, device='cuda:0')"
      ]
     },
     "execution_count": 456,
     "metadata": {},
     "output_type": "execute_result"
    }
   ],
   "source": [
    "torch.det(A)"
   ]
  },
  {
   "cell_type": "code",
   "execution_count": 457,
   "id": "9cbf04ee",
   "metadata": {},
   "outputs": [
    {
     "data": {
      "text/plain": [
       "tensor(-inf, device='cuda:0')"
      ]
     },
     "execution_count": 457,
     "metadata": {},
     "output_type": "execute_result"
    }
   ],
   "source": [
    "torch.det(out.data)"
   ]
  },
  {
   "cell_type": "code",
   "execution_count": 458,
   "id": "f6dde95f",
   "metadata": {},
   "outputs": [],
   "source": [
    "diff = (out.data-A).abs()"
   ]
  },
  {
   "cell_type": "code",
   "execution_count": 459,
   "id": "94715418",
   "metadata": {},
   "outputs": [
    {
     "data": {
      "text/plain": [
       "(tensor(7.3761e-07, device='cuda:0'), tensor(1.6188, device='cuda:0'))"
      ]
     },
     "execution_count": 459,
     "metadata": {},
     "output_type": "execute_result"
    }
   ],
   "source": [
    "diff.min(), diff.max()"
   ]
  },
  {
   "cell_type": "code",
   "execution_count": 460,
   "id": "56433688",
   "metadata": {},
   "outputs": [
    {
     "data": {
      "text/plain": [
       "(tensor(0.4601, device='cuda:0'), tensor(0.2858, device='cuda:0'))"
      ]
     },
     "execution_count": 460,
     "metadata": {},
     "output_type": "execute_result"
    }
   ],
   "source": [
    "diff.mean(), diff.std()"
   ]
  },
  {
   "cell_type": "code",
   "execution_count": 461,
   "id": "883f609e",
   "metadata": {},
   "outputs": [
    {
     "data": {
      "image/png": "[encoded data removed]",
      "text/plain": [
       "<Figure size 432x288 with 1 Axes>"
      ]
     },
     "metadata": {
      "needs_background": "light"
     },
     "output_type": "display_data"
    }
   ],
   "source": [
    "plt.hist(diff.cpu().numpy().reshape(-1), bins=100)\n",
    "plt.show()"
   ]
  },
  {
   "cell_type": "code",
   "execution_count": null,
   "id": "0dd76c41",
   "metadata": {},
   "outputs": [],
   "source": []
  },
  {
   "cell_type": "markdown",
   "id": "d4046350",
   "metadata": {},
   "source": [
    "### Testing Factorized Stacking of 2x2 Factorization"
   ]
  },
  {
   "cell_type": "code",
   "execution_count": 462,
   "id": "c9e6e2ab",
   "metadata": {},
   "outputs": [],
   "source": [
    "class Stack_PairLinears(nn.Module):\n",
    "    \n",
    "    def __init__(self, input_dim, num_adds):\n",
    "        super().__init__()\n",
    "        self.pair_mixers = []\n",
    "        self.perm_indices = []\n",
    "        for i in range(num_adds):\n",
    "            m = sll.PairLinear_MixerBlock(input_dim, input_dim)\n",
    "            self.pair_mixers.append(m)\n",
    "            if i > 0:\n",
    "                rm = torch.randperm(input_dim)\n",
    "                self.perm_indices.append(rm)\n",
    "                \n",
    "        self.pair_mixers = nn.ModuleList(self.pair_mixers)\n",
    "        \n",
    "    def forward(self, x):\n",
    "        for i, m in enumerate(self.pair_mixers):\n",
    "            if i == 0:\n",
    "                x = m(x)\n",
    "            else:\n",
    "                x = m(x[:, self.perm_indices[i-1]])\n",
    "        return x"
   ]
  },
  {
   "cell_type": "code",
   "execution_count": 463,
   "id": "825750da",
   "metadata": {},
   "outputs": [],
   "source": [
    "model = Add_PairLinears(N, 4).to(device)"
   ]
  },
  {
   "cell_type": "code",
   "execution_count": 464,
   "id": "0b54eb7a",
   "metadata": {},
   "outputs": [
    {
     "data": {
      "text/plain": [
       "Add_PairLinears(\n",
       "  (pair_mixers): ModuleList(\n",
       "    (0): PairLinear_MixerBlock(\n",
       "      (selector): Identity()\n",
       "      (pairwise_mixing): ModuleList(\n",
       "        (0): PairLinear: [1024 -> 1024]\n",
       "        (1): PairLinear: [1024 -> 1024]\n",
       "        (2): PairLinear: [1024 -> 1024]\n",
       "        (3): PairLinear: [1024 -> 1024]\n",
       "        (4): PairLinear: [1024 -> 1024]\n",
       "        (5): PairLinear: [1024 -> 1024]\n",
       "        (6): PairLinear: [1024 -> 1024]\n",
       "        (7): PairLinear: [1024 -> 1024]\n",
       "        (8): PairLinear: [1024 -> 1024]\n",
       "        (9): PairLinear: [1024 -> 1024]\n",
       "      )\n",
       "      (reducer): Identity()\n",
       "    )\n",
       "    (1): PairLinear_MixerBlock(\n",
       "      (selector): Identity()\n",
       "      (pairwise_mixing): ModuleList(\n",
       "        (0): PairLinear: [1024 -> 1024]\n",
       "        (1): PairLinear: [1024 -> 1024]\n",
       "        (2): PairLinear: [1024 -> 1024]\n",
       "        (3): PairLinear: [1024 -> 1024]\n",
       "        (4): PairLinear: [1024 -> 1024]\n",
       "        (5): PairLinear: [1024 -> 1024]\n",
       "        (6): PairLinear: [1024 -> 1024]\n",
       "        (7): PairLinear: [1024 -> 1024]\n",
       "        (8): PairLinear: [1024 -> 1024]\n",
       "        (9): PairLinear: [1024 -> 1024]\n",
       "      )\n",
       "      (reducer): Identity()\n",
       "    )\n",
       "    (2): PairLinear_MixerBlock(\n",
       "      (selector): Identity()\n",
       "      (pairwise_mixing): ModuleList(\n",
       "        (0): PairLinear: [1024 -> 1024]\n",
       "        (1): PairLinear: [1024 -> 1024]\n",
       "        (2): PairLinear: [1024 -> 1024]\n",
       "        (3): PairLinear: [1024 -> 1024]\n",
       "        (4): PairLinear: [1024 -> 1024]\n",
       "        (5): PairLinear: [1024 -> 1024]\n",
       "        (6): PairLinear: [1024 -> 1024]\n",
       "        (7): PairLinear: [1024 -> 1024]\n",
       "        (8): PairLinear: [1024 -> 1024]\n",
       "        (9): PairLinear: [1024 -> 1024]\n",
       "      )\n",
       "      (reducer): Identity()\n",
       "    )\n",
       "    (3): PairLinear_MixerBlock(\n",
       "      (selector): Identity()\n",
       "      (pairwise_mixing): ModuleList(\n",
       "        (0): PairLinear: [1024 -> 1024]\n",
       "        (1): PairLinear: [1024 -> 1024]\n",
       "        (2): PairLinear: [1024 -> 1024]\n",
       "        (3): PairLinear: [1024 -> 1024]\n",
       "        (4): PairLinear: [1024 -> 1024]\n",
       "        (5): PairLinear: [1024 -> 1024]\n",
       "        (6): PairLinear: [1024 -> 1024]\n",
       "        (7): PairLinear: [1024 -> 1024]\n",
       "        (8): PairLinear: [1024 -> 1024]\n",
       "        (9): PairLinear: [1024 -> 1024]\n",
       "      )\n",
       "      (reducer): Identity()\n",
       "    )\n",
       "  )\n",
       ")"
      ]
     },
     "execution_count": 464,
     "metadata": {},
     "output_type": "execute_result"
    }
   ],
   "source": [
    "model"
   ]
  },
  {
   "cell_type": "code",
   "execution_count": 465,
   "id": "0e3e6bc1",
   "metadata": {},
   "outputs": [
    {
     "data": {
      "text/plain": [
       "tensor([[1., 0., 0.,  ..., 0., 0., 0.],\n",
       "        [0., 1., 0.,  ..., 0., 0., 0.],\n",
       "        [0., 0., 1.,  ..., 0., 0., 0.],\n",
       "        ...,\n",
       "        [0., 0., 0.,  ..., 1., 0., 0.],\n",
       "        [0., 0., 0.,  ..., 0., 1., 0.],\n",
       "        [0., 0., 0.,  ..., 0., 0., 1.]], device='cuda:0',\n",
       "       grad_fn=<AddBackward0>)"
      ]
     },
     "execution_count": 465,
     "metadata": {},
     "output_type": "execute_result"
    }
   ],
   "source": [
    "model(X)"
   ]
  },
  {
   "cell_type": "code",
   "execution_count": 466,
   "id": "6d31959e",
   "metadata": {},
   "outputs": [],
   "source": [
    "optimizer = torch.optim.Adam(model.parameters(), lr=0.01)\n",
    "# optimizer = torch.optim.SGD(model.parameters(), lr=0.1)"
   ]
  },
  {
   "cell_type": "code",
   "execution_count": 467,
   "id": "70f41577",
   "metadata": {},
   "outputs": [
    {
     "name": "stdout",
     "output_type": "stream",
     "text": [
      "The MSE loss is : 0.33698195219039917\n",
      "The MSE loss is : 0.294692724943161\n",
      "The MSE loss is : 0.29375672340393066\n",
      "The MSE loss is : 0.2934374511241913\n",
      "The MSE loss is : 0.2932818830013275\n",
      "The MSE loss is : 0.2932470738887787\n",
      "The MSE loss is : 0.2932029664516449\n",
      "The MSE loss is : 0.29320037364959717\n",
      "The MSE loss is : 0.2932015061378479\n",
      "The MSE loss is : 0.29320043325424194\n",
      "The MSE loss is : 0.29320043325424194\n",
      "The MSE loss is : 0.2932007908821106\n",
      "The MSE loss is : 0.2932009696960449\n",
      "The MSE loss is : 0.29320037364959717\n",
      "The MSE loss is : 0.29320040345191956\n",
      "The MSE loss is : 0.29320043325424194\n",
      "The MSE loss is : 0.2932018041610718\n",
      "The MSE loss is : 0.2932004928588867\n",
      "The MSE loss is : 0.29320037364959717\n",
      "The MSE loss is : 0.293201208114624\n"
     ]
    }
   ],
   "source": [
    "### forward propagation\n",
    "for i in range(20000):\n",
    "    out = model.forward(X)\n",
    "    loss = criterion(out, A)\n",
    "    optimizer.zero_grad()\n",
    "    loss.backward()\n",
    "    optimizer.step()\n",
    "    if i%1000 == 0:\n",
    "        print(f\"The MSE loss is : {float(mse(out,A))}\")\n",
    "#         print(f\"The MAE loss is : {float(mae(out,A))}\")\n",
    "#         diff = (out.data-A).abs()        \n",
    "#         plt.hist(diff.cpu().numpy().reshape(-1), bins=100)\n",
    "#         plt.show()"
   ]
  },
  {
   "cell_type": "code",
   "execution_count": 455,
   "id": "8002997b",
   "metadata": {},
   "outputs": [
    {
     "data": {
      "text/plain": [
       "'\\nThe MSE loss is : 0.3339892029762268\\nThe MSE loss is : 0.3258676826953888\\nThe MSE loss is : 0.32435426115989685\\nThe MSE loss is : 0.32379475235939026\\nThe MSE loss is : 0.32352203130722046\\nThe MSE loss is : 0.3233267366886139\\nThe MSE loss is : 0.3232240378856659\\nThe MSE loss is : 0.32311922311782837\\nThe MSE loss is : 0.3230302929878235\\nThe MSE loss is : 0.3229886293411255\\nThe MSE loss is : 0.32296428084373474\\nThe MSE loss is : 0.32294341921806335\\nThe MSE loss is : 0.3229249119758606\\nThe MSE loss is : 0.32291942834854126\\nThe MSE loss is : 0.32291924953460693\\nThe MSE loss is : 0.32291921973228455\\nThe MSE loss is : 0.32291924953460693\\nThe MSE loss is : 0.32291924953460693\\nThe MSE loss is : 0.32291921973228455\\nThe MSE loss is : 0.32291921973228455\\n'"
      ]
     },
     "execution_count": 455,
     "metadata": {},
     "output_type": "execute_result"
    }
   ],
   "source": [
    "'''\n",
    "The MSE loss is : 0.32291921973228455 --> For plain 2x2\n",
    "The MSE loss is : 0.2933475971221924 --> For 4 parallel added 2x2\n",
    "'''"
   ]
  },
  {
   "cell_type": "code",
   "execution_count": 468,
   "id": "fb25f786",
   "metadata": {},
   "outputs": [
    {
     "data": {
      "text/plain": [
       "tensor(-inf, device='cuda:0')"
      ]
     },
     "execution_count": 468,
     "metadata": {},
     "output_type": "execute_result"
    }
   ],
   "source": [
    "torch.det(A)"
   ]
  },
  {
   "cell_type": "code",
   "execution_count": 469,
   "id": "e0877a49",
   "metadata": {},
   "outputs": [
    {
     "data": {
      "text/plain": [
       "tensor(inf, device='cuda:0')"
      ]
     },
     "execution_count": 469,
     "metadata": {},
     "output_type": "execute_result"
    }
   ],
   "source": [
    "torch.det(out.data)"
   ]
  },
  {
   "cell_type": "code",
   "execution_count": 470,
   "id": "b467e808",
   "metadata": {},
   "outputs": [],
   "source": [
    "diff = (out.data-A).abs()"
   ]
  },
  {
   "cell_type": "code",
   "execution_count": 471,
   "id": "deda24a3",
   "metadata": {},
   "outputs": [
    {
     "data": {
      "text/plain": [
       "(tensor(2.0862e-07, device='cuda:0'), tensor(1.6561, device='cuda:0'))"
      ]
     },
     "execution_count": 471,
     "metadata": {},
     "output_type": "execute_result"
    }
   ],
   "source": [
    "diff.min(), diff.max()"
   ]
  },
  {
   "cell_type": "code",
   "execution_count": 472,
   "id": "e1cad500",
   "metadata": {},
   "outputs": [
    {
     "data": {
      "text/plain": [
       "(tensor(0.4598, device='cuda:0'), tensor(0.2860, device='cuda:0'))"
      ]
     },
     "execution_count": 472,
     "metadata": {},
     "output_type": "execute_result"
    }
   ],
   "source": [
    "diff.mean(), diff.std()"
   ]
  },
  {
   "cell_type": "code",
   "execution_count": 473,
   "id": "3f1ea0ed",
   "metadata": {},
   "outputs": [
    {
     "data": {
      "image/png": "[encoded data removed]",
      "text/plain": [
       "<Figure size 432x288 with 1 Axes>"
      ]
     },
     "metadata": {
      "needs_background": "light"
     },
     "output_type": "display_data"
    }
   ],
   "source": [
    "plt.hist(diff.cpu().numpy().reshape(-1), bins=100)\n",
    "plt.show()"
   ]
  },
  {
   "cell_type": "markdown",
   "id": "7ddbefb9",
   "metadata": {},
   "source": [
    "### Testing Factorized Multiplication of 2x2 Factorization\n",
    "\n",
    "It does not seem to work.. removing the codes"
   ]
  },
  {
   "cell_type": "code",
   "execution_count": 1,
   "id": "63ce6356",
   "metadata": {},
   "outputs": [
    {
     "name": "stdout",
     "output_type": "stream",
     "text": [
      "\n"
     ]
    }
   ],
   "source": [
    "'''\n",
    "The MSE loss is : 0.32291921973228455 --> For plain 2x2\n",
    "The MSE loss is : 0.2933475971221924 --> For 4 parallel added 2x2\n",
    "The MSE loss is : 0.293201208114624 --> For 4 serial composed 2x2\n",
    "  --> For 4 parallel multiplied 2x2\n",
    "'''\n",
    "print()"
   ]
  },
  {
   "cell_type": "code",
   "execution_count": null,
   "id": "3bb0f866",
   "metadata": {},
   "outputs": [],
   "source": []
  }
 ],
 "metadata": {
  "kernelspec": {
   "display_name": "Python 3",
   "language": "python",
   "name": "python3"
  },
  "language_info": {
   "codemirror_mode": {
    "name": "ipython",
    "version": 3
   },
   "file_extension": ".py",
   "mimetype": "text/x-python",
   "name": "python",
   "nbconvert_exporter": "python",
   "pygments_lexer": "ipython3",
   "version": "3.9.7"
  }
 },
 "nbformat": 4,
 "nbformat_minor": 5
}
