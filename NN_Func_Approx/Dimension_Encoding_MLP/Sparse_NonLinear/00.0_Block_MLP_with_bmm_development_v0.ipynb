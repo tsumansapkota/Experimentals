{
 "cells": [
  {
   "cell_type": "code",
   "execution_count": 1,
   "id": "b9adde6f",
   "metadata": {},
   "outputs": [],
   "source": [
    "import torch\n",
    "import torch.nn as nn\n",
    "import numpy as np\n",
    "import matplotlib.pyplot as plt"
   ]
  },
  {
   "cell_type": "code",
   "execution_count": 3,
   "id": "f16e6001",
   "metadata": {},
   "outputs": [],
   "source": [
    "%matplotlib inline\n",
    "from mpl_toolkits.mplot3d import Axes3D\n",
    "\n",
    "import torch.nn.functional as F\n",
    "import torch.optim as optim\n",
    "from torch.utils import data\n",
    "\n",
    "from tqdm import tqdm\n",
    "from sklearn import datasets\n",
    "import random, time, os, sys"
   ]
  },
  {
   "cell_type": "code",
   "execution_count": 191,
   "id": "62adff6d",
   "metadata": {},
   "outputs": [],
   "source": [
    "class BlockLinear(nn.Module):\n",
    "    def __init__(self, num_blocks, input_block_dim, output_block_dim, bias=True):\n",
    "        super().__init__()\n",
    "        self.weight = torch.randn(num_blocks, input_block_dim, output_block_dim)\n",
    "        \n",
    "        self.weight = nn.Parameter(self.weight)\n",
    "        \n",
    "        self.bias = None\n",
    "        if bias:\n",
    "            self.bias = nn.Parameter(torch.zeros(self.weight.shape[0], 1, output_block_dim))\n",
    "        \n",
    "    def forward(self, x):\n",
    "#         nblocks, bs, dim = x.shape[0], x.shape[1], x.shape[2]\n",
    "#         print(x.shape)\n",
    "        x = torch.bmm(x, self.weight)\n",
    "        if self.bias is not None:\n",
    "            x = x + self.bias\n",
    "        return x\n",
    "    \n",
    "    def __repr__(self):\n",
    "        S = f'BlockLinear: [{self.weight.shape}]'\n",
    "        return S"
   ]
  },
  {
   "cell_type": "code",
   "execution_count": 192,
   "id": "e71c189a",
   "metadata": {},
   "outputs": [],
   "source": [
    "bl = BlockLinear(256//4, 4, 5)"
   ]
  },
  {
   "cell_type": "code",
   "execution_count": 193,
   "id": "15aecb58",
   "metadata": {},
   "outputs": [
    {
     "data": {
      "text/plain": [
       "(torch.Size([64, 4, 5]), torch.Size([64, 1, 5]))"
      ]
     },
     "execution_count": 193,
     "metadata": {},
     "output_type": "execute_result"
    }
   ],
   "source": [
    "bl.weight.shape, bl.bias.shape"
   ]
  },
  {
   "cell_type": "code",
   "execution_count": 194,
   "id": "eb7eb2a1",
   "metadata": {},
   "outputs": [
    {
     "data": {
      "text/plain": [
       "torch.Size([64, 2, 5])"
      ]
     },
     "execution_count": 194,
     "metadata": {},
     "output_type": "execute_result"
    }
   ],
   "source": [
    "bl(torch.randn(64, 2, 4)).shape"
   ]
  },
  {
   "cell_type": "code",
   "execution_count": null,
   "id": "b820da62",
   "metadata": {},
   "outputs": [],
   "source": []
  },
  {
   "cell_type": "code",
   "execution_count": 195,
   "id": "920de99c",
   "metadata": {},
   "outputs": [],
   "source": [
    "class BlockMLP(nn.Module):\n",
    "    def __init__(self, input_dim, layer_dims, actf=nn.ELU):\n",
    "        super().__init__()\n",
    "        self.block_dim = layer_dims[0]\n",
    "        \n",
    "        assert input_dim%self.block_dim == 0, \"Input dim must be even number\"\n",
    "        ### Create a block MLP\n",
    "        self.mlp = []\n",
    "        n_blocks = input_dim//layer_dims[0]\n",
    "        for i in range(len(layer_dims)-1):\n",
    "            l = BlockLinear(n_blocks, layer_dims[i], layer_dims[i+1])\n",
    "#             print(l.weight.shape)\n",
    "            a = actf()\n",
    "            self.mlp.append(l)\n",
    "            self.mlp.append(a)\n",
    "        self.mlp = self.mlp[:-1]\n",
    "        self.mlp = nn.Sequential(*self.mlp)\n",
    "        \n",
    "    def forward(self, x):\n",
    "        bs, dim = x.shape[0], x.shape[1]\n",
    "        x = x.view(bs, -1, self.block_dim).transpose(0,1)\n",
    "        x = self.mlp(x) + x\n",
    "        x = x.transpose(1,0).reshape(bs, -1)\n",
    "        return x\n",
    "    \n",
    "#     def __repr__(self):\n",
    "#         S = f'BlockLinear: [{self.weight.shape}]'\n",
    "#         return S"
   ]
  },
  {
   "cell_type": "code",
   "execution_count": 196,
   "id": "58300000",
   "metadata": {},
   "outputs": [],
   "source": [
    "mlps = BlockMLP(256, [4, 5, 6])"
   ]
  },
  {
   "cell_type": "code",
   "execution_count": 197,
   "id": "a13a0503",
   "metadata": {},
   "outputs": [
    {
     "data": {
      "text/plain": [
       "torch.Size([64, 4, 5])"
      ]
     },
     "execution_count": 197,
     "metadata": {},
     "output_type": "execute_result"
    }
   ],
   "source": [
    "mlps.mlp[0].weight.shape"
   ]
  },
  {
   "cell_type": "code",
   "execution_count": 198,
   "id": "fd671902",
   "metadata": {},
   "outputs": [
    {
     "data": {
      "text/plain": [
       "torch.Size([2, 384])"
      ]
     },
     "execution_count": 198,
     "metadata": {},
     "output_type": "execute_result"
    }
   ],
   "source": [
    "mlps(torch.randn(2, 256)).shape"
   ]
  },
  {
   "cell_type": "code",
   "execution_count": 199,
   "id": "ff019343",
   "metadata": {},
   "outputs": [
    {
     "data": {
      "text/plain": [
       "384"
      ]
     },
     "execution_count": 199,
     "metadata": {},
     "output_type": "execute_result"
    }
   ],
   "source": [
    "64*6"
   ]
  },
  {
   "cell_type": "code",
   "execution_count": 200,
   "id": "64874ef4",
   "metadata": {},
   "outputs": [],
   "source": [
    "class BlockMLP_MixerBlock(nn.Module):\n",
    "    \n",
    "    def __init__(self, input_dim, block_dim, hidden_layers_ratio=[2], actf=nn.ELU):\n",
    "        super().__init__()\n",
    "        \n",
    "        assert input_dim%block_dim == 0, \"Input dim must be even number\"\n",
    "        self.input_dim = input_dim\n",
    "        self.block_dim = block_dim\n",
    "        \n",
    "        def log_base(a, base):\n",
    "            return np.log(a) / np.log(base)\n",
    "        \n",
    "        num_layers = int(np.ceil(log_base(input_dim, base=block_dim)))\n",
    "        hidden_layers_ratio = [1] + hidden_layers_ratio + [1]\n",
    "        \n",
    "        block_layer_dims = [int(a*block_dim) for a in hidden_layers_ratio]\n",
    "        self.facto_nets = []\n",
    "        for i in range(num_layers):\n",
    "            net = BlockMLP(self.input_dim, block_layer_dims, actf)\n",
    "            self.facto_nets.append(net)\n",
    "            \n",
    "        self.facto_nets = nn.ModuleList(self.facto_nets)\n",
    "            \n",
    "    def forward(self, x):\n",
    "        bs = x.shape[0]\n",
    "        y = x\n",
    "        for i, fn in enumerate(self.facto_nets):\n",
    "            y = y.view(-1, self.block_dim, self.block_dim**i).permute(0, 2, 1).contiguous().view(bs, -1)\n",
    "            y = fn(y)\n",
    "            y = y.view(-1, self.block_dim**i, self.block_dim).permute(0, 2, 1).contiguous()\n",
    "\n",
    "        y = y.view(bs, -1)\n",
    "        return y"
   ]
  },
  {
   "cell_type": "code",
   "execution_count": 259,
   "id": "1c98fe55",
   "metadata": {},
   "outputs": [],
   "source": [
    "N = 32\n",
    "M = 8\n",
    "bmlp = BlockMLP_MixerBlock(N, M, [2]) ## Input dim must be power of 2 and so does the block dim\n",
    "### Input dim / block dim = (in) 2^I"
   ]
  },
  {
   "cell_type": "code",
   "execution_count": 260,
   "id": "9bea548d",
   "metadata": {},
   "outputs": [
    {
     "data": {
      "text/plain": [
       "BlockMLP_MixerBlock(\n",
       "  (facto_nets): ModuleList(\n",
       "    (0): BlockMLP(\n",
       "      (mlp): Sequential(\n",
       "        (0): BlockLinear: [torch.Size([4, 8, 16])]\n",
       "        (1): ELU(alpha=1.0)\n",
       "        (2): BlockLinear: [torch.Size([4, 16, 8])]\n",
       "      )\n",
       "    )\n",
       "    (1): BlockMLP(\n",
       "      (mlp): Sequential(\n",
       "        (0): BlockLinear: [torch.Size([4, 8, 16])]\n",
       "        (1): ELU(alpha=1.0)\n",
       "        (2): BlockLinear: [torch.Size([4, 16, 8])]\n",
       "      )\n",
       "    )\n",
       "  )\n",
       ")"
      ]
     },
     "execution_count": 260,
     "metadata": {},
     "output_type": "execute_result"
    }
   ],
   "source": [
    "bmlp"
   ]
  },
  {
   "cell_type": "code",
   "execution_count": 261,
   "id": "aa323e5e",
   "metadata": {},
   "outputs": [
    {
     "data": {
      "text/plain": [
       "torch.Size([2, 32])"
      ]
     },
     "execution_count": 261,
     "metadata": {},
     "output_type": "execute_result"
    }
   ],
   "source": [
    "bmlp(torch.randn(2, N)).shape"
   ]
  },
  {
   "cell_type": "markdown",
   "id": "69822fc1",
   "metadata": {},
   "source": [
    "### Finding Valid sizes"
   ]
  },
  {
   "cell_type": "code",
   "execution_count": 267,
   "id": "61b4b439",
   "metadata": {},
   "outputs": [
    {
     "name": "stdout",
     "output_type": "stream",
     "text": [
      "Valid for M:2 N:2\n",
      "Valid for M:2 N:4\n",
      "Valid for M:4 N:4\n",
      "Valid for M:2 N:8\n",
      "Valid for M:4 N:8\n",
      "Valid for M:8 N:8\n",
      "Valid for M:2 N:16\n",
      "Valid for M:4 N:16\n",
      "Valid for M:16 N:16\n",
      "Valid for M:2 N:32\n",
      "Valid for M:4 N:32\n",
      "Valid for M:8 N:32\n",
      "Valid for M:32 N:32\n",
      "Valid for M:2 N:64\n",
      "Valid for M:4 N:64\n",
      "Valid for M:8 N:64\n",
      "Valid for M:64 N:64\n",
      "Valid for M:2 N:128\n",
      "Valid for M:4 N:128\n",
      "Valid for M:16 N:128\n",
      "Valid for M:128 N:128\n",
      "Valid for M:2 N:256\n",
      "Valid for M:4 N:256\n",
      "Valid for M:8 N:256\n",
      "Valid for M:16 N:256\n",
      "Valid for M:256 N:256\n",
      "Valid for M:2 N:512\n",
      "Valid for M:4 N:512\n",
      "Valid for M:8 N:512\n",
      "Valid for M:32 N:512\n",
      "Valid for M:512 N:512\n",
      "Valid for M:2 N:1024\n",
      "Valid for M:4 N:1024\n",
      "Valid for M:32 N:1024\n",
      "Valid for M:1024 N:1024\n",
      "Valid for M:2 N:2048\n",
      "Valid for M:4 N:2048\n",
      "Valid for M:8 N:2048\n",
      "Valid for M:16 N:2048\n",
      "Valid for M:64 N:2048\n",
      "Valid for M:2048 N:2048\n"
     ]
    }
   ],
   "source": [
    "valids = {}\n",
    "for p in range(1, 12):\n",
    "    N = int(2**p)\n",
    "    valids[N] = []\n",
    "    for q in range(1, p+1):\n",
    "        M = int(2**q)\n",
    "        net = BlockMLP_MixerBlock(N, M, [2])\n",
    "        try:\n",
    "            net(torch.randn(2, N))\n",
    "            print(f\"Valid for M:{M} N:{N}\")\n",
    "            valids[N].append(M)\n",
    "        except RuntimeError as e:\n",
    "#             print(e)\n",
    "            pass"
   ]
  },
  {
   "cell_type": "code",
   "execution_count": 268,
   "id": "36cd874b",
   "metadata": {},
   "outputs": [
    {
     "data": {
      "text/plain": [
       "{2: [2],\n",
       " 4: [2, 4],\n",
       " 8: [2, 4, 8],\n",
       " 16: [2, 4, 16],\n",
       " 32: [2, 4, 8, 32],\n",
       " 64: [2, 4, 8, 64],\n",
       " 128: [2, 4, 16, 128],\n",
       " 256: [2, 4, 8, 16, 256],\n",
       " 512: [2, 4, 8, 32, 512],\n",
       " 1024: [2, 4, 32, 1024],\n",
       " 2048: [2, 4, 8, 16, 64, 2048]}"
      ]
     },
     "execution_count": 268,
     "metadata": {},
     "output_type": "execute_result"
    }
   ],
   "source": [
    "valids"
   ]
  },
  {
   "cell_type": "code",
   "execution_count": 266,
   "id": "9bcaaddc",
   "metadata": {},
   "outputs": [
    {
     "name": "stdout",
     "output_type": "stream",
     "text": [
      "1 2 1.4142135623730951\n",
      "2 4 2.0\n",
      "3 8 2.8284271247461903\n",
      "4 16 4.0\n",
      "5 32 5.656854249492381\n",
      "6 64 8.0\n",
      "7 128 11.313708498984761\n",
      "8 256 16.0\n",
      "9 512 22.627416997969522\n"
     ]
    }
   ],
   "source": [
    "a = [print(a, 2**a, np.sqrt(2**a)) for a in range(1, 10)]"
   ]
  },
  {
   "cell_type": "code",
   "execution_count": null,
   "id": "8fc9826b",
   "metadata": {},
   "outputs": [],
   "source": []
  }
 ],
 "metadata": {
  "kernelspec": {
   "display_name": "Python 3",
   "language": "python",
   "name": "python3"
  },
  "language_info": {
   "codemirror_mode": {
    "name": "ipython",
    "version": 3
   },
   "file_extension": ".py",
   "mimetype": "text/x-python",
   "name": "python",
   "nbconvert_exporter": "python",
   "pygments_lexer": "ipython3",
   "version": "3.9.7"
  }
 },
 "nbformat": 4,
 "nbformat_minor": 5
}
