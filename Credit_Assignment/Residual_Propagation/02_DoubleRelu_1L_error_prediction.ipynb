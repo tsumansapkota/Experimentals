{
 "cells": [
  {
   "cell_type": "code",
   "execution_count": 1,
   "metadata": {},
   "outputs": [],
   "source": [
    "import numpy as np\n",
    "import matplotlib.pyplot as plt\n",
    "%matplotlib inline"
   ]
  },
  {
   "cell_type": "code",
   "execution_count": 2,
   "metadata": {},
   "outputs": [],
   "source": [
    "#Define a simple range of values for x and reshape so sklearn likes it.\n",
    "x = np.linspace(0,1,200)\n",
    "noise = np.random.normal(0,0.02, x.shape)\n",
    "x = x + noise\n",
    "y= (2 * np.sin(10*x) + np.cos(20 * x - 3) + 3 * np.log(10*x + 0.5) - 4)/6.\n",
    "noise = np.random.normal(0,0.1, x.shape)\n",
    "y = y + noise\n",
    "x = x - 0.5"
   ]
  },
  {
   "cell_type": "code",
   "execution_count": 3,
   "metadata": {},
   "outputs": [
    {
     "data": {
      "text/plain": [
       "<matplotlib.collections.PathCollection at 0x7f410bc87630>"
      ]
     },
     "execution_count": 3,
     "metadata": {},
     "output_type": "execute_result"
    },
    {
     "data": {
      "image/png": "[encoded data removed]",
      "text/plain": [
       "<Figure size 432x288 with 1 Axes>"
      ]
     },
     "metadata": {
      "needs_background": "light"
     },
     "output_type": "display_data"
    }
   ],
   "source": [
    "plt.scatter(x, y)"
   ]
  },
  {
   "cell_type": "code",
   "execution_count": 4,
   "metadata": {},
   "outputs": [],
   "source": [
    "xx = np.linspace(min(x), max(x), num=200)"
   ]
  },
  {
   "cell_type": "code",
   "execution_count": 5,
   "metadata": {},
   "outputs": [],
   "source": [
    "x_data = x.reshape(-1,1)\n",
    "y_data = y.reshape(-1,1)"
   ]
  },
  {
   "cell_type": "markdown",
   "metadata": {},
   "source": [
    "## Non Residual Network"
   ]
  },
  {
   "cell_type": "code",
   "execution_count": 6,
   "metadata": {},
   "outputs": [],
   "source": [
    "import mylibrary.nnlib as tnn"
   ]
  },
  {
   "cell_type": "code",
   "execution_count": 13,
   "metadata": {},
   "outputs": [
    {
     "name": "stdout",
     "output_type": "stream",
     "text": [
      "_______________________\n",
      "epoch 0\n",
      "Loss 0.09809135362818878\n",
      "\n",
      "_______________________\n",
      "epoch 100\n",
      "Loss 0.04178527640437617\n",
      "\n",
      "_______________________\n",
      "epoch 200\n",
      "Loss 0.041772848132522966\n",
      "\n",
      "_______________________\n",
      "epoch 300\n",
      "Loss 0.041772675700884415\n",
      "\n",
      "_______________________\n",
      "epoch 400\n",
      "Loss 0.04177267462124784\n",
      "\n",
      "_______________________\n",
      "epoch 500\n",
      "Loss 0.04177267362005182\n",
      "\n",
      "_______________________\n",
      "epoch 600\n",
      "Loss 0.04177267247358378\n",
      "\n",
      "_______________________\n",
      "epoch 700\n",
      "Loss 0.04177267118084034\n",
      "\n",
      "_______________________\n",
      "epoch 800\n",
      "Loss 0.0417726697385139\n",
      "\n",
      "_______________________\n",
      "epoch 900\n",
      "Loss 0.041772668141461564\n",
      "\n",
      "_______________________\n",
      "epoch 1000\n",
      "Loss 0.041772666382944454\n",
      "\n",
      "_______________________\n",
      "epoch 1100\n",
      "Loss 0.04177266445473827\n",
      "\n",
      "_______________________\n",
      "epoch 1200\n",
      "Loss 0.04177266234716485\n",
      "\n",
      "_______________________\n",
      "epoch 1300\n",
      "Loss 0.04177266216355036\n",
      "\n",
      "_______________________\n",
      "epoch 1400\n",
      "Loss 0.041772662171359796\n",
      "\n",
      "_______________________\n",
      "epoch 1500\n",
      "Loss 0.04177266216041337\n",
      "\n",
      "_______________________\n",
      "epoch 1600\n",
      "Loss 0.04177266215912443\n",
      "\n",
      "_______________________\n",
      "epoch 1700\n",
      "Loss 0.04177266219741023\n",
      "\n",
      "_______________________\n",
      "epoch 1800\n",
      "Loss 0.0417726621631952\n",
      "\n",
      "_______________________\n",
      "epoch 1900\n",
      "Loss 0.0417726621665858\n",
      "\n",
      "_______________________\n",
      "epoch 2000\n",
      "Loss 0.04177266216878067\n",
      "\n",
      "_______________________\n",
      "epoch 2100\n",
      "Loss 0.04177266218754669\n",
      "\n",
      "_______________________\n",
      "epoch 2200\n",
      "Loss 0.04177266220058966\n",
      "\n",
      "_______________________\n",
      "epoch 2300\n",
      "Loss 0.04177266215876295\n",
      "\n",
      "_______________________\n",
      "epoch 2400\n",
      "Loss 0.04177266220230345\n",
      "\n",
      "_______________________\n",
      "epoch 2500\n",
      "Loss 0.04177266219620824\n",
      "\n",
      "_______________________\n",
      "epoch 2600\n",
      "Loss 0.0417726621668659\n",
      "\n",
      "_______________________\n",
      "epoch 2700\n",
      "Loss 0.041772662174159196\n",
      "\n",
      "_______________________\n",
      "epoch 2800\n",
      "Loss 0.04177266215334557\n",
      "\n",
      "_______________________\n",
      "epoch 2900\n",
      "Loss 0.04177266218236235\n",
      "\n",
      "_______________________\n",
      "epoch 3000\n",
      "Loss 0.04177266220345579\n",
      "\n",
      "_______________________\n",
      "epoch 3100\n",
      "Loss 0.04177266217775573\n",
      "\n",
      "_______________________\n",
      "epoch 3200\n",
      "Loss 0.041772662186967444\n",
      "\n",
      "_______________________\n",
      "epoch 3300\n",
      "Loss 0.0417726621955513\n",
      "\n",
      "_______________________\n",
      "epoch 3400\n",
      "Loss 0.041772662215542565\n",
      "\n",
      "_______________________\n",
      "epoch 3500\n",
      "Loss 0.0417726622981565\n",
      "\n",
      "_______________________\n",
      "epoch 3600\n",
      "Loss 0.041772662194261956\n",
      "\n",
      "_______________________\n",
      "epoch 3700\n",
      "Loss 0.04177266217616039\n",
      "\n",
      "_______________________\n",
      "epoch 3800\n",
      "Loss 0.04177266220950446\n",
      "\n",
      "_______________________\n",
      "epoch 3900\n",
      "Loss 0.04177266229520104\n",
      "\n",
      "_______________________\n",
      "epoch 4000\n",
      "Loss 0.04177266233178274\n",
      "\n",
      "_______________________\n",
      "epoch 4100\n",
      "Loss 0.04177266234147117\n",
      "\n",
      "_______________________\n",
      "epoch 4200\n",
      "Loss 0.0417726632722812\n",
      "\n",
      "_______________________\n",
      "epoch 4300\n",
      "Loss 0.041772662489037334\n",
      "\n",
      "_______________________\n",
      "epoch 4400\n",
      "Loss 0.041772662171933685\n"
     ]
    },
    {
     "ename": "TclError",
     "evalue": "invalid command name \"pyimage144\"",
     "output_type": "error",
     "traceback": [
      "\u001b[0;31m---------------------------------------------------------------------------\u001b[0m",
      "\u001b[0;31mTclError\u001b[0m                                  Traceback (most recent call last)",
      "\u001b[0;32m<ipython-input-13-845f7af809a4>\u001b[0m in \u001b[0;36m<module>\u001b[0;34m\u001b[0m\n\u001b[1;32m     44\u001b[0m         \u001b[0mplt\u001b[0m\u001b[0;34m.\u001b[0m\u001b[0mlegend\u001b[0m\u001b[0;34m(\u001b[0m\u001b[0;34m)\u001b[0m\u001b[0;34m\u001b[0m\u001b[0;34m\u001b[0m\u001b[0m\n\u001b[1;32m     45\u001b[0m \u001b[0;34m\u001b[0m\u001b[0m\n\u001b[0;32m---> 46\u001b[0;31m         \u001b[0mfig\u001b[0m\u001b[0;34m.\u001b[0m\u001b[0mcanvas\u001b[0m\u001b[0;34m.\u001b[0m\u001b[0mdraw\u001b[0m\u001b[0;34m(\u001b[0m\u001b[0;34m)\u001b[0m\u001b[0;34m\u001b[0m\u001b[0;34m\u001b[0m\u001b[0m\n\u001b[0m\u001b[1;32m     47\u001b[0m \u001b[0;34m\u001b[0m\u001b[0m\n\u001b[1;32m     48\u001b[0m         \u001b[0mplt\u001b[0m\u001b[0;34m.\u001b[0m\u001b[0mpause\u001b[0m\u001b[0;34m(\u001b[0m\u001b[0;36m0.01\u001b[0m\u001b[0;34m)\u001b[0m\u001b[0;34m\u001b[0m\u001b[0;34m\u001b[0m\u001b[0m\n",
      "\u001b[0;32m~/Program_Files/miniconda3.7/lib/python3.7/site-packages/matplotlib/backends/backend_tkagg.py\u001b[0m in \u001b[0;36mdraw\u001b[0;34m(self)\u001b[0m\n\u001b[1;32m      8\u001b[0m     \u001b[0;32mdef\u001b[0m \u001b[0mdraw\u001b[0m\u001b[0;34m(\u001b[0m\u001b[0mself\u001b[0m\u001b[0;34m)\u001b[0m\u001b[0;34m:\u001b[0m\u001b[0;34m\u001b[0m\u001b[0;34m\u001b[0m\u001b[0m\n\u001b[1;32m      9\u001b[0m         \u001b[0msuper\u001b[0m\u001b[0;34m(\u001b[0m\u001b[0mFigureCanvasTkAgg\u001b[0m\u001b[0;34m,\u001b[0m \u001b[0mself\u001b[0m\u001b[0;34m)\u001b[0m\u001b[0;34m.\u001b[0m\u001b[0mdraw\u001b[0m\u001b[0;34m(\u001b[0m\u001b[0;34m)\u001b[0m\u001b[0;34m\u001b[0m\u001b[0;34m\u001b[0m\u001b[0m\n\u001b[0;32m---> 10\u001b[0;31m         \u001b[0m_backend_tk\u001b[0m\u001b[0;34m.\u001b[0m\u001b[0mblit\u001b[0m\u001b[0;34m(\u001b[0m\u001b[0mself\u001b[0m\u001b[0;34m.\u001b[0m\u001b[0m_tkphoto\u001b[0m\u001b[0;34m,\u001b[0m \u001b[0mself\u001b[0m\u001b[0;34m.\u001b[0m\u001b[0mrenderer\u001b[0m\u001b[0;34m.\u001b[0m\u001b[0m_renderer\u001b[0m\u001b[0;34m,\u001b[0m \u001b[0;34m(\u001b[0m\u001b[0;36m0\u001b[0m\u001b[0;34m,\u001b[0m \u001b[0;36m1\u001b[0m\u001b[0;34m,\u001b[0m \u001b[0;36m2\u001b[0m\u001b[0;34m,\u001b[0m \u001b[0;36m3\u001b[0m\u001b[0;34m)\u001b[0m\u001b[0;34m)\u001b[0m\u001b[0;34m\u001b[0m\u001b[0;34m\u001b[0m\u001b[0m\n\u001b[0m\u001b[1;32m     11\u001b[0m         \u001b[0mself\u001b[0m\u001b[0;34m.\u001b[0m\u001b[0m_master\u001b[0m\u001b[0;34m.\u001b[0m\u001b[0mupdate_idletasks\u001b[0m\u001b[0;34m(\u001b[0m\u001b[0;34m)\u001b[0m\u001b[0;34m\u001b[0m\u001b[0;34m\u001b[0m\u001b[0m\n\u001b[1;32m     12\u001b[0m \u001b[0;34m\u001b[0m\u001b[0m\n",
      "\u001b[0;32m~/Program_Files/miniconda3.7/lib/python3.7/site-packages/matplotlib/backends/_backend_tk.py\u001b[0m in \u001b[0;36mblit\u001b[0;34m(photoimage, aggimage, offsets, bbox)\u001b[0m\n\u001b[1;32m     86\u001b[0m                    math.floor(y1), math.ceil(y2))\n\u001b[1;32m     87\u001b[0m     \u001b[0;32melse\u001b[0m\u001b[0;34m:\u001b[0m\u001b[0;34m\u001b[0m\u001b[0;34m\u001b[0m\u001b[0m\n\u001b[0;32m---> 88\u001b[0;31m         \u001b[0mphotoimage\u001b[0m\u001b[0;34m.\u001b[0m\u001b[0mblank\u001b[0m\u001b[0;34m(\u001b[0m\u001b[0;34m)\u001b[0m\u001b[0;34m\u001b[0m\u001b[0;34m\u001b[0m\u001b[0m\n\u001b[0m\u001b[1;32m     89\u001b[0m         \u001b[0mbboxptr\u001b[0m \u001b[0;34m=\u001b[0m \u001b[0;34m(\u001b[0m\u001b[0;36m0\u001b[0m\u001b[0;34m,\u001b[0m \u001b[0mwidth\u001b[0m\u001b[0;34m,\u001b[0m \u001b[0;36m0\u001b[0m\u001b[0;34m,\u001b[0m \u001b[0mheight\u001b[0m\u001b[0;34m)\u001b[0m\u001b[0;34m\u001b[0m\u001b[0;34m\u001b[0m\u001b[0m\n\u001b[1;32m     90\u001b[0m     _tkagg.blit(\n",
      "\u001b[0;32m~/Program_Files/miniconda3.7/lib/python3.7/tkinter/__init__.py\u001b[0m in \u001b[0;36mblank\u001b[0;34m(self)\u001b[0m\n\u001b[1;32m   3546\u001b[0m     \u001b[0;32mdef\u001b[0m \u001b[0mblank\u001b[0m\u001b[0;34m(\u001b[0m\u001b[0mself\u001b[0m\u001b[0;34m)\u001b[0m\u001b[0;34m:\u001b[0m\u001b[0;34m\u001b[0m\u001b[0;34m\u001b[0m\u001b[0m\n\u001b[1;32m   3547\u001b[0m         \u001b[0;34m\"\"\"Display a transparent image.\"\"\"\u001b[0m\u001b[0;34m\u001b[0m\u001b[0;34m\u001b[0m\u001b[0m\n\u001b[0;32m-> 3548\u001b[0;31m         \u001b[0mself\u001b[0m\u001b[0;34m.\u001b[0m\u001b[0mtk\u001b[0m\u001b[0;34m.\u001b[0m\u001b[0mcall\u001b[0m\u001b[0;34m(\u001b[0m\u001b[0mself\u001b[0m\u001b[0;34m.\u001b[0m\u001b[0mname\u001b[0m\u001b[0;34m,\u001b[0m \u001b[0;34m'blank'\u001b[0m\u001b[0;34m)\u001b[0m\u001b[0;34m\u001b[0m\u001b[0;34m\u001b[0m\u001b[0m\n\u001b[0m\u001b[1;32m   3549\u001b[0m     \u001b[0;32mdef\u001b[0m \u001b[0mcget\u001b[0m\u001b[0;34m(\u001b[0m\u001b[0mself\u001b[0m\u001b[0;34m,\u001b[0m \u001b[0moption\u001b[0m\u001b[0;34m)\u001b[0m\u001b[0;34m:\u001b[0m\u001b[0;34m\u001b[0m\u001b[0;34m\u001b[0m\u001b[0m\n\u001b[1;32m   3550\u001b[0m         \u001b[0;34m\"\"\"Return the value of OPTION.\"\"\"\u001b[0m\u001b[0;34m\u001b[0m\u001b[0;34m\u001b[0m\u001b[0m\n",
      "\u001b[0;31mTclError\u001b[0m: invalid command name \"pyimage144\""
     ]
    }
   ],
   "source": [
    "optimizer = tnn.Adam()\n",
    "\n",
    "# bias = tnn.BiasLayer(1, optimizer=optimizer)\n",
    "bias = tnn.LinearLayer(1,1, optimizer=optimizer)\n",
    "out1 = tnn.DoubleRelu()\n",
    "linear = tnn.LinearLayer(2, 1,optimizer=optimizer)\n",
    "linear.weights = np.zeros_like(linear.weights)\n",
    "\n",
    "net1 = tnn.AutoForm()\n",
    "net1.collect_global_layers()\n",
    "\n",
    "\n",
    "%matplotlib tk\n",
    "fig = plt.figure()\n",
    "ax = fig.add_subplot(1, 1, 1)\n",
    "\n",
    "plt.ion()\n",
    "fig.show()\n",
    "fig.canvas.draw()\n",
    "\n",
    "for step in range(100000):\n",
    "    a1 = net1.forward(x_data)\n",
    "    \n",
    "    loss = tnn.MseLoss.loss(a1, y_data)\n",
    "    dy = tnn.MseLoss.del_loss(a1, y_data)\n",
    "    \n",
    "    dx = net1.backward(dy)\n",
    "    \n",
    "    net1.update()\n",
    "    \n",
    "    if step % 100 == 0:\n",
    "\n",
    "        print('_______________________')\n",
    "        print(\"epoch\", step)\n",
    "        print(\"Loss\", loss)\n",
    "\n",
    "        ax.clear()\n",
    "        plt.scatter(x, y, marker='.', c='g', label='x,y')\n",
    "        plt.scatter(x, a1.reshape(-1), marker='.', c='r', lw=3, label='x,a1')\n",
    "        plt.scatter(x, dx.reshape(-1), marker='*', c='c', lw=1, label='x,dx')\n",
    "        plt.scatter(x, dy.reshape(-1), marker='.', c='m', lw=1, label='x,dy')\n",
    "        plt.plot(x, np.zeros_like(x), c='b', lw=2)\n",
    "#         plt.scatter(x, da1.reshape(-1), marker='.', c='y', lw=1, label='x,da1')\n",
    "        plt.legend()\n",
    "        \n",
    "        fig.canvas.draw()\n",
    "        \n",
    "        plt.pause(0.01)\n",
    "        print()\n",
    "        if loss < 0.0025:\n",
    "            print('fitted to our expectation')\n",
    "            plt.pause(50)\n",
    "            break"
   ]
  },
  {
   "cell_type": "code",
   "execution_count": 8,
   "metadata": {},
   "outputs": [
    {
     "data": {
      "text/plain": [
       "[<matplotlib.lines.Line2D at 0x7f8110bc5400>]"
      ]
     },
     "execution_count": 8,
     "metadata": {},
     "output_type": "execute_result"
    },
    {
     "data": {
      "image/png": "[encoded data removed]",
      "text/plain": [
       "<Figure size 432x288 with 1 Axes>"
      ]
     },
     "metadata": {},
     "output_type": "display_data"
    }
   ],
   "source": [
    "%matplotlib inline\n",
    "plt.scatter(x, y, marker='.', c='g', label='x,y')\n",
    "plt.scatter(x, a1.reshape(-1), marker='.', c='r', lw=3, label='x,a1')\n",
    "plt.scatter(x, dx.reshape(-1), marker='*', c='c', lw=1, label='x,dx')\n",
    "plt.scatter(x, dy.reshape(-1), marker='.', c='m', lw=1, label='x,dy')\n",
    "plt.plot(x, np.zeros_like(x), c='b', lw=2)"
   ]
  },
  {
   "cell_type": "code",
   "execution_count": 9,
   "metadata": {},
   "outputs": [
    {
     "data": {
      "text/plain": [
       "<matplotlib.collections.PathCollection at 0x7f8110e58b00>"
      ]
     },
     "execution_count": 9,
     "metadata": {},
     "output_type": "execute_result"
    },
    {
     "data": {
      "image/png": "[encoded data removed]",
      "text/plain": [
       "<Figure size 432x288 with 1 Axes>"
      ]
     },
     "metadata": {},
     "output_type": "display_data"
    }
   ],
   "source": [
    "plt.scatter(x, y, marker='.', c='g', label='x,y')\n",
    "plt.scatter(x, linear.input[:,0], marker='.', c='violet', label='x,a1')\n",
    "plt.scatter(x, linear.input[:,1], marker='.', c='pink', label='x,a1')\n",
    "plt.scatter(x, linear.zee-linear.bias, marker='.', c='r', label='x,a2')"
   ]
  },
  {
   "cell_type": "code",
   "execution_count": 10,
   "metadata": {},
   "outputs": [
    {
     "data": {
      "text/plain": [
       "<matplotlib.collections.PathCollection at 0x7f8110d767b8>"
      ]
     },
     "execution_count": 10,
     "metadata": {},
     "output_type": "execute_result"
    },
    {
     "data": {
      "image/png": "[encoded data removed]",
      "text/plain": [
       "<Figure size 432x288 with 1 Axes>"
      ]
     },
     "metadata": {},
     "output_type": "display_data"
    }
   ],
   "source": [
    "plt.scatter(x, y, marker='.', c='g', label='x,y')\n",
    "# plt.scatter(x, linear.input[:,0], marker='.', c='violet', label='x,a1')\n",
    "# plt.scatter(x, linear.input[:,1], marker='.', c='pink', label='x,a1')\n",
    "plt.scatter(x, linear.zee, marker='.', c='r', label='x,a2')\n",
    "plt.scatter(x, out1.del_output[:,0], marker='+', c='c', label='x,da1')\n",
    "plt.scatter(x, out1.del_output[:,1], marker='+', c='teal', label='x,da1')"
   ]
  },
  {
   "cell_type": "code",
   "execution_count": 11,
   "metadata": {},
   "outputs": [
    {
     "data": {
      "text/plain": [
       "(0.00692668233581392, 0.04579932619965407)"
      ]
     },
     "execution_count": 11,
     "metadata": {},
     "output_type": "execute_result"
    },
    {
     "data": {
      "image/png": "[encoded data removed]",
      "text/plain": [
       "<Figure size 432x288 with 1 Axes>"
      ]
     },
     "metadata": {},
     "output_type": "display_data"
    }
   ],
   "source": [
    "plt.scatter(x, y, marker='.', c='g', label='x,y')\n",
    "mask = out1.x >= 0.\n",
    "plt.scatter(x[mask.reshape(-1)], bias.del_output[mask], marker='+', c='b', label='x,da1')\n",
    "plt.scatter(x[~mask.reshape(-1)], bias.del_output[~mask], marker='+', c='m', label='x,da1')\n",
    "plt.scatter(x[mask.reshape(-1)], dy[mask], marker='.', c='c', label='x,a1')\n",
    "plt.scatter(x[~mask.reshape(-1)], dy[~mask], marker='.', c='pink', label='x,a1')\n",
    "error1 = tnn.MseLoss().loss(a1[mask], y_data[mask])\n",
    "error2 = tnn.MseLoss().loss(a1[~mask], y_data[~mask])\n",
    "error1, error2"
   ]
  },
  {
   "cell_type": "code",
   "execution_count": 50,
   "metadata": {},
   "outputs": [],
   "source": [
    "# doing for splitted data\n",
    "x_new = out1.x[out1.x <0].reshape(-1,1)\n",
    "y_new = y_data[out1.x <0].reshape(-1,1)\n",
    "# xnmean = x_new.mean()\n",
    "# ynmean = y_new.mean()\n",
    "# x_new = x_new - xnmean\n",
    "# y_new = y_new - ynmean"
   ]
  },
  {
   "cell_type": "code",
   "execution_count": 53,
   "metadata": {},
   "outputs": [],
   "source": [
    "bl1 = tnn.BiasLayer(1, optimizer=optimizer)\n",
    "dr1 = tnn.DoubleRelu()\n",
    "ll1 = tnn.LinearLayer(2, 1,optimizer=optimizer)\n",
    "# ll1.weights = np.zeros_like(ll1.weights)\n",
    "\n",
    "net2 = tnn.AutoForm()\n",
    "net2.layerList = [bl1, dr1, ll1]"
   ]
  },
  {
   "cell_type": "code",
   "execution_count": 54,
   "metadata": {},
   "outputs": [
    {
     "name": "stdout",
     "output_type": "stream",
     "text": [
      "_______________________\n",
      "epoch 0\n",
      "Loss 0.30748149312710993\n",
      "[[ 0.58846868]\n",
      " [-1.08669861]]\n",
      "\n",
      "_______________________\n",
      "epoch 100\n",
      "Loss 0.05817889341190812\n",
      "[[ 1.50727745]\n",
      " [-0.65243779]]\n",
      "\n",
      "_______________________\n",
      "epoch 200\n",
      "Loss 0.05323761882637196\n",
      "[[ 1.8806849 ]\n",
      " [-0.51623653]]\n",
      "\n",
      "_______________________\n",
      "epoch 300\n",
      "Loss 0.049334911174597956\n",
      "[[ 2.20620535]\n",
      " [-0.33130224]]\n",
      "\n",
      "_______________________\n",
      "epoch 400\n",
      "Loss 0.0461286870053454\n",
      "[[ 2.43427415]\n",
      " [-0.11971576]]\n",
      "\n",
      "_______________________\n",
      "epoch 500\n",
      "Loss 0.042811357536629346\n",
      "[[2.67556284]\n",
      " [0.11354201]]\n",
      "\n",
      "_______________________\n",
      "epoch 600\n",
      "Loss 0.03948738935270102\n",
      "[[2.95026485]\n",
      " [0.34920811]]\n",
      "\n",
      "_______________________\n",
      "epoch 700\n",
      "Loss 0.03697630495904811\n",
      "[[3.24359448]\n",
      " [0.55680891]]\n",
      "\n",
      "_______________________\n",
      "epoch 800\n",
      "Loss 0.035669569624811624\n",
      "[[3.50726641]\n",
      " [0.69863268]]\n",
      "\n",
      "_______________________\n",
      "epoch 900\n",
      "Loss 0.035231966095421265\n",
      "[[3.70472227]\n",
      " [0.76901446]]\n",
      "\n",
      "_______________________\n",
      "epoch 1000\n",
      "Loss 0.035089649635863314\n",
      "[[3.84448922]\n",
      " [0.7895781 ]]\n",
      "\n",
      "_______________________\n",
      "epoch 1100\n",
      "Loss 0.03502465566522156\n",
      "[[3.94896076]\n",
      " [0.79097102]]\n",
      "\n",
      "_______________________\n",
      "epoch 1200\n",
      "Loss 0.0349895834129591\n",
      "[[4.02824116]\n",
      " [0.78580512]]\n",
      "\n",
      "_______________________\n",
      "epoch 1300\n",
      "Loss 0.03496346168991244\n",
      "[[4.09944144]\n",
      " [0.78384999]]\n",
      "\n",
      "_______________________\n",
      "epoch 1400\n",
      "Loss 0.03494412773444285\n",
      "[[4.16288999]\n",
      " [0.78331985]]\n",
      "\n",
      "_______________________\n",
      "epoch 1500\n",
      "Loss 0.03493018010972471\n",
      "[[4.21861199]\n",
      " [0.78328767]]\n",
      "\n",
      "_______________________\n",
      "epoch 1600\n",
      "Loss 0.03492040618862834\n",
      "[[4.2668017 ]\n",
      " [0.78339648]]\n",
      "\n",
      "_______________________\n",
      "epoch 1700\n",
      "Loss 0.03491376089160926\n",
      "[[4.30782078]\n",
      " [0.7835248 ]]\n",
      "\n",
      "_______________________\n",
      "epoch 1800\n",
      "Loss 0.034909381292535104\n",
      "[[4.34217151]\n",
      " [0.78363806]]\n",
      "\n",
      "_______________________\n",
      "epoch 1900\n",
      "Loss 0.034906586247883176\n",
      "[[4.37046019]\n",
      " [0.78373005]]\n",
      "\n",
      "_______________________\n",
      "epoch 2000\n",
      "Loss 0.0349048608785435\n",
      "[[4.3933583 ]\n",
      " [0.78380244]]\n",
      "\n",
      "_______________________\n",
      "epoch 2100\n",
      "Loss 0.03490403984787885\n",
      "[[4.40994248]\n",
      " [0.78306991]]\n",
      "\n",
      "_______________________\n",
      "epoch 2200\n",
      "Loss 0.03490377052636309\n",
      "[[4.41849041]\n",
      " [0.78172729]]\n",
      "\n",
      "_______________________\n",
      "epoch 2300\n",
      "Loss 0.03490411315040742\n",
      "[[4.42271343]\n",
      " [0.78062876]]\n",
      "\n",
      "_______________________\n",
      "epoch 2400\n",
      "Loss 0.03490450583515633\n",
      "[[4.4237783 ]\n",
      " [0.77994754]]\n",
      "\n",
      "_______________________\n",
      "epoch 2500\n",
      "Loss 0.03490472461499327\n",
      "[[4.42341844]\n",
      " [0.77974157]]\n",
      "\n",
      "_______________________\n",
      "epoch 2600\n",
      "Loss 0.03490486767889528\n",
      "[[4.42323652]\n",
      " [0.77969878]]\n",
      "\n",
      "_______________________\n",
      "epoch 2700\n",
      "Loss 0.03490543526783067\n",
      "[[4.42299799]\n",
      " [0.77972945]]\n",
      "\n",
      "_______________________\n",
      "epoch 2800\n",
      "Loss 0.03490360191996203\n",
      "[[4.42523553]\n",
      " [0.78050701]]\n",
      "\n",
      "_______________________\n",
      "epoch 2900\n",
      "Loss 0.03490358683388025\n",
      "[[4.4264694 ]\n",
      " [0.78025394]]\n",
      "\n",
      "_______________________\n",
      "epoch 3000\n",
      "Loss 0.03490374448938403\n",
      "[[4.42684919]\n",
      " [0.78015693]]\n",
      "\n",
      "_______________________\n",
      "epoch 3100\n",
      "Loss 0.034903880889820126\n",
      "[[4.42699398]\n",
      " [0.78019503]]\n",
      "\n",
      "_______________________\n",
      "epoch 3200\n",
      "Loss 0.034903632545400694\n",
      "[[4.42569651]\n",
      " [0.77953712]]\n",
      "\n",
      "_______________________\n",
      "epoch 3300\n",
      "Loss 0.03490372343150419\n",
      "[[4.42508064]\n",
      " [0.77937741]]\n",
      "\n",
      "_______________________\n",
      "epoch 3400\n",
      "Loss 0.034903578112859414\n",
      "[[4.42660742]\n",
      " [0.78013798]]\n",
      "\n",
      "_______________________\n",
      "epoch 3500\n",
      "Loss 0.034903797660775046\n",
      "[[4.42597785]\n",
      " [0.78016465]]\n",
      "\n",
      "_______________________\n",
      "epoch 3600\n",
      "Loss 0.034903838181642784\n",
      "[[4.42445473]\n",
      " [0.77911828]]\n",
      "\n",
      "_______________________\n",
      "epoch 3700\n",
      "Loss 0.034903574518903725\n",
      "[[4.42623943]\n",
      " [0.78008385]]\n",
      "\n",
      "_______________________\n",
      "epoch 3800\n",
      "Loss 0.034904181427234136\n",
      "[[4.42655805]\n",
      " [0.78020117]]\n",
      "\n",
      "_______________________\n",
      "epoch 3900\n",
      "Loss 0.034904023344574084\n",
      "[[4.42590052]\n",
      " [0.78007843]]\n",
      "\n",
      "_______________________\n",
      "epoch 4000\n",
      "Loss 0.03490395222666569\n",
      "[[4.42492219]\n",
      " [0.77981895]]\n",
      "\n",
      "_______________________\n",
      "epoch 4100\n",
      "Loss 0.034904662662478\n",
      "[[4.42454046]\n",
      " [0.77988861]]\n",
      "\n",
      "_______________________\n",
      "epoch 4200\n",
      "Loss 0.03490365306307995\n",
      "[[4.42504298]\n",
      " [0.7799318 ]]\n",
      "\n",
      "_______________________\n",
      "epoch 4300\n",
      "Loss 0.03490412179658602\n",
      "[[4.4251355 ]\n",
      " [0.77998402]]\n",
      "\n",
      "_______________________\n",
      "epoch 4400\n",
      "Loss 0.034903840955586886\n",
      "[[4.42419536]\n",
      " [0.77970975]]\n",
      "\n",
      "_______________________\n",
      "epoch 4500\n",
      "Loss 0.03490387626888108\n",
      "[[4.42318114]\n",
      " [0.77972055]]\n",
      "\n",
      "_______________________\n",
      "epoch 4600\n",
      "Loss 0.034903888867254665\n",
      "[[4.42283901]\n",
      " [0.77972181]]\n",
      "\n",
      "_______________________\n",
      "epoch 4700\n",
      "Loss 0.03490389196599931\n",
      "[[4.42273176]\n",
      " [0.77972398]]\n",
      "\n",
      "_______________________\n",
      "epoch 4800\n",
      "Loss 0.034903891553015355\n",
      "[[4.42270086]\n",
      " [0.77972668]]\n",
      "\n",
      "_______________________\n",
      "epoch 4900\n",
      "Loss 0.034903889618192005\n",
      "[[4.4226926 ]\n",
      " [0.77972979]]\n",
      "\n",
      "_______________________\n",
      "epoch 5000\n",
      "Loss 0.0349038867382996\n",
      "[[4.42268992]\n",
      " [0.7797333 ]]\n",
      "\n",
      "_______________________\n",
      "epoch 5100\n",
      "Loss 0.034903883045390084\n",
      "[[4.42268769]\n",
      " [0.77973724]]\n",
      "\n",
      "_______________________\n",
      "epoch 5200\n",
      "Loss 0.034903878567064735\n",
      "[[4.42268437]\n",
      " [0.77974161]]\n"
     ]
    },
    {
     "ename": "TclError",
     "evalue": "this isn't a Tk application",
     "output_type": "error",
     "traceback": [
      "\u001b[0;31m---------------------------------------------------------------------------\u001b[0m",
      "\u001b[0;31mTclError\u001b[0m                                  Traceback (most recent call last)",
      "\u001b[0;32m~/.local/lib/python3.6/site-packages/matplotlib/backends/tkagg.py\u001b[0m in \u001b[0;36mblit\u001b[0;34m(photoimage, aggimage, bbox, colormode)\u001b[0m\n\u001b[1;32m     25\u001b[0m             \u001b[0;34m\"PyAggImagePhoto\"\u001b[0m\u001b[0;34m,\u001b[0m \u001b[0mphotoimage\u001b[0m\u001b[0;34m,\u001b[0m\u001b[0;34m\u001b[0m\u001b[0;34m\u001b[0m\u001b[0m\n\u001b[0;32m---> 26\u001b[0;31m             dataptr, colormode, bboxptr)\n\u001b[0m\u001b[1;32m     27\u001b[0m     \u001b[0;32mexcept\u001b[0m \u001b[0mTk\u001b[0m\u001b[0;34m.\u001b[0m\u001b[0mTclError\u001b[0m\u001b[0;34m:\u001b[0m\u001b[0;34m\u001b[0m\u001b[0;34m\u001b[0m\u001b[0m\n",
      "\u001b[0;31mTclError\u001b[0m: this isn't a Tk application",
      "\nDuring handling of the above exception, another exception occurred:\n",
      "\u001b[0;31mTclError\u001b[0m                                  Traceback (most recent call last)",
      "\u001b[0;32m<ipython-input-54-7d88f3a5307f>\u001b[0m in \u001b[0;36m<module>\u001b[0;34m()\u001b[0m\n\u001b[1;32m     33\u001b[0m         \u001b[0mplt\u001b[0m\u001b[0;34m.\u001b[0m\u001b[0mlegend\u001b[0m\u001b[0;34m(\u001b[0m\u001b[0;34m)\u001b[0m\u001b[0;34m\u001b[0m\u001b[0;34m\u001b[0m\u001b[0m\n\u001b[1;32m     34\u001b[0m \u001b[0;34m\u001b[0m\u001b[0m\n\u001b[0;32m---> 35\u001b[0;31m         \u001b[0mfig\u001b[0m\u001b[0;34m.\u001b[0m\u001b[0mcanvas\u001b[0m\u001b[0;34m.\u001b[0m\u001b[0mdraw\u001b[0m\u001b[0;34m(\u001b[0m\u001b[0;34m)\u001b[0m\u001b[0;34m\u001b[0m\u001b[0;34m\u001b[0m\u001b[0m\n\u001b[0m\u001b[1;32m     36\u001b[0m \u001b[0;34m\u001b[0m\u001b[0m\n\u001b[1;32m     37\u001b[0m         \u001b[0mplt\u001b[0m\u001b[0;34m.\u001b[0m\u001b[0mpause\u001b[0m\u001b[0;34m(\u001b[0m\u001b[0;36m0.01\u001b[0m\u001b[0;34m)\u001b[0m\u001b[0;34m\u001b[0m\u001b[0;34m\u001b[0m\u001b[0m\n",
      "\u001b[0;32m~/.local/lib/python3.6/site-packages/matplotlib/backends/backend_tkagg.py\u001b[0m in \u001b[0;36mdraw\u001b[0;34m(self)\u001b[0m\n\u001b[1;32m     11\u001b[0m     \u001b[0;32mdef\u001b[0m \u001b[0mdraw\u001b[0m\u001b[0;34m(\u001b[0m\u001b[0mself\u001b[0m\u001b[0;34m)\u001b[0m\u001b[0;34m:\u001b[0m\u001b[0;34m\u001b[0m\u001b[0;34m\u001b[0m\u001b[0m\n\u001b[1;32m     12\u001b[0m         \u001b[0msuper\u001b[0m\u001b[0;34m(\u001b[0m\u001b[0mFigureCanvasTkAgg\u001b[0m\u001b[0;34m,\u001b[0m \u001b[0mself\u001b[0m\u001b[0;34m)\u001b[0m\u001b[0;34m.\u001b[0m\u001b[0mdraw\u001b[0m\u001b[0;34m(\u001b[0m\u001b[0;34m)\u001b[0m\u001b[0;34m\u001b[0m\u001b[0;34m\u001b[0m\u001b[0m\n\u001b[0;32m---> 13\u001b[0;31m         \u001b[0mtkagg\u001b[0m\u001b[0;34m.\u001b[0m\u001b[0mblit\u001b[0m\u001b[0;34m(\u001b[0m\u001b[0mself\u001b[0m\u001b[0;34m.\u001b[0m\u001b[0m_tkphoto\u001b[0m\u001b[0;34m,\u001b[0m \u001b[0mself\u001b[0m\u001b[0;34m.\u001b[0m\u001b[0mrenderer\u001b[0m\u001b[0;34m.\u001b[0m\u001b[0m_renderer\u001b[0m\u001b[0;34m,\u001b[0m \u001b[0mcolormode\u001b[0m\u001b[0;34m=\u001b[0m\u001b[0;36m2\u001b[0m\u001b[0;34m)\u001b[0m\u001b[0;34m\u001b[0m\u001b[0;34m\u001b[0m\u001b[0m\n\u001b[0m\u001b[1;32m     14\u001b[0m         \u001b[0mself\u001b[0m\u001b[0;34m.\u001b[0m\u001b[0m_master\u001b[0m\u001b[0;34m.\u001b[0m\u001b[0mupdate_idletasks\u001b[0m\u001b[0;34m(\u001b[0m\u001b[0;34m)\u001b[0m\u001b[0;34m\u001b[0m\u001b[0;34m\u001b[0m\u001b[0m\n\u001b[1;32m     15\u001b[0m \u001b[0;34m\u001b[0m\u001b[0m\n",
      "\u001b[0;32m~/.local/lib/python3.6/site-packages/matplotlib/backends/tkagg.py\u001b[0m in \u001b[0;36mblit\u001b[0;34m(photoimage, aggimage, bbox, colormode)\u001b[0m\n\u001b[1;32m     32\u001b[0m             \u001b[0m_tkagg\u001b[0m\u001b[0;34m.\u001b[0m\u001b[0mtkinit\u001b[0m\u001b[0;34m(\u001b[0m\u001b[0mtk\u001b[0m\u001b[0;34m,\u001b[0m \u001b[0;36m0\u001b[0m\u001b[0;34m)\u001b[0m\u001b[0;34m\u001b[0m\u001b[0;34m\u001b[0m\u001b[0m\n\u001b[1;32m     33\u001b[0m         tk.call(\"PyAggImagePhoto\", photoimage,\n\u001b[0;32m---> 34\u001b[0;31m                 dataptr, colormode, bboxptr)\n\u001b[0m\u001b[1;32m     35\u001b[0m \u001b[0;34m\u001b[0m\u001b[0m\n\u001b[1;32m     36\u001b[0m \u001b[0;32mdef\u001b[0m \u001b[0mtest\u001b[0m\u001b[0;34m(\u001b[0m\u001b[0maggimage\u001b[0m\u001b[0;34m)\u001b[0m\u001b[0;34m:\u001b[0m\u001b[0;34m\u001b[0m\u001b[0;34m\u001b[0m\u001b[0m\n",
      "\u001b[0;31mTclError\u001b[0m: this isn't a Tk application"
     ]
    }
   ],
   "source": [
    "%matplotlib tk\n",
    "fig = plt.figure()\n",
    "ax = fig.add_subplot(1, 1, 1)\n",
    "\n",
    "plt.ion()\n",
    "fig.show()\n",
    "fig.canvas.draw()\n",
    "\n",
    "for step in range(100000):\n",
    "    a1 = net2.forward(x_new)\n",
    "    \n",
    "    loss = tnn.MseLoss.loss(a1, y_new)\n",
    "    dy = tnn.MseLoss.del_loss(a1, y_new)\n",
    "    \n",
    "    dx = net2.backward(dy)\n",
    "    \n",
    "    net2.update()\n",
    "    \n",
    "    if step % 100 == 0:\n",
    "\n",
    "        print('_______________________')\n",
    "        print(\"epoch\", step)\n",
    "        print(\"Loss\", loss)\n",
    "        print(ll1.weights)\n",
    "\n",
    "        ax.clear()\n",
    "        plt.scatter(x_new.reshape(-1), y_new.reshape(-1), marker='.', c='g', label='x,y')\n",
    "        plt.scatter(x_new.reshape(-1), a1.reshape(-1), marker='.', c='r', lw=3, label='x,a1')\n",
    "        plt.scatter(x_new.reshape(-1), dx.reshape(-1), marker='*', c='c', lw=1, label='x,dx')\n",
    "        plt.scatter(x_new.reshape(-1), dy.reshape(-1), marker='.', c='m', lw=1, label='x,dy')\n",
    "        plt.plot(x_new.reshape(-1), x_new*0., c='b', lw=2)\n",
    "#         plt.scatter(x, da1.reshape(-1), marker='.', c='y', lw=1, label='x,da1')\n",
    "        plt.legend()\n",
    "        \n",
    "        fig.canvas.draw()\n",
    "        \n",
    "        plt.pause(0.01)\n",
    "        print()\n",
    "        if loss < 0.0025:\n",
    "            print('fitted to our expectation')\n",
    "            plt.pause(50)\n",
    "            break"
   ]
  },
  {
   "cell_type": "code",
   "execution_count": 55,
   "metadata": {},
   "outputs": [
    {
     "data": {
      "text/plain": [
       "[<matplotlib.lines.Line2D at 0x7f8110d6c8d0>]"
      ]
     },
     "execution_count": 55,
     "metadata": {},
     "output_type": "execute_result"
    },
    {
     "data": {
      "image/png": "[encoded data removed]",
      "text/plain": [
       "<Figure size 432x288 with 1 Axes>"
      ]
     },
     "metadata": {},
     "output_type": "display_data"
    }
   ],
   "source": [
    "%matplotlib inline\n",
    "plt.scatter(x_new.reshape(-1), y_new.reshape(-1), marker='.', c='g', label='x,y')\n",
    "plt.scatter(x_new.reshape(-1), a1.reshape(-1), marker='.', c='r', lw=3, label='x,a1')\n",
    "plt.scatter(x_new.reshape(-1), dx.reshape(-1), marker='*', c='c', lw=1, label='x,dx')\n",
    "plt.scatter(x_new.reshape(-1), dy.reshape(-1), marker='.', c='m', lw=1, label='x,dy')\n",
    "plt.plot(x_new.reshape(-1), x_new*0., c='b', lw=2)"
   ]
  },
  {
   "cell_type": "code",
   "execution_count": 61,
   "metadata": {},
   "outputs": [
    {
     "data": {
      "text/plain": [
       "<matplotlib.collections.PathCollection at 0x7f81101ea0f0>"
      ]
     },
     "execution_count": 61,
     "metadata": {},
     "output_type": "execute_result"
    },
    {
     "data": {
      "image/png": "[encoded data removed]",
      "text/plain": [
       "<Figure size 432x288 with 1 Axes>"
      ]
     },
     "metadata": {},
     "output_type": "display_data"
    }
   ],
   "source": [
    "y_ = net1.forward(x_data)\n",
    "mask = out1.x >=0\n",
    "y_0 = y_*mask\n",
    "\n",
    "x_1 = out1.x\n",
    "y_1 = net2.forward(x_1)\n",
    "y_1 = y_1*(~mask)\n",
    "y_ = y_1 + y_0\n",
    "\n",
    "plt.scatter(x, y, marker='.', c='g', label='x,y')\n",
    "plt.scatter(x, y_, marker='.', c='r', label='x,y')"
   ]
  },
  {
   "cell_type": "code",
   "execution_count": 62,
   "metadata": {},
   "outputs": [],
   "source": [
    "# predicting the data locally gives discontinuous function"
   ]
  },
  {
   "cell_type": "code",
   "execution_count": null,
   "metadata": {},
   "outputs": [],
   "source": []
  }
 ],
 "metadata": {
  "kernelspec": {
   "display_name": "Python 3",
   "language": "python",
   "name": "python3"
  },
  "language_info": {
   "codemirror_mode": {
    "name": "ipython",
    "version": 3
   },
   "file_extension": ".py",
   "mimetype": "text/x-python",
   "name": "python",
   "nbconvert_exporter": "python",
   "pygments_lexer": "ipython3",
   "version": "3.7.3"
  }
 },
 "nbformat": 4,
 "nbformat_minor": 2
}
