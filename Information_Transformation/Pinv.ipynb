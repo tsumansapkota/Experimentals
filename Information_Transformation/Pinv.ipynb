{
 "cells": [
  {
   "cell_type": "code",
   "execution_count": 15,
   "metadata": {},
   "outputs": [],
   "source": [
    "import numpy as np\n",
    "import matplotlib.pyplot as plt\n",
    "%matplotlib inline"
   ]
  },
  {
   "cell_type": "code",
   "execution_count": 29,
   "metadata": {},
   "outputs": [
    {
     "data": {
      "text/plain": [
       "array([[-0.79013965,  0.60131466, -0.12347002,  0.82708671,  0.03126058],\n",
       "       [-0.54180611,  0.05252372, -0.31632757,  0.76464639,  0.90505527],\n",
       "       [ 0.48879739,  0.40548716, -0.31966373,  0.52811849, -0.58586846],\n",
       "       [-0.09086377, -0.49303337, -0.08085707, -0.8357242 , -0.81763495]])"
      ]
     },
     "execution_count": 29,
     "metadata": {},
     "output_type": "execute_result"
    }
   ],
   "source": [
    "X = np.random.uniform(-1,1, size=(4,5))\n",
    "X"
   ]
  },
  {
   "cell_type": "code",
   "execution_count": 30,
   "metadata": {},
   "outputs": [
    {
     "data": {
      "text/plain": [
       "array([[ 0.22194111, -0.86871251,  0.46676849],\n",
       "       [-0.67016222, -0.75309537, -0.23428997],\n",
       "       [-0.33799055, -0.10558079,  0.32666252],\n",
       "       [-0.91071327, -0.5858674 , -0.72126639],\n",
       "       [ 0.57946891,  0.95939431,  0.8097936 ]])"
      ]
     },
     "execution_count": 30,
     "metadata": {},
     "output_type": "execute_result"
    }
   ],
   "source": [
    "# W = np.random.normal(size=(5,3))\n",
    "W = np.random.uniform(-1,1, size=(5,3))\n",
    "W"
   ]
  },
  {
   "cell_type": "code",
   "execution_count": 31,
   "metadata": {},
   "outputs": [
    {
     "data": {
      "text/plain": [
       "array([[-1.27173544, -0.20797894, -1.12126254],\n",
       "       [-0.22045496,  0.88483997, -0.18714194],\n",
       "       [-0.87567169, -1.56773083, -0.82661516],\n",
       "       [ 0.62488594,  0.16396183, -0.01264831]])"
      ]
     },
     "execution_count": 31,
     "metadata": {},
     "output_type": "execute_result"
    }
   ],
   "source": [
    "np.matmul(X, W)"
   ]
  },
  {
   "cell_type": "code",
   "execution_count": 32,
   "metadata": {},
   "outputs": [
    {
     "data": {
      "text/plain": [
       "array([[-1.27173544, -0.20797894, -1.12126254],\n",
       "       [-0.22045496,  0.88483997, -0.18714194],\n",
       "       [-0.87567169, -1.56773083, -0.82661516],\n",
       "       [ 0.62488594,  0.16396183, -0.01264831]])"
      ]
     },
     "execution_count": 32,
     "metadata": {},
     "output_type": "execute_result"
    }
   ],
   "source": [
    "Y = X.dot(W) # same as matmul\n",
    "Y"
   ]
  },
  {
   "cell_type": "code",
   "execution_count": 33,
   "metadata": {},
   "outputs": [
    {
     "data": {
      "text/plain": [
       "array([[ 0.42557217, -0.54177406, -0.99263928, -0.52690298, -0.47092898],\n",
       "       [-0.70535755, -0.1227556 ,  0.17803823,  0.09868762,  0.38713558],\n",
       "       [ 0.37530859,  0.3677855 ,  0.91737894, -0.09073687,  0.67408221]])"
      ]
     },
     "execution_count": 33,
     "metadata": {},
     "output_type": "execute_result"
    }
   ],
   "source": [
    "Wi = np.linalg.pinv(W)\n",
    "Wi"
   ]
  },
  {
   "cell_type": "code",
   "execution_count": 34,
   "metadata": {},
   "outputs": [
    {
     "name": "stdout",
     "output_type": "stream",
     "text": [
      "[[ 0.88238711  0.15806807  0.05323208 -0.24502571 -0.12618768]\n",
      " [ 0.15806807  0.36935473  0.31621689  0.30004802 -0.13388191]\n",
      " [ 0.05323208  0.31621689  0.6163786   0.13802838  0.33849286]\n",
      " [-0.24502571  0.30004802  0.13802838  0.48748513 -0.28412169]\n",
      " [-0.12618768 -0.13388191  0.33849286 -0.28412169  0.64439444]]\n",
      "[[ 1.00000000e+00 -1.86296207e-16 -5.42616285e-17]\n",
      " [-2.19756618e-17  1.00000000e+00 -5.08297762e-17]\n",
      " [-3.55423715e-16  3.00671586e-16  1.00000000e+00]]\n"
     ]
    }
   ],
   "source": [
    "print(W.dot(Wi))\n",
    "print(Wi.dot(W))"
   ]
  },
  {
   "cell_type": "code",
   "execution_count": 35,
   "metadata": {},
   "outputs": [
    {
     "name": "stdout",
     "output_type": "stream",
     "text": [
      "X= [[-0.79013965  0.60131466 -0.12347002  0.82708671  0.03126058]\n",
      " [-0.54180611  0.05252372 -0.31632757  0.76464639  0.90505527]\n",
      " [ 0.48879739  0.40548716 -0.31966373  0.52811849 -0.58586846]\n",
      " [-0.09086377 -0.49303337 -0.08085707 -0.8357242  -0.81763495]]\n",
      "(4, 5) \n",
      "\n",
      "W= [[ 0.22194111 -0.86871251  0.46676849]\n",
      " [-0.67016222 -0.75309537 -0.23428997]\n",
      " [-0.33799055 -0.10558079  0.32666252]\n",
      " [-0.91071327 -0.5858674  -0.72126639]\n",
      " [ 0.57946891  0.95939431  0.8097936 ]]\n",
      "(5, 3) \n",
      "\n",
      "Y= [[-1.27173544 -0.20797894 -1.12126254]\n",
      " [-0.22045496  0.88483997 -0.18714194]\n",
      " [-0.87567169 -1.56773083 -0.82661516]\n",
      " [ 0.62488594  0.16396183 -0.01264831]]\n",
      "(4, 3) \n",
      "\n",
      "Wi= [[ 0.42557217 -0.54177406 -0.99263928 -0.52690298 -0.47092898]\n",
      " [-0.70535755 -0.1227556   0.17803823  0.09868762  0.38713558]\n",
      " [ 0.37530859  0.3677855   0.91737894 -0.09073687  0.67408221]]\n",
      "(3, 5) \n",
      "\n"
     ]
    }
   ],
   "source": [
    "print(\"X=\",X)\n",
    "print(X.shape,\"\\n\")\n",
    "print(\"W=\",W)\n",
    "print(W.shape,\"\\n\")\n",
    "print(\"Y=\",Y)\n",
    "print(Y.shape,\"\\n\")\n",
    "\n",
    "print(\"Wi=\",Wi)\n",
    "print(Wi.shape,\"\\n\")"
   ]
  },
  {
   "cell_type": "code",
   "execution_count": 36,
   "metadata": {},
   "outputs": [
    {
     "data": {
      "text/plain": [
       "array([[-0.81533517,  0.30213976,  0.19672371,  0.75129609, -0.23744211],\n",
       "       [-0.78818403, -0.05801038,  0.20468752,  0.2204618 ,  0.32022261],\n",
       "       [ 0.4229135 ,  0.36284689, -0.16820924,  0.38168287, -0.75175179],\n",
       "       [ 0.14553533, -0.3633261 , -0.60269815, -0.31192559, -0.23932744]])"
      ]
     },
     "execution_count": 36,
     "metadata": {},
     "output_type": "execute_result"
    }
   ],
   "source": [
    "Xi = Y@Wi\n",
    "Xi"
   ]
  },
  {
   "cell_type": "code",
   "execution_count": 28,
   "metadata": {},
   "outputs": [
    {
     "data": {
      "text/plain": [
       "array([[ 0.27215987, -0.57363933, -0.46939884, -0.13497349,  0.10050564],\n",
       "       [ 0.22351644, -0.43188949, -0.68446175,  0.09185301, -0.28313517],\n",
       "       [ 0.06884945, -0.19025788,  0.2253302 , -0.26743791,  0.44628832],\n",
       "       [ 0.03725156, -0.155474  ,  0.5223319 , -0.41619204,  0.73124316]])"
      ]
     },
     "execution_count": 28,
     "metadata": {},
     "output_type": "execute_result"
    }
   ],
   "source": [
    "Xi - X"
   ]
  },
  {
   "cell_type": "code",
   "execution_count": null,
   "metadata": {},
   "outputs": [],
   "source": []
  }
 ],
 "metadata": {
  "kernelspec": {
   "display_name": "Python 3",
   "language": "python",
   "name": "python3"
  },
  "language_info": {
   "codemirror_mode": {
    "name": "ipython",
    "version": 3
   },
   "file_extension": ".py",
   "mimetype": "text/x-python",
   "name": "python",
   "nbconvert_exporter": "python",
   "pygments_lexer": "ipython3",
   "version": "3.5.3"
  }
 },
 "nbformat": 4,
 "nbformat_minor": 2
}
