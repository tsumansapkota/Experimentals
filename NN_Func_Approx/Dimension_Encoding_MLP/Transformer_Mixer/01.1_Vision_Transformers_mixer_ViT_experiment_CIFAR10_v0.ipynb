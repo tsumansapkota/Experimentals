{
 "cells": [
  {
   "cell_type": "code",
   "execution_count": 1,
   "id": "6287145e",
   "metadata": {},
   "outputs": [],
   "source": [
    "import torch\n",
    "import torch.nn as nn\n",
    "from torchvision import datasets, transforms\n",
    "\n",
    "import matplotlib\n",
    "import matplotlib.pyplot as plt\n",
    "import numpy as np\n",
    "\n",
    "import os, sys, pathlib, random, time, pickle, copy, json\n",
    "from tqdm import tqdm"
   ]
  },
  {
   "cell_type": "code",
   "execution_count": 2,
   "id": "49924ba9",
   "metadata": {},
   "outputs": [],
   "source": [
    "device = torch.device(\"cuda:0\")\n",
    "# device = torch.device(\"cpu\")"
   ]
  },
  {
   "cell_type": "code",
   "execution_count": 3,
   "id": "7f4b8961",
   "metadata": {},
   "outputs": [],
   "source": [
    "# SEED = 147\n",
    "# SEED = 258\n",
    "SEED = 369\n",
    "\n",
    "torch.manual_seed(SEED)\n",
    "np.random.seed(SEED)"
   ]
  },
  {
   "cell_type": "code",
   "execution_count": 4,
   "id": "0173cd89",
   "metadata": {},
   "outputs": [],
   "source": [
    "import torch.optim as optim\n",
    "from torch.utils import data"
   ]
  },
  {
   "cell_type": "code",
   "execution_count": 5,
   "id": "cf9f67dd",
   "metadata": {},
   "outputs": [
    {
     "name": "stdout",
     "output_type": "stream",
     "text": [
      "Files already downloaded and verified\n",
      "Files already downloaded and verified\n"
     ]
    }
   ],
   "source": [
    "cifar_train = transforms.Compose([\n",
    "    transforms.RandomCrop(size=32, padding=4),\n",
    "    transforms.RandomHorizontalFlip(),\n",
    "    transforms.ToTensor(),\n",
    "    transforms.Normalize(\n",
    "        mean=[0.4914, 0.4822, 0.4465], # mean=[0.5071, 0.4865, 0.4409] for cifar100\n",
    "        std=[0.2023, 0.1994, 0.2010], # std=[0.2009, 0.1984, 0.2023] for cifar100\n",
    "    ),\n",
    "])\n",
    "\n",
    "cifar_test = transforms.Compose([\n",
    "    transforms.ToTensor(),\n",
    "    transforms.Normalize(\n",
    "        mean=[0.4914, 0.4822, 0.4465], # mean=[0.5071, 0.4865, 0.4409] for cifar100\n",
    "        std=[0.2023, 0.1994, 0.2010], # std=[0.2009, 0.1984, 0.2023] for cifar100\n",
    "    ),\n",
    "])\n",
    "\n",
    "train_dataset = datasets.CIFAR10(root=\"../../../../../_Datasets/cifar10/\", train=True, download=True, transform=cifar_train)\n",
    "test_dataset = datasets.CIFAR10(root=\"../../../../../_Datasets/cifar10/\", train=False, download=True, transform=cifar_test)"
   ]
  },
  {
   "cell_type": "code",
   "execution_count": 6,
   "id": "dbdc0585",
   "metadata": {},
   "outputs": [],
   "source": [
    "train_loader = torch.utils.data.DataLoader(dataset=train_dataset, batch_size=32, shuffle=True, num_workers=2)\n",
    "test_loader = torch.utils.data.DataLoader(dataset=test_dataset, batch_size=32, shuffle=False, num_workers=2)"
   ]
  },
  {
   "cell_type": "code",
   "execution_count": 7,
   "id": "45072db4",
   "metadata": {},
   "outputs": [
    {
     "data": {
      "text/plain": [
       "torch.Size([32, 3, 32, 32])"
      ]
     },
     "execution_count": 7,
     "metadata": {},
     "output_type": "execute_result"
    }
   ],
   "source": [
    "## demo of train loader\n",
    "xx, yy = iter(train_loader).next()\n",
    "xx.shape"
   ]
  },
  {
   "cell_type": "markdown",
   "id": "e0d2e11b",
   "metadata": {},
   "source": [
    "# Model"
   ]
  },
  {
   "cell_type": "code",
   "execution_count": 8,
   "id": "dcaa3d62",
   "metadata": {},
   "outputs": [],
   "source": [
    "from transformers_lib import TransformerBlock, \\\n",
    "        Mixer_TransformerBlock_Encoder, \\\n",
    "        PositionalEncoding, \\\n",
    "        ViT_Classifier"
   ]
  },
  {
   "cell_type": "code",
   "execution_count": 9,
   "id": "b45f6816",
   "metadata": {},
   "outputs": [],
   "source": [
    "class Mixer_ViT_Classifier(nn.Module):\n",
    "    \n",
    "    def __init__(self, image_dim:tuple, patch_size:tuple, hidden_expansion:float, num_blocks:int, num_classes:int):\n",
    "        super().__init__()\n",
    "        \n",
    "        self.img_dim = image_dim ### must contain (C, H, W) or (H, W)\n",
    "        \n",
    "        ### find patch dim\n",
    "        d0 = int(image_dim[-2]/patch_size[0])\n",
    "        d1 = int(image_dim[-1]/patch_size[1])\n",
    "        assert d0*patch_size[0]==image_dim[-2], \"Image must be divisible into patch size\"\n",
    "        assert d1*patch_size[1]==image_dim[-1], \"Image must be divisible into patch size\"\n",
    "#         self.d0, self.d1 = d0, d1 ### number of patches in each axis\n",
    "        __patch_size = patch_size[0]*patch_size[1]*image_dim[0] ## number of channels in each patch\n",
    "    \n",
    "        ### find channel dim\n",
    "        channel_size = d0*d1 ## number of patches\n",
    "        \n",
    "        ### after the number of channels are changed\n",
    "        init_dim = __patch_size\n",
    "        final_dim = int(__patch_size*hidden_expansion/2)*2\n",
    "        self.unfold = nn.Unfold(kernel_size=patch_size, stride=patch_size)\n",
    "        #### rescale the patches (patch wise image non preserving transform, unlike bilinear interpolation)\n",
    "        self.channel_change = nn.Linear(init_dim, final_dim)\n",
    "        print(f\"ViT Mixer : Channes per patch -> Initial:{init_dim} Final:{final_dim}\")\n",
    "        \n",
    "        \n",
    "        self.channel_dim = final_dim\n",
    "        self.patch_dim = channel_size\n",
    "        \n",
    "        self.transformer_blocks = []\n",
    "        \n",
    "        f = self.get_factors(self.channel_dim)\n",
    "        print(f)\n",
    "        fi = np.abs(np.array(f) - np.sqrt(self.channel_dim)).argmin()\n",
    "        \n",
    "        _n_heads = f[fi]\n",
    "        \n",
    "        ## number of dims per channel -> channel_dim\n",
    "        print('Num patches',self.patch_dim)\n",
    "        print(self.channel_dim, _n_heads)\n",
    "        \n",
    "        ### Find the block size for sequence:\n",
    "        block_seq_size = int(2**np.ceil(np.log2(np.sqrt(16))))\n",
    "        \n",
    "#         block = int(np.ceil(np.sqrt(self.patch_dim)))\n",
    "        for i in range(num_blocks):\n",
    "            L = Mixer_TransformerBlock_Encoder(self.patch_dim, block_seq_size, self.channel_dim, _n_heads, 0, 2)\n",
    "            self.transformer_blocks.append(L)\n",
    "        self.transformer_blocks = nn.Sequential(*self.transformer_blocks)\n",
    "        \n",
    "        self.linear = nn.Linear(self.patch_dim*self.channel_dim, num_classes)\n",
    "        self.positional_encoding = PositionalEncoding(self.channel_dim, dropout=0)\n",
    "        \n",
    "        \n",
    "    def get_factors(self, n):\n",
    "        facts = []\n",
    "        for i in range(2, n+1):\n",
    "            if n%i == 0:\n",
    "                facts.append(i)\n",
    "        return facts\n",
    "    \n",
    "    def forward(self, x):\n",
    "        bs = x.shape[0]\n",
    "        x = self.unfold(x).swapaxes(-1, -2)\n",
    "        x = self.channel_change(x)\n",
    "#         x = self.positional_encoding(x)\n",
    "        x = self.transformer_blocks(x)\n",
    "        x = self.linear(x.view(bs, -1))\n",
    "        return x"
   ]
  },
  {
   "cell_type": "code",
   "execution_count": 10,
   "id": "297726a9",
   "metadata": {},
   "outputs": [
    {
     "name": "stdout",
     "output_type": "stream",
     "text": [
      "ViT Mixer : Channes per patch -> Initial:48 Final:114\n",
      "[2, 3, 6, 19, 38, 57, 114]\n",
      "Num patches 64\n",
      "114 6\n"
     ]
    }
   ],
   "source": [
    "vit_mixer = Mixer_ViT_Classifier((3, 32, 32), patch_size=[4, 4], hidden_expansion=2.4, num_blocks=1, num_classes=10)"
   ]
  },
  {
   "cell_type": "code",
   "execution_count": 11,
   "id": "0c009dec",
   "metadata": {},
   "outputs": [
    {
     "data": {
      "text/plain": [
       "Mixer_ViT_Classifier(\n",
       "  (unfold): Unfold(kernel_size=[4, 4], dilation=1, padding=0, stride=[4, 4])\n",
       "  (channel_change): Linear(in_features=48, out_features=114, bias=True)\n",
       "  (transformer_blocks): Sequential(\n",
       "    (0): Mixer_TransformerBlock_Encoder(\n",
       "      (sparse_transformers): ModuleList(\n",
       "        (0): Sparse_TransformerBlock(\n",
       "          (attention): SelfAttention_Sparse(\n",
       "            (values): Linear(in_features=114, out_features=114, bias=True)\n",
       "            (keys): Linear(in_features=114, out_features=114, bias=True)\n",
       "            (queries): Linear(in_features=114, out_features=114, bias=True)\n",
       "            (fc_out): Linear(in_features=114, out_features=114, bias=True)\n",
       "          )\n",
       "          (norm1): LayerNorm((114,), eps=1e-05, elementwise_affine=True)\n",
       "          (feed_forward): Sequential(\n",
       "            (0): Linear(in_features=114, out_features=228, bias=True)\n",
       "            (1): GELU()\n",
       "            (2): Linear(in_features=228, out_features=114, bias=True)\n",
       "          )\n",
       "          (norm2): LayerNorm((114,), eps=1e-05, elementwise_affine=True)\n",
       "          (dropout): Dropout(p=0, inplace=False)\n",
       "        )\n",
       "        (1): Sparse_TransformerBlock(\n",
       "          (attention): SelfAttention_Sparse(\n",
       "            (values): Linear(in_features=114, out_features=114, bias=True)\n",
       "            (keys): Linear(in_features=114, out_features=114, bias=True)\n",
       "            (queries): Linear(in_features=114, out_features=114, bias=True)\n",
       "            (fc_out): Linear(in_features=114, out_features=114, bias=True)\n",
       "          )\n",
       "          (norm1): LayerNorm((114,), eps=1e-05, elementwise_affine=True)\n",
       "          (feed_forward): Sequential(\n",
       "            (0): Linear(in_features=114, out_features=228, bias=True)\n",
       "            (1): GELU()\n",
       "            (2): Linear(in_features=228, out_features=114, bias=True)\n",
       "          )\n",
       "          (norm2): LayerNorm((114,), eps=1e-05, elementwise_affine=True)\n",
       "          (dropout): Dropout(p=0, inplace=False)\n",
       "        )\n",
       "        (2): Sparse_TransformerBlock(\n",
       "          (attention): SelfAttention_Sparse(\n",
       "            (values): Linear(in_features=114, out_features=114, bias=True)\n",
       "            (keys): Linear(in_features=114, out_features=114, bias=True)\n",
       "            (queries): Linear(in_features=114, out_features=114, bias=True)\n",
       "            (fc_out): Linear(in_features=114, out_features=114, bias=True)\n",
       "          )\n",
       "          (norm1): LayerNorm((114,), eps=1e-05, elementwise_affine=True)\n",
       "          (feed_forward): Sequential(\n",
       "            (0): Linear(in_features=114, out_features=228, bias=True)\n",
       "            (1): GELU()\n",
       "            (2): Linear(in_features=228, out_features=114, bias=True)\n",
       "          )\n",
       "          (norm2): LayerNorm((114,), eps=1e-05, elementwise_affine=True)\n",
       "          (dropout): Dropout(p=0, inplace=False)\n",
       "        )\n",
       "      )\n",
       "    )\n",
       "  )\n",
       "  (linear): Linear(in_features=7296, out_features=10, bias=True)\n",
       "  (positional_encoding): PositionalEncoding(\n",
       "    (dropout): Dropout(p=0, inplace=False)\n",
       "  )\n",
       ")"
      ]
     },
     "execution_count": 11,
     "metadata": {},
     "output_type": "execute_result"
    }
   ],
   "source": [
    "vit_mixer"
   ]
  },
  {
   "cell_type": "code",
   "execution_count": 12,
   "id": "70b3d019",
   "metadata": {},
   "outputs": [
    {
     "data": {
      "text/plain": [
       "torch.Size([1, 10])"
      ]
     },
     "execution_count": 12,
     "metadata": {},
     "output_type": "execute_result"
    }
   ],
   "source": [
    "vit_mixer(torch.randn(1, 3, 32, 32)).shape"
   ]
  },
  {
   "cell_type": "code",
   "execution_count": 13,
   "id": "08f3ab4e",
   "metadata": {},
   "outputs": [
    {
     "ename": "NameError",
     "evalue": "name 'asdasd' is not defined",
     "output_type": "error",
     "traceback": [
      "\u001b[0;31m---------------------------------------------------------------------------\u001b[0m",
      "\u001b[0;31mNameError\u001b[0m                                 Traceback (most recent call last)",
      "Input \u001b[0;32mIn [13]\u001b[0m, in \u001b[0;36m<cell line: 1>\u001b[0;34m()\u001b[0m\n\u001b[0;32m----> 1\u001b[0m \u001b[43masdasd\u001b[49m\n",
      "\u001b[0;31mNameError\u001b[0m: name 'asdasd' is not defined"
     ]
    }
   ],
   "source": [
    "asdasd"
   ]
  },
  {
   "cell_type": "markdown",
   "id": "bfbefc39",
   "metadata": {},
   "source": [
    "#### Final Model"
   ]
  },
  {
   "cell_type": "code",
   "execution_count": 14,
   "id": "31be60c9",
   "metadata": {},
   "outputs": [
    {
     "name": "stdout",
     "output_type": "stream",
     "text": [
      "ViT Mixer : Channes per patch -> Initial:48 Final:114\n",
      "[2, 3, 6, 19, 38, 57, 114]\n",
      "Num patches 64\n",
      "114 6\n"
     ]
    }
   ],
   "source": [
    "torch.manual_seed(SEED)\n",
    "# model = ViT_Classifier((3, 32, 32), patch_size=[4, 4], hidden_expansion=2.4, num_blocks=6, num_classes=10, pos_emb=False)\n",
    "model = Mixer_ViT_Classifier((3, 32, 32), patch_size=[4, 4], hidden_expansion=2.4, num_blocks=2, num_classes=10)\n",
    "model = model.to(device)"
   ]
  },
  {
   "cell_type": "code",
   "execution_count": 15,
   "id": "e411715d",
   "metadata": {},
   "outputs": [
    {
     "data": {
      "text/plain": [
       "Mixer_ViT_Classifier(\n",
       "  (unfold): Unfold(kernel_size=[4, 4], dilation=1, padding=0, stride=[4, 4])\n",
       "  (channel_change): Linear(in_features=48, out_features=114, bias=True)\n",
       "  (transformer_blocks): Sequential(\n",
       "    (0): Mixer_TransformerBlock_Encoder(\n",
       "      (sparse_transformers): ModuleList(\n",
       "        (0): Sparse_TransformerBlock(\n",
       "          (attention): SelfAttention_Sparse(\n",
       "            (values): Linear(in_features=114, out_features=114, bias=True)\n",
       "            (keys): Linear(in_features=114, out_features=114, bias=True)\n",
       "            (queries): Linear(in_features=114, out_features=114, bias=True)\n",
       "            (fc_out): Linear(in_features=114, out_features=114, bias=True)\n",
       "          )\n",
       "          (norm1): LayerNorm((114,), eps=1e-05, elementwise_affine=True)\n",
       "          (feed_forward): Sequential(\n",
       "            (0): Linear(in_features=114, out_features=228, bias=True)\n",
       "            (1): GELU()\n",
       "            (2): Linear(in_features=228, out_features=114, bias=True)\n",
       "          )\n",
       "          (norm2): LayerNorm((114,), eps=1e-05, elementwise_affine=True)\n",
       "          (dropout): Dropout(p=0, inplace=False)\n",
       "        )\n",
       "        (1): Sparse_TransformerBlock(\n",
       "          (attention): SelfAttention_Sparse(\n",
       "            (values): Linear(in_features=114, out_features=114, bias=True)\n",
       "            (keys): Linear(in_features=114, out_features=114, bias=True)\n",
       "            (queries): Linear(in_features=114, out_features=114, bias=True)\n",
       "            (fc_out): Linear(in_features=114, out_features=114, bias=True)\n",
       "          )\n",
       "          (norm1): LayerNorm((114,), eps=1e-05, elementwise_affine=True)\n",
       "          (feed_forward): Sequential(\n",
       "            (0): Linear(in_features=114, out_features=228, bias=True)\n",
       "            (1): GELU()\n",
       "            (2): Linear(in_features=228, out_features=114, bias=True)\n",
       "          )\n",
       "          (norm2): LayerNorm((114,), eps=1e-05, elementwise_affine=True)\n",
       "          (dropout): Dropout(p=0, inplace=False)\n",
       "        )\n",
       "        (2): Sparse_TransformerBlock(\n",
       "          (attention): SelfAttention_Sparse(\n",
       "            (values): Linear(in_features=114, out_features=114, bias=True)\n",
       "            (keys): Linear(in_features=114, out_features=114, bias=True)\n",
       "            (queries): Linear(in_features=114, out_features=114, bias=True)\n",
       "            (fc_out): Linear(in_features=114, out_features=114, bias=True)\n",
       "          )\n",
       "          (norm1): LayerNorm((114,), eps=1e-05, elementwise_affine=True)\n",
       "          (feed_forward): Sequential(\n",
       "            (0): Linear(in_features=114, out_features=228, bias=True)\n",
       "            (1): GELU()\n",
       "            (2): Linear(in_features=228, out_features=114, bias=True)\n",
       "          )\n",
       "          (norm2): LayerNorm((114,), eps=1e-05, elementwise_affine=True)\n",
       "          (dropout): Dropout(p=0, inplace=False)\n",
       "        )\n",
       "      )\n",
       "    )\n",
       "    (1): Mixer_TransformerBlock_Encoder(\n",
       "      (sparse_transformers): ModuleList(\n",
       "        (0): Sparse_TransformerBlock(\n",
       "          (attention): SelfAttention_Sparse(\n",
       "            (values): Linear(in_features=114, out_features=114, bias=True)\n",
       "            (keys): Linear(in_features=114, out_features=114, bias=True)\n",
       "            (queries): Linear(in_features=114, out_features=114, bias=True)\n",
       "            (fc_out): Linear(in_features=114, out_features=114, bias=True)\n",
       "          )\n",
       "          (norm1): LayerNorm((114,), eps=1e-05, elementwise_affine=True)\n",
       "          (feed_forward): Sequential(\n",
       "            (0): Linear(in_features=114, out_features=228, bias=True)\n",
       "            (1): GELU()\n",
       "            (2): Linear(in_features=228, out_features=114, bias=True)\n",
       "          )\n",
       "          (norm2): LayerNorm((114,), eps=1e-05, elementwise_affine=True)\n",
       "          (dropout): Dropout(p=0, inplace=False)\n",
       "        )\n",
       "        (1): Sparse_TransformerBlock(\n",
       "          (attention): SelfAttention_Sparse(\n",
       "            (values): Linear(in_features=114, out_features=114, bias=True)\n",
       "            (keys): Linear(in_features=114, out_features=114, bias=True)\n",
       "            (queries): Linear(in_features=114, out_features=114, bias=True)\n",
       "            (fc_out): Linear(in_features=114, out_features=114, bias=True)\n",
       "          )\n",
       "          (norm1): LayerNorm((114,), eps=1e-05, elementwise_affine=True)\n",
       "          (feed_forward): Sequential(\n",
       "            (0): Linear(in_features=114, out_features=228, bias=True)\n",
       "            (1): GELU()\n",
       "            (2): Linear(in_features=228, out_features=114, bias=True)\n",
       "          )\n",
       "          (norm2): LayerNorm((114,), eps=1e-05, elementwise_affine=True)\n",
       "          (dropout): Dropout(p=0, inplace=False)\n",
       "        )\n",
       "        (2): Sparse_TransformerBlock(\n",
       "          (attention): SelfAttention_Sparse(\n",
       "            (values): Linear(in_features=114, out_features=114, bias=True)\n",
       "            (keys): Linear(in_features=114, out_features=114, bias=True)\n",
       "            (queries): Linear(in_features=114, out_features=114, bias=True)\n",
       "            (fc_out): Linear(in_features=114, out_features=114, bias=True)\n",
       "          )\n",
       "          (norm1): LayerNorm((114,), eps=1e-05, elementwise_affine=True)\n",
       "          (feed_forward): Sequential(\n",
       "            (0): Linear(in_features=114, out_features=228, bias=True)\n",
       "            (1): GELU()\n",
       "            (2): Linear(in_features=228, out_features=114, bias=True)\n",
       "          )\n",
       "          (norm2): LayerNorm((114,), eps=1e-05, elementwise_affine=True)\n",
       "          (dropout): Dropout(p=0, inplace=False)\n",
       "        )\n",
       "      )\n",
       "    )\n",
       "  )\n",
       "  (linear): Linear(in_features=7296, out_features=10, bias=True)\n",
       "  (positional_encoding): PositionalEncoding(\n",
       "    (dropout): Dropout(p=0, inplace=False)\n",
       "  )\n",
       ")"
      ]
     },
     "execution_count": 15,
     "metadata": {},
     "output_type": "execute_result"
    }
   ],
   "source": [
    "model"
   ]
  },
  {
   "cell_type": "code",
   "execution_count": 16,
   "id": "196fe4cf",
   "metadata": {},
   "outputs": [
    {
     "name": "stdout",
     "output_type": "stream",
     "text": [
      "number of params:  709888\n"
     ]
    }
   ],
   "source": [
    "print(\"number of params: \", sum(p.numel() for p in model.parameters())) \n",
    "## Patch ||  1137220\n",
    "## Mixer ||  1141703\n",
    "## ViT   ||  1130776 / 1341220 (1) / 1025554 (2) \n",
    "## SMViT ||  1341220 / 1025554 (1) / 709888 (2) "
   ]
  },
  {
   "cell_type": "markdown",
   "id": "d59b49dd",
   "metadata": {},
   "source": [
    "## Training"
   ]
  },
  {
   "cell_type": "code",
   "execution_count": 17,
   "id": "e5cd35f5",
   "metadata": {},
   "outputs": [],
   "source": [
    "# model_name = f'vit_mixer_c10_s{SEED}'\n",
    "# model_name = f'vit_pe_mixer_c10_s{SEED}'\n",
    "\n",
    "# model_name = f'vit_sparse_mixer_c10_s{SEED}' ## sparse but with 12 layers total\n",
    "# model_name = f'vit1_mixer_c10_s{SEED}' ## with 12 layers for comparision\n",
    "# model_name = f'vit1_sparse_mixer_c10_s{SEED}' ## sparse with 9 layers for reference\n",
    "# model_name = f'vit2_mixer_c10_s{SEED}' ## with 9 layers for reference\n",
    "model_name = f'vit2_sparse_mixer_c10_s{SEED}' ## sparse with 6 layers for reference"
   ]
  },
  {
   "cell_type": "code",
   "execution_count": 18,
   "id": "66447d12",
   "metadata": {},
   "outputs": [],
   "source": [
    "EPOCHS = 200\n",
    "criterion = nn.CrossEntropyLoss()\n",
    "optimizer = torch.optim.Adam(model.parameters(), lr=0.0001)\n",
    "scheduler = torch.optim.lr_scheduler.CosineAnnealingLR(optimizer, T_max=EPOCHS)"
   ]
  },
  {
   "cell_type": "code",
   "execution_count": 19,
   "id": "13f63463",
   "metadata": {},
   "outputs": [],
   "source": [
    "STAT ={'train_stat':[], 'test_stat':[]}"
   ]
  },
  {
   "cell_type": "code",
   "execution_count": 20,
   "id": "f4d9af8f",
   "metadata": {},
   "outputs": [],
   "source": [
    "## Following is copied from \n",
    "### https://github.com/kuangliu/pytorch-cifar/blob/master/main.py\n",
    "\n",
    "# Training\n",
    "def train(epoch):\n",
    "    model.train()\n",
    "    train_loss = 0\n",
    "    correct = 0\n",
    "    total = 0\n",
    "    for batch_idx, (inputs, targets) in enumerate(tqdm(train_loader)):\n",
    "        inputs, targets = inputs.to(device), targets.to(device)\n",
    "        optimizer.zero_grad()\n",
    "        outputs = model(inputs)\n",
    "        loss = criterion(outputs, targets)\n",
    "        loss.backward()\n",
    "        optimizer.step()\n",
    "\n",
    "        train_loss += loss.item()\n",
    "        _, predicted = outputs.max(1)\n",
    "        total += targets.size(0)\n",
    "        correct += predicted.eq(targets).sum().item()\n",
    "        \n",
    "    STAT['train_stat'].append((epoch, train_loss/(batch_idx+1), 100.*correct/total)) ### (Epochs, Loss, Acc)\n",
    "    print(f\"[Train] {epoch} Loss: {train_loss/(batch_idx+1):.3f} | Acc: {100.*correct/total:.3f} {correct}/{total}\")\n",
    "    return"
   ]
  },
  {
   "cell_type": "code",
   "execution_count": 21,
   "id": "32895df8",
   "metadata": {},
   "outputs": [],
   "source": [
    "best_acc = -1\n",
    "def test(epoch):\n",
    "    global best_acc\n",
    "    model.eval()\n",
    "    test_loss = 0\n",
    "    correct = 0\n",
    "    total = 0\n",
    "    with torch.no_grad():\n",
    "        for batch_idx, (inputs, targets) in enumerate(tqdm(test_loader)):\n",
    "            inputs, targets = inputs.to(device), targets.to(device)\n",
    "            outputs = model(inputs)\n",
    "            loss = criterion(outputs, targets)\n",
    "\n",
    "            test_loss += loss.item()\n",
    "            _, predicted = outputs.max(1)\n",
    "            total += targets.size(0)\n",
    "            correct += predicted.eq(targets).sum().item()\n",
    "            \n",
    "    STAT['test_stat'].append((epoch, test_loss/(batch_idx+1), 100.*correct/total)) ### (Epochs, Loss, Acc)\n",
    "    print(f\"[Test] {epoch} Loss: {test_loss/(batch_idx+1):.3f} | Acc: {100.*correct/total:.3f} {correct}/{total}\")\n",
    "    \n",
    "    # Save checkpoint.\n",
    "    acc = 100.*correct/total\n",
    "    if acc > best_acc:\n",
    "        print('Saving..')\n",
    "        state = {\n",
    "            'model': model.state_dict(),\n",
    "            'acc': acc,\n",
    "            'epoch': epoch\n",
    "        }\n",
    "        if not os.path.isdir('models'):\n",
    "            os.mkdir('models')\n",
    "        torch.save(state, f'./models/{model_name}.pth')\n",
    "        best_acc = acc\n",
    "        \n",
    "    with open(f\"./output/{model_name}_data.json\", 'w') as f:\n",
    "        json.dump(STAT, f, indent=0)"
   ]
  },
  {
   "cell_type": "code",
   "execution_count": 22,
   "id": "888d57ff",
   "metadata": {},
   "outputs": [],
   "source": [
    "start_epoch = 0  # start from epoch 0 or last checkpoint epoch\n",
    "resume = False\n",
    "\n",
    "if resume:\n",
    "    # Load checkpoint.\n",
    "    print('==> Resuming from checkpoint..')\n",
    "    assert os.path.isdir('./models'), 'Error: no checkpoint directory found!'\n",
    "    checkpoint = torch.load(f'./models/{model_name}.pth')\n",
    "    model.load_state_dict(checkpoint['model'])\n",
    "    best_acc = checkpoint['acc']\n",
    "    start_epoch = checkpoint['epoch']"
   ]
  },
  {
   "cell_type": "code",
   "execution_count": null,
   "id": "a14a607d",
   "metadata": {},
   "outputs": [
    {
     "name": "stderr",
     "output_type": "stream",
     "text": [
      "100%|█████████████████████████████████████████████████| 1563/1563 [00:23<00:00, 66.23it/s]\n"
     ]
    },
    {
     "name": "stdout",
     "output_type": "stream",
     "text": [
      "[Train] 0 Loss: 1.667 | Acc: 39.500 19750/50000\n"
     ]
    },
    {
     "name": "stderr",
     "output_type": "stream",
     "text": [
      "100%|██████████████████████████████████████████████████| 313/313 [00:01<00:00, 175.57it/s]\n"
     ]
    },
    {
     "name": "stdout",
     "output_type": "stream",
     "text": [
      "[Test] 0 Loss: 1.381 | Acc: 50.260 5026/10000\n",
      "Saving..\n"
     ]
    },
    {
     "name": "stderr",
     "output_type": "stream",
     "text": [
      "100%|█████████████████████████████████████████████████| 1563/1563 [00:23<00:00, 65.89it/s]\n"
     ]
    },
    {
     "name": "stdout",
     "output_type": "stream",
     "text": [
      "[Train] 1 Loss: 1.397 | Acc: 49.344 24672/50000\n"
     ]
    },
    {
     "name": "stderr",
     "output_type": "stream",
     "text": [
      "100%|██████████████████████████████████████████████████| 313/313 [00:01<00:00, 186.79it/s]\n"
     ]
    },
    {
     "name": "stdout",
     "output_type": "stream",
     "text": [
      "[Test] 1 Loss: 1.204 | Acc: 57.060 5706/10000\n",
      "Saving..\n"
     ]
    },
    {
     "name": "stderr",
     "output_type": "stream",
     "text": [
      "100%|█████████████████████████████████████████████████| 1563/1563 [00:23<00:00, 65.62it/s]\n"
     ]
    },
    {
     "name": "stdout",
     "output_type": "stream",
     "text": [
      "[Train] 2 Loss: 1.233 | Acc: 55.632 27816/50000\n"
     ]
    },
    {
     "name": "stderr",
     "output_type": "stream",
     "text": [
      "100%|██████████████████████████████████████████████████| 313/313 [00:01<00:00, 195.16it/s]\n"
     ]
    },
    {
     "name": "stdout",
     "output_type": "stream",
     "text": [
      "[Test] 2 Loss: 1.098 | Acc: 62.000 6200/10000\n",
      "Saving..\n"
     ]
    },
    {
     "name": "stderr",
     "output_type": "stream",
     "text": [
      "100%|█████████████████████████████████████████████████| 1563/1563 [00:23<00:00, 65.69it/s]\n"
     ]
    },
    {
     "name": "stdout",
     "output_type": "stream",
     "text": [
      "[Train] 4 Loss: 1.056 | Acc: 62.406 31203/50000\n"
     ]
    },
    {
     "name": "stderr",
     "output_type": "stream",
     "text": [
      "100%|██████████████████████████████████████████████████| 313/313 [00:01<00:00, 195.50it/s]\n"
     ]
    },
    {
     "name": "stdout",
     "output_type": "stream",
     "text": [
      "[Test] 4 Loss: 0.956 | Acc: 66.670 6667/10000\n",
      "Saving..\n"
     ]
    },
    {
     "name": "stderr",
     "output_type": "stream",
     "text": [
      "100%|█████████████████████████████████████████████████| 1563/1563 [00:23<00:00, 65.83it/s]\n"
     ]
    },
    {
     "name": "stdout",
     "output_type": "stream",
     "text": [
      "[Train] 5 Loss: 1.005 | Acc: 64.482 32241/50000\n"
     ]
    },
    {
     "name": "stderr",
     "output_type": "stream",
     "text": [
      "100%|██████████████████████████████████████████████████| 313/313 [00:01<00:00, 184.19it/s]\n"
     ]
    },
    {
     "name": "stdout",
     "output_type": "stream",
     "text": [
      "[Test] 5 Loss: 0.920 | Acc: 68.000 6800/10000\n",
      "Saving..\n"
     ]
    },
    {
     "name": "stderr",
     "output_type": "stream",
     "text": [
      " 79%|██████████████████████████████████████▌          | 1230/1563 [00:18<00:05, 66.24it/s]"
     ]
    }
   ],
   "source": [
    "### Train the whole damn thing\n",
    "\n",
    "for epoch in range(start_epoch, start_epoch+EPOCHS): ## for 200 epochs\n",
    "    train(epoch)\n",
    "    test(epoch)\n",
    "    scheduler.step()"
   ]
  },
  {
   "cell_type": "code",
   "execution_count": 77,
   "id": "7846a79f",
   "metadata": {},
   "outputs": [
    {
     "data": {
      "text/plain": [
       "82.47"
      ]
     },
     "execution_count": 77,
     "metadata": {},
     "output_type": "execute_result"
    }
   ],
   "source": [
    "best_acc"
   ]
  },
  {
   "cell_type": "code",
   "execution_count": 78,
   "id": "f7803b1d",
   "metadata": {},
   "outputs": [
    {
     "data": {
      "text/plain": [
       "(82.47, 98)"
      ]
     },
     "execution_count": 78,
     "metadata": {},
     "output_type": "execute_result"
    }
   ],
   "source": [
    "checkpoint = torch.load(f'./models/{model_name}.pth')\n",
    "best_acc = checkpoint['acc']\n",
    "start_epoch = checkpoint['epoch']\n",
    "\n",
    "best_acc, start_epoch"
   ]
  },
  {
   "cell_type": "code",
   "execution_count": 79,
   "id": "cd066276",
   "metadata": {},
   "outputs": [],
   "source": [
    "### the expansion is 2.4\n",
    "### 83.69 for 12 layers sparse vit\n",
    "### 82.46 for 12 layers vit\n",
    "### 82.57 for 10 layers vit\n",
    "### 84.84 for 9 = (3*3) layers sparse vit\n",
    "### 82.47 for 9 layers vit"
   ]
  },
  {
   "cell_type": "code",
   "execution_count": 80,
   "id": "d0c6a6aa",
   "metadata": {},
   "outputs": [
    {
     "data": {
      "text/plain": [
       "<All keys matched successfully>"
      ]
     },
     "execution_count": 80,
     "metadata": {},
     "output_type": "execute_result"
    }
   ],
   "source": [
    "model.load_state_dict(checkpoint['model'])"
   ]
  },
  {
   "cell_type": "code",
   "execution_count": 81,
   "id": "c55759f1",
   "metadata": {},
   "outputs": [
    {
     "data": {
      "text/plain": [
       "ViT_Classifier(\n",
       "  (unfold): Unfold(kernel_size=[4, 4], dilation=1, padding=0, stride=[4, 4])\n",
       "  (channel_change): Linear(in_features=48, out_features=114, bias=True)\n",
       "  (transformer_blocks): Sequential(\n",
       "    (0): TransformerBlock(\n",
       "      (attention): SelfAttention(\n",
       "        (values): Linear(in_features=114, out_features=114, bias=True)\n",
       "        (keys): Linear(in_features=114, out_features=114, bias=True)\n",
       "        (queries): Linear(in_features=114, out_features=114, bias=True)\n",
       "        (fc_out): Linear(in_features=114, out_features=114, bias=True)\n",
       "      )\n",
       "      (norm1): LayerNorm((114,), eps=1e-05, elementwise_affine=True)\n",
       "      (norm2): LayerNorm((114,), eps=1e-05, elementwise_affine=True)\n",
       "      (feed_forward): Sequential(\n",
       "        (0): Linear(in_features=114, out_features=228, bias=True)\n",
       "        (1): GELU()\n",
       "        (2): Linear(in_features=228, out_features=114, bias=True)\n",
       "      )\n",
       "      (dropout): Dropout(p=0, inplace=False)\n",
       "    )\n",
       "    (1): TransformerBlock(\n",
       "      (attention): SelfAttention(\n",
       "        (values): Linear(in_features=114, out_features=114, bias=True)\n",
       "        (keys): Linear(in_features=114, out_features=114, bias=True)\n",
       "        (queries): Linear(in_features=114, out_features=114, bias=True)\n",
       "        (fc_out): Linear(in_features=114, out_features=114, bias=True)\n",
       "      )\n",
       "      (norm1): LayerNorm((114,), eps=1e-05, elementwise_affine=True)\n",
       "      (norm2): LayerNorm((114,), eps=1e-05, elementwise_affine=True)\n",
       "      (feed_forward): Sequential(\n",
       "        (0): Linear(in_features=114, out_features=228, bias=True)\n",
       "        (1): GELU()\n",
       "        (2): Linear(in_features=228, out_features=114, bias=True)\n",
       "      )\n",
       "      (dropout): Dropout(p=0, inplace=False)\n",
       "    )\n",
       "    (2): TransformerBlock(\n",
       "      (attention): SelfAttention(\n",
       "        (values): Linear(in_features=114, out_features=114, bias=True)\n",
       "        (keys): Linear(in_features=114, out_features=114, bias=True)\n",
       "        (queries): Linear(in_features=114, out_features=114, bias=True)\n",
       "        (fc_out): Linear(in_features=114, out_features=114, bias=True)\n",
       "      )\n",
       "      (norm1): LayerNorm((114,), eps=1e-05, elementwise_affine=True)\n",
       "      (norm2): LayerNorm((114,), eps=1e-05, elementwise_affine=True)\n",
       "      (feed_forward): Sequential(\n",
       "        (0): Linear(in_features=114, out_features=228, bias=True)\n",
       "        (1): GELU()\n",
       "        (2): Linear(in_features=228, out_features=114, bias=True)\n",
       "      )\n",
       "      (dropout): Dropout(p=0, inplace=False)\n",
       "    )\n",
       "    (3): TransformerBlock(\n",
       "      (attention): SelfAttention(\n",
       "        (values): Linear(in_features=114, out_features=114, bias=True)\n",
       "        (keys): Linear(in_features=114, out_features=114, bias=True)\n",
       "        (queries): Linear(in_features=114, out_features=114, bias=True)\n",
       "        (fc_out): Linear(in_features=114, out_features=114, bias=True)\n",
       "      )\n",
       "      (norm1): LayerNorm((114,), eps=1e-05, elementwise_affine=True)\n",
       "      (norm2): LayerNorm((114,), eps=1e-05, elementwise_affine=True)\n",
       "      (feed_forward): Sequential(\n",
       "        (0): Linear(in_features=114, out_features=228, bias=True)\n",
       "        (1): GELU()\n",
       "        (2): Linear(in_features=228, out_features=114, bias=True)\n",
       "      )\n",
       "      (dropout): Dropout(p=0, inplace=False)\n",
       "    )\n",
       "    (4): TransformerBlock(\n",
       "      (attention): SelfAttention(\n",
       "        (values): Linear(in_features=114, out_features=114, bias=True)\n",
       "        (keys): Linear(in_features=114, out_features=114, bias=True)\n",
       "        (queries): Linear(in_features=114, out_features=114, bias=True)\n",
       "        (fc_out): Linear(in_features=114, out_features=114, bias=True)\n",
       "      )\n",
       "      (norm1): LayerNorm((114,), eps=1e-05, elementwise_affine=True)\n",
       "      (norm2): LayerNorm((114,), eps=1e-05, elementwise_affine=True)\n",
       "      (feed_forward): Sequential(\n",
       "        (0): Linear(in_features=114, out_features=228, bias=True)\n",
       "        (1): GELU()\n",
       "        (2): Linear(in_features=228, out_features=114, bias=True)\n",
       "      )\n",
       "      (dropout): Dropout(p=0, inplace=False)\n",
       "    )\n",
       "    (5): TransformerBlock(\n",
       "      (attention): SelfAttention(\n",
       "        (values): Linear(in_features=114, out_features=114, bias=True)\n",
       "        (keys): Linear(in_features=114, out_features=114, bias=True)\n",
       "        (queries): Linear(in_features=114, out_features=114, bias=True)\n",
       "        (fc_out): Linear(in_features=114, out_features=114, bias=True)\n",
       "      )\n",
       "      (norm1): LayerNorm((114,), eps=1e-05, elementwise_affine=True)\n",
       "      (norm2): LayerNorm((114,), eps=1e-05, elementwise_affine=True)\n",
       "      (feed_forward): Sequential(\n",
       "        (0): Linear(in_features=114, out_features=228, bias=True)\n",
       "        (1): GELU()\n",
       "        (2): Linear(in_features=228, out_features=114, bias=True)\n",
       "      )\n",
       "      (dropout): Dropout(p=0, inplace=False)\n",
       "    )\n",
       "    (6): TransformerBlock(\n",
       "      (attention): SelfAttention(\n",
       "        (values): Linear(in_features=114, out_features=114, bias=True)\n",
       "        (keys): Linear(in_features=114, out_features=114, bias=True)\n",
       "        (queries): Linear(in_features=114, out_features=114, bias=True)\n",
       "        (fc_out): Linear(in_features=114, out_features=114, bias=True)\n",
       "      )\n",
       "      (norm1): LayerNorm((114,), eps=1e-05, elementwise_affine=True)\n",
       "      (norm2): LayerNorm((114,), eps=1e-05, elementwise_affine=True)\n",
       "      (feed_forward): Sequential(\n",
       "        (0): Linear(in_features=114, out_features=228, bias=True)\n",
       "        (1): GELU()\n",
       "        (2): Linear(in_features=228, out_features=114, bias=True)\n",
       "      )\n",
       "      (dropout): Dropout(p=0, inplace=False)\n",
       "    )\n",
       "    (7): TransformerBlock(\n",
       "      (attention): SelfAttention(\n",
       "        (values): Linear(in_features=114, out_features=114, bias=True)\n",
       "        (keys): Linear(in_features=114, out_features=114, bias=True)\n",
       "        (queries): Linear(in_features=114, out_features=114, bias=True)\n",
       "        (fc_out): Linear(in_features=114, out_features=114, bias=True)\n",
       "      )\n",
       "      (norm1): LayerNorm((114,), eps=1e-05, elementwise_affine=True)\n",
       "      (norm2): LayerNorm((114,), eps=1e-05, elementwise_affine=True)\n",
       "      (feed_forward): Sequential(\n",
       "        (0): Linear(in_features=114, out_features=228, bias=True)\n",
       "        (1): GELU()\n",
       "        (2): Linear(in_features=228, out_features=114, bias=True)\n",
       "      )\n",
       "      (dropout): Dropout(p=0, inplace=False)\n",
       "    )\n",
       "    (8): TransformerBlock(\n",
       "      (attention): SelfAttention(\n",
       "        (values): Linear(in_features=114, out_features=114, bias=True)\n",
       "        (keys): Linear(in_features=114, out_features=114, bias=True)\n",
       "        (queries): Linear(in_features=114, out_features=114, bias=True)\n",
       "        (fc_out): Linear(in_features=114, out_features=114, bias=True)\n",
       "      )\n",
       "      (norm1): LayerNorm((114,), eps=1e-05, elementwise_affine=True)\n",
       "      (norm2): LayerNorm((114,), eps=1e-05, elementwise_affine=True)\n",
       "      (feed_forward): Sequential(\n",
       "        (0): Linear(in_features=114, out_features=228, bias=True)\n",
       "        (1): GELU()\n",
       "        (2): Linear(in_features=228, out_features=114, bias=True)\n",
       "      )\n",
       "      (dropout): Dropout(p=0, inplace=False)\n",
       "    )\n",
       "  )\n",
       "  (linear): Linear(in_features=7296, out_features=10, bias=True)\n",
       "  (positional_encoding): Identity()\n",
       ")"
      ]
     },
     "execution_count": 81,
     "metadata": {},
     "output_type": "execute_result"
    }
   ],
   "source": [
    "model"
   ]
  },
  {
   "cell_type": "code",
   "execution_count": 82,
   "id": "a9bf1676",
   "metadata": {},
   "outputs": [],
   "source": [
    "with open(f\"./output/{model_name}_data.json\", 'r') as f:\n",
    "    STAT = json.load(f)"
   ]
  },
  {
   "cell_type": "code",
   "execution_count": 61,
   "id": "13a339d0",
   "metadata": {},
   "outputs": [
    {
     "data": {
      "text/plain": [
       "{'train_stat': [[0, 1.64857236990468, 40.186],\n",
       "  [1, 1.3557243161070294, 51.096],\n",
       "  [2, 1.182274909295566, 57.64],\n",
       "  [3, 1.0808414328349987, 61.36],\n",
       "  [4, 1.0064270915850873, 64.338],\n",
       "  [5, 0.9455312345741806, 66.362],\n",
       "  [6, 0.8986483855424443, 67.998],\n",
       "  [7, 0.8519331804278258, 69.918],\n",
       "  [8, 0.81793788400546, 71.302],\n",
       "  [9, 0.7926781849455391, 72.198],\n",
       "  [10, 0.7659837067203498, 72.882],\n",
       "  [11, 0.7400098360469535, 73.926],\n",
       "  [12, 0.7146910255010969, 74.692],\n",
       "  [13, 0.6990321012486728, 75.322],\n",
       "  [14, 0.6821753492796947, 76.108],\n",
       "  [15, 0.663749609745548, 76.692],\n",
       "  [16, 0.6464796462313761, 77.17],\n",
       "  [17, 0.6336121608432256, 77.462],\n",
       "  [18, 0.6217439731515072, 78.048],\n",
       "  [19, 0.6070728417931652, 78.496],\n",
       "  [20, 0.5963771746220378, 78.986],\n",
       "  [21, 0.579009793255471, 79.556],\n",
       "  [22, 0.5735949757994556, 79.62],\n",
       "  [23, 0.557093472651999, 80.442],\n",
       "  [24, 0.5492783052392747, 80.678],\n",
       "  [25, 0.5422602551092495, 81.022],\n",
       "  [26, 0.5323839328387039, 81.09],\n",
       "  [27, 0.5216637609749365, 81.674],\n",
       "  [28, 0.5128370534702515, 81.768],\n",
       "  [29, 0.5038699361943161, 82.14],\n",
       "  [30, 0.48883610512401077, 82.734],\n",
       "  [31, 0.4883533671584102, 82.826],\n",
       "  [32, 0.4777428074236375, 83.036],\n",
       "  [33, 0.4688370318669809, 83.418],\n",
       "  [34, 0.4606219865882237, 83.712],\n",
       "  [35, 0.4562747261116921, 83.826],\n",
       "  [36, 0.44257581718289846, 84.438],\n",
       "  [37, 0.4382918247773109, 84.532],\n",
       "  [38, 0.4309350669679547, 84.846],\n",
       "  [39, 0.4273343623132562, 84.828],\n",
       "  [40, 0.4196970942105457, 85.118],\n",
       "  [41, 0.4116654730642063, 85.388],\n",
       "  [42, 0.4038471998271466, 85.574],\n",
       "  [43, 0.40355896327217955, 85.518],\n",
       "  [44, 0.39450915482417176, 85.968],\n",
       "  [45, 0.3851452886543439, 86.344],\n",
       "  [46, 0.3789462518478462, 86.448],\n",
       "  [47, 0.37715974432950744, 86.432],\n",
       "  [48, 0.3674282892747179, 86.942],\n",
       "  [49, 0.36336749835000615, 86.998],\n",
       "  [50, 0.3560265081786263, 87.478],\n",
       "  [51, 0.346908771574154, 87.49],\n",
       "  [52, 0.34479990978358804, 87.802],\n",
       "  [53, 0.3400956215009198, 87.81],\n",
       "  [54, 0.3356416776909785, 88.044],\n",
       "  [55, 0.3266216377803361, 88.22],\n",
       "  [56, 0.31965662308766607, 88.542],\n",
       "  [57, 0.3171779076954301, 88.612],\n",
       "  [58, 0.31632991497639046, 88.808],\n",
       "  [59, 0.3079876866923337, 88.906],\n",
       "  [60, 0.3052828640403537, 89.05],\n",
       "  [61, 0.2977849585162053, 89.434],\n",
       "  [62, 0.29868462225106457, 89.32],\n",
       "  [63, 0.2868071085417683, 89.614],\n",
       "  [64, 0.28392588585062206, 89.924],\n",
       "  [65, 0.2794807923448845, 89.924],\n",
       "  [66, 0.2769994634541463, 90.032],\n",
       "  [67, 0.2719465401702902, 90.164],\n",
       "  [68, 0.2662746327776064, 90.478],\n",
       "  [69, 0.26613858013615843, 90.442],\n",
       "  [70, 0.2569786645722309, 90.672],\n",
       "  [71, 0.2563097200017382, 90.738],\n",
       "  [72, 0.2507242933904808, 91.036],\n",
       "  [73, 0.24497103984500457, 91.232],\n",
       "  [74, 0.2411523589522352, 91.248],\n",
       "  [75, 0.23955254977710796, 91.324],\n",
       "  [76, 0.2329954501337974, 91.564],\n",
       "  [77, 0.22728290177300162, 91.884],\n",
       "  [78, 0.2245448484256511, 91.936],\n",
       "  [79, 0.22521950684902536, 91.884],\n",
       "  [80, 0.22436590038683274, 91.866],\n",
       "  [81, 0.21422378202901482, 92.346],\n",
       "  [82, 0.21481356622087538, 92.352],\n",
       "  [83, 0.2079421010378436, 92.51],\n",
       "  [84, 0.20367523512766672, 92.542],\n",
       "  [85, 0.20292452244434842, 92.618],\n",
       "  [86, 0.19540840620204797, 92.868],\n",
       "  [87, 0.19232960648701233, 93.03],\n",
       "  [88, 0.19034475024184183, 93.128],\n",
       "  [89, 0.19252487461327533, 93.03],\n",
       "  [90, 0.18353888471637658, 93.366],\n",
       "  [91, 0.18389617633944472, 93.332],\n",
       "  [92, 0.17852127785190836, 93.584],\n",
       "  [93, 0.17149077502740112, 93.9],\n",
       "  [94, 0.17217665529611473, 93.528],\n",
       "  [95, 0.16445755386476, 94.144],\n",
       "  [96, 0.16590454358898307, 93.87],\n",
       "  [97, 0.16098601092934198, 94.182],\n",
       "  [98, 0.16024620754385674, 94.178],\n",
       "  [99, 0.1589880914773532, 94.18],\n",
       "  [100, 0.15489021068175518, 94.34],\n",
       "  [101, 0.15424749166904325, 94.454],\n",
       "  [102, 0.15083604705265544, 94.53],\n",
       "  [103, 0.1488988404460156, 94.68],\n",
       "  [104, 0.14595436383639382, 94.7],\n",
       "  [105, 0.14371680926504143, 94.738],\n",
       "  [106, 0.1387005253576972, 94.974],\n",
       "  [107, 0.13418386794176246, 95.176],\n",
       "  [108, 0.1329207139269801, 95.236],\n",
       "  [109, 0.13438497959133847, 95.094],\n",
       "  [110, 0.1258169566346684, 95.396],\n",
       "  [111, 0.12649913807965635, 95.482],\n",
       "  [112, 0.1268956885841137, 95.432],\n",
       "  [113, 0.12214028995015772, 95.588],\n",
       "  [114, 0.12026459234796455, 95.718],\n",
       "  [115, 0.11792686494497519, 95.72],\n",
       "  [116, 0.11603460734250097, 95.766],\n",
       "  [117, 0.11420656879767967, 95.962],\n",
       "  [118, 0.11138541629580842, 96.006],\n",
       "  [119, 0.10958777499603857, 96.05],\n",
       "  [120, 0.10735435788629914, 96.116],\n",
       "  [121, 0.1084502222676662, 96.076],\n",
       "  [122, 0.10352786387714914, 96.208],\n",
       "  [123, 0.10163287907393122, 96.302],\n",
       "  [124, 0.10166651790279964, 96.39],\n",
       "  [125, 0.09988820614050109, 96.324],\n",
       "  [126, 0.09497782349163728, 96.538],\n",
       "  [127, 0.09452940117161404, 96.564],\n",
       "  [128, 0.0946501444556565, 96.566],\n",
       "  [129, 0.09080560483790395, 96.65],\n",
       "  [130, 0.08917001901019868, 96.746],\n",
       "  [131, 0.0880320844251212, 96.814],\n",
       "  [132, 0.08786758914070296, 96.858],\n",
       "  [133, 0.08381925666733375, 97.012],\n",
       "  [134, 0.08348724866117294, 97.044],\n",
       "  [135, 0.08416336719031604, 96.964],\n",
       "  [136, 0.07846854299687324, 97.12],\n",
       "  [137, 0.07801880570322511, 97.204],\n",
       "  [138, 0.07904431569458224, 97.182],\n",
       "  [139, 0.07627047416648303, 97.32],\n",
       "  [140, 0.07501130159741705, 97.364],\n",
       "  [141, 0.07248975436499024, 97.446],\n",
       "  [142, 0.07464697402282257, 97.314],\n",
       "  [143, 0.07021249960246957, 97.528],\n",
       "  [144, 0.06982574080383991, 97.51],\n",
       "  [145, 0.0694995457627894, 97.562],\n",
       "  [146, 0.06688360363675218, 97.624],\n",
       "  [147, 0.06832073038122607, 97.508],\n",
       "  [148, 0.06399304732349323, 97.74],\n",
       "  [149, 0.06591335479015906, 97.69],\n",
       "  [150, 0.06176903714370447, 97.808],\n",
       "  [151, 0.06424278418018982, 97.63],\n",
       "  [152, 0.06246135959757602, 97.844],\n",
       "  [153, 0.06121210203294822, 97.832],\n",
       "  [154, 0.05911534216947408, 97.914],\n",
       "  [155, 0.05870580117749849, 97.904],\n",
       "  [156, 0.05774271339017204, 97.982],\n",
       "  [157, 0.05548444144938425, 98.122],\n",
       "  [158, 0.05639792259815176, 98.038],\n",
       "  [159, 0.05690804001534392, 97.984],\n",
       "  [160, 0.05617132612510173, 98.024],\n",
       "  [161, 0.054060715835354385, 98.094],\n",
       "  [162, 0.053766058838788613, 98.162],\n",
       "  [163, 0.053151625314470013, 98.144],\n",
       "  [164, 0.05086242689001651, 98.296],\n",
       "  [165, 0.050140843127226435, 98.296],\n",
       "  [166, 0.05207663153937292, 98.24],\n",
       "  [167, 0.050898272698174304, 98.252],\n",
       "  [168, 0.05071961419413019, 98.302],\n",
       "  [169, 0.04783706693745904, 98.362],\n",
       "  [170, 0.047443683155119196, 98.36],\n",
       "  [171, 0.047984389810342046, 98.39],\n",
       "  [172, 0.047500890520098454, 98.378],\n",
       "  [173, 0.04710888622159714, 98.412],\n",
       "  [174, 0.047399964818229834, 98.378],\n",
       "  [175, 0.04728764574360299, 98.434],\n",
       "  [176, 0.04569177800247694, 98.472],\n",
       "  [177, 0.04428643171445503, 98.474],\n",
       "  [178, 0.045950700167812476, 98.456],\n",
       "  [179, 0.04576230371137485, 98.422],\n",
       "  [180, 0.04444960335655238, 98.492],\n",
       "  [181, 0.044593816889178545, 98.516],\n",
       "  [182, 0.04373808376209081, 98.576],\n",
       "  [183, 0.044743107594040196, 98.456],\n",
       "  [184, 0.0435662111490521, 98.576],\n",
       "  [185, 0.04225652140083095, 98.626],\n",
       "  [186, 0.04393294154158695, 98.496],\n",
       "  [187, 0.04282759919264178, 98.562],\n",
       "  [188, 0.04500738147925347, 98.492],\n",
       "  [189, 0.04151689513947029, 98.61],\n",
       "  [190, 0.04206863316371101, 98.608],\n",
       "  [191, 0.044085227705390646, 98.576],\n",
       "  [192, 0.04395417939979251, 98.538],\n",
       "  [193, 0.042218076292650626, 98.542],\n",
       "  [194, 0.04159934327442953, 98.62],\n",
       "  [195, 0.040850395243402636, 98.646],\n",
       "  [196, 0.04372319078095399, 98.6],\n",
       "  [197, 0.04348175938490549, 98.574],\n",
       "  [198, 0.04179303222303475, 98.58],\n",
       "  [199, 0.04235376945073506, 98.594]],\n",
       " 'test_stat': [[0, 1.334572164585796, 52.33],\n",
       "  [1, 1.1435977075808346, 59.08],\n",
       "  [2, 1.0371076580815421, 63.35],\n",
       "  [3, 0.9708471972340593, 65.69],\n",
       "  [4, 0.8855791333765267, 69.04],\n",
       "  [5, 0.8647211147382998, 70.07],\n",
       "  [6, 0.8282057542008714, 70.85],\n",
       "  [7, 0.8271791339872744, 71.15],\n",
       "  [8, 0.8081583900573536, 71.79],\n",
       "  [9, 0.7681918437488544, 73.25],\n",
       "  [10, 0.7242090190751865, 74.63],\n",
       "  [11, 0.7232260433629679, 75.04],\n",
       "  [12, 0.7174438914171042, 75.07],\n",
       "  [13, 0.7344662322403904, 75.24],\n",
       "  [14, 0.6892763640933905, 76.57],\n",
       "  [15, 0.657221113054897, 77.66],\n",
       "  [16, 0.6798902495790975, 76.92],\n",
       "  [17, 0.6815166355321963, 77.39],\n",
       "  [18, 0.6500479242862603, 77.7],\n",
       "  [19, 0.650601688760538, 78.02],\n",
       "  [20, 0.6493141440252146, 77.98],\n",
       "  [21, 0.6319827726378608, 78.75],\n",
       "  [22, 0.6202681455939723, 78.44],\n",
       "  [23, 0.6105482453545823, 79.12],\n",
       "  [24, 0.6078098698641164, 79.69],\n",
       "  [25, 0.6134874368913639, 78.93],\n",
       "  [26, 0.6103413704866038, 79.61],\n",
       "  [27, 0.5973998391494965, 79.49],\n",
       "  [28, 0.5820523120534306, 80.37],\n",
       "  [29, 0.5916567058704151, 80.19],\n",
       "  [30, 0.5727265921358864, 80.8],\n",
       "  [31, 0.5749309267194126, 80.62],\n",
       "  [32, 0.5648162928633035, 80.92],\n",
       "  [33, 0.5561537760229537, 81.59],\n",
       "  [34, 0.5638946590903468, 81.26],\n",
       "  [35, 0.5604597849015611, 81.66],\n",
       "  [36, 0.5711693630907864, 81.63],\n",
       "  [37, 0.5493258430649297, 82.47],\n",
       "  [38, 0.5613589120653871, 81.73],\n",
       "  [39, 0.5700393118702185, 80.79],\n",
       "  [40, 0.5591617435121689, 81.64],\n",
       "  [41, 0.5627825067827876, 82.02],\n",
       "  [42, 0.5394929785983631, 82.52],\n",
       "  [43, 0.5522726040107374, 82.18],\n",
       "  [44, 0.5369352186306978, 82.31],\n",
       "  [45, 0.547064560480392, 81.95],\n",
       "  [46, 0.556842331807263, 82.04],\n",
       "  [47, 0.5499828172663149, 82.53],\n",
       "  [48, 0.5655724830187547, 81.95],\n",
       "  [49, 0.5406999900794258, 82.47],\n",
       "  [50, 0.5609280012857419, 82.17],\n",
       "  [51, 0.5375897336882144, 83.22],\n",
       "  [52, 0.5457251862691234, 82.6],\n",
       "  [53, 0.5746570884372099, 82.22],\n",
       "  [54, 0.5455072633565043, 83.0],\n",
       "  [55, 0.5368281151539982, 83.4],\n",
       "  [56, 0.5650805163021666, 82.47],\n",
       "  [57, 0.5502121909357869, 82.76],\n",
       "  [58, 0.555453456914463, 82.97],\n",
       "  [59, 0.5465382432785278, 83.09],\n",
       "  [60, 0.5471526760453234, 83.14],\n",
       "  [61, 0.5600955512243718, 82.84],\n",
       "  [62, 0.5581974430967824, 82.71],\n",
       "  [63, 0.559463939180199, 83.46],\n",
       "  [64, 0.5619877469472991, 83.24],\n",
       "  [65, 0.5556277482987593, 83.44],\n",
       "  [66, 0.5520157167753472, 83.51],\n",
       "  [67, 0.5590403002148239, 82.98],\n",
       "  [68, 0.5634072110675775, 83.65],\n",
       "  [69, 0.5593589178432291, 83.51],\n",
       "  [70, 0.5683757544468386, 83.55],\n",
       "  [71, 0.564219211260922, 83.76],\n",
       "  [72, 0.5576624894818178, 83.93],\n",
       "  [73, 0.5763258275370629, 83.38],\n",
       "  [74, 0.573931526737853, 83.72],\n",
       "  [75, 0.5735128077026754, 83.48],\n",
       "  [76, 0.5665348185517918, 84.26],\n",
       "  [77, 0.5774930826248452, 83.64],\n",
       "  [78, 0.589548402201063, 83.2],\n",
       "  [79, 0.5753720338209368, 83.54],\n",
       "  [80, 0.5777281742459669, 83.39],\n",
       "  [81, 0.5898075387738764, 83.65],\n",
       "  [82, 0.573413777203796, 83.83],\n",
       "  [83, 0.5682135899536336, 84.1],\n",
       "  [84, 0.5812812587038015, 83.99],\n",
       "  [85, 0.5989302537216546, 83.46],\n",
       "  [86, 0.6159919632699924, 83.49],\n",
       "  [87, 0.6065884490315907, 84.01],\n",
       "  [88, 0.62502349961918, 83.54],\n",
       "  [89, 0.5973907633544728, 84.01],\n",
       "  [90, 0.6093089449139067, 83.67],\n",
       "  [91, 0.6017309895362526, 83.8],\n",
       "  [92, 0.6330307946858791, 83.88],\n",
       "  [93, 0.6254929672605314, 83.46],\n",
       "  [94, 0.6281210760386607, 83.66],\n",
       "  [95, 0.643330379701651, 83.77],\n",
       "  [96, 0.6459009727350058, 83.68],\n",
       "  [97, 0.6650245525835516, 83.36],\n",
       "  [98, 0.6362006377916747, 83.64],\n",
       "  [99, 0.620980627715778, 84.2],\n",
       "  [100, 0.6490276303178015, 83.95],\n",
       "  [101, 0.6584355297316902, 84.19],\n",
       "  [102, 0.6531409107315274, 84.18],\n",
       "  [103, 0.6381280027901213, 84.66],\n",
       "  [104, 0.6407068120404935, 84.2],\n",
       "  [105, 0.6386942489507099, 84.42],\n",
       "  [106, 0.6625517053535571, 84.03],\n",
       "  [107, 0.6833627301628311, 83.38],\n",
       "  [108, 0.6759542253094549, 84.43],\n",
       "  [109, 0.6658867619405039, 84.09],\n",
       "  [110, 0.6794430478223072, 83.96],\n",
       "  [111, 0.6769886100932527, 83.94],\n",
       "  [112, 0.6694562593802286, 83.86],\n",
       "  [113, 0.6929303632138636, 84.19],\n",
       "  [114, 0.6876693646938276, 83.89],\n",
       "  [115, 0.6969352333476178, 83.98],\n",
       "  [116, 0.6962306629390286, 84.16],\n",
       "  [117, 0.6873819751534075, 83.85],\n",
       "  [118, 0.7048077499731994, 84.14],\n",
       "  [119, 0.7032746993177853, 84.2],\n",
       "  [120, 0.6936736628115653, 84.35],\n",
       "  [121, 0.7085579318193772, 84.14],\n",
       "  [122, 0.7099171158271476, 84.12],\n",
       "  [123, 0.7332481596166619, 84.06],\n",
       "  [124, 0.7230262665149455, 84.12],\n",
       "  [125, 0.7292522028261147, 84.39],\n",
       "  [126, 0.7263650730186806, 83.93],\n",
       "  [127, 0.7275855843447887, 84.43],\n",
       "  [128, 0.7160018413006284, 84.45],\n",
       "  [129, 0.7390856329446879, 84.16],\n",
       "  [130, 0.7362309559977378, 84.33],\n",
       "  [131, 0.7418781004774685, 84.16],\n",
       "  [132, 0.7340971056978923, 84.21],\n",
       "  [133, 0.7375972458777337, 84.39],\n",
       "  [134, 0.7408674065225993, 84.49],\n",
       "  [135, 0.7571235024697555, 84.44],\n",
       "  [136, 0.739191031464325, 84.61],\n",
       "  [137, 0.7674119651775819, 84.26],\n",
       "  [138, 0.7522589019246804, 84.07],\n",
       "  [139, 0.7591866810951894, 84.26],\n",
       "  [140, 0.7444580741548024, 84.39],\n",
       "  [141, 0.7671074832852085, 83.74],\n",
       "  [142, 0.7537216301590871, 84.48],\n",
       "  [143, 0.756822795047761, 84.31],\n",
       "  [144, 0.7582975356622388, 84.57],\n",
       "  [145, 0.7692651032639769, 84.25],\n",
       "  [146, 0.7664899954024833, 84.26],\n",
       "  [147, 0.7800107920845858, 84.42],\n",
       "  [148, 0.7692287541426028, 84.24],\n",
       "  [149, 0.7858748322281356, 84.17],\n",
       "  [150, 0.7748928703784276, 84.45],\n",
       "  [151, 0.7772978672418541, 84.38],\n",
       "  [152, 0.7768249915966305, 84.23],\n",
       "  [153, 0.7801947481632708, 84.41],\n",
       "  [154, 0.7696496946454501, 84.6],\n",
       "  [155, 0.7773249711880026, 84.58],\n",
       "  [156, 0.7664151307992851, 84.84],\n",
       "  [157, 0.7806510680857986, 84.4],\n",
       "  [158, 0.7867983713918648, 84.54],\n",
       "  [159, 0.7900368326087706, 84.38],\n",
       "  [160, 0.7910693500283212, 84.55],\n",
       "  [161, 0.7858476707557092, 84.6],\n",
       "  [162, 0.7879864570622246, 84.53],\n",
       "  [163, 0.7924073729753351, 84.62],\n",
       "  [164, 0.7976332887138327, 84.64],\n",
       "  [165, 0.8027788090397613, 84.37],\n",
       "  [166, 0.8008671736660095, 84.58],\n",
       "  [167, 0.8017989596494803, 84.57],\n",
       "  [168, 0.7918158373721063, 84.76],\n",
       "  [169, 0.8003012141980492, 84.73],\n",
       "  [170, 0.798584902144302, 84.73],\n",
       "  [171, 0.7954801524819705, 84.67],\n",
       "  [172, 0.7983221522556208, 84.65],\n",
       "  [173, 0.8007070971206545, 84.62],\n",
       "  [174, 0.8033933928533913, 84.64],\n",
       "  [175, 0.8034425821012487, 84.53],\n",
       "  [176, 0.7986795485686189, 84.75],\n",
       "  [177, 0.8012144629078837, 84.63],\n",
       "  [178, 0.8022976120972571, 84.7],\n",
       "  [179, 0.8050840659507404, 84.64],\n",
       "  [180, 0.8028971077100681, 84.69],\n",
       "  [181, 0.8058397385868996, 84.38],\n",
       "  [182, 0.8074364588006784, 84.59],\n",
       "  [183, 0.8024275127765589, 84.69],\n",
       "  [184, 0.8044584067672277, 84.64],\n",
       "  [185, 0.8053967461894496, 84.72],\n",
       "  [186, 0.8047431688473081, 84.63],\n",
       "  [187, 0.8045209373478382, 84.55],\n",
       "  [188, 0.8045751626020113, 84.63],\n",
       "  [189, 0.8056028270483993, 84.68],\n",
       "  [190, 0.8042479781225657, 84.63],\n",
       "  [191, 0.805067248758488, 84.59],\n",
       "  [192, 0.8044618898273681, 84.65],\n",
       "  [193, 0.804483439633474, 84.63],\n",
       "  [194, 0.8048643241041361, 84.6],\n",
       "  [195, 0.8046280222189146, 84.59],\n",
       "  [196, 0.8045887156395605, 84.65],\n",
       "  [197, 0.8046973826476751, 84.63],\n",
       "  [198, 0.8047334211372649, 84.67],\n",
       "  [199, 0.8047360961188595, 84.67]]}"
      ]
     },
     "execution_count": 61,
     "metadata": {},
     "output_type": "execute_result"
    }
   ],
   "source": [
    "STAT"
   ]
  },
  {
   "cell_type": "code",
   "execution_count": 62,
   "id": "430a42c4",
   "metadata": {},
   "outputs": [],
   "source": [
    "train_stat = np.array(STAT['train_stat'])\n",
    "test_stat = np.array(STAT['test_stat'])"
   ]
  },
  {
   "cell_type": "code",
   "execution_count": 63,
   "id": "19cc212d",
   "metadata": {},
   "outputs": [
    {
     "data": {
      "image/png": "[encoded data removed]",
      "text/plain": [
       "<Figure size 432x288 with 1 Axes>"
      ]
     },
     "metadata": {
      "needs_background": "light"
     },
     "output_type": "display_data"
    }
   ],
   "source": [
    "plt.plot(train_stat[:,1], label='train')\n",
    "plt.plot(test_stat[:,1], label='test')\n",
    "plt.ylabel(\"Loss\")\n",
    "plt.legend()\n",
    "plt.savefig(f\"./output/plots/{model_name}_loss.svg\")\n",
    "plt.show()"
   ]
  },
  {
   "cell_type": "code",
   "execution_count": 64,
   "id": "88bee5fe",
   "metadata": {},
   "outputs": [
    {
     "data": {
      "image/png": "[encoded data removed]",
      "text/plain": [
       "<Figure size 432x288 with 1 Axes>"
      ]
     },
     "metadata": {
      "needs_background": "light"
     },
     "output_type": "display_data"
    }
   ],
   "source": [
    "plt.plot(train_stat[:,2], label='train')\n",
    "plt.plot(test_stat[:,2], label='test')\n",
    "plt.ylabel(\"Accuracy\")\n",
    "plt.legend()\n",
    "plt.savefig(f\"./output/plots/{model_name}_accs.svg\")\n",
    "plt.show()"
   ]
  },
  {
   "cell_type": "code",
   "execution_count": null,
   "id": "3a77b859",
   "metadata": {},
   "outputs": [],
   "source": []
  },
  {
   "cell_type": "code",
   "execution_count": null,
   "id": "e0d174ba",
   "metadata": {},
   "outputs": [],
   "source": []
  }
 ],
 "metadata": {
  "kernelspec": {
   "display_name": "Python 3",
   "language": "python",
   "name": "python3"
  },
  "language_info": {
   "codemirror_mode": {
    "name": "ipython",
    "version": 3
   },
   "file_extension": ".py",
   "mimetype": "text/x-python",
   "name": "python",
   "nbconvert_exporter": "python",
   "pygments_lexer": "ipython3",
   "version": "3.9.7"
  }
 },
 "nbformat": 4,
 "nbformat_minor": 5
}
